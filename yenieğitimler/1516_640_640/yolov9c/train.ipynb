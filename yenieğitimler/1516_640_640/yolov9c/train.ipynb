{
  "cells": [
    {
      "cell_type": "code",
      "execution_count": 1,
      "metadata": {
        "colab": {
          "base_uri": "https://localhost:8080/"
        },
        "id": "iRGohlNhPyun",
        "outputId": "7a164c95-a6ee-4269-d3f0-d74c8aa0cffc"
      },
      "outputs": [
        {
          "output_type": "stream",
          "name": "stdout",
          "text": [
            "Wed Dec 25 10:10:07 2024       \n",
            "+---------------------------------------------------------------------------------------+\n",
            "| NVIDIA-SMI 535.104.05             Driver Version: 535.104.05   CUDA Version: 12.2     |\n",
            "|-----------------------------------------+----------------------+----------------------+\n",
            "| GPU  Name                 Persistence-M | Bus-Id        Disp.A | Volatile Uncorr. ECC |\n",
            "| Fan  Temp   Perf          Pwr:Usage/Cap |         Memory-Usage | GPU-Util  Compute M. |\n",
            "|                                         |                      |               MIG M. |\n",
            "|=========================================+======================+======================|\n",
            "|   0  NVIDIA L4                      Off | 00000000:00:03.0 Off |                    0 |\n",
            "| N/A   39C    P8              12W /  72W |      1MiB / 23034MiB |      0%      Default |\n",
            "|                                         |                      |                  N/A |\n",
            "+-----------------------------------------+----------------------+----------------------+\n",
            "                                                                                         \n",
            "+---------------------------------------------------------------------------------------+\n",
            "| Processes:                                                                            |\n",
            "|  GPU   GI   CI        PID   Type   Process name                            GPU Memory |\n",
            "|        ID   ID                                                             Usage      |\n",
            "|=======================================================================================|\n",
            "|  No running processes found                                                           |\n",
            "+---------------------------------------------------------------------------------------+\n"
          ]
        }
      ],
      "source": [
        "!nvidia-smi"
      ]
    },
    {
      "cell_type": "code",
      "execution_count": 2,
      "metadata": {
        "colab": {
          "base_uri": "https://localhost:8080/"
        },
        "id": "ZXdkG0oTP4Fp",
        "outputId": "8815868a-ffc7-43bd-de8c-01e5f991b0a7"
      },
      "outputs": [
        {
          "output_type": "stream",
          "name": "stdout",
          "text": [
            "Mounted at /content/drive\n"
          ]
        }
      ],
      "source": [
        "from google.colab import drive\n",
        "drive.mount('/content/drive')"
      ]
    },
    {
      "cell_type": "code",
      "execution_count": 3,
      "metadata": {
        "colab": {
          "base_uri": "https://localhost:8080/"
        },
        "id": "IdrfiHhUP6tY",
        "outputId": "bcb6dd8d-a5fd-4ab0-907a-a35ecd9b3d82"
      },
      "outputs": [
        {
          "output_type": "stream",
          "name": "stdout",
          "text": [
            "Archive:  /content/drive/MyDrive/+_1516_640_640_label_Car_Accident_Detection.v2i.yolov7pytorch.zip\n",
            "   creating: +_1516_640_640_label_Car Accident Detection.v2i.yolov7pytorch/\n",
            "  inflating: __MACOSX/._+_1516_640_640_label_Car Accident Detection.v2i.yolov7pytorch  \n",
            "  inflating: +_1516_640_640_label_Car Accident Detection.v2i.yolov7pytorch/README.roboflow.txt  \n",
            "  inflating: __MACOSX/+_1516_640_640_label_Car Accident Detection.v2i.yolov7pytorch/._README.roboflow.txt  \n",
            "   creating: +_1516_640_640_label_Car Accident Detection.v2i.yolov7pytorch/valid/\n",
            "  inflating: __MACOSX/+_1516_640_640_label_Car Accident Detection.v2i.yolov7pytorch/._valid  \n",
            "  inflating: +_1516_640_640_label_Car Accident Detection.v2i.yolov7pytorch/README.dataset.txt  \n",
            "  inflating: __MACOSX/+_1516_640_640_label_Car Accident Detection.v2i.yolov7pytorch/._README.dataset.txt  \n",
            "   creating: +_1516_640_640_label_Car Accident Detection.v2i.yolov7pytorch/test/\n",
            "  inflating: __MACOSX/+_1516_640_640_label_Car Accident Detection.v2i.yolov7pytorch/._test  \n",
            "  inflating: +_1516_640_640_label_Car Accident Detection.v2i.yolov7pytorch/data.yaml  \n",
            "  inflating: __MACOSX/+_1516_640_640_label_Car Accident Detection.v2i.yolov7pytorch/._data.yaml  \n",
            "   creating: +_1516_640_640_label_Car Accident Detection.v2i.yolov7pytorch/train/\n",
            "  inflating: __MACOSX/+_1516_640_640_label_Car Accident Detection.v2i.yolov7pytorch/._train  \n",
            "   creating: +_1516_640_640_label_Car Accident Detection.v2i.yolov7pytorch/valid/images/\n",
            "  inflating: __MACOSX/+_1516_640_640_label_Car Accident Detection.v2i.yolov7pytorch/valid/._images  \n",
            "   creating: +_1516_640_640_label_Car Accident Detection.v2i.yolov7pytorch/valid/labels/\n",
            "  inflating: __MACOSX/+_1516_640_640_label_Car Accident Detection.v2i.yolov7pytorch/valid/._labels  \n",
            "   creating: +_1516_640_640_label_Car Accident Detection.v2i.yolov7pytorch/test/images/\n",
            "  inflating: __MACOSX/+_1516_640_640_label_Car Accident Detection.v2i.yolov7pytorch/test/._images  \n",
            "   creating: +_1516_640_640_label_Car Accident Detection.v2i.yolov7pytorch/test/labels/\n",
            "  inflating: __MACOSX/+_1516_640_640_label_Car Accident Detection.v2i.yolov7pytorch/test/._labels  \n",
            "   creating: +_1516_640_640_label_Car Accident Detection.v2i.yolov7pytorch/train/images/\n",
            "  inflating: __MACOSX/+_1516_640_640_label_Car Accident Detection.v2i.yolov7pytorch/train/._images  \n",
            "   creating: +_1516_640_640_label_Car Accident Detection.v2i.yolov7pytorch/train/labels/\n",
            "  inflating: __MACOSX/+_1516_640_640_label_Car Accident Detection.v2i.yolov7pytorch/train/._labels  \n",
            "  inflating: +_1516_640_640_label_Car Accident Detection.v2i.yolov7pytorch/valid/images/829_jpeg_jpg.rf.264771834f5d1427467ee09c2fa952e6.jpg  \n",
            "  inflating: __MACOSX/+_1516_640_640_label_Car Accident Detection.v2i.yolov7pytorch/valid/images/._829_jpeg_jpg.rf.264771834f5d1427467ee09c2fa952e6.jpg  \n",
            "  inflating: +_1516_640_640_label_Car Accident Detection.v2i.yolov7pytorch/valid/images/Abu-Dhabi-accident-CCTV-_16d80b9b401_large_jpg.rf.3389ca60a3c0ca30d16c818faa05fbb5.jpg  \n",
            "  inflating: __MACOSX/+_1516_640_640_label_Car Accident Detection.v2i.yolov7pytorch/valid/images/._Abu-Dhabi-accident-CCTV-_16d80b9b401_large_jpg.rf.3389ca60a3c0ca30d16c818faa05fbb5.jpg  \n",
            "  inflating: +_1516_640_640_label_Car Accident Detection.v2i.yolov7pytorch/valid/images/severityV4_80_jpg.rf.e006a6facb4e0191ea0290b49879b857.jpg  \n",
            "  inflating: __MACOSX/+_1516_640_640_label_Car Accident Detection.v2i.yolov7pytorch/valid/images/._severityV4_80_jpg.rf.e006a6facb4e0191ea0290b49879b857.jpg  \n",
            "  inflating: +_1516_640_640_label_Car Accident Detection.v2i.yolov7pytorch/valid/images/traffic_img331_jpg.rf.6ac0ac1bf6756625617b11ebb72b76b5.jpg  \n",
            "  inflating: __MACOSX/+_1516_640_640_label_Car Accident Detection.v2i.yolov7pytorch/valid/images/._traffic_img331_jpg.rf.6ac0ac1bf6756625617b11ebb72b76b5.jpg  \n",
            "  inflating: +_1516_640_640_label_Car Accident Detection.v2i.yolov7pytorch/valid/images/frame_1338_jpg.rf.280bbebaf58ada3d0cb5ad8808d272d6.jpg  \n",
            "  inflating: __MACOSX/+_1516_640_640_label_Car Accident Detection.v2i.yolov7pytorch/valid/images/._frame_1338_jpg.rf.280bbebaf58ada3d0cb5ad8808d272d6.jpg  \n",
            "  inflating: +_1516_640_640_label_Car Accident Detection.v2i.yolov7pytorch/valid/images/severityV4_12_jpg.rf.19923e9de64648193debab9a7f02964f.jpg  \n",
            "  inflating: __MACOSX/+_1516_640_640_label_Car Accident Detection.v2i.yolov7pytorch/valid/images/._severityV4_12_jpg.rf.19923e9de64648193debab9a7f02964f.jpg  \n",
            "  inflating: +_1516_640_640_label_Car Accident Detection.v2i.yolov7pytorch/valid/images/test15_2_jpg.rf.4bd906f010a6a07c6db9de0af9317062.jpg  \n",
            "  inflating: __MACOSX/+_1516_640_640_label_Car Accident Detection.v2i.yolov7pytorch/valid/images/._test15_2_jpg.rf.4bd906f010a6a07c6db9de0af9317062.jpg  \n",
            "  inflating: +_1516_640_640_label_Car Accident Detection.v2i.yolov7pytorch/valid/images/Screenshot-333-_png_jpg.rf.3a6f83c3a5fa59e2cbfde43260749b52.jpg  \n",
            "  inflating: __MACOSX/+_1516_640_640_label_Car Accident Detection.v2i.yolov7pytorch/valid/images/._Screenshot-333-_png_jpg.rf.3a6f83c3a5fa59e2cbfde43260749b52.jpg  \n",
            "  inflating: +_1516_640_640_label_Car Accident Detection.v2i.yolov7pytorch/valid/images/vlcsnap-2020-01-17-03h47m53s748_png.rf.160113cec909a164e5530f09e4d7fcc3.jpg  \n",
            "  inflating: __MACOSX/+_1516_640_640_label_Car Accident Detection.v2i.yolov7pytorch/valid/images/._vlcsnap-2020-01-17-03h47m53s748_png.rf.160113cec909a164e5530f09e4d7fcc3.jpg  \n",
            "  inflating: +_1516_640_640_label_Car Accident Detection.v2i.yolov7pytorch/valid/images/download-4_jpg.rf.323968b99bff889d70b69a65e9554685.jpg  \n",
            "  inflating: __MACOSX/+_1516_640_640_label_Car Accident Detection.v2i.yolov7pytorch/valid/images/._download-4_jpg.rf.323968b99bff889d70b69a65e9554685.jpg  \n",
            "  inflating: +_1516_640_640_label_Car Accident Detection.v2i.yolov7pytorch/valid/images/accidentFrame2743_jpg.rf.6e32f6a14c0f1955d816f917f94104ad.jpg  \n",
            "  inflating: __MACOSX/+_1516_640_640_label_Car Accident Detection.v2i.yolov7pytorch/valid/images/._accidentFrame2743_jpg.rf.6e32f6a14c0f1955d816f917f94104ad.jpg  \n",
            "  inflating: +_1516_640_640_label_Car Accident Detection.v2i.yolov7pytorch/valid/images/Semi-RealisticVD-119_jpg.rf.c84629fffea4dfd5b9b035e78150a688.jpg  \n",
            "  inflating: __MACOSX/+_1516_640_640_label_Car Accident Detection.v2i.yolov7pytorch/valid/images/._Semi-RealisticVD-119_jpg.rf.c84629fffea4dfd5b9b035e78150a688.jpg  \n",
            "  inflating: +_1516_640_640_label_Car Accident Detection.v2i.yolov7pytorch/valid/images/accidentFrame458_jpg.rf.68fd3637f057ac3e30192319930fd1f4.jpg  \n",
            "  inflating: __MACOSX/+_1516_640_640_label_Car Accident Detection.v2i.yolov7pytorch/valid/images/._accidentFrame458_jpg.rf.68fd3637f057ac3e30192319930fd1f4.jpg  \n",
            "  inflating: +_1516_640_640_label_Car Accident Detection.v2i.yolov7pytorch/valid/images/frame_114_jpg.rf.47f2903fb960fcd82c68ae3c7007f174.jpg  \n",
            "  inflating: __MACOSX/+_1516_640_640_label_Car Accident Detection.v2i.yolov7pytorch/valid/images/._frame_114_jpg.rf.47f2903fb960fcd82c68ae3c7007f174.jpg  \n",
            "  inflating: +_1516_640_640_label_Car Accident Detection.v2i.yolov7pytorch/valid/images/severityV4_63_jpg.rf.fa61880b6d5603fdc5f5a166771be607.jpg  \n",
            "  inflating: __MACOSX/+_1516_640_640_label_Car Accident Detection.v2i.yolov7pytorch/valid/images/._severityV4_63_jpg.rf.fa61880b6d5603fdc5f5a166771be607.jpg  \n",
            "  inflating: +_1516_640_640_label_Car Accident Detection.v2i.yolov7pytorch/valid/images/Screenshot-428-_png_jpg.rf.1586d759ce378dd20249ddd126b6f861.jpg  \n",
            "  inflating: __MACOSX/+_1516_640_640_label_Car Accident Detection.v2i.yolov7pytorch/valid/images/._Screenshot-428-_png_jpg.rf.1586d759ce378dd20249ddd126b6f861.jpg  \n",
            "  inflating: +_1516_640_640_label_Car Accident Detection.v2i.yolov7pytorch/valid/images/accidentFrame414_jpg.rf.ccb936773c767cc53f2150ad8af65563.jpg  \n",
            "  inflating: __MACOSX/+_1516_640_640_label_Car Accident Detection.v2i.yolov7pytorch/valid/images/._accidentFrame414_jpg.rf.ccb936773c767cc53f2150ad8af65563.jpg  \n",
            "  inflating: +_1516_640_640_label_Car Accident Detection.v2i.yolov7pytorch/valid/images/frame_4575_jpg.rf.59b3e469c2668d163b841003b4b9fdab.jpg  \n",
            "  inflating: __MACOSX/+_1516_640_640_label_Car Accident Detection.v2i.yolov7pytorch/valid/images/._frame_4575_jpg.rf.59b3e469c2668d163b841003b4b9fdab.jpg  \n",
            "  inflating: +_1516_640_640_label_Car Accident Detection.v2i.yolov7pytorch/valid/images/Semi-RealisticVD-102_jpg.rf.6eafeb7848629e40fc24162795f0f1b5.jpg  \n",
            "  inflating: __MACOSX/+_1516_640_640_label_Car Accident Detection.v2i.yolov7pytorch/valid/images/._Semi-RealisticVD-102_jpg.rf.6eafeb7848629e40fc24162795f0f1b5.jpg  \n",
            "  inflating: +_1516_640_640_label_Car Accident Detection.v2i.yolov7pytorch/valid/images/vlcsnap-2020-01-15-21h49m49s194_png.rf.30a7db299ceb46733691a68dc20aea7f.jpg  \n",
            "  inflating: __MACOSX/+_1516_640_640_label_Car Accident Detection.v2i.yolov7pytorch/valid/images/._vlcsnap-2020-01-15-21h49m49s194_png.rf.30a7db299ceb46733691a68dc20aea7f.jpg  \n",
            "  inflating: +_1516_640_640_label_Car Accident Detection.v2i.yolov7pytorch/valid/images/Accident-334-_jpg.rf.e30504d8fe5cfee2632005e776bcf734.jpg  \n",
            "  inflating: __MACOSX/+_1516_640_640_label_Car Accident Detection.v2i.yolov7pytorch/valid/images/._Accident-334-_jpg.rf.e30504d8fe5cfee2632005e776bcf734.jpg  \n",
            "  inflating: +_1516_640_640_label_Car Accident Detection.v2i.yolov7pytorch/valid/images/test16_22_jpg.rf.9781d48e979ed3ccb1406438ca3a3610.jpg  \n",
            "  inflating: __MACOSX/+_1516_640_640_label_Car Accident Detection.v2i.yolov7pytorch/valid/images/._test16_22_jpg.rf.9781d48e979ed3ccb1406438ca3a3610.jpg  \n",
            "  inflating: +_1516_640_640_label_Car Accident Detection.v2i.yolov7pytorch/valid/images/Accident-336-_jpg.rf.4b6579d9057986ffa7e92ad35f558959.jpg  \n",
            "  inflating: __MACOSX/+_1516_640_640_label_Car Accident Detection.v2i.yolov7pytorch/valid/images/._Accident-336-_jpg.rf.4b6579d9057986ffa7e92ad35f558959.jpg  \n",
            "  inflating: +_1516_640_640_label_Car Accident Detection.v2i.yolov7pytorch/valid/images/severityV4_78_jpg.rf.4919d90d222a42e42c5ff9c95b58db8d.jpg  \n",
            "  inflating: __MACOSX/+_1516_640_640_label_Car Accident Detection.v2i.yolov7pytorch/valid/images/._severityV4_78_jpg.rf.4919d90d222a42e42c5ff9c95b58db8d.jpg  \n",
            "  inflating: +_1516_640_640_label_Car Accident Detection.v2i.yolov7pytorch/valid/images/argusAcc595_jpg.rf.a4a969a32e3a3ad00a040f9189cf12fe.jpg  \n",
            "  inflating: __MACOSX/+_1516_640_640_label_Car Accident Detection.v2i.yolov7pytorch/valid/images/._argusAcc595_jpg.rf.a4a969a32e3a3ad00a040f9189cf12fe.jpg  \n",
            "  inflating: +_1516_640_640_label_Car Accident Detection.v2i.yolov7pytorch/valid/images/accidentFrame407_jpg.rf.c091a448b181b6e19bbb165a3cd91918.jpg  \n",
            "  inflating: __MACOSX/+_1516_640_640_label_Car Accident Detection.v2i.yolov7pytorch/valid/images/._accidentFrame407_jpg.rf.c091a448b181b6e19bbb165a3cd91918.jpg  \n",
            "  inflating: +_1516_640_640_label_Car Accident Detection.v2i.yolov7pytorch/valid/images/1-17_jpg.rf.8bc9a3a141fc17addf9152adc835cec1.jpg  \n",
            "  inflating: __MACOSX/+_1516_640_640_label_Car Accident Detection.v2i.yolov7pytorch/valid/images/._1-17_jpg.rf.8bc9a3a141fc17addf9152adc835cec1.jpg  \n",
            "  inflating: +_1516_640_640_label_Car Accident Detection.v2i.yolov7pytorch/valid/images/traffic_img1815_jpg.rf.077652ddc63e262bc6c9042774169168.jpg  \n",
            "  inflating: __MACOSX/+_1516_640_640_label_Car Accident Detection.v2i.yolov7pytorch/valid/images/._traffic_img1815_jpg.rf.077652ddc63e262bc6c9042774169168.jpg  \n",
            "  inflating: +_1516_640_640_label_Car Accident Detection.v2i.yolov7pytorch/valid/images/a16_jpg.rf.4df7a0e0b6d83a9a4681810fb2a60d59.jpg  \n",
            "  inflating: __MACOSX/+_1516_640_640_label_Car Accident Detection.v2i.yolov7pytorch/valid/images/._a16_jpg.rf.4df7a0e0b6d83a9a4681810fb2a60d59.jpg  \n",
            "  inflating: +_1516_640_640_label_Car Accident Detection.v2i.yolov7pytorch/valid/images/Abu-Dhabi-accident-CCTV-_16d80b9b401_large_jpg.rf.a777c7aec0c5f97c0df07b6bda400f4e.jpg  \n",
            "  inflating: __MACOSX/+_1516_640_640_label_Car Accident Detection.v2i.yolov7pytorch/valid/images/._Abu-Dhabi-accident-CCTV-_16d80b9b401_large_jpg.rf.a777c7aec0c5f97c0df07b6bda400f4e.jpg  \n",
            "  inflating: +_1516_640_640_label_Car Accident Detection.v2i.yolov7pytorch/valid/images/images-2020-08-13T213919-517_jpg.rf.2bdedbb8c05d1aa7040b729063b50aff.jpg  \n",
            "  inflating: __MACOSX/+_1516_640_640_label_Car Accident Detection.v2i.yolov7pytorch/valid/images/._images-2020-08-13T213919-517_jpg.rf.2bdedbb8c05d1aa7040b729063b50aff.jpg  \n",
            "  inflating: +_1516_640_640_label_Car Accident Detection.v2i.yolov7pytorch/valid/images/severity_V124_jpg.rf.989cb86bd84abca7d98ac8eb3f6f7d42.jpg  \n",
            "  inflating: __MACOSX/+_1516_640_640_label_Car Accident Detection.v2i.yolov7pytorch/valid/images/._severity_V124_jpg.rf.989cb86bd84abca7d98ac8eb3f6f7d42.jpg  \n",
            "  inflating: +_1516_640_640_label_Car Accident Detection.v2i.yolov7pytorch/valid/images/vlcsnap-2020-01-15-20h50m04s544_png.rf.31dc46509bbd8746302b93d7bdcd1c55.jpg  \n",
            "  inflating: __MACOSX/+_1516_640_640_label_Car Accident Detection.v2i.yolov7pytorch/valid/images/._vlcsnap-2020-01-15-20h50m04s544_png.rf.31dc46509bbd8746302b93d7bdcd1c55.jpg  \n",
            "  inflating: +_1516_640_640_label_Car Accident Detection.v2i.yolov7pytorch/valid/images/Severity_Detect_V31_jpg.rf.0fb57a5a37c0b82f8cb29a39d6d2cf84.jpg  \n",
            "  inflating: __MACOSX/+_1516_640_640_label_Car Accident Detection.v2i.yolov7pytorch/valid/images/._Severity_Detect_V31_jpg.rf.0fb57a5a37c0b82f8cb29a39d6d2cf84.jpg  \n",
            "  inflating: +_1516_640_640_label_Car Accident Detection.v2i.yolov7pytorch/valid/images/download-2_jpg.rf.88d971d99d7bdecaa3670fb493a56f5b.jpg  \n",
            "  inflating: __MACOSX/+_1516_640_640_label_Car Accident Detection.v2i.yolov7pytorch/valid/images/._download-2_jpg.rf.88d971d99d7bdecaa3670fb493a56f5b.jpg  \n",
            "  inflating: +_1516_640_640_label_Car Accident Detection.v2i.yolov7pytorch/valid/images/accidentFrame3423_jpg.rf.667ce4be1fcf75454366bb864cada1ee.jpg  \n",
            "  inflating: __MACOSX/+_1516_640_640_label_Car Accident Detection.v2i.yolov7pytorch/valid/images/._accidentFrame3423_jpg.rf.667ce4be1fcf75454366bb864cada1ee.jpg  \n",
            "  inflating: +_1516_640_640_label_Car Accident Detection.v2i.yolov7pytorch/valid/images/severity_V123_jpg.rf.22eb1e0cd891e6fddc4052a168bff119.jpg  \n",
            "  inflating: __MACOSX/+_1516_640_640_label_Car Accident Detection.v2i.yolov7pytorch/valid/images/._severity_V123_jpg.rf.22eb1e0cd891e6fddc4052a168bff119.jpg  \n",
            "  inflating: +_1516_640_640_label_Car Accident Detection.v2i.yolov7pytorch/valid/images/Semi-RealisticVD-132_jpg.rf.d15e068626a60ec8c66f094c3a255d8b.jpg  \n",
            "  inflating: __MACOSX/+_1516_640_640_label_Car Accident Detection.v2i.yolov7pytorch/valid/images/._Semi-RealisticVD-132_jpg.rf.d15e068626a60ec8c66f094c3a255d8b.jpg  \n",
            "  inflating: +_1516_640_640_label_Car Accident Detection.v2i.yolov7pytorch/valid/images/a17_jpg.rf.76d60dc153665221e86d8fca699655f7.jpg  \n",
            "  inflating: __MACOSX/+_1516_640_640_label_Car Accident Detection.v2i.yolov7pytorch/valid/images/._a17_jpg.rf.76d60dc153665221e86d8fca699655f7.jpg  \n",
            "  inflating: +_1516_640_640_label_Car Accident Detection.v2i.yolov7pytorch/valid/images/7db827fb-e15d-4315-9f0a-16c8d38f9d5c_1920x1080_jpg.rf.97d3019df31c9e6082b9b8f4ba0b2967.jpg  \n",
            "  inflating: __MACOSX/+_1516_640_640_label_Car Accident Detection.v2i.yolov7pytorch/valid/images/._7db827fb-e15d-4315-9f0a-16c8d38f9d5c_1920x1080_jpg.rf.97d3019df31c9e6082b9b8f4ba0b2967.jpg  \n",
            "  inflating: +_1516_640_640_label_Car Accident Detection.v2i.yolov7pytorch/valid/images/traffic_img1091_jpg.rf.6c5989ee6718b6ccdad1f1205604c15d.jpg  \n",
            "  inflating: __MACOSX/+_1516_640_640_label_Car Accident Detection.v2i.yolov7pytorch/valid/images/._traffic_img1091_jpg.rf.6c5989ee6718b6ccdad1f1205604c15d.jpg  \n",
            "  inflating: +_1516_640_640_label_Car Accident Detection.v2i.yolov7pytorch/valid/images/screen_images2_png_jpg.rf.fd7357e96a139534703c5ecf78824c92.jpg  \n",
            "  inflating: __MACOSX/+_1516_640_640_label_Car Accident Detection.v2i.yolov7pytorch/valid/images/._screen_images2_png_jpg.rf.fd7357e96a139534703c5ecf78824c92.jpg  \n",
            "  inflating: +_1516_640_640_label_Car Accident Detection.v2i.yolov7pytorch/valid/images/tt2_png_jpg.rf.17bfdeace9c94a000f3346c813562952.jpg  \n",
            "  inflating: __MACOSX/+_1516_640_640_label_Car Accident Detection.v2i.yolov7pytorch/valid/images/._tt2_png_jpg.rf.17bfdeace9c94a000f3346c813562952.jpg  \n",
            "  inflating: +_1516_640_640_label_Car Accident Detection.v2i.yolov7pytorch/valid/images/trafficseverity_img220_jpg.rf.9b3c7a4869e9bb06895b7386aca16b56.jpg  \n",
            "  inflating: __MACOSX/+_1516_640_640_label_Car Accident Detection.v2i.yolov7pytorch/valid/images/._trafficseverity_img220_jpg.rf.9b3c7a4869e9bb06895b7386aca16b56.jpg  \n",
            "  inflating: +_1516_640_640_label_Car Accident Detection.v2i.yolov7pytorch/valid/images/test12_13_jpg.rf.7f79a5ab5b2ca24b543605a0a0d1bd12.jpg  \n",
            "  inflating: __MACOSX/+_1516_640_640_label_Car Accident Detection.v2i.yolov7pytorch/valid/images/._test12_13_jpg.rf.7f79a5ab5b2ca24b543605a0a0d1bd12.jpg  \n",
            "  inflating: +_1516_640_640_label_Car Accident Detection.v2i.yolov7pytorch/valid/images/test27_9_jpg.rf.578fe55ec0799844789239336d9a1a70.jpg  \n",
            "  inflating: __MACOSX/+_1516_640_640_label_Car Accident Detection.v2i.yolov7pytorch/valid/images/._test27_9_jpg.rf.578fe55ec0799844789239336d9a1a70.jpg  \n",
            "  inflating: +_1516_640_640_label_Car Accident Detection.v2i.yolov7pytorch/valid/images/accidentFrame2757_jpg.rf.4e4f01bd99fc71263d5d12d57ae092a7.jpg  \n",
            "  inflating: __MACOSX/+_1516_640_640_label_Car Accident Detection.v2i.yolov7pytorch/valid/images/._accidentFrame2757_jpg.rf.4e4f01bd99fc71263d5d12d57ae092a7.jpg  \n",
            "  inflating: +_1516_640_640_label_Car Accident Detection.v2i.yolov7pytorch/valid/images/accidentFrame352_jpg.rf.97915f17761a9dd15fba3f1204ba92e9.jpg  \n",
            "  inflating: __MACOSX/+_1516_640_640_label_Car Accident Detection.v2i.yolov7pytorch/valid/images/._accidentFrame352_jpg.rf.97915f17761a9dd15fba3f1204ba92e9.jpg  \n",
            "  inflating: +_1516_640_640_label_Car Accident Detection.v2i.yolov7pytorch/valid/images/vlcsnap-2020-01-16-01h23m04s767_png.rf.7761a4ea04475611bcce6dc378973ece.jpg  \n",
            "  inflating: __MACOSX/+_1516_640_640_label_Car Accident Detection.v2i.yolov7pytorch/valid/images/._vlcsnap-2020-01-16-01h23m04s767_png.rf.7761a4ea04475611bcce6dc378973ece.jpg  \n",
            "  inflating: +_1516_640_640_label_Car Accident Detection.v2i.yolov7pytorch/valid/images/test20_18_jpg.rf.182442f88c75502f7926da08b09c64d8.jpg  \n",
            "  inflating: __MACOSX/+_1516_640_640_label_Car Accident Detection.v2i.yolov7pytorch/valid/images/._test20_18_jpg.rf.182442f88c75502f7926da08b09c64d8.jpg  \n",
            "  inflating: +_1516_640_640_label_Car Accident Detection.v2i.yolov7pytorch/valid/images/1001_jpeg_jpg.rf.e39515b6706d9ef8d760663ac627cf55.jpg  \n",
            "  inflating: __MACOSX/+_1516_640_640_label_Car Accident Detection.v2i.yolov7pytorch/valid/images/._1001_jpeg_jpg.rf.e39515b6706d9ef8d760663ac627cf55.jpg  \n",
            "  inflating: +_1516_640_640_label_Car Accident Detection.v2i.yolov7pytorch/valid/images/severityV3_20_jpeg_jpg.rf.bdde5c4f4d6da3c09bbcc381cdf6b7ad.jpg  \n",
            "  inflating: __MACOSX/+_1516_640_640_label_Car Accident Detection.v2i.yolov7pytorch/valid/images/._severityV3_20_jpeg_jpg.rf.bdde5c4f4d6da3c09bbcc381cdf6b7ad.jpg  \n",
            "  inflating: +_1516_640_640_label_Car Accident Detection.v2i.yolov7pytorch/valid/images/frame_0071_jpg.rf.2ffd40b798daaedacf80cb5c3ca1b284.jpg  \n",
            "  inflating: __MACOSX/+_1516_640_640_label_Car Accident Detection.v2i.yolov7pytorch/valid/images/._frame_0071_jpg.rf.2ffd40b798daaedacf80cb5c3ca1b284.jpg  \n",
            "  inflating: +_1516_640_640_label_Car Accident Detection.v2i.yolov7pytorch/valid/images/1092_jpeg_jpg.rf.1bde78e85a8d9cfc1c07976f6ff176eb.jpg  \n",
            "  inflating: __MACOSX/+_1516_640_640_label_Car Accident Detection.v2i.yolov7pytorch/valid/images/._1092_jpeg_jpg.rf.1bde78e85a8d9cfc1c07976f6ff176eb.jpg  \n",
            "  inflating: +_1516_640_640_label_Car Accident Detection.v2i.yolov7pytorch/valid/images/severityV4_79_jpg.rf.284a5590e75a74ac7efd268830729e42.jpg  \n",
            "  inflating: __MACOSX/+_1516_640_640_label_Car Accident Detection.v2i.yolov7pytorch/valid/images/._severityV4_79_jpg.rf.284a5590e75a74ac7efd268830729e42.jpg  \n",
            "  inflating: +_1516_640_640_label_Car Accident Detection.v2i.yolov7pytorch/valid/images/images-10_jpg.rf.60a473da1926afc833e45781fdd6b4b2.jpg  \n",
            "  inflating: __MACOSX/+_1516_640_640_label_Car Accident Detection.v2i.yolov7pytorch/valid/images/._images-10_jpg.rf.60a473da1926afc833e45781fdd6b4b2.jpg  \n",
            "  inflating: +_1516_640_640_label_Car Accident Detection.v2i.yolov7pytorch/valid/images/Screenshot-365-_png_jpg.rf.25fe68ad9639bd96458af850f733dab7.jpg  \n",
            "  inflating: __MACOSX/+_1516_640_640_label_Car Accident Detection.v2i.yolov7pytorch/valid/images/._Screenshot-365-_png_jpg.rf.25fe68ad9639bd96458af850f733dab7.jpg  \n",
            "  inflating: +_1516_640_640_label_Car Accident Detection.v2i.yolov7pytorch/valid/images/severityV4_84_jpg.rf.eb71c31128d126fe3cb19b7821aef37c.jpg  \n",
            "  inflating: __MACOSX/+_1516_640_640_label_Car Accident Detection.v2i.yolov7pytorch/valid/images/._severityV4_84_jpg.rf.eb71c31128d126fe3cb19b7821aef37c.jpg  \n",
            "  inflating: +_1516_640_640_label_Car Accident Detection.v2i.yolov7pytorch/valid/images/traffic_img17_jpg.rf.44334014aacf04fb6925a2c4d460dfa5.jpg  \n",
            "  inflating: __MACOSX/+_1516_640_640_label_Car Accident Detection.v2i.yolov7pytorch/valid/images/._traffic_img17_jpg.rf.44334014aacf04fb6925a2c4d460dfa5.jpg  \n",
            "  inflating: +_1516_640_640_label_Car Accident Detection.v2i.yolov7pytorch/valid/images/severityV4_81_jpg.rf.c1464c833c757c4add5f08966912f3c4.jpg  \n",
            "  inflating: __MACOSX/+_1516_640_640_label_Car Accident Detection.v2i.yolov7pytorch/valid/images/._severityV4_81_jpg.rf.c1464c833c757c4add5f08966912f3c4.jpg  \n",
            "  inflating: +_1516_640_640_label_Car Accident Detection.v2i.yolov7pytorch/valid/images/severityV4_35_jpg.rf.c8423c8a5256a7f708b91b1f3b23bb78.jpg  \n",
            "  inflating: __MACOSX/+_1516_640_640_label_Car Accident Detection.v2i.yolov7pytorch/valid/images/._severityV4_35_jpg.rf.c8423c8a5256a7f708b91b1f3b23bb78.jpg  \n",
            "  inflating: +_1516_640_640_label_Car Accident Detection.v2i.yolov7pytorch/valid/images/acc1489_jpg.rf.7fd7a49a589227f0c04f0b0f56ae816e.jpg  \n",
            "  inflating: __MACOSX/+_1516_640_640_label_Car Accident Detection.v2i.yolov7pytorch/valid/images/._acc1489_jpg.rf.7fd7a49a589227f0c04f0b0f56ae816e.jpg  \n",
            "  inflating: +_1516_640_640_label_Car Accident Detection.v2i.yolov7pytorch/valid/images/image2_jpg.rf.ca197341cd7b23af90f4c170efac613c.jpg  \n",
            "  inflating: __MACOSX/+_1516_640_640_label_Car Accident Detection.v2i.yolov7pytorch/valid/images/._image2_jpg.rf.ca197341cd7b23af90f4c170efac613c.jpg  \n",
            "  inflating: +_1516_640_640_label_Car Accident Detection.v2i.yolov7pytorch/valid/images/FLIP_CAR_V139_jpg.rf.7fc2f2b0a55f8f00dd50effdc6a47d58.jpg  \n",
            "  inflating: __MACOSX/+_1516_640_640_label_Car Accident Detection.v2i.yolov7pytorch/valid/images/._FLIP_CAR_V139_jpg.rf.7fc2f2b0a55f8f00dd50effdc6a47d58.jpg  \n",
            "  inflating: +_1516_640_640_label_Car Accident Detection.v2i.yolov7pytorch/valid/images/accidentFrame38_jpg.rf.63ef53bd6540a1be6bbae7058859ae6b.jpg  \n",
            "  inflating: __MACOSX/+_1516_640_640_label_Car Accident Detection.v2i.yolov7pytorch/valid/images/._accidentFrame38_jpg.rf.63ef53bd6540a1be6bbae7058859ae6b.jpg  \n",
            "  inflating: +_1516_640_640_label_Car Accident Detection.v2i.yolov7pytorch/valid/images/60_jpeg_jpg.rf.3d8629ff310ee04551dc3a4b844c902f.jpg  \n",
            "  inflating: __MACOSX/+_1516_640_640_label_Car Accident Detection.v2i.yolov7pytorch/valid/images/._60_jpeg_jpg.rf.3d8629ff310ee04551dc3a4b844c902f.jpg  \n",
            "  inflating: +_1516_640_640_label_Car Accident Detection.v2i.yolov7pytorch/valid/images/vlcsnap-2020-01-16-01h19m41s489_png.rf.a97e830b3a1111e2d6af0b8c3c6a8a02.jpg  \n",
            "  inflating: __MACOSX/+_1516_640_640_label_Car Accident Detection.v2i.yolov7pytorch/valid/images/._vlcsnap-2020-01-16-01h19m41s489_png.rf.a97e830b3a1111e2d6af0b8c3c6a8a02.jpg  \n",
            "  inflating: +_1516_640_640_label_Car Accident Detection.v2i.yolov7pytorch/valid/images/260_jpeg_jpg.rf.2142a541a2763787ba58b18f674b5383.jpg  \n",
            "  inflating: __MACOSX/+_1516_640_640_label_Car Accident Detection.v2i.yolov7pytorch/valid/images/._260_jpeg_jpg.rf.2142a541a2763787ba58b18f674b5383.jpg  \n",
            "  inflating: +_1516_640_640_label_Car Accident Detection.v2i.yolov7pytorch/valid/images/argusAccident58_jpg.rf.bf91cede27453686ec8101e7ce667149.jpg  \n",
            "  inflating: __MACOSX/+_1516_640_640_label_Car Accident Detection.v2i.yolov7pytorch/valid/images/._argusAccident58_jpg.rf.bf91cede27453686ec8101e7ce667149.jpg  \n",
            "  inflating: +_1516_640_640_label_Car Accident Detection.v2i.yolov7pytorch/valid/images/vd55_jpeg_jpg.rf.8833926414ee4fbf23dc3c227417ae58.jpg  \n",
            "  inflating: __MACOSX/+_1516_640_640_label_Car Accident Detection.v2i.yolov7pytorch/valid/images/._vd55_jpeg_jpg.rf.8833926414ee4fbf23dc3c227417ae58.jpg  \n",
            "  inflating: +_1516_640_640_label_Car Accident Detection.v2i.yolov7pytorch/valid/images/traffic_img1855_jpg.rf.a697b1ef3c73514f8ab2032a65cbae59.jpg  \n",
            "  inflating: __MACOSX/+_1516_640_640_label_Car Accident Detection.v2i.yolov7pytorch/valid/images/._traffic_img1855_jpg.rf.a697b1ef3c73514f8ab2032a65cbae59.jpg  \n",
            "  inflating: +_1516_640_640_label_Car Accident Detection.v2i.yolov7pytorch/valid/images/Severity_Detect_V17_jpg.rf.0879c4cf70628fc3ccbae62f5926e602.jpg  \n",
            "  inflating: __MACOSX/+_1516_640_640_label_Car Accident Detection.v2i.yolov7pytorch/valid/images/._Severity_Detect_V17_jpg.rf.0879c4cf70628fc3ccbae62f5926e602.jpg  \n",
            "  inflating: +_1516_640_640_label_Car Accident Detection.v2i.yolov7pytorch/valid/images/vlcsnap-2020-01-17-03h49m36s931_png.rf.d0ba12a0c9fbf375c74c304f418956f0.jpg  \n",
            "  inflating: __MACOSX/+_1516_640_640_label_Car Accident Detection.v2i.yolov7pytorch/valid/images/._vlcsnap-2020-01-17-03h49m36s931_png.rf.d0ba12a0c9fbf375c74c304f418956f0.jpg  \n",
            "  inflating: +_1516_640_640_label_Car Accident Detection.v2i.yolov7pytorch/valid/images/severity_V119_jpg.rf.bc7e02ecc52909bada9585e690b720f9.jpg  \n",
            "  inflating: __MACOSX/+_1516_640_640_label_Car Accident Detection.v2i.yolov7pytorch/valid/images/._severity_V119_jpg.rf.bc7e02ecc52909bada9585e690b720f9.jpg  \n",
            "  inflating: +_1516_640_640_label_Car Accident Detection.v2i.yolov7pytorch/valid/images/Severity_Detect_V33_jpg.rf.f1f92e2733575f687c36e9498526e06a.jpg  \n",
            "  inflating: __MACOSX/+_1516_640_640_label_Car Accident Detection.v2i.yolov7pytorch/valid/images/._Severity_Detect_V33_jpg.rf.f1f92e2733575f687c36e9498526e06a.jpg  \n",
            "  inflating: +_1516_640_640_label_Car Accident Detection.v2i.yolov7pytorch/valid/images/Screenshot-441-_png_jpg.rf.763186693449e813207f4d2f64857702.jpg  \n",
            "  inflating: __MACOSX/+_1516_640_640_label_Car Accident Detection.v2i.yolov7pytorch/valid/images/._Screenshot-441-_png_jpg.rf.763186693449e813207f4d2f64857702.jpg  \n",
            "  inflating: +_1516_640_640_label_Car Accident Detection.v2i.yolov7pytorch/valid/images/argusAcc321_jpg.rf.6f4249a21bec84b02c2a60e805e1bd7e.jpg  \n",
            "  inflating: __MACOSX/+_1516_640_640_label_Car Accident Detection.v2i.yolov7pytorch/valid/images/._argusAcc321_jpg.rf.6f4249a21bec84b02c2a60e805e1bd7e.jpg  \n",
            "  inflating: +_1516_640_640_label_Car Accident Detection.v2i.yolov7pytorch/valid/images/frame_822_jpg.rf.90873fbf182d9576dbd9e680541f8d46.jpg  \n",
            "  inflating: __MACOSX/+_1516_640_640_label_Car Accident Detection.v2i.yolov7pytorch/valid/images/._frame_822_jpg.rf.90873fbf182d9576dbd9e680541f8d46.jpg  \n",
            "  inflating: +_1516_640_640_label_Car Accident Detection.v2i.yolov7pytorch/valid/images/FLIP_CAR_V167_jpg.rf.81757dbb2a5cbb7059eb4092f9bbee7f.jpg  \n",
            "  inflating: __MACOSX/+_1516_640_640_label_Car Accident Detection.v2i.yolov7pytorch/valid/images/._FLIP_CAR_V167_jpg.rf.81757dbb2a5cbb7059eb4092f9bbee7f.jpg  \n",
            "  inflating: +_1516_640_640_label_Car Accident Detection.v2i.yolov7pytorch/valid/labels/severityV4_78_jpg.rf.4919d90d222a42e42c5ff9c95b58db8d.txt  \n",
            "  inflating: __MACOSX/+_1516_640_640_label_Car Accident Detection.v2i.yolov7pytorch/valid/labels/._severityV4_78_jpg.rf.4919d90d222a42e42c5ff9c95b58db8d.txt  \n",
            "  inflating: +_1516_640_640_label_Car Accident Detection.v2i.yolov7pytorch/valid/labels/Accident-336-_jpg.rf.4b6579d9057986ffa7e92ad35f558959.txt  \n",
            "  inflating: __MACOSX/+_1516_640_640_label_Car Accident Detection.v2i.yolov7pytorch/valid/labels/._Accident-336-_jpg.rf.4b6579d9057986ffa7e92ad35f558959.txt  \n",
            "  inflating: +_1516_640_640_label_Car Accident Detection.v2i.yolov7pytorch/valid/labels/argusAcc595_jpg.rf.a4a969a32e3a3ad00a040f9189cf12fe.txt  \n",
            "  inflating: __MACOSX/+_1516_640_640_label_Car Accident Detection.v2i.yolov7pytorch/valid/labels/._argusAcc595_jpg.rf.a4a969a32e3a3ad00a040f9189cf12fe.txt  \n",
            "  inflating: +_1516_640_640_label_Car Accident Detection.v2i.yolov7pytorch/valid/labels/test16_22_jpg.rf.9781d48e979ed3ccb1406438ca3a3610.txt  \n",
            "  inflating: __MACOSX/+_1516_640_640_label_Car Accident Detection.v2i.yolov7pytorch/valid/labels/._test16_22_jpg.rf.9781d48e979ed3ccb1406438ca3a3610.txt  \n",
            "  inflating: +_1516_640_640_label_Car Accident Detection.v2i.yolov7pytorch/valid/labels/traffic_img1815_jpg.rf.077652ddc63e262bc6c9042774169168.txt  \n",
            "  inflating: __MACOSX/+_1516_640_640_label_Car Accident Detection.v2i.yolov7pytorch/valid/labels/._traffic_img1815_jpg.rf.077652ddc63e262bc6c9042774169168.txt  \n",
            "  inflating: +_1516_640_640_label_Car Accident Detection.v2i.yolov7pytorch/valid/labels/1-17_jpg.rf.8bc9a3a141fc17addf9152adc835cec1.txt  \n",
            "  inflating: __MACOSX/+_1516_640_640_label_Car Accident Detection.v2i.yolov7pytorch/valid/labels/._1-17_jpg.rf.8bc9a3a141fc17addf9152adc835cec1.txt  \n",
            "  inflating: +_1516_640_640_label_Car Accident Detection.v2i.yolov7pytorch/valid/labels/accidentFrame407_jpg.rf.c091a448b181b6e19bbb165a3cd91918.txt  \n",
            "  inflating: __MACOSX/+_1516_640_640_label_Car Accident Detection.v2i.yolov7pytorch/valid/labels/._accidentFrame407_jpg.rf.c091a448b181b6e19bbb165a3cd91918.txt  \n",
            "  inflating: +_1516_640_640_label_Car Accident Detection.v2i.yolov7pytorch/valid/labels/Abu-Dhabi-accident-CCTV-_16d80b9b401_large_jpg.rf.a777c7aec0c5f97c0df07b6bda400f4e.txt  \n",
            "  inflating: __MACOSX/+_1516_640_640_label_Car Accident Detection.v2i.yolov7pytorch/valid/labels/._Abu-Dhabi-accident-CCTV-_16d80b9b401_large_jpg.rf.a777c7aec0c5f97c0df07b6bda400f4e.txt  \n",
            "  inflating: +_1516_640_640_label_Car Accident Detection.v2i.yolov7pytorch/valid/labels/images-2020-08-13T213919-517_jpg.rf.2bdedbb8c05d1aa7040b729063b50aff.txt  \n",
            "  inflating: __MACOSX/+_1516_640_640_label_Car Accident Detection.v2i.yolov7pytorch/valid/labels/._images-2020-08-13T213919-517_jpg.rf.2bdedbb8c05d1aa7040b729063b50aff.txt  \n",
            "  inflating: +_1516_640_640_label_Car Accident Detection.v2i.yolov7pytorch/valid/labels/a16_jpg.rf.4df7a0e0b6d83a9a4681810fb2a60d59.txt  \n",
            "  inflating: __MACOSX/+_1516_640_640_label_Car Accident Detection.v2i.yolov7pytorch/valid/labels/._a16_jpg.rf.4df7a0e0b6d83a9a4681810fb2a60d59.txt  \n",
            "  inflating: +_1516_640_640_label_Car Accident Detection.v2i.yolov7pytorch/valid/labels/accidentFrame3423_jpg.rf.667ce4be1fcf75454366bb864cada1ee.txt  \n",
            "  inflating: __MACOSX/+_1516_640_640_label_Car Accident Detection.v2i.yolov7pytorch/valid/labels/._accidentFrame3423_jpg.rf.667ce4be1fcf75454366bb864cada1ee.txt  \n",
            "  inflating: +_1516_640_640_label_Car Accident Detection.v2i.yolov7pytorch/valid/labels/download-2_jpg.rf.88d971d99d7bdecaa3670fb493a56f5b.txt  \n",
            "  inflating: __MACOSX/+_1516_640_640_label_Car Accident Detection.v2i.yolov7pytorch/valid/labels/._download-2_jpg.rf.88d971d99d7bdecaa3670fb493a56f5b.txt  \n",
            "  inflating: +_1516_640_640_label_Car Accident Detection.v2i.yolov7pytorch/valid/labels/Severity_Detect_V31_jpg.rf.0fb57a5a37c0b82f8cb29a39d6d2cf84.txt  \n",
            "  inflating: __MACOSX/+_1516_640_640_label_Car Accident Detection.v2i.yolov7pytorch/valid/labels/._Severity_Detect_V31_jpg.rf.0fb57a5a37c0b82f8cb29a39d6d2cf84.txt  \n",
            "  inflating: +_1516_640_640_label_Car Accident Detection.v2i.yolov7pytorch/valid/labels/Semi-RealisticVD-132_jpg.rf.d15e068626a60ec8c66f094c3a255d8b.txt  \n",
            "  inflating: __MACOSX/+_1516_640_640_label_Car Accident Detection.v2i.yolov7pytorch/valid/labels/._Semi-RealisticVD-132_jpg.rf.d15e068626a60ec8c66f094c3a255d8b.txt  \n",
            "  inflating: +_1516_640_640_label_Car Accident Detection.v2i.yolov7pytorch/valid/labels/severity_V123_jpg.rf.22eb1e0cd891e6fddc4052a168bff119.txt  \n",
            "  inflating: __MACOSX/+_1516_640_640_label_Car Accident Detection.v2i.yolov7pytorch/valid/labels/._severity_V123_jpg.rf.22eb1e0cd891e6fddc4052a168bff119.txt  \n",
            "  inflating: +_1516_640_640_label_Car Accident Detection.v2i.yolov7pytorch/valid/labels/severity_V124_jpg.rf.989cb86bd84abca7d98ac8eb3f6f7d42.txt  \n",
            "  inflating: __MACOSX/+_1516_640_640_label_Car Accident Detection.v2i.yolov7pytorch/valid/labels/._severity_V124_jpg.rf.989cb86bd84abca7d98ac8eb3f6f7d42.txt  \n",
            "  inflating: +_1516_640_640_label_Car Accident Detection.v2i.yolov7pytorch/valid/labels/vlcsnap-2020-01-15-20h50m04s544_png.rf.31dc46509bbd8746302b93d7bdcd1c55.txt  \n",
            "  inflating: __MACOSX/+_1516_640_640_label_Car Accident Detection.v2i.yolov7pytorch/valid/labels/._vlcsnap-2020-01-15-20h50m04s544_png.rf.31dc46509bbd8746302b93d7bdcd1c55.txt  \n",
            "  inflating: +_1516_640_640_label_Car Accident Detection.v2i.yolov7pytorch/valid/labels/Abu-Dhabi-accident-CCTV-_16d80b9b401_large_jpg.rf.3389ca60a3c0ca30d16c818faa05fbb5.txt  \n",
            "  inflating: __MACOSX/+_1516_640_640_label_Car Accident Detection.v2i.yolov7pytorch/valid/labels/._Abu-Dhabi-accident-CCTV-_16d80b9b401_large_jpg.rf.3389ca60a3c0ca30d16c818faa05fbb5.txt  \n",
            "  inflating: +_1516_640_640_label_Car Accident Detection.v2i.yolov7pytorch/valid/labels/traffic_img331_jpg.rf.6ac0ac1bf6756625617b11ebb72b76b5.txt  \n",
            "  inflating: __MACOSX/+_1516_640_640_label_Car Accident Detection.v2i.yolov7pytorch/valid/labels/._traffic_img331_jpg.rf.6ac0ac1bf6756625617b11ebb72b76b5.txt  \n",
            "  inflating: +_1516_640_640_label_Car Accident Detection.v2i.yolov7pytorch/valid/labels/severityV4_80_jpg.rf.e006a6facb4e0191ea0290b49879b857.txt  \n",
            "  inflating: __MACOSX/+_1516_640_640_label_Car Accident Detection.v2i.yolov7pytorch/valid/labels/._severityV4_80_jpg.rf.e006a6facb4e0191ea0290b49879b857.txt  \n",
            "  inflating: +_1516_640_640_label_Car Accident Detection.v2i.yolov7pytorch/valid/labels/829_jpeg_jpg.rf.264771834f5d1427467ee09c2fa952e6.txt  \n",
            "  inflating: __MACOSX/+_1516_640_640_label_Car Accident Detection.v2i.yolov7pytorch/valid/labels/._829_jpeg_jpg.rf.264771834f5d1427467ee09c2fa952e6.txt  \n",
            "  inflating: +_1516_640_640_label_Car Accident Detection.v2i.yolov7pytorch/valid/labels/download-4_jpg.rf.323968b99bff889d70b69a65e9554685.txt  \n",
            "  inflating: __MACOSX/+_1516_640_640_label_Car Accident Detection.v2i.yolov7pytorch/valid/labels/._download-4_jpg.rf.323968b99bff889d70b69a65e9554685.txt  \n",
            "  inflating: +_1516_640_640_label_Car Accident Detection.v2i.yolov7pytorch/valid/labels/accidentFrame2743_jpg.rf.6e32f6a14c0f1955d816f917f94104ad.txt  \n",
            "  inflating: __MACOSX/+_1516_640_640_label_Car Accident Detection.v2i.yolov7pytorch/valid/labels/._accidentFrame2743_jpg.rf.6e32f6a14c0f1955d816f917f94104ad.txt  \n",
            "  inflating: +_1516_640_640_label_Car Accident Detection.v2i.yolov7pytorch/valid/labels/test15_2_jpg.rf.4bd906f010a6a07c6db9de0af9317062.txt  \n",
            "  inflating: __MACOSX/+_1516_640_640_label_Car Accident Detection.v2i.yolov7pytorch/valid/labels/._test15_2_jpg.rf.4bd906f010a6a07c6db9de0af9317062.txt  \n",
            "  inflating: +_1516_640_640_label_Car Accident Detection.v2i.yolov7pytorch/valid/labels/Screenshot-333-_png_jpg.rf.3a6f83c3a5fa59e2cbfde43260749b52.txt  \n",
            "  inflating: __MACOSX/+_1516_640_640_label_Car Accident Detection.v2i.yolov7pytorch/valid/labels/._Screenshot-333-_png_jpg.rf.3a6f83c3a5fa59e2cbfde43260749b52.txt  \n",
            "  inflating: +_1516_640_640_label_Car Accident Detection.v2i.yolov7pytorch/valid/labels/severityV4_12_jpg.rf.19923e9de64648193debab9a7f02964f.txt  \n",
            "  inflating: __MACOSX/+_1516_640_640_label_Car Accident Detection.v2i.yolov7pytorch/valid/labels/._severityV4_12_jpg.rf.19923e9de64648193debab9a7f02964f.txt  \n",
            "  inflating: +_1516_640_640_label_Car Accident Detection.v2i.yolov7pytorch/valid/labels/frame_1338_jpg.rf.280bbebaf58ada3d0cb5ad8808d272d6.txt  \n",
            "  inflating: __MACOSX/+_1516_640_640_label_Car Accident Detection.v2i.yolov7pytorch/valid/labels/._frame_1338_jpg.rf.280bbebaf58ada3d0cb5ad8808d272d6.txt  \n",
            "  inflating: +_1516_640_640_label_Car Accident Detection.v2i.yolov7pytorch/valid/labels/vlcsnap-2020-01-17-03h47m53s748_png.rf.160113cec909a164e5530f09e4d7fcc3.txt  \n",
            "  inflating: __MACOSX/+_1516_640_640_label_Car Accident Detection.v2i.yolov7pytorch/valid/labels/._vlcsnap-2020-01-17-03h47m53s748_png.rf.160113cec909a164e5530f09e4d7fcc3.txt  \n",
            "  inflating: +_1516_640_640_label_Car Accident Detection.v2i.yolov7pytorch/valid/labels/severityV4_63_jpg.rf.fa61880b6d5603fdc5f5a166771be607.txt  \n",
            "  inflating: __MACOSX/+_1516_640_640_label_Car Accident Detection.v2i.yolov7pytorch/valid/labels/._severityV4_63_jpg.rf.fa61880b6d5603fdc5f5a166771be607.txt  \n",
            "  inflating: +_1516_640_640_label_Car Accident Detection.v2i.yolov7pytorch/valid/labels/Screenshot-428-_png_jpg.rf.1586d759ce378dd20249ddd126b6f861.txt  \n",
            "  inflating: __MACOSX/+_1516_640_640_label_Car Accident Detection.v2i.yolov7pytorch/valid/labels/._Screenshot-428-_png_jpg.rf.1586d759ce378dd20249ddd126b6f861.txt  \n",
            "  inflating: +_1516_640_640_label_Car Accident Detection.v2i.yolov7pytorch/valid/labels/frame_114_jpg.rf.47f2903fb960fcd82c68ae3c7007f174.txt  \n",
            "  inflating: __MACOSX/+_1516_640_640_label_Car Accident Detection.v2i.yolov7pytorch/valid/labels/._frame_114_jpg.rf.47f2903fb960fcd82c68ae3c7007f174.txt  \n",
            "  inflating: +_1516_640_640_label_Car Accident Detection.v2i.yolov7pytorch/valid/labels/accidentFrame458_jpg.rf.68fd3637f057ac3e30192319930fd1f4.txt  \n",
            "  inflating: __MACOSX/+_1516_640_640_label_Car Accident Detection.v2i.yolov7pytorch/valid/labels/._accidentFrame458_jpg.rf.68fd3637f057ac3e30192319930fd1f4.txt  \n",
            "  inflating: +_1516_640_640_label_Car Accident Detection.v2i.yolov7pytorch/valid/labels/Semi-RealisticVD-119_jpg.rf.c84629fffea4dfd5b9b035e78150a688.txt  \n",
            "  inflating: __MACOSX/+_1516_640_640_label_Car Accident Detection.v2i.yolov7pytorch/valid/labels/._Semi-RealisticVD-119_jpg.rf.c84629fffea4dfd5b9b035e78150a688.txt  \n",
            "  inflating: +_1516_640_640_label_Car Accident Detection.v2i.yolov7pytorch/valid/labels/Semi-RealisticVD-102_jpg.rf.6eafeb7848629e40fc24162795f0f1b5.txt  \n",
            "  inflating: __MACOSX/+_1516_640_640_label_Car Accident Detection.v2i.yolov7pytorch/valid/labels/._Semi-RealisticVD-102_jpg.rf.6eafeb7848629e40fc24162795f0f1b5.txt  \n",
            "  inflating: +_1516_640_640_label_Car Accident Detection.v2i.yolov7pytorch/valid/labels/vlcsnap-2020-01-15-21h49m49s194_png.rf.30a7db299ceb46733691a68dc20aea7f.txt  \n",
            "  inflating: __MACOSX/+_1516_640_640_label_Car Accident Detection.v2i.yolov7pytorch/valid/labels/._vlcsnap-2020-01-15-21h49m49s194_png.rf.30a7db299ceb46733691a68dc20aea7f.txt  \n",
            "  inflating: +_1516_640_640_label_Car Accident Detection.v2i.yolov7pytorch/valid/labels/Accident-334-_jpg.rf.e30504d8fe5cfee2632005e776bcf734.txt  \n",
            "  inflating: __MACOSX/+_1516_640_640_label_Car Accident Detection.v2i.yolov7pytorch/valid/labels/._Accident-334-_jpg.rf.e30504d8fe5cfee2632005e776bcf734.txt  \n",
            "  inflating: +_1516_640_640_label_Car Accident Detection.v2i.yolov7pytorch/valid/labels/frame_4575_jpg.rf.59b3e469c2668d163b841003b4b9fdab.txt  \n",
            "  inflating: __MACOSX/+_1516_640_640_label_Car Accident Detection.v2i.yolov7pytorch/valid/labels/._frame_4575_jpg.rf.59b3e469c2668d163b841003b4b9fdab.txt  \n",
            "  inflating: +_1516_640_640_label_Car Accident Detection.v2i.yolov7pytorch/valid/labels/accidentFrame414_jpg.rf.ccb936773c767cc53f2150ad8af65563.txt  \n",
            "  inflating: __MACOSX/+_1516_640_640_label_Car Accident Detection.v2i.yolov7pytorch/valid/labels/._accidentFrame414_jpg.rf.ccb936773c767cc53f2150ad8af65563.txt  \n",
            "  inflating: +_1516_640_640_label_Car Accident Detection.v2i.yolov7pytorch/valid/labels/acc1489_jpg.rf.7fd7a49a589227f0c04f0b0f56ae816e.txt  \n",
            "  inflating: __MACOSX/+_1516_640_640_label_Car Accident Detection.v2i.yolov7pytorch/valid/labels/._acc1489_jpg.rf.7fd7a49a589227f0c04f0b0f56ae816e.txt  \n",
            "  inflating: +_1516_640_640_label_Car Accident Detection.v2i.yolov7pytorch/valid/labels/severityV4_81_jpg.rf.c1464c833c757c4add5f08966912f3c4.txt  \n",
            "  inflating: __MACOSX/+_1516_640_640_label_Car Accident Detection.v2i.yolov7pytorch/valid/labels/._severityV4_81_jpg.rf.c1464c833c757c4add5f08966912f3c4.txt  \n",
            "  inflating: +_1516_640_640_label_Car Accident Detection.v2i.yolov7pytorch/valid/labels/severityV4_35_jpg.rf.c8423c8a5256a7f708b91b1f3b23bb78.txt  \n",
            "  inflating: __MACOSX/+_1516_640_640_label_Car Accident Detection.v2i.yolov7pytorch/valid/labels/._severityV4_35_jpg.rf.c8423c8a5256a7f708b91b1f3b23bb78.txt  \n",
            "  inflating: +_1516_640_640_label_Car Accident Detection.v2i.yolov7pytorch/valid/labels/traffic_img17_jpg.rf.44334014aacf04fb6925a2c4d460dfa5.txt  \n",
            "  inflating: __MACOSX/+_1516_640_640_label_Car Accident Detection.v2i.yolov7pytorch/valid/labels/._traffic_img17_jpg.rf.44334014aacf04fb6925a2c4d460dfa5.txt  \n",
            "  inflating: +_1516_640_640_label_Car Accident Detection.v2i.yolov7pytorch/valid/labels/severityV4_84_jpg.rf.eb71c31128d126fe3cb19b7821aef37c.txt  \n",
            "  inflating: __MACOSX/+_1516_640_640_label_Car Accident Detection.v2i.yolov7pytorch/valid/labels/._severityV4_84_jpg.rf.eb71c31128d126fe3cb19b7821aef37c.txt  \n",
            "  inflating: +_1516_640_640_label_Car Accident Detection.v2i.yolov7pytorch/valid/labels/traffic_img1855_jpg.rf.a697b1ef3c73514f8ab2032a65cbae59.txt  \n",
            "  inflating: __MACOSX/+_1516_640_640_label_Car Accident Detection.v2i.yolov7pytorch/valid/labels/._traffic_img1855_jpg.rf.a697b1ef3c73514f8ab2032a65cbae59.txt  \n",
            "  inflating: +_1516_640_640_label_Car Accident Detection.v2i.yolov7pytorch/valid/labels/vd55_jpeg_jpg.rf.8833926414ee4fbf23dc3c227417ae58.txt  \n",
            "  inflating: __MACOSX/+_1516_640_640_label_Car Accident Detection.v2i.yolov7pytorch/valid/labels/._vd55_jpeg_jpg.rf.8833926414ee4fbf23dc3c227417ae58.txt  \n",
            "  inflating: +_1516_640_640_label_Car Accident Detection.v2i.yolov7pytorch/valid/labels/argusAccident58_jpg.rf.bf91cede27453686ec8101e7ce667149.txt  \n",
            "  inflating: __MACOSX/+_1516_640_640_label_Car Accident Detection.v2i.yolov7pytorch/valid/labels/._argusAccident58_jpg.rf.bf91cede27453686ec8101e7ce667149.txt  \n",
            "  inflating: +_1516_640_640_label_Car Accident Detection.v2i.yolov7pytorch/valid/labels/vlcsnap-2020-01-17-03h49m36s931_png.rf.d0ba12a0c9fbf375c74c304f418956f0.txt  \n",
            "  inflating: __MACOSX/+_1516_640_640_label_Car Accident Detection.v2i.yolov7pytorch/valid/labels/._vlcsnap-2020-01-17-03h49m36s931_png.rf.d0ba12a0c9fbf375c74c304f418956f0.txt  \n",
            "  inflating: +_1516_640_640_label_Car Accident Detection.v2i.yolov7pytorch/valid/labels/Severity_Detect_V17_jpg.rf.0879c4cf70628fc3ccbae62f5926e602.txt  \n",
            "  inflating: __MACOSX/+_1516_640_640_label_Car Accident Detection.v2i.yolov7pytorch/valid/labels/._Severity_Detect_V17_jpg.rf.0879c4cf70628fc3ccbae62f5926e602.txt  \n",
            "  inflating: +_1516_640_640_label_Car Accident Detection.v2i.yolov7pytorch/valid/labels/vlcsnap-2020-01-16-01h19m41s489_png.rf.a97e830b3a1111e2d6af0b8c3c6a8a02.txt  \n",
            "  inflating: __MACOSX/+_1516_640_640_label_Car Accident Detection.v2i.yolov7pytorch/valid/labels/._vlcsnap-2020-01-16-01h19m41s489_png.rf.a97e830b3a1111e2d6af0b8c3c6a8a02.txt  \n",
            "  inflating: +_1516_640_640_label_Car Accident Detection.v2i.yolov7pytorch/valid/labels/accidentFrame38_jpg.rf.63ef53bd6540a1be6bbae7058859ae6b.txt  \n",
            "  inflating: __MACOSX/+_1516_640_640_label_Car Accident Detection.v2i.yolov7pytorch/valid/labels/._accidentFrame38_jpg.rf.63ef53bd6540a1be6bbae7058859ae6b.txt  \n",
            "  inflating: +_1516_640_640_label_Car Accident Detection.v2i.yolov7pytorch/valid/labels/60_jpeg_jpg.rf.3d8629ff310ee04551dc3a4b844c902f.txt  \n",
            "  inflating: __MACOSX/+_1516_640_640_label_Car Accident Detection.v2i.yolov7pytorch/valid/labels/._60_jpeg_jpg.rf.3d8629ff310ee04551dc3a4b844c902f.txt  \n",
            "  inflating: +_1516_640_640_label_Car Accident Detection.v2i.yolov7pytorch/valid/labels/FLIP_CAR_V139_jpg.rf.7fc2f2b0a55f8f00dd50effdc6a47d58.txt  \n",
            "  inflating: __MACOSX/+_1516_640_640_label_Car Accident Detection.v2i.yolov7pytorch/valid/labels/._FLIP_CAR_V139_jpg.rf.7fc2f2b0a55f8f00dd50effdc6a47d58.txt  \n",
            "  inflating: +_1516_640_640_label_Car Accident Detection.v2i.yolov7pytorch/valid/labels/image2_jpg.rf.ca197341cd7b23af90f4c170efac613c.txt  \n",
            "  inflating: __MACOSX/+_1516_640_640_label_Car Accident Detection.v2i.yolov7pytorch/valid/labels/._image2_jpg.rf.ca197341cd7b23af90f4c170efac613c.txt  \n",
            "  inflating: +_1516_640_640_label_Car Accident Detection.v2i.yolov7pytorch/valid/labels/260_jpeg_jpg.rf.2142a541a2763787ba58b18f674b5383.txt  \n",
            "  inflating: __MACOSX/+_1516_640_640_label_Car Accident Detection.v2i.yolov7pytorch/valid/labels/._260_jpeg_jpg.rf.2142a541a2763787ba58b18f674b5383.txt  \n",
            "  inflating: +_1516_640_640_label_Car Accident Detection.v2i.yolov7pytorch/valid/labels/Severity_Detect_V33_jpg.rf.f1f92e2733575f687c36e9498526e06a.txt  \n",
            "  inflating: __MACOSX/+_1516_640_640_label_Car Accident Detection.v2i.yolov7pytorch/valid/labels/._Severity_Detect_V33_jpg.rf.f1f92e2733575f687c36e9498526e06a.txt  \n",
            "  inflating: +_1516_640_640_label_Car Accident Detection.v2i.yolov7pytorch/valid/labels/Screenshot-441-_png_jpg.rf.763186693449e813207f4d2f64857702.txt  \n",
            "  inflating: __MACOSX/+_1516_640_640_label_Car Accident Detection.v2i.yolov7pytorch/valid/labels/._Screenshot-441-_png_jpg.rf.763186693449e813207f4d2f64857702.txt  \n",
            "  inflating: +_1516_640_640_label_Car Accident Detection.v2i.yolov7pytorch/valid/labels/severity_V119_jpg.rf.bc7e02ecc52909bada9585e690b720f9.txt  \n",
            "  inflating: __MACOSX/+_1516_640_640_label_Car Accident Detection.v2i.yolov7pytorch/valid/labels/._severity_V119_jpg.rf.bc7e02ecc52909bada9585e690b720f9.txt  \n",
            "  inflating: +_1516_640_640_label_Car Accident Detection.v2i.yolov7pytorch/valid/labels/frame_822_jpg.rf.90873fbf182d9576dbd9e680541f8d46.txt  \n",
            "  inflating: __MACOSX/+_1516_640_640_label_Car Accident Detection.v2i.yolov7pytorch/valid/labels/._frame_822_jpg.rf.90873fbf182d9576dbd9e680541f8d46.txt  \n",
            "  inflating: +_1516_640_640_label_Car Accident Detection.v2i.yolov7pytorch/valid/labels/FLIP_CAR_V167_jpg.rf.81757dbb2a5cbb7059eb4092f9bbee7f.txt  \n",
            "  inflating: __MACOSX/+_1516_640_640_label_Car Accident Detection.v2i.yolov7pytorch/valid/labels/._FLIP_CAR_V167_jpg.rf.81757dbb2a5cbb7059eb4092f9bbee7f.txt  \n",
            "  inflating: +_1516_640_640_label_Car Accident Detection.v2i.yolov7pytorch/valid/labels/argusAcc321_jpg.rf.6f4249a21bec84b02c2a60e805e1bd7e.txt  \n",
            "  inflating: __MACOSX/+_1516_640_640_label_Car Accident Detection.v2i.yolov7pytorch/valid/labels/._argusAcc321_jpg.rf.6f4249a21bec84b02c2a60e805e1bd7e.txt  \n",
            "  inflating: +_1516_640_640_label_Car Accident Detection.v2i.yolov7pytorch/valid/labels/tt2_png_jpg.rf.17bfdeace9c94a000f3346c813562952.txt  \n",
            "  inflating: __MACOSX/+_1516_640_640_label_Car Accident Detection.v2i.yolov7pytorch/valid/labels/._tt2_png_jpg.rf.17bfdeace9c94a000f3346c813562952.txt  \n",
            "  inflating: +_1516_640_640_label_Car Accident Detection.v2i.yolov7pytorch/valid/labels/traffic_img1091_jpg.rf.6c5989ee6718b6ccdad1f1205604c15d.txt  \n",
            "  inflating: __MACOSX/+_1516_640_640_label_Car Accident Detection.v2i.yolov7pytorch/valid/labels/._traffic_img1091_jpg.rf.6c5989ee6718b6ccdad1f1205604c15d.txt  \n",
            "  inflating: +_1516_640_640_label_Car Accident Detection.v2i.yolov7pytorch/valid/labels/screen_images2_png_jpg.rf.fd7357e96a139534703c5ecf78824c92.txt  \n",
            "  inflating: __MACOSX/+_1516_640_640_label_Car Accident Detection.v2i.yolov7pytorch/valid/labels/._screen_images2_png_jpg.rf.fd7357e96a139534703c5ecf78824c92.txt  \n",
            "  inflating: +_1516_640_640_label_Car Accident Detection.v2i.yolov7pytorch/valid/labels/trafficseverity_img220_jpg.rf.9b3c7a4869e9bb06895b7386aca16b56.txt  \n",
            "  inflating: __MACOSX/+_1516_640_640_label_Car Accident Detection.v2i.yolov7pytorch/valid/labels/._trafficseverity_img220_jpg.rf.9b3c7a4869e9bb06895b7386aca16b56.txt  \n",
            "  inflating: +_1516_640_640_label_Car Accident Detection.v2i.yolov7pytorch/valid/labels/7db827fb-e15d-4315-9f0a-16c8d38f9d5c_1920x1080_jpg.rf.97d3019df31c9e6082b9b8f4ba0b2967.txt  \n",
            "  inflating: __MACOSX/+_1516_640_640_label_Car Accident Detection.v2i.yolov7pytorch/valid/labels/._7db827fb-e15d-4315-9f0a-16c8d38f9d5c_1920x1080_jpg.rf.97d3019df31c9e6082b9b8f4ba0b2967.txt  \n",
            "  inflating: +_1516_640_640_label_Car Accident Detection.v2i.yolov7pytorch/valid/labels/a17_jpg.rf.76d60dc153665221e86d8fca699655f7.txt  \n",
            "  inflating: __MACOSX/+_1516_640_640_label_Car Accident Detection.v2i.yolov7pytorch/valid/labels/._a17_jpg.rf.76d60dc153665221e86d8fca699655f7.txt  \n",
            "  inflating: +_1516_640_640_label_Car Accident Detection.v2i.yolov7pytorch/valid/labels/accidentFrame352_jpg.rf.97915f17761a9dd15fba3f1204ba92e9.txt  \n",
            "  inflating: __MACOSX/+_1516_640_640_label_Car Accident Detection.v2i.yolov7pytorch/valid/labels/._accidentFrame352_jpg.rf.97915f17761a9dd15fba3f1204ba92e9.txt  \n",
            "  inflating: +_1516_640_640_label_Car Accident Detection.v2i.yolov7pytorch/valid/labels/test20_18_jpg.rf.182442f88c75502f7926da08b09c64d8.txt  \n",
            "  inflating: __MACOSX/+_1516_640_640_label_Car Accident Detection.v2i.yolov7pytorch/valid/labels/._test20_18_jpg.rf.182442f88c75502f7926da08b09c64d8.txt  \n",
            "  inflating: +_1516_640_640_label_Car Accident Detection.v2i.yolov7pytorch/valid/labels/vlcsnap-2020-01-16-01h23m04s767_png.rf.7761a4ea04475611bcce6dc378973ece.txt  \n",
            "  inflating: __MACOSX/+_1516_640_640_label_Car Accident Detection.v2i.yolov7pytorch/valid/labels/._vlcsnap-2020-01-16-01h23m04s767_png.rf.7761a4ea04475611bcce6dc378973ece.txt  \n",
            "  inflating: +_1516_640_640_label_Car Accident Detection.v2i.yolov7pytorch/valid/labels/test12_13_jpg.rf.7f79a5ab5b2ca24b543605a0a0d1bd12.txt  \n",
            "  inflating: __MACOSX/+_1516_640_640_label_Car Accident Detection.v2i.yolov7pytorch/valid/labels/._test12_13_jpg.rf.7f79a5ab5b2ca24b543605a0a0d1bd12.txt  \n",
            "  inflating: +_1516_640_640_label_Car Accident Detection.v2i.yolov7pytorch/valid/labels/accidentFrame2757_jpg.rf.4e4f01bd99fc71263d5d12d57ae092a7.txt  \n",
            "  inflating: __MACOSX/+_1516_640_640_label_Car Accident Detection.v2i.yolov7pytorch/valid/labels/._accidentFrame2757_jpg.rf.4e4f01bd99fc71263d5d12d57ae092a7.txt  \n",
            "  inflating: +_1516_640_640_label_Car Accident Detection.v2i.yolov7pytorch/valid/labels/test27_9_jpg.rf.578fe55ec0799844789239336d9a1a70.txt  \n",
            "  inflating: __MACOSX/+_1516_640_640_label_Car Accident Detection.v2i.yolov7pytorch/valid/labels/._test27_9_jpg.rf.578fe55ec0799844789239336d9a1a70.txt  \n",
            "  inflating: +_1516_640_640_label_Car Accident Detection.v2i.yolov7pytorch/valid/labels/severityV3_20_jpeg_jpg.rf.bdde5c4f4d6da3c09bbcc381cdf6b7ad.txt  \n",
            "  inflating: __MACOSX/+_1516_640_640_label_Car Accident Detection.v2i.yolov7pytorch/valid/labels/._severityV3_20_jpeg_jpg.rf.bdde5c4f4d6da3c09bbcc381cdf6b7ad.txt  \n",
            "  inflating: +_1516_640_640_label_Car Accident Detection.v2i.yolov7pytorch/valid/labels/frame_0071_jpg.rf.2ffd40b798daaedacf80cb5c3ca1b284.txt  \n",
            "  inflating: __MACOSX/+_1516_640_640_label_Car Accident Detection.v2i.yolov7pytorch/valid/labels/._frame_0071_jpg.rf.2ffd40b798daaedacf80cb5c3ca1b284.txt  \n",
            "  inflating: +_1516_640_640_label_Car Accident Detection.v2i.yolov7pytorch/valid/labels/1001_jpeg_jpg.rf.e39515b6706d9ef8d760663ac627cf55.txt  \n",
            "  inflating: __MACOSX/+_1516_640_640_label_Car Accident Detection.v2i.yolov7pytorch/valid/labels/._1001_jpeg_jpg.rf.e39515b6706d9ef8d760663ac627cf55.txt  \n",
            "  inflating: +_1516_640_640_label_Car Accident Detection.v2i.yolov7pytorch/valid/labels/images-10_jpg.rf.60a473da1926afc833e45781fdd6b4b2.txt  \n",
            "  inflating: __MACOSX/+_1516_640_640_label_Car Accident Detection.v2i.yolov7pytorch/valid/labels/._images-10_jpg.rf.60a473da1926afc833e45781fdd6b4b2.txt  \n",
            "  inflating: +_1516_640_640_label_Car Accident Detection.v2i.yolov7pytorch/valid/labels/Screenshot-365-_png_jpg.rf.25fe68ad9639bd96458af850f733dab7.txt  \n",
            "  inflating: __MACOSX/+_1516_640_640_label_Car Accident Detection.v2i.yolov7pytorch/valid/labels/._Screenshot-365-_png_jpg.rf.25fe68ad9639bd96458af850f733dab7.txt  \n",
            "  inflating: +_1516_640_640_label_Car Accident Detection.v2i.yolov7pytorch/valid/labels/1092_jpeg_jpg.rf.1bde78e85a8d9cfc1c07976f6ff176eb.txt  \n",
            "  inflating: __MACOSX/+_1516_640_640_label_Car Accident Detection.v2i.yolov7pytorch/valid/labels/._1092_jpeg_jpg.rf.1bde78e85a8d9cfc1c07976f6ff176eb.txt  \n",
            "  inflating: +_1516_640_640_label_Car Accident Detection.v2i.yolov7pytorch/valid/labels/severityV4_79_jpg.rf.284a5590e75a74ac7efd268830729e42.txt  \n",
            "  inflating: __MACOSX/+_1516_640_640_label_Car Accident Detection.v2i.yolov7pytorch/valid/labels/._severityV4_79_jpg.rf.284a5590e75a74ac7efd268830729e42.txt  \n",
            "  inflating: +_1516_640_640_label_Car Accident Detection.v2i.yolov7pytorch/test/images/test17_18_jpg.rf.816dd6cc18f714d079dccebf3d3b5268.jpg  \n",
            "  inflating: __MACOSX/+_1516_640_640_label_Car Accident Detection.v2i.yolov7pytorch/test/images/._test17_18_jpg.rf.816dd6cc18f714d079dccebf3d3b5268.jpg  \n",
            "  inflating: +_1516_640_640_label_Car Accident Detection.v2i.yolov7pytorch/test/images/severityV4_70_jpg.rf.b36c4b87b1d80264be30d39e1a221ce9.jpg  \n",
            "  inflating: __MACOSX/+_1516_640_640_label_Car Accident Detection.v2i.yolov7pytorch/test/images/._severityV4_70_jpg.rf.b36c4b87b1d80264be30d39e1a221ce9.jpg  \n",
            "  inflating: +_1516_640_640_label_Car Accident Detection.v2i.yolov7pytorch/test/images/Accident-303-_jpg.rf.e6519690d4cec9abd627b3c5d000bb63.jpg  \n",
            "  inflating: __MACOSX/+_1516_640_640_label_Car Accident Detection.v2i.yolov7pytorch/test/images/._Accident-303-_jpg.rf.e6519690d4cec9abd627b3c5d000bb63.jpg  \n",
            "  inflating: +_1516_640_640_label_Car Accident Detection.v2i.yolov7pytorch/test/images/test26_16_jpg.rf.73a59a3f03df912581aa898e36a603d4.jpg  \n",
            "  inflating: __MACOSX/+_1516_640_640_label_Car Accident Detection.v2i.yolov7pytorch/test/images/._test26_16_jpg.rf.73a59a3f03df912581aa898e36a603d4.jpg  \n",
            "  inflating: +_1516_640_640_label_Car Accident Detection.v2i.yolov7pytorch/test/images/frame_5085_jpg.rf.427c772592363a3b9b49dbb729d19efd.jpg  \n",
            "  inflating: __MACOSX/+_1516_640_640_label_Car Accident Detection.v2i.yolov7pytorch/test/images/._frame_5085_jpg.rf.427c772592363a3b9b49dbb729d19efd.jpg  \n",
            "  inflating: +_1516_640_640_label_Car Accident Detection.v2i.yolov7pytorch/test/images/Screenshot-435-_png_jpg.rf.c197070c650bcf6f4d646e194c5aa999.jpg  \n",
            "  inflating: __MACOSX/+_1516_640_640_label_Car Accident Detection.v2i.yolov7pytorch/test/images/._Screenshot-435-_png_jpg.rf.c197070c650bcf6f4d646e194c5aa999.jpg  \n",
            "  inflating: +_1516_640_640_label_Car Accident Detection.v2i.yolov7pytorch/test/images/ds166_jpg.rf.a835dfaf7e076b1fedd2690456e2868a.jpg  \n",
            "  inflating: __MACOSX/+_1516_640_640_label_Car Accident Detection.v2i.yolov7pytorch/test/images/._ds166_jpg.rf.a835dfaf7e076b1fedd2690456e2868a.jpg  \n",
            "  inflating: +_1516_640_640_label_Car Accident Detection.v2i.yolov7pytorch/test/images/FLIP_CAR_V169_jpg.rf.79b59b5465aee635caabcc6d1cd79ee8.jpg  \n",
            "  inflating: __MACOSX/+_1516_640_640_label_Car Accident Detection.v2i.yolov7pytorch/test/images/._FLIP_CAR_V169_jpg.rf.79b59b5465aee635caabcc6d1cd79ee8.jpg  \n",
            "  inflating: +_1516_640_640_label_Car Accident Detection.v2i.yolov7pytorch/test/images/FLIP_CAR_V125_jpg.rf.276144d44ea7cc80e57c0c1fca9bcb30.jpg  \n",
            "  inflating: __MACOSX/+_1516_640_640_label_Car Accident Detection.v2i.yolov7pytorch/test/images/._FLIP_CAR_V125_jpg.rf.276144d44ea7cc80e57c0c1fca9bcb30.jpg  \n",
            "  inflating: +_1516_640_640_label_Car Accident Detection.v2i.yolov7pytorch/test/images/test13_19_jpg.rf.fa7b22c8668cf14daa1e24441bfb0b0f.jpg  \n",
            "  inflating: __MACOSX/+_1516_640_640_label_Car Accident Detection.v2i.yolov7pytorch/test/images/._test13_19_jpg.rf.fa7b22c8668cf14daa1e24441bfb0b0f.jpg  \n",
            "  inflating: +_1516_640_640_label_Car Accident Detection.v2i.yolov7pytorch/test/images/severity_V110_jpg.rf.2b406b43a2370c9a13c8428c7a5c25fc.jpg  \n",
            "  inflating: __MACOSX/+_1516_640_640_label_Car Accident Detection.v2i.yolov7pytorch/test/images/._severity_V110_jpg.rf.2b406b43a2370c9a13c8428c7a5c25fc.jpg  \n",
            "  inflating: +_1516_640_640_label_Car Accident Detection.v2i.yolov7pytorch/test/images/severityV3_27_jpeg_jpg.rf.5717588694b7dd81e82aab96f28151b2.jpg  \n",
            "  inflating: __MACOSX/+_1516_640_640_label_Car Accident Detection.v2i.yolov7pytorch/test/images/._severityV3_27_jpeg_jpg.rf.5717588694b7dd81e82aab96f28151b2.jpg  \n",
            "  inflating: +_1516_640_640_label_Car Accident Detection.v2i.yolov7pytorch/test/images/accidentFrame461_jpg.rf.3f29a239397cb2ab7f30a668cf39a41a.jpg  \n",
            "  inflating: __MACOSX/+_1516_640_640_label_Car Accident Detection.v2i.yolov7pytorch/test/images/._accidentFrame461_jpg.rf.3f29a239397cb2ab7f30a668cf39a41a.jpg  \n",
            "  inflating: +_1516_640_640_label_Car Accident Detection.v2i.yolov7pytorch/test/images/ds100_jpg.rf.570bbdd28940d02857ad64085b5e07d6.jpg  \n",
            "  inflating: __MACOSX/+_1516_640_640_label_Car Accident Detection.v2i.yolov7pytorch/test/images/._ds100_jpg.rf.570bbdd28940d02857ad64085b5e07d6.jpg  \n",
            "  inflating: +_1516_640_640_label_Car Accident Detection.v2i.yolov7pytorch/test/images/severity_V11_jpg.rf.c2fd5be71ec76a9b440b85cd9968b7f2.jpg  \n",
            "  inflating: __MACOSX/+_1516_640_640_label_Car Accident Detection.v2i.yolov7pytorch/test/images/._severity_V11_jpg.rf.c2fd5be71ec76a9b440b85cd9968b7f2.jpg  \n",
            "  inflating: +_1516_640_640_label_Car Accident Detection.v2i.yolov7pytorch/test/images/traffic_img560_jpg.rf.eaff0715c0be045df5c3f276f39637a9.jpg  \n",
            "  inflating: __MACOSX/+_1516_640_640_label_Car Accident Detection.v2i.yolov7pytorch/test/images/._traffic_img560_jpg.rf.eaff0715c0be045df5c3f276f39637a9.jpg  \n",
            "  inflating: +_1516_640_640_label_Car Accident Detection.v2i.yolov7pytorch/test/images/FLIP_CAR_V141_jpg.rf.05fcd22e36e1dd0f511cf033fc7da289.jpg  \n",
            "  inflating: __MACOSX/+_1516_640_640_label_Car Accident Detection.v2i.yolov7pytorch/test/images/._FLIP_CAR_V141_jpg.rf.05fcd22e36e1dd0f511cf033fc7da289.jpg  \n",
            "  inflating: +_1516_640_640_label_Car Accident Detection.v2i.yolov7pytorch/test/images/images-11_jpg.rf.4e2c6221c17fd961664b0c307fa1c6ee.jpg  \n",
            "  inflating: __MACOSX/+_1516_640_640_label_Car Accident Detection.v2i.yolov7pytorch/test/images/._images-11_jpg.rf.4e2c6221c17fd961664b0c307fa1c6ee.jpg  \n",
            "  inflating: +_1516_640_640_label_Car Accident Detection.v2i.yolov7pytorch/test/images/clarabartoncrash_jpg.rf.6ec8dd8af82f4c925070cf0368c2800f.jpg  \n",
            "  inflating: __MACOSX/+_1516_640_640_label_Car Accident Detection.v2i.yolov7pytorch/test/images/._clarabartoncrash_jpg.rf.6ec8dd8af82f4c925070cf0368c2800f.jpg  \n",
            "  inflating: +_1516_640_640_label_Car Accident Detection.v2i.yolov7pytorch/test/images/severityV4_76_jpg.rf.0c22ae2f49a2720a6c5eb1db133fa8d4.jpg  \n",
            "  inflating: __MACOSX/+_1516_640_640_label_Car Accident Detection.v2i.yolov7pytorch/test/images/._severityV4_76_jpg.rf.0c22ae2f49a2720a6c5eb1db133fa8d4.jpg  \n",
            "  inflating: +_1516_640_640_label_Car Accident Detection.v2i.yolov7pytorch/test/images/260_jpeg_jpg.rf.69371149055972d53b19064b20eabda5.jpg  \n",
            "  inflating: __MACOSX/+_1516_640_640_label_Car Accident Detection.v2i.yolov7pytorch/test/images/._260_jpeg_jpg.rf.69371149055972d53b19064b20eabda5.jpg  \n",
            "  inflating: +_1516_640_640_label_Car Accident Detection.v2i.yolov7pytorch/test/images/Screenshot-300-_png_jpg.rf.ae77528e3670383b05f88be47887bc95.jpg  \n",
            "  inflating: __MACOSX/+_1516_640_640_label_Car Accident Detection.v2i.yolov7pytorch/test/images/._Screenshot-300-_png_jpg.rf.ae77528e3670383b05f88be47887bc95.jpg  \n",
            "  inflating: +_1516_640_640_label_Car Accident Detection.v2i.yolov7pytorch/test/images/severity_V134_jpg.rf.18904e8aa5792a886cbdaddc76d37ec9.jpg  \n",
            "  inflating: __MACOSX/+_1516_640_640_label_Car Accident Detection.v2i.yolov7pytorch/test/images/._severity_V134_jpg.rf.18904e8aa5792a886cbdaddc76d37ec9.jpg  \n",
            "  inflating: +_1516_640_640_label_Car Accident Detection.v2i.yolov7pytorch/test/images/Screen-Shot-2022-04-08-at-1-48-56-AM_png_jpg.rf.ae18c17b6570544ac950b8f84f5ca8ce.jpg  \n",
            "  inflating: __MACOSX/+_1516_640_640_label_Car Accident Detection.v2i.yolov7pytorch/test/images/._Screen-Shot-2022-04-08-at-1-48-56-AM_png_jpg.rf.ae18c17b6570544ac950b8f84f5ca8ce.jpg  \n",
            "  inflating: +_1516_640_640_label_Car Accident Detection.v2i.yolov7pytorch/test/images/Semi-RealisticVD-190_jpg.rf.0f20b1cc99436feaccaa51a58a98bb56.jpg  \n",
            "  inflating: __MACOSX/+_1516_640_640_label_Car Accident Detection.v2i.yolov7pytorch/test/images/._Semi-RealisticVD-190_jpg.rf.0f20b1cc99436feaccaa51a58a98bb56.jpg  \n",
            "  inflating: +_1516_640_640_label_Car Accident Detection.v2i.yolov7pytorch/test/images/vlcsnap-2020-01-15-22h07m27s794_png.rf.791f14c86f31b754777994dda9ec0043.jpg  \n",
            "  inflating: __MACOSX/+_1516_640_640_label_Car Accident Detection.v2i.yolov7pytorch/test/images/._vlcsnap-2020-01-15-22h07m27s794_png.rf.791f14c86f31b754777994dda9ec0043.jpg  \n",
            "  inflating: +_1516_640_640_label_Car Accident Detection.v2i.yolov7pytorch/test/images/frame_1291_jpg.rf.52abc7c7ab041b03d2850de0e1bf34de.jpg  \n",
            "  inflating: __MACOSX/+_1516_640_640_label_Car Accident Detection.v2i.yolov7pytorch/test/images/._frame_1291_jpg.rf.52abc7c7ab041b03d2850de0e1bf34de.jpg  \n",
            "  inflating: +_1516_640_640_label_Car Accident Detection.v2i.yolov7pytorch/test/images/images-2_jpg.rf.0efdb4633a4c1a1f5268a263b297083c.jpg  \n",
            "  inflating: __MACOSX/+_1516_640_640_label_Car Accident Detection.v2i.yolov7pytorch/test/images/._images-2_jpg.rf.0efdb4633a4c1a1f5268a263b297083c.jpg  \n",
            "  inflating: +_1516_640_640_label_Car Accident Detection.v2i.yolov7pytorch/test/images/severity_V139_jpg.rf.a9de9923cfe9441d6731f60612971a40.jpg  \n",
            "  inflating: __MACOSX/+_1516_640_640_label_Car Accident Detection.v2i.yolov7pytorch/test/images/._severity_V139_jpg.rf.a9de9923cfe9441d6731f60612971a40.jpg  \n",
            "  inflating: +_1516_640_640_label_Car Accident Detection.v2i.yolov7pytorch/test/images/acc453_jpg.rf.2f819ae227113b110a7fc60318cf5a15.jpg  \n",
            "  inflating: __MACOSX/+_1516_640_640_label_Car Accident Detection.v2i.yolov7pytorch/test/images/._acc453_jpg.rf.2f819ae227113b110a7fc60318cf5a15.jpg  \n",
            "  inflating: +_1516_640_640_label_Car Accident Detection.v2i.yolov7pytorch/test/images/1_79_jpg.rf.31195b563c5c0440275339fe1fd0174e.jpg  \n",
            "  inflating: __MACOSX/+_1516_640_640_label_Car Accident Detection.v2i.yolov7pytorch/test/images/._1_79_jpg.rf.31195b563c5c0440275339fe1fd0174e.jpg  \n",
            "  inflating: +_1516_640_640_label_Car Accident Detection.v2i.yolov7pytorch/test/images/images-1_jpg.rf.3c9cd9bca55de8d08e2b416b8bcbbf74.jpg  \n",
            "  inflating: __MACOSX/+_1516_640_640_label_Car Accident Detection.v2i.yolov7pytorch/test/images/._images-1_jpg.rf.3c9cd9bca55de8d08e2b416b8bcbbf74.jpg  \n",
            "  inflating: +_1516_640_640_label_Car Accident Detection.v2i.yolov7pytorch/test/images/test12_15_jpg.rf.9ec40d7de5ab6f7646ca1eff01cf0069.jpg  \n",
            "  inflating: __MACOSX/+_1516_640_640_label_Car Accident Detection.v2i.yolov7pytorch/test/images/._test12_15_jpg.rf.9ec40d7de5ab6f7646ca1eff01cf0069.jpg  \n",
            "  inflating: +_1516_640_640_label_Car Accident Detection.v2i.yolov7pytorch/test/images/images-24_jpg.rf.961e55a669c44561812164922507798b.jpg  \n",
            "  inflating: __MACOSX/+_1516_640_640_label_Car Accident Detection.v2i.yolov7pytorch/test/images/._images-24_jpg.rf.961e55a669c44561812164922507798b.jpg  \n",
            "  inflating: +_1516_640_640_label_Car Accident Detection.v2i.yolov7pytorch/test/images/test10_15_jpg.rf.58ea476abf017a42f83a2cbc2e3349e9.jpg  \n",
            "  inflating: __MACOSX/+_1516_640_640_label_Car Accident Detection.v2i.yolov7pytorch/test/images/._test10_15_jpg.rf.58ea476abf017a42f83a2cbc2e3349e9.jpg  \n",
            "  inflating: +_1516_640_640_label_Car Accident Detection.v2i.yolov7pytorch/test/images/test29_10_jpg.rf.dcf2ff259c50db7b8798fe6ccb94a8c4.jpg  \n",
            "  inflating: __MACOSX/+_1516_640_640_label_Car Accident Detection.v2i.yolov7pytorch/test/images/._test29_10_jpg.rf.dcf2ff259c50db7b8798fe6ccb94a8c4.jpg  \n",
            "  inflating: +_1516_640_640_label_Car Accident Detection.v2i.yolov7pytorch/test/images/accidentFrame2717_jpg.rf.5b9f26e18812088ac875f430c64ec364.jpg  \n",
            "  inflating: __MACOSX/+_1516_640_640_label_Car Accident Detection.v2i.yolov7pytorch/test/images/._accidentFrame2717_jpg.rf.5b9f26e18812088ac875f430c64ec364.jpg  \n",
            "  inflating: +_1516_640_640_label_Car Accident Detection.v2i.yolov7pytorch/test/images/accidentFrame237_jpg.rf.e523d36703c2618a076d1a6512bae9c1.jpg  \n",
            "  inflating: __MACOSX/+_1516_640_640_label_Car Accident Detection.v2i.yolov7pytorch/test/images/._accidentFrame237_jpg.rf.e523d36703c2618a076d1a6512bae9c1.jpg  \n",
            "  inflating: +_1516_640_640_label_Car Accident Detection.v2i.yolov7pytorch/test/images/frame_2155_jpg.rf.e53bf9fbb36cf98430c21d2237f856f7.jpg  \n",
            "  inflating: __MACOSX/+_1516_640_640_label_Car Accident Detection.v2i.yolov7pytorch/test/images/._frame_2155_jpg.rf.e53bf9fbb36cf98430c21d2237f856f7.jpg  \n",
            "  inflating: +_1516_640_640_label_Car Accident Detection.v2i.yolov7pytorch/test/images/60_jpeg.rf.f56e23daecdf9619e55c26e1aed328fd.jpg  \n",
            "  inflating: __MACOSX/+_1516_640_640_label_Car Accident Detection.v2i.yolov7pytorch/test/images/._60_jpeg.rf.f56e23daecdf9619e55c26e1aed328fd.jpg  \n",
            "  inflating: +_1516_640_640_label_Car Accident Detection.v2i.yolov7pytorch/test/images/images-4_jpg.rf.dd3de75667a4542ff090af5cdf487b42.jpg  \n",
            "  inflating: __MACOSX/+_1516_640_640_label_Car Accident Detection.v2i.yolov7pytorch/test/images/._images-4_jpg.rf.dd3de75667a4542ff090af5cdf487b42.jpg  \n",
            "  inflating: +_1516_640_640_label_Car Accident Detection.v2i.yolov7pytorch/test/images/severityV3_20_jpeg_jpg.rf.244128fd9fa674b565b350b2134e7593.jpg  \n",
            "  inflating: __MACOSX/+_1516_640_640_label_Car Accident Detection.v2i.yolov7pytorch/test/images/._severityV3_20_jpeg_jpg.rf.244128fd9fa674b565b350b2134e7593.jpg  \n",
            "  inflating: +_1516_640_640_label_Car Accident Detection.v2i.yolov7pytorch/test/images/severityV4_75_jpg.rf.184a536e5e14a533d7ad65520bfa4b5f.jpg  \n",
            "  inflating: __MACOSX/+_1516_640_640_label_Car Accident Detection.v2i.yolov7pytorch/test/images/._severityV4_75_jpg.rf.184a536e5e14a533d7ad65520bfa4b5f.jpg  \n",
            "  inflating: +_1516_640_640_label_Car Accident Detection.v2i.yolov7pytorch/test/images/FLIP_CAR_V162_jpg.rf.ccfe933b9131ce7a6f1c0892e14aa417.jpg  \n",
            "  inflating: __MACOSX/+_1516_640_640_label_Car Accident Detection.v2i.yolov7pytorch/test/images/._FLIP_CAR_V162_jpg.rf.ccfe933b9131ce7a6f1c0892e14aa417.jpg  \n",
            "  inflating: +_1516_640_640_label_Car Accident Detection.v2i.yolov7pytorch/test/images/ds101_jpg.rf.9751c704c7e2db708e37c42e19184212.jpg  \n",
            "  inflating: __MACOSX/+_1516_640_640_label_Car Accident Detection.v2i.yolov7pytorch/test/images/._ds101_jpg.rf.9751c704c7e2db708e37c42e19184212.jpg  \n",
            "  inflating: +_1516_640_640_label_Car Accident Detection.v2i.yolov7pytorch/test/images/20_jpg.rf.d1c5a3ca41cb95202e717f20c90c10cb.jpg  \n",
            "  inflating: __MACOSX/+_1516_640_640_label_Car Accident Detection.v2i.yolov7pytorch/test/images/._20_jpg.rf.d1c5a3ca41cb95202e717f20c90c10cb.jpg  \n",
            "  inflating: +_1516_640_640_label_Car Accident Detection.v2i.yolov7pytorch/test/images/10-79_jpg.rf.5980e40913e38aab2878e343906d9f2d.jpg  \n",
            "  inflating: __MACOSX/+_1516_640_640_label_Car Accident Detection.v2i.yolov7pytorch/test/images/._10-79_jpg.rf.5980e40913e38aab2878e343906d9f2d.jpg  \n",
            "  inflating: +_1516_640_640_label_Car Accident Detection.v2i.yolov7pytorch/test/images/4-105_jpg.rf.6d683c1a63978bf21962364f9a9d4624.jpg  \n",
            "  inflating: __MACOSX/+_1516_640_640_label_Car Accident Detection.v2i.yolov7pytorch/test/images/._4-105_jpg.rf.6d683c1a63978bf21962364f9a9d4624.jpg  \n",
            "  inflating: +_1516_640_640_label_Car Accident Detection.v2i.yolov7pytorch/test/images/285_jpeg_jpg.rf.3c352f2f77c69612cfbd92d7ca5c755f.jpg  \n",
            "  inflating: __MACOSX/+_1516_640_640_label_Car Accident Detection.v2i.yolov7pytorch/test/images/._285_jpeg_jpg.rf.3c352f2f77c69612cfbd92d7ca5c755f.jpg  \n",
            "  inflating: +_1516_640_640_label_Car Accident Detection.v2i.yolov7pytorch/test/images/traffic_img497_jpg.rf.cbbfc3cc411c82b288b547a9b8758817.jpg  \n",
            "  inflating: __MACOSX/+_1516_640_640_label_Car Accident Detection.v2i.yolov7pytorch/test/images/._traffic_img497_jpg.rf.cbbfc3cc411c82b288b547a9b8758817.jpg  \n",
            "  inflating: +_1516_640_640_label_Car Accident Detection.v2i.yolov7pytorch/test/images/frame_97_jpg.rf.ffa508c3f8cf09f5a5a7ae51d5bc59d7.jpg  \n",
            "  inflating: __MACOSX/+_1516_640_640_label_Car Accident Detection.v2i.yolov7pytorch/test/images/._frame_97_jpg.rf.ffa508c3f8cf09f5a5a7ae51d5bc59d7.jpg  \n",
            "  inflating: +_1516_640_640_label_Car Accident Detection.v2i.yolov7pytorch/test/labels/severityV3_27_jpeg_jpg.rf.5717588694b7dd81e82aab96f28151b2.txt  \n",
            "  inflating: __MACOSX/+_1516_640_640_label_Car Accident Detection.v2i.yolov7pytorch/test/labels/._severityV3_27_jpeg_jpg.rf.5717588694b7dd81e82aab96f28151b2.txt  \n",
            "  inflating: +_1516_640_640_label_Car Accident Detection.v2i.yolov7pytorch/test/labels/severity_V110_jpg.rf.2b406b43a2370c9a13c8428c7a5c25fc.txt  \n",
            "  inflating: __MACOSX/+_1516_640_640_label_Car Accident Detection.v2i.yolov7pytorch/test/labels/._severity_V110_jpg.rf.2b406b43a2370c9a13c8428c7a5c25fc.txt  \n",
            "  inflating: +_1516_640_640_label_Car Accident Detection.v2i.yolov7pytorch/test/labels/traffic_img560_jpg.rf.eaff0715c0be045df5c3f276f39637a9.txt  \n",
            "  inflating: __MACOSX/+_1516_640_640_label_Car Accident Detection.v2i.yolov7pytorch/test/labels/._traffic_img560_jpg.rf.eaff0715c0be045df5c3f276f39637a9.txt  \n",
            "  inflating: +_1516_640_640_label_Car Accident Detection.v2i.yolov7pytorch/test/labels/images-11_jpg.rf.4e2c6221c17fd961664b0c307fa1c6ee.txt  \n",
            "  inflating: __MACOSX/+_1516_640_640_label_Car Accident Detection.v2i.yolov7pytorch/test/labels/._images-11_jpg.rf.4e2c6221c17fd961664b0c307fa1c6ee.txt  \n",
            "  inflating: +_1516_640_640_label_Car Accident Detection.v2i.yolov7pytorch/test/labels/FLIP_CAR_V141_jpg.rf.05fcd22e36e1dd0f511cf033fc7da289.txt  \n",
            "  inflating: __MACOSX/+_1516_640_640_label_Car Accident Detection.v2i.yolov7pytorch/test/labels/._FLIP_CAR_V141_jpg.rf.05fcd22e36e1dd0f511cf033fc7da289.txt  \n",
            "  inflating: +_1516_640_640_label_Car Accident Detection.v2i.yolov7pytorch/test/labels/accidentFrame461_jpg.rf.3f29a239397cb2ab7f30a668cf39a41a.txt  \n",
            "  inflating: __MACOSX/+_1516_640_640_label_Car Accident Detection.v2i.yolov7pytorch/test/labels/._accidentFrame461_jpg.rf.3f29a239397cb2ab7f30a668cf39a41a.txt  \n",
            "  inflating: +_1516_640_640_label_Car Accident Detection.v2i.yolov7pytorch/test/labels/severity_V11_jpg.rf.c2fd5be71ec76a9b440b85cd9968b7f2.txt  \n",
            "  inflating: __MACOSX/+_1516_640_640_label_Car Accident Detection.v2i.yolov7pytorch/test/labels/._severity_V11_jpg.rf.c2fd5be71ec76a9b440b85cd9968b7f2.txt  \n",
            "  inflating: +_1516_640_640_label_Car Accident Detection.v2i.yolov7pytorch/test/labels/ds100_jpg.rf.570bbdd28940d02857ad64085b5e07d6.txt  \n",
            "  inflating: __MACOSX/+_1516_640_640_label_Car Accident Detection.v2i.yolov7pytorch/test/labels/._ds100_jpg.rf.570bbdd28940d02857ad64085b5e07d6.txt  \n",
            "  inflating: +_1516_640_640_label_Car Accident Detection.v2i.yolov7pytorch/test/labels/severityV4_76_jpg.rf.0c22ae2f49a2720a6c5eb1db133fa8d4.txt  \n",
            "  inflating: __MACOSX/+_1516_640_640_label_Car Accident Detection.v2i.yolov7pytorch/test/labels/._severityV4_76_jpg.rf.0c22ae2f49a2720a6c5eb1db133fa8d4.txt  \n",
            "  inflating: +_1516_640_640_label_Car Accident Detection.v2i.yolov7pytorch/test/labels/clarabartoncrash_jpg.rf.6ec8dd8af82f4c925070cf0368c2800f.txt  \n",
            "  inflating: __MACOSX/+_1516_640_640_label_Car Accident Detection.v2i.yolov7pytorch/test/labels/._clarabartoncrash_jpg.rf.6ec8dd8af82f4c925070cf0368c2800f.txt  \n",
            "  inflating: +_1516_640_640_label_Car Accident Detection.v2i.yolov7pytorch/test/labels/Screenshot-300-_png_jpg.rf.ae77528e3670383b05f88be47887bc95.txt  \n",
            "  inflating: __MACOSX/+_1516_640_640_label_Car Accident Detection.v2i.yolov7pytorch/test/labels/._Screenshot-300-_png_jpg.rf.ae77528e3670383b05f88be47887bc95.txt  \n",
            "  inflating: +_1516_640_640_label_Car Accident Detection.v2i.yolov7pytorch/test/labels/severity_V134_jpg.rf.18904e8aa5792a886cbdaddc76d37ec9.txt  \n",
            "  inflating: __MACOSX/+_1516_640_640_label_Car Accident Detection.v2i.yolov7pytorch/test/labels/._severity_V134_jpg.rf.18904e8aa5792a886cbdaddc76d37ec9.txt  \n",
            "  inflating: +_1516_640_640_label_Car Accident Detection.v2i.yolov7pytorch/test/labels/260_jpeg_jpg.rf.69371149055972d53b19064b20eabda5.txt  \n",
            "  inflating: __MACOSX/+_1516_640_640_label_Car Accident Detection.v2i.yolov7pytorch/test/labels/._260_jpeg_jpg.rf.69371149055972d53b19064b20eabda5.txt  \n",
            "  inflating: +_1516_640_640_label_Car Accident Detection.v2i.yolov7pytorch/test/labels/Accident-303-_jpg.rf.e6519690d4cec9abd627b3c5d000bb63.txt  \n",
            "  inflating: __MACOSX/+_1516_640_640_label_Car Accident Detection.v2i.yolov7pytorch/test/labels/._Accident-303-_jpg.rf.e6519690d4cec9abd627b3c5d000bb63.txt  \n",
            "  inflating: +_1516_640_640_label_Car Accident Detection.v2i.yolov7pytorch/test/labels/severityV4_70_jpg.rf.b36c4b87b1d80264be30d39e1a221ce9.txt  \n",
            "  inflating: __MACOSX/+_1516_640_640_label_Car Accident Detection.v2i.yolov7pytorch/test/labels/._severityV4_70_jpg.rf.b36c4b87b1d80264be30d39e1a221ce9.txt  \n",
            "  inflating: +_1516_640_640_label_Car Accident Detection.v2i.yolov7pytorch/test/labels/test26_16_jpg.rf.73a59a3f03df912581aa898e36a603d4.txt  \n",
            "  inflating: __MACOSX/+_1516_640_640_label_Car Accident Detection.v2i.yolov7pytorch/test/labels/._test26_16_jpg.rf.73a59a3f03df912581aa898e36a603d4.txt  \n",
            "  inflating: +_1516_640_640_label_Car Accident Detection.v2i.yolov7pytorch/test/labels/test17_18_jpg.rf.816dd6cc18f714d079dccebf3d3b5268.txt  \n",
            "  inflating: __MACOSX/+_1516_640_640_label_Car Accident Detection.v2i.yolov7pytorch/test/labels/._test17_18_jpg.rf.816dd6cc18f714d079dccebf3d3b5268.txt  \n",
            "  inflating: +_1516_640_640_label_Car Accident Detection.v2i.yolov7pytorch/test/labels/ds166_jpg.rf.a835dfaf7e076b1fedd2690456e2868a.txt  \n",
            "  inflating: __MACOSX/+_1516_640_640_label_Car Accident Detection.v2i.yolov7pytorch/test/labels/._ds166_jpg.rf.a835dfaf7e076b1fedd2690456e2868a.txt  \n",
            "  inflating: +_1516_640_640_label_Car Accident Detection.v2i.yolov7pytorch/test/labels/Screenshot-435-_png_jpg.rf.c197070c650bcf6f4d646e194c5aa999.txt  \n",
            "  inflating: __MACOSX/+_1516_640_640_label_Car Accident Detection.v2i.yolov7pytorch/test/labels/._Screenshot-435-_png_jpg.rf.c197070c650bcf6f4d646e194c5aa999.txt  \n",
            "  inflating: +_1516_640_640_label_Car Accident Detection.v2i.yolov7pytorch/test/labels/frame_5085_jpg.rf.427c772592363a3b9b49dbb729d19efd.txt  \n",
            "  inflating: __MACOSX/+_1516_640_640_label_Car Accident Detection.v2i.yolov7pytorch/test/labels/._frame_5085_jpg.rf.427c772592363a3b9b49dbb729d19efd.txt  \n",
            "  inflating: +_1516_640_640_label_Car Accident Detection.v2i.yolov7pytorch/test/labels/FLIP_CAR_V169_jpg.rf.79b59b5465aee635caabcc6d1cd79ee8.txt  \n",
            "  inflating: __MACOSX/+_1516_640_640_label_Car Accident Detection.v2i.yolov7pytorch/test/labels/._FLIP_CAR_V169_jpg.rf.79b59b5465aee635caabcc6d1cd79ee8.txt  \n",
            "  inflating: +_1516_640_640_label_Car Accident Detection.v2i.yolov7pytorch/test/labels/FLIP_CAR_V125_jpg.rf.276144d44ea7cc80e57c0c1fca9bcb30.txt  \n",
            "  inflating: __MACOSX/+_1516_640_640_label_Car Accident Detection.v2i.yolov7pytorch/test/labels/._FLIP_CAR_V125_jpg.rf.276144d44ea7cc80e57c0c1fca9bcb30.txt  \n",
            "  inflating: +_1516_640_640_label_Car Accident Detection.v2i.yolov7pytorch/test/labels/test13_19_jpg.rf.fa7b22c8668cf14daa1e24441bfb0b0f.txt  \n",
            "  inflating: __MACOSX/+_1516_640_640_label_Car Accident Detection.v2i.yolov7pytorch/test/labels/._test13_19_jpg.rf.fa7b22c8668cf14daa1e24441bfb0b0f.txt  \n",
            "  inflating: +_1516_640_640_label_Car Accident Detection.v2i.yolov7pytorch/test/labels/test29_10_jpg.rf.dcf2ff259c50db7b8798fe6ccb94a8c4.txt  \n",
            "  inflating: __MACOSX/+_1516_640_640_label_Car Accident Detection.v2i.yolov7pytorch/test/labels/._test29_10_jpg.rf.dcf2ff259c50db7b8798fe6ccb94a8c4.txt  \n",
            "  inflating: +_1516_640_640_label_Car Accident Detection.v2i.yolov7pytorch/test/labels/accidentFrame2717_jpg.rf.5b9f26e18812088ac875f430c64ec364.txt  \n",
            "  inflating: __MACOSX/+_1516_640_640_label_Car Accident Detection.v2i.yolov7pytorch/test/labels/._accidentFrame2717_jpg.rf.5b9f26e18812088ac875f430c64ec364.txt  \n",
            "  inflating: +_1516_640_640_label_Car Accident Detection.v2i.yolov7pytorch/test/labels/60_jpeg.rf.f56e23daecdf9619e55c26e1aed328fd.txt  \n",
            "  inflating: __MACOSX/+_1516_640_640_label_Car Accident Detection.v2i.yolov7pytorch/test/labels/._60_jpeg.rf.f56e23daecdf9619e55c26e1aed328fd.txt  \n",
            "  inflating: +_1516_640_640_label_Car Accident Detection.v2i.yolov7pytorch/test/labels/frame_2155_jpg.rf.e53bf9fbb36cf98430c21d2237f856f7.txt  \n",
            "  inflating: __MACOSX/+_1516_640_640_label_Car Accident Detection.v2i.yolov7pytorch/test/labels/._frame_2155_jpg.rf.e53bf9fbb36cf98430c21d2237f856f7.txt  \n",
            "  inflating: +_1516_640_640_label_Car Accident Detection.v2i.yolov7pytorch/test/labels/accidentFrame237_jpg.rf.e523d36703c2618a076d1a6512bae9c1.txt  \n",
            "  inflating: __MACOSX/+_1516_640_640_label_Car Accident Detection.v2i.yolov7pytorch/test/labels/._accidentFrame237_jpg.rf.e523d36703c2618a076d1a6512bae9c1.txt  \n",
            "  inflating: +_1516_640_640_label_Car Accident Detection.v2i.yolov7pytorch/test/labels/ds101_jpg.rf.9751c704c7e2db708e37c42e19184212.txt  \n",
            "  inflating: __MACOSX/+_1516_640_640_label_Car Accident Detection.v2i.yolov7pytorch/test/labels/._ds101_jpg.rf.9751c704c7e2db708e37c42e19184212.txt  \n",
            "  inflating: +_1516_640_640_label_Car Accident Detection.v2i.yolov7pytorch/test/labels/20_jpg.rf.d1c5a3ca41cb95202e717f20c90c10cb.txt  \n",
            "  inflating: __MACOSX/+_1516_640_640_label_Car Accident Detection.v2i.yolov7pytorch/test/labels/._20_jpg.rf.d1c5a3ca41cb95202e717f20c90c10cb.txt  \n",
            "  inflating: +_1516_640_640_label_Car Accident Detection.v2i.yolov7pytorch/test/labels/severityV3_20_jpeg_jpg.rf.244128fd9fa674b565b350b2134e7593.txt  \n",
            "  inflating: __MACOSX/+_1516_640_640_label_Car Accident Detection.v2i.yolov7pytorch/test/labels/._severityV3_20_jpeg_jpg.rf.244128fd9fa674b565b350b2134e7593.txt  \n",
            "  inflating: +_1516_640_640_label_Car Accident Detection.v2i.yolov7pytorch/test/labels/images-4_jpg.rf.dd3de75667a4542ff090af5cdf487b42.txt  \n",
            "  inflating: __MACOSX/+_1516_640_640_label_Car Accident Detection.v2i.yolov7pytorch/test/labels/._images-4_jpg.rf.dd3de75667a4542ff090af5cdf487b42.txt  \n",
            "  inflating: +_1516_640_640_label_Car Accident Detection.v2i.yolov7pytorch/test/labels/FLIP_CAR_V162_jpg.rf.ccfe933b9131ce7a6f1c0892e14aa417.txt  \n",
            "  inflating: __MACOSX/+_1516_640_640_label_Car Accident Detection.v2i.yolov7pytorch/test/labels/._FLIP_CAR_V162_jpg.rf.ccfe933b9131ce7a6f1c0892e14aa417.txt  \n",
            "  inflating: +_1516_640_640_label_Car Accident Detection.v2i.yolov7pytorch/test/labels/severityV4_75_jpg.rf.184a536e5e14a533d7ad65520bfa4b5f.txt  \n",
            "  inflating: __MACOSX/+_1516_640_640_label_Car Accident Detection.v2i.yolov7pytorch/test/labels/._severityV4_75_jpg.rf.184a536e5e14a533d7ad65520bfa4b5f.txt  \n",
            "  inflating: +_1516_640_640_label_Car Accident Detection.v2i.yolov7pytorch/test/labels/frame_97_jpg.rf.ffa508c3f8cf09f5a5a7ae51d5bc59d7.txt  \n",
            "  inflating: __MACOSX/+_1516_640_640_label_Car Accident Detection.v2i.yolov7pytorch/test/labels/._frame_97_jpg.rf.ffa508c3f8cf09f5a5a7ae51d5bc59d7.txt  \n",
            "  inflating: +_1516_640_640_label_Car Accident Detection.v2i.yolov7pytorch/test/labels/285_jpeg_jpg.rf.3c352f2f77c69612cfbd92d7ca5c755f.txt  \n",
            "  inflating: __MACOSX/+_1516_640_640_label_Car Accident Detection.v2i.yolov7pytorch/test/labels/._285_jpeg_jpg.rf.3c352f2f77c69612cfbd92d7ca5c755f.txt  \n",
            "  inflating: +_1516_640_640_label_Car Accident Detection.v2i.yolov7pytorch/test/labels/4-105_jpg.rf.6d683c1a63978bf21962364f9a9d4624.txt  \n",
            "  inflating: __MACOSX/+_1516_640_640_label_Car Accident Detection.v2i.yolov7pytorch/test/labels/._4-105_jpg.rf.6d683c1a63978bf21962364f9a9d4624.txt  \n",
            "  inflating: +_1516_640_640_label_Car Accident Detection.v2i.yolov7pytorch/test/labels/10-79_jpg.rf.5980e40913e38aab2878e343906d9f2d.txt  \n",
            "  inflating: __MACOSX/+_1516_640_640_label_Car Accident Detection.v2i.yolov7pytorch/test/labels/._10-79_jpg.rf.5980e40913e38aab2878e343906d9f2d.txt  \n",
            "  inflating: +_1516_640_640_label_Car Accident Detection.v2i.yolov7pytorch/test/labels/traffic_img497_jpg.rf.cbbfc3cc411c82b288b547a9b8758817.txt  \n",
            "  inflating: __MACOSX/+_1516_640_640_label_Car Accident Detection.v2i.yolov7pytorch/test/labels/._traffic_img497_jpg.rf.cbbfc3cc411c82b288b547a9b8758817.txt  \n",
            "  inflating: +_1516_640_640_label_Car Accident Detection.v2i.yolov7pytorch/test/labels/frame_1291_jpg.rf.52abc7c7ab041b03d2850de0e1bf34de.txt  \n",
            "  inflating: __MACOSX/+_1516_640_640_label_Car Accident Detection.v2i.yolov7pytorch/test/labels/._frame_1291_jpg.rf.52abc7c7ab041b03d2850de0e1bf34de.txt  \n",
            "  inflating: +_1516_640_640_label_Car Accident Detection.v2i.yolov7pytorch/test/labels/images-2_jpg.rf.0efdb4633a4c1a1f5268a263b297083c.txt  \n",
            "  inflating: __MACOSX/+_1516_640_640_label_Car Accident Detection.v2i.yolov7pytorch/test/labels/._images-2_jpg.rf.0efdb4633a4c1a1f5268a263b297083c.txt  \n",
            "  inflating: +_1516_640_640_label_Car Accident Detection.v2i.yolov7pytorch/test/labels/Screen-Shot-2022-04-08-at-1-48-56-AM_png_jpg.rf.ae18c17b6570544ac950b8f84f5ca8ce.txt  \n",
            "  inflating: __MACOSX/+_1516_640_640_label_Car Accident Detection.v2i.yolov7pytorch/test/labels/._Screen-Shot-2022-04-08-at-1-48-56-AM_png_jpg.rf.ae18c17b6570544ac950b8f84f5ca8ce.txt  \n",
            "  inflating: +_1516_640_640_label_Car Accident Detection.v2i.yolov7pytorch/test/labels/vlcsnap-2020-01-15-22h07m27s794_png.rf.791f14c86f31b754777994dda9ec0043.txt  \n",
            "  inflating: __MACOSX/+_1516_640_640_label_Car Accident Detection.v2i.yolov7pytorch/test/labels/._vlcsnap-2020-01-15-22h07m27s794_png.rf.791f14c86f31b754777994dda9ec0043.txt  \n",
            "  inflating: +_1516_640_640_label_Car Accident Detection.v2i.yolov7pytorch/test/labels/Semi-RealisticVD-190_jpg.rf.0f20b1cc99436feaccaa51a58a98bb56.txt  \n",
            "  inflating: __MACOSX/+_1516_640_640_label_Car Accident Detection.v2i.yolov7pytorch/test/labels/._Semi-RealisticVD-190_jpg.rf.0f20b1cc99436feaccaa51a58a98bb56.txt  \n",
            "  inflating: +_1516_640_640_label_Car Accident Detection.v2i.yolov7pytorch/test/labels/1_79_jpg.rf.31195b563c5c0440275339fe1fd0174e.txt  \n",
            "  inflating: __MACOSX/+_1516_640_640_label_Car Accident Detection.v2i.yolov7pytorch/test/labels/._1_79_jpg.rf.31195b563c5c0440275339fe1fd0174e.txt  \n",
            "  inflating: +_1516_640_640_label_Car Accident Detection.v2i.yolov7pytorch/test/labels/acc453_jpg.rf.2f819ae227113b110a7fc60318cf5a15.txt  \n",
            "  inflating: __MACOSX/+_1516_640_640_label_Car Accident Detection.v2i.yolov7pytorch/test/labels/._acc453_jpg.rf.2f819ae227113b110a7fc60318cf5a15.txt  \n",
            "  inflating: +_1516_640_640_label_Car Accident Detection.v2i.yolov7pytorch/test/labels/severity_V139_jpg.rf.a9de9923cfe9441d6731f60612971a40.txt  \n",
            "  inflating: __MACOSX/+_1516_640_640_label_Car Accident Detection.v2i.yolov7pytorch/test/labels/._severity_V139_jpg.rf.a9de9923cfe9441d6731f60612971a40.txt  \n",
            "  inflating: +_1516_640_640_label_Car Accident Detection.v2i.yolov7pytorch/test/labels/images-1_jpg.rf.3c9cd9bca55de8d08e2b416b8bcbbf74.txt  \n",
            "  inflating: __MACOSX/+_1516_640_640_label_Car Accident Detection.v2i.yolov7pytorch/test/labels/._images-1_jpg.rf.3c9cd9bca55de8d08e2b416b8bcbbf74.txt  \n",
            "  inflating: +_1516_640_640_label_Car Accident Detection.v2i.yolov7pytorch/test/labels/test10_15_jpg.rf.58ea476abf017a42f83a2cbc2e3349e9.txt  \n",
            "  inflating: __MACOSX/+_1516_640_640_label_Car Accident Detection.v2i.yolov7pytorch/test/labels/._test10_15_jpg.rf.58ea476abf017a42f83a2cbc2e3349e9.txt  \n",
            "  inflating: +_1516_640_640_label_Car Accident Detection.v2i.yolov7pytorch/test/labels/test12_15_jpg.rf.9ec40d7de5ab6f7646ca1eff01cf0069.txt  \n",
            "  inflating: __MACOSX/+_1516_640_640_label_Car Accident Detection.v2i.yolov7pytorch/test/labels/._test12_15_jpg.rf.9ec40d7de5ab6f7646ca1eff01cf0069.txt  \n",
            "  inflating: +_1516_640_640_label_Car Accident Detection.v2i.yolov7pytorch/test/labels/images-24_jpg.rf.961e55a669c44561812164922507798b.txt  \n",
            "  inflating: __MACOSX/+_1516_640_640_label_Car Accident Detection.v2i.yolov7pytorch/test/labels/._images-24_jpg.rf.961e55a669c44561812164922507798b.txt  \n",
            "  inflating: +_1516_640_640_label_Car Accident Detection.v2i.yolov7pytorch/train/images/traffic_img2662_jpg.rf.c57cfd9daf00dfb23e562c8c45674f60.jpg  \n",
            "  inflating: __MACOSX/+_1516_640_640_label_Car Accident Detection.v2i.yolov7pytorch/train/images/._traffic_img2662_jpg.rf.c57cfd9daf00dfb23e562c8c45674f60.jpg  \n",
            "  inflating: +_1516_640_640_label_Car Accident Detection.v2i.yolov7pytorch/train/images/Image89_jpg.rf.2744f3bca95482b10e2d2a42f0dfc538.jpg  \n",
            "  inflating: __MACOSX/+_1516_640_640_label_Car Accident Detection.v2i.yolov7pytorch/train/images/._Image89_jpg.rf.2744f3bca95482b10e2d2a42f0dfc538.jpg  \n",
            "  inflating: +_1516_640_640_label_Car Accident Detection.v2i.yolov7pytorch/train/images/FLIP_CAR_V135_jpg.rf.ebc4c47373abf0c7e5a0abe27c3dbaf2.jpg  \n",
            "  inflating: __MACOSX/+_1516_640_640_label_Car Accident Detection.v2i.yolov7pytorch/train/images/._FLIP_CAR_V135_jpg.rf.ebc4c47373abf0c7e5a0abe27c3dbaf2.jpg  \n",
            "  inflating: +_1516_640_640_label_Car Accident Detection.v2i.yolov7pytorch/train/images/test13_11_jpg.rf.b67a79f26df66f30710f844a739e94b8.jpg  \n",
            "  inflating: __MACOSX/+_1516_640_640_label_Car Accident Detection.v2i.yolov7pytorch/train/images/._test13_11_jpg.rf.b67a79f26df66f30710f844a739e94b8.jpg  \n",
            "  inflating: +_1516_640_640_label_Car Accident Detection.v2i.yolov7pytorch/train/images/Semi-RealisticVD-55_jpg.rf.d53797e85ae6d53b539ea31ac8c0b1ca.jpg  \n",
            "  inflating: __MACOSX/+_1516_640_640_label_Car Accident Detection.v2i.yolov7pytorch/train/images/._Semi-RealisticVD-55_jpg.rf.d53797e85ae6d53b539ea31ac8c0b1ca.jpg  \n",
            "  inflating: +_1516_640_640_label_Car Accident Detection.v2i.yolov7pytorch/train/images/Screenshot-419-_png_jpg.rf.55271b5268c60514cec52cb9e89bb8dc.jpg  \n",
            "  inflating: __MACOSX/+_1516_640_640_label_Car Accident Detection.v2i.yolov7pytorch/train/images/._Screenshot-419-_png_jpg.rf.55271b5268c60514cec52cb9e89bb8dc.jpg  \n",
            "  inflating: +_1516_640_640_label_Car Accident Detection.v2i.yolov7pytorch/train/images/14-174_jpg.rf.a60bdd555691296cbd8d06741e992bd0.jpg  \n",
            "  inflating: __MACOSX/+_1516_640_640_label_Car Accident Detection.v2i.yolov7pytorch/train/images/._14-174_jpg.rf.a60bdd555691296cbd8d06741e992bd0.jpg  \n",
            "  inflating: +_1516_640_640_label_Car Accident Detection.v2i.yolov7pytorch/train/images/screen_images5_png_jpg.rf.ef998af91da914e966e7cb31bae01197.jpg  \n",
            "  inflating: __MACOSX/+_1516_640_640_label_Car Accident Detection.v2i.yolov7pytorch/train/images/._screen_images5_png_jpg.rf.ef998af91da914e966e7cb31bae01197.jpg  \n",
            "  inflating: +_1516_640_640_label_Car Accident Detection.v2i.yolov7pytorch/train/images/CARimage2118_jpg.rf.b4fce81e2cca55ebc9f59d57da6a0184.jpg  \n",
            "  inflating: __MACOSX/+_1516_640_640_label_Car Accident Detection.v2i.yolov7pytorch/train/images/._CARimage2118_jpg.rf.b4fce81e2cca55ebc9f59d57da6a0184.jpg  \n",
            "  inflating: +_1516_640_640_label_Car Accident Detection.v2i.yolov7pytorch/train/images/severityV4_9_jpg.rf.c7c0d226cbb8bdec9328db8dc4b2f614.jpg  \n",
            "  inflating: __MACOSX/+_1516_640_640_label_Car Accident Detection.v2i.yolov7pytorch/train/images/._severityV4_9_jpg.rf.c7c0d226cbb8bdec9328db8dc4b2f614.jpg  \n",
            "  inflating: +_1516_640_640_label_Car Accident Detection.v2i.yolov7pytorch/train/images/frame_5627_jpg.rf.3e3ca64fb3f81ea65acd9dd990b5d9f7.jpg  \n",
            "  inflating: __MACOSX/+_1516_640_640_label_Car Accident Detection.v2i.yolov7pytorch/train/images/._frame_5627_jpg.rf.3e3ca64fb3f81ea65acd9dd990b5d9f7.jpg  \n",
            "  inflating: +_1516_640_640_label_Car Accident Detection.v2i.yolov7pytorch/train/images/severityV3_27_jpeg_jpg.rf.c55f9854cc76d0df08a6dcb676a5a440.jpg  \n",
            "  inflating: __MACOSX/+_1516_640_640_label_Car Accident Detection.v2i.yolov7pytorch/train/images/._severityV3_27_jpeg_jpg.rf.c55f9854cc76d0df08a6dcb676a5a440.jpg  \n",
            "  inflating: +_1516_640_640_label_Car Accident Detection.v2i.yolov7pytorch/train/images/download-5_jpg.rf.d6872a678318ecb9864bd16b9b2f4caa.jpg  \n",
            "  inflating: __MACOSX/+_1516_640_640_label_Car Accident Detection.v2i.yolov7pytorch/train/images/._download-5_jpg.rf.d6872a678318ecb9864bd16b9b2f4caa.jpg  \n",
            "  inflating: +_1516_640_640_label_Car Accident Detection.v2i.yolov7pytorch/train/images/accidentFrame2741_jpg.rf.04e5cffee3a2aba8626ce1bff04efd63.jpg  \n",
            "  inflating: __MACOSX/+_1516_640_640_label_Car Accident Detection.v2i.yolov7pytorch/train/images/._accidentFrame2741_jpg.rf.04e5cffee3a2aba8626ce1bff04efd63.jpg  \n",
            "  inflating: +_1516_640_640_label_Car Accident Detection.v2i.yolov7pytorch/train/images/Screenshot-427-_png_jpg.rf.1c4b8a703fa2f3cbd7bee2d209190f8b.jpg  \n",
            "  inflating: __MACOSX/+_1516_640_640_label_Car Accident Detection.v2i.yolov7pytorch/train/images/._Screenshot-427-_png_jpg.rf.1c4b8a703fa2f3cbd7bee2d209190f8b.jpg  \n",
            "  inflating: +_1516_640_640_label_Car Accident Detection.v2i.yolov7pytorch/train/images/V11_jpeg_jpg.rf.fdb8d386a5d53dceee6eee43f6f6d998.jpg  \n",
            "  inflating: __MACOSX/+_1516_640_640_label_Car Accident Detection.v2i.yolov7pytorch/train/images/._V11_jpeg_jpg.rf.fdb8d386a5d53dceee6eee43f6f6d998.jpg  \n",
            "  inflating: +_1516_640_640_label_Car Accident Detection.v2i.yolov7pytorch/train/images/Screenshot-378-_png_jpg.rf.b3deb84ebc9af7a727cfdbb2b4ad581c.jpg  \n",
            "  inflating: __MACOSX/+_1516_640_640_label_Car Accident Detection.v2i.yolov7pytorch/train/images/._Screenshot-378-_png_jpg.rf.b3deb84ebc9af7a727cfdbb2b4ad581c.jpg  \n",
            "  inflating: +_1516_640_640_label_Car Accident Detection.v2i.yolov7pytorch/train/images/FLIP_CAR_V153_jpg.rf.e53817c52a5f7c78092393793e49e529.jpg  \n",
            "  inflating: __MACOSX/+_1516_640_640_label_Car Accident Detection.v2i.yolov7pytorch/train/images/._FLIP_CAR_V153_jpg.rf.e53817c52a5f7c78092393793e49e529.jpg  \n",
            "  inflating: +_1516_640_640_label_Car Accident Detection.v2i.yolov7pytorch/train/images/Semi-RealisticVD-114_jpg.rf.14e5eeffbc319a9fd6d09758f3b00c4f.jpg  \n",
            "  inflating: __MACOSX/+_1516_640_640_label_Car Accident Detection.v2i.yolov7pytorch/train/images/._Semi-RealisticVD-114_jpg.rf.14e5eeffbc319a9fd6d09758f3b00c4f.jpg  \n",
            "  inflating: +_1516_640_640_label_Car Accident Detection.v2i.yolov7pytorch/train/images/traffic_img1815_jpg.rf.4cd2b7ec913fc2cca3a99ceb05b874af.jpg  \n",
            "  inflating: __MACOSX/+_1516_640_640_label_Car Accident Detection.v2i.yolov7pytorch/train/images/._traffic_img1815_jpg.rf.4cd2b7ec913fc2cca3a99ceb05b874af.jpg  \n",
            "  inflating: +_1516_640_640_label_Car Accident Detection.v2i.yolov7pytorch/train/images/FLIP_CAR_V168_jpg.rf.9a0b2c9017f5fb78f2707a5ba9d017c2.jpg  \n",
            "  inflating: __MACOSX/+_1516_640_640_label_Car Accident Detection.v2i.yolov7pytorch/train/images/._FLIP_CAR_V168_jpg.rf.9a0b2c9017f5fb78f2707a5ba9d017c2.jpg  \n",
            "  inflating: +_1516_640_640_label_Car Accident Detection.v2i.yolov7pytorch/train/images/vlcsnap-2020-01-16-00h59m16s397_png.rf.644214f661bdb5d0ccff2111440532a9.jpg  \n",
            "  inflating: __MACOSX/+_1516_640_640_label_Car Accident Detection.v2i.yolov7pytorch/train/images/._vlcsnap-2020-01-16-00h59m16s397_png.rf.644214f661bdb5d0ccff2111440532a9.jpg  \n",
            "  inflating: +_1516_640_640_label_Car Accident Detection.v2i.yolov7pytorch/train/images/frame_3158_jpg.rf.8bcad97e7c0c4b1c1d2cb5457cd898fd.jpg  \n",
            "  inflating: __MACOSX/+_1516_640_640_label_Car Accident Detection.v2i.yolov7pytorch/train/images/._frame_3158_jpg.rf.8bcad97e7c0c4b1c1d2cb5457cd898fd.jpg  \n",
            "  inflating: +_1516_640_640_label_Car Accident Detection.v2i.yolov7pytorch/train/images/severityV4_90_jpg.rf.927f21e9afbc79f1cb81e87aed359c54.jpg  \n",
            "  inflating: __MACOSX/+_1516_640_640_label_Car Accident Detection.v2i.yolov7pytorch/train/images/._severityV4_90_jpg.rf.927f21e9afbc79f1cb81e87aed359c54.jpg  \n",
            "  inflating: +_1516_640_640_label_Car Accident Detection.v2i.yolov7pytorch/train/images/1075_jpeg_jpg.rf.dcf5c6ce0f3a04663df5f22be5c2164b.jpg  \n",
            "  inflating: __MACOSX/+_1516_640_640_label_Car Accident Detection.v2i.yolov7pytorch/train/images/._1075_jpeg_jpg.rf.dcf5c6ce0f3a04663df5f22be5c2164b.jpg  \n",
            "  inflating: +_1516_640_640_label_Car Accident Detection.v2i.yolov7pytorch/train/images/a68_jpg.rf.e634c1238f7dafe55081b23a347612db.jpg  \n",
            "  inflating: __MACOSX/+_1516_640_640_label_Car Accident Detection.v2i.yolov7pytorch/train/images/._a68_jpg.rf.e634c1238f7dafe55081b23a347612db.jpg  \n",
            "  inflating: +_1516_640_640_label_Car Accident Detection.v2i.yolov7pytorch/train/images/buy4_jpg.rf.d40ffc59f30365a629c6b978f32e5411.jpg  \n",
            "  inflating: __MACOSX/+_1516_640_640_label_Car Accident Detection.v2i.yolov7pytorch/train/images/._buy4_jpg.rf.d40ffc59f30365a629c6b978f32e5411.jpg  \n",
            "  inflating: +_1516_640_640_label_Car Accident Detection.v2i.yolov7pytorch/train/images/accidentFrame2761_jpg.rf.3a5cc718688df984d3d3cbbdc94ef7a9.jpg  \n",
            "  inflating: __MACOSX/+_1516_640_640_label_Car Accident Detection.v2i.yolov7pytorch/train/images/._accidentFrame2761_jpg.rf.3a5cc718688df984d3d3cbbdc94ef7a9.jpg  \n",
            "  inflating: +_1516_640_640_label_Car Accident Detection.v2i.yolov7pytorch/train/images/severity_V135_jpg.rf.c0b4e2d225bf7b6fc80195b24b4b18e1.jpg  \n",
            "  inflating: __MACOSX/+_1516_640_640_label_Car Accident Detection.v2i.yolov7pytorch/train/images/._severity_V135_jpg.rf.c0b4e2d225bf7b6fc80195b24b4b18e1.jpg  \n",
            "  inflating: +_1516_640_640_label_Car Accident Detection.v2i.yolov7pytorch/train/images/accidentFrame36_jpg.rf.2f7877b8e014084f96747a4de2c6c984.jpg  \n",
            "  inflating: __MACOSX/+_1516_640_640_label_Car Accident Detection.v2i.yolov7pytorch/train/images/._accidentFrame36_jpg.rf.2f7877b8e014084f96747a4de2c6c984.jpg  \n",
            "  inflating: +_1516_640_640_label_Car Accident Detection.v2i.yolov7pytorch/train/images/IMG_2373_PNG_jpg.rf.486a87c8fd1bb93ad64f80cf9879bbe9.jpg  \n",
            "  inflating: __MACOSX/+_1516_640_640_label_Car Accident Detection.v2i.yolov7pytorch/train/images/._IMG_2373_PNG_jpg.rf.486a87c8fd1bb93ad64f80cf9879bbe9.jpg  \n",
            "  inflating: +_1516_640_640_label_Car Accident Detection.v2i.yolov7pytorch/train/images/severityV4_14_jpg.rf.b2c5b1caab6c04c37a5d5ce0e56914f3.jpg  \n",
            "  inflating: __MACOSX/+_1516_640_640_label_Car Accident Detection.v2i.yolov7pytorch/train/images/._severityV4_14_jpg.rf.b2c5b1caab6c04c37a5d5ce0e56914f3.jpg  \n",
            "  inflating: +_1516_640_640_label_Car Accident Detection.v2i.yolov7pytorch/train/images/images-1_jpg.rf.6d9eafc383cfa933b637f26ed23f0180.jpg  \n",
            "  inflating: __MACOSX/+_1516_640_640_label_Car Accident Detection.v2i.yolov7pytorch/train/images/._images-1_jpg.rf.6d9eafc383cfa933b637f26ed23f0180.jpg  \n",
            "  inflating: +_1516_640_640_label_Car Accident Detection.v2i.yolov7pytorch/train/images/severityV4_76_jpg.rf.d4c537c30963ff966cddffcde9ba8bdf.jpg  \n",
            "  inflating: __MACOSX/+_1516_640_640_label_Car Accident Detection.v2i.yolov7pytorch/train/images/._severityV4_76_jpg.rf.d4c537c30963ff966cddffcde9ba8bdf.jpg  \n",
            "  inflating: +_1516_640_640_label_Car Accident Detection.v2i.yolov7pytorch/train/images/images-23_jpg.rf.36627a39e01df88c44b7faf40cfbba42.jpg  \n",
            "  inflating: __MACOSX/+_1516_640_640_label_Car Accident Detection.v2i.yolov7pytorch/train/images/._images-23_jpg.rf.36627a39e01df88c44b7faf40cfbba42.jpg  \n",
            "  inflating: +_1516_640_640_label_Car Accident Detection.v2i.yolov7pytorch/train/images/images-18_jpg.rf.4c8478df41d599c81997c49df3b7bb67.jpg  \n",
            "  inflating: __MACOSX/+_1516_640_640_label_Car Accident Detection.v2i.yolov7pytorch/train/images/._images-18_jpg.rf.4c8478df41d599c81997c49df3b7bb67.jpg  \n",
            "  inflating: +_1516_640_640_label_Car Accident Detection.v2i.yolov7pytorch/train/images/severityV3_20_jpeg_jpg.rf.c7e6f558be394da7a8c1a4049d428dcc.jpg  \n",
            "  inflating: __MACOSX/+_1516_640_640_label_Car Accident Detection.v2i.yolov7pytorch/train/images/._severityV3_20_jpeg_jpg.rf.c7e6f558be394da7a8c1a4049d428dcc.jpg  \n",
            "  inflating: +_1516_640_640_label_Car Accident Detection.v2i.yolov7pytorch/train/images/images-19_jpg.rf.8b7fb01eceb0dd55bb5d2987597455d2.jpg  \n",
            "  inflating: __MACOSX/+_1516_640_640_label_Car Accident Detection.v2i.yolov7pytorch/train/images/._images-19_jpg.rf.8b7fb01eceb0dd55bb5d2987597455d2.jpg  \n",
            "  inflating: +_1516_640_640_label_Car Accident Detection.v2i.yolov7pytorch/train/images/crashbetter_jpg.rf.e1e1ee672b162d8e0375d86be5b6343b.jpg  \n",
            "  inflating: __MACOSX/+_1516_640_640_label_Car Accident Detection.v2i.yolov7pytorch/train/images/._crashbetter_jpg.rf.e1e1ee672b162d8e0375d86be5b6343b.jpg  \n",
            "  inflating: +_1516_640_640_label_Car Accident Detection.v2i.yolov7pytorch/train/images/images-3_jpg.rf.ae5de440ae0d9ddbc8e1ad2ba6998441.jpg  \n",
            "  inflating: __MACOSX/+_1516_640_640_label_Car Accident Detection.v2i.yolov7pytorch/train/images/._images-3_jpg.rf.ae5de440ae0d9ddbc8e1ad2ba6998441.jpg  \n",
            "  inflating: +_1516_640_640_label_Car Accident Detection.v2i.yolov7pytorch/train/images/argusAcc595_jpg.rf.891f0d505175d3024e9b6d2916ca73c8.jpg  \n",
            "  inflating: __MACOSX/+_1516_640_640_label_Car Accident Detection.v2i.yolov7pytorch/train/images/._argusAcc595_jpg.rf.891f0d505175d3024e9b6d2916ca73c8.jpg  \n",
            "  inflating: +_1516_640_640_label_Car Accident Detection.v2i.yolov7pytorch/train/images/severityV4_77_jpg.rf.cb92bfd0c855cb33de99b3602f783953.jpg  \n",
            "  inflating: __MACOSX/+_1516_640_640_label_Car Accident Detection.v2i.yolov7pytorch/train/images/._severityV4_77_jpg.rf.cb92bfd0c855cb33de99b3602f783953.jpg  \n",
            "  inflating: +_1516_640_640_label_Car Accident Detection.v2i.yolov7pytorch/train/images/Semi-RealisticVD-38_jpg.rf.a1d51a1bd34a20f251b098e74a193837.jpg  \n",
            "  inflating: __MACOSX/+_1516_640_640_label_Car Accident Detection.v2i.yolov7pytorch/train/images/._Semi-RealisticVD-38_jpg.rf.a1d51a1bd34a20f251b098e74a193837.jpg  \n",
            "  inflating: +_1516_640_640_label_Car Accident Detection.v2i.yolov7pytorch/train/images/vlcsnap-2020-01-16-10h36m49s279_png.rf.b437dfd05e5cd7d9ddd2b8a46894f66e.jpg  \n",
            "  inflating: __MACOSX/+_1516_640_640_label_Car Accident Detection.v2i.yolov7pytorch/train/images/._vlcsnap-2020-01-16-10h36m49s279_png.rf.b437dfd05e5cd7d9ddd2b8a46894f66e.jpg  \n",
            "  inflating: +_1516_640_640_label_Car Accident Detection.v2i.yolov7pytorch/train/images/severV16_jpg.rf.c3fc5e84a01a0021064ec69536801f03.jpg  \n",
            "  inflating: __MACOSX/+_1516_640_640_label_Car Accident Detection.v2i.yolov7pytorch/train/images/._severV16_jpg.rf.c3fc5e84a01a0021064ec69536801f03.jpg  \n",
            "  inflating: +_1516_640_640_label_Car Accident Detection.v2i.yolov7pytorch/train/images/frame_2148_jpg.rf.d23f3ae8b6d2510ac9bb5482a9a5bc62.jpg  \n",
            "  inflating: __MACOSX/+_1516_640_640_label_Car Accident Detection.v2i.yolov7pytorch/train/images/._frame_2148_jpg.rf.d23f3ae8b6d2510ac9bb5482a9a5bc62.jpg  \n",
            "  inflating: +_1516_640_640_label_Car Accident Detection.v2i.yolov7pytorch/train/images/trafficseverity_img3043_jpg.rf.365a51727682532eed75ba04a15132e9.jpg  \n",
            "  inflating: __MACOSX/+_1516_640_640_label_Car Accident Detection.v2i.yolov7pytorch/train/images/._trafficseverity_img3043_jpg.rf.365a51727682532eed75ba04a15132e9.jpg  \n",
            "  inflating: +_1516_640_640_label_Car Accident Detection.v2i.yolov7pytorch/train/images/car_acc1_jpeg_jpg.rf.451d0829361ca0b7fe18868c98679bd3.jpg  \n",
            "  inflating: __MACOSX/+_1516_640_640_label_Car Accident Detection.v2i.yolov7pytorch/train/images/._car_acc1_jpeg_jpg.rf.451d0829361ca0b7fe18868c98679bd3.jpg  \n",
            "  inflating: +_1516_640_640_label_Car Accident Detection.v2i.yolov7pytorch/train/images/accidentFrame2718_jpg.rf.d0ee211ad1db10a1c1a425ce067ef3f2.jpg  \n",
            "  inflating: __MACOSX/+_1516_640_640_label_Car Accident Detection.v2i.yolov7pytorch/train/images/._accidentFrame2718_jpg.rf.d0ee211ad1db10a1c1a425ce067ef3f2.jpg  \n",
            "  inflating: +_1516_640_640_label_Car Accident Detection.v2i.yolov7pytorch/train/images/photo32_jpg.rf.69bc34caf15e98aa394a3ea0bd24243d.jpg  \n",
            "  inflating: __MACOSX/+_1516_640_640_label_Car Accident Detection.v2i.yolov7pytorch/train/images/._photo32_jpg.rf.69bc34caf15e98aa394a3ea0bd24243d.jpg  \n",
            "  inflating: +_1516_640_640_label_Car Accident Detection.v2i.yolov7pytorch/train/images/acc1546_jpg.rf.af4365c690f0d52a2a320e6020c4e05d.jpg  \n",
            "  inflating: __MACOSX/+_1516_640_640_label_Car Accident Detection.v2i.yolov7pytorch/train/images/._acc1546_jpg.rf.af4365c690f0d52a2a320e6020c4e05d.jpg  \n",
            "  inflating: +_1516_640_640_label_Car Accident Detection.v2i.yolov7pytorch/train/images/severity_V133_jpg.rf.2ad58b7e502cded7d90e373eb1dc570d.jpg  \n",
            "  inflating: __MACOSX/+_1516_640_640_label_Car Accident Detection.v2i.yolov7pytorch/train/images/._severity_V133_jpg.rf.2ad58b7e502cded7d90e373eb1dc570d.jpg  \n",
            "  inflating: +_1516_640_640_label_Car Accident Detection.v2i.yolov7pytorch/train/images/accidentFrame5793_jpg.rf.308b9e21b3a779f4f0cd50e5770e5cce.jpg  \n",
            "  inflating: __MACOSX/+_1516_640_640_label_Car Accident Detection.v2i.yolov7pytorch/train/images/._accidentFrame5793_jpg.rf.308b9e21b3a779f4f0cd50e5770e5cce.jpg  \n",
            "  inflating: +_1516_640_640_label_Car Accident Detection.v2i.yolov7pytorch/train/images/argusAcc192_jpg.rf.7714290954133be37e35da38398b0082.jpg  \n",
            "  inflating: __MACOSX/+_1516_640_640_label_Car Accident Detection.v2i.yolov7pytorch/train/images/._argusAcc192_jpg.rf.7714290954133be37e35da38398b0082.jpg  \n",
            "  inflating: +_1516_640_640_label_Car Accident Detection.v2i.yolov7pytorch/train/images/Severity_Detect_V3_jpg.rf.c5e296485b99748f4ebdac9cf249de22.jpg  \n",
            "  inflating: __MACOSX/+_1516_640_640_label_Car Accident Detection.v2i.yolov7pytorch/train/images/._Severity_Detect_V3_jpg.rf.c5e296485b99748f4ebdac9cf249de22.jpg  \n",
            "  inflating: +_1516_640_640_label_Car Accident Detection.v2i.yolov7pytorch/train/images/photo163_jpg.rf.edbafe86ca115ec86967a5b646146840.jpg  \n",
            "  inflating: __MACOSX/+_1516_640_640_label_Car Accident Detection.v2i.yolov7pytorch/train/images/._photo163_jpg.rf.edbafe86ca115ec86967a5b646146840.jpg  \n",
            "  inflating: +_1516_640_640_label_Car Accident Detection.v2i.yolov7pytorch/train/images/Screenshot-276-_png_jpg.rf.0e9213e43c096f4c621b425c0a5a3e3d.jpg  \n",
            "  inflating: __MACOSX/+_1516_640_640_label_Car Accident Detection.v2i.yolov7pytorch/train/images/._Screenshot-276-_png_jpg.rf.0e9213e43c096f4c621b425c0a5a3e3d.jpg  \n",
            "  inflating: +_1516_640_640_label_Car Accident Detection.v2i.yolov7pytorch/train/images/severityV4_75_jpg.rf.b3bab6f2d6299d804fe0c17b1a6efc8e.jpg  \n",
            "  inflating: __MACOSX/+_1516_640_640_label_Car Accident Detection.v2i.yolov7pytorch/train/images/._severityV4_75_jpg.rf.b3bab6f2d6299d804fe0c17b1a6efc8e.jpg  \n",
            "  inflating: +_1516_640_640_label_Car Accident Detection.v2i.yolov7pytorch/train/images/accidentFrame4_jpg.rf.f28bb3131094c7316200d9fe0bd1de19.jpg  \n",
            "  inflating: __MACOSX/+_1516_640_640_label_Car Accident Detection.v2i.yolov7pytorch/train/images/._accidentFrame4_jpg.rf.f28bb3131094c7316200d9fe0bd1de19.jpg  \n",
            "  inflating: +_1516_640_640_label_Car Accident Detection.v2i.yolov7pytorch/train/images/Screenshot-307-_png_jpg.rf.55173fe50b205c44c2dc3441f4e680b0.jpg  \n",
            "  inflating: __MACOSX/+_1516_640_640_label_Car Accident Detection.v2i.yolov7pytorch/train/images/._Screenshot-307-_png_jpg.rf.55173fe50b205c44c2dc3441f4e680b0.jpg  \n",
            "  inflating: +_1516_640_640_label_Car Accident Detection.v2i.yolov7pytorch/train/images/severityV4_64_jpg.rf.f61a61519494b260fa0ca73256f1cd76.jpg  \n",
            "  inflating: __MACOSX/+_1516_640_640_label_Car Accident Detection.v2i.yolov7pytorch/train/images/._severityV4_64_jpg.rf.f61a61519494b260fa0ca73256f1cd76.jpg  \n",
            "  inflating: +_1516_640_640_label_Car Accident Detection.v2i.yolov7pytorch/train/images/Severity_Detect_V20_jpg.rf.b20cc40c86bc436da0e5d1714c1321f8.jpg  \n",
            "  inflating: __MACOSX/+_1516_640_640_label_Car Accident Detection.v2i.yolov7pytorch/train/images/._Severity_Detect_V20_jpg.rf.b20cc40c86bc436da0e5d1714c1321f8.jpg  \n",
            "  inflating: +_1516_640_640_label_Car Accident Detection.v2i.yolov7pytorch/train/images/acc905_jpg.rf.8da908acc39ffb8ef632425086ac6cc4.jpg  \n",
            "  inflating: __MACOSX/+_1516_640_640_label_Car Accident Detection.v2i.yolov7pytorch/train/images/._acc905_jpg.rf.8da908acc39ffb8ef632425086ac6cc4.jpg  \n",
            "  inflating: +_1516_640_640_label_Car Accident Detection.v2i.yolov7pytorch/train/images/Image105_jpg.rf.ff377e7c639cd8c1ad420c38f38eb154.jpg  \n",
            "  inflating: __MACOSX/+_1516_640_640_label_Car Accident Detection.v2i.yolov7pytorch/train/images/._Image105_jpg.rf.ff377e7c639cd8c1ad420c38f38eb154.jpg  \n",
            "  inflating: +_1516_640_640_label_Car Accident Detection.v2i.yolov7pytorch/train/images/severityV4_72_jpg.rf.d6ff751f205ee3962d7467d2fc03c642.jpg  \n",
            "  inflating: __MACOSX/+_1516_640_640_label_Car Accident Detection.v2i.yolov7pytorch/train/images/._severityV4_72_jpg.rf.d6ff751f205ee3962d7467d2fc03c642.jpg  \n",
            "  inflating: +_1516_640_640_label_Car Accident Detection.v2i.yolov7pytorch/train/images/frame_4641_jpg.rf.0ca90b8ae02317661ff227642d79c3af.jpg  \n",
            "  inflating: __MACOSX/+_1516_640_640_label_Car Accident Detection.v2i.yolov7pytorch/train/images/._frame_4641_jpg.rf.0ca90b8ae02317661ff227642d79c3af.jpg  \n",
            "  inflating: +_1516_640_640_label_Car Accident Detection.v2i.yolov7pytorch/train/images/frame_4446_jpg.rf.90d8acacdc3abf02445a0791a57f026f.jpg  \n",
            "  inflating: __MACOSX/+_1516_640_640_label_Car Accident Detection.v2i.yolov7pytorch/train/images/._frame_4446_jpg.rf.90d8acacdc3abf02445a0791a57f026f.jpg  \n",
            "  inflating: +_1516_640_640_label_Car Accident Detection.v2i.yolov7pytorch/train/images/traffic_img1815_jpg.rf.a9404760d8bcfbde00bb3abe49b207a2.jpg  \n",
            "  inflating: __MACOSX/+_1516_640_640_label_Car Accident Detection.v2i.yolov7pytorch/train/images/._traffic_img1815_jpg.rf.a9404760d8bcfbde00bb3abe49b207a2.jpg  \n",
            "  inflating: +_1516_640_640_label_Car Accident Detection.v2i.yolov7pytorch/train/images/tt3_png_jpg.rf.48aaa311c4eab99cf34eabdfa4aa75c1.jpg  \n",
            "  inflating: __MACOSX/+_1516_640_640_label_Car Accident Detection.v2i.yolov7pytorch/train/images/._tt3_png_jpg.rf.48aaa311c4eab99cf34eabdfa4aa75c1.jpg  \n",
            "  inflating: +_1516_640_640_label_Car Accident Detection.v2i.yolov7pytorch/train/images/vlcsnap-2020-01-16-01h35m23s572_png.rf.c25eaaf739a300473355976d9959a646.jpg  \n",
            "  inflating: __MACOSX/+_1516_640_640_label_Car Accident Detection.v2i.yolov7pytorch/train/images/._vlcsnap-2020-01-16-01h35m23s572_png.rf.c25eaaf739a300473355976d9959a646.jpg  \n",
            "  inflating: +_1516_640_640_label_Car Accident Detection.v2i.yolov7pytorch/train/images/traffic_img1184_jpg.rf.b6650e29635dd424bfad62e5af56c23a.jpg  \n",
            "  inflating: __MACOSX/+_1516_640_640_label_Car Accident Detection.v2i.yolov7pytorch/train/images/._traffic_img1184_jpg.rf.b6650e29635dd424bfad62e5af56c23a.jpg  \n",
            "  inflating: +_1516_640_640_label_Car Accident Detection.v2i.yolov7pytorch/train/images/frame_6371_jpg.rf.897023a85b7c395a6cf60b1e0a38559f.jpg  \n",
            "  inflating: __MACOSX/+_1516_640_640_label_Car Accident Detection.v2i.yolov7pytorch/train/images/._frame_6371_jpg.rf.897023a85b7c395a6cf60b1e0a38559f.jpg  \n",
            "  inflating: +_1516_640_640_label_Car Accident Detection.v2i.yolov7pytorch/train/images/accidentFrame458_jpg.rf.8edbba340fda88077581242dba4195a1.jpg  \n",
            "  inflating: __MACOSX/+_1516_640_640_label_Car Accident Detection.v2i.yolov7pytorch/train/images/._accidentFrame458_jpg.rf.8edbba340fda88077581242dba4195a1.jpg  \n",
            "  inflating: +_1516_640_640_label_Car Accident Detection.v2i.yolov7pytorch/train/images/argusAccident30_jpg.rf.fc66c00753fd19ff3bbe7f4c38fea4b8.jpg  \n",
            "  inflating: __MACOSX/+_1516_640_640_label_Car Accident Detection.v2i.yolov7pytorch/train/images/._argusAccident30_jpg.rf.fc66c00753fd19ff3bbe7f4c38fea4b8.jpg  \n",
            "  inflating: +_1516_640_640_label_Car Accident Detection.v2i.yolov7pytorch/train/images/Image41_jpg.rf.29560daf1e4d7ae984c024b7f1bd582b.jpg  \n",
            "  inflating: __MACOSX/+_1516_640_640_label_Car Accident Detection.v2i.yolov7pytorch/train/images/._Image41_jpg.rf.29560daf1e4d7ae984c024b7f1bd582b.jpg  \n",
            "  inflating: +_1516_640_640_label_Car Accident Detection.v2i.yolov7pytorch/train/images/traffic_img343_jpg.rf.e0a95b760234c9236a53a52d8018725e.jpg  \n",
            "  inflating: __MACOSX/+_1516_640_640_label_Car Accident Detection.v2i.yolov7pytorch/train/images/._traffic_img343_jpg.rf.e0a95b760234c9236a53a52d8018725e.jpg  \n",
            "  inflating: +_1516_640_640_label_Car Accident Detection.v2i.yolov7pytorch/train/images/severityV4_19_jpg.rf.6f7bc87b1dde3e9d896a39e28c952429.jpg  \n",
            "  inflating: __MACOSX/+_1516_640_640_label_Car Accident Detection.v2i.yolov7pytorch/train/images/._severityV4_19_jpg.rf.6f7bc87b1dde3e9d896a39e28c952429.jpg  \n",
            "  inflating: +_1516_640_640_label_Car Accident Detection.v2i.yolov7pytorch/train/images/severityV3_32_jpeg_jpg.rf.ede50be4f52678405722f80e3a8b70f1.jpg  \n",
            "  inflating: __MACOSX/+_1516_640_640_label_Car Accident Detection.v2i.yolov7pytorch/train/images/._severityV3_32_jpeg_jpg.rf.ede50be4f52678405722f80e3a8b70f1.jpg  \n",
            "  inflating: +_1516_640_640_label_Car Accident Detection.v2i.yolov7pytorch/train/images/images-1_jpeg_jpg.rf.415491caa21f53f3ce4acac31986d763.jpg  \n",
            "  inflating: __MACOSX/+_1516_640_640_label_Car Accident Detection.v2i.yolov7pytorch/train/images/._images-1_jpeg_jpg.rf.415491caa21f53f3ce4acac31986d763.jpg  \n",
            "  inflating: +_1516_640_640_label_Car Accident Detection.v2i.yolov7pytorch/train/images/acc759_jpg.rf.e5b3d76d1bbc579e0cc24105a5e45572.jpg  \n",
            "  inflating: __MACOSX/+_1516_640_640_label_Car Accident Detection.v2i.yolov7pytorch/train/images/._acc759_jpg.rf.e5b3d76d1bbc579e0cc24105a5e45572.jpg  \n",
            "  inflating: +_1516_640_640_label_Car Accident Detection.v2i.yolov7pytorch/train/images/download-4_jpg.rf.7f1796c43a20cc45cccc02ffa75b9bc0.jpg  \n",
            "  inflating: __MACOSX/+_1516_640_640_label_Car Accident Detection.v2i.yolov7pytorch/train/images/._download-4_jpg.rf.7f1796c43a20cc45cccc02ffa75b9bc0.jpg  \n",
            "  inflating: +_1516_640_640_label_Car Accident Detection.v2i.yolov7pytorch/train/images/severityV4_93_jpg.rf.93176e3e26fa74468dc83ced7b73d345.jpg  \n",
            "  inflating: __MACOSX/+_1516_640_640_label_Car Accident Detection.v2i.yolov7pytorch/train/images/._severityV4_93_jpg.rf.93176e3e26fa74468dc83ced7b73d345.jpg  \n",
            "  inflating: +_1516_640_640_label_Car Accident Detection.v2i.yolov7pytorch/train/images/frame_2592_jpg.rf.914b03a7234f9d155f2b4631672829bc.jpg  \n",
            "  inflating: __MACOSX/+_1516_640_640_label_Car Accident Detection.v2i.yolov7pytorch/train/images/._frame_2592_jpg.rf.914b03a7234f9d155f2b4631672829bc.jpg  \n",
            "  inflating: +_1516_640_640_label_Car Accident Detection.v2i.yolov7pytorch/train/images/frame_4447_jpg.rf.adccdbfd78326ed237e5b20cc627db6c.jpg  \n",
            "  inflating: __MACOSX/+_1516_640_640_label_Car Accident Detection.v2i.yolov7pytorch/train/images/._frame_4447_jpg.rf.adccdbfd78326ed237e5b20cc627db6c.jpg  \n",
            "  inflating: +_1516_640_640_label_Car Accident Detection.v2i.yolov7pytorch/train/images/images-42_jpg.rf.c0af24de175cace31c7d4d4be0425f9e.jpg  \n",
            "  inflating: __MACOSX/+_1516_640_640_label_Car Accident Detection.v2i.yolov7pytorch/train/images/._images-42_jpg.rf.c0af24de175cace31c7d4d4be0425f9e.jpg  \n",
            "  inflating: +_1516_640_640_label_Car Accident Detection.v2i.yolov7pytorch/train/images/Screen-Shot-2022-04-08-at-1-48-56-AM_png.rf.f4d82f13bc40b7373e8818e8213d4190.jpg  \n",
            "  inflating: __MACOSX/+_1516_640_640_label_Car Accident Detection.v2i.yolov7pytorch/train/images/._Screen-Shot-2022-04-08-at-1-48-56-AM_png.rf.f4d82f13bc40b7373e8818e8213d4190.jpg  \n",
            "  inflating: +_1516_640_640_label_Car Accident Detection.v2i.yolov7pytorch/train/images/Semi-RealisticVD-232_jpg.rf.47af63f1a7398c611c67b42fc4509844.jpg  \n",
            "  inflating: __MACOSX/+_1516_640_640_label_Car Accident Detection.v2i.yolov7pytorch/train/images/._Semi-RealisticVD-232_jpg.rf.47af63f1a7398c611c67b42fc4509844.jpg  \n",
            "  inflating: +_1516_640_640_label_Car Accident Detection.v2i.yolov7pytorch/train/images/images-10_jpg.rf.aad92822bacf7a05ac2b256ac2057ebf.jpg  \n",
            "  inflating: __MACOSX/+_1516_640_640_label_Car Accident Detection.v2i.yolov7pytorch/train/images/._images-10_jpg.rf.aad92822bacf7a05ac2b256ac2057ebf.jpg  \n",
            "  inflating: +_1516_640_640_label_Car Accident Detection.v2i.yolov7pytorch/train/images/CARimage251_jpg.rf.c591f29a512fdeb3c862a50e946d9bfc.jpg  \n",
            "  inflating: __MACOSX/+_1516_640_640_label_Car Accident Detection.v2i.yolov7pytorch/train/images/._CARimage251_jpg.rf.c591f29a512fdeb3c862a50e946d9bfc.jpg  \n",
            "  inflating: +_1516_640_640_label_Car Accident Detection.v2i.yolov7pytorch/train/images/severityV4_25_jpg.rf.916a923e1183f1b930580a7e519859d2.jpg  \n",
            "  inflating: __MACOSX/+_1516_640_640_label_Car Accident Detection.v2i.yolov7pytorch/train/images/._severityV4_25_jpg.rf.916a923e1183f1b930580a7e519859d2.jpg  \n",
            "  inflating: +_1516_640_640_label_Car Accident Detection.v2i.yolov7pytorch/train/images/traffic_img201_jpg.rf.e3fff3cf4da205f68562ffce4bc5ec53.jpg  \n",
            "  inflating: __MACOSX/+_1516_640_640_label_Car Accident Detection.v2i.yolov7pytorch/train/images/._traffic_img201_jpg.rf.e3fff3cf4da205f68562ffce4bc5ec53.jpg  \n",
            "  inflating: +_1516_640_640_label_Car Accident Detection.v2i.yolov7pytorch/train/images/traffic_img1072_jpg.rf.80df2fd1217e0ce4da1aeaf29efba232.jpg  \n",
            "  inflating: __MACOSX/+_1516_640_640_label_Car Accident Detection.v2i.yolov7pytorch/train/images/._traffic_img1072_jpg.rf.80df2fd1217e0ce4da1aeaf29efba232.jpg  \n",
            "  inflating: +_1516_640_640_label_Car Accident Detection.v2i.yolov7pytorch/train/images/10-74_jpg.rf.d262f354f8f1bca337d40069860e1a68.jpg  \n",
            "  inflating: __MACOSX/+_1516_640_640_label_Car Accident Detection.v2i.yolov7pytorch/train/images/._10-74_jpg.rf.d262f354f8f1bca337d40069860e1a68.jpg  \n",
            "  inflating: +_1516_640_640_label_Car Accident Detection.v2i.yolov7pytorch/train/images/Image62_jpg.rf.f287cc7f44299efd219c401d03ab236a.jpg  \n",
            "  inflating: __MACOSX/+_1516_640_640_label_Car Accident Detection.v2i.yolov7pytorch/train/images/._Image62_jpg.rf.f287cc7f44299efd219c401d03ab236a.jpg  \n",
            "  inflating: +_1516_640_640_label_Car Accident Detection.v2i.yolov7pytorch/train/images/argusAcc81_jpg.rf.0ee21b1dfcc433e4b52d3d3abcd03313.jpg  \n",
            "  inflating: __MACOSX/+_1516_640_640_label_Car Accident Detection.v2i.yolov7pytorch/train/images/._argusAcc81_jpg.rf.0ee21b1dfcc433e4b52d3d3abcd03313.jpg  \n",
            "  inflating: +_1516_640_640_label_Car Accident Detection.v2i.yolov7pytorch/train/images/test27_13_jpg.rf.d911f9402962ac681c89882f15149a32.jpg  \n",
            "  inflating: __MACOSX/+_1516_640_640_label_Car Accident Detection.v2i.yolov7pytorch/train/images/._test27_13_jpg.rf.d911f9402962ac681c89882f15149a32.jpg  \n",
            "  inflating: +_1516_640_640_label_Car Accident Detection.v2i.yolov7pytorch/train/images/severity_V115_jpg.rf.f731c7bf75d42244b467c9278ddc45f7.jpg  \n",
            "  inflating: __MACOSX/+_1516_640_640_label_Car Accident Detection.v2i.yolov7pytorch/train/images/._severity_V115_jpg.rf.f731c7bf75d42244b467c9278ddc45f7.jpg  \n",
            "  inflating: +_1516_640_640_label_Car Accident Detection.v2i.yolov7pytorch/train/images/argusAccident98_jpg.rf.fb1de74ea2b2c7e43614a0fcfdc6075a.jpg  \n",
            "  inflating: __MACOSX/+_1516_640_640_label_Car Accident Detection.v2i.yolov7pytorch/train/images/._argusAccident98_jpg.rf.fb1de74ea2b2c7e43614a0fcfdc6075a.jpg  \n",
            "  inflating: +_1516_640_640_label_Car Accident Detection.v2i.yolov7pytorch/train/images/acc1487_jpg.rf.99824710d1bd964918c2d371b08325e3.jpg  \n",
            "  inflating: __MACOSX/+_1516_640_640_label_Car Accident Detection.v2i.yolov7pytorch/train/images/._acc1487_jpg.rf.99824710d1bd964918c2d371b08325e3.jpg  \n",
            "  inflating: +_1516_640_640_label_Car Accident Detection.v2i.yolov7pytorch/train/images/trafficseverity_img992_jpg.rf.3ca5f60a8bf19dd9d64a50bd14a08323.jpg  \n",
            "  inflating: __MACOSX/+_1516_640_640_label_Car Accident Detection.v2i.yolov7pytorch/train/images/._trafficseverity_img992_jpg.rf.3ca5f60a8bf19dd9d64a50bd14a08323.jpg  \n",
            "  inflating: +_1516_640_640_label_Car Accident Detection.v2i.yolov7pytorch/train/images/2accidentFrame300_jpg.rf.c6ed41b076de87d2d614a1fa4c7a2fd1.jpg  \n",
            "  inflating: __MACOSX/+_1516_640_640_label_Car Accident Detection.v2i.yolov7pytorch/train/images/._2accidentFrame300_jpg.rf.c6ed41b076de87d2d614a1fa4c7a2fd1.jpg  \n",
            "  inflating: +_1516_640_640_label_Car Accident Detection.v2i.yolov7pytorch/train/images/Screenshot-366-_png_jpg.rf.1a2fbd3b2ada719db6c98ddafc4d8e78.jpg  \n",
            "  inflating: __MACOSX/+_1516_640_640_label_Car Accident Detection.v2i.yolov7pytorch/train/images/._Screenshot-366-_png_jpg.rf.1a2fbd3b2ada719db6c98ddafc4d8e78.jpg  \n",
            "  inflating: +_1516_640_640_label_Car Accident Detection.v2i.yolov7pytorch/train/images/test17_21_jpg.rf.1caebd5fd953f9815dc5d985927b7250.jpg  \n",
            "  inflating: __MACOSX/+_1516_640_640_label_Car Accident Detection.v2i.yolov7pytorch/train/images/._test17_21_jpg.rf.1caebd5fd953f9815dc5d985927b7250.jpg  \n",
            "  inflating: +_1516_640_640_label_Car Accident Detection.v2i.yolov7pytorch/train/images/test17_15_jpg.rf.f8caf42e0faf6f3db97c9e56217fea84.jpg  \n",
            "  inflating: __MACOSX/+_1516_640_640_label_Car Accident Detection.v2i.yolov7pytorch/train/images/._test17_15_jpg.rf.f8caf42e0faf6f3db97c9e56217fea84.jpg  \n",
            "  inflating: +_1516_640_640_label_Car Accident Detection.v2i.yolov7pytorch/train/images/Screenshot-276-_png_jpg.rf.014094b253173463b372859081a3890e.jpg  \n",
            "  inflating: __MACOSX/+_1516_640_640_label_Car Accident Detection.v2i.yolov7pytorch/train/images/._Screenshot-276-_png_jpg.rf.014094b253173463b372859081a3890e.jpg  \n",
            "  inflating: +_1516_640_640_label_Car Accident Detection.v2i.yolov7pytorch/train/images/severityV4_22_jpg.rf.b33083b7026699368b3fb0135a4d4c7a.jpg  \n",
            "  inflating: __MACOSX/+_1516_640_640_label_Car Accident Detection.v2i.yolov7pytorch/train/images/._severityV4_22_jpg.rf.b33083b7026699368b3fb0135a4d4c7a.jpg  \n",
            "  inflating: +_1516_640_640_label_Car Accident Detection.v2i.yolov7pytorch/train/images/images-13_jpg.rf.b285cf3462840f147339c54e173e7676.jpg  \n",
            "  inflating: __MACOSX/+_1516_640_640_label_Car Accident Detection.v2i.yolov7pytorch/train/images/._images-13_jpg.rf.b285cf3462840f147339c54e173e7676.jpg  \n",
            "  inflating: +_1516_640_640_label_Car Accident Detection.v2i.yolov7pytorch/train/images/images-17_jpg.rf.f8bd60c729a9f740e3d95fec1ee83782.jpg  \n",
            "  inflating: __MACOSX/+_1516_640_640_label_Car Accident Detection.v2i.yolov7pytorch/train/images/._images-17_jpg.rf.f8bd60c729a9f740e3d95fec1ee83782.jpg  \n",
            "  inflating: +_1516_640_640_label_Car Accident Detection.v2i.yolov7pytorch/train/images/FLIP_CAR_V138_jpg.rf.d058cbda37f4c4d21bbf8e8056acb53f.jpg  \n",
            "  inflating: __MACOSX/+_1516_640_640_label_Car Accident Detection.v2i.yolov7pytorch/train/images/._FLIP_CAR_V138_jpg.rf.d058cbda37f4c4d21bbf8e8056acb53f.jpg  \n",
            "  inflating: +_1516_640_640_label_Car Accident Detection.v2i.yolov7pytorch/train/images/a15_jpg.rf.316ec066455165e26c68dc980bc2324e.jpg  \n",
            "  inflating: __MACOSX/+_1516_640_640_label_Car Accident Detection.v2i.yolov7pytorch/train/images/._a15_jpg.rf.316ec066455165e26c68dc980bc2324e.jpg  \n",
            "  inflating: +_1516_640_640_label_Car Accident Detection.v2i.yolov7pytorch/train/images/Screenshot-27-_png_jpg.rf.96e865f9a31456f9975b3227fae63762.jpg  \n",
            "  inflating: __MACOSX/+_1516_640_640_label_Car Accident Detection.v2i.yolov7pytorch/train/images/._Screenshot-27-_png_jpg.rf.96e865f9a31456f9975b3227fae63762.jpg  \n",
            "  inflating: +_1516_640_640_label_Car Accident Detection.v2i.yolov7pytorch/train/images/accidentFrame4158_jpg.rf.28f82d25ba875a5952c772880a00e7f0.jpg  \n",
            "  inflating: __MACOSX/+_1516_640_640_label_Car Accident Detection.v2i.yolov7pytorch/train/images/._accidentFrame4158_jpg.rf.28f82d25ba875a5952c772880a00e7f0.jpg  \n",
            "  inflating: +_1516_640_640_label_Car Accident Detection.v2i.yolov7pytorch/train/images/1092_jpeg_jpg.rf.ed6e88e49ade080bfa292cf7aeb0e582.jpg  \n",
            "  inflating: __MACOSX/+_1516_640_640_label_Car Accident Detection.v2i.yolov7pytorch/train/images/._1092_jpeg_jpg.rf.ed6e88e49ade080bfa292cf7aeb0e582.jpg  \n",
            "  inflating: +_1516_640_640_label_Car Accident Detection.v2i.yolov7pytorch/train/images/images-34_jpg.rf.bb423bd371533618caee6f3b30228e88.jpg  \n",
            "  inflating: __MACOSX/+_1516_640_640_label_Car Accident Detection.v2i.yolov7pytorch/train/images/._images-34_jpg.rf.bb423bd371533618caee6f3b30228e88.jpg  \n",
            "  inflating: +_1516_640_640_label_Car Accident Detection.v2i.yolov7pytorch/train/images/traffic_img1595_jpg.rf.277d8ae447c129eba1df3644b6a72b76.jpg  \n",
            "  inflating: __MACOSX/+_1516_640_640_label_Car Accident Detection.v2i.yolov7pytorch/train/images/._traffic_img1595_jpg.rf.277d8ae447c129eba1df3644b6a72b76.jpg  \n",
            "  inflating: +_1516_640_640_label_Car Accident Detection.v2i.yolov7pytorch/train/images/vlcsnap-2020-01-17-03h47m27s334_png.rf.555a2cd8ffb781a38a19887bba392eae.jpg  \n",
            "  inflating: __MACOSX/+_1516_640_640_label_Car Accident Detection.v2i.yolov7pytorch/train/images/._vlcsnap-2020-01-17-03h47m27s334_png.rf.555a2cd8ffb781a38a19887bba392eae.jpg  \n",
            "  inflating: +_1516_640_640_label_Car Accident Detection.v2i.yolov7pytorch/train/images/test17_16_jpg.rf.e2d2cd6b9d988542d408aa548a12fb3b.jpg  \n",
            "  inflating: __MACOSX/+_1516_640_640_label_Car Accident Detection.v2i.yolov7pytorch/train/images/._test17_16_jpg.rf.e2d2cd6b9d988542d408aa548a12fb3b.jpg  \n",
            "  inflating: +_1516_640_640_label_Car Accident Detection.v2i.yolov7pytorch/train/images/frame_0399_jpg.rf.8f010272da25bb9b4e180dfe29672c47.jpg  \n",
            "  inflating: __MACOSX/+_1516_640_640_label_Car Accident Detection.v2i.yolov7pytorch/train/images/._frame_0399_jpg.rf.8f010272da25bb9b4e180dfe29672c47.jpg  \n",
            "  inflating: +_1516_640_640_label_Car Accident Detection.v2i.yolov7pytorch/train/images/Semi-RealisticVD-144_jpg.rf.adb1b118dd5bfb8211580839f6f2a07e.jpg  \n",
            "  inflating: __MACOSX/+_1516_640_640_label_Car Accident Detection.v2i.yolov7pytorch/train/images/._Semi-RealisticVD-144_jpg.rf.adb1b118dd5bfb8211580839f6f2a07e.jpg  \n",
            "  inflating: +_1516_640_640_label_Car Accident Detection.v2i.yolov7pytorch/train/images/Severity_Detect_V16_jpg.rf.65f6440bdc6ce6e4667573f7815c632c.jpg  \n",
            "  inflating: __MACOSX/+_1516_640_640_label_Car Accident Detection.v2i.yolov7pytorch/train/images/._Severity_Detect_V16_jpg.rf.65f6440bdc6ce6e4667573f7815c632c.jpg  \n",
            "  inflating: +_1516_640_640_label_Car Accident Detection.v2i.yolov7pytorch/train/images/accidentFrame3008_jpg.rf.ad22453e5c1df7f40aa4b52fcb85b884.jpg  \n",
            "  inflating: __MACOSX/+_1516_640_640_label_Car Accident Detection.v2i.yolov7pytorch/train/images/._accidentFrame3008_jpg.rf.ad22453e5c1df7f40aa4b52fcb85b884.jpg  \n",
            "  inflating: +_1516_640_640_label_Car Accident Detection.v2i.yolov7pytorch/train/images/2accidentFrame826_jpg.rf.265efd341761dda935073e9355865de7.jpg  \n",
            "  inflating: __MACOSX/+_1516_640_640_label_Car Accident Detection.v2i.yolov7pytorch/train/images/._2accidentFrame826_jpg.rf.265efd341761dda935073e9355865de7.jpg  \n",
            "  inflating: +_1516_640_640_label_Car Accident Detection.v2i.yolov7pytorch/train/images/argusAcc59_jpg.rf.b5e2e7178374090be581d03edc6dd814.jpg  \n",
            "  inflating: __MACOSX/+_1516_640_640_label_Car Accident Detection.v2i.yolov7pytorch/train/images/._argusAcc59_jpg.rf.b5e2e7178374090be581d03edc6dd814.jpg  \n",
            "  inflating: +_1516_640_640_label_Car Accident Detection.v2i.yolov7pytorch/train/images/images-2_jpg.rf.03df1da14f6452089273aedaef9f758a.jpg  \n",
            "  inflating: __MACOSX/+_1516_640_640_label_Car Accident Detection.v2i.yolov7pytorch/train/images/._images-2_jpg.rf.03df1da14f6452089273aedaef9f758a.jpg  \n",
            "  inflating: +_1516_640_640_label_Car Accident Detection.v2i.yolov7pytorch/train/images/severity_V140_jpg.rf.e083820591aadc6cc8e8f7b63b929b8d.jpg  \n",
            "  inflating: __MACOSX/+_1516_640_640_label_Car Accident Detection.v2i.yolov7pytorch/train/images/._severity_V140_jpg.rf.e083820591aadc6cc8e8f7b63b929b8d.jpg  \n",
            "  inflating: +_1516_640_640_label_Car Accident Detection.v2i.yolov7pytorch/train/images/images-27_jpg.rf.8101ffb839552a2ffc65a105b32f95e7.jpg  \n",
            "  inflating: __MACOSX/+_1516_640_640_label_Car Accident Detection.v2i.yolov7pytorch/train/images/._images-27_jpg.rf.8101ffb839552a2ffc65a105b32f95e7.jpg  \n",
            "  inflating: +_1516_640_640_label_Car Accident Detection.v2i.yolov7pytorch/train/images/severityV4_99_jpg.rf.f4c609bedeccee53826a44f5daf9ea42.jpg  \n",
            "  inflating: __MACOSX/+_1516_640_640_label_Car Accident Detection.v2i.yolov7pytorch/train/images/._severityV4_99_jpg.rf.f4c609bedeccee53826a44f5daf9ea42.jpg  \n",
            "  inflating: +_1516_640_640_label_Car Accident Detection.v2i.yolov7pytorch/train/images/images-41_jpg.rf.73329c46d890b331e9bfe68c09e9594b.jpg  \n",
            "  inflating: __MACOSX/+_1516_640_640_label_Car Accident Detection.v2i.yolov7pytorch/train/images/._images-41_jpg.rf.73329c46d890b331e9bfe68c09e9594b.jpg  \n",
            "  inflating: +_1516_640_640_label_Car Accident Detection.v2i.yolov7pytorch/train/images/severityV4_80_jpg.rf.b8e4233e7a90e4f09f77b8210b483a3a.jpg  \n",
            "  inflating: __MACOSX/+_1516_640_640_label_Car Accident Detection.v2i.yolov7pytorch/train/images/._severityV4_80_jpg.rf.b8e4233e7a90e4f09f77b8210b483a3a.jpg  \n",
            "  inflating: +_1516_640_640_label_Car Accident Detection.v2i.yolov7pytorch/train/images/acc781_jpg.rf.ee6adeb705b78aad519abfd88c8b83a5.jpg  \n",
            "  inflating: __MACOSX/+_1516_640_640_label_Car Accident Detection.v2i.yolov7pytorch/train/images/._acc781_jpg.rf.ee6adeb705b78aad519abfd88c8b83a5.jpg  \n",
            "  inflating: +_1516_640_640_label_Car Accident Detection.v2i.yolov7pytorch/train/images/test5_10_jpg.rf.af561a3380dc5d5ee89e763a4e0c3222.jpg  \n",
            "  inflating: __MACOSX/+_1516_640_640_label_Car Accident Detection.v2i.yolov7pytorch/train/images/._test5_10_jpg.rf.af561a3380dc5d5ee89e763a4e0c3222.jpg  \n",
            "  inflating: +_1516_640_640_label_Car Accident Detection.v2i.yolov7pytorch/train/images/severityV4_95_jpg.rf.936d3928a169ce626d4ff1a034d35aaf.jpg  \n",
            "  inflating: __MACOSX/+_1516_640_640_label_Car Accident Detection.v2i.yolov7pytorch/train/images/._severityV4_95_jpg.rf.936d3928a169ce626d4ff1a034d35aaf.jpg  \n",
            "  inflating: +_1516_640_640_label_Car Accident Detection.v2i.yolov7pytorch/train/images/accidentFrame515_jpg.rf.e88d9fab360a8b8f931fc409b642c74c.jpg  \n",
            "  inflating: __MACOSX/+_1516_640_640_label_Car Accident Detection.v2i.yolov7pytorch/train/images/._accidentFrame515_jpg.rf.e88d9fab360a8b8f931fc409b642c74c.jpg  \n",
            "  inflating: +_1516_640_640_label_Car Accident Detection.v2i.yolov7pytorch/train/images/image9_jpg.rf.c49a98c918412bb676cf67afeb4fd9f7.jpg  \n",
            "  inflating: __MACOSX/+_1516_640_640_label_Car Accident Detection.v2i.yolov7pytorch/train/images/._image9_jpg.rf.c49a98c918412bb676cf67afeb4fd9f7.jpg  \n",
            "  inflating: +_1516_640_640_label_Car Accident Detection.v2i.yolov7pytorch/train/images/vd44_jpeg_jpg.rf.a7d18946ff77ce1607b9def987c7b8cb.jpg  \n",
            "  inflating: __MACOSX/+_1516_640_640_label_Car Accident Detection.v2i.yolov7pytorch/train/images/._vd44_jpeg_jpg.rf.a7d18946ff77ce1607b9def987c7b8cb.jpg  \n",
            "  inflating: +_1516_640_640_label_Car Accident Detection.v2i.yolov7pytorch/train/images/Semi-RealisticVD-52_jpg.rf.030d662c7cb549ae11c8bf1661163f59.jpg  \n",
            "  inflating: __MACOSX/+_1516_640_640_label_Car Accident Detection.v2i.yolov7pytorch/train/images/._Semi-RealisticVD-52_jpg.rf.030d662c7cb549ae11c8bf1661163f59.jpg  \n",
            "  inflating: +_1516_640_640_label_Car Accident Detection.v2i.yolov7pytorch/train/images/accidentFrame3651_jpg.rf.ba6db7e76986c41c118639d045f980dc.jpg  \n",
            "  inflating: __MACOSX/+_1516_640_640_label_Car Accident Detection.v2i.yolov7pytorch/train/images/._accidentFrame3651_jpg.rf.ba6db7e76986c41c118639d045f980dc.jpg  \n",
            "  inflating: +_1516_640_640_label_Car Accident Detection.v2i.yolov7pytorch/train/images/argusAccident63_jpg.rf.b0cea24b4ae2acbfe880ea0a6782e444.jpg  \n",
            "  inflating: __MACOSX/+_1516_640_640_label_Car Accident Detection.v2i.yolov7pytorch/train/images/._argusAccident63_jpg.rf.b0cea24b4ae2acbfe880ea0a6782e444.jpg  \n",
            "  inflating: +_1516_640_640_label_Car Accident Detection.v2i.yolov7pytorch/train/images/image65_jpg.rf.61ad9d8c146917e953354a8fb027c72a.jpg  \n",
            "  inflating: __MACOSX/+_1516_640_640_label_Car Accident Detection.v2i.yolov7pytorch/train/images/._image65_jpg.rf.61ad9d8c146917e953354a8fb027c72a.jpg  \n",
            "  inflating: +_1516_640_640_label_Car Accident Detection.v2i.yolov7pytorch/train/images/test13_16_jpg.rf.4edc10a55b780b1370837a2becb38894.jpg  \n",
            "  inflating: __MACOSX/+_1516_640_640_label_Car Accident Detection.v2i.yolov7pytorch/train/images/._test13_16_jpg.rf.4edc10a55b780b1370837a2becb38894.jpg  \n",
            "  inflating: +_1516_640_640_label_Car Accident Detection.v2i.yolov7pytorch/train/images/260_jpeg_jpg.rf.de3d573834e0f510b7e912f89fd70804.jpg  \n",
            "  inflating: __MACOSX/+_1516_640_640_label_Car Accident Detection.v2i.yolov7pytorch/train/images/._260_jpeg_jpg.rf.de3d573834e0f510b7e912f89fd70804.jpg  \n",
            "  inflating: +_1516_640_640_label_Car Accident Detection.v2i.yolov7pytorch/train/images/Image78_jpg.rf.7891a36e87759afb5402e89a6526e8b0.jpg  \n",
            "  inflating: __MACOSX/+_1516_640_640_label_Car Accident Detection.v2i.yolov7pytorch/train/images/._Image78_jpg.rf.7891a36e87759afb5402e89a6526e8b0.jpg  \n",
            "  inflating: +_1516_640_640_label_Car Accident Detection.v2i.yolov7pytorch/train/images/argusAcc68_jpg.rf.c7d14969f5726c3eb95a59ec4379c7e1.jpg  \n",
            "  inflating: __MACOSX/+_1516_640_640_label_Car Accident Detection.v2i.yolov7pytorch/train/images/._argusAcc68_jpg.rf.c7d14969f5726c3eb95a59ec4379c7e1.jpg  \n",
            "  inflating: +_1516_640_640_label_Car Accident Detection.v2i.yolov7pytorch/train/images/Car-Crash-Dashcam-Compilation-2018-Russia-USA-Europe-19185_jpg.rf.ff0234491d64b43a5f0152d6e6af4d5e.jpg  \n",
            "  inflating: __MACOSX/+_1516_640_640_label_Car Accident Detection.v2i.yolov7pytorch/train/images/._Car-Crash-Dashcam-Compilation-2018-Russia-USA-Europe-19185_jpg.rf.ff0234491d64b43a5f0152d6e6af4d5e.jpg  \n",
            "  inflating: +_1516_640_640_label_Car Accident Detection.v2i.yolov7pytorch/train/images/vlcsnap-2020-01-16-01h36m12s486_png.rf.b1ddcd8a76a37a8bffe89d5624744af2.jpg  \n",
            "  inflating: __MACOSX/+_1516_640_640_label_Car Accident Detection.v2i.yolov7pytorch/train/images/._vlcsnap-2020-01-16-01h36m12s486_png.rf.b1ddcd8a76a37a8bffe89d5624744af2.jpg  \n",
            "  inflating: +_1516_640_640_label_Car Accident Detection.v2i.yolov7pytorch/train/images/Severity_Detect_V11_jpg.rf.4e1ad7c127bf9a6f347dd3df054fe7c0.jpg  \n",
            "  inflating: __MACOSX/+_1516_640_640_label_Car Accident Detection.v2i.yolov7pytorch/train/images/._Severity_Detect_V11_jpg.rf.4e1ad7c127bf9a6f347dd3df054fe7c0.jpg  \n",
            "  inflating: +_1516_640_640_label_Car Accident Detection.v2i.yolov7pytorch/train/images/IMG_2347_PNG_jpg.rf.95ea505c57016662448f2b3a79c4c3f2.jpg  \n",
            "  inflating: __MACOSX/+_1516_640_640_label_Car Accident Detection.v2i.yolov7pytorch/train/images/._IMG_2347_PNG_jpg.rf.95ea505c57016662448f2b3a79c4c3f2.jpg  \n",
            "  inflating: +_1516_640_640_label_Car Accident Detection.v2i.yolov7pytorch/train/images/Accident-602-_jpg.rf.356f3f0824bb5170a7b944dc3b439d37.jpg  \n",
            "  inflating: __MACOSX/+_1516_640_640_label_Car Accident Detection.v2i.yolov7pytorch/train/images/._Accident-602-_jpg.rf.356f3f0824bb5170a7b944dc3b439d37.jpg  \n",
            "  inflating: +_1516_640_640_label_Car Accident Detection.v2i.yolov7pytorch/train/images/vlcsnap-2020-01-16-01h19m43s950-2-_png.rf.f7b356f0e5f838e23771c0034beeabd8.jpg  \n",
            "  inflating: __MACOSX/+_1516_640_640_label_Car Accident Detection.v2i.yolov7pytorch/train/images/._vlcsnap-2020-01-16-01h19m43s950-2-_png.rf.f7b356f0e5f838e23771c0034beeabd8.jpg  \n",
            "  inflating: +_1516_640_640_label_Car Accident Detection.v2i.yolov7pytorch/train/images/severityV4_98_jpg.rf.bf5280c0d0e3bd4ec9307884078d0d8c.jpg  \n",
            "  inflating: __MACOSX/+_1516_640_640_label_Car Accident Detection.v2i.yolov7pytorch/train/images/._severityV4_98_jpg.rf.bf5280c0d0e3bd4ec9307884078d0d8c.jpg  \n",
            "  inflating: +_1516_640_640_label_Car Accident Detection.v2i.yolov7pytorch/train/images/Semi-RealisticVD-181_jpg.rf.c17dc88853f25679fe38fb77efd53994.jpg  \n",
            "  inflating: __MACOSX/+_1516_640_640_label_Car Accident Detection.v2i.yolov7pytorch/train/images/._Semi-RealisticVD-181_jpg.rf.c17dc88853f25679fe38fb77efd53994.jpg  \n",
            "  inflating: +_1516_640_640_label_Car Accident Detection.v2i.yolov7pytorch/train/images/accidentFrame2743_jpg.rf.de68d29eecc45460c1efe92575ad3487.jpg  \n",
            "  inflating: __MACOSX/+_1516_640_640_label_Car Accident Detection.v2i.yolov7pytorch/train/images/._accidentFrame2743_jpg.rf.de68d29eecc45460c1efe92575ad3487.jpg  \n",
            "  inflating: +_1516_640_640_label_Car Accident Detection.v2i.yolov7pytorch/train/images/frame_1315_jpg.rf.28b21a9e2d802b3f82376239d4ff7d9d.jpg  \n",
            "  inflating: __MACOSX/+_1516_640_640_label_Car Accident Detection.v2i.yolov7pytorch/train/images/._frame_1315_jpg.rf.28b21a9e2d802b3f82376239d4ff7d9d.jpg  \n",
            "  inflating: +_1516_640_640_label_Car Accident Detection.v2i.yolov7pytorch/train/images/accidentFrame457_jpg.rf.7d2d50f6062b58c2408720d176b06803.jpg  \n",
            "  inflating: __MACOSX/+_1516_640_640_label_Car Accident Detection.v2i.yolov7pytorch/train/images/._accidentFrame457_jpg.rf.7d2d50f6062b58c2408720d176b06803.jpg  \n",
            "  inflating: +_1516_640_640_label_Car Accident Detection.v2i.yolov7pytorch/train/images/severity_V138_jpg.rf.507a869d1d54382a0a6d33602ac39839.jpg  \n",
            "  inflating: __MACOSX/+_1516_640_640_label_Car Accident Detection.v2i.yolov7pytorch/train/images/._severity_V138_jpg.rf.507a869d1d54382a0a6d33602ac39839.jpg  \n",
            "  inflating: +_1516_640_640_label_Car Accident Detection.v2i.yolov7pytorch/train/images/argusAcc60_jpg.rf.c587c66c75fc9564617f090557479e24.jpg  \n",
            "  inflating: __MACOSX/+_1516_640_640_label_Car Accident Detection.v2i.yolov7pytorch/train/images/._argusAcc60_jpg.rf.c587c66c75fc9564617f090557479e24.jpg  \n",
            "  inflating: +_1516_640_640_label_Car Accident Detection.v2i.yolov7pytorch/train/images/images-4_jpg.rf.3bd0f82406bcb639f59a4cf331912c47.jpg  \n",
            "  inflating: __MACOSX/+_1516_640_640_label_Car Accident Detection.v2i.yolov7pytorch/train/images/._images-4_jpg.rf.3bd0f82406bcb639f59a4cf331912c47.jpg  \n",
            "  inflating: +_1516_640_640_label_Car Accident Detection.v2i.yolov7pytorch/train/images/accidentFrame501_jpg.rf.93a0194dd22001756b6ca304164e9446.jpg  \n",
            "  inflating: __MACOSX/+_1516_640_640_label_Car Accident Detection.v2i.yolov7pytorch/train/images/._accidentFrame501_jpg.rf.93a0194dd22001756b6ca304164e9446.jpg  \n",
            "  inflating: +_1516_640_640_label_Car Accident Detection.v2i.yolov7pytorch/train/images/argusAcc64_jpg.rf.a04a6361ac36450b99d2f4266dec6056.jpg  \n",
            "  inflating: __MACOSX/+_1516_640_640_label_Car Accident Detection.v2i.yolov7pytorch/train/images/._argusAcc64_jpg.rf.a04a6361ac36450b99d2f4266dec6056.jpg  \n",
            "  inflating: +_1516_640_640_label_Car Accident Detection.v2i.yolov7pytorch/train/images/accidentFrame110_jpg.rf.051a59f37fd458db516f1509f857ba04.jpg  \n",
            "  inflating: __MACOSX/+_1516_640_640_label_Car Accident Detection.v2i.yolov7pytorch/train/images/._accidentFrame110_jpg.rf.051a59f37fd458db516f1509f857ba04.jpg  \n",
            "  inflating: +_1516_640_640_label_Car Accident Detection.v2i.yolov7pytorch/train/images/images-20_jpg.rf.690f4f8bdb06e3b888f4892d6eee481b.jpg  \n",
            "  inflating: __MACOSX/+_1516_640_640_label_Car Accident Detection.v2i.yolov7pytorch/train/images/._images-20_jpg.rf.690f4f8bdb06e3b888f4892d6eee481b.jpg  \n",
            "  inflating: +_1516_640_640_label_Car Accident Detection.v2i.yolov7pytorch/train/images/accidentFrame259_jpg.rf.de2167041026e81606c7e4a6f5e2d546.jpg  \n",
            "  inflating: __MACOSX/+_1516_640_640_label_Car Accident Detection.v2i.yolov7pytorch/train/images/._accidentFrame259_jpg.rf.de2167041026e81606c7e4a6f5e2d546.jpg  \n",
            "  inflating: +_1516_640_640_label_Car Accident Detection.v2i.yolov7pytorch/train/images/tt2_png_jpg.rf.fa56ae10d23b8a5559b5825691e2b655.jpg  \n",
            "  inflating: __MACOSX/+_1516_640_640_label_Car Accident Detection.v2i.yolov7pytorch/train/images/._tt2_png_jpg.rf.fa56ae10d23b8a5559b5825691e2b655.jpg  \n",
            "  inflating: +_1516_640_640_label_Car Accident Detection.v2i.yolov7pytorch/train/images/acc774_jpg.rf.724ea81404c594b980af21f61a045f23.jpg  \n",
            "  inflating: __MACOSX/+_1516_640_640_label_Car Accident Detection.v2i.yolov7pytorch/train/images/._acc774_jpg.rf.724ea81404c594b980af21f61a045f23.jpg  \n",
            "  inflating: +_1516_640_640_label_Car Accident Detection.v2i.yolov7pytorch/train/images/Screenshot-378-_png_jpg.rf.00be536120c03ace6b5160766a4c73d8.jpg  \n",
            "  inflating: __MACOSX/+_1516_640_640_label_Car Accident Detection.v2i.yolov7pytorch/train/images/._Screenshot-378-_png_jpg.rf.00be536120c03ace6b5160766a4c73d8.jpg  \n",
            "  inflating: +_1516_640_640_label_Car Accident Detection.v2i.yolov7pytorch/train/images/CARimage29_jpg.rf.2631502fe28084b96ed498aa38db2f80.jpg  \n",
            "  inflating: __MACOSX/+_1516_640_640_label_Car Accident Detection.v2i.yolov7pytorch/train/images/._CARimage29_jpg.rf.2631502fe28084b96ed498aa38db2f80.jpg  \n",
            "  inflating: +_1516_640_640_label_Car Accident Detection.v2i.yolov7pytorch/train/images/AD1_jpeg_jpg.rf.37ad24464065d43fc09d35bf55f6621a.jpg  \n",
            "  inflating: __MACOSX/+_1516_640_640_label_Car Accident Detection.v2i.yolov7pytorch/train/images/._AD1_jpeg_jpg.rf.37ad24464065d43fc09d35bf55f6621a.jpg  \n",
            "  inflating: +_1516_640_640_label_Car Accident Detection.v2i.yolov7pytorch/train/images/photo32_jpg.rf.b22e0ab4fcccb007d944df288522ecb5.jpg  \n",
            "  inflating: __MACOSX/+_1516_640_640_label_Car Accident Detection.v2i.yolov7pytorch/train/images/._photo32_jpg.rf.b22e0ab4fcccb007d944df288522ecb5.jpg  \n",
            "  inflating: +_1516_640_640_label_Car Accident Detection.v2i.yolov7pytorch/train/images/905_jpeg_jpg.rf.e422b89734cef981e95d166d15d4c821.jpg  \n",
            "  inflating: __MACOSX/+_1516_640_640_label_Car Accident Detection.v2i.yolov7pytorch/train/images/._905_jpeg_jpg.rf.e422b89734cef981e95d166d15d4c821.jpg  \n",
            "  inflating: +_1516_640_640_label_Car Accident Detection.v2i.yolov7pytorch/train/images/Screenshot-430-_png_jpg.rf.4522614884b65419fafd36b430e01cbb.jpg  \n",
            "  inflating: __MACOSX/+_1516_640_640_label_Car Accident Detection.v2i.yolov7pytorch/train/images/._Screenshot-430-_png_jpg.rf.4522614884b65419fafd36b430e01cbb.jpg  \n",
            "  inflating: +_1516_640_640_label_Car Accident Detection.v2i.yolov7pytorch/train/images/vlcsnap-2020-01-16-00h58m22s248_png.rf.661249d1dec52729ccec20b75bf09cf7.jpg  \n",
            "  inflating: __MACOSX/+_1516_640_640_label_Car Accident Detection.v2i.yolov7pytorch/train/images/._vlcsnap-2020-01-16-00h58m22s248_png.rf.661249d1dec52729ccec20b75bf09cf7.jpg  \n",
            "  inflating: +_1516_640_640_label_Car Accident Detection.v2i.yolov7pytorch/train/images/FLIP_CAR_V161_jpg.rf.51ba2a611d5f40973ea8a5c40a77fed8.jpg  \n",
            "  inflating: __MACOSX/+_1516_640_640_label_Car Accident Detection.v2i.yolov7pytorch/train/images/._FLIP_CAR_V161_jpg.rf.51ba2a611d5f40973ea8a5c40a77fed8.jpg  \n",
            "  inflating: +_1516_640_640_label_Car Accident Detection.v2i.yolov7pytorch/train/images/acc774_jpg.rf.3f945263df2a6073a72943a0eb1202b5.jpg  \n",
            "  inflating: __MACOSX/+_1516_640_640_label_Car Accident Detection.v2i.yolov7pytorch/train/images/._acc774_jpg.rf.3f945263df2a6073a72943a0eb1202b5.jpg  \n",
            "  inflating: +_1516_640_640_label_Car Accident Detection.v2i.yolov7pytorch/train/images/severityV4_78_jpg.rf.cbfe623a7960ad6bb92137399c7ec304.jpg  \n",
            "  inflating: __MACOSX/+_1516_640_640_label_Car Accident Detection.v2i.yolov7pytorch/train/images/._severityV4_78_jpg.rf.cbfe623a7960ad6bb92137399c7ec304.jpg  \n",
            "  inflating: +_1516_640_640_label_Car Accident Detection.v2i.yolov7pytorch/train/images/accidentFrame2373_jpg.rf.ffb585de3d86cdca74e86dc72a502c65.jpg  \n",
            "  inflating: __MACOSX/+_1516_640_640_label_Car Accident Detection.v2i.yolov7pytorch/train/images/._accidentFrame2373_jpg.rf.ffb585de3d86cdca74e86dc72a502c65.jpg  \n",
            "  inflating: +_1516_640_640_label_Car Accident Detection.v2i.yolov7pytorch/train/images/severityV2_31_jpg.rf.638d939a4ca6544fe67f0cc03f7f2ce4.jpg  \n",
            "  inflating: __MACOSX/+_1516_640_640_label_Car Accident Detection.v2i.yolov7pytorch/train/images/._severityV2_31_jpg.rf.638d939a4ca6544fe67f0cc03f7f2ce4.jpg  \n",
            "  inflating: +_1516_640_640_label_Car Accident Detection.v2i.yolov7pytorch/train/images/images-9_jpg.rf.9d9902e6615e203a1bea48cbd773cc95.jpg  \n",
            "  inflating: __MACOSX/+_1516_640_640_label_Car Accident Detection.v2i.yolov7pytorch/train/images/._images-9_jpg.rf.9d9902e6615e203a1bea48cbd773cc95.jpg  \n",
            "  inflating: +_1516_640_640_label_Car Accident Detection.v2i.yolov7pytorch/train/images/168_jpeg_jpg.rf.75c29fd6723998ee782e77bb6f1e7e5d.jpg  \n",
            "  inflating: __MACOSX/+_1516_640_640_label_Car Accident Detection.v2i.yolov7pytorch/train/images/._168_jpeg_jpg.rf.75c29fd6723998ee782e77bb6f1e7e5d.jpg  \n",
            "  inflating: +_1516_640_640_label_Car Accident Detection.v2i.yolov7pytorch/train/images/Screenshot-447-_png_jpg.rf.2d7a41ff81e723634498e7a993be0fdf.jpg  \n",
            "  inflating: __MACOSX/+_1516_640_640_label_Car Accident Detection.v2i.yolov7pytorch/train/images/._Screenshot-447-_png_jpg.rf.2d7a41ff81e723634498e7a993be0fdf.jpg  \n",
            "  inflating: +_1516_640_640_label_Car Accident Detection.v2i.yolov7pytorch/train/images/test25_30_jpg.rf.6a0c21490f91e3631fff2aa3e752b399.jpg  \n",
            "  inflating: __MACOSX/+_1516_640_640_label_Car Accident Detection.v2i.yolov7pytorch/train/images/._test25_30_jpg.rf.6a0c21490f91e3631fff2aa3e752b399.jpg  \n",
            "  inflating: +_1516_640_640_label_Car Accident Detection.v2i.yolov7pytorch/train/images/1-136_jpg.rf.885b3fdccbbbe232b3d50fa0c6311d67.jpg  \n",
            "  inflating: __MACOSX/+_1516_640_640_label_Car Accident Detection.v2i.yolov7pytorch/train/images/._1-136_jpg.rf.885b3fdccbbbe232b3d50fa0c6311d67.jpg  \n",
            "  inflating: +_1516_640_640_label_Car Accident Detection.v2i.yolov7pytorch/train/images/severityV4_85_jpg.rf.eb723fedad43a48a71a4e4854a793902.jpg  \n",
            "  inflating: __MACOSX/+_1516_640_640_label_Car Accident Detection.v2i.yolov7pytorch/train/images/._severityV4_85_jpg.rf.eb723fedad43a48a71a4e4854a793902.jpg  \n",
            "  inflating: +_1516_640_640_label_Car Accident Detection.v2i.yolov7pytorch/train/images/argusAcc110_jpg.rf.fed2f210bcc9cdf13fe2e8a9863c5600.jpg  \n",
            "  inflating: __MACOSX/+_1516_640_640_label_Car Accident Detection.v2i.yolov7pytorch/train/images/._argusAcc110_jpg.rf.fed2f210bcc9cdf13fe2e8a9863c5600.jpg  \n",
            "  inflating: +_1516_640_640_label_Car Accident Detection.v2i.yolov7pytorch/train/images/4061_jpeg_jpg.rf.949a0826dc8f0d956d6619d103372e05.jpg  \n",
            "  inflating: __MACOSX/+_1516_640_640_label_Car Accident Detection.v2i.yolov7pytorch/train/images/._4061_jpeg_jpg.rf.949a0826dc8f0d956d6619d103372e05.jpg  \n",
            "  inflating: +_1516_640_640_label_Car Accident Detection.v2i.yolov7pytorch/train/images/test11_37_jpg.rf.503c2a4f1fbd8fd3ed9230fc7fa89746.jpg  \n",
            "  inflating: __MACOSX/+_1516_640_640_label_Car Accident Detection.v2i.yolov7pytorch/train/images/._test11_37_jpg.rf.503c2a4f1fbd8fd3ed9230fc7fa89746.jpg  \n",
            "  inflating: +_1516_640_640_label_Car Accident Detection.v2i.yolov7pytorch/train/images/severity_V116_jpg.rf.c00726f0603f9ab473726043da72f604.jpg  \n",
            "  inflating: __MACOSX/+_1516_640_640_label_Car Accident Detection.v2i.yolov7pytorch/train/images/._severity_V116_jpg.rf.c00726f0603f9ab473726043da72f604.jpg  \n",
            "  inflating: +_1516_640_640_label_Car Accident Detection.v2i.yolov7pytorch/train/images/accidentFrame2152_jpg.rf.44daf8fb5a6fd563964fe9dcd626568f.jpg  \n",
            "  inflating: __MACOSX/+_1516_640_640_label_Car Accident Detection.v2i.yolov7pytorch/train/images/._accidentFrame2152_jpg.rf.44daf8fb5a6fd563964fe9dcd626568f.jpg  \n",
            "  inflating: +_1516_640_640_label_Car Accident Detection.v2i.yolov7pytorch/train/images/traffic_img344_jpg.rf.f34c2a7a6269ea06e58c913c54ada086.jpg  \n",
            "  inflating: __MACOSX/+_1516_640_640_label_Car Accident Detection.v2i.yolov7pytorch/train/images/._traffic_img344_jpg.rf.f34c2a7a6269ea06e58c913c54ada086.jpg  \n",
            "  inflating: +_1516_640_640_label_Car Accident Detection.v2i.yolov7pytorch/train/images/test10_18_jpg.rf.a68bb42804e5917a5930e767f3fa8d9e.jpg  \n",
            "  inflating: __MACOSX/+_1516_640_640_label_Car Accident Detection.v2i.yolov7pytorch/train/images/._test10_18_jpg.rf.a68bb42804e5917a5930e767f3fa8d9e.jpg  \n",
            "  inflating: +_1516_640_640_label_Car Accident Detection.v2i.yolov7pytorch/train/images/trafficseverity_img992_jpg.rf.e4d134f16d5fdfc2160e3a8bf6cf5519.jpg  \n",
            "  inflating: __MACOSX/+_1516_640_640_label_Car Accident Detection.v2i.yolov7pytorch/train/images/._trafficseverity_img992_jpg.rf.e4d134f16d5fdfc2160e3a8bf6cf5519.jpg  \n",
            "  inflating: +_1516_640_640_label_Car Accident Detection.v2i.yolov7pytorch/train/images/accidentFrame259_jpg.rf.f5f443e63d3b67c422a225069c3c2b0a.jpg  \n",
            "  inflating: __MACOSX/+_1516_640_640_label_Car Accident Detection.v2i.yolov7pytorch/train/images/._accidentFrame259_jpg.rf.f5f443e63d3b67c422a225069c3c2b0a.jpg  \n",
            "  inflating: +_1516_640_640_label_Car Accident Detection.v2i.yolov7pytorch/train/images/severityV4_55_jpg.rf.408ea187b2b93aa23ce2d6d9f4543a72.jpg  \n",
            "  inflating: __MACOSX/+_1516_640_640_label_Car Accident Detection.v2i.yolov7pytorch/train/images/._severityV4_55_jpg.rf.408ea187b2b93aa23ce2d6d9f4543a72.jpg  \n",
            "  inflating: +_1516_640_640_label_Car Accident Detection.v2i.yolov7pytorch/train/images/23_jpg.rf.c5d675be624c519f9bce8a9214d35651.jpg  \n",
            "  inflating: __MACOSX/+_1516_640_640_label_Car Accident Detection.v2i.yolov7pytorch/train/images/._23_jpg.rf.c5d675be624c519f9bce8a9214d35651.jpg  \n",
            "  inflating: +_1516_640_640_label_Car Accident Detection.v2i.yolov7pytorch/train/images/test29_14_jpg.rf.d6154e9b9d1c790a8f134e27a54a5dae.jpg  \n",
            "  inflating: __MACOSX/+_1516_640_640_label_Car Accident Detection.v2i.yolov7pytorch/train/images/._test29_14_jpg.rf.d6154e9b9d1c790a8f134e27a54a5dae.jpg  \n",
            "  inflating: +_1516_640_640_label_Car Accident Detection.v2i.yolov7pytorch/train/images/14-169_jpg.rf.f46ac4a562ccc71f23775d4c81334523.jpg  \n",
            "  inflating: __MACOSX/+_1516_640_640_label_Car Accident Detection.v2i.yolov7pytorch/train/images/._14-169_jpg.rf.f46ac4a562ccc71f23775d4c81334523.jpg  \n",
            "  inflating: +_1516_640_640_label_Car Accident Detection.v2i.yolov7pytorch/train/images/frame_0066_jpg.rf.711dc12477df5eec06b4b770737508fb.jpg  \n",
            "  inflating: __MACOSX/+_1516_640_640_label_Car Accident Detection.v2i.yolov7pytorch/train/images/._frame_0066_jpg.rf.711dc12477df5eec06b4b770737508fb.jpg  \n",
            "  inflating: +_1516_640_640_label_Car Accident Detection.v2i.yolov7pytorch/train/images/Screenshot-450-_png_jpg.rf.08a99ce39b6a0c6f3c8ed1647fe7651b.jpg  \n",
            "  inflating: __MACOSX/+_1516_640_640_label_Car Accident Detection.v2i.yolov7pytorch/train/images/._Screenshot-450-_png_jpg.rf.08a99ce39b6a0c6f3c8ed1647fe7651b.jpg  \n",
            "  inflating: +_1516_640_640_label_Car Accident Detection.v2i.yolov7pytorch/train/images/test10_14_jpg.rf.1967e4efd7623cee6981e01b985eafec.jpg  \n",
            "  inflating: __MACOSX/+_1516_640_640_label_Car Accident Detection.v2i.yolov7pytorch/train/images/._test10_14_jpg.rf.1967e4efd7623cee6981e01b985eafec.jpg  \n",
            "  inflating: +_1516_640_640_label_Car Accident Detection.v2i.yolov7pytorch/train/images/images-22_jpg.rf.95fa52fc1752d1dab3f62ae53681586b.jpg  \n",
            "  inflating: __MACOSX/+_1516_640_640_label_Car Accident Detection.v2i.yolov7pytorch/train/images/._images-22_jpg.rf.95fa52fc1752d1dab3f62ae53681586b.jpg  \n",
            "  inflating: +_1516_640_640_label_Car Accident Detection.v2i.yolov7pytorch/train/images/Accident_Img_1486_jpg.rf.379915cc8307cda9638cfd1e0acfc080.jpg  \n",
            "  inflating: __MACOSX/+_1516_640_640_label_Car Accident Detection.v2i.yolov7pytorch/train/images/._Accident_Img_1486_jpg.rf.379915cc8307cda9638cfd1e0acfc080.jpg  \n",
            "  inflating: +_1516_640_640_label_Car Accident Detection.v2i.yolov7pytorch/train/images/accidentFrame109_jpg.rf.b59de314873b51b9f6225806950aa66a.jpg  \n",
            "  inflating: __MACOSX/+_1516_640_640_label_Car Accident Detection.v2i.yolov7pytorch/train/images/._accidentFrame109_jpg.rf.b59de314873b51b9f6225806950aa66a.jpg  \n",
            "  inflating: +_1516_640_640_label_Car Accident Detection.v2i.yolov7pytorch/train/images/FLIP_CAR_V12_jpg.rf.1feae930e6b4f1908aca9b5fb9a0267c.jpg  \n",
            "  inflating: __MACOSX/+_1516_640_640_label_Car Accident Detection.v2i.yolov7pytorch/train/images/._FLIP_CAR_V12_jpg.rf.1feae930e6b4f1908aca9b5fb9a0267c.jpg  \n",
            "  inflating: +_1516_640_640_label_Car Accident Detection.v2i.yolov7pytorch/train/images/severityV4_92_jpg.rf.9f22c3ab4804f9a274cc0607590d3047.jpg  \n",
            "  inflating: __MACOSX/+_1516_640_640_label_Car Accident Detection.v2i.yolov7pytorch/train/images/._severityV4_92_jpg.rf.9f22c3ab4804f9a274cc0607590d3047.jpg  \n",
            "  inflating: +_1516_640_640_label_Car Accident Detection.v2i.yolov7pytorch/train/images/vlcsnap-2020-01-15-22h03m25s301_png.rf.d304ebee25de1530682502be654e09d6.jpg  \n",
            "  inflating: __MACOSX/+_1516_640_640_label_Car Accident Detection.v2i.yolov7pytorch/train/images/._vlcsnap-2020-01-15-22h03m25s301_png.rf.d304ebee25de1530682502be654e09d6.jpg  \n",
            "  inflating: +_1516_640_640_label_Car Accident Detection.v2i.yolov7pytorch/train/images/download-9_jpg.rf.5bb9dc638539e848dec666251efc92a8.jpg  \n",
            "  inflating: __MACOSX/+_1516_640_640_label_Car Accident Detection.v2i.yolov7pytorch/train/images/._download-9_jpg.rf.5bb9dc638539e848dec666251efc92a8.jpg  \n",
            "  inflating: +_1516_640_640_label_Car Accident Detection.v2i.yolov7pytorch/train/images/test27_20_jpg.rf.ad5f96d6219d1256fe7a3d196a2bb39a.jpg  \n",
            "  inflating: __MACOSX/+_1516_640_640_label_Car Accident Detection.v2i.yolov7pytorch/train/images/._test27_20_jpg.rf.ad5f96d6219d1256fe7a3d196a2bb39a.jpg  \n",
            "  inflating: +_1516_640_640_label_Car Accident Detection.v2i.yolov7pytorch/train/images/accidentFrame122_jpg.rf.8e0442316a0d8b096ccb808b098f6bcb.jpg  \n",
            "  inflating: __MACOSX/+_1516_640_640_label_Car Accident Detection.v2i.yolov7pytorch/train/images/._accidentFrame122_jpg.rf.8e0442316a0d8b096ccb808b098f6bcb.jpg  \n",
            "  inflating: +_1516_640_640_label_Car Accident Detection.v2i.yolov7pytorch/train/images/severityV3_18_jpeg_jpg.rf.1b7534622a5f63f2f0ca51b6119943d3.jpg  \n",
            "  inflating: __MACOSX/+_1516_640_640_label_Car Accident Detection.v2i.yolov7pytorch/train/images/._severityV3_18_jpeg_jpg.rf.1b7534622a5f63f2f0ca51b6119943d3.jpg  \n",
            "  inflating: +_1516_640_640_label_Car Accident Detection.v2i.yolov7pytorch/train/images/photo174_jpg.rf.f98e2304aaa151e1f51a7241d1aee7dc.jpg  \n",
            "  inflating: __MACOSX/+_1516_640_640_label_Car Accident Detection.v2i.yolov7pytorch/train/images/._photo174_jpg.rf.f98e2304aaa151e1f51a7241d1aee7dc.jpg  \n",
            "  inflating: +_1516_640_640_label_Car Accident Detection.v2i.yolov7pytorch/train/images/Image81_jpg.rf.c51cbb3a255adcf543b146e3960350ce.jpg  \n",
            "  inflating: __MACOSX/+_1516_640_640_label_Car Accident Detection.v2i.yolov7pytorch/train/images/._Image81_jpg.rf.c51cbb3a255adcf543b146e3960350ce.jpg  \n",
            "  inflating: +_1516_640_640_label_Car Accident Detection.v2i.yolov7pytorch/train/images/vlcsnap-2020-01-16-00h01m56s483_png.rf.29692489e8a99ce7f7193d26d866c9fd.jpg  \n",
            "  inflating: __MACOSX/+_1516_640_640_label_Car Accident Detection.v2i.yolov7pytorch/train/images/._vlcsnap-2020-01-16-00h01m56s483_png.rf.29692489e8a99ce7f7193d26d866c9fd.jpg  \n",
            "  inflating: +_1516_640_640_label_Car Accident Detection.v2i.yolov7pytorch/train/images/test12_15_jpg.rf.3a4655a417145790878e3025f3b38410.jpg  \n",
            "  inflating: __MACOSX/+_1516_640_640_label_Car Accident Detection.v2i.yolov7pytorch/train/images/._test12_15_jpg.rf.3a4655a417145790878e3025f3b38410.jpg  \n",
            "  inflating: +_1516_640_640_label_Car Accident Detection.v2i.yolov7pytorch/train/images/argusAcc174_jpg.rf.297467611cf01f64b95340b00b7af03f.jpg  \n",
            "  inflating: __MACOSX/+_1516_640_640_label_Car Accident Detection.v2i.yolov7pytorch/train/images/._argusAcc174_jpg.rf.297467611cf01f64b95340b00b7af03f.jpg  \n",
            "  inflating: +_1516_640_640_label_Car Accident Detection.v2i.yolov7pytorch/train/images/Screenshot-301-_png_jpg.rf.d77183a9d2e65f93064b50853838648f.jpg  \n",
            "  inflating: __MACOSX/+_1516_640_640_label_Car Accident Detection.v2i.yolov7pytorch/train/images/._Screenshot-301-_png_jpg.rf.d77183a9d2e65f93064b50853838648f.jpg  \n",
            "  inflating: +_1516_640_640_label_Car Accident Detection.v2i.yolov7pytorch/train/images/severityV3_8_jpeg_jpg.rf.c91d7d884e82c5db07250ff89bf6b225.jpg  \n",
            "  inflating: __MACOSX/+_1516_640_640_label_Car Accident Detection.v2i.yolov7pytorch/train/images/._severityV3_8_jpeg_jpg.rf.c91d7d884e82c5db07250ff89bf6b225.jpg  \n",
            "  inflating: +_1516_640_640_label_Car Accident Detection.v2i.yolov7pytorch/train/images/severityV2_7_jpg.rf.cad1435fa4ea6c88df36dc9980bc8645.jpg  \n",
            "  inflating: __MACOSX/+_1516_640_640_label_Car Accident Detection.v2i.yolov7pytorch/train/images/._severityV2_7_jpg.rf.cad1435fa4ea6c88df36dc9980bc8645.jpg  \n",
            "  inflating: +_1516_640_640_label_Car Accident Detection.v2i.yolov7pytorch/train/images/accidentFrame444_jpg.rf.ab8a7bf5c2bca138244975f22505616f.jpg  \n",
            "  inflating: __MACOSX/+_1516_640_640_label_Car Accident Detection.v2i.yolov7pytorch/train/images/._accidentFrame444_jpg.rf.ab8a7bf5c2bca138244975f22505616f.jpg  \n",
            "  inflating: +_1516_640_640_label_Car Accident Detection.v2i.yolov7pytorch/train/images/accidentFrame407_jpg.rf.7ae9d945747571d40213b5b01465c45b.jpg  \n",
            "  inflating: __MACOSX/+_1516_640_640_label_Car Accident Detection.v2i.yolov7pytorch/train/images/._accidentFrame407_jpg.rf.7ae9d945747571d40213b5b01465c45b.jpg  \n",
            "  inflating: +_1516_640_640_label_Car Accident Detection.v2i.yolov7pytorch/train/images/severityV4_72_jpg.rf.0c4df6b44f2996456ea7d420ed2602ee.jpg  \n",
            "  inflating: __MACOSX/+_1516_640_640_label_Car Accident Detection.v2i.yolov7pytorch/train/images/._severityV4_72_jpg.rf.0c4df6b44f2996456ea7d420ed2602ee.jpg  \n",
            "  inflating: +_1516_640_640_label_Car Accident Detection.v2i.yolov7pytorch/train/images/test17_15_jpg.rf.bf4a7a92e1ccb8cf742729b2eb73db6f.jpg  \n",
            "  inflating: __MACOSX/+_1516_640_640_label_Car Accident Detection.v2i.yolov7pytorch/train/images/._test17_15_jpg.rf.bf4a7a92e1ccb8cf742729b2eb73db6f.jpg  \n",
            "  inflating: +_1516_640_640_label_Car Accident Detection.v2i.yolov7pytorch/train/images/vlcsnap-2020-01-15-21h54m11s134_png.rf.981252d2f61a4e185cb5fd28b2f12621.jpg  \n",
            "  inflating: __MACOSX/+_1516_640_640_label_Car Accident Detection.v2i.yolov7pytorch/train/images/._vlcsnap-2020-01-15-21h54m11s134_png.rf.981252d2f61a4e185cb5fd28b2f12621.jpg  \n",
            "  inflating: +_1516_640_640_label_Car Accident Detection.v2i.yolov7pytorch/train/images/download_jpg.rf.9a5b18cbab9d86779c39a1c1da8f96bf.jpg  \n",
            "  inflating: __MACOSX/+_1516_640_640_label_Car Accident Detection.v2i.yolov7pytorch/train/images/._download_jpg.rf.9a5b18cbab9d86779c39a1c1da8f96bf.jpg  \n",
            "  inflating: +_1516_640_640_label_Car Accident Detection.v2i.yolov7pytorch/train/images/test17_18_jpg.rf.0c66b8bd07077746619b915295feb0ee.jpg  \n",
            "  inflating: __MACOSX/+_1516_640_640_label_Car Accident Detection.v2i.yolov7pytorch/train/images/._test17_18_jpg.rf.0c66b8bd07077746619b915295feb0ee.jpg  \n",
            "  inflating: +_1516_640_640_label_Car Accident Detection.v2i.yolov7pytorch/train/images/Screenshot-459-_png_jpg.rf.cca19997ee95cdcd33198f30a5b3a5f7.jpg  \n",
            "  inflating: __MACOSX/+_1516_640_640_label_Car Accident Detection.v2i.yolov7pytorch/train/images/._Screenshot-459-_png_jpg.rf.cca19997ee95cdcd33198f30a5b3a5f7.jpg  \n",
            "  inflating: +_1516_640_640_label_Car Accident Detection.v2i.yolov7pytorch/train/images/images-1_jpg.rf.6aee90d8c0a81953aa8187e9788ffddf.jpg  \n",
            "  inflating: __MACOSX/+_1516_640_640_label_Car Accident Detection.v2i.yolov7pytorch/train/images/._images-1_jpg.rf.6aee90d8c0a81953aa8187e9788ffddf.jpg  \n",
            "  inflating: +_1516_640_640_label_Car Accident Detection.v2i.yolov7pytorch/train/images/Screenshot-46-_png_jpg.rf.5bb6781a7147f136ef4fb5312fbd821a.jpg  \n",
            "  inflating: __MACOSX/+_1516_640_640_label_Car Accident Detection.v2i.yolov7pytorch/train/images/._Screenshot-46-_png_jpg.rf.5bb6781a7147f136ef4fb5312fbd821a.jpg  \n",
            "  inflating: +_1516_640_640_label_Car Accident Detection.v2i.yolov7pytorch/train/images/severityV2_24_jpg.rf.7f966309e39c19c4f35b80eb5739ff3e.jpg  \n",
            "  inflating: __MACOSX/+_1516_640_640_label_Car Accident Detection.v2i.yolov7pytorch/train/images/._severityV2_24_jpg.rf.7f966309e39c19c4f35b80eb5739ff3e.jpg  \n",
            "  inflating: +_1516_640_640_label_Car Accident Detection.v2i.yolov7pytorch/train/images/images-42_jpg.rf.0470b9caf6040a631d809a0971fc5cb0.jpg  \n",
            "  inflating: __MACOSX/+_1516_640_640_label_Car Accident Detection.v2i.yolov7pytorch/train/images/._images-42_jpg.rf.0470b9caf6040a631d809a0971fc5cb0.jpg  \n",
            "  inflating: +_1516_640_640_label_Car Accident Detection.v2i.yolov7pytorch/train/images/buy1_jpg.rf.28b934d3c8dba89bcec339e5b87c3bc3.jpg  \n",
            "  inflating: __MACOSX/+_1516_640_640_label_Car Accident Detection.v2i.yolov7pytorch/train/images/._buy1_jpg.rf.28b934d3c8dba89bcec339e5b87c3bc3.jpg  \n",
            "  inflating: +_1516_640_640_label_Car Accident Detection.v2i.yolov7pytorch/train/images/971_jpeg_jpg.rf.603cad63bdd8923b661e2f39aeed6e3f.jpg  \n",
            "  inflating: __MACOSX/+_1516_640_640_label_Car Accident Detection.v2i.yolov7pytorch/train/images/._971_jpeg_jpg.rf.603cad63bdd8923b661e2f39aeed6e3f.jpg  \n",
            "  inflating: +_1516_640_640_label_Car Accident Detection.v2i.yolov7pytorch/train/images/FLIP_CAR_V168_jpg.rf.9fdef3aabb10232453a23535bcad229d.jpg  \n",
            "  inflating: __MACOSX/+_1516_640_640_label_Car Accident Detection.v2i.yolov7pytorch/train/images/._FLIP_CAR_V168_jpg.rf.9fdef3aabb10232453a23535bcad229d.jpg  \n",
            "  inflating: +_1516_640_640_label_Car Accident Detection.v2i.yolov7pytorch/train/images/test30_18_jpg.rf.e57efe2a449b09add30f4c7e78f27fa1.jpg  \n",
            "  inflating: __MACOSX/+_1516_640_640_label_Car Accident Detection.v2i.yolov7pytorch/train/images/._test30_18_jpg.rf.e57efe2a449b09add30f4c7e78f27fa1.jpg  \n",
            "  inflating: +_1516_640_640_label_Car Accident Detection.v2i.yolov7pytorch/train/images/traffic_img757_jpg.rf.a77234e91e8b40caa99fe5c083916d66.jpg  \n",
            "  inflating: __MACOSX/+_1516_640_640_label_Car Accident Detection.v2i.yolov7pytorch/train/images/._traffic_img757_jpg.rf.a77234e91e8b40caa99fe5c083916d66.jpg  \n",
            "  inflating: +_1516_640_640_label_Car Accident Detection.v2i.yolov7pytorch/train/images/traffic_img1590_jpg.rf.bceaadb42bb8194c7adb9a122da15120.jpg  \n",
            "  inflating: __MACOSX/+_1516_640_640_label_Car Accident Detection.v2i.yolov7pytorch/train/images/._traffic_img1590_jpg.rf.bceaadb42bb8194c7adb9a122da15120.jpg  \n",
            "  inflating: +_1516_640_640_label_Car Accident Detection.v2i.yolov7pytorch/train/images/accidentFrame156_jpg.rf.ef659709363c9b2115a7e9290b4251df.jpg  \n",
            "  inflating: __MACOSX/+_1516_640_640_label_Car Accident Detection.v2i.yolov7pytorch/train/images/._accidentFrame156_jpg.rf.ef659709363c9b2115a7e9290b4251df.jpg  \n",
            "  inflating: +_1516_640_640_label_Car Accident Detection.v2i.yolov7pytorch/train/images/download-11_jpg.rf.e41085a26d3a2af9c0ae9ee2ae6641d2.jpg  \n",
            "  inflating: __MACOSX/+_1516_640_640_label_Car Accident Detection.v2i.yolov7pytorch/train/images/._download-11_jpg.rf.e41085a26d3a2af9c0ae9ee2ae6641d2.jpg  \n",
            "  inflating: +_1516_640_640_label_Car Accident Detection.v2i.yolov7pytorch/train/images/trafficseverity_img325_jpg.rf.e2820c296344d3123f465a11e7562769.jpg  \n",
            "  inflating: __MACOSX/+_1516_640_640_label_Car Accident Detection.v2i.yolov7pytorch/train/images/._trafficseverity_img325_jpg.rf.e2820c296344d3123f465a11e7562769.jpg  \n",
            "  inflating: +_1516_640_640_label_Car Accident Detection.v2i.yolov7pytorch/train/images/argusAcc257_jpg.rf.c1dd2301f1badb54d763e0ff94af00b8.jpg  \n",
            "  inflating: __MACOSX/+_1516_640_640_label_Car Accident Detection.v2i.yolov7pytorch/train/images/._argusAcc257_jpg.rf.c1dd2301f1badb54d763e0ff94af00b8.jpg  \n",
            "  inflating: +_1516_640_640_label_Car Accident Detection.v2i.yolov7pytorch/train/images/Severity_Detect_V40_jpg.rf.860960647d8e598fce5662204c246736.jpg  \n",
            "  inflating: __MACOSX/+_1516_640_640_label_Car Accident Detection.v2i.yolov7pytorch/train/images/._Severity_Detect_V40_jpg.rf.860960647d8e598fce5662204c246736.jpg  \n",
            "  inflating: +_1516_640_640_label_Car Accident Detection.v2i.yolov7pytorch/train/images/test3_32_jpg.rf.a8c04f20d9bc2ab512d39f007b1c4545.jpg  \n",
            "  inflating: __MACOSX/+_1516_640_640_label_Car Accident Detection.v2i.yolov7pytorch/train/images/._test3_32_jpg.rf.a8c04f20d9bc2ab512d39f007b1c4545.jpg  \n",
            "  inflating: +_1516_640_640_label_Car Accident Detection.v2i.yolov7pytorch/train/images/severityV4_18_jpg.rf.cb191cabf2c605ed31f4011bdcd7123a.jpg  \n",
            "  inflating: __MACOSX/+_1516_640_640_label_Car Accident Detection.v2i.yolov7pytorch/train/images/._severityV4_18_jpg.rf.cb191cabf2c605ed31f4011bdcd7123a.jpg  \n",
            "  inflating: +_1516_640_640_label_Car Accident Detection.v2i.yolov7pytorch/train/images/argusAccident110_jpg.rf.4d2e8ac18252f674d572af67aedd43a0.jpg  \n",
            "  inflating: __MACOSX/+_1516_640_640_label_Car Accident Detection.v2i.yolov7pytorch/train/images/._argusAccident110_jpg.rf.4d2e8ac18252f674d572af67aedd43a0.jpg  \n",
            "  inflating: +_1516_640_640_label_Car Accident Detection.v2i.yolov7pytorch/train/images/acc321_jpg.rf.0507c49aba4cac4df5091dee13973a9d.jpg  \n",
            "  inflating: __MACOSX/+_1516_640_640_label_Car Accident Detection.v2i.yolov7pytorch/train/images/._acc321_jpg.rf.0507c49aba4cac4df5091dee13973a9d.jpg  \n",
            "  inflating: +_1516_640_640_label_Car Accident Detection.v2i.yolov7pytorch/train/images/traffic_img1834_jpg.rf.83c23d1a9aa8d8eca6e2306a3d08c6c4.jpg  \n",
            "  inflating: __MACOSX/+_1516_640_640_label_Car Accident Detection.v2i.yolov7pytorch/train/images/._traffic_img1834_jpg.rf.83c23d1a9aa8d8eca6e2306a3d08c6c4.jpg  \n",
            "  inflating: +_1516_640_640_label_Car Accident Detection.v2i.yolov7pytorch/train/images/severityV3_19_jpeg_jpg.rf.9cadaf8fc2ca0c74bb4e5745bba5449c.jpg  \n",
            "  inflating: __MACOSX/+_1516_640_640_label_Car Accident Detection.v2i.yolov7pytorch/train/images/._severityV3_19_jpeg_jpg.rf.9cadaf8fc2ca0c74bb4e5745bba5449c.jpg  \n",
            "  inflating: +_1516_640_640_label_Car Accident Detection.v2i.yolov7pytorch/train/images/CARimage241_jpg.rf.df748c942ec7cb53d3708486eeffe492.jpg  \n",
            "  inflating: __MACOSX/+_1516_640_640_label_Car Accident Detection.v2i.yolov7pytorch/train/images/._CARimage241_jpg.rf.df748c942ec7cb53d3708486eeffe492.jpg  \n",
            "  inflating: +_1516_640_640_label_Car Accident Detection.v2i.yolov7pytorch/train/images/severityV4_13_jpg.rf.c78aa33c34ec46af72872b120c16e959.jpg  \n",
            "  inflating: __MACOSX/+_1516_640_640_label_Car Accident Detection.v2i.yolov7pytorch/train/images/._severityV4_13_jpg.rf.c78aa33c34ec46af72872b120c16e959.jpg  \n",
            "  inflating: +_1516_640_640_label_Car Accident Detection.v2i.yolov7pytorch/train/images/vlcsnap-2020-01-16-11h24m16s151_png.rf.6fce513035c562e547b70bc1ff77205a.jpg  \n",
            "  inflating: __MACOSX/+_1516_640_640_label_Car Accident Detection.v2i.yolov7pytorch/train/images/._vlcsnap-2020-01-16-11h24m16s151_png.rf.6fce513035c562e547b70bc1ff77205a.jpg  \n",
            "  inflating: +_1516_640_640_label_Car Accident Detection.v2i.yolov7pytorch/train/images/Image65_jpg.rf.1273f0b28e9191479b7d5cd0c4acca45.jpg  \n",
            "  inflating: __MACOSX/+_1516_640_640_label_Car Accident Detection.v2i.yolov7pytorch/train/images/._Image65_jpg.rf.1273f0b28e9191479b7d5cd0c4acca45.jpg  \n",
            "  inflating: +_1516_640_640_label_Car Accident Detection.v2i.yolov7pytorch/train/images/4-105_jpg.rf.f70e4f168993240a6ffbf8c6d870ba12.jpg  \n",
            "  inflating: __MACOSX/+_1516_640_640_label_Car Accident Detection.v2i.yolov7pytorch/train/images/._4-105_jpg.rf.f70e4f168993240a6ffbf8c6d870ba12.jpg  \n",
            "  inflating: +_1516_640_640_label_Car Accident Detection.v2i.yolov7pytorch/train/images/severityV3_3_jpeg_jpg.rf.6578dda1eb769f5df5c7c1e7dddfe4bc.jpg  \n",
            "  inflating: __MACOSX/+_1516_640_640_label_Car Accident Detection.v2i.yolov7pytorch/train/images/._severityV3_3_jpeg_jpg.rf.6578dda1eb769f5df5c7c1e7dddfe4bc.jpg  \n",
            "  inflating: +_1516_640_640_label_Car Accident Detection.v2i.yolov7pytorch/train/images/severityV4_84_jpg.rf.d1983ab3519a049e08fbeffee07a41ce.jpg  \n",
            "  inflating: __MACOSX/+_1516_640_640_label_Car Accident Detection.v2i.yolov7pytorch/train/images/._severityV4_84_jpg.rf.d1983ab3519a049e08fbeffee07a41ce.jpg  \n",
            "  inflating: +_1516_640_640_label_Car Accident Detection.v2i.yolov7pytorch/train/images/test10_12_jpg.rf.47f84a8a7b94efb5ffc5006c9a53fb05.jpg  \n",
            "  inflating: __MACOSX/+_1516_640_640_label_Car Accident Detection.v2i.yolov7pytorch/train/images/._test10_12_jpg.rf.47f84a8a7b94efb5ffc5006c9a53fb05.jpg  \n",
            "  inflating: +_1516_640_640_label_Car Accident Detection.v2i.yolov7pytorch/train/images/test25_26_jpg.rf.1818e2e782cd865b89201b5615b88dd9.jpg  \n",
            "  inflating: __MACOSX/+_1516_640_640_label_Car Accident Detection.v2i.yolov7pytorch/train/images/._test25_26_jpg.rf.1818e2e782cd865b89201b5615b88dd9.jpg  \n",
            "  inflating: +_1516_640_640_label_Car Accident Detection.v2i.yolov7pytorch/train/images/Semi-RealisticVD-206_jpg.rf.109a05430a4b6ee0d8487d47e14cc26c.jpg  \n",
            "  inflating: __MACOSX/+_1516_640_640_label_Car Accident Detection.v2i.yolov7pytorch/train/images/._Semi-RealisticVD-206_jpg.rf.109a05430a4b6ee0d8487d47e14cc26c.jpg  \n",
            "  inflating: +_1516_640_640_label_Car Accident Detection.v2i.yolov7pytorch/train/images/images-2_jpg.rf.f0a4344cd7205ad338440697cd2c854c.jpg  \n",
            "  inflating: __MACOSX/+_1516_640_640_label_Car Accident Detection.v2i.yolov7pytorch/train/images/._images-2_jpg.rf.f0a4344cd7205ad338440697cd2c854c.jpg  \n",
            "  inflating: +_1516_640_640_label_Car Accident Detection.v2i.yolov7pytorch/train/images/1-99_jpg.rf.175d2d7831c98cd9392cadc59f4a0e23.jpg  \n",
            "  inflating: __MACOSX/+_1516_640_640_label_Car Accident Detection.v2i.yolov7pytorch/train/images/._1-99_jpg.rf.175d2d7831c98cd9392cadc59f4a0e23.jpg  \n",
            "  inflating: +_1516_640_640_label_Car Accident Detection.v2i.yolov7pytorch/train/images/traffic_img22_jpg.rf.e8bc8989d7f8eedebafa0db87f434003.jpg  \n",
            "  inflating: __MACOSX/+_1516_640_640_label_Car Accident Detection.v2i.yolov7pytorch/train/images/._traffic_img22_jpg.rf.e8bc8989d7f8eedebafa0db87f434003.jpg  \n",
            "  inflating: +_1516_640_640_label_Car Accident Detection.v2i.yolov7pytorch/train/images/argusAcc439_jpg.rf.394745bdf34fc247655cfffce3cd8cfb.jpg  \n",
            "  inflating: __MACOSX/+_1516_640_640_label_Car Accident Detection.v2i.yolov7pytorch/train/images/._argusAcc439_jpg.rf.394745bdf34fc247655cfffce3cd8cfb.jpg  \n",
            "  inflating: +_1516_640_640_label_Car Accident Detection.v2i.yolov7pytorch/train/images/test10_38_jpg.rf.521df27544471a31e1e4695c83831744.jpg  \n",
            "  inflating: __MACOSX/+_1516_640_640_label_Car Accident Detection.v2i.yolov7pytorch/train/images/._test10_38_jpg.rf.521df27544471a31e1e4695c83831744.jpg  \n",
            "  inflating: +_1516_640_640_label_Car Accident Detection.v2i.yolov7pytorch/train/images/Semi-RealisticVD-45_jpg.rf.7cc53d392520a233fd6ae0b13e4bf1ca.jpg  \n",
            "  inflating: __MACOSX/+_1516_640_640_label_Car Accident Detection.v2i.yolov7pytorch/train/images/._Semi-RealisticVD-45_jpg.rf.7cc53d392520a233fd6ae0b13e4bf1ca.jpg  \n",
            "  inflating: +_1516_640_640_label_Car Accident Detection.v2i.yolov7pytorch/train/images/argusAccident42_jpg.rf.e571a54cdbc956784cc0ebfa974a736c.jpg  \n",
            "  inflating: __MACOSX/+_1516_640_640_label_Car Accident Detection.v2i.yolov7pytorch/train/images/._argusAccident42_jpg.rf.e571a54cdbc956784cc0ebfa974a736c.jpg  \n",
            "  inflating: +_1516_640_640_label_Car Accident Detection.v2i.yolov7pytorch/train/images/Severity_Detect_V18_jpg.rf.e4231b363845158bfa563ca77050515c.jpg  \n",
            "  inflating: __MACOSX/+_1516_640_640_label_Car Accident Detection.v2i.yolov7pytorch/train/images/._Severity_Detect_V18_jpg.rf.e4231b363845158bfa563ca77050515c.jpg  \n",
            "  inflating: +_1516_640_640_label_Car Accident Detection.v2i.yolov7pytorch/train/images/acc372_jpg.rf.78361664b3c60306cbd3b201ef783138.jpg  \n",
            "  inflating: __MACOSX/+_1516_640_640_label_Car Accident Detection.v2i.yolov7pytorch/train/images/._acc372_jpg.rf.78361664b3c60306cbd3b201ef783138.jpg  \n",
            "  inflating: +_1516_640_640_label_Car Accident Detection.v2i.yolov7pytorch/train/images/images-55-_jpeg_jpg.rf.8b0f6bf64012f15c2802df106cdbaf3c.jpg  \n",
            "  inflating: __MACOSX/+_1516_640_640_label_Car Accident Detection.v2i.yolov7pytorch/train/images/._images-55-_jpeg_jpg.rf.8b0f6bf64012f15c2802df106cdbaf3c.jpg  \n",
            "  inflating: +_1516_640_640_label_Car Accident Detection.v2i.yolov7pytorch/train/images/Image86_jpg.rf.ef256013eacad3c07eb2d6862b13aa8f.jpg  \n",
            "  inflating: __MACOSX/+_1516_640_640_label_Car Accident Detection.v2i.yolov7pytorch/train/images/._Image86_jpg.rf.ef256013eacad3c07eb2d6862b13aa8f.jpg  \n",
            "  inflating: +_1516_640_640_label_Car Accident Detection.v2i.yolov7pytorch/train/images/Severity_Detect_V9_jpg.rf.b2c6ba2460d21860e212573a9983c657.jpg  \n",
            "  inflating: __MACOSX/+_1516_640_640_label_Car Accident Detection.v2i.yolov7pytorch/train/images/._Severity_Detect_V9_jpg.rf.b2c6ba2460d21860e212573a9983c657.jpg  \n",
            "  inflating: +_1516_640_640_label_Car Accident Detection.v2i.yolov7pytorch/train/images/traffic_img993_jpg.rf.b32641ec182dcb01a56c87cdf46ae7da.jpg  \n",
            "  inflating: __MACOSX/+_1516_640_640_label_Car Accident Detection.v2i.yolov7pytorch/train/images/._traffic_img993_jpg.rf.b32641ec182dcb01a56c87cdf46ae7da.jpg  \n",
            "  inflating: +_1516_640_640_label_Car Accident Detection.v2i.yolov7pytorch/train/images/download_jpg.rf.eee9d1c0189b87aa5c02fcf785d8cb52.jpg  \n",
            "  inflating: __MACOSX/+_1516_640_640_label_Car Accident Detection.v2i.yolov7pytorch/train/images/._download_jpg.rf.eee9d1c0189b87aa5c02fcf785d8cb52.jpg  \n",
            "  inflating: +_1516_640_640_label_Car Accident Detection.v2i.yolov7pytorch/train/images/test25_30_jpg.rf.cf2d94e58b4363f97f50bee371db10dc.jpg  \n",
            "  inflating: __MACOSX/+_1516_640_640_label_Car Accident Detection.v2i.yolov7pytorch/train/images/._test25_30_jpg.rf.cf2d94e58b4363f97f50bee371db10dc.jpg  \n",
            "  inflating: +_1516_640_640_label_Car Accident Detection.v2i.yolov7pytorch/train/images/severityV4_79_jpg.rf.ff8af2c09b774ad20a16d5147ef9ef41.jpg  \n",
            "  inflating: __MACOSX/+_1516_640_640_label_Car Accident Detection.v2i.yolov7pytorch/train/images/._severityV4_79_jpg.rf.ff8af2c09b774ad20a16d5147ef9ef41.jpg  \n",
            "  inflating: +_1516_640_640_label_Car Accident Detection.v2i.yolov7pytorch/train/images/285_jpeg_jpg.rf.157c0bc3fad46fb4b2515bef8ff5a368.jpg  \n",
            "  inflating: __MACOSX/+_1516_640_640_label_Car Accident Detection.v2i.yolov7pytorch/train/images/._285_jpeg_jpg.rf.157c0bc3fad46fb4b2515bef8ff5a368.jpg  \n",
            "  inflating: +_1516_640_640_label_Car Accident Detection.v2i.yolov7pytorch/train/images/Screenshot-423-_png_jpg.rf.6171bac48b695c39af4902d06567375a.jpg  \n",
            "  inflating: __MACOSX/+_1516_640_640_label_Car Accident Detection.v2i.yolov7pytorch/train/images/._Screenshot-423-_png_jpg.rf.6171bac48b695c39af4902d06567375a.jpg  \n",
            "  inflating: +_1516_640_640_label_Car Accident Detection.v2i.yolov7pytorch/train/images/2-16_jpg.rf.caeb3267b511221ecb0319ba21a6806c.jpg  \n",
            "  inflating: __MACOSX/+_1516_640_640_label_Car Accident Detection.v2i.yolov7pytorch/train/images/._2-16_jpg.rf.caeb3267b511221ecb0319ba21a6806c.jpg  \n",
            "  inflating: +_1516_640_640_label_Car Accident Detection.v2i.yolov7pytorch/train/images/vlcsnap-2020-01-16-13h46m40s075_png.rf.1faeb76f250e2dc113fc4c9ecbdc59c0.jpg  \n",
            "  inflating: __MACOSX/+_1516_640_640_label_Car Accident Detection.v2i.yolov7pytorch/train/images/._vlcsnap-2020-01-16-13h46m40s075_png.rf.1faeb76f250e2dc113fc4c9ecbdc59c0.jpg  \n",
            "  inflating: +_1516_640_640_label_Car Accident Detection.v2i.yolov7pytorch/train/images/images-1_jpg.rf.f1efd9e92dfacdb2db235c16c205ec35.jpg  \n",
            "  inflating: __MACOSX/+_1516_640_640_label_Car Accident Detection.v2i.yolov7pytorch/train/images/._images-1_jpg.rf.f1efd9e92dfacdb2db235c16c205ec35.jpg  \n",
            "  inflating: +_1516_640_640_label_Car Accident Detection.v2i.yolov7pytorch/train/images/vd55_jpeg_jpg.rf.3114d3cf9ad753f6d10fc697eadd2caa.jpg  \n",
            "  inflating: __MACOSX/+_1516_640_640_label_Car Accident Detection.v2i.yolov7pytorch/train/images/._vd55_jpeg_jpg.rf.3114d3cf9ad753f6d10fc697eadd2caa.jpg  \n",
            "  inflating: +_1516_640_640_label_Car Accident Detection.v2i.yolov7pytorch/train/images/severityV4_87_jpg.rf.5371b870bb67e07ae3e1e5aa25bc4bbe.jpg  \n",
            "  inflating: __MACOSX/+_1516_640_640_label_Car Accident Detection.v2i.yolov7pytorch/train/images/._severityV4_87_jpg.rf.5371b870bb67e07ae3e1e5aa25bc4bbe.jpg  \n",
            "  inflating: +_1516_640_640_label_Car Accident Detection.v2i.yolov7pytorch/train/images/Semi-RealisticVD-30_jpg.rf.9deab8ab9291ba6dbbf21bf57ec65dad.jpg  \n",
            "  inflating: __MACOSX/+_1516_640_640_label_Car Accident Detection.v2i.yolov7pytorch/train/images/._Semi-RealisticVD-30_jpg.rf.9deab8ab9291ba6dbbf21bf57ec65dad.jpg  \n",
            "  inflating: +_1516_640_640_label_Car Accident Detection.v2i.yolov7pytorch/train/images/argusAcc439_jpg.rf.af07f9b8398d4db69a9a2397ea49bb8d.jpg  \n",
            "  inflating: __MACOSX/+_1516_640_640_label_Car Accident Detection.v2i.yolov7pytorch/train/images/._argusAcc439_jpg.rf.af07f9b8398d4db69a9a2397ea49bb8d.jpg  \n",
            "  inflating: +_1516_640_640_label_Car Accident Detection.v2i.yolov7pytorch/train/images/frame_1298_jpg.rf.f01d9a0fff8b454502b6fea447393c90.jpg  \n",
            "  inflating: __MACOSX/+_1516_640_640_label_Car Accident Detection.v2i.yolov7pytorch/train/images/._frame_1298_jpg.rf.f01d9a0fff8b454502b6fea447393c90.jpg  \n",
            "  inflating: +_1516_640_640_label_Car Accident Detection.v2i.yolov7pytorch/train/images/test1_27_jpg.rf.facbbacc091fc6fc2145e5bd0c9363ad.jpg  \n",
            "  inflating: __MACOSX/+_1516_640_640_label_Car Accident Detection.v2i.yolov7pytorch/train/images/._test1_27_jpg.rf.facbbacc091fc6fc2145e5bd0c9363ad.jpg  \n",
            "  inflating: +_1516_640_640_label_Car Accident Detection.v2i.yolov7pytorch/train/images/vlcsnap-2020-01-15-20h43m34s131_png.rf.b04575bad4c0a351fb622921505f9e84.jpg  \n",
            "  inflating: __MACOSX/+_1516_640_640_label_Car Accident Detection.v2i.yolov7pytorch/train/images/._vlcsnap-2020-01-15-20h43m34s131_png.rf.b04575bad4c0a351fb622921505f9e84.jpg  \n",
            "  inflating: +_1516_640_640_label_Car Accident Detection.v2i.yolov7pytorch/train/images/9k_-8-_jpg.rf.5e562de2300b2b83623474fdc836a4a2.jpg  \n",
            "  inflating: __MACOSX/+_1516_640_640_label_Car Accident Detection.v2i.yolov7pytorch/train/images/._9k_-8-_jpg.rf.5e562de2300b2b83623474fdc836a4a2.jpg  \n",
            "  inflating: +_1516_640_640_label_Car Accident Detection.v2i.yolov7pytorch/train/images/2-34_jpg.rf.b3d88edfcf090f9ca332e39c3a0fac3e.jpg  \n",
            "  inflating: __MACOSX/+_1516_640_640_label_Car Accident Detection.v2i.yolov7pytorch/train/images/._2-34_jpg.rf.b3d88edfcf090f9ca332e39c3a0fac3e.jpg  \n",
            "  inflating: +_1516_640_640_label_Car Accident Detection.v2i.yolov7pytorch/train/images/test29_14_jpg.rf.40f11ecded8eb77381dc5affd2dc845e.jpg  \n",
            "  inflating: __MACOSX/+_1516_640_640_label_Car Accident Detection.v2i.yolov7pytorch/train/images/._test29_14_jpg.rf.40f11ecded8eb77381dc5affd2dc845e.jpg  \n",
            "  inflating: +_1516_640_640_label_Car Accident Detection.v2i.yolov7pytorch/train/images/images-36_jpg.rf.2aed13b03005e932d15a2a8485cab151.jpg  \n",
            "  inflating: __MACOSX/+_1516_640_640_label_Car Accident Detection.v2i.yolov7pytorch/train/images/._images-36_jpg.rf.2aed13b03005e932d15a2a8485cab151.jpg  \n",
            "  inflating: +_1516_640_640_label_Car Accident Detection.v2i.yolov7pytorch/train/images/severityV4_86_jpg.rf.e242d05131a1ca9835e9214c37cde945.jpg  \n",
            "  inflating: __MACOSX/+_1516_640_640_label_Car Accident Detection.v2i.yolov7pytorch/train/images/._severityV4_86_jpg.rf.e242d05131a1ca9835e9214c37cde945.jpg  \n",
            "  inflating: +_1516_640_640_label_Car Accident Detection.v2i.yolov7pytorch/train/images/Screenshot-447-_png_jpg.rf.d51b252811806b4478e969322b89a045.jpg  \n",
            "  inflating: __MACOSX/+_1516_640_640_label_Car Accident Detection.v2i.yolov7pytorch/train/images/._Screenshot-447-_png_jpg.rf.d51b252811806b4478e969322b89a045.jpg  \n",
            "  inflating: +_1516_640_640_label_Car Accident Detection.v2i.yolov7pytorch/train/images/10-134_jpg.rf.db8fa8d6f080d2206abadb93a496bed9.jpg  \n",
            "  inflating: __MACOSX/+_1516_640_640_label_Car Accident Detection.v2i.yolov7pytorch/train/images/._10-134_jpg.rf.db8fa8d6f080d2206abadb93a496bed9.jpg  \n",
            "  inflating: +_1516_640_640_label_Car Accident Detection.v2i.yolov7pytorch/train/images/accidentFrame2758_jpg.rf.d1c40525b4347e31e518550ccbb86fe7.jpg  \n",
            "  inflating: __MACOSX/+_1516_640_640_label_Car Accident Detection.v2i.yolov7pytorch/train/images/._accidentFrame2758_jpg.rf.d1c40525b4347e31e518550ccbb86fe7.jpg  \n",
            "  inflating: +_1516_640_640_label_Car Accident Detection.v2i.yolov7pytorch/train/images/image68_jpg.rf.6e76894d68fa9df0cec6fe90391435de.jpg  \n",
            "  inflating: __MACOSX/+_1516_640_640_label_Car Accident Detection.v2i.yolov7pytorch/train/images/._image68_jpg.rf.6e76894d68fa9df0cec6fe90391435de.jpg  \n",
            "  inflating: +_1516_640_640_label_Car Accident Detection.v2i.yolov7pytorch/train/images/2-33_jpg.rf.2be819fb6b0eed40ade766d2b4c1994d.jpg  \n",
            "  inflating: __MACOSX/+_1516_640_640_label_Car Accident Detection.v2i.yolov7pytorch/train/images/._2-33_jpg.rf.2be819fb6b0eed40ade766d2b4c1994d.jpg  \n",
            "  inflating: +_1516_640_640_label_Car Accident Detection.v2i.yolov7pytorch/train/images/FLIP_CAR_V112_jpg.rf.ad5631cc2c26c140bc56e9d03689868e.jpg  \n",
            "  inflating: __MACOSX/+_1516_640_640_label_Car Accident Detection.v2i.yolov7pytorch/train/images/._FLIP_CAR_V112_jpg.rf.ad5631cc2c26c140bc56e9d03689868e.jpg  \n",
            "  inflating: +_1516_640_640_label_Car Accident Detection.v2i.yolov7pytorch/train/images/frame_2222_jpg.rf.3dc2b534d012674710fb52ade7fb69d7.jpg  \n",
            "  inflating: __MACOSX/+_1516_640_640_label_Car Accident Detection.v2i.yolov7pytorch/train/images/._frame_2222_jpg.rf.3dc2b534d012674710fb52ade7fb69d7.jpg  \n",
            "  inflating: +_1516_640_640_label_Car Accident Detection.v2i.yolov7pytorch/train/images/images-18_jpg.rf.de58e4e7c80e4f61fffbc9c8cebbd40a.jpg  \n",
            "  inflating: __MACOSX/+_1516_640_640_label_Car Accident Detection.v2i.yolov7pytorch/train/images/._images-18_jpg.rf.de58e4e7c80e4f61fffbc9c8cebbd40a.jpg  \n",
            "  inflating: +_1516_640_640_label_Car Accident Detection.v2i.yolov7pytorch/train/images/test1_25_jpg.rf.8a391dce3c2815826a56dd7c2d40b4aa.jpg  \n",
            "  inflating: __MACOSX/+_1516_640_640_label_Car Accident Detection.v2i.yolov7pytorch/train/images/._test1_25_jpg.rf.8a391dce3c2815826a56dd7c2d40b4aa.jpg  \n",
            "  inflating: +_1516_640_640_label_Car Accident Detection.v2i.yolov7pytorch/train/images/1-44_jpg.rf.cfd0a9a337f73efd713969f4312febc2.jpg  \n",
            "  inflating: __MACOSX/+_1516_640_640_label_Car Accident Detection.v2i.yolov7pytorch/train/images/._1-44_jpg.rf.cfd0a9a337f73efd713969f4312febc2.jpg  \n",
            "  inflating: +_1516_640_640_label_Car Accident Detection.v2i.yolov7pytorch/train/images/images-28_jpg.rf.2787e6bdd941ff03bf8da25451b1101a.jpg  \n",
            "  inflating: __MACOSX/+_1516_640_640_label_Car Accident Detection.v2i.yolov7pytorch/train/images/._images-28_jpg.rf.2787e6bdd941ff03bf8da25451b1101a.jpg  \n",
            "  inflating: +_1516_640_640_label_Car Accident Detection.v2i.yolov7pytorch/train/images/vlcsnap-2020-01-16-01h19m43s950_png.rf.ee43ef73c716e61a7c9adbb15f789c05.jpg  \n",
            "  inflating: __MACOSX/+_1516_640_640_label_Car Accident Detection.v2i.yolov7pytorch/train/images/._vlcsnap-2020-01-16-01h19m43s950_png.rf.ee43ef73c716e61a7c9adbb15f789c05.jpg  \n",
            "  inflating: +_1516_640_640_label_Car Accident Detection.v2i.yolov7pytorch/train/images/test16_29_jpg.rf.c537713e9368472ba245501b3190dbba.jpg  \n",
            "  inflating: __MACOSX/+_1516_640_640_label_Car Accident Detection.v2i.yolov7pytorch/train/images/._test16_29_jpg.rf.c537713e9368472ba245501b3190dbba.jpg  \n",
            "  inflating: +_1516_640_640_label_Car Accident Detection.v2i.yolov7pytorch/train/images/Severity_Detect_V14_jpg.rf.77d53679eb92bfe281a1c74920b58ba7.jpg  \n",
            "  inflating: __MACOSX/+_1516_640_640_label_Car Accident Detection.v2i.yolov7pytorch/train/images/._Severity_Detect_V14_jpg.rf.77d53679eb92bfe281a1c74920b58ba7.jpg  \n",
            "  inflating: +_1516_640_640_label_Car Accident Detection.v2i.yolov7pytorch/train/images/argusAcc64_jpg.rf.feb6c2bec70f9c67814d290425aa0dcd.jpg  \n",
            "  inflating: __MACOSX/+_1516_640_640_label_Car Accident Detection.v2i.yolov7pytorch/train/images/._argusAcc64_jpg.rf.feb6c2bec70f9c67814d290425aa0dcd.jpg  \n",
            "  inflating: +_1516_640_640_label_Car Accident Detection.v2i.yolov7pytorch/train/images/FLIP_CAR_V134_jpg.rf.9989fa7252903fb15aa33bd385c917ec.jpg  \n",
            "  inflating: __MACOSX/+_1516_640_640_label_Car Accident Detection.v2i.yolov7pytorch/train/images/._FLIP_CAR_V134_jpg.rf.9989fa7252903fb15aa33bd385c917ec.jpg  \n",
            "  inflating: +_1516_640_640_label_Car Accident Detection.v2i.yolov7pytorch/train/images/FLIP_CAR_V147_jpg.rf.b47467dbdd81de33f86b40208a9adee2.jpg  \n",
            "  inflating: __MACOSX/+_1516_640_640_label_Car Accident Detection.v2i.yolov7pytorch/train/images/._FLIP_CAR_V147_jpg.rf.b47467dbdd81de33f86b40208a9adee2.jpg  \n",
            "  inflating: +_1516_640_640_label_Car Accident Detection.v2i.yolov7pytorch/train/images/2accidentFrame943_jpg.rf.32df5a31519f6196cb9541775e151290.jpg  \n",
            "  inflating: __MACOSX/+_1516_640_640_label_Car Accident Detection.v2i.yolov7pytorch/train/images/._2accidentFrame943_jpg.rf.32df5a31519f6196cb9541775e151290.jpg  \n",
            "  inflating: +_1516_640_640_label_Car Accident Detection.v2i.yolov7pytorch/train/images/frame_1878_jpg.rf.e184db13c5bd14b0183af25144a28186.jpg  \n",
            "  inflating: __MACOSX/+_1516_640_640_label_Car Accident Detection.v2i.yolov7pytorch/train/images/._frame_1878_jpg.rf.e184db13c5bd14b0183af25144a28186.jpg  \n",
            "  inflating: +_1516_640_640_label_Car Accident Detection.v2i.yolov7pytorch/train/images/traffic_img45_jpg.rf.1fea604f49dc255c6b7bd154b2d360c7.jpg  \n",
            "  inflating: __MACOSX/+_1516_640_640_label_Car Accident Detection.v2i.yolov7pytorch/train/images/._traffic_img45_jpg.rf.1fea604f49dc255c6b7bd154b2d360c7.jpg  \n",
            "  inflating: +_1516_640_640_label_Car Accident Detection.v2i.yolov7pytorch/train/images/Screenshot-330-_png_jpg.rf.170b855a05dbf7f06139a08c7aee8b82.jpg  \n",
            "  inflating: __MACOSX/+_1516_640_640_label_Car Accident Detection.v2i.yolov7pytorch/train/images/._Screenshot-330-_png_jpg.rf.170b855a05dbf7f06139a08c7aee8b82.jpg  \n",
            "  inflating: +_1516_640_640_label_Car Accident Detection.v2i.yolov7pytorch/train/images/vlcsnap-2020-01-15-23h48m09s472_png.rf.788106d3a9e03648b04fae5814d86bd6.jpg  \n",
            "  inflating: __MACOSX/+_1516_640_640_label_Car Accident Detection.v2i.yolov7pytorch/train/images/._vlcsnap-2020-01-15-23h48m09s472_png.rf.788106d3a9e03648b04fae5814d86bd6.jpg  \n",
            "  inflating: +_1516_640_640_label_Car Accident Detection.v2i.yolov7pytorch/train/images/frame_5087_jpg.rf.ad357ccf931a6ce125788ed9e9f0a458.jpg  \n",
            "  inflating: __MACOSX/+_1516_640_640_label_Car Accident Detection.v2i.yolov7pytorch/train/images/._frame_5087_jpg.rf.ad357ccf931a6ce125788ed9e9f0a458.jpg  \n",
            "  inflating: +_1516_640_640_label_Car Accident Detection.v2i.yolov7pytorch/train/images/vlcsnap-2020-01-15-20h50m09s861_png.rf.f3222d5ae5811735f1adcda665182020.jpg  \n",
            "  inflating: __MACOSX/+_1516_640_640_label_Car Accident Detection.v2i.yolov7pytorch/train/images/._vlcsnap-2020-01-15-20h50m09s861_png.rf.f3222d5ae5811735f1adcda665182020.jpg  \n",
            "  inflating: +_1516_640_640_label_Car Accident Detection.v2i.yolov7pytorch/train/images/images-22_jpg.rf.310f5255994f9c5541119067f21957be.jpg  \n",
            "  inflating: __MACOSX/+_1516_640_640_label_Car Accident Detection.v2i.yolov7pytorch/train/images/._images-22_jpg.rf.310f5255994f9c5541119067f21957be.jpg  \n",
            "  inflating: +_1516_640_640_label_Car Accident Detection.v2i.yolov7pytorch/train/images/vlcsnap-2020-01-15-21h00m18s606_png.rf.945b30dfabae9d8953b16c39d619e127.jpg  \n",
            "  inflating: __MACOSX/+_1516_640_640_label_Car Accident Detection.v2i.yolov7pytorch/train/images/._vlcsnap-2020-01-15-21h00m18s606_png.rf.945b30dfabae9d8953b16c39d619e127.jpg  \n",
            "  inflating: +_1516_640_640_label_Car Accident Detection.v2i.yolov7pytorch/train/images/test10_16_jpg.rf.f5fe12fe15e51c0bbcff401c342bdf6a.jpg  \n",
            "  inflating: __MACOSX/+_1516_640_640_label_Car Accident Detection.v2i.yolov7pytorch/train/images/._test10_16_jpg.rf.f5fe12fe15e51c0bbcff401c342bdf6a.jpg  \n",
            "  inflating: +_1516_640_640_label_Car Accident Detection.v2i.yolov7pytorch/train/images/Screenshot-321-_png_jpg.rf.5e7e950fc7ef08f37a296100ed135ea7.jpg  \n",
            "  inflating: __MACOSX/+_1516_640_640_label_Car Accident Detection.v2i.yolov7pytorch/train/images/._Screenshot-321-_png_jpg.rf.5e7e950fc7ef08f37a296100ed135ea7.jpg  \n",
            "  inflating: +_1516_640_640_label_Car Accident Detection.v2i.yolov7pytorch/train/images/traffic_img331_jpg.rf.0adbda1b2431546a7f57f7da226df322.jpg  \n",
            "  inflating: __MACOSX/+_1516_640_640_label_Car Accident Detection.v2i.yolov7pytorch/train/images/._traffic_img331_jpg.rf.0adbda1b2431546a7f57f7da226df322.jpg  \n",
            "  inflating: +_1516_640_640_label_Car Accident Detection.v2i.yolov7pytorch/train/images/severityV3_30_jpeg_jpg.rf.c675b3b3c9703cf9a1f579dcb9a7a0ac.jpg  \n",
            "  inflating: __MACOSX/+_1516_640_640_label_Car Accident Detection.v2i.yolov7pytorch/train/images/._severityV3_30_jpeg_jpg.rf.c675b3b3c9703cf9a1f579dcb9a7a0ac.jpg  \n",
            "  inflating: +_1516_640_640_label_Car Accident Detection.v2i.yolov7pytorch/train/images/Screenshot-414-_png_jpg.rf.06a3b09317a40286fff03b2cab7200d8.jpg  \n",
            "  inflating: __MACOSX/+_1516_640_640_label_Car Accident Detection.v2i.yolov7pytorch/train/images/._Screenshot-414-_png_jpg.rf.06a3b09317a40286fff03b2cab7200d8.jpg  \n",
            "  inflating: +_1516_640_640_label_Car Accident Detection.v2i.yolov7pytorch/train/images/test26_19_jpg.rf.a280ccb5480ba0ad4bc6a8b0edd6c421.jpg  \n",
            "  inflating: __MACOSX/+_1516_640_640_label_Car Accident Detection.v2i.yolov7pytorch/train/images/._test26_19_jpg.rf.a280ccb5480ba0ad4bc6a8b0edd6c421.jpg  \n",
            "  inflating: +_1516_640_640_label_Car Accident Detection.v2i.yolov7pytorch/train/images/images-16_jpg.rf.5e1e90033a710582eb9736eb52e59008.jpg  \n",
            "  inflating: __MACOSX/+_1516_640_640_label_Car Accident Detection.v2i.yolov7pytorch/train/images/._images-16_jpg.rf.5e1e90033a710582eb9736eb52e59008.jpg  \n",
            "  inflating: +_1516_640_640_label_Car Accident Detection.v2i.yolov7pytorch/train/images/Semi-RealisticVD-61_jpg.rf.838e822db566cdc45b32c86c1ddb3a42.jpg  \n",
            "  inflating: __MACOSX/+_1516_640_640_label_Car Accident Detection.v2i.yolov7pytorch/train/images/._Semi-RealisticVD-61_jpg.rf.838e822db566cdc45b32c86c1ddb3a42.jpg  \n",
            "  inflating: +_1516_640_640_label_Car Accident Detection.v2i.yolov7pytorch/train/images/Image89_jpg.rf.3ff5fbd7b06db6d10a7b908d174eccc7.jpg  \n",
            "  inflating: __MACOSX/+_1516_640_640_label_Car Accident Detection.v2i.yolov7pytorch/train/images/._Image89_jpg.rf.3ff5fbd7b06db6d10a7b908d174eccc7.jpg  \n",
            "  inflating: +_1516_640_640_label_Car Accident Detection.v2i.yolov7pytorch/train/images/Screenshot-436-_png_jpg.rf.ebca2c9923690ed4a7ea98e0c7577027.jpg  \n",
            "  inflating: __MACOSX/+_1516_640_640_label_Car Accident Detection.v2i.yolov7pytorch/train/images/._Screenshot-436-_png_jpg.rf.ebca2c9923690ed4a7ea98e0c7577027.jpg  \n",
            "  inflating: +_1516_640_640_label_Car Accident Detection.v2i.yolov7pytorch/train/images/Screen-Shot-2022-04-05-at-2-10-30-AM_png_jpg.rf.b096765a47f9e882f1fec24d19f3bba1.jpg  \n",
            "  inflating: __MACOSX/+_1516_640_640_label_Car Accident Detection.v2i.yolov7pytorch/train/images/._Screen-Shot-2022-04-05-at-2-10-30-AM_png_jpg.rf.b096765a47f9e882f1fec24d19f3bba1.jpg  \n",
            "  inflating: +_1516_640_640_label_Car Accident Detection.v2i.yolov7pytorch/train/images/168_jpeg_jpg.rf.8dda7cd3760c8f97e848a803b6c39cdd.jpg  \n",
            "  inflating: __MACOSX/+_1516_640_640_label_Car Accident Detection.v2i.yolov7pytorch/train/images/._168_jpeg_jpg.rf.8dda7cd3760c8f97e848a803b6c39cdd.jpg  \n",
            "  inflating: +_1516_640_640_label_Car Accident Detection.v2i.yolov7pytorch/train/images/accidentFrame3651_jpg.rf.f6ac53b4d99a7548506c236296f975d9.jpg  \n",
            "  inflating: __MACOSX/+_1516_640_640_label_Car Accident Detection.v2i.yolov7pytorch/train/images/._accidentFrame3651_jpg.rf.f6ac53b4d99a7548506c236296f975d9.jpg  \n",
            "  inflating: +_1516_640_640_label_Car Accident Detection.v2i.yolov7pytorch/train/images/Screenshot-454-_png_jpg.rf.2510df4228966f5fa68afa1a961e163b.jpg  \n",
            "  inflating: __MACOSX/+_1516_640_640_label_Car Accident Detection.v2i.yolov7pytorch/train/images/._Screenshot-454-_png_jpg.rf.2510df4228966f5fa68afa1a961e163b.jpg  \n",
            "  inflating: +_1516_640_640_label_Car Accident Detection.v2i.yolov7pytorch/train/images/argusAccident84_jpg.rf.f5520f2bea15ee749c942f9e6dc0e553.jpg  \n",
            "  inflating: __MACOSX/+_1516_640_640_label_Car Accident Detection.v2i.yolov7pytorch/train/images/._argusAccident84_jpg.rf.f5520f2bea15ee749c942f9e6dc0e553.jpg  \n",
            "  inflating: +_1516_640_640_label_Car Accident Detection.v2i.yolov7pytorch/train/images/tt1_png_jpg.rf.ae5dc633ae9377858bbd40895b32cec9.jpg  \n",
            "  inflating: __MACOSX/+_1516_640_640_label_Car Accident Detection.v2i.yolov7pytorch/train/images/._tt1_png_jpg.rf.ae5dc633ae9377858bbd40895b32cec9.jpg  \n",
            "  inflating: +_1516_640_640_label_Car Accident Detection.v2i.yolov7pytorch/train/images/25641839_web1_210627-GNG-millstream-accident-_1_jpg.rf.8a1bbcd3c66235e7a0b73c0beae7ecda.jpg  \n",
            "  inflating: __MACOSX/+_1516_640_640_label_Car Accident Detection.v2i.yolov7pytorch/train/images/._25641839_web1_210627-GNG-millstream-accident-_1_jpg.rf.8a1bbcd3c66235e7a0b73c0beae7ecda.jpg  \n",
            "  inflating: +_1516_640_640_label_Car Accident Detection.v2i.yolov7pytorch/train/images/download-10_jpg.rf.e326085bc2df9f5f82ae9c63fe2554e3.jpg  \n",
            "  inflating: __MACOSX/+_1516_640_640_label_Car Accident Detection.v2i.yolov7pytorch/train/images/._download-10_jpg.rf.e326085bc2df9f5f82ae9c63fe2554e3.jpg  \n",
            "  inflating: +_1516_640_640_label_Car Accident Detection.v2i.yolov7pytorch/train/images/acc1659_jpg.rf.fa849cbfb4c23f6537c9ace40fbeab2d.jpg  \n",
            "  inflating: __MACOSX/+_1516_640_640_label_Car Accident Detection.v2i.yolov7pytorch/train/images/._acc1659_jpg.rf.fa849cbfb4c23f6537c9ace40fbeab2d.jpg  \n",
            "  inflating: +_1516_640_640_label_Car Accident Detection.v2i.yolov7pytorch/train/images/Severity_Detect_V20_jpg.rf.5ba337c0d79447f9e98a4a2bec1887ae.jpg  \n",
            "  inflating: __MACOSX/+_1516_640_640_label_Car Accident Detection.v2i.yolov7pytorch/train/images/._Severity_Detect_V20_jpg.rf.5ba337c0d79447f9e98a4a2bec1887ae.jpg  \n",
            "  inflating: +_1516_640_640_label_Car Accident Detection.v2i.yolov7pytorch/train/images/acc908_jpg.rf.d86c5de630376c327e84787aab262ef6.jpg  \n",
            "  inflating: __MACOSX/+_1516_640_640_label_Car Accident Detection.v2i.yolov7pytorch/train/images/._acc908_jpg.rf.d86c5de630376c327e84787aab262ef6.jpg  \n",
            "  inflating: +_1516_640_640_label_Car Accident Detection.v2i.yolov7pytorch/train/images/vlcsnap-2020-01-15-23h28m08s657_png.rf.a607f349610b44181cbb480376775ee5.jpg  \n",
            "  inflating: __MACOSX/+_1516_640_640_label_Car Accident Detection.v2i.yolov7pytorch/train/images/._vlcsnap-2020-01-15-23h28m08s657_png.rf.a607f349610b44181cbb480376775ee5.jpg  \n",
            "  inflating: +_1516_640_640_label_Car Accident Detection.v2i.yolov7pytorch/train/images/image53_jpg.rf.26ca33473b8edce622525c65a99a1783.jpg  \n",
            "  inflating: __MACOSX/+_1516_640_640_label_Car Accident Detection.v2i.yolov7pytorch/train/images/._image53_jpg.rf.26ca33473b8edce622525c65a99a1783.jpg  \n",
            "  inflating: +_1516_640_640_label_Car Accident Detection.v2i.yolov7pytorch/train/images/severityV4_21_jpg.rf.57381a10f33e7dff024716dca0704ace.jpg  \n",
            "  inflating: __MACOSX/+_1516_640_640_label_Car Accident Detection.v2i.yolov7pytorch/train/images/._severityV4_21_jpg.rf.57381a10f33e7dff024716dca0704ace.jpg  \n",
            "  inflating: +_1516_640_640_label_Car Accident Detection.v2i.yolov7pytorch/train/images/images-13_jpg.rf.41ada8e7be0554efebb88e6344886aba.jpg  \n",
            "  inflating: __MACOSX/+_1516_640_640_label_Car Accident Detection.v2i.yolov7pytorch/train/images/._images-13_jpg.rf.41ada8e7be0554efebb88e6344886aba.jpg  \n",
            "  inflating: +_1516_640_640_label_Car Accident Detection.v2i.yolov7pytorch/train/images/tt3_png_jpg.rf.220f8e646b1203d1896731fb38ae1b0a.jpg  \n",
            "  inflating: __MACOSX/+_1516_640_640_label_Car Accident Detection.v2i.yolov7pytorch/train/images/._tt3_png_jpg.rf.220f8e646b1203d1896731fb38ae1b0a.jpg  \n",
            "  inflating: +_1516_640_640_label_Car Accident Detection.v2i.yolov7pytorch/train/images/severityV4_81_jpg.rf.a52fadacbaa90872afa347411fdea830.jpg  \n",
            "  inflating: __MACOSX/+_1516_640_640_label_Car Accident Detection.v2i.yolov7pytorch/train/images/._severityV4_81_jpg.rf.a52fadacbaa90872afa347411fdea830.jpg  \n",
            "  inflating: +_1516_640_640_label_Car Accident Detection.v2i.yolov7pytorch/train/images/acc1435_jpg.rf.4e87f60d563492132e21e5bf386cf9b3.jpg  \n",
            "  inflating: __MACOSX/+_1516_640_640_label_Car Accident Detection.v2i.yolov7pytorch/train/images/._acc1435_jpg.rf.4e87f60d563492132e21e5bf386cf9b3.jpg  \n",
            "  inflating: +_1516_640_640_label_Car Accident Detection.v2i.yolov7pytorch/train/images/Screenshot-451-_png_jpg.rf.fc912d6b8f7e7a30b58134269027e006.jpg  \n",
            "  inflating: __MACOSX/+_1516_640_640_label_Car Accident Detection.v2i.yolov7pytorch/train/images/._Screenshot-451-_png_jpg.rf.fc912d6b8f7e7a30b58134269027e006.jpg  \n",
            "  inflating: +_1516_640_640_label_Car Accident Detection.v2i.yolov7pytorch/train/images/FLIP_CAR_V172_jpg.rf.e465cdcc27eade2a8493bba4044023c2.jpg  \n",
            "  inflating: __MACOSX/+_1516_640_640_label_Car Accident Detection.v2i.yolov7pytorch/train/images/._FLIP_CAR_V172_jpg.rf.e465cdcc27eade2a8493bba4044023c2.jpg  \n",
            "  inflating: +_1516_640_640_label_Car Accident Detection.v2i.yolov7pytorch/train/images/4097_jpeg.rf.6578f0720d440b053ecd1b1b11bec688.jpg  \n",
            "  inflating: __MACOSX/+_1516_640_640_label_Car Accident Detection.v2i.yolov7pytorch/train/images/._4097_jpeg.rf.6578f0720d440b053ecd1b1b11bec688.jpg  \n",
            "  inflating: +_1516_640_640_label_Car Accident Detection.v2i.yolov7pytorch/train/images/severityV4_78_jpg.rf.08f0a77590bf7dfb3d58ea3ec8bcb661.jpg  \n",
            "  inflating: __MACOSX/+_1516_640_640_label_Car Accident Detection.v2i.yolov7pytorch/train/images/._severityV4_78_jpg.rf.08f0a77590bf7dfb3d58ea3ec8bcb661.jpg  \n",
            "  inflating: +_1516_640_640_label_Car Accident Detection.v2i.yolov7pytorch/train/images/FLIP_CAR_V142_jpg.rf.a20d34b627c5a9972e09dc7bc0a594a8.jpg  \n",
            "  inflating: __MACOSX/+_1516_640_640_label_Car Accident Detection.v2i.yolov7pytorch/train/images/._FLIP_CAR_V142_jpg.rf.a20d34b627c5a9972e09dc7bc0a594a8.jpg  \n",
            "  inflating: +_1516_640_640_label_Car Accident Detection.v2i.yolov7pytorch/train/images/Screenshot-422-_png_jpg.rf.9af2e36f4e714b5e8b7e51d1dcbba97d.jpg  \n",
            "  inflating: __MACOSX/+_1516_640_640_label_Car Accident Detection.v2i.yolov7pytorch/train/images/._Screenshot-422-_png_jpg.rf.9af2e36f4e714b5e8b7e51d1dcbba97d.jpg  \n",
            "  inflating: +_1516_640_640_label_Car Accident Detection.v2i.yolov7pytorch/train/images/severityV4_25_jpg.rf.6321038831d4c28d794375c349e80509.jpg  \n",
            "  inflating: __MACOSX/+_1516_640_640_label_Car Accident Detection.v2i.yolov7pytorch/train/images/._severityV4_25_jpg.rf.6321038831d4c28d794375c349e80509.jpg  \n",
            "  inflating: +_1516_640_640_label_Car Accident Detection.v2i.yolov7pytorch/train/images/argusAcc81_jpg.rf.c1e0d1196af8c00284f2022b51d253c9.jpg  \n",
            "  inflating: __MACOSX/+_1516_640_640_label_Car Accident Detection.v2i.yolov7pytorch/train/images/._argusAcc81_jpg.rf.c1e0d1196af8c00284f2022b51d253c9.jpg  \n",
            "  inflating: +_1516_640_640_label_Car Accident Detection.v2i.yolov7pytorch/train/images/test22_22_jpg.rf.5e70257d0d86e3bb0e69986dfda1fd40.jpg  \n",
            "  inflating: __MACOSX/+_1516_640_640_label_Car Accident Detection.v2i.yolov7pytorch/train/images/._test22_22_jpg.rf.5e70257d0d86e3bb0e69986dfda1fd40.jpg  \n",
            "  inflating: +_1516_640_640_label_Car Accident Detection.v2i.yolov7pytorch/train/images/Semi-RealisticVD-175_jpg.rf.23358937e01dd79dcbdec9d37e761d54.jpg  \n",
            "  inflating: __MACOSX/+_1516_640_640_label_Car Accident Detection.v2i.yolov7pytorch/train/images/._Semi-RealisticVD-175_jpg.rf.23358937e01dd79dcbdec9d37e761d54.jpg  \n",
            "  inflating: +_1516_640_640_label_Car Accident Detection.v2i.yolov7pytorch/train/images/Screenshot-438-_png_jpg.rf.f5232486f13823d684de9e2666131105.jpg  \n",
            "  inflating: __MACOSX/+_1516_640_640_label_Car Accident Detection.v2i.yolov7pytorch/train/images/._Screenshot-438-_png_jpg.rf.f5232486f13823d684de9e2666131105.jpg  \n",
            "  inflating: +_1516_640_640_label_Car Accident Detection.v2i.yolov7pytorch/train/images/argusAccident22_jpg.rf.41927e7a6e1eb70a72e76f02352ad498.jpg  \n",
            "  inflating: __MACOSX/+_1516_640_640_label_Car Accident Detection.v2i.yolov7pytorch/train/images/._argusAccident22_jpg.rf.41927e7a6e1eb70a72e76f02352ad498.jpg  \n",
            "  inflating: +_1516_640_640_label_Car Accident Detection.v2i.yolov7pytorch/train/images/image33_jpg.rf.27482e9e20a9c5ac7d3fe3ae5fa30086.jpg  \n",
            "  inflating: __MACOSX/+_1516_640_640_label_Car Accident Detection.v2i.yolov7pytorch/train/images/._image33_jpg.rf.27482e9e20a9c5ac7d3fe3ae5fa30086.jpg  \n",
            "  inflating: +_1516_640_640_label_Car Accident Detection.v2i.yolov7pytorch/train/images/download-4_jpg.rf.c642df4924633d3e492664413c010d8e.jpg  \n",
            "  inflating: __MACOSX/+_1516_640_640_label_Car Accident Detection.v2i.yolov7pytorch/train/images/._download-4_jpg.rf.c642df4924633d3e492664413c010d8e.jpg  \n",
            "  inflating: +_1516_640_640_label_Car Accident Detection.v2i.yolov7pytorch/train/images/argusAccident68_jpg.rf.897891f4af312cfc56d7c2118660e934.jpg  \n",
            "  inflating: __MACOSX/+_1516_640_640_label_Car Accident Detection.v2i.yolov7pytorch/train/images/._argusAccident68_jpg.rf.897891f4af312cfc56d7c2118660e934.jpg  \n",
            "  inflating: +_1516_640_640_label_Car Accident Detection.v2i.yolov7pytorch/train/images/severityV4_94_jpg.rf.d21e1f4c515e9060040f70c95d219f00.jpg  \n",
            "  inflating: __MACOSX/+_1516_640_640_label_Car Accident Detection.v2i.yolov7pytorch/train/images/._severityV4_94_jpg.rf.d21e1f4c515e9060040f70c95d219f00.jpg  \n",
            "  inflating: +_1516_640_640_label_Car Accident Detection.v2i.yolov7pytorch/train/images/images-17_jpg.rf.6ae4fbac5322256d158a61fdf8904f04.jpg  \n",
            "  inflating: __MACOSX/+_1516_640_640_label_Car Accident Detection.v2i.yolov7pytorch/train/images/._images-17_jpg.rf.6ae4fbac5322256d158a61fdf8904f04.jpg  \n",
            "  inflating: +_1516_640_640_label_Car Accident Detection.v2i.yolov7pytorch/train/images/accidentFrame2732_jpg.rf.cb93cf684a5d4ebe2c06a9d39a721fbf.jpg  \n",
            "  inflating: __MACOSX/+_1516_640_640_label_Car Accident Detection.v2i.yolov7pytorch/train/images/._accidentFrame2732_jpg.rf.cb93cf684a5d4ebe2c06a9d39a721fbf.jpg  \n",
            "  inflating: +_1516_640_640_label_Car Accident Detection.v2i.yolov7pytorch/train/images/test25_30_jpg.rf.d1034afb7b5913c44bb4a21319c76ea3.jpg  \n",
            "  inflating: __MACOSX/+_1516_640_640_label_Car Accident Detection.v2i.yolov7pytorch/train/images/._test25_30_jpg.rf.d1034afb7b5913c44bb4a21319c76ea3.jpg  \n",
            "  inflating: +_1516_640_640_label_Car Accident Detection.v2i.yolov7pytorch/train/images/vlcsnap-2020-01-16-00h18m01s053_png.rf.f33ec064afe53633f33b4bcac9ed4eb9.jpg  \n",
            "  inflating: __MACOSX/+_1516_640_640_label_Car Accident Detection.v2i.yolov7pytorch/train/images/._vlcsnap-2020-01-16-00h18m01s053_png.rf.f33ec064afe53633f33b4bcac9ed4eb9.jpg  \n",
            "  inflating: +_1516_640_640_label_Car Accident Detection.v2i.yolov7pytorch/train/images/vlcsnap-2020-01-16-01h55m51s924_png.rf.fa1404faa11449580fa775828f308278.jpg  \n",
            "  inflating: __MACOSX/+_1516_640_640_label_Car Accident Detection.v2i.yolov7pytorch/train/images/._vlcsnap-2020-01-16-01h55m51s924_png.rf.fa1404faa11449580fa775828f308278.jpg  \n",
            "  inflating: +_1516_640_640_label_Car Accident Detection.v2i.yolov7pytorch/train/images/severityV4_89_jpg.rf.dae00d202b320c6a04e79121895e3222.jpg  \n",
            "  inflating: __MACOSX/+_1516_640_640_label_Car Accident Detection.v2i.yolov7pytorch/train/images/._severityV4_89_jpg.rf.dae00d202b320c6a04e79121895e3222.jpg  \n",
            "  inflating: +_1516_640_640_label_Car Accident Detection.v2i.yolov7pytorch/train/images/VA12_jpeg_jpg.rf.eb797f0a02a4c88ea1243192d39a2a70.jpg  \n",
            "  inflating: __MACOSX/+_1516_640_640_label_Car Accident Detection.v2i.yolov7pytorch/train/images/._VA12_jpeg_jpg.rf.eb797f0a02a4c88ea1243192d39a2a70.jpg  \n",
            "  inflating: +_1516_640_640_label_Car Accident Detection.v2i.yolov7pytorch/train/images/accidentFrame252_jpg.rf.ca09b90e23e6f5b6056fa5fb2c16485b.jpg  \n",
            "  inflating: __MACOSX/+_1516_640_640_label_Car Accident Detection.v2i.yolov7pytorch/train/images/._accidentFrame252_jpg.rf.ca09b90e23e6f5b6056fa5fb2c16485b.jpg  \n",
            "  inflating: +_1516_640_640_label_Car Accident Detection.v2i.yolov7pytorch/train/images/image60_jpg.rf.9c61289d0390a3719b1d45519ca78d78.jpg  \n",
            "  inflating: __MACOSX/+_1516_640_640_label_Car Accident Detection.v2i.yolov7pytorch/train/images/._image60_jpg.rf.9c61289d0390a3719b1d45519ca78d78.jpg  \n",
            "  inflating: +_1516_640_640_label_Car Accident Detection.v2i.yolov7pytorch/train/images/Semi-RealisticVD-45_jpg.rf.6e88b87854d99942764f63027ec36854.jpg  \n",
            "  inflating: __MACOSX/+_1516_640_640_label_Car Accident Detection.v2i.yolov7pytorch/train/images/._Semi-RealisticVD-45_jpg.rf.6e88b87854d99942764f63027ec36854.jpg  \n",
            "  inflating: +_1516_640_640_label_Car Accident Detection.v2i.yolov7pytorch/train/images/Screenshot-307-_png_jpg.rf.aed8972779970fe3351fc3d9d361d950.jpg  \n",
            "  inflating: __MACOSX/+_1516_640_640_label_Car Accident Detection.v2i.yolov7pytorch/train/images/._Screenshot-307-_png_jpg.rf.aed8972779970fe3351fc3d9d361d950.jpg  \n",
            "  inflating: +_1516_640_640_label_Car Accident Detection.v2i.yolov7pytorch/train/images/argusAcc596_jpg.rf.20e99d4eb5e8811c8f4be58769b371ff.jpg  \n",
            "  inflating: __MACOSX/+_1516_640_640_label_Car Accident Detection.v2i.yolov7pytorch/train/images/._argusAcc596_jpg.rf.20e99d4eb5e8811c8f4be58769b371ff.jpg  \n",
            "  inflating: +_1516_640_640_label_Car Accident Detection.v2i.yolov7pytorch/train/images/Semi-RealisticVD-119_jpg.rf.cabe8e3ea81252957a0130a9f34f5df0.jpg  \n",
            "  inflating: __MACOSX/+_1516_640_640_label_Car Accident Detection.v2i.yolov7pytorch/train/images/._Semi-RealisticVD-119_jpg.rf.cabe8e3ea81252957a0130a9f34f5df0.jpg  \n",
            "  inflating: +_1516_640_640_label_Car Accident Detection.v2i.yolov7pytorch/train/images/download-10_jpg.rf.977ddf4a6ce2747fb0fde2f65680b9a1.jpg  \n",
            "  inflating: __MACOSX/+_1516_640_640_label_Car Accident Detection.v2i.yolov7pytorch/train/images/._download-10_jpg.rf.977ddf4a6ce2747fb0fde2f65680b9a1.jpg  \n",
            "  inflating: +_1516_640_640_label_Car Accident Detection.v2i.yolov7pytorch/train/images/accidentFrame4161_jpg.rf.a1c13d0c77b6a3efe0299b8c48018a39.jpg  \n",
            "  inflating: __MACOSX/+_1516_640_640_label_Car Accident Detection.v2i.yolov7pytorch/train/images/._accidentFrame4161_jpg.rf.a1c13d0c77b6a3efe0299b8c48018a39.jpg  \n",
            "  inflating: +_1516_640_640_label_Car Accident Detection.v2i.yolov7pytorch/train/images/severV14_jpg.rf.c785b6628091d3078ed1da68dc1e5cda.jpg  \n",
            "  inflating: __MACOSX/+_1516_640_640_label_Car Accident Detection.v2i.yolov7pytorch/train/images/._severV14_jpg.rf.c785b6628091d3078ed1da68dc1e5cda.jpg  \n",
            "  inflating: +_1516_640_640_label_Car Accident Detection.v2i.yolov7pytorch/train/images/1567913504284_jpg.rf.ab973ada608e65a11dfb6e2376c3ab7e.jpg  \n",
            "  inflating: __MACOSX/+_1516_640_640_label_Car Accident Detection.v2i.yolov7pytorch/train/images/._1567913504284_jpg.rf.ab973ada608e65a11dfb6e2376c3ab7e.jpg  \n",
            "  inflating: +_1516_640_640_label_Car Accident Detection.v2i.yolov7pytorch/train/images/test20_17_jpg.rf.71ee94698e6cc63daa28ad980c1094dc.jpg  \n",
            "  inflating: __MACOSX/+_1516_640_640_label_Car Accident Detection.v2i.yolov7pytorch/train/images/._test20_17_jpg.rf.71ee94698e6cc63daa28ad980c1094dc.jpg  \n",
            "  inflating: +_1516_640_640_label_Car Accident Detection.v2i.yolov7pytorch/train/images/2accidentFrame252_jpg.rf.6a1025195861a8cfe0f1c035ef8c785e.jpg  \n",
            "  inflating: __MACOSX/+_1516_640_640_label_Car Accident Detection.v2i.yolov7pytorch/train/images/._2accidentFrame252_jpg.rf.6a1025195861a8cfe0f1c035ef8c785e.jpg  \n",
            "  inflating: +_1516_640_640_label_Car Accident Detection.v2i.yolov7pytorch/train/images/test20_19_jpg.rf.76cbb759a5df78b60a9c7b5a7ccb5f1a.jpg  \n",
            "  inflating: __MACOSX/+_1516_640_640_label_Car Accident Detection.v2i.yolov7pytorch/train/images/._test20_19_jpg.rf.76cbb759a5df78b60a9c7b5a7ccb5f1a.jpg  \n",
            "  inflating: +_1516_640_640_label_Car Accident Detection.v2i.yolov7pytorch/train/images/accidentFrame181_jpg.rf.c54b3eb7bf0ae4448cd0e442a3ceecb4.jpg  \n",
            "  inflating: __MACOSX/+_1516_640_640_label_Car Accident Detection.v2i.yolov7pytorch/train/images/._accidentFrame181_jpg.rf.c54b3eb7bf0ae4448cd0e442a3ceecb4.jpg  \n",
            "  inflating: +_1516_640_640_label_Car Accident Detection.v2i.yolov7pytorch/train/images/severityV4_83_jpg.rf.297ba5dc9fc92124951764be814489b7.jpg  \n",
            "  inflating: __MACOSX/+_1516_640_640_label_Car Accident Detection.v2i.yolov7pytorch/train/images/._severityV4_83_jpg.rf.297ba5dc9fc92124951764be814489b7.jpg  \n",
            "  inflating: +_1516_640_640_label_Car Accident Detection.v2i.yolov7pytorch/train/images/severityV4_14_jpg.rf.f1a2c9060c7f39d2d39af3e8a74f91b8.jpg  \n",
            "  inflating: __MACOSX/+_1516_640_640_label_Car Accident Detection.v2i.yolov7pytorch/train/images/._severityV4_14_jpg.rf.f1a2c9060c7f39d2d39af3e8a74f91b8.jpg  \n",
            "  inflating: +_1516_640_640_label_Car Accident Detection.v2i.yolov7pytorch/train/images/29906170001_5318678692001_5318661149001-vs_jpg.rf.3fd5c4df39f0a92bcecfb73df6122c93.jpg  \n",
            "  inflating: __MACOSX/+_1516_640_640_label_Car Accident Detection.v2i.yolov7pytorch/train/images/._29906170001_5318678692001_5318661149001-vs_jpg.rf.3fd5c4df39f0a92bcecfb73df6122c93.jpg  \n",
            "  inflating: +_1516_640_640_label_Car Accident Detection.v2i.yolov7pytorch/train/images/test20_19_jpg.rf.3aad1e57be93b19886c68a1fb14b02fe.jpg  \n",
            "  inflating: __MACOSX/+_1516_640_640_label_Car Accident Detection.v2i.yolov7pytorch/train/images/._test20_19_jpg.rf.3aad1e57be93b19886c68a1fb14b02fe.jpg  \n",
            "  inflating: +_1516_640_640_label_Car Accident Detection.v2i.yolov7pytorch/train/images/CARimage180_jpg.rf.abb38b1b75e95680f685e1a1be909536.jpg  \n",
            "  inflating: __MACOSX/+_1516_640_640_label_Car Accident Detection.v2i.yolov7pytorch/train/images/._CARimage180_jpg.rf.abb38b1b75e95680f685e1a1be909536.jpg  \n",
            "  inflating: +_1516_640_640_label_Car Accident Detection.v2i.yolov7pytorch/train/images/vd55_jpeg_jpg.rf.05c2c0185afd5c16befa3c1c91852478.jpg  \n",
            "  inflating: __MACOSX/+_1516_640_640_label_Car Accident Detection.v2i.yolov7pytorch/train/images/._vd55_jpeg_jpg.rf.05c2c0185afd5c16befa3c1c91852478.jpg  \n",
            "  inflating: +_1516_640_640_label_Car Accident Detection.v2i.yolov7pytorch/train/images/accidentFrame320_jpg.rf.a9679eba463127252f94ab91f97e5d0e.jpg  \n",
            "  inflating: __MACOSX/+_1516_640_640_label_Car Accident Detection.v2i.yolov7pytorch/train/images/._accidentFrame320_jpg.rf.a9679eba463127252f94ab91f97e5d0e.jpg  \n",
            "  inflating: +_1516_640_640_label_Car Accident Detection.v2i.yolov7pytorch/train/labels/frame_0399_jpg.rf.8f010272da25bb9b4e180dfe29672c47.txt  \n",
            "  inflating: __MACOSX/+_1516_640_640_label_Car Accident Detection.v2i.yolov7pytorch/train/labels/._frame_0399_jpg.rf.8f010272da25bb9b4e180dfe29672c47.txt  \n",
            "  inflating: +_1516_640_640_label_Car Accident Detection.v2i.yolov7pytorch/train/labels/Semi-RealisticVD-144_jpg.rf.adb1b118dd5bfb8211580839f6f2a07e.txt  \n",
            "  inflating: __MACOSX/+_1516_640_640_label_Car Accident Detection.v2i.yolov7pytorch/train/labels/._Semi-RealisticVD-144_jpg.rf.adb1b118dd5bfb8211580839f6f2a07e.txt  \n",
            "  inflating: +_1516_640_640_label_Car Accident Detection.v2i.yolov7pytorch/train/labels/vlcsnap-2020-01-17-03h47m27s334_png.rf.555a2cd8ffb781a38a19887bba392eae.txt  \n",
            "  inflating: __MACOSX/+_1516_640_640_label_Car Accident Detection.v2i.yolov7pytorch/train/labels/._vlcsnap-2020-01-17-03h47m27s334_png.rf.555a2cd8ffb781a38a19887bba392eae.txt  \n",
            "  inflating: +_1516_640_640_label_Car Accident Detection.v2i.yolov7pytorch/train/labels/traffic_img1595_jpg.rf.277d8ae447c129eba1df3644b6a72b76.txt  \n",
            "  inflating: __MACOSX/+_1516_640_640_label_Car Accident Detection.v2i.yolov7pytorch/train/labels/._traffic_img1595_jpg.rf.277d8ae447c129eba1df3644b6a72b76.txt  \n",
            "  inflating: +_1516_640_640_label_Car Accident Detection.v2i.yolov7pytorch/train/labels/test17_16_jpg.rf.e2d2cd6b9d988542d408aa548a12fb3b.txt  \n",
            "  inflating: __MACOSX/+_1516_640_640_label_Car Accident Detection.v2i.yolov7pytorch/train/labels/._test17_16_jpg.rf.e2d2cd6b9d988542d408aa548a12fb3b.txt  \n",
            "  inflating: +_1516_640_640_label_Car Accident Detection.v2i.yolov7pytorch/train/labels/2accidentFrame826_jpg.rf.265efd341761dda935073e9355865de7.txt  \n",
            "  inflating: __MACOSX/+_1516_640_640_label_Car Accident Detection.v2i.yolov7pytorch/train/labels/._2accidentFrame826_jpg.rf.265efd341761dda935073e9355865de7.txt  \n",
            "  inflating: +_1516_640_640_label_Car Accident Detection.v2i.yolov7pytorch/train/labels/accidentFrame3008_jpg.rf.ad22453e5c1df7f40aa4b52fcb85b884.txt  \n",
            "  inflating: __MACOSX/+_1516_640_640_label_Car Accident Detection.v2i.yolov7pytorch/train/labels/._accidentFrame3008_jpg.rf.ad22453e5c1df7f40aa4b52fcb85b884.txt  \n",
            "  inflating: +_1516_640_640_label_Car Accident Detection.v2i.yolov7pytorch/train/labels/Severity_Detect_V16_jpg.rf.65f6440bdc6ce6e4667573f7815c632c.txt  \n",
            "  inflating: __MACOSX/+_1516_640_640_label_Car Accident Detection.v2i.yolov7pytorch/train/labels/._Severity_Detect_V16_jpg.rf.65f6440bdc6ce6e4667573f7815c632c.txt  \n",
            "  inflating: +_1516_640_640_label_Car Accident Detection.v2i.yolov7pytorch/train/labels/a15_jpg.rf.316ec066455165e26c68dc980bc2324e.txt  \n",
            "  inflating: __MACOSX/+_1516_640_640_label_Car Accident Detection.v2i.yolov7pytorch/train/labels/._a15_jpg.rf.316ec066455165e26c68dc980bc2324e.txt  \n",
            "  inflating: +_1516_640_640_label_Car Accident Detection.v2i.yolov7pytorch/train/labels/FLIP_CAR_V138_jpg.rf.d058cbda37f4c4d21bbf8e8056acb53f.txt  \n",
            "  inflating: __MACOSX/+_1516_640_640_label_Car Accident Detection.v2i.yolov7pytorch/train/labels/._FLIP_CAR_V138_jpg.rf.d058cbda37f4c4d21bbf8e8056acb53f.txt  \n",
            "  inflating: +_1516_640_640_label_Car Accident Detection.v2i.yolov7pytorch/train/labels/Screenshot-27-_png_jpg.rf.96e865f9a31456f9975b3227fae63762.txt  \n",
            "  inflating: __MACOSX/+_1516_640_640_label_Car Accident Detection.v2i.yolov7pytorch/train/labels/._Screenshot-27-_png_jpg.rf.96e865f9a31456f9975b3227fae63762.txt  \n",
            "  inflating: +_1516_640_640_label_Car Accident Detection.v2i.yolov7pytorch/train/labels/severityV4_22_jpg.rf.b33083b7026699368b3fb0135a4d4c7a.txt  \n",
            "  inflating: __MACOSX/+_1516_640_640_label_Car Accident Detection.v2i.yolov7pytorch/train/labels/._severityV4_22_jpg.rf.b33083b7026699368b3fb0135a4d4c7a.txt  \n",
            "  inflating: +_1516_640_640_label_Car Accident Detection.v2i.yolov7pytorch/train/labels/Screenshot-276-_png_jpg.rf.014094b253173463b372859081a3890e.txt  \n",
            "  inflating: __MACOSX/+_1516_640_640_label_Car Accident Detection.v2i.yolov7pytorch/train/labels/._Screenshot-276-_png_jpg.rf.014094b253173463b372859081a3890e.txt  \n",
            "  inflating: +_1516_640_640_label_Car Accident Detection.v2i.yolov7pytorch/train/labels/images-13_jpg.rf.b285cf3462840f147339c54e173e7676.txt  \n",
            "  inflating: __MACOSX/+_1516_640_640_label_Car Accident Detection.v2i.yolov7pytorch/train/labels/._images-13_jpg.rf.b285cf3462840f147339c54e173e7676.txt  \n",
            "  inflating: +_1516_640_640_label_Car Accident Detection.v2i.yolov7pytorch/train/labels/images-17_jpg.rf.f8bd60c729a9f740e3d95fec1ee83782.txt  \n",
            "  inflating: __MACOSX/+_1516_640_640_label_Car Accident Detection.v2i.yolov7pytorch/train/labels/._images-17_jpg.rf.f8bd60c729a9f740e3d95fec1ee83782.txt  \n",
            "  inflating: +_1516_640_640_label_Car Accident Detection.v2i.yolov7pytorch/train/labels/test17_21_jpg.rf.1caebd5fd953f9815dc5d985927b7250.txt  \n",
            "  inflating: __MACOSX/+_1516_640_640_label_Car Accident Detection.v2i.yolov7pytorch/train/labels/._test17_21_jpg.rf.1caebd5fd953f9815dc5d985927b7250.txt  \n",
            "  inflating: +_1516_640_640_label_Car Accident Detection.v2i.yolov7pytorch/train/labels/test17_15_jpg.rf.f8caf42e0faf6f3db97c9e56217fea84.txt  \n",
            "  inflating: __MACOSX/+_1516_640_640_label_Car Accident Detection.v2i.yolov7pytorch/train/labels/._test17_15_jpg.rf.f8caf42e0faf6f3db97c9e56217fea84.txt  \n",
            "  inflating: +_1516_640_640_label_Car Accident Detection.v2i.yolov7pytorch/train/labels/images-34_jpg.rf.bb423bd371533618caee6f3b30228e88.txt  \n",
            "  inflating: __MACOSX/+_1516_640_640_label_Car Accident Detection.v2i.yolov7pytorch/train/labels/._images-34_jpg.rf.bb423bd371533618caee6f3b30228e88.txt  \n",
            "  inflating: +_1516_640_640_label_Car Accident Detection.v2i.yolov7pytorch/train/labels/accidentFrame4158_jpg.rf.28f82d25ba875a5952c772880a00e7f0.txt  \n",
            "  inflating: __MACOSX/+_1516_640_640_label_Car Accident Detection.v2i.yolov7pytorch/train/labels/._accidentFrame4158_jpg.rf.28f82d25ba875a5952c772880a00e7f0.txt  \n",
            "  inflating: +_1516_640_640_label_Car Accident Detection.v2i.yolov7pytorch/train/labels/1092_jpeg_jpg.rf.ed6e88e49ade080bfa292cf7aeb0e582.txt  \n",
            "  inflating: __MACOSX/+_1516_640_640_label_Car Accident Detection.v2i.yolov7pytorch/train/labels/._1092_jpeg_jpg.rf.ed6e88e49ade080bfa292cf7aeb0e582.txt  \n",
            "  inflating: +_1516_640_640_label_Car Accident Detection.v2i.yolov7pytorch/train/labels/260_jpeg_jpg.rf.de3d573834e0f510b7e912f89fd70804.txt  \n",
            "  inflating: __MACOSX/+_1516_640_640_label_Car Accident Detection.v2i.yolov7pytorch/train/labels/._260_jpeg_jpg.rf.de3d573834e0f510b7e912f89fd70804.txt  \n",
            "  inflating: +_1516_640_640_label_Car Accident Detection.v2i.yolov7pytorch/train/labels/Image78_jpg.rf.7891a36e87759afb5402e89a6526e8b0.txt  \n",
            "  inflating: __MACOSX/+_1516_640_640_label_Car Accident Detection.v2i.yolov7pytorch/train/labels/._Image78_jpg.rf.7891a36e87759afb5402e89a6526e8b0.txt  \n",
            "  inflating: +_1516_640_640_label_Car Accident Detection.v2i.yolov7pytorch/train/labels/vlcsnap-2020-01-16-01h36m12s486_png.rf.b1ddcd8a76a37a8bffe89d5624744af2.txt  \n",
            "  inflating: __MACOSX/+_1516_640_640_label_Car Accident Detection.v2i.yolov7pytorch/train/labels/._vlcsnap-2020-01-16-01h36m12s486_png.rf.b1ddcd8a76a37a8bffe89d5624744af2.txt  \n",
            "  inflating: +_1516_640_640_label_Car Accident Detection.v2i.yolov7pytorch/train/labels/argusAcc68_jpg.rf.c7d14969f5726c3eb95a59ec4379c7e1.txt  \n",
            "  inflating: __MACOSX/+_1516_640_640_label_Car Accident Detection.v2i.yolov7pytorch/train/labels/._argusAcc68_jpg.rf.c7d14969f5726c3eb95a59ec4379c7e1.txt  \n",
            "  inflating: +_1516_640_640_label_Car Accident Detection.v2i.yolov7pytorch/train/labels/Car-Crash-Dashcam-Compilation-2018-Russia-USA-Europe-19185_jpg.rf.ff0234491d64b43a5f0152d6e6af4d5e.txt  \n",
            "  inflating: __MACOSX/+_1516_640_640_label_Car Accident Detection.v2i.yolov7pytorch/train/labels/._Car-Crash-Dashcam-Compilation-2018-Russia-USA-Europe-19185_jpg.rf.ff0234491d64b43a5f0152d6e6af4d5e.txt  \n",
            "  inflating: +_1516_640_640_label_Car Accident Detection.v2i.yolov7pytorch/train/labels/test13_16_jpg.rf.4edc10a55b780b1370837a2becb38894.txt  \n",
            "  inflating: __MACOSX/+_1516_640_640_label_Car Accident Detection.v2i.yolov7pytorch/train/labels/._test13_16_jpg.rf.4edc10a55b780b1370837a2becb38894.txt  \n",
            "  inflating: +_1516_640_640_label_Car Accident Detection.v2i.yolov7pytorch/train/labels/image65_jpg.rf.61ad9d8c146917e953354a8fb027c72a.txt  \n",
            "  inflating: __MACOSX/+_1516_640_640_label_Car Accident Detection.v2i.yolov7pytorch/train/labels/._image65_jpg.rf.61ad9d8c146917e953354a8fb027c72a.txt  \n",
            "  inflating: +_1516_640_640_label_Car Accident Detection.v2i.yolov7pytorch/train/labels/argusAccident63_jpg.rf.b0cea24b4ae2acbfe880ea0a6782e444.txt  \n",
            "  inflating: __MACOSX/+_1516_640_640_label_Car Accident Detection.v2i.yolov7pytorch/train/labels/._argusAccident63_jpg.rf.b0cea24b4ae2acbfe880ea0a6782e444.txt  \n",
            "  inflating: +_1516_640_640_label_Car Accident Detection.v2i.yolov7pytorch/train/labels/image9_jpg.rf.c49a98c918412bb676cf67afeb4fd9f7.txt  \n",
            "  inflating: __MACOSX/+_1516_640_640_label_Car Accident Detection.v2i.yolov7pytorch/train/labels/._image9_jpg.rf.c49a98c918412bb676cf67afeb4fd9f7.txt  \n",
            "  inflating: +_1516_640_640_label_Car Accident Detection.v2i.yolov7pytorch/train/labels/vd44_jpeg_jpg.rf.a7d18946ff77ce1607b9def987c7b8cb.txt  \n",
            "  inflating: __MACOSX/+_1516_640_640_label_Car Accident Detection.v2i.yolov7pytorch/train/labels/._vd44_jpeg_jpg.rf.a7d18946ff77ce1607b9def987c7b8cb.txt  \n",
            "  inflating: +_1516_640_640_label_Car Accident Detection.v2i.yolov7pytorch/train/labels/Semi-RealisticVD-52_jpg.rf.030d662c7cb549ae11c8bf1661163f59.txt  \n",
            "  inflating: __MACOSX/+_1516_640_640_label_Car Accident Detection.v2i.yolov7pytorch/train/labels/._Semi-RealisticVD-52_jpg.rf.030d662c7cb549ae11c8bf1661163f59.txt  \n",
            "  inflating: +_1516_640_640_label_Car Accident Detection.v2i.yolov7pytorch/train/labels/accidentFrame3651_jpg.rf.ba6db7e76986c41c118639d045f980dc.txt  \n",
            "  inflating: __MACOSX/+_1516_640_640_label_Car Accident Detection.v2i.yolov7pytorch/train/labels/._accidentFrame3651_jpg.rf.ba6db7e76986c41c118639d045f980dc.txt  \n",
            "  inflating: +_1516_640_640_label_Car Accident Detection.v2i.yolov7pytorch/train/labels/Accident-602-_jpg.rf.356f3f0824bb5170a7b944dc3b439d37.txt  \n",
            "  inflating: __MACOSX/+_1516_640_640_label_Car Accident Detection.v2i.yolov7pytorch/train/labels/._Accident-602-_jpg.rf.356f3f0824bb5170a7b944dc3b439d37.txt  \n",
            "  inflating: +_1516_640_640_label_Car Accident Detection.v2i.yolov7pytorch/train/labels/IMG_2347_PNG_jpg.rf.95ea505c57016662448f2b3a79c4c3f2.txt  \n",
            "  inflating: __MACOSX/+_1516_640_640_label_Car Accident Detection.v2i.yolov7pytorch/train/labels/._IMG_2347_PNG_jpg.rf.95ea505c57016662448f2b3a79c4c3f2.txt  \n",
            "  inflating: +_1516_640_640_label_Car Accident Detection.v2i.yolov7pytorch/train/labels/Severity_Detect_V11_jpg.rf.4e1ad7c127bf9a6f347dd3df054fe7c0.txt  \n",
            "  inflating: __MACOSX/+_1516_640_640_label_Car Accident Detection.v2i.yolov7pytorch/train/labels/._Severity_Detect_V11_jpg.rf.4e1ad7c127bf9a6f347dd3df054fe7c0.txt  \n",
            "  inflating: +_1516_640_640_label_Car Accident Detection.v2i.yolov7pytorch/train/labels/severityV4_99_jpg.rf.f4c609bedeccee53826a44f5daf9ea42.txt  \n",
            "  inflating: __MACOSX/+_1516_640_640_label_Car Accident Detection.v2i.yolov7pytorch/train/labels/._severityV4_99_jpg.rf.f4c609bedeccee53826a44f5daf9ea42.txt  \n",
            "  inflating: +_1516_640_640_label_Car Accident Detection.v2i.yolov7pytorch/train/labels/images-41_jpg.rf.73329c46d890b331e9bfe68c09e9594b.txt  \n",
            "  inflating: __MACOSX/+_1516_640_640_label_Car Accident Detection.v2i.yolov7pytorch/train/labels/._images-41_jpg.rf.73329c46d890b331e9bfe68c09e9594b.txt  \n",
            "  inflating: +_1516_640_640_label_Car Accident Detection.v2i.yolov7pytorch/train/labels/images-27_jpg.rf.8101ffb839552a2ffc65a105b32f95e7.txt  \n",
            "  inflating: __MACOSX/+_1516_640_640_label_Car Accident Detection.v2i.yolov7pytorch/train/labels/._images-27_jpg.rf.8101ffb839552a2ffc65a105b32f95e7.txt  \n",
            "  inflating: +_1516_640_640_label_Car Accident Detection.v2i.yolov7pytorch/train/labels/severity_V140_jpg.rf.e083820591aadc6cc8e8f7b63b929b8d.txt  \n",
            "  inflating: __MACOSX/+_1516_640_640_label_Car Accident Detection.v2i.yolov7pytorch/train/labels/._severity_V140_jpg.rf.e083820591aadc6cc8e8f7b63b929b8d.txt  \n",
            "  inflating: +_1516_640_640_label_Car Accident Detection.v2i.yolov7pytorch/train/labels/images-2_jpg.rf.03df1da14f6452089273aedaef9f758a.txt  \n",
            "  inflating: __MACOSX/+_1516_640_640_label_Car Accident Detection.v2i.yolov7pytorch/train/labels/._images-2_jpg.rf.03df1da14f6452089273aedaef9f758a.txt  \n",
            "  inflating: +_1516_640_640_label_Car Accident Detection.v2i.yolov7pytorch/train/labels/argusAcc59_jpg.rf.b5e2e7178374090be581d03edc6dd814.txt  \n",
            "  inflating: __MACOSX/+_1516_640_640_label_Car Accident Detection.v2i.yolov7pytorch/train/labels/._argusAcc59_jpg.rf.b5e2e7178374090be581d03edc6dd814.txt  \n",
            "  inflating: +_1516_640_640_label_Car Accident Detection.v2i.yolov7pytorch/train/labels/accidentFrame515_jpg.rf.e88d9fab360a8b8f931fc409b642c74c.txt  \n",
            "  inflating: __MACOSX/+_1516_640_640_label_Car Accident Detection.v2i.yolov7pytorch/train/labels/._accidentFrame515_jpg.rf.e88d9fab360a8b8f931fc409b642c74c.txt  \n",
            "  inflating: +_1516_640_640_label_Car Accident Detection.v2i.yolov7pytorch/train/labels/severityV4_95_jpg.rf.936d3928a169ce626d4ff1a034d35aaf.txt  \n",
            "  inflating: __MACOSX/+_1516_640_640_label_Car Accident Detection.v2i.yolov7pytorch/train/labels/._severityV4_95_jpg.rf.936d3928a169ce626d4ff1a034d35aaf.txt  \n",
            "  inflating: +_1516_640_640_label_Car Accident Detection.v2i.yolov7pytorch/train/labels/severityV4_80_jpg.rf.b8e4233e7a90e4f09f77b8210b483a3a.txt  \n",
            "  inflating: __MACOSX/+_1516_640_640_label_Car Accident Detection.v2i.yolov7pytorch/train/labels/._severityV4_80_jpg.rf.b8e4233e7a90e4f09f77b8210b483a3a.txt  \n",
            "  inflating: +_1516_640_640_label_Car Accident Detection.v2i.yolov7pytorch/train/labels/test5_10_jpg.rf.af561a3380dc5d5ee89e763a4e0c3222.txt  \n",
            "  inflating: __MACOSX/+_1516_640_640_label_Car Accident Detection.v2i.yolov7pytorch/train/labels/._test5_10_jpg.rf.af561a3380dc5d5ee89e763a4e0c3222.txt  \n",
            "  inflating: +_1516_640_640_label_Car Accident Detection.v2i.yolov7pytorch/train/labels/acc781_jpg.rf.ee6adeb705b78aad519abfd88c8b83a5.txt  \n",
            "  inflating: __MACOSX/+_1516_640_640_label_Car Accident Detection.v2i.yolov7pytorch/train/labels/._acc781_jpg.rf.ee6adeb705b78aad519abfd88c8b83a5.txt  \n",
            "  inflating: +_1516_640_640_label_Car Accident Detection.v2i.yolov7pytorch/train/labels/argusAcc60_jpg.rf.c587c66c75fc9564617f090557479e24.txt  \n",
            "  inflating: __MACOSX/+_1516_640_640_label_Car Accident Detection.v2i.yolov7pytorch/train/labels/._argusAcc60_jpg.rf.c587c66c75fc9564617f090557479e24.txt  \n",
            "  inflating: +_1516_640_640_label_Car Accident Detection.v2i.yolov7pytorch/train/labels/images-4_jpg.rf.3bd0f82406bcb639f59a4cf331912c47.txt  \n",
            "  inflating: __MACOSX/+_1516_640_640_label_Car Accident Detection.v2i.yolov7pytorch/train/labels/._images-4_jpg.rf.3bd0f82406bcb639f59a4cf331912c47.txt  \n",
            "  inflating: +_1516_640_640_label_Car Accident Detection.v2i.yolov7pytorch/train/labels/severity_V138_jpg.rf.507a869d1d54382a0a6d33602ac39839.txt  \n",
            "  inflating: __MACOSX/+_1516_640_640_label_Car Accident Detection.v2i.yolov7pytorch/train/labels/._severity_V138_jpg.rf.507a869d1d54382a0a6d33602ac39839.txt  \n",
            "  inflating: +_1516_640_640_label_Car Accident Detection.v2i.yolov7pytorch/train/labels/accidentFrame457_jpg.rf.7d2d50f6062b58c2408720d176b06803.txt  \n",
            "  inflating: __MACOSX/+_1516_640_640_label_Car Accident Detection.v2i.yolov7pytorch/train/labels/._accidentFrame457_jpg.rf.7d2d50f6062b58c2408720d176b06803.txt  \n",
            "  inflating: +_1516_640_640_label_Car Accident Detection.v2i.yolov7pytorch/train/labels/images-20_jpg.rf.690f4f8bdb06e3b888f4892d6eee481b.txt  \n",
            "  inflating: __MACOSX/+_1516_640_640_label_Car Accident Detection.v2i.yolov7pytorch/train/labels/._images-20_jpg.rf.690f4f8bdb06e3b888f4892d6eee481b.txt  \n",
            "  inflating: +_1516_640_640_label_Car Accident Detection.v2i.yolov7pytorch/train/labels/argusAcc64_jpg.rf.a04a6361ac36450b99d2f4266dec6056.txt  \n",
            "  inflating: __MACOSX/+_1516_640_640_label_Car Accident Detection.v2i.yolov7pytorch/train/labels/._argusAcc64_jpg.rf.a04a6361ac36450b99d2f4266dec6056.txt  \n",
            "  inflating: +_1516_640_640_label_Car Accident Detection.v2i.yolov7pytorch/train/labels/accidentFrame110_jpg.rf.051a59f37fd458db516f1509f857ba04.txt  \n",
            "  inflating: __MACOSX/+_1516_640_640_label_Car Accident Detection.v2i.yolov7pytorch/train/labels/._accidentFrame110_jpg.rf.051a59f37fd458db516f1509f857ba04.txt  \n",
            "  inflating: +_1516_640_640_label_Car Accident Detection.v2i.yolov7pytorch/train/labels/accidentFrame501_jpg.rf.93a0194dd22001756b6ca304164e9446.txt  \n",
            "  inflating: __MACOSX/+_1516_640_640_label_Car Accident Detection.v2i.yolov7pytorch/train/labels/._accidentFrame501_jpg.rf.93a0194dd22001756b6ca304164e9446.txt  \n",
            "  inflating: +_1516_640_640_label_Car Accident Detection.v2i.yolov7pytorch/train/labels/Semi-RealisticVD-181_jpg.rf.c17dc88853f25679fe38fb77efd53994.txt  \n",
            "  inflating: __MACOSX/+_1516_640_640_label_Car Accident Detection.v2i.yolov7pytorch/train/labels/._Semi-RealisticVD-181_jpg.rf.c17dc88853f25679fe38fb77efd53994.txt  \n",
            "  inflating: +_1516_640_640_label_Car Accident Detection.v2i.yolov7pytorch/train/labels/severityV4_98_jpg.rf.bf5280c0d0e3bd4ec9307884078d0d8c.txt  \n",
            "  inflating: __MACOSX/+_1516_640_640_label_Car Accident Detection.v2i.yolov7pytorch/train/labels/._severityV4_98_jpg.rf.bf5280c0d0e3bd4ec9307884078d0d8c.txt  \n",
            "  inflating: +_1516_640_640_label_Car Accident Detection.v2i.yolov7pytorch/train/labels/vlcsnap-2020-01-16-01h19m43s950-2-_png.rf.f7b356f0e5f838e23771c0034beeabd8.txt  \n",
            "  inflating: __MACOSX/+_1516_640_640_label_Car Accident Detection.v2i.yolov7pytorch/train/labels/._vlcsnap-2020-01-16-01h19m43s950-2-_png.rf.f7b356f0e5f838e23771c0034beeabd8.txt  \n",
            "  inflating: +_1516_640_640_label_Car Accident Detection.v2i.yolov7pytorch/train/labels/frame_1315_jpg.rf.28b21a9e2d802b3f82376239d4ff7d9d.txt  \n",
            "  inflating: __MACOSX/+_1516_640_640_label_Car Accident Detection.v2i.yolov7pytorch/train/labels/._frame_1315_jpg.rf.28b21a9e2d802b3f82376239d4ff7d9d.txt  \n",
            "  inflating: +_1516_640_640_label_Car Accident Detection.v2i.yolov7pytorch/train/labels/accidentFrame2743_jpg.rf.de68d29eecc45460c1efe92575ad3487.txt  \n",
            "  inflating: __MACOSX/+_1516_640_640_label_Car Accident Detection.v2i.yolov7pytorch/train/labels/._accidentFrame2743_jpg.rf.de68d29eecc45460c1efe92575ad3487.txt  \n",
            "  inflating: +_1516_640_640_label_Car Accident Detection.v2i.yolov7pytorch/train/labels/severityV4_85_jpg.rf.eb723fedad43a48a71a4e4854a793902.txt  \n",
            "  inflating: __MACOSX/+_1516_640_640_label_Car Accident Detection.v2i.yolov7pytorch/train/labels/._severityV4_85_jpg.rf.eb723fedad43a48a71a4e4854a793902.txt  \n",
            "  inflating: +_1516_640_640_label_Car Accident Detection.v2i.yolov7pytorch/train/labels/argusAcc110_jpg.rf.fed2f210bcc9cdf13fe2e8a9863c5600.txt  \n",
            "  inflating: __MACOSX/+_1516_640_640_label_Car Accident Detection.v2i.yolov7pytorch/train/labels/._argusAcc110_jpg.rf.fed2f210bcc9cdf13fe2e8a9863c5600.txt  \n",
            "  inflating: +_1516_640_640_label_Car Accident Detection.v2i.yolov7pytorch/train/labels/test25_30_jpg.rf.6a0c21490f91e3631fff2aa3e752b399.txt  \n",
            "  inflating: __MACOSX/+_1516_640_640_label_Car Accident Detection.v2i.yolov7pytorch/train/labels/._test25_30_jpg.rf.6a0c21490f91e3631fff2aa3e752b399.txt  \n",
            "  inflating: +_1516_640_640_label_Car Accident Detection.v2i.yolov7pytorch/train/labels/1-136_jpg.rf.885b3fdccbbbe232b3d50fa0c6311d67.txt  \n",
            "  inflating: __MACOSX/+_1516_640_640_label_Car Accident Detection.v2i.yolov7pytorch/train/labels/._1-136_jpg.rf.885b3fdccbbbe232b3d50fa0c6311d67.txt  \n",
            "  inflating: +_1516_640_640_label_Car Accident Detection.v2i.yolov7pytorch/train/labels/168_jpeg_jpg.rf.75c29fd6723998ee782e77bb6f1e7e5d.txt  \n",
            "  inflating: __MACOSX/+_1516_640_640_label_Car Accident Detection.v2i.yolov7pytorch/train/labels/._168_jpeg_jpg.rf.75c29fd6723998ee782e77bb6f1e7e5d.txt  \n",
            "  inflating: +_1516_640_640_label_Car Accident Detection.v2i.yolov7pytorch/train/labels/Screenshot-447-_png_jpg.rf.2d7a41ff81e723634498e7a993be0fdf.txt  \n",
            "  inflating: __MACOSX/+_1516_640_640_label_Car Accident Detection.v2i.yolov7pytorch/train/labels/._Screenshot-447-_png_jpg.rf.2d7a41ff81e723634498e7a993be0fdf.txt  \n",
            "  inflating: +_1516_640_640_label_Car Accident Detection.v2i.yolov7pytorch/train/labels/severityV2_31_jpg.rf.638d939a4ca6544fe67f0cc03f7f2ce4.txt  \n",
            "  inflating: __MACOSX/+_1516_640_640_label_Car Accident Detection.v2i.yolov7pytorch/train/labels/._severityV2_31_jpg.rf.638d939a4ca6544fe67f0cc03f7f2ce4.txt  \n",
            "  inflating: +_1516_640_640_label_Car Accident Detection.v2i.yolov7pytorch/train/labels/images-9_jpg.rf.9d9902e6615e203a1bea48cbd773cc95.txt  \n",
            "  inflating: __MACOSX/+_1516_640_640_label_Car Accident Detection.v2i.yolov7pytorch/train/labels/._images-9_jpg.rf.9d9902e6615e203a1bea48cbd773cc95.txt  \n",
            "  inflating: +_1516_640_640_label_Car Accident Detection.v2i.yolov7pytorch/train/labels/test11_37_jpg.rf.503c2a4f1fbd8fd3ed9230fc7fa89746.txt  \n",
            "  inflating: __MACOSX/+_1516_640_640_label_Car Accident Detection.v2i.yolov7pytorch/train/labels/._test11_37_jpg.rf.503c2a4f1fbd8fd3ed9230fc7fa89746.txt  \n",
            "  inflating: +_1516_640_640_label_Car Accident Detection.v2i.yolov7pytorch/train/labels/4061_jpeg_jpg.rf.949a0826dc8f0d956d6619d103372e05.txt  \n",
            "  inflating: __MACOSX/+_1516_640_640_label_Car Accident Detection.v2i.yolov7pytorch/train/labels/._4061_jpeg_jpg.rf.949a0826dc8f0d956d6619d103372e05.txt  \n",
            "  inflating: +_1516_640_640_label_Car Accident Detection.v2i.yolov7pytorch/train/labels/Screenshot-378-_png_jpg.rf.00be536120c03ace6b5160766a4c73d8.txt  \n",
            "  inflating: __MACOSX/+_1516_640_640_label_Car Accident Detection.v2i.yolov7pytorch/train/labels/._Screenshot-378-_png_jpg.rf.00be536120c03ace6b5160766a4c73d8.txt  \n",
            "  inflating: +_1516_640_640_label_Car Accident Detection.v2i.yolov7pytorch/train/labels/CARimage29_jpg.rf.2631502fe28084b96ed498aa38db2f80.txt  \n",
            "  inflating: __MACOSX/+_1516_640_640_label_Car Accident Detection.v2i.yolov7pytorch/train/labels/._CARimage29_jpg.rf.2631502fe28084b96ed498aa38db2f80.txt  \n",
            "  inflating: +_1516_640_640_label_Car Accident Detection.v2i.yolov7pytorch/train/labels/acc774_jpg.rf.724ea81404c594b980af21f61a045f23.txt  \n",
            "  inflating: __MACOSX/+_1516_640_640_label_Car Accident Detection.v2i.yolov7pytorch/train/labels/._acc774_jpg.rf.724ea81404c594b980af21f61a045f23.txt  \n",
            "  inflating: +_1516_640_640_label_Car Accident Detection.v2i.yolov7pytorch/train/labels/accidentFrame259_jpg.rf.de2167041026e81606c7e4a6f5e2d546.txt  \n",
            "  inflating: __MACOSX/+_1516_640_640_label_Car Accident Detection.v2i.yolov7pytorch/train/labels/._accidentFrame259_jpg.rf.de2167041026e81606c7e4a6f5e2d546.txt  \n",
            "  inflating: +_1516_640_640_label_Car Accident Detection.v2i.yolov7pytorch/train/labels/tt2_png_jpg.rf.fa56ae10d23b8a5559b5825691e2b655.txt  \n",
            "  inflating: __MACOSX/+_1516_640_640_label_Car Accident Detection.v2i.yolov7pytorch/train/labels/._tt2_png_jpg.rf.fa56ae10d23b8a5559b5825691e2b655.txt  \n",
            "  inflating: +_1516_640_640_label_Car Accident Detection.v2i.yolov7pytorch/train/labels/FLIP_CAR_V161_jpg.rf.51ba2a611d5f40973ea8a5c40a77fed8.txt  \n",
            "  inflating: __MACOSX/+_1516_640_640_label_Car Accident Detection.v2i.yolov7pytorch/train/labels/._FLIP_CAR_V161_jpg.rf.51ba2a611d5f40973ea8a5c40a77fed8.txt  \n",
            "  inflating: +_1516_640_640_label_Car Accident Detection.v2i.yolov7pytorch/train/labels/acc774_jpg.rf.3f945263df2a6073a72943a0eb1202b5.txt  \n",
            "  inflating: __MACOSX/+_1516_640_640_label_Car Accident Detection.v2i.yolov7pytorch/train/labels/._acc774_jpg.rf.3f945263df2a6073a72943a0eb1202b5.txt  \n",
            "  inflating: +_1516_640_640_label_Car Accident Detection.v2i.yolov7pytorch/train/labels/severityV4_78_jpg.rf.cbfe623a7960ad6bb92137399c7ec304.txt  \n",
            "  inflating: __MACOSX/+_1516_640_640_label_Car Accident Detection.v2i.yolov7pytorch/train/labels/._severityV4_78_jpg.rf.cbfe623a7960ad6bb92137399c7ec304.txt  \n",
            "  inflating: +_1516_640_640_label_Car Accident Detection.v2i.yolov7pytorch/train/labels/accidentFrame2373_jpg.rf.ffb585de3d86cdca74e86dc72a502c65.txt  \n",
            "  inflating: __MACOSX/+_1516_640_640_label_Car Accident Detection.v2i.yolov7pytorch/train/labels/._accidentFrame2373_jpg.rf.ffb585de3d86cdca74e86dc72a502c65.txt  \n",
            "  inflating: +_1516_640_640_label_Car Accident Detection.v2i.yolov7pytorch/train/labels/Screenshot-430-_png_jpg.rf.4522614884b65419fafd36b430e01cbb.txt  \n",
            "  inflating: __MACOSX/+_1516_640_640_label_Car Accident Detection.v2i.yolov7pytorch/train/labels/._Screenshot-430-_png_jpg.rf.4522614884b65419fafd36b430e01cbb.txt  \n",
            "  inflating: +_1516_640_640_label_Car Accident Detection.v2i.yolov7pytorch/train/labels/vlcsnap-2020-01-16-00h58m22s248_png.rf.661249d1dec52729ccec20b75bf09cf7.txt  \n",
            "  inflating: __MACOSX/+_1516_640_640_label_Car Accident Detection.v2i.yolov7pytorch/train/labels/._vlcsnap-2020-01-16-00h58m22s248_png.rf.661249d1dec52729ccec20b75bf09cf7.txt  \n",
            "  inflating: +_1516_640_640_label_Car Accident Detection.v2i.yolov7pytorch/train/labels/905_jpeg_jpg.rf.e422b89734cef981e95d166d15d4c821.txt  \n",
            "  inflating: __MACOSX/+_1516_640_640_label_Car Accident Detection.v2i.yolov7pytorch/train/labels/._905_jpeg_jpg.rf.e422b89734cef981e95d166d15d4c821.txt  \n",
            "  inflating: +_1516_640_640_label_Car Accident Detection.v2i.yolov7pytorch/train/labels/AD1_jpeg_jpg.rf.37ad24464065d43fc09d35bf55f6621a.txt  \n",
            "  inflating: __MACOSX/+_1516_640_640_label_Car Accident Detection.v2i.yolov7pytorch/train/labels/._AD1_jpeg_jpg.rf.37ad24464065d43fc09d35bf55f6621a.txt  \n",
            "  inflating: +_1516_640_640_label_Car Accident Detection.v2i.yolov7pytorch/train/labels/photo32_jpg.rf.b22e0ab4fcccb007d944df288522ecb5.txt  \n",
            "  inflating: __MACOSX/+_1516_640_640_label_Car Accident Detection.v2i.yolov7pytorch/train/labels/._photo32_jpg.rf.b22e0ab4fcccb007d944df288522ecb5.txt  \n",
            "  inflating: +_1516_640_640_label_Car Accident Detection.v2i.yolov7pytorch/train/labels/FLIP_CAR_V168_jpg.rf.9a0b2c9017f5fb78f2707a5ba9d017c2.txt  \n",
            "  inflating: __MACOSX/+_1516_640_640_label_Car Accident Detection.v2i.yolov7pytorch/train/labels/._FLIP_CAR_V168_jpg.rf.9a0b2c9017f5fb78f2707a5ba9d017c2.txt  \n",
            "  inflating: +_1516_640_640_label_Car Accident Detection.v2i.yolov7pytorch/train/labels/traffic_img1815_jpg.rf.4cd2b7ec913fc2cca3a99ceb05b874af.txt  \n",
            "  inflating: __MACOSX/+_1516_640_640_label_Car Accident Detection.v2i.yolov7pytorch/train/labels/._traffic_img1815_jpg.rf.4cd2b7ec913fc2cca3a99ceb05b874af.txt  \n",
            "  inflating: +_1516_640_640_label_Car Accident Detection.v2i.yolov7pytorch/train/labels/vlcsnap-2020-01-16-00h59m16s397_png.rf.644214f661bdb5d0ccff2111440532a9.txt  \n",
            "  inflating: __MACOSX/+_1516_640_640_label_Car Accident Detection.v2i.yolov7pytorch/train/labels/._vlcsnap-2020-01-16-00h59m16s397_png.rf.644214f661bdb5d0ccff2111440532a9.txt  \n",
            "  inflating: +_1516_640_640_label_Car Accident Detection.v2i.yolov7pytorch/train/labels/frame_3158_jpg.rf.8bcad97e7c0c4b1c1d2cb5457cd898fd.txt  \n",
            "  inflating: __MACOSX/+_1516_640_640_label_Car Accident Detection.v2i.yolov7pytorch/train/labels/._frame_3158_jpg.rf.8bcad97e7c0c4b1c1d2cb5457cd898fd.txt  \n",
            "  inflating: +_1516_640_640_label_Car Accident Detection.v2i.yolov7pytorch/train/labels/Semi-RealisticVD-114_jpg.rf.14e5eeffbc319a9fd6d09758f3b00c4f.txt  \n",
            "  inflating: __MACOSX/+_1516_640_640_label_Car Accident Detection.v2i.yolov7pytorch/train/labels/._Semi-RealisticVD-114_jpg.rf.14e5eeffbc319a9fd6d09758f3b00c4f.txt  \n",
            "  inflating: +_1516_640_640_label_Car Accident Detection.v2i.yolov7pytorch/train/labels/Screenshot-378-_png_jpg.rf.b3deb84ebc9af7a727cfdbb2b4ad581c.txt  \n",
            "  inflating: __MACOSX/+_1516_640_640_label_Car Accident Detection.v2i.yolov7pytorch/train/labels/._Screenshot-378-_png_jpg.rf.b3deb84ebc9af7a727cfdbb2b4ad581c.txt  \n",
            "  inflating: +_1516_640_640_label_Car Accident Detection.v2i.yolov7pytorch/train/labels/FLIP_CAR_V153_jpg.rf.e53817c52a5f7c78092393793e49e529.txt  \n",
            "  inflating: __MACOSX/+_1516_640_640_label_Car Accident Detection.v2i.yolov7pytorch/train/labels/._FLIP_CAR_V153_jpg.rf.e53817c52a5f7c78092393793e49e529.txt  \n",
            "  inflating: +_1516_640_640_label_Car Accident Detection.v2i.yolov7pytorch/train/labels/Screenshot-427-_png_jpg.rf.1c4b8a703fa2f3cbd7bee2d209190f8b.txt  \n",
            "  inflating: __MACOSX/+_1516_640_640_label_Car Accident Detection.v2i.yolov7pytorch/train/labels/._Screenshot-427-_png_jpg.rf.1c4b8a703fa2f3cbd7bee2d209190f8b.txt  \n",
            "  inflating: +_1516_640_640_label_Car Accident Detection.v2i.yolov7pytorch/train/labels/V11_jpeg_jpg.rf.fdb8d386a5d53dceee6eee43f6f6d998.txt  \n",
            "  inflating: __MACOSX/+_1516_640_640_label_Car Accident Detection.v2i.yolov7pytorch/train/labels/._V11_jpeg_jpg.rf.fdb8d386a5d53dceee6eee43f6f6d998.txt  \n",
            "  inflating: +_1516_640_640_label_Car Accident Detection.v2i.yolov7pytorch/train/labels/severity_V135_jpg.rf.c0b4e2d225bf7b6fc80195b24b4b18e1.txt  \n",
            "  inflating: __MACOSX/+_1516_640_640_label_Car Accident Detection.v2i.yolov7pytorch/train/labels/._severity_V135_jpg.rf.c0b4e2d225bf7b6fc80195b24b4b18e1.txt  \n",
            "  inflating: +_1516_640_640_label_Car Accident Detection.v2i.yolov7pytorch/train/labels/accidentFrame36_jpg.rf.2f7877b8e014084f96747a4de2c6c984.txt  \n",
            "  inflating: __MACOSX/+_1516_640_640_label_Car Accident Detection.v2i.yolov7pytorch/train/labels/._accidentFrame36_jpg.rf.2f7877b8e014084f96747a4de2c6c984.txt  \n",
            "  inflating: +_1516_640_640_label_Car Accident Detection.v2i.yolov7pytorch/train/labels/IMG_2373_PNG_jpg.rf.486a87c8fd1bb93ad64f80cf9879bbe9.txt  \n",
            "  inflating: __MACOSX/+_1516_640_640_label_Car Accident Detection.v2i.yolov7pytorch/train/labels/._IMG_2373_PNG_jpg.rf.486a87c8fd1bb93ad64f80cf9879bbe9.txt  \n",
            "  inflating: +_1516_640_640_label_Car Accident Detection.v2i.yolov7pytorch/train/labels/a68_jpg.rf.e634c1238f7dafe55081b23a347612db.txt  \n",
            "  inflating: __MACOSX/+_1516_640_640_label_Car Accident Detection.v2i.yolov7pytorch/train/labels/._a68_jpg.rf.e634c1238f7dafe55081b23a347612db.txt  \n",
            "  inflating: +_1516_640_640_label_Car Accident Detection.v2i.yolov7pytorch/train/labels/buy4_jpg.rf.d40ffc59f30365a629c6b978f32e5411.txt  \n",
            "  inflating: __MACOSX/+_1516_640_640_label_Car Accident Detection.v2i.yolov7pytorch/train/labels/._buy4_jpg.rf.d40ffc59f30365a629c6b978f32e5411.txt  \n",
            "  inflating: +_1516_640_640_label_Car Accident Detection.v2i.yolov7pytorch/train/labels/accidentFrame2761_jpg.rf.3a5cc718688df984d3d3cbbdc94ef7a9.txt  \n",
            "  inflating: __MACOSX/+_1516_640_640_label_Car Accident Detection.v2i.yolov7pytorch/train/labels/._accidentFrame2761_jpg.rf.3a5cc718688df984d3d3cbbdc94ef7a9.txt  \n",
            "  inflating: +_1516_640_640_label_Car Accident Detection.v2i.yolov7pytorch/train/labels/1075_jpeg_jpg.rf.dcf5c6ce0f3a04663df5f22be5c2164b.txt  \n",
            "  inflating: __MACOSX/+_1516_640_640_label_Car Accident Detection.v2i.yolov7pytorch/train/labels/._1075_jpeg_jpg.rf.dcf5c6ce0f3a04663df5f22be5c2164b.txt  \n",
            "  inflating: +_1516_640_640_label_Car Accident Detection.v2i.yolov7pytorch/train/labels/severityV4_90_jpg.rf.927f21e9afbc79f1cb81e87aed359c54.txt  \n",
            "  inflating: __MACOSX/+_1516_640_640_label_Car Accident Detection.v2i.yolov7pytorch/train/labels/._severityV4_90_jpg.rf.927f21e9afbc79f1cb81e87aed359c54.txt  \n",
            "  inflating: +_1516_640_640_label_Car Accident Detection.v2i.yolov7pytorch/train/labels/14-174_jpg.rf.a60bdd555691296cbd8d06741e992bd0.txt  \n",
            "  inflating: __MACOSX/+_1516_640_640_label_Car Accident Detection.v2i.yolov7pytorch/train/labels/._14-174_jpg.rf.a60bdd555691296cbd8d06741e992bd0.txt  \n",
            "  inflating: +_1516_640_640_label_Car Accident Detection.v2i.yolov7pytorch/train/labels/Screenshot-419-_png_jpg.rf.55271b5268c60514cec52cb9e89bb8dc.txt  \n",
            "  inflating: __MACOSX/+_1516_640_640_label_Car Accident Detection.v2i.yolov7pytorch/train/labels/._Screenshot-419-_png_jpg.rf.55271b5268c60514cec52cb9e89bb8dc.txt  \n",
            "  inflating: +_1516_640_640_label_Car Accident Detection.v2i.yolov7pytorch/train/labels/Semi-RealisticVD-55_jpg.rf.d53797e85ae6d53b539ea31ac8c0b1ca.txt  \n",
            "  inflating: __MACOSX/+_1516_640_640_label_Car Accident Detection.v2i.yolov7pytorch/train/labels/._Semi-RealisticVD-55_jpg.rf.d53797e85ae6d53b539ea31ac8c0b1ca.txt  \n",
            "  inflating: +_1516_640_640_label_Car Accident Detection.v2i.yolov7pytorch/train/labels/argusAcc595_jpg.rf.2527b3be0752930db5d78925d6e7ed32.txt  \n",
            "  inflating: __MACOSX/+_1516_640_640_label_Car Accident Detection.v2i.yolov7pytorch/train/labels/._argusAcc595_jpg.rf.2527b3be0752930db5d78925d6e7ed32.txt  \n",
            "  inflating: +_1516_640_640_label_Car Accident Detection.v2i.yolov7pytorch/train/labels/traffic_img2662_jpg.rf.c57cfd9daf00dfb23e562c8c45674f60.txt  \n",
            "  inflating: __MACOSX/+_1516_640_640_label_Car Accident Detection.v2i.yolov7pytorch/train/labels/._traffic_img2662_jpg.rf.c57cfd9daf00dfb23e562c8c45674f60.txt  \n",
            "  inflating: +_1516_640_640_label_Car Accident Detection.v2i.yolov7pytorch/train/labels/FLIP_CAR_V135_jpg.rf.ebc4c47373abf0c7e5a0abe27c3dbaf2.txt  \n",
            "  inflating: __MACOSX/+_1516_640_640_label_Car Accident Detection.v2i.yolov7pytorch/train/labels/._FLIP_CAR_V135_jpg.rf.ebc4c47373abf0c7e5a0abe27c3dbaf2.txt  \n",
            "  inflating: +_1516_640_640_label_Car Accident Detection.v2i.yolov7pytorch/train/labels/test13_11_jpg.rf.b67a79f26df66f30710f844a739e94b8.txt  \n",
            "  inflating: __MACOSX/+_1516_640_640_label_Car Accident Detection.v2i.yolov7pytorch/train/labels/._test13_11_jpg.rf.b67a79f26df66f30710f844a739e94b8.txt  \n",
            "  inflating: +_1516_640_640_label_Car Accident Detection.v2i.yolov7pytorch/train/labels/Image89_jpg.rf.2744f3bca95482b10e2d2a42f0dfc538.txt  \n",
            "  inflating: __MACOSX/+_1516_640_640_label_Car Accident Detection.v2i.yolov7pytorch/train/labels/._Image89_jpg.rf.2744f3bca95482b10e2d2a42f0dfc538.txt  \n",
            "  inflating: +_1516_640_640_label_Car Accident Detection.v2i.yolov7pytorch/train/labels/accidentFrame2741_jpg.rf.04e5cffee3a2aba8626ce1bff04efd63.txt  \n",
            "  inflating: __MACOSX/+_1516_640_640_label_Car Accident Detection.v2i.yolov7pytorch/train/labels/._accidentFrame2741_jpg.rf.04e5cffee3a2aba8626ce1bff04efd63.txt  \n",
            "  inflating: +_1516_640_640_label_Car Accident Detection.v2i.yolov7pytorch/train/labels/severityV3_27_jpeg_jpg.rf.c55f9854cc76d0df08a6dcb676a5a440.txt  \n",
            "  inflating: __MACOSX/+_1516_640_640_label_Car Accident Detection.v2i.yolov7pytorch/train/labels/._severityV3_27_jpeg_jpg.rf.c55f9854cc76d0df08a6dcb676a5a440.txt  \n",
            "  inflating: +_1516_640_640_label_Car Accident Detection.v2i.yolov7pytorch/train/labels/download-5_jpg.rf.d6872a678318ecb9864bd16b9b2f4caa.txt  \n",
            "  inflating: __MACOSX/+_1516_640_640_label_Car Accident Detection.v2i.yolov7pytorch/train/labels/._download-5_jpg.rf.d6872a678318ecb9864bd16b9b2f4caa.txt  \n",
            "  inflating: +_1516_640_640_label_Car Accident Detection.v2i.yolov7pytorch/train/labels/screen_images5_png_jpg.rf.ef998af91da914e966e7cb31bae01197.txt  \n",
            "  inflating: __MACOSX/+_1516_640_640_label_Car Accident Detection.v2i.yolov7pytorch/train/labels/._screen_images5_png_jpg.rf.ef998af91da914e966e7cb31bae01197.txt  \n",
            "  inflating: +_1516_640_640_label_Car Accident Detection.v2i.yolov7pytorch/train/labels/CARimage2118_jpg.rf.b4fce81e2cca55ebc9f59d57da6a0184.txt  \n",
            "  inflating: __MACOSX/+_1516_640_640_label_Car Accident Detection.v2i.yolov7pytorch/train/labels/._CARimage2118_jpg.rf.b4fce81e2cca55ebc9f59d57da6a0184.txt  \n",
            "  inflating: +_1516_640_640_label_Car Accident Detection.v2i.yolov7pytorch/train/labels/frame_5627_jpg.rf.3e3ca64fb3f81ea65acd9dd990b5d9f7.txt  \n",
            "  inflating: __MACOSX/+_1516_640_640_label_Car Accident Detection.v2i.yolov7pytorch/train/labels/._frame_5627_jpg.rf.3e3ca64fb3f81ea65acd9dd990b5d9f7.txt  \n",
            "  inflating: +_1516_640_640_label_Car Accident Detection.v2i.yolov7pytorch/train/labels/severityV4_9_jpg.rf.c7c0d226cbb8bdec9328db8dc4b2f614.txt  \n",
            "  inflating: __MACOSX/+_1516_640_640_label_Car Accident Detection.v2i.yolov7pytorch/train/labels/._severityV4_9_jpg.rf.c7c0d226cbb8bdec9328db8dc4b2f614.txt  \n",
            "  inflating: +_1516_640_640_label_Car Accident Detection.v2i.yolov7pytorch/train/labels/severityV4_77_jpg.rf.cb92bfd0c855cb33de99b3602f783953.txt  \n",
            "  inflating: __MACOSX/+_1516_640_640_label_Car Accident Detection.v2i.yolov7pytorch/train/labels/._severityV4_77_jpg.rf.cb92bfd0c855cb33de99b3602f783953.txt  \n",
            "  inflating: +_1516_640_640_label_Car Accident Detection.v2i.yolov7pytorch/train/labels/images-3_jpg.rf.ae5de440ae0d9ddbc8e1ad2ba6998441.txt  \n",
            "  inflating: __MACOSX/+_1516_640_640_label_Car Accident Detection.v2i.yolov7pytorch/train/labels/._images-3_jpg.rf.ae5de440ae0d9ddbc8e1ad2ba6998441.txt  \n",
            "  inflating: +_1516_640_640_label_Car Accident Detection.v2i.yolov7pytorch/train/labels/crashbetter_jpg.rf.e1e1ee672b162d8e0375d86be5b6343b.txt  \n",
            "  inflating: __MACOSX/+_1516_640_640_label_Car Accident Detection.v2i.yolov7pytorch/train/labels/._crashbetter_jpg.rf.e1e1ee672b162d8e0375d86be5b6343b.txt  \n",
            "  inflating: +_1516_640_640_label_Car Accident Detection.v2i.yolov7pytorch/train/labels/vlcsnap-2020-01-16-10h36m49s279_png.rf.b437dfd05e5cd7d9ddd2b8a46894f66e.txt  \n",
            "  inflating: __MACOSX/+_1516_640_640_label_Car Accident Detection.v2i.yolov7pytorch/train/labels/._vlcsnap-2020-01-16-10h36m49s279_png.rf.b437dfd05e5cd7d9ddd2b8a46894f66e.txt  \n",
            "  inflating: +_1516_640_640_label_Car Accident Detection.v2i.yolov7pytorch/train/labels/severV16_jpg.rf.c3fc5e84a01a0021064ec69536801f03.txt  \n",
            "  inflating: __MACOSX/+_1516_640_640_label_Car Accident Detection.v2i.yolov7pytorch/train/labels/._severV16_jpg.rf.c3fc5e84a01a0021064ec69536801f03.txt  \n",
            "  inflating: +_1516_640_640_label_Car Accident Detection.v2i.yolov7pytorch/train/labels/Semi-RealisticVD-38_jpg.rf.a1d51a1bd34a20f251b098e74a193837.txt  \n",
            "  inflating: __MACOSX/+_1516_640_640_label_Car Accident Detection.v2i.yolov7pytorch/train/labels/._Semi-RealisticVD-38_jpg.rf.a1d51a1bd34a20f251b098e74a193837.txt  \n",
            "  inflating: +_1516_640_640_label_Car Accident Detection.v2i.yolov7pytorch/train/labels/severityV4_76_jpg.rf.d4c537c30963ff966cddffcde9ba8bdf.txt  \n",
            "  inflating: __MACOSX/+_1516_640_640_label_Car Accident Detection.v2i.yolov7pytorch/train/labels/._severityV4_76_jpg.rf.d4c537c30963ff966cddffcde9ba8bdf.txt  \n",
            "  inflating: +_1516_640_640_label_Car Accident Detection.v2i.yolov7pytorch/train/labels/images-18_jpg.rf.4c8478df41d599c81997c49df3b7bb67.txt  \n",
            "  inflating: __MACOSX/+_1516_640_640_label_Car Accident Detection.v2i.yolov7pytorch/train/labels/._images-18_jpg.rf.4c8478df41d599c81997c49df3b7bb67.txt  \n",
            "  inflating: +_1516_640_640_label_Car Accident Detection.v2i.yolov7pytorch/train/labels/images-23_jpg.rf.36627a39e01df88c44b7faf40cfbba42.txt  \n",
            "  inflating: __MACOSX/+_1516_640_640_label_Car Accident Detection.v2i.yolov7pytorch/train/labels/._images-23_jpg.rf.36627a39e01df88c44b7faf40cfbba42.txt  \n",
            "  inflating: +_1516_640_640_label_Car Accident Detection.v2i.yolov7pytorch/train/labels/severityV3_20_jpeg_jpg.rf.c7e6f558be394da7a8c1a4049d428dcc.txt  \n",
            "  inflating: __MACOSX/+_1516_640_640_label_Car Accident Detection.v2i.yolov7pytorch/train/labels/._severityV3_20_jpeg_jpg.rf.c7e6f558be394da7a8c1a4049d428dcc.txt  \n",
            "  inflating: +_1516_640_640_label_Car Accident Detection.v2i.yolov7pytorch/train/labels/images-1_jpg.rf.6d9eafc383cfa933b637f26ed23f0180.txt  \n",
            "  inflating: __MACOSX/+_1516_640_640_label_Car Accident Detection.v2i.yolov7pytorch/train/labels/._images-1_jpg.rf.6d9eafc383cfa933b637f26ed23f0180.txt  \n",
            "  inflating: +_1516_640_640_label_Car Accident Detection.v2i.yolov7pytorch/train/labels/severityV4_14_jpg.rf.b2c5b1caab6c04c37a5d5ce0e56914f3.txt  \n",
            "  inflating: __MACOSX/+_1516_640_640_label_Car Accident Detection.v2i.yolov7pytorch/train/labels/._severityV4_14_jpg.rf.b2c5b1caab6c04c37a5d5ce0e56914f3.txt  \n",
            "  inflating: +_1516_640_640_label_Car Accident Detection.v2i.yolov7pytorch/train/labels/images-19_jpg.rf.8b7fb01eceb0dd55bb5d2987597455d2.txt  \n",
            "  inflating: __MACOSX/+_1516_640_640_label_Car Accident Detection.v2i.yolov7pytorch/train/labels/._images-19_jpg.rf.8b7fb01eceb0dd55bb5d2987597455d2.txt  \n",
            "  inflating: +_1516_640_640_label_Car Accident Detection.v2i.yolov7pytorch/train/labels/Screenshot-307-_png_jpg.rf.55173fe50b205c44c2dc3441f4e680b0.txt  \n",
            "  inflating: __MACOSX/+_1516_640_640_label_Car Accident Detection.v2i.yolov7pytorch/train/labels/._Screenshot-307-_png_jpg.rf.55173fe50b205c44c2dc3441f4e680b0.txt  \n",
            "  inflating: +_1516_640_640_label_Car Accident Detection.v2i.yolov7pytorch/train/labels/Severity_Detect_V20_jpg.rf.b20cc40c86bc436da0e5d1714c1321f8.txt  \n",
            "  inflating: __MACOSX/+_1516_640_640_label_Car Accident Detection.v2i.yolov7pytorch/train/labels/._Severity_Detect_V20_jpg.rf.b20cc40c86bc436da0e5d1714c1321f8.txt  \n",
            "  inflating: +_1516_640_640_label_Car Accident Detection.v2i.yolov7pytorch/train/labels/severityV4_64_jpg.rf.f61a61519494b260fa0ca73256f1cd76.txt  \n",
            "  inflating: __MACOSX/+_1516_640_640_label_Car Accident Detection.v2i.yolov7pytorch/train/labels/._severityV4_64_jpg.rf.f61a61519494b260fa0ca73256f1cd76.txt  \n",
            "  inflating: +_1516_640_640_label_Car Accident Detection.v2i.yolov7pytorch/train/labels/accidentFrame4_jpg.rf.f28bb3131094c7316200d9fe0bd1de19.txt  \n",
            "  inflating: __MACOSX/+_1516_640_640_label_Car Accident Detection.v2i.yolov7pytorch/train/labels/._accidentFrame4_jpg.rf.f28bb3131094c7316200d9fe0bd1de19.txt  \n",
            "  inflating: +_1516_640_640_label_Car Accident Detection.v2i.yolov7pytorch/train/labels/Screenshot-276-_png_jpg.rf.0e9213e43c096f4c621b425c0a5a3e3d.txt  \n",
            "  inflating: __MACOSX/+_1516_640_640_label_Car Accident Detection.v2i.yolov7pytorch/train/labels/._Screenshot-276-_png_jpg.rf.0e9213e43c096f4c621b425c0a5a3e3d.txt  \n",
            "  inflating: +_1516_640_640_label_Car Accident Detection.v2i.yolov7pytorch/train/labels/severityV4_75_jpg.rf.b3bab6f2d6299d804fe0c17b1a6efc8e.txt  \n",
            "  inflating: __MACOSX/+_1516_640_640_label_Car Accident Detection.v2i.yolov7pytorch/train/labels/._severityV4_75_jpg.rf.b3bab6f2d6299d804fe0c17b1a6efc8e.txt  \n",
            "  inflating: +_1516_640_640_label_Car Accident Detection.v2i.yolov7pytorch/train/labels/Severity_Detect_V3_jpg.rf.c5e296485b99748f4ebdac9cf249de22.txt  \n",
            "  inflating: __MACOSX/+_1516_640_640_label_Car Accident Detection.v2i.yolov7pytorch/train/labels/._Severity_Detect_V3_jpg.rf.c5e296485b99748f4ebdac9cf249de22.txt  \n",
            "  inflating: +_1516_640_640_label_Car Accident Detection.v2i.yolov7pytorch/train/labels/photo163_jpg.rf.edbafe86ca115ec86967a5b646146840.txt  \n",
            "  inflating: __MACOSX/+_1516_640_640_label_Car Accident Detection.v2i.yolov7pytorch/train/labels/._photo163_jpg.rf.edbafe86ca115ec86967a5b646146840.txt  \n",
            "  inflating: +_1516_640_640_label_Car Accident Detection.v2i.yolov7pytorch/train/labels/frame_4446_jpg.rf.90d8acacdc3abf02445a0791a57f026f.txt  \n",
            "  inflating: __MACOSX/+_1516_640_640_label_Car Accident Detection.v2i.yolov7pytorch/train/labels/._frame_4446_jpg.rf.90d8acacdc3abf02445a0791a57f026f.txt  \n",
            "  inflating: +_1516_640_640_label_Car Accident Detection.v2i.yolov7pytorch/train/labels/traffic_img1815_jpg.rf.a9404760d8bcfbde00bb3abe49b207a2.txt  \n",
            "  inflating: __MACOSX/+_1516_640_640_label_Car Accident Detection.v2i.yolov7pytorch/train/labels/._traffic_img1815_jpg.rf.a9404760d8bcfbde00bb3abe49b207a2.txt  \n",
            "  inflating: +_1516_640_640_label_Car Accident Detection.v2i.yolov7pytorch/train/labels/frame_4641_jpg.rf.0ca90b8ae02317661ff227642d79c3af.txt  \n",
            "  inflating: __MACOSX/+_1516_640_640_label_Car Accident Detection.v2i.yolov7pytorch/train/labels/._frame_4641_jpg.rf.0ca90b8ae02317661ff227642d79c3af.txt  \n",
            "  inflating: +_1516_640_640_label_Car Accident Detection.v2i.yolov7pytorch/train/labels/severityV4_72_jpg.rf.d6ff751f205ee3962d7467d2fc03c642.txt  \n",
            "  inflating: __MACOSX/+_1516_640_640_label_Car Accident Detection.v2i.yolov7pytorch/train/labels/._severityV4_72_jpg.rf.d6ff751f205ee3962d7467d2fc03c642.txt  \n",
            "  inflating: +_1516_640_640_label_Car Accident Detection.v2i.yolov7pytorch/train/labels/Image105_jpg.rf.ff377e7c639cd8c1ad420c38f38eb154.txt  \n",
            "  inflating: __MACOSX/+_1516_640_640_label_Car Accident Detection.v2i.yolov7pytorch/train/labels/._Image105_jpg.rf.ff377e7c639cd8c1ad420c38f38eb154.txt  \n",
            "  inflating: +_1516_640_640_label_Car Accident Detection.v2i.yolov7pytorch/train/labels/acc905_jpg.rf.8da908acc39ffb8ef632425086ac6cc4.txt  \n",
            "  inflating: __MACOSX/+_1516_640_640_label_Car Accident Detection.v2i.yolov7pytorch/train/labels/._acc905_jpg.rf.8da908acc39ffb8ef632425086ac6cc4.txt  \n",
            "  inflating: +_1516_640_640_label_Car Accident Detection.v2i.yolov7pytorch/train/labels/trafficseverity_img3043_jpg.rf.365a51727682532eed75ba04a15132e9.txt  \n",
            "  inflating: __MACOSX/+_1516_640_640_label_Car Accident Detection.v2i.yolov7pytorch/train/labels/._trafficseverity_img3043_jpg.rf.365a51727682532eed75ba04a15132e9.txt  \n",
            "  inflating: +_1516_640_640_label_Car Accident Detection.v2i.yolov7pytorch/train/labels/frame_2148_jpg.rf.d23f3ae8b6d2510ac9bb5482a9a5bc62.txt  \n",
            "  inflating: __MACOSX/+_1516_640_640_label_Car Accident Detection.v2i.yolov7pytorch/train/labels/._frame_2148_jpg.rf.d23f3ae8b6d2510ac9bb5482a9a5bc62.txt  \n",
            "  inflating: +_1516_640_640_label_Car Accident Detection.v2i.yolov7pytorch/train/labels/accidentFrame5793_jpg.rf.308b9e21b3a779f4f0cd50e5770e5cce.txt  \n",
            "  inflating: __MACOSX/+_1516_640_640_label_Car Accident Detection.v2i.yolov7pytorch/train/labels/._accidentFrame5793_jpg.rf.308b9e21b3a779f4f0cd50e5770e5cce.txt  \n",
            "  inflating: +_1516_640_640_label_Car Accident Detection.v2i.yolov7pytorch/train/labels/severity_V133_jpg.rf.2ad58b7e502cded7d90e373eb1dc570d.txt  \n",
            "  inflating: __MACOSX/+_1516_640_640_label_Car Accident Detection.v2i.yolov7pytorch/train/labels/._severity_V133_jpg.rf.2ad58b7e502cded7d90e373eb1dc570d.txt  \n",
            "  inflating: +_1516_640_640_label_Car Accident Detection.v2i.yolov7pytorch/train/labels/argusAcc192_jpg.rf.7714290954133be37e35da38398b0082.txt  \n",
            "  inflating: __MACOSX/+_1516_640_640_label_Car Accident Detection.v2i.yolov7pytorch/train/labels/._argusAcc192_jpg.rf.7714290954133be37e35da38398b0082.txt  \n",
            "  inflating: +_1516_640_640_label_Car Accident Detection.v2i.yolov7pytorch/train/labels/photo32_jpg.rf.69bc34caf15e98aa394a3ea0bd24243d.txt  \n",
            "  inflating: __MACOSX/+_1516_640_640_label_Car Accident Detection.v2i.yolov7pytorch/train/labels/._photo32_jpg.rf.69bc34caf15e98aa394a3ea0bd24243d.txt  \n",
            "  inflating: +_1516_640_640_label_Car Accident Detection.v2i.yolov7pytorch/train/labels/acc1546_jpg.rf.af4365c690f0d52a2a320e6020c4e05d.txt  \n",
            "  inflating: __MACOSX/+_1516_640_640_label_Car Accident Detection.v2i.yolov7pytorch/train/labels/._acc1546_jpg.rf.af4365c690f0d52a2a320e6020c4e05d.txt  \n",
            "  inflating: +_1516_640_640_label_Car Accident Detection.v2i.yolov7pytorch/train/labels/car_acc1_jpeg_jpg.rf.451d0829361ca0b7fe18868c98679bd3.txt  \n",
            "  inflating: __MACOSX/+_1516_640_640_label_Car Accident Detection.v2i.yolov7pytorch/train/labels/._car_acc1_jpeg_jpg.rf.451d0829361ca0b7fe18868c98679bd3.txt  \n",
            "  inflating: +_1516_640_640_label_Car Accident Detection.v2i.yolov7pytorch/train/labels/accidentFrame2718_jpg.rf.d0ee211ad1db10a1c1a425ce067ef3f2.txt  \n",
            "  inflating: __MACOSX/+_1516_640_640_label_Car Accident Detection.v2i.yolov7pytorch/train/labels/._accidentFrame2718_jpg.rf.d0ee211ad1db10a1c1a425ce067ef3f2.txt  \n",
            "  inflating: +_1516_640_640_label_Car Accident Detection.v2i.yolov7pytorch/train/labels/test27_13_jpg.rf.d911f9402962ac681c89882f15149a32.txt  \n",
            "  inflating: __MACOSX/+_1516_640_640_label_Car Accident Detection.v2i.yolov7pytorch/train/labels/._test27_13_jpg.rf.d911f9402962ac681c89882f15149a32.txt  \n",
            "  inflating: +_1516_640_640_label_Car Accident Detection.v2i.yolov7pytorch/train/labels/argusAccident98_jpg.rf.fb1de74ea2b2c7e43614a0fcfdc6075a.txt  \n",
            "  inflating: __MACOSX/+_1516_640_640_label_Car Accident Detection.v2i.yolov7pytorch/train/labels/._argusAccident98_jpg.rf.fb1de74ea2b2c7e43614a0fcfdc6075a.txt  \n",
            "  inflating: +_1516_640_640_label_Car Accident Detection.v2i.yolov7pytorch/train/labels/severity_V115_jpg.rf.f731c7bf75d42244b467c9278ddc45f7.txt  \n",
            "  inflating: __MACOSX/+_1516_640_640_label_Car Accident Detection.v2i.yolov7pytorch/train/labels/._severity_V115_jpg.rf.f731c7bf75d42244b467c9278ddc45f7.txt  \n",
            "  inflating: +_1516_640_640_label_Car Accident Detection.v2i.yolov7pytorch/train/labels/argusAcc81_jpg.rf.0ee21b1dfcc433e4b52d3d3abcd03313.txt  \n",
            "  inflating: __MACOSX/+_1516_640_640_label_Car Accident Detection.v2i.yolov7pytorch/train/labels/._argusAcc81_jpg.rf.0ee21b1dfcc433e4b52d3d3abcd03313.txt  \n",
            "  inflating: +_1516_640_640_label_Car Accident Detection.v2i.yolov7pytorch/train/labels/Image62_jpg.rf.f287cc7f44299efd219c401d03ab236a.txt  \n",
            "  inflating: __MACOSX/+_1516_640_640_label_Car Accident Detection.v2i.yolov7pytorch/train/labels/._Image62_jpg.rf.f287cc7f44299efd219c401d03ab236a.txt  \n",
            "  inflating: +_1516_640_640_label_Car Accident Detection.v2i.yolov7pytorch/train/labels/10-74_jpg.rf.d262f354f8f1bca337d40069860e1a68.txt  \n",
            "  inflating: __MACOSX/+_1516_640_640_label_Car Accident Detection.v2i.yolov7pytorch/train/labels/._10-74_jpg.rf.d262f354f8f1bca337d40069860e1a68.txt  \n",
            "  inflating: +_1516_640_640_label_Car Accident Detection.v2i.yolov7pytorch/train/labels/traffic_img201_jpg.rf.e3fff3cf4da205f68562ffce4bc5ec53.txt  \n",
            "  inflating: __MACOSX/+_1516_640_640_label_Car Accident Detection.v2i.yolov7pytorch/train/labels/._traffic_img201_jpg.rf.e3fff3cf4da205f68562ffce4bc5ec53.txt  \n",
            "  inflating: +_1516_640_640_label_Car Accident Detection.v2i.yolov7pytorch/train/labels/traffic_img1072_jpg.rf.80df2fd1217e0ce4da1aeaf29efba232.txt  \n",
            "  inflating: __MACOSX/+_1516_640_640_label_Car Accident Detection.v2i.yolov7pytorch/train/labels/._traffic_img1072_jpg.rf.80df2fd1217e0ce4da1aeaf29efba232.txt  \n",
            "  inflating: +_1516_640_640_label_Car Accident Detection.v2i.yolov7pytorch/train/labels/2accidentFrame300_jpg.rf.c6ed41b076de87d2d614a1fa4c7a2fd1.txt  \n",
            "  inflating: __MACOSX/+_1516_640_640_label_Car Accident Detection.v2i.yolov7pytorch/train/labels/._2accidentFrame300_jpg.rf.c6ed41b076de87d2d614a1fa4c7a2fd1.txt  \n",
            "  inflating: +_1516_640_640_label_Car Accident Detection.v2i.yolov7pytorch/train/labels/Screenshot-366-_png_jpg.rf.1a2fbd3b2ada719db6c98ddafc4d8e78.txt  \n",
            "  inflating: __MACOSX/+_1516_640_640_label_Car Accident Detection.v2i.yolov7pytorch/train/labels/._Screenshot-366-_png_jpg.rf.1a2fbd3b2ada719db6c98ddafc4d8e78.txt  \n",
            "  inflating: +_1516_640_640_label_Car Accident Detection.v2i.yolov7pytorch/train/labels/acc1487_jpg.rf.99824710d1bd964918c2d371b08325e3.txt  \n",
            "  inflating: __MACOSX/+_1516_640_640_label_Car Accident Detection.v2i.yolov7pytorch/train/labels/._acc1487_jpg.rf.99824710d1bd964918c2d371b08325e3.txt  \n",
            "  inflating: +_1516_640_640_label_Car Accident Detection.v2i.yolov7pytorch/train/labels/trafficseverity_img992_jpg.rf.3ca5f60a8bf19dd9d64a50bd14a08323.txt  \n",
            "  inflating: __MACOSX/+_1516_640_640_label_Car Accident Detection.v2i.yolov7pytorch/train/labels/._trafficseverity_img992_jpg.rf.3ca5f60a8bf19dd9d64a50bd14a08323.txt  \n",
            "  inflating: +_1516_640_640_label_Car Accident Detection.v2i.yolov7pytorch/train/labels/severityV3_32_jpeg_jpg.rf.ede50be4f52678405722f80e3a8b70f1.txt  \n",
            "  inflating: __MACOSX/+_1516_640_640_label_Car Accident Detection.v2i.yolov7pytorch/train/labels/._severityV3_32_jpeg_jpg.rf.ede50be4f52678405722f80e3a8b70f1.txt  \n",
            "  inflating: +_1516_640_640_label_Car Accident Detection.v2i.yolov7pytorch/train/labels/acc759_jpg.rf.e5b3d76d1bbc579e0cc24105a5e45572.txt  \n",
            "  inflating: __MACOSX/+_1516_640_640_label_Car Accident Detection.v2i.yolov7pytorch/train/labels/._acc759_jpg.rf.e5b3d76d1bbc579e0cc24105a5e45572.txt  \n",
            "  inflating: +_1516_640_640_label_Car Accident Detection.v2i.yolov7pytorch/train/labels/images-1_jpeg_jpg.rf.415491caa21f53f3ce4acac31986d763.txt  \n",
            "  inflating: __MACOSX/+_1516_640_640_label_Car Accident Detection.v2i.yolov7pytorch/train/labels/._images-1_jpeg_jpg.rf.415491caa21f53f3ce4acac31986d763.txt  \n",
            "  inflating: +_1516_640_640_label_Car Accident Detection.v2i.yolov7pytorch/train/labels/severityV4_93_jpg.rf.93176e3e26fa74468dc83ced7b73d345.txt  \n",
            "  inflating: __MACOSX/+_1516_640_640_label_Car Accident Detection.v2i.yolov7pytorch/train/labels/._severityV4_93_jpg.rf.93176e3e26fa74468dc83ced7b73d345.txt  \n",
            "  inflating: +_1516_640_640_label_Car Accident Detection.v2i.yolov7pytorch/train/labels/download-4_jpg.rf.7f1796c43a20cc45cccc02ffa75b9bc0.txt  \n",
            "  inflating: __MACOSX/+_1516_640_640_label_Car Accident Detection.v2i.yolov7pytorch/train/labels/._download-4_jpg.rf.7f1796c43a20cc45cccc02ffa75b9bc0.txt  \n",
            "  inflating: +_1516_640_640_label_Car Accident Detection.v2i.yolov7pytorch/train/labels/Image41_jpg.rf.29560daf1e4d7ae984c024b7f1bd582b.txt  \n",
            "  inflating: __MACOSX/+_1516_640_640_label_Car Accident Detection.v2i.yolov7pytorch/train/labels/._Image41_jpg.rf.29560daf1e4d7ae984c024b7f1bd582b.txt  \n",
            "  inflating: +_1516_640_640_label_Car Accident Detection.v2i.yolov7pytorch/train/labels/traffic_img343_jpg.rf.e0a95b760234c9236a53a52d8018725e.txt  \n",
            "  inflating: __MACOSX/+_1516_640_640_label_Car Accident Detection.v2i.yolov7pytorch/train/labels/._traffic_img343_jpg.rf.e0a95b760234c9236a53a52d8018725e.txt  \n",
            "  inflating: +_1516_640_640_label_Car Accident Detection.v2i.yolov7pytorch/train/labels/severityV4_19_jpg.rf.6f7bc87b1dde3e9d896a39e28c952429.txt  \n",
            "  inflating: __MACOSX/+_1516_640_640_label_Car Accident Detection.v2i.yolov7pytorch/train/labels/._severityV4_19_jpg.rf.6f7bc87b1dde3e9d896a39e28c952429.txt  \n",
            "  inflating: +_1516_640_640_label_Car Accident Detection.v2i.yolov7pytorch/train/labels/argusAccident30_jpg.rf.fc66c00753fd19ff3bbe7f4c38fea4b8.txt  \n",
            "  inflating: __MACOSX/+_1516_640_640_label_Car Accident Detection.v2i.yolov7pytorch/train/labels/._argusAccident30_jpg.rf.fc66c00753fd19ff3bbe7f4c38fea4b8.txt  \n",
            "  inflating: +_1516_640_640_label_Car Accident Detection.v2i.yolov7pytorch/train/labels/accidentFrame458_jpg.rf.8edbba340fda88077581242dba4195a1.txt  \n",
            "  inflating: __MACOSX/+_1516_640_640_label_Car Accident Detection.v2i.yolov7pytorch/train/labels/._accidentFrame458_jpg.rf.8edbba340fda88077581242dba4195a1.txt  \n",
            "  inflating: +_1516_640_640_label_Car Accident Detection.v2i.yolov7pytorch/train/labels/tt3_png_jpg.rf.48aaa311c4eab99cf34eabdfa4aa75c1.txt  \n",
            "  inflating: __MACOSX/+_1516_640_640_label_Car Accident Detection.v2i.yolov7pytorch/train/labels/._tt3_png_jpg.rf.48aaa311c4eab99cf34eabdfa4aa75c1.txt  \n",
            "  inflating: +_1516_640_640_label_Car Accident Detection.v2i.yolov7pytorch/train/labels/vlcsnap-2020-01-16-01h35m23s572_png.rf.c25eaaf739a300473355976d9959a646.txt  \n",
            "  inflating: __MACOSX/+_1516_640_640_label_Car Accident Detection.v2i.yolov7pytorch/train/labels/._vlcsnap-2020-01-16-01h35m23s572_png.rf.c25eaaf739a300473355976d9959a646.txt  \n",
            "  inflating: +_1516_640_640_label_Car Accident Detection.v2i.yolov7pytorch/train/labels/traffic_img1184_jpg.rf.b6650e29635dd424bfad62e5af56c23a.txt  \n",
            "  inflating: __MACOSX/+_1516_640_640_label_Car Accident Detection.v2i.yolov7pytorch/train/labels/._traffic_img1184_jpg.rf.b6650e29635dd424bfad62e5af56c23a.txt  \n",
            "  inflating: +_1516_640_640_label_Car Accident Detection.v2i.yolov7pytorch/train/labels/frame_6371_jpg.rf.897023a85b7c395a6cf60b1e0a38559f.txt  \n",
            "  inflating: __MACOSX/+_1516_640_640_label_Car Accident Detection.v2i.yolov7pytorch/train/labels/._frame_6371_jpg.rf.897023a85b7c395a6cf60b1e0a38559f.txt  \n",
            "  inflating: +_1516_640_640_label_Car Accident Detection.v2i.yolov7pytorch/train/labels/images-10_jpg.rf.aad92822bacf7a05ac2b256ac2057ebf.txt  \n",
            "  inflating: __MACOSX/+_1516_640_640_label_Car Accident Detection.v2i.yolov7pytorch/train/labels/._images-10_jpg.rf.aad92822bacf7a05ac2b256ac2057ebf.txt  \n",
            "  inflating: +_1516_640_640_label_Car Accident Detection.v2i.yolov7pytorch/train/labels/CARimage251_jpg.rf.c591f29a512fdeb3c862a50e946d9bfc.txt  \n",
            "  inflating: __MACOSX/+_1516_640_640_label_Car Accident Detection.v2i.yolov7pytorch/train/labels/._CARimage251_jpg.rf.c591f29a512fdeb3c862a50e946d9bfc.txt  \n",
            "  inflating: +_1516_640_640_label_Car Accident Detection.v2i.yolov7pytorch/train/labels/severityV4_25_jpg.rf.916a923e1183f1b930580a7e519859d2.txt  \n",
            "  inflating: __MACOSX/+_1516_640_640_label_Car Accident Detection.v2i.yolov7pytorch/train/labels/._severityV4_25_jpg.rf.916a923e1183f1b930580a7e519859d2.txt  \n",
            "  inflating: +_1516_640_640_label_Car Accident Detection.v2i.yolov7pytorch/train/labels/Semi-RealisticVD-232_jpg.rf.47af63f1a7398c611c67b42fc4509844.txt  \n",
            "  inflating: __MACOSX/+_1516_640_640_label_Car Accident Detection.v2i.yolov7pytorch/train/labels/._Semi-RealisticVD-232_jpg.rf.47af63f1a7398c611c67b42fc4509844.txt  \n",
            "  inflating: +_1516_640_640_label_Car Accident Detection.v2i.yolov7pytorch/train/labels/Screen-Shot-2022-04-08-at-1-48-56-AM_png.rf.f4d82f13bc40b7373e8818e8213d4190.txt  \n",
            "  inflating: __MACOSX/+_1516_640_640_label_Car Accident Detection.v2i.yolov7pytorch/train/labels/._Screen-Shot-2022-04-08-at-1-48-56-AM_png.rf.f4d82f13bc40b7373e8818e8213d4190.txt  \n",
            "  inflating: +_1516_640_640_label_Car Accident Detection.v2i.yolov7pytorch/train/labels/images-42_jpg.rf.c0af24de175cace31c7d4d4be0425f9e.txt  \n",
            "  inflating: __MACOSX/+_1516_640_640_label_Car Accident Detection.v2i.yolov7pytorch/train/labels/._images-42_jpg.rf.c0af24de175cace31c7d4d4be0425f9e.txt  \n",
            "  inflating: +_1516_640_640_label_Car Accident Detection.v2i.yolov7pytorch/train/labels/frame_2592_jpg.rf.914b03a7234f9d155f2b4631672829bc.txt  \n",
            "  inflating: __MACOSX/+_1516_640_640_label_Car Accident Detection.v2i.yolov7pytorch/train/labels/._frame_2592_jpg.rf.914b03a7234f9d155f2b4631672829bc.txt  \n",
            "  inflating: +_1516_640_640_label_Car Accident Detection.v2i.yolov7pytorch/train/labels/frame_4447_jpg.rf.adccdbfd78326ed237e5b20cc627db6c.txt  \n",
            "  inflating: __MACOSX/+_1516_640_640_label_Car Accident Detection.v2i.yolov7pytorch/train/labels/._frame_4447_jpg.rf.adccdbfd78326ed237e5b20cc627db6c.txt  \n",
            "  inflating: +_1516_640_640_label_Car Accident Detection.v2i.yolov7pytorch/train/labels/argusAcc64_jpg.rf.feb6c2bec70f9c67814d290425aa0dcd.txt  \n",
            "  inflating: __MACOSX/+_1516_640_640_label_Car Accident Detection.v2i.yolov7pytorch/train/labels/._argusAcc64_jpg.rf.feb6c2bec70f9c67814d290425aa0dcd.txt  \n",
            "  inflating: +_1516_640_640_label_Car Accident Detection.v2i.yolov7pytorch/train/labels/FLIP_CAR_V134_jpg.rf.9989fa7252903fb15aa33bd385c917ec.txt  \n",
            "  inflating: __MACOSX/+_1516_640_640_label_Car Accident Detection.v2i.yolov7pytorch/train/labels/._FLIP_CAR_V134_jpg.rf.9989fa7252903fb15aa33bd385c917ec.txt  \n",
            "  inflating: +_1516_640_640_label_Car Accident Detection.v2i.yolov7pytorch/train/labels/test16_29_jpg.rf.c537713e9368472ba245501b3190dbba.txt  \n",
            "  inflating: __MACOSX/+_1516_640_640_label_Car Accident Detection.v2i.yolov7pytorch/train/labels/._test16_29_jpg.rf.c537713e9368472ba245501b3190dbba.txt  \n",
            "  inflating: +_1516_640_640_label_Car Accident Detection.v2i.yolov7pytorch/train/labels/Severity_Detect_V14_jpg.rf.77d53679eb92bfe281a1c74920b58ba7.txt  \n",
            "  inflating: __MACOSX/+_1516_640_640_label_Car Accident Detection.v2i.yolov7pytorch/train/labels/._Severity_Detect_V14_jpg.rf.77d53679eb92bfe281a1c74920b58ba7.txt  \n",
            "  inflating: +_1516_640_640_label_Car Accident Detection.v2i.yolov7pytorch/train/labels/vlcsnap-2020-01-16-01h19m43s950_png.rf.ee43ef73c716e61a7c9adbb15f789c05.txt  \n",
            "  inflating: __MACOSX/+_1516_640_640_label_Car Accident Detection.v2i.yolov7pytorch/train/labels/._vlcsnap-2020-01-16-01h19m43s950_png.rf.ee43ef73c716e61a7c9adbb15f789c05.txt  \n",
            "  inflating: +_1516_640_640_label_Car Accident Detection.v2i.yolov7pytorch/train/labels/Screenshot-330-_png_jpg.rf.170b855a05dbf7f06139a08c7aee8b82.txt  \n",
            "  inflating: __MACOSX/+_1516_640_640_label_Car Accident Detection.v2i.yolov7pytorch/train/labels/._Screenshot-330-_png_jpg.rf.170b855a05dbf7f06139a08c7aee8b82.txt  \n",
            "  inflating: +_1516_640_640_label_Car Accident Detection.v2i.yolov7pytorch/train/labels/frame_1878_jpg.rf.e184db13c5bd14b0183af25144a28186.txt  \n",
            "  inflating: __MACOSX/+_1516_640_640_label_Car Accident Detection.v2i.yolov7pytorch/train/labels/._frame_1878_jpg.rf.e184db13c5bd14b0183af25144a28186.txt  \n",
            "  inflating: +_1516_640_640_label_Car Accident Detection.v2i.yolov7pytorch/train/labels/traffic_img45_jpg.rf.1fea604f49dc255c6b7bd154b2d360c7.txt  \n",
            "  inflating: __MACOSX/+_1516_640_640_label_Car Accident Detection.v2i.yolov7pytorch/train/labels/._traffic_img45_jpg.rf.1fea604f49dc255c6b7bd154b2d360c7.txt  \n",
            "  inflating: +_1516_640_640_label_Car Accident Detection.v2i.yolov7pytorch/train/labels/2accidentFrame943_jpg.rf.32df5a31519f6196cb9541775e151290.txt  \n",
            "  inflating: __MACOSX/+_1516_640_640_label_Car Accident Detection.v2i.yolov7pytorch/train/labels/._2accidentFrame943_jpg.rf.32df5a31519f6196cb9541775e151290.txt  \n",
            "  inflating: +_1516_640_640_label_Car Accident Detection.v2i.yolov7pytorch/train/labels/FLIP_CAR_V147_jpg.rf.b47467dbdd81de33f86b40208a9adee2.txt  \n",
            "  inflating: __MACOSX/+_1516_640_640_label_Car Accident Detection.v2i.yolov7pytorch/train/labels/._FLIP_CAR_V147_jpg.rf.b47467dbdd81de33f86b40208a9adee2.txt  \n",
            "  inflating: +_1516_640_640_label_Car Accident Detection.v2i.yolov7pytorch/train/labels/test1_25_jpg.rf.8a391dce3c2815826a56dd7c2d40b4aa.txt  \n",
            "  inflating: __MACOSX/+_1516_640_640_label_Car Accident Detection.v2i.yolov7pytorch/train/labels/._test1_25_jpg.rf.8a391dce3c2815826a56dd7c2d40b4aa.txt  \n",
            "  inflating: +_1516_640_640_label_Car Accident Detection.v2i.yolov7pytorch/train/labels/1-44_jpg.rf.cfd0a9a337f73efd713969f4312febc2.txt  \n",
            "  inflating: __MACOSX/+_1516_640_640_label_Car Accident Detection.v2i.yolov7pytorch/train/labels/._1-44_jpg.rf.cfd0a9a337f73efd713969f4312febc2.txt  \n",
            "  inflating: +_1516_640_640_label_Car Accident Detection.v2i.yolov7pytorch/train/labels/frame_2222_jpg.rf.3dc2b534d012674710fb52ade7fb69d7.txt  \n",
            "  inflating: __MACOSX/+_1516_640_640_label_Car Accident Detection.v2i.yolov7pytorch/train/labels/._frame_2222_jpg.rf.3dc2b534d012674710fb52ade7fb69d7.txt  \n",
            "  inflating: +_1516_640_640_label_Car Accident Detection.v2i.yolov7pytorch/train/labels/images-18_jpg.rf.de58e4e7c80e4f61fffbc9c8cebbd40a.txt  \n",
            "  inflating: __MACOSX/+_1516_640_640_label_Car Accident Detection.v2i.yolov7pytorch/train/labels/._images-18_jpg.rf.de58e4e7c80e4f61fffbc9c8cebbd40a.txt  \n",
            "  inflating: +_1516_640_640_label_Car Accident Detection.v2i.yolov7pytorch/train/labels/FLIP_CAR_V112_jpg.rf.ad5631cc2c26c140bc56e9d03689868e.txt  \n",
            "  inflating: __MACOSX/+_1516_640_640_label_Car Accident Detection.v2i.yolov7pytorch/train/labels/._FLIP_CAR_V112_jpg.rf.ad5631cc2c26c140bc56e9d03689868e.txt  \n",
            "  inflating: +_1516_640_640_label_Car Accident Detection.v2i.yolov7pytorch/train/labels/images-28_jpg.rf.2787e6bdd941ff03bf8da25451b1101a.txt  \n",
            "  inflating: __MACOSX/+_1516_640_640_label_Car Accident Detection.v2i.yolov7pytorch/train/labels/._images-28_jpg.rf.2787e6bdd941ff03bf8da25451b1101a.txt  \n",
            "  inflating: +_1516_640_640_label_Car Accident Detection.v2i.yolov7pytorch/train/labels/Screenshot-454-_png_jpg.rf.2510df4228966f5fa68afa1a961e163b.txt  \n",
            "  inflating: __MACOSX/+_1516_640_640_label_Car Accident Detection.v2i.yolov7pytorch/train/labels/._Screenshot-454-_png_jpg.rf.2510df4228966f5fa68afa1a961e163b.txt  \n",
            "  inflating: +_1516_640_640_label_Car Accident Detection.v2i.yolov7pytorch/train/labels/accidentFrame3651_jpg.rf.f6ac53b4d99a7548506c236296f975d9.txt  \n",
            "  inflating: __MACOSX/+_1516_640_640_label_Car Accident Detection.v2i.yolov7pytorch/train/labels/._accidentFrame3651_jpg.rf.f6ac53b4d99a7548506c236296f975d9.txt  \n",
            "  inflating: +_1516_640_640_label_Car Accident Detection.v2i.yolov7pytorch/train/labels/Screen-Shot-2022-04-05-at-2-10-30-AM_png_jpg.rf.b096765a47f9e882f1fec24d19f3bba1.txt  \n",
            "  inflating: __MACOSX/+_1516_640_640_label_Car Accident Detection.v2i.yolov7pytorch/train/labels/._Screen-Shot-2022-04-05-at-2-10-30-AM_png_jpg.rf.b096765a47f9e882f1fec24d19f3bba1.txt  \n",
            "  inflating: +_1516_640_640_label_Car Accident Detection.v2i.yolov7pytorch/train/labels/168_jpeg_jpg.rf.8dda7cd3760c8f97e848a803b6c39cdd.txt  \n",
            "  inflating: __MACOSX/+_1516_640_640_label_Car Accident Detection.v2i.yolov7pytorch/train/labels/._168_jpeg_jpg.rf.8dda7cd3760c8f97e848a803b6c39cdd.txt  \n",
            "  inflating: +_1516_640_640_label_Car Accident Detection.v2i.yolov7pytorch/train/labels/Screenshot-436-_png_jpg.rf.ebca2c9923690ed4a7ea98e0c7577027.txt  \n",
            "  inflating: __MACOSX/+_1516_640_640_label_Car Accident Detection.v2i.yolov7pytorch/train/labels/._Screenshot-436-_png_jpg.rf.ebca2c9923690ed4a7ea98e0c7577027.txt  \n",
            "  inflating: +_1516_640_640_label_Car Accident Detection.v2i.yolov7pytorch/train/labels/acc1659_jpg.rf.fa849cbfb4c23f6537c9ace40fbeab2d.txt  \n",
            "  inflating: __MACOSX/+_1516_640_640_label_Car Accident Detection.v2i.yolov7pytorch/train/labels/._acc1659_jpg.rf.fa849cbfb4c23f6537c9ace40fbeab2d.txt  \n",
            "  inflating: +_1516_640_640_label_Car Accident Detection.v2i.yolov7pytorch/train/labels/acc908_jpg.rf.d86c5de630376c327e84787aab262ef6.txt  \n",
            "  inflating: __MACOSX/+_1516_640_640_label_Car Accident Detection.v2i.yolov7pytorch/train/labels/._acc908_jpg.rf.d86c5de630376c327e84787aab262ef6.txt  \n",
            "  inflating: +_1516_640_640_label_Car Accident Detection.v2i.yolov7pytorch/train/labels/Severity_Detect_V20_jpg.rf.5ba337c0d79447f9e98a4a2bec1887ae.txt  \n",
            "  inflating: __MACOSX/+_1516_640_640_label_Car Accident Detection.v2i.yolov7pytorch/train/labels/._Severity_Detect_V20_jpg.rf.5ba337c0d79447f9e98a4a2bec1887ae.txt  \n",
            "  inflating: +_1516_640_640_label_Car Accident Detection.v2i.yolov7pytorch/train/labels/25641839_web1_210627-GNG-millstream-accident-_1_jpg.rf.8a1bbcd3c66235e7a0b73c0beae7ecda.txt  \n",
            "  inflating: __MACOSX/+_1516_640_640_label_Car Accident Detection.v2i.yolov7pytorch/train/labels/._25641839_web1_210627-GNG-millstream-accident-_1_jpg.rf.8a1bbcd3c66235e7a0b73c0beae7ecda.txt  \n",
            "  inflating: +_1516_640_640_label_Car Accident Detection.v2i.yolov7pytorch/train/labels/download-10_jpg.rf.e326085bc2df9f5f82ae9c63fe2554e3.txt  \n",
            "  inflating: __MACOSX/+_1516_640_640_label_Car Accident Detection.v2i.yolov7pytorch/train/labels/._download-10_jpg.rf.e326085bc2df9f5f82ae9c63fe2554e3.txt  \n",
            "  inflating: +_1516_640_640_label_Car Accident Detection.v2i.yolov7pytorch/train/labels/argusAccident84_jpg.rf.f5520f2bea15ee749c942f9e6dc0e553.txt  \n",
            "  inflating: __MACOSX/+_1516_640_640_label_Car Accident Detection.v2i.yolov7pytorch/train/labels/._argusAccident84_jpg.rf.f5520f2bea15ee749c942f9e6dc0e553.txt  \n",
            "  inflating: +_1516_640_640_label_Car Accident Detection.v2i.yolov7pytorch/train/labels/tt1_png_jpg.rf.ae5dc633ae9377858bbd40895b32cec9.txt  \n",
            "  inflating: __MACOSX/+_1516_640_640_label_Car Accident Detection.v2i.yolov7pytorch/train/labels/._tt1_png_jpg.rf.ae5dc633ae9377858bbd40895b32cec9.txt  \n",
            "  inflating: +_1516_640_640_label_Car Accident Detection.v2i.yolov7pytorch/train/labels/images-22_jpg.rf.310f5255994f9c5541119067f21957be.txt  \n",
            "  inflating: __MACOSX/+_1516_640_640_label_Car Accident Detection.v2i.yolov7pytorch/train/labels/._images-22_jpg.rf.310f5255994f9c5541119067f21957be.txt  \n",
            "  inflating: +_1516_640_640_label_Car Accident Detection.v2i.yolov7pytorch/train/labels/vlcsnap-2020-01-15-21h00m18s606_png.rf.945b30dfabae9d8953b16c39d619e127.txt  \n",
            "  inflating: __MACOSX/+_1516_640_640_label_Car Accident Detection.v2i.yolov7pytorch/train/labels/._vlcsnap-2020-01-15-21h00m18s606_png.rf.945b30dfabae9d8953b16c39d619e127.txt  \n",
            "  inflating: +_1516_640_640_label_Car Accident Detection.v2i.yolov7pytorch/train/labels/test10_16_jpg.rf.f5fe12fe15e51c0bbcff401c342bdf6a.txt  \n",
            "  inflating: __MACOSX/+_1516_640_640_label_Car Accident Detection.v2i.yolov7pytorch/train/labels/._test10_16_jpg.rf.f5fe12fe15e51c0bbcff401c342bdf6a.txt  \n",
            "  inflating: +_1516_640_640_label_Car Accident Detection.v2i.yolov7pytorch/train/labels/vlcsnap-2020-01-15-20h50m09s861_png.rf.f3222d5ae5811735f1adcda665182020.txt  \n",
            "  inflating: __MACOSX/+_1516_640_640_label_Car Accident Detection.v2i.yolov7pytorch/train/labels/._vlcsnap-2020-01-15-20h50m09s861_png.rf.f3222d5ae5811735f1adcda665182020.txt  \n",
            "  inflating: +_1516_640_640_label_Car Accident Detection.v2i.yolov7pytorch/train/labels/frame_5087_jpg.rf.ad357ccf931a6ce125788ed9e9f0a458.txt  \n",
            "  inflating: __MACOSX/+_1516_640_640_label_Car Accident Detection.v2i.yolov7pytorch/train/labels/._frame_5087_jpg.rf.ad357ccf931a6ce125788ed9e9f0a458.txt  \n",
            "  inflating: +_1516_640_640_label_Car Accident Detection.v2i.yolov7pytorch/train/labels/vlcsnap-2020-01-15-23h48m09s472_png.rf.788106d3a9e03648b04fae5814d86bd6.txt  \n",
            "  inflating: __MACOSX/+_1516_640_640_label_Car Accident Detection.v2i.yolov7pytorch/train/labels/._vlcsnap-2020-01-15-23h48m09s472_png.rf.788106d3a9e03648b04fae5814d86bd6.txt  \n",
            "  inflating: +_1516_640_640_label_Car Accident Detection.v2i.yolov7pytorch/train/labels/images-16_jpg.rf.5e1e90033a710582eb9736eb52e59008.txt  \n",
            "  inflating: __MACOSX/+_1516_640_640_label_Car Accident Detection.v2i.yolov7pytorch/train/labels/._images-16_jpg.rf.5e1e90033a710582eb9736eb52e59008.txt  \n",
            "  inflating: +_1516_640_640_label_Car Accident Detection.v2i.yolov7pytorch/train/labels/test26_19_jpg.rf.a280ccb5480ba0ad4bc6a8b0edd6c421.txt  \n",
            "  inflating: __MACOSX/+_1516_640_640_label_Car Accident Detection.v2i.yolov7pytorch/train/labels/._test26_19_jpg.rf.a280ccb5480ba0ad4bc6a8b0edd6c421.txt  \n",
            "  inflating: +_1516_640_640_label_Car Accident Detection.v2i.yolov7pytorch/train/labels/Semi-RealisticVD-61_jpg.rf.838e822db566cdc45b32c86c1ddb3a42.txt  \n",
            "  inflating: __MACOSX/+_1516_640_640_label_Car Accident Detection.v2i.yolov7pytorch/train/labels/._Semi-RealisticVD-61_jpg.rf.838e822db566cdc45b32c86c1ddb3a42.txt  \n",
            "  inflating: +_1516_640_640_label_Car Accident Detection.v2i.yolov7pytorch/train/labels/Image89_jpg.rf.3ff5fbd7b06db6d10a7b908d174eccc7.txt  \n",
            "  inflating: __MACOSX/+_1516_640_640_label_Car Accident Detection.v2i.yolov7pytorch/train/labels/._Image89_jpg.rf.3ff5fbd7b06db6d10a7b908d174eccc7.txt  \n",
            "  inflating: +_1516_640_640_label_Car Accident Detection.v2i.yolov7pytorch/train/labels/Screenshot-414-_png_jpg.rf.06a3b09317a40286fff03b2cab7200d8.txt  \n",
            "  inflating: __MACOSX/+_1516_640_640_label_Car Accident Detection.v2i.yolov7pytorch/train/labels/._Screenshot-414-_png_jpg.rf.06a3b09317a40286fff03b2cab7200d8.txt  \n",
            "  inflating: +_1516_640_640_label_Car Accident Detection.v2i.yolov7pytorch/train/labels/Screenshot-321-_png_jpg.rf.5e7e950fc7ef08f37a296100ed135ea7.txt  \n",
            "  inflating: __MACOSX/+_1516_640_640_label_Car Accident Detection.v2i.yolov7pytorch/train/labels/._Screenshot-321-_png_jpg.rf.5e7e950fc7ef08f37a296100ed135ea7.txt  \n",
            "  inflating: +_1516_640_640_label_Car Accident Detection.v2i.yolov7pytorch/train/labels/traffic_img331_jpg.rf.0adbda1b2431546a7f57f7da226df322.txt  \n",
            "  inflating: __MACOSX/+_1516_640_640_label_Car Accident Detection.v2i.yolov7pytorch/train/labels/._traffic_img331_jpg.rf.0adbda1b2431546a7f57f7da226df322.txt  \n",
            "  inflating: +_1516_640_640_label_Car Accident Detection.v2i.yolov7pytorch/train/labels/severityV3_30_jpeg_jpg.rf.c675b3b3c9703cf9a1f579dcb9a7a0ac.txt  \n",
            "  inflating: __MACOSX/+_1516_640_640_label_Car Accident Detection.v2i.yolov7pytorch/train/labels/._severityV3_30_jpeg_jpg.rf.c675b3b3c9703cf9a1f579dcb9a7a0ac.txt  \n",
            "  inflating: +_1516_640_640_label_Car Accident Detection.v2i.yolov7pytorch/train/labels/Semi-RealisticVD-175_jpg.rf.23358937e01dd79dcbdec9d37e761d54.txt  \n",
            "  inflating: __MACOSX/+_1516_640_640_label_Car Accident Detection.v2i.yolov7pytorch/train/labels/._Semi-RealisticVD-175_jpg.rf.23358937e01dd79dcbdec9d37e761d54.txt  \n",
            "  inflating: +_1516_640_640_label_Car Accident Detection.v2i.yolov7pytorch/train/labels/test22_22_jpg.rf.5e70257d0d86e3bb0e69986dfda1fd40.txt  \n",
            "  inflating: __MACOSX/+_1516_640_640_label_Car Accident Detection.v2i.yolov7pytorch/train/labels/._test22_22_jpg.rf.5e70257d0d86e3bb0e69986dfda1fd40.txt  \n",
            "  inflating: +_1516_640_640_label_Car Accident Detection.v2i.yolov7pytorch/train/labels/Screenshot-438-_png_jpg.rf.f5232486f13823d684de9e2666131105.txt  \n",
            "  inflating: __MACOSX/+_1516_640_640_label_Car Accident Detection.v2i.yolov7pytorch/train/labels/._Screenshot-438-_png_jpg.rf.f5232486f13823d684de9e2666131105.txt  \n",
            "  inflating: +_1516_640_640_label_Car Accident Detection.v2i.yolov7pytorch/train/labels/severityV4_25_jpg.rf.6321038831d4c28d794375c349e80509.txt  \n",
            "  inflating: __MACOSX/+_1516_640_640_label_Car Accident Detection.v2i.yolov7pytorch/train/labels/._severityV4_25_jpg.rf.6321038831d4c28d794375c349e80509.txt  \n",
            "  inflating: +_1516_640_640_label_Car Accident Detection.v2i.yolov7pytorch/train/labels/argusAcc81_jpg.rf.c1e0d1196af8c00284f2022b51d253c9.txt  \n",
            "  inflating: __MACOSX/+_1516_640_640_label_Car Accident Detection.v2i.yolov7pytorch/train/labels/._argusAcc81_jpg.rf.c1e0d1196af8c00284f2022b51d253c9.txt  \n",
            "  inflating: +_1516_640_640_label_Car Accident Detection.v2i.yolov7pytorch/train/labels/severityV4_78_jpg.rf.08f0a77590bf7dfb3d58ea3ec8bcb661.txt  \n",
            "  inflating: __MACOSX/+_1516_640_640_label_Car Accident Detection.v2i.yolov7pytorch/train/labels/._severityV4_78_jpg.rf.08f0a77590bf7dfb3d58ea3ec8bcb661.txt  \n",
            "  inflating: +_1516_640_640_label_Car Accident Detection.v2i.yolov7pytorch/train/labels/FLIP_CAR_V142_jpg.rf.a20d34b627c5a9972e09dc7bc0a594a8.txt  \n",
            "  inflating: __MACOSX/+_1516_640_640_label_Car Accident Detection.v2i.yolov7pytorch/train/labels/._FLIP_CAR_V142_jpg.rf.a20d34b627c5a9972e09dc7bc0a594a8.txt  \n",
            "  inflating: +_1516_640_640_label_Car Accident Detection.v2i.yolov7pytorch/train/labels/Screenshot-422-_png_jpg.rf.9af2e36f4e714b5e8b7e51d1dcbba97d.txt  \n",
            "  inflating: __MACOSX/+_1516_640_640_label_Car Accident Detection.v2i.yolov7pytorch/train/labels/._Screenshot-422-_png_jpg.rf.9af2e36f4e714b5e8b7e51d1dcbba97d.txt  \n",
            "  inflating: +_1516_640_640_label_Car Accident Detection.v2i.yolov7pytorch/train/labels/accidentFrame2732_jpg.rf.cb93cf684a5d4ebe2c06a9d39a721fbf.txt  \n",
            "  inflating: __MACOSX/+_1516_640_640_label_Car Accident Detection.v2i.yolov7pytorch/train/labels/._accidentFrame2732_jpg.rf.cb93cf684a5d4ebe2c06a9d39a721fbf.txt  \n",
            "  inflating: +_1516_640_640_label_Car Accident Detection.v2i.yolov7pytorch/train/labels/test25_30_jpg.rf.d1034afb7b5913c44bb4a21319c76ea3.txt  \n",
            "  inflating: __MACOSX/+_1516_640_640_label_Car Accident Detection.v2i.yolov7pytorch/train/labels/._test25_30_jpg.rf.d1034afb7b5913c44bb4a21319c76ea3.txt  \n",
            "  inflating: +_1516_640_640_label_Car Accident Detection.v2i.yolov7pytorch/train/labels/images-17_jpg.rf.6ae4fbac5322256d158a61fdf8904f04.txt  \n",
            "  inflating: __MACOSX/+_1516_640_640_label_Car Accident Detection.v2i.yolov7pytorch/train/labels/._images-17_jpg.rf.6ae4fbac5322256d158a61fdf8904f04.txt  \n",
            "  inflating: +_1516_640_640_label_Car Accident Detection.v2i.yolov7pytorch/train/labels/argusAccident68_jpg.rf.897891f4af312cfc56d7c2118660e934.txt  \n",
            "  inflating: __MACOSX/+_1516_640_640_label_Car Accident Detection.v2i.yolov7pytorch/train/labels/._argusAccident68_jpg.rf.897891f4af312cfc56d7c2118660e934.txt  \n",
            "  inflating: +_1516_640_640_label_Car Accident Detection.v2i.yolov7pytorch/train/labels/severityV4_94_jpg.rf.d21e1f4c515e9060040f70c95d219f00.txt  \n",
            "  inflating: __MACOSX/+_1516_640_640_label_Car Accident Detection.v2i.yolov7pytorch/train/labels/._severityV4_94_jpg.rf.d21e1f4c515e9060040f70c95d219f00.txt  \n",
            "  inflating: +_1516_640_640_label_Car Accident Detection.v2i.yolov7pytorch/train/labels/image33_jpg.rf.27482e9e20a9c5ac7d3fe3ae5fa30086.txt  \n",
            "  inflating: __MACOSX/+_1516_640_640_label_Car Accident Detection.v2i.yolov7pytorch/train/labels/._image33_jpg.rf.27482e9e20a9c5ac7d3fe3ae5fa30086.txt  \n",
            "  inflating: +_1516_640_640_label_Car Accident Detection.v2i.yolov7pytorch/train/labels/argusAccident22_jpg.rf.41927e7a6e1eb70a72e76f02352ad498.txt  \n",
            "  inflating: __MACOSX/+_1516_640_640_label_Car Accident Detection.v2i.yolov7pytorch/train/labels/._argusAccident22_jpg.rf.41927e7a6e1eb70a72e76f02352ad498.txt  \n",
            "  inflating: +_1516_640_640_label_Car Accident Detection.v2i.yolov7pytorch/train/labels/download-4_jpg.rf.c642df4924633d3e492664413c010d8e.txt  \n",
            "  inflating: __MACOSX/+_1516_640_640_label_Car Accident Detection.v2i.yolov7pytorch/train/labels/._download-4_jpg.rf.c642df4924633d3e492664413c010d8e.txt  \n",
            "  inflating: +_1516_640_640_label_Car Accident Detection.v2i.yolov7pytorch/train/labels/tt3_png_jpg.rf.220f8e646b1203d1896731fb38ae1b0a.txt  \n",
            "  inflating: __MACOSX/+_1516_640_640_label_Car Accident Detection.v2i.yolov7pytorch/train/labels/._tt3_png_jpg.rf.220f8e646b1203d1896731fb38ae1b0a.txt  \n",
            "  inflating: +_1516_640_640_label_Car Accident Detection.v2i.yolov7pytorch/train/labels/images-13_jpg.rf.41ada8e7be0554efebb88e6344886aba.txt  \n",
            "  inflating: __MACOSX/+_1516_640_640_label_Car Accident Detection.v2i.yolov7pytorch/train/labels/._images-13_jpg.rf.41ada8e7be0554efebb88e6344886aba.txt  \n",
            "  inflating: +_1516_640_640_label_Car Accident Detection.v2i.yolov7pytorch/train/labels/vlcsnap-2020-01-15-23h28m08s657_png.rf.a607f349610b44181cbb480376775ee5.txt  \n",
            "  inflating: __MACOSX/+_1516_640_640_label_Car Accident Detection.v2i.yolov7pytorch/train/labels/._vlcsnap-2020-01-15-23h28m08s657_png.rf.a607f349610b44181cbb480376775ee5.txt  \n",
            "  inflating: +_1516_640_640_label_Car Accident Detection.v2i.yolov7pytorch/train/labels/image53_jpg.rf.26ca33473b8edce622525c65a99a1783.txt  \n",
            "  inflating: __MACOSX/+_1516_640_640_label_Car Accident Detection.v2i.yolov7pytorch/train/labels/._image53_jpg.rf.26ca33473b8edce622525c65a99a1783.txt  \n",
            "  inflating: +_1516_640_640_label_Car Accident Detection.v2i.yolov7pytorch/train/labels/severityV4_21_jpg.rf.57381a10f33e7dff024716dca0704ace.txt  \n",
            "  inflating: __MACOSX/+_1516_640_640_label_Car Accident Detection.v2i.yolov7pytorch/train/labels/._severityV4_21_jpg.rf.57381a10f33e7dff024716dca0704ace.txt  \n",
            "  inflating: +_1516_640_640_label_Car Accident Detection.v2i.yolov7pytorch/train/labels/4097_jpeg.rf.6578f0720d440b053ecd1b1b11bec688.txt  \n",
            "  inflating: __MACOSX/+_1516_640_640_label_Car Accident Detection.v2i.yolov7pytorch/train/labels/._4097_jpeg.rf.6578f0720d440b053ecd1b1b11bec688.txt  \n",
            "  inflating: +_1516_640_640_label_Car Accident Detection.v2i.yolov7pytorch/train/labels/Screenshot-451-_png_jpg.rf.fc912d6b8f7e7a30b58134269027e006.txt  \n",
            "  inflating: __MACOSX/+_1516_640_640_label_Car Accident Detection.v2i.yolov7pytorch/train/labels/._Screenshot-451-_png_jpg.rf.fc912d6b8f7e7a30b58134269027e006.txt  \n",
            "  inflating: +_1516_640_640_label_Car Accident Detection.v2i.yolov7pytorch/train/labels/FLIP_CAR_V172_jpg.rf.e465cdcc27eade2a8493bba4044023c2.txt  \n",
            "  inflating: __MACOSX/+_1516_640_640_label_Car Accident Detection.v2i.yolov7pytorch/train/labels/._FLIP_CAR_V172_jpg.rf.e465cdcc27eade2a8493bba4044023c2.txt  \n",
            "  inflating: +_1516_640_640_label_Car Accident Detection.v2i.yolov7pytorch/train/labels/severityV4_81_jpg.rf.a52fadacbaa90872afa347411fdea830.txt  \n",
            "  inflating: __MACOSX/+_1516_640_640_label_Car Accident Detection.v2i.yolov7pytorch/train/labels/._severityV4_81_jpg.rf.a52fadacbaa90872afa347411fdea830.txt  \n",
            "  inflating: +_1516_640_640_label_Car Accident Detection.v2i.yolov7pytorch/train/labels/acc1435_jpg.rf.4e87f60d563492132e21e5bf386cf9b3.txt  \n",
            "  inflating: __MACOSX/+_1516_640_640_label_Car Accident Detection.v2i.yolov7pytorch/train/labels/._acc1435_jpg.rf.4e87f60d563492132e21e5bf386cf9b3.txt  \n",
            "  inflating: +_1516_640_640_label_Car Accident Detection.v2i.yolov7pytorch/train/labels/test20_19_jpg.rf.3aad1e57be93b19886c68a1fb14b02fe.txt  \n",
            "  inflating: __MACOSX/+_1516_640_640_label_Car Accident Detection.v2i.yolov7pytorch/train/labels/._test20_19_jpg.rf.3aad1e57be93b19886c68a1fb14b02fe.txt  \n",
            "  inflating: +_1516_640_640_label_Car Accident Detection.v2i.yolov7pytorch/train/labels/29906170001_5318678692001_5318661149001-vs_jpg.rf.3fd5c4df39f0a92bcecfb73df6122c93.txt  \n",
            "  inflating: __MACOSX/+_1516_640_640_label_Car Accident Detection.v2i.yolov7pytorch/train/labels/._29906170001_5318678692001_5318661149001-vs_jpg.rf.3fd5c4df39f0a92bcecfb73df6122c93.txt  \n",
            "  inflating: +_1516_640_640_label_Car Accident Detection.v2i.yolov7pytorch/train/labels/accidentFrame181_jpg.rf.c54b3eb7bf0ae4448cd0e442a3ceecb4.txt  \n",
            "  inflating: __MACOSX/+_1516_640_640_label_Car Accident Detection.v2i.yolov7pytorch/train/labels/._accidentFrame181_jpg.rf.c54b3eb7bf0ae4448cd0e442a3ceecb4.txt  \n",
            "  inflating: +_1516_640_640_label_Car Accident Detection.v2i.yolov7pytorch/train/labels/severityV4_83_jpg.rf.297ba5dc9fc92124951764be814489b7.txt  \n",
            "  inflating: __MACOSX/+_1516_640_640_label_Car Accident Detection.v2i.yolov7pytorch/train/labels/._severityV4_83_jpg.rf.297ba5dc9fc92124951764be814489b7.txt  \n",
            "  inflating: +_1516_640_640_label_Car Accident Detection.v2i.yolov7pytorch/train/labels/severityV4_14_jpg.rf.f1a2c9060c7f39d2d39af3e8a74f91b8.txt  \n",
            "  inflating: __MACOSX/+_1516_640_640_label_Car Accident Detection.v2i.yolov7pytorch/train/labels/._severityV4_14_jpg.rf.f1a2c9060c7f39d2d39af3e8a74f91b8.txt  \n",
            "  inflating: +_1516_640_640_label_Car Accident Detection.v2i.yolov7pytorch/train/labels/2accidentFrame252_jpg.rf.6a1025195861a8cfe0f1c035ef8c785e.txt  \n",
            "  inflating: __MACOSX/+_1516_640_640_label_Car Accident Detection.v2i.yolov7pytorch/train/labels/._2accidentFrame252_jpg.rf.6a1025195861a8cfe0f1c035ef8c785e.txt  \n",
            "  inflating: +_1516_640_640_label_Car Accident Detection.v2i.yolov7pytorch/train/labels/test20_19_jpg.rf.76cbb759a5df78b60a9c7b5a7ccb5f1a.txt  \n",
            "  inflating: __MACOSX/+_1516_640_640_label_Car Accident Detection.v2i.yolov7pytorch/train/labels/._test20_19_jpg.rf.76cbb759a5df78b60a9c7b5a7ccb5f1a.txt  \n",
            "  inflating: +_1516_640_640_label_Car Accident Detection.v2i.yolov7pytorch/train/labels/accidentFrame320_jpg.rf.a9679eba463127252f94ab91f97e5d0e.txt  \n",
            "  inflating: __MACOSX/+_1516_640_640_label_Car Accident Detection.v2i.yolov7pytorch/train/labels/._accidentFrame320_jpg.rf.a9679eba463127252f94ab91f97e5d0e.txt  \n",
            "  inflating: +_1516_640_640_label_Car Accident Detection.v2i.yolov7pytorch/train/labels/vd55_jpeg_jpg.rf.05c2c0185afd5c16befa3c1c91852478.txt  \n",
            "  inflating: __MACOSX/+_1516_640_640_label_Car Accident Detection.v2i.yolov7pytorch/train/labels/._vd55_jpeg_jpg.rf.05c2c0185afd5c16befa3c1c91852478.txt  \n",
            "  inflating: +_1516_640_640_label_Car Accident Detection.v2i.yolov7pytorch/train/labels/CARimage180_jpg.rf.abb38b1b75e95680f685e1a1be909536.txt  \n",
            "  inflating: __MACOSX/+_1516_640_640_label_Car Accident Detection.v2i.yolov7pytorch/train/labels/._CARimage180_jpg.rf.abb38b1b75e95680f685e1a1be909536.txt  \n",
            "  inflating: +_1516_640_640_label_Car Accident Detection.v2i.yolov7pytorch/train/labels/image60_jpg.rf.9c61289d0390a3719b1d45519ca78d78.txt  \n",
            "  inflating: __MACOSX/+_1516_640_640_label_Car Accident Detection.v2i.yolov7pytorch/train/labels/._image60_jpg.rf.9c61289d0390a3719b1d45519ca78d78.txt  \n",
            "  inflating: +_1516_640_640_label_Car Accident Detection.v2i.yolov7pytorch/train/labels/Semi-RealisticVD-45_jpg.rf.6e88b87854d99942764f63027ec36854.txt  \n",
            "  inflating: __MACOSX/+_1516_640_640_label_Car Accident Detection.v2i.yolov7pytorch/train/labels/._Semi-RealisticVD-45_jpg.rf.6e88b87854d99942764f63027ec36854.txt  \n",
            "  inflating: +_1516_640_640_label_Car Accident Detection.v2i.yolov7pytorch/train/labels/accidentFrame252_jpg.rf.ca09b90e23e6f5b6056fa5fb2c16485b.txt  \n",
            "  inflating: __MACOSX/+_1516_640_640_label_Car Accident Detection.v2i.yolov7pytorch/train/labels/._accidentFrame252_jpg.rf.ca09b90e23e6f5b6056fa5fb2c16485b.txt  \n",
            "  inflating: +_1516_640_640_label_Car Accident Detection.v2i.yolov7pytorch/train/labels/VA12_jpeg_jpg.rf.eb797f0a02a4c88ea1243192d39a2a70.txt  \n",
            "  inflating: __MACOSX/+_1516_640_640_label_Car Accident Detection.v2i.yolov7pytorch/train/labels/._VA12_jpeg_jpg.rf.eb797f0a02a4c88ea1243192d39a2a70.txt  \n",
            "  inflating: +_1516_640_640_label_Car Accident Detection.v2i.yolov7pytorch/train/labels/severityV4_89_jpg.rf.dae00d202b320c6a04e79121895e3222.txt  \n",
            "  inflating: __MACOSX/+_1516_640_640_label_Car Accident Detection.v2i.yolov7pytorch/train/labels/._severityV4_89_jpg.rf.dae00d202b320c6a04e79121895e3222.txt  \n",
            "  inflating: +_1516_640_640_label_Car Accident Detection.v2i.yolov7pytorch/train/labels/vlcsnap-2020-01-16-00h18m01s053_png.rf.f33ec064afe53633f33b4bcac9ed4eb9.txt  \n",
            "  inflating: __MACOSX/+_1516_640_640_label_Car Accident Detection.v2i.yolov7pytorch/train/labels/._vlcsnap-2020-01-16-00h18m01s053_png.rf.f33ec064afe53633f33b4bcac9ed4eb9.txt  \n",
            "  inflating: +_1516_640_640_label_Car Accident Detection.v2i.yolov7pytorch/train/labels/vlcsnap-2020-01-16-01h55m51s924_png.rf.fa1404faa11449580fa775828f308278.txt  \n",
            "  inflating: __MACOSX/+_1516_640_640_label_Car Accident Detection.v2i.yolov7pytorch/train/labels/._vlcsnap-2020-01-16-01h55m51s924_png.rf.fa1404faa11449580fa775828f308278.txt  \n",
            "  inflating: +_1516_640_640_label_Car Accident Detection.v2i.yolov7pytorch/train/labels/severV14_jpg.rf.c785b6628091d3078ed1da68dc1e5cda.txt  \n",
            "  inflating: __MACOSX/+_1516_640_640_label_Car Accident Detection.v2i.yolov7pytorch/train/labels/._severV14_jpg.rf.c785b6628091d3078ed1da68dc1e5cda.txt  \n",
            "  inflating: +_1516_640_640_label_Car Accident Detection.v2i.yolov7pytorch/train/labels/test20_17_jpg.rf.71ee94698e6cc63daa28ad980c1094dc.txt  \n",
            "  inflating: __MACOSX/+_1516_640_640_label_Car Accident Detection.v2i.yolov7pytorch/train/labels/._test20_17_jpg.rf.71ee94698e6cc63daa28ad980c1094dc.txt  \n",
            "  inflating: +_1516_640_640_label_Car Accident Detection.v2i.yolov7pytorch/train/labels/1567913504284_jpg.rf.ab973ada608e65a11dfb6e2376c3ab7e.txt  \n",
            "  inflating: __MACOSX/+_1516_640_640_label_Car Accident Detection.v2i.yolov7pytorch/train/labels/._1567913504284_jpg.rf.ab973ada608e65a11dfb6e2376c3ab7e.txt  \n",
            "  inflating: +_1516_640_640_label_Car Accident Detection.v2i.yolov7pytorch/train/labels/accidentFrame4161_jpg.rf.a1c13d0c77b6a3efe0299b8c48018a39.txt  \n",
            "  inflating: __MACOSX/+_1516_640_640_label_Car Accident Detection.v2i.yolov7pytorch/train/labels/._accidentFrame4161_jpg.rf.a1c13d0c77b6a3efe0299b8c48018a39.txt  \n",
            "  inflating: +_1516_640_640_label_Car Accident Detection.v2i.yolov7pytorch/train/labels/Semi-RealisticVD-119_jpg.rf.cabe8e3ea81252957a0130a9f34f5df0.txt  \n",
            "  inflating: __MACOSX/+_1516_640_640_label_Car Accident Detection.v2i.yolov7pytorch/train/labels/._Semi-RealisticVD-119_jpg.rf.cabe8e3ea81252957a0130a9f34f5df0.txt  \n",
            "  inflating: +_1516_640_640_label_Car Accident Detection.v2i.yolov7pytorch/train/labels/download-10_jpg.rf.977ddf4a6ce2747fb0fde2f65680b9a1.txt  \n",
            "  inflating: __MACOSX/+_1516_640_640_label_Car Accident Detection.v2i.yolov7pytorch/train/labels/._download-10_jpg.rf.977ddf4a6ce2747fb0fde2f65680b9a1.txt  \n",
            "  inflating: +_1516_640_640_label_Car Accident Detection.v2i.yolov7pytorch/train/labels/argusAcc596_jpg.rf.20e99d4eb5e8811c8f4be58769b371ff.txt  \n",
            "  inflating: __MACOSX/+_1516_640_640_label_Car Accident Detection.v2i.yolov7pytorch/train/labels/._argusAcc596_jpg.rf.20e99d4eb5e8811c8f4be58769b371ff.txt  \n",
            "  inflating: +_1516_640_640_label_Car Accident Detection.v2i.yolov7pytorch/train/labels/Screenshot-307-_png_jpg.rf.aed8972779970fe3351fc3d9d361d950.txt  \n",
            "  inflating: __MACOSX/+_1516_640_640_label_Car Accident Detection.v2i.yolov7pytorch/train/labels/._Screenshot-307-_png_jpg.rf.aed8972779970fe3351fc3d9d361d950.txt  \n",
            "  inflating: +_1516_640_640_label_Car Accident Detection.v2i.yolov7pytorch/train/labels/severityV4_92_jpg.rf.9f22c3ab4804f9a274cc0607590d3047.txt  \n",
            "  inflating: __MACOSX/+_1516_640_640_label_Car Accident Detection.v2i.yolov7pytorch/train/labels/._severityV4_92_jpg.rf.9f22c3ab4804f9a274cc0607590d3047.txt  \n",
            "  inflating: +_1516_640_640_label_Car Accident Detection.v2i.yolov7pytorch/train/labels/accidentFrame109_jpg.rf.b59de314873b51b9f6225806950aa66a.txt  \n",
            "  inflating: __MACOSX/+_1516_640_640_label_Car Accident Detection.v2i.yolov7pytorch/train/labels/._accidentFrame109_jpg.rf.b59de314873b51b9f6225806950aa66a.txt  \n",
            "  inflating: +_1516_640_640_label_Car Accident Detection.v2i.yolov7pytorch/train/labels/FLIP_CAR_V12_jpg.rf.1feae930e6b4f1908aca9b5fb9a0267c.txt  \n",
            "  inflating: __MACOSX/+_1516_640_640_label_Car Accident Detection.v2i.yolov7pytorch/train/labels/._FLIP_CAR_V12_jpg.rf.1feae930e6b4f1908aca9b5fb9a0267c.txt  \n",
            "  inflating: +_1516_640_640_label_Car Accident Detection.v2i.yolov7pytorch/train/labels/Accident_Img_1486_jpg.rf.379915cc8307cda9638cfd1e0acfc080.txt  \n",
            "  inflating: __MACOSX/+_1516_640_640_label_Car Accident Detection.v2i.yolov7pytorch/train/labels/._Accident_Img_1486_jpg.rf.379915cc8307cda9638cfd1e0acfc080.txt  \n",
            "  inflating: +_1516_640_640_label_Car Accident Detection.v2i.yolov7pytorch/train/labels/test10_14_jpg.rf.1967e4efd7623cee6981e01b985eafec.txt  \n",
            "  inflating: __MACOSX/+_1516_640_640_label_Car Accident Detection.v2i.yolov7pytorch/train/labels/._test10_14_jpg.rf.1967e4efd7623cee6981e01b985eafec.txt  \n",
            "  inflating: +_1516_640_640_label_Car Accident Detection.v2i.yolov7pytorch/train/labels/images-22_jpg.rf.95fa52fc1752d1dab3f62ae53681586b.txt  \n",
            "  inflating: __MACOSX/+_1516_640_640_label_Car Accident Detection.v2i.yolov7pytorch/train/labels/._images-22_jpg.rf.95fa52fc1752d1dab3f62ae53681586b.txt  \n",
            "  inflating: +_1516_640_640_label_Car Accident Detection.v2i.yolov7pytorch/train/labels/test27_20_jpg.rf.ad5f96d6219d1256fe7a3d196a2bb39a.txt  \n",
            "  inflating: __MACOSX/+_1516_640_640_label_Car Accident Detection.v2i.yolov7pytorch/train/labels/._test27_20_jpg.rf.ad5f96d6219d1256fe7a3d196a2bb39a.txt  \n",
            "  inflating: +_1516_640_640_label_Car Accident Detection.v2i.yolov7pytorch/train/labels/accidentFrame122_jpg.rf.8e0442316a0d8b096ccb808b098f6bcb.txt  \n",
            "  inflating: __MACOSX/+_1516_640_640_label_Car Accident Detection.v2i.yolov7pytorch/train/labels/._accidentFrame122_jpg.rf.8e0442316a0d8b096ccb808b098f6bcb.txt  \n",
            "  inflating: +_1516_640_640_label_Car Accident Detection.v2i.yolov7pytorch/train/labels/severityV3_18_jpeg_jpg.rf.1b7534622a5f63f2f0ca51b6119943d3.txt  \n",
            "  inflating: __MACOSX/+_1516_640_640_label_Car Accident Detection.v2i.yolov7pytorch/train/labels/._severityV3_18_jpeg_jpg.rf.1b7534622a5f63f2f0ca51b6119943d3.txt  \n",
            "  inflating: +_1516_640_640_label_Car Accident Detection.v2i.yolov7pytorch/train/labels/download-9_jpg.rf.5bb9dc638539e848dec666251efc92a8.txt  \n",
            "  inflating: __MACOSX/+_1516_640_640_label_Car Accident Detection.v2i.yolov7pytorch/train/labels/._download-9_jpg.rf.5bb9dc638539e848dec666251efc92a8.txt  \n",
            "  inflating: +_1516_640_640_label_Car Accident Detection.v2i.yolov7pytorch/train/labels/vlcsnap-2020-01-15-22h03m25s301_png.rf.d304ebee25de1530682502be654e09d6.txt  \n",
            "  inflating: __MACOSX/+_1516_640_640_label_Car Accident Detection.v2i.yolov7pytorch/train/labels/._vlcsnap-2020-01-15-22h03m25s301_png.rf.d304ebee25de1530682502be654e09d6.txt  \n",
            "  inflating: +_1516_640_640_label_Car Accident Detection.v2i.yolov7pytorch/train/labels/severityV4_55_jpg.rf.408ea187b2b93aa23ce2d6d9f4543a72.txt  \n",
            "  inflating: __MACOSX/+_1516_640_640_label_Car Accident Detection.v2i.yolov7pytorch/train/labels/._severityV4_55_jpg.rf.408ea187b2b93aa23ce2d6d9f4543a72.txt  \n",
            "  inflating: +_1516_640_640_label_Car Accident Detection.v2i.yolov7pytorch/train/labels/accidentFrame259_jpg.rf.f5f443e63d3b67c422a225069c3c2b0a.txt  \n",
            "  inflating: __MACOSX/+_1516_640_640_label_Car Accident Detection.v2i.yolov7pytorch/train/labels/._accidentFrame259_jpg.rf.f5f443e63d3b67c422a225069c3c2b0a.txt  \n",
            "  inflating: +_1516_640_640_label_Car Accident Detection.v2i.yolov7pytorch/train/labels/trafficseverity_img992_jpg.rf.e4d134f16d5fdfc2160e3a8bf6cf5519.txt  \n",
            "  inflating: __MACOSX/+_1516_640_640_label_Car Accident Detection.v2i.yolov7pytorch/train/labels/._trafficseverity_img992_jpg.rf.e4d134f16d5fdfc2160e3a8bf6cf5519.txt  \n",
            "  inflating: +_1516_640_640_label_Car Accident Detection.v2i.yolov7pytorch/train/labels/test10_18_jpg.rf.a68bb42804e5917a5930e767f3fa8d9e.txt  \n",
            "  inflating: __MACOSX/+_1516_640_640_label_Car Accident Detection.v2i.yolov7pytorch/train/labels/._test10_18_jpg.rf.a68bb42804e5917a5930e767f3fa8d9e.txt  \n",
            "  inflating: +_1516_640_640_label_Car Accident Detection.v2i.yolov7pytorch/train/labels/accidentFrame2152_jpg.rf.44daf8fb5a6fd563964fe9dcd626568f.txt  \n",
            "  inflating: __MACOSX/+_1516_640_640_label_Car Accident Detection.v2i.yolov7pytorch/train/labels/._accidentFrame2152_jpg.rf.44daf8fb5a6fd563964fe9dcd626568f.txt  \n",
            "  inflating: +_1516_640_640_label_Car Accident Detection.v2i.yolov7pytorch/train/labels/severity_V116_jpg.rf.c00726f0603f9ab473726043da72f604.txt  \n",
            "  inflating: __MACOSX/+_1516_640_640_label_Car Accident Detection.v2i.yolov7pytorch/train/labels/._severity_V116_jpg.rf.c00726f0603f9ab473726043da72f604.txt  \n",
            "  inflating: +_1516_640_640_label_Car Accident Detection.v2i.yolov7pytorch/train/labels/traffic_img344_jpg.rf.f34c2a7a6269ea06e58c913c54ada086.txt  \n",
            "  inflating: __MACOSX/+_1516_640_640_label_Car Accident Detection.v2i.yolov7pytorch/train/labels/._traffic_img344_jpg.rf.f34c2a7a6269ea06e58c913c54ada086.txt  \n",
            "  inflating: +_1516_640_640_label_Car Accident Detection.v2i.yolov7pytorch/train/labels/frame_0066_jpg.rf.711dc12477df5eec06b4b770737508fb.txt  \n",
            "  inflating: __MACOSX/+_1516_640_640_label_Car Accident Detection.v2i.yolov7pytorch/train/labels/._frame_0066_jpg.rf.711dc12477df5eec06b4b770737508fb.txt  \n",
            "  inflating: +_1516_640_640_label_Car Accident Detection.v2i.yolov7pytorch/train/labels/Screenshot-450-_png_jpg.rf.08a99ce39b6a0c6f3c8ed1647fe7651b.txt  \n",
            "  inflating: __MACOSX/+_1516_640_640_label_Car Accident Detection.v2i.yolov7pytorch/train/labels/._Screenshot-450-_png_jpg.rf.08a99ce39b6a0c6f3c8ed1647fe7651b.txt  \n",
            "  inflating: +_1516_640_640_label_Car Accident Detection.v2i.yolov7pytorch/train/labels/23_jpg.rf.c5d675be624c519f9bce8a9214d35651.txt  \n",
            "  inflating: __MACOSX/+_1516_640_640_label_Car Accident Detection.v2i.yolov7pytorch/train/labels/._23_jpg.rf.c5d675be624c519f9bce8a9214d35651.txt  \n",
            "  inflating: +_1516_640_640_label_Car Accident Detection.v2i.yolov7pytorch/train/labels/14-169_jpg.rf.f46ac4a562ccc71f23775d4c81334523.txt  \n",
            "  inflating: __MACOSX/+_1516_640_640_label_Car Accident Detection.v2i.yolov7pytorch/train/labels/._14-169_jpg.rf.f46ac4a562ccc71f23775d4c81334523.txt  \n",
            "  inflating: +_1516_640_640_label_Car Accident Detection.v2i.yolov7pytorch/train/labels/test29_14_jpg.rf.d6154e9b9d1c790a8f134e27a54a5dae.txt  \n",
            "  inflating: __MACOSX/+_1516_640_640_label_Car Accident Detection.v2i.yolov7pytorch/train/labels/._test29_14_jpg.rf.d6154e9b9d1c790a8f134e27a54a5dae.txt  \n",
            "  inflating: +_1516_640_640_label_Car Accident Detection.v2i.yolov7pytorch/train/labels/accidentFrame156_jpg.rf.ef659709363c9b2115a7e9290b4251df.txt  \n",
            "  inflating: __MACOSX/+_1516_640_640_label_Car Accident Detection.v2i.yolov7pytorch/train/labels/._accidentFrame156_jpg.rf.ef659709363c9b2115a7e9290b4251df.txt  \n",
            "  inflating: +_1516_640_640_label_Car Accident Detection.v2i.yolov7pytorch/train/labels/test30_18_jpg.rf.e57efe2a449b09add30f4c7e78f27fa1.txt  \n",
            "  inflating: __MACOSX/+_1516_640_640_label_Car Accident Detection.v2i.yolov7pytorch/train/labels/._test30_18_jpg.rf.e57efe2a449b09add30f4c7e78f27fa1.txt  \n",
            "  inflating: +_1516_640_640_label_Car Accident Detection.v2i.yolov7pytorch/train/labels/traffic_img757_jpg.rf.a77234e91e8b40caa99fe5c083916d66.txt  \n",
            "  inflating: __MACOSX/+_1516_640_640_label_Car Accident Detection.v2i.yolov7pytorch/train/labels/._traffic_img757_jpg.rf.a77234e91e8b40caa99fe5c083916d66.txt  \n",
            "  inflating: +_1516_640_640_label_Car Accident Detection.v2i.yolov7pytorch/train/labels/traffic_img1590_jpg.rf.bceaadb42bb8194c7adb9a122da15120.txt  \n",
            "  inflating: __MACOSX/+_1516_640_640_label_Car Accident Detection.v2i.yolov7pytorch/train/labels/._traffic_img1590_jpg.rf.bceaadb42bb8194c7adb9a122da15120.txt  \n",
            "  inflating: +_1516_640_640_label_Car Accident Detection.v2i.yolov7pytorch/train/labels/FLIP_CAR_V168_jpg.rf.9fdef3aabb10232453a23535bcad229d.txt  \n",
            "  inflating: __MACOSX/+_1516_640_640_label_Car Accident Detection.v2i.yolov7pytorch/train/labels/._FLIP_CAR_V168_jpg.rf.9fdef3aabb10232453a23535bcad229d.txt  \n",
            "  inflating: +_1516_640_640_label_Car Accident Detection.v2i.yolov7pytorch/train/labels/971_jpeg_jpg.rf.603cad63bdd8923b661e2f39aeed6e3f.txt  \n",
            "  inflating: __MACOSX/+_1516_640_640_label_Car Accident Detection.v2i.yolov7pytorch/train/labels/._971_jpeg_jpg.rf.603cad63bdd8923b661e2f39aeed6e3f.txt  \n",
            "  inflating: +_1516_640_640_label_Car Accident Detection.v2i.yolov7pytorch/train/labels/argusAcc257_jpg.rf.c1dd2301f1badb54d763e0ff94af00b8.txt  \n",
            "  inflating: __MACOSX/+_1516_640_640_label_Car Accident Detection.v2i.yolov7pytorch/train/labels/._argusAcc257_jpg.rf.c1dd2301f1badb54d763e0ff94af00b8.txt  \n",
            "  inflating: +_1516_640_640_label_Car Accident Detection.v2i.yolov7pytorch/train/labels/trafficseverity_img325_jpg.rf.e2820c296344d3123f465a11e7562769.txt  \n",
            "  inflating: __MACOSX/+_1516_640_640_label_Car Accident Detection.v2i.yolov7pytorch/train/labels/._trafficseverity_img325_jpg.rf.e2820c296344d3123f465a11e7562769.txt  \n",
            "  inflating: +_1516_640_640_label_Car Accident Detection.v2i.yolov7pytorch/train/labels/Severity_Detect_V40_jpg.rf.860960647d8e598fce5662204c246736.txt  \n",
            "  inflating: __MACOSX/+_1516_640_640_label_Car Accident Detection.v2i.yolov7pytorch/train/labels/._Severity_Detect_V40_jpg.rf.860960647d8e598fce5662204c246736.txt  \n",
            "  inflating: +_1516_640_640_label_Car Accident Detection.v2i.yolov7pytorch/train/labels/test3_32_jpg.rf.a8c04f20d9bc2ab512d39f007b1c4545.txt  \n",
            "  inflating: __MACOSX/+_1516_640_640_label_Car Accident Detection.v2i.yolov7pytorch/train/labels/._test3_32_jpg.rf.a8c04f20d9bc2ab512d39f007b1c4545.txt  \n",
            "  inflating: +_1516_640_640_label_Car Accident Detection.v2i.yolov7pytorch/train/labels/download-11_jpg.rf.e41085a26d3a2af9c0ae9ee2ae6641d2.txt  \n",
            "  inflating: __MACOSX/+_1516_640_640_label_Car Accident Detection.v2i.yolov7pytorch/train/labels/._download-11_jpg.rf.e41085a26d3a2af9c0ae9ee2ae6641d2.txt  \n",
            "  inflating: +_1516_640_640_label_Car Accident Detection.v2i.yolov7pytorch/train/labels/severityV4_72_jpg.rf.0c4df6b44f2996456ea7d420ed2602ee.txt  \n",
            "  inflating: __MACOSX/+_1516_640_640_label_Car Accident Detection.v2i.yolov7pytorch/train/labels/._severityV4_72_jpg.rf.0c4df6b44f2996456ea7d420ed2602ee.txt  \n",
            "  inflating: +_1516_640_640_label_Car Accident Detection.v2i.yolov7pytorch/train/labels/test17_15_jpg.rf.bf4a7a92e1ccb8cf742729b2eb73db6f.txt  \n",
            "  inflating: __MACOSX/+_1516_640_640_label_Car Accident Detection.v2i.yolov7pytorch/train/labels/._test17_15_jpg.rf.bf4a7a92e1ccb8cf742729b2eb73db6f.txt  \n",
            "  inflating: +_1516_640_640_label_Car Accident Detection.v2i.yolov7pytorch/train/labels/accidentFrame444_jpg.rf.ab8a7bf5c2bca138244975f22505616f.txt  \n",
            "  inflating: __MACOSX/+_1516_640_640_label_Car Accident Detection.v2i.yolov7pytorch/train/labels/._accidentFrame444_jpg.rf.ab8a7bf5c2bca138244975f22505616f.txt  \n",
            "  inflating: +_1516_640_640_label_Car Accident Detection.v2i.yolov7pytorch/train/labels/severityV2_7_jpg.rf.cad1435fa4ea6c88df36dc9980bc8645.txt  \n",
            "  inflating: __MACOSX/+_1516_640_640_label_Car Accident Detection.v2i.yolov7pytorch/train/labels/._severityV2_7_jpg.rf.cad1435fa4ea6c88df36dc9980bc8645.txt  \n",
            "  inflating: +_1516_640_640_label_Car Accident Detection.v2i.yolov7pytorch/train/labels/accidentFrame407_jpg.rf.7ae9d945747571d40213b5b01465c45b.txt  \n",
            "  inflating: __MACOSX/+_1516_640_640_label_Car Accident Detection.v2i.yolov7pytorch/train/labels/._accidentFrame407_jpg.rf.7ae9d945747571d40213b5b01465c45b.txt  \n",
            "  inflating: +_1516_640_640_label_Car Accident Detection.v2i.yolov7pytorch/train/labels/argusAcc174_jpg.rf.297467611cf01f64b95340b00b7af03f.txt  \n",
            "  inflating: __MACOSX/+_1516_640_640_label_Car Accident Detection.v2i.yolov7pytorch/train/labels/._argusAcc174_jpg.rf.297467611cf01f64b95340b00b7af03f.txt  \n",
            "  inflating: +_1516_640_640_label_Car Accident Detection.v2i.yolov7pytorch/train/labels/Screenshot-301-_png_jpg.rf.d77183a9d2e65f93064b50853838648f.txt  \n",
            "  inflating: __MACOSX/+_1516_640_640_label_Car Accident Detection.v2i.yolov7pytorch/train/labels/._Screenshot-301-_png_jpg.rf.d77183a9d2e65f93064b50853838648f.txt  \n",
            "  inflating: +_1516_640_640_label_Car Accident Detection.v2i.yolov7pytorch/train/labels/severityV3_8_jpeg_jpg.rf.c91d7d884e82c5db07250ff89bf6b225.txt  \n",
            "  inflating: __MACOSX/+_1516_640_640_label_Car Accident Detection.v2i.yolov7pytorch/train/labels/._severityV3_8_jpeg_jpg.rf.c91d7d884e82c5db07250ff89bf6b225.txt  \n",
            "  inflating: +_1516_640_640_label_Car Accident Detection.v2i.yolov7pytorch/train/labels/photo174_jpg.rf.f98e2304aaa151e1f51a7241d1aee7dc.txt  \n",
            "  inflating: __MACOSX/+_1516_640_640_label_Car Accident Detection.v2i.yolov7pytorch/train/labels/._photo174_jpg.rf.f98e2304aaa151e1f51a7241d1aee7dc.txt  \n",
            "  inflating: +_1516_640_640_label_Car Accident Detection.v2i.yolov7pytorch/train/labels/Image81_jpg.rf.c51cbb3a255adcf543b146e3960350ce.txt  \n",
            "  inflating: __MACOSX/+_1516_640_640_label_Car Accident Detection.v2i.yolov7pytorch/train/labels/._Image81_jpg.rf.c51cbb3a255adcf543b146e3960350ce.txt  \n",
            "  inflating: +_1516_640_640_label_Car Accident Detection.v2i.yolov7pytorch/train/labels/test12_15_jpg.rf.3a4655a417145790878e3025f3b38410.txt  \n",
            "  inflating: __MACOSX/+_1516_640_640_label_Car Accident Detection.v2i.yolov7pytorch/train/labels/._test12_15_jpg.rf.3a4655a417145790878e3025f3b38410.txt  \n",
            "  inflating: +_1516_640_640_label_Car Accident Detection.v2i.yolov7pytorch/train/labels/vlcsnap-2020-01-16-00h01m56s483_png.rf.29692489e8a99ce7f7193d26d866c9fd.txt  \n",
            "  inflating: __MACOSX/+_1516_640_640_label_Car Accident Detection.v2i.yolov7pytorch/train/labels/._vlcsnap-2020-01-16-00h01m56s483_png.rf.29692489e8a99ce7f7193d26d866c9fd.txt  \n",
            "  inflating: +_1516_640_640_label_Car Accident Detection.v2i.yolov7pytorch/train/labels/images-42_jpg.rf.0470b9caf6040a631d809a0971fc5cb0.txt  \n",
            "  inflating: __MACOSX/+_1516_640_640_label_Car Accident Detection.v2i.yolov7pytorch/train/labels/._images-42_jpg.rf.0470b9caf6040a631d809a0971fc5cb0.txt  \n",
            "  inflating: +_1516_640_640_label_Car Accident Detection.v2i.yolov7pytorch/train/labels/severityV2_24_jpg.rf.7f966309e39c19c4f35b80eb5739ff3e.txt  \n",
            "  inflating: __MACOSX/+_1516_640_640_label_Car Accident Detection.v2i.yolov7pytorch/train/labels/._severityV2_24_jpg.rf.7f966309e39c19c4f35b80eb5739ff3e.txt  \n",
            "  inflating: +_1516_640_640_label_Car Accident Detection.v2i.yolov7pytorch/train/labels/buy1_jpg.rf.28b934d3c8dba89bcec339e5b87c3bc3.txt  \n",
            "  inflating: __MACOSX/+_1516_640_640_label_Car Accident Detection.v2i.yolov7pytorch/train/labels/._buy1_jpg.rf.28b934d3c8dba89bcec339e5b87c3bc3.txt  \n",
            "  inflating: +_1516_640_640_label_Car Accident Detection.v2i.yolov7pytorch/train/labels/images-1_jpg.rf.6aee90d8c0a81953aa8187e9788ffddf.txt  \n",
            "  inflating: __MACOSX/+_1516_640_640_label_Car Accident Detection.v2i.yolov7pytorch/train/labels/._images-1_jpg.rf.6aee90d8c0a81953aa8187e9788ffddf.txt  \n",
            "  inflating: +_1516_640_640_label_Car Accident Detection.v2i.yolov7pytorch/train/labels/Screenshot-46-_png_jpg.rf.5bb6781a7147f136ef4fb5312fbd821a.txt  \n",
            "  inflating: __MACOSX/+_1516_640_640_label_Car Accident Detection.v2i.yolov7pytorch/train/labels/._Screenshot-46-_png_jpg.rf.5bb6781a7147f136ef4fb5312fbd821a.txt  \n",
            "  inflating: +_1516_640_640_label_Car Accident Detection.v2i.yolov7pytorch/train/labels/test17_18_jpg.rf.0c66b8bd07077746619b915295feb0ee.txt  \n",
            "  inflating: __MACOSX/+_1516_640_640_label_Car Accident Detection.v2i.yolov7pytorch/train/labels/._test17_18_jpg.rf.0c66b8bd07077746619b915295feb0ee.txt  \n",
            "  inflating: +_1516_640_640_label_Car Accident Detection.v2i.yolov7pytorch/train/labels/Screenshot-459-_png_jpg.rf.cca19997ee95cdcd33198f30a5b3a5f7.txt  \n",
            "  inflating: __MACOSX/+_1516_640_640_label_Car Accident Detection.v2i.yolov7pytorch/train/labels/._Screenshot-459-_png_jpg.rf.cca19997ee95cdcd33198f30a5b3a5f7.txt  \n",
            "  inflating: +_1516_640_640_label_Car Accident Detection.v2i.yolov7pytorch/train/labels/vlcsnap-2020-01-15-21h54m11s134_png.rf.981252d2f61a4e185cb5fd28b2f12621.txt  \n",
            "  inflating: __MACOSX/+_1516_640_640_label_Car Accident Detection.v2i.yolov7pytorch/train/labels/._vlcsnap-2020-01-15-21h54m11s134_png.rf.981252d2f61a4e185cb5fd28b2f12621.txt  \n",
            "  inflating: +_1516_640_640_label_Car Accident Detection.v2i.yolov7pytorch/train/labels/download_jpg.rf.9a5b18cbab9d86779c39a1c1da8f96bf.txt  \n",
            "  inflating: __MACOSX/+_1516_640_640_label_Car Accident Detection.v2i.yolov7pytorch/train/labels/._download_jpg.rf.9a5b18cbab9d86779c39a1c1da8f96bf.txt  \n",
            "  inflating: +_1516_640_640_label_Car Accident Detection.v2i.yolov7pytorch/train/labels/images-2_jpg.rf.f0a4344cd7205ad338440697cd2c854c.txt  \n",
            "  inflating: __MACOSX/+_1516_640_640_label_Car Accident Detection.v2i.yolov7pytorch/train/labels/._images-2_jpg.rf.f0a4344cd7205ad338440697cd2c854c.txt  \n",
            "  inflating: +_1516_640_640_label_Car Accident Detection.v2i.yolov7pytorch/train/labels/1-99_jpg.rf.175d2d7831c98cd9392cadc59f4a0e23.txt  \n",
            "  inflating: __MACOSX/+_1516_640_640_label_Car Accident Detection.v2i.yolov7pytorch/train/labels/._1-99_jpg.rf.175d2d7831c98cd9392cadc59f4a0e23.txt  \n",
            "  inflating: +_1516_640_640_label_Car Accident Detection.v2i.yolov7pytorch/train/labels/Semi-RealisticVD-206_jpg.rf.109a05430a4b6ee0d8487d47e14cc26c.txt  \n",
            "  inflating: __MACOSX/+_1516_640_640_label_Car Accident Detection.v2i.yolov7pytorch/train/labels/._Semi-RealisticVD-206_jpg.rf.109a05430a4b6ee0d8487d47e14cc26c.txt  \n",
            "  inflating: +_1516_640_640_label_Car Accident Detection.v2i.yolov7pytorch/train/labels/test25_26_jpg.rf.1818e2e782cd865b89201b5615b88dd9.txt  \n",
            "  inflating: __MACOSX/+_1516_640_640_label_Car Accident Detection.v2i.yolov7pytorch/train/labels/._test25_26_jpg.rf.1818e2e782cd865b89201b5615b88dd9.txt  \n",
            "  inflating: +_1516_640_640_label_Car Accident Detection.v2i.yolov7pytorch/train/labels/test10_12_jpg.rf.47f84a8a7b94efb5ffc5006c9a53fb05.txt  \n",
            "  inflating: __MACOSX/+_1516_640_640_label_Car Accident Detection.v2i.yolov7pytorch/train/labels/._test10_12_jpg.rf.47f84a8a7b94efb5ffc5006c9a53fb05.txt  \n",
            "  inflating: +_1516_640_640_label_Car Accident Detection.v2i.yolov7pytorch/train/labels/acc372_jpg.rf.78361664b3c60306cbd3b201ef783138.txt  \n",
            "  inflating: __MACOSX/+_1516_640_640_label_Car Accident Detection.v2i.yolov7pytorch/train/labels/._acc372_jpg.rf.78361664b3c60306cbd3b201ef783138.txt  \n",
            "  inflating: +_1516_640_640_label_Car Accident Detection.v2i.yolov7pytorch/train/labels/images-55-_jpeg_jpg.rf.8b0f6bf64012f15c2802df106cdbaf3c.txt  \n",
            "  inflating: __MACOSX/+_1516_640_640_label_Car Accident Detection.v2i.yolov7pytorch/train/labels/._images-55-_jpeg_jpg.rf.8b0f6bf64012f15c2802df106cdbaf3c.txt  \n",
            "  inflating: +_1516_640_640_label_Car Accident Detection.v2i.yolov7pytorch/train/labels/Severity_Detect_V18_jpg.rf.e4231b363845158bfa563ca77050515c.txt  \n",
            "  inflating: __MACOSX/+_1516_640_640_label_Car Accident Detection.v2i.yolov7pytorch/train/labels/._Severity_Detect_V18_jpg.rf.e4231b363845158bfa563ca77050515c.txt  \n",
            "  inflating: +_1516_640_640_label_Car Accident Detection.v2i.yolov7pytorch/train/labels/argusAccident42_jpg.rf.e571a54cdbc956784cc0ebfa974a736c.txt  \n",
            "  inflating: __MACOSX/+_1516_640_640_label_Car Accident Detection.v2i.yolov7pytorch/train/labels/._argusAccident42_jpg.rf.e571a54cdbc956784cc0ebfa974a736c.txt  \n",
            "  inflating: +_1516_640_640_label_Car Accident Detection.v2i.yolov7pytorch/train/labels/traffic_img22_jpg.rf.e8bc8989d7f8eedebafa0db87f434003.txt  \n",
            "  inflating: __MACOSX/+_1516_640_640_label_Car Accident Detection.v2i.yolov7pytorch/train/labels/._traffic_img22_jpg.rf.e8bc8989d7f8eedebafa0db87f434003.txt  \n",
            "  inflating: +_1516_640_640_label_Car Accident Detection.v2i.yolov7pytorch/train/labels/test10_38_jpg.rf.521df27544471a31e1e4695c83831744.txt  \n",
            "  inflating: __MACOSX/+_1516_640_640_label_Car Accident Detection.v2i.yolov7pytorch/train/labels/._test10_38_jpg.rf.521df27544471a31e1e4695c83831744.txt  \n",
            "  inflating: +_1516_640_640_label_Car Accident Detection.v2i.yolov7pytorch/train/labels/argusAcc439_jpg.rf.394745bdf34fc247655cfffce3cd8cfb.txt  \n",
            "  inflating: __MACOSX/+_1516_640_640_label_Car Accident Detection.v2i.yolov7pytorch/train/labels/._argusAcc439_jpg.rf.394745bdf34fc247655cfffce3cd8cfb.txt  \n",
            "  inflating: +_1516_640_640_label_Car Accident Detection.v2i.yolov7pytorch/train/labels/Semi-RealisticVD-45_jpg.rf.7cc53d392520a233fd6ae0b13e4bf1ca.txt  \n",
            "  inflating: __MACOSX/+_1516_640_640_label_Car Accident Detection.v2i.yolov7pytorch/train/labels/._Semi-RealisticVD-45_jpg.rf.7cc53d392520a233fd6ae0b13e4bf1ca.txt  \n",
            "  inflating: +_1516_640_640_label_Car Accident Detection.v2i.yolov7pytorch/train/labels/severityV3_19_jpeg_jpg.rf.9cadaf8fc2ca0c74bb4e5745bba5449c.txt  \n",
            "  inflating: __MACOSX/+_1516_640_640_label_Car Accident Detection.v2i.yolov7pytorch/train/labels/._severityV3_19_jpeg_jpg.rf.9cadaf8fc2ca0c74bb4e5745bba5449c.txt  \n",
            "  inflating: +_1516_640_640_label_Car Accident Detection.v2i.yolov7pytorch/train/labels/traffic_img1834_jpg.rf.83c23d1a9aa8d8eca6e2306a3d08c6c4.txt  \n",
            "  inflating: __MACOSX/+_1516_640_640_label_Car Accident Detection.v2i.yolov7pytorch/train/labels/._traffic_img1834_jpg.rf.83c23d1a9aa8d8eca6e2306a3d08c6c4.txt  \n",
            "  inflating: +_1516_640_640_label_Car Accident Detection.v2i.yolov7pytorch/train/labels/severityV4_18_jpg.rf.cb191cabf2c605ed31f4011bdcd7123a.txt  \n",
            "  inflating: __MACOSX/+_1516_640_640_label_Car Accident Detection.v2i.yolov7pytorch/train/labels/._severityV4_18_jpg.rf.cb191cabf2c605ed31f4011bdcd7123a.txt  \n",
            "  inflating: +_1516_640_640_label_Car Accident Detection.v2i.yolov7pytorch/train/labels/acc321_jpg.rf.0507c49aba4cac4df5091dee13973a9d.txt  \n",
            "  inflating: __MACOSX/+_1516_640_640_label_Car Accident Detection.v2i.yolov7pytorch/train/labels/._acc321_jpg.rf.0507c49aba4cac4df5091dee13973a9d.txt  \n",
            "  inflating: +_1516_640_640_label_Car Accident Detection.v2i.yolov7pytorch/train/labels/argusAccident110_jpg.rf.4d2e8ac18252f674d572af67aedd43a0.txt  \n",
            "  inflating: __MACOSX/+_1516_640_640_label_Car Accident Detection.v2i.yolov7pytorch/train/labels/._argusAccident110_jpg.rf.4d2e8ac18252f674d572af67aedd43a0.txt  \n",
            "  inflating: +_1516_640_640_label_Car Accident Detection.v2i.yolov7pytorch/train/labels/severityV3_3_jpeg_jpg.rf.6578dda1eb769f5df5c7c1e7dddfe4bc.txt  \n",
            "  inflating: __MACOSX/+_1516_640_640_label_Car Accident Detection.v2i.yolov7pytorch/train/labels/._severityV3_3_jpeg_jpg.rf.6578dda1eb769f5df5c7c1e7dddfe4bc.txt  \n",
            "  inflating: +_1516_640_640_label_Car Accident Detection.v2i.yolov7pytorch/train/labels/severityV4_84_jpg.rf.d1983ab3519a049e08fbeffee07a41ce.txt  \n",
            "  inflating: __MACOSX/+_1516_640_640_label_Car Accident Detection.v2i.yolov7pytorch/train/labels/._severityV4_84_jpg.rf.d1983ab3519a049e08fbeffee07a41ce.txt  \n",
            "  inflating: +_1516_640_640_label_Car Accident Detection.v2i.yolov7pytorch/train/labels/severityV4_13_jpg.rf.c78aa33c34ec46af72872b120c16e959.txt  \n",
            "  inflating: __MACOSX/+_1516_640_640_label_Car Accident Detection.v2i.yolov7pytorch/train/labels/._severityV4_13_jpg.rf.c78aa33c34ec46af72872b120c16e959.txt  \n",
            "  inflating: +_1516_640_640_label_Car Accident Detection.v2i.yolov7pytorch/train/labels/Image65_jpg.rf.1273f0b28e9191479b7d5cd0c4acca45.txt  \n",
            "  inflating: __MACOSX/+_1516_640_640_label_Car Accident Detection.v2i.yolov7pytorch/train/labels/._Image65_jpg.rf.1273f0b28e9191479b7d5cd0c4acca45.txt  \n",
            "  inflating: +_1516_640_640_label_Car Accident Detection.v2i.yolov7pytorch/train/labels/vlcsnap-2020-01-16-11h24m16s151_png.rf.6fce513035c562e547b70bc1ff77205a.txt  \n",
            "  inflating: __MACOSX/+_1516_640_640_label_Car Accident Detection.v2i.yolov7pytorch/train/labels/._vlcsnap-2020-01-16-11h24m16s151_png.rf.6fce513035c562e547b70bc1ff77205a.txt  \n",
            "  inflating: +_1516_640_640_label_Car Accident Detection.v2i.yolov7pytorch/train/labels/4-105_jpg.rf.f70e4f168993240a6ffbf8c6d870ba12.txt  \n",
            "  inflating: __MACOSX/+_1516_640_640_label_Car Accident Detection.v2i.yolov7pytorch/train/labels/._4-105_jpg.rf.f70e4f168993240a6ffbf8c6d870ba12.txt  \n",
            "  inflating: +_1516_640_640_label_Car Accident Detection.v2i.yolov7pytorch/train/labels/CARimage241_jpg.rf.df748c942ec7cb53d3708486eeffe492.txt  \n",
            "  inflating: __MACOSX/+_1516_640_640_label_Car Accident Detection.v2i.yolov7pytorch/train/labels/._CARimage241_jpg.rf.df748c942ec7cb53d3708486eeffe492.txt  \n",
            "  inflating: +_1516_640_640_label_Car Accident Detection.v2i.yolov7pytorch/train/labels/2-34_jpg.rf.b3d88edfcf090f9ca332e39c3a0fac3e.txt  \n",
            "  inflating: __MACOSX/+_1516_640_640_label_Car Accident Detection.v2i.yolov7pytorch/train/labels/._2-34_jpg.rf.b3d88edfcf090f9ca332e39c3a0fac3e.txt  \n",
            "  inflating: +_1516_640_640_label_Car Accident Detection.v2i.yolov7pytorch/train/labels/test29_14_jpg.rf.40f11ecded8eb77381dc5affd2dc845e.txt  \n",
            "  inflating: __MACOSX/+_1516_640_640_label_Car Accident Detection.v2i.yolov7pytorch/train/labels/._test29_14_jpg.rf.40f11ecded8eb77381dc5affd2dc845e.txt  \n",
            "  inflating: +_1516_640_640_label_Car Accident Detection.v2i.yolov7pytorch/train/labels/9k_-8-_jpg.rf.5e562de2300b2b83623474fdc836a4a2.txt  \n",
            "  inflating: __MACOSX/+_1516_640_640_label_Car Accident Detection.v2i.yolov7pytorch/train/labels/._9k_-8-_jpg.rf.5e562de2300b2b83623474fdc836a4a2.txt  \n",
            "  inflating: +_1516_640_640_label_Car Accident Detection.v2i.yolov7pytorch/train/labels/vlcsnap-2020-01-15-20h43m34s131_png.rf.b04575bad4c0a351fb622921505f9e84.txt  \n",
            "  inflating: __MACOSX/+_1516_640_640_label_Car Accident Detection.v2i.yolov7pytorch/train/labels/._vlcsnap-2020-01-15-20h43m34s131_png.rf.b04575bad4c0a351fb622921505f9e84.txt  \n",
            "  inflating: +_1516_640_640_label_Car Accident Detection.v2i.yolov7pytorch/train/labels/test1_27_jpg.rf.facbbacc091fc6fc2145e5bd0c9363ad.txt  \n",
            "  inflating: __MACOSX/+_1516_640_640_label_Car Accident Detection.v2i.yolov7pytorch/train/labels/._test1_27_jpg.rf.facbbacc091fc6fc2145e5bd0c9363ad.txt  \n",
            "  inflating: +_1516_640_640_label_Car Accident Detection.v2i.yolov7pytorch/train/labels/frame_1298_jpg.rf.f01d9a0fff8b454502b6fea447393c90.txt  \n",
            "  inflating: __MACOSX/+_1516_640_640_label_Car Accident Detection.v2i.yolov7pytorch/train/labels/._frame_1298_jpg.rf.f01d9a0fff8b454502b6fea447393c90.txt  \n",
            "  inflating: +_1516_640_640_label_Car Accident Detection.v2i.yolov7pytorch/train/labels/2-33_jpg.rf.2be819fb6b0eed40ade766d2b4c1994d.txt  \n",
            "  inflating: __MACOSX/+_1516_640_640_label_Car Accident Detection.v2i.yolov7pytorch/train/labels/._2-33_jpg.rf.2be819fb6b0eed40ade766d2b4c1994d.txt  \n",
            "  inflating: +_1516_640_640_label_Car Accident Detection.v2i.yolov7pytorch/train/labels/severityV4_86_jpg.rf.e242d05131a1ca9835e9214c37cde945.txt  \n",
            "  inflating: __MACOSX/+_1516_640_640_label_Car Accident Detection.v2i.yolov7pytorch/train/labels/._severityV4_86_jpg.rf.e242d05131a1ca9835e9214c37cde945.txt  \n",
            "  inflating: +_1516_640_640_label_Car Accident Detection.v2i.yolov7pytorch/train/labels/Screenshot-447-_png_jpg.rf.d51b252811806b4478e969322b89a045.txt  \n",
            "  inflating: __MACOSX/+_1516_640_640_label_Car Accident Detection.v2i.yolov7pytorch/train/labels/._Screenshot-447-_png_jpg.rf.d51b252811806b4478e969322b89a045.txt  \n",
            "  inflating: +_1516_640_640_label_Car Accident Detection.v2i.yolov7pytorch/train/labels/10-134_jpg.rf.db8fa8d6f080d2206abadb93a496bed9.txt  \n",
            "  inflating: __MACOSX/+_1516_640_640_label_Car Accident Detection.v2i.yolov7pytorch/train/labels/._10-134_jpg.rf.db8fa8d6f080d2206abadb93a496bed9.txt  \n",
            "  inflating: +_1516_640_640_label_Car Accident Detection.v2i.yolov7pytorch/train/labels/image68_jpg.rf.6e76894d68fa9df0cec6fe90391435de.txt  \n",
            "  inflating: __MACOSX/+_1516_640_640_label_Car Accident Detection.v2i.yolov7pytorch/train/labels/._image68_jpg.rf.6e76894d68fa9df0cec6fe90391435de.txt  \n",
            "  inflating: +_1516_640_640_label_Car Accident Detection.v2i.yolov7pytorch/train/labels/accidentFrame2758_jpg.rf.d1c40525b4347e31e518550ccbb86fe7.txt  \n",
            "  inflating: __MACOSX/+_1516_640_640_label_Car Accident Detection.v2i.yolov7pytorch/train/labels/._accidentFrame2758_jpg.rf.d1c40525b4347e31e518550ccbb86fe7.txt  \n",
            "  inflating: +_1516_640_640_label_Car Accident Detection.v2i.yolov7pytorch/train/labels/images-36_jpg.rf.2aed13b03005e932d15a2a8485cab151.txt  \n",
            "  inflating: __MACOSX/+_1516_640_640_label_Car Accident Detection.v2i.yolov7pytorch/train/labels/._images-36_jpg.rf.2aed13b03005e932d15a2a8485cab151.txt  \n",
            "  inflating: +_1516_640_640_label_Car Accident Detection.v2i.yolov7pytorch/train/labels/severityV4_79_jpg.rf.ff8af2c09b774ad20a16d5147ef9ef41.txt  \n",
            "  inflating: __MACOSX/+_1516_640_640_label_Car Accident Detection.v2i.yolov7pytorch/train/labels/._severityV4_79_jpg.rf.ff8af2c09b774ad20a16d5147ef9ef41.txt  \n",
            "  inflating: +_1516_640_640_label_Car Accident Detection.v2i.yolov7pytorch/train/labels/285_jpeg_jpg.rf.157c0bc3fad46fb4b2515bef8ff5a368.txt  \n",
            "  inflating: __MACOSX/+_1516_640_640_label_Car Accident Detection.v2i.yolov7pytorch/train/labels/._285_jpeg_jpg.rf.157c0bc3fad46fb4b2515bef8ff5a368.txt  \n",
            "  inflating: +_1516_640_640_label_Car Accident Detection.v2i.yolov7pytorch/train/labels/Screenshot-423-_png_jpg.rf.6171bac48b695c39af4902d06567375a.txt  \n",
            "  inflating: __MACOSX/+_1516_640_640_label_Car Accident Detection.v2i.yolov7pytorch/train/labels/._Screenshot-423-_png_jpg.rf.6171bac48b695c39af4902d06567375a.txt  \n",
            "  inflating: +_1516_640_640_label_Car Accident Detection.v2i.yolov7pytorch/train/labels/download_jpg.rf.eee9d1c0189b87aa5c02fcf785d8cb52.txt  \n",
            "  inflating: __MACOSX/+_1516_640_640_label_Car Accident Detection.v2i.yolov7pytorch/train/labels/._download_jpg.rf.eee9d1c0189b87aa5c02fcf785d8cb52.txt  \n",
            "  inflating: +_1516_640_640_label_Car Accident Detection.v2i.yolov7pytorch/train/labels/test25_30_jpg.rf.cf2d94e58b4363f97f50bee371db10dc.txt  \n",
            "  inflating: __MACOSX/+_1516_640_640_label_Car Accident Detection.v2i.yolov7pytorch/train/labels/._test25_30_jpg.rf.cf2d94e58b4363f97f50bee371db10dc.txt  \n",
            "  inflating: +_1516_640_640_label_Car Accident Detection.v2i.yolov7pytorch/train/labels/traffic_img993_jpg.rf.b32641ec182dcb01a56c87cdf46ae7da.txt  \n",
            "  inflating: __MACOSX/+_1516_640_640_label_Car Accident Detection.v2i.yolov7pytorch/train/labels/._traffic_img993_jpg.rf.b32641ec182dcb01a56c87cdf46ae7da.txt  \n",
            "  inflating: +_1516_640_640_label_Car Accident Detection.v2i.yolov7pytorch/train/labels/Image86_jpg.rf.ef256013eacad3c07eb2d6862b13aa8f.txt  \n",
            "  inflating: __MACOSX/+_1516_640_640_label_Car Accident Detection.v2i.yolov7pytorch/train/labels/._Image86_jpg.rf.ef256013eacad3c07eb2d6862b13aa8f.txt  \n",
            "  inflating: +_1516_640_640_label_Car Accident Detection.v2i.yolov7pytorch/train/labels/Severity_Detect_V9_jpg.rf.b2c6ba2460d21860e212573a9983c657.txt  \n",
            "  inflating: __MACOSX/+_1516_640_640_label_Car Accident Detection.v2i.yolov7pytorch/train/labels/._Severity_Detect_V9_jpg.rf.b2c6ba2460d21860e212573a9983c657.txt  \n",
            "  inflating: +_1516_640_640_label_Car Accident Detection.v2i.yolov7pytorch/train/labels/Semi-RealisticVD-30_jpg.rf.9deab8ab9291ba6dbbf21bf57ec65dad.txt  \n",
            "  inflating: __MACOSX/+_1516_640_640_label_Car Accident Detection.v2i.yolov7pytorch/train/labels/._Semi-RealisticVD-30_jpg.rf.9deab8ab9291ba6dbbf21bf57ec65dad.txt  \n",
            "  inflating: +_1516_640_640_label_Car Accident Detection.v2i.yolov7pytorch/train/labels/argusAcc439_jpg.rf.af07f9b8398d4db69a9a2397ea49bb8d.txt  \n",
            "  inflating: __MACOSX/+_1516_640_640_label_Car Accident Detection.v2i.yolov7pytorch/train/labels/._argusAcc439_jpg.rf.af07f9b8398d4db69a9a2397ea49bb8d.txt  \n",
            "  inflating: +_1516_640_640_label_Car Accident Detection.v2i.yolov7pytorch/train/labels/images-1_jpg.rf.f1efd9e92dfacdb2db235c16c205ec35.txt  \n",
            "  inflating: __MACOSX/+_1516_640_640_label_Car Accident Detection.v2i.yolov7pytorch/train/labels/._images-1_jpg.rf.f1efd9e92dfacdb2db235c16c205ec35.txt  \n",
            "  inflating: +_1516_640_640_label_Car Accident Detection.v2i.yolov7pytorch/train/labels/vd55_jpeg_jpg.rf.3114d3cf9ad753f6d10fc697eadd2caa.txt  \n",
            "  inflating: __MACOSX/+_1516_640_640_label_Car Accident Detection.v2i.yolov7pytorch/train/labels/._vd55_jpeg_jpg.rf.3114d3cf9ad753f6d10fc697eadd2caa.txt  \n",
            "  inflating: +_1516_640_640_label_Car Accident Detection.v2i.yolov7pytorch/train/labels/severityV4_87_jpg.rf.5371b870bb67e07ae3e1e5aa25bc4bbe.txt  \n",
            "  inflating: __MACOSX/+_1516_640_640_label_Car Accident Detection.v2i.yolov7pytorch/train/labels/._severityV4_87_jpg.rf.5371b870bb67e07ae3e1e5aa25bc4bbe.txt  \n",
            "  inflating: +_1516_640_640_label_Car Accident Detection.v2i.yolov7pytorch/train/labels/vlcsnap-2020-01-16-13h46m40s075_png.rf.1faeb76f250e2dc113fc4c9ecbdc59c0.txt  \n",
            "  inflating: __MACOSX/+_1516_640_640_label_Car Accident Detection.v2i.yolov7pytorch/train/labels/._vlcsnap-2020-01-16-13h46m40s075_png.rf.1faeb76f250e2dc113fc4c9ecbdc59c0.txt  \n",
            "  inflating: +_1516_640_640_label_Car Accident Detection.v2i.yolov7pytorch/train/labels/2-16_jpg.rf.caeb3267b511221ecb0319ba21a6806c.txt  \n",
            "  inflating: __MACOSX/+_1516_640_640_label_Car Accident Detection.v2i.yolov7pytorch/train/labels/._2-16_jpg.rf.caeb3267b511221ecb0319ba21a6806c.txt  \n"
          ]
        }
      ],
      "source": [
        "!unzip /content/drive/MyDrive/+_1516_640_640_label_Car_Accident_Detection.v2i.yolov7pytorch.zip"
      ]
    },
    {
      "cell_type": "code",
      "execution_count": 4,
      "metadata": {
        "colab": {
          "base_uri": "https://localhost:8080/"
        },
        "id": "tylFMtRiP_ye",
        "outputId": "6ec31f44-4858-4c95-a8da-dc99e0a380dd"
      },
      "outputs": [
        {
          "output_type": "stream",
          "name": "stdout",
          "text": [
            "Collecting ultralytics\n",
            "  Downloading ultralytics-8.3.54-py3-none-any.whl.metadata (35 kB)\n",
            "Requirement already satisfied: numpy>=1.23.0 in /usr/local/lib/python3.10/dist-packages (from ultralytics) (1.26.4)\n",
            "Requirement already satisfied: matplotlib>=3.3.0 in /usr/local/lib/python3.10/dist-packages (from ultralytics) (3.8.0)\n",
            "Requirement already satisfied: opencv-python>=4.6.0 in /usr/local/lib/python3.10/dist-packages (from ultralytics) (4.10.0.84)\n",
            "Requirement already satisfied: pillow>=7.1.2 in /usr/local/lib/python3.10/dist-packages (from ultralytics) (11.0.0)\n",
            "Requirement already satisfied: pyyaml>=5.3.1 in /usr/local/lib/python3.10/dist-packages (from ultralytics) (6.0.2)\n",
            "Requirement already satisfied: requests>=2.23.0 in /usr/local/lib/python3.10/dist-packages (from ultralytics) (2.32.3)\n",
            "Requirement already satisfied: scipy>=1.4.1 in /usr/local/lib/python3.10/dist-packages (from ultralytics) (1.13.1)\n",
            "Requirement already satisfied: torch>=1.8.0 in /usr/local/lib/python3.10/dist-packages (from ultralytics) (2.5.1+cu121)\n",
            "Requirement already satisfied: torchvision>=0.9.0 in /usr/local/lib/python3.10/dist-packages (from ultralytics) (0.20.1+cu121)\n",
            "Requirement already satisfied: tqdm>=4.64.0 in /usr/local/lib/python3.10/dist-packages (from ultralytics) (4.67.1)\n",
            "Requirement already satisfied: psutil in /usr/local/lib/python3.10/dist-packages (from ultralytics) (5.9.5)\n",
            "Requirement already satisfied: py-cpuinfo in /usr/local/lib/python3.10/dist-packages (from ultralytics) (9.0.0)\n",
            "Requirement already satisfied: pandas>=1.1.4 in /usr/local/lib/python3.10/dist-packages (from ultralytics) (2.2.2)\n",
            "Requirement already satisfied: seaborn>=0.11.0 in /usr/local/lib/python3.10/dist-packages (from ultralytics) (0.13.2)\n",
            "Collecting ultralytics-thop>=2.0.0 (from ultralytics)\n",
            "  Downloading ultralytics_thop-2.0.13-py3-none-any.whl.metadata (9.4 kB)\n",
            "Requirement already satisfied: contourpy>=1.0.1 in /usr/local/lib/python3.10/dist-packages (from matplotlib>=3.3.0->ultralytics) (1.3.1)\n",
            "Requirement already satisfied: cycler>=0.10 in /usr/local/lib/python3.10/dist-packages (from matplotlib>=3.3.0->ultralytics) (0.12.1)\n",
            "Requirement already satisfied: fonttools>=4.22.0 in /usr/local/lib/python3.10/dist-packages (from matplotlib>=3.3.0->ultralytics) (4.55.3)\n",
            "Requirement already satisfied: kiwisolver>=1.0.1 in /usr/local/lib/python3.10/dist-packages (from matplotlib>=3.3.0->ultralytics) (1.4.7)\n",
            "Requirement already satisfied: packaging>=20.0 in /usr/local/lib/python3.10/dist-packages (from matplotlib>=3.3.0->ultralytics) (24.2)\n",
            "Requirement already satisfied: pyparsing>=2.3.1 in /usr/local/lib/python3.10/dist-packages (from matplotlib>=3.3.0->ultralytics) (3.2.0)\n",
            "Requirement already satisfied: python-dateutil>=2.7 in /usr/local/lib/python3.10/dist-packages (from matplotlib>=3.3.0->ultralytics) (2.8.2)\n",
            "Requirement already satisfied: pytz>=2020.1 in /usr/local/lib/python3.10/dist-packages (from pandas>=1.1.4->ultralytics) (2024.2)\n",
            "Requirement already satisfied: tzdata>=2022.7 in /usr/local/lib/python3.10/dist-packages (from pandas>=1.1.4->ultralytics) (2024.2)\n",
            "Requirement already satisfied: charset-normalizer<4,>=2 in /usr/local/lib/python3.10/dist-packages (from requests>=2.23.0->ultralytics) (3.4.0)\n",
            "Requirement already satisfied: idna<4,>=2.5 in /usr/local/lib/python3.10/dist-packages (from requests>=2.23.0->ultralytics) (3.10)\n",
            "Requirement already satisfied: urllib3<3,>=1.21.1 in /usr/local/lib/python3.10/dist-packages (from requests>=2.23.0->ultralytics) (2.2.3)\n",
            "Requirement already satisfied: certifi>=2017.4.17 in /usr/local/lib/python3.10/dist-packages (from requests>=2.23.0->ultralytics) (2024.12.14)\n",
            "Requirement already satisfied: filelock in /usr/local/lib/python3.10/dist-packages (from torch>=1.8.0->ultralytics) (3.16.1)\n",
            "Requirement already satisfied: typing-extensions>=4.8.0 in /usr/local/lib/python3.10/dist-packages (from torch>=1.8.0->ultralytics) (4.12.2)\n",
            "Requirement already satisfied: networkx in /usr/local/lib/python3.10/dist-packages (from torch>=1.8.0->ultralytics) (3.4.2)\n",
            "Requirement already satisfied: jinja2 in /usr/local/lib/python3.10/dist-packages (from torch>=1.8.0->ultralytics) (3.1.4)\n",
            "Requirement already satisfied: fsspec in /usr/local/lib/python3.10/dist-packages (from torch>=1.8.0->ultralytics) (2024.10.0)\n",
            "Requirement already satisfied: sympy==1.13.1 in /usr/local/lib/python3.10/dist-packages (from torch>=1.8.0->ultralytics) (1.13.1)\n",
            "Requirement already satisfied: mpmath<1.4,>=1.1.0 in /usr/local/lib/python3.10/dist-packages (from sympy==1.13.1->torch>=1.8.0->ultralytics) (1.3.0)\n",
            "Requirement already satisfied: six>=1.5 in /usr/local/lib/python3.10/dist-packages (from python-dateutil>=2.7->matplotlib>=3.3.0->ultralytics) (1.17.0)\n",
            "Requirement already satisfied: MarkupSafe>=2.0 in /usr/local/lib/python3.10/dist-packages (from jinja2->torch>=1.8.0->ultralytics) (3.0.2)\n",
            "Downloading ultralytics-8.3.54-py3-none-any.whl (903 kB)\n",
            "\u001b[2K   \u001b[90m━━━━━━━━━━━━━━━━━━━━━━━━━━━━━━━━━━━━━━━━\u001b[0m \u001b[32m903.1/903.1 kB\u001b[0m \u001b[31m39.7 MB/s\u001b[0m eta \u001b[36m0:00:00\u001b[0m\n",
            "\u001b[?25hDownloading ultralytics_thop-2.0.13-py3-none-any.whl (26 kB)\n",
            "Installing collected packages: ultralytics-thop, ultralytics\n",
            "Successfully installed ultralytics-8.3.54 ultralytics-thop-2.0.13\n"
          ]
        }
      ],
      "source": [
        "!pip install ultralytics"
      ]
    },
    {
      "cell_type": "code",
      "execution_count": 5,
      "metadata": {
        "colab": {
          "base_uri": "https://localhost:8080/"
        },
        "id": "GPDdIknXRP2c",
        "outputId": "3fc7abf4-bf50-4673-fdd1-31950a673165"
      },
      "outputs": [
        {
          "output_type": "stream",
          "name": "stdout",
          "text": [
            "Creating new Ultralytics Settings v0.0.6 file ✅ \n",
            "View Ultralytics Settings with 'yolo settings' or at '/root/.config/Ultralytics/settings.json'\n",
            "Update Settings with 'yolo settings key=value', i.e. 'yolo settings runs_dir=path/to/dir'. For help see https://docs.ultralytics.com/quickstart/#ultralytics-settings.\n",
            "JSONDict(\"/root/.config/Ultralytics/settings.json\"):\n",
            "{\n",
            "  \"settings_version\": \"0.0.6\",\n",
            "  \"datasets_dir\": \"/content/datasets\",\n",
            "  \"weights_dir\": \"weights\",\n",
            "  \"runs_dir\": \"runs\",\n",
            "  \"uuid\": \"569f3ba64b326db489132663f79cd37279811de477381b83ac131e6cdd129cbb\",\n",
            "  \"sync\": true,\n",
            "  \"api_key\": \"\",\n",
            "  \"openai_api_key\": \"\",\n",
            "  \"clearml\": true,\n",
            "  \"comet\": true,\n",
            "  \"dvc\": true,\n",
            "  \"hub\": true,\n",
            "  \"mlflow\": true,\n",
            "  \"neptune\": true,\n",
            "  \"raytune\": true,\n",
            "  \"tensorboard\": true,\n",
            "  \"wandb\": false,\n",
            "  \"vscode_msg\": true\n",
            "}\n",
            "💡 Learn more about Ultralytics Settings at https://docs.ultralytics.com/quickstart/#ultralytics-settings\n"
          ]
        }
      ],
      "source": [
        "!yolo settings wandb=False"
      ]
    },
    {
      "cell_type": "code",
      "execution_count": 6,
      "metadata": {
        "id": "rpTvNvwNR8wW"
      },
      "outputs": [],
      "source": [
        "from ultralytics import YOLO"
      ]
    },
    {
      "cell_type": "code",
      "execution_count": 7,
      "metadata": {
        "colab": {
          "base_uri": "https://localhost:8080/"
        },
        "id": "2Yf3JtovRhrU",
        "outputId": "7e0229ab-b9e9-4bec-b595-d917f1ce1cec"
      },
      "outputs": [
        {
          "output_type": "stream",
          "name": "stdout",
          "text": [
            "Downloading https://github.com/ultralytics/assets/releases/download/v8.3.0/yolov9c.pt to 'yolov9c.pt'...\n"
          ]
        },
        {
          "output_type": "stream",
          "name": "stderr",
          "text": [
            "100%|██████████| 49.4M/49.4M [00:01<00:00, 46.7MB/s]\n"
          ]
        }
      ],
      "source": [
        "model = YOLO(\"yolov9c.pt\")"
      ]
    },
    {
      "cell_type": "code",
      "execution_count": 8,
      "metadata": {
        "colab": {
          "base_uri": "https://localhost:8080/"
        },
        "id": "x1zRSJMCY-ft",
        "outputId": "eb5ccb20-69a1-4682-d252-2ada8293bed3"
      },
      "outputs": [
        {
          "output_type": "stream",
          "name": "stdout",
          "text": [
            "YOLOv9c summary: 618 layers, 25,590,912 parameters, 0 gradients, 104.0 GFLOPs\n"
          ]
        },
        {
          "output_type": "execute_result",
          "data": {
            "text/plain": [
              "(618, 25590912, 0, 104.02268160000003)"
            ]
          },
          "metadata": {},
          "execution_count": 8
        }
      ],
      "source": [
        "model.info()"
      ]
    },
    {
      "cell_type": "code",
      "execution_count": 9,
      "metadata": {
        "colab": {
          "base_uri": "https://localhost:8080/"
        },
        "id": "TE06EaiGSBEt",
        "outputId": "c31dadb6-ff2b-4916-a47c-87fb58612132"
      },
      "outputs": [
        {
          "output_type": "stream",
          "name": "stdout",
          "text": [
            "Ultralytics 8.3.54 🚀 Python-3.10.12 torch-2.5.1+cu121 CUDA:0 (NVIDIA L4, 22700MiB)\n",
            "\u001b[34m\u001b[1mengine/trainer: \u001b[0mtask=detect, mode=train, model=yolov9c.pt, data=/content/+_1516_640_640_label_Car Accident Detection.v2i.yolov7pytorch/data.yaml, epochs=100, time=None, patience=100, batch=32, imgsz=640, save=True, save_period=-1, cache=False, device=0, workers=8, project=None, name=train, exist_ok=False, pretrained=True, optimizer=auto, verbose=True, seed=0, deterministic=True, single_cls=False, rect=False, cos_lr=False, close_mosaic=10, resume=False, amp=True, fraction=1.0, profile=True, freeze=None, multi_scale=False, overlap_mask=True, mask_ratio=4, dropout=0.0, val=True, split=val, save_json=False, save_hybrid=False, conf=None, iou=0.7, max_det=300, half=False, dnn=False, plots=True, source=None, vid_stride=1, stream_buffer=False, visualize=False, augment=False, agnostic_nms=False, classes=None, retina_masks=False, embed=None, show=False, save_frames=False, save_txt=False, save_conf=False, save_crop=False, show_labels=True, show_conf=True, show_boxes=True, line_width=None, format=torchscript, keras=False, optimize=False, int8=False, dynamic=False, simplify=True, opset=None, workspace=None, nms=False, lr0=0.01, lrf=0.01, momentum=0.937, weight_decay=0.0005, warmup_epochs=3.0, warmup_momentum=0.8, warmup_bias_lr=0.1, box=7.5, cls=0.5, dfl=1.5, pose=12.0, kobj=1.0, nbs=64, hsv_h=0.015, hsv_s=0.7, hsv_v=0.4, degrees=0.0, translate=0.1, scale=0.5, shear=0.0, perspective=0.0, flipud=0.0, fliplr=0.5, bgr=0.0, mosaic=1.0, mixup=0.0, copy_paste=0.0, copy_paste_mode=flip, auto_augment=randaugment, erasing=0.4, crop_fraction=1.0, cfg=None, tracker=botsort.yaml, save_dir=runs/detect/train\n",
            "Downloading https://ultralytics.com/assets/Arial.ttf to '/root/.config/Ultralytics/Arial.ttf'...\n"
          ]
        },
        {
          "output_type": "stream",
          "name": "stderr",
          "text": [
            "100%|██████████| 755k/755k [00:00<00:00, 45.6MB/s]\n"
          ]
        },
        {
          "output_type": "stream",
          "name": "stdout",
          "text": [
            "Overriding model.yaml nc=80 with nc=1\n",
            "\n",
            "                   from  n    params  module                                       arguments                     \n",
            "  0                  -1  1      1856  ultralytics.nn.modules.conv.Conv             [3, 64, 3, 2]                 \n",
            "  1                  -1  1     73984  ultralytics.nn.modules.conv.Conv             [64, 128, 3, 2]               \n",
            "  2                  -1  1    212864  ultralytics.nn.modules.block.RepNCSPELAN4    [128, 256, 128, 64, 1]        \n",
            "  3                  -1  1    164352  ultralytics.nn.modules.block.ADown           [256, 256]                    \n",
            "  4                  -1  1    847616  ultralytics.nn.modules.block.RepNCSPELAN4    [256, 512, 256, 128, 1]       \n",
            "  5                  -1  1    656384  ultralytics.nn.modules.block.ADown           [512, 512]                    \n",
            "  6                  -1  1   2857472  ultralytics.nn.modules.block.RepNCSPELAN4    [512, 512, 512, 256, 1]       \n",
            "  7                  -1  1    656384  ultralytics.nn.modules.block.ADown           [512, 512]                    \n",
            "  8                  -1  1   2857472  ultralytics.nn.modules.block.RepNCSPELAN4    [512, 512, 512, 256, 1]       \n",
            "  9                  -1  1    656896  ultralytics.nn.modules.block.SPPELAN         [512, 512, 256]               \n",
            " 10                  -1  1         0  torch.nn.modules.upsampling.Upsample         [None, 2, 'nearest']          \n",
            " 11             [-1, 6]  1         0  ultralytics.nn.modules.conv.Concat           [1]                           \n",
            " 12                  -1  1   3119616  ultralytics.nn.modules.block.RepNCSPELAN4    [1024, 512, 512, 256, 1]      \n",
            " 13                  -1  1         0  torch.nn.modules.upsampling.Upsample         [None, 2, 'nearest']          \n",
            " 14             [-1, 4]  1         0  ultralytics.nn.modules.conv.Concat           [1]                           \n",
            " 15                  -1  1    912640  ultralytics.nn.modules.block.RepNCSPELAN4    [1024, 256, 256, 128, 1]      \n",
            " 16                  -1  1    164352  ultralytics.nn.modules.block.ADown           [256, 256]                    \n",
            " 17            [-1, 12]  1         0  ultralytics.nn.modules.conv.Concat           [1]                           \n",
            " 18                  -1  1   2988544  ultralytics.nn.modules.block.RepNCSPELAN4    [768, 512, 512, 256, 1]       \n",
            " 19                  -1  1    656384  ultralytics.nn.modules.block.ADown           [512, 512]                    \n",
            " 20             [-1, 9]  1         0  ultralytics.nn.modules.conv.Concat           [1]                           \n",
            " 21                  -1  1   3119616  ultralytics.nn.modules.block.RepNCSPELAN4    [1024, 512, 512, 256, 1]      \n",
            " 22        [15, 18, 21]  1   5583571  ultralytics.nn.modules.head.Detect           [1, [256, 512, 512]]          \n",
            "YOLOv9c summary: 618 layers, 25,530,003 parameters, 25,529,987 gradients, 103.7 GFLOPs\n",
            "\n",
            "Transferred 931/937 items from pretrained weights\n",
            "\u001b[34m\u001b[1mTensorBoard: \u001b[0mStart with 'tensorboard --logdir runs/detect/train', view at http://localhost:6006/\n",
            "Freezing layer 'model.22.dfl.conv.weight'\n",
            "\u001b[34m\u001b[1mAMP: \u001b[0mrunning Automatic Mixed Precision (AMP) checks...\n",
            "Downloading https://github.com/ultralytics/assets/releases/download/v8.3.0/yolo11n.pt to 'yolo11n.pt'...\n"
          ]
        },
        {
          "output_type": "stream",
          "name": "stderr",
          "text": [
            "100%|██████████| 5.35M/5.35M [00:00<00:00, 329MB/s]\n"
          ]
        },
        {
          "output_type": "stream",
          "name": "stdout",
          "text": [
            "\u001b[34m\u001b[1mAMP: \u001b[0mchecks passed ✅\n"
          ]
        },
        {
          "output_type": "stream",
          "name": "stderr",
          "text": [
            "\u001b[34m\u001b[1mtrain: \u001b[0mScanning /content/+_1516_640_640_label_Car Accident Detection.v2i.yolov7pytorch/train/labels... 385 images, 1 backgrounds, 0 corrupt: 100%|██████████| 386/386 [00:00<00:00, 1126.27it/s]"
          ]
        },
        {
          "output_type": "stream",
          "name": "stdout",
          "text": [
            "\u001b[34m\u001b[1mtrain: \u001b[0mNew cache created: /content/+_1516_640_640_label_Car Accident Detection.v2i.yolov7pytorch/train/labels.cache\n"
          ]
        },
        {
          "output_type": "stream",
          "name": "stderr",
          "text": [
            "\n"
          ]
        },
        {
          "output_type": "stream",
          "name": "stdout",
          "text": [
            "\u001b[34m\u001b[1malbumentations: \u001b[0mBlur(p=0.01, blur_limit=(3, 7)), MedianBlur(p=0.01, blur_limit=(3, 7)), ToGray(p=0.01, num_output_channels=3, method='weighted_average'), CLAHE(p=0.01, clip_limit=(1.0, 4.0), tile_grid_size=(8, 8))\n"
          ]
        },
        {
          "output_type": "stream",
          "name": "stderr",
          "text": [
            "/usr/local/lib/python3.10/dist-packages/albumentations/__init__.py:24: UserWarning: A new version of Albumentations is available: 1.4.24 (you have 1.4.20). Upgrade using: pip install -U albumentations. To disable automatic update checks, set the environment variable NO_ALBUMENTATIONS_UPDATE to 1.\n",
            "  check_for_updates()\n",
            "\u001b[34m\u001b[1mval: \u001b[0mScanning /content/+_1516_640_640_label_Car Accident Detection.v2i.yolov7pytorch/valid/labels... 79 images, 0 backgrounds, 0 corrupt: 100%|██████████| 79/79 [00:00<00:00, 1101.57it/s]"
          ]
        },
        {
          "output_type": "stream",
          "name": "stdout",
          "text": [
            "\u001b[34m\u001b[1mval: \u001b[0mNew cache created: /content/+_1516_640_640_label_Car Accident Detection.v2i.yolov7pytorch/valid/labels.cache\n"
          ]
        },
        {
          "output_type": "stream",
          "name": "stderr",
          "text": [
            "\n"
          ]
        },
        {
          "output_type": "stream",
          "name": "stdout",
          "text": [
            "Plotting labels to runs/detect/train/labels.jpg... \n",
            "\u001b[34m\u001b[1moptimizer:\u001b[0m 'optimizer=auto' found, ignoring 'lr0=0.01' and 'momentum=0.937' and determining best 'optimizer', 'lr0' and 'momentum' automatically... \n",
            "\u001b[34m\u001b[1moptimizer:\u001b[0m AdamW(lr=0.002, momentum=0.9) with parameter groups 154 weight(decay=0.0), 161 weight(decay=0.0005), 160 bias(decay=0.0)\n",
            "\u001b[34m\u001b[1mTensorBoard: \u001b[0mmodel graph visualization added ✅\n",
            "Image sizes 640 train, 640 val\n",
            "Using 8 dataloader workers\n",
            "Logging results to \u001b[1mruns/detect/train\u001b[0m\n",
            "Starting training for 100 epochs...\n",
            "\n",
            "      Epoch    GPU_mem   box_loss   cls_loss   dfl_loss  Instances       Size\n"
          ]
        },
        {
          "output_type": "stream",
          "name": "stderr",
          "text": [
            "      1/100      21.1G        1.2      4.746      1.597          6        640: 100%|██████████| 13/13 [00:14<00:00,  1.09s/it]\n",
            "                 Class     Images  Instances      Box(P          R      mAP50  mAP50-95): 100%|██████████| 2/2 [00:03<00:00,  1.63s/it]"
          ]
        },
        {
          "output_type": "stream",
          "name": "stdout",
          "text": [
            "                   all         79         88    0.00991      0.443    0.00733    0.00253\n"
          ]
        },
        {
          "output_type": "stream",
          "name": "stderr",
          "text": [
            "\n"
          ]
        },
        {
          "output_type": "stream",
          "name": "stdout",
          "text": [
            "\n",
            "      Epoch    GPU_mem   box_loss   cls_loss   dfl_loss  Instances       Size\n"
          ]
        },
        {
          "output_type": "stream",
          "name": "stderr",
          "text": [
            "      2/100      20.9G      1.427      3.376      1.701          4        640: 100%|██████████| 13/13 [00:12<00:00,  1.06it/s]\n",
            "                 Class     Images  Instances      Box(P          R      mAP50  mAP50-95): 100%|██████████| 2/2 [00:01<00:00,  1.51it/s]"
          ]
        },
        {
          "output_type": "stream",
          "name": "stdout",
          "text": [
            "                   all         79         88    0.00762      0.489    0.00664    0.00213\n"
          ]
        },
        {
          "output_type": "stream",
          "name": "stderr",
          "text": [
            "\n"
          ]
        },
        {
          "output_type": "stream",
          "name": "stdout",
          "text": [
            "\n",
            "      Epoch    GPU_mem   box_loss   cls_loss   dfl_loss  Instances       Size\n"
          ]
        },
        {
          "output_type": "stream",
          "name": "stderr",
          "text": [
            "      3/100      20.9G      1.625      2.371      1.887          4        640: 100%|██████████| 13/13 [00:12<00:00,  1.05it/s]\n",
            "                 Class     Images  Instances      Box(P          R      mAP50  mAP50-95): 100%|██████████| 2/2 [00:01<00:00,  1.45it/s]"
          ]
        },
        {
          "output_type": "stream",
          "name": "stdout",
          "text": [
            "                   all         79         88    0.00762      0.489    0.00664    0.00213\n"
          ]
        },
        {
          "output_type": "stream",
          "name": "stderr",
          "text": [
            "\n"
          ]
        },
        {
          "output_type": "stream",
          "name": "stdout",
          "text": [
            "\n",
            "      Epoch    GPU_mem   box_loss   cls_loss   dfl_loss  Instances       Size\n"
          ]
        },
        {
          "output_type": "stream",
          "name": "stderr",
          "text": [
            "      4/100        21G      1.779      2.395      1.948          4        640: 100%|██████████| 13/13 [00:12<00:00,  1.06it/s]\n",
            "                 Class     Images  Instances      Box(P          R      mAP50  mAP50-95): 100%|██████████| 2/2 [00:01<00:00,  1.46it/s]\n"
          ]
        },
        {
          "output_type": "stream",
          "name": "stdout",
          "text": [
            "                   all         79         88   0.000427      0.114   0.000281   8.67e-05\n",
            "\n",
            "      Epoch    GPU_mem   box_loss   cls_loss   dfl_loss  Instances       Size\n"
          ]
        },
        {
          "output_type": "stream",
          "name": "stderr",
          "text": [
            "      5/100      20.9G      1.798      2.442      1.987          3        640: 100%|██████████| 13/13 [00:12<00:00,  1.08it/s]\n",
            "                 Class     Images  Instances      Box(P          R      mAP50  mAP50-95): 100%|██████████| 2/2 [00:01<00:00,  1.52it/s]\n"
          ]
        },
        {
          "output_type": "stream",
          "name": "stdout",
          "text": [
            "                   all         79         88   5.66e-05     0.0114   2.89e-05   2.89e-06\n",
            "\n",
            "      Epoch    GPU_mem   box_loss   cls_loss   dfl_loss  Instances       Size\n"
          ]
        },
        {
          "output_type": "stream",
          "name": "stderr",
          "text": [
            "      6/100        21G      1.662      2.291      1.914          4        640: 100%|██████████| 13/13 [00:12<00:00,  1.07it/s]\n",
            "                 Class     Images  Instances      Box(P          R      mAP50  mAP50-95): 100%|██████████| 2/2 [00:01<00:00,  1.49it/s]"
          ]
        },
        {
          "output_type": "stream",
          "name": "stdout",
          "text": [
            "                   all         79         88    0.00248      0.455    0.00195   0.000601\n"
          ]
        },
        {
          "output_type": "stream",
          "name": "stderr",
          "text": [
            "\n"
          ]
        },
        {
          "output_type": "stream",
          "name": "stdout",
          "text": [
            "\n",
            "      Epoch    GPU_mem   box_loss   cls_loss   dfl_loss  Instances       Size\n"
          ]
        },
        {
          "output_type": "stream",
          "name": "stderr",
          "text": [
            "      7/100        21G       1.78      2.269      2.004          3        640: 100%|██████████| 13/13 [00:12<00:00,  1.08it/s]\n",
            "                 Class     Images  Instances      Box(P          R      mAP50  mAP50-95): 100%|██████████| 2/2 [00:01<00:00,  1.53it/s]"
          ]
        },
        {
          "output_type": "stream",
          "name": "stdout",
          "text": [
            "                   all         79         88    0.00165      0.398    0.00137   0.000516\n"
          ]
        },
        {
          "output_type": "stream",
          "name": "stderr",
          "text": [
            "\n"
          ]
        },
        {
          "output_type": "stream",
          "name": "stdout",
          "text": [
            "\n",
            "      Epoch    GPU_mem   box_loss   cls_loss   dfl_loss  Instances       Size\n"
          ]
        },
        {
          "output_type": "stream",
          "name": "stderr",
          "text": [
            "      8/100      21.1G      1.778      2.299      1.988          6        640: 100%|██████████| 13/13 [00:12<00:00,  1.07it/s]\n",
            "                 Class     Images  Instances      Box(P          R      mAP50  mAP50-95): 100%|██████████| 2/2 [00:01<00:00,  1.50it/s]"
          ]
        },
        {
          "output_type": "stream",
          "name": "stdout",
          "text": [
            "                   all         79         88    0.00183      0.102   0.000925   0.000205\n"
          ]
        },
        {
          "output_type": "stream",
          "name": "stderr",
          "text": [
            "\n"
          ]
        },
        {
          "output_type": "stream",
          "name": "stdout",
          "text": [
            "\n",
            "      Epoch    GPU_mem   box_loss   cls_loss   dfl_loss  Instances       Size\n"
          ]
        },
        {
          "output_type": "stream",
          "name": "stderr",
          "text": [
            "      9/100        21G      1.788      2.224      2.011          4        640: 100%|██████████| 13/13 [00:12<00:00,  1.07it/s]\n",
            "                 Class     Images  Instances      Box(P          R      mAP50  mAP50-95): 100%|██████████| 2/2 [00:01<00:00,  1.53it/s]"
          ]
        },
        {
          "output_type": "stream",
          "name": "stdout",
          "text": [
            "                   all         79         88    0.00402      0.443    0.00329    0.00106\n"
          ]
        },
        {
          "output_type": "stream",
          "name": "stderr",
          "text": [
            "\n"
          ]
        },
        {
          "output_type": "stream",
          "name": "stdout",
          "text": [
            "\n",
            "      Epoch    GPU_mem   box_loss   cls_loss   dfl_loss  Instances       Size\n"
          ]
        },
        {
          "output_type": "stream",
          "name": "stderr",
          "text": [
            "     10/100      21.1G      1.815      2.281      1.991          5        640: 100%|██████████| 13/13 [00:12<00:00,  1.07it/s]\n",
            "                 Class     Images  Instances      Box(P          R      mAP50  mAP50-95): 100%|██████████| 2/2 [00:01<00:00,  1.50it/s]"
          ]
        },
        {
          "output_type": "stream",
          "name": "stdout",
          "text": [
            "                   all         79         88    0.00517     0.0455    0.00141   0.000398\n"
          ]
        },
        {
          "output_type": "stream",
          "name": "stderr",
          "text": [
            "\n"
          ]
        },
        {
          "output_type": "stream",
          "name": "stdout",
          "text": [
            "\n",
            "      Epoch    GPU_mem   box_loss   cls_loss   dfl_loss  Instances       Size\n"
          ]
        },
        {
          "output_type": "stream",
          "name": "stderr",
          "text": [
            "     11/100      20.9G      1.727      2.107      1.912          2        640: 100%|██████████| 13/13 [00:12<00:00,  1.07it/s]\n",
            "                 Class     Images  Instances      Box(P          R      mAP50  mAP50-95): 100%|██████████| 2/2 [00:01<00:00,  1.51it/s]"
          ]
        },
        {
          "output_type": "stream",
          "name": "stdout",
          "text": [
            "                   all         79         88     0.0055      0.307    0.00356   0.000881\n"
          ]
        },
        {
          "output_type": "stream",
          "name": "stderr",
          "text": [
            "\n"
          ]
        },
        {
          "output_type": "stream",
          "name": "stdout",
          "text": [
            "\n",
            "      Epoch    GPU_mem   box_loss   cls_loss   dfl_loss  Instances       Size\n"
          ]
        },
        {
          "output_type": "stream",
          "name": "stderr",
          "text": [
            "     12/100        21G      1.731        2.2      1.868          4        640: 100%|██████████| 13/13 [00:12<00:00,  1.07it/s]\n",
            "                 Class     Images  Instances      Box(P          R      mAP50  mAP50-95): 100%|██████████| 2/2 [00:01<00:00,  1.46it/s]\n"
          ]
        },
        {
          "output_type": "stream",
          "name": "stdout",
          "text": [
            "                   all         79         88     0.0195       0.25    0.00875    0.00283\n",
            "\n",
            "      Epoch    GPU_mem   box_loss   cls_loss   dfl_loss  Instances       Size\n"
          ]
        },
        {
          "output_type": "stream",
          "name": "stderr",
          "text": [
            "     13/100      20.9G      1.625      2.202      1.842          2        640: 100%|██████████| 13/13 [00:12<00:00,  1.07it/s]\n",
            "                 Class     Images  Instances      Box(P          R      mAP50  mAP50-95): 100%|██████████| 2/2 [00:01<00:00,  1.67it/s]"
          ]
        },
        {
          "output_type": "stream",
          "name": "stdout",
          "text": [
            "                   all         79         88     0.0195       0.25    0.00875    0.00283\n"
          ]
        },
        {
          "output_type": "stream",
          "name": "stderr",
          "text": [
            "\n"
          ]
        },
        {
          "output_type": "stream",
          "name": "stdout",
          "text": [
            "\n",
            "      Epoch    GPU_mem   box_loss   cls_loss   dfl_loss  Instances       Size\n"
          ]
        },
        {
          "output_type": "stream",
          "name": "stderr",
          "text": [
            "     14/100        21G       1.54          2        1.8          4        640: 100%|██████████| 13/13 [00:12<00:00,  1.07it/s]\n",
            "                 Class     Images  Instances      Box(P          R      mAP50  mAP50-95): 100%|██████████| 2/2 [00:01<00:00,  1.51it/s]"
          ]
        },
        {
          "output_type": "stream",
          "name": "stdout",
          "text": [
            "                   all         79         88     0.0418     0.0114    0.00262   0.000492\n"
          ]
        },
        {
          "output_type": "stream",
          "name": "stderr",
          "text": [
            "\n"
          ]
        },
        {
          "output_type": "stream",
          "name": "stdout",
          "text": [
            "\n",
            "      Epoch    GPU_mem   box_loss   cls_loss   dfl_loss  Instances       Size\n"
          ]
        },
        {
          "output_type": "stream",
          "name": "stderr",
          "text": [
            "     15/100      20.9G      1.578      2.098      1.831          1        640: 100%|██████████| 13/13 [00:12<00:00,  1.07it/s]\n",
            "                 Class     Images  Instances      Box(P          R      mAP50  mAP50-95): 100%|██████████| 2/2 [00:01<00:00,  1.51it/s]"
          ]
        },
        {
          "output_type": "stream",
          "name": "stdout",
          "text": [
            "                   all         79         88     0.0431      0.102     0.0217    0.00612\n"
          ]
        },
        {
          "output_type": "stream",
          "name": "stderr",
          "text": [
            "\n"
          ]
        },
        {
          "output_type": "stream",
          "name": "stdout",
          "text": [
            "\n",
            "      Epoch    GPU_mem   box_loss   cls_loss   dfl_loss  Instances       Size\n"
          ]
        },
        {
          "output_type": "stream",
          "name": "stderr",
          "text": [
            "     16/100      21.1G      1.602      2.028      1.826          6        640: 100%|██████████| 13/13 [00:12<00:00,  1.07it/s]\n",
            "                 Class     Images  Instances      Box(P          R      mAP50  mAP50-95): 100%|██████████| 2/2 [00:01<00:00,  1.47it/s]"
          ]
        },
        {
          "output_type": "stream",
          "name": "stdout",
          "text": [
            "                   all         79         88      0.152      0.341      0.141     0.0516\n"
          ]
        },
        {
          "output_type": "stream",
          "name": "stderr",
          "text": [
            "\n"
          ]
        },
        {
          "output_type": "stream",
          "name": "stdout",
          "text": [
            "\n",
            "      Epoch    GPU_mem   box_loss   cls_loss   dfl_loss  Instances       Size\n"
          ]
        },
        {
          "output_type": "stream",
          "name": "stderr",
          "text": [
            "     17/100      20.9G      1.518      1.863      1.758          3        640: 100%|██████████| 13/13 [00:12<00:00,  1.07it/s]\n",
            "                 Class     Images  Instances      Box(P          R      mAP50  mAP50-95): 100%|██████████| 2/2 [00:01<00:00,  1.50it/s]\n"
          ]
        },
        {
          "output_type": "stream",
          "name": "stdout",
          "text": [
            "                   all         79         88      0.108      0.318     0.0889     0.0315\n",
            "\n",
            "      Epoch    GPU_mem   box_loss   cls_loss   dfl_loss  Instances       Size\n"
          ]
        },
        {
          "output_type": "stream",
          "name": "stderr",
          "text": [
            "     18/100      21.1G      1.563      1.901      1.773          8        640: 100%|██████████| 13/13 [00:12<00:00,  1.07it/s]\n",
            "                 Class     Images  Instances      Box(P          R      mAP50  mAP50-95): 100%|██████████| 2/2 [00:01<00:00,  1.46it/s]"
          ]
        },
        {
          "output_type": "stream",
          "name": "stdout",
          "text": [
            "                   all         79         88      0.206      0.375      0.217     0.0686\n"
          ]
        },
        {
          "output_type": "stream",
          "name": "stderr",
          "text": [
            "\n"
          ]
        },
        {
          "output_type": "stream",
          "name": "stdout",
          "text": [
            "\n",
            "      Epoch    GPU_mem   box_loss   cls_loss   dfl_loss  Instances       Size\n"
          ]
        },
        {
          "output_type": "stream",
          "name": "stderr",
          "text": [
            "     19/100      21.1G      1.508      1.826      1.742          8        640: 100%|██████████| 13/13 [00:12<00:00,  1.07it/s]\n",
            "                 Class     Images  Instances      Box(P          R      mAP50  mAP50-95): 100%|██████████| 2/2 [00:01<00:00,  1.51it/s]"
          ]
        },
        {
          "output_type": "stream",
          "name": "stdout",
          "text": [
            "                   all         79         88      0.296       0.42      0.271      0.101\n"
          ]
        },
        {
          "output_type": "stream",
          "name": "stderr",
          "text": [
            "\n"
          ]
        },
        {
          "output_type": "stream",
          "name": "stdout",
          "text": [
            "\n",
            "      Epoch    GPU_mem   box_loss   cls_loss   dfl_loss  Instances       Size\n"
          ]
        },
        {
          "output_type": "stream",
          "name": "stderr",
          "text": [
            "     20/100      21.1G      1.513      1.854      1.755         10        640: 100%|██████████| 13/13 [00:12<00:00,  1.07it/s]\n",
            "                 Class     Images  Instances      Box(P          R      mAP50  mAP50-95): 100%|██████████| 2/2 [00:01<00:00,  1.47it/s]"
          ]
        },
        {
          "output_type": "stream",
          "name": "stdout",
          "text": [
            "                   all         79         88       0.34      0.523      0.316      0.133\n"
          ]
        },
        {
          "output_type": "stream",
          "name": "stderr",
          "text": [
            "\n"
          ]
        },
        {
          "output_type": "stream",
          "name": "stdout",
          "text": [
            "\n",
            "      Epoch    GPU_mem   box_loss   cls_loss   dfl_loss  Instances       Size\n"
          ]
        },
        {
          "output_type": "stream",
          "name": "stderr",
          "text": [
            "     21/100      20.9G      1.404      1.765      1.693          4        640: 100%|██████████| 13/13 [00:12<00:00,  1.07it/s]\n",
            "                 Class     Images  Instances      Box(P          R      mAP50  mAP50-95): 100%|██████████| 2/2 [00:01<00:00,  1.51it/s]"
          ]
        },
        {
          "output_type": "stream",
          "name": "stdout",
          "text": [
            "                   all         79         88      0.293       0.42      0.259      0.104\n"
          ]
        },
        {
          "output_type": "stream",
          "name": "stderr",
          "text": [
            "\n"
          ]
        },
        {
          "output_type": "stream",
          "name": "stdout",
          "text": [
            "\n",
            "      Epoch    GPU_mem   box_loss   cls_loss   dfl_loss  Instances       Size\n"
          ]
        },
        {
          "output_type": "stream",
          "name": "stderr",
          "text": [
            "     22/100      21.1G      1.559      1.946      1.746          3        640: 100%|██████████| 13/13 [00:12<00:00,  1.07it/s]\n",
            "                 Class     Images  Instances      Box(P          R      mAP50  mAP50-95): 100%|██████████| 2/2 [00:01<00:00,  1.46it/s]"
          ]
        },
        {
          "output_type": "stream",
          "name": "stdout",
          "text": [
            "                   all         79         88      0.339      0.443      0.299      0.143\n"
          ]
        },
        {
          "output_type": "stream",
          "name": "stderr",
          "text": [
            "\n"
          ]
        },
        {
          "output_type": "stream",
          "name": "stdout",
          "text": [
            "\n",
            "      Epoch    GPU_mem   box_loss   cls_loss   dfl_loss  Instances       Size\n"
          ]
        },
        {
          "output_type": "stream",
          "name": "stderr",
          "text": [
            "     23/100      20.9G      1.457       1.73      1.701          7        640: 100%|██████████| 13/13 [00:12<00:00,  1.07it/s]\n",
            "                 Class     Images  Instances      Box(P          R      mAP50  mAP50-95): 100%|██████████| 2/2 [00:01<00:00,  1.52it/s]"
          ]
        },
        {
          "output_type": "stream",
          "name": "stdout",
          "text": [
            "                   all         79         88       0.39      0.443      0.342       0.16\n"
          ]
        },
        {
          "output_type": "stream",
          "name": "stderr",
          "text": [
            "\n"
          ]
        },
        {
          "output_type": "stream",
          "name": "stdout",
          "text": [
            "\n",
            "      Epoch    GPU_mem   box_loss   cls_loss   dfl_loss  Instances       Size\n"
          ]
        },
        {
          "output_type": "stream",
          "name": "stderr",
          "text": [
            "     24/100      21.1G       1.42      1.671      1.672          4        640: 100%|██████████| 13/13 [00:12<00:00,  1.07it/s]\n",
            "                 Class     Images  Instances      Box(P          R      mAP50  mAP50-95): 100%|██████████| 2/2 [00:01<00:00,  1.47it/s]"
          ]
        },
        {
          "output_type": "stream",
          "name": "stdout",
          "text": [
            "                   all         79         88      0.306      0.409       0.34      0.181\n"
          ]
        },
        {
          "output_type": "stream",
          "name": "stderr",
          "text": [
            "\n"
          ]
        },
        {
          "output_type": "stream",
          "name": "stdout",
          "text": [
            "\n",
            "      Epoch    GPU_mem   box_loss   cls_loss   dfl_loss  Instances       Size\n"
          ]
        },
        {
          "output_type": "stream",
          "name": "stderr",
          "text": [
            "     25/100      20.9G        1.4      1.665      1.676         10        640: 100%|██████████| 13/13 [00:12<00:00,  1.07it/s]\n",
            "                 Class     Images  Instances      Box(P          R      mAP50  mAP50-95): 100%|██████████| 2/2 [00:01<00:00,  1.52it/s]"
          ]
        },
        {
          "output_type": "stream",
          "name": "stdout",
          "text": [
            "                   all         79         88      0.557      0.315      0.316      0.145\n"
          ]
        },
        {
          "output_type": "stream",
          "name": "stderr",
          "text": [
            "\n"
          ]
        },
        {
          "output_type": "stream",
          "name": "stdout",
          "text": [
            "\n",
            "      Epoch    GPU_mem   box_loss   cls_loss   dfl_loss  Instances       Size\n"
          ]
        },
        {
          "output_type": "stream",
          "name": "stderr",
          "text": [
            "     26/100      21.1G      1.436      1.709      1.657          3        640: 100%|██████████| 13/13 [00:12<00:00,  1.07it/s]\n",
            "                 Class     Images  Instances      Box(P          R      mAP50  mAP50-95): 100%|██████████| 2/2 [00:01<00:00,  1.47it/s]"
          ]
        },
        {
          "output_type": "stream",
          "name": "stdout",
          "text": [
            "                   all         79         88      0.377      0.393      0.317      0.156\n"
          ]
        },
        {
          "output_type": "stream",
          "name": "stderr",
          "text": [
            "\n"
          ]
        },
        {
          "output_type": "stream",
          "name": "stdout",
          "text": [
            "\n",
            "      Epoch    GPU_mem   box_loss   cls_loss   dfl_loss  Instances       Size\n"
          ]
        },
        {
          "output_type": "stream",
          "name": "stderr",
          "text": [
            "     27/100      20.9G      1.408      1.588      1.623          5        640: 100%|██████████| 13/13 [00:12<00:00,  1.07it/s]\n",
            "                 Class     Images  Instances      Box(P          R      mAP50  mAP50-95): 100%|██████████| 2/2 [00:01<00:00,  1.52it/s]"
          ]
        },
        {
          "output_type": "stream",
          "name": "stdout",
          "text": [
            "                   all         79         88      0.445      0.557      0.465      0.233\n"
          ]
        },
        {
          "output_type": "stream",
          "name": "stderr",
          "text": [
            "\n"
          ]
        },
        {
          "output_type": "stream",
          "name": "stdout",
          "text": [
            "\n",
            "      Epoch    GPU_mem   box_loss   cls_loss   dfl_loss  Instances       Size\n"
          ]
        },
        {
          "output_type": "stream",
          "name": "stderr",
          "text": [
            "     28/100      21.1G      1.395      1.638      1.644          8        640: 100%|██████████| 13/13 [00:12<00:00,  1.07it/s]\n",
            "                 Class     Images  Instances      Box(P          R      mAP50  mAP50-95): 100%|██████████| 2/2 [00:01<00:00,  1.47it/s]"
          ]
        },
        {
          "output_type": "stream",
          "name": "stdout",
          "text": [
            "                   all         79         88      0.276      0.398      0.287      0.133\n"
          ]
        },
        {
          "output_type": "stream",
          "name": "stderr",
          "text": [
            "\n"
          ]
        },
        {
          "output_type": "stream",
          "name": "stdout",
          "text": [
            "\n",
            "      Epoch    GPU_mem   box_loss   cls_loss   dfl_loss  Instances       Size\n"
          ]
        },
        {
          "output_type": "stream",
          "name": "stderr",
          "text": [
            "     29/100      20.9G      1.436      1.636      1.693          4        640: 100%|██████████| 13/13 [00:12<00:00,  1.07it/s]\n",
            "                 Class     Images  Instances      Box(P          R      mAP50  mAP50-95): 100%|██████████| 2/2 [00:01<00:00,  1.53it/s]"
          ]
        },
        {
          "output_type": "stream",
          "name": "stdout",
          "text": [
            "                   all         79         88      0.285      0.352      0.241      0.109\n"
          ]
        },
        {
          "output_type": "stream",
          "name": "stderr",
          "text": [
            "\n"
          ]
        },
        {
          "output_type": "stream",
          "name": "stdout",
          "text": [
            "\n",
            "      Epoch    GPU_mem   box_loss   cls_loss   dfl_loss  Instances       Size\n"
          ]
        },
        {
          "output_type": "stream",
          "name": "stderr",
          "text": [
            "     30/100      21.1G      1.298      1.597      1.554          3        640: 100%|██████████| 13/13 [00:12<00:00,  1.07it/s]\n",
            "                 Class     Images  Instances      Box(P          R      mAP50  mAP50-95): 100%|██████████| 2/2 [00:01<00:00,  1.48it/s]"
          ]
        },
        {
          "output_type": "stream",
          "name": "stdout",
          "text": [
            "                   all         79         88      0.369      0.511      0.389        0.2\n"
          ]
        },
        {
          "output_type": "stream",
          "name": "stderr",
          "text": [
            "\n"
          ]
        },
        {
          "output_type": "stream",
          "name": "stdout",
          "text": [
            "\n",
            "      Epoch    GPU_mem   box_loss   cls_loss   dfl_loss  Instances       Size\n"
          ]
        },
        {
          "output_type": "stream",
          "name": "stderr",
          "text": [
            "     31/100      20.9G      1.378      1.596        1.6          4        640: 100%|██████████| 13/13 [00:12<00:00,  1.07it/s]\n",
            "                 Class     Images  Instances      Box(P          R      mAP50  mAP50-95): 100%|██████████| 2/2 [00:01<00:00,  1.51it/s]"
          ]
        },
        {
          "output_type": "stream",
          "name": "stdout",
          "text": [
            "                   all         79         88      0.425      0.375      0.331      0.148\n"
          ]
        },
        {
          "output_type": "stream",
          "name": "stderr",
          "text": [
            "\n"
          ]
        },
        {
          "output_type": "stream",
          "name": "stdout",
          "text": [
            "\n",
            "      Epoch    GPU_mem   box_loss   cls_loss   dfl_loss  Instances       Size\n"
          ]
        },
        {
          "output_type": "stream",
          "name": "stderr",
          "text": [
            "     32/100        21G      1.286      1.494      1.539          3        640: 100%|██████████| 13/13 [00:12<00:00,  1.07it/s]\n",
            "                 Class     Images  Instances      Box(P          R      mAP50  mAP50-95): 100%|██████████| 2/2 [00:01<00:00,  1.47it/s]"
          ]
        },
        {
          "output_type": "stream",
          "name": "stdout",
          "text": [
            "                   all         79         88      0.645      0.475      0.485      0.243\n"
          ]
        },
        {
          "output_type": "stream",
          "name": "stderr",
          "text": [
            "\n"
          ]
        },
        {
          "output_type": "stream",
          "name": "stdout",
          "text": [
            "\n",
            "      Epoch    GPU_mem   box_loss   cls_loss   dfl_loss  Instances       Size\n"
          ]
        },
        {
          "output_type": "stream",
          "name": "stderr",
          "text": [
            "     33/100      20.9G      1.301      1.514      1.576          2        640: 100%|██████████| 13/13 [00:12<00:00,  1.07it/s]\n",
            "                 Class     Images  Instances      Box(P          R      mAP50  mAP50-95): 100%|██████████| 2/2 [00:01<00:00,  1.52it/s]"
          ]
        },
        {
          "output_type": "stream",
          "name": "stdout",
          "text": [
            "                   all         79         88      0.541        0.5      0.425      0.229\n"
          ]
        },
        {
          "output_type": "stream",
          "name": "stderr",
          "text": [
            "\n"
          ]
        },
        {
          "output_type": "stream",
          "name": "stdout",
          "text": [
            "\n",
            "      Epoch    GPU_mem   box_loss   cls_loss   dfl_loss  Instances       Size\n"
          ]
        },
        {
          "output_type": "stream",
          "name": "stderr",
          "text": [
            "     34/100      21.1G      1.325      1.511       1.59          3        640: 100%|██████████| 13/13 [00:12<00:00,  1.07it/s]\n",
            "                 Class     Images  Instances      Box(P          R      mAP50  mAP50-95): 100%|██████████| 2/2 [00:01<00:00,  1.48it/s]"
          ]
        },
        {
          "output_type": "stream",
          "name": "stdout",
          "text": [
            "                   all         79         88      0.469      0.422      0.422      0.204\n"
          ]
        },
        {
          "output_type": "stream",
          "name": "stderr",
          "text": [
            "\n"
          ]
        },
        {
          "output_type": "stream",
          "name": "stdout",
          "text": [
            "\n",
            "      Epoch    GPU_mem   box_loss   cls_loss   dfl_loss  Instances       Size\n"
          ]
        },
        {
          "output_type": "stream",
          "name": "stderr",
          "text": [
            "     35/100      20.9G      1.336      1.674      1.599          2        640: 100%|██████████| 13/13 [00:12<00:00,  1.07it/s]\n",
            "                 Class     Images  Instances      Box(P          R      mAP50  mAP50-95): 100%|██████████| 2/2 [00:01<00:00,  1.52it/s]"
          ]
        },
        {
          "output_type": "stream",
          "name": "stdout",
          "text": [
            "                   all         79         88      0.447       0.58      0.469       0.24\n"
          ]
        },
        {
          "output_type": "stream",
          "name": "stderr",
          "text": [
            "\n"
          ]
        },
        {
          "output_type": "stream",
          "name": "stdout",
          "text": [
            "\n",
            "      Epoch    GPU_mem   box_loss   cls_loss   dfl_loss  Instances       Size\n"
          ]
        },
        {
          "output_type": "stream",
          "name": "stderr",
          "text": [
            "     36/100      21.1G      1.307      1.694      1.602          3        640: 100%|██████████| 13/13 [00:12<00:00,  1.07it/s]\n",
            "                 Class     Images  Instances      Box(P          R      mAP50  mAP50-95): 100%|██████████| 2/2 [00:01<00:00,  1.48it/s]"
          ]
        },
        {
          "output_type": "stream",
          "name": "stdout",
          "text": [
            "                   all         79         88      0.478      0.534      0.538      0.277\n"
          ]
        },
        {
          "output_type": "stream",
          "name": "stderr",
          "text": [
            "\n"
          ]
        },
        {
          "output_type": "stream",
          "name": "stdout",
          "text": [
            "\n",
            "      Epoch    GPU_mem   box_loss   cls_loss   dfl_loss  Instances       Size\n"
          ]
        },
        {
          "output_type": "stream",
          "name": "stderr",
          "text": [
            "     37/100      20.9G      1.281      1.493      1.611          3        640: 100%|██████████| 13/13 [00:12<00:00,  1.07it/s]\n",
            "                 Class     Images  Instances      Box(P          R      mAP50  mAP50-95): 100%|██████████| 2/2 [00:01<00:00,  1.53it/s]"
          ]
        },
        {
          "output_type": "stream",
          "name": "stdout",
          "text": [
            "                   all         79         88      0.593      0.455      0.501      0.263\n"
          ]
        },
        {
          "output_type": "stream",
          "name": "stderr",
          "text": [
            "\n"
          ]
        },
        {
          "output_type": "stream",
          "name": "stdout",
          "text": [
            "\n",
            "      Epoch    GPU_mem   box_loss   cls_loss   dfl_loss  Instances       Size\n"
          ]
        },
        {
          "output_type": "stream",
          "name": "stderr",
          "text": [
            "     38/100      21.1G      1.255      1.412      1.536          5        640: 100%|██████████| 13/13 [00:12<00:00,  1.06it/s]\n",
            "                 Class     Images  Instances      Box(P          R      mAP50  mAP50-95): 100%|██████████| 2/2 [00:01<00:00,  1.47it/s]"
          ]
        },
        {
          "output_type": "stream",
          "name": "stdout",
          "text": [
            "                   all         79         88      0.419       0.55       0.47      0.241\n"
          ]
        },
        {
          "output_type": "stream",
          "name": "stderr",
          "text": [
            "\n"
          ]
        },
        {
          "output_type": "stream",
          "name": "stdout",
          "text": [
            "\n",
            "      Epoch    GPU_mem   box_loss   cls_loss   dfl_loss  Instances       Size\n"
          ]
        },
        {
          "output_type": "stream",
          "name": "stderr",
          "text": [
            "     39/100      20.9G      1.267      1.526      1.564          5        640: 100%|██████████| 13/13 [00:12<00:00,  1.07it/s]\n",
            "                 Class     Images  Instances      Box(P          R      mAP50  mAP50-95): 100%|██████████| 2/2 [00:01<00:00,  1.51it/s]"
          ]
        },
        {
          "output_type": "stream",
          "name": "stdout",
          "text": [
            "                   all         79         88      0.421      0.591      0.482      0.245\n"
          ]
        },
        {
          "output_type": "stream",
          "name": "stderr",
          "text": [
            "\n"
          ]
        },
        {
          "output_type": "stream",
          "name": "stdout",
          "text": [
            "\n",
            "      Epoch    GPU_mem   box_loss   cls_loss   dfl_loss  Instances       Size\n"
          ]
        },
        {
          "output_type": "stream",
          "name": "stderr",
          "text": [
            "     40/100      21.1G      1.349      1.508      1.732          2        640: 100%|██████████| 13/13 [00:12<00:00,  1.07it/s]\n",
            "                 Class     Images  Instances      Box(P          R      mAP50  mAP50-95): 100%|██████████| 2/2 [00:01<00:00,  1.46it/s]\n"
          ]
        },
        {
          "output_type": "stream",
          "name": "stdout",
          "text": [
            "                   all         79         88      0.599      0.523      0.568      0.287\n",
            "\n",
            "      Epoch    GPU_mem   box_loss   cls_loss   dfl_loss  Instances       Size\n"
          ]
        },
        {
          "output_type": "stream",
          "name": "stderr",
          "text": [
            "     41/100      20.9G      1.189      1.367      1.513          3        640: 100%|██████████| 13/13 [00:12<00:00,  1.07it/s]\n",
            "                 Class     Images  Instances      Box(P          R      mAP50  mAP50-95): 100%|██████████| 2/2 [00:01<00:00,  1.52it/s]"
          ]
        },
        {
          "output_type": "stream",
          "name": "stdout",
          "text": [
            "                   all         79         88      0.597      0.466      0.456       0.24\n"
          ]
        },
        {
          "output_type": "stream",
          "name": "stderr",
          "text": [
            "\n"
          ]
        },
        {
          "output_type": "stream",
          "name": "stdout",
          "text": [
            "\n",
            "      Epoch    GPU_mem   box_loss   cls_loss   dfl_loss  Instances       Size\n"
          ]
        },
        {
          "output_type": "stream",
          "name": "stderr",
          "text": [
            "     42/100      21.1G      1.278       1.42      1.561          4        640: 100%|██████████| 13/13 [00:12<00:00,  1.07it/s]\n",
            "                 Class     Images  Instances      Box(P          R      mAP50  mAP50-95): 100%|██████████| 2/2 [00:01<00:00,  1.48it/s]"
          ]
        },
        {
          "output_type": "stream",
          "name": "stdout",
          "text": [
            "                   all         79         88       0.48      0.523      0.504      0.275\n"
          ]
        },
        {
          "output_type": "stream",
          "name": "stderr",
          "text": [
            "\n"
          ]
        },
        {
          "output_type": "stream",
          "name": "stdout",
          "text": [
            "\n",
            "      Epoch    GPU_mem   box_loss   cls_loss   dfl_loss  Instances       Size\n"
          ]
        },
        {
          "output_type": "stream",
          "name": "stderr",
          "text": [
            "     43/100      20.9G      1.184      1.313      1.499          3        640: 100%|██████████| 13/13 [00:12<00:00,  1.07it/s]\n",
            "                 Class     Images  Instances      Box(P          R      mAP50  mAP50-95): 100%|██████████| 2/2 [00:01<00:00,  1.52it/s]"
          ]
        },
        {
          "output_type": "stream",
          "name": "stdout",
          "text": [
            "                   all         79         88       0.71      0.591      0.625      0.326\n"
          ]
        },
        {
          "output_type": "stream",
          "name": "stderr",
          "text": [
            "\n"
          ]
        },
        {
          "output_type": "stream",
          "name": "stdout",
          "text": [
            "\n",
            "      Epoch    GPU_mem   box_loss   cls_loss   dfl_loss  Instances       Size\n"
          ]
        },
        {
          "output_type": "stream",
          "name": "stderr",
          "text": [
            "     44/100        21G      1.138      1.342      1.472          3        640: 100%|██████████| 13/13 [00:12<00:00,  1.07it/s]\n",
            "                 Class     Images  Instances      Box(P          R      mAP50  mAP50-95): 100%|██████████| 2/2 [00:01<00:00,  1.48it/s]"
          ]
        },
        {
          "output_type": "stream",
          "name": "stdout",
          "text": [
            "                   all         79         88      0.653      0.662      0.621      0.362\n"
          ]
        },
        {
          "output_type": "stream",
          "name": "stderr",
          "text": [
            "\n"
          ]
        },
        {
          "output_type": "stream",
          "name": "stdout",
          "text": [
            "\n",
            "      Epoch    GPU_mem   box_loss   cls_loss   dfl_loss  Instances       Size\n"
          ]
        },
        {
          "output_type": "stream",
          "name": "stderr",
          "text": [
            "     45/100      20.9G      1.204      1.385      1.495          8        640: 100%|██████████| 13/13 [00:12<00:00,  1.07it/s]\n",
            "                 Class     Images  Instances      Box(P          R      mAP50  mAP50-95): 100%|██████████| 2/2 [00:01<00:00,  1.52it/s]"
          ]
        },
        {
          "output_type": "stream",
          "name": "stdout",
          "text": [
            "                   all         79         88        0.5      0.557      0.518      0.253\n"
          ]
        },
        {
          "output_type": "stream",
          "name": "stderr",
          "text": [
            "\n"
          ]
        },
        {
          "output_type": "stream",
          "name": "stdout",
          "text": [
            "\n",
            "      Epoch    GPU_mem   box_loss   cls_loss   dfl_loss  Instances       Size\n"
          ]
        },
        {
          "output_type": "stream",
          "name": "stderr",
          "text": [
            "     46/100        21G      1.163      1.325      1.479          7        640: 100%|██████████| 13/13 [00:12<00:00,  1.07it/s]\n",
            "                 Class     Images  Instances      Box(P          R      mAP50  mAP50-95): 100%|██████████| 2/2 [00:01<00:00,  1.48it/s]"
          ]
        },
        {
          "output_type": "stream",
          "name": "stdout",
          "text": [
            "                   all         79         88      0.482       0.58      0.491      0.277\n"
          ]
        },
        {
          "output_type": "stream",
          "name": "stderr",
          "text": [
            "\n"
          ]
        },
        {
          "output_type": "stream",
          "name": "stdout",
          "text": [
            "\n",
            "      Epoch    GPU_mem   box_loss   cls_loss   dfl_loss  Instances       Size\n"
          ]
        },
        {
          "output_type": "stream",
          "name": "stderr",
          "text": [
            "     47/100      20.9G      1.203      1.346      1.527          2        640: 100%|██████████| 13/13 [00:12<00:00,  1.07it/s]\n",
            "                 Class     Images  Instances      Box(P          R      mAP50  mAP50-95): 100%|██████████| 2/2 [00:01<00:00,  1.52it/s]"
          ]
        },
        {
          "output_type": "stream",
          "name": "stdout",
          "text": [
            "                   all         79         88      0.535      0.568      0.508      0.283\n"
          ]
        },
        {
          "output_type": "stream",
          "name": "stderr",
          "text": [
            "\n"
          ]
        },
        {
          "output_type": "stream",
          "name": "stdout",
          "text": [
            "\n",
            "      Epoch    GPU_mem   box_loss   cls_loss   dfl_loss  Instances       Size\n"
          ]
        },
        {
          "output_type": "stream",
          "name": "stderr",
          "text": [
            "     48/100      21.1G      1.105      1.268      1.419          4        640: 100%|██████████| 13/13 [00:12<00:00,  1.07it/s]\n",
            "                 Class     Images  Instances      Box(P          R      mAP50  mAP50-95): 100%|██████████| 2/2 [00:01<00:00,  1.48it/s]"
          ]
        },
        {
          "output_type": "stream",
          "name": "stdout",
          "text": [
            "                   all         79         88      0.619      0.647      0.675      0.398\n"
          ]
        },
        {
          "output_type": "stream",
          "name": "stderr",
          "text": [
            "\n"
          ]
        },
        {
          "output_type": "stream",
          "name": "stdout",
          "text": [
            "\n",
            "      Epoch    GPU_mem   box_loss   cls_loss   dfl_loss  Instances       Size\n"
          ]
        },
        {
          "output_type": "stream",
          "name": "stderr",
          "text": [
            "     49/100      20.9G      1.115      1.164      1.433          3        640: 100%|██████████| 13/13 [00:12<00:00,  1.07it/s]\n",
            "                 Class     Images  Instances      Box(P          R      mAP50  mAP50-95): 100%|██████████| 2/2 [00:01<00:00,  1.52it/s]"
          ]
        },
        {
          "output_type": "stream",
          "name": "stdout",
          "text": [
            "                   all         79         88      0.694      0.591      0.655      0.391\n"
          ]
        },
        {
          "output_type": "stream",
          "name": "stderr",
          "text": [
            "\n"
          ]
        },
        {
          "output_type": "stream",
          "name": "stdout",
          "text": [
            "\n",
            "      Epoch    GPU_mem   box_loss   cls_loss   dfl_loss  Instances       Size\n"
          ]
        },
        {
          "output_type": "stream",
          "name": "stderr",
          "text": [
            "     50/100      21.1G      1.095      1.304      1.382          2        640: 100%|██████████| 13/13 [00:12<00:00,  1.07it/s]\n",
            "                 Class     Images  Instances      Box(P          R      mAP50  mAP50-95): 100%|██████████| 2/2 [00:01<00:00,  1.48it/s]"
          ]
        },
        {
          "output_type": "stream",
          "name": "stdout",
          "text": [
            "                   all         79         88      0.583      0.614      0.642      0.391\n"
          ]
        },
        {
          "output_type": "stream",
          "name": "stderr",
          "text": [
            "\n"
          ]
        },
        {
          "output_type": "stream",
          "name": "stdout",
          "text": [
            "\n",
            "      Epoch    GPU_mem   box_loss   cls_loss   dfl_loss  Instances       Size\n"
          ]
        },
        {
          "output_type": "stream",
          "name": "stderr",
          "text": [
            "     51/100      20.9G      1.082      1.231       1.39          5        640: 100%|██████████| 13/13 [00:12<00:00,  1.07it/s]\n",
            "                 Class     Images  Instances      Box(P          R      mAP50  mAP50-95): 100%|██████████| 2/2 [00:01<00:00,  1.53it/s]"
          ]
        },
        {
          "output_type": "stream",
          "name": "stdout",
          "text": [
            "                   all         79         88      0.558      0.614      0.616      0.402\n"
          ]
        },
        {
          "output_type": "stream",
          "name": "stderr",
          "text": [
            "\n"
          ]
        },
        {
          "output_type": "stream",
          "name": "stdout",
          "text": [
            "\n",
            "      Epoch    GPU_mem   box_loss   cls_loss   dfl_loss  Instances       Size\n"
          ]
        },
        {
          "output_type": "stream",
          "name": "stderr",
          "text": [
            "     52/100      21.1G      1.128      1.234      1.462          2        640: 100%|██████████| 13/13 [00:12<00:00,  1.07it/s]\n",
            "                 Class     Images  Instances      Box(P          R      mAP50  mAP50-95): 100%|██████████| 2/2 [00:01<00:00,  1.47it/s]"
          ]
        },
        {
          "output_type": "stream",
          "name": "stdout",
          "text": [
            "                   all         79         88      0.777      0.635      0.737      0.434\n"
          ]
        },
        {
          "output_type": "stream",
          "name": "stderr",
          "text": [
            "\n"
          ]
        },
        {
          "output_type": "stream",
          "name": "stdout",
          "text": [
            "\n",
            "      Epoch    GPU_mem   box_loss   cls_loss   dfl_loss  Instances       Size\n"
          ]
        },
        {
          "output_type": "stream",
          "name": "stderr",
          "text": [
            "     53/100      20.9G      1.075      1.201      1.416          5        640: 100%|██████████| 13/13 [00:12<00:00,  1.07it/s]\n",
            "                 Class     Images  Instances      Box(P          R      mAP50  mAP50-95): 100%|██████████| 2/2 [00:01<00:00,  1.51it/s]"
          ]
        },
        {
          "output_type": "stream",
          "name": "stdout",
          "text": [
            "                   all         79         88      0.693      0.614      0.656      0.377\n"
          ]
        },
        {
          "output_type": "stream",
          "name": "stderr",
          "text": [
            "\n"
          ]
        },
        {
          "output_type": "stream",
          "name": "stdout",
          "text": [
            "\n",
            "      Epoch    GPU_mem   box_loss   cls_loss   dfl_loss  Instances       Size\n"
          ]
        },
        {
          "output_type": "stream",
          "name": "stderr",
          "text": [
            "     54/100        21G      1.062      1.119      1.423          2        640: 100%|██████████| 13/13 [00:12<00:00,  1.07it/s]\n",
            "                 Class     Images  Instances      Box(P          R      mAP50  mAP50-95): 100%|██████████| 2/2 [00:01<00:00,  1.47it/s]"
          ]
        },
        {
          "output_type": "stream",
          "name": "stdout",
          "text": [
            "                   all         79         88      0.729      0.591      0.667       0.42\n"
          ]
        },
        {
          "output_type": "stream",
          "name": "stderr",
          "text": [
            "\n"
          ]
        },
        {
          "output_type": "stream",
          "name": "stdout",
          "text": [
            "\n",
            "      Epoch    GPU_mem   box_loss   cls_loss   dfl_loss  Instances       Size\n"
          ]
        },
        {
          "output_type": "stream",
          "name": "stderr",
          "text": [
            "     55/100      20.9G      1.067      1.142      1.407          3        640: 100%|██████████| 13/13 [00:12<00:00,  1.07it/s]\n",
            "                 Class     Images  Instances      Box(P          R      mAP50  mAP50-95): 100%|██████████| 2/2 [00:01<00:00,  1.53it/s]"
          ]
        },
        {
          "output_type": "stream",
          "name": "stdout",
          "text": [
            "                   all         79         88      0.633       0.58       0.59      0.308\n"
          ]
        },
        {
          "output_type": "stream",
          "name": "stderr",
          "text": [
            "\n"
          ]
        },
        {
          "output_type": "stream",
          "name": "stdout",
          "text": [
            "\n",
            "      Epoch    GPU_mem   box_loss   cls_loss   dfl_loss  Instances       Size\n"
          ]
        },
        {
          "output_type": "stream",
          "name": "stderr",
          "text": [
            "     56/100      21.1G      1.041      1.161      1.402          3        640: 100%|██████████| 13/13 [00:12<00:00,  1.07it/s]\n",
            "                 Class     Images  Instances      Box(P          R      mAP50  mAP50-95): 100%|██████████| 2/2 [00:01<00:00,  1.47it/s]"
          ]
        },
        {
          "output_type": "stream",
          "name": "stdout",
          "text": [
            "                   all         79         88      0.642      0.632      0.629      0.364\n"
          ]
        },
        {
          "output_type": "stream",
          "name": "stderr",
          "text": [
            "\n"
          ]
        },
        {
          "output_type": "stream",
          "name": "stdout",
          "text": [
            "\n",
            "      Epoch    GPU_mem   box_loss   cls_loss   dfl_loss  Instances       Size\n"
          ]
        },
        {
          "output_type": "stream",
          "name": "stderr",
          "text": [
            "     57/100      20.9G       1.04      1.136      1.394          6        640: 100%|██████████| 13/13 [00:12<00:00,  1.07it/s]\n",
            "                 Class     Images  Instances      Box(P          R      mAP50  mAP50-95): 100%|██████████| 2/2 [00:01<00:00,  1.51it/s]"
          ]
        },
        {
          "output_type": "stream",
          "name": "stdout",
          "text": [
            "                   all         79         88      0.688      0.682      0.711      0.426\n"
          ]
        },
        {
          "output_type": "stream",
          "name": "stderr",
          "text": [
            "\n"
          ]
        },
        {
          "output_type": "stream",
          "name": "stdout",
          "text": [
            "\n",
            "      Epoch    GPU_mem   box_loss   cls_loss   dfl_loss  Instances       Size\n"
          ]
        },
        {
          "output_type": "stream",
          "name": "stderr",
          "text": [
            "     58/100      21.1G      1.035      1.128      1.379          6        640: 100%|██████████| 13/13 [00:12<00:00,  1.06it/s]\n",
            "                 Class     Images  Instances      Box(P          R      mAP50  mAP50-95): 100%|██████████| 2/2 [00:01<00:00,  1.48it/s]"
          ]
        },
        {
          "output_type": "stream",
          "name": "stdout",
          "text": [
            "                   all         79         88      0.639      0.784      0.662      0.412\n"
          ]
        },
        {
          "output_type": "stream",
          "name": "stderr",
          "text": [
            "\n"
          ]
        },
        {
          "output_type": "stream",
          "name": "stdout",
          "text": [
            "\n",
            "      Epoch    GPU_mem   box_loss   cls_loss   dfl_loss  Instances       Size\n"
          ]
        },
        {
          "output_type": "stream",
          "name": "stderr",
          "text": [
            "     59/100        21G      1.085      1.108      1.422          6        640: 100%|██████████| 13/13 [00:12<00:00,  1.07it/s]\n",
            "                 Class     Images  Instances      Box(P          R      mAP50  mAP50-95): 100%|██████████| 2/2 [00:01<00:00,  1.51it/s]"
          ]
        },
        {
          "output_type": "stream",
          "name": "stdout",
          "text": [
            "                   all         79         88      0.649      0.652      0.653      0.384\n"
          ]
        },
        {
          "output_type": "stream",
          "name": "stderr",
          "text": [
            "\n"
          ]
        },
        {
          "output_type": "stream",
          "name": "stdout",
          "text": [
            "\n",
            "      Epoch    GPU_mem   box_loss   cls_loss   dfl_loss  Instances       Size\n"
          ]
        },
        {
          "output_type": "stream",
          "name": "stderr",
          "text": [
            "     60/100      21.1G      1.103      1.154      1.417         10        640: 100%|██████████| 13/13 [00:12<00:00,  1.07it/s]\n",
            "                 Class     Images  Instances      Box(P          R      mAP50  mAP50-95): 100%|██████████| 2/2 [00:01<00:00,  1.48it/s]"
          ]
        },
        {
          "output_type": "stream",
          "name": "stdout",
          "text": [
            "                   all         79         88      0.777      0.591      0.679      0.434\n"
          ]
        },
        {
          "output_type": "stream",
          "name": "stderr",
          "text": [
            "\n"
          ]
        },
        {
          "output_type": "stream",
          "name": "stdout",
          "text": [
            "\n",
            "      Epoch    GPU_mem   box_loss   cls_loss   dfl_loss  Instances       Size\n"
          ]
        },
        {
          "output_type": "stream",
          "name": "stderr",
          "text": [
            "     61/100      20.9G      1.049      1.027      1.389          2        640: 100%|██████████| 13/13 [00:12<00:00,  1.07it/s]\n",
            "                 Class     Images  Instances      Box(P          R      mAP50  mAP50-95): 100%|██████████| 2/2 [00:01<00:00,  1.52it/s]"
          ]
        },
        {
          "output_type": "stream",
          "name": "stdout",
          "text": [
            "                   all         79         88      0.714      0.636      0.694      0.441\n"
          ]
        },
        {
          "output_type": "stream",
          "name": "stderr",
          "text": [
            "\n"
          ]
        },
        {
          "output_type": "stream",
          "name": "stdout",
          "text": [
            "\n",
            "      Epoch    GPU_mem   box_loss   cls_loss   dfl_loss  Instances       Size\n"
          ]
        },
        {
          "output_type": "stream",
          "name": "stderr",
          "text": [
            "     62/100      21.1G      1.033       1.17      1.378          5        640: 100%|██████████| 13/13 [00:12<00:00,  1.07it/s]\n",
            "                 Class     Images  Instances      Box(P          R      mAP50  mAP50-95): 100%|██████████| 2/2 [00:01<00:00,  1.48it/s]"
          ]
        },
        {
          "output_type": "stream",
          "name": "stdout",
          "text": [
            "                   all         79         88      0.817      0.636      0.739      0.473\n"
          ]
        },
        {
          "output_type": "stream",
          "name": "stderr",
          "text": [
            "\n"
          ]
        },
        {
          "output_type": "stream",
          "name": "stdout",
          "text": [
            "\n",
            "      Epoch    GPU_mem   box_loss   cls_loss   dfl_loss  Instances       Size\n"
          ]
        },
        {
          "output_type": "stream",
          "name": "stderr",
          "text": [
            "     63/100        21G      1.032      1.082      1.372          8        640: 100%|██████████| 13/13 [00:12<00:00,  1.07it/s]\n",
            "                 Class     Images  Instances      Box(P          R      mAP50  mAP50-95): 100%|██████████| 2/2 [00:01<00:00,  1.52it/s]"
          ]
        },
        {
          "output_type": "stream",
          "name": "stdout",
          "text": [
            "                   all         79         88      0.692      0.716      0.674      0.411\n"
          ]
        },
        {
          "output_type": "stream",
          "name": "stderr",
          "text": [
            "\n"
          ]
        },
        {
          "output_type": "stream",
          "name": "stdout",
          "text": [
            "\n",
            "      Epoch    GPU_mem   box_loss   cls_loss   dfl_loss  Instances       Size\n"
          ]
        },
        {
          "output_type": "stream",
          "name": "stderr",
          "text": [
            "     64/100      21.1G      0.997      1.014      1.352          5        640: 100%|██████████| 13/13 [00:12<00:00,  1.07it/s]\n",
            "                 Class     Images  Instances      Box(P          R      mAP50  mAP50-95): 100%|██████████| 2/2 [00:01<00:00,  1.48it/s]"
          ]
        },
        {
          "output_type": "stream",
          "name": "stdout",
          "text": [
            "                   all         79         88      0.676       0.58      0.589      0.345\n"
          ]
        },
        {
          "output_type": "stream",
          "name": "stderr",
          "text": [
            "\n"
          ]
        },
        {
          "output_type": "stream",
          "name": "stdout",
          "text": [
            "\n",
            "      Epoch    GPU_mem   box_loss   cls_loss   dfl_loss  Instances       Size\n"
          ]
        },
        {
          "output_type": "stream",
          "name": "stderr",
          "text": [
            "     65/100      20.9G     0.9719      1.129      1.362          2        640: 100%|██████████| 13/13 [00:12<00:00,  1.07it/s]\n",
            "                 Class     Images  Instances      Box(P          R      mAP50  mAP50-95): 100%|██████████| 2/2 [00:01<00:00,  1.52it/s]"
          ]
        },
        {
          "output_type": "stream",
          "name": "stdout",
          "text": [
            "                   all         79         88      0.722      0.636      0.659      0.373\n"
          ]
        },
        {
          "output_type": "stream",
          "name": "stderr",
          "text": [
            "\n"
          ]
        },
        {
          "output_type": "stream",
          "name": "stdout",
          "text": [
            "\n",
            "      Epoch    GPU_mem   box_loss   cls_loss   dfl_loss  Instances       Size\n"
          ]
        },
        {
          "output_type": "stream",
          "name": "stderr",
          "text": [
            "     66/100      21.1G     0.9976      1.036      1.362          3        640: 100%|██████████| 13/13 [00:12<00:00,  1.07it/s]\n",
            "                 Class     Images  Instances      Box(P          R      mAP50  mAP50-95): 100%|██████████| 2/2 [00:01<00:00,  1.47it/s]"
          ]
        },
        {
          "output_type": "stream",
          "name": "stdout",
          "text": [
            "                   all         79         88      0.607      0.682      0.636      0.426\n"
          ]
        },
        {
          "output_type": "stream",
          "name": "stderr",
          "text": [
            "\n"
          ]
        },
        {
          "output_type": "stream",
          "name": "stdout",
          "text": [
            "\n",
            "      Epoch    GPU_mem   box_loss   cls_loss   dfl_loss  Instances       Size\n"
          ]
        },
        {
          "output_type": "stream",
          "name": "stderr",
          "text": [
            "     67/100        21G     0.9529      1.047      1.321          6        640: 100%|██████████| 13/13 [00:12<00:00,  1.07it/s]\n",
            "                 Class     Images  Instances      Box(P          R      mAP50  mAP50-95): 100%|██████████| 2/2 [00:01<00:00,  1.53it/s]"
          ]
        },
        {
          "output_type": "stream",
          "name": "stdout",
          "text": [
            "                   all         79         88      0.683      0.758      0.752      0.476\n"
          ]
        },
        {
          "output_type": "stream",
          "name": "stderr",
          "text": [
            "\n"
          ]
        },
        {
          "output_type": "stream",
          "name": "stdout",
          "text": [
            "\n",
            "      Epoch    GPU_mem   box_loss   cls_loss   dfl_loss  Instances       Size\n"
          ]
        },
        {
          "output_type": "stream",
          "name": "stderr",
          "text": [
            "     68/100      21.1G      1.006      1.037      1.391          2        640: 100%|██████████| 13/13 [00:12<00:00,  1.07it/s]\n",
            "                 Class     Images  Instances      Box(P          R      mAP50  mAP50-95): 100%|██████████| 2/2 [00:01<00:00,  1.48it/s]"
          ]
        },
        {
          "output_type": "stream",
          "name": "stdout",
          "text": [
            "                   all         79         88      0.654      0.707      0.711      0.461\n"
          ]
        },
        {
          "output_type": "stream",
          "name": "stderr",
          "text": [
            "\n"
          ]
        },
        {
          "output_type": "stream",
          "name": "stdout",
          "text": [
            "\n",
            "      Epoch    GPU_mem   box_loss   cls_loss   dfl_loss  Instances       Size\n"
          ]
        },
        {
          "output_type": "stream",
          "name": "stderr",
          "text": [
            "     69/100      20.9G     0.9851      1.005      1.395          2        640: 100%|██████████| 13/13 [00:12<00:00,  1.07it/s]\n",
            "                 Class     Images  Instances      Box(P          R      mAP50  mAP50-95): 100%|██████████| 2/2 [00:01<00:00,  1.52it/s]"
          ]
        },
        {
          "output_type": "stream",
          "name": "stdout",
          "text": [
            "                   all         79         88      0.766      0.705      0.731      0.466\n"
          ]
        },
        {
          "output_type": "stream",
          "name": "stderr",
          "text": [
            "\n"
          ]
        },
        {
          "output_type": "stream",
          "name": "stdout",
          "text": [
            "\n",
            "      Epoch    GPU_mem   box_loss   cls_loss   dfl_loss  Instances       Size\n"
          ]
        },
        {
          "output_type": "stream",
          "name": "stderr",
          "text": [
            "     70/100      21.1G     0.9179     0.9843      1.303          4        640: 100%|██████████| 13/13 [00:12<00:00,  1.07it/s]\n",
            "                 Class     Images  Instances      Box(P          R      mAP50  mAP50-95): 100%|██████████| 2/2 [00:01<00:00,  1.48it/s]"
          ]
        },
        {
          "output_type": "stream",
          "name": "stdout",
          "text": [
            "                   all         79         88      0.738      0.739      0.745      0.488\n"
          ]
        },
        {
          "output_type": "stream",
          "name": "stderr",
          "text": [
            "\n"
          ]
        },
        {
          "output_type": "stream",
          "name": "stdout",
          "text": [
            "\n",
            "      Epoch    GPU_mem   box_loss   cls_loss   dfl_loss  Instances       Size\n"
          ]
        },
        {
          "output_type": "stream",
          "name": "stderr",
          "text": [
            "     71/100      20.9G     0.9179      1.005      1.323          1        640: 100%|██████████| 13/13 [00:12<00:00,  1.07it/s]\n",
            "                 Class     Images  Instances      Box(P          R      mAP50  mAP50-95): 100%|██████████| 2/2 [00:01<00:00,  1.52it/s]"
          ]
        },
        {
          "output_type": "stream",
          "name": "stdout",
          "text": [
            "                   all         79         88      0.648      0.705      0.708      0.507\n"
          ]
        },
        {
          "output_type": "stream",
          "name": "stderr",
          "text": [
            "\n"
          ]
        },
        {
          "output_type": "stream",
          "name": "stdout",
          "text": [
            "\n",
            "      Epoch    GPU_mem   box_loss   cls_loss   dfl_loss  Instances       Size\n"
          ]
        },
        {
          "output_type": "stream",
          "name": "stderr",
          "text": [
            "     72/100      21.1G      0.967     0.9277      1.337          5        640: 100%|██████████| 13/13 [00:12<00:00,  1.07it/s]\n",
            "                 Class     Images  Instances      Box(P          R      mAP50  mAP50-95): 100%|██████████| 2/2 [00:01<00:00,  1.48it/s]"
          ]
        },
        {
          "output_type": "stream",
          "name": "stdout",
          "text": [
            "                   all         79         88      0.653       0.67      0.659      0.453\n"
          ]
        },
        {
          "output_type": "stream",
          "name": "stderr",
          "text": [
            "\n"
          ]
        },
        {
          "output_type": "stream",
          "name": "stdout",
          "text": [
            "\n",
            "      Epoch    GPU_mem   box_loss   cls_loss   dfl_loss  Instances       Size\n"
          ]
        },
        {
          "output_type": "stream",
          "name": "stderr",
          "text": [
            "     73/100        21G     0.9062     0.9544      1.305          3        640: 100%|██████████| 13/13 [00:12<00:00,  1.07it/s]\n",
            "                 Class     Images  Instances      Box(P          R      mAP50  mAP50-95): 100%|██████████| 2/2 [00:01<00:00,  1.50it/s]"
          ]
        },
        {
          "output_type": "stream",
          "name": "stdout",
          "text": [
            "                   all         79         88      0.782      0.651      0.743      0.474\n"
          ]
        },
        {
          "output_type": "stream",
          "name": "stderr",
          "text": [
            "\n"
          ]
        },
        {
          "output_type": "stream",
          "name": "stdout",
          "text": [
            "\n",
            "      Epoch    GPU_mem   box_loss   cls_loss   dfl_loss  Instances       Size\n"
          ]
        },
        {
          "output_type": "stream",
          "name": "stderr",
          "text": [
            "     74/100        21G      1.022      1.021      1.429          2        640: 100%|██████████| 13/13 [00:12<00:00,  1.07it/s]\n",
            "                 Class     Images  Instances      Box(P          R      mAP50  mAP50-95): 100%|██████████| 2/2 [00:01<00:00,  1.47it/s]"
          ]
        },
        {
          "output_type": "stream",
          "name": "stdout",
          "text": [
            "                   all         79         88      0.688      0.602      0.655      0.429\n"
          ]
        },
        {
          "output_type": "stream",
          "name": "stderr",
          "text": [
            "\n"
          ]
        },
        {
          "output_type": "stream",
          "name": "stdout",
          "text": [
            "\n",
            "      Epoch    GPU_mem   box_loss   cls_loss   dfl_loss  Instances       Size\n"
          ]
        },
        {
          "output_type": "stream",
          "name": "stderr",
          "text": [
            "     75/100        21G     0.9471     0.9377      1.331          4        640: 100%|██████████| 13/13 [00:12<00:00,  1.07it/s]\n",
            "                 Class     Images  Instances      Box(P          R      mAP50  mAP50-95): 100%|██████████| 2/2 [00:01<00:00,  1.52it/s]"
          ]
        },
        {
          "output_type": "stream",
          "name": "stdout",
          "text": [
            "                   all         79         88      0.691       0.67      0.704      0.474\n"
          ]
        },
        {
          "output_type": "stream",
          "name": "stderr",
          "text": [
            "\n"
          ]
        },
        {
          "output_type": "stream",
          "name": "stdout",
          "text": [
            "\n",
            "      Epoch    GPU_mem   box_loss   cls_loss   dfl_loss  Instances       Size\n"
          ]
        },
        {
          "output_type": "stream",
          "name": "stderr",
          "text": [
            "     76/100      21.1G      1.009      1.422      1.331          1        640: 100%|██████████| 13/13 [00:12<00:00,  1.07it/s]\n",
            "                 Class     Images  Instances      Box(P          R      mAP50  mAP50-95): 100%|██████████| 2/2 [00:01<00:00,  1.48it/s]"
          ]
        },
        {
          "output_type": "stream",
          "name": "stdout",
          "text": [
            "                   all         79         88      0.821      0.625      0.712       0.49\n"
          ]
        },
        {
          "output_type": "stream",
          "name": "stderr",
          "text": [
            "\n"
          ]
        },
        {
          "output_type": "stream",
          "name": "stdout",
          "text": [
            "\n",
            "      Epoch    GPU_mem   box_loss   cls_loss   dfl_loss  Instances       Size\n"
          ]
        },
        {
          "output_type": "stream",
          "name": "stderr",
          "text": [
            "     77/100      20.9G     0.8381       1.33      1.233          1        640: 100%|██████████| 13/13 [00:12<00:00,  1.07it/s]\n",
            "                 Class     Images  Instances      Box(P          R      mAP50  mAP50-95): 100%|██████████| 2/2 [00:01<00:00,  1.52it/s]"
          ]
        },
        {
          "output_type": "stream",
          "name": "stdout",
          "text": [
            "                   all         79         88      0.641      0.807      0.705      0.487\n"
          ]
        },
        {
          "output_type": "stream",
          "name": "stderr",
          "text": [
            "\n"
          ]
        },
        {
          "output_type": "stream",
          "name": "stdout",
          "text": [
            "\n",
            "      Epoch    GPU_mem   box_loss   cls_loss   dfl_loss  Instances       Size\n"
          ]
        },
        {
          "output_type": "stream",
          "name": "stderr",
          "text": [
            "     78/100        21G     0.9089     0.9177      1.305          4        640: 100%|██████████| 13/13 [00:12<00:00,  1.07it/s]\n",
            "                 Class     Images  Instances      Box(P          R      mAP50  mAP50-95): 100%|██████████| 2/2 [00:01<00:00,  1.48it/s]"
          ]
        },
        {
          "output_type": "stream",
          "name": "stdout",
          "text": [
            "                   all         79         88      0.726      0.723      0.728      0.484\n"
          ]
        },
        {
          "output_type": "stream",
          "name": "stderr",
          "text": [
            "\n"
          ]
        },
        {
          "output_type": "stream",
          "name": "stdout",
          "text": [
            "\n",
            "      Epoch    GPU_mem   box_loss   cls_loss   dfl_loss  Instances       Size\n"
          ]
        },
        {
          "output_type": "stream",
          "name": "stderr",
          "text": [
            "     79/100      20.9G     0.8433      0.897      1.257          3        640: 100%|██████████| 13/13 [00:12<00:00,  1.07it/s]\n",
            "                 Class     Images  Instances      Box(P          R      mAP50  mAP50-95): 100%|██████████| 2/2 [00:01<00:00,  1.53it/s]"
          ]
        },
        {
          "output_type": "stream",
          "name": "stdout",
          "text": [
            "                   all         79         88      0.704       0.75      0.734       0.51\n"
          ]
        },
        {
          "output_type": "stream",
          "name": "stderr",
          "text": [
            "\n"
          ]
        },
        {
          "output_type": "stream",
          "name": "stdout",
          "text": [
            "\n",
            "      Epoch    GPU_mem   box_loss   cls_loss   dfl_loss  Instances       Size\n"
          ]
        },
        {
          "output_type": "stream",
          "name": "stderr",
          "text": [
            "     80/100        21G     0.8902     0.8564      1.277          5        640: 100%|██████████| 13/13 [00:12<00:00,  1.07it/s]\n",
            "                 Class     Images  Instances      Box(P          R      mAP50  mAP50-95): 100%|██████████| 2/2 [00:01<00:00,  1.48it/s]"
          ]
        },
        {
          "output_type": "stream",
          "name": "stdout",
          "text": [
            "                   all         79         88      0.732      0.784       0.75      0.526\n"
          ]
        },
        {
          "output_type": "stream",
          "name": "stderr",
          "text": [
            "\n"
          ]
        },
        {
          "output_type": "stream",
          "name": "stdout",
          "text": [
            "\n",
            "      Epoch    GPU_mem   box_loss   cls_loss   dfl_loss  Instances       Size\n"
          ]
        },
        {
          "output_type": "stream",
          "name": "stderr",
          "text": [
            "     81/100      20.9G     0.8791     0.8688      1.253          7        640: 100%|██████████| 13/13 [00:12<00:00,  1.07it/s]\n",
            "                 Class     Images  Instances      Box(P          R      mAP50  mAP50-95): 100%|██████████| 2/2 [00:01<00:00,  1.53it/s]"
          ]
        },
        {
          "output_type": "stream",
          "name": "stdout",
          "text": [
            "                   all         79         88      0.818      0.713      0.764      0.515\n"
          ]
        },
        {
          "output_type": "stream",
          "name": "stderr",
          "text": [
            "\n"
          ]
        },
        {
          "output_type": "stream",
          "name": "stdout",
          "text": [
            "\n",
            "      Epoch    GPU_mem   box_loss   cls_loss   dfl_loss  Instances       Size\n"
          ]
        },
        {
          "output_type": "stream",
          "name": "stderr",
          "text": [
            "     82/100        21G      0.898      1.102      1.284          1        640: 100%|██████████| 13/13 [00:12<00:00,  1.07it/s]\n",
            "                 Class     Images  Instances      Box(P          R      mAP50  mAP50-95): 100%|██████████| 2/2 [00:01<00:00,  1.49it/s]"
          ]
        },
        {
          "output_type": "stream",
          "name": "stdout",
          "text": [
            "                   all         79         88      0.715      0.716      0.755      0.526\n"
          ]
        },
        {
          "output_type": "stream",
          "name": "stderr",
          "text": [
            "\n"
          ]
        },
        {
          "output_type": "stream",
          "name": "stdout",
          "text": [
            "\n",
            "      Epoch    GPU_mem   box_loss   cls_loss   dfl_loss  Instances       Size\n"
          ]
        },
        {
          "output_type": "stream",
          "name": "stderr",
          "text": [
            "     83/100      20.9G     0.8362     0.8574      1.243          5        640: 100%|██████████| 13/13 [00:12<00:00,  1.07it/s]\n",
            "                 Class     Images  Instances      Box(P          R      mAP50  mAP50-95): 100%|██████████| 2/2 [00:01<00:00,  1.53it/s]"
          ]
        },
        {
          "output_type": "stream",
          "name": "stdout",
          "text": [
            "                   all         79         88      0.761      0.651      0.726      0.521\n"
          ]
        },
        {
          "output_type": "stream",
          "name": "stderr",
          "text": [
            "\n"
          ]
        },
        {
          "output_type": "stream",
          "name": "stdout",
          "text": [
            "\n",
            "      Epoch    GPU_mem   box_loss   cls_loss   dfl_loss  Instances       Size\n"
          ]
        },
        {
          "output_type": "stream",
          "name": "stderr",
          "text": [
            "     84/100      21.1G     0.8261     0.8212      1.242          5        640: 100%|██████████| 13/13 [00:12<00:00,  1.07it/s]\n",
            "                 Class     Images  Instances      Box(P          R      mAP50  mAP50-95): 100%|██████████| 2/2 [00:01<00:00,  1.48it/s]"
          ]
        },
        {
          "output_type": "stream",
          "name": "stdout",
          "text": [
            "                   all         79         88      0.794      0.693      0.745      0.527\n"
          ]
        },
        {
          "output_type": "stream",
          "name": "stderr",
          "text": [
            "\n"
          ]
        },
        {
          "output_type": "stream",
          "name": "stdout",
          "text": [
            "\n",
            "      Epoch    GPU_mem   box_loss   cls_loss   dfl_loss  Instances       Size\n"
          ]
        },
        {
          "output_type": "stream",
          "name": "stderr",
          "text": [
            "     85/100      20.9G     0.8529     0.8491      1.249          3        640: 100%|██████████| 13/13 [00:12<00:00,  1.07it/s]\n",
            "                 Class     Images  Instances      Box(P          R      mAP50  mAP50-95): 100%|██████████| 2/2 [00:01<00:00,  1.53it/s]"
          ]
        },
        {
          "output_type": "stream",
          "name": "stdout",
          "text": [
            "                   all         79         88       0.78      0.693       0.75      0.554\n"
          ]
        },
        {
          "output_type": "stream",
          "name": "stderr",
          "text": [
            "\n"
          ]
        },
        {
          "output_type": "stream",
          "name": "stdout",
          "text": [
            "\n",
            "      Epoch    GPU_mem   box_loss   cls_loss   dfl_loss  Instances       Size\n"
          ]
        },
        {
          "output_type": "stream",
          "name": "stderr",
          "text": [
            "     86/100      21.1G     0.8486     0.8762      1.277          2        640: 100%|██████████| 13/13 [00:12<00:00,  1.07it/s]\n",
            "                 Class     Images  Instances      Box(P          R      mAP50  mAP50-95): 100%|██████████| 2/2 [00:01<00:00,  1.49it/s]"
          ]
        },
        {
          "output_type": "stream",
          "name": "stdout",
          "text": [
            "                   all         79         88      0.744      0.705      0.743      0.517\n"
          ]
        },
        {
          "output_type": "stream",
          "name": "stderr",
          "text": [
            "\n"
          ]
        },
        {
          "output_type": "stream",
          "name": "stdout",
          "text": [
            "\n",
            "      Epoch    GPU_mem   box_loss   cls_loss   dfl_loss  Instances       Size\n"
          ]
        },
        {
          "output_type": "stream",
          "name": "stderr",
          "text": [
            "     87/100      20.9G     0.8871     0.8509      1.287          5        640: 100%|██████████| 13/13 [00:12<00:00,  1.07it/s]\n",
            "                 Class     Images  Instances      Box(P          R      mAP50  mAP50-95): 100%|██████████| 2/2 [00:01<00:00,  1.53it/s]"
          ]
        },
        {
          "output_type": "stream",
          "name": "stdout",
          "text": [
            "                   all         79         88      0.724      0.745      0.753      0.539\n"
          ]
        },
        {
          "output_type": "stream",
          "name": "stderr",
          "text": [
            "\n"
          ]
        },
        {
          "output_type": "stream",
          "name": "stdout",
          "text": [
            "\n",
            "      Epoch    GPU_mem   box_loss   cls_loss   dfl_loss  Instances       Size\n"
          ]
        },
        {
          "output_type": "stream",
          "name": "stderr",
          "text": [
            "     88/100      21.1G     0.7412     0.7531      1.181          4        640: 100%|██████████| 13/13 [00:12<00:00,  1.07it/s]\n",
            "                 Class     Images  Instances      Box(P          R      mAP50  mAP50-95): 100%|██████████| 2/2 [00:01<00:00,  1.48it/s]"
          ]
        },
        {
          "output_type": "stream",
          "name": "stdout",
          "text": [
            "                   all         79         88      0.799      0.727      0.771      0.567\n"
          ]
        },
        {
          "output_type": "stream",
          "name": "stderr",
          "text": [
            "\n"
          ]
        },
        {
          "output_type": "stream",
          "name": "stdout",
          "text": [
            "\n",
            "      Epoch    GPU_mem   box_loss   cls_loss   dfl_loss  Instances       Size\n"
          ]
        },
        {
          "output_type": "stream",
          "name": "stderr",
          "text": [
            "     89/100        21G     0.8385     0.8161      1.247          2        640: 100%|██████████| 13/13 [00:12<00:00,  1.07it/s]\n",
            "                 Class     Images  Instances      Box(P          R      mAP50  mAP50-95): 100%|██████████| 2/2 [00:01<00:00,  1.52it/s]"
          ]
        },
        {
          "output_type": "stream",
          "name": "stdout",
          "text": [
            "                   all         79         88      0.819      0.719      0.773      0.559\n"
          ]
        },
        {
          "output_type": "stream",
          "name": "stderr",
          "text": [
            "\n"
          ]
        },
        {
          "output_type": "stream",
          "name": "stdout",
          "text": [
            "\n",
            "      Epoch    GPU_mem   box_loss   cls_loss   dfl_loss  Instances       Size\n"
          ]
        },
        {
          "output_type": "stream",
          "name": "stderr",
          "text": [
            "     90/100      21.1G     0.7605     0.7288      1.201          4        640: 100%|██████████| 13/13 [00:12<00:00,  1.07it/s]\n",
            "                 Class     Images  Instances      Box(P          R      mAP50  mAP50-95): 100%|██████████| 2/2 [00:01<00:00,  1.48it/s]"
          ]
        },
        {
          "output_type": "stream",
          "name": "stdout",
          "text": [
            "                   all         79         88      0.802       0.75      0.774      0.554\n"
          ]
        },
        {
          "output_type": "stream",
          "name": "stderr",
          "text": [
            "\n"
          ]
        },
        {
          "output_type": "stream",
          "name": "stdout",
          "text": [
            "Closing dataloader mosaic\n",
            "\u001b[34m\u001b[1malbumentations: \u001b[0mBlur(p=0.01, blur_limit=(3, 7)), MedianBlur(p=0.01, blur_limit=(3, 7)), ToGray(p=0.01, num_output_channels=3, method='weighted_average'), CLAHE(p=0.01, clip_limit=(1.0, 4.0), tile_grid_size=(8, 8))\n",
            "\n",
            "      Epoch    GPU_mem   box_loss   cls_loss   dfl_loss  Instances       Size\n"
          ]
        },
        {
          "output_type": "stream",
          "name": "stderr",
          "text": [
            "     91/100      20.9G     0.6713     0.6721      1.099          2        640: 100%|██████████| 13/13 [00:12<00:00,  1.00it/s]\n",
            "                 Class     Images  Instances      Box(P          R      mAP50  mAP50-95): 100%|██████████| 2/2 [00:01<00:00,  1.52it/s]"
          ]
        },
        {
          "output_type": "stream",
          "name": "stdout",
          "text": [
            "                   all         79         88      0.847      0.682      0.771       0.53\n"
          ]
        },
        {
          "output_type": "stream",
          "name": "stderr",
          "text": [
            "\n"
          ]
        },
        {
          "output_type": "stream",
          "name": "stdout",
          "text": [
            "\n",
            "      Epoch    GPU_mem   box_loss   cls_loss   dfl_loss  Instances       Size\n"
          ]
        },
        {
          "output_type": "stream",
          "name": "stderr",
          "text": [
            "     92/100      21.1G     0.6351     0.6021      1.096          2        640: 100%|██████████| 13/13 [00:12<00:00,  1.07it/s]\n",
            "                 Class     Images  Instances      Box(P          R      mAP50  mAP50-95): 100%|██████████| 2/2 [00:01<00:00,  1.46it/s]"
          ]
        },
        {
          "output_type": "stream",
          "name": "stdout",
          "text": [
            "                   all         79         88      0.783      0.716       0.75      0.541\n"
          ]
        },
        {
          "output_type": "stream",
          "name": "stderr",
          "text": [
            "\n"
          ]
        },
        {
          "output_type": "stream",
          "name": "stdout",
          "text": [
            "\n",
            "      Epoch    GPU_mem   box_loss   cls_loss   dfl_loss  Instances       Size\n"
          ]
        },
        {
          "output_type": "stream",
          "name": "stderr",
          "text": [
            "     93/100      20.9G     0.6297     0.5781      1.085          2        640: 100%|██████████| 13/13 [00:12<00:00,  1.07it/s]\n",
            "                 Class     Images  Instances      Box(P          R      mAP50  mAP50-95): 100%|██████████| 2/2 [00:01<00:00,  1.53it/s]"
          ]
        },
        {
          "output_type": "stream",
          "name": "stdout",
          "text": [
            "                   all         79         88      0.811      0.727      0.755      0.551\n"
          ]
        },
        {
          "output_type": "stream",
          "name": "stderr",
          "text": [
            "\n"
          ]
        },
        {
          "output_type": "stream",
          "name": "stdout",
          "text": [
            "\n",
            "      Epoch    GPU_mem   box_loss   cls_loss   dfl_loss  Instances       Size\n"
          ]
        },
        {
          "output_type": "stream",
          "name": "stderr",
          "text": [
            "     94/100      21.1G     0.6111       0.54      1.107          2        640: 100%|██████████| 13/13 [00:12<00:00,  1.07it/s]\n",
            "                 Class     Images  Instances      Box(P          R      mAP50  mAP50-95): 100%|██████████| 2/2 [00:01<00:00,  1.47it/s]"
          ]
        },
        {
          "output_type": "stream",
          "name": "stdout",
          "text": [
            "                   all         79         88      0.799      0.677      0.747      0.557\n"
          ]
        },
        {
          "output_type": "stream",
          "name": "stderr",
          "text": [
            "\n"
          ]
        },
        {
          "output_type": "stream",
          "name": "stdout",
          "text": [
            "\n",
            "      Epoch    GPU_mem   box_loss   cls_loss   dfl_loss  Instances       Size\n"
          ]
        },
        {
          "output_type": "stream",
          "name": "stderr",
          "text": [
            "     95/100      20.9G     0.5814     0.5113      1.044          2        640: 100%|██████████| 13/13 [00:12<00:00,  1.07it/s]\n",
            "                 Class     Images  Instances      Box(P          R      mAP50  mAP50-95): 100%|██████████| 2/2 [00:01<00:00,  1.51it/s]"
          ]
        },
        {
          "output_type": "stream",
          "name": "stdout",
          "text": [
            "                   all         79         88      0.828      0.713      0.772       0.57\n"
          ]
        },
        {
          "output_type": "stream",
          "name": "stderr",
          "text": [
            "\n"
          ]
        },
        {
          "output_type": "stream",
          "name": "stdout",
          "text": [
            "\n",
            "      Epoch    GPU_mem   box_loss   cls_loss   dfl_loss  Instances       Size\n"
          ]
        },
        {
          "output_type": "stream",
          "name": "stderr",
          "text": [
            "     96/100        21G     0.6302     0.5711        1.1          5        640: 100%|██████████| 13/13 [00:12<00:00,  1.07it/s]\n",
            "                 Class     Images  Instances      Box(P          R      mAP50  mAP50-95): 100%|██████████| 2/2 [00:01<00:00,  1.46it/s]"
          ]
        },
        {
          "output_type": "stream",
          "name": "stdout",
          "text": [
            "                   all         79         88      0.829      0.739      0.771       0.54\n"
          ]
        },
        {
          "output_type": "stream",
          "name": "stderr",
          "text": [
            "\n"
          ]
        },
        {
          "output_type": "stream",
          "name": "stdout",
          "text": [
            "\n",
            "      Epoch    GPU_mem   box_loss   cls_loss   dfl_loss  Instances       Size\n"
          ]
        },
        {
          "output_type": "stream",
          "name": "stderr",
          "text": [
            "     97/100      20.9G     0.5913     0.5461      1.089          3        640: 100%|██████████| 13/13 [00:12<00:00,  1.07it/s]\n",
            "                 Class     Images  Instances      Box(P          R      mAP50  mAP50-95): 100%|██████████| 2/2 [00:01<00:00,  1.53it/s]"
          ]
        },
        {
          "output_type": "stream",
          "name": "stdout",
          "text": [
            "                   all         79         88      0.846      0.747      0.775      0.556\n"
          ]
        },
        {
          "output_type": "stream",
          "name": "stderr",
          "text": [
            "\n"
          ]
        },
        {
          "output_type": "stream",
          "name": "stdout",
          "text": [
            "\n",
            "      Epoch    GPU_mem   box_loss   cls_loss   dfl_loss  Instances       Size\n"
          ]
        },
        {
          "output_type": "stream",
          "name": "stderr",
          "text": [
            "     98/100        21G     0.5861     0.4998      1.073          2        640: 100%|██████████| 13/13 [00:12<00:00,  1.07it/s]\n",
            "                 Class     Images  Instances      Box(P          R      mAP50  mAP50-95): 100%|██████████| 2/2 [00:01<00:00,  1.48it/s]"
          ]
        },
        {
          "output_type": "stream",
          "name": "stdout",
          "text": [
            "                   all         79         88      0.837      0.756      0.763      0.554\n"
          ]
        },
        {
          "output_type": "stream",
          "name": "stderr",
          "text": [
            "\n"
          ]
        },
        {
          "output_type": "stream",
          "name": "stdout",
          "text": [
            "\n",
            "      Epoch    GPU_mem   box_loss   cls_loss   dfl_loss  Instances       Size\n"
          ]
        },
        {
          "output_type": "stream",
          "name": "stderr",
          "text": [
            "     99/100      20.9G     0.5602     0.5483      1.051          2        640: 100%|██████████| 13/13 [00:12<00:00,  1.07it/s]\n",
            "                 Class     Images  Instances      Box(P          R      mAP50  mAP50-95): 100%|██████████| 2/2 [00:01<00:00,  1.53it/s]"
          ]
        },
        {
          "output_type": "stream",
          "name": "stdout",
          "text": [
            "                   all         79         88      0.812      0.761      0.758      0.549\n"
          ]
        },
        {
          "output_type": "stream",
          "name": "stderr",
          "text": [
            "\n"
          ]
        },
        {
          "output_type": "stream",
          "name": "stdout",
          "text": [
            "\n",
            "      Epoch    GPU_mem   box_loss   cls_loss   dfl_loss  Instances       Size\n"
          ]
        },
        {
          "output_type": "stream",
          "name": "stderr",
          "text": [
            "    100/100        21G     0.5897     0.5462      1.082          2        640: 100%|██████████| 13/13 [00:12<00:00,  1.07it/s]\n",
            "                 Class     Images  Instances      Box(P          R      mAP50  mAP50-95): 100%|██████████| 2/2 [00:01<00:00,  1.49it/s]"
          ]
        },
        {
          "output_type": "stream",
          "name": "stdout",
          "text": [
            "                   all         79         88       0.82       0.75      0.771      0.569\n"
          ]
        },
        {
          "output_type": "stream",
          "name": "stderr",
          "text": [
            "\n"
          ]
        },
        {
          "output_type": "stream",
          "name": "stdout",
          "text": [
            "\n",
            "100 epochs completed in 0.417 hours.\n",
            "Optimizer stripped from runs/detect/train/weights/last.pt, 51.6MB\n",
            "Optimizer stripped from runs/detect/train/weights/best.pt, 51.6MB\n",
            "\n",
            "Validating runs/detect/train/weights/best.pt...\n",
            "Ultralytics 8.3.54 🚀 Python-3.10.12 torch-2.5.1+cu121 CUDA:0 (NVIDIA L4, 22700MiB)\n",
            "YOLOv9c summary (fused): 384 layers, 25,320,019 parameters, 0 gradients, 102.3 GFLOPs\n"
          ]
        },
        {
          "output_type": "stream",
          "name": "stderr",
          "text": [
            "                 Class     Images  Instances      Box(P          R      mAP50  mAP50-95): 100%|██████████| 2/2 [00:01<00:00,  1.85it/s]\n"
          ]
        },
        {
          "output_type": "stream",
          "name": "stdout",
          "text": [
            "                   all         79         88      0.828      0.712      0.773      0.569\n",
            "Speed: 0.2ms preprocess, 9.9ms inference, 0.0ms loss, 0.9ms postprocess per image\n",
            "Results saved to \u001b[1mruns/detect/train\u001b[0m\n"
          ]
        }
      ],
      "source": [
        "results = model.train(data=\"/content/+_1516_640_640_label_Car Accident Detection.v2i.yolov7pytorch/data.yaml\", epochs=100, imgsz=640, device=0, batch=32, plots=True, profile=True)"
      ]
    },
    {
      "cell_type": "markdown",
      "metadata": {
        "id": "D16ofwvn7EOJ"
      },
      "source": []
    },
    {
      "cell_type": "code",
      "execution_count": 10,
      "metadata": {
        "id": "_cS-EO2UK5a-",
        "colab": {
          "base_uri": "https://localhost:8080/",
          "height": 17
        },
        "outputId": "5baa860a-31f9-405c-aa93-995b42cb6dbf"
      },
      "outputs": [
        {
          "output_type": "display_data",
          "data": {
            "text/plain": [
              "<IPython.core.display.Javascript object>"
            ],
            "application/javascript": [
              "\n",
              "    async function download(id, filename, size) {\n",
              "      if (!google.colab.kernel.accessAllowed) {\n",
              "        return;\n",
              "      }\n",
              "      const div = document.createElement('div');\n",
              "      const label = document.createElement('label');\n",
              "      label.textContent = `Downloading \"${filename}\": `;\n",
              "      div.appendChild(label);\n",
              "      const progress = document.createElement('progress');\n",
              "      progress.max = size;\n",
              "      div.appendChild(progress);\n",
              "      document.body.appendChild(div);\n",
              "\n",
              "      const buffers = [];\n",
              "      let downloaded = 0;\n",
              "\n",
              "      const channel = await google.colab.kernel.comms.open(id);\n",
              "      // Send a message to notify the kernel that we're ready.\n",
              "      channel.send({})\n",
              "\n",
              "      for await (const message of channel.messages) {\n",
              "        // Send a message to notify the kernel that we're ready.\n",
              "        channel.send({})\n",
              "        if (message.buffers) {\n",
              "          for (const buffer of message.buffers) {\n",
              "            buffers.push(buffer);\n",
              "            downloaded += buffer.byteLength;\n",
              "            progress.value = downloaded;\n",
              "          }\n",
              "        }\n",
              "      }\n",
              "      const blob = new Blob(buffers, {type: 'application/binary'});\n",
              "      const a = document.createElement('a');\n",
              "      a.href = window.URL.createObjectURL(blob);\n",
              "      a.download = filename;\n",
              "      div.appendChild(a);\n",
              "      a.click();\n",
              "      div.remove();\n",
              "    }\n",
              "  "
            ]
          },
          "metadata": {}
        },
        {
          "output_type": "display_data",
          "data": {
            "text/plain": [
              "<IPython.core.display.Javascript object>"
            ],
            "application/javascript": [
              "download(\"download_138be48a-c4f5-462d-b310-e7ed3d48978f\", \"runs.zip\", 101795836)"
            ]
          },
          "metadata": {}
        }
      ],
      "source": [
        "import shutil\n",
        "from google.colab import files\n",
        "\n",
        "# Klasörü ziplemek\n",
        "shutil.make_archive('/content/runs', 'zip', '/content/runs')\n",
        "\n",
        "# Zipped dosyayı indirmek\n",
        "files.download('/content/runs.zip')\n"
      ]
    }
  ],
  "metadata": {
    "accelerator": "GPU",
    "colab": {
      "gpuType": "L4",
      "provenance": [],
      "machine_shape": "hm"
    },
    "kernelspec": {
      "display_name": "Python 3",
      "name": "python3"
    },
    "language_info": {
      "name": "python"
    }
  },
  "nbformat": 4,
  "nbformat_minor": 0
}