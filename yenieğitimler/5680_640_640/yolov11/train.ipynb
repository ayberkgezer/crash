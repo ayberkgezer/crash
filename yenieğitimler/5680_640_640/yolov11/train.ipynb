{
  "cells": [
    {
      "cell_type": "code",
      "execution_count": 1,
      "metadata": {
        "colab": {
          "base_uri": "https://localhost:8080/"
        },
        "id": "iRGohlNhPyun",
        "outputId": "785bfa66-3e60-475b-996c-11422d460f5c"
      },
      "outputs": [
        {
          "output_type": "stream",
          "name": "stdout",
          "text": [
            "Sat Dec 21 08:38:21 2024       \n",
            "+---------------------------------------------------------------------------------------+\n",
            "| NVIDIA-SMI 535.104.05             Driver Version: 535.104.05   CUDA Version: 12.2     |\n",
            "|-----------------------------------------+----------------------+----------------------+\n",
            "| GPU  Name                 Persistence-M | Bus-Id        Disp.A | Volatile Uncorr. ECC |\n",
            "| Fan  Temp   Perf          Pwr:Usage/Cap |         Memory-Usage | GPU-Util  Compute M. |\n",
            "|                                         |                      |               MIG M. |\n",
            "|=========================================+======================+======================|\n",
            "|   0  NVIDIA L4                      Off | 00000000:00:03.0 Off |                    0 |\n",
            "| N/A   41C    P8              12W /  72W |      1MiB / 23034MiB |      0%      Default |\n",
            "|                                         |                      |                  N/A |\n",
            "+-----------------------------------------+----------------------+----------------------+\n",
            "                                                                                         \n",
            "+---------------------------------------------------------------------------------------+\n",
            "| Processes:                                                                            |\n",
            "|  GPU   GI   CI        PID   Type   Process name                            GPU Memory |\n",
            "|        ID   ID                                                             Usage      |\n",
            "|=======================================================================================|\n",
            "|  No running processes found                                                           |\n",
            "+---------------------------------------------------------------------------------------+\n"
          ]
        }
      ],
      "source": [
        "!nvidia-smi"
      ]
    },
    {
      "cell_type": "code",
      "execution_count": 2,
      "metadata": {
        "colab": {
          "base_uri": "https://localhost:8080/"
        },
        "id": "ZXdkG0oTP4Fp",
        "outputId": "7c933b5f-f373-41a1-b986-2a8f61de10e2"
      },
      "outputs": [
        {
          "output_type": "stream",
          "name": "stdout",
          "text": [
            "Mounted at /content/drive\n"
          ]
        }
      ],
      "source": [
        "from google.colab import drive\n",
        "drive.mount('/content/drive')"
      ]
    },
    {
      "cell_type": "code",
      "execution_count": 3,
      "metadata": {
        "colab": {
          "base_uri": "https://localhost:8080/"
        },
        "id": "IdrfiHhUP6tY",
        "outputId": "bf78060c-4b4f-4c40-f91e-0b7314f2fee9"
      },
      "outputs": [
        {
          "output_type": "stream",
          "name": "stdout",
          "text": [
            "\u001b[1;30;43mGörüntülenen çıkış son 5000 satıra kısaltıldı.\u001b[0m\n",
            "  inflating: train/labels/accidentFrame2762_jpg.rf.262366aa4a843b136d59cd1d0c693b9a.txt  \n",
            "  inflating: train/labels/accidentFrame2762_jpg.rf.50d88b2636f33947b1fe7478dc1c893e.txt  \n",
            "  inflating: train/labels/accidentFrame2762_jpg.rf.800ec904401589ef8f79756efbff39da.txt  \n",
            "  inflating: train/labels/accidentFrame281_jpg.rf.7beb0645e0bb0e071f370d548896c04c.txt  \n",
            "  inflating: train/labels/accidentFrame281_jpg.rf.8abaabbac4db3a9986f4e425b6541ca7.txt  \n",
            "  inflating: train/labels/accidentFrame281_jpg.rf.916a2ebbf135ae012009e4c7a28ede83.txt  \n",
            "  inflating: train/labels/accidentFrame281_jpg.rf.ad1bad28d4fc6adcb24746cca84e1984.txt  \n",
            "  inflating: train/labels/accidentFrame281_jpg.rf.eafebd702cf9bb20ed08078069131f7e.txt  \n",
            "  inflating: train/labels/accidentFrame282_jpg.rf.a64b45cd180029ad7df386391c3cb60c.txt  \n",
            "  inflating: train/labels/accidentFrame283_jpg.rf.480bfe8a2f4ffca585f288b312cc016d.txt  \n",
            "  inflating: train/labels/accidentFrame283_jpg.rf.a575433e16b51b5f03b514455dd43d16.txt  \n",
            "  inflating: train/labels/accidentFrame283_jpg.rf.a7dfaad99b73c010adac6171bdc9632b.txt  \n",
            "  inflating: train/labels/accidentFrame283_jpg.rf.a8b6420b88d0b105ac78743059c8eae8.txt  \n",
            "  inflating: train/labels/accidentFrame283_jpg.rf.b6f0c232302167d1a5d46d091593e102.txt  \n",
            "  inflating: train/labels/accidentFrame283_jpg.rf.d615aed178cbba1d04440e044db5bc6f.txt  \n",
            "  inflating: train/labels/accidentFrame2979_jpg.rf.179b5ef13bdb37f19243aa64c7cc2901.txt  \n",
            "  inflating: train/labels/accidentFrame2979_jpg.rf.450f9eba65ee8a9b1d8e8b4f9846fe45.txt  \n",
            "  inflating: train/labels/accidentFrame2979_jpg.rf.793f6f4e84e935d076cbcb25dc4ba9a1.txt  \n",
            "  inflating: train/labels/accidentFrame2979_jpg.rf.9f659bde891a99c2d1e9ee8481d14d44.txt  \n",
            "  inflating: train/labels/accidentFrame2979_jpg.rf.a7da640daf5a104907694f137186c861.txt  \n",
            "  inflating: train/labels/accidentFrame2979_jpg.rf.ae95149780209a47c4d6adb7b97bc540.txt  \n",
            "  inflating: train/labels/accidentFrame2979_jpg.rf.e576f16a181a6fdc9d3eda0adfba79cf.txt  \n",
            "  inflating: train/labels/accidentFrame2979_jpg.rf.e63819bdd036b85f0ef3ce7f18135184.txt  \n",
            "  inflating: train/labels/accidentFrame2980_jpg.rf.280acf5627ae5f47c8c2c448754dded6.txt  \n",
            "  inflating: train/labels/accidentFrame2980_jpg.rf.5c0ee27bad4b5b237228e282d9ba4d04.txt  \n",
            "  inflating: train/labels/accidentFrame2980_jpg.rf.7186527ad781255535f14aa001c18e80.txt  \n",
            "  inflating: train/labels/accidentFrame2980_jpg.rf.7ed4b8ee385880454cc61f9d652bd865.txt  \n",
            "  inflating: train/labels/accidentFrame2980_jpg.rf.ac111780921a9bf8293d947e0a020daf.txt  \n",
            "  inflating: train/labels/accidentFrame2980_jpg.rf.f0b2200eef767734f756108b0be8b658.txt  \n",
            "  inflating: train/labels/accidentFrame2981_jpg.rf.07c1dc7d15323ce42e5996ab5817006b.txt  \n",
            "  inflating: train/labels/accidentFrame2981_jpg.rf.0f38876e3060cf1e82f10491a24ed6d4.txt  \n",
            "  inflating: train/labels/accidentFrame2981_jpg.rf.7f5f179fc68147f4d2cb43460cdeaddf.txt  \n",
            "  inflating: train/labels/accidentFrame2981_jpg.rf.9dd91d1f829775913a65df3b4e69582e.txt  \n",
            "  inflating: train/labels/accidentFrame2981_jpg.rf.a5b39a8f320f948bd48fd0860c5c6962.txt  \n",
            "  inflating: train/labels/accidentFrame2981_jpg.rf.c7b3177940d1bff49c1ce77599a94b78.txt  \n",
            "  inflating: train/labels/accidentFrame2981_jpg.rf.d48ed8e8d9c4a2e1c8e4a9e7675e3b92.txt  \n",
            "  inflating: train/labels/accidentFrame2984_jpg.rf.01d88490514bd9748710c0478cadeb57.txt  \n",
            "  inflating: train/labels/accidentFrame2984_jpg.rf.133b09ed4dff942fa2d34f6ca5c30725.txt  \n",
            "  inflating: train/labels/accidentFrame2984_jpg.rf.2100292df567bab23ee5dcf94b320cb9.txt  \n",
            "  inflating: train/labels/accidentFrame2984_jpg.rf.399f46ac096a5312c1c0f027656acf3a.txt  \n",
            "  inflating: train/labels/accidentFrame2984_jpg.rf.a2460157ab616a21501c5fa1fc94f626.txt  \n",
            "  inflating: train/labels/accidentFrame2984_jpg.rf.f49b166b0e4e98d9cf2a5e0a4f121191.txt  \n",
            "  inflating: train/labels/accidentFrame2985_jpg.rf.059ace4f93189e415544f12bb04d65c6.txt  \n",
            "  inflating: train/labels/accidentFrame2985_jpg.rf.d58809a2028edc4bbbb3caae73e8a1c0.txt  \n",
            "  inflating: train/labels/accidentFrame2985_jpg.rf.db348e2b3f0682bfd529d5642cb1892a.txt  \n",
            "  inflating: train/labels/accidentFrame2985_jpg.rf.eb602f7d4ad33700198d79abf7beac14.txt  \n",
            "  inflating: train/labels/accidentFrame2986_jpg.rf.10421762873503c9ec8d0fc240c10ab7.txt  \n",
            "  inflating: train/labels/accidentFrame2986_jpg.rf.b6ddbe3ea83a1ac08b6005529016113d.txt  \n",
            "  inflating: train/labels/accidentFrame2986_jpg.rf.ba5b433f54dcc3bec50bade9a8a15668.txt  \n",
            "  inflating: train/labels/accidentFrame2986_jpg.rf.f42722af4b77417bfbe8f4f5cb6bb682.txt  \n",
            "  inflating: train/labels/accidentFrame2994_jpg.rf.5985d4eacddf7368b33c350ffcd086e9.txt  \n",
            "  inflating: train/labels/accidentFrame2994_jpg.rf.ab6bc07f57fdcf66000853e34b10cd39.txt  \n",
            "  inflating: train/labels/accidentFrame2994_jpg.rf.cbe7e3e7a0f0fbc184f293ca5d7bbd34.txt  \n",
            "  inflating: train/labels/accidentFrame2994_jpg.rf.d87d5b7b521ba27c04f10ccafa599fbe.txt  \n",
            "  inflating: train/labels/accidentFrame2994_jpg.rf.f1f570a538cdc7ebbed6d47956d1b8cf.txt  \n",
            "  inflating: train/labels/accidentFrame2995_jpg.rf.051daf17062dd23a6250392cdbe57537.txt  \n",
            "  inflating: train/labels/accidentFrame2995_jpg.rf.07584430d130b897b2d068996bacc75e.txt  \n",
            "  inflating: train/labels/accidentFrame2995_jpg.rf.090824eddc43ff3ecee158f16781289e.txt  \n",
            "  inflating: train/labels/accidentFrame2995_jpg.rf.3cf374503fe70f2238fac19896d442b3.txt  \n",
            "  inflating: train/labels/accidentFrame2995_jpg.rf.b29f5001db811245cb3ba480aced2bad.txt  \n",
            "  inflating: train/labels/accidentFrame2995_jpg.rf.ba7f05e2b7836f4741418020d9fd5f4d.txt  \n",
            "  inflating: train/labels/accidentFrame2995_jpg.rf.ecc404746156335c002fd471d2728fa1.txt  \n",
            "  inflating: train/labels/accidentFrame2995_jpg.rf.ee77f939f34950bfa6a1b2d995116160.txt  \n",
            "  inflating: train/labels/accidentFrame2996_jpg.rf.04cf8e09af8cbd010237e0d667e8ca52.txt  \n",
            "  inflating: train/labels/accidentFrame2996_jpg.rf.90557238fff42a1682b0a6149c8cf858.txt  \n",
            "  inflating: train/labels/accidentFrame2996_jpg.rf.f02f4dda1d27e7afe55133e4ec4d5381.txt  \n",
            "  inflating: train/labels/accidentFrame2996_jpg.rf.f52136e639db9550c8b1c2e3a66e8801.txt  \n",
            "  inflating: train/labels/accidentFrame2996_jpg.rf.f938ac2d4dc5c01629b3d96c63d5aaf5.txt  \n",
            "  inflating: train/labels/accidentFrame2997_jpg.rf.443984bb67d9e9c94be553c0e6bfbf01.txt  \n",
            "  inflating: train/labels/accidentFrame2997_jpg.rf.a5e497678d7e6fd74a4c253f429bc613.txt  \n",
            "  inflating: train/labels/accidentFrame2997_jpg.rf.bc09954dda41968c537dce2675b6d8c1.txt  \n",
            "  inflating: train/labels/accidentFrame2997_jpg.rf.eef40cb36754f8f2a0cec8656b818dd0.txt  \n",
            "  inflating: train/labels/accidentFrame2997_jpg.rf.f658d828891a68760b5de3e2d143bd2e.txt  \n",
            "  inflating: train/labels/accidentFrame3002_jpg.rf.25c909ee2ff170dfbe9d4f9fa1ce741e.txt  \n",
            "  inflating: train/labels/accidentFrame3002_jpg.rf.38afeb3df7845b961a4d9af10fb3560c.txt  \n",
            "  inflating: train/labels/accidentFrame3002_jpg.rf.6fd5e4eeb295f0d340ed877befaf88fa.txt  \n",
            "  inflating: train/labels/accidentFrame3002_jpg.rf.9a6716d7c7065b591b5a27071445e25b.txt  \n",
            "  inflating: train/labels/accidentFrame3002_jpg.rf.d9fe05933c9264bfa3ebf409ee0602ed.txt  \n",
            "  inflating: train/labels/accidentFrame3002_jpg.rf.e040181cbf352b4ef3df0fc1fceb085b.txt  \n",
            "  inflating: train/labels/accidentFrame3007_jpg.rf.198532a580e11805669be9d49be92377.txt  \n",
            "  inflating: train/labels/accidentFrame3007_jpg.rf.30bbc314080ff86e99ae1a773c5b131e.txt  \n",
            "  inflating: train/labels/accidentFrame3007_jpg.rf.4f21222e918a7de13af9e8b86dba3b17.txt  \n",
            "  inflating: train/labels/accidentFrame3007_jpg.rf.552e93d8b6e005c0901c4f7caa6eff70.txt  \n",
            "  inflating: train/labels/accidentFrame3007_jpg.rf.86641afa6705da4c0e0e1812d7286090.txt  \n",
            "  inflating: train/labels/accidentFrame3007_jpg.rf.dc4f157c957284fb5fec1b097e3dfbf8.txt  \n",
            "  inflating: train/labels/accidentFrame3008_jpg.rf.2b2565ba5b3b13723489474e31999c2e.txt  \n",
            "  inflating: train/labels/accidentFrame3008_jpg.rf.4314284c7964645cf034b4d065036d35.txt  \n",
            "  inflating: train/labels/accidentFrame3008_jpg.rf.c50c0b7b993a22b42beabce49e45bc73.txt  \n",
            "  inflating: train/labels/accidentFrame3008_jpg.rf.c95e136ce6a254fe34e8e18029eb494e.txt  \n",
            "  inflating: train/labels/accidentFrame3008_jpg.rf.ebc554e0a909135041258d4f4a825abf.txt  \n",
            "  inflating: train/labels/accidentFrame3009_jpg.rf.0c0671742e37a15f115ca0ba16861bdc.txt  \n",
            "  inflating: train/labels/accidentFrame3009_jpg.rf.a342b7f0a5ebe6926170b990e7a296e7.txt  \n",
            "  inflating: train/labels/accidentFrame3009_jpg.rf.b361d84de09deb5bebb767339c6e3b53.txt  \n",
            "  inflating: train/labels/accidentFrame3009_jpg.rf.c49643b88879b1f114374d7ced8a59ac.txt  \n",
            "  inflating: train/labels/accidentFrame3009_jpg.rf.fa94fbf2203567206dd2dd931f6c0f41.txt  \n",
            " extracting: train/labels/accidentFrame3010_jpg.rf.0232953ca20875fa513653bdd7234e28.txt  \n",
            " extracting: train/labels/accidentFrame3010_jpg.rf.179771d438d4c29d219269c74a87fd41.txt  \n",
            " extracting: train/labels/accidentFrame3010_jpg.rf.836c92d347861cb65ac5f3b3c7778c8d.txt  \n",
            " extracting: train/labels/accidentFrame3010_jpg.rf.bb8ca1b4bab876bbc7e250e6ba6a2b40.txt  \n",
            " extracting: train/labels/accidentFrame3010_jpg.rf.f338460a8af2f75eb7a761f0296d99d3.txt  \n",
            "  inflating: train/labels/accidentFrame3011_jpg.rf.3bd631938f891267dc0e5169ad219d71.txt  \n",
            "  inflating: train/labels/accidentFrame3011_jpg.rf.7b4feef116712014ff39ab7e597d8a90.txt  \n",
            "  inflating: train/labels/accidentFrame3011_jpg.rf.89affb4ee00a8bfd8af19bb39f02eecd.txt  \n",
            "  inflating: train/labels/accidentFrame3012_jpg.rf.317be1dd3beb968f99c26abdcff27315.txt  \n",
            "  inflating: train/labels/accidentFrame3012_jpg.rf.4a93ad9d5f3b9a31f00dad38aad6f9f9.txt  \n",
            "  inflating: train/labels/accidentFrame3012_jpg.rf.7a9584f9fc050988aa0906fd0e84000b.txt  \n",
            "  inflating: train/labels/accidentFrame3012_jpg.rf.7ae1c89bbb3f5836f24d8b2aaa35d350.txt  \n",
            "  inflating: train/labels/accidentFrame3012_jpg.rf.ab8f929d60da38272241de3ccec06882.txt  \n",
            "  inflating: train/labels/accidentFrame3013_jpg.rf.1f13c62068353eb61b0cecf6b53c6f62.txt  \n",
            "  inflating: train/labels/accidentFrame3013_jpg.rf.84b63fa52b85d5e16e1a4faf02c1dcb7.txt  \n",
            "  inflating: train/labels/accidentFrame3013_jpg.rf.9a686c3384a234b8e3391c297e14da4c.txt  \n",
            "  inflating: train/labels/accidentFrame3013_jpg.rf.b10aa4e2b0768806641a44ce6049ab72.txt  \n",
            "  inflating: train/labels/accidentFrame3013_jpg.rf.f35e2bd662e8b412c46f7ea3c05290b0.txt  \n",
            "  inflating: train/labels/accidentFrame3013_jpg.rf.ffb2f67a8a1a4837e042026e5e874a93.txt  \n",
            "  inflating: train/labels/accidentFrame3014_jpg.rf.29f0d7b3901001112fef23e2840e787d.txt  \n",
            "  inflating: train/labels/accidentFrame3014_jpg.rf.59958f70819e30631e9acd0565e4e80d.txt  \n",
            "  inflating: train/labels/accidentFrame3014_jpg.rf.619832380350fda91a11b89d521a7096.txt  \n",
            "  inflating: train/labels/accidentFrame3014_jpg.rf.a66d63ca8d051129d076ad3416edd55e.txt  \n",
            "  inflating: train/labels/accidentFrame3014_jpg.rf.c802625028327b1f6a81ec344e521be3.txt  \n",
            "  inflating: train/labels/accidentFrame3015_jpg.rf.589c8ab9981371999998335d7c67f43b.txt  \n",
            "  inflating: train/labels/accidentFrame3016_jpg.rf.40e63827c3aff1714351b599d085eacc.txt  \n",
            "  inflating: train/labels/accidentFrame3016_jpg.rf.56231fb51bba93598318c6da04929d37.txt  \n",
            "  inflating: train/labels/accidentFrame3016_jpg.rf.7add4dfddf92c2e1896d7cb4a85e9df6.txt  \n",
            "  inflating: train/labels/accidentFrame3016_jpg.rf.8e584575379b3f3fcd9ed5fe85fbc60b.txt  \n",
            "  inflating: train/labels/accidentFrame3016_jpg.rf.f192262fb7b5490ed3f69b113a04da9f.txt  \n",
            " extracting: train/labels/accidentFrame3210_jpg.rf.113bfa333e673c02c04cc4458faae28c.txt  \n",
            " extracting: train/labels/accidentFrame3210_jpg.rf.492b15c253f02e459e5a1065f5ed1e07.txt  \n",
            " extracting: train/labels/accidentFrame3210_jpg.rf.59db1d4dd158d070d9209b0b93149d74.txt  \n",
            " extracting: train/labels/accidentFrame3210_jpg.rf.a4f9a5f352dda6bed682364bf360b77b.txt  \n",
            "  inflating: train/labels/accidentFrame3211_jpg.rf.361db5a6b82cd14596873944aa718d90.txt  \n",
            "  inflating: train/labels/accidentFrame3211_jpg.rf.4f8f8d53ea8b7c86c8f4a44ab5c94c4c.txt  \n",
            "  inflating: train/labels/accidentFrame3211_jpg.rf.7184e3b6dad7743883fbb496f8ecd44c.txt  \n",
            "  inflating: train/labels/accidentFrame3211_jpg.rf.85fa9365f24c0bf47357526fbb1526db.txt  \n",
            "  inflating: train/labels/accidentFrame3211_jpg.rf.bc35afdb96af4602a11727f43134ae4a.txt  \n",
            "  inflating: train/labels/accidentFrame3211_jpg.rf.c41e48b7e1b9ccdd444eaeac0b0b18e1.txt  \n",
            "  inflating: train/labels/accidentFrame3212_jpg.rf.1d39c172c5ec31f9917a59b137d7fc2e.txt  \n",
            "  inflating: train/labels/accidentFrame3212_jpg.rf.7cf92c753ddf3f21b875c0740c07ae48.txt  \n",
            "  inflating: train/labels/accidentFrame3222_jpg.rf.5bb4fbfd5591fa6a551e07a0a41e5e32.txt  \n",
            "  inflating: train/labels/accidentFrame3222_jpg.rf.678bd237f390ccb18690a8602701e50b.txt  \n",
            "  inflating: train/labels/accidentFrame3222_jpg.rf.83f9547c0dcf801295c3658a7c196aae.txt  \n",
            "  inflating: train/labels/accidentFrame3222_jpg.rf.a9313a187415b84e36af2acdbe4261c0.txt  \n",
            "  inflating: train/labels/accidentFrame3222_jpg.rf.ac9fe5a0686d6f706a3a899e6453688c.txt  \n",
            "  inflating: train/labels/accidentFrame3222_jpg.rf.fb3fabb55f9da22e76d928a8d95c525c.txt  \n",
            "  inflating: train/labels/accidentFrame3223_jpg.rf.1658f10958f2b7ebea7e16c6944f02b4.txt  \n",
            "  inflating: train/labels/accidentFrame3223_jpg.rf.78481d77311d76e5dc5a91c9a066ae30.txt  \n",
            "  inflating: train/labels/accidentFrame3223_jpg.rf.925f8d5b7f3c84f0ef276ef70f81704d.txt  \n",
            "  inflating: train/labels/accidentFrame3223_jpg.rf.db9df9fbfb375dd29d41b24e03c369cf.txt  \n",
            "  inflating: train/labels/accidentFrame3223_jpg.rf.dbf38e604e299e60b9055d747457ad2b.txt  \n",
            "  inflating: train/labels/accidentFrame3224_jpg.rf.39bf29a4e86fdd544dc5c16214088a58.txt  \n",
            "  inflating: train/labels/accidentFrame3224_jpg.rf.5a0dad0010df08b68c2206e222bd1f4b.txt  \n",
            "  inflating: train/labels/accidentFrame3224_jpg.rf.80f0b678676b98e20d3fdc16abdfce0f.txt  \n",
            "  inflating: train/labels/accidentFrame3224_jpg.rf.991b4632fe760def275d8958856c7caf.txt  \n",
            "  inflating: train/labels/accidentFrame3224_jpg.rf.aa5249bb1c2c0f1a7cea42e0cb39f716.txt  \n",
            "  inflating: train/labels/accidentFrame3224_jpg.rf.ae984daf099f7ffd3cbd68a448bc069a.txt  \n",
            "  inflating: train/labels/accidentFrame3224_jpg.rf.e3441927fdb0353d9899e88c41c71b35.txt  \n",
            "  inflating: train/labels/accidentFrame3224_jpg.rf.e9283dc70cfa5996c9cffc279177a0e9.txt  \n",
            "  inflating: train/labels/accidentFrame3225_jpg.rf.36866504ea37f402e78512d06a9c1a35.txt  \n",
            "  inflating: train/labels/accidentFrame3225_jpg.rf.59721c37bff9f1177611b5e08cd091bd.txt  \n",
            "  inflating: train/labels/accidentFrame3225_jpg.rf.82494cb7d7f95fcc2afe97c2ea9e2f26.txt  \n",
            "  inflating: train/labels/accidentFrame3226_jpg.rf.31595884609eb4e701c092d33efc755e.txt  \n",
            "  inflating: train/labels/accidentFrame3226_jpg.rf.eba429d502a1a5e5fc6ad80d087c469c.txt  \n",
            "  inflating: train/labels/accidentFrame3415_jpg.rf.414e4619800bfa0d7dce5280c6df63cc.txt  \n",
            "  inflating: train/labels/accidentFrame3416_jpg.rf.24d03e725438d02e05e3ed28a4103ccb.txt  \n",
            "  inflating: train/labels/accidentFrame3416_jpg.rf.762d08456a6f869f55398728697b2614.txt  \n",
            "  inflating: train/labels/accidentFrame3416_jpg.rf.832102c0c23d159ce8980bb318a66055.txt  \n",
            "  inflating: train/labels/accidentFrame3416_jpg.rf.a031052cf60f025c4d65c9e6c90e8197.txt  \n",
            "  inflating: train/labels/accidentFrame3417_jpg.rf.65aa2cbb23511d992508a4be2654a35c.txt  \n",
            "  inflating: train/labels/accidentFrame3418_jpg.rf.1ca664ef2511a33c7e67d4cf36172323.txt  \n",
            "  inflating: train/labels/accidentFrame3418_jpg.rf.2d68091498a7608fc3b2615c1f43b3e9.txt  \n",
            "  inflating: train/labels/accidentFrame3418_jpg.rf.3850001c67de42b9e7c275fc2fbb9853.txt  \n",
            "  inflating: train/labels/accidentFrame3418_jpg.rf.62f0e0cd58e3b215dc8a500944600183.txt  \n",
            "  inflating: train/labels/accidentFrame3418_jpg.rf.6ab4b91e751fcaa4e0d5a79ad2aeafa2.txt  \n",
            "  inflating: train/labels/accidentFrame3418_jpg.rf.92e00e6e67fab86c8c0dab06d0225eed.txt  \n",
            " extracting: train/labels/accidentFrame3419_jpg.rf.1ddbf6a85be789c25bcac04fafb6f77c.txt  \n",
            " extracting: train/labels/accidentFrame3419_jpg.rf.38abb85d4eade974bd05c1ab2b1d2149.txt  \n",
            "  inflating: train/labels/accidentFrame3420_jpg.rf.3334757373f4f8f810d9d5cb03d85afc.txt  \n",
            "  inflating: train/labels/accidentFrame3420_jpg.rf.8eb22eacfb7d083066e503cecaf4bae6.txt  \n",
            "  inflating: train/labels/accidentFrame3420_jpg.rf.a3d8b4d64b537c2976581c39ebc21cf7.txt  \n",
            "  inflating: train/labels/accidentFrame3421_jpg.rf.7ddcd72e586d2d678ca31a2243103404.txt  \n",
            "  inflating: train/labels/accidentFrame3421_jpg.rf.bf36ce9c0015f5357fbec7205446062a.txt  \n",
            "  inflating: train/labels/accidentFrame3947_jpg.rf.3f489b5b000391586840da1d05188421.txt  \n",
            "  inflating: train/labels/accidentFrame3947_jpg.rf.c0d43153a5fd15b4ce849c12d60dcdfb.txt  \n",
            "  inflating: train/labels/accidentFrame3949_jpg.rf.1e47789ccd425bf81da99d3237008825.txt  \n",
            "  inflating: train/labels/accidentFrame460_jpg.rf.9b57cd918c951917f512ece53c198c12.txt  \n",
            "  inflating: train/labels/accidentFrame462_jpg.rf.639cd39412d221dd885f60632a565b08.txt  \n",
            "  inflating: train/labels/accidentFrame462_jpg.rf.a75d260597a39e8ab188dac54b1844cb.txt  \n",
            "  inflating: train/labels/accidentFrame463_jpg.rf.eddbb74158430a0e321bb8893c715a1b.txt  \n",
            "  inflating: train/labels/accidentFrame463_jpg.rf.fc254e858cfa9c3ebcbcf7104db67f6b.txt  \n",
            "  inflating: train/labels/accidentFrame470_jpg.rf.d6e1a20b8c57ae9f472af65879530e9f.txt  \n",
            "  inflating: train/labels/accidentFrame471_jpg.rf.0df847629f556ab2d8745735645d62ff.txt  \n",
            "  inflating: train/labels/accidentFrame472_jpg.rf.0bde8e30c15614e97ae760a9514fde2c.txt  \n",
            "  inflating: train/labels/accidentFrame472_jpg.rf.37e573cc4125d3c7744bf1dbba6aa76f.txt  \n",
            "  inflating: train/labels/arkatqejjx0ulhxbbrsj_jpg.rf.d8a975f5287c9c76f73d46307846afca.txt  \n",
            "  inflating: train/labels/buy1_jpg.rf.7787106aef70799ba0a717c34dd839fb.txt  \n",
            "  inflating: train/labels/buy1_jpg.rf.8280589c11db75e0a27f0a53f34a97db.txt  \n",
            "  inflating: train/labels/buy2_jpg.rf.20ed1e421654ab1dc8d6d08fab57bd62.txt  \n",
            "  inflating: train/labels/buy2_jpg.rf.dc7411415fec435c9958399e83eca18a.txt  \n",
            "  inflating: train/labels/buy2_jpg.rf.ea3a502fbc2b3b8ef1e0dad16e83085f.txt  \n",
            "  inflating: train/labels/buy3_jpg.rf.00fd496b938d98619b23c28fd409bdab.txt  \n",
            "  inflating: train/labels/buy3_jpg.rf.61a267e67dda3bfad663646740e97b6c.txt  \n",
            "  inflating: train/labels/buy3_jpg.rf.8f665e9e05161c3e2c02b9950a96d9b2.txt  \n",
            "  inflating: train/labels/buy3_jpg.rf.9be08fd530855d9a4cb6bb6930e04a98.txt  \n",
            "  inflating: train/labels/buy3_jpg.rf.be408d5bd82de2a22965a6643cea019f.txt  \n",
            "  inflating: train/labels/buy3_jpg.rf.c4e7e69e0dca16efa640e95779881663.txt  \n",
            "  inflating: train/labels/buy4_jpg.rf.1c28baa1e896d82c2b75e7cc4899e688.txt  \n",
            "  inflating: train/labels/buy4_jpg.rf.565dc8a103eca871e82079a551384165.txt  \n",
            "  inflating: train/labels/buy4_jpg.rf.99ddf208db2d1e77d426e8e3821bbeb4.txt  \n",
            "  inflating: train/labels/buy4_jpg.rf.ca3ae42e8b3c4226aba56d62862f548f.txt  \n",
            " extracting: train/labels/buy5_jpg.rf.4dc4fdac7976d556abe162ce9221fe4c.txt  \n",
            " extracting: train/labels/buy5_jpg.rf.5b0eddf1ad871fd713398616eb7cf7cc.txt  \n",
            " extracting: train/labels/buy6_jpg.rf.c36a8494329fefbcb96c58c73222b5a7.txt  \n",
            " extracting: train/labels/buy6_jpg.rf.c5d092d1a586ff240cc14c6d751d3bda.txt  \n",
            " extracting: train/labels/buy6_jpg.rf.eb3f2bd055c8c61e038de0dc7a220e2a.txt  \n",
            " extracting: train/labels/buy6_jpg.rf.f679456e9c3e21f18d7e25e09bed44e1.txt  \n",
            "  inflating: train/labels/car_on_parked_cars_jpg.rf.0883e071e394360420cb743d5ebed894.txt  \n",
            "  inflating: train/labels/car_on_parked_cars_jpg.rf.4018876751ad6a72eaf1ec9775b47a2c.txt  \n",
            "  inflating: train/labels/car_on_parked_cars_jpg.rf.9d80a832ad4ac29afe6e1c2dc041ef42.txt  \n",
            "  inflating: train/labels/clarabartoncrash_jpg.rf.270f5b04782dffefb08fbe97333cc558.txt  \n",
            "  inflating: train/labels/clarabartoncrash_jpg.rf.69e4bd3bc34ed3e52c9d6f9384874cca.txt  \n",
            "  inflating: train/labels/clarabartoncrash_jpg.rf.701827a0df3f1d86ec00876ec276ae0d.txt  \n",
            "  inflating: train/labels/clarabartoncrash_jpg.rf.a3e262c2e66a98a8b0313725d1c9572e.txt  \n",
            "  inflating: train/labels/clarabartoncrash_jpg.rf.c0edd584eb2f2a4687d106116b034b44.txt  \n",
            "  inflating: train/labels/clarabartoncrash_jpg.rf.ca09b7534c71e33d1451941f8ce908ef.txt  \n",
            "  inflating: train/labels/clarabartoncrash_jpg.rf.d4927dbec3dddf458563c644c4af5d2b.txt  \n",
            "  inflating: train/labels/crash-test-collision-60-km-h-distraction-163016_jpeg.rf.3d71263bba80e687185e5bcc19086467.txt  \n",
            " extracting: train/labels/crashbetter_jpg.rf.65aebdaed832e373354928ed708027c8.txt  \n",
            " extracting: train/labels/crashbetter_jpg.rf.741e77343542aff51e6584fce9087dc0.txt  \n",
            " extracting: train/labels/crashbetter_jpg.rf.7dbfd6803fcd77a430b959e0f20408e7.txt  \n",
            " extracting: train/labels/crashbetter_jpg.rf.9b1d9387664ce087a75a4546c2638896.txt  \n",
            " extracting: train/labels/crashbetter_jpg.rf.b0c12e669f00095764426e8276299c0f.txt  \n",
            " extracting: train/labels/crashbetter_jpg.rf.b1ad512e64ecc274059de7f270d3a32e.txt  \n",
            " extracting: train/labels/crashbetter_jpg.rf.f9db69dd4fcf0e579e6ac5f558872d6e.txt  \n",
            "  inflating: train/labels/download-10-_jpg.rf.2f421a50d2ca37604093d5f53d2b5a9e.txt  \n",
            "  inflating: train/labels/download-10_jpg.rf.0bfe081fe3984d8591df0a16cd42e667.txt  \n",
            "  inflating: train/labels/download-10_jpg.rf.1d99114fe47e21fff79cad6428988a26.txt  \n",
            "  inflating: train/labels/download-10_jpg.rf.27e9227ba915a9d42d03f700c0580b12.txt  \n",
            "  inflating: train/labels/download-10_jpg.rf.67d9c91988a3b217981b85e135cf197c.txt  \n",
            "  inflating: train/labels/download-10_jpg.rf.c07e8cc9fc2989dbee5a449a3f0882dc.txt  \n",
            "  inflating: train/labels/download-10_jpg.rf.f6bd20a55e6d726c542e922ede09c035.txt  \n",
            "  inflating: train/labels/download-11_jpg.rf.0529d92de3c1a1cb8db32b1d9eee5b68.txt  \n",
            "  inflating: train/labels/download-11_jpg.rf.6b7573a8be9bb4ba3f52aaa1eb29f6e5.txt  \n",
            "  inflating: train/labels/download-11_jpg.rf.8ca80774206a3da694ec1b0feafcd6b9.txt  \n",
            "  inflating: train/labels/download-11_jpg.rf.93c4900da77614f2edaf14e2599d6a6d.txt  \n",
            "  inflating: train/labels/download-11_jpg.rf.deb27b5be5bef35f41b1ae5dd1969da4.txt  \n",
            "  inflating: train/labels/download-11_jpg.rf.e585aa806c4d1605303f7d138bd986ef.txt  \n",
            "  inflating: train/labels/download-11_jpg.rf.e71b19ccc802fba26b3840a18c84740b.txt  \n",
            "  inflating: train/labels/download-11_jpg.rf.f09f640aba0b8daffae70b86721e5861.txt  \n",
            "  inflating: train/labels/download-12-_jpg.rf.e23b1c9e21f300d6538bdee8b554f4c3.txt  \n",
            " extracting: train/labels/download-12_jpg.rf.56e93beeed599e9b871fa74f5fd4452c.txt  \n",
            " extracting: train/labels/download-12_jpg.rf.7b68a7922be373c670cd12624053bdb3.txt  \n",
            " extracting: train/labels/download-12_jpg.rf.c454e352f6fcb8c671ed26e6dcd298bd.txt  \n",
            " extracting: train/labels/download-13_jpg.rf.7a9a50b1b185fd4ea4a787b75228bc93.txt  \n",
            "  inflating: train/labels/download-14-_jpg.rf.6a080a81bcd90219be3a34f943e24c0b.txt  \n",
            "  inflating: train/labels/download-15-_jpg.rf.a99f8c137e570ddff90a10724d85b2c2.txt  \n",
            "  inflating: train/labels/download-17-_jpg.rf.8e96b47382021a9961a9b5ef9f41e370.txt  \n",
            "  inflating: train/labels/download-19-_jpg.rf.71a38f9d6cdfc10587599f0b17dc50b2.txt  \n",
            "  inflating: train/labels/download-1_jpg.rf.07a4ae9af055b71e2c258a26d4e757af.txt  \n",
            "  inflating: train/labels/download-1_jpg.rf.0adffc6bab3327b372ed6891615be7dd.txt  \n",
            "  inflating: train/labels/download-1_jpg.rf.1a2cde3c4f6a47b7e8846d2113ff3012.txt  \n",
            "  inflating: train/labels/download-1_jpg.rf.3b64c8409e4e560c294b02bb2d9dbe30.txt  \n",
            "  inflating: train/labels/download-1_jpg.rf.41e48026696f49b7b434e372647587ec.txt  \n",
            "  inflating: train/labels/download-1_jpg.rf.65e38841c72c993dc46694d91f9f051b.txt  \n",
            "  inflating: train/labels/download-1_jpg.rf.715b80afd685f9ce7cd40b3afa635bf7.txt  \n",
            "  inflating: train/labels/download-1_jpg.rf.801d14e4f119419ce619846dd6bec869.txt  \n",
            "  inflating: train/labels/download-1_jpg.rf.c3678c6570b8a8d523bb55e907ad40b8.txt  \n",
            "  inflating: train/labels/download-1_jpg.rf.c6f029c01e6f9cc61a8277848f6f9e08.txt  \n",
            "  inflating: train/labels/download-1_jpg.rf.d65c05fa580812ecf14e45e1ae0a8e2f.txt  \n",
            "  inflating: train/labels/download-1_jpg.rf.d8f94161f5f24f631bd165e43c3529a2.txt  \n",
            "  inflating: train/labels/download-1_jpg.rf.df4004d2433b5493e7d7d976e0813b74.txt  \n",
            "  inflating: train/labels/download-1_jpg.rf.ec5f5bf93ef90f353a7031ace504df19.txt  \n",
            "  inflating: train/labels/download-1_jpg.rf.ee52e0161e37484fad60c9b9cae38882.txt  \n",
            "  inflating: train/labels/download-1_jpg.rf.f3bda872435e932e2f8576bba7df7c4b.txt  \n",
            "  inflating: train/labels/download-1_jpg.rf.f6faf5692c619e153fc85e1ca2ee148a.txt  \n",
            "  inflating: train/labels/download-1_jpg.rf.ffa27088660f861627bf58576561d5dd.txt  \n",
            "  inflating: train/labels/download-2-_jpg.rf.649ea4fc1ada9a421ed5398756637595.txt  \n",
            "  inflating: train/labels/download-20-_jpg.rf.12f8514baba3e9e1242f42a2849876d4.txt  \n",
            "  inflating: train/labels/download-21-_jpg.rf.e1bac6065e34190a4f75a83c5069014c.txt  \n",
            "  inflating: train/labels/download-22-_jpg.rf.8a46816ae5035849dec709b66225fed9.txt  \n",
            "  inflating: train/labels/download-23-_jpg.rf.ec1d5bafe872c7e2010dcfa97340d29c.txt  \n",
            "  inflating: train/labels/download-25-_jpg.rf.d9ae73310f04fc38752125b96e08674d.txt  \n",
            "  inflating: train/labels/download-26-_jpg.rf.9f60079f805a3b2003326dd568b50f45.txt  \n",
            "  inflating: train/labels/download-27-_jpg.rf.327d66b0b51e3bf44b6dc5cc8eb0edab.txt  \n",
            "  inflating: train/labels/download-2_jpg.rf.00848f90a09758d4d4ad3449050aa3d3.txt  \n",
            "  inflating: train/labels/download-2_jpg.rf.07c79001d3197c6e9f944c72345f8218.txt  \n",
            " extracting: train/labels/download-2_jpg.rf.1452fdedf4b227331789ee59e2884e0d.txt  \n",
            "  inflating: train/labels/download-2_jpg.rf.177b704fadd8a8e979b21333798d362b.txt  \n",
            "  inflating: train/labels/download-2_jpg.rf.39153228ce4f8a8035b9ac0f28f15cf3.txt  \n",
            "  inflating: train/labels/download-2_jpg.rf.3e001dce6d82fc21fc2f14a1ab6b30e6.txt  \n",
            "  inflating: train/labels/download-2_jpg.rf.4c0c89ba72e119eb793ca5838f150ee0.txt  \n",
            "  inflating: train/labels/download-2_jpg.rf.75755754687b16b7d1c08cb618e38eaa.txt  \n",
            "  inflating: train/labels/download-2_jpg.rf.83da8c72681ba1feaf8526083e84588c.txt  \n",
            "  inflating: train/labels/download-2_jpg.rf.96f5c3ae04e00383668abfc1e7ce04db.txt  \n",
            "  inflating: train/labels/download-2_jpg.rf.9a4d08312c4800888087879975edf938.txt  \n",
            "  inflating: train/labels/download-2_jpg.rf.9ae5c62a4eaa80648fc37afc22b60dd1.txt  \n",
            "  inflating: train/labels/download-2_jpg.rf.a0d6e9e4b2914d55dcf288564153001d.txt  \n",
            "  inflating: train/labels/download-2_jpg.rf.a3acc38b96914d0f4774d5d1a1198da6.txt  \n",
            "  inflating: train/labels/download-2_jpg.rf.a8a05627be9f85837c5435e18d2eea5b.txt  \n",
            "  inflating: train/labels/download-2_jpg.rf.a8c4bd72aa04e685d7a608d08ea6553a.txt  \n",
            "  inflating: train/labels/download-2_jpg.rf.beb74a6b300279a1d730fd9a7095faec.txt  \n",
            "  inflating: train/labels/download-2_jpg.rf.c3c4c09c788f40c108a8d7f7813f0bec.txt  \n",
            "  inflating: train/labels/download-2_jpg.rf.d3fdd6954832fa5109155084452c1573.txt  \n",
            "  inflating: train/labels/download-2_jpg.rf.d5435462ee4562a139ef4bffb8b4db73.txt  \n",
            "  inflating: train/labels/download-2_jpg.rf.e665de9c4a1d2dee989e3b0e560e7d99.txt  \n",
            "  inflating: train/labels/download-2_jpg.rf.eadad0f7863e6f6776eb871b7ac4d548.txt  \n",
            "  inflating: train/labels/download-2_jpg.rf.ebb0436d838bd16ce69eb92345c49922.txt  \n",
            "  inflating: train/labels/download-2_jpg.rf.fecbe4068ad18d09954d2873c5dc8c53.txt  \n",
            " extracting: train/labels/download-3_jpg.rf.32930cd6618ff23b12a2d2ee5e7bc905.txt  \n",
            "  inflating: train/labels/download-3_jpg.rf.3b880aad5f6d4b9ebeaa8002fc7feb33.txt  \n",
            "  inflating: train/labels/download-3_jpg.rf.514f6a6f957027883b69526f6c1ad1d8.txt  \n",
            "  inflating: train/labels/download-3_jpg.rf.56f71c27ea77fabb7fa842bc1f1be188.txt  \n",
            "  inflating: train/labels/download-3_jpg.rf.5f1d17c6c358c53af8e298decae9b922.txt  \n",
            " extracting: train/labels/download-3_jpg.rf.76ed13ea7955f1d019b839f6a011be62.txt  \n",
            "  inflating: train/labels/download-3_jpg.rf.84c6ece2174e288571d5f57612014377.txt  \n",
            "  inflating: train/labels/download-3_jpg.rf.a3418330dce63283b22a2dd2e5637021.txt  \n",
            "  inflating: train/labels/download-3_jpg.rf.ba70eaac7dd52474825b1048d6ce3bfd.txt  \n",
            "  inflating: train/labels/download-3_jpg.rf.d1317f1f3e21aa019f4cd405679e2e75.txt  \n",
            "  inflating: train/labels/download-3_jpg.rf.d8c033e9aa84ebac378cbbedbf1e255b.txt  \n",
            "  inflating: train/labels/download-3_jpg.rf.e403af061802ed6ce125af4b7f1dd0a2.txt  \n",
            " extracting: train/labels/download-3_jpg.rf.e4da98b7d2c756e7c4669810c2d5e6f8.txt  \n",
            "  inflating: train/labels/download-3_jpg.rf.ff858d0bf56af9496f742a55f0927d1b.txt  \n",
            "  inflating: train/labels/download-4-_jpg.rf.ae17c6c7e476172fea0f0e9545871da4.txt  \n",
            "  inflating: train/labels/download-4_jpg.rf.2cba552ff21d2bb7eb288380417bc9f9.txt  \n",
            "  inflating: train/labels/download-4_jpg.rf.34e6640dac31a68ea48888e8f8f72629.txt  \n",
            "  inflating: train/labels/download-4_jpg.rf.4de8bbf67f4b15606e77473a527fc74c.txt  \n",
            "  inflating: train/labels/download-4_jpg.rf.8b12be5e74b64652f47ae26956ed03a3.txt  \n",
            "  inflating: train/labels/download-4_jpg.rf.ca61d8a8ab1438e7e8ceeaf148b57e0c.txt  \n",
            "  inflating: train/labels/download-4_jpg.rf.cfff62e002e92ebcc6951d1a20e85a2e.txt  \n",
            "  inflating: train/labels/download-5-_jpg.rf.867f23911e0702df0f9b41b56185a12d.txt  \n",
            " extracting: train/labels/download-5_jpg.rf.01d4afd8d01de16d5ac752a9e51617cd.txt  \n",
            "  inflating: train/labels/download-5_jpg.rf.18c110862e24547e7d56a4fd61a85df9.txt  \n",
            " extracting: train/labels/download-5_jpg.rf.2729d5c9ce3c14729bd0d4469d6c83e1.txt  \n",
            " extracting: train/labels/download-5_jpg.rf.2defc5ca305228b23af652cb8831258a.txt  \n",
            " extracting: train/labels/download-5_jpg.rf.44b72a378d16312c116fa006f2afef02.txt  \n",
            " extracting: train/labels/download-5_jpg.rf.4fb8c4b55ddce1478bcbe3513dfa7068.txt  \n",
            "  inflating: train/labels/download-5_jpg.rf.761cf450c09c2d401ddb69d73348f932.txt  \n",
            "  inflating: train/labels/download-5_jpg.rf.b3018d25ae0d487e3579ee758639bcc2.txt  \n",
            "  inflating: train/labels/download-5_jpg.rf.b3e229e324de62286e2b3482dd6790c2.txt  \n",
            "  inflating: train/labels/download-5_jpg.rf.c755a8b70eea01090d705c6410824f63.txt  \n",
            "  inflating: train/labels/download-5_jpg.rf.d5c4d034eb9177fbaac348b0a05be624.txt  \n",
            "  inflating: train/labels/download-6_jpg.rf.110837ed4f54d6a2d3772cdb29214401.txt  \n",
            "  inflating: train/labels/download-6_jpg.rf.44ca9cf6667cc4420f822ee987738e7d.txt  \n",
            "  inflating: train/labels/download-6_jpg.rf.716b12f6cee05c07fa308075908cf2f3.txt  \n",
            "  inflating: train/labels/download-6_jpg.rf.be8fbc1a07e17d18193fc2aa94a4a233.txt  \n",
            "  inflating: train/labels/download-6_jpg.rf.c3a82e9ed49d2782099baddfbefb68b9.txt  \n",
            "  inflating: train/labels/download-6_jpg.rf.f8dd0e2cff2c277b042c6a842506bd8b.txt  \n",
            "  inflating: train/labels/download-7-_jpg.rf.2408ca95e64740bcdf1e5bd9377c5fe5.txt  \n",
            "  inflating: train/labels/download-7_jpg.rf.04f786fcbf52aece6af2b9e7231dc3cc.txt  \n",
            " extracting: train/labels/download-7_jpg.rf.20b727073df8727e692cbd1befb8cb4e.txt  \n",
            "  inflating: train/labels/download-7_jpg.rf.3af1074a8254dac7821fa1e4d80943e5.txt  \n",
            " extracting: train/labels/download-7_jpg.rf.3fc893fd7b0b257a3a136d3ced311321.txt  \n",
            "  inflating: train/labels/download-7_jpg.rf.7020622ca53abb8243d840c866c48485.txt  \n",
            " extracting: train/labels/download-7_jpg.rf.baa5c2b5477742a7949d3fb0a4ba3f84.txt  \n",
            "  inflating: train/labels/download-7_jpg.rf.d7e89eec053c08ee7c161eb7c24165c2.txt  \n",
            " extracting: train/labels/download-7_jpg.rf.deb64a94319e12a40f0e0ece7c8410f6.txt  \n",
            "  inflating: train/labels/download-7_jpg.rf.dfa01ed9d0778b6f9471aceea0844a2a.txt  \n",
            "  inflating: train/labels/download-7_jpg.rf.ef2c1615fd39d0c93d74fa51d45538c6.txt  \n",
            " extracting: train/labels/download-7_jpg.rf.fe5ba663c54ae62a21bd8ccbd1332392.txt  \n",
            "  inflating: train/labels/download-7_jpg.rf.fe79c99a919464494908c1a5e8daaf1f.txt  \n",
            "  inflating: train/labels/download-8_jpg.rf.056b387d508ced6b8f530f4854840126.txt  \n",
            "  inflating: train/labels/download-8_jpg.rf.08099e918d46a2ff4ad09a7d0821c6bb.txt  \n",
            "  inflating: train/labels/download-8_jpg.rf.37c5905613b769b00330f7cfe8a3a13a.txt  \n",
            "  inflating: train/labels/download-8_jpg.rf.6e79b7ada979ca748b76ea2f333e385d.txt  \n",
            "  inflating: train/labels/download-8_jpg.rf.715ca0508760c8bf6fc7b3232f6c9211.txt  \n",
            "  inflating: train/labels/download-8_jpg.rf.9d3846a936e1c4dfab7d52bc0281d939.txt  \n",
            "  inflating: train/labels/download-8_jpg.rf.b3f6d663328545ed21e8471016fde7a5.txt  \n",
            "  inflating: train/labels/download-8_jpg.rf.b49d5c5c99539c0e58b327279c916589.txt  \n",
            "  inflating: train/labels/download-9-_jpg.rf.0e71ca3b93126f490e288ff516eacd0d.txt  \n",
            "  inflating: train/labels/download-9_jpg.rf.0686b14b2a2a093e39bef08b53fa161d.txt  \n",
            "  inflating: train/labels/download-9_jpg.rf.121c8de0151ad023eb731906514d26c1.txt  \n",
            "  inflating: train/labels/download-9_jpg.rf.2f7dfd0699881ba6172e1b12b51160aa.txt  \n",
            "  inflating: train/labels/download-9_jpg.rf.2f8e740fdb0b3905a6833fbea319f483.txt  \n",
            "  inflating: train/labels/download-9_jpg.rf.416fd675b3cfe2ce78c263252801508c.txt  \n",
            "  inflating: train/labels/download-9_jpg.rf.47b25addd9f217ae9b3b8ccb3472a7f5.txt  \n",
            "  inflating: train/labels/download-9_jpg.rf.6f26659ee75bcb6dc1c7b3f452ee288f.txt  \n",
            "  inflating: train/labels/download-9_jpg.rf.7377975bce6d53f63f649617d0d20c02.txt  \n",
            "  inflating: train/labels/download-9_jpg.rf.9b97276f1f25c643502bbc5cd10ee518.txt  \n",
            "  inflating: train/labels/download-9_jpg.rf.b4380911de30e6111954e92eaadf0cb5.txt  \n",
            "  inflating: train/labels/download-9_jpg.rf.e6f9e57bf49c87a1df7991f78d7667ae.txt  \n",
            "  inflating: train/labels/download_jpg.rf.0266feae878bd11afa0ae8491c47ec09.txt  \n",
            "  inflating: train/labels/download_jpg.rf.133f7ea26f167761ca7d081462f3b776.txt  \n",
            "  inflating: train/labels/download_jpg.rf.1ce5c6f0b5ae6bde06f53ccc26f7013a.txt  \n",
            "  inflating: train/labels/download_jpg.rf.275c1a4a00dbcc07caeb8818d559e468.txt  \n",
            "  inflating: train/labels/download_jpg.rf.27fd1c067caa74f9e1b3d9d8541c0cc3.txt  \n",
            " extracting: train/labels/download_jpg.rf.2eb35efcd409cf66e433f8bfa749039d.txt  \n",
            "  inflating: train/labels/download_jpg.rf.30626296055199876b5207cfc2a7b02a.txt  \n",
            "  inflating: train/labels/download_jpg.rf.32d85f035d98fd83d0439c9ff171816f.txt  \n",
            "  inflating: train/labels/download_jpg.rf.37b31539f28eb67b67c851710410634e.txt  \n",
            " extracting: train/labels/download_jpg.rf.4854191df0da7c801620129539ec1824.txt  \n",
            "  inflating: train/labels/download_jpg.rf.5b57d4d0efb788f8e9ef78b76e781797.txt  \n",
            "  inflating: train/labels/download_jpg.rf.70222e843f5b4106ac6eb2a71cf8993a.txt  \n",
            "  inflating: train/labels/download_jpg.rf.72c102d8b9f45fa8780dffd967add73d.txt  \n",
            " extracting: train/labels/download_jpg.rf.734782e408bd4366c539722bcbcac004.txt  \n",
            "  inflating: train/labels/download_jpg.rf.7786c2d762511860519257c28d8d0b06.txt  \n",
            "  inflating: train/labels/download_jpg.rf.7a676d188f1ad2ea4d93784266c0acc0.txt  \n",
            "  inflating: train/labels/download_jpg.rf.802b705d7c1b0b10137f9044dd3771e9.txt  \n",
            "  inflating: train/labels/download_jpg.rf.87abbcf135452759193afbd60468fe33.txt  \n",
            "  inflating: train/labels/download_jpg.rf.8b4111e24e25d19730fcedc0696efd43.txt  \n",
            "  inflating: train/labels/download_jpg.rf.933875805d3a77b1caf191d7f94bf835.txt  \n",
            "  inflating: train/labels/download_jpg.rf.9eb476ece135ea125e90220673a1b0ee.txt  \n",
            "  inflating: train/labels/download_jpg.rf.a94eac9e3ce7dcd851602ab18be46d05.txt  \n",
            "  inflating: train/labels/download_jpg.rf.b3a37fd7c66fa0046f7d34b1a6852da7.txt  \n",
            " extracting: train/labels/download_jpg.rf.b6445a125385193ec8b7c75c1439106b.txt  \n",
            "  inflating: train/labels/download_jpg.rf.bcf7b6e64f7980ba3830116ba2cf365f.txt  \n",
            "  inflating: train/labels/download_jpg.rf.d071596c0e3fcefe98aabce92bf4efcc.txt  \n",
            "  inflating: train/labels/download_jpg.rf.d20989420bd63c1cce78ea99d943a8bc.txt  \n",
            "  inflating: train/labels/download_jpg.rf.ef32a3633a71661ff380c854481d7110.txt  \n",
            " extracting: train/labels/download_jpg.rf.ef35e1376e053f701144518411f872ae.txt  \n",
            "  inflating: train/labels/download_jpg.rf.efc7b1bcb78adcb3822be12841765a27.txt  \n",
            "  inflating: train/labels/download_jpg.rf.f19d0eea37710a4438a357643d081395.txt  \n",
            "  inflating: train/labels/download_jpg.rf.f7092fdc334ac5629482dc319f649e40.txt  \n",
            " extracting: train/labels/download_jpg.rf.fb988eea6c3fbe693a24073037c33973.txt  \n",
            "  inflating: train/labels/download_jpg.rf.fcc5f6cd89971d35971fe00cde4f70a0.txt  \n",
            "  inflating: train/labels/download_jpg.rf.ffb75784a5d60c7723f3f204d1546a29.txt  \n",
            "  inflating: train/labels/images-10_jpg.rf.03ab0c11cbb8762d14ffad1d9a697f12.txt  \n",
            "  inflating: train/labels/images-10_jpg.rf.246aa7682ead0331474e417a149e5bc7.txt  \n",
            "  inflating: train/labels/images-10_jpg.rf.2766f0245b09fc3feea52de6d5975e92.txt  \n",
            " extracting: train/labels/images-10_jpg.rf.2e68d8e47be486c5b7ba44dee1c68642.txt  \n",
            "  inflating: train/labels/images-10_jpg.rf.36da20f11e0577663e6974f65ebe5ae2.txt  \n",
            "  inflating: train/labels/images-10_jpg.rf.54f6759482f4823af9ec1166686a8cff.txt  \n",
            "  inflating: train/labels/images-10_jpg.rf.615c207af3fe5952d67a722f60b43fe5.txt  \n",
            " extracting: train/labels/images-10_jpg.rf.61c443a69728f34510c698a7cba6fdb4.txt  \n",
            "  inflating: train/labels/images-10_jpg.rf.66e11ccce80e4a23ffb42ebc87bf1e38.txt  \n",
            "  inflating: train/labels/images-10_jpg.rf.6a65234bf1ae47b1b7a9d091b0847a3c.txt  \n",
            "  inflating: train/labels/images-10_jpg.rf.77907a2452957a568d5ebc255935d445.txt  \n",
            "  inflating: train/labels/images-10_jpg.rf.7ae3de2b4741e2df12e8dfb866fb4b10.txt  \n",
            "  inflating: train/labels/images-10_jpg.rf.931c44fe0323bc0ba18e9b6b785c0370.txt  \n",
            " extracting: train/labels/images-10_jpg.rf.a36a1d2c79445e0588ed80cef7db1e94.txt  \n",
            " extracting: train/labels/images-10_jpg.rf.a964a5fe919a00b7a5aa9861b6d33439.txt  \n",
            "  inflating: train/labels/images-10_jpg.rf.bd32223f866bc320460ade8562797532.txt  \n",
            "  inflating: train/labels/images-10_jpg.rf.c2554d85430250103024e283cf479df3.txt  \n",
            " extracting: train/labels/images-10_jpg.rf.d54a3e7c02f898fdaa1d463226e298d5.txt  \n",
            "  inflating: train/labels/images-10_jpg.rf.e25772c365dcf35cf9a086fb691f10c0.txt  \n",
            "  inflating: train/labels/images-10_jpg.rf.e3f0bceb81fee762fc42636fd8f684e8.txt  \n",
            "  inflating: train/labels/images-10_jpg.rf.ef2638fd28ddc141dbe58a7b59b55b22.txt  \n",
            "  inflating: train/labels/images-10_jpg.rf.f691e69450b416d6c94586e375281783.txt  \n",
            "  inflating: train/labels/images-11_jpg.rf.0bec33adabc32ba85c9be0a1b30d1c44.txt  \n",
            "  inflating: train/labels/images-11_jpg.rf.0cdf20a4fdc68b89ebea98b53174f488.txt  \n",
            "  inflating: train/labels/images-11_jpg.rf.2717fbda31e90436d16dbc8fcd01f97f.txt  \n",
            "  inflating: train/labels/images-11_jpg.rf.78e459b21f003ccecd2ec578db88bf59.txt  \n",
            "  inflating: train/labels/images-11_jpg.rf.7c0eeeab9f25256b9a5c518b579b4b7d.txt  \n",
            "  inflating: train/labels/images-11_jpg.rf.b434375c2222ed6340642e6f842fcde3.txt  \n",
            "  inflating: train/labels/images-11_jpg.rf.b7c932856482ecb22d313b36fc3aada5.txt  \n",
            "  inflating: train/labels/images-11_jpg.rf.bf55157d15cb81f00c3cb06ab2dfd0be.txt  \n",
            "  inflating: train/labels/images-11_jpg.rf.c8812a1db0703f89bc0b1a276a98bacb.txt  \n",
            "  inflating: train/labels/images-11_jpg.rf.d9d371f50e8d45d7613ffd5098e4777c.txt  \n",
            "  inflating: train/labels/images-11_jpg.rf.da577f52f7ad8fb78a407092a55a6faf.txt  \n",
            "  inflating: train/labels/images-11_jpg.rf.e8e9be6bac0a3bce3a0d29e236de42d1.txt  \n",
            "  inflating: train/labels/images-12_jpg.rf.056f78aca02aff21c214c7499d2b49a2.txt  \n",
            " extracting: train/labels/images-12_jpg.rf.0affe4c211618cf0aaf00236767f24d1.txt  \n",
            "  inflating: train/labels/images-12_jpg.rf.0ee1c3706b3c16228650c7760330bc69.txt  \n",
            "  inflating: train/labels/images-12_jpg.rf.2753b85a00802e0ee15178340bbef0af.txt  \n",
            "  inflating: train/labels/images-12_jpg.rf.2b2a76b8bd49347093996832d94b5005.txt  \n",
            " extracting: train/labels/images-12_jpg.rf.3c1734a76f845714190f2eb29ff6911e.txt  \n",
            "  inflating: train/labels/images-12_jpg.rf.54ce5cb6421d610889e849fc6930b126.txt  \n",
            "  inflating: train/labels/images-12_jpg.rf.7e8b9bcf0cf7ec0ad2220b982ff22b3a.txt  \n",
            "  inflating: train/labels/images-12_jpg.rf.bc4f61476a327299a4c1436bf5d547f0.txt  \n",
            "  inflating: train/labels/images-12_jpg.rf.d59057f3c9e80e797a993e9c691c0713.txt  \n",
            "  inflating: train/labels/images-12_jpg.rf.e390af4152dace05bc6c8fe4b589c830.txt  \n",
            "  inflating: train/labels/images-12_jpg.rf.e4a171794fbf43ec5be8a45c475aed64.txt  \n",
            "  inflating: train/labels/images-12_jpg.rf.f663dcea82cad75f5c64f5504160a837.txt  \n",
            "  inflating: train/labels/images-12_jpg.rf.fd479530bc2ecea3cd82d7c2f0f30622.txt  \n",
            "  inflating: train/labels/images-13_jpg.rf.0546ebeafeda616f7eab021038956f4b.txt  \n",
            "  inflating: train/labels/images-13_jpg.rf.100ae73cf9f4c5d9cfedcc6a9bb4b178.txt  \n",
            "  inflating: train/labels/images-13_jpg.rf.17ef741ec7bc92772d99190fdd00cd2c.txt  \n",
            "  inflating: train/labels/images-13_jpg.rf.2f120b37a712ee4aa56e4c9c3fc0ba57.txt  \n",
            "  inflating: train/labels/images-13_jpg.rf.3998013f901338cc7163c5211f833652.txt  \n",
            "  inflating: train/labels/images-13_jpg.rf.3d187b87b20df9a9535ed6d5664a7cdc.txt  \n",
            "  inflating: train/labels/images-13_jpg.rf.3fa56c01145caa8884210aef2ec79786.txt  \n",
            "  inflating: train/labels/images-13_jpg.rf.7dc43def2d6da82f3e83fcacbc038763.txt  \n",
            "  inflating: train/labels/images-13_jpg.rf.8fb2edd7dc1006cfe238a6aaeee53c2e.txt  \n",
            "  inflating: train/labels/images-13_jpg.rf.a2184650fa522963e8abb4d15ac17475.txt  \n",
            "  inflating: train/labels/images-13_jpg.rf.a86344e49f230c2b30a282e8b710d74d.txt  \n",
            "  inflating: train/labels/images-13_jpg.rf.c83618dc0d7d783d44b46abb0f6c5a7e.txt  \n",
            "  inflating: train/labels/images-13_jpg.rf.d20bbba3a366079bf18d63c8083e251f.txt  \n",
            "  inflating: train/labels/images-13_jpg.rf.e65f7922061f43ef27cdc4fabb7196f1.txt  \n",
            "  inflating: train/labels/images-13_jpg.rf.ee695d9447a3fb4b69c020caea754ac0.txt  \n",
            "  inflating: train/labels/images-14_jpg.rf.01fd702c100695bfcd653ebfc3cac11b.txt  \n",
            "  inflating: train/labels/images-14_jpg.rf.40903d54a887f2a982531757d10b6f09.txt  \n",
            "  inflating: train/labels/images-14_jpg.rf.521ca7fbe25f922bb3c341af961d681c.txt  \n",
            "  inflating: train/labels/images-14_jpg.rf.6e3d4a762354d05414ce00c9985897d3.txt  \n",
            "  inflating: train/labels/images-14_jpg.rf.f9ff481c1405cd8339bf1e779c331a61.txt  \n",
            "  inflating: train/labels/images-15_jpg.rf.164c08c6fb83e74d23c684f94a02ae33.txt  \n",
            " extracting: train/labels/images-15_jpg.rf.18cf522157d43049875976501e56ddce.txt  \n",
            "  inflating: train/labels/images-15_jpg.rf.229ceabc292c36f39fe5513fcb510908.txt  \n",
            " extracting: train/labels/images-15_jpg.rf.2cddec66c99fe670888dd8dd4ee7698c.txt  \n",
            "  inflating: train/labels/images-15_jpg.rf.3e9af4112e2bc70f2f84efb6e146b9e7.txt  \n",
            "  inflating: train/labels/images-15_jpg.rf.40694a38a7fd329ad83bf34dbd06fb89.txt  \n",
            " extracting: train/labels/images-15_jpg.rf.5c6e07b7c29236a38da79ceca62a8576.txt  \n",
            "  inflating: train/labels/images-15_jpg.rf.795e1dcf414f64014347ef7f301252e1.txt  \n",
            "  inflating: train/labels/images-15_jpg.rf.8d2279e9de810d98c7465882e527f24c.txt  \n",
            "  inflating: train/labels/images-15_jpg.rf.8ed7368efe90a18cc02eac10ce8b9d3c.txt  \n",
            "  inflating: train/labels/images-15_jpg.rf.9f83d96b101b4e0846a4c629ba9e1252.txt  \n",
            " extracting: train/labels/images-15_jpg.rf.a61a0b5214ad9d72d2286e4fe47555aa.txt  \n",
            "  inflating: train/labels/images-15_jpg.rf.b065f2ff0b28f062cab93da3ed96ba3d.txt  \n",
            "  inflating: train/labels/images-15_jpg.rf.cb67562c133b7de90d8ae693de3a50ce.txt  \n",
            "  inflating: train/labels/images-15_jpg.rf.d0f14a0a7297fdf5c3aa3d9228e641ac.txt  \n",
            "  inflating: train/labels/images-15_jpg.rf.e4f62f1adc3c0e1d134cdf8da3f47404.txt  \n",
            " extracting: train/labels/images-15_jpg.rf.ee284cd5a470597f90cd4c5c9217ed6e.txt  \n",
            " extracting: train/labels/images-15_jpg.rf.f21d6da2776498a721937a80491b967f.txt  \n",
            " extracting: train/labels/images-15_jpg.rf.fbfbc1eeaa8a42ae2e6fd970e2ad506b.txt  \n",
            "  inflating: train/labels/images-16_jpg.rf.0690880b5a4ec5e6937f13f47cbec0cb.txt  \n",
            "  inflating: train/labels/images-16_jpg.rf.12d6bf69c448868e9cf7d7ac3de3e9a7.txt  \n",
            "  inflating: train/labels/images-16_jpg.rf.1c9fa8532085d3d783f2c1dd6e06534c.txt  \n",
            "  inflating: train/labels/images-16_jpg.rf.35028f481a0dbdf9611bca13b93649f3.txt  \n",
            "  inflating: train/labels/images-16_jpg.rf.397b87061a6ec62fc20ee0364759898b.txt  \n",
            " extracting: train/labels/images-16_jpg.rf.3c02bd1dda6fc3ae1871278c6ed7cef9.txt  \n",
            "  inflating: train/labels/images-16_jpg.rf.4e7a4f6536efd73b6d33da06d5bd1335.txt  \n",
            " extracting: train/labels/images-16_jpg.rf.5044a0f92597a5169c076ba2a596a60e.txt  \n",
            " extracting: train/labels/images-16_jpg.rf.63fc869023bd076091a8ed27eaa6ccf2.txt  \n",
            "  inflating: train/labels/images-16_jpg.rf.7b981b15d9a4757292e370458f586827.txt  \n",
            "  inflating: train/labels/images-16_jpg.rf.7fe5fe3480d4b45581b8ada2fecd4f82.txt  \n",
            " extracting: train/labels/images-16_jpg.rf.98183214418a57c1cd63a56684ae64dd.txt  \n",
            "  inflating: train/labels/images-16_jpg.rf.984da8ae9ce7d56fbb347c56cd6f1d4e.txt  \n",
            "  inflating: train/labels/images-16_jpg.rf.bca37c9497a3b04d8ae1718a32831757.txt  \n",
            "  inflating: train/labels/images-16_jpg.rf.d5673e1bdf110e319356293d5c6ad4dc.txt  \n",
            " extracting: train/labels/images-16_jpg.rf.dd42cc1045a21e90523bce5c504672d6.txt  \n",
            "  inflating: train/labels/images-16_jpg.rf.de3e3bdc3ff0bbac17cd3a6edd5dd588.txt  \n",
            " extracting: train/labels/images-16_jpg.rf.e7f79fcda43e32887d493515cce2afa5.txt  \n",
            "  inflating: train/labels/images-17_jpg.rf.02416659465e6c3b8db28f3c05734d8d.txt  \n",
            " extracting: train/labels/images-17_jpg.rf.029dda53dee41c7a66303dfe810bbb98.txt  \n",
            "  inflating: train/labels/images-17_jpg.rf.11f64e55002c5469a03dfe7aed7676de.txt  \n",
            "  inflating: train/labels/images-17_jpg.rf.1cd7e482a0312f395bc2f165a862d3b0.txt  \n",
            " extracting: train/labels/images-17_jpg.rf.27bc54f2ea0a32a42b44af4b5fea211b.txt  \n",
            "  inflating: train/labels/images-17_jpg.rf.49c798c50281fe86dc88407bca1607ba.txt  \n",
            "  inflating: train/labels/images-17_jpg.rf.5155da33122492dcde4dfefb9e22a88f.txt  \n",
            " extracting: train/labels/images-17_jpg.rf.5330cb3e45dde244049c3f456724b3c9.txt  \n",
            " extracting: train/labels/images-17_jpg.rf.61e6eb9cc979740645726229a23d6325.txt  \n",
            " extracting: train/labels/images-17_jpg.rf.83e5dabca9d1c84b0468f4e337f770ba.txt  \n",
            "  inflating: train/labels/images-17_jpg.rf.aee97512933c92bf6267fa31777849bb.txt  \n",
            " extracting: train/labels/images-17_jpg.rf.c718e0472d28dcbdf8a38b6605f6e6ad.txt  \n",
            "  inflating: train/labels/images-17_jpg.rf.e5c26566c5cc565f27cc8792cbf05011.txt  \n",
            "  inflating: train/labels/images-17_jpg.rf.e72735fc128ee73dccef83c4b0f15d85.txt  \n",
            " extracting: train/labels/images-17_jpg.rf.e847ada0ec9b71c73bbc16059972bca9.txt  \n",
            "  inflating: train/labels/images-17_jpg.rf.ebd47f1e78d13fcaa583f3e05efa80fe.txt  \n",
            "  inflating: train/labels/images-18_jpg.rf.06f9e8ba0d77534d26a7d8e222d2a856.txt  \n",
            "  inflating: train/labels/images-18_jpg.rf.08af0291aed0ab1eb377175c287acfaa.txt  \n",
            "  inflating: train/labels/images-18_jpg.rf.0fa030ff1fd049ad6de12227030fb32d.txt  \n",
            "  inflating: train/labels/images-18_jpg.rf.14edc0253b9989c8a8f6a85337021dd8.txt  \n",
            "  inflating: train/labels/images-18_jpg.rf.202ccd77672a3f76e35fdeff116d9f07.txt  \n",
            "  inflating: train/labels/images-18_jpg.rf.2b64344b4fde7c5723fc4519509ba750.txt  \n",
            "  inflating: train/labels/images-18_jpg.rf.3039e1190b2d845da48f8281d42f9053.txt  \n",
            "  inflating: train/labels/images-18_jpg.rf.35d4bb950d0fa2422280e947b7738da0.txt  \n",
            "  inflating: train/labels/images-18_jpg.rf.69015c3e72217f7f29702bca37126ffb.txt  \n",
            "  inflating: train/labels/images-18_jpg.rf.6a42c65c84ba2c442d60e9bf4f5d1dd4.txt  \n",
            "  inflating: train/labels/images-18_jpg.rf.78c3f5a7478512f226932db149db1352.txt  \n",
            "  inflating: train/labels/images-18_jpg.rf.7a9804177d3b3472fded00273eda2a62.txt  \n",
            "  inflating: train/labels/images-18_jpg.rf.bd315f2ed4dd2eb30f590b8bd72c9977.txt  \n",
            "  inflating: train/labels/images-18_jpg.rf.bff30aa90e4ff17ba5a75be6a939bd33.txt  \n",
            "  inflating: train/labels/images-18_jpg.rf.c5d0de5c8830430f2d49fad215b75d05.txt  \n",
            "  inflating: train/labels/images-18_jpg.rf.ca4e0a9540f131d4825a84a004b44400.txt  \n",
            "  inflating: train/labels/images-18_jpg.rf.dce756c051c49b4723c6ccf504b3d90f.txt  \n",
            "  inflating: train/labels/images-18_jpg.rf.e064dc9a908587fab8d1623d4b273992.txt  \n",
            "  inflating: train/labels/images-18_jpg.rf.e9f776192c13a09f792fa791f6a997ab.txt  \n",
            "  inflating: train/labels/images-18_jpg.rf.f20d9730a9a67caa668d03a30a977397.txt  \n",
            "  inflating: train/labels/images-18_jpg.rf.f5535426f227868f47e06d15f66af559.txt  \n",
            "  inflating: train/labels/images-19_jpg.rf.0d451260e6eb9722a44f2f2e1357b819.txt  \n",
            "  inflating: train/labels/images-19_jpg.rf.2d574a458b6ae829a8893e3847504132.txt  \n",
            "  inflating: train/labels/images-19_jpg.rf.4de2f0caf5a96cf8b1e25e06ac9893dc.txt  \n",
            "  inflating: train/labels/images-19_jpg.rf.4e2f9cb71b681cd67061b6c4fd88ddf8.txt  \n",
            "  inflating: train/labels/images-19_jpg.rf.50c851fe045caa971462a48c90c0d18f.txt  \n",
            "  inflating: train/labels/images-19_jpg.rf.595d3d055a7fefc2f34745418a65731e.txt  \n",
            "  inflating: train/labels/images-19_jpg.rf.8cad8113cc14430b26d53f9424156c56.txt  \n",
            "  inflating: train/labels/images-19_jpg.rf.8e8e1a5b54c63f09a5ab7800bfbcfccf.txt  \n",
            "  inflating: train/labels/images-19_jpg.rf.9d17dde41d80dddc4f5c6cc6950d1e00.txt  \n",
            "  inflating: train/labels/images-19_jpg.rf.a697a3ef7dc4f98b18cf20390f49bbb2.txt  \n",
            "  inflating: train/labels/images-19_jpg.rf.a701c8fc377b905fbef0ffe693cbb893.txt  \n",
            "  inflating: train/labels/images-19_jpg.rf.c468e44c9709b1425b045d1819ea5dec.txt  \n",
            "  inflating: train/labels/images-19_jpg.rf.c870ee3a74e4182622dabd14b8c2388e.txt  \n",
            "  inflating: train/labels/images-19_jpg.rf.c9fe723640c565fb3ad66b006a1214ad.txt  \n",
            "  inflating: train/labels/images-19_jpg.rf.d1e2f484f563d20e1dee99e5899963e7.txt  \n",
            "  inflating: train/labels/images-19_jpg.rf.de3075ec7020ca7ac9ef00c3522ac238.txt  \n",
            "  inflating: train/labels/images-19_jpg.rf.e47b5d96ce803dc3e40d2155bd24cd0b.txt  \n",
            "  inflating: train/labels/images-19_jpg.rf.e847af4d8ee38c1d122e76db74e9965f.txt  \n",
            "  inflating: train/labels/images-19_jpg.rf.f8981d686a0d96effe7791bade360e72.txt  \n",
            "  inflating: train/labels/images-1_jpg.rf.11c62f469898b10bb7cf3090a799aaf7.txt  \n",
            "  inflating: train/labels/images-1_jpg.rf.16c5ad02cd7a78b3a7efcbd255b17ef8.txt  \n",
            "  inflating: train/labels/images-1_jpg.rf.207184245096dc802ffa30ae9ea115e4.txt  \n",
            "  inflating: train/labels/images-1_jpg.rf.2307f1d6e14ef55f3c750eb1a0495c77.txt  \n",
            "  inflating: train/labels/images-1_jpg.rf.27c8cd6b39bf8d6fbb7236339c84b446.txt  \n",
            " extracting: train/labels/images-1_jpg.rf.2b0e6f2ca2d7568647e31fba84e9a75b.txt  \n",
            "  inflating: train/labels/images-1_jpg.rf.2fb3746ab4a6227f9d50011b97529dcb.txt  \n",
            "  inflating: train/labels/images-1_jpg.rf.38663fc63374f9ea4ab977db038125ca.txt  \n",
            "  inflating: train/labels/images-1_jpg.rf.3a36ca1c1fbe7b1e30cb399fd765de08.txt  \n",
            " extracting: train/labels/images-1_jpg.rf.3fcf1456c9690d80bafa25535143f93e.txt  \n",
            "  inflating: train/labels/images-1_jpg.rf.472672be0f6e4fbced9ea02c1f95a432.txt  \n",
            "  inflating: train/labels/images-1_jpg.rf.48d88b777653befa4c168a282e6f7acc.txt  \n",
            "  inflating: train/labels/images-1_jpg.rf.4ae88eb7f66768b399ec6cf8cc6400cc.txt  \n",
            "  inflating: train/labels/images-1_jpg.rf.5112a0f84e3144a57ec404dc9d7c3063.txt  \n",
            "  inflating: train/labels/images-1_jpg.rf.59f4b9588bfa78996236cdfecf0c4be7.txt  \n",
            "  inflating: train/labels/images-1_jpg.rf.5a0835a1273355d3818513bf335511eb.txt  \n",
            "  inflating: train/labels/images-1_jpg.rf.601cfc7f280a0bfa94e6aa52c6ad739c.txt  \n",
            " extracting: train/labels/images-1_jpg.rf.63ba460f8664969e6424ea1c04efcab2.txt  \n",
            "  inflating: train/labels/images-1_jpg.rf.64d97137234dde90631a6e78b7936ad4.txt  \n",
            "  inflating: train/labels/images-1_jpg.rf.676d60458d9177e31fdfe67045b190f7.txt  \n",
            "  inflating: train/labels/images-1_jpg.rf.6bcdc0969bfc6e4dac4df9475da7f4f6.txt  \n",
            " extracting: train/labels/images-1_jpg.rf.6d2d18f92aa14446464be349c60d6125.txt  \n",
            "  inflating: train/labels/images-1_jpg.rf.77f580c9c646f6d854c3d23c34149ab7.txt  \n",
            " extracting: train/labels/images-1_jpg.rf.7866cea91822442ec54bbbd24219b1bf.txt  \n",
            "  inflating: train/labels/images-1_jpg.rf.7cc835fc5ca8aaf88690d4978b036f00.txt  \n",
            "  inflating: train/labels/images-1_jpg.rf.83b8cf6e3b80454d4fa48032704ca0e9.txt  \n",
            " extracting: train/labels/images-1_jpg.rf.84c20918bf3e6742c233184812639754.txt  \n",
            "  inflating: train/labels/images-1_jpg.rf.97bfd5f7b89e30a062b4a9315b3a70ca.txt  \n",
            "  inflating: train/labels/images-1_jpg.rf.9a2f32de79d1203f921154cc3bb629e6.txt  \n",
            "  inflating: train/labels/images-1_jpg.rf.9d41213b4172fe9ddd192d2fe59ff7bc.txt  \n",
            "  inflating: train/labels/images-1_jpg.rf.a2e48cc75e1985d8374ff496a6fcd979.txt  \n",
            "  inflating: train/labels/images-1_jpg.rf.a59ff571a15ffd6edc5dcc915c63623f.txt  \n",
            "  inflating: train/labels/images-1_jpg.rf.aa60fe417b66e78649edba8e13b3a454.txt  \n",
            "  inflating: train/labels/images-1_jpg.rf.acce36a98ddfe62af709e0546186af03.txt  \n",
            "  inflating: train/labels/images-1_jpg.rf.b0ca9c3789d79f15aa33ee77f343db88.txt  \n",
            "  inflating: train/labels/images-1_jpg.rf.b89a93542879686e810f6b3e787715c8.txt  \n",
            "  inflating: train/labels/images-1_jpg.rf.c293f74b1683c9a23d30b6af713b65b9.txt  \n",
            "  inflating: train/labels/images-1_jpg.rf.c2dcea36cce76ac3190009c957b7e39e.txt  \n",
            "  inflating: train/labels/images-1_jpg.rf.c4aa5ba82f403d7243e52bebc8a77ec9.txt  \n",
            "  inflating: train/labels/images-1_jpg.rf.c66b8199f9905efcd235aa3adc059f51.txt  \n",
            " extracting: train/labels/images-1_jpg.rf.cdcc6209b3ceb7c204fd03e537e961b1.txt  \n",
            " extracting: train/labels/images-1_jpg.rf.d0939aa54940ad904c12536aef8ba2dd.txt  \n",
            "  inflating: train/labels/images-1_jpg.rf.ded9cafca106e85b7800b1b52d8b6ed5.txt  \n",
            " extracting: train/labels/images-1_jpg.rf.e8ad675f4fa64a73045d7e59e78a7e3c.txt  \n",
            "  inflating: train/labels/images-1_jpg.rf.eb688404076e5df2e4271c43f0fd9ae6.txt  \n",
            "  inflating: train/labels/images-1_jpg.rf.ece0e19efd2347b1eeed93f1a3f5d5c6.txt  \n",
            "  inflating: train/labels/images-1_jpg.rf.ed9596e2584d7c901d71c75fc60f3756.txt  \n",
            " extracting: train/labels/images-1_jpg.rf.fba212d61b1e0a0865f57f5a683c8714.txt  \n",
            "  inflating: train/labels/images-2020-08-13T213919-517_jpg.rf.51d2f5302747008be8d59ab8ac23ec75.txt  \n",
            "  inflating: train/labels/images-2020-08-13T213919-517_jpg.rf.72a9b7e064ae721d610e04824ddb15a4.txt  \n",
            "  inflating: train/labels/images-2020-08-13T213919-517_jpg.rf.9e53eb7f269882405e5384a64418f540.txt  \n",
            "  inflating: train/labels/images-2020-08-13T213919-517_jpg.rf.da3ad8debe64148a7f7be83b94381817.txt  \n",
            "  inflating: train/labels/images-2020-08-13T213919-517_jpg.rf.fc5753e252cc56d3d2bab868b7e7d719.txt  \n",
            "  inflating: train/labels/images-2020-08-13T213922-238_jpg.rf.74914048428c64bff2c5e2c1927c092b.txt  \n",
            "  inflating: train/labels/images-2020-08-13T213922-238_jpg.rf.89c8f09cf8fc4c4c1fac2249e315200b.txt  \n",
            "  inflating: train/labels/images-2020-08-13T213922-238_jpg.rf.9b970391c2c69051f2d9845fb9027cee.txt  \n",
            "  inflating: train/labels/images-2020-08-13T213922-238_jpg.rf.b44b065c9312ee408ee186f2e4bcbf86.txt  \n",
            "  inflating: train/labels/images-2020-08-13T213922-238_jpg.rf.d687fb6b0bc65992b4ba78df08ad09e7.txt  \n",
            "  inflating: train/labels/images-2020-08-13T213922-238_jpg.rf.ef1f448500d3854f460367cd0f06d571.txt  \n",
            " extracting: train/labels/images-2020-08-13T213923-287_jpg.rf.21152cff08ef0c121e95f0a54a862c48.txt  \n",
            " extracting: train/labels/images-2020-08-13T213923-287_jpg.rf.241b326965d1e29085491b1e3abc0eb2.txt  \n",
            " extracting: train/labels/images-2020-08-13T213923-287_jpg.rf.630da7a18bf84966cc907b5bb97ed88a.txt  \n",
            " extracting: train/labels/images-2020-08-13T213923-287_jpg.rf.8557edd035afedea15a3c8af356d62d7.txt  \n",
            " extracting: train/labels/images-2020-08-13T213923-287_jpg.rf.a16d6c2a9dd8c60fd352d1087bda752c.txt  \n",
            " extracting: train/labels/images-2020-08-13T213923-287_jpg.rf.a7e3bbe9b94c24d73e6dc6fdf093269a.txt  \n",
            "  inflating: train/labels/images-2020-08-13T214339-354_jpg.rf.69f43b5f8f7ba9bfc633120f5b862cde.txt  \n",
            "  inflating: train/labels/images-2020-08-13T214339-354_jpg.rf.8b00c49c0fc3e0fbe2aa45d0f9deb507.txt  \n",
            "  inflating: train/labels/images-2020-08-13T214339-354_jpg.rf.906d063b3e7743e7886907774398beb3.txt  \n",
            "  inflating: train/labels/images-2020-08-13T214339-354_jpg.rf.b7d8de9e23735c93e91835439e8e431c.txt  \n",
            "  inflating: train/labels/images-2020-08-13T214339-354_jpg.rf.da650985ce236b7e30d0349287fac6cd.txt  \n",
            "  inflating: train/labels/images-2020-08-13T214339-354_jpg.rf.fbc59028e7af5f0845ee5d10764ed51a.txt  \n",
            "  inflating: train/labels/images-20_jpg.rf.1ab39c9b9ebe195809adc8978c1eaf52.txt  \n",
            "  inflating: train/labels/images-20_jpg.rf.2319feb126f46e6ce77eebcb458c2dd6.txt  \n",
            "  inflating: train/labels/images-20_jpg.rf.293b7d2151e0fef619e9ac91f08e0166.txt  \n",
            "  inflating: train/labels/images-20_jpg.rf.3cb312f2b4d07f1a12d48b4cbca42b2c.txt  \n",
            "  inflating: train/labels/images-20_jpg.rf.3fe05d3860aa897b572f02181cefa285.txt  \n",
            "  inflating: train/labels/images-20_jpg.rf.5d22428de8f45348cf8ae2213113c45b.txt  \n",
            "  inflating: train/labels/images-20_jpg.rf.ae48af313d1584c91d41235a60a7b45c.txt  \n",
            "  inflating: train/labels/images-20_jpg.rf.b53ddf239a2285b7342cc08a039c56c5.txt  \n",
            "  inflating: train/labels/images-20_jpg.rf.d4b41ad74d2087c165dbb47ce862de7a.txt  \n",
            "  inflating: train/labels/images-20_jpg.rf.dff0e615005b8339a93bd786405d3487.txt  \n",
            "  inflating: train/labels/images-20_jpg.rf.e4f49c5abf87eae505762fd44f3dbdc3.txt  \n",
            "  inflating: train/labels/images-21_jpg.rf.051798cc8cbc759131224561c83f5167.txt  \n",
            " extracting: train/labels/images-21_jpg.rf.1399037eae7b7f41d2625e6c7dc35361.txt  \n",
            "  inflating: train/labels/images-21_jpg.rf.2b0c31fda2a47df75a8b55c46a781a47.txt  \n",
            "  inflating: train/labels/images-21_jpg.rf.4444b47f7c87af6c3df5bfc3baad1ed3.txt  \n",
            "  inflating: train/labels/images-21_jpg.rf.52241e0e01012382c3e41ef86bc6c3d9.txt  \n",
            "  inflating: train/labels/images-21_jpg.rf.6373c19e58b5ce7e89ab822b8e267276.txt  \n",
            " extracting: train/labels/images-21_jpg.rf.65c42b2b5f4e37e8ef1ead4dd4346070.txt  \n",
            "  inflating: train/labels/images-21_jpg.rf.69c28b138e4bf8d8709380e497e1993a.txt  \n",
            "  inflating: train/labels/images-21_jpg.rf.d1f2f629d39011a55cc1392b4dd54be4.txt  \n",
            "  inflating: train/labels/images-21_jpg.rf.d9cbf71eba1e3f658dfeba0b75358bd9.txt  \n",
            "  inflating: train/labels/images-21_jpg.rf.f1164712fdd9c5761fc3e25e6afe02fd.txt  \n",
            "  inflating: train/labels/images-22_jpg.rf.0923baf279fc1054c61d6e345556df30.txt  \n",
            "  inflating: train/labels/images-22_jpg.rf.0d3c090afb4307592cc5e64af94aceda.txt  \n",
            "  inflating: train/labels/images-22_jpg.rf.1a5c15c2b74083ccaabc5e0fb96c25c7.txt  \n",
            "  inflating: train/labels/images-22_jpg.rf.209a74ee0a7413a67afe982904cc0f09.txt  \n",
            "  inflating: train/labels/images-22_jpg.rf.2984b6b7cbf711ea07e83ae440f1fd9a.txt  \n",
            "  inflating: train/labels/images-22_jpg.rf.3dfb43a85a637b518166010286b5d266.txt  \n",
            "  inflating: train/labels/images-22_jpg.rf.43bc01a32b84fc894d52d7c40eaa52b9.txt  \n",
            "  inflating: train/labels/images-22_jpg.rf.706410826c85bcd748fa4652593e074a.txt  \n",
            "  inflating: train/labels/images-22_jpg.rf.86e2f395f90d002de89437b5624f4317.txt  \n",
            "  inflating: train/labels/images-22_jpg.rf.9f8c10a919653ff35ca7e478d8a8c2c4.txt  \n",
            "  inflating: train/labels/images-22_jpg.rf.c76938416504fbb79c814a9d377c262f.txt  \n",
            "  inflating: train/labels/images-22_jpg.rf.d198846b812ecca51555d5c6b8c1cc7e.txt  \n",
            "  inflating: train/labels/images-23_jpg.rf.0f4c2fe0c26411ddb7a5af0f1f21ab8b.txt  \n",
            "  inflating: train/labels/images-23_jpg.rf.2397cf92b748be78441c72b1ee421dd9.txt  \n",
            "  inflating: train/labels/images-23_jpg.rf.614b67042271bc4bdf9c99e7b4ad3982.txt  \n",
            "  inflating: train/labels/images-23_jpg.rf.6433d3aaeb83abdfacec0bc054dbf22f.txt  \n",
            "  inflating: train/labels/images-23_jpg.rf.741a74b71a19ca2ee041887bd3446a75.txt  \n",
            "  inflating: train/labels/images-23_jpg.rf.820313bbf82c4f5e00db4f665a0e3423.txt  \n",
            "  inflating: train/labels/images-23_jpg.rf.95ec9653ee83b0d99296623487c74b69.txt  \n",
            "  inflating: train/labels/images-23_jpg.rf.a33bc7e4ba65b57ff624bb1120d1ec20.txt  \n",
            "  inflating: train/labels/images-23_jpg.rf.b1e9a957a188f4bd186c2de7bc5e52f8.txt  \n",
            "  inflating: train/labels/images-23_jpg.rf.c23cd613851747154fd4272f85360766.txt  \n",
            "  inflating: train/labels/images-23_jpg.rf.c42a2413eef6607166039353075d223b.txt  \n",
            "  inflating: train/labels/images-23_jpg.rf.d69fa9313dc00107bdd63c4af48d7d2d.txt  \n",
            "  inflating: train/labels/images-23_jpg.rf.f09b85f100266c2503ad680e96b7d3fb.txt  \n",
            "  inflating: train/labels/images-23_jpg.rf.f97324eb40c848ea4da2b9a9065a5ba5.txt  \n",
            "  inflating: train/labels/images-23_jpg.rf.fdaf31999c74b8ddd8029db37823e1e4.txt  \n",
            "  inflating: train/labels/images-23_jpg.rf.feb439f3f4e8ee22351b6f52e5ff571c.txt  \n",
            "  inflating: train/labels/images-24_jpg.rf.022809c40e3be48afb900b9877514a0d.txt  \n",
            "  inflating: train/labels/images-24_jpg.rf.17f73590b53a4700440a4ecedc8fef1b.txt  \n",
            "  inflating: train/labels/images-24_jpg.rf.4325f37b29c0ae1f83cbc48c231d29b0.txt  \n",
            "  inflating: train/labels/images-24_jpg.rf.458c5ae32901930417c09a48c41db596.txt  \n",
            "  inflating: train/labels/images-24_jpg.rf.5912d4ac58bb2ae04b7f5477a79272f1.txt  \n",
            "  inflating: train/labels/images-24_jpg.rf.7b8a7d37c3dd87647eebdc6f0a35df91.txt  \n",
            "  inflating: train/labels/images-24_jpg.rf.86c7fc360c52052f63ab5ef10fdfab8c.txt  \n",
            "  inflating: train/labels/images-24_jpg.rf.9c573b5695c48702b0458f81f3c934ba.txt  \n",
            "  inflating: train/labels/images-24_jpg.rf.a977ff59ec7b499d9719a156b78c5d43.txt  \n",
            "  inflating: train/labels/images-24_jpg.rf.b097fe174b506032c90939ca0a072501.txt  \n",
            "  inflating: train/labels/images-24_jpg.rf.b4edbe9de1c678a38be930551fd4bb09.txt  \n",
            "  inflating: train/labels/images-24_jpg.rf.e1bb214b46fe6d0a1b17aa9db6728c11.txt  \n",
            "  inflating: train/labels/images-25_jpg.rf.10baab4ec6376c7137be71ca02ef3283.txt  \n",
            "  inflating: train/labels/images-25_jpg.rf.17c61f8dd2458587ec8186e3e15699b4.txt  \n",
            "  inflating: train/labels/images-25_jpg.rf.6888cee88006256a1443eb40e5128835.txt  \n",
            "  inflating: train/labels/images-25_jpg.rf.6e6a5713627da591dc1983176bb16331.txt  \n",
            "  inflating: train/labels/images-25_jpg.rf.6ef188ee78d8084301a3d09ae1ed9e4f.txt  \n",
            "  inflating: train/labels/images-25_jpg.rf.92e8238b1944b255cae8fa9038c53bae.txt  \n",
            "  inflating: train/labels/images-25_jpg.rf.976e0db60cb688a3ee8dee09a264b8b4.txt  \n",
            "  inflating: train/labels/images-25_jpg.rf.ac8a9080eed6ffe7f763d3f9de6663eb.txt  \n",
            "  inflating: train/labels/images-25_jpg.rf.bc97032f7546f3aed0dce1bc62ab732f.txt  \n",
            "  inflating: train/labels/images-25_jpg.rf.ceda56ebd43c1a284576850c636d1c08.txt  \n",
            "  inflating: train/labels/images-25_jpg.rf.dd16f14c8ab158b19d2b1acc7114c40a.txt  \n",
            "  inflating: train/labels/images-25_jpg.rf.e56673a740e87ecda353bd401849337d.txt  \n",
            "  inflating: train/labels/images-26_jpg.rf.07f07dba01b37ac85cd26b79be31786c.txt  \n",
            "  inflating: train/labels/images-26_jpg.rf.29ccb79aa98c42ca1f90fee6c788eabb.txt  \n",
            "  inflating: train/labels/images-26_jpg.rf.2d9b2a4a1b5ff9d6d9474034146a365f.txt  \n",
            "  inflating: train/labels/images-26_jpg.rf.6645542491b5a34f6a8c4e26d9cbc690.txt  \n",
            "  inflating: train/labels/images-26_jpg.rf.8940c3faf8f872a6ea732c0dce6d66f7.txt  \n",
            "  inflating: train/labels/images-26_jpg.rf.999b1c9cd6620312d176b8179f8c78a7.txt  \n",
            "  inflating: train/labels/images-26_jpg.rf.a17b216169ecefa3d3e7ff821f1eac34.txt  \n",
            "  inflating: train/labels/images-26_jpg.rf.b8165cc1ea17c123ff4b30b17c0558e6.txt  \n",
            "  inflating: train/labels/images-26_jpg.rf.c7c386d22615d95de215c8f7d3321674.txt  \n",
            "  inflating: train/labels/images-26_jpg.rf.f79dd3556e65251cd8fa6e6cf1acc8eb.txt  \n",
            "  inflating: train/labels/images-27_jpg.rf.160fd2bb18a93e5ee56e4e1e3aaf42d3.txt  \n",
            " extracting: train/labels/images-27_jpg.rf.21c836ca17af5931f47215184178cfcd.txt  \n",
            " extracting: train/labels/images-27_jpg.rf.53f24077b4fda2ded8969d70df027855.txt  \n",
            "  inflating: train/labels/images-27_jpg.rf.bb562a13a6b99f289baf417ca66d6edc.txt  \n",
            "  inflating: train/labels/images-27_jpg.rf.d93b9766bb2f270a62e6f405d28e2735.txt  \n",
            " extracting: train/labels/images-27_jpg.rf.e0a6671695679a139a88a5336f3b15ea.txt  \n",
            "  inflating: train/labels/images-28_jpg.rf.048054983d594c25fbe041ea1cd14b5f.txt  \n",
            "  inflating: train/labels/images-28_jpg.rf.0d8d6bd0b1ccf1ea6a94a6e840a7ff30.txt  \n",
            "  inflating: train/labels/images-28_jpg.rf.5c9b1b9d976f7fd0dbc8459852099ae8.txt  \n",
            "  inflating: train/labels/images-28_jpg.rf.e22848fc6c6ce0c8f2054fcfb1a16087.txt  \n",
            "  inflating: train/labels/images-28_jpg.rf.f5ff8b9a67938bf4194a7bcc9043aad6.txt  \n",
            "  inflating: train/labels/images-29_jpg.rf.07cd38ad5c0a0f2811df49628a061e92.txt  \n",
            "  inflating: train/labels/images-29_jpg.rf.46fc96b2d0464a4a87a7ee7467a9c437.txt  \n",
            "  inflating: train/labels/images-29_jpg.rf.6d6b003daa6b6b88b75a6fe76a8cd604.txt  \n",
            "  inflating: train/labels/images-29_jpg.rf.846d97570c3a7a447be16371f5e4f5f5.txt  \n",
            "  inflating: train/labels/images-29_jpg.rf.96f698061961a942cd030b667b75de14.txt  \n",
            "  inflating: train/labels/images-29_jpg.rf.b3360809eb7d761581f9f7ab57753fce.txt  \n",
            "  inflating: train/labels/images-29_jpg.rf.b70c6e00c17dafa4b5e23e27b5ab1620.txt  \n",
            "  inflating: train/labels/images-29_jpg.rf.d910bc93a5f97fd6c50d6b0fb45b174d.txt  \n",
            "  inflating: train/labels/images-29_jpg.rf.e5e91308e4147085f96b4ac597b6acb9.txt  \n",
            "  inflating: train/labels/images-29_jpg.rf.eeb391846dcd4aa7bd927ceef851ccaf.txt  \n",
            "  inflating: train/labels/images-29_jpg.rf.f15f5ac3403805a0115a71ac006558e3.txt  \n",
            "  inflating: train/labels/images-29_jpg.rf.fa3f8fd8793a3c2b6f04abdfa10a2b8a.txt  \n",
            "  inflating: train/labels/images-2_jpg.rf.0355816975c4894fa06b69234fe158b4.txt  \n",
            "  inflating: train/labels/images-2_jpg.rf.0433ebe8de74c12855a8fb1452ae8567.txt  \n",
            " extracting: train/labels/images-2_jpg.rf.08574699a5aa765e4a6136352be5fe72.txt  \n",
            "  inflating: train/labels/images-2_jpg.rf.0e00e54379d98ea8fb821906767d00b4.txt  \n",
            "  inflating: train/labels/images-2_jpg.rf.0fb230aea66db94e087a9aaefe88a435.txt  \n",
            " extracting: train/labels/images-2_jpg.rf.168b5640ad20ed140d411a2655507253.txt  \n",
            " extracting: train/labels/images-2_jpg.rf.190e986081685fab242a97cdc9d6b72f.txt  \n",
            " extracting: train/labels/images-2_jpg.rf.1afc85e5a9f84ae78fa3c7f383aee8ac.txt  \n",
            " extracting: train/labels/images-2_jpg.rf.2472077a5e9faf2b6d6c97fa8d5b9cd7.txt  \n",
            "  inflating: train/labels/images-2_jpg.rf.2855469179bbed39332c78c791cbbd26.txt  \n",
            "  inflating: train/labels/images-2_jpg.rf.320ec738edf3a9530abbfc733edb8a73.txt  \n",
            "  inflating: train/labels/images-2_jpg.rf.342035c4eda27a5dd688baa096b1d54b.txt  \n",
            "  inflating: train/labels/images-2_jpg.rf.34cb33d7a7c82139e94e756577063c39.txt  \n",
            " extracting: train/labels/images-2_jpg.rf.3a39c6ccb772e7f8b7a2aba9a5e30bfc.txt  \n",
            " extracting: train/labels/images-2_jpg.rf.5731830f4d678b81e1f04f9c8d7727e8.txt  \n",
            "  inflating: train/labels/images-2_jpg.rf.57d6a892bf3090992bf3129aacaeaacf.txt  \n",
            " extracting: train/labels/images-2_jpg.rf.589b355d9720fbb1a2e0fa11107967d6.txt  \n",
            "  inflating: train/labels/images-2_jpg.rf.5bf6423a601ca87a4309a2845ca0d6a9.txt  \n",
            "  inflating: train/labels/images-2_jpg.rf.5dd2c0034eafcd21a4001727eb0b7968.txt  \n",
            "  inflating: train/labels/images-2_jpg.rf.6ccfc97bfce45076b246eeb48038cc48.txt  \n",
            " extracting: train/labels/images-2_jpg.rf.6deaeb3e812d90203f62d27d46f2fc56.txt  \n",
            "  inflating: train/labels/images-2_jpg.rf.77d959ed1d68945c6acb96a730568052.txt  \n",
            " extracting: train/labels/images-2_jpg.rf.7f26c4a47f2236b04e147b7f28fc6ab5.txt  \n",
            "  inflating: train/labels/images-2_jpg.rf.80a8f77cd31a560637cfc77292bef52d.txt  \n",
            "  inflating: train/labels/images-2_jpg.rf.81bdf630cca8fd5b15a5757577f2c0c0.txt  \n",
            " extracting: train/labels/images-2_jpg.rf.82ab4e3e8a7f9f9a197a8012d7984377.txt  \n",
            "  inflating: train/labels/images-2_jpg.rf.867023644edc7def68c17647bfe93400.txt  \n",
            " extracting: train/labels/images-2_jpg.rf.8e1f3ba3a52f973ff06ee3983177ecdc.txt  \n",
            "  inflating: train/labels/images-2_jpg.rf.93a110452091e7ee6f5b6357ad706224.txt  \n",
            "  inflating: train/labels/images-2_jpg.rf.93f01f04c7e567d4aebc0ebf87623926.txt  \n",
            "  inflating: train/labels/images-2_jpg.rf.99c0ba78db4d299a6c9f18ceb80d27c1.txt  \n",
            "  inflating: train/labels/images-2_jpg.rf.9a97dc1bbb267fbb218f86890ceae4ca.txt  \n",
            "  inflating: train/labels/images-2_jpg.rf.9dfc5c6e2d7d17fe4c40a198c00ec163.txt  \n",
            "  inflating: train/labels/images-2_jpg.rf.a3364f6479dcb32880777257986328e1.txt  \n",
            " extracting: train/labels/images-2_jpg.rf.b2bfef5c7bc6cd103d3b57ccbd7be881.txt  \n",
            " extracting: train/labels/images-2_jpg.rf.b84ca05df60e6c53c896ea350e3b9c1a.txt  \n",
            " extracting: train/labels/images-2_jpg.rf.c4aa3f9c5f34047b0465111cfd59a3b6.txt  \n",
            " extracting: train/labels/images-2_jpg.rf.c954148ab614b0ea13c9c42ed14100a3.txt  \n",
            " extracting: train/labels/images-2_jpg.rf.d24170e34026161f313aa71d8ea297b3.txt  \n",
            " extracting: train/labels/images-2_jpg.rf.e19db82a2f1697d7e57bc94ebbc4ebe9.txt  \n",
            " extracting: train/labels/images-2_jpg.rf.e9f9ea76dfb133ae3b64552eb3533639.txt  \n",
            "  inflating: train/labels/images-2_jpg.rf.f2b442b1a3d778fe7614961be001a397.txt  \n",
            " extracting: train/labels/images-2_jpg.rf.f3fe469739886fabbeb5a22e4890915d.txt  \n",
            "  inflating: train/labels/images-2_jpg.rf.fc6839165514c1e5a204fd77b99aa105.txt  \n",
            "  inflating: train/labels/images-30_jpg.rf.3a7a940e6d6af5638d8e78630217f5fd.txt  \n",
            "  inflating: train/labels/images-30_jpg.rf.3f264aa4bfb1491d864b3751e30439a0.txt  \n",
            "  inflating: train/labels/images-30_jpg.rf.4c5cf20a6e4bba763264868c7f5b063c.txt  \n",
            "  inflating: train/labels/images-30_jpg.rf.8d59dc4ca8f0fb5e0d7c1803e9e1df25.txt  \n",
            "  inflating: train/labels/images-30_jpg.rf.91fa42e871d232325812d06a08592a15.txt  \n",
            "  inflating: train/labels/images-30_jpg.rf.dd86407666e993a9e29b15456df335b0.txt  \n",
            "  inflating: train/labels/images-31_jpg.rf.2b507f2360b318fe04a5ce5fe6c1c452.txt  \n",
            "  inflating: train/labels/images-31_jpg.rf.717c866d040b6ed5bb67b8df62c3dd48.txt  \n",
            "  inflating: train/labels/images-31_jpg.rf.7a66a6a2d6f054b77463f1c9b272a0d6.txt  \n",
            "  inflating: train/labels/images-31_jpg.rf.a12a02e8d8aa52803a0fde889442dd01.txt  \n",
            "  inflating: train/labels/images-31_jpg.rf.e1f4acc161c5f0d6687f77711b158de0.txt  \n",
            " extracting: train/labels/images-33_jpg.rf.0b6ef14dedd220277eb9e2857f73b3d4.txt  \n",
            " extracting: train/labels/images-33_jpg.rf.392487ce234da4a6dcc113cfcf3d5496.txt  \n",
            " extracting: train/labels/images-33_jpg.rf.6843921cb893a9b2ee4031a0e0b40278.txt  \n",
            " extracting: train/labels/images-33_jpg.rf.857f2ff94b97306dd6405514dece7609.txt  \n",
            " extracting: train/labels/images-33_jpg.rf.a62e93215625918921dcd4ccb2647f01.txt  \n",
            "  inflating: train/labels/images-34_jpg.rf.014b0d5a274b273f2e8ea115fa3f6c02.txt  \n",
            "  inflating: train/labels/images-34_jpg.rf.272ddcbd12206337be926036f9dc0667.txt  \n",
            "  inflating: train/labels/images-34_jpg.rf.48b7df3d82479a9df3ba5c69022ee159.txt  \n",
            "  inflating: train/labels/images-34_jpg.rf.cdfabe199bdd42f5ba0e68cb9fef2a70.txt  \n",
            "  inflating: train/labels/images-34_jpg.rf.dfa039327d9225824a7360a608bdb9b0.txt  \n",
            "  inflating: train/labels/images-35_jpg.rf.11c5af12ca3458b9d36f8c42f388e540.txt  \n",
            "  inflating: train/labels/images-35_jpg.rf.716d7bec21d902fbdf68d482f247c841.txt  \n",
            "  inflating: train/labels/images-35_jpg.rf.771734bc3de68df9a10f03788047b7a0.txt  \n",
            "  inflating: train/labels/images-35_jpg.rf.a08f399de6dc01e62a57ac5cd6535544.txt  \n",
            "  inflating: train/labels/images-35_jpg.rf.e1adf404f5a6099f0b461e2ccf2db5a4.txt  \n",
            " extracting: train/labels/images-36_jpg.rf.0352a856d899abe1a3125b1142bce88c.txt  \n",
            " extracting: train/labels/images-36_jpg.rf.04a525fca6642a00e86b00ed4fd75967.txt  \n",
            " extracting: train/labels/images-36_jpg.rf.0da86fd049205649af67f8e020531791.txt  \n",
            " extracting: train/labels/images-36_jpg.rf.5bfff31468a7ea5b365a8a74b4585611.txt  \n",
            " extracting: train/labels/images-36_jpg.rf.c975e9259d30d3a8db0607381bf25302.txt  \n",
            " extracting: train/labels/images-36_jpg.rf.e7ed66c9b31efb38cad112e5814a0037.txt  \n",
            " extracting: train/labels/images-36_jpg.rf.eca19288f6469c7d3853c68d2befa03c.txt  \n",
            " extracting: train/labels/images-37_jpg.rf.3424ab8ccdaf9b3a34ffa131cf2caab1.txt  \n",
            " extracting: train/labels/images-37_jpg.rf.d88577e0b53ec9a3ab50675508f885cb.txt  \n",
            "  inflating: train/labels/images-38_jpg.rf.0b5dfcb0cb79f5f2dec60fdf0b19b6b1.txt  \n",
            "  inflating: train/labels/images-38_jpg.rf.494fb79a2975e7ea09110bc7058307ab.txt  \n",
            "  inflating: train/labels/images-38_jpg.rf.4d8f89839d8ccb792a52465e62d3dd26.txt  \n",
            "  inflating: train/labels/images-38_jpg.rf.6297db4810be3b3adcfea735755f36d6.txt  \n",
            "  inflating: train/labels/images-38_jpg.rf.dbb76d66775938fac34cf18f5d743ab4.txt  \n",
            "  inflating: train/labels/images-38_jpg.rf.e0774bda3d91c3fbeb3a1a36503a51ab.txt  \n",
            "  inflating: train/labels/images-3_jpg.rf.0687b3db0944415e0a647f4c9bab24d0.txt  \n",
            "  inflating: train/labels/images-3_jpg.rf.15e2c76d5ab99328ffe88c3448fc564b.txt  \n",
            "  inflating: train/labels/images-3_jpg.rf.33c9484074ade867bcd59796af8df3d0.txt  \n",
            "  inflating: train/labels/images-3_jpg.rf.501bcdf0d52b36c0df405703fa23ddeb.txt  \n",
            "  inflating: train/labels/images-3_jpg.rf.5486d8ec5e0375f1a2639d258a13fd33.txt  \n",
            "  inflating: train/labels/images-3_jpg.rf.55fb7116ddc6a21bcaa98727c1c9fea9.txt  \n",
            "  inflating: train/labels/images-3_jpg.rf.56ea698513a9959b509808e1345fc218.txt  \n",
            "  inflating: train/labels/images-3_jpg.rf.5d1679595672e7765ce7f40db9ab2c91.txt  \n",
            "  inflating: train/labels/images-3_jpg.rf.5ed16baac3459b2bc285444ac9789243.txt  \n",
            "  inflating: train/labels/images-3_jpg.rf.6fe11b0bb3dc63b017ac4949b0a17388.txt  \n",
            " extracting: train/labels/images-3_jpg.rf.767589d76bbbf14b92fd5276cad46383.txt  \n",
            "  inflating: train/labels/images-3_jpg.rf.834dd199d41940641f9649d1438f7689.txt  \n",
            "  inflating: train/labels/images-3_jpg.rf.9276883c47c0399913fbdc86b7c8301e.txt  \n",
            "  inflating: train/labels/images-3_jpg.rf.95aff578146dc176675b71a6ad899be6.txt  \n",
            "  inflating: train/labels/images-3_jpg.rf.a3c5f2bbc4e6e1c2dfa16086ebef24ac.txt  \n",
            " extracting: train/labels/images-3_jpg.rf.b01c5754e05ddeae62bf1c90c74393a4.txt  \n",
            "  inflating: train/labels/images-3_jpg.rf.b9acf5e37649c768756ef1a223c2f22f.txt  \n",
            " extracting: train/labels/images-3_jpg.rf.d69ff05c84e7a25db1d1386bf6eff2fa.txt  \n",
            "  inflating: train/labels/images-3_jpg.rf.dc10f6b816cdc1b223005130f488b8fa.txt  \n",
            "  inflating: train/labels/images-3_jpg.rf.dfce8a8b36fffa315fbe7fae039e2bc3.txt  \n",
            "  inflating: train/labels/images-3_jpg.rf.e1476f354f2668338a81e4331692eea3.txt  \n",
            "  inflating: train/labels/images-3_jpg.rf.f0f42ffdfba3d4a4a37e236e12638a87.txt  \n",
            " extracting: train/labels/images-3_jpg.rf.f2e55a6e518f6345a2a4879bc483712f.txt  \n",
            "  inflating: train/labels/images-3_jpg.rf.f67eabda0753661f943f60ecd18bb6dd.txt  \n",
            "  inflating: train/labels/images-3_jpg.rf.f73bdde0365e97597bfa81cef8ab71c6.txt  \n",
            "  inflating: train/labels/images-3_jpg.rf.fa2c98e14f37c28ed59a32d410c071e6.txt  \n",
            " extracting: train/labels/images-3_jpg.rf.ffd2002f6754e5734c1035012822f081.txt  \n",
            "  inflating: train/labels/images-40_jpg.rf.2ec7baafd3639630b5d16ecdce57c4b7.txt  \n",
            "  inflating: train/labels/images-40_jpg.rf.378e771dc5b5f7aa13ee7e9cce14d575.txt  \n",
            "  inflating: train/labels/images-40_jpg.rf.4af18858569e2af4a189ee839f3348f9.txt  \n",
            "  inflating: train/labels/images-40_jpg.rf.67f5f7bd8c0eb57d1d77f2fc3a5888c3.txt  \n",
            "  inflating: train/labels/images-40_jpg.rf.9c0958fc083691832be533564dc00b89.txt  \n",
            "  inflating: train/labels/images-40_jpg.rf.e01cceb47e1cde5a20721dd9811e5107.txt  \n",
            "  inflating: train/labels/images-41_jpg.rf.64e0841b567377c7cf172133f0360c13.txt  \n",
            "  inflating: train/labels/images-41_jpg.rf.963a2f52ce34a092847281d5d1aa983d.txt  \n",
            "  inflating: train/labels/images-41_jpg.rf.bce6dca4b1b76892c742d7c317a9126e.txt  \n",
            "  inflating: train/labels/images-41_jpg.rf.c6509af3847ae3fd50c49f878e19d03d.txt  \n",
            "  inflating: train/labels/images-41_jpg.rf.cab6b9e360a148c213d51407e6f507c9.txt  \n",
            "  inflating: train/labels/images-41_jpg.rf.e8dbd917b507f042d0064ab7d78968a8.txt  \n",
            "  inflating: train/labels/images-42_jpg.rf.531f109c277bf00180a3278609a7d1b1.txt  \n",
            "  inflating: train/labels/images-42_jpg.rf.85660f0c6c793646a54972dbf0f3a177.txt  \n",
            "  inflating: train/labels/images-42_jpg.rf.886b85b1eedba38af73ba8c264846f49.txt  \n",
            "  inflating: train/labels/images-42_jpg.rf.bce3e5101657b2509efd684d426d7e1e.txt  \n",
            "  inflating: train/labels/images-42_jpg.rf.c05eb65bdd3a7bb14f6e2a4799af4255.txt  \n",
            "  inflating: train/labels/images-43_jpg.rf.c0cc5e7e85dca5552d4d7a7368647c1e.txt  \n",
            "  inflating: train/labels/images-4_jpg.rf.0176168b9429afc474660394e9f1c3a3.txt  \n",
            "  inflating: train/labels/images-4_jpg.rf.26511d473455506021af5133857f2b02.txt  \n",
            " extracting: train/labels/images-4_jpg.rf.431e9db458dccbdd699827db792996f9.txt  \n",
            "  inflating: train/labels/images-4_jpg.rf.48848024351000d63dfc2833c4509704.txt  \n",
            "  inflating: train/labels/images-4_jpg.rf.7854dccff13752fb4cd76515b69b9727.txt  \n",
            " extracting: train/labels/images-4_jpg.rf.7aa010578475c8255197411fb2ff2f1d.txt  \n",
            " extracting: train/labels/images-4_jpg.rf.86294fd80a5b395c6775fd3eb9cd6357.txt  \n",
            " extracting: train/labels/images-4_jpg.rf.86e90b0f811ca1e8ea0cfffd7ee4cc2a.txt  \n",
            "  inflating: train/labels/images-4_jpg.rf.891df65754cdf476035b205d05cdcae4.txt  \n",
            "  inflating: train/labels/images-4_jpg.rf.93ffaef2df1901ab934faec7e2b645e7.txt  \n",
            " extracting: train/labels/images-4_jpg.rf.b1351c246e8200f9ebd8e640af824781.txt  \n",
            " extracting: train/labels/images-4_jpg.rf.c27e9272c6eba6b6e18d6c0a3867a531.txt  \n",
            "  inflating: train/labels/images-4_jpg.rf.cf906af8d42a9ef45e2d500f2d6db039.txt  \n",
            "  inflating: train/labels/images-4_jpg.rf.d50852dcb996501a29f8e6ad64d183ad.txt  \n",
            "  inflating: train/labels/images-4_jpg.rf.d9af9a331d6fab12b7b7ab0edb032962.txt  \n",
            "  inflating: train/labels/images-4_jpg.rf.de3f710f70007a2f388532de6a2c585f.txt  \n",
            "  inflating: train/labels/images-4_jpg.rf.e73980e308f61f8d262837f8858018cc.txt  \n",
            "  inflating: train/labels/images-4_jpg.rf.e76d0d5b632f97d3ad47102d55911265.txt  \n",
            " extracting: train/labels/images-4_jpg.rf.e7dfa30fd9d7aba8bd35e53caffc1e57.txt  \n",
            " extracting: train/labels/images-4_jpg.rf.edb48dcc1c0b3cd9324f826462746f86.txt  \n",
            "  inflating: train/labels/images-4_jpg.rf.fbdb28746f6ec6afdbf593ce0f30375d.txt  \n",
            "  inflating: train/labels/images-5_jpg.rf.0c12ce3dba8d29aa2ec7e8a91c246a89.txt  \n",
            "  inflating: train/labels/images-5_jpg.rf.1da04eae51891e47162c9e2582f069eb.txt  \n",
            "  inflating: train/labels/images-5_jpg.rf.2906069fc87197fa66f2ff58cac65533.txt  \n",
            "  inflating: train/labels/images-5_jpg.rf.2a8d7250fcd2b68c7e91b2c73701ab68.txt  \n",
            "  inflating: train/labels/images-5_jpg.rf.2ec01d974d706eb6515937df84d432b3.txt  \n",
            "  inflating: train/labels/images-5_jpg.rf.361fbccfaedc84712712637d248efd82.txt  \n",
            "  inflating: train/labels/images-5_jpg.rf.43f787b53638354fe83e200ea2906d78.txt  \n",
            "  inflating: train/labels/images-5_jpg.rf.464304e44e5ee5b5d2d5d31872f1141e.txt  \n",
            "  inflating: train/labels/images-5_jpg.rf.49aa7a2543af2066c9493fa795dbd5ef.txt  \n",
            "  inflating: train/labels/images-5_jpg.rf.49b7f658416b48b1067befe0f8e70743.txt  \n",
            "  inflating: train/labels/images-5_jpg.rf.4e603250d30a21b3ae68d60d03c08a1b.txt  \n",
            "  inflating: train/labels/images-5_jpg.rf.4e85a5192e9cadc03d8f1c6e81edd631.txt  \n",
            "  inflating: train/labels/images-5_jpg.rf.4faa3408d6bf3b04d11765b5002f9601.txt  \n",
            "  inflating: train/labels/images-5_jpg.rf.589a3d4871f9a6c9c7431670e4de0159.txt  \n",
            "  inflating: train/labels/images-5_jpg.rf.7941b24356feecd020c9b10530b9f111.txt  \n",
            "  inflating: train/labels/images-5_jpg.rf.79e91e1654439bc53793c5613df86c4e.txt  \n",
            "  inflating: train/labels/images-5_jpg.rf.7f56544649edfac9ee0458490e04f3db.txt  \n",
            "  inflating: train/labels/images-5_jpg.rf.8eccf00c3e49087c9ae7aaa26125109f.txt  \n",
            "  inflating: train/labels/images-5_jpg.rf.9020632c261e9dff6bf2b6c5f4362547.txt  \n",
            "  inflating: train/labels/images-5_jpg.rf.a18a26f0283364eaf1b936d51bddf0bf.txt  \n",
            "  inflating: train/labels/images-5_jpg.rf.a7ac964c023af055b19d1766a2f2c666.txt  \n",
            "  inflating: train/labels/images-5_jpg.rf.aaf79ab7cc3632651d9098d11b2118dc.txt  \n",
            "  inflating: train/labels/images-5_jpg.rf.b2fd538017b2732abf65cf20e31e7028.txt  \n",
            "  inflating: train/labels/images-5_jpg.rf.c35db3e46a2a5033556f4b894e52236d.txt  \n",
            "  inflating: train/labels/images-5_jpg.rf.c61c658b12fa8c6d098f8779c2f87d11.txt  \n",
            "  inflating: train/labels/images-5_jpg.rf.c9654e5029ed9378ab34e7b04279fc8c.txt  \n",
            "  inflating: train/labels/images-5_jpg.rf.cbc5710b24889d32cdf8e4932af7f1e1.txt  \n",
            "  inflating: train/labels/images-5_jpg.rf.ceab5ca8bd40dca5bdeeb0c8c4746433.txt  \n",
            "  inflating: train/labels/images-5_jpg.rf.dfc4a0493daa5ee2729dd5192a1aa7fa.txt  \n",
            "  inflating: train/labels/images-5_jpg.rf.eb46d59a95fd912e89d570bba813dd9f.txt  \n",
            "  inflating: train/labels/images-5_jpg.rf.f02a4037d435a13bdf01f41fa3b0e8b9.txt  \n",
            "  inflating: train/labels/images-5_jpg.rf.f6121b41e6458683690a81c260b00939.txt  \n",
            "  inflating: train/labels/images-5_jpg.rf.fd4864e0d72499dcf9ad3da4117a53d8.txt  \n",
            "  inflating: train/labels/images-6_jpg.rf.065282e6864f5e1c4328eb27ed7aa43b.txt  \n",
            "  inflating: train/labels/images-6_jpg.rf.0c89f875616a9b0e76215212bd5ae019.txt  \n",
            "  inflating: train/labels/images-6_jpg.rf.137db2894a5024736bfb1cd9aff5425f.txt  \n",
            "  inflating: train/labels/images-6_jpg.rf.2577bd0db3b7e840537de4b3e176c8f2.txt  \n",
            "  inflating: train/labels/images-6_jpg.rf.2671897691fb86a05155ca2a433460ad.txt  \n",
            "  inflating: train/labels/images-6_jpg.rf.31d1b87094ee0d966588cca15b2569ef.txt  \n",
            "  inflating: train/labels/images-6_jpg.rf.566b01209f8aabbe9dd8bcd21e93120d.txt  \n",
            "  inflating: train/labels/images-6_jpg.rf.56df8e795ed061e29566a18eb026ef10.txt  \n",
            "  inflating: train/labels/images-6_jpg.rf.6f7c31ac16b39f36e4d1355f98e4b778.txt  \n",
            "  inflating: train/labels/images-6_jpg.rf.7234aa6663fbfcd4bc0157c64b252e79.txt  \n",
            "  inflating: train/labels/images-6_jpg.rf.7338eccc51a10b93e453932f25845ce5.txt  \n",
            "  inflating: train/labels/images-6_jpg.rf.86e86b175f1bf89fbc57073b5619779d.txt  \n",
            "  inflating: train/labels/images-6_jpg.rf.955c7cc300c3bfae17b1fa3f2a31fef7.txt  \n",
            "  inflating: train/labels/images-6_jpg.rf.aaab128ba80f8327a2bffb5be3563964.txt  \n",
            "  inflating: train/labels/images-6_jpg.rf.b2ef2aa08d5351df6c6a7bba94e3c63f.txt  \n",
            " extracting: train/labels/images-6_jpg.rf.c613fce5f68101f095c618881c6ff983.txt  \n",
            " extracting: train/labels/images-6_jpg.rf.c91aa41cb94f450997132097ce86a711.txt  \n",
            "  inflating: train/labels/images-6_jpg.rf.d3b373a9cf096b23ed7035468b14e142.txt  \n",
            " extracting: train/labels/images-6_jpg.rf.f9c36e629be66556641951ef899bc615.txt  \n",
            "  inflating: train/labels/images-7_jpg.rf.0813aa66ecddb444a623befea546917e.txt  \n",
            "  inflating: train/labels/images-7_jpg.rf.11f28cbbbb8baca400a829f931410994.txt  \n",
            "  inflating: train/labels/images-7_jpg.rf.12786f53418231f4802c37c364144bb0.txt  \n",
            "  inflating: train/labels/images-7_jpg.rf.2210b603244f81743c9382bea05181c1.txt  \n",
            "  inflating: train/labels/images-7_jpg.rf.28a41dee7ad926e5337c5faf11931731.txt  \n",
            "  inflating: train/labels/images-7_jpg.rf.343845faac4295330dbeaedd9173ec23.txt  \n",
            "  inflating: train/labels/images-7_jpg.rf.35187cc6337535ae9affc7a41e87acb0.txt  \n",
            "  inflating: train/labels/images-7_jpg.rf.40c63432001a123171248929a9f46b5d.txt  \n",
            "  inflating: train/labels/images-7_jpg.rf.5a15ec82903584c3a4918fc0546a9406.txt  \n",
            "  inflating: train/labels/images-7_jpg.rf.694d41527e8e7def43741630b923f933.txt  \n",
            "  inflating: train/labels/images-7_jpg.rf.6a6767985a21c43124df6579d05f0f50.txt  \n",
            "  inflating: train/labels/images-7_jpg.rf.79c87273cf03498777ce2907f6cc36c2.txt  \n",
            "  inflating: train/labels/images-7_jpg.rf.928ba128154fa88fcb7af151cc5d4f12.txt  \n",
            "  inflating: train/labels/images-7_jpg.rf.9aed1e21c52eb42dc9c21e2a9427cd62.txt  \n",
            "  inflating: train/labels/images-7_jpg.rf.a4d0749445573e41007444bf5d72d898.txt  \n",
            "  inflating: train/labels/images-7_jpg.rf.bccfb8357b5a5047f6ff72e63566fb2c.txt  \n",
            "  inflating: train/labels/images-7_jpg.rf.bd1fb668e70a105ba9698ac135750f57.txt  \n",
            "  inflating: train/labels/images-7_jpg.rf.d026a38d012224662039929ef45618b9.txt  \n",
            "  inflating: train/labels/images-7_jpg.rf.d0320ff7aee48ce71d06e3bc42833b50.txt  \n",
            "  inflating: train/labels/images-7_jpg.rf.f782b12eb53199fac2e43bed5c7cdc9c.txt  \n",
            "  inflating: train/labels/images-7_jpg.rf.fcd516c77969231ee35e116c6ff578e8.txt  \n",
            " extracting: train/labels/images-8_jpg.rf.02cba4c914e06b0cfad8fca4d0d93eb4.txt  \n",
            "  inflating: train/labels/images-8_jpg.rf.041230fb17fc3be74715f972860c366f.txt  \n",
            " extracting: train/labels/images-8_jpg.rf.119e03f1536aae22ac9f3dccce61a4d8.txt  \n",
            "  inflating: train/labels/images-8_jpg.rf.16cb364060a6ecbf0490d21bf14752a8.txt  \n",
            "  inflating: train/labels/images-8_jpg.rf.1c6fa9a33da3a0aecbeae44df7d9e423.txt  \n",
            "  inflating: train/labels/images-8_jpg.rf.27e48ff8c7bfb602540e0a64c9e1a4ab.txt  \n",
            "  inflating: train/labels/images-8_jpg.rf.39d437ecc1ce664fa50f468e707be38b.txt  \n",
            " extracting: train/labels/images-8_jpg.rf.3b9afe912c7aaee6ade6a4608bc3c7f4.txt  \n",
            "  inflating: train/labels/images-8_jpg.rf.4ff163eea736c0cf377b22c7de45cfab.txt  \n",
            "  inflating: train/labels/images-8_jpg.rf.78fda58c8f94be6d6484f71a9f421755.txt  \n",
            "  inflating: train/labels/images-8_jpg.rf.94b41d590a49776c5cf23d1e5cb20234.txt  \n",
            "  inflating: train/labels/images-8_jpg.rf.9e2b8e825225838e56772c18e27d6d29.txt  \n",
            "  inflating: train/labels/images-8_jpg.rf.9ff8497602653c5dcf1704cfec5a6576.txt  \n",
            "  inflating: train/labels/images-8_jpg.rf.afd403ccc171252f93543abbb36a22fc.txt  \n",
            "  inflating: train/labels/images-8_jpg.rf.cb9f4e710d8e3c23b2a690f7c9ef6781.txt  \n",
            " extracting: train/labels/images-8_jpg.rf.d99473ab1c1a95c079b1f51578bfcee4.txt  \n",
            " extracting: train/labels/images-8_jpg.rf.e298a74556ebf685165ddcc22b2060ec.txt  \n",
            "  inflating: train/labels/images-9_jpg.rf.071db8195560a98381a9f9339aeec3be.txt  \n",
            "  inflating: train/labels/images-9_jpg.rf.0bcd0a515fbac372cabbfe27f7ab9548.txt  \n",
            "  inflating: train/labels/images-9_jpg.rf.2718bae19f2e9bcc9a58a7fc895eb069.txt  \n",
            "  inflating: train/labels/images-9_jpg.rf.2e502cd81ac0f979f6232724197d0428.txt  \n",
            "  inflating: train/labels/images-9_jpg.rf.3fa31c142924589dd8dbd7bfdc5a4fd5.txt  \n",
            "  inflating: train/labels/images-9_jpg.rf.454e954f09c08775b19e026e63a74954.txt  \n",
            "  inflating: train/labels/images-9_jpg.rf.47811beca9556beba3ec53f8bbe609c9.txt  \n",
            "  inflating: train/labels/images-9_jpg.rf.6cd17b85d0a7ad8bf1193c6c218df1f5.txt  \n",
            "  inflating: train/labels/images-9_jpg.rf.8f1a84120a4c3dc35d1b195cac396fc1.txt  \n",
            "  inflating: train/labels/images-9_jpg.rf.adc47fb3b4640e7150d052beba0e12c7.txt  \n",
            "  inflating: train/labels/images-9_jpg.rf.b45f98bc219e06f60e5ce839fde9cc14.txt  \n",
            "  inflating: train/labels/images-9_jpg.rf.bcbaee7181fa259c3124c49b4fa2728e.txt  \n",
            "  inflating: train/labels/images-9_jpg.rf.cc9257035b7ce3237c0c0f7ad99d5f80.txt  \n",
            "  inflating: train/labels/images-9_jpg.rf.d50695b33d7c3456d1e008e6d941e5cc.txt  \n",
            "  inflating: train/labels/images-9_jpg.rf.d54aa49d9f2c18c7a30207afc667b9a0.txt  \n",
            "  inflating: train/labels/images-9_jpg.rf.e7422b61511fda95f2de60a601ac29a1.txt  \n",
            "  inflating: train/labels/images-9_jpg.rf.fb15d782ef6f9d10756260ff33f1dcd2.txt  \n",
            "  inflating: train/labels/images_002_jpg.rf.299ce3b3b784a62fa1960fdec62e0b55.txt  \n",
            "  inflating: train/labels/images_002_jpg.rf.8dfa91bfa30bae320e2af738c14df734.txt  \n",
            "  inflating: train/labels/images_002_jpg.rf.d153003bdebf70f4b48e20765207e9b5.txt  \n",
            "  inflating: train/labels/images_002_jpg.rf.d6b8720b31f944f9580e4e5acae40c04.txt  \n",
            "  inflating: train/labels/images_002_jpg.rf.e0786fd3f059dfb0a7abfa13373343a5.txt  \n",
            "  inflating: train/labels/images_006_jpg.rf.00d5916654d110811d9ce8174cd229b1.txt  \n",
            "  inflating: train/labels/images_006_jpg.rf.23d0e296f391b0fdd66cd445e7dd15f1.txt  \n",
            "  inflating: train/labels/images_006_jpg.rf.7727f53f16ace751b3d7027a6dc9a159.txt  \n",
            "  inflating: train/labels/images_006_jpg.rf.8c5f32dee4ed95fc2db8a69c3e240b7d.txt  \n",
            "  inflating: train/labels/images_006_jpg.rf.bb76824d07e3b7b3c8e496af14a03d6e.txt  \n",
            "  inflating: train/labels/images_006_jpg.rf.fa450bd7272873fb42c110cae3451560.txt  \n",
            "  inflating: train/labels/images_jpg.rf.0cb03d9f6e6bd017cc857b005cd320ac.txt  \n",
            "  inflating: train/labels/images_jpg.rf.0deee947551b6ff71bf917a18197c4b1.txt  \n",
            "  inflating: train/labels/images_jpg.rf.11279bd1a2926a0bdaeb30e97e10eef7.txt  \n",
            "  inflating: train/labels/images_jpg.rf.13704b610351d8915e49ff4c3ef34435.txt  \n",
            "  inflating: train/labels/images_jpg.rf.1538e3602260aafb2ca8fe7a30a91aa0.txt  \n",
            " extracting: train/labels/images_jpg.rf.16743c81c0ad6853300d6577f31e8b9a.txt  \n",
            "  inflating: train/labels/images_jpg.rf.1a75419e17ab90cb06a9b745a6b6346e.txt  \n",
            "  inflating: train/labels/images_jpg.rf.212809c04b355981a171397e89765f18.txt  \n",
            " extracting: train/labels/images_jpg.rf.25f1c68545c2994ef5d14833c8cf4905.txt  \n",
            "  inflating: train/labels/images_jpg.rf.27f5242638a56f4c87c9f52ad4e48d43.txt  \n",
            "  inflating: train/labels/images_jpg.rf.2c08c5e46bb9e6edbbc041e694d9e519.txt  \n",
            "  inflating: train/labels/images_jpg.rf.31c56699a4c3e0dcfeefb2f380bf1966.txt  \n",
            "  inflating: train/labels/images_jpg.rf.40545cfa5e5d42806d2388f083fd8dd3.txt  \n",
            "  inflating: train/labels/images_jpg.rf.4078aa80e4570d6210653e19aa476d53.txt  \n",
            " extracting: train/labels/images_jpg.rf.4a8ecb0e2de2511b54cd1db3367a806f.txt  \n",
            " extracting: train/labels/images_jpg.rf.4e39068f3f8b524f310128fd212ef6b7.txt  \n",
            "  inflating: train/labels/images_jpg.rf.5c5df6b2f791c5b27adbaf71236af450.txt  \n",
            "  inflating: train/labels/images_jpg.rf.61d9518bdd761c63ea0828a00ab9e0a9.txt  \n",
            "  inflating: train/labels/images_jpg.rf.726c163dc2647032cda63b7615481238.txt  \n",
            "  inflating: train/labels/images_jpg.rf.7bc34c46a52a418a21f66ab588b05025.txt  \n",
            "  inflating: train/labels/images_jpg.rf.83483b5b591687f409a4f35293bbf35b.txt  \n",
            "  inflating: train/labels/images_jpg.rf.83b85dbca0c0aeedbc7b11380d3d5ad8.txt  \n",
            " extracting: train/labels/images_jpg.rf.840112d5963318f16fcfe4fd640d949b.txt  \n",
            "  inflating: train/labels/images_jpg.rf.8ecc5ab14c38189eb4f8c8d94862f578.txt  \n",
            "  inflating: train/labels/images_jpg.rf.971da31a87cd0309fb9ae91a7ad87c7a.txt  \n",
            "  inflating: train/labels/images_jpg.rf.9b588685c9bf45e1e8d2c539ae25536a.txt  \n",
            "  inflating: train/labels/images_jpg.rf.9e1ca3c80a38bc6615a2504f2cc47019.txt  \n",
            "  inflating: train/labels/images_jpg.rf.a39f79864ea90dc60573f384f8b86558.txt  \n",
            "  inflating: train/labels/images_jpg.rf.abf358260893ce2aa1d02536a0afa070.txt  \n",
            " extracting: train/labels/images_jpg.rf.ad8b296a384c10f50c1c86c7dad40c14.txt  \n",
            " extracting: train/labels/images_jpg.rf.ade15a50470f7554227f51a6be3a71c3.txt  \n",
            "  inflating: train/labels/images_jpg.rf.ae53c722396e1f81931f169f8dea56ca.txt  \n",
            " extracting: train/labels/images_jpg.rf.c444ab2ce7d1dd58249dd53d243dad19.txt  \n",
            "  inflating: train/labels/images_jpg.rf.c6ada2b64a3562793cfc636eb6a81950.txt  \n",
            "  inflating: train/labels/images_jpg.rf.c8873ba2fead932694b5b2e900c28296.txt  \n",
            " extracting: train/labels/images_jpg.rf.c89f64909d8a87b35198b2780cf2599f.txt  \n",
            "  inflating: train/labels/images_jpg.rf.d856bcc159288177a5c5e9e067a507a6.txt  \n",
            "  inflating: train/labels/images_jpg.rf.dbd6eee261500f1315d0fad0fbaa1e73.txt  \n",
            "  inflating: train/labels/images_jpg.rf.dec96c73d95abee2fb375c9fa236ba44.txt  \n",
            "  inflating: train/labels/images_jpg.rf.df503a77e43dd46908890912d40663b9.txt  \n",
            "  inflating: train/labels/images_jpg.rf.e30354882f69e506915fd8a73a86482e.txt  \n",
            "  inflating: train/labels/images_jpg.rf.e9b76db0d377ce2a81cb07b895a9abee.txt  \n",
            "  inflating: train/labels/images_jpg.rf.eab033db175c112283af118c20e27463.txt  \n",
            "  inflating: train/labels/images_jpg.rf.ec1fa4ec0fa97c0c457dd6ba8b8f9328.txt  \n",
            "  inflating: train/labels/images_jpg.rf.f4b66319081703edaba204f2293ac7d0.txt  \n",
            " extracting: train/labels/images_jpg.rf.f5145a21458a32cc56b3549b9f611ee0.txt  \n",
            " extracting: train/labels/images_jpg.rf.f89e2f68ca32a528fa60db44ede3adc5.txt  \n",
            "  inflating: train/labels/images_jpg.rf.fe148853742bd140b8263f36c11ea42d.txt  \n",
            "  inflating: train/labels/istockphoto-187062420-612x612_jpg.rf.e29f41c83e42ce7d6610cb2ee2e7cf9f.txt  \n",
            "  inflating: train/labels/istockphoto-518198839-612x612_jpg.rf.3dd1b1a8e2c4f2d92e71ca48e215df6f.txt  \n",
            "  inflating: train/labels/maxresdefaul11t_jpg.rf.07a087c40e83b94592430d0528f73f73.txt  \n",
            "  inflating: train/labels/maxresdefaul11t_jpg.rf.2dc031871758a46208c8c29d9d33be66.txt  \n",
            "  inflating: train/labels/maxresdefaul11t_jpg.rf.908fce3bb80687fbe41bfb1f1c372044.txt  \n",
            "  inflating: train/labels/maxresdefaul11t_jpg.rf.973df9a3623a8895a592db36fbb7d7eb.txt  \n",
            "  inflating: train/labels/maxresdefaul11t_jpg.rf.bec2b53ed4c8057f26c7826945830bac.txt  \n",
            "  inflating: train/labels/maxresdefault_jpg.rf.9555eeedbb16d7246fd04a4359be2607.txt  \n",
            "  inflating: train/labels/maxresdefault_jpg.rf.a71e2ba34c20b34f7e666a956f2c4f58.txt  \n",
            "  inflating: train/labels/new_SD3_jpg.rf.17892e3c756473974f1ca6356e2fad39.txt  \n",
            "  inflating: train/labels/new_SD3_jpg.rf.1b122c4b334983320c584beba511ba29.txt  \n",
            "  inflating: train/labels/new_SD3_jpg.rf.8b5c0c7385d6ebde00426394fe25c3b0.txt  \n",
            "  inflating: train/labels/new_SD3_jpg.rf.f646debe12a2aed21c74165fb99d960d.txt  \n",
            "  inflating: train/labels/new_SD4_jpg.rf.0565f0ea6d1d212370f4e6b6a2813739.txt  \n",
            "  inflating: train/labels/new_SD4_jpg.rf.2099d963cdd52a5250c45ac3d23c2b5c.txt  \n",
            "  inflating: train/labels/new_SD4_jpg.rf.ad323c1be95cdd48f8cf43979a73c659.txt  \n",
            "  inflating: train/labels/new_SD4_jpg.rf.ca76ef3fd6f228374c8ee20cd5f3992b.txt  \n",
            "  inflating: train/labels/new_SD6_jpg.rf.13faae54d54eeb271730980372edca1c.txt  \n",
            "  inflating: train/labels/new_SD6_jpg.rf.2d7e8f6e055abfafb1c8e9377978379e.txt  \n",
            "  inflating: train/labels/new_SD6_jpg.rf.3ae2ce46f7269a3676804340adcb6291.txt  \n",
            "  inflating: train/labels/new_SD6_jpg.rf.85c6de72286e6152ab34506076a3816b.txt  \n",
            "  inflating: train/labels/new_SD6_jpg.rf.b5dd932b2b403060c83a83cc72a627a6.txt  \n",
            "  inflating: train/labels/pexels-photo-3368844_jpeg.rf.235bc6f5b159b15c8c3292a63173f296.txt  \n",
            "  inflating: train/labels/screen_images10_png_jpg.rf.30df939e0999bfd858b2ef6bc110e730.txt  \n",
            " extracting: train/labels/screen_images11_png_jpg.rf.725b6111b3381d6a4292e8c2056b3490.txt  \n",
            " extracting: train/labels/screen_images11_png_jpg.rf.a516b24c679250e6cd42aadb3a2c0f67.txt  \n",
            " extracting: train/labels/screen_images11_png_jpg.rf.d1c478274a995c108cc422001c366a01.txt  \n",
            " extracting: train/labels/screen_images11_png_jpg.rf.d56b563892038aaecd73c0e280d5f5bb.txt  \n",
            " extracting: train/labels/screen_images11_png_jpg.rf.d881bdab440fe5b596b41fa9e40145b2.txt  \n",
            " extracting: train/labels/screen_images11_png_jpg.rf.de2ba65f13aee0d72d9fece1bdb0cff9.txt  \n",
            " extracting: train/labels/screen_images11_png_jpg.rf.e330147e34c5610d38e318deabcae706.txt  \n",
            "  inflating: train/labels/screen_images12_png_jpg.rf.305072a30946073f4d8750ca0fc8067e.txt  \n",
            "  inflating: train/labels/screen_images12_png_jpg.rf.37a42f6961f26a12cb5e22a09e41036b.txt  \n",
            "  inflating: train/labels/screen_images12_png_jpg.rf.44ff84d9ea100671e355fe7490e5c2e7.txt  \n",
            "  inflating: train/labels/screen_images12_png_jpg.rf.68430dbaaf7f9879a00a108a2fbfb3ba.txt  \n",
            "  inflating: train/labels/screen_images12_png_jpg.rf.a8e702aa98d6ea5c16e013fd20987479.txt  \n",
            "  inflating: train/labels/screen_images12_png_jpg.rf.d9dd4a93f5b39edfc01a623d993b719b.txt  \n",
            "  inflating: train/labels/screen_images1_png_jpg.rf.6b4facf87778552fc85251842fa4d011.txt  \n",
            "  inflating: train/labels/screen_images2_png_jpg.rf.0a6469aacb7acc87552f7ab04852f2ec.txt  \n",
            "  inflating: train/labels/screen_images2_png_jpg.rf.2c429b1cda5d85eef403b7878e78523b.txt  \n",
            "  inflating: train/labels/screen_images2_png_jpg.rf.8b2d2d6fdc569399e504aeda98cc63bb.txt  \n",
            "  inflating: train/labels/screen_images2_png_jpg.rf.905b1380f7f82619ba0ee7ed7f781a72.txt  \n",
            "  inflating: train/labels/screen_images2_png_jpg.rf.e341b2432cc2abcc0a68ad637abd39fb.txt  \n",
            "  inflating: train/labels/screen_images3_png_jpg.rf.3949b76f1848279cd8887d768d7ec6c4.txt  \n",
            "  inflating: train/labels/screen_images3_png_jpg.rf.4ab27b81ca3a9227eea8c02f3af21ec9.txt  \n",
            "  inflating: train/labels/screen_images3_png_jpg.rf.7ac7a674f2189b38453d5a50993d12c8.txt  \n",
            "  inflating: train/labels/screen_images3_png_jpg.rf.b1e02da60d464293c4532e0a0eda729b.txt  \n",
            "  inflating: train/labels/screen_images4_png_jpg.rf.064e05e37195af877564ab6b481cd016.txt  \n",
            "  inflating: train/labels/screen_images4_png_jpg.rf.95f841c30239f66155e969f749665e47.txt  \n",
            "  inflating: train/labels/screen_images4_png_jpg.rf.adce7fe1f9e04ce1f61f9712e4e01748.txt  \n",
            "  inflating: train/labels/screen_images4_png_jpg.rf.b10e288e85ce1d8857774e08aa631223.txt  \n",
            "  inflating: train/labels/screen_images4_png_jpg.rf.b2380b1938df49f59b9d056d65faf9fa.txt  \n",
            "  inflating: train/labels/screen_images4_png_jpg.rf.c892ecbe5dda4c71689e81e0cc934006.txt  \n",
            "  inflating: train/labels/screen_images4_png_jpg.rf.f78b4901791a92a1a4d1ffbb3afe585d.txt  \n",
            "  inflating: train/labels/screen_images5_png_jpg.rf.1f10109a654dce495940ba35e753e7ad.txt  \n",
            "  inflating: train/labels/screen_images5_png_jpg.rf.343fc29fc584a1aea143e24e8cfe7685.txt  \n",
            "  inflating: train/labels/screen_images5_png_jpg.rf.496c0fe46182c0c219a6b6353a8da5ff.txt  \n",
            "  inflating: train/labels/screen_images5_png_jpg.rf.c1632115ca160e29fc0e5d1bc26a59bc.txt  \n",
            "  inflating: train/labels/screen_images5_png_jpg.rf.dbda025402addb8949d4b8d5d1e420e6.txt  \n",
            "  inflating: train/labels/screen_images6_png_jpg.rf.06ae41b3b02c8bdc0741712b46882f1b.txt  \n",
            "  inflating: train/labels/screen_images6_png_jpg.rf.0dbfed051f9e0e3029faa2d1d0657ea7.txt  \n",
            "  inflating: train/labels/screen_images6_png_jpg.rf.228b8ba55b3f01c71eeac9438a9d4780.txt  \n",
            "  inflating: train/labels/screen_images6_png_jpg.rf.22d43a5a0f1b9eee8bef9cf379bf1d2d.txt  \n",
            "  inflating: train/labels/screen_images6_png_jpg.rf.4e0725cc34c2f7674d18e2ee733ab5f2.txt  \n",
            "  inflating: train/labels/screen_images6_png_jpg.rf.8d0014a6cc8af5c4f50d729ef34c872b.txt  \n",
            "  inflating: train/labels/screen_images7_png_jpg.rf.20b786da189d95b21764584ca2a99882.txt  \n",
            "  inflating: train/labels/screen_images7_png_jpg.rf.66a3a301681b7cf9d3b494fa616a76c4.txt  \n",
            "  inflating: train/labels/screen_images7_png_jpg.rf.a43e167f99cd83e51e3e20323f890ee3.txt  \n",
            "  inflating: train/labels/screen_images7_png_jpg.rf.cf754eaa22c1218b59f284c6c10e888c.txt  \n",
            "  inflating: train/labels/screen_images7_png_jpg.rf.e53300f59defa318a90f36fa6920a8ee.txt  \n",
            "  inflating: train/labels/screen_images7_png_jpg.rf.e64caa4e13a73fe2578dd08aec8c87c2.txt  \n",
            "  inflating: train/labels/screen_images7_png_jpg.rf.f510a88ed84121908f976974b84544ef.txt  \n",
            "  inflating: train/labels/screen_images8_png_jpg.rf.756bf07ee954e9cffc544e1dfce40367.txt  \n",
            "  inflating: train/labels/screen_images8_png_jpg.rf.8228b25f0c0a1d7f38f74a2960f9a710.txt  \n",
            "  inflating: train/labels/screen_images8_png_jpg.rf.be2b1a27a05be800f6e33d1883ad7283.txt  \n",
            "  inflating: train/labels/screen_images8_png_jpg.rf.f2f7426cdc8dbea383e31702aaf3cbc9.txt  \n",
            "  inflating: train/labels/screen_images9_png_jpg.rf.0451eba2b351cd741719ff1d23234370.txt  \n",
            "  inflating: train/labels/screen_images9_png_jpg.rf.4aade8f4da4ac9d360b2e5b051101aa0.txt  \n",
            "  inflating: train/labels/screen_images9_png_jpg.rf.62c2b4d1857635950611ea54bfbdfba6.txt  \n",
            "  inflating: train/labels/screen_images9_png_jpg.rf.7174435746bfe40f97ffb4b5113c6ae5.txt  \n",
            "  inflating: train/labels/screen_images9_png_jpg.rf.a312218a73f6edb9751ba6ef4f3185f7.txt  \n",
            "  inflating: train/labels/sev10_jpg.rf.1683a772f171e9038dfa398c82582af5.txt  \n",
            "  inflating: train/labels/sev10_jpg.rf.321c007d882204f608ba14f138f909c9.txt  \n",
            "  inflating: train/labels/sev10_jpg.rf.5324738b665e90093aa43194fb0d382d.txt  \n",
            "  inflating: train/labels/sev10_jpg.rf.9d7c24de51d232b0c975ea2d02b81ba9.txt  \n",
            "  inflating: train/labels/sev10_jpg.rf.ab8bd49c24346b5bae2a7d33b58ac4c9.txt  \n",
            "  inflating: train/labels/sev10_jpg.rf.cd1d9533b5f1eb1bd7ac1a3a4c234f38.txt  \n",
            "  inflating: train/labels/sev11_jpg.rf.0d7fdf6266dd6f4ad3eaf234eff2462a.txt  \n",
            "  inflating: train/labels/sev11_jpg.rf.5a9049d5e40e6c13bec34edd961044fc.txt  \n",
            "  inflating: train/labels/sev11_jpg.rf.d7d81dfdb3f32f43f9f9cb2dabbab56a.txt  \n",
            "  inflating: train/labels/sev11_jpg.rf.da02fd9d0e99e2ce6b4e06369752df2e.txt  \n",
            "  inflating: train/labels/sev11_jpg.rf.f7b59220c0c5029d37b243cd3fadf596.txt  \n",
            "  inflating: train/labels/sev11_jpg.rf.fefbbf5d8f769111292d205ffcf424bc.txt  \n",
            "  inflating: train/labels/sev2_jpg.rf.02d38efac2bb838755b384f99bb04c74.txt  \n",
            "  inflating: train/labels/sev2_jpg.rf.2601b0f6dcd025e06be9d711e56bf9db.txt  \n",
            "  inflating: train/labels/sev2_jpg.rf.48b0c0ee28e24c0adbb79737939a81e4.txt  \n",
            "  inflating: train/labels/sev2_jpg.rf.6a28bab7a6c312127153ed8d9aef6389.txt  \n",
            "  inflating: train/labels/sev2_jpg.rf.cb18073c27148831e4924a99192560cb.txt  \n",
            "  inflating: train/labels/sev3_jpg.rf.013c3d4c89a9b66d59be4ae0fef4850b.txt  \n",
            "  inflating: train/labels/sev3_jpg.rf.982ae1cf6d7aba8c65ecb84436a30a9a.txt  \n",
            "  inflating: train/labels/sev3_jpg.rf.b1af9cdd78023b9cfbe0882be65fb810.txt  \n",
            "  inflating: train/labels/sev3_jpg.rf.ba1a37031ee52f27eb53442bc84a690e.txt  \n",
            "  inflating: train/labels/sev3_jpg.rf.e16beeb441417b6a3e2e7507a6e2ab5f.txt  \n",
            "  inflating: train/labels/sev3_jpg.rf.e6b8a0e8b9494840268d23d4093df0b4.txt  \n",
            "  inflating: train/labels/sev4_jpg.rf.0ed0617c22fb1613970b130b85aad4cf.txt  \n",
            "  inflating: train/labels/sev4_jpg.rf.15ccaec6b133b8571abf62ee7755f377.txt  \n",
            "  inflating: train/labels/sev4_jpg.rf.258787ccc28365fbe2baa2403da8032f.txt  \n",
            "  inflating: train/labels/sev4_jpg.rf.a424703106605055ce3fdce53f209bc2.txt  \n",
            "  inflating: train/labels/sev4_jpg.rf.cfef0dced5703908933052a45c1ff255.txt  \n",
            "  inflating: train/labels/sev5_jpg.rf.18e6c175adc02931b56d86997d8abc08.txt  \n",
            "  inflating: train/labels/sev5_jpg.rf.32dec9afebf835d3e3b0c32f2724e620.txt  \n",
            "  inflating: train/labels/sev5_jpg.rf.7c1652cc331b0f655b95c27b97f8cb8f.txt  \n",
            "  inflating: train/labels/sev5_jpg.rf.83ae4de1784ae5997b2702c96a250b0c.txt  \n",
            "  inflating: train/labels/sev5_jpg.rf.b19384ec2580cc3c672dc7e1d7f1a7a8.txt  \n",
            "  inflating: train/labels/sev7_jpg.rf.320e2106e9acdf188370a8bdc59ea8ad.txt  \n",
            "  inflating: train/labels/sev7_jpg.rf.35b45d2866c13930c2509569b34610fc.txt  \n",
            "  inflating: train/labels/sev7_jpg.rf.79f5d8a6d53c9419bf4cdfe025311a31.txt  \n",
            "  inflating: train/labels/sev7_jpg.rf.9374ba7a6677b8a8ed6ee4c6de587ec9.txt  \n",
            "  inflating: train/labels/sev7_jpg.rf.f48219e822bc49888ff0bcfdff19de04.txt  \n",
            "  inflating: train/labels/sev7_jpg.rf.f8e4f5f27bb96a411139dcc01bdd75eb.txt  \n",
            "  inflating: train/labels/sev8_jpg.rf.38ac0f305af1688d724dbf2727c4594d.txt  \n",
            "  inflating: train/labels/sev8_jpg.rf.6e31721e121a0ef2fdb0e1fe8ba72d73.txt  \n",
            "  inflating: train/labels/sev8_jpg.rf.84e0de74c9e6bdb9fd70c245dcfd5cba.txt  \n",
            "  inflating: train/labels/sev8_jpg.rf.9348ad281294c1a896f00ab5132fa21e.txt  \n",
            "  inflating: train/labels/sev8_jpg.rf.ed47f261146b521434cdd535c824b51d.txt  \n",
            "  inflating: train/labels/sev8_jpg.rf.f1f224b8faf170e061c1a20a150cb704.txt  \n",
            "  inflating: train/labels/sev9_jpg.rf.25eca01f99a0d47c729cf18aead184b4.txt  \n",
            "  inflating: train/labels/sev9_jpg.rf.588e3a975f1809da31fed3fd010db2f0.txt  \n",
            "  inflating: train/labels/sev9_jpg.rf.a1ee5d3c78c3b765a30bdef9003e70ad.txt  \n",
            "  inflating: train/labels/sev9_jpg.rf.c0dffc5334d8c6f7cc49a13b6d61b6af.txt  \n",
            "  inflating: train/labels/sev9_jpg.rf.d5b03bc54edd2e72d58ad96184ded40b.txt  \n",
            "  inflating: train/labels/sev9_jpg.rf.e38d6526e9ab43558a58259d344c7e37.txt  \n",
            "  inflating: train/labels/sever10_jpg.rf.3f6eebe7b2e0a82ae199d007887a6ffb.txt  \n",
            "  inflating: train/labels/sever10_jpg.rf.43b2214e3b2ec9d175a19ae861961bda.txt  \n",
            "  inflating: train/labels/sever10_jpg.rf.4dc4974bd11d8cb440d62e3c0dfb2225.txt  \n",
            "  inflating: train/labels/sever10_jpg.rf.6f2e730b133dd0ef420ad433bdd5734b.txt  \n",
            "  inflating: train/labels/sever10_jpg.rf.aff36c06e66deb81cf0c600d4541af42.txt  \n",
            "  inflating: train/labels/sever10_jpg.rf.c75262ba3b0acba7a7d9dddba9fe262f.txt  \n",
            "  inflating: train/labels/sever10_jpg.rf.c9d54ec9a9ca5cc9c86dc46fb954aca3.txt  \n",
            "  inflating: train/labels/sever10_jpg.rf.d4929b618f31843166743711c1753fb9.txt  \n",
            "  inflating: train/labels/sever11_jpg.rf.1916ea8544ca24b9841d2d1874f22177.txt  \n",
            "  inflating: train/labels/sever11_jpg.rf.19d90fc5cf176d0e7ee2c2e72bd77ea1.txt  \n",
            "  inflating: train/labels/sever11_jpg.rf.690a242b1b4276e3d476fb7e22a33f71.txt  \n",
            "  inflating: train/labels/sever11_jpg.rf.6c70dd3036448072f83e21dd74b4f9b9.txt  \n",
            "  inflating: train/labels/sever11_jpg.rf.924a17af343a09870843a18ccb9cf12f.txt  \n",
            "  inflating: train/labels/sever2_jpg.rf.6f1b0426d3757abb541ce62c3e5d217c.txt  \n",
            "  inflating: train/labels/sever2_jpg.rf.c637513db5a2d765ab44fd8b6ff15b30.txt  \n",
            "  inflating: train/labels/sever2_jpg.rf.e450f5b5703f0a8ac1e4830364b16159.txt  \n",
            " extracting: train/labels/sever3_jpg.rf.080c5e611a348117deadaba99723ceb1.txt  \n",
            " extracting: train/labels/sever3_jpg.rf.1522181bbfe82347042ec9c794c1f476.txt  \n",
            " extracting: train/labels/sever3_jpg.rf.4f9a891a492bb0360d57a3e34016400a.txt  \n",
            " extracting: train/labels/sever3_jpg.rf.543e157c735e14373a5c7e4b220c11f6.txt  \n",
            " extracting: train/labels/sever3_jpg.rf.7e4468516dd3248ab459b374cb8437c5.txt  \n",
            " extracting: train/labels/sever3_jpg.rf.a19966231e677340c4da99b0aa330c36.txt  \n",
            "  inflating: train/labels/sever6_jpg.rf.49fb0abb5a9a066f4aa544c376bc9cc1.txt  \n",
            "  inflating: train/labels/sever6_jpg.rf.4f1d42d93df0c96c4f73af86de5647bd.txt  \n",
            "  inflating: train/labels/sever6_jpg.rf.7ad03e7d2a25127d0132e8ae7bcc6b70.txt  \n",
            "  inflating: train/labels/sever6_jpg.rf.7da0c105e22dbaf362cf07a3e4f7c0e3.txt  \n",
            "  inflating: train/labels/sever7_jpg.rf.2f1a9041819c1c3728e087bee3f480ef.txt  \n",
            "  inflating: train/labels/sever7_jpg.rf.3284149210be553d12261ee13d33631b.txt  \n",
            "  inflating: train/labels/sever7_jpg.rf.4dd50d6c349a442762f696d3a9598151.txt  \n",
            "  inflating: train/labels/sever7_jpg.rf.69a04520441c296457b8cff24cc9f3ed.txt  \n",
            "  inflating: train/labels/sever7_jpg.rf.c4cbac54a3cd4b4e00e5765ed7208eb9.txt  \n",
            "  inflating: train/labels/sever8_jpg.rf.2ae9468481a9e81fa5c2160d0da70c12.txt  \n",
            "  inflating: train/labels/sever8_jpg.rf.37659e7bf2f94b537981cbe6df7b2822.txt  \n",
            "  inflating: train/labels/sever8_jpg.rf.3c7bc69cade258f3ddd1f7676d2b7b4f.txt  \n",
            "  inflating: train/labels/sever8_jpg.rf.5a4a739a9f829562cd40c19a3aebfe35.txt  \n",
            "  inflating: train/labels/sever8_jpg.rf.6e2088dbaa3e72b1cfca371b8f01b03c.txt  \n",
            "  inflating: train/labels/sever8_jpg.rf.84977bb83df5ddfb641d1225881f0413.txt  \n",
            "  inflating: train/labels/sever9_jpg.rf.2122cc0c57ec3b88289e35dfc3079fdd.txt  \n",
            "  inflating: train/labels/sever9_jpg.rf.4a530eaff6cd602e6987ec9fb53dd365.txt  \n",
            "  inflating: train/labels/sever9_jpg.rf.a7c42a431339aab2fe5d4a7783b06de3.txt  \n",
            "  inflating: train/labels/sever9_jpg.rf.cd8a48007661b569cdbf21542168d104.txt  \n",
            "  inflating: train/labels/sever9_jpg.rf.ea1cb6648857157d36b0422c02272186.txt  \n",
            "  inflating: train/labels/severV110_jpg.rf.003a939a8591286b76b80cd366fc7d0c.txt  \n",
            "  inflating: train/labels/severV110_jpg.rf.39f50985083c7a6482e92b7c7d28e969.txt  \n",
            "  inflating: train/labels/severV110_jpg.rf.5f0825fd82b7bd4fd997649a6c718eda.txt  \n",
            "  inflating: train/labels/severV110_jpg.rf.97437b653a24a97338c75918af108c71.txt  \n",
            "  inflating: train/labels/severV11_jpg.rf.6579862b4ebbe3ec5af64f714b927b14.txt  \n",
            "  inflating: train/labels/severV11_jpg.rf.93f11324eae58f3d47b66cf3a484771a.txt  \n",
            "  inflating: train/labels/severV12_jpg.rf.f0cf63a6befe2e1abc81b056bca7e4db.txt  \n",
            "  inflating: train/labels/severV13_jpg.rf.8d9fb5d69fb255e0efb80d3028436702.txt  \n",
            "  inflating: train/labels/severV13_jpg.rf.abff5d7f5bfd03e44a29707158ba970e.txt  \n",
            "  inflating: train/labels/severV14_jpg.rf.07bf8a97c93df70ea6ce5d05fe790b12.txt  \n",
            "  inflating: train/labels/severV14_jpg.rf.4ddc0a15282f47acb7b761d284af5027.txt  \n",
            "  inflating: train/labels/severV14_jpg.rf.8faaae0cead48e8fcb825efcdb8193cd.txt  \n",
            "  inflating: train/labels/severV14_jpg.rf.ac0a10a5a829e31f7921971a2c1c389f.txt  \n",
            "  inflating: train/labels/severV14_jpg.rf.f57a06815905686ec7b9445856434325.txt  \n",
            "  inflating: train/labels/severV15_jpg.rf.0495ad4566cdf4044fb07267e648d639.txt  \n",
            "  inflating: train/labels/severV15_jpg.rf.368e5ce8a6a5422d6625773ef129026f.txt  \n",
            "  inflating: train/labels/severV15_jpg.rf.4b732aebd6645368ad171ee4ab0504ea.txt  \n",
            "  inflating: train/labels/severV15_jpg.rf.738992478c906aa2a143ca61f01faf39.txt  \n",
            "  inflating: train/labels/severV15_jpg.rf.7e172972f1996eb3754a0f70a7cf56a7.txt  \n",
            "  inflating: train/labels/severV16_jpg.rf.057db159557bd2db18ab52f1bd0584cb.txt  \n",
            "  inflating: train/labels/severV16_jpg.rf.cb3052427ba568693afaea569d495553.txt  \n",
            "  inflating: train/labels/severV17_jpg.rf.042df6a4164c826af42ca518a6dcaaff.txt  \n",
            "  inflating: train/labels/severV19_jpg.rf.2777cd376970f18776552d2710fcb00e.txt  \n",
            "  inflating: train/labels/severV19_jpg.rf.6004a0efb962c02a4ce5e614546eae6e.txt  \n",
            "  inflating: train/labels/severV19_jpg.rf.9b9c81f2da57d1227eaafb877ccb472a.txt  \n",
            "  inflating: train/labels/severV19_jpg.rf.ad43efabd0f2bf9b239e483e4fbfa856.txt  \n",
            "  inflating: train/labels/severe11_jpeg_jpg.rf.0abee7d08dece4fc2506c6616db90841.txt  \n",
            "  inflating: train/labels/severe11_jpeg_jpg.rf.378c2ee33f6d764dfafe53406ea0cbbb.txt  \n",
            "  inflating: train/labels/severe11_jpeg_jpg.rf.dbd92dfab66d396fda9f3ad8d72950c3.txt  \n",
            "  inflating: train/labels/severe12_jpeg_jpg.rf.5c5e4b17d17b6b1eff8942a526478b2f.txt  \n",
            "  inflating: train/labels/severe12_jpeg_jpg.rf.97e9541037d8a5658d43dd1542ec16aa.txt  \n",
            "  inflating: train/labels/severe12_jpeg_jpg.rf.cfa591da031db96c6b9ee76988b4bede.txt  \n",
            "  inflating: train/labels/severe12_jpeg_jpg.rf.db85bc05be6dcbb4bf21a7973384cccd.txt  \n",
            "  inflating: train/labels/severe12_jpeg_jpg.rf.f49c471b20f919dc5d83b4695fa7d0f5.txt  \n",
            "  inflating: train/labels/severe13_jpeg_jpg.rf.40ed16558ee45d728f54082bc90bf226.txt  \n",
            "  inflating: train/labels/severe13_jpeg_jpg.rf.767589f68dea783b912c0fcb05dc140b.txt  \n",
            "  inflating: train/labels/severe13_jpeg_jpg.rf.7baacbcbef9ee8bc563dcd3e62ddad81.txt  \n",
            "  inflating: train/labels/severe13_jpeg_jpg.rf.7d5a4a7cdd2aaf46b4448c157b0d8dcb.txt  \n",
            "  inflating: train/labels/severe13_jpeg_jpg.rf.d9e6eca1b5c1a1cf7e02befc323df31d.txt  \n",
            "  inflating: train/labels/severe14_jpeg_jpg.rf.10803408079e71db13769e487df866ae.txt  \n",
            "  inflating: train/labels/severe14_jpeg_jpg.rf.22bf963d8dd94d28708636a7f42698ce.txt  \n",
            "  inflating: train/labels/severe14_jpeg_jpg.rf.8ee9cc5fd622ddbffa3f7cc79d6fde34.txt  \n",
            "  inflating: train/labels/severe14_jpeg_jpg.rf.e321d580795695c2d8412e4954aff158.txt  \n",
            "  inflating: train/labels/severe14_jpeg_jpg.rf.efaede45acb8447f67e79ad276c9183b.txt  \n",
            "  inflating: train/labels/severe15_jpeg_jpg.rf.e148cd8da7f84918404c6ff9b4eb63d9.txt  \n",
            "  inflating: train/labels/severe15_jpeg_jpg.rf.eaa09d2c6e8139f9584ceb4ea0a655be.txt  \n",
            "  inflating: train/labels/severe16_jpeg_jpg.rf.62758907836ee5a0a750680b05ceb8ec.txt  \n",
            "  inflating: train/labels/severe16_jpeg_jpg.rf.c840169ece4de13e39eaef0a4efcbfc5.txt  \n",
            "  inflating: train/labels/severe17_jpeg_jpg.rf.44760f5f36e83c498a01a072339acff5.txt  \n",
            "  inflating: train/labels/severe17_jpeg_jpg.rf.7be4f5832935cb9ee8e828ea9ab9bd15.txt  \n",
            "  inflating: train/labels/severe17_jpeg_jpg.rf.b719843e12411a6f5ed4fee9900a9aff.txt  \n",
            "  inflating: train/labels/severe17_jpeg_jpg.rf.df0580571ef7f4e3aa57ce97497392fc.txt  \n",
            "  inflating: train/labels/severityV2_10_jpg.rf.28b8d4e2a89d9c7982c448acb63aaed5.txt  \n",
            "  inflating: train/labels/severityV2_10_jpg.rf.3c07a7037b51dd9b0a79e3e5521ac576.txt  \n",
            "  inflating: train/labels/severityV2_10_jpg.rf.4863d40d2a1df83bccbb0a3b0d207877.txt  \n",
            "  inflating: train/labels/severityV2_10_jpg.rf.67d282e1eb90e1c7a393999793d9ac5f.txt  \n",
            "  inflating: train/labels/severityV2_10_jpg.rf.9a68e3858a06ba3f5327085113839dbc.txt  \n",
            "  inflating: train/labels/severityV2_10_jpg.rf.ce029931df4729807abc333b30612405.txt  \n",
            "  inflating: train/labels/severityV2_11_jpg.rf.1709f87f54ccef22291c1e91d7e7cd2e.txt  \n",
            "  inflating: train/labels/severityV2_11_jpg.rf.7059e55e722ce6a93384e1366659857f.txt  \n",
            "  inflating: train/labels/severityV2_11_jpg.rf.8b8600f9a66225702b14982410361992.txt  \n",
            "  inflating: train/labels/severityV2_11_jpg.rf.bb62079130770a4cc15415185f7d4d66.txt  \n",
            "  inflating: train/labels/severityV2_12_jpg.rf.5339ba7024c6110ec5afb23cbab1fa93.txt  \n",
            "  inflating: train/labels/severityV2_12_jpg.rf.96461202f2e66cb471e7a9fe1a5d6eba.txt  \n",
            "  inflating: train/labels/severityV2_12_jpg.rf.9d284a468bd531402c50a489edd55aeb.txt  \n",
            "  inflating: train/labels/severityV2_12_jpg.rf.c71382da063418ae44c49c62ce714656.txt  \n",
            "  inflating: train/labels/severityV2_12_jpg.rf.dd31e22ae4853b2cd12f37f3993b7f1b.txt  \n",
            "  inflating: train/labels/severityV2_13_jpg.rf.2660b070c1e4b030666c2b9785a40f77.txt  \n",
            "  inflating: train/labels/severityV2_13_jpg.rf.3119a2ef61bbac1f50cafce274ccc23d.txt  \n",
            "  inflating: train/labels/severityV2_13_jpg.rf.4cee5b23ad8a3eb3c202a4d4457e0dd8.txt  \n",
            "  inflating: train/labels/severityV2_13_jpg.rf.7723acdf60157897649dfb784a1f9654.txt  \n",
            "  inflating: train/labels/severityV2_13_jpg.rf.a1210bb764043f4d4a19ef11f25f97cc.txt  \n",
            "  inflating: train/labels/severityV2_13_jpg.rf.e7d4c6e7789d3b34d28e0d3df28f4ee4.txt  \n",
            "  inflating: train/labels/severityV2_14_jpg.rf.12f884309cabb5a2b5d2044df3654367.txt  \n",
            "  inflating: train/labels/severityV2_14_jpg.rf.1b9985b5db85f97d95007bd7cdeeef57.txt  \n",
            "  inflating: train/labels/severityV2_14_jpg.rf.49d2417dd24cfd377e9cc00543138b2c.txt  \n",
            "  inflating: train/labels/severityV2_14_jpg.rf.90bb25864fbef6c5c2f657d2138c7525.txt  \n",
            "  inflating: train/labels/severityV2_14_jpg.rf.a361549b3ae45bd9369e2d50c274aed1.txt  \n",
            "  inflating: train/labels/severityV2_14_jpg.rf.d31fccf104a10c226e0aa71f94d4eb09.txt  \n",
            "  inflating: train/labels/severityV2_15_jpg.rf.0795b410104e8285dbfcc60e1ad5c338.txt  \n",
            "  inflating: train/labels/severityV2_15_jpg.rf.85d96c70d44308f0e517660ccd9b0103.txt  \n",
            "  inflating: train/labels/severityV2_15_jpg.rf.9ff09dfecbb134685dec8f2515a9b15b.txt  \n",
            "  inflating: train/labels/severityV2_15_jpg.rf.bb507e41b1cfa342e7b49eb02bdf5a6e.txt  \n",
            "  inflating: train/labels/severityV2_15_jpg.rf.c4d3a209c25efa144603bfc5b059490e.txt  \n",
            "  inflating: train/labels/severityV2_15_jpg.rf.ce7d77d18601851f8e6bfbeeab772e62.txt  \n",
            "  inflating: train/labels/severityV2_16_jpg.rf.2b758238b92db77859a203b7718b2b96.txt  \n",
            "  inflating: train/labels/severityV2_16_jpg.rf.4297cd1262fbf0c6ac8a3d87c328bcda.txt  \n",
            "  inflating: train/labels/severityV2_16_jpg.rf.a8e514370ce844c2c283d8bc29703686.txt  \n",
            "  inflating: train/labels/severityV2_16_jpg.rf.e8b91b3f033351df66480906bdba680a.txt  \n",
            "  inflating: train/labels/severityV2_17_jpg.rf.18ea753abefda44a22b41b1668301846.txt  \n",
            "  inflating: train/labels/severityV2_17_jpg.rf.1be37cda25e805cb8e7325b594164af3.txt  \n",
            "  inflating: train/labels/severityV2_17_jpg.rf.58aee18942e4d09d7ea608355a56ee5c.txt  \n",
            "  inflating: train/labels/severityV2_17_jpg.rf.627248f05956d5964aa2177dc4952bec.txt  \n",
            "  inflating: train/labels/severityV2_17_jpg.rf.aebed92229dc913aaed111b961bf718c.txt  \n",
            "  inflating: train/labels/severityV2_17_jpg.rf.b4b055db6239b358dab1d547a1a21606.txt  \n",
            "  inflating: train/labels/severityV2_18_jpg.rf.0c775f7ed143476dabafdaee96abb7c5.txt  \n",
            "  inflating: train/labels/severityV2_18_jpg.rf.7bdd06b8a03f93b43188b65d998457a8.txt  \n",
            "  inflating: train/labels/severityV2_18_jpg.rf.d470affe1a0763c664a5f89de884cea8.txt  \n",
            "  inflating: train/labels/severityV2_18_jpg.rf.f9c9cc301f150221d831223b281e9c0f.txt  \n",
            "  inflating: train/labels/severityV2_19_jpg.rf.5dbe79953b71040607efa21495b1bb4c.txt  \n",
            "  inflating: train/labels/severityV2_1_jpg.rf.51bc15337b27bc506c226124118f72be.txt  \n",
            "  inflating: train/labels/severityV2_1_jpg.rf.6869817cbf5f26f36d29706d1897aeed.txt  \n",
            "  inflating: train/labels/severityV2_1_jpg.rf.9d36628da26dc034c3dac337c0e9b22c.txt  \n",
            "  inflating: train/labels/severityV2_1_jpg.rf.eb76477b9f70182ee4891cbbfdcb9b8e.txt  \n",
            "  inflating: train/labels/severityV2_20_jpg.rf.0fd3d27440ddaa9b0e4de9513700ac89.txt  \n",
            "  inflating: train/labels/severityV2_20_jpg.rf.519c4f647c9bbb734e8864bd3060aebc.txt  \n",
            "  inflating: train/labels/severityV2_20_jpg.rf.6beb632f2a2c738b586bbed49455cb77.txt  \n",
            "  inflating: train/labels/severityV2_20_jpg.rf.be7be8e44587a02c06634a7fb79ef060.txt  \n",
            "  inflating: train/labels/severityV2_20_jpg.rf.c760e8b6475905b832df82eb7552dd6a.txt  \n",
            "  inflating: train/labels/severityV2_20_jpg.rf.e2ce59b19ec0cb231147c0d257e8dbd1.txt  \n",
            "  inflating: train/labels/severityV2_21_jpg.rf.34b4aaa9ab6e4d78ef0d750cb737115e.txt  \n",
            "  inflating: train/labels/severityV2_21_jpg.rf.4ee9524babb1efb47ddbd77794e926ca.txt  \n",
            "  inflating: train/labels/severityV2_21_jpg.rf.b1f55b24c2084c3fd6a16481f4d9afff.txt  \n",
            "  inflating: train/labels/severityV2_21_jpg.rf.c09c07cb000a2b3386e70c5b17418862.txt  \n",
            "  inflating: train/labels/severityV2_21_jpg.rf.e12b2f0047ddf3f58d5bdc40cae44dd7.txt  \n",
            "  inflating: train/labels/severityV2_21_jpg.rf.ebb7b99aee436f1c71aca819060ea824.txt  \n",
            "  inflating: train/labels/severityV2_22_jpg.rf.3add2333c70303efe8325eb365406642.txt  \n",
            "  inflating: train/labels/severityV2_22_jpg.rf.3d08afa0fcb3184fda6795d72b807d9d.txt  \n",
            "  inflating: train/labels/severityV2_22_jpg.rf.4ca4da5b7723adfdad7a085b03f02ba4.txt  \n",
            "  inflating: train/labels/severityV2_22_jpg.rf.cacec4523896bec7410059a55aaac72a.txt  \n",
            "  inflating: train/labels/severityV2_22_jpg.rf.df23efe2beb1bee84a73aa173fc82ae7.txt  \n",
            "  inflating: train/labels/severityV2_22_jpg.rf.ef3128eff7d5ea48a30262e83866f07c.txt  \n",
            "  inflating: train/labels/severityV2_23_jpg.rf.1c9975da765ae53bdab4452ea7e31e6a.txt  \n",
            "  inflating: train/labels/severityV2_23_jpg.rf.28940811971da5a194423dc5459317da.txt  \n",
            "  inflating: train/labels/severityV2_23_jpg.rf.440897b2713327f72221ff7b0cb5a61a.txt  \n",
            "  inflating: train/labels/severityV2_23_jpg.rf.94b9db1682b340c39140f77888d039b5.txt  \n",
            "  inflating: train/labels/severityV2_23_jpg.rf.959d302e54b9eeb4e16d4333a2cc489f.txt  \n",
            "  inflating: train/labels/severityV2_23_jpg.rf.b37b37f7b728ba456954c550bf5b7d0b.txt  \n",
            "  inflating: train/labels/severityV2_24_jpg.rf.305bcda86279156559abc35d007e763b.txt  \n",
            "  inflating: train/labels/severityV2_24_jpg.rf.3405da890c4a3c4b005fbf625c695a57.txt  \n",
            "  inflating: train/labels/severityV2_24_jpg.rf.3eecf4288ae24cf8b22cf6b3e5f18f96.txt  \n",
            "  inflating: train/labels/severityV2_24_jpg.rf.9b845f0590edda21ae450cd33ebf8526.txt  \n",
            "  inflating: train/labels/severityV2_24_jpg.rf.acf01ab90f443cd238c78072e3b79d20.txt  \n",
            "  inflating: train/labels/severityV2_24_jpg.rf.c0056defe1a905f607cc5dca8677a205.txt  \n",
            "  inflating: train/labels/severityV2_25_jpg.rf.eb5943b6bbabbc459f9a9f4a515aafb9.txt  \n",
            "  inflating: train/labels/severityV2_26_jpg.rf.63226bf2c1be27e1de353b6b87738a1c.txt  \n",
            "  inflating: train/labels/severityV2_27_jpg.rf.06c5ced988f7d03b6b13f17056e375d0.txt  \n",
            "  inflating: train/labels/severityV2_27_jpg.rf.190499a424221003bf0943fc93502c13.txt  \n",
            "  inflating: train/labels/severityV2_28_jpg.rf.907ee257ce110c37ff9416aa723ac822.txt  \n",
            "  inflating: train/labels/severityV2_28_jpg.rf.a9a03094d747ced052e70f9bad06a83d.txt  \n",
            "  inflating: train/labels/severityV2_29_jpg.rf.1d4361347ccd170570a3dc517a1aed43.txt  \n",
            "  inflating: train/labels/severityV2_29_jpg.rf.34f7374285a9b7fb3a3205b485ed0c2c.txt  \n",
            "  inflating: train/labels/severityV2_29_jpg.rf.63da33e26d89d96ec099c4d8653c4819.txt  \n",
            "  inflating: train/labels/severityV2_2_jpg.rf.78a3c9f71d0dafc46cc84a7e06509917.txt  \n",
            "  inflating: train/labels/severityV2_2_jpg.rf.80fcb31044b0dd9f36aaa3de733ee679.txt  \n",
            "  inflating: train/labels/severityV2_30_jpg.rf.0ea1c43804173997f0f8dcb28f798e02.txt  \n",
            "  inflating: train/labels/severityV2_30_jpg.rf.290a573d1ebd08a3c4aba9875b9a7419.txt  \n",
            "  inflating: train/labels/severityV2_30_jpg.rf.a59f5bd7be1abad4358fe5582721d7c4.txt  \n",
            "  inflating: train/labels/severityV2_30_jpg.rf.c51192f4e6282c0c849f4a309604c760.txt  \n",
            "  inflating: train/labels/severityV2_30_jpg.rf.cb81b37d31d06e8ead8329fd17007547.txt  \n",
            "  inflating: train/labels/severityV2_30_jpg.rf.d3a2a8bb03050f2e3a1d3eb74c0230db.txt  \n",
            "  inflating: train/labels/severityV2_31_jpg.rf.19d3f4e4ea605158e9fe2e7164c292fa.txt  \n",
            "  inflating: train/labels/severityV2_31_jpg.rf.53ac4074cdabd53ea47227c84bcc734b.txt  \n",
            "  inflating: train/labels/severityV2_31_jpg.rf.6931dc0220cdc9f660c6209cc0c249cf.txt  \n",
            "  inflating: train/labels/severityV2_31_jpg.rf.e2f783b580873cf79b60380da8b7d591.txt  \n",
            "  inflating: train/labels/severityV2_31_jpg.rf.fe1e11293f4d4853f212304b7f41b68e.txt  \n",
            "  inflating: train/labels/severityV2_32_jpg.rf.0db56ed779cbd6d481eddc7ae3db7b16.txt  \n",
            "  inflating: train/labels/severityV2_32_jpg.rf.61b1263768fb1adc6fa219a191c6e43d.txt  \n",
            "  inflating: train/labels/severityV2_32_jpg.rf.9df27ea94bed7c35c98b8c3e73cd47a0.txt  \n",
            "  inflating: train/labels/severityV2_32_jpg.rf.d3664ac39ac201a6417a3bb1ed2435c3.txt  \n",
            "  inflating: train/labels/severityV2_32_jpg.rf.f4e660fd420f9295c52c3fb7ea81744f.txt  \n",
            "  inflating: train/labels/severityV2_34_jpg.rf.0656c65b35103a8ee21984355ae13c24.txt  \n",
            "  inflating: train/labels/severityV2_34_jpg.rf.39d88332afffcb92c4bfb279f221da07.txt  \n",
            "  inflating: train/labels/severityV2_34_jpg.rf.5933ac537ce91871e904dec9bb218515.txt  \n",
            "  inflating: train/labels/severityV2_34_jpg.rf.af8788ed112725b04218c9d4ac643cf6.txt  \n",
            "  inflating: train/labels/severityV2_34_jpg.rf.d4c546cc825a270c623184a21d98b649.txt  \n",
            "  inflating: train/labels/severityV2_34_jpg.rf.dc05d46d5aab57eeee4f5b2374671500.txt  \n",
            "  inflating: train/labels/severityV2_34_jpg.rf.f45a5831b67f732acb998e91f1c0184b.txt  \n",
            "  inflating: train/labels/severityV2_35_jpg.rf.0be2b9481c3bdcdaa9b8ffc525b03fa4.txt  \n",
            "  inflating: train/labels/severityV2_35_jpg.rf.32d01d1e8a1dbb3d68f31c262e8816f9.txt  \n",
            "  inflating: train/labels/severityV2_35_jpg.rf.7cbf0ab8a451e9ea033442764ec9af08.txt  \n",
            "  inflating: train/labels/severityV2_35_jpg.rf.a6546ff97db770afd4e3175eee50dc35.txt  \n",
            "  inflating: train/labels/severityV2_35_jpg.rf.b8b1e04aa9ecd116df760ad63d75e125.txt  \n",
            "  inflating: train/labels/severityV2_35_jpg.rf.c1bd018e56202f190c3a6c69fca0d5cf.txt  \n",
            "  inflating: train/labels/severityV2_36_jpg.rf.276fcba6bd1b6e97688a474de923b43c.txt  \n",
            "  inflating: train/labels/severityV2_36_jpg.rf.4c50405e3f6c2c48ab7d2f819e102de8.txt  \n",
            "  inflating: train/labels/severityV2_36_jpg.rf.922e1913b905e98d0c30616d0d344df8.txt  \n",
            "  inflating: train/labels/severityV2_36_jpg.rf.b77b79eb33fda26ec4c555b1db861e2c.txt  \n",
            "  inflating: train/labels/severityV2_36_jpg.rf.ec503f6769938b2cd226af39c443cf3e.txt  \n",
            " extracting: train/labels/severityV2_37_jpg.rf.00c51206370b19356cc57f5fa806d01c.txt  \n",
            " extracting: train/labels/severityV2_37_jpg.rf.034f6d12c0ba6f6ad04ea3e94134fd53.txt  \n",
            " extracting: train/labels/severityV2_37_jpg.rf.111f892398f087df8842f61d567557f3.txt  \n",
            " extracting: train/labels/severityV2_37_jpg.rf.2e854e724adc01eefbb85ccdf74ba776.txt  \n",
            " extracting: train/labels/severityV2_37_jpg.rf.7018b5382ec685ae9648c29548dcf53e.txt  \n",
            " extracting: train/labels/severityV2_37_jpg.rf.8accff6309ce841136c6cba670f15d2e.txt  \n",
            " extracting: train/labels/severityV2_37_jpg.rf.935f509ff11a3bad74bf111314f60b4c.txt  \n",
            " extracting: train/labels/severityV2_37_jpg.rf.f62d92f2f5e4c10aeb36ecfaa607e272.txt  \n",
            "  inflating: train/labels/severityV2_38_jpg.rf.2d7b3efe9747e2b040f69a62ed8b9a49.txt  \n",
            "  inflating: train/labels/severityV2_38_jpg.rf.3af22a8a023639d91eb5901d52e382bc.txt  \n",
            "  inflating: train/labels/severityV2_38_jpg.rf.74d0bc931e8b9b2028307fb8faf1cb2d.txt  \n",
            "  inflating: train/labels/severityV2_38_jpg.rf.8af1035b5bbd0731c79170ef4c9610eb.txt  \n",
            "  inflating: train/labels/severityV2_39_jpg.rf.4db4572f89b31c05e406bb6fcbc9ee5f.txt  \n",
            "  inflating: train/labels/severityV2_39_jpg.rf.99b0f37efaa5a9982790a2efafe4902d.txt  \n",
            "  inflating: train/labels/severityV2_39_jpg.rf.be07715f2ebb9972da06ff411f462dca.txt  \n",
            "  inflating: train/labels/severityV2_39_jpg.rf.c3a6addc8116381b4243c919eb0f4672.txt  \n",
            "  inflating: train/labels/severityV2_39_jpg.rf.f962cf98d143f973e1c5d84d80d2a677.txt  \n",
            "  inflating: train/labels/severityV2_3_jpg.rf.af08135a4210887314aab6c632d54396.txt  \n",
            "  inflating: train/labels/severityV2_4_jpg.rf.7958d8818d8fbe8428f29365686f9898.txt  \n",
            "  inflating: train/labels/severityV2_4_jpg.rf.903f410a13a5a846efb3360288468689.txt  \n",
            "  inflating: train/labels/severityV2_4_jpg.rf.a8a10bcce95e91b9fc99e0442a8c850e.txt  \n",
            "  inflating: train/labels/severityV2_4_jpg.rf.d63b66e21a8b1946feed917dddb16f84.txt  \n",
            "  inflating: train/labels/severityV2_4_jpg.rf.e90a6849672ac34f90b8a6bdbd88a53a.txt  \n",
            "  inflating: train/labels/severityV2_5_jpg.rf.04c89370f289972096ede165639f2c08.txt  \n",
            "  inflating: train/labels/severityV2_5_jpg.rf.23ae4c863c9f175e3d9d3aa332c20b92.txt  \n",
            "  inflating: train/labels/severityV2_5_jpg.rf.ab99b5fb6b3cfafe3aa5eb54121badb7.txt  \n",
            "  inflating: train/labels/severityV2_6_jpg.rf.2925bee7912d462ea3bcfe5cee232968.txt  \n",
            "  inflating: train/labels/severityV2_6_jpg.rf.4732e9e1b2c5c063adf3f30993921117.txt  \n",
            "  inflating: train/labels/severityV2_6_jpg.rf.854d2ae8034fadc5eab80d403e91899d.txt  \n",
            "  inflating: train/labels/severityV2_6_jpg.rf.9b536b25da7022a475d8e0404c214879.txt  \n",
            "  inflating: train/labels/severityV2_6_jpg.rf.a639cf71d3788d6deec12a86ed4a82cb.txt  \n",
            "  inflating: train/labels/severityV2_6_jpg.rf.bbba2d51eb3c31c11e070f4e32f77651.txt  \n",
            "  inflating: train/labels/severityV2_7_jpg.rf.1bccca88ba05f7c4fc5b78ad50924b9f.txt  \n",
            "  inflating: train/labels/severityV2_7_jpg.rf.6e4569b222def69c440e6214cee42414.txt  \n",
            "  inflating: train/labels/severityV2_7_jpg.rf.ad145d05b4391a86afe00193f3ce0d64.txt  \n",
            "  inflating: train/labels/severityV2_7_jpg.rf.cbd440a38017d2ac48366893161f88d1.txt  \n",
            "  inflating: train/labels/severityV2_7_jpg.rf.cda11f6c40b9bb2cbfdba1a358b6339b.txt  \n",
            "  inflating: train/labels/severityV2_7_jpg.rf.e1a0aa1ce5868886a0f64266620a256e.txt  \n",
            "  inflating: train/labels/severityV2_7_jpg.rf.e87b68309d03e7adc8059fd53d976b64.txt  \n",
            "  inflating: train/labels/severityV2_8_jpg.rf.158e77577302c49457aa376e4483e27b.txt  \n",
            "  inflating: train/labels/severityV2_8_jpg.rf.7e74bbdbf731ef5e8adb7276a6529637.txt  \n",
            "  inflating: train/labels/severityV2_8_jpg.rf.8b3ab7f0a2feb263ded9907aa7925b21.txt  \n",
            "  inflating: train/labels/severityV2_8_jpg.rf.98c5f88abf8c5b29d3e31e399aee2bf9.txt  \n",
            "  inflating: train/labels/severityV2_9_jpg.rf.2d3c6b75da2e9c179e22421e2712b30e.txt  \n",
            "  inflating: train/labels/severityV3_10_jpeg_jpg.rf.0badca1fe6c5e8bf3f124dc22141fdf3.txt  \n",
            "  inflating: train/labels/severityV3_10_jpeg_jpg.rf.2c87316249303fe49f617f2f57098c02.txt  \n",
            "  inflating: train/labels/severityV3_10_jpeg_jpg.rf.513c0ccf0bf6b62a70e885a593908088.txt  \n",
            "  inflating: train/labels/severityV3_10_jpeg_jpg.rf.6bcc11b4ac9fbc55a476d556e011d8a1.txt  \n",
            "  inflating: train/labels/severityV3_10_jpeg_jpg.rf.c20c01ff96c922e5db17bafa8ad58e31.txt  \n",
            "  inflating: train/labels/severityV3_11_jpeg_jpg.rf.0ecd119270cfe54fbc60bdfe89864afd.txt  \n",
            "  inflating: train/labels/severityV3_11_jpeg_jpg.rf.262e3a109fb47057f599be8d608cc028.txt  \n",
            "  inflating: train/labels/severityV3_11_jpeg_jpg.rf.8f505eb37a7fdf27250f317734f2ae3f.txt  \n",
            "  inflating: train/labels/severityV3_11_jpeg_jpg.rf.970d383468a449c287be24ac54a214af.txt  \n",
            "  inflating: train/labels/severityV3_11_jpeg_jpg.rf.caa66da7cf2419d21c8acdf635d3f4fe.txt  \n",
            "  inflating: train/labels/severityV3_11_jpeg_jpg.rf.d94ccc4eaea06dd2caa84b985710529e.txt  \n",
            "  inflating: train/labels/severityV3_12_jpeg_jpg.rf.7eed5fa67e28a7959d0f36c0a77020b4.txt  \n",
            "  inflating: train/labels/severityV3_12_jpeg_jpg.rf.9ca0b53fbc6c4824e44f97b4791d37e6.txt  \n",
            "  inflating: train/labels/severityV3_12_jpeg_jpg.rf.a2c82dc98101ec02246536beb10a77d8.txt  \n",
            "  inflating: train/labels/severityV3_12_jpeg_jpg.rf.b1ef56b76525d1f66812a3e913372687.txt  \n",
            "  inflating: train/labels/severityV3_12_jpeg_jpg.rf.ca30f0ae44f4843e7cf29b79526f20c2.txt  \n",
            "  inflating: train/labels/severityV3_12_jpeg_jpg.rf.cc5853da9cb3ec7c455ef8be7f309b33.txt  \n",
            "  inflating: train/labels/severityV3_12_jpeg_jpg.rf.e3192cfd7e1ced468f7794e1595b1047.txt  \n",
            "  inflating: train/labels/severityV3_13_jpeg_jpg.rf.44cae873ddd2eaf9eb1b4b6cc563e5cd.txt  \n",
            "  inflating: train/labels/severityV3_13_jpeg_jpg.rf.5ec960ca8410adc5b0c2b8d3f1c1f529.txt  \n",
            "  inflating: train/labels/severityV3_13_jpeg_jpg.rf.7998da0583bdf68c68b712820f5a22d8.txt  \n",
            "  inflating: train/labels/severityV3_13_jpeg_jpg.rf.7a2adb475b649ae7b37b33ce9d230074.txt  \n",
            "  inflating: train/labels/severityV3_13_jpeg_jpg.rf.8a4210a98f2254aa2a85ab946bc1aa6a.txt  \n",
            "  inflating: train/labels/severityV3_13_jpeg_jpg.rf.e2f19a6cf288c977b7e7f43d0bfd4491.txt  \n",
            "  inflating: train/labels/severityV3_13_jpeg_jpg.rf.f5bfec7540d4a18d5752471eabe66447.txt  \n",
            "  inflating: train/labels/severityV3_14_jpeg_jpg.rf.9ecf7763e701fe93897a6aa9104fa049.txt  \n",
            "  inflating: train/labels/severityV3_14_jpeg_jpg.rf.e5f57b1c894eb8663ae07249a5a58879.txt  \n",
            "  inflating: train/labels/severityV3_15_jpeg_jpg.rf.44e90eaad18331b7d36c330a6f220329.txt  \n",
            "  inflating: train/labels/severityV3_15_jpeg_jpg.rf.608621247cac175e2fe4b5ace387ba95.txt  \n",
            "  inflating: train/labels/severityV3_15_jpeg_jpg.rf.8ed22a48c98458ad49d897b1eb534f3a.txt  \n",
            "  inflating: train/labels/severityV3_15_jpeg_jpg.rf.9843d4c3f424eca5900cc04885f1385c.txt  \n",
            "  inflating: train/labels/severityV3_15_jpeg_jpg.rf.fc4c9abcd539a944474ecb1e5c7243a6.txt  \n",
            "  inflating: train/labels/severityV3_16_jpeg_jpg.rf.1516c2560bd7cee167e862cfb2a9f7ea.txt  \n",
            "  inflating: train/labels/severityV3_16_jpeg_jpg.rf.39f3fe73b48b0770a6d21b0baeb6fade.txt  \n",
            "  inflating: train/labels/severityV3_16_jpeg_jpg.rf.650f6ea7c45a96f93fe239982bfb68ba.txt  \n",
            "  inflating: train/labels/severityV3_16_jpeg_jpg.rf.8b3f1cec196fa1c1242cda68e7c6bb91.txt  \n",
            " extracting: train/labels/severityV3_17_jpeg_jpg.rf.1e282029acfa1bcfc18f55f6751740d3.txt  \n",
            " extracting: train/labels/severityV3_17_jpeg_jpg.rf.3d73fc8bb5386cc9a7057a64af1bee66.txt  \n",
            " extracting: train/labels/severityV3_17_jpeg_jpg.rf.5434074f0c8ff3052261a862c0979171.txt  \n",
            " extracting: train/labels/severityV3_17_jpeg_jpg.rf.5545041eb75c1dc97c4bc133ad5dfcd1.txt  \n",
            " extracting: train/labels/severityV3_17_jpeg_jpg.rf.66ab61d668ba4e9ff15982bff36916a5.txt  \n",
            " extracting: train/labels/severityV3_17_jpeg_jpg.rf.b1337d9170487642644f280e3d1f18fc.txt  \n",
            " extracting: train/labels/severityV3_17_jpeg_jpg.rf.bf153bbd1e1bc63054da099216ec3336.txt  \n",
            " extracting: train/labels/severityV3_17_jpeg_jpg.rf.e796c04820fb7282e51f636076de6e0a.txt  \n",
            "  inflating: train/labels/severityV3_18_jpeg_jpg.rf.0494ecdb05fded599f04b04cb94e6822.txt  \n",
            "  inflating: train/labels/severityV3_18_jpeg_jpg.rf.064240471025b193fbaed1f43498e308.txt  \n",
            "  inflating: train/labels/severityV3_18_jpeg_jpg.rf.10d40068999883e23fc89ddcf19d4534.txt  \n",
            "  inflating: train/labels/severityV3_18_jpeg_jpg.rf.b0d5321ccc48ee98885e6e066b8accb7.txt  \n",
            "  inflating: train/labels/severityV3_18_jpeg_jpg.rf.e49291d0ffe3cfd7cb47410e25f363d1.txt  \n",
            "  inflating: train/labels/severityV3_18_jpeg_jpg.rf.f1fff33f2000cae6ce67c32bae593fd1.txt  \n",
            "  inflating: train/labels/severityV3_18_jpeg_jpg.rf.f5f6a07c77340ce3028a75d4bb11c6b6.txt  \n",
            "  inflating: train/labels/severityV3_19_jpeg_jpg.rf.5f9d7ff5fb689fbc03ae078ee918386b.txt  \n",
            "  inflating: train/labels/severityV3_19_jpeg_jpg.rf.86c8a4ed5a122c03ac4b59721c9e6846.txt  \n",
            "  inflating: train/labels/severityV3_19_jpeg_jpg.rf.905fe9fc3f6010b6ae5dd8753ca8e5c8.txt  \n",
            "  inflating: train/labels/severityV3_19_jpeg_jpg.rf.b3cba7c7f764bfbce4ea08ec7ab46f9f.txt  \n",
            "  inflating: train/labels/severityV3_19_jpeg_jpg.rf.ce80b19c403657a40cd1d3b564cf99b0.txt  \n",
            "  inflating: train/labels/severityV3_1_jpeg_jpg.rf.30ea1ad2089a490aa3f559abb44416c9.txt  \n",
            "  inflating: train/labels/severityV3_1_jpeg_jpg.rf.39f2e5d44f60c4a895182be0d80f448f.txt  \n",
            "  inflating: train/labels/severityV3_1_jpeg_jpg.rf.6ea805e4ee3ff15a7ab21da1c8050b2d.txt  \n",
            "  inflating: train/labels/severityV3_1_jpeg_jpg.rf.a10e0d425af9ca88e983272293911a1b.txt  \n",
            "  inflating: train/labels/severityV3_1_jpeg_jpg.rf.a5848bf680fce95598d2a5767d37e27e.txt  \n",
            "  inflating: train/labels/severityV3_1_jpeg_jpg.rf.c38cb056681d77cf99ecf9658eb26724.txt  \n",
            "  inflating: train/labels/severityV3_20_jpeg_jpg.rf.121aaa66e891df8ac11c9c320a48d5f2.txt  \n",
            "  inflating: train/labels/severityV3_20_jpeg_jpg.rf.63d9fb8340a4f72169fd7185b84edc45.txt  \n",
            "  inflating: train/labels/severityV3_20_jpeg_jpg.rf.6b54fb13d0e9b5949dad51b9ebb5314d.txt  \n",
            "  inflating: train/labels/severityV3_20_jpeg_jpg.rf.ba6d748991ff9ff84470f456cf4c176b.txt  \n",
            "  inflating: train/labels/severityV3_20_jpeg_jpg.rf.c5bc10e5c0629230303b5ac5a0c39154.txt  \n",
            "  inflating: train/labels/severityV3_21_jpeg_jpg.rf.16ae988a81910cf6573aadcd41a7f5f7.txt  \n",
            "  inflating: train/labels/severityV3_21_jpeg_jpg.rf.47a5107f6a1212415daa06d7d47de7cf.txt  \n",
            "  inflating: train/labels/severityV3_21_jpeg_jpg.rf.8267c17d33712cf4beee6e1da7b2b23f.txt  \n",
            "  inflating: train/labels/severityV3_21_jpeg_jpg.rf.a0da156504267b4126ec9ce0100ed08b.txt  \n",
            "  inflating: train/labels/severityV3_21_jpeg_jpg.rf.de10c4d44ece824f14b5a501d395429f.txt  \n",
            "  inflating: train/labels/severityV3_22_jpeg_jpg.rf.3ab00e104839fcdc34891572886a0c6a.txt  \n",
            " extracting: train/labels/severityV3_23_jpeg_jpg.rf.1ac8ff9d086e5d66aa6de358e6972428.txt  \n",
            " extracting: train/labels/severityV3_23_jpeg_jpg.rf.3c53746f69f111e12f29e78d37a076ec.txt  \n",
            " extracting: train/labels/severityV3_23_jpeg_jpg.rf.4e5a68d4cd6ec4f13772c524d7bdf386.txt  \n",
            " extracting: train/labels/severityV3_23_jpeg_jpg.rf.62ccb4971787c28121c7288936b00a93.txt  \n",
            "  inflating: train/labels/severityV3_24_jpeg_jpg.rf.1042638f06fddb80fc5e26a309078652.txt  \n",
            "  inflating: train/labels/severityV3_24_jpeg_jpg.rf.4d3f5e51bd79c19d6fb1ea0855dfa408.txt  \n",
            "  inflating: train/labels/severityV3_24_jpeg_jpg.rf.764461ca2875c081212c5b55246da644.txt  \n",
            "  inflating: train/labels/severityV3_24_jpeg_jpg.rf.ac1bf2726a7b0d3c390cc2792de71059.txt  \n",
            "  inflating: train/labels/severityV3_25_jpeg_jpg.rf.16b14171288b534deee2adfaa95f2997.txt  \n",
            "  inflating: train/labels/severityV3_25_jpeg_jpg.rf.35dbf5dcb53c96f1b2cdadc8c81a15f5.txt  \n",
            "  inflating: train/labels/severityV3_25_jpeg_jpg.rf.48ea9904c45a0334d6036acbd54f3b3c.txt  \n",
            "  inflating: train/labels/severityV3_25_jpeg_jpg.rf.a2906bb3a731c6ab81b2e3047c58b4e6.txt  \n",
            "  inflating: train/labels/severityV3_26_jpeg_jpg.rf.21bc0148c0930509dec837496918bff9.txt  \n",
            "  inflating: train/labels/severityV3_26_jpeg_jpg.rf.5a382672c51fffac8d2ca0e1d8c17885.txt  \n",
            "  inflating: train/labels/severityV3_26_jpeg_jpg.rf.5e31f5544e8e8d067ac601adb2bdc9de.txt  \n",
            "  inflating: train/labels/severityV3_26_jpeg_jpg.rf.738976800528e2bd70355564212a1878.txt  \n",
            "  inflating: train/labels/severityV3_26_jpeg_jpg.rf.7682f2607887c937e687b35d1b7454e5.txt  \n",
            "  inflating: train/labels/severityV3_26_jpeg_jpg.rf.ed6da8712f2d2f6558772726ea44cc57.txt  \n",
            "  inflating: train/labels/severityV3_27_jpeg_jpg.rf.5d534eed729b06e328582ec7f8024bb8.txt  \n",
            "  inflating: train/labels/severityV3_27_jpeg_jpg.rf.6a5d360a01c016b38ccd19f7e5e2bb18.txt  \n",
            "  inflating: train/labels/severityV3_27_jpeg_jpg.rf.b77a35e53faf7193391e0618fa5e7cb7.txt  \n",
            "  inflating: train/labels/severityV3_27_jpeg_jpg.rf.b7828cec93e5ba8779708d5eef3c6385.txt  \n",
            "  inflating: train/labels/severityV3_27_jpeg_jpg.rf.b9b426fcd76140212321e2a22474c9b7.txt  \n",
            "  inflating: train/labels/severityV3_27_jpeg_jpg.rf.ea354cd990174ad8f897c87463db97fc.txt  \n",
            " extracting: train/labels/severityV3_29_jpeg_jpg.rf.042cd75d36e0e56fe44b87ccfdc703d9.txt  \n",
            " extracting: train/labels/severityV3_29_jpeg_jpg.rf.526bc8b1ad5a5a7566e8de0243d5a332.txt  \n",
            " extracting: train/labels/severityV3_29_jpeg_jpg.rf.704fd5a2ee4372f68bafb24524c31ccd.txt  \n",
            " extracting: train/labels/severityV3_29_jpeg_jpg.rf.a83a34403688be2a8acb2b2e8eaeb92e.txt  \n",
            " extracting: train/labels/severityV3_29_jpeg_jpg.rf.c2768d9bf93dd7a071c2ffec2d80f1d7.txt  \n",
            " extracting: train/labels/severityV3_29_jpeg_jpg.rf.cade1325791a8c3b8e56b99b456f0f44.txt  \n",
            " extracting: train/labels/severityV3_29_jpeg_jpg.rf.f4778c52da24000602a8200355d3748c.txt  \n",
            "  inflating: train/labels/severityV3_2_jpeg_jpg.rf.37cc61c29c0a8a868b0dffa46704bd52.txt  \n",
            "  inflating: train/labels/severityV3_2_jpeg_jpg.rf.7b9ef25c70230cd735df6977d6a5d261.txt  \n",
            "  inflating: train/labels/severityV3_2_jpeg_jpg.rf.a23c338f274c474ce671f44ec16e4c4e.txt  \n",
            "  inflating: train/labels/severityV3_2_jpeg_jpg.rf.d26818cf028d084c1e167124b005ea18.txt  \n",
            "  inflating: train/labels/severityV3_2_jpeg_jpg.rf.df825e445f0774e9fa6f65f9d7252c92.txt  \n",
            "  inflating: train/labels/severityV3_2_jpeg_jpg.rf.eb7d8c6d197712669f08035e655daaf4.txt  \n",
            "  inflating: train/labels/severityV3_30_jpeg_jpg.rf.2970e1890c7dc320c8c5585071a8e68c.txt  \n",
            "  inflating: train/labels/severityV3_30_jpeg_jpg.rf.328937e798505b25ec2bddde57c678aa.txt  \n",
            "  inflating: train/labels/severityV3_30_jpeg_jpg.rf.842770d4fc8395b47a988fa5fa23c422.txt  \n",
            "  inflating: train/labels/severityV3_30_jpeg_jpg.rf.91bf8c3abee69c895b23d27025782018.txt  \n",
            "  inflating: train/labels/severityV3_31_jpeg_jpg.rf.1fb8e1aa1b0330956a14debd93f4d13a.txt  \n",
            "  inflating: train/labels/severityV3_31_jpeg_jpg.rf.4fcdb00aa0271e22d681814538114d96.txt  \n",
            "  inflating: train/labels/severityV3_31_jpeg_jpg.rf.853af504b678da13d08d845a9551670d.txt  \n",
            "  inflating: train/labels/severityV3_31_jpeg_jpg.rf.9dd28d45733f62cf1b0e9d0af599cf6a.txt  \n",
            " extracting: train/labels/severityV3_32_jpeg_jpg.rf.037dd15a878d84304ae6f26da284efd1.txt  \n",
            " extracting: train/labels/severityV3_32_jpeg_jpg.rf.695c5b8fcea084bdbebad864a44e2a99.txt  \n",
            " extracting: train/labels/severityV3_32_jpeg_jpg.rf.83aae001368f39c24b45569b11d36a41.txt  \n",
            " extracting: train/labels/severityV3_32_jpeg_jpg.rf.e8f36dbedcfc60a5d98dbac777e941c6.txt  \n",
            "  inflating: train/labels/severityV3_33_jpeg_jpg.rf.631fc9564363c67c324bad93d7e4be83.txt  \n",
            "  inflating: train/labels/severityV3_33_jpeg_jpg.rf.c8b95a82afa7ac8baee7ee4ec5e1a576.txt  \n",
            "  inflating: train/labels/severityV3_33_jpeg_jpg.rf.eec045dd3c22c2671bd16b2286f414f3.txt  \n",
            "  inflating: train/labels/severityV3_33_jpeg_jpg.rf.f0a89cc1025bfd67d39f4f1a6238e428.txt  \n",
            "  inflating: train/labels/severityV3_34_jpeg_jpg.rf.6a4d2581dca7449b6a119cebf93bf548.txt  \n",
            "  inflating: train/labels/severityV3_34_jpeg_jpg.rf.7c832e3566ca9b5520d40f3bd1e604e6.txt  \n",
            "  inflating: train/labels/severityV3_34_jpeg_jpg.rf.8602f46455b8e4ed4f4108a6c753d85f.txt  \n",
            "  inflating: train/labels/severityV3_34_jpeg_jpg.rf.8a92b2b6e26eaf286185062f43ada57d.txt  \n",
            "  inflating: train/labels/severityV3_34_jpeg_jpg.rf.f2296a6d4503eb452ae61c35cf7931af.txt  \n",
            "  inflating: train/labels/severityV3_35_jpeg_jpg.rf.2b094ab8fced44d9f4f711092e0d41f8.txt  \n",
            "  inflating: train/labels/severityV3_35_jpeg_jpg.rf.2d046e53f69c487ff842f2a8d1e08a53.txt  \n",
            "  inflating: train/labels/severityV3_35_jpeg_jpg.rf.52080093414b782053001a6343197009.txt  \n",
            "  inflating: train/labels/severityV3_35_jpeg_jpg.rf.6ebfbf2bf05d48f80330687da8479474.txt  \n",
            "  inflating: train/labels/severityV3_35_jpeg_jpg.rf.9d991ccda263e57d67181d16ec02aeca.txt  \n",
            "  inflating: train/labels/severityV3_35_jpeg_jpg.rf.c4a5aac9cf95bd277771f71d40ea71e8.txt  \n",
            "  inflating: train/labels/severityV3_35_jpeg_jpg.rf.cb6307bed518491f7210779010f16c14.txt  \n",
            "  inflating: train/labels/severityV3_36_jpeg_jpg.rf.0edcd01fd4a05add211932552eb1a24a.txt  \n",
            "  inflating: train/labels/severityV3_36_jpeg_jpg.rf.12b44989385a8e857b2998dadf35b6b2.txt  \n",
            "  inflating: train/labels/severityV3_36_jpeg_jpg.rf.163298917dbeb4eec3a7a03009f9435e.txt  \n",
            "  inflating: train/labels/severityV3_36_jpeg_jpg.rf.23bd3a9842f546c6600dd2d12bcbdfa6.txt  \n",
            "  inflating: train/labels/severityV3_36_jpeg_jpg.rf.72ab928b3e8e0ae278b99b31088bdd62.txt  \n",
            "  inflating: train/labels/severityV3_36_jpeg_jpg.rf.fbe1b4fb6ce354ab149b74b85668f7bf.txt  \n",
            "  inflating: train/labels/severityV3_37_jpeg_jpg.rf.7f60a5284c96b7a85e0d869aa15ab83e.txt  \n",
            "  inflating: train/labels/severityV3_37_jpeg_jpg.rf.98140da022839b9b5e93be7676bb5d39.txt  \n",
            "  inflating: train/labels/severityV3_37_jpeg_jpg.rf.c1f28ec443d02b0ee01fc8f29473cc6e.txt  \n",
            "  inflating: train/labels/severityV3_37_jpeg_jpg.rf.cadc0dbd3dfd36f8f41333e500f5d8fa.txt  \n",
            "  inflating: train/labels/severityV3_38_jpeg_jpg.rf.03a13450d4b31aa1bb74fc65c0026278.txt  \n",
            "  inflating: train/labels/severityV3_38_jpeg_jpg.rf.658975e914eacd5a77a371b390941707.txt  \n",
            "  inflating: train/labels/severityV3_38_jpeg_jpg.rf.daaff2bd4da1cb09ceac88c233975374.txt  \n",
            "  inflating: train/labels/severityV3_3_jpeg_jpg.rf.6bc9b6563517c0f1b952766c5a7e0967.txt  \n",
            "  inflating: train/labels/severityV3_3_jpeg_jpg.rf.b124af2765130b407b3e4399b1fc0817.txt  \n",
            "  inflating: train/labels/severityV3_40_jpeg_jpg.rf.20c09b80208d0ae6548320a1a9540fb4.txt  \n",
            "  inflating: train/labels/severityV3_40_jpeg_jpg.rf.2368d6fe14bdb7b8f91d9738674dd9d3.txt  \n",
            "  inflating: train/labels/severityV3_40_jpeg_jpg.rf.66a1237ad36aba4e8bc14efdedc2e847.txt  \n",
            "  inflating: train/labels/severityV3_40_jpeg_jpg.rf.b77765566a87dadb6742cbfff367c545.txt  \n",
            "  inflating: train/labels/severityV3_40_jpeg_jpg.rf.d1449152c0481bed790ea8080ec3bcd3.txt  \n",
            "  inflating: train/labels/severityV3_40_jpeg_jpg.rf.d2eb2ce2e28c235ae142e78faab83309.txt  \n",
            "  inflating: train/labels/severityV3_4_jpeg_jpg.rf.cdf43049e33687865701d2bf6cda9994.txt  \n",
            "  inflating: train/labels/severityV3_4_jpeg_jpg.rf.dc72cdb0047e34fb6baa2b4a721701ba.txt  \n",
            "  inflating: train/labels/severityV3_5_jpeg_jpg.rf.7fe582e36bf66c06e8f726821b77cbae.txt  \n",
            "  inflating: train/labels/severityV3_5_jpeg_jpg.rf.af0bd7900a9e03769ba353527f4858b5.txt  \n",
            "  inflating: train/labels/severityV3_5_jpeg_jpg.rf.f6928746c8f900eb0963ea5f439d594c.txt  \n",
            "  inflating: train/labels/severityV3_5_jpeg_jpg.rf.f999e412f0f3accad34f5ce9a2e4523b.txt  \n",
            "  inflating: train/labels/severityV3_6_jpeg_jpg.rf.185443d2df2673aadab63b97f6f1c18b.txt  \n",
            "  inflating: train/labels/severityV3_6_jpeg_jpg.rf.3c2815128fd7a9dc457b35c5d9a9b358.txt  \n",
            "  inflating: train/labels/severityV3_6_jpeg_jpg.rf.50c2f474a446a79b55c8e19cdb27110e.txt  \n",
            "  inflating: train/labels/severityV3_6_jpeg_jpg.rf.513e6460889dc1952524e1ec41453cc6.txt  \n",
            "  inflating: train/labels/severityV3_6_jpeg_jpg.rf.5e40df22a6ed15ee2d38003a63aa61e0.txt  \n",
            "  inflating: train/labels/severityV3_6_jpeg_jpg.rf.930cce825ffdf93d6a8aec5155b9cc24.txt  \n",
            "  inflating: train/labels/severityV3_6_jpeg_jpg.rf.c82ce66b9b038da2625815a5f4d71baa.txt  \n",
            "  inflating: train/labels/severityV3_6_jpeg_jpg.rf.dbea36d1cff6b0f6dc046f6ac0ac0a2a.txt  \n",
            "  inflating: train/labels/severityV3_7_jpeg_jpg.rf.0af39ff3e6b1042ab37bc004d5a817a6.txt  \n",
            "  inflating: train/labels/severityV3_8_jpeg_jpg.rf.16fe0b4e3a8a1c731251287f9a3abb50.txt  \n",
            "  inflating: train/labels/severityV3_8_jpeg_jpg.rf.5766553301339226d9d5b22ad37ba6d1.txt  \n",
            "  inflating: train/labels/severityV3_8_jpeg_jpg.rf.af6a2868a0425bc101f8e744121696b4.txt  \n",
            "  inflating: train/labels/severityV3_8_jpeg_jpg.rf.c532b33a99678fccb638e0485925cb09.txt  \n",
            "  inflating: train/labels/severityV3_8_jpeg_jpg.rf.d513be91477a7970ae52569a611a9ac4.txt  \n",
            "  inflating: train/labels/severityV3_8_jpeg_jpg.rf.e88e5198b075286e07250f5db99dad1f.txt  \n",
            "  inflating: train/labels/severityV3_9_jpeg_jpg.rf.c9b787b673dc70d204f423cadfc219b1.txt  \n",
            "  inflating: train/labels/severityV3_9_jpeg_jpg.rf.df0be357bc363054c9db7f620987cba6.txt  \n",
            "  inflating: train/labels/severityV4_10_jpg.rf.2db1c356e8f5c94bad19357b53ccd290.txt  \n",
            "  inflating: train/labels/severityV4_10_jpg.rf.6453ed257ac08da592ec1bff4d714e3b.txt  \n",
            "  inflating: train/labels/severityV4_10_jpg.rf.7b270d6cb965af6c79a1245967f332fa.txt  \n",
            "  inflating: train/labels/severityV4_10_jpg.rf.8d81acf8f677e49f2d3ea0bdc3451fd3.txt  \n",
            "  inflating: train/labels/severityV4_10_jpg.rf.a3ae36c8d65d3afde9d1383110912837.txt  \n",
            "  inflating: train/labels/severityV4_11_jpg.rf.6ff7dfe4452c291c72e71173b18cd4ff.txt  \n",
            "  inflating: train/labels/severityV4_12_jpg.rf.03d763c5274ddc86dd80252485bbf941.txt  \n",
            "  inflating: train/labels/severityV4_12_jpg.rf.36ec388a006bade960ab52014abdd9f3.txt  \n",
            "  inflating: train/labels/severityV4_12_jpg.rf.4c5833fc1944dc0a4f11614544d74846.txt  \n",
            "  inflating: train/labels/severityV4_12_jpg.rf.b2a0c0c91cb5388c8e39a1efa69fc1ae.txt  \n",
            "  inflating: train/labels/severityV4_12_jpg.rf.d046dc635b67ab2363013377f915a4ca.txt  \n",
            "  inflating: train/labels/severityV4_13_jpg.rf.33a5f30f32ad449d448b0ae8af42de04.txt  \n",
            "  inflating: train/labels/severityV4_13_jpg.rf.65f7ca71067e9f3fb38e7db184d57f71.txt  \n",
            "  inflating: train/labels/severityV4_13_jpg.rf.cb36939d0eb85efb4032c0533c119288.txt  \n",
            "  inflating: train/labels/severityV4_13_jpg.rf.feb8cce7d70aefcede1d69cb4f402fe8.txt  \n",
            "  inflating: train/labels/severityV4_14_jpg.rf.4f687028fa6e541630384266a556cd6c.txt  \n",
            "  inflating: train/labels/severityV4_14_jpg.rf.6a158ac36c3669966861c11193f1dd0c.txt  \n",
            "  inflating: train/labels/severityV4_14_jpg.rf.a493426af35b599690870c7028961c4c.txt  \n",
            "  inflating: train/labels/severityV4_14_jpg.rf.b9484fd3f819b29074a62375c870e976.txt  \n",
            "  inflating: train/labels/severityV4_14_jpg.rf.ccef2276b8377b51096a83ed689e7720.txt  \n",
            "  inflating: train/labels/severityV4_14_jpg.rf.e45515f9724912e3376bb395c0a2e646.txt  \n",
            "  inflating: train/labels/severityV4_15_jpg.rf.3da20ae0875d22b2b17dbe977c76f666.txt  \n",
            "  inflating: train/labels/severityV4_15_jpg.rf.6025111d7c59b7347f652ccc304a81bb.txt  \n",
            "  inflating: train/labels/severityV4_15_jpg.rf.85bdffbb470cb93b7a9f556a0fab6410.txt  \n",
            "  inflating: train/labels/severityV4_15_jpg.rf.bf1c6fa17a8fbcf6eeae38d7654c2092.txt  \n",
            "  inflating: train/labels/severityV4_15_jpg.rf.dea4df707b92e7e49fed124ece00c7ba.txt  \n",
            "  inflating: train/labels/severityV4_15_jpg.rf.e30f958c8fe47d861efafad63113b006.txt  \n",
            "  inflating: train/labels/severityV4_16_jpg.rf.16f8fc2116c2e4d87692af3b2a37d92d.txt  \n",
            "  inflating: train/labels/severityV4_16_jpg.rf.1c90d713eae796309316bc42b39f6870.txt  \n",
            "  inflating: train/labels/severityV4_16_jpg.rf.f1db737239f27c5bf0eac26c4c36dae4.txt  \n",
            "  inflating: train/labels/severityV4_17_jpg.rf.0af597d88317ea34f6d4a8660b4f3bfa.txt  \n",
            "  inflating: train/labels/severityV4_17_jpg.rf.2123d688b03f7fe2c92c653f884be5c9.txt  \n",
            "  inflating: train/labels/severityV4_17_jpg.rf.74623d01b31ba2475ac946980cd631fb.txt  \n",
            "  inflating: train/labels/severityV4_17_jpg.rf.dee4c54fc703e9ffa2a1835b61fda57d.txt  \n",
            "  inflating: train/labels/severityV4_17_jpg.rf.ef3790f95bf72b304f5dbe3c1a24574f.txt  \n",
            "  inflating: train/labels/severityV4_17_jpg.rf.f3db243b7c8aad0150d906ef07286b4c.txt  \n",
            "  inflating: train/labels/severityV4_18_jpg.rf.207cfd753a6c5fcc7a167436ad1e21e3.txt  \n",
            "  inflating: train/labels/severityV4_18_jpg.rf.5620a553cc2b02ca433b89f94b741c97.txt  \n",
            "  inflating: train/labels/severityV4_18_jpg.rf.5ef3e15ca643ffa46b0aa8f8f81ac241.txt  \n",
            "  inflating: train/labels/severityV4_18_jpg.rf.b84525cb96f416871166efd304d9b497.txt  \n",
            "  inflating: train/labels/severityV4_18_jpg.rf.c7d899c044f45c0ac50f4c8d6abf9c99.txt  \n",
            " extracting: train/labels/severityV4_19_jpg.rf.29c5b930f0ea89799ab39335b44e9e1e.txt  \n",
            " extracting: train/labels/severityV4_19_jpg.rf.34e52f39a14d88584791b8a760da2b80.txt  \n",
            " extracting: train/labels/severityV4_19_jpg.rf.38079101c76b70f6e55721612f3483d6.txt  \n",
            " extracting: train/labels/severityV4_19_jpg.rf.8ed3411461583a29136d721b73edf143.txt  \n",
            " extracting: train/labels/severityV4_19_jpg.rf.9284bbd766d134847607367577329af9.txt  \n",
            " extracting: train/labels/severityV4_19_jpg.rf.d19e27aaf2ca27b28a08c00e18cc7a4d.txt  \n",
            "  inflating: train/labels/severityV4_1_jpg.rf.6df04d9b2fd5f6fcd6f88d544ef76142.txt  \n",
            "  inflating: train/labels/severityV4_21_jpg.rf.07a89db49295918bf5a260276c3b8bc2.txt  \n",
            "  inflating: train/labels/severityV4_21_jpg.rf.1f45ead1c5d197cefe23f0dc5e85d462.txt  \n",
            "  inflating: train/labels/severityV4_21_jpg.rf.42cb2006e2abf4fbfc80fbfe5170a004.txt  \n",
            "  inflating: train/labels/severityV4_21_jpg.rf.a1b6a0484d593f793d1025bd30e0aee1.txt  \n",
            "  inflating: train/labels/severityV4_21_jpg.rf.d00334b53853906cac60eb4143c53a5a.txt  \n",
            "  inflating: train/labels/severityV4_22_jpg.rf.b0d706bb2673e371765956040e21c353.txt  \n",
            "  inflating: train/labels/severityV4_22_jpg.rf.b744b7934da21fb811b9e0c6c49cfb43.txt  \n",
            "  inflating: train/labels/severityV4_22_jpg.rf.d692700a61a7a82f29d2e6462fd5f979.txt  \n",
            "  inflating: train/labels/severityV4_22_jpg.rf.edae0309688cfe33f25177d4bc6af17f.txt  \n",
            "  inflating: train/labels/severityV4_23_jpg.rf.268fcced70caf3dddd00177fafb2e4e1.txt  \n",
            "  inflating: train/labels/severityV4_23_jpg.rf.39543d40598f9fed37ca9df659740b5e.txt  \n",
            "  inflating: train/labels/severityV4_23_jpg.rf.409dfca7e124ae9b4bb7d36f5ea4a58f.txt  \n",
            "  inflating: train/labels/severityV4_23_jpg.rf.5022dbf5b1c579d185142bc2a6fbcf16.txt  \n",
            "  inflating: train/labels/severityV4_23_jpg.rf.5e2b5c5abd34b0426c6602f944408292.txt  \n",
            "  inflating: train/labels/severityV4_23_jpg.rf.7574e3186ce06ef7647dcbcc3c72d1fa.txt  \n",
            "  inflating: train/labels/severityV4_23_jpg.rf.ad3f9b75943524427d3e99f224e2108e.txt  \n",
            " extracting: train/labels/severityV4_24_jpg.rf.7585752be2ff8a85b8b00a350ef611aa.txt  \n",
            " extracting: train/labels/severityV4_24_jpg.rf.7ba65b028bfd3ab0c81d31bf723e46af.txt  \n",
            " extracting: train/labels/severityV4_24_jpg.rf.7ec9395df5d770118e03fd34943a7a61.txt  \n",
            " extracting: train/labels/severityV4_24_jpg.rf.8e11194f07590c35a2bb20c9a01e214d.txt  \n",
            " extracting: train/labels/severityV4_24_jpg.rf.c8d2d043ff1a4e213b4361b9fe80a2fc.txt  \n",
            "  inflating: train/labels/severityV4_25_jpg.rf.06fef3df88708742ab3350a4b4829320.txt  \n",
            "  inflating: train/labels/severityV4_25_jpg.rf.11e8bbbad021b3ecd8f90d7ab736d19f.txt  \n",
            "  inflating: train/labels/severityV4_25_jpg.rf.4bb9c60b65f58250d41bd31856c67947.txt  \n",
            "  inflating: train/labels/severityV4_25_jpg.rf.d479fccb6513890a74390fdc62a127af.txt  \n",
            "  inflating: train/labels/severityV4_25_jpg.rf.f06aabc00362e8510d945e91881e2d0f.txt  \n",
            "  inflating: train/labels/severityV4_27_jpg.rf.01fca8dea37fbadde1e09a7f19fb76e9.txt  \n",
            "  inflating: train/labels/severityV4_27_jpg.rf.071cf1eba4ebe162c0ca85c8886f5c8d.txt  \n",
            "  inflating: train/labels/severityV4_27_jpg.rf.269a6175f0b94780a600af012a395d21.txt  \n",
            "  inflating: train/labels/severityV4_27_jpg.rf.4438acff9119c81ce7ff5d86dc0cbcea.txt  \n",
            "  inflating: train/labels/severityV4_27_jpg.rf.ec89d8fc2f5853b82108fcb9b38936da.txt  \n",
            "  inflating: train/labels/severityV4_27_jpg.rf.fcab3c2feb1fb9b466cbc88effde64ce.txt  \n",
            "  inflating: train/labels/severityV4_28_jpg.rf.4c506c9da44e677a151b01631a81e5f2.txt  \n",
            "  inflating: train/labels/severityV4_28_jpg.rf.f8b49857332967207948d230c38a4240.txt  \n",
            "  inflating: train/labels/severityV4_29_jpg.rf.0f6b1f3e2fa7377ad225ff87cfcf687b.txt  \n",
            "  inflating: train/labels/severityV4_29_jpg.rf.2130fe4c10265d8813fb0698277cfd43.txt  \n",
            " extracting: train/labels/severityV4_2_jpg.rf.4de473a5cb8ae88d58f21d8176189c24.txt  \n",
            " extracting: train/labels/severityV4_2_jpg.rf.6faae9df8af86b3979799a2c70de1014.txt  \n",
            " extracting: train/labels/severityV4_2_jpg.rf.9be9d6c097fd9b351365cc26a2e54846.txt  \n",
            " extracting: train/labels/severityV4_2_jpg.rf.cf5b6448a0bb21d8d7f58453bad59309.txt  \n",
            " extracting: train/labels/severityV4_2_jpg.rf.ded510898eac09fc18160493bbe3071c.txt  \n",
            "  inflating: train/labels/severityV4_30_jpg.rf.0bdc4546b9f7145ff22732c68518149c.txt  \n",
            "  inflating: train/labels/severityV4_30_jpg.rf.83dca9672f9c1662cea928251ca92547.txt  \n",
            "  inflating: train/labels/severityV4_31_jpg.rf.0b9f91b1fd0efd9462d226e68a8fcbe1.txt  \n",
            "  inflating: train/labels/severityV4_31_jpg.rf.1de65b44d34005464d537a02470e5c34.txt  \n",
            "  inflating: train/labels/severityV4_31_jpg.rf.2d740d479b8e7c65e984db8efdaacb7a.txt  \n",
            "  inflating: train/labels/severityV4_31_jpg.rf.6bb1ae450a6e2ad894d09453ee2d2d53.txt  \n",
            "  inflating: train/labels/severityV4_34_jpg.rf.21a215d1b90e5660381c356d308efd6b.txt  \n",
            "  inflating: train/labels/severityV4_34_jpg.rf.556f52ecc904717c46593879ade69749.txt  \n",
            "  inflating: train/labels/severityV4_34_jpg.rf.93415032d7eaba99b99d63772b646ecc.txt  \n",
            "  inflating: train/labels/severityV4_34_jpg.rf.9e18e2a127eeb536ea76a73c594a6867.txt  \n",
            "  inflating: train/labels/severityV4_34_jpg.rf.ea87c7e653531e83b7d3ea7be742afbf.txt  \n",
            "  inflating: train/labels/severityV4_35_jpg.rf.4a35a01923cec1ec85089bf7b362c90b.txt  \n",
            "  inflating: train/labels/severityV4_35_jpg.rf.4ee9b0bdc7d7b008ff64e89a56c5d504.txt  \n",
            "  inflating: train/labels/severityV4_35_jpg.rf.5215362cc219e761b630651a4d27a40f.txt  \n",
            "  inflating: train/labels/severityV4_35_jpg.rf.6c487d8ae96b482a7619ea2946c81280.txt  \n",
            "  inflating: train/labels/severityV4_35_jpg.rf.addfec8ff281cecaea452118b7b90975.txt  \n",
            "  inflating: train/labels/severityV4_35_jpg.rf.f10eae347819fd877cf496a0013507b2.txt  \n",
            " extracting: train/labels/severityV4_36_jpg.rf.c2966ea00c3c4749e9365f367bb10c87.txt  \n",
            "  inflating: train/labels/severityV4_37_jpeg_jpg.rf.346f110ba2aefe428b7e8f9a34e6cc51.txt  \n",
            "  inflating: train/labels/severityV4_37_jpeg_jpg.rf.6b2b2909918bf76b3044b5601032a8c6.txt  \n",
            "  inflating: train/labels/severityV4_37_jpeg_jpg.rf.7550d6cf1465a1a93f28d4a8635e2b0f.txt  \n",
            "  inflating: train/labels/severityV4_37_jpeg_jpg.rf.9254548c3fb604e7735d2b6362bd516c.txt  \n",
            "  inflating: train/labels/severityV4_37_jpeg_jpg.rf.ca33fbb064030876e942e61d03defd80.txt  \n",
            "  inflating: train/labels/severityV4_37_jpeg_jpg.rf.d27fd64c02118596684edffd75884612.txt  \n",
            "  inflating: train/labels/severityV4_37_jpeg_jpg.rf.edb9c44e6b06f793474172eb22526e17.txt  \n",
            "  inflating: train/labels/severityV4_37_jpeg_jpg.rf.ee4fc3ff7a71d4b2629afb8837cf4b2e.txt  \n",
            "  inflating: train/labels/severityV4_38_jpg.rf.38227c08149925fb93131983cd568b5e.txt  \n",
            "  inflating: train/labels/severityV4_38_jpg.rf.78d541d1e832f1deb673b03c6d11b39f.txt  \n",
            "  inflating: train/labels/severityV4_38_jpg.rf.78f70f91c05b5b1313dad2f80825cd13.txt  \n",
            "  inflating: train/labels/severityV4_38_jpg.rf.7b2a1f01234ecfef7e45a8d1d3497819.txt  \n",
            "  inflating: train/labels/severityV4_38_jpg.rf.a7eef511a298368c159ce12c47aa1732.txt  \n",
            "  inflating: train/labels/severityV4_38_jpg.rf.fa18844464c86226f9841356560aa398.txt  \n",
            "  inflating: train/labels/severityV4_39_jpg.rf.637a77bc43d9c9ab35bc27443a651a3a.txt  \n",
            "  inflating: train/labels/severityV4_39_jpg.rf.aa5342cdb77135b073e725fc97e7dcbe.txt  \n",
            "  inflating: train/labels/severityV4_39_jpg.rf.ac9490740e4773a423fb239d3c277d0c.txt  \n",
            "  inflating: train/labels/severityV4_39_jpg.rf.accae95b378eacebe56862112d66bcb2.txt  \n",
            "  inflating: train/labels/severityV4_39_jpg.rf.ee6946f3f7a4fb982c4066d371830437.txt  \n",
            "  inflating: train/labels/severityV4_3_jpg.rf.8d533cd23c6aad5a371c4827d8fc3a5e.txt  \n",
            "  inflating: train/labels/severityV4_3_jpg.rf.b4b1952b54ea40c38921e57fc5b7491a.txt  \n",
            "  inflating: train/labels/severityV4_3_jpg.rf.b9a1f60e0635d69f186c04c544efd890.txt  \n",
            "  inflating: train/labels/severityV4_3_jpg.rf.bd574068bd01c181ccd5728f2b189a79.txt  \n",
            " extracting: train/labels/severityV4_40_jpg.rf.2ab7f460fbb60b1383abcf3e88dafd66.txt  \n",
            " extracting: train/labels/severityV4_40_jpg.rf.9069f0cb066110932c91b727da6fb2bb.txt  \n",
            " extracting: train/labels/severityV4_40_jpg.rf.ae492e65e4a8b8dd3bd3fd00a845c6d3.txt  \n",
            " extracting: train/labels/severityV4_40_jpg.rf.e648c30076b88fcd882dae9041d4fd86.txt  \n",
            "  inflating: train/labels/severityV4_41_jpg.rf.1010f36f080a74d8a86e819f5aac0b27.txt  \n",
            "  inflating: train/labels/severityV4_41_jpg.rf.6f2e8d5c608c1d06122be9ec505447ec.txt  \n",
            "  inflating: train/labels/severityV4_41_jpg.rf.7d6d51ee98a8df1cb073590d60273566.txt  \n",
            "  inflating: train/labels/severityV4_41_jpg.rf.7f45a9ac731726f4b3c79a7c2539cdf3.txt  \n",
            "  inflating: train/labels/severityV4_41_jpg.rf.818072dd771e14e461d0d549367e2348.txt  \n",
            "  inflating: train/labels/severityV4_41_jpg.rf.a32897ffac8c4c367ec82a4f85524a29.txt  \n",
            "  inflating: train/labels/severityV4_42_jpg.rf.19a6d418e41ebfc978ff291fd9c8b99d.txt  \n",
            "  inflating: train/labels/severityV4_42_jpg.rf.2cb2675a70a1df29dc86fc4161313549.txt  \n",
            "  inflating: train/labels/severityV4_42_jpg.rf.6953f32defd1e3b4bedfe7b8db8bb543.txt  \n",
            "  inflating: train/labels/severityV4_42_jpg.rf.7c131fa97d31649c27224f6f32e1e8fa.txt  \n",
            "  inflating: train/labels/severityV4_42_jpg.rf.b965794f37761f1e424cdc1bccea5905.txt  \n",
            "  inflating: train/labels/severityV4_42_jpg.rf.e74cf098244e88b92c4b4deede7775ae.txt  \n",
            "  inflating: train/labels/severityV4_42_jpg.rf.f5b3d34f5c6275a274630d950fd4258e.txt  \n",
            "  inflating: train/labels/severityV4_43_jpg.rf.14e238bbfcddc9834a0e40815a29e9fd.txt  \n",
            "  inflating: train/labels/severityV4_43_jpg.rf.245f0dd695836fee63f668cebbd80f23.txt  \n",
            "  inflating: train/labels/severityV4_43_jpg.rf.67f8f2bd2216995999a71469f9afd4c9.txt  \n",
            "  inflating: train/labels/severityV4_43_jpg.rf.6f2d71df56c77e3324f59557d2aab07c.txt  \n",
            "  inflating: train/labels/severityV4_43_jpg.rf.8e208bdce15fe3c422d684f296dfa392.txt  \n",
            "  inflating: train/labels/severityV4_43_jpg.rf.d278076ba0eba2e7b128bcfbc207d415.txt  \n",
            "  inflating: train/labels/severityV4_44_jpg.rf.2ddd873d0918b2f6cdd9f545911d11f1.txt  \n",
            "  inflating: train/labels/severityV4_44_jpg.rf.4bd4720c745ea1766cef20554b9d71ff.txt  \n",
            "  inflating: train/labels/severityV4_44_jpg.rf.860770562260d5d233956f0475112ab0.txt  \n",
            "  inflating: train/labels/severityV4_44_jpg.rf.ac1815168f30d7c0ee13adafea21ceb2.txt  \n",
            "  inflating: train/labels/severityV4_44_jpg.rf.dfd7ab71f6a31ed12a836dd793c45616.txt  \n",
            "  inflating: train/labels/severityV4_44_jpg.rf.f2127a5b203b72cc3c2a30aecfb21179.txt  \n",
            "  inflating: train/labels/severityV4_44_jpg.rf.fb1f99162be3d4657073c914673ab463.txt  \n",
            " extracting: train/labels/severityV4_45_jpg.rf.dd7445072aa7a1a8d86a0a182c28a6c4.txt  \n",
            "  inflating: train/labels/severityV4_46_jpg.rf.041f981dc194da23be75224959e5d233.txt  \n",
            "  inflating: train/labels/severityV4_46_jpg.rf.6582b362804eb634a85275a41ab088b3.txt  \n",
            "  inflating: train/labels/severityV4_46_jpg.rf.7a249e8d7db155cf9ce606cda12ba709.txt  \n",
            "  inflating: train/labels/severityV4_46_jpg.rf.8306c9046927cab530c7cdc4dcb3e99c.txt  \n",
            "  inflating: train/labels/severityV4_46_jpg.rf.df0deca48300351e30737517bba5e445.txt  \n",
            "  inflating: train/labels/severityV4_46_jpg.rf.eb2c581807f2a1ffb2ac146fa33f412e.txt  \n",
            "  inflating: train/labels/severityV4_46_jpg.rf.ec3e0633552d7b60120901f18fcdac09.txt  \n",
            "  inflating: train/labels/severityV4_47_jpg.rf.2f5b4f0cad64161ef261c20584f96f8a.txt  \n",
            " extracting: train/labels/severityV4_48_jpg.rf.11ac219201c245728f9619e9dfb52cc5.txt  \n",
            " extracting: train/labels/severityV4_48_jpg.rf.2fbd15f69376ceb203043eed8c85736e.txt  \n",
            " extracting: train/labels/severityV4_48_jpg.rf.bf310f768994d5744da3a0f86f6c57cd.txt  \n",
            " extracting: train/labels/severityV4_48_jpg.rf.df999abd327747de0e6650084cd7eeb4.txt  \n",
            " extracting: train/labels/severityV4_48_jpg.rf.f41df0992df1a3c0aff7b5d098f952a4.txt  \n",
            " extracting: train/labels/severityV4_48_jpg.rf.f74e09a4d896e47edb3bbbfe8f526b19.txt  \n",
            "  inflating: train/labels/severityV4_49_jpg.rf.091efff5340e6cf03ee8afc816d6fb11.txt  \n",
            "  inflating: train/labels/severityV4_49_jpg.rf.1479a3e4310f89de3e3c275ef9f21885.txt  \n",
            "  inflating: train/labels/severityV4_49_jpg.rf.8d447121d340d8e706036ca4c12b6e1f.txt  \n",
            "  inflating: train/labels/severityV4_49_jpg.rf.92094a656a9f8fd011c02354250bb1c4.txt  \n",
            "  inflating: train/labels/severityV4_4_jpg.rf.7203091bb475d09e92a1e67e1ef75ec6.txt  \n",
            "  inflating: train/labels/severityV4_4_jpg.rf.978f2e1b9ea324fe82a657e247725ea5.txt  \n",
            "  inflating: train/labels/severityV4_4_jpg.rf.c25fa21bc9972b257f9d7b852c3f9ad8.txt  \n",
            "  inflating: train/labels/severityV4_4_jpg.rf.c4fca523705fc5c2947a36d93a22ab90.txt  \n",
            "  inflating: train/labels/severityV4_4_jpg.rf.c72269bb06bd704c9d92a4fa17f82d8a.txt  \n",
            "  inflating: train/labels/severityV4_4_jpg.rf.d6e90c4ce24718445aed2d87eda93bb7.txt  \n",
            "  inflating: train/labels/severityV4_50_jpg.rf.2a93133a62f13bb4d667211c8fd90507.txt  \n",
            "  inflating: train/labels/severityV4_50_jpg.rf.37eba67d41269a879d881c249b6baaba.txt  \n",
            "  inflating: train/labels/severityV4_51_jpg.rf.2d7d5606223e1d9082ff63b005254208.txt  \n",
            "  inflating: train/labels/severityV4_51_jpg.rf.5aa39fdddd362deeedc0ecea041a710f.txt  \n",
            "  inflating: train/labels/severityV4_51_jpg.rf.795465c91a2795ce3e1dc183b699ae46.txt  \n",
            "  inflating: train/labels/severityV4_51_jpg.rf.8acf38fc25706b4dbe1ecd62333f9565.txt  \n",
            "  inflating: train/labels/severityV4_51_jpg.rf.e4cbf4f8fd02fa22570d38cfccab040d.txt  \n",
            " extracting: train/labels/severityV4_52_jpg.rf.43922bb8c44ccb2dfab9a88d5c72aa5e.txt  \n",
            " extracting: train/labels/severityV4_52_jpg.rf.83479f247883a9193c9e53d04ecb71c3.txt  \n",
            " extracting: train/labels/severityV4_52_jpg.rf.8736450ab7ee6f0ce7e9dda555f7b34b.txt  \n",
            " extracting: train/labels/severityV4_52_jpg.rf.8d0a03e6b513699bd4d3232a907abfc1.txt  \n",
            " extracting: train/labels/severityV4_52_jpg.rf.c1936d46c85f1cb969452a084f5d8109.txt  \n",
            " extracting: train/labels/severityV4_52_jpg.rf.f26dd98043f0cfa6440436c74e4d5b39.txt  \n",
            "  inflating: train/labels/severityV4_53_jpg.rf.9d675cebe6dbd6035614cba31c45805e.txt  \n",
            "  inflating: train/labels/severityV4_53_jpg.rf.b1da07abf19773bd6b338115c46638ac.txt  \n",
            "  inflating: train/labels/severityV4_53_jpg.rf.c06a0b4ed74fde9c322a7e4362da7060.txt  \n",
            "  inflating: train/labels/severityV4_53_jpg.rf.dcc897f9ff4274feb1d4abc6b2393671.txt  \n",
            "  inflating: train/labels/severityV4_54_jpg.rf.3ac9452315edf698e7f5499b1b432263.txt  \n",
            "  inflating: train/labels/severityV4_54_jpg.rf.4e5155e42750e81dc78a52fc70c4fd8a.txt  \n",
            "  inflating: train/labels/severityV4_54_jpg.rf.6bae14b6775f88f1d839505b5acc0e0d.txt  \n",
            "  inflating: train/labels/severityV4_54_jpg.rf.6bc408f539c7f7074b071ab7ad0af049.txt  \n",
            "  inflating: train/labels/severityV4_54_jpg.rf.a26271d8f27af83715d6cff317278a30.txt  \n",
            "  inflating: train/labels/severityV4_54_jpg.rf.b6d37c1d7f64334fcfcac693b9bcc16f.txt  \n",
            "  inflating: train/labels/severityV4_54_jpg.rf.c5f299d3585c803b7452eb7523c26670.txt  \n",
            "  inflating: train/labels/severityV4_55_jpg.rf.05c9fc7cf60f0044d49df3a372ec9ad1.txt  \n",
            "  inflating: train/labels/severityV4_56_jpg.rf.2ec343bb3b6e5113fc938e2a2ac74e81.txt  \n",
            "  inflating: train/labels/severityV4_56_jpg.rf.3102cc7c207963f2ffe9a90c2859ca9f.txt  \n",
            "  inflating: train/labels/severityV4_56_jpg.rf.4a78caa9d81956064aad9883dcadfbce.txt  \n",
            "  inflating: train/labels/severityV4_56_jpg.rf.86ea1cc46234c66e28ed16bf1b9073f1.txt  \n",
            "  inflating: train/labels/severityV4_56_jpg.rf.9a039669463c80ebd76d783daa619252.txt  \n",
            "  inflating: train/labels/severityV4_56_jpg.rf.a3aa74700cfc73f6d5fda469021dc556.txt  \n",
            "  inflating: train/labels/severityV4_56_jpg.rf.f460fd6c4fb36deb64aa3bfdf0a93570.txt  \n",
            "  inflating: train/labels/severityV4_56_jpg.rf.f7517e7acc65a29444737e17b4e064cf.txt  \n",
            "  inflating: train/labels/severityV4_58_jpg.rf.09430db0fb63eda4eb4f47e400a8163b.txt  \n",
            "  inflating: train/labels/severityV4_58_jpg.rf.09ccf12d8ac712887c0ab19a12e1b44a.txt  \n",
            "  inflating: train/labels/severityV4_58_jpg.rf.2e58e3f6cdb201348b6c7e3934d2e70f.txt  \n",
            "  inflating: train/labels/severityV4_58_jpg.rf.4c52fe13b830436751cd22920dc4e5b9.txt  \n",
            "  inflating: train/labels/severityV4_58_jpg.rf.988056aae62631ffe2ec668e90297949.txt  \n",
            "  inflating: train/labels/severityV4_58_jpg.rf.db78bf7025e6e87fb6b32447b4486490.txt  \n",
            "  inflating: train/labels/severityV4_58_jpg.rf.ef21c1b51345e4e069fcee36f34c09e1.txt  \n",
            " extracting: train/labels/severityV4_59_jpg.rf.5148bc4287cddfaf0c1d31af920b8ad0.txt  \n",
            " extracting: train/labels/severityV4_59_jpg.rf.9b82c84d770a92c6e97ac4a7f16bc966.txt  \n",
            " extracting: train/labels/severityV4_59_jpg.rf.a4616183723819e575842e20a4569ba4.txt  \n",
            " extracting: train/labels/severityV4_59_jpg.rf.ba2ecdd66d43a99edd304905c4418c33.txt  \n",
            " extracting: train/labels/severityV4_59_jpg.rf.c04a2da47270c6b144adb5d2fb46e6e0.txt  \n",
            "  inflating: train/labels/severityV4_5_jpg.rf.3052ca3e511fe13100cad00e9e3d532d.txt  \n",
            "  inflating: train/labels/severityV4_5_jpg.rf.5f4bb8e52c8b003a6de94b73601f00d5.txt  \n",
            "  inflating: train/labels/severityV4_5_jpg.rf.ce88b3544a09e695d0ee2c94597fbb3b.txt  \n",
            "  inflating: train/labels/severityV4_5_jpg.rf.dc83030cec3adbecfac16ae6e9248b01.txt  \n",
            "  inflating: train/labels/severityV4_5_jpg.rf.e12d5a6b22e8c3b3039ec2d4474d1c69.txt  \n",
            "  inflating: train/labels/severityV4_5_jpg.rf.e7292df04fae231455fa484412919ac9.txt  \n",
            "  inflating: train/labels/severityV4_61_jpg.rf.05eabedac6a9dd03e8c6d4af7d0b2636.txt  \n",
            "  inflating: train/labels/severityV4_61_jpg.rf.150d8fccca4e421e28fd162572c03897.txt  \n",
            "  inflating: train/labels/severityV4_61_jpg.rf.44af3ae76178998a0344d6dbd6f441ce.txt  \n",
            "  inflating: train/labels/severityV4_61_jpg.rf.55dd79aa0928e03f7787c75381812917.txt  \n",
            "  inflating: train/labels/severityV4_61_jpg.rf.5d92c3e419a5bab9cb72365a74e23633.txt  \n",
            "  inflating: train/labels/severityV4_61_jpg.rf.cda74ae13dcb94ee2ab5987ea1c8a40c.txt  \n",
            "  inflating: train/labels/severityV4_62_jpg.rf.2969097bf9a70e65044afe2ff05e2b26.txt  \n",
            "  inflating: train/labels/severityV4_62_jpg.rf.395c0e8f97ac816336ec6e434e41bce3.txt  \n",
            "  inflating: train/labels/severityV4_62_jpg.rf.4c95f171086072fc1d99ce0e41bdbf6e.txt  \n",
            "  inflating: train/labels/severityV4_62_jpg.rf.61340a08b3446f5dff4df90dc78933ac.txt  \n",
            "  inflating: train/labels/severityV4_62_jpg.rf.7e96fc949ca42b73cd12251dd229f038.txt  \n",
            "  inflating: train/labels/severityV4_62_jpg.rf.f383cd9aa5095c14a8d1a0cc547292fa.txt  \n",
            "  inflating: train/labels/severityV4_63_jpg.rf.2e17ad31f6fb6fdbf68800720474cccb.txt  \n",
            "  inflating: train/labels/severityV4_63_jpg.rf.5387cf1a37446354ca1f5e595f691533.txt  \n",
            "  inflating: train/labels/severityV4_63_jpg.rf.7e420e22046e021a7daf476dff6c62e9.txt  \n",
            "  inflating: train/labels/severityV4_63_jpg.rf.908d024adf92fffaa3dbdc8862224a5a.txt  \n",
            "  inflating: train/labels/severityV4_63_jpg.rf.d29ca46c6ae950355154dd24e5829aac.txt  \n",
            "  inflating: train/labels/severityV4_63_jpg.rf.e639822acbc213b64d057530c1901c59.txt  \n",
            "  inflating: train/labels/severityV4_64_jpg.rf.3348ace2d0467a725f9ca53575d7dc70.txt  \n",
            "  inflating: train/labels/severityV4_64_jpg.rf.4892790b77e496fbe708c69d49c05b09.txt  \n",
            "  inflating: train/labels/severityV4_64_jpg.rf.70199618fc02b51f4b35156e5055398b.txt  \n",
            "  inflating: train/labels/severityV4_64_jpg.rf.d78d750cea45a06bdf1a139ec0035a3c.txt  \n",
            "  inflating: train/labels/severityV4_64_jpg.rf.d982714cb3a00b655ee2a8e6a7142906.txt  \n",
            "  inflating: train/labels/severityV4_64_jpg.rf.ebb82f41a32c6055a9797f819ef6f20e.txt  \n",
            "  inflating: train/labels/severityV4_65_jpg.rf.2b262db91dd50732b2a8884e02c53b8c.txt  \n",
            "  inflating: train/labels/severityV4_65_jpg.rf.87f664e2cbc2b510550f715618bed5e4.txt  \n",
            "  inflating: train/labels/severityV4_65_jpg.rf.8d6e1362d50a3712a24e2e67a8467b47.txt  \n",
            "  inflating: train/labels/severityV4_65_jpg.rf.c53432e6b7164a610a372530bb1d77fc.txt  \n",
            "  inflating: train/labels/severityV4_66_jpg.rf.01362d1019234bb1c8054d1236a707e9.txt  \n",
            "  inflating: train/labels/severityV4_66_jpg.rf.091063709daee0d6e3eb237fd7efa264.txt  \n",
            "  inflating: train/labels/severityV4_66_jpg.rf.21835533aade3358d8cdd81a646b8611.txt  \n",
            "  inflating: train/labels/severityV4_66_jpg.rf.399de718dadc73e40e87cd960c136ead.txt  \n",
            "  inflating: train/labels/severityV4_66_jpg.rf.5dd2a7a9c89dfd9ce8fa876c5fec989f.txt  \n",
            "  inflating: train/labels/severityV4_66_jpg.rf.d74eaf9d8ff58797e965fa13937f0185.txt  \n",
            "  inflating: train/labels/severityV4_67_jpg.rf.543d1331c0d40e03757662f408d71ed7.txt  \n",
            "  inflating: train/labels/severityV4_68_jpg.rf.1e6914f60ed2216c4bb7ca0a86a797d6.txt  \n",
            "  inflating: train/labels/severityV4_68_jpg.rf.36116b00fce51021395ce4d38444f709.txt  \n",
            "  inflating: train/labels/severityV4_68_jpg.rf.5509dabba70c0eb494afb2215ce57151.txt  \n",
            "  inflating: train/labels/severityV4_68_jpg.rf.abc1a96a15c40a5ed34ccdaaae1e105b.txt  \n",
            "  inflating: train/labels/severityV4_68_jpg.rf.ed1aaecd74c6f44406c128e50949ffbb.txt  \n",
            "  inflating: train/labels/severityV4_69_jpg.rf.08f39e9cfbaf737e43087c42a1c552e9.txt  \n",
            "  inflating: train/labels/severityV4_69_jpg.rf.6c14196dd44c87866288367192a8003e.txt  \n",
            "  inflating: train/labels/severityV4_69_jpg.rf.776c3c46936cc1cd2de933f6b24408d4.txt  \n",
            "  inflating: train/labels/severityV4_69_jpg.rf.a3c59ff7f493d312e40cb952d94ccd87.txt  \n",
            "  inflating: train/labels/severityV4_69_jpg.rf.a6c271008852543b801b34cddb558d4a.txt  \n",
            "  inflating: train/labels/severityV4_69_jpg.rf.afc5568519f0ffb1bd68a96ad4766767.txt  \n",
            "  inflating: train/labels/severityV4_6_jpg.rf.4581e813fd45021f22ae7a63bffc6d2b.txt  \n",
            "  inflating: train/labels/severityV4_6_jpg.rf.4a0ad01ca67683be6615cec6d3a3bc25.txt  \n",
            "  inflating: train/labels/severityV4_6_jpg.rf.4f4129066371579e65337228d911310f.txt  \n",
            "  inflating: train/labels/severityV4_6_jpg.rf.83403531b481a8ddc612759645bc4f9d.txt  \n",
            "  inflating: train/labels/severityV4_6_jpg.rf.8e01f347e0901dbc703477630db1fd19.txt  \n",
            "  inflating: train/labels/severityV4_6_jpg.rf.f845193b479d47b884526c10857ddc4e.txt  \n",
            "  inflating: train/labels/severityV4_6_jpg.rf.fffbf28a61dd4959a0d358f18a108a7d.txt  \n",
            "  inflating: train/labels/severityV4_70_jpg.rf.01e7a5ea2702f90ebb43657607e2cec6.txt  \n",
            "  inflating: train/labels/severityV4_70_jpg.rf.0d722935c2ffba96370590f403e003e7.txt  \n",
            "  inflating: train/labels/severityV4_70_jpg.rf.0db22073b873f583b5262b8e7c9a74b1.txt  \n",
            "  inflating: train/labels/severityV4_70_jpg.rf.8c9088db778aa50ec168713c1cfc4c78.txt  \n",
            "  inflating: train/labels/severityV4_70_jpg.rf.9754f8f90ad5c3f105e296bbc6c3e8ce.txt  \n",
            "  inflating: train/labels/severityV4_70_jpg.rf.aec5c73cd57ee7c7e65342480af1599e.txt  \n",
            "  inflating: train/labels/severityV4_70_jpg.rf.d476a6dd61e1c0f58402d0a114bb5b33.txt  \n",
            "  inflating: train/labels/severityV4_72_jpg.rf.027fdb6aadbd73f2ce110e13626e4bc1.txt  \n",
            "  inflating: train/labels/severityV4_72_jpg.rf.33d6c988328b0157dc2e8f58583b916b.txt  \n",
            "  inflating: train/labels/severityV4_72_jpg.rf.37a8ed9ddd6679e52c3c67d7aa325fc0.txt  \n",
            "  inflating: train/labels/severityV4_72_jpg.rf.902d5a3e74d002e589163deb8ff3604d.txt  \n",
            "  inflating: train/labels/severityV4_72_jpg.rf.a4d142506bbc711cbb636a1dd2641050.txt  \n",
            "  inflating: train/labels/severityV4_72_jpg.rf.f2a0bbcbf8467308873c54fca052fb12.txt  \n",
            "  inflating: train/labels/severityV4_73_jpg.rf.37a107f481edaf8581d794396ac691f5.txt  \n",
            "  inflating: train/labels/severityV4_73_jpg.rf.434ee2eed57acad47ac0fc65a0992bf6.txt  \n",
            "  inflating: train/labels/severityV4_73_jpg.rf.59020cdfd451c12f41275865af6a5d12.txt  \n",
            "  inflating: train/labels/severityV4_73_jpg.rf.dd59eac066d4061e001d7934e32ae282.txt  \n",
            "  inflating: train/labels/severityV4_74_jpg.rf.0d8cb7b25b34586c0990b851d45ffa8a.txt  \n",
            "  inflating: train/labels/severityV4_74_jpg.rf.141402769c3e9bcfcb0d6e813c7eae4a.txt  \n",
            "  inflating: train/labels/severityV4_75_jpg.rf.6b7f9e39664d96a9c6edf6b7902070fd.txt  \n",
            "  inflating: train/labels/severityV4_75_jpg.rf.732a92174f9c0864e1a6eb2bde916e3a.txt  \n",
            "  inflating: train/labels/severityV4_75_jpg.rf.826eeb4c4b4e796af17e9fbe5af4bdcf.txt  \n",
            "  inflating: train/labels/severityV4_75_jpg.rf.b7994595ca7dd06f0c11298d9ad9c5ad.txt  \n",
            "  inflating: train/labels/severityV4_75_jpg.rf.d4a7c62db40b4129de8a6b677913be25.txt  \n",
            "  inflating: train/labels/severityV4_76_jpg.rf.073d3e92e3c3ccfc87deb44659b0040b.txt  \n",
            "  inflating: train/labels/severityV4_76_jpg.rf.1c09deb93cb8e84f5e780e5ab39409a1.txt  \n",
            "  inflating: train/labels/severityV4_76_jpg.rf.46cfb943f380a74b88865de388e7ac64.txt  \n",
            "  inflating: train/labels/severityV4_76_jpg.rf.651257cb3703db3761911e545b0f3ea1.txt  \n",
            "  inflating: train/labels/severityV4_76_jpg.rf.8abf9740e3fd34040ebf7e3281a5d2be.txt  \n",
            "  inflating: train/labels/severityV4_76_jpg.rf.916942d4b428f3ec5fb3afc47fc6b89f.txt  \n",
            "  inflating: train/labels/severityV4_76_jpg.rf.d5756a94998131063d8f2c7be9fd8d55.txt  \n",
            "  inflating: train/labels/severityV4_77_jpg.rf.4cd236e0aa447a14f1d6b7e67308bb61.txt  \n",
            "  inflating: train/labels/severityV4_77_jpg.rf.56c82021b6eabc705157d683800cd345.txt  \n",
            "  inflating: train/labels/severityV4_77_jpg.rf.5c4da19a6defc04e3293d138d85e3e95.txt  \n",
            "  inflating: train/labels/severityV4_77_jpg.rf.825ba635b9322008c93d2fb8f0cbbb58.txt  \n",
            "  inflating: train/labels/severityV4_77_jpg.rf.91dc37a09d496311d33beb75d241c6dc.txt  \n",
            "  inflating: train/labels/severityV4_77_jpg.rf.ec7df14a2cb3dd14f6d43a56b52779ef.txt  \n",
            "  inflating: train/labels/severityV4_78_jpg.rf.2017188ba0b42255d53835dc3323f0da.txt  \n",
            "  inflating: train/labels/severityV4_78_jpg.rf.3926a5bd8ec7e5a6911f7b10c83a066d.txt  \n",
            "  inflating: train/labels/severityV4_78_jpg.rf.838a0883b4b149c24928d34e03eb0461.txt  \n",
            "  inflating: train/labels/severityV4_78_jpg.rf.db895cfa6e1f80761068a35f94b4b655.txt  \n",
            "  inflating: train/labels/severityV4_78_jpg.rf.e567676f849034f940bb024cb23efb81.txt  \n",
            "  inflating: train/labels/severityV4_78_jpg.rf.ffcda3291dd727127c99ee6cbb729afc.txt  \n",
            "  inflating: train/labels/severityV4_79_jpg.rf.08654e805699df1501afb4914bd2df00.txt  \n",
            "  inflating: train/labels/severityV4_79_jpg.rf.77bae7c117adea4f4d98d4b6b1195be8.txt  \n",
            "  inflating: train/labels/severityV4_79_jpg.rf.8831fc9fd212b84ab00c142fd2c2f592.txt  \n",
            "  inflating: train/labels/severityV4_79_jpg.rf.8cc9225ffd86bde2a09dcf8b0cd63481.txt  \n",
            "  inflating: train/labels/severityV4_79_jpg.rf.ba1cf7a644913edd2531a079976c5cae.txt  \n",
            "  inflating: train/labels/severityV4_79_jpg.rf.d5822dde94bc12e2fa808dda227c38db.txt  \n",
            "  inflating: train/labels/severityV4_80_jpg.rf.11ba88b16be0a21c197b66615b0a3bc3.txt  \n",
            "  inflating: train/labels/severityV4_80_jpg.rf.231f19523936cda8661893a69c33826b.txt  \n",
            "  inflating: train/labels/severityV4_80_jpg.rf.5eb02c7ea529b7bf07e8ba933aa64a6f.txt  \n",
            "  inflating: train/labels/severityV4_80_jpg.rf.af74eef7d43708f9d8a9e57cd7a9fcc5.txt  \n",
            "  inflating: train/labels/severityV4_80_jpg.rf.d48fcd355c2b095499f92a419abc228c.txt  \n",
            "  inflating: train/labels/severityV4_80_jpg.rf.e72dca2d691c2135b8a5d3f6ef4526ec.txt  \n",
            "  inflating: train/labels/severityV4_80_jpg.rf.e83ea07d0a03cd37dea74de2309be904.txt  \n",
            "  inflating: train/labels/severityV4_81_jpg.rf.52c0f18e5769f4656c1e6c26422fa3f6.txt  \n",
            "  inflating: train/labels/severityV4_81_jpg.rf.6eebfddfa2fb36bfe13ce416637b74df.txt  \n",
            "  inflating: train/labels/severityV4_81_jpg.rf.72ae834e991d967199e8bce0313f979b.txt  \n",
            "  inflating: train/labels/severityV4_81_jpg.rf.959d81871f4fd3ce265370b158734fdc.txt  \n",
            "  inflating: train/labels/severityV4_81_jpg.rf.98ec80464b599fe536c3e6a8c40fabd0.txt  \n",
            "  inflating: train/labels/severityV4_82_jpg.rf.5484c363b5759bde23860278c0ffc294.txt  \n",
            "  inflating: train/labels/severityV4_82_jpg.rf.7c044915c34f6d9135e413fe7d2d6824.txt  \n",
            "  inflating: train/labels/severityV4_82_jpg.rf.d7424a43151fd75f4b149146c533d6d8.txt  \n",
            "  inflating: train/labels/severityV4_83_jpg.rf.57d0ad521b57ac5a591b820ddb1ef16e.txt  \n",
            "  inflating: train/labels/severityV4_83_jpg.rf.7691c2f6a3daf517b30aeedbc85ca122.txt  \n",
            "  inflating: train/labels/severityV4_83_jpg.rf.89c31ff3a3b59c79b17c343992721f9b.txt  \n",
            "  inflating: train/labels/severityV4_83_jpg.rf.b372d4f358ec5994f432267261e14f55.txt  \n",
            "  inflating: train/labels/severityV4_83_jpg.rf.bcff7ec13c64b5ce09c92bdb5f94af2c.txt  \n",
            "  inflating: train/labels/severityV4_83_jpg.rf.ed7bd37a166f380a18481c145032284a.txt  \n",
            "  inflating: train/labels/severityV4_84_jpg.rf.076d5ac6ae9b1aad4cd1249a29d3aab8.txt  \n",
            "  inflating: train/labels/severityV4_84_jpg.rf.2dfe763fc87b81b4bcabab829b454087.txt  \n",
            "  inflating: train/labels/severityV4_84_jpg.rf.33c2ec09d5e1f2604a8da961c6e1a494.txt  \n",
            "  inflating: train/labels/severityV4_84_jpg.rf.4051558dbb33e33debb5a5f7ad671972.txt  \n",
            "  inflating: train/labels/severityV4_84_jpg.rf.46636dd298cf93077bc27910cfdb5fae.txt  \n",
            "  inflating: train/labels/severityV4_84_jpg.rf.7b2f30a786e36061d3c3ccbaaa1d3af7.txt  \n",
            "  inflating: train/labels/severityV4_84_jpg.rf.d6dd57f5e8019def4ada0d52d1b87ecb.txt  \n",
            "  inflating: train/labels/severityV4_85_jpg.rf.09a2eafd6790821a33af0ecbd0b8524c.txt  \n",
            "  inflating: train/labels/severityV4_85_jpg.rf.16ceea390657062c3a4eda1e6b2afde0.txt  \n",
            "  inflating: train/labels/severityV4_85_jpg.rf.36a92004fc9c1ad9dad3d22eb3cd2d42.txt  \n",
            "  inflating: train/labels/severityV4_85_jpg.rf.669bcbc99f75f2ff2d76fd13f1a3db94.txt  \n",
            "  inflating: train/labels/severityV4_85_jpg.rf.9c36ed0437ef4863a4a9db8f3f3e8b83.txt  \n",
            "  inflating: train/labels/severityV4_86_jpg.rf.6aef1ea364491e0b0ed2bbe175eea3d1.txt  \n",
            "  inflating: train/labels/severityV4_86_jpg.rf.cea85a16a6bfd453d83dfa422924771c.txt  \n",
            "  inflating: train/labels/severityV4_86_jpg.rf.d78c9bed15d31783512e0cc08e48afdf.txt  \n",
            "  inflating: train/labels/severityV4_86_jpg.rf.e71a661d1cbfd1b4ccdf2a6dee858410.txt  \n",
            "  inflating: train/labels/severityV4_87_jpg.rf.53a47be14f5e67afcf72a4a385f8260a.txt  \n",
            "  inflating: train/labels/severityV4_87_jpg.rf.5d20c3c9adc700e411c4775a3931a9c9.txt  \n",
            "  inflating: train/labels/severityV4_87_jpg.rf.a35452c7ff7b99bb420e87b62ec79c7b.txt  \n",
            "  inflating: train/labels/severityV4_87_jpg.rf.cac52ef89d1e831b46e8e062be65dead.txt  \n",
            "  inflating: train/labels/severityV4_87_jpg.rf.fa4407281b334efa89776e55cbd70ff6.txt  \n",
            "  inflating: train/labels/severityV4_87_jpg.rf.fe907589b55d342c71c742a349e6b597.txt  \n",
            "  inflating: train/labels/severityV4_88_jpg.rf.335f93bb4eefc4be1630fc215c94cae3.txt  \n",
            "  inflating: train/labels/severityV4_88_jpg.rf.50b3728b55b3f4baa8f95a50b8f8734b.txt  \n",
            "  inflating: train/labels/severityV4_88_jpg.rf.6b3899496fbee236a5c979c8fd176e2d.txt  \n",
            "  inflating: train/labels/severityV4_88_jpg.rf.d02d96989d22adaa517ac757265bf4bf.txt  \n",
            "  inflating: train/labels/severityV4_88_jpg.rf.db4f4d7ff59da5e3f2dbe2ef687cabe3.txt  \n",
            "  inflating: train/labels/severityV4_89_jpg.rf.0d6e8c59650120d6138592e018600380.txt  \n",
            "  inflating: train/labels/severityV4_89_jpg.rf.2fcbde024eb31a536fff894847d0ad24.txt  \n",
            "  inflating: train/labels/severityV4_89_jpg.rf.3907ac58f506aa778550e247f7727236.txt  \n",
            "  inflating: train/labels/severityV4_89_jpg.rf.bfeee16664570939fb682c458d40f917.txt  \n",
            "  inflating: train/labels/severityV4_89_jpg.rf.e62db6d966783f9726815347c7f4c352.txt  \n",
            "  inflating: train/labels/severityV4_89_jpg.rf.ed1bf1ef0e1ea4c7c238e94e1b27afd9.txt  \n",
            "  inflating: train/labels/severityV4_8_jpg.rf.a84f95331440619beab5edbcd33988f4.txt  \n",
            "  inflating: train/labels/severityV4_90_jpg.rf.15a671d7b87f966c0613757ad1929342.txt  \n",
            "  inflating: train/labels/severityV4_90_jpg.rf.27188a5e40bb47e124fa8171aec52ada.txt  \n",
            "  inflating: train/labels/severityV4_90_jpg.rf.51d79849bbacf30b2aa1bf3d9f3aa4ba.txt  \n",
            "  inflating: train/labels/severityV4_90_jpg.rf.71678c9993c06af24732614fb3f18f09.txt  \n",
            "  inflating: train/labels/severityV4_90_jpg.rf.7d84eefedaf3627372795014ff4b21e5.txt  \n",
            "  inflating: train/labels/severityV4_90_jpg.rf.916decb35c934290797a6df1a7b652dc.txt  \n",
            "  inflating: train/labels/severityV4_90_jpg.rf.fea43310da59cf2e60de999bbcfe8de0.txt  \n",
            "  inflating: train/labels/severityV4_91_jpg.rf.7741269024519d550166d3eb14804f4b.txt  \n",
            "  inflating: train/labels/severityV4_92_jpg.rf.02a379cd089557c8d69d259a4cbf9aa1.txt  \n",
            "  inflating: train/labels/severityV4_92_jpg.rf.1908e0c79ad83a3557a5ef6d9200d93c.txt  \n",
            "  inflating: train/labels/severityV4_92_jpg.rf.1f4bd3dfa145d0df305751c0960b1f69.txt  \n",
            "  inflating: train/labels/severityV4_92_jpg.rf.276f820279f707b0e6edfff75f9f4e5d.txt  \n",
            "  inflating: train/labels/severityV4_92_jpg.rf.2b23d135472202ffffec5624beb1d40c.txt  \n",
            "  inflating: train/labels/severityV4_92_jpg.rf.c7046a0117e06b5607ddd36c0b5a3582.txt  \n",
            "  inflating: train/labels/severityV4_93_jpg.rf.5f6a3c7062ee6ac95fdbe6c3a4b2008d.txt  \n",
            "  inflating: train/labels/severityV4_93_jpg.rf.79935cf6667c5a74d090d0d8e1e01558.txt  \n",
            "  inflating: train/labels/severityV4_93_jpg.rf.7f9925bcc6d64c45c4788c349f6fe159.txt  \n",
            "  inflating: train/labels/severityV4_93_jpg.rf.81eff3f30b493d6d5338ebb53c638507.txt  \n",
            "  inflating: train/labels/severityV4_94_jpg.rf.2328750c7bc823386353f9de23467a2b.txt  \n",
            "  inflating: train/labels/severityV4_94_jpg.rf.51f60040ef105602582e197965fcb71e.txt  \n",
            "  inflating: train/labels/severityV4_94_jpg.rf.6c84ece12fcd7cfcf471530815edee62.txt  \n",
            "  inflating: train/labels/severityV4_94_jpg.rf.d2d68c9686509283f2e2096e16ad30b5.txt  \n",
            "  inflating: train/labels/severityV4_95_jpg.rf.0e80d63cb21698c348991746e62f68fa.txt  \n",
            "  inflating: train/labels/severityV4_95_jpg.rf.392c35c921d773fcdbdeb4bc4bcbbb4e.txt  \n",
            "  inflating: train/labels/severityV4_95_jpg.rf.4e6c6229fa2804516989453950fd30e7.txt  \n",
            "  inflating: train/labels/severityV4_95_jpg.rf.927a9839add68705cfa8ecdcafbe95c3.txt  \n",
            "  inflating: train/labels/severityV4_95_jpg.rf.bd9c6a8ccc7ff1363fe3f23d6b76f275.txt  \n",
            "  inflating: train/labels/severityV4_95_jpg.rf.cdbd94b476ebea4e115f1225e2086971.txt  \n",
            "  inflating: train/labels/severityV4_95_jpg.rf.f9dc8c626a26fdc2edb955ce4f72fabf.txt  \n",
            "  inflating: train/labels/severityV4_97_jpg.rf.5b8131e5f019dd255b2311810c82a340.txt  \n",
            "  inflating: train/labels/severityV4_97_jpg.rf.8338cede7b59c27524060b22b3c82538.txt  \n",
            "  inflating: train/labels/severityV4_97_jpg.rf.88d3c558c5d38a0fc60ca769b361bd92.txt  \n",
            "  inflating: train/labels/severityV4_97_jpg.rf.bfd43a82b5a9bd907f374c73a878a35f.txt  \n",
            "  inflating: train/labels/severityV4_98_jpg.rf.203ecf20a33e30c72f71ad3e1d0ea0aa.txt  \n",
            "  inflating: train/labels/severityV4_98_jpg.rf.836e0ccaff98fe02de8fa480c593e0d7.txt  \n",
            "  inflating: train/labels/severityV4_98_jpg.rf.ad72685b95e42e2f0a062db3ebba694e.txt  \n",
            "  inflating: train/labels/severityV4_98_jpg.rf.aee05e7f00e12792f1714e1bc60af77e.txt  \n",
            "  inflating: train/labels/severityV4_98_jpg.rf.fb8e154d8d8be7fdac093c491fe28598.txt  \n",
            "  inflating: train/labels/severityV4_99_jpg.rf.0a1338298033b38027ae6b44d6650aca.txt  \n",
            "  inflating: train/labels/severityV4_99_jpg.rf.254ac87b4a9a76f97b7dbcf68a0532e1.txt  \n",
            "  inflating: train/labels/severityV4_99_jpg.rf.65be3785d3ccc70149ee2cce45914d10.txt  \n",
            "  inflating: train/labels/severityV4_99_jpg.rf.bc2205ba33d039af675479069fb42d3e.txt  \n",
            "  inflating: train/labels/severityV4_99_jpg.rf.c8679d142f619246deefe7cac026dbd8.txt  \n",
            "  inflating: train/labels/severityV4_99_jpg.rf.dd356aafad63cf08c77b6c5756830376.txt  \n",
            "  inflating: train/labels/severityV4_99_jpg.rf.df49b1b57959ccdb92ed6e67548ca744.txt  \n",
            "  inflating: train/labels/severityV4_9_jpg.rf.3ad30951613bc353f2d0367f938b7ee3.txt  \n",
            "  inflating: train/labels/severityV4_9_jpg.rf.42d99e0182c0300d55c0d46ac90058ec.txt  \n",
            "  inflating: train/labels/severityV4_9_jpg.rf.52f9dbcb1a41e589a16b894b1ef5a70f.txt  \n",
            "  inflating: train/labels/severityV4_9_jpg.rf.8e17d15333f200a0976e9754a805124c.txt  \n",
            "  inflating: train/labels/severityV4_9_jpg.rf.b5e39cead2abfe17f9767ccb5f9757d6.txt  \n",
            "  inflating: train/labels/severityV4_9_jpg.rf.e187eb2f1179567c4876269891782634.txt  \n",
            "  inflating: train/labels/severityV4_9_jpg.rf.fd3b0ce8a1f84faa4db4e1e6200d8199.txt  \n",
            "  inflating: train/labels/severity_V110_jpg.rf.07b7e9a2907c87539a0b8e786c2e37b1.txt  \n",
            "  inflating: train/labels/severity_V110_jpg.rf.1fa1ee1af198d7be298db82fab9cd7ea.txt  \n",
            "  inflating: train/labels/severity_V110_jpg.rf.3501b91fa849ba96f5a24458ca016f2f.txt  \n",
            "  inflating: train/labels/severity_V110_jpg.rf.6bb1522f96ba4d43e097ae109c7dc38f.txt  \n",
            "  inflating: train/labels/severity_V110_jpg.rf.7d2e01b2aaa67a26df0f190364c20f80.txt  \n",
            "  inflating: train/labels/severity_V111_jpg.rf.c0e8806752affeddb5bfe239914f79dc.txt  \n",
            "  inflating: train/labels/severity_V112_jpg.rf.4f9e05655d162cffc78b37184f5c4102.txt  \n",
            "  inflating: train/labels/severity_V113_jpg.rf.08f462b3ee42a32b26736fd5e741f2b5.txt  \n",
            "  inflating: train/labels/severity_V113_jpg.rf.7e586b86bd9280251788a2567f73c238.txt  \n",
            "  inflating: train/labels/severity_V113_jpg.rf.d298f8e01a6f00ebb31cd9c08112ebbb.txt  \n",
            "  inflating: train/labels/severity_V113_jpg.rf.e883e2bf158e6e0bc60ec8a5cbc492aa.txt  \n",
            "  inflating: train/labels/severity_V114_jpg.rf.0b9e9dfccc20c0d72aab0e0b9fda1757.txt  \n",
            "  inflating: train/labels/severity_V114_jpg.rf.5a2c5400074f887731b4d94de7df071f.txt  \n",
            "  inflating: train/labels/severity_V114_jpg.rf.5f58c36ae2c4666e3b42ab625f12242c.txt  \n",
            "  inflating: train/labels/severity_V114_jpg.rf.a1ee7dbe0c1c9f1f23f8343b6be3d991.txt  \n",
            "  inflating: train/labels/severity_V114_jpg.rf.d41d0b34374bb71eaa5b2783b6bb7f1b.txt  \n",
            "  inflating: train/labels/severity_V114_jpg.rf.df8aa76306a03a42a37b668578b4e4c4.txt  \n",
            "  inflating: train/labels/severity_V115_jpg.rf.6cbb6ca726ba7ed2022ff6c340e5c6ab.txt  \n",
            "  inflating: train/labels/severity_V115_jpg.rf.8974e13966541fbc2d537585be6e78a7.txt  \n",
            "  inflating: train/labels/severity_V115_jpg.rf.8e729e55f2b904b603893b1cbb4a6b8e.txt  \n",
            "  inflating: train/labels/severity_V115_jpg.rf.aa65ef801967c526afcff0b67c6e32a3.txt  \n",
            "  inflating: train/labels/severity_V115_jpg.rf.f0677aadd3c25c7290a73191986b44bd.txt  \n",
            "  inflating: train/labels/severity_V116_jpg.rf.1991c1e91de9cfe081b16d5b21a8edf6.txt  \n",
            "  inflating: train/labels/severity_V116_jpg.rf.52f75895765d93e23fe2a6b526fb6a30.txt  \n",
            "  inflating: train/labels/severity_V116_jpg.rf.5f174926b8f7c933c8ce40a1926bc775.txt  \n",
            "  inflating: train/labels/severity_V116_jpg.rf.66fd08bd418ea286427b3d27d06e96f9.txt  \n",
            "  inflating: train/labels/severity_V116_jpg.rf.a7434f1e5294f002c2e9c5d7fbc33a93.txt  \n",
            "  inflating: train/labels/severity_V116_jpg.rf.dcf39e09b8af3aa991e298174702af1d.txt  \n",
            "  inflating: train/labels/severity_V116_jpg.rf.e408925c9acf95e6cf254c593314d204.txt  \n",
            "  inflating: train/labels/severity_V117_jpg.rf.c96dfb7ec416c0c0940a54f487932e9b.txt  \n",
            "  inflating: train/labels/severity_V118_jpg.rf.472942e1ca70efea8d3fb15614dbaa86.txt  \n",
            "  inflating: train/labels/severity_V118_jpg.rf.582b58c887415e298460891fbe589dc6.txt  \n",
            "  inflating: train/labels/severity_V118_jpg.rf.6eb743f2a0177fd574a00a4c0c36ce18.txt  \n",
            "  inflating: train/labels/severity_V118_jpg.rf.ab4ecb1b7dc81d6fe2257a8386352332.txt  \n",
            "  inflating: train/labels/severity_V118_jpg.rf.d772d0b34090b3e936e00b3c5db9d9af.txt  \n",
            " extracting: train/labels/severity_V119_jpg.rf.078af99c42e88b18e5737719422c12c7.txt  \n",
            " extracting: train/labels/severity_V119_jpg.rf.9efc3d6db325c5530a84253b09a790b2.txt  \n",
            " extracting: train/labels/severity_V119_jpg.rf.bfb4310812a55bd5542b4103cf51e732.txt  \n",
            " extracting: train/labels/severity_V119_jpg.rf.ed4e561baa54a1c2a20be800312b8378.txt  \n",
            " extracting: train/labels/severity_V119_jpg.rf.f2220d24a6a344e31db12f024de95221.txt  \n",
            "  inflating: train/labels/severity_V11_jpg.rf.2bb3f4f1a86baa7c0b8c38c0933caf3d.txt  \n",
            "  inflating: train/labels/severity_V11_jpg.rf.700513966180f4eb49cd15b55515ac1e.txt  \n",
            "  inflating: train/labels/severity_V11_jpg.rf.81f53c21cbaa281ba159586e328b0898.txt  \n",
            "  inflating: train/labels/severity_V11_jpg.rf.9b3dffcc5312952f4e9551f804003860.txt  \n",
            "  inflating: train/labels/severity_V11_jpg.rf.ced5a9fa55fe258e9a2419f30c4feb6a.txt  \n",
            "  inflating: train/labels/severity_V11_jpg.rf.fce6306162a5fbd3c4f96af3d671d87c.txt  \n",
            "  inflating: train/labels/severity_V120_jpg.rf.74f02734c6aff48382ff0ba33e155845.txt  \n",
            "  inflating: train/labels/severity_V120_jpg.rf.7800a3019223d5823db697e759a0bd9c.txt  \n",
            "  inflating: train/labels/severity_V120_jpg.rf.7bbd09226a8f863c4c71a5254e15ae4e.txt  \n",
            "  inflating: train/labels/severity_V120_jpg.rf.9a6ecfe7c7ff0b9c0af03e44127a8514.txt  \n",
            "  inflating: train/labels/severity_V120_jpg.rf.a89abce7abde50dd9d50a9e36e21b231.txt  \n",
            "  inflating: train/labels/severity_V120_jpg.rf.d4275c26f74a49e21b149fb51fac10b7.txt  \n",
            "  inflating: train/labels/severity_V120_jpg.rf.e26c91b1bbe14f8193304edb5a7321dd.txt  \n",
            " extracting: train/labels/severity_V121_jpg.rf.756c9df3e730497d8e87a925ab0c05b8.txt  \n",
            " extracting: train/labels/severity_V121_jpg.rf.7d0294ce9adcec806b0669d65df3f24d.txt  \n",
            " extracting: train/labels/severity_V121_jpg.rf.7e60dadaa92b1ea21de83c8d8831dc4e.txt  \n",
            " extracting: train/labels/severity_V121_jpg.rf.8b157d19a9f5ccb6e01594545d5977ef.txt  \n",
            " extracting: train/labels/severity_V121_jpg.rf.8b72c1aa7096798bfbb62b0b5f2f6790.txt  \n",
            " extracting: train/labels/severity_V121_jpg.rf.9a983ffa36df885a52f44a793f453d05.txt  \n",
            " extracting: train/labels/severity_V121_jpg.rf.f9276c3d8f86bc2f21a047f09b3bc120.txt  \n",
            " extracting: train/labels/severity_V121_jpg.rf.fd20c999a4830854ad6e4765e07a86fe.txt  \n",
            "  inflating: train/labels/severity_V122_jpg.rf.2a64a3b1de11fd8f02dc0bda0b5b72c8.txt  \n",
            "  inflating: train/labels/severity_V122_jpg.rf.6ad72565b43a18ee003a30be077a55d9.txt  \n",
            "  inflating: train/labels/severity_V122_jpg.rf.6fc2286b4e0a2e024ef45b0f9651f987.txt  \n",
            "  inflating: train/labels/severity_V122_jpg.rf.e73508ebe1c6237449d50e2be5cd247a.txt  \n",
            "  inflating: train/labels/severity_V122_jpg.rf.ebdfbf69a2a4fbd4f1ab494063162e39.txt  \n",
            "  inflating: train/labels/severity_V123_jpg.rf.277508c47f71b5b59bfc43226176f3b4.txt  \n",
            "  inflating: train/labels/severity_V123_jpg.rf.8deaaec831bb15306a23bda594badbb4.txt  \n",
            "  inflating: train/labels/severity_V123_jpg.rf.daebb555f983d9b0342bc212162529ef.txt  \n",
            "  inflating: train/labels/severity_V123_jpg.rf.daf27536e99a27ce35b5ff3f619500df.txt  \n",
            " extracting: train/labels/severity_V124_jpg.rf.4062120550b569ded981d5b17ab0bc80.txt  \n",
            " extracting: train/labels/severity_V124_jpg.rf.843be5117f8a6f07358c4baf0a5a0d7e.txt  \n",
            "  inflating: train/labels/severity_V125_jpg.rf.33b0475ad85010c6f55208737007987b.txt  \n",
            "  inflating: train/labels/severity_V125_jpg.rf.38c335e164c7e89ba861a3c6320a97b1.txt  \n",
            "  inflating: train/labels/severity_V125_jpg.rf.392247ada31e13d79ab6746449af0d27.txt  \n",
            "  inflating: train/labels/severity_V125_jpg.rf.44c5b24e1d3d170ed38dcc7d45b12479.txt  \n",
            "  inflating: train/labels/severity_V126_jpg.rf.7f16060aa6e75c4c2e20a25cd227cfa8.txt  \n",
            "  inflating: train/labels/severity_V126_jpg.rf.e5a78b4c76cd5f61e575501b83527e52.txt  \n",
            "  inflating: train/labels/severity_V126_jpg.rf.ea07e97bc648f7bbeaed82c1fd5f0176.txt  \n",
            "  inflating: train/labels/severity_V126_jpg.rf.fae2c78cde70cd90e51b0c78f3d213ab.txt  \n",
            "  inflating: train/labels/severity_V127_jpg.rf.2218a5a70d453e6a5594435ff9648c54.txt  \n",
            "  inflating: train/labels/severity_V127_jpg.rf.3ee227a430ca428e276600bd141700cf.txt  \n",
            "  inflating: train/labels/severity_V127_jpg.rf.42ab8b662e1651e317ea7fb630656f9a.txt  \n",
            "  inflating: train/labels/severity_V127_jpg.rf.44c2351cd9f1e38f4d02413e0b02889f.txt  \n",
            "  inflating: train/labels/severity_V127_jpg.rf.5dcec52b0a4cc9e8b52f17c559a620c1.txt  \n",
            "  inflating: train/labels/severity_V127_jpg.rf.5e0301d1ad952cab6e45bbf80769ee00.txt  \n",
            "  inflating: train/labels/severity_V127_jpg.rf.a453467cf87d255ac78f73a4258dedba.txt  \n",
            "  inflating: train/labels/severity_V127_jpg.rf.b7d4fc4f42daa89141474e7cebe7f92b.txt  \n",
            "  inflating: train/labels/severity_V129_jpg.rf.19e0a43598358e66256fcca39b990431.txt  \n",
            "  inflating: train/labels/severity_V129_jpg.rf.32c8fe75cc83d6c27c42fbcb8be26a3e.txt  \n",
            "  inflating: train/labels/severity_V129_jpg.rf.34a69ac95eff64996ea398f338b8e4cb.txt  \n",
            "  inflating: train/labels/severity_V129_jpg.rf.84dc8f23332ed0305312bab82bebc46a.txt  \n",
            "  inflating: train/labels/severity_V129_jpg.rf.a404cb3c12657164843c714c0171a9af.txt  \n",
            "  inflating: train/labels/severity_V129_jpg.rf.d4ffc2fcf999a9d2b0ecdcef7eec8bc6.txt  \n",
            "  inflating: train/labels/severity_V12_jpg.rf.51ebe2e7d0c1522383e571e89a450265.txt  \n",
            "  inflating: train/labels/severity_V130_jpg.rf.0b9a8e5328fb68391cb427af80b45f90.txt  \n",
            "  inflating: train/labels/severity_V130_jpg.rf.2088e5456a7ded8c7e39b5295f8fdf2e.txt  \n",
            "  inflating: train/labels/severity_V130_jpg.rf.cbd5e804b23ec78902794b84cb418398.txt  \n",
            "  inflating: train/labels/severity_V130_jpg.rf.d1553bca18af247c5ecfd84b27b0d009.txt  \n",
            "  inflating: train/labels/severity_V130_jpg.rf.f2d1cbf9913f5564ea298d20e267fc39.txt  \n",
            "  inflating: train/labels/severity_V131_jpg.rf.8d0297c243ee42d10759fb08479b5da7.txt  \n",
            "  inflating: train/labels/severity_V132_jpg.rf.199abb043ec43e67dd5702bd88b3ee4f.txt  \n",
            "  inflating: train/labels/severity_V132_jpg.rf.1b695b02f83511b759ba54fcc033661a.txt  \n",
            "  inflating: train/labels/severity_V132_jpg.rf.1d354391c2577173a8cc4342198b0613.txt  \n",
            "  inflating: train/labels/severity_V132_jpg.rf.34ea31efb65d14b62a1a87b72110e32c.txt  \n",
            "  inflating: train/labels/severity_V132_jpg.rf.5b23fc647374ceded2f7fe5deb24c306.txt  \n",
            "  inflating: train/labels/severity_V133_jpg.rf.011cde5b7160e77813631e76e26a003a.txt  \n",
            "  inflating: train/labels/severity_V133_jpg.rf.1d27d0103a5a19e5e0d4c4b6824eef78.txt  \n",
            "  inflating: train/labels/severity_V133_jpg.rf.26c2b598f9004cf89cd6bd904f0ce83e.txt  \n",
            "  inflating: train/labels/severity_V133_jpg.rf.3bf777f2632f3f1ae402b472056448a4.txt  \n",
            "  inflating: train/labels/severity_V133_jpg.rf.68a6a6b7d020450880c14a1abcf5ae3f.txt  \n",
            "  inflating: train/labels/severity_V133_jpg.rf.e17ac3bef816eb7008baf22b99c724cf.txt  \n",
            " extracting: train/labels/severity_V134_jpg.rf.51168a77899719a92ffb3d2e8641353b.txt  \n",
            " extracting: train/labels/severity_V134_jpg.rf.99905becd96581cc6f182e49bdf98520.txt  \n",
            " extracting: train/labels/severity_V134_jpg.rf.a5e3f00d45d9258dcccb89b085770edb.txt  \n",
            " extracting: train/labels/severity_V134_jpg.rf.acd8f0fcdc4d7193d1b4895f8702d70f.txt  \n",
            " extracting: train/labels/severity_V134_jpg.rf.fcb8981f7bd29af0af535337df74c969.txt  \n",
            "  inflating: train/labels/severity_V135_jpg.rf.15840688b004b7bbf82f9da3ae3b1549.txt  \n",
            "  inflating: train/labels/severity_V135_jpg.rf.2cdcb52d238d0406bd7b847b7e64a3eb.txt  \n",
            "  inflating: train/labels/severity_V135_jpg.rf.4aa2e228d126117ad31e793692738fff.txt  \n",
            "  inflating: train/labels/severity_V135_jpg.rf.78ffa6397cf59623c654c8f9a5a63783.txt  \n",
            "  inflating: train/labels/severity_V135_jpg.rf.91458cd3bcd4883df2ee39026e526a39.txt  \n",
            "  inflating: train/labels/severity_V135_jpg.rf.95b1a70829842a11839213c5f9594e59.txt  \n",
            "  inflating: train/labels/severity_V135_jpg.rf.9c41c54f16a05c31e853f8817c55c261.txt  \n",
            "  inflating: train/labels/severity_V136_jpg.rf.060cf02441c90369e7271bb8fd824d2a.txt  \n",
            "  inflating: train/labels/severity_V136_jpg.rf.25c7ac1b5191b4fcd028fcf3c9b77d7d.txt  \n",
            "  inflating: train/labels/severity_V137_jpg.rf.d6cfe5163f687323e55f798b07850761.txt  \n",
            " extracting: train/labels/severity_V138_jpg.rf.31437367a7e81c19974c8acf60be87a0.txt  \n",
            " extracting: train/labels/severity_V138_jpg.rf.56de1ad7ec807ba6f3a154219a9e5e97.txt  \n",
            " extracting: train/labels/severity_V138_jpg.rf.99e792b537bc81fc3f9ab35029c0aa72.txt  \n",
            " extracting: train/labels/severity_V138_jpg.rf.b87ecaa8f51c6ff53c4c1ce0bb8cb851.txt  \n",
            " extracting: train/labels/severity_V138_jpg.rf.fe730aa203ae0a603aa15f0c0410cc25.txt  \n",
            "  inflating: train/labels/severity_V139_jpg.rf.2c3d6172995946d1f91246d95ad7b9e7.txt  \n",
            "  inflating: train/labels/severity_V139_jpg.rf.4af8361ad5ef30d2cee0bbc8809c4d81.txt  \n",
            "  inflating: train/labels/severity_V139_jpg.rf.572943c0f1ea1e756d275b20e29f9d86.txt  \n",
            "  inflating: train/labels/severity_V139_jpg.rf.6fa6ce4cc418a9b4e0e91c2afeb5e983.txt  \n",
            "  inflating: train/labels/severity_V139_jpg.rf.bf3ef70970cd27b21edc6889cf9739d0.txt  \n",
            "  inflating: train/labels/severity_V13_jpg.rf.0e01aad9e0eac30c35742bf3b5d57dcd.txt  \n",
            "  inflating: train/labels/severity_V13_jpg.rf.64de056d56b066e2fd568a5acd704621.txt  \n",
            "  inflating: train/labels/severity_V13_jpg.rf.8021aaff696ec9405e9accf81ccc4f06.txt  \n",
            "  inflating: train/labels/severity_V13_jpg.rf.8f47477ed87a13da3234447603a7fc70.txt  \n",
            " extracting: train/labels/severity_V140_jpg.rf.04947e0e24497fd28a57f4a08e1a3788.txt  \n",
            " extracting: train/labels/severity_V140_jpg.rf.2dfc01b7d054f5cc0197343cac9202dd.txt  \n",
            " extracting: train/labels/severity_V140_jpg.rf.41376ea94ada253994b978e420c9bbcd.txt  \n",
            " extracting: train/labels/severity_V140_jpg.rf.9659a2be8144496ac0a28457fb16a2c8.txt  \n",
            " extracting: train/labels/severity_V140_jpg.rf.cbbaa9061c779bf73461a29de0e4d357.txt  \n",
            "  inflating: train/labels/severity_V141_jpg.rf.40bb2189f285735780fb38d5c0bb7854.txt  \n",
            "  inflating: train/labels/severity_V141_jpg.rf.7a32e519e6055a87f937150470c147ec.txt  \n",
            "  inflating: train/labels/severity_V141_jpg.rf.b06b9cfa7ccfd9def3f81ba1eaf1d8cf.txt  \n",
            "  inflating: train/labels/severity_V141_jpg.rf.b2f8c1c9058220aff6747fb8ce9ef231.txt  \n",
            "  inflating: train/labels/severity_V141_jpg.rf.ed4cdafbb332d4c0b2d87ea3991b890f.txt  \n",
            "  inflating: train/labels/severity_V142_jpg.rf.a9aacf6bc9e45ab9c169e517632557a0.txt  \n",
            "  inflating: train/labels/severity_V142_jpg.rf.ffba0157990dce7bf9b5b83920f79ed9.txt  \n",
            "  inflating: train/labels/severity_V143_jpg.rf.470c83195ccc09a91a37fca9f3da7839.txt  \n",
            "  inflating: train/labels/severity_V143_jpg.rf.5722625306ba7cfb45916837897efeaf.txt  \n",
            "  inflating: train/labels/severity_V143_jpg.rf.b7e1149d0e157af9e728232b557aa91e.txt  \n",
            "  inflating: train/labels/severity_V143_jpg.rf.d4e9ebd514592f6565a6541756d1003b.txt  \n",
            "  inflating: train/labels/severity_V144_jpg.rf.14cacf597944e09723a5d8a82f59fc31.txt  \n",
            "  inflating: train/labels/severity_V144_jpg.rf.1510b73ffd6817a5562c2b8a885c88a3.txt  \n",
            "  inflating: train/labels/severity_V144_jpg.rf.1e45d1e0586b9fc5adc533ca817799a2.txt  \n",
            "  inflating: train/labels/severity_V144_jpg.rf.2d96be1c77f622d21d42d4ad46b8875d.txt  \n",
            "  inflating: train/labels/severity_V144_jpg.rf.77c7c4323b07711110f280f7397000d6.txt  \n",
            "  inflating: train/labels/severity_V144_jpg.rf.a3d4e9779bc731b42a26a993d0809b8b.txt  \n",
            "  inflating: train/labels/severity_V144_jpg.rf.dafbb72532daed21a6d2e363858cebb9.txt  \n",
            "  inflating: train/labels/severity_V145_jpg.rf.630509d3050919d13c4226ad69e841f1.txt  \n",
            "  inflating: train/labels/severity_V145_jpg.rf.a8768634f3ca9bc070342aa6007f246a.txt  \n",
            "  inflating: train/labels/severity_V145_jpg.rf.d65885ed468e716ee6506cdbcdca3b27.txt  \n",
            "  inflating: train/labels/severity_V16_jpg.rf.72b130efa8993e544ec12fa1ea1d2a6d.txt  \n",
            "  inflating: train/labels/severity_V16_jpg.rf.8d4b96df0a3f9f29de1ba4d06a049977.txt  \n",
            "  inflating: train/labels/severity_V16_jpg.rf.a5ffe25cca13000df7ac95cd3c33b0a3.txt  \n",
            "  inflating: train/labels/severity_V16_jpg.rf.b314ae1027e1ef70a16e043054748a8c.txt  \n",
            "  inflating: train/labels/severity_V16_jpg.rf.b50ad6381037c2225198a75748aa6e39.txt  \n",
            "  inflating: train/labels/severity_V16_jpg.rf.f688df941d3a30c6af0201f724a04403.txt  \n",
            "  inflating: train/labels/severity_V17_jpg.rf.37161bfbaceffd8c2168964850d5b6a9.txt  \n",
            "  inflating: train/labels/severity_V17_jpg.rf.7e901530a4f88ec5ea714b62a7fb03a8.txt  \n",
            "  inflating: train/labels/severity_V17_jpg.rf.9acc38dcf2c7f03dae757dc120369b72.txt  \n",
            "  inflating: train/labels/severity_V17_jpg.rf.9e60b55f31de2f460223f9baf78da4a0.txt  \n",
            "  inflating: train/labels/severity_V18_jpg.rf.988267f321455ffb321fca40795f2a2d.txt  \n",
            "  inflating: train/labels/severity_V19_jpg.rf.0c22eea6052b55c8511446950794b593.txt  \n",
            "  inflating: train/labels/severity_V19_jpg.rf.3b2d960c9e53a8188cc67417acdd911f.txt  \n",
            "  inflating: train/labels/severity_V19_jpg.rf.92a56c3d3c15d1c13a824e7cc76e802b.txt  \n",
            "  inflating: train/labels/testjndjnd_jpg.rf.3aeaddbb323572208b7b84c76366798e.txt  \n",
            "  inflating: train/labels/testjndjnd_jpg.rf.9e1c4c94497eb37f5668d9ff981edb68.txt  \n",
            "  inflating: train/labels/testjndjnd_jpg.rf.b18761acaeea130f691c2ae404740e46.txt  \n",
            "  inflating: train/labels/th-1-_jpg.rf.4053f948240797c61c250002dfe0d53d.txt  \n",
            "  inflating: train/labels/th-11-_jpg.rf.24a578a91afd32158578e30bb2916124.txt  \n",
            "  inflating: train/labels/th-12-_jpg.rf.43094f08b8f1fb23872d8c40338d3785.txt  \n",
            "  inflating: train/labels/th-13-_jpg.rf.849d6a6874585fae77c96bebe0c3084f.txt  \n",
            "  inflating: train/labels/th-15-_jpg.rf.d0d19298bcdae77a1825b61b19e8ce5a.txt  \n",
            "  inflating: train/labels/th-16-_jpg.rf.4d771750bfc550984ae71ce5fc03bc30.txt  \n",
            "  inflating: train/labels/th-18-_jpg.rf.301372d387978bbea9c6a07e9de7715a.txt  \n",
            "  inflating: train/labels/th-19-_jpg.rf.9587e7c6fb4d3677bd2dc0d4015e7162.txt  \n",
            "  inflating: train/labels/th-4-_jpg.rf.c3553e205cf8e121f52910a80d7d5ee6.txt  \n",
            "  inflating: train/labels/th-8-_jpg.rf.f983c595a8963c25bb88b275deef350a.txt  \n",
            "  inflating: train/labels/th-9-_jpg.rf.c3a9a786ead4125c28127dcdefb16621.txt  \n",
            " extracting: train/labels/traffic_img1021_jpg.rf.237043747e2331455c12da9039a7d880.txt  \n",
            " extracting: train/labels/traffic_img1021_jpg.rf.255774bf5e489508990aa6c56fce652c.txt  \n",
            " extracting: train/labels/traffic_img1021_jpg.rf.5c15fdd00c4d25129262284d74bd8554.txt  \n",
            " extracting: train/labels/traffic_img1021_jpg.rf.b017b724cd0b8995421f9c501cb0e227.txt  \n",
            "  inflating: train/labels/traffic_img1025_jpg.rf.617021d5bd28984821063a8b79c62a50.txt  \n",
            "  inflating: train/labels/traffic_img1026_jpg.rf.a177af49be7ce97ab1c7ade501012664.txt  \n",
            "  inflating: train/labels/traffic_img1027_jpg.rf.ded928c21cbef512cafe9a0efe3683b7.txt  \n",
            "  inflating: train/labels/traffic_img103_jpg.rf.1b53f9601a56cbccb5bac301b72bb1af.txt  \n",
            "  inflating: train/labels/traffic_img103_jpg.rf.63df88fb88d91beb1b80fcee6807e98c.txt  \n",
            "  inflating: train/labels/traffic_img103_jpg.rf.a42ef52d1f275373632d7eb5244066cb.txt  \n",
            "  inflating: train/labels/traffic_img103_jpg.rf.b1bcbadfe5b02f809298bf91a9f8bd71.txt  \n",
            " extracting: train/labels/traffic_img104_jpg.rf.1cdd78c4b8fd8d07c06b2119f0f2d1f3.txt  \n",
            " extracting: train/labels/traffic_img104_jpg.rf.835bdb8dd616f94662dca8332a4db0d4.txt  \n",
            " extracting: train/labels/traffic_img104_jpg.rf.8af2565199283ffd3387625c03c7e9f4.txt  \n",
            "  inflating: train/labels/traffic_img104_jpg.rf.b6910952c090292460df9f635e45e7c1.txt  \n",
            " extracting: train/labels/traffic_img104_jpg.rf.c6124c96b286aa42b166cba7d45faa7a.txt  \n",
            "  inflating: train/labels/traffic_img105_jpg.rf.03e018989c74fb32a49aaac6b5b3225a.txt  \n",
            "  inflating: train/labels/traffic_img105_jpg.rf.784ae72c3f4d5e3198549740bf97a90d.txt  \n",
            "  inflating: train/labels/traffic_img1069_jpg.rf.66967466a4a0a5cc0d686fd1e85a0483.txt  \n",
            "  inflating: train/labels/traffic_img1072_jpg.rf.59cf307739a56142ad32b8438e097e3e.txt  \n",
            "  inflating: train/labels/traffic_img1072_jpg.rf.d9fce30aa6ccf093c34fcd3130d2cf6b.txt  \n",
            "  inflating: train/labels/traffic_img1073_jpg.rf.6d759d9cb8f684e25ea461d1ddbcf3a3.txt  \n",
            "  inflating: train/labels/traffic_img1073_jpg.rf.ed9a7c029b93d8242e5860913329db3c.txt  \n",
            "  inflating: train/labels/traffic_img1075_jpg.rf.691e931ee44f4a160dc91191e1372266.txt  \n",
            "  inflating: train/labels/traffic_img1077_jpg.rf.be1de62690a5c7d410e2d04e55de5f8b.txt  \n",
            "  inflating: train/labels/traffic_img1080_jpg.rf.376c3b6ce3f2c251023115ada298d750.txt  \n",
            "  inflating: train/labels/traffic_img1080_jpg.rf.3ee1f9388a0baaa29ad258968520cbfb.txt  \n",
            "  inflating: train/labels/traffic_img1082_jpg.rf.0d10ffb455804b54f62a2c486fd0c434.txt  \n",
            "  inflating: train/labels/traffic_img1083_jpg.rf.03b6a47a0400c789a26cabd563fbb6cf.txt  \n",
            "  inflating: train/labels/traffic_img1083_jpg.rf.3a4cc84eea2b9b15f32bd40756f700e2.txt  \n",
            "  inflating: train/labels/traffic_img1091_jpg.rf.007a4e4850d6025a33a808b443f3a7b9.txt  \n",
            "  inflating: train/labels/traffic_img1091_jpg.rf.3dc78368d85a09564f5903db04a604f7.txt  \n",
            "  inflating: train/labels/traffic_img1091_jpg.rf.43dc9afc99812693cdea72757c8cecf9.txt  \n",
            "  inflating: train/labels/traffic_img1091_jpg.rf.ddd3ddd344027c73e533a91a41e04b92.txt  \n",
            "  inflating: train/labels/traffic_img1093_jpg.rf.dfd36089b7f8224629eb722fe457c271.txt  \n",
            "  inflating: train/labels/traffic_img1093_jpg.rf.f6aec38fd9f03f182a87708b42b65164.txt  \n",
            "  inflating: train/labels/traffic_img1098_jpg.rf.05ce9db40906ac17589e0e294259116d.txt  \n",
            "  inflating: train/labels/traffic_img1098_jpg.rf.52327f1f1f0256012945e081ff4c5c71.txt  \n",
            "  inflating: train/labels/traffic_img1109_jpg.rf.09e3cec93a4a188caa4981eb21230d05.txt  \n",
            "  inflating: train/labels/traffic_img1115_jpg.rf.cb5183ac8f4dfb1a0e8cc9383b76311b.txt  \n",
            "  inflating: train/labels/traffic_img1116_jpg.rf.2608684f99eff1a50f6cd96b9ba5b129.txt  \n",
            "  inflating: train/labels/traffic_img1116_jpg.rf.501bf688b734f8e806bb07e287366d63.txt  \n",
            " extracting: train/labels/traffic_img1117_jpg.rf.3e36adc7dc5cf506c02365ae5b79552e.txt  \n",
            " extracting: train/labels/traffic_img1117_jpg.rf.b8c049087bec3b1be517bea03bde766a.txt  \n",
            "  inflating: train/labels/traffic_img1118_jpg.rf.adbf56c230414a3560bf3987a4486803.txt  \n",
            "  inflating: train/labels/traffic_img1118_jpg.rf.ea532bd205c9e5587ad9fce2f1f3a76e.txt  \n",
            "  inflating: train/labels/traffic_img1125_jpg.rf.af0ad37e170da5440a7aad450e4a311f.txt  \n",
            "  inflating: train/labels/traffic_img1128_jpg.rf.1ad80145772126037c65413bb90917a2.txt  \n",
            "  inflating: train/labels/traffic_img1128_jpg.rf.8c31ace864b2253f59b783c71654ad8d.txt  \n",
            "  inflating: train/labels/traffic_img1137_jpg.rf.c12f7ba40ace2ee49a9bda98c821c61a.txt  \n",
            "  inflating: train/labels/traffic_img1137_jpg.rf.cf10c8aa43146200e0f0ca53a836e631.txt  \n",
            "  inflating: train/labels/traffic_img1147_jpg.rf.7163d02aa1fa7ff8071eb2c787bbf54d.txt  \n",
            "  inflating: train/labels/traffic_img1147_jpg.rf.929f7e7d62bd949becde566fa3122013.txt  \n",
            "  inflating: train/labels/traffic_img1155_jpg.rf.5de7f837729f65fa3fffdf845ca21cef.txt  \n",
            "  inflating: train/labels/traffic_img1155_jpg.rf.e28661728cd631d61d786aad6a0d4ac3.txt  \n",
            "  inflating: train/labels/traffic_img115_jpg.rf.2bc1b7dd21a8d0817861813361688590.txt  \n",
            "  inflating: train/labels/traffic_img115_jpg.rf.f8469b133587d78c157d002d2b32dd3c.txt  \n",
            "  inflating: train/labels/traffic_img117_jpg.rf.8656ce81d974ac57199710929a203053.txt  \n",
            "  inflating: train/labels/traffic_img1184_jpg.rf.233b8d8a793cd949f97e6a9e10b73054.txt  \n",
            "  inflating: train/labels/traffic_img1184_jpg.rf.d38e9e247730f08ba7458b588a6f83c1.txt  \n",
            "  inflating: train/labels/traffic_img118_jpg.rf.127989848f4babf6127d1e75901e61b2.txt  \n",
            "  inflating: train/labels/traffic_img118_jpg.rf.457808b6a3fc167eb6e75ef9868db884.txt  \n",
            " extracting: train/labels/traffic_img118_jpg.rf.4631007385cc331895b9057c6d538f75.txt  \n",
            "  inflating: train/labels/traffic_img118_jpg.rf.4b980fc1d0a84ccd26b0560c562b4142.txt  \n",
            "  inflating: train/labels/traffic_img118_jpg.rf.f03583b936ae6aa680e9474fd8ad480b.txt  \n",
            "  inflating: train/labels/traffic_img1197_jpg.rf.74b0f935d354d5ee1ab5f15d2ba5f416.txt  \n",
            " extracting: train/labels/traffic_img1201_jpg.rf.36689b39a9c2f2a908a9e3503474245c.txt  \n",
            " extracting: train/labels/traffic_img1201_jpg.rf.5634ede3d6e8b3866c6d8fa618626aa6.txt  \n",
            "  inflating: train/labels/traffic_img1201_jpg.rf.56702857cb4dcf7d79ebe8b9c9ebb7b1.txt  \n",
            "  inflating: train/labels/traffic_img1201_jpg.rf.c2c9b2c1109ff3bdb4f98499cb7d2fd7.txt  \n",
            "  inflating: train/labels/traffic_img1202_jpg.rf.8c8361a246b860e1670598194b9e6ec8.txt  \n",
            "  inflating: train/labels/traffic_img1210_jpg.rf.22a5aaecc19270cb074ed58ed1cab1d9.txt  \n",
            "  inflating: train/labels/traffic_img1210_jpg.rf.aa1eb16b3038db892c250920643bea51.txt  \n",
            "  inflating: train/labels/traffic_img1225_jpg.rf.2b3b5db995dd88813200dc7d595e3a8d.txt  \n",
            "  inflating: train/labels/traffic_img1225_jpg.rf.4d1bfb1db6e150b4a1b97dc5448498ad.txt  \n",
            "  inflating: train/labels/traffic_img1225_jpg.rf.51ffd6bc2693854c9c2c1ebeae9c0d1b.txt  \n",
            "  inflating: train/labels/traffic_img1225_jpg.rf.d4c96bca8d0b5b642625814d7779263f.txt  \n",
            "  inflating: train/labels/traffic_img1225_jpg.rf.dc85db06c030ce94caf65583a20a5097.txt  \n",
            "  inflating: train/labels/traffic_img1239_jpg.rf.1a3c019da9e2a2082e3481868df2729b.txt  \n",
            "  inflating: train/labels/traffic_img1239_jpg.rf.617a7630189a4abc74aa121dd03dc8c0.txt  \n",
            "  inflating: train/labels/traffic_img1239_jpg.rf.e9fe75ee372530c9b048fefffb803222.txt  \n",
            "  inflating: train/labels/traffic_img1244_jpg.rf.2a92f4b0591effa9ee6f5ba92622ebf3.txt  \n",
            "  inflating: train/labels/traffic_img1244_jpg.rf.4fe8121d36dc5df8c754dab519dc79f8.txt  \n",
            "  inflating: train/labels/traffic_img124_jpg.rf.5bd95e216c049879466b6d5cf7f93fce.txt  \n",
            "  inflating: train/labels/traffic_img124_jpg.rf.c22a334711c85accf51359800a1a4b57.txt  \n",
            " extracting: train/labels/traffic_img1255_jpg.rf.299015b6596b40bfb4c85a2c6420b7ea.txt  \n",
            " extracting: train/labels/traffic_img1255_jpg.rf.6efc96f0b61c2a1f7e6e9827aad34a89.txt  \n",
            "  inflating: train/labels/traffic_img126_jpg.rf.37f2f9a0d6df048937af627e977376a1.txt  \n",
            "  inflating: train/labels/traffic_img126_jpg.rf.3ebd9008057e55c64bb025e005f9135c.txt  \n",
            "  inflating: train/labels/traffic_img126_jpg.rf.51e30b5839c421a88f30e09190b3ba5a.txt  \n",
            "  inflating: train/labels/traffic_img126_jpg.rf.bd2e7dfb05d9b5941f5335114eb47099.txt  \n",
            " extracting: train/labels/traffic_img126_jpg.rf.c31b4fc71b9f477feb67b6a58a271508.txt  \n",
            "  inflating: train/labels/traffic_img126_jpg.rf.c8d915ddc68b0d162472a9f35603e036.txt  \n",
            " extracting: train/labels/traffic_img126_jpg.rf.f201acfc363527244274b2134f635ff5.txt  \n",
            "  inflating: train/labels/traffic_img1275_jpg.rf.cae0fb8a917a9a6037d980da09cbe437.txt  \n",
            "  inflating: train/labels/traffic_img1275_jpg.rf.fa6146fa956f79e013fb57d1b63b176c.txt  \n",
            "  inflating: train/labels/traffic_img127_jpg.rf.9326216701f4b7e90283dc63ef4211cc.txt  \n",
            "  inflating: train/labels/traffic_img127_jpg.rf.96c7bb80b06f599e71a6ac7bf9856eb0.txt  \n",
            "  inflating: train/labels/traffic_img127_jpg.rf.f45f2ede09c6e7adf86bccde9595ca72.txt  \n",
            "  inflating: train/labels/traffic_img1295_jpg.rf.0f8bb98d20170fa991006aeb209aefb5.txt  \n",
            "  inflating: train/labels/traffic_img1295_jpg.rf.aed5d4a00034e409321a30970d59e56c.txt  \n",
            "  inflating: train/labels/traffic_img1295_jpg.rf.e2f82e415bf60e74f3970e7f9fef7a2a.txt  \n",
            "  inflating: train/labels/traffic_img1298_jpg.rf.1c3f61d4b072bc972300062ad266dcef.txt  \n",
            "  inflating: train/labels/traffic_img1298_jpg.rf.93d54c8096ecded5e3e5ff4fa5344752.txt  \n",
            "  inflating: train/labels/traffic_img1299_jpg.rf.301b2f429630b9aca2e7bd3debcba691.txt  \n",
            "  inflating: train/labels/traffic_img1299_jpg.rf.5ec32b7b672e40a92089044c26fdc187.txt  \n",
            "  inflating: train/labels/traffic_img129_jpg.rf.bd1d734f644cd4fce04324e9fb588162.txt  \n",
            "  inflating: train/labels/traffic_img129_jpg.rf.cac94a8708b57241bbd0721a2aab6de9.txt  \n",
            "  inflating: train/labels/traffic_img12_jpg.rf.1e9ca98d8a22cb9c783260026cf967e8.txt  \n",
            "  inflating: train/labels/traffic_img12_jpg.rf.268a259da77f927019d2d8f0047c62ce.txt  \n",
            "  inflating: train/labels/traffic_img12_jpg.rf.b17df5459f202f9886a1d9d3442b77e4.txt  \n",
            "  inflating: train/labels/traffic_img12_jpg.rf.d2e40197fe9dca78f3a29c63ee955ce1.txt  \n",
            "  inflating: train/labels/traffic_img1313_jpg.rf.d9531bf1d90b24b83c65e6a448ca7505.txt  \n",
            "  inflating: train/labels/traffic_img1313_jpg.rf.fad94e96fb008ccae901d061e96b62f1.txt  \n",
            "  inflating: train/labels/traffic_img1343_jpg.rf.efaf2d4a72b5afe95f790b91f5a06b06.txt  \n",
            "  inflating: train/labels/traffic_img1346_jpg.rf.733a1adf83d2f288a83b67fb8d1bc234.txt  \n",
            "  inflating: train/labels/traffic_img1347_jpg.rf.1e16dc87eea058101a8b2f22299afb14.txt  \n",
            "  inflating: train/labels/traffic_img1349_jpg.rf.0467b19c2941fc3c87c89fd0a6f41a1f.txt  \n",
            "  inflating: train/labels/traffic_img1349_jpg.rf.1656fef874f94ae2f7bf83fbf88c5211.txt  \n",
            "  inflating: train/labels/traffic_img1359_jpg.rf.13fa41c41d5f4c95cf2856a96570e3ee.txt  \n",
            "  inflating: train/labels/traffic_img1359_jpg.rf.69776dd032de25b8b6b6375437d5c171.txt  \n",
            "  inflating: train/labels/traffic_img1371_jpg.rf.8c5fbd36a9fb6edd46dfb3bb60655749.txt  \n",
            "  inflating: train/labels/traffic_img1371_jpg.rf.f06f7a4d5ceef17beed36877964db277.txt  \n",
            "  inflating: train/labels/traffic_img1379_jpg.rf.2653bfe45c6ac654c3610e3524660e07.txt  \n",
            "  inflating: train/labels/traffic_img1379_jpg.rf.e56c110914d67b48c0806e9c8697752f.txt  \n",
            " extracting: train/labels/traffic_img1380_jpg.rf.a0422a88d44ad56f1c4892f5b3aa4ab8.txt  \n",
            " extracting: train/labels/traffic_img1380_jpg.rf.a91d6bd5d660b1f954016116c0fd50c3.txt  \n",
            " extracting: train/labels/traffic_img1380_jpg.rf.ba10d8f2dc58e3034cec17c9bb4a72ae.txt  \n",
            "  inflating: train/labels/traffic_img1390_jpg.rf.0bd4044f20c689dc9600e22cf3601a67.txt  \n",
            "  inflating: train/labels/traffic_img1390_jpg.rf.724d1a41f452294c98972baf2b9fc340.txt  \n",
            "  inflating: train/labels/traffic_img1390_jpg.rf.97d14b3c4211127a08e0281e93867b56.txt  \n",
            "  inflating: train/labels/traffic_img1391_jpg.rf.6e120f4e0bb95ae379dddf872b7aafa0.txt  \n",
            "  inflating: train/labels/traffic_img1391_jpg.rf.a1099fc21a765f12f147648dfa70ea5c.txt  \n",
            "  inflating: train/labels/traffic_img1391_jpg.rf.caaee48de37140e3c505584a2fcb1822.txt  \n",
            "  inflating: train/labels/traffic_img1392_jpg.rf.33898015333a462d3f87a6da2641daff.txt  \n",
            "  inflating: train/labels/traffic_img1392_jpg.rf.5568cc0dba7ccc61ec867e067e127aaa.txt  \n",
            "  inflating: train/labels/traffic_img1392_jpg.rf.96b530df9139366d24956e29ccf91e29.txt  \n",
            "  inflating: train/labels/traffic_img1393_jpg.rf.16ab976e76ff185e40b2db0b829285c7.txt  \n",
            "  inflating: train/labels/traffic_img1393_jpg.rf.3be70ec84db53f176580bab03c059afc.txt  \n",
            "  inflating: train/labels/traffic_img1393_jpg.rf.6d23fb01c20b1338071896d80f4d2215.txt  \n",
            "  inflating: train/labels/traffic_img13_jpg.rf.132b8ce2f6f79b81b8435e9d0cf59b69.txt  \n",
            "  inflating: train/labels/traffic_img13_jpg.rf.e3b8fdf9d863dce5d4cd1ad103269f24.txt  \n",
            "  inflating: train/labels/traffic_img1436_jpg.rf.75d5070063bf171716fe7f7dc918d723.txt  \n",
            "  inflating: train/labels/traffic_img1441_jpg.rf.6446093892f474df5a2522f480604d7f.txt  \n",
            "  inflating: train/labels/traffic_img1442_jpg.rf.2d7b786ecc820eff6b22b3ba2a48dcf6.txt  \n",
            "  inflating: train/labels/traffic_img1442_jpg.rf.b56edde29f7112919bec8b09e73a2571.txt  \n",
            "  inflating: train/labels/traffic_img1464_jpg.rf.5fe4d8040ce105b4f032c3e694c3e33a.txt  \n",
            "  inflating: train/labels/traffic_img1464_jpg.rf.79cb460e142f19a4f8ae9eb964d2b241.txt  \n",
            "  inflating: train/labels/traffic_img1466_jpg.rf.1f85b16b1ab4460c2d9537aa895109a2.txt  \n",
            "  inflating: train/labels/traffic_img1466_jpg.rf.aabd18fc3b5c6d2ea5ddc67e6cbb8442.txt  \n",
            "  inflating: train/labels/traffic_img146_jpg.rf.38bf5e41687db05d81046b6946b5d0cb.txt  \n",
            "  inflating: train/labels/traffic_img147_jpg.rf.692017e214a8330d8b581e9b59a34e3b.txt  \n",
            "  inflating: train/labels/traffic_img147_jpg.rf.cbc4ea148a2aea4f85cb01fcfc6657a6.txt  \n",
            "  inflating: train/labels/traffic_img14_jpg.rf.c24da81fb9b5b4aad9fcb574ea5b3cb4.txt  \n",
            "  inflating: train/labels/traffic_img14_jpg.rf.e607c9448f53682f0fde67b984ced0af.txt  \n",
            "  inflating: train/labels/traffic_img1527_jpg.rf.3f4a5786c27289e66593bb6a80a5e098.txt  \n",
            "  inflating: train/labels/traffic_img1551_jpg.rf.a4343f7618efb556d67c043a9a3adada.txt  \n",
            " extracting: train/labels/traffic_img1552_jpg.rf.c4bbb9f0649c406e8e6b33f9ec195f58.txt  \n",
            "  inflating: train/labels/traffic_img1565_jpg.rf.353697fef7c6038de22046afd410df21.txt  \n",
            "  inflating: train/labels/traffic_img1565_jpg.rf.7b0d623a18a07cbc8ef6e5494a1e4e02.txt  \n",
            "  inflating: train/labels/traffic_img1579_jpg.rf.b823dde66bf4e3d587f2de9c9ac2d77d.txt  \n",
            "  inflating: train/labels/traffic_img1590_jpg.rf.31567d05fff5634c3271cd2ffb780e2f.txt  \n",
            "  inflating: train/labels/traffic_img1595_jpg.rf.24ae99df717599a22cbf91a8f9dfc725.txt  \n",
            "  inflating: train/labels/traffic_img1657_jpg.rf.1d7a516f7590993b96c97707641d5a01.txt  \n",
            "  inflating: train/labels/traffic_img1657_jpg.rf.7dd764898e4a44e9bf596b6403ff80e6.txt  \n",
            "  inflating: train/labels/traffic_img1672_jpg.rf.f2fe7736f4ff64a65ea8737e07ff11a8.txt  \n",
            "  inflating: train/labels/traffic_img16_jpg.rf.2e5484154a8d2153f0a7e2183c569288.txt  \n",
            " extracting: train/labels/traffic_img1716_jpg.rf.4f221563a8107d1edb34f360afdd23c0.txt  \n",
            " extracting: train/labels/traffic_img1716_jpg.rf.d89b286c7c5ab4e23a4f2d01808f3ccc.txt  \n",
            "  inflating: train/labels/traffic_img1739_jpg.rf.2fcbe734ec0ff39795779be8d0e98974.txt  \n",
            "  inflating: train/labels/traffic_img1753_jpg.rf.73af03b537aca7c368e89a5cf7d61341.txt  \n",
            "  inflating: train/labels/traffic_img1765_jpg.rf.951ad439064421843a1da0711b8ca399.txt  \n",
            "  inflating: train/labels/traffic_img1768_jpg.rf.ce2f3dfeaf52643040e38030f36d571e.txt  \n",
            "  inflating: train/labels/traffic_img1769_jpg.rf.1d03ca49b3c3daa21a1a9c041086418f.txt  \n",
            "  inflating: train/labels/traffic_img1780_jpg.rf.7b9c41a592f67cb9b9bc1095fd67c5b8.txt  \n",
            "  inflating: train/labels/traffic_img1780_jpg.rf.c4cd8646667443aae822d3a82e433c3b.txt  \n",
            " extracting: train/labels/traffic_img17_jpg.rf.a28be19bb114a3a970304f84357c23b5.txt  \n",
            "  inflating: train/labels/traffic_img1803_jpg.rf.5f877a38586715e3ea95263cd7749946.txt  \n",
            "  inflating: train/labels/traffic_img1804_jpg.rf.37c22da4a7555a486ad5ec33058b1d75.txt  \n",
            "  inflating: train/labels/traffic_img1804_jpg.rf.55bb6292a3af65b5155a639a8450302a.txt  \n",
            "  inflating: train/labels/traffic_img1807_jpg.rf.6e5dea3b5789a94d445f7b402ce67129.txt  \n",
            "  inflating: train/labels/traffic_img1810_jpg.rf.4fa6cfc3d0fa7f6bc4810cd7420f492f.txt  \n",
            "  inflating: train/labels/traffic_img1811_jpg.rf.0e7aba685f7bae12706ad534ecd5b850.txt  \n",
            "  inflating: train/labels/traffic_img1815_jpg.rf.38a845336c88c1f7ff9890046429bf33.txt  \n",
            "  inflating: train/labels/traffic_img1815_jpg.rf.ba70620f75f7d8d33ee3164f8e055463.txt  \n",
            "  inflating: train/labels/traffic_img1817_jpg.rf.71893ec50c55767d580fd49f484ad672.txt  \n",
            "  inflating: train/labels/traffic_img1817_jpg.rf.de58247a9d06aec86a0fd14067e0e078.txt  \n",
            "  inflating: train/labels/traffic_img1818_jpg.rf.5b881eac187c64f6e35b6d4c91b9a181.txt  \n",
            "  inflating: train/labels/traffic_img1818_jpg.rf.7a3d0af4073d3ea005c390121ea859e6.txt  \n",
            "  inflating: train/labels/traffic_img1834_jpg.rf.01d39df1838710feb4e92554e1510134.txt  \n",
            "  inflating: train/labels/traffic_img1834_jpg.rf.dc4acb6296801f4c4ab50c88cc9a893c.txt  \n",
            "  inflating: train/labels/traffic_img1838_jpg.rf.a16c88d6fd13a14aef35ad1588999368.txt  \n",
            " extracting: train/labels/traffic_img1851_jpg.rf.0f8ac5ee6206db3e8d2115c41f5931bd.txt  \n",
            " extracting: train/labels/traffic_img1851_jpg.rf.a3220ba827c97e5ab883a9fefd062752.txt  \n",
            "  inflating: train/labels/traffic_img1852_jpg.rf.e1abde7756c404711a1dd3557c12d9a8.txt  \n",
            "  inflating: train/labels/traffic_img1852_jpg.rf.f27589a9c37bc4d71762db962a1af158.txt  \n",
            "  inflating: train/labels/traffic_img1853_jpg.rf.933e202a3cdab0199ea19cb12d84d53b.txt  \n",
            "  inflating: train/labels/traffic_img1853_jpg.rf.a9ea8d12b4dcae3ec7de3874ad4a744f.txt  \n",
            "  inflating: train/labels/traffic_img1854_jpg.rf.56ae6af516a986e6fd97383830af545c.txt  \n",
            "  inflating: train/labels/traffic_img1854_jpg.rf.b0acaacb68a96d67cc0fabc2a15fd80d.txt  \n",
            "  inflating: train/labels/traffic_img1855_jpg.rf.e1c7f48aa82d87fbe37559c25a96f08c.txt  \n",
            "  inflating: train/labels/traffic_img1884_jpg.rf.e0059075be7ec5f14252507281b96ad8.txt  \n",
            "  inflating: train/labels/traffic_img1885_jpg.rf.b2b55d351f8be46133ee11fb7aaa3525.txt  \n",
            "  inflating: train/labels/traffic_img1886_jpg.rf.a7fddeb1500787db450683d472a3ead7.txt  \n",
            "  inflating: train/labels/traffic_img1886_jpg.rf.b07707fe9343d586c4692151e26d8259.txt  \n",
            "  inflating: train/labels/traffic_img1887_jpg.rf.111767fd348f6de4402f4c4a195da94c.txt  \n",
            " extracting: train/labels/traffic_img1894_jpg.rf.66c7db98e7aff04e8fda833d52c5c539.txt  \n",
            " extracting: train/labels/traffic_img1894_jpg.rf.f31f06bae21c892fc3af6976f1804269.txt  \n",
            "  inflating: train/labels/traffic_img190_jpg.rf.3bebaae4a5780700f2862e6c90368778.txt  \n",
            "  inflating: train/labels/traffic_img190_jpg.rf.e474c4c56cc6b0ecdaee9572328a58bd.txt  \n",
            "  inflating: train/labels/traffic_img1919_jpg.rf.0253282789dcf112ba48cfacb43dc24a.txt  \n",
            "  inflating: train/labels/traffic_img1919_jpg.rf.46dede4a4c5b44b006e4888b5baea64c.txt  \n",
            "  inflating: train/labels/traffic_img1920_jpg.rf.8da0d1d554159f9d960bbb5d76438815.txt  \n",
            "  inflating: train/labels/traffic_img1920_jpg.rf.8e5fae07683d59780c46bf166bc4eef7.txt  \n",
            "  inflating: train/labels/traffic_img1932_jpg.rf.fd2111627f98aea72abb62efea186848.txt  \n",
            "  inflating: train/labels/traffic_img202_jpg.rf.aff8ad3e37596910cf796a9c5c23602a.txt  \n",
            "  inflating: train/labels/traffic_img202_jpg.rf.ec92d53b11805ac1d66472fcbd7979cc.txt  \n",
            "  inflating: train/labels/traffic_img2093_jpg.rf.a587750d6a7b4abc6d418394a7a54623.txt  \n",
            "  inflating: train/labels/traffic_img2094_jpg.rf.27d895cf69ea0fd2d148fd2e3dbf8df0.txt  \n",
            "  inflating: train/labels/traffic_img2094_jpg.rf.b764328298bac3e2e66b0b0878a455e6.txt  \n",
            "  inflating: train/labels/traffic_img2115_jpg.rf.a02347dd3d01ca3d570a857642fc8de5.txt  \n",
            " extracting: train/labels/traffic_img2116_jpg.rf.c4c597ac756f94f5ce1e07b6f09bd631.txt  \n",
            "  inflating: train/labels/traffic_img2117_jpg.rf.74d6ffc0f5a3111dcca30de1a4919aa4.txt  \n",
            "  inflating: train/labels/traffic_img2117_jpg.rf.8b97c0b4b97e70fcd907816806bf1ca4.txt  \n",
            " extracting: train/labels/traffic_img2121_jpg.rf.d3b32823adbf7d250f33726209ad9314.txt  \n",
            "  inflating: train/labels/traffic_img2122_jpg.rf.5175d6531fa92b0e609141e1672436ae.txt  \n",
            "  inflating: train/labels/traffic_img2124_jpg.rf.3dcae80d998f76f419104d7763df0e21.txt  \n",
            "  inflating: train/labels/traffic_img2124_jpg.rf.c3292e5a605bc1973de37fa3cfe760ea.txt  \n",
            "  inflating: train/labels/traffic_img21_jpg.rf.c61900150e20e9840e4d55d2a36a8a16.txt  \n",
            "  inflating: train/labels/traffic_img21_jpg.rf.dccea07449885f2f4fda6b293968f1dc.txt  \n",
            "  inflating: train/labels/traffic_img222_jpg.rf.1e8111aea114aae4445578e300f136ea.txt  \n",
            "  inflating: train/labels/traffic_img222_jpg.rf.7aadc8a736952128924716713b3df2d6.txt  \n",
            "  inflating: train/labels/traffic_img223_jpg.rf.08611527587531c4b32c1d517b955187.txt  \n",
            "  inflating: train/labels/traffic_img223_jpg.rf.f7438551e1da45e1877f1df6454db4d2.txt  \n",
            "  inflating: train/labels/traffic_img224_jpg.rf.2c514f067a0ca3574dc32c050e1c0577.txt  \n",
            "  inflating: train/labels/traffic_img228_jpg.rf.eec52c0212336e9cc905633c41b47df0.txt  \n",
            "  inflating: train/labels/traffic_img228_jpg.rf.f619df43ddcb1a700b189fb5f4a0b601.txt  \n",
            "  inflating: train/labels/traffic_img22_jpg.rf.bfed0cb1996a94574ccbb2de9541d4a0.txt  \n",
            "  inflating: train/labels/traffic_img239_jpg.rf.4d31cae75319bb5d416972b069941d6c.txt  \n",
            "  inflating: train/labels/traffic_img239_jpg.rf.59d8dff3289823dbb17abf598621a506.txt  \n",
            "  inflating: train/labels/traffic_img23_jpg.rf.8549679e44668d0db304b240298151e8.txt  \n",
            "  inflating: train/labels/traffic_img23_jpg.rf.c8fa96ae016dc9dd716db84fbd438e86.txt  \n",
            "  inflating: train/labels/traffic_img26_jpg.rf.2d71e545c75d39273f7e688701700cf1.txt  \n",
            "  inflating: train/labels/traffic_img26_jpg.rf.45620a7a19819f8f5566b63c6f58500f.txt  \n",
            "  inflating: train/labels/traffic_img283_jpg.rf.488ef661fc39747a711abfff91e09692.txt  \n",
            "  inflating: train/labels/traffic_img283_jpg.rf.9e0548fbeb2bc718fd255e04706efc3f.txt  \n",
            "  inflating: train/labels/traffic_img288_jpg.rf.2b3edba74b48693703e413f49fa6f401.txt  \n",
            "  inflating: train/labels/traffic_img292_jpg.rf.e7668053ea6ae31150e6a357ec61ad04.txt  \n",
            "  inflating: train/labels/traffic_img299_jpg.rf.8130dd3940f5508fd5c32728952a8dc1.txt  \n",
            " extracting: train/labels/traffic_img331_jpg.rf.06000f60ee8a12334efe6a83853334a7.txt  \n",
            " extracting: train/labels/traffic_img331_jpg.rf.aeca1243d381dccf0b47757a549ebf63.txt  \n",
            "  inflating: train/labels/traffic_img332_jpg.rf.a4351c02ac43aa33ca5e3e0393daa573.txt  \n",
            "  inflating: train/labels/traffic_img333_jpg.rf.44f70022361450a8dbd8eaa7f37291a9.txt  \n",
            "  inflating: train/labels/traffic_img333_jpg.rf.71fcfb5ab5762db37a6e09aa7e789ba8.txt  \n",
            "  inflating: train/labels/traffic_img335_jpg.rf.a66bedf956a5afacd2b81fe77671357e.txt  \n",
            "  inflating: train/labels/traffic_img338_jpg.rf.d30dc11aace4f77d25727bdffd72e2a1.txt  \n",
            "  inflating: train/labels/traffic_img338_jpg.rf.e9940c358d38502c43f2a77f62c25654.txt  \n",
            "  inflating: train/labels/traffic_img341_jpg.rf.28273d3295ea9daabf2b4f1b2f2a88d4.txt  \n",
            "  inflating: train/labels/traffic_img341_jpg.rf.814845e2cb0d0512c6b462ecd9796cde.txt  \n",
            "  inflating: train/labels/traffic_img343_jpg.rf.d9ce1ad457cbe03eb0edfd33a499df98.txt  \n",
            "  inflating: train/labels/traffic_img344_jpg.rf.cb6653aa6167f26c9c7e1a03b52be18c.txt  \n",
            "  inflating: train/labels/traffic_img344_jpg.rf.f688ab2a94df0e92a505dcae2f57b84b.txt  \n",
            "  inflating: train/labels/traffic_img355_jpg.rf.50b6504b0d2ebbdd8068c8031af2bae5.txt  \n",
            "  inflating: train/labels/traffic_img355_jpg.rf.a6b315a81eaa3473eda45fc00be4675f.txt  \n",
            " extracting: train/labels/traffic_img378_jpg.rf.978439a2629d34529315d416c92f47ff.txt  \n",
            " extracting: train/labels/traffic_img378_jpg.rf.d565c483cc0fea04b7decc06f71b6129.txt  \n",
            "  inflating: train/labels/traffic_img381_jpg.rf.ac3251e294e97f1b615a90fa0ef300e8.txt  \n",
            "  inflating: train/labels/traffic_img381_jpg.rf.b3f2479d7e1726e09b9829de7bd9b0b4.txt  \n",
            "  inflating: train/labels/traffic_img398_jpg.rf.287248b722a77e64bdd14738722109de.txt  \n",
            "  inflating: train/labels/traffic_img398_jpg.rf.c6fd55425d53bd8df0ea8b0c8df1fad5.txt  \n",
            "  inflating: train/labels/traffic_img402_jpg.rf.bd0f6d527311856d6e7e2efef06c6291.txt  \n",
            "  inflating: train/labels/traffic_img402_jpg.rf.fd0be2a9e87a42284d62287d626b3109.txt  \n",
            "  inflating: train/labels/traffic_img403_jpg.rf.6fdcb1144105ce88bfe23494825f4ef0.txt  \n",
            "  inflating: train/labels/traffic_img403_jpg.rf.f95d9cc76fead99dbe485254e72e93f4.txt  \n",
            "  inflating: train/labels/traffic_img425_jpg.rf.410d14f4f8a80eeb42ac3106d867f500.txt  \n",
            "  inflating: train/labels/traffic_img437_jpg.rf.b462aa5002aff6c1b2fa894ea1c14316.txt  \n",
            "  inflating: train/labels/traffic_img437_jpg.rf.f33d2b55d3ff58de0668b82282f07ad5.txt  \n",
            "  inflating: train/labels/traffic_img447_jpg.rf.7923919ece2b69871f2e4659a4361802.txt  \n",
            "  inflating: train/labels/traffic_img455_jpg.rf.cf5d13e6cd1c408773addfabc650a429.txt  \n",
            "  inflating: train/labels/traffic_img455_jpg.rf.fce3ef07a8f96ef5ee917f98c0c6a5c1.txt  \n",
            "  inflating: train/labels/traffic_img456_jpg.rf.a70c795a0f68819ede965f2ca0bc7d69.txt  \n",
            "  inflating: train/labels/traffic_img456_jpg.rf.f743ed10ad9d0e9136c1dc0a0516ea91.txt  \n",
            "  inflating: train/labels/traffic_img45_jpg.rf.5e54db6e6317035e3747adada764a688.txt  \n",
            "  inflating: train/labels/traffic_img45_jpg.rf.6148be573aeebf73a54bca810e9ac950.txt  \n",
            "  inflating: train/labels/traffic_img476_jpg.rf.4206aa03d42d76b2c1c41fcafd01be10.txt  \n",
            "  inflating: train/labels/traffic_img477_jpg.rf.ff88dfeb6eb538794a0cd417ac3d3dce.txt  \n",
            "  inflating: train/labels/traffic_img478_jpg.rf.485f3bbcaca6b3d4d90208cf4c55800a.txt  \n",
            "  inflating: train/labels/traffic_img478_jpg.rf.6a487301ac2a805106b5317f43fe4fcf.txt  \n",
            " extracting: train/labels/traffic_img482_jpg.rf.63cf6eff6d5a7694841b8092370b15c1.txt  \n",
            " extracting: train/labels/traffic_img482_jpg.rf.a3afb1e6ecfc3c05825f359f906383c6.txt  \n",
            "  inflating: train/labels/traffic_img497_jpg.rf.9c0c61d005acd0978fa6dc07fcdc0b53.txt  \n",
            "  inflating: train/labels/traffic_img503_jpg.rf.53465b072c7414903708b081a2455572.txt  \n",
            "  inflating: train/labels/traffic_img508_jpg.rf.38fe46fe110bce5022d29c3dfe91f26b.txt  \n",
            "  inflating: train/labels/traffic_img515_jpg.rf.74ef1a6b831b48960d0f6f5658eff310.txt  \n",
            "  inflating: train/labels/traffic_img515_jpg.rf.c90c14b1c711eb161001932830600640.txt  \n",
            "  inflating: train/labels/traffic_img51_jpg.rf.bf80ce804223fc17a89099672f1063d0.txt  \n",
            "  inflating: train/labels/traffic_img51_jpg.rf.d6203f87fedae91062455d871ac867fc.txt  \n",
            "  inflating: train/labels/traffic_img52_jpg.rf.761468a5941c91ccca59c0ad784a402a.txt  \n",
            "  inflating: train/labels/traffic_img52_jpg.rf.ddcce037a1081dd5a089abe394bde7f5.txt  \n",
            "  inflating: train/labels/traffic_img531_jpg.rf.11acf9241d58c515c1d2524c77fb3f2b.txt  \n",
            "  inflating: train/labels/traffic_img531_jpg.rf.3535c26c24b83725470812dc3e83bb15.txt  \n",
            "  inflating: train/labels/traffic_img533_jpg.rf.c4bc42dd19e789f23d70c24c75524ddc.txt  \n",
            "  inflating: train/labels/traffic_img533_jpg.rf.cbb1b96c4d5d08d04ed8554f1019fea9.txt  \n",
            "  inflating: train/labels/traffic_img53_jpg.rf.9df7eddc8357de2c884f5c4254fd42a5.txt  \n",
            "  inflating: train/labels/traffic_img53_jpg.rf.d7f539c9388950e8581df8dbfae20096.txt  \n",
            "  inflating: train/labels/traffic_img558_jpg.rf.052f247290249e007b5391e2b194e32e.txt  \n",
            "  inflating: train/labels/traffic_img558_jpg.rf.c4c4e0b87510f2ce0822f03211f52024.txt  \n",
            "  inflating: train/labels/traffic_img55_jpg.rf.02307437f1b49bc9b9e9d1b61032c861.txt  \n",
            "  inflating: train/labels/traffic_img55_jpg.rf.bcec5f939deb63dfca7c96e3c9246908.txt  \n",
            "  inflating: train/labels/traffic_img567_jpg.rf.3b3ed02b2ac409765f2c2e163ceb9550.txt  \n",
            "  inflating: train/labels/traffic_img567_jpg.rf.7778551300e246f7908207ac7ba63b63.txt  \n",
            "  inflating: train/labels/traffic_img56_jpg.rf.2ebe194688aad277a0744b0cf81787e1.txt  \n",
            "  inflating: train/labels/traffic_img57_jpg.rf.1a084589086ec7db333ae3f75aa74f36.txt  \n",
            "  inflating: train/labels/traffic_img57_jpg.rf.3d0e4d006fb9cdb044bc3f684be2bb75.txt  \n",
            "  inflating: train/labels/traffic_img586_jpg.rf.d554e2b65646bffc3d08f347acabac41.txt  \n",
            "  inflating: train/labels/traffic_img58_jpg.rf.046b67bff6d563d46ab6525af9084dac.txt  \n",
            "  inflating: train/labels/traffic_img58_jpg.rf.99234634528f681b10da4a42fd24f704.txt  \n",
            "  inflating: train/labels/traffic_img59_jpg.rf.70ab66e7bb74609a6b50af88188c2fc2.txt  \n",
            "  inflating: train/labels/traffic_img59_jpg.rf.b4f066aa85cacb1bc00700c79a30824c.txt  \n",
            "  inflating: train/labels/traffic_img607_jpg.rf.addbe37d63cc8c2080b42284098aca89.txt  \n",
            "  inflating: train/labels/traffic_img61_jpg.rf.28acfc1de3247e4a6044866756701f68.txt  \n",
            "  inflating: train/labels/traffic_img61_jpg.rf.31d491ee6fb3975dddcde6c6dc8ec480.txt  \n",
            "  inflating: train/labels/traffic_img620_jpg.rf.7a935ddfd6eb0f7616d948f2671bbd19.txt  \n",
            "  inflating: train/labels/traffic_img620_jpg.rf.8f7e292251d93007613b7b3040aa9dc6.txt  \n",
            " extracting: train/labels/traffic_img62_jpg.rf.02acd16c41f1b7683c291da472cc0029.txt  \n",
            " extracting: train/labels/traffic_img62_jpg.rf.05ce15441e3c0b0b0e60da472b00b11d.txt  \n",
            "  inflating: train/labels/traffic_img648_jpg.rf.421d1dce3b7b00333d2a97fac7e9ed0f.txt  \n",
            "  inflating: train/labels/traffic_img648_jpg.rf.9b2af6e6f0eb77954ca64665d8213a5f.txt  \n",
            "  inflating: train/labels/traffic_img649_jpg.rf.c23ef744bc0fab5825a812e71916d374.txt  \n",
            "  inflating: train/labels/traffic_img655_jpg.rf.c77bf2414357d83fcbb4a0e7c777559c.txt  \n",
            "  inflating: train/labels/traffic_img655_jpg.rf.d43460f4c6f7ea02b363a82c51e8d5ec.txt  \n",
            " extracting: train/labels/traffic_img665_jpg.rf.7d17693496543d71f3b441c8cbde200f.txt  \n",
            " extracting: train/labels/traffic_img665_jpg.rf.d34016566a387b3eae1ccc211329efd7.txt  \n",
            "  inflating: train/labels/traffic_img67_jpg.rf.7ffb086f32219ab497f592a383d1590a.txt  \n",
            "  inflating: train/labels/traffic_img691_jpg.rf.57343865981e725e5aadcf804dcadc17.txt  \n",
            "  inflating: train/labels/traffic_img691_jpg.rf.950680014b95abe8babb1fd7143e7372.txt  \n",
            "  inflating: train/labels/traffic_img692_jpg.rf.495aa679289c515c08e54edf0deb5743.txt  \n",
            "  inflating: train/labels/traffic_img692_jpg.rf.c8bf3aa9c97b1a70d0c7d0df38bf5fb2.txt  \n",
            "  inflating: train/labels/traffic_img6_jpg.rf.008a432c5955eab740b3f1e899c21a50.txt  \n",
            "  inflating: train/labels/traffic_img6_jpg.rf.a4a2964a898a908169d1671fc8150fbf.txt  \n",
            "  inflating: train/labels/traffic_img71_jpg.rf.f4e74a9fb1ddedcd3d4a7f55075a0dfb.txt  \n",
            "  inflating: train/labels/traffic_img728_jpg.rf.0d703dcfb8fc1a9d29589f5e7009c1e1.txt  \n",
            "  inflating: train/labels/traffic_img728_jpg.rf.a8e019564d99e46a2a711b641c4b12be.txt  \n",
            "  inflating: train/labels/traffic_img72_jpg.rf.0d6b8c5c43cfaad6098d9f16c79376b6.txt  \n",
            "  inflating: train/labels/traffic_img72_jpg.rf.f714594fa33c764586e5c4909cb9d955.txt  \n",
            " extracting: train/labels/traffic_img73_jpg.rf.73ba62b5bc296b59a4d6d09e4f900873.txt  \n",
            " extracting: train/labels/traffic_img73_jpg.rf.81023618bdd24464522b8f54aaa39d91.txt  \n",
            "  inflating: train/labels/traffic_img741_jpg.rf.39a520df7e249716b57a4627745d2a9b.txt  \n",
            "  inflating: train/labels/traffic_img756_jpg.rf.301e3c5048c66db6ec6a052142f67731.txt  \n",
            "  inflating: train/labels/traffic_img757_jpg.rf.68e68c67fc17c7aca232a7e294d2e4b1.txt  \n",
            "  inflating: train/labels/traffic_img757_jpg.rf.a297318ed3ac6e27d04bdc1d89d8903d.txt  \n",
            " extracting: train/labels/traffic_img767_jpg.rf.4329173c2168609f7210aedd0c997e68.txt  \n",
            "  inflating: train/labels/traffic_img779_jpg.rf.86d417b28283ad5137e14a0a19d741f3.txt  \n",
            "  inflating: train/labels/traffic_img779_jpg.rf.b8250f592e652286a550c3617f6082f3.txt  \n",
            "  inflating: train/labels/traffic_img780_jpg.rf.b3bdac40c655a684968d158df7611f96.txt  \n",
            "  inflating: train/labels/traffic_img782_jpg.rf.128f9df887c53c1352f1d74f971eca7e.txt  \n",
            "  inflating: train/labels/traffic_img782_jpg.rf.60c420e3fb606a37008570d60820c360.txt  \n",
            "  inflating: train/labels/traffic_img783_jpg.rf.7a2c7c2d29109041bb2c61227b8f1f65.txt  \n",
            "  inflating: train/labels/traffic_img783_jpg.rf.814ac9b375311a11abe376f7ccec5daa.txt  \n",
            "  inflating: train/labels/traffic_img783_jpg.rf.d20f767bc4fd7ad1bb65f49fce1aba52.txt  \n",
            "  inflating: train/labels/traffic_img783_jpg.rf.e8cf7aaac407330cd53ae375f31fb9bb.txt  \n",
            "  inflating: train/labels/traffic_img795_jpg.rf.496dc041b4c043cf994dea42e396db00.txt  \n",
            "  inflating: train/labels/traffic_img795_jpg.rf.dae3409009ceed328c5a75ff9e7641a8.txt  \n",
            "  inflating: train/labels/traffic_img801_jpg.rf.40ea97632809e565aeb7bc1a50041089.txt  \n",
            "  inflating: train/labels/traffic_img801_jpg.rf.a937a6110a634d72667f02de187cb7ca.txt  \n",
            "  inflating: train/labels/traffic_img801_jpg.rf.bbae96e7162e702ba4196341fbc5b554.txt  \n",
            "  inflating: train/labels/traffic_img803_jpg.rf.6a82cd048a6713dd55a98b9d1597ea79.txt  \n",
            "  inflating: train/labels/traffic_img803_jpg.rf.c68eeefd6c066924087bbac5c856e1ec.txt  \n",
            "  inflating: train/labels/traffic_img804_jpg.rf.5eeec5cad7aa3051c5bc0207166e6114.txt  \n",
            "  inflating: train/labels/traffic_img805_jpg.rf.61ae6eb7ea9c265d49eb065ca69f4788.txt  \n",
            "  inflating: train/labels/traffic_img805_jpg.rf.7a775e9510a74ebb9f381aa135743f88.txt  \n",
            " extracting: train/labels/traffic_img820_jpg.rf.5f807912c8e28da437709f24e39a2b8e.txt  \n",
            "  inflating: train/labels/traffic_img828_jpg.rf.8d04f43b96cbbc9e075f2d9a45aa883c.txt  \n",
            "  inflating: train/labels/traffic_img828_jpg.rf.d05960e36215476c8144cb53003f9c37.txt  \n",
            "  inflating: train/labels/traffic_img829_jpg.rf.04f2b174e28714bb539591346da2dded.txt  \n",
            "  inflating: train/labels/traffic_img829_jpg.rf.a441f4f1c2d74914b3c1c74c537da60a.txt  \n",
            "  inflating: train/labels/traffic_img83_jpg.rf.a9a31d267b94da0938d9452812c21b4b.txt  \n",
            "  inflating: train/labels/traffic_img84_jpg.rf.6b79260237deba1b9cae6d160391031a.txt  \n",
            "  inflating: train/labels/traffic_img84_jpg.rf.908680ada70d9c1d218cb8420f891d80.txt  \n",
            "  inflating: train/labels/traffic_img852_jpg.rf.700e19ab7b02b773b68b8a9c95fc7e08.txt  \n",
            "  inflating: train/labels/traffic_img852_jpg.rf.c4e437ef0aacf4eb0fb517fa4ea58d00.txt  \n",
            " extracting: train/labels/traffic_img879_jpg.rf.1ddbd329a19152cd4f3793fd0058a06c.txt  \n",
            " extracting: train/labels/traffic_img879_jpg.rf.41ca45ea25bd3c3570b28993a067ee8e.txt  \n",
            " extracting: train/labels/traffic_img879_jpg.rf.4b9802ff02e3a2d611f5ea7f67af27b9.txt  \n",
            " extracting: train/labels/traffic_img879_jpg.rf.5f80d3f479a186c5bc36a0db9675d544.txt  \n",
            " extracting: train/labels/traffic_img8_jpg.rf.ccfcde0f9832bf6a5d858b5127fba527.txt  \n",
            " extracting: train/labels/traffic_img8_jpg.rf.f38fa454bd0fdc78020f0efac8f4f61d.txt  \n",
            "  inflating: train/labels/traffic_img932_jpg.rf.138cfd8827c70b5a0ddf86439422d94b.txt  \n",
            "  inflating: train/labels/traffic_img932_jpg.rf.652c989ed82c0573ecd808b4b71bd495.txt  \n",
            "  inflating: train/labels/traffic_img943_jpg.rf.684eaa570f9f299defcbc3bbfa72c45f.txt  \n",
            "  inflating: train/labels/traffic_img943_jpg.rf.79da3cc23ff2af9626080e9487f33ea2.txt  \n",
            "  inflating: train/labels/traffic_img943_jpg.rf.94dc6b5acb9ade39565bd7bd8b8ea727.txt  \n",
            "  inflating: train/labels/traffic_img943_jpg.rf.e1cf512d2d74515833bc7ba55f95af90.txt  \n",
            "  inflating: train/labels/traffic_img949_jpg.rf.2a144af2a3697a3389eaf0d674966ad4.txt  \n",
            "  inflating: train/labels/traffic_img950_jpg.rf.6846d13e3fce9db7bc809c737b9d814f.txt  \n",
            "  inflating: train/labels/traffic_img953_jpg.rf.90ab20948455c86aba121da143f0b3c0.txt  \n",
            " extracting: train/labels/traffic_img988_jpg.rf.043fc37a9320c0cbbdd62cff37c6e2ed.txt  \n",
            " extracting: train/labels/traffic_img988_jpg.rf.a3675d1dda0a3e6dde80b7fdec2e4f07.txt  \n",
            " extracting: train/labels/traffic_img991_jpg.rf.47eadbb4959f80a5566824be72bcea76.txt  \n",
            "  inflating: train/labels/traffic_img993_jpg.rf.9a9d7b4fdd4176eaff0bc16e9eed6c21.txt  \n",
            "  inflating: train/labels/traffic_img993_jpg.rf.9bea3560d1fbe3f518f420e632d25e14.txt  \n",
            "  inflating: train/labels/traffic_img99_jpg.rf.076c5e52b7dd0e8c78cab59b400c1572.txt  \n",
            "  inflating: train/labels/traffic_img99_jpg.rf.1fc43fbeee490c7e38876aee7e61bb36.txt  \n",
            " extracting: train/labels/traffic_img9_jpg.rf.35408d6b47808576d9e9675af10538b7.txt  \n",
            " extracting: train/labels/traffic_img9_jpg.rf.40a7f637e0801121f90f7b531cb1afa3.txt  \n",
            "  inflating: train/labels/traffic_img9_jpg.rf.6cd964b984617905c0769ff52f8b7dc7.txt  \n",
            "  inflating: train/labels/traffic_img9_jpg.rf.c6b9d6c9f16bd9d54e5b1a8c8abb316e.txt  \n",
            "  inflating: train/labels/traffic_img9_jpg.rf.c987d0cf583ecad638526d7134dc1b89.txt  \n",
            "  inflating: train/labels/traffic_img9_jpg.rf.df9e6e3fee67386329c8ecb2f99c669e.txt  \n",
            " extracting: train/labels/tt1-v2_jpg.rf.108104beaa6b0a1d546833cc4a03312b.txt  \n",
            " extracting: train/labels/tt1-v2_jpg.rf.4e77cc7b25a34187796fec86a32dbd0b.txt  \n",
            " extracting: train/labels/tt1-v2_jpg.rf.787d05cdf01f8650210b04d6f9116b7f.txt  \n",
            " extracting: train/labels/tt1-v2_jpg.rf.be081a8ca8501ada822e31b701074f22.txt  \n",
            " extracting: train/labels/tt1-v4_jpg.rf.8a35892c64a76a69f8968b1d0add7d40.txt  \n",
            " extracting: train/labels/tt1-v4_jpg.rf.9fdcb0d325de018e1e6a58619a8b21ca.txt  \n",
            " extracting: train/labels/tt1-v4_jpg.rf.d102c4a4f7a48cfb3f8498bae39c32be.txt  \n",
            "  inflating: train/labels/tt1_png_jpg.rf.e1dd9cd1ffeb496f8f28e62df059edd9.txt  \n",
            "  inflating: train/labels/tt1_png_jpg.rf.e53dcdfc6c18147783a5dd222a0caa74.txt  \n",
            "  inflating: train/labels/tt1_png_jpg.rf.ea1fe99f223b3f032946810467469284.txt  \n",
            "  inflating: train/labels/tt3_png_jpg.rf.259b180ba55f51290ab7c6c6a658fe03.txt  \n",
            "  inflating: train/labels/tt3_png_jpg.rf.fefcdae89376082061f0817393118548.txt  \n",
            "  inflating: train/labels/vd100_jpeg_jpg.rf.e21adc4badc2ca3ff023dd92d4736103.txt  \n",
            "  inflating: train/labels/vd13_png_jpg.rf.ebeeaf36bb84899b4d4faef0932c9b7d.txt  \n",
            "   creating: valid/\n",
            "   creating: valid/images/\n",
            " extracting: valid/images/1-36_jpg.rf.f5550ae87e7457f3bb2e57ad9f85a0e2.jpg  \n",
            " extracting: valid/images/1080_jpeg_jpg.rf.23f94809ba9c52d71b727ca8c4805699.jpg  \n",
            " extracting: valid/images/1107_jpeg_jpg.rf.bbe0a6f9f83c2073ac33db90b2d2ed06.jpg  \n",
            " extracting: valid/images/1107_jpeg_jpg.rf.c8d530a2c77a3c96d4db7278acf969e8.jpg  \n",
            " extracting: valid/images/14-61_jpg.rf.920452375c7ed14b6eeb6e5ceba14079.jpg  \n",
            " extracting: valid/images/2-147_jpg.rf.2e2a343cbc5450717f9530175cdb54d8.jpg  \n",
            " extracting: valid/images/2-267_jpg.rf.9f406a9d92dce138039b8782047b7f53.jpg  \n",
            " extracting: valid/images/2-61_jpg.rf.c26df2df4d5c2da07254f4e8c7ccb596.jpg  \n",
            " extracting: valid/images/243_jpeg_jpg.rf.f18925923ec07dace81458191523c438.jpg  \n",
            " extracting: valid/images/4-10_jpg.rf.51c48673c93c292f3ce349c695d27d0f.jpg  \n",
            " extracting: valid/images/4-27_jpg.rf.683d5039b3f3923dd8237145a58e6317.jpg  \n",
            " extracting: valid/images/4026_jpeg_jpg.rf.f23ea7768aabcd7c17cabc52a54ebf7d.jpg  \n",
            " extracting: valid/images/4061_jpeg_jpg.rf.bb9c755ff9db39cfc5b1d8bda549738b.jpg  \n",
            " extracting: valid/images/5895211_013120-skyeye-garbage-truck-vid_jpg.rf.fbcc0e3f08a34b3e94883232163916ed.jpg  \n",
            " extracting: valid/images/760_jpeg_jpg.rf.74ce9e0efccfd0a57f7ac6f04643c291.jpg  \n",
            " extracting: valid/images/760_jpeg_jpg.rf.e32e264cee13189243f99f4816dae2d9.jpg  \n",
            " extracting: valid/images/793_jpeg_jpg.rf.7a2a804c3f848a5db0615a39dceb8697.jpg  \n",
            " extracting: valid/images/801_jpeg_jpg.rf.89f253d5e1c3738f009a90ce6d4e21b9.jpg  \n",
            " extracting: valid/images/803_jpeg_jpg.rf.6091d1a2b0095b5a427b63aaeb159e76.jpg  \n",
            " extracting: valid/images/806_jpeg_jpg.rf.dca06362543aeaa9e6ae7315c8208879.jpg  \n",
            " extracting: valid/images/809_jpeg_jpg.rf.912f9887d4f44cabd2f99bb961c3bfc4.jpg  \n",
            " extracting: valid/images/823_jpeg_jpg.rf.72b79700c9690e137d7c2c0ef8e39f2c.jpg  \n",
            " extracting: valid/images/823_jpeg_jpg.rf.7414d0a493de4d085a5a08bba71cf5d3.jpg  \n",
            " extracting: valid/images/829_jpeg_jpg.rf.0cdc534ebb7ecebbff2ced438f5dfa70.jpg  \n",
            " extracting: valid/images/839_jpeg_jpg.rf.23c2fd9c36d2eb30bb09af66e7e2de53.jpg  \n",
            " extracting: valid/images/905_jpeg_jpg.rf.79ed18e88f74731a67956642d9f54cd1.jpg  \n",
            " extracting: valid/images/905_jpeg_jpg.rf.ffb87135e07fc269d0c00d3abbe031d6.jpg  \n",
            " extracting: valid/images/909_jpeg_jpg.rf.b25d716516fb6a9d458bb4a30072f1cd.jpg  \n",
            " extracting: valid/images/946_jpeg_jpg.rf.bee8e50dd59bd885ae2529ee59c25af8.jpg  \n",
            " extracting: valid/images/971_jpeg_jpg.rf.cee2b9d44b3842eb9c0231dddb7c2360.jpg  \n",
            " extracting: valid/images/981_jpeg_jpg.rf.f12f4585e4733d82be1b4cbb6f007526.jpg  \n",
            " extracting: valid/images/9k_-8-_jpg.rf.6144758fb8f3da55019a36efd01df827.jpg  \n",
            " extracting: valid/images/Abu-Dhabi-accident-CCTV-_16d80b9b401_large_jpg.rf.a1a78cbc95a7cfcbe3cf74d9a57c7381.jpg  \n",
            " extracting: valid/images/Abu-Dhabi-accident-CCTV-_16d80b9b401_large_jpg.rf.f264568a6f09e38b14c1a10cf91eaf4b.jpg  \n",
            " extracting: valid/images/FLIP_CAR_V110_jpg.rf.331c278535ca584fa91821969f40a764.jpg  \n",
            " extracting: valid/images/FLIP_CAR_V110_jpg.rf.8b5cd8ba20a25914636b2400b473cf83.jpg  \n",
            " extracting: valid/images/FLIP_CAR_V111_jpg.rf.568ea24400727aa8cfd6402e0601ae0e.jpg  \n",
            " extracting: valid/images/FLIP_CAR_V112_jpg.rf.29ea7684bc449feca66f77ebd1bee5d4.jpg  \n",
            " extracting: valid/images/FLIP_CAR_V113_jpg.rf.c85a5d40efd0639129f1cef1ebab543f.jpg  \n",
            " extracting: valid/images/FLIP_CAR_V114_jpg.rf.168d48f5505a32f7e74128df1a16fae5.jpg  \n",
            " extracting: valid/images/FLIP_CAR_V114_jpg.rf.2d05ff9e8f5b9bb54c60f39c289b11b6.jpg  \n",
            " extracting: valid/images/FLIP_CAR_V115_jpg.rf.dadf7f16ee12eb472889014a3b67f22c.jpg  \n",
            " extracting: valid/images/FLIP_CAR_V115_jpg.rf.edc7df71c6a7c73ff16ee942e8591417.jpg  \n",
            " extracting: valid/images/FLIP_CAR_V116_jpg.rf.0ae40bb4e91675ea8b9bcf4619658667.jpg  \n",
            " extracting: valid/images/FLIP_CAR_V116_jpg.rf.cbe845dbd981d39305ab5fa98c9da9bf.jpg  \n",
            " extracting: valid/images/FLIP_CAR_V116_jpg.rf.e8ed238092dd0c57290d64299e3029dd.jpg  \n",
            " extracting: valid/images/FLIP_CAR_V117_jpg.rf.598cba6a23853815c01253a140493fbc.jpg  \n",
            " extracting: valid/images/FLIP_CAR_V117_jpg.rf.acd38e376a9884d90c65d4a68c5f2436.jpg  \n",
            " extracting: valid/images/FLIP_CAR_V118_jpg.rf.2e1100e044ecfa400246582de7d21ca1.jpg  \n",
            " extracting: valid/images/FLIP_CAR_V118_jpg.rf.f56fd1146a4ef29658b8c8084f356a51.jpg  \n",
            " extracting: valid/images/FLIP_CAR_V119_jpg.rf.bca50d34f88b2ae780db97b85188540c.jpg  \n",
            " extracting: valid/images/FLIP_CAR_V11_jpg.rf.e4e5dc35ab498e647e80169cb18821e2.jpg  \n",
            " extracting: valid/images/FLIP_CAR_V11_jpg.rf.f405165271a8d69dcb72eab572e7528e.jpg  \n",
            " extracting: valid/images/FLIP_CAR_V120_jpg.rf.f207c9c6d33fd36f8903672b621f0c9a.jpg  \n",
            " extracting: valid/images/FLIP_CAR_V122_jpg.rf.b3f1d3e57ded824667f9b001d392b8a9.jpg  \n",
            " extracting: valid/images/FLIP_CAR_V123_jpg.rf.8103eb0038018212c3c569a3898396b5.jpg  \n",
            " extracting: valid/images/FLIP_CAR_V123_jpg.rf.f3b88fb238aa1b4656902f060e724a38.jpg  \n",
            " extracting: valid/images/FLIP_CAR_V124_jpg.rf.176ed28939c91e975f50dbd3d39f4c87.jpg  \n",
            " extracting: valid/images/FLIP_CAR_V124_jpg.rf.f4c49bb73f15dde84c6c409ebb815c6a.jpg  \n",
            " extracting: valid/images/FLIP_CAR_V125_jpg.rf.11d34123dae276b1df6e9ae206c3383f.jpg  \n",
            " extracting: valid/images/FLIP_CAR_V125_jpg.rf.519d044bd1bc6c753e3c5fec691ede08.jpg  \n",
            " extracting: valid/images/FLIP_CAR_V126_jpg.rf.cbaa39ac0f0b465dc9e995d78158ed88.jpg  \n",
            " extracting: valid/images/FLIP_CAR_V126_jpg.rf.d9435259b68f4723f3c207fd2974572d.jpg  \n",
            " extracting: valid/images/FLIP_CAR_V128_jpg.rf.5f9186b5ed133d4d7bce32d878fef8b4.jpg  \n",
            " extracting: valid/images/FLIP_CAR_V128_jpg.rf.9104be816e0b01d1c1d925c14dc4d0a2.jpg  \n",
            " extracting: valid/images/FLIP_CAR_V128_jpg.rf.b8270173bc55de0fbb28e71cfc3caddb.jpg  \n",
            " extracting: valid/images/FLIP_CAR_V12_jpg.rf.873e7c1b03ebe9086bb0ddf5e6ed9e77.jpg  \n",
            " extracting: valid/images/FLIP_CAR_V130_jpg.rf.41505d853276be09aa87d02e25d11d65.jpg  \n",
            " extracting: valid/images/FLIP_CAR_V130_jpg.rf.4b2e8e876695a9d50dddd964c55b232f.jpg  \n",
            " extracting: valid/images/FLIP_CAR_V130_jpg.rf.a63e27161d3edb0dbba8c357bf66de12.jpg  \n",
            " extracting: valid/images/FLIP_CAR_V132_jpg.rf.fedc5b12bf90fd47442c2ec658257960.jpg  \n",
            " extracting: valid/images/FLIP_CAR_V133_jpg.rf.3d37024fe0f86b65c7b95f377af7bdf2.jpg  \n",
            " extracting: valid/images/FLIP_CAR_V134_jpg.rf.e1132cdc3be8b81d68d1bc0478fe7044.jpg  \n",
            " extracting: valid/images/FLIP_CAR_V136_jpg.rf.041c520fe40f8e7bb9d077da39e4f98d.jpg  \n",
            " extracting: valid/images/FLIP_CAR_V136_jpg.rf.8c8c810747994adfc3375d4cb028bf1a.jpg  \n",
            " extracting: valid/images/FLIP_CAR_V136_jpg.rf.e46cdb6ae95372d2a878eeff12eb652f.jpg  \n",
            " extracting: valid/images/FLIP_CAR_V137_jpg.rf.6245bed94dcf458d6300c54840e97e15.jpg  \n",
            " extracting: valid/images/FLIP_CAR_V139_jpg.rf.60509399d3c964ee7e8eb16c4c622b75.jpg  \n",
            " extracting: valid/images/FLIP_CAR_V139_jpg.rf.63e577955a9b81686f53a056d52f7baf.jpg  \n",
            " extracting: valid/images/FLIP_CAR_V13_jpg.rf.88d52bc5109266660e5561b746c8b22a.jpg  \n",
            " extracting: valid/images/FLIP_CAR_V13_jpg.rf.c30976af222940ca0a4aba9addf25db0.jpg  \n",
            " extracting: valid/images/FLIP_CAR_V140_jpg.rf.8a6396c6b23b335389e2bc93ff202afc.jpg  \n",
            " extracting: valid/images/FLIP_CAR_V140_jpg.rf.b47c080427fc31cf9a18875d48986d92.jpg  \n",
            " extracting: valid/images/FLIP_CAR_V144_jpg.rf.16c6d86c1c0d2fe1bce3f48d3c91541b.jpg  \n",
            " extracting: valid/images/FLIP_CAR_V144_jpg.rf.40335a74c6c62439f7098a418d6d8494.jpg  \n",
            " extracting: valid/images/FLIP_CAR_V144_jpg.rf.9dc96227493356b504d8a864a394db87.jpg  \n",
            " extracting: valid/images/FLIP_CAR_V144_jpg.rf.a74039dfc574545d6037b4a796e855ac.jpg  \n",
            " extracting: valid/images/FLIP_CAR_V150_jpg.rf.530901f6c41d2f6bd4005020832457a1.jpg  \n",
            " extracting: valid/images/FLIP_CAR_V152_jpg.rf.8370cd50ee82db063e459acdd15eba42.jpg  \n",
            " extracting: valid/images/FLIP_CAR_V155_jpg.rf.6c0df778935d7c0632a44c5ea3cb12cd.jpg  \n",
            " extracting: valid/images/FLIP_CAR_V155_jpg.rf.7a321a876434337ad3fd7d1399962b36.jpg  \n",
            " extracting: valid/images/FLIP_CAR_V155_jpg.rf.e6f6dfe214fa5f02ccd07ff4e63cd0ca.jpg  \n",
            " extracting: valid/images/FLIP_CAR_V156_jpg.rf.7b1021d54c98b1f46c5eefcfcc70aaea.jpg  \n",
            " extracting: valid/images/FLIP_CAR_V158_jpg.rf.cb7ff0caaa87a8b0a8f8e78865cb612c.jpg  \n",
            " extracting: valid/images/FLIP_CAR_V160_jpg.rf.a8114c4833307388bf5b1e770c189258.jpg  \n",
            " extracting: valid/images/FLIP_CAR_V160_jpg.rf.bb29f02a3a6d9911073bcbe73b33447d.jpg  \n",
            " extracting: valid/images/FLIP_CAR_V160_jpg.rf.ff6423b9e2cc3291e400848f70d7223b.jpg  \n",
            " extracting: valid/images/FLIP_CAR_V163_jpg.rf.0430ab9332481aa69243aa305fb8981f.jpg  \n",
            " extracting: valid/images/FLIP_CAR_V164_jpg.rf.0a0cf3eb6d7c2b551e5112bbe03c4ee6.jpg  \n",
            " extracting: valid/images/FLIP_CAR_V164_jpg.rf.568f93b0278c158b5521d83d93009faa.jpg  \n",
            " extracting: valid/images/FLIP_CAR_V165_jpg.rf.d913202a7429bc519dc77bd923f35d37.jpg  \n",
            " extracting: valid/images/FLIP_CAR_V168_jpg.rf.574075c4b1f87f9a62236ff9eacd69cf.jpg  \n",
            " extracting: valid/images/FLIP_CAR_V169_jpg.rf.08227e3f69a19107b1a27337096d1eae.jpg  \n",
            " extracting: valid/images/FLIP_CAR_V172_jpg.rf.59f1a176077db7fc84dca2c954f74715.jpg  \n",
            " extracting: valid/images/FLIP_CAR_V172_jpg.rf.e02fc9fb9975de30d5e01636cd284965.jpg  \n",
            " extracting: valid/images/FLIP_CAR_V172_jpg.rf.ea01a5a80a4cdc411875381323d1697e.jpg  \n",
            " extracting: valid/images/FLIP_CAR_V173_jpg.rf.7d447699be966c8e7d5eccc75872f21d.jpg  \n",
            " extracting: valid/images/FLIP_CAR_V174_jpg.rf.0e640ad21d6c4f819c865f4c1b32c002.jpg  \n",
            " extracting: valid/images/FLIP_CAR_V174_jpg.rf.7f686c08026395e95b9837d61ddafcd3.jpg  \n",
            " extracting: valid/images/FLIP_CAR_V174_jpg.rf.bbdf77fe4d593e89f897508dc7566dfc.jpg  \n",
            " extracting: valid/images/FLIP_CAR_V174_jpg.rf.e02c5797a0219b0881ce77a635268983.jpg  \n",
            " extracting: valid/images/FLIP_CAR_V175_jpg.rf.1fd2ebad24a8d1677e51a84e2a5e4009.jpg  \n",
            " extracting: valid/images/FLIP_CAR_V176_jpg.rf.13ee26b7f32366ebc7fa91a44f77d302.jpg  \n",
            " extracting: valid/images/FLIP_CAR_V18_jpg.rf.10f157f180ef41fe14bdd8d40354572c.jpg  \n",
            " extracting: valid/images/FLIP_CAR_V19_jpg.rf.1e9b055101edcad5ef59c19701ac8b6e.jpg  \n",
            " extracting: valid/images/FLIP_CAR_V19_jpg.rf.7361551fbbf037ef6b8daa4c9cc74754.jpg  \n",
            " extracting: valid/images/LakeStevens_Fatal_jpg.rf.758257164c4bdd744e55f17b5cf850b1.jpg  \n",
            " extracting: valid/images/OIP-10-_jpg.rf.2c06118787a7d30ccf11e02191cd5744.jpg  \n",
            " extracting: valid/images/OIP-13-_jpg.rf.51c5b89e3c32b13085d3e6051b7dbb8d.jpg  \n",
            " extracting: valid/images/OIP-14-_jpg.rf.a1cc2ee24658a8872396024e727b1bc8.jpg  \n",
            " extracting: valid/images/OIP-17-_jpg.rf.b76ac5bb55ff82b60cf980f8e42e8c4f.jpg  \n",
            " extracting: valid/images/OIP-23-_jpg.rf.a049cf6ec4bdd884c2e00928ba1572b6.jpg  \n",
            " extracting: valid/images/OIP-27-_jpg.rf.55b81e5f490032c7bea424397bbd8e6b.jpg  \n",
            " extracting: valid/images/OIP-31-_jpg.rf.2b89316c67617cb533b240b15d0bf9a1.jpg  \n",
            " extracting: valid/images/OIP-36-_jpg.rf.80284a8fe3d1f51a5da9d9fca3b12e70.jpg  \n",
            " extracting: valid/images/OIP-37-_jpg.rf.6c021252bbd12548bd27602b7371d0cb.jpg  \n",
            " extracting: valid/images/OIP-40-_jpg.rf.2d6bdef958d95437dfd4c5ad589e9192.jpg  \n",
            " extracting: valid/images/OIP-43-_jpg.rf.4cfa21fc92cc2bb220ee33009bdc1271.jpg  \n",
            " extracting: valid/images/OIP-51-_jpg.rf.27fef8eefcee68098694a9aeb583084c.jpg  \n",
            " extracting: valid/images/OIP-54-_jpg.rf.f74fefaa6a843a5a5a1530a9b73e4226.jpg  \n",
            " extracting: valid/images/OIP-6-_jpg.rf.4ce5deccd42b4777e5c1265b0084aa06.jpg  \n",
            " extracting: valid/images/OIP-61-_jpg.rf.8579cf7201f4ed27add88a9fac532ea0.jpg  \n",
            " extracting: valid/images/OIP-73-_jpg.rf.737103ba291e4096f0d93594754f0ec1.jpg  \n",
            " extracting: valid/images/OIP-88-_jpg.rf.40ee908a3cc6eb48599b12019552390d.jpg  \n",
            " extracting: valid/images/OIP-90-_jpg.rf.f86192ec343fd00c7efbc262aefd6651.jpg  \n",
            " extracting: valid/images/Screen-Shot-2022-04-05-at-2-10-30-AM_png_jpg.rf.f6bd38991ad65e7d76fc8c4d277e244d.jpg  \n",
            " extracting: valid/images/Screen-Shot-2022-04-05-at-2-11-24-AM_png_jpg.rf.5c46d5add03fe46595cf8a0c2130281c.jpg  \n",
            " extracting: valid/images/Screen-Shot-2022-04-05-at-2-11-24-AM_png_jpg.rf.df4fcf910e88ea8705af7a28063c60c8.jpg  \n",
            " extracting: valid/images/Semi-RealisticVD-111_jpg.rf.2b186b0804f6acd865da4955fdaa70d2.jpg  \n",
            " extracting: valid/images/Semi-RealisticVD-111_jpg.rf.5203e7b1f7b8cf42f3c06382755fab03.jpg  \n",
            " extracting: valid/images/Semi-RealisticVD-111_jpg.rf.89dddf59ac6fd427f7424612da8b976f.jpg  \n",
            " extracting: valid/images/Semi-RealisticVD-111_jpg.rf.c85328efddf8327032770d1a30dee04a.jpg  \n",
            " extracting: valid/images/Semi-RealisticVD-122_jpg.rf.d70c392f72a807dc0e145c4aea7d8375.jpg  \n",
            " extracting: valid/images/Semi-RealisticVD-122_jpg.rf.d791cab51aa4a780d6308e2e1026c716.jpg  \n",
            " extracting: valid/images/Semi-RealisticVD-12_jpg.rf.a291f37acd3eb40dc53301c4c9a7b4cf.jpg  \n",
            " extracting: valid/images/Semi-RealisticVD-139_jpg.rf.0cd2b21208b6a6c05740b52f59456809.jpg  \n",
            " extracting: valid/images/Semi-RealisticVD-139_jpg.rf.2640f97e12a3c864607783ec64e7ca45.jpg  \n",
            " extracting: valid/images/Semi-RealisticVD-139_jpg.rf.adabe29c24f13d99a523da24b10f370c.jpg  \n",
            " extracting: valid/images/Semi-RealisticVD-143_jpg.rf.bc0b8a580016f390b732108c7b5c6d57.jpg  \n",
            " extracting: valid/images/Semi-RealisticVD-145_jpg.rf.0a8a9038dcfef162b4c2f5ff2f603f75.jpg  \n",
            " extracting: valid/images/Semi-RealisticVD-148_jpg.rf.04a05693d959fafd84dacc4c4f527607.jpg  \n",
            " extracting: valid/images/Semi-RealisticVD-150_jpg.rf.3a8b2f1706b9c983494b2d0bbcb7d6ac.jpg  \n",
            " extracting: valid/images/Semi-RealisticVD-150_jpg.rf.feade642dc27b5305031f26a9771f204.jpg  \n",
            " extracting: valid/images/Semi-RealisticVD-169_jpg.rf.8a4f0785be2ea07c9c9520fee904406c.jpg  \n",
            " extracting: valid/images/Semi-RealisticVD-174_jpg.rf.0b86e268c924a2e1fcfb14745bc2558b.jpg  \n",
            " extracting: valid/images/Semi-RealisticVD-174_jpg.rf.396bdfe3048438ab4b9f7840684d51c5.jpg  \n",
            " extracting: valid/images/Semi-RealisticVD-174_jpg.rf.40c236dab9cd64f97a71c0727687478c.jpg  \n",
            " extracting: valid/images/Semi-RealisticVD-176_jpg.rf.302ef53b90d0bd76cad67434cbd863d5.jpg  \n",
            " extracting: valid/images/Semi-RealisticVD-176_jpg.rf.8d006c1424466e08aab8c8836e399195.jpg  \n",
            " extracting: valid/images/Semi-RealisticVD-176_jpg.rf.beabf4dd969fd5d4b1f76c15ddcc6050.jpg  \n",
            " extracting: valid/images/Semi-RealisticVD-180_jpg.rf.857cd5a9de598a2a11110bbc83a3ec7d.jpg  \n",
            " extracting: valid/images/Semi-RealisticVD-181_jpg.rf.4b37494f31e71c7027bc7e9dd141976b.jpg  \n",
            " extracting: valid/images/Semi-RealisticVD-181_jpg.rf.d01dedb2903eee63448a2b0dc6e61b0c.jpg  \n",
            " extracting: valid/images/Semi-RealisticVD-187_jpg.rf.821b35e309a63372b14e6d6c4dafd2a4.jpg  \n",
            " extracting: valid/images/Semi-RealisticVD-187_jpg.rf.9c99175879b3f23f10941fd75704f500.jpg  \n",
            " extracting: valid/images/Semi-RealisticVD-190_jpg.rf.27741ab4294f0912a889c9d3dbc59266.jpg  \n",
            " extracting: valid/images/Semi-RealisticVD-190_jpg.rf.8dfd5a4cd5125b9423f7b9ea7cc56d20.jpg  \n",
            " extracting: valid/images/Semi-RealisticVD-195_jpg.rf.d135450c8017e928fd8cbdc68a370a47.jpg  \n",
            " extracting: valid/images/Semi-RealisticVD-203_jpg.rf.54d6450d8db2bda9a8696b7b3aa889d4.jpg  \n",
            " extracting: valid/images/Semi-RealisticVD-203_jpg.rf.69e1e319fec1bfda18e0613f00455f11.jpg  \n",
            " extracting: valid/images/Semi-RealisticVD-203_jpg.rf.c9cf426c7211f13326bde13eb435ba05.jpg  \n",
            " extracting: valid/images/Semi-RealisticVD-204_jpg.rf.88c9b1f5d3cee0c758417eabf781ecce.jpg  \n",
            " extracting: valid/images/Semi-RealisticVD-20_jpg.rf.db02203a63077856911bf011955ed4bb.jpg  \n",
            " extracting: valid/images/Semi-RealisticVD-214_jpg.rf.6d7f0eeefcdf270b74919c0a9004d581.jpg  \n",
            " extracting: valid/images/Semi-RealisticVD-214_jpg.rf.a3e530a39e0184e6a6f10cc9453e76cd.jpg  \n",
            " extracting: valid/images/Semi-RealisticVD-216_jpg.rf.b58693afde23c422c1976e51e39a0263.jpg  \n",
            " extracting: valid/images/Semi-RealisticVD-217_jpg.rf.338e3541b1bde09742f541de572ff130.jpg  \n",
            " extracting: valid/images/Semi-RealisticVD-217_jpg.rf.abb2d11044d77e3ea5d214d515f34fdb.jpg  \n",
            " extracting: valid/images/Semi-RealisticVD-224_jpg.rf.322b9ae44a9e57058f8863d37442ef00.jpg  \n",
            " extracting: valid/images/Semi-RealisticVD-26_jpg.rf.1afabb5d4058a87aa412588dded7931c.jpg  \n",
            " extracting: valid/images/Semi-RealisticVD-30_jpg.rf.483eba8b530639aa50185ab53f4d9e0d.jpg  \n",
            " extracting: valid/images/Semi-RealisticVD-30_jpg.rf.4eda47867b03dd357d5d11f3d55fb33d.jpg  \n",
            " extracting: valid/images/Semi-RealisticVD-31_jpg.rf.a4e4fc6d71986e246238b1194cae5c34.jpg  \n",
            " extracting: valid/images/Semi-RealisticVD-40_jpg.rf.00bbb15c84e8d22ff4dd98d558d1ea12.jpg  \n",
            " extracting: valid/images/Semi-RealisticVD-40_jpg.rf.0d4ecaee8ba1f7cfb912f9d014c54b0c.jpg  \n",
            " extracting: valid/images/Semi-RealisticVD-40_jpg.rf.5d2b5a761c454f881a0ab9251cc4a94a.jpg  \n",
            " extracting: valid/images/Semi-RealisticVD-45_jpg.rf.0dd6fa012307d3fe738969a1b380882a.jpg  \n",
            " extracting: valid/images/Semi-RealisticVD-52_jpg.rf.2b909c3187c1f03acefed015aadaa645.jpg  \n",
            " extracting: valid/images/Semi-RealisticVD-55_jpg.rf.4ec6ba047f9a919988ba90c768674c63.jpg  \n",
            " extracting: valid/images/Semi-RealisticVD-55_jpg.rf.dba429b9e6e8a0ed332f422e9d4ffa85.jpg  \n",
            " extracting: valid/images/Severity_Detect_V12_jpg.rf.23609d16fedc4fc832a4feb225cd1424.jpg  \n",
            " extracting: valid/images/Severity_Detect_V12_jpg.rf.bd9ef4199ee401d498c0797cb27f4d38.jpg  \n",
            " extracting: valid/images/Severity_Detect_V12_jpg.rf.e697b759b6b3e4b2033a8216e60cf1eb.jpg  \n",
            " extracting: valid/images/Severity_Detect_V13_jpg.rf.5d7b9903b7c8fcf04f6ae9df14bcc891.jpg  \n",
            " extracting: valid/images/Severity_Detect_V14_jpg.rf.73f1dda9104262d6a0c20869b7809cd9.jpg  \n",
            " extracting: valid/images/Severity_Detect_V18_jpg.rf.666aacee67bd480988739b43f67c3f65.jpg  \n",
            " extracting: valid/images/Severity_Detect_V18_jpg.rf.843935e3bc2cc08be03b983e20d43eb7.jpg  \n",
            " extracting: valid/images/Severity_Detect_V18_jpg.rf.953180343fbc30d11fce09df475e4867.jpg  \n",
            " extracting: valid/images/Severity_Detect_V19_jpg.rf.900fff8456305e754ccd1d2cbd45ddf8.jpg  \n",
            " extracting: valid/images/Severity_Detect_V19_jpg.rf.ae8f795fea69d3df4068cbf0223307f2.jpg  \n",
            " extracting: valid/images/Severity_Detect_V1_jpg.rf.193290d1abf2ba1896391d3a70eea322.jpg  \n",
            " extracting: valid/images/Severity_Detect_V20_jpg.rf.38bab3a22ad85ecfac367ce6ff90d612.jpg  \n",
            " extracting: valid/images/Severity_Detect_V20_jpg.rf.c14d1ab77dc2baea67794500d7853a5d.jpg  \n",
            " extracting: valid/images/Severity_Detect_V20_jpg.rf.d250b228fd2ab4f1471f5100b162cb96.jpg  \n",
            " extracting: valid/images/Severity_Detect_V21_jpg.rf.59027538e35ac6631a77fd9025664cbc.jpg  \n",
            " extracting: valid/images/Severity_Detect_V21_jpg.rf.a49cc5f6daa22ae2b0b3f71ed79c0740.jpg  \n",
            " extracting: valid/images/Severity_Detect_V23_jpg.rf.3a02b5c1af680e6ff780b6a6714b3fff.jpg  \n",
            " extracting: valid/images/Severity_Detect_V23_jpg.rf.45b07fa5d5dec19f7b03907437c03374.jpg  \n",
            " extracting: valid/images/Severity_Detect_V24_jpg.rf.75518a68044c16aa79b1e426c5890273.jpg  \n",
            " extracting: valid/images/Severity_Detect_V25_jpg.rf.f39e1509d341852628c062d09aa86842.jpg  \n",
            " extracting: valid/images/Severity_Detect_V27_jpg.rf.834ea6d15f1007f0d3f952b8bc46a32a.jpg  \n",
            " extracting: valid/images/Severity_Detect_V28_jpg.rf.0624d9c0f3d74b86f57e86fe42f79b09.jpg  \n",
            " extracting: valid/images/Severity_Detect_V29_jpg.rf.64ac3663785deac7fe75e916b9222980.jpg  \n",
            " extracting: valid/images/Severity_Detect_V2_jpg.rf.4e263863c6f16fd9082abcb8e24181ac.jpg  \n",
            " extracting: valid/images/Severity_Detect_V2_jpg.rf.6f0b137b560b38d98f14cc677644b3ad.jpg  \n",
            " extracting: valid/images/Severity_Detect_V30_jpg.rf.5466f493eca8ff5cb66a4d082b6498b9.jpg  \n",
            " extracting: valid/images/Severity_Detect_V30_jpg.rf.c504af09ad9e648e47bb5b4880a1f06e.jpg  \n",
            " extracting: valid/images/Severity_Detect_V31_jpg.rf.2ffd247018597234f424ca0ec8bc3f78.jpg  \n",
            " extracting: valid/images/Severity_Detect_V31_jpg.rf.54c91148cef32b1d095b30824a495a39.jpg  \n",
            " extracting: valid/images/Severity_Detect_V33_jpg.rf.6d0334fe0e5e9155d964a58749dd298e.jpg  \n",
            " extracting: valid/images/Severity_Detect_V33_jpg.rf.b89a08b585f050f521d5bb2ba2d56cab.jpg  \n",
            " extracting: valid/images/Severity_Detect_V33_jpg.rf.d925f3a7be39140688ae2546adcbeba7.jpg  \n",
            " extracting: valid/images/Severity_Detect_V34_jpg.rf.28d61d88a453714eccfe6a753cee260a.jpg  \n",
            " extracting: valid/images/Severity_Detect_V34_jpg.rf.4526589ff786802fdcb8e42f693cdcac.jpg  \n",
            " extracting: valid/images/Severity_Detect_V35_jpg.rf.40553506781673ff25fc301b9bab010d.jpg  \n",
            " extracting: valid/images/Severity_Detect_V35_jpg.rf.74ac7dc357997b10daaa8dddd036c708.jpg  \n",
            " extracting: valid/images/Severity_Detect_V35_jpg.rf.bf677b32f736890d850ef7f391720e36.jpg  \n",
            " extracting: valid/images/Severity_Detect_V38_jpg.rf.090105ee0ab50a71cc0ca8197cd48ad5.jpg  \n",
            " extracting: valid/images/Severity_Detect_V38_jpg.rf.35de3a1ad2a5b2f9c9be65c08b6ddac8.jpg  \n",
            " extracting: valid/images/Severity_Detect_V38_jpg.rf.dfc2b31739861ab15a8e7d3e5d406a16.jpg  \n",
            " extracting: valid/images/Severity_Detect_V39_jpg.rf.0803979c9b95d337e0b7bffde9be535f.jpg  \n",
            " extracting: valid/images/Severity_Detect_V39_jpg.rf.75191a44e6174dd708b37d6aad2157da.jpg  \n",
            " extracting: valid/images/Severity_Detect_V39_jpg.rf.dd094398b9a471b36866d81c19e42380.jpg  \n",
            " extracting: valid/images/Severity_Detect_V3_jpg.rf.45746c321a79ba91dd9de8fcb31dd20e.jpg  \n",
            " extracting: valid/images/Severity_Detect_V3_jpg.rf.6ab1d26934dd505dd673fe643071e00f.jpg  \n",
            " extracting: valid/images/Severity_Detect_V40_jpg.rf.d86381b4427bf20a0ed1ec54c78fc7b5.jpg  \n",
            " extracting: valid/images/Severity_Detect_V40_jpg.rf.fe3617ff75c1e633d9b71b62255b5bee.jpg  \n",
            " extracting: valid/images/Severity_Detect_V5_jpg.rf.8f7d6124ebabd9bf54823c9b0b130891.jpg  \n",
            " extracting: valid/images/Severity_Detect_V6_jpg.rf.44bffb9bf1f83254b2f1be4c7aaa616a.jpg  \n",
            " extracting: valid/images/Severity_Detect_V6_jpg.rf.674dbf1196decdf092a9209f8f6ea076.jpg  \n",
            " extracting: valid/images/Severity_Detect_V9_jpg.rf.217af69d9cb94facd3fef16da7ae3393.jpg  \n",
            " extracting: valid/images/Severity_Detect_V9_jpg.rf.c405a5a7c5179674b423a031b2c13b2e.jpg  \n",
            " extracting: valid/images/accidentFrame108_jpg.rf.76c2164bf61b54129dd1ded98701b399.jpg  \n",
            " extracting: valid/images/accidentFrame109_jpg.rf.5eed700c6fb42dff3d0975f2c23ec634.jpg  \n",
            " extracting: valid/images/accidentFrame109_jpg.rf.f3787da8ac285ba4751068da86329b2f.jpg  \n",
            " extracting: valid/images/accidentFrame110_jpg.rf.728f2660e045dde63f2b599aa7acd106.jpg  \n",
            " extracting: valid/images/accidentFrame110_jpg.rf.c7bab8aec674eb54581acfc7d40ade58.jpg  \n",
            " extracting: valid/images/accidentFrame111_jpg.rf.b2cad55f6d3f687b6f4073d8a9597a58.jpg  \n",
            " extracting: valid/images/accidentFrame112_jpg.rf.d362aa1562e7164d219f3de1a8262929.jpg  \n",
            " extracting: valid/images/accidentFrame1191_jpg.rf.2e8279c5731792c8fc1236404637f3b1.jpg  \n",
            " extracting: valid/images/accidentFrame1192_jpg.rf.03b53f4200f8b47d6fe4a8d3da6fc2c8.jpg  \n",
            " extracting: valid/images/accidentFrame1192_jpg.rf.de5e56c681723211aa5ae9010eac5b77.jpg  \n",
            " extracting: valid/images/accidentFrame1192_jpg.rf.ded0e683a532cb4105b74d42034af901.jpg  \n",
            " extracting: valid/images/accidentFrame1193_jpg.rf.5f59dcbaf7797344b14c050f87ae87e1.jpg  \n",
            " extracting: valid/images/accidentFrame1194_jpg.rf.37c2eb6b9c9a8cef3b17e515b38725f1.jpg  \n",
            " extracting: valid/images/accidentFrame1197_jpg.rf.01932b393b79d0f1c8ad6d8366e388e4.jpg  \n",
            " extracting: valid/images/accidentFrame1197_jpg.rf.d12bfa323d8880633393143a8248d4cc.jpg  \n",
            " extracting: valid/images/accidentFrame120_jpg.rf.c95a751e2634c98237561589bb402ff3.jpg  \n",
            " extracting: valid/images/accidentFrame121_jpg.rf.dce57f20c99a4794017896a251ae443d.jpg  \n",
            " extracting: valid/images/accidentFrame122_jpg.rf.1948e202e97a2da9c7bee44e1471efed.jpg  \n",
            " extracting: valid/images/accidentFrame123_jpg.rf.4d87d1e6f34de196bed245534f90f050.jpg  \n",
            " extracting: valid/images/accidentFrame125_jpg.rf.bffc8a1418be50056277e3cfb9075734.jpg  \n",
            " extracting: valid/images/accidentFrame126_jpg.rf.0d06c87fb26d6b18287b89ab6efdbd92.jpg  \n",
            " extracting: valid/images/accidentFrame126_jpg.rf.6fe847dd1114bf31a78f88d7e525ecfd.jpg  \n",
            " extracting: valid/images/accidentFrame127_jpg.rf.4c01750955daad798dae15b87c872ef4.jpg  \n",
            " extracting: valid/images/accidentFrame128_jpg.rf.bf0bc68011650c06024fa1a225100550.jpg  \n",
            " extracting: valid/images/accidentFrame129_jpg.rf.4e82e744e4d1f501e6d52d5a0598a3f8.jpg  \n",
            " extracting: valid/images/accidentFrame129_jpg.rf.eff093d15c66411039c5bb6b3661e278.jpg  \n",
            " extracting: valid/images/accidentFrame131_jpg.rf.aad064943daea9732f2f1c01ae51e8a2.jpg  \n",
            " extracting: valid/images/accidentFrame131_jpg.rf.bce5b4d50ccd051b850fd9b2f66699d9.jpg  \n",
            " extracting: valid/images/accidentFrame132_jpg.rf.6b9c832c0d388d334895c08c18475b29.jpg  \n",
            " extracting: valid/images/accidentFrame137_jpg.rf.4e73b443072100675fa0baece59b9c45.jpg  \n",
            " extracting: valid/images/accidentFrame137_jpg.rf.8e563c628003131e2da558633849da05.jpg  \n",
            " extracting: valid/images/accidentFrame137_jpg.rf.df48943b5e23e8b744e1e50f2b265c89.jpg  \n",
            " extracting: valid/images/accidentFrame138_jpg.rf.4a045241c50b0f37e1626fcda85c699c.jpg  \n",
            " extracting: valid/images/accidentFrame138_jpg.rf.608f6bab2185d44cf715968e676b3250.jpg  \n",
            " extracting: valid/images/accidentFrame1851_jpg.rf.45428d064d9fc82873fe53d942b10eb9.jpg  \n",
            " extracting: valid/images/accidentFrame1852_jpg.rf.9ac2d5d25a99626a21aedf47ff794383.jpg  \n",
            " extracting: valid/images/accidentFrame1853_jpg.rf.cb326a84586f99ebe6d543c035c9bec0.jpg  \n",
            " extracting: valid/images/accidentFrame1854_jpg.rf.fc8ad0f48c56d9441db94800c8cf6915.jpg  \n",
            " extracting: valid/images/accidentFrame2170_jpg.rf.010719ea24e6fae6aa91a471eaf3c4b2.jpg  \n",
            " extracting: valid/images/accidentFrame2171_jpg.rf.179f91e034374125d21d229c2cfe63c2.jpg  \n",
            " extracting: valid/images/accidentFrame2171_jpg.rf.b97647ff8751063b46b4f7eb9da5c7c0.jpg  \n",
            " extracting: valid/images/accidentFrame2172_jpg.rf.28034a33211644d76202c0d9b26b1184.jpg  \n",
            " extracting: valid/images/accidentFrame2172_jpg.rf.d165d82aea4821857dfba7775359a136.jpg  \n",
            " extracting: valid/images/accidentFrame2173_jpg.rf.b77dbc5bfa3779247cc22e3922fe0660.jpg  \n",
            " extracting: valid/images/accidentFrame2174_jpg.rf.5cee2521441d46e638f1e0d73149c731.jpg  \n",
            " extracting: valid/images/accidentFrame2174_jpg.rf.ecc42bc3096bbabb6653916eff444f77.jpg  \n",
            " extracting: valid/images/accidentFrame2559_jpg.rf.12d277ffb2e8b13823687cf494d67d68.jpg  \n",
            " extracting: valid/images/accidentFrame268_jpg.rf.0dcead28b11530c4a8f83fbdbcd7ab44.jpg  \n",
            " extracting: valid/images/accidentFrame268_jpg.rf.2ebbd3ac6684df5d90aed3972bc0ffba.jpg  \n",
            " extracting: valid/images/accidentFrame268_jpg.rf.2f5b2bb548c726c42daa8b19f0c8b65d.jpg  \n",
            " extracting: valid/images/accidentFrame268_jpg.rf.4318e27362da8bfb0c9f50780ae138a6.jpg  \n",
            " extracting: valid/images/accidentFrame2716_jpg.rf.fd4102607e47131f8cd06ac8b9965078.jpg  \n",
            " extracting: valid/images/accidentFrame2717_jpg.rf.2555bc19d45015740f43d6f11b21caf0.jpg  \n",
            " extracting: valid/images/accidentFrame2719_jpg.rf.a9cca0b654c8fe1d0da342f1a1dbed72.jpg  \n",
            " extracting: valid/images/accidentFrame2720_jpg.rf.51dcf9fc491991bbbe10091885339885.jpg  \n",
            " extracting: valid/images/accidentFrame2720_jpg.rf.682edc92ace2869402df5326bc1e5c58.jpg  \n",
            " extracting: valid/images/accidentFrame2720_jpg.rf.872e7e8cbf3da0160f529f0e7eb85afb.jpg  \n",
            " extracting: valid/images/accidentFrame2721_jpg.rf.97f15c3a4184e56240731f6f2a5c726d.jpg  \n",
            " extracting: valid/images/accidentFrame2722_jpg.rf.e2a823d9916cb50a83041b40f50665d5.jpg  \n",
            " extracting: valid/images/accidentFrame2723_jpg.rf.2deef54ebfe7221bab62d56bc02a78a0.jpg  \n",
            " extracting: valid/images/accidentFrame2723_jpg.rf.add40ce42d99c9a3cd73ad78ac6fb1b9.jpg  \n",
            " extracting: valid/images/accidentFrame2724_jpg.rf.a469c511758365e03f927f5516bae882.jpg  \n",
            " extracting: valid/images/accidentFrame2725_jpg.rf.1aa731a4164ab1d8d44fdf182f9bf8c5.jpg  \n",
            " extracting: valid/images/accidentFrame2725_jpg.rf.fb5acf87ec56d11bc64c9c2cc4eb8e36.jpg  \n",
            " extracting: valid/images/accidentFrame2726_jpg.rf.d227822e3f975f55703ba3a3929acf8d.jpg  \n",
            " extracting: valid/images/accidentFrame2727_jpg.rf.4b60ea32cad915b684ef3d11164dd327.jpg  \n",
            " extracting: valid/images/accidentFrame2727_jpg.rf.6d444268a2e4db6a082a4df2931622a1.jpg  \n",
            " extracting: valid/images/accidentFrame2727_jpg.rf.c86cc2eee88e8312ea00d4f241ab1507.jpg  \n",
            " extracting: valid/images/accidentFrame2728_jpg.rf.793302621262f3135b5e60c0788a0ce8.jpg  \n",
            " extracting: valid/images/accidentFrame2728_jpg.rf.9df98a0c8e5e4e1cc422c1bc953e1758.jpg  \n",
            " extracting: valid/images/accidentFrame2729_jpg.rf.50b030db52d7d6b0fa954702d0f1fc7a.jpg  \n",
            " extracting: valid/images/accidentFrame2729_jpg.rf.73d5f2fce6ec0e2bf43d13fe53f10ca6.jpg  \n",
            " extracting: valid/images/accidentFrame2729_jpg.rf.aec1a68e3b61c6933e98d3cb9ee70339.jpg  \n",
            " extracting: valid/images/accidentFrame2729_jpg.rf.af2e7ceab315d22b2a0fabc100821741.jpg  \n",
            " extracting: valid/images/accidentFrame2730_jpg.rf.149d9b3b0682d9f4287ba1b8f3fd3d01.jpg  \n",
            " extracting: valid/images/accidentFrame2731_jpg.rf.13dd1017ec75f118c580afa66eda982d.jpg  \n",
            " extracting: valid/images/accidentFrame2732_jpg.rf.8e008c223388342ec5874ae5e53189b4.jpg  \n",
            " extracting: valid/images/accidentFrame2732_jpg.rf.d660790bafbad48066780f4c309d3a92.jpg  \n",
            " extracting: valid/images/accidentFrame2732_jpg.rf.e72071bc0cd5326fd06928470e44c0c3.jpg  \n",
            " extracting: valid/images/accidentFrame2741_jpg.rf.f521980646aea4067f3f2d1bc415cc30.jpg  \n",
            " extracting: valid/images/accidentFrame2743_jpg.rf.87460adaca3726086b920d916dd6c31f.jpg  \n",
            " extracting: valid/images/accidentFrame2744_jpg.rf.70486179256efe4e9d9d223cdbaba52e.jpg  \n",
            " extracting: valid/images/accidentFrame2745_jpg.rf.49fc5c75bfd20b7f60175675d124098f.jpg  \n",
            " extracting: valid/images/accidentFrame2745_jpg.rf.7fd670236cc456703caeb1f28b0eb26a.jpg  \n",
            " extracting: valid/images/accidentFrame2745_jpg.rf.91c957505018e0ac61bf16e1f2b78c35.jpg  \n",
            " extracting: valid/images/accidentFrame2746_jpg.rf.119f523a7fc21429f38b35bd8655e0b8.jpg  \n",
            " extracting: valid/images/accidentFrame2747_jpg.rf.2ede371b3dc164e326dde072eddcec77.jpg  \n",
            " extracting: valid/images/accidentFrame2747_jpg.rf.55e70c51ae7024d317fbd98c83098f93.jpg  \n",
            " extracting: valid/images/accidentFrame2748_jpg.rf.2d3fca368a0e2d2fe0e6c054e83622f2.jpg  \n",
            " extracting: valid/images/accidentFrame2748_jpg.rf.391bfb694e1bfea1c2ba5f34deb4e449.jpg  \n",
            " extracting: valid/images/accidentFrame2749_jpg.rf.7954ca5f2a919e99eeed245d600cab75.jpg  \n",
            " extracting: valid/images/accidentFrame2749_jpg.rf.7ee5532875d56d923ef4054cc584607a.jpg  \n",
            " extracting: valid/images/accidentFrame2749_jpg.rf.acd87ef454b6621a8c0c31a58c534478.jpg  \n",
            " extracting: valid/images/accidentFrame2751_jpg.rf.26b4b7c2f459e599e0573c860ccf5657.jpg  \n",
            " extracting: valid/images/accidentFrame2751_jpg.rf.6e445aec8389650532a0379f97e54072.jpg  \n",
            " extracting: valid/images/accidentFrame2751_jpg.rf.914927706ca3e8619d83c327eee4c1fd.jpg  \n",
            " extracting: valid/images/accidentFrame2751_jpg.rf.f5baac202675d8194ee83f6e0c7e8cad.jpg  \n",
            " extracting: valid/images/accidentFrame2752_jpg.rf.e8cfe0520a77b9dee224f1a00e33eea2.jpg  \n",
            " extracting: valid/images/accidentFrame2753_jpg.rf.051296fe9c440d2b23a0ed3005aff96d.jpg  \n",
            " extracting: valid/images/accidentFrame2753_jpg.rf.e5a213bbbcd5616f70f5e9e8f9ece46e.jpg  \n",
            " extracting: valid/images/accidentFrame2755_jpg.rf.6cb3ce6b383cf58f209959c73ad116dc.jpg  \n",
            " extracting: valid/images/accidentFrame2758_jpg.rf.1828c6abe63f753c08b9f17a03376b0f.jpg  \n",
            " extracting: valid/images/accidentFrame2759_jpg.rf.5dcb2f64120d21979a1f4eeed665ea0d.jpg  \n",
            " extracting: valid/images/accidentFrame2759_jpg.rf.8cb80dead85aa7a8d2cac9fe0ebfa38f.jpg  \n",
            " extracting: valid/images/accidentFrame2760_jpg.rf.e011b16a4b95fc9d201370b8a19b7e8c.jpg  \n",
            " extracting: valid/images/accidentFrame2761_jpg.rf.6bee994dcf0a2234e52f46902c25a628.jpg  \n",
            " extracting: valid/images/accidentFrame2761_jpg.rf.71b4466f388e280787f589bdc7f59247.jpg  \n",
            " extracting: valid/images/accidentFrame2762_jpg.rf.48d097991b68fba328c4df2a280bfc0a.jpg  \n",
            " extracting: valid/images/accidentFrame2762_jpg.rf.63a0327b0c85d9cde8137c196934b8f6.jpg  \n",
            " extracting: valid/images/accidentFrame2762_jpg.rf.751ce70a173c98c567ae0534f4868910.jpg  \n",
            " extracting: valid/images/accidentFrame283_jpg.rf.81e02552d41aac27363d67eb81ee4db4.jpg  \n",
            " extracting: valid/images/accidentFrame2980_jpg.rf.bb5e03e36d6175974897a6ab1e3b53be.jpg  \n",
            " extracting: valid/images/accidentFrame2984_jpg.rf.14130d3124a10ca61edd5b36c5ea2051.jpg  \n",
            " extracting: valid/images/accidentFrame2984_jpg.rf.4dd905bd2b45d8bd4249a2ac43086df7.jpg  \n",
            " extracting: valid/images/accidentFrame2985_jpg.rf.9efe36dee91fc1d749902653dd64fc14.jpg  \n",
            " extracting: valid/images/accidentFrame2986_jpg.rf.3a1ac92408a5f27dfab0f8f8d83e3aba.jpg  \n",
            " extracting: valid/images/accidentFrame2986_jpg.rf.8a02ec0b140230aaf5a61763d681925c.jpg  \n",
            " extracting: valid/images/accidentFrame2994_jpg.rf.f695e02f0f98dab42d987a1cc18d1aef.jpg  \n",
            " extracting: valid/images/accidentFrame2996_jpg.rf.1fe49b801221e394c64f1721cb0d910a.jpg  \n",
            " extracting: valid/images/accidentFrame2996_jpg.rf.74d6c3f5b6da9c9793f5ed3972e7fb18.jpg  \n",
            " extracting: valid/images/accidentFrame2997_jpg.rf.0915b170a2322a346a44dcb80ec6271c.jpg  \n",
            " extracting: valid/images/accidentFrame2997_jpg.rf.1a097f254efa94c450ed1875ddc086db.jpg  \n",
            " extracting: valid/images/accidentFrame3002_jpg.rf.708e9cc3d880bd4c9e7feb111d1d0251.jpg  \n",
            " extracting: valid/images/accidentFrame3008_jpg.rf.3b3b3afa0eb1a2055844602351f2a490.jpg  \n",
            " extracting: valid/images/accidentFrame3008_jpg.rf.65c948560c528c12a91a43385dc81075.jpg  \n",
            " extracting: valid/images/accidentFrame3008_jpg.rf.befddb097f33ec76d5c9a573d2732b2f.jpg  \n",
            " extracting: valid/images/accidentFrame3009_jpg.rf.87b5f68a0f8a7d4093be75d394c04705.jpg  \n",
            " extracting: valid/images/accidentFrame3009_jpg.rf.ac8341095a41c198787b287599cea17d.jpg  \n",
            " extracting: valid/images/accidentFrame3010_jpg.rf.136a471e690370ea891ed179f8507bc0.jpg  \n",
            " extracting: valid/images/accidentFrame3010_jpg.rf.cb06bb6715f8afc25ca5b576d94dfa9a.jpg  \n",
            " extracting: valid/images/accidentFrame3010_jpg.rf.e4d99e8bf07e7db45a4cffecece4f9d4.jpg  \n",
            " extracting: valid/images/accidentFrame3011_jpg.rf.0ef202ac82edcab279d9e65c0febd115.jpg  \n",
            " extracting: valid/images/accidentFrame3011_jpg.rf.2d8c2231d413cb563aa9315cd3f108df.jpg  \n",
            " extracting: valid/images/accidentFrame3011_jpg.rf.3929d0887fdc577bad65cdffd71b415f.jpg  \n",
            " extracting: valid/images/accidentFrame3012_jpg.rf.2fca72e3274e09db4fed59ca873ecb96.jpg  \n",
            " extracting: valid/images/accidentFrame3012_jpg.rf.aa0dfaa6d786d53aa6e69e3c44619e19.jpg  \n",
            " extracting: valid/images/accidentFrame3013_jpg.rf.0b55016adcce049baa7c8559f8725315.jpg  \n",
            " extracting: valid/images/accidentFrame3013_jpg.rf.f13b75eda9d01d32cd71ae44b697bd5c.jpg  \n",
            " extracting: valid/images/accidentFrame3014_jpg.rf.06b7cb7a1829b4dbf47531eefb0d7e76.jpg  \n",
            " extracting: valid/images/accidentFrame3015_jpg.rf.7076c3edc50c11e31aa83e7bff23f3ae.jpg  \n",
            " extracting: valid/images/accidentFrame3210_jpg.rf.600689ad567e7410afce0e9560d30e8a.jpg  \n",
            " extracting: valid/images/accidentFrame3210_jpg.rf.703e8cfe008da34d9ac4552f5f3f106e.jpg  \n",
            " extracting: valid/images/accidentFrame3210_jpg.rf.a4f91f68ba40dc8fe56de4d20262da15.jpg  \n",
            " extracting: valid/images/accidentFrame3211_jpg.rf.aa12bcb9231ae5694220d0c2c73401c4.jpg  \n",
            " extracting: valid/images/accidentFrame3211_jpg.rf.cf072aca5c0e9cce7cf75d2f2438f477.jpg  \n",
            " extracting: valid/images/accidentFrame3222_jpg.rf.0a98cabdae499920f7af3ec8fb3d4067.jpg  \n",
            " extracting: valid/images/accidentFrame3222_jpg.rf.ab01e18ae584b76072e8f2081f8516a9.jpg  \n",
            " extracting: valid/images/accidentFrame3225_jpg.rf.128f8916085a4a0c70a9a1b51aa95d55.jpg  \n",
            " extracting: valid/images/accidentFrame3415_jpg.rf.0bdad8d19a8c8355ad44e92b84ea5c62.jpg  \n",
            " extracting: valid/images/accidentFrame3415_jpg.rf.a3dd2ad39caaf7ce9b46051074b01b42.jpg  \n",
            " extracting: valid/images/accidentFrame3415_jpg.rf.c1645684c738079221468278446c3cd1.jpg  \n",
            " extracting: valid/images/accidentFrame3415_jpg.rf.d937c019fa3de0cbc96db853c0c87874.jpg  \n",
            " extracting: valid/images/accidentFrame3417_jpg.rf.31511db8ab862c01dfcebd50d0acc566.jpg  \n",
            " extracting: valid/images/accidentFrame3418_jpg.rf.0a6ff54fe71ed5f3cc94268ffcb224d4.jpg  \n",
            " extracting: valid/images/accidentFrame3419_jpg.rf.888e2d844d75b78cc4e54c727e07033e.jpg  \n",
            " extracting: valid/images/accidentFrame3949_jpg.rf.e1c85383802428b61092c6ceed87f90f.jpg  \n",
            " extracting: valid/images/arkatqejjx0ulhxbbrsj_jpg.rf.03068f2338dbca18dddb03411f0eafd1.jpg  \n",
            " extracting: valid/images/arkatqejjx0ulhxbbrsj_jpg.rf.dc9e0b7f31e97a6750ce648bcb95e175.jpg  \n",
            " extracting: valid/images/buy2_jpg.rf.a8f4ad51971baab2fceab379ee60176b.jpg  \n",
            " extracting: valid/images/buy2_jpg.rf.d0b2157e558a9106b9f5ad35f7a702d1.jpg  \n",
            " extracting: valid/images/buy3_jpg.rf.098be31b62591e4a670e44ac1d4c24c9.jpg  \n",
            " extracting: valid/images/buy4_jpg.rf.f12696a3802327d3d115707a4bfccb00.jpg  \n",
            " extracting: valid/images/buy4_jpg.rf.f407e6396bd4cc57e5cbc4764d9f1276.jpg  \n",
            " extracting: valid/images/buy6_jpg.rf.598c20f4fb82a535abd1660649082018.jpg  \n",
            " extracting: valid/images/buy6_jpg.rf.652d97a5fa315eb531dee8f735669e29.jpg  \n",
            " extracting: valid/images/buy6_jpg.rf.a4d4d772cd1b365fb49987118b066db5.jpg  \n",
            " extracting: valid/images/car_on_parked_cars_jpg.rf.0456a290ce440cd86b5865576bfeb2fa.jpg  \n",
            " extracting: valid/images/car_on_parked_cars_jpg.rf.9ff49053ddd6175a0a15583939f68840.jpg  \n",
            " extracting: valid/images/download-1-_jpg.rf.d8f5356407aa430b4545162ffbc218ea.jpg  \n",
            " extracting: valid/images/download-10_jpg.rf.2524f66d8913aa0ea721250eefabc58e.jpg  \n",
            " extracting: valid/images/download-10_jpg.rf.2a88a14fe6baf86bd4d575aa48733e9b.jpg  \n",
            " extracting: valid/images/download-10_jpg.rf.7bb9bc815a8fa5679e3e44499ef11590.jpg  \n",
            " extracting: valid/images/download-11-_jpg.rf.ba34dfda5386e2aba31ebf164387e918.jpg  \n",
            " extracting: valid/images/download-12_jpg.rf.7a1e14e3561a87c4198d1e316d047e6f.jpg  \n",
            " extracting: valid/images/download-12_jpg.rf.b0790c4a7f8940bd19035576fedadeec.jpg  \n",
            " extracting: valid/images/download-12_jpg.rf.b6f37487f2da411ade299bbf959a4dab.jpg  \n",
            " extracting: valid/images/download-12_jpg.rf.b939b6fb80605757828bb54bbaabf647.jpg  \n",
            " extracting: valid/images/download-13-_jpg.rf.a81dde829e1ef08023b3f998e1d71829.jpg  \n",
            " extracting: valid/images/download-1_jpg.rf.131fd0e2deb462172b8fa81a57ee514d.jpg  \n",
            " extracting: valid/images/download-1_jpg.rf.2e46a99b98eef4820c6493034697b377.jpg  \n",
            " extracting: valid/images/download-1_jpg.rf.32e2ec9ed90b3bbc599dc360d3c16792.jpg  \n",
            " extracting: valid/images/download-1_jpg.rf.6b04bfa9395b3b2065fe96df694807ca.jpg  \n",
            " extracting: valid/images/download-1_jpg.rf.6e8a201b0eb936c37a479ef2c5e60674.jpg  \n",
            " extracting: valid/images/download-1_jpg.rf.c2fad22b43d6094509e3b9fe5d834b89.jpg  \n",
            " extracting: valid/images/download-1_jpg.rf.dd6142e665b7d6c6b245e30b1f0f3dba.jpg  \n",
            " extracting: valid/images/download-1_jpg.rf.f1f532c818f008bd4a46ef3015337326.jpg  \n",
            " extracting: valid/images/download-2_jpg.rf.0af3d064337a04d4bdf1ce26d933157a.jpg  \n",
            " extracting: valid/images/download-2_jpg.rf.534589444dd16858d33f8836fe9800bc.jpg  \n",
            " extracting: valid/images/download-2_jpg.rf.55ae5e918de00aa6c84f91174df128b5.jpg  \n",
            " extracting: valid/images/download-2_jpg.rf.7c54f6812359703bcdf699b58504e737.jpg  \n",
            " extracting: valid/images/download-2_jpg.rf.7ecc9619a8e93fb14c68061df0168672.jpg  \n",
            " extracting: valid/images/download-2_jpg.rf.a9b5978e4ef15825b0b18740b39d5271.jpg  \n",
            " extracting: valid/images/download-2_jpg.rf.eeaa70d98abb2bf517bf10d22af7d9ab.jpg  \n",
            " extracting: valid/images/download-3_jpg.rf.07d703e490f788478a9e6bc02f0e75bb.jpg  \n",
            " extracting: valid/images/download-3_jpg.rf.33a5eed59b2bc86cf532291c5cb20fc5.jpg  \n",
            " extracting: valid/images/download-3_jpg.rf.476c68cc8354067e28c6eee99ad6bd52.jpg  \n",
            " extracting: valid/images/download-3_jpg.rf.538101ffd5ac3722a3499a5326788931.jpg  \n",
            " extracting: valid/images/download-3_jpg.rf.890de94b11b6afcb44ba98a9b96c5037.jpg  \n",
            " extracting: valid/images/download-3_jpg.rf.be0955e40226d62b68fc8ce35b649a46.jpg  \n",
            " extracting: valid/images/download-3_jpg.rf.be7f2eeea8d6d7f25f46a5dd53ca0733.jpg  \n",
            " extracting: valid/images/download-3_jpg.rf.e4d9c8c440a96d86e46f306b418a6190.jpg  \n",
            " extracting: valid/images/download-4_jpg.rf.0274e903ca7c7bc665d167231196fafb.jpg  \n",
            " extracting: valid/images/download-4_jpg.rf.14e2ab160ae1ae11f6a3e143be2b5ba3.jpg  \n",
            " extracting: valid/images/download-4_jpg.rf.377d424f446547bd94b59e59ef008cbb.jpg  \n",
            " extracting: valid/images/download-4_jpg.rf.47a7b71e90c79f4747c46f1f243d74de.jpg  \n",
            " extracting: valid/images/download-4_jpg.rf.b9b9a5844cf5634f3441958c299b0280.jpg  \n",
            " extracting: valid/images/download-5_jpg.rf.10d2f64a797fe4c398da875d92bcf580.jpg  \n",
            " extracting: valid/images/download-5_jpg.rf.6ab341bbefc228b47aa1b6e864a7d8b5.jpg  \n",
            " extracting: valid/images/download-5_jpg.rf.b02f77490167585ab341e0514b730ecb.jpg  \n",
            " extracting: valid/images/download-5_jpg.rf.fda5ffdd879fe371aa16befb1f0ba229.jpg  \n",
            " extracting: valid/images/download-6-_jpg.rf.d380bf2b902ff0f3b9c74fb041ee147f.jpg  \n",
            " extracting: valid/images/download-6_jpg.rf.12d78d935f83c5b0974fc947d12407bc.jpg  \n",
            " extracting: valid/images/download-6_jpg.rf.3daa2d47874d6b1d9403adaccdb61128.jpg  \n",
            " extracting: valid/images/download-7_jpg.rf.a50cb642c32a9815cf8cf804681fe9e3.jpg  \n",
            " extracting: valid/images/download-7_jpg.rf.c1bb6e6707e8d803a873a497b767508b.jpg  \n",
            " extracting: valid/images/download-8-_jpg.rf.240f50b647fba1f246fa7dc214475df7.jpg  \n",
            " extracting: valid/images/download-8_jpg.rf.dd56a0c38713080b787b7d67d9ca3176.jpg  \n",
            " extracting: valid/images/download-9_jpg.rf.513819b7242d5d929d12884bb5de9d92.jpg  \n",
            " extracting: valid/images/download-9_jpg.rf.6df21b415c397880ae74b49e5dd3d092.jpg  \n",
            " extracting: valid/images/download-9_jpg.rf.7824b2fb13426ec13d855fc20892ea9d.jpg  \n",
            " extracting: valid/images/download-9_jpg.rf.7f2c94201cb53396d9b769bc91da495d.jpg  \n",
            " extracting: valid/images/download-9_jpg.rf.a9c8fb395852b40329d326fbc8bf1d7f.jpg  \n",
            " extracting: valid/images/download_jpg.rf.1322d18fc3d1ff39a185a0859852be6a.jpg  \n",
            " extracting: valid/images/download_jpg.rf.1b2321da2502a926bc4baa33e53ee303.jpg  \n",
            " extracting: valid/images/download_jpg.rf.1e96b52834df61ec1aef75f77ec896ec.jpg  \n",
            " extracting: valid/images/download_jpg.rf.2042b8781778c0f7ca3300825f5c513d.jpg  \n",
            " extracting: valid/images/download_jpg.rf.554e517a2ab2cb5960ca6e0bc07ab0f7.jpg  \n",
            " extracting: valid/images/download_jpg.rf.5ed3133b0a4de05f7cd60314c8abc070.jpg  \n",
            " extracting: valid/images/download_jpg.rf.7b10a761b28d28fd1403caf6cac65cb1.jpg  \n",
            " extracting: valid/images/download_jpg.rf.849bdef00e816b8da7fd0902df262dd9.jpg  \n",
            " extracting: valid/images/download_jpg.rf.a6cde77a8d5bd3142caeccb4ad22d3fa.jpg  \n",
            " extracting: valid/images/download_jpg.rf.ba63ce54f4b94720b2c28435a4929c7d.jpg  \n",
            " extracting: valid/images/download_jpg.rf.c1c79b54cab68cf4959514ae2a2af1e9.jpg  \n",
            " extracting: valid/images/download_jpg.rf.eb43f186304dd882011c7fb4d8171368.jpg  \n",
            " extracting: valid/images/download_jpg.rf.fa729b69dc644949d2c3cb4050cbb9af.jpg  \n",
            " extracting: valid/images/images-10_jpg.rf.460a5f906009c174553b6963b814b057.jpg  \n",
            " extracting: valid/images/images-10_jpg.rf.73a04cdc61155581e81d202f0095cf32.jpg  \n",
            " extracting: valid/images/images-10_jpg.rf.a47b7426b85c91b73e2279323e50e182.jpg  \n",
            " extracting: valid/images/images-11_jpg.rf.19bbc456223bf1a01e8d4b1b2600c179.jpg  \n",
            " extracting: valid/images/images-11_jpg.rf.33df902b69647070604cbcbafa6187ee.jpg  \n",
            " extracting: valid/images/images-11_jpg.rf.3de8225d5632726e2c873a78c5c954cb.jpg  \n",
            " extracting: valid/images/images-11_jpg.rf.7dfca53b46cf98e16e0d3225415c8b5a.jpg  \n",
            " extracting: valid/images/images-11_jpg.rf.e80a8062b683f635184c26066dcd3aaa.jpg  \n",
            " extracting: valid/images/images-12_jpg.rf.3c9f0b767a55344aae18e2db5862d30d.jpg  \n",
            " extracting: valid/images/images-12_jpg.rf.3e260b42e455db3845a3c005265b8715.jpg  \n",
            " extracting: valid/images/images-12_jpg.rf.42039241e29d14fd077d4fab32c216c5.jpg  \n",
            " extracting: valid/images/images-12_jpg.rf.42cb55aab6ee733dd2e2098cf3c25b71.jpg  \n",
            " extracting: valid/images/images-12_jpg.rf.726874a6f5bcffb94190d28d0f03d189.jpg  \n",
            " extracting: valid/images/images-12_jpg.rf.789e0d9e9544b6e62602f9b6bd077bf6.jpg  \n",
            " extracting: valid/images/images-12_jpg.rf.7b5bd36f8be875a83bffabbe9b3aee97.jpg  \n",
            " extracting: valid/images/images-12_jpg.rf.93289b6a4d88ac5c873d61c7764bdf2e.jpg  \n",
            " extracting: valid/images/images-12_jpg.rf.e941977f2f3494d86475cd62e62c0c69.jpg  \n",
            " extracting: valid/images/images-12_jpg.rf.f1547406e850d3ffe15fe4b94b00411c.jpg  \n",
            " extracting: valid/images/images-12_jpg.rf.fc0b6e05fea0ef6b462f75d0baf3dcf8.jpg  \n",
            " extracting: valid/images/images-12_jpg.rf.fc6a53863c0f13d3c0f7c503612e76c8.jpg  \n",
            " extracting: valid/images/images-13_jpg.rf.185ccbf3ee452d5797f42b775f737f22.jpg  \n",
            " extracting: valid/images/images-13_jpg.rf.2358a2e852a7fb55d98335b52073ffe8.jpg  \n",
            " extracting: valid/images/images-13_jpg.rf.24c5acae2ea817d735812518547a32ff.jpg  \n",
            " extracting: valid/images/images-13_jpg.rf.2a0f50f71d7753e642d6b49a55dadda3.jpg  \n",
            " extracting: valid/images/images-13_jpg.rf.654bab9715c4e55fde57e77cd41a5ad6.jpg  \n",
            " extracting: valid/images/images-13_jpg.rf.6d0a4b17c4cba81d96348622b79a5929.jpg  \n",
            " extracting: valid/images/images-13_jpg.rf.cc54e2784f89e2bee470c16a00aa65fe.jpg  \n",
            " extracting: valid/images/images-14_jpg.rf.65b2d860fa7fc3a7a459f65a77dad8ad.jpg  \n",
            " extracting: valid/images/images-14_jpg.rf.95f0dcae86b2c5923d3d650f7ef57179.jpg  \n",
            " extracting: valid/images/images-14_jpg.rf.ef775c2599fc1a033c7ed9820b8955c4.jpg  \n",
            " extracting: valid/images/images-15_jpg.rf.0bd77cd4eec7c55fad10721b9f4ed27a.jpg  \n",
            " extracting: valid/images/images-15_jpg.rf.266c832d567fe06f9d3965ef92537db5.jpg  \n",
            " extracting: valid/images/images-15_jpg.rf.420f4bb6dbd2da6eaa08eec5f324020e.jpg  \n",
            " extracting: valid/images/images-15_jpg.rf.703b3e9a1df78bbba0a33cb464dd6bc8.jpg  \n",
            " extracting: valid/images/images-15_jpg.rf.fba167402465721b3727a0ca28e3b5ba.jpg  \n",
            " extracting: valid/images/images-16_jpg.rf.3d78835b79b207e3caf30c36dfb49ccf.jpg  \n",
            " extracting: valid/images/images-16_jpg.rf.3ecaff00faeafc548c9e11be29ff703c.jpg  \n",
            " extracting: valid/images/images-16_jpg.rf.cb5dcd99f3d53ccdea22ea8228881b20.jpg  \n",
            " extracting: valid/images/images-16_jpg.rf.e450ba049b1d3426234b4ec01dbe91be.jpg  \n",
            " extracting: valid/images/images-17_jpg.rf.01ee42a73b27fafd62089d82ca1b5e9a.jpg  \n",
            " extracting: valid/images/images-17_jpg.rf.0b6f3752bcde52a92e89120f75e96452.jpg  \n",
            " extracting: valid/images/images-17_jpg.rf.1e8abeda3c1a7394c311df7dd4455aeb.jpg  \n",
            " extracting: valid/images/images-17_jpg.rf.8177e986a07e2f8fae89667d9d8cbf0a.jpg  \n",
            " extracting: valid/images/images-17_jpg.rf.dcf18db86ad9c80707b070c34167dae4.jpg  \n",
            " extracting: valid/images/images-18_jpg.rf.f1a9d3573af8fad11d7236c844541223.jpg  \n",
            " extracting: valid/images/images-19_jpg.rf.1493f7da49a6671b2af4064e0dc6e37d.jpg  \n",
            " extracting: valid/images/images-19_jpg.rf.8bd32ba6459d792702844b4cd8ee0919.jpg  \n",
            " extracting: valid/images/images-19_jpg.rf.dbe674e1fd2517c3b9461056f0634f84.jpg  \n",
            " extracting: valid/images/images-19_jpg.rf.dfb3cc42970d8bbcd9bddebb45559732.jpg  \n",
            " extracting: valid/images/images-19_jpg.rf.f472185f8fc804079dcb360a5ac95358.jpg  \n",
            " extracting: valid/images/images-1_jpg.rf.069e54c7ff2a32b153f84c5158032f1d.jpg  \n",
            " extracting: valid/images/images-1_jpg.rf.1272abe49d53c04d5104f70f832fcc60.jpg  \n",
            " extracting: valid/images/images-1_jpg.rf.4761cc8a07d52235a44195be826c7a9a.jpg  \n",
            " extracting: valid/images/images-1_jpg.rf.5f4a675b0e06823689b286c15d824699.jpg  \n",
            " extracting: valid/images/images-1_jpg.rf.89a09b72caca9eee8a66a11b6754a82a.jpg  \n",
            " extracting: valid/images/images-1_jpg.rf.8ccdf083417809ab82930f5d41e99810.jpg  \n",
            " extracting: valid/images/images-1_jpg.rf.aca025677e130b9c8596aa3cab3ca204.jpg  \n",
            " extracting: valid/images/images-1_jpg.rf.b37cabb8b838f88777964ee591216598.jpg  \n",
            " extracting: valid/images/images-1_jpg.rf.d13ae295ce83f0ee286f5de5c034f66f.jpg  \n",
            " extracting: valid/images/images-1_jpg.rf.e3eb14e44c87cfed532eda03687dffc7.jpg  \n",
            " extracting: valid/images/images-1_jpg.rf.f4a148fe574a9950200537fe63f7f942.jpg  \n",
            " extracting: valid/images/images-2020-08-13T213919-517_jpg.rf.7ecc681f4b694131c894bfe2e568a985.jpg  \n",
            " extracting: valid/images/images-2020-08-13T213919-517_jpg.rf.8a8472a9b75c7906ee6814f6af69148b.jpg  \n",
            " extracting: valid/images/images-2020-08-13T213919-517_jpg.rf.b8c1c7e74eb27fae4f73aa32abbc0eb2.jpg  \n",
            " extracting: valid/images/images-2020-08-13T213922-238_jpg.rf.2facc9331510341f9946c4584a8eafee.jpg  \n",
            " extracting: valid/images/images-2020-08-13T213923-287_jpg.rf.0fa082c2174eec1b3daa44cfafd91c1f.jpg  \n",
            " extracting: valid/images/images-2020-08-13T214339-354_jpg.rf.53c1c21cd03d329275184635f5a4b4f5.jpg  \n",
            " extracting: valid/images/images-2020-08-13T214339-354_jpg.rf.9c6c305f6fb7ce4850f24db91ad971cd.jpg  \n",
            " extracting: valid/images/images-20_jpg.rf.47bd56dbca935021545dc36059f80978.jpg  \n",
            " extracting: valid/images/images-20_jpg.rf.4e59a5e2188c1a54f8e2b93a2be7e391.jpg  \n",
            " extracting: valid/images/images-20_jpg.rf.d414a1d16b43b3d2a45d032ce8323521.jpg  \n",
            " extracting: valid/images/images-20_jpg.rf.f5e13ef147e9bf076d3316f22efe2828.jpg  \n",
            " extracting: valid/images/images-21_jpg.rf.08241499b40b7d0eeec1ee3c0f0458f6.jpg  \n",
            " extracting: valid/images/images-21_jpg.rf.2f9c563f574911b612d07d729a4d5815.jpg  \n",
            " extracting: valid/images/images-21_jpg.rf.ba097ca0045a9a2a0ec7807d38fbb130.jpg  \n",
            " extracting: valid/images/images-21_jpg.rf.cf2bbbd072157b8f5414ab777af64a7d.jpg  \n",
            " extracting: valid/images/images-22_jpg.rf.966f5e560465a7adc162e989149516ff.jpg  \n",
            " extracting: valid/images/images-22_jpg.rf.ab29b1a569394a581c550e3dc4d55145.jpg  \n",
            " extracting: valid/images/images-22_jpg.rf.e82b711f2c228f527f648a5c5c8690f9.jpg  \n",
            " extracting: valid/images/images-23_jpg.rf.340c2a3d0f9005191d4e954d8f6a3705.jpg  \n",
            " extracting: valid/images/images-23_jpg.rf.5f186c3e1ccac86bb2eac4c926478171.jpg  \n",
            " extracting: valid/images/images-23_jpg.rf.68e5042cbe0d6acc4e1c8be5da3760d0.jpg  \n",
            " extracting: valid/images/images-23_jpg.rf.9a2fae84d4a8d466ed73e9972e0fe237.jpg  \n",
            " extracting: valid/images/images-23_jpg.rf.fb0f72235df5e0721fb5a2739efc56cf.jpg  \n",
            " extracting: valid/images/images-24_jpg.rf.317ecd56c67cec144bab6a4bfa5b492c.jpg  \n",
            " extracting: valid/images/images-24_jpg.rf.65a4c15819b45d9ef080d3a0a6abd390.jpg  \n",
            " extracting: valid/images/images-24_jpg.rf.7bbdb96135cd192e4a2113c8c0b41356.jpg  \n",
            " extracting: valid/images/images-24_jpg.rf.816cba22cea021375b56c3c8e04b31c3.jpg  \n",
            " extracting: valid/images/images-25_jpg.rf.504a0b36db2f560ae2729893f2eaa258.jpg  \n",
            " extracting: valid/images/images-25_jpg.rf.5c36afd55e8c6a168be538ac5dee91d4.jpg  \n",
            " extracting: valid/images/images-25_jpg.rf.d89244ef6d509a8a68218899832f83aa.jpg  \n",
            " extracting: valid/images/images-26_jpg.rf.04cda4e2bd31b19322e37f4e651cb5d7.jpg  \n",
            " extracting: valid/images/images-26_jpg.rf.7960d6d192c063444d1c8c348eff2834.jpg  \n",
            " extracting: valid/images/images-26_jpg.rf.a517af9c7f7c7716c9c190e6060d44b1.jpg  \n",
            " extracting: valid/images/images-27_jpg.rf.00befe9f3e841a050436bd9c37053167.jpg  \n",
            " extracting: valid/images/images-27_jpg.rf.07dd8c2a413bc34fb8766d88a6d4b29f.jpg  \n",
            " extracting: valid/images/images-27_jpg.rf.2b4a4b253d2bc78c925b9a03859ab92e.jpg  \n",
            " extracting: valid/images/images-27_jpg.rf.5f28520bb8f38ec8fdc926e5e5610bec.jpg  \n",
            " extracting: valid/images/images-27_jpg.rf.67e2567899e53b3990a88aa7c3466d0c.jpg  \n",
            " extracting: valid/images/images-27_jpg.rf.6a3a33dd902b247cee6451d287f4afa3.jpg  \n",
            " extracting: valid/images/images-27_jpg.rf.c810f5136038ba7188a3f19d98445cf1.jpg  \n",
            " extracting: valid/images/images-28_jpg.rf.6620b11292db7679ad8a7e1e8bd7311c.jpg  \n",
            " extracting: valid/images/images-28_jpg.rf.b23b3051d4fe9e5924b8432bd1b16691.jpg  \n",
            " extracting: valid/images/images-29_jpg.rf.74f62354608c8391d3d42feef00770b2.jpg  \n",
            " extracting: valid/images/images-29_jpg.rf.8cb7012d88268b117196b17fcf7935ba.jpg  \n",
            " extracting: valid/images/images-29_jpg.rf.943532ee1e10bda6604b62e4327c195a.jpg  \n",
            " extracting: valid/images/images-29_jpg.rf.a552530cc3fc9c195503385ef60efa4f.jpg  \n",
            " extracting: valid/images/images-2_jpg.rf.1fff8966e6be3fd6fa11e78523d7bbff.jpg  \n",
            " extracting: valid/images/images-2_jpg.rf.2ea01ebd5a8bfe3c89e4cb25cd199df5.jpg  \n",
            " extracting: valid/images/images-2_jpg.rf.300d5e6fa5ad9623c5ea6c9ab3945329.jpg  \n",
            " extracting: valid/images/images-2_jpg.rf.3bb9edb37ed3d4f6eef679230ce163fb.jpg  \n",
            " extracting: valid/images/images-2_jpg.rf.47f3bcf559fd1399735e4f66b05ad91e.jpg  \n",
            " extracting: valid/images/images-2_jpg.rf.57f9348327d821e8fc4c8eab80688fb7.jpg  \n",
            " extracting: valid/images/images-2_jpg.rf.5d050faece6f1d6babd407fa12637e5b.jpg  \n",
            " extracting: valid/images/images-2_jpg.rf.5f10f2b5b6558fba626ca1c86d9b7c02.jpg  \n",
            " extracting: valid/images/images-2_jpg.rf.7918e37a0c9dcf06d68306496d26effa.jpg  \n",
            " extracting: valid/images/images-2_jpg.rf.7d7fbb5974a29a8219f419b143f3efa6.jpg  \n",
            " extracting: valid/images/images-2_jpg.rf.7e699937713b35f74602c6334f8a31f3.jpg  \n",
            " extracting: valid/images/images-2_jpg.rf.7fd9febd46b05b5a636c8831d71f430a.jpg  \n",
            " extracting: valid/images/images-2_jpg.rf.80bfb5e1ea39095cc89a36cbae3dc679.jpg  \n",
            " extracting: valid/images/images-2_jpg.rf.8380ce01d91af6066dbc44fb1f630a5e.jpg  \n",
            " extracting: valid/images/images-2_jpg.rf.8d6511640f4a2b29adf8160621e9d720.jpg  \n",
            " extracting: valid/images/images-2_jpg.rf.905d8e18ff72a15e4f49fc8d555185b2.jpg  \n",
            " extracting: valid/images/images-2_jpg.rf.a74f97b2ce00159456077d602fcfe1ea.jpg  \n",
            " extracting: valid/images/images-2_jpg.rf.b89a3f52ef94ff1007477278b31d2fa9.jpg  \n",
            " extracting: valid/images/images-2_jpg.rf.ec86cc0467e07a4429250c9e4bd72fcf.jpg  \n",
            " extracting: valid/images/images-30_jpg.rf.4b1d2ffee169fbb98016a6b5fc251b93.jpg  \n",
            " extracting: valid/images/images-30_jpg.rf.c9fb51f54a2a886a2502f72821ee2215.jpg  \n",
            " extracting: valid/images/images-31_jpg.rf.4885952d6bf0b5d3ef1b035e44d18f7b.jpg  \n",
            " extracting: valid/images/images-31_jpg.rf.d2ad997da2a3e9546d3c629b8840dd69.jpg  \n",
            " extracting: valid/images/images-32_jpg.rf.2bd228f061c2b20fc387452df509b27a.jpg  \n",
            " extracting: valid/images/images-33_jpg.rf.5e0c49921b9108d813a59b90b7a64c5e.jpg  \n",
            " extracting: valid/images/images-34_jpg.rf.7ae7feff261e31bbc441193ff9393cde.jpg  \n",
            " extracting: valid/images/images-38_jpg.rf.f92551080fdae086fcfff04137cb0889.jpg  \n",
            " extracting: valid/images/images-3_jpg.rf.14d921f368ae425b0dcedf7a18d2b32c.jpg  \n",
            " extracting: valid/images/images-3_jpg.rf.51817bbddeca0f301c989736e32feb2d.jpg  \n",
            " extracting: valid/images/images-3_jpg.rf.5ed054eea3b5b19e63d62aa89b5b09a2.jpg  \n",
            " extracting: valid/images/images-3_jpg.rf.68b6c6a87c6e767214644514e3165c59.jpg  \n",
            " extracting: valid/images/images-3_jpg.rf.8221cf205e10aac113dc05b84fcd9fdb.jpg  \n",
            " extracting: valid/images/images-3_jpg.rf.9ec95c9f23b34d506b4655660242834d.jpg  \n",
            " extracting: valid/images/images-3_jpg.rf.9f5c6ea2b4e56dd46e34cb4e6c425c57.jpg  \n",
            " extracting: valid/images/images-3_jpg.rf.a553a3477ea878f9cb784287a3a59602.jpg  \n",
            " extracting: valid/images/images-3_jpg.rf.b38365351de692b7542a49b9d4475242.jpg  \n",
            " extracting: valid/images/images-40_jpg.rf.f2c734a6a35f779ccbe35028eda1e30f.jpg  \n",
            " extracting: valid/images/images-41_jpg.rf.18853ba5ca655510631abc0364345811.jpg  \n",
            " extracting: valid/images/images-42_jpg.rf.4e58a682bfaf3279ca1411a58109fbfe.jpg  \n",
            " extracting: valid/images/images-42_jpg.rf.72a412fa61d4cb103358c0ab08897097.jpg  \n",
            " extracting: valid/images/images-4_jpg.rf.0ee53f2af5d395840c9d6deea4c3e68c.jpg  \n",
            " extracting: valid/images/images-4_jpg.rf.0f469c6f4cc584093e43718fbbbcc8ca.jpg  \n",
            " extracting: valid/images/images-4_jpg.rf.653a3076875868abc5fd33a1d956aaee.jpg  \n",
            " extracting: valid/images/images-4_jpg.rf.83437f0dd167d3dc0e693e22f6e42b25.jpg  \n",
            " extracting: valid/images/images-4_jpg.rf.93a6ba682bb17e8d2399df88e23d2ce0.jpg  \n",
            " extracting: valid/images/images-4_jpg.rf.bf58b9c69ca3e7bd6d25a147e4f9d809.jpg  \n",
            " extracting: valid/images/images-5_jpg.rf.01a310dd8f745f8ef54fb09086d1ae74.jpg  \n",
            " extracting: valid/images/images-5_jpg.rf.47b592e544a3a9401a3a4e3fd5927c25.jpg  \n",
            " extracting: valid/images/images-5_jpg.rf.6bc323b43658e891e56d850530295e92.jpg  \n",
            " extracting: valid/images/images-5_jpg.rf.764f123caa516be666383dd67579c22c.jpg  \n",
            " extracting: valid/images/images-5_jpg.rf.81b0ccfd47915406b8bfa93fb8270f58.jpg  \n",
            " extracting: valid/images/images-5_jpg.rf.9b3cb05f0865428430ab610d9ad6648e.jpg  \n",
            " extracting: valid/images/images-5_jpg.rf.adc5eb3df3d2e0c951f31989d924cb21.jpg  \n",
            " extracting: valid/images/images-5_jpg.rf.b15d33f63f3b75a371490aa0844c7175.jpg  \n",
            " extracting: valid/images/images-5_jpg.rf.d0436aa4608c9659dac530daba4884c8.jpg  \n",
            " extracting: valid/images/images-5_jpg.rf.d82e1f9b118df4ff44dc559687ab7406.jpg  \n",
            " extracting: valid/images/images-5_jpg.rf.fb96ec4cc545be172b672c4fed6a40d0.jpg  \n",
            " extracting: valid/images/images-6_jpg.rf.07356483226b980df6ef0323d4a7d952.jpg  \n",
            " extracting: valid/images/images-6_jpg.rf.2bb92ee86b818f3bd85dab7af32e5fe7.jpg  \n",
            " extracting: valid/images/images-6_jpg.rf.44ac5ec7ac492eb3a4228854d968ca3c.jpg  \n",
            " extracting: valid/images/images-6_jpg.rf.5f0327ad8a4f5d134bc8e4237e395103.jpg  \n",
            " extracting: valid/images/images-6_jpg.rf.7776078702d8d5d9837bb99f15cfaca8.jpg  \n",
            " extracting: valid/images/images-6_jpg.rf.7e1b355829b51ea9201b3617681ba677.jpg  \n",
            " extracting: valid/images/images-6_jpg.rf.8aa2155fed3e6f12bb8d0217be3fdf64.jpg  \n",
            " extracting: valid/images/images-6_jpg.rf.8f3f5f02ed88d6d23a729ae2be5b08ab.jpg  \n",
            " extracting: valid/images/images-7_jpg.rf.0683c608f1bed235418ae1cc76a1fcc7.jpg  \n",
            " extracting: valid/images/images-7_jpg.rf.2ef421b0e8e4f34866ed448a48fcaf7a.jpg  \n",
            " extracting: valid/images/images-7_jpg.rf.5d0a9f96b3bfa90116b303fe068adc5f.jpg  \n",
            " extracting: valid/images/images-7_jpg.rf.d2e3082e78c4f8f613f8115db2675432.jpg  \n",
            " extracting: valid/images/images-8_jpg.rf.13f9006dac2097d92fbba3e872787b3e.jpg  \n",
            " extracting: valid/images/images-8_jpg.rf.1833cdc5fde6ec43d541130c4e7b81bb.jpg  \n",
            " extracting: valid/images/images-8_jpg.rf.7b99a90b164bdfed9a8e1778dee0bffc.jpg  \n",
            " extracting: valid/images/images-8_jpg.rf.7f26851ff8b4e2de1aee96d18a9dba22.jpg  \n",
            " extracting: valid/images/images-8_jpg.rf.83827c192cfdca3524f33e886ab6a5a2.jpg  \n",
            " extracting: valid/images/images-8_jpg.rf.a13cbc7d95d551838ef3e7aef9102b94.jpg  \n",
            " extracting: valid/images/images-8_jpg.rf.a79fcd5ece6fd60fc67832ff680d4b31.jpg  \n",
            " extracting: valid/images/images-8_jpg.rf.b09b3e64d558f74a2643d3ec97388cde.jpg  \n",
            " extracting: valid/images/images-8_jpg.rf.ce784e5ab187809f61c60ed202bbad76.jpg  \n",
            " extracting: valid/images/images-9_jpg.rf.0b67663c2c7bdd6e6fb8c12d68d3c5d7.jpg  \n",
            " extracting: valid/images/images-9_jpg.rf.1262e4850b90937949aa5552a4339c50.jpg  \n",
            " extracting: valid/images/images-9_jpg.rf.13531ad9942bf417978ca3bfdcf2a695.jpg  \n",
            " extracting: valid/images/images-9_jpg.rf.30dd59084bd93f06c7b1b3e7eceb1177.jpg  \n",
            " extracting: valid/images/images-9_jpg.rf.4159a1688845f640f6e176f01e69f1d8.jpg  \n",
            " extracting: valid/images/images-9_jpg.rf.45f20694e087f699e33141bce6e61b98.jpg  \n",
            " extracting: valid/images/images-9_jpg.rf.462115d7a6eed7d879bd99ae32c706c4.jpg  \n",
            " extracting: valid/images/images-9_jpg.rf.868340dd8d6d2234ceb1626c5070b39a.jpg  \n",
            " extracting: valid/images/images_002_jpg.rf.0c89c4c685d670089efeb2352ae7d0e2.jpg  \n",
            " extracting: valid/images/images_002_jpg.rf.91f3bd7fac5b3ca1948add50b2dc41e6.jpg  \n",
            " extracting: valid/images/images_002_jpg.rf.fc59bfe8e70f4957cecb24fcafc16588.jpg  \n",
            " extracting: valid/images/images_006_jpg.rf.431abe5e64783fac9815d6bc16181ec2.jpg  \n",
            " extracting: valid/images/images_006_jpg.rf.5ce6c297137b349f942c9fd4c7177319.jpg  \n",
            " extracting: valid/images/images_jpg.rf.06795d426bebcc65cf57cc793f8c63e3.jpg  \n",
            " extracting: valid/images/images_jpg.rf.15e921c8f991217b1a2007f5296b15c0.jpg  \n",
            " extracting: valid/images/images_jpg.rf.1b14c2fdffcd73e7ee718640722186a4.jpg  \n",
            " extracting: valid/images/images_jpg.rf.22dfb9855eec258144ed3d5780038292.jpg  \n",
            " extracting: valid/images/images_jpg.rf.2a1da5e7c5c20b024d16136a1c3b0d5b.jpg  \n",
            " extracting: valid/images/images_jpg.rf.2aa7f35f4b392b34c1ec62e9e7b470d6.jpg  \n",
            " extracting: valid/images/images_jpg.rf.3a8e0eca702e91b1865166195fda75dd.jpg  \n",
            " extracting: valid/images/images_jpg.rf.4699a34ed4582b509915fbc486e3c76a.jpg  \n",
            " extracting: valid/images/images_jpg.rf.6210a368cdb242291d9d11633397a4d5.jpg  \n",
            " extracting: valid/images/images_jpg.rf.63f5ec8fe576ed8323170d486354d61d.jpg  \n",
            " extracting: valid/images/images_jpg.rf.6d451a311be4f1382417592cf7ba9172.jpg  \n",
            " extracting: valid/images/images_jpg.rf.741056e8a374daee5afa236e6cfb4837.jpg  \n",
            " extracting: valid/images/images_jpg.rf.759efcc2ea36d46fb23ab7f57c90f22d.jpg  \n",
            " extracting: valid/images/images_jpg.rf.773bb7d2c615b818bb94eff0e1f5eaba.jpg  \n",
            " extracting: valid/images/images_jpg.rf.7f39a87251a461e1e055197b36acf4c4.jpg  \n",
            " extracting: valid/images/images_jpg.rf.8b4fafa1bc8c1a78dcc83956ddbccb4e.jpg  \n",
            " extracting: valid/images/images_jpg.rf.9f0c4abc375425503b7b5b36c07f322c.jpg  \n",
            " extracting: valid/images/images_jpg.rf.b467f41525762fe058fcd883db754cfd.jpg  \n",
            " extracting: valid/images/images_jpg.rf.bc7d786e2f3d3d2fca9802dc7f30e82f.jpg  \n",
            " extracting: valid/images/images_jpg.rf.c5dbe0b123992217e53bcb0203b1f895.jpg  \n",
            " extracting: valid/images/images_jpg.rf.d72270c1ef2790f08f81a093cf7d78da.jpg  \n",
            " extracting: valid/images/images_jpg.rf.e644e382a8581e3916015584389cade1.jpg  \n",
            " extracting: valid/images/images_jpg.rf.f2bfd023a2049bd65d7a6ac4b227a81e.jpg  \n",
            " extracting: valid/images/images_jpg.rf.f6a7ab5403e52d63bd96fd8a351eeca6.jpg  \n",
            " extracting: valid/images/istockphoto-451333971-612x612_jpg.rf.5b3a5692143d945d700c70824dfcb4c3.jpg  \n",
            " extracting: valid/images/maxresdefaul11t_jpg.rf.84107aab68fc7d7e8c9a6fe87acc83b9.jpg  \n",
            " extracting: valid/images/new_SD3_jpg.rf.0f2b982b5a02bbd0f1e4ea9495624071.jpg  \n",
            " extracting: valid/images/new_SD3_jpg.rf.b35ba8e0bfe6522b751b99053ce8dc02.jpg  \n",
            " extracting: valid/images/new_SD4_jpg.rf.06e8266fcc93be3daff6994b40c42d51.jpg  \n",
            " extracting: valid/images/new_SD4_jpg.rf.22ffb26dd077c3755d91b732f758e78c.jpg  \n",
            " extracting: valid/images/new_SD4_jpg.rf.289db74d8232a0e4688f6d806139efeb.jpg  \n",
            " extracting: valid/images/new_SD6_jpg.rf.328981a65516e39b73f1d47044b22225.jpg  \n",
            " extracting: valid/images/new_SD6_jpg.rf.40fa944b06718a4f82831a5f2d973c95.jpg  \n",
            " extracting: valid/images/new_SD6_jpg.rf.d74d7944f543c3879eae83186c119038.jpg  \n",
            " extracting: valid/images/screen_images10_png_jpg.rf.2151ae2c3198797c83af5736a2aaf7ea.jpg  \n",
            " extracting: valid/images/screen_images2_png_jpg.rf.1639ad35c169fe091c39aacec39a0291.jpg  \n",
            " extracting: valid/images/screen_images2_png_jpg.rf.62ce45a34b29297b7ab7c24b6a6e817e.jpg  \n",
            " extracting: valid/images/screen_images3_png_jpg.rf.9a25491bba373900afe3eba5e185313d.jpg  \n",
            " extracting: valid/images/screen_images3_png_jpg.rf.a216525c4c2b2b8234a131366cce88cd.jpg  \n",
            " extracting: valid/images/screen_images4_png_jpg.rf.76010f9db4540390b5714a107dc05829.jpg  \n",
            " extracting: valid/images/screen_images5_png_jpg.rf.33f97c2c0ef4c584b4c7c0d4752f3b4d.jpg  \n",
            " extracting: valid/images/screen_images6_png_jpg.rf.100d4b4112942b82bbd1e1f21da73e9d.jpg  \n",
            " extracting: valid/images/screen_images6_png_jpg.rf.8c3380d14950de3623bb16993457c5e8.jpg  \n",
            " extracting: valid/images/screen_images8_png_jpg.rf.a51b731f10c59c4f63b46fbd1828c950.jpg  \n",
            " extracting: valid/images/screen_images9_png_jpg.rf.06d1b95d2b58d3ebe2c288f7fd178118.jpg  \n",
            " extracting: valid/images/sev10_jpg.rf.8eb889295da39109cec0b95110ebddff.jpg  \n",
            " extracting: valid/images/sev11_jpg.rf.46ae9f017450aa2d42b194250b4a0c4d.jpg  \n",
            " extracting: valid/images/sev2_jpg.rf.95c4d39015795f8054dfdf2ca2e25113.jpg  \n",
            " extracting: valid/images/sev3_jpg.rf.4b418e52177cb8bb66cc023aab842d70.jpg  \n",
            " extracting: valid/images/sev3_jpg.rf.f54bae1a153fb537b923d76184d2712f.jpg  \n",
            " extracting: valid/images/sev4_jpg.rf.763b3b665b32cadfdf22e8bd7076d6f9.jpg  \n",
            " extracting: valid/images/sev7_jpg.rf.013111daaae8b1535873b3b5fe029e0b.jpg  \n",
            " extracting: valid/images/sev8_jpg.rf.1f2a8f8f78e10c59884b6cdecb6e18e5.jpg  \n",
            " extracting: valid/images/sev9_jpg.rf.9d05303e63ac207ac10822f1da625005.jpg  \n",
            " extracting: valid/images/sever11_jpg.rf.52ee275d55617b1e5b6b677602ea686e.jpg  \n",
            " extracting: valid/images/sever2_jpg.rf.314c7bbfe36622a3e9d47e14348d0953.jpg  \n",
            " extracting: valid/images/sever2_jpg.rf.c9b0aef5b276f540d1bc4479c0df0d10.jpg  \n",
            " extracting: valid/images/sever6_jpg.rf.c1987c7f5d95e1460e45c21528351a83.jpg  \n",
            " extracting: valid/images/sever8_jpg.rf.b462e2f84348aac0abab65a608a3a280.jpg  \n",
            " extracting: valid/images/sever9_jpg.rf.98b3ffcb63511df9dc33efa7672b56a5.jpg  \n",
            " extracting: valid/images/severV110_jpg.rf.6bad849c263baea976534757e318419d.jpg  \n",
            " extracting: valid/images/severV110_jpg.rf.75ae27c8e98f08b904f05b7942a38700.jpg  \n",
            " extracting: valid/images/severV110_jpg.rf.dd32bd39635ffc8827179d50879e1743.jpg  \n",
            " extracting: valid/images/severV11_jpg.rf.20c2a9d91b81d77b60d408f77e1f688e.jpg  \n",
            " extracting: valid/images/severV15_jpg.rf.4624281cb5df0f64c5a019f6be27943b.jpg  \n",
            " extracting: valid/images/severV16_jpg.rf.74b3b2dcd890ce84696a27852ec67355.jpg  \n",
            " extracting: valid/images/severV19_jpg.rf.8f1020e0cf3ba7901e48d73b1f9c2016.jpg  \n",
            " extracting: valid/images/severe11_jpeg_jpg.rf.4dc3646dad21f83c38cbf1a96148ffc7.jpg  \n",
            " extracting: valid/images/severe11_jpeg_jpg.rf.8966089386483fe92eb1107cc36409e5.jpg  \n",
            " extracting: valid/images/severe11_jpeg_jpg.rf.c028baa78178e5a74f4f655f22795c75.jpg  \n",
            " extracting: valid/images/severe12_jpeg_jpg.rf.45cbe21ee061a3641838ca22c12777c0.jpg  \n",
            " extracting: valid/images/severe12_jpeg_jpg.rf.a1d8dd0d039f2d49f77c0d3480870bcc.jpg  \n",
            " extracting: valid/images/severe12_jpeg_jpg.rf.bef8559c7e7ff56415c081359cee8491.jpg  \n",
            " extracting: valid/images/severe13_jpeg_jpg.rf.afdaad5449d2d430b41f4467237a8730.jpg  \n",
            " extracting: valid/images/severe13_jpeg_jpg.rf.d717460d52c0fa3d6212817b96e42623.jpg  \n",
            " extracting: valid/images/severe13_jpeg_jpg.rf.fa733db5f61507619c4c96fef313d609.jpg  \n",
            " extracting: valid/images/severe14_jpeg_jpg.rf.24efbe8da768c6595f255fc4d1d82cfc.jpg  \n",
            " extracting: valid/images/severe14_jpeg_jpg.rf.b79ec008143107a1e5a9d49bc3ea0352.jpg  \n",
            " extracting: valid/images/severe17_jpeg_jpg.rf.4ecae598d37c30389c5dd9522668d180.jpg  \n",
            " extracting: valid/images/severe17_jpeg_jpg.rf.c18a5fd0f2ead0589e187a182d47702a.jpg  \n",
            " extracting: valid/images/severityV2_10_jpg.rf.924206b3d405bf7f74e9cb2cb0de45bf.jpg  \n",
            " extracting: valid/images/severityV2_11_jpg.rf.7bbf84f310d8f204878d37c67ff4754a.jpg  \n",
            " extracting: valid/images/severityV2_11_jpg.rf.c36f7f58fa7d14bacd0e662d37b56ecf.jpg  \n",
            " extracting: valid/images/severityV2_12_jpg.rf.b50225e7e45713033d92fd281b94237d.jpg  \n",
            " extracting: valid/images/severityV2_13_jpg.rf.bbf96cdd7a8b69a5df59196537440c40.jpg  \n",
            " extracting: valid/images/severityV2_13_jpg.rf.ee4bd2db3e3e301ae4e52a709f20b025.jpg  \n",
            " extracting: valid/images/severityV2_14_jpg.rf.05b1cf0c525429cf6717c70d88987f47.jpg  \n",
            " extracting: valid/images/severityV2_14_jpg.rf.2358737f7c9e28c65925c19412a7b60a.jpg  \n",
            " extracting: valid/images/severityV2_15_jpg.rf.068b3a4c829c5780fcaa67527254dfdb.jpg  \n",
            " extracting: valid/images/severityV2_16_jpg.rf.00721c940b46f9413aab1c753fc5bfb9.jpg  \n",
            " extracting: valid/images/severityV2_16_jpg.rf.41c80c0fefde3b34547a695535f6e939.jpg  \n",
            " extracting: valid/images/severityV2_17_jpg.rf.e2f30a91fc5baadf2ec4eeb28f08b32f.jpg  \n",
            " extracting: valid/images/severityV2_18_jpg.rf.5d8f0d8f86dd2c02ee3e3689c331824b.jpg  \n",
            " extracting: valid/images/severityV2_18_jpg.rf.637081b06d27f1362a7051a56bc705cd.jpg  \n",
            " extracting: valid/images/severityV2_18_jpg.rf.678748e76db1baa7b078bca7a4a5ea81.jpg  \n",
            " extracting: valid/images/severityV2_1_jpg.rf.b31eda98e3b2b80159731007be250546.jpg  \n",
            " extracting: valid/images/severityV2_1_jpg.rf.e0acd81b9713e51145f31172e893a6c2.jpg  \n",
            " extracting: valid/images/severityV2_20_jpg.rf.34d4058887bc5a3341245f2e02e56e75.jpg  \n",
            " extracting: valid/images/severityV2_20_jpg.rf.8c6e49a025c6c47765980955c35e0fc4.jpg  \n",
            " extracting: valid/images/severityV2_21_jpg.rf.c149560995178d5e39d1177dacbc9f63.jpg  \n",
            " extracting: valid/images/severityV2_24_jpg.rf.2e6650a0d8e265b684ea9e7a62bd9d7b.jpg  \n",
            " extracting: valid/images/severityV2_24_jpg.rf.408ccc1ee9565a37860cd87ee75ac4fc.jpg  \n",
            " extracting: valid/images/severityV2_26_jpg.rf.9a0ae366d1e655c10f57571b3e52ef93.jpg  \n",
            " extracting: valid/images/severityV2_29_jpg.rf.8267bc63fc93c16f6c69c34c2afff05c.jpg  \n",
            " extracting: valid/images/severityV2_29_jpg.rf.ae19a4704a193ab59cd82679f0cb166e.jpg  \n",
            " extracting: valid/images/severityV2_30_jpg.rf.387f9cfaf28418e3a15645a258d4b070.jpg  \n",
            " extracting: valid/images/severityV2_31_jpg.rf.431d186a2fd4e19d197bcfb891ec9d22.jpg  \n",
            " extracting: valid/images/severityV2_31_jpg.rf.cab4013db2e7b6fcadc156b448cc6922.jpg  \n",
            " extracting: valid/images/severityV2_32_jpg.rf.22c7d403225b005d01c4eb7152172130.jpg  \n",
            " extracting: valid/images/severityV2_32_jpg.rf.5d6090d64d2cf96065f1d8279e2a4a73.jpg  \n",
            " extracting: valid/images/severityV2_34_jpg.rf.439b67fc1a032a3c3e54e20d948d6ddf.jpg  \n",
            " extracting: valid/images/severityV2_35_jpg.rf.7ea3da1b0edccc2490b8f5d294189b7a.jpg  \n",
            " extracting: valid/images/severityV2_36_jpg.rf.d32221fcb9c673d22cf71edc37b96b85.jpg  \n",
            " extracting: valid/images/severityV2_38_jpg.rf.01d927675fabd8995b856fd8781dea7a.jpg  \n",
            " extracting: valid/images/severityV2_38_jpg.rf.a14ac0f78d0ba134ba5b2cf388147cf7.jpg  \n",
            " extracting: valid/images/severityV2_38_jpg.rf.d1edbe134317cb1e1f538258caaaccca.jpg  \n",
            " extracting: valid/images/severityV2_39_jpg.rf.a69f823c16f526baadc722d10a603725.jpg  \n",
            " extracting: valid/images/severityV2_39_jpg.rf.dc6774d1a05cc748a47406e8b078d188.jpg  \n",
            " extracting: valid/images/severityV2_4_jpg.rf.21ecb11041f1d5278a113f364c20363e.jpg  \n",
            " extracting: valid/images/severityV2_4_jpg.rf.e64e1d0ea7c42c7c86f607fbcb716ab4.jpg  \n",
            " extracting: valid/images/severityV2_5_jpg.rf.196326108f77d2013a0323bcf9b19206.jpg  \n",
            " extracting: valid/images/severityV2_5_jpg.rf.d4b74c9db23bd83edeb018a95a1d5186.jpg  \n",
            " extracting: valid/images/severityV2_5_jpg.rf.ed85a01b7dd61ae04daa3930638efa07.jpg  \n",
            " extracting: valid/images/severityV2_5_jpg.rf.fba5a348912f04e01c82887aa49704ec.jpg  \n",
            " extracting: valid/images/severityV2_6_jpg.rf.93db340b4d7c7dc47f2caffb37add63a.jpg  \n",
            " extracting: valid/images/severityV2_7_jpg.rf.bfe2f4048318f7765189c370a51e1807.jpg  \n",
            " extracting: valid/images/severityV2_8_jpg.rf.1860d910aad54e7b408812c2522e0d32.jpg  \n",
            " extracting: valid/images/severityV2_8_jpg.rf.43e481e93ce03ba55a819658188edf0e.jpg  \n",
            " extracting: valid/images/severityV2_8_jpg.rf.bfdb36fc89f7d330d6cbc8dce77c1b1e.jpg  \n",
            " extracting: valid/images/severityV3_10_jpeg_jpg.rf.33e8915f170d2a7f341b7d5f57a3f563.jpg  \n",
            " extracting: valid/images/severityV3_11_jpeg_jpg.rf.4e1e53f73f0d3bf84484a8142823dae7.jpg  \n",
            " extracting: valid/images/severityV3_11_jpeg_jpg.rf.a6abaa502673d369f6777d331b831c8b.jpg  \n",
            " extracting: valid/images/severityV3_12_jpeg_jpg.rf.8baf9ac0d3fcd027303deca38e6c25a1.jpg  \n",
            " extracting: valid/images/severityV3_16_jpeg_jpg.rf.12421b2c3cb597edee102aa1730506dd.jpg  \n",
            " extracting: valid/images/severityV3_16_jpeg_jpg.rf.327690a7763bd3bc657f75fc4aa37060.jpg  \n",
            " extracting: valid/images/severityV3_16_jpeg_jpg.rf.7134fbda39043463295a25a48e96df2c.jpg  \n",
            " extracting: valid/images/severityV3_16_jpeg_jpg.rf.e29696261f5e32fee4752fa5f4e281fb.jpg  \n",
            " extracting: valid/images/severityV3_19_jpeg_jpg.rf.728a97e9d1ccde8e7723a8f2f0d718a0.jpg  \n",
            " extracting: valid/images/severityV3_1_jpeg_jpg.rf.6f355d4e1ddba07ff5167bdeedcef0f7.jpg  \n",
            " extracting: valid/images/severityV3_20_jpeg_jpg.rf.51b7e4bce969237fbc3a8b04ed3c6fac.jpg  \n",
            " extracting: valid/images/severityV3_20_jpeg_jpg.rf.b73db7d3a47bb2da601b2785140f8214.jpg  \n",
            " extracting: valid/images/severityV3_21_jpeg_jpg.rf.7b401afb072a79afdbf00213353bfb8d.jpg  \n",
            " extracting: valid/images/severityV3_21_jpeg_jpg.rf.880df2b12164f074d3b913d83ff42bb8.jpg  \n",
            " extracting: valid/images/severityV3_21_jpeg_jpg.rf.b5fa8e3879fbca064e020653d5df5ac0.jpg  \n",
            " extracting: valid/images/severityV3_24_jpeg_jpg.rf.4c4c609c54cf0858659404af8bbc96a1.jpg  \n",
            " extracting: valid/images/severityV3_24_jpeg_jpg.rf.ca6ca7e268daa62c732507df6ae48948.jpg  \n",
            " extracting: valid/images/severityV3_24_jpeg_jpg.rf.ef275bc4a0f5b368cd9756c31ce47dbb.jpg  \n",
            " extracting: valid/images/severityV3_25_jpeg_jpg.rf.118048fc12f1aa7fba06c02d45d8c926.jpg  \n",
            " extracting: valid/images/severityV3_25_jpeg_jpg.rf.4c95a6fd1246279b8bc73191cc788399.jpg  \n",
            " extracting: valid/images/severityV3_25_jpeg_jpg.rf.bb5588a1595488211d4855614819254e.jpg  \n",
            " extracting: valid/images/severityV3_26_jpeg_jpg.rf.07c57336cfb1973e3c46219b8ac68526.jpg  \n",
            " extracting: valid/images/severityV3_27_jpeg_jpg.rf.dc10d34a2288b7ff77cf2440c193526a.jpg  \n",
            " extracting: valid/images/severityV3_28_jpeg_jpg.rf.413d3d43c10fc4280b400c831534e462.jpg  \n",
            " extracting: valid/images/severityV3_2_jpeg_jpg.rf.4fb1e8c26943fe8dadd745a526f6d73a.jpg  \n",
            " extracting: valid/images/severityV3_2_jpeg_jpg.rf.c8d66ba4dcb1da6be1433fe79ba5be44.jpg  \n",
            " extracting: valid/images/severityV3_30_jpeg_jpg.rf.a9a8b5ddcaf1a8d6ccb50254f4cd284c.jpg  \n",
            " extracting: valid/images/severityV3_31_jpeg_jpg.rf.bcaffc6cdf6601601e76d520503f15c0.jpg  \n",
            " extracting: valid/images/severityV3_32_jpeg_jpg.rf.6b8adca4ce7e109f7b5256874e6709ea.jpg  \n",
            " extracting: valid/images/severityV3_33_jpeg_jpg.rf.35fec1c93424cf7945fdda57fffd7dcf.jpg  \n",
            " extracting: valid/images/severityV3_33_jpeg_jpg.rf.dc312e9ff4f7fbf6f06f9bb6673c9245.jpg  \n",
            " extracting: valid/images/severityV3_33_jpeg_jpg.rf.efa0f6a084f226d80bdb6a9e73cdea91.jpg  \n",
            " extracting: valid/images/severityV3_34_jpeg_jpg.rf.3ed4156919051387e6e1f20103ab2fc5.jpg  \n",
            " extracting: valid/images/severityV3_34_jpeg_jpg.rf.93225c348fa6d4743a018da91eff90ef.jpg  \n",
            " extracting: valid/images/severityV3_34_jpeg_jpg.rf.c49342db05b8abc94f5ad28655d700d8.jpg  \n",
            " extracting: valid/images/severityV3_35_jpeg_jpg.rf.7059db7e5d056308a7dd18990c843b85.jpg  \n",
            " extracting: valid/images/severityV3_36_jpeg_jpg.rf.013e1485ad174b551478aa99bc565049.jpg  \n",
            " extracting: valid/images/severityV3_36_jpeg_jpg.rf.d8030a8758da98e8ad2e729522cf5a35.jpg  \n",
            " extracting: valid/images/severityV3_37_jpeg_jpg.rf.a6fb86cf160df12e5d5eafb6529d68be.jpg  \n",
            " extracting: valid/images/severityV3_37_jpeg_jpg.rf.c24dff5888ae63a92e595ce6bc70a216.jpg  \n",
            " extracting: valid/images/severityV3_37_jpeg_jpg.rf.f6671660bc611e09743c4e1f842b26b9.jpg  \n",
            " extracting: valid/images/severityV3_38_jpeg_jpg.rf.2641aa648886b15700188f4c599e9336.jpg  \n",
            " extracting: valid/images/severityV3_38_jpeg_jpg.rf.ec477235737b55744a42f054144cddf8.jpg  \n",
            " extracting: valid/images/severityV3_38_jpeg_jpg.rf.fe1802a0bd713fedf1fe9fca7e6bf12e.jpg  \n",
            " extracting: valid/images/severityV3_40_jpeg_jpg.rf.147c57d551ede9e2fddb37d225990a84.jpg  \n",
            " extracting: valid/images/severityV3_5_jpeg_jpg.rf.41ed71aca9a16619026551a539b8ac75.jpg  \n",
            " extracting: valid/images/severityV3_5_jpeg_jpg.rf.952133c241b2d8e66bff79d95c8390ca.jpg  \n",
            " extracting: valid/images/severityV3_5_jpeg_jpg.rf.e67500b706b5258f77826d27712f5c42.jpg  \n",
            " extracting: valid/images/severityV3_8_jpeg_jpg.rf.3a1a6b89727e18b6005b8f9dad5b9497.jpg  \n",
            " extracting: valid/images/severityV4_10_jpg.rf.544b5f659d0dfdad3c45e8a41f0aff4a.jpg  \n",
            " extracting: valid/images/severityV4_10_jpg.rf.765a9c01bc860a4ad96191a40aeb35c0.jpg  \n",
            " extracting: valid/images/severityV4_11_jpg.rf.91019b1f21a320a9059b054fae63df52.jpg  \n",
            " extracting: valid/images/severityV4_12_jpg.rf.2e4627e5c2b32dd740af189d2054b5b4.jpg  \n",
            " extracting: valid/images/severityV4_12_jpg.rf.9d1febafe3d58ebe19f6b6bfe5c02f8d.jpg  \n",
            " extracting: valid/images/severityV4_12_jpg.rf.f27520cb7b02b219d7655c814e4248d1.jpg  \n",
            " extracting: valid/images/severityV4_13_jpg.rf.26e4b1bcc69def767c335cd48ce341f6.jpg  \n",
            " extracting: valid/images/severityV4_13_jpg.rf.3f02a2d5e0d227d91d634d2a37afacb0.jpg  \n",
            " extracting: valid/images/severityV4_13_jpg.rf.5cafb2cc6f1004287ea85431199843b8.jpg  \n",
            " extracting: valid/images/severityV4_15_jpg.rf.46815247954138866d5579cf8b69b40b.jpg  \n",
            " extracting: valid/images/severityV4_16_jpg.rf.3bacf913f373de2eb0d0c98cc3c1fae5.jpg  \n",
            " extracting: valid/images/severityV4_16_jpg.rf.6383188da69cc84e0d9c5f5e3cdfe120.jpg  \n",
            " extracting: valid/images/severityV4_17_jpg.rf.64478b505e5706c504b58cc23e306e18.jpg  \n",
            " extracting: valid/images/severityV4_18_jpg.rf.337332d22a6a1131c66767b2193f8b85.jpg  \n",
            " extracting: valid/images/severityV4_18_jpg.rf.521e2fa6299ddf4de2dac2dee28c401a.jpg  \n",
            " extracting: valid/images/severityV4_18_jpg.rf.bcc494e1326795e032b9fc192a5c596f.jpg  \n",
            " extracting: valid/images/severityV4_19_jpg.rf.95b5801a5372681fca2647e7cd959e8e.jpg  \n",
            " extracting: valid/images/severityV4_20_jpg.rf.88f3a71586f2d63332637e470a9dec63.jpg  \n",
            " extracting: valid/images/severityV4_20_jpg.rf.fdf8d278d5f338e801e2e2063766e24d.jpg  \n",
            " extracting: valid/images/severityV4_21_jpg.rf.10cfef4e0133e88d6a72e566412a6e33.jpg  \n",
            " extracting: valid/images/severityV4_21_jpg.rf.8dc27087f0af2d2a3b96797f1516a239.jpg  \n",
            " extracting: valid/images/severityV4_21_jpg.rf.f5d8fbd8c2fb325946d863de8b49a9f7.jpg  \n",
            " extracting: valid/images/severityV4_22_jpg.rf.c555a1f804d0428b369727c7b60400ea.jpg  \n",
            " extracting: valid/images/severityV4_22_jpg.rf.c6744be3bb17e1c3adf93d6bb5d8f785.jpg  \n",
            " extracting: valid/images/severityV4_22_jpg.rf.f9b99dbcb1574e5109b243b22c9b1b20.jpg  \n",
            " extracting: valid/images/severityV4_23_jpg.rf.18b17dfa2dc28961a6216c504ed34ac6.jpg  \n",
            " extracting: valid/images/severityV4_24_jpg.rf.e47504d555596120a41d6627a0784dce.jpg  \n",
            " extracting: valid/images/severityV4_27_jpg.rf.8f226faa6157fe86de10ceac207bf4a2.jpg  \n",
            " extracting: valid/images/severityV4_27_jpg.rf.c5cbb7733d21a42e2e2c72ccc78cb587.jpg  \n",
            " extracting: valid/images/severityV4_28_jpg.rf.60745c757cd8b412083cc09470f4440f.jpg  \n",
            " extracting: valid/images/severityV4_28_jpg.rf.621703c20744e3d8db12550b58d42834.jpg  \n",
            " extracting: valid/images/severityV4_28_jpg.rf.a2311585f4f9a875e873bf2638fdae7b.jpg  \n",
            " extracting: valid/images/severityV4_28_jpg.rf.e8d6c5b57addf33650679cff8a704dfb.jpg  \n",
            " extracting: valid/images/severityV4_29_jpg.rf.515b6ccb92880988714e6587db28fbb9.jpg  \n",
            " extracting: valid/images/severityV4_29_jpg.rf.6b9afd69429ff7c3fa2bc516b3803822.jpg  \n",
            " extracting: valid/images/severityV4_29_jpg.rf.df4c590e5c9fb03f48d07839cef9a0c3.jpg  \n",
            " extracting: valid/images/severityV4_29_jpg.rf.f7cfc70db07eef89ab57b8650cbf40b5.jpg  \n",
            " extracting: valid/images/severityV4_30_jpg.rf.46c9ed8fce9dc1e1204d3a9996bb800b.jpg  \n",
            " extracting: valid/images/severityV4_30_jpg.rf.d7c8ca7b3f8c8792214287c2b4875b19.jpg  \n",
            " extracting: valid/images/severityV4_30_jpg.rf.dafca2d162fc4f4347a5235e947ffe1b.jpg  \n",
            " extracting: valid/images/severityV4_31_jpg.rf.908df90d67dc5706306221f82d8ae850.jpg  \n",
            " extracting: valid/images/severityV4_31_jpg.rf.9bff70a905b8aaa5035cbe0818cfcdc1.jpg  \n",
            " extracting: valid/images/severityV4_33_jpg.rf.48233d2f44b6526770c083ec082a1d55.jpg  \n",
            " extracting: valid/images/severityV4_33_jpg.rf.f728905c90daef46c801ff17cbf39e1b.jpg  \n",
            " extracting: valid/images/severityV4_34_jpg.rf.22f991f563a43e0dc8e45ab30f0283a8.jpg  \n",
            " extracting: valid/images/severityV4_35_jpg.rf.7eaea688680079e0fcc331ffecf0f2d6.jpg  \n",
            " extracting: valid/images/severityV4_35_jpg.rf.c0e6ee500b75fc16ec2d71882e31c37a.jpg  \n",
            " extracting: valid/images/severityV4_36_jpg.rf.2316d3964f4cf9805825b9268b56a757.jpg  \n",
            " extracting: valid/images/severityV4_38_jpg.rf.4824336c25767ff265d9e5dcb8202d31.jpg  \n",
            " extracting: valid/images/severityV4_3_jpg.rf.65d0e967ac9b220a17ab9b51460336c4.jpg  \n",
            " extracting: valid/images/severityV4_3_jpg.rf.66cb18938102bfd7125d3befb7ed0487.jpg  \n",
            " extracting: valid/images/severityV4_3_jpg.rf.786e069088fbf9b5d19d5dd1e01efa4a.jpg  \n",
            " extracting: valid/images/severityV4_3_jpg.rf.998e61ac0a0e436ede1b9c0b7895fc80.jpg  \n",
            " extracting: valid/images/severityV4_40_jpg.rf.a311097b929e006dff4e24056ea99e68.jpg  \n",
            " extracting: valid/images/severityV4_41_jpg.rf.c1957cf9fb9786f35ef871bf0940d887.jpg  \n",
            " extracting: valid/images/severityV4_41_jpg.rf.dcc18ebc4966f76a3590742fc670556b.jpg  \n",
            " extracting: valid/images/severityV4_43_jpg.rf.3e0f6478561ff1d3eb9a98879046b166.jpg  \n",
            " extracting: valid/images/severityV4_43_jpg.rf.a70f22b21682c130cb5d0d95e2e7160d.jpg  \n",
            " extracting: valid/images/severityV4_44_jpg.rf.c1e48f07c393c120304fe042bdd9be44.jpg  \n",
            " extracting: valid/images/severityV4_46_jpg.rf.03f4314f83093bf7c3ae4f599d3eb3b4.jpg  \n",
            " extracting: valid/images/severityV4_48_jpg.rf.50a4e69f0a76b77cf079530c4e4346cb.jpg  \n",
            " extracting: valid/images/severityV4_49_jpg.rf.2456cecff8d54821e9064a4da2fa92c1.jpg  \n",
            " extracting: valid/images/severityV4_49_jpg.rf.261fff9ffa29a7c7868f74caa1a3fcb8.jpg  \n",
            " extracting: valid/images/severityV4_4_jpg.rf.14294e5caffe002c1786c4499a4eb172.jpg  \n",
            " extracting: valid/images/severityV4_4_jpg.rf.29d8b65973f62fc42c9bf872f456c6c4.jpg  \n",
            " extracting: valid/images/severityV4_51_jpg.rf.ed76effdb009528cac0120d45a46a431.jpg  \n",
            " extracting: valid/images/severityV4_51_jpg.rf.f4d98a1b2ea53c484c3264ea74f1883f.jpg  \n",
            " extracting: valid/images/severityV4_52_jpg.rf.6ff51b1708cc7b611c8a3ee3ab4fa92e.jpg  \n",
            " extracting: valid/images/severityV4_52_jpg.rf.7f745a5c3615be619b212bcb3c13b6d6.jpg  \n",
            " extracting: valid/images/severityV4_53_jpg.rf.01ef4ab32609074ccf7d58450232aa04.jpg  \n",
            " extracting: valid/images/severityV4_53_jpg.rf.5a64e6a1163a6d1fd785337d0acf2e12.jpg  \n",
            " extracting: valid/images/severityV4_53_jpg.rf.5baf2f364f3a5dad23cb43fce56281f5.jpg  \n",
            " extracting: valid/images/severityV4_53_jpg.rf.8cd996b1c26fb79a7762b36a09b08df4.jpg  \n",
            " extracting: valid/images/severityV4_55_jpg.rf.ecc9ac9e99eee10b922a006a4902dce6.jpg  \n",
            " extracting: valid/images/severityV4_58_jpg.rf.1b3e196073127465d0074764473270ff.jpg  \n",
            " extracting: valid/images/severityV4_5_jpg.rf.eca14000c1ba914f9f8146dd2799fb85.jpg  \n",
            " extracting: valid/images/severityV4_61_jpg.rf.eb8b8aadd8c4cb03ea00dd6f0cb094bd.jpg  \n",
            " extracting: valid/images/severityV4_62_jpg.rf.2a3f7e313203955ccd4dd5de1ec87b4f.jpg  \n",
            " extracting: valid/images/severityV4_62_jpg.rf.dd1ea0f48dd3cfbe47c2f38e2d06effd.jpg  \n",
            " extracting: valid/images/severityV4_63_jpg.rf.49d5c08de82c2d810c1cd1d515d2653a.jpg  \n",
            " extracting: valid/images/severityV4_64_jpg.rf.8dfd918c9f814dff488fb7c5c1343f99.jpg  \n",
            " extracting: valid/images/severityV4_65_jpg.rf.8e9cc95516565b7f226bfcb9e1ba170a.jpg  \n",
            " extracting: valid/images/severityV4_65_jpg.rf.d5ca54fcbc76c160a5b68e45d47c9fc3.jpg  \n",
            " extracting: valid/images/severityV4_65_jpg.rf.e6a144bd73765cb7c39aec8fed8b31e0.jpg  \n",
            " extracting: valid/images/severityV4_66_jpg.rf.7dfa02acf842dc0d23c258373d917813.jpg  \n",
            " extracting: valid/images/severityV4_67_jpg.rf.9a778e2b1857f448a86c90ec5f9f2aea.jpg  \n",
            " extracting: valid/images/severityV4_68_jpg.rf.f708d6aa84b1a84f58225d973d87f00f.jpg  \n",
            " extracting: valid/images/severityV4_69_jpg.rf.3913d587d6cb9d547cca8ff2be56072d.jpg  \n",
            " extracting: valid/images/severityV4_69_jpg.rf.9f4e6cf671ee7b3e645f98c112b370f4.jpg  \n",
            " extracting: valid/images/severityV4_70_jpg.rf.2bfd1af61d07b2a2055e15ecb6f5a778.jpg  \n",
            " extracting: valid/images/severityV4_71_jpg.rf.b4ad0fabad23d6f3772e4f2846bccf67.jpg  \n",
            " extracting: valid/images/severityV4_73_jpg.rf.5ec69a1d3c0cfeaf1401afd1b9cfd8cc.jpg  \n",
            " extracting: valid/images/severityV4_75_jpg.rf.0fb0328fd5b59fe62065bef0869dd4b7.jpg  \n",
            " extracting: valid/images/severityV4_75_jpg.rf.e1dcab97a67b1daade1ccc6e5956a636.jpg  \n",
            " extracting: valid/images/severityV4_79_jpg.rf.527f34493fc20bd87744dc395635f06f.jpg  \n",
            " extracting: valid/images/severityV4_79_jpg.rf.fd49564926044038df3c5a855e00714a.jpg  \n",
            " extracting: valid/images/severityV4_7_jpg.rf.b8b9f78eda1f70c5632fc32eb7feb05f.jpg  \n",
            " extracting: valid/images/severityV4_81_jpg.rf.0f355e92d41764bdc5f19a54b7afd6d1.jpg  \n",
            " extracting: valid/images/severityV4_82_jpg.rf.0fa847c8d9b9fe3eb3dbfbd1801ac699.jpg  \n",
            " extracting: valid/images/severityV4_82_jpg.rf.62f79347b1984c61694f1ba85ab0deb8.jpg  \n",
            " extracting: valid/images/severityV4_82_jpg.rf.c38ec0ac8bf735cc92144ec76b4d9b4e.jpg  \n",
            " extracting: valid/images/severityV4_82_jpg.rf.f16bfd0c2a65a64dc192ab6d2e284dc9.jpg  \n",
            " extracting: valid/images/severityV4_83_jpg.rf.b164e4525bdbd2b066261b534510b8bf.jpg  \n",
            " extracting: valid/images/severityV4_83_jpg.rf.ce9ca194e17f095fe4591c6953154f7f.jpg  \n",
            " extracting: valid/images/severityV4_85_jpg.rf.81abdc3dd99dcd5bc6e441f04bc7ae51.jpg  \n",
            " extracting: valid/images/severityV4_86_jpg.rf.1caa314a62e935e1792415bffcbab806.jpg  \n",
            " extracting: valid/images/severityV4_86_jpg.rf.470e1512662cebc114375eb5ebf2a967.jpg  \n",
            " extracting: valid/images/severityV4_87_jpg.rf.f54c05b33350384867938fabd6d7b8d0.jpg  \n",
            " extracting: valid/images/severityV4_88_jpg.rf.24b0dec8a6f419daec8518441fa6befe.jpg  \n",
            " extracting: valid/images/severityV4_88_jpg.rf.398ace76b2641979ac20af1a089ce522.jpg  \n",
            " extracting: valid/images/severityV4_89_jpg.rf.8847602fa8f8b3f80d8bb7bae422f781.jpg  \n",
            " extracting: valid/images/severityV4_89_jpg.rf.ba26a1bd951a889c10ceaf2d8d307478.jpg  \n",
            " extracting: valid/images/severityV4_8_jpg.rf.c5eb5ea3f926876b38b7e308cd408889.jpg  \n",
            " extracting: valid/images/severityV4_90_jpg.rf.5772154d9551eb920dff6232bd15c813.jpg  \n",
            " extracting: valid/images/severityV4_91_jpg.rf.68192e2f7e8ab75557786a00fc683f27.jpg  \n",
            " extracting: valid/images/severityV4_92_jpg.rf.a5e717533d071beab3043f98216125c0.jpg  \n",
            " extracting: valid/images/severityV4_92_jpg.rf.d8306f3a4bdd2e38455446b753d7ab5a.jpg  \n",
            " extracting: valid/images/severityV4_93_jpg.rf.b7a90ff5cb92f99e199f5ba1dd36b35c.jpg  \n",
            " extracting: valid/images/severityV4_94_jpg.rf.8df867ac372d1c1768c40e8a4763d0f6.jpg  \n",
            " extracting: valid/images/severityV4_94_jpg.rf.c3ce8ae199d8501b3a7ae0b0250a7a4c.jpg  \n",
            " extracting: valid/images/severityV4_95_jpg.rf.78c69bec2ec2edb70fd37d2b1b23d061.jpg  \n",
            " extracting: valid/images/severityV4_97_jpg.rf.06baf744b3c4a7b97e01d13ba2e1ffa6.jpg  \n",
            " extracting: valid/images/severityV4_97_jpg.rf.5b6b9911cfb1e8e283be20cd8583b50e.jpg  \n",
            " extracting: valid/images/severityV4_97_jpg.rf.963200df81beab4abe503b77c4a38732.jpg  \n",
            " extracting: valid/images/severityV4_97_jpg.rf.9ad780dd107a8625a19cb286c9228c05.jpg  \n",
            " extracting: valid/images/severityV4_98_jpg.rf.0a0996176a27732a751e3a184dc4bfc5.jpg  \n",
            " extracting: valid/images/severityV4_98_jpg.rf.1597f1488f2b8334c1159d7c41183759.jpg  \n",
            " extracting: valid/images/severityV4_99_jpg.rf.2a7c615d1a9bd8710ae4ec59b6d0fced.jpg  \n",
            " extracting: valid/images/severityV4_9_jpg.rf.b1a36fe65a7bffab2092f2ebb151099e.jpg  \n",
            " extracting: valid/images/severity_V110_jpg.rf.7ab6adae3964f72512dad8c06959a4f1.jpg  \n",
            " extracting: valid/images/severity_V110_jpg.rf.b8ddfa388bd2d962dfa868c914cc9525.jpg  \n",
            " extracting: valid/images/severity_V111_jpg.rf.ba9084c0c9855e670aa799677de029a8.jpg  \n",
            " extracting: valid/images/severity_V113_jpg.rf.60efe4100cb53dc215d0902004138db0.jpg  \n",
            " extracting: valid/images/severity_V113_jpg.rf.95d9e6449f096f9a3fc0cf0df6593f45.jpg  \n",
            " extracting: valid/images/severity_V113_jpg.rf.da0e5475c36207332adc6ab86c8f03b7.jpg  \n",
            " extracting: valid/images/severity_V114_jpg.rf.901f78e04c87b7bd8bd0077e3ffaadf7.jpg  \n",
            " extracting: valid/images/severity_V114_jpg.rf.fb25e17259b0d69805129d8b1164c0eb.jpg  \n",
            " extracting: valid/images/severity_V115_jpg.rf.5254b2e2ea8e3e5435f0164907f222af.jpg  \n",
            " extracting: valid/images/severity_V116_jpg.rf.95aa8ce606d907d44ded89721b11a6ab.jpg  \n",
            " extracting: valid/images/severity_V118_jpg.rf.2f868e67a709dc46741802a4b2ea2ae9.jpg  \n",
            " extracting: valid/images/severity_V119_jpg.rf.248266d88547cb277447041b6844d5ec.jpg  \n",
            " extracting: valid/images/severity_V119_jpg.rf.f65a09bea31777c956d6bd30fe12dca6.jpg  \n",
            " extracting: valid/images/severity_V11_jpg.rf.b94c5adfaa8cac4cfcf672b30c33d3e2.jpg  \n",
            " extracting: valid/images/severity_V120_jpg.rf.f8c20876071f518b5ef9e24af5b475e4.jpg  \n",
            " extracting: valid/images/severity_V123_jpg.rf.019984dd9a129a50a72ef2ab92314ac3.jpg  \n",
            " extracting: valid/images/severity_V123_jpg.rf.8086a7bd47a129939a69e80c2b523284.jpg  \n",
            " extracting: valid/images/severity_V124_jpg.rf.2e9764a6c6dbd442accb1fca52948b7e.jpg  \n",
            " extracting: valid/images/severity_V124_jpg.rf.57cecad80d534e459b7c5fcb898991ce.jpg  \n",
            " extracting: valid/images/severity_V124_jpg.rf.66450f21ef5b2ae371567f562a5de501.jpg  \n",
            " extracting: valid/images/severity_V125_jpg.rf.119a8d47859220ef7d37b8a3d4cafe79.jpg  \n",
            " extracting: valid/images/severity_V125_jpg.rf.4e54c5087ea50da90b6cb49d03e5cf94.jpg  \n",
            " extracting: valid/images/severity_V125_jpg.rf.90e2ecef70ceb3056e3f3233a35d204c.jpg  \n",
            " extracting: valid/images/severity_V125_jpg.rf.dfe2a6a664bbb62674cf481c76734823.jpg  \n",
            " extracting: valid/images/severity_V126_jpg.rf.5602428a19efd3ad79ca5601c0942bd9.jpg  \n",
            " extracting: valid/images/severity_V126_jpg.rf.5e01b68bc0df41c7b440fc579c09f02c.jpg  \n",
            " extracting: valid/images/severity_V126_jpg.rf.a10db68676cd42c16b0b9ed7c91609ca.jpg  \n",
            " extracting: valid/images/severity_V126_jpg.rf.eece7d5068ab64799098a9f58cfbeb0d.jpg  \n",
            " extracting: valid/images/severity_V129_jpg.rf.f18344612ace1b32da5b8a42d4428dcb.jpg  \n",
            " extracting: valid/images/severity_V130_jpg.rf.7c5d1859692cddb4f090d84070b2a1b3.jpg  \n",
            " extracting: valid/images/severity_V130_jpg.rf.fd60d86cc0182a43f5b2a3c27d927581.jpg  \n",
            " extracting: valid/images/severity_V132_jpg.rf.0f0a3f3ce69ccd2816e47f07ee4ecb2e.jpg  \n",
            " extracting: valid/images/severity_V132_jpg.rf.64b72b81e44326b40ae8c01a412a8d2d.jpg  \n",
            " extracting: valid/images/severity_V133_jpg.rf.221f84698e30a9a6e8e7bd2ed4f3808b.jpg  \n",
            " extracting: valid/images/severity_V133_jpg.rf.a6eab9da11f981b0b2d2bad1787eeeca.jpg  \n",
            " extracting: valid/images/severity_V134_jpg.rf.3de5a9519edb6e6942371e04f9cdfb68.jpg  \n",
            " extracting: valid/images/severity_V134_jpg.rf.7f099027314b57d702a5ae93de1df590.jpg  \n",
            " extracting: valid/images/severity_V135_jpg.rf.f1fb7a4e67654dc4cc8ef194b3b93672.jpg  \n",
            " extracting: valid/images/severity_V137_jpg.rf.ed3a5f57a4d52ef73b1838e2122f325f.jpg  \n",
            " extracting: valid/images/severity_V138_jpg.rf.a488e50ef8e508d1ecd090c98f5fab90.jpg  \n",
            " extracting: valid/images/severity_V138_jpg.rf.ac868c1736d1b452027ec5a1e6a3d2c1.jpg  \n",
            " extracting: valid/images/severity_V139_jpg.rf.384895dce0ce0ce62f0d957ecee77fe5.jpg  \n",
            " extracting: valid/images/severity_V13_jpg.rf.9bd5ca0a1235063a8d9bebf236f6c56f.jpg  \n",
            " extracting: valid/images/severity_V140_jpg.rf.a86eae5244d8efbd07894695d9e2a7bb.jpg  \n",
            " extracting: valid/images/severity_V141_jpg.rf.5e0d04840c2709b693d125157ad991ac.jpg  \n",
            " extracting: valid/images/severity_V141_jpg.rf.7408f8b1622eab8312a8e7f5df0a78b4.jpg  \n",
            " extracting: valid/images/severity_V141_jpg.rf.9624dcc989637808171318002f440098.jpg  \n",
            " extracting: valid/images/severity_V145_jpg.rf.0ca9885b9b9721592ed48e5293e78c52.jpg  \n",
            " extracting: valid/images/severity_V145_jpg.rf.4e0fe937c9feb17cc810df1b7f117169.jpg  \n",
            " extracting: valid/images/severity_V145_jpg.rf.b951f0cef4fe7d1a129558cea458ddf0.jpg  \n",
            " extracting: valid/images/severity_V18_jpg.rf.3e0d06574d80b234f4c2e33beb6a8f45.jpg  \n",
            " extracting: valid/images/severity_V19_jpg.rf.1f8f9b59369f2587792e92b5b5b676eb.jpg  \n",
            " extracting: valid/images/testjndjnd_jpg.rf.10c6d3c05be9d6d30260b7c20c28aa92.jpg  \n",
            " extracting: valid/images/testjndjnd_jpg.rf.68f377d2a214f80949eb35e26edeea89.jpg  \n",
            " extracting: valid/images/th-10-_jpg.rf.c5326d810e80f67ce37c6adf47fa0332.jpg  \n",
            " extracting: valid/images/th-14-_jpg.rf.f268342d7445209f9a6671bb395003b8.jpg  \n",
            " extracting: valid/images/th-17-_jpg.rf.fafc38ff7b43b5584ce6688f94f8ea6d.jpg  \n",
            " extracting: valid/images/th-2-_jpg.rf.e674555da4482aad739f402d23dc6ad6.jpg  \n",
            " extracting: valid/images/th_jpg.rf.b8007ba22e8978c9434cba8e0c3515b3.jpg  \n",
            " extracting: valid/images/traffic_img1008_jpg.rf.85b12d545a311c4c3dbb8012ab43d77f.jpg  \n",
            " extracting: valid/images/traffic_img1010_jpg.rf.885461d31b44b05547313b8913f6a531.jpg  \n",
            " extracting: valid/images/traffic_img1010_jpg.rf.deae63eae4b92f828ba8aa1c9f115f97.jpg  \n",
            " extracting: valid/images/traffic_img1024_jpg.rf.b74109235631b19b563264277f8fb03e.jpg  \n",
            " extracting: valid/images/traffic_img1024_jpg.rf.cbebba54134842d40b9adf072932e284.jpg  \n",
            " extracting: valid/images/traffic_img1025_jpg.rf.dbcf6769cd4393dafc46c702aeb674ab.jpg  \n",
            " extracting: valid/images/traffic_img1031_jpg.rf.707b075c862d60f7dc18d6f262a14d1c.jpg  \n",
            " extracting: valid/images/traffic_img1031_jpg.rf.974ab69720b74119d286d462b4b36d70.jpg  \n",
            " extracting: valid/images/traffic_img104_jpg.rf.bbd8c164223722e888bf6d09f09a2f07.jpg  \n",
            " extracting: valid/images/traffic_img104_jpg.rf.d0fb2ffa8cb65fa7c28d1839232bf726.jpg  \n",
            " extracting: valid/images/traffic_img105_jpg.rf.2fc555db6d86167eeaa8ccbff135defb.jpg  \n",
            " extracting: valid/images/traffic_img105_jpg.rf.67cff90a8add8de9681ae602c7ef77b0.jpg  \n",
            " extracting: valid/images/traffic_img105_jpg.rf.7509a5367f435f61fed3d877a805998e.jpg  \n",
            " extracting: valid/images/traffic_img1075_jpg.rf.da354b090cc83a84ffceb351a0362aa9.jpg  \n",
            " extracting: valid/images/traffic_img1075_jpg.rf.f5b0443b26a678a1dee42ef82634421e.jpg  \n",
            " extracting: valid/images/traffic_img10_jpg.rf.441e1ccd1c619399d6d87645978142b2.jpg  \n",
            " extracting: valid/images/traffic_img1109_jpg.rf.07e2b68850b534019f2e5cd81b6c5f4b.jpg  \n",
            " extracting: valid/images/traffic_img1125_jpg.rf.c176b6a4bb540c8db2879f11115f759b.jpg  \n",
            " extracting: valid/images/traffic_img1126_jpg.rf.1fc10956c444e47bec6f0ba98dc2a7e3.jpg  \n",
            " extracting: valid/images/traffic_img1126_jpg.rf.ebf574c919dd281feba551180f2a6f61.jpg  \n",
            " extracting: valid/images/traffic_img1184_jpg.rf.0e7aead5fc8d5ebccf72c9704f8e04d3.jpg  \n",
            " extracting: valid/images/traffic_img1184_jpg.rf.15bf560914cc59292e35b444255cfd50.jpg  \n",
            " extracting: valid/images/traffic_img1184_jpg.rf.f58339d0af9bbf5f6c0de5ea31059163.jpg  \n",
            " extracting: valid/images/traffic_img118_jpg.rf.8230d384c7ffcb49d6ad7c5c81fce0b1.jpg  \n",
            " extracting: valid/images/traffic_img1197_jpg.rf.20093e8343dd25bee43442367299c1f4.jpg  \n",
            " extracting: valid/images/traffic_img1202_jpg.rf.98a964eff63a32b856ef1823521ddd28.jpg  \n",
            " extracting: valid/images/traffic_img1239_jpg.rf.25350f92ec318ca1ca45ef0c65bff23a.jpg  \n",
            " extracting: valid/images/traffic_img1239_jpg.rf.ff8789c5c36e10337955e95bc25c2946.jpg  \n",
            " extracting: valid/images/traffic_img127_jpg.rf.84fc2956f7553b67eb51fdff90074043.jpg  \n",
            " extracting: valid/images/traffic_img127_jpg.rf.fb8f5b831f9bd6a3f8fd7daa92e86d40.jpg  \n",
            " extracting: valid/images/traffic_img128_jpg.rf.637437e78286b50b623dd5373d5829f6.jpg  \n",
            " extracting: valid/images/traffic_img128_jpg.rf.78d9066ffa7d6b6aece37d71cf47e15b.jpg  \n",
            " extracting: valid/images/traffic_img1295_jpg.rf.ffef29398d308c3fcf96f79f821d349d.jpg  \n",
            " extracting: valid/images/traffic_img1301_jpg.rf.5bb9f45bac9cfb3a0b934268271138c7.jpg  \n",
            " extracting: valid/images/traffic_img1343_jpg.rf.61ae19ff102d4555e3f324cb613f6fa0.jpg  \n",
            " extracting: valid/images/traffic_img1347_jpg.rf.db74e9aaa66a79676e2b6cf6299e0b82.jpg  \n",
            " extracting: valid/images/traffic_img1379_jpg.rf.59c6cfb798864b4ca2503c27fdcba745.jpg  \n",
            " extracting: valid/images/traffic_img1392_jpg.rf.a159eec4c9183135e7762a1c87e6fc46.jpg  \n",
            " extracting: valid/images/traffic_img1393_jpg.rf.ca8bbf183f7f10efe87a45622062a494.jpg  \n",
            " extracting: valid/images/traffic_img1436_jpg.rf.c28afba7ef17d171651d1de34738b292.jpg  \n",
            " extracting: valid/images/traffic_img1441_jpg.rf.ada52b91ed9ffbfdb4bfe51ccf66224a.jpg  \n",
            " extracting: valid/images/traffic_img146_jpg.rf.0ec807086fb41dbe194ec4dad6a14938.jpg  \n",
            " extracting: valid/images/traffic_img1590_jpg.rf.96fbb7a93d5d1505889dba55bced4593.jpg  \n",
            " extracting: valid/images/traffic_img1672_jpg.rf.8b719f8061be9b17ccb3b693829b1486.jpg  \n",
            " extracting: valid/images/traffic_img1739_jpg.rf.9d85dbec8670578f42b6e1067d338d22.jpg  \n",
            " extracting: valid/images/traffic_img1753_jpg.rf.2796d8c7c9053d7c85e47b5c0b3eec0b.jpg  \n",
            " extracting: valid/images/traffic_img1768_jpg.rf.dc0997f9ae243923a2f113a45ff77e78.jpg  \n",
            " extracting: valid/images/traffic_img1769_jpg.rf.9544e93d13d9b8f74c1e0a2f84052000.jpg  \n",
            " extracting: valid/images/traffic_img17_jpg.rf.dc58c11a70876bd8a4a1cbed20b88a92.jpg  \n",
            " extracting: valid/images/traffic_img1805_jpg.rf.e99fdab6222b2264791119ee9f20e9aa.jpg  \n",
            " extracting: valid/images/traffic_img1838_jpg.rf.2143c6f2d5171b69ed89c4d8b52cae0e.jpg  \n",
            " extracting: valid/images/traffic_img1855_jpg.rf.f8b25151eb4d8eaaa4d75bdd0773dfca.jpg  \n",
            " extracting: valid/images/traffic_img1887_jpg.rf.5bca5d557be4d3bea5d1399fa80d72db.jpg  \n",
            " extracting: valid/images/traffic_img1932_jpg.rf.101d1a1ff1f2c0016d6e72b131112a77.jpg  \n",
            " extracting: valid/images/traffic_img2093_jpg.rf.0b115807b1d6fe9ec958db098ea65cfb.jpg  \n",
            " extracting: valid/images/traffic_img2115_jpg.rf.6dce16996a910fa3df7386042b77607a.jpg  \n",
            " extracting: valid/images/traffic_img2116_jpg.rf.e60f1c0f85636d97f4a2d92e4577f8c7.jpg  \n",
            " extracting: valid/images/traffic_img2122_jpg.rf.f561d5c2e345d17d32ec03314a96e723.jpg  \n",
            " extracting: valid/images/traffic_img224_jpg.rf.3359bcd85451eef43bec0ced2f03d786.jpg  \n",
            " extracting: valid/images/traffic_img22_jpg.rf.0c7811221b6807d276f41b03914b7dd4.jpg  \n",
            " extracting: valid/images/traffic_img288_jpg.rf.9740d5c1240e88616b8dadfcb7c25132.jpg  \n",
            " extracting: valid/images/traffic_img299_jpg.rf.9c84d89ff3c1f7724070d9ba19db50da.jpg  \n",
            " extracting: valid/images/traffic_img332_jpg.rf.e7b7ef9466ee1a59ba1e622d97d1c1f7.jpg  \n",
            " extracting: valid/images/traffic_img335_jpg.rf.a0b33431f3418688ae22b61f70679451.jpg  \n",
            " extracting: valid/images/traffic_img476_jpg.rf.eea9bf7046b4533c573c6031198aa27b.jpg  \n",
            " extracting: valid/images/traffic_img497_jpg.rf.396910c20048b65cabf3cbe711b609cd.jpg  \n",
            " extracting: valid/images/traffic_img503_jpg.rf.89281d3569fda04622a7631364c829bd.jpg  \n",
            " extracting: valid/images/traffic_img508_jpg.rf.8a17a0071a67dc23321b543b73392ec8.jpg  \n",
            " extracting: valid/images/traffic_img566_jpg.rf.b61ddc7abfbe293ea6b792228ebd6ce5.jpg  \n",
            " extracting: valid/images/traffic_img56_jpg.rf.dccc7300089d7b80766be71c11de48e9.jpg  \n",
            " extracting: valid/images/traffic_img607_jpg.rf.3dc1c254be5b651fe43d2979778a0b60.jpg  \n",
            " extracting: valid/images/traffic_img649_jpg.rf.108e6fa382de9cef967a65dfaf2e9c64.jpg  \n",
            " extracting: valid/images/traffic_img649_jpg.rf.d29e2163787e1672d3a41fab7194f81b.jpg  \n",
            " extracting: valid/images/traffic_img668_jpg.rf.e1635df70c5edac49ef25ecfac5eefd5.jpg  \n",
            " extracting: valid/images/traffic_img688_jpg.rf.d873dd80cffa121619fac546f726229c.jpg  \n",
            " extracting: valid/images/traffic_img693_jpg.rf.4f65114863980d9db073c0bf70ff7dda.jpg  \n",
            " extracting: valid/images/traffic_img693_jpg.rf.ed6d645d018a6998655c93c96bbaf44f.jpg  \n",
            " extracting: valid/images/traffic_img703_jpg.rf.98a7a09196d87d7799a37e74f2aeb49e.jpg  \n",
            " extracting: valid/images/traffic_img71_jpg.rf.f53d934709dc0f61f8b0e6cd7c37aba7.jpg  \n",
            " extracting: valid/images/traffic_img756_jpg.rf.fe81e6e7ed6095cdaed098568f768e34.jpg  \n",
            " extracting: valid/images/traffic_img767_jpg.rf.3860f9db30971a6fd401d0cf57215fee.jpg  \n",
            " extracting: valid/images/traffic_img7_jpg.rf.26719bc607bbe56054f34c242b979dfd.jpg  \n",
            " extracting: valid/images/traffic_img7_jpg.rf.f117c7928e0fedd03cfa514361e5425c.jpg  \n",
            " extracting: valid/images/traffic_img802_jpg.rf.41d7f74f734efa4a1d9359f0b177ea13.jpg  \n",
            " extracting: valid/images/traffic_img802_jpg.rf.66670ceb52e75d493a7770c4a0d9a023.jpg  \n",
            " extracting: valid/images/traffic_img804_jpg.rf.3dec4042fce2d34334e515b836ff539c.jpg  \n",
            " extracting: valid/images/traffic_img805_jpg.rf.335d3e05d7fb927cbee087bc171c5b35.jpg  \n",
            " extracting: valid/images/traffic_img83_jpg.rf.10a7e08652207ad22c9b1c0a65c75270.jpg  \n",
            " extracting: valid/images/traffic_img949_jpg.rf.deb2b664ac5487795303fee89d4cdd1e.jpg  \n",
            " extracting: valid/images/traffic_img950_jpg.rf.f2414b9a32546f9fdad6a38fe0d34d81.jpg  \n",
            " extracting: valid/images/traffic_img953_jpg.rf.0c2bc819f76ae85d494c0381b5182817.jpg  \n",
            " extracting: valid/images/traffic_img988_jpg.rf.aec6a193337b75b28e592447a29e1ba2.jpg  \n",
            " extracting: valid/images/traffic_img991_jpg.rf.6baf7ded49fa204b06055628b4f18771.jpg  \n",
            " extracting: valid/images/traffic_img991_jpg.rf.d518554007564b0c344df534d23ff0dc.jpg  \n",
            " extracting: valid/images/traffic_img99_jpg.rf.0281f6ea2774c5ef2d5cc58f2e9eba24.jpg  \n",
            " extracting: valid/images/tt1-v4_jpg.rf.c0f4f277ded9b4c7c7aff00e39231d85.jpg  \n",
            " extracting: valid/images/tt1_png_jpg.rf.1e69a5b223814cc2dbdb0ea1aa6f5409.jpg  \n",
            " extracting: valid/images/tt3_png_jpg.rf.3056b3f75841afffb7c2f8687fd57af8.jpg  \n",
            " extracting: valid/images/tt3_png_jpg.rf.431476dcc15b352856ffa068a4859b3c.jpg  \n",
            " extracting: valid/images/tt3_png_jpg.rf.966edded24532c4407b1c6063ec46be9.jpg  \n",
            " extracting: valid/images/vd13_png_jpg.rf.42600b441b1cb7a22985233b83d6d222.jpg  \n",
            " extracting: valid/images/vd13_png_jpg.rf.ededf7e182cb687ae70e5b3595c00402.jpg  \n",
            "   creating: valid/labels/\n",
            "  inflating: valid/labels/1-36_jpg.rf.f5550ae87e7457f3bb2e57ad9f85a0e2.txt  \n",
            "  inflating: valid/labels/1080_jpeg_jpg.rf.23f94809ba9c52d71b727ca8c4805699.txt  \n",
            "  inflating: valid/labels/1107_jpeg_jpg.rf.bbe0a6f9f83c2073ac33db90b2d2ed06.txt  \n",
            "  inflating: valid/labels/1107_jpeg_jpg.rf.c8d530a2c77a3c96d4db7278acf969e8.txt  \n",
            "  inflating: valid/labels/14-61_jpg.rf.920452375c7ed14b6eeb6e5ceba14079.txt  \n",
            "  inflating: valid/labels/2-147_jpg.rf.2e2a343cbc5450717f9530175cdb54d8.txt  \n",
            "  inflating: valid/labels/2-267_jpg.rf.9f406a9d92dce138039b8782047b7f53.txt  \n",
            " extracting: valid/labels/2-61_jpg.rf.c26df2df4d5c2da07254f4e8c7ccb596.txt  \n",
            "  inflating: valid/labels/243_jpeg_jpg.rf.f18925923ec07dace81458191523c438.txt  \n",
            "  inflating: valid/labels/4-10_jpg.rf.51c48673c93c292f3ce349c695d27d0f.txt  \n",
            "  inflating: valid/labels/4-27_jpg.rf.683d5039b3f3923dd8237145a58e6317.txt  \n",
            "  inflating: valid/labels/4026_jpeg_jpg.rf.f23ea7768aabcd7c17cabc52a54ebf7d.txt  \n",
            "  inflating: valid/labels/4061_jpeg_jpg.rf.bb9c755ff9db39cfc5b1d8bda549738b.txt  \n",
            "  inflating: valid/labels/5895211_013120-skyeye-garbage-truck-vid_jpg.rf.fbcc0e3f08a34b3e94883232163916ed.txt  \n",
            "  inflating: valid/labels/760_jpeg_jpg.rf.74ce9e0efccfd0a57f7ac6f04643c291.txt  \n",
            "  inflating: valid/labels/760_jpeg_jpg.rf.e32e264cee13189243f99f4816dae2d9.txt  \n",
            "  inflating: valid/labels/793_jpeg_jpg.rf.7a2a804c3f848a5db0615a39dceb8697.txt  \n",
            "  inflating: valid/labels/801_jpeg_jpg.rf.89f253d5e1c3738f009a90ce6d4e21b9.txt  \n",
            "  inflating: valid/labels/803_jpeg_jpg.rf.6091d1a2b0095b5a427b63aaeb159e76.txt  \n",
            "  inflating: valid/labels/806_jpeg_jpg.rf.dca06362543aeaa9e6ae7315c8208879.txt  \n",
            "  inflating: valid/labels/809_jpeg_jpg.rf.912f9887d4f44cabd2f99bb961c3bfc4.txt  \n",
            "  inflating: valid/labels/823_jpeg_jpg.rf.72b79700c9690e137d7c2c0ef8e39f2c.txt  \n",
            "  inflating: valid/labels/823_jpeg_jpg.rf.7414d0a493de4d085a5a08bba71cf5d3.txt  \n",
            "  inflating: valid/labels/829_jpeg_jpg.rf.0cdc534ebb7ecebbff2ced438f5dfa70.txt  \n",
            "  inflating: valid/labels/839_jpeg_jpg.rf.23c2fd9c36d2eb30bb09af66e7e2de53.txt  \n",
            "  inflating: valid/labels/905_jpeg_jpg.rf.79ed18e88f74731a67956642d9f54cd1.txt  \n",
            "  inflating: valid/labels/905_jpeg_jpg.rf.ffb87135e07fc269d0c00d3abbe031d6.txt  \n",
            "  inflating: valid/labels/909_jpeg_jpg.rf.b25d716516fb6a9d458bb4a30072f1cd.txt  \n",
            " extracting: valid/labels/946_jpeg_jpg.rf.bee8e50dd59bd885ae2529ee59c25af8.txt  \n",
            " extracting: valid/labels/971_jpeg_jpg.rf.cee2b9d44b3842eb9c0231dddb7c2360.txt  \n",
            "  inflating: valid/labels/981_jpeg_jpg.rf.f12f4585e4733d82be1b4cbb6f007526.txt  \n",
            "  inflating: valid/labels/9k_-8-_jpg.rf.6144758fb8f3da55019a36efd01df827.txt  \n",
            "  inflating: valid/labels/Abu-Dhabi-accident-CCTV-_16d80b9b401_large_jpg.rf.a1a78cbc95a7cfcbe3cf74d9a57c7381.txt  \n",
            "  inflating: valid/labels/Abu-Dhabi-accident-CCTV-_16d80b9b401_large_jpg.rf.f264568a6f09e38b14c1a10cf91eaf4b.txt  \n",
            "  inflating: valid/labels/FLIP_CAR_V110_jpg.rf.331c278535ca584fa91821969f40a764.txt  \n",
            "  inflating: valid/labels/FLIP_CAR_V110_jpg.rf.8b5cd8ba20a25914636b2400b473cf83.txt  \n",
            "  inflating: valid/labels/FLIP_CAR_V111_jpg.rf.568ea24400727aa8cfd6402e0601ae0e.txt  \n",
            "  inflating: valid/labels/FLIP_CAR_V112_jpg.rf.29ea7684bc449feca66f77ebd1bee5d4.txt  \n",
            "  inflating: valid/labels/FLIP_CAR_V113_jpg.rf.c85a5d40efd0639129f1cef1ebab543f.txt  \n",
            "  inflating: valid/labels/FLIP_CAR_V114_jpg.rf.168d48f5505a32f7e74128df1a16fae5.txt  \n",
            "  inflating: valid/labels/FLIP_CAR_V114_jpg.rf.2d05ff9e8f5b9bb54c60f39c289b11b6.txt  \n",
            "  inflating: valid/labels/FLIP_CAR_V115_jpg.rf.dadf7f16ee12eb472889014a3b67f22c.txt  \n",
            "  inflating: valid/labels/FLIP_CAR_V115_jpg.rf.edc7df71c6a7c73ff16ee942e8591417.txt  \n",
            "  inflating: valid/labels/FLIP_CAR_V116_jpg.rf.0ae40bb4e91675ea8b9bcf4619658667.txt  \n",
            "  inflating: valid/labels/FLIP_CAR_V116_jpg.rf.cbe845dbd981d39305ab5fa98c9da9bf.txt  \n",
            "  inflating: valid/labels/FLIP_CAR_V116_jpg.rf.e8ed238092dd0c57290d64299e3029dd.txt  \n",
            "  inflating: valid/labels/FLIP_CAR_V117_jpg.rf.598cba6a23853815c01253a140493fbc.txt  \n",
            "  inflating: valid/labels/FLIP_CAR_V117_jpg.rf.acd38e376a9884d90c65d4a68c5f2436.txt  \n",
            "  inflating: valid/labels/FLIP_CAR_V118_jpg.rf.2e1100e044ecfa400246582de7d21ca1.txt  \n",
            "  inflating: valid/labels/FLIP_CAR_V118_jpg.rf.f56fd1146a4ef29658b8c8084f356a51.txt  \n",
            "  inflating: valid/labels/FLIP_CAR_V119_jpg.rf.bca50d34f88b2ae780db97b85188540c.txt  \n",
            "  inflating: valid/labels/FLIP_CAR_V11_jpg.rf.e4e5dc35ab498e647e80169cb18821e2.txt  \n",
            "  inflating: valid/labels/FLIP_CAR_V11_jpg.rf.f405165271a8d69dcb72eab572e7528e.txt  \n",
            "  inflating: valid/labels/FLIP_CAR_V120_jpg.rf.f207c9c6d33fd36f8903672b621f0c9a.txt  \n",
            "  inflating: valid/labels/FLIP_CAR_V122_jpg.rf.b3f1d3e57ded824667f9b001d392b8a9.txt  \n",
            "  inflating: valid/labels/FLIP_CAR_V123_jpg.rf.8103eb0038018212c3c569a3898396b5.txt  \n",
            "  inflating: valid/labels/FLIP_CAR_V123_jpg.rf.f3b88fb238aa1b4656902f060e724a38.txt  \n",
            "  inflating: valid/labels/FLIP_CAR_V124_jpg.rf.176ed28939c91e975f50dbd3d39f4c87.txt  \n",
            "  inflating: valid/labels/FLIP_CAR_V124_jpg.rf.f4c49bb73f15dde84c6c409ebb815c6a.txt  \n",
            "  inflating: valid/labels/FLIP_CAR_V125_jpg.rf.11d34123dae276b1df6e9ae206c3383f.txt  \n",
            "  inflating: valid/labels/FLIP_CAR_V125_jpg.rf.519d044bd1bc6c753e3c5fec691ede08.txt  \n",
            "  inflating: valid/labels/FLIP_CAR_V126_jpg.rf.cbaa39ac0f0b465dc9e995d78158ed88.txt  \n",
            "  inflating: valid/labels/FLIP_CAR_V126_jpg.rf.d9435259b68f4723f3c207fd2974572d.txt  \n",
            "  inflating: valid/labels/FLIP_CAR_V128_jpg.rf.5f9186b5ed133d4d7bce32d878fef8b4.txt  \n",
            "  inflating: valid/labels/FLIP_CAR_V128_jpg.rf.9104be816e0b01d1c1d925c14dc4d0a2.txt  \n",
            "  inflating: valid/labels/FLIP_CAR_V128_jpg.rf.b8270173bc55de0fbb28e71cfc3caddb.txt  \n",
            "  inflating: valid/labels/FLIP_CAR_V12_jpg.rf.873e7c1b03ebe9086bb0ddf5e6ed9e77.txt  \n",
            "  inflating: valid/labels/FLIP_CAR_V130_jpg.rf.41505d853276be09aa87d02e25d11d65.txt  \n",
            "  inflating: valid/labels/FLIP_CAR_V130_jpg.rf.4b2e8e876695a9d50dddd964c55b232f.txt  \n",
            "  inflating: valid/labels/FLIP_CAR_V130_jpg.rf.a63e27161d3edb0dbba8c357bf66de12.txt  \n",
            " extracting: valid/labels/FLIP_CAR_V132_jpg.rf.fedc5b12bf90fd47442c2ec658257960.txt  \n",
            "  inflating: valid/labels/FLIP_CAR_V133_jpg.rf.3d37024fe0f86b65c7b95f377af7bdf2.txt  \n",
            "  inflating: valid/labels/FLIP_CAR_V134_jpg.rf.e1132cdc3be8b81d68d1bc0478fe7044.txt  \n",
            "  inflating: valid/labels/FLIP_CAR_V136_jpg.rf.041c520fe40f8e7bb9d077da39e4f98d.txt  \n",
            "  inflating: valid/labels/FLIP_CAR_V136_jpg.rf.8c8c810747994adfc3375d4cb028bf1a.txt  \n",
            "  inflating: valid/labels/FLIP_CAR_V136_jpg.rf.e46cdb6ae95372d2a878eeff12eb652f.txt  \n",
            "  inflating: valid/labels/FLIP_CAR_V137_jpg.rf.6245bed94dcf458d6300c54840e97e15.txt  \n",
            "  inflating: valid/labels/FLIP_CAR_V139_jpg.rf.60509399d3c964ee7e8eb16c4c622b75.txt  \n",
            "  inflating: valid/labels/FLIP_CAR_V139_jpg.rf.63e577955a9b81686f53a056d52f7baf.txt  \n",
            " extracting: valid/labels/FLIP_CAR_V13_jpg.rf.88d52bc5109266660e5561b746c8b22a.txt  \n",
            " extracting: valid/labels/FLIP_CAR_V13_jpg.rf.c30976af222940ca0a4aba9addf25db0.txt  \n",
            "  inflating: valid/labels/FLIP_CAR_V140_jpg.rf.8a6396c6b23b335389e2bc93ff202afc.txt  \n",
            "  inflating: valid/labels/FLIP_CAR_V140_jpg.rf.b47c080427fc31cf9a18875d48986d92.txt  \n",
            "  inflating: valid/labels/FLIP_CAR_V144_jpg.rf.16c6d86c1c0d2fe1bce3f48d3c91541b.txt  \n",
            "  inflating: valid/labels/FLIP_CAR_V144_jpg.rf.40335a74c6c62439f7098a418d6d8494.txt  \n",
            "  inflating: valid/labels/FLIP_CAR_V144_jpg.rf.9dc96227493356b504d8a864a394db87.txt  \n",
            "  inflating: valid/labels/FLIP_CAR_V144_jpg.rf.a74039dfc574545d6037b4a796e855ac.txt  \n",
            "  inflating: valid/labels/FLIP_CAR_V150_jpg.rf.530901f6c41d2f6bd4005020832457a1.txt  \n",
            "  inflating: valid/labels/FLIP_CAR_V152_jpg.rf.8370cd50ee82db063e459acdd15eba42.txt  \n",
            "  inflating: valid/labels/FLIP_CAR_V155_jpg.rf.6c0df778935d7c0632a44c5ea3cb12cd.txt  \n",
            "  inflating: valid/labels/FLIP_CAR_V155_jpg.rf.7a321a876434337ad3fd7d1399962b36.txt  \n",
            "  inflating: valid/labels/FLIP_CAR_V155_jpg.rf.e6f6dfe214fa5f02ccd07ff4e63cd0ca.txt  \n",
            "  inflating: valid/labels/FLIP_CAR_V156_jpg.rf.7b1021d54c98b1f46c5eefcfcc70aaea.txt  \n",
            "  inflating: valid/labels/FLIP_CAR_V158_jpg.rf.cb7ff0caaa87a8b0a8f8e78865cb612c.txt  \n",
            "  inflating: valid/labels/FLIP_CAR_V160_jpg.rf.a8114c4833307388bf5b1e770c189258.txt  \n",
            "  inflating: valid/labels/FLIP_CAR_V160_jpg.rf.bb29f02a3a6d9911073bcbe73b33447d.txt  \n",
            "  inflating: valid/labels/FLIP_CAR_V160_jpg.rf.ff6423b9e2cc3291e400848f70d7223b.txt  \n",
            "  inflating: valid/labels/FLIP_CAR_V163_jpg.rf.0430ab9332481aa69243aa305fb8981f.txt  \n",
            "  inflating: valid/labels/FLIP_CAR_V164_jpg.rf.0a0cf3eb6d7c2b551e5112bbe03c4ee6.txt  \n",
            "  inflating: valid/labels/FLIP_CAR_V164_jpg.rf.568f93b0278c158b5521d83d93009faa.txt  \n",
            "  inflating: valid/labels/FLIP_CAR_V165_jpg.rf.d913202a7429bc519dc77bd923f35d37.txt  \n",
            "  inflating: valid/labels/FLIP_CAR_V168_jpg.rf.574075c4b1f87f9a62236ff9eacd69cf.txt  \n",
            "  inflating: valid/labels/FLIP_CAR_V169_jpg.rf.08227e3f69a19107b1a27337096d1eae.txt  \n",
            "  inflating: valid/labels/FLIP_CAR_V172_jpg.rf.59f1a176077db7fc84dca2c954f74715.txt  \n",
            "  inflating: valid/labels/FLIP_CAR_V172_jpg.rf.e02fc9fb9975de30d5e01636cd284965.txt  \n",
            "  inflating: valid/labels/FLIP_CAR_V172_jpg.rf.ea01a5a80a4cdc411875381323d1697e.txt  \n",
            "  inflating: valid/labels/FLIP_CAR_V173_jpg.rf.7d447699be966c8e7d5eccc75872f21d.txt  \n",
            "  inflating: valid/labels/FLIP_CAR_V174_jpg.rf.0e640ad21d6c4f819c865f4c1b32c002.txt  \n",
            "  inflating: valid/labels/FLIP_CAR_V174_jpg.rf.7f686c08026395e95b9837d61ddafcd3.txt  \n",
            "  inflating: valid/labels/FLIP_CAR_V174_jpg.rf.bbdf77fe4d593e89f897508dc7566dfc.txt  \n",
            "  inflating: valid/labels/FLIP_CAR_V174_jpg.rf.e02c5797a0219b0881ce77a635268983.txt  \n",
            " extracting: valid/labels/FLIP_CAR_V175_jpg.rf.1fd2ebad24a8d1677e51a84e2a5e4009.txt  \n",
            "  inflating: valid/labels/FLIP_CAR_V176_jpg.rf.13ee26b7f32366ebc7fa91a44f77d302.txt  \n",
            "  inflating: valid/labels/FLIP_CAR_V18_jpg.rf.10f157f180ef41fe14bdd8d40354572c.txt  \n",
            "  inflating: valid/labels/FLIP_CAR_V19_jpg.rf.1e9b055101edcad5ef59c19701ac8b6e.txt  \n",
            "  inflating: valid/labels/FLIP_CAR_V19_jpg.rf.7361551fbbf037ef6b8daa4c9cc74754.txt  \n",
            "  inflating: valid/labels/LakeStevens_Fatal_jpg.rf.758257164c4bdd744e55f17b5cf850b1.txt  \n",
            "  inflating: valid/labels/OIP-10-_jpg.rf.2c06118787a7d30ccf11e02191cd5744.txt  \n",
            "  inflating: valid/labels/OIP-13-_jpg.rf.51c5b89e3c32b13085d3e6051b7dbb8d.txt  \n",
            "  inflating: valid/labels/OIP-14-_jpg.rf.a1cc2ee24658a8872396024e727b1bc8.txt  \n",
            "  inflating: valid/labels/OIP-17-_jpg.rf.b76ac5bb55ff82b60cf980f8e42e8c4f.txt  \n",
            "  inflating: valid/labels/OIP-23-_jpg.rf.a049cf6ec4bdd884c2e00928ba1572b6.txt  \n",
            "  inflating: valid/labels/OIP-27-_jpg.rf.55b81e5f490032c7bea424397bbd8e6b.txt  \n",
            "  inflating: valid/labels/OIP-31-_jpg.rf.2b89316c67617cb533b240b15d0bf9a1.txt  \n",
            "  inflating: valid/labels/OIP-36-_jpg.rf.80284a8fe3d1f51a5da9d9fca3b12e70.txt  \n",
            "  inflating: valid/labels/OIP-37-_jpg.rf.6c021252bbd12548bd27602b7371d0cb.txt  \n",
            "  inflating: valid/labels/OIP-40-_jpg.rf.2d6bdef958d95437dfd4c5ad589e9192.txt  \n",
            "  inflating: valid/labels/OIP-43-_jpg.rf.4cfa21fc92cc2bb220ee33009bdc1271.txt  \n",
            "  inflating: valid/labels/OIP-51-_jpg.rf.27fef8eefcee68098694a9aeb583084c.txt  \n",
            "  inflating: valid/labels/OIP-54-_jpg.rf.f74fefaa6a843a5a5a1530a9b73e4226.txt  \n",
            "  inflating: valid/labels/OIP-6-_jpg.rf.4ce5deccd42b4777e5c1265b0084aa06.txt  \n",
            "  inflating: valid/labels/OIP-61-_jpg.rf.8579cf7201f4ed27add88a9fac532ea0.txt  \n",
            "  inflating: valid/labels/OIP-73-_jpg.rf.737103ba291e4096f0d93594754f0ec1.txt  \n",
            "  inflating: valid/labels/OIP-88-_jpg.rf.40ee908a3cc6eb48599b12019552390d.txt  \n",
            "  inflating: valid/labels/OIP-90-_jpg.rf.f86192ec343fd00c7efbc262aefd6651.txt  \n",
            "  inflating: valid/labels/Screen-Shot-2022-04-05-at-2-10-30-AM_png_jpg.rf.f6bd38991ad65e7d76fc8c4d277e244d.txt  \n",
            " extracting: valid/labels/Screen-Shot-2022-04-05-at-2-11-24-AM_png_jpg.rf.5c46d5add03fe46595cf8a0c2130281c.txt  \n",
            " extracting: valid/labels/Screen-Shot-2022-04-05-at-2-11-24-AM_png_jpg.rf.df4fcf910e88ea8705af7a28063c60c8.txt  \n",
            "  inflating: valid/labels/Semi-RealisticVD-111_jpg.rf.2b186b0804f6acd865da4955fdaa70d2.txt  \n",
            "  inflating: valid/labels/Semi-RealisticVD-111_jpg.rf.5203e7b1f7b8cf42f3c06382755fab03.txt  \n",
            "  inflating: valid/labels/Semi-RealisticVD-111_jpg.rf.89dddf59ac6fd427f7424612da8b976f.txt  \n",
            "  inflating: valid/labels/Semi-RealisticVD-111_jpg.rf.c85328efddf8327032770d1a30dee04a.txt  \n",
            "  inflating: valid/labels/Semi-RealisticVD-122_jpg.rf.d70c392f72a807dc0e145c4aea7d8375.txt  \n",
            "  inflating: valid/labels/Semi-RealisticVD-122_jpg.rf.d791cab51aa4a780d6308e2e1026c716.txt  \n",
            "  inflating: valid/labels/Semi-RealisticVD-12_jpg.rf.a291f37acd3eb40dc53301c4c9a7b4cf.txt  \n",
            "  inflating: valid/labels/Semi-RealisticVD-139_jpg.rf.0cd2b21208b6a6c05740b52f59456809.txt  \n",
            "  inflating: valid/labels/Semi-RealisticVD-139_jpg.rf.2640f97e12a3c864607783ec64e7ca45.txt  \n",
            "  inflating: valid/labels/Semi-RealisticVD-139_jpg.rf.adabe29c24f13d99a523da24b10f370c.txt  \n",
            " extracting: valid/labels/Semi-RealisticVD-143_jpg.rf.bc0b8a580016f390b732108c7b5c6d57.txt  \n",
            "  inflating: valid/labels/Semi-RealisticVD-145_jpg.rf.0a8a9038dcfef162b4c2f5ff2f603f75.txt  \n",
            "  inflating: valid/labels/Semi-RealisticVD-148_jpg.rf.04a05693d959fafd84dacc4c4f527607.txt  \n",
            "  inflating: valid/labels/Semi-RealisticVD-150_jpg.rf.3a8b2f1706b9c983494b2d0bbcb7d6ac.txt  \n",
            "  inflating: valid/labels/Semi-RealisticVD-150_jpg.rf.feade642dc27b5305031f26a9771f204.txt  \n",
            "  inflating: valid/labels/Semi-RealisticVD-169_jpg.rf.8a4f0785be2ea07c9c9520fee904406c.txt  \n",
            "  inflating: valid/labels/Semi-RealisticVD-174_jpg.rf.0b86e268c924a2e1fcfb14745bc2558b.txt  \n",
            "  inflating: valid/labels/Semi-RealisticVD-174_jpg.rf.396bdfe3048438ab4b9f7840684d51c5.txt  \n",
            "  inflating: valid/labels/Semi-RealisticVD-174_jpg.rf.40c236dab9cd64f97a71c0727687478c.txt  \n",
            "  inflating: valid/labels/Semi-RealisticVD-176_jpg.rf.302ef53b90d0bd76cad67434cbd863d5.txt  \n",
            "  inflating: valid/labels/Semi-RealisticVD-176_jpg.rf.8d006c1424466e08aab8c8836e399195.txt  \n",
            "  inflating: valid/labels/Semi-RealisticVD-176_jpg.rf.beabf4dd969fd5d4b1f76c15ddcc6050.txt  \n",
            "  inflating: valid/labels/Semi-RealisticVD-180_jpg.rf.857cd5a9de598a2a11110bbc83a3ec7d.txt  \n",
            "  inflating: valid/labels/Semi-RealisticVD-181_jpg.rf.4b37494f31e71c7027bc7e9dd141976b.txt  \n",
            "  inflating: valid/labels/Semi-RealisticVD-181_jpg.rf.d01dedb2903eee63448a2b0dc6e61b0c.txt  \n",
            "  inflating: valid/labels/Semi-RealisticVD-187_jpg.rf.821b35e309a63372b14e6d6c4dafd2a4.txt  \n",
            "  inflating: valid/labels/Semi-RealisticVD-187_jpg.rf.9c99175879b3f23f10941fd75704f500.txt  \n",
            "  inflating: valid/labels/Semi-RealisticVD-190_jpg.rf.27741ab4294f0912a889c9d3dbc59266.txt  \n",
            "  inflating: valid/labels/Semi-RealisticVD-190_jpg.rf.8dfd5a4cd5125b9423f7b9ea7cc56d20.txt  \n",
            "  inflating: valid/labels/Semi-RealisticVD-195_jpg.rf.d135450c8017e928fd8cbdc68a370a47.txt  \n",
            "  inflating: valid/labels/Semi-RealisticVD-203_jpg.rf.54d6450d8db2bda9a8696b7b3aa889d4.txt  \n",
            "  inflating: valid/labels/Semi-RealisticVD-203_jpg.rf.69e1e319fec1bfda18e0613f00455f11.txt  \n",
            "  inflating: valid/labels/Semi-RealisticVD-203_jpg.rf.c9cf426c7211f13326bde13eb435ba05.txt  \n",
            "  inflating: valid/labels/Semi-RealisticVD-204_jpg.rf.88c9b1f5d3cee0c758417eabf781ecce.txt  \n",
            "  inflating: valid/labels/Semi-RealisticVD-20_jpg.rf.db02203a63077856911bf011955ed4bb.txt  \n",
            "  inflating: valid/labels/Semi-RealisticVD-214_jpg.rf.6d7f0eeefcdf270b74919c0a9004d581.txt  \n",
            "  inflating: valid/labels/Semi-RealisticVD-214_jpg.rf.a3e530a39e0184e6a6f10cc9453e76cd.txt  \n",
            "  inflating: valid/labels/Semi-RealisticVD-216_jpg.rf.b58693afde23c422c1976e51e39a0263.txt  \n",
            "  inflating: valid/labels/Semi-RealisticVD-217_jpg.rf.338e3541b1bde09742f541de572ff130.txt  \n",
            "  inflating: valid/labels/Semi-RealisticVD-217_jpg.rf.abb2d11044d77e3ea5d214d515f34fdb.txt  \n",
            "  inflating: valid/labels/Semi-RealisticVD-224_jpg.rf.322b9ae44a9e57058f8863d37442ef00.txt  \n",
            "  inflating: valid/labels/Semi-RealisticVD-26_jpg.rf.1afabb5d4058a87aa412588dded7931c.txt  \n",
            "  inflating: valid/labels/Semi-RealisticVD-30_jpg.rf.483eba8b530639aa50185ab53f4d9e0d.txt  \n",
            "  inflating: valid/labels/Semi-RealisticVD-30_jpg.rf.4eda47867b03dd357d5d11f3d55fb33d.txt  \n",
            "  inflating: valid/labels/Semi-RealisticVD-31_jpg.rf.a4e4fc6d71986e246238b1194cae5c34.txt  \n",
            "  inflating: valid/labels/Semi-RealisticVD-40_jpg.rf.00bbb15c84e8d22ff4dd98d558d1ea12.txt  \n",
            "  inflating: valid/labels/Semi-RealisticVD-40_jpg.rf.0d4ecaee8ba1f7cfb912f9d014c54b0c.txt  \n",
            "  inflating: valid/labels/Semi-RealisticVD-40_jpg.rf.5d2b5a761c454f881a0ab9251cc4a94a.txt  \n",
            "  inflating: valid/labels/Semi-RealisticVD-45_jpg.rf.0dd6fa012307d3fe738969a1b380882a.txt  \n",
            "  inflating: valid/labels/Semi-RealisticVD-52_jpg.rf.2b909c3187c1f03acefed015aadaa645.txt  \n",
            "  inflating: valid/labels/Semi-RealisticVD-55_jpg.rf.4ec6ba047f9a919988ba90c768674c63.txt  \n",
            "  inflating: valid/labels/Semi-RealisticVD-55_jpg.rf.dba429b9e6e8a0ed332f422e9d4ffa85.txt  \n",
            "  inflating: valid/labels/Severity_Detect_V12_jpg.rf.23609d16fedc4fc832a4feb225cd1424.txt  \n",
            "  inflating: valid/labels/Severity_Detect_V12_jpg.rf.bd9ef4199ee401d498c0797cb27f4d38.txt  \n",
            "  inflating: valid/labels/Severity_Detect_V12_jpg.rf.e697b759b6b3e4b2033a8216e60cf1eb.txt  \n",
            "  inflating: valid/labels/Severity_Detect_V13_jpg.rf.5d7b9903b7c8fcf04f6ae9df14bcc891.txt  \n",
            "  inflating: valid/labels/Severity_Detect_V14_jpg.rf.73f1dda9104262d6a0c20869b7809cd9.txt  \n",
            "  inflating: valid/labels/Severity_Detect_V18_jpg.rf.666aacee67bd480988739b43f67c3f65.txt  \n",
            "  inflating: valid/labels/Severity_Detect_V18_jpg.rf.843935e3bc2cc08be03b983e20d43eb7.txt  \n",
            "  inflating: valid/labels/Severity_Detect_V18_jpg.rf.953180343fbc30d11fce09df475e4867.txt  \n",
            "  inflating: valid/labels/Severity_Detect_V19_jpg.rf.900fff8456305e754ccd1d2cbd45ddf8.txt  \n",
            "  inflating: valid/labels/Severity_Detect_V19_jpg.rf.ae8f795fea69d3df4068cbf0223307f2.txt  \n",
            "  inflating: valid/labels/Severity_Detect_V1_jpg.rf.193290d1abf2ba1896391d3a70eea322.txt  \n",
            " extracting: valid/labels/Severity_Detect_V20_jpg.rf.38bab3a22ad85ecfac367ce6ff90d612.txt  \n",
            " extracting: valid/labels/Severity_Detect_V20_jpg.rf.c14d1ab77dc2baea67794500d7853a5d.txt  \n",
            " extracting: valid/labels/Severity_Detect_V20_jpg.rf.d250b228fd2ab4f1471f5100b162cb96.txt  \n",
            "  inflating: valid/labels/Severity_Detect_V21_jpg.rf.59027538e35ac6631a77fd9025664cbc.txt  \n",
            "  inflating: valid/labels/Severity_Detect_V21_jpg.rf.a49cc5f6daa22ae2b0b3f71ed79c0740.txt  \n",
            " extracting: valid/labels/Severity_Detect_V23_jpg.rf.3a02b5c1af680e6ff780b6a6714b3fff.txt  \n",
            " extracting: valid/labels/Severity_Detect_V23_jpg.rf.45b07fa5d5dec19f7b03907437c03374.txt  \n",
            "  inflating: valid/labels/Severity_Detect_V24_jpg.rf.75518a68044c16aa79b1e426c5890273.txt  \n",
            "  inflating: valid/labels/Severity_Detect_V25_jpg.rf.f39e1509d341852628c062d09aa86842.txt  \n",
            "  inflating: valid/labels/Severity_Detect_V27_jpg.rf.834ea6d15f1007f0d3f952b8bc46a32a.txt  \n",
            "  inflating: valid/labels/Severity_Detect_V28_jpg.rf.0624d9c0f3d74b86f57e86fe42f79b09.txt  \n",
            "  inflating: valid/labels/Severity_Detect_V29_jpg.rf.64ac3663785deac7fe75e916b9222980.txt  \n",
            "  inflating: valid/labels/Severity_Detect_V2_jpg.rf.4e263863c6f16fd9082abcb8e24181ac.txt  \n",
            "  inflating: valid/labels/Severity_Detect_V2_jpg.rf.6f0b137b560b38d98f14cc677644b3ad.txt  \n",
            "  inflating: valid/labels/Severity_Detect_V30_jpg.rf.5466f493eca8ff5cb66a4d082b6498b9.txt  \n",
            "  inflating: valid/labels/Severity_Detect_V30_jpg.rf.c504af09ad9e648e47bb5b4880a1f06e.txt  \n",
            " extracting: valid/labels/Severity_Detect_V31_jpg.rf.2ffd247018597234f424ca0ec8bc3f78.txt  \n",
            " extracting: valid/labels/Severity_Detect_V31_jpg.rf.54c91148cef32b1d095b30824a495a39.txt  \n",
            " extracting: valid/labels/Severity_Detect_V33_jpg.rf.6d0334fe0e5e9155d964a58749dd298e.txt  \n",
            " extracting: valid/labels/Severity_Detect_V33_jpg.rf.b89a08b585f050f521d5bb2ba2d56cab.txt  \n",
            " extracting: valid/labels/Severity_Detect_V33_jpg.rf.d925f3a7be39140688ae2546adcbeba7.txt  \n",
            "  inflating: valid/labels/Severity_Detect_V34_jpg.rf.28d61d88a453714eccfe6a753cee260a.txt  \n",
            "  inflating: valid/labels/Severity_Detect_V34_jpg.rf.4526589ff786802fdcb8e42f693cdcac.txt  \n",
            " extracting: valid/labels/Severity_Detect_V35_jpg.rf.40553506781673ff25fc301b9bab010d.txt  \n",
            " extracting: valid/labels/Severity_Detect_V35_jpg.rf.74ac7dc357997b10daaa8dddd036c708.txt  \n",
            " extracting: valid/labels/Severity_Detect_V35_jpg.rf.bf677b32f736890d850ef7f391720e36.txt  \n",
            "  inflating: valid/labels/Severity_Detect_V38_jpg.rf.090105ee0ab50a71cc0ca8197cd48ad5.txt  \n",
            "  inflating: valid/labels/Severity_Detect_V38_jpg.rf.35de3a1ad2a5b2f9c9be65c08b6ddac8.txt  \n",
            "  inflating: valid/labels/Severity_Detect_V38_jpg.rf.dfc2b31739861ab15a8e7d3e5d406a16.txt  \n",
            " extracting: valid/labels/Severity_Detect_V39_jpg.rf.0803979c9b95d337e0b7bffde9be535f.txt  \n",
            " extracting: valid/labels/Severity_Detect_V39_jpg.rf.75191a44e6174dd708b37d6aad2157da.txt  \n",
            " extracting: valid/labels/Severity_Detect_V39_jpg.rf.dd094398b9a471b36866d81c19e42380.txt  \n",
            "  inflating: valid/labels/Severity_Detect_V3_jpg.rf.45746c321a79ba91dd9de8fcb31dd20e.txt  \n",
            "  inflating: valid/labels/Severity_Detect_V3_jpg.rf.6ab1d26934dd505dd673fe643071e00f.txt  \n",
            " extracting: valid/labels/Severity_Detect_V40_jpg.rf.d86381b4427bf20a0ed1ec54c78fc7b5.txt  \n",
            " extracting: valid/labels/Severity_Detect_V40_jpg.rf.fe3617ff75c1e633d9b71b62255b5bee.txt  \n",
            "  inflating: valid/labels/Severity_Detect_V5_jpg.rf.8f7d6124ebabd9bf54823c9b0b130891.txt  \n",
            "  inflating: valid/labels/Severity_Detect_V6_jpg.rf.44bffb9bf1f83254b2f1be4c7aaa616a.txt  \n",
            "  inflating: valid/labels/Severity_Detect_V6_jpg.rf.674dbf1196decdf092a9209f8f6ea076.txt  \n",
            "  inflating: valid/labels/Severity_Detect_V9_jpg.rf.217af69d9cb94facd3fef16da7ae3393.txt  \n",
            "  inflating: valid/labels/Severity_Detect_V9_jpg.rf.c405a5a7c5179674b423a031b2c13b2e.txt  \n",
            "  inflating: valid/labels/accidentFrame108_jpg.rf.76c2164bf61b54129dd1ded98701b399.txt  \n",
            "  inflating: valid/labels/accidentFrame109_jpg.rf.5eed700c6fb42dff3d0975f2c23ec634.txt  \n",
            "  inflating: valid/labels/accidentFrame109_jpg.rf.f3787da8ac285ba4751068da86329b2f.txt  \n",
            "  inflating: valid/labels/accidentFrame110_jpg.rf.728f2660e045dde63f2b599aa7acd106.txt  \n",
            "  inflating: valid/labels/accidentFrame110_jpg.rf.c7bab8aec674eb54581acfc7d40ade58.txt  \n",
            "  inflating: valid/labels/accidentFrame111_jpg.rf.b2cad55f6d3f687b6f4073d8a9597a58.txt  \n",
            "  inflating: valid/labels/accidentFrame112_jpg.rf.d362aa1562e7164d219f3de1a8262929.txt  \n",
            "  inflating: valid/labels/accidentFrame1191_jpg.rf.2e8279c5731792c8fc1236404637f3b1.txt  \n",
            " extracting: valid/labels/accidentFrame1192_jpg.rf.03b53f4200f8b47d6fe4a8d3da6fc2c8.txt  \n",
            " extracting: valid/labels/accidentFrame1192_jpg.rf.de5e56c681723211aa5ae9010eac5b77.txt  \n",
            " extracting: valid/labels/accidentFrame1192_jpg.rf.ded0e683a532cb4105b74d42034af901.txt  \n",
            "  inflating: valid/labels/accidentFrame1193_jpg.rf.5f59dcbaf7797344b14c050f87ae87e1.txt  \n",
            "  inflating: valid/labels/accidentFrame1194_jpg.rf.37c2eb6b9c9a8cef3b17e515b38725f1.txt  \n",
            "  inflating: valid/labels/accidentFrame1197_jpg.rf.01932b393b79d0f1c8ad6d8366e388e4.txt  \n",
            "  inflating: valid/labels/accidentFrame1197_jpg.rf.d12bfa323d8880633393143a8248d4cc.txt  \n",
            " extracting: valid/labels/accidentFrame120_jpg.rf.c95a751e2634c98237561589bb402ff3.txt  \n",
            "  inflating: valid/labels/accidentFrame121_jpg.rf.dce57f20c99a4794017896a251ae443d.txt  \n",
            " extracting: valid/labels/accidentFrame122_jpg.rf.1948e202e97a2da9c7bee44e1471efed.txt  \n",
            "  inflating: valid/labels/accidentFrame123_jpg.rf.4d87d1e6f34de196bed245534f90f050.txt  \n",
            "  inflating: valid/labels/accidentFrame125_jpg.rf.bffc8a1418be50056277e3cfb9075734.txt  \n",
            "  inflating: valid/labels/accidentFrame126_jpg.rf.0d06c87fb26d6b18287b89ab6efdbd92.txt  \n",
            "  inflating: valid/labels/accidentFrame126_jpg.rf.6fe847dd1114bf31a78f88d7e525ecfd.txt  \n",
            "  inflating: valid/labels/accidentFrame127_jpg.rf.4c01750955daad798dae15b87c872ef4.txt  \n",
            "  inflating: valid/labels/accidentFrame128_jpg.rf.bf0bc68011650c06024fa1a225100550.txt  \n",
            "  inflating: valid/labels/accidentFrame129_jpg.rf.4e82e744e4d1f501e6d52d5a0598a3f8.txt  \n",
            "  inflating: valid/labels/accidentFrame129_jpg.rf.eff093d15c66411039c5bb6b3661e278.txt  \n",
            "  inflating: valid/labels/accidentFrame131_jpg.rf.aad064943daea9732f2f1c01ae51e8a2.txt  \n",
            "  inflating: valid/labels/accidentFrame131_jpg.rf.bce5b4d50ccd051b850fd9b2f66699d9.txt  \n",
            "  inflating: valid/labels/accidentFrame132_jpg.rf.6b9c832c0d388d334895c08c18475b29.txt  \n",
            "  inflating: valid/labels/accidentFrame137_jpg.rf.4e73b443072100675fa0baece59b9c45.txt  \n",
            "  inflating: valid/labels/accidentFrame137_jpg.rf.8e563c628003131e2da558633849da05.txt  \n",
            "  inflating: valid/labels/accidentFrame137_jpg.rf.df48943b5e23e8b744e1e50f2b265c89.txt  \n",
            "  inflating: valid/labels/accidentFrame138_jpg.rf.4a045241c50b0f37e1626fcda85c699c.txt  \n",
            "  inflating: valid/labels/accidentFrame138_jpg.rf.608f6bab2185d44cf715968e676b3250.txt  \n",
            "  inflating: valid/labels/accidentFrame1851_jpg.rf.45428d064d9fc82873fe53d942b10eb9.txt  \n",
            "  inflating: valid/labels/accidentFrame1852_jpg.rf.9ac2d5d25a99626a21aedf47ff794383.txt  \n",
            "  inflating: valid/labels/accidentFrame1853_jpg.rf.cb326a84586f99ebe6d543c035c9bec0.txt  \n",
            "  inflating: valid/labels/accidentFrame1854_jpg.rf.fc8ad0f48c56d9441db94800c8cf6915.txt  \n",
            " extracting: valid/labels/accidentFrame2170_jpg.rf.010719ea24e6fae6aa91a471eaf3c4b2.txt  \n",
            " extracting: valid/labels/accidentFrame2171_jpg.rf.179f91e034374125d21d229c2cfe63c2.txt  \n",
            " extracting: valid/labels/accidentFrame2171_jpg.rf.b97647ff8751063b46b4f7eb9da5c7c0.txt  \n",
            "  inflating: valid/labels/accidentFrame2172_jpg.rf.28034a33211644d76202c0d9b26b1184.txt  \n",
            "  inflating: valid/labels/accidentFrame2172_jpg.rf.d165d82aea4821857dfba7775359a136.txt  \n",
            "  inflating: valid/labels/accidentFrame2173_jpg.rf.b77dbc5bfa3779247cc22e3922fe0660.txt  \n",
            "  inflating: valid/labels/accidentFrame2174_jpg.rf.5cee2521441d46e638f1e0d73149c731.txt  \n",
            "  inflating: valid/labels/accidentFrame2174_jpg.rf.ecc42bc3096bbabb6653916eff444f77.txt  \n",
            "  inflating: valid/labels/accidentFrame2559_jpg.rf.12d277ffb2e8b13823687cf494d67d68.txt  \n",
            " extracting: valid/labels/accidentFrame268_jpg.rf.0dcead28b11530c4a8f83fbdbcd7ab44.txt  \n",
            " extracting: valid/labels/accidentFrame268_jpg.rf.2ebbd3ac6684df5d90aed3972bc0ffba.txt  \n",
            " extracting: valid/labels/accidentFrame268_jpg.rf.2f5b2bb548c726c42daa8b19f0c8b65d.txt  \n",
            " extracting: valid/labels/accidentFrame268_jpg.rf.4318e27362da8bfb0c9f50780ae138a6.txt  \n",
            "  inflating: valid/labels/accidentFrame2716_jpg.rf.fd4102607e47131f8cd06ac8b9965078.txt  \n",
            "  inflating: valid/labels/accidentFrame2717_jpg.rf.2555bc19d45015740f43d6f11b21caf0.txt  \n",
            "  inflating: valid/labels/accidentFrame2719_jpg.rf.a9cca0b654c8fe1d0da342f1a1dbed72.txt  \n",
            "  inflating: valid/labels/accidentFrame2720_jpg.rf.51dcf9fc491991bbbe10091885339885.txt  \n",
            "  inflating: valid/labels/accidentFrame2720_jpg.rf.682edc92ace2869402df5326bc1e5c58.txt  \n",
            "  inflating: valid/labels/accidentFrame2720_jpg.rf.872e7e8cbf3da0160f529f0e7eb85afb.txt  \n",
            "  inflating: valid/labels/accidentFrame2721_jpg.rf.97f15c3a4184e56240731f6f2a5c726d.txt  \n",
            "  inflating: valid/labels/accidentFrame2722_jpg.rf.e2a823d9916cb50a83041b40f50665d5.txt  \n",
            "  inflating: valid/labels/accidentFrame2723_jpg.rf.2deef54ebfe7221bab62d56bc02a78a0.txt  \n",
            "  inflating: valid/labels/accidentFrame2723_jpg.rf.add40ce42d99c9a3cd73ad78ac6fb1b9.txt  \n",
            "  inflating: valid/labels/accidentFrame2724_jpg.rf.a469c511758365e03f927f5516bae882.txt  \n",
            "  inflating: valid/labels/accidentFrame2725_jpg.rf.1aa731a4164ab1d8d44fdf182f9bf8c5.txt  \n",
            "  inflating: valid/labels/accidentFrame2725_jpg.rf.fb5acf87ec56d11bc64c9c2cc4eb8e36.txt  \n",
            "  inflating: valid/labels/accidentFrame2726_jpg.rf.d227822e3f975f55703ba3a3929acf8d.txt  \n",
            "  inflating: valid/labels/accidentFrame2727_jpg.rf.4b60ea32cad915b684ef3d11164dd327.txt  \n",
            "  inflating: valid/labels/accidentFrame2727_jpg.rf.6d444268a2e4db6a082a4df2931622a1.txt  \n",
            "  inflating: valid/labels/accidentFrame2727_jpg.rf.c86cc2eee88e8312ea00d4f241ab1507.txt  \n",
            "  inflating: valid/labels/accidentFrame2728_jpg.rf.793302621262f3135b5e60c0788a0ce8.txt  \n",
            "  inflating: valid/labels/accidentFrame2728_jpg.rf.9df98a0c8e5e4e1cc422c1bc953e1758.txt  \n",
            " extracting: valid/labels/accidentFrame2729_jpg.rf.50b030db52d7d6b0fa954702d0f1fc7a.txt  \n",
            " extracting: valid/labels/accidentFrame2729_jpg.rf.73d5f2fce6ec0e2bf43d13fe53f10ca6.txt  \n",
            " extracting: valid/labels/accidentFrame2729_jpg.rf.aec1a68e3b61c6933e98d3cb9ee70339.txt  \n",
            " extracting: valid/labels/accidentFrame2729_jpg.rf.af2e7ceab315d22b2a0fabc100821741.txt  \n",
            " extracting: valid/labels/accidentFrame2730_jpg.rf.149d9b3b0682d9f4287ba1b8f3fd3d01.txt  \n",
            "  inflating: valid/labels/accidentFrame2731_jpg.rf.13dd1017ec75f118c580afa66eda982d.txt  \n",
            "  inflating: valid/labels/accidentFrame2732_jpg.rf.8e008c223388342ec5874ae5e53189b4.txt  \n",
            "  inflating: valid/labels/accidentFrame2732_jpg.rf.d660790bafbad48066780f4c309d3a92.txt  \n",
            "  inflating: valid/labels/accidentFrame2732_jpg.rf.e72071bc0cd5326fd06928470e44c0c3.txt  \n",
            "  inflating: valid/labels/accidentFrame2741_jpg.rf.f521980646aea4067f3f2d1bc415cc30.txt  \n",
            "  inflating: valid/labels/accidentFrame2743_jpg.rf.87460adaca3726086b920d916dd6c31f.txt  \n",
            "  inflating: valid/labels/accidentFrame2744_jpg.rf.70486179256efe4e9d9d223cdbaba52e.txt  \n",
            "  inflating: valid/labels/accidentFrame2745_jpg.rf.49fc5c75bfd20b7f60175675d124098f.txt  \n",
            "  inflating: valid/labels/accidentFrame2745_jpg.rf.7fd670236cc456703caeb1f28b0eb26a.txt  \n",
            "  inflating: valid/labels/accidentFrame2745_jpg.rf.91c957505018e0ac61bf16e1f2b78c35.txt  \n",
            "  inflating: valid/labels/accidentFrame2746_jpg.rf.119f523a7fc21429f38b35bd8655e0b8.txt  \n",
            "  inflating: valid/labels/accidentFrame2747_jpg.rf.2ede371b3dc164e326dde072eddcec77.txt  \n",
            "  inflating: valid/labels/accidentFrame2747_jpg.rf.55e70c51ae7024d317fbd98c83098f93.txt  \n",
            "  inflating: valid/labels/accidentFrame2748_jpg.rf.2d3fca368a0e2d2fe0e6c054e83622f2.txt  \n",
            "  inflating: valid/labels/accidentFrame2748_jpg.rf.391bfb694e1bfea1c2ba5f34deb4e449.txt  \n",
            "  inflating: valid/labels/accidentFrame2749_jpg.rf.7954ca5f2a919e99eeed245d600cab75.txt  \n",
            "  inflating: valid/labels/accidentFrame2749_jpg.rf.7ee5532875d56d923ef4054cc584607a.txt  \n",
            "  inflating: valid/labels/accidentFrame2749_jpg.rf.acd87ef454b6621a8c0c31a58c534478.txt  \n",
            "  inflating: valid/labels/accidentFrame2751_jpg.rf.26b4b7c2f459e599e0573c860ccf5657.txt  \n",
            "  inflating: valid/labels/accidentFrame2751_jpg.rf.6e445aec8389650532a0379f97e54072.txt  \n",
            "  inflating: valid/labels/accidentFrame2751_jpg.rf.914927706ca3e8619d83c327eee4c1fd.txt  \n",
            "  inflating: valid/labels/accidentFrame2751_jpg.rf.f5baac202675d8194ee83f6e0c7e8cad.txt  \n",
            "  inflating: valid/labels/accidentFrame2752_jpg.rf.e8cfe0520a77b9dee224f1a00e33eea2.txt  \n",
            "  inflating: valid/labels/accidentFrame2753_jpg.rf.051296fe9c440d2b23a0ed3005aff96d.txt  \n",
            "  inflating: valid/labels/accidentFrame2753_jpg.rf.e5a213bbbcd5616f70f5e9e8f9ece46e.txt  \n",
            "  inflating: valid/labels/accidentFrame2755_jpg.rf.6cb3ce6b383cf58f209959c73ad116dc.txt  \n",
            "  inflating: valid/labels/accidentFrame2758_jpg.rf.1828c6abe63f753c08b9f17a03376b0f.txt  \n",
            "  inflating: valid/labels/accidentFrame2759_jpg.rf.5dcb2f64120d21979a1f4eeed665ea0d.txt  \n",
            "  inflating: valid/labels/accidentFrame2759_jpg.rf.8cb80dead85aa7a8d2cac9fe0ebfa38f.txt  \n",
            " extracting: valid/labels/accidentFrame2760_jpg.rf.e011b16a4b95fc9d201370b8a19b7e8c.txt  \n",
            "  inflating: valid/labels/accidentFrame2761_jpg.rf.6bee994dcf0a2234e52f46902c25a628.txt  \n",
            "  inflating: valid/labels/accidentFrame2761_jpg.rf.71b4466f388e280787f589bdc7f59247.txt  \n",
            "  inflating: valid/labels/accidentFrame2762_jpg.rf.48d097991b68fba328c4df2a280bfc0a.txt  \n",
            "  inflating: valid/labels/accidentFrame2762_jpg.rf.63a0327b0c85d9cde8137c196934b8f6.txt  \n",
            "  inflating: valid/labels/accidentFrame2762_jpg.rf.751ce70a173c98c567ae0534f4868910.txt  \n",
            "  inflating: valid/labels/accidentFrame283_jpg.rf.81e02552d41aac27363d67eb81ee4db4.txt  \n",
            "  inflating: valid/labels/accidentFrame2980_jpg.rf.bb5e03e36d6175974897a6ab1e3b53be.txt  \n",
            "  inflating: valid/labels/accidentFrame2984_jpg.rf.14130d3124a10ca61edd5b36c5ea2051.txt  \n",
            "  inflating: valid/labels/accidentFrame2984_jpg.rf.4dd905bd2b45d8bd4249a2ac43086df7.txt  \n",
            "  inflating: valid/labels/accidentFrame2985_jpg.rf.9efe36dee91fc1d749902653dd64fc14.txt  \n",
            "  inflating: valid/labels/accidentFrame2986_jpg.rf.3a1ac92408a5f27dfab0f8f8d83e3aba.txt  \n",
            "  inflating: valid/labels/accidentFrame2986_jpg.rf.8a02ec0b140230aaf5a61763d681925c.txt  \n",
            "  inflating: valid/labels/accidentFrame2994_jpg.rf.f695e02f0f98dab42d987a1cc18d1aef.txt  \n",
            "  inflating: valid/labels/accidentFrame2996_jpg.rf.1fe49b801221e394c64f1721cb0d910a.txt  \n",
            "  inflating: valid/labels/accidentFrame2996_jpg.rf.74d6c3f5b6da9c9793f5ed3972e7fb18.txt  \n",
            "  inflating: valid/labels/accidentFrame2997_jpg.rf.0915b170a2322a346a44dcb80ec6271c.txt  \n",
            "  inflating: valid/labels/accidentFrame2997_jpg.rf.1a097f254efa94c450ed1875ddc086db.txt  \n",
            "  inflating: valid/labels/accidentFrame3002_jpg.rf.708e9cc3d880bd4c9e7feb111d1d0251.txt  \n",
            "  inflating: valid/labels/accidentFrame3008_jpg.rf.3b3b3afa0eb1a2055844602351f2a490.txt  \n",
            "  inflating: valid/labels/accidentFrame3008_jpg.rf.65c948560c528c12a91a43385dc81075.txt  \n",
            "  inflating: valid/labels/accidentFrame3008_jpg.rf.befddb097f33ec76d5c9a573d2732b2f.txt  \n",
            "  inflating: valid/labels/accidentFrame3009_jpg.rf.87b5f68a0f8a7d4093be75d394c04705.txt  \n",
            "  inflating: valid/labels/accidentFrame3009_jpg.rf.ac8341095a41c198787b287599cea17d.txt  \n",
            " extracting: valid/labels/accidentFrame3010_jpg.rf.136a471e690370ea891ed179f8507bc0.txt  \n",
            " extracting: valid/labels/accidentFrame3010_jpg.rf.cb06bb6715f8afc25ca5b576d94dfa9a.txt  \n",
            " extracting: valid/labels/accidentFrame3010_jpg.rf.e4d99e8bf07e7db45a4cffecece4f9d4.txt  \n",
            "  inflating: valid/labels/accidentFrame3011_jpg.rf.0ef202ac82edcab279d9e65c0febd115.txt  \n",
            "  inflating: valid/labels/accidentFrame3011_jpg.rf.2d8c2231d413cb563aa9315cd3f108df.txt  \n",
            "  inflating: valid/labels/accidentFrame3011_jpg.rf.3929d0887fdc577bad65cdffd71b415f.txt  \n",
            "  inflating: valid/labels/accidentFrame3012_jpg.rf.2fca72e3274e09db4fed59ca873ecb96.txt  \n",
            "  inflating: valid/labels/accidentFrame3012_jpg.rf.aa0dfaa6d786d53aa6e69e3c44619e19.txt  \n",
            "  inflating: valid/labels/accidentFrame3013_jpg.rf.0b55016adcce049baa7c8559f8725315.txt  \n",
            "  inflating: valid/labels/accidentFrame3013_jpg.rf.f13b75eda9d01d32cd71ae44b697bd5c.txt  \n",
            "  inflating: valid/labels/accidentFrame3014_jpg.rf.06b7cb7a1829b4dbf47531eefb0d7e76.txt  \n",
            "  inflating: valid/labels/accidentFrame3015_jpg.rf.7076c3edc50c11e31aa83e7bff23f3ae.txt  \n",
            " extracting: valid/labels/accidentFrame3210_jpg.rf.600689ad567e7410afce0e9560d30e8a.txt  \n",
            " extracting: valid/labels/accidentFrame3210_jpg.rf.703e8cfe008da34d9ac4552f5f3f106e.txt  \n",
            " extracting: valid/labels/accidentFrame3210_jpg.rf.a4f91f68ba40dc8fe56de4d20262da15.txt  \n",
            "  inflating: valid/labels/accidentFrame3211_jpg.rf.aa12bcb9231ae5694220d0c2c73401c4.txt  \n",
            "  inflating: valid/labels/accidentFrame3211_jpg.rf.cf072aca5c0e9cce7cf75d2f2438f477.txt  \n",
            "  inflating: valid/labels/accidentFrame3222_jpg.rf.0a98cabdae499920f7af3ec8fb3d4067.txt  \n",
            "  inflating: valid/labels/accidentFrame3222_jpg.rf.ab01e18ae584b76072e8f2081f8516a9.txt  \n",
            "  inflating: valid/labels/accidentFrame3225_jpg.rf.128f8916085a4a0c70a9a1b51aa95d55.txt  \n",
            "  inflating: valid/labels/accidentFrame3415_jpg.rf.0bdad8d19a8c8355ad44e92b84ea5c62.txt  \n",
            "  inflating: valid/labels/accidentFrame3415_jpg.rf.a3dd2ad39caaf7ce9b46051074b01b42.txt  \n",
            "  inflating: valid/labels/accidentFrame3415_jpg.rf.c1645684c738079221468278446c3cd1.txt  \n",
            "  inflating: valid/labels/accidentFrame3415_jpg.rf.d937c019fa3de0cbc96db853c0c87874.txt  \n",
            "  inflating: valid/labels/accidentFrame3417_jpg.rf.31511db8ab862c01dfcebd50d0acc566.txt  \n",
            "  inflating: valid/labels/accidentFrame3418_jpg.rf.0a6ff54fe71ed5f3cc94268ffcb224d4.txt  \n",
            " extracting: valid/labels/accidentFrame3419_jpg.rf.888e2d844d75b78cc4e54c727e07033e.txt  \n",
            "  inflating: valid/labels/accidentFrame3949_jpg.rf.e1c85383802428b61092c6ceed87f90f.txt  \n",
            "  inflating: valid/labels/arkatqejjx0ulhxbbrsj_jpg.rf.03068f2338dbca18dddb03411f0eafd1.txt  \n",
            "  inflating: valid/labels/arkatqejjx0ulhxbbrsj_jpg.rf.dc9e0b7f31e97a6750ce648bcb95e175.txt  \n",
            "  inflating: valid/labels/buy2_jpg.rf.a8f4ad51971baab2fceab379ee60176b.txt  \n",
            "  inflating: valid/labels/buy2_jpg.rf.d0b2157e558a9106b9f5ad35f7a702d1.txt  \n",
            "  inflating: valid/labels/buy3_jpg.rf.098be31b62591e4a670e44ac1d4c24c9.txt  \n",
            "  inflating: valid/labels/buy4_jpg.rf.f12696a3802327d3d115707a4bfccb00.txt  \n",
            "  inflating: valid/labels/buy4_jpg.rf.f407e6396bd4cc57e5cbc4764d9f1276.txt  \n",
            " extracting: valid/labels/buy6_jpg.rf.598c20f4fb82a535abd1660649082018.txt  \n",
            " extracting: valid/labels/buy6_jpg.rf.652d97a5fa315eb531dee8f735669e29.txt  \n",
            " extracting: valid/labels/buy6_jpg.rf.a4d4d772cd1b365fb49987118b066db5.txt  \n",
            "  inflating: valid/labels/car_on_parked_cars_jpg.rf.0456a290ce440cd86b5865576bfeb2fa.txt  \n",
            "  inflating: valid/labels/car_on_parked_cars_jpg.rf.9ff49053ddd6175a0a15583939f68840.txt  \n",
            "  inflating: valid/labels/download-1-_jpg.rf.d8f5356407aa430b4545162ffbc218ea.txt  \n",
            "  inflating: valid/labels/download-10_jpg.rf.2524f66d8913aa0ea721250eefabc58e.txt  \n",
            "  inflating: valid/labels/download-10_jpg.rf.2a88a14fe6baf86bd4d575aa48733e9b.txt  \n",
            "  inflating: valid/labels/download-10_jpg.rf.7bb9bc815a8fa5679e3e44499ef11590.txt  \n",
            "  inflating: valid/labels/download-11-_jpg.rf.ba34dfda5386e2aba31ebf164387e918.txt  \n",
            " extracting: valid/labels/download-12_jpg.rf.7a1e14e3561a87c4198d1e316d047e6f.txt  \n",
            " extracting: valid/labels/download-12_jpg.rf.b0790c4a7f8940bd19035576fedadeec.txt  \n",
            " extracting: valid/labels/download-12_jpg.rf.b6f37487f2da411ade299bbf959a4dab.txt  \n",
            " extracting: valid/labels/download-12_jpg.rf.b939b6fb80605757828bb54bbaabf647.txt  \n",
            "  inflating: valid/labels/download-13-_jpg.rf.a81dde829e1ef08023b3f998e1d71829.txt  \n",
            "  inflating: valid/labels/download-1_jpg.rf.131fd0e2deb462172b8fa81a57ee514d.txt  \n",
            "  inflating: valid/labels/download-1_jpg.rf.2e46a99b98eef4820c6493034697b377.txt  \n",
            "  inflating: valid/labels/download-1_jpg.rf.32e2ec9ed90b3bbc599dc360d3c16792.txt  \n",
            "  inflating: valid/labels/download-1_jpg.rf.6b04bfa9395b3b2065fe96df694807ca.txt  \n",
            "  inflating: valid/labels/download-1_jpg.rf.6e8a201b0eb936c37a479ef2c5e60674.txt  \n",
            "  inflating: valid/labels/download-1_jpg.rf.c2fad22b43d6094509e3b9fe5d834b89.txt  \n",
            "  inflating: valid/labels/download-1_jpg.rf.dd6142e665b7d6c6b245e30b1f0f3dba.txt  \n",
            "  inflating: valid/labels/download-1_jpg.rf.f1f532c818f008bd4a46ef3015337326.txt  \n",
            "  inflating: valid/labels/download-2_jpg.rf.0af3d064337a04d4bdf1ce26d933157a.txt  \n",
            "  inflating: valid/labels/download-2_jpg.rf.534589444dd16858d33f8836fe9800bc.txt  \n",
            "  inflating: valid/labels/download-2_jpg.rf.55ae5e918de00aa6c84f91174df128b5.txt  \n",
            "  inflating: valid/labels/download-2_jpg.rf.7c54f6812359703bcdf699b58504e737.txt  \n",
            "  inflating: valid/labels/download-2_jpg.rf.7ecc9619a8e93fb14c68061df0168672.txt  \n",
            "  inflating: valid/labels/download-2_jpg.rf.a9b5978e4ef15825b0b18740b39d5271.txt  \n",
            "  inflating: valid/labels/download-2_jpg.rf.eeaa70d98abb2bf517bf10d22af7d9ab.txt  \n",
            " extracting: valid/labels/download-3_jpg.rf.07d703e490f788478a9e6bc02f0e75bb.txt  \n",
            "  inflating: valid/labels/download-3_jpg.rf.33a5eed59b2bc86cf532291c5cb20fc5.txt  \n",
            "  inflating: valid/labels/download-3_jpg.rf.476c68cc8354067e28c6eee99ad6bd52.txt  \n",
            " extracting: valid/labels/download-3_jpg.rf.538101ffd5ac3722a3499a5326788931.txt  \n",
            "  inflating: valid/labels/download-3_jpg.rf.890de94b11b6afcb44ba98a9b96c5037.txt  \n",
            "  inflating: valid/labels/download-3_jpg.rf.be0955e40226d62b68fc8ce35b649a46.txt  \n",
            " extracting: valid/labels/download-3_jpg.rf.be7f2eeea8d6d7f25f46a5dd53ca0733.txt  \n",
            "  inflating: valid/labels/download-3_jpg.rf.e4d9c8c440a96d86e46f306b418a6190.txt  \n",
            "  inflating: valid/labels/download-4_jpg.rf.0274e903ca7c7bc665d167231196fafb.txt  \n",
            "  inflating: valid/labels/download-4_jpg.rf.14e2ab160ae1ae11f6a3e143be2b5ba3.txt  \n",
            "  inflating: valid/labels/download-4_jpg.rf.377d424f446547bd94b59e59ef008cbb.txt  \n",
            "  inflating: valid/labels/download-4_jpg.rf.47a7b71e90c79f4747c46f1f243d74de.txt  \n",
            "  inflating: valid/labels/download-4_jpg.rf.b9b9a5844cf5634f3441958c299b0280.txt  \n",
            " extracting: valid/labels/download-5_jpg.rf.10d2f64a797fe4c398da875d92bcf580.txt  \n",
            " extracting: valid/labels/download-5_jpg.rf.6ab341bbefc228b47aa1b6e864a7d8b5.txt  \n",
            "  inflating: valid/labels/download-5_jpg.rf.b02f77490167585ab341e0514b730ecb.txt  \n",
            " extracting: valid/labels/download-5_jpg.rf.fda5ffdd879fe371aa16befb1f0ba229.txt  \n",
            "  inflating: valid/labels/download-6-_jpg.rf.d380bf2b902ff0f3b9c74fb041ee147f.txt  \n",
            "  inflating: valid/labels/download-6_jpg.rf.12d78d935f83c5b0974fc947d12407bc.txt  \n",
            "  inflating: valid/labels/download-6_jpg.rf.3daa2d47874d6b1d9403adaccdb61128.txt  \n",
            "  inflating: valid/labels/download-7_jpg.rf.a50cb642c32a9815cf8cf804681fe9e3.txt  \n",
            " extracting: valid/labels/download-7_jpg.rf.c1bb6e6707e8d803a873a497b767508b.txt  \n",
            "  inflating: valid/labels/download-8-_jpg.rf.240f50b647fba1f246fa7dc214475df7.txt  \n",
            "  inflating: valid/labels/download-8_jpg.rf.dd56a0c38713080b787b7d67d9ca3176.txt  \n",
            "  inflating: valid/labels/download-9_jpg.rf.513819b7242d5d929d12884bb5de9d92.txt  \n",
            "  inflating: valid/labels/download-9_jpg.rf.6df21b415c397880ae74b49e5dd3d092.txt  \n",
            "  inflating: valid/labels/download-9_jpg.rf.7824b2fb13426ec13d855fc20892ea9d.txt  \n",
            "  inflating: valid/labels/download-9_jpg.rf.7f2c94201cb53396d9b769bc91da495d.txt  \n",
            "  inflating: valid/labels/download-9_jpg.rf.a9c8fb395852b40329d326fbc8bf1d7f.txt  \n",
            "  inflating: valid/labels/download_jpg.rf.1322d18fc3d1ff39a185a0859852be6a.txt  \n",
            "  inflating: valid/labels/download_jpg.rf.1b2321da2502a926bc4baa33e53ee303.txt  \n",
            "  inflating: valid/labels/download_jpg.rf.1e96b52834df61ec1aef75f77ec896ec.txt  \n",
            "  inflating: valid/labels/download_jpg.rf.2042b8781778c0f7ca3300825f5c513d.txt  \n",
            "  inflating: valid/labels/download_jpg.rf.554e517a2ab2cb5960ca6e0bc07ab0f7.txt  \n",
            "  inflating: valid/labels/download_jpg.rf.5ed3133b0a4de05f7cd60314c8abc070.txt  \n",
            "  inflating: valid/labels/download_jpg.rf.7b10a761b28d28fd1403caf6cac65cb1.txt  \n",
            " extracting: valid/labels/download_jpg.rf.849bdef00e816b8da7fd0902df262dd9.txt  \n",
            "  inflating: valid/labels/download_jpg.rf.a6cde77a8d5bd3142caeccb4ad22d3fa.txt  \n",
            " extracting: valid/labels/download_jpg.rf.ba63ce54f4b94720b2c28435a4929c7d.txt  \n",
            " extracting: valid/labels/download_jpg.rf.c1c79b54cab68cf4959514ae2a2af1e9.txt  \n",
            "  inflating: valid/labels/download_jpg.rf.eb43f186304dd882011c7fb4d8171368.txt  \n",
            "  inflating: valid/labels/download_jpg.rf.fa729b69dc644949d2c3cb4050cbb9af.txt  \n",
            " extracting: valid/labels/images-10_jpg.rf.460a5f906009c174553b6963b814b057.txt  \n",
            "  inflating: valid/labels/images-10_jpg.rf.73a04cdc61155581e81d202f0095cf32.txt  \n",
            "  inflating: valid/labels/images-10_jpg.rf.a47b7426b85c91b73e2279323e50e182.txt  \n",
            "  inflating: valid/labels/images-11_jpg.rf.19bbc456223bf1a01e8d4b1b2600c179.txt  \n",
            "  inflating: valid/labels/images-11_jpg.rf.33df902b69647070604cbcbafa6187ee.txt  \n",
            "  inflating: valid/labels/images-11_jpg.rf.3de8225d5632726e2c873a78c5c954cb.txt  \n",
            "  inflating: valid/labels/images-11_jpg.rf.7dfca53b46cf98e16e0d3225415c8b5a.txt  \n",
            "  inflating: valid/labels/images-11_jpg.rf.e80a8062b683f635184c26066dcd3aaa.txt  \n",
            "  inflating: valid/labels/images-12_jpg.rf.3c9f0b767a55344aae18e2db5862d30d.txt  \n",
            " extracting: valid/labels/images-12_jpg.rf.3e260b42e455db3845a3c005265b8715.txt  \n",
            " extracting: valid/labels/images-12_jpg.rf.42039241e29d14fd077d4fab32c216c5.txt  \n",
            "  inflating: valid/labels/images-12_jpg.rf.42cb55aab6ee733dd2e2098cf3c25b71.txt  \n",
            "  inflating: valid/labels/images-12_jpg.rf.726874a6f5bcffb94190d28d0f03d189.txt  \n",
            "  inflating: valid/labels/images-12_jpg.rf.789e0d9e9544b6e62602f9b6bd077bf6.txt  \n",
            "  inflating: valid/labels/images-12_jpg.rf.7b5bd36f8be875a83bffabbe9b3aee97.txt  \n",
            "  inflating: valid/labels/images-12_jpg.rf.93289b6a4d88ac5c873d61c7764bdf2e.txt  \n",
            " extracting: valid/labels/images-12_jpg.rf.e941977f2f3494d86475cd62e62c0c69.txt  \n",
            " extracting: valid/labels/images-12_jpg.rf.f1547406e850d3ffe15fe4b94b00411c.txt  \n",
            "  inflating: valid/labels/images-12_jpg.rf.fc0b6e05fea0ef6b462f75d0baf3dcf8.txt  \n",
            " extracting: valid/labels/images-12_jpg.rf.fc6a53863c0f13d3c0f7c503612e76c8.txt  \n",
            "  inflating: valid/labels/images-13_jpg.rf.185ccbf3ee452d5797f42b775f737f22.txt  \n",
            "  inflating: valid/labels/images-13_jpg.rf.2358a2e852a7fb55d98335b52073ffe8.txt  \n",
            "  inflating: valid/labels/images-13_jpg.rf.24c5acae2ea817d735812518547a32ff.txt  \n",
            "  inflating: valid/labels/images-13_jpg.rf.2a0f50f71d7753e642d6b49a55dadda3.txt  \n",
            "  inflating: valid/labels/images-13_jpg.rf.654bab9715c4e55fde57e77cd41a5ad6.txt  \n",
            "  inflating: valid/labels/images-13_jpg.rf.6d0a4b17c4cba81d96348622b79a5929.txt  \n",
            "  inflating: valid/labels/images-13_jpg.rf.cc54e2784f89e2bee470c16a00aa65fe.txt  \n",
            "  inflating: valid/labels/images-14_jpg.rf.65b2d860fa7fc3a7a459f65a77dad8ad.txt  \n",
            "  inflating: valid/labels/images-14_jpg.rf.95f0dcae86b2c5923d3d650f7ef57179.txt  \n",
            "  inflating: valid/labels/images-14_jpg.rf.ef775c2599fc1a033c7ed9820b8955c4.txt  \n",
            "  inflating: valid/labels/images-15_jpg.rf.0bd77cd4eec7c55fad10721b9f4ed27a.txt  \n",
            "  inflating: valid/labels/images-15_jpg.rf.266c832d567fe06f9d3965ef92537db5.txt  \n",
            "  inflating: valid/labels/images-15_jpg.rf.420f4bb6dbd2da6eaa08eec5f324020e.txt  \n",
            "  inflating: valid/labels/images-15_jpg.rf.703b3e9a1df78bbba0a33cb464dd6bc8.txt  \n",
            " extracting: valid/labels/images-15_jpg.rf.fba167402465721b3727a0ca28e3b5ba.txt  \n",
            " extracting: valid/labels/images-16_jpg.rf.3d78835b79b207e3caf30c36dfb49ccf.txt  \n",
            "  inflating: valid/labels/images-16_jpg.rf.3ecaff00faeafc548c9e11be29ff703c.txt  \n",
            "  inflating: valid/labels/images-16_jpg.rf.cb5dcd99f3d53ccdea22ea8228881b20.txt  \n",
            " extracting: valid/labels/images-16_jpg.rf.e450ba049b1d3426234b4ec01dbe91be.txt  \n",
            "  inflating: valid/labels/images-17_jpg.rf.01ee42a73b27fafd62089d82ca1b5e9a.txt  \n",
            "  inflating: valid/labels/images-17_jpg.rf.0b6f3752bcde52a92e89120f75e96452.txt  \n",
            " extracting: valid/labels/images-17_jpg.rf.1e8abeda3c1a7394c311df7dd4455aeb.txt  \n",
            "  inflating: valid/labels/images-17_jpg.rf.8177e986a07e2f8fae89667d9d8cbf0a.txt  \n",
            "  inflating: valid/labels/images-17_jpg.rf.dcf18db86ad9c80707b070c34167dae4.txt  \n",
            "  inflating: valid/labels/images-18_jpg.rf.f1a9d3573af8fad11d7236c844541223.txt  \n",
            "  inflating: valid/labels/images-19_jpg.rf.1493f7da49a6671b2af4064e0dc6e37d.txt  \n",
            "  inflating: valid/labels/images-19_jpg.rf.8bd32ba6459d792702844b4cd8ee0919.txt  \n",
            "  inflating: valid/labels/images-19_jpg.rf.dbe674e1fd2517c3b9461056f0634f84.txt  \n",
            "  inflating: valid/labels/images-19_jpg.rf.dfb3cc42970d8bbcd9bddebb45559732.txt  \n",
            "  inflating: valid/labels/images-19_jpg.rf.f472185f8fc804079dcb360a5ac95358.txt  \n",
            "  inflating: valid/labels/images-1_jpg.rf.069e54c7ff2a32b153f84c5158032f1d.txt  \n",
            "  inflating: valid/labels/images-1_jpg.rf.1272abe49d53c04d5104f70f832fcc60.txt  \n",
            "  inflating: valid/labels/images-1_jpg.rf.4761cc8a07d52235a44195be826c7a9a.txt  \n",
            "  inflating: valid/labels/images-1_jpg.rf.5f4a675b0e06823689b286c15d824699.txt  \n",
            "  inflating: valid/labels/images-1_jpg.rf.89a09b72caca9eee8a66a11b6754a82a.txt  \n",
            "  inflating: valid/labels/images-1_jpg.rf.8ccdf083417809ab82930f5d41e99810.txt  \n",
            "  inflating: valid/labels/images-1_jpg.rf.aca025677e130b9c8596aa3cab3ca204.txt  \n",
            "  inflating: valid/labels/images-1_jpg.rf.b37cabb8b838f88777964ee591216598.txt  \n",
            "  inflating: valid/labels/images-1_jpg.rf.d13ae295ce83f0ee286f5de5c034f66f.txt  \n",
            "  inflating: valid/labels/images-1_jpg.rf.e3eb14e44c87cfed532eda03687dffc7.txt  \n",
            "  inflating: valid/labels/images-1_jpg.rf.f4a148fe574a9950200537fe63f7f942.txt  \n",
            "  inflating: valid/labels/images-2020-08-13T213919-517_jpg.rf.7ecc681f4b694131c894bfe2e568a985.txt  \n",
            "  inflating: valid/labels/images-2020-08-13T213919-517_jpg.rf.8a8472a9b75c7906ee6814f6af69148b.txt  \n",
            "  inflating: valid/labels/images-2020-08-13T213919-517_jpg.rf.b8c1c7e74eb27fae4f73aa32abbc0eb2.txt  \n",
            "  inflating: valid/labels/images-2020-08-13T213922-238_jpg.rf.2facc9331510341f9946c4584a8eafee.txt  \n",
            " extracting: valid/labels/images-2020-08-13T213923-287_jpg.rf.0fa082c2174eec1b3daa44cfafd91c1f.txt  \n",
            "  inflating: valid/labels/images-2020-08-13T214339-354_jpg.rf.53c1c21cd03d329275184635f5a4b4f5.txt  \n",
            "  inflating: valid/labels/images-2020-08-13T214339-354_jpg.rf.9c6c305f6fb7ce4850f24db91ad971cd.txt  \n",
            "  inflating: valid/labels/images-20_jpg.rf.47bd56dbca935021545dc36059f80978.txt  \n",
            "  inflating: valid/labels/images-20_jpg.rf.4e59a5e2188c1a54f8e2b93a2be7e391.txt  \n",
            "  inflating: valid/labels/images-20_jpg.rf.d414a1d16b43b3d2a45d032ce8323521.txt  \n",
            "  inflating: valid/labels/images-20_jpg.rf.f5e13ef147e9bf076d3316f22efe2828.txt  \n",
            " extracting: valid/labels/images-21_jpg.rf.08241499b40b7d0eeec1ee3c0f0458f6.txt  \n",
            " extracting: valid/labels/images-21_jpg.rf.2f9c563f574911b612d07d729a4d5815.txt  \n",
            " extracting: valid/labels/images-21_jpg.rf.ba097ca0045a9a2a0ec7807d38fbb130.txt  \n",
            " extracting: valid/labels/images-21_jpg.rf.cf2bbbd072157b8f5414ab777af64a7d.txt  \n",
            "  inflating: valid/labels/images-22_jpg.rf.966f5e560465a7adc162e989149516ff.txt  \n",
            "  inflating: valid/labels/images-22_jpg.rf.ab29b1a569394a581c550e3dc4d55145.txt  \n",
            "  inflating: valid/labels/images-22_jpg.rf.e82b711f2c228f527f648a5c5c8690f9.txt  \n",
            "  inflating: valid/labels/images-23_jpg.rf.340c2a3d0f9005191d4e954d8f6a3705.txt  \n",
            "  inflating: valid/labels/images-23_jpg.rf.5f186c3e1ccac86bb2eac4c926478171.txt  \n",
            "  inflating: valid/labels/images-23_jpg.rf.68e5042cbe0d6acc4e1c8be5da3760d0.txt  \n",
            "  inflating: valid/labels/images-23_jpg.rf.9a2fae84d4a8d466ed73e9972e0fe237.txt  \n",
            "  inflating: valid/labels/images-23_jpg.rf.fb0f72235df5e0721fb5a2739efc56cf.txt  \n",
            "  inflating: valid/labels/images-24_jpg.rf.317ecd56c67cec144bab6a4bfa5b492c.txt  \n",
            "  inflating: valid/labels/images-24_jpg.rf.65a4c15819b45d9ef080d3a0a6abd390.txt  \n",
            "  inflating: valid/labels/images-24_jpg.rf.7bbdb96135cd192e4a2113c8c0b41356.txt  \n",
            "  inflating: valid/labels/images-24_jpg.rf.816cba22cea021375b56c3c8e04b31c3.txt  \n",
            "  inflating: valid/labels/images-25_jpg.rf.504a0b36db2f560ae2729893f2eaa258.txt  \n",
            "  inflating: valid/labels/images-25_jpg.rf.5c36afd55e8c6a168be538ac5dee91d4.txt  \n",
            "  inflating: valid/labels/images-25_jpg.rf.d89244ef6d509a8a68218899832f83aa.txt  \n",
            "  inflating: valid/labels/images-26_jpg.rf.04cda4e2bd31b19322e37f4e651cb5d7.txt  \n",
            "  inflating: valid/labels/images-26_jpg.rf.7960d6d192c063444d1c8c348eff2834.txt  \n",
            "  inflating: valid/labels/images-26_jpg.rf.a517af9c7f7c7716c9c190e6060d44b1.txt  \n",
            "  inflating: valid/labels/images-27_jpg.rf.00befe9f3e841a050436bd9c37053167.txt  \n",
            "  inflating: valid/labels/images-27_jpg.rf.07dd8c2a413bc34fb8766d88a6d4b29f.txt  \n",
            " extracting: valid/labels/images-27_jpg.rf.2b4a4b253d2bc78c925b9a03859ab92e.txt  \n",
            " extracting: valid/labels/images-27_jpg.rf.5f28520bb8f38ec8fdc926e5e5610bec.txt  \n",
            "  inflating: valid/labels/images-27_jpg.rf.67e2567899e53b3990a88aa7c3466d0c.txt  \n",
            " extracting: valid/labels/images-27_jpg.rf.6a3a33dd902b247cee6451d287f4afa3.txt  \n",
            "  inflating: valid/labels/images-27_jpg.rf.c810f5136038ba7188a3f19d98445cf1.txt  \n",
            "  inflating: valid/labels/images-28_jpg.rf.6620b11292db7679ad8a7e1e8bd7311c.txt  \n",
            "  inflating: valid/labels/images-28_jpg.rf.b23b3051d4fe9e5924b8432bd1b16691.txt  \n",
            "  inflating: valid/labels/images-29_jpg.rf.74f62354608c8391d3d42feef00770b2.txt  \n",
            "  inflating: valid/labels/images-29_jpg.rf.8cb7012d88268b117196b17fcf7935ba.txt  \n",
            "  inflating: valid/labels/images-29_jpg.rf.943532ee1e10bda6604b62e4327c195a.txt  \n",
            "  inflating: valid/labels/images-29_jpg.rf.a552530cc3fc9c195503385ef60efa4f.txt  \n",
            "  inflating: valid/labels/images-2_jpg.rf.1fff8966e6be3fd6fa11e78523d7bbff.txt  \n",
            "  inflating: valid/labels/images-2_jpg.rf.2ea01ebd5a8bfe3c89e4cb25cd199df5.txt  \n",
            "  inflating: valid/labels/images-2_jpg.rf.300d5e6fa5ad9623c5ea6c9ab3945329.txt  \n",
            "  inflating: valid/labels/images-2_jpg.rf.3bb9edb37ed3d4f6eef679230ce163fb.txt  \n",
            " extracting: valid/labels/images-2_jpg.rf.47f3bcf559fd1399735e4f66b05ad91e.txt  \n",
            "  inflating: valid/labels/images-2_jpg.rf.57f9348327d821e8fc4c8eab80688fb7.txt  \n",
            "  inflating: valid/labels/images-2_jpg.rf.5d050faece6f1d6babd407fa12637e5b.txt  \n",
            "  inflating: valid/labels/images-2_jpg.rf.5f10f2b5b6558fba626ca1c86d9b7c02.txt  \n",
            "  inflating: valid/labels/images-2_jpg.rf.7918e37a0c9dcf06d68306496d26effa.txt  \n",
            "  inflating: valid/labels/images-2_jpg.rf.7d7fbb5974a29a8219f419b143f3efa6.txt  \n",
            "  inflating: valid/labels/images-2_jpg.rf.7e699937713b35f74602c6334f8a31f3.txt  \n",
            "  inflating: valid/labels/images-2_jpg.rf.7fd9febd46b05b5a636c8831d71f430a.txt  \n",
            "  inflating: valid/labels/images-2_jpg.rf.80bfb5e1ea39095cc89a36cbae3dc679.txt  \n",
            "  inflating: valid/labels/images-2_jpg.rf.8380ce01d91af6066dbc44fb1f630a5e.txt  \n",
            " extracting: valid/labels/images-2_jpg.rf.8d6511640f4a2b29adf8160621e9d720.txt  \n",
            "  inflating: valid/labels/images-2_jpg.rf.905d8e18ff72a15e4f49fc8d555185b2.txt  \n",
            "  inflating: valid/labels/images-2_jpg.rf.a74f97b2ce00159456077d602fcfe1ea.txt  \n",
            "  inflating: valid/labels/images-2_jpg.rf.b89a3f52ef94ff1007477278b31d2fa9.txt  \n",
            "  inflating: valid/labels/images-2_jpg.rf.ec86cc0467e07a4429250c9e4bd72fcf.txt  \n",
            "  inflating: valid/labels/images-30_jpg.rf.4b1d2ffee169fbb98016a6b5fc251b93.txt  \n",
            "  inflating: valid/labels/images-30_jpg.rf.c9fb51f54a2a886a2502f72821ee2215.txt  \n",
            "  inflating: valid/labels/images-31_jpg.rf.4885952d6bf0b5d3ef1b035e44d18f7b.txt  \n",
            "  inflating: valid/labels/images-31_jpg.rf.d2ad997da2a3e9546d3c629b8840dd69.txt  \n",
            "  inflating: valid/labels/images-32_jpg.rf.2bd228f061c2b20fc387452df509b27a.txt  \n",
            " extracting: valid/labels/images-33_jpg.rf.5e0c49921b9108d813a59b90b7a64c5e.txt  \n",
            "  inflating: valid/labels/images-34_jpg.rf.7ae7feff261e31bbc441193ff9393cde.txt  \n",
            "  inflating: valid/labels/images-38_jpg.rf.f92551080fdae086fcfff04137cb0889.txt  \n",
            "  inflating: valid/labels/images-3_jpg.rf.14d921f368ae425b0dcedf7a18d2b32c.txt  \n",
            "  inflating: valid/labels/images-3_jpg.rf.51817bbddeca0f301c989736e32feb2d.txt  \n",
            " extracting: valid/labels/images-3_jpg.rf.5ed054eea3b5b19e63d62aa89b5b09a2.txt  \n",
            "  inflating: valid/labels/images-3_jpg.rf.68b6c6a87c6e767214644514e3165c59.txt  \n",
            "  inflating: valid/labels/images-3_jpg.rf.8221cf205e10aac113dc05b84fcd9fdb.txt  \n",
            "  inflating: valid/labels/images-3_jpg.rf.9ec95c9f23b34d506b4655660242834d.txt  \n",
            "  inflating: valid/labels/images-3_jpg.rf.9f5c6ea2b4e56dd46e34cb4e6c425c57.txt  \n",
            "  inflating: valid/labels/images-3_jpg.rf.a553a3477ea878f9cb784287a3a59602.txt  \n",
            "  inflating: valid/labels/images-3_jpg.rf.b38365351de692b7542a49b9d4475242.txt  \n",
            "  inflating: valid/labels/images-40_jpg.rf.f2c734a6a35f779ccbe35028eda1e30f.txt  \n",
            "  inflating: valid/labels/images-41_jpg.rf.18853ba5ca655510631abc0364345811.txt  \n",
            "  inflating: valid/labels/images-42_jpg.rf.4e58a682bfaf3279ca1411a58109fbfe.txt  \n",
            "  inflating: valid/labels/images-42_jpg.rf.72a412fa61d4cb103358c0ab08897097.txt  \n",
            "  inflating: valid/labels/images-4_jpg.rf.0ee53f2af5d395840c9d6deea4c3e68c.txt  \n",
            "  inflating: valid/labels/images-4_jpg.rf.0f469c6f4cc584093e43718fbbbcc8ca.txt  \n",
            "  inflating: valid/labels/images-4_jpg.rf.653a3076875868abc5fd33a1d956aaee.txt  \n",
            "  inflating: valid/labels/images-4_jpg.rf.83437f0dd167d3dc0e693e22f6e42b25.txt  \n",
            "  inflating: valid/labels/images-4_jpg.rf.93a6ba682bb17e8d2399df88e23d2ce0.txt  \n",
            "  inflating: valid/labels/images-4_jpg.rf.bf58b9c69ca3e7bd6d25a147e4f9d809.txt  \n",
            "  inflating: valid/labels/images-5_jpg.rf.01a310dd8f745f8ef54fb09086d1ae74.txt  \n",
            "  inflating: valid/labels/images-5_jpg.rf.47b592e544a3a9401a3a4e3fd5927c25.txt  \n",
            "  inflating: valid/labels/images-5_jpg.rf.6bc323b43658e891e56d850530295e92.txt  \n",
            "  inflating: valid/labels/images-5_jpg.rf.764f123caa516be666383dd67579c22c.txt  \n",
            "  inflating: valid/labels/images-5_jpg.rf.81b0ccfd47915406b8bfa93fb8270f58.txt  \n",
            "  inflating: valid/labels/images-5_jpg.rf.9b3cb05f0865428430ab610d9ad6648e.txt  \n",
            "  inflating: valid/labels/images-5_jpg.rf.adc5eb3df3d2e0c951f31989d924cb21.txt  \n",
            "  inflating: valid/labels/images-5_jpg.rf.b15d33f63f3b75a371490aa0844c7175.txt  \n",
            "  inflating: valid/labels/images-5_jpg.rf.d0436aa4608c9659dac530daba4884c8.txt  \n",
            "  inflating: valid/labels/images-5_jpg.rf.d82e1f9b118df4ff44dc559687ab7406.txt  \n",
            "  inflating: valid/labels/images-5_jpg.rf.fb96ec4cc545be172b672c4fed6a40d0.txt  \n",
            "  inflating: valid/labels/images-6_jpg.rf.07356483226b980df6ef0323d4a7d952.txt  \n",
            "  inflating: valid/labels/images-6_jpg.rf.2bb92ee86b818f3bd85dab7af32e5fe7.txt  \n",
            " extracting: valid/labels/images-6_jpg.rf.44ac5ec7ac492eb3a4228854d968ca3c.txt  \n",
            "  inflating: valid/labels/images-6_jpg.rf.5f0327ad8a4f5d134bc8e4237e395103.txt  \n",
            " extracting: valid/labels/images-6_jpg.rf.7776078702d8d5d9837bb99f15cfaca8.txt  \n",
            "  inflating: valid/labels/images-6_jpg.rf.7e1b355829b51ea9201b3617681ba677.txt  \n",
            " extracting: valid/labels/images-6_jpg.rf.8aa2155fed3e6f12bb8d0217be3fdf64.txt  \n",
            "  inflating: valid/labels/images-6_jpg.rf.8f3f5f02ed88d6d23a729ae2be5b08ab.txt  \n",
            "  inflating: valid/labels/images-7_jpg.rf.0683c608f1bed235418ae1cc76a1fcc7.txt  \n",
            "  inflating: valid/labels/images-7_jpg.rf.2ef421b0e8e4f34866ed448a48fcaf7a.txt  \n",
            "  inflating: valid/labels/images-7_jpg.rf.5d0a9f96b3bfa90116b303fe068adc5f.txt  \n",
            "  inflating: valid/labels/images-7_jpg.rf.d2e3082e78c4f8f613f8115db2675432.txt  \n",
            "  inflating: valid/labels/images-8_jpg.rf.13f9006dac2097d92fbba3e872787b3e.txt  \n",
            " extracting: valid/labels/images-8_jpg.rf.1833cdc5fde6ec43d541130c4e7b81bb.txt  \n",
            "  inflating: valid/labels/images-8_jpg.rf.7b99a90b164bdfed9a8e1778dee0bffc.txt  \n",
            "  inflating: valid/labels/images-8_jpg.rf.7f26851ff8b4e2de1aee96d18a9dba22.txt  \n",
            "  inflating: valid/labels/images-8_jpg.rf.83827c192cfdca3524f33e886ab6a5a2.txt  \n",
            "  inflating: valid/labels/images-8_jpg.rf.a13cbc7d95d551838ef3e7aef9102b94.txt  \n",
            "  inflating: valid/labels/images-8_jpg.rf.a79fcd5ece6fd60fc67832ff680d4b31.txt  \n",
            "  inflating: valid/labels/images-8_jpg.rf.b09b3e64d558f74a2643d3ec97388cde.txt  \n",
            "  inflating: valid/labels/images-8_jpg.rf.ce784e5ab187809f61c60ed202bbad76.txt  \n",
            "  inflating: valid/labels/images-9_jpg.rf.0b67663c2c7bdd6e6fb8c12d68d3c5d7.txt  \n",
            "  inflating: valid/labels/images-9_jpg.rf.1262e4850b90937949aa5552a4339c50.txt  \n",
            "  inflating: valid/labels/images-9_jpg.rf.13531ad9942bf417978ca3bfdcf2a695.txt  \n",
            "  inflating: valid/labels/images-9_jpg.rf.30dd59084bd93f06c7b1b3e7eceb1177.txt  \n",
            "  inflating: valid/labels/images-9_jpg.rf.4159a1688845f640f6e176f01e69f1d8.txt  \n",
            "  inflating: valid/labels/images-9_jpg.rf.45f20694e087f699e33141bce6e61b98.txt  \n",
            "  inflating: valid/labels/images-9_jpg.rf.462115d7a6eed7d879bd99ae32c706c4.txt  \n",
            "  inflating: valid/labels/images-9_jpg.rf.868340dd8d6d2234ceb1626c5070b39a.txt  \n",
            "  inflating: valid/labels/images_002_jpg.rf.0c89c4c685d670089efeb2352ae7d0e2.txt  \n",
            "  inflating: valid/labels/images_002_jpg.rf.91f3bd7fac5b3ca1948add50b2dc41e6.txt  \n",
            "  inflating: valid/labels/images_002_jpg.rf.fc59bfe8e70f4957cecb24fcafc16588.txt  \n",
            "  inflating: valid/labels/images_006_jpg.rf.431abe5e64783fac9815d6bc16181ec2.txt  \n",
            "  inflating: valid/labels/images_006_jpg.rf.5ce6c297137b349f942c9fd4c7177319.txt  \n",
            " extracting: valid/labels/images_jpg.rf.06795d426bebcc65cf57cc793f8c63e3.txt  \n",
            "  inflating: valid/labels/images_jpg.rf.15e921c8f991217b1a2007f5296b15c0.txt  \n",
            "  inflating: valid/labels/images_jpg.rf.1b14c2fdffcd73e7ee718640722186a4.txt  \n",
            "  inflating: valid/labels/images_jpg.rf.22dfb9855eec258144ed3d5780038292.txt  \n",
            "  inflating: valid/labels/images_jpg.rf.2a1da5e7c5c20b024d16136a1c3b0d5b.txt  \n",
            "  inflating: valid/labels/images_jpg.rf.2aa7f35f4b392b34c1ec62e9e7b470d6.txt  \n",
            "  inflating: valid/labels/images_jpg.rf.3a8e0eca702e91b1865166195fda75dd.txt  \n",
            "  inflating: valid/labels/images_jpg.rf.4699a34ed4582b509915fbc486e3c76a.txt  \n",
            " extracting: valid/labels/images_jpg.rf.6210a368cdb242291d9d11633397a4d5.txt  \n",
            "  inflating: valid/labels/images_jpg.rf.63f5ec8fe576ed8323170d486354d61d.txt  \n",
            "  inflating: valid/labels/images_jpg.rf.6d451a311be4f1382417592cf7ba9172.txt  \n",
            "  inflating: valid/labels/images_jpg.rf.741056e8a374daee5afa236e6cfb4837.txt  \n",
            "  inflating: valid/labels/images_jpg.rf.759efcc2ea36d46fb23ab7f57c90f22d.txt  \n",
            "  inflating: valid/labels/images_jpg.rf.773bb7d2c615b818bb94eff0e1f5eaba.txt  \n",
            "  inflating: valid/labels/images_jpg.rf.7f39a87251a461e1e055197b36acf4c4.txt  \n",
            "  inflating: valid/labels/images_jpg.rf.8b4fafa1bc8c1a78dcc83956ddbccb4e.txt  \n",
            "  inflating: valid/labels/images_jpg.rf.9f0c4abc375425503b7b5b36c07f322c.txt  \n",
            "  inflating: valid/labels/images_jpg.rf.b467f41525762fe058fcd883db754cfd.txt  \n",
            "  inflating: valid/labels/images_jpg.rf.bc7d786e2f3d3d2fca9802dc7f30e82f.txt  \n",
            " extracting: valid/labels/images_jpg.rf.c5dbe0b123992217e53bcb0203b1f895.txt  \n",
            "  inflating: valid/labels/images_jpg.rf.d72270c1ef2790f08f81a093cf7d78da.txt  \n",
            " extracting: valid/labels/images_jpg.rf.e644e382a8581e3916015584389cade1.txt  \n",
            " extracting: valid/labels/images_jpg.rf.f2bfd023a2049bd65d7a6ac4b227a81e.txt  \n",
            "  inflating: valid/labels/images_jpg.rf.f6a7ab5403e52d63bd96fd8a351eeca6.txt  \n",
            "  inflating: valid/labels/istockphoto-451333971-612x612_jpg.rf.5b3a5692143d945d700c70824dfcb4c3.txt  \n",
            "  inflating: valid/labels/maxresdefaul11t_jpg.rf.84107aab68fc7d7e8c9a6fe87acc83b9.txt  \n",
            "  inflating: valid/labels/new_SD3_jpg.rf.0f2b982b5a02bbd0f1e4ea9495624071.txt  \n",
            "  inflating: valid/labels/new_SD3_jpg.rf.b35ba8e0bfe6522b751b99053ce8dc02.txt  \n",
            "  inflating: valid/labels/new_SD4_jpg.rf.06e8266fcc93be3daff6994b40c42d51.txt  \n",
            "  inflating: valid/labels/new_SD4_jpg.rf.22ffb26dd077c3755d91b732f758e78c.txt  \n",
            "  inflating: valid/labels/new_SD4_jpg.rf.289db74d8232a0e4688f6d806139efeb.txt  \n",
            "  inflating: valid/labels/new_SD6_jpg.rf.328981a65516e39b73f1d47044b22225.txt  \n",
            "  inflating: valid/labels/new_SD6_jpg.rf.40fa944b06718a4f82831a5f2d973c95.txt  \n",
            "  inflating: valid/labels/new_SD6_jpg.rf.d74d7944f543c3879eae83186c119038.txt  \n",
            "  inflating: valid/labels/screen_images10_png_jpg.rf.2151ae2c3198797c83af5736a2aaf7ea.txt  \n",
            "  inflating: valid/labels/screen_images2_png_jpg.rf.1639ad35c169fe091c39aacec39a0291.txt  \n",
            "  inflating: valid/labels/screen_images2_png_jpg.rf.62ce45a34b29297b7ab7c24b6a6e817e.txt  \n",
            "  inflating: valid/labels/screen_images3_png_jpg.rf.9a25491bba373900afe3eba5e185313d.txt  \n",
            "  inflating: valid/labels/screen_images3_png_jpg.rf.a216525c4c2b2b8234a131366cce88cd.txt  \n",
            "  inflating: valid/labels/screen_images4_png_jpg.rf.76010f9db4540390b5714a107dc05829.txt  \n",
            "  inflating: valid/labels/screen_images5_png_jpg.rf.33f97c2c0ef4c584b4c7c0d4752f3b4d.txt  \n",
            "  inflating: valid/labels/screen_images6_png_jpg.rf.100d4b4112942b82bbd1e1f21da73e9d.txt  \n",
            "  inflating: valid/labels/screen_images6_png_jpg.rf.8c3380d14950de3623bb16993457c5e8.txt  \n",
            "  inflating: valid/labels/screen_images8_png_jpg.rf.a51b731f10c59c4f63b46fbd1828c950.txt  \n",
            "  inflating: valid/labels/screen_images9_png_jpg.rf.06d1b95d2b58d3ebe2c288f7fd178118.txt  \n",
            "  inflating: valid/labels/sev10_jpg.rf.8eb889295da39109cec0b95110ebddff.txt  \n",
            "  inflating: valid/labels/sev11_jpg.rf.46ae9f017450aa2d42b194250b4a0c4d.txt  \n",
            "  inflating: valid/labels/sev2_jpg.rf.95c4d39015795f8054dfdf2ca2e25113.txt  \n",
            "  inflating: valid/labels/sev3_jpg.rf.4b418e52177cb8bb66cc023aab842d70.txt  \n",
            "  inflating: valid/labels/sev3_jpg.rf.f54bae1a153fb537b923d76184d2712f.txt  \n",
            "  inflating: valid/labels/sev4_jpg.rf.763b3b665b32cadfdf22e8bd7076d6f9.txt  \n",
            "  inflating: valid/labels/sev7_jpg.rf.013111daaae8b1535873b3b5fe029e0b.txt  \n",
            "  inflating: valid/labels/sev8_jpg.rf.1f2a8f8f78e10c59884b6cdecb6e18e5.txt  \n",
            "  inflating: valid/labels/sev9_jpg.rf.9d05303e63ac207ac10822f1da625005.txt  \n",
            "  inflating: valid/labels/sever11_jpg.rf.52ee275d55617b1e5b6b677602ea686e.txt  \n",
            "  inflating: valid/labels/sever2_jpg.rf.314c7bbfe36622a3e9d47e14348d0953.txt  \n",
            "  inflating: valid/labels/sever2_jpg.rf.c9b0aef5b276f540d1bc4479c0df0d10.txt  \n",
            "  inflating: valid/labels/sever6_jpg.rf.c1987c7f5d95e1460e45c21528351a83.txt  \n",
            "  inflating: valid/labels/sever8_jpg.rf.b462e2f84348aac0abab65a608a3a280.txt  \n",
            "  inflating: valid/labels/sever9_jpg.rf.98b3ffcb63511df9dc33efa7672b56a5.txt  \n",
            "  inflating: valid/labels/severV110_jpg.rf.6bad849c263baea976534757e318419d.txt  \n",
            "  inflating: valid/labels/severV110_jpg.rf.75ae27c8e98f08b904f05b7942a38700.txt  \n",
            "  inflating: valid/labels/severV110_jpg.rf.dd32bd39635ffc8827179d50879e1743.txt  \n",
            "  inflating: valid/labels/severV11_jpg.rf.20c2a9d91b81d77b60d408f77e1f688e.txt  \n",
            "  inflating: valid/labels/severV15_jpg.rf.4624281cb5df0f64c5a019f6be27943b.txt  \n",
            "  inflating: valid/labels/severV16_jpg.rf.74b3b2dcd890ce84696a27852ec67355.txt  \n",
            "  inflating: valid/labels/severV19_jpg.rf.8f1020e0cf3ba7901e48d73b1f9c2016.txt  \n",
            "  inflating: valid/labels/severe11_jpeg_jpg.rf.4dc3646dad21f83c38cbf1a96148ffc7.txt  \n",
            "  inflating: valid/labels/severe11_jpeg_jpg.rf.8966089386483fe92eb1107cc36409e5.txt  \n",
            "  inflating: valid/labels/severe11_jpeg_jpg.rf.c028baa78178e5a74f4f655f22795c75.txt  \n",
            "  inflating: valid/labels/severe12_jpeg_jpg.rf.45cbe21ee061a3641838ca22c12777c0.txt  \n",
            "  inflating: valid/labels/severe12_jpeg_jpg.rf.a1d8dd0d039f2d49f77c0d3480870bcc.txt  \n",
            "  inflating: valid/labels/severe12_jpeg_jpg.rf.bef8559c7e7ff56415c081359cee8491.txt  \n",
            "  inflating: valid/labels/severe13_jpeg_jpg.rf.afdaad5449d2d430b41f4467237a8730.txt  \n",
            "  inflating: valid/labels/severe13_jpeg_jpg.rf.d717460d52c0fa3d6212817b96e42623.txt  \n",
            "  inflating: valid/labels/severe13_jpeg_jpg.rf.fa733db5f61507619c4c96fef313d609.txt  \n",
            "  inflating: valid/labels/severe14_jpeg_jpg.rf.24efbe8da768c6595f255fc4d1d82cfc.txt  \n",
            "  inflating: valid/labels/severe14_jpeg_jpg.rf.b79ec008143107a1e5a9d49bc3ea0352.txt  \n",
            "  inflating: valid/labels/severe17_jpeg_jpg.rf.4ecae598d37c30389c5dd9522668d180.txt  \n",
            "  inflating: valid/labels/severe17_jpeg_jpg.rf.c18a5fd0f2ead0589e187a182d47702a.txt  \n",
            "  inflating: valid/labels/severityV2_10_jpg.rf.924206b3d405bf7f74e9cb2cb0de45bf.txt  \n",
            "  inflating: valid/labels/severityV2_11_jpg.rf.7bbf84f310d8f204878d37c67ff4754a.txt  \n",
            "  inflating: valid/labels/severityV2_11_jpg.rf.c36f7f58fa7d14bacd0e662d37b56ecf.txt  \n",
            "  inflating: valid/labels/severityV2_12_jpg.rf.b50225e7e45713033d92fd281b94237d.txt  \n",
            "  inflating: valid/labels/severityV2_13_jpg.rf.bbf96cdd7a8b69a5df59196537440c40.txt  \n",
            "  inflating: valid/labels/severityV2_13_jpg.rf.ee4bd2db3e3e301ae4e52a709f20b025.txt  \n",
            "  inflating: valid/labels/severityV2_14_jpg.rf.05b1cf0c525429cf6717c70d88987f47.txt  \n",
            "  inflating: valid/labels/severityV2_14_jpg.rf.2358737f7c9e28c65925c19412a7b60a.txt  \n",
            "  inflating: valid/labels/severityV2_15_jpg.rf.068b3a4c829c5780fcaa67527254dfdb.txt  \n",
            "  inflating: valid/labels/severityV2_16_jpg.rf.00721c940b46f9413aab1c753fc5bfb9.txt  \n",
            "  inflating: valid/labels/severityV2_16_jpg.rf.41c80c0fefde3b34547a695535f6e939.txt  \n",
            "  inflating: valid/labels/severityV2_17_jpg.rf.e2f30a91fc5baadf2ec4eeb28f08b32f.txt  \n",
            "  inflating: valid/labels/severityV2_18_jpg.rf.5d8f0d8f86dd2c02ee3e3689c331824b.txt  \n",
            "  inflating: valid/labels/severityV2_18_jpg.rf.637081b06d27f1362a7051a56bc705cd.txt  \n",
            "  inflating: valid/labels/severityV2_18_jpg.rf.678748e76db1baa7b078bca7a4a5ea81.txt  \n",
            "  inflating: valid/labels/severityV2_1_jpg.rf.b31eda98e3b2b80159731007be250546.txt  \n",
            "  inflating: valid/labels/severityV2_1_jpg.rf.e0acd81b9713e51145f31172e893a6c2.txt  \n",
            "  inflating: valid/labels/severityV2_20_jpg.rf.34d4058887bc5a3341245f2e02e56e75.txt  \n",
            "  inflating: valid/labels/severityV2_20_jpg.rf.8c6e49a025c6c47765980955c35e0fc4.txt  \n",
            "  inflating: valid/labels/severityV2_21_jpg.rf.c149560995178d5e39d1177dacbc9f63.txt  \n",
            "  inflating: valid/labels/severityV2_24_jpg.rf.2e6650a0d8e265b684ea9e7a62bd9d7b.txt  \n",
            "  inflating: valid/labels/severityV2_24_jpg.rf.408ccc1ee9565a37860cd87ee75ac4fc.txt  \n",
            "  inflating: valid/labels/severityV2_26_jpg.rf.9a0ae366d1e655c10f57571b3e52ef93.txt  \n",
            "  inflating: valid/labels/severityV2_29_jpg.rf.8267bc63fc93c16f6c69c34c2afff05c.txt  \n",
            "  inflating: valid/labels/severityV2_29_jpg.rf.ae19a4704a193ab59cd82679f0cb166e.txt  \n",
            "  inflating: valid/labels/severityV2_30_jpg.rf.387f9cfaf28418e3a15645a258d4b070.txt  \n",
            "  inflating: valid/labels/severityV2_31_jpg.rf.431d186a2fd4e19d197bcfb891ec9d22.txt  \n",
            "  inflating: valid/labels/severityV2_31_jpg.rf.cab4013db2e7b6fcadc156b448cc6922.txt  \n",
            "  inflating: valid/labels/severityV2_32_jpg.rf.22c7d403225b005d01c4eb7152172130.txt  \n",
            "  inflating: valid/labels/severityV2_32_jpg.rf.5d6090d64d2cf96065f1d8279e2a4a73.txt  \n",
            "  inflating: valid/labels/severityV2_34_jpg.rf.439b67fc1a032a3c3e54e20d948d6ddf.txt  \n",
            "  inflating: valid/labels/severityV2_35_jpg.rf.7ea3da1b0edccc2490b8f5d294189b7a.txt  \n",
            "  inflating: valid/labels/severityV2_36_jpg.rf.d32221fcb9c673d22cf71edc37b96b85.txt  \n",
            "  inflating: valid/labels/severityV2_38_jpg.rf.01d927675fabd8995b856fd8781dea7a.txt  \n",
            "  inflating: valid/labels/severityV2_38_jpg.rf.a14ac0f78d0ba134ba5b2cf388147cf7.txt  \n",
            "  inflating: valid/labels/severityV2_38_jpg.rf.d1edbe134317cb1e1f538258caaaccca.txt  \n",
            "  inflating: valid/labels/severityV2_39_jpg.rf.a69f823c16f526baadc722d10a603725.txt  \n",
            "  inflating: valid/labels/severityV2_39_jpg.rf.dc6774d1a05cc748a47406e8b078d188.txt  \n",
            "  inflating: valid/labels/severityV2_4_jpg.rf.21ecb11041f1d5278a113f364c20363e.txt  \n",
            "  inflating: valid/labels/severityV2_4_jpg.rf.e64e1d0ea7c42c7c86f607fbcb716ab4.txt  \n",
            "  inflating: valid/labels/severityV2_5_jpg.rf.196326108f77d2013a0323bcf9b19206.txt  \n",
            "  inflating: valid/labels/severityV2_5_jpg.rf.d4b74c9db23bd83edeb018a95a1d5186.txt  \n",
            "  inflating: valid/labels/severityV2_5_jpg.rf.ed85a01b7dd61ae04daa3930638efa07.txt  \n",
            "  inflating: valid/labels/severityV2_5_jpg.rf.fba5a348912f04e01c82887aa49704ec.txt  \n",
            "  inflating: valid/labels/severityV2_6_jpg.rf.93db340b4d7c7dc47f2caffb37add63a.txt  \n",
            "  inflating: valid/labels/severityV2_7_jpg.rf.bfe2f4048318f7765189c370a51e1807.txt  \n",
            "  inflating: valid/labels/severityV2_8_jpg.rf.1860d910aad54e7b408812c2522e0d32.txt  \n",
            "  inflating: valid/labels/severityV2_8_jpg.rf.43e481e93ce03ba55a819658188edf0e.txt  \n",
            "  inflating: valid/labels/severityV2_8_jpg.rf.bfdb36fc89f7d330d6cbc8dce77c1b1e.txt  \n",
            "  inflating: valid/labels/severityV3_10_jpeg_jpg.rf.33e8915f170d2a7f341b7d5f57a3f563.txt  \n",
            "  inflating: valid/labels/severityV3_11_jpeg_jpg.rf.4e1e53f73f0d3bf84484a8142823dae7.txt  \n",
            "  inflating: valid/labels/severityV3_11_jpeg_jpg.rf.a6abaa502673d369f6777d331b831c8b.txt  \n",
            "  inflating: valid/labels/severityV3_12_jpeg_jpg.rf.8baf9ac0d3fcd027303deca38e6c25a1.txt  \n",
            "  inflating: valid/labels/severityV3_16_jpeg_jpg.rf.12421b2c3cb597edee102aa1730506dd.txt  \n",
            "  inflating: valid/labels/severityV3_16_jpeg_jpg.rf.327690a7763bd3bc657f75fc4aa37060.txt  \n",
            "  inflating: valid/labels/severityV3_16_jpeg_jpg.rf.7134fbda39043463295a25a48e96df2c.txt  \n",
            "  inflating: valid/labels/severityV3_16_jpeg_jpg.rf.e29696261f5e32fee4752fa5f4e281fb.txt  \n",
            "  inflating: valid/labels/severityV3_19_jpeg_jpg.rf.728a97e9d1ccde8e7723a8f2f0d718a0.txt  \n",
            "  inflating: valid/labels/severityV3_1_jpeg_jpg.rf.6f355d4e1ddba07ff5167bdeedcef0f7.txt  \n",
            "  inflating: valid/labels/severityV3_20_jpeg_jpg.rf.51b7e4bce969237fbc3a8b04ed3c6fac.txt  \n",
            "  inflating: valid/labels/severityV3_20_jpeg_jpg.rf.b73db7d3a47bb2da601b2785140f8214.txt  \n",
            "  inflating: valid/labels/severityV3_21_jpeg_jpg.rf.7b401afb072a79afdbf00213353bfb8d.txt  \n",
            "  inflating: valid/labels/severityV3_21_jpeg_jpg.rf.880df2b12164f074d3b913d83ff42bb8.txt  \n",
            "  inflating: valid/labels/severityV3_21_jpeg_jpg.rf.b5fa8e3879fbca064e020653d5df5ac0.txt  \n",
            "  inflating: valid/labels/severityV3_24_jpeg_jpg.rf.4c4c609c54cf0858659404af8bbc96a1.txt  \n",
            "  inflating: valid/labels/severityV3_24_jpeg_jpg.rf.ca6ca7e268daa62c732507df6ae48948.txt  \n",
            "  inflating: valid/labels/severityV3_24_jpeg_jpg.rf.ef275bc4a0f5b368cd9756c31ce47dbb.txt  \n",
            "  inflating: valid/labels/severityV3_25_jpeg_jpg.rf.118048fc12f1aa7fba06c02d45d8c926.txt  \n",
            "  inflating: valid/labels/severityV3_25_jpeg_jpg.rf.4c95a6fd1246279b8bc73191cc788399.txt  \n",
            "  inflating: valid/labels/severityV3_25_jpeg_jpg.rf.bb5588a1595488211d4855614819254e.txt  \n",
            "  inflating: valid/labels/severityV3_26_jpeg_jpg.rf.07c57336cfb1973e3c46219b8ac68526.txt  \n",
            "  inflating: valid/labels/severityV3_27_jpeg_jpg.rf.dc10d34a2288b7ff77cf2440c193526a.txt  \n",
            "  inflating: valid/labels/severityV3_28_jpeg_jpg.rf.413d3d43c10fc4280b400c831534e462.txt  \n",
            "  inflating: valid/labels/severityV3_2_jpeg_jpg.rf.4fb1e8c26943fe8dadd745a526f6d73a.txt  \n",
            "  inflating: valid/labels/severityV3_2_jpeg_jpg.rf.c8d66ba4dcb1da6be1433fe79ba5be44.txt  \n",
            "  inflating: valid/labels/severityV3_30_jpeg_jpg.rf.a9a8b5ddcaf1a8d6ccb50254f4cd284c.txt  \n",
            "  inflating: valid/labels/severityV3_31_jpeg_jpg.rf.bcaffc6cdf6601601e76d520503f15c0.txt  \n",
            " extracting: valid/labels/severityV3_32_jpeg_jpg.rf.6b8adca4ce7e109f7b5256874e6709ea.txt  \n",
            "  inflating: valid/labels/severityV3_33_jpeg_jpg.rf.35fec1c93424cf7945fdda57fffd7dcf.txt  \n",
            "  inflating: valid/labels/severityV3_33_jpeg_jpg.rf.dc312e9ff4f7fbf6f06f9bb6673c9245.txt  \n",
            "  inflating: valid/labels/severityV3_33_jpeg_jpg.rf.efa0f6a084f226d80bdb6a9e73cdea91.txt  \n",
            "  inflating: valid/labels/severityV3_34_jpeg_jpg.rf.3ed4156919051387e6e1f20103ab2fc5.txt  \n",
            "  inflating: valid/labels/severityV3_34_jpeg_jpg.rf.93225c348fa6d4743a018da91eff90ef.txt  \n",
            "  inflating: valid/labels/severityV3_34_jpeg_jpg.rf.c49342db05b8abc94f5ad28655d700d8.txt  \n",
            "  inflating: valid/labels/severityV3_35_jpeg_jpg.rf.7059db7e5d056308a7dd18990c843b85.txt  \n",
            "  inflating: valid/labels/severityV3_36_jpeg_jpg.rf.013e1485ad174b551478aa99bc565049.txt  \n",
            "  inflating: valid/labels/severityV3_36_jpeg_jpg.rf.d8030a8758da98e8ad2e729522cf5a35.txt  \n",
            "  inflating: valid/labels/severityV3_37_jpeg_jpg.rf.a6fb86cf160df12e5d5eafb6529d68be.txt  \n",
            "  inflating: valid/labels/severityV3_37_jpeg_jpg.rf.c24dff5888ae63a92e595ce6bc70a216.txt  \n",
            "  inflating: valid/labels/severityV3_37_jpeg_jpg.rf.f6671660bc611e09743c4e1f842b26b9.txt  \n",
            "  inflating: valid/labels/severityV3_38_jpeg_jpg.rf.2641aa648886b15700188f4c599e9336.txt  \n",
            "  inflating: valid/labels/severityV3_38_jpeg_jpg.rf.ec477235737b55744a42f054144cddf8.txt  \n",
            "  inflating: valid/labels/severityV3_38_jpeg_jpg.rf.fe1802a0bd713fedf1fe9fca7e6bf12e.txt  \n",
            "  inflating: valid/labels/severityV3_40_jpeg_jpg.rf.147c57d551ede9e2fddb37d225990a84.txt  \n",
            "  inflating: valid/labels/severityV3_5_jpeg_jpg.rf.41ed71aca9a16619026551a539b8ac75.txt  \n",
            "  inflating: valid/labels/severityV3_5_jpeg_jpg.rf.952133c241b2d8e66bff79d95c8390ca.txt  \n",
            "  inflating: valid/labels/severityV3_5_jpeg_jpg.rf.e67500b706b5258f77826d27712f5c42.txt  \n",
            "  inflating: valid/labels/severityV3_8_jpeg_jpg.rf.3a1a6b89727e18b6005b8f9dad5b9497.txt  \n",
            "  inflating: valid/labels/severityV4_10_jpg.rf.544b5f659d0dfdad3c45e8a41f0aff4a.txt  \n",
            "  inflating: valid/labels/severityV4_10_jpg.rf.765a9c01bc860a4ad96191a40aeb35c0.txt  \n",
            "  inflating: valid/labels/severityV4_11_jpg.rf.91019b1f21a320a9059b054fae63df52.txt  \n",
            "  inflating: valid/labels/severityV4_12_jpg.rf.2e4627e5c2b32dd740af189d2054b5b4.txt  \n",
            "  inflating: valid/labels/severityV4_12_jpg.rf.9d1febafe3d58ebe19f6b6bfe5c02f8d.txt  \n",
            "  inflating: valid/labels/severityV4_12_jpg.rf.f27520cb7b02b219d7655c814e4248d1.txt  \n",
            "  inflating: valid/labels/severityV4_13_jpg.rf.26e4b1bcc69def767c335cd48ce341f6.txt  \n",
            "  inflating: valid/labels/severityV4_13_jpg.rf.3f02a2d5e0d227d91d634d2a37afacb0.txt  \n",
            "  inflating: valid/labels/severityV4_13_jpg.rf.5cafb2cc6f1004287ea85431199843b8.txt  \n",
            "  inflating: valid/labels/severityV4_15_jpg.rf.46815247954138866d5579cf8b69b40b.txt  \n",
            "  inflating: valid/labels/severityV4_16_jpg.rf.3bacf913f373de2eb0d0c98cc3c1fae5.txt  \n",
            "  inflating: valid/labels/severityV4_16_jpg.rf.6383188da69cc84e0d9c5f5e3cdfe120.txt  \n",
            "  inflating: valid/labels/severityV4_17_jpg.rf.64478b505e5706c504b58cc23e306e18.txt  \n",
            "  inflating: valid/labels/severityV4_18_jpg.rf.337332d22a6a1131c66767b2193f8b85.txt  \n",
            "  inflating: valid/labels/severityV4_18_jpg.rf.521e2fa6299ddf4de2dac2dee28c401a.txt  \n",
            "  inflating: valid/labels/severityV4_18_jpg.rf.bcc494e1326795e032b9fc192a5c596f.txt  \n",
            " extracting: valid/labels/severityV4_19_jpg.rf.95b5801a5372681fca2647e7cd959e8e.txt  \n",
            "  inflating: valid/labels/severityV4_20_jpg.rf.88f3a71586f2d63332637e470a9dec63.txt  \n",
            "  inflating: valid/labels/severityV4_20_jpg.rf.fdf8d278d5f338e801e2e2063766e24d.txt  \n",
            "  inflating: valid/labels/severityV4_21_jpg.rf.10cfef4e0133e88d6a72e566412a6e33.txt  \n",
            "  inflating: valid/labels/severityV4_21_jpg.rf.8dc27087f0af2d2a3b96797f1516a239.txt  \n",
            "  inflating: valid/labels/severityV4_21_jpg.rf.f5d8fbd8c2fb325946d863de8b49a9f7.txt  \n",
            "  inflating: valid/labels/severityV4_22_jpg.rf.c555a1f804d0428b369727c7b60400ea.txt  \n",
            "  inflating: valid/labels/severityV4_22_jpg.rf.c6744be3bb17e1c3adf93d6bb5d8f785.txt  \n",
            "  inflating: valid/labels/severityV4_22_jpg.rf.f9b99dbcb1574e5109b243b22c9b1b20.txt  \n",
            "  inflating: valid/labels/severityV4_23_jpg.rf.18b17dfa2dc28961a6216c504ed34ac6.txt  \n",
            " extracting: valid/labels/severityV4_24_jpg.rf.e47504d555596120a41d6627a0784dce.txt  \n",
            "  inflating: valid/labels/severityV4_27_jpg.rf.8f226faa6157fe86de10ceac207bf4a2.txt  \n",
            "  inflating: valid/labels/severityV4_27_jpg.rf.c5cbb7733d21a42e2e2c72ccc78cb587.txt  \n",
            "  inflating: valid/labels/severityV4_28_jpg.rf.60745c757cd8b412083cc09470f4440f.txt  \n",
            "  inflating: valid/labels/severityV4_28_jpg.rf.621703c20744e3d8db12550b58d42834.txt  \n",
            "  inflating: valid/labels/severityV4_28_jpg.rf.a2311585f4f9a875e873bf2638fdae7b.txt  \n",
            "  inflating: valid/labels/severityV4_28_jpg.rf.e8d6c5b57addf33650679cff8a704dfb.txt  \n",
            "  inflating: valid/labels/severityV4_29_jpg.rf.515b6ccb92880988714e6587db28fbb9.txt  \n",
            "  inflating: valid/labels/severityV4_29_jpg.rf.6b9afd69429ff7c3fa2bc516b3803822.txt  \n",
            "  inflating: valid/labels/severityV4_29_jpg.rf.df4c590e5c9fb03f48d07839cef9a0c3.txt  \n",
            "  inflating: valid/labels/severityV4_29_jpg.rf.f7cfc70db07eef89ab57b8650cbf40b5.txt  \n",
            "  inflating: valid/labels/severityV4_30_jpg.rf.46c9ed8fce9dc1e1204d3a9996bb800b.txt  \n",
            "  inflating: valid/labels/severityV4_30_jpg.rf.d7c8ca7b3f8c8792214287c2b4875b19.txt  \n",
            "  inflating: valid/labels/severityV4_30_jpg.rf.dafca2d162fc4f4347a5235e947ffe1b.txt  \n",
            "  inflating: valid/labels/severityV4_31_jpg.rf.908df90d67dc5706306221f82d8ae850.txt  \n",
            "  inflating: valid/labels/severityV4_31_jpg.rf.9bff70a905b8aaa5035cbe0818cfcdc1.txt  \n",
            " extracting: valid/labels/severityV4_33_jpg.rf.48233d2f44b6526770c083ec082a1d55.txt  \n",
            " extracting: valid/labels/severityV4_33_jpg.rf.f728905c90daef46c801ff17cbf39e1b.txt  \n",
            "  inflating: valid/labels/severityV4_34_jpg.rf.22f991f563a43e0dc8e45ab30f0283a8.txt  \n",
            "  inflating: valid/labels/severityV4_35_jpg.rf.7eaea688680079e0fcc331ffecf0f2d6.txt  \n",
            "  inflating: valid/labels/severityV4_35_jpg.rf.c0e6ee500b75fc16ec2d71882e31c37a.txt  \n",
            " extracting: valid/labels/severityV4_36_jpg.rf.2316d3964f4cf9805825b9268b56a757.txt  \n",
            "  inflating: valid/labels/severityV4_38_jpg.rf.4824336c25767ff265d9e5dcb8202d31.txt  \n",
            "  inflating: valid/labels/severityV4_3_jpg.rf.65d0e967ac9b220a17ab9b51460336c4.txt  \n",
            "  inflating: valid/labels/severityV4_3_jpg.rf.66cb18938102bfd7125d3befb7ed0487.txt  \n",
            "  inflating: valid/labels/severityV4_3_jpg.rf.786e069088fbf9b5d19d5dd1e01efa4a.txt  \n",
            "  inflating: valid/labels/severityV4_3_jpg.rf.998e61ac0a0e436ede1b9c0b7895fc80.txt  \n",
            " extracting: valid/labels/severityV4_40_jpg.rf.a311097b929e006dff4e24056ea99e68.txt  \n",
            "  inflating: valid/labels/severityV4_41_jpg.rf.c1957cf9fb9786f35ef871bf0940d887.txt  \n",
            "  inflating: valid/labels/severityV4_41_jpg.rf.dcc18ebc4966f76a3590742fc670556b.txt  \n",
            "  inflating: valid/labels/severityV4_43_jpg.rf.3e0f6478561ff1d3eb9a98879046b166.txt  \n",
            "  inflating: valid/labels/severityV4_43_jpg.rf.a70f22b21682c130cb5d0d95e2e7160d.txt  \n",
            "  inflating: valid/labels/severityV4_44_jpg.rf.c1e48f07c393c120304fe042bdd9be44.txt  \n",
            "  inflating: valid/labels/severityV4_46_jpg.rf.03f4314f83093bf7c3ae4f599d3eb3b4.txt  \n",
            " extracting: valid/labels/severityV4_48_jpg.rf.50a4e69f0a76b77cf079530c4e4346cb.txt  \n",
            "  inflating: valid/labels/severityV4_49_jpg.rf.2456cecff8d54821e9064a4da2fa92c1.txt  \n",
            "  inflating: valid/labels/severityV4_49_jpg.rf.261fff9ffa29a7c7868f74caa1a3fcb8.txt  \n",
            "  inflating: valid/labels/severityV4_4_jpg.rf.14294e5caffe002c1786c4499a4eb172.txt  \n",
            "  inflating: valid/labels/severityV4_4_jpg.rf.29d8b65973f62fc42c9bf872f456c6c4.txt  \n",
            "  inflating: valid/labels/severityV4_51_jpg.rf.ed76effdb009528cac0120d45a46a431.txt  \n",
            "  inflating: valid/labels/severityV4_51_jpg.rf.f4d98a1b2ea53c484c3264ea74f1883f.txt  \n",
            " extracting: valid/labels/severityV4_52_jpg.rf.6ff51b1708cc7b611c8a3ee3ab4fa92e.txt  \n",
            " extracting: valid/labels/severityV4_52_jpg.rf.7f745a5c3615be619b212bcb3c13b6d6.txt  \n",
            "  inflating: valid/labels/severityV4_53_jpg.rf.01ef4ab32609074ccf7d58450232aa04.txt  \n",
            "  inflating: valid/labels/severityV4_53_jpg.rf.5a64e6a1163a6d1fd785337d0acf2e12.txt  \n",
            "  inflating: valid/labels/severityV4_53_jpg.rf.5baf2f364f3a5dad23cb43fce56281f5.txt  \n",
            "  inflating: valid/labels/severityV4_53_jpg.rf.8cd996b1c26fb79a7762b36a09b08df4.txt  \n",
            "  inflating: valid/labels/severityV4_55_jpg.rf.ecc9ac9e99eee10b922a006a4902dce6.txt  \n",
            "  inflating: valid/labels/severityV4_58_jpg.rf.1b3e196073127465d0074764473270ff.txt  \n",
            "  inflating: valid/labels/severityV4_5_jpg.rf.eca14000c1ba914f9f8146dd2799fb85.txt  \n",
            "  inflating: valid/labels/severityV4_61_jpg.rf.eb8b8aadd8c4cb03ea00dd6f0cb094bd.txt  \n",
            "  inflating: valid/labels/severityV4_62_jpg.rf.2a3f7e313203955ccd4dd5de1ec87b4f.txt  \n",
            "  inflating: valid/labels/severityV4_62_jpg.rf.dd1ea0f48dd3cfbe47c2f38e2d06effd.txt  \n",
            "  inflating: valid/labels/severityV4_63_jpg.rf.49d5c08de82c2d810c1cd1d515d2653a.txt  \n",
            "  inflating: valid/labels/severityV4_64_jpg.rf.8dfd918c9f814dff488fb7c5c1343f99.txt  \n",
            "  inflating: valid/labels/severityV4_65_jpg.rf.8e9cc95516565b7f226bfcb9e1ba170a.txt  \n",
            "  inflating: valid/labels/severityV4_65_jpg.rf.d5ca54fcbc76c160a5b68e45d47c9fc3.txt  \n",
            "  inflating: valid/labels/severityV4_65_jpg.rf.e6a144bd73765cb7c39aec8fed8b31e0.txt  \n",
            "  inflating: valid/labels/severityV4_66_jpg.rf.7dfa02acf842dc0d23c258373d917813.txt  \n",
            "  inflating: valid/labels/severityV4_67_jpg.rf.9a778e2b1857f448a86c90ec5f9f2aea.txt  \n",
            "  inflating: valid/labels/severityV4_68_jpg.rf.f708d6aa84b1a84f58225d973d87f00f.txt  \n",
            "  inflating: valid/labels/severityV4_69_jpg.rf.3913d587d6cb9d547cca8ff2be56072d.txt  \n",
            "  inflating: valid/labels/severityV4_69_jpg.rf.9f4e6cf671ee7b3e645f98c112b370f4.txt  \n",
            "  inflating: valid/labels/severityV4_70_jpg.rf.2bfd1af61d07b2a2055e15ecb6f5a778.txt  \n",
            " extracting: valid/labels/severityV4_71_jpg.rf.b4ad0fabad23d6f3772e4f2846bccf67.txt  \n",
            "  inflating: valid/labels/severityV4_73_jpg.rf.5ec69a1d3c0cfeaf1401afd1b9cfd8cc.txt  \n",
            "  inflating: valid/labels/severityV4_75_jpg.rf.0fb0328fd5b59fe62065bef0869dd4b7.txt  \n",
            "  inflating: valid/labels/severityV4_75_jpg.rf.e1dcab97a67b1daade1ccc6e5956a636.txt  \n",
            "  inflating: valid/labels/severityV4_79_jpg.rf.527f34493fc20bd87744dc395635f06f.txt  \n",
            "  inflating: valid/labels/severityV4_79_jpg.rf.fd49564926044038df3c5a855e00714a.txt  \n",
            "  inflating: valid/labels/severityV4_7_jpg.rf.b8b9f78eda1f70c5632fc32eb7feb05f.txt  \n",
            "  inflating: valid/labels/severityV4_81_jpg.rf.0f355e92d41764bdc5f19a54b7afd6d1.txt  \n",
            "  inflating: valid/labels/severityV4_82_jpg.rf.0fa847c8d9b9fe3eb3dbfbd1801ac699.txt  \n",
            "  inflating: valid/labels/severityV4_82_jpg.rf.62f79347b1984c61694f1ba85ab0deb8.txt  \n",
            "  inflating: valid/labels/severityV4_82_jpg.rf.c38ec0ac8bf735cc92144ec76b4d9b4e.txt  \n",
            "  inflating: valid/labels/severityV4_82_jpg.rf.f16bfd0c2a65a64dc192ab6d2e284dc9.txt  \n",
            "  inflating: valid/labels/severityV4_83_jpg.rf.b164e4525bdbd2b066261b534510b8bf.txt  \n",
            "  inflating: valid/labels/severityV4_83_jpg.rf.ce9ca194e17f095fe4591c6953154f7f.txt  \n",
            "  inflating: valid/labels/severityV4_85_jpg.rf.81abdc3dd99dcd5bc6e441f04bc7ae51.txt  \n",
            "  inflating: valid/labels/severityV4_86_jpg.rf.1caa314a62e935e1792415bffcbab806.txt  \n",
            "  inflating: valid/labels/severityV4_86_jpg.rf.470e1512662cebc114375eb5ebf2a967.txt  \n",
            "  inflating: valid/labels/severityV4_87_jpg.rf.f54c05b33350384867938fabd6d7b8d0.txt  \n",
            "  inflating: valid/labels/severityV4_88_jpg.rf.24b0dec8a6f419daec8518441fa6befe.txt  \n",
            "  inflating: valid/labels/severityV4_88_jpg.rf.398ace76b2641979ac20af1a089ce522.txt  \n",
            "  inflating: valid/labels/severityV4_89_jpg.rf.8847602fa8f8b3f80d8bb7bae422f781.txt  \n",
            "  inflating: valid/labels/severityV4_89_jpg.rf.ba26a1bd951a889c10ceaf2d8d307478.txt  \n",
            "  inflating: valid/labels/severityV4_8_jpg.rf.c5eb5ea3f926876b38b7e308cd408889.txt  \n",
            "  inflating: valid/labels/severityV4_90_jpg.rf.5772154d9551eb920dff6232bd15c813.txt  \n",
            "  inflating: valid/labels/severityV4_91_jpg.rf.68192e2f7e8ab75557786a00fc683f27.txt  \n",
            "  inflating: valid/labels/severityV4_92_jpg.rf.a5e717533d071beab3043f98216125c0.txt  \n",
            "  inflating: valid/labels/severityV4_92_jpg.rf.d8306f3a4bdd2e38455446b753d7ab5a.txt  \n",
            "  inflating: valid/labels/severityV4_93_jpg.rf.b7a90ff5cb92f99e199f5ba1dd36b35c.txt  \n",
            "  inflating: valid/labels/severityV4_94_jpg.rf.8df867ac372d1c1768c40e8a4763d0f6.txt  \n",
            "  inflating: valid/labels/severityV4_94_jpg.rf.c3ce8ae199d8501b3a7ae0b0250a7a4c.txt  \n",
            "  inflating: valid/labels/severityV4_95_jpg.rf.78c69bec2ec2edb70fd37d2b1b23d061.txt  \n",
            "  inflating: valid/labels/severityV4_97_jpg.rf.06baf744b3c4a7b97e01d13ba2e1ffa6.txt  \n",
            "  inflating: valid/labels/severityV4_97_jpg.rf.5b6b9911cfb1e8e283be20cd8583b50e.txt  \n",
            "  inflating: valid/labels/severityV4_97_jpg.rf.963200df81beab4abe503b77c4a38732.txt  \n",
            "  inflating: valid/labels/severityV4_97_jpg.rf.9ad780dd107a8625a19cb286c9228c05.txt  \n",
            "  inflating: valid/labels/severityV4_98_jpg.rf.0a0996176a27732a751e3a184dc4bfc5.txt  \n",
            "  inflating: valid/labels/severityV4_98_jpg.rf.1597f1488f2b8334c1159d7c41183759.txt  \n",
            "  inflating: valid/labels/severityV4_99_jpg.rf.2a7c615d1a9bd8710ae4ec59b6d0fced.txt  \n",
            "  inflating: valid/labels/severityV4_9_jpg.rf.b1a36fe65a7bffab2092f2ebb151099e.txt  \n",
            "  inflating: valid/labels/severity_V110_jpg.rf.7ab6adae3964f72512dad8c06959a4f1.txt  \n",
            "  inflating: valid/labels/severity_V110_jpg.rf.b8ddfa388bd2d962dfa868c914cc9525.txt  \n",
            "  inflating: valid/labels/severity_V111_jpg.rf.ba9084c0c9855e670aa799677de029a8.txt  \n",
            "  inflating: valid/labels/severity_V113_jpg.rf.60efe4100cb53dc215d0902004138db0.txt  \n",
            "  inflating: valid/labels/severity_V113_jpg.rf.95d9e6449f096f9a3fc0cf0df6593f45.txt  \n",
            "  inflating: valid/labels/severity_V113_jpg.rf.da0e5475c36207332adc6ab86c8f03b7.txt  \n",
            "  inflating: valid/labels/severity_V114_jpg.rf.901f78e04c87b7bd8bd0077e3ffaadf7.txt  \n",
            "  inflating: valid/labels/severity_V114_jpg.rf.fb25e17259b0d69805129d8b1164c0eb.txt  \n",
            "  inflating: valid/labels/severity_V115_jpg.rf.5254b2e2ea8e3e5435f0164907f222af.txt  \n",
            "  inflating: valid/labels/severity_V116_jpg.rf.95aa8ce606d907d44ded89721b11a6ab.txt  \n",
            "  inflating: valid/labels/severity_V118_jpg.rf.2f868e67a709dc46741802a4b2ea2ae9.txt  \n",
            " extracting: valid/labels/severity_V119_jpg.rf.248266d88547cb277447041b6844d5ec.txt  \n",
            " extracting: valid/labels/severity_V119_jpg.rf.f65a09bea31777c956d6bd30fe12dca6.txt  \n",
            "  inflating: valid/labels/severity_V11_jpg.rf.b94c5adfaa8cac4cfcf672b30c33d3e2.txt  \n",
            "  inflating: valid/labels/severity_V120_jpg.rf.f8c20876071f518b5ef9e24af5b475e4.txt  \n",
            "  inflating: valid/labels/severity_V123_jpg.rf.019984dd9a129a50a72ef2ab92314ac3.txt  \n",
            "  inflating: valid/labels/severity_V123_jpg.rf.8086a7bd47a129939a69e80c2b523284.txt  \n",
            " extracting: valid/labels/severity_V124_jpg.rf.2e9764a6c6dbd442accb1fca52948b7e.txt  \n",
            " extracting: valid/labels/severity_V124_jpg.rf.57cecad80d534e459b7c5fcb898991ce.txt  \n",
            " extracting: valid/labels/severity_V124_jpg.rf.66450f21ef5b2ae371567f562a5de501.txt  \n",
            "  inflating: valid/labels/severity_V125_jpg.rf.119a8d47859220ef7d37b8a3d4cafe79.txt  \n",
            "  inflating: valid/labels/severity_V125_jpg.rf.4e54c5087ea50da90b6cb49d03e5cf94.txt  \n",
            "  inflating: valid/labels/severity_V125_jpg.rf.90e2ecef70ceb3056e3f3233a35d204c.txt  \n",
            "  inflating: valid/labels/severity_V125_jpg.rf.dfe2a6a664bbb62674cf481c76734823.txt  \n",
            "  inflating: valid/labels/severity_V126_jpg.rf.5602428a19efd3ad79ca5601c0942bd9.txt  \n",
            "  inflating: valid/labels/severity_V126_jpg.rf.5e01b68bc0df41c7b440fc579c09f02c.txt  \n",
            "  inflating: valid/labels/severity_V126_jpg.rf.a10db68676cd42c16b0b9ed7c91609ca.txt  \n",
            "  inflating: valid/labels/severity_V126_jpg.rf.eece7d5068ab64799098a9f58cfbeb0d.txt  \n",
            "  inflating: valid/labels/severity_V129_jpg.rf.f18344612ace1b32da5b8a42d4428dcb.txt  \n",
            "  inflating: valid/labels/severity_V130_jpg.rf.7c5d1859692cddb4f090d84070b2a1b3.txt  \n",
            "  inflating: valid/labels/severity_V130_jpg.rf.fd60d86cc0182a43f5b2a3c27d927581.txt  \n",
            "  inflating: valid/labels/severity_V132_jpg.rf.0f0a3f3ce69ccd2816e47f07ee4ecb2e.txt  \n",
            "  inflating: valid/labels/severity_V132_jpg.rf.64b72b81e44326b40ae8c01a412a8d2d.txt  \n",
            "  inflating: valid/labels/severity_V133_jpg.rf.221f84698e30a9a6e8e7bd2ed4f3808b.txt  \n",
            "  inflating: valid/labels/severity_V133_jpg.rf.a6eab9da11f981b0b2d2bad1787eeeca.txt  \n",
            " extracting: valid/labels/severity_V134_jpg.rf.3de5a9519edb6e6942371e04f9cdfb68.txt  \n",
            " extracting: valid/labels/severity_V134_jpg.rf.7f099027314b57d702a5ae93de1df590.txt  \n",
            "  inflating: valid/labels/severity_V135_jpg.rf.f1fb7a4e67654dc4cc8ef194b3b93672.txt  \n",
            "  inflating: valid/labels/severity_V137_jpg.rf.ed3a5f57a4d52ef73b1838e2122f325f.txt  \n",
            " extracting: valid/labels/severity_V138_jpg.rf.a488e50ef8e508d1ecd090c98f5fab90.txt  \n",
            " extracting: valid/labels/severity_V138_jpg.rf.ac868c1736d1b452027ec5a1e6a3d2c1.txt  \n",
            "  inflating: valid/labels/severity_V139_jpg.rf.384895dce0ce0ce62f0d957ecee77fe5.txt  \n",
            "  inflating: valid/labels/severity_V13_jpg.rf.9bd5ca0a1235063a8d9bebf236f6c56f.txt  \n",
            " extracting: valid/labels/severity_V140_jpg.rf.a86eae5244d8efbd07894695d9e2a7bb.txt  \n",
            "  inflating: valid/labels/severity_V141_jpg.rf.5e0d04840c2709b693d125157ad991ac.txt  \n",
            "  inflating: valid/labels/severity_V141_jpg.rf.7408f8b1622eab8312a8e7f5df0a78b4.txt  \n",
            "  inflating: valid/labels/severity_V141_jpg.rf.9624dcc989637808171318002f440098.txt  \n",
            "  inflating: valid/labels/severity_V145_jpg.rf.0ca9885b9b9721592ed48e5293e78c52.txt  \n",
            "  inflating: valid/labels/severity_V145_jpg.rf.4e0fe937c9feb17cc810df1b7f117169.txt  \n",
            "  inflating: valid/labels/severity_V145_jpg.rf.b951f0cef4fe7d1a129558cea458ddf0.txt  \n",
            "  inflating: valid/labels/severity_V18_jpg.rf.3e0d06574d80b234f4c2e33beb6a8f45.txt  \n",
            "  inflating: valid/labels/severity_V19_jpg.rf.1f8f9b59369f2587792e92b5b5b676eb.txt  \n",
            "  inflating: valid/labels/testjndjnd_jpg.rf.10c6d3c05be9d6d30260b7c20c28aa92.txt  \n",
            "  inflating: valid/labels/testjndjnd_jpg.rf.68f377d2a214f80949eb35e26edeea89.txt  \n",
            " extracting: valid/labels/th-10-_jpg.rf.c5326d810e80f67ce37c6adf47fa0332.txt  \n",
            " extracting: valid/labels/th-14-_jpg.rf.f268342d7445209f9a6671bb395003b8.txt  \n",
            "  inflating: valid/labels/th-17-_jpg.rf.fafc38ff7b43b5584ce6688f94f8ea6d.txt  \n",
            "  inflating: valid/labels/th-2-_jpg.rf.e674555da4482aad739f402d23dc6ad6.txt  \n",
            "  inflating: valid/labels/th_jpg.rf.b8007ba22e8978c9434cba8e0c3515b3.txt  \n",
            "  inflating: valid/labels/traffic_img1008_jpg.rf.85b12d545a311c4c3dbb8012ab43d77f.txt  \n",
            " extracting: valid/labels/traffic_img1010_jpg.rf.885461d31b44b05547313b8913f6a531.txt  \n",
            " extracting: valid/labels/traffic_img1010_jpg.rf.deae63eae4b92f828ba8aa1c9f115f97.txt  \n",
            "  inflating: valid/labels/traffic_img1024_jpg.rf.b74109235631b19b563264277f8fb03e.txt  \n",
            "  inflating: valid/labels/traffic_img1024_jpg.rf.cbebba54134842d40b9adf072932e284.txt  \n",
            "  inflating: valid/labels/traffic_img1025_jpg.rf.dbcf6769cd4393dafc46c702aeb674ab.txt  \n",
            "  inflating: valid/labels/traffic_img1031_jpg.rf.707b075c862d60f7dc18d6f262a14d1c.txt  \n",
            "  inflating: valid/labels/traffic_img1031_jpg.rf.974ab69720b74119d286d462b4b36d70.txt  \n",
            " extracting: valid/labels/traffic_img104_jpg.rf.bbd8c164223722e888bf6d09f09a2f07.txt  \n",
            "  inflating: valid/labels/traffic_img104_jpg.rf.d0fb2ffa8cb65fa7c28d1839232bf726.txt  \n",
            "  inflating: valid/labels/traffic_img105_jpg.rf.2fc555db6d86167eeaa8ccbff135defb.txt  \n",
            "  inflating: valid/labels/traffic_img105_jpg.rf.67cff90a8add8de9681ae602c7ef77b0.txt  \n",
            "  inflating: valid/labels/traffic_img105_jpg.rf.7509a5367f435f61fed3d877a805998e.txt  \n",
            "  inflating: valid/labels/traffic_img1075_jpg.rf.da354b090cc83a84ffceb351a0362aa9.txt  \n",
            "  inflating: valid/labels/traffic_img1075_jpg.rf.f5b0443b26a678a1dee42ef82634421e.txt  \n",
            "  inflating: valid/labels/traffic_img10_jpg.rf.441e1ccd1c619399d6d87645978142b2.txt  \n",
            "  inflating: valid/labels/traffic_img1109_jpg.rf.07e2b68850b534019f2e5cd81b6c5f4b.txt  \n",
            "  inflating: valid/labels/traffic_img1125_jpg.rf.c176b6a4bb540c8db2879f11115f759b.txt  \n",
            "  inflating: valid/labels/traffic_img1126_jpg.rf.1fc10956c444e47bec6f0ba98dc2a7e3.txt  \n",
            "  inflating: valid/labels/traffic_img1126_jpg.rf.ebf574c919dd281feba551180f2a6f61.txt  \n",
            "  inflating: valid/labels/traffic_img1184_jpg.rf.0e7aead5fc8d5ebccf72c9704f8e04d3.txt  \n",
            "  inflating: valid/labels/traffic_img1184_jpg.rf.15bf560914cc59292e35b444255cfd50.txt  \n",
            "  inflating: valid/labels/traffic_img1184_jpg.rf.f58339d0af9bbf5f6c0de5ea31059163.txt  \n",
            "  inflating: valid/labels/traffic_img118_jpg.rf.8230d384c7ffcb49d6ad7c5c81fce0b1.txt  \n",
            "  inflating: valid/labels/traffic_img1197_jpg.rf.20093e8343dd25bee43442367299c1f4.txt  \n",
            "  inflating: valid/labels/traffic_img1202_jpg.rf.98a964eff63a32b856ef1823521ddd28.txt  \n",
            "  inflating: valid/labels/traffic_img1239_jpg.rf.25350f92ec318ca1ca45ef0c65bff23a.txt  \n",
            "  inflating: valid/labels/traffic_img1239_jpg.rf.ff8789c5c36e10337955e95bc25c2946.txt  \n",
            "  inflating: valid/labels/traffic_img127_jpg.rf.84fc2956f7553b67eb51fdff90074043.txt  \n",
            "  inflating: valid/labels/traffic_img127_jpg.rf.fb8f5b831f9bd6a3f8fd7daa92e86d40.txt  \n",
            "  inflating: valid/labels/traffic_img128_jpg.rf.637437e78286b50b623dd5373d5829f6.txt  \n",
            "  inflating: valid/labels/traffic_img128_jpg.rf.78d9066ffa7d6b6aece37d71cf47e15b.txt  \n",
            "  inflating: valid/labels/traffic_img1295_jpg.rf.ffef29398d308c3fcf96f79f821d349d.txt  \n",
            "  inflating: valid/labels/traffic_img1301_jpg.rf.5bb9f45bac9cfb3a0b934268271138c7.txt  \n",
            "  inflating: valid/labels/traffic_img1343_jpg.rf.61ae19ff102d4555e3f324cb613f6fa0.txt  \n",
            "  inflating: valid/labels/traffic_img1347_jpg.rf.db74e9aaa66a79676e2b6cf6299e0b82.txt  \n",
            "  inflating: valid/labels/traffic_img1379_jpg.rf.59c6cfb798864b4ca2503c27fdcba745.txt  \n",
            "  inflating: valid/labels/traffic_img1392_jpg.rf.a159eec4c9183135e7762a1c87e6fc46.txt  \n",
            "  inflating: valid/labels/traffic_img1393_jpg.rf.ca8bbf183f7f10efe87a45622062a494.txt  \n",
            "  inflating: valid/labels/traffic_img1436_jpg.rf.c28afba7ef17d171651d1de34738b292.txt  \n",
            "  inflating: valid/labels/traffic_img1441_jpg.rf.ada52b91ed9ffbfdb4bfe51ccf66224a.txt  \n",
            "  inflating: valid/labels/traffic_img146_jpg.rf.0ec807086fb41dbe194ec4dad6a14938.txt  \n",
            "  inflating: valid/labels/traffic_img1590_jpg.rf.96fbb7a93d5d1505889dba55bced4593.txt  \n",
            "  inflating: valid/labels/traffic_img1672_jpg.rf.8b719f8061be9b17ccb3b693829b1486.txt  \n",
            "  inflating: valid/labels/traffic_img1739_jpg.rf.9d85dbec8670578f42b6e1067d338d22.txt  \n",
            "  inflating: valid/labels/traffic_img1753_jpg.rf.2796d8c7c9053d7c85e47b5c0b3eec0b.txt  \n",
            "  inflating: valid/labels/traffic_img1768_jpg.rf.dc0997f9ae243923a2f113a45ff77e78.txt  \n",
            "  inflating: valid/labels/traffic_img1769_jpg.rf.9544e93d13d9b8f74c1e0a2f84052000.txt  \n",
            " extracting: valid/labels/traffic_img17_jpg.rf.dc58c11a70876bd8a4a1cbed20b88a92.txt  \n",
            "  inflating: valid/labels/traffic_img1805_jpg.rf.e99fdab6222b2264791119ee9f20e9aa.txt  \n",
            "  inflating: valid/labels/traffic_img1838_jpg.rf.2143c6f2d5171b69ed89c4d8b52cae0e.txt  \n",
            "  inflating: valid/labels/traffic_img1855_jpg.rf.f8b25151eb4d8eaaa4d75bdd0773dfca.txt  \n",
            "  inflating: valid/labels/traffic_img1887_jpg.rf.5bca5d557be4d3bea5d1399fa80d72db.txt  \n",
            "  inflating: valid/labels/traffic_img1932_jpg.rf.101d1a1ff1f2c0016d6e72b131112a77.txt  \n",
            "  inflating: valid/labels/traffic_img2093_jpg.rf.0b115807b1d6fe9ec958db098ea65cfb.txt  \n",
            "  inflating: valid/labels/traffic_img2115_jpg.rf.6dce16996a910fa3df7386042b77607a.txt  \n",
            " extracting: valid/labels/traffic_img2116_jpg.rf.e60f1c0f85636d97f4a2d92e4577f8c7.txt  \n",
            "  inflating: valid/labels/traffic_img2122_jpg.rf.f561d5c2e345d17d32ec03314a96e723.txt  \n",
            "  inflating: valid/labels/traffic_img224_jpg.rf.3359bcd85451eef43bec0ced2f03d786.txt  \n",
            "  inflating: valid/labels/traffic_img22_jpg.rf.0c7811221b6807d276f41b03914b7dd4.txt  \n",
            "  inflating: valid/labels/traffic_img288_jpg.rf.9740d5c1240e88616b8dadfcb7c25132.txt  \n",
            "  inflating: valid/labels/traffic_img299_jpg.rf.9c84d89ff3c1f7724070d9ba19db50da.txt  \n",
            "  inflating: valid/labels/traffic_img332_jpg.rf.e7b7ef9466ee1a59ba1e622d97d1c1f7.txt  \n",
            "  inflating: valid/labels/traffic_img335_jpg.rf.a0b33431f3418688ae22b61f70679451.txt  \n",
            "  inflating: valid/labels/traffic_img476_jpg.rf.eea9bf7046b4533c573c6031198aa27b.txt  \n",
            "  inflating: valid/labels/traffic_img497_jpg.rf.396910c20048b65cabf3cbe711b609cd.txt  \n",
            "  inflating: valid/labels/traffic_img503_jpg.rf.89281d3569fda04622a7631364c829bd.txt  \n",
            "  inflating: valid/labels/traffic_img508_jpg.rf.8a17a0071a67dc23321b543b73392ec8.txt  \n",
            "  inflating: valid/labels/traffic_img566_jpg.rf.b61ddc7abfbe293ea6b792228ebd6ce5.txt  \n",
            "  inflating: valid/labels/traffic_img56_jpg.rf.dccc7300089d7b80766be71c11de48e9.txt  \n",
            "  inflating: valid/labels/traffic_img607_jpg.rf.3dc1c254be5b651fe43d2979778a0b60.txt  \n",
            "  inflating: valid/labels/traffic_img649_jpg.rf.108e6fa382de9cef967a65dfaf2e9c64.txt  \n",
            "  inflating: valid/labels/traffic_img649_jpg.rf.d29e2163787e1672d3a41fab7194f81b.txt  \n",
            "  inflating: valid/labels/traffic_img668_jpg.rf.e1635df70c5edac49ef25ecfac5eefd5.txt  \n",
            "  inflating: valid/labels/traffic_img688_jpg.rf.d873dd80cffa121619fac546f726229c.txt  \n",
            "  inflating: valid/labels/traffic_img693_jpg.rf.4f65114863980d9db073c0bf70ff7dda.txt  \n",
            "  inflating: valid/labels/traffic_img693_jpg.rf.ed6d645d018a6998655c93c96bbaf44f.txt  \n",
            " extracting: valid/labels/traffic_img703_jpg.rf.98a7a09196d87d7799a37e74f2aeb49e.txt  \n",
            "  inflating: valid/labels/traffic_img71_jpg.rf.f53d934709dc0f61f8b0e6cd7c37aba7.txt  \n",
            "  inflating: valid/labels/traffic_img756_jpg.rf.fe81e6e7ed6095cdaed098568f768e34.txt  \n",
            " extracting: valid/labels/traffic_img767_jpg.rf.3860f9db30971a6fd401d0cf57215fee.txt  \n",
            "  inflating: valid/labels/traffic_img7_jpg.rf.26719bc607bbe56054f34c242b979dfd.txt  \n",
            "  inflating: valid/labels/traffic_img7_jpg.rf.f117c7928e0fedd03cfa514361e5425c.txt  \n",
            "  inflating: valid/labels/traffic_img802_jpg.rf.41d7f74f734efa4a1d9359f0b177ea13.txt  \n",
            "  inflating: valid/labels/traffic_img802_jpg.rf.66670ceb52e75d493a7770c4a0d9a023.txt  \n",
            "  inflating: valid/labels/traffic_img804_jpg.rf.3dec4042fce2d34334e515b836ff539c.txt  \n",
            "  inflating: valid/labels/traffic_img805_jpg.rf.335d3e05d7fb927cbee087bc171c5b35.txt  \n",
            "  inflating: valid/labels/traffic_img83_jpg.rf.10a7e08652207ad22c9b1c0a65c75270.txt  \n",
            "  inflating: valid/labels/traffic_img949_jpg.rf.deb2b664ac5487795303fee89d4cdd1e.txt  \n",
            "  inflating: valid/labels/traffic_img950_jpg.rf.f2414b9a32546f9fdad6a38fe0d34d81.txt  \n",
            "  inflating: valid/labels/traffic_img953_jpg.rf.0c2bc819f76ae85d494c0381b5182817.txt  \n",
            " extracting: valid/labels/traffic_img988_jpg.rf.aec6a193337b75b28e592447a29e1ba2.txt  \n",
            " extracting: valid/labels/traffic_img991_jpg.rf.6baf7ded49fa204b06055628b4f18771.txt  \n",
            " extracting: valid/labels/traffic_img991_jpg.rf.d518554007564b0c344df534d23ff0dc.txt  \n",
            "  inflating: valid/labels/traffic_img99_jpg.rf.0281f6ea2774c5ef2d5cc58f2e9eba24.txt  \n",
            " extracting: valid/labels/tt1-v4_jpg.rf.c0f4f277ded9b4c7c7aff00e39231d85.txt  \n",
            "  inflating: valid/labels/tt1_png_jpg.rf.1e69a5b223814cc2dbdb0ea1aa6f5409.txt  \n",
            "  inflating: valid/labels/tt3_png_jpg.rf.3056b3f75841afffb7c2f8687fd57af8.txt  \n",
            "  inflating: valid/labels/tt3_png_jpg.rf.431476dcc15b352856ffa068a4859b3c.txt  \n",
            "  inflating: valid/labels/tt3_png_jpg.rf.966edded24532c4407b1c6063ec46be9.txt  \n",
            "  inflating: valid/labels/vd13_png_jpg.rf.42600b441b1cb7a22985233b83d6d222.txt  \n",
            "  inflating: valid/labels/vd13_png_jpg.rf.ededf7e182cb687ae70e5b3595c00402.txt  \n"
          ]
        }
      ],
      "source": [
        "!unzip /content/drive/MyDrive/Accident_Detection.v4i.yolov11.zip"
      ]
    },
    {
      "cell_type": "code",
      "execution_count": 4,
      "metadata": {
        "colab": {
          "base_uri": "https://localhost:8080/"
        },
        "id": "tylFMtRiP_ye",
        "outputId": "cf30616d-43a8-40a8-c5ef-4028d6fbd1f3"
      },
      "outputs": [
        {
          "output_type": "stream",
          "name": "stdout",
          "text": [
            "Collecting ultralytics\n",
            "  Downloading ultralytics-8.3.52-py3-none-any.whl.metadata (35 kB)\n",
            "Requirement already satisfied: numpy>=1.23.0 in /usr/local/lib/python3.10/dist-packages (from ultralytics) (1.26.4)\n",
            "Requirement already satisfied: matplotlib>=3.3.0 in /usr/local/lib/python3.10/dist-packages (from ultralytics) (3.8.0)\n",
            "Requirement already satisfied: opencv-python>=4.6.0 in /usr/local/lib/python3.10/dist-packages (from ultralytics) (4.10.0.84)\n",
            "Requirement already satisfied: pillow>=7.1.2 in /usr/local/lib/python3.10/dist-packages (from ultralytics) (11.0.0)\n",
            "Requirement already satisfied: pyyaml>=5.3.1 in /usr/local/lib/python3.10/dist-packages (from ultralytics) (6.0.2)\n",
            "Requirement already satisfied: requests>=2.23.0 in /usr/local/lib/python3.10/dist-packages (from ultralytics) (2.32.3)\n",
            "Requirement already satisfied: scipy>=1.4.1 in /usr/local/lib/python3.10/dist-packages (from ultralytics) (1.13.1)\n",
            "Requirement already satisfied: torch>=1.8.0 in /usr/local/lib/python3.10/dist-packages (from ultralytics) (2.5.1+cu121)\n",
            "Requirement already satisfied: torchvision>=0.9.0 in /usr/local/lib/python3.10/dist-packages (from ultralytics) (0.20.1+cu121)\n",
            "Requirement already satisfied: tqdm>=4.64.0 in /usr/local/lib/python3.10/dist-packages (from ultralytics) (4.67.1)\n",
            "Requirement already satisfied: psutil in /usr/local/lib/python3.10/dist-packages (from ultralytics) (5.9.5)\n",
            "Requirement already satisfied: py-cpuinfo in /usr/local/lib/python3.10/dist-packages (from ultralytics) (9.0.0)\n",
            "Requirement already satisfied: pandas>=1.1.4 in /usr/local/lib/python3.10/dist-packages (from ultralytics) (2.2.2)\n",
            "Requirement already satisfied: seaborn>=0.11.0 in /usr/local/lib/python3.10/dist-packages (from ultralytics) (0.13.2)\n",
            "Collecting ultralytics-thop>=2.0.0 (from ultralytics)\n",
            "  Downloading ultralytics_thop-2.0.13-py3-none-any.whl.metadata (9.4 kB)\n",
            "Requirement already satisfied: contourpy>=1.0.1 in /usr/local/lib/python3.10/dist-packages (from matplotlib>=3.3.0->ultralytics) (1.3.1)\n",
            "Requirement already satisfied: cycler>=0.10 in /usr/local/lib/python3.10/dist-packages (from matplotlib>=3.3.0->ultralytics) (0.12.1)\n",
            "Requirement already satisfied: fonttools>=4.22.0 in /usr/local/lib/python3.10/dist-packages (from matplotlib>=3.3.0->ultralytics) (4.55.3)\n",
            "Requirement already satisfied: kiwisolver>=1.0.1 in /usr/local/lib/python3.10/dist-packages (from matplotlib>=3.3.0->ultralytics) (1.4.7)\n",
            "Requirement already satisfied: packaging>=20.0 in /usr/local/lib/python3.10/dist-packages (from matplotlib>=3.3.0->ultralytics) (24.2)\n",
            "Requirement already satisfied: pyparsing>=2.3.1 in /usr/local/lib/python3.10/dist-packages (from matplotlib>=3.3.0->ultralytics) (3.2.0)\n",
            "Requirement already satisfied: python-dateutil>=2.7 in /usr/local/lib/python3.10/dist-packages (from matplotlib>=3.3.0->ultralytics) (2.8.2)\n",
            "Requirement already satisfied: pytz>=2020.1 in /usr/local/lib/python3.10/dist-packages (from pandas>=1.1.4->ultralytics) (2024.2)\n",
            "Requirement already satisfied: tzdata>=2022.7 in /usr/local/lib/python3.10/dist-packages (from pandas>=1.1.4->ultralytics) (2024.2)\n",
            "Requirement already satisfied: charset-normalizer<4,>=2 in /usr/local/lib/python3.10/dist-packages (from requests>=2.23.0->ultralytics) (3.4.0)\n",
            "Requirement already satisfied: idna<4,>=2.5 in /usr/local/lib/python3.10/dist-packages (from requests>=2.23.0->ultralytics) (3.10)\n",
            "Requirement already satisfied: urllib3<3,>=1.21.1 in /usr/local/lib/python3.10/dist-packages (from requests>=2.23.0->ultralytics) (2.2.3)\n",
            "Requirement already satisfied: certifi>=2017.4.17 in /usr/local/lib/python3.10/dist-packages (from requests>=2.23.0->ultralytics) (2024.12.14)\n",
            "Requirement already satisfied: filelock in /usr/local/lib/python3.10/dist-packages (from torch>=1.8.0->ultralytics) (3.16.1)\n",
            "Requirement already satisfied: typing-extensions>=4.8.0 in /usr/local/lib/python3.10/dist-packages (from torch>=1.8.0->ultralytics) (4.12.2)\n",
            "Requirement already satisfied: networkx in /usr/local/lib/python3.10/dist-packages (from torch>=1.8.0->ultralytics) (3.4.2)\n",
            "Requirement already satisfied: jinja2 in /usr/local/lib/python3.10/dist-packages (from torch>=1.8.0->ultralytics) (3.1.4)\n",
            "Requirement already satisfied: fsspec in /usr/local/lib/python3.10/dist-packages (from torch>=1.8.0->ultralytics) (2024.10.0)\n",
            "Requirement already satisfied: sympy==1.13.1 in /usr/local/lib/python3.10/dist-packages (from torch>=1.8.0->ultralytics) (1.13.1)\n",
            "Requirement already satisfied: mpmath<1.4,>=1.1.0 in /usr/local/lib/python3.10/dist-packages (from sympy==1.13.1->torch>=1.8.0->ultralytics) (1.3.0)\n",
            "Requirement already satisfied: six>=1.5 in /usr/local/lib/python3.10/dist-packages (from python-dateutil>=2.7->matplotlib>=3.3.0->ultralytics) (1.17.0)\n",
            "Requirement already satisfied: MarkupSafe>=2.0 in /usr/local/lib/python3.10/dist-packages (from jinja2->torch>=1.8.0->ultralytics) (3.0.2)\n",
            "Downloading ultralytics-8.3.52-py3-none-any.whl (901 kB)\n",
            "\u001b[2K   \u001b[90m━━━━━━━━━━━━━━━━━━━━━━━━━━━━━━━━━━━━━━━━\u001b[0m \u001b[32m901.7/901.7 kB\u001b[0m \u001b[31m51.0 MB/s\u001b[0m eta \u001b[36m0:00:00\u001b[0m\n",
            "\u001b[?25hDownloading ultralytics_thop-2.0.13-py3-none-any.whl (26 kB)\n",
            "Installing collected packages: ultralytics-thop, ultralytics\n",
            "Successfully installed ultralytics-8.3.52 ultralytics-thop-2.0.13\n"
          ]
        }
      ],
      "source": [
        "!pip install ultralytics"
      ]
    },
    {
      "cell_type": "code",
      "execution_count": 5,
      "metadata": {
        "colab": {
          "base_uri": "https://localhost:8080/"
        },
        "id": "GPDdIknXRP2c",
        "outputId": "ae47f12d-facc-45cd-f89c-1da63502cb52"
      },
      "outputs": [
        {
          "output_type": "stream",
          "name": "stdout",
          "text": [
            "Creating new Ultralytics Settings v0.0.6 file ✅ \n",
            "View Ultralytics Settings with 'yolo settings' or at '/root/.config/Ultralytics/settings.json'\n",
            "Update Settings with 'yolo settings key=value', i.e. 'yolo settings runs_dir=path/to/dir'. For help see https://docs.ultralytics.com/quickstart/#ultralytics-settings.\n",
            "JSONDict(\"/root/.config/Ultralytics/settings.json\"):\n",
            "{\n",
            "  \"settings_version\": \"0.0.6\",\n",
            "  \"datasets_dir\": \"/content/datasets\",\n",
            "  \"weights_dir\": \"weights\",\n",
            "  \"runs_dir\": \"runs\",\n",
            "  \"uuid\": \"569f3ba64b326db489132663f79cd37279811de477381b83ac131e6cdd129cbb\",\n",
            "  \"sync\": true,\n",
            "  \"api_key\": \"\",\n",
            "  \"openai_api_key\": \"\",\n",
            "  \"clearml\": true,\n",
            "  \"comet\": true,\n",
            "  \"dvc\": true,\n",
            "  \"hub\": true,\n",
            "  \"mlflow\": true,\n",
            "  \"neptune\": true,\n",
            "  \"raytune\": true,\n",
            "  \"tensorboard\": true,\n",
            "  \"wandb\": false,\n",
            "  \"vscode_msg\": true\n",
            "}\n",
            "💡 Learn more about Ultralytics Settings at https://docs.ultralytics.com/quickstart/#ultralytics-settings\n"
          ]
        }
      ],
      "source": [
        "!yolo settings wandb=False"
      ]
    },
    {
      "cell_type": "code",
      "execution_count": 6,
      "metadata": {
        "id": "rpTvNvwNR8wW"
      },
      "outputs": [],
      "source": [
        "from ultralytics import YOLO"
      ]
    },
    {
      "cell_type": "code",
      "execution_count": 7,
      "metadata": {
        "colab": {
          "base_uri": "https://localhost:8080/"
        },
        "id": "2Yf3JtovRhrU",
        "outputId": "80328b25-4390-420d-c8e2-094690ef2b68"
      },
      "outputs": [
        {
          "output_type": "stream",
          "name": "stdout",
          "text": [
            "Downloading https://github.com/ultralytics/assets/releases/download/v8.3.0/yolo11m.pt to 'yolo11m.pt'...\n"
          ]
        },
        {
          "output_type": "stream",
          "name": "stderr",
          "text": [
            "100%|██████████| 38.8M/38.8M [00:00<00:00, 46.9MB/s]\n"
          ]
        }
      ],
      "source": [
        "model = YOLO(\"yolo11m.pt\")"
      ]
    },
    {
      "cell_type": "code",
      "execution_count": 8,
      "metadata": {
        "colab": {
          "base_uri": "https://localhost:8080/"
        },
        "id": "x1zRSJMCY-ft",
        "outputId": "95fab769-070b-4f35-818c-e97a988c0a1c"
      },
      "outputs": [
        {
          "output_type": "stream",
          "name": "stdout",
          "text": [
            "YOLO11m summary: 409 layers, 20,114,688 parameters, 0 gradients, 68.5 GFLOPs\n"
          ]
        },
        {
          "output_type": "execute_result",
          "data": {
            "text/plain": [
              "(409, 20114688, 0, 68.52838399999999)"
            ]
          },
          "metadata": {},
          "execution_count": 8
        }
      ],
      "source": [
        "model.info()"
      ]
    },
    {
      "cell_type": "code",
      "execution_count": 9,
      "metadata": {
        "colab": {
          "base_uri": "https://localhost:8080/"
        },
        "id": "TE06EaiGSBEt",
        "outputId": "5b980589-0ff3-48a7-c8f2-f9d22ec9dd0a"
      },
      "outputs": [
        {
          "output_type": "stream",
          "name": "stdout",
          "text": [
            "Ultralytics 8.3.52 🚀 Python-3.10.12 torch-2.5.1+cu121 CUDA:0 (NVIDIA L4, 22700MiB)\n",
            "\u001b[34m\u001b[1mengine/trainer: \u001b[0mtask=detect, mode=train, model=yolo11m.pt, data=/content/data.yaml, epochs=100, time=None, patience=100, batch=32, imgsz=640, save=True, save_period=-1, cache=False, device=0, workers=8, project=None, name=train, exist_ok=False, pretrained=True, optimizer=auto, verbose=True, seed=0, deterministic=True, single_cls=False, rect=False, cos_lr=False, close_mosaic=10, resume=False, amp=True, fraction=1.0, profile=True, freeze=None, multi_scale=False, overlap_mask=True, mask_ratio=4, dropout=0.0, val=True, split=val, save_json=False, save_hybrid=False, conf=None, iou=0.7, max_det=300, half=False, dnn=False, plots=True, source=None, vid_stride=1, stream_buffer=False, visualize=False, augment=False, agnostic_nms=False, classes=None, retina_masks=False, embed=None, show=False, save_frames=False, save_txt=False, save_conf=False, save_crop=False, show_labels=True, show_conf=True, show_boxes=True, line_width=None, format=torchscript, keras=False, optimize=False, int8=False, dynamic=False, simplify=True, opset=None, workspace=None, nms=False, lr0=0.01, lrf=0.01, momentum=0.937, weight_decay=0.0005, warmup_epochs=3.0, warmup_momentum=0.8, warmup_bias_lr=0.1, box=7.5, cls=0.5, dfl=1.5, pose=12.0, kobj=1.0, nbs=64, hsv_h=0.015, hsv_s=0.7, hsv_v=0.4, degrees=0.0, translate=0.1, scale=0.5, shear=0.0, perspective=0.0, flipud=0.0, fliplr=0.5, bgr=0.0, mosaic=1.0, mixup=0.0, copy_paste=0.0, copy_paste_mode=flip, auto_augment=randaugment, erasing=0.4, crop_fraction=1.0, cfg=None, tracker=botsort.yaml, save_dir=runs/detect/train\n",
            "Downloading https://ultralytics.com/assets/Arial.ttf to '/root/.config/Ultralytics/Arial.ttf'...\n"
          ]
        },
        {
          "output_type": "stream",
          "name": "stderr",
          "text": [
            "100%|██████████| 755k/755k [00:00<00:00, 92.1MB/s]\n"
          ]
        },
        {
          "output_type": "stream",
          "name": "stdout",
          "text": [
            "Overriding model.yaml nc=80 with nc=1\n",
            "\n",
            "                   from  n    params  module                                       arguments                     \n",
            "  0                  -1  1      1856  ultralytics.nn.modules.conv.Conv             [3, 64, 3, 2]                 \n",
            "  1                  -1  1     73984  ultralytics.nn.modules.conv.Conv             [64, 128, 3, 2]               \n",
            "  2                  -1  1    111872  ultralytics.nn.modules.block.C3k2            [128, 256, 1, True, 0.25]     \n",
            "  3                  -1  1    590336  ultralytics.nn.modules.conv.Conv             [256, 256, 3, 2]              \n",
            "  4                  -1  1    444928  ultralytics.nn.modules.block.C3k2            [256, 512, 1, True, 0.25]     \n",
            "  5                  -1  1   2360320  ultralytics.nn.modules.conv.Conv             [512, 512, 3, 2]              \n",
            "  6                  -1  1   1380352  ultralytics.nn.modules.block.C3k2            [512, 512, 1, True]           \n",
            "  7                  -1  1   2360320  ultralytics.nn.modules.conv.Conv             [512, 512, 3, 2]              \n",
            "  8                  -1  1   1380352  ultralytics.nn.modules.block.C3k2            [512, 512, 1, True]           \n",
            "  9                  -1  1    656896  ultralytics.nn.modules.block.SPPF            [512, 512, 5]                 \n",
            " 10                  -1  1    990976  ultralytics.nn.modules.block.C2PSA           [512, 512, 1]                 \n",
            " 11                  -1  1         0  torch.nn.modules.upsampling.Upsample         [None, 2, 'nearest']          \n",
            " 12             [-1, 6]  1         0  ultralytics.nn.modules.conv.Concat           [1]                           \n",
            " 13                  -1  1   1642496  ultralytics.nn.modules.block.C3k2            [1024, 512, 1, True]          \n",
            " 14                  -1  1         0  torch.nn.modules.upsampling.Upsample         [None, 2, 'nearest']          \n",
            " 15             [-1, 4]  1         0  ultralytics.nn.modules.conv.Concat           [1]                           \n",
            " 16                  -1  1    542720  ultralytics.nn.modules.block.C3k2            [1024, 256, 1, True]          \n",
            " 17                  -1  1    590336  ultralytics.nn.modules.conv.Conv             [256, 256, 3, 2]              \n",
            " 18            [-1, 13]  1         0  ultralytics.nn.modules.conv.Concat           [1]                           \n",
            " 19                  -1  1   1511424  ultralytics.nn.modules.block.C3k2            [768, 512, 1, True]           \n",
            " 20                  -1  1   2360320  ultralytics.nn.modules.conv.Conv             [512, 512, 3, 2]              \n",
            " 21            [-1, 10]  1         0  ultralytics.nn.modules.conv.Concat           [1]                           \n",
            " 22                  -1  1   1642496  ultralytics.nn.modules.block.C3k2            [1024, 512, 1, True]          \n",
            " 23        [16, 19, 22]  1   1411795  ultralytics.nn.modules.head.Detect           [1, [256, 512, 512]]          \n",
            "YOLO11m summary: 409 layers, 20,053,779 parameters, 20,053,763 gradients, 68.2 GFLOPs\n",
            "\n",
            "Transferred 643/649 items from pretrained weights\n",
            "\u001b[34m\u001b[1mTensorBoard: \u001b[0mStart with 'tensorboard --logdir runs/detect/train', view at http://localhost:6006/\n",
            "Freezing layer 'model.23.dfl.conv.weight'\n",
            "\u001b[34m\u001b[1mAMP: \u001b[0mrunning Automatic Mixed Precision (AMP) checks...\n",
            "Downloading https://github.com/ultralytics/assets/releases/download/v8.3.0/yolo11n.pt to 'yolo11n.pt'...\n"
          ]
        },
        {
          "output_type": "stream",
          "name": "stderr",
          "text": [
            "100%|██████████| 5.35M/5.35M [00:00<00:00, 353MB/s]\n"
          ]
        },
        {
          "output_type": "stream",
          "name": "stdout",
          "text": [
            "\u001b[34m\u001b[1mAMP: \u001b[0mchecks passed ✅\n"
          ]
        },
        {
          "output_type": "stream",
          "name": "stderr",
          "text": [
            "\u001b[34m\u001b[1mtrain: \u001b[0mScanning /content/train/labels... 3958 images, 3 backgrounds, 0 corrupt: 100%|██████████| 3958/3958 [00:03<00:00, 1199.18it/s]\n"
          ]
        },
        {
          "output_type": "stream",
          "name": "stdout",
          "text": [
            "\u001b[34m\u001b[1mtrain: \u001b[0mNew cache created: /content/train/labels.cache\n",
            "\u001b[34m\u001b[1malbumentations: \u001b[0mBlur(p=0.01, blur_limit=(3, 7)), MedianBlur(p=0.01, blur_limit=(3, 7)), ToGray(p=0.01, num_output_channels=3, method='weighted_average'), CLAHE(p=0.01, clip_limit=(1.0, 4.0), tile_grid_size=(8, 8))\n"
          ]
        },
        {
          "output_type": "stream",
          "name": "stderr",
          "text": [
            "/usr/local/lib/python3.10/dist-packages/albumentations/__init__.py:24: UserWarning: A new version of Albumentations is available: 1.4.23 (you have 1.4.20). Upgrade using: pip install -U albumentations. To disable automatic update checks, set the environment variable NO_ALBUMENTATIONS_UPDATE to 1.\n",
            "  check_for_updates()\n",
            "\u001b[34m\u001b[1mval: \u001b[0mScanning /content/valid/labels... 1143 images, 1 backgrounds, 0 corrupt: 100%|██████████| 1143/1143 [00:01<00:00, 1022.06it/s]\n"
          ]
        },
        {
          "output_type": "stream",
          "name": "stdout",
          "text": [
            "\u001b[34m\u001b[1mval: \u001b[0mNew cache created: /content/valid/labels.cache\n",
            "Plotting labels to runs/detect/train/labels.jpg... \n",
            "\u001b[34m\u001b[1moptimizer:\u001b[0m 'optimizer=auto' found, ignoring 'lr0=0.01' and 'momentum=0.937' and determining best 'optimizer', 'lr0' and 'momentum' automatically... \n",
            "\u001b[34m\u001b[1moptimizer:\u001b[0m AdamW(lr=0.002, momentum=0.9) with parameter groups 106 weight(decay=0.0), 113 weight(decay=0.0005), 112 bias(decay=0.0)\n",
            "\u001b[34m\u001b[1mTensorBoard: \u001b[0mmodel graph visualization added ✅\n",
            "Image sizes 640 train, 640 val\n",
            "Using 8 dataloader workers\n",
            "Logging results to \u001b[1mruns/detect/train\u001b[0m\n",
            "Starting training for 100 epochs...\n",
            "\n",
            "      Epoch    GPU_mem   box_loss   cls_loss   dfl_loss  Instances       Size\n"
          ]
        },
        {
          "output_type": "stream",
          "name": "stderr",
          "text": [
            "      1/100      16.7G      1.327      1.608       1.62         58        640: 100%|██████████| 124/124 [01:32<00:00,  1.35it/s]\n",
            "                 Class     Images  Instances      Box(P          R      mAP50  mAP50-95): 100%|██████████| 18/18 [00:12<00:00,  1.45it/s]"
          ]
        },
        {
          "output_type": "stream",
          "name": "stdout",
          "text": [
            "                   all       1143       1196     0.0409      0.261     0.0162    0.00417\n"
          ]
        },
        {
          "output_type": "stream",
          "name": "stderr",
          "text": [
            "\n"
          ]
        },
        {
          "output_type": "stream",
          "name": "stdout",
          "text": [
            "\n",
            "      Epoch    GPU_mem   box_loss   cls_loss   dfl_loss  Instances       Size\n"
          ]
        },
        {
          "output_type": "stream",
          "name": "stderr",
          "text": [
            "      2/100      16.6G      1.625      1.793      1.851         45        640: 100%|██████████| 124/124 [01:30<00:00,  1.36it/s]\n",
            "                 Class     Images  Instances      Box(P          R      mAP50  mAP50-95): 100%|██████████| 18/18 [00:11<00:00,  1.58it/s]"
          ]
        },
        {
          "output_type": "stream",
          "name": "stdout",
          "text": [
            "                   all       1143       1196      0.396      0.503      0.385      0.177\n"
          ]
        },
        {
          "output_type": "stream",
          "name": "stderr",
          "text": [
            "\n"
          ]
        },
        {
          "output_type": "stream",
          "name": "stdout",
          "text": [
            "\n",
            "      Epoch    GPU_mem   box_loss   cls_loss   dfl_loss  Instances       Size\n"
          ]
        },
        {
          "output_type": "stream",
          "name": "stderr",
          "text": [
            "      3/100      16.6G       1.51      1.683      1.759         52        640: 100%|██████████| 124/124 [01:29<00:00,  1.38it/s]\n",
            "                 Class     Images  Instances      Box(P          R      mAP50  mAP50-95): 100%|██████████| 18/18 [00:11<00:00,  1.57it/s]"
          ]
        },
        {
          "output_type": "stream",
          "name": "stdout",
          "text": [
            "                   all       1143       1196      0.523      0.495      0.482      0.222\n"
          ]
        },
        {
          "output_type": "stream",
          "name": "stderr",
          "text": [
            "\n"
          ]
        },
        {
          "output_type": "stream",
          "name": "stdout",
          "text": [
            "\n",
            "      Epoch    GPU_mem   box_loss   cls_loss   dfl_loss  Instances       Size\n"
          ]
        },
        {
          "output_type": "stream",
          "name": "stderr",
          "text": [
            "      4/100      16.7G      1.448      1.549      1.708         50        640: 100%|██████████| 124/124 [01:29<00:00,  1.38it/s]\n",
            "                 Class     Images  Instances      Box(P          R      mAP50  mAP50-95): 100%|██████████| 18/18 [00:11<00:00,  1.58it/s]"
          ]
        },
        {
          "output_type": "stream",
          "name": "stdout",
          "text": [
            "                   all       1143       1196      0.443      0.515      0.452      0.212\n"
          ]
        },
        {
          "output_type": "stream",
          "name": "stderr",
          "text": [
            "\n"
          ]
        },
        {
          "output_type": "stream",
          "name": "stdout",
          "text": [
            "\n",
            "      Epoch    GPU_mem   box_loss   cls_loss   dfl_loss  Instances       Size\n"
          ]
        },
        {
          "output_type": "stream",
          "name": "stderr",
          "text": [
            "      5/100      16.6G      1.361       1.41      1.628         56        640: 100%|██████████| 124/124 [01:29<00:00,  1.38it/s]\n",
            "                 Class     Images  Instances      Box(P          R      mAP50  mAP50-95): 100%|██████████| 18/18 [00:11<00:00,  1.59it/s]"
          ]
        },
        {
          "output_type": "stream",
          "name": "stdout",
          "text": [
            "                   all       1143       1196      0.626      0.603      0.622      0.345\n"
          ]
        },
        {
          "output_type": "stream",
          "name": "stderr",
          "text": [
            "\n"
          ]
        },
        {
          "output_type": "stream",
          "name": "stdout",
          "text": [
            "\n",
            "      Epoch    GPU_mem   box_loss   cls_loss   dfl_loss  Instances       Size\n"
          ]
        },
        {
          "output_type": "stream",
          "name": "stderr",
          "text": [
            "      6/100      16.6G      1.291      1.348      1.585         40        640: 100%|██████████| 124/124 [01:29<00:00,  1.38it/s]\n",
            "                 Class     Images  Instances      Box(P          R      mAP50  mAP50-95): 100%|██████████| 18/18 [00:11<00:00,  1.59it/s]"
          ]
        },
        {
          "output_type": "stream",
          "name": "stdout",
          "text": [
            "                   all       1143       1196      0.768      0.639      0.737      0.454\n"
          ]
        },
        {
          "output_type": "stream",
          "name": "stderr",
          "text": [
            "\n"
          ]
        },
        {
          "output_type": "stream",
          "name": "stdout",
          "text": [
            "\n",
            "      Epoch    GPU_mem   box_loss   cls_loss   dfl_loss  Instances       Size\n"
          ]
        },
        {
          "output_type": "stream",
          "name": "stderr",
          "text": [
            "      7/100      16.6G      1.236      1.256      1.541         44        640: 100%|██████████| 124/124 [01:29<00:00,  1.38it/s]\n",
            "                 Class     Images  Instances      Box(P          R      mAP50  mAP50-95): 100%|██████████| 18/18 [00:11<00:00,  1.58it/s]"
          ]
        },
        {
          "output_type": "stream",
          "name": "stdout",
          "text": [
            "                   all       1143       1196      0.713       0.68       0.74      0.453\n"
          ]
        },
        {
          "output_type": "stream",
          "name": "stderr",
          "text": [
            "\n"
          ]
        },
        {
          "output_type": "stream",
          "name": "stdout",
          "text": [
            "\n",
            "      Epoch    GPU_mem   box_loss   cls_loss   dfl_loss  Instances       Size\n"
          ]
        },
        {
          "output_type": "stream",
          "name": "stderr",
          "text": [
            "      8/100      16.6G      1.197      1.192      1.524         47        640: 100%|██████████| 124/124 [01:29<00:00,  1.38it/s]\n",
            "                 Class     Images  Instances      Box(P          R      mAP50  mAP50-95): 100%|██████████| 18/18 [00:11<00:00,  1.58it/s]"
          ]
        },
        {
          "output_type": "stream",
          "name": "stdout",
          "text": [
            "                   all       1143       1196      0.731      0.706      0.762      0.496\n"
          ]
        },
        {
          "output_type": "stream",
          "name": "stderr",
          "text": [
            "\n"
          ]
        },
        {
          "output_type": "stream",
          "name": "stdout",
          "text": [
            "\n",
            "      Epoch    GPU_mem   box_loss   cls_loss   dfl_loss  Instances       Size\n"
          ]
        },
        {
          "output_type": "stream",
          "name": "stderr",
          "text": [
            "      9/100      16.6G      1.148      1.141      1.466         46        640: 100%|██████████| 124/124 [01:29<00:00,  1.38it/s]\n",
            "                 Class     Images  Instances      Box(P          R      mAP50  mAP50-95): 100%|██████████| 18/18 [00:11<00:00,  1.59it/s]"
          ]
        },
        {
          "output_type": "stream",
          "name": "stdout",
          "text": [
            "                   all       1143       1196      0.811      0.717      0.796      0.552\n"
          ]
        },
        {
          "output_type": "stream",
          "name": "stderr",
          "text": [
            "\n"
          ]
        },
        {
          "output_type": "stream",
          "name": "stdout",
          "text": [
            "\n",
            "      Epoch    GPU_mem   box_loss   cls_loss   dfl_loss  Instances       Size\n"
          ]
        },
        {
          "output_type": "stream",
          "name": "stderr",
          "text": [
            "     10/100      16.6G      1.125        1.1      1.446         51        640: 100%|██████████| 124/124 [01:29<00:00,  1.38it/s]\n",
            "                 Class     Images  Instances      Box(P          R      mAP50  mAP50-95): 100%|██████████| 18/18 [00:11<00:00,  1.58it/s]"
          ]
        },
        {
          "output_type": "stream",
          "name": "stdout",
          "text": [
            "                   all       1143       1196       0.68      0.648        0.7      0.396\n"
          ]
        },
        {
          "output_type": "stream",
          "name": "stderr",
          "text": [
            "\n"
          ]
        },
        {
          "output_type": "stream",
          "name": "stdout",
          "text": [
            "\n",
            "      Epoch    GPU_mem   box_loss   cls_loss   dfl_loss  Instances       Size\n"
          ]
        },
        {
          "output_type": "stream",
          "name": "stderr",
          "text": [
            "     11/100      16.6G      1.117      1.079      1.447         47        640: 100%|██████████| 124/124 [01:29<00:00,  1.38it/s]\n",
            "                 Class     Images  Instances      Box(P          R      mAP50  mAP50-95): 100%|██████████| 18/18 [00:11<00:00,  1.59it/s]"
          ]
        },
        {
          "output_type": "stream",
          "name": "stdout",
          "text": [
            "                   all       1143       1196      0.744      0.736        0.8      0.529\n"
          ]
        },
        {
          "output_type": "stream",
          "name": "stderr",
          "text": [
            "\n"
          ]
        },
        {
          "output_type": "stream",
          "name": "stdout",
          "text": [
            "\n",
            "      Epoch    GPU_mem   box_loss   cls_loss   dfl_loss  Instances       Size\n"
          ]
        },
        {
          "output_type": "stream",
          "name": "stderr",
          "text": [
            "     12/100      16.6G      1.067      1.042      1.413         45        640: 100%|██████████| 124/124 [01:30<00:00,  1.38it/s]\n",
            "                 Class     Images  Instances      Box(P          R      mAP50  mAP50-95): 100%|██████████| 18/18 [00:11<00:00,  1.59it/s]"
          ]
        },
        {
          "output_type": "stream",
          "name": "stdout",
          "text": [
            "                   all       1143       1196      0.754      0.758      0.796      0.551\n"
          ]
        },
        {
          "output_type": "stream",
          "name": "stderr",
          "text": [
            "\n"
          ]
        },
        {
          "output_type": "stream",
          "name": "stdout",
          "text": [
            "\n",
            "      Epoch    GPU_mem   box_loss   cls_loss   dfl_loss  Instances       Size\n"
          ]
        },
        {
          "output_type": "stream",
          "name": "stderr",
          "text": [
            "     13/100      16.6G      1.058      1.003      1.399         45        640: 100%|██████████| 124/124 [01:29<00:00,  1.38it/s]\n",
            "                 Class     Images  Instances      Box(P          R      mAP50  mAP50-95): 100%|██████████| 18/18 [00:11<00:00,  1.58it/s]"
          ]
        },
        {
          "output_type": "stream",
          "name": "stdout",
          "text": [
            "                   all       1143       1196      0.821      0.793      0.859      0.607\n"
          ]
        },
        {
          "output_type": "stream",
          "name": "stderr",
          "text": [
            "\n"
          ]
        },
        {
          "output_type": "stream",
          "name": "stdout",
          "text": [
            "\n",
            "      Epoch    GPU_mem   box_loss   cls_loss   dfl_loss  Instances       Size\n"
          ]
        },
        {
          "output_type": "stream",
          "name": "stderr",
          "text": [
            "     14/100      16.6G      1.038     0.9856      1.386         52        640: 100%|██████████| 124/124 [01:29<00:00,  1.38it/s]\n",
            "                 Class     Images  Instances      Box(P          R      mAP50  mAP50-95): 100%|██████████| 18/18 [00:11<00:00,  1.59it/s]"
          ]
        },
        {
          "output_type": "stream",
          "name": "stdout",
          "text": [
            "                   all       1143       1196      0.843      0.785       0.87      0.628\n"
          ]
        },
        {
          "output_type": "stream",
          "name": "stderr",
          "text": [
            "\n"
          ]
        },
        {
          "output_type": "stream",
          "name": "stdout",
          "text": [
            "\n",
            "      Epoch    GPU_mem   box_loss   cls_loss   dfl_loss  Instances       Size\n"
          ]
        },
        {
          "output_type": "stream",
          "name": "stderr",
          "text": [
            "     15/100      16.6G       1.03     0.9767      1.376         49        640: 100%|██████████| 124/124 [01:29<00:00,  1.38it/s]\n",
            "                 Class     Images  Instances      Box(P          R      mAP50  mAP50-95): 100%|██████████| 18/18 [00:11<00:00,  1.59it/s]"
          ]
        },
        {
          "output_type": "stream",
          "name": "stdout",
          "text": [
            "                   all       1143       1196      0.805      0.715      0.815      0.567\n"
          ]
        },
        {
          "output_type": "stream",
          "name": "stderr",
          "text": [
            "\n"
          ]
        },
        {
          "output_type": "stream",
          "name": "stdout",
          "text": [
            "\n",
            "      Epoch    GPU_mem   box_loss   cls_loss   dfl_loss  Instances       Size\n"
          ]
        },
        {
          "output_type": "stream",
          "name": "stderr",
          "text": [
            "     16/100      16.6G      1.001     0.9369      1.361         54        640: 100%|██████████| 124/124 [01:29<00:00,  1.38it/s]\n",
            "                 Class     Images  Instances      Box(P          R      mAP50  mAP50-95): 100%|██████████| 18/18 [00:11<00:00,  1.59it/s]"
          ]
        },
        {
          "output_type": "stream",
          "name": "stdout",
          "text": [
            "                   all       1143       1196      0.849      0.778      0.868      0.637\n"
          ]
        },
        {
          "output_type": "stream",
          "name": "stderr",
          "text": [
            "\n"
          ]
        },
        {
          "output_type": "stream",
          "name": "stdout",
          "text": [
            "\n",
            "      Epoch    GPU_mem   box_loss   cls_loss   dfl_loss  Instances       Size\n"
          ]
        },
        {
          "output_type": "stream",
          "name": "stderr",
          "text": [
            "     17/100      16.6G     0.9903     0.9205      1.345         49        640: 100%|██████████| 124/124 [01:29<00:00,  1.38it/s]\n",
            "                 Class     Images  Instances      Box(P          R      mAP50  mAP50-95): 100%|██████████| 18/18 [00:11<00:00,  1.59it/s]"
          ]
        },
        {
          "output_type": "stream",
          "name": "stdout",
          "text": [
            "                   all       1143       1196      0.866       0.83        0.9      0.676\n"
          ]
        },
        {
          "output_type": "stream",
          "name": "stderr",
          "text": [
            "\n"
          ]
        },
        {
          "output_type": "stream",
          "name": "stdout",
          "text": [
            "\n",
            "      Epoch    GPU_mem   box_loss   cls_loss   dfl_loss  Instances       Size\n"
          ]
        },
        {
          "output_type": "stream",
          "name": "stderr",
          "text": [
            "     18/100      16.6G     0.9864     0.9011      1.341         50        640: 100%|██████████| 124/124 [01:29<00:00,  1.38it/s]\n",
            "                 Class     Images  Instances      Box(P          R      mAP50  mAP50-95): 100%|██████████| 18/18 [00:11<00:00,  1.59it/s]"
          ]
        },
        {
          "output_type": "stream",
          "name": "stdout",
          "text": [
            "                   all       1143       1196      0.874      0.779      0.897      0.686\n"
          ]
        },
        {
          "output_type": "stream",
          "name": "stderr",
          "text": [
            "\n"
          ]
        },
        {
          "output_type": "stream",
          "name": "stdout",
          "text": [
            "\n",
            "      Epoch    GPU_mem   box_loss   cls_loss   dfl_loss  Instances       Size\n"
          ]
        },
        {
          "output_type": "stream",
          "name": "stderr",
          "text": [
            "     19/100      16.6G     0.9675     0.8763      1.333         56        640: 100%|██████████| 124/124 [01:29<00:00,  1.38it/s]\n",
            "                 Class     Images  Instances      Box(P          R      mAP50  mAP50-95): 100%|██████████| 18/18 [00:11<00:00,  1.59it/s]"
          ]
        },
        {
          "output_type": "stream",
          "name": "stdout",
          "text": [
            "                   all       1143       1196      0.815      0.829      0.875      0.649\n"
          ]
        },
        {
          "output_type": "stream",
          "name": "stderr",
          "text": [
            "\n"
          ]
        },
        {
          "output_type": "stream",
          "name": "stdout",
          "text": [
            "\n",
            "      Epoch    GPU_mem   box_loss   cls_loss   dfl_loss  Instances       Size\n"
          ]
        },
        {
          "output_type": "stream",
          "name": "stderr",
          "text": [
            "     20/100      16.6G     0.9678     0.8753      1.336         50        640: 100%|██████████| 124/124 [01:29<00:00,  1.38it/s]\n",
            "                 Class     Images  Instances      Box(P          R      mAP50  mAP50-95): 100%|██████████| 18/18 [00:11<00:00,  1.59it/s]"
          ]
        },
        {
          "output_type": "stream",
          "name": "stdout",
          "text": [
            "                   all       1143       1196      0.804      0.799      0.865       0.65\n"
          ]
        },
        {
          "output_type": "stream",
          "name": "stderr",
          "text": [
            "\n"
          ]
        },
        {
          "output_type": "stream",
          "name": "stdout",
          "text": [
            "\n",
            "      Epoch    GPU_mem   box_loss   cls_loss   dfl_loss  Instances       Size\n"
          ]
        },
        {
          "output_type": "stream",
          "name": "stderr",
          "text": [
            "     21/100      16.6G     0.9463     0.8658       1.32         45        640: 100%|██████████| 124/124 [01:29<00:00,  1.38it/s]\n",
            "                 Class     Images  Instances      Box(P          R      mAP50  mAP50-95): 100%|██████████| 18/18 [00:11<00:00,  1.59it/s]"
          ]
        },
        {
          "output_type": "stream",
          "name": "stdout",
          "text": [
            "                   all       1143       1196      0.852      0.848      0.909      0.703\n"
          ]
        },
        {
          "output_type": "stream",
          "name": "stderr",
          "text": [
            "\n"
          ]
        },
        {
          "output_type": "stream",
          "name": "stdout",
          "text": [
            "\n",
            "      Epoch    GPU_mem   box_loss   cls_loss   dfl_loss  Instances       Size\n"
          ]
        },
        {
          "output_type": "stream",
          "name": "stderr",
          "text": [
            "     22/100      16.6G     0.9483     0.8428      1.319         57        640: 100%|██████████| 124/124 [01:29<00:00,  1.38it/s]\n",
            "                 Class     Images  Instances      Box(P          R      mAP50  mAP50-95): 100%|██████████| 18/18 [00:11<00:00,  1.59it/s]"
          ]
        },
        {
          "output_type": "stream",
          "name": "stdout",
          "text": [
            "                   all       1143       1196       0.87       0.83       0.91        0.7\n"
          ]
        },
        {
          "output_type": "stream",
          "name": "stderr",
          "text": [
            "\n"
          ]
        },
        {
          "output_type": "stream",
          "name": "stdout",
          "text": [
            "\n",
            "      Epoch    GPU_mem   box_loss   cls_loss   dfl_loss  Instances       Size\n"
          ]
        },
        {
          "output_type": "stream",
          "name": "stderr",
          "text": [
            "     23/100      16.6G     0.9338       0.83      1.305         46        640: 100%|██████████| 124/124 [01:29<00:00,  1.38it/s]\n",
            "                 Class     Images  Instances      Box(P          R      mAP50  mAP50-95): 100%|██████████| 18/18 [00:11<00:00,  1.60it/s]"
          ]
        },
        {
          "output_type": "stream",
          "name": "stdout",
          "text": [
            "                   all       1143       1196      0.862      0.855      0.914      0.713\n"
          ]
        },
        {
          "output_type": "stream",
          "name": "stderr",
          "text": [
            "\n"
          ]
        },
        {
          "output_type": "stream",
          "name": "stdout",
          "text": [
            "\n",
            "      Epoch    GPU_mem   box_loss   cls_loss   dfl_loss  Instances       Size\n"
          ]
        },
        {
          "output_type": "stream",
          "name": "stderr",
          "text": [
            "     24/100      16.6G     0.9105     0.7984      1.289         45        640: 100%|██████████| 124/124 [01:29<00:00,  1.38it/s]\n",
            "                 Class     Images  Instances      Box(P          R      mAP50  mAP50-95): 100%|██████████| 18/18 [00:11<00:00,  1.59it/s]"
          ]
        },
        {
          "output_type": "stream",
          "name": "stdout",
          "text": [
            "                   all       1143       1196      0.887      0.844      0.917      0.721\n"
          ]
        },
        {
          "output_type": "stream",
          "name": "stderr",
          "text": [
            "\n"
          ]
        },
        {
          "output_type": "stream",
          "name": "stdout",
          "text": [
            "\n",
            "      Epoch    GPU_mem   box_loss   cls_loss   dfl_loss  Instances       Size\n"
          ]
        },
        {
          "output_type": "stream",
          "name": "stderr",
          "text": [
            "     25/100      16.6G     0.8902     0.7759      1.276         53        640: 100%|██████████| 124/124 [01:29<00:00,  1.38it/s]\n",
            "                 Class     Images  Instances      Box(P          R      mAP50  mAP50-95): 100%|██████████| 18/18 [00:11<00:00,  1.59it/s]"
          ]
        },
        {
          "output_type": "stream",
          "name": "stdout",
          "text": [
            "                   all       1143       1196      0.889      0.882      0.934      0.745\n"
          ]
        },
        {
          "output_type": "stream",
          "name": "stderr",
          "text": [
            "\n"
          ]
        },
        {
          "output_type": "stream",
          "name": "stdout",
          "text": [
            "\n",
            "      Epoch    GPU_mem   box_loss   cls_loss   dfl_loss  Instances       Size\n"
          ]
        },
        {
          "output_type": "stream",
          "name": "stderr",
          "text": [
            "     26/100      16.7G     0.8864     0.7613      1.273         51        640: 100%|██████████| 124/124 [01:29<00:00,  1.38it/s]\n",
            "                 Class     Images  Instances      Box(P          R      mAP50  mAP50-95): 100%|██████████| 18/18 [00:11<00:00,  1.60it/s]"
          ]
        },
        {
          "output_type": "stream",
          "name": "stdout",
          "text": [
            "                   all       1143       1196      0.903      0.823      0.911      0.704\n"
          ]
        },
        {
          "output_type": "stream",
          "name": "stderr",
          "text": [
            "\n"
          ]
        },
        {
          "output_type": "stream",
          "name": "stdout",
          "text": [
            "\n",
            "      Epoch    GPU_mem   box_loss   cls_loss   dfl_loss  Instances       Size\n"
          ]
        },
        {
          "output_type": "stream",
          "name": "stderr",
          "text": [
            "     27/100      16.6G     0.8711     0.7521      1.267         53        640: 100%|██████████| 124/124 [01:29<00:00,  1.38it/s]\n",
            "                 Class     Images  Instances      Box(P          R      mAP50  mAP50-95): 100%|██████████| 18/18 [00:11<00:00,  1.60it/s]"
          ]
        },
        {
          "output_type": "stream",
          "name": "stdout",
          "text": [
            "                   all       1143       1196      0.911      0.851      0.927      0.746\n"
          ]
        },
        {
          "output_type": "stream",
          "name": "stderr",
          "text": [
            "\n"
          ]
        },
        {
          "output_type": "stream",
          "name": "stdout",
          "text": [
            "\n",
            "      Epoch    GPU_mem   box_loss   cls_loss   dfl_loss  Instances       Size\n"
          ]
        },
        {
          "output_type": "stream",
          "name": "stderr",
          "text": [
            "     28/100      16.6G       0.87     0.7695      1.262         43        640: 100%|██████████| 124/124 [01:29<00:00,  1.38it/s]\n",
            "                 Class     Images  Instances      Box(P          R      mAP50  mAP50-95): 100%|██████████| 18/18 [00:11<00:00,  1.59it/s]"
          ]
        },
        {
          "output_type": "stream",
          "name": "stdout",
          "text": [
            "                   all       1143       1196      0.911      0.833      0.924      0.739\n"
          ]
        },
        {
          "output_type": "stream",
          "name": "stderr",
          "text": [
            "\n"
          ]
        },
        {
          "output_type": "stream",
          "name": "stdout",
          "text": [
            "\n",
            "      Epoch    GPU_mem   box_loss   cls_loss   dfl_loss  Instances       Size\n"
          ]
        },
        {
          "output_type": "stream",
          "name": "stderr",
          "text": [
            "     29/100      16.6G     0.8551     0.7248      1.251         54        640: 100%|██████████| 124/124 [01:29<00:00,  1.38it/s]\n",
            "                 Class     Images  Instances      Box(P          R      mAP50  mAP50-95): 100%|██████████| 18/18 [00:11<00:00,  1.59it/s]"
          ]
        },
        {
          "output_type": "stream",
          "name": "stdout",
          "text": [
            "                   all       1143       1196      0.893      0.885      0.941      0.761\n"
          ]
        },
        {
          "output_type": "stream",
          "name": "stderr",
          "text": [
            "\n"
          ]
        },
        {
          "output_type": "stream",
          "name": "stdout",
          "text": [
            "\n",
            "      Epoch    GPU_mem   box_loss   cls_loss   dfl_loss  Instances       Size\n"
          ]
        },
        {
          "output_type": "stream",
          "name": "stderr",
          "text": [
            "     30/100      16.6G     0.8302     0.7068      1.233         57        640: 100%|██████████| 124/124 [01:29<00:00,  1.38it/s]\n",
            "                 Class     Images  Instances      Box(P          R      mAP50  mAP50-95): 100%|██████████| 18/18 [00:11<00:00,  1.61it/s]"
          ]
        },
        {
          "output_type": "stream",
          "name": "stdout",
          "text": [
            "                   all       1143       1196      0.905      0.894      0.943       0.77\n"
          ]
        },
        {
          "output_type": "stream",
          "name": "stderr",
          "text": [
            "\n"
          ]
        },
        {
          "output_type": "stream",
          "name": "stdout",
          "text": [
            "\n",
            "      Epoch    GPU_mem   box_loss   cls_loss   dfl_loss  Instances       Size\n"
          ]
        },
        {
          "output_type": "stream",
          "name": "stderr",
          "text": [
            "     31/100      16.6G     0.8364     0.7145      1.237         40        640: 100%|██████████| 124/124 [01:29<00:00,  1.38it/s]\n",
            "                 Class     Images  Instances      Box(P          R      mAP50  mAP50-95): 100%|██████████| 18/18 [00:11<00:00,  1.60it/s]"
          ]
        },
        {
          "output_type": "stream",
          "name": "stdout",
          "text": [
            "                   all       1143       1196      0.918       0.89      0.951      0.789\n"
          ]
        },
        {
          "output_type": "stream",
          "name": "stderr",
          "text": [
            "\n"
          ]
        },
        {
          "output_type": "stream",
          "name": "stdout",
          "text": [
            "\n",
            "      Epoch    GPU_mem   box_loss   cls_loss   dfl_loss  Instances       Size\n"
          ]
        },
        {
          "output_type": "stream",
          "name": "stderr",
          "text": [
            "     32/100      16.6G     0.8247     0.7003      1.229         41        640: 100%|██████████| 124/124 [01:29<00:00,  1.38it/s]\n",
            "                 Class     Images  Instances      Box(P          R      mAP50  mAP50-95): 100%|██████████| 18/18 [00:11<00:00,  1.60it/s]"
          ]
        },
        {
          "output_type": "stream",
          "name": "stdout",
          "text": [
            "                   all       1143       1196      0.919      0.881      0.943      0.784\n"
          ]
        },
        {
          "output_type": "stream",
          "name": "stderr",
          "text": [
            "\n"
          ]
        },
        {
          "output_type": "stream",
          "name": "stdout",
          "text": [
            "\n",
            "      Epoch    GPU_mem   box_loss   cls_loss   dfl_loss  Instances       Size\n"
          ]
        },
        {
          "output_type": "stream",
          "name": "stderr",
          "text": [
            "     33/100      16.6G     0.8204     0.6926      1.226         55        640: 100%|██████████| 124/124 [01:29<00:00,  1.38it/s]\n",
            "                 Class     Images  Instances      Box(P          R      mAP50  mAP50-95): 100%|██████████| 18/18 [00:11<00:00,  1.60it/s]"
          ]
        },
        {
          "output_type": "stream",
          "name": "stdout",
          "text": [
            "                   all       1143       1196      0.895       0.87      0.925      0.758\n"
          ]
        },
        {
          "output_type": "stream",
          "name": "stderr",
          "text": [
            "\n"
          ]
        },
        {
          "output_type": "stream",
          "name": "stdout",
          "text": [
            "\n",
            "      Epoch    GPU_mem   box_loss   cls_loss   dfl_loss  Instances       Size\n"
          ]
        },
        {
          "output_type": "stream",
          "name": "stderr",
          "text": [
            "     34/100      16.6G     0.7988     0.6747       1.21         40        640: 100%|██████████| 124/124 [01:29<00:00,  1.38it/s]\n",
            "                 Class     Images  Instances      Box(P          R      mAP50  mAP50-95): 100%|██████████| 18/18 [00:11<00:00,  1.60it/s]"
          ]
        },
        {
          "output_type": "stream",
          "name": "stdout",
          "text": [
            "                   all       1143       1196      0.929      0.883      0.951      0.792\n"
          ]
        },
        {
          "output_type": "stream",
          "name": "stderr",
          "text": [
            "\n"
          ]
        },
        {
          "output_type": "stream",
          "name": "stdout",
          "text": [
            "\n",
            "      Epoch    GPU_mem   box_loss   cls_loss   dfl_loss  Instances       Size\n"
          ]
        },
        {
          "output_type": "stream",
          "name": "stderr",
          "text": [
            "     35/100      16.6G     0.7981     0.6695       1.21         48        640: 100%|██████████| 124/124 [01:29<00:00,  1.38it/s]\n",
            "                 Class     Images  Instances      Box(P          R      mAP50  mAP50-95): 100%|██████████| 18/18 [00:11<00:00,  1.60it/s]"
          ]
        },
        {
          "output_type": "stream",
          "name": "stdout",
          "text": [
            "                   all       1143       1196      0.911        0.9      0.955      0.806\n"
          ]
        },
        {
          "output_type": "stream",
          "name": "stderr",
          "text": [
            "\n"
          ]
        },
        {
          "output_type": "stream",
          "name": "stdout",
          "text": [
            "\n",
            "      Epoch    GPU_mem   box_loss   cls_loss   dfl_loss  Instances       Size\n"
          ]
        },
        {
          "output_type": "stream",
          "name": "stderr",
          "text": [
            "     36/100      16.6G     0.7786     0.6491      1.194         46        640: 100%|██████████| 124/124 [01:29<00:00,  1.38it/s]\n",
            "                 Class     Images  Instances      Box(P          R      mAP50  mAP50-95): 100%|██████████| 18/18 [00:11<00:00,  1.61it/s]"
          ]
        },
        {
          "output_type": "stream",
          "name": "stdout",
          "text": [
            "                   all       1143       1196      0.919      0.912      0.961      0.816\n"
          ]
        },
        {
          "output_type": "stream",
          "name": "stderr",
          "text": [
            "\n"
          ]
        },
        {
          "output_type": "stream",
          "name": "stdout",
          "text": [
            "\n",
            "      Epoch    GPU_mem   box_loss   cls_loss   dfl_loss  Instances       Size\n"
          ]
        },
        {
          "output_type": "stream",
          "name": "stderr",
          "text": [
            "     37/100      16.6G     0.7834     0.6335      1.199         50        640: 100%|██████████| 124/124 [01:29<00:00,  1.38it/s]\n",
            "                 Class     Images  Instances      Box(P          R      mAP50  mAP50-95): 100%|██████████| 18/18 [00:11<00:00,  1.61it/s]"
          ]
        },
        {
          "output_type": "stream",
          "name": "stdout",
          "text": [
            "                   all       1143       1196      0.945      0.914      0.963      0.809\n"
          ]
        },
        {
          "output_type": "stream",
          "name": "stderr",
          "text": [
            "\n"
          ]
        },
        {
          "output_type": "stream",
          "name": "stdout",
          "text": [
            "\n",
            "      Epoch    GPU_mem   box_loss   cls_loss   dfl_loss  Instances       Size\n"
          ]
        },
        {
          "output_type": "stream",
          "name": "stderr",
          "text": [
            "     38/100      16.6G     0.7828     0.6393      1.194         42        640: 100%|██████████| 124/124 [01:29<00:00,  1.38it/s]\n",
            "                 Class     Images  Instances      Box(P          R      mAP50  mAP50-95): 100%|██████████| 18/18 [00:11<00:00,  1.61it/s]"
          ]
        },
        {
          "output_type": "stream",
          "name": "stdout",
          "text": [
            "                   all       1143       1196      0.949      0.911      0.968      0.823\n"
          ]
        },
        {
          "output_type": "stream",
          "name": "stderr",
          "text": [
            "\n"
          ]
        },
        {
          "output_type": "stream",
          "name": "stdout",
          "text": [
            "\n",
            "      Epoch    GPU_mem   box_loss   cls_loss   dfl_loss  Instances       Size\n"
          ]
        },
        {
          "output_type": "stream",
          "name": "stderr",
          "text": [
            "     39/100      16.6G     0.7905     0.6475      1.204         38        640: 100%|██████████| 124/124 [01:29<00:00,  1.38it/s]\n",
            "                 Class     Images  Instances      Box(P          R      mAP50  mAP50-95): 100%|██████████| 18/18 [00:11<00:00,  1.61it/s]"
          ]
        },
        {
          "output_type": "stream",
          "name": "stdout",
          "text": [
            "                   all       1143       1196       0.94       0.92      0.967      0.818\n"
          ]
        },
        {
          "output_type": "stream",
          "name": "stderr",
          "text": [
            "\n"
          ]
        },
        {
          "output_type": "stream",
          "name": "stdout",
          "text": [
            "\n",
            "      Epoch    GPU_mem   box_loss   cls_loss   dfl_loss  Instances       Size\n"
          ]
        },
        {
          "output_type": "stream",
          "name": "stderr",
          "text": [
            "     40/100      16.6G     0.7738     0.6356      1.195         37        640: 100%|██████████| 124/124 [01:29<00:00,  1.38it/s]\n",
            "                 Class     Images  Instances      Box(P          R      mAP50  mAP50-95): 100%|██████████| 18/18 [00:11<00:00,  1.61it/s]"
          ]
        },
        {
          "output_type": "stream",
          "name": "stdout",
          "text": [
            "                   all       1143       1196      0.925      0.933      0.962      0.827\n"
          ]
        },
        {
          "output_type": "stream",
          "name": "stderr",
          "text": [
            "\n"
          ]
        },
        {
          "output_type": "stream",
          "name": "stdout",
          "text": [
            "\n",
            "      Epoch    GPU_mem   box_loss   cls_loss   dfl_loss  Instances       Size\n"
          ]
        },
        {
          "output_type": "stream",
          "name": "stderr",
          "text": [
            "     41/100      16.6G     0.7571     0.6255      1.184         38        640: 100%|██████████| 124/124 [01:29<00:00,  1.38it/s]\n",
            "                 Class     Images  Instances      Box(P          R      mAP50  mAP50-95): 100%|██████████| 18/18 [00:11<00:00,  1.61it/s]"
          ]
        },
        {
          "output_type": "stream",
          "name": "stdout",
          "text": [
            "                   all       1143       1196      0.886      0.919      0.949      0.805\n"
          ]
        },
        {
          "output_type": "stream",
          "name": "stderr",
          "text": [
            "\n"
          ]
        },
        {
          "output_type": "stream",
          "name": "stdout",
          "text": [
            "\n",
            "      Epoch    GPU_mem   box_loss   cls_loss   dfl_loss  Instances       Size\n"
          ]
        },
        {
          "output_type": "stream",
          "name": "stderr",
          "text": [
            "     42/100      16.6G     0.7431     0.6128      1.175         47        640: 100%|██████████| 124/124 [01:29<00:00,  1.38it/s]\n",
            "                 Class     Images  Instances      Box(P          R      mAP50  mAP50-95): 100%|██████████| 18/18 [00:11<00:00,  1.61it/s]"
          ]
        },
        {
          "output_type": "stream",
          "name": "stdout",
          "text": [
            "                   all       1143       1196       0.94      0.924      0.965      0.827\n"
          ]
        },
        {
          "output_type": "stream",
          "name": "stderr",
          "text": [
            "\n"
          ]
        },
        {
          "output_type": "stream",
          "name": "stdout",
          "text": [
            "\n",
            "      Epoch    GPU_mem   box_loss   cls_loss   dfl_loss  Instances       Size\n"
          ]
        },
        {
          "output_type": "stream",
          "name": "stderr",
          "text": [
            "     43/100      16.6G     0.7331     0.6054       1.16         55        640: 100%|██████████| 124/124 [01:29<00:00,  1.38it/s]\n",
            "                 Class     Images  Instances      Box(P          R      mAP50  mAP50-95): 100%|██████████| 18/18 [00:11<00:00,  1.61it/s]"
          ]
        },
        {
          "output_type": "stream",
          "name": "stdout",
          "text": [
            "                   all       1143       1196      0.952      0.929      0.972      0.847\n"
          ]
        },
        {
          "output_type": "stream",
          "name": "stderr",
          "text": [
            "\n"
          ]
        },
        {
          "output_type": "stream",
          "name": "stdout",
          "text": [
            "\n",
            "      Epoch    GPU_mem   box_loss   cls_loss   dfl_loss  Instances       Size\n"
          ]
        },
        {
          "output_type": "stream",
          "name": "stderr",
          "text": [
            "     44/100      16.6G     0.7258     0.5877      1.161         42        640: 100%|██████████| 124/124 [01:29<00:00,  1.38it/s]\n",
            "                 Class     Images  Instances      Box(P          R      mAP50  mAP50-95): 100%|██████████| 18/18 [00:11<00:00,  1.61it/s]"
          ]
        },
        {
          "output_type": "stream",
          "name": "stdout",
          "text": [
            "                   all       1143       1196      0.952      0.935      0.971      0.843\n"
          ]
        },
        {
          "output_type": "stream",
          "name": "stderr",
          "text": [
            "\n"
          ]
        },
        {
          "output_type": "stream",
          "name": "stdout",
          "text": [
            "\n",
            "      Epoch    GPU_mem   box_loss   cls_loss   dfl_loss  Instances       Size\n"
          ]
        },
        {
          "output_type": "stream",
          "name": "stderr",
          "text": [
            "     45/100      16.6G     0.7269     0.5966      1.165         54        640: 100%|██████████| 124/124 [01:29<00:00,  1.38it/s]\n",
            "                 Class     Images  Instances      Box(P          R      mAP50  mAP50-95): 100%|██████████| 18/18 [00:11<00:00,  1.61it/s]"
          ]
        },
        {
          "output_type": "stream",
          "name": "stdout",
          "text": [
            "                   all       1143       1196      0.934       0.94       0.97      0.847\n"
          ]
        },
        {
          "output_type": "stream",
          "name": "stderr",
          "text": [
            "\n"
          ]
        },
        {
          "output_type": "stream",
          "name": "stdout",
          "text": [
            "\n",
            "      Epoch    GPU_mem   box_loss   cls_loss   dfl_loss  Instances       Size\n"
          ]
        },
        {
          "output_type": "stream",
          "name": "stderr",
          "text": [
            "     46/100      16.6G     0.7165     0.5684      1.153         42        640: 100%|██████████| 124/124 [01:29<00:00,  1.38it/s]\n",
            "                 Class     Images  Instances      Box(P          R      mAP50  mAP50-95): 100%|██████████| 18/18 [00:11<00:00,  1.60it/s]"
          ]
        },
        {
          "output_type": "stream",
          "name": "stdout",
          "text": [
            "                   all       1143       1196      0.951      0.926      0.973      0.848\n"
          ]
        },
        {
          "output_type": "stream",
          "name": "stderr",
          "text": [
            "\n"
          ]
        },
        {
          "output_type": "stream",
          "name": "stdout",
          "text": [
            "\n",
            "      Epoch    GPU_mem   box_loss   cls_loss   dfl_loss  Instances       Size\n"
          ]
        },
        {
          "output_type": "stream",
          "name": "stderr",
          "text": [
            "     47/100      16.6G     0.7121     0.5766      1.155         39        640: 100%|██████████| 124/124 [01:29<00:00,  1.38it/s]\n",
            "                 Class     Images  Instances      Box(P          R      mAP50  mAP50-95): 100%|██████████| 18/18 [00:11<00:00,  1.61it/s]"
          ]
        },
        {
          "output_type": "stream",
          "name": "stdout",
          "text": [
            "                   all       1143       1196      0.961      0.927      0.974      0.854\n"
          ]
        },
        {
          "output_type": "stream",
          "name": "stderr",
          "text": [
            "\n"
          ]
        },
        {
          "output_type": "stream",
          "name": "stdout",
          "text": [
            "\n",
            "      Epoch    GPU_mem   box_loss   cls_loss   dfl_loss  Instances       Size\n"
          ]
        },
        {
          "output_type": "stream",
          "name": "stderr",
          "text": [
            "     48/100      16.6G     0.7044     0.5762       1.15         47        640: 100%|██████████| 124/124 [01:29<00:00,  1.38it/s]\n",
            "                 Class     Images  Instances      Box(P          R      mAP50  mAP50-95): 100%|██████████| 18/18 [00:11<00:00,  1.61it/s]"
          ]
        },
        {
          "output_type": "stream",
          "name": "stdout",
          "text": [
            "                   all       1143       1196      0.935      0.935       0.97      0.831\n"
          ]
        },
        {
          "output_type": "stream",
          "name": "stderr",
          "text": [
            "\n"
          ]
        },
        {
          "output_type": "stream",
          "name": "stdout",
          "text": [
            "\n",
            "      Epoch    GPU_mem   box_loss   cls_loss   dfl_loss  Instances       Size\n"
          ]
        },
        {
          "output_type": "stream",
          "name": "stderr",
          "text": [
            "     49/100      16.6G     0.7001     0.5707      1.149         38        640: 100%|██████████| 124/124 [01:29<00:00,  1.38it/s]\n",
            "                 Class     Images  Instances      Box(P          R      mAP50  mAP50-95): 100%|██████████| 18/18 [00:11<00:00,  1.61it/s]"
          ]
        },
        {
          "output_type": "stream",
          "name": "stdout",
          "text": [
            "                   all       1143       1196      0.962      0.941      0.975       0.86\n"
          ]
        },
        {
          "output_type": "stream",
          "name": "stderr",
          "text": [
            "\n"
          ]
        },
        {
          "output_type": "stream",
          "name": "stdout",
          "text": [
            "\n",
            "      Epoch    GPU_mem   box_loss   cls_loss   dfl_loss  Instances       Size\n"
          ]
        },
        {
          "output_type": "stream",
          "name": "stderr",
          "text": [
            "     50/100      16.6G     0.7066     0.5689      1.143         41        640: 100%|██████████| 124/124 [01:29<00:00,  1.38it/s]\n",
            "                 Class     Images  Instances      Box(P          R      mAP50  mAP50-95): 100%|██████████| 18/18 [00:11<00:00,  1.60it/s]"
          ]
        },
        {
          "output_type": "stream",
          "name": "stdout",
          "text": [
            "                   all       1143       1196       0.95      0.961      0.981      0.868\n"
          ]
        },
        {
          "output_type": "stream",
          "name": "stderr",
          "text": [
            "\n"
          ]
        },
        {
          "output_type": "stream",
          "name": "stdout",
          "text": [
            "\n",
            "      Epoch    GPU_mem   box_loss   cls_loss   dfl_loss  Instances       Size\n"
          ]
        },
        {
          "output_type": "stream",
          "name": "stderr",
          "text": [
            "     51/100      16.6G     0.6864     0.5489      1.134         43        640: 100%|██████████| 124/124 [01:29<00:00,  1.38it/s]\n",
            "                 Class     Images  Instances      Box(P          R      mAP50  mAP50-95): 100%|██████████| 18/18 [00:11<00:00,  1.61it/s]"
          ]
        },
        {
          "output_type": "stream",
          "name": "stdout",
          "text": [
            "                   all       1143       1196      0.953      0.951      0.975      0.862\n"
          ]
        },
        {
          "output_type": "stream",
          "name": "stderr",
          "text": [
            "\n"
          ]
        },
        {
          "output_type": "stream",
          "name": "stdout",
          "text": [
            "\n",
            "      Epoch    GPU_mem   box_loss   cls_loss   dfl_loss  Instances       Size\n"
          ]
        },
        {
          "output_type": "stream",
          "name": "stderr",
          "text": [
            "     52/100      16.6G     0.6764     0.5346      1.132         44        640: 100%|██████████| 124/124 [01:29<00:00,  1.38it/s]\n",
            "                 Class     Images  Instances      Box(P          R      mAP50  mAP50-95): 100%|██████████| 18/18 [00:11<00:00,  1.61it/s]"
          ]
        },
        {
          "output_type": "stream",
          "name": "stdout",
          "text": [
            "                   all       1143       1196      0.966      0.946      0.982      0.873\n"
          ]
        },
        {
          "output_type": "stream",
          "name": "stderr",
          "text": [
            "\n"
          ]
        },
        {
          "output_type": "stream",
          "name": "stdout",
          "text": [
            "\n",
            "      Epoch    GPU_mem   box_loss   cls_loss   dfl_loss  Instances       Size\n"
          ]
        },
        {
          "output_type": "stream",
          "name": "stderr",
          "text": [
            "     53/100      16.6G     0.6666     0.5295      1.131         44        640: 100%|██████████| 124/124 [01:29<00:00,  1.38it/s]\n",
            "                 Class     Images  Instances      Box(P          R      mAP50  mAP50-95): 100%|██████████| 18/18 [00:11<00:00,  1.61it/s]"
          ]
        },
        {
          "output_type": "stream",
          "name": "stdout",
          "text": [
            "                   all       1143       1196      0.953       0.95      0.977      0.877\n"
          ]
        },
        {
          "output_type": "stream",
          "name": "stderr",
          "text": [
            "\n"
          ]
        },
        {
          "output_type": "stream",
          "name": "stdout",
          "text": [
            "\n",
            "      Epoch    GPU_mem   box_loss   cls_loss   dfl_loss  Instances       Size\n"
          ]
        },
        {
          "output_type": "stream",
          "name": "stderr",
          "text": [
            "     54/100      16.6G      0.674     0.5329      1.129         36        640: 100%|██████████| 124/124 [01:29<00:00,  1.38it/s]\n",
            "                 Class     Images  Instances      Box(P          R      mAP50  mAP50-95): 100%|██████████| 18/18 [00:11<00:00,  1.60it/s]"
          ]
        },
        {
          "output_type": "stream",
          "name": "stdout",
          "text": [
            "                   all       1143       1196      0.963      0.948      0.978      0.876\n"
          ]
        },
        {
          "output_type": "stream",
          "name": "stderr",
          "text": [
            "\n"
          ]
        },
        {
          "output_type": "stream",
          "name": "stdout",
          "text": [
            "\n",
            "      Epoch    GPU_mem   box_loss   cls_loss   dfl_loss  Instances       Size\n"
          ]
        },
        {
          "output_type": "stream",
          "name": "stderr",
          "text": [
            "     55/100      16.6G     0.6554     0.5186      1.115         57        640: 100%|██████████| 124/124 [01:29<00:00,  1.38it/s]\n",
            "                 Class     Images  Instances      Box(P          R      mAP50  mAP50-95): 100%|██████████| 18/18 [00:11<00:00,  1.61it/s]"
          ]
        },
        {
          "output_type": "stream",
          "name": "stdout",
          "text": [
            "                   all       1143       1196       0.96      0.949       0.98      0.881\n"
          ]
        },
        {
          "output_type": "stream",
          "name": "stderr",
          "text": [
            "\n"
          ]
        },
        {
          "output_type": "stream",
          "name": "stdout",
          "text": [
            "\n",
            "      Epoch    GPU_mem   box_loss   cls_loss   dfl_loss  Instances       Size\n"
          ]
        },
        {
          "output_type": "stream",
          "name": "stderr",
          "text": [
            "     56/100      16.6G      0.646     0.5137      1.113         44        640: 100%|██████████| 124/124 [01:29<00:00,  1.38it/s]\n",
            "                 Class     Images  Instances      Box(P          R      mAP50  mAP50-95): 100%|██████████| 18/18 [00:11<00:00,  1.61it/s]"
          ]
        },
        {
          "output_type": "stream",
          "name": "stdout",
          "text": [
            "                   all       1143       1196      0.957      0.957      0.987      0.894\n"
          ]
        },
        {
          "output_type": "stream",
          "name": "stderr",
          "text": [
            "\n"
          ]
        },
        {
          "output_type": "stream",
          "name": "stdout",
          "text": [
            "\n",
            "      Epoch    GPU_mem   box_loss   cls_loss   dfl_loss  Instances       Size\n"
          ]
        },
        {
          "output_type": "stream",
          "name": "stderr",
          "text": [
            "     57/100      16.6G     0.6518     0.5067      1.111         51        640: 100%|██████████| 124/124 [01:29<00:00,  1.38it/s]\n",
            "                 Class     Images  Instances      Box(P          R      mAP50  mAP50-95): 100%|██████████| 18/18 [00:11<00:00,  1.62it/s]"
          ]
        },
        {
          "output_type": "stream",
          "name": "stdout",
          "text": [
            "                   all       1143       1196      0.975      0.944      0.984      0.889\n"
          ]
        },
        {
          "output_type": "stream",
          "name": "stderr",
          "text": [
            "\n"
          ]
        },
        {
          "output_type": "stream",
          "name": "stdout",
          "text": [
            "\n",
            "      Epoch    GPU_mem   box_loss   cls_loss   dfl_loss  Instances       Size\n"
          ]
        },
        {
          "output_type": "stream",
          "name": "stderr",
          "text": [
            "     58/100      16.6G     0.6332     0.4975      1.101         37        640: 100%|██████████| 124/124 [01:29<00:00,  1.38it/s]\n",
            "                 Class     Images  Instances      Box(P          R      mAP50  mAP50-95): 100%|██████████| 18/18 [00:11<00:00,  1.60it/s]"
          ]
        },
        {
          "output_type": "stream",
          "name": "stdout",
          "text": [
            "                   all       1143       1196      0.975      0.955      0.983       0.89\n"
          ]
        },
        {
          "output_type": "stream",
          "name": "stderr",
          "text": [
            "\n"
          ]
        },
        {
          "output_type": "stream",
          "name": "stdout",
          "text": [
            "\n",
            "      Epoch    GPU_mem   box_loss   cls_loss   dfl_loss  Instances       Size\n"
          ]
        },
        {
          "output_type": "stream",
          "name": "stderr",
          "text": [
            "     59/100      16.6G     0.6369     0.4894      1.104         48        640: 100%|██████████| 124/124 [01:29<00:00,  1.38it/s]\n",
            "                 Class     Images  Instances      Box(P          R      mAP50  mAP50-95): 100%|██████████| 18/18 [00:11<00:00,  1.61it/s]"
          ]
        },
        {
          "output_type": "stream",
          "name": "stdout",
          "text": [
            "                   all       1143       1196      0.962      0.964      0.982      0.885\n"
          ]
        },
        {
          "output_type": "stream",
          "name": "stderr",
          "text": [
            "\n"
          ]
        },
        {
          "output_type": "stream",
          "name": "stdout",
          "text": [
            "\n",
            "      Epoch    GPU_mem   box_loss   cls_loss   dfl_loss  Instances       Size\n"
          ]
        },
        {
          "output_type": "stream",
          "name": "stderr",
          "text": [
            "     60/100      16.6G     0.6384     0.4958      1.114         46        640: 100%|██████████| 124/124 [01:29<00:00,  1.38it/s]\n",
            "                 Class     Images  Instances      Box(P          R      mAP50  mAP50-95): 100%|██████████| 18/18 [00:11<00:00,  1.61it/s]"
          ]
        },
        {
          "output_type": "stream",
          "name": "stdout",
          "text": [
            "                   all       1143       1196      0.965       0.96      0.981      0.896\n"
          ]
        },
        {
          "output_type": "stream",
          "name": "stderr",
          "text": [
            "\n"
          ]
        },
        {
          "output_type": "stream",
          "name": "stdout",
          "text": [
            "\n",
            "      Epoch    GPU_mem   box_loss   cls_loss   dfl_loss  Instances       Size\n"
          ]
        },
        {
          "output_type": "stream",
          "name": "stderr",
          "text": [
            "     61/100      16.6G      0.637     0.4965      1.103         45        640: 100%|██████████| 124/124 [01:29<00:00,  1.38it/s]\n",
            "                 Class     Images  Instances      Box(P          R      mAP50  mAP50-95): 100%|██████████| 18/18 [00:11<00:00,  1.60it/s]"
          ]
        },
        {
          "output_type": "stream",
          "name": "stdout",
          "text": [
            "                   all       1143       1196       0.97       0.96      0.983      0.901\n"
          ]
        },
        {
          "output_type": "stream",
          "name": "stderr",
          "text": [
            "\n"
          ]
        },
        {
          "output_type": "stream",
          "name": "stdout",
          "text": [
            "\n",
            "      Epoch    GPU_mem   box_loss   cls_loss   dfl_loss  Instances       Size\n"
          ]
        },
        {
          "output_type": "stream",
          "name": "stderr",
          "text": [
            "     62/100      16.6G     0.6235      0.483      1.099         48        640: 100%|██████████| 124/124 [01:29<00:00,  1.38it/s]\n",
            "                 Class     Images  Instances      Box(P          R      mAP50  mAP50-95): 100%|██████████| 18/18 [00:11<00:00,  1.61it/s]"
          ]
        },
        {
          "output_type": "stream",
          "name": "stdout",
          "text": [
            "                   all       1143       1196      0.963      0.964      0.982      0.895\n"
          ]
        },
        {
          "output_type": "stream",
          "name": "stderr",
          "text": [
            "\n"
          ]
        },
        {
          "output_type": "stream",
          "name": "stdout",
          "text": [
            "\n",
            "      Epoch    GPU_mem   box_loss   cls_loss   dfl_loss  Instances       Size\n"
          ]
        },
        {
          "output_type": "stream",
          "name": "stderr",
          "text": [
            "     63/100      16.6G     0.6213     0.4837      1.097         44        640: 100%|██████████| 124/124 [01:29<00:00,  1.38it/s]\n",
            "                 Class     Images  Instances      Box(P          R      mAP50  mAP50-95): 100%|██████████| 18/18 [00:11<00:00,  1.61it/s]"
          ]
        },
        {
          "output_type": "stream",
          "name": "stdout",
          "text": [
            "                   all       1143       1196      0.983      0.954      0.985      0.898\n"
          ]
        },
        {
          "output_type": "stream",
          "name": "stderr",
          "text": [
            "\n"
          ]
        },
        {
          "output_type": "stream",
          "name": "stdout",
          "text": [
            "\n",
            "      Epoch    GPU_mem   box_loss   cls_loss   dfl_loss  Instances       Size\n"
          ]
        },
        {
          "output_type": "stream",
          "name": "stderr",
          "text": [
            "     64/100      16.6G     0.6187     0.4707      1.088         40        640: 100%|██████████| 124/124 [01:29<00:00,  1.38it/s]\n",
            "                 Class     Images  Instances      Box(P          R      mAP50  mAP50-95): 100%|██████████| 18/18 [00:11<00:00,  1.60it/s]"
          ]
        },
        {
          "output_type": "stream",
          "name": "stdout",
          "text": [
            "                   all       1143       1196      0.982       0.96      0.985      0.905\n"
          ]
        },
        {
          "output_type": "stream",
          "name": "stderr",
          "text": [
            "\n"
          ]
        },
        {
          "output_type": "stream",
          "name": "stdout",
          "text": [
            "\n",
            "      Epoch    GPU_mem   box_loss   cls_loss   dfl_loss  Instances       Size\n"
          ]
        },
        {
          "output_type": "stream",
          "name": "stderr",
          "text": [
            "     65/100      16.6G     0.6003     0.4662      1.082         52        640: 100%|██████████| 124/124 [01:29<00:00,  1.38it/s]\n",
            "                 Class     Images  Instances      Box(P          R      mAP50  mAP50-95): 100%|██████████| 18/18 [00:11<00:00,  1.61it/s]"
          ]
        },
        {
          "output_type": "stream",
          "name": "stdout",
          "text": [
            "                   all       1143       1196      0.981      0.964      0.986      0.907\n"
          ]
        },
        {
          "output_type": "stream",
          "name": "stderr",
          "text": [
            "\n"
          ]
        },
        {
          "output_type": "stream",
          "name": "stdout",
          "text": [
            "\n",
            "      Epoch    GPU_mem   box_loss   cls_loss   dfl_loss  Instances       Size\n"
          ]
        },
        {
          "output_type": "stream",
          "name": "stderr",
          "text": [
            "     66/100      16.6G     0.5877     0.4533      1.072         51        640: 100%|██████████| 124/124 [01:29<00:00,  1.38it/s]\n",
            "                 Class     Images  Instances      Box(P          R      mAP50  mAP50-95): 100%|██████████| 18/18 [00:11<00:00,  1.61it/s]"
          ]
        },
        {
          "output_type": "stream",
          "name": "stdout",
          "text": [
            "                   all       1143       1196      0.981      0.957      0.985      0.913\n"
          ]
        },
        {
          "output_type": "stream",
          "name": "stderr",
          "text": [
            "\n"
          ]
        },
        {
          "output_type": "stream",
          "name": "stdout",
          "text": [
            "\n",
            "      Epoch    GPU_mem   box_loss   cls_loss   dfl_loss  Instances       Size\n"
          ]
        },
        {
          "output_type": "stream",
          "name": "stderr",
          "text": [
            "     67/100      16.6G     0.5898     0.4536      1.081         53        640: 100%|██████████| 124/124 [01:29<00:00,  1.38it/s]\n",
            "                 Class     Images  Instances      Box(P          R      mAP50  mAP50-95): 100%|██████████| 18/18 [00:11<00:00,  1.61it/s]"
          ]
        },
        {
          "output_type": "stream",
          "name": "stdout",
          "text": [
            "                   all       1143       1196       0.97      0.969      0.985      0.913\n"
          ]
        },
        {
          "output_type": "stream",
          "name": "stderr",
          "text": [
            "\n"
          ]
        },
        {
          "output_type": "stream",
          "name": "stdout",
          "text": [
            "\n",
            "      Epoch    GPU_mem   box_loss   cls_loss   dfl_loss  Instances       Size\n"
          ]
        },
        {
          "output_type": "stream",
          "name": "stderr",
          "text": [
            "     68/100      16.6G     0.5869     0.4556      1.082         38        640: 100%|██████████| 124/124 [01:29<00:00,  1.38it/s]\n",
            "                 Class     Images  Instances      Box(P          R      mAP50  mAP50-95): 100%|██████████| 18/18 [00:11<00:00,  1.62it/s]"
          ]
        },
        {
          "output_type": "stream",
          "name": "stdout",
          "text": [
            "                   all       1143       1196      0.977      0.962      0.983      0.914\n"
          ]
        },
        {
          "output_type": "stream",
          "name": "stderr",
          "text": [
            "\n"
          ]
        },
        {
          "output_type": "stream",
          "name": "stdout",
          "text": [
            "\n",
            "      Epoch    GPU_mem   box_loss   cls_loss   dfl_loss  Instances       Size\n"
          ]
        },
        {
          "output_type": "stream",
          "name": "stderr",
          "text": [
            "     69/100      16.6G     0.5852     0.4551      1.077         48        640: 100%|██████████| 124/124 [01:29<00:00,  1.38it/s]\n",
            "                 Class     Images  Instances      Box(P          R      mAP50  mAP50-95): 100%|██████████| 18/18 [00:11<00:00,  1.61it/s]"
          ]
        },
        {
          "output_type": "stream",
          "name": "stdout",
          "text": [
            "                   all       1143       1196      0.969      0.962      0.984      0.918\n"
          ]
        },
        {
          "output_type": "stream",
          "name": "stderr",
          "text": [
            "\n"
          ]
        },
        {
          "output_type": "stream",
          "name": "stdout",
          "text": [
            "\n",
            "      Epoch    GPU_mem   box_loss   cls_loss   dfl_loss  Instances       Size\n"
          ]
        },
        {
          "output_type": "stream",
          "name": "stderr",
          "text": [
            "     70/100      16.6G     0.5707     0.4397      1.067         36        640: 100%|██████████| 124/124 [01:29<00:00,  1.38it/s]\n",
            "                 Class     Images  Instances      Box(P          R      mAP50  mAP50-95): 100%|██████████| 18/18 [00:11<00:00,  1.61it/s]"
          ]
        },
        {
          "output_type": "stream",
          "name": "stdout",
          "text": [
            "                   all       1143       1196      0.975      0.957      0.984      0.918\n"
          ]
        },
        {
          "output_type": "stream",
          "name": "stderr",
          "text": [
            "\n"
          ]
        },
        {
          "output_type": "stream",
          "name": "stdout",
          "text": [
            "\n",
            "      Epoch    GPU_mem   box_loss   cls_loss   dfl_loss  Instances       Size\n"
          ]
        },
        {
          "output_type": "stream",
          "name": "stderr",
          "text": [
            "     71/100      16.6G     0.5666     0.4333      1.062         42        640: 100%|██████████| 124/124 [01:29<00:00,  1.38it/s]\n",
            "                 Class     Images  Instances      Box(P          R      mAP50  mAP50-95): 100%|██████████| 18/18 [00:11<00:00,  1.61it/s]"
          ]
        },
        {
          "output_type": "stream",
          "name": "stdout",
          "text": [
            "                   all       1143       1196      0.984      0.962      0.986      0.911\n"
          ]
        },
        {
          "output_type": "stream",
          "name": "stderr",
          "text": [
            "\n"
          ]
        },
        {
          "output_type": "stream",
          "name": "stdout",
          "text": [
            "\n",
            "      Epoch    GPU_mem   box_loss   cls_loss   dfl_loss  Instances       Size\n"
          ]
        },
        {
          "output_type": "stream",
          "name": "stderr",
          "text": [
            "     72/100      16.6G     0.5678      0.437      1.062         49        640: 100%|██████████| 124/124 [01:29<00:00,  1.38it/s]\n",
            "                 Class     Images  Instances      Box(P          R      mAP50  mAP50-95): 100%|██████████| 18/18 [00:11<00:00,  1.61it/s]"
          ]
        },
        {
          "output_type": "stream",
          "name": "stdout",
          "text": [
            "                   all       1143       1196      0.984      0.954      0.987      0.923\n"
          ]
        },
        {
          "output_type": "stream",
          "name": "stderr",
          "text": [
            "\n"
          ]
        },
        {
          "output_type": "stream",
          "name": "stdout",
          "text": [
            "\n",
            "      Epoch    GPU_mem   box_loss   cls_loss   dfl_loss  Instances       Size\n"
          ]
        },
        {
          "output_type": "stream",
          "name": "stderr",
          "text": [
            "     73/100      16.6G     0.5622     0.4234      1.065         43        640: 100%|██████████| 124/124 [01:29<00:00,  1.38it/s]\n",
            "                 Class     Images  Instances      Box(P          R      mAP50  mAP50-95): 100%|██████████| 18/18 [00:11<00:00,  1.62it/s]"
          ]
        },
        {
          "output_type": "stream",
          "name": "stdout",
          "text": [
            "                   all       1143       1196      0.981      0.964      0.987      0.925\n"
          ]
        },
        {
          "output_type": "stream",
          "name": "stderr",
          "text": [
            "\n"
          ]
        },
        {
          "output_type": "stream",
          "name": "stdout",
          "text": [
            "\n",
            "      Epoch    GPU_mem   box_loss   cls_loss   dfl_loss  Instances       Size\n"
          ]
        },
        {
          "output_type": "stream",
          "name": "stderr",
          "text": [
            "     74/100      16.6G     0.5585     0.4236      1.064         43        640: 100%|██████████| 124/124 [01:29<00:00,  1.38it/s]\n",
            "                 Class     Images  Instances      Box(P          R      mAP50  mAP50-95): 100%|██████████| 18/18 [00:11<00:00,  1.60it/s]"
          ]
        },
        {
          "output_type": "stream",
          "name": "stdout",
          "text": [
            "                   all       1143       1196      0.977      0.961      0.987      0.929\n"
          ]
        },
        {
          "output_type": "stream",
          "name": "stderr",
          "text": [
            "\n"
          ]
        },
        {
          "output_type": "stream",
          "name": "stdout",
          "text": [
            "\n",
            "      Epoch    GPU_mem   box_loss   cls_loss   dfl_loss  Instances       Size\n"
          ]
        },
        {
          "output_type": "stream",
          "name": "stderr",
          "text": [
            "     75/100      16.6G     0.5509     0.4192      1.053         55        640: 100%|██████████| 124/124 [01:29<00:00,  1.38it/s]\n",
            "                 Class     Images  Instances      Box(P          R      mAP50  mAP50-95): 100%|██████████| 18/18 [00:11<00:00,  1.61it/s]"
          ]
        },
        {
          "output_type": "stream",
          "name": "stdout",
          "text": [
            "                   all       1143       1196      0.982      0.965      0.986       0.93\n"
          ]
        },
        {
          "output_type": "stream",
          "name": "stderr",
          "text": [
            "\n"
          ]
        },
        {
          "output_type": "stream",
          "name": "stdout",
          "text": [
            "\n",
            "      Epoch    GPU_mem   box_loss   cls_loss   dfl_loss  Instances       Size\n"
          ]
        },
        {
          "output_type": "stream",
          "name": "stderr",
          "text": [
            "     76/100      16.6G     0.5435     0.4106      1.048         58        640: 100%|██████████| 124/124 [01:29<00:00,  1.38it/s]\n",
            "                 Class     Images  Instances      Box(P          R      mAP50  mAP50-95): 100%|██████████| 18/18 [00:11<00:00,  1.61it/s]"
          ]
        },
        {
          "output_type": "stream",
          "name": "stdout",
          "text": [
            "                   all       1143       1196      0.984      0.969      0.986      0.933\n"
          ]
        },
        {
          "output_type": "stream",
          "name": "stderr",
          "text": [
            "\n"
          ]
        },
        {
          "output_type": "stream",
          "name": "stdout",
          "text": [
            "\n",
            "      Epoch    GPU_mem   box_loss   cls_loss   dfl_loss  Instances       Size\n"
          ]
        },
        {
          "output_type": "stream",
          "name": "stderr",
          "text": [
            "     77/100      16.6G     0.5368     0.4071      1.047         48        640: 100%|██████████| 124/124 [01:29<00:00,  1.38it/s]\n",
            "                 Class     Images  Instances      Box(P          R      mAP50  mAP50-95): 100%|██████████| 18/18 [00:11<00:00,  1.61it/s]"
          ]
        },
        {
          "output_type": "stream",
          "name": "stdout",
          "text": [
            "                   all       1143       1196      0.978      0.964      0.988      0.933\n"
          ]
        },
        {
          "output_type": "stream",
          "name": "stderr",
          "text": [
            "\n"
          ]
        },
        {
          "output_type": "stream",
          "name": "stdout",
          "text": [
            "\n",
            "      Epoch    GPU_mem   box_loss   cls_loss   dfl_loss  Instances       Size\n"
          ]
        },
        {
          "output_type": "stream",
          "name": "stderr",
          "text": [
            "     78/100      16.6G     0.5365      0.413      1.051         37        640: 100%|██████████| 124/124 [01:29<00:00,  1.38it/s]\n",
            "                 Class     Images  Instances      Box(P          R      mAP50  mAP50-95): 100%|██████████| 18/18 [00:11<00:00,  1.60it/s]"
          ]
        },
        {
          "output_type": "stream",
          "name": "stdout",
          "text": [
            "                   all       1143       1196      0.988      0.963      0.988      0.935\n"
          ]
        },
        {
          "output_type": "stream",
          "name": "stderr",
          "text": [
            "\n"
          ]
        },
        {
          "output_type": "stream",
          "name": "stdout",
          "text": [
            "\n",
            "      Epoch    GPU_mem   box_loss   cls_loss   dfl_loss  Instances       Size\n"
          ]
        },
        {
          "output_type": "stream",
          "name": "stderr",
          "text": [
            "     79/100      16.6G      0.531     0.3986      1.046         38        640: 100%|██████████| 124/124 [01:29<00:00,  1.38it/s]\n",
            "                 Class     Images  Instances      Box(P          R      mAP50  mAP50-95): 100%|██████████| 18/18 [00:11<00:00,  1.61it/s]"
          ]
        },
        {
          "output_type": "stream",
          "name": "stdout",
          "text": [
            "                   all       1143       1196       0.99      0.964      0.989      0.938\n"
          ]
        },
        {
          "output_type": "stream",
          "name": "stderr",
          "text": [
            "\n"
          ]
        },
        {
          "output_type": "stream",
          "name": "stdout",
          "text": [
            "\n",
            "      Epoch    GPU_mem   box_loss   cls_loss   dfl_loss  Instances       Size\n"
          ]
        },
        {
          "output_type": "stream",
          "name": "stderr",
          "text": [
            "     80/100      16.6G     0.5328     0.4056      1.048         39        640: 100%|██████████| 124/124 [01:29<00:00,  1.38it/s]\n",
            "                 Class     Images  Instances      Box(P          R      mAP50  mAP50-95): 100%|██████████| 18/18 [00:11<00:00,  1.61it/s]"
          ]
        },
        {
          "output_type": "stream",
          "name": "stdout",
          "text": [
            "                   all       1143       1196      0.973       0.97      0.986      0.933\n"
          ]
        },
        {
          "output_type": "stream",
          "name": "stderr",
          "text": [
            "\n"
          ]
        },
        {
          "output_type": "stream",
          "name": "stdout",
          "text": [
            "\n",
            "      Epoch    GPU_mem   box_loss   cls_loss   dfl_loss  Instances       Size\n"
          ]
        },
        {
          "output_type": "stream",
          "name": "stderr",
          "text": [
            "     81/100      16.6G     0.5255     0.4021       1.04         47        640: 100%|██████████| 124/124 [01:29<00:00,  1.38it/s]\n",
            "                 Class     Images  Instances      Box(P          R      mAP50  mAP50-95): 100%|██████████| 18/18 [00:11<00:00,  1.60it/s]"
          ]
        },
        {
          "output_type": "stream",
          "name": "stdout",
          "text": [
            "                   all       1143       1196      0.983       0.97      0.985      0.933\n"
          ]
        },
        {
          "output_type": "stream",
          "name": "stderr",
          "text": [
            "\n"
          ]
        },
        {
          "output_type": "stream",
          "name": "stdout",
          "text": [
            "\n",
            "      Epoch    GPU_mem   box_loss   cls_loss   dfl_loss  Instances       Size\n"
          ]
        },
        {
          "output_type": "stream",
          "name": "stderr",
          "text": [
            "     82/100      16.6G     0.5101     0.3808      1.033         43        640: 100%|██████████| 124/124 [01:29<00:00,  1.38it/s]\n",
            "                 Class     Images  Instances      Box(P          R      mAP50  mAP50-95): 100%|██████████| 18/18 [00:11<00:00,  1.61it/s]"
          ]
        },
        {
          "output_type": "stream",
          "name": "stdout",
          "text": [
            "                   all       1143       1196      0.976      0.972      0.989      0.941\n"
          ]
        },
        {
          "output_type": "stream",
          "name": "stderr",
          "text": [
            "\n"
          ]
        },
        {
          "output_type": "stream",
          "name": "stdout",
          "text": [
            "\n",
            "      Epoch    GPU_mem   box_loss   cls_loss   dfl_loss  Instances       Size\n"
          ]
        },
        {
          "output_type": "stream",
          "name": "stderr",
          "text": [
            "     83/100      16.6G     0.5199     0.3899      1.036         49        640: 100%|██████████| 124/124 [01:29<00:00,  1.38it/s]\n",
            "                 Class     Images  Instances      Box(P          R      mAP50  mAP50-95): 100%|██████████| 18/18 [00:11<00:00,  1.61it/s]"
          ]
        },
        {
          "output_type": "stream",
          "name": "stdout",
          "text": [
            "                   all       1143       1196      0.983      0.967      0.988      0.938\n"
          ]
        },
        {
          "output_type": "stream",
          "name": "stderr",
          "text": [
            "\n"
          ]
        },
        {
          "output_type": "stream",
          "name": "stdout",
          "text": [
            "\n",
            "      Epoch    GPU_mem   box_loss   cls_loss   dfl_loss  Instances       Size\n"
          ]
        },
        {
          "output_type": "stream",
          "name": "stderr",
          "text": [
            "     84/100      16.6G     0.5128     0.3886      1.036         45        640: 100%|██████████| 124/124 [01:29<00:00,  1.38it/s]\n",
            "                 Class     Images  Instances      Box(P          R      mAP50  mAP50-95): 100%|██████████| 18/18 [00:11<00:00,  1.62it/s]"
          ]
        },
        {
          "output_type": "stream",
          "name": "stdout",
          "text": [
            "                   all       1143       1196      0.979       0.97      0.988      0.944\n"
          ]
        },
        {
          "output_type": "stream",
          "name": "stderr",
          "text": [
            "\n"
          ]
        },
        {
          "output_type": "stream",
          "name": "stdout",
          "text": [
            "\n",
            "      Epoch    GPU_mem   box_loss   cls_loss   dfl_loss  Instances       Size\n"
          ]
        },
        {
          "output_type": "stream",
          "name": "stderr",
          "text": [
            "     85/100      16.6G      0.514     0.3787      1.036         55        640: 100%|██████████| 124/124 [01:29<00:00,  1.38it/s]\n",
            "                 Class     Images  Instances      Box(P          R      mAP50  mAP50-95): 100%|██████████| 18/18 [00:11<00:00,  1.60it/s]"
          ]
        },
        {
          "output_type": "stream",
          "name": "stdout",
          "text": [
            "                   all       1143       1196      0.986      0.964      0.988      0.943\n"
          ]
        },
        {
          "output_type": "stream",
          "name": "stderr",
          "text": [
            "\n"
          ]
        },
        {
          "output_type": "stream",
          "name": "stdout",
          "text": [
            "\n",
            "      Epoch    GPU_mem   box_loss   cls_loss   dfl_loss  Instances       Size\n"
          ]
        },
        {
          "output_type": "stream",
          "name": "stderr",
          "text": [
            "     86/100      16.6G     0.4913     0.3656      1.018         47        640: 100%|██████████| 124/124 [01:29<00:00,  1.38it/s]\n",
            "                 Class     Images  Instances      Box(P          R      mAP50  mAP50-95): 100%|██████████| 18/18 [00:11<00:00,  1.61it/s]"
          ]
        },
        {
          "output_type": "stream",
          "name": "stdout",
          "text": [
            "                   all       1143       1196      0.981      0.971      0.989      0.945\n"
          ]
        },
        {
          "output_type": "stream",
          "name": "stderr",
          "text": [
            "\n"
          ]
        },
        {
          "output_type": "stream",
          "name": "stdout",
          "text": [
            "\n",
            "      Epoch    GPU_mem   box_loss   cls_loss   dfl_loss  Instances       Size\n"
          ]
        },
        {
          "output_type": "stream",
          "name": "stderr",
          "text": [
            "     87/100      16.6G     0.4819     0.3629      1.018         46        640: 100%|██████████| 124/124 [01:29<00:00,  1.38it/s]\n",
            "                 Class     Images  Instances      Box(P          R      mAP50  mAP50-95): 100%|██████████| 18/18 [00:11<00:00,  1.61it/s]"
          ]
        },
        {
          "output_type": "stream",
          "name": "stdout",
          "text": [
            "                   all       1143       1196      0.982      0.966      0.988      0.943\n"
          ]
        },
        {
          "output_type": "stream",
          "name": "stderr",
          "text": [
            "\n"
          ]
        },
        {
          "output_type": "stream",
          "name": "stdout",
          "text": [
            "\n",
            "      Epoch    GPU_mem   box_loss   cls_loss   dfl_loss  Instances       Size\n"
          ]
        },
        {
          "output_type": "stream",
          "name": "stderr",
          "text": [
            "     88/100      16.6G     0.4904     0.3632      1.019         53        640: 100%|██████████| 124/124 [01:29<00:00,  1.38it/s]\n",
            "                 Class     Images  Instances      Box(P          R      mAP50  mAP50-95): 100%|██████████| 18/18 [00:11<00:00,  1.60it/s]"
          ]
        },
        {
          "output_type": "stream",
          "name": "stdout",
          "text": [
            "                   all       1143       1196      0.983      0.968      0.989      0.949\n"
          ]
        },
        {
          "output_type": "stream",
          "name": "stderr",
          "text": [
            "\n"
          ]
        },
        {
          "output_type": "stream",
          "name": "stdout",
          "text": [
            "\n",
            "      Epoch    GPU_mem   box_loss   cls_loss   dfl_loss  Instances       Size\n"
          ]
        },
        {
          "output_type": "stream",
          "name": "stderr",
          "text": [
            "     89/100      16.6G     0.4831     0.3623      1.021         45        640: 100%|██████████| 124/124 [01:29<00:00,  1.38it/s]\n",
            "                 Class     Images  Instances      Box(P          R      mAP50  mAP50-95): 100%|██████████| 18/18 [00:11<00:00,  1.62it/s]"
          ]
        },
        {
          "output_type": "stream",
          "name": "stdout",
          "text": [
            "                   all       1143       1196      0.985      0.968      0.987      0.948\n"
          ]
        },
        {
          "output_type": "stream",
          "name": "stderr",
          "text": [
            "\n"
          ]
        },
        {
          "output_type": "stream",
          "name": "stdout",
          "text": [
            "\n",
            "      Epoch    GPU_mem   box_loss   cls_loss   dfl_loss  Instances       Size\n"
          ]
        },
        {
          "output_type": "stream",
          "name": "stderr",
          "text": [
            "     90/100      16.6G     0.4737     0.3572      1.014         50        640: 100%|██████████| 124/124 [01:29<00:00,  1.38it/s]\n",
            "                 Class     Images  Instances      Box(P          R      mAP50  mAP50-95): 100%|██████████| 18/18 [00:11<00:00,  1.61it/s]"
          ]
        },
        {
          "output_type": "stream",
          "name": "stdout",
          "text": [
            "                   all       1143       1196      0.975      0.975      0.986      0.945\n"
          ]
        },
        {
          "output_type": "stream",
          "name": "stderr",
          "text": [
            "\n"
          ]
        },
        {
          "output_type": "stream",
          "name": "stdout",
          "text": [
            "Closing dataloader mosaic\n",
            "\u001b[34m\u001b[1malbumentations: \u001b[0mBlur(p=0.01, blur_limit=(3, 7)), MedianBlur(p=0.01, blur_limit=(3, 7)), ToGray(p=0.01, num_output_channels=3, method='weighted_average'), CLAHE(p=0.01, clip_limit=(1.0, 4.0), tile_grid_size=(8, 8))\n",
            "\n",
            "      Epoch    GPU_mem   box_loss   cls_loss   dfl_loss  Instances       Size\n"
          ]
        },
        {
          "output_type": "stream",
          "name": "stderr",
          "text": [
            "     91/100      16.6G     0.3352     0.2283     0.9076         22        640: 100%|██████████| 124/124 [01:30<00:00,  1.37it/s]\n",
            "                 Class     Images  Instances      Box(P          R      mAP50  mAP50-95): 100%|██████████| 18/18 [00:11<00:00,  1.61it/s]"
          ]
        },
        {
          "output_type": "stream",
          "name": "stdout",
          "text": [
            "                   all       1143       1196      0.981      0.971      0.985      0.943\n"
          ]
        },
        {
          "output_type": "stream",
          "name": "stderr",
          "text": [
            "\n"
          ]
        },
        {
          "output_type": "stream",
          "name": "stdout",
          "text": [
            "\n",
            "      Epoch    GPU_mem   box_loss   cls_loss   dfl_loss  Instances       Size\n"
          ]
        },
        {
          "output_type": "stream",
          "name": "stderr",
          "text": [
            "     92/100      16.6G     0.3198     0.2135     0.8955         24        640: 100%|██████████| 124/124 [01:29<00:00,  1.38it/s]\n",
            "                 Class     Images  Instances      Box(P          R      mAP50  mAP50-95): 100%|██████████| 18/18 [00:11<00:00,  1.61it/s]"
          ]
        },
        {
          "output_type": "stream",
          "name": "stdout",
          "text": [
            "                   all       1143       1196      0.981      0.975      0.988      0.947\n"
          ]
        },
        {
          "output_type": "stream",
          "name": "stderr",
          "text": [
            "\n"
          ]
        },
        {
          "output_type": "stream",
          "name": "stdout",
          "text": [
            "\n",
            "      Epoch    GPU_mem   box_loss   cls_loss   dfl_loss  Instances       Size\n"
          ]
        },
        {
          "output_type": "stream",
          "name": "stderr",
          "text": [
            "     93/100      16.6G     0.3091     0.2037     0.8941         22        640: 100%|██████████| 124/124 [01:29<00:00,  1.38it/s]\n",
            "                 Class     Images  Instances      Box(P          R      mAP50  mAP50-95): 100%|██████████| 18/18 [00:11<00:00,  1.60it/s]"
          ]
        },
        {
          "output_type": "stream",
          "name": "stdout",
          "text": [
            "                   all       1143       1196      0.977      0.978      0.985      0.948\n"
          ]
        },
        {
          "output_type": "stream",
          "name": "stderr",
          "text": [
            "\n"
          ]
        },
        {
          "output_type": "stream",
          "name": "stdout",
          "text": [
            "\n",
            "      Epoch    GPU_mem   box_loss   cls_loss   dfl_loss  Instances       Size\n"
          ]
        },
        {
          "output_type": "stream",
          "name": "stderr",
          "text": [
            "     94/100      16.6G     0.3034     0.2018     0.8872         21        640: 100%|██████████| 124/124 [01:29<00:00,  1.38it/s]\n",
            "                 Class     Images  Instances      Box(P          R      mAP50  mAP50-95): 100%|██████████| 18/18 [00:11<00:00,  1.60it/s]"
          ]
        },
        {
          "output_type": "stream",
          "name": "stdout",
          "text": [
            "                   all       1143       1196      0.979      0.978      0.987      0.951\n"
          ]
        },
        {
          "output_type": "stream",
          "name": "stderr",
          "text": [
            "\n"
          ]
        },
        {
          "output_type": "stream",
          "name": "stdout",
          "text": [
            "\n",
            "      Epoch    GPU_mem   box_loss   cls_loss   dfl_loss  Instances       Size\n"
          ]
        },
        {
          "output_type": "stream",
          "name": "stderr",
          "text": [
            "     95/100      16.6G     0.2967     0.1977     0.8867         22        640: 100%|██████████| 124/124 [01:29<00:00,  1.38it/s]\n",
            "                 Class     Images  Instances      Box(P          R      mAP50  mAP50-95): 100%|██████████| 18/18 [00:11<00:00,  1.61it/s]"
          ]
        },
        {
          "output_type": "stream",
          "name": "stdout",
          "text": [
            "                   all       1143       1196      0.981      0.973      0.989      0.954\n"
          ]
        },
        {
          "output_type": "stream",
          "name": "stderr",
          "text": [
            "\n"
          ]
        },
        {
          "output_type": "stream",
          "name": "stdout",
          "text": [
            "\n",
            "      Epoch    GPU_mem   box_loss   cls_loss   dfl_loss  Instances       Size\n"
          ]
        },
        {
          "output_type": "stream",
          "name": "stderr",
          "text": [
            "     96/100      16.6G     0.2878     0.1941     0.8778         23        640: 100%|██████████| 124/124 [01:29<00:00,  1.38it/s]\n",
            "                 Class     Images  Instances      Box(P          R      mAP50  mAP50-95): 100%|██████████| 18/18 [00:11<00:00,  1.62it/s]"
          ]
        },
        {
          "output_type": "stream",
          "name": "stdout",
          "text": [
            "                   all       1143       1196      0.979      0.977       0.99      0.955\n"
          ]
        },
        {
          "output_type": "stream",
          "name": "stderr",
          "text": [
            "\n"
          ]
        },
        {
          "output_type": "stream",
          "name": "stdout",
          "text": [
            "\n",
            "      Epoch    GPU_mem   box_loss   cls_loss   dfl_loss  Instances       Size\n"
          ]
        },
        {
          "output_type": "stream",
          "name": "stderr",
          "text": [
            "     97/100      16.6G     0.2847     0.1908     0.8783         22        640: 100%|██████████| 124/124 [01:29<00:00,  1.38it/s]\n",
            "                 Class     Images  Instances      Box(P          R      mAP50  mAP50-95): 100%|██████████| 18/18 [00:11<00:00,  1.61it/s]"
          ]
        },
        {
          "output_type": "stream",
          "name": "stdout",
          "text": [
            "                   all       1143       1196       0.99      0.967       0.99      0.956\n"
          ]
        },
        {
          "output_type": "stream",
          "name": "stderr",
          "text": [
            "\n"
          ]
        },
        {
          "output_type": "stream",
          "name": "stdout",
          "text": [
            "\n",
            "      Epoch    GPU_mem   box_loss   cls_loss   dfl_loss  Instances       Size\n"
          ]
        },
        {
          "output_type": "stream",
          "name": "stderr",
          "text": [
            "     98/100      16.6G       0.28     0.1876      0.875         23        640: 100%|██████████| 124/124 [01:29<00:00,  1.38it/s]\n",
            "                 Class     Images  Instances      Box(P          R      mAP50  mAP50-95): 100%|██████████| 18/18 [00:11<00:00,  1.61it/s]"
          ]
        },
        {
          "output_type": "stream",
          "name": "stdout",
          "text": [
            "                   all       1143       1196      0.985      0.972       0.99      0.957\n"
          ]
        },
        {
          "output_type": "stream",
          "name": "stderr",
          "text": [
            "\n"
          ]
        },
        {
          "output_type": "stream",
          "name": "stdout",
          "text": [
            "\n",
            "      Epoch    GPU_mem   box_loss   cls_loss   dfl_loss  Instances       Size\n"
          ]
        },
        {
          "output_type": "stream",
          "name": "stderr",
          "text": [
            "     99/100      16.6G      0.275     0.1833     0.8687         23        640: 100%|██████████| 124/124 [01:29<00:00,  1.38it/s]\n",
            "                 Class     Images  Instances      Box(P          R      mAP50  mAP50-95): 100%|██████████| 18/18 [00:11<00:00,  1.61it/s]"
          ]
        },
        {
          "output_type": "stream",
          "name": "stdout",
          "text": [
            "                   all       1143       1196       0.99      0.967       0.99      0.958\n"
          ]
        },
        {
          "output_type": "stream",
          "name": "stderr",
          "text": [
            "\n"
          ]
        },
        {
          "output_type": "stream",
          "name": "stdout",
          "text": [
            "\n",
            "      Epoch    GPU_mem   box_loss   cls_loss   dfl_loss  Instances       Size\n"
          ]
        },
        {
          "output_type": "stream",
          "name": "stderr",
          "text": [
            "    100/100      16.6G     0.2717     0.1806     0.8693         22        640: 100%|██████████| 124/124 [01:29<00:00,  1.38it/s]\n",
            "                 Class     Images  Instances      Box(P          R      mAP50  mAP50-95): 100%|██████████| 18/18 [00:11<00:00,  1.60it/s]"
          ]
        },
        {
          "output_type": "stream",
          "name": "stdout",
          "text": [
            "                   all       1143       1196      0.986      0.971      0.989      0.958\n"
          ]
        },
        {
          "output_type": "stream",
          "name": "stderr",
          "text": [
            "\n"
          ]
        },
        {
          "output_type": "stream",
          "name": "stdout",
          "text": [
            "\n",
            "100 epochs completed in 2.850 hours.\n",
            "Optimizer stripped from runs/detect/train/weights/last.pt, 40.5MB\n",
            "Optimizer stripped from runs/detect/train/weights/best.pt, 40.5MB\n",
            "\n",
            "Validating runs/detect/train/weights/best.pt...\n",
            "Ultralytics 8.3.52 🚀 Python-3.10.12 torch-2.5.1+cu121 CUDA:0 (NVIDIA L4, 22700MiB)\n",
            "YOLO11m summary (fused): 303 layers, 20,030,803 parameters, 0 gradients, 67.6 GFLOPs\n"
          ]
        },
        {
          "output_type": "stream",
          "name": "stderr",
          "text": [
            "                 Class     Images  Instances      Box(P          R      mAP50  mAP50-95): 100%|██████████| 18/18 [00:11<00:00,  1.58it/s]\n"
          ]
        },
        {
          "output_type": "stream",
          "name": "stdout",
          "text": [
            "                   all       1143       1196       0.99      0.967       0.99      0.958\n",
            "Speed: 0.2ms preprocess, 6.4ms inference, 0.0ms loss, 0.9ms postprocess per image\n",
            "Results saved to \u001b[1mruns/detect/train\u001b[0m\n"
          ]
        }
      ],
      "source": [
        "results = model.train(data=\"/content/data.yaml\", epochs=100, imgsz=640, device=0, batch=32, plots=True, profile=True)"
      ]
    },
    {
      "cell_type": "markdown",
      "metadata": {
        "id": "D16ofwvn7EOJ"
      },
      "source": []
    },
    {
      "cell_type": "code",
      "execution_count": 10,
      "metadata": {
        "id": "_cS-EO2UK5a-",
        "colab": {
          "base_uri": "https://localhost:8080/",
          "height": 17
        },
        "outputId": "3c1b604e-143a-4312-a818-7ddd43ef8f11"
      },
      "outputs": [
        {
          "output_type": "display_data",
          "data": {
            "text/plain": [
              "<IPython.core.display.Javascript object>"
            ],
            "application/javascript": [
              "\n",
              "    async function download(id, filename, size) {\n",
              "      if (!google.colab.kernel.accessAllowed) {\n",
              "        return;\n",
              "      }\n",
              "      const div = document.createElement('div');\n",
              "      const label = document.createElement('label');\n",
              "      label.textContent = `Downloading \"${filename}\": `;\n",
              "      div.appendChild(label);\n",
              "      const progress = document.createElement('progress');\n",
              "      progress.max = size;\n",
              "      div.appendChild(progress);\n",
              "      document.body.appendChild(div);\n",
              "\n",
              "      const buffers = [];\n",
              "      let downloaded = 0;\n",
              "\n",
              "      const channel = await google.colab.kernel.comms.open(id);\n",
              "      // Send a message to notify the kernel that we're ready.\n",
              "      channel.send({})\n",
              "\n",
              "      for await (const message of channel.messages) {\n",
              "        // Send a message to notify the kernel that we're ready.\n",
              "        channel.send({})\n",
              "        if (message.buffers) {\n",
              "          for (const buffer of message.buffers) {\n",
              "            buffers.push(buffer);\n",
              "            downloaded += buffer.byteLength;\n",
              "            progress.value = downloaded;\n",
              "          }\n",
              "        }\n",
              "      }\n",
              "      const blob = new Blob(buffers, {type: 'application/binary'});\n",
              "      const a = document.createElement('a');\n",
              "      a.href = window.URL.createObjectURL(blob);\n",
              "      a.download = filename;\n",
              "      div.appendChild(a);\n",
              "      a.click();\n",
              "      div.remove();\n",
              "    }\n",
              "  "
            ]
          },
          "metadata": {}
        },
        {
          "output_type": "display_data",
          "data": {
            "text/plain": [
              "<IPython.core.display.Javascript object>"
            ],
            "application/javascript": [
              "download(\"download_fb07f607-8af6-45fa-a739-3cce48b78baa\", \"runs.zip\", 83712548)"
            ]
          },
          "metadata": {}
        }
      ],
      "source": [
        "import shutil\n",
        "from google.colab import files\n",
        "\n",
        "# Klasörü ziplemek\n",
        "shutil.make_archive('/content/runs', 'zip', '/content/runs')\n",
        "\n",
        "# Zipped dosyayı indirmek\n",
        "files.download('/content/runs.zip')\n"
      ]
    }
  ],
  "metadata": {
    "accelerator": "GPU",
    "colab": {
      "gpuType": "L4",
      "provenance": [],
      "machine_shape": "hm"
    },
    "kernelspec": {
      "display_name": "Python 3",
      "name": "python3"
    },
    "language_info": {
      "name": "python"
    }
  },
  "nbformat": 4,
  "nbformat_minor": 0
}