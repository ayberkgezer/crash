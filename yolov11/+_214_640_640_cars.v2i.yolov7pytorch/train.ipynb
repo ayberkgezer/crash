{
  "nbformat": 4,
  "nbformat_minor": 0,
  "metadata": {
    "colab": {
      "provenance": [],
      "gpuType": "T4"
    },
    "kernelspec": {
      "name": "python3",
      "display_name": "Python 3"
    },
    "language_info": {
      "name": "python"
    },
    "accelerator": "GPU"
  },
  "cells": [
    {
      "cell_type": "code",
      "execution_count": 1,
      "metadata": {
        "colab": {
          "base_uri": "https://localhost:8080/"
        },
        "id": "iRGohlNhPyun",
        "outputId": "8ea1446f-941d-4786-d2d4-9fd4ce73780a"
      },
      "outputs": [
        {
          "output_type": "stream",
          "name": "stdout",
          "text": [
            "Mon Oct 14 17:43:26 2024       \n",
            "+---------------------------------------------------------------------------------------+\n",
            "| NVIDIA-SMI 535.104.05             Driver Version: 535.104.05   CUDA Version: 12.2     |\n",
            "|-----------------------------------------+----------------------+----------------------+\n",
            "| GPU  Name                 Persistence-M | Bus-Id        Disp.A | Volatile Uncorr. ECC |\n",
            "| Fan  Temp   Perf          Pwr:Usage/Cap |         Memory-Usage | GPU-Util  Compute M. |\n",
            "|                                         |                      |               MIG M. |\n",
            "|=========================================+======================+======================|\n",
            "|   0  Tesla T4                       Off | 00000000:00:04.0 Off |                    0 |\n",
            "| N/A   44C    P8               9W /  70W |      0MiB / 15360MiB |      0%      Default |\n",
            "|                                         |                      |                  N/A |\n",
            "+-----------------------------------------+----------------------+----------------------+\n",
            "                                                                                         \n",
            "+---------------------------------------------------------------------------------------+\n",
            "| Processes:                                                                            |\n",
            "|  GPU   GI   CI        PID   Type   Process name                            GPU Memory |\n",
            "|        ID   ID                                                             Usage      |\n",
            "|=======================================================================================|\n",
            "|  No running processes found                                                           |\n",
            "+---------------------------------------------------------------------------------------+\n"
          ]
        }
      ],
      "source": [
        "!nvidia-smi"
      ]
    },
    {
      "cell_type": "code",
      "source": [
        "from google.colab import drive\n",
        "drive.mount('/content/drive')"
      ],
      "metadata": {
        "colab": {
          "base_uri": "https://localhost:8080/"
        },
        "id": "ZXdkG0oTP4Fp",
        "outputId": "c92d31f8-a8ec-4026-a341-64fc501c52da"
      },
      "execution_count": 2,
      "outputs": [
        {
          "output_type": "stream",
          "name": "stdout",
          "text": [
            "Mounted at /content/drive\n"
          ]
        }
      ]
    },
    {
      "cell_type": "code",
      "source": [
        "!unzip /content/drive/MyDrive/+_214_640_640_cars.v2i.yolov7pytorch.zip"
      ],
      "metadata": {
        "id": "IdrfiHhUP6tY",
        "colab": {
          "base_uri": "https://localhost:8080/"
        },
        "outputId": "3b155da2-053d-4bfa-a3bb-ac415e32af93"
      },
      "execution_count": 3,
      "outputs": [
        {
          "output_type": "stream",
          "name": "stdout",
          "text": [
            "Archive:  /content/drive/MyDrive/+_214_640_640_cars.v2i.yolov7pytorch.zip\n",
            "   creating: +_214_640_640_cars.v2i.yolov7pytorch/\n",
            "  inflating: __MACOSX/._+_214_640_640_cars.v2i.yolov7pytorch  \n",
            "  inflating: +_214_640_640_cars.v2i.yolov7pytorch/README.roboflow.txt  \n",
            "  inflating: __MACOSX/+_214_640_640_cars.v2i.yolov7pytorch/._README.roboflow.txt  \n",
            "   creating: +_214_640_640_cars.v2i.yolov7pytorch/valid/\n",
            "  inflating: __MACOSX/+_214_640_640_cars.v2i.yolov7pytorch/._valid  \n",
            "  inflating: +_214_640_640_cars.v2i.yolov7pytorch/README.dataset.txt  \n",
            "  inflating: __MACOSX/+_214_640_640_cars.v2i.yolov7pytorch/._README.dataset.txt  \n",
            "  inflating: +_214_640_640_cars.v2i.yolov7pytorch/.DS_Store  \n",
            "  inflating: __MACOSX/+_214_640_640_cars.v2i.yolov7pytorch/._.DS_Store  \n",
            "   creating: +_214_640_640_cars.v2i.yolov7pytorch/test/\n",
            "  inflating: __MACOSX/+_214_640_640_cars.v2i.yolov7pytorch/._test  \n",
            "  inflating: +_214_640_640_cars.v2i.yolov7pytorch/data.yaml  \n",
            "  inflating: __MACOSX/+_214_640_640_cars.v2i.yolov7pytorch/._data.yaml  \n",
            "   creating: +_214_640_640_cars.v2i.yolov7pytorch/train/\n",
            "  inflating: __MACOSX/+_214_640_640_cars.v2i.yolov7pytorch/._train  \n",
            "   creating: +_214_640_640_cars.v2i.yolov7pytorch/valid/images/\n",
            "  inflating: __MACOSX/+_214_640_640_cars.v2i.yolov7pytorch/valid/._images  \n",
            "   creating: +_214_640_640_cars.v2i.yolov7pytorch/valid/labels/\n",
            "  inflating: __MACOSX/+_214_640_640_cars.v2i.yolov7pytorch/valid/._labels  \n",
            "  inflating: +_214_640_640_cars.v2i.yolov7pytorch/test/.DS_Store  \n",
            "  inflating: __MACOSX/+_214_640_640_cars.v2i.yolov7pytorch/test/._.DS_Store  \n",
            "   creating: +_214_640_640_cars.v2i.yolov7pytorch/test/images/\n",
            "  inflating: __MACOSX/+_214_640_640_cars.v2i.yolov7pytorch/test/._images  \n",
            "   creating: +_214_640_640_cars.v2i.yolov7pytorch/test/labels/\n",
            "  inflating: __MACOSX/+_214_640_640_cars.v2i.yolov7pytorch/test/._labels  \n",
            "   creating: +_214_640_640_cars.v2i.yolov7pytorch/train/images/\n",
            "  inflating: __MACOSX/+_214_640_640_cars.v2i.yolov7pytorch/train/._images  \n",
            "   creating: +_214_640_640_cars.v2i.yolov7pytorch/train/labels/\n",
            "  inflating: __MACOSX/+_214_640_640_cars.v2i.yolov7pytorch/train/._labels  \n",
            "  inflating: +_214_640_640_cars.v2i.yolov7pytorch/valid/images/b68a8eb4-vehicle_crash-79-_jpg.rf.c0cfc44e4cfa13d071a0011d1884af44.jpg  \n",
            "  inflating: __MACOSX/+_214_640_640_cars.v2i.yolov7pytorch/valid/images/._b68a8eb4-vehicle_crash-79-_jpg.rf.c0cfc44e4cfa13d071a0011d1884af44.jpg  \n",
            "  inflating: +_214_640_640_cars.v2i.yolov7pytorch/valid/images/1b699b7b-img-Dq3REEGWDU4vIfjLwJsI8_png_jpg.rf.28ffc92aa0fd56dc98fc110eff78035e.jpg  \n",
            "  inflating: __MACOSX/+_214_640_640_cars.v2i.yolov7pytorch/valid/images/._1b699b7b-img-Dq3REEGWDU4vIfjLwJsI8_png_jpg.rf.28ffc92aa0fd56dc98fc110eff78035e.jpg  \n",
            "  inflating: +_214_640_640_cars.v2i.yolov7pytorch/valid/images/9f0b9ca0-img-IgCcvF7cNRjfYqeoDiRQO_png_jpg.rf.22e14373b28d43ff6be6126149a33eea.jpg  \n",
            "  inflating: __MACOSX/+_214_640_640_cars.v2i.yolov7pytorch/valid/images/._9f0b9ca0-img-IgCcvF7cNRjfYqeoDiRQO_png_jpg.rf.22e14373b28d43ff6be6126149a33eea.jpg  \n",
            "  inflating: +_214_640_640_cars.v2i.yolov7pytorch/valid/images/b6daf095-img-Zc3UHzxvB0btLi0MWmk7d_jpeg_jpg.rf.e0e96557a69777d43c8985c6dcc43a7d.jpg  \n",
            "  inflating: __MACOSX/+_214_640_640_cars.v2i.yolov7pytorch/valid/images/._b6daf095-img-Zc3UHzxvB0btLi0MWmk7d_jpeg_jpg.rf.e0e96557a69777d43c8985c6dcc43a7d.jpg  \n",
            "  inflating: +_214_640_640_cars.v2i.yolov7pytorch/valid/images/1e6efee7-vehicle_crash-41-_jpg.rf.588837c43df4b2b9a1a8827b90fec30b.jpg  \n",
            "  inflating: __MACOSX/+_214_640_640_cars.v2i.yolov7pytorch/valid/images/._1e6efee7-vehicle_crash-41-_jpg.rf.588837c43df4b2b9a1a8827b90fec30b.jpg  \n",
            "  inflating: +_214_640_640_cars.v2i.yolov7pytorch/valid/images/6a699723-_jpg.rf.4260042bb8f259ab355c2b27155193cf.jpg  \n",
            "  inflating: __MACOSX/+_214_640_640_cars.v2i.yolov7pytorch/valid/images/._6a699723-_jpg.rf.4260042bb8f259ab355c2b27155193cf.jpg  \n",
            "  inflating: +_214_640_640_cars.v2i.yolov7pytorch/valid/images/ecd965a2-vehicle_crash-286-_jpg.rf.174b494e25f086605d43a97b9242c4f1.jpg  \n",
            "  inflating: __MACOSX/+_214_640_640_cars.v2i.yolov7pytorch/valid/images/._ecd965a2-vehicle_crash-286-_jpg.rf.174b494e25f086605d43a97b9242c4f1.jpg  \n",
            "  inflating: +_214_640_640_cars.v2i.yolov7pytorch/valid/images/c66cb8ed-test14_9_jpg.rf.3c944443bed5a81e2eadfb72affe1090.jpg  \n",
            "  inflating: __MACOSX/+_214_640_640_cars.v2i.yolov7pytorch/valid/images/._c66cb8ed-test14_9_jpg.rf.3c944443bed5a81e2eadfb72affe1090.jpg  \n",
            "  inflating: +_214_640_640_cars.v2i.yolov7pytorch/valid/images/d3abaeab-vehicle_crash-450-_jpg.rf.6aca73a4cf93f47b9a57901090c02527.jpg  \n",
            "  inflating: __MACOSX/+_214_640_640_cars.v2i.yolov7pytorch/valid/images/._d3abaeab-vehicle_crash-450-_jpg.rf.6aca73a4cf93f47b9a57901090c02527.jpg  \n",
            "  inflating: +_214_640_640_cars.v2i.yolov7pytorch/valid/images/1327fbd3-images_12_jpg.rf.aa047e2714d43bf3fb5ae4a427203ff9.jpg  \n",
            "  inflating: __MACOSX/+_214_640_640_cars.v2i.yolov7pytorch/valid/images/._1327fbd3-images_12_jpg.rf.aa047e2714d43bf3fb5ae4a427203ff9.jpg  \n",
            "  inflating: +_214_640_640_cars.v2i.yolov7pytorch/valid/images/81c02a1a-_-_-_1445-05-02_-_11-27-49_b537bd26_jpg.rf.5cd677f67e72f4899d492eacfdb936b3.jpg  \n",
            "  inflating: __MACOSX/+_214_640_640_cars.v2i.yolov7pytorch/valid/images/._81c02a1a-_-_-_1445-05-02_-_11-27-49_b537bd26_jpg.rf.5cd677f67e72f4899d492eacfdb936b3.jpg  \n",
            "  inflating: +_214_640_640_cars.v2i.yolov7pytorch/valid/images/a5777c45-img_4635749_jpg.rf.dff215969843ddde743546d43f435e75.jpg  \n",
            "  inflating: __MACOSX/+_214_640_640_cars.v2i.yolov7pytorch/valid/images/._a5777c45-img_4635749_jpg.rf.dff215969843ddde743546d43f435e75.jpg  \n",
            "  inflating: +_214_640_640_cars.v2i.yolov7pytorch/valid/images/43b5c3a9-images_jpg.rf.843c3cfc328e6d4c20160386e14d8215.jpg  \n",
            "  inflating: __MACOSX/+_214_640_640_cars.v2i.yolov7pytorch/valid/images/._43b5c3a9-images_jpg.rf.843c3cfc328e6d4c20160386e14d8215.jpg  \n",
            "  inflating: +_214_640_640_cars.v2i.yolov7pytorch/valid/images/6a699723-_jpg.rf.9c3262faa538619c90088cad28b3e995.jpg  \n",
            "  inflating: __MACOSX/+_214_640_640_cars.v2i.yolov7pytorch/valid/images/._6a699723-_jpg.rf.9c3262faa538619c90088cad28b3e995.jpg  \n",
            "  inflating: +_214_640_640_cars.v2i.yolov7pytorch/valid/images/6ad94748-img_4514813_jpg.rf.a2e845eeaca24670c92ff1d2146d3124.jpg  \n",
            "  inflating: __MACOSX/+_214_640_640_cars.v2i.yolov7pytorch/valid/images/._6ad94748-img_4514813_jpg.rf.a2e845eeaca24670c92ff1d2146d3124.jpg  \n",
            "  inflating: +_214_640_640_cars.v2i.yolov7pytorch/valid/images/ecd965a2-vehicle_crash-286-_jpg.rf.29efb3d9562ec22996e20fa2e26ffcb9.jpg  \n",
            "  inflating: __MACOSX/+_214_640_640_cars.v2i.yolov7pytorch/valid/images/._ecd965a2-vehicle_crash-286-_jpg.rf.29efb3d9562ec22996e20fa2e26ffcb9.jpg  \n",
            "  inflating: +_214_640_640_cars.v2i.yolov7pytorch/valid/images/b6daf095-img-Zc3UHzxvB0btLi0MWmk7d_jpeg_jpg.rf.19fb363713e981d9ff67dbf855139883.jpg  \n",
            "  inflating: __MACOSX/+_214_640_640_cars.v2i.yolov7pytorch/valid/images/._b6daf095-img-Zc3UHzxvB0btLi0MWmk7d_jpeg_jpg.rf.19fb363713e981d9ff67dbf855139883.jpg  \n",
            "  inflating: +_214_640_640_cars.v2i.yolov7pytorch/valid/images/a5edec4b-img-NCnTZYsITYWX4o5y2Y7pu_2_png_jpg.rf.54437d08f865d9011f47dde626d6ea8f.jpg  \n",
            "  inflating: __MACOSX/+_214_640_640_cars.v2i.yolov7pytorch/valid/images/._a5edec4b-img-NCnTZYsITYWX4o5y2Y7pu_2_png_jpg.rf.54437d08f865d9011f47dde626d6ea8f.jpg  \n",
            "  inflating: +_214_640_640_cars.v2i.yolov7pytorch/valid/images/d7fa5093-img-0qUc8X5I2gc0IZeWieNbp_jpeg_jpg.rf.0636aebdaf882c421fb34d915b319a7e.jpg  \n",
            "  inflating: __MACOSX/+_214_640_640_cars.v2i.yolov7pytorch/valid/images/._d7fa5093-img-0qUc8X5I2gc0IZeWieNbp_jpeg_jpg.rf.0636aebdaf882c421fb34d915b319a7e.jpg  \n",
            "  inflating: +_214_640_640_cars.v2i.yolov7pytorch/valid/images/6ad94748-img_4514813_jpg.rf.fca7066abdeed0b1b288e4350e712a15.jpg  \n",
            "  inflating: __MACOSX/+_214_640_640_cars.v2i.yolov7pytorch/valid/images/._6ad94748-img_4514813_jpg.rf.fca7066abdeed0b1b288e4350e712a15.jpg  \n",
            "  inflating: +_214_640_640_cars.v2i.yolov7pytorch/valid/images/c66cb8ed-test14_9_jpg.rf.2b95cce215f71e288b885fa36625b330.jpg  \n",
            "  inflating: __MACOSX/+_214_640_640_cars.v2i.yolov7pytorch/valid/images/._c66cb8ed-test14_9_jpg.rf.2b95cce215f71e288b885fa36625b330.jpg  \n",
            "  inflating: +_214_640_640_cars.v2i.yolov7pytorch/valid/images/cf69dfa9-vehicle_crash-49-_jpg.rf.cad28ce612612fd3f1f089a053e13a7a.jpg  \n",
            "  inflating: __MACOSX/+_214_640_640_cars.v2i.yolov7pytorch/valid/images/._cf69dfa9-vehicle_crash-49-_jpg.rf.cad28ce612612fd3f1f089a053e13a7a.jpg  \n",
            "  inflating: +_214_640_640_cars.v2i.yolov7pytorch/valid/images/738d6bf4-vehicle_crash-294-_jpg.rf.22e7491c6abdb6144982f7630e5a524e.jpg  \n",
            "  inflating: __MACOSX/+_214_640_640_cars.v2i.yolov7pytorch/valid/images/._738d6bf4-vehicle_crash-294-_jpg.rf.22e7491c6abdb6144982f7630e5a524e.jpg  \n",
            "  inflating: +_214_640_640_cars.v2i.yolov7pytorch/valid/images/e4952682-images_jpg.rf.6f5b3be1fb616be64df2750cad9f0b01.jpg  \n",
            "  inflating: __MACOSX/+_214_640_640_cars.v2i.yolov7pytorch/valid/images/._e4952682-images_jpg.rf.6f5b3be1fb616be64df2750cad9f0b01.jpg  \n",
            "  inflating: +_214_640_640_cars.v2i.yolov7pytorch/valid/images/9a768f6b-img-blrNFfSlaWRruvBDniNFE_png_jpg.rf.627c4852fd9d51227ebf1fa6a8876a22.jpg  \n",
            "  inflating: __MACOSX/+_214_640_640_cars.v2i.yolov7pytorch/valid/images/._9a768f6b-img-blrNFfSlaWRruvBDniNFE_png_jpg.rf.627c4852fd9d51227ebf1fa6a8876a22.jpg  \n",
            "  inflating: +_214_640_640_cars.v2i.yolov7pytorch/valid/images/e07e02cf-img_4517765_jpg.rf.0d6e9b6618b324269d7f2a986df2d698.jpg  \n",
            "  inflating: __MACOSX/+_214_640_640_cars.v2i.yolov7pytorch/valid/images/._e07e02cf-img_4517765_jpg.rf.0d6e9b6618b324269d7f2a986df2d698.jpg  \n",
            "  inflating: +_214_640_640_cars.v2i.yolov7pytorch/valid/images/36565def-images_3_jpg.rf.08fb4e8a2e6246b145c2dc704bdd6073.jpg  \n",
            "  inflating: __MACOSX/+_214_640_640_cars.v2i.yolov7pytorch/valid/images/._36565def-images_3_jpg.rf.08fb4e8a2e6246b145c2dc704bdd6073.jpg  \n",
            "  inflating: +_214_640_640_cars.v2i.yolov7pytorch/valid/images/9c28e5ae-img_4535143_jpg.rf.c3d3f58310bbf9e748cd6bafaee3eab9.jpg  \n",
            "  inflating: __MACOSX/+_214_640_640_cars.v2i.yolov7pytorch/valid/images/._9c28e5ae-img_4535143_jpg.rf.c3d3f58310bbf9e748cd6bafaee3eab9.jpg  \n",
            "  inflating: +_214_640_640_cars.v2i.yolov7pytorch/valid/images/d8240278-img-czznjKXjlFNXICOHrBzKQ_png_jpg.rf.8fbccd95b9ce4bfcc149fbce70304c40.jpg  \n",
            "  inflating: __MACOSX/+_214_640_640_cars.v2i.yolov7pytorch/valid/images/._d8240278-img-czznjKXjlFNXICOHrBzKQ_png_jpg.rf.8fbccd95b9ce4bfcc149fbce70304c40.jpg  \n",
            "  inflating: +_214_640_640_cars.v2i.yolov7pytorch/valid/images/80e04b3e-img_4538945_jpg.rf.d368b071e58ca5954fd6eca84bee6e78.jpg  \n",
            "  inflating: __MACOSX/+_214_640_640_cars.v2i.yolov7pytorch/valid/images/._80e04b3e-img_4538945_jpg.rf.d368b071e58ca5954fd6eca84bee6e78.jpg  \n",
            "  inflating: +_214_640_640_cars.v2i.yolov7pytorch/valid/images/9e090d94-img-MZKKxA5zhURnI6yfsqw0D_jpeg_jpg.rf.ba36e2a3ee47513f5b661d07ba92e2c6.jpg  \n",
            "  inflating: __MACOSX/+_214_640_640_cars.v2i.yolov7pytorch/valid/images/._9e090d94-img-MZKKxA5zhURnI6yfsqw0D_jpeg_jpg.rf.ba36e2a3ee47513f5b661d07ba92e2c6.jpg  \n",
            "  inflating: +_214_640_640_cars.v2i.yolov7pytorch/valid/images/91539fc6-vehicle_crash-65-_jpg.rf.9e50283d6fab768215d0e8b3ecdde8ee.jpg  \n",
            "  inflating: __MACOSX/+_214_640_640_cars.v2i.yolov7pytorch/valid/images/._91539fc6-vehicle_crash-65-_jpg.rf.9e50283d6fab768215d0e8b3ecdde8ee.jpg  \n",
            "  inflating: +_214_640_640_cars.v2i.yolov7pytorch/valid/images/36565def-images_3_jpg.rf.7e5b021df930fc79239a4b520c75bff1.jpg  \n",
            "  inflating: __MACOSX/+_214_640_640_cars.v2i.yolov7pytorch/valid/images/._36565def-images_3_jpg.rf.7e5b021df930fc79239a4b520c75bff1.jpg  \n",
            "  inflating: +_214_640_640_cars.v2i.yolov7pytorch/valid/images/f600593a-image_jpg.rf.91116ba97f0add869d8b82ec9d8930f4.jpg  \n",
            "  inflating: __MACOSX/+_214_640_640_cars.v2i.yolov7pytorch/valid/images/._f600593a-image_jpg.rf.91116ba97f0add869d8b82ec9d8930f4.jpg  \n",
            "  inflating: +_214_640_640_cars.v2i.yolov7pytorch/valid/images/9f0b9ca0-img-IgCcvF7cNRjfYqeoDiRQO_png_jpg.rf.d442d97e25ffbbd300d4fe299190e426.jpg  \n",
            "  inflating: __MACOSX/+_214_640_640_cars.v2i.yolov7pytorch/valid/images/._9f0b9ca0-img-IgCcvF7cNRjfYqeoDiRQO_png_jpg.rf.d442d97e25ffbbd300d4fe299190e426.jpg  \n",
            "  inflating: +_214_640_640_cars.v2i.yolov7pytorch/valid/images/cf69dfa9-vehicle_crash-49-_jpg.rf.335dedc4aae0cd9ed8208d63a181712c.jpg  \n",
            "  inflating: __MACOSX/+_214_640_640_cars.v2i.yolov7pytorch/valid/images/._cf69dfa9-vehicle_crash-49-_jpg.rf.335dedc4aae0cd9ed8208d63a181712c.jpg  \n",
            "  inflating: +_214_640_640_cars.v2i.yolov7pytorch/valid/images/59949c1c-vehicle_crash-162-_jpg.rf.a48b4185eb81dd9fe41be524684a1f36.jpg  \n",
            "  inflating: __MACOSX/+_214_640_640_cars.v2i.yolov7pytorch/valid/images/._59949c1c-vehicle_crash-162-_jpg.rf.a48b4185eb81dd9fe41be524684a1f36.jpg  \n",
            "  inflating: +_214_640_640_cars.v2i.yolov7pytorch/valid/images/90016bbe-img-ZxlLsWIIkXuyFgbAxHJoR_png_jpg.rf.26a6c3843f6b5ee0f2fed09825e831f4.jpg  \n",
            "  inflating: __MACOSX/+_214_640_640_cars.v2i.yolov7pytorch/valid/images/._90016bbe-img-ZxlLsWIIkXuyFgbAxHJoR_png_jpg.rf.26a6c3843f6b5ee0f2fed09825e831f4.jpg  \n",
            "  inflating: +_214_640_640_cars.v2i.yolov7pytorch/valid/images/33a4f8d2-img_4635465_jpg.rf.e14c7be09c9fe2a65e3f2341b2c5b300.jpg  \n",
            "  inflating: __MACOSX/+_214_640_640_cars.v2i.yolov7pytorch/valid/images/._33a4f8d2-img_4635465_jpg.rf.e14c7be09c9fe2a65e3f2341b2c5b300.jpg  \n",
            "  inflating: +_214_640_640_cars.v2i.yolov7pytorch/valid/images/20fae09d-vehicle_crash-313-_jpg.rf.297548aa4b6019a9b24ede7cc72fd8a5.jpg  \n",
            "  inflating: __MACOSX/+_214_640_640_cars.v2i.yolov7pytorch/valid/images/._20fae09d-vehicle_crash-313-_jpg.rf.297548aa4b6019a9b24ede7cc72fd8a5.jpg  \n",
            "  inflating: +_214_640_640_cars.v2i.yolov7pytorch/valid/images/61f0fc17-vehicle_crash-248-_jpg.rf.01abd76781827dd84df0a3625867c368.jpg  \n",
            "  inflating: __MACOSX/+_214_640_640_cars.v2i.yolov7pytorch/valid/images/._61f0fc17-vehicle_crash-248-_jpg.rf.01abd76781827dd84df0a3625867c368.jpg  \n",
            "  inflating: +_214_640_640_cars.v2i.yolov7pytorch/valid/images/6a3b412b-img-jCDIxqi4FEHSxdlaaxKnV_png_jpg.rf.828dfebb1f05bb46d5459b815cf7d731.jpg  \n",
            "  inflating: __MACOSX/+_214_640_640_cars.v2i.yolov7pytorch/valid/images/._6a3b412b-img-jCDIxqi4FEHSxdlaaxKnV_png_jpg.rf.828dfebb1f05bb46d5459b815cf7d731.jpg  \n",
            "  inflating: +_214_640_640_cars.v2i.yolov7pytorch/valid/images/61f0fc17-vehicle_crash-248-_jpg.rf.d3ef2e3128c2031025a2d41e49451922.jpg  \n",
            "  inflating: __MACOSX/+_214_640_640_cars.v2i.yolov7pytorch/valid/images/._61f0fc17-vehicle_crash-248-_jpg.rf.d3ef2e3128c2031025a2d41e49451922.jpg  \n",
            "  inflating: +_214_640_640_cars.v2i.yolov7pytorch/valid/images/9d82d940-images_1_jpg.rf.431913d3a2830769aff7ebd9b6deefd4.jpg  \n",
            "  inflating: __MACOSX/+_214_640_640_cars.v2i.yolov7pytorch/valid/images/._9d82d940-images_1_jpg.rf.431913d3a2830769aff7ebd9b6deefd4.jpg  \n",
            "  inflating: +_214_640_640_cars.v2i.yolov7pytorch/valid/images/a5777c45-img_4635749_jpg.rf.465f577b935ce803280d96ce55100300.jpg  \n",
            "  inflating: __MACOSX/+_214_640_640_cars.v2i.yolov7pytorch/valid/images/._a5777c45-img_4635749_jpg.rf.465f577b935ce803280d96ce55100300.jpg  \n",
            "  inflating: +_214_640_640_cars.v2i.yolov7pytorch/valid/images/fe047af8-img_7766264_jpg.rf.576987d2c184266993bb6234f3306078.jpg  \n",
            "  inflating: __MACOSX/+_214_640_640_cars.v2i.yolov7pytorch/valid/images/._fe047af8-img_7766264_jpg.rf.576987d2c184266993bb6234f3306078.jpg  \n",
            "  inflating: +_214_640_640_cars.v2i.yolov7pytorch/valid/images/439cce02-img-9TnDK60vgmlfsfr8FRYWb_png_jpg.rf.1afa819e44128b2fabb87fde6d613d26.jpg  \n",
            "  inflating: __MACOSX/+_214_640_640_cars.v2i.yolov7pytorch/valid/images/._439cce02-img-9TnDK60vgmlfsfr8FRYWb_png_jpg.rf.1afa819e44128b2fabb87fde6d613d26.jpg  \n",
            "  inflating: +_214_640_640_cars.v2i.yolov7pytorch/valid/images/fb41bd49-img_4516401_jpg.rf.d498edfaed1693adb92b5d35ec7e3c6c.jpg  \n",
            "  inflating: __MACOSX/+_214_640_640_cars.v2i.yolov7pytorch/valid/images/._fb41bd49-img_4516401_jpg.rf.d498edfaed1693adb92b5d35ec7e3c6c.jpg  \n",
            "  inflating: +_214_640_640_cars.v2i.yolov7pytorch/valid/images/61a95cee-img-4vUUs6n7kZSfhKdnugSmc_png_jpg.rf.95c1928aa6e9917e77fadea9b0dc8a9d.jpg  \n",
            "  inflating: __MACOSX/+_214_640_640_cars.v2i.yolov7pytorch/valid/images/._61a95cee-img-4vUUs6n7kZSfhKdnugSmc_png_jpg.rf.95c1928aa6e9917e77fadea9b0dc8a9d.jpg  \n",
            "  inflating: +_214_640_640_cars.v2i.yolov7pytorch/valid/images/adbc0676-img-OPXAOQleUgUjMwoTAWz7u_png_jpg.rf.01897da43b1ba6e05ff1ebf382305ae1.jpg  \n",
            "  inflating: __MACOSX/+_214_640_640_cars.v2i.yolov7pytorch/valid/images/._adbc0676-img-OPXAOQleUgUjMwoTAWz7u_png_jpg.rf.01897da43b1ba6e05ff1ebf382305ae1.jpg  \n",
            "  inflating: +_214_640_640_cars.v2i.yolov7pytorch/valid/images/1648578f-img-SSLhlNf2A5w5WrI6uhOOU_png_jpg.rf.51fa6f01c41e245c49f544b607f928f0.jpg  \n",
            "  inflating: __MACOSX/+_214_640_640_cars.v2i.yolov7pytorch/valid/images/._1648578f-img-SSLhlNf2A5w5WrI6uhOOU_png_jpg.rf.51fa6f01c41e245c49f544b607f928f0.jpg  \n",
            "  inflating: +_214_640_640_cars.v2i.yolov7pytorch/valid/images/66592d81-img_7766876_jpg.rf.b8a4c649c132c7b07b2d5d0b8d32082f.jpg  \n",
            "  inflating: __MACOSX/+_214_640_640_cars.v2i.yolov7pytorch/valid/images/._66592d81-img_7766876_jpg.rf.b8a4c649c132c7b07b2d5d0b8d32082f.jpg  \n",
            "  inflating: +_214_640_640_cars.v2i.yolov7pytorch/valid/images/738d6bf4-vehicle_crash-294-_jpg.rf.0a2c97408eb922adf5e84e01a1c160c5.jpg  \n",
            "  inflating: __MACOSX/+_214_640_640_cars.v2i.yolov7pytorch/valid/images/._738d6bf4-vehicle_crash-294-_jpg.rf.0a2c97408eb922adf5e84e01a1c160c5.jpg  \n",
            "  inflating: +_214_640_640_cars.v2i.yolov7pytorch/valid/images/fe047af8-img_7766264_jpg.rf.ce267f8e9aeda80425bfcf67527dc674.jpg  \n",
            "  inflating: __MACOSX/+_214_640_640_cars.v2i.yolov7pytorch/valid/images/._fe047af8-img_7766264_jpg.rf.ce267f8e9aeda80425bfcf67527dc674.jpg  \n",
            "  inflating: +_214_640_640_cars.v2i.yolov7pytorch/valid/images/76128e0c-vehicle_crash-8-_jpg.rf.e0c92c074de1a5699f2d008a537474c8.jpg  \n",
            "  inflating: __MACOSX/+_214_640_640_cars.v2i.yolov7pytorch/valid/images/._76128e0c-vehicle_crash-8-_jpg.rf.e0c92c074de1a5699f2d008a537474c8.jpg  \n",
            "  inflating: +_214_640_640_cars.v2i.yolov7pytorch/valid/images/4bcb3c47-img-7H5rCD0n2YUMgx9JlDKhQ_jpeg_jpg.rf.21713ee0ef4daa4160aea396170cef40.jpg  \n",
            "  inflating: __MACOSX/+_214_640_640_cars.v2i.yolov7pytorch/valid/images/._4bcb3c47-img-7H5rCD0n2YUMgx9JlDKhQ_jpeg_jpg.rf.21713ee0ef4daa4160aea396170cef40.jpg  \n",
            "  inflating: +_214_640_640_cars.v2i.yolov7pytorch/valid/images/9a768f6b-img-blrNFfSlaWRruvBDniNFE_png_jpg.rf.4729ddaf7f2e00e8dba28d39e671d601.jpg  \n",
            "  inflating: __MACOSX/+_214_640_640_cars.v2i.yolov7pytorch/valid/images/._9a768f6b-img-blrNFfSlaWRruvBDniNFE_png_jpg.rf.4729ddaf7f2e00e8dba28d39e671d601.jpg  \n",
            "  inflating: +_214_640_640_cars.v2i.yolov7pytorch/valid/images/3a828bc6-img-lrl19jqaoFOi0sNtYuFfR_png_jpg.rf.e69aa5a9c10ec7d4a6a5bcab83c826b6.jpg  \n",
            "  inflating: __MACOSX/+_214_640_640_cars.v2i.yolov7pytorch/valid/images/._3a828bc6-img-lrl19jqaoFOi0sNtYuFfR_png_jpg.rf.e69aa5a9c10ec7d4a6a5bcab83c826b6.jpg  \n",
            "  inflating: +_214_640_640_cars.v2i.yolov7pytorch/valid/images/5e39170e-images_1_jpg.rf.cbe35b49bcbe29ff48e6666714fb903b.jpg  \n",
            "  inflating: __MACOSX/+_214_640_640_cars.v2i.yolov7pytorch/valid/images/._5e39170e-images_1_jpg.rf.cbe35b49bcbe29ff48e6666714fb903b.jpg  \n",
            "  inflating: +_214_640_640_cars.v2i.yolov7pytorch/valid/images/54ba7297-img_4516674_jpg.rf.d0643706cd2b25cf19ab43d9016e8a8a.jpg  \n",
            "  inflating: __MACOSX/+_214_640_640_cars.v2i.yolov7pytorch/valid/images/._54ba7297-img_4516674_jpg.rf.d0643706cd2b25cf19ab43d9016e8a8a.jpg  \n",
            "  inflating: +_214_640_640_cars.v2i.yolov7pytorch/valid/labels/a5edec4b-img-NCnTZYsITYWX4o5y2Y7pu_2_png_jpg.rf.54437d08f865d9011f47dde626d6ea8f.txt  \n",
            "  inflating: __MACOSX/+_214_640_640_cars.v2i.yolov7pytorch/valid/labels/._a5edec4b-img-NCnTZYsITYWX4o5y2Y7pu_2_png_jpg.rf.54437d08f865d9011f47dde626d6ea8f.txt  \n",
            "  inflating: +_214_640_640_cars.v2i.yolov7pytorch/valid/labels/b6daf095-img-Zc3UHzxvB0btLi0MWmk7d_jpeg_jpg.rf.19fb363713e981d9ff67dbf855139883.txt  \n",
            "  inflating: __MACOSX/+_214_640_640_cars.v2i.yolov7pytorch/valid/labels/._b6daf095-img-Zc3UHzxvB0btLi0MWmk7d_jpeg_jpg.rf.19fb363713e981d9ff67dbf855139883.txt  \n",
            "  inflating: +_214_640_640_cars.v2i.yolov7pytorch/valid/labels/6ad94748-img_4514813_jpg.rf.fca7066abdeed0b1b288e4350e712a15.txt  \n",
            "  inflating: __MACOSX/+_214_640_640_cars.v2i.yolov7pytorch/valid/labels/._6ad94748-img_4514813_jpg.rf.fca7066abdeed0b1b288e4350e712a15.txt  \n",
            "  inflating: +_214_640_640_cars.v2i.yolov7pytorch/valid/labels/d7fa5093-img-0qUc8X5I2gc0IZeWieNbp_jpeg_jpg.rf.0636aebdaf882c421fb34d915b319a7e.txt  \n",
            "  inflating: __MACOSX/+_214_640_640_cars.v2i.yolov7pytorch/valid/labels/._d7fa5093-img-0qUc8X5I2gc0IZeWieNbp_jpeg_jpg.rf.0636aebdaf882c421fb34d915b319a7e.txt  \n",
            "  inflating: +_214_640_640_cars.v2i.yolov7pytorch/valid/labels/ecd965a2-vehicle_crash-286-_jpg.rf.29efb3d9562ec22996e20fa2e26ffcb9.txt  \n",
            "  inflating: __MACOSX/+_214_640_640_cars.v2i.yolov7pytorch/valid/labels/._ecd965a2-vehicle_crash-286-_jpg.rf.29efb3d9562ec22996e20fa2e26ffcb9.txt  \n",
            "  inflating: +_214_640_640_cars.v2i.yolov7pytorch/valid/labels/6ad94748-img_4514813_jpg.rf.a2e845eeaca24670c92ff1d2146d3124.txt  \n",
            "  inflating: __MACOSX/+_214_640_640_cars.v2i.yolov7pytorch/valid/labels/._6ad94748-img_4514813_jpg.rf.a2e845eeaca24670c92ff1d2146d3124.txt  \n",
            "  inflating: +_214_640_640_cars.v2i.yolov7pytorch/valid/labels/6a699723-_jpg.rf.9c3262faa538619c90088cad28b3e995.txt  \n",
            "  inflating: __MACOSX/+_214_640_640_cars.v2i.yolov7pytorch/valid/labels/._6a699723-_jpg.rf.9c3262faa538619c90088cad28b3e995.txt  \n",
            "  inflating: +_214_640_640_cars.v2i.yolov7pytorch/valid/labels/738d6bf4-vehicle_crash-294-_jpg.rf.22e7491c6abdb6144982f7630e5a524e.txt  \n",
            "  inflating: __MACOSX/+_214_640_640_cars.v2i.yolov7pytorch/valid/labels/._738d6bf4-vehicle_crash-294-_jpg.rf.22e7491c6abdb6144982f7630e5a524e.txt  \n",
            "  inflating: +_214_640_640_cars.v2i.yolov7pytorch/valid/labels/cf69dfa9-vehicle_crash-49-_jpg.rf.cad28ce612612fd3f1f089a053e13a7a.txt  \n",
            "  inflating: __MACOSX/+_214_640_640_cars.v2i.yolov7pytorch/valid/labels/._cf69dfa9-vehicle_crash-49-_jpg.rf.cad28ce612612fd3f1f089a053e13a7a.txt  \n",
            "  inflating: +_214_640_640_cars.v2i.yolov7pytorch/valid/labels/c66cb8ed-test14_9_jpg.rf.2b95cce215f71e288b885fa36625b330.txt  \n",
            "  inflating: __MACOSX/+_214_640_640_cars.v2i.yolov7pytorch/valid/labels/._c66cb8ed-test14_9_jpg.rf.2b95cce215f71e288b885fa36625b330.txt  \n",
            "  inflating: +_214_640_640_cars.v2i.yolov7pytorch/valid/labels/36565def-images_3_jpg.rf.08fb4e8a2e6246b145c2dc704bdd6073.txt  \n",
            "  inflating: __MACOSX/+_214_640_640_cars.v2i.yolov7pytorch/valid/labels/._36565def-images_3_jpg.rf.08fb4e8a2e6246b145c2dc704bdd6073.txt  \n",
            "  inflating: +_214_640_640_cars.v2i.yolov7pytorch/valid/labels/9c28e5ae-img_4535143_jpg.rf.c3d3f58310bbf9e748cd6bafaee3eab9.txt  \n",
            "  inflating: __MACOSX/+_214_640_640_cars.v2i.yolov7pytorch/valid/labels/._9c28e5ae-img_4535143_jpg.rf.c3d3f58310bbf9e748cd6bafaee3eab9.txt  \n",
            "  inflating: +_214_640_640_cars.v2i.yolov7pytorch/valid/labels/d8240278-img-czznjKXjlFNXICOHrBzKQ_png_jpg.rf.8fbccd95b9ce4bfcc149fbce70304c40.txt  \n",
            "  inflating: __MACOSX/+_214_640_640_cars.v2i.yolov7pytorch/valid/labels/._d8240278-img-czznjKXjlFNXICOHrBzKQ_png_jpg.rf.8fbccd95b9ce4bfcc149fbce70304c40.txt  \n",
            "  inflating: +_214_640_640_cars.v2i.yolov7pytorch/valid/labels/9a768f6b-img-blrNFfSlaWRruvBDniNFE_png_jpg.rf.627c4852fd9d51227ebf1fa6a8876a22.txt  \n",
            "  inflating: __MACOSX/+_214_640_640_cars.v2i.yolov7pytorch/valid/labels/._9a768f6b-img-blrNFfSlaWRruvBDniNFE_png_jpg.rf.627c4852fd9d51227ebf1fa6a8876a22.txt  \n",
            "  inflating: +_214_640_640_cars.v2i.yolov7pytorch/valid/labels/e4952682-images_jpg.rf.6f5b3be1fb616be64df2750cad9f0b01.txt  \n",
            "  inflating: __MACOSX/+_214_640_640_cars.v2i.yolov7pytorch/valid/labels/._e4952682-images_jpg.rf.6f5b3be1fb616be64df2750cad9f0b01.txt  \n",
            "  inflating: +_214_640_640_cars.v2i.yolov7pytorch/valid/labels/e07e02cf-img_4517765_jpg.rf.0d6e9b6618b324269d7f2a986df2d698.txt  \n",
            "  inflating: __MACOSX/+_214_640_640_cars.v2i.yolov7pytorch/valid/labels/._e07e02cf-img_4517765_jpg.rf.0d6e9b6618b324269d7f2a986df2d698.txt  \n",
            "  inflating: +_214_640_640_cars.v2i.yolov7pytorch/valid/labels/9e090d94-img-MZKKxA5zhURnI6yfsqw0D_jpeg_jpg.rf.ba36e2a3ee47513f5b661d07ba92e2c6.txt  \n",
            "  inflating: __MACOSX/+_214_640_640_cars.v2i.yolov7pytorch/valid/labels/._9e090d94-img-MZKKxA5zhURnI6yfsqw0D_jpeg_jpg.rf.ba36e2a3ee47513f5b661d07ba92e2c6.txt  \n",
            "  inflating: +_214_640_640_cars.v2i.yolov7pytorch/valid/labels/80e04b3e-img_4538945_jpg.rf.d368b071e58ca5954fd6eca84bee6e78.txt  \n",
            "  inflating: __MACOSX/+_214_640_640_cars.v2i.yolov7pytorch/valid/labels/._80e04b3e-img_4538945_jpg.rf.d368b071e58ca5954fd6eca84bee6e78.txt  \n",
            "  inflating: +_214_640_640_cars.v2i.yolov7pytorch/valid/labels/b6daf095-img-Zc3UHzxvB0btLi0MWmk7d_jpeg_jpg.rf.e0e96557a69777d43c8985c6dcc43a7d.txt  \n",
            "  inflating: __MACOSX/+_214_640_640_cars.v2i.yolov7pytorch/valid/labels/._b6daf095-img-Zc3UHzxvB0btLi0MWmk7d_jpeg_jpg.rf.e0e96557a69777d43c8985c6dcc43a7d.txt  \n",
            "  inflating: +_214_640_640_cars.v2i.yolov7pytorch/valid/labels/1b699b7b-img-Dq3REEGWDU4vIfjLwJsI8_png_jpg.rf.28ffc92aa0fd56dc98fc110eff78035e.txt  \n",
            "  inflating: __MACOSX/+_214_640_640_cars.v2i.yolov7pytorch/valid/labels/._1b699b7b-img-Dq3REEGWDU4vIfjLwJsI8_png_jpg.rf.28ffc92aa0fd56dc98fc110eff78035e.txt  \n",
            "  inflating: +_214_640_640_cars.v2i.yolov7pytorch/valid/labels/9f0b9ca0-img-IgCcvF7cNRjfYqeoDiRQO_png_jpg.rf.22e14373b28d43ff6be6126149a33eea.txt  \n",
            "  inflating: __MACOSX/+_214_640_640_cars.v2i.yolov7pytorch/valid/labels/._9f0b9ca0-img-IgCcvF7cNRjfYqeoDiRQO_png_jpg.rf.22e14373b28d43ff6be6126149a33eea.txt  \n",
            "  inflating: +_214_640_640_cars.v2i.yolov7pytorch/valid/labels/1e6efee7-vehicle_crash-41-_jpg.rf.588837c43df4b2b9a1a8827b90fec30b.txt  \n",
            "  inflating: __MACOSX/+_214_640_640_cars.v2i.yolov7pytorch/valid/labels/._1e6efee7-vehicle_crash-41-_jpg.rf.588837c43df4b2b9a1a8827b90fec30b.txt  \n",
            "  inflating: +_214_640_640_cars.v2i.yolov7pytorch/valid/labels/b68a8eb4-vehicle_crash-79-_jpg.rf.c0cfc44e4cfa13d071a0011d1884af44.txt  \n",
            "  inflating: __MACOSX/+_214_640_640_cars.v2i.yolov7pytorch/valid/labels/._b68a8eb4-vehicle_crash-79-_jpg.rf.c0cfc44e4cfa13d071a0011d1884af44.txt  \n",
            "  inflating: +_214_640_640_cars.v2i.yolov7pytorch/valid/labels/ecd965a2-vehicle_crash-286-_jpg.rf.174b494e25f086605d43a97b9242c4f1.txt  \n",
            "  inflating: __MACOSX/+_214_640_640_cars.v2i.yolov7pytorch/valid/labels/._ecd965a2-vehicle_crash-286-_jpg.rf.174b494e25f086605d43a97b9242c4f1.txt  \n",
            "  inflating: +_214_640_640_cars.v2i.yolov7pytorch/valid/labels/6a699723-_jpg.rf.4260042bb8f259ab355c2b27155193cf.txt  \n",
            "  inflating: __MACOSX/+_214_640_640_cars.v2i.yolov7pytorch/valid/labels/._6a699723-_jpg.rf.4260042bb8f259ab355c2b27155193cf.txt  \n",
            "  inflating: +_214_640_640_cars.v2i.yolov7pytorch/valid/labels/d3abaeab-vehicle_crash-450-_jpg.rf.6aca73a4cf93f47b9a57901090c02527.txt  \n",
            "  inflating: __MACOSX/+_214_640_640_cars.v2i.yolov7pytorch/valid/labels/._d3abaeab-vehicle_crash-450-_jpg.rf.6aca73a4cf93f47b9a57901090c02527.txt  \n",
            "  inflating: +_214_640_640_cars.v2i.yolov7pytorch/valid/labels/c66cb8ed-test14_9_jpg.rf.3c944443bed5a81e2eadfb72affe1090.txt  \n",
            "  inflating: __MACOSX/+_214_640_640_cars.v2i.yolov7pytorch/valid/labels/._c66cb8ed-test14_9_jpg.rf.3c944443bed5a81e2eadfb72affe1090.txt  \n",
            "  inflating: +_214_640_640_cars.v2i.yolov7pytorch/valid/labels/1327fbd3-images_12_jpg.rf.aa047e2714d43bf3fb5ae4a427203ff9.txt  \n",
            "  inflating: __MACOSX/+_214_640_640_cars.v2i.yolov7pytorch/valid/labels/._1327fbd3-images_12_jpg.rf.aa047e2714d43bf3fb5ae4a427203ff9.txt  \n",
            "  inflating: +_214_640_640_cars.v2i.yolov7pytorch/valid/labels/43b5c3a9-images_jpg.rf.843c3cfc328e6d4c20160386e14d8215.txt  \n",
            "  inflating: __MACOSX/+_214_640_640_cars.v2i.yolov7pytorch/valid/labels/._43b5c3a9-images_jpg.rf.843c3cfc328e6d4c20160386e14d8215.txt  \n",
            "  inflating: +_214_640_640_cars.v2i.yolov7pytorch/valid/labels/a5777c45-img_4635749_jpg.rf.dff215969843ddde743546d43f435e75.txt  \n",
            "  inflating: __MACOSX/+_214_640_640_cars.v2i.yolov7pytorch/valid/labels/._a5777c45-img_4635749_jpg.rf.dff215969843ddde743546d43f435e75.txt  \n",
            "  inflating: +_214_640_640_cars.v2i.yolov7pytorch/valid/labels/81c02a1a-_-_-_1445-05-02_-_11-27-49_b537bd26_jpg.rf.5cd677f67e72f4899d492eacfdb936b3.txt  \n",
            "  inflating: __MACOSX/+_214_640_640_cars.v2i.yolov7pytorch/valid/labels/._81c02a1a-_-_-_1445-05-02_-_11-27-49_b537bd26_jpg.rf.5cd677f67e72f4899d492eacfdb936b3.txt  \n",
            "  inflating: +_214_640_640_cars.v2i.yolov7pytorch/valid/labels/66592d81-img_7766876_jpg.rf.b8a4c649c132c7b07b2d5d0b8d32082f.txt  \n",
            "  inflating: __MACOSX/+_214_640_640_cars.v2i.yolov7pytorch/valid/labels/._66592d81-img_7766876_jpg.rf.b8a4c649c132c7b07b2d5d0b8d32082f.txt  \n",
            "  inflating: +_214_640_640_cars.v2i.yolov7pytorch/valid/labels/adbc0676-img-OPXAOQleUgUjMwoTAWz7u_png_jpg.rf.01897da43b1ba6e05ff1ebf382305ae1.txt  \n",
            "  inflating: __MACOSX/+_214_640_640_cars.v2i.yolov7pytorch/valid/labels/._adbc0676-img-OPXAOQleUgUjMwoTAWz7u_png_jpg.rf.01897da43b1ba6e05ff1ebf382305ae1.txt  \n",
            "  inflating: +_214_640_640_cars.v2i.yolov7pytorch/valid/labels/1648578f-img-SSLhlNf2A5w5WrI6uhOOU_png_jpg.rf.51fa6f01c41e245c49f544b607f928f0.txt  \n",
            "  inflating: __MACOSX/+_214_640_640_cars.v2i.yolov7pytorch/valid/labels/._1648578f-img-SSLhlNf2A5w5WrI6uhOOU_png_jpg.rf.51fa6f01c41e245c49f544b607f928f0.txt  \n",
            "  inflating: +_214_640_640_cars.v2i.yolov7pytorch/valid/labels/738d6bf4-vehicle_crash-294-_jpg.rf.0a2c97408eb922adf5e84e01a1c160c5.txt  \n",
            "  inflating: __MACOSX/+_214_640_640_cars.v2i.yolov7pytorch/valid/labels/._738d6bf4-vehicle_crash-294-_jpg.rf.0a2c97408eb922adf5e84e01a1c160c5.txt  \n",
            "  inflating: +_214_640_640_cars.v2i.yolov7pytorch/valid/labels/fe047af8-img_7766264_jpg.rf.ce267f8e9aeda80425bfcf67527dc674.txt  \n",
            "  inflating: __MACOSX/+_214_640_640_cars.v2i.yolov7pytorch/valid/labels/._fe047af8-img_7766264_jpg.rf.ce267f8e9aeda80425bfcf67527dc674.txt  \n",
            "  inflating: +_214_640_640_cars.v2i.yolov7pytorch/valid/labels/5e39170e-images_1_jpg.rf.cbe35b49bcbe29ff48e6666714fb903b.txt  \n",
            "  inflating: __MACOSX/+_214_640_640_cars.v2i.yolov7pytorch/valid/labels/._5e39170e-images_1_jpg.rf.cbe35b49bcbe29ff48e6666714fb903b.txt  \n",
            "  inflating: +_214_640_640_cars.v2i.yolov7pytorch/valid/labels/54ba7297-img_4516674_jpg.rf.d0643706cd2b25cf19ab43d9016e8a8a.txt  \n",
            "  inflating: __MACOSX/+_214_640_640_cars.v2i.yolov7pytorch/valid/labels/._54ba7297-img_4516674_jpg.rf.d0643706cd2b25cf19ab43d9016e8a8a.txt  \n",
            "  inflating: +_214_640_640_cars.v2i.yolov7pytorch/valid/labels/9a768f6b-img-blrNFfSlaWRruvBDniNFE_png_jpg.rf.4729ddaf7f2e00e8dba28d39e671d601.txt  \n",
            "  inflating: __MACOSX/+_214_640_640_cars.v2i.yolov7pytorch/valid/labels/._9a768f6b-img-blrNFfSlaWRruvBDniNFE_png_jpg.rf.4729ddaf7f2e00e8dba28d39e671d601.txt  \n",
            "  inflating: +_214_640_640_cars.v2i.yolov7pytorch/valid/labels/4bcb3c47-img-7H5rCD0n2YUMgx9JlDKhQ_jpeg_jpg.rf.21713ee0ef4daa4160aea396170cef40.txt  \n",
            "  inflating: __MACOSX/+_214_640_640_cars.v2i.yolov7pytorch/valid/labels/._4bcb3c47-img-7H5rCD0n2YUMgx9JlDKhQ_jpeg_jpg.rf.21713ee0ef4daa4160aea396170cef40.txt  \n",
            "  inflating: +_214_640_640_cars.v2i.yolov7pytorch/valid/labels/76128e0c-vehicle_crash-8-_jpg.rf.e0c92c074de1a5699f2d008a537474c8.txt  \n",
            "  inflating: __MACOSX/+_214_640_640_cars.v2i.yolov7pytorch/valid/labels/._76128e0c-vehicle_crash-8-_jpg.rf.e0c92c074de1a5699f2d008a537474c8.txt  \n",
            "  inflating: +_214_640_640_cars.v2i.yolov7pytorch/valid/labels/3a828bc6-img-lrl19jqaoFOi0sNtYuFfR_png_jpg.rf.e69aa5a9c10ec7d4a6a5bcab83c826b6.txt  \n",
            "  inflating: __MACOSX/+_214_640_640_cars.v2i.yolov7pytorch/valid/labels/._3a828bc6-img-lrl19jqaoFOi0sNtYuFfR_png_jpg.rf.e69aa5a9c10ec7d4a6a5bcab83c826b6.txt  \n",
            "  inflating: +_214_640_640_cars.v2i.yolov7pytorch/valid/labels/59949c1c-vehicle_crash-162-_jpg.rf.a48b4185eb81dd9fe41be524684a1f36.txt  \n",
            "  inflating: __MACOSX/+_214_640_640_cars.v2i.yolov7pytorch/valid/labels/._59949c1c-vehicle_crash-162-_jpg.rf.a48b4185eb81dd9fe41be524684a1f36.txt  \n",
            "  inflating: +_214_640_640_cars.v2i.yolov7pytorch/valid/labels/cf69dfa9-vehicle_crash-49-_jpg.rf.335dedc4aae0cd9ed8208d63a181712c.txt  \n",
            "  inflating: __MACOSX/+_214_640_640_cars.v2i.yolov7pytorch/valid/labels/._cf69dfa9-vehicle_crash-49-_jpg.rf.335dedc4aae0cd9ed8208d63a181712c.txt  \n",
            "  inflating: +_214_640_640_cars.v2i.yolov7pytorch/valid/labels/90016bbe-img-ZxlLsWIIkXuyFgbAxHJoR_png_jpg.rf.26a6c3843f6b5ee0f2fed09825e831f4.txt  \n",
            "  inflating: __MACOSX/+_214_640_640_cars.v2i.yolov7pytorch/valid/labels/._90016bbe-img-ZxlLsWIIkXuyFgbAxHJoR_png_jpg.rf.26a6c3843f6b5ee0f2fed09825e831f4.txt  \n",
            "  inflating: +_214_640_640_cars.v2i.yolov7pytorch/valid/labels/36565def-images_3_jpg.rf.7e5b021df930fc79239a4b520c75bff1.txt  \n",
            "  inflating: __MACOSX/+_214_640_640_cars.v2i.yolov7pytorch/valid/labels/._36565def-images_3_jpg.rf.7e5b021df930fc79239a4b520c75bff1.txt  \n",
            "  inflating: +_214_640_640_cars.v2i.yolov7pytorch/valid/labels/f600593a-image_jpg.rf.91116ba97f0add869d8b82ec9d8930f4.txt  \n",
            "  inflating: __MACOSX/+_214_640_640_cars.v2i.yolov7pytorch/valid/labels/._f600593a-image_jpg.rf.91116ba97f0add869d8b82ec9d8930f4.txt  \n",
            "  inflating: +_214_640_640_cars.v2i.yolov7pytorch/valid/labels/91539fc6-vehicle_crash-65-_jpg.rf.9e50283d6fab768215d0e8b3ecdde8ee.txt  \n",
            "  inflating: __MACOSX/+_214_640_640_cars.v2i.yolov7pytorch/valid/labels/._91539fc6-vehicle_crash-65-_jpg.rf.9e50283d6fab768215d0e8b3ecdde8ee.txt  \n",
            "  inflating: +_214_640_640_cars.v2i.yolov7pytorch/valid/labels/9f0b9ca0-img-IgCcvF7cNRjfYqeoDiRQO_png_jpg.rf.d442d97e25ffbbd300d4fe299190e426.txt  \n",
            "  inflating: __MACOSX/+_214_640_640_cars.v2i.yolov7pytorch/valid/labels/._9f0b9ca0-img-IgCcvF7cNRjfYqeoDiRQO_png_jpg.rf.d442d97e25ffbbd300d4fe299190e426.txt  \n",
            "  inflating: +_214_640_640_cars.v2i.yolov7pytorch/valid/labels/6a3b412b-img-jCDIxqi4FEHSxdlaaxKnV_png_jpg.rf.828dfebb1f05bb46d5459b815cf7d731.txt  \n",
            "  inflating: __MACOSX/+_214_640_640_cars.v2i.yolov7pytorch/valid/labels/._6a3b412b-img-jCDIxqi4FEHSxdlaaxKnV_png_jpg.rf.828dfebb1f05bb46d5459b815cf7d731.txt  \n",
            "  inflating: +_214_640_640_cars.v2i.yolov7pytorch/valid/labels/20fae09d-vehicle_crash-313-_jpg.rf.297548aa4b6019a9b24ede7cc72fd8a5.txt  \n",
            "  inflating: __MACOSX/+_214_640_640_cars.v2i.yolov7pytorch/valid/labels/._20fae09d-vehicle_crash-313-_jpg.rf.297548aa4b6019a9b24ede7cc72fd8a5.txt  \n",
            "  inflating: +_214_640_640_cars.v2i.yolov7pytorch/valid/labels/61f0fc17-vehicle_crash-248-_jpg.rf.01abd76781827dd84df0a3625867c368.txt  \n",
            "  inflating: __MACOSX/+_214_640_640_cars.v2i.yolov7pytorch/valid/labels/._61f0fc17-vehicle_crash-248-_jpg.rf.01abd76781827dd84df0a3625867c368.txt  \n",
            "  inflating: +_214_640_640_cars.v2i.yolov7pytorch/valid/labels/33a4f8d2-img_4635465_jpg.rf.e14c7be09c9fe2a65e3f2341b2c5b300.txt  \n",
            "  inflating: __MACOSX/+_214_640_640_cars.v2i.yolov7pytorch/valid/labels/._33a4f8d2-img_4635465_jpg.rf.e14c7be09c9fe2a65e3f2341b2c5b300.txt  \n",
            "  inflating: +_214_640_640_cars.v2i.yolov7pytorch/valid/labels/9d82d940-images_1_jpg.rf.431913d3a2830769aff7ebd9b6deefd4.txt  \n",
            "  inflating: __MACOSX/+_214_640_640_cars.v2i.yolov7pytorch/valid/labels/._9d82d940-images_1_jpg.rf.431913d3a2830769aff7ebd9b6deefd4.txt  \n",
            "  inflating: +_214_640_640_cars.v2i.yolov7pytorch/valid/labels/61f0fc17-vehicle_crash-248-_jpg.rf.d3ef2e3128c2031025a2d41e49451922.txt  \n",
            "  inflating: __MACOSX/+_214_640_640_cars.v2i.yolov7pytorch/valid/labels/._61f0fc17-vehicle_crash-248-_jpg.rf.d3ef2e3128c2031025a2d41e49451922.txt  \n",
            "  inflating: +_214_640_640_cars.v2i.yolov7pytorch/valid/labels/fe047af8-img_7766264_jpg.rf.576987d2c184266993bb6234f3306078.txt  \n",
            "  inflating: __MACOSX/+_214_640_640_cars.v2i.yolov7pytorch/valid/labels/._fe047af8-img_7766264_jpg.rf.576987d2c184266993bb6234f3306078.txt  \n",
            "  inflating: +_214_640_640_cars.v2i.yolov7pytorch/valid/labels/61a95cee-img-4vUUs6n7kZSfhKdnugSmc_png_jpg.rf.95c1928aa6e9917e77fadea9b0dc8a9d.txt  \n",
            "  inflating: __MACOSX/+_214_640_640_cars.v2i.yolov7pytorch/valid/labels/._61a95cee-img-4vUUs6n7kZSfhKdnugSmc_png_jpg.rf.95c1928aa6e9917e77fadea9b0dc8a9d.txt  \n",
            "  inflating: +_214_640_640_cars.v2i.yolov7pytorch/valid/labels/fb41bd49-img_4516401_jpg.rf.d498edfaed1693adb92b5d35ec7e3c6c.txt  \n",
            "  inflating: __MACOSX/+_214_640_640_cars.v2i.yolov7pytorch/valid/labels/._fb41bd49-img_4516401_jpg.rf.d498edfaed1693adb92b5d35ec7e3c6c.txt  \n",
            "  inflating: +_214_640_640_cars.v2i.yolov7pytorch/valid/labels/439cce02-img-9TnDK60vgmlfsfr8FRYWb_png_jpg.rf.1afa819e44128b2fabb87fde6d613d26.txt  \n",
            "  inflating: __MACOSX/+_214_640_640_cars.v2i.yolov7pytorch/valid/labels/._439cce02-img-9TnDK60vgmlfsfr8FRYWb_png_jpg.rf.1afa819e44128b2fabb87fde6d613d26.txt  \n",
            "  inflating: +_214_640_640_cars.v2i.yolov7pytorch/valid/labels/a5777c45-img_4635749_jpg.rf.465f577b935ce803280d96ce55100300.txt  \n",
            "  inflating: __MACOSX/+_214_640_640_cars.v2i.yolov7pytorch/valid/labels/._a5777c45-img_4635749_jpg.rf.465f577b935ce803280d96ce55100300.txt  \n",
            "  inflating: +_214_640_640_cars.v2i.yolov7pytorch/test/images/357bc315-img-ThwGUNwzkEd6nTv68AYbz_png_jpg.rf.1c8450eb94faa65cd90c4d50737f8d92.jpg  \n",
            "  inflating: __MACOSX/+_214_640_640_cars.v2i.yolov7pytorch/test/images/._357bc315-img-ThwGUNwzkEd6nTv68AYbz_png_jpg.rf.1c8450eb94faa65cd90c4d50737f8d92.jpg  \n",
            "  inflating: +_214_640_640_cars.v2i.yolov7pytorch/test/images/5883126b-img_4636322_png.rf.e1cc9626d95a205a7df1ba6f530f5af5.jpg  \n",
            "  inflating: __MACOSX/+_214_640_640_cars.v2i.yolov7pytorch/test/images/._5883126b-img_4636322_png.rf.e1cc9626d95a205a7df1ba6f530f5af5.jpg  \n",
            "  inflating: +_214_640_640_cars.v2i.yolov7pytorch/test/images/9e090d94-img-MZKKxA5zhURnI6yfsqw0D_jpeg_png.rf.f7b5c4a92fd97f933da012fe2d044dcc.jpg  \n",
            "  inflating: __MACOSX/+_214_640_640_cars.v2i.yolov7pytorch/test/images/._9e090d94-img-MZKKxA5zhURnI6yfsqw0D_jpeg_png.rf.f7b5c4a92fd97f933da012fe2d044dcc.jpg  \n",
            "  inflating: +_214_640_640_cars.v2i.yolov7pytorch/test/images/d6930d67-img-MfXJiSN9jHKbZJWz1faC7_png_png.rf.b6c82a26e0a384c9494adfc2a2385b77.jpg  \n",
            "  inflating: __MACOSX/+_214_640_640_cars.v2i.yolov7pytorch/test/images/._d6930d67-img-MfXJiSN9jHKbZJWz1faC7_png_png.rf.b6c82a26e0a384c9494adfc2a2385b77.jpg  \n",
            "  inflating: +_214_640_640_cars.v2i.yolov7pytorch/test/images/d265edef-img-fctH7SuH1pNQFo7DymNtC_png_png.rf.21371d7a54d9f4cb5d4a861a2ccb39ba.jpg  \n",
            "  inflating: __MACOSX/+_214_640_640_cars.v2i.yolov7pytorch/test/images/._d265edef-img-fctH7SuH1pNQFo7DymNtC_png_png.rf.21371d7a54d9f4cb5d4a861a2ccb39ba.jpg  \n",
            "  inflating: +_214_640_640_cars.v2i.yolov7pytorch/test/images/8eca7b0d-images_png.rf.3685f3672904e6cd4bebae489447e32c.jpg  \n",
            "  inflating: __MACOSX/+_214_640_640_cars.v2i.yolov7pytorch/test/images/._8eca7b0d-images_png.rf.3685f3672904e6cd4bebae489447e32c.jpg  \n",
            "  inflating: +_214_640_640_cars.v2i.yolov7pytorch/test/images/c9522db2-img-6E6Tx3QUvP0oFltzsPBRM_png_png.rf.b4fa1403864eb361bdf1e0ceb9eca239.jpg  \n",
            "  inflating: __MACOSX/+_214_640_640_cars.v2i.yolov7pytorch/test/images/._c9522db2-img-6E6Tx3QUvP0oFltzsPBRM_png_png.rf.b4fa1403864eb361bdf1e0ceb9eca239.jpg  \n",
            "  inflating: +_214_640_640_cars.v2i.yolov7pytorch/test/images/299fabde-img-8iKEKGixOb5G6p8QNMsHk_jpeg_png.rf.46c9df3f6430a82198ff5c3599b9fadd.jpg  \n",
            "  inflating: __MACOSX/+_214_640_640_cars.v2i.yolov7pytorch/test/images/._299fabde-img-8iKEKGixOb5G6p8QNMsHk_jpeg_png.rf.46c9df3f6430a82198ff5c3599b9fadd.jpg  \n",
            "  inflating: +_214_640_640_cars.v2i.yolov7pytorch/test/images/a5777c45-img_4635749_png.rf.e5281eb8fec3ec4334f84a753fcf071d.jpg  \n",
            "  inflating: __MACOSX/+_214_640_640_cars.v2i.yolov7pytorch/test/images/._a5777c45-img_4635749_png.rf.e5281eb8fec3ec4334f84a753fcf071d.jpg  \n",
            "  inflating: +_214_640_640_cars.v2i.yolov7pytorch/test/images/1648578f-img-SSLhlNf2A5w5WrI6uhOOU_png_png.rf.fa5686367d6da213ecf01d16ecfe8861.jpg  \n",
            "  inflating: __MACOSX/+_214_640_640_cars.v2i.yolov7pytorch/test/images/._1648578f-img-SSLhlNf2A5w5WrI6uhOOU_png_png.rf.fa5686367d6da213ecf01d16ecfe8861.jpg  \n",
            "  inflating: +_214_640_640_cars.v2i.yolov7pytorch/test/images/5e39170e-images_1_png.rf.290e663f720be323448c93212c9b0376.jpg  \n",
            "  inflating: __MACOSX/+_214_640_640_cars.v2i.yolov7pytorch/test/images/._5e39170e-images_1_png.rf.290e663f720be323448c93212c9b0376.jpg  \n",
            "  inflating: +_214_640_640_cars.v2i.yolov7pytorch/test/images/26cde81e-img-ww7aVlU1CkRNm9PfKoEyh_jpeg_png.rf.2ec997591252136737f84ea6d2fa31d6.jpg  \n",
            "  inflating: __MACOSX/+_214_640_640_cars.v2i.yolov7pytorch/test/images/._26cde81e-img-ww7aVlU1CkRNm9PfKoEyh_jpeg_png.rf.2ec997591252136737f84ea6d2fa31d6.jpg  \n",
            "  inflating: +_214_640_640_cars.v2i.yolov7pytorch/test/images/439cce02-img-9TnDK60vgmlfsfr8FRYWb_png_png.rf.6877f35148a33ae75ea5a0daea5a88c7.jpg  \n",
            "  inflating: __MACOSX/+_214_640_640_cars.v2i.yolov7pytorch/test/images/._439cce02-img-9TnDK60vgmlfsfr8FRYWb_png_png.rf.6877f35148a33ae75ea5a0daea5a88c7.jpg  \n",
            "  inflating: +_214_640_640_cars.v2i.yolov7pytorch/test/images/e07e02cf-img_4517765_png.rf.9798e87227981c2149252267f10b5036.jpg  \n",
            "  inflating: __MACOSX/+_214_640_640_cars.v2i.yolov7pytorch/test/images/._e07e02cf-img_4517765_png.rf.9798e87227981c2149252267f10b5036.jpg  \n",
            "  inflating: +_214_640_640_cars.v2i.yolov7pytorch/test/images/65d778ce-images_2_png.rf.d782ddd3dbaf77797b95b609624c0c44.jpg  \n",
            "  inflating: __MACOSX/+_214_640_640_cars.v2i.yolov7pytorch/test/images/._65d778ce-images_2_png.rf.d782ddd3dbaf77797b95b609624c0c44.jpg  \n",
            "  inflating: +_214_640_640_cars.v2i.yolov7pytorch/test/images/3d5fc636-_-_-_1445-05-02_-_11-27-47_53ee33b0_png.rf.f42f8a9dce323408dc92d0eef4d818fd.jpg  \n",
            "  inflating: __MACOSX/+_214_640_640_cars.v2i.yolov7pytorch/test/images/._3d5fc636-_-_-_1445-05-02_-_11-27-47_53ee33b0_png.rf.f42f8a9dce323408dc92d0eef4d818fd.jpg  \n",
            "  inflating: +_214_640_640_cars.v2i.yolov7pytorch/test/images/9d82d940-images_1_png.rf.9ee917a44966ef4c3e9146343a595df0.jpg  \n",
            "  inflating: __MACOSX/+_214_640_640_cars.v2i.yolov7pytorch/test/images/._9d82d940-images_1_png.rf.9ee917a44966ef4c3e9146343a595df0.jpg  \n",
            "  inflating: +_214_640_640_cars.v2i.yolov7pytorch/test/images/81c02a1a-_-_-_1445-05-02_-_11-27-49_b537bd26_jpg.rf.e85ecba198575fea99c24e75acf2ef22.jpg  \n",
            "  inflating: __MACOSX/+_214_640_640_cars.v2i.yolov7pytorch/test/images/._81c02a1a-_-_-_1445-05-02_-_11-27-49_b537bd26_jpg.rf.e85ecba198575fea99c24e75acf2ef22.jpg  \n",
            "  inflating: +_214_640_640_cars.v2i.yolov7pytorch/test/labels/299fabde-img-8iKEKGixOb5G6p8QNMsHk_jpeg_png.rf.46c9df3f6430a82198ff5c3599b9fadd.txt  \n",
            "  inflating: __MACOSX/+_214_640_640_cars.v2i.yolov7pytorch/test/labels/._299fabde-img-8iKEKGixOb5G6p8QNMsHk_jpeg_png.rf.46c9df3f6430a82198ff5c3599b9fadd.txt  \n",
            "  inflating: +_214_640_640_cars.v2i.yolov7pytorch/test/labels/a5777c45-img_4635749_png.rf.e5281eb8fec3ec4334f84a753fcf071d.txt  \n",
            "  inflating: __MACOSX/+_214_640_640_cars.v2i.yolov7pytorch/test/labels/._a5777c45-img_4635749_png.rf.e5281eb8fec3ec4334f84a753fcf071d.txt  \n",
            "  inflating: +_214_640_640_cars.v2i.yolov7pytorch/test/labels/5883126b-img_4636322_png.rf.e1cc9626d95a205a7df1ba6f530f5af5.txt  \n",
            "  inflating: __MACOSX/+_214_640_640_cars.v2i.yolov7pytorch/test/labels/._5883126b-img_4636322_png.rf.e1cc9626d95a205a7df1ba6f530f5af5.txt  \n",
            "  inflating: +_214_640_640_cars.v2i.yolov7pytorch/test/labels/357bc315-img-ThwGUNwzkEd6nTv68AYbz_png_jpg.rf.1c8450eb94faa65cd90c4d50737f8d92.txt  \n",
            "  inflating: __MACOSX/+_214_640_640_cars.v2i.yolov7pytorch/test/labels/._357bc315-img-ThwGUNwzkEd6nTv68AYbz_png_jpg.rf.1c8450eb94faa65cd90c4d50737f8d92.txt  \n",
            "  inflating: +_214_640_640_cars.v2i.yolov7pytorch/test/labels/d6930d67-img-MfXJiSN9jHKbZJWz1faC7_png_png.rf.b6c82a26e0a384c9494adfc2a2385b77.txt  \n",
            "  inflating: __MACOSX/+_214_640_640_cars.v2i.yolov7pytorch/test/labels/._d6930d67-img-MfXJiSN9jHKbZJWz1faC7_png_png.rf.b6c82a26e0a384c9494adfc2a2385b77.txt  \n",
            "  inflating: +_214_640_640_cars.v2i.yolov7pytorch/test/labels/9e090d94-img-MZKKxA5zhURnI6yfsqw0D_jpeg_png.rf.f7b5c4a92fd97f933da012fe2d044dcc.txt  \n",
            "  inflating: __MACOSX/+_214_640_640_cars.v2i.yolov7pytorch/test/labels/._9e090d94-img-MZKKxA5zhURnI6yfsqw0D_jpeg_png.rf.f7b5c4a92fd97f933da012fe2d044dcc.txt  \n",
            "  inflating: +_214_640_640_cars.v2i.yolov7pytorch/test/labels/8eca7b0d-images_png.rf.3685f3672904e6cd4bebae489447e32c.txt  \n",
            "  inflating: __MACOSX/+_214_640_640_cars.v2i.yolov7pytorch/test/labels/._8eca7b0d-images_png.rf.3685f3672904e6cd4bebae489447e32c.txt  \n",
            "  inflating: +_214_640_640_cars.v2i.yolov7pytorch/test/labels/d265edef-img-fctH7SuH1pNQFo7DymNtC_png_png.rf.21371d7a54d9f4cb5d4a861a2ccb39ba.txt  \n",
            "  inflating: __MACOSX/+_214_640_640_cars.v2i.yolov7pytorch/test/labels/._d265edef-img-fctH7SuH1pNQFo7DymNtC_png_png.rf.21371d7a54d9f4cb5d4a861a2ccb39ba.txt  \n",
            "  inflating: +_214_640_640_cars.v2i.yolov7pytorch/test/labels/c9522db2-img-6E6Tx3QUvP0oFltzsPBRM_png_png.rf.b4fa1403864eb361bdf1e0ceb9eca239.txt  \n",
            "  inflating: __MACOSX/+_214_640_640_cars.v2i.yolov7pytorch/test/labels/._c9522db2-img-6E6Tx3QUvP0oFltzsPBRM_png_png.rf.b4fa1403864eb361bdf1e0ceb9eca239.txt  \n",
            "  inflating: +_214_640_640_cars.v2i.yolov7pytorch/test/labels/65d778ce-images_2_png.rf.d782ddd3dbaf77797b95b609624c0c44.txt  \n",
            "  inflating: __MACOSX/+_214_640_640_cars.v2i.yolov7pytorch/test/labels/._65d778ce-images_2_png.rf.d782ddd3dbaf77797b95b609624c0c44.txt  \n",
            "  inflating: +_214_640_640_cars.v2i.yolov7pytorch/test/labels/e07e02cf-img_4517765_png.rf.9798e87227981c2149252267f10b5036.txt  \n",
            "  inflating: __MACOSX/+_214_640_640_cars.v2i.yolov7pytorch/test/labels/._e07e02cf-img_4517765_png.rf.9798e87227981c2149252267f10b5036.txt  \n",
            "  inflating: +_214_640_640_cars.v2i.yolov7pytorch/test/labels/3d5fc636-_-_-_1445-05-02_-_11-27-47_53ee33b0_png.rf.f42f8a9dce323408dc92d0eef4d818fd.txt  \n",
            "  inflating: __MACOSX/+_214_640_640_cars.v2i.yolov7pytorch/test/labels/._3d5fc636-_-_-_1445-05-02_-_11-27-47_53ee33b0_png.rf.f42f8a9dce323408dc92d0eef4d818fd.txt  \n",
            "  inflating: +_214_640_640_cars.v2i.yolov7pytorch/test/labels/9d82d940-images_1_png.rf.9ee917a44966ef4c3e9146343a595df0.txt  \n",
            "  inflating: __MACOSX/+_214_640_640_cars.v2i.yolov7pytorch/test/labels/._9d82d940-images_1_png.rf.9ee917a44966ef4c3e9146343a595df0.txt  \n",
            "  inflating: +_214_640_640_cars.v2i.yolov7pytorch/test/labels/81c02a1a-_-_-_1445-05-02_-_11-27-49_b537bd26_jpg.rf.e85ecba198575fea99c24e75acf2ef22.txt  \n",
            "  inflating: __MACOSX/+_214_640_640_cars.v2i.yolov7pytorch/test/labels/._81c02a1a-_-_-_1445-05-02_-_11-27-49_b537bd26_jpg.rf.e85ecba198575fea99c24e75acf2ef22.txt  \n",
            "  inflating: +_214_640_640_cars.v2i.yolov7pytorch/test/labels/1648578f-img-SSLhlNf2A5w5WrI6uhOOU_png_png.rf.fa5686367d6da213ecf01d16ecfe8861.txt  \n",
            "  inflating: __MACOSX/+_214_640_640_cars.v2i.yolov7pytorch/test/labels/._1648578f-img-SSLhlNf2A5w5WrI6uhOOU_png_png.rf.fa5686367d6da213ecf01d16ecfe8861.txt  \n",
            "  inflating: +_214_640_640_cars.v2i.yolov7pytorch/test/labels/5e39170e-images_1_png.rf.290e663f720be323448c93212c9b0376.txt  \n",
            "  inflating: __MACOSX/+_214_640_640_cars.v2i.yolov7pytorch/test/labels/._5e39170e-images_1_png.rf.290e663f720be323448c93212c9b0376.txt  \n",
            "  inflating: +_214_640_640_cars.v2i.yolov7pytorch/test/labels/439cce02-img-9TnDK60vgmlfsfr8FRYWb_png_png.rf.6877f35148a33ae75ea5a0daea5a88c7.txt  \n",
            "  inflating: __MACOSX/+_214_640_640_cars.v2i.yolov7pytorch/test/labels/._439cce02-img-9TnDK60vgmlfsfr8FRYWb_png_png.rf.6877f35148a33ae75ea5a0daea5a88c7.txt  \n",
            "  inflating: +_214_640_640_cars.v2i.yolov7pytorch/test/labels/26cde81e-img-ww7aVlU1CkRNm9PfKoEyh_jpeg_png.rf.2ec997591252136737f84ea6d2fa31d6.txt  \n",
            "  inflating: __MACOSX/+_214_640_640_cars.v2i.yolov7pytorch/test/labels/._26cde81e-img-ww7aVlU1CkRNm9PfKoEyh_jpeg_png.rf.2ec997591252136737f84ea6d2fa31d6.txt  \n",
            "  inflating: +_214_640_640_cars.v2i.yolov7pytorch/train/images/f600593a-image_jpg.rf.39c1afc2b8976243990e8379a1f49b80.jpg  \n",
            "  inflating: __MACOSX/+_214_640_640_cars.v2i.yolov7pytorch/train/images/._f600593a-image_jpg.rf.39c1afc2b8976243990e8379a1f49b80.jpg  \n",
            "  inflating: +_214_640_640_cars.v2i.yolov7pytorch/train/images/54ba7297-img_4516674_jpg.rf.da0ba1cd7c64534bebb4fb607e708947.jpg  \n",
            "  inflating: __MACOSX/+_214_640_640_cars.v2i.yolov7pytorch/train/images/._54ba7297-img_4516674_jpg.rf.da0ba1cd7c64534bebb4fb607e708947.jpg  \n",
            "  inflating: +_214_640_640_cars.v2i.yolov7pytorch/train/images/d265edef-img-fctH7SuH1pNQFo7DymNtC_png_jpg.rf.7cc3c45d74277db6028f536a46a97e83.jpg  \n",
            "  inflating: __MACOSX/+_214_640_640_cars.v2i.yolov7pytorch/train/images/._d265edef-img-fctH7SuH1pNQFo7DymNtC_png_jpg.rf.7cc3c45d74277db6028f536a46a97e83.jpg  \n",
            "  inflating: +_214_640_640_cars.v2i.yolov7pytorch/train/images/fb41bd49-img_4516401_jpg.rf.b91aaab43693bbaee6ea20b6d3cef75e.jpg  \n",
            "  inflating: __MACOSX/+_214_640_640_cars.v2i.yolov7pytorch/train/images/._fb41bd49-img_4516401_jpg.rf.b91aaab43693bbaee6ea20b6d3cef75e.jpg  \n",
            "  inflating: +_214_640_640_cars.v2i.yolov7pytorch/train/images/d0772984-images_2_jpg.rf.e0cdb2417a3bb96f2fae1bd116f367ca.jpg  \n",
            "  inflating: __MACOSX/+_214_640_640_cars.v2i.yolov7pytorch/train/images/._d0772984-images_2_jpg.rf.e0cdb2417a3bb96f2fae1bd116f367ca.jpg  \n",
            "  inflating: +_214_640_640_cars.v2i.yolov7pytorch/train/images/d6930d67-img-MfXJiSN9jHKbZJWz1faC7_png_jpg.rf.8642f7f8c9554c7e7deec5aa5e6c1ebc.jpg  \n",
            "  inflating: __MACOSX/+_214_640_640_cars.v2i.yolov7pytorch/train/images/._d6930d67-img-MfXJiSN9jHKbZJWz1faC7_png_jpg.rf.8642f7f8c9554c7e7deec5aa5e6c1ebc.jpg  \n",
            "  inflating: +_214_640_640_cars.v2i.yolov7pytorch/train/images/61f0fc17-vehicle_crash-248-_jpg.rf.e5da05c2df2c7a908e256748d1cac358.jpg  \n",
            "  inflating: __MACOSX/+_214_640_640_cars.v2i.yolov7pytorch/train/images/._61f0fc17-vehicle_crash-248-_jpg.rf.e5da05c2df2c7a908e256748d1cac358.jpg  \n",
            "  inflating: +_214_640_640_cars.v2i.yolov7pytorch/train/images/5ba63fb8-images_4_jpg.rf.49949a6ccab5ef55cffbc4f3ec725e7e.jpg  \n",
            "  inflating: __MACOSX/+_214_640_640_cars.v2i.yolov7pytorch/train/images/._5ba63fb8-images_4_jpg.rf.49949a6ccab5ef55cffbc4f3ec725e7e.jpg  \n",
            "  inflating: +_214_640_640_cars.v2i.yolov7pytorch/train/images/9a768f6b-img-blrNFfSlaWRruvBDniNFE_png_jpg.rf.297385c7dffa4adaecfd97ef9183deee.jpg  \n",
            "  inflating: __MACOSX/+_214_640_640_cars.v2i.yolov7pytorch/train/images/._9a768f6b-img-blrNFfSlaWRruvBDniNFE_png_jpg.rf.297385c7dffa4adaecfd97ef9183deee.jpg  \n",
            "  inflating: +_214_640_640_cars.v2i.yolov7pytorch/train/images/33a4f8d2-img_4635465_jpg.rf.6dbe4a118fd380e025b3213157f6b9ca.jpg  \n",
            "  inflating: __MACOSX/+_214_640_640_cars.v2i.yolov7pytorch/train/images/._33a4f8d2-img_4635465_jpg.rf.6dbe4a118fd380e025b3213157f6b9ca.jpg  \n",
            "  inflating: +_214_640_640_cars.v2i.yolov7pytorch/train/images/91539fc6-vehicle_crash-65-_jpg.rf.d8e463fe1aac6e9bc84e659f7458c7af.jpg  \n",
            "  inflating: __MACOSX/+_214_640_640_cars.v2i.yolov7pytorch/train/images/._91539fc6-vehicle_crash-65-_jpg.rf.d8e463fe1aac6e9bc84e659f7458c7af.jpg  \n",
            "  inflating: +_214_640_640_cars.v2i.yolov7pytorch/train/images/1d40c104-img-wNJYcEavsYuvmP3oVrlrS_jpeg_jpg.rf.86653f73efce63b4aa7dab89e9274c7d.jpg  \n",
            "  inflating: __MACOSX/+_214_640_640_cars.v2i.yolov7pytorch/train/images/._1d40c104-img-wNJYcEavsYuvmP3oVrlrS_jpeg_jpg.rf.86653f73efce63b4aa7dab89e9274c7d.jpg  \n",
            "  inflating: +_214_640_640_cars.v2i.yolov7pytorch/train/images/fb41bd49-img_4516401_jpg.rf.9f217b9c7831028837ea5e4ad4d3590b.jpg  \n",
            "  inflating: __MACOSX/+_214_640_640_cars.v2i.yolov7pytorch/train/images/._fb41bd49-img_4516401_jpg.rf.9f217b9c7831028837ea5e4ad4d3590b.jpg  \n",
            "  inflating: +_214_640_640_cars.v2i.yolov7pytorch/train/images/4ac70c9f-img_4515227_jpg.rf.c030591dbe385b44b9911bbfbd697ce8.jpg  \n",
            "  inflating: __MACOSX/+_214_640_640_cars.v2i.yolov7pytorch/train/images/._4ac70c9f-img_4515227_jpg.rf.c030591dbe385b44b9911bbfbd697ce8.jpg  \n",
            "  inflating: +_214_640_640_cars.v2i.yolov7pytorch/train/images/43b5c3a9-images_jpg.rf.40f7fdd3c82034f7475c5e031323916a.jpg  \n",
            "  inflating: __MACOSX/+_214_640_640_cars.v2i.yolov7pytorch/train/images/._43b5c3a9-images_jpg.rf.40f7fdd3c82034f7475c5e031323916a.jpg  \n",
            "  inflating: +_214_640_640_cars.v2i.yolov7pytorch/train/images/5e39170e-images_1_jpg.rf.9627017073f3e185a30d617224f62031.jpg  \n",
            "  inflating: __MACOSX/+_214_640_640_cars.v2i.yolov7pytorch/train/images/._5e39170e-images_1_jpg.rf.9627017073f3e185a30d617224f62031.jpg  \n",
            "  inflating: +_214_640_640_cars.v2i.yolov7pytorch/train/images/a5edec4b-img-NCnTZYsITYWX4o5y2Y7pu_2_png_jpg.rf.5bedf674783bc27b346e60ffcbe19c00.jpg  \n",
            "  inflating: __MACOSX/+_214_640_640_cars.v2i.yolov7pytorch/train/images/._a5edec4b-img-NCnTZYsITYWX4o5y2Y7pu_2_png_jpg.rf.5bedf674783bc27b346e60ffcbe19c00.jpg  \n",
            "  inflating: +_214_640_640_cars.v2i.yolov7pytorch/train/images/d8240278-img-czznjKXjlFNXICOHrBzKQ_png_jpg.rf.1fa860f2be2544ec02e03b74fdfe488f.jpg  \n",
            "  inflating: __MACOSX/+_214_640_640_cars.v2i.yolov7pytorch/train/images/._d8240278-img-czznjKXjlFNXICOHrBzKQ_png_jpg.rf.1fa860f2be2544ec02e03b74fdfe488f.jpg  \n",
            "  inflating: +_214_640_640_cars.v2i.yolov7pytorch/train/images/1d027a67-img_4514917_jpg.rf.b9e494e76384a26c2400530ba9bd1c24.jpg  \n",
            "  inflating: __MACOSX/+_214_640_640_cars.v2i.yolov7pytorch/train/images/._1d027a67-img_4514917_jpg.rf.b9e494e76384a26c2400530ba9bd1c24.jpg  \n",
            "  inflating: +_214_640_640_cars.v2i.yolov7pytorch/train/images/3d5fc636-_-_-_1445-05-02_-_11-27-47_53ee33b0_jpg.rf.e3db38bfac32d4d8b95cff71fe7f8f6c.jpg  \n",
            "  inflating: __MACOSX/+_214_640_640_cars.v2i.yolov7pytorch/train/images/._3d5fc636-_-_-_1445-05-02_-_11-27-47_53ee33b0_jpg.rf.e3db38bfac32d4d8b95cff71fe7f8f6c.jpg  \n",
            "  inflating: +_214_640_640_cars.v2i.yolov7pytorch/train/images/17738540-vehicle_crash-29-_jpg.rf.8ea27c65640c0d4ddf95f846fdf36dc7.jpg  \n",
            "  inflating: __MACOSX/+_214_640_640_cars.v2i.yolov7pytorch/train/images/._17738540-vehicle_crash-29-_jpg.rf.8ea27c65640c0d4ddf95f846fdf36dc7.jpg  \n",
            "  inflating: +_214_640_640_cars.v2i.yolov7pytorch/train/images/76128e0c-vehicle_crash-8-_jpg.rf.de264dfbcb525a847cf99ffe6b205c01.jpg  \n",
            "  inflating: __MACOSX/+_214_640_640_cars.v2i.yolov7pytorch/train/images/._76128e0c-vehicle_crash-8-_jpg.rf.de264dfbcb525a847cf99ffe6b205c01.jpg  \n",
            "  inflating: +_214_640_640_cars.v2i.yolov7pytorch/train/images/32249454-_1_jpg.rf.c6f0c8da057c12d0106108d77f8217e2.jpg  \n",
            "  inflating: __MACOSX/+_214_640_640_cars.v2i.yolov7pytorch/train/images/._32249454-_1_jpg.rf.c6f0c8da057c12d0106108d77f8217e2.jpg  \n",
            "  inflating: +_214_640_640_cars.v2i.yolov7pytorch/train/images/5ba63fb8-images_4_jpg.rf.009df3a6ec31711709e53c9d23b4fe0a.jpg  \n",
            "  inflating: __MACOSX/+_214_640_640_cars.v2i.yolov7pytorch/train/images/._5ba63fb8-images_4_jpg.rf.009df3a6ec31711709e53c9d23b4fe0a.jpg  \n",
            "  inflating: +_214_640_640_cars.v2i.yolov7pytorch/train/images/c66cb8ed-test14_9_jpg.rf.5b7ee90b2da397f82a45b8983f9304fd.jpg  \n",
            "  inflating: __MACOSX/+_214_640_640_cars.v2i.yolov7pytorch/train/images/._c66cb8ed-test14_9_jpg.rf.5b7ee90b2da397f82a45b8983f9304fd.jpg  \n",
            "  inflating: +_214_640_640_cars.v2i.yolov7pytorch/train/images/43b5c3a9-images_jpg.rf.3dc3961253c2a38975348a7b405a7f41.jpg  \n",
            "  inflating: __MACOSX/+_214_640_640_cars.v2i.yolov7pytorch/train/images/._43b5c3a9-images_jpg.rf.3dc3961253c2a38975348a7b405a7f41.jpg  \n",
            "  inflating: +_214_640_640_cars.v2i.yolov7pytorch/train/images/9f0b9ca0-img-IgCcvF7cNRjfYqeoDiRQO_png_jpg.rf.43b34d2fb2de198cc32f5f31a8e456c1.jpg  \n",
            "  inflating: __MACOSX/+_214_640_640_cars.v2i.yolov7pytorch/train/images/._9f0b9ca0-img-IgCcvF7cNRjfYqeoDiRQO_png_jpg.rf.43b34d2fb2de198cc32f5f31a8e456c1.jpg  \n",
            "  inflating: +_214_640_640_cars.v2i.yolov7pytorch/train/images/d8240278-img-czznjKXjlFNXICOHrBzKQ_png_jpg.rf.aaf0a70a6b206d9b8ed2b39d543071a9.jpg  \n",
            "  inflating: __MACOSX/+_214_640_640_cars.v2i.yolov7pytorch/train/images/._d8240278-img-czznjKXjlFNXICOHrBzKQ_png_jpg.rf.aaf0a70a6b206d9b8ed2b39d543071a9.jpg  \n",
            "  inflating: +_214_640_640_cars.v2i.yolov7pytorch/train/images/80e04b3e-img_4538945_jpg.rf.6beaea4a7bd48e51a23ee6af7a9ff3ca.jpg  \n",
            "  inflating: __MACOSX/+_214_640_640_cars.v2i.yolov7pytorch/train/images/._80e04b3e-img_4538945_jpg.rf.6beaea4a7bd48e51a23ee6af7a9ff3ca.jpg  \n",
            "  inflating: +_214_640_640_cars.v2i.yolov7pytorch/train/images/adbc0676-img-OPXAOQleUgUjMwoTAWz7u_png_jpg.rf.e353fc681b11e22311cefffd108acac2.jpg  \n",
            "  inflating: __MACOSX/+_214_640_640_cars.v2i.yolov7pytorch/train/images/._adbc0676-img-OPXAOQleUgUjMwoTAWz7u_png_jpg.rf.e353fc681b11e22311cefffd108acac2.jpg  \n",
            "  inflating: +_214_640_640_cars.v2i.yolov7pytorch/train/images/17738540-vehicle_crash-29-_jpg.rf.feaf2dcfa7f726d440d1d4e4585c50b1.jpg  \n",
            "  inflating: __MACOSX/+_214_640_640_cars.v2i.yolov7pytorch/train/images/._17738540-vehicle_crash-29-_jpg.rf.feaf2dcfa7f726d440d1d4e4585c50b1.jpg  \n",
            "  inflating: +_214_640_640_cars.v2i.yolov7pytorch/train/images/61a95cee-img-4vUUs6n7kZSfhKdnugSmc_png_jpg.rf.72c3b6691f5e7711bf565f38a396aa5d.jpg  \n",
            "  inflating: __MACOSX/+_214_640_640_cars.v2i.yolov7pytorch/train/images/._61a95cee-img-4vUUs6n7kZSfhKdnugSmc_png_jpg.rf.72c3b6691f5e7711bf565f38a396aa5d.jpg  \n",
            "  inflating: +_214_640_640_cars.v2i.yolov7pytorch/train/images/6a699723-_jpg.rf.31565543400c87e3d30bac0d060aca8f.jpg  \n",
            "  inflating: __MACOSX/+_214_640_640_cars.v2i.yolov7pytorch/train/images/._6a699723-_jpg.rf.31565543400c87e3d30bac0d060aca8f.jpg  \n",
            "  inflating: +_214_640_640_cars.v2i.yolov7pytorch/train/images/90016bbe-img-ZxlLsWIIkXuyFgbAxHJoR_png_jpg.rf.c56ac3ec956270aff889d4142218a167.jpg  \n",
            "  inflating: __MACOSX/+_214_640_640_cars.v2i.yolov7pytorch/train/images/._90016bbe-img-ZxlLsWIIkXuyFgbAxHJoR_png_jpg.rf.c56ac3ec956270aff889d4142218a167.jpg  \n",
            "  inflating: +_214_640_640_cars.v2i.yolov7pytorch/train/images/26cde81e-img-ww7aVlU1CkRNm9PfKoEyh_jpeg_jpg.rf.75445d590d08d54cb26a80b1b6e0df97.jpg  \n",
            "  inflating: __MACOSX/+_214_640_640_cars.v2i.yolov7pytorch/train/images/._26cde81e-img-ww7aVlU1CkRNm9PfKoEyh_jpeg_jpg.rf.75445d590d08d54cb26a80b1b6e0df97.jpg  \n",
            "  inflating: +_214_640_640_cars.v2i.yolov7pytorch/train/images/738d6bf4-vehicle_crash-294-_jpg.rf.de609a1df42ec3487c6235de8ab2514e.jpg  \n",
            "  inflating: __MACOSX/+_214_640_640_cars.v2i.yolov7pytorch/train/images/._738d6bf4-vehicle_crash-294-_jpg.rf.de609a1df42ec3487c6235de8ab2514e.jpg  \n",
            "  inflating: +_214_640_640_cars.v2i.yolov7pytorch/train/images/b68a8eb4-vehicle_crash-79-_jpg.rf.eecd7dd3b438465cca8b7e8a87e10114.jpg  \n",
            "  inflating: __MACOSX/+_214_640_640_cars.v2i.yolov7pytorch/train/images/._b68a8eb4-vehicle_crash-79-_jpg.rf.eecd7dd3b438465cca8b7e8a87e10114.jpg  \n",
            "  inflating: +_214_640_640_cars.v2i.yolov7pytorch/train/images/59949c1c-vehicle_crash-162-_jpg.rf.9724ab2fb8c9b4aef917520bae497315.jpg  \n",
            "  inflating: __MACOSX/+_214_640_640_cars.v2i.yolov7pytorch/train/images/._59949c1c-vehicle_crash-162-_jpg.rf.9724ab2fb8c9b4aef917520bae497315.jpg  \n",
            "  inflating: +_214_640_640_cars.v2i.yolov7pytorch/train/images/26b1067b-vehicle_crash-276-_jpg.rf.76ee8dc57d89cf76a220a042234df6e1.jpg  \n",
            "  inflating: __MACOSX/+_214_640_640_cars.v2i.yolov7pytorch/train/images/._26b1067b-vehicle_crash-276-_jpg.rf.76ee8dc57d89cf76a220a042234df6e1.jpg  \n",
            "  inflating: +_214_640_640_cars.v2i.yolov7pytorch/train/images/123d66ea-img_4537378_jpg.rf.d372528ff47498edd54b48c566e6539f.jpg  \n",
            "  inflating: __MACOSX/+_214_640_640_cars.v2i.yolov7pytorch/train/images/._123d66ea-img_4537378_jpg.rf.d372528ff47498edd54b48c566e6539f.jpg  \n",
            "  inflating: +_214_640_640_cars.v2i.yolov7pytorch/train/images/1b699b7b-img-Dq3REEGWDU4vIfjLwJsI8_png_jpg.rf.de019bb5f2571d3db2c16c1838dd1311.jpg  \n",
            "  inflating: __MACOSX/+_214_640_640_cars.v2i.yolov7pytorch/train/images/._1b699b7b-img-Dq3REEGWDU4vIfjLwJsI8_png_jpg.rf.de019bb5f2571d3db2c16c1838dd1311.jpg  \n",
            "  inflating: +_214_640_640_cars.v2i.yolov7pytorch/train/images/b6daf095-img-Zc3UHzxvB0btLi0MWmk7d_jpeg_jpg.rf.a1c89737157e541106d1cf7188191b70.jpg  \n",
            "  inflating: __MACOSX/+_214_640_640_cars.v2i.yolov7pytorch/train/images/._b6daf095-img-Zc3UHzxvB0btLi0MWmk7d_jpeg_jpg.rf.a1c89737157e541106d1cf7188191b70.jpg  \n",
            "  inflating: +_214_640_640_cars.v2i.yolov7pytorch/train/images/9c28e5ae-img_4535143_jpg.rf.f99cb441ff8a30248d96bfa63107afdb.jpg  \n",
            "  inflating: __MACOSX/+_214_640_640_cars.v2i.yolov7pytorch/train/images/._9c28e5ae-img_4535143_jpg.rf.f99cb441ff8a30248d96bfa63107afdb.jpg  \n",
            "  inflating: +_214_640_640_cars.v2i.yolov7pytorch/train/images/81c02a1a-_-_-_1445-05-02_-_11-27-49_b537bd26_jpg.rf.10e12ead5a4fba40c45a2d68db979139.jpg  \n",
            "  inflating: __MACOSX/+_214_640_640_cars.v2i.yolov7pytorch/train/images/._81c02a1a-_-_-_1445-05-02_-_11-27-49_b537bd26_jpg.rf.10e12ead5a4fba40c45a2d68db979139.jpg  \n",
            "  inflating: +_214_640_640_cars.v2i.yolov7pytorch/train/images/c9522db2-img-6E6Tx3QUvP0oFltzsPBRM_png_jpg.rf.c6b0449096bc594cf8ea6a4f2f72d262.jpg  \n",
            "  inflating: __MACOSX/+_214_640_640_cars.v2i.yolov7pytorch/train/images/._c9522db2-img-6E6Tx3QUvP0oFltzsPBRM_png_jpg.rf.c6b0449096bc594cf8ea6a4f2f72d262.jpg  \n",
            "  inflating: +_214_640_640_cars.v2i.yolov7pytorch/train/images/65d778ce-images_2_jpg.rf.346df8fc94e14f2b4f91fba78ee9e5cd.jpg  \n",
            "  inflating: __MACOSX/+_214_640_640_cars.v2i.yolov7pytorch/train/images/._65d778ce-images_2_jpg.rf.346df8fc94e14f2b4f91fba78ee9e5cd.jpg  \n",
            "  inflating: +_214_640_640_cars.v2i.yolov7pytorch/train/images/9c28e5ae-img_4535143_jpg.rf.f0fea5638dc8c678ffe9791fcca145d6.jpg  \n",
            "  inflating: __MACOSX/+_214_640_640_cars.v2i.yolov7pytorch/train/images/._9c28e5ae-img_4535143_jpg.rf.f0fea5638dc8c678ffe9791fcca145d6.jpg  \n",
            "  inflating: +_214_640_640_cars.v2i.yolov7pytorch/train/images/04546d97-vehicle_crash-1-_jpg.rf.a4c8b3c5f4198843962ee076f478b9f1.jpg  \n",
            "  inflating: __MACOSX/+_214_640_640_cars.v2i.yolov7pytorch/train/images/._04546d97-vehicle_crash-1-_jpg.rf.a4c8b3c5f4198843962ee076f478b9f1.jpg  \n",
            "  inflating: +_214_640_640_cars.v2i.yolov7pytorch/train/images/66592d81-img_7766876_jpg.rf.e4eb880825c95d2682e814c5a8c93c2b.jpg  \n",
            "  inflating: __MACOSX/+_214_640_640_cars.v2i.yolov7pytorch/train/images/._66592d81-img_7766876_jpg.rf.e4eb880825c95d2682e814c5a8c93c2b.jpg  \n",
            "  inflating: +_214_640_640_cars.v2i.yolov7pytorch/train/images/299fabde-img-8iKEKGixOb5G6p8QNMsHk_jpeg_jpg.rf.5851e4343511b7064b00367eeefe2b6b.jpg  \n",
            "  inflating: __MACOSX/+_214_640_640_cars.v2i.yolov7pytorch/train/images/._299fabde-img-8iKEKGixOb5G6p8QNMsHk_jpeg_jpg.rf.5851e4343511b7064b00367eeefe2b6b.jpg  \n",
            "  inflating: +_214_640_640_cars.v2i.yolov7pytorch/train/images/738d6bf4-vehicle_crash-294-_jpg.rf.0de937f0474f046c4e1b2974a046c659.jpg  \n",
            "  inflating: __MACOSX/+_214_640_640_cars.v2i.yolov7pytorch/train/images/._738d6bf4-vehicle_crash-294-_jpg.rf.0de937f0474f046c4e1b2974a046c659.jpg  \n",
            "  inflating: +_214_640_640_cars.v2i.yolov7pytorch/train/images/9e090d94-img-MZKKxA5zhURnI6yfsqw0D_jpeg_jpg.rf.2a28c478a98dd6a18c251e416fdd0b12.jpg  \n",
            "  inflating: __MACOSX/+_214_640_640_cars.v2i.yolov7pytorch/train/images/._9e090d94-img-MZKKxA5zhURnI6yfsqw0D_jpeg_jpg.rf.2a28c478a98dd6a18c251e416fdd0b12.jpg  \n",
            "  inflating: +_214_640_640_cars.v2i.yolov7pytorch/train/images/3e915b9e-images_2_jpg.rf.f4d2895e49cbe52b8b94e01dd8437b37.jpg  \n",
            "  inflating: __MACOSX/+_214_640_640_cars.v2i.yolov7pytorch/train/images/._3e915b9e-images_2_jpg.rf.f4d2895e49cbe52b8b94e01dd8437b37.jpg  \n",
            "  inflating: +_214_640_640_cars.v2i.yolov7pytorch/train/images/c9522db2-img-6E6Tx3QUvP0oFltzsPBRM_png_jpg.rf.63e3c77e9d2612e48910f47ee85027e7.jpg  \n",
            "  inflating: __MACOSX/+_214_640_640_cars.v2i.yolov7pytorch/train/images/._c9522db2-img-6E6Tx3QUvP0oFltzsPBRM_png_jpg.rf.63e3c77e9d2612e48910f47ee85027e7.jpg  \n",
            "  inflating: +_214_640_640_cars.v2i.yolov7pytorch/train/images/123d66ea-img_4537378_jpg.rf.e9dee839f2ce8710068c6aac67732951.jpg  \n",
            "  inflating: __MACOSX/+_214_640_640_cars.v2i.yolov7pytorch/train/images/._123d66ea-img_4537378_jpg.rf.e9dee839f2ce8710068c6aac67732951.jpg  \n",
            "  inflating: +_214_640_640_cars.v2i.yolov7pytorch/train/images/1d027a67-img_4514917_jpg.rf.80cdb1bddf3ec9b9d8cfd01ff55aa37e.jpg  \n",
            "  inflating: __MACOSX/+_214_640_640_cars.v2i.yolov7pytorch/train/images/._1d027a67-img_4514917_jpg.rf.80cdb1bddf3ec9b9d8cfd01ff55aa37e.jpg  \n",
            "  inflating: +_214_640_640_cars.v2i.yolov7pytorch/train/images/8eca7b0d-images_jpg.rf.5a6655439c5a12056e7f9aefdb97069d.jpg  \n",
            "  inflating: __MACOSX/+_214_640_640_cars.v2i.yolov7pytorch/train/images/._8eca7b0d-images_jpg.rf.5a6655439c5a12056e7f9aefdb97069d.jpg  \n",
            "  inflating: +_214_640_640_cars.v2i.yolov7pytorch/train/images/66592d81-img_7766876_jpg.rf.c508503492df0dda5590247bf9765fbc.jpg  \n",
            "  inflating: __MACOSX/+_214_640_640_cars.v2i.yolov7pytorch/train/images/._66592d81-img_7766876_jpg.rf.c508503492df0dda5590247bf9765fbc.jpg  \n",
            "  inflating: +_214_640_640_cars.v2i.yolov7pytorch/train/images/3a828bc6-img-lrl19jqaoFOi0sNtYuFfR_png_jpg.rf.345e6e984d7b87d1a488551a9a6a0144.jpg  \n",
            "  inflating: __MACOSX/+_214_640_640_cars.v2i.yolov7pytorch/train/images/._3a828bc6-img-lrl19jqaoFOi0sNtYuFfR_png_jpg.rf.345e6e984d7b87d1a488551a9a6a0144.jpg  \n",
            "  inflating: +_214_640_640_cars.v2i.yolov7pytorch/train/images/36565def-images_3_jpg.rf.d04248eb7f7026cd419a1415c25e5b47.jpg  \n",
            "  inflating: __MACOSX/+_214_640_640_cars.v2i.yolov7pytorch/train/images/._36565def-images_3_jpg.rf.d04248eb7f7026cd419a1415c25e5b47.jpg  \n",
            "  inflating: +_214_640_640_cars.v2i.yolov7pytorch/train/images/d0772984-images_2_jpg.rf.234a3eb696b80b385d904cfd8c746d9e.jpg  \n",
            "  inflating: __MACOSX/+_214_640_640_cars.v2i.yolov7pytorch/train/images/._d0772984-images_2_jpg.rf.234a3eb696b80b385d904cfd8c746d9e.jpg  \n",
            "  inflating: +_214_640_640_cars.v2i.yolov7pytorch/train/images/d265edef-img-fctH7SuH1pNQFo7DymNtC_png_jpg.rf.7480ea8ed818f47b078d6cff2faae8ba.jpg  \n",
            "  inflating: __MACOSX/+_214_640_640_cars.v2i.yolov7pytorch/train/images/._d265edef-img-fctH7SuH1pNQFo7DymNtC_png_jpg.rf.7480ea8ed818f47b078d6cff2faae8ba.jpg  \n",
            "  inflating: +_214_640_640_cars.v2i.yolov7pytorch/train/images/a5edec4b-img-NCnTZYsITYWX4o5y2Y7pu_2_png_jpg.rf.d6ae0bdb729c7df159ab820eb4c60b9f.jpg  \n",
            "  inflating: __MACOSX/+_214_640_640_cars.v2i.yolov7pytorch/train/images/._a5edec4b-img-NCnTZYsITYWX4o5y2Y7pu_2_png_jpg.rf.d6ae0bdb729c7df159ab820eb4c60b9f.jpg  \n",
            "  inflating: +_214_640_640_cars.v2i.yolov7pytorch/train/images/08beb337-img_4536637_jpg.rf.269a848783bfd1c69262ed36561d4a1f.jpg  \n",
            "  inflating: __MACOSX/+_214_640_640_cars.v2i.yolov7pytorch/train/images/._08beb337-img_4536637_jpg.rf.269a848783bfd1c69262ed36561d4a1f.jpg  \n",
            "  inflating: +_214_640_640_cars.v2i.yolov7pytorch/train/images/59949c1c-vehicle_crash-162-_jpg.rf.7b372b4e066ce2e27caf7a14a73364ea.jpg  \n",
            "  inflating: __MACOSX/+_214_640_640_cars.v2i.yolov7pytorch/train/images/._59949c1c-vehicle_crash-162-_jpg.rf.7b372b4e066ce2e27caf7a14a73364ea.jpg  \n",
            "  inflating: +_214_640_640_cars.v2i.yolov7pytorch/train/images/ecd965a2-vehicle_crash-286-_jpg.rf.049fc973dd68d58b0f1b15481c674f93.jpg  \n",
            "  inflating: __MACOSX/+_214_640_640_cars.v2i.yolov7pytorch/train/images/._ecd965a2-vehicle_crash-286-_jpg.rf.049fc973dd68d58b0f1b15481c674f93.jpg  \n",
            "  inflating: +_214_640_640_cars.v2i.yolov7pytorch/train/images/9d82d940-images_1_jpg.rf.4cff730ff304af48e6283c984f8bf95e.jpg  \n",
            "  inflating: __MACOSX/+_214_640_640_cars.v2i.yolov7pytorch/train/images/._9d82d940-images_1_jpg.rf.4cff730ff304af48e6283c984f8bf95e.jpg  \n",
            "  inflating: +_214_640_640_cars.v2i.yolov7pytorch/train/images/6a3b412b-img-jCDIxqi4FEHSxdlaaxKnV_png_jpg.rf.50d7fe405bd890ab2f20008656c2f37e.jpg  \n",
            "  inflating: __MACOSX/+_214_640_640_cars.v2i.yolov7pytorch/train/images/._6a3b412b-img-jCDIxqi4FEHSxdlaaxKnV_png_jpg.rf.50d7fe405bd890ab2f20008656c2f37e.jpg  \n",
            "  inflating: +_214_640_640_cars.v2i.yolov7pytorch/train/images/5883126b-img_4636322_jpg.rf.d8b1a13d5943ed8c4a729b8090588564.jpg  \n",
            "  inflating: __MACOSX/+_214_640_640_cars.v2i.yolov7pytorch/train/images/._5883126b-img_4636322_jpg.rf.d8b1a13d5943ed8c4a729b8090588564.jpg  \n",
            "  inflating: +_214_640_640_cars.v2i.yolov7pytorch/train/images/d3abaeab-vehicle_crash-450-_jpg.rf.9be77f52e0937994f50c3dedb268d711.jpg  \n",
            "  inflating: __MACOSX/+_214_640_640_cars.v2i.yolov7pytorch/train/images/._d3abaeab-vehicle_crash-450-_jpg.rf.9be77f52e0937994f50c3dedb268d711.jpg  \n",
            "  inflating: +_214_640_640_cars.v2i.yolov7pytorch/train/images/e07e02cf-img_4517765_jpg.rf.86b363bc390b63b57b2e015747616fe4.jpg  \n",
            "  inflating: __MACOSX/+_214_640_640_cars.v2i.yolov7pytorch/train/images/._e07e02cf-img_4517765_jpg.rf.86b363bc390b63b57b2e015747616fe4.jpg  \n",
            "  inflating: +_214_640_640_cars.v2i.yolov7pytorch/train/images/d6930d67-img-MfXJiSN9jHKbZJWz1faC7_png_jpg.rf.15cd5e4b1ae655e6df4eb441a4dfc774.jpg  \n",
            "  inflating: __MACOSX/+_214_640_640_cars.v2i.yolov7pytorch/train/images/._d6930d67-img-MfXJiSN9jHKbZJWz1faC7_png_jpg.rf.15cd5e4b1ae655e6df4eb441a4dfc774.jpg  \n",
            "  inflating: +_214_640_640_cars.v2i.yolov7pytorch/train/images/299fabde-img-8iKEKGixOb5G6p8QNMsHk_jpeg_jpg.rf.f6bbf06db346fc2dd360d3952d281e35.jpg  \n",
            "  inflating: __MACOSX/+_214_640_640_cars.v2i.yolov7pytorch/train/images/._299fabde-img-8iKEKGixOb5G6p8QNMsHk_jpeg_jpg.rf.f6bbf06db346fc2dd360d3952d281e35.jpg  \n",
            "  inflating: +_214_640_640_cars.v2i.yolov7pytorch/train/images/d3abaeab-vehicle_crash-450-_jpg.rf.02b515c9f51e31f0b3ac90744c277522.jpg  \n",
            "  inflating: __MACOSX/+_214_640_640_cars.v2i.yolov7pytorch/train/images/._d3abaeab-vehicle_crash-450-_jpg.rf.02b515c9f51e31f0b3ac90744c277522.jpg  \n",
            "  inflating: +_214_640_640_cars.v2i.yolov7pytorch/train/images/32249454-_1_jpg.rf.c783c2477e25fbfd90628b0df59321b8.jpg  \n",
            "  inflating: __MACOSX/+_214_640_640_cars.v2i.yolov7pytorch/train/images/._32249454-_1_jpg.rf.c783c2477e25fbfd90628b0df59321b8.jpg  \n",
            "  inflating: +_214_640_640_cars.v2i.yolov7pytorch/train/images/4bcb3c47-img-7H5rCD0n2YUMgx9JlDKhQ_jpeg_jpg.rf.e71d6971e8146f4fda37efa4b0d6daff.jpg  \n",
            "  inflating: __MACOSX/+_214_640_640_cars.v2i.yolov7pytorch/train/images/._4bcb3c47-img-7H5rCD0n2YUMgx9JlDKhQ_jpeg_jpg.rf.e71d6971e8146f4fda37efa4b0d6daff.jpg  \n",
            "  inflating: +_214_640_640_cars.v2i.yolov7pytorch/train/images/3e915b9e-images_2_jpg.rf.d38398751c524f5447f357bfcff1c984.jpg  \n",
            "  inflating: __MACOSX/+_214_640_640_cars.v2i.yolov7pytorch/train/images/._3e915b9e-images_2_jpg.rf.d38398751c524f5447f357bfcff1c984.jpg  \n",
            "  inflating: +_214_640_640_cars.v2i.yolov7pytorch/train/images/fe047af8-img_7766264_jpg.rf.59d269fc4d3b51e351515da12f6ded92.jpg  \n",
            "  inflating: __MACOSX/+_214_640_640_cars.v2i.yolov7pytorch/train/images/._fe047af8-img_7766264_jpg.rf.59d269fc4d3b51e351515da12f6ded92.jpg  \n",
            "  inflating: +_214_640_640_cars.v2i.yolov7pytorch/train/images/1e6efee7-vehicle_crash-41-_jpg.rf.daa4a73ca7458c9731620347e5da12d3.jpg  \n",
            "  inflating: __MACOSX/+_214_640_640_cars.v2i.yolov7pytorch/train/images/._1e6efee7-vehicle_crash-41-_jpg.rf.daa4a73ca7458c9731620347e5da12d3.jpg  \n",
            "  inflating: +_214_640_640_cars.v2i.yolov7pytorch/train/images/4bcb3c47-img-7H5rCD0n2YUMgx9JlDKhQ_jpeg_jpg.rf.0401d3e5ae4d5414db9059fc8d3d8e17.jpg  \n",
            "  inflating: __MACOSX/+_214_640_640_cars.v2i.yolov7pytorch/train/images/._4bcb3c47-img-7H5rCD0n2YUMgx9JlDKhQ_jpeg_jpg.rf.0401d3e5ae4d5414db9059fc8d3d8e17.jpg  \n",
            "  inflating: +_214_640_640_cars.v2i.yolov7pytorch/train/images/d0772984-images_2_jpg.rf.1a5374a783038ffe0a28feb78a87262d.jpg  \n",
            "  inflating: __MACOSX/+_214_640_640_cars.v2i.yolov7pytorch/train/images/._d0772984-images_2_jpg.rf.1a5374a783038ffe0a28feb78a87262d.jpg  \n",
            "  inflating: +_214_640_640_cars.v2i.yolov7pytorch/train/images/357bc315-img-ThwGUNwzkEd6nTv68AYbz_png_jpg.rf.a7e9dacae9a7c82d4bccbb58c8fb8284.jpg  \n",
            "  inflating: __MACOSX/+_214_640_640_cars.v2i.yolov7pytorch/train/images/._357bc315-img-ThwGUNwzkEd6nTv68AYbz_png_jpg.rf.a7e9dacae9a7c82d4bccbb58c8fb8284.jpg  \n",
            "  inflating: +_214_640_640_cars.v2i.yolov7pytorch/train/images/cf69dfa9-vehicle_crash-49-_jpg.rf.2480216b0e99100e89c3b880cda70711.jpg  \n",
            "  inflating: __MACOSX/+_214_640_640_cars.v2i.yolov7pytorch/train/images/._cf69dfa9-vehicle_crash-49-_jpg.rf.2480216b0e99100e89c3b880cda70711.jpg  \n",
            "  inflating: +_214_640_640_cars.v2i.yolov7pytorch/train/images/357bc315-img-ThwGUNwzkEd6nTv68AYbz_png_jpg.rf.4f3121ed565423889ac108896df10590.jpg  \n",
            "  inflating: __MACOSX/+_214_640_640_cars.v2i.yolov7pytorch/train/images/._357bc315-img-ThwGUNwzkEd6nTv68AYbz_png_jpg.rf.4f3121ed565423889ac108896df10590.jpg  \n",
            "  inflating: +_214_640_640_cars.v2i.yolov7pytorch/train/images/8eca7b0d-images_jpg.rf.0c4f084a1250651ff1689aa068f8a5a2.jpg  \n",
            "  inflating: __MACOSX/+_214_640_640_cars.v2i.yolov7pytorch/train/images/._8eca7b0d-images_jpg.rf.0c4f084a1250651ff1689aa068f8a5a2.jpg  \n",
            "  inflating: +_214_640_640_cars.v2i.yolov7pytorch/train/images/fe047af8-img_7766264_jpg.rf.52da61f0762aa36ebda851c9b641e54e.jpg  \n",
            "  inflating: __MACOSX/+_214_640_640_cars.v2i.yolov7pytorch/train/images/._fe047af8-img_7766264_jpg.rf.52da61f0762aa36ebda851c9b641e54e.jpg  \n",
            "  inflating: +_214_640_640_cars.v2i.yolov7pytorch/train/images/f600593a-image_jpg.rf.c5ff27f554b0eea03e0c998c38bbc439.jpg  \n",
            "  inflating: __MACOSX/+_214_640_640_cars.v2i.yolov7pytorch/train/images/._f600593a-image_jpg.rf.c5ff27f554b0eea03e0c998c38bbc439.jpg  \n",
            "  inflating: +_214_640_640_cars.v2i.yolov7pytorch/train/images/1d40c104-img-wNJYcEavsYuvmP3oVrlrS_jpeg_jpg.rf.72905bfc9b40c4f1ac5b8b8676c44f99.jpg  \n",
            "  inflating: __MACOSX/+_214_640_640_cars.v2i.yolov7pytorch/train/images/._1d40c104-img-wNJYcEavsYuvmP3oVrlrS_jpeg_jpg.rf.72905bfc9b40c4f1ac5b8b8676c44f99.jpg  \n",
            "  inflating: +_214_640_640_cars.v2i.yolov7pytorch/train/images/439cce02-img-9TnDK60vgmlfsfr8FRYWb_png_jpg.rf.a9a8a5eab1e1e208fc47e7472ae499a4.jpg  \n",
            "  inflating: __MACOSX/+_214_640_640_cars.v2i.yolov7pytorch/train/images/._439cce02-img-9TnDK60vgmlfsfr8FRYWb_png_jpg.rf.a9a8a5eab1e1e208fc47e7472ae499a4.jpg  \n",
            "  inflating: +_214_640_640_cars.v2i.yolov7pytorch/train/images/e4952682-images_jpg.rf.befde66573cb8b4aa8342b9e7fa84912.jpg  \n",
            "  inflating: __MACOSX/+_214_640_640_cars.v2i.yolov7pytorch/train/images/._e4952682-images_jpg.rf.befde66573cb8b4aa8342b9e7fa84912.jpg  \n",
            "  inflating: +_214_640_640_cars.v2i.yolov7pytorch/train/images/6ad94748-img_4514813_jpg.rf.ba94eb0a86073b097563ac12afdad4dc.jpg  \n",
            "  inflating: __MACOSX/+_214_640_640_cars.v2i.yolov7pytorch/train/images/._6ad94748-img_4514813_jpg.rf.ba94eb0a86073b097563ac12afdad4dc.jpg  \n",
            "  inflating: +_214_640_640_cars.v2i.yolov7pytorch/train/images/1327fbd3-images_12_jpg.rf.b2d432959e78443abc46480bb477d443.jpg  \n",
            "  inflating: __MACOSX/+_214_640_640_cars.v2i.yolov7pytorch/train/images/._1327fbd3-images_12_jpg.rf.b2d432959e78443abc46480bb477d443.jpg  \n",
            "  inflating: +_214_640_640_cars.v2i.yolov7pytorch/train/images/d7fa5093-img-0qUc8X5I2gc0IZeWieNbp_jpeg_jpg.rf.fc67a7b0d18d0c4fb28660655680248c.jpg  \n",
            "  inflating: __MACOSX/+_214_640_640_cars.v2i.yolov7pytorch/train/images/._d7fa5093-img-0qUc8X5I2gc0IZeWieNbp_jpeg_jpg.rf.fc67a7b0d18d0c4fb28660655680248c.jpg  \n",
            "  inflating: +_214_640_640_cars.v2i.yolov7pytorch/train/images/d6930d67-img-MfXJiSN9jHKbZJWz1faC7_png_jpg.rf.a938db3c6b3276fb336dd9ee393628b0.jpg  \n",
            "  inflating: __MACOSX/+_214_640_640_cars.v2i.yolov7pytorch/train/images/._d6930d67-img-MfXJiSN9jHKbZJWz1faC7_png_jpg.rf.a938db3c6b3276fb336dd9ee393628b0.jpg  \n",
            "  inflating: +_214_640_640_cars.v2i.yolov7pytorch/train/images/61f0fc17-vehicle_crash-248-_jpg.rf.9a91c5f1a09f874be9a8f1ea553357f0.jpg  \n",
            "  inflating: __MACOSX/+_214_640_640_cars.v2i.yolov7pytorch/train/images/._61f0fc17-vehicle_crash-248-_jpg.rf.9a91c5f1a09f874be9a8f1ea553357f0.jpg  \n",
            "  inflating: +_214_640_640_cars.v2i.yolov7pytorch/train/images/1e6efee7-vehicle_crash-41-_jpg.rf.fa4448aa643b70763ab9bfb009b0cab4.jpg  \n",
            "  inflating: __MACOSX/+_214_640_640_cars.v2i.yolov7pytorch/train/images/._1e6efee7-vehicle_crash-41-_jpg.rf.fa4448aa643b70763ab9bfb009b0cab4.jpg  \n",
            "  inflating: +_214_640_640_cars.v2i.yolov7pytorch/train/labels/80e04b3e-img_4538945_jpg.rf.6beaea4a7bd48e51a23ee6af7a9ff3ca.txt  \n",
            "  inflating: __MACOSX/+_214_640_640_cars.v2i.yolov7pytorch/train/labels/._80e04b3e-img_4538945_jpg.rf.6beaea4a7bd48e51a23ee6af7a9ff3ca.txt  \n",
            "  inflating: +_214_640_640_cars.v2i.yolov7pytorch/train/labels/d8240278-img-czznjKXjlFNXICOHrBzKQ_png_jpg.rf.aaf0a70a6b206d9b8ed2b39d543071a9.txt  \n",
            "  inflating: __MACOSX/+_214_640_640_cars.v2i.yolov7pytorch/train/labels/._d8240278-img-czznjKXjlFNXICOHrBzKQ_png_jpg.rf.aaf0a70a6b206d9b8ed2b39d543071a9.txt  \n",
            "  inflating: +_214_640_640_cars.v2i.yolov7pytorch/train/labels/9f0b9ca0-img-IgCcvF7cNRjfYqeoDiRQO_png_jpg.rf.43b34d2fb2de198cc32f5f31a8e456c1.txt  \n",
            "  inflating: __MACOSX/+_214_640_640_cars.v2i.yolov7pytorch/train/labels/._9f0b9ca0-img-IgCcvF7cNRjfYqeoDiRQO_png_jpg.rf.43b34d2fb2de198cc32f5f31a8e456c1.txt  \n",
            "  inflating: +_214_640_640_cars.v2i.yolov7pytorch/train/labels/adbc0676-img-OPXAOQleUgUjMwoTAWz7u_png_jpg.rf.e353fc681b11e22311cefffd108acac2.txt  \n",
            "  inflating: __MACOSX/+_214_640_640_cars.v2i.yolov7pytorch/train/labels/._adbc0676-img-OPXAOQleUgUjMwoTAWz7u_png_jpg.rf.e353fc681b11e22311cefffd108acac2.txt  \n",
            "  inflating: +_214_640_640_cars.v2i.yolov7pytorch/train/labels/76128e0c-vehicle_crash-8-_jpg.rf.de264dfbcb525a847cf99ffe6b205c01.txt  \n",
            "  inflating: __MACOSX/+_214_640_640_cars.v2i.yolov7pytorch/train/labels/._76128e0c-vehicle_crash-8-_jpg.rf.de264dfbcb525a847cf99ffe6b205c01.txt  \n",
            "  inflating: +_214_640_640_cars.v2i.yolov7pytorch/train/labels/32249454-_1_jpg.rf.c6f0c8da057c12d0106108d77f8217e2.txt  \n",
            "  inflating: __MACOSX/+_214_640_640_cars.v2i.yolov7pytorch/train/labels/._32249454-_1_jpg.rf.c6f0c8da057c12d0106108d77f8217e2.txt  \n",
            "  inflating: +_214_640_640_cars.v2i.yolov7pytorch/train/labels/43b5c3a9-images_jpg.rf.3dc3961253c2a38975348a7b405a7f41.txt  \n",
            "  inflating: __MACOSX/+_214_640_640_cars.v2i.yolov7pytorch/train/labels/._43b5c3a9-images_jpg.rf.3dc3961253c2a38975348a7b405a7f41.txt  \n",
            "  inflating: +_214_640_640_cars.v2i.yolov7pytorch/train/labels/5ba63fb8-images_4_jpg.rf.009df3a6ec31711709e53c9d23b4fe0a.txt  \n",
            "  inflating: __MACOSX/+_214_640_640_cars.v2i.yolov7pytorch/train/labels/._5ba63fb8-images_4_jpg.rf.009df3a6ec31711709e53c9d23b4fe0a.txt  \n",
            "  inflating: +_214_640_640_cars.v2i.yolov7pytorch/train/labels/c66cb8ed-test14_9_jpg.rf.5b7ee90b2da397f82a45b8983f9304fd.txt  \n",
            "  inflating: __MACOSX/+_214_640_640_cars.v2i.yolov7pytorch/train/labels/._c66cb8ed-test14_9_jpg.rf.5b7ee90b2da397f82a45b8983f9304fd.txt  \n",
            "  inflating: +_214_640_640_cars.v2i.yolov7pytorch/train/labels/59949c1c-vehicle_crash-162-_jpg.rf.9724ab2fb8c9b4aef917520bae497315.txt  \n",
            "  inflating: __MACOSX/+_214_640_640_cars.v2i.yolov7pytorch/train/labels/._59949c1c-vehicle_crash-162-_jpg.rf.9724ab2fb8c9b4aef917520bae497315.txt  \n",
            "  inflating: +_214_640_640_cars.v2i.yolov7pytorch/train/labels/b68a8eb4-vehicle_crash-79-_jpg.rf.eecd7dd3b438465cca8b7e8a87e10114.txt  \n",
            "  inflating: __MACOSX/+_214_640_640_cars.v2i.yolov7pytorch/train/labels/._b68a8eb4-vehicle_crash-79-_jpg.rf.eecd7dd3b438465cca8b7e8a87e10114.txt  \n",
            "  inflating: +_214_640_640_cars.v2i.yolov7pytorch/train/labels/738d6bf4-vehicle_crash-294-_jpg.rf.de609a1df42ec3487c6235de8ab2514e.txt  \n",
            "  inflating: __MACOSX/+_214_640_640_cars.v2i.yolov7pytorch/train/labels/._738d6bf4-vehicle_crash-294-_jpg.rf.de609a1df42ec3487c6235de8ab2514e.txt  \n",
            "  inflating: +_214_640_640_cars.v2i.yolov7pytorch/train/labels/26b1067b-vehicle_crash-276-_jpg.rf.76ee8dc57d89cf76a220a042234df6e1.txt  \n",
            "  inflating: __MACOSX/+_214_640_640_cars.v2i.yolov7pytorch/train/labels/._26b1067b-vehicle_crash-276-_jpg.rf.76ee8dc57d89cf76a220a042234df6e1.txt  \n",
            "  inflating: +_214_640_640_cars.v2i.yolov7pytorch/train/labels/17738540-vehicle_crash-29-_jpg.rf.feaf2dcfa7f726d440d1d4e4585c50b1.txt  \n",
            "  inflating: __MACOSX/+_214_640_640_cars.v2i.yolov7pytorch/train/labels/._17738540-vehicle_crash-29-_jpg.rf.feaf2dcfa7f726d440d1d4e4585c50b1.txt  \n",
            "  inflating: +_214_640_640_cars.v2i.yolov7pytorch/train/labels/61a95cee-img-4vUUs6n7kZSfhKdnugSmc_png_jpg.rf.72c3b6691f5e7711bf565f38a396aa5d.txt  \n",
            "  inflating: __MACOSX/+_214_640_640_cars.v2i.yolov7pytorch/train/labels/._61a95cee-img-4vUUs6n7kZSfhKdnugSmc_png_jpg.rf.72c3b6691f5e7711bf565f38a396aa5d.txt  \n",
            "  inflating: +_214_640_640_cars.v2i.yolov7pytorch/train/labels/26cde81e-img-ww7aVlU1CkRNm9PfKoEyh_jpeg_jpg.rf.75445d590d08d54cb26a80b1b6e0df97.txt  \n",
            "  inflating: __MACOSX/+_214_640_640_cars.v2i.yolov7pytorch/train/labels/._26cde81e-img-ww7aVlU1CkRNm9PfKoEyh_jpeg_jpg.rf.75445d590d08d54cb26a80b1b6e0df97.txt  \n",
            "  inflating: +_214_640_640_cars.v2i.yolov7pytorch/train/labels/6a699723-_jpg.rf.31565543400c87e3d30bac0d060aca8f.txt  \n",
            "  inflating: __MACOSX/+_214_640_640_cars.v2i.yolov7pytorch/train/labels/._6a699723-_jpg.rf.31565543400c87e3d30bac0d060aca8f.txt  \n",
            "  inflating: +_214_640_640_cars.v2i.yolov7pytorch/train/labels/90016bbe-img-ZxlLsWIIkXuyFgbAxHJoR_png_jpg.rf.c56ac3ec956270aff889d4142218a167.txt  \n",
            "  inflating: __MACOSX/+_214_640_640_cars.v2i.yolov7pytorch/train/labels/._90016bbe-img-ZxlLsWIIkXuyFgbAxHJoR_png_jpg.rf.c56ac3ec956270aff889d4142218a167.txt  \n",
            "  inflating: +_214_640_640_cars.v2i.yolov7pytorch/train/labels/1b699b7b-img-Dq3REEGWDU4vIfjLwJsI8_png_jpg.rf.de019bb5f2571d3db2c16c1838dd1311.txt  \n",
            "  inflating: __MACOSX/+_214_640_640_cars.v2i.yolov7pytorch/train/labels/._1b699b7b-img-Dq3REEGWDU4vIfjLwJsI8_png_jpg.rf.de019bb5f2571d3db2c16c1838dd1311.txt  \n",
            "  inflating: +_214_640_640_cars.v2i.yolov7pytorch/train/labels/123d66ea-img_4537378_jpg.rf.d372528ff47498edd54b48c566e6539f.txt  \n",
            "  inflating: __MACOSX/+_214_640_640_cars.v2i.yolov7pytorch/train/labels/._123d66ea-img_4537378_jpg.rf.d372528ff47498edd54b48c566e6539f.txt  \n",
            "  inflating: +_214_640_640_cars.v2i.yolov7pytorch/train/labels/9c28e5ae-img_4535143_jpg.rf.f0fea5638dc8c678ffe9791fcca145d6.txt  \n",
            "  inflating: __MACOSX/+_214_640_640_cars.v2i.yolov7pytorch/train/labels/._9c28e5ae-img_4535143_jpg.rf.f0fea5638dc8c678ffe9791fcca145d6.txt  \n",
            "  inflating: +_214_640_640_cars.v2i.yolov7pytorch/train/labels/9c28e5ae-img_4535143_jpg.rf.f99cb441ff8a30248d96bfa63107afdb.txt  \n",
            "  inflating: __MACOSX/+_214_640_640_cars.v2i.yolov7pytorch/train/labels/._9c28e5ae-img_4535143_jpg.rf.f99cb441ff8a30248d96bfa63107afdb.txt  \n",
            "  inflating: +_214_640_640_cars.v2i.yolov7pytorch/train/labels/65d778ce-images_2_jpg.rf.346df8fc94e14f2b4f91fba78ee9e5cd.txt  \n",
            "  inflating: __MACOSX/+_214_640_640_cars.v2i.yolov7pytorch/train/labels/._65d778ce-images_2_jpg.rf.346df8fc94e14f2b4f91fba78ee9e5cd.txt  \n",
            "  inflating: +_214_640_640_cars.v2i.yolov7pytorch/train/labels/c9522db2-img-6E6Tx3QUvP0oFltzsPBRM_png_jpg.rf.c6b0449096bc594cf8ea6a4f2f72d262.txt  \n",
            "  inflating: __MACOSX/+_214_640_640_cars.v2i.yolov7pytorch/train/labels/._c9522db2-img-6E6Tx3QUvP0oFltzsPBRM_png_jpg.rf.c6b0449096bc594cf8ea6a4f2f72d262.txt  \n",
            "  inflating: +_214_640_640_cars.v2i.yolov7pytorch/train/labels/81c02a1a-_-_-_1445-05-02_-_11-27-49_b537bd26_jpg.rf.10e12ead5a4fba40c45a2d68db979139.txt  \n",
            "  inflating: __MACOSX/+_214_640_640_cars.v2i.yolov7pytorch/train/labels/._81c02a1a-_-_-_1445-05-02_-_11-27-49_b537bd26_jpg.rf.10e12ead5a4fba40c45a2d68db979139.txt  \n",
            "  inflating: +_214_640_640_cars.v2i.yolov7pytorch/train/labels/d0772984-images_2_jpg.rf.e0cdb2417a3bb96f2fae1bd116f367ca.txt  \n",
            "  inflating: __MACOSX/+_214_640_640_cars.v2i.yolov7pytorch/train/labels/._d0772984-images_2_jpg.rf.e0cdb2417a3bb96f2fae1bd116f367ca.txt  \n",
            "  inflating: +_214_640_640_cars.v2i.yolov7pytorch/train/labels/fb41bd49-img_4516401_jpg.rf.b91aaab43693bbaee6ea20b6d3cef75e.txt  \n",
            "  inflating: __MACOSX/+_214_640_640_cars.v2i.yolov7pytorch/train/labels/._fb41bd49-img_4516401_jpg.rf.b91aaab43693bbaee6ea20b6d3cef75e.txt  \n",
            "  inflating: +_214_640_640_cars.v2i.yolov7pytorch/train/labels/54ba7297-img_4516674_jpg.rf.da0ba1cd7c64534bebb4fb607e708947.txt  \n",
            "  inflating: __MACOSX/+_214_640_640_cars.v2i.yolov7pytorch/train/labels/._54ba7297-img_4516674_jpg.rf.da0ba1cd7c64534bebb4fb607e708947.txt  \n",
            "  inflating: +_214_640_640_cars.v2i.yolov7pytorch/train/labels/f600593a-image_jpg.rf.39c1afc2b8976243990e8379a1f49b80.txt  \n",
            "  inflating: __MACOSX/+_214_640_640_cars.v2i.yolov7pytorch/train/labels/._f600593a-image_jpg.rf.39c1afc2b8976243990e8379a1f49b80.txt  \n",
            "  inflating: +_214_640_640_cars.v2i.yolov7pytorch/train/labels/d265edef-img-fctH7SuH1pNQFo7DymNtC_png_jpg.rf.7cc3c45d74277db6028f536a46a97e83.txt  \n",
            "  inflating: __MACOSX/+_214_640_640_cars.v2i.yolov7pytorch/train/labels/._d265edef-img-fctH7SuH1pNQFo7DymNtC_png_jpg.rf.7cc3c45d74277db6028f536a46a97e83.txt  \n",
            "  inflating: +_214_640_640_cars.v2i.yolov7pytorch/train/labels/d6930d67-img-MfXJiSN9jHKbZJWz1faC7_png_jpg.rf.8642f7f8c9554c7e7deec5aa5e6c1ebc.txt  \n",
            "  inflating: __MACOSX/+_214_640_640_cars.v2i.yolov7pytorch/train/labels/._d6930d67-img-MfXJiSN9jHKbZJWz1faC7_png_jpg.rf.8642f7f8c9554c7e7deec5aa5e6c1ebc.txt  \n",
            "  inflating: +_214_640_640_cars.v2i.yolov7pytorch/train/labels/61f0fc17-vehicle_crash-248-_jpg.rf.e5da05c2df2c7a908e256748d1cac358.txt  \n",
            "  inflating: __MACOSX/+_214_640_640_cars.v2i.yolov7pytorch/train/labels/._61f0fc17-vehicle_crash-248-_jpg.rf.e5da05c2df2c7a908e256748d1cac358.txt  \n",
            "  inflating: +_214_640_640_cars.v2i.yolov7pytorch/train/labels/b68a8eb4-vehicle_crash-79-_jpg.rf.9a65dcace8c840337bae2df6c9fcdf55.txt  \n",
            "  inflating: __MACOSX/+_214_640_640_cars.v2i.yolov7pytorch/train/labels/._b68a8eb4-vehicle_crash-79-_jpg.rf.9a65dcace8c840337bae2df6c9fcdf55.txt  \n",
            "  inflating: +_214_640_640_cars.v2i.yolov7pytorch/train/labels/5e39170e-images_1_jpg.rf.9627017073f3e185a30d617224f62031.txt  \n",
            "  inflating: __MACOSX/+_214_640_640_cars.v2i.yolov7pytorch/train/labels/._5e39170e-images_1_jpg.rf.9627017073f3e185a30d617224f62031.txt  \n",
            "  inflating: +_214_640_640_cars.v2i.yolov7pytorch/train/labels/43b5c3a9-images_jpg.rf.40f7fdd3c82034f7475c5e031323916a.txt  \n",
            "  inflating: __MACOSX/+_214_640_640_cars.v2i.yolov7pytorch/train/labels/._43b5c3a9-images_jpg.rf.40f7fdd3c82034f7475c5e031323916a.txt  \n",
            "  inflating: +_214_640_640_cars.v2i.yolov7pytorch/train/labels/fb41bd49-img_4516401_jpg.rf.9f217b9c7831028837ea5e4ad4d3590b.txt  \n",
            "  inflating: __MACOSX/+_214_640_640_cars.v2i.yolov7pytorch/train/labels/._fb41bd49-img_4516401_jpg.rf.9f217b9c7831028837ea5e4ad4d3590b.txt  \n",
            "  inflating: +_214_640_640_cars.v2i.yolov7pytorch/train/labels/4ac70c9f-img_4515227_jpg.rf.c030591dbe385b44b9911bbfbd697ce8.txt  \n",
            "  inflating: __MACOSX/+_214_640_640_cars.v2i.yolov7pytorch/train/labels/._4ac70c9f-img_4515227_jpg.rf.c030591dbe385b44b9911bbfbd697ce8.txt  \n",
            "  inflating: +_214_640_640_cars.v2i.yolov7pytorch/train/labels/a5edec4b-img-NCnTZYsITYWX4o5y2Y7pu_2_png_jpg.rf.5bedf674783bc27b346e60ffcbe19c00.txt  \n",
            "  inflating: __MACOSX/+_214_640_640_cars.v2i.yolov7pytorch/train/labels/._a5edec4b-img-NCnTZYsITYWX4o5y2Y7pu_2_png_jpg.rf.5bedf674783bc27b346e60ffcbe19c00.txt  \n",
            "  inflating: +_214_640_640_cars.v2i.yolov7pytorch/train/labels/33a4f8d2-img_4635465_jpg.rf.6dbe4a118fd380e025b3213157f6b9ca.txt  \n",
            "  inflating: __MACOSX/+_214_640_640_cars.v2i.yolov7pytorch/train/labels/._33a4f8d2-img_4635465_jpg.rf.6dbe4a118fd380e025b3213157f6b9ca.txt  \n",
            "  inflating: +_214_640_640_cars.v2i.yolov7pytorch/train/labels/9a768f6b-img-blrNFfSlaWRruvBDniNFE_png_jpg.rf.297385c7dffa4adaecfd97ef9183deee.txt  \n",
            "  inflating: __MACOSX/+_214_640_640_cars.v2i.yolov7pytorch/train/labels/._9a768f6b-img-blrNFfSlaWRruvBDniNFE_png_jpg.rf.297385c7dffa4adaecfd97ef9183deee.txt  \n",
            "  inflating: +_214_640_640_cars.v2i.yolov7pytorch/train/labels/5ba63fb8-images_4_jpg.rf.49949a6ccab5ef55cffbc4f3ec725e7e.txt  \n",
            "  inflating: __MACOSX/+_214_640_640_cars.v2i.yolov7pytorch/train/labels/._5ba63fb8-images_4_jpg.rf.49949a6ccab5ef55cffbc4f3ec725e7e.txt  \n",
            "  inflating: +_214_640_640_cars.v2i.yolov7pytorch/train/labels/1d40c104-img-wNJYcEavsYuvmP3oVrlrS_jpeg_jpg.rf.86653f73efce63b4aa7dab89e9274c7d.txt  \n",
            "  inflating: __MACOSX/+_214_640_640_cars.v2i.yolov7pytorch/train/labels/._1d40c104-img-wNJYcEavsYuvmP3oVrlrS_jpeg_jpg.rf.86653f73efce63b4aa7dab89e9274c7d.txt  \n",
            "  inflating: +_214_640_640_cars.v2i.yolov7pytorch/train/labels/91539fc6-vehicle_crash-65-_jpg.rf.d8e463fe1aac6e9bc84e659f7458c7af.txt  \n",
            "  inflating: __MACOSX/+_214_640_640_cars.v2i.yolov7pytorch/train/labels/._91539fc6-vehicle_crash-65-_jpg.rf.d8e463fe1aac6e9bc84e659f7458c7af.txt  \n",
            "  inflating: +_214_640_640_cars.v2i.yolov7pytorch/train/labels/3d5fc636-_-_-_1445-05-02_-_11-27-47_53ee33b0_jpg.rf.e3db38bfac32d4d8b95cff71fe7f8f6c.txt  \n",
            "  inflating: __MACOSX/+_214_640_640_cars.v2i.yolov7pytorch/train/labels/._3d5fc636-_-_-_1445-05-02_-_11-27-47_53ee33b0_jpg.rf.e3db38bfac32d4d8b95cff71fe7f8f6c.txt  \n",
            "  inflating: +_214_640_640_cars.v2i.yolov7pytorch/train/labels/17738540-vehicle_crash-29-_jpg.rf.8ea27c65640c0d4ddf95f846fdf36dc7.txt  \n",
            "  inflating: __MACOSX/+_214_640_640_cars.v2i.yolov7pytorch/train/labels/._17738540-vehicle_crash-29-_jpg.rf.8ea27c65640c0d4ddf95f846fdf36dc7.txt  \n",
            "  inflating: +_214_640_640_cars.v2i.yolov7pytorch/train/labels/d8240278-img-czznjKXjlFNXICOHrBzKQ_png_jpg.rf.1fa860f2be2544ec02e03b74fdfe488f.txt  \n",
            "  inflating: __MACOSX/+_214_640_640_cars.v2i.yolov7pytorch/train/labels/._d8240278-img-czznjKXjlFNXICOHrBzKQ_png_jpg.rf.1fa860f2be2544ec02e03b74fdfe488f.txt  \n",
            "  inflating: +_214_640_640_cars.v2i.yolov7pytorch/train/labels/1d027a67-img_4514917_jpg.rf.b9e494e76384a26c2400530ba9bd1c24.txt  \n",
            "  inflating: __MACOSX/+_214_640_640_cars.v2i.yolov7pytorch/train/labels/._1d027a67-img_4514917_jpg.rf.b9e494e76384a26c2400530ba9bd1c24.txt  \n",
            "  inflating: +_214_640_640_cars.v2i.yolov7pytorch/train/labels/4bcb3c47-img-7H5rCD0n2YUMgx9JlDKhQ_jpeg_jpg.rf.e71d6971e8146f4fda37efa4b0d6daff.txt  \n",
            "  inflating: __MACOSX/+_214_640_640_cars.v2i.yolov7pytorch/train/labels/._4bcb3c47-img-7H5rCD0n2YUMgx9JlDKhQ_jpeg_jpg.rf.e71d6971e8146f4fda37efa4b0d6daff.txt  \n",
            "  inflating: +_214_640_640_cars.v2i.yolov7pytorch/train/labels/fe047af8-img_7766264_jpg.rf.59d269fc4d3b51e351515da12f6ded92.txt  \n",
            "  inflating: __MACOSX/+_214_640_640_cars.v2i.yolov7pytorch/train/labels/._fe047af8-img_7766264_jpg.rf.59d269fc4d3b51e351515da12f6ded92.txt  \n",
            "  inflating: +_214_640_640_cars.v2i.yolov7pytorch/train/labels/3e915b9e-images_2_jpg.rf.d38398751c524f5447f357bfcff1c984.txt  \n",
            "  inflating: __MACOSX/+_214_640_640_cars.v2i.yolov7pytorch/train/labels/._3e915b9e-images_2_jpg.rf.d38398751c524f5447f357bfcff1c984.txt  \n",
            "  inflating: +_214_640_640_cars.v2i.yolov7pytorch/train/labels/32249454-_1_jpg.rf.c783c2477e25fbfd90628b0df59321b8.txt  \n",
            "  inflating: __MACOSX/+_214_640_640_cars.v2i.yolov7pytorch/train/labels/._32249454-_1_jpg.rf.c783c2477e25fbfd90628b0df59321b8.txt  \n",
            "  inflating: +_214_640_640_cars.v2i.yolov7pytorch/train/labels/357bc315-img-ThwGUNwzkEd6nTv68AYbz_png_jpg.rf.a7e9dacae9a7c82d4bccbb58c8fb8284.txt  \n",
            "  inflating: __MACOSX/+_214_640_640_cars.v2i.yolov7pytorch/train/labels/._357bc315-img-ThwGUNwzkEd6nTv68AYbz_png_jpg.rf.a7e9dacae9a7c82d4bccbb58c8fb8284.txt  \n",
            "  inflating: +_214_640_640_cars.v2i.yolov7pytorch/train/labels/357bc315-img-ThwGUNwzkEd6nTv68AYbz_png_jpg.rf.4f3121ed565423889ac108896df10590.txt  \n",
            "  inflating: __MACOSX/+_214_640_640_cars.v2i.yolov7pytorch/train/labels/._357bc315-img-ThwGUNwzkEd6nTv68AYbz_png_jpg.rf.4f3121ed565423889ac108896df10590.txt  \n",
            "  inflating: +_214_640_640_cars.v2i.yolov7pytorch/train/labels/cf69dfa9-vehicle_crash-49-_jpg.rf.2480216b0e99100e89c3b880cda70711.txt  \n",
            "  inflating: __MACOSX/+_214_640_640_cars.v2i.yolov7pytorch/train/labels/._cf69dfa9-vehicle_crash-49-_jpg.rf.2480216b0e99100e89c3b880cda70711.txt  \n",
            "  inflating: +_214_640_640_cars.v2i.yolov7pytorch/train/labels/4bcb3c47-img-7H5rCD0n2YUMgx9JlDKhQ_jpeg_jpg.rf.0401d3e5ae4d5414db9059fc8d3d8e17.txt  \n",
            "  inflating: __MACOSX/+_214_640_640_cars.v2i.yolov7pytorch/train/labels/._4bcb3c47-img-7H5rCD0n2YUMgx9JlDKhQ_jpeg_jpg.rf.0401d3e5ae4d5414db9059fc8d3d8e17.txt  \n",
            "  inflating: +_214_640_640_cars.v2i.yolov7pytorch/train/labels/d0772984-images_2_jpg.rf.1a5374a783038ffe0a28feb78a87262d.txt  \n",
            "  inflating: __MACOSX/+_214_640_640_cars.v2i.yolov7pytorch/train/labels/._d0772984-images_2_jpg.rf.1a5374a783038ffe0a28feb78a87262d.txt  \n",
            "  inflating: +_214_640_640_cars.v2i.yolov7pytorch/train/labels/1e6efee7-vehicle_crash-41-_jpg.rf.daa4a73ca7458c9731620347e5da12d3.txt  \n",
            "  inflating: __MACOSX/+_214_640_640_cars.v2i.yolov7pytorch/train/labels/._1e6efee7-vehicle_crash-41-_jpg.rf.daa4a73ca7458c9731620347e5da12d3.txt  \n",
            "  inflating: +_214_640_640_cars.v2i.yolov7pytorch/train/labels/439cce02-img-9TnDK60vgmlfsfr8FRYWb_png_jpg.rf.a9a8a5eab1e1e208fc47e7472ae499a4.txt  \n",
            "  inflating: __MACOSX/+_214_640_640_cars.v2i.yolov7pytorch/train/labels/._439cce02-img-9TnDK60vgmlfsfr8FRYWb_png_jpg.rf.a9a8a5eab1e1e208fc47e7472ae499a4.txt  \n",
            "  inflating: +_214_640_640_cars.v2i.yolov7pytorch/train/labels/1d40c104-img-wNJYcEavsYuvmP3oVrlrS_jpeg_jpg.rf.72905bfc9b40c4f1ac5b8b8676c44f99.txt  \n",
            "  inflating: __MACOSX/+_214_640_640_cars.v2i.yolov7pytorch/train/labels/._1d40c104-img-wNJYcEavsYuvmP3oVrlrS_jpeg_jpg.rf.72905bfc9b40c4f1ac5b8b8676c44f99.txt  \n",
            "  inflating: +_214_640_640_cars.v2i.yolov7pytorch/train/labels/f600593a-image_jpg.rf.c5ff27f554b0eea03e0c998c38bbc439.txt  \n",
            "  inflating: __MACOSX/+_214_640_640_cars.v2i.yolov7pytorch/train/labels/._f600593a-image_jpg.rf.c5ff27f554b0eea03e0c998c38bbc439.txt  \n",
            "  inflating: +_214_640_640_cars.v2i.yolov7pytorch/train/labels/e4952682-images_jpg.rf.befde66573cb8b4aa8342b9e7fa84912.txt  \n",
            "  inflating: __MACOSX/+_214_640_640_cars.v2i.yolov7pytorch/train/labels/._e4952682-images_jpg.rf.befde66573cb8b4aa8342b9e7fa84912.txt  \n",
            "  inflating: +_214_640_640_cars.v2i.yolov7pytorch/train/labels/8eca7b0d-images_jpg.rf.0c4f084a1250651ff1689aa068f8a5a2.txt  \n",
            "  inflating: __MACOSX/+_214_640_640_cars.v2i.yolov7pytorch/train/labels/._8eca7b0d-images_jpg.rf.0c4f084a1250651ff1689aa068f8a5a2.txt  \n",
            "  inflating: +_214_640_640_cars.v2i.yolov7pytorch/train/labels/fe047af8-img_7766264_jpg.rf.52da61f0762aa36ebda851c9b641e54e.txt  \n",
            "  inflating: __MACOSX/+_214_640_640_cars.v2i.yolov7pytorch/train/labels/._fe047af8-img_7766264_jpg.rf.52da61f0762aa36ebda851c9b641e54e.txt  \n",
            "  inflating: +_214_640_640_cars.v2i.yolov7pytorch/train/labels/1e6efee7-vehicle_crash-41-_jpg.rf.fa4448aa643b70763ab9bfb009b0cab4.txt  \n",
            "  inflating: __MACOSX/+_214_640_640_cars.v2i.yolov7pytorch/train/labels/._1e6efee7-vehicle_crash-41-_jpg.rf.fa4448aa643b70763ab9bfb009b0cab4.txt  \n",
            "  inflating: +_214_640_640_cars.v2i.yolov7pytorch/train/labels/61f0fc17-vehicle_crash-248-_jpg.rf.9a91c5f1a09f874be9a8f1ea553357f0.txt  \n",
            "  inflating: __MACOSX/+_214_640_640_cars.v2i.yolov7pytorch/train/labels/._61f0fc17-vehicle_crash-248-_jpg.rf.9a91c5f1a09f874be9a8f1ea553357f0.txt  \n",
            "  inflating: +_214_640_640_cars.v2i.yolov7pytorch/train/labels/d7fa5093-img-0qUc8X5I2gc0IZeWieNbp_jpeg_jpg.rf.fc67a7b0d18d0c4fb28660655680248c.txt  \n",
            "  inflating: __MACOSX/+_214_640_640_cars.v2i.yolov7pytorch/train/labels/._d7fa5093-img-0qUc8X5I2gc0IZeWieNbp_jpeg_jpg.rf.fc67a7b0d18d0c4fb28660655680248c.txt  \n",
            "  inflating: +_214_640_640_cars.v2i.yolov7pytorch/train/labels/1327fbd3-images_12_jpg.rf.b2d432959e78443abc46480bb477d443.txt  \n",
            "  inflating: __MACOSX/+_214_640_640_cars.v2i.yolov7pytorch/train/labels/._1327fbd3-images_12_jpg.rf.b2d432959e78443abc46480bb477d443.txt  \n",
            "  inflating: +_214_640_640_cars.v2i.yolov7pytorch/train/labels/6ad94748-img_4514813_jpg.rf.ba94eb0a86073b097563ac12afdad4dc.txt  \n",
            "  inflating: __MACOSX/+_214_640_640_cars.v2i.yolov7pytorch/train/labels/._6ad94748-img_4514813_jpg.rf.ba94eb0a86073b097563ac12afdad4dc.txt  \n",
            "  inflating: +_214_640_640_cars.v2i.yolov7pytorch/train/labels/d6930d67-img-MfXJiSN9jHKbZJWz1faC7_png_jpg.rf.a938db3c6b3276fb336dd9ee393628b0.txt  \n",
            "  inflating: __MACOSX/+_214_640_640_cars.v2i.yolov7pytorch/train/labels/._d6930d67-img-MfXJiSN9jHKbZJWz1faC7_png_jpg.rf.a938db3c6b3276fb336dd9ee393628b0.txt  \n",
            "  inflating: +_214_640_640_cars.v2i.yolov7pytorch/train/labels/299fabde-img-8iKEKGixOb5G6p8QNMsHk_jpeg_jpg.rf.5851e4343511b7064b00367eeefe2b6b.txt  \n",
            "  inflating: __MACOSX/+_214_640_640_cars.v2i.yolov7pytorch/train/labels/._299fabde-img-8iKEKGixOb5G6p8QNMsHk_jpeg_jpg.rf.5851e4343511b7064b00367eeefe2b6b.txt  \n",
            "  inflating: +_214_640_640_cars.v2i.yolov7pytorch/train/labels/04546d97-vehicle_crash-1-_jpg.rf.a4c8b3c5f4198843962ee076f478b9f1.txt  \n",
            "  inflating: __MACOSX/+_214_640_640_cars.v2i.yolov7pytorch/train/labels/._04546d97-vehicle_crash-1-_jpg.rf.a4c8b3c5f4198843962ee076f478b9f1.txt  \n",
            "  inflating: +_214_640_640_cars.v2i.yolov7pytorch/train/labels/66592d81-img_7766876_jpg.rf.e4eb880825c95d2682e814c5a8c93c2b.txt  \n",
            "  inflating: __MACOSX/+_214_640_640_cars.v2i.yolov7pytorch/train/labels/._66592d81-img_7766876_jpg.rf.e4eb880825c95d2682e814c5a8c93c2b.txt  \n",
            "  inflating: +_214_640_640_cars.v2i.yolov7pytorch/train/labels/1d027a67-img_4514917_jpg.rf.80cdb1bddf3ec9b9d8cfd01ff55aa37e.txt  \n",
            "  inflating: __MACOSX/+_214_640_640_cars.v2i.yolov7pytorch/train/labels/._1d027a67-img_4514917_jpg.rf.80cdb1bddf3ec9b9d8cfd01ff55aa37e.txt  \n",
            "  inflating: +_214_640_640_cars.v2i.yolov7pytorch/train/labels/66592d81-img_7766876_jpg.rf.c508503492df0dda5590247bf9765fbc.txt  \n",
            "  inflating: __MACOSX/+_214_640_640_cars.v2i.yolov7pytorch/train/labels/._66592d81-img_7766876_jpg.rf.c508503492df0dda5590247bf9765fbc.txt  \n",
            "  inflating: +_214_640_640_cars.v2i.yolov7pytorch/train/labels/8eca7b0d-images_jpg.rf.5a6655439c5a12056e7f9aefdb97069d.txt  \n",
            "  inflating: __MACOSX/+_214_640_640_cars.v2i.yolov7pytorch/train/labels/._8eca7b0d-images_jpg.rf.5a6655439c5a12056e7f9aefdb97069d.txt  \n",
            "  inflating: +_214_640_640_cars.v2i.yolov7pytorch/train/labels/738d6bf4-vehicle_crash-294-_jpg.rf.0de937f0474f046c4e1b2974a046c659.txt  \n",
            "  inflating: __MACOSX/+_214_640_640_cars.v2i.yolov7pytorch/train/labels/._738d6bf4-vehicle_crash-294-_jpg.rf.0de937f0474f046c4e1b2974a046c659.txt  \n",
            "  inflating: +_214_640_640_cars.v2i.yolov7pytorch/train/labels/9e090d94-img-MZKKxA5zhURnI6yfsqw0D_jpeg_jpg.rf.2a28c478a98dd6a18c251e416fdd0b12.txt  \n",
            "  inflating: __MACOSX/+_214_640_640_cars.v2i.yolov7pytorch/train/labels/._9e090d94-img-MZKKxA5zhURnI6yfsqw0D_jpeg_jpg.rf.2a28c478a98dd6a18c251e416fdd0b12.txt  \n",
            "  inflating: +_214_640_640_cars.v2i.yolov7pytorch/train/labels/c9522db2-img-6E6Tx3QUvP0oFltzsPBRM_png_jpg.rf.63e3c77e9d2612e48910f47ee85027e7.txt  \n",
            "  inflating: __MACOSX/+_214_640_640_cars.v2i.yolov7pytorch/train/labels/._c9522db2-img-6E6Tx3QUvP0oFltzsPBRM_png_jpg.rf.63e3c77e9d2612e48910f47ee85027e7.txt  \n",
            "  inflating: +_214_640_640_cars.v2i.yolov7pytorch/train/labels/123d66ea-img_4537378_jpg.rf.e9dee839f2ce8710068c6aac67732951.txt  \n",
            "  inflating: __MACOSX/+_214_640_640_cars.v2i.yolov7pytorch/train/labels/._123d66ea-img_4537378_jpg.rf.e9dee839f2ce8710068c6aac67732951.txt  \n",
            "  inflating: +_214_640_640_cars.v2i.yolov7pytorch/train/labels/3e915b9e-images_2_jpg.rf.f4d2895e49cbe52b8b94e01dd8437b37.txt  \n",
            "  inflating: __MACOSX/+_214_640_640_cars.v2i.yolov7pytorch/train/labels/._3e915b9e-images_2_jpg.rf.f4d2895e49cbe52b8b94e01dd8437b37.txt  \n",
            "  inflating: +_214_640_640_cars.v2i.yolov7pytorch/train/labels/a5edec4b-img-NCnTZYsITYWX4o5y2Y7pu_2_png_jpg.rf.d6ae0bdb729c7df159ab820eb4c60b9f.txt  \n",
            "  inflating: __MACOSX/+_214_640_640_cars.v2i.yolov7pytorch/train/labels/._a5edec4b-img-NCnTZYsITYWX4o5y2Y7pu_2_png_jpg.rf.d6ae0bdb729c7df159ab820eb4c60b9f.txt  \n",
            "  inflating: +_214_640_640_cars.v2i.yolov7pytorch/train/labels/ecd965a2-vehicle_crash-286-_jpg.rf.049fc973dd68d58b0f1b15481c674f93.txt  \n",
            "  inflating: __MACOSX/+_214_640_640_cars.v2i.yolov7pytorch/train/labels/._ecd965a2-vehicle_crash-286-_jpg.rf.049fc973dd68d58b0f1b15481c674f93.txt  \n",
            "  inflating: +_214_640_640_cars.v2i.yolov7pytorch/train/labels/9d82d940-images_1_jpg.rf.4cff730ff304af48e6283c984f8bf95e.txt  \n",
            "  inflating: __MACOSX/+_214_640_640_cars.v2i.yolov7pytorch/train/labels/._9d82d940-images_1_jpg.rf.4cff730ff304af48e6283c984f8bf95e.txt  \n",
            "  inflating: +_214_640_640_cars.v2i.yolov7pytorch/train/labels/08beb337-img_4536637_jpg.rf.269a848783bfd1c69262ed36561d4a1f.txt  \n",
            "  inflating: __MACOSX/+_214_640_640_cars.v2i.yolov7pytorch/train/labels/._08beb337-img_4536637_jpg.rf.269a848783bfd1c69262ed36561d4a1f.txt  \n",
            "  inflating: +_214_640_640_cars.v2i.yolov7pytorch/train/labels/59949c1c-vehicle_crash-162-_jpg.rf.7b372b4e066ce2e27caf7a14a73364ea.txt  \n",
            "  inflating: __MACOSX/+_214_640_640_cars.v2i.yolov7pytorch/train/labels/._59949c1c-vehicle_crash-162-_jpg.rf.7b372b4e066ce2e27caf7a14a73364ea.txt  \n",
            "  inflating: +_214_640_640_cars.v2i.yolov7pytorch/train/labels/36565def-images_3_jpg.rf.d04248eb7f7026cd419a1415c25e5b47.txt  \n",
            "  inflating: __MACOSX/+_214_640_640_cars.v2i.yolov7pytorch/train/labels/._36565def-images_3_jpg.rf.d04248eb7f7026cd419a1415c25e5b47.txt  \n",
            "  inflating: +_214_640_640_cars.v2i.yolov7pytorch/train/labels/3a828bc6-img-lrl19jqaoFOi0sNtYuFfR_png_jpg.rf.345e6e984d7b87d1a488551a9a6a0144.txt  \n",
            "  inflating: __MACOSX/+_214_640_640_cars.v2i.yolov7pytorch/train/labels/._3a828bc6-img-lrl19jqaoFOi0sNtYuFfR_png_jpg.rf.345e6e984d7b87d1a488551a9a6a0144.txt  \n",
            "  inflating: +_214_640_640_cars.v2i.yolov7pytorch/train/labels/d265edef-img-fctH7SuH1pNQFo7DymNtC_png_jpg.rf.7480ea8ed818f47b078d6cff2faae8ba.txt  \n",
            "  inflating: __MACOSX/+_214_640_640_cars.v2i.yolov7pytorch/train/labels/._d265edef-img-fctH7SuH1pNQFo7DymNtC_png_jpg.rf.7480ea8ed818f47b078d6cff2faae8ba.txt  \n",
            "  inflating: +_214_640_640_cars.v2i.yolov7pytorch/train/labels/d0772984-images_2_jpg.rf.234a3eb696b80b385d904cfd8c746d9e.txt  \n",
            "  inflating: __MACOSX/+_214_640_640_cars.v2i.yolov7pytorch/train/labels/._d0772984-images_2_jpg.rf.234a3eb696b80b385d904cfd8c746d9e.txt  \n",
            "  inflating: +_214_640_640_cars.v2i.yolov7pytorch/train/labels/e07e02cf-img_4517765_jpg.rf.86b363bc390b63b57b2e015747616fe4.txt  \n",
            "  inflating: __MACOSX/+_214_640_640_cars.v2i.yolov7pytorch/train/labels/._e07e02cf-img_4517765_jpg.rf.86b363bc390b63b57b2e015747616fe4.txt  \n",
            "  inflating: +_214_640_640_cars.v2i.yolov7pytorch/train/labels/d3abaeab-vehicle_crash-450-_jpg.rf.9be77f52e0937994f50c3dedb268d711.txt  \n",
            "  inflating: __MACOSX/+_214_640_640_cars.v2i.yolov7pytorch/train/labels/._d3abaeab-vehicle_crash-450-_jpg.rf.9be77f52e0937994f50c3dedb268d711.txt  \n",
            "  inflating: +_214_640_640_cars.v2i.yolov7pytorch/train/labels/6a3b412b-img-jCDIxqi4FEHSxdlaaxKnV_png_jpg.rf.50d7fe405bd890ab2f20008656c2f37e.txt  \n",
            "  inflating: __MACOSX/+_214_640_640_cars.v2i.yolov7pytorch/train/labels/._6a3b412b-img-jCDIxqi4FEHSxdlaaxKnV_png_jpg.rf.50d7fe405bd890ab2f20008656c2f37e.txt  \n",
            "  inflating: +_214_640_640_cars.v2i.yolov7pytorch/train/labels/5883126b-img_4636322_jpg.rf.d8b1a13d5943ed8c4a729b8090588564.txt  \n",
            "  inflating: __MACOSX/+_214_640_640_cars.v2i.yolov7pytorch/train/labels/._5883126b-img_4636322_jpg.rf.d8b1a13d5943ed8c4a729b8090588564.txt  \n",
            "  inflating: +_214_640_640_cars.v2i.yolov7pytorch/train/labels/d3abaeab-vehicle_crash-450-_jpg.rf.02b515c9f51e31f0b3ac90744c277522.txt  \n",
            "  inflating: __MACOSX/+_214_640_640_cars.v2i.yolov7pytorch/train/labels/._d3abaeab-vehicle_crash-450-_jpg.rf.02b515c9f51e31f0b3ac90744c277522.txt  \n",
            "  inflating: +_214_640_640_cars.v2i.yolov7pytorch/train/labels/d6930d67-img-MfXJiSN9jHKbZJWz1faC7_png_jpg.rf.15cd5e4b1ae655e6df4eb441a4dfc774.txt  \n",
            "  inflating: __MACOSX/+_214_640_640_cars.v2i.yolov7pytorch/train/labels/._d6930d67-img-MfXJiSN9jHKbZJWz1faC7_png_jpg.rf.15cd5e4b1ae655e6df4eb441a4dfc774.txt  \n",
            "  inflating: +_214_640_640_cars.v2i.yolov7pytorch/train/labels/299fabde-img-8iKEKGixOb5G6p8QNMsHk_jpeg_jpg.rf.f6bbf06db346fc2dd360d3952d281e35.txt  \n",
            "  inflating: __MACOSX/+_214_640_640_cars.v2i.yolov7pytorch/train/labels/._299fabde-img-8iKEKGixOb5G6p8QNMsHk_jpeg_jpg.rf.f6bbf06db346fc2dd360d3952d281e35.txt  \n"
          ]
        }
      ]
    },
    {
      "cell_type": "code",
      "source": [
        "!pip install ultralytics"
      ],
      "metadata": {
        "id": "tylFMtRiP_ye",
        "colab": {
          "base_uri": "https://localhost:8080/"
        },
        "outputId": "8d7916aa-9344-4108-88a6-632cd46b887a"
      },
      "execution_count": 4,
      "outputs": [
        {
          "output_type": "stream",
          "name": "stdout",
          "text": [
            "Collecting ultralytics\n",
            "  Downloading ultralytics-8.3.13-py3-none-any.whl.metadata (34 kB)\n",
            "Requirement already satisfied: numpy>=1.23.0 in /usr/local/lib/python3.10/dist-packages (from ultralytics) (1.26.4)\n",
            "Requirement already satisfied: matplotlib>=3.3.0 in /usr/local/lib/python3.10/dist-packages (from ultralytics) (3.7.1)\n",
            "Requirement already satisfied: opencv-python>=4.6.0 in /usr/local/lib/python3.10/dist-packages (from ultralytics) (4.10.0.84)\n",
            "Requirement already satisfied: pillow>=7.1.2 in /usr/local/lib/python3.10/dist-packages (from ultralytics) (10.4.0)\n",
            "Requirement already satisfied: pyyaml>=5.3.1 in /usr/local/lib/python3.10/dist-packages (from ultralytics) (6.0.2)\n",
            "Requirement already satisfied: requests>=2.23.0 in /usr/local/lib/python3.10/dist-packages (from ultralytics) (2.32.3)\n",
            "Requirement already satisfied: scipy>=1.4.1 in /usr/local/lib/python3.10/dist-packages (from ultralytics) (1.13.1)\n",
            "Requirement already satisfied: torch>=1.8.0 in /usr/local/lib/python3.10/dist-packages (from ultralytics) (2.4.1+cu121)\n",
            "Requirement already satisfied: torchvision>=0.9.0 in /usr/local/lib/python3.10/dist-packages (from ultralytics) (0.19.1+cu121)\n",
            "Requirement already satisfied: tqdm>=4.64.0 in /usr/local/lib/python3.10/dist-packages (from ultralytics) (4.66.5)\n",
            "Requirement already satisfied: psutil in /usr/local/lib/python3.10/dist-packages (from ultralytics) (5.9.5)\n",
            "Requirement already satisfied: py-cpuinfo in /usr/local/lib/python3.10/dist-packages (from ultralytics) (9.0.0)\n",
            "Requirement already satisfied: pandas>=1.1.4 in /usr/local/lib/python3.10/dist-packages (from ultralytics) (2.2.2)\n",
            "Requirement already satisfied: seaborn>=0.11.0 in /usr/local/lib/python3.10/dist-packages (from ultralytics) (0.13.2)\n",
            "Collecting ultralytics-thop>=2.0.0 (from ultralytics)\n",
            "  Downloading ultralytics_thop-2.0.9-py3-none-any.whl.metadata (9.3 kB)\n",
            "Requirement already satisfied: contourpy>=1.0.1 in /usr/local/lib/python3.10/dist-packages (from matplotlib>=3.3.0->ultralytics) (1.3.0)\n",
            "Requirement already satisfied: cycler>=0.10 in /usr/local/lib/python3.10/dist-packages (from matplotlib>=3.3.0->ultralytics) (0.12.1)\n",
            "Requirement already satisfied: fonttools>=4.22.0 in /usr/local/lib/python3.10/dist-packages (from matplotlib>=3.3.0->ultralytics) (4.54.1)\n",
            "Requirement already satisfied: kiwisolver>=1.0.1 in /usr/local/lib/python3.10/dist-packages (from matplotlib>=3.3.0->ultralytics) (1.4.7)\n",
            "Requirement already satisfied: packaging>=20.0 in /usr/local/lib/python3.10/dist-packages (from matplotlib>=3.3.0->ultralytics) (24.1)\n",
            "Requirement already satisfied: pyparsing>=2.3.1 in /usr/local/lib/python3.10/dist-packages (from matplotlib>=3.3.0->ultralytics) (3.1.4)\n",
            "Requirement already satisfied: python-dateutil>=2.7 in /usr/local/lib/python3.10/dist-packages (from matplotlib>=3.3.0->ultralytics) (2.8.2)\n",
            "Requirement already satisfied: pytz>=2020.1 in /usr/local/lib/python3.10/dist-packages (from pandas>=1.1.4->ultralytics) (2024.2)\n",
            "Requirement already satisfied: tzdata>=2022.7 in /usr/local/lib/python3.10/dist-packages (from pandas>=1.1.4->ultralytics) (2024.2)\n",
            "Requirement already satisfied: charset-normalizer<4,>=2 in /usr/local/lib/python3.10/dist-packages (from requests>=2.23.0->ultralytics) (3.4.0)\n",
            "Requirement already satisfied: idna<4,>=2.5 in /usr/local/lib/python3.10/dist-packages (from requests>=2.23.0->ultralytics) (3.10)\n",
            "Requirement already satisfied: urllib3<3,>=1.21.1 in /usr/local/lib/python3.10/dist-packages (from requests>=2.23.0->ultralytics) (2.2.3)\n",
            "Requirement already satisfied: certifi>=2017.4.17 in /usr/local/lib/python3.10/dist-packages (from requests>=2.23.0->ultralytics) (2024.8.30)\n",
            "Requirement already satisfied: filelock in /usr/local/lib/python3.10/dist-packages (from torch>=1.8.0->ultralytics) (3.16.1)\n",
            "Requirement already satisfied: typing-extensions>=4.8.0 in /usr/local/lib/python3.10/dist-packages (from torch>=1.8.0->ultralytics) (4.12.2)\n",
            "Requirement already satisfied: sympy in /usr/local/lib/python3.10/dist-packages (from torch>=1.8.0->ultralytics) (1.13.3)\n",
            "Requirement already satisfied: networkx in /usr/local/lib/python3.10/dist-packages (from torch>=1.8.0->ultralytics) (3.4)\n",
            "Requirement already satisfied: jinja2 in /usr/local/lib/python3.10/dist-packages (from torch>=1.8.0->ultralytics) (3.1.4)\n",
            "Requirement already satisfied: fsspec in /usr/local/lib/python3.10/dist-packages (from torch>=1.8.0->ultralytics) (2024.6.1)\n",
            "Requirement already satisfied: six>=1.5 in /usr/local/lib/python3.10/dist-packages (from python-dateutil>=2.7->matplotlib>=3.3.0->ultralytics) (1.16.0)\n",
            "Requirement already satisfied: MarkupSafe>=2.0 in /usr/local/lib/python3.10/dist-packages (from jinja2->torch>=1.8.0->ultralytics) (3.0.1)\n",
            "Requirement already satisfied: mpmath<1.4,>=1.1.0 in /usr/local/lib/python3.10/dist-packages (from sympy->torch>=1.8.0->ultralytics) (1.3.0)\n",
            "Downloading ultralytics-8.3.13-py3-none-any.whl (870 kB)\n",
            "\u001b[2K   \u001b[90m━━━━━━━━━━━━━━━━━━━━━━━━━━━━━━━━━━━━━━━━\u001b[0m \u001b[32m870.5/870.5 kB\u001b[0m \u001b[31m26.1 MB/s\u001b[0m eta \u001b[36m0:00:00\u001b[0m\n",
            "\u001b[?25hDownloading ultralytics_thop-2.0.9-py3-none-any.whl (26 kB)\n",
            "Installing collected packages: ultralytics-thop, ultralytics\n",
            "Successfully installed ultralytics-8.3.13 ultralytics-thop-2.0.9\n"
          ]
        }
      ]
    },
    {
      "cell_type": "code",
      "source": [
        "from ultralytics import YOLO"
      ],
      "metadata": {
        "id": "rpTvNvwNR8wW",
        "colab": {
          "base_uri": "https://localhost:8080/"
        },
        "outputId": "981846e6-4006-4f68-8d88-e2624d6489ac"
      },
      "execution_count": 5,
      "outputs": [
        {
          "output_type": "stream",
          "name": "stdout",
          "text": [
            "Creating new Ultralytics Settings v0.0.6 file ✅ \n",
            "View Ultralytics Settings with 'yolo settings' or at '/root/.config/Ultralytics/settings.json'\n",
            "Update Settings with 'yolo settings key=value', i.e. 'yolo settings runs_dir=path/to/dir'. For help see https://docs.ultralytics.com/quickstart/#ultralytics-settings.\n"
          ]
        }
      ]
    },
    {
      "cell_type": "code",
      "source": [
        "model = YOLO(\"yolo11n.pt\")"
      ],
      "metadata": {
        "id": "2Yf3JtovRhrU",
        "colab": {
          "base_uri": "https://localhost:8080/"
        },
        "outputId": "4735f70e-30d7-48de-d220-b758048f6dfd"
      },
      "execution_count": 7,
      "outputs": [
        {
          "output_type": "stream",
          "name": "stdout",
          "text": [
            "Downloading https://github.com/ultralytics/assets/releases/download/v8.3.0/yolo11n.pt to 'yolo11n.pt'...\n"
          ]
        },
        {
          "output_type": "stream",
          "name": "stderr",
          "text": [
            "100%|██████████| 5.35M/5.35M [00:00<00:00, 102MB/s]\n"
          ]
        }
      ]
    },
    {
      "cell_type": "code",
      "source": [
        "model.info()"
      ],
      "metadata": {
        "colab": {
          "base_uri": "https://localhost:8080/"
        },
        "id": "x1zRSJMCY-ft",
        "outputId": "73ef4f7b-652f-46c2-a776-0165b4518a53"
      },
      "execution_count": 8,
      "outputs": [
        {
          "output_type": "stream",
          "name": "stdout",
          "text": [
            "YOLO11n summary: 319 layers, 2,624,080 parameters, 0 gradients, 6.6 GFLOPs\n"
          ]
        },
        {
          "output_type": "execute_result",
          "data": {
            "text/plain": [
              "(319, 2624080, 0, 6.614336)"
            ]
          },
          "metadata": {},
          "execution_count": 8
        }
      ]
    },
    {
      "cell_type": "code",
      "source": [
        "results = model.train(data=\"/content/+_214_640_640_cars.v2i.yolov7pytorch/data.yaml\", epochs=100, imgsz=640, device=0, batch=32, plots=True, profile=True)"
      ],
      "metadata": {
        "colab": {
          "base_uri": "https://localhost:8080/"
        },
        "id": "TE06EaiGSBEt",
        "outputId": "3fe9e920-f76e-4ce9-ec9a-34990131b5c9"
      },
      "execution_count": 9,
      "outputs": [
        {
          "output_type": "stream",
          "name": "stdout",
          "text": [
            "Ultralytics 8.3.13 🚀 Python-3.10.12 torch-2.4.1+cu121 CUDA:0 (Tesla T4, 15102MiB)\n",
            "\u001b[34m\u001b[1mengine/trainer: \u001b[0mtask=detect, mode=train, model=yolo11n.pt, data=/content/+_214_640_640_cars.v2i.yolov7pytorch/data.yaml, epochs=100, time=None, patience=100, batch=32, imgsz=640, save=True, save_period=-1, cache=False, device=0, workers=8, project=None, name=train, exist_ok=False, pretrained=True, optimizer=auto, verbose=True, seed=0, deterministic=True, single_cls=False, rect=False, cos_lr=False, close_mosaic=10, resume=False, amp=True, fraction=1.0, profile=True, freeze=None, multi_scale=False, overlap_mask=True, mask_ratio=4, dropout=0.0, val=True, split=val, save_json=False, save_hybrid=False, conf=None, iou=0.7, max_det=300, half=False, dnn=False, plots=True, source=None, vid_stride=1, stream_buffer=False, visualize=False, augment=False, agnostic_nms=False, classes=None, retina_masks=False, embed=None, show=False, save_frames=False, save_txt=False, save_conf=False, save_crop=False, show_labels=True, show_conf=True, show_boxes=True, line_width=None, format=torchscript, keras=False, optimize=False, int8=False, dynamic=False, simplify=True, opset=None, workspace=4, nms=False, lr0=0.01, lrf=0.01, momentum=0.937, weight_decay=0.0005, warmup_epochs=3.0, warmup_momentum=0.8, warmup_bias_lr=0.1, box=7.5, cls=0.5, dfl=1.5, pose=12.0, kobj=1.0, label_smoothing=0.0, nbs=64, hsv_h=0.015, hsv_s=0.7, hsv_v=0.4, degrees=0.0, translate=0.1, scale=0.5, shear=0.0, perspective=0.0, flipud=0.0, fliplr=0.5, bgr=0.0, mosaic=1.0, mixup=0.0, copy_paste=0.0, copy_paste_mode=flip, auto_augment=randaugment, erasing=0.4, crop_fraction=1.0, cfg=None, tracker=botsort.yaml, save_dir=runs/detect/train\n",
            "Downloading https://ultralytics.com/assets/Arial.ttf to '/root/.config/Ultralytics/Arial.ttf'...\n"
          ]
        },
        {
          "output_type": "stream",
          "name": "stderr",
          "text": [
            "100%|██████████| 755k/755k [00:00<00:00, 26.8MB/s]\n"
          ]
        },
        {
          "output_type": "stream",
          "name": "stdout",
          "text": [
            "Overriding model.yaml nc=80 with nc=4\n",
            "\n",
            "                   from  n    params  module                                       arguments                     \n",
            "  0                  -1  1       464  ultralytics.nn.modules.conv.Conv             [3, 16, 3, 2]                 \n",
            "  1                  -1  1      4672  ultralytics.nn.modules.conv.Conv             [16, 32, 3, 2]                \n",
            "  2                  -1  1      6640  ultralytics.nn.modules.block.C3k2            [32, 64, 1, False, 0.25]      \n",
            "  3                  -1  1     36992  ultralytics.nn.modules.conv.Conv             [64, 64, 3, 2]                \n",
            "  4                  -1  1     26080  ultralytics.nn.modules.block.C3k2            [64, 128, 1, False, 0.25]     \n",
            "  5                  -1  1    147712  ultralytics.nn.modules.conv.Conv             [128, 128, 3, 2]              \n",
            "  6                  -1  1     87040  ultralytics.nn.modules.block.C3k2            [128, 128, 1, True]           \n",
            "  7                  -1  1    295424  ultralytics.nn.modules.conv.Conv             [128, 256, 3, 2]              \n",
            "  8                  -1  1    346112  ultralytics.nn.modules.block.C3k2            [256, 256, 1, True]           \n",
            "  9                  -1  1    164608  ultralytics.nn.modules.block.SPPF            [256, 256, 5]                 \n",
            " 10                  -1  1    249728  ultralytics.nn.modules.block.C2PSA           [256, 256, 1]                 \n",
            " 11                  -1  1         0  torch.nn.modules.upsampling.Upsample         [None, 2, 'nearest']          \n",
            " 12             [-1, 6]  1         0  ultralytics.nn.modules.conv.Concat           [1]                           \n",
            " 13                  -1  1    111296  ultralytics.nn.modules.block.C3k2            [384, 128, 1, False]          \n",
            " 14                  -1  1         0  torch.nn.modules.upsampling.Upsample         [None, 2, 'nearest']          \n",
            " 15             [-1, 4]  1         0  ultralytics.nn.modules.conv.Concat           [1]                           \n",
            " 16                  -1  1     32096  ultralytics.nn.modules.block.C3k2            [256, 64, 1, False]           \n",
            " 17                  -1  1     36992  ultralytics.nn.modules.conv.Conv             [64, 64, 3, 2]                \n",
            " 18            [-1, 13]  1         0  ultralytics.nn.modules.conv.Concat           [1]                           \n",
            " 19                  -1  1     86720  ultralytics.nn.modules.block.C3k2            [192, 128, 1, False]          \n",
            " 20                  -1  1    147712  ultralytics.nn.modules.conv.Conv             [128, 128, 3, 2]              \n",
            " 21            [-1, 10]  1         0  ultralytics.nn.modules.conv.Concat           [1]                           \n",
            " 22                  -1  1    378880  ultralytics.nn.modules.block.C3k2            [384, 256, 1, True]           \n",
            " 23        [16, 19, 22]  1    431452  ultralytics.nn.modules.head.Detect           [4, [64, 128, 256]]           \n",
            "YOLO11n summary: 319 layers, 2,590,620 parameters, 2,590,604 gradients, 6.4 GFLOPs\n",
            "\n",
            "Transferred 448/499 items from pretrained weights\n",
            "\u001b[34m\u001b[1mTensorBoard: \u001b[0mStart with 'tensorboard --logdir runs/detect/train', view at http://localhost:6006/\n",
            "Freezing layer 'model.23.dfl.conv.weight'\n",
            "\u001b[34m\u001b[1mAMP: \u001b[0mrunning Automatic Mixed Precision (AMP) checks with YOLO11n...\n",
            "\u001b[34m\u001b[1mAMP: \u001b[0mchecks passed ✅\n"
          ]
        },
        {
          "output_type": "stream",
          "name": "stderr",
          "text": [
            "\u001b[34m\u001b[1mtrain: \u001b[0mScanning /content/+_214_640_640_cars.v2i.yolov7pytorch/train/labels... 95 images, 1 backgrounds, 0 corrupt: 100%|██████████| 96/96 [00:00<00:00, 1646.41it/s]"
          ]
        },
        {
          "output_type": "stream",
          "name": "stdout",
          "text": [
            "\u001b[34m\u001b[1mtrain: \u001b[0mNew cache created: /content/+_214_640_640_cars.v2i.yolov7pytorch/train/labels.cache\n",
            "WARNING ⚠️ Box and segment counts should be equal, but got len(segments) = 273, len(boxes) = 275. To resolve this only boxes will be used and all segments will be removed. To avoid this please supply either a detect or segment dataset, not a detect-segment mixed dataset.\n"
          ]
        },
        {
          "output_type": "stream",
          "name": "stderr",
          "text": [
            "\n"
          ]
        },
        {
          "output_type": "stream",
          "name": "stdout",
          "text": [
            "\u001b[34m\u001b[1malbumentations: \u001b[0mBlur(p=0.01, blur_limit=(3, 7)), MedianBlur(p=0.01, blur_limit=(3, 7)), ToGray(p=0.01, num_output_channels=3, method='weighted_average'), CLAHE(p=0.01, clip_limit=(1, 4.0), tile_grid_size=(8, 8))\n"
          ]
        },
        {
          "output_type": "stream",
          "name": "stderr",
          "text": [
            "/usr/local/lib/python3.10/dist-packages/albumentations/__init__.py:13: UserWarning: A new version of Albumentations is available: 1.4.18 (you have 1.4.15). Upgrade using: pip install -U albumentations. To disable automatic update checks, set the environment variable NO_ALBUMENTATIONS_UPDATE to 1.\n",
            "  check_for_updates()\n",
            "\u001b[34m\u001b[1mval: \u001b[0mScanning /content/+_214_640_640_cars.v2i.yolov7pytorch/valid/labels... 60 images, 0 backgrounds, 0 corrupt: 100%|██████████| 60/60 [00:00<00:00, 1323.48it/s]"
          ]
        },
        {
          "output_type": "stream",
          "name": "stdout",
          "text": [
            "\u001b[34m\u001b[1mval: \u001b[0mNew cache created: /content/+_214_640_640_cars.v2i.yolov7pytorch/valid/labels.cache\n"
          ]
        },
        {
          "output_type": "stream",
          "name": "stderr",
          "text": [
            "\n"
          ]
        },
        {
          "output_type": "stream",
          "name": "stdout",
          "text": [
            "Plotting labels to runs/detect/train/labels.jpg... \n",
            "\u001b[34m\u001b[1moptimizer:\u001b[0m 'optimizer=auto' found, ignoring 'lr0=0.01' and 'momentum=0.937' and determining best 'optimizer', 'lr0' and 'momentum' automatically... \n",
            "\u001b[34m\u001b[1moptimizer:\u001b[0m AdamW(lr=0.00125, momentum=0.9) with parameter groups 81 weight(decay=0.0), 88 weight(decay=0.0005), 87 bias(decay=0.0)\n",
            "\u001b[34m\u001b[1mTensorBoard: \u001b[0mmodel graph visualization added ✅\n",
            "Image sizes 640 train, 640 val\n",
            "Using 2 dataloader workers\n",
            "Logging results to \u001b[1mruns/detect/train\u001b[0m\n",
            "Starting training for 100 epochs...\n",
            "\n",
            "      Epoch    GPU_mem   box_loss   cls_loss   dfl_loss  Instances       Size\n"
          ]
        },
        {
          "output_type": "stream",
          "name": "stderr",
          "text": [
            "      1/100      4.72G      1.316      3.208      1.616        195        640: 100%|██████████| 3/3 [00:02<00:00,  1.09it/s]\n",
            "                 Class     Images  Instances      Box(P          R      mAP50  mAP50-95): 100%|██████████| 1/1 [00:02<00:00,  2.44s/it]"
          ]
        },
        {
          "output_type": "stream",
          "name": "stdout",
          "text": [
            "                   all         60        175    0.00996      0.812      0.109      0.054\n"
          ]
        },
        {
          "output_type": "stream",
          "name": "stderr",
          "text": [
            "\n"
          ]
        },
        {
          "output_type": "stream",
          "name": "stdout",
          "text": [
            "\n",
            "      Epoch    GPU_mem   box_loss   cls_loss   dfl_loss  Instances       Size\n"
          ]
        },
        {
          "output_type": "stream",
          "name": "stderr",
          "text": [
            "      2/100       4.7G      1.334      3.222      1.661        214        640: 100%|██████████| 3/3 [00:01<00:00,  2.14it/s]\n",
            "                 Class     Images  Instances      Box(P          R      mAP50  mAP50-95): 100%|██████████| 1/1 [00:00<00:00,  1.95it/s]"
          ]
        },
        {
          "output_type": "stream",
          "name": "stdout",
          "text": [
            "                   all         60        175     0.0104      0.817      0.116     0.0628\n"
          ]
        },
        {
          "output_type": "stream",
          "name": "stderr",
          "text": [
            "\n"
          ]
        },
        {
          "output_type": "stream",
          "name": "stdout",
          "text": [
            "\n",
            "      Epoch    GPU_mem   box_loss   cls_loss   dfl_loss  Instances       Size\n"
          ]
        },
        {
          "output_type": "stream",
          "name": "stderr",
          "text": [
            "      3/100      4.71G      1.121      3.133      1.522        188        640: 100%|██████████| 3/3 [00:01<00:00,  2.25it/s]\n",
            "                 Class     Images  Instances      Box(P          R      mAP50  mAP50-95): 100%|██████████| 1/1 [00:01<00:00,  1.16s/it]"
          ]
        },
        {
          "output_type": "stream",
          "name": "stdout",
          "text": [
            "                   all         60        175     0.0109      0.815      0.161     0.0817\n"
          ]
        },
        {
          "output_type": "stream",
          "name": "stderr",
          "text": [
            "\n"
          ]
        },
        {
          "output_type": "stream",
          "name": "stdout",
          "text": [
            "\n",
            "      Epoch    GPU_mem   box_loss   cls_loss   dfl_loss  Instances       Size\n"
          ]
        },
        {
          "output_type": "stream",
          "name": "stderr",
          "text": [
            "      4/100      4.71G      1.072      3.089      1.465        235        640: 100%|██████████| 3/3 [00:01<00:00,  1.93it/s]\n",
            "                 Class     Images  Instances      Box(P          R      mAP50  mAP50-95): 100%|██████████| 1/1 [00:00<00:00,  1.17it/s]"
          ]
        },
        {
          "output_type": "stream",
          "name": "stdout",
          "text": [
            "                   all         60        175     0.0116       0.81      0.198      0.112\n"
          ]
        },
        {
          "output_type": "stream",
          "name": "stderr",
          "text": [
            "\n"
          ]
        },
        {
          "output_type": "stream",
          "name": "stdout",
          "text": [
            "\n",
            "      Epoch    GPU_mem   box_loss   cls_loss   dfl_loss  Instances       Size\n"
          ]
        },
        {
          "output_type": "stream",
          "name": "stderr",
          "text": [
            "      5/100       4.7G      1.035      3.075      1.453        174        640: 100%|██████████| 3/3 [00:01<00:00,  2.56it/s]\n",
            "                 Class     Images  Instances      Box(P          R      mAP50  mAP50-95): 100%|██████████| 1/1 [00:00<00:00,  1.49it/s]"
          ]
        },
        {
          "output_type": "stream",
          "name": "stdout",
          "text": [
            "                   all         60        175     0.0131      0.838      0.246      0.135\n"
          ]
        },
        {
          "output_type": "stream",
          "name": "stderr",
          "text": [
            "\n"
          ]
        },
        {
          "output_type": "stream",
          "name": "stdout",
          "text": [
            "\n",
            "      Epoch    GPU_mem   box_loss   cls_loss   dfl_loss  Instances       Size\n"
          ]
        },
        {
          "output_type": "stream",
          "name": "stderr",
          "text": [
            "      6/100      4.71G     0.9323      2.957        1.4        202        640: 100%|██████████| 3/3 [00:01<00:00,  2.62it/s]\n",
            "                 Class     Images  Instances      Box(P          R      mAP50  mAP50-95): 100%|██████████| 1/1 [00:00<00:00,  1.48it/s]"
          ]
        },
        {
          "output_type": "stream",
          "name": "stdout",
          "text": [
            "                   all         60        175     0.0152      0.836      0.265      0.149\n"
          ]
        },
        {
          "output_type": "stream",
          "name": "stderr",
          "text": [
            "\n"
          ]
        },
        {
          "output_type": "stream",
          "name": "stdout",
          "text": [
            "\n",
            "      Epoch    GPU_mem   box_loss   cls_loss   dfl_loss  Instances       Size\n"
          ]
        },
        {
          "output_type": "stream",
          "name": "stderr",
          "text": [
            "      7/100      4.71G     0.9622      2.896        1.4        190        640: 100%|██████████| 3/3 [00:01<00:00,  2.59it/s]\n",
            "                 Class     Images  Instances      Box(P          R      mAP50  mAP50-95): 100%|██████████| 1/1 [00:00<00:00,  1.75it/s]"
          ]
        },
        {
          "output_type": "stream",
          "name": "stdout",
          "text": [
            "                   all         60        175     0.0173      0.825      0.282       0.16\n"
          ]
        },
        {
          "output_type": "stream",
          "name": "stderr",
          "text": [
            "\n"
          ]
        },
        {
          "output_type": "stream",
          "name": "stdout",
          "text": [
            "\n",
            "      Epoch    GPU_mem   box_loss   cls_loss   dfl_loss  Instances       Size\n"
          ]
        },
        {
          "output_type": "stream",
          "name": "stderr",
          "text": [
            "      8/100      4.71G      1.008      2.859      1.409        211        640: 100%|██████████| 3/3 [00:01<00:00,  2.04it/s]\n",
            "                 Class     Images  Instances      Box(P          R      mAP50  mAP50-95): 100%|██████████| 1/1 [00:01<00:00,  1.73s/it]"
          ]
        },
        {
          "output_type": "stream",
          "name": "stdout",
          "text": [
            "                   all         60        175     0.0159      0.821      0.264      0.157\n"
          ]
        },
        {
          "output_type": "stream",
          "name": "stderr",
          "text": [
            "\n"
          ]
        },
        {
          "output_type": "stream",
          "name": "stdout",
          "text": [
            "\n",
            "      Epoch    GPU_mem   box_loss   cls_loss   dfl_loss  Instances       Size\n"
          ]
        },
        {
          "output_type": "stream",
          "name": "stderr",
          "text": [
            "      9/100      4.71G      1.013      2.724      1.418        211        640: 100%|██████████| 3/3 [00:01<00:00,  1.96it/s]\n",
            "                 Class     Images  Instances      Box(P          R      mAP50  mAP50-95): 100%|██████████| 1/1 [00:01<00:00,  1.33s/it]"
          ]
        },
        {
          "output_type": "stream",
          "name": "stdout",
          "text": [
            "                   all         60        175      0.014       0.81      0.285      0.164\n"
          ]
        },
        {
          "output_type": "stream",
          "name": "stderr",
          "text": [
            "\n"
          ]
        },
        {
          "output_type": "stream",
          "name": "stdout",
          "text": [
            "\n",
            "      Epoch    GPU_mem   box_loss   cls_loss   dfl_loss  Instances       Size\n"
          ]
        },
        {
          "output_type": "stream",
          "name": "stderr",
          "text": [
            "     10/100      4.71G      1.025      2.661      1.422        175        640: 100%|██████████| 3/3 [00:01<00:00,  2.68it/s]\n",
            "                 Class     Images  Instances      Box(P          R      mAP50  mAP50-95): 100%|██████████| 1/1 [00:00<00:00,  1.64it/s]"
          ]
        },
        {
          "output_type": "stream",
          "name": "stdout",
          "text": [
            "                   all         60        175     0.0125        0.8      0.274      0.157\n"
          ]
        },
        {
          "output_type": "stream",
          "name": "stderr",
          "text": [
            "\n"
          ]
        },
        {
          "output_type": "stream",
          "name": "stdout",
          "text": [
            "\n",
            "      Epoch    GPU_mem   box_loss   cls_loss   dfl_loss  Instances       Size\n"
          ]
        },
        {
          "output_type": "stream",
          "name": "stderr",
          "text": [
            "     11/100      4.71G      1.003       2.58      1.417        176        640: 100%|██████████| 3/3 [00:01<00:00,  2.74it/s]\n",
            "                 Class     Images  Instances      Box(P          R      mAP50  mAP50-95): 100%|██████████| 1/1 [00:00<00:00,  1.41it/s]"
          ]
        },
        {
          "output_type": "stream",
          "name": "stdout",
          "text": [
            "                   all         60        175     0.0121      0.806      0.265      0.159\n"
          ]
        },
        {
          "output_type": "stream",
          "name": "stderr",
          "text": [
            "\n"
          ]
        },
        {
          "output_type": "stream",
          "name": "stdout",
          "text": [
            "\n",
            "      Epoch    GPU_mem   box_loss   cls_loss   dfl_loss  Instances       Size\n"
          ]
        },
        {
          "output_type": "stream",
          "name": "stderr",
          "text": [
            "     12/100      4.71G      1.006      2.467       1.43        179        640: 100%|██████████| 3/3 [00:01<00:00,  2.51it/s]\n",
            "                 Class     Images  Instances      Box(P          R      mAP50  mAP50-95): 100%|██████████| 1/1 [00:00<00:00,  1.73it/s]"
          ]
        },
        {
          "output_type": "stream",
          "name": "stdout",
          "text": [
            "                   all         60        175      0.012      0.808      0.274      0.184\n"
          ]
        },
        {
          "output_type": "stream",
          "name": "stderr",
          "text": [
            "\n"
          ]
        },
        {
          "output_type": "stream",
          "name": "stdout",
          "text": [
            "\n",
            "      Epoch    GPU_mem   box_loss   cls_loss   dfl_loss  Instances       Size\n"
          ]
        },
        {
          "output_type": "stream",
          "name": "stderr",
          "text": [
            "     13/100      4.71G      1.008      2.368      1.421        176        640: 100%|██████████| 3/3 [00:01<00:00,  2.53it/s]\n",
            "                 Class     Images  Instances      Box(P          R      mAP50  mAP50-95): 100%|██████████| 1/1 [00:00<00:00,  1.15it/s]"
          ]
        },
        {
          "output_type": "stream",
          "name": "stdout",
          "text": [
            "                   all         60        175     0.0117      0.812      0.297      0.182\n"
          ]
        },
        {
          "output_type": "stream",
          "name": "stderr",
          "text": [
            "\n"
          ]
        },
        {
          "output_type": "stream",
          "name": "stdout",
          "text": [
            "\n",
            "      Epoch    GPU_mem   box_loss   cls_loss   dfl_loss  Instances       Size\n"
          ]
        },
        {
          "output_type": "stream",
          "name": "stderr",
          "text": [
            "     14/100      4.71G     0.9915      2.267      1.435        192        640: 100%|██████████| 3/3 [00:01<00:00,  2.03it/s]\n",
            "                 Class     Images  Instances      Box(P          R      mAP50  mAP50-95): 100%|██████████| 1/1 [00:01<00:00,  1.04s/it]"
          ]
        },
        {
          "output_type": "stream",
          "name": "stdout",
          "text": [
            "                   all         60        175     0.0116       0.83      0.296      0.172\n"
          ]
        },
        {
          "output_type": "stream",
          "name": "stderr",
          "text": [
            "\n"
          ]
        },
        {
          "output_type": "stream",
          "name": "stdout",
          "text": [
            "\n",
            "      Epoch    GPU_mem   box_loss   cls_loss   dfl_loss  Instances       Size\n"
          ]
        },
        {
          "output_type": "stream",
          "name": "stderr",
          "text": [
            "     15/100       4.7G       1.05      2.248      1.475        191        640: 100%|██████████| 3/3 [00:01<00:00,  1.93it/s]\n",
            "                 Class     Images  Instances      Box(P          R      mAP50  mAP50-95): 100%|██████████| 1/1 [00:00<00:00,  1.25it/s]"
          ]
        },
        {
          "output_type": "stream",
          "name": "stdout",
          "text": [
            "                   all         60        175     0.0119      0.895      0.274      0.166\n"
          ]
        },
        {
          "output_type": "stream",
          "name": "stderr",
          "text": [
            "\n"
          ]
        },
        {
          "output_type": "stream",
          "name": "stdout",
          "text": [
            "\n",
            "      Epoch    GPU_mem   box_loss   cls_loss   dfl_loss  Instances       Size\n"
          ]
        },
        {
          "output_type": "stream",
          "name": "stderr",
          "text": [
            "     16/100      4.71G      1.018      2.142      1.434        203        640: 100%|██████████| 3/3 [00:01<00:00,  2.66it/s]\n",
            "                 Class     Images  Instances      Box(P          R      mAP50  mAP50-95): 100%|██████████| 1/1 [00:00<00:00,  1.45it/s]"
          ]
        },
        {
          "output_type": "stream",
          "name": "stdout",
          "text": [
            "                   all         60        175     0.0111      0.845      0.289      0.171\n"
          ]
        },
        {
          "output_type": "stream",
          "name": "stderr",
          "text": [
            "\n"
          ]
        },
        {
          "output_type": "stream",
          "name": "stdout",
          "text": [
            "\n",
            "      Epoch    GPU_mem   box_loss   cls_loss   dfl_loss  Instances       Size\n"
          ]
        },
        {
          "output_type": "stream",
          "name": "stderr",
          "text": [
            "     17/100      4.71G      1.061      2.134      1.504        194        640: 100%|██████████| 3/3 [00:01<00:00,  2.93it/s]\n",
            "                 Class     Images  Instances      Box(P          R      mAP50  mAP50-95): 100%|██████████| 1/1 [00:00<00:00,  1.59it/s]"
          ]
        },
        {
          "output_type": "stream",
          "name": "stdout",
          "text": [
            "                   all         60        175     0.0456      0.805      0.288      0.162\n"
          ]
        },
        {
          "output_type": "stream",
          "name": "stderr",
          "text": [
            "\n"
          ]
        },
        {
          "output_type": "stream",
          "name": "stdout",
          "text": [
            "\n",
            "      Epoch    GPU_mem   box_loss   cls_loss   dfl_loss  Instances       Size\n"
          ]
        },
        {
          "output_type": "stream",
          "name": "stderr",
          "text": [
            "     18/100       4.7G      1.013      2.059      1.443        200        640: 100%|██████████| 3/3 [00:01<00:00,  2.81it/s]\n",
            "                 Class     Images  Instances      Box(P          R      mAP50  mAP50-95): 100%|██████████| 1/1 [00:00<00:00,  1.69it/s]"
          ]
        },
        {
          "output_type": "stream",
          "name": "stdout",
          "text": [
            "                   all         60        175       0.25      0.424       0.31      0.178\n"
          ]
        },
        {
          "output_type": "stream",
          "name": "stderr",
          "text": [
            "\n"
          ]
        },
        {
          "output_type": "stream",
          "name": "stdout",
          "text": [
            "\n",
            "      Epoch    GPU_mem   box_loss   cls_loss   dfl_loss  Instances       Size\n"
          ]
        },
        {
          "output_type": "stream",
          "name": "stderr",
          "text": [
            "     19/100      4.72G      1.022      2.058      1.424        182        640: 100%|██████████| 3/3 [00:01<00:00,  2.64it/s]\n",
            "                 Class     Images  Instances      Box(P          R      mAP50  mAP50-95): 100%|██████████| 1/1 [00:01<00:00,  1.05s/it]"
          ]
        },
        {
          "output_type": "stream",
          "name": "stdout",
          "text": [
            "                   all         60        175      0.935     0.0237      0.295      0.166\n"
          ]
        },
        {
          "output_type": "stream",
          "name": "stderr",
          "text": [
            "\n"
          ]
        },
        {
          "output_type": "stream",
          "name": "stdout",
          "text": [
            "\n",
            "      Epoch    GPU_mem   box_loss   cls_loss   dfl_loss  Instances       Size\n"
          ]
        },
        {
          "output_type": "stream",
          "name": "stderr",
          "text": [
            "     20/100      4.72G     0.9872      1.947       1.43        191        640: 100%|██████████| 3/3 [00:01<00:00,  2.08it/s]\n",
            "                 Class     Images  Instances      Box(P          R      mAP50  mAP50-95): 100%|██████████| 1/1 [00:01<00:00,  1.16s/it]"
          ]
        },
        {
          "output_type": "stream",
          "name": "stdout",
          "text": [
            "                   all         60        175      0.761     0.0592      0.341      0.188\n"
          ]
        },
        {
          "output_type": "stream",
          "name": "stderr",
          "text": [
            "\n"
          ]
        },
        {
          "output_type": "stream",
          "name": "stdout",
          "text": [
            "\n",
            "      Epoch    GPU_mem   box_loss   cls_loss   dfl_loss  Instances       Size\n"
          ]
        },
        {
          "output_type": "stream",
          "name": "stderr",
          "text": [
            "     21/100      4.72G     0.9353      1.846      1.355        199        640: 100%|██████████| 3/3 [00:01<00:00,  2.37it/s]\n",
            "                 Class     Images  Instances      Box(P          R      mAP50  mAP50-95): 100%|██████████| 1/1 [00:00<00:00,  1.31it/s]"
          ]
        },
        {
          "output_type": "stream",
          "name": "stdout",
          "text": [
            "                   all         60        175      0.672      0.112      0.374      0.214\n"
          ]
        },
        {
          "output_type": "stream",
          "name": "stderr",
          "text": [
            "\n"
          ]
        },
        {
          "output_type": "stream",
          "name": "stdout",
          "text": [
            "\n",
            "      Epoch    GPU_mem   box_loss   cls_loss   dfl_loss  Instances       Size\n"
          ]
        },
        {
          "output_type": "stream",
          "name": "stderr",
          "text": [
            "     22/100      4.71G     0.9789      1.889      1.405        208        640: 100%|██████████| 3/3 [00:01<00:00,  2.73it/s]\n",
            "                 Class     Images  Instances      Box(P          R      mAP50  mAP50-95): 100%|██████████| 1/1 [00:00<00:00,  1.39it/s]"
          ]
        },
        {
          "output_type": "stream",
          "name": "stdout",
          "text": [
            "                   all         60        175        0.8      0.121      0.404      0.241\n"
          ]
        },
        {
          "output_type": "stream",
          "name": "stderr",
          "text": [
            "\n"
          ]
        },
        {
          "output_type": "stream",
          "name": "stdout",
          "text": [
            "\n",
            "      Epoch    GPU_mem   box_loss   cls_loss   dfl_loss  Instances       Size\n"
          ]
        },
        {
          "output_type": "stream",
          "name": "stderr",
          "text": [
            "     23/100      4.72G     0.9314      1.813      1.381        196        640: 100%|██████████| 3/3 [00:01<00:00,  2.92it/s]\n",
            "                 Class     Images  Instances      Box(P          R      mAP50  mAP50-95): 100%|██████████| 1/1 [00:00<00:00,  1.37it/s]"
          ]
        },
        {
          "output_type": "stream",
          "name": "stdout",
          "text": [
            "                   all         60        175      0.791     0.0717      0.377      0.243\n"
          ]
        },
        {
          "output_type": "stream",
          "name": "stderr",
          "text": [
            "\n"
          ]
        },
        {
          "output_type": "stream",
          "name": "stdout",
          "text": [
            "\n",
            "      Epoch    GPU_mem   box_loss   cls_loss   dfl_loss  Instances       Size\n"
          ]
        },
        {
          "output_type": "stream",
          "name": "stderr",
          "text": [
            "     24/100      4.71G     0.9337      1.829      1.385        216        640: 100%|██████████| 3/3 [00:01<00:00,  2.78it/s]\n",
            "                 Class     Images  Instances      Box(P          R      mAP50  mAP50-95): 100%|██████████| 1/1 [00:00<00:00,  1.40it/s]"
          ]
        },
        {
          "output_type": "stream",
          "name": "stdout",
          "text": [
            "                   all         60        175      0.829     0.0853      0.377      0.238\n"
          ]
        },
        {
          "output_type": "stream",
          "name": "stderr",
          "text": [
            "\n"
          ]
        },
        {
          "output_type": "stream",
          "name": "stdout",
          "text": [
            "\n",
            "      Epoch    GPU_mem   box_loss   cls_loss   dfl_loss  Instances       Size\n"
          ]
        },
        {
          "output_type": "stream",
          "name": "stderr",
          "text": [
            "     25/100      4.72G     0.9141       1.72      1.353        167        640: 100%|██████████| 3/3 [00:01<00:00,  2.72it/s]\n",
            "                 Class     Images  Instances      Box(P          R      mAP50  mAP50-95): 100%|██████████| 1/1 [00:01<00:00,  1.22s/it]"
          ]
        },
        {
          "output_type": "stream",
          "name": "stdout",
          "text": [
            "                   all         60        175      0.658      0.149      0.397       0.24\n"
          ]
        },
        {
          "output_type": "stream",
          "name": "stderr",
          "text": [
            "\n"
          ]
        },
        {
          "output_type": "stream",
          "name": "stdout",
          "text": [
            "\n",
            "      Epoch    GPU_mem   box_loss   cls_loss   dfl_loss  Instances       Size\n"
          ]
        },
        {
          "output_type": "stream",
          "name": "stderr",
          "text": [
            "     26/100      4.72G     0.9251       1.68      1.374        189        640: 100%|██████████| 3/3 [00:01<00:00,  2.16it/s]\n",
            "                 Class     Images  Instances      Box(P          R      mAP50  mAP50-95): 100%|██████████| 1/1 [00:01<00:00,  1.32s/it]"
          ]
        },
        {
          "output_type": "stream",
          "name": "stdout",
          "text": [
            "                   all         60        175      0.582       0.24      0.411      0.254\n"
          ]
        },
        {
          "output_type": "stream",
          "name": "stderr",
          "text": [
            "\n"
          ]
        },
        {
          "output_type": "stream",
          "name": "stdout",
          "text": [
            "\n",
            "      Epoch    GPU_mem   box_loss   cls_loss   dfl_loss  Instances       Size\n"
          ]
        },
        {
          "output_type": "stream",
          "name": "stderr",
          "text": [
            "     27/100      4.72G     0.8607       1.63      1.302        197        640: 100%|██████████| 3/3 [00:01<00:00,  2.70it/s]\n",
            "                 Class     Images  Instances      Box(P          R      mAP50  mAP50-95): 100%|██████████| 1/1 [00:00<00:00,  1.43it/s]"
          ]
        },
        {
          "output_type": "stream",
          "name": "stdout",
          "text": [
            "                   all         60        175      0.501      0.274      0.399      0.238\n"
          ]
        },
        {
          "output_type": "stream",
          "name": "stderr",
          "text": [
            "\n"
          ]
        },
        {
          "output_type": "stream",
          "name": "stdout",
          "text": [
            "\n",
            "      Epoch    GPU_mem   box_loss   cls_loss   dfl_loss  Instances       Size\n"
          ]
        },
        {
          "output_type": "stream",
          "name": "stderr",
          "text": [
            "     28/100      4.72G     0.9119      1.694      1.346        217        640: 100%|██████████| 3/3 [00:01<00:00,  2.77it/s]\n",
            "                 Class     Images  Instances      Box(P          R      mAP50  mAP50-95): 100%|██████████| 1/1 [00:00<00:00,  1.33it/s]"
          ]
        },
        {
          "output_type": "stream",
          "name": "stdout",
          "text": [
            "                   all         60        175      0.456      0.334      0.428      0.259\n"
          ]
        },
        {
          "output_type": "stream",
          "name": "stderr",
          "text": [
            "\n"
          ]
        },
        {
          "output_type": "stream",
          "name": "stdout",
          "text": [
            "\n",
            "      Epoch    GPU_mem   box_loss   cls_loss   dfl_loss  Instances       Size\n"
          ]
        },
        {
          "output_type": "stream",
          "name": "stderr",
          "text": [
            "     29/100      4.72G     0.9224      1.576      1.326        215        640: 100%|██████████| 3/3 [00:01<00:00,  2.88it/s]\n",
            "                 Class     Images  Instances      Box(P          R      mAP50  mAP50-95): 100%|██████████| 1/1 [00:00<00:00,  1.33it/s]"
          ]
        },
        {
          "output_type": "stream",
          "name": "stdout",
          "text": [
            "                   all         60        175      0.507      0.332      0.414      0.268\n"
          ]
        },
        {
          "output_type": "stream",
          "name": "stderr",
          "text": [
            "\n"
          ]
        },
        {
          "output_type": "stream",
          "name": "stdout",
          "text": [
            "\n",
            "      Epoch    GPU_mem   box_loss   cls_loss   dfl_loss  Instances       Size\n"
          ]
        },
        {
          "output_type": "stream",
          "name": "stderr",
          "text": [
            "     30/100      4.72G     0.8779      1.557      1.301        189        640: 100%|██████████| 3/3 [00:01<00:00,  2.81it/s]\n",
            "                 Class     Images  Instances      Box(P          R      mAP50  mAP50-95): 100%|██████████| 1/1 [00:00<00:00,  1.57it/s]"
          ]
        },
        {
          "output_type": "stream",
          "name": "stdout",
          "text": [
            "                   all         60        175      0.397      0.289      0.279       0.16\n"
          ]
        },
        {
          "output_type": "stream",
          "name": "stderr",
          "text": [
            "\n"
          ]
        },
        {
          "output_type": "stream",
          "name": "stdout",
          "text": [
            "\n",
            "      Epoch    GPU_mem   box_loss   cls_loss   dfl_loss  Instances       Size\n"
          ]
        },
        {
          "output_type": "stream",
          "name": "stderr",
          "text": [
            "     31/100      4.72G     0.9049       1.52       1.34        206        640: 100%|██████████| 3/3 [00:01<00:00,  2.71it/s]\n",
            "                 Class     Images  Instances      Box(P          R      mAP50  mAP50-95): 100%|██████████| 1/1 [00:01<00:00,  1.07s/it]"
          ]
        },
        {
          "output_type": "stream",
          "name": "stdout",
          "text": [
            "                   all         60        175      0.418      0.265      0.273      0.156\n"
          ]
        },
        {
          "output_type": "stream",
          "name": "stderr",
          "text": [
            "\n"
          ]
        },
        {
          "output_type": "stream",
          "name": "stdout",
          "text": [
            "\n",
            "      Epoch    GPU_mem   box_loss   cls_loss   dfl_loss  Instances       Size\n"
          ]
        },
        {
          "output_type": "stream",
          "name": "stderr",
          "text": [
            "     32/100      4.72G     0.8981      1.541      1.321        175        640: 100%|██████████| 3/3 [00:01<00:00,  2.21it/s]\n",
            "                 Class     Images  Instances      Box(P          R      mAP50  mAP50-95): 100%|██████████| 1/1 [00:01<00:00,  1.28s/it]"
          ]
        },
        {
          "output_type": "stream",
          "name": "stdout",
          "text": [
            "                   all         60        175      0.327      0.313      0.313      0.189\n"
          ]
        },
        {
          "output_type": "stream",
          "name": "stderr",
          "text": [
            "\n"
          ]
        },
        {
          "output_type": "stream",
          "name": "stdout",
          "text": [
            "\n",
            "      Epoch    GPU_mem   box_loss   cls_loss   dfl_loss  Instances       Size\n"
          ]
        },
        {
          "output_type": "stream",
          "name": "stderr",
          "text": [
            "     33/100      4.71G     0.8912       1.51      1.323        218        640: 100%|██████████| 3/3 [00:01<00:00,  2.61it/s]\n",
            "                 Class     Images  Instances      Box(P          R      mAP50  mAP50-95): 100%|██████████| 1/1 [00:00<00:00,  1.33it/s]"
          ]
        },
        {
          "output_type": "stream",
          "name": "stdout",
          "text": [
            "                   all         60        175      0.282      0.342       0.29      0.165\n"
          ]
        },
        {
          "output_type": "stream",
          "name": "stderr",
          "text": [
            "\n"
          ]
        },
        {
          "output_type": "stream",
          "name": "stdout",
          "text": [
            "\n",
            "      Epoch    GPU_mem   box_loss   cls_loss   dfl_loss  Instances       Size\n"
          ]
        },
        {
          "output_type": "stream",
          "name": "stderr",
          "text": [
            "     34/100      4.72G     0.9287      1.591      1.355        216        640: 100%|██████████| 3/3 [00:01<00:00,  2.84it/s]\n",
            "                 Class     Images  Instances      Box(P          R      mAP50  mAP50-95): 100%|██████████| 1/1 [00:00<00:00,  1.44it/s]"
          ]
        },
        {
          "output_type": "stream",
          "name": "stdout",
          "text": [
            "                   all         60        175      0.315      0.303      0.281      0.147\n"
          ]
        },
        {
          "output_type": "stream",
          "name": "stderr",
          "text": [
            "\n"
          ]
        },
        {
          "output_type": "stream",
          "name": "stdout",
          "text": [
            "\n",
            "      Epoch    GPU_mem   box_loss   cls_loss   dfl_loss  Instances       Size\n"
          ]
        },
        {
          "output_type": "stream",
          "name": "stderr",
          "text": [
            "     35/100      4.72G      0.902      1.511      1.352        202        640: 100%|██████████| 3/3 [00:01<00:00,  2.79it/s]\n",
            "                 Class     Images  Instances      Box(P          R      mAP50  mAP50-95): 100%|██████████| 1/1 [00:00<00:00,  1.42it/s]"
          ]
        },
        {
          "output_type": "stream",
          "name": "stdout",
          "text": [
            "                   all         60        175       0.34      0.333       0.28       0.17\n"
          ]
        },
        {
          "output_type": "stream",
          "name": "stderr",
          "text": [
            "\n"
          ]
        },
        {
          "output_type": "stream",
          "name": "stdout",
          "text": [
            "\n",
            "      Epoch    GPU_mem   box_loss   cls_loss   dfl_loss  Instances       Size\n"
          ]
        },
        {
          "output_type": "stream",
          "name": "stderr",
          "text": [
            "     36/100      4.71G     0.9172      1.502      1.309        177        640: 100%|██████████| 3/3 [00:01<00:00,  2.80it/s]\n",
            "                 Class     Images  Instances      Box(P          R      mAP50  mAP50-95): 100%|██████████| 1/1 [00:00<00:00,  1.45it/s]"
          ]
        },
        {
          "output_type": "stream",
          "name": "stdout",
          "text": [
            "                   all         60        175      0.374      0.332      0.295      0.185\n"
          ]
        },
        {
          "output_type": "stream",
          "name": "stderr",
          "text": [
            "\n"
          ]
        },
        {
          "output_type": "stream",
          "name": "stdout",
          "text": [
            "\n",
            "      Epoch    GPU_mem   box_loss   cls_loss   dfl_loss  Instances       Size\n"
          ]
        },
        {
          "output_type": "stream",
          "name": "stderr",
          "text": [
            "     37/100      4.72G     0.9268      1.529      1.335        192        640: 100%|██████████| 3/3 [00:01<00:00,  2.53it/s]\n",
            "                 Class     Images  Instances      Box(P          R      mAP50  mAP50-95): 100%|██████████| 1/1 [00:01<00:00,  1.28s/it]"
          ]
        },
        {
          "output_type": "stream",
          "name": "stdout",
          "text": [
            "                   all         60        175      0.354      0.379      0.313      0.202\n"
          ]
        },
        {
          "output_type": "stream",
          "name": "stderr",
          "text": [
            "\n"
          ]
        },
        {
          "output_type": "stream",
          "name": "stdout",
          "text": [
            "\n",
            "      Epoch    GPU_mem   box_loss   cls_loss   dfl_loss  Instances       Size\n"
          ]
        },
        {
          "output_type": "stream",
          "name": "stderr",
          "text": [
            "     38/100      4.72G     0.9079      1.498      1.331        205        640: 100%|██████████| 3/3 [00:01<00:00,  2.11it/s]\n",
            "                 Class     Images  Instances      Box(P          R      mAP50  mAP50-95): 100%|██████████| 1/1 [00:01<00:00,  1.37s/it]"
          ]
        },
        {
          "output_type": "stream",
          "name": "stdout",
          "text": [
            "                   all         60        175      0.369      0.394      0.338      0.222\n"
          ]
        },
        {
          "output_type": "stream",
          "name": "stderr",
          "text": [
            "\n"
          ]
        },
        {
          "output_type": "stream",
          "name": "stdout",
          "text": [
            "\n",
            "      Epoch    GPU_mem   box_loss   cls_loss   dfl_loss  Instances       Size\n"
          ]
        },
        {
          "output_type": "stream",
          "name": "stderr",
          "text": [
            "     39/100      4.71G     0.8709      1.403      1.292        196        640: 100%|██████████| 3/3 [00:01<00:00,  2.86it/s]\n",
            "                 Class     Images  Instances      Box(P          R      mAP50  mAP50-95): 100%|██████████| 1/1 [00:00<00:00,  1.24it/s]"
          ]
        },
        {
          "output_type": "stream",
          "name": "stdout",
          "text": [
            "                   all         60        175      0.367      0.446      0.356      0.244\n"
          ]
        },
        {
          "output_type": "stream",
          "name": "stderr",
          "text": [
            "\n"
          ]
        },
        {
          "output_type": "stream",
          "name": "stdout",
          "text": [
            "\n",
            "      Epoch    GPU_mem   box_loss   cls_loss   dfl_loss  Instances       Size\n"
          ]
        },
        {
          "output_type": "stream",
          "name": "stderr",
          "text": [
            "     40/100      4.72G     0.8193      1.397      1.273        198        640: 100%|██████████| 3/3 [00:01<00:00,  2.91it/s]\n",
            "                 Class     Images  Instances      Box(P          R      mAP50  mAP50-95): 100%|██████████| 1/1 [00:00<00:00,  1.60it/s]"
          ]
        },
        {
          "output_type": "stream",
          "name": "stdout",
          "text": [
            "                   all         60        175      0.431      0.428      0.401      0.283\n"
          ]
        },
        {
          "output_type": "stream",
          "name": "stderr",
          "text": [
            "\n"
          ]
        },
        {
          "output_type": "stream",
          "name": "stdout",
          "text": [
            "\n",
            "      Epoch    GPU_mem   box_loss   cls_loss   dfl_loss  Instances       Size\n"
          ]
        },
        {
          "output_type": "stream",
          "name": "stderr",
          "text": [
            "     41/100      4.71G      0.829      1.341      1.281        188        640: 100%|██████████| 3/3 [00:00<00:00,  3.02it/s]\n",
            "                 Class     Images  Instances      Box(P          R      mAP50  mAP50-95): 100%|██████████| 1/1 [00:00<00:00,  1.36it/s]"
          ]
        },
        {
          "output_type": "stream",
          "name": "stdout",
          "text": [
            "                   all         60        175      0.459      0.401      0.424       0.31\n"
          ]
        },
        {
          "output_type": "stream",
          "name": "stderr",
          "text": [
            "\n"
          ]
        },
        {
          "output_type": "stream",
          "name": "stdout",
          "text": [
            "\n",
            "      Epoch    GPU_mem   box_loss   cls_loss   dfl_loss  Instances       Size\n"
          ]
        },
        {
          "output_type": "stream",
          "name": "stderr",
          "text": [
            "     42/100      4.72G     0.8482      1.385      1.302        179        640: 100%|██████████| 3/3 [00:01<00:00,  2.86it/s]\n",
            "                 Class     Images  Instances      Box(P          R      mAP50  mAP50-95): 100%|██████████| 1/1 [00:00<00:00,  1.10it/s]"
          ]
        },
        {
          "output_type": "stream",
          "name": "stdout",
          "text": [
            "                   all         60        175      0.511      0.372      0.425      0.307\n"
          ]
        },
        {
          "output_type": "stream",
          "name": "stderr",
          "text": [
            "\n"
          ]
        },
        {
          "output_type": "stream",
          "name": "stdout",
          "text": [
            "\n",
            "      Epoch    GPU_mem   box_loss   cls_loss   dfl_loss  Instances       Size\n"
          ]
        },
        {
          "output_type": "stream",
          "name": "stderr",
          "text": [
            "     43/100      4.72G     0.8527      1.331       1.31        195        640: 100%|██████████| 3/3 [00:01<00:00,  2.55it/s]\n",
            "                 Class     Images  Instances      Box(P          R      mAP50  mAP50-95): 100%|██████████| 1/1 [00:01<00:00,  1.13s/it]"
          ]
        },
        {
          "output_type": "stream",
          "name": "stdout",
          "text": [
            "                   all         60        175      0.528      0.459      0.487      0.363\n"
          ]
        },
        {
          "output_type": "stream",
          "name": "stderr",
          "text": [
            "\n"
          ]
        },
        {
          "output_type": "stream",
          "name": "stdout",
          "text": [
            "\n",
            "      Epoch    GPU_mem   box_loss   cls_loss   dfl_loss  Instances       Size\n"
          ]
        },
        {
          "output_type": "stream",
          "name": "stderr",
          "text": [
            "     44/100      4.71G     0.8196      1.291      1.274        197        640: 100%|██████████| 3/3 [00:01<00:00,  2.19it/s]\n",
            "                 Class     Images  Instances      Box(P          R      mAP50  mAP50-95): 100%|██████████| 1/1 [00:00<00:00,  1.35it/s]"
          ]
        },
        {
          "output_type": "stream",
          "name": "stdout",
          "text": [
            "                   all         60        175      0.582      0.526      0.556      0.396\n"
          ]
        },
        {
          "output_type": "stream",
          "name": "stderr",
          "text": [
            "\n"
          ]
        },
        {
          "output_type": "stream",
          "name": "stdout",
          "text": [
            "\n",
            "      Epoch    GPU_mem   box_loss   cls_loss   dfl_loss  Instances       Size\n"
          ]
        },
        {
          "output_type": "stream",
          "name": "stderr",
          "text": [
            "     45/100      4.72G     0.8483      1.314      1.305        207        640: 100%|██████████| 3/3 [00:01<00:00,  2.76it/s]\n",
            "                 Class     Images  Instances      Box(P          R      mAP50  mAP50-95): 100%|██████████| 1/1 [00:00<00:00,  1.43it/s]"
          ]
        },
        {
          "output_type": "stream",
          "name": "stdout",
          "text": [
            "                   all         60        175      0.677      0.518      0.572      0.395\n"
          ]
        },
        {
          "output_type": "stream",
          "name": "stderr",
          "text": [
            "\n"
          ]
        },
        {
          "output_type": "stream",
          "name": "stdout",
          "text": [
            "\n",
            "      Epoch    GPU_mem   box_loss   cls_loss   dfl_loss  Instances       Size\n"
          ]
        },
        {
          "output_type": "stream",
          "name": "stderr",
          "text": [
            "     46/100      4.72G     0.8427      1.313      1.298        182        640: 100%|██████████| 3/3 [00:01<00:00,  2.72it/s]\n",
            "                 Class     Images  Instances      Box(P          R      mAP50  mAP50-95): 100%|██████████| 1/1 [00:00<00:00,  1.45it/s]"
          ]
        },
        {
          "output_type": "stream",
          "name": "stdout",
          "text": [
            "                   all         60        175      0.575      0.543      0.562      0.384\n"
          ]
        },
        {
          "output_type": "stream",
          "name": "stderr",
          "text": [
            "\n"
          ]
        },
        {
          "output_type": "stream",
          "name": "stdout",
          "text": [
            "\n",
            "      Epoch    GPU_mem   box_loss   cls_loss   dfl_loss  Instances       Size\n"
          ]
        },
        {
          "output_type": "stream",
          "name": "stderr",
          "text": [
            "     47/100      4.72G     0.7763      1.219      1.241        223        640: 100%|██████████| 3/3 [00:01<00:00,  2.77it/s]\n",
            "                 Class     Images  Instances      Box(P          R      mAP50  mAP50-95): 100%|██████████| 1/1 [00:00<00:00,  1.47it/s]"
          ]
        },
        {
          "output_type": "stream",
          "name": "stdout",
          "text": [
            "                   all         60        175      0.547       0.57      0.559      0.378\n"
          ]
        },
        {
          "output_type": "stream",
          "name": "stderr",
          "text": [
            "\n"
          ]
        },
        {
          "output_type": "stream",
          "name": "stdout",
          "text": [
            "\n",
            "      Epoch    GPU_mem   box_loss   cls_loss   dfl_loss  Instances       Size\n"
          ]
        },
        {
          "output_type": "stream",
          "name": "stderr",
          "text": [
            "     48/100      4.71G     0.8133      1.249      1.274        187        640: 100%|██████████| 3/3 [00:01<00:00,  2.47it/s]\n",
            "                 Class     Images  Instances      Box(P          R      mAP50  mAP50-95): 100%|██████████| 1/1 [00:01<00:00,  1.10s/it]"
          ]
        },
        {
          "output_type": "stream",
          "name": "stdout",
          "text": [
            "                   all         60        175      0.573      0.507      0.538      0.347\n"
          ]
        },
        {
          "output_type": "stream",
          "name": "stderr",
          "text": [
            "\n"
          ]
        },
        {
          "output_type": "stream",
          "name": "stdout",
          "text": [
            "\n",
            "      Epoch    GPU_mem   box_loss   cls_loss   dfl_loss  Instances       Size\n"
          ]
        },
        {
          "output_type": "stream",
          "name": "stderr",
          "text": [
            "     49/100      4.72G     0.7978      1.258      1.251        206        640: 100%|██████████| 3/3 [00:01<00:00,  2.19it/s]\n",
            "                 Class     Images  Instances      Box(P          R      mAP50  mAP50-95): 100%|██████████| 1/1 [00:01<00:00,  1.30s/it]"
          ]
        },
        {
          "output_type": "stream",
          "name": "stdout",
          "text": [
            "                   all         60        175       0.61       0.48      0.516      0.324\n"
          ]
        },
        {
          "output_type": "stream",
          "name": "stderr",
          "text": [
            "\n"
          ]
        },
        {
          "output_type": "stream",
          "name": "stdout",
          "text": [
            "\n",
            "      Epoch    GPU_mem   box_loss   cls_loss   dfl_loss  Instances       Size\n"
          ]
        },
        {
          "output_type": "stream",
          "name": "stderr",
          "text": [
            "     50/100      4.72G     0.7933      1.213      1.254        182        640: 100%|██████████| 3/3 [00:01<00:00,  2.49it/s]\n",
            "                 Class     Images  Instances      Box(P          R      mAP50  mAP50-95): 100%|██████████| 1/1 [00:00<00:00,  1.26it/s]"
          ]
        },
        {
          "output_type": "stream",
          "name": "stdout",
          "text": [
            "                   all         60        175      0.559      0.586      0.558      0.359\n"
          ]
        },
        {
          "output_type": "stream",
          "name": "stderr",
          "text": [
            "\n"
          ]
        },
        {
          "output_type": "stream",
          "name": "stdout",
          "text": [
            "\n",
            "      Epoch    GPU_mem   box_loss   cls_loss   dfl_loss  Instances       Size\n"
          ]
        },
        {
          "output_type": "stream",
          "name": "stderr",
          "text": [
            "     51/100      4.71G     0.7749      1.212      1.247        195        640: 100%|██████████| 3/3 [00:01<00:00,  2.86it/s]\n",
            "                 Class     Images  Instances      Box(P          R      mAP50  mAP50-95): 100%|██████████| 1/1 [00:00<00:00,  1.46it/s]"
          ]
        },
        {
          "output_type": "stream",
          "name": "stdout",
          "text": [
            "                   all         60        175      0.641      0.604       0.61      0.406\n"
          ]
        },
        {
          "output_type": "stream",
          "name": "stderr",
          "text": [
            "\n"
          ]
        },
        {
          "output_type": "stream",
          "name": "stdout",
          "text": [
            "\n",
            "      Epoch    GPU_mem   box_loss   cls_loss   dfl_loss  Instances       Size\n"
          ]
        },
        {
          "output_type": "stream",
          "name": "stderr",
          "text": [
            "     52/100      4.72G      0.753      1.165      1.198        201        640: 100%|██████████| 3/3 [00:01<00:00,  2.73it/s]\n",
            "                 Class     Images  Instances      Box(P          R      mAP50  mAP50-95): 100%|██████████| 1/1 [00:00<00:00,  1.34it/s]"
          ]
        },
        {
          "output_type": "stream",
          "name": "stdout",
          "text": [
            "                   all         60        175      0.647      0.638      0.664      0.475\n"
          ]
        },
        {
          "output_type": "stream",
          "name": "stderr",
          "text": [
            "\n"
          ]
        },
        {
          "output_type": "stream",
          "name": "stdout",
          "text": [
            "\n",
            "      Epoch    GPU_mem   box_loss   cls_loss   dfl_loss  Instances       Size\n"
          ]
        },
        {
          "output_type": "stream",
          "name": "stderr",
          "text": [
            "     53/100      4.71G     0.7556      1.131      1.211        179        640: 100%|██████████| 3/3 [00:01<00:00,  2.86it/s]\n",
            "                 Class     Images  Instances      Box(P          R      mAP50  mAP50-95): 100%|██████████| 1/1 [00:00<00:00,  1.48it/s]"
          ]
        },
        {
          "output_type": "stream",
          "name": "stdout",
          "text": [
            "                   all         60        175       0.67      0.597      0.655      0.484\n"
          ]
        },
        {
          "output_type": "stream",
          "name": "stderr",
          "text": [
            "\n"
          ]
        },
        {
          "output_type": "stream",
          "name": "stdout",
          "text": [
            "\n",
            "      Epoch    GPU_mem   box_loss   cls_loss   dfl_loss  Instances       Size\n"
          ]
        },
        {
          "output_type": "stream",
          "name": "stderr",
          "text": [
            "     54/100      4.72G     0.7938       1.17      1.269        208        640: 100%|██████████| 3/3 [00:01<00:00,  2.23it/s]\n",
            "                 Class     Images  Instances      Box(P          R      mAP50  mAP50-95): 100%|██████████| 1/1 [00:01<00:00,  1.25s/it]"
          ]
        },
        {
          "output_type": "stream",
          "name": "stdout",
          "text": [
            "                   all         60        175        0.6      0.654      0.658      0.495\n"
          ]
        },
        {
          "output_type": "stream",
          "name": "stderr",
          "text": [
            "\n"
          ]
        },
        {
          "output_type": "stream",
          "name": "stdout",
          "text": [
            "\n",
            "      Epoch    GPU_mem   box_loss   cls_loss   dfl_loss  Instances       Size\n"
          ]
        },
        {
          "output_type": "stream",
          "name": "stderr",
          "text": [
            "     55/100      4.72G      0.813      1.191      1.256        174        640: 100%|██████████| 3/3 [00:01<00:00,  2.12it/s]\n",
            "                 Class     Images  Instances      Box(P          R      mAP50  mAP50-95): 100%|██████████| 1/1 [00:01<00:00,  1.26s/it]"
          ]
        },
        {
          "output_type": "stream",
          "name": "stdout",
          "text": [
            "                   all         60        175      0.597      0.649      0.653      0.496\n"
          ]
        },
        {
          "output_type": "stream",
          "name": "stderr",
          "text": [
            "\n"
          ]
        },
        {
          "output_type": "stream",
          "name": "stdout",
          "text": [
            "\n",
            "      Epoch    GPU_mem   box_loss   cls_loss   dfl_loss  Instances       Size\n"
          ]
        },
        {
          "output_type": "stream",
          "name": "stderr",
          "text": [
            "     56/100      4.72G     0.7439      1.136      1.234        188        640: 100%|██████████| 3/3 [00:01<00:00,  2.62it/s]\n",
            "                 Class     Images  Instances      Box(P          R      mAP50  mAP50-95): 100%|██████████| 1/1 [00:00<00:00,  1.50it/s]"
          ]
        },
        {
          "output_type": "stream",
          "name": "stdout",
          "text": [
            "                   all         60        175      0.584      0.612       0.64      0.491\n"
          ]
        },
        {
          "output_type": "stream",
          "name": "stderr",
          "text": [
            "\n"
          ]
        },
        {
          "output_type": "stream",
          "name": "stdout",
          "text": [
            "\n",
            "      Epoch    GPU_mem   box_loss   cls_loss   dfl_loss  Instances       Size\n"
          ]
        },
        {
          "output_type": "stream",
          "name": "stderr",
          "text": [
            "     57/100      4.72G     0.7706      1.125      1.235        196        640: 100%|██████████| 3/3 [00:01<00:00,  2.73it/s]\n",
            "                 Class     Images  Instances      Box(P          R      mAP50  mAP50-95): 100%|██████████| 1/1 [00:00<00:00,  1.31it/s]"
          ]
        },
        {
          "output_type": "stream",
          "name": "stdout",
          "text": [
            "                   all         60        175      0.563      0.636      0.647      0.498\n"
          ]
        },
        {
          "output_type": "stream",
          "name": "stderr",
          "text": [
            "\n"
          ]
        },
        {
          "output_type": "stream",
          "name": "stdout",
          "text": [
            "\n",
            "      Epoch    GPU_mem   box_loss   cls_loss   dfl_loss  Instances       Size\n"
          ]
        },
        {
          "output_type": "stream",
          "name": "stderr",
          "text": [
            "     58/100      4.72G      0.723      1.081      1.217        169        640: 100%|██████████| 3/3 [00:01<00:00,  2.78it/s]\n",
            "                 Class     Images  Instances      Box(P          R      mAP50  mAP50-95): 100%|██████████| 1/1 [00:00<00:00,  1.42it/s]"
          ]
        },
        {
          "output_type": "stream",
          "name": "stdout",
          "text": [
            "                   all         60        175      0.639       0.66      0.687       0.53\n"
          ]
        },
        {
          "output_type": "stream",
          "name": "stderr",
          "text": [
            "\n"
          ]
        },
        {
          "output_type": "stream",
          "name": "stdout",
          "text": [
            "\n",
            "      Epoch    GPU_mem   box_loss   cls_loss   dfl_loss  Instances       Size\n"
          ]
        },
        {
          "output_type": "stream",
          "name": "stderr",
          "text": [
            "     59/100      4.71G     0.7571      1.092      1.243        196        640: 100%|██████████| 3/3 [00:01<00:00,  2.74it/s]\n",
            "                 Class     Images  Instances      Box(P          R      mAP50  mAP50-95): 100%|██████████| 1/1 [00:00<00:00,  1.04it/s]"
          ]
        },
        {
          "output_type": "stream",
          "name": "stdout",
          "text": [
            "                   all         60        175      0.656      0.661      0.695      0.536\n"
          ]
        },
        {
          "output_type": "stream",
          "name": "stderr",
          "text": [
            "\n"
          ]
        },
        {
          "output_type": "stream",
          "name": "stdout",
          "text": [
            "\n",
            "      Epoch    GPU_mem   box_loss   cls_loss   dfl_loss  Instances       Size\n"
          ]
        },
        {
          "output_type": "stream",
          "name": "stderr",
          "text": [
            "     60/100      4.72G     0.7237      1.054      1.211        189        640: 100%|██████████| 3/3 [00:01<00:00,  2.35it/s]\n",
            "                 Class     Images  Instances      Box(P          R      mAP50  mAP50-95): 100%|██████████| 1/1 [00:01<00:00,  1.36s/it]"
          ]
        },
        {
          "output_type": "stream",
          "name": "stdout",
          "text": [
            "                   all         60        175      0.656      0.674      0.692      0.541\n"
          ]
        },
        {
          "output_type": "stream",
          "name": "stderr",
          "text": [
            "\n"
          ]
        },
        {
          "output_type": "stream",
          "name": "stdout",
          "text": [
            "\n",
            "      Epoch    GPU_mem   box_loss   cls_loss   dfl_loss  Instances       Size\n"
          ]
        },
        {
          "output_type": "stream",
          "name": "stderr",
          "text": [
            "     61/100      4.72G     0.7002      1.029      1.205        187        640: 100%|██████████| 3/3 [00:01<00:00,  2.19it/s]\n",
            "                 Class     Images  Instances      Box(P          R      mAP50  mAP50-95): 100%|██████████| 1/1 [00:00<00:00,  1.41it/s]"
          ]
        },
        {
          "output_type": "stream",
          "name": "stdout",
          "text": [
            "                   all         60        175      0.629      0.659      0.676      0.527\n"
          ]
        },
        {
          "output_type": "stream",
          "name": "stderr",
          "text": [
            "\n"
          ]
        },
        {
          "output_type": "stream",
          "name": "stdout",
          "text": [
            "\n",
            "      Epoch    GPU_mem   box_loss   cls_loss   dfl_loss  Instances       Size\n"
          ]
        },
        {
          "output_type": "stream",
          "name": "stderr",
          "text": [
            "     62/100      4.72G     0.7439      1.068      1.214        208        640: 100%|██████████| 3/3 [00:01<00:00,  2.71it/s]\n",
            "                 Class     Images  Instances      Box(P          R      mAP50  mAP50-95): 100%|██████████| 1/1 [00:00<00:00,  1.59it/s]"
          ]
        },
        {
          "output_type": "stream",
          "name": "stdout",
          "text": [
            "                   all         60        175      0.644      0.593      0.655      0.502\n"
          ]
        },
        {
          "output_type": "stream",
          "name": "stderr",
          "text": [
            "\n"
          ]
        },
        {
          "output_type": "stream",
          "name": "stdout",
          "text": [
            "\n",
            "      Epoch    GPU_mem   box_loss   cls_loss   dfl_loss  Instances       Size\n"
          ]
        },
        {
          "output_type": "stream",
          "name": "stderr",
          "text": [
            "     63/100      4.72G     0.7144       1.04      1.172        215        640: 100%|██████████| 3/3 [00:01<00:00,  2.67it/s]\n",
            "                 Class     Images  Instances      Box(P          R      mAP50  mAP50-95): 100%|██████████| 1/1 [00:00<00:00,  1.54it/s]"
          ]
        },
        {
          "output_type": "stream",
          "name": "stdout",
          "text": [
            "                   all         60        175      0.581      0.655      0.648      0.495\n"
          ]
        },
        {
          "output_type": "stream",
          "name": "stderr",
          "text": [
            "\n"
          ]
        },
        {
          "output_type": "stream",
          "name": "stdout",
          "text": [
            "\n",
            "      Epoch    GPU_mem   box_loss   cls_loss   dfl_loss  Instances       Size\n"
          ]
        },
        {
          "output_type": "stream",
          "name": "stderr",
          "text": [
            "     64/100      4.72G     0.7406      1.037        1.2        178        640: 100%|██████████| 3/3 [00:01<00:00,  2.70it/s]\n",
            "                 Class     Images  Instances      Box(P          R      mAP50  mAP50-95): 100%|██████████| 1/1 [00:00<00:00,  1.65it/s]"
          ]
        },
        {
          "output_type": "stream",
          "name": "stdout",
          "text": [
            "                   all         60        175      0.726      0.574      0.674      0.528\n"
          ]
        },
        {
          "output_type": "stream",
          "name": "stderr",
          "text": [
            "\n"
          ]
        },
        {
          "output_type": "stream",
          "name": "stdout",
          "text": [
            "\n",
            "      Epoch    GPU_mem   box_loss   cls_loss   dfl_loss  Instances       Size\n"
          ]
        },
        {
          "output_type": "stream",
          "name": "stderr",
          "text": [
            "     65/100      4.72G     0.7351      1.058      1.211        175        640: 100%|██████████| 3/3 [00:01<00:00,  2.50it/s]\n",
            "                 Class     Images  Instances      Box(P          R      mAP50  mAP50-95): 100%|██████████| 1/1 [00:01<00:00,  1.08s/it]"
          ]
        },
        {
          "output_type": "stream",
          "name": "stdout",
          "text": [
            "                   all         60        175      0.694      0.637      0.684      0.535\n"
          ]
        },
        {
          "output_type": "stream",
          "name": "stderr",
          "text": [
            "\n"
          ]
        },
        {
          "output_type": "stream",
          "name": "stdout",
          "text": [
            "\n",
            "      Epoch    GPU_mem   box_loss   cls_loss   dfl_loss  Instances       Size\n"
          ]
        },
        {
          "output_type": "stream",
          "name": "stderr",
          "text": [
            "     66/100      4.71G     0.6979     0.9839      1.209        209        640: 100%|██████████| 3/3 [00:01<00:00,  2.18it/s]\n",
            "                 Class     Images  Instances      Box(P          R      mAP50  mAP50-95): 100%|██████████| 1/1 [00:01<00:00,  1.36s/it]"
          ]
        },
        {
          "output_type": "stream",
          "name": "stdout",
          "text": [
            "                   all         60        175      0.732      0.644      0.742      0.586\n"
          ]
        },
        {
          "output_type": "stream",
          "name": "stderr",
          "text": [
            "\n"
          ]
        },
        {
          "output_type": "stream",
          "name": "stdout",
          "text": [
            "\n",
            "      Epoch    GPU_mem   box_loss   cls_loss   dfl_loss  Instances       Size\n"
          ]
        },
        {
          "output_type": "stream",
          "name": "stderr",
          "text": [
            "     67/100      4.72G     0.6991      1.034      1.206        157        640: 100%|██████████| 3/3 [00:01<00:00,  2.70it/s]\n",
            "                 Class     Images  Instances      Box(P          R      mAP50  mAP50-95): 100%|██████████| 1/1 [00:00<00:00,  1.31it/s]"
          ]
        },
        {
          "output_type": "stream",
          "name": "stdout",
          "text": [
            "                   all         60        175      0.758      0.671       0.76      0.591\n"
          ]
        },
        {
          "output_type": "stream",
          "name": "stderr",
          "text": [
            "\n"
          ]
        },
        {
          "output_type": "stream",
          "name": "stdout",
          "text": [
            "\n",
            "      Epoch    GPU_mem   box_loss   cls_loss   dfl_loss  Instances       Size\n"
          ]
        },
        {
          "output_type": "stream",
          "name": "stderr",
          "text": [
            "     68/100      4.72G      0.698       1.02      1.194        200        640: 100%|██████████| 3/3 [00:01<00:00,  2.88it/s]\n",
            "                 Class     Images  Instances      Box(P          R      mAP50  mAP50-95): 100%|██████████| 1/1 [00:00<00:00,  1.24it/s]"
          ]
        },
        {
          "output_type": "stream",
          "name": "stdout",
          "text": [
            "                   all         60        175      0.776      0.671      0.764      0.596\n"
          ]
        },
        {
          "output_type": "stream",
          "name": "stderr",
          "text": [
            "\n"
          ]
        },
        {
          "output_type": "stream",
          "name": "stdout",
          "text": [
            "\n",
            "      Epoch    GPU_mem   box_loss   cls_loss   dfl_loss  Instances       Size\n"
          ]
        },
        {
          "output_type": "stream",
          "name": "stderr",
          "text": [
            "     69/100      4.71G     0.6858      1.008      1.195        189        640: 100%|██████████| 3/3 [00:01<00:00,  2.68it/s]\n",
            "                 Class     Images  Instances      Box(P          R      mAP50  mAP50-95): 100%|██████████| 1/1 [00:00<00:00,  1.45it/s]"
          ]
        },
        {
          "output_type": "stream",
          "name": "stdout",
          "text": [
            "                   all         60        175      0.764      0.707      0.764      0.594\n"
          ]
        },
        {
          "output_type": "stream",
          "name": "stderr",
          "text": [
            "\n"
          ]
        },
        {
          "output_type": "stream",
          "name": "stdout",
          "text": [
            "\n",
            "      Epoch    GPU_mem   box_loss   cls_loss   dfl_loss  Instances       Size\n"
          ]
        },
        {
          "output_type": "stream",
          "name": "stderr",
          "text": [
            "     70/100      4.72G     0.6813     0.9878      1.182        215        640: 100%|██████████| 3/3 [00:01<00:00,  2.71it/s]\n",
            "                 Class     Images  Instances      Box(P          R      mAP50  mAP50-95): 100%|██████████| 1/1 [00:00<00:00,  1.39it/s]"
          ]
        },
        {
          "output_type": "stream",
          "name": "stdout",
          "text": [
            "                   all         60        175      0.764       0.72      0.775       0.62\n"
          ]
        },
        {
          "output_type": "stream",
          "name": "stderr",
          "text": [
            "\n"
          ]
        },
        {
          "output_type": "stream",
          "name": "stdout",
          "text": [
            "\n",
            "      Epoch    GPU_mem   box_loss   cls_loss   dfl_loss  Instances       Size\n"
          ]
        },
        {
          "output_type": "stream",
          "name": "stderr",
          "text": [
            "     71/100      4.72G     0.6525     0.9115      1.153        192        640: 100%|██████████| 3/3 [00:01<00:00,  2.50it/s]\n",
            "                 Class     Images  Instances      Box(P          R      mAP50  mAP50-95): 100%|██████████| 1/1 [00:01<00:00,  1.24s/it]"
          ]
        },
        {
          "output_type": "stream",
          "name": "stdout",
          "text": [
            "                   all         60        175      0.786      0.738      0.783      0.626\n"
          ]
        },
        {
          "output_type": "stream",
          "name": "stderr",
          "text": [
            "\n"
          ]
        },
        {
          "output_type": "stream",
          "name": "stdout",
          "text": [
            "\n",
            "      Epoch    GPU_mem   box_loss   cls_loss   dfl_loss  Instances       Size\n"
          ]
        },
        {
          "output_type": "stream",
          "name": "stderr",
          "text": [
            "     72/100      4.72G     0.6654     0.9088      1.186        189        640: 100%|██████████| 3/3 [00:01<00:00,  2.13it/s]\n",
            "                 Class     Images  Instances      Box(P          R      mAP50  mAP50-95): 100%|██████████| 1/1 [00:01<00:00,  1.38s/it]"
          ]
        },
        {
          "output_type": "stream",
          "name": "stdout",
          "text": [
            "                   all         60        175      0.863      0.691        0.8      0.655\n"
          ]
        },
        {
          "output_type": "stream",
          "name": "stderr",
          "text": [
            "\n"
          ]
        },
        {
          "output_type": "stream",
          "name": "stdout",
          "text": [
            "\n",
            "      Epoch    GPU_mem   box_loss   cls_loss   dfl_loss  Instances       Size\n"
          ]
        },
        {
          "output_type": "stream",
          "name": "stderr",
          "text": [
            "     73/100      4.72G     0.6859     0.9469      1.188        212        640: 100%|██████████| 3/3 [00:01<00:00,  2.90it/s]\n",
            "                 Class     Images  Instances      Box(P          R      mAP50  mAP50-95): 100%|██████████| 1/1 [00:00<00:00,  1.35it/s]"
          ]
        },
        {
          "output_type": "stream",
          "name": "stdout",
          "text": [
            "                   all         60        175      0.808      0.751      0.799      0.653\n"
          ]
        },
        {
          "output_type": "stream",
          "name": "stderr",
          "text": [
            "\n"
          ]
        },
        {
          "output_type": "stream",
          "name": "stdout",
          "text": [
            "\n",
            "      Epoch    GPU_mem   box_loss   cls_loss   dfl_loss  Instances       Size\n"
          ]
        },
        {
          "output_type": "stream",
          "name": "stderr",
          "text": [
            "     74/100      4.72G     0.6403     0.8737      1.144        224        640: 100%|██████████| 3/3 [00:01<00:00,  2.77it/s]\n",
            "                 Class     Images  Instances      Box(P          R      mAP50  mAP50-95): 100%|██████████| 1/1 [00:00<00:00,  1.43it/s]"
          ]
        },
        {
          "output_type": "stream",
          "name": "stdout",
          "text": [
            "                   all         60        175      0.812      0.736      0.786      0.639\n"
          ]
        },
        {
          "output_type": "stream",
          "name": "stderr",
          "text": [
            "\n"
          ]
        },
        {
          "output_type": "stream",
          "name": "stdout",
          "text": [
            "\n",
            "      Epoch    GPU_mem   box_loss   cls_loss   dfl_loss  Instances       Size\n"
          ]
        },
        {
          "output_type": "stream",
          "name": "stderr",
          "text": [
            "     75/100      4.72G     0.6561     0.9616      1.151        194        640: 100%|██████████| 3/3 [00:01<00:00,  2.86it/s]\n",
            "                 Class     Images  Instances      Box(P          R      mAP50  mAP50-95): 100%|██████████| 1/1 [00:00<00:00,  1.34it/s]"
          ]
        },
        {
          "output_type": "stream",
          "name": "stdout",
          "text": [
            "                   all         60        175      0.793      0.724       0.78      0.637\n"
          ]
        },
        {
          "output_type": "stream",
          "name": "stderr",
          "text": [
            "\n"
          ]
        },
        {
          "output_type": "stream",
          "name": "stdout",
          "text": [
            "\n",
            "      Epoch    GPU_mem   box_loss   cls_loss   dfl_loss  Instances       Size\n"
          ]
        },
        {
          "output_type": "stream",
          "name": "stderr",
          "text": [
            "     76/100      4.71G     0.6682     0.9591      1.178        176        640: 100%|██████████| 3/3 [00:01<00:00,  2.85it/s]\n",
            "                 Class     Images  Instances      Box(P          R      mAP50  mAP50-95): 100%|██████████| 1/1 [00:00<00:00,  1.21it/s]"
          ]
        },
        {
          "output_type": "stream",
          "name": "stdout",
          "text": [
            "                   all         60        175      0.788      0.698      0.768      0.631\n"
          ]
        },
        {
          "output_type": "stream",
          "name": "stderr",
          "text": [
            "\n"
          ]
        },
        {
          "output_type": "stream",
          "name": "stdout",
          "text": [
            "\n",
            "      Epoch    GPU_mem   box_loss   cls_loss   dfl_loss  Instances       Size\n"
          ]
        },
        {
          "output_type": "stream",
          "name": "stderr",
          "text": [
            "     77/100      4.72G     0.6545     0.9533      1.158        181        640: 100%|██████████| 3/3 [00:01<00:00,  2.39it/s]\n",
            "                 Class     Images  Instances      Box(P          R      mAP50  mAP50-95): 100%|██████████| 1/1 [00:01<00:00,  1.27s/it]"
          ]
        },
        {
          "output_type": "stream",
          "name": "stdout",
          "text": [
            "                   all         60        175      0.785      0.714      0.763      0.632\n"
          ]
        },
        {
          "output_type": "stream",
          "name": "stderr",
          "text": [
            "\n"
          ]
        },
        {
          "output_type": "stream",
          "name": "stdout",
          "text": [
            "\n",
            "      Epoch    GPU_mem   box_loss   cls_loss   dfl_loss  Instances       Size\n"
          ]
        },
        {
          "output_type": "stream",
          "name": "stderr",
          "text": [
            "     78/100      4.72G     0.6758      0.907      1.173        168        640: 100%|██████████| 3/3 [00:01<00:00,  2.17it/s]\n",
            "                 Class     Images  Instances      Box(P          R      mAP50  mAP50-95): 100%|██████████| 1/1 [00:01<00:00,  1.06s/it]"
          ]
        },
        {
          "output_type": "stream",
          "name": "stdout",
          "text": [
            "                   all         60        175      0.734       0.74      0.776      0.636\n"
          ]
        },
        {
          "output_type": "stream",
          "name": "stderr",
          "text": [
            "\n"
          ]
        },
        {
          "output_type": "stream",
          "name": "stdout",
          "text": [
            "\n",
            "      Epoch    GPU_mem   box_loss   cls_loss   dfl_loss  Instances       Size\n"
          ]
        },
        {
          "output_type": "stream",
          "name": "stderr",
          "text": [
            "     79/100      4.72G     0.6466     0.8803      1.146        194        640: 100%|██████████| 3/3 [00:01<00:00,  3.00it/s]\n",
            "                 Class     Images  Instances      Box(P          R      mAP50  mAP50-95): 100%|██████████| 1/1 [00:00<00:00,  1.38it/s]"
          ]
        },
        {
          "output_type": "stream",
          "name": "stdout",
          "text": [
            "                   all         60        175      0.837      0.646      0.778      0.642\n"
          ]
        },
        {
          "output_type": "stream",
          "name": "stderr",
          "text": [
            "\n"
          ]
        },
        {
          "output_type": "stream",
          "name": "stdout",
          "text": [
            "\n",
            "      Epoch    GPU_mem   box_loss   cls_loss   dfl_loss  Instances       Size\n"
          ]
        },
        {
          "output_type": "stream",
          "name": "stderr",
          "text": [
            "     80/100      4.72G     0.6568     0.9106      1.169        173        640: 100%|██████████| 3/3 [00:01<00:00,  2.75it/s]\n",
            "                 Class     Images  Instances      Box(P          R      mAP50  mAP50-95): 100%|██████████| 1/1 [00:00<00:00,  1.54it/s]"
          ]
        },
        {
          "output_type": "stream",
          "name": "stdout",
          "text": [
            "                   all         60        175      0.762      0.737       0.79      0.655\n"
          ]
        },
        {
          "output_type": "stream",
          "name": "stderr",
          "text": [
            "\n"
          ]
        },
        {
          "output_type": "stream",
          "name": "stdout",
          "text": [
            "\n",
            "      Epoch    GPU_mem   box_loss   cls_loss   dfl_loss  Instances       Size\n"
          ]
        },
        {
          "output_type": "stream",
          "name": "stderr",
          "text": [
            "     81/100      4.72G     0.6089     0.8597      1.093        253        640: 100%|██████████| 3/3 [00:01<00:00,  2.85it/s]\n",
            "                 Class     Images  Instances      Box(P          R      mAP50  mAP50-95): 100%|██████████| 1/1 [00:00<00:00,  1.28it/s]"
          ]
        },
        {
          "output_type": "stream",
          "name": "stdout",
          "text": [
            "                   all         60        175      0.773      0.742      0.798      0.664\n"
          ]
        },
        {
          "output_type": "stream",
          "name": "stderr",
          "text": [
            "\n"
          ]
        },
        {
          "output_type": "stream",
          "name": "stdout",
          "text": [
            "\n",
            "      Epoch    GPU_mem   box_loss   cls_loss   dfl_loss  Instances       Size\n"
          ]
        },
        {
          "output_type": "stream",
          "name": "stderr",
          "text": [
            "     82/100      4.72G      0.637      0.854      1.128        205        640: 100%|██████████| 3/3 [00:01<00:00,  2.59it/s]\n",
            "                 Class     Images  Instances      Box(P          R      mAP50  mAP50-95): 100%|██████████| 1/1 [00:01<00:00,  1.08s/it]"
          ]
        },
        {
          "output_type": "stream",
          "name": "stdout",
          "text": [
            "                   all         60        175      0.825      0.748      0.818      0.682\n"
          ]
        },
        {
          "output_type": "stream",
          "name": "stderr",
          "text": [
            "\n"
          ]
        },
        {
          "output_type": "stream",
          "name": "stdout",
          "text": [
            "\n",
            "      Epoch    GPU_mem   box_loss   cls_loss   dfl_loss  Instances       Size\n"
          ]
        },
        {
          "output_type": "stream",
          "name": "stderr",
          "text": [
            "     83/100      4.72G     0.6109     0.8767      1.117        199        640: 100%|██████████| 3/3 [00:01<00:00,  2.21it/s]\n",
            "                 Class     Images  Instances      Box(P          R      mAP50  mAP50-95): 100%|██████████| 1/1 [00:01<00:00,  1.28s/it]"
          ]
        },
        {
          "output_type": "stream",
          "name": "stdout",
          "text": [
            "                   all         60        175      0.842      0.758      0.823      0.683\n"
          ]
        },
        {
          "output_type": "stream",
          "name": "stderr",
          "text": [
            "\n"
          ]
        },
        {
          "output_type": "stream",
          "name": "stdout",
          "text": [
            "\n",
            "      Epoch    GPU_mem   box_loss   cls_loss   dfl_loss  Instances       Size\n"
          ]
        },
        {
          "output_type": "stream",
          "name": "stderr",
          "text": [
            "     84/100      4.72G     0.6075     0.8739       1.13        205        640: 100%|██████████| 3/3 [00:01<00:00,  2.41it/s]\n",
            "                 Class     Images  Instances      Box(P          R      mAP50  mAP50-95): 100%|██████████| 1/1 [00:00<00:00,  1.32it/s]"
          ]
        },
        {
          "output_type": "stream",
          "name": "stdout",
          "text": [
            "                   all         60        175      0.835      0.777      0.822      0.684\n"
          ]
        },
        {
          "output_type": "stream",
          "name": "stderr",
          "text": [
            "\n"
          ]
        },
        {
          "output_type": "stream",
          "name": "stdout",
          "text": [
            "\n",
            "      Epoch    GPU_mem   box_loss   cls_loss   dfl_loss  Instances       Size\n"
          ]
        },
        {
          "output_type": "stream",
          "name": "stderr",
          "text": [
            "     85/100      4.72G     0.6393     0.9151      1.175        198        640: 100%|██████████| 3/3 [00:00<00:00,  3.09it/s]\n",
            "                 Class     Images  Instances      Box(P          R      mAP50  mAP50-95): 100%|██████████| 1/1 [00:00<00:00,  1.33it/s]"
          ]
        },
        {
          "output_type": "stream",
          "name": "stdout",
          "text": [
            "                   all         60        175      0.842      0.781      0.824      0.682\n"
          ]
        },
        {
          "output_type": "stream",
          "name": "stderr",
          "text": [
            "\n"
          ]
        },
        {
          "output_type": "stream",
          "name": "stdout",
          "text": [
            "\n",
            "      Epoch    GPU_mem   box_loss   cls_loss   dfl_loss  Instances       Size\n"
          ]
        },
        {
          "output_type": "stream",
          "name": "stderr",
          "text": [
            "     86/100      4.72G     0.6143     0.8587      1.135        171        640: 100%|██████████| 3/3 [00:01<00:00,  2.68it/s]\n",
            "                 Class     Images  Instances      Box(P          R      mAP50  mAP50-95): 100%|██████████| 1/1 [00:00<00:00,  1.46it/s]"
          ]
        },
        {
          "output_type": "stream",
          "name": "stdout",
          "text": [
            "                   all         60        175      0.855      0.783      0.824      0.683\n"
          ]
        },
        {
          "output_type": "stream",
          "name": "stderr",
          "text": [
            "\n"
          ]
        },
        {
          "output_type": "stream",
          "name": "stdout",
          "text": [
            "\n",
            "      Epoch    GPU_mem   box_loss   cls_loss   dfl_loss  Instances       Size\n"
          ]
        },
        {
          "output_type": "stream",
          "name": "stderr",
          "text": [
            "     87/100      4.72G     0.5949     0.8343      1.155        173        640: 100%|██████████| 3/3 [00:01<00:00,  2.72it/s]\n",
            "                 Class     Images  Instances      Box(P          R      mAP50  mAP50-95): 100%|██████████| 1/1 [00:00<00:00,  1.52it/s]"
          ]
        },
        {
          "output_type": "stream",
          "name": "stdout",
          "text": [
            "                   all         60        175      0.867      0.772      0.824       0.69\n"
          ]
        },
        {
          "output_type": "stream",
          "name": "stderr",
          "text": [
            "\n"
          ]
        },
        {
          "output_type": "stream",
          "name": "stdout",
          "text": [
            "\n",
            "      Epoch    GPU_mem   box_loss   cls_loss   dfl_loss  Instances       Size\n"
          ]
        },
        {
          "output_type": "stream",
          "name": "stderr",
          "text": [
            "     88/100      4.72G     0.5777     0.8293      1.123        198        640: 100%|██████████| 3/3 [00:01<00:00,  2.31it/s]\n",
            "                 Class     Images  Instances      Box(P          R      mAP50  mAP50-95): 100%|██████████| 1/1 [00:01<00:00,  1.25s/it]"
          ]
        },
        {
          "output_type": "stream",
          "name": "stdout",
          "text": [
            "                   all         60        175      0.856      0.775      0.825      0.681\n"
          ]
        },
        {
          "output_type": "stream",
          "name": "stderr",
          "text": [
            "\n"
          ]
        },
        {
          "output_type": "stream",
          "name": "stdout",
          "text": [
            "\n",
            "      Epoch    GPU_mem   box_loss   cls_loss   dfl_loss  Instances       Size\n"
          ]
        },
        {
          "output_type": "stream",
          "name": "stderr",
          "text": [
            "     89/100      4.71G     0.5667     0.8283      1.093        193        640: 100%|██████████| 3/3 [00:01<00:00,  2.27it/s]\n",
            "                 Class     Images  Instances      Box(P          R      mAP50  mAP50-95): 100%|██████████| 1/1 [00:01<00:00,  1.32s/it]"
          ]
        },
        {
          "output_type": "stream",
          "name": "stdout",
          "text": [
            "                   all         60        175      0.829      0.792      0.823      0.682\n"
          ]
        },
        {
          "output_type": "stream",
          "name": "stderr",
          "text": [
            "\n"
          ]
        },
        {
          "output_type": "stream",
          "name": "stdout",
          "text": [
            "\n",
            "      Epoch    GPU_mem   box_loss   cls_loss   dfl_loss  Instances       Size\n"
          ]
        },
        {
          "output_type": "stream",
          "name": "stderr",
          "text": [
            "     90/100      4.71G     0.6376     0.8356      1.146        202        640: 100%|██████████| 3/3 [00:01<00:00,  2.71it/s]\n",
            "                 Class     Images  Instances      Box(P          R      mAP50  mAP50-95): 100%|██████████| 1/1 [00:00<00:00,  1.37it/s]"
          ]
        },
        {
          "output_type": "stream",
          "name": "stdout",
          "text": [
            "                   all         60        175      0.833      0.781      0.825      0.685\n"
          ]
        },
        {
          "output_type": "stream",
          "name": "stderr",
          "text": [
            "\n"
          ]
        },
        {
          "output_type": "stream",
          "name": "stdout",
          "text": [
            "Closing dataloader mosaic\n",
            "\u001b[34m\u001b[1malbumentations: \u001b[0mBlur(p=0.01, blur_limit=(3, 7)), MedianBlur(p=0.01, blur_limit=(3, 7)), ToGray(p=0.01, num_output_channels=3, method='weighted_average'), CLAHE(p=0.01, clip_limit=(1, 4.0), tile_grid_size=(8, 8))\n",
            "\n",
            "      Epoch    GPU_mem   box_loss   cls_loss   dfl_loss  Instances       Size\n"
          ]
        },
        {
          "output_type": "stream",
          "name": "stderr",
          "text": [
            "     91/100      4.64G     0.5185     0.9622      1.111         90        640: 100%|██████████| 3/3 [00:02<00:00,  1.18it/s]\n",
            "                 Class     Images  Instances      Box(P          R      mAP50  mAP50-95): 100%|██████████| 1/1 [00:01<00:00,  1.34s/it]"
          ]
        },
        {
          "output_type": "stream",
          "name": "stdout",
          "text": [
            "                   all         60        175      0.845      0.775      0.826      0.683\n"
          ]
        },
        {
          "output_type": "stream",
          "name": "stderr",
          "text": [
            "\n"
          ]
        },
        {
          "output_type": "stream",
          "name": "stdout",
          "text": [
            "\n",
            "      Epoch    GPU_mem   box_loss   cls_loss   dfl_loss  Instances       Size\n"
          ]
        },
        {
          "output_type": "stream",
          "name": "stderr",
          "text": [
            "     92/100      4.66G     0.5418     0.9389      1.139         93        640: 100%|██████████| 3/3 [00:01<00:00,  2.70it/s]\n",
            "                 Class     Images  Instances      Box(P          R      mAP50  mAP50-95): 100%|██████████| 1/1 [00:00<00:00,  1.36it/s]"
          ]
        },
        {
          "output_type": "stream",
          "name": "stdout",
          "text": [
            "                   all         60        175      0.826      0.787      0.833      0.676\n"
          ]
        },
        {
          "output_type": "stream",
          "name": "stderr",
          "text": [
            "\n"
          ]
        },
        {
          "output_type": "stream",
          "name": "stdout",
          "text": [
            "\n",
            "      Epoch    GPU_mem   box_loss   cls_loss   dfl_loss  Instances       Size\n"
          ]
        },
        {
          "output_type": "stream",
          "name": "stderr",
          "text": [
            "     93/100      4.64G     0.5144     0.8818      1.111         90        640: 100%|██████████| 3/3 [00:01<00:00,  2.53it/s]\n",
            "                 Class     Images  Instances      Box(P          R      mAP50  mAP50-95): 100%|██████████| 1/1 [00:01<00:00,  1.08s/it]"
          ]
        },
        {
          "output_type": "stream",
          "name": "stdout",
          "text": [
            "                   all         60        175      0.844      0.768      0.828      0.669\n"
          ]
        },
        {
          "output_type": "stream",
          "name": "stderr",
          "text": [
            "\n"
          ]
        },
        {
          "output_type": "stream",
          "name": "stdout",
          "text": [
            "\n",
            "      Epoch    GPU_mem   box_loss   cls_loss   dfl_loss  Instances       Size\n"
          ]
        },
        {
          "output_type": "stream",
          "name": "stderr",
          "text": [
            "     94/100      4.64G     0.4989     0.8651      1.095         94        640: 100%|██████████| 3/3 [00:01<00:00,  2.30it/s]\n",
            "                 Class     Images  Instances      Box(P          R      mAP50  mAP50-95): 100%|██████████| 1/1 [00:01<00:00,  1.03s/it]"
          ]
        },
        {
          "output_type": "stream",
          "name": "stdout",
          "text": [
            "                   all         60        175      0.819      0.774      0.822      0.653\n"
          ]
        },
        {
          "output_type": "stream",
          "name": "stderr",
          "text": [
            "\n"
          ]
        },
        {
          "output_type": "stream",
          "name": "stdout",
          "text": [
            "\n",
            "      Epoch    GPU_mem   box_loss   cls_loss   dfl_loss  Instances       Size\n"
          ]
        },
        {
          "output_type": "stream",
          "name": "stderr",
          "text": [
            "     95/100      4.63G      0.505     0.8355      1.061         93        640: 100%|██████████| 3/3 [00:01<00:00,  2.94it/s]\n",
            "                 Class     Images  Instances      Box(P          R      mAP50  mAP50-95): 100%|██████████| 1/1 [00:00<00:00,  1.32it/s]"
          ]
        },
        {
          "output_type": "stream",
          "name": "stdout",
          "text": [
            "                   all         60        175      0.813       0.77      0.817       0.65\n"
          ]
        },
        {
          "output_type": "stream",
          "name": "stderr",
          "text": [
            "\n"
          ]
        },
        {
          "output_type": "stream",
          "name": "stdout",
          "text": [
            "\n",
            "      Epoch    GPU_mem   box_loss   cls_loss   dfl_loss  Instances       Size\n"
          ]
        },
        {
          "output_type": "stream",
          "name": "stderr",
          "text": [
            "     96/100      4.64G     0.5002     0.8597      1.091         93        640: 100%|██████████| 3/3 [00:01<00:00,  2.74it/s]\n",
            "                 Class     Images  Instances      Box(P          R      mAP50  mAP50-95): 100%|██████████| 1/1 [00:00<00:00,  1.28it/s]"
          ]
        },
        {
          "output_type": "stream",
          "name": "stdout",
          "text": [
            "                   all         60        175        0.8      0.799      0.822      0.656\n"
          ]
        },
        {
          "output_type": "stream",
          "name": "stderr",
          "text": [
            "\n"
          ]
        },
        {
          "output_type": "stream",
          "name": "stdout",
          "text": [
            "\n",
            "      Epoch    GPU_mem   box_loss   cls_loss   dfl_loss  Instances       Size\n"
          ]
        },
        {
          "output_type": "stream",
          "name": "stderr",
          "text": [
            "     97/100      4.64G     0.4812     0.8305      1.048         90        640: 100%|██████████| 3/3 [00:00<00:00,  3.01it/s]\n",
            "                 Class     Images  Instances      Box(P          R      mAP50  mAP50-95): 100%|██████████| 1/1 [00:00<00:00,  1.54it/s]"
          ]
        },
        {
          "output_type": "stream",
          "name": "stdout",
          "text": [
            "                   all         60        175      0.835      0.771      0.823       0.66\n"
          ]
        },
        {
          "output_type": "stream",
          "name": "stderr",
          "text": [
            "\n"
          ]
        },
        {
          "output_type": "stream",
          "name": "stdout",
          "text": [
            "\n",
            "      Epoch    GPU_mem   box_loss   cls_loss   dfl_loss  Instances       Size\n"
          ]
        },
        {
          "output_type": "stream",
          "name": "stderr",
          "text": [
            "     98/100      4.63G     0.4659     0.8211      1.003         92        640: 100%|██████████| 3/3 [00:01<00:00,  2.75it/s]\n",
            "                 Class     Images  Instances      Box(P          R      mAP50  mAP50-95): 100%|██████████| 1/1 [00:00<00:00,  1.06it/s]"
          ]
        },
        {
          "output_type": "stream",
          "name": "stdout",
          "text": [
            "                   all         60        175      0.829      0.771      0.822      0.671\n"
          ]
        },
        {
          "output_type": "stream",
          "name": "stderr",
          "text": [
            "\n"
          ]
        },
        {
          "output_type": "stream",
          "name": "stdout",
          "text": [
            "\n",
            "      Epoch    GPU_mem   box_loss   cls_loss   dfl_loss  Instances       Size\n"
          ]
        },
        {
          "output_type": "stream",
          "name": "stderr",
          "text": [
            "     99/100      4.63G     0.4718     0.7996      1.078         91        640: 100%|██████████| 3/3 [00:01<00:00,  2.58it/s]\n",
            "                 Class     Images  Instances      Box(P          R      mAP50  mAP50-95): 100%|██████████| 1/1 [00:01<00:00,  1.22s/it]"
          ]
        },
        {
          "output_type": "stream",
          "name": "stdout",
          "text": [
            "                   all         60        175      0.835      0.775      0.822      0.674\n"
          ]
        },
        {
          "output_type": "stream",
          "name": "stderr",
          "text": [
            "\n"
          ]
        },
        {
          "output_type": "stream",
          "name": "stdout",
          "text": [
            "\n",
            "      Epoch    GPU_mem   box_loss   cls_loss   dfl_loss  Instances       Size\n"
          ]
        },
        {
          "output_type": "stream",
          "name": "stderr",
          "text": [
            "    100/100      4.64G     0.4509     0.7725       1.07         92        640: 100%|██████████| 3/3 [00:01<00:00,  2.24it/s]\n",
            "                 Class     Images  Instances      Box(P          R      mAP50  mAP50-95): 100%|██████████| 1/1 [00:00<00:00,  1.39it/s]"
          ]
        },
        {
          "output_type": "stream",
          "name": "stdout",
          "text": [
            "                   all         60        175      0.829      0.776      0.821      0.681\n"
          ]
        },
        {
          "output_type": "stream",
          "name": "stderr",
          "text": [
            "\n"
          ]
        },
        {
          "output_type": "stream",
          "name": "stdout",
          "text": [
            "\n",
            "100 epochs completed in 0.091 hours.\n",
            "Optimizer stripped from runs/detect/train/weights/last.pt, 5.5MB\n",
            "Optimizer stripped from runs/detect/train/weights/best.pt, 5.5MB\n",
            "\n",
            "Validating runs/detect/train/weights/best.pt...\n",
            "Ultralytics 8.3.13 🚀 Python-3.10.12 torch-2.4.1+cu121 CUDA:0 (Tesla T4, 15102MiB)\n",
            "YOLO11n summary (fused): 238 layers, 2,582,932 parameters, 0 gradients, 6.3 GFLOPs\n"
          ]
        },
        {
          "output_type": "stream",
          "name": "stderr",
          "text": [
            "                 Class     Images  Instances      Box(P          R      mAP50  mAP50-95): 100%|██████████| 1/1 [00:00<00:00,  1.84it/s]\n"
          ]
        },
        {
          "output_type": "stream",
          "name": "stdout",
          "text": [
            "                   all         60        175      0.867      0.771      0.825      0.691\n",
            "         0-_rate_error         34         34      0.848      0.853      0.901      0.728\n",
            "       100-_rate_error         39         39      0.869       0.85      0.886      0.761\n",
            "        50-_rate_error         22         42      0.986      0.833      0.964       0.84\n",
            "              accident         60         60      0.766      0.547      0.548      0.434\n",
            "Speed: 0.2ms preprocess, 2.5ms inference, 0.0ms loss, 1.4ms postprocess per image\n",
            "Results saved to \u001b[1mruns/detect/train\u001b[0m\n"
          ]
        }
      ]
    },
    {
      "cell_type": "markdown",
      "source": [],
      "metadata": {
        "id": "D16ofwvn7EOJ"
      }
    }
  ]
}