{
  "nbformat": 4,
  "nbformat_minor": 0,
  "metadata": {
    "colab": {
      "provenance": [],
      "gpuType": "T4"
    },
    "kernelspec": {
      "name": "python3",
      "display_name": "Python 3"
    },
    "language_info": {
      "name": "python"
    },
    "accelerator": "GPU"
  },
  "cells": [
    {
      "cell_type": "code",
      "execution_count": 1,
      "metadata": {
        "colab": {
          "base_uri": "https://localhost:8080/"
        },
        "id": "iRGohlNhPyun",
        "outputId": "d0dbe021-41d9-4e8e-f8c3-7265e1688feb"
      },
      "outputs": [
        {
          "output_type": "stream",
          "name": "stdout",
          "text": [
            "Tue Oct 15 22:03:26 2024       \n",
            "+---------------------------------------------------------------------------------------+\n",
            "| NVIDIA-SMI 535.104.05             Driver Version: 535.104.05   CUDA Version: 12.2     |\n",
            "|-----------------------------------------+----------------------+----------------------+\n",
            "| GPU  Name                 Persistence-M | Bus-Id        Disp.A | Volatile Uncorr. ECC |\n",
            "| Fan  Temp   Perf          Pwr:Usage/Cap |         Memory-Usage | GPU-Util  Compute M. |\n",
            "|                                         |                      |               MIG M. |\n",
            "|=========================================+======================+======================|\n",
            "|   0  Tesla T4                       Off | 00000000:00:04.0 Off |                    0 |\n",
            "| N/A   63C    P8              12W /  70W |      0MiB / 15360MiB |      0%      Default |\n",
            "|                                         |                      |                  N/A |\n",
            "+-----------------------------------------+----------------------+----------------------+\n",
            "                                                                                         \n",
            "+---------------------------------------------------------------------------------------+\n",
            "| Processes:                                                                            |\n",
            "|  GPU   GI   CI        PID   Type   Process name                            GPU Memory |\n",
            "|        ID   ID                                                             Usage      |\n",
            "|=======================================================================================|\n",
            "|  No running processes found                                                           |\n",
            "+---------------------------------------------------------------------------------------+\n"
          ]
        }
      ],
      "source": [
        "!nvidia-smi"
      ]
    },
    {
      "cell_type": "code",
      "source": [
        "from google.colab import drive\n",
        "drive.mount('/content/drive')"
      ],
      "metadata": {
        "colab": {
          "base_uri": "https://localhost:8080/"
        },
        "id": "ZXdkG0oTP4Fp",
        "outputId": "491a032b-ed55-4c78-ca71-3650d6cfc917"
      },
      "execution_count": 2,
      "outputs": [
        {
          "output_type": "stream",
          "name": "stdout",
          "text": [
            "Mounted at /content/drive\n"
          ]
        }
      ]
    },
    {
      "cell_type": "code",
      "source": [
        "!unzip /content/drive/MyDrive/+_2863_640_640_label_ACCIDENT_DETECTION.v1i.yolov7pytorch.zip"
      ],
      "metadata": {
        "id": "IdrfiHhUP6tY",
        "colab": {
          "base_uri": "https://localhost:8080/"
        },
        "outputId": "40cfeca0-e414-4d1f-be67-bd30a3dd44a2"
      },
      "execution_count": 3,
      "outputs": [
        {
          "output_type": "stream",
          "name": "stdout",
          "text": [
            "Archive:  /content/drive/MyDrive/+_2863_640_640_label_ACCIDENT_DETECTION.v1i.yolov7pytorch.zip\n",
            "   creating: +_2863_640_640_label_ACCIDENT_DETECTION.v1i.yolov7pytorch/\n",
            "  inflating: __MACOSX/._+_2863_640_640_label_ACCIDENT_DETECTION.v1i.yolov7pytorch  \n",
            "  inflating: +_2863_640_640_label_ACCIDENT_DETECTION.v1i.yolov7pytorch/README.roboflow.txt  \n",
            "  inflating: __MACOSX/+_2863_640_640_label_ACCIDENT_DETECTION.v1i.yolov7pytorch/._README.roboflow.txt  \n",
            "   creating: +_2863_640_640_label_ACCIDENT_DETECTION.v1i.yolov7pytorch/valid/\n",
            "  inflating: __MACOSX/+_2863_640_640_label_ACCIDENT_DETECTION.v1i.yolov7pytorch/._valid  \n",
            "  inflating: +_2863_640_640_label_ACCIDENT_DETECTION.v1i.yolov7pytorch/README.dataset.txt  \n",
            "  inflating: __MACOSX/+_2863_640_640_label_ACCIDENT_DETECTION.v1i.yolov7pytorch/._README.dataset.txt  \n",
            "  inflating: +_2863_640_640_label_ACCIDENT_DETECTION.v1i.yolov7pytorch/.DS_Store  \n",
            "  inflating: __MACOSX/+_2863_640_640_label_ACCIDENT_DETECTION.v1i.yolov7pytorch/._.DS_Store  \n",
            "   creating: +_2863_640_640_label_ACCIDENT_DETECTION.v1i.yolov7pytorch/test/\n",
            "  inflating: __MACOSX/+_2863_640_640_label_ACCIDENT_DETECTION.v1i.yolov7pytorch/._test  \n",
            "  inflating: +_2863_640_640_label_ACCIDENT_DETECTION.v1i.yolov7pytorch/data.yaml  \n",
            "  inflating: __MACOSX/+_2863_640_640_label_ACCIDENT_DETECTION.v1i.yolov7pytorch/._data.yaml  \n",
            "   creating: +_2863_640_640_label_ACCIDENT_DETECTION.v1i.yolov7pytorch/train/\n",
            "  inflating: __MACOSX/+_2863_640_640_label_ACCIDENT_DETECTION.v1i.yolov7pytorch/._train  \n",
            "   creating: +_2863_640_640_label_ACCIDENT_DETECTION.v1i.yolov7pytorch/valid/images/\n",
            "  inflating: __MACOSX/+_2863_640_640_label_ACCIDENT_DETECTION.v1i.yolov7pytorch/valid/._images  \n",
            "   creating: +_2863_640_640_label_ACCIDENT_DETECTION.v1i.yolov7pytorch/valid/labels/\n",
            "  inflating: __MACOSX/+_2863_640_640_label_ACCIDENT_DETECTION.v1i.yolov7pytorch/valid/._labels  \n",
            "  inflating: +_2863_640_640_label_ACCIDENT_DETECTION.v1i.yolov7pytorch/test/.DS_Store  \n",
            "  inflating: __MACOSX/+_2863_640_640_label_ACCIDENT_DETECTION.v1i.yolov7pytorch/test/._.DS_Store  \n",
            "   creating: +_2863_640_640_label_ACCIDENT_DETECTION.v1i.yolov7pytorch/test/images/\n",
            "  inflating: __MACOSX/+_2863_640_640_label_ACCIDENT_DETECTION.v1i.yolov7pytorch/test/._images  \n",
            "   creating: +_2863_640_640_label_ACCIDENT_DETECTION.v1i.yolov7pytorch/test/labels/\n",
            "  inflating: __MACOSX/+_2863_640_640_label_ACCIDENT_DETECTION.v1i.yolov7pytorch/test/._labels  \n",
            "   creating: +_2863_640_640_label_ACCIDENT_DETECTION.v1i.yolov7pytorch/train/images/\n",
            "  inflating: __MACOSX/+_2863_640_640_label_ACCIDENT_DETECTION.v1i.yolov7pytorch/train/._images  \n",
            "   creating: +_2863_640_640_label_ACCIDENT_DETECTION.v1i.yolov7pytorch/train/labels/\n",
            "  inflating: __MACOSX/+_2863_640_640_label_ACCIDENT_DETECTION.v1i.yolov7pytorch/train/._labels  \n",
            "  inflating: +_2863_640_640_label_ACCIDENT_DETECTION.v1i.yolov7pytorch/valid/images/traffic_img115_jpg.rf.3f1c05f94788567083f8470a5b5ec6fb.jpg  \n",
            "  inflating: __MACOSX/+_2863_640_640_label_ACCIDENT_DETECTION.v1i.yolov7pytorch/valid/images/._traffic_img115_jpg.rf.3f1c05f94788567083f8470a5b5ec6fb.jpg  \n",
            "  inflating: +_2863_640_640_label_ACCIDENT_DETECTION.v1i.yolov7pytorch/valid/images/781_jpeg_jpg.rf.af20d9aeb9fef1f9479ff28e0c221321.jpg  \n",
            "  inflating: __MACOSX/+_2863_640_640_label_ACCIDENT_DETECTION.v1i.yolov7pytorch/valid/images/._781_jpeg_jpg.rf.af20d9aeb9fef1f9479ff28e0c221321.jpg  \n",
            "  inflating: +_2863_640_640_label_ACCIDENT_DETECTION.v1i.yolov7pytorch/valid/images/traffic_img1895_jpg.rf.0f0e4fec20f68147db9886f82dbb0ff4.jpg  \n",
            "  inflating: __MACOSX/+_2863_640_640_label_ACCIDENT_DETECTION.v1i.yolov7pytorch/valid/images/._traffic_img1895_jpg.rf.0f0e4fec20f68147db9886f82dbb0ff4.jpg  \n",
            "  inflating: +_2863_640_640_label_ACCIDENT_DETECTION.v1i.yolov7pytorch/valid/images/traffic_img1202_jpg.rf.7b3c56744d28658ee9124ac2ef59e885.jpg  \n",
            "  inflating: __MACOSX/+_2863_640_640_label_ACCIDENT_DETECTION.v1i.yolov7pytorch/valid/images/._traffic_img1202_jpg.rf.7b3c56744d28658ee9124ac2ef59e885.jpg  \n",
            "  inflating: +_2863_640_640_label_ACCIDENT_DETECTION.v1i.yolov7pytorch/valid/images/traffic_img1198_jpg.rf.1d5134daf2f659b6e0113d4f1f4628c1.jpg  \n",
            "  inflating: __MACOSX/+_2863_640_640_label_ACCIDENT_DETECTION.v1i.yolov7pytorch/valid/images/._traffic_img1198_jpg.rf.1d5134daf2f659b6e0113d4f1f4628c1.jpg  \n",
            "  inflating: +_2863_640_640_label_ACCIDENT_DETECTION.v1i.yolov7pytorch/valid/images/traffic_img1201_jpg.rf.a99ae75e0f107a0537af4985f2a8fe17.jpg  \n",
            "  inflating: __MACOSX/+_2863_640_640_label_ACCIDENT_DETECTION.v1i.yolov7pytorch/valid/images/._traffic_img1201_jpg.rf.a99ae75e0f107a0537af4985f2a8fe17.jpg  \n",
            "  inflating: +_2863_640_640_label_ACCIDENT_DETECTION.v1i.yolov7pytorch/valid/images/traffic_img921_jpg.rf.b2e6fa67ff674760b23a86415a480876.jpg  \n",
            "  inflating: __MACOSX/+_2863_640_640_label_ACCIDENT_DETECTION.v1i.yolov7pytorch/valid/images/._traffic_img921_jpg.rf.b2e6fa67ff674760b23a86415a480876.jpg  \n",
            "  inflating: +_2863_640_640_label_ACCIDENT_DETECTION.v1i.yolov7pytorch/valid/images/traffic_img609_jpg.rf.ae611f636c7436f5371136de559b072d.jpg  \n",
            "  inflating: __MACOSX/+_2863_640_640_label_ACCIDENT_DETECTION.v1i.yolov7pytorch/valid/images/._traffic_img609_jpg.rf.ae611f636c7436f5371136de559b072d.jpg  \n",
            "  inflating: +_2863_640_640_label_ACCIDENT_DETECTION.v1i.yolov7pytorch/valid/images/accidentFrame1198_jpg.rf.06feff35fdd24e434a922d2579cf6e83.jpg  \n",
            "  inflating: __MACOSX/+_2863_640_640_label_ACCIDENT_DETECTION.v1i.yolov7pytorch/valid/images/._accidentFrame1198_jpg.rf.06feff35fdd24e434a922d2579cf6e83.jpg  \n",
            "  inflating: +_2863_640_640_label_ACCIDENT_DETECTION.v1i.yolov7pytorch/valid/images/severityV4_7_jpg.rf.6ab18acee4515471804d09237fd018fe.jpg  \n",
            "  inflating: __MACOSX/+_2863_640_640_label_ACCIDENT_DETECTION.v1i.yolov7pytorch/valid/images/._severityV4_7_jpg.rf.6ab18acee4515471804d09237fd018fe.jpg  \n",
            "  inflating: +_2863_640_640_label_ACCIDENT_DETECTION.v1i.yolov7pytorch/valid/images/10-31_jpg.rf.22a922551ea40266ba4d47bc90d8f994.jpg  \n",
            "  inflating: __MACOSX/+_2863_640_640_label_ACCIDENT_DETECTION.v1i.yolov7pytorch/valid/images/._10-31_jpg.rf.22a922551ea40266ba4d47bc90d8f994.jpg  \n",
            "  inflating: +_2863_640_640_label_ACCIDENT_DETECTION.v1i.yolov7pytorch/valid/images/FLIP_CAR_V134_jpg.rf.f2430f3aea7d387a9e0892a7c7dd1a5e.jpg  \n",
            "  inflating: __MACOSX/+_2863_640_640_label_ACCIDENT_DETECTION.v1i.yolov7pytorch/valid/images/._FLIP_CAR_V134_jpg.rf.f2430f3aea7d387a9e0892a7c7dd1a5e.jpg  \n",
            "  inflating: +_2863_640_640_label_ACCIDENT_DETECTION.v1i.yolov7pytorch/valid/images/severityV4_8_jpg.rf.decb750aee06f33c92424a5eac4806e2.jpg  \n",
            "  inflating: __MACOSX/+_2863_640_640_label_ACCIDENT_DETECTION.v1i.yolov7pytorch/valid/images/._severityV4_8_jpg.rf.decb750aee06f33c92424a5eac4806e2.jpg  \n",
            "  inflating: +_2863_640_640_label_ACCIDENT_DETECTION.v1i.yolov7pytorch/valid/images/traffic_img180_jpg.rf.a5a46bd6bb0fd486f6ec5a3a65401eec.jpg  \n",
            "  inflating: __MACOSX/+_2863_640_640_label_ACCIDENT_DETECTION.v1i.yolov7pytorch/valid/images/._traffic_img180_jpg.rf.a5a46bd6bb0fd486f6ec5a3a65401eec.jpg  \n",
            "  inflating: +_2863_640_640_label_ACCIDENT_DETECTION.v1i.yolov7pytorch/valid/images/accidentFrame282_jpg.rf.4cbd4a80f2cae61e3911d4d5fdae8275.jpg  \n",
            "  inflating: __MACOSX/+_2863_640_640_label_ACCIDENT_DETECTION.v1i.yolov7pytorch/valid/images/._accidentFrame282_jpg.rf.4cbd4a80f2cae61e3911d4d5fdae8275.jpg  \n",
            "  inflating: +_2863_640_640_label_ACCIDENT_DETECTION.v1i.yolov7pytorch/valid/images/download-6_jpg.rf.622953ab9a8894f40fc0a385f5c130ec.jpg  \n",
            "  inflating: __MACOSX/+_2863_640_640_label_ACCIDENT_DETECTION.v1i.yolov7pytorch/valid/images/._download-6_jpg.rf.622953ab9a8894f40fc0a385f5c130ec.jpg  \n",
            "  inflating: +_2863_640_640_label_ACCIDENT_DETECTION.v1i.yolov7pytorch/valid/images/traffic_img1320_jpg.rf.714742aca554d4b8ecb05187db6184f9.jpg  \n",
            "  inflating: __MACOSX/+_2863_640_640_label_ACCIDENT_DETECTION.v1i.yolov7pytorch/valid/images/._traffic_img1320_jpg.rf.714742aca554d4b8ecb05187db6184f9.jpg  \n",
            "  inflating: +_2863_640_640_label_ACCIDENT_DETECTION.v1i.yolov7pytorch/valid/images/traffic_img1082_jpg.rf.f81b91a39841dd7a11f3c6de668deb26.jpg  \n",
            "  inflating: __MACOSX/+_2863_640_640_label_ACCIDENT_DETECTION.v1i.yolov7pytorch/valid/images/._traffic_img1082_jpg.rf.f81b91a39841dd7a11f3c6de668deb26.jpg  \n",
            "  inflating: +_2863_640_640_label_ACCIDENT_DETECTION.v1i.yolov7pytorch/valid/images/traffic_img943_jpg.rf.737362c7fda36d2dfffcf6526e8ad0f1.jpg  \n",
            "  inflating: __MACOSX/+_2863_640_640_label_ACCIDENT_DETECTION.v1i.yolov7pytorch/valid/images/._traffic_img943_jpg.rf.737362c7fda36d2dfffcf6526e8ad0f1.jpg  \n",
            "  inflating: +_2863_640_640_label_ACCIDENT_DETECTION.v1i.yolov7pytorch/valid/images/vd44_jpeg_jpg.rf.2d0efc0eba7f33212425f8ff4ddd3750.jpg  \n",
            "  inflating: __MACOSX/+_2863_640_640_label_ACCIDENT_DETECTION.v1i.yolov7pytorch/valid/images/._vd44_jpeg_jpg.rf.2d0efc0eba7f33212425f8ff4ddd3750.jpg  \n",
            "  inflating: +_2863_640_640_label_ACCIDENT_DETECTION.v1i.yolov7pytorch/valid/images/images-37_jpg.rf.7d0745dd20a6eab51accc13e0bf712e1.jpg  \n",
            "  inflating: __MACOSX/+_2863_640_640_label_ACCIDENT_DETECTION.v1i.yolov7pytorch/valid/images/._images-37_jpg.rf.7d0745dd20a6eab51accc13e0bf712e1.jpg  \n",
            "  inflating: +_2863_640_640_label_ACCIDENT_DETECTION.v1i.yolov7pytorch/valid/images/traffic_img565_jpg.rf.89c564bd6d6fb9680430ea1d7dff6fcc.jpg  \n",
            "  inflating: __MACOSX/+_2863_640_640_label_ACCIDENT_DETECTION.v1i.yolov7pytorch/valid/images/._traffic_img565_jpg.rf.89c564bd6d6fb9680430ea1d7dff6fcc.jpg  \n",
            "  inflating: +_2863_640_640_label_ACCIDENT_DETECTION.v1i.yolov7pytorch/valid/images/traffic_img1458_jpg.rf.f0227d352933a2c3e0cc64ba0c8f7263.jpg  \n",
            "  inflating: __MACOSX/+_2863_640_640_label_ACCIDENT_DETECTION.v1i.yolov7pytorch/valid/images/._traffic_img1458_jpg.rf.f0227d352933a2c3e0cc64ba0c8f7263.jpg  \n",
            "  inflating: +_2863_640_640_label_ACCIDENT_DETECTION.v1i.yolov7pytorch/valid/images/FLIP_CAR_V149_jpg.rf.42f2bb6c95a1171d4d449681e3f0d6a1.jpg  \n",
            "  inflating: __MACOSX/+_2863_640_640_label_ACCIDENT_DETECTION.v1i.yolov7pytorch/valid/images/._FLIP_CAR_V149_jpg.rf.42f2bb6c95a1171d4d449681e3f0d6a1.jpg  \n",
            "  inflating: +_2863_640_640_label_ACCIDENT_DETECTION.v1i.yolov7pytorch/valid/images/traffic_img539_jpg.rf.84477933c70deb5dfa1063adbc1dab7a.jpg  \n",
            "  inflating: __MACOSX/+_2863_640_640_label_ACCIDENT_DETECTION.v1i.yolov7pytorch/valid/images/._traffic_img539_jpg.rf.84477933c70deb5dfa1063adbc1dab7a.jpg  \n",
            "  inflating: +_2863_640_640_label_ACCIDENT_DETECTION.v1i.yolov7pytorch/valid/images/FLIP_CAR_V162_jpg.rf.6a65eedbd405b9eb333c7f0e14c89746.jpg  \n",
            "  inflating: __MACOSX/+_2863_640_640_label_ACCIDENT_DETECTION.v1i.yolov7pytorch/valid/images/._FLIP_CAR_V162_jpg.rf.6a65eedbd405b9eb333c7f0e14c89746.jpg  \n",
            "  inflating: +_2863_640_640_label_ACCIDENT_DETECTION.v1i.yolov7pytorch/valid/images/vd55_jpeg_jpg.rf.a7a358ad6674a59963d23d4e69f09a79.jpg  \n",
            "  inflating: __MACOSX/+_2863_640_640_label_ACCIDENT_DETECTION.v1i.yolov7pytorch/valid/images/._vd55_jpeg_jpg.rf.a7a358ad6674a59963d23d4e69f09a79.jpg  \n",
            "  inflating: +_2863_640_640_label_ACCIDENT_DETECTION.v1i.yolov7pytorch/valid/images/images-6_jpg.rf.a2e7010a049722318930537b69dad29a.jpg  \n",
            "  inflating: __MACOSX/+_2863_640_640_label_ACCIDENT_DETECTION.v1i.yolov7pytorch/valid/images/._images-6_jpg.rf.a2e7010a049722318930537b69dad29a.jpg  \n",
            "  inflating: +_2863_640_640_label_ACCIDENT_DETECTION.v1i.yolov7pytorch/valid/images/14-61_jpg.rf.3dc9709232da44cfb2d1617f7989ac6d.jpg  \n",
            "  inflating: __MACOSX/+_2863_640_640_label_ACCIDENT_DETECTION.v1i.yolov7pytorch/valid/images/._14-61_jpg.rf.3dc9709232da44cfb2d1617f7989ac6d.jpg  \n",
            "  inflating: +_2863_640_640_label_ACCIDENT_DETECTION.v1i.yolov7pytorch/valid/images/severity_V128_jpg.rf.8f6c9af7171f959be04558ebad6b6a8c.jpg  \n",
            "  inflating: __MACOSX/+_2863_640_640_label_ACCIDENT_DETECTION.v1i.yolov7pytorch/valid/images/._severity_V128_jpg.rf.8f6c9af7171f959be04558ebad6b6a8c.jpg  \n",
            "  inflating: +_2863_640_640_label_ACCIDENT_DETECTION.v1i.yolov7pytorch/valid/images/V11_jpeg_jpg.rf.6c860f377df41341ff32926d8799db24.jpg  \n",
            "  inflating: __MACOSX/+_2863_640_640_label_ACCIDENT_DETECTION.v1i.yolov7pytorch/valid/images/._V11_jpeg_jpg.rf.6c860f377df41341ff32926d8799db24.jpg  \n",
            "  inflating: +_2863_640_640_label_ACCIDENT_DETECTION.v1i.yolov7pytorch/valid/images/traffic_img973_jpg.rf.9da980724c1f1f82df9458ff82d90843.jpg  \n",
            "  inflating: __MACOSX/+_2863_640_640_label_ACCIDENT_DETECTION.v1i.yolov7pytorch/valid/images/._traffic_img973_jpg.rf.9da980724c1f1f82df9458ff82d90843.jpg  \n",
            "  inflating: +_2863_640_640_label_ACCIDENT_DETECTION.v1i.yolov7pytorch/valid/images/traffic_img621_jpg.rf.293af42b720b586a08b228f260dd39a2.jpg  \n",
            "  inflating: __MACOSX/+_2863_640_640_label_ACCIDENT_DETECTION.v1i.yolov7pytorch/valid/images/._traffic_img621_jpg.rf.293af42b720b586a08b228f260dd39a2.jpg  \n",
            "  inflating: +_2863_640_640_label_ACCIDENT_DETECTION.v1i.yolov7pytorch/valid/images/traffic_img1557_jpg.rf.b5c73aebd1e07338f1153053193f8ee1.jpg  \n",
            "  inflating: __MACOSX/+_2863_640_640_label_ACCIDENT_DETECTION.v1i.yolov7pytorch/valid/images/._traffic_img1557_jpg.rf.b5c73aebd1e07338f1153053193f8ee1.jpg  \n",
            "  inflating: +_2863_640_640_label_ACCIDENT_DETECTION.v1i.yolov7pytorch/valid/images/traffic_img1376_jpg.rf.1c5b124c36bfa646f888c9adfe31ba25.jpg  \n",
            "  inflating: __MACOSX/+_2863_640_640_label_ACCIDENT_DETECTION.v1i.yolov7pytorch/valid/images/._traffic_img1376_jpg.rf.1c5b124c36bfa646f888c9adfe31ba25.jpg  \n",
            "  inflating: +_2863_640_640_label_ACCIDENT_DETECTION.v1i.yolov7pytorch/valid/images/traffic_img1387_jpg.rf.47e05fdf63638439780ce6bbaac39c48.jpg  \n",
            "  inflating: __MACOSX/+_2863_640_640_label_ACCIDENT_DETECTION.v1i.yolov7pytorch/valid/images/._traffic_img1387_jpg.rf.47e05fdf63638439780ce6bbaac39c48.jpg  \n",
            "  inflating: +_2863_640_640_label_ACCIDENT_DETECTION.v1i.yolov7pytorch/valid/images/traffic_img1024_jpg.rf.f099d1d65fb80d244131d58db1ed57be.jpg  \n",
            "  inflating: __MACOSX/+_2863_640_640_label_ACCIDENT_DETECTION.v1i.yolov7pytorch/valid/images/._traffic_img1024_jpg.rf.f099d1d65fb80d244131d58db1ed57be.jpg  \n",
            "  inflating: +_2863_640_640_label_ACCIDENT_DETECTION.v1i.yolov7pytorch/valid/images/traffic_img914_jpg.rf.7fa8a2f9bd33bc5fac85b512ae48b0c0.jpg  \n",
            "  inflating: __MACOSX/+_2863_640_640_label_ACCIDENT_DETECTION.v1i.yolov7pytorch/valid/images/._traffic_img914_jpg.rf.7fa8a2f9bd33bc5fac85b512ae48b0c0.jpg  \n",
            "  inflating: +_2863_640_640_label_ACCIDENT_DETECTION.v1i.yolov7pytorch/valid/images/traffic_img541_jpg.rf.24b8ec7b18eb0de46198c05e5fb9795b.jpg  \n",
            "  inflating: __MACOSX/+_2863_640_640_label_ACCIDENT_DETECTION.v1i.yolov7pytorch/valid/images/._traffic_img541_jpg.rf.24b8ec7b18eb0de46198c05e5fb9795b.jpg  \n",
            "  inflating: +_2863_640_640_label_ACCIDENT_DETECTION.v1i.yolov7pytorch/valid/images/traffic_img745_jpg.rf.2f014988edacf622ee2b81b6f2d1f6cb.jpg  \n",
            "  inflating: __MACOSX/+_2863_640_640_label_ACCIDENT_DETECTION.v1i.yolov7pytorch/valid/images/._traffic_img745_jpg.rf.2f014988edacf622ee2b81b6f2d1f6cb.jpg  \n",
            "  inflating: +_2863_640_640_label_ACCIDENT_DETECTION.v1i.yolov7pytorch/valid/images/traffic_img618_jpg.rf.728fad3bce72984a5e1ee95ab564b827.jpg  \n",
            "  inflating: __MACOSX/+_2863_640_640_label_ACCIDENT_DETECTION.v1i.yolov7pytorch/valid/images/._traffic_img618_jpg.rf.728fad3bce72984a5e1ee95ab564b827.jpg  \n",
            "  inflating: +_2863_640_640_label_ACCIDENT_DETECTION.v1i.yolov7pytorch/valid/images/severity_V137_jpg.rf.2453dca86f239c0e7b73b2fcd8b68b51.jpg  \n",
            "  inflating: __MACOSX/+_2863_640_640_label_ACCIDENT_DETECTION.v1i.yolov7pytorch/valid/images/._severity_V137_jpg.rf.2453dca86f239c0e7b73b2fcd8b68b51.jpg  \n",
            "  inflating: +_2863_640_640_label_ACCIDENT_DETECTION.v1i.yolov7pytorch/valid/images/traffic_img25_jpg.rf.3a1520c6a0284b72a5676a4af244ad03.jpg  \n",
            "  inflating: __MACOSX/+_2863_640_640_label_ACCIDENT_DETECTION.v1i.yolov7pytorch/valid/images/._traffic_img25_jpg.rf.3a1520c6a0284b72a5676a4af244ad03.jpg  \n",
            "  inflating: +_2863_640_640_label_ACCIDENT_DETECTION.v1i.yolov7pytorch/valid/images/traffic_img1069_jpg.rf.9f260ac433235fad437ee73203c6ed56.jpg  \n",
            "  inflating: __MACOSX/+_2863_640_640_label_ACCIDENT_DETECTION.v1i.yolov7pytorch/valid/images/._traffic_img1069_jpg.rf.9f260ac433235fad437ee73203c6ed56.jpg  \n",
            "  inflating: +_2863_640_640_label_ACCIDENT_DETECTION.v1i.yolov7pytorch/valid/images/traffic_img24_jpg.rf.f8055f06e2c15ccb7fac091c9ee70897.jpg  \n",
            "  inflating: __MACOSX/+_2863_640_640_label_ACCIDENT_DETECTION.v1i.yolov7pytorch/valid/images/._traffic_img24_jpg.rf.f8055f06e2c15ccb7fac091c9ee70897.jpg  \n",
            "  inflating: +_2863_640_640_label_ACCIDENT_DETECTION.v1i.yolov7pytorch/valid/images/traffic_img1398_jpg.rf.c60d56cc6c3eabbaa3ff63e4f0d9a5ed.jpg  \n",
            "  inflating: __MACOSX/+_2863_640_640_label_ACCIDENT_DETECTION.v1i.yolov7pytorch/valid/images/._traffic_img1398_jpg.rf.c60d56cc6c3eabbaa3ff63e4f0d9a5ed.jpg  \n",
            "  inflating: +_2863_640_640_label_ACCIDENT_DETECTION.v1i.yolov7pytorch/valid/images/Semi-RealisticVD-165_jpg.rf.da635c0fac51a2ac66339ee6ce055b77.jpg  \n",
            "  inflating: __MACOSX/+_2863_640_640_label_ACCIDENT_DETECTION.v1i.yolov7pytorch/valid/images/._Semi-RealisticVD-165_jpg.rf.da635c0fac51a2ac66339ee6ce055b77.jpg  \n",
            "  inflating: +_2863_640_640_label_ACCIDENT_DETECTION.v1i.yolov7pytorch/valid/images/severityV4_1_jpg.rf.53e9a622f4c132d3ffe822108422f02e.jpg  \n",
            "  inflating: __MACOSX/+_2863_640_640_label_ACCIDENT_DETECTION.v1i.yolov7pytorch/valid/images/._severityV4_1_jpg.rf.53e9a622f4c132d3ffe822108422f02e.jpg  \n",
            "  inflating: +_2863_640_640_label_ACCIDENT_DETECTION.v1i.yolov7pytorch/valid/images/traffic_img1459_jpg.rf.63a625018ee00463d1e02ae5bc5be126.jpg  \n",
            "  inflating: __MACOSX/+_2863_640_640_label_ACCIDENT_DETECTION.v1i.yolov7pytorch/valid/images/._traffic_img1459_jpg.rf.63a625018ee00463d1e02ae5bc5be126.jpg  \n",
            "  inflating: +_2863_640_640_label_ACCIDENT_DETECTION.v1i.yolov7pytorch/valid/images/traffic_img1077_jpg.rf.368df3810b24160bf7e83336bd20a042.jpg  \n",
            "  inflating: __MACOSX/+_2863_640_640_label_ACCIDENT_DETECTION.v1i.yolov7pytorch/valid/images/._traffic_img1077_jpg.rf.368df3810b24160bf7e83336bd20a042.jpg  \n",
            "  inflating: +_2863_640_640_label_ACCIDENT_DETECTION.v1i.yolov7pytorch/valid/images/severityV3_22_jpeg_jpg.rf.266b85854824ea55838fa81abb293d7d.jpg  \n",
            "  inflating: __MACOSX/+_2863_640_640_label_ACCIDENT_DETECTION.v1i.yolov7pytorch/valid/images/._severityV3_22_jpeg_jpg.rf.266b85854824ea55838fa81abb293d7d.jpg  \n",
            "  inflating: +_2863_640_640_label_ACCIDENT_DETECTION.v1i.yolov7pytorch/valid/images/images-4_jpg.rf.41607d7eb24835cec01318f4763027de.jpg  \n",
            "  inflating: __MACOSX/+_2863_640_640_label_ACCIDENT_DETECTION.v1i.yolov7pytorch/valid/images/._images-4_jpg.rf.41607d7eb24835cec01318f4763027de.jpg  \n",
            "  inflating: +_2863_640_640_label_ACCIDENT_DETECTION.v1i.yolov7pytorch/valid/images/traffic_img1003_jpg.rf.57c39dd82889d8477033ff09ffb3e5dd.jpg  \n",
            "  inflating: __MACOSX/+_2863_640_640_label_ACCIDENT_DETECTION.v1i.yolov7pytorch/valid/images/._traffic_img1003_jpg.rf.57c39dd82889d8477033ff09ffb3e5dd.jpg  \n",
            "  inflating: +_2863_640_640_label_ACCIDENT_DETECTION.v1i.yolov7pytorch/valid/images/traffic_img2123_jpg.rf.a9864a3645eeb6ef7a7d495a02278b63.jpg  \n",
            "  inflating: __MACOSX/+_2863_640_640_label_ACCIDENT_DETECTION.v1i.yolov7pytorch/valid/images/._traffic_img2123_jpg.rf.a9864a3645eeb6ef7a7d495a02278b63.jpg  \n",
            "  inflating: +_2863_640_640_label_ACCIDENT_DETECTION.v1i.yolov7pytorch/valid/images/traffic_img1825_jpg.rf.7ab2e913b770d4bb9e34a7bdbd37746e.jpg  \n",
            "  inflating: __MACOSX/+_2863_640_640_label_ACCIDENT_DETECTION.v1i.yolov7pytorch/valid/images/._traffic_img1825_jpg.rf.7ab2e913b770d4bb9e34a7bdbd37746e.jpg  \n",
            "  inflating: +_2863_640_640_label_ACCIDENT_DETECTION.v1i.yolov7pytorch/valid/images/traffic_img1476_jpg.rf.15f636bb7cb96ef00f1de9310e84d38e.jpg  \n",
            "  inflating: __MACOSX/+_2863_640_640_label_ACCIDENT_DETECTION.v1i.yolov7pytorch/valid/images/._traffic_img1476_jpg.rf.15f636bb7cb96ef00f1de9310e84d38e.jpg  \n",
            "  inflating: +_2863_640_640_label_ACCIDENT_DETECTION.v1i.yolov7pytorch/valid/images/traffic_img174_jpg.rf.196265236750c5f6fe977791c68e6ca3.jpg  \n",
            "  inflating: __MACOSX/+_2863_640_640_label_ACCIDENT_DETECTION.v1i.yolov7pytorch/valid/images/._traffic_img174_jpg.rf.196265236750c5f6fe977791c68e6ca3.jpg  \n",
            "  inflating: +_2863_640_640_label_ACCIDENT_DETECTION.v1i.yolov7pytorch/valid/images/1080_jpeg_jpg.rf.0f6f2a632ae178c72a07dfcf82c1ce71.jpg  \n",
            "  inflating: __MACOSX/+_2863_640_640_label_ACCIDENT_DETECTION.v1i.yolov7pytorch/valid/images/._1080_jpeg_jpg.rf.0f6f2a632ae178c72a07dfcf82c1ce71.jpg  \n",
            "  inflating: +_2863_640_640_label_ACCIDENT_DETECTION.v1i.yolov7pytorch/valid/images/accidentFrame127_jpg.rf.db9a11f73b6d582d2e83f571850467d2.jpg  \n",
            "  inflating: __MACOSX/+_2863_640_640_label_ACCIDENT_DETECTION.v1i.yolov7pytorch/valid/images/._accidentFrame127_jpg.rf.db9a11f73b6d582d2e83f571850467d2.jpg  \n",
            "  inflating: +_2863_640_640_label_ACCIDENT_DETECTION.v1i.yolov7pytorch/valid/images/severityV2_19_jpg.rf.aeebfa40afa0aa29cff94077bcbbdab4.jpg  \n",
            "  inflating: __MACOSX/+_2863_640_640_label_ACCIDENT_DETECTION.v1i.yolov7pytorch/valid/images/._severityV2_19_jpg.rf.aeebfa40afa0aa29cff94077bcbbdab4.jpg  \n",
            "  inflating: +_2863_640_640_label_ACCIDENT_DETECTION.v1i.yolov7pytorch/valid/images/traffic_img616_jpg.rf.8361a547514c5dac1794864d778b7549.jpg  \n",
            "  inflating: __MACOSX/+_2863_640_640_label_ACCIDENT_DETECTION.v1i.yolov7pytorch/valid/images/._traffic_img616_jpg.rf.8361a547514c5dac1794864d778b7549.jpg  \n",
            "  inflating: +_2863_640_640_label_ACCIDENT_DETECTION.v1i.yolov7pytorch/valid/images/tt1-v3_jpg.rf.01e5d919383edfb6ffa92060dd3d1112.jpg  \n",
            "  inflating: __MACOSX/+_2863_640_640_label_ACCIDENT_DETECTION.v1i.yolov7pytorch/valid/images/._tt1-v3_jpg.rf.01e5d919383edfb6ffa92060dd3d1112.jpg  \n",
            "  inflating: +_2863_640_640_label_ACCIDENT_DETECTION.v1i.yolov7pytorch/valid/images/traffic_img1560_jpg.rf.cab74145803690fbe4f12406cd739623.jpg  \n",
            "  inflating: __MACOSX/+_2863_640_640_label_ACCIDENT_DETECTION.v1i.yolov7pytorch/valid/images/._traffic_img1560_jpg.rf.cab74145803690fbe4f12406cd739623.jpg  \n",
            "  inflating: +_2863_640_640_label_ACCIDENT_DETECTION.v1i.yolov7pytorch/valid/images/traffic_img1558_jpg.rf.ecea9c24463feb290f40eb0442138399.jpg  \n",
            "  inflating: __MACOSX/+_2863_640_640_label_ACCIDENT_DETECTION.v1i.yolov7pytorch/valid/images/._traffic_img1558_jpg.rf.ecea9c24463feb290f40eb0442138399.jpg  \n",
            "  inflating: +_2863_640_640_label_ACCIDENT_DETECTION.v1i.yolov7pytorch/valid/images/traffic_img1319_jpg.rf.a1c3feb83fc158fce5fd7c2eb1a2c37d.jpg  \n",
            "  inflating: __MACOSX/+_2863_640_640_label_ACCIDENT_DETECTION.v1i.yolov7pytorch/valid/images/._traffic_img1319_jpg.rf.a1c3feb83fc158fce5fd7c2eb1a2c37d.jpg  \n",
            "  inflating: +_2863_640_640_label_ACCIDENT_DETECTION.v1i.yolov7pytorch/valid/images/traffic_img864_jpg.rf.4efe9312625f2863f63f0eb129ebc10b.jpg  \n",
            "  inflating: __MACOSX/+_2863_640_640_label_ACCIDENT_DETECTION.v1i.yolov7pytorch/valid/images/._traffic_img864_jpg.rf.4efe9312625f2863f63f0eb129ebc10b.jpg  \n",
            "  inflating: +_2863_640_640_label_ACCIDENT_DETECTION.v1i.yolov7pytorch/valid/images/traffic_img780_jpg.rf.3a06a7f8bc1323758adef6e2062a530b.jpg  \n",
            "  inflating: __MACOSX/+_2863_640_640_label_ACCIDENT_DETECTION.v1i.yolov7pytorch/valid/images/._traffic_img780_jpg.rf.3a06a7f8bc1323758adef6e2062a530b.jpg  \n",
            "  inflating: +_2863_640_640_label_ACCIDENT_DETECTION.v1i.yolov7pytorch/valid/images/traffic_img118_jpg.rf.95ccc2761fbfb8f3a49808c8b7537e77.jpg  \n",
            "  inflating: __MACOSX/+_2863_640_640_label_ACCIDENT_DETECTION.v1i.yolov7pytorch/valid/images/._traffic_img118_jpg.rf.95ccc2761fbfb8f3a49808c8b7537e77.jpg  \n",
            "  inflating: +_2863_640_640_label_ACCIDENT_DETECTION.v1i.yolov7pytorch/valid/images/10-134_jpg.rf.9c40666ec0d5061f6cd4851967d33ca2.jpg  \n",
            "  inflating: __MACOSX/+_2863_640_640_label_ACCIDENT_DETECTION.v1i.yolov7pytorch/valid/images/._10-134_jpg.rf.9c40666ec0d5061f6cd4851967d33ca2.jpg  \n",
            "  inflating: +_2863_640_640_label_ACCIDENT_DETECTION.v1i.yolov7pytorch/valid/images/traffic_img1091_jpg.rf.ef67f033d3c012094fdaf1c993e5b389.jpg  \n",
            "  inflating: __MACOSX/+_2863_640_640_label_ACCIDENT_DETECTION.v1i.yolov7pytorch/valid/images/._traffic_img1091_jpg.rf.ef67f033d3c012094fdaf1c993e5b389.jpg  \n",
            "  inflating: +_2863_640_640_label_ACCIDENT_DETECTION.v1i.yolov7pytorch/valid/images/traffic_img155_jpg.rf.9c6d9a7400cb8015e082147e0a9fd1cd.jpg  \n",
            "  inflating: __MACOSX/+_2863_640_640_label_ACCIDENT_DETECTION.v1i.yolov7pytorch/valid/images/._traffic_img155_jpg.rf.9c6d9a7400cb8015e082147e0a9fd1cd.jpg  \n",
            "  inflating: +_2863_640_640_label_ACCIDENT_DETECTION.v1i.yolov7pytorch/valid/images/traffic_img418_jpg.rf.cf0d5647562cc26e290f8210e438140f.jpg  \n",
            "  inflating: __MACOSX/+_2863_640_640_label_ACCIDENT_DETECTION.v1i.yolov7pytorch/valid/images/._traffic_img418_jpg.rf.cf0d5647562cc26e290f8210e438140f.jpg  \n",
            "  inflating: +_2863_640_640_label_ACCIDENT_DETECTION.v1i.yolov7pytorch/valid/images/traffic_img1443_jpg.rf.9ef77a590e005d8a8500e1da008d07ae.jpg  \n",
            "  inflating: __MACOSX/+_2863_640_640_label_ACCIDENT_DETECTION.v1i.yolov7pytorch/valid/images/._traffic_img1443_jpg.rf.9ef77a590e005d8a8500e1da008d07ae.jpg  \n",
            "  inflating: +_2863_640_640_label_ACCIDENT_DETECTION.v1i.yolov7pytorch/valid/images/traffic_img27_jpg.rf.125711488249786caa87da9140f15198.jpg  \n",
            "  inflating: __MACOSX/+_2863_640_640_label_ACCIDENT_DETECTION.v1i.yolov7pytorch/valid/images/._traffic_img27_jpg.rf.125711488249786caa87da9140f15198.jpg  \n",
            "  inflating: +_2863_640_640_label_ACCIDENT_DETECTION.v1i.yolov7pytorch/valid/images/accidentFrame121_jpg.rf.b5ca02df6397f105d80d5c8343052230.jpg  \n",
            "  inflating: __MACOSX/+_2863_640_640_label_ACCIDENT_DETECTION.v1i.yolov7pytorch/valid/images/._accidentFrame121_jpg.rf.b5ca02df6397f105d80d5c8343052230.jpg  \n",
            "  inflating: +_2863_640_640_label_ACCIDENT_DETECTION.v1i.yolov7pytorch/valid/images/traffic_img1155_jpg.rf.33169a86ccc6e0b6e2fd620e1a40c995.jpg  \n",
            "  inflating: __MACOSX/+_2863_640_640_label_ACCIDENT_DETECTION.v1i.yolov7pytorch/valid/images/._traffic_img1155_jpg.rf.33169a86ccc6e0b6e2fd620e1a40c995.jpg  \n",
            "  inflating: +_2863_640_640_label_ACCIDENT_DETECTION.v1i.yolov7pytorch/valid/images/traffic_img972_jpg.rf.1b5c857ea15e97b61a4e5da0cce1e0b5.jpg  \n",
            "  inflating: __MACOSX/+_2863_640_640_label_ACCIDENT_DETECTION.v1i.yolov7pytorch/valid/images/._traffic_img972_jpg.rf.1b5c857ea15e97b61a4e5da0cce1e0b5.jpg  \n",
            "  inflating: +_2863_640_640_label_ACCIDENT_DETECTION.v1i.yolov7pytorch/valid/images/severe16_jpeg_jpg.rf.aa011dbdc6ced3c8c86c0bf0bfe270e9.jpg  \n",
            "  inflating: __MACOSX/+_2863_640_640_label_ACCIDENT_DETECTION.v1i.yolov7pytorch/valid/images/._severe16_jpeg_jpg.rf.aa011dbdc6ced3c8c86c0bf0bfe270e9.jpg  \n",
            "  inflating: +_2863_640_640_label_ACCIDENT_DETECTION.v1i.yolov7pytorch/valid/images/traffic_img1115_jpg.rf.3e358f5cfa989c66568a2f9024994def.jpg  \n",
            "  inflating: __MACOSX/+_2863_640_640_label_ACCIDENT_DETECTION.v1i.yolov7pytorch/valid/images/._traffic_img1115_jpg.rf.3e358f5cfa989c66568a2f9024994def.jpg  \n",
            "  inflating: +_2863_640_640_label_ACCIDENT_DETECTION.v1i.yolov7pytorch/valid/images/traffic_img870_jpg.rf.17e50da38512ba6e4ef75ea617ee7442.jpg  \n",
            "  inflating: __MACOSX/+_2863_640_640_label_ACCIDENT_DETECTION.v1i.yolov7pytorch/valid/images/._traffic_img870_jpg.rf.17e50da38512ba6e4ef75ea617ee7442.jpg  \n",
            "  inflating: +_2863_640_640_label_ACCIDENT_DETECTION.v1i.yolov7pytorch/valid/images/accidentFrame3947_jpg.rf.9c011bcf858bd563ca7222ca22b66d31.jpg  \n",
            "  inflating: __MACOSX/+_2863_640_640_label_ACCIDENT_DETECTION.v1i.yolov7pytorch/valid/images/._accidentFrame3947_jpg.rf.9c011bcf858bd563ca7222ca22b66d31.jpg  \n",
            "  inflating: +_2863_640_640_label_ACCIDENT_DETECTION.v1i.yolov7pytorch/valid/images/traffic_img1764_jpg.rf.cd61f5d995a437f1f7dbf8273f254596.jpg  \n",
            "  inflating: __MACOSX/+_2863_640_640_label_ACCIDENT_DETECTION.v1i.yolov7pytorch/valid/images/._traffic_img1764_jpg.rf.cd61f5d995a437f1f7dbf8273f254596.jpg  \n",
            "  inflating: +_2863_640_640_label_ACCIDENT_DETECTION.v1i.yolov7pytorch/valid/images/traffic_img27_jpg.rf.60b32c7eabc9dd86f6740a94924dfafe.jpg  \n",
            "  inflating: __MACOSX/+_2863_640_640_label_ACCIDENT_DETECTION.v1i.yolov7pytorch/valid/images/._traffic_img27_jpg.rf.60b32c7eabc9dd86f6740a94924dfafe.jpg  \n",
            "  inflating: +_2863_640_640_label_ACCIDENT_DETECTION.v1i.yolov7pytorch/valid/images/traffic_img1559_jpg.rf.b11cf3ef19149d324cd7919fc376ed33.jpg  \n",
            "  inflating: __MACOSX/+_2863_640_640_label_ACCIDENT_DETECTION.v1i.yolov7pytorch/valid/images/._traffic_img1559_jpg.rf.b11cf3ef19149d324cd7919fc376ed33.jpg  \n",
            "  inflating: +_2863_640_640_label_ACCIDENT_DETECTION.v1i.yolov7pytorch/valid/images/traffic_img271_jpg.rf.d053859ccd1c3cf8ce0bdf14179cfcf9.jpg  \n",
            "  inflating: __MACOSX/+_2863_640_640_label_ACCIDENT_DETECTION.v1i.yolov7pytorch/valid/images/._traffic_img271_jpg.rf.d053859ccd1c3cf8ce0bdf14179cfcf9.jpg  \n",
            "  inflating: +_2863_640_640_label_ACCIDENT_DETECTION.v1i.yolov7pytorch/valid/images/traffic_img583_jpg.rf.df0e55e426ace39c8a9d02144998b7dd.jpg  \n",
            "  inflating: __MACOSX/+_2863_640_640_label_ACCIDENT_DETECTION.v1i.yolov7pytorch/valid/images/._traffic_img583_jpg.rf.df0e55e426ace39c8a9d02144998b7dd.jpg  \n",
            "  inflating: +_2863_640_640_label_ACCIDENT_DETECTION.v1i.yolov7pytorch/valid/images/severityV3_28_jpeg_jpg.rf.6988803b903429745fee3f6453dfdbbb.jpg  \n",
            "  inflating: __MACOSX/+_2863_640_640_label_ACCIDENT_DETECTION.v1i.yolov7pytorch/valid/images/._severityV3_28_jpeg_jpg.rf.6988803b903429745fee3f6453dfdbbb.jpg  \n",
            "  inflating: +_2863_640_640_label_ACCIDENT_DETECTION.v1i.yolov7pytorch/valid/images/severity_V117_jpg.rf.208d6c5726c7325b57a34d22e406aece.jpg  \n",
            "  inflating: __MACOSX/+_2863_640_640_label_ACCIDENT_DETECTION.v1i.yolov7pytorch/valid/images/._severity_V117_jpg.rf.208d6c5726c7325b57a34d22e406aece.jpg  \n",
            "  inflating: +_2863_640_640_label_ACCIDENT_DETECTION.v1i.yolov7pytorch/valid/images/severityV3_4_jpeg_jpg.rf.4f3f1aa0f0302f8512d2672d1155c6d9.jpg  \n",
            "  inflating: __MACOSX/+_2863_640_640_label_ACCIDENT_DETECTION.v1i.yolov7pytorch/valid/images/._severityV3_4_jpeg_jpg.rf.4f3f1aa0f0302f8512d2672d1155c6d9.jpg  \n",
            "  inflating: +_2863_640_640_label_ACCIDENT_DETECTION.v1i.yolov7pytorch/valid/images/Severity_Detect_V8_jpg.rf.59f9a43faa2253b3c2899e1340975e89.jpg  \n",
            "  inflating: __MACOSX/+_2863_640_640_label_ACCIDENT_DETECTION.v1i.yolov7pytorch/valid/images/._Severity_Detect_V8_jpg.rf.59f9a43faa2253b3c2899e1340975e89.jpg  \n",
            "  inflating: +_2863_640_640_label_ACCIDENT_DETECTION.v1i.yolov7pytorch/valid/images/traffic_img1974_jpg.rf.ae3338e65bee7f77a7b0ee248f863d77.jpg  \n",
            "  inflating: __MACOSX/+_2863_640_640_label_ACCIDENT_DETECTION.v1i.yolov7pytorch/valid/images/._traffic_img1974_jpg.rf.ae3338e65bee7f77a7b0ee248f863d77.jpg  \n",
            "  inflating: +_2863_640_640_label_ACCIDENT_DETECTION.v1i.yolov7pytorch/valid/images/accidentFrame2173_jpg.rf.b2d518a922639b6526a10f3f63ca4c6d.jpg  \n",
            "  inflating: __MACOSX/+_2863_640_640_label_ACCIDENT_DETECTION.v1i.yolov7pytorch/valid/images/._accidentFrame2173_jpg.rf.b2d518a922639b6526a10f3f63ca4c6d.jpg  \n",
            "  inflating: +_2863_640_640_label_ACCIDENT_DETECTION.v1i.yolov7pytorch/valid/images/traffic_img1122_jpg.rf.8faacc3503c2f1a20435ad0dacaaa73d.jpg  \n",
            "  inflating: __MACOSX/+_2863_640_640_label_ACCIDENT_DETECTION.v1i.yolov7pytorch/valid/images/._traffic_img1122_jpg.rf.8faacc3503c2f1a20435ad0dacaaa73d.jpg  \n",
            "  inflating: +_2863_640_640_label_ACCIDENT_DETECTION.v1i.yolov7pytorch/valid/images/traffic_img416_jpg.rf.56f5edfd76ef20ddc0c8b5b466038f72.jpg  \n",
            "  inflating: __MACOSX/+_2863_640_640_label_ACCIDENT_DETECTION.v1i.yolov7pytorch/valid/images/._traffic_img416_jpg.rf.56f5edfd76ef20ddc0c8b5b466038f72.jpg  \n",
            "  inflating: +_2863_640_640_label_ACCIDENT_DETECTION.v1i.yolov7pytorch/valid/images/severity_V111_jpg.rf.a26769898b0f5e9d389b0898f7222260.jpg  \n",
            "  inflating: __MACOSX/+_2863_640_640_label_ACCIDENT_DETECTION.v1i.yolov7pytorch/valid/images/._severity_V111_jpg.rf.a26769898b0f5e9d389b0898f7222260.jpg  \n",
            "  inflating: +_2863_640_640_label_ACCIDENT_DETECTION.v1i.yolov7pytorch/valid/images/traffic_img1434_jpg.rf.710a96b43c171c18ddb7932c7a8c2247.jpg  \n",
            "  inflating: __MACOSX/+_2863_640_640_label_ACCIDENT_DETECTION.v1i.yolov7pytorch/valid/images/._traffic_img1434_jpg.rf.710a96b43c171c18ddb7932c7a8c2247.jpg  \n",
            "  inflating: +_2863_640_640_label_ACCIDENT_DETECTION.v1i.yolov7pytorch/valid/images/traffic_img1125_jpg.rf.e9ad085fb1050025410a5984ad463fb2.jpg  \n",
            "  inflating: __MACOSX/+_2863_640_640_label_ACCIDENT_DETECTION.v1i.yolov7pytorch/valid/images/._traffic_img1125_jpg.rf.e9ad085fb1050025410a5984ad463fb2.jpg  \n",
            "  inflating: +_2863_640_640_label_ACCIDENT_DETECTION.v1i.yolov7pytorch/valid/images/accidentFrame2739_jpg.rf.2aafc3407d4db8959766d4166e16c748.jpg  \n",
            "  inflating: __MACOSX/+_2863_640_640_label_ACCIDENT_DETECTION.v1i.yolov7pytorch/valid/images/._accidentFrame2739_jpg.rf.2aafc3407d4db8959766d4166e16c748.jpg  \n",
            "  inflating: +_2863_640_640_label_ACCIDENT_DETECTION.v1i.yolov7pytorch/valid/images/traffic_img1483_jpg.rf.0606949b1b6e3903252b75b18fe76fd5.jpg  \n",
            "  inflating: __MACOSX/+_2863_640_640_label_ACCIDENT_DETECTION.v1i.yolov7pytorch/valid/images/._traffic_img1483_jpg.rf.0606949b1b6e3903252b75b18fe76fd5.jpg  \n",
            "  inflating: +_2863_640_640_label_ACCIDENT_DETECTION.v1i.yolov7pytorch/valid/images/accidentFrame1195_jpg.rf.94d1f8711a464aaf3e81240b85b18c39.jpg  \n",
            "  inflating: __MACOSX/+_2863_640_640_label_ACCIDENT_DETECTION.v1i.yolov7pytorch/valid/images/._accidentFrame1195_jpg.rf.94d1f8711a464aaf3e81240b85b18c39.jpg  \n",
            "  inflating: +_2863_640_640_label_ACCIDENT_DETECTION.v1i.yolov7pytorch/valid/images/accidentFrame2740_jpg.rf.d6ca270f169af2fe588e729a845734d7.jpg  \n",
            "  inflating: __MACOSX/+_2863_640_640_label_ACCIDENT_DETECTION.v1i.yolov7pytorch/valid/images/._accidentFrame2740_jpg.rf.d6ca270f169af2fe588e729a845734d7.jpg  \n",
            "  inflating: +_2863_640_640_label_ACCIDENT_DETECTION.v1i.yolov7pytorch/valid/images/traffic_img1083_jpg.rf.df4183073d064d721240f92f03c99b15.jpg  \n",
            "  inflating: __MACOSX/+_2863_640_640_label_ACCIDENT_DETECTION.v1i.yolov7pytorch/valid/images/._traffic_img1083_jpg.rf.df4183073d064d721240f92f03c99b15.jpg  \n",
            "  inflating: +_2863_640_640_label_ACCIDENT_DETECTION.v1i.yolov7pytorch/valid/images/traffic_img23_jpg.rf.8a4747e6e6fd8c967093cd2170d80c72.jpg  \n",
            "  inflating: __MACOSX/+_2863_640_640_label_ACCIDENT_DETECTION.v1i.yolov7pytorch/valid/images/._traffic_img23_jpg.rf.8a4747e6e6fd8c967093cd2170d80c72.jpg  \n",
            "  inflating: +_2863_640_640_label_ACCIDENT_DETECTION.v1i.yolov7pytorch/valid/images/images-11_jpg.rf.c43de568316ad7ae46f74f171f1a022c.jpg  \n",
            "  inflating: __MACOSX/+_2863_640_640_label_ACCIDENT_DETECTION.v1i.yolov7pytorch/valid/images/._images-11_jpg.rf.c43de568316ad7ae46f74f171f1a022c.jpg  \n",
            "  inflating: +_2863_640_640_label_ACCIDENT_DETECTION.v1i.yolov7pytorch/valid/images/severityV2_9_jpg.rf.c8c2307ff5d2c130199cb27f1bb4721f.jpg  \n",
            "  inflating: __MACOSX/+_2863_640_640_label_ACCIDENT_DETECTION.v1i.yolov7pytorch/valid/images/._severityV2_9_jpg.rf.c8c2307ff5d2c130199cb27f1bb4721f.jpg  \n",
            "  inflating: +_2863_640_640_label_ACCIDENT_DETECTION.v1i.yolov7pytorch/valid/images/download-3_jpg.rf.18e1a068ac058d223dcb3729d027c98a.jpg  \n",
            "  inflating: __MACOSX/+_2863_640_640_label_ACCIDENT_DETECTION.v1i.yolov7pytorch/valid/images/._download-3_jpg.rf.18e1a068ac058d223dcb3729d027c98a.jpg  \n",
            "  inflating: +_2863_640_640_label_ACCIDENT_DETECTION.v1i.yolov7pytorch/valid/images/accidentFrame463_jpg.rf.52760cbe39ded0e77c4362463e6e9abd.jpg  \n",
            "  inflating: __MACOSX/+_2863_640_640_label_ACCIDENT_DETECTION.v1i.yolov7pytorch/valid/images/._accidentFrame463_jpg.rf.52760cbe39ded0e77c4362463e6e9abd.jpg  \n",
            "  inflating: +_2863_640_640_label_ACCIDENT_DETECTION.v1i.yolov7pytorch/valid/images/severityV4_26_jpg.rf.969c12c1ebb3cc67aee8b044e730cdb4.jpg  \n",
            "  inflating: __MACOSX/+_2863_640_640_label_ACCIDENT_DETECTION.v1i.yolov7pytorch/valid/images/._severityV4_26_jpg.rf.969c12c1ebb3cc67aee8b044e730cdb4.jpg  \n",
            "  inflating: +_2863_640_640_label_ACCIDENT_DETECTION.v1i.yolov7pytorch/valid/images/traffic_img1314_jpg.rf.c4a9d0452a91359e76d57c9bc78171e7.jpg  \n",
            "  inflating: __MACOSX/+_2863_640_640_label_ACCIDENT_DETECTION.v1i.yolov7pytorch/valid/images/._traffic_img1314_jpg.rf.c4a9d0452a91359e76d57c9bc78171e7.jpg  \n",
            "  inflating: +_2863_640_640_label_ACCIDENT_DETECTION.v1i.yolov7pytorch/valid/images/traffic_img915_jpg.rf.fbd586389f1af4c1e36110673389446a.jpg  \n",
            "  inflating: __MACOSX/+_2863_640_640_label_ACCIDENT_DETECTION.v1i.yolov7pytorch/valid/images/._traffic_img915_jpg.rf.fbd586389f1af4c1e36110673389446a.jpg  \n",
            "  inflating: +_2863_640_640_label_ACCIDENT_DETECTION.v1i.yolov7pytorch/valid/images/traffic_img1008_jpg.rf.d48f16d512fcf7dd720840518c3d0a3a.jpg  \n",
            "  inflating: __MACOSX/+_2863_640_640_label_ACCIDENT_DETECTION.v1i.yolov7pytorch/valid/images/._traffic_img1008_jpg.rf.d48f16d512fcf7dd720840518c3d0a3a.jpg  \n",
            "  inflating: +_2863_640_640_label_ACCIDENT_DETECTION.v1i.yolov7pytorch/valid/images/traffic_img1080_jpg.rf.34163506467f2499b58310612bcaee5a.jpg  \n",
            "  inflating: __MACOSX/+_2863_640_640_label_ACCIDENT_DETECTION.v1i.yolov7pytorch/valid/images/._traffic_img1080_jpg.rf.34163506467f2499b58310612bcaee5a.jpg  \n",
            "  inflating: +_2863_640_640_label_ACCIDENT_DETECTION.v1i.yolov7pytorch/valid/images/traffic_img781_jpg.rf.0af96100707cd09da9c35c4ad4664d9e.jpg  \n",
            "  inflating: __MACOSX/+_2863_640_640_label_ACCIDENT_DETECTION.v1i.yolov7pytorch/valid/images/._traffic_img781_jpg.rf.0af96100707cd09da9c35c4ad4664d9e.jpg  \n",
            "  inflating: +_2863_640_640_label_ACCIDENT_DETECTION.v1i.yolov7pytorch/valid/images/traffic_img2120_jpg.rf.23585da011499ff103d5a27cda261564.jpg  \n",
            "  inflating: __MACOSX/+_2863_640_640_label_ACCIDENT_DETECTION.v1i.yolov7pytorch/valid/images/._traffic_img2120_jpg.rf.23585da011499ff103d5a27cda261564.jpg  \n",
            "  inflating: +_2863_640_640_label_ACCIDENT_DETECTION.v1i.yolov7pytorch/valid/images/images-3_jpg.rf.9a202740d779ab9965b075877e09883e.jpg  \n",
            "  inflating: __MACOSX/+_2863_640_640_label_ACCIDENT_DETECTION.v1i.yolov7pytorch/valid/images/._images-3_jpg.rf.9a202740d779ab9965b075877e09883e.jpg  \n",
            "  inflating: +_2863_640_640_label_ACCIDENT_DETECTION.v1i.yolov7pytorch/valid/images/traffic_img1456_jpg.rf.5909e6c23e98b6efabc6a0bf5eff05e8.jpg  \n",
            "  inflating: __MACOSX/+_2863_640_640_label_ACCIDENT_DETECTION.v1i.yolov7pytorch/valid/images/._traffic_img1456_jpg.rf.5909e6c23e98b6efabc6a0bf5eff05e8.jpg  \n",
            "  inflating: +_2863_640_640_label_ACCIDENT_DETECTION.v1i.yolov7pytorch/valid/images/Severity_Detect_V17_jpg.rf.67dc1dc210de533bd25c9b02e3e46db7.jpg  \n",
            "  inflating: __MACOSX/+_2863_640_640_label_ACCIDENT_DETECTION.v1i.yolov7pytorch/valid/images/._Severity_Detect_V17_jpg.rf.67dc1dc210de533bd25c9b02e3e46db7.jpg  \n",
            "  inflating: +_2863_640_640_label_ACCIDENT_DETECTION.v1i.yolov7pytorch/valid/images/traffic_img1433_jpg.rf.9b3504a03dc49f34909ab172dd8353fa.jpg  \n",
            "  inflating: __MACOSX/+_2863_640_640_label_ACCIDENT_DETECTION.v1i.yolov7pytorch/valid/images/._traffic_img1433_jpg.rf.9b3504a03dc49f34909ab172dd8353fa.jpg  \n",
            "  inflating: +_2863_640_640_label_ACCIDENT_DETECTION.v1i.yolov7pytorch/valid/images/traffic_img1210_jpg.rf.864d75586ebefaa7131e19b53a4e8c1c.jpg  \n",
            "  inflating: __MACOSX/+_2863_640_640_label_ACCIDENT_DETECTION.v1i.yolov7pytorch/valid/images/._traffic_img1210_jpg.rf.864d75586ebefaa7131e19b53a4e8c1c.jpg  \n",
            "  inflating: +_2863_640_640_label_ACCIDENT_DETECTION.v1i.yolov7pytorch/valid/images/accidentFrame3417_jpg.rf.6de065af62d4d1b60c6699256bb480da.jpg  \n",
            "  inflating: __MACOSX/+_2863_640_640_label_ACCIDENT_DETECTION.v1i.yolov7pytorch/valid/images/._accidentFrame3417_jpg.rf.6de065af62d4d1b60c6699256bb480da.jpg  \n",
            "  inflating: +_2863_640_640_label_ACCIDENT_DETECTION.v1i.yolov7pytorch/valid/images/severityV4_11_jpg.rf.cc0e98e5b0f2ac9118bf16440258fa43.jpg  \n",
            "  inflating: __MACOSX/+_2863_640_640_label_ACCIDENT_DETECTION.v1i.yolov7pytorch/valid/images/._severityV4_11_jpg.rf.cc0e98e5b0f2ac9118bf16440258fa43.jpg  \n",
            "  inflating: +_2863_640_640_label_ACCIDENT_DETECTION.v1i.yolov7pytorch/valid/images/traffic_img104_jpg.rf.9cf2e936900a5dadc8f6ed385a32d574.jpg  \n",
            "  inflating: __MACOSX/+_2863_640_640_label_ACCIDENT_DETECTION.v1i.yolov7pytorch/valid/images/._traffic_img104_jpg.rf.9cf2e936900a5dadc8f6ed385a32d574.jpg  \n",
            "  inflating: +_2863_640_640_label_ACCIDENT_DETECTION.v1i.yolov7pytorch/valid/images/traffic_img690_jpg.rf.29de82466e68f9e74ca6d31505242f2d.jpg  \n",
            "  inflating: __MACOSX/+_2863_640_640_label_ACCIDENT_DETECTION.v1i.yolov7pytorch/valid/images/._traffic_img690_jpg.rf.29de82466e68f9e74ca6d31505242f2d.jpg  \n",
            "  inflating: +_2863_640_640_label_ACCIDENT_DETECTION.v1i.yolov7pytorch/valid/images/images-1_jpg.rf.96d84bfc97799bd7abfc7d8bb9622f15.jpg  \n",
            "  inflating: __MACOSX/+_2863_640_640_label_ACCIDENT_DETECTION.v1i.yolov7pytorch/valid/images/._images-1_jpg.rf.96d84bfc97799bd7abfc7d8bb9622f15.jpg  \n",
            "  inflating: +_2863_640_640_label_ACCIDENT_DETECTION.v1i.yolov7pytorch/valid/images/accidentFrame139_jpg.rf.7cb22b7fd1dcd248a7a79af432748963.jpg  \n",
            "  inflating: __MACOSX/+_2863_640_640_label_ACCIDENT_DETECTION.v1i.yolov7pytorch/valid/images/._accidentFrame139_jpg.rf.7cb22b7fd1dcd248a7a79af432748963.jpg  \n",
            "  inflating: +_2863_640_640_label_ACCIDENT_DETECTION.v1i.yolov7pytorch/valid/images/Semi-RealisticVD-63_jpg.rf.02fa793cbdfdab70fc845a8f871e400b.jpg  \n",
            "  inflating: __MACOSX/+_2863_640_640_label_ACCIDENT_DETECTION.v1i.yolov7pytorch/valid/images/._Semi-RealisticVD-63_jpg.rf.02fa793cbdfdab70fc845a8f871e400b.jpg  \n",
            "  inflating: +_2863_640_640_label_ACCIDENT_DETECTION.v1i.yolov7pytorch/valid/images/download-8_jpg.rf.58d5c0cd4c9b30a8d4bb104633820bb5.jpg  \n",
            "  inflating: __MACOSX/+_2863_640_640_label_ACCIDENT_DETECTION.v1i.yolov7pytorch/valid/images/._download-8_jpg.rf.58d5c0cd4c9b30a8d4bb104633820bb5.jpg  \n",
            "  inflating: +_2863_640_640_label_ACCIDENT_DETECTION.v1i.yolov7pytorch/valid/images/traffic_img619_jpg.rf.82c102877c98cab88fe3faf863b92905.jpg  \n",
            "  inflating: __MACOSX/+_2863_640_640_label_ACCIDENT_DETECTION.v1i.yolov7pytorch/valid/images/._traffic_img619_jpg.rf.82c102877c98cab88fe3faf863b92905.jpg  \n",
            "  inflating: +_2863_640_640_label_ACCIDENT_DETECTION.v1i.yolov7pytorch/valid/images/traffic_img419_jpg.rf.d8d08d79a2f34e08fa2b27fbd94bfeea.jpg  \n",
            "  inflating: __MACOSX/+_2863_640_640_label_ACCIDENT_DETECTION.v1i.yolov7pytorch/valid/images/._traffic_img419_jpg.rf.d8d08d79a2f34e08fa2b27fbd94bfeea.jpg  \n",
            "  inflating: +_2863_640_640_label_ACCIDENT_DETECTION.v1i.yolov7pytorch/valid/images/4-27_jpg.rf.8baa1a22a131ba07fe205fc933283f96.jpg  \n",
            "  inflating: __MACOSX/+_2863_640_640_label_ACCIDENT_DETECTION.v1i.yolov7pytorch/valid/images/._4-27_jpg.rf.8baa1a22a131ba07fe205fc933283f96.jpg  \n",
            "  inflating: +_2863_640_640_label_ACCIDENT_DETECTION.v1i.yolov7pytorch/valid/images/traffic_img1437_jpg.rf.fb5fa8ca08c075d354a01250b229866b.jpg  \n",
            "  inflating: __MACOSX/+_2863_640_640_label_ACCIDENT_DETECTION.v1i.yolov7pytorch/valid/images/._traffic_img1437_jpg.rf.fb5fa8ca08c075d354a01250b229866b.jpg  \n",
            "  inflating: +_2863_640_640_label_ACCIDENT_DETECTION.v1i.yolov7pytorch/valid/images/FLIP_CAR_V137_jpg.rf.35fd17744f7268635858136f22017937.jpg  \n",
            "  inflating: __MACOSX/+_2863_640_640_label_ACCIDENT_DETECTION.v1i.yolov7pytorch/valid/images/._FLIP_CAR_V137_jpg.rf.35fd17744f7268635858136f22017937.jpg  \n",
            "  inflating: +_2863_640_640_label_ACCIDENT_DETECTION.v1i.yolov7pytorch/valid/images/Semi-RealisticVD-49_jpg.rf.0cfcf1f77d00b8f66bdd8e0b211b5dec.jpg  \n",
            "  inflating: __MACOSX/+_2863_640_640_label_ACCIDENT_DETECTION.v1i.yolov7pytorch/valid/images/._Semi-RealisticVD-49_jpg.rf.0cfcf1f77d00b8f66bdd8e0b211b5dec.jpg  \n",
            "  inflating: +_2863_640_640_label_ACCIDENT_DETECTION.v1i.yolov7pytorch/valid/images/841_jpeg_jpg.rf.368918cc713818d558084090ef4a5e48.jpg  \n",
            "  inflating: __MACOSX/+_2863_640_640_label_ACCIDENT_DETECTION.v1i.yolov7pytorch/valid/images/._841_jpeg_jpg.rf.368918cc713818d558084090ef4a5e48.jpg  \n",
            "  inflating: +_2863_640_640_label_ACCIDENT_DETECTION.v1i.yolov7pytorch/valid/images/traffic_img952_jpg.rf.3c2f248b16141501b44ab8e723557f9f.jpg  \n",
            "  inflating: __MACOSX/+_2863_640_640_label_ACCIDENT_DETECTION.v1i.yolov7pytorch/valid/images/._traffic_img952_jpg.rf.3c2f248b16141501b44ab8e723557f9f.jpg  \n",
            "  inflating: +_2863_640_640_label_ACCIDENT_DETECTION.v1i.yolov7pytorch/valid/images/severV17_jpg.rf.41bb189b876fc50db3dfdd850397fd99.jpg  \n",
            "  inflating: __MACOSX/+_2863_640_640_label_ACCIDENT_DETECTION.v1i.yolov7pytorch/valid/images/._severV17_jpg.rf.41bb189b876fc50db3dfdd850397fd99.jpg  \n",
            "  inflating: +_2863_640_640_label_ACCIDENT_DETECTION.v1i.yolov7pytorch/valid/images/traffic_img282_jpg.rf.43748e06198f42ba3b41178a1bc12dca.jpg  \n",
            "  inflating: __MACOSX/+_2863_640_640_label_ACCIDENT_DETECTION.v1i.yolov7pytorch/valid/images/._traffic_img282_jpg.rf.43748e06198f42ba3b41178a1bc12dca.jpg  \n",
            "  inflating: +_2863_640_640_label_ACCIDENT_DETECTION.v1i.yolov7pytorch/valid/images/severityV4_45_jpg.rf.3245d48b7f0d089230f3b5a6c3ac8bbf.jpg  \n",
            "  inflating: __MACOSX/+_2863_640_640_label_ACCIDENT_DETECTION.v1i.yolov7pytorch/valid/images/._severityV4_45_jpg.rf.3245d48b7f0d089230f3b5a6c3ac8bbf.jpg  \n",
            "  inflating: +_2863_640_640_label_ACCIDENT_DETECTION.v1i.yolov7pytorch/valid/images/screen_images1_png_jpg.rf.dee976c8252d9228e0f31922fa2e0c8c.jpg  \n",
            "  inflating: __MACOSX/+_2863_640_640_label_ACCIDENT_DETECTION.v1i.yolov7pytorch/valid/images/._screen_images1_png_jpg.rf.dee976c8252d9228e0f31922fa2e0c8c.jpg  \n",
            "  inflating: +_2863_640_640_label_ACCIDENT_DETECTION.v1i.yolov7pytorch/valid/images/tt2_png_jpg.rf.d1fa0d78372c63e733275e62029a9d2a.jpg  \n",
            "  inflating: __MACOSX/+_2863_640_640_label_ACCIDENT_DETECTION.v1i.yolov7pytorch/valid/images/._tt2_png_jpg.rf.d1fa0d78372c63e733275e62029a9d2a.jpg  \n",
            "  inflating: +_2863_640_640_label_ACCIDENT_DETECTION.v1i.yolov7pytorch/valid/images/new_SD5_jpg.rf.b38ccbc7513a7d30de4992674549a39e.jpg  \n",
            "  inflating: __MACOSX/+_2863_640_640_label_ACCIDENT_DETECTION.v1i.yolov7pytorch/valid/images/._new_SD5_jpg.rf.b38ccbc7513a7d30de4992674549a39e.jpg  \n",
            "  inflating: +_2863_640_640_label_ACCIDENT_DETECTION.v1i.yolov7pytorch/valid/images/severV12_jpg.rf.548df6d09ad5e0ccb9032ab504dd1e6b.jpg  \n",
            "  inflating: __MACOSX/+_2863_640_640_label_ACCIDENT_DETECTION.v1i.yolov7pytorch/valid/images/._severV12_jpg.rf.548df6d09ad5e0ccb9032ab504dd1e6b.jpg  \n",
            "  inflating: +_2863_640_640_label_ACCIDENT_DETECTION.v1i.yolov7pytorch/valid/images/traffic_img1444_jpg.rf.145483837488455768555ad4b07540ed.jpg  \n",
            "  inflating: __MACOSX/+_2863_640_640_label_ACCIDENT_DETECTION.v1i.yolov7pytorch/valid/images/._traffic_img1444_jpg.rf.145483837488455768555ad4b07540ed.jpg  \n",
            "  inflating: +_2863_640_640_label_ACCIDENT_DETECTION.v1i.yolov7pytorch/valid/images/images-3_jpg.rf.3983adcabb84879e14f5d9132f327b12.jpg  \n",
            "  inflating: __MACOSX/+_2863_640_640_label_ACCIDENT_DETECTION.v1i.yolov7pytorch/valid/images/._images-3_jpg.rf.3983adcabb84879e14f5d9132f327b12.jpg  \n",
            "  inflating: +_2863_640_640_label_ACCIDENT_DETECTION.v1i.yolov7pytorch/valid/images/traffic_img1391_jpg.rf.9d0e0b1de95a7f220e4b318fd3bf6258.jpg  \n",
            "  inflating: __MACOSX/+_2863_640_640_label_ACCIDENT_DETECTION.v1i.yolov7pytorch/valid/images/._traffic_img1391_jpg.rf.9d0e0b1de95a7f220e4b318fd3bf6258.jpg  \n",
            "  inflating: +_2863_640_640_label_ACCIDENT_DETECTION.v1i.yolov7pytorch/valid/images/traffic_img617_jpg.rf.e25488f12617733b35669cb0123e1f81.jpg  \n",
            "  inflating: __MACOSX/+_2863_640_640_label_ACCIDENT_DETECTION.v1i.yolov7pytorch/valid/images/._traffic_img617_jpg.rf.e25488f12617733b35669cb0123e1f81.jpg  \n",
            "  inflating: +_2863_640_640_label_ACCIDENT_DETECTION.v1i.yolov7pytorch/valid/images/images-4_jpg.rf.919fd9251f2715b6c6847050c6e23c9b.jpg  \n",
            "  inflating: __MACOSX/+_2863_640_640_label_ACCIDENT_DETECTION.v1i.yolov7pytorch/valid/images/._images-4_jpg.rf.919fd9251f2715b6c6847050c6e23c9b.jpg  \n",
            "  inflating: +_2863_640_640_label_ACCIDENT_DETECTION.v1i.yolov7pytorch/valid/images/severityV2_33_jpg.rf.a102a042874552bf1e5347ba1e107af9.jpg  \n",
            "  inflating: __MACOSX/+_2863_640_640_label_ACCIDENT_DETECTION.v1i.yolov7pytorch/valid/images/._severityV2_33_jpg.rf.a102a042874552bf1e5347ba1e107af9.jpg  \n",
            "  inflating: +_2863_640_640_label_ACCIDENT_DETECTION.v1i.yolov7pytorch/valid/images/accidentFrame470_jpg.rf.839d48081608cab31a9d5947cf6e947b.jpg  \n",
            "  inflating: __MACOSX/+_2863_640_640_label_ACCIDENT_DETECTION.v1i.yolov7pytorch/valid/images/._accidentFrame470_jpg.rf.839d48081608cab31a9d5947cf6e947b.jpg  \n",
            "  inflating: +_2863_640_640_label_ACCIDENT_DETECTION.v1i.yolov7pytorch/valid/images/traffic_img194_jpg.rf.7e81e15e90d3333ac9b94154d8ff8f09.jpg  \n",
            "  inflating: __MACOSX/+_2863_640_640_label_ACCIDENT_DETECTION.v1i.yolov7pytorch/valid/images/._traffic_img194_jpg.rf.7e81e15e90d3333ac9b94154d8ff8f09.jpg  \n",
            "  inflating: +_2863_640_640_label_ACCIDENT_DETECTION.v1i.yolov7pytorch/valid/images/images-7_jpg.rf.57ddccb4a042e033ce7bfa6f206162f9.jpg  \n",
            "  inflating: __MACOSX/+_2863_640_640_label_ACCIDENT_DETECTION.v1i.yolov7pytorch/valid/images/._images-7_jpg.rf.57ddccb4a042e033ce7bfa6f206162f9.jpg  \n",
            "  inflating: +_2863_640_640_label_ACCIDENT_DETECTION.v1i.yolov7pytorch/valid/images/traffic_img1027_jpg.rf.57a8da38133a30b6c8ca027563b37d81.jpg  \n",
            "  inflating: __MACOSX/+_2863_640_640_label_ACCIDENT_DETECTION.v1i.yolov7pytorch/valid/images/._traffic_img1027_jpg.rf.57a8da38133a30b6c8ca027563b37d81.jpg  \n",
            "  inflating: +_2863_640_640_label_ACCIDENT_DETECTION.v1i.yolov7pytorch/valid/images/traffic_img620_jpg.rf.71684cb64178188e3810facd280105e6.jpg  \n",
            "  inflating: __MACOSX/+_2863_640_640_label_ACCIDENT_DETECTION.v1i.yolov7pytorch/valid/images/._traffic_img620_jpg.rf.71684cb64178188e3810facd280105e6.jpg  \n",
            "  inflating: +_2863_640_640_label_ACCIDENT_DETECTION.v1i.yolov7pytorch/valid/images/traffic_img28_jpg.rf.77a9446f61acf1773830ecf315fb23e4.jpg  \n",
            "  inflating: __MACOSX/+_2863_640_640_label_ACCIDENT_DETECTION.v1i.yolov7pytorch/valid/images/._traffic_img28_jpg.rf.77a9446f61acf1773830ecf315fb23e4.jpg  \n",
            "  inflating: +_2863_640_640_label_ACCIDENT_DETECTION.v1i.yolov7pytorch/valid/images/traffic_img863_jpg.rf.2c0d77274e6e4652ff068ccb743cb3eb.jpg  \n",
            "  inflating: __MACOSX/+_2863_640_640_label_ACCIDENT_DETECTION.v1i.yolov7pytorch/valid/images/._traffic_img863_jpg.rf.2c0d77274e6e4652ff068ccb743cb3eb.jpg  \n",
            "  inflating: +_2863_640_640_label_ACCIDENT_DETECTION.v1i.yolov7pytorch/valid/images/download-1_jpg.rf.5de528afc5a40a5ef7f8883f5c2c53d5.jpg  \n",
            "  inflating: __MACOSX/+_2863_640_640_label_ACCIDENT_DETECTION.v1i.yolov7pytorch/valid/images/._download-1_jpg.rf.5de528afc5a40a5ef7f8883f5c2c53d5.jpg  \n",
            "  inflating: +_2863_640_640_label_ACCIDENT_DETECTION.v1i.yolov7pytorch/valid/images/traffic_img1025_jpg.rf.b34cac719498981e910aa4cb2c18a554.jpg  \n",
            "  inflating: __MACOSX/+_2863_640_640_label_ACCIDENT_DETECTION.v1i.yolov7pytorch/valid/images/._traffic_img1025_jpg.rf.b34cac719498981e910aa4cb2c18a554.jpg  \n",
            "  inflating: +_2863_640_640_label_ACCIDENT_DETECTION.v1i.yolov7pytorch/valid/images/4-10_jpg.rf.843e2cfefb18eeed5761b9c116373dee.jpg  \n",
            "  inflating: __MACOSX/+_2863_640_640_label_ACCIDENT_DETECTION.v1i.yolov7pytorch/valid/images/._4-10_jpg.rf.843e2cfefb18eeed5761b9c116373dee.jpg  \n",
            "  inflating: +_2863_640_640_label_ACCIDENT_DETECTION.v1i.yolov7pytorch/valid/images/images-3_jpg.rf.3e5a76e3358f9067201af94ed429e708.jpg  \n",
            "  inflating: __MACOSX/+_2863_640_640_label_ACCIDENT_DETECTION.v1i.yolov7pytorch/valid/images/._images-3_jpg.rf.3e5a76e3358f9067201af94ed429e708.jpg  \n",
            "  inflating: +_2863_640_640_label_ACCIDENT_DETECTION.v1i.yolov7pytorch/valid/images/traffic_img420_jpg.rf.7849ea568da25997b8d7c81ce606298a.jpg  \n",
            "  inflating: __MACOSX/+_2863_640_640_label_ACCIDENT_DETECTION.v1i.yolov7pytorch/valid/images/._traffic_img420_jpg.rf.7849ea568da25997b8d7c81ce606298a.jpg  \n",
            "  inflating: +_2863_640_640_label_ACCIDENT_DETECTION.v1i.yolov7pytorch/valid/images/accidentFrame2755_jpg.rf.f4720d4a7bb2200b901a89c5096c7530.jpg  \n",
            "  inflating: __MACOSX/+_2863_640_640_label_ACCIDENT_DETECTION.v1i.yolov7pytorch/valid/images/._accidentFrame2755_jpg.rf.f4720d4a7bb2200b901a89c5096c7530.jpg  \n",
            "  inflating: +_2863_640_640_label_ACCIDENT_DETECTION.v1i.yolov7pytorch/valid/images/5895211_013120-skyeye-garbage-truck-vid_jpg.rf.139a31900239e88b4999f65abfe3d5b0.jpg  \n",
            "  inflating: __MACOSX/+_2863_640_640_label_ACCIDENT_DETECTION.v1i.yolov7pytorch/valid/images/._5895211_013120-skyeye-garbage-truck-vid_jpg.rf.139a31900239e88b4999f65abfe3d5b0.jpg  \n",
            "  inflating: +_2863_640_640_label_ACCIDENT_DETECTION.v1i.yolov7pytorch/valid/images/traffic_img1197_jpg.rf.bb03de4021dfaab37859e828b84f6e25.jpg  \n",
            "  inflating: __MACOSX/+_2863_640_640_label_ACCIDENT_DETECTION.v1i.yolov7pytorch/valid/images/._traffic_img1197_jpg.rf.bb03de4021dfaab37859e828b84f6e25.jpg  \n",
            "  inflating: +_2863_640_640_label_ACCIDENT_DETECTION.v1i.yolov7pytorch/valid/images/images_jpg.rf.8643c992c0fb3a87ffa05d375f5cf334.jpg  \n",
            "  inflating: __MACOSX/+_2863_640_640_label_ACCIDENT_DETECTION.v1i.yolov7pytorch/valid/images/._images_jpg.rf.8643c992c0fb3a87ffa05d375f5cf334.jpg  \n",
            "  inflating: +_2863_640_640_label_ACCIDENT_DETECTION.v1i.yolov7pytorch/valid/images/severityV2_28_jpg.rf.0c75b44b0d54cd2e3fdc768b64eae1c3.jpg  \n",
            "  inflating: __MACOSX/+_2863_640_640_label_ACCIDENT_DETECTION.v1i.yolov7pytorch/valid/images/._severityV2_28_jpg.rf.0c75b44b0d54cd2e3fdc768b64eae1c3.jpg  \n",
            "  inflating: +_2863_640_640_label_ACCIDENT_DETECTION.v1i.yolov7pytorch/valid/images/download_jpg.rf.94c9992bee1f98805fdb511cbd75870b.jpg  \n",
            "  inflating: __MACOSX/+_2863_640_640_label_ACCIDENT_DETECTION.v1i.yolov7pytorch/valid/images/._download_jpg.rf.94c9992bee1f98805fdb511cbd75870b.jpg  \n",
            "  inflating: +_2863_640_640_label_ACCIDENT_DETECTION.v1i.yolov7pytorch/valid/images/traffic_img871_jpg.rf.bef91f8a2c773d59d5f54660690a7d56.jpg  \n",
            "  inflating: __MACOSX/+_2863_640_640_label_ACCIDENT_DETECTION.v1i.yolov7pytorch/valid/images/._traffic_img871_jpg.rf.bef91f8a2c773d59d5f54660690a7d56.jpg  \n",
            "  inflating: +_2863_640_640_label_ACCIDENT_DETECTION.v1i.yolov7pytorch/valid/images/traffic_img1026_jpg.rf.8575ee5de4a8774e2041c1b135df6881.jpg  \n",
            "  inflating: __MACOSX/+_2863_640_640_label_ACCIDENT_DETECTION.v1i.yolov7pytorch/valid/images/._traffic_img1026_jpg.rf.8575ee5de4a8774e2041c1b135df6881.jpg  \n",
            "  inflating: +_2863_640_640_label_ACCIDENT_DETECTION.v1i.yolov7pytorch/valid/images/861_jpeg_jpg.rf.0890d91f91deb12a6c0274cd01ffe7b3.jpg  \n",
            "  inflating: __MACOSX/+_2863_640_640_label_ACCIDENT_DETECTION.v1i.yolov7pytorch/valid/images/._861_jpeg_jpg.rf.0890d91f91deb12a6c0274cd01ffe7b3.jpg  \n",
            "  inflating: +_2863_640_640_label_ACCIDENT_DETECTION.v1i.yolov7pytorch/valid/images/severity_V12_jpg.rf.c1a09c6920dd09b27014d7cf4b2d952d.jpg  \n",
            "  inflating: __MACOSX/+_2863_640_640_label_ACCIDENT_DETECTION.v1i.yolov7pytorch/valid/images/._severity_V12_jpg.rf.c1a09c6920dd09b27014d7cf4b2d952d.jpg  \n",
            "  inflating: +_2863_640_640_label_ACCIDENT_DETECTION.v1i.yolov7pytorch/valid/images/traffic_img25_jpg.rf.8bb3a50741b2172629a91f6d288e39df.jpg  \n",
            "  inflating: __MACOSX/+_2863_640_640_label_ACCIDENT_DETECTION.v1i.yolov7pytorch/valid/images/._traffic_img25_jpg.rf.8bb3a50741b2172629a91f6d288e39df.jpg  \n",
            "  inflating: +_2863_640_640_label_ACCIDENT_DETECTION.v1i.yolov7pytorch/valid/images/severity_V112_jpg.rf.7f1fa60e902b9d10a989de8624370dbf.jpg  \n",
            "  inflating: __MACOSX/+_2863_640_640_label_ACCIDENT_DETECTION.v1i.yolov7pytorch/valid/images/._severity_V112_jpg.rf.7f1fa60e902b9d10a989de8624370dbf.jpg  \n",
            "  inflating: +_2863_640_640_label_ACCIDENT_DETECTION.v1i.yolov7pytorch/valid/images/traffic_img1468_jpg.rf.22a4206b325614b4f0d0e5a66de05b37.jpg  \n",
            "  inflating: __MACOSX/+_2863_640_640_label_ACCIDENT_DETECTION.v1i.yolov7pytorch/valid/images/._traffic_img1468_jpg.rf.22a4206b325614b4f0d0e5a66de05b37.jpg  \n",
            "  inflating: +_2863_640_640_label_ACCIDENT_DETECTION.v1i.yolov7pytorch/valid/images/traffic_img1773_jpg.rf.b921cbb3e270d8b32471e3cb81dcd898.jpg  \n",
            "  inflating: __MACOSX/+_2863_640_640_label_ACCIDENT_DETECTION.v1i.yolov7pytorch/valid/images/._traffic_img1773_jpg.rf.b921cbb3e270d8b32471e3cb81dcd898.jpg  \n",
            "  inflating: +_2863_640_640_label_ACCIDENT_DETECTION.v1i.yolov7pytorch/valid/images/traffic_img1472_jpg.rf.00e9446892c9fa5ff5eed7c02910e984.jpg  \n",
            "  inflating: __MACOSX/+_2863_640_640_label_ACCIDENT_DETECTION.v1i.yolov7pytorch/valid/images/._traffic_img1472_jpg.rf.00e9446892c9fa5ff5eed7c02910e984.jpg  \n",
            "  inflating: +_2863_640_640_label_ACCIDENT_DETECTION.v1i.yolov7pytorch/valid/images/traffic_img2052_jpg.rf.c399f19b9d24be69ac040bc8baaa08ae.jpg  \n",
            "  inflating: __MACOSX/+_2863_640_640_label_ACCIDENT_DETECTION.v1i.yolov7pytorch/valid/images/._traffic_img2052_jpg.rf.c399f19b9d24be69ac040bc8baaa08ae.jpg  \n",
            "  inflating: +_2863_640_640_label_ACCIDENT_DETECTION.v1i.yolov7pytorch/valid/images/traffic_img925_jpg.rf.02c2a7eed1c967e4b45eafecc13b850b.jpg  \n",
            "  inflating: __MACOSX/+_2863_640_640_label_ACCIDENT_DETECTION.v1i.yolov7pytorch/valid/images/._traffic_img925_jpg.rf.02c2a7eed1c967e4b45eafecc13b850b.jpg  \n",
            "  inflating: +_2863_640_640_label_ACCIDENT_DETECTION.v1i.yolov7pytorch/valid/images/traffic_img215_jpg.rf.b789a7c51139b1cec53f3e0683fbe588.jpg  \n",
            "  inflating: __MACOSX/+_2863_640_640_label_ACCIDENT_DETECTION.v1i.yolov7pytorch/valid/images/._traffic_img215_jpg.rf.b789a7c51139b1cec53f3e0683fbe588.jpg  \n",
            "  inflating: +_2863_640_640_label_ACCIDENT_DETECTION.v1i.yolov7pytorch/valid/images/maxresdefault_jpg.rf.f8eb5dce29017ab2b64943a081ac7a9c.jpg  \n",
            "  inflating: __MACOSX/+_2863_640_640_label_ACCIDENT_DETECTION.v1i.yolov7pytorch/valid/images/._maxresdefault_jpg.rf.f8eb5dce29017ab2b64943a081ac7a9c.jpg  \n",
            "  inflating: +_2863_640_640_label_ACCIDENT_DETECTION.v1i.yolov7pytorch/valid/images/severity_V136_jpg.rf.04a0aa09d083313868d48c8660125043.jpg  \n",
            "  inflating: __MACOSX/+_2863_640_640_label_ACCIDENT_DETECTION.v1i.yolov7pytorch/valid/images/._severity_V136_jpg.rf.04a0aa09d083313868d48c8660125043.jpg  \n",
            "  inflating: +_2863_640_640_label_ACCIDENT_DETECTION.v1i.yolov7pytorch/valid/images/severityV3_39_jpeg_jpg.rf.6692bb5c9033f52fef6580df1b640cdd.jpg  \n",
            "  inflating: __MACOSX/+_2863_640_640_label_ACCIDENT_DETECTION.v1i.yolov7pytorch/valid/images/._severityV3_39_jpeg_jpg.rf.6692bb5c9033f52fef6580df1b640cdd.jpg  \n",
            "  inflating: +_2863_640_640_label_ACCIDENT_DETECTION.v1i.yolov7pytorch/valid/images/1-36_jpg.rf.df18ca07c4eb4e5214327222502fc64a.jpg  \n",
            "  inflating: __MACOSX/+_2863_640_640_label_ACCIDENT_DETECTION.v1i.yolov7pytorch/valid/images/._1-36_jpg.rf.df18ca07c4eb4e5214327222502fc64a.jpg  \n",
            "  inflating: +_2863_640_640_label_ACCIDENT_DETECTION.v1i.yolov7pytorch/valid/images/severityV3_14_jpeg_jpg.rf.4d507b571b393523163ba445f0f34bcc.jpg  \n",
            "  inflating: __MACOSX/+_2863_640_640_label_ACCIDENT_DETECTION.v1i.yolov7pytorch/valid/images/._severityV3_14_jpeg_jpg.rf.4d507b571b393523163ba445f0f34bcc.jpg  \n",
            "  inflating: +_2863_640_640_label_ACCIDENT_DETECTION.v1i.yolov7pytorch/valid/images/images-4_jpg.rf.1fec764c01db0861deead98321c64da3.jpg  \n",
            "  inflating: __MACOSX/+_2863_640_640_label_ACCIDENT_DETECTION.v1i.yolov7pytorch/valid/images/._images-4_jpg.rf.1fec764c01db0861deead98321c64da3.jpg  \n",
            "  inflating: +_2863_640_640_label_ACCIDENT_DETECTION.v1i.yolov7pytorch/valid/images/VA12_jpeg_jpg.rf.6507c1f29cf19dfb446dd2019aac2c2c.jpg  \n",
            "  inflating: __MACOSX/+_2863_640_640_label_ACCIDENT_DETECTION.v1i.yolov7pytorch/valid/images/._VA12_jpeg_jpg.rf.6507c1f29cf19dfb446dd2019aac2c2c.jpg  \n",
            "  inflating: +_2863_640_640_label_ACCIDENT_DETECTION.v1i.yolov7pytorch/valid/images/traffic_img839_jpg.rf.71e20b4e3b99c36aadb4700947d08222.jpg  \n",
            "  inflating: __MACOSX/+_2863_640_640_label_ACCIDENT_DETECTION.v1i.yolov7pytorch/valid/images/._traffic_img839_jpg.rf.71e20b4e3b99c36aadb4700947d08222.jpg  \n",
            "  inflating: +_2863_640_640_label_ACCIDENT_DETECTION.v1i.yolov7pytorch/valid/images/traffic_img1578_jpg.rf.ada32058874001ba23152add9ae5b564.jpg  \n",
            "  inflating: __MACOSX/+_2863_640_640_label_ACCIDENT_DETECTION.v1i.yolov7pytorch/valid/images/._traffic_img1578_jpg.rf.ada32058874001ba23152add9ae5b564.jpg  \n",
            "  inflating: +_2863_640_640_label_ACCIDENT_DETECTION.v1i.yolov7pytorch/valid/images/traffic_img1255_jpg.rf.e37fcd3aaf0c90933534e75b6da2c2e2.jpg  \n",
            "  inflating: __MACOSX/+_2863_640_640_label_ACCIDENT_DETECTION.v1i.yolov7pytorch/valid/images/._traffic_img1255_jpg.rf.e37fcd3aaf0c90933534e75b6da2c2e2.jpg  \n",
            "  inflating: +_2863_640_640_label_ACCIDENT_DETECTION.v1i.yolov7pytorch/valid/images/traffic_img175_jpg.rf.89cf166a891379c2f2db9c10c2361b47.jpg  \n",
            "  inflating: __MACOSX/+_2863_640_640_label_ACCIDENT_DETECTION.v1i.yolov7pytorch/valid/images/._traffic_img175_jpg.rf.89cf166a891379c2f2db9c10c2361b47.jpg  \n",
            "  inflating: +_2863_640_640_label_ACCIDENT_DETECTION.v1i.yolov7pytorch/valid/images/traffic_img754_jpg.rf.891c1fa7b319cfaceb918ffabc650f09.jpg  \n",
            "  inflating: __MACOSX/+_2863_640_640_label_ACCIDENT_DETECTION.v1i.yolov7pytorch/valid/images/._traffic_img754_jpg.rf.891c1fa7b319cfaceb918ffabc650f09.jpg  \n",
            "  inflating: +_2863_640_640_label_ACCIDENT_DETECTION.v1i.yolov7pytorch/valid/images/traffic_img421_jpg.rf.02ebd1b08a9b7331162035180c6c38d5.jpg  \n",
            "  inflating: __MACOSX/+_2863_640_640_label_ACCIDENT_DETECTION.v1i.yolov7pytorch/valid/images/._traffic_img421_jpg.rf.02ebd1b08a9b7331162035180c6c38d5.jpg  \n",
            "  inflating: +_2863_640_640_label_ACCIDENT_DETECTION.v1i.yolov7pytorch/valid/images/traffic_img117_jpg.rf.3d346b6617a22070348c7a2a6261e315.jpg  \n",
            "  inflating: __MACOSX/+_2863_640_640_label_ACCIDENT_DETECTION.v1i.yolov7pytorch/valid/images/._traffic_img117_jpg.rf.3d346b6617a22070348c7a2a6261e315.jpg  \n",
            "  inflating: +_2863_640_640_label_ACCIDENT_DETECTION.v1i.yolov7pytorch/valid/images/severity_V131_jpg.rf.9a1e97b6c1567a72f105d3052b6030b6.jpg  \n",
            "  inflating: __MACOSX/+_2863_640_640_label_ACCIDENT_DETECTION.v1i.yolov7pytorch/valid/images/._severity_V131_jpg.rf.9a1e97b6c1567a72f105d3052b6030b6.jpg  \n",
            "  inflating: +_2863_640_640_label_ACCIDENT_DETECTION.v1i.yolov7pytorch/valid/images/severityV4_33_jpg.rf.d0e211439481d5829654c9683d655701.jpg  \n",
            "  inflating: __MACOSX/+_2863_640_640_label_ACCIDENT_DETECTION.v1i.yolov7pytorch/valid/images/._severityV4_33_jpg.rf.d0e211439481d5829654c9683d655701.jpg  \n",
            "  inflating: +_2863_640_640_label_ACCIDENT_DETECTION.v1i.yolov7pytorch/valid/images/images-2_jpg.rf.3e9b46a3aeb8439e9829ee2db6f1b0a6.jpg  \n",
            "  inflating: __MACOSX/+_2863_640_640_label_ACCIDENT_DETECTION.v1i.yolov7pytorch/valid/images/._images-2_jpg.rf.3e9b46a3aeb8439e9829ee2db6f1b0a6.jpg  \n",
            "  inflating: +_2863_640_640_label_ACCIDENT_DETECTION.v1i.yolov7pytorch/valid/images/traffic_img94_jpg.rf.e2d6dca2d88740f73960cb79cb94acda.jpg  \n",
            "  inflating: __MACOSX/+_2863_640_640_label_ACCIDENT_DETECTION.v1i.yolov7pytorch/valid/images/._traffic_img94_jpg.rf.e2d6dca2d88740f73960cb79cb94acda.jpg  \n",
            "  inflating: +_2863_640_640_label_ACCIDENT_DETECTION.v1i.yolov7pytorch/valid/images/traffic_img916_jpg.rf.4542d377a087461af78af83ab8f63f3a.jpg  \n",
            "  inflating: __MACOSX/+_2863_640_640_label_ACCIDENT_DETECTION.v1i.yolov7pytorch/valid/images/._traffic_img916_jpg.rf.4542d377a087461af78af83ab8f63f3a.jpg  \n",
            "  inflating: +_2863_640_640_label_ACCIDENT_DETECTION.v1i.yolov7pytorch/valid/images/Semi-RealisticVD-31_jpg.rf.7437cb84108551a9dc8e53d1bc8372b1.jpg  \n",
            "  inflating: __MACOSX/+_2863_640_640_label_ACCIDENT_DETECTION.v1i.yolov7pytorch/valid/images/._Semi-RealisticVD-31_jpg.rf.7437cb84108551a9dc8e53d1bc8372b1.jpg  \n",
            "  inflating: +_2863_640_640_label_ACCIDENT_DETECTION.v1i.yolov7pytorch/valid/images/images-8_jpg.rf.91ff422998fdcacbbad140b56245b26e.jpg  \n",
            "  inflating: __MACOSX/+_2863_640_640_label_ACCIDENT_DETECTION.v1i.yolov7pytorch/valid/images/._images-8_jpg.rf.91ff422998fdcacbbad140b56245b26e.jpg  \n",
            "  inflating: +_2863_640_640_label_ACCIDENT_DETECTION.v1i.yolov7pytorch/valid/images/traffic_img1313_jpg.rf.37bb51df4967ba771a19cac20cbe236c.jpg  \n",
            "  inflating: __MACOSX/+_2863_640_640_label_ACCIDENT_DETECTION.v1i.yolov7pytorch/valid/images/._traffic_img1313_jpg.rf.37bb51df4967ba771a19cac20cbe236c.jpg  \n",
            "  inflating: +_2863_640_640_label_ACCIDENT_DETECTION.v1i.yolov7pytorch/valid/images/traffic_img1318_jpg.rf.db8e6410f6b735d1db20a70c529001e9.jpg  \n",
            "  inflating: __MACOSX/+_2863_640_640_label_ACCIDENT_DETECTION.v1i.yolov7pytorch/valid/images/._traffic_img1318_jpg.rf.db8e6410f6b735d1db20a70c529001e9.jpg  \n",
            "  inflating: +_2863_640_640_label_ACCIDENT_DETECTION.v1i.yolov7pytorch/valid/images/Semi-RealisticVD-29_jpg.rf.78d0c53e4ab236611fe7a691c886f299.jpg  \n",
            "  inflating: __MACOSX/+_2863_640_640_label_ACCIDENT_DETECTION.v1i.yolov7pytorch/valid/images/._Semi-RealisticVD-29_jpg.rf.78d0c53e4ab236611fe7a691c886f299.jpg  \n",
            "  inflating: +_2863_640_640_label_ACCIDENT_DETECTION.v1i.yolov7pytorch/valid/labels/traffic_img1558_jpg.rf.ecea9c24463feb290f40eb0442138399.txt  \n",
            "  inflating: __MACOSX/+_2863_640_640_label_ACCIDENT_DETECTION.v1i.yolov7pytorch/valid/labels/._traffic_img1558_jpg.rf.ecea9c24463feb290f40eb0442138399.txt  \n",
            "  inflating: +_2863_640_640_label_ACCIDENT_DETECTION.v1i.yolov7pytorch/valid/labels/tt1-v3_jpg.rf.01e5d919383edfb6ffa92060dd3d1112.txt  \n",
            "  inflating: __MACOSX/+_2863_640_640_label_ACCIDENT_DETECTION.v1i.yolov7pytorch/valid/labels/._tt1-v3_jpg.rf.01e5d919383edfb6ffa92060dd3d1112.txt  \n",
            "  inflating: +_2863_640_640_label_ACCIDENT_DETECTION.v1i.yolov7pytorch/valid/labels/traffic_img1560_jpg.rf.cab74145803690fbe4f12406cd739623.txt  \n",
            "  inflating: __MACOSX/+_2863_640_640_label_ACCIDENT_DETECTION.v1i.yolov7pytorch/valid/labels/._traffic_img1560_jpg.rf.cab74145803690fbe4f12406cd739623.txt  \n",
            "  inflating: +_2863_640_640_label_ACCIDENT_DETECTION.v1i.yolov7pytorch/valid/labels/traffic_img864_jpg.rf.4efe9312625f2863f63f0eb129ebc10b.txt  \n",
            "  inflating: __MACOSX/+_2863_640_640_label_ACCIDENT_DETECTION.v1i.yolov7pytorch/valid/labels/._traffic_img864_jpg.rf.4efe9312625f2863f63f0eb129ebc10b.txt  \n",
            "  inflating: +_2863_640_640_label_ACCIDENT_DETECTION.v1i.yolov7pytorch/valid/labels/traffic_img1319_jpg.rf.a1c3feb83fc158fce5fd7c2eb1a2c37d.txt  \n",
            "  inflating: __MACOSX/+_2863_640_640_label_ACCIDENT_DETECTION.v1i.yolov7pytorch/valid/labels/._traffic_img1319_jpg.rf.a1c3feb83fc158fce5fd7c2eb1a2c37d.txt  \n",
            "  inflating: +_2863_640_640_label_ACCIDENT_DETECTION.v1i.yolov7pytorch/valid/labels/traffic_img2123_jpg.rf.a9864a3645eeb6ef7a7d495a02278b63.txt  \n",
            "  inflating: __MACOSX/+_2863_640_640_label_ACCIDENT_DETECTION.v1i.yolov7pytorch/valid/labels/._traffic_img2123_jpg.rf.a9864a3645eeb6ef7a7d495a02278b63.txt  \n",
            "  inflating: +_2863_640_640_label_ACCIDENT_DETECTION.v1i.yolov7pytorch/valid/labels/traffic_img1003_jpg.rf.57c39dd82889d8477033ff09ffb3e5dd.txt  \n",
            "  inflating: __MACOSX/+_2863_640_640_label_ACCIDENT_DETECTION.v1i.yolov7pytorch/valid/labels/._traffic_img1003_jpg.rf.57c39dd82889d8477033ff09ffb3e5dd.txt  \n",
            "  inflating: +_2863_640_640_label_ACCIDENT_DETECTION.v1i.yolov7pytorch/valid/labels/severityV2_19_jpg.rf.aeebfa40afa0aa29cff94077bcbbdab4.txt  \n",
            "  inflating: __MACOSX/+_2863_640_640_label_ACCIDENT_DETECTION.v1i.yolov7pytorch/valid/labels/._severityV2_19_jpg.rf.aeebfa40afa0aa29cff94077bcbbdab4.txt  \n",
            "  inflating: +_2863_640_640_label_ACCIDENT_DETECTION.v1i.yolov7pytorch/valid/labels/traffic_img616_jpg.rf.8361a547514c5dac1794864d778b7549.txt  \n",
            "  inflating: __MACOSX/+_2863_640_640_label_ACCIDENT_DETECTION.v1i.yolov7pytorch/valid/labels/._traffic_img616_jpg.rf.8361a547514c5dac1794864d778b7549.txt  \n",
            "  inflating: +_2863_640_640_label_ACCIDENT_DETECTION.v1i.yolov7pytorch/valid/labels/traffic_img174_jpg.rf.196265236750c5f6fe977791c68e6ca3.txt  \n",
            "  inflating: __MACOSX/+_2863_640_640_label_ACCIDENT_DETECTION.v1i.yolov7pytorch/valid/labels/._traffic_img174_jpg.rf.196265236750c5f6fe977791c68e6ca3.txt  \n",
            "  inflating: +_2863_640_640_label_ACCIDENT_DETECTION.v1i.yolov7pytorch/valid/labels/1080_jpeg_jpg.rf.0f6f2a632ae178c72a07dfcf82c1ce71.txt  \n",
            "  inflating: __MACOSX/+_2863_640_640_label_ACCIDENT_DETECTION.v1i.yolov7pytorch/valid/labels/._1080_jpeg_jpg.rf.0f6f2a632ae178c72a07dfcf82c1ce71.txt  \n",
            "  inflating: +_2863_640_640_label_ACCIDENT_DETECTION.v1i.yolov7pytorch/valid/labels/accidentFrame127_jpg.rf.db9a11f73b6d582d2e83f571850467d2.txt  \n",
            "  inflating: __MACOSX/+_2863_640_640_label_ACCIDENT_DETECTION.v1i.yolov7pytorch/valid/labels/._accidentFrame127_jpg.rf.db9a11f73b6d582d2e83f571850467d2.txt  \n",
            "  inflating: +_2863_640_640_label_ACCIDENT_DETECTION.v1i.yolov7pytorch/valid/labels/traffic_img1476_jpg.rf.15f636bb7cb96ef00f1de9310e84d38e.txt  \n",
            "  inflating: __MACOSX/+_2863_640_640_label_ACCIDENT_DETECTION.v1i.yolov7pytorch/valid/labels/._traffic_img1476_jpg.rf.15f636bb7cb96ef00f1de9310e84d38e.txt  \n",
            "  inflating: +_2863_640_640_label_ACCIDENT_DETECTION.v1i.yolov7pytorch/valid/labels/traffic_img1825_jpg.rf.7ab2e913b770d4bb9e34a7bdbd37746e.txt  \n",
            "  inflating: __MACOSX/+_2863_640_640_label_ACCIDENT_DETECTION.v1i.yolov7pytorch/valid/labels/._traffic_img1825_jpg.rf.7ab2e913b770d4bb9e34a7bdbd37746e.txt  \n",
            "  inflating: +_2863_640_640_label_ACCIDENT_DETECTION.v1i.yolov7pytorch/valid/labels/severe16_jpeg_jpg.rf.aa011dbdc6ced3c8c86c0bf0bfe270e9.txt  \n",
            "  inflating: __MACOSX/+_2863_640_640_label_ACCIDENT_DETECTION.v1i.yolov7pytorch/valid/labels/._severe16_jpeg_jpg.rf.aa011dbdc6ced3c8c86c0bf0bfe270e9.txt  \n",
            "  inflating: +_2863_640_640_label_ACCIDENT_DETECTION.v1i.yolov7pytorch/valid/labels/traffic_img972_jpg.rf.1b5c857ea15e97b61a4e5da0cce1e0b5.txt  \n",
            "  inflating: __MACOSX/+_2863_640_640_label_ACCIDENT_DETECTION.v1i.yolov7pytorch/valid/labels/._traffic_img972_jpg.rf.1b5c857ea15e97b61a4e5da0cce1e0b5.txt  \n",
            "  inflating: +_2863_640_640_label_ACCIDENT_DETECTION.v1i.yolov7pytorch/valid/labels/traffic_img1155_jpg.rf.33169a86ccc6e0b6e2fd620e1a40c995.txt  \n",
            "  inflating: __MACOSX/+_2863_640_640_label_ACCIDENT_DETECTION.v1i.yolov7pytorch/valid/labels/._traffic_img1155_jpg.rf.33169a86ccc6e0b6e2fd620e1a40c995.txt  \n",
            "  inflating: +_2863_640_640_label_ACCIDENT_DETECTION.v1i.yolov7pytorch/valid/labels/accidentFrame121_jpg.rf.b5ca02df6397f105d80d5c8343052230.txt  \n",
            "  inflating: __MACOSX/+_2863_640_640_label_ACCIDENT_DETECTION.v1i.yolov7pytorch/valid/labels/._accidentFrame121_jpg.rf.b5ca02df6397f105d80d5c8343052230.txt  \n",
            "  inflating: +_2863_640_640_label_ACCIDENT_DETECTION.v1i.yolov7pytorch/valid/labels/accidentFrame3947_jpg.rf.9c011bcf858bd563ca7222ca22b66d31.txt  \n",
            "  inflating: __MACOSX/+_2863_640_640_label_ACCIDENT_DETECTION.v1i.yolov7pytorch/valid/labels/._accidentFrame3947_jpg.rf.9c011bcf858bd563ca7222ca22b66d31.txt  \n",
            "  inflating: +_2863_640_640_label_ACCIDENT_DETECTION.v1i.yolov7pytorch/valid/labels/traffic_img1764_jpg.rf.cd61f5d995a437f1f7dbf8273f254596.txt  \n",
            "  inflating: __MACOSX/+_2863_640_640_label_ACCIDENT_DETECTION.v1i.yolov7pytorch/valid/labels/._traffic_img1764_jpg.rf.cd61f5d995a437f1f7dbf8273f254596.txt  \n",
            "  inflating: +_2863_640_640_label_ACCIDENT_DETECTION.v1i.yolov7pytorch/valid/labels/traffic_img1115_jpg.rf.3e358f5cfa989c66568a2f9024994def.txt  \n",
            "  inflating: __MACOSX/+_2863_640_640_label_ACCIDENT_DETECTION.v1i.yolov7pytorch/valid/labels/._traffic_img1115_jpg.rf.3e358f5cfa989c66568a2f9024994def.txt  \n",
            "  inflating: +_2863_640_640_label_ACCIDENT_DETECTION.v1i.yolov7pytorch/valid/labels/traffic_img870_jpg.rf.17e50da38512ba6e4ef75ea617ee7442.txt  \n",
            "  inflating: __MACOSX/+_2863_640_640_label_ACCIDENT_DETECTION.v1i.yolov7pytorch/valid/labels/._traffic_img870_jpg.rf.17e50da38512ba6e4ef75ea617ee7442.txt  \n",
            "  inflating: +_2863_640_640_label_ACCIDENT_DETECTION.v1i.yolov7pytorch/valid/labels/traffic_img155_jpg.rf.9c6d9a7400cb8015e082147e0a9fd1cd.txt  \n",
            "  inflating: __MACOSX/+_2863_640_640_label_ACCIDENT_DETECTION.v1i.yolov7pytorch/valid/labels/._traffic_img155_jpg.rf.9c6d9a7400cb8015e082147e0a9fd1cd.txt  \n",
            "  inflating: +_2863_640_640_label_ACCIDENT_DETECTION.v1i.yolov7pytorch/valid/labels/traffic_img1091_jpg.rf.ef67f033d3c012094fdaf1c993e5b389.txt  \n",
            "  inflating: __MACOSX/+_2863_640_640_label_ACCIDENT_DETECTION.v1i.yolov7pytorch/valid/labels/._traffic_img1091_jpg.rf.ef67f033d3c012094fdaf1c993e5b389.txt  \n",
            "  inflating: +_2863_640_640_label_ACCIDENT_DETECTION.v1i.yolov7pytorch/valid/labels/10-134_jpg.rf.9c40666ec0d5061f6cd4851967d33ca2.txt  \n",
            "  inflating: __MACOSX/+_2863_640_640_label_ACCIDENT_DETECTION.v1i.yolov7pytorch/valid/labels/._10-134_jpg.rf.9c40666ec0d5061f6cd4851967d33ca2.txt  \n",
            "  inflating: +_2863_640_640_label_ACCIDENT_DETECTION.v1i.yolov7pytorch/valid/labels/traffic_img118_jpg.rf.95ccc2761fbfb8f3a49808c8b7537e77.txt  \n",
            "  inflating: __MACOSX/+_2863_640_640_label_ACCIDENT_DETECTION.v1i.yolov7pytorch/valid/labels/._traffic_img118_jpg.rf.95ccc2761fbfb8f3a49808c8b7537e77.txt  \n",
            "  inflating: +_2863_640_640_label_ACCIDENT_DETECTION.v1i.yolov7pytorch/valid/labels/traffic_img780_jpg.rf.3a06a7f8bc1323758adef6e2062a530b.txt  \n",
            "  inflating: __MACOSX/+_2863_640_640_label_ACCIDENT_DETECTION.v1i.yolov7pytorch/valid/labels/._traffic_img780_jpg.rf.3a06a7f8bc1323758adef6e2062a530b.txt  \n",
            "  inflating: +_2863_640_640_label_ACCIDENT_DETECTION.v1i.yolov7pytorch/valid/labels/traffic_img27_jpg.rf.125711488249786caa87da9140f15198.txt  \n",
            "  inflating: __MACOSX/+_2863_640_640_label_ACCIDENT_DETECTION.v1i.yolov7pytorch/valid/labels/._traffic_img27_jpg.rf.125711488249786caa87da9140f15198.txt  \n",
            "  inflating: +_2863_640_640_label_ACCIDENT_DETECTION.v1i.yolov7pytorch/valid/labels/traffic_img1443_jpg.rf.9ef77a590e005d8a8500e1da008d07ae.txt  \n",
            "  inflating: __MACOSX/+_2863_640_640_label_ACCIDENT_DETECTION.v1i.yolov7pytorch/valid/labels/._traffic_img1443_jpg.rf.9ef77a590e005d8a8500e1da008d07ae.txt  \n",
            "  inflating: +_2863_640_640_label_ACCIDENT_DETECTION.v1i.yolov7pytorch/valid/labels/traffic_img418_jpg.rf.cf0d5647562cc26e290f8210e438140f.txt  \n",
            "  inflating: __MACOSX/+_2863_640_640_label_ACCIDENT_DETECTION.v1i.yolov7pytorch/valid/labels/._traffic_img418_jpg.rf.cf0d5647562cc26e290f8210e438140f.txt  \n",
            "  inflating: +_2863_640_640_label_ACCIDENT_DETECTION.v1i.yolov7pytorch/valid/labels/traffic_img1122_jpg.rf.8faacc3503c2f1a20435ad0dacaaa73d.txt  \n",
            "  inflating: __MACOSX/+_2863_640_640_label_ACCIDENT_DETECTION.v1i.yolov7pytorch/valid/labels/._traffic_img1122_jpg.rf.8faacc3503c2f1a20435ad0dacaaa73d.txt  \n",
            "  inflating: +_2863_640_640_label_ACCIDENT_DETECTION.v1i.yolov7pytorch/valid/labels/accidentFrame2173_jpg.rf.b2d518a922639b6526a10f3f63ca4c6d.txt  \n",
            "  inflating: __MACOSX/+_2863_640_640_label_ACCIDENT_DETECTION.v1i.yolov7pytorch/valid/labels/._accidentFrame2173_jpg.rf.b2d518a922639b6526a10f3f63ca4c6d.txt  \n",
            "  inflating: +_2863_640_640_label_ACCIDENT_DETECTION.v1i.yolov7pytorch/valid/labels/traffic_img1974_jpg.rf.ae3338e65bee7f77a7b0ee248f863d77.txt  \n",
            "  inflating: __MACOSX/+_2863_640_640_label_ACCIDENT_DETECTION.v1i.yolov7pytorch/valid/labels/._traffic_img1974_jpg.rf.ae3338e65bee7f77a7b0ee248f863d77.txt  \n",
            "  inflating: +_2863_640_640_label_ACCIDENT_DETECTION.v1i.yolov7pytorch/valid/labels/traffic_img1434_jpg.rf.710a96b43c171c18ddb7932c7a8c2247.txt  \n",
            "  inflating: __MACOSX/+_2863_640_640_label_ACCIDENT_DETECTION.v1i.yolov7pytorch/valid/labels/._traffic_img1434_jpg.rf.710a96b43c171c18ddb7932c7a8c2247.txt  \n",
            "  inflating: +_2863_640_640_label_ACCIDENT_DETECTION.v1i.yolov7pytorch/valid/labels/traffic_img1125_jpg.rf.e9ad085fb1050025410a5984ad463fb2.txt  \n",
            "  inflating: __MACOSX/+_2863_640_640_label_ACCIDENT_DETECTION.v1i.yolov7pytorch/valid/labels/._traffic_img1125_jpg.rf.e9ad085fb1050025410a5984ad463fb2.txt  \n",
            "  inflating: +_2863_640_640_label_ACCIDENT_DETECTION.v1i.yolov7pytorch/valid/labels/accidentFrame2739_jpg.rf.2aafc3407d4db8959766d4166e16c748.txt  \n",
            "  inflating: __MACOSX/+_2863_640_640_label_ACCIDENT_DETECTION.v1i.yolov7pytorch/valid/labels/._accidentFrame2739_jpg.rf.2aafc3407d4db8959766d4166e16c748.txt  \n",
            "  inflating: +_2863_640_640_label_ACCIDENT_DETECTION.v1i.yolov7pytorch/valid/labels/severity_V111_jpg.rf.a26769898b0f5e9d389b0898f7222260.txt  \n",
            "  inflating: __MACOSX/+_2863_640_640_label_ACCIDENT_DETECTION.v1i.yolov7pytorch/valid/labels/._severity_V111_jpg.rf.a26769898b0f5e9d389b0898f7222260.txt  \n",
            "  inflating: +_2863_640_640_label_ACCIDENT_DETECTION.v1i.yolov7pytorch/valid/labels/traffic_img416_jpg.rf.56f5edfd76ef20ddc0c8b5b466038f72.txt  \n",
            "  inflating: __MACOSX/+_2863_640_640_label_ACCIDENT_DETECTION.v1i.yolov7pytorch/valid/labels/._traffic_img416_jpg.rf.56f5edfd76ef20ddc0c8b5b466038f72.txt  \n",
            "  inflating: +_2863_640_640_label_ACCIDENT_DETECTION.v1i.yolov7pytorch/valid/labels/traffic_img271_jpg.rf.d053859ccd1c3cf8ce0bdf14179cfcf9.txt  \n",
            "  inflating: __MACOSX/+_2863_640_640_label_ACCIDENT_DETECTION.v1i.yolov7pytorch/valid/labels/._traffic_img271_jpg.rf.d053859ccd1c3cf8ce0bdf14179cfcf9.txt  \n",
            "  inflating: +_2863_640_640_label_ACCIDENT_DETECTION.v1i.yolov7pytorch/valid/labels/traffic_img583_jpg.rf.df0e55e426ace39c8a9d02144998b7dd.txt  \n",
            "  inflating: __MACOSX/+_2863_640_640_label_ACCIDENT_DETECTION.v1i.yolov7pytorch/valid/labels/._traffic_img583_jpg.rf.df0e55e426ace39c8a9d02144998b7dd.txt  \n",
            "  inflating: +_2863_640_640_label_ACCIDENT_DETECTION.v1i.yolov7pytorch/valid/labels/traffic_img27_jpg.rf.60b32c7eabc9dd86f6740a94924dfafe.txt  \n",
            "  inflating: __MACOSX/+_2863_640_640_label_ACCIDENT_DETECTION.v1i.yolov7pytorch/valid/labels/._traffic_img27_jpg.rf.60b32c7eabc9dd86f6740a94924dfafe.txt  \n",
            "  inflating: +_2863_640_640_label_ACCIDENT_DETECTION.v1i.yolov7pytorch/valid/labels/traffic_img1559_jpg.rf.b11cf3ef19149d324cd7919fc376ed33.txt  \n",
            "  inflating: __MACOSX/+_2863_640_640_label_ACCIDENT_DETECTION.v1i.yolov7pytorch/valid/labels/._traffic_img1559_jpg.rf.b11cf3ef19149d324cd7919fc376ed33.txt  \n",
            "  inflating: +_2863_640_640_label_ACCIDENT_DETECTION.v1i.yolov7pytorch/valid/labels/Severity_Detect_V8_jpg.rf.59f9a43faa2253b3c2899e1340975e89.txt  \n",
            "  inflating: __MACOSX/+_2863_640_640_label_ACCIDENT_DETECTION.v1i.yolov7pytorch/valid/labels/._Severity_Detect_V8_jpg.rf.59f9a43faa2253b3c2899e1340975e89.txt  \n",
            "  inflating: +_2863_640_640_label_ACCIDENT_DETECTION.v1i.yolov7pytorch/valid/labels/severityV3_28_jpeg_jpg.rf.6988803b903429745fee3f6453dfdbbb.txt  \n",
            "  inflating: __MACOSX/+_2863_640_640_label_ACCIDENT_DETECTION.v1i.yolov7pytorch/valid/labels/._severityV3_28_jpeg_jpg.rf.6988803b903429745fee3f6453dfdbbb.txt  \n",
            "  inflating: +_2863_640_640_label_ACCIDENT_DETECTION.v1i.yolov7pytorch/valid/labels/severity_V117_jpg.rf.208d6c5726c7325b57a34d22e406aece.txt  \n",
            "  inflating: __MACOSX/+_2863_640_640_label_ACCIDENT_DETECTION.v1i.yolov7pytorch/valid/labels/._severity_V117_jpg.rf.208d6c5726c7325b57a34d22e406aece.txt  \n",
            "  inflating: +_2863_640_640_label_ACCIDENT_DETECTION.v1i.yolov7pytorch/valid/labels/severityV3_4_jpeg_jpg.rf.4f3f1aa0f0302f8512d2672d1155c6d9.txt  \n",
            "  inflating: __MACOSX/+_2863_640_640_label_ACCIDENT_DETECTION.v1i.yolov7pytorch/valid/labels/._severityV3_4_jpeg_jpg.rf.4f3f1aa0f0302f8512d2672d1155c6d9.txt  \n",
            "  inflating: +_2863_640_640_label_ACCIDENT_DETECTION.v1i.yolov7pytorch/valid/labels/traffic_img1083_jpg.rf.df4183073d064d721240f92f03c99b15.txt  \n",
            "  inflating: __MACOSX/+_2863_640_640_label_ACCIDENT_DETECTION.v1i.yolov7pytorch/valid/labels/._traffic_img1083_jpg.rf.df4183073d064d721240f92f03c99b15.txt  \n",
            "  inflating: +_2863_640_640_label_ACCIDENT_DETECTION.v1i.yolov7pytorch/valid/labels/traffic_img23_jpg.rf.8a4747e6e6fd8c967093cd2170d80c72.txt  \n",
            "  inflating: __MACOSX/+_2863_640_640_label_ACCIDENT_DETECTION.v1i.yolov7pytorch/valid/labels/._traffic_img23_jpg.rf.8a4747e6e6fd8c967093cd2170d80c72.txt  \n",
            "  inflating: +_2863_640_640_label_ACCIDENT_DETECTION.v1i.yolov7pytorch/valid/labels/accidentFrame2740_jpg.rf.d6ca270f169af2fe588e729a845734d7.txt  \n",
            "  inflating: __MACOSX/+_2863_640_640_label_ACCIDENT_DETECTION.v1i.yolov7pytorch/valid/labels/._accidentFrame2740_jpg.rf.d6ca270f169af2fe588e729a845734d7.txt  \n",
            "  inflating: +_2863_640_640_label_ACCIDENT_DETECTION.v1i.yolov7pytorch/valid/labels/accidentFrame1195_jpg.rf.94d1f8711a464aaf3e81240b85b18c39.txt  \n",
            "  inflating: __MACOSX/+_2863_640_640_label_ACCIDENT_DETECTION.v1i.yolov7pytorch/valid/labels/._accidentFrame1195_jpg.rf.94d1f8711a464aaf3e81240b85b18c39.txt  \n",
            "  inflating: +_2863_640_640_label_ACCIDENT_DETECTION.v1i.yolov7pytorch/valid/labels/traffic_img1483_jpg.rf.0606949b1b6e3903252b75b18fe76fd5.txt  \n",
            "  inflating: __MACOSX/+_2863_640_640_label_ACCIDENT_DETECTION.v1i.yolov7pytorch/valid/labels/._traffic_img1483_jpg.rf.0606949b1b6e3903252b75b18fe76fd5.txt  \n",
            "  inflating: +_2863_640_640_label_ACCIDENT_DETECTION.v1i.yolov7pytorch/valid/labels/traffic_img921_jpg.rf.b2e6fa67ff674760b23a86415a480876.txt  \n",
            "  inflating: __MACOSX/+_2863_640_640_label_ACCIDENT_DETECTION.v1i.yolov7pytorch/valid/labels/._traffic_img921_jpg.rf.b2e6fa67ff674760b23a86415a480876.txt  \n",
            "  inflating: +_2863_640_640_label_ACCIDENT_DETECTION.v1i.yolov7pytorch/valid/labels/traffic_img609_jpg.rf.ae611f636c7436f5371136de559b072d.txt  \n",
            "  inflating: __MACOSX/+_2863_640_640_label_ACCIDENT_DETECTION.v1i.yolov7pytorch/valid/labels/._traffic_img609_jpg.rf.ae611f636c7436f5371136de559b072d.txt  \n",
            "  inflating: +_2863_640_640_label_ACCIDENT_DETECTION.v1i.yolov7pytorch/valid/labels/accidentFrame1198_jpg.rf.06feff35fdd24e434a922d2579cf6e83.txt  \n",
            "  inflating: __MACOSX/+_2863_640_640_label_ACCIDENT_DETECTION.v1i.yolov7pytorch/valid/labels/._accidentFrame1198_jpg.rf.06feff35fdd24e434a922d2579cf6e83.txt  \n",
            "  inflating: +_2863_640_640_label_ACCIDENT_DETECTION.v1i.yolov7pytorch/valid/labels/traffic_img1201_jpg.rf.a99ae75e0f107a0537af4985f2a8fe17.txt  \n",
            "  inflating: __MACOSX/+_2863_640_640_label_ACCIDENT_DETECTION.v1i.yolov7pytorch/valid/labels/._traffic_img1201_jpg.rf.a99ae75e0f107a0537af4985f2a8fe17.txt  \n",
            "  inflating: +_2863_640_640_label_ACCIDENT_DETECTION.v1i.yolov7pytorch/valid/labels/severityV4_7_jpg.rf.6ab18acee4515471804d09237fd018fe.txt  \n",
            "  inflating: __MACOSX/+_2863_640_640_label_ACCIDENT_DETECTION.v1i.yolov7pytorch/valid/labels/._severityV4_7_jpg.rf.6ab18acee4515471804d09237fd018fe.txt  \n",
            "  inflating: +_2863_640_640_label_ACCIDENT_DETECTION.v1i.yolov7pytorch/valid/labels/traffic_img1202_jpg.rf.7b3c56744d28658ee9124ac2ef59e885.txt  \n",
            "  inflating: __MACOSX/+_2863_640_640_label_ACCIDENT_DETECTION.v1i.yolov7pytorch/valid/labels/._traffic_img1202_jpg.rf.7b3c56744d28658ee9124ac2ef59e885.txt  \n",
            "  inflating: +_2863_640_640_label_ACCIDENT_DETECTION.v1i.yolov7pytorch/valid/labels/781_jpeg_jpg.rf.af20d9aeb9fef1f9479ff28e0c221321.txt  \n",
            "  inflating: __MACOSX/+_2863_640_640_label_ACCIDENT_DETECTION.v1i.yolov7pytorch/valid/labels/._781_jpeg_jpg.rf.af20d9aeb9fef1f9479ff28e0c221321.txt  \n",
            "  inflating: +_2863_640_640_label_ACCIDENT_DETECTION.v1i.yolov7pytorch/valid/labels/traffic_img115_jpg.rf.3f1c05f94788567083f8470a5b5ec6fb.txt  \n",
            "  inflating: __MACOSX/+_2863_640_640_label_ACCIDENT_DETECTION.v1i.yolov7pytorch/valid/labels/._traffic_img115_jpg.rf.3f1c05f94788567083f8470a5b5ec6fb.txt  \n",
            "  inflating: +_2863_640_640_label_ACCIDENT_DETECTION.v1i.yolov7pytorch/valid/labels/traffic_img1895_jpg.rf.0f0e4fec20f68147db9886f82dbb0ff4.txt  \n",
            "  inflating: __MACOSX/+_2863_640_640_label_ACCIDENT_DETECTION.v1i.yolov7pytorch/valid/labels/._traffic_img1895_jpg.rf.0f0e4fec20f68147db9886f82dbb0ff4.txt  \n",
            "  inflating: +_2863_640_640_label_ACCIDENT_DETECTION.v1i.yolov7pytorch/valid/labels/traffic_img1198_jpg.rf.1d5134daf2f659b6e0113d4f1f4628c1.txt  \n",
            "  inflating: __MACOSX/+_2863_640_640_label_ACCIDENT_DETECTION.v1i.yolov7pytorch/valid/labels/._traffic_img1198_jpg.rf.1d5134daf2f659b6e0113d4f1f4628c1.txt  \n",
            "  inflating: +_2863_640_640_label_ACCIDENT_DETECTION.v1i.yolov7pytorch/valid/labels/vd44_jpeg_jpg.rf.2d0efc0eba7f33212425f8ff4ddd3750.txt  \n",
            "  inflating: __MACOSX/+_2863_640_640_label_ACCIDENT_DETECTION.v1i.yolov7pytorch/valid/labels/._vd44_jpeg_jpg.rf.2d0efc0eba7f33212425f8ff4ddd3750.txt  \n",
            "  inflating: +_2863_640_640_label_ACCIDENT_DETECTION.v1i.yolov7pytorch/valid/labels/traffic_img943_jpg.rf.737362c7fda36d2dfffcf6526e8ad0f1.txt  \n",
            "  inflating: __MACOSX/+_2863_640_640_label_ACCIDENT_DETECTION.v1i.yolov7pytorch/valid/labels/._traffic_img943_jpg.rf.737362c7fda36d2dfffcf6526e8ad0f1.txt  \n",
            "  inflating: +_2863_640_640_label_ACCIDENT_DETECTION.v1i.yolov7pytorch/valid/labels/FLIP_CAR_V162_jpg.rf.6a65eedbd405b9eb333c7f0e14c89746.txt  \n",
            "  inflating: __MACOSX/+_2863_640_640_label_ACCIDENT_DETECTION.v1i.yolov7pytorch/valid/labels/._FLIP_CAR_V162_jpg.rf.6a65eedbd405b9eb333c7f0e14c89746.txt  \n",
            "  inflating: +_2863_640_640_label_ACCIDENT_DETECTION.v1i.yolov7pytorch/valid/labels/traffic_img539_jpg.rf.84477933c70deb5dfa1063adbc1dab7a.txt  \n",
            "  inflating: __MACOSX/+_2863_640_640_label_ACCIDENT_DETECTION.v1i.yolov7pytorch/valid/labels/._traffic_img539_jpg.rf.84477933c70deb5dfa1063adbc1dab7a.txt  \n",
            "  inflating: +_2863_640_640_label_ACCIDENT_DETECTION.v1i.yolov7pytorch/valid/labels/FLIP_CAR_V149_jpg.rf.42f2bb6c95a1171d4d449681e3f0d6a1.txt  \n",
            "  inflating: __MACOSX/+_2863_640_640_label_ACCIDENT_DETECTION.v1i.yolov7pytorch/valid/labels/._FLIP_CAR_V149_jpg.rf.42f2bb6c95a1171d4d449681e3f0d6a1.txt  \n",
            "  inflating: +_2863_640_640_label_ACCIDENT_DETECTION.v1i.yolov7pytorch/valid/labels/traffic_img1458_jpg.rf.f0227d352933a2c3e0cc64ba0c8f7263.txt  \n",
            "  inflating: __MACOSX/+_2863_640_640_label_ACCIDENT_DETECTION.v1i.yolov7pytorch/valid/labels/._traffic_img1458_jpg.rf.f0227d352933a2c3e0cc64ba0c8f7263.txt  \n",
            "  inflating: +_2863_640_640_label_ACCIDENT_DETECTION.v1i.yolov7pytorch/valid/labels/images-37_jpg.rf.7d0745dd20a6eab51accc13e0bf712e1.txt  \n",
            "  inflating: __MACOSX/+_2863_640_640_label_ACCIDENT_DETECTION.v1i.yolov7pytorch/valid/labels/._images-37_jpg.rf.7d0745dd20a6eab51accc13e0bf712e1.txt  \n",
            "  inflating: +_2863_640_640_label_ACCIDENT_DETECTION.v1i.yolov7pytorch/valid/labels/traffic_img565_jpg.rf.89c564bd6d6fb9680430ea1d7dff6fcc.txt  \n",
            "  inflating: __MACOSX/+_2863_640_640_label_ACCIDENT_DETECTION.v1i.yolov7pytorch/valid/labels/._traffic_img565_jpg.rf.89c564bd6d6fb9680430ea1d7dff6fcc.txt  \n",
            "  inflating: +_2863_640_640_label_ACCIDENT_DETECTION.v1i.yolov7pytorch/valid/labels/severityV4_8_jpg.rf.decb750aee06f33c92424a5eac4806e2.txt  \n",
            "  inflating: __MACOSX/+_2863_640_640_label_ACCIDENT_DETECTION.v1i.yolov7pytorch/valid/labels/._severityV4_8_jpg.rf.decb750aee06f33c92424a5eac4806e2.txt  \n",
            "  inflating: +_2863_640_640_label_ACCIDENT_DETECTION.v1i.yolov7pytorch/valid/labels/10-31_jpg.rf.22a922551ea40266ba4d47bc90d8f994.txt  \n",
            "  inflating: __MACOSX/+_2863_640_640_label_ACCIDENT_DETECTION.v1i.yolov7pytorch/valid/labels/._10-31_jpg.rf.22a922551ea40266ba4d47bc90d8f994.txt  \n",
            "  inflating: +_2863_640_640_label_ACCIDENT_DETECTION.v1i.yolov7pytorch/valid/labels/FLIP_CAR_V134_jpg.rf.f2430f3aea7d387a9e0892a7c7dd1a5e.txt  \n",
            "  inflating: __MACOSX/+_2863_640_640_label_ACCIDENT_DETECTION.v1i.yolov7pytorch/valid/labels/._FLIP_CAR_V134_jpg.rf.f2430f3aea7d387a9e0892a7c7dd1a5e.txt  \n",
            "  inflating: +_2863_640_640_label_ACCIDENT_DETECTION.v1i.yolov7pytorch/valid/labels/traffic_img1320_jpg.rf.714742aca554d4b8ecb05187db6184f9.txt  \n",
            "  inflating: __MACOSX/+_2863_640_640_label_ACCIDENT_DETECTION.v1i.yolov7pytorch/valid/labels/._traffic_img1320_jpg.rf.714742aca554d4b8ecb05187db6184f9.txt  \n",
            "  inflating: +_2863_640_640_label_ACCIDENT_DETECTION.v1i.yolov7pytorch/valid/labels/traffic_img1082_jpg.rf.f81b91a39841dd7a11f3c6de668deb26.txt  \n",
            "  inflating: __MACOSX/+_2863_640_640_label_ACCIDENT_DETECTION.v1i.yolov7pytorch/valid/labels/._traffic_img1082_jpg.rf.f81b91a39841dd7a11f3c6de668deb26.txt  \n",
            "  inflating: +_2863_640_640_label_ACCIDENT_DETECTION.v1i.yolov7pytorch/valid/labels/download-6_jpg.rf.622953ab9a8894f40fc0a385f5c130ec.txt  \n",
            "  inflating: __MACOSX/+_2863_640_640_label_ACCIDENT_DETECTION.v1i.yolov7pytorch/valid/labels/._download-6_jpg.rf.622953ab9a8894f40fc0a385f5c130ec.txt  \n",
            "  inflating: +_2863_640_640_label_ACCIDENT_DETECTION.v1i.yolov7pytorch/valid/labels/traffic_img180_jpg.rf.a5a46bd6bb0fd486f6ec5a3a65401eec.txt  \n",
            "  inflating: __MACOSX/+_2863_640_640_label_ACCIDENT_DETECTION.v1i.yolov7pytorch/valid/labels/._traffic_img180_jpg.rf.a5a46bd6bb0fd486f6ec5a3a65401eec.txt  \n",
            "  inflating: +_2863_640_640_label_ACCIDENT_DETECTION.v1i.yolov7pytorch/valid/labels/accidentFrame282_jpg.rf.4cbd4a80f2cae61e3911d4d5fdae8275.txt  \n",
            "  inflating: __MACOSX/+_2863_640_640_label_ACCIDENT_DETECTION.v1i.yolov7pytorch/valid/labels/._accidentFrame282_jpg.rf.4cbd4a80f2cae61e3911d4d5fdae8275.txt  \n",
            "  inflating: +_2863_640_640_label_ACCIDENT_DETECTION.v1i.yolov7pytorch/valid/labels/traffic_img1376_jpg.rf.1c5b124c36bfa646f888c9adfe31ba25.txt  \n",
            "  inflating: __MACOSX/+_2863_640_640_label_ACCIDENT_DETECTION.v1i.yolov7pytorch/valid/labels/._traffic_img1376_jpg.rf.1c5b124c36bfa646f888c9adfe31ba25.txt  \n",
            "  inflating: +_2863_640_640_label_ACCIDENT_DETECTION.v1i.yolov7pytorch/valid/labels/traffic_img621_jpg.rf.293af42b720b586a08b228f260dd39a2.txt  \n",
            "  inflating: __MACOSX/+_2863_640_640_label_ACCIDENT_DETECTION.v1i.yolov7pytorch/valid/labels/._traffic_img621_jpg.rf.293af42b720b586a08b228f260dd39a2.txt  \n",
            "  inflating: +_2863_640_640_label_ACCIDENT_DETECTION.v1i.yolov7pytorch/valid/labels/traffic_img1557_jpg.rf.b5c73aebd1e07338f1153053193f8ee1.txt  \n",
            "  inflating: __MACOSX/+_2863_640_640_label_ACCIDENT_DETECTION.v1i.yolov7pytorch/valid/labels/._traffic_img1557_jpg.rf.b5c73aebd1e07338f1153053193f8ee1.txt  \n",
            "  inflating: +_2863_640_640_label_ACCIDENT_DETECTION.v1i.yolov7pytorch/valid/labels/traffic_img1387_jpg.rf.47e05fdf63638439780ce6bbaac39c48.txt  \n",
            "  inflating: __MACOSX/+_2863_640_640_label_ACCIDENT_DETECTION.v1i.yolov7pytorch/valid/labels/._traffic_img1387_jpg.rf.47e05fdf63638439780ce6bbaac39c48.txt  \n",
            "  inflating: +_2863_640_640_label_ACCIDENT_DETECTION.v1i.yolov7pytorch/valid/labels/traffic_img1024_jpg.rf.f099d1d65fb80d244131d58db1ed57be.txt  \n",
            "  inflating: __MACOSX/+_2863_640_640_label_ACCIDENT_DETECTION.v1i.yolov7pytorch/valid/labels/._traffic_img1024_jpg.rf.f099d1d65fb80d244131d58db1ed57be.txt  \n",
            "  inflating: +_2863_640_640_label_ACCIDENT_DETECTION.v1i.yolov7pytorch/valid/labels/images-6_jpg.rf.a2e7010a049722318930537b69dad29a.txt  \n",
            "  inflating: __MACOSX/+_2863_640_640_label_ACCIDENT_DETECTION.v1i.yolov7pytorch/valid/labels/._images-6_jpg.rf.a2e7010a049722318930537b69dad29a.txt  \n",
            "  inflating: +_2863_640_640_label_ACCIDENT_DETECTION.v1i.yolov7pytorch/valid/labels/vd55_jpeg_jpg.rf.a7a358ad6674a59963d23d4e69f09a79.txt  \n",
            "  inflating: __MACOSX/+_2863_640_640_label_ACCIDENT_DETECTION.v1i.yolov7pytorch/valid/labels/._vd55_jpeg_jpg.rf.a7a358ad6674a59963d23d4e69f09a79.txt  \n",
            "  inflating: +_2863_640_640_label_ACCIDENT_DETECTION.v1i.yolov7pytorch/valid/labels/traffic_img973_jpg.rf.9da980724c1f1f82df9458ff82d90843.txt  \n",
            "  inflating: __MACOSX/+_2863_640_640_label_ACCIDENT_DETECTION.v1i.yolov7pytorch/valid/labels/._traffic_img973_jpg.rf.9da980724c1f1f82df9458ff82d90843.txt  \n",
            "  inflating: +_2863_640_640_label_ACCIDENT_DETECTION.v1i.yolov7pytorch/valid/labels/V11_jpeg_jpg.rf.6c860f377df41341ff32926d8799db24.txt  \n",
            "  inflating: __MACOSX/+_2863_640_640_label_ACCIDENT_DETECTION.v1i.yolov7pytorch/valid/labels/._V11_jpeg_jpg.rf.6c860f377df41341ff32926d8799db24.txt  \n",
            "  inflating: +_2863_640_640_label_ACCIDENT_DETECTION.v1i.yolov7pytorch/valid/labels/severity_V128_jpg.rf.8f6c9af7171f959be04558ebad6b6a8c.txt  \n",
            "  inflating: __MACOSX/+_2863_640_640_label_ACCIDENT_DETECTION.v1i.yolov7pytorch/valid/labels/._severity_V128_jpg.rf.8f6c9af7171f959be04558ebad6b6a8c.txt  \n",
            "  inflating: +_2863_640_640_label_ACCIDENT_DETECTION.v1i.yolov7pytorch/valid/labels/14-61_jpg.rf.3dc9709232da44cfb2d1617f7989ac6d.txt  \n",
            "  inflating: __MACOSX/+_2863_640_640_label_ACCIDENT_DETECTION.v1i.yolov7pytorch/valid/labels/._14-61_jpg.rf.3dc9709232da44cfb2d1617f7989ac6d.txt  \n",
            "  inflating: +_2863_640_640_label_ACCIDENT_DETECTION.v1i.yolov7pytorch/valid/labels/traffic_img1459_jpg.rf.63a625018ee00463d1e02ae5bc5be126.txt  \n",
            "  inflating: __MACOSX/+_2863_640_640_label_ACCIDENT_DETECTION.v1i.yolov7pytorch/valid/labels/._traffic_img1459_jpg.rf.63a625018ee00463d1e02ae5bc5be126.txt  \n",
            "  inflating: +_2863_640_640_label_ACCIDENT_DETECTION.v1i.yolov7pytorch/valid/labels/severityV4_1_jpg.rf.53e9a622f4c132d3ffe822108422f02e.txt  \n",
            "  inflating: __MACOSX/+_2863_640_640_label_ACCIDENT_DETECTION.v1i.yolov7pytorch/valid/labels/._severityV4_1_jpg.rf.53e9a622f4c132d3ffe822108422f02e.txt  \n",
            "  inflating: +_2863_640_640_label_ACCIDENT_DETECTION.v1i.yolov7pytorch/valid/labels/images-4_jpg.rf.41607d7eb24835cec01318f4763027de.txt  \n",
            "  inflating: __MACOSX/+_2863_640_640_label_ACCIDENT_DETECTION.v1i.yolov7pytorch/valid/labels/._images-4_jpg.rf.41607d7eb24835cec01318f4763027de.txt  \n",
            "  inflating: +_2863_640_640_label_ACCIDENT_DETECTION.v1i.yolov7pytorch/valid/labels/severityV3_22_jpeg_jpg.rf.266b85854824ea55838fa81abb293d7d.txt  \n",
            "  inflating: __MACOSX/+_2863_640_640_label_ACCIDENT_DETECTION.v1i.yolov7pytorch/valid/labels/._severityV3_22_jpeg_jpg.rf.266b85854824ea55838fa81abb293d7d.txt  \n",
            "  inflating: +_2863_640_640_label_ACCIDENT_DETECTION.v1i.yolov7pytorch/valid/labels/traffic_img1077_jpg.rf.368df3810b24160bf7e83336bd20a042.txt  \n",
            "  inflating: __MACOSX/+_2863_640_640_label_ACCIDENT_DETECTION.v1i.yolov7pytorch/valid/labels/._traffic_img1077_jpg.rf.368df3810b24160bf7e83336bd20a042.txt  \n",
            "  inflating: +_2863_640_640_label_ACCIDENT_DETECTION.v1i.yolov7pytorch/valid/labels/severity_V137_jpg.rf.2453dca86f239c0e7b73b2fcd8b68b51.txt  \n",
            "  inflating: __MACOSX/+_2863_640_640_label_ACCIDENT_DETECTION.v1i.yolov7pytorch/valid/labels/._severity_V137_jpg.rf.2453dca86f239c0e7b73b2fcd8b68b51.txt  \n",
            "  inflating: +_2863_640_640_label_ACCIDENT_DETECTION.v1i.yolov7pytorch/valid/labels/traffic_img914_jpg.rf.7fa8a2f9bd33bc5fac85b512ae48b0c0.txt  \n",
            "  inflating: __MACOSX/+_2863_640_640_label_ACCIDENT_DETECTION.v1i.yolov7pytorch/valid/labels/._traffic_img914_jpg.rf.7fa8a2f9bd33bc5fac85b512ae48b0c0.txt  \n",
            "  inflating: +_2863_640_640_label_ACCIDENT_DETECTION.v1i.yolov7pytorch/valid/labels/traffic_img541_jpg.rf.24b8ec7b18eb0de46198c05e5fb9795b.txt  \n",
            "  inflating: __MACOSX/+_2863_640_640_label_ACCIDENT_DETECTION.v1i.yolov7pytorch/valid/labels/._traffic_img541_jpg.rf.24b8ec7b18eb0de46198c05e5fb9795b.txt  \n",
            "  inflating: +_2863_640_640_label_ACCIDENT_DETECTION.v1i.yolov7pytorch/valid/labels/traffic_img618_jpg.rf.728fad3bce72984a5e1ee95ab564b827.txt  \n",
            "  inflating: __MACOSX/+_2863_640_640_label_ACCIDENT_DETECTION.v1i.yolov7pytorch/valid/labels/._traffic_img618_jpg.rf.728fad3bce72984a5e1ee95ab564b827.txt  \n",
            "  inflating: +_2863_640_640_label_ACCIDENT_DETECTION.v1i.yolov7pytorch/valid/labels/traffic_img745_jpg.rf.2f014988edacf622ee2b81b6f2d1f6cb.txt  \n",
            "  inflating: __MACOSX/+_2863_640_640_label_ACCIDENT_DETECTION.v1i.yolov7pytorch/valid/labels/._traffic_img745_jpg.rf.2f014988edacf622ee2b81b6f2d1f6cb.txt  \n",
            "  inflating: +_2863_640_640_label_ACCIDENT_DETECTION.v1i.yolov7pytorch/valid/labels/traffic_img1398_jpg.rf.c60d56cc6c3eabbaa3ff63e4f0d9a5ed.txt  \n",
            "  inflating: __MACOSX/+_2863_640_640_label_ACCIDENT_DETECTION.v1i.yolov7pytorch/valid/labels/._traffic_img1398_jpg.rf.c60d56cc6c3eabbaa3ff63e4f0d9a5ed.txt  \n",
            "  inflating: +_2863_640_640_label_ACCIDENT_DETECTION.v1i.yolov7pytorch/valid/labels/traffic_img24_jpg.rf.f8055f06e2c15ccb7fac091c9ee70897.txt  \n",
            "  inflating: __MACOSX/+_2863_640_640_label_ACCIDENT_DETECTION.v1i.yolov7pytorch/valid/labels/._traffic_img24_jpg.rf.f8055f06e2c15ccb7fac091c9ee70897.txt  \n",
            "  inflating: +_2863_640_640_label_ACCIDENT_DETECTION.v1i.yolov7pytorch/valid/labels/Semi-RealisticVD-165_jpg.rf.da635c0fac51a2ac66339ee6ce055b77.txt  \n",
            "  inflating: __MACOSX/+_2863_640_640_label_ACCIDENT_DETECTION.v1i.yolov7pytorch/valid/labels/._Semi-RealisticVD-165_jpg.rf.da635c0fac51a2ac66339ee6ce055b77.txt  \n",
            "  inflating: +_2863_640_640_label_ACCIDENT_DETECTION.v1i.yolov7pytorch/valid/labels/traffic_img1069_jpg.rf.9f260ac433235fad437ee73203c6ed56.txt  \n",
            "  inflating: __MACOSX/+_2863_640_640_label_ACCIDENT_DETECTION.v1i.yolov7pytorch/valid/labels/._traffic_img1069_jpg.rf.9f260ac433235fad437ee73203c6ed56.txt  \n",
            "  inflating: +_2863_640_640_label_ACCIDENT_DETECTION.v1i.yolov7pytorch/valid/labels/traffic_img25_jpg.rf.3a1520c6a0284b72a5676a4af244ad03.txt  \n",
            "  inflating: __MACOSX/+_2863_640_640_label_ACCIDENT_DETECTION.v1i.yolov7pytorch/valid/labels/._traffic_img25_jpg.rf.3a1520c6a0284b72a5676a4af244ad03.txt  \n",
            "  inflating: +_2863_640_640_label_ACCIDENT_DETECTION.v1i.yolov7pytorch/valid/labels/severity_V112_jpg.rf.7f1fa60e902b9d10a989de8624370dbf.txt  \n",
            "  inflating: __MACOSX/+_2863_640_640_label_ACCIDENT_DETECTION.v1i.yolov7pytorch/valid/labels/._severity_V112_jpg.rf.7f1fa60e902b9d10a989de8624370dbf.txt  \n",
            "  inflating: +_2863_640_640_label_ACCIDENT_DETECTION.v1i.yolov7pytorch/valid/labels/severity_V12_jpg.rf.c1a09c6920dd09b27014d7cf4b2d952d.txt  \n",
            "  inflating: __MACOSX/+_2863_640_640_label_ACCIDENT_DETECTION.v1i.yolov7pytorch/valid/labels/._severity_V12_jpg.rf.c1a09c6920dd09b27014d7cf4b2d952d.txt  \n",
            "  inflating: +_2863_640_640_label_ACCIDENT_DETECTION.v1i.yolov7pytorch/valid/labels/traffic_img25_jpg.rf.8bb3a50741b2172629a91f6d288e39df.txt  \n",
            "  inflating: __MACOSX/+_2863_640_640_label_ACCIDENT_DETECTION.v1i.yolov7pytorch/valid/labels/._traffic_img25_jpg.rf.8bb3a50741b2172629a91f6d288e39df.txt  \n",
            "  inflating: +_2863_640_640_label_ACCIDENT_DETECTION.v1i.yolov7pytorch/valid/labels/traffic_img2052_jpg.rf.c399f19b9d24be69ac040bc8baaa08ae.txt  \n",
            "  inflating: __MACOSX/+_2863_640_640_label_ACCIDENT_DETECTION.v1i.yolov7pytorch/valid/labels/._traffic_img2052_jpg.rf.c399f19b9d24be69ac040bc8baaa08ae.txt  \n",
            "  inflating: +_2863_640_640_label_ACCIDENT_DETECTION.v1i.yolov7pytorch/valid/labels/traffic_img1472_jpg.rf.00e9446892c9fa5ff5eed7c02910e984.txt  \n",
            "  inflating: __MACOSX/+_2863_640_640_label_ACCIDENT_DETECTION.v1i.yolov7pytorch/valid/labels/._traffic_img1472_jpg.rf.00e9446892c9fa5ff5eed7c02910e984.txt  \n",
            "  inflating: +_2863_640_640_label_ACCIDENT_DETECTION.v1i.yolov7pytorch/valid/labels/traffic_img1468_jpg.rf.22a4206b325614b4f0d0e5a66de05b37.txt  \n",
            "  inflating: __MACOSX/+_2863_640_640_label_ACCIDENT_DETECTION.v1i.yolov7pytorch/valid/labels/._traffic_img1468_jpg.rf.22a4206b325614b4f0d0e5a66de05b37.txt  \n",
            "  inflating: +_2863_640_640_label_ACCIDENT_DETECTION.v1i.yolov7pytorch/valid/labels/traffic_img1773_jpg.rf.b921cbb3e270d8b32471e3cb81dcd898.txt  \n",
            "  inflating: __MACOSX/+_2863_640_640_label_ACCIDENT_DETECTION.v1i.yolov7pytorch/valid/labels/._traffic_img1773_jpg.rf.b921cbb3e270d8b32471e3cb81dcd898.txt  \n",
            "  inflating: +_2863_640_640_label_ACCIDENT_DETECTION.v1i.yolov7pytorch/valid/labels/traffic_img1026_jpg.rf.8575ee5de4a8774e2041c1b135df6881.txt  \n",
            "  inflating: __MACOSX/+_2863_640_640_label_ACCIDENT_DETECTION.v1i.yolov7pytorch/valid/labels/._traffic_img1026_jpg.rf.8575ee5de4a8774e2041c1b135df6881.txt  \n",
            "  inflating: +_2863_640_640_label_ACCIDENT_DETECTION.v1i.yolov7pytorch/valid/labels/861_jpeg_jpg.rf.0890d91f91deb12a6c0274cd01ffe7b3.txt  \n",
            "  inflating: __MACOSX/+_2863_640_640_label_ACCIDENT_DETECTION.v1i.yolov7pytorch/valid/labels/._861_jpeg_jpg.rf.0890d91f91deb12a6c0274cd01ffe7b3.txt  \n",
            "  inflating: +_2863_640_640_label_ACCIDENT_DETECTION.v1i.yolov7pytorch/valid/labels/traffic_img871_jpg.rf.bef91f8a2c773d59d5f54660690a7d56.txt  \n",
            "  inflating: __MACOSX/+_2863_640_640_label_ACCIDENT_DETECTION.v1i.yolov7pytorch/valid/labels/._traffic_img871_jpg.rf.bef91f8a2c773d59d5f54660690a7d56.txt  \n",
            "  inflating: +_2863_640_640_label_ACCIDENT_DETECTION.v1i.yolov7pytorch/valid/labels/download_jpg.rf.94c9992bee1f98805fdb511cbd75870b.txt  \n",
            "  inflating: __MACOSX/+_2863_640_640_label_ACCIDENT_DETECTION.v1i.yolov7pytorch/valid/labels/._download_jpg.rf.94c9992bee1f98805fdb511cbd75870b.txt  \n",
            "  inflating: +_2863_640_640_label_ACCIDENT_DETECTION.v1i.yolov7pytorch/valid/labels/VA12_jpeg_jpg.rf.6507c1f29cf19dfb446dd2019aac2c2c.txt  \n",
            "  inflating: __MACOSX/+_2863_640_640_label_ACCIDENT_DETECTION.v1i.yolov7pytorch/valid/labels/._VA12_jpeg_jpg.rf.6507c1f29cf19dfb446dd2019aac2c2c.txt  \n",
            "  inflating: +_2863_640_640_label_ACCIDENT_DETECTION.v1i.yolov7pytorch/valid/labels/images-4_jpg.rf.1fec764c01db0861deead98321c64da3.txt  \n",
            "  inflating: __MACOSX/+_2863_640_640_label_ACCIDENT_DETECTION.v1i.yolov7pytorch/valid/labels/._images-4_jpg.rf.1fec764c01db0861deead98321c64da3.txt  \n",
            "  inflating: +_2863_640_640_label_ACCIDENT_DETECTION.v1i.yolov7pytorch/valid/labels/traffic_img839_jpg.rf.71e20b4e3b99c36aadb4700947d08222.txt  \n",
            "  inflating: __MACOSX/+_2863_640_640_label_ACCIDENT_DETECTION.v1i.yolov7pytorch/valid/labels/._traffic_img839_jpg.rf.71e20b4e3b99c36aadb4700947d08222.txt  \n",
            "  inflating: +_2863_640_640_label_ACCIDENT_DETECTION.v1i.yolov7pytorch/valid/labels/traffic_img925_jpg.rf.02c2a7eed1c967e4b45eafecc13b850b.txt  \n",
            "  inflating: __MACOSX/+_2863_640_640_label_ACCIDENT_DETECTION.v1i.yolov7pytorch/valid/labels/._traffic_img925_jpg.rf.02c2a7eed1c967e4b45eafecc13b850b.txt  \n",
            "  inflating: +_2863_640_640_label_ACCIDENT_DETECTION.v1i.yolov7pytorch/valid/labels/traffic_img215_jpg.rf.b789a7c51139b1cec53f3e0683fbe588.txt  \n",
            "  inflating: __MACOSX/+_2863_640_640_label_ACCIDENT_DETECTION.v1i.yolov7pytorch/valid/labels/._traffic_img215_jpg.rf.b789a7c51139b1cec53f3e0683fbe588.txt  \n",
            "  inflating: +_2863_640_640_label_ACCIDENT_DETECTION.v1i.yolov7pytorch/valid/labels/maxresdefault_jpg.rf.f8eb5dce29017ab2b64943a081ac7a9c.txt  \n",
            "  inflating: __MACOSX/+_2863_640_640_label_ACCIDENT_DETECTION.v1i.yolov7pytorch/valid/labels/._maxresdefault_jpg.rf.f8eb5dce29017ab2b64943a081ac7a9c.txt  \n",
            "  inflating: +_2863_640_640_label_ACCIDENT_DETECTION.v1i.yolov7pytorch/valid/labels/severityV3_14_jpeg_jpg.rf.4d507b571b393523163ba445f0f34bcc.txt  \n",
            "  inflating: __MACOSX/+_2863_640_640_label_ACCIDENT_DETECTION.v1i.yolov7pytorch/valid/labels/._severityV3_14_jpeg_jpg.rf.4d507b571b393523163ba445f0f34bcc.txt  \n",
            "  inflating: +_2863_640_640_label_ACCIDENT_DETECTION.v1i.yolov7pytorch/valid/labels/1-36_jpg.rf.df18ca07c4eb4e5214327222502fc64a.txt  \n",
            "  inflating: __MACOSX/+_2863_640_640_label_ACCIDENT_DETECTION.v1i.yolov7pytorch/valid/labels/._1-36_jpg.rf.df18ca07c4eb4e5214327222502fc64a.txt  \n",
            "  inflating: +_2863_640_640_label_ACCIDENT_DETECTION.v1i.yolov7pytorch/valid/labels/severity_V136_jpg.rf.04a0aa09d083313868d48c8660125043.txt  \n",
            "  inflating: __MACOSX/+_2863_640_640_label_ACCIDENT_DETECTION.v1i.yolov7pytorch/valid/labels/._severity_V136_jpg.rf.04a0aa09d083313868d48c8660125043.txt  \n",
            "  inflating: +_2863_640_640_label_ACCIDENT_DETECTION.v1i.yolov7pytorch/valid/labels/severityV3_39_jpeg_jpg.rf.6692bb5c9033f52fef6580df1b640cdd.txt  \n",
            "  inflating: __MACOSX/+_2863_640_640_label_ACCIDENT_DETECTION.v1i.yolov7pytorch/valid/labels/._severityV3_39_jpeg_jpg.rf.6692bb5c9033f52fef6580df1b640cdd.txt  \n",
            "  inflating: +_2863_640_640_label_ACCIDENT_DETECTION.v1i.yolov7pytorch/valid/labels/traffic_img117_jpg.rf.3d346b6617a22070348c7a2a6261e315.txt  \n",
            "  inflating: __MACOSX/+_2863_640_640_label_ACCIDENT_DETECTION.v1i.yolov7pytorch/valid/labels/._traffic_img117_jpg.rf.3d346b6617a22070348c7a2a6261e315.txt  \n",
            "  inflating: +_2863_640_640_label_ACCIDENT_DETECTION.v1i.yolov7pytorch/valid/labels/traffic_img421_jpg.rf.02ebd1b08a9b7331162035180c6c38d5.txt  \n",
            "  inflating: __MACOSX/+_2863_640_640_label_ACCIDENT_DETECTION.v1i.yolov7pytorch/valid/labels/._traffic_img421_jpg.rf.02ebd1b08a9b7331162035180c6c38d5.txt  \n",
            "  inflating: +_2863_640_640_label_ACCIDENT_DETECTION.v1i.yolov7pytorch/valid/labels/images-2_jpg.rf.3e9b46a3aeb8439e9829ee2db6f1b0a6.txt  \n",
            "  inflating: __MACOSX/+_2863_640_640_label_ACCIDENT_DETECTION.v1i.yolov7pytorch/valid/labels/._images-2_jpg.rf.3e9b46a3aeb8439e9829ee2db6f1b0a6.txt  \n",
            "  inflating: +_2863_640_640_label_ACCIDENT_DETECTION.v1i.yolov7pytorch/valid/labels/severityV4_33_jpg.rf.d0e211439481d5829654c9683d655701.txt  \n",
            "  inflating: __MACOSX/+_2863_640_640_label_ACCIDENT_DETECTION.v1i.yolov7pytorch/valid/labels/._severityV4_33_jpg.rf.d0e211439481d5829654c9683d655701.txt  \n",
            "  inflating: +_2863_640_640_label_ACCIDENT_DETECTION.v1i.yolov7pytorch/valid/labels/severity_V131_jpg.rf.9a1e97b6c1567a72f105d3052b6030b6.txt  \n",
            "  inflating: __MACOSX/+_2863_640_640_label_ACCIDENT_DETECTION.v1i.yolov7pytorch/valid/labels/._severity_V131_jpg.rf.9a1e97b6c1567a72f105d3052b6030b6.txt  \n",
            "  inflating: +_2863_640_640_label_ACCIDENT_DETECTION.v1i.yolov7pytorch/valid/labels/traffic_img1578_jpg.rf.ada32058874001ba23152add9ae5b564.txt  \n",
            "  inflating: __MACOSX/+_2863_640_640_label_ACCIDENT_DETECTION.v1i.yolov7pytorch/valid/labels/._traffic_img1578_jpg.rf.ada32058874001ba23152add9ae5b564.txt  \n",
            "  inflating: +_2863_640_640_label_ACCIDENT_DETECTION.v1i.yolov7pytorch/valid/labels/traffic_img754_jpg.rf.891c1fa7b319cfaceb918ffabc650f09.txt  \n",
            "  inflating: __MACOSX/+_2863_640_640_label_ACCIDENT_DETECTION.v1i.yolov7pytorch/valid/labels/._traffic_img754_jpg.rf.891c1fa7b319cfaceb918ffabc650f09.txt  \n",
            "  inflating: +_2863_640_640_label_ACCIDENT_DETECTION.v1i.yolov7pytorch/valid/labels/traffic_img175_jpg.rf.89cf166a891379c2f2db9c10c2361b47.txt  \n",
            "  inflating: __MACOSX/+_2863_640_640_label_ACCIDENT_DETECTION.v1i.yolov7pytorch/valid/labels/._traffic_img175_jpg.rf.89cf166a891379c2f2db9c10c2361b47.txt  \n",
            "  inflating: +_2863_640_640_label_ACCIDENT_DETECTION.v1i.yolov7pytorch/valid/labels/traffic_img1255_jpg.rf.e37fcd3aaf0c90933534e75b6da2c2e2.txt  \n",
            "  inflating: __MACOSX/+_2863_640_640_label_ACCIDENT_DETECTION.v1i.yolov7pytorch/valid/labels/._traffic_img1255_jpg.rf.e37fcd3aaf0c90933534e75b6da2c2e2.txt  \n",
            "  inflating: +_2863_640_640_label_ACCIDENT_DETECTION.v1i.yolov7pytorch/valid/labels/images-8_jpg.rf.91ff422998fdcacbbad140b56245b26e.txt  \n",
            "  inflating: __MACOSX/+_2863_640_640_label_ACCIDENT_DETECTION.v1i.yolov7pytorch/valid/labels/._images-8_jpg.rf.91ff422998fdcacbbad140b56245b26e.txt  \n",
            "  inflating: +_2863_640_640_label_ACCIDENT_DETECTION.v1i.yolov7pytorch/valid/labels/Semi-RealisticVD-29_jpg.rf.78d0c53e4ab236611fe7a691c886f299.txt  \n",
            "  inflating: __MACOSX/+_2863_640_640_label_ACCIDENT_DETECTION.v1i.yolov7pytorch/valid/labels/._Semi-RealisticVD-29_jpg.rf.78d0c53e4ab236611fe7a691c886f299.txt  \n",
            "  inflating: +_2863_640_640_label_ACCIDENT_DETECTION.v1i.yolov7pytorch/valid/labels/traffic_img1318_jpg.rf.db8e6410f6b735d1db20a70c529001e9.txt  \n",
            "  inflating: __MACOSX/+_2863_640_640_label_ACCIDENT_DETECTION.v1i.yolov7pytorch/valid/labels/._traffic_img1318_jpg.rf.db8e6410f6b735d1db20a70c529001e9.txt  \n",
            "  inflating: +_2863_640_640_label_ACCIDENT_DETECTION.v1i.yolov7pytorch/valid/labels/traffic_img1313_jpg.rf.37bb51df4967ba771a19cac20cbe236c.txt  \n",
            "  inflating: __MACOSX/+_2863_640_640_label_ACCIDENT_DETECTION.v1i.yolov7pytorch/valid/labels/._traffic_img1313_jpg.rf.37bb51df4967ba771a19cac20cbe236c.txt  \n",
            "  inflating: +_2863_640_640_label_ACCIDENT_DETECTION.v1i.yolov7pytorch/valid/labels/Semi-RealisticVD-31_jpg.rf.7437cb84108551a9dc8e53d1bc8372b1.txt  \n",
            "  inflating: __MACOSX/+_2863_640_640_label_ACCIDENT_DETECTION.v1i.yolov7pytorch/valid/labels/._Semi-RealisticVD-31_jpg.rf.7437cb84108551a9dc8e53d1bc8372b1.txt  \n",
            "  inflating: +_2863_640_640_label_ACCIDENT_DETECTION.v1i.yolov7pytorch/valid/labels/traffic_img916_jpg.rf.4542d377a087461af78af83ab8f63f3a.txt  \n",
            "  inflating: __MACOSX/+_2863_640_640_label_ACCIDENT_DETECTION.v1i.yolov7pytorch/valid/labels/._traffic_img916_jpg.rf.4542d377a087461af78af83ab8f63f3a.txt  \n",
            "  inflating: +_2863_640_640_label_ACCIDENT_DETECTION.v1i.yolov7pytorch/valid/labels/traffic_img94_jpg.rf.e2d6dca2d88740f73960cb79cb94acda.txt  \n",
            "  inflating: __MACOSX/+_2863_640_640_label_ACCIDENT_DETECTION.v1i.yolov7pytorch/valid/labels/._traffic_img94_jpg.rf.e2d6dca2d88740f73960cb79cb94acda.txt  \n",
            "  inflating: +_2863_640_640_label_ACCIDENT_DETECTION.v1i.yolov7pytorch/valid/labels/severityV4_26_jpg.rf.969c12c1ebb3cc67aee8b044e730cdb4.txt  \n",
            "  inflating: __MACOSX/+_2863_640_640_label_ACCIDENT_DETECTION.v1i.yolov7pytorch/valid/labels/._severityV4_26_jpg.rf.969c12c1ebb3cc67aee8b044e730cdb4.txt  \n",
            "  inflating: +_2863_640_640_label_ACCIDENT_DETECTION.v1i.yolov7pytorch/valid/labels/images-3_jpg.rf.9a202740d779ab9965b075877e09883e.txt  \n",
            "  inflating: __MACOSX/+_2863_640_640_label_ACCIDENT_DETECTION.v1i.yolov7pytorch/valid/labels/._images-3_jpg.rf.9a202740d779ab9965b075877e09883e.txt  \n",
            "  inflating: +_2863_640_640_label_ACCIDENT_DETECTION.v1i.yolov7pytorch/valid/labels/traffic_img781_jpg.rf.0af96100707cd09da9c35c4ad4664d9e.txt  \n",
            "  inflating: __MACOSX/+_2863_640_640_label_ACCIDENT_DETECTION.v1i.yolov7pytorch/valid/labels/._traffic_img781_jpg.rf.0af96100707cd09da9c35c4ad4664d9e.txt  \n",
            "  inflating: +_2863_640_640_label_ACCIDENT_DETECTION.v1i.yolov7pytorch/valid/labels/traffic_img2120_jpg.rf.23585da011499ff103d5a27cda261564.txt  \n",
            "  inflating: __MACOSX/+_2863_640_640_label_ACCIDENT_DETECTION.v1i.yolov7pytorch/valid/labels/._traffic_img2120_jpg.rf.23585da011499ff103d5a27cda261564.txt  \n",
            "  inflating: +_2863_640_640_label_ACCIDENT_DETECTION.v1i.yolov7pytorch/valid/labels/traffic_img1008_jpg.rf.d48f16d512fcf7dd720840518c3d0a3a.txt  \n",
            "  inflating: __MACOSX/+_2863_640_640_label_ACCIDENT_DETECTION.v1i.yolov7pytorch/valid/labels/._traffic_img1008_jpg.rf.d48f16d512fcf7dd720840518c3d0a3a.txt  \n",
            "  inflating: +_2863_640_640_label_ACCIDENT_DETECTION.v1i.yolov7pytorch/valid/labels/traffic_img1080_jpg.rf.34163506467f2499b58310612bcaee5a.txt  \n",
            "  inflating: __MACOSX/+_2863_640_640_label_ACCIDENT_DETECTION.v1i.yolov7pytorch/valid/labels/._traffic_img1080_jpg.rf.34163506467f2499b58310612bcaee5a.txt  \n",
            "  inflating: +_2863_640_640_label_ACCIDENT_DETECTION.v1i.yolov7pytorch/valid/labels/traffic_img1314_jpg.rf.c4a9d0452a91359e76d57c9bc78171e7.txt  \n",
            "  inflating: __MACOSX/+_2863_640_640_label_ACCIDENT_DETECTION.v1i.yolov7pytorch/valid/labels/._traffic_img1314_jpg.rf.c4a9d0452a91359e76d57c9bc78171e7.txt  \n",
            "  inflating: +_2863_640_640_label_ACCIDENT_DETECTION.v1i.yolov7pytorch/valid/labels/traffic_img915_jpg.rf.fbd586389f1af4c1e36110673389446a.txt  \n",
            "  inflating: __MACOSX/+_2863_640_640_label_ACCIDENT_DETECTION.v1i.yolov7pytorch/valid/labels/._traffic_img915_jpg.rf.fbd586389f1af4c1e36110673389446a.txt  \n",
            "  inflating: +_2863_640_640_label_ACCIDENT_DETECTION.v1i.yolov7pytorch/valid/labels/download-3_jpg.rf.18e1a068ac058d223dcb3729d027c98a.txt  \n",
            "  inflating: __MACOSX/+_2863_640_640_label_ACCIDENT_DETECTION.v1i.yolov7pytorch/valid/labels/._download-3_jpg.rf.18e1a068ac058d223dcb3729d027c98a.txt  \n",
            "  inflating: +_2863_640_640_label_ACCIDENT_DETECTION.v1i.yolov7pytorch/valid/labels/accidentFrame463_jpg.rf.52760cbe39ded0e77c4362463e6e9abd.txt  \n",
            "  inflating: __MACOSX/+_2863_640_640_label_ACCIDENT_DETECTION.v1i.yolov7pytorch/valid/labels/._accidentFrame463_jpg.rf.52760cbe39ded0e77c4362463e6e9abd.txt  \n",
            "  inflating: +_2863_640_640_label_ACCIDENT_DETECTION.v1i.yolov7pytorch/valid/labels/images-11_jpg.rf.c43de568316ad7ae46f74f171f1a022c.txt  \n",
            "  inflating: __MACOSX/+_2863_640_640_label_ACCIDENT_DETECTION.v1i.yolov7pytorch/valid/labels/._images-11_jpg.rf.c43de568316ad7ae46f74f171f1a022c.txt  \n",
            "  inflating: +_2863_640_640_label_ACCIDENT_DETECTION.v1i.yolov7pytorch/valid/labels/severityV2_9_jpg.rf.c8c2307ff5d2c130199cb27f1bb4721f.txt  \n",
            "  inflating: __MACOSX/+_2863_640_640_label_ACCIDENT_DETECTION.v1i.yolov7pytorch/valid/labels/._severityV2_9_jpg.rf.c8c2307ff5d2c130199cb27f1bb4721f.txt  \n",
            "  inflating: +_2863_640_640_label_ACCIDENT_DETECTION.v1i.yolov7pytorch/valid/labels/traffic_img419_jpg.rf.d8d08d79a2f34e08fa2b27fbd94bfeea.txt  \n",
            "  inflating: __MACOSX/+_2863_640_640_label_ACCIDENT_DETECTION.v1i.yolov7pytorch/valid/labels/._traffic_img419_jpg.rf.d8d08d79a2f34e08fa2b27fbd94bfeea.txt  \n",
            "  inflating: +_2863_640_640_label_ACCIDENT_DETECTION.v1i.yolov7pytorch/valid/labels/4-27_jpg.rf.8baa1a22a131ba07fe205fc933283f96.txt  \n",
            "  inflating: __MACOSX/+_2863_640_640_label_ACCIDENT_DETECTION.v1i.yolov7pytorch/valid/labels/._4-27_jpg.rf.8baa1a22a131ba07fe205fc933283f96.txt  \n",
            "  inflating: +_2863_640_640_label_ACCIDENT_DETECTION.v1i.yolov7pytorch/valid/labels/traffic_img1437_jpg.rf.fb5fa8ca08c075d354a01250b229866b.txt  \n",
            "  inflating: __MACOSX/+_2863_640_640_label_ACCIDENT_DETECTION.v1i.yolov7pytorch/valid/labels/._traffic_img1437_jpg.rf.fb5fa8ca08c075d354a01250b229866b.txt  \n",
            "  inflating: +_2863_640_640_label_ACCIDENT_DETECTION.v1i.yolov7pytorch/valid/labels/Semi-RealisticVD-63_jpg.rf.02fa793cbdfdab70fc845a8f871e400b.txt  \n",
            "  inflating: __MACOSX/+_2863_640_640_label_ACCIDENT_DETECTION.v1i.yolov7pytorch/valid/labels/._Semi-RealisticVD-63_jpg.rf.02fa793cbdfdab70fc845a8f871e400b.txt  \n",
            "  inflating: +_2863_640_640_label_ACCIDENT_DETECTION.v1i.yolov7pytorch/valid/labels/download-8_jpg.rf.58d5c0cd4c9b30a8d4bb104633820bb5.txt  \n",
            "  inflating: __MACOSX/+_2863_640_640_label_ACCIDENT_DETECTION.v1i.yolov7pytorch/valid/labels/._download-8_jpg.rf.58d5c0cd4c9b30a8d4bb104633820bb5.txt  \n",
            "  inflating: +_2863_640_640_label_ACCIDENT_DETECTION.v1i.yolov7pytorch/valid/labels/traffic_img619_jpg.rf.82c102877c98cab88fe3faf863b92905.txt  \n",
            "  inflating: __MACOSX/+_2863_640_640_label_ACCIDENT_DETECTION.v1i.yolov7pytorch/valid/labels/._traffic_img619_jpg.rf.82c102877c98cab88fe3faf863b92905.txt  \n",
            "  inflating: +_2863_640_640_label_ACCIDENT_DETECTION.v1i.yolov7pytorch/valid/labels/accidentFrame139_jpg.rf.7cb22b7fd1dcd248a7a79af432748963.txt  \n",
            "  inflating: __MACOSX/+_2863_640_640_label_ACCIDENT_DETECTION.v1i.yolov7pytorch/valid/labels/._accidentFrame139_jpg.rf.7cb22b7fd1dcd248a7a79af432748963.txt  \n",
            "  inflating: +_2863_640_640_label_ACCIDENT_DETECTION.v1i.yolov7pytorch/valid/labels/images-1_jpg.rf.96d84bfc97799bd7abfc7d8bb9622f15.txt  \n",
            "  inflating: __MACOSX/+_2863_640_640_label_ACCIDENT_DETECTION.v1i.yolov7pytorch/valid/labels/._images-1_jpg.rf.96d84bfc97799bd7abfc7d8bb9622f15.txt  \n",
            "  inflating: +_2863_640_640_label_ACCIDENT_DETECTION.v1i.yolov7pytorch/valid/labels/841_jpeg_jpg.rf.368918cc713818d558084090ef4a5e48.txt  \n",
            "  inflating: __MACOSX/+_2863_640_640_label_ACCIDENT_DETECTION.v1i.yolov7pytorch/valid/labels/._841_jpeg_jpg.rf.368918cc713818d558084090ef4a5e48.txt  \n",
            "  inflating: +_2863_640_640_label_ACCIDENT_DETECTION.v1i.yolov7pytorch/valid/labels/traffic_img952_jpg.rf.3c2f248b16141501b44ab8e723557f9f.txt  \n",
            "  inflating: __MACOSX/+_2863_640_640_label_ACCIDENT_DETECTION.v1i.yolov7pytorch/valid/labels/._traffic_img952_jpg.rf.3c2f248b16141501b44ab8e723557f9f.txt  \n",
            "  inflating: +_2863_640_640_label_ACCIDENT_DETECTION.v1i.yolov7pytorch/valid/labels/Semi-RealisticVD-49_jpg.rf.0cfcf1f77d00b8f66bdd8e0b211b5dec.txt  \n",
            "  inflating: __MACOSX/+_2863_640_640_label_ACCIDENT_DETECTION.v1i.yolov7pytorch/valid/labels/._Semi-RealisticVD-49_jpg.rf.0cfcf1f77d00b8f66bdd8e0b211b5dec.txt  \n",
            "  inflating: +_2863_640_640_label_ACCIDENT_DETECTION.v1i.yolov7pytorch/valid/labels/FLIP_CAR_V137_jpg.rf.35fd17744f7268635858136f22017937.txt  \n",
            "  inflating: __MACOSX/+_2863_640_640_label_ACCIDENT_DETECTION.v1i.yolov7pytorch/valid/labels/._FLIP_CAR_V137_jpg.rf.35fd17744f7268635858136f22017937.txt  \n",
            "  inflating: +_2863_640_640_label_ACCIDENT_DETECTION.v1i.yolov7pytorch/valid/labels/traffic_img1210_jpg.rf.864d75586ebefaa7131e19b53a4e8c1c.txt  \n",
            "  inflating: __MACOSX/+_2863_640_640_label_ACCIDENT_DETECTION.v1i.yolov7pytorch/valid/labels/._traffic_img1210_jpg.rf.864d75586ebefaa7131e19b53a4e8c1c.txt  \n",
            "  inflating: +_2863_640_640_label_ACCIDENT_DETECTION.v1i.yolov7pytorch/valid/labels/Severity_Detect_V17_jpg.rf.67dc1dc210de533bd25c9b02e3e46db7.txt  \n",
            "  inflating: __MACOSX/+_2863_640_640_label_ACCIDENT_DETECTION.v1i.yolov7pytorch/valid/labels/._Severity_Detect_V17_jpg.rf.67dc1dc210de533bd25c9b02e3e46db7.txt  \n",
            "  inflating: +_2863_640_640_label_ACCIDENT_DETECTION.v1i.yolov7pytorch/valid/labels/traffic_img1433_jpg.rf.9b3504a03dc49f34909ab172dd8353fa.txt  \n",
            "  inflating: __MACOSX/+_2863_640_640_label_ACCIDENT_DETECTION.v1i.yolov7pytorch/valid/labels/._traffic_img1433_jpg.rf.9b3504a03dc49f34909ab172dd8353fa.txt  \n",
            "  inflating: +_2863_640_640_label_ACCIDENT_DETECTION.v1i.yolov7pytorch/valid/labels/traffic_img1456_jpg.rf.5909e6c23e98b6efabc6a0bf5eff05e8.txt  \n",
            "  inflating: __MACOSX/+_2863_640_640_label_ACCIDENT_DETECTION.v1i.yolov7pytorch/valid/labels/._traffic_img1456_jpg.rf.5909e6c23e98b6efabc6a0bf5eff05e8.txt  \n",
            "  inflating: +_2863_640_640_label_ACCIDENT_DETECTION.v1i.yolov7pytorch/valid/labels/traffic_img690_jpg.rf.29de82466e68f9e74ca6d31505242f2d.txt  \n",
            "  inflating: __MACOSX/+_2863_640_640_label_ACCIDENT_DETECTION.v1i.yolov7pytorch/valid/labels/._traffic_img690_jpg.rf.29de82466e68f9e74ca6d31505242f2d.txt  \n",
            "  inflating: +_2863_640_640_label_ACCIDENT_DETECTION.v1i.yolov7pytorch/valid/labels/severityV4_11_jpg.rf.cc0e98e5b0f2ac9118bf16440258fa43.txt  \n",
            "  inflating: __MACOSX/+_2863_640_640_label_ACCIDENT_DETECTION.v1i.yolov7pytorch/valid/labels/._severityV4_11_jpg.rf.cc0e98e5b0f2ac9118bf16440258fa43.txt  \n",
            "  inflating: +_2863_640_640_label_ACCIDENT_DETECTION.v1i.yolov7pytorch/valid/labels/traffic_img104_jpg.rf.9cf2e936900a5dadc8f6ed385a32d574.txt  \n",
            "  inflating: __MACOSX/+_2863_640_640_label_ACCIDENT_DETECTION.v1i.yolov7pytorch/valid/labels/._traffic_img104_jpg.rf.9cf2e936900a5dadc8f6ed385a32d574.txt  \n",
            "  inflating: +_2863_640_640_label_ACCIDENT_DETECTION.v1i.yolov7pytorch/valid/labels/accidentFrame3417_jpg.rf.6de065af62d4d1b60c6699256bb480da.txt  \n",
            "  inflating: __MACOSX/+_2863_640_640_label_ACCIDENT_DETECTION.v1i.yolov7pytorch/valid/labels/._accidentFrame3417_jpg.rf.6de065af62d4d1b60c6699256bb480da.txt  \n",
            "  inflating: +_2863_640_640_label_ACCIDENT_DETECTION.v1i.yolov7pytorch/valid/labels/traffic_img194_jpg.rf.7e81e15e90d3333ac9b94154d8ff8f09.txt  \n",
            "  inflating: __MACOSX/+_2863_640_640_label_ACCIDENT_DETECTION.v1i.yolov7pytorch/valid/labels/._traffic_img194_jpg.rf.7e81e15e90d3333ac9b94154d8ff8f09.txt  \n",
            "  inflating: +_2863_640_640_label_ACCIDENT_DETECTION.v1i.yolov7pytorch/valid/labels/accidentFrame470_jpg.rf.839d48081608cab31a9d5947cf6e947b.txt  \n",
            "  inflating: __MACOSX/+_2863_640_640_label_ACCIDENT_DETECTION.v1i.yolov7pytorch/valid/labels/._accidentFrame470_jpg.rf.839d48081608cab31a9d5947cf6e947b.txt  \n",
            "  inflating: +_2863_640_640_label_ACCIDENT_DETECTION.v1i.yolov7pytorch/valid/labels/images-4_jpg.rf.919fd9251f2715b6c6847050c6e23c9b.txt  \n",
            "  inflating: __MACOSX/+_2863_640_640_label_ACCIDENT_DETECTION.v1i.yolov7pytorch/valid/labels/._images-4_jpg.rf.919fd9251f2715b6c6847050c6e23c9b.txt  \n",
            "  inflating: +_2863_640_640_label_ACCIDENT_DETECTION.v1i.yolov7pytorch/valid/labels/severityV2_33_jpg.rf.a102a042874552bf1e5347ba1e107af9.txt  \n",
            "  inflating: __MACOSX/+_2863_640_640_label_ACCIDENT_DETECTION.v1i.yolov7pytorch/valid/labels/._severityV2_33_jpg.rf.a102a042874552bf1e5347ba1e107af9.txt  \n",
            "  inflating: +_2863_640_640_label_ACCIDENT_DETECTION.v1i.yolov7pytorch/valid/labels/traffic_img1391_jpg.rf.9d0e0b1de95a7f220e4b318fd3bf6258.txt  \n",
            "  inflating: __MACOSX/+_2863_640_640_label_ACCIDENT_DETECTION.v1i.yolov7pytorch/valid/labels/._traffic_img1391_jpg.rf.9d0e0b1de95a7f220e4b318fd3bf6258.txt  \n",
            "  inflating: +_2863_640_640_label_ACCIDENT_DETECTION.v1i.yolov7pytorch/valid/labels/traffic_img617_jpg.rf.e25488f12617733b35669cb0123e1f81.txt  \n",
            "  inflating: __MACOSX/+_2863_640_640_label_ACCIDENT_DETECTION.v1i.yolov7pytorch/valid/labels/._traffic_img617_jpg.rf.e25488f12617733b35669cb0123e1f81.txt  \n",
            "  inflating: +_2863_640_640_label_ACCIDENT_DETECTION.v1i.yolov7pytorch/valid/labels/traffic_img863_jpg.rf.2c0d77274e6e4652ff068ccb743cb3eb.txt  \n",
            "  inflating: __MACOSX/+_2863_640_640_label_ACCIDENT_DETECTION.v1i.yolov7pytorch/valid/labels/._traffic_img863_jpg.rf.2c0d77274e6e4652ff068ccb743cb3eb.txt  \n",
            "  inflating: +_2863_640_640_label_ACCIDENT_DETECTION.v1i.yolov7pytorch/valid/labels/traffic_img1027_jpg.rf.57a8da38133a30b6c8ca027563b37d81.txt  \n",
            "  inflating: __MACOSX/+_2863_640_640_label_ACCIDENT_DETECTION.v1i.yolov7pytorch/valid/labels/._traffic_img1027_jpg.rf.57a8da38133a30b6c8ca027563b37d81.txt  \n",
            "  inflating: +_2863_640_640_label_ACCIDENT_DETECTION.v1i.yolov7pytorch/valid/labels/traffic_img620_jpg.rf.71684cb64178188e3810facd280105e6.txt  \n",
            "  inflating: __MACOSX/+_2863_640_640_label_ACCIDENT_DETECTION.v1i.yolov7pytorch/valid/labels/._traffic_img620_jpg.rf.71684cb64178188e3810facd280105e6.txt  \n",
            "  inflating: +_2863_640_640_label_ACCIDENT_DETECTION.v1i.yolov7pytorch/valid/labels/traffic_img28_jpg.rf.77a9446f61acf1773830ecf315fb23e4.txt  \n",
            "  inflating: __MACOSX/+_2863_640_640_label_ACCIDENT_DETECTION.v1i.yolov7pytorch/valid/labels/._traffic_img28_jpg.rf.77a9446f61acf1773830ecf315fb23e4.txt  \n",
            "  inflating: +_2863_640_640_label_ACCIDENT_DETECTION.v1i.yolov7pytorch/valid/labels/images-7_jpg.rf.57ddccb4a042e033ce7bfa6f206162f9.txt  \n",
            "  inflating: __MACOSX/+_2863_640_640_label_ACCIDENT_DETECTION.v1i.yolov7pytorch/valid/labels/._images-7_jpg.rf.57ddccb4a042e033ce7bfa6f206162f9.txt  \n",
            "  inflating: +_2863_640_640_label_ACCIDENT_DETECTION.v1i.yolov7pytorch/valid/labels/severV12_jpg.rf.548df6d09ad5e0ccb9032ab504dd1e6b.txt  \n",
            "  inflating: __MACOSX/+_2863_640_640_label_ACCIDENT_DETECTION.v1i.yolov7pytorch/valid/labels/._severV12_jpg.rf.548df6d09ad5e0ccb9032ab504dd1e6b.txt  \n",
            "  inflating: +_2863_640_640_label_ACCIDENT_DETECTION.v1i.yolov7pytorch/valid/labels/new_SD5_jpg.rf.b38ccbc7513a7d30de4992674549a39e.txt  \n",
            "  inflating: __MACOSX/+_2863_640_640_label_ACCIDENT_DETECTION.v1i.yolov7pytorch/valid/labels/._new_SD5_jpg.rf.b38ccbc7513a7d30de4992674549a39e.txt  \n",
            "  inflating: +_2863_640_640_label_ACCIDENT_DETECTION.v1i.yolov7pytorch/valid/labels/severV17_jpg.rf.41bb189b876fc50db3dfdd850397fd99.txt  \n",
            "  inflating: __MACOSX/+_2863_640_640_label_ACCIDENT_DETECTION.v1i.yolov7pytorch/valid/labels/._severV17_jpg.rf.41bb189b876fc50db3dfdd850397fd99.txt  \n",
            "  inflating: +_2863_640_640_label_ACCIDENT_DETECTION.v1i.yolov7pytorch/valid/labels/severityV4_45_jpg.rf.3245d48b7f0d089230f3b5a6c3ac8bbf.txt  \n",
            "  inflating: __MACOSX/+_2863_640_640_label_ACCIDENT_DETECTION.v1i.yolov7pytorch/valid/labels/._severityV4_45_jpg.rf.3245d48b7f0d089230f3b5a6c3ac8bbf.txt  \n",
            "  inflating: +_2863_640_640_label_ACCIDENT_DETECTION.v1i.yolov7pytorch/valid/labels/traffic_img282_jpg.rf.43748e06198f42ba3b41178a1bc12dca.txt  \n",
            "  inflating: __MACOSX/+_2863_640_640_label_ACCIDENT_DETECTION.v1i.yolov7pytorch/valid/labels/._traffic_img282_jpg.rf.43748e06198f42ba3b41178a1bc12dca.txt  \n",
            "  inflating: +_2863_640_640_label_ACCIDENT_DETECTION.v1i.yolov7pytorch/valid/labels/tt2_png_jpg.rf.d1fa0d78372c63e733275e62029a9d2a.txt  \n",
            "  inflating: __MACOSX/+_2863_640_640_label_ACCIDENT_DETECTION.v1i.yolov7pytorch/valid/labels/._tt2_png_jpg.rf.d1fa0d78372c63e733275e62029a9d2a.txt  \n",
            "  inflating: +_2863_640_640_label_ACCIDENT_DETECTION.v1i.yolov7pytorch/valid/labels/screen_images1_png_jpg.rf.dee976c8252d9228e0f31922fa2e0c8c.txt  \n",
            "  inflating: __MACOSX/+_2863_640_640_label_ACCIDENT_DETECTION.v1i.yolov7pytorch/valid/labels/._screen_images1_png_jpg.rf.dee976c8252d9228e0f31922fa2e0c8c.txt  \n",
            "  inflating: +_2863_640_640_label_ACCIDENT_DETECTION.v1i.yolov7pytorch/valid/labels/traffic_img1444_jpg.rf.145483837488455768555ad4b07540ed.txt  \n",
            "  inflating: __MACOSX/+_2863_640_640_label_ACCIDENT_DETECTION.v1i.yolov7pytorch/valid/labels/._traffic_img1444_jpg.rf.145483837488455768555ad4b07540ed.txt  \n",
            "  inflating: +_2863_640_640_label_ACCIDENT_DETECTION.v1i.yolov7pytorch/valid/labels/images-3_jpg.rf.3983adcabb84879e14f5d9132f327b12.txt  \n",
            "  inflating: __MACOSX/+_2863_640_640_label_ACCIDENT_DETECTION.v1i.yolov7pytorch/valid/labels/._images-3_jpg.rf.3983adcabb84879e14f5d9132f327b12.txt  \n",
            "  inflating: +_2863_640_640_label_ACCIDENT_DETECTION.v1i.yolov7pytorch/valid/labels/images-3_jpg.rf.3e5a76e3358f9067201af94ed429e708.txt  \n",
            "  inflating: __MACOSX/+_2863_640_640_label_ACCIDENT_DETECTION.v1i.yolov7pytorch/valid/labels/._images-3_jpg.rf.3e5a76e3358f9067201af94ed429e708.txt  \n",
            "  inflating: +_2863_640_640_label_ACCIDENT_DETECTION.v1i.yolov7pytorch/valid/labels/severityV2_28_jpg.rf.0c75b44b0d54cd2e3fdc768b64eae1c3.txt  \n",
            "  inflating: __MACOSX/+_2863_640_640_label_ACCIDENT_DETECTION.v1i.yolov7pytorch/valid/labels/._severityV2_28_jpg.rf.0c75b44b0d54cd2e3fdc768b64eae1c3.txt  \n",
            "  inflating: +_2863_640_640_label_ACCIDENT_DETECTION.v1i.yolov7pytorch/valid/labels/traffic_img1197_jpg.rf.bb03de4021dfaab37859e828b84f6e25.txt  \n",
            "  inflating: __MACOSX/+_2863_640_640_label_ACCIDENT_DETECTION.v1i.yolov7pytorch/valid/labels/._traffic_img1197_jpg.rf.bb03de4021dfaab37859e828b84f6e25.txt  \n",
            "  inflating: +_2863_640_640_label_ACCIDENT_DETECTION.v1i.yolov7pytorch/valid/labels/images_jpg.rf.8643c992c0fb3a87ffa05d375f5cf334.txt  \n",
            "  inflating: __MACOSX/+_2863_640_640_label_ACCIDENT_DETECTION.v1i.yolov7pytorch/valid/labels/._images_jpg.rf.8643c992c0fb3a87ffa05d375f5cf334.txt  \n",
            "  inflating: +_2863_640_640_label_ACCIDENT_DETECTION.v1i.yolov7pytorch/valid/labels/traffic_img420_jpg.rf.7849ea568da25997b8d7c81ce606298a.txt  \n",
            "  inflating: __MACOSX/+_2863_640_640_label_ACCIDENT_DETECTION.v1i.yolov7pytorch/valid/labels/._traffic_img420_jpg.rf.7849ea568da25997b8d7c81ce606298a.txt  \n",
            "  inflating: +_2863_640_640_label_ACCIDENT_DETECTION.v1i.yolov7pytorch/valid/labels/accidentFrame2755_jpg.rf.f4720d4a7bb2200b901a89c5096c7530.txt  \n",
            "  inflating: __MACOSX/+_2863_640_640_label_ACCIDENT_DETECTION.v1i.yolov7pytorch/valid/labels/._accidentFrame2755_jpg.rf.f4720d4a7bb2200b901a89c5096c7530.txt  \n",
            "  inflating: +_2863_640_640_label_ACCIDENT_DETECTION.v1i.yolov7pytorch/valid/labels/5895211_013120-skyeye-garbage-truck-vid_jpg.rf.139a31900239e88b4999f65abfe3d5b0.txt  \n",
            "  inflating: __MACOSX/+_2863_640_640_label_ACCIDENT_DETECTION.v1i.yolov7pytorch/valid/labels/._5895211_013120-skyeye-garbage-truck-vid_jpg.rf.139a31900239e88b4999f65abfe3d5b0.txt  \n",
            "  inflating: +_2863_640_640_label_ACCIDENT_DETECTION.v1i.yolov7pytorch/valid/labels/download-1_jpg.rf.5de528afc5a40a5ef7f8883f5c2c53d5.txt  \n",
            "  inflating: __MACOSX/+_2863_640_640_label_ACCIDENT_DETECTION.v1i.yolov7pytorch/valid/labels/._download-1_jpg.rf.5de528afc5a40a5ef7f8883f5c2c53d5.txt  \n",
            "  inflating: +_2863_640_640_label_ACCIDENT_DETECTION.v1i.yolov7pytorch/valid/labels/4-10_jpg.rf.843e2cfefb18eeed5761b9c116373dee.txt  \n",
            "  inflating: __MACOSX/+_2863_640_640_label_ACCIDENT_DETECTION.v1i.yolov7pytorch/valid/labels/._4-10_jpg.rf.843e2cfefb18eeed5761b9c116373dee.txt  \n",
            "  inflating: +_2863_640_640_label_ACCIDENT_DETECTION.v1i.yolov7pytorch/valid/labels/traffic_img1025_jpg.rf.b34cac719498981e910aa4cb2c18a554.txt  \n",
            "  inflating: __MACOSX/+_2863_640_640_label_ACCIDENT_DETECTION.v1i.yolov7pytorch/valid/labels/._traffic_img1025_jpg.rf.b34cac719498981e910aa4cb2c18a554.txt  \n",
            "  inflating: +_2863_640_640_label_ACCIDENT_DETECTION.v1i.yolov7pytorch/test/images/Severity_Detect_V19_jpg.rf.382195945ee3d9041fdc9b4f09dc602a.jpg  \n",
            "  inflating: __MACOSX/+_2863_640_640_label_ACCIDENT_DETECTION.v1i.yolov7pytorch/test/images/._Severity_Detect_V19_jpg.rf.382195945ee3d9041fdc9b4f09dc602a.jpg  \n",
            "  inflating: +_2863_640_640_label_ACCIDENT_DETECTION.v1i.yolov7pytorch/test/images/1107_jpeg_jpg.rf.6ca8b942adc1cb998b0d2e0f4ddbf787.jpg  \n",
            "  inflating: __MACOSX/+_2863_640_640_label_ACCIDENT_DETECTION.v1i.yolov7pytorch/test/images/._1107_jpeg_jpg.rf.6ca8b942adc1cb998b0d2e0f4ddbf787.jpg  \n",
            "  inflating: +_2863_640_640_label_ACCIDENT_DETECTION.v1i.yolov7pytorch/test/images/download-2_jpg.rf.fe06ea0ef13b32c8d9ef5ef2c8031fb4.jpg  \n",
            "  inflating: __MACOSX/+_2863_640_640_label_ACCIDENT_DETECTION.v1i.yolov7pytorch/test/images/._download-2_jpg.rf.fe06ea0ef13b32c8d9ef5ef2c8031fb4.jpg  \n",
            "  inflating: +_2863_640_640_label_ACCIDENT_DETECTION.v1i.yolov7pytorch/test/images/images-4_jpg.rf.286ac213c84a2da2d17b39750a52941b.jpg  \n",
            "  inflating: __MACOSX/+_2863_640_640_label_ACCIDENT_DETECTION.v1i.yolov7pytorch/test/images/._images-4_jpg.rf.286ac213c84a2da2d17b39750a52941b.jpg  \n",
            "  inflating: +_2863_640_640_label_ACCIDENT_DETECTION.v1i.yolov7pytorch/test/images/traffic_img402_jpg.rf.ba3aae8326f8751463c7ff535f4d2170.jpg  \n",
            "  inflating: __MACOSX/+_2863_640_640_label_ACCIDENT_DETECTION.v1i.yolov7pytorch/test/images/._traffic_img402_jpg.rf.ba3aae8326f8751463c7ff535f4d2170.jpg  \n",
            "  inflating: +_2863_640_640_label_ACCIDENT_DETECTION.v1i.yolov7pytorch/test/images/808_jpeg_jpg.rf.1e8d6022a834d1481f8d13cc9c202418.jpg  \n",
            "  inflating: __MACOSX/+_2863_640_640_label_ACCIDENT_DETECTION.v1i.yolov7pytorch/test/images/._808_jpeg_jpg.rf.1e8d6022a834d1481f8d13cc9c202418.jpg  \n",
            "  inflating: +_2863_640_640_label_ACCIDENT_DETECTION.v1i.yolov7pytorch/test/images/images-43_jpg.rf.f45f6a6774b6359199f363d1837249d6.jpg  \n",
            "  inflating: __MACOSX/+_2863_640_640_label_ACCIDENT_DETECTION.v1i.yolov7pytorch/test/images/._images-43_jpg.rf.f45f6a6774b6359199f363d1837249d6.jpg  \n",
            "  inflating: +_2863_640_640_label_ACCIDENT_DETECTION.v1i.yolov7pytorch/test/images/traffic_img1298_jpg.rf.91f1b8c6cd2ef1300c202541b971666b.jpg  \n",
            "  inflating: __MACOSX/+_2863_640_640_label_ACCIDENT_DETECTION.v1i.yolov7pytorch/test/images/._traffic_img1298_jpg.rf.91f1b8c6cd2ef1300c202541b971666b.jpg  \n",
            "  inflating: +_2863_640_640_label_ACCIDENT_DETECTION.v1i.yolov7pytorch/test/images/images-21_jpg.rf.52011efc8b60e6dfffe52fa1eeab5e11.jpg  \n",
            "  inflating: __MACOSX/+_2863_640_640_label_ACCIDENT_DETECTION.v1i.yolov7pytorch/test/images/._images-21_jpg.rf.52011efc8b60e6dfffe52fa1eeab5e11.jpg  \n",
            "  inflating: +_2863_640_640_label_ACCIDENT_DETECTION.v1i.yolov7pytorch/test/images/traffic_img343_jpg.rf.1869ccf700d3b0a23ed320b73b1c2294.jpg  \n",
            "  inflating: __MACOSX/+_2863_640_640_label_ACCIDENT_DETECTION.v1i.yolov7pytorch/test/images/._traffic_img343_jpg.rf.1869ccf700d3b0a23ed320b73b1c2294.jpg  \n",
            "  inflating: +_2863_640_640_label_ACCIDENT_DETECTION.v1i.yolov7pytorch/test/images/FLIP_CAR_V118_jpg.rf.4b572aaf6f1938e853f47e02552fadb2.jpg  \n",
            "  inflating: __MACOSX/+_2863_640_640_label_ACCIDENT_DETECTION.v1i.yolov7pytorch/test/images/._FLIP_CAR_V118_jpg.rf.4b572aaf6f1938e853f47e02552fadb2.jpg  \n",
            "  inflating: +_2863_640_640_label_ACCIDENT_DETECTION.v1i.yolov7pytorch/test/images/download-1_jpg.rf.b77bd0cc35f4048ba227885695fd187c.jpg  \n",
            "  inflating: __MACOSX/+_2863_640_640_label_ACCIDENT_DETECTION.v1i.yolov7pytorch/test/images/._download-1_jpg.rf.b77bd0cc35f4048ba227885695fd187c.jpg  \n",
            "  inflating: +_2863_640_640_label_ACCIDENT_DETECTION.v1i.yolov7pytorch/test/images/traffic_img147_jpg.rf.00ea1ffde9a1941f6c5ba071e5e9efe9.jpg  \n",
            "  inflating: __MACOSX/+_2863_640_640_label_ACCIDENT_DETECTION.v1i.yolov7pytorch/test/images/._traffic_img147_jpg.rf.00ea1ffde9a1941f6c5ba071e5e9efe9.jpg  \n",
            "  inflating: +_2863_640_640_label_ACCIDENT_DETECTION.v1i.yolov7pytorch/test/images/images-4_jpg.rf.e6ee4304ee441257651870d7f124c81b.jpg  \n",
            "  inflating: __MACOSX/+_2863_640_640_label_ACCIDENT_DETECTION.v1i.yolov7pytorch/test/images/._images-4_jpg.rf.e6ee4304ee441257651870d7f124c81b.jpg  \n",
            "  inflating: +_2863_640_640_label_ACCIDENT_DETECTION.v1i.yolov7pytorch/test/images/severity_V18_jpg.rf.2c667ba2088f1304bf1d20c7a1186c7b.jpg  \n",
            "  inflating: __MACOSX/+_2863_640_640_label_ACCIDENT_DETECTION.v1i.yolov7pytorch/test/images/._severity_V18_jpg.rf.2c667ba2088f1304bf1d20c7a1186c7b.jpg  \n",
            "  inflating: +_2863_640_640_label_ACCIDENT_DETECTION.v1i.yolov7pytorch/test/images/accidentFrame2718_jpg.rf.6da8f7b6f05efc51e817d4ac87e3bb6a.jpg  \n",
            "  inflating: __MACOSX/+_2863_640_640_label_ACCIDENT_DETECTION.v1i.yolov7pytorch/test/images/._accidentFrame2718_jpg.rf.6da8f7b6f05efc51e817d4ac87e3bb6a.jpg  \n",
            "  inflating: +_2863_640_640_label_ACCIDENT_DETECTION.v1i.yolov7pytorch/test/images/severityV4_67_jpg.rf.54e232e2766c11650aeff4c1599ffbd4.jpg  \n",
            "  inflating: __MACOSX/+_2863_640_640_label_ACCIDENT_DETECTION.v1i.yolov7pytorch/test/images/._severityV4_67_jpg.rf.54e232e2766c11650aeff4c1599ffbd4.jpg  \n",
            "  inflating: +_2863_640_640_label_ACCIDENT_DETECTION.v1i.yolov7pytorch/test/images/traffic_img23_jpg.rf.0c1659cc7ed310c2319e2fc9b3c37e5b.jpg  \n",
            "  inflating: __MACOSX/+_2863_640_640_label_ACCIDENT_DETECTION.v1i.yolov7pytorch/test/images/._traffic_img23_jpg.rf.0c1659cc7ed310c2319e2fc9b3c37e5b.jpg  \n",
            "  inflating: +_2863_640_640_label_ACCIDENT_DETECTION.v1i.yolov7pytorch/test/images/9k_-8-_jpg.rf.dff644376d556be3c260dfcb753f160e.jpg  \n",
            "  inflating: __MACOSX/+_2863_640_640_label_ACCIDENT_DETECTION.v1i.yolov7pytorch/test/images/._9k_-8-_jpg.rf.dff644376d556be3c260dfcb753f160e.jpg  \n",
            "  inflating: +_2863_640_640_label_ACCIDENT_DETECTION.v1i.yolov7pytorch/test/images/traffic_img852_jpg.rf.9af45f65d7d77d0b7be112dd5d2e02c8.jpg  \n",
            "  inflating: __MACOSX/+_2863_640_640_label_ACCIDENT_DETECTION.v1i.yolov7pytorch/test/images/._traffic_img852_jpg.rf.9af45f65d7d77d0b7be112dd5d2e02c8.jpg  \n",
            "  inflating: +_2863_640_640_label_ACCIDENT_DETECTION.v1i.yolov7pytorch/test/images/accidentFrame2731_jpg.rf.06c33e9388e312650eee141aaf7e96b9.jpg  \n",
            "  inflating: __MACOSX/+_2863_640_640_label_ACCIDENT_DETECTION.v1i.yolov7pytorch/test/images/._accidentFrame2731_jpg.rf.06c33e9388e312650eee141aaf7e96b9.jpg  \n",
            "  inflating: +_2863_640_640_label_ACCIDENT_DETECTION.v1i.yolov7pytorch/test/images/traffic_img403_jpg.rf.859420c0517c76b48410d63f9629dd11.jpg  \n",
            "  inflating: __MACOSX/+_2863_640_640_label_ACCIDENT_DETECTION.v1i.yolov7pytorch/test/images/._traffic_img403_jpg.rf.859420c0517c76b48410d63f9629dd11.jpg  \n",
            "  inflating: +_2863_640_640_label_ACCIDENT_DETECTION.v1i.yolov7pytorch/test/images/traffic_img1118_jpg.rf.9f3cff138b3ab68cbe184d3f96b7f516.jpg  \n",
            "  inflating: __MACOSX/+_2863_640_640_label_ACCIDENT_DETECTION.v1i.yolov7pytorch/test/images/._traffic_img1118_jpg.rf.9f3cff138b3ab68cbe184d3f96b7f516.jpg  \n",
            "  inflating: +_2863_640_640_label_ACCIDENT_DETECTION.v1i.yolov7pytorch/test/images/traffic_img190_jpg.rf.8c8d3c584db08587645033dfd9c662a2.jpg  \n",
            "  inflating: __MACOSX/+_2863_640_640_label_ACCIDENT_DETECTION.v1i.yolov7pytorch/test/images/._traffic_img190_jpg.rf.8c8d3c584db08587645033dfd9c662a2.jpg  \n",
            "  inflating: +_2863_640_640_label_ACCIDENT_DETECTION.v1i.yolov7pytorch/test/images/traffic_img10_jpg.rf.1df0c840a433f094a3984edf0e2741c0.jpg  \n",
            "  inflating: __MACOSX/+_2863_640_640_label_ACCIDENT_DETECTION.v1i.yolov7pytorch/test/images/._traffic_img10_jpg.rf.1df0c840a433f094a3984edf0e2741c0.jpg  \n",
            "  inflating: +_2863_640_640_label_ACCIDENT_DETECTION.v1i.yolov7pytorch/test/images/traffic_img497_jpg.rf.cec9e562036509a8edfb2e4e2bbe1f21.jpg  \n",
            "  inflating: __MACOSX/+_2863_640_640_label_ACCIDENT_DETECTION.v1i.yolov7pytorch/test/images/._traffic_img497_jpg.rf.cec9e562036509a8edfb2e4e2bbe1f21.jpg  \n",
            "  inflating: +_2863_640_640_label_ACCIDENT_DETECTION.v1i.yolov7pytorch/test/images/Semi-RealisticVD-150_jpg.rf.e51acff4cfcf09a7c00360a80b769c55.jpg  \n",
            "  inflating: __MACOSX/+_2863_640_640_label_ACCIDENT_DETECTION.v1i.yolov7pytorch/test/images/._Semi-RealisticVD-150_jpg.rf.e51acff4cfcf09a7c00360a80b769c55.jpg  \n",
            "  inflating: +_2863_640_640_label_ACCIDENT_DETECTION.v1i.yolov7pytorch/test/images/images-9_jpg.rf.7a5e6692917f5e8c60f2c067af3a9908.jpg  \n",
            "  inflating: __MACOSX/+_2863_640_640_label_ACCIDENT_DETECTION.v1i.yolov7pytorch/test/images/._images-9_jpg.rf.7a5e6692917f5e8c60f2c067af3a9908.jpg  \n",
            "  inflating: +_2863_640_640_label_ACCIDENT_DETECTION.v1i.yolov7pytorch/test/images/traffic_img1072_jpg.rf.cdda43bb7c1e4c530e4cf92675a6672f.jpg  \n",
            "  inflating: __MACOSX/+_2863_640_640_label_ACCIDENT_DETECTION.v1i.yolov7pytorch/test/images/._traffic_img1072_jpg.rf.cdda43bb7c1e4c530e4cf92675a6672f.jpg  \n",
            "  inflating: +_2863_640_640_label_ACCIDENT_DETECTION.v1i.yolov7pytorch/test/images/FLIP_CAR_V17_jpg.rf.e614246cd519b27f7a29a24bdfacbd22.jpg  \n",
            "  inflating: __MACOSX/+_2863_640_640_label_ACCIDENT_DETECTION.v1i.yolov7pytorch/test/images/._FLIP_CAR_V17_jpg.rf.e614246cd519b27f7a29a24bdfacbd22.jpg  \n",
            "  inflating: +_2863_640_640_label_ACCIDENT_DETECTION.v1i.yolov7pytorch/test/images/FLIP_CAR_V169_jpg.rf.df58a83b118bd5743fbf00aec79fc93d.jpg  \n",
            "  inflating: __MACOSX/+_2863_640_640_label_ACCIDENT_DETECTION.v1i.yolov7pytorch/test/images/._FLIP_CAR_V169_jpg.rf.df58a83b118bd5743fbf00aec79fc93d.jpg  \n",
            "  inflating: +_2863_640_640_label_ACCIDENT_DETECTION.v1i.yolov7pytorch/test/images/images-1_jpg.rf.c5e2cb5a7f52193521de696a8f47d426.jpg  \n",
            "  inflating: __MACOSX/+_2863_640_640_label_ACCIDENT_DETECTION.v1i.yolov7pytorch/test/images/._images-1_jpg.rf.c5e2cb5a7f52193521de696a8f47d426.jpg  \n",
            "  inflating: +_2863_640_640_label_ACCIDENT_DETECTION.v1i.yolov7pytorch/test/images/severityV3_7_jpeg_jpg.rf.313c6b87435d8bee8777554511a86d92.jpg  \n",
            "  inflating: __MACOSX/+_2863_640_640_label_ACCIDENT_DETECTION.v1i.yolov7pytorch/test/images/._severityV3_7_jpeg_jpg.rf.313c6b87435d8bee8777554511a86d92.jpg  \n",
            "  inflating: +_2863_640_640_label_ACCIDENT_DETECTION.v1i.yolov7pytorch/test/images/traffic_img52_jpg.rf.8bcd27064d99fa9b26e86e561d044adc.jpg  \n",
            "  inflating: __MACOSX/+_2863_640_640_label_ACCIDENT_DETECTION.v1i.yolov7pytorch/test/images/._traffic_img52_jpg.rf.8bcd27064d99fa9b26e86e561d044adc.jpg  \n",
            "  inflating: +_2863_640_640_label_ACCIDENT_DETECTION.v1i.yolov7pytorch/test/images/traffic_img515_jpg.rf.6ddc48303d9f23c46938f92ed96a1ce5.jpg  \n",
            "  inflating: __MACOSX/+_2863_640_640_label_ACCIDENT_DETECTION.v1i.yolov7pytorch/test/images/._traffic_img515_jpg.rf.6ddc48303d9f23c46938f92ed96a1ce5.jpg  \n",
            "  inflating: +_2863_640_640_label_ACCIDENT_DETECTION.v1i.yolov7pytorch/test/images/FLIP_CAR_V154_jpg.rf.45e912fda740602e1a6cb184a3bc59e4.jpg  \n",
            "  inflating: __MACOSX/+_2863_640_640_label_ACCIDENT_DETECTION.v1i.yolov7pytorch/test/images/._FLIP_CAR_V154_jpg.rf.45e912fda740602e1a6cb184a3bc59e4.jpg  \n",
            "  inflating: +_2863_640_640_label_ACCIDENT_DETECTION.v1i.yolov7pytorch/test/images/FLIP_CAR_V146_jpg.rf.e98577e04e0781fafefb146650171029.jpg  \n",
            "  inflating: __MACOSX/+_2863_640_640_label_ACCIDENT_DETECTION.v1i.yolov7pytorch/test/images/._FLIP_CAR_V146_jpg.rf.e98577e04e0781fafefb146650171029.jpg  \n",
            "  inflating: +_2863_640_640_label_ACCIDENT_DETECTION.v1i.yolov7pytorch/test/images/820_jpeg_jpg.rf.bd12824b8f6d50f05f28565a3dcd9e37.jpg  \n",
            "  inflating: __MACOSX/+_2863_640_640_label_ACCIDENT_DETECTION.v1i.yolov7pytorch/test/images/._820_jpeg_jpg.rf.bd12824b8f6d50f05f28565a3dcd9e37.jpg  \n",
            "  inflating: +_2863_640_640_label_ACCIDENT_DETECTION.v1i.yolov7pytorch/test/images/traffic_img741_jpg.rf.f4a29dd02f841cc2d8d5b22115a07c3c.jpg  \n",
            "  inflating: __MACOSX/+_2863_640_640_label_ACCIDENT_DETECTION.v1i.yolov7pytorch/test/images/._traffic_img741_jpg.rf.f4a29dd02f841cc2d8d5b22115a07c3c.jpg  \n",
            "  inflating: +_2863_640_640_label_ACCIDENT_DETECTION.v1i.yolov7pytorch/test/images/severityV4_74_jpg.rf.36c64aca81493fde950549a7148ce569.jpg  \n",
            "  inflating: __MACOSX/+_2863_640_640_label_ACCIDENT_DETECTION.v1i.yolov7pytorch/test/images/._severityV4_74_jpg.rf.36c64aca81493fde950549a7148ce569.jpg  \n",
            "  inflating: +_2863_640_640_label_ACCIDENT_DETECTION.v1i.yolov7pytorch/test/images/traffic_img437_jpg.rf.28f65621b400bad04538da58f9cbb5d4.jpg  \n",
            "  inflating: __MACOSX/+_2863_640_640_label_ACCIDENT_DETECTION.v1i.yolov7pytorch/test/images/._traffic_img437_jpg.rf.28f65621b400bad04538da58f9cbb5d4.jpg  \n",
            "  inflating: +_2863_640_640_label_ACCIDENT_DETECTION.v1i.yolov7pytorch/test/images/severityV4_55_jpg.rf.d1a5e6987599f6b1192aca32289c975b.jpg  \n",
            "  inflating: __MACOSX/+_2863_640_640_label_ACCIDENT_DETECTION.v1i.yolov7pytorch/test/images/._severityV4_55_jpg.rf.d1a5e6987599f6b1192aca32289c975b.jpg  \n",
            "  inflating: +_2863_640_640_label_ACCIDENT_DETECTION.v1i.yolov7pytorch/test/images/traffic_img185_jpg.rf.4472ad48d621c93d0fde96083575f9b7.jpg  \n",
            "  inflating: __MACOSX/+_2863_640_640_label_ACCIDENT_DETECTION.v1i.yolov7pytorch/test/images/._traffic_img185_jpg.rf.4472ad48d621c93d0fde96083575f9b7.jpg  \n",
            "  inflating: +_2863_640_640_label_ACCIDENT_DETECTION.v1i.yolov7pytorch/test/images/traffic_img1093_jpg.rf.5e8f102a04fd74b7f5d089b332b3736f.jpg  \n",
            "  inflating: __MACOSX/+_2863_640_640_label_ACCIDENT_DETECTION.v1i.yolov7pytorch/test/images/._traffic_img1093_jpg.rf.5e8f102a04fd74b7f5d089b332b3736f.jpg  \n",
            "  inflating: +_2863_640_640_label_ACCIDENT_DETECTION.v1i.yolov7pytorch/test/images/4026_jpeg.rf.4a0d2a2b09a76de9b9c6b41f0e07bffe.jpg  \n",
            "  inflating: __MACOSX/+_2863_640_640_label_ACCIDENT_DETECTION.v1i.yolov7pytorch/test/images/._4026_jpeg.rf.4a0d2a2b09a76de9b9c6b41f0e07bffe.jpg  \n",
            "  inflating: +_2863_640_640_label_ACCIDENT_DETECTION.v1i.yolov7pytorch/test/images/accidentFrame2754_jpg.rf.7a34ed13a39a6d9d1b1123d826dedf10.jpg  \n",
            "  inflating: __MACOSX/+_2863_640_640_label_ACCIDENT_DETECTION.v1i.yolov7pytorch/test/images/._accidentFrame2754_jpg.rf.7a34ed13a39a6d9d1b1123d826dedf10.jpg  \n",
            "  inflating: +_2863_640_640_label_ACCIDENT_DETECTION.v1i.yolov7pytorch/test/images/traffic_img288_jpg.rf.8a974e9f73357e048a95ab8f820d2026.jpg  \n",
            "  inflating: __MACOSX/+_2863_640_640_label_ACCIDENT_DETECTION.v1i.yolov7pytorch/test/images/._traffic_img288_jpg.rf.8a974e9f73357e048a95ab8f820d2026.jpg  \n",
            "  inflating: +_2863_640_640_label_ACCIDENT_DETECTION.v1i.yolov7pytorch/test/images/traffic_img503_jpg.rf.e462cd220d6eb1aaaf237984663fc63a.jpg  \n",
            "  inflating: __MACOSX/+_2863_640_640_label_ACCIDENT_DETECTION.v1i.yolov7pytorch/test/images/._traffic_img503_jpg.rf.e462cd220d6eb1aaaf237984663fc63a.jpg  \n",
            "  inflating: +_2863_640_640_label_ACCIDENT_DETECTION.v1i.yolov7pytorch/test/images/traffic_img804_jpg.rf.dfe9fbf2b938e959574be450780c3839.jpg  \n",
            "  inflating: __MACOSX/+_2863_640_640_label_ACCIDENT_DETECTION.v1i.yolov7pytorch/test/images/._traffic_img804_jpg.rf.dfe9fbf2b938e959574be450780c3839.jpg  \n",
            "  inflating: +_2863_640_640_label_ACCIDENT_DETECTION.v1i.yolov7pytorch/test/images/severityV2_26_jpg.rf.e058a59b73cf508fd69d9aef52ee2d3b.jpg  \n",
            "  inflating: __MACOSX/+_2863_640_640_label_ACCIDENT_DETECTION.v1i.yolov7pytorch/test/images/._severityV2_26_jpg.rf.e058a59b73cf508fd69d9aef52ee2d3b.jpg  \n",
            "  inflating: +_2863_640_640_label_ACCIDENT_DETECTION.v1i.yolov7pytorch/test/images/traffic_img533_jpg.rf.2f57b0861fa2fdef6b66d1ca42d94a60.jpg  \n",
            "  inflating: __MACOSX/+_2863_640_640_label_ACCIDENT_DETECTION.v1i.yolov7pytorch/test/images/._traffic_img533_jpg.rf.2f57b0861fa2fdef6b66d1ca42d94a60.jpg  \n",
            "  inflating: +_2863_640_640_label_ACCIDENT_DETECTION.v1i.yolov7pytorch/test/images/traffic_img1147_jpg.rf.6d669ffe2555b8594d78bc80e58a2eb7.jpg  \n",
            "  inflating: __MACOSX/+_2863_640_640_label_ACCIDENT_DETECTION.v1i.yolov7pytorch/test/images/._traffic_img1147_jpg.rf.6d669ffe2555b8594d78bc80e58a2eb7.jpg  \n",
            "  inflating: +_2863_640_640_label_ACCIDENT_DETECTION.v1i.yolov7pytorch/test/images/accidentFrame3226_jpg.rf.26040f7ba42d5201ba457d67f87d034e.jpg  \n",
            "  inflating: __MACOSX/+_2863_640_640_label_ACCIDENT_DETECTION.v1i.yolov7pytorch/test/images/._accidentFrame3226_jpg.rf.26040f7ba42d5201ba457d67f87d034e.jpg  \n",
            "  inflating: +_2863_640_640_label_ACCIDENT_DETECTION.v1i.yolov7pytorch/test/images/accidentFrame2757_jpg.rf.3f0320249e59ca67303f6f7b01e20c6b.jpg  \n",
            "  inflating: __MACOSX/+_2863_640_640_label_ACCIDENT_DETECTION.v1i.yolov7pytorch/test/images/._accidentFrame2757_jpg.rf.3f0320249e59ca67303f6f7b01e20c6b.jpg  \n",
            "  inflating: +_2863_640_640_label_ACCIDENT_DETECTION.v1i.yolov7pytorch/test/images/images-1_jpg.rf.895bc390eb0af1b853ca6065cae2ca4d.jpg  \n",
            "  inflating: __MACOSX/+_2863_640_640_label_ACCIDENT_DETECTION.v1i.yolov7pytorch/test/images/._images-1_jpg.rf.895bc390eb0af1b853ca6065cae2ca4d.jpg  \n",
            "  inflating: +_2863_640_640_label_ACCIDENT_DETECTION.v1i.yolov7pytorch/test/images/traffic_img341_jpg.rf.448a992e46f387bfcd36227f5b681555.jpg  \n",
            "  inflating: __MACOSX/+_2863_640_640_label_ACCIDENT_DETECTION.v1i.yolov7pytorch/test/images/._traffic_img341_jpg.rf.448a992e46f387bfcd36227f5b681555.jpg  \n",
            "  inflating: +_2863_640_640_label_ACCIDENT_DETECTION.v1i.yolov7pytorch/test/images/traffic_img1765_jpg.rf.616f2f60c1eaf9a1f65186955b47a6ae.jpg  \n",
            "  inflating: __MACOSX/+_2863_640_640_label_ACCIDENT_DETECTION.v1i.yolov7pytorch/test/images/._traffic_img1765_jpg.rf.616f2f60c1eaf9a1f65186955b47a6ae.jpg  \n",
            "  inflating: +_2863_640_640_label_ACCIDENT_DETECTION.v1i.yolov7pytorch/test/images/severityV4_71_jpg.rf.29ab48dad1880f8140aaf9a12ae7ac04.jpg  \n",
            "  inflating: __MACOSX/+_2863_640_640_label_ACCIDENT_DETECTION.v1i.yolov7pytorch/test/images/._severityV4_71_jpg.rf.29ab48dad1880f8140aaf9a12ae7ac04.jpg  \n",
            "  inflating: +_2863_640_640_label_ACCIDENT_DETECTION.v1i.yolov7pytorch/test/images/traffic_img83_jpg.rf.c6040ee3b2831c7aff45213af77c2018.jpg  \n",
            "  inflating: __MACOSX/+_2863_640_640_label_ACCIDENT_DETECTION.v1i.yolov7pytorch/test/images/._traffic_img83_jpg.rf.c6040ee3b2831c7aff45213af77c2018.jpg  \n",
            "  inflating: +_2863_640_640_label_ACCIDENT_DETECTION.v1i.yolov7pytorch/test/images/traffic_img1031_jpg.rf.966c467d04788028a6dd0577283eb384.jpg  \n",
            "  inflating: __MACOSX/+_2863_640_640_label_ACCIDENT_DETECTION.v1i.yolov7pytorch/test/images/._traffic_img1031_jpg.rf.966c467d04788028a6dd0577283eb384.jpg  \n",
            "  inflating: +_2863_640_640_label_ACCIDENT_DETECTION.v1i.yolov7pytorch/test/images/traffic_img728_jpg.rf.a83540f6e1f8c0c933441e0c4a333cbc.jpg  \n",
            "  inflating: __MACOSX/+_2863_640_640_label_ACCIDENT_DETECTION.v1i.yolov7pytorch/test/images/._traffic_img728_jpg.rf.a83540f6e1f8c0c933441e0c4a333cbc.jpg  \n",
            "  inflating: +_2863_640_640_label_ACCIDENT_DETECTION.v1i.yolov7pytorch/test/images/FLIP_CAR_V132_jpg.rf.9184f93b2a18c8f48486e983fd3ffe2f.jpg  \n",
            "  inflating: __MACOSX/+_2863_640_640_label_ACCIDENT_DETECTION.v1i.yolov7pytorch/test/images/._FLIP_CAR_V132_jpg.rf.9184f93b2a18c8f48486e983fd3ffe2f.jpg  \n",
            "  inflating: +_2863_640_640_label_ACCIDENT_DETECTION.v1i.yolov7pytorch/test/images/4121_jpeg.rf.6993383ecd1cf35687ebc348aa7bb085.jpg  \n",
            "  inflating: __MACOSX/+_2863_640_640_label_ACCIDENT_DETECTION.v1i.yolov7pytorch/test/images/._4121_jpeg.rf.6993383ecd1cf35687ebc348aa7bb085.jpg  \n",
            "  inflating: +_2863_640_640_label_ACCIDENT_DETECTION.v1i.yolov7pytorch/test/images/Severity_Detect_V10_jpg.rf.cf18d5b130c3665ca6bde986b7b8a3ae.jpg  \n",
            "  inflating: __MACOSX/+_2863_640_640_label_ACCIDENT_DETECTION.v1i.yolov7pytorch/test/images/._Severity_Detect_V10_jpg.rf.cf18d5b130c3665ca6bde986b7b8a3ae.jpg  \n",
            "  inflating: +_2863_640_640_label_ACCIDENT_DETECTION.v1i.yolov7pytorch/test/images/Semi-RealisticVD-101_jpg.rf.e9b9121543fe1595084b0bf3a86b891b.jpg  \n",
            "  inflating: __MACOSX/+_2863_640_640_label_ACCIDENT_DETECTION.v1i.yolov7pytorch/test/images/._Semi-RealisticVD-101_jpg.rf.e9b9121543fe1595084b0bf3a86b891b.jpg  \n",
            "  inflating: +_2863_640_640_label_ACCIDENT_DETECTION.v1i.yolov7pytorch/test/images/buy5_jpg.rf.25a0e82c51e275594453ce0f65d9bdf7.jpg  \n",
            "  inflating: __MACOSX/+_2863_640_640_label_ACCIDENT_DETECTION.v1i.yolov7pytorch/test/images/._buy5_jpg.rf.25a0e82c51e275594453ce0f65d9bdf7.jpg  \n",
            "  inflating: +_2863_640_640_label_ACCIDENT_DETECTION.v1i.yolov7pytorch/test/images/4069_jpeg.rf.d4b6b05990ad357727fcb242e3aabc63.jpg  \n",
            "  inflating: __MACOSX/+_2863_640_640_label_ACCIDENT_DETECTION.v1i.yolov7pytorch/test/images/._4069_jpeg.rf.d4b6b05990ad357727fcb242e3aabc63.jpg  \n",
            "  inflating: +_2863_640_640_label_ACCIDENT_DETECTION.v1i.yolov7pytorch/test/images/Screen-Shot-2022-04-05-at-2-10-30-AM_png_jpg.rf.9f1dcc37df1915c2ae9effcb1563e9cd.jpg  \n",
            "  inflating: __MACOSX/+_2863_640_640_label_ACCIDENT_DETECTION.v1i.yolov7pytorch/test/images/._Screen-Shot-2022-04-05-at-2-10-30-AM_png_jpg.rf.9f1dcc37df1915c2ae9effcb1563e9cd.jpg  \n",
            "  inflating: +_2863_640_640_label_ACCIDENT_DETECTION.v1i.yolov7pytorch/test/images/Semi-RealisticVD-145_jpg.rf.e7c611096af9004e36573224da2b05df.jpg  \n",
            "  inflating: __MACOSX/+_2863_640_640_label_ACCIDENT_DETECTION.v1i.yolov7pytorch/test/images/._Semi-RealisticVD-145_jpg.rf.e7c611096af9004e36573224da2b05df.jpg  \n",
            "  inflating: +_2863_640_640_label_ACCIDENT_DETECTION.v1i.yolov7pytorch/test/images/traffic_img1202_jpg.rf.a28c4178e1e6db741cd738460cf34ef7.jpg  \n",
            "  inflating: __MACOSX/+_2863_640_640_label_ACCIDENT_DETECTION.v1i.yolov7pytorch/test/images/._traffic_img1202_jpg.rf.a28c4178e1e6db741cd738460cf34ef7.jpg  \n",
            "  inflating: +_2863_640_640_label_ACCIDENT_DETECTION.v1i.yolov7pytorch/test/images/buy1_jpg.rf.4658bf5bba69358f6e7be09bede3c00c.jpg  \n",
            "  inflating: __MACOSX/+_2863_640_640_label_ACCIDENT_DETECTION.v1i.yolov7pytorch/test/images/._buy1_jpg.rf.4658bf5bba69358f6e7be09bede3c00c.jpg  \n",
            "  inflating: +_2863_640_640_label_ACCIDENT_DETECTION.v1i.yolov7pytorch/test/images/traffic_img1275_jpg.rf.bd3a67b7defa65f843ef4fdbd703beb4.jpg  \n",
            "  inflating: __MACOSX/+_2863_640_640_label_ACCIDENT_DETECTION.v1i.yolov7pytorch/test/images/._traffic_img1275_jpg.rf.bd3a67b7defa65f843ef4fdbd703beb4.jpg  \n",
            "  inflating: +_2863_640_640_label_ACCIDENT_DETECTION.v1i.yolov7pytorch/test/images/FLIP_CAR_V120_jpg.rf.9e64f32859a6176f03a7bf5a4701f74e.jpg  \n",
            "  inflating: __MACOSX/+_2863_640_640_label_ACCIDENT_DETECTION.v1i.yolov7pytorch/test/images/._FLIP_CAR_V120_jpg.rf.9e64f32859a6176f03a7bf5a4701f74e.jpg  \n",
            "  inflating: +_2863_640_640_label_ACCIDENT_DETECTION.v1i.yolov7pytorch/test/images/severityV3_3_jpeg_jpg.rf.33229ee38d4d0d83cc45943a0e590dc4.jpg  \n",
            "  inflating: __MACOSX/+_2863_640_640_label_ACCIDENT_DETECTION.v1i.yolov7pytorch/test/images/._severityV3_3_jpeg_jpg.rf.33229ee38d4d0d83cc45943a0e590dc4.jpg  \n",
            "  inflating: +_2863_640_640_label_ACCIDENT_DETECTION.v1i.yolov7pytorch/test/images/images-9_jpg.rf.441114aeeb87753694dd05e31568869d.jpg  \n",
            "  inflating: __MACOSX/+_2863_640_640_label_ACCIDENT_DETECTION.v1i.yolov7pytorch/test/images/._images-9_jpg.rf.441114aeeb87753694dd05e31568869d.jpg  \n",
            "  inflating: +_2863_640_640_label_ACCIDENT_DETECTION.v1i.yolov7pytorch/test/images/download-13_jpg.rf.5cbd243f457c20a715ed55b6074f9186.jpg  \n",
            "  inflating: __MACOSX/+_2863_640_640_label_ACCIDENT_DETECTION.v1i.yolov7pytorch/test/images/._download-13_jpg.rf.5cbd243f457c20a715ed55b6074f9186.jpg  \n",
            "  inflating: +_2863_640_640_label_ACCIDENT_DETECTION.v1i.yolov7pytorch/test/images/traffic_img820_jpg.rf.553a4b7fe84936cd35447ffb86d23705.jpg  \n",
            "  inflating: __MACOSX/+_2863_640_640_label_ACCIDENT_DETECTION.v1i.yolov7pytorch/test/images/._traffic_img820_jpg.rf.553a4b7fe84936cd35447ffb86d23705.jpg  \n",
            "  inflating: +_2863_640_640_label_ACCIDENT_DETECTION.v1i.yolov7pytorch/test/images/traffic_img381_jpg.rf.0f59a7272c29987d28e110de2962af33.jpg  \n",
            "  inflating: __MACOSX/+_2863_640_640_label_ACCIDENT_DETECTION.v1i.yolov7pytorch/test/images/._traffic_img381_jpg.rf.0f59a7272c29987d28e110de2962af33.jpg  \n",
            "  inflating: +_2863_640_640_label_ACCIDENT_DETECTION.v1i.yolov7pytorch/test/images/traffic_img1343_jpg.rf.0fa3417a676d62d893009c718f669b0b.jpg  \n",
            "  inflating: __MACOSX/+_2863_640_640_label_ACCIDENT_DETECTION.v1i.yolov7pytorch/test/images/._traffic_img1343_jpg.rf.0fa3417a676d62d893009c718f669b0b.jpg  \n",
            "  inflating: +_2863_640_640_label_ACCIDENT_DETECTION.v1i.yolov7pytorch/test/images/traffic_img338_jpg.rf.5298d44ea4d2c32ffce2f8e8f8adad2e.jpg  \n",
            "  inflating: __MACOSX/+_2863_640_640_label_ACCIDENT_DETECTION.v1i.yolov7pytorch/test/images/._traffic_img338_jpg.rf.5298d44ea4d2c32ffce2f8e8f8adad2e.jpg  \n",
            "  inflating: +_2863_640_640_label_ACCIDENT_DETECTION.v1i.yolov7pytorch/test/images/traffic_img1299_jpg.rf.1f266333386f676a0f85d3675f5fb37b.jpg  \n",
            "  inflating: __MACOSX/+_2863_640_640_label_ACCIDENT_DETECTION.v1i.yolov7pytorch/test/images/._traffic_img1299_jpg.rf.1f266333386f676a0f85d3675f5fb37b.jpg  \n",
            "  inflating: +_2863_640_640_label_ACCIDENT_DETECTION.v1i.yolov7pytorch/test/images/accidentFrame2724_jpg.rf.d8115eab2693ba3538a865af59491f71.jpg  \n",
            "  inflating: __MACOSX/+_2863_640_640_label_ACCIDENT_DETECTION.v1i.yolov7pytorch/test/images/._accidentFrame2724_jpg.rf.d8115eab2693ba3538a865af59491f71.jpg  \n",
            "  inflating: +_2863_640_640_label_ACCIDENT_DETECTION.v1i.yolov7pytorch/test/images/FLIP_CAR_V170_jpg.rf.aa3b5c8fb385c2afef1f6d6e653459b6.jpg  \n",
            "  inflating: __MACOSX/+_2863_640_640_label_ACCIDENT_DETECTION.v1i.yolov7pytorch/test/images/._FLIP_CAR_V170_jpg.rf.aa3b5c8fb385c2afef1f6d6e653459b6.jpg  \n",
            "  inflating: +_2863_640_640_label_ACCIDENT_DETECTION.v1i.yolov7pytorch/test/images/traffic_img299_jpg.rf.345ee5ed0532613ad4296532a562e537.jpg  \n",
            "  inflating: __MACOSX/+_2863_640_640_label_ACCIDENT_DETECTION.v1i.yolov7pytorch/test/images/._traffic_img299_jpg.rf.345ee5ed0532613ad4296532a562e537.jpg  \n",
            "  inflating: +_2863_640_640_label_ACCIDENT_DETECTION.v1i.yolov7pytorch/test/images/accidentFrame1196_jpg.rf.123bd1c2132f54db335021d59fc7190a.jpg  \n",
            "  inflating: __MACOSX/+_2863_640_640_label_ACCIDENT_DETECTION.v1i.yolov7pytorch/test/images/._accidentFrame1196_jpg.rf.123bd1c2132f54db335021d59fc7190a.jpg  \n",
            "  inflating: +_2863_640_640_label_ACCIDENT_DETECTION.v1i.yolov7pytorch/test/images/download-4_jpg.rf.6d46ed3a8c3e87d58dde774bf3cc4df2.jpg  \n",
            "  inflating: __MACOSX/+_2863_640_640_label_ACCIDENT_DETECTION.v1i.yolov7pytorch/test/images/._download-4_jpg.rf.6d46ed3a8c3e87d58dde774bf3cc4df2.jpg  \n",
            "  inflating: +_2863_640_640_label_ACCIDENT_DETECTION.v1i.yolov7pytorch/test/images/traffic_img9_jpg.rf.ebc1ce205afe6e882634c11c8b9e71d5.jpg  \n",
            "  inflating: __MACOSX/+_2863_640_640_label_ACCIDENT_DETECTION.v1i.yolov7pytorch/test/images/._traffic_img9_jpg.rf.ebc1ce205afe6e882634c11c8b9e71d5.jpg  \n",
            "  inflating: +_2863_640_640_label_ACCIDENT_DETECTION.v1i.yolov7pytorch/test/images/images-32_jpg.rf.70809556af213a2eb9831ba19532dd94.jpg  \n",
            "  inflating: __MACOSX/+_2863_640_640_label_ACCIDENT_DETECTION.v1i.yolov7pytorch/test/images/._images-32_jpg.rf.70809556af213a2eb9831ba19532dd94.jpg  \n",
            "  inflating: +_2863_640_640_label_ACCIDENT_DETECTION.v1i.yolov7pytorch/test/images/traffic_img355_jpg.rf.fbeaced7dd02d82c163c4fed24508d9b.jpg  \n",
            "  inflating: __MACOSX/+_2863_640_640_label_ACCIDENT_DETECTION.v1i.yolov7pytorch/test/images/._traffic_img355_jpg.rf.fbeaced7dd02d82c163c4fed24508d9b.jpg  \n",
            "  inflating: +_2863_640_640_label_ACCIDENT_DETECTION.v1i.yolov7pytorch/test/images/traffic_img668_jpg.rf.9dbe89c2509c95a41b90481ddc55b12d.jpg  \n",
            "  inflating: __MACOSX/+_2863_640_640_label_ACCIDENT_DETECTION.v1i.yolov7pytorch/test/images/._traffic_img668_jpg.rf.9dbe89c2509c95a41b90481ddc55b12d.jpg  \n",
            "  inflating: +_2863_640_640_label_ACCIDENT_DETECTION.v1i.yolov7pytorch/test/images/traffic_img335_jpg.rf.1236ac57afb34089635e1f313f077783.jpg  \n",
            "  inflating: __MACOSX/+_2863_640_640_label_ACCIDENT_DETECTION.v1i.yolov7pytorch/test/images/._traffic_img335_jpg.rf.1236ac57afb34089635e1f313f077783.jpg  \n",
            "  inflating: +_2863_640_640_label_ACCIDENT_DETECTION.v1i.yolov7pytorch/test/images/traffic_img649_jpg.rf.fc1e5079d9d81275391c10fae176bd26.jpg  \n",
            "  inflating: __MACOSX/+_2863_640_640_label_ACCIDENT_DETECTION.v1i.yolov7pytorch/test/images/._traffic_img649_jpg.rf.fc1e5079d9d81275391c10fae176bd26.jpg  \n",
            "  inflating: +_2863_640_640_label_ACCIDENT_DETECTION.v1i.yolov7pytorch/test/images/Severity_Detect_V15_jpg.rf.bebe86369f7abc56215f0a51f56968c8.jpg  \n",
            "  inflating: __MACOSX/+_2863_640_640_label_ACCIDENT_DETECTION.v1i.yolov7pytorch/test/images/._Severity_Detect_V15_jpg.rf.bebe86369f7abc56215f0a51f56968c8.jpg  \n",
            "  inflating: +_2863_640_640_label_ACCIDENT_DETECTION.v1i.yolov7pytorch/test/images/severe15_jpeg_jpg.rf.f8e9daa9152c0b1543ef21099a6f813d.jpg  \n",
            "  inflating: __MACOSX/+_2863_640_640_label_ACCIDENT_DETECTION.v1i.yolov7pytorch/test/images/._severe15_jpeg_jpg.rf.f8e9daa9152c0b1543ef21099a6f813d.jpg  \n",
            "  inflating: +_2863_640_640_label_ACCIDENT_DETECTION.v1i.yolov7pytorch/test/images/images_jpg.rf.0a5b79ce179f9f68520d99557e6fa6bd.jpg  \n",
            "  inflating: __MACOSX/+_2863_640_640_label_ACCIDENT_DETECTION.v1i.yolov7pytorch/test/images/._images_jpg.rf.0a5b79ce179f9f68520d99557e6fa6bd.jpg  \n",
            "  inflating: +_2863_640_640_label_ACCIDENT_DETECTION.v1i.yolov7pytorch/test/images/760_jpeg_jpg.rf.769d12ef3c179c56c827e16511b4a794.jpg  \n",
            "  inflating: __MACOSX/+_2863_640_640_label_ACCIDENT_DETECTION.v1i.yolov7pytorch/test/images/._760_jpeg_jpg.rf.769d12ef3c179c56c827e16511b4a794.jpg  \n",
            "  inflating: +_2863_640_640_label_ACCIDENT_DETECTION.v1i.yolov7pytorch/test/images/traffic_img1137_jpg.rf.2127d802eaf7c219527b37ed88197363.jpg  \n",
            "  inflating: __MACOSX/+_2863_640_640_label_ACCIDENT_DETECTION.v1i.yolov7pytorch/test/images/._traffic_img1137_jpg.rf.2127d802eaf7c219527b37ed88197363.jpg  \n",
            "  inflating: +_2863_640_640_label_ACCIDENT_DETECTION.v1i.yolov7pytorch/test/images/traffic_img953_jpg.rf.735ab5480d7d04cda75424eb77c013f4.jpg  \n",
            "  inflating: __MACOSX/+_2863_640_640_label_ACCIDENT_DETECTION.v1i.yolov7pytorch/test/images/._traffic_img953_jpg.rf.735ab5480d7d04cda75424eb77c013f4.jpg  \n",
            "  inflating: +_2863_640_640_label_ACCIDENT_DETECTION.v1i.yolov7pytorch/test/images/images-20_jpg.rf.0b2ff2f82a3b2c64246bf3a9c41bf745.jpg  \n",
            "  inflating: __MACOSX/+_2863_640_640_label_ACCIDENT_DETECTION.v1i.yolov7pytorch/test/images/._images-20_jpg.rf.0b2ff2f82a3b2c64246bf3a9c41bf745.jpg  \n",
            "  inflating: +_2863_640_640_label_ACCIDENT_DETECTION.v1i.yolov7pytorch/test/images/traffic_img1919_jpg.rf.c8b4f6d32fb26805fa334101d3d5b8c1.jpg  \n",
            "  inflating: __MACOSX/+_2863_640_640_label_ACCIDENT_DETECTION.v1i.yolov7pytorch/test/images/._traffic_img1919_jpg.rf.c8b4f6d32fb26805fa334101d3d5b8c1.jpg  \n",
            "  inflating: +_2863_640_640_label_ACCIDENT_DETECTION.v1i.yolov7pytorch/test/images/FLIP_CAR_V14_jpg.rf.1586bdce3b61e4dca792101e15b1f1be.jpg  \n",
            "  inflating: __MACOSX/+_2863_640_640_label_ACCIDENT_DETECTION.v1i.yolov7pytorch/test/images/._FLIP_CAR_V14_jpg.rf.1586bdce3b61e4dca792101e15b1f1be.jpg  \n",
            "  inflating: +_2863_640_640_label_ACCIDENT_DETECTION.v1i.yolov7pytorch/test/images/traffic_img1753_jpg.rf.10338572ab50d8cf3fcb8c1a328a708a.jpg  \n",
            "  inflating: __MACOSX/+_2863_640_640_label_ACCIDENT_DETECTION.v1i.yolov7pytorch/test/images/._traffic_img1753_jpg.rf.10338572ab50d8cf3fcb8c1a328a708a.jpg  \n",
            "  inflating: +_2863_640_640_label_ACCIDENT_DETECTION.v1i.yolov7pytorch/test/images/accidentFrame3015_jpg.rf.cdf4a5d85daf0f8256e723fa4305d71d.jpg  \n",
            "  inflating: __MACOSX/+_2863_640_640_label_ACCIDENT_DETECTION.v1i.yolov7pytorch/test/images/._accidentFrame3015_jpg.rf.cdf4a5d85daf0f8256e723fa4305d71d.jpg  \n",
            "  inflating: +_2863_640_640_label_ACCIDENT_DETECTION.v1i.yolov7pytorch/test/images/Semi-RealisticVD-199_jpg.rf.f312927c00c77b0765003a0250baa212.jpg  \n",
            "  inflating: __MACOSX/+_2863_640_640_label_ACCIDENT_DETECTION.v1i.yolov7pytorch/test/images/._Semi-RealisticVD-199_jpg.rf.f312927c00c77b0765003a0250baa212.jpg  \n",
            "  inflating: +_2863_640_640_label_ACCIDENT_DETECTION.v1i.yolov7pytorch/test/images/severityV4_91_jpg.rf.129d96274073a840a5f14fedc980d380.jpg  \n",
            "  inflating: __MACOSX/+_2863_640_640_label_ACCIDENT_DETECTION.v1i.yolov7pytorch/test/images/._severityV4_91_jpg.rf.129d96274073a840a5f14fedc980d380.jpg  \n",
            "  inflating: +_2863_640_640_label_ACCIDENT_DETECTION.v1i.yolov7pytorch/test/images/2-147_jpg.rf.6910051fa3b602055ab0d2ecb715f2ce.jpg  \n",
            "  inflating: __MACOSX/+_2863_640_640_label_ACCIDENT_DETECTION.v1i.yolov7pytorch/test/images/._2-147_jpg.rf.6910051fa3b602055ab0d2ecb715f2ce.jpg  \n",
            "  inflating: +_2863_640_640_label_ACCIDENT_DETECTION.v1i.yolov7pytorch/test/images/traffic_img1010_jpg.rf.ff681827e8e97e4e0e7d287c6a5b9cd1.jpg  \n",
            "  inflating: __MACOSX/+_2863_640_640_label_ACCIDENT_DETECTION.v1i.yolov7pytorch/test/images/._traffic_img1010_jpg.rf.ff681827e8e97e4e0e7d287c6a5b9cd1.jpg  \n",
            "  inflating: +_2863_640_640_label_ACCIDENT_DETECTION.v1i.yolov7pytorch/test/images/severityV2_2_jpg.rf.f84ff9b55e59118a08a1366eefe3a213.jpg  \n",
            "  inflating: __MACOSX/+_2863_640_640_label_ACCIDENT_DETECTION.v1i.yolov7pytorch/test/images/._severityV2_2_jpg.rf.f84ff9b55e59118a08a1366eefe3a213.jpg  \n",
            "  inflating: +_2863_640_640_label_ACCIDENT_DETECTION.v1i.yolov7pytorch/test/images/Screen-Shot-2022-04-08-at-1-48-56-AM_png.rf.972a8efe91c61857fc42d0a4c07020ce.jpg  \n",
            "  inflating: __MACOSX/+_2863_640_640_label_ACCIDENT_DETECTION.v1i.yolov7pytorch/test/images/._Screen-Shot-2022-04-08-at-1-48-56-AM_png.rf.972a8efe91c61857fc42d0a4c07020ce.jpg  \n",
            "  inflating: +_2863_640_640_label_ACCIDENT_DETECTION.v1i.yolov7pytorch/test/images/traffic_img6_jpg.rf.7cb9eb911448f6298fb3e5b74f380387.jpg  \n",
            "  inflating: __MACOSX/+_2863_640_640_label_ACCIDENT_DETECTION.v1i.yolov7pytorch/test/images/._traffic_img6_jpg.rf.7cb9eb911448f6298fb3e5b74f380387.jpg  \n",
            "  inflating: +_2863_640_640_label_ACCIDENT_DETECTION.v1i.yolov7pytorch/test/images/traffic_img586_jpg.rf.2657479f2806dabab12136c7aa3c6004.jpg  \n",
            "  inflating: __MACOSX/+_2863_640_640_label_ACCIDENT_DETECTION.v1i.yolov7pytorch/test/images/._traffic_img586_jpg.rf.2657479f2806dabab12136c7aa3c6004.jpg  \n",
            "  inflating: +_2863_640_640_label_ACCIDENT_DETECTION.v1i.yolov7pytorch/test/images/traffic_img1244_jpg.rf.529b125502d1e5d3cc4b8311eff9a5f8.jpg  \n",
            "  inflating: __MACOSX/+_2863_640_640_label_ACCIDENT_DETECTION.v1i.yolov7pytorch/test/images/._traffic_img1244_jpg.rf.529b125502d1e5d3cc4b8311eff9a5f8.jpg  \n",
            "  inflating: +_2863_640_640_label_ACCIDENT_DETECTION.v1i.yolov7pytorch/test/images/traffic_img757_jpg.rf.f74e87db5e6b7c3c9f67a8fc5c5233df.jpg  \n",
            "  inflating: __MACOSX/+_2863_640_640_label_ACCIDENT_DETECTION.v1i.yolov7pytorch/test/images/._traffic_img757_jpg.rf.f74e87db5e6b7c3c9f67a8fc5c5233df.jpg  \n",
            "  inflating: +_2863_640_640_label_ACCIDENT_DETECTION.v1i.yolov7pytorch/test/images/2-61_jpg.rf.bdcfb3ad4e5aee8bd9b30b2f711a5bc9.jpg  \n",
            "  inflating: __MACOSX/+_2863_640_640_label_ACCIDENT_DETECTION.v1i.yolov7pytorch/test/images/._2-61_jpg.rf.bdcfb3ad4e5aee8bd9b30b2f711a5bc9.jpg  \n",
            "  inflating: +_2863_640_640_label_ACCIDENT_DETECTION.v1i.yolov7pytorch/test/images/923_jpeg_jpg.rf.a7f90e89d9efb06848e747ab1e59601b.jpg  \n",
            "  inflating: __MACOSX/+_2863_640_640_label_ACCIDENT_DETECTION.v1i.yolov7pytorch/test/images/._923_jpeg_jpg.rf.a7f90e89d9efb06848e747ab1e59601b.jpg  \n",
            "  inflating: +_2863_640_640_label_ACCIDENT_DETECTION.v1i.yolov7pytorch/test/images/severityV4_50_jpg.rf.74cfe904075f58e761cc41a0eeb73c9c.jpg  \n",
            "  inflating: __MACOSX/+_2863_640_640_label_ACCIDENT_DETECTION.v1i.yolov7pytorch/test/images/._severityV4_50_jpg.rf.74cfe904075f58e761cc41a0eeb73c9c.jpg  \n",
            "  inflating: +_2863_640_640_label_ACCIDENT_DETECTION.v1i.yolov7pytorch/test/images/traffic_img398_jpg.rf.ace66acc73f3796f75be7b62618044e5.jpg  \n",
            "  inflating: __MACOSX/+_2863_640_640_label_ACCIDENT_DETECTION.v1i.yolov7pytorch/test/images/._traffic_img398_jpg.rf.ace66acc73f3796f75be7b62618044e5.jpg  \n",
            "  inflating: +_2863_640_640_label_ACCIDENT_DETECTION.v1i.yolov7pytorch/test/images/traffic_img567_jpg.rf.b3afd6e8c7981423e17c7584f135ceeb.jpg  \n",
            "  inflating: __MACOSX/+_2863_640_640_label_ACCIDENT_DETECTION.v1i.yolov7pytorch/test/images/._traffic_img567_jpg.rf.b3afd6e8c7981423e17c7584f135ceeb.jpg  \n",
            "  inflating: +_2863_640_640_label_ACCIDENT_DETECTION.v1i.yolov7pytorch/test/images/4061_jpeg.rf.fef75612f10cba890d740cddac2c3385.jpg  \n",
            "  inflating: __MACOSX/+_2863_640_640_label_ACCIDENT_DETECTION.v1i.yolov7pytorch/test/images/._4061_jpeg.rf.fef75612f10cba890d740cddac2c3385.jpg  \n",
            "  inflating: +_2863_640_640_label_ACCIDENT_DETECTION.v1i.yolov7pytorch/test/images/traffic_img1109_jpg.rf.55df6ddbf1d98f3e431f089c2e0736d8.jpg  \n",
            "  inflating: __MACOSX/+_2863_640_640_label_ACCIDENT_DETECTION.v1i.yolov7pytorch/test/images/._traffic_img1109_jpg.rf.55df6ddbf1d98f3e431f089c2e0736d8.jpg  \n",
            "  inflating: +_2863_640_640_label_ACCIDENT_DETECTION.v1i.yolov7pytorch/test/images/traffic_img829_jpg.rf.b333d9a285895fdba11640d8b967e508.jpg  \n",
            "  inflating: __MACOSX/+_2863_640_640_label_ACCIDENT_DETECTION.v1i.yolov7pytorch/test/images/._traffic_img829_jpg.rf.b333d9a285895fdba11640d8b967e508.jpg  \n",
            "  inflating: +_2863_640_640_label_ACCIDENT_DETECTION.v1i.yolov7pytorch/test/images/severityV2_25_jpg.rf.d24df8d25b251180d36b9adc8d32c8c1.jpg  \n",
            "  inflating: __MACOSX/+_2863_640_640_label_ACCIDENT_DETECTION.v1i.yolov7pytorch/test/images/._severityV2_25_jpg.rf.d24df8d25b251180d36b9adc8d32c8c1.jpg  \n",
            "  inflating: +_2863_640_640_label_ACCIDENT_DETECTION.v1i.yolov7pytorch/test/images/traffic_img767_jpg.rf.bbb9fa76d2bb477e63f5e068342b2818.jpg  \n",
            "  inflating: __MACOSX/+_2863_640_640_label_ACCIDENT_DETECTION.v1i.yolov7pytorch/test/images/._traffic_img767_jpg.rf.bbb9fa76d2bb477e63f5e068342b2818.jpg  \n",
            "  inflating: +_2863_640_640_label_ACCIDENT_DETECTION.v1i.yolov7pytorch/test/images/2-267_jpg.rf.8e1b5363a3578bcf2991045ed6e5bd88.jpg  \n",
            "  inflating: __MACOSX/+_2863_640_640_label_ACCIDENT_DETECTION.v1i.yolov7pytorch/test/images/._2-267_jpg.rf.8e1b5363a3578bcf2991045ed6e5bd88.jpg  \n",
            "  inflating: +_2863_640_640_label_ACCIDENT_DETECTION.v1i.yolov7pytorch/test/images/traffic_img128_jpg.rf.11e57e2719d828c18fa8b5d8133e2273.jpg  \n",
            "  inflating: __MACOSX/+_2863_640_640_label_ACCIDENT_DETECTION.v1i.yolov7pytorch/test/images/._traffic_img128_jpg.rf.11e57e2719d828c18fa8b5d8133e2273.jpg  \n",
            "  inflating: +_2863_640_640_label_ACCIDENT_DETECTION.v1i.yolov7pytorch/test/images/829_jpeg_jpg.rf.1d294ff005c3c055fef91a8efec80f01.jpg  \n",
            "  inflating: __MACOSX/+_2863_640_640_label_ACCIDENT_DETECTION.v1i.yolov7pytorch/test/images/._829_jpeg_jpg.rf.1d294ff005c3c055fef91a8efec80f01.jpg  \n",
            "  inflating: +_2863_640_640_label_ACCIDENT_DETECTION.v1i.yolov7pytorch/test/images/traffic_img1098_jpg.rf.9c017773f2d360574648142e52d41784.jpg  \n",
            "  inflating: __MACOSX/+_2863_640_640_label_ACCIDENT_DETECTION.v1i.yolov7pytorch/test/images/._traffic_img1098_jpg.rf.9c017773f2d360574648142e52d41784.jpg  \n",
            "  inflating: +_2863_640_640_label_ACCIDENT_DETECTION.v1i.yolov7pytorch/test/images/806_jpeg_jpg.rf.63dfebbc4d6fbd3260d8785d6acc6975.jpg  \n",
            "  inflating: __MACOSX/+_2863_640_640_label_ACCIDENT_DETECTION.v1i.yolov7pytorch/test/images/._806_jpeg_jpg.rf.63dfebbc4d6fbd3260d8785d6acc6975.jpg  \n",
            "  inflating: +_2863_640_640_label_ACCIDENT_DETECTION.v1i.yolov7pytorch/test/images/FLIP_CAR_V168_jpg.rf.7ee6e352cc2cd5dc07a64177b0603803.jpg  \n",
            "  inflating: __MACOSX/+_2863_640_640_label_ACCIDENT_DETECTION.v1i.yolov7pytorch/test/images/._FLIP_CAR_V168_jpg.rf.7ee6e352cc2cd5dc07a64177b0603803.jpg  \n",
            "  inflating: +_2863_640_640_label_ACCIDENT_DETECTION.v1i.yolov7pytorch/test/images/243_jpeg_jpg.rf.915a446c139601bbfb8d60896dac60b1.jpg  \n",
            "  inflating: __MACOSX/+_2863_640_640_label_ACCIDENT_DETECTION.v1i.yolov7pytorch/test/images/._243_jpeg_jpg.rf.915a446c139601bbfb8d60896dac60b1.jpg  \n",
            "  inflating: +_2863_640_640_label_ACCIDENT_DETECTION.v1i.yolov7pytorch/test/images/793_jpeg_jpg.rf.3f2395444baed3a9bd4953a8051fb843.jpg  \n",
            "  inflating: __MACOSX/+_2863_640_640_label_ACCIDENT_DETECTION.v1i.yolov7pytorch/test/images/._793_jpeg_jpg.rf.3f2395444baed3a9bd4953a8051fb843.jpg  \n",
            "  inflating: +_2863_640_640_label_ACCIDENT_DETECTION.v1i.yolov7pytorch/test/images/14-105_jpg.rf.046620ca74ec0ded04a166b12bf64b55.jpg  \n",
            "  inflating: __MACOSX/+_2863_640_640_label_ACCIDENT_DETECTION.v1i.yolov7pytorch/test/images/._14-105_jpg.rf.046620ca74ec0ded04a166b12bf64b55.jpg  \n",
            "  inflating: +_2863_640_640_label_ACCIDENT_DETECTION.v1i.yolov7pytorch/test/images/traffic_img1301_jpg.rf.855b8a92404e0f07a88af409994daa6c.jpg  \n",
            "  inflating: __MACOSX/+_2863_640_640_label_ACCIDENT_DETECTION.v1i.yolov7pytorch/test/images/._traffic_img1301_jpg.rf.855b8a92404e0f07a88af409994daa6c.jpg  \n",
            "  inflating: +_2863_640_640_label_ACCIDENT_DETECTION.v1i.yolov7pytorch/test/images/FLIP_CAR_V176_jpg.rf.033ba0a89bf400d1814b987e355ca5f7.jpg  \n",
            "  inflating: __MACOSX/+_2863_640_640_label_ACCIDENT_DETECTION.v1i.yolov7pytorch/test/images/._FLIP_CAR_V176_jpg.rf.033ba0a89bf400d1814b987e355ca5f7.jpg  \n",
            "  inflating: +_2863_640_640_label_ACCIDENT_DETECTION.v1i.yolov7pytorch/test/images/traffic_img202_jpg.rf.7760daa8a54cc1cc4218f468ed3d77b9.jpg  \n",
            "  inflating: __MACOSX/+_2863_640_640_label_ACCIDENT_DETECTION.v1i.yolov7pytorch/test/images/._traffic_img202_jpg.rf.7760daa8a54cc1cc4218f468ed3d77b9.jpg  \n",
            "  inflating: +_2863_640_640_label_ACCIDENT_DETECTION.v1i.yolov7pytorch/test/images/traffic_img228_jpg.rf.4b02e144a56d63754ae9cc26d87493f1.jpg  \n",
            "  inflating: __MACOSX/+_2863_640_640_label_ACCIDENT_DETECTION.v1i.yolov7pytorch/test/images/._traffic_img228_jpg.rf.4b02e144a56d63754ae9cc26d87493f1.jpg  \n",
            "  inflating: +_2863_640_640_label_ACCIDENT_DETECTION.v1i.yolov7pytorch/test/images/traffic_img558_jpg.rf.dfacb0d2c7b718a65dea2cd670d53188.jpg  \n",
            "  inflating: __MACOSX/+_2863_640_640_label_ACCIDENT_DETECTION.v1i.yolov7pytorch/test/images/._traffic_img558_jpg.rf.dfacb0d2c7b718a65dea2cd670d53188.jpg  \n",
            "  inflating: +_2863_640_640_label_ACCIDENT_DETECTION.v1i.yolov7pytorch/test/images/FLIP_CAR_V157_jpg.rf.63d8386baf93b36e7667e01d024becca.jpg  \n",
            "  inflating: __MACOSX/+_2863_640_640_label_ACCIDENT_DETECTION.v1i.yolov7pytorch/test/images/._FLIP_CAR_V157_jpg.rf.63d8386baf93b36e7667e01d024becca.jpg  \n",
            "  inflating: +_2863_640_640_label_ACCIDENT_DETECTION.v1i.yolov7pytorch/test/images/accidentFrame3212_jpg.rf.dc49c96bbf57ed8e928a04cbb341bc5b.jpg  \n",
            "  inflating: __MACOSX/+_2863_640_640_label_ACCIDENT_DETECTION.v1i.yolov7pytorch/test/images/._accidentFrame3212_jpg.rf.dc49c96bbf57ed8e928a04cbb341bc5b.jpg  \n",
            "  inflating: +_2863_640_640_label_ACCIDENT_DETECTION.v1i.yolov7pytorch/test/images/4139_jpeg.rf.215eb9ca94746272d36200b0688b0a9d.jpg  \n",
            "  inflating: __MACOSX/+_2863_640_640_label_ACCIDENT_DETECTION.v1i.yolov7pytorch/test/images/._4139_jpeg.rf.215eb9ca94746272d36200b0688b0a9d.jpg  \n",
            "  inflating: +_2863_640_640_label_ACCIDENT_DETECTION.v1i.yolov7pytorch/test/images/Semi-RealisticVD-26_jpg.rf.f895d09e0d530ec5e76aa6a731db5862.jpg  \n",
            "  inflating: __MACOSX/+_2863_640_640_label_ACCIDENT_DETECTION.v1i.yolov7pytorch/test/images/._Semi-RealisticVD-26_jpg.rf.f895d09e0d530ec5e76aa6a731db5862.jpg  \n",
            "  inflating: +_2863_640_640_label_ACCIDENT_DETECTION.v1i.yolov7pytorch/test/images/severV13_jpg.rf.de1913ccb90a47647bb04553e3abd595.jpg  \n",
            "  inflating: __MACOSX/+_2863_640_640_label_ACCIDENT_DETECTION.v1i.yolov7pytorch/test/images/._severV13_jpg.rf.de1913ccb90a47647bb04553e3abd595.jpg  \n",
            "  inflating: +_2863_640_640_label_ACCIDENT_DETECTION.v1i.yolov7pytorch/test/images/FLIP_CAR_V131_jpg.rf.55064aa9f1d9f68acc1d7edc85c692ab.jpg  \n",
            "  inflating: __MACOSX/+_2863_640_640_label_ACCIDENT_DETECTION.v1i.yolov7pytorch/test/images/._FLIP_CAR_V131_jpg.rf.55064aa9f1d9f68acc1d7edc85c692ab.jpg  \n",
            "  inflating: +_2863_640_640_label_ACCIDENT_DETECTION.v1i.yolov7pytorch/test/images/vd100_jpeg_jpg.rf.30a7f13099869b9469c1e27d90b0eabc.jpg  \n",
            "  inflating: __MACOSX/+_2863_640_640_label_ACCIDENT_DETECTION.v1i.yolov7pytorch/test/images/._vd100_jpeg_jpg.rf.30a7f13099869b9469c1e27d90b0eabc.jpg  \n",
            "  inflating: +_2863_640_640_label_ACCIDENT_DETECTION.v1i.yolov7pytorch/test/images/Semi-RealisticVD-144_jpg.rf.4286ff4304401ecd01bb7b3d1fe90b3e.jpg  \n",
            "  inflating: __MACOSX/+_2863_640_640_label_ACCIDENT_DETECTION.v1i.yolov7pytorch/test/images/._Semi-RealisticVD-144_jpg.rf.4286ff4304401ecd01bb7b3d1fe90b3e.jpg  \n",
            "  inflating: +_2863_640_640_label_ACCIDENT_DETECTION.v1i.yolov7pytorch/test/images/accidentFrame3949_jpg.rf.125c5b9708c04e0fdf92e09c79ddb0df.jpg  \n",
            "  inflating: __MACOSX/+_2863_640_640_label_ACCIDENT_DETECTION.v1i.yolov7pytorch/test/images/._accidentFrame3949_jpg.rf.125c5b9708c04e0fdf92e09c79ddb0df.jpg  \n",
            "  inflating: +_2863_640_640_label_ACCIDENT_DETECTION.v1i.yolov7pytorch/test/images/severityV2_27_jpg.rf.586f16f2df2825ff8b9420d7cde806be.jpg  \n",
            "  inflating: __MACOSX/+_2863_640_640_label_ACCIDENT_DETECTION.v1i.yolov7pytorch/test/images/._severityV2_27_jpg.rf.586f16f2df2825ff8b9420d7cde806be.jpg  \n",
            "  inflating: +_2863_640_640_label_ACCIDENT_DETECTION.v1i.yolov7pytorch/test/images/download-4_jpg.rf.aad8e276278de008c71dfe3dfd3239ab.jpg  \n",
            "  inflating: __MACOSX/+_2863_640_640_label_ACCIDENT_DETECTION.v1i.yolov7pytorch/test/images/._download-4_jpg.rf.aad8e276278de008c71dfe3dfd3239ab.jpg  \n",
            "  inflating: +_2863_640_640_label_ACCIDENT_DETECTION.v1i.yolov7pytorch/test/images/traffic_img508_jpg.rf.94979cf3d7fe982b7f5bd1d3cb6a0cc8.jpg  \n",
            "  inflating: __MACOSX/+_2863_640_640_label_ACCIDENT_DETECTION.v1i.yolov7pytorch/test/images/._traffic_img508_jpg.rf.94979cf3d7fe982b7f5bd1d3cb6a0cc8.jpg  \n",
            "  inflating: +_2863_640_640_label_ACCIDENT_DETECTION.v1i.yolov7pytorch/test/images/4097_jpeg.rf.624b8185343ded409b5e93c05edb7d18.jpg  \n",
            "  inflating: __MACOSX/+_2863_640_640_label_ACCIDENT_DETECTION.v1i.yolov7pytorch/test/images/._4097_jpeg.rf.624b8185343ded409b5e93c05edb7d18.jpg  \n",
            "  inflating: +_2863_640_640_label_ACCIDENT_DETECTION.v1i.yolov7pytorch/test/images/traffic_img1073_jpg.rf.b47b915d56601ab5e67c299b3a8c4485.jpg  \n",
            "  inflating: __MACOSX/+_2863_640_640_label_ACCIDENT_DETECTION.v1i.yolov7pytorch/test/images/._traffic_img1073_jpg.rf.b47b915d56601ab5e67c299b3a8c4485.jpg  \n",
            "  inflating: +_2863_640_640_label_ACCIDENT_DETECTION.v1i.yolov7pytorch/test/images/traffic_img239_jpg.rf.c5966c983805e4a5f2319f11caf12340.jpg  \n",
            "  inflating: __MACOSX/+_2863_640_640_label_ACCIDENT_DETECTION.v1i.yolov7pytorch/test/images/._traffic_img239_jpg.rf.c5966c983805e4a5f2319f11caf12340.jpg  \n",
            "  inflating: +_2863_640_640_label_ACCIDENT_DETECTION.v1i.yolov7pytorch/test/images/severityV4_20_jpg.rf.6d0883f727134b68eb40d100166d0150.jpg  \n",
            "  inflating: __MACOSX/+_2863_640_640_label_ACCIDENT_DETECTION.v1i.yolov7pytorch/test/images/._severityV4_20_jpg.rf.6d0883f727134b68eb40d100166d0150.jpg  \n",
            "  inflating: +_2863_640_640_label_ACCIDENT_DETECTION.v1i.yolov7pytorch/test/images/traffic_img126_jpg.rf.b019106e0cbe50fde06694ef69c4e8e0.jpg  \n",
            "  inflating: __MACOSX/+_2863_640_640_label_ACCIDENT_DETECTION.v1i.yolov7pytorch/test/images/._traffic_img126_jpg.rf.b019106e0cbe50fde06694ef69c4e8e0.jpg  \n",
            "  inflating: +_2863_640_640_label_ACCIDENT_DETECTION.v1i.yolov7pytorch/test/images/download-10_jpg.rf.4133e7bd96d7c76d74b4a19e3a638bbb.jpg  \n",
            "  inflating: __MACOSX/+_2863_640_640_label_ACCIDENT_DETECTION.v1i.yolov7pytorch/test/images/._download-10_jpg.rf.4133e7bd96d7c76d74b4a19e3a638bbb.jpg  \n",
            "  inflating: +_2863_640_640_label_ACCIDENT_DETECTION.v1i.yolov7pytorch/test/images/images-22_jpg.rf.4a7a0898d3f1c64a97add206f5871ab8.jpg  \n",
            "  inflating: __MACOSX/+_2863_640_640_label_ACCIDENT_DETECTION.v1i.yolov7pytorch/test/images/._images-22_jpg.rf.4a7a0898d3f1c64a97add206f5871ab8.jpg  \n",
            "  inflating: +_2863_640_640_label_ACCIDENT_DETECTION.v1i.yolov7pytorch/test/images/traffic_img993_jpg.rf.a2488571fe6553338e276242c98ac68a.jpg  \n",
            "  inflating: __MACOSX/+_2863_640_640_label_ACCIDENT_DETECTION.v1i.yolov7pytorch/test/images/._traffic_img993_jpg.rf.a2488571fe6553338e276242c98ac68a.jpg  \n",
            "  inflating: +_2863_640_640_label_ACCIDENT_DETECTION.v1i.yolov7pytorch/test/images/accidentFrame3421_jpg.rf.22f6e7137c69d2a469b87c7f8f136765.jpg  \n",
            "  inflating: __MACOSX/+_2863_640_640_label_ACCIDENT_DETECTION.v1i.yolov7pytorch/test/images/._accidentFrame3421_jpg.rf.22f6e7137c69d2a469b87c7f8f136765.jpg  \n",
            "  inflating: +_2863_640_640_label_ACCIDENT_DETECTION.v1i.yolov7pytorch/test/images/severityV3_9_jpeg_jpg.rf.b823516db37df4baffa4bd4280c9d4f7.jpg  \n",
            "  inflating: __MACOSX/+_2863_640_640_label_ACCIDENT_DETECTION.v1i.yolov7pytorch/test/images/._severityV3_9_jpeg_jpg.rf.b823516db37df4baffa4bd4280c9d4f7.jpg  \n",
            "  inflating: +_2863_640_640_label_ACCIDENT_DETECTION.v1i.yolov7pytorch/test/images/traffic_img1769_jpg.rf.ed075dbdf891050af70438a08bdef162.jpg  \n",
            "  inflating: __MACOSX/+_2863_640_640_label_ACCIDENT_DETECTION.v1i.yolov7pytorch/test/images/._traffic_img1769_jpg.rf.ed075dbdf891050af70438a08bdef162.jpg  \n",
            "  inflating: +_2863_640_640_label_ACCIDENT_DETECTION.v1i.yolov7pytorch/test/images/4088_jpeg.rf.30405caed8540dcd48be6b5f977c57e8.jpg  \n",
            "  inflating: __MACOSX/+_2863_640_640_label_ACCIDENT_DETECTION.v1i.yolov7pytorch/test/images/._4088_jpeg.rf.30405caed8540dcd48be6b5f977c57e8.jpg  \n",
            "  inflating: +_2863_640_640_label_ACCIDENT_DETECTION.v1i.yolov7pytorch/test/images/traffic_img84_jpg.rf.60ad1b40d87d8f516d2466bcf99e5f0d.jpg  \n",
            "  inflating: __MACOSX/+_2863_640_640_label_ACCIDENT_DETECTION.v1i.yolov7pytorch/test/images/._traffic_img84_jpg.rf.60ad1b40d87d8f516d2466bcf99e5f0d.jpg  \n",
            "  inflating: +_2863_640_640_label_ACCIDENT_DETECTION.v1i.yolov7pytorch/test/labels/traffic_img533_jpg.rf.2f57b0861fa2fdef6b66d1ca42d94a60.txt  \n",
            "  inflating: __MACOSX/+_2863_640_640_label_ACCIDENT_DETECTION.v1i.yolov7pytorch/test/labels/._traffic_img533_jpg.rf.2f57b0861fa2fdef6b66d1ca42d94a60.txt  \n",
            "  inflating: +_2863_640_640_label_ACCIDENT_DETECTION.v1i.yolov7pytorch/test/labels/severityV2_26_jpg.rf.e058a59b73cf508fd69d9aef52ee2d3b.txt  \n",
            "  inflating: __MACOSX/+_2863_640_640_label_ACCIDENT_DETECTION.v1i.yolov7pytorch/test/labels/._severityV2_26_jpg.rf.e058a59b73cf508fd69d9aef52ee2d3b.txt  \n",
            "  inflating: +_2863_640_640_label_ACCIDENT_DETECTION.v1i.yolov7pytorch/test/labels/traffic_img1147_jpg.rf.6d669ffe2555b8594d78bc80e58a2eb7.txt  \n",
            "  inflating: __MACOSX/+_2863_640_640_label_ACCIDENT_DETECTION.v1i.yolov7pytorch/test/labels/._traffic_img1147_jpg.rf.6d669ffe2555b8594d78bc80e58a2eb7.txt  \n",
            "  inflating: +_2863_640_640_label_ACCIDENT_DETECTION.v1i.yolov7pytorch/test/labels/traffic_img503_jpg.rf.e462cd220d6eb1aaaf237984663fc63a.txt  \n",
            "  inflating: __MACOSX/+_2863_640_640_label_ACCIDENT_DETECTION.v1i.yolov7pytorch/test/labels/._traffic_img503_jpg.rf.e462cd220d6eb1aaaf237984663fc63a.txt  \n",
            "  inflating: +_2863_640_640_label_ACCIDENT_DETECTION.v1i.yolov7pytorch/test/labels/4026_jpeg.rf.4a0d2a2b09a76de9b9c6b41f0e07bffe.txt  \n",
            "  inflating: __MACOSX/+_2863_640_640_label_ACCIDENT_DETECTION.v1i.yolov7pytorch/test/labels/._4026_jpeg.rf.4a0d2a2b09a76de9b9c6b41f0e07bffe.txt  \n",
            "  inflating: +_2863_640_640_label_ACCIDENT_DETECTION.v1i.yolov7pytorch/test/labels/accidentFrame2754_jpg.rf.7a34ed13a39a6d9d1b1123d826dedf10.txt  \n",
            "  inflating: __MACOSX/+_2863_640_640_label_ACCIDENT_DETECTION.v1i.yolov7pytorch/test/labels/._accidentFrame2754_jpg.rf.7a34ed13a39a6d9d1b1123d826dedf10.txt  \n",
            "  inflating: +_2863_640_640_label_ACCIDENT_DETECTION.v1i.yolov7pytorch/test/labels/traffic_img288_jpg.rf.8a974e9f73357e048a95ab8f820d2026.txt  \n",
            "  inflating: __MACOSX/+_2863_640_640_label_ACCIDENT_DETECTION.v1i.yolov7pytorch/test/labels/._traffic_img288_jpg.rf.8a974e9f73357e048a95ab8f820d2026.txt  \n",
            "  inflating: +_2863_640_640_label_ACCIDENT_DETECTION.v1i.yolov7pytorch/test/labels/traffic_img804_jpg.rf.dfe9fbf2b938e959574be450780c3839.txt  \n",
            "  inflating: __MACOSX/+_2863_640_640_label_ACCIDENT_DETECTION.v1i.yolov7pytorch/test/labels/._traffic_img804_jpg.rf.dfe9fbf2b938e959574be450780c3839.txt  \n",
            "  inflating: +_2863_640_640_label_ACCIDENT_DETECTION.v1i.yolov7pytorch/test/labels/traffic_img1765_jpg.rf.616f2f60c1eaf9a1f65186955b47a6ae.txt  \n",
            "  inflating: __MACOSX/+_2863_640_640_label_ACCIDENT_DETECTION.v1i.yolov7pytorch/test/labels/._traffic_img1765_jpg.rf.616f2f60c1eaf9a1f65186955b47a6ae.txt  \n",
            "  inflating: +_2863_640_640_label_ACCIDENT_DETECTION.v1i.yolov7pytorch/test/labels/traffic_img83_jpg.rf.c6040ee3b2831c7aff45213af77c2018.txt  \n",
            "  inflating: __MACOSX/+_2863_640_640_label_ACCIDENT_DETECTION.v1i.yolov7pytorch/test/labels/._traffic_img83_jpg.rf.c6040ee3b2831c7aff45213af77c2018.txt  \n",
            "  inflating: +_2863_640_640_label_ACCIDENT_DETECTION.v1i.yolov7pytorch/test/labels/severityV4_71_jpg.rf.29ab48dad1880f8140aaf9a12ae7ac04.txt  \n",
            "  inflating: __MACOSX/+_2863_640_640_label_ACCIDENT_DETECTION.v1i.yolov7pytorch/test/labels/._severityV4_71_jpg.rf.29ab48dad1880f8140aaf9a12ae7ac04.txt  \n",
            "  inflating: +_2863_640_640_label_ACCIDENT_DETECTION.v1i.yolov7pytorch/test/labels/accidentFrame2757_jpg.rf.3f0320249e59ca67303f6f7b01e20c6b.txt  \n",
            "  inflating: __MACOSX/+_2863_640_640_label_ACCIDENT_DETECTION.v1i.yolov7pytorch/test/labels/._accidentFrame2757_jpg.rf.3f0320249e59ca67303f6f7b01e20c6b.txt  \n",
            "  inflating: +_2863_640_640_label_ACCIDENT_DETECTION.v1i.yolov7pytorch/test/labels/accidentFrame3226_jpg.rf.26040f7ba42d5201ba457d67f87d034e.txt  \n",
            "  inflating: __MACOSX/+_2863_640_640_label_ACCIDENT_DETECTION.v1i.yolov7pytorch/test/labels/._accidentFrame3226_jpg.rf.26040f7ba42d5201ba457d67f87d034e.txt  \n",
            "  inflating: +_2863_640_640_label_ACCIDENT_DETECTION.v1i.yolov7pytorch/test/labels/traffic_img341_jpg.rf.448a992e46f387bfcd36227f5b681555.txt  \n",
            "  inflating: __MACOSX/+_2863_640_640_label_ACCIDENT_DETECTION.v1i.yolov7pytorch/test/labels/._traffic_img341_jpg.rf.448a992e46f387bfcd36227f5b681555.txt  \n",
            "  inflating: +_2863_640_640_label_ACCIDENT_DETECTION.v1i.yolov7pytorch/test/labels/images-1_jpg.rf.895bc390eb0af1b853ca6065cae2ca4d.txt  \n",
            "  inflating: __MACOSX/+_2863_640_640_label_ACCIDENT_DETECTION.v1i.yolov7pytorch/test/labels/._images-1_jpg.rf.895bc390eb0af1b853ca6065cae2ca4d.txt  \n",
            "  inflating: +_2863_640_640_label_ACCIDENT_DETECTION.v1i.yolov7pytorch/test/labels/buy5_jpg.rf.25a0e82c51e275594453ce0f65d9bdf7.txt  \n",
            "  inflating: __MACOSX/+_2863_640_640_label_ACCIDENT_DETECTION.v1i.yolov7pytorch/test/labels/._buy5_jpg.rf.25a0e82c51e275594453ce0f65d9bdf7.txt  \n",
            "  inflating: +_2863_640_640_label_ACCIDENT_DETECTION.v1i.yolov7pytorch/test/labels/4069_jpeg.rf.d4b6b05990ad357727fcb242e3aabc63.txt  \n",
            "  inflating: __MACOSX/+_2863_640_640_label_ACCIDENT_DETECTION.v1i.yolov7pytorch/test/labels/._4069_jpeg.rf.d4b6b05990ad357727fcb242e3aabc63.txt  \n",
            "  inflating: +_2863_640_640_label_ACCIDENT_DETECTION.v1i.yolov7pytorch/test/labels/4121_jpeg.rf.6993383ecd1cf35687ebc348aa7bb085.txt  \n",
            "  inflating: __MACOSX/+_2863_640_640_label_ACCIDENT_DETECTION.v1i.yolov7pytorch/test/labels/._4121_jpeg.rf.6993383ecd1cf35687ebc348aa7bb085.txt  \n",
            "  inflating: +_2863_640_640_label_ACCIDENT_DETECTION.v1i.yolov7pytorch/test/labels/FLIP_CAR_V132_jpg.rf.9184f93b2a18c8f48486e983fd3ffe2f.txt  \n",
            "  inflating: __MACOSX/+_2863_640_640_label_ACCIDENT_DETECTION.v1i.yolov7pytorch/test/labels/._FLIP_CAR_V132_jpg.rf.9184f93b2a18c8f48486e983fd3ffe2f.txt  \n",
            "  inflating: +_2863_640_640_label_ACCIDENT_DETECTION.v1i.yolov7pytorch/test/labels/traffic_img728_jpg.rf.a83540f6e1f8c0c933441e0c4a333cbc.txt  \n",
            "  inflating: __MACOSX/+_2863_640_640_label_ACCIDENT_DETECTION.v1i.yolov7pytorch/test/labels/._traffic_img728_jpg.rf.a83540f6e1f8c0c933441e0c4a333cbc.txt  \n",
            "  inflating: +_2863_640_640_label_ACCIDENT_DETECTION.v1i.yolov7pytorch/test/labels/traffic_img1031_jpg.rf.966c467d04788028a6dd0577283eb384.txt  \n",
            "  inflating: __MACOSX/+_2863_640_640_label_ACCIDENT_DETECTION.v1i.yolov7pytorch/test/labels/._traffic_img1031_jpg.rf.966c467d04788028a6dd0577283eb384.txt  \n",
            "  inflating: +_2863_640_640_label_ACCIDENT_DETECTION.v1i.yolov7pytorch/test/labels/Semi-RealisticVD-101_jpg.rf.e9b9121543fe1595084b0bf3a86b891b.txt  \n",
            "  inflating: __MACOSX/+_2863_640_640_label_ACCIDENT_DETECTION.v1i.yolov7pytorch/test/labels/._Semi-RealisticVD-101_jpg.rf.e9b9121543fe1595084b0bf3a86b891b.txt  \n",
            "  inflating: +_2863_640_640_label_ACCIDENT_DETECTION.v1i.yolov7pytorch/test/labels/Severity_Detect_V10_jpg.rf.cf18d5b130c3665ca6bde986b7b8a3ae.txt  \n",
            "  inflating: __MACOSX/+_2863_640_640_label_ACCIDENT_DETECTION.v1i.yolov7pytorch/test/labels/._Severity_Detect_V10_jpg.rf.cf18d5b130c3665ca6bde986b7b8a3ae.txt  \n",
            "  inflating: +_2863_640_640_label_ACCIDENT_DETECTION.v1i.yolov7pytorch/test/labels/FLIP_CAR_V120_jpg.rf.9e64f32859a6176f03a7bf5a4701f74e.txt  \n",
            "  inflating: __MACOSX/+_2863_640_640_label_ACCIDENT_DETECTION.v1i.yolov7pytorch/test/labels/._FLIP_CAR_V120_jpg.rf.9e64f32859a6176f03a7bf5a4701f74e.txt  \n",
            "  inflating: +_2863_640_640_label_ACCIDENT_DETECTION.v1i.yolov7pytorch/test/labels/severityV3_3_jpeg_jpg.rf.33229ee38d4d0d83cc45943a0e590dc4.txt  \n",
            "  inflating: __MACOSX/+_2863_640_640_label_ACCIDENT_DETECTION.v1i.yolov7pytorch/test/labels/._severityV3_3_jpeg_jpg.rf.33229ee38d4d0d83cc45943a0e590dc4.txt  \n",
            "  inflating: +_2863_640_640_label_ACCIDENT_DETECTION.v1i.yolov7pytorch/test/labels/traffic_img1275_jpg.rf.bd3a67b7defa65f843ef4fdbd703beb4.txt  \n",
            "  inflating: __MACOSX/+_2863_640_640_label_ACCIDENT_DETECTION.v1i.yolov7pytorch/test/labels/._traffic_img1275_jpg.rf.bd3a67b7defa65f843ef4fdbd703beb4.txt  \n",
            "  inflating: +_2863_640_640_label_ACCIDENT_DETECTION.v1i.yolov7pytorch/test/labels/download-13_jpg.rf.5cbd243f457c20a715ed55b6074f9186.txt  \n",
            "  inflating: __MACOSX/+_2863_640_640_label_ACCIDENT_DETECTION.v1i.yolov7pytorch/test/labels/._download-13_jpg.rf.5cbd243f457c20a715ed55b6074f9186.txt  \n",
            "  inflating: +_2863_640_640_label_ACCIDENT_DETECTION.v1i.yolov7pytorch/test/labels/traffic_img820_jpg.rf.553a4b7fe84936cd35447ffb86d23705.txt  \n",
            "  inflating: __MACOSX/+_2863_640_640_label_ACCIDENT_DETECTION.v1i.yolov7pytorch/test/labels/._traffic_img820_jpg.rf.553a4b7fe84936cd35447ffb86d23705.txt  \n",
            "  inflating: +_2863_640_640_label_ACCIDENT_DETECTION.v1i.yolov7pytorch/test/labels/images-9_jpg.rf.441114aeeb87753694dd05e31568869d.txt  \n",
            "  inflating: __MACOSX/+_2863_640_640_label_ACCIDENT_DETECTION.v1i.yolov7pytorch/test/labels/._images-9_jpg.rf.441114aeeb87753694dd05e31568869d.txt  \n",
            "  inflating: +_2863_640_640_label_ACCIDENT_DETECTION.v1i.yolov7pytorch/test/labels/Screen-Shot-2022-04-05-at-2-10-30-AM_png_jpg.rf.9f1dcc37df1915c2ae9effcb1563e9cd.txt  \n",
            "  inflating: __MACOSX/+_2863_640_640_label_ACCIDENT_DETECTION.v1i.yolov7pytorch/test/labels/._Screen-Shot-2022-04-05-at-2-10-30-AM_png_jpg.rf.9f1dcc37df1915c2ae9effcb1563e9cd.txt  \n",
            "  inflating: +_2863_640_640_label_ACCIDENT_DETECTION.v1i.yolov7pytorch/test/labels/traffic_img1202_jpg.rf.a28c4178e1e6db741cd738460cf34ef7.txt  \n",
            "  inflating: __MACOSX/+_2863_640_640_label_ACCIDENT_DETECTION.v1i.yolov7pytorch/test/labels/._traffic_img1202_jpg.rf.a28c4178e1e6db741cd738460cf34ef7.txt  \n",
            "  inflating: +_2863_640_640_label_ACCIDENT_DETECTION.v1i.yolov7pytorch/test/labels/buy1_jpg.rf.4658bf5bba69358f6e7be09bede3c00c.txt  \n",
            "  inflating: __MACOSX/+_2863_640_640_label_ACCIDENT_DETECTION.v1i.yolov7pytorch/test/labels/._buy1_jpg.rf.4658bf5bba69358f6e7be09bede3c00c.txt  \n",
            "  inflating: +_2863_640_640_label_ACCIDENT_DETECTION.v1i.yolov7pytorch/test/labels/Semi-RealisticVD-145_jpg.rf.e7c611096af9004e36573224da2b05df.txt  \n",
            "  inflating: __MACOSX/+_2863_640_640_label_ACCIDENT_DETECTION.v1i.yolov7pytorch/test/labels/._Semi-RealisticVD-145_jpg.rf.e7c611096af9004e36573224da2b05df.txt  \n",
            "  inflating: +_2863_640_640_label_ACCIDENT_DETECTION.v1i.yolov7pytorch/test/labels/images-21_jpg.rf.52011efc8b60e6dfffe52fa1eeab5e11.txt  \n",
            "  inflating: __MACOSX/+_2863_640_640_label_ACCIDENT_DETECTION.v1i.yolov7pytorch/test/labels/._images-21_jpg.rf.52011efc8b60e6dfffe52fa1eeab5e11.txt  \n",
            "  inflating: +_2863_640_640_label_ACCIDENT_DETECTION.v1i.yolov7pytorch/test/labels/traffic_img1298_jpg.rf.91f1b8c6cd2ef1300c202541b971666b.txt  \n",
            "  inflating: __MACOSX/+_2863_640_640_label_ACCIDENT_DETECTION.v1i.yolov7pytorch/test/labels/._traffic_img1298_jpg.rf.91f1b8c6cd2ef1300c202541b971666b.txt  \n",
            "  inflating: +_2863_640_640_label_ACCIDENT_DETECTION.v1i.yolov7pytorch/test/labels/images-43_jpg.rf.f45f6a6774b6359199f363d1837249d6.txt  \n",
            "  inflating: __MACOSX/+_2863_640_640_label_ACCIDENT_DETECTION.v1i.yolov7pytorch/test/labels/._images-43_jpg.rf.f45f6a6774b6359199f363d1837249d6.txt  \n",
            "  inflating: +_2863_640_640_label_ACCIDENT_DETECTION.v1i.yolov7pytorch/test/labels/traffic_img147_jpg.rf.00ea1ffde9a1941f6c5ba071e5e9efe9.txt  \n",
            "  inflating: __MACOSX/+_2863_640_640_label_ACCIDENT_DETECTION.v1i.yolov7pytorch/test/labels/._traffic_img147_jpg.rf.00ea1ffde9a1941f6c5ba071e5e9efe9.txt  \n",
            "  inflating: +_2863_640_640_label_ACCIDENT_DETECTION.v1i.yolov7pytorch/test/labels/download-1_jpg.rf.b77bd0cc35f4048ba227885695fd187c.txt  \n",
            "  inflating: __MACOSX/+_2863_640_640_label_ACCIDENT_DETECTION.v1i.yolov7pytorch/test/labels/._download-1_jpg.rf.b77bd0cc35f4048ba227885695fd187c.txt  \n",
            "  inflating: +_2863_640_640_label_ACCIDENT_DETECTION.v1i.yolov7pytorch/test/labels/FLIP_CAR_V118_jpg.rf.4b572aaf6f1938e853f47e02552fadb2.txt  \n",
            "  inflating: __MACOSX/+_2863_640_640_label_ACCIDENT_DETECTION.v1i.yolov7pytorch/test/labels/._FLIP_CAR_V118_jpg.rf.4b572aaf6f1938e853f47e02552fadb2.txt  \n",
            "  inflating: +_2863_640_640_label_ACCIDENT_DETECTION.v1i.yolov7pytorch/test/labels/traffic_img343_jpg.rf.1869ccf700d3b0a23ed320b73b1c2294.txt  \n",
            "  inflating: __MACOSX/+_2863_640_640_label_ACCIDENT_DETECTION.v1i.yolov7pytorch/test/labels/._traffic_img343_jpg.rf.1869ccf700d3b0a23ed320b73b1c2294.txt  \n",
            "  inflating: +_2863_640_640_label_ACCIDENT_DETECTION.v1i.yolov7pytorch/test/labels/1107_jpeg_jpg.rf.6ca8b942adc1cb998b0d2e0f4ddbf787.txt  \n",
            "  inflating: __MACOSX/+_2863_640_640_label_ACCIDENT_DETECTION.v1i.yolov7pytorch/test/labels/._1107_jpeg_jpg.rf.6ca8b942adc1cb998b0d2e0f4ddbf787.txt  \n",
            "  inflating: +_2863_640_640_label_ACCIDENT_DETECTION.v1i.yolov7pytorch/test/labels/Severity_Detect_V19_jpg.rf.382195945ee3d9041fdc9b4f09dc602a.txt  \n",
            "  inflating: __MACOSX/+_2863_640_640_label_ACCIDENT_DETECTION.v1i.yolov7pytorch/test/labels/._Severity_Detect_V19_jpg.rf.382195945ee3d9041fdc9b4f09dc602a.txt  \n",
            "  inflating: +_2863_640_640_label_ACCIDENT_DETECTION.v1i.yolov7pytorch/test/labels/traffic_img402_jpg.rf.ba3aae8326f8751463c7ff535f4d2170.txt  \n",
            "  inflating: __MACOSX/+_2863_640_640_label_ACCIDENT_DETECTION.v1i.yolov7pytorch/test/labels/._traffic_img402_jpg.rf.ba3aae8326f8751463c7ff535f4d2170.txt  \n",
            "  inflating: +_2863_640_640_label_ACCIDENT_DETECTION.v1i.yolov7pytorch/test/labels/808_jpeg_jpg.rf.1e8d6022a834d1481f8d13cc9c202418.txt  \n",
            "  inflating: __MACOSX/+_2863_640_640_label_ACCIDENT_DETECTION.v1i.yolov7pytorch/test/labels/._808_jpeg_jpg.rf.1e8d6022a834d1481f8d13cc9c202418.txt  \n",
            "  inflating: +_2863_640_640_label_ACCIDENT_DETECTION.v1i.yolov7pytorch/test/labels/images-4_jpg.rf.286ac213c84a2da2d17b39750a52941b.txt  \n",
            "  inflating: __MACOSX/+_2863_640_640_label_ACCIDENT_DETECTION.v1i.yolov7pytorch/test/labels/._images-4_jpg.rf.286ac213c84a2da2d17b39750a52941b.txt  \n",
            "  inflating: +_2863_640_640_label_ACCIDENT_DETECTION.v1i.yolov7pytorch/test/labels/download-2_jpg.rf.fe06ea0ef13b32c8d9ef5ef2c8031fb4.txt  \n",
            "  inflating: __MACOSX/+_2863_640_640_label_ACCIDENT_DETECTION.v1i.yolov7pytorch/test/labels/._download-2_jpg.rf.fe06ea0ef13b32c8d9ef5ef2c8031fb4.txt  \n",
            "  inflating: +_2863_640_640_label_ACCIDENT_DETECTION.v1i.yolov7pytorch/test/labels/9k_-8-_jpg.rf.dff644376d556be3c260dfcb753f160e.txt  \n",
            "  inflating: __MACOSX/+_2863_640_640_label_ACCIDENT_DETECTION.v1i.yolov7pytorch/test/labels/._9k_-8-_jpg.rf.dff644376d556be3c260dfcb753f160e.txt  \n",
            "  inflating: +_2863_640_640_label_ACCIDENT_DETECTION.v1i.yolov7pytorch/test/labels/traffic_img852_jpg.rf.9af45f65d7d77d0b7be112dd5d2e02c8.txt  \n",
            "  inflating: __MACOSX/+_2863_640_640_label_ACCIDENT_DETECTION.v1i.yolov7pytorch/test/labels/._traffic_img852_jpg.rf.9af45f65d7d77d0b7be112dd5d2e02c8.txt  \n",
            "  inflating: +_2863_640_640_label_ACCIDENT_DETECTION.v1i.yolov7pytorch/test/labels/accidentFrame2718_jpg.rf.6da8f7b6f05efc51e817d4ac87e3bb6a.txt  \n",
            "  inflating: __MACOSX/+_2863_640_640_label_ACCIDENT_DETECTION.v1i.yolov7pytorch/test/labels/._accidentFrame2718_jpg.rf.6da8f7b6f05efc51e817d4ac87e3bb6a.txt  \n",
            "  inflating: +_2863_640_640_label_ACCIDENT_DETECTION.v1i.yolov7pytorch/test/labels/images-4_jpg.rf.e6ee4304ee441257651870d7f124c81b.txt  \n",
            "  inflating: __MACOSX/+_2863_640_640_label_ACCIDENT_DETECTION.v1i.yolov7pytorch/test/labels/._images-4_jpg.rf.e6ee4304ee441257651870d7f124c81b.txt  \n",
            "  inflating: +_2863_640_640_label_ACCIDENT_DETECTION.v1i.yolov7pytorch/test/labels/severity_V18_jpg.rf.2c667ba2088f1304bf1d20c7a1186c7b.txt  \n",
            "  inflating: __MACOSX/+_2863_640_640_label_ACCIDENT_DETECTION.v1i.yolov7pytorch/test/labels/._severity_V18_jpg.rf.2c667ba2088f1304bf1d20c7a1186c7b.txt  \n",
            "  inflating: +_2863_640_640_label_ACCIDENT_DETECTION.v1i.yolov7pytorch/test/labels/traffic_img23_jpg.rf.0c1659cc7ed310c2319e2fc9b3c37e5b.txt  \n",
            "  inflating: __MACOSX/+_2863_640_640_label_ACCIDENT_DETECTION.v1i.yolov7pytorch/test/labels/._traffic_img23_jpg.rf.0c1659cc7ed310c2319e2fc9b3c37e5b.txt  \n",
            "  inflating: +_2863_640_640_label_ACCIDENT_DETECTION.v1i.yolov7pytorch/test/labels/severityV4_67_jpg.rf.54e232e2766c11650aeff4c1599ffbd4.txt  \n",
            "  inflating: __MACOSX/+_2863_640_640_label_ACCIDENT_DETECTION.v1i.yolov7pytorch/test/labels/._severityV4_67_jpg.rf.54e232e2766c11650aeff4c1599ffbd4.txt  \n",
            "  inflating: +_2863_640_640_label_ACCIDENT_DETECTION.v1i.yolov7pytorch/test/labels/FLIP_CAR_V154_jpg.rf.45e912fda740602e1a6cb184a3bc59e4.txt  \n",
            "  inflating: __MACOSX/+_2863_640_640_label_ACCIDENT_DETECTION.v1i.yolov7pytorch/test/labels/._FLIP_CAR_V154_jpg.rf.45e912fda740602e1a6cb184a3bc59e4.txt  \n",
            "  inflating: +_2863_640_640_label_ACCIDENT_DETECTION.v1i.yolov7pytorch/test/labels/FLIP_CAR_V146_jpg.rf.e98577e04e0781fafefb146650171029.txt  \n",
            "  inflating: __MACOSX/+_2863_640_640_label_ACCIDENT_DETECTION.v1i.yolov7pytorch/test/labels/._FLIP_CAR_V146_jpg.rf.e98577e04e0781fafefb146650171029.txt  \n",
            "  inflating: +_2863_640_640_label_ACCIDENT_DETECTION.v1i.yolov7pytorch/test/labels/traffic_img515_jpg.rf.6ddc48303d9f23c46938f92ed96a1ce5.txt  \n",
            "  inflating: __MACOSX/+_2863_640_640_label_ACCIDENT_DETECTION.v1i.yolov7pytorch/test/labels/._traffic_img515_jpg.rf.6ddc48303d9f23c46938f92ed96a1ce5.txt  \n",
            "  inflating: +_2863_640_640_label_ACCIDENT_DETECTION.v1i.yolov7pytorch/test/labels/820_jpeg_jpg.rf.bd12824b8f6d50f05f28565a3dcd9e37.txt  \n",
            "  inflating: __MACOSX/+_2863_640_640_label_ACCIDENT_DETECTION.v1i.yolov7pytorch/test/labels/._820_jpeg_jpg.rf.bd12824b8f6d50f05f28565a3dcd9e37.txt  \n",
            "  inflating: +_2863_640_640_label_ACCIDENT_DETECTION.v1i.yolov7pytorch/test/labels/traffic_img10_jpg.rf.1df0c840a433f094a3984edf0e2741c0.txt  \n",
            "  inflating: __MACOSX/+_2863_640_640_label_ACCIDENT_DETECTION.v1i.yolov7pytorch/test/labels/._traffic_img10_jpg.rf.1df0c840a433f094a3984edf0e2741c0.txt  \n",
            "  inflating: +_2863_640_640_label_ACCIDENT_DETECTION.v1i.yolov7pytorch/test/labels/traffic_img497_jpg.rf.cec9e562036509a8edfb2e4e2bbe1f21.txt  \n",
            "  inflating: __MACOSX/+_2863_640_640_label_ACCIDENT_DETECTION.v1i.yolov7pytorch/test/labels/._traffic_img497_jpg.rf.cec9e562036509a8edfb2e4e2bbe1f21.txt  \n",
            "  inflating: +_2863_640_640_label_ACCIDENT_DETECTION.v1i.yolov7pytorch/test/labels/traffic_img403_jpg.rf.859420c0517c76b48410d63f9629dd11.txt  \n",
            "  inflating: __MACOSX/+_2863_640_640_label_ACCIDENT_DETECTION.v1i.yolov7pytorch/test/labels/._traffic_img403_jpg.rf.859420c0517c76b48410d63f9629dd11.txt  \n",
            "  inflating: +_2863_640_640_label_ACCIDENT_DETECTION.v1i.yolov7pytorch/test/labels/accidentFrame2731_jpg.rf.06c33e9388e312650eee141aaf7e96b9.txt  \n",
            "  inflating: __MACOSX/+_2863_640_640_label_ACCIDENT_DETECTION.v1i.yolov7pytorch/test/labels/._accidentFrame2731_jpg.rf.06c33e9388e312650eee141aaf7e96b9.txt  \n",
            "  inflating: +_2863_640_640_label_ACCIDENT_DETECTION.v1i.yolov7pytorch/test/labels/traffic_img1118_jpg.rf.9f3cff138b3ab68cbe184d3f96b7f516.txt  \n",
            "  inflating: __MACOSX/+_2863_640_640_label_ACCIDENT_DETECTION.v1i.yolov7pytorch/test/labels/._traffic_img1118_jpg.rf.9f3cff138b3ab68cbe184d3f96b7f516.txt  \n",
            "  inflating: +_2863_640_640_label_ACCIDENT_DETECTION.v1i.yolov7pytorch/test/labels/traffic_img190_jpg.rf.8c8d3c584db08587645033dfd9c662a2.txt  \n",
            "  inflating: __MACOSX/+_2863_640_640_label_ACCIDENT_DETECTION.v1i.yolov7pytorch/test/labels/._traffic_img190_jpg.rf.8c8d3c584db08587645033dfd9c662a2.txt  \n",
            "  inflating: +_2863_640_640_label_ACCIDENT_DETECTION.v1i.yolov7pytorch/test/labels/severityV3_7_jpeg_jpg.rf.313c6b87435d8bee8777554511a86d92.txt  \n",
            "  inflating: __MACOSX/+_2863_640_640_label_ACCIDENT_DETECTION.v1i.yolov7pytorch/test/labels/._severityV3_7_jpeg_jpg.rf.313c6b87435d8bee8777554511a86d92.txt  \n",
            "  inflating: +_2863_640_640_label_ACCIDENT_DETECTION.v1i.yolov7pytorch/test/labels/traffic_img52_jpg.rf.8bcd27064d99fa9b26e86e561d044adc.txt  \n",
            "  inflating: __MACOSX/+_2863_640_640_label_ACCIDENT_DETECTION.v1i.yolov7pytorch/test/labels/._traffic_img52_jpg.rf.8bcd27064d99fa9b26e86e561d044adc.txt  \n",
            "  inflating: +_2863_640_640_label_ACCIDENT_DETECTION.v1i.yolov7pytorch/test/labels/FLIP_CAR_V169_jpg.rf.df58a83b118bd5743fbf00aec79fc93d.txt  \n",
            "  inflating: __MACOSX/+_2863_640_640_label_ACCIDENT_DETECTION.v1i.yolov7pytorch/test/labels/._FLIP_CAR_V169_jpg.rf.df58a83b118bd5743fbf00aec79fc93d.txt  \n",
            "  inflating: +_2863_640_640_label_ACCIDENT_DETECTION.v1i.yolov7pytorch/test/labels/images-1_jpg.rf.c5e2cb5a7f52193521de696a8f47d426.txt  \n",
            "  inflating: __MACOSX/+_2863_640_640_label_ACCIDENT_DETECTION.v1i.yolov7pytorch/test/labels/._images-1_jpg.rf.c5e2cb5a7f52193521de696a8f47d426.txt  \n",
            "  inflating: +_2863_640_640_label_ACCIDENT_DETECTION.v1i.yolov7pytorch/test/labels/images-9_jpg.rf.7a5e6692917f5e8c60f2c067af3a9908.txt  \n",
            "  inflating: __MACOSX/+_2863_640_640_label_ACCIDENT_DETECTION.v1i.yolov7pytorch/test/labels/._images-9_jpg.rf.7a5e6692917f5e8c60f2c067af3a9908.txt  \n",
            "  inflating: +_2863_640_640_label_ACCIDENT_DETECTION.v1i.yolov7pytorch/test/labels/FLIP_CAR_V17_jpg.rf.e614246cd519b27f7a29a24bdfacbd22.txt  \n",
            "  inflating: __MACOSX/+_2863_640_640_label_ACCIDENT_DETECTION.v1i.yolov7pytorch/test/labels/._FLIP_CAR_V17_jpg.rf.e614246cd519b27f7a29a24bdfacbd22.txt  \n",
            "  inflating: +_2863_640_640_label_ACCIDENT_DETECTION.v1i.yolov7pytorch/test/labels/traffic_img1072_jpg.rf.cdda43bb7c1e4c530e4cf92675a6672f.txt  \n",
            "  inflating: __MACOSX/+_2863_640_640_label_ACCIDENT_DETECTION.v1i.yolov7pytorch/test/labels/._traffic_img1072_jpg.rf.cdda43bb7c1e4c530e4cf92675a6672f.txt  \n",
            "  inflating: +_2863_640_640_label_ACCIDENT_DETECTION.v1i.yolov7pytorch/test/labels/Semi-RealisticVD-150_jpg.rf.e51acff4cfcf09a7c00360a80b769c55.txt  \n",
            "  inflating: __MACOSX/+_2863_640_640_label_ACCIDENT_DETECTION.v1i.yolov7pytorch/test/labels/._Semi-RealisticVD-150_jpg.rf.e51acff4cfcf09a7c00360a80b769c55.txt  \n",
            "  inflating: +_2863_640_640_label_ACCIDENT_DETECTION.v1i.yolov7pytorch/test/labels/severityV4_55_jpg.rf.d1a5e6987599f6b1192aca32289c975b.txt  \n",
            "  inflating: __MACOSX/+_2863_640_640_label_ACCIDENT_DETECTION.v1i.yolov7pytorch/test/labels/._severityV4_55_jpg.rf.d1a5e6987599f6b1192aca32289c975b.txt  \n",
            "  inflating: +_2863_640_640_label_ACCIDENT_DETECTION.v1i.yolov7pytorch/test/labels/traffic_img1093_jpg.rf.5e8f102a04fd74b7f5d089b332b3736f.txt  \n",
            "  inflating: __MACOSX/+_2863_640_640_label_ACCIDENT_DETECTION.v1i.yolov7pytorch/test/labels/._traffic_img1093_jpg.rf.5e8f102a04fd74b7f5d089b332b3736f.txt  \n",
            "  inflating: +_2863_640_640_label_ACCIDENT_DETECTION.v1i.yolov7pytorch/test/labels/traffic_img185_jpg.rf.4472ad48d621c93d0fde96083575f9b7.txt  \n",
            "  inflating: __MACOSX/+_2863_640_640_label_ACCIDENT_DETECTION.v1i.yolov7pytorch/test/labels/._traffic_img185_jpg.rf.4472ad48d621c93d0fde96083575f9b7.txt  \n",
            "  inflating: +_2863_640_640_label_ACCIDENT_DETECTION.v1i.yolov7pytorch/test/labels/severityV4_74_jpg.rf.36c64aca81493fde950549a7148ce569.txt  \n",
            "  inflating: __MACOSX/+_2863_640_640_label_ACCIDENT_DETECTION.v1i.yolov7pytorch/test/labels/._severityV4_74_jpg.rf.36c64aca81493fde950549a7148ce569.txt  \n",
            "  inflating: +_2863_640_640_label_ACCIDENT_DETECTION.v1i.yolov7pytorch/test/labels/traffic_img741_jpg.rf.f4a29dd02f841cc2d8d5b22115a07c3c.txt  \n",
            "  inflating: __MACOSX/+_2863_640_640_label_ACCIDENT_DETECTION.v1i.yolov7pytorch/test/labels/._traffic_img741_jpg.rf.f4a29dd02f841cc2d8d5b22115a07c3c.txt  \n",
            "  inflating: +_2863_640_640_label_ACCIDENT_DETECTION.v1i.yolov7pytorch/test/labels/traffic_img437_jpg.rf.28f65621b400bad04538da58f9cbb5d4.txt  \n",
            "  inflating: __MACOSX/+_2863_640_640_label_ACCIDENT_DETECTION.v1i.yolov7pytorch/test/labels/._traffic_img437_jpg.rf.28f65621b400bad04538da58f9cbb5d4.txt  \n",
            "  inflating: +_2863_640_640_label_ACCIDENT_DETECTION.v1i.yolov7pytorch/test/labels/4061_jpeg.rf.fef75612f10cba890d740cddac2c3385.txt  \n",
            "  inflating: __MACOSX/+_2863_640_640_label_ACCIDENT_DETECTION.v1i.yolov7pytorch/test/labels/._4061_jpeg.rf.fef75612f10cba890d740cddac2c3385.txt  \n",
            "  inflating: +_2863_640_640_label_ACCIDENT_DETECTION.v1i.yolov7pytorch/test/labels/traffic_img1109_jpg.rf.55df6ddbf1d98f3e431f089c2e0736d8.txt  \n",
            "  inflating: __MACOSX/+_2863_640_640_label_ACCIDENT_DETECTION.v1i.yolov7pytorch/test/labels/._traffic_img1109_jpg.rf.55df6ddbf1d98f3e431f089c2e0736d8.txt  \n",
            "  inflating: +_2863_640_640_label_ACCIDENT_DETECTION.v1i.yolov7pytorch/test/labels/traffic_img829_jpg.rf.b333d9a285895fdba11640d8b967e508.txt  \n",
            "  inflating: __MACOSX/+_2863_640_640_label_ACCIDENT_DETECTION.v1i.yolov7pytorch/test/labels/._traffic_img829_jpg.rf.b333d9a285895fdba11640d8b967e508.txt  \n",
            "  inflating: +_2863_640_640_label_ACCIDENT_DETECTION.v1i.yolov7pytorch/test/labels/severityV4_50_jpg.rf.74cfe904075f58e761cc41a0eeb73c9c.txt  \n",
            "  inflating: __MACOSX/+_2863_640_640_label_ACCIDENT_DETECTION.v1i.yolov7pytorch/test/labels/._severityV4_50_jpg.rf.74cfe904075f58e761cc41a0eeb73c9c.txt  \n",
            "  inflating: +_2863_640_640_label_ACCIDENT_DETECTION.v1i.yolov7pytorch/test/labels/traffic_img567_jpg.rf.b3afd6e8c7981423e17c7584f135ceeb.txt  \n",
            "  inflating: __MACOSX/+_2863_640_640_label_ACCIDENT_DETECTION.v1i.yolov7pytorch/test/labels/._traffic_img567_jpg.rf.b3afd6e8c7981423e17c7584f135ceeb.txt  \n",
            "  inflating: +_2863_640_640_label_ACCIDENT_DETECTION.v1i.yolov7pytorch/test/labels/traffic_img398_jpg.rf.ace66acc73f3796f75be7b62618044e5.txt  \n",
            "  inflating: __MACOSX/+_2863_640_640_label_ACCIDENT_DETECTION.v1i.yolov7pytorch/test/labels/._traffic_img398_jpg.rf.ace66acc73f3796f75be7b62618044e5.txt  \n",
            "  inflating: +_2863_640_640_label_ACCIDENT_DETECTION.v1i.yolov7pytorch/test/labels/traffic_img1301_jpg.rf.855b8a92404e0f07a88af409994daa6c.txt  \n",
            "  inflating: __MACOSX/+_2863_640_640_label_ACCIDENT_DETECTION.v1i.yolov7pytorch/test/labels/._traffic_img1301_jpg.rf.855b8a92404e0f07a88af409994daa6c.txt  \n",
            "  inflating: +_2863_640_640_label_ACCIDENT_DETECTION.v1i.yolov7pytorch/test/labels/793_jpeg_jpg.rf.3f2395444baed3a9bd4953a8051fb843.txt  \n",
            "  inflating: __MACOSX/+_2863_640_640_label_ACCIDENT_DETECTION.v1i.yolov7pytorch/test/labels/._793_jpeg_jpg.rf.3f2395444baed3a9bd4953a8051fb843.txt  \n",
            "  inflating: +_2863_640_640_label_ACCIDENT_DETECTION.v1i.yolov7pytorch/test/labels/14-105_jpg.rf.046620ca74ec0ded04a166b12bf64b55.txt  \n",
            "  inflating: __MACOSX/+_2863_640_640_label_ACCIDENT_DETECTION.v1i.yolov7pytorch/test/labels/._14-105_jpg.rf.046620ca74ec0ded04a166b12bf64b55.txt  \n",
            "  inflating: +_2863_640_640_label_ACCIDENT_DETECTION.v1i.yolov7pytorch/test/labels/806_jpeg_jpg.rf.63dfebbc4d6fbd3260d8785d6acc6975.txt  \n",
            "  inflating: __MACOSX/+_2863_640_640_label_ACCIDENT_DETECTION.v1i.yolov7pytorch/test/labels/._806_jpeg_jpg.rf.63dfebbc4d6fbd3260d8785d6acc6975.txt  \n",
            "  inflating: +_2863_640_640_label_ACCIDENT_DETECTION.v1i.yolov7pytorch/test/labels/243_jpeg_jpg.rf.915a446c139601bbfb8d60896dac60b1.txt  \n",
            "  inflating: __MACOSX/+_2863_640_640_label_ACCIDENT_DETECTION.v1i.yolov7pytorch/test/labels/._243_jpeg_jpg.rf.915a446c139601bbfb8d60896dac60b1.txt  \n",
            "  inflating: +_2863_640_640_label_ACCIDENT_DETECTION.v1i.yolov7pytorch/test/labels/FLIP_CAR_V168_jpg.rf.7ee6e352cc2cd5dc07a64177b0603803.txt  \n",
            "  inflating: __MACOSX/+_2863_640_640_label_ACCIDENT_DETECTION.v1i.yolov7pytorch/test/labels/._FLIP_CAR_V168_jpg.rf.7ee6e352cc2cd5dc07a64177b0603803.txt  \n",
            "  inflating: +_2863_640_640_label_ACCIDENT_DETECTION.v1i.yolov7pytorch/test/labels/traffic_img228_jpg.rf.4b02e144a56d63754ae9cc26d87493f1.txt  \n",
            "  inflating: __MACOSX/+_2863_640_640_label_ACCIDENT_DETECTION.v1i.yolov7pytorch/test/labels/._traffic_img228_jpg.rf.4b02e144a56d63754ae9cc26d87493f1.txt  \n",
            "  inflating: +_2863_640_640_label_ACCIDENT_DETECTION.v1i.yolov7pytorch/test/labels/traffic_img202_jpg.rf.7760daa8a54cc1cc4218f468ed3d77b9.txt  \n",
            "  inflating: __MACOSX/+_2863_640_640_label_ACCIDENT_DETECTION.v1i.yolov7pytorch/test/labels/._traffic_img202_jpg.rf.7760daa8a54cc1cc4218f468ed3d77b9.txt  \n",
            "  inflating: +_2863_640_640_label_ACCIDENT_DETECTION.v1i.yolov7pytorch/test/labels/FLIP_CAR_V176_jpg.rf.033ba0a89bf400d1814b987e355ca5f7.txt  \n",
            "  inflating: __MACOSX/+_2863_640_640_label_ACCIDENT_DETECTION.v1i.yolov7pytorch/test/labels/._FLIP_CAR_V176_jpg.rf.033ba0a89bf400d1814b987e355ca5f7.txt  \n",
            "  inflating: +_2863_640_640_label_ACCIDENT_DETECTION.v1i.yolov7pytorch/test/labels/829_jpeg_jpg.rf.1d294ff005c3c055fef91a8efec80f01.txt  \n",
            "  inflating: __MACOSX/+_2863_640_640_label_ACCIDENT_DETECTION.v1i.yolov7pytorch/test/labels/._829_jpeg_jpg.rf.1d294ff005c3c055fef91a8efec80f01.txt  \n",
            "  inflating: +_2863_640_640_label_ACCIDENT_DETECTION.v1i.yolov7pytorch/test/labels/traffic_img128_jpg.rf.11e57e2719d828c18fa8b5d8133e2273.txt  \n",
            "  inflating: __MACOSX/+_2863_640_640_label_ACCIDENT_DETECTION.v1i.yolov7pytorch/test/labels/._traffic_img128_jpg.rf.11e57e2719d828c18fa8b5d8133e2273.txt  \n",
            "  inflating: +_2863_640_640_label_ACCIDENT_DETECTION.v1i.yolov7pytorch/test/labels/severityV2_25_jpg.rf.d24df8d25b251180d36b9adc8d32c8c1.txt  \n",
            "  inflating: __MACOSX/+_2863_640_640_label_ACCIDENT_DETECTION.v1i.yolov7pytorch/test/labels/._severityV2_25_jpg.rf.d24df8d25b251180d36b9adc8d32c8c1.txt  \n",
            "  inflating: +_2863_640_640_label_ACCIDENT_DETECTION.v1i.yolov7pytorch/test/labels/2-267_jpg.rf.8e1b5363a3578bcf2991045ed6e5bd88.txt  \n",
            "  inflating: __MACOSX/+_2863_640_640_label_ACCIDENT_DETECTION.v1i.yolov7pytorch/test/labels/._2-267_jpg.rf.8e1b5363a3578bcf2991045ed6e5bd88.txt  \n",
            "  inflating: +_2863_640_640_label_ACCIDENT_DETECTION.v1i.yolov7pytorch/test/labels/traffic_img767_jpg.rf.bbb9fa76d2bb477e63f5e068342b2818.txt  \n",
            "  inflating: __MACOSX/+_2863_640_640_label_ACCIDENT_DETECTION.v1i.yolov7pytorch/test/labels/._traffic_img767_jpg.rf.bbb9fa76d2bb477e63f5e068342b2818.txt  \n",
            "  inflating: +_2863_640_640_label_ACCIDENT_DETECTION.v1i.yolov7pytorch/test/labels/traffic_img1098_jpg.rf.9c017773f2d360574648142e52d41784.txt  \n",
            "  inflating: __MACOSX/+_2863_640_640_label_ACCIDENT_DETECTION.v1i.yolov7pytorch/test/labels/._traffic_img1098_jpg.rf.9c017773f2d360574648142e52d41784.txt  \n",
            "  inflating: +_2863_640_640_label_ACCIDENT_DETECTION.v1i.yolov7pytorch/test/labels/severityV2_27_jpg.rf.586f16f2df2825ff8b9420d7cde806be.txt  \n",
            "  inflating: __MACOSX/+_2863_640_640_label_ACCIDENT_DETECTION.v1i.yolov7pytorch/test/labels/._severityV2_27_jpg.rf.586f16f2df2825ff8b9420d7cde806be.txt  \n",
            "  inflating: +_2863_640_640_label_ACCIDENT_DETECTION.v1i.yolov7pytorch/test/labels/download-4_jpg.rf.aad8e276278de008c71dfe3dfd3239ab.txt  \n",
            "  inflating: __MACOSX/+_2863_640_640_label_ACCIDENT_DETECTION.v1i.yolov7pytorch/test/labels/._download-4_jpg.rf.aad8e276278de008c71dfe3dfd3239ab.txt  \n",
            "  inflating: +_2863_640_640_label_ACCIDENT_DETECTION.v1i.yolov7pytorch/test/labels/accidentFrame3949_jpg.rf.125c5b9708c04e0fdf92e09c79ddb0df.txt  \n",
            "  inflating: __MACOSX/+_2863_640_640_label_ACCIDENT_DETECTION.v1i.yolov7pytorch/test/labels/._accidentFrame3949_jpg.rf.125c5b9708c04e0fdf92e09c79ddb0df.txt  \n",
            "  inflating: +_2863_640_640_label_ACCIDENT_DETECTION.v1i.yolov7pytorch/test/labels/traffic_img1073_jpg.rf.b47b915d56601ab5e67c299b3a8c4485.txt  \n",
            "  inflating: __MACOSX/+_2863_640_640_label_ACCIDENT_DETECTION.v1i.yolov7pytorch/test/labels/._traffic_img1073_jpg.rf.b47b915d56601ab5e67c299b3a8c4485.txt  \n",
            "  inflating: +_2863_640_640_label_ACCIDENT_DETECTION.v1i.yolov7pytorch/test/labels/traffic_img239_jpg.rf.c5966c983805e4a5f2319f11caf12340.txt  \n",
            "  inflating: __MACOSX/+_2863_640_640_label_ACCIDENT_DETECTION.v1i.yolov7pytorch/test/labels/._traffic_img239_jpg.rf.c5966c983805e4a5f2319f11caf12340.txt  \n",
            "  inflating: +_2863_640_640_label_ACCIDENT_DETECTION.v1i.yolov7pytorch/test/labels/4097_jpeg.rf.624b8185343ded409b5e93c05edb7d18.txt  \n",
            "  inflating: __MACOSX/+_2863_640_640_label_ACCIDENT_DETECTION.v1i.yolov7pytorch/test/labels/._4097_jpeg.rf.624b8185343ded409b5e93c05edb7d18.txt  \n",
            "  inflating: +_2863_640_640_label_ACCIDENT_DETECTION.v1i.yolov7pytorch/test/labels/traffic_img508_jpg.rf.94979cf3d7fe982b7f5bd1d3cb6a0cc8.txt  \n",
            "  inflating: __MACOSX/+_2863_640_640_label_ACCIDENT_DETECTION.v1i.yolov7pytorch/test/labels/._traffic_img508_jpg.rf.94979cf3d7fe982b7f5bd1d3cb6a0cc8.txt  \n",
            "  inflating: +_2863_640_640_label_ACCIDENT_DETECTION.v1i.yolov7pytorch/test/labels/traffic_img558_jpg.rf.dfacb0d2c7b718a65dea2cd670d53188.txt  \n",
            "  inflating: __MACOSX/+_2863_640_640_label_ACCIDENT_DETECTION.v1i.yolov7pytorch/test/labels/._traffic_img558_jpg.rf.dfacb0d2c7b718a65dea2cd670d53188.txt  \n",
            "  inflating: +_2863_640_640_label_ACCIDENT_DETECTION.v1i.yolov7pytorch/test/labels/FLIP_CAR_V157_jpg.rf.63d8386baf93b36e7667e01d024becca.txt  \n",
            "  inflating: __MACOSX/+_2863_640_640_label_ACCIDENT_DETECTION.v1i.yolov7pytorch/test/labels/._FLIP_CAR_V157_jpg.rf.63d8386baf93b36e7667e01d024becca.txt  \n",
            "  inflating: +_2863_640_640_label_ACCIDENT_DETECTION.v1i.yolov7pytorch/test/labels/Semi-RealisticVD-144_jpg.rf.4286ff4304401ecd01bb7b3d1fe90b3e.txt  \n",
            "  inflating: __MACOSX/+_2863_640_640_label_ACCIDENT_DETECTION.v1i.yolov7pytorch/test/labels/._Semi-RealisticVD-144_jpg.rf.4286ff4304401ecd01bb7b3d1fe90b3e.txt  \n",
            "  inflating: +_2863_640_640_label_ACCIDENT_DETECTION.v1i.yolov7pytorch/test/labels/severV13_jpg.rf.de1913ccb90a47647bb04553e3abd595.txt  \n",
            "  inflating: __MACOSX/+_2863_640_640_label_ACCIDENT_DETECTION.v1i.yolov7pytorch/test/labels/._severV13_jpg.rf.de1913ccb90a47647bb04553e3abd595.txt  \n",
            "  inflating: +_2863_640_640_label_ACCIDENT_DETECTION.v1i.yolov7pytorch/test/labels/FLIP_CAR_V131_jpg.rf.55064aa9f1d9f68acc1d7edc85c692ab.txt  \n",
            "  inflating: __MACOSX/+_2863_640_640_label_ACCIDENT_DETECTION.v1i.yolov7pytorch/test/labels/._FLIP_CAR_V131_jpg.rf.55064aa9f1d9f68acc1d7edc85c692ab.txt  \n",
            "  inflating: +_2863_640_640_label_ACCIDENT_DETECTION.v1i.yolov7pytorch/test/labels/vd100_jpeg_jpg.rf.30a7f13099869b9469c1e27d90b0eabc.txt  \n",
            "  inflating: __MACOSX/+_2863_640_640_label_ACCIDENT_DETECTION.v1i.yolov7pytorch/test/labels/._vd100_jpeg_jpg.rf.30a7f13099869b9469c1e27d90b0eabc.txt  \n",
            "  inflating: +_2863_640_640_label_ACCIDENT_DETECTION.v1i.yolov7pytorch/test/labels/Semi-RealisticVD-26_jpg.rf.f895d09e0d530ec5e76aa6a731db5862.txt  \n",
            "  inflating: __MACOSX/+_2863_640_640_label_ACCIDENT_DETECTION.v1i.yolov7pytorch/test/labels/._Semi-RealisticVD-26_jpg.rf.f895d09e0d530ec5e76aa6a731db5862.txt  \n",
            "  inflating: +_2863_640_640_label_ACCIDENT_DETECTION.v1i.yolov7pytorch/test/labels/4139_jpeg.rf.215eb9ca94746272d36200b0688b0a9d.txt  \n",
            "  inflating: __MACOSX/+_2863_640_640_label_ACCIDENT_DETECTION.v1i.yolov7pytorch/test/labels/._4139_jpeg.rf.215eb9ca94746272d36200b0688b0a9d.txt  \n",
            "  inflating: +_2863_640_640_label_ACCIDENT_DETECTION.v1i.yolov7pytorch/test/labels/accidentFrame3212_jpg.rf.dc49c96bbf57ed8e928a04cbb341bc5b.txt  \n",
            "  inflating: __MACOSX/+_2863_640_640_label_ACCIDENT_DETECTION.v1i.yolov7pytorch/test/labels/._accidentFrame3212_jpg.rf.dc49c96bbf57ed8e928a04cbb341bc5b.txt  \n",
            "  inflating: +_2863_640_640_label_ACCIDENT_DETECTION.v1i.yolov7pytorch/test/labels/severityV3_9_jpeg_jpg.rf.b823516db37df4baffa4bd4280c9d4f7.txt  \n",
            "  inflating: __MACOSX/+_2863_640_640_label_ACCIDENT_DETECTION.v1i.yolov7pytorch/test/labels/._severityV3_9_jpeg_jpg.rf.b823516db37df4baffa4bd4280c9d4f7.txt  \n",
            "  inflating: +_2863_640_640_label_ACCIDENT_DETECTION.v1i.yolov7pytorch/test/labels/traffic_img1769_jpg.rf.ed075dbdf891050af70438a08bdef162.txt  \n",
            "  inflating: __MACOSX/+_2863_640_640_label_ACCIDENT_DETECTION.v1i.yolov7pytorch/test/labels/._traffic_img1769_jpg.rf.ed075dbdf891050af70438a08bdef162.txt  \n",
            "  inflating: +_2863_640_640_label_ACCIDENT_DETECTION.v1i.yolov7pytorch/test/labels/4088_jpeg.rf.30405caed8540dcd48be6b5f977c57e8.txt  \n",
            "  inflating: __MACOSX/+_2863_640_640_label_ACCIDENT_DETECTION.v1i.yolov7pytorch/test/labels/._4088_jpeg.rf.30405caed8540dcd48be6b5f977c57e8.txt  \n",
            "  inflating: +_2863_640_640_label_ACCIDENT_DETECTION.v1i.yolov7pytorch/test/labels/traffic_img84_jpg.rf.60ad1b40d87d8f516d2466bcf99e5f0d.txt  \n",
            "  inflating: __MACOSX/+_2863_640_640_label_ACCIDENT_DETECTION.v1i.yolov7pytorch/test/labels/._traffic_img84_jpg.rf.60ad1b40d87d8f516d2466bcf99e5f0d.txt  \n",
            "  inflating: +_2863_640_640_label_ACCIDENT_DETECTION.v1i.yolov7pytorch/test/labels/severityV4_20_jpg.rf.6d0883f727134b68eb40d100166d0150.txt  \n",
            "  inflating: __MACOSX/+_2863_640_640_label_ACCIDENT_DETECTION.v1i.yolov7pytorch/test/labels/._severityV4_20_jpg.rf.6d0883f727134b68eb40d100166d0150.txt  \n",
            "  inflating: +_2863_640_640_label_ACCIDENT_DETECTION.v1i.yolov7pytorch/test/labels/images-22_jpg.rf.4a7a0898d3f1c64a97add206f5871ab8.txt  \n",
            "  inflating: __MACOSX/+_2863_640_640_label_ACCIDENT_DETECTION.v1i.yolov7pytorch/test/labels/._images-22_jpg.rf.4a7a0898d3f1c64a97add206f5871ab8.txt  \n",
            "  inflating: +_2863_640_640_label_ACCIDENT_DETECTION.v1i.yolov7pytorch/test/labels/download-10_jpg.rf.4133e7bd96d7c76d74b4a19e3a638bbb.txt  \n",
            "  inflating: __MACOSX/+_2863_640_640_label_ACCIDENT_DETECTION.v1i.yolov7pytorch/test/labels/._download-10_jpg.rf.4133e7bd96d7c76d74b4a19e3a638bbb.txt  \n",
            "  inflating: +_2863_640_640_label_ACCIDENT_DETECTION.v1i.yolov7pytorch/test/labels/traffic_img993_jpg.rf.a2488571fe6553338e276242c98ac68a.txt  \n",
            "  inflating: __MACOSX/+_2863_640_640_label_ACCIDENT_DETECTION.v1i.yolov7pytorch/test/labels/._traffic_img993_jpg.rf.a2488571fe6553338e276242c98ac68a.txt  \n",
            "  inflating: +_2863_640_640_label_ACCIDENT_DETECTION.v1i.yolov7pytorch/test/labels/accidentFrame3421_jpg.rf.22f6e7137c69d2a469b87c7f8f136765.txt  \n",
            "  inflating: __MACOSX/+_2863_640_640_label_ACCIDENT_DETECTION.v1i.yolov7pytorch/test/labels/._accidentFrame3421_jpg.rf.22f6e7137c69d2a469b87c7f8f136765.txt  \n",
            "  inflating: +_2863_640_640_label_ACCIDENT_DETECTION.v1i.yolov7pytorch/test/labels/traffic_img126_jpg.rf.b019106e0cbe50fde06694ef69c4e8e0.txt  \n",
            "  inflating: __MACOSX/+_2863_640_640_label_ACCIDENT_DETECTION.v1i.yolov7pytorch/test/labels/._traffic_img126_jpg.rf.b019106e0cbe50fde06694ef69c4e8e0.txt  \n",
            "  inflating: +_2863_640_640_label_ACCIDENT_DETECTION.v1i.yolov7pytorch/test/labels/download-4_jpg.rf.6d46ed3a8c3e87d58dde774bf3cc4df2.txt  \n",
            "  inflating: __MACOSX/+_2863_640_640_label_ACCIDENT_DETECTION.v1i.yolov7pytorch/test/labels/._download-4_jpg.rf.6d46ed3a8c3e87d58dde774bf3cc4df2.txt  \n",
            "  inflating: +_2863_640_640_label_ACCIDENT_DETECTION.v1i.yolov7pytorch/test/labels/traffic_img9_jpg.rf.ebc1ce205afe6e882634c11c8b9e71d5.txt  \n",
            "  inflating: __MACOSX/+_2863_640_640_label_ACCIDENT_DETECTION.v1i.yolov7pytorch/test/labels/._traffic_img9_jpg.rf.ebc1ce205afe6e882634c11c8b9e71d5.txt  \n",
            "  inflating: +_2863_640_640_label_ACCIDENT_DETECTION.v1i.yolov7pytorch/test/labels/traffic_img1299_jpg.rf.1f266333386f676a0f85d3675f5fb37b.txt  \n",
            "  inflating: __MACOSX/+_2863_640_640_label_ACCIDENT_DETECTION.v1i.yolov7pytorch/test/labels/._traffic_img1299_jpg.rf.1f266333386f676a0f85d3675f5fb37b.txt  \n",
            "  inflating: +_2863_640_640_label_ACCIDENT_DETECTION.v1i.yolov7pytorch/test/labels/accidentFrame2724_jpg.rf.d8115eab2693ba3538a865af59491f71.txt  \n",
            "  inflating: __MACOSX/+_2863_640_640_label_ACCIDENT_DETECTION.v1i.yolov7pytorch/test/labels/._accidentFrame2724_jpg.rf.d8115eab2693ba3538a865af59491f71.txt  \n",
            "  inflating: +_2863_640_640_label_ACCIDENT_DETECTION.v1i.yolov7pytorch/test/labels/FLIP_CAR_V170_jpg.rf.aa3b5c8fb385c2afef1f6d6e653459b6.txt  \n",
            "  inflating: __MACOSX/+_2863_640_640_label_ACCIDENT_DETECTION.v1i.yolov7pytorch/test/labels/._FLIP_CAR_V170_jpg.rf.aa3b5c8fb385c2afef1f6d6e653459b6.txt  \n",
            "  inflating: +_2863_640_640_label_ACCIDENT_DETECTION.v1i.yolov7pytorch/test/labels/traffic_img381_jpg.rf.0f59a7272c29987d28e110de2962af33.txt  \n",
            "  inflating: __MACOSX/+_2863_640_640_label_ACCIDENT_DETECTION.v1i.yolov7pytorch/test/labels/._traffic_img381_jpg.rf.0f59a7272c29987d28e110de2962af33.txt  \n",
            "  inflating: +_2863_640_640_label_ACCIDENT_DETECTION.v1i.yolov7pytorch/test/labels/traffic_img1343_jpg.rf.0fa3417a676d62d893009c718f669b0b.txt  \n",
            "  inflating: __MACOSX/+_2863_640_640_label_ACCIDENT_DETECTION.v1i.yolov7pytorch/test/labels/._traffic_img1343_jpg.rf.0fa3417a676d62d893009c718f669b0b.txt  \n",
            "  inflating: +_2863_640_640_label_ACCIDENT_DETECTION.v1i.yolov7pytorch/test/labels/traffic_img338_jpg.rf.5298d44ea4d2c32ffce2f8e8f8adad2e.txt  \n",
            "  inflating: __MACOSX/+_2863_640_640_label_ACCIDENT_DETECTION.v1i.yolov7pytorch/test/labels/._traffic_img338_jpg.rf.5298d44ea4d2c32ffce2f8e8f8adad2e.txt  \n",
            "  inflating: +_2863_640_640_label_ACCIDENT_DETECTION.v1i.yolov7pytorch/test/labels/accidentFrame1196_jpg.rf.123bd1c2132f54db335021d59fc7190a.txt  \n",
            "  inflating: __MACOSX/+_2863_640_640_label_ACCIDENT_DETECTION.v1i.yolov7pytorch/test/labels/._accidentFrame1196_jpg.rf.123bd1c2132f54db335021d59fc7190a.txt  \n",
            "  inflating: +_2863_640_640_label_ACCIDENT_DETECTION.v1i.yolov7pytorch/test/labels/traffic_img299_jpg.rf.345ee5ed0532613ad4296532a562e537.txt  \n",
            "  inflating: __MACOSX/+_2863_640_640_label_ACCIDENT_DETECTION.v1i.yolov7pytorch/test/labels/._traffic_img299_jpg.rf.345ee5ed0532613ad4296532a562e537.txt  \n",
            "  inflating: +_2863_640_640_label_ACCIDENT_DETECTION.v1i.yolov7pytorch/test/labels/traffic_img1137_jpg.rf.2127d802eaf7c219527b37ed88197363.txt  \n",
            "  inflating: __MACOSX/+_2863_640_640_label_ACCIDENT_DETECTION.v1i.yolov7pytorch/test/labels/._traffic_img1137_jpg.rf.2127d802eaf7c219527b37ed88197363.txt  \n",
            "  inflating: +_2863_640_640_label_ACCIDENT_DETECTION.v1i.yolov7pytorch/test/labels/images_jpg.rf.0a5b79ce179f9f68520d99557e6fa6bd.txt  \n",
            "  inflating: __MACOSX/+_2863_640_640_label_ACCIDENT_DETECTION.v1i.yolov7pytorch/test/labels/._images_jpg.rf.0a5b79ce179f9f68520d99557e6fa6bd.txt  \n",
            "  inflating: +_2863_640_640_label_ACCIDENT_DETECTION.v1i.yolov7pytorch/test/labels/760_jpeg_jpg.rf.769d12ef3c179c56c827e16511b4a794.txt  \n",
            "  inflating: __MACOSX/+_2863_640_640_label_ACCIDENT_DETECTION.v1i.yolov7pytorch/test/labels/._760_jpeg_jpg.rf.769d12ef3c179c56c827e16511b4a794.txt  \n",
            "  inflating: +_2863_640_640_label_ACCIDENT_DETECTION.v1i.yolov7pytorch/test/labels/traffic_img953_jpg.rf.735ab5480d7d04cda75424eb77c013f4.txt  \n",
            "  inflating: __MACOSX/+_2863_640_640_label_ACCIDENT_DETECTION.v1i.yolov7pytorch/test/labels/._traffic_img953_jpg.rf.735ab5480d7d04cda75424eb77c013f4.txt  \n",
            "  inflating: +_2863_640_640_label_ACCIDENT_DETECTION.v1i.yolov7pytorch/test/labels/traffic_img355_jpg.rf.fbeaced7dd02d82c163c4fed24508d9b.txt  \n",
            "  inflating: __MACOSX/+_2863_640_640_label_ACCIDENT_DETECTION.v1i.yolov7pytorch/test/labels/._traffic_img355_jpg.rf.fbeaced7dd02d82c163c4fed24508d9b.txt  \n",
            "  inflating: +_2863_640_640_label_ACCIDENT_DETECTION.v1i.yolov7pytorch/test/labels/images-32_jpg.rf.70809556af213a2eb9831ba19532dd94.txt  \n",
            "  inflating: __MACOSX/+_2863_640_640_label_ACCIDENT_DETECTION.v1i.yolov7pytorch/test/labels/._images-32_jpg.rf.70809556af213a2eb9831ba19532dd94.txt  \n",
            "  inflating: +_2863_640_640_label_ACCIDENT_DETECTION.v1i.yolov7pytorch/test/labels/severe15_jpeg_jpg.rf.f8e9daa9152c0b1543ef21099a6f813d.txt  \n",
            "  inflating: __MACOSX/+_2863_640_640_label_ACCIDENT_DETECTION.v1i.yolov7pytorch/test/labels/._severe15_jpeg_jpg.rf.f8e9daa9152c0b1543ef21099a6f813d.txt  \n",
            "  inflating: +_2863_640_640_label_ACCIDENT_DETECTION.v1i.yolov7pytorch/test/labels/Severity_Detect_V15_jpg.rf.bebe86369f7abc56215f0a51f56968c8.txt  \n",
            "  inflating: __MACOSX/+_2863_640_640_label_ACCIDENT_DETECTION.v1i.yolov7pytorch/test/labels/._Severity_Detect_V15_jpg.rf.bebe86369f7abc56215f0a51f56968c8.txt  \n",
            "  inflating: +_2863_640_640_label_ACCIDENT_DETECTION.v1i.yolov7pytorch/test/labels/traffic_img649_jpg.rf.fc1e5079d9d81275391c10fae176bd26.txt  \n",
            "  inflating: __MACOSX/+_2863_640_640_label_ACCIDENT_DETECTION.v1i.yolov7pytorch/test/labels/._traffic_img649_jpg.rf.fc1e5079d9d81275391c10fae176bd26.txt  \n",
            "  inflating: +_2863_640_640_label_ACCIDENT_DETECTION.v1i.yolov7pytorch/test/labels/traffic_img668_jpg.rf.9dbe89c2509c95a41b90481ddc55b12d.txt  \n",
            "  inflating: __MACOSX/+_2863_640_640_label_ACCIDENT_DETECTION.v1i.yolov7pytorch/test/labels/._traffic_img668_jpg.rf.9dbe89c2509c95a41b90481ddc55b12d.txt  \n",
            "  inflating: +_2863_640_640_label_ACCIDENT_DETECTION.v1i.yolov7pytorch/test/labels/traffic_img335_jpg.rf.1236ac57afb34089635e1f313f077783.txt  \n",
            "  inflating: __MACOSX/+_2863_640_640_label_ACCIDENT_DETECTION.v1i.yolov7pytorch/test/labels/._traffic_img335_jpg.rf.1236ac57afb34089635e1f313f077783.txt  \n",
            "  inflating: +_2863_640_640_label_ACCIDENT_DETECTION.v1i.yolov7pytorch/test/labels/severityV2_2_jpg.rf.f84ff9b55e59118a08a1366eefe3a213.txt  \n",
            "  inflating: __MACOSX/+_2863_640_640_label_ACCIDENT_DETECTION.v1i.yolov7pytorch/test/labels/._severityV2_2_jpg.rf.f84ff9b55e59118a08a1366eefe3a213.txt  \n",
            "  inflating: +_2863_640_640_label_ACCIDENT_DETECTION.v1i.yolov7pytorch/test/labels/traffic_img1010_jpg.rf.ff681827e8e97e4e0e7d287c6a5b9cd1.txt  \n",
            "  inflating: __MACOSX/+_2863_640_640_label_ACCIDENT_DETECTION.v1i.yolov7pytorch/test/labels/._traffic_img1010_jpg.rf.ff681827e8e97e4e0e7d287c6a5b9cd1.txt  \n",
            "  inflating: +_2863_640_640_label_ACCIDENT_DETECTION.v1i.yolov7pytorch/test/labels/Screen-Shot-2022-04-08-at-1-48-56-AM_png.rf.972a8efe91c61857fc42d0a4c07020ce.txt  \n",
            "  inflating: __MACOSX/+_2863_640_640_label_ACCIDENT_DETECTION.v1i.yolov7pytorch/test/labels/._Screen-Shot-2022-04-08-at-1-48-56-AM_png.rf.972a8efe91c61857fc42d0a4c07020ce.txt  \n",
            "  inflating: +_2863_640_640_label_ACCIDENT_DETECTION.v1i.yolov7pytorch/test/labels/FLIP_CAR_V14_jpg.rf.1586bdce3b61e4dca792101e15b1f1be.txt  \n",
            "  inflating: __MACOSX/+_2863_640_640_label_ACCIDENT_DETECTION.v1i.yolov7pytorch/test/labels/._FLIP_CAR_V14_jpg.rf.1586bdce3b61e4dca792101e15b1f1be.txt  \n",
            "  inflating: +_2863_640_640_label_ACCIDENT_DETECTION.v1i.yolov7pytorch/test/labels/traffic_img1753_jpg.rf.10338572ab50d8cf3fcb8c1a328a708a.txt  \n",
            "  inflating: __MACOSX/+_2863_640_640_label_ACCIDENT_DETECTION.v1i.yolov7pytorch/test/labels/._traffic_img1753_jpg.rf.10338572ab50d8cf3fcb8c1a328a708a.txt  \n",
            "  inflating: +_2863_640_640_label_ACCIDENT_DETECTION.v1i.yolov7pytorch/test/labels/traffic_img1919_jpg.rf.c8b4f6d32fb26805fa334101d3d5b8c1.txt  \n",
            "  inflating: __MACOSX/+_2863_640_640_label_ACCIDENT_DETECTION.v1i.yolov7pytorch/test/labels/._traffic_img1919_jpg.rf.c8b4f6d32fb26805fa334101d3d5b8c1.txt  \n",
            "  inflating: +_2863_640_640_label_ACCIDENT_DETECTION.v1i.yolov7pytorch/test/labels/images-20_jpg.rf.0b2ff2f82a3b2c64246bf3a9c41bf745.txt  \n",
            "  inflating: __MACOSX/+_2863_640_640_label_ACCIDENT_DETECTION.v1i.yolov7pytorch/test/labels/._images-20_jpg.rf.0b2ff2f82a3b2c64246bf3a9c41bf745.txt  \n",
            "  inflating: +_2863_640_640_label_ACCIDENT_DETECTION.v1i.yolov7pytorch/test/labels/2-147_jpg.rf.6910051fa3b602055ab0d2ecb715f2ce.txt  \n",
            "  inflating: __MACOSX/+_2863_640_640_label_ACCIDENT_DETECTION.v1i.yolov7pytorch/test/labels/._2-147_jpg.rf.6910051fa3b602055ab0d2ecb715f2ce.txt  \n",
            "  inflating: +_2863_640_640_label_ACCIDENT_DETECTION.v1i.yolov7pytorch/test/labels/Semi-RealisticVD-199_jpg.rf.f312927c00c77b0765003a0250baa212.txt  \n",
            "  inflating: __MACOSX/+_2863_640_640_label_ACCIDENT_DETECTION.v1i.yolov7pytorch/test/labels/._Semi-RealisticVD-199_jpg.rf.f312927c00c77b0765003a0250baa212.txt  \n",
            "  inflating: +_2863_640_640_label_ACCIDENT_DETECTION.v1i.yolov7pytorch/test/labels/severityV4_91_jpg.rf.129d96274073a840a5f14fedc980d380.txt  \n",
            "  inflating: __MACOSX/+_2863_640_640_label_ACCIDENT_DETECTION.v1i.yolov7pytorch/test/labels/._severityV4_91_jpg.rf.129d96274073a840a5f14fedc980d380.txt  \n",
            "  inflating: +_2863_640_640_label_ACCIDENT_DETECTION.v1i.yolov7pytorch/test/labels/accidentFrame3015_jpg.rf.cdf4a5d85daf0f8256e723fa4305d71d.txt  \n",
            "  inflating: __MACOSX/+_2863_640_640_label_ACCIDENT_DETECTION.v1i.yolov7pytorch/test/labels/._accidentFrame3015_jpg.rf.cdf4a5d85daf0f8256e723fa4305d71d.txt  \n",
            "  inflating: +_2863_640_640_label_ACCIDENT_DETECTION.v1i.yolov7pytorch/test/labels/traffic_img757_jpg.rf.f74e87db5e6b7c3c9f67a8fc5c5233df.txt  \n",
            "  inflating: __MACOSX/+_2863_640_640_label_ACCIDENT_DETECTION.v1i.yolov7pytorch/test/labels/._traffic_img757_jpg.rf.f74e87db5e6b7c3c9f67a8fc5c5233df.txt  \n",
            "  inflating: +_2863_640_640_label_ACCIDENT_DETECTION.v1i.yolov7pytorch/test/labels/923_jpeg_jpg.rf.a7f90e89d9efb06848e747ab1e59601b.txt  \n",
            "  inflating: __MACOSX/+_2863_640_640_label_ACCIDENT_DETECTION.v1i.yolov7pytorch/test/labels/._923_jpeg_jpg.rf.a7f90e89d9efb06848e747ab1e59601b.txt  \n",
            "  inflating: +_2863_640_640_label_ACCIDENT_DETECTION.v1i.yolov7pytorch/test/labels/2-61_jpg.rf.bdcfb3ad4e5aee8bd9b30b2f711a5bc9.txt  \n",
            "  inflating: __MACOSX/+_2863_640_640_label_ACCIDENT_DETECTION.v1i.yolov7pytorch/test/labels/._2-61_jpg.rf.bdcfb3ad4e5aee8bd9b30b2f711a5bc9.txt  \n",
            "  inflating: +_2863_640_640_label_ACCIDENT_DETECTION.v1i.yolov7pytorch/test/labels/traffic_img586_jpg.rf.2657479f2806dabab12136c7aa3c6004.txt  \n",
            "  inflating: __MACOSX/+_2863_640_640_label_ACCIDENT_DETECTION.v1i.yolov7pytorch/test/labels/._traffic_img586_jpg.rf.2657479f2806dabab12136c7aa3c6004.txt  \n",
            "  inflating: +_2863_640_640_label_ACCIDENT_DETECTION.v1i.yolov7pytorch/test/labels/traffic_img6_jpg.rf.7cb9eb911448f6298fb3e5b74f380387.txt  \n",
            "  inflating: __MACOSX/+_2863_640_640_label_ACCIDENT_DETECTION.v1i.yolov7pytorch/test/labels/._traffic_img6_jpg.rf.7cb9eb911448f6298fb3e5b74f380387.txt  \n",
            "  inflating: +_2863_640_640_label_ACCIDENT_DETECTION.v1i.yolov7pytorch/test/labels/traffic_img1244_jpg.rf.529b125502d1e5d3cc4b8311eff9a5f8.txt  \n",
            "  inflating: __MACOSX/+_2863_640_640_label_ACCIDENT_DETECTION.v1i.yolov7pytorch/test/labels/._traffic_img1244_jpg.rf.529b125502d1e5d3cc4b8311eff9a5f8.txt  \n",
            "  inflating: +_2863_640_640_label_ACCIDENT_DETECTION.v1i.yolov7pytorch/train/images/images-23_jpg.rf.07ff3534ed312e364e00024d2c48e70e.jpg  \n",
            "  inflating: __MACOSX/+_2863_640_640_label_ACCIDENT_DETECTION.v1i.yolov7pytorch/train/images/._images-23_jpg.rf.07ff3534ed312e364e00024d2c48e70e.jpg  \n",
            "  inflating: +_2863_640_640_label_ACCIDENT_DETECTION.v1i.yolov7pytorch/train/images/severityV4_19_jpg.rf.17909849e7bca964a21e5e7506d1bbdb.jpg  \n",
            "  inflating: __MACOSX/+_2863_640_640_label_ACCIDENT_DETECTION.v1i.yolov7pytorch/train/images/._severityV4_19_jpg.rf.17909849e7bca964a21e5e7506d1bbdb.jpg  \n",
            "  inflating: +_2863_640_640_label_ACCIDENT_DETECTION.v1i.yolov7pytorch/train/images/severityV3_21_jpeg_jpg.rf.a554ceda8885f6bdd2aadaab8defee2c.jpg  \n",
            "  inflating: __MACOSX/+_2863_640_640_label_ACCIDENT_DETECTION.v1i.yolov7pytorch/train/images/._severityV3_21_jpeg_jpg.rf.a554ceda8885f6bdd2aadaab8defee2c.jpg  \n",
            "  inflating: +_2863_640_640_label_ACCIDENT_DETECTION.v1i.yolov7pytorch/train/images/traffic_img988_jpg.rf.fcf3df152fd895c41e34ced5d7927176.jpg  \n",
            "  inflating: __MACOSX/+_2863_640_640_label_ACCIDENT_DETECTION.v1i.yolov7pytorch/train/images/._traffic_img988_jpg.rf.fcf3df152fd895c41e34ced5d7927176.jpg  \n",
            "  inflating: +_2863_640_640_label_ACCIDENT_DETECTION.v1i.yolov7pytorch/train/images/FLIP_CAR_V158_jpg.rf.a8ed94258702c3b8013800c5b2accee9.jpg  \n",
            "  inflating: __MACOSX/+_2863_640_640_label_ACCIDENT_DETECTION.v1i.yolov7pytorch/train/images/._FLIP_CAR_V158_jpg.rf.a8ed94258702c3b8013800c5b2accee9.jpg  \n",
            "  inflating: +_2863_640_640_label_ACCIDENT_DETECTION.v1i.yolov7pytorch/train/images/images_jpg.rf.4a40c8478da4976848107d0bdd1ed583.jpg  \n",
            "  inflating: __MACOSX/+_2863_640_640_label_ACCIDENT_DETECTION.v1i.yolov7pytorch/train/images/._images_jpg.rf.4a40c8478da4976848107d0bdd1ed583.jpg  \n",
            "  inflating: +_2863_640_640_label_ACCIDENT_DETECTION.v1i.yolov7pytorch/train/images/images-15_jpg.rf.f44d39cee0a0ac35333412cc8ac9c8aa.jpg  \n",
            "  inflating: __MACOSX/+_2863_640_640_label_ACCIDENT_DETECTION.v1i.yolov7pytorch/train/images/._images-15_jpg.rf.f44d39cee0a0ac35333412cc8ac9c8aa.jpg  \n",
            "  inflating: +_2863_640_640_label_ACCIDENT_DETECTION.v1i.yolov7pytorch/train/images/images-4_jpg.rf.8085c1a497209c232e2f27ffb5ea9dba.jpg  \n",
            "  inflating: __MACOSX/+_2863_640_640_label_ACCIDENT_DETECTION.v1i.yolov7pytorch/train/images/._images-4_jpg.rf.8085c1a497209c232e2f27ffb5ea9dba.jpg  \n",
            "  inflating: +_2863_640_640_label_ACCIDENT_DETECTION.v1i.yolov7pytorch/train/images/FLIP_CAR_V110_jpg.rf.d23750886b0780759e60083bccb6e5e7.jpg  \n",
            "  inflating: __MACOSX/+_2863_640_640_label_ACCIDENT_DETECTION.v1i.yolov7pytorch/train/images/._FLIP_CAR_V110_jpg.rf.d23750886b0780759e60083bccb6e5e7.jpg  \n",
            "  inflating: +_2863_640_640_label_ACCIDENT_DETECTION.v1i.yolov7pytorch/train/images/sever3_jpg.rf.0535f22dbfdfd7ef352fc5e6d4dab8ba.jpg  \n",
            "  inflating: __MACOSX/+_2863_640_640_label_ACCIDENT_DETECTION.v1i.yolov7pytorch/train/images/._sever3_jpg.rf.0535f22dbfdfd7ef352fc5e6d4dab8ba.jpg  \n",
            "  inflating: +_2863_640_640_label_ACCIDENT_DETECTION.v1i.yolov7pytorch/train/images/severityV2_35_jpg.rf.c25dbd759ccba743fd1fe23d622cb68b.jpg  \n",
            "  inflating: __MACOSX/+_2863_640_640_label_ACCIDENT_DETECTION.v1i.yolov7pytorch/train/images/._severityV2_35_jpg.rf.c25dbd759ccba743fd1fe23d622cb68b.jpg  \n",
            "  inflating: +_2863_640_640_label_ACCIDENT_DETECTION.v1i.yolov7pytorch/train/images/FLIP_CAR_V19_jpg.rf.ced26fe7674765534d2ef93ef9a221f9.jpg  \n",
            "  inflating: __MACOSX/+_2863_640_640_label_ACCIDENT_DETECTION.v1i.yolov7pytorch/train/images/._FLIP_CAR_V19_jpg.rf.ced26fe7674765534d2ef93ef9a221f9.jpg  \n",
            "  inflating: +_2863_640_640_label_ACCIDENT_DETECTION.v1i.yolov7pytorch/train/images/images-21_jpg.rf.bfc0df5e0a19d033f575f74c6114860c.jpg  \n",
            "  inflating: __MACOSX/+_2863_640_640_label_ACCIDENT_DETECTION.v1i.yolov7pytorch/train/images/._images-21_jpg.rf.bfc0df5e0a19d033f575f74c6114860c.jpg  \n",
            "  inflating: +_2863_640_640_label_ACCIDENT_DETECTION.v1i.yolov7pytorch/train/images/Semi-RealisticVD-176_jpg.rf.f485133a7dd641e8a14183d7a703e6e1.jpg  \n",
            "  inflating: __MACOSX/+_2863_640_640_label_ACCIDENT_DETECTION.v1i.yolov7pytorch/train/images/._Semi-RealisticVD-176_jpg.rf.f485133a7dd641e8a14183d7a703e6e1.jpg  \n",
            "  inflating: +_2863_640_640_label_ACCIDENT_DETECTION.v1i.yolov7pytorch/train/images/severityV4_56_jpg.rf.bd0fc5dfacd3de1577914b84ee5dc3ce.jpg  \n",
            "  inflating: __MACOSX/+_2863_640_640_label_ACCIDENT_DETECTION.v1i.yolov7pytorch/train/images/._severityV4_56_jpg.rf.bd0fc5dfacd3de1577914b84ee5dc3ce.jpg  \n",
            "  inflating: +_2863_640_640_label_ACCIDENT_DETECTION.v1i.yolov7pytorch/train/images/images-23_jpg.rf.d26ad96ca45c02cd974c20fb87be5e42.jpg  \n",
            "  inflating: __MACOSX/+_2863_640_640_label_ACCIDENT_DETECTION.v1i.yolov7pytorch/train/images/._images-23_jpg.rf.d26ad96ca45c02cd974c20fb87be5e42.jpg  \n",
            "  inflating: +_2863_640_640_label_ACCIDENT_DETECTION.v1i.yolov7pytorch/train/images/download-6_jpg.rf.142d9f7f8815d293a2899f23bee52f0d.jpg  \n",
            "  inflating: __MACOSX/+_2863_640_640_label_ACCIDENT_DETECTION.v1i.yolov7pytorch/train/images/._download-6_jpg.rf.142d9f7f8815d293a2899f23bee52f0d.jpg  \n",
            "  inflating: +_2863_640_640_label_ACCIDENT_DETECTION.v1i.yolov7pytorch/train/images/traffic_img118_jpg.rf.e639ab1deb8e5b97a07230f10b4618c6.jpg  \n",
            "  inflating: __MACOSX/+_2863_640_640_label_ACCIDENT_DETECTION.v1i.yolov7pytorch/train/images/._traffic_img118_jpg.rf.e639ab1deb8e5b97a07230f10b4618c6.jpg  \n",
            "  inflating: +_2863_640_640_label_ACCIDENT_DETECTION.v1i.yolov7pytorch/train/images/909_jpeg_jpg.rf.a4c8f091f6174231611676bca5c5c949.jpg  \n",
            "  inflating: __MACOSX/+_2863_640_640_label_ACCIDENT_DETECTION.v1i.yolov7pytorch/train/images/._909_jpeg_jpg.rf.a4c8f091f6174231611676bca5c5c949.jpg  \n",
            "  inflating: +_2863_640_640_label_ACCIDENT_DETECTION.v1i.yolov7pytorch/train/images/severityV2_20_jpg.rf.bdaa42e0655da411e794de0190d523dd.jpg  \n",
            "  inflating: __MACOSX/+_2863_640_640_label_ACCIDENT_DETECTION.v1i.yolov7pytorch/train/images/._severityV2_20_jpg.rf.bdaa42e0655da411e794de0190d523dd.jpg  \n",
            "  inflating: +_2863_640_640_label_ACCIDENT_DETECTION.v1i.yolov7pytorch/train/images/traffic_img1225_jpg.rf.d54bfbe147822c7c73ca4c968f0ab776.jpg  \n",
            "  inflating: __MACOSX/+_2863_640_640_label_ACCIDENT_DETECTION.v1i.yolov7pytorch/train/images/._traffic_img1225_jpg.rf.d54bfbe147822c7c73ca4c968f0ab776.jpg  \n",
            "  inflating: +_2863_640_640_label_ACCIDENT_DETECTION.v1i.yolov7pytorch/train/images/severV15_jpg.rf.f94a9badace0a8431b820eb9a8219aeb.jpg  \n",
            "  inflating: __MACOSX/+_2863_640_640_label_ACCIDENT_DETECTION.v1i.yolov7pytorch/train/images/._severV15_jpg.rf.f94a9badace0a8431b820eb9a8219aeb.jpg  \n",
            "  inflating: +_2863_640_640_label_ACCIDENT_DETECTION.v1i.yolov7pytorch/train/images/severityV4_5_jpg.rf.e5116ef4bf72f3668287dc21b4e1870c.jpg  \n",
            "  inflating: __MACOSX/+_2863_640_640_label_ACCIDENT_DETECTION.v1i.yolov7pytorch/train/images/._severityV4_5_jpg.rf.e5116ef4bf72f3668287dc21b4e1870c.jpg  \n",
            "  inflating: +_2863_640_640_label_ACCIDENT_DETECTION.v1i.yolov7pytorch/train/images/images_jpg.rf.54d61eee5a9e30dcec1b009177a000af.jpg  \n",
            "  inflating: __MACOSX/+_2863_640_640_label_ACCIDENT_DETECTION.v1i.yolov7pytorch/train/images/._images_jpg.rf.54d61eee5a9e30dcec1b009177a000af.jpg  \n",
            "  inflating: +_2863_640_640_label_ACCIDENT_DETECTION.v1i.yolov7pytorch/train/images/803_jpeg_jpg.rf.c5347ac586b2054c9c64851f48e5c588.jpg  \n",
            "  inflating: __MACOSX/+_2863_640_640_label_ACCIDENT_DETECTION.v1i.yolov7pytorch/train/images/._803_jpeg_jpg.rf.c5347ac586b2054c9c64851f48e5c588.jpg  \n",
            "  inflating: +_2863_640_640_label_ACCIDENT_DETECTION.v1i.yolov7pytorch/train/images/severityV3_38_jpeg_jpg.rf.e7fa451e8e94b214a158b1577b093a0b.jpg  \n",
            "  inflating: __MACOSX/+_2863_640_640_label_ACCIDENT_DETECTION.v1i.yolov7pytorch/train/images/._severityV3_38_jpeg_jpg.rf.e7fa451e8e94b214a158b1577b093a0b.jpg  \n",
            "  inflating: +_2863_640_640_label_ACCIDENT_DETECTION.v1i.yolov7pytorch/train/images/images_jpg.rf.dac57b76da93f16c609c818c983e1a8c.jpg  \n",
            "  inflating: __MACOSX/+_2863_640_640_label_ACCIDENT_DETECTION.v1i.yolov7pytorch/train/images/._images_jpg.rf.dac57b76da93f16c609c818c983e1a8c.jpg  \n",
            "  inflating: +_2863_640_640_label_ACCIDENT_DETECTION.v1i.yolov7pytorch/train/images/795_jpeg_jpg.rf.f86f867fe320fb5dd6a508aefa818bf3.jpg  \n",
            "  inflating: __MACOSX/+_2863_640_640_label_ACCIDENT_DETECTION.v1i.yolov7pytorch/train/images/._795_jpeg_jpg.rf.f86f867fe320fb5dd6a508aefa818bf3.jpg  \n",
            "  inflating: +_2863_640_640_label_ACCIDENT_DETECTION.v1i.yolov7pytorch/train/images/images-33_jpg.rf.e86b2cf9e7e5135772df1646abb87e80.jpg  \n",
            "  inflating: __MACOSX/+_2863_640_640_label_ACCIDENT_DETECTION.v1i.yolov7pytorch/train/images/._images-33_jpg.rf.e86b2cf9e7e5135772df1646abb87e80.jpg  \n",
            "  inflating: +_2863_640_640_label_ACCIDENT_DETECTION.v1i.yolov7pytorch/train/images/FLIP_CAR_V143_jpg.rf.5348594bfbb1a1bdc451b704b0076417.jpg  \n",
            "  inflating: __MACOSX/+_2863_640_640_label_ACCIDENT_DETECTION.v1i.yolov7pytorch/train/images/._FLIP_CAR_V143_jpg.rf.5348594bfbb1a1bdc451b704b0076417.jpg  \n",
            "  inflating: +_2863_640_640_label_ACCIDENT_DETECTION.v1i.yolov7pytorch/train/images/download-9_jpg.rf.8da75254f1ed2b22aa01dab741da9b2e.jpg  \n",
            "  inflating: __MACOSX/+_2863_640_640_label_ACCIDENT_DETECTION.v1i.yolov7pytorch/train/images/._download-9_jpg.rf.8da75254f1ed2b22aa01dab741da9b2e.jpg  \n",
            "  inflating: +_2863_640_640_label_ACCIDENT_DETECTION.v1i.yolov7pytorch/train/images/traffic_img607_jpg.rf.b2e2a9356525ee7dc0332f4bc15c2d31.jpg  \n",
            "  inflating: __MACOSX/+_2863_640_640_label_ACCIDENT_DETECTION.v1i.yolov7pytorch/train/images/._traffic_img607_jpg.rf.b2e2a9356525ee7dc0332f4bc15c2d31.jpg  \n",
            "  inflating: +_2863_640_640_label_ACCIDENT_DETECTION.v1i.yolov7pytorch/train/images/images-2_jpg.rf.81ddf1593ad24dbc0297b8288bb13354.jpg  \n",
            "  inflating: __MACOSX/+_2863_640_640_label_ACCIDENT_DETECTION.v1i.yolov7pytorch/train/images/._images-2_jpg.rf.81ddf1593ad24dbc0297b8288bb13354.jpg  \n",
            "  inflating: +_2863_640_640_label_ACCIDENT_DETECTION.v1i.yolov7pytorch/train/images/Severity_Detect_V1_jpg.rf.8f5bf911de7dd7bb9d305a17162e1a28.jpg  \n",
            "  inflating: __MACOSX/+_2863_640_640_label_ACCIDENT_DETECTION.v1i.yolov7pytorch/train/images/._Severity_Detect_V1_jpg.rf.8f5bf911de7dd7bb9d305a17162e1a28.jpg  \n",
            "  inflating: +_2863_640_640_label_ACCIDENT_DETECTION.v1i.yolov7pytorch/train/images/accidentFrame2996_jpg.rf.9c891949d496a32bfb0772f54cd1028a.jpg  \n",
            "  inflating: __MACOSX/+_2863_640_640_label_ACCIDENT_DETECTION.v1i.yolov7pytorch/train/images/._accidentFrame2996_jpg.rf.9c891949d496a32bfb0772f54cd1028a.jpg  \n",
            "  inflating: +_2863_640_640_label_ACCIDENT_DETECTION.v1i.yolov7pytorch/train/images/FLIP_CAR_V140_jpg.rf.c4c570fa691ce83f25c3d6f0e9459bf3.jpg  \n",
            "  inflating: __MACOSX/+_2863_640_640_label_ACCIDENT_DETECTION.v1i.yolov7pytorch/train/images/._FLIP_CAR_V140_jpg.rf.c4c570fa691ce83f25c3d6f0e9459bf3.jpg  \n",
            "  inflating: +_2863_640_640_label_ACCIDENT_DETECTION.v1i.yolov7pytorch/train/images/traffic_img802_jpg.rf.c9480d0b875582efc5b19f9bfad1639b.jpg  \n",
            "  inflating: __MACOSX/+_2863_640_640_label_ACCIDENT_DETECTION.v1i.yolov7pytorch/train/images/._traffic_img802_jpg.rf.c9480d0b875582efc5b19f9bfad1639b.jpg  \n",
            "  inflating: +_2863_640_640_label_ACCIDENT_DETECTION.v1i.yolov7pytorch/train/images/Severity_Detect_V29_jpg.rf.0900f8ee0f11b7317dc6cff99d15d49e.jpg  \n",
            "  inflating: __MACOSX/+_2863_640_640_label_ACCIDENT_DETECTION.v1i.yolov7pytorch/train/images/._Severity_Detect_V29_jpg.rf.0900f8ee0f11b7317dc6cff99d15d49e.jpg  \n",
            "  inflating: +_2863_640_640_label_ACCIDENT_DETECTION.v1i.yolov7pytorch/train/images/traffic_img331_jpg.rf.c7d0ff576b3b13e3b7879bc40695f5a4.jpg  \n",
            "  inflating: __MACOSX/+_2863_640_640_label_ACCIDENT_DETECTION.v1i.yolov7pytorch/train/images/._traffic_img331_jpg.rf.c7d0ff576b3b13e3b7879bc40695f5a4.jpg  \n",
            "  inflating: +_2863_640_640_label_ACCIDENT_DETECTION.v1i.yolov7pytorch/train/images/FLIP_CAR_V150_jpg.rf.e0545a38e6e57ad8ae6390954d47252b.jpg  \n",
            "  inflating: __MACOSX/+_2863_640_640_label_ACCIDENT_DETECTION.v1i.yolov7pytorch/train/images/._FLIP_CAR_V150_jpg.rf.e0545a38e6e57ad8ae6390954d47252b.jpg  \n",
            "  inflating: +_2863_640_640_label_ACCIDENT_DETECTION.v1i.yolov7pytorch/train/images/severityV4_54_jpg.rf.e4d45484bf9fc433e404e3255ef798db.jpg  \n",
            "  inflating: __MACOSX/+_2863_640_640_label_ACCIDENT_DETECTION.v1i.yolov7pytorch/train/images/._severityV4_54_jpg.rf.e4d45484bf9fc433e404e3255ef798db.jpg  \n",
            "  inflating: +_2863_640_640_label_ACCIDENT_DETECTION.v1i.yolov7pytorch/train/images/Severity_Detect_V18_jpg.rf.d65517e835e9a9ebf4d0a1499fde2e03.jpg  \n",
            "  inflating: __MACOSX/+_2863_640_640_label_ACCIDENT_DETECTION.v1i.yolov7pytorch/train/images/._Severity_Detect_V18_jpg.rf.d65517e835e9a9ebf4d0a1499fde2e03.jpg  \n",
            "  inflating: +_2863_640_640_label_ACCIDENT_DETECTION.v1i.yolov7pytorch/train/images/images-31_jpg.rf.68f8ccadce2ba4541a5dce6b28680823.jpg  \n",
            "  inflating: __MACOSX/+_2863_640_640_label_ACCIDENT_DETECTION.v1i.yolov7pytorch/train/images/._images-31_jpg.rf.68f8ccadce2ba4541a5dce6b28680823.jpg  \n",
            "  inflating: +_2863_640_640_label_ACCIDENT_DETECTION.v1i.yolov7pytorch/train/images/accidentFrame2995_jpg.rf.5b22d3c317a6df4ed81cad99adbb5559.jpg  \n",
            "  inflating: __MACOSX/+_2863_640_640_label_ACCIDENT_DETECTION.v1i.yolov7pytorch/train/images/._accidentFrame2995_jpg.rf.5b22d3c317a6df4ed81cad99adbb5559.jpg  \n",
            "  inflating: +_2863_640_640_label_ACCIDENT_DETECTION.v1i.yolov7pytorch/train/images/14-17_jpg.rf.b704a222f973297a59eb7631f37cd0ca.jpg  \n",
            "  inflating: __MACOSX/+_2863_640_640_label_ACCIDENT_DETECTION.v1i.yolov7pytorch/train/images/._14-17_jpg.rf.b704a222f973297a59eb7631f37cd0ca.jpg  \n",
            "  inflating: +_2863_640_640_label_ACCIDENT_DETECTION.v1i.yolov7pytorch/train/images/severityV4_31_jpg.rf.e34580c4d8c14e120ef912ab136bef51.jpg  \n",
            "  inflating: __MACOSX/+_2863_640_640_label_ACCIDENT_DETECTION.v1i.yolov7pytorch/train/images/._severityV4_31_jpg.rf.e34580c4d8c14e120ef912ab136bef51.jpg  \n",
            "  inflating: +_2863_640_640_label_ACCIDENT_DETECTION.v1i.yolov7pytorch/train/images/download-3_jpg.rf.b3a4bd97b6a569b89345f31c3386a3ae.jpg  \n",
            "  inflating: __MACOSX/+_2863_640_640_label_ACCIDENT_DETECTION.v1i.yolov7pytorch/train/images/._download-3_jpg.rf.b3a4bd97b6a569b89345f31c3386a3ae.jpg  \n",
            "  inflating: +_2863_640_640_label_ACCIDENT_DETECTION.v1i.yolov7pytorch/train/images/accidentFrame3951_jpg.rf.679973670b9d76d34b4f46e74f277388.jpg  \n",
            "  inflating: __MACOSX/+_2863_640_640_label_ACCIDENT_DETECTION.v1i.yolov7pytorch/train/images/._accidentFrame3951_jpg.rf.679973670b9d76d34b4f46e74f277388.jpg  \n",
            "  inflating: +_2863_640_640_label_ACCIDENT_DETECTION.v1i.yolov7pytorch/train/images/images-15_jpg.rf.7589abc0e33a3b2ec8eb688f972727b4.jpg  \n",
            "  inflating: __MACOSX/+_2863_640_640_label_ACCIDENT_DETECTION.v1i.yolov7pytorch/train/images/._images-15_jpg.rf.7589abc0e33a3b2ec8eb688f972727b4.jpg  \n",
            "  inflating: +_2863_640_640_label_ACCIDENT_DETECTION.v1i.yolov7pytorch/train/images/images-2020-08-13T214339-354_jpg.rf.3a99a936aba370a5ccb73ef220023672.jpg  \n",
            "  inflating: __MACOSX/+_2863_640_640_label_ACCIDENT_DETECTION.v1i.yolov7pytorch/train/images/._images-2020-08-13T214339-354_jpg.rf.3a99a936aba370a5ccb73ef220023672.jpg  \n",
            "  inflating: +_2863_640_640_label_ACCIDENT_DETECTION.v1i.yolov7pytorch/train/images/Severity_Detect_V35_jpg.rf.d54ef7c7f6577f0eed1d91bd6cb95a3d.jpg  \n",
            "  inflating: __MACOSX/+_2863_640_640_label_ACCIDENT_DETECTION.v1i.yolov7pytorch/train/images/._Severity_Detect_V35_jpg.rf.d54ef7c7f6577f0eed1d91bd6cb95a3d.jpg  \n",
            "  inflating: +_2863_640_640_label_ACCIDENT_DETECTION.v1i.yolov7pytorch/train/images/severityV4_37_jpeg_jpg.rf.b15def623f2a551e206c17829e560a19.jpg  \n",
            "  inflating: __MACOSX/+_2863_640_640_label_ACCIDENT_DETECTION.v1i.yolov7pytorch/train/images/._severityV4_37_jpeg_jpg.rf.b15def623f2a551e206c17829e560a19.jpg  \n",
            "  inflating: +_2863_640_640_label_ACCIDENT_DETECTION.v1i.yolov7pytorch/train/images/accidentFrame2986_jpg.rf.46cd655e9f2308808f7298929bbff2d2.jpg  \n",
            "  inflating: __MACOSX/+_2863_640_640_label_ACCIDENT_DETECTION.v1i.yolov7pytorch/train/images/._accidentFrame2986_jpg.rf.46cd655e9f2308808f7298929bbff2d2.jpg  \n",
            "  inflating: +_2863_640_640_label_ACCIDENT_DETECTION.v1i.yolov7pytorch/train/images/1042_jpeg_jpg.rf.cb4e7dbebdd80520ecdf07399e403562.jpg  \n",
            "  inflating: __MACOSX/+_2863_640_640_label_ACCIDENT_DETECTION.v1i.yolov7pytorch/train/images/._1042_jpeg_jpg.rf.cb4e7dbebdd80520ecdf07399e403562.jpg  \n",
            "  inflating: +_2863_640_640_label_ACCIDENT_DETECTION.v1i.yolov7pytorch/train/images/images-3_jpg.rf.a26bff38dae609a99dc27228d503549a.jpg  \n",
            "  inflating: __MACOSX/+_2863_640_640_label_ACCIDENT_DETECTION.v1i.yolov7pytorch/train/images/._images-3_jpg.rf.a26bff38dae609a99dc27228d503549a.jpg  \n",
            "  inflating: +_2863_640_640_label_ACCIDENT_DETECTION.v1i.yolov7pytorch/train/images/images-16_jpg.rf.c7e759272b35c0178ced91b5bb015c3c.jpg  \n",
            "  inflating: __MACOSX/+_2863_640_640_label_ACCIDENT_DETECTION.v1i.yolov7pytorch/train/images/._images-16_jpg.rf.c7e759272b35c0178ced91b5bb015c3c.jpg  \n",
            "  inflating: +_2863_640_640_label_ACCIDENT_DETECTION.v1i.yolov7pytorch/train/images/images-1_jpg.rf.83f0f0a9e6574503c6bf14e9d524c11d.jpg  \n",
            "  inflating: __MACOSX/+_2863_640_640_label_ACCIDENT_DETECTION.v1i.yolov7pytorch/train/images/._images-1_jpg.rf.83f0f0a9e6574503c6bf14e9d524c11d.jpg  \n",
            "  inflating: +_2863_640_640_label_ACCIDENT_DETECTION.v1i.yolov7pytorch/train/images/severityV3_16_jpeg_jpg.rf.ecfaeabb929344a6f5208bf8049e14cd.jpg  \n",
            "  inflating: __MACOSX/+_2863_640_640_label_ACCIDENT_DETECTION.v1i.yolov7pytorch/train/images/._severityV3_16_jpeg_jpg.rf.ecfaeabb929344a6f5208bf8049e14cd.jpg  \n",
            "  inflating: +_2863_640_640_label_ACCIDENT_DETECTION.v1i.yolov7pytorch/train/images/download-2_jpg.rf.10902f0b6b7491c8be31fbc49070c8f7.jpg  \n",
            "  inflating: __MACOSX/+_2863_640_640_label_ACCIDENT_DETECTION.v1i.yolov7pytorch/train/images/._download-2_jpg.rf.10902f0b6b7491c8be31fbc49070c8f7.jpg  \n",
            "  inflating: +_2863_640_640_label_ACCIDENT_DETECTION.v1i.yolov7pytorch/train/images/images-2020-08-13T213922-238_jpg.rf.755b7d0f19a1f389133886cbb6191c1e.jpg  \n",
            "  inflating: __MACOSX/+_2863_640_640_label_ACCIDENT_DETECTION.v1i.yolov7pytorch/train/images/._images-2020-08-13T213922-238_jpg.rf.755b7d0f19a1f389133886cbb6191c1e.jpg  \n",
            "  inflating: +_2863_640_640_label_ACCIDENT_DETECTION.v1i.yolov7pytorch/train/images/FLIP_CAR_V111_jpg.rf.f210143c3fc72f5d400a9d75e2fa17d1.jpg  \n",
            "  inflating: __MACOSX/+_2863_640_640_label_ACCIDENT_DETECTION.v1i.yolov7pytorch/train/images/._FLIP_CAR_V111_jpg.rf.f210143c3fc72f5d400a9d75e2fa17d1.jpg  \n",
            "  inflating: +_2863_640_640_label_ACCIDENT_DETECTION.v1i.yolov7pytorch/train/images/traffic_img879_jpg.rf.dca86750a98fc9ed3fe537ebd28384ff.jpg  \n",
            "  inflating: __MACOSX/+_2863_640_640_label_ACCIDENT_DETECTION.v1i.yolov7pytorch/train/images/._traffic_img879_jpg.rf.dca86750a98fc9ed3fe537ebd28384ff.jpg  \n",
            "  inflating: +_2863_640_640_label_ACCIDENT_DETECTION.v1i.yolov7pytorch/train/images/severity_V121_jpg.rf.e977c2ec0ae9aec26cd0b031dd1daf33.jpg  \n",
            "  inflating: __MACOSX/+_2863_640_640_label_ACCIDENT_DETECTION.v1i.yolov7pytorch/train/images/._severity_V121_jpg.rf.e977c2ec0ae9aec26cd0b031dd1daf33.jpg  \n",
            "  inflating: +_2863_640_640_label_ACCIDENT_DETECTION.v1i.yolov7pytorch/train/images/images-6_jpg.rf.172edc3c40868d29509dd307ef5a01e1.jpg  \n",
            "  inflating: __MACOSX/+_2863_640_640_label_ACCIDENT_DETECTION.v1i.yolov7pytorch/train/images/._images-6_jpg.rf.172edc3c40868d29509dd307ef5a01e1.jpg  \n",
            "  inflating: +_2863_640_640_label_ACCIDENT_DETECTION.v1i.yolov7pytorch/train/images/traffic_img703_jpg.rf.d336fca90e8b1bf35ecf502ac5d90bf8.jpg  \n",
            "  inflating: __MACOSX/+_2863_640_640_label_ACCIDENT_DETECTION.v1i.yolov7pytorch/train/images/._traffic_img703_jpg.rf.d336fca90e8b1bf35ecf502ac5d90bf8.jpg  \n",
            "  inflating: +_2863_640_640_label_ACCIDENT_DETECTION.v1i.yolov7pytorch/train/images/images-18_jpg.rf.56e6de23b128048b66571ad1bb10f006.jpg  \n",
            "  inflating: __MACOSX/+_2863_640_640_label_ACCIDENT_DETECTION.v1i.yolov7pytorch/train/images/._images-18_jpg.rf.56e6de23b128048b66571ad1bb10f006.jpg  \n",
            "  inflating: +_2863_640_640_label_ACCIDENT_DETECTION.v1i.yolov7pytorch/train/images/FLIP_CAR_V119_jpg.rf.bde207f92db5ae8df7cc190dea62affb.jpg  \n",
            "  inflating: __MACOSX/+_2863_640_640_label_ACCIDENT_DETECTION.v1i.yolov7pytorch/train/images/._FLIP_CAR_V119_jpg.rf.bde207f92db5ae8df7cc190dea62affb.jpg  \n",
            "  inflating: +_2863_640_640_label_ACCIDENT_DETECTION.v1i.yolov7pytorch/train/images/traffic_img55_jpg.rf.a68289855ea209dfd3f92ab642f9311f.jpg  \n",
            "  inflating: __MACOSX/+_2863_640_640_label_ACCIDENT_DETECTION.v1i.yolov7pytorch/train/images/._traffic_img55_jpg.rf.a68289855ea209dfd3f92ab642f9311f.jpg  \n",
            "  inflating: +_2863_640_640_label_ACCIDENT_DETECTION.v1i.yolov7pytorch/train/images/images-13_jpg.rf.b9aac692714e16cac283ae9958dc2e21.jpg  \n",
            "  inflating: __MACOSX/+_2863_640_640_label_ACCIDENT_DETECTION.v1i.yolov7pytorch/train/images/._images-13_jpg.rf.b9aac692714e16cac283ae9958dc2e21.jpg  \n",
            "  inflating: +_2863_640_640_label_ACCIDENT_DETECTION.v1i.yolov7pytorch/train/images/severity_V140_jpg.rf.eb0efd77ba29709faefeabd71aa2e33d.jpg  \n",
            "  inflating: __MACOSX/+_2863_640_640_label_ACCIDENT_DETECTION.v1i.yolov7pytorch/train/images/._severity_V140_jpg.rf.eb0efd77ba29709faefeabd71aa2e33d.jpg  \n",
            "  inflating: +_2863_640_640_label_ACCIDENT_DETECTION.v1i.yolov7pytorch/train/images/images-2_jpg.rf.2a10fd966114b458002b0564dc9819cd.jpg  \n",
            "  inflating: __MACOSX/+_2863_640_640_label_ACCIDENT_DETECTION.v1i.yolov7pytorch/train/images/._images-2_jpg.rf.2a10fd966114b458002b0564dc9819cd.jpg  \n",
            "  inflating: +_2863_640_640_label_ACCIDENT_DETECTION.v1i.yolov7pytorch/train/images/1-17_jpg.rf.c356120aeb5957bb815c049c8cec2f01.jpg  \n",
            "  inflating: __MACOSX/+_2863_640_640_label_ACCIDENT_DETECTION.v1i.yolov7pytorch/train/images/._1-17_jpg.rf.c356120aeb5957bb815c049c8cec2f01.jpg  \n",
            "  inflating: +_2863_640_640_label_ACCIDENT_DETECTION.v1i.yolov7pytorch/train/images/traffic_img1390_jpg.rf.e61e43417f01cb6141066d164061e76c.jpg  \n",
            "  inflating: __MACOSX/+_2863_640_640_label_ACCIDENT_DETECTION.v1i.yolov7pytorch/train/images/._traffic_img1390_jpg.rf.e61e43417f01cb6141066d164061e76c.jpg  \n",
            "  inflating: +_2863_640_640_label_ACCIDENT_DETECTION.v1i.yolov7pytorch/train/images/severityV3_23_jpeg_jpg.rf.162c5675f914e5d17d89df900f3ef9c0.jpg  \n",
            "  inflating: __MACOSX/+_2863_640_640_label_ACCIDENT_DETECTION.v1i.yolov7pytorch/train/images/._severityV3_23_jpeg_jpg.rf.162c5675f914e5d17d89df900f3ef9c0.jpg  \n",
            "  inflating: +_2863_640_640_label_ACCIDENT_DETECTION.v1i.yolov7pytorch/train/images/traffic_img1672_jpg.rf.104c3efe5e182258280223e4b7b426a2.jpg  \n",
            "  inflating: __MACOSX/+_2863_640_640_label_ACCIDENT_DETECTION.v1i.yolov7pytorch/train/images/._traffic_img1672_jpg.rf.104c3efe5e182258280223e4b7b426a2.jpg  \n",
            "  inflating: +_2863_640_640_label_ACCIDENT_DETECTION.v1i.yolov7pytorch/train/images/severityV4_63_jpg.rf.b35bf2e069e5f56441861e8417fc43cb.jpg  \n",
            "  inflating: __MACOSX/+_2863_640_640_label_ACCIDENT_DETECTION.v1i.yolov7pytorch/train/images/._severityV4_63_jpg.rf.b35bf2e069e5f56441861e8417fc43cb.jpg  \n",
            "  inflating: +_2863_640_640_label_ACCIDENT_DETECTION.v1i.yolov7pytorch/train/images/811_jpeg_jpg.rf.c45a59743a55f32dfa80bce366725da5.jpg  \n",
            "  inflating: __MACOSX/+_2863_640_640_label_ACCIDENT_DETECTION.v1i.yolov7pytorch/train/images/._811_jpeg_jpg.rf.c45a59743a55f32dfa80bce366725da5.jpg  \n",
            "  inflating: +_2863_640_640_label_ACCIDENT_DETECTION.v1i.yolov7pytorch/train/images/images-5_jpg.rf.2cd8140db53b497bd058a4d32a1550ac.jpg  \n",
            "  inflating: __MACOSX/+_2863_640_640_label_ACCIDENT_DETECTION.v1i.yolov7pytorch/train/images/._images-5_jpg.rf.2cd8140db53b497bd058a4d32a1550ac.jpg  \n",
            "  inflating: +_2863_640_640_label_ACCIDENT_DETECTION.v1i.yolov7pytorch/train/images/traffic_img780_jpg.rf.e6ef14998bc1d7818eb68efadfc27bb5.jpg  \n",
            "  inflating: __MACOSX/+_2863_640_640_label_ACCIDENT_DETECTION.v1i.yolov7pytorch/train/images/._traffic_img780_jpg.rf.e6ef14998bc1d7818eb68efadfc27bb5.jpg  \n",
            "  inflating: +_2863_640_640_label_ACCIDENT_DETECTION.v1i.yolov7pytorch/train/images/severe14_jpeg_jpg.rf.809e5081964d5381812f5c9368a3e799.jpg  \n",
            "  inflating: __MACOSX/+_2863_640_640_label_ACCIDENT_DETECTION.v1i.yolov7pytorch/train/images/._severe14_jpeg_jpg.rf.809e5081964d5381812f5c9368a3e799.jpg  \n",
            "  inflating: +_2863_640_640_label_ACCIDENT_DETECTION.v1i.yolov7pytorch/train/images/severityV4_16_jpg.rf.fdfb0d925343875221875066b4e9f7df.jpg  \n",
            "  inflating: __MACOSX/+_2863_640_640_label_ACCIDENT_DETECTION.v1i.yolov7pytorch/train/images/._severityV4_16_jpg.rf.fdfb0d925343875221875066b4e9f7df.jpg  \n",
            "  inflating: +_2863_640_640_label_ACCIDENT_DETECTION.v1i.yolov7pytorch/train/images/B398337C-A51B-4978-AD2D-1D4C577226D7-e1648925924652_jpg.rf.cc9e683bc032c49083bdcaf14f888af7.jpg  \n",
            "  inflating: __MACOSX/+_2863_640_640_label_ACCIDENT_DETECTION.v1i.yolov7pytorch/train/images/._B398337C-A51B-4978-AD2D-1D4C577226D7-e1648925924652_jpg.rf.cc9e683bc032c49083bdcaf14f888af7.jpg  \n",
            "  inflating: +_2863_640_640_label_ACCIDENT_DETECTION.v1i.yolov7pytorch/train/images/accidentFrame3425_jpg.rf.551cdb1aadfefe76b8770e0e6ede20cd.jpg  \n",
            "  inflating: __MACOSX/+_2863_640_640_label_ACCIDENT_DETECTION.v1i.yolov7pytorch/train/images/._accidentFrame3425_jpg.rf.551cdb1aadfefe76b8770e0e6ede20cd.jpg  \n",
            "  inflating: +_2863_640_640_label_ACCIDENT_DETECTION.v1i.yolov7pytorch/train/images/images-4_jpg.rf.da67c212961728ad9c6d0bc51225a78d.jpg  \n",
            "  inflating: __MACOSX/+_2863_640_640_label_ACCIDENT_DETECTION.v1i.yolov7pytorch/train/images/._images-4_jpg.rf.da67c212961728ad9c6d0bc51225a78d.jpg  \n",
            "  inflating: +_2863_640_640_label_ACCIDENT_DETECTION.v1i.yolov7pytorch/train/images/Semi-RealisticVD-181_jpg.rf.e2b6cc23012718967ccece9c29fbc312.jpg  \n",
            "  inflating: __MACOSX/+_2863_640_640_label_ACCIDENT_DETECTION.v1i.yolov7pytorch/train/images/._Semi-RealisticVD-181_jpg.rf.e2b6cc23012718967ccece9c29fbc312.jpg  \n",
            "  inflating: +_2863_640_640_label_ACCIDENT_DETECTION.v1i.yolov7pytorch/train/images/images-12_jpg.rf.82b4c5deced939153e1f95e5a4b1aa59.jpg  \n",
            "  inflating: __MACOSX/+_2863_640_640_label_ACCIDENT_DETECTION.v1i.yolov7pytorch/train/images/._images-12_jpg.rf.82b4c5deced939153e1f95e5a4b1aa59.jpg  \n",
            "  inflating: +_2863_640_640_label_ACCIDENT_DETECTION.v1i.yolov7pytorch/train/images/download-4_jpg.rf.ad55c5455c2b5b2e360b792b3c1a63fa.jpg  \n",
            "  inflating: __MACOSX/+_2863_640_640_label_ACCIDENT_DETECTION.v1i.yolov7pytorch/train/images/._download-4_jpg.rf.ad55c5455c2b5b2e360b792b3c1a63fa.jpg  \n",
            "  inflating: +_2863_640_640_label_ACCIDENT_DETECTION.v1i.yolov7pytorch/train/images/accidentFrame3648_jpg.rf.180b0b59d180cb610b5ab12a46c27f37.jpg  \n",
            "  inflating: __MACOSX/+_2863_640_640_label_ACCIDENT_DETECTION.v1i.yolov7pytorch/train/images/._accidentFrame3648_jpg.rf.180b0b59d180cb610b5ab12a46c27f37.jpg  \n",
            "  inflating: +_2863_640_640_label_ACCIDENT_DETECTION.v1i.yolov7pytorch/train/images/Severity_Detect_V23_jpg.rf.493208bde1bef061379da24f57311934.jpg  \n",
            "  inflating: __MACOSX/+_2863_640_640_label_ACCIDENT_DETECTION.v1i.yolov7pytorch/train/images/._Severity_Detect_V23_jpg.rf.493208bde1bef061379da24f57311934.jpg  \n",
            "  inflating: +_2863_640_640_label_ACCIDENT_DETECTION.v1i.yolov7pytorch/train/images/sev4_jpg.rf.21d2aa00dadad441bbf22b77c396ac99.jpg  \n",
            "  inflating: __MACOSX/+_2863_640_640_label_ACCIDENT_DETECTION.v1i.yolov7pytorch/train/images/._sev4_jpg.rf.21d2aa00dadad441bbf22b77c396ac99.jpg  \n",
            "  inflating: +_2863_640_640_label_ACCIDENT_DETECTION.v1i.yolov7pytorch/train/images/Severity_Detect_V11_jpg.rf.7611b3dd0f32761fa3c0d3d4eaf0ce93.jpg  \n",
            "  inflating: __MACOSX/+_2863_640_640_label_ACCIDENT_DETECTION.v1i.yolov7pytorch/train/images/._Severity_Detect_V11_jpg.rf.7611b3dd0f32761fa3c0d3d4eaf0ce93.jpg  \n",
            "  inflating: +_2863_640_640_label_ACCIDENT_DETECTION.v1i.yolov7pytorch/train/images/accidentFrame2984_jpg.rf.fc7774e7eb68b0e321b5b0764e5b8956.jpg  \n",
            "  inflating: __MACOSX/+_2863_640_640_label_ACCIDENT_DETECTION.v1i.yolov7pytorch/train/images/._accidentFrame2984_jpg.rf.fc7774e7eb68b0e321b5b0764e5b8956.jpg  \n",
            "  inflating: +_2863_640_640_label_ACCIDENT_DETECTION.v1i.yolov7pytorch/train/images/traffic_img1854_jpg.rf.b4473cf9d049916dc6d00ce34067423e.jpg  \n",
            "  inflating: __MACOSX/+_2863_640_640_label_ACCIDENT_DETECTION.v1i.yolov7pytorch/train/images/._traffic_img1854_jpg.rf.b4473cf9d049916dc6d00ce34067423e.jpg  \n",
            "  inflating: +_2863_640_640_label_ACCIDENT_DETECTION.v1i.yolov7pytorch/train/images/severityV4_93_jpg.rf.f4dc2ad254d0dfb14bc8b8b199218686.jpg  \n",
            "  inflating: __MACOSX/+_2863_640_640_label_ACCIDENT_DETECTION.v1i.yolov7pytorch/train/images/._severityV4_93_jpg.rf.f4dc2ad254d0dfb14bc8b8b199218686.jpg  \n",
            "  inflating: +_2863_640_640_label_ACCIDENT_DETECTION.v1i.yolov7pytorch/train/images/images-2_jpg.rf.96b79ff9d9f3b279d3892d1401085239.jpg  \n",
            "  inflating: __MACOSX/+_2863_640_640_label_ACCIDENT_DETECTION.v1i.yolov7pytorch/train/images/._images-2_jpg.rf.96b79ff9d9f3b279d3892d1401085239.jpg  \n",
            "  inflating: +_2863_640_640_label_ACCIDENT_DETECTION.v1i.yolov7pytorch/train/images/images-8_jpg.rf.5c1c3b88f5b37a6da9495a38f435a999.jpg  \n",
            "  inflating: __MACOSX/+_2863_640_640_label_ACCIDENT_DETECTION.v1i.yolov7pytorch/train/images/._images-8_jpg.rf.5c1c3b88f5b37a6da9495a38f435a999.jpg  \n",
            "  inflating: +_2863_640_640_label_ACCIDENT_DETECTION.v1i.yolov7pytorch/train/images/severityV3_12_jpeg_jpg.rf.ce098091e71516e3039b05e388829361.jpg  \n",
            "  inflating: __MACOSX/+_2863_640_640_label_ACCIDENT_DETECTION.v1i.yolov7pytorch/train/images/._severityV3_12_jpeg_jpg.rf.ce098091e71516e3039b05e388829361.jpg  \n",
            "  inflating: +_2863_640_640_label_ACCIDENT_DETECTION.v1i.yolov7pytorch/train/images/severity_V124_jpg.rf.d1e7bb1bfc0e40e9d06a09c63eeb15fe.jpg  \n",
            "  inflating: __MACOSX/+_2863_640_640_label_ACCIDENT_DETECTION.v1i.yolov7pytorch/train/images/._severity_V124_jpg.rf.d1e7bb1bfc0e40e9d06a09c63eeb15fe.jpg  \n",
            "  inflating: +_2863_640_640_label_ACCIDENT_DETECTION.v1i.yolov7pytorch/train/images/FLIP_CAR_V128_jpg.rf.fc8f18bd275761e40ff13ca4e9f23c88.jpg  \n",
            "  inflating: __MACOSX/+_2863_640_640_label_ACCIDENT_DETECTION.v1i.yolov7pytorch/train/images/._FLIP_CAR_V128_jpg.rf.fc8f18bd275761e40ff13ca4e9f23c88.jpg  \n",
            "  inflating: +_2863_640_640_label_ACCIDENT_DETECTION.v1i.yolov7pytorch/train/images/severityV4_24_jpg.rf.ff00bdbedf138396918fedcbb8ffa70a.jpg  \n",
            "  inflating: __MACOSX/+_2863_640_640_label_ACCIDENT_DETECTION.v1i.yolov7pytorch/train/images/._severityV4_24_jpg.rf.ff00bdbedf138396918fedcbb8ffa70a.jpg  \n",
            "  inflating: +_2863_640_640_label_ACCIDENT_DETECTION.v1i.yolov7pytorch/train/images/severityV3_2_jpeg_jpg.rf.b91e9128984b0705c649558422f2dc33.jpg  \n",
            "  inflating: __MACOSX/+_2863_640_640_label_ACCIDENT_DETECTION.v1i.yolov7pytorch/train/images/._severityV3_2_jpeg_jpg.rf.b91e9128984b0705c649558422f2dc33.jpg  \n",
            "  inflating: +_2863_640_640_label_ACCIDENT_DETECTION.v1i.yolov7pytorch/train/images/Semi-RealisticVD-224_jpg.rf.acdaf8a7a679174994a58f1e2e1c60c6.jpg  \n",
            "  inflating: __MACOSX/+_2863_640_640_label_ACCIDENT_DETECTION.v1i.yolov7pytorch/train/images/._Semi-RealisticVD-224_jpg.rf.acdaf8a7a679174994a58f1e2e1c60c6.jpg  \n",
            "  inflating: +_2863_640_640_label_ACCIDENT_DETECTION.v1i.yolov7pytorch/train/images/traffic_img14_jpg.rf.1772c4028126ad5ebf7eba7e5b58ba8a.jpg  \n",
            "  inflating: __MACOSX/+_2863_640_640_label_ACCIDENT_DETECTION.v1i.yolov7pytorch/train/images/._traffic_img14_jpg.rf.1772c4028126ad5ebf7eba7e5b58ba8a.jpg  \n",
            "  inflating: +_2863_640_640_label_ACCIDENT_DETECTION.v1i.yolov7pytorch/train/images/severityV3_25_jpeg_jpg.rf.343ed2f2f70063fbb2d6ae68202f85b8.jpg  \n",
            "  inflating: __MACOSX/+_2863_640_640_label_ACCIDENT_DETECTION.v1i.yolov7pytorch/train/images/._severityV3_25_jpeg_jpg.rf.343ed2f2f70063fbb2d6ae68202f85b8.jpg  \n",
            "  inflating: +_2863_640_640_label_ACCIDENT_DETECTION.v1i.yolov7pytorch/train/images/2-16_jpg.rf.f5327dad9fa650ee2e316201f77ed031.jpg  \n",
            "  inflating: __MACOSX/+_2863_640_640_label_ACCIDENT_DETECTION.v1i.yolov7pytorch/train/images/._2-16_jpg.rf.f5327dad9fa650ee2e316201f77ed031.jpg  \n",
            "  inflating: +_2863_640_640_label_ACCIDENT_DETECTION.v1i.yolov7pytorch/train/images/18-103_jpg.rf.fd38c5ac0c16f46119b26bb3c934b928.jpg  \n",
            "  inflating: __MACOSX/+_2863_640_640_label_ACCIDENT_DETECTION.v1i.yolov7pytorch/train/images/._18-103_jpg.rf.fd38c5ac0c16f46119b26bb3c934b928.jpg  \n",
            "  inflating: +_2863_640_640_label_ACCIDENT_DETECTION.v1i.yolov7pytorch/train/images/traffic_img1346_jpg.rf.861bda1543b3d83773e3e0850ee674dc.jpg  \n",
            "  inflating: __MACOSX/+_2863_640_640_label_ACCIDENT_DETECTION.v1i.yolov7pytorch/train/images/._traffic_img1346_jpg.rf.861bda1543b3d83773e3e0850ee674dc.jpg  \n",
            "  inflating: +_2863_640_640_label_ACCIDENT_DETECTION.v1i.yolov7pytorch/train/images/Severity_Detect_V33_jpg.rf.e9c678d0709455ab5dee3ce3198ebef6.jpg  \n",
            "  inflating: __MACOSX/+_2863_640_640_label_ACCIDENT_DETECTION.v1i.yolov7pytorch/train/images/._Severity_Detect_V33_jpg.rf.e9c678d0709455ab5dee3ce3198ebef6.jpg  \n",
            "  inflating: +_2863_640_640_label_ACCIDENT_DETECTION.v1i.yolov7pytorch/train/images/images-40_jpg.rf.d74e69234c0466b369ce1c20b20f46c9.jpg  \n",
            "  inflating: __MACOSX/+_2863_640_640_label_ACCIDENT_DETECTION.v1i.yolov7pytorch/train/images/._images-40_jpg.rf.d74e69234c0466b369ce1c20b20f46c9.jpg  \n",
            "  inflating: +_2863_640_640_label_ACCIDENT_DETECTION.v1i.yolov7pytorch/train/images/1030_jpeg_jpg.rf.df5a478ff811920f53a43110deaa35a6.jpg  \n",
            "  inflating: __MACOSX/+_2863_640_640_label_ACCIDENT_DETECTION.v1i.yolov7pytorch/train/images/._1030_jpeg_jpg.rf.df5a478ff811920f53a43110deaa35a6.jpg  \n",
            "  inflating: +_2863_640_640_label_ACCIDENT_DETECTION.v1i.yolov7pytorch/train/images/traffic_img943_jpg.rf.810f0ef8540e3c9caad92c70fea97a52.jpg  \n",
            "  inflating: __MACOSX/+_2863_640_640_label_ACCIDENT_DETECTION.v1i.yolov7pytorch/train/images/._traffic_img943_jpg.rf.810f0ef8540e3c9caad92c70fea97a52.jpg  \n",
            "  inflating: +_2863_640_640_label_ACCIDENT_DETECTION.v1i.yolov7pytorch/train/images/Semi-RealisticVD-148_jpg.rf.17a05437110673c5442cbc0f79ad5061.jpg  \n",
            "  inflating: __MACOSX/+_2863_640_640_label_ACCIDENT_DETECTION.v1i.yolov7pytorch/train/images/._Semi-RealisticVD-148_jpg.rf.17a05437110673c5442cbc0f79ad5061.jpg  \n",
            "  inflating: +_2863_640_640_label_ACCIDENT_DETECTION.v1i.yolov7pytorch/train/images/severityV4_58_jpg.rf.fe5d3dbe3b245acb76ccc91ef68f06fd.jpg  \n",
            "  inflating: __MACOSX/+_2863_640_640_label_ACCIDENT_DETECTION.v1i.yolov7pytorch/train/images/._severityV4_58_jpg.rf.fe5d3dbe3b245acb76ccc91ef68f06fd.jpg  \n",
            "  inflating: +_2863_640_640_label_ACCIDENT_DETECTION.v1i.yolov7pytorch/train/images/images-3_jpg.rf.7c6853a109b266c76a28c45a41dc7b6a.jpg  \n",
            "  inflating: __MACOSX/+_2863_640_640_label_ACCIDENT_DETECTION.v1i.yolov7pytorch/train/images/._images-3_jpg.rf.7c6853a109b266c76a28c45a41dc7b6a.jpg  \n",
            "  inflating: +_2863_640_640_label_ACCIDENT_DETECTION.v1i.yolov7pytorch/train/images/new_SD3_jpg.rf.df88b2107ceb4a6eae7bca28b7587c51.jpg  \n",
            "  inflating: __MACOSX/+_2863_640_640_label_ACCIDENT_DETECTION.v1i.yolov7pytorch/train/images/._new_SD3_jpg.rf.df88b2107ceb4a6eae7bca28b7587c51.jpg  \n",
            "  inflating: +_2863_640_640_label_ACCIDENT_DETECTION.v1i.yolov7pytorch/train/images/severity_V127_jpg.rf.a58f19ba542dc4e73e5c8ba6285b0bf4.jpg  \n",
            "  inflating: __MACOSX/+_2863_640_640_label_ACCIDENT_DETECTION.v1i.yolov7pytorch/train/images/._severity_V127_jpg.rf.a58f19ba542dc4e73e5c8ba6285b0bf4.jpg  \n",
            "  inflating: +_2863_640_640_label_ACCIDENT_DETECTION.v1i.yolov7pytorch/train/images/images-2_jpg.rf.033c45f1fd655266122f7bacfada36ff.jpg  \n",
            "  inflating: __MACOSX/+_2863_640_640_label_ACCIDENT_DETECTION.v1i.yolov7pytorch/train/images/._images-2_jpg.rf.033c45f1fd655266122f7bacfada36ff.jpg  \n",
            "  inflating: +_2863_640_640_label_ACCIDENT_DETECTION.v1i.yolov7pytorch/train/images/severity_V141_jpg.rf.d3c73fa7064226bfe57ce9a8a5dc5348.jpg  \n",
            "  inflating: __MACOSX/+_2863_640_640_label_ACCIDENT_DETECTION.v1i.yolov7pytorch/train/images/._severity_V141_jpg.rf.d3c73fa7064226bfe57ce9a8a5dc5348.jpg  \n",
            "  inflating: +_2863_640_640_label_ACCIDENT_DETECTION.v1i.yolov7pytorch/train/images/images_jpg.rf.6c42a3909ea35bb8c440e078e9613c5f.jpg  \n",
            "  inflating: __MACOSX/+_2863_640_640_label_ACCIDENT_DETECTION.v1i.yolov7pytorch/train/images/._images_jpg.rf.6c42a3909ea35bb8c440e078e9613c5f.jpg  \n",
            "  inflating: +_2863_640_640_label_ACCIDENT_DETECTION.v1i.yolov7pytorch/train/images/traffic_img932_jpg.rf.f6fe522d4188bc4f520a1435f996e42a.jpg  \n",
            "  inflating: __MACOSX/+_2863_640_640_label_ACCIDENT_DETECTION.v1i.yolov7pytorch/train/images/._traffic_img932_jpg.rf.f6fe522d4188bc4f520a1435f996e42a.jpg  \n",
            "  inflating: +_2863_640_640_label_ACCIDENT_DETECTION.v1i.yolov7pytorch/train/images/sever7_jpg.rf.b31ad468b51e6e66ea1e84bee5e89148.jpg  \n",
            "  inflating: __MACOSX/+_2863_640_640_label_ACCIDENT_DETECTION.v1i.yolov7pytorch/train/images/._sever7_jpg.rf.b31ad468b51e6e66ea1e84bee5e89148.jpg  \n",
            "  inflating: +_2863_640_640_label_ACCIDENT_DETECTION.v1i.yolov7pytorch/train/images/severityV3_26_jpeg_jpg.rf.d71ff8af86b638bb9322deb0e7525d62.jpg  \n",
            "  inflating: __MACOSX/+_2863_640_640_label_ACCIDENT_DETECTION.v1i.yolov7pytorch/train/images/._severityV3_26_jpeg_jpg.rf.d71ff8af86b638bb9322deb0e7525d62.jpg  \n",
            "  inflating: +_2863_640_640_label_ACCIDENT_DETECTION.v1i.yolov7pytorch/train/images/traffic_img16_jpg.rf.27605db0593fe2904f8cf63c14905f5e.jpg  \n",
            "  inflating: __MACOSX/+_2863_640_640_label_ACCIDENT_DETECTION.v1i.yolov7pytorch/train/images/._traffic_img16_jpg.rf.27605db0593fe2904f8cf63c14905f5e.jpg  \n",
            "  inflating: +_2863_640_640_label_ACCIDENT_DETECTION.v1i.yolov7pytorch/train/images/severityV3_10_jpeg_jpg.rf.d83ef9c14298455e86abd02e59262939.jpg  \n",
            "  inflating: __MACOSX/+_2863_640_640_label_ACCIDENT_DETECTION.v1i.yolov7pytorch/train/images/._severityV3_10_jpeg_jpg.rf.d83ef9c14298455e86abd02e59262939.jpg  \n",
            "  inflating: +_2863_640_640_label_ACCIDENT_DETECTION.v1i.yolov7pytorch/train/images/severityV4_66_jpg.rf.d766322b9ea3c1a2ff30ad7e732a2dfb.jpg  \n",
            "  inflating: __MACOSX/+_2863_640_640_label_ACCIDENT_DETECTION.v1i.yolov7pytorch/train/images/._severityV4_66_jpg.rf.d766322b9ea3c1a2ff30ad7e732a2dfb.jpg  \n",
            "  inflating: +_2863_640_640_label_ACCIDENT_DETECTION.v1i.yolov7pytorch/train/images/download-2_jpg.rf.bc9896d37464f84bd669910183354170.jpg  \n",
            "  inflating: __MACOSX/+_2863_640_640_label_ACCIDENT_DETECTION.v1i.yolov7pytorch/train/images/._download-2_jpg.rf.bc9896d37464f84bd669910183354170.jpg  \n",
            "  inflating: +_2863_640_640_label_ACCIDENT_DETECTION.v1i.yolov7pytorch/train/images/accidentFrame3012_jpg.rf.2a476529f3f28c657b7d6082e4880aa9.jpg  \n",
            "  inflating: __MACOSX/+_2863_640_640_label_ACCIDENT_DETECTION.v1i.yolov7pytorch/train/images/._accidentFrame3012_jpg.rf.2a476529f3f28c657b7d6082e4880aa9.jpg  \n",
            "  inflating: +_2863_640_640_label_ACCIDENT_DETECTION.v1i.yolov7pytorch/train/images/images_jpg.rf.2052fac46ee7abedc64ef8bd50750c94.jpg  \n",
            "  inflating: __MACOSX/+_2863_640_640_label_ACCIDENT_DETECTION.v1i.yolov7pytorch/train/images/._images_jpg.rf.2052fac46ee7abedc64ef8bd50750c94.jpg  \n",
            "  inflating: +_2863_640_640_label_ACCIDENT_DETECTION.v1i.yolov7pytorch/train/images/traffic_img688_jpg.rf.459754e97826cb6ab27d2ce092e2748d.jpg  \n",
            "  inflating: __MACOSX/+_2863_640_640_label_ACCIDENT_DETECTION.v1i.yolov7pytorch/train/images/._traffic_img688_jpg.rf.459754e97826cb6ab27d2ce092e2748d.jpg  \n",
            "  inflating: +_2863_640_640_label_ACCIDENT_DETECTION.v1i.yolov7pytorch/train/images/severityV4_17_jpg.rf.fec8fad6c2b02f205a1c18d3f3c4f2b6.jpg  \n",
            "  inflating: __MACOSX/+_2863_640_640_label_ACCIDENT_DETECTION.v1i.yolov7pytorch/train/images/._severityV4_17_jpg.rf.fec8fad6c2b02f205a1c18d3f3c4f2b6.jpg  \n",
            "  inflating: +_2863_640_640_label_ACCIDENT_DETECTION.v1i.yolov7pytorch/train/images/traffic_img292_jpg.rf.dc0a7910702540776e0dacb9e8d4b1c0.jpg  \n",
            "  inflating: __MACOSX/+_2863_640_640_label_ACCIDENT_DETECTION.v1i.yolov7pytorch/train/images/._traffic_img292_jpg.rf.dc0a7910702540776e0dacb9e8d4b1c0.jpg  \n",
            "  inflating: +_2863_640_640_label_ACCIDENT_DETECTION.v1i.yolov7pytorch/train/images/traffic_img1565_jpg.rf.bfcea35ae2a25a6ca28853262fdcc64d.jpg  \n",
            "  inflating: __MACOSX/+_2863_640_640_label_ACCIDENT_DETECTION.v1i.yolov7pytorch/train/images/._traffic_img1565_jpg.rf.bfcea35ae2a25a6ca28853262fdcc64d.jpg  \n",
            "  inflating: +_2863_640_640_label_ACCIDENT_DETECTION.v1i.yolov7pytorch/train/images/1110_jpeg_jpg.rf.ade2865f52d23c1c3a621267ab9342a9.jpg  \n",
            "  inflating: __MACOSX/+_2863_640_640_label_ACCIDENT_DETECTION.v1i.yolov7pytorch/train/images/._1110_jpeg_jpg.rf.ade2865f52d23c1c3a621267ab9342a9.jpg  \n",
            "  inflating: +_2863_640_640_label_ACCIDENT_DETECTION.v1i.yolov7pytorch/train/images/Semi-RealisticVD-139_jpg.rf.f4aacca074d9d6304b28d9265c222bc0.jpg  \n",
            "  inflating: __MACOSX/+_2863_640_640_label_ACCIDENT_DETECTION.v1i.yolov7pytorch/train/images/._Semi-RealisticVD-139_jpg.rf.f4aacca074d9d6304b28d9265c222bc0.jpg  \n",
            "  inflating: +_2863_640_640_label_ACCIDENT_DETECTION.v1i.yolov7pytorch/train/images/download-5_jpg.rf.f7092b5a7af4e13b2041dd5dffe3d941.jpg  \n",
            "  inflating: __MACOSX/+_2863_640_640_label_ACCIDENT_DETECTION.v1i.yolov7pytorch/train/images/._download-5_jpg.rf.f7092b5a7af4e13b2041dd5dffe3d941.jpg  \n",
            "  inflating: +_2863_640_640_label_ACCIDENT_DETECTION.v1i.yolov7pytorch/train/images/traffic_img1349_jpg.rf.a1f325f53e0fc35879a8c33963b22876.jpg  \n",
            "  inflating: __MACOSX/+_2863_640_640_label_ACCIDENT_DETECTION.v1i.yolov7pytorch/train/images/._traffic_img1349_jpg.rf.a1f325f53e0fc35879a8c33963b22876.jpg  \n",
            "  inflating: +_2863_640_640_label_ACCIDENT_DETECTION.v1i.yolov7pytorch/train/images/download_jpg.rf.33e20d371477b17a0994343b8084becc.jpg  \n",
            "  inflating: __MACOSX/+_2863_640_640_label_ACCIDENT_DETECTION.v1i.yolov7pytorch/train/images/._download_jpg.rf.33e20d371477b17a0994343b8084becc.jpg  \n",
            "  inflating: +_2863_640_640_label_ACCIDENT_DETECTION.v1i.yolov7pytorch/train/images/1-99_jpg.rf.f03cd2ad0efec65409a2e7b04d157d0d.jpg  \n",
            "  inflating: __MACOSX/+_2863_640_640_label_ACCIDENT_DETECTION.v1i.yolov7pytorch/train/images/._1-99_jpg.rf.f03cd2ad0efec65409a2e7b04d157d0d.jpg  \n",
            "  inflating: +_2863_640_640_label_ACCIDENT_DETECTION.v1i.yolov7pytorch/train/images/severityV4_87_jpg.rf.8879f804da562c32e375a9144fb1475e.jpg  \n",
            "  inflating: __MACOSX/+_2863_640_640_label_ACCIDENT_DETECTION.v1i.yolov7pytorch/train/images/._severityV4_87_jpg.rf.8879f804da562c32e375a9144fb1475e.jpg  \n",
            "  inflating: +_2863_640_640_label_ACCIDENT_DETECTION.v1i.yolov7pytorch/train/images/severityV4_76_jpg.rf.fa4476270527e032b5af5315f08ec54b.jpg  \n",
            "  inflating: __MACOSX/+_2863_640_640_label_ACCIDENT_DETECTION.v1i.yolov7pytorch/train/images/._severityV4_76_jpg.rf.fa4476270527e032b5af5315f08ec54b.jpg  \n",
            "  inflating: +_2863_640_640_label_ACCIDENT_DETECTION.v1i.yolov7pytorch/train/images/images-27_jpg.rf.b2b04d0cf54c7edd4588adbc42a860c7.jpg  \n",
            "  inflating: __MACOSX/+_2863_640_640_label_ACCIDENT_DETECTION.v1i.yolov7pytorch/train/images/._images-27_jpg.rf.b2b04d0cf54c7edd4588adbc42a860c7.jpg  \n",
            "  inflating: +_2863_640_640_label_ACCIDENT_DETECTION.v1i.yolov7pytorch/train/images/images-1_jpg.rf.428282e4d190eaefbd81b715708773f2.jpg  \n",
            "  inflating: __MACOSX/+_2863_640_640_label_ACCIDENT_DETECTION.v1i.yolov7pytorch/train/images/._images-1_jpg.rf.428282e4d190eaefbd81b715708773f2.jpg  \n",
            "  inflating: +_2863_640_640_label_ACCIDENT_DETECTION.v1i.yolov7pytorch/train/images/download-7_jpg.rf.94c86fa0ce472fe6ff8af89cd87d2f84.jpg  \n",
            "  inflating: __MACOSX/+_2863_640_640_label_ACCIDENT_DETECTION.v1i.yolov7pytorch/train/images/._download-7_jpg.rf.94c86fa0ce472fe6ff8af89cd87d2f84.jpg  \n",
            "  inflating: +_2863_640_640_label_ACCIDENT_DETECTION.v1i.yolov7pytorch/train/images/images-2_jpg.rf.5df3f87627be9ec86c31bcdb748bd381.jpg  \n",
            "  inflating: __MACOSX/+_2863_640_640_label_ACCIDENT_DETECTION.v1i.yolov7pytorch/train/images/._images-2_jpg.rf.5df3f87627be9ec86c31bcdb748bd381.jpg  \n",
            "  inflating: +_2863_640_640_label_ACCIDENT_DETECTION.v1i.yolov7pytorch/train/images/825_jpeg_jpg.rf.f8a5c2011ecd771c1f09e1c0d3b2cd59.jpg  \n",
            "  inflating: __MACOSX/+_2863_640_640_label_ACCIDENT_DETECTION.v1i.yolov7pytorch/train/images/._825_jpeg_jpg.rf.f8a5c2011ecd771c1f09e1c0d3b2cd59.jpg  \n",
            "  inflating: +_2863_640_640_label_ACCIDENT_DETECTION.v1i.yolov7pytorch/train/images/severity_V13_jpg.rf.f80e1df381e668fe1b7c7cc4a3fdae67.jpg  \n",
            "  inflating: __MACOSX/+_2863_640_640_label_ACCIDENT_DETECTION.v1i.yolov7pytorch/train/images/._severity_V13_jpg.rf.f80e1df381e668fe1b7c7cc4a3fdae67.jpg  \n",
            "  inflating: +_2863_640_640_label_ACCIDENT_DETECTION.v1i.yolov7pytorch/train/images/FLIP_CAR_V115_jpg.rf.78cf6c1c775e6f222fdc58e815841fcb.jpg  \n",
            "  inflating: __MACOSX/+_2863_640_640_label_ACCIDENT_DETECTION.v1i.yolov7pytorch/train/images/._FLIP_CAR_V115_jpg.rf.78cf6c1c775e6f222fdc58e815841fcb.jpg  \n",
            "  inflating: +_2863_640_640_label_ACCIDENT_DETECTION.v1i.yolov7pytorch/train/images/download-1_jpg.rf.c81b3657429ae7c14063b809ca9e0957.jpg  \n",
            "  inflating: __MACOSX/+_2863_640_640_label_ACCIDENT_DETECTION.v1i.yolov7pytorch/train/images/._download-1_jpg.rf.c81b3657429ae7c14063b809ca9e0957.jpg  \n",
            "  inflating: +_2863_640_640_label_ACCIDENT_DETECTION.v1i.yolov7pytorch/train/images/images-1_jpg.rf.1a09a07cf7ca93456ef03e5f835ef574.jpg  \n",
            "  inflating: __MACOSX/+_2863_640_640_label_ACCIDENT_DETECTION.v1i.yolov7pytorch/train/images/._images-1_jpg.rf.1a09a07cf7ca93456ef03e5f835ef574.jpg  \n",
            "  inflating: +_2863_640_640_label_ACCIDENT_DETECTION.v1i.yolov7pytorch/train/images/FLIP_CAR_V125_jpg.rf.e2ca81efa7f0288c11919e839f2fc4ad.jpg  \n",
            "  inflating: __MACOSX/+_2863_640_640_label_ACCIDENT_DETECTION.v1i.yolov7pytorch/train/images/._FLIP_CAR_V125_jpg.rf.e2ca81efa7f0288c11919e839f2fc4ad.jpg  \n",
            "  inflating: +_2863_640_640_label_ACCIDENT_DETECTION.v1i.yolov7pytorch/train/images/download-2_jpg.rf.029e60fd04f6e465aad26c1cfe6eb11c.jpg  \n",
            "  inflating: __MACOSX/+_2863_640_640_label_ACCIDENT_DETECTION.v1i.yolov7pytorch/train/images/._download-2_jpg.rf.029e60fd04f6e465aad26c1cfe6eb11c.jpg  \n",
            "  inflating: +_2863_640_640_label_ACCIDENT_DETECTION.v1i.yolov7pytorch/train/images/14-169_jpg.rf.c9cd5daf55daf4fa487dd2eaf4b52ac7.jpg  \n",
            "  inflating: __MACOSX/+_2863_640_640_label_ACCIDENT_DETECTION.v1i.yolov7pytorch/train/images/._14-169_jpg.rf.c9cd5daf55daf4fa487dd2eaf4b52ac7.jpg  \n",
            "  inflating: +_2863_640_640_label_ACCIDENT_DETECTION.v1i.yolov7pytorch/train/images/severityV3_1_jpeg_jpg.rf.f4402e7c17090b89c7366aa5cfb3af12.jpg  \n",
            "  inflating: __MACOSX/+_2863_640_640_label_ACCIDENT_DETECTION.v1i.yolov7pytorch/train/images/._severityV3_1_jpeg_jpg.rf.f4402e7c17090b89c7366aa5cfb3af12.jpg  \n",
            "  inflating: +_2863_640_640_label_ACCIDENT_DETECTION.v1i.yolov7pytorch/train/images/severe11_jpeg_jpg.rf.e2868758eaaea77626e0cc5f740ca3ed.jpg  \n",
            "  inflating: __MACOSX/+_2863_640_640_label_ACCIDENT_DETECTION.v1i.yolov7pytorch/train/images/._severe11_jpeg_jpg.rf.e2868758eaaea77626e0cc5f740ca3ed.jpg  \n",
            "  inflating: +_2863_640_640_label_ACCIDENT_DETECTION.v1i.yolov7pytorch/train/images/severityV3_27_jpeg_jpg.rf.fdc674f2cbf63f9e6c663deff24ede10.jpg  \n",
            "  inflating: __MACOSX/+_2863_640_640_label_ACCIDENT_DETECTION.v1i.yolov7pytorch/train/images/._severityV3_27_jpeg_jpg.rf.fdc674f2cbf63f9e6c663deff24ede10.jpg  \n",
            "  inflating: +_2863_640_640_label_ACCIDENT_DETECTION.v1i.yolov7pytorch/train/images/traffic_img1436_jpg.rf.fe050c22807b6b638b116ff8046d3b6a.jpg  \n",
            "  inflating: __MACOSX/+_2863_640_640_label_ACCIDENT_DETECTION.v1i.yolov7pytorch/train/images/._traffic_img1436_jpg.rf.fe050c22807b6b638b116ff8046d3b6a.jpg  \n",
            "  inflating: +_2863_640_640_label_ACCIDENT_DETECTION.v1i.yolov7pytorch/train/images/severityV4_14_jpg.rf.4189c19f69d3f5010c56cea7ddb330c8.jpg  \n",
            "  inflating: __MACOSX/+_2863_640_640_label_ACCIDENT_DETECTION.v1i.yolov7pytorch/train/images/._severityV4_14_jpg.rf.4189c19f69d3f5010c56cea7ddb330c8.jpg  \n",
            "  inflating: +_2863_640_640_label_ACCIDENT_DETECTION.v1i.yolov7pytorch/train/images/Semi-RealisticVD-11_jpg.rf.b71572468df2219f89f3f07a2dc46913.jpg  \n",
            "  inflating: __MACOSX/+_2863_640_640_label_ACCIDENT_DETECTION.v1i.yolov7pytorch/train/images/._Semi-RealisticVD-11_jpg.rf.b71572468df2219f89f3f07a2dc46913.jpg  \n",
            "  inflating: +_2863_640_640_label_ACCIDENT_DETECTION.v1i.yolov7pytorch/train/images/severityV2_7_jpg.rf.caea8cf82bf20584318ec5f926896bda.jpg  \n",
            "  inflating: __MACOSX/+_2863_640_640_label_ACCIDENT_DETECTION.v1i.yolov7pytorch/train/images/._severityV2_7_jpg.rf.caea8cf82bf20584318ec5f926896bda.jpg  \n",
            "  inflating: +_2863_640_640_label_ACCIDENT_DETECTION.v1i.yolov7pytorch/train/images/accidentFrame128_jpg.rf.b6c40195c45e3d8fa4af090eda4666e2.jpg  \n",
            "  inflating: __MACOSX/+_2863_640_640_label_ACCIDENT_DETECTION.v1i.yolov7pytorch/train/images/._accidentFrame128_jpg.rf.b6c40195c45e3d8fa4af090eda4666e2.jpg  \n",
            "  inflating: +_2863_640_640_label_ACCIDENT_DETECTION.v1i.yolov7pytorch/train/images/traffic_img283_jpg.rf.e6d8c18ebd43675bfb000e5e894f87a8.jpg  \n",
            "  inflating: __MACOSX/+_2863_640_640_label_ACCIDENT_DETECTION.v1i.yolov7pytorch/train/images/._traffic_img283_jpg.rf.e6d8c18ebd43675bfb000e5e894f87a8.jpg  \n",
            "  inflating: +_2863_640_640_label_ACCIDENT_DETECTION.v1i.yolov7pytorch/train/images/severityV4_51_jpg.rf.fcf7bfa69c38777f9b62ed2f65daddf7.jpg  \n",
            "  inflating: __MACOSX/+_2863_640_640_label_ACCIDENT_DETECTION.v1i.yolov7pytorch/train/images/._severityV4_51_jpg.rf.fcf7bfa69c38777f9b62ed2f65daddf7.jpg  \n",
            "  inflating: +_2863_640_640_label_ACCIDENT_DETECTION.v1i.yolov7pytorch/train/images/severity_V145_jpg.rf.f61a534652846ad73d8026371a7ae03b.jpg  \n",
            "  inflating: __MACOSX/+_2863_640_640_label_ACCIDENT_DETECTION.v1i.yolov7pytorch/train/images/._severity_V145_jpg.rf.f61a534652846ad73d8026371a7ae03b.jpg  \n",
            "  inflating: +_2863_640_640_label_ACCIDENT_DETECTION.v1i.yolov7pytorch/train/images/traffic_img1811_jpg.rf.2792806aeb623146fdeb44a70a347ca6.jpg  \n",
            "  inflating: __MACOSX/+_2863_640_640_label_ACCIDENT_DETECTION.v1i.yolov7pytorch/train/images/._traffic_img1811_jpg.rf.2792806aeb623146fdeb44a70a347ca6.jpg  \n",
            "  inflating: +_2863_640_640_label_ACCIDENT_DETECTION.v1i.yolov7pytorch/train/images/FLIP_CAR_V160_jpg.rf.c2649e389a91dc61d1020f706a192a2f.jpg  \n",
            "  inflating: __MACOSX/+_2863_640_640_label_ACCIDENT_DETECTION.v1i.yolov7pytorch/train/images/._FLIP_CAR_V160_jpg.rf.c2649e389a91dc61d1020f706a192a2f.jpg  \n",
            "  inflating: +_2863_640_640_label_ACCIDENT_DETECTION.v1i.yolov7pytorch/train/images/screen_images4_png_jpg.rf.b3cef62a710a16c0e53140ffd54e4212.jpg  \n",
            "  inflating: __MACOSX/+_2863_640_640_label_ACCIDENT_DETECTION.v1i.yolov7pytorch/train/images/._screen_images4_png_jpg.rf.b3cef62a710a16c0e53140ffd54e4212.jpg  \n",
            "  inflating: +_2863_640_640_label_ACCIDENT_DETECTION.v1i.yolov7pytorch/train/images/images-16_jpg.rf.b51bf523eca294df9afe024d81fb8ac7.jpg  \n",
            "  inflating: __MACOSX/+_2863_640_640_label_ACCIDENT_DETECTION.v1i.yolov7pytorch/train/images/._images-16_jpg.rf.b51bf523eca294df9afe024d81fb8ac7.jpg  \n",
            "  inflating: +_2863_640_640_label_ACCIDENT_DETECTION.v1i.yolov7pytorch/train/images/severityV4_21_jpg.rf.940725861cf27073317c433552ea04f5.jpg  \n",
            "  inflating: __MACOSX/+_2863_640_640_label_ACCIDENT_DETECTION.v1i.yolov7pytorch/train/images/._severityV4_21_jpg.rf.940725861cf27073317c433552ea04f5.jpg  \n",
            "  inflating: +_2863_640_640_label_ACCIDENT_DETECTION.v1i.yolov7pytorch/train/images/severityV4_10_jpg.rf.f5d2ae0983da460b73d62a08aca06925.jpg  \n",
            "  inflating: __MACOSX/+_2863_640_640_label_ACCIDENT_DETECTION.v1i.yolov7pytorch/train/images/._severityV4_10_jpg.rf.f5d2ae0983da460b73d62a08aca06925.jpg  \n",
            "  inflating: +_2863_640_640_label_ACCIDENT_DETECTION.v1i.yolov7pytorch/train/images/images-1_jpg.rf.de01544b44d90a9926e381fb6e97c75f.jpg  \n",
            "  inflating: __MACOSX/+_2863_640_640_label_ACCIDENT_DETECTION.v1i.yolov7pytorch/train/images/._images-1_jpg.rf.de01544b44d90a9926e381fb6e97c75f.jpg  \n",
            "  inflating: +_2863_640_640_label_ACCIDENT_DETECTION.v1i.yolov7pytorch/train/images/severityV4_15_jpg.rf.c554cee8cdd7d09768deab8007a202d5.jpg  \n",
            "  inflating: __MACOSX/+_2863_640_640_label_ACCIDENT_DETECTION.v1i.yolov7pytorch/train/images/._severityV4_15_jpg.rf.c554cee8cdd7d09768deab8007a202d5.jpg  \n",
            "  inflating: +_2863_640_640_label_ACCIDENT_DETECTION.v1i.yolov7pytorch/train/images/download-3_jpg.rf.f75a61af3b695c424a5e15fbdb773c86.jpg  \n",
            "  inflating: __MACOSX/+_2863_640_640_label_ACCIDENT_DETECTION.v1i.yolov7pytorch/train/images/._download-3_jpg.rf.f75a61af3b695c424a5e15fbdb773c86.jpg  \n",
            "  inflating: +_2863_640_640_label_ACCIDENT_DETECTION.v1i.yolov7pytorch/train/images/7db827fb-e15d-4315-9f0a-16c8d38f9d5c_1920x1080_jpg.rf.48fb18bf11a5714017c95447f19b2936.jpg  \n",
            "  inflating: __MACOSX/+_2863_640_640_label_ACCIDENT_DETECTION.v1i.yolov7pytorch/train/images/._7db827fb-e15d-4315-9f0a-16c8d38f9d5c_1920x1080_jpg.rf.48fb18bf11a5714017c95447f19b2936.jpg  \n",
            "  inflating: +_2863_640_640_label_ACCIDENT_DETECTION.v1i.yolov7pytorch/train/images/2-251_jpg.rf.b4f91dba9bc9b05191120418f3b6792c.jpg  \n",
            "  inflating: __MACOSX/+_2863_640_640_label_ACCIDENT_DETECTION.v1i.yolov7pytorch/train/images/._2-251_jpg.rf.b4f91dba9bc9b05191120418f3b6792c.jpg  \n",
            "  inflating: +_2863_640_640_label_ACCIDENT_DETECTION.v1i.yolov7pytorch/train/images/FLIP_CAR_V167_jpg.rf.b4f6f979b016841385872a5f843eea69.jpg  \n",
            "  inflating: __MACOSX/+_2863_640_640_label_ACCIDENT_DETECTION.v1i.yolov7pytorch/train/images/._FLIP_CAR_V167_jpg.rf.b4f6f979b016841385872a5f843eea69.jpg  \n",
            "  inflating: +_2863_640_640_label_ACCIDENT_DETECTION.v1i.yolov7pytorch/train/images/severityV4_35_jpg.rf.f95559375a438f2454c11323517b958f.jpg  \n",
            "  inflating: __MACOSX/+_2863_640_640_label_ACCIDENT_DETECTION.v1i.yolov7pytorch/train/images/._severityV4_35_jpg.rf.f95559375a438f2454c11323517b958f.jpg  \n",
            "  inflating: +_2863_640_640_label_ACCIDENT_DETECTION.v1i.yolov7pytorch/train/images/FLIP_CAR_V135_jpg.rf.25de7a5506bddca504d3d6a8b2d32ba8.jpg  \n",
            "  inflating: __MACOSX/+_2863_640_640_label_ACCIDENT_DETECTION.v1i.yolov7pytorch/train/images/._FLIP_CAR_V135_jpg.rf.25de7a5506bddca504d3d6a8b2d32ba8.jpg  \n",
            "  inflating: +_2863_640_640_label_ACCIDENT_DETECTION.v1i.yolov7pytorch/train/images/traffic_img1184_jpg.rf.e32cb4d4ae356e2e465994a170c44446.jpg  \n",
            "  inflating: __MACOSX/+_2863_640_640_label_ACCIDENT_DETECTION.v1i.yolov7pytorch/train/images/._traffic_img1184_jpg.rf.e32cb4d4ae356e2e465994a170c44446.jpg  \n",
            "  inflating: +_2863_640_640_label_ACCIDENT_DETECTION.v1i.yolov7pytorch/train/images/severityV4_98_jpg.rf.70e2d42c2d898f69c0acda69a3fef4eb.jpg  \n",
            "  inflating: __MACOSX/+_2863_640_640_label_ACCIDENT_DETECTION.v1i.yolov7pytorch/train/images/._severityV4_98_jpg.rf.70e2d42c2d898f69c0acda69a3fef4eb.jpg  \n",
            "  inflating: +_2863_640_640_label_ACCIDENT_DETECTION.v1i.yolov7pytorch/train/images/car_on_parked_cars_jpg.rf.eeff30d5145ce3e4f5832e5b7b24b0de.jpg  \n",
            "  inflating: __MACOSX/+_2863_640_640_label_ACCIDENT_DETECTION.v1i.yolov7pytorch/train/images/._car_on_parked_cars_jpg.rf.eeff30d5145ce3e4f5832e5b7b24b0de.jpg  \n",
            "  inflating: +_2863_640_640_label_ACCIDENT_DETECTION.v1i.yolov7pytorch/train/images/FLIP_CAR_V133_jpg.rf.fc66246b399e4896ed6009bd74150bd7.jpg  \n",
            "  inflating: __MACOSX/+_2863_640_640_label_ACCIDENT_DETECTION.v1i.yolov7pytorch/train/images/._FLIP_CAR_V133_jpg.rf.fc66246b399e4896ed6009bd74150bd7.jpg  \n",
            "  inflating: +_2863_640_640_label_ACCIDENT_DETECTION.v1i.yolov7pytorch/train/images/260_jpeg_jpg.rf.570b2e210a6e3726b89c5324e3278bda.jpg  \n",
            "  inflating: __MACOSX/+_2863_640_640_label_ACCIDENT_DETECTION.v1i.yolov7pytorch/train/images/._260_jpeg_jpg.rf.570b2e210a6e3726b89c5324e3278bda.jpg  \n",
            "  inflating: +_2863_640_640_label_ACCIDENT_DETECTION.v1i.yolov7pytorch/train/images/images-1_jpg.rf.53a2e573edc95854628b165de0f32f17.jpg  \n",
            "  inflating: __MACOSX/+_2863_640_640_label_ACCIDENT_DETECTION.v1i.yolov7pytorch/train/images/._images-1_jpg.rf.53a2e573edc95854628b165de0f32f17.jpg  \n",
            "  inflating: +_2863_640_640_label_ACCIDENT_DETECTION.v1i.yolov7pytorch/train/images/traffic_img1441_jpg.rf.283a62254724f88531995349c1ecb08a.jpg  \n",
            "  inflating: __MACOSX/+_2863_640_640_label_ACCIDENT_DETECTION.v1i.yolov7pytorch/train/images/._traffic_img1441_jpg.rf.283a62254724f88531995349c1ecb08a.jpg  \n",
            "  inflating: +_2863_640_640_label_ACCIDENT_DETECTION.v1i.yolov7pytorch/train/images/vd13_png_jpg.rf.ecc823bcb95757f462b562a850f87213.jpg  \n",
            "  inflating: __MACOSX/+_2863_640_640_label_ACCIDENT_DETECTION.v1i.yolov7pytorch/train/images/._vd13_png_jpg.rf.ecc823bcb95757f462b562a850f87213.jpg  \n",
            "  inflating: +_2863_640_640_label_ACCIDENT_DETECTION.v1i.yolov7pytorch/train/images/sev9_jpg.rf.f3963f17bdf5b3e13b3b755a89779127.jpg  \n",
            "  inflating: __MACOSX/+_2863_640_640_label_ACCIDENT_DETECTION.v1i.yolov7pytorch/train/images/._sev9_jpg.rf.f3963f17bdf5b3e13b3b755a89779127.jpg  \n",
            "  inflating: +_2863_640_640_label_ACCIDENT_DETECTION.v1i.yolov7pytorch/train/images/4-7_jpg.rf.1768ef9f2a0d0e9824d088a9e53d0510.jpg  \n",
            "  inflating: __MACOSX/+_2863_640_640_label_ACCIDENT_DETECTION.v1i.yolov7pytorch/train/images/._4-7_jpg.rf.1768ef9f2a0d0e9824d088a9e53d0510.jpg  \n",
            "  inflating: +_2863_640_640_label_ACCIDENT_DETECTION.v1i.yolov7pytorch/train/images/Semi-RealisticVD-55_jpg.rf.d7f3628b7d77f77fa6448bcc2e54b5cb.jpg  \n",
            "  inflating: __MACOSX/+_2863_640_640_label_ACCIDENT_DETECTION.v1i.yolov7pytorch/train/images/._Semi-RealisticVD-55_jpg.rf.d7f3628b7d77f77fa6448bcc2e54b5cb.jpg  \n",
            "  inflating: +_2863_640_640_label_ACCIDENT_DETECTION.v1i.yolov7pytorch/train/images/buy4_jpg.rf.acb5f6f37b3d58e2b749eb7e9cd06b62.jpg  \n",
            "  inflating: __MACOSX/+_2863_640_640_label_ACCIDENT_DETECTION.v1i.yolov7pytorch/train/images/._buy4_jpg.rf.acb5f6f37b3d58e2b749eb7e9cd06b62.jpg  \n",
            "  inflating: +_2863_640_640_label_ACCIDENT_DETECTION.v1i.yolov7pytorch/train/images/traffic_img56_jpg.rf.bfecdc190c3d28c53f2c0a81039d951e.jpg  \n",
            "  inflating: __MACOSX/+_2863_640_640_label_ACCIDENT_DETECTION.v1i.yolov7pytorch/train/images/._traffic_img56_jpg.rf.bfecdc190c3d28c53f2c0a81039d951e.jpg  \n",
            "  inflating: +_2863_640_640_label_ACCIDENT_DETECTION.v1i.yolov7pytorch/train/images/1-136_jpg.rf.ccd04a3a9aac7ae17022694418c5921c.jpg  \n",
            "  inflating: __MACOSX/+_2863_640_640_label_ACCIDENT_DETECTION.v1i.yolov7pytorch/train/images/._1-136_jpg.rf.ccd04a3a9aac7ae17022694418c5921c.jpg  \n",
            "  inflating: +_2863_640_640_label_ACCIDENT_DETECTION.v1i.yolov7pytorch/train/images/images-30_jpg.rf.d7757ac8f170b49e877feb95b86b2975.jpg  \n",
            "  inflating: __MACOSX/+_2863_640_640_label_ACCIDENT_DETECTION.v1i.yolov7pytorch/train/images/._images-30_jpg.rf.d7757ac8f170b49e877feb95b86b2975.jpg  \n",
            "  inflating: +_2863_640_640_label_ACCIDENT_DETECTION.v1i.yolov7pytorch/train/images/traffic_img99_jpg.rf.bd59a921926bc9cf109fde303c79a97d.jpg  \n",
            "  inflating: __MACOSX/+_2863_640_640_label_ACCIDENT_DETECTION.v1i.yolov7pytorch/train/images/._traffic_img99_jpg.rf.bd59a921926bc9cf109fde303c79a97d.jpg  \n",
            "  inflating: +_2863_640_640_label_ACCIDENT_DETECTION.v1i.yolov7pytorch/train/images/FLIP_CAR_V161_jpg.rf.d4bc033e314af922cd62b678b1df8179.jpg  \n",
            "  inflating: __MACOSX/+_2863_640_640_label_ACCIDENT_DETECTION.v1i.yolov7pytorch/train/images/._FLIP_CAR_V161_jpg.rf.d4bc033e314af922cd62b678b1df8179.jpg  \n",
            "  inflating: +_2863_640_640_label_ACCIDENT_DETECTION.v1i.yolov7pytorch/train/images/accidentFrame2729_jpg.rf.3a527937db64d7373d22e6072c98528e.jpg  \n",
            "  inflating: __MACOSX/+_2863_640_640_label_ACCIDENT_DETECTION.v1i.yolov7pytorch/train/images/._accidentFrame2729_jpg.rf.3a527937db64d7373d22e6072c98528e.jpg  \n",
            "  inflating: +_2863_640_640_label_ACCIDENT_DETECTION.v1i.yolov7pytorch/train/images/traffic_img1596_jpg.rf.fdad69f279e1409ed6decef22760477d.jpg  \n",
            "  inflating: __MACOSX/+_2863_640_640_label_ACCIDENT_DETECTION.v1i.yolov7pytorch/train/images/._traffic_img1596_jpg.rf.fdad69f279e1409ed6decef22760477d.jpg  \n",
            "  inflating: +_2863_640_640_label_ACCIDENT_DETECTION.v1i.yolov7pytorch/train/images/severity_V139_jpg.rf.db1ec889961316c2449faa82171b82a3.jpg  \n",
            "  inflating: __MACOSX/+_2863_640_640_label_ACCIDENT_DETECTION.v1i.yolov7pytorch/train/images/._severity_V139_jpg.rf.db1ec889961316c2449faa82171b82a3.jpg  \n",
            "  inflating: +_2863_640_640_label_ACCIDENT_DETECTION.v1i.yolov7pytorch/train/images/images-12_jpg.rf.389b78a78cd5e4dd330f3c1bfeabf11a.jpg  \n",
            "  inflating: __MACOSX/+_2863_640_640_label_ACCIDENT_DETECTION.v1i.yolov7pytorch/train/images/._images-12_jpg.rf.389b78a78cd5e4dd330f3c1bfeabf11a.jpg  \n",
            "  inflating: +_2863_640_640_label_ACCIDENT_DETECTION.v1i.yolov7pytorch/train/images/traffic_img803_jpg.rf.dc40942df72e38dda84fbf0d482cd518.jpg  \n",
            "  inflating: __MACOSX/+_2863_640_640_label_ACCIDENT_DETECTION.v1i.yolov7pytorch/train/images/._traffic_img803_jpg.rf.dc40942df72e38dda84fbf0d482cd518.jpg  \n",
            "  inflating: +_2863_640_640_label_ACCIDENT_DETECTION.v1i.yolov7pytorch/train/images/14-174_jpg.rf.ea2a95f40efd1c3fde421c5230950374.jpg  \n",
            "  inflating: __MACOSX/+_2863_640_640_label_ACCIDENT_DETECTION.v1i.yolov7pytorch/train/images/._14-174_jpg.rf.ea2a95f40efd1c3fde421c5230950374.jpg  \n",
            "  inflating: +_2863_640_640_label_ACCIDENT_DETECTION.v1i.yolov7pytorch/train/images/severityV4_47_jpg.rf.ecf3376cfe1cb142304d42d9217b8dd3.jpg  \n",
            "  inflating: __MACOSX/+_2863_640_640_label_ACCIDENT_DETECTION.v1i.yolov7pytorch/train/images/._severityV4_47_jpg.rf.ecf3376cfe1cb142304d42d9217b8dd3.jpg  \n",
            "  inflating: +_2863_640_640_label_ACCIDENT_DETECTION.v1i.yolov7pytorch/train/images/download-2_jpg.rf.02c29aeaf996364e485c0afe33d915fb.jpg  \n",
            "  inflating: __MACOSX/+_2863_640_640_label_ACCIDENT_DETECTION.v1i.yolov7pytorch/train/images/._download-2_jpg.rf.02c29aeaf996364e485c0afe33d915fb.jpg  \n",
            "  inflating: +_2863_640_640_label_ACCIDENT_DETECTION.v1i.yolov7pytorch/train/images/download-5_jpg.rf.96c9cec3ca6bde709aa8670b9f074dbc.jpg  \n",
            "  inflating: __MACOSX/+_2863_640_640_label_ACCIDENT_DETECTION.v1i.yolov7pytorch/train/images/._download-5_jpg.rf.96c9cec3ca6bde709aa8670b9f074dbc.jpg  \n",
            "  inflating: +_2863_640_640_label_ACCIDENT_DETECTION.v1i.yolov7pytorch/train/images/Semi-RealisticVD-122_jpg.rf.ba8b5647edb1507dcf8a6dc6b46b3de9.jpg  \n",
            "  inflating: __MACOSX/+_2863_640_640_label_ACCIDENT_DETECTION.v1i.yolov7pytorch/train/images/._Semi-RealisticVD-122_jpg.rf.ba8b5647edb1507dcf8a6dc6b46b3de9.jpg  \n",
            "  inflating: +_2863_640_640_label_ACCIDENT_DETECTION.v1i.yolov7pytorch/train/images/Semi-RealisticVD-190_jpg.rf.d81eead412c5207a86bf2ed27cc6f86d.jpg  \n",
            "  inflating: __MACOSX/+_2863_640_640_label_ACCIDENT_DETECTION.v1i.yolov7pytorch/train/images/._Semi-RealisticVD-190_jpg.rf.d81eead412c5207a86bf2ed27cc6f86d.jpg  \n",
            "  inflating: +_2863_640_640_label_ACCIDENT_DETECTION.v1i.yolov7pytorch/train/images/traffic_img1672_jpg.rf.30583e1fa3484a22b337752fab4c83cd.jpg  \n",
            "  inflating: __MACOSX/+_2863_640_640_label_ACCIDENT_DETECTION.v1i.yolov7pytorch/train/images/._traffic_img1672_jpg.rf.30583e1fa3484a22b337752fab4c83cd.jpg  \n",
            "  inflating: +_2863_640_640_label_ACCIDENT_DETECTION.v1i.yolov7pytorch/train/images/images-13_jpg.rf.c3fa19a049ef26cb229e509105417596.jpg  \n",
            "  inflating: __MACOSX/+_2863_640_640_label_ACCIDENT_DETECTION.v1i.yolov7pytorch/train/images/._images-13_jpg.rf.c3fa19a049ef26cb229e509105417596.jpg  \n",
            "  inflating: +_2863_640_640_label_ACCIDENT_DETECTION.v1i.yolov7pytorch/train/images/981_jpeg_jpg.rf.ee8e3273d7464f11f244fe410aa7d237.jpg  \n",
            "  inflating: __MACOSX/+_2863_640_640_label_ACCIDENT_DETECTION.v1i.yolov7pytorch/train/images/._981_jpeg_jpg.rf.ee8e3273d7464f11f244fe410aa7d237.jpg  \n",
            "  inflating: +_2863_640_640_label_ACCIDENT_DETECTION.v1i.yolov7pytorch/train/images/FLIP_CAR_V164_jpg.rf.b562eab4c9c94bbda016beccebdc5a47.jpg  \n",
            "  inflating: __MACOSX/+_2863_640_640_label_ACCIDENT_DETECTION.v1i.yolov7pytorch/train/images/._FLIP_CAR_V164_jpg.rf.b562eab4c9c94bbda016beccebdc5a47.jpg  \n",
            "  inflating: +_2863_640_640_label_ACCIDENT_DETECTION.v1i.yolov7pytorch/train/images/accidentFrame2559_jpg.rf.9f2501531efd10ae4a286c167219aaf3.jpg  \n",
            "  inflating: __MACOSX/+_2863_640_640_label_ACCIDENT_DETECTION.v1i.yolov7pytorch/train/images/._accidentFrame2559_jpg.rf.9f2501531efd10ae4a286c167219aaf3.jpg  \n",
            "  inflating: +_2863_640_640_label_ACCIDENT_DETECTION.v1i.yolov7pytorch/train/images/severityV3_5_jpeg_jpg.rf.fce099dd0c4fcdf9b1371962345bed6a.jpg  \n",
            "  inflating: __MACOSX/+_2863_640_640_label_ACCIDENT_DETECTION.v1i.yolov7pytorch/train/images/._severityV3_5_jpeg_jpg.rf.fce099dd0c4fcdf9b1371962345bed6a.jpg  \n",
            "  inflating: +_2863_640_640_label_ACCIDENT_DETECTION.v1i.yolov7pytorch/train/images/Semi-RealisticVD-204_jpg.rf.31c82ebec03879dde375a8adeabaccb0.jpg  \n",
            "  inflating: __MACOSX/+_2863_640_640_label_ACCIDENT_DETECTION.v1i.yolov7pytorch/train/images/._Semi-RealisticVD-204_jpg.rf.31c82ebec03879dde375a8adeabaccb0.jpg  \n",
            "  inflating: +_2863_640_640_label_ACCIDENT_DETECTION.v1i.yolov7pytorch/train/images/severityV4_97_jpg.rf.745b0b647a4f41c58b6ba486f821403f.jpg  \n",
            "  inflating: __MACOSX/+_2863_640_640_label_ACCIDENT_DETECTION.v1i.yolov7pytorch/train/images/._severityV4_97_jpg.rf.745b0b647a4f41c58b6ba486f821403f.jpg  \n",
            "  inflating: +_2863_640_640_label_ACCIDENT_DETECTION.v1i.yolov7pytorch/train/images/779_jpeg_jpg.rf.a801886f163a1e45457fd89c8339c665.jpg  \n",
            "  inflating: __MACOSX/+_2863_640_640_label_ACCIDENT_DETECTION.v1i.yolov7pytorch/train/images/._779_jpeg_jpg.rf.a801886f163a1e45457fd89c8339c665.jpg  \n",
            "  inflating: +_2863_640_640_label_ACCIDENT_DETECTION.v1i.yolov7pytorch/train/images/accidentFrame2758_jpg.rf.0e1d2c715c24bedaf649ec83c65bd7f4.jpg  \n",
            "  inflating: __MACOSX/+_2863_640_640_label_ACCIDENT_DETECTION.v1i.yolov7pytorch/train/images/._accidentFrame2758_jpg.rf.0e1d2c715c24bedaf649ec83c65bd7f4.jpg  \n",
            "  inflating: +_2863_640_640_label_ACCIDENT_DETECTION.v1i.yolov7pytorch/train/images/traffic_img482_jpg.rf.2258ad4c7b19df80d045536d6db6bbf2.jpg  \n",
            "  inflating: __MACOSX/+_2863_640_640_label_ACCIDENT_DETECTION.v1i.yolov7pytorch/train/images/._traffic_img482_jpg.rf.2258ad4c7b19df80d045536d6db6bbf2.jpg  \n",
            "  inflating: +_2863_640_640_label_ACCIDENT_DETECTION.v1i.yolov7pytorch/train/images/severityV4_94_jpg.rf.fe7195f12fdf757531126f67d896e5ec.jpg  \n",
            "  inflating: __MACOSX/+_2863_640_640_label_ACCIDENT_DETECTION.v1i.yolov7pytorch/train/images/._severityV4_94_jpg.rf.fe7195f12fdf757531126f67d896e5ec.jpg  \n",
            "  inflating: +_2863_640_640_label_ACCIDENT_DETECTION.v1i.yolov7pytorch/train/images/traffic_img1884_jpg.rf.dd5bd12643c05dd22c2024fd30711de4.jpg  \n",
            "  inflating: __MACOSX/+_2863_640_640_label_ACCIDENT_DETECTION.v1i.yolov7pytorch/train/images/._traffic_img1884_jpg.rf.dd5bd12643c05dd22c2024fd30711de4.jpg  \n",
            "  inflating: +_2863_640_640_label_ACCIDENT_DETECTION.v1i.yolov7pytorch/train/images/FLIP_CAR_V144_jpg.rf.b10702e1f42db9e8a8b8be7b52362f08.jpg  \n",
            "  inflating: __MACOSX/+_2863_640_640_label_ACCIDENT_DETECTION.v1i.yolov7pytorch/train/images/._FLIP_CAR_V144_jpg.rf.b10702e1f42db9e8a8b8be7b52362f08.jpg  \n",
            "  inflating: +_2863_640_640_label_ACCIDENT_DETECTION.v1i.yolov7pytorch/train/images/download-8_jpg.rf.defaf8dbc7c52ca118536ea2a31f95d9.jpg  \n",
            "  inflating: __MACOSX/+_2863_640_640_label_ACCIDENT_DETECTION.v1i.yolov7pytorch/train/images/._download-8_jpg.rf.defaf8dbc7c52ca118536ea2a31f95d9.jpg  \n",
            "  inflating: +_2863_640_640_label_ACCIDENT_DETECTION.v1i.yolov7pytorch/train/images/severityV4_69_jpg.rf.18532f775e7dba25f25d0e7478a4553a.jpg  \n",
            "  inflating: __MACOSX/+_2863_640_640_label_ACCIDENT_DETECTION.v1i.yolov7pytorch/train/images/._severityV4_69_jpg.rf.18532f775e7dba25f25d0e7478a4553a.jpg  \n",
            "  inflating: +_2863_640_640_label_ACCIDENT_DETECTION.v1i.yolov7pytorch/train/images/Severity_Detect_V26_jpg.rf.a957e7d779e2c2fa16d3e5030688fa84.jpg  \n",
            "  inflating: __MACOSX/+_2863_640_640_label_ACCIDENT_DETECTION.v1i.yolov7pytorch/train/images/._Severity_Detect_V26_jpg.rf.a957e7d779e2c2fa16d3e5030688fa84.jpg  \n",
            "  inflating: +_2863_640_640_label_ACCIDENT_DETECTION.v1i.yolov7pytorch/train/images/severityV3_34_jpeg_jpg.rf.d0a48f17560d89c4272a0a83bbe30793.jpg  \n",
            "  inflating: __MACOSX/+_2863_640_640_label_ACCIDENT_DETECTION.v1i.yolov7pytorch/train/images/._severityV3_34_jpeg_jpg.rf.d0a48f17560d89c4272a0a83bbe30793.jpg  \n",
            "  inflating: +_2863_640_640_label_ACCIDENT_DETECTION.v1i.yolov7pytorch/train/images/Semi-RealisticVD-180_jpg.rf.b9ba9d2a215f9e8fb75ca1c96a585d9d.jpg  \n",
            "  inflating: __MACOSX/+_2863_640_640_label_ACCIDENT_DETECTION.v1i.yolov7pytorch/train/images/._Semi-RealisticVD-180_jpg.rf.b9ba9d2a215f9e8fb75ca1c96a585d9d.jpg  \n",
            "  inflating: +_2863_640_640_label_ACCIDENT_DETECTION.v1i.yolov7pytorch/train/images/traffic_img1347_jpg.rf.31ded71f064f40ff93317c54a0bd6758.jpg  \n",
            "  inflating: __MACOSX/+_2863_640_640_label_ACCIDENT_DETECTION.v1i.yolov7pytorch/train/images/._traffic_img1347_jpg.rf.31ded71f064f40ff93317c54a0bd6758.jpg  \n",
            "  inflating: +_2863_640_640_label_ACCIDENT_DETECTION.v1i.yolov7pytorch/train/images/severV110_jpg.rf.aa746f71fa35b4f6f9f71391de01c20d.jpg  \n",
            "  inflating: __MACOSX/+_2863_640_640_label_ACCIDENT_DETECTION.v1i.yolov7pytorch/train/images/._severV110_jpg.rf.aa746f71fa35b4f6f9f71391de01c20d.jpg  \n",
            "  inflating: +_2863_640_640_label_ACCIDENT_DETECTION.v1i.yolov7pytorch/train/images/accidentFrame462_jpg.rf.fddd5a10641356906454f76630cfa791.jpg  \n",
            "  inflating: __MACOSX/+_2863_640_640_label_ACCIDENT_DETECTION.v1i.yolov7pytorch/train/images/._accidentFrame462_jpg.rf.fddd5a10641356906454f76630cfa791.jpg  \n",
            "  inflating: +_2863_640_640_label_ACCIDENT_DETECTION.v1i.yolov7pytorch/train/images/FLIP_CAR_V121_jpg.rf.a666a994dc32aaad4e09eaa68c6c557a.jpg  \n",
            "  inflating: __MACOSX/+_2863_640_640_label_ACCIDENT_DETECTION.v1i.yolov7pytorch/train/images/._FLIP_CAR_V121_jpg.rf.a666a994dc32aaad4e09eaa68c6c557a.jpg  \n",
            "  inflating: +_2863_640_640_label_ACCIDENT_DETECTION.v1i.yolov7pytorch/train/images/images_jpg.rf.c90cc265e09a72e231fea124db4fae12.jpg  \n",
            "  inflating: __MACOSX/+_2863_640_640_label_ACCIDENT_DETECTION.v1i.yolov7pytorch/train/images/._images_jpg.rf.c90cc265e09a72e231fea124db4fae12.jpg  \n",
            "  inflating: +_2863_640_640_label_ACCIDENT_DETECTION.v1i.yolov7pytorch/train/images/FLIP_CAR_V123_jpg.rf.b8f977a3f132baa4fc03b27946b04721.jpg  \n",
            "  inflating: __MACOSX/+_2863_640_640_label_ACCIDENT_DETECTION.v1i.yolov7pytorch/train/images/._FLIP_CAR_V123_jpg.rf.b8f977a3f132baa4fc03b27946b04721.jpg  \n",
            "  inflating: +_2863_640_640_label_ACCIDENT_DETECTION.v1i.yolov7pytorch/train/images/761_jpeg_jpg.rf.e3a300c3500b7f1a50ad5457a8df3c7b.jpg  \n",
            "  inflating: __MACOSX/+_2863_640_640_label_ACCIDENT_DETECTION.v1i.yolov7pytorch/train/images/._761_jpeg_jpg.rf.e3a300c3500b7f1a50ad5457a8df3c7b.jpg  \n",
            "  inflating: +_2863_640_640_label_ACCIDENT_DETECTION.v1i.yolov7pytorch/train/images/severity_V118_jpg.rf.b98b52d4ee84f479ca5ae24883605211.jpg  \n",
            "  inflating: __MACOSX/+_2863_640_640_label_ACCIDENT_DETECTION.v1i.yolov7pytorch/train/images/._severity_V118_jpg.rf.b98b52d4ee84f479ca5ae24883605211.jpg  \n",
            "  inflating: +_2863_640_640_label_ACCIDENT_DETECTION.v1i.yolov7pytorch/train/images/traffic_img17_jpg.rf.b14648d7f116390f660541a5989c7d35.jpg  \n",
            "  inflating: __MACOSX/+_2863_640_640_label_ACCIDENT_DETECTION.v1i.yolov7pytorch/train/images/._traffic_img17_jpg.rf.b14648d7f116390f660541a5989c7d35.jpg  \n",
            "  inflating: +_2863_640_640_label_ACCIDENT_DETECTION.v1i.yolov7pytorch/train/images/severityV4_4_jpg.rf.a08d4d13b056f7b467786f9ec71b4097.jpg  \n",
            "  inflating: __MACOSX/+_2863_640_640_label_ACCIDENT_DETECTION.v1i.yolov7pytorch/train/images/._severityV4_4_jpg.rf.a08d4d13b056f7b467786f9ec71b4097.jpg  \n",
            "  inflating: +_2863_640_640_label_ACCIDENT_DETECTION.v1i.yolov7pytorch/train/images/download-3_jpg.rf.d3eda40631df3543302232a800a2bc6e.jpg  \n",
            "  inflating: __MACOSX/+_2863_640_640_label_ACCIDENT_DETECTION.v1i.yolov7pytorch/train/images/._download-3_jpg.rf.d3eda40631df3543302232a800a2bc6e.jpg  \n",
            "  inflating: +_2863_640_640_label_ACCIDENT_DETECTION.v1i.yolov7pytorch/train/images/accidentFrame1197_jpg.rf.16a9518be9e207f3e93cd02a91cda2ec.jpg  \n",
            "  inflating: __MACOSX/+_2863_640_640_label_ACCIDENT_DETECTION.v1i.yolov7pytorch/train/images/._accidentFrame1197_jpg.rf.16a9518be9e207f3e93cd02a91cda2ec.jpg  \n",
            "  inflating: +_2863_640_640_label_ACCIDENT_DETECTION.v1i.yolov7pytorch/train/images/images_jpg.rf.b53ac10476dd2842011a686077489631.jpg  \n",
            "  inflating: __MACOSX/+_2863_640_640_label_ACCIDENT_DETECTION.v1i.yolov7pytorch/train/images/._images_jpg.rf.b53ac10476dd2842011a686077489631.jpg  \n",
            "  inflating: +_2863_640_640_label_ACCIDENT_DETECTION.v1i.yolov7pytorch/train/images/images-1_jpg.rf.581453f0cda56d437ef5eb8a567f0837.jpg  \n",
            "  inflating: __MACOSX/+_2863_640_640_label_ACCIDENT_DETECTION.v1i.yolov7pytorch/train/images/._images-1_jpg.rf.581453f0cda56d437ef5eb8a567f0837.jpg  \n",
            "  inflating: +_2863_640_640_label_ACCIDENT_DETECTION.v1i.yolov7pytorch/train/images/download-2_jpg.rf.7efabb5d84deb6e3092f12a61c2e384a.jpg  \n",
            "  inflating: __MACOSX/+_2863_640_640_label_ACCIDENT_DETECTION.v1i.yolov7pytorch/train/images/._download-2_jpg.rf.7efabb5d84deb6e3092f12a61c2e384a.jpg  \n",
            "  inflating: +_2863_640_640_label_ACCIDENT_DETECTION.v1i.yolov7pytorch/train/images/severityV4_99_jpg.rf.a73b3321452ab850f5eb2a962f439cd6.jpg  \n",
            "  inflating: __MACOSX/+_2863_640_640_label_ACCIDENT_DETECTION.v1i.yolov7pytorch/train/images/._severityV4_99_jpg.rf.a73b3321452ab850f5eb2a962f439cd6.jpg  \n",
            "  inflating: +_2863_640_640_label_ACCIDENT_DETECTION.v1i.yolov7pytorch/train/images/images-2_jpg.rf.61539b23a2c2e99d61ec26e2e805ca98.jpg  \n",
            "  inflating: __MACOSX/+_2863_640_640_label_ACCIDENT_DETECTION.v1i.yolov7pytorch/train/images/._images-2_jpg.rf.61539b23a2c2e99d61ec26e2e805ca98.jpg  \n",
            "  inflating: +_2863_640_640_label_ACCIDENT_DETECTION.v1i.yolov7pytorch/train/images/traffic_img1810_jpg.rf.fa12409e93c1d4d65384678402b53862.jpg  \n",
            "  inflating: __MACOSX/+_2863_640_640_label_ACCIDENT_DETECTION.v1i.yolov7pytorch/train/images/._traffic_img1810_jpg.rf.fa12409e93c1d4d65384678402b53862.jpg  \n",
            "  inflating: +_2863_640_640_label_ACCIDENT_DETECTION.v1i.yolov7pytorch/train/images/2Q__-5-_jpg.rf.f2285cd6bb1a0614eed51c90b86d7f55.jpg  \n",
            "  inflating: __MACOSX/+_2863_640_640_label_ACCIDENT_DETECTION.v1i.yolov7pytorch/train/images/._2Q__-5-_jpg.rf.f2285cd6bb1a0614eed51c90b86d7f55.jpg  \n",
            "  inflating: +_2863_640_640_label_ACCIDENT_DETECTION.v1i.yolov7pytorch/train/images/images_jpg.rf.1434df96acd3f6e951adb5c440731770.jpg  \n",
            "  inflating: __MACOSX/+_2863_640_640_label_ACCIDENT_DETECTION.v1i.yolov7pytorch/train/images/._images_jpg.rf.1434df96acd3f6e951adb5c440731770.jpg  \n",
            "  inflating: +_2863_640_640_label_ACCIDENT_DETECTION.v1i.yolov7pytorch/train/images/accidentFrame283_jpg.rf.d297b29c299a820bfdbeac2a7b087201.jpg  \n",
            "  inflating: __MACOSX/+_2863_640_640_label_ACCIDENT_DETECTION.v1i.yolov7pytorch/train/images/._accidentFrame283_jpg.rf.d297b29c299a820bfdbeac2a7b087201.jpg  \n",
            "  inflating: +_2863_640_640_label_ACCIDENT_DETECTION.v1i.yolov7pytorch/train/images/traffic_img1853_jpg.rf.81305de7a9f415ef61460053e98a0f12.jpg  \n",
            "  inflating: __MACOSX/+_2863_640_640_label_ACCIDENT_DETECTION.v1i.yolov7pytorch/train/images/._traffic_img1853_jpg.rf.81305de7a9f415ef61460053e98a0f12.jpg  \n",
            "  inflating: +_2863_640_640_label_ACCIDENT_DETECTION.v1i.yolov7pytorch/train/images/images-16_jpg.rf.14b2b2ecfe4b854fbd3709c9fab85b8d.jpg  \n",
            "  inflating: __MACOSX/+_2863_640_640_label_ACCIDENT_DETECTION.v1i.yolov7pytorch/train/images/._images-16_jpg.rf.14b2b2ecfe4b854fbd3709c9fab85b8d.jpg  \n",
            "  inflating: +_2863_640_640_label_ACCIDENT_DETECTION.v1i.yolov7pytorch/train/images/severityV4_2_jpg.rf.defcd689665182355cb47b97121a6285.jpg  \n",
            "  inflating: __MACOSX/+_2863_640_640_label_ACCIDENT_DETECTION.v1i.yolov7pytorch/train/images/._severityV4_2_jpg.rf.defcd689665182355cb47b97121a6285.jpg  \n",
            "  inflating: +_2863_640_640_label_ACCIDENT_DETECTION.v1i.yolov7pytorch/train/images/1-44_jpg.rf.9361540684d117300cbf5b8f8012b114.jpg  \n",
            "  inflating: __MACOSX/+_2863_640_640_label_ACCIDENT_DETECTION.v1i.yolov7pytorch/train/images/._1-44_jpg.rf.9361540684d117300cbf5b8f8012b114.jpg  \n",
            "  inflating: +_2863_640_640_label_ACCIDENT_DETECTION.v1i.yolov7pytorch/train/images/download-1_jpg.rf.a419a64d230685a165df1a9ab4da5353.jpg  \n",
            "  inflating: __MACOSX/+_2863_640_640_label_ACCIDENT_DETECTION.v1i.yolov7pytorch/train/images/._download-1_jpg.rf.a419a64d230685a165df1a9ab4da5353.jpg  \n",
            "  inflating: +_2863_640_640_label_ACCIDENT_DETECTION.v1i.yolov7pytorch/train/images/images-8_jpg.rf.1258db07e90b8c1327b30490a0815e10.jpg  \n",
            "  inflating: __MACOSX/+_2863_640_640_label_ACCIDENT_DETECTION.v1i.yolov7pytorch/train/images/._images-8_jpg.rf.1258db07e90b8c1327b30490a0815e10.jpg  \n",
            "  inflating: +_2863_640_640_label_ACCIDENT_DETECTION.v1i.yolov7pytorch/train/images/FLIP_CAR_V147_jpg.rf.dd518af067ae5308e16319e434fa74ae.jpg  \n",
            "  inflating: __MACOSX/+_2863_640_640_label_ACCIDENT_DETECTION.v1i.yolov7pytorch/train/images/._FLIP_CAR_V147_jpg.rf.dd518af067ae5308e16319e434fa74ae.jpg  \n",
            "  inflating: +_2863_640_640_label_ACCIDENT_DETECTION.v1i.yolov7pytorch/train/images/images_jpg.rf.8dbf487a127b03907f3124644edbaac4.jpg  \n",
            "  inflating: __MACOSX/+_2863_640_640_label_ACCIDENT_DETECTION.v1i.yolov7pytorch/train/images/._images_jpg.rf.8dbf487a127b03907f3124644edbaac4.jpg  \n",
            "  inflating: +_2863_640_640_label_ACCIDENT_DETECTION.v1i.yolov7pytorch/train/images/traffic_img425_jpg.rf.c4aa1d004805c6ecc5928101c166ffd7.jpg  \n",
            "  inflating: __MACOSX/+_2863_640_640_label_ACCIDENT_DETECTION.v1i.yolov7pytorch/train/images/._traffic_img425_jpg.rf.c4aa1d004805c6ecc5928101c166ffd7.jpg  \n",
            "  inflating: +_2863_640_640_label_ACCIDENT_DETECTION.v1i.yolov7pytorch/train/images/screen_images6_png_jpg.rf.f59ecdd13b64dfdd9e0fe3455639f6e7.jpg  \n",
            "  inflating: __MACOSX/+_2863_640_640_label_ACCIDENT_DETECTION.v1i.yolov7pytorch/train/images/._screen_images6_png_jpg.rf.f59ecdd13b64dfdd9e0fe3455639f6e7.jpg  \n",
            "  inflating: +_2863_640_640_label_ACCIDENT_DETECTION.v1i.yolov7pytorch/train/images/severityV2_23_jpg.rf.e0225f7ab76585372bda421addb2113c.jpg  \n",
            "  inflating: __MACOSX/+_2863_640_640_label_ACCIDENT_DETECTION.v1i.yolov7pytorch/train/images/._severityV2_23_jpg.rf.e0225f7ab76585372bda421addb2113c.jpg  \n",
            "  inflating: +_2863_640_640_label_ACCIDENT_DETECTION.v1i.yolov7pytorch/train/images/images-3_jpg.rf.8416588944bb2ba65a7e3ec2441e2854.jpg  \n",
            "  inflating: __MACOSX/+_2863_640_640_label_ACCIDENT_DETECTION.v1i.yolov7pytorch/train/images/._images-3_jpg.rf.8416588944bb2ba65a7e3ec2441e2854.jpg  \n",
            "  inflating: +_2863_640_640_label_ACCIDENT_DETECTION.v1i.yolov7pytorch/train/images/images-6_jpg.rf.18e8d9155825fa86b173d7decea53df6.jpg  \n",
            "  inflating: __MACOSX/+_2863_640_640_label_ACCIDENT_DETECTION.v1i.yolov7pytorch/train/images/._images-6_jpg.rf.18e8d9155825fa86b173d7decea53df6.jpg  \n",
            "  inflating: +_2863_640_640_label_ACCIDENT_DETECTION.v1i.yolov7pytorch/train/images/traffic_img72_jpg.rf.e81a78583f3e6acdda5ffb53ea43c20f.jpg  \n",
            "  inflating: __MACOSX/+_2863_640_640_label_ACCIDENT_DETECTION.v1i.yolov7pytorch/train/images/._traffic_img72_jpg.rf.e81a78583f3e6acdda5ffb53ea43c20f.jpg  \n",
            "  inflating: +_2863_640_640_label_ACCIDENT_DETECTION.v1i.yolov7pytorch/train/images/Severity_Detect_V27_jpg.rf.f29aee055dad4c9167a60cecc17a2017.jpg  \n",
            "  inflating: __MACOSX/+_2863_640_640_label_ACCIDENT_DETECTION.v1i.yolov7pytorch/train/images/._Severity_Detect_V27_jpg.rf.f29aee055dad4c9167a60cecc17a2017.jpg  \n",
            "  inflating: +_2863_640_640_label_ACCIDENT_DETECTION.v1i.yolov7pytorch/train/images/images-1_jpg.rf.27281a9eade880f08f67c4bf7abb8a54.jpg  \n",
            "  inflating: __MACOSX/+_2863_640_640_label_ACCIDENT_DETECTION.v1i.yolov7pytorch/train/images/._images-1_jpg.rf.27281a9eade880f08f67c4bf7abb8a54.jpg  \n",
            "  inflating: +_2863_640_640_label_ACCIDENT_DETECTION.v1i.yolov7pytorch/train/images/Semi-RealisticVD-214_jpg.rf.e4cd59860df58b3e734290d5d3a1fd82.jpg  \n",
            "  inflating: __MACOSX/+_2863_640_640_label_ACCIDENT_DETECTION.v1i.yolov7pytorch/train/images/._Semi-RealisticVD-214_jpg.rf.e4cd59860df58b3e734290d5d3a1fd82.jpg  \n",
            "  inflating: +_2863_640_640_label_ACCIDENT_DETECTION.v1i.yolov7pytorch/train/images/severityV2_10_jpg.rf.c2c48b070d6d7c118500449f1b028059.jpg  \n",
            "  inflating: __MACOSX/+_2863_640_640_label_ACCIDENT_DETECTION.v1i.yolov7pytorch/train/images/._severityV2_10_jpg.rf.c2c48b070d6d7c118500449f1b028059.jpg  \n",
            "  inflating: +_2863_640_640_label_ACCIDENT_DETECTION.v1i.yolov7pytorch/train/images/images-1_jpg.rf.cf8c33b677698071fb986d1908e5dd93.jpg  \n",
            "  inflating: __MACOSX/+_2863_640_640_label_ACCIDENT_DETECTION.v1i.yolov7pytorch/train/images/._images-1_jpg.rf.cf8c33b677698071fb986d1908e5dd93.jpg  \n",
            "  inflating: +_2863_640_640_label_ACCIDENT_DETECTION.v1i.yolov7pytorch/train/images/maxresdefaul11t_jpg.rf.e58ae54a6c4b9bd7dd32d4f295e2503e.jpg  \n",
            "  inflating: __MACOSX/+_2863_640_640_label_ACCIDENT_DETECTION.v1i.yolov7pytorch/train/images/._maxresdefaul11t_jpg.rf.e58ae54a6c4b9bd7dd32d4f295e2503e.jpg  \n",
            "  inflating: +_2863_640_640_label_ACCIDENT_DETECTION.v1i.yolov7pytorch/train/images/traffic_img1807_jpg.rf.6136f74248922b43645152a8e8e9b107.jpg  \n",
            "  inflating: __MACOSX/+_2863_640_640_label_ACCIDENT_DETECTION.v1i.yolov7pytorch/train/images/._traffic_img1807_jpg.rf.6136f74248922b43645152a8e8e9b107.jpg  \n",
            "  inflating: +_2863_640_640_label_ACCIDENT_DETECTION.v1i.yolov7pytorch/train/images/traffic_img1838_jpg.rf.d24cb217f417df1ab6832846b939b54c.jpg  \n",
            "  inflating: __MACOSX/+_2863_640_640_label_ACCIDENT_DETECTION.v1i.yolov7pytorch/train/images/._traffic_img1838_jpg.rf.d24cb217f417df1ab6832846b939b54c.jpg  \n",
            "  inflating: +_2863_640_640_label_ACCIDENT_DETECTION.v1i.yolov7pytorch/train/images/severityV4_61_jpg.rf.dbb3c31ba6fe428e9a5c8c2ba044c9e6.jpg  \n",
            "  inflating: __MACOSX/+_2863_640_640_label_ACCIDENT_DETECTION.v1i.yolov7pytorch/train/images/._severityV4_61_jpg.rf.dbb3c31ba6fe428e9a5c8c2ba044c9e6.jpg  \n",
            "  inflating: +_2863_640_640_label_ACCIDENT_DETECTION.v1i.yolov7pytorch/train/images/accidentFrame132_jpg.rf.dd09238941ade55d76f83e9b4dc8701a.jpg  \n",
            "  inflating: __MACOSX/+_2863_640_640_label_ACCIDENT_DETECTION.v1i.yolov7pytorch/train/images/._accidentFrame132_jpg.rf.dd09238941ade55d76f83e9b4dc8701a.jpg  \n",
            "  inflating: +_2863_640_640_label_ACCIDENT_DETECTION.v1i.yolov7pytorch/train/images/traffic_img62_jpg.rf.112c589bb3ee4e506fa8fba92ba96764.jpg  \n",
            "  inflating: __MACOSX/+_2863_640_640_label_ACCIDENT_DETECTION.v1i.yolov7pytorch/train/images/._traffic_img62_jpg.rf.112c589bb3ee4e506fa8fba92ba96764.jpg  \n",
            "  inflating: +_2863_640_640_label_ACCIDENT_DETECTION.v1i.yolov7pytorch/train/images/images-7_jpg.rf.ec2873d271e99147a4f3e2fee19d7de1.jpg  \n",
            "  inflating: __MACOSX/+_2863_640_640_label_ACCIDENT_DETECTION.v1i.yolov7pytorch/train/images/._images-7_jpg.rf.ec2873d271e99147a4f3e2fee19d7de1.jpg  \n",
            "  inflating: +_2863_640_640_label_ACCIDENT_DETECTION.v1i.yolov7pytorch/train/images/Severity_Detect_V6_jpg.rf.738e2ea3e3b63db208cea67efed2fe82.jpg  \n",
            "  inflating: __MACOSX/+_2863_640_640_label_ACCIDENT_DETECTION.v1i.yolov7pytorch/train/images/._Severity_Detect_V6_jpg.rf.738e2ea3e3b63db208cea67efed2fe82.jpg  \n",
            "  inflating: +_2863_640_640_label_ACCIDENT_DETECTION.v1i.yolov7pytorch/train/images/Severity_Detect_V21_jpg.rf.cf224bc52e75c44f1ed72db36dc2445b.jpg  \n",
            "  inflating: __MACOSX/+_2863_640_640_label_ACCIDENT_DETECTION.v1i.yolov7pytorch/train/images/._Severity_Detect_V21_jpg.rf.cf224bc52e75c44f1ed72db36dc2445b.jpg  \n",
            "  inflating: +_2863_640_640_label_ACCIDENT_DETECTION.v1i.yolov7pytorch/train/images/images-9_jpg.rf.ce66e0b84d3d93b4ad6b65543e429b54.jpg  \n",
            "  inflating: __MACOSX/+_2863_640_640_label_ACCIDENT_DETECTION.v1i.yolov7pytorch/train/images/._images-9_jpg.rf.ce66e0b84d3d93b4ad6b65543e429b54.jpg  \n",
            "  inflating: +_2863_640_640_label_ACCIDENT_DETECTION.v1i.yolov7pytorch/train/images/severityV3_8_jpeg_jpg.rf.a210be31a61e2c87f932d63029f0920a.jpg  \n",
            "  inflating: __MACOSX/+_2863_640_640_label_ACCIDENT_DETECTION.v1i.yolov7pytorch/train/images/._severityV3_8_jpeg_jpg.rf.a210be31a61e2c87f932d63029f0920a.jpg  \n",
            "  inflating: +_2863_640_640_label_ACCIDENT_DETECTION.v1i.yolov7pytorch/train/images/Semi-RealisticVD-187_jpg.rf.e11b2df6236160eca6b3ef710d0c61af.jpg  \n",
            "  inflating: __MACOSX/+_2863_640_640_label_ACCIDENT_DETECTION.v1i.yolov7pytorch/train/images/._Semi-RealisticVD-187_jpg.rf.e11b2df6236160eca6b3ef710d0c61af.jpg  \n",
            "  inflating: +_2863_640_640_label_ACCIDENT_DETECTION.v1i.yolov7pytorch/train/images/severV16_jpg.rf.7179222f7ecf66d89b7f8fbd62086ebd.jpg  \n",
            "  inflating: __MACOSX/+_2863_640_640_label_ACCIDENT_DETECTION.v1i.yolov7pytorch/train/images/._severV16_jpg.rf.7179222f7ecf66d89b7f8fbd62086ebd.jpg  \n",
            "  inflating: +_2863_640_640_label_ACCIDENT_DETECTION.v1i.yolov7pytorch/train/images/sev11_jpg.rf.eb5dfb7aa7a66b88b3398402c5b55ae5.jpg  \n",
            "  inflating: __MACOSX/+_2863_640_640_label_ACCIDENT_DETECTION.v1i.yolov7pytorch/train/images/._sev11_jpg.rf.eb5dfb7aa7a66b88b3398402c5b55ae5.jpg  \n",
            "  inflating: +_2863_640_640_label_ACCIDENT_DETECTION.v1i.yolov7pytorch/train/images/screen_images3_png_jpg.rf.be6eb7f6df41e18d4200dfb6b55e47e6.jpg  \n",
            "  inflating: __MACOSX/+_2863_640_640_label_ACCIDENT_DETECTION.v1i.yolov7pytorch/train/images/._screen_images3_png_jpg.rf.be6eb7f6df41e18d4200dfb6b55e47e6.jpg  \n",
            "  inflating: +_2863_640_640_label_ACCIDENT_DETECTION.v1i.yolov7pytorch/train/images/1092_jpeg_jpg.rf.d8537c2abbe719a19f1ab2a370d979d6.jpg  \n",
            "  inflating: __MACOSX/+_2863_640_640_label_ACCIDENT_DETECTION.v1i.yolov7pytorch/train/images/._1092_jpeg_jpg.rf.d8537c2abbe719a19f1ab2a370d979d6.jpg  \n",
            "  inflating: +_2863_640_640_label_ACCIDENT_DETECTION.v1i.yolov7pytorch/train/images/Screen-Shot-2022-04-05-at-2-11-24-AM_png_jpg.rf.c059cf1e89d82bcb9711f52e33a24006.jpg  \n",
            "  inflating: __MACOSX/+_2863_640_640_label_ACCIDENT_DETECTION.v1i.yolov7pytorch/train/images/._Screen-Shot-2022-04-05-at-2-11-24-AM_png_jpg.rf.c059cf1e89d82bcb9711f52e33a24006.jpg  \n",
            "  inflating: +_2863_640_640_label_ACCIDENT_DETECTION.v1i.yolov7pytorch/train/images/2-8_jpg.rf.9414cedde244f9249f4a58fcfb57bfd7.jpg  \n",
            "  inflating: __MACOSX/+_2863_640_640_label_ACCIDENT_DETECTION.v1i.yolov7pytorch/train/images/._2-8_jpg.rf.9414cedde244f9249f4a58fcfb57bfd7.jpg  \n",
            "  inflating: +_2863_640_640_label_ACCIDENT_DETECTION.v1i.yolov7pytorch/train/images/images-23_jpg.rf.cb319edf03bf93876fc8efba4f6a426a.jpg  \n",
            "  inflating: __MACOSX/+_2863_640_640_label_ACCIDENT_DETECTION.v1i.yolov7pytorch/train/images/._images-23_jpg.rf.cb319edf03bf93876fc8efba4f6a426a.jpg  \n",
            "  inflating: +_2863_640_640_label_ACCIDENT_DETECTION.v1i.yolov7pytorch/train/images/Severity_Detect_V12_jpg.rf.effd246c731b03a38225a01b74c7c8ff.jpg  \n",
            "  inflating: __MACOSX/+_2863_640_640_label_ACCIDENT_DETECTION.v1i.yolov7pytorch/train/images/._Severity_Detect_V12_jpg.rf.effd246c731b03a38225a01b74c7c8ff.jpg  \n",
            "  inflating: +_2863_640_640_label_ACCIDENT_DETECTION.v1i.yolov7pytorch/train/images/images_jpg.rf.f60a069733eac8320f7b72adfac6f665.jpg  \n",
            "  inflating: __MACOSX/+_2863_640_640_label_ACCIDENT_DETECTION.v1i.yolov7pytorch/train/images/._images_jpg.rf.f60a069733eac8320f7b72adfac6f665.jpg  \n",
            "  inflating: +_2863_640_640_label_ACCIDENT_DETECTION.v1i.yolov7pytorch/train/images/severityV4_29_jpg.rf.c6c20bdd54d786a06f114c30e24ae63d.jpg  \n",
            "  inflating: __MACOSX/+_2863_640_640_label_ACCIDENT_DETECTION.v1i.yolov7pytorch/train/images/._severityV4_29_jpg.rf.c6c20bdd54d786a06f114c30e24ae63d.jpg  \n",
            "  inflating: +_2863_640_640_label_ACCIDENT_DETECTION.v1i.yolov7pytorch/train/images/images-22_jpg.rf.bc9f95fd3506bda1019e6cba247b9a29.jpg  \n",
            "  inflating: __MACOSX/+_2863_640_640_label_ACCIDENT_DETECTION.v1i.yolov7pytorch/train/images/._images-22_jpg.rf.bc9f95fd3506bda1019e6cba247b9a29.jpg  \n",
            "  inflating: +_2863_640_640_label_ACCIDENT_DETECTION.v1i.yolov7pytorch/train/images/traffic_img9_jpg.rf.b99d4804de036340d2649d35acec402c.jpg  \n",
            "  inflating: __MACOSX/+_2863_640_640_label_ACCIDENT_DETECTION.v1i.yolov7pytorch/train/images/._traffic_img9_jpg.rf.b99d4804de036340d2649d35acec402c.jpg  \n",
            "  inflating: +_2863_640_640_label_ACCIDENT_DETECTION.v1i.yolov7pytorch/train/images/images-36_jpg.rf.29246f7b7d9f3e9ba77a95c7d0254610.jpg  \n",
            "  inflating: __MACOSX/+_2863_640_640_label_ACCIDENT_DETECTION.v1i.yolov7pytorch/train/images/._images-36_jpg.rf.29246f7b7d9f3e9ba77a95c7d0254610.jpg  \n",
            "  inflating: +_2863_640_640_label_ACCIDENT_DETECTION.v1i.yolov7pytorch/train/images/severity_V125_jpg.rf.b7c94222c373bc2a5e2f1ebc88e0e1b3.jpg  \n",
            "  inflating: __MACOSX/+_2863_640_640_label_ACCIDENT_DETECTION.v1i.yolov7pytorch/train/images/._severity_V125_jpg.rf.b7c94222c373bc2a5e2f1ebc88e0e1b3.jpg  \n",
            "  inflating: +_2863_640_640_label_ACCIDENT_DETECTION.v1i.yolov7pytorch/train/images/14-29_jpg.rf.ab50a5e14109773acb2805dc4d46208f.jpg  \n",
            "  inflating: __MACOSX/+_2863_640_640_label_ACCIDENT_DETECTION.v1i.yolov7pytorch/train/images/._14-29_jpg.rf.ab50a5e14109773acb2805dc4d46208f.jpg  \n",
            "  inflating: +_2863_640_640_label_ACCIDENT_DETECTION.v1i.yolov7pytorch/train/images/accidentFrame3424_jpg.rf.400e32489e31c3430e6eabc7b5f0073c.jpg  \n",
            "  inflating: __MACOSX/+_2863_640_640_label_ACCIDENT_DETECTION.v1i.yolov7pytorch/train/images/._accidentFrame3424_jpg.rf.400e32489e31c3430e6eabc7b5f0073c.jpg  \n",
            "  inflating: +_2863_640_640_label_ACCIDENT_DETECTION.v1i.yolov7pytorch/train/images/traffic_img805_jpg.rf.f9e2ab1eb351380a6ec6e95b64c2cf82.jpg  \n",
            "  inflating: __MACOSX/+_2863_640_640_label_ACCIDENT_DETECTION.v1i.yolov7pytorch/train/images/._traffic_img805_jpg.rf.f9e2ab1eb351380a6ec6e95b64c2cf82.jpg  \n",
            "  inflating: +_2863_640_640_label_ACCIDENT_DETECTION.v1i.yolov7pytorch/train/images/images-35_jpg.rf.ece16f52dff31a9999fdfd9cab66daf8.jpg  \n",
            "  inflating: __MACOSX/+_2863_640_640_label_ACCIDENT_DETECTION.v1i.yolov7pytorch/train/images/._images-35_jpg.rf.ece16f52dff31a9999fdfd9cab66daf8.jpg  \n",
            "  inflating: +_2863_640_640_label_ACCIDENT_DETECTION.v1i.yolov7pytorch/train/images/severity_V122_jpg.rf.071ba9c868e7829c16b2fbcdc03d77d1.jpg  \n",
            "  inflating: __MACOSX/+_2863_640_640_label_ACCIDENT_DETECTION.v1i.yolov7pytorch/train/images/._severity_V122_jpg.rf.071ba9c868e7829c16b2fbcdc03d77d1.jpg  \n",
            "  inflating: +_2863_640_640_label_ACCIDENT_DETECTION.v1i.yolov7pytorch/train/images/traffic_img7_jpg.rf.a475c333f73aa598d98a7ccf6db03226.jpg  \n",
            "  inflating: __MACOSX/+_2863_640_640_label_ACCIDENT_DETECTION.v1i.yolov7pytorch/train/images/._traffic_img7_jpg.rf.a475c333f73aa598d98a7ccf6db03226.jpg  \n",
            "  inflating: +_2863_640_640_label_ACCIDENT_DETECTION.v1i.yolov7pytorch/train/images/traffic_img1552_jpg.rf.0956f33aca44c39cc7a9c3a595d499d8.jpg  \n",
            "  inflating: __MACOSX/+_2863_640_640_label_ACCIDENT_DETECTION.v1i.yolov7pytorch/train/images/._traffic_img1552_jpg.rf.0956f33aca44c39cc7a9c3a595d499d8.jpg  \n",
            "  inflating: +_2863_640_640_label_ACCIDENT_DETECTION.v1i.yolov7pytorch/train/images/images-16_jpg.rf.86ffe8fefee6bbc179fbb28a2496642a.jpg  \n",
            "  inflating: __MACOSX/+_2863_640_640_label_ACCIDENT_DETECTION.v1i.yolov7pytorch/train/images/._images-16_jpg.rf.86ffe8fefee6bbc179fbb28a2496642a.jpg  \n",
            "  inflating: +_2863_640_640_label_ACCIDENT_DETECTION.v1i.yolov7pytorch/train/images/accidentFrame2981_jpg.rf.b822b5aa9c6a4faa2bde20b705733813.jpg  \n",
            "  inflating: __MACOSX/+_2863_640_640_label_ACCIDENT_DETECTION.v1i.yolov7pytorch/train/images/._accidentFrame2981_jpg.rf.b822b5aa9c6a4faa2bde20b705733813.jpg  \n",
            "  inflating: +_2863_640_640_label_ACCIDENT_DETECTION.v1i.yolov7pytorch/train/images/severityV4_30_jpg.rf.e4166ebd2015d31c1569d88160b90bfe.jpg  \n",
            "  inflating: __MACOSX/+_2863_640_640_label_ACCIDENT_DETECTION.v1i.yolov7pytorch/train/images/._severityV4_30_jpg.rf.e4166ebd2015d31c1569d88160b90bfe.jpg  \n",
            "  inflating: +_2863_640_640_label_ACCIDENT_DETECTION.v1i.yolov7pytorch/train/images/download-2_jpg.rf.514d2fef870f2ad67ccdeeac680d992c.jpg  \n",
            "  inflating: __MACOSX/+_2863_640_640_label_ACCIDENT_DETECTION.v1i.yolov7pytorch/train/images/._download-2_jpg.rf.514d2fef870f2ad67ccdeeac680d992c.jpg  \n",
            "  inflating: +_2863_640_640_label_ACCIDENT_DETECTION.v1i.yolov7pytorch/train/images/traffic_img71_jpg.rf.e601ee11229dff2b7c6f044c156d7dd4.jpg  \n",
            "  inflating: __MACOSX/+_2863_640_640_label_ACCIDENT_DETECTION.v1i.yolov7pytorch/train/images/._traffic_img71_jpg.rf.e601ee11229dff2b7c6f044c156d7dd4.jpg  \n",
            "  inflating: +_2863_640_640_label_ACCIDENT_DETECTION.v1i.yolov7pytorch/train/images/accidentFrame269_jpg.rf.b105605cc754df4d3fa9c73b2f2295e6.jpg  \n",
            "  inflating: __MACOSX/+_2863_640_640_label_ACCIDENT_DETECTION.v1i.yolov7pytorch/train/images/._accidentFrame269_jpg.rf.b105605cc754df4d3fa9c73b2f2295e6.jpg  \n",
            "  inflating: +_2863_640_640_label_ACCIDENT_DETECTION.v1i.yolov7pytorch/train/images/new_SD6_jpg.rf.8977e05e410bf9bddf3ff24ad225fa8a.jpg  \n",
            "  inflating: __MACOSX/+_2863_640_640_label_ACCIDENT_DETECTION.v1i.yolov7pytorch/train/images/._new_SD6_jpg.rf.8977e05e410bf9bddf3ff24ad225fa8a.jpg  \n",
            "  inflating: +_2863_640_640_label_ACCIDENT_DETECTION.v1i.yolov7pytorch/train/images/images-2020-08-13T213923-287_jpg.rf.60df08257dc4bb449b80b8b3dd3480dd.jpg  \n",
            "  inflating: __MACOSX/+_2863_640_640_label_ACCIDENT_DETECTION.v1i.yolov7pytorch/train/images/._images-2020-08-13T213923-287_jpg.rf.60df08257dc4bb449b80b8b3dd3480dd.jpg  \n",
            "  inflating: +_2863_640_640_label_ACCIDENT_DETECTION.v1i.yolov7pytorch/train/images/839_jpeg_jpg.rf.d4881a8c850e07b3178e8197dfa1958d.jpg  \n",
            "  inflating: __MACOSX/+_2863_640_640_label_ACCIDENT_DETECTION.v1i.yolov7pytorch/train/images/._839_jpeg_jpg.rf.d4881a8c850e07b3178e8197dfa1958d.jpg  \n",
            "  inflating: +_2863_640_640_label_ACCIDENT_DETECTION.v1i.yolov7pytorch/train/images/accidentFrame2753_jpg.rf.d2bcb9b1423f7acc73c92ca708421a06.jpg  \n",
            "  inflating: __MACOSX/+_2863_640_640_label_ACCIDENT_DETECTION.v1i.yolov7pytorch/train/images/._accidentFrame2753_jpg.rf.d2bcb9b1423f7acc73c92ca708421a06.jpg  \n",
            "  inflating: +_2863_640_640_label_ACCIDENT_DETECTION.v1i.yolov7pytorch/train/images/accidentFrame2742_jpg.rf.b2f8e03fcb5d38cbf1da1f76930d1fbc.jpg  \n",
            "  inflating: __MACOSX/+_2863_640_640_label_ACCIDENT_DETECTION.v1i.yolov7pytorch/train/images/._accidentFrame2742_jpg.rf.b2f8e03fcb5d38cbf1da1f76930d1fbc.jpg  \n",
            "  inflating: +_2863_640_640_label_ACCIDENT_DETECTION.v1i.yolov7pytorch/train/images/images_jpg.rf.a347f1eda6748f55681843c8afa942c2.jpg  \n",
            "  inflating: __MACOSX/+_2863_640_640_label_ACCIDENT_DETECTION.v1i.yolov7pytorch/train/images/._images_jpg.rf.a347f1eda6748f55681843c8afa942c2.jpg  \n",
            "  inflating: +_2863_640_640_label_ACCIDENT_DETECTION.v1i.yolov7pytorch/train/images/AD1_jpeg_jpg.rf.19e78706c4a282e11b38b1d31f57fcbd.jpg  \n",
            "  inflating: __MACOSX/+_2863_640_640_label_ACCIDENT_DETECTION.v1i.yolov7pytorch/train/images/._AD1_jpeg_jpg.rf.19e78706c4a282e11b38b1d31f57fcbd.jpg  \n",
            "  inflating: +_2863_640_640_label_ACCIDENT_DETECTION.v1i.yolov7pytorch/train/images/images-26_jpg.rf.46cd93073f8b9ae55a5680669834b0b4.jpg  \n",
            "  inflating: __MACOSX/+_2863_640_640_label_ACCIDENT_DETECTION.v1i.yolov7pytorch/train/images/._images-26_jpg.rf.46cd93073f8b9ae55a5680669834b0b4.jpg  \n",
            "  inflating: +_2863_640_640_label_ACCIDENT_DETECTION.v1i.yolov7pytorch/train/images/FLIP_CAR_V129_jpg.rf.ba84b7df858c896aad120dad1f86d9c2.jpg  \n",
            "  inflating: __MACOSX/+_2863_640_640_label_ACCIDENT_DETECTION.v1i.yolov7pytorch/train/images/._FLIP_CAR_V129_jpg.rf.ba84b7df858c896aad120dad1f86d9c2.jpg  \n",
            "  inflating: +_2863_640_640_label_ACCIDENT_DETECTION.v1i.yolov7pytorch/train/images/images-2020-08-13T213919-517_jpg.rf.af5d36f458ca1248110c58458d802eb3.jpg  \n",
            "  inflating: __MACOSX/+_2863_640_640_label_ACCIDENT_DETECTION.v1i.yolov7pytorch/train/images/._images-2020-08-13T213919-517_jpg.rf.af5d36f458ca1248110c58458d802eb3.jpg  \n",
            "  inflating: +_2863_640_640_label_ACCIDENT_DETECTION.v1i.yolov7pytorch/train/images/images-11_jpg.rf.34bb7bb892c4bcfbba6046a195a7df0e.jpg  \n",
            "  inflating: __MACOSX/+_2863_640_640_label_ACCIDENT_DETECTION.v1i.yolov7pytorch/train/images/._images-11_jpg.rf.34bb7bb892c4bcfbba6046a195a7df0e.jpg  \n",
            "  inflating: +_2863_640_640_label_ACCIDENT_DETECTION.v1i.yolov7pytorch/train/images/Severity_Detect_V2_jpg.rf.7665c93f51d98fe819ccc724ff8f0943.jpg  \n",
            "  inflating: __MACOSX/+_2863_640_640_label_ACCIDENT_DETECTION.v1i.yolov7pytorch/train/images/._Severity_Detect_V2_jpg.rf.7665c93f51d98fe819ccc724ff8f0943.jpg  \n",
            "  inflating: +_2863_640_640_label_ACCIDENT_DETECTION.v1i.yolov7pytorch/train/images/FLIP_CAR_V122_jpg.rf.f007cedb10b89bd1702c5818a1400832.jpg  \n",
            "  inflating: __MACOSX/+_2863_640_640_label_ACCIDENT_DETECTION.v1i.yolov7pytorch/train/images/._FLIP_CAR_V122_jpg.rf.f007cedb10b89bd1702c5818a1400832.jpg  \n",
            "  inflating: +_2863_640_640_label_ACCIDENT_DETECTION.v1i.yolov7pytorch/train/images/sever6_jpg.rf.d8685a7613d9cbbb2d0b05f3fe93b653.jpg  \n",
            "  inflating: __MACOSX/+_2863_640_640_label_ACCIDENT_DETECTION.v1i.yolov7pytorch/train/images/._sever6_jpg.rf.d8685a7613d9cbbb2d0b05f3fe93b653.jpg  \n",
            "  inflating: +_2863_640_640_label_ACCIDENT_DETECTION.v1i.yolov7pytorch/train/images/images-38_jpg.rf.a9afe7171d23d3dd4d1b7d598d866966.jpg  \n",
            "  inflating: __MACOSX/+_2863_640_640_label_ACCIDENT_DETECTION.v1i.yolov7pytorch/train/images/._images-38_jpg.rf.a9afe7171d23d3dd4d1b7d598d866966.jpg  \n",
            "  inflating: +_2863_640_640_label_ACCIDENT_DETECTION.v1i.yolov7pytorch/train/images/sever2_jpg.rf.f9e118c8a7c4020fd91fcec549f7f36c.jpg  \n",
            "  inflating: __MACOSX/+_2863_640_640_label_ACCIDENT_DETECTION.v1i.yolov7pytorch/train/images/._sever2_jpg.rf.f9e118c8a7c4020fd91fcec549f7f36c.jpg  \n",
            "  inflating: +_2863_640_640_label_ACCIDENT_DETECTION.v1i.yolov7pytorch/train/images/images-8_jpg.rf.59c5df42add15acfb452d857bbc43694.jpg  \n",
            "  inflating: __MACOSX/+_2863_640_640_label_ACCIDENT_DETECTION.v1i.yolov7pytorch/train/images/._images-8_jpg.rf.59c5df42add15acfb452d857bbc43694.jpg  \n",
            "  inflating: +_2863_640_640_label_ACCIDENT_DETECTION.v1i.yolov7pytorch/train/images/severityV4_25_jpg.rf.a71a4f23c5cca4e159f9dbc5213e4061.jpg  \n",
            "  inflating: __MACOSX/+_2863_640_640_label_ACCIDENT_DETECTION.v1i.yolov7pytorch/train/images/._severityV4_25_jpg.rf.a71a4f23c5cca4e159f9dbc5213e4061.jpg  \n",
            "  inflating: +_2863_640_640_label_ACCIDENT_DETECTION.v1i.yolov7pytorch/train/images/FLIP_CAR_V166_jpg.rf.acf086770c8490d4082c69f5db2f0aa4.jpg  \n",
            "  inflating: __MACOSX/+_2863_640_640_label_ACCIDENT_DETECTION.v1i.yolov7pytorch/train/images/._FLIP_CAR_V166_jpg.rf.acf086770c8490d4082c69f5db2f0aa4.jpg  \n",
            "  inflating: +_2863_640_640_label_ACCIDENT_DETECTION.v1i.yolov7pytorch/train/images/images-17_jpg.rf.164633ad52537996eef26b89e9eeb020.jpg  \n",
            "  inflating: __MACOSX/+_2863_640_640_label_ACCIDENT_DETECTION.v1i.yolov7pytorch/train/images/._images-17_jpg.rf.164633ad52537996eef26b89e9eeb020.jpg  \n",
            "  inflating: +_2863_640_640_label_ACCIDENT_DETECTION.v1i.yolov7pytorch/train/images/FLIP_CAR_V141_jpg.rf.c064ceb022873bbfc980a15c766d17ef.jpg  \n",
            "  inflating: __MACOSX/+_2863_640_640_label_ACCIDENT_DETECTION.v1i.yolov7pytorch/train/images/._FLIP_CAR_V141_jpg.rf.c064ceb022873bbfc980a15c766d17ef.jpg  \n",
            "  inflating: +_2863_640_640_label_ACCIDENT_DETECTION.v1i.yolov7pytorch/train/images/severityV4_83_jpg.rf.d1ea7ea22f90f5d8f032cfbfd8b53615.jpg  \n",
            "  inflating: __MACOSX/+_2863_640_640_label_ACCIDENT_DETECTION.v1i.yolov7pytorch/train/images/._severityV4_83_jpg.rf.d1ea7ea22f90f5d8f032cfbfd8b53615.jpg  \n",
            "  inflating: +_2863_640_640_label_ACCIDENT_DETECTION.v1i.yolov7pytorch/train/images/severityV3_40_jpeg_jpg.rf.56e1e35b7d663a2b0d39a0d9b3830a0b.jpg  \n",
            "  inflating: __MACOSX/+_2863_640_640_label_ACCIDENT_DETECTION.v1i.yolov7pytorch/train/images/._severityV3_40_jpeg_jpg.rf.56e1e35b7d663a2b0d39a0d9b3830a0b.jpg  \n",
            "  inflating: +_2863_640_640_label_ACCIDENT_DETECTION.v1i.yolov7pytorch/train/images/images-5_jpg.rf.bdfbcb148410b1e77c2d1d4a133e44ab.jpg  \n",
            "  inflating: __MACOSX/+_2863_640_640_label_ACCIDENT_DETECTION.v1i.yolov7pytorch/train/images/._images-5_jpg.rf.bdfbcb148410b1e77c2d1d4a133e44ab.jpg  \n",
            "  inflating: +_2863_640_640_label_ACCIDENT_DETECTION.v1i.yolov7pytorch/train/images/images-14_jpg.rf.b7c8ba6178db2ab0c42f51e396390433.jpg  \n",
            "  inflating: __MACOSX/+_2863_640_640_label_ACCIDENT_DETECTION.v1i.yolov7pytorch/train/images/._images-14_jpg.rf.b7c8ba6178db2ab0c42f51e396390433.jpg  \n",
            "  inflating: +_2863_640_640_label_ACCIDENT_DETECTION.v1i.yolov7pytorch/train/images/severityV2_34_jpg.rf.4715ff972a4eea46c9b408e163e08c7f.jpg  \n",
            "  inflating: __MACOSX/+_2863_640_640_label_ACCIDENT_DETECTION.v1i.yolov7pytorch/train/images/._severityV2_34_jpg.rf.4715ff972a4eea46c9b408e163e08c7f.jpg  \n",
            "  inflating: +_2863_640_640_label_ACCIDENT_DETECTION.v1i.yolov7pytorch/train/images/14-91_jpg.rf.f6cda6f817b6fc054f069b7fd28803a9.jpg  \n",
            "  inflating: __MACOSX/+_2863_640_640_label_ACCIDENT_DETECTION.v1i.yolov7pytorch/train/images/._14-91_jpg.rf.f6cda6f817b6fc054f069b7fd28803a9.jpg  \n",
            "  inflating: +_2863_640_640_label_ACCIDENT_DETECTION.v1i.yolov7pytorch/train/images/FLIP_CAR_V136_jpg.rf.af38267712df0aeaf50e26667f55ca33.jpg  \n",
            "  inflating: __MACOSX/+_2863_640_640_label_ACCIDENT_DETECTION.v1i.yolov7pytorch/train/images/._FLIP_CAR_V136_jpg.rf.af38267712df0aeaf50e26667f55ca33.jpg  \n",
            "  inflating: +_2863_640_640_label_ACCIDENT_DETECTION.v1i.yolov7pytorch/train/images/severityV3_13_jpeg_jpg.rf.e74b5b372ac8ded8313709db83c26485.jpg  \n",
            "  inflating: __MACOSX/+_2863_640_640_label_ACCIDENT_DETECTION.v1i.yolov7pytorch/train/images/._severityV3_13_jpeg_jpg.rf.e74b5b372ac8ded8313709db83c26485.jpg  \n",
            "  inflating: +_2863_640_640_label_ACCIDENT_DETECTION.v1i.yolov7pytorch/train/images/severV11_jpg.rf.a9de2743f68101d08dd580e21b25adfe.jpg  \n",
            "  inflating: __MACOSX/+_2863_640_640_label_ACCIDENT_DETECTION.v1i.yolov7pytorch/train/images/._severV11_jpg.rf.a9de2743f68101d08dd580e21b25adfe.jpg  \n",
            "  inflating: +_2863_640_640_label_ACCIDENT_DETECTION.v1i.yolov7pytorch/train/images/traffic_img1442_jpg.rf.e068d33bab981cf111afa7abb2f9bccb.jpg  \n",
            "  inflating: __MACOSX/+_2863_640_640_label_ACCIDENT_DETECTION.v1i.yolov7pytorch/train/images/._traffic_img1442_jpg.rf.e068d33bab981cf111afa7abb2f9bccb.jpg  \n",
            "  inflating: +_2863_640_640_label_ACCIDENT_DETECTION.v1i.yolov7pytorch/train/images/severityV3_20_jpeg_jpg.rf.8758231dffe7e2a9117ea067cb9b41f5.jpg  \n",
            "  inflating: __MACOSX/+_2863_640_640_label_ACCIDENT_DETECTION.v1i.yolov7pytorch/train/images/._severityV3_20_jpeg_jpg.rf.8758231dffe7e2a9117ea067cb9b41f5.jpg  \n",
            "  inflating: +_2863_640_640_label_ACCIDENT_DETECTION.v1i.yolov7pytorch/train/images/severityV2_32_jpg.rf.cc20e3bec1641e30d6007963ad668e0d.jpg  \n",
            "  inflating: __MACOSX/+_2863_640_640_label_ACCIDENT_DETECTION.v1i.yolov7pytorch/train/images/._severityV2_32_jpg.rf.cc20e3bec1641e30d6007963ad668e0d.jpg  \n",
            "  inflating: +_2863_640_640_label_ACCIDENT_DETECTION.v1i.yolov7pytorch/train/images/severityV4_12_jpg.rf.9a76f12beffbcae22241eb56d3aecd32.jpg  \n",
            "  inflating: __MACOSX/+_2863_640_640_label_ACCIDENT_DETECTION.v1i.yolov7pytorch/train/images/._severityV4_12_jpg.rf.9a76f12beffbcae22241eb56d3aecd32.jpg  \n",
            "  inflating: +_2863_640_640_label_ACCIDENT_DETECTION.v1i.yolov7pytorch/train/images/166_jpeg_jpg.rf.8c00e8e542fb1c01b24c2899e83c9aee.jpg  \n",
            "  inflating: __MACOSX/+_2863_640_640_label_ACCIDENT_DETECTION.v1i.yolov7pytorch/train/images/._166_jpeg_jpg.rf.8c00e8e542fb1c01b24c2899e83c9aee.jpg  \n",
            "  inflating: +_2863_640_640_label_ACCIDENT_DETECTION.v1i.yolov7pytorch/train/images/severe13_jpeg_jpg.rf.eb944197a85db683f85c164349996b33.jpg  \n",
            "  inflating: __MACOSX/+_2863_640_640_label_ACCIDENT_DETECTION.v1i.yolov7pytorch/train/images/._severe13_jpeg_jpg.rf.eb944197a85db683f85c164349996b33.jpg  \n",
            "  inflating: +_2863_640_640_label_ACCIDENT_DETECTION.v1i.yolov7pytorch/train/images/166_jpeg_jpg.rf.50ed8ec7b1e843f575353e62ca8909f4.jpg  \n",
            "  inflating: __MACOSX/+_2863_640_640_label_ACCIDENT_DETECTION.v1i.yolov7pytorch/train/images/._166_jpeg_jpg.rf.50ed8ec7b1e843f575353e62ca8909f4.jpg  \n",
            "  inflating: +_2863_640_640_label_ACCIDENT_DETECTION.v1i.yolov7pytorch/train/images/severityV4_65_jpg.rf.640b3a0a38add36bea76ea29ccaf33ae.jpg  \n",
            "  inflating: __MACOSX/+_2863_640_640_label_ACCIDENT_DETECTION.v1i.yolov7pytorch/train/images/._severityV4_65_jpg.rf.640b3a0a38add36bea76ea29ccaf33ae.jpg  \n",
            "  inflating: +_2863_640_640_label_ACCIDENT_DETECTION.v1i.yolov7pytorch/train/images/images-1_jpg.rf.8425baa590df84440db2d1104fdb33bc.jpg  \n",
            "  inflating: __MACOSX/+_2863_640_640_label_ACCIDENT_DETECTION.v1i.yolov7pytorch/train/images/._images-1_jpg.rf.8425baa590df84440db2d1104fdb33bc.jpg  \n",
            "  inflating: +_2863_640_640_label_ACCIDENT_DETECTION.v1i.yolov7pytorch/train/images/Severity_Detect_V14_jpg.rf.6090170a6278b47de3c5ed501041b0f1.jpg  \n",
            "  inflating: __MACOSX/+_2863_640_640_label_ACCIDENT_DETECTION.v1i.yolov7pytorch/train/images/._Severity_Detect_V14_jpg.rf.6090170a6278b47de3c5ed501041b0f1.jpg  \n",
            "  inflating: +_2863_640_640_label_ACCIDENT_DETECTION.v1i.yolov7pytorch/train/images/Semi-RealisticVD-157_jpg.rf.4863238fd71a4628683413fb0818a7ae.jpg  \n",
            "  inflating: __MACOSX/+_2863_640_640_label_ACCIDENT_DETECTION.v1i.yolov7pytorch/train/images/._Semi-RealisticVD-157_jpg.rf.4863238fd71a4628683413fb0818a7ae.jpg  \n",
            "  inflating: +_2863_640_640_label_ACCIDENT_DETECTION.v1i.yolov7pytorch/train/images/images-2_jpg.rf.844fa1847c576e332d95a27335719b66.jpg  \n",
            "  inflating: __MACOSX/+_2863_640_640_label_ACCIDENT_DETECTION.v1i.yolov7pytorch/train/images/._images-2_jpg.rf.844fa1847c576e332d95a27335719b66.jpg  \n",
            "  inflating: +_2863_640_640_label_ACCIDENT_DETECTION.v1i.yolov7pytorch/train/images/FLIP_CAR_V152_jpg.rf.edbd4ee511929f280948e3687ac93595.jpg  \n",
            "  inflating: __MACOSX/+_2863_640_640_label_ACCIDENT_DETECTION.v1i.yolov7pytorch/train/images/._FLIP_CAR_V152_jpg.rf.edbd4ee511929f280948e3687ac93595.jpg  \n",
            "  inflating: +_2863_640_640_label_ACCIDENT_DETECTION.v1i.yolov7pytorch/train/images/severityV4_77_jpg.rf.aecc81d67595388899e736cba3775879.jpg  \n",
            "  inflating: __MACOSX/+_2863_640_640_label_ACCIDENT_DETECTION.v1i.yolov7pytorch/train/images/._severityV4_77_jpg.rf.aecc81d67595388899e736cba3775879.jpg  \n",
            "  inflating: +_2863_640_640_label_ACCIDENT_DETECTION.v1i.yolov7pytorch/train/images/screen_images12_png_jpg.rf.e4996c91d9159be5422c6121f97c707d.jpg  \n",
            "  inflating: __MACOSX/+_2863_640_640_label_ACCIDENT_DETECTION.v1i.yolov7pytorch/train/images/._screen_images12_png_jpg.rf.e4996c91d9159be5422c6121f97c707d.jpg  \n",
            "  inflating: +_2863_640_640_label_ACCIDENT_DETECTION.v1i.yolov7pytorch/train/images/images-21_jpg.rf.ca183f5f64a8ce2b5c9c50727be8f285.jpg  \n",
            "  inflating: __MACOSX/+_2863_640_640_label_ACCIDENT_DETECTION.v1i.yolov7pytorch/train/images/._images-21_jpg.rf.ca183f5f64a8ce2b5c9c50727be8f285.jpg  \n",
            "  inflating: +_2863_640_640_label_ACCIDENT_DETECTION.v1i.yolov7pytorch/train/images/816_jpeg_jpg.rf.1198dc66cf6f2cbe06151a8bcc162715.jpg  \n",
            "  inflating: __MACOSX/+_2863_640_640_label_ACCIDENT_DETECTION.v1i.yolov7pytorch/train/images/._816_jpeg_jpg.rf.1198dc66cf6f2cbe06151a8bcc162715.jpg  \n",
            "  inflating: +_2863_640_640_label_ACCIDENT_DETECTION.v1i.yolov7pytorch/train/images/images_jpg.rf.ed5d2c80715758c100992d474c1a54d7.jpg  \n",
            "  inflating: __MACOSX/+_2863_640_640_label_ACCIDENT_DETECTION.v1i.yolov7pytorch/train/images/._images_jpg.rf.ed5d2c80715758c100992d474c1a54d7.jpg  \n",
            "  inflating: +_2863_640_640_label_ACCIDENT_DETECTION.v1i.yolov7pytorch/train/images/2-33_jpg.rf.698315683ff6d6d3bde098145f07ad05.jpg  \n",
            "  inflating: __MACOSX/+_2863_640_640_label_ACCIDENT_DETECTION.v1i.yolov7pytorch/train/images/._2-33_jpg.rf.698315683ff6d6d3bde098145f07ad05.jpg  \n",
            "  inflating: +_2863_640_640_label_ACCIDENT_DETECTION.v1i.yolov7pytorch/train/images/traffic_img2094_jpg.rf.3985598f71eb801cd77b7cc8510bf9e2.jpg  \n",
            "  inflating: __MACOSX/+_2863_640_640_label_ACCIDENT_DETECTION.v1i.yolov7pytorch/train/images/._traffic_img2094_jpg.rf.3985598f71eb801cd77b7cc8510bf9e2.jpg  \n",
            "  inflating: +_2863_640_640_label_ACCIDENT_DETECTION.v1i.yolov7pytorch/train/images/traffic_img51_jpg.rf.c6cd633400fc9cb57741fdbc11ec020f.jpg  \n",
            "  inflating: __MACOSX/+_2863_640_640_label_ACCIDENT_DETECTION.v1i.yolov7pytorch/train/images/._traffic_img51_jpg.rf.c6cd633400fc9cb57741fdbc11ec020f.jpg  \n",
            "  inflating: +_2863_640_640_label_ACCIDENT_DETECTION.v1i.yolov7pytorch/train/images/severityV4_81_jpg.rf.ee0f317dafc19ff33a3c278950cb3146.jpg  \n",
            "  inflating: __MACOSX/+_2863_640_640_label_ACCIDENT_DETECTION.v1i.yolov7pytorch/train/images/._severityV4_81_jpg.rf.ee0f317dafc19ff33a3c278950cb3146.jpg  \n",
            "  inflating: +_2863_640_640_label_ACCIDENT_DETECTION.v1i.yolov7pytorch/train/images/download-9_jpg.rf.4df7366461ee51641854cd574794bf0d.jpg  \n",
            "  inflating: __MACOSX/+_2863_640_640_label_ACCIDENT_DETECTION.v1i.yolov7pytorch/train/images/._download-9_jpg.rf.4df7366461ee51641854cd574794bf0d.jpg  \n",
            "  inflating: +_2863_640_640_label_ACCIDENT_DETECTION.v1i.yolov7pytorch/train/images/788_jpeg_jpg.rf.dbaa91c63b92726c5b2df23caeaad49a.jpg  \n",
            "  inflating: __MACOSX/+_2863_640_640_label_ACCIDENT_DETECTION.v1i.yolov7pytorch/train/images/._788_jpeg_jpg.rf.dbaa91c63b92726c5b2df23caeaad49a.jpg  \n",
            "  inflating: +_2863_640_640_label_ACCIDENT_DETECTION.v1i.yolov7pytorch/train/images/images-9_jpg.rf.d27aa9b10ada2083f1cb44d2daf22c0b.jpg  \n",
            "  inflating: __MACOSX/+_2863_640_640_label_ACCIDENT_DETECTION.v1i.yolov7pytorch/train/images/._images-9_jpg.rf.d27aa9b10ada2083f1cb44d2daf22c0b.jpg  \n",
            "  inflating: +_2863_640_640_label_ACCIDENT_DETECTION.v1i.yolov7pytorch/train/images/traffic_img476_jpg.rf.ebd747ba69377cee6fd43f904341c608.jpg  \n",
            "  inflating: __MACOSX/+_2863_640_640_label_ACCIDENT_DETECTION.v1i.yolov7pytorch/train/images/._traffic_img476_jpg.rf.ebd747ba69377cee6fd43f904341c608.jpg  \n",
            "  inflating: +_2863_640_640_label_ACCIDENT_DETECTION.v1i.yolov7pytorch/train/images/severityV4_52_jpg.rf.b41199946ae722142a527458bec3a460.jpg  \n",
            "  inflating: __MACOSX/+_2863_640_640_label_ACCIDENT_DETECTION.v1i.yolov7pytorch/train/images/._severityV4_52_jpg.rf.b41199946ae722142a527458bec3a460.jpg  \n",
            "  inflating: +_2863_640_640_label_ACCIDENT_DETECTION.v1i.yolov7pytorch/train/images/images-1_jpg.rf.38a446c8f4fab5051ca0f27d5f39e2ba.jpg  \n",
            "  inflating: __MACOSX/+_2863_640_640_label_ACCIDENT_DETECTION.v1i.yolov7pytorch/train/images/._images-1_jpg.rf.38a446c8f4fab5051ca0f27d5f39e2ba.jpg  \n",
            "  inflating: +_2863_640_640_label_ACCIDENT_DETECTION.v1i.yolov7pytorch/train/images/traffic_img456_jpg.rf.dc5e8afcde3484e014c346c48e60f302.jpg  \n",
            "  inflating: __MACOSX/+_2863_640_640_label_ACCIDENT_DETECTION.v1i.yolov7pytorch/train/images/._traffic_img456_jpg.rf.dc5e8afcde3484e014c346c48e60f302.jpg  \n",
            "  inflating: +_2863_640_640_label_ACCIDENT_DETECTION.v1i.yolov7pytorch/train/images/sev7_jpg.rf.53bfa63f0903fc3a347ab068e78f4071.jpg  \n",
            "  inflating: __MACOSX/+_2863_640_640_label_ACCIDENT_DETECTION.v1i.yolov7pytorch/train/images/._sev7_jpg.rf.53bfa63f0903fc3a347ab068e78f4071.jpg  \n",
            "  inflating: +_2863_640_640_label_ACCIDENT_DETECTION.v1i.yolov7pytorch/train/images/images-18_jpg.rf.d076f47d59dc2a201fc7339fdaa9d70a.jpg  \n",
            "  inflating: __MACOSX/+_2863_640_640_label_ACCIDENT_DETECTION.v1i.yolov7pytorch/train/images/._images-18_jpg.rf.d076f47d59dc2a201fc7339fdaa9d70a.jpg  \n",
            "  inflating: +_2863_640_640_label_ACCIDENT_DETECTION.v1i.yolov7pytorch/train/images/severityV3_24_jpeg_jpg.rf.dbd006d0ea811444f611a34190d5dab6.jpg  \n",
            "  inflating: __MACOSX/+_2863_640_640_label_ACCIDENT_DETECTION.v1i.yolov7pytorch/train/images/._severityV3_24_jpeg_jpg.rf.dbd006d0ea811444f611a34190d5dab6.jpg  \n",
            "  inflating: +_2863_640_640_label_ACCIDENT_DETECTION.v1i.yolov7pytorch/train/images/severity_V129_jpg.rf.f6195acd5b677d6c74563e82cbea4168.jpg  \n",
            "  inflating: __MACOSX/+_2863_640_640_label_ACCIDENT_DETECTION.v1i.yolov7pytorch/train/images/._severity_V129_jpg.rf.f6195acd5b677d6c74563e82cbea4168.jpg  \n",
            "  inflating: +_2863_640_640_label_ACCIDENT_DETECTION.v1i.yolov7pytorch/train/images/severityV2_13_jpg.rf.b3684f5ec63ea80b510dec33def25cc8.jpg  \n",
            "  inflating: __MACOSX/+_2863_640_640_label_ACCIDENT_DETECTION.v1i.yolov7pytorch/train/images/._severityV2_13_jpg.rf.b3684f5ec63ea80b510dec33def25cc8.jpg  \n",
            "  inflating: +_2863_640_640_label_ACCIDENT_DETECTION.v1i.yolov7pytorch/train/images/images-3_jpg.rf.4e3f7499815c28684b55055fe5ba5a0b.jpg  \n",
            "  inflating: __MACOSX/+_2863_640_640_label_ACCIDENT_DETECTION.v1i.yolov7pytorch/train/images/._images-3_jpg.rf.4e3f7499815c28684b55055fe5ba5a0b.jpg  \n",
            "  inflating: +_2863_640_640_label_ACCIDENT_DETECTION.v1i.yolov7pytorch/train/images/clarabartoncrash_jpg.rf.5514b5b6b20f1e5f2cc55d7e657b4a30.jpg  \n",
            "  inflating: __MACOSX/+_2863_640_640_label_ACCIDENT_DETECTION.v1i.yolov7pytorch/train/images/._clarabartoncrash_jpg.rf.5514b5b6b20f1e5f2cc55d7e657b4a30.jpg  \n",
            "  inflating: +_2863_640_640_label_ACCIDENT_DETECTION.v1i.yolov7pytorch/train/images/download-12_jpg.rf.d57496de754f478256c482c9b6a33817.jpg  \n",
            "  inflating: __MACOSX/+_2863_640_640_label_ACCIDENT_DETECTION.v1i.yolov7pytorch/train/images/._download-12_jpg.rf.d57496de754f478256c482c9b6a33817.jpg  \n",
            "  inflating: +_2863_640_640_label_ACCIDENT_DETECTION.v1i.yolov7pytorch/train/images/severityV4_34_jpg.rf.d0a3ebb74feb4bf86d6f3830fc7e3b56.jpg  \n",
            "  inflating: __MACOSX/+_2863_640_640_label_ACCIDENT_DETECTION.v1i.yolov7pytorch/train/images/._severityV4_34_jpg.rf.d0a3ebb74feb4bf86d6f3830fc7e3b56.jpg  \n",
            "  inflating: +_2863_640_640_label_ACCIDENT_DETECTION.v1i.yolov7pytorch/train/images/images-1_jpg.rf.8dcf2cd42ff03f3af837812e6a5d7048.jpg  \n",
            "  inflating: __MACOSX/+_2863_640_640_label_ACCIDENT_DETECTION.v1i.yolov7pytorch/train/images/._images-1_jpg.rf.8dcf2cd42ff03f3af837812e6a5d7048.jpg  \n",
            "  inflating: +_2863_640_640_label_ACCIDENT_DETECTION.v1i.yolov7pytorch/train/images/traffic_img620_jpg.rf.e1e5361a809209865b405fe84ecd1b77.jpg  \n",
            "  inflating: __MACOSX/+_2863_640_640_label_ACCIDENT_DETECTION.v1i.yolov7pytorch/train/images/._traffic_img620_jpg.rf.e1e5361a809209865b405fe84ecd1b77.jpg  \n",
            "  inflating: +_2863_640_640_label_ACCIDENT_DETECTION.v1i.yolov7pytorch/train/images/severityV4_49_jpg.rf.4326f6b069b33476ed1daddd212063a7.jpg  \n",
            "  inflating: __MACOSX/+_2863_640_640_label_ACCIDENT_DETECTION.v1i.yolov7pytorch/train/images/._severityV4_49_jpg.rf.4326f6b069b33476ed1daddd212063a7.jpg  \n",
            "  inflating: +_2863_640_640_label_ACCIDENT_DETECTION.v1i.yolov7pytorch/train/images/severityV3_33_jpeg_jpg.rf.dedf5a68ff7f66387aef3b138538654a.jpg  \n",
            "  inflating: __MACOSX/+_2863_640_640_label_ACCIDENT_DETECTION.v1i.yolov7pytorch/train/images/._severityV3_33_jpeg_jpg.rf.dedf5a68ff7f66387aef3b138538654a.jpg  \n",
            "  inflating: +_2863_640_640_label_ACCIDENT_DETECTION.v1i.yolov7pytorch/train/images/images-2_jpg.rf.0ed5596e0de6c606a3e177382f2473ef.jpg  \n",
            "  inflating: __MACOSX/+_2863_640_640_label_ACCIDENT_DETECTION.v1i.yolov7pytorch/train/images/._images-2_jpg.rf.0ed5596e0de6c606a3e177382f2473ef.jpg  \n",
            "  inflating: +_2863_640_640_label_ACCIDENT_DETECTION.v1i.yolov7pytorch/train/images/images-5_jpg.rf.b59465208d1434b466bb2d4b0b303ff9.jpg  \n",
            "  inflating: __MACOSX/+_2863_640_640_label_ACCIDENT_DETECTION.v1i.yolov7pytorch/train/images/._images-5_jpg.rf.b59465208d1434b466bb2d4b0b303ff9.jpg  \n",
            "  inflating: +_2863_640_640_label_ACCIDENT_DETECTION.v1i.yolov7pytorch/train/images/traffic_img478_jpg.rf.82409177ac0da5a532220550b4cf56ea.jpg  \n",
            "  inflating: __MACOSX/+_2863_640_640_label_ACCIDENT_DETECTION.v1i.yolov7pytorch/train/images/._traffic_img478_jpg.rf.82409177ac0da5a532220550b4cf56ea.jpg  \n",
            "  inflating: +_2863_640_640_label_ACCIDENT_DETECTION.v1i.yolov7pytorch/train/images/FLIP_CAR_V18_jpg.rf.bc5c60ce9b98284054220370b9eeb05a.jpg  \n",
            "  inflating: __MACOSX/+_2863_640_640_label_ACCIDENT_DETECTION.v1i.yolov7pytorch/train/images/._FLIP_CAR_V18_jpg.rf.bc5c60ce9b98284054220370b9eeb05a.jpg  \n",
            "  inflating: +_2863_640_640_label_ACCIDENT_DETECTION.v1i.yolov7pytorch/train/images/images-10_jpg.rf.c0958af3f98a11f00a5ccd4cde9b64e6.jpg  \n",
            "  inflating: __MACOSX/+_2863_640_640_label_ACCIDENT_DETECTION.v1i.yolov7pytorch/train/images/._images-10_jpg.rf.c0958af3f98a11f00a5ccd4cde9b64e6.jpg  \n",
            "  inflating: +_2863_640_640_label_ACCIDENT_DETECTION.v1i.yolov7pytorch/train/images/severityV4_90_jpg.rf.837ae9cf1575bd5f7270247214c39da8.jpg  \n",
            "  inflating: __MACOSX/+_2863_640_640_label_ACCIDENT_DETECTION.v1i.yolov7pytorch/train/images/._severityV4_90_jpg.rf.837ae9cf1575bd5f7270247214c39da8.jpg  \n",
            "  inflating: +_2863_640_640_label_ACCIDENT_DETECTION.v1i.yolov7pytorch/train/images/Semi-RealisticVD-38_jpg.rf.fd585b86922d67a027eff9b0db5007e6.jpg  \n",
            "  inflating: __MACOSX/+_2863_640_640_label_ACCIDENT_DETECTION.v1i.yolov7pytorch/train/images/._Semi-RealisticVD-38_jpg.rf.fd585b86922d67a027eff9b0db5007e6.jpg  \n",
            "  inflating: +_2863_640_640_label_ACCIDENT_DETECTION.v1i.yolov7pytorch/train/images/images_jpg.rf.ac478296a0b663597428d302ca657884.jpg  \n",
            "  inflating: __MACOSX/+_2863_640_640_label_ACCIDENT_DETECTION.v1i.yolov7pytorch/train/images/._images_jpg.rf.ac478296a0b663597428d302ca657884.jpg  \n",
            "  inflating: +_2863_640_640_label_ACCIDENT_DETECTION.v1i.yolov7pytorch/train/images/1567913504284_jpg.rf.dc43db674480967b5bee3a82cca18595.jpg  \n",
            "  inflating: __MACOSX/+_2863_640_640_label_ACCIDENT_DETECTION.v1i.yolov7pytorch/train/images/._1567913504284_jpg.rf.dc43db674480967b5bee3a82cca18595.jpg  \n",
            "  inflating: +_2863_640_640_label_ACCIDENT_DETECTION.v1i.yolov7pytorch/train/images/severe12_jpeg_jpg.rf.b70cda4831b32ea6fdce510a627297c1.jpg  \n",
            "  inflating: __MACOSX/+_2863_640_640_label_ACCIDENT_DETECTION.v1i.yolov7pytorch/train/images/._severe12_jpeg_jpg.rf.b70cda4831b32ea6fdce510a627297c1.jpg  \n",
            "  inflating: +_2863_640_640_label_ACCIDENT_DETECTION.v1i.yolov7pytorch/train/images/Severity_Detect_V28_jpg.rf.c94e423fcbf99fdf21c56da6ad57bfab.jpg  \n",
            "  inflating: __MACOSX/+_2863_640_640_label_ACCIDENT_DETECTION.v1i.yolov7pytorch/train/images/._Severity_Detect_V28_jpg.rf.c94e423fcbf99fdf21c56da6ad57bfab.jpg  \n",
            "  inflating: +_2863_640_640_label_ACCIDENT_DETECTION.v1i.yolov7pytorch/train/images/images-25_jpg.rf.c375d2dd6f3cc1294093545b88cef2c8.jpg  \n",
            "  inflating: __MACOSX/+_2863_640_640_label_ACCIDENT_DETECTION.v1i.yolov7pytorch/train/images/._images-25_jpg.rf.c375d2dd6f3cc1294093545b88cef2c8.jpg  \n",
            "  inflating: +_2863_640_640_label_ACCIDENT_DETECTION.v1i.yolov7pytorch/train/images/severityV2_36_jpg.rf.ed92b271509bb250c64686c7b65cf822.jpg  \n",
            "  inflating: __MACOSX/+_2863_640_640_label_ACCIDENT_DETECTION.v1i.yolov7pytorch/train/images/._severityV2_36_jpg.rf.ed92b271509bb250c64686c7b65cf822.jpg  \n",
            "  inflating: +_2863_640_640_label_ACCIDENT_DETECTION.v1i.yolov7pytorch/train/images/FLIP_CAR_V173_jpg.rf.d0fedf7484e0341e948c2578cfd13d4e.jpg  \n",
            "  inflating: __MACOSX/+_2863_640_640_label_ACCIDENT_DETECTION.v1i.yolov7pytorch/train/images/._FLIP_CAR_V173_jpg.rf.d0fedf7484e0341e948c2578cfd13d4e.jpg  \n",
            "  inflating: +_2863_640_640_label_ACCIDENT_DETECTION.v1i.yolov7pytorch/train/images/screen_images7_png_jpg.rf.edc68afe30234f96c0ed53a2464a2d34.jpg  \n",
            "  inflating: __MACOSX/+_2863_640_640_label_ACCIDENT_DETECTION.v1i.yolov7pytorch/train/images/._screen_images7_png_jpg.rf.edc68afe30234f96c0ed53a2464a2d34.jpg  \n",
            "  inflating: +_2863_640_640_label_ACCIDENT_DETECTION.v1i.yolov7pytorch/train/images/traffic_img58_jpg.rf.a40e5065eb050546dfc1f3fae075846b.jpg  \n",
            "  inflating: __MACOSX/+_2863_640_640_label_ACCIDENT_DETECTION.v1i.yolov7pytorch/train/images/._traffic_img58_jpg.rf.a40e5065eb050546dfc1f3fae075846b.jpg  \n",
            "  inflating: +_2863_640_640_label_ACCIDENT_DETECTION.v1i.yolov7pytorch/train/images/sev10_jpg.rf.1133380453c9275e41387a9560760086.jpg  \n",
            "  inflating: __MACOSX/+_2863_640_640_label_ACCIDENT_DETECTION.v1i.yolov7pytorch/train/images/._sev10_jpg.rf.1133380453c9275e41387a9560760086.jpg  \n",
            "  inflating: +_2863_640_640_label_ACCIDENT_DETECTION.v1i.yolov7pytorch/train/images/severityV3_30_jpeg_jpg.rf.3280723a1f60ad4ba0c6546da547c846.jpg  \n",
            "  inflating: __MACOSX/+_2863_640_640_label_ACCIDENT_DETECTION.v1i.yolov7pytorch/train/images/._severityV3_30_jpeg_jpg.rf.3280723a1f60ad4ba0c6546da547c846.jpg  \n",
            "  inflating: +_2863_640_640_label_ACCIDENT_DETECTION.v1i.yolov7pytorch/train/images/traffic_img44_jpg.rf.f8d9eade3669b87ef5fa8980136e4c01.jpg  \n",
            "  inflating: __MACOSX/+_2863_640_640_label_ACCIDENT_DETECTION.v1i.yolov7pytorch/train/images/._traffic_img44_jpg.rf.f8d9eade3669b87ef5fa8980136e4c01.jpg  \n",
            "  inflating: +_2863_640_640_label_ACCIDENT_DETECTION.v1i.yolov7pytorch/train/images/severityV4_68_jpg.rf.9147c068e105ebdd8e6a85e89d70cc43.jpg  \n",
            "  inflating: __MACOSX/+_2863_640_640_label_ACCIDENT_DETECTION.v1i.yolov7pytorch/train/images/._severityV4_68_jpg.rf.9147c068e105ebdd8e6a85e89d70cc43.jpg  \n",
            "  inflating: +_2863_640_640_label_ACCIDENT_DETECTION.v1i.yolov7pytorch/train/images/images_jpg.rf.06b0b58334201ead9c511bd95a4bec82.jpg  \n",
            "  inflating: __MACOSX/+_2863_640_640_label_ACCIDENT_DETECTION.v1i.yolov7pytorch/train/images/._images_jpg.rf.06b0b58334201ead9c511bd95a4bec82.jpg  \n",
            "  inflating: +_2863_640_640_label_ACCIDENT_DETECTION.v1i.yolov7pytorch/train/images/images-12_jpg.rf.c4f93ff5b6b367c55aa4360711e10b94.jpg  \n",
            "  inflating: __MACOSX/+_2863_640_640_label_ACCIDENT_DETECTION.v1i.yolov7pytorch/train/images/._images-12_jpg.rf.c4f93ff5b6b367c55aa4360711e10b94.jpg  \n",
            "  inflating: +_2863_640_640_label_ACCIDENT_DETECTION.v1i.yolov7pytorch/train/images/images-6_jpg.rf.64c6d50786a506ea2351b25427ab4dc2.jpg  \n",
            "  inflating: __MACOSX/+_2863_640_640_label_ACCIDENT_DETECTION.v1i.yolov7pytorch/train/images/._images-6_jpg.rf.64c6d50786a506ea2351b25427ab4dc2.jpg  \n",
            "  inflating: +_2863_640_640_label_ACCIDENT_DETECTION.v1i.yolov7pytorch/train/images/images-2_jpg.rf.f9be272c88b4baafb474a68023cf15d7.jpg  \n",
            "  inflating: __MACOSX/+_2863_640_640_label_ACCIDENT_DETECTION.v1i.yolov7pytorch/train/images/._images-2_jpg.rf.f9be272c88b4baafb474a68023cf15d7.jpg  \n",
            "  inflating: +_2863_640_640_label_ACCIDENT_DETECTION.v1i.yolov7pytorch/train/images/traffic_img22_jpg.rf.d703c69f2f65d3f7596acf6b5252776b.jpg  \n",
            "  inflating: __MACOSX/+_2863_640_640_label_ACCIDENT_DETECTION.v1i.yolov7pytorch/train/images/._traffic_img22_jpg.rf.d703c69f2f65d3f7596acf6b5252776b.jpg  \n",
            "  inflating: +_2863_640_640_label_ACCIDENT_DETECTION.v1i.yolov7pytorch/train/images/accidentFrame3420_jpg.rf.7e92915bfcb7abbbb964712bbfab557d.jpg  \n",
            "  inflating: __MACOSX/+_2863_640_640_label_ACCIDENT_DETECTION.v1i.yolov7pytorch/train/images/._accidentFrame3420_jpg.rf.7e92915bfcb7abbbb964712bbfab557d.jpg  \n",
            "  inflating: +_2863_640_640_label_ACCIDENT_DETECTION.v1i.yolov7pytorch/train/images/10-74_jpg.rf.ab0de2d0872ac770c4934b2bab729a67.jpg  \n",
            "  inflating: __MACOSX/+_2863_640_640_label_ACCIDENT_DETECTION.v1i.yolov7pytorch/train/images/._10-74_jpg.rf.ab0de2d0872ac770c4934b2bab729a67.jpg  \n",
            "  inflating: +_2863_640_640_label_ACCIDENT_DETECTION.v1i.yolov7pytorch/train/images/traffic_img692_jpg.rf.c03b791bedf984822fed8fd3f0f0006c.jpg  \n",
            "  inflating: __MACOSX/+_2863_640_640_label_ACCIDENT_DETECTION.v1i.yolov7pytorch/train/images/._traffic_img692_jpg.rf.c03b791bedf984822fed8fd3f0f0006c.jpg  \n",
            "  inflating: +_2863_640_640_label_ACCIDENT_DETECTION.v1i.yolov7pytorch/train/images/FLIP_CAR_V112_jpg.rf.114888d71f630468c9e4e64a3be27743.jpg  \n",
            "  inflating: __MACOSX/+_2863_640_640_label_ACCIDENT_DETECTION.v1i.yolov7pytorch/train/images/._FLIP_CAR_V112_jpg.rf.114888d71f630468c9e4e64a3be27743.jpg  \n",
            "  inflating: +_2863_640_640_label_ACCIDENT_DETECTION.v1i.yolov7pytorch/train/images/images_jpg.rf.0c1185ed6718234e89dd4a8c07738f98.jpg  \n",
            "  inflating: __MACOSX/+_2863_640_640_label_ACCIDENT_DETECTION.v1i.yolov7pytorch/train/images/._images_jpg.rf.0c1185ed6718234e89dd4a8c07738f98.jpg  \n",
            "  inflating: +_2863_640_640_label_ACCIDENT_DETECTION.v1i.yolov7pytorch/train/images/severityV4_75_jpg.rf.b9ef5145521298d91bc13b5b25e0c0c9.jpg  \n",
            "  inflating: __MACOSX/+_2863_640_640_label_ACCIDENT_DETECTION.v1i.yolov7pytorch/train/images/._severityV4_75_jpg.rf.b9ef5145521298d91bc13b5b25e0c0c9.jpg  \n",
            "  inflating: +_2863_640_640_label_ACCIDENT_DETECTION.v1i.yolov7pytorch/train/images/images-15_jpg.rf.f7875dd8428fbf1907fa1032e09073c5.jpg  \n",
            "  inflating: __MACOSX/+_2863_640_640_label_ACCIDENT_DETECTION.v1i.yolov7pytorch/train/images/._images-15_jpg.rf.f7875dd8428fbf1907fa1032e09073c5.jpg  \n",
            "  inflating: +_2863_640_640_label_ACCIDENT_DETECTION.v1i.yolov7pytorch/train/images/severity_V19_jpg.rf.d41a205e04d1438f32664047c4f415fa.jpg  \n",
            "  inflating: __MACOSX/+_2863_640_640_label_ACCIDENT_DETECTION.v1i.yolov7pytorch/train/images/._severity_V19_jpg.rf.d41a205e04d1438f32664047c4f415fa.jpg  \n",
            "  inflating: +_2863_640_640_label_ACCIDENT_DETECTION.v1i.yolov7pytorch/train/images/traffic_img344_jpg.rf.ee59b82ea2f119bd73303bdf89d073dc.jpg  \n",
            "  inflating: __MACOSX/+_2863_640_640_label_ACCIDENT_DETECTION.v1i.yolov7pytorch/train/images/._traffic_img344_jpg.rf.ee59b82ea2f119bd73303bdf89d073dc.jpg  \n",
            "  inflating: +_2863_640_640_label_ACCIDENT_DETECTION.v1i.yolov7pytorch/train/images/severityV4_84_jpg.rf.f01d6fd076cd4e4627e7093ec803840f.jpg  \n",
            "  inflating: __MACOSX/+_2863_640_640_label_ACCIDENT_DETECTION.v1i.yolov7pytorch/train/images/._severityV4_84_jpg.rf.f01d6fd076cd4e4627e7093ec803840f.jpg  \n",
            "  inflating: +_2863_640_640_label_ACCIDENT_DETECTION.v1i.yolov7pytorch/train/images/images-42_jpg.rf.d496e126a5225937d842059ce4941374.jpg  \n",
            "  inflating: __MACOSX/+_2863_640_640_label_ACCIDENT_DETECTION.v1i.yolov7pytorch/train/images/._images-42_jpg.rf.d496e126a5225937d842059ce4941374.jpg  \n",
            "  inflating: +_2863_640_640_label_ACCIDENT_DETECTION.v1i.yolov7pytorch/train/images/images-3_jpg.rf.dec9a71610f2d0411be47266a2d0666d.jpg  \n",
            "  inflating: __MACOSX/+_2863_640_640_label_ACCIDENT_DETECTION.v1i.yolov7pytorch/train/images/._images-3_jpg.rf.dec9a71610f2d0411be47266a2d0666d.jpg  \n",
            "  inflating: +_2863_640_640_label_ACCIDENT_DETECTION.v1i.yolov7pytorch/train/images/traffic_img1371_jpg.rf.55cdd67d2bc1f7b1a89b0dfc0ee8401f.jpg  \n",
            "  inflating: __MACOSX/+_2863_640_640_label_ACCIDENT_DETECTION.v1i.yolov7pytorch/train/images/._traffic_img1371_jpg.rf.55cdd67d2bc1f7b1a89b0dfc0ee8401f.jpg  \n",
            "  inflating: +_2863_640_640_label_ACCIDENT_DETECTION.v1i.yolov7pytorch/train/images/severityV4_38_jpg.rf.49229ce77774a320e84b17d6f8f96232.jpg  \n",
            "  inflating: __MACOSX/+_2863_640_640_label_ACCIDENT_DETECTION.v1i.yolov7pytorch/train/images/._severityV4_38_jpg.rf.49229ce77774a320e84b17d6f8f96232.jpg  \n",
            "  inflating: +_2863_640_640_label_ACCIDENT_DETECTION.v1i.yolov7pytorch/train/images/images_006_jpg.rf.b1b94973311ab2e179985c12f7fe3d01.jpg  \n",
            "  inflating: __MACOSX/+_2863_640_640_label_ACCIDENT_DETECTION.v1i.yolov7pytorch/train/images/._images_006_jpg.rf.b1b94973311ab2e179985c12f7fe3d01.jpg  \n",
            "  inflating: +_2863_640_640_label_ACCIDENT_DETECTION.v1i.yolov7pytorch/train/images/809_jpeg_jpg.rf.d7e122b87207d08e31663636f631dcca.jpg  \n",
            "  inflating: __MACOSX/+_2863_640_640_label_ACCIDENT_DETECTION.v1i.yolov7pytorch/train/images/._809_jpeg_jpg.rf.d7e122b87207d08e31663636f631dcca.jpg  \n",
            "  inflating: +_2863_640_640_label_ACCIDENT_DETECTION.v1i.yolov7pytorch/train/images/download_jpg.rf.fd33f5e36d3e996d860f8a13d3b3d6a6.jpg  \n",
            "  inflating: __MACOSX/+_2863_640_640_label_ACCIDENT_DETECTION.v1i.yolov7pytorch/train/images/._download_jpg.rf.fd33f5e36d3e996d860f8a13d3b3d6a6.jpg  \n",
            "  inflating: +_2863_640_640_label_ACCIDENT_DETECTION.v1i.yolov7pytorch/train/images/testjndjnd_jpg.rf.71aace2fff9d80afec716e63cc3553ce.jpg  \n",
            "  inflating: __MACOSX/+_2863_640_640_label_ACCIDENT_DETECTION.v1i.yolov7pytorch/train/images/._testjndjnd_jpg.rf.71aace2fff9d80afec716e63cc3553ce.jpg  \n",
            "  inflating: +_2863_640_640_label_ACCIDENT_DETECTION.v1i.yolov7pytorch/train/images/sever10_jpg.rf.ca95a21b608e70218fe21af4f627bb3e.jpg  \n",
            "  inflating: __MACOSX/+_2863_640_640_label_ACCIDENT_DETECTION.v1i.yolov7pytorch/train/images/._sever10_jpg.rf.ca95a21b608e70218fe21af4f627bb3e.jpg  \n",
            "  inflating: +_2863_640_640_label_ACCIDENT_DETECTION.v1i.yolov7pytorch/train/images/1075_jpeg_jpg.rf.f1099805365c906e3edd4433c16447a7.jpg  \n",
            "  inflating: __MACOSX/+_2863_640_640_label_ACCIDENT_DETECTION.v1i.yolov7pytorch/train/images/._1075_jpeg_jpg.rf.f1099805365c906e3edd4433c16447a7.jpg  \n",
            "  inflating: +_2863_640_640_label_ACCIDENT_DETECTION.v1i.yolov7pytorch/train/images/images-12_jpg.rf.ec53b6fdb459ae8b88c9883eee70ead5.jpg  \n",
            "  inflating: __MACOSX/+_2863_640_640_label_ACCIDENT_DETECTION.v1i.yolov7pytorch/train/images/._images-12_jpg.rf.ec53b6fdb459ae8b88c9883eee70ead5.jpg  \n",
            "  inflating: +_2863_640_640_label_ACCIDENT_DETECTION.v1i.yolov7pytorch/train/images/images-19_jpg.rf.ebc752d2cf5a1186f9d280d3e6f487f6.jpg  \n",
            "  inflating: __MACOSX/+_2863_640_640_label_ACCIDENT_DETECTION.v1i.yolov7pytorch/train/images/._images-19_jpg.rf.ebc752d2cf5a1186f9d280d3e6f487f6.jpg  \n",
            "  inflating: +_2863_640_640_label_ACCIDENT_DETECTION.v1i.yolov7pytorch/train/images/images-8_jpg.rf.dc39a0ec8fab894a95fb79409e31b764.jpg  \n",
            "  inflating: __MACOSX/+_2863_640_640_label_ACCIDENT_DETECTION.v1i.yolov7pytorch/train/images/._images-8_jpg.rf.dc39a0ec8fab894a95fb79409e31b764.jpg  \n",
            "  inflating: +_2863_640_640_label_ACCIDENT_DETECTION.v1i.yolov7pytorch/train/images/images-9_jpg.rf.71c853d8fb5f4d5dd30201fd75e871a6.jpg  \n",
            "  inflating: __MACOSX/+_2863_640_640_label_ACCIDENT_DETECTION.v1i.yolov7pytorch/train/images/._images-9_jpg.rf.71c853d8fb5f4d5dd30201fd75e871a6.jpg  \n",
            "  inflating: +_2863_640_640_label_ACCIDENT_DETECTION.v1i.yolov7pytorch/train/images/traffic_img1295_jpg.rf.d45715a7d1b5e3ba5089947fb3f808ac.jpg  \n",
            "  inflating: __MACOSX/+_2863_640_640_label_ACCIDENT_DETECTION.v1i.yolov7pytorch/train/images/._traffic_img1295_jpg.rf.d45715a7d1b5e3ba5089947fb3f808ac.jpg  \n",
            "  inflating: +_2863_640_640_label_ACCIDENT_DETECTION.v1i.yolov7pytorch/train/images/accidentFrame3423_jpg.rf.b6034846b7bee12144501b5cb4d3fe42.jpg  \n",
            "  inflating: __MACOSX/+_2863_640_640_label_ACCIDENT_DETECTION.v1i.yolov7pytorch/train/images/._accidentFrame3423_jpg.rf.b6034846b7bee12144501b5cb4d3fe42.jpg  \n",
            "  inflating: +_2863_640_640_label_ACCIDENT_DETECTION.v1i.yolov7pytorch/train/images/10-79_jpg.rf.db8c14285e585f6e158b7998a9e73606.jpg  \n",
            "  inflating: __MACOSX/+_2863_640_640_label_ACCIDENT_DETECTION.v1i.yolov7pytorch/train/images/._10-79_jpg.rf.db8c14285e585f6e158b7998a9e73606.jpg  \n",
            "  inflating: +_2863_640_640_label_ACCIDENT_DETECTION.v1i.yolov7pytorch/train/images/images-17_jpg.rf.b9516e956ad45cf9a5631b2d9393b1ae.jpg  \n",
            "  inflating: __MACOSX/+_2863_640_640_label_ACCIDENT_DETECTION.v1i.yolov7pytorch/train/images/._images-17_jpg.rf.b9516e956ad45cf9a5631b2d9393b1ae.jpg  \n",
            "  inflating: +_2863_640_640_label_ACCIDENT_DETECTION.v1i.yolov7pytorch/train/images/severity_V135_jpg.rf.a51fd86cf2f88628cc96b1bb1c956a48.jpg  \n",
            "  inflating: __MACOSX/+_2863_640_640_label_ACCIDENT_DETECTION.v1i.yolov7pytorch/train/images/._severity_V135_jpg.rf.a51fd86cf2f88628cc96b1bb1c956a48.jpg  \n",
            "  inflating: +_2863_640_640_label_ACCIDENT_DETECTION.v1i.yolov7pytorch/train/images/severity_V142_jpg.rf.0100b791abe7160d10999c24dc47e542.jpg  \n",
            "  inflating: __MACOSX/+_2863_640_640_label_ACCIDENT_DETECTION.v1i.yolov7pytorch/train/images/._severity_V142_jpg.rf.0100b791abe7160d10999c24dc47e542.jpg  \n",
            "  inflating: +_2863_640_640_label_ACCIDENT_DETECTION.v1i.yolov7pytorch/train/images/images-13_jpg.rf.2558049e245e541e26ff468476f96cb7.jpg  \n",
            "  inflating: __MACOSX/+_2863_640_640_label_ACCIDENT_DETECTION.v1i.yolov7pytorch/train/images/._images-13_jpg.rf.2558049e245e541e26ff468476f96cb7.jpg  \n",
            "  inflating: +_2863_640_640_label_ACCIDENT_DETECTION.v1i.yolov7pytorch/train/images/Severity_Detect_V13_jpg.rf.783b3b53da62ed101946bafba402d031.jpg  \n",
            "  inflating: __MACOSX/+_2863_640_640_label_ACCIDENT_DETECTION.v1i.yolov7pytorch/train/images/._Severity_Detect_V13_jpg.rf.783b3b53da62ed101946bafba402d031.jpg  \n",
            "  inflating: +_2863_640_640_label_ACCIDENT_DETECTION.v1i.yolov7pytorch/train/images/Severity_Detect_V39_jpg.rf.590adbe0a8574a745907df4d82d11af4.jpg  \n",
            "  inflating: __MACOSX/+_2863_640_640_label_ACCIDENT_DETECTION.v1i.yolov7pytorch/train/images/._Severity_Detect_V39_jpg.rf.590adbe0a8574a745907df4d82d11af4.jpg  \n",
            "  inflating: +_2863_640_640_label_ACCIDENT_DETECTION.v1i.yolov7pytorch/train/images/download_jpg.rf.139c85fce1e0432f0c9d4e929e2f5b39.jpg  \n",
            "  inflating: __MACOSX/+_2863_640_640_label_ACCIDENT_DETECTION.v1i.yolov7pytorch/train/images/._download_jpg.rf.139c85fce1e0432f0c9d4e929e2f5b39.jpg  \n",
            "  inflating: +_2863_640_640_label_ACCIDENT_DETECTION.v1i.yolov7pytorch/train/images/Severity_Detect_V11_jpg.rf.689948cae9aac2bcccaa72bb05290507.jpg  \n",
            "  inflating: __MACOSX/+_2863_640_640_label_ACCIDENT_DETECTION.v1i.yolov7pytorch/train/images/._Severity_Detect_V11_jpg.rf.689948cae9aac2bcccaa72bb05290507.jpg  \n",
            "  inflating: +_2863_640_640_label_ACCIDENT_DETECTION.v1i.yolov7pytorch/train/images/images-19_jpg.rf.293c0203e90948ba40cdeb27e4ce2404.jpg  \n",
            "  inflating: __MACOSX/+_2863_640_640_label_ACCIDENT_DETECTION.v1i.yolov7pytorch/train/images/._images-19_jpg.rf.293c0203e90948ba40cdeb27e4ce2404.jpg  \n",
            "  inflating: +_2863_640_640_label_ACCIDENT_DETECTION.v1i.yolov7pytorch/train/images/FLIP_CAR_V11_jpg.rf.f531f7f8aaafb0ec876c5f97d204ac17.jpg  \n",
            "  inflating: __MACOSX/+_2863_640_640_label_ACCIDENT_DETECTION.v1i.yolov7pytorch/train/images/._FLIP_CAR_V11_jpg.rf.f531f7f8aaafb0ec876c5f97d204ac17.jpg  \n",
            "  inflating: +_2863_640_640_label_ACCIDENT_DETECTION.v1i.yolov7pytorch/train/images/traffic_img1817_jpg.rf.f01187fbe3a800e02a4752e35b6399ae.jpg  \n",
            "  inflating: __MACOSX/+_2863_640_640_label_ACCIDENT_DETECTION.v1i.yolov7pytorch/train/images/._traffic_img1817_jpg.rf.f01187fbe3a800e02a4752e35b6399ae.jpg  \n",
            "  inflating: +_2863_640_640_label_ACCIDENT_DETECTION.v1i.yolov7pytorch/train/images/severityV2_1_jpg.rf.da59432658f43766bd78479022cad8c7.jpg  \n",
            "  inflating: __MACOSX/+_2863_640_640_label_ACCIDENT_DETECTION.v1i.yolov7pytorch/train/images/._severityV2_1_jpg.rf.da59432658f43766bd78479022cad8c7.jpg  \n",
            "  inflating: +_2863_640_640_label_ACCIDENT_DETECTION.v1i.yolov7pytorch/train/images/traffic_img129_jpg.rf.ef3008ff6375f402d19dc38093d8ee0c.jpg  \n",
            "  inflating: __MACOSX/+_2863_640_640_label_ACCIDENT_DETECTION.v1i.yolov7pytorch/train/images/._traffic_img129_jpg.rf.ef3008ff6375f402d19dc38093d8ee0c.jpg  \n",
            "  inflating: +_2863_640_640_label_ACCIDENT_DETECTION.v1i.yolov7pytorch/train/images/severe17_jpeg_jpg.rf.938f4aa2702eb8dec099bd63a4fdca3a.jpg  \n",
            "  inflating: __MACOSX/+_2863_640_640_label_ACCIDENT_DETECTION.v1i.yolov7pytorch/train/images/._severe17_jpeg_jpg.rf.938f4aa2702eb8dec099bd63a4fdca3a.jpg  \n",
            "  inflating: +_2863_640_640_label_ACCIDENT_DETECTION.v1i.yolov7pytorch/train/images/images-2_jpg.rf.a981d105d8f3c98c6a39ebe475e7e930.jpg  \n",
            "  inflating: __MACOSX/+_2863_640_640_label_ACCIDENT_DETECTION.v1i.yolov7pytorch/train/images/._images-2_jpg.rf.a981d105d8f3c98c6a39ebe475e7e930.jpg  \n",
            "  inflating: +_2863_640_640_label_ACCIDENT_DETECTION.v1i.yolov7pytorch/train/images/accidentFrame2762_jpg.rf.dbee068b68088e81283690cdaec0ce69.jpg  \n",
            "  inflating: __MACOSX/+_2863_640_640_label_ACCIDENT_DETECTION.v1i.yolov7pytorch/train/images/._accidentFrame2762_jpg.rf.dbee068b68088e81283690cdaec0ce69.jpg  \n",
            "  inflating: +_2863_640_640_label_ACCIDENT_DETECTION.v1i.yolov7pytorch/train/images/severityV4_43_jpg.rf.494516261041df5ed44af8200b0e9c05.jpg  \n",
            "  inflating: __MACOSX/+_2863_640_640_label_ACCIDENT_DETECTION.v1i.yolov7pytorch/train/images/._severityV4_43_jpg.rf.494516261041df5ed44af8200b0e9c05.jpg  \n",
            "  inflating: +_2863_640_640_label_ACCIDENT_DETECTION.v1i.yolov7pytorch/train/images/FLIP_CAR_V124_jpg.rf.288293e06f42ffab4fb9e26fdd83b52c.jpg  \n",
            "  inflating: __MACOSX/+_2863_640_640_label_ACCIDENT_DETECTION.v1i.yolov7pytorch/train/images/._FLIP_CAR_V124_jpg.rf.288293e06f42ffab4fb9e26fdd83b52c.jpg  \n",
            "  inflating: +_2863_640_640_label_ACCIDENT_DETECTION.v1i.yolov7pytorch/train/images/Semi-RealisticVD-20_jpg.rf.cb4f1002711ec6c0c1f675680105ab09.jpg  \n",
            "  inflating: __MACOSX/+_2863_640_640_label_ACCIDENT_DETECTION.v1i.yolov7pytorch/train/images/._Semi-RealisticVD-20_jpg.rf.cb4f1002711ec6c0c1f675680105ab09.jpg  \n",
            "  inflating: +_2863_640_640_label_ACCIDENT_DETECTION.v1i.yolov7pytorch/train/images/severityV4_18_jpg.rf.265e34d1201ce0fa207f6476dcb6696a.jpg  \n",
            "  inflating: __MACOSX/+_2863_640_640_label_ACCIDENT_DETECTION.v1i.yolov7pytorch/train/images/._severityV4_18_jpg.rf.265e34d1201ce0fa207f6476dcb6696a.jpg  \n",
            "  inflating: +_2863_640_640_label_ACCIDENT_DETECTION.v1i.yolov7pytorch/train/images/Severity_Detect_V40_jpg.rf.1020b5ea928818bc0836a0b036a3f335.jpg  \n",
            "  inflating: __MACOSX/+_2863_640_640_label_ACCIDENT_DETECTION.v1i.yolov7pytorch/train/images/._Severity_Detect_V40_jpg.rf.1020b5ea928818bc0836a0b036a3f335.jpg  \n",
            "  inflating: +_2863_640_640_label_ACCIDENT_DETECTION.v1i.yolov7pytorch/train/images/severity_V133_jpg.rf.d5306e643e8b1cf69a60abac705dd474.jpg  \n",
            "  inflating: __MACOSX/+_2863_640_640_label_ACCIDENT_DETECTION.v1i.yolov7pytorch/train/images/._severity_V133_jpg.rf.d5306e643e8b1cf69a60abac705dd474.jpg  \n",
            "  inflating: +_2863_640_640_label_ACCIDENT_DETECTION.v1i.yolov7pytorch/train/images/FLIP_CAR_V13_jpg.rf.c92f80a0552f7693ccb2651d2b9b0d4f.jpg  \n",
            "  inflating: __MACOSX/+_2863_640_640_label_ACCIDENT_DETECTION.v1i.yolov7pytorch/train/images/._FLIP_CAR_V13_jpg.rf.c92f80a0552f7693ccb2651d2b9b0d4f.jpg  \n",
            "  inflating: +_2863_640_640_label_ACCIDENT_DETECTION.v1i.yolov7pytorch/train/images/traffic_img1768_jpg.rf.79043284c3fe23f6e3ceed3d453c5b84.jpg  \n",
            "  inflating: __MACOSX/+_2863_640_640_label_ACCIDENT_DETECTION.v1i.yolov7pytorch/train/images/._traffic_img1768_jpg.rf.79043284c3fe23f6e3ceed3d453c5b84.jpg  \n",
            "  inflating: +_2863_640_640_label_ACCIDENT_DETECTION.v1i.yolov7pytorch/train/images/traffic_img1551_jpg.rf.92626282a83d39e9b466713d139b553c.jpg  \n",
            "  inflating: __MACOSX/+_2863_640_640_label_ACCIDENT_DETECTION.v1i.yolov7pytorch/train/images/._traffic_img1551_jpg.rf.92626282a83d39e9b466713d139b553c.jpg  \n",
            "  inflating: +_2863_640_640_label_ACCIDENT_DETECTION.v1i.yolov7pytorch/train/images/accidentFrame3225_jpg.rf.f6a799f27adf9e0787d52697547ef889.jpg  \n",
            "  inflating: __MACOSX/+_2863_640_640_label_ACCIDENT_DETECTION.v1i.yolov7pytorch/train/images/._accidentFrame3225_jpg.rf.f6a799f27adf9e0787d52697547ef889.jpg  \n",
            "  inflating: +_2863_640_640_label_ACCIDENT_DETECTION.v1i.yolov7pytorch/train/images/2-34_jpg.rf.fc356d24ba16d0a670934c7dda9ed7d9.jpg  \n",
            "  inflating: __MACOSX/+_2863_640_640_label_ACCIDENT_DETECTION.v1i.yolov7pytorch/train/images/._2-34_jpg.rf.fc356d24ba16d0a670934c7dda9ed7d9.jpg  \n",
            "  inflating: +_2863_640_640_label_ACCIDENT_DETECTION.v1i.yolov7pytorch/train/images/images-1_jpg.rf.19ec03f33dee887bd5a163311a094794.jpg  \n",
            "  inflating: __MACOSX/+_2863_640_640_label_ACCIDENT_DETECTION.v1i.yolov7pytorch/train/images/._images-1_jpg.rf.19ec03f33dee887bd5a163311a094794.jpg  \n",
            "  inflating: +_2863_640_640_label_ACCIDENT_DETECTION.v1i.yolov7pytorch/train/images/4-20_jpg.rf.cc7b7714066a2680634bc5a3488c4b6f.jpg  \n",
            "  inflating: __MACOSX/+_2863_640_640_label_ACCIDENT_DETECTION.v1i.yolov7pytorch/train/images/._4-20_jpg.rf.cc7b7714066a2680634bc5a3488c4b6f.jpg  \n",
            "  inflating: +_2863_640_640_label_ACCIDENT_DETECTION.v1i.yolov7pytorch/train/images/accidentFrame138_jpg.rf.e482081e177d9f8d640581aaa6cb96c8.jpg  \n",
            "  inflating: __MACOSX/+_2863_640_640_label_ACCIDENT_DETECTION.v1i.yolov7pytorch/train/images/._accidentFrame138_jpg.rf.e482081e177d9f8d640581aaa6cb96c8.jpg  \n",
            "  inflating: +_2863_640_640_label_ACCIDENT_DETECTION.v1i.yolov7pytorch/train/images/FLIP_CAR_V116_jpg.rf.ac74e4c02ae24c6d0b9133fe418c59fa.jpg  \n",
            "  inflating: __MACOSX/+_2863_640_640_label_ACCIDENT_DETECTION.v1i.yolov7pytorch/train/images/._FLIP_CAR_V116_jpg.rf.ac74e4c02ae24c6d0b9133fe418c59fa.jpg  \n",
            "  inflating: +_2863_640_640_label_ACCIDENT_DETECTION.v1i.yolov7pytorch/train/images/Semi-RealisticVD-195_jpg.rf.df2c2984f3e44cc34b092b479720f7ba.jpg  \n",
            "  inflating: __MACOSX/+_2863_640_640_label_ACCIDENT_DETECTION.v1i.yolov7pytorch/train/images/._Semi-RealisticVD-195_jpg.rf.df2c2984f3e44cc34b092b479720f7ba.jpg  \n",
            "  inflating: +_2863_640_640_label_ACCIDENT_DETECTION.v1i.yolov7pytorch/train/images/images-1_jpg.rf.ad651fd8ba1c1b695b845f63c9169d72.jpg  \n",
            "  inflating: __MACOSX/+_2863_640_640_label_ACCIDENT_DETECTION.v1i.yolov7pytorch/train/images/._images-1_jpg.rf.ad651fd8ba1c1b695b845f63c9169d72.jpg  \n",
            "  inflating: +_2863_640_640_label_ACCIDENT_DETECTION.v1i.yolov7pytorch/train/images/severity_V116_jpg.rf.f458314ce2dd332c010214d9801ee6d3.jpg  \n",
            "  inflating: __MACOSX/+_2863_640_640_label_ACCIDENT_DETECTION.v1i.yolov7pytorch/train/images/._severity_V116_jpg.rf.f458314ce2dd332c010214d9801ee6d3.jpg  \n",
            "  inflating: +_2863_640_640_label_ACCIDENT_DETECTION.v1i.yolov7pytorch/train/images/Semi-RealisticVD-12_jpg.rf.d9797a2d547a6a32cc39b7aaf8dfa952.jpg  \n",
            "  inflating: __MACOSX/+_2863_640_640_label_ACCIDENT_DETECTION.v1i.yolov7pytorch/train/images/._Semi-RealisticVD-12_jpg.rf.d9797a2d547a6a32cc39b7aaf8dfa952.jpg  \n",
            "  inflating: +_2863_640_640_label_ACCIDENT_DETECTION.v1i.yolov7pytorch/train/images/1003_jpeg_jpg.rf.ac2ac63a74ffe6d660e1d1e7b6a7681d.jpg  \n",
            "  inflating: __MACOSX/+_2863_640_640_label_ACCIDENT_DETECTION.v1i.yolov7pytorch/train/images/._1003_jpeg_jpg.rf.ac2ac63a74ffe6d660e1d1e7b6a7681d.jpg  \n",
            "  inflating: +_2863_640_640_label_ACCIDENT_DETECTION.v1i.yolov7pytorch/train/images/severityV2_29_jpg.rf.be4fc698c2e453a153df7ad66275baf8.jpg  \n",
            "  inflating: __MACOSX/+_2863_640_640_label_ACCIDENT_DETECTION.v1i.yolov7pytorch/train/images/._severityV2_29_jpg.rf.be4fc698c2e453a153df7ad66275baf8.jpg  \n",
            "  inflating: +_2863_640_640_label_ACCIDENT_DETECTION.v1i.yolov7pytorch/train/images/images-4_jpg.rf.c684cc3a2c332277c9ef4438291cc0ab.jpg  \n",
            "  inflating: __MACOSX/+_2863_640_640_label_ACCIDENT_DETECTION.v1i.yolov7pytorch/train/images/._images-4_jpg.rf.c684cc3a2c332277c9ef4438291cc0ab.jpg  \n",
            "  inflating: +_2863_640_640_label_ACCIDENT_DETECTION.v1i.yolov7pytorch/train/images/images-2_jpg.rf.a04cdeba4be2c1a27fa24ac353eeb222.jpg  \n",
            "  inflating: __MACOSX/+_2863_640_640_label_ACCIDENT_DETECTION.v1i.yolov7pytorch/train/images/._images-2_jpg.rf.a04cdeba4be2c1a27fa24ac353eeb222.jpg  \n",
            "  inflating: +_2863_640_640_label_ACCIDENT_DETECTION.v1i.yolov7pytorch/train/images/images-1_jpg.rf.d365584e34edd589c58b06ef6bb56c3a.jpg  \n",
            "  inflating: __MACOSX/+_2863_640_640_label_ACCIDENT_DETECTION.v1i.yolov7pytorch/train/images/._images-1_jpg.rf.d365584e34edd589c58b06ef6bb56c3a.jpg  \n",
            "  inflating: +_2863_640_640_label_ACCIDENT_DETECTION.v1i.yolov7pytorch/train/images/Severity_Detect_V38_jpg.rf.24371a4ed2f356ff6a3baeec04e485a0.jpg  \n",
            "  inflating: __MACOSX/+_2863_640_640_label_ACCIDENT_DETECTION.v1i.yolov7pytorch/train/images/._Severity_Detect_V38_jpg.rf.24371a4ed2f356ff6a3baeec04e485a0.jpg  \n",
            "  inflating: +_2863_640_640_label_ACCIDENT_DETECTION.v1i.yolov7pytorch/train/images/traffic_img477_jpg.rf.d5e1fbbf437048bc0dcb71ed747a0be0.jpg  \n",
            "  inflating: __MACOSX/+_2863_640_640_label_ACCIDENT_DETECTION.v1i.yolov7pytorch/train/images/._traffic_img477_jpg.rf.d5e1fbbf437048bc0dcb71ed747a0be0.jpg  \n",
            "  inflating: +_2863_640_640_label_ACCIDENT_DETECTION.v1i.yolov7pytorch/train/images/images-2_jpg.rf.dd35009da8c19a3ca6a35e424d34031e.jpg  \n",
            "  inflating: __MACOSX/+_2863_640_640_label_ACCIDENT_DETECTION.v1i.yolov7pytorch/train/images/._images-2_jpg.rf.dd35009da8c19a3ca6a35e424d34031e.jpg  \n",
            "  inflating: +_2863_640_640_label_ACCIDENT_DETECTION.v1i.yolov7pytorch/train/images/screen_images8_png_jpg.rf.403e0b0989c4317cfdcf15090e2f8a1f.jpg  \n",
            "  inflating: __MACOSX/+_2863_640_640_label_ACCIDENT_DETECTION.v1i.yolov7pytorch/train/images/._screen_images8_png_jpg.rf.403e0b0989c4317cfdcf15090e2f8a1f.jpg  \n",
            "  inflating: +_2863_640_640_label_ACCIDENT_DETECTION.v1i.yolov7pytorch/train/images/screen_images2_png_jpg.rf.fdabafaddfa6c59f6026c15825ec8fbe.jpg  \n",
            "  inflating: __MACOSX/+_2863_640_640_label_ACCIDENT_DETECTION.v1i.yolov7pytorch/train/images/._screen_images2_png_jpg.rf.fdabafaddfa6c59f6026c15825ec8fbe.jpg  \n",
            "  inflating: +_2863_640_640_label_ACCIDENT_DETECTION.v1i.yolov7pytorch/train/images/images-6_jpg.rf.aa341258eabd191b62d9ef4fe87cbbd1.jpg  \n",
            "  inflating: __MACOSX/+_2863_640_640_label_ACCIDENT_DETECTION.v1i.yolov7pytorch/train/images/._images-6_jpg.rf.aa341258eabd191b62d9ef4fe87cbbd1.jpg  \n",
            "  inflating: +_2863_640_640_label_ACCIDENT_DETECTION.v1i.yolov7pytorch/train/images/1072_jpeg_jpg.rf.60b20e7ce4bba2d4a510b0f500057bd4.jpg  \n",
            "  inflating: __MACOSX/+_2863_640_640_label_ACCIDENT_DETECTION.v1i.yolov7pytorch/train/images/._1072_jpeg_jpg.rf.60b20e7ce4bba2d4a510b0f500057bd4.jpg  \n",
            "  inflating: +_2863_640_640_label_ACCIDENT_DETECTION.v1i.yolov7pytorch/train/images/download-2_jpg.rf.d37606624351e45d619d843e0c5aa3c1.jpg  \n",
            "  inflating: __MACOSX/+_2863_640_640_label_ACCIDENT_DETECTION.v1i.yolov7pytorch/train/images/._download-2_jpg.rf.d37606624351e45d619d843e0c5aa3c1.jpg  \n",
            "  inflating: +_2863_640_640_label_ACCIDENT_DETECTION.v1i.yolov7pytorch/train/images/severityV2_30_jpg.rf.273b9d2974271efe52e5225903266634.jpg  \n",
            "  inflating: __MACOSX/+_2863_640_640_label_ACCIDENT_DETECTION.v1i.yolov7pytorch/train/images/._severityV2_30_jpg.rf.273b9d2974271efe52e5225903266634.jpg  \n",
            "  inflating: +_2863_640_640_label_ACCIDENT_DETECTION.v1i.yolov7pytorch/train/images/accidentFrame3645_jpg.rf.300a9122a9968d02c3fd21fa77576382.jpg  \n",
            "  inflating: __MACOSX/+_2863_640_640_label_ACCIDENT_DETECTION.v1i.yolov7pytorch/train/images/._accidentFrame3645_jpg.rf.300a9122a9968d02c3fd21fa77576382.jpg  \n",
            "  inflating: +_2863_640_640_label_ACCIDENT_DETECTION.v1i.yolov7pytorch/train/images/severityV4_40_jpg.rf.c95592de2bdc960cc9cfc96c9a50dc4f.jpg  \n",
            "  inflating: __MACOSX/+_2863_640_640_label_ACCIDENT_DETECTION.v1i.yolov7pytorch/train/images/._severityV4_40_jpg.rf.c95592de2bdc960cc9cfc96c9a50dc4f.jpg  \n",
            "  inflating: +_2863_640_640_label_ACCIDENT_DETECTION.v1i.yolov7pytorch/train/images/images_jpg.rf.0dcac5e055de363290658a9f753cba47.jpg  \n",
            "  inflating: __MACOSX/+_2863_640_640_label_ACCIDENT_DETECTION.v1i.yolov7pytorch/train/images/._images_jpg.rf.0dcac5e055de363290658a9f753cba47.jpg  \n",
            "  inflating: +_2863_640_640_label_ACCIDENT_DETECTION.v1i.yolov7pytorch/train/images/download-3_jpg.rf.bebd79eda158e1ede264a7fcca15caea.jpg  \n",
            "  inflating: __MACOSX/+_2863_640_640_label_ACCIDENT_DETECTION.v1i.yolov7pytorch/train/images/._download-3_jpg.rf.bebd79eda158e1ede264a7fcca15caea.jpg  \n",
            "  inflating: +_2863_640_640_label_ACCIDENT_DETECTION.v1i.yolov7pytorch/train/images/Semi-RealisticVD-174_jpg.rf.139668321e31f50d7c3f2f2e652cd49a.jpg  \n",
            "  inflating: __MACOSX/+_2863_640_640_label_ACCIDENT_DETECTION.v1i.yolov7pytorch/train/images/._Semi-RealisticVD-174_jpg.rf.139668321e31f50d7c3f2f2e652cd49a.jpg  \n",
            "  inflating: +_2863_640_640_label_ACCIDENT_DETECTION.v1i.yolov7pytorch/train/images/screen_images9_png_jpg.rf.51456eec6e82829fa606dac365eea46a.jpg  \n",
            "  inflating: __MACOSX/+_2863_640_640_label_ACCIDENT_DETECTION.v1i.yolov7pytorch/train/images/._screen_images9_png_jpg.rf.51456eec6e82829fa606dac365eea46a.jpg  \n",
            "  inflating: +_2863_640_640_label_ACCIDENT_DETECTION.v1i.yolov7pytorch/train/images/images_jpg.rf.0859053ca43adc7ddd02b0d0dbe004b4.jpg  \n",
            "  inflating: __MACOSX/+_2863_640_640_label_ACCIDENT_DETECTION.v1i.yolov7pytorch/train/images/._images_jpg.rf.0859053ca43adc7ddd02b0d0dbe004b4.jpg  \n",
            "  inflating: +_2863_640_640_label_ACCIDENT_DETECTION.v1i.yolov7pytorch/train/images/severityV4_72_jpg.rf.686360d4c0d9c84a53d79acaa658e7a2.jpg  \n",
            "  inflating: __MACOSX/+_2863_640_640_label_ACCIDENT_DETECTION.v1i.yolov7pytorch/train/images/._severityV4_72_jpg.rf.686360d4c0d9c84a53d79acaa658e7a2.jpg  \n",
            "  inflating: +_2863_640_640_label_ACCIDENT_DETECTION.v1i.yolov7pytorch/train/images/severityV4_82_jpg.rf.eac05c100f55c897034de50feec937d8.jpg  \n",
            "  inflating: __MACOSX/+_2863_640_640_label_ACCIDENT_DETECTION.v1i.yolov7pytorch/train/images/._severityV4_82_jpg.rf.eac05c100f55c897034de50feec937d8.jpg  \n",
            "  inflating: +_2863_640_640_label_ACCIDENT_DETECTION.v1i.yolov7pytorch/train/images/traffic_img1393_jpg.rf.b27297dd9edf7a06303ccec33cb97622.jpg  \n",
            "  inflating: __MACOSX/+_2863_640_640_label_ACCIDENT_DETECTION.v1i.yolov7pytorch/train/images/._traffic_img1393_jpg.rf.b27297dd9edf7a06303ccec33cb97622.jpg  \n",
            "  inflating: +_2863_640_640_label_ACCIDENT_DETECTION.v1i.yolov7pytorch/train/images/Severity_Detect_V34_jpg.rf.c30d80df4082f9c0fd1c3c896c562cc0.jpg  \n",
            "  inflating: __MACOSX/+_2863_640_640_label_ACCIDENT_DETECTION.v1i.yolov7pytorch/train/images/._Severity_Detect_V34_jpg.rf.c30d80df4082f9c0fd1c3c896c562cc0.jpg  \n",
            "  inflating: +_2863_640_640_label_ACCIDENT_DETECTION.v1i.yolov7pytorch/train/images/images-2_jpg.rf.2df245c128730f4c9fcdccb660b161ab.jpg  \n",
            "  inflating: __MACOSX/+_2863_640_640_label_ACCIDENT_DETECTION.v1i.yolov7pytorch/train/images/._images-2_jpg.rf.2df245c128730f4c9fcdccb660b161ab.jpg  \n",
            "  inflating: +_2863_640_640_label_ACCIDENT_DETECTION.v1i.yolov7pytorch/train/images/799_jpeg_jpg.rf.31868f99df743dcf8a531343d147c354.jpg  \n",
            "  inflating: __MACOSX/+_2863_640_640_label_ACCIDENT_DETECTION.v1i.yolov7pytorch/train/images/._799_jpeg_jpg.rf.31868f99df743dcf8a531343d147c354.jpg  \n",
            "  inflating: +_2863_640_640_label_ACCIDENT_DETECTION.v1i.yolov7pytorch/train/images/images-2_jpg.rf.74156c81206557b753bb9347594353f5.jpg  \n",
            "  inflating: __MACOSX/+_2863_640_640_label_ACCIDENT_DETECTION.v1i.yolov7pytorch/train/images/._images-2_jpg.rf.74156c81206557b753bb9347594353f5.jpg  \n",
            "  inflating: +_2863_640_640_label_ACCIDENT_DETECTION.v1i.yolov7pytorch/train/images/download_jpg.rf.8ea7e2d39b89bb6f59a06f85c760a816.jpg  \n",
            "  inflating: __MACOSX/+_2863_640_640_label_ACCIDENT_DETECTION.v1i.yolov7pytorch/train/images/._download_jpg.rf.8ea7e2d39b89bb6f59a06f85c760a816.jpg  \n",
            "  inflating: +_2863_640_640_label_ACCIDENT_DETECTION.v1i.yolov7pytorch/train/images/sev5_jpg.rf.fc4fe86a4229b276d9fa904ef471ee7b.jpg  \n",
            "  inflating: __MACOSX/+_2863_640_640_label_ACCIDENT_DETECTION.v1i.yolov7pytorch/train/images/._sev5_jpg.rf.fc4fe86a4229b276d9fa904ef471ee7b.jpg  \n",
            "  inflating: +_2863_640_640_label_ACCIDENT_DETECTION.v1i.yolov7pytorch/train/images/sever8_jpg.rf.f6ea826f23dca3ce02f5f3f7552314e4.jpg  \n",
            "  inflating: __MACOSX/+_2863_640_640_label_ACCIDENT_DETECTION.v1i.yolov7pytorch/train/images/._sever8_jpg.rf.f6ea826f23dca3ce02f5f3f7552314e4.jpg  \n",
            "  inflating: +_2863_640_640_label_ACCIDENT_DETECTION.v1i.yolov7pytorch/train/images/severityV4_41_jpg.rf.eca066515b5046933385545de5cbf7ee.jpg  \n",
            "  inflating: __MACOSX/+_2863_640_640_label_ACCIDENT_DETECTION.v1i.yolov7pytorch/train/images/._severityV4_41_jpg.rf.eca066515b5046933385545de5cbf7ee.jpg  \n",
            "  inflating: +_2863_640_640_label_ACCIDENT_DETECTION.v1i.yolov7pytorch/train/images/images_jpg.rf.b79764e617b3b68472f0a16039228164.jpg  \n",
            "  inflating: __MACOSX/+_2863_640_640_label_ACCIDENT_DETECTION.v1i.yolov7pytorch/train/images/._images_jpg.rf.b79764e617b3b68472f0a16039228164.jpg  \n",
            "  inflating: +_2863_640_640_label_ACCIDENT_DETECTION.v1i.yolov7pytorch/train/images/severityV4_78_jpg.rf.a46fed05aa7a8b4c4f390ec6c1671ff6.jpg  \n",
            "  inflating: __MACOSX/+_2863_640_640_label_ACCIDENT_DETECTION.v1i.yolov7pytorch/train/images/._severityV4_78_jpg.rf.a46fed05aa7a8b4c4f390ec6c1671ff6.jpg  \n",
            "  inflating: +_2863_640_640_label_ACCIDENT_DETECTION.v1i.yolov7pytorch/train/images/severity_V134_jpg.rf.d08810f5b58f1b37e6c5f81496eaccd0.jpg  \n",
            "  inflating: __MACOSX/+_2863_640_640_label_ACCIDENT_DETECTION.v1i.yolov7pytorch/train/images/._severity_V134_jpg.rf.d08810f5b58f1b37e6c5f81496eaccd0.jpg  \n",
            "  inflating: +_2863_640_640_label_ACCIDENT_DETECTION.v1i.yolov7pytorch/train/images/severityV4_64_jpg.rf.b43d8d837e1eac9bb73f2460cc99bbf2.jpg  \n",
            "  inflating: __MACOSX/+_2863_640_640_label_ACCIDENT_DETECTION.v1i.yolov7pytorch/train/images/._severityV4_64_jpg.rf.b43d8d837e1eac9bb73f2460cc99bbf2.jpg  \n",
            "  inflating: +_2863_640_640_label_ACCIDENT_DETECTION.v1i.yolov7pytorch/train/images/traffic_img691_jpg.rf.dc0cdc2ab07f4816ca78d67c294d7e03.jpg  \n",
            "  inflating: __MACOSX/+_2863_640_640_label_ACCIDENT_DETECTION.v1i.yolov7pytorch/train/images/._traffic_img691_jpg.rf.dc0cdc2ab07f4816ca78d67c294d7e03.jpg  \n",
            "  inflating: +_2863_640_640_label_ACCIDENT_DETECTION.v1i.yolov7pytorch/train/images/traffic_img21_jpg.rf.d4a103b2aa1660f12260c65c32cd3c5a.jpg  \n",
            "  inflating: __MACOSX/+_2863_640_640_label_ACCIDENT_DETECTION.v1i.yolov7pytorch/train/images/._traffic_img21_jpg.rf.d4a103b2aa1660f12260c65c32cd3c5a.jpg  \n",
            "  inflating: +_2863_640_640_label_ACCIDENT_DETECTION.v1i.yolov7pytorch/train/images/accidentFrame283_jpg.rf.4fa44ce66b33c2870ebf78f9df4258c3.jpg  \n",
            "  inflating: __MACOSX/+_2863_640_640_label_ACCIDENT_DETECTION.v1i.yolov7pytorch/train/images/._accidentFrame283_jpg.rf.4fa44ce66b33c2870ebf78f9df4258c3.jpg  \n",
            "  inflating: +_2863_640_640_label_ACCIDENT_DETECTION.v1i.yolov7pytorch/train/images/sever9_jpg.rf.63bd62b4af241c7794f5429d68bca128.jpg  \n",
            "  inflating: __MACOSX/+_2863_640_640_label_ACCIDENT_DETECTION.v1i.yolov7pytorch/train/images/._sever9_jpg.rf.63bd62b4af241c7794f5429d68bca128.jpg  \n",
            "  inflating: +_2863_640_640_label_ACCIDENT_DETECTION.v1i.yolov7pytorch/train/images/FLIP_CAR_V113_jpg.rf.f4633e071397516325b87659b9684231.jpg  \n",
            "  inflating: __MACOSX/+_2863_640_640_label_ACCIDENT_DETECTION.v1i.yolov7pytorch/train/images/._FLIP_CAR_V113_jpg.rf.f4633e071397516325b87659b9684231.jpg  \n",
            "  inflating: +_2863_640_640_label_ACCIDENT_DETECTION.v1i.yolov7pytorch/train/images/severityV3_29_jpeg_jpg.rf.745bfb02f8408949abd9610176c533d5.jpg  \n",
            "  inflating: __MACOSX/+_2863_640_640_label_ACCIDENT_DETECTION.v1i.yolov7pytorch/train/images/._severityV3_29_jpeg_jpg.rf.745bfb02f8408949abd9610176c533d5.jpg  \n",
            "  inflating: +_2863_640_640_label_ACCIDENT_DETECTION.v1i.yolov7pytorch/train/images/FLIP_CAR_V12_jpg.rf.1781f850e6e000be046fb8112b8beb4c.jpg  \n",
            "  inflating: __MACOSX/+_2863_640_640_label_ACCIDENT_DETECTION.v1i.yolov7pytorch/train/images/._FLIP_CAR_V12_jpg.rf.1781f850e6e000be046fb8112b8beb4c.jpg  \n",
            "  inflating: +_2863_640_640_label_ACCIDENT_DETECTION.v1i.yolov7pytorch/train/images/tt1_png_jpg.rf.c340adeccda75a23a2af7df0a063be26.jpg  \n",
            "  inflating: __MACOSX/+_2863_640_640_label_ACCIDENT_DETECTION.v1i.yolov7pytorch/train/images/._tt1_png_jpg.rf.c340adeccda75a23a2af7df0a063be26.jpg  \n",
            "  inflating: +_2863_640_640_label_ACCIDENT_DETECTION.v1i.yolov7pytorch/train/images/accidentFrame2174_jpg.rf.dd7b0f588d0b3645e1639c1ab2ab8042.jpg  \n",
            "  inflating: __MACOSX/+_2863_640_640_label_ACCIDENT_DETECTION.v1i.yolov7pytorch/train/images/._accidentFrame2174_jpg.rf.dd7b0f588d0b3645e1639c1ab2ab8042.jpg  \n",
            "  inflating: +_2863_640_640_label_ACCIDENT_DETECTION.v1i.yolov7pytorch/train/images/severityV4_27_jpg.rf.dcd958a2cf494f44cab6aa73dfb5287d.jpg  \n",
            "  inflating: __MACOSX/+_2863_640_640_label_ACCIDENT_DETECTION.v1i.yolov7pytorch/train/images/._severityV4_27_jpg.rf.dcd958a2cf494f44cab6aa73dfb5287d.jpg  \n",
            "  inflating: +_2863_640_640_label_ACCIDENT_DETECTION.v1i.yolov7pytorch/train/images/14-40_jpg.rf.c61f4307ca7fb4ad3c56976423be75b9.jpg  \n",
            "  inflating: __MACOSX/+_2863_640_640_label_ACCIDENT_DETECTION.v1i.yolov7pytorch/train/images/._14-40_jpg.rf.c61f4307ca7fb4ad3c56976423be75b9.jpg  \n",
            "  inflating: +_2863_640_640_label_ACCIDENT_DETECTION.v1i.yolov7pytorch/train/images/Semi-RealisticVD-232_jpg.rf.eaee091c10d5579cc2cdcbdae081ecab.jpg  \n",
            "  inflating: __MACOSX/+_2863_640_640_label_ACCIDENT_DETECTION.v1i.yolov7pytorch/train/images/._Semi-RealisticVD-232_jpg.rf.eaee091c10d5579cc2cdcbdae081ecab.jpg  \n",
            "  inflating: +_2863_640_640_label_ACCIDENT_DETECTION.v1i.yolov7pytorch/train/images/images-15_jpg.rf.30fdd555f6c3c8908107a4a54fcd94ca.jpg  \n",
            "  inflating: __MACOSX/+_2863_640_640_label_ACCIDENT_DETECTION.v1i.yolov7pytorch/train/images/._images-15_jpg.rf.30fdd555f6c3c8908107a4a54fcd94ca.jpg  \n",
            "  inflating: +_2863_640_640_label_ACCIDENT_DETECTION.v1i.yolov7pytorch/train/images/traffic_img1579_jpg.rf.90712c2f617f837799ed21fb624e7f96.jpg  \n",
            "  inflating: __MACOSX/+_2863_640_640_label_ACCIDENT_DETECTION.v1i.yolov7pytorch/train/images/._traffic_img1579_jpg.rf.90712c2f617f837799ed21fb624e7f96.jpg  \n",
            "  inflating: +_2863_640_640_label_ACCIDENT_DETECTION.v1i.yolov7pytorch/train/images/traffic_img801_jpg.rf.ef091bf30f853b3a683e5c1dd5b3af8d.jpg  \n",
            "  inflating: __MACOSX/+_2863_640_640_label_ACCIDENT_DETECTION.v1i.yolov7pytorch/train/images/._traffic_img801_jpg.rf.ef091bf30f853b3a683e5c1dd5b3af8d.jpg  \n",
            "  inflating: +_2863_640_640_label_ACCIDENT_DETECTION.v1i.yolov7pytorch/train/images/traffic_img1887_jpg.rf.e1d81aeae07ec5a3341dc805b3e7c604.jpg  \n",
            "  inflating: __MACOSX/+_2863_640_640_label_ACCIDENT_DETECTION.v1i.yolov7pytorch/train/images/._traffic_img1887_jpg.rf.e1d81aeae07ec5a3341dc805b3e7c604.jpg  \n",
            "  inflating: +_2863_640_640_label_ACCIDENT_DETECTION.v1i.yolov7pytorch/train/images/download_jpg.rf.807b6a9d82ead50a32df4cc8ef74f0af.jpg  \n",
            "  inflating: __MACOSX/+_2863_640_640_label_ACCIDENT_DETECTION.v1i.yolov7pytorch/train/images/._download_jpg.rf.807b6a9d82ead50a32df4cc8ef74f0af.jpg  \n",
            "  inflating: +_2863_640_640_label_ACCIDENT_DETECTION.v1i.yolov7pytorch/train/images/severity_V120_jpg.rf.ed3281063afd97a5234c8a9c6870ba46.jpg  \n",
            "  inflating: __MACOSX/+_2863_640_640_label_ACCIDENT_DETECTION.v1i.yolov7pytorch/train/images/._severity_V120_jpg.rf.ed3281063afd97a5234c8a9c6870ba46.jpg  \n",
            "  inflating: +_2863_640_640_label_ACCIDENT_DETECTION.v1i.yolov7pytorch/train/images/images-27_jpg.rf.ad125ee052b0ba027af571dfa0785610.jpg  \n",
            "  inflating: __MACOSX/+_2863_640_640_label_ACCIDENT_DETECTION.v1i.yolov7pytorch/train/images/._images-27_jpg.rf.ad125ee052b0ba027af571dfa0785610.jpg  \n",
            "  inflating: +_2863_640_640_label_ACCIDENT_DETECTION.v1i.yolov7pytorch/train/images/severityV4_44_jpg.rf.fd7779671f26f997054a9fa4fc014ee6.jpg  \n",
            "  inflating: __MACOSX/+_2863_640_640_label_ACCIDENT_DETECTION.v1i.yolov7pytorch/train/images/._severityV4_44_jpg.rf.fd7779671f26f997054a9fa4fc014ee6.jpg  \n",
            "  inflating: +_2863_640_640_label_ACCIDENT_DETECTION.v1i.yolov7pytorch/train/images/FLIP_CAR_V126_jpg.rf.ac6e16a9ce0844f09257f3135c5cbe0f.jpg  \n",
            "  inflating: __MACOSX/+_2863_640_640_label_ACCIDENT_DETECTION.v1i.yolov7pytorch/train/images/._FLIP_CAR_V126_jpg.rf.ac6e16a9ce0844f09257f3135c5cbe0f.jpg  \n",
            "  inflating: +_2863_640_640_label_ACCIDENT_DETECTION.v1i.yolov7pytorch/train/images/severityV4_80_jpg.rf.dbc8593cc4f0f54a34778e4051475d46.jpg  \n",
            "  inflating: __MACOSX/+_2863_640_640_label_ACCIDENT_DETECTION.v1i.yolov7pytorch/train/images/._severityV4_80_jpg.rf.dbc8593cc4f0f54a34778e4051475d46.jpg  \n",
            "  inflating: +_2863_640_640_label_ACCIDENT_DETECTION.v1i.yolov7pytorch/train/images/Semi-RealisticVD-32_jpg.rf.75094b0e0b407a7ece43a53f18940a68.jpg  \n",
            "  inflating: __MACOSX/+_2863_640_640_label_ACCIDENT_DETECTION.v1i.yolov7pytorch/train/images/._Semi-RealisticVD-32_jpg.rf.75094b0e0b407a7ece43a53f18940a68.jpg  \n",
            "  inflating: +_2863_640_640_label_ACCIDENT_DETECTION.v1i.yolov7pytorch/train/images/severity_V110_jpg.rf.a401c84cb13d056cca8702af221fc8a0.jpg  \n",
            "  inflating: __MACOSX/+_2863_640_640_label_ACCIDENT_DETECTION.v1i.yolov7pytorch/train/images/._severity_V110_jpg.rf.a401c84cb13d056cca8702af221fc8a0.jpg  \n",
            "  inflating: +_2863_640_640_label_ACCIDENT_DETECTION.v1i.yolov7pytorch/train/images/FLIP_CAR_V174_jpg.rf.fe0bcc405ff465448ccb4404b7be770b.jpg  \n",
            "  inflating: __MACOSX/+_2863_640_640_label_ACCIDENT_DETECTION.v1i.yolov7pytorch/train/images/._FLIP_CAR_V174_jpg.rf.fe0bcc405ff465448ccb4404b7be770b.jpg  \n",
            "  inflating: +_2863_640_640_label_ACCIDENT_DETECTION.v1i.yolov7pytorch/train/images/traffic_img12_jpg.rf.3856456c4facfe0f3f096dddf7062ef5.jpg  \n",
            "  inflating: __MACOSX/+_2863_640_640_label_ACCIDENT_DETECTION.v1i.yolov7pytorch/train/images/._traffic_img12_jpg.rf.3856456c4facfe0f3f096dddf7062ef5.jpg  \n",
            "  inflating: +_2863_640_640_label_ACCIDENT_DETECTION.v1i.yolov7pytorch/train/images/severityV4_22_jpg.rf.d54283b33acd142d72065f9a9d04db7e.jpg  \n",
            "  inflating: __MACOSX/+_2863_640_640_label_ACCIDENT_DETECTION.v1i.yolov7pytorch/train/images/._severityV4_22_jpg.rf.d54283b33acd142d72065f9a9d04db7e.jpg  \n",
            "  inflating: +_2863_640_640_label_ACCIDENT_DETECTION.v1i.yolov7pytorch/train/images/traffic_img1894_jpg.rf.4043f4bcf42c977e3d0c7c254ef8f41a.jpg  \n",
            "  inflating: __MACOSX/+_2863_640_640_label_ACCIDENT_DETECTION.v1i.yolov7pytorch/train/images/._traffic_img1894_jpg.rf.4043f4bcf42c977e3d0c7c254ef8f41a.jpg  \n",
            "  inflating: +_2863_640_640_label_ACCIDENT_DETECTION.v1i.yolov7pytorch/train/images/severityV4_95_jpg.rf.d8b1c75789bd51995ad07624bc6d6900.jpg  \n",
            "  inflating: __MACOSX/+_2863_640_640_label_ACCIDENT_DETECTION.v1i.yolov7pytorch/train/images/._severityV4_95_jpg.rf.d8b1c75789bd51995ad07624bc6d6900.jpg  \n",
            "  inflating: +_2863_640_640_label_ACCIDENT_DETECTION.v1i.yolov7pytorch/train/images/severityV3_15_jpeg_jpg.rf.d7d485022bed74fd55565ab4c25cfb16.jpg  \n",
            "  inflating: __MACOSX/+_2863_640_640_label_ACCIDENT_DETECTION.v1i.yolov7pytorch/train/images/._severityV3_15_jpeg_jpg.rf.d7d485022bed74fd55565ab4c25cfb16.jpg  \n",
            "  inflating: +_2863_640_640_label_ACCIDENT_DETECTION.v1i.yolov7pytorch/train/images/images-13_jpg.rf.1fb7208ae798c6f7f33a10a633cf4f05.jpg  \n",
            "  inflating: __MACOSX/+_2863_640_640_label_ACCIDENT_DETECTION.v1i.yolov7pytorch/train/images/._images-13_jpg.rf.1fb7208ae798c6f7f33a10a633cf4f05.jpg  \n",
            "  inflating: +_2863_640_640_label_ACCIDENT_DETECTION.v1i.yolov7pytorch/train/images/severityV4_39_jpg.rf.02488a0e6cab4c82511d29fb2b022ce0.jpg  \n",
            "  inflating: __MACOSX/+_2863_640_640_label_ACCIDENT_DETECTION.v1i.yolov7pytorch/train/images/._severityV4_39_jpg.rf.02488a0e6cab4c82511d29fb2b022ce0.jpg  \n",
            "  inflating: +_2863_640_640_label_ACCIDENT_DETECTION.v1i.yolov7pytorch/train/images/Severity_Detect_V4_jpg.rf.dc0e92a70625a05f66ad207ba8980cb6.jpg  \n",
            "  inflating: __MACOSX/+_2863_640_640_label_ACCIDENT_DETECTION.v1i.yolov7pytorch/train/images/._Severity_Detect_V4_jpg.rf.dc0e92a70625a05f66ad207ba8980cb6.jpg  \n",
            "  inflating: +_2863_640_640_label_ACCIDENT_DETECTION.v1i.yolov7pytorch/train/images/1477548_082016-bayonnewreck_jpg.rf.e0a3442a95796102add9b1774f2c14df.jpg  \n",
            "  inflating: __MACOSX/+_2863_640_640_label_ACCIDENT_DETECTION.v1i.yolov7pytorch/train/images/._1477548_082016-bayonnewreck_jpg.rf.e0a3442a95796102add9b1774f2c14df.jpg  \n",
            "  inflating: +_2863_640_640_label_ACCIDENT_DETECTION.v1i.yolov7pytorch/train/images/images-24_jpg.rf.37272e5e3c5393004c3b412ffa885c14.jpg  \n",
            "  inflating: __MACOSX/+_2863_640_640_label_ACCIDENT_DETECTION.v1i.yolov7pytorch/train/images/._images-24_jpg.rf.37272e5e3c5393004c3b412ffa885c14.jpg  \n",
            "  inflating: +_2863_640_640_label_ACCIDENT_DETECTION.v1i.yolov7pytorch/train/images/traffic_img2121_jpg.rf.b514e790763f6eb2cfcd67ae7487f1fc.jpg  \n",
            "  inflating: __MACOSX/+_2863_640_640_label_ACCIDENT_DETECTION.v1i.yolov7pytorch/train/images/._traffic_img2121_jpg.rf.b514e790763f6eb2cfcd67ae7487f1fc.jpg  \n",
            "  inflating: +_2863_640_640_label_ACCIDENT_DETECTION.v1i.yolov7pytorch/train/images/traffic_img1739_jpg.rf.b64a9c0d1aac3951ef9ddb4acc54e525.jpg  \n",
            "  inflating: __MACOSX/+_2863_640_640_label_ACCIDENT_DETECTION.v1i.yolov7pytorch/train/images/._traffic_img1739_jpg.rf.b64a9c0d1aac3951ef9ddb4acc54e525.jpg  \n",
            "  inflating: +_2863_640_640_label_ACCIDENT_DETECTION.v1i.yolov7pytorch/train/images/images-34_jpg.rf.d99f4c6310e1630d1345a2aaaa99ed39.jpg  \n",
            "  inflating: __MACOSX/+_2863_640_640_label_ACCIDENT_DETECTION.v1i.yolov7pytorch/train/images/._images-34_jpg.rf.d99f4c6310e1630d1345a2aaaa99ed39.jpg  \n",
            "  inflating: +_2863_640_640_label_ACCIDENT_DETECTION.v1i.yolov7pytorch/train/images/accidentFrame130_jpg.rf.64ae08e66ff3865c15411de75dcb490f.jpg  \n",
            "  inflating: __MACOSX/+_2863_640_640_label_ACCIDENT_DETECTION.v1i.yolov7pytorch/train/images/._accidentFrame130_jpg.rf.64ae08e66ff3865c15411de75dcb490f.jpg  \n",
            "  inflating: +_2863_640_640_label_ACCIDENT_DETECTION.v1i.yolov7pytorch/train/images/images-26_jpg.rf.b019ac76409eb6dd2fdf1d201c5d78e9.jpg  \n",
            "  inflating: __MACOSX/+_2863_640_640_label_ACCIDENT_DETECTION.v1i.yolov7pytorch/train/images/._images-26_jpg.rf.b019ac76409eb6dd2fdf1d201c5d78e9.jpg  \n",
            "  inflating: +_2863_640_640_label_ACCIDENT_DETECTION.v1i.yolov7pytorch/train/images/images-10_jpg.rf.d2ed7debefb5348b26ea473fed18995e.jpg  \n",
            "  inflating: __MACOSX/+_2863_640_640_label_ACCIDENT_DETECTION.v1i.yolov7pytorch/train/images/._images-10_jpg.rf.d2ed7debefb5348b26ea473fed18995e.jpg  \n",
            "  inflating: +_2863_640_640_label_ACCIDENT_DETECTION.v1i.yolov7pytorch/train/images/FLIP_CAR_V163_jpg.rf.b1a7e93370bc6c06b0d847ba064ea0f3.jpg  \n",
            "  inflating: __MACOSX/+_2863_640_640_label_ACCIDENT_DETECTION.v1i.yolov7pytorch/train/images/._FLIP_CAR_V163_jpg.rf.b1a7e93370bc6c06b0d847ba064ea0f3.jpg  \n",
            "  inflating: +_2863_640_640_label_ACCIDENT_DETECTION.v1i.yolov7pytorch/train/images/severity_V143_jpg.rf.7626f2090ddecaa06cc0e1c7a87e292d.jpg  \n",
            "  inflating: __MACOSX/+_2863_640_640_label_ACCIDENT_DETECTION.v1i.yolov7pytorch/train/images/._severity_V143_jpg.rf.7626f2090ddecaa06cc0e1c7a87e292d.jpg  \n",
            "  inflating: +_2863_640_640_label_ACCIDENT_DETECTION.v1i.yolov7pytorch/train/images/severityV4_9_jpg.rf.cdb61cf93c6c51941a35233e8939a8dd.jpg  \n",
            "  inflating: __MACOSX/+_2863_640_640_label_ACCIDENT_DETECTION.v1i.yolov7pytorch/train/images/._severityV4_9_jpg.rf.cdb61cf93c6c51941a35233e8939a8dd.jpg  \n",
            "  inflating: +_2863_640_640_label_ACCIDENT_DETECTION.v1i.yolov7pytorch/train/images/download-9_jpg.rf.866df622ea1bd7e81c413ecd1016c998.jpg  \n",
            "  inflating: __MACOSX/+_2863_640_640_label_ACCIDENT_DETECTION.v1i.yolov7pytorch/train/images/._download-9_jpg.rf.866df622ea1bd7e81c413ecd1016c998.jpg  \n",
            "  inflating: +_2863_640_640_label_ACCIDENT_DETECTION.v1i.yolov7pytorch/train/images/severity_V138_jpg.rf.ef50b2ebf06186fdf59fbd1a0e0ad14d.jpg  \n",
            "  inflating: __MACOSX/+_2863_640_640_label_ACCIDENT_DETECTION.v1i.yolov7pytorch/train/images/._severity_V138_jpg.rf.ef50b2ebf06186fdf59fbd1a0e0ad14d.jpg  \n",
            "  inflating: +_2863_640_640_label_ACCIDENT_DETECTION.v1i.yolov7pytorch/train/images/screen_images11_png_jpg.rf.cd7235b9e8f0fa25b4c705cec9c14809.jpg  \n",
            "  inflating: __MACOSX/+_2863_640_640_label_ACCIDENT_DETECTION.v1i.yolov7pytorch/train/images/._screen_images11_png_jpg.rf.cd7235b9e8f0fa25b4c705cec9c14809.jpg  \n",
            "  inflating: +_2863_640_640_label_ACCIDENT_DETECTION.v1i.yolov7pytorch/train/images/accidentFrame130_jpg.rf.c03dc387669d9f284efd4a12906f3eed.jpg  \n",
            "  inflating: __MACOSX/+_2863_640_640_label_ACCIDENT_DETECTION.v1i.yolov7pytorch/train/images/._accidentFrame130_jpg.rf.c03dc387669d9f284efd4a12906f3eed.jpg  \n",
            "  inflating: +_2863_640_640_label_ACCIDENT_DETECTION.v1i.yolov7pytorch/train/images/traffic_img53_jpg.rf.ae022c6a2ae71df9bd45313740adbb4c.jpg  \n",
            "  inflating: __MACOSX/+_2863_640_640_label_ACCIDENT_DETECTION.v1i.yolov7pytorch/train/images/._traffic_img53_jpg.rf.ae022c6a2ae71df9bd45313740adbb4c.jpg  \n",
            "  inflating: +_2863_640_640_label_ACCIDENT_DETECTION.v1i.yolov7pytorch/train/images/images-5_jpg.rf.0c40a6840031e2be541e5a0c6baf4eb9.jpg  \n",
            "  inflating: __MACOSX/+_2863_640_640_label_ACCIDENT_DETECTION.v1i.yolov7pytorch/train/images/._images-5_jpg.rf.0c40a6840031e2be541e5a0c6baf4eb9.jpg  \n",
            "  inflating: +_2863_640_640_label_ACCIDENT_DETECTION.v1i.yolov7pytorch/train/images/traffic_img61_jpg.rf.cd4abedd7698ba799295aec60394cd03.jpg  \n",
            "  inflating: __MACOSX/+_2863_640_640_label_ACCIDENT_DETECTION.v1i.yolov7pytorch/train/images/._traffic_img61_jpg.rf.cd4abedd7698ba799295aec60394cd03.jpg  \n",
            "  inflating: +_2863_640_640_label_ACCIDENT_DETECTION.v1i.yolov7pytorch/train/images/arkatqejjx0ulhxbbrsj_jpg.rf.c80ed14402464374c562897ba6fd4d75.jpg  \n",
            "  inflating: __MACOSX/+_2863_640_640_label_ACCIDENT_DETECTION.v1i.yolov7pytorch/train/images/._arkatqejjx0ulhxbbrsj_jpg.rf.c80ed14402464374c562897ba6fd4d75.jpg  \n",
            "  inflating: +_2863_640_640_label_ACCIDENT_DETECTION.v1i.yolov7pytorch/train/images/traffic_img8_jpg.rf.ed90164655f36e3665f3d0dbdce46dff.jpg  \n",
            "  inflating: __MACOSX/+_2863_640_640_label_ACCIDENT_DETECTION.v1i.yolov7pytorch/train/images/._traffic_img8_jpg.rf.ed90164655f36e3665f3d0dbdce46dff.jpg  \n",
            "  inflating: +_2863_640_640_label_ACCIDENT_DETECTION.v1i.yolov7pytorch/train/images/traffic_img1116_jpg.rf.d0e4805222009949175f39ae47279f55.jpg  \n",
            "  inflating: __MACOSX/+_2863_640_640_label_ACCIDENT_DETECTION.v1i.yolov7pytorch/train/images/._traffic_img1116_jpg.rf.d0e4805222009949175f39ae47279f55.jpg  \n",
            "  inflating: +_2863_640_640_label_ACCIDENT_DETECTION.v1i.yolov7pytorch/train/images/traffic_img1803_jpg.rf.d9d7b10b79cffd463fe6c66c212746ea.jpg  \n",
            "  inflating: __MACOSX/+_2863_640_640_label_ACCIDENT_DETECTION.v1i.yolov7pytorch/train/images/._traffic_img1803_jpg.rf.d9d7b10b79cffd463fe6c66c212746ea.jpg  \n",
            "  inflating: +_2863_640_640_label_ACCIDENT_DETECTION.v1i.yolov7pytorch/train/images/download_jpg.rf.fa7244f8785dd6bfc150fa37d419ebc7.jpg  \n",
            "  inflating: __MACOSX/+_2863_640_640_label_ACCIDENT_DETECTION.v1i.yolov7pytorch/train/images/._download_jpg.rf.fa7244f8785dd6bfc150fa37d419ebc7.jpg  \n",
            "  inflating: +_2863_640_640_label_ACCIDENT_DETECTION.v1i.yolov7pytorch/train/images/images-2_jpg.rf.fa6bc74fd868e3dd9bdc9c13748453c1.jpg  \n",
            "  inflating: __MACOSX/+_2863_640_640_label_ACCIDENT_DETECTION.v1i.yolov7pytorch/train/images/._images-2_jpg.rf.fa6bc74fd868e3dd9bdc9c13748453c1.jpg  \n",
            "  inflating: +_2863_640_640_label_ACCIDENT_DETECTION.v1i.yolov7pytorch/train/images/severityV2_14_jpg.rf.172b019305acc7507834a99097ee5b7a.jpg  \n",
            "  inflating: __MACOSX/+_2863_640_640_label_ACCIDENT_DETECTION.v1i.yolov7pytorch/train/images/._severityV2_14_jpg.rf.172b019305acc7507834a99097ee5b7a.jpg  \n",
            "  inflating: +_2863_640_640_label_ACCIDENT_DETECTION.v1i.yolov7pytorch/train/images/accidentFrame2741_jpg.rf.ef03251ec5dec1d76d5e14b91dd6093d.jpg  \n",
            "  inflating: __MACOSX/+_2863_640_640_label_ACCIDENT_DETECTION.v1i.yolov7pytorch/train/images/._accidentFrame2741_jpg.rf.ef03251ec5dec1d76d5e14b91dd6093d.jpg  \n",
            "  inflating: +_2863_640_640_label_ACCIDENT_DETECTION.v1i.yolov7pytorch/train/images/tt1-v4_jpg.rf.f24ebc94361b47a98b61ea3f7fc84c9a.jpg  \n",
            "  inflating: __MACOSX/+_2863_640_640_label_ACCIDENT_DETECTION.v1i.yolov7pytorch/train/images/._tt1-v4_jpg.rf.f24ebc94361b47a98b61ea3f7fc84c9a.jpg  \n",
            "  inflating: +_2863_640_640_label_ACCIDENT_DETECTION.v1i.yolov7pytorch/train/images/FLIP_CAR_V139_jpg.rf.48193ed31b3c4e9ee0a58becf6341dbf.jpg  \n",
            "  inflating: __MACOSX/+_2863_640_640_label_ACCIDENT_DETECTION.v1i.yolov7pytorch/train/images/._FLIP_CAR_V139_jpg.rf.48193ed31b3c4e9ee0a58becf6341dbf.jpg  \n",
            "  inflating: +_2863_640_640_label_ACCIDENT_DETECTION.v1i.yolov7pytorch/train/images/traffic_img1021_jpg.rf.f259f77f43cdb84ea3d34ff900b3de8d.jpg  \n",
            "  inflating: __MACOSX/+_2863_640_640_label_ACCIDENT_DETECTION.v1i.yolov7pytorch/train/images/._traffic_img1021_jpg.rf.f259f77f43cdb84ea3d34ff900b3de8d.jpg  \n",
            "  inflating: +_2863_640_640_label_ACCIDENT_DETECTION.v1i.yolov7pytorch/train/images/sev8_jpg.rf.a0ad1645ced64bf48a90bc691c668801.jpg  \n",
            "  inflating: __MACOSX/+_2863_640_640_label_ACCIDENT_DETECTION.v1i.yolov7pytorch/train/images/._sev8_jpg.rf.a0ad1645ced64bf48a90bc691c668801.jpg  \n",
            "  inflating: +_2863_640_640_label_ACCIDENT_DETECTION.v1i.yolov7pytorch/train/images/Semi-RealisticVD-132_jpg.rf.ba939526bc9429c6cceb454f255f1cde.jpg  \n",
            "  inflating: __MACOSX/+_2863_640_640_label_ACCIDENT_DETECTION.v1i.yolov7pytorch/train/images/._Semi-RealisticVD-132_jpg.rf.ba939526bc9429c6cceb454f255f1cde.jpg  \n",
            "  inflating: +_2863_640_640_label_ACCIDENT_DETECTION.v1i.yolov7pytorch/train/images/traffic_img1359_jpg.rf.cc74f59276d909281a04ca803683704a.jpg  \n",
            "  inflating: __MACOSX/+_2863_640_640_label_ACCIDENT_DETECTION.v1i.yolov7pytorch/train/images/._traffic_img1359_jpg.rf.cc74f59276d909281a04ca803683704a.jpg  \n",
            "  inflating: +_2863_640_640_label_ACCIDENT_DETECTION.v1i.yolov7pytorch/train/images/download_jpg.rf.2194419e643e31568e275ce056fdb4f1.jpg  \n",
            "  inflating: __MACOSX/+_2863_640_640_label_ACCIDENT_DETECTION.v1i.yolov7pytorch/train/images/._download_jpg.rf.2194419e643e31568e275ce056fdb4f1.jpg  \n",
            "  inflating: +_2863_640_640_label_ACCIDENT_DETECTION.v1i.yolov7pytorch/train/images/severityV4_70_jpg.rf.ccc26ca83061add238979ee8dcaa1bf7.jpg  \n",
            "  inflating: __MACOSX/+_2863_640_640_label_ACCIDENT_DETECTION.v1i.yolov7pytorch/train/images/._severityV4_70_jpg.rf.ccc26ca83061add238979ee8dcaa1bf7.jpg  \n",
            "  inflating: +_2863_640_640_label_ACCIDENT_DETECTION.v1i.yolov7pytorch/train/images/traffic_img1380_jpg.rf.026cbf2f7294fee85468c97b0ae44233.jpg  \n",
            "  inflating: __MACOSX/+_2863_640_640_label_ACCIDENT_DETECTION.v1i.yolov7pytorch/train/images/._traffic_img1380_jpg.rf.026cbf2f7294fee85468c97b0ae44233.jpg  \n",
            "  inflating: +_2863_640_640_label_ACCIDENT_DETECTION.v1i.yolov7pytorch/train/images/traffic_img1657_jpg.rf.b7b4272c67c079514bd4fb5f11b76fec.jpg  \n",
            "  inflating: __MACOSX/+_2863_640_640_label_ACCIDENT_DETECTION.v1i.yolov7pytorch/train/images/._traffic_img1657_jpg.rf.b7b4272c67c079514bd4fb5f11b76fec.jpg  \n",
            "  inflating: +_2863_640_640_label_ACCIDENT_DETECTION.v1i.yolov7pytorch/train/images/traffic_img2094_jpg.rf.43d1883daca96e04ffc4378b893f85dd.jpg  \n",
            "  inflating: __MACOSX/+_2863_640_640_label_ACCIDENT_DETECTION.v1i.yolov7pytorch/train/images/._traffic_img2094_jpg.rf.43d1883daca96e04ffc4378b893f85dd.jpg  \n",
            "  inflating: +_2863_640_640_label_ACCIDENT_DETECTION.v1i.yolov7pytorch/train/images/buy3_jpg.rf.1012233a267facf93596378861aa0a12.jpg  \n",
            "  inflating: __MACOSX/+_2863_640_640_label_ACCIDENT_DETECTION.v1i.yolov7pytorch/train/images/._buy3_jpg.rf.1012233a267facf93596378861aa0a12.jpg  \n",
            "  inflating: +_2863_640_640_label_ACCIDENT_DETECTION.v1i.yolov7pytorch/train/images/severityV3_35_jpeg_jpg.rf.9266876b8ad744f5e285903ed98bf4f5.jpg  \n",
            "  inflating: __MACOSX/+_2863_640_640_label_ACCIDENT_DETECTION.v1i.yolov7pytorch/train/images/._severityV3_35_jpeg_jpg.rf.9266876b8ad744f5e285903ed98bf4f5.jpg  \n",
            "  inflating: +_2863_640_640_label_ACCIDENT_DETECTION.v1i.yolov7pytorch/train/images/images-11_jpg.rf.d2fa5bce103d480e0cd7b6c46b3d5500.jpg  \n",
            "  inflating: __MACOSX/+_2863_640_640_label_ACCIDENT_DETECTION.v1i.yolov7pytorch/train/images/._images-11_jpg.rf.d2fa5bce103d480e0cd7b6c46b3d5500.jpg  \n",
            "  inflating: +_2863_640_640_label_ACCIDENT_DETECTION.v1i.yolov7pytorch/train/images/accidentFrame112_jpg.rf.a5f917747eee22f27baf19cd24a0a30d.jpg  \n",
            "  inflating: __MACOSX/+_2863_640_640_label_ACCIDENT_DETECTION.v1i.yolov7pytorch/train/images/._accidentFrame112_jpg.rf.a5f917747eee22f27baf19cd24a0a30d.jpg  \n",
            "  inflating: +_2863_640_640_label_ACCIDENT_DETECTION.v1i.yolov7pytorch/train/images/2Q__-6-_jpg.rf.b192133c38a9bd50c1ab84734f772d4f.jpg  \n",
            "  inflating: __MACOSX/+_2863_640_640_label_ACCIDENT_DETECTION.v1i.yolov7pytorch/train/images/._2Q__-6-_jpg.rf.b192133c38a9bd50c1ab84734f772d4f.jpg  \n",
            "  inflating: +_2863_640_640_label_ACCIDENT_DETECTION.v1i.yolov7pytorch/train/images/FLIP_CAR_V171_jpg.rf.e1b2467e0b654735f6cbe325482899e8.jpg  \n",
            "  inflating: __MACOSX/+_2863_640_640_label_ACCIDENT_DETECTION.v1i.yolov7pytorch/train/images/._FLIP_CAR_V171_jpg.rf.e1b2467e0b654735f6cbe325482899e8.jpg  \n",
            "  inflating: +_2863_640_640_label_ACCIDENT_DETECTION.v1i.yolov7pytorch/train/images/images_002_jpg.rf.e8efc111d7280dbe50eb370532ccc5dc.jpg  \n",
            "  inflating: __MACOSX/+_2863_640_640_label_ACCIDENT_DETECTION.v1i.yolov7pytorch/train/images/._images_002_jpg.rf.e8efc111d7280dbe50eb370532ccc5dc.jpg  \n",
            "  inflating: +_2863_640_640_label_ACCIDENT_DETECTION.v1i.yolov7pytorch/train/images/traffic_img1834_jpg.rf.ceb352bd578f4caf43e54a8a1546ff4f.jpg  \n",
            "  inflating: __MACOSX/+_2863_640_640_label_ACCIDENT_DETECTION.v1i.yolov7pytorch/train/images/._traffic_img1834_jpg.rf.ceb352bd578f4caf43e54a8a1546ff4f.jpg  \n",
            "  inflating: +_2863_640_640_label_ACCIDENT_DETECTION.v1i.yolov7pytorch/train/images/792_jpeg_jpg.rf.5516cd08a6a7f9b15e7977d5e1a9e2bc.jpg  \n",
            "  inflating: __MACOSX/+_2863_640_640_label_ACCIDENT_DETECTION.v1i.yolov7pytorch/train/images/._792_jpeg_jpg.rf.5516cd08a6a7f9b15e7977d5e1a9e2bc.jpg  \n",
            "  inflating: +_2863_640_640_label_ACCIDENT_DETECTION.v1i.yolov7pytorch/train/images/download_jpg.rf.bfea953af693a817a3d4d9ae223748a8.jpg  \n",
            "  inflating: __MACOSX/+_2863_640_640_label_ACCIDENT_DETECTION.v1i.yolov7pytorch/train/images/._download_jpg.rf.bfea953af693a817a3d4d9ae223748a8.jpg  \n",
            "  inflating: +_2863_640_640_label_ACCIDENT_DETECTION.v1i.yolov7pytorch/train/images/accidentFrame3008_jpg.rf.6d03d34ca72499705140908702d6709e.jpg  \n",
            "  inflating: __MACOSX/+_2863_640_640_label_ACCIDENT_DETECTION.v1i.yolov7pytorch/train/images/._accidentFrame3008_jpg.rf.6d03d34ca72499705140908702d6709e.jpg  \n",
            "  inflating: +_2863_640_640_label_ACCIDENT_DETECTION.v1i.yolov7pytorch/train/images/severityV4_79_jpg.rf.e86fa7044281144069f15497962fe408.jpg  \n",
            "  inflating: __MACOSX/+_2863_640_640_label_ACCIDENT_DETECTION.v1i.yolov7pytorch/train/images/._severityV4_79_jpg.rf.e86fa7044281144069f15497962fe408.jpg  \n",
            "  inflating: +_2863_640_640_label_ACCIDENT_DETECTION.v1i.yolov7pytorch/train/images/severityV3_11_jpeg_jpg.rf.eb4313550e0ae616669e82721a376574.jpg  \n",
            "  inflating: __MACOSX/+_2863_640_640_label_ACCIDENT_DETECTION.v1i.yolov7pytorch/train/images/._severityV3_11_jpeg_jpg.rf.eb4313550e0ae616669e82721a376574.jpg  \n",
            "  inflating: +_2863_640_640_label_ACCIDENT_DETECTION.v1i.yolov7pytorch/train/images/images-2_jpg.rf.b5d5318aee7388c423961b102f149123.jpg  \n",
            "  inflating: __MACOSX/+_2863_640_640_label_ACCIDENT_DETECTION.v1i.yolov7pytorch/train/images/._images-2_jpg.rf.b5d5318aee7388c423961b102f149123.jpg  \n",
            "  inflating: +_2863_640_640_label_ACCIDENT_DETECTION.v1i.yolov7pytorch/train/images/images-3_jpg.rf.c2f6628f5631188f2ce2fd70bc340cbb.jpg  \n",
            "  inflating: __MACOSX/+_2863_640_640_label_ACCIDENT_DETECTION.v1i.yolov7pytorch/train/images/._images-3_jpg.rf.c2f6628f5631188f2ce2fd70bc340cbb.jpg  \n",
            "  inflating: +_2863_640_640_label_ACCIDENT_DETECTION.v1i.yolov7pytorch/train/images/FLIP_CAR_V114_jpg.rf.0025094c97567b3af40ef2a540c73105.jpg  \n",
            "  inflating: __MACOSX/+_2863_640_640_label_ACCIDENT_DETECTION.v1i.yolov7pytorch/train/images/._FLIP_CAR_V114_jpg.rf.0025094c97567b3af40ef2a540c73105.jpg  \n",
            "  inflating: +_2863_640_640_label_ACCIDENT_DETECTION.v1i.yolov7pytorch/train/images/images-10_jpg.rf.fe2e7538089da195651219d461b6d304.jpg  \n",
            "  inflating: __MACOSX/+_2863_640_640_label_ACCIDENT_DETECTION.v1i.yolov7pytorch/train/images/._images-10_jpg.rf.fe2e7538089da195651219d461b6d304.jpg  \n",
            "  inflating: +_2863_640_640_label_ACCIDENT_DETECTION.v1i.yolov7pytorch/train/images/traffic_img991_jpg.rf.b1802ce817aa5f2c33415841b35f095d.jpg  \n",
            "  inflating: __MACOSX/+_2863_640_640_label_ACCIDENT_DETECTION.v1i.yolov7pytorch/train/images/._traffic_img991_jpg.rf.b1802ce817aa5f2c33415841b35f095d.jpg  \n",
            "  inflating: +_2863_640_640_label_ACCIDENT_DETECTION.v1i.yolov7pytorch/train/images/FLIP_CAR_V117_jpg.rf.3412a567647b2e45e93412504bb85335.jpg  \n",
            "  inflating: __MACOSX/+_2863_640_640_label_ACCIDENT_DETECTION.v1i.yolov7pytorch/train/images/._FLIP_CAR_V117_jpg.rf.3412a567647b2e45e93412504bb85335.jpg  \n",
            "  inflating: +_2863_640_640_label_ACCIDENT_DETECTION.v1i.yolov7pytorch/train/images/download-1_jpg.rf.fe35b5851a10315a3a2029ef044c86f7.jpg  \n",
            "  inflating: __MACOSX/+_2863_640_640_label_ACCIDENT_DETECTION.v1i.yolov7pytorch/train/images/._download-1_jpg.rf.fe35b5851a10315a3a2029ef044c86f7.jpg  \n",
            "  inflating: +_2863_640_640_label_ACCIDENT_DETECTION.v1i.yolov7pytorch/train/images/severityV4_28_jpg.rf.259b5caafe622dada8ceeed07a2e5eb7.jpg  \n",
            "  inflating: __MACOSX/+_2863_640_640_label_ACCIDENT_DETECTION.v1i.yolov7pytorch/train/images/._severityV4_28_jpg.rf.259b5caafe622dada8ceeed07a2e5eb7.jpg  \n",
            "  inflating: +_2863_640_640_label_ACCIDENT_DETECTION.v1i.yolov7pytorch/train/images/tt3_png_jpg.rf.efff8236169786c12c126de542b6e3de.jpg  \n",
            "  inflating: __MACOSX/+_2863_640_640_label_ACCIDENT_DETECTION.v1i.yolov7pytorch/train/images/._tt3_png_jpg.rf.efff8236169786c12c126de542b6e3de.jpg  \n",
            "  inflating: +_2863_640_640_label_ACCIDENT_DETECTION.v1i.yolov7pytorch/train/images/images-8_jpg.rf.486d7bb163045a097063c37a7e67a891.jpg  \n",
            "  inflating: __MACOSX/+_2863_640_640_label_ACCIDENT_DETECTION.v1i.yolov7pytorch/train/images/._images-8_jpg.rf.486d7bb163045a097063c37a7e67a891.jpg  \n",
            "  inflating: +_2863_640_640_label_ACCIDENT_DETECTION.v1i.yolov7pytorch/train/images/accidentFrame123_jpg.rf.dfab8d7a38a9d225c1150ecd7d043369.jpg  \n",
            "  inflating: __MACOSX/+_2863_640_640_label_ACCIDENT_DETECTION.v1i.yolov7pytorch/train/images/._accidentFrame123_jpg.rf.dfab8d7a38a9d225c1150ecd7d043369.jpg  \n",
            "  inflating: +_2863_640_640_label_ACCIDENT_DETECTION.v1i.yolov7pytorch/train/images/images-1_jpg.rf.9ac6a73c68201be3a370bda52d36ac08.jpg  \n",
            "  inflating: __MACOSX/+_2863_640_640_label_ACCIDENT_DETECTION.v1i.yolov7pytorch/train/images/._images-1_jpg.rf.9ac6a73c68201be3a370bda52d36ac08.jpg  \n",
            "  inflating: +_2863_640_640_label_ACCIDENT_DETECTION.v1i.yolov7pytorch/train/images/severity_V16_jpg.rf.439c9797e178267644f881c45845dba5.jpg  \n",
            "  inflating: __MACOSX/+_2863_640_640_label_ACCIDENT_DETECTION.v1i.yolov7pytorch/train/images/._severity_V16_jpg.rf.439c9797e178267644f881c45845dba5.jpg  \n",
            "  inflating: +_2863_640_640_label_ACCIDENT_DETECTION.v1i.yolov7pytorch/train/images/images-29_jpg.rf.de069800327d636d577b6c615510abdf.jpg  \n",
            "  inflating: __MACOSX/+_2863_640_640_label_ACCIDENT_DETECTION.v1i.yolov7pytorch/train/images/._images-29_jpg.rf.de069800327d636d577b6c615510abdf.jpg  \n",
            "  inflating: +_2863_640_640_label_ACCIDENT_DETECTION.v1i.yolov7pytorch/train/images/traffic_img26_jpg.rf.e5f35f6a2c1d3fa87d09e330ed134061.jpg  \n",
            "  inflating: __MACOSX/+_2863_640_640_label_ACCIDENT_DETECTION.v1i.yolov7pytorch/train/images/._traffic_img26_jpg.rf.e5f35f6a2c1d3fa87d09e330ed134061.jpg  \n",
            "  inflating: +_2863_640_640_label_ACCIDENT_DETECTION.v1i.yolov7pytorch/train/images/download-10_jpg.rf.dcd452dd228ffee4d74b935b40ea32e8.jpg  \n",
            "  inflating: __MACOSX/+_2863_640_640_label_ACCIDENT_DETECTION.v1i.yolov7pytorch/train/images/._download-10_jpg.rf.dcd452dd228ffee4d74b935b40ea32e8.jpg  \n",
            "  inflating: +_2863_640_640_label_ACCIDENT_DETECTION.v1i.yolov7pytorch/train/images/traffic_img1392_jpg.rf.d4ed6ac90f44280972bd8820fefb43f3.jpg  \n",
            "  inflating: __MACOSX/+_2863_640_640_label_ACCIDENT_DETECTION.v1i.yolov7pytorch/train/images/._traffic_img1392_jpg.rf.d4ed6ac90f44280972bd8820fefb43f3.jpg  \n",
            "  inflating: +_2863_640_640_label_ACCIDENT_DETECTION.v1i.yolov7pytorch/train/images/FLIP_CAR_V155_jpg.rf.d91341c7b0e2348e731d2e843ac5a59d.jpg  \n",
            "  inflating: __MACOSX/+_2863_640_640_label_ACCIDENT_DETECTION.v1i.yolov7pytorch/train/images/._FLIP_CAR_V155_jpg.rf.d91341c7b0e2348e731d2e843ac5a59d.jpg  \n",
            "  inflating: +_2863_640_640_label_ACCIDENT_DETECTION.v1i.yolov7pytorch/train/images/sever11_jpg.rf.ed0c9f376f694fa1413f3c2d29149d7b.jpg  \n",
            "  inflating: __MACOSX/+_2863_640_640_label_ACCIDENT_DETECTION.v1i.yolov7pytorch/train/images/._sever11_jpg.rf.ed0c9f376f694fa1413f3c2d29149d7b.jpg  \n",
            "  inflating: +_2863_640_640_label_ACCIDENT_DETECTION.v1i.yolov7pytorch/train/images/severityV4_53_jpg.rf.5699ecce2db70d16ee60e85e4ae4f4ca.jpg  \n",
            "  inflating: __MACOSX/+_2863_640_640_label_ACCIDENT_DETECTION.v1i.yolov7pytorch/train/images/._severityV4_53_jpg.rf.5699ecce2db70d16ee60e85e4ae4f4ca.jpg  \n",
            "  inflating: +_2863_640_640_label_ACCIDENT_DETECTION.v1i.yolov7pytorch/train/images/756_jpeg_jpg.rf.f65c1ec9805f230dc9dda1e0e11a3164.jpg  \n",
            "  inflating: __MACOSX/+_2863_640_640_label_ACCIDENT_DETECTION.v1i.yolov7pytorch/train/images/._756_jpeg_jpg.rf.f65c1ec9805f230dc9dda1e0e11a3164.jpg  \n",
            "  inflating: +_2863_640_640_label_ACCIDENT_DETECTION.v1i.yolov7pytorch/train/images/severityV4_23_jpg.rf.e41fe2bb54c54428d6aba2d464fc4930.jpg  \n",
            "  inflating: __MACOSX/+_2863_640_640_label_ACCIDENT_DETECTION.v1i.yolov7pytorch/train/images/._severityV4_23_jpg.rf.e41fe2bb54c54428d6aba2d464fc4930.jpg  \n",
            "  inflating: +_2863_640_640_label_ACCIDENT_DETECTION.v1i.yolov7pytorch/train/images/severityV4_85_jpg.rf.669cc4d5bfd5e769ff729054d1d7aa15.jpg  \n",
            "  inflating: __MACOSX/+_2863_640_640_label_ACCIDENT_DETECTION.v1i.yolov7pytorch/train/images/._severityV4_85_jpg.rf.669cc4d5bfd5e769ff729054d1d7aa15.jpg  \n",
            "  inflating: +_2863_640_640_label_ACCIDENT_DETECTION.v1i.yolov7pytorch/train/images/images-18_jpg.rf.8b1030ed292b0288240e090e4d8d0b27.jpg  \n",
            "  inflating: __MACOSX/+_2863_640_640_label_ACCIDENT_DETECTION.v1i.yolov7pytorch/train/images/._images-18_jpg.rf.8b1030ed292b0288240e090e4d8d0b27.jpg  \n",
            "  inflating: +_2863_640_640_label_ACCIDENT_DETECTION.v1i.yolov7pytorch/train/images/Semi-RealisticVD-143_jpg.rf.db6eaff584c425b0905de8ffd2f83ec0.jpg  \n",
            "  inflating: __MACOSX/+_2863_640_640_label_ACCIDENT_DETECTION.v1i.yolov7pytorch/train/images/._Semi-RealisticVD-143_jpg.rf.db6eaff584c425b0905de8ffd2f83ec0.jpg  \n",
            "  inflating: +_2863_640_640_label_ACCIDENT_DETECTION.v1i.yolov7pytorch/train/images/images-10_jpg.rf.0ca5094a310f424b3354c2b08336f2a9.jpg  \n",
            "  inflating: __MACOSX/+_2863_640_640_label_ACCIDENT_DETECTION.v1i.yolov7pytorch/train/images/._images-10_jpg.rf.0ca5094a310f424b3354c2b08336f2a9.jpg  \n",
            "  inflating: +_2863_640_640_label_ACCIDENT_DETECTION.v1i.yolov7pytorch/train/images/images-7_jpg.rf.fc6bdfd86f8454f206b26f9f4f4e4832.jpg  \n",
            "  inflating: __MACOSX/+_2863_640_640_label_ACCIDENT_DETECTION.v1i.yolov7pytorch/train/images/._images-7_jpg.rf.fc6bdfd86f8454f206b26f9f4f4e4832.jpg  \n",
            "  inflating: +_2863_640_640_label_ACCIDENT_DETECTION.v1i.yolov7pytorch/train/images/Severity_Detect_V32_jpg.rf.ee8d794bed0fc4b19651e333856e9e9e.jpg  \n",
            "  inflating: __MACOSX/+_2863_640_640_label_ACCIDENT_DETECTION.v1i.yolov7pytorch/train/images/._Severity_Detect_V32_jpg.rf.ee8d794bed0fc4b19651e333856e9e9e.jpg  \n",
            "  inflating: +_2863_640_640_label_ACCIDENT_DETECTION.v1i.yolov7pytorch/train/images/severityV4_36_jpg.rf.e79663447b5167dd0d58dfd9907a590c.jpg  \n",
            "  inflating: __MACOSX/+_2863_640_640_label_ACCIDENT_DETECTION.v1i.yolov7pytorch/train/images/._severityV4_36_jpg.rf.e79663447b5167dd0d58dfd9907a590c.jpg  \n",
            "  inflating: +_2863_640_640_label_ACCIDENT_DETECTION.v1i.yolov7pytorch/train/images/severityV4_42_jpg.rf.c7952290efc498f4bfc0f667d93b8604.jpg  \n",
            "  inflating: __MACOSX/+_2863_640_640_label_ACCIDENT_DETECTION.v1i.yolov7pytorch/train/images/._severityV4_42_jpg.rf.c7952290efc498f4bfc0f667d93b8604.jpg  \n",
            "  inflating: +_2863_640_640_label_ACCIDENT_DETECTION.v1i.yolov7pytorch/train/images/severity_V144_jpg.rf.954589338dd3009af16f081f05177e19.jpg  \n",
            "  inflating: __MACOSX/+_2863_640_640_label_ACCIDENT_DETECTION.v1i.yolov7pytorch/train/images/._severity_V144_jpg.rf.954589338dd3009af16f081f05177e19.jpg  \n",
            "  inflating: +_2863_640_640_label_ACCIDENT_DETECTION.v1i.yolov7pytorch/train/images/traffic_img1780_jpg.rf.f2881ac16a72121b1dde24cdb0b4e3a8.jpg  \n",
            "  inflating: __MACOSX/+_2863_640_640_label_ACCIDENT_DETECTION.v1i.yolov7pytorch/train/images/._traffic_img1780_jpg.rf.f2881ac16a72121b1dde24cdb0b4e3a8.jpg  \n",
            "  inflating: +_2863_640_640_label_ACCIDENT_DETECTION.v1i.yolov7pytorch/train/images/Severity_Detect_V22_jpg.rf.f6230daee7b29dd97d5c66274ccded1d.jpg  \n",
            "  inflating: __MACOSX/+_2863_640_640_label_ACCIDENT_DETECTION.v1i.yolov7pytorch/train/images/._Severity_Detect_V22_jpg.rf.f6230daee7b29dd97d5c66274ccded1d.jpg  \n",
            "  inflating: +_2863_640_640_label_ACCIDENT_DETECTION.v1i.yolov7pytorch/train/images/FLIP_CAR_V148_jpg.rf.d9faed22b6f86e63d0a466d27488d32d.jpg  \n",
            "  inflating: __MACOSX/+_2863_640_640_label_ACCIDENT_DETECTION.v1i.yolov7pytorch/train/images/._FLIP_CAR_V148_jpg.rf.d9faed22b6f86e63d0a466d27488d32d.jpg  \n",
            "  inflating: +_2863_640_640_label_ACCIDENT_DETECTION.v1i.yolov7pytorch/train/images/FLIP_CAR_V175_jpg.rf.4044e778f6036289f8b418f06529a291.jpg  \n",
            "  inflating: __MACOSX/+_2863_640_640_label_ACCIDENT_DETECTION.v1i.yolov7pytorch/train/images/._FLIP_CAR_V175_jpg.rf.4044e778f6036289f8b418f06529a291.jpg  \n",
            "  inflating: +_2863_640_640_label_ACCIDENT_DETECTION.v1i.yolov7pytorch/train/images/images-20_jpg.rf.f66a9c53310b80fe6607426b18f7b339.jpg  \n",
            "  inflating: __MACOSX/+_2863_640_640_label_ACCIDENT_DETECTION.v1i.yolov7pytorch/train/images/._images-20_jpg.rf.f66a9c53310b80fe6607426b18f7b339.jpg  \n",
            "  inflating: +_2863_640_640_label_ACCIDENT_DETECTION.v1i.yolov7pytorch/train/images/download_jpg.rf.9a8fcef53cc941a5a7bfd845fd9b2acf.jpg  \n",
            "  inflating: __MACOSX/+_2863_640_640_label_ACCIDENT_DETECTION.v1i.yolov7pytorch/train/images/._download_jpg.rf.9a8fcef53cc941a5a7bfd845fd9b2acf.jpg  \n",
            "  inflating: +_2863_640_640_label_ACCIDENT_DETECTION.v1i.yolov7pytorch/train/images/images_jpg.rf.693dd2359a57297a34c553a0a16e4fa4.jpg  \n",
            "  inflating: __MACOSX/+_2863_640_640_label_ACCIDENT_DETECTION.v1i.yolov7pytorch/train/images/._images_jpg.rf.693dd2359a57297a34c553a0a16e4fa4.jpg  \n",
            "  inflating: +_2863_640_640_label_ACCIDENT_DETECTION.v1i.yolov7pytorch/train/images/sev2_jpg.rf.d82931f0916de208697afddd2a57992e.jpg  \n",
            "  inflating: __MACOSX/+_2863_640_640_label_ACCIDENT_DETECTION.v1i.yolov7pytorch/train/images/._sev2_jpg.rf.d82931f0916de208697afddd2a57992e.jpg  \n",
            "  inflating: +_2863_640_640_label_ACCIDENT_DETECTION.v1i.yolov7pytorch/train/images/images-17_jpg.rf.23917498b8ab3eb25b078cb5addb7f5b.jpg  \n",
            "  inflating: __MACOSX/+_2863_640_640_label_ACCIDENT_DETECTION.v1i.yolov7pytorch/train/images/._images-17_jpg.rf.23917498b8ab3eb25b078cb5addb7f5b.jpg  \n",
            "  inflating: +_2863_640_640_label_ACCIDENT_DETECTION.v1i.yolov7pytorch/train/images/severity_V132_jpg.rf.919d677039c8399d5a8b3d73953201fd.jpg  \n",
            "  inflating: __MACOSX/+_2863_640_640_label_ACCIDENT_DETECTION.v1i.yolov7pytorch/train/images/._severity_V132_jpg.rf.919d677039c8399d5a8b3d73953201fd.jpg  \n",
            "  inflating: +_2863_640_640_label_ACCIDENT_DETECTION.v1i.yolov7pytorch/train/images/images-1_jpg.rf.e116090940a7cde52bacafdd675dcc39.jpg  \n",
            "  inflating: __MACOSX/+_2863_640_640_label_ACCIDENT_DETECTION.v1i.yolov7pytorch/train/images/._images-1_jpg.rf.e116090940a7cde52bacafdd675dcc39.jpg  \n",
            "  inflating: +_2863_640_640_label_ACCIDENT_DETECTION.v1i.yolov7pytorch/train/images/accidentFrame1854_jpg.rf.eb015430683ebeacd40e96e71ded2909.jpg  \n",
            "  inflating: __MACOSX/+_2863_640_640_label_ACCIDENT_DETECTION.v1i.yolov7pytorch/train/images/._accidentFrame1854_jpg.rf.eb015430683ebeacd40e96e71ded2909.jpg  \n",
            "  inflating: +_2863_640_640_label_ACCIDENT_DETECTION.v1i.yolov7pytorch/train/images/Severity_Detect_V16_jpg.rf.9794ac14882b7985a763b080584742a5.jpg  \n",
            "  inflating: __MACOSX/+_2863_640_640_label_ACCIDENT_DETECTION.v1i.yolov7pytorch/train/images/._Severity_Detect_V16_jpg.rf.9794ac14882b7985a763b080584742a5.jpg  \n",
            "  inflating: +_2863_640_640_label_ACCIDENT_DETECTION.v1i.yolov7pytorch/train/images/images-29_jpg.rf.2905b4fd5391b6022ee4419a18e011b9.jpg  \n",
            "  inflating: __MACOSX/+_2863_640_640_label_ACCIDENT_DETECTION.v1i.yolov7pytorch/train/images/._images-29_jpg.rf.2905b4fd5391b6022ee4419a18e011b9.jpg  \n",
            "  inflating: +_2863_640_640_label_ACCIDENT_DETECTION.v1i.yolov7pytorch/train/images/download_jpg.rf.9a11ad1d7e373de7b6224cfd57e769f4.jpg  \n",
            "  inflating: __MACOSX/+_2863_640_640_label_ACCIDENT_DETECTION.v1i.yolov7pytorch/train/images/._download_jpg.rf.9a11ad1d7e373de7b6224cfd57e769f4.jpg  \n",
            "  inflating: +_2863_640_640_label_ACCIDENT_DETECTION.v1i.yolov7pytorch/train/images/severity_V113_jpg.rf.fc3f3c87c6ca6cb0756f641cb30c113d.jpg  \n",
            "  inflating: __MACOSX/+_2863_640_640_label_ACCIDENT_DETECTION.v1i.yolov7pytorch/train/images/._severity_V113_jpg.rf.fc3f3c87c6ca6cb0756f641cb30c113d.jpg  \n",
            "  inflating: +_2863_640_640_label_ACCIDENT_DETECTION.v1i.yolov7pytorch/train/images/FLIP_CAR_V156_jpg.rf.e6f7f970493b61387929291cce966b5e.jpg  \n",
            "  inflating: __MACOSX/+_2863_640_640_label_ACCIDENT_DETECTION.v1i.yolov7pytorch/train/images/._FLIP_CAR_V156_jpg.rf.e6f7f970493b61387929291cce966b5e.jpg  \n",
            "  inflating: +_2863_640_640_label_ACCIDENT_DETECTION.v1i.yolov7pytorch/train/images/images-22_jpg.rf.0758a79b1930f46df65e419056a1bf1b.jpg  \n",
            "  inflating: __MACOSX/+_2863_640_640_label_ACCIDENT_DETECTION.v1i.yolov7pytorch/train/images/._images-22_jpg.rf.0758a79b1930f46df65e419056a1bf1b.jpg  \n",
            "  inflating: +_2863_640_640_label_ACCIDENT_DETECTION.v1i.yolov7pytorch/train/images/severityV3_36_jpeg_jpg.rf.fa7603d2ad0ea8893a184852747b345a.jpg  \n",
            "  inflating: __MACOSX/+_2863_640_640_label_ACCIDENT_DETECTION.v1i.yolov7pytorch/train/images/._severityV3_36_jpeg_jpg.rf.fa7603d2ad0ea8893a184852747b345a.jpg  \n",
            "  inflating: +_2863_640_640_label_ACCIDENT_DETECTION.v1i.yolov7pytorch/train/images/FLIP_CAR_V153_jpg.rf.df603f09773f4f767ad511be677dde03.jpg  \n",
            "  inflating: __MACOSX/+_2863_640_640_label_ACCIDENT_DETECTION.v1i.yolov7pytorch/train/images/._FLIP_CAR_V153_jpg.rf.df603f09773f4f767ad511be677dde03.jpg  \n",
            "  inflating: +_2863_640_640_label_ACCIDENT_DETECTION.v1i.yolov7pytorch/train/images/accidentFrame3016_jpg.rf.f8c3a5df1eca3d6f0e5420fe42582471.jpg  \n",
            "  inflating: __MACOSX/+_2863_640_640_label_ACCIDENT_DETECTION.v1i.yolov7pytorch/train/images/._accidentFrame3016_jpg.rf.f8c3a5df1eca3d6f0e5420fe42582471.jpg  \n",
            "  inflating: +_2863_640_640_label_ACCIDENT_DETECTION.v1i.yolov7pytorch/train/images/images-25_jpg.rf.5333677bc3327309d0497ba7727e8fb1.jpg  \n",
            "  inflating: __MACOSX/+_2863_640_640_label_ACCIDENT_DETECTION.v1i.yolov7pytorch/train/images/._images-25_jpg.rf.5333677bc3327309d0497ba7727e8fb1.jpg  \n",
            "  inflating: +_2863_640_640_label_ACCIDENT_DETECTION.v1i.yolov7pytorch/train/images/traffic_img2122_jpg.rf.e92a8a1646f5c03fbef8bc7794a0679a.jpg  \n",
            "  inflating: __MACOSX/+_2863_640_640_label_ACCIDENT_DETECTION.v1i.yolov7pytorch/train/images/._traffic_img2122_jpg.rf.e92a8a1646f5c03fbef8bc7794a0679a.jpg  \n",
            "  inflating: +_2863_640_640_label_ACCIDENT_DETECTION.v1i.yolov7pytorch/train/images/images-9_jpg.rf.32fb553ae6bc6530882d8a780868f95b.jpg  \n",
            "  inflating: __MACOSX/+_2863_640_640_label_ACCIDENT_DETECTION.v1i.yolov7pytorch/train/images/._images-9_jpg.rf.32fb553ae6bc6530882d8a780868f95b.jpg  \n",
            "  inflating: +_2863_640_640_label_ACCIDENT_DETECTION.v1i.yolov7pytorch/train/images/Semi-RealisticVD-169_jpg.rf.bfec84fad26206cad7e60b09db5117ba.jpg  \n",
            "  inflating: __MACOSX/+_2863_640_640_label_ACCIDENT_DETECTION.v1i.yolov7pytorch/train/images/._Semi-RealisticVD-169_jpg.rf.bfec84fad26206cad7e60b09db5117ba.jpg  \n",
            "  inflating: +_2863_640_640_label_ACCIDENT_DETECTION.v1i.yolov7pytorch/train/images/tt1-v2_jpg.rf.bf822c8a7c201d224e43ce4f1fa74d1f.jpg  \n",
            "  inflating: __MACOSX/+_2863_640_640_label_ACCIDENT_DETECTION.v1i.yolov7pytorch/train/images/._tt1-v2_jpg.rf.bf822c8a7c201d224e43ce4f1fa74d1f.jpg  \n",
            "  inflating: +_2863_640_640_label_ACCIDENT_DETECTION.v1i.yolov7pytorch/train/images/Semi-RealisticVD-40_jpg.rf.767fcec1561a491763c62fe2f19c6735.jpg  \n",
            "  inflating: __MACOSX/+_2863_640_640_label_ACCIDENT_DETECTION.v1i.yolov7pytorch/train/images/._Semi-RealisticVD-40_jpg.rf.767fcec1561a491763c62fe2f19c6735.jpg  \n",
            "  inflating: +_2863_640_640_label_ACCIDENT_DETECTION.v1i.yolov7pytorch/train/images/traffic_img531_jpg.rf.a2872c290034f14c21db63ec52491789.jpg  \n",
            "  inflating: __MACOSX/+_2863_640_640_label_ACCIDENT_DETECTION.v1i.yolov7pytorch/train/images/._traffic_img531_jpg.rf.a2872c290034f14c21db63ec52491789.jpg  \n",
            "  inflating: +_2863_640_640_label_ACCIDENT_DETECTION.v1i.yolov7pytorch/train/images/images-2_jpg.rf.8be2a56b6881353011beaaee67ed5605.jpg  \n",
            "  inflating: __MACOSX/+_2863_640_640_label_ACCIDENT_DETECTION.v1i.yolov7pytorch/train/images/._images-2_jpg.rf.8be2a56b6881353011beaaee67ed5605.jpg  \n",
            "  inflating: +_2863_640_640_label_ACCIDENT_DETECTION.v1i.yolov7pytorch/train/images/Semi-RealisticVD-119_jpg.rf.191d70a2b8c468b70824bf6a5e474969.jpg  \n",
            "  inflating: __MACOSX/+_2863_640_640_label_ACCIDENT_DETECTION.v1i.yolov7pytorch/train/images/._Semi-RealisticVD-119_jpg.rf.191d70a2b8c468b70824bf6a5e474969.jpg  \n",
            "  inflating: +_2863_640_640_label_ACCIDENT_DETECTION.v1i.yolov7pytorch/train/images/traffic_img1855_jpg.rf.d7c6b2d58dacdfb29d862e10adc15580.jpg  \n",
            "  inflating: __MACOSX/+_2863_640_640_label_ACCIDENT_DETECTION.v1i.yolov7pytorch/train/images/._traffic_img1855_jpg.rf.d7c6b2d58dacdfb29d862e10adc15580.jpg  \n",
            "  inflating: +_2863_640_640_label_ACCIDENT_DETECTION.v1i.yolov7pytorch/train/images/severityV4_48_jpg.rf.7f496141c9ac6083547911b108def4e6.jpg  \n",
            "  inflating: __MACOSX/+_2863_640_640_label_ACCIDENT_DETECTION.v1i.yolov7pytorch/train/images/._severityV4_48_jpg.rf.7f496141c9ac6083547911b108def4e6.jpg  \n",
            "  inflating: +_2863_640_640_label_ACCIDENT_DETECTION.v1i.yolov7pytorch/train/images/FLIP_CAR_V165_jpg.rf.e0189fc873f86448d9d9f68bb576c445.jpg  \n",
            "  inflating: __MACOSX/+_2863_640_640_label_ACCIDENT_DETECTION.v1i.yolov7pytorch/train/images/._FLIP_CAR_V165_jpg.rf.e0189fc873f86448d9d9f68bb576c445.jpg  \n",
            "  inflating: +_2863_640_640_label_ACCIDENT_DETECTION.v1i.yolov7pytorch/train/images/images-12_jpg.rf.38151f177d559efc368aaac4f2cf0c5c.jpg  \n",
            "  inflating: __MACOSX/+_2863_640_640_label_ACCIDENT_DETECTION.v1i.yolov7pytorch/train/images/._images-12_jpg.rf.38151f177d559efc368aaac4f2cf0c5c.jpg  \n",
            "  inflating: +_2863_640_640_label_ACCIDENT_DETECTION.v1i.yolov7pytorch/train/images/images-10_jpg.rf.fbdfbd5584daa8ffaaec5efc3963483d.jpg  \n",
            "  inflating: __MACOSX/+_2863_640_640_label_ACCIDENT_DETECTION.v1i.yolov7pytorch/train/images/._images-10_jpg.rf.fbdfbd5584daa8ffaaec5efc3963483d.jpg  \n",
            "  inflating: +_2863_640_640_label_ACCIDENT_DETECTION.v1i.yolov7pytorch/train/images/Severity_Detect_V30_jpg.rf.dbb2ee7510254f9188f2272fb3e3fa12.jpg  \n",
            "  inflating: __MACOSX/+_2863_640_640_label_ACCIDENT_DETECTION.v1i.yolov7pytorch/train/images/._Severity_Detect_V30_jpg.rf.dbb2ee7510254f9188f2272fb3e3fa12.jpg  \n",
            "  inflating: +_2863_640_640_label_ACCIDENT_DETECTION.v1i.yolov7pytorch/train/images/Severity_Detect_V36_jpg.rf.db1303f1de7323571ffa2a22df14f4a3.jpg  \n",
            "  inflating: __MACOSX/+_2863_640_640_label_ACCIDENT_DETECTION.v1i.yolov7pytorch/train/images/._Severity_Detect_V36_jpg.rf.db1303f1de7323571ffa2a22df14f4a3.jpg  \n",
            "  inflating: +_2863_640_640_label_ACCIDENT_DETECTION.v1i.yolov7pytorch/train/images/images-15_jpg.rf.088e48ba2e2d6b6b89ca7454a842e6fb.jpg  \n",
            "  inflating: __MACOSX/+_2863_640_640_label_ACCIDENT_DETECTION.v1i.yolov7pytorch/train/images/._images-15_jpg.rf.088e48ba2e2d6b6b89ca7454a842e6fb.jpg  \n",
            "  inflating: +_2863_640_640_label_ACCIDENT_DETECTION.v1i.yolov7pytorch/train/images/801_jpeg_jpg.rf.817332507ffe7041a3fccaec31257a78.jpg  \n",
            "  inflating: __MACOSX/+_2863_640_640_label_ACCIDENT_DETECTION.v1i.yolov7pytorch/train/images/._801_jpeg_jpg.rf.817332507ffe7041a3fccaec31257a78.jpg  \n",
            "  inflating: +_2863_640_640_label_ACCIDENT_DETECTION.v1i.yolov7pytorch/train/images/images-5_jpg.rf.ed16355e4711aa7c9424c30f0755e00d.jpg  \n",
            "  inflating: __MACOSX/+_2863_640_640_label_ACCIDENT_DETECTION.v1i.yolov7pytorch/train/images/._images-5_jpg.rf.ed16355e4711aa7c9424c30f0755e00d.jpg  \n",
            "  inflating: +_2863_640_640_label_ACCIDENT_DETECTION.v1i.yolov7pytorch/train/images/Severity_Detect_V5_jpg.rf.f96f2d75856a6c0747304c43962e590b.jpg  \n",
            "  inflating: __MACOSX/+_2863_640_640_label_ACCIDENT_DETECTION.v1i.yolov7pytorch/train/images/._Severity_Detect_V5_jpg.rf.f96f2d75856a6c0747304c43962e590b.jpg  \n",
            "  inflating: +_2863_640_640_label_ACCIDENT_DETECTION.v1i.yolov7pytorch/train/images/Severity_Detect_V20_jpg.rf.fd8db3cae807093073eac2ac8d4840ca.jpg  \n",
            "  inflating: __MACOSX/+_2863_640_640_label_ACCIDENT_DETECTION.v1i.yolov7pytorch/train/images/._Severity_Detect_V20_jpg.rf.fd8db3cae807093073eac2ac8d4840ca.jpg  \n",
            "  inflating: +_2863_640_640_label_ACCIDENT_DETECTION.v1i.yolov7pytorch/train/images/traffic_img1527_jpg.rf.cc9ffc0e66bad3b2a63986ba8e1fe891.jpg  \n",
            "  inflating: __MACOSX/+_2863_640_640_label_ACCIDENT_DETECTION.v1i.yolov7pytorch/train/images/._traffic_img1527_jpg.rf.cc9ffc0e66bad3b2a63986ba8e1fe891.jpg  \n",
            "  inflating: +_2863_640_640_label_ACCIDENT_DETECTION.v1i.yolov7pytorch/train/images/traffic_img1716_jpg.rf.d7cad92d770b52275395cae943355fc8.jpg  \n",
            "  inflating: __MACOSX/+_2863_640_640_label_ACCIDENT_DETECTION.v1i.yolov7pytorch/train/images/._traffic_img1716_jpg.rf.d7cad92d770b52275395cae943355fc8.jpg  \n",
            "  inflating: +_2863_640_640_label_ACCIDENT_DETECTION.v1i.yolov7pytorch/train/images/traffic_img1932_jpg.rf.c66526075ec3afc04d53a697cdf19542.jpg  \n",
            "  inflating: __MACOSX/+_2863_640_640_label_ACCIDENT_DETECTION.v1i.yolov7pytorch/train/images/._traffic_img1932_jpg.rf.c66526075ec3afc04d53a697cdf19542.jpg  \n",
            "  inflating: +_2863_640_640_label_ACCIDENT_DETECTION.v1i.yolov7pytorch/train/images/images-5_jpg.rf.f6b8750c9adebdcd2c81c616b83ac412.jpg  \n",
            "  inflating: __MACOSX/+_2863_640_640_label_ACCIDENT_DETECTION.v1i.yolov7pytorch/train/images/._images-5_jpg.rf.f6b8750c9adebdcd2c81c616b83ac412.jpg  \n",
            "  inflating: +_2863_640_640_label_ACCIDENT_DETECTION.v1i.yolov7pytorch/train/images/285_jpeg_jpg.rf.e5bc47ff530a3a8325deb509cb51b620.jpg  \n",
            "  inflating: __MACOSX/+_2863_640_640_label_ACCIDENT_DETECTION.v1i.yolov7pytorch/train/images/._285_jpeg_jpg.rf.e5bc47ff530a3a8325deb509cb51b620.jpg  \n",
            "  inflating: +_2863_640_640_label_ACCIDENT_DETECTION.v1i.yolov7pytorch/train/images/Semi-RealisticVD-111_jpg.rf.1432cc5fa03d4daeb2a1978d58e1c304.jpg  \n",
            "  inflating: __MACOSX/+_2863_640_640_label_ACCIDENT_DETECTION.v1i.yolov7pytorch/train/images/._Semi-RealisticVD-111_jpg.rf.1432cc5fa03d4daeb2a1978d58e1c304.jpg  \n",
            "  inflating: +_2863_640_640_label_ACCIDENT_DETECTION.v1i.yolov7pytorch/train/images/traffic_img57_jpg.rf.f9a0a48dab8b69cd898b0752f296215b.jpg  \n",
            "  inflating: __MACOSX/+_2863_640_640_label_ACCIDENT_DETECTION.v1i.yolov7pytorch/train/images/._traffic_img57_jpg.rf.f9a0a48dab8b69cd898b0752f296215b.jpg  \n",
            "  inflating: +_2863_640_640_label_ACCIDENT_DETECTION.v1i.yolov7pytorch/train/images/traffic_img45_jpg.rf.fda148bc21a3196a3159464b3f6a5ce5.jpg  \n",
            "  inflating: __MACOSX/+_2863_640_640_label_ACCIDENT_DETECTION.v1i.yolov7pytorch/train/images/._traffic_img45_jpg.rf.fda148bc21a3196a3159464b3f6a5ce5.jpg  \n",
            "  inflating: +_2863_640_640_label_ACCIDENT_DETECTION.v1i.yolov7pytorch/train/images/FLIP_CAR_V130_jpg.rf.efd9c92b32e2b73e4bf359a478376149.jpg  \n",
            "  inflating: __MACOSX/+_2863_640_640_label_ACCIDENT_DETECTION.v1i.yolov7pytorch/train/images/._FLIP_CAR_V130_jpg.rf.efd9c92b32e2b73e4bf359a478376149.jpg  \n",
            "  inflating: +_2863_640_640_label_ACCIDENT_DETECTION.v1i.yolov7pytorch/train/images/severityV4_59_jpg.rf.5286eefa072807af0b197198d58e0ce7.jpg  \n",
            "  inflating: __MACOSX/+_2863_640_640_label_ACCIDENT_DETECTION.v1i.yolov7pytorch/train/images/._severityV4_59_jpg.rf.5286eefa072807af0b197198d58e0ce7.jpg  \n",
            "  inflating: +_2863_640_640_label_ACCIDENT_DETECTION.v1i.yolov7pytorch/train/images/accidentFrame3002_jpg.rf.e14f621d56c550e9e7d9c4e310febb9c.jpg  \n",
            "  inflating: __MACOSX/+_2863_640_640_label_ACCIDENT_DETECTION.v1i.yolov7pytorch/train/images/._accidentFrame3002_jpg.rf.e14f621d56c550e9e7d9c4e310febb9c.jpg  \n",
            "  inflating: +_2863_640_640_label_ACCIDENT_DETECTION.v1i.yolov7pytorch/train/images/severityV2_5_jpg.rf.df4b00a82b6ee55b5d5d7d19ce856244.jpg  \n",
            "  inflating: __MACOSX/+_2863_640_640_label_ACCIDENT_DETECTION.v1i.yolov7pytorch/train/images/._severityV2_5_jpg.rf.df4b00a82b6ee55b5d5d7d19ce856244.jpg  \n",
            "  inflating: +_2863_640_640_label_ACCIDENT_DETECTION.v1i.yolov7pytorch/train/images/images-6_jpg.rf.ca0529909507014eb8f38c252d4af56c.jpg  \n",
            "  inflating: __MACOSX/+_2863_640_640_label_ACCIDENT_DETECTION.v1i.yolov7pytorch/train/images/._images-6_jpg.rf.ca0529909507014eb8f38c252d4af56c.jpg  \n",
            "  inflating: +_2863_640_640_label_ACCIDENT_DETECTION.v1i.yolov7pytorch/train/images/new_SD4_jpg.rf.f64ff3eb320998ed71c2cb966f47eab3.jpg  \n",
            "  inflating: __MACOSX/+_2863_640_640_label_ACCIDENT_DETECTION.v1i.yolov7pytorch/train/images/._new_SD4_jpg.rf.f64ff3eb320998ed71c2cb966f47eab3.jpg  \n",
            "  inflating: +_2863_640_640_label_ACCIDENT_DETECTION.v1i.yolov7pytorch/train/images/severity_V114_jpg.rf.c974c6d8efabfbe33ac91b758f0a19d9.jpg  \n",
            "  inflating: __MACOSX/+_2863_640_640_label_ACCIDENT_DETECTION.v1i.yolov7pytorch/train/images/._severity_V114_jpg.rf.c974c6d8efabfbe33ac91b758f0a19d9.jpg  \n",
            "  inflating: +_2863_640_640_label_ACCIDENT_DETECTION.v1i.yolov7pytorch/train/images/traffic_img1815_jpg.rf.996283ce2702b336ae86bc87a6a98d23.jpg  \n",
            "  inflating: __MACOSX/+_2863_640_640_label_ACCIDENT_DETECTION.v1i.yolov7pytorch/train/images/._traffic_img1815_jpg.rf.996283ce2702b336ae86bc87a6a98d23.jpg  \n",
            "  inflating: +_2863_640_640_label_ACCIDENT_DETECTION.v1i.yolov7pytorch/train/images/traffic_img59_jpg.rf.d948cdd99e1d046fa0a542c9a668e735.jpg  \n",
            "  inflating: __MACOSX/+_2863_640_640_label_ACCIDENT_DETECTION.v1i.yolov7pytorch/train/images/._traffic_img59_jpg.rf.d948cdd99e1d046fa0a542c9a668e735.jpg  \n",
            "  inflating: +_2863_640_640_label_ACCIDENT_DETECTION.v1i.yolov7pytorch/train/images/traffic_img447_jpg.rf.35fe5b44dac3f0c24100b540e5d9ab4f.jpg  \n",
            "  inflating: __MACOSX/+_2863_640_640_label_ACCIDENT_DETECTION.v1i.yolov7pytorch/train/images/._traffic_img447_jpg.rf.35fe5b44dac3f0c24100b540e5d9ab4f.jpg  \n",
            "  inflating: +_2863_640_640_label_ACCIDENT_DETECTION.v1i.yolov7pytorch/train/images/accidentFrame1192_jpg.rf.b668346ea36d01bc05aff82517c219d6.jpg  \n",
            "  inflating: __MACOSX/+_2863_640_640_label_ACCIDENT_DETECTION.v1i.yolov7pytorch/train/images/._accidentFrame1192_jpg.rf.b668346ea36d01bc05aff82517c219d6.jpg  \n",
            "  inflating: +_2863_640_640_label_ACCIDENT_DETECTION.v1i.yolov7pytorch/train/images/severityV3_18_jpeg_jpg.rf.ff631796461fe0589b254a4093ac9837.jpg  \n",
            "  inflating: __MACOSX/+_2863_640_640_label_ACCIDENT_DETECTION.v1i.yolov7pytorch/train/images/._severityV3_18_jpeg_jpg.rf.ff631796461fe0589b254a4093ac9837.jpg  \n",
            "  inflating: +_2863_640_640_label_ACCIDENT_DETECTION.v1i.yolov7pytorch/train/images/severityV3_6_jpeg_jpg.rf.fa5f3871e4fcd1b819c7b7c05ae09c9e.jpg  \n",
            "  inflating: __MACOSX/+_2863_640_640_label_ACCIDENT_DETECTION.v1i.yolov7pytorch/train/images/._severityV3_6_jpeg_jpg.rf.fa5f3871e4fcd1b819c7b7c05ae09c9e.jpg  \n",
            "  inflating: +_2863_640_640_label_ACCIDENT_DETECTION.v1i.yolov7pytorch/train/images/Semi-RealisticVD-52_jpg.rf.d36a2abf3b2af085ce503bfe1adbe8bf.jpg  \n",
            "  inflating: __MACOSX/+_2863_640_640_label_ACCIDENT_DETECTION.v1i.yolov7pytorch/train/images/._Semi-RealisticVD-52_jpg.rf.d36a2abf3b2af085ce503bfe1adbe8bf.jpg  \n",
            "  inflating: +_2863_640_640_label_ACCIDENT_DETECTION.v1i.yolov7pytorch/train/images/images-19_jpg.rf.03924318749a618c9196638ed94bca80.jpg  \n",
            "  inflating: __MACOSX/+_2863_640_640_label_ACCIDENT_DETECTION.v1i.yolov7pytorch/train/images/._images-19_jpg.rf.03924318749a618c9196638ed94bca80.jpg  \n",
            "  inflating: +_2863_640_640_label_ACCIDENT_DETECTION.v1i.yolov7pytorch/train/images/traffic_img1239_jpg.rf.28e2cb6784b24736bdb328a6bc406092.jpg  \n",
            "  inflating: __MACOSX/+_2863_640_640_label_ACCIDENT_DETECTION.v1i.yolov7pytorch/train/images/._traffic_img1239_jpg.rf.28e2cb6784b24736bdb328a6bc406092.jpg  \n",
            "  inflating: +_2863_640_640_label_ACCIDENT_DETECTION.v1i.yolov7pytorch/train/images/traffic_img1818_jpg.rf.ea6ea02c6eba3a8093ce403f5efa6a45.jpg  \n",
            "  inflating: __MACOSX/+_2863_640_640_label_ACCIDENT_DETECTION.v1i.yolov7pytorch/train/images/._traffic_img1818_jpg.rf.ea6ea02c6eba3a8093ce403f5efa6a45.jpg  \n",
            "  inflating: +_2863_640_640_label_ACCIDENT_DETECTION.v1i.yolov7pytorch/train/images/traffic_img1805_jpg.rf.d0d1eef4cb69358a3abb692dc47fde51.jpg  \n",
            "  inflating: __MACOSX/+_2863_640_640_label_ACCIDENT_DETECTION.v1i.yolov7pytorch/train/images/._traffic_img1805_jpg.rf.d0d1eef4cb69358a3abb692dc47fde51.jpg  \n",
            "  inflating: +_2863_640_640_label_ACCIDENT_DETECTION.v1i.yolov7pytorch/train/images/2-165_jpg.rf.feb15cfe4dc3d9d1ce4804ed3ad7c587.jpg  \n",
            "  inflating: __MACOSX/+_2863_640_640_label_ACCIDENT_DETECTION.v1i.yolov7pytorch/train/images/._2-165_jpg.rf.feb15cfe4dc3d9d1ce4804ed3ad7c587.jpg  \n",
            "  inflating: +_2863_640_640_label_ACCIDENT_DETECTION.v1i.yolov7pytorch/train/images/traffic_img455_jpg.rf.ef75e67a8e6c51feea89710910a24e83.jpg  \n",
            "  inflating: __MACOSX/+_2863_640_640_label_ACCIDENT_DETECTION.v1i.yolov7pytorch/train/images/._traffic_img455_jpg.rf.ef75e67a8e6c51feea89710910a24e83.jpg  \n",
            "  inflating: +_2863_640_640_label_ACCIDENT_DETECTION.v1i.yolov7pytorch/train/images/severityV4_89_jpg.rf.e1b079c52364f480f3b19e07b2a6a702.jpg  \n",
            "  inflating: __MACOSX/+_2863_640_640_label_ACCIDENT_DETECTION.v1i.yolov7pytorch/train/images/._severityV4_89_jpg.rf.e1b079c52364f480f3b19e07b2a6a702.jpg  \n",
            "  inflating: +_2863_640_640_label_ACCIDENT_DETECTION.v1i.yolov7pytorch/train/images/traffic_img13_jpg.rf.274258cbf9aa9830d3c75e58893f104b.jpg  \n",
            "  inflating: __MACOSX/+_2863_640_640_label_ACCIDENT_DETECTION.v1i.yolov7pytorch/train/images/._traffic_img13_jpg.rf.274258cbf9aa9830d3c75e58893f104b.jpg  \n",
            "  inflating: +_2863_640_640_label_ACCIDENT_DETECTION.v1i.yolov7pytorch/train/images/severityV4_46_jpg.rf.6974c3a482f387dc4d665a613b657c31.jpg  \n",
            "  inflating: __MACOSX/+_2863_640_640_label_ACCIDENT_DETECTION.v1i.yolov7pytorch/train/images/._severityV4_46_jpg.rf.6974c3a482f387dc4d665a613b657c31.jpg  \n",
            "  inflating: +_2863_640_640_label_ACCIDENT_DETECTION.v1i.yolov7pytorch/train/images/buy6_jpg.rf.acb0b4e07ade505c981f8164e5dcdf03.jpg  \n",
            "  inflating: __MACOSX/+_2863_640_640_label_ACCIDENT_DETECTION.v1i.yolov7pytorch/train/images/._buy6_jpg.rf.acb0b4e07ade505c981f8164e5dcdf03.jpg  \n",
            "  inflating: +_2863_640_640_label_ACCIDENT_DETECTION.v1i.yolov7pytorch/train/images/images-12_jpg.rf.c2cc7099a0d4c7c60e4a965260aae434.jpg  \n",
            "  inflating: __MACOSX/+_2863_640_640_label_ACCIDENT_DETECTION.v1i.yolov7pytorch/train/images/._images-12_jpg.rf.c2cc7099a0d4c7c60e4a965260aae434.jpg  \n",
            "  inflating: +_2863_640_640_label_ACCIDENT_DETECTION.v1i.yolov7pytorch/train/images/traffic_img2117_jpg.rf.27729485755e7424ed46b0a136294264.jpg  \n",
            "  inflating: __MACOSX/+_2863_640_640_label_ACCIDENT_DETECTION.v1i.yolov7pytorch/train/images/._traffic_img2117_jpg.rf.27729485755e7424ed46b0a136294264.jpg  \n",
            "  inflating: +_2863_640_640_label_ACCIDENT_DETECTION.v1i.yolov7pytorch/train/images/screen_images10_png_jpg.rf.89b2cb27d64066b199116896ef66206e.jpg  \n",
            "  inflating: __MACOSX/+_2863_640_640_label_ACCIDENT_DETECTION.v1i.yolov7pytorch/train/images/._screen_images10_png_jpg.rf.89b2cb27d64066b199116896ef66206e.jpg  \n",
            "  inflating: +_2863_640_640_label_ACCIDENT_DETECTION.v1i.yolov7pytorch/train/images/images-16_jpg.rf.8805c4d25a9416d8a69a345ae5a31303.jpg  \n",
            "  inflating: __MACOSX/+_2863_640_640_label_ACCIDENT_DETECTION.v1i.yolov7pytorch/train/images/._images-16_jpg.rf.8805c4d25a9416d8a69a345ae5a31303.jpg  \n",
            "  inflating: +_2863_640_640_label_ACCIDENT_DETECTION.v1i.yolov7pytorch/train/images/severity_V11_jpg.rf.d997d6c1e0ff845fe3894b51e8dfd862.jpg  \n",
            "  inflating: __MACOSX/+_2863_640_640_label_ACCIDENT_DETECTION.v1i.yolov7pytorch/train/images/._severity_V11_jpg.rf.d997d6c1e0ff845fe3894b51e8dfd862.jpg  \n",
            "  inflating: +_2863_640_640_label_ACCIDENT_DETECTION.v1i.yolov7pytorch/train/images/sev3_jpg.rf.a966278e5b8027a53a083ca4979ef907.jpg  \n",
            "  inflating: __MACOSX/+_2863_640_640_label_ACCIDENT_DETECTION.v1i.yolov7pytorch/train/images/._sev3_jpg.rf.a966278e5b8027a53a083ca4979ef907.jpg  \n",
            "  inflating: +_2863_640_640_label_ACCIDENT_DETECTION.v1i.yolov7pytorch/train/images/severityV3_19_jpeg_jpg.rf.586d2ee6a519551f68d450b9449b5916.jpg  \n",
            "  inflating: __MACOSX/+_2863_640_640_label_ACCIDENT_DETECTION.v1i.yolov7pytorch/train/images/._severityV3_19_jpeg_jpg.rf.586d2ee6a519551f68d450b9449b5916.jpg  \n",
            "  inflating: +_2863_640_640_label_ACCIDENT_DETECTION.v1i.yolov7pytorch/train/images/traffic_img1920_jpg.rf.60134b19786a697e611426f03fffea7f.jpg  \n",
            "  inflating: __MACOSX/+_2863_640_640_label_ACCIDENT_DETECTION.v1i.yolov7pytorch/train/images/._traffic_img1920_jpg.rf.60134b19786a697e611426f03fffea7f.jpg  \n",
            "  inflating: +_2863_640_640_label_ACCIDENT_DETECTION.v1i.yolov7pytorch/train/images/traffic_img665_jpg.rf.70d06a9985547aad09ffff31c9f1345e.jpg  \n",
            "  inflating: __MACOSX/+_2863_640_640_label_ACCIDENT_DETECTION.v1i.yolov7pytorch/train/images/._traffic_img665_jpg.rf.70d06a9985547aad09ffff31c9f1345e.jpg  \n",
            "  inflating: +_2863_640_640_label_ACCIDENT_DETECTION.v1i.yolov7pytorch/train/images/1181_jpeg_jpg.rf.dce8614ed917d61f304bc45108551816.jpg  \n",
            "  inflating: __MACOSX/+_2863_640_640_label_ACCIDENT_DETECTION.v1i.yolov7pytorch/train/images/._1181_jpeg_jpg.rf.dce8614ed917d61f304bc45108551816.jpg  \n",
            "  inflating: +_2863_640_640_label_ACCIDENT_DETECTION.v1i.yolov7pytorch/train/images/168_jpeg_jpg.rf.e9ea60f95800852266fa09643f276b55.jpg  \n",
            "  inflating: __MACOSX/+_2863_640_640_label_ACCIDENT_DETECTION.v1i.yolov7pytorch/train/images/._168_jpeg_jpg.rf.e9ea60f95800852266fa09643f276b55.jpg  \n",
            "  inflating: +_2863_640_640_label_ACCIDENT_DETECTION.v1i.yolov7pytorch/train/images/severityV3_17_jpeg_jpg.rf.ac00824c0bc2797f7e3a902790d0d996.jpg  \n",
            "  inflating: __MACOSX/+_2863_640_640_label_ACCIDENT_DETECTION.v1i.yolov7pytorch/train/images/._severityV3_17_jpeg_jpg.rf.ac00824c0bc2797f7e3a902790d0d996.jpg  \n",
            "  inflating: +_2863_640_640_label_ACCIDENT_DETECTION.v1i.yolov7pytorch/train/images/images-24_jpg.rf.ea6d2d0358adb1ff908b1af5dd8639c8.jpg  \n",
            "  inflating: __MACOSX/+_2863_640_640_label_ACCIDENT_DETECTION.v1i.yolov7pytorch/train/images/._images-24_jpg.rf.ea6d2d0358adb1ff908b1af5dd8639c8.jpg  \n",
            "  inflating: +_2863_640_640_label_ACCIDENT_DETECTION.v1i.yolov7pytorch/train/images/traffic_img67_jpg.rf.6338cb0edf712827c2dc4cf3787ff54e.jpg  \n",
            "  inflating: __MACOSX/+_2863_640_640_label_ACCIDENT_DETECTION.v1i.yolov7pytorch/train/images/._traffic_img67_jpg.rf.6338cb0edf712827c2dc4cf3787ff54e.jpg  \n",
            "  inflating: +_2863_640_640_label_ACCIDENT_DETECTION.v1i.yolov7pytorch/train/images/images-26_jpg.rf.2540915bb00945b74c435d82e88ecf52.jpg  \n",
            "  inflating: __MACOSX/+_2863_640_640_label_ACCIDENT_DETECTION.v1i.yolov7pytorch/train/images/._images-26_jpg.rf.2540915bb00945b74c435d82e88ecf52.jpg  \n",
            "  inflating: +_2863_640_640_label_ACCIDENT_DETECTION.v1i.yolov7pytorch/train/images/severity_V119_jpg.rf.ed38dad8d7f2919d103a424df3a77cd8.jpg  \n",
            "  inflating: __MACOSX/+_2863_640_640_label_ACCIDENT_DETECTION.v1i.yolov7pytorch/train/images/._severity_V119_jpg.rf.ed38dad8d7f2919d103a424df3a77cd8.jpg  \n",
            "  inflating: +_2863_640_640_label_ACCIDENT_DETECTION.v1i.yolov7pytorch/train/images/1001_jpeg_jpg.rf.9651cfc0a70bc09f9f27612f931d5fb1.jpg  \n",
            "  inflating: __MACOSX/+_2863_640_640_label_ACCIDENT_DETECTION.v1i.yolov7pytorch/train/images/._1001_jpeg_jpg.rf.9651cfc0a70bc09f9f27612f931d5fb1.jpg  \n",
            "  inflating: +_2863_640_640_label_ACCIDENT_DETECTION.v1i.yolov7pytorch/train/images/severityV4_13_jpg.rf.faeb3cf7860974a93de36bc0daca2442.jpg  \n",
            "  inflating: __MACOSX/+_2863_640_640_label_ACCIDENT_DETECTION.v1i.yolov7pytorch/train/images/._severityV4_13_jpg.rf.faeb3cf7860974a93de36bc0daca2442.jpg  \n",
            "  inflating: +_2863_640_640_label_ACCIDENT_DETECTION.v1i.yolov7pytorch/train/images/download-11_jpg.rf.f1f08e39c164a88a8e491b1eb055258f.jpg  \n",
            "  inflating: __MACOSX/+_2863_640_640_label_ACCIDENT_DETECTION.v1i.yolov7pytorch/train/images/._download-11_jpg.rf.f1f08e39c164a88a8e491b1eb055258f.jpg  \n",
            "  inflating: +_2863_640_640_label_ACCIDENT_DETECTION.v1i.yolov7pytorch/train/images/download-7_jpg.rf.d6fefddb973151a81ccc6d0397d26c80.jpg  \n",
            "  inflating: __MACOSX/+_2863_640_640_label_ACCIDENT_DETECTION.v1i.yolov7pytorch/train/images/._download-7_jpg.rf.d6fefddb973151a81ccc6d0397d26c80.jpg  \n",
            "  inflating: +_2863_640_640_label_ACCIDENT_DETECTION.v1i.yolov7pytorch/train/images/1083_jpeg_jpg.rf.d885cf891219ebb43d1d261a72ad2270.jpg  \n",
            "  inflating: __MACOSX/+_2863_640_640_label_ACCIDENT_DETECTION.v1i.yolov7pytorch/train/images/._1083_jpeg_jpg.rf.d885cf891219ebb43d1d261a72ad2270.jpg  \n",
            "  inflating: +_2863_640_640_label_ACCIDENT_DETECTION.v1i.yolov7pytorch/train/images/accidentFrame3211_jpg.rf.bd5976a12738bd7d880c50ca2dd72681.jpg  \n",
            "  inflating: __MACOSX/+_2863_640_640_label_ACCIDENT_DETECTION.v1i.yolov7pytorch/train/images/._accidentFrame3211_jpg.rf.bd5976a12738bd7d880c50ca2dd72681.jpg  \n",
            "  inflating: +_2863_640_640_label_ACCIDENT_DETECTION.v1i.yolov7pytorch/train/images/images-2_jpg.rf.cd6343bd597cd209e64a8488a174f0d8.jpg  \n",
            "  inflating: __MACOSX/+_2863_640_640_label_ACCIDENT_DETECTION.v1i.yolov7pytorch/train/images/._images-2_jpg.rf.cd6343bd597cd209e64a8488a174f0d8.jpg  \n",
            "  inflating: +_2863_640_640_label_ACCIDENT_DETECTION.v1i.yolov7pytorch/train/images/Semi-RealisticVD-217_jpg.rf.209fed633eae5f185dcbfadd7143d5f0.jpg  \n",
            "  inflating: __MACOSX/+_2863_640_640_label_ACCIDENT_DETECTION.v1i.yolov7pytorch/train/images/._Semi-RealisticVD-217_jpg.rf.209fed633eae5f185dcbfadd7143d5f0.jpg  \n",
            "  inflating: +_2863_640_640_label_ACCIDENT_DETECTION.v1i.yolov7pytorch/train/images/accidentFrame3948_jpg.rf.bc9d5499721c781864f491f9cb4dcad4.jpg  \n",
            "  inflating: __MACOSX/+_2863_640_640_label_ACCIDENT_DETECTION.v1i.yolov7pytorch/train/images/._accidentFrame3948_jpg.rf.bc9d5499721c781864f491f9cb4dcad4.jpg  \n",
            "  inflating: +_2863_640_640_label_ACCIDENT_DETECTION.v1i.yolov7pytorch/train/images/Severity_Detect_V3_jpg.rf.edf718370283237d9117461e3b49ea83.jpg  \n",
            "  inflating: __MACOSX/+_2863_640_640_label_ACCIDENT_DETECTION.v1i.yolov7pytorch/train/images/._Severity_Detect_V3_jpg.rf.edf718370283237d9117461e3b49ea83.jpg  \n",
            "  inflating: +_2863_640_640_label_ACCIDENT_DETECTION.v1i.yolov7pytorch/train/images/Severity_Detect_V9_jpg.rf.d9f204f91b34d1b9934bbe028de2f3ef.jpg  \n",
            "  inflating: __MACOSX/+_2863_640_640_label_ACCIDENT_DETECTION.v1i.yolov7pytorch/train/images/._Severity_Detect_V9_jpg.rf.d9f204f91b34d1b9934bbe028de2f3ef.jpg  \n",
            "  inflating: +_2863_640_640_label_ACCIDENT_DETECTION.v1i.yolov7pytorch/train/images/4-105_jpg.rf.863212e859206b2f15ded9bd243c3599.jpg  \n",
            "  inflating: __MACOSX/+_2863_640_640_label_ACCIDENT_DETECTION.v1i.yolov7pytorch/train/images/._4-105_jpg.rf.863212e859206b2f15ded9bd243c3599.jpg  \n",
            "  inflating: +_2863_640_640_label_ACCIDENT_DETECTION.v1i.yolov7pytorch/train/images/severityV4_86_jpg.rf.9876863bca532b403a39b6bed314d9cf.jpg  \n",
            "  inflating: __MACOSX/+_2863_640_640_label_ACCIDENT_DETECTION.v1i.yolov7pytorch/train/images/._severityV4_86_jpg.rf.9876863bca532b403a39b6bed314d9cf.jpg  \n",
            "  inflating: +_2863_640_640_label_ACCIDENT_DETECTION.v1i.yolov7pytorch/train/images/download-1_jpg.rf.ea18e9a7bba4993644335635aeaa8571.jpg  \n",
            "  inflating: __MACOSX/+_2863_640_640_label_ACCIDENT_DETECTION.v1i.yolov7pytorch/train/images/._download-1_jpg.rf.ea18e9a7bba4993644335635aeaa8571.jpg  \n",
            "  inflating: +_2863_640_640_label_ACCIDENT_DETECTION.v1i.yolov7pytorch/train/images/traffic_img1466_jpg.rf.ca7ece74e9d930cc7592c19dee83206c.jpg  \n",
            "  inflating: __MACOSX/+_2863_640_640_label_ACCIDENT_DETECTION.v1i.yolov7pytorch/train/images/._traffic_img1466_jpg.rf.ca7ece74e9d930cc7592c19dee83206c.jpg  \n",
            "  inflating: +_2863_640_640_label_ACCIDENT_DETECTION.v1i.yolov7pytorch/train/images/images-5_jpg.rf.bcdbd2f75961daf8aa62da87468b2c53.jpg  \n",
            "  inflating: __MACOSX/+_2863_640_640_label_ACCIDENT_DETECTION.v1i.yolov7pytorch/train/images/._images-5_jpg.rf.bcdbd2f75961daf8aa62da87468b2c53.jpg  \n",
            "  inflating: +_2863_640_640_label_ACCIDENT_DETECTION.v1i.yolov7pytorch/train/images/images-16_jpg.rf.f22c73bd8cc0de1f563f625ee94f9fe0.jpg  \n",
            "  inflating: __MACOSX/+_2863_640_640_label_ACCIDENT_DETECTION.v1i.yolov7pytorch/train/images/._images-16_jpg.rf.f22c73bd8cc0de1f563f625ee94f9fe0.jpg  \n",
            "  inflating: +_2863_640_640_label_ACCIDENT_DETECTION.v1i.yolov7pytorch/train/images/severity_V130_jpg.rf.d546bff68098a7f7063b72956cdf8df6.jpg  \n",
            "  inflating: __MACOSX/+_2863_640_640_label_ACCIDENT_DETECTION.v1i.yolov7pytorch/train/images/._severity_V130_jpg.rf.d546bff68098a7f7063b72956cdf8df6.jpg  \n",
            "  inflating: +_2863_640_640_label_ACCIDENT_DETECTION.v1i.yolov7pytorch/train/images/download_jpg.rf.89b967b81998374251e0cd26a8e98fee.jpg  \n",
            "  inflating: __MACOSX/+_2863_640_640_label_ACCIDENT_DETECTION.v1i.yolov7pytorch/train/images/._download_jpg.rf.89b967b81998374251e0cd26a8e98fee.jpg  \n",
            "  inflating: +_2863_640_640_label_ACCIDENT_DETECTION.v1i.yolov7pytorch/train/images/download_jpg.rf.01d2c4fbb67c44c52b77b4332326c617.jpg  \n",
            "  inflating: __MACOSX/+_2863_640_640_label_ACCIDENT_DETECTION.v1i.yolov7pytorch/train/images/._download_jpg.rf.01d2c4fbb67c44c52b77b4332326c617.jpg  \n",
            "  inflating: +_2863_640_640_label_ACCIDENT_DETECTION.v1i.yolov7pytorch/train/images/severity_V17_jpg.rf.db8fa4de3712ea4a5d41dda96bb6bc19.jpg  \n",
            "  inflating: __MACOSX/+_2863_640_640_label_ACCIDENT_DETECTION.v1i.yolov7pytorch/train/images/._severity_V17_jpg.rf.db8fa4de3712ea4a5d41dda96bb6bc19.jpg  \n",
            "  inflating: +_2863_640_640_label_ACCIDENT_DETECTION.v1i.yolov7pytorch/train/images/FLIP_CAR_V138_jpg.rf.e825351c6c211a5d1708763cdaaf938e.jpg  \n",
            "  inflating: __MACOSX/+_2863_640_640_label_ACCIDENT_DETECTION.v1i.yolov7pytorch/train/images/._FLIP_CAR_V138_jpg.rf.e825351c6c211a5d1708763cdaaf938e.jpg  \n",
            "  inflating: +_2863_640_640_label_ACCIDENT_DETECTION.v1i.yolov7pytorch/train/images/traffic_img693_jpg.rf.f2422332a2576120d3d4af24fde5923f.jpg  \n",
            "  inflating: __MACOSX/+_2863_640_640_label_ACCIDENT_DETECTION.v1i.yolov7pytorch/train/images/._traffic_img693_jpg.rf.f2422332a2576120d3d4af24fde5923f.jpg  \n",
            "  inflating: +_2863_640_640_label_ACCIDENT_DETECTION.v1i.yolov7pytorch/train/images/traffic_img783_jpg.rf.8b47f49c0b8c78f59a9149cb9a12bd19.jpg  \n",
            "  inflating: __MACOSX/+_2863_640_640_label_ACCIDENT_DETECTION.v1i.yolov7pytorch/train/images/._traffic_img783_jpg.rf.8b47f49c0b8c78f59a9149cb9a12bd19.jpg  \n",
            "  inflating: +_2863_640_640_label_ACCIDENT_DETECTION.v1i.yolov7pytorch/train/images/severityV2_31_jpg.rf.943665df0c629f36c0d81615405bdeea.jpg  \n",
            "  inflating: __MACOSX/+_2863_640_640_label_ACCIDENT_DETECTION.v1i.yolov7pytorch/train/images/._severityV2_31_jpg.rf.943665df0c629f36c0d81615405bdeea.jpg  \n",
            "  inflating: +_2863_640_640_label_ACCIDENT_DETECTION.v1i.yolov7pytorch/train/images/images-3_jpg.rf.acc9018a75c2587f32957ffd4f0050e4.jpg  \n",
            "  inflating: __MACOSX/+_2863_640_640_label_ACCIDENT_DETECTION.v1i.yolov7pytorch/train/images/._images-3_jpg.rf.acc9018a75c2587f32957ffd4f0050e4.jpg  \n",
            "  inflating: +_2863_640_640_label_ACCIDENT_DETECTION.v1i.yolov7pytorch/train/images/Semi-RealisticVD-203_jpg.rf.e407469e37729cdac86aab94940a29fe.jpg  \n",
            "  inflating: __MACOSX/+_2863_640_640_label_ACCIDENT_DETECTION.v1i.yolov7pytorch/train/images/._Semi-RealisticVD-203_jpg.rf.e407469e37729cdac86aab94940a29fe.jpg  \n",
            "  inflating: +_2863_640_640_label_ACCIDENT_DETECTION.v1i.yolov7pytorch/train/images/severityV4_73_jpg.rf.80d096d91e61a0e67067c901b6d8b4d5.jpg  \n",
            "  inflating: __MACOSX/+_2863_640_640_label_ACCIDENT_DETECTION.v1i.yolov7pytorch/train/images/._severityV4_73_jpg.rf.80d096d91e61a0e67067c901b6d8b4d5.jpg  \n",
            "  inflating: +_2863_640_640_label_ACCIDENT_DETECTION.v1i.yolov7pytorch/train/images/severity_V115_jpg.rf.bfa9dbd9f16c044039ddf63743c04474.jpg  \n",
            "  inflating: __MACOSX/+_2863_640_640_label_ACCIDENT_DETECTION.v1i.yolov7pytorch/train/images/._severity_V115_jpg.rf.bfa9dbd9f16c044039ddf63743c04474.jpg  \n",
            "  inflating: +_2863_640_640_label_ACCIDENT_DETECTION.v1i.yolov7pytorch/train/images/971_jpeg_jpg.rf.c2eb69124c8ca408f0a13386ee4c0be5.jpg  \n",
            "  inflating: __MACOSX/+_2863_640_640_label_ACCIDENT_DETECTION.v1i.yolov7pytorch/train/images/._971_jpeg_jpg.rf.c2eb69124c8ca408f0a13386ee4c0be5.jpg  \n",
            "  inflating: +_2863_640_640_label_ACCIDENT_DETECTION.v1i.yolov7pytorch/train/images/25641839_web1_210627-GNG-millstream-accident-_1_jpg.rf.d8ca5ac5d3982cda3750f3efc08adc57.jpg  \n",
            "  inflating: __MACOSX/+_2863_640_640_label_ACCIDENT_DETECTION.v1i.yolov7pytorch/train/images/._25641839_web1_210627-GNG-millstream-accident-_1_jpg.rf.d8ca5ac5d3982cda3750f3efc08adc57.jpg  \n",
            "  inflating: +_2863_640_640_label_ACCIDENT_DETECTION.v1i.yolov7pytorch/train/images/severV19_jpg.rf.cccf5c91be186a98e30d24d90514a3fd.jpg  \n",
            "  inflating: __MACOSX/+_2863_640_640_label_ACCIDENT_DETECTION.v1i.yolov7pytorch/train/images/._severV19_jpg.rf.cccf5c91be186a98e30d24d90514a3fd.jpg  \n",
            "  inflating: +_2863_640_640_label_ACCIDENT_DETECTION.v1i.yolov7pytorch/train/images/FLIP_CAR_V172_jpg.rf.a6db9e24637586e75b90ad3a21dcb755.jpg  \n",
            "  inflating: __MACOSX/+_2863_640_640_label_ACCIDENT_DETECTION.v1i.yolov7pytorch/train/images/._FLIP_CAR_V172_jpg.rf.a6db9e24637586e75b90ad3a21dcb755.jpg  \n",
            "  inflating: +_2863_640_640_label_ACCIDENT_DETECTION.v1i.yolov7pytorch/train/images/traffic_img795_jpg.rf.fc00742dea484397ca334c79bf404e3c.jpg  \n",
            "  inflating: __MACOSX/+_2863_640_640_label_ACCIDENT_DETECTION.v1i.yolov7pytorch/train/images/._traffic_img795_jpg.rf.fc00742dea484397ca334c79bf404e3c.jpg  \n",
            "  inflating: +_2863_640_640_label_ACCIDENT_DETECTION.v1i.yolov7pytorch/train/images/buy2_jpg.rf.5135e9fab0ed3bbf8cf2ff54acb5d662.jpg  \n",
            "  inflating: __MACOSX/+_2863_640_640_label_ACCIDENT_DETECTION.v1i.yolov7pytorch/train/images/._buy2_jpg.rf.5135e9fab0ed3bbf8cf2ff54acb5d662.jpg  \n",
            "  inflating: +_2863_640_640_label_ACCIDENT_DETECTION.v1i.yolov7pytorch/train/images/images-6_jpg.rf.d0ef553f409d03d9a7f9a62cc256e317.jpg  \n",
            "  inflating: __MACOSX/+_2863_640_640_label_ACCIDENT_DETECTION.v1i.yolov7pytorch/train/images/._images-6_jpg.rf.d0ef553f409d03d9a7f9a62cc256e317.jpg  \n",
            "  inflating: +_2863_640_640_label_ACCIDENT_DETECTION.v1i.yolov7pytorch/train/images/Abu-Dhabi-accident-CCTV-_16d80b9b401_large_jpg.rf.aee2a91791af608cb7c1f3ba05504aee.jpg  \n",
            "  inflating: __MACOSX/+_2863_640_640_label_ACCIDENT_DETECTION.v1i.yolov7pytorch/train/images/._Abu-Dhabi-accident-CCTV-_16d80b9b401_large_jpg.rf.aee2a91791af608cb7c1f3ba05504aee.jpg  \n",
            "  inflating: +_2863_640_640_label_ACCIDENT_DETECTION.v1i.yolov7pytorch/train/images/images-28_jpg.rf.b6e2e2e955309bcbbb5c30533876e9a0.jpg  \n",
            "  inflating: __MACOSX/+_2863_640_640_label_ACCIDENT_DETECTION.v1i.yolov7pytorch/train/images/._images-28_jpg.rf.b6e2e2e955309bcbbb5c30533876e9a0.jpg  \n",
            "  inflating: +_2863_640_640_label_ACCIDENT_DETECTION.v1i.yolov7pytorch/train/images/images-8_jpg.rf.48692e84ebf10e1cdb2b5c5243df3b44.jpg  \n",
            "  inflating: __MACOSX/+_2863_640_640_label_ACCIDENT_DETECTION.v1i.yolov7pytorch/train/images/._images-8_jpg.rf.48692e84ebf10e1cdb2b5c5243df3b44.jpg  \n",
            "  inflating: +_2863_640_640_label_ACCIDENT_DETECTION.v1i.yolov7pytorch/train/images/accidentFrame472_jpg.rf.5f8686f1166433a2e3bfc8ef4ed7fea4.jpg  \n",
            "  inflating: __MACOSX/+_2863_640_640_label_ACCIDENT_DETECTION.v1i.yolov7pytorch/train/images/._accidentFrame472_jpg.rf.5f8686f1166433a2e3bfc8ef4ed7fea4.jpg  \n",
            "  inflating: +_2863_640_640_label_ACCIDENT_DETECTION.v1i.yolov7pytorch/train/images/severityV4_6_jpg.rf.58d7b7ae41efd9374971b834c56f667a.jpg  \n",
            "  inflating: __MACOSX/+_2863_640_640_label_ACCIDENT_DETECTION.v1i.yolov7pytorch/train/images/._severityV4_6_jpg.rf.58d7b7ae41efd9374971b834c56f667a.jpg  \n",
            "  inflating: +_2863_640_640_label_ACCIDENT_DETECTION.v1i.yolov7pytorch/train/images/images-1_jpg.rf.2ddabee639b9e64ad978247ea2e423d4.jpg  \n",
            "  inflating: __MACOSX/+_2863_640_640_label_ACCIDENT_DETECTION.v1i.yolov7pytorch/train/images/._images-1_jpg.rf.2ddabee639b9e64ad978247ea2e423d4.jpg  \n",
            "  inflating: +_2863_640_640_label_ACCIDENT_DETECTION.v1i.yolov7pytorch/train/images/170_jpeg_jpg.rf.c91ade14c70c2ba6b67a9e9d987431d9.jpg  \n",
            "  inflating: __MACOSX/+_2863_640_640_label_ACCIDENT_DETECTION.v1i.yolov7pytorch/train/images/._170_jpeg_jpg.rf.c91ade14c70c2ba6b67a9e9d987431d9.jpg  \n",
            "  inflating: +_2863_640_640_label_ACCIDENT_DETECTION.v1i.yolov7pytorch/train/images/images-20_jpg.rf.cb79127f74cd443c6b93ce350610c972.jpg  \n",
            "  inflating: __MACOSX/+_2863_640_640_label_ACCIDENT_DETECTION.v1i.yolov7pytorch/train/images/._images-20_jpg.rf.cb79127f74cd443c6b93ce350610c972.jpg  \n",
            "  inflating: +_2863_640_640_label_ACCIDENT_DETECTION.v1i.yolov7pytorch/train/images/images-7_jpg.rf.77bd9f5e70183593f214f2c4fe0b56f3.jpg  \n",
            "  inflating: __MACOSX/+_2863_640_640_label_ACCIDENT_DETECTION.v1i.yolov7pytorch/train/images/._images-7_jpg.rf.77bd9f5e70183593f214f2c4fe0b56f3.jpg  \n",
            "  inflating: +_2863_640_640_label_ACCIDENT_DETECTION.v1i.yolov7pytorch/train/images/2Q__-10-_jpg.rf.c6eeb7e2cd17069523b4a4cc0d933da4.jpg  \n",
            "  inflating: __MACOSX/+_2863_640_640_label_ACCIDENT_DETECTION.v1i.yolov7pytorch/train/images/._2Q__-10-_jpg.rf.c6eeb7e2cd17069523b4a4cc0d933da4.jpg  \n",
            "  inflating: +_2863_640_640_label_ACCIDENT_DETECTION.v1i.yolov7pytorch/train/images/traffic_img1590_jpg.rf.561635d1101e6659ac0d8d8caed8a391.jpg  \n",
            "  inflating: __MACOSX/+_2863_640_640_label_ACCIDENT_DETECTION.v1i.yolov7pytorch/train/images/._traffic_img1590_jpg.rf.561635d1101e6659ac0d8d8caed8a391.jpg  \n",
            "  inflating: +_2863_640_640_label_ACCIDENT_DETECTION.v1i.yolov7pytorch/train/images/traffic_img1075_jpg.rf.f5eb80be2264f87304fe826466302ec9.jpg  \n",
            "  inflating: __MACOSX/+_2863_640_640_label_ACCIDENT_DETECTION.v1i.yolov7pytorch/train/images/._traffic_img1075_jpg.rf.f5eb80be2264f87304fe826466302ec9.jpg  \n",
            "  inflating: +_2863_640_640_label_ACCIDENT_DETECTION.v1i.yolov7pytorch/train/images/Severity_Detect_V7_jpg.rf.e070a4bc17ddd076a13c0f560e0b8b8d.jpg  \n",
            "  inflating: __MACOSX/+_2863_640_640_label_ACCIDENT_DETECTION.v1i.yolov7pytorch/train/images/._Severity_Detect_V7_jpg.rf.e070a4bc17ddd076a13c0f560e0b8b8d.jpg  \n",
            "  inflating: +_2863_640_640_label_ACCIDENT_DETECTION.v1i.yolov7pytorch/train/images/images-5_jpg.rf.5ea7bfa5ccd03b886945f5e050cd6f7a.jpg  \n",
            "  inflating: __MACOSX/+_2863_640_640_label_ACCIDENT_DETECTION.v1i.yolov7pytorch/train/images/._images-5_jpg.rf.5ea7bfa5ccd03b886945f5e050cd6f7a.jpg  \n",
            "  inflating: +_2863_640_640_label_ACCIDENT_DETECTION.v1i.yolov7pytorch/train/images/FLIP_CAR_V142_jpg.rf.a2ea35d6ddb0ea4ae92f25426229da6f.jpg  \n",
            "  inflating: __MACOSX/+_2863_640_640_label_ACCIDENT_DETECTION.v1i.yolov7pytorch/train/images/._FLIP_CAR_V142_jpg.rf.a2ea35d6ddb0ea4ae92f25426229da6f.jpg  \n",
            "  inflating: +_2863_640_640_label_ACCIDENT_DETECTION.v1i.yolov7pytorch/train/images/images-16_jpg.rf.83e52c38f6d20f99c57d5e600231e3f6.jpg  \n",
            "  inflating: __MACOSX/+_2863_640_640_label_ACCIDENT_DETECTION.v1i.yolov7pytorch/train/images/._images-16_jpg.rf.83e52c38f6d20f99c57d5e600231e3f6.jpg  \n",
            "  inflating: +_2863_640_640_label_ACCIDENT_DETECTION.v1i.yolov7pytorch/train/images/severityV3_31_jpeg_jpg.rf.fe501e50bd97f4750480cc1c6c15ef86.jpg  \n",
            "  inflating: __MACOSX/+_2863_640_640_label_ACCIDENT_DETECTION.v1i.yolov7pytorch/train/images/._severityV3_31_jpeg_jpg.rf.fe501e50bd97f4750480cc1c6c15ef86.jpg  \n",
            "  inflating: +_2863_640_640_label_ACCIDENT_DETECTION.v1i.yolov7pytorch/train/images/traffic_img649_jpg.rf.e0057b75599032b2ffea4af7dd9b83ce.jpg  \n",
            "  inflating: __MACOSX/+_2863_640_640_label_ACCIDENT_DETECTION.v1i.yolov7pytorch/train/images/._traffic_img649_jpg.rf.e0057b75599032b2ffea4af7dd9b83ce.jpg  \n",
            "  inflating: +_2863_640_640_label_ACCIDENT_DETECTION.v1i.yolov7pytorch/train/images/severV14_jpg.rf.a1c5934e43d655acc5be5069f697015e.jpg  \n",
            "  inflating: __MACOSX/+_2863_640_640_label_ACCIDENT_DETECTION.v1i.yolov7pytorch/train/images/._severV14_jpg.rf.a1c5934e43d655acc5be5069f697015e.jpg  \n",
            "  inflating: +_2863_640_640_label_ACCIDENT_DETECTION.v1i.yolov7pytorch/train/images/Severity_Detect_V25_jpg.rf.fe2e638595c24ec775ed8ff380945400.jpg  \n",
            "  inflating: __MACOSX/+_2863_640_640_label_ACCIDENT_DETECTION.v1i.yolov7pytorch/train/images/._Severity_Detect_V25_jpg.rf.fe2e638595c24ec775ed8ff380945400.jpg  \n",
            "  inflating: +_2863_640_640_label_ACCIDENT_DETECTION.v1i.yolov7pytorch/train/images/905_jpeg_jpg.rf.d3656be5525597f242a2d800c6c984c4.jpg  \n",
            "  inflating: __MACOSX/+_2863_640_640_label_ACCIDENT_DETECTION.v1i.yolov7pytorch/train/images/._905_jpeg_jpg.rf.d3656be5525597f242a2d800c6c984c4.jpg  \n",
            "  inflating: +_2863_640_640_label_ACCIDENT_DETECTION.v1i.yolov7pytorch/train/images/images-12_jpg.rf.77d114a8cc808de9e55e583056bd6c80.jpg  \n",
            "  inflating: __MACOSX/+_2863_640_640_label_ACCIDENT_DETECTION.v1i.yolov7pytorch/train/images/._images-12_jpg.rf.77d114a8cc808de9e55e583056bd6c80.jpg  \n",
            "  inflating: +_2863_640_640_label_ACCIDENT_DETECTION.v1i.yolov7pytorch/train/images/images-26_jpg.rf.0fa837d9f2cd9204f1f600d401c20cb6.jpg  \n",
            "  inflating: __MACOSX/+_2863_640_640_label_ACCIDENT_DETECTION.v1i.yolov7pytorch/train/images/._images-26_jpg.rf.0fa837d9f2cd9204f1f600d401c20cb6.jpg  \n",
            "  inflating: +_2863_640_640_label_ACCIDENT_DETECTION.v1i.yolov7pytorch/train/images/Severity_Detect_V24_jpg.rf.f02b82bafecba9faf353b9ff160b2de9.jpg  \n",
            "  inflating: __MACOSX/+_2863_640_640_label_ACCIDENT_DETECTION.v1i.yolov7pytorch/train/images/._Severity_Detect_V24_jpg.rf.f02b82bafecba9faf353b9ff160b2de9.jpg  \n",
            "  inflating: +_2863_640_640_label_ACCIDENT_DETECTION.v1i.yolov7pytorch/train/images/severityV3_32_jpeg_jpg.rf.dc5e7bc7c3e12571ec8379421abb96a1.jpg  \n",
            "  inflating: __MACOSX/+_2863_640_640_label_ACCIDENT_DETECTION.v1i.yolov7pytorch/train/images/._severityV3_32_jpeg_jpg.rf.dc5e7bc7c3e12571ec8379421abb96a1.jpg  \n",
            "  inflating: +_2863_640_640_label_ACCIDENT_DETECTION.v1i.yolov7pytorch/train/images/images-22_jpg.rf.b5bdc33e2d51bcd82c96766b289bb5dd.jpg  \n",
            "  inflating: __MACOSX/+_2863_640_640_label_ACCIDENT_DETECTION.v1i.yolov7pytorch/train/images/._images-22_jpg.rf.b5bdc33e2d51bcd82c96766b289bb5dd.jpg  \n",
            "  inflating: +_2863_640_640_label_ACCIDENT_DETECTION.v1i.yolov7pytorch/train/images/severityV2_21_jpg.rf.214c3f8c4ddcf44a3d6665ee49bb4300.jpg  \n",
            "  inflating: __MACOSX/+_2863_640_640_label_ACCIDENT_DETECTION.v1i.yolov7pytorch/train/images/._severityV2_21_jpg.rf.214c3f8c4ddcf44a3d6665ee49bb4300.jpg  \n",
            "  inflating: +_2863_640_640_label_ACCIDENT_DETECTION.v1i.yolov7pytorch/train/images/severityV4_62_jpg.rf.e315749814d87179e5608273fd008a9c.jpg  \n",
            "  inflating: __MACOSX/+_2863_640_640_label_ACCIDENT_DETECTION.v1i.yolov7pytorch/train/images/._severityV4_62_jpg.rf.e315749814d87179e5608273fd008a9c.jpg  \n",
            "  inflating: +_2863_640_640_label_ACCIDENT_DETECTION.v1i.yolov7pytorch/train/images/severity_V126_jpg.rf.f29562b49840ac899cb5e6569af38ac7.jpg  \n",
            "  inflating: __MACOSX/+_2863_640_640_label_ACCIDENT_DETECTION.v1i.yolov7pytorch/train/images/._severity_V126_jpg.rf.f29562b49840ac899cb5e6569af38ac7.jpg  \n",
            "  inflating: +_2863_640_640_label_ACCIDENT_DETECTION.v1i.yolov7pytorch/train/images/Semi-RealisticVD-30_jpg.rf.c963d3eb864dc02fb0d012d7874af869.jpg  \n",
            "  inflating: __MACOSX/+_2863_640_640_label_ACCIDENT_DETECTION.v1i.yolov7pytorch/train/images/._Semi-RealisticVD-30_jpg.rf.c963d3eb864dc02fb0d012d7874af869.jpg  \n",
            "  inflating: +_2863_640_640_label_ACCIDENT_DETECTION.v1i.yolov7pytorch/train/images/images-2_jpg.rf.e055f9d4ed837f4fd519c351cd633d0b.jpg  \n",
            "  inflating: __MACOSX/+_2863_640_640_label_ACCIDENT_DETECTION.v1i.yolov7pytorch/train/images/._images-2_jpg.rf.e055f9d4ed837f4fd519c351cd633d0b.jpg  \n",
            "  inflating: +_2863_640_640_label_ACCIDENT_DETECTION.v1i.yolov7pytorch/train/images/images-9_jpg.rf.ebcd026d8ca383e298857f0f2c8f19c8.jpg  \n",
            "  inflating: __MACOSX/+_2863_640_640_label_ACCIDENT_DETECTION.v1i.yolov7pytorch/train/images/._images-9_jpg.rf.ebcd026d8ca383e298857f0f2c8f19c8.jpg  \n",
            "  inflating: +_2863_640_640_label_ACCIDENT_DETECTION.v1i.yolov7pytorch/train/images/accidentFrame472_jpg.rf.22b92dca7a1c7d38776f3b76460b1b4c.jpg  \n",
            "  inflating: __MACOSX/+_2863_640_640_label_ACCIDENT_DETECTION.v1i.yolov7pytorch/train/images/._accidentFrame472_jpg.rf.22b92dca7a1c7d38776f3b76460b1b4c.jpg  \n",
            "  inflating: +_2863_640_640_label_ACCIDENT_DETECTION.v1i.yolov7pytorch/train/images/severityV4_92_jpg.rf.336ec9691df5fbae005a0faa89d6d4ab.jpg  \n",
            "  inflating: __MACOSX/+_2863_640_640_label_ACCIDENT_DETECTION.v1i.yolov7pytorch/train/images/._severityV4_92_jpg.rf.336ec9691df5fbae005a0faa89d6d4ab.jpg  \n",
            "  inflating: +_2863_640_640_label_ACCIDENT_DETECTION.v1i.yolov7pytorch/train/images/traffic_img73_jpg.rf.a6f1d26498fc09ac15107af46ab24657.jpg  \n",
            "  inflating: __MACOSX/+_2863_640_640_label_ACCIDENT_DETECTION.v1i.yolov7pytorch/train/images/._traffic_img73_jpg.rf.a6f1d26498fc09ac15107af46ab24657.jpg  \n",
            "  inflating: +_2863_640_640_label_ACCIDENT_DETECTION.v1i.yolov7pytorch/train/images/images-5_jpg.rf.daf26fe9a8fa2b1091db3be3dfb376c1.jpg  \n",
            "  inflating: __MACOSX/+_2863_640_640_label_ACCIDENT_DETECTION.v1i.yolov7pytorch/train/images/._images-5_jpg.rf.daf26fe9a8fa2b1091db3be3dfb376c1.jpg  \n",
            "  inflating: +_2863_640_640_label_ACCIDENT_DETECTION.v1i.yolov7pytorch/train/images/946_jpeg_jpg.rf.d3165197ffd959540e4735fe62669161.jpg  \n",
            "  inflating: __MACOSX/+_2863_640_640_label_ACCIDENT_DETECTION.v1i.yolov7pytorch/train/images/._946_jpeg_jpg.rf.d3165197ffd959540e4735fe62669161.jpg  \n",
            "  inflating: +_2863_640_640_label_ACCIDENT_DETECTION.v1i.yolov7pytorch/train/images/crashbetter_jpg.rf.e6cbf5e849967b90bdf74a332573f0c8.jpg  \n",
            "  inflating: __MACOSX/+_2863_640_640_label_ACCIDENT_DETECTION.v1i.yolov7pytorch/train/images/._crashbetter_jpg.rf.e6cbf5e849967b90bdf74a332573f0c8.jpg  \n",
            "  inflating: +_2863_640_640_label_ACCIDENT_DETECTION.v1i.yolov7pytorch/train/images/severityV4_88_jpg.rf.f2b877affd14d6af55428c0a0b4ebaf4.jpg  \n",
            "  inflating: __MACOSX/+_2863_640_640_label_ACCIDENT_DETECTION.v1i.yolov7pytorch/train/images/._severityV4_88_jpg.rf.f2b877affd14d6af55428c0a0b4ebaf4.jpg  \n",
            "  inflating: +_2863_640_640_label_ACCIDENT_DETECTION.v1i.yolov7pytorch/train/images/traffic_img1851_jpg.rf.470411cdf3b92da7b181afbb7419c880.jpg  \n",
            "  inflating: __MACOSX/+_2863_640_640_label_ACCIDENT_DETECTION.v1i.yolov7pytorch/train/images/._traffic_img1851_jpg.rf.470411cdf3b92da7b181afbb7419c880.jpg  \n",
            "  inflating: +_2863_640_640_label_ACCIDENT_DETECTION.v1i.yolov7pytorch/train/images/severity_V123_jpg.rf.e19f3b4a0c4e998ca060c095bbe2711f.jpg  \n",
            "  inflating: __MACOSX/+_2863_640_640_label_ACCIDENT_DETECTION.v1i.yolov7pytorch/train/images/._severity_V123_jpg.rf.e19f3b4a0c4e998ca060c095bbe2711f.jpg  \n",
            "  inflating: +_2863_640_640_label_ACCIDENT_DETECTION.v1i.yolov7pytorch/train/images/images-4_jpg.rf.bc18043a50a15f334c69c109d919b97f.jpg  \n",
            "  inflating: __MACOSX/+_2863_640_640_label_ACCIDENT_DETECTION.v1i.yolov7pytorch/train/images/._images-4_jpg.rf.bc18043a50a15f334c69c109d919b97f.jpg  \n",
            "  inflating: +_2863_640_640_label_ACCIDENT_DETECTION.v1i.yolov7pytorch/train/images/Semi-RealisticVD-45_jpg.rf.a1ad7900562e2afd02eb099061caf58f.jpg  \n",
            "  inflating: __MACOSX/+_2863_640_640_label_ACCIDENT_DETECTION.v1i.yolov7pytorch/train/images/._Semi-RealisticVD-45_jpg.rf.a1ad7900562e2afd02eb099061caf58f.jpg  \n",
            "  inflating: +_2863_640_640_label_ACCIDENT_DETECTION.v1i.yolov7pytorch/train/images/Severity_Detect_V31_jpg.rf.8b0979b564489ca0136c69db39cce7bf.jpg  \n",
            "  inflating: __MACOSX/+_2863_640_640_label_ACCIDENT_DETECTION.v1i.yolov7pytorch/train/images/._Severity_Detect_V31_jpg.rf.8b0979b564489ca0136c69db39cce7bf.jpg  \n",
            "  inflating: +_2863_640_640_label_ACCIDENT_DETECTION.v1i.yolov7pytorch/train/images/severityV2_18_jpg.rf.f42b980a93e849c7e82167431a96fb09.jpg  \n",
            "  inflating: __MACOSX/+_2863_640_640_label_ACCIDENT_DETECTION.v1i.yolov7pytorch/train/images/._severityV2_18_jpg.rf.f42b980a93e849c7e82167431a96fb09.jpg  \n",
            "  inflating: +_2863_640_640_label_ACCIDENT_DETECTION.v1i.yolov7pytorch/train/images/accidentFrame2744_jpg.rf.6d8b094c1071f4616ebc2c34b3f0455a.jpg  \n",
            "  inflating: __MACOSX/+_2863_640_640_label_ACCIDENT_DETECTION.v1i.yolov7pytorch/train/images/._accidentFrame2744_jpg.rf.6d8b094c1071f4616ebc2c34b3f0455a.jpg  \n",
            "  inflating: +_2863_640_640_label_ACCIDENT_DETECTION.v1i.yolov7pytorch/train/images/severityV4_3_jpg.rf.db94fc4097faa5a3337fcca5b04d598d.jpg  \n",
            "  inflating: __MACOSX/+_2863_640_640_label_ACCIDENT_DETECTION.v1i.yolov7pytorch/train/images/._severityV4_3_jpg.rf.db94fc4097faa5a3337fcca5b04d598d.jpg  \n",
            "  inflating: +_2863_640_640_label_ACCIDENT_DETECTION.v1i.yolov7pytorch/train/images/images-41_jpg.rf.e79ca5a43447bcfef1df142a09d43932.jpg  \n",
            "  inflating: __MACOSX/+_2863_640_640_label_ACCIDENT_DETECTION.v1i.yolov7pytorch/train/images/._images-41_jpg.rf.e79ca5a43447bcfef1df142a09d43932.jpg  \n",
            "  inflating: +_2863_640_640_label_ACCIDENT_DETECTION.v1i.yolov7pytorch/train/images/severityV3_37_jpeg_jpg.rf.bf04880739e58ec475a06cc0c412fbb3.jpg  \n",
            "  inflating: __MACOSX/+_2863_640_640_label_ACCIDENT_DETECTION.v1i.yolov7pytorch/train/images/._severityV3_37_jpeg_jpg.rf.bf04880739e58ec475a06cc0c412fbb3.jpg  \n",
            "  inflating: +_2863_640_640_label_ACCIDENT_DETECTION.v1i.yolov7pytorch/train/images/LakeStevens_Fatal_jpg.rf.b873d98888d3391e978033820c016eb5.jpg  \n",
            "  inflating: __MACOSX/+_2863_640_640_label_ACCIDENT_DETECTION.v1i.yolov7pytorch/train/images/._LakeStevens_Fatal_jpg.rf.b873d98888d3391e978033820c016eb5.jpg  \n",
            "  inflating: +_2863_640_640_label_ACCIDENT_DETECTION.v1i.yolov7pytorch/train/labels/accidentFrame1197_jpg.rf.16a9518be9e207f3e93cd02a91cda2ec.txt  \n",
            "  inflating: __MACOSX/+_2863_640_640_label_ACCIDENT_DETECTION.v1i.yolov7pytorch/train/labels/._accidentFrame1197_jpg.rf.16a9518be9e207f3e93cd02a91cda2ec.txt  \n",
            "  inflating: +_2863_640_640_label_ACCIDENT_DETECTION.v1i.yolov7pytorch/train/labels/download-2_jpg.rf.7efabb5d84deb6e3092f12a61c2e384a.txt  \n",
            "  inflating: __MACOSX/+_2863_640_640_label_ACCIDENT_DETECTION.v1i.yolov7pytorch/train/labels/._download-2_jpg.rf.7efabb5d84deb6e3092f12a61c2e384a.txt  \n",
            "  inflating: +_2863_640_640_label_ACCIDENT_DETECTION.v1i.yolov7pytorch/train/labels/images_jpg.rf.b53ac10476dd2842011a686077489631.txt  \n",
            "  inflating: __MACOSX/+_2863_640_640_label_ACCIDENT_DETECTION.v1i.yolov7pytorch/train/labels/._images_jpg.rf.b53ac10476dd2842011a686077489631.txt  \n",
            "  inflating: +_2863_640_640_label_ACCIDENT_DETECTION.v1i.yolov7pytorch/train/labels/images-1_jpg.rf.581453f0cda56d437ef5eb8a567f0837.txt  \n",
            "  inflating: __MACOSX/+_2863_640_640_label_ACCIDENT_DETECTION.v1i.yolov7pytorch/train/labels/._images-1_jpg.rf.581453f0cda56d437ef5eb8a567f0837.txt  \n",
            "  inflating: +_2863_640_640_label_ACCIDENT_DETECTION.v1i.yolov7pytorch/train/labels/accidentFrame2758_jpg.rf.dd1ce87c4d757740229271460496e30e.txt  \n",
            "  inflating: __MACOSX/+_2863_640_640_label_ACCIDENT_DETECTION.v1i.yolov7pytorch/train/labels/._accidentFrame2758_jpg.rf.dd1ce87c4d757740229271460496e30e.txt  \n",
            "  inflating: +_2863_640_640_label_ACCIDENT_DETECTION.v1i.yolov7pytorch/train/labels/severityV4_99_jpg.rf.a73b3321452ab850f5eb2a962f439cd6.txt  \n",
            "  inflating: __MACOSX/+_2863_640_640_label_ACCIDENT_DETECTION.v1i.yolov7pytorch/train/labels/._severityV4_99_jpg.rf.a73b3321452ab850f5eb2a962f439cd6.txt  \n",
            "  inflating: +_2863_640_640_label_ACCIDENT_DETECTION.v1i.yolov7pytorch/train/labels/download-3_jpg.rf.d3eda40631df3543302232a800a2bc6e.txt  \n",
            "  inflating: __MACOSX/+_2863_640_640_label_ACCIDENT_DETECTION.v1i.yolov7pytorch/train/labels/._download-3_jpg.rf.d3eda40631df3543302232a800a2bc6e.txt  \n",
            "  inflating: +_2863_640_640_label_ACCIDENT_DETECTION.v1i.yolov7pytorch/train/labels/severityV4_4_jpg.rf.a08d4d13b056f7b467786f9ec71b4097.txt  \n",
            "  inflating: __MACOSX/+_2863_640_640_label_ACCIDENT_DETECTION.v1i.yolov7pytorch/train/labels/._severityV4_4_jpg.rf.a08d4d13b056f7b467786f9ec71b4097.txt  \n",
            "  inflating: +_2863_640_640_label_ACCIDENT_DETECTION.v1i.yolov7pytorch/train/labels/761_jpeg_jpg.rf.e3a300c3500b7f1a50ad5457a8df3c7b.txt  \n",
            "  inflating: __MACOSX/+_2863_640_640_label_ACCIDENT_DETECTION.v1i.yolov7pytorch/train/labels/._761_jpeg_jpg.rf.e3a300c3500b7f1a50ad5457a8df3c7b.txt  \n",
            "  inflating: +_2863_640_640_label_ACCIDENT_DETECTION.v1i.yolov7pytorch/train/labels/severity_V118_jpg.rf.b98b52d4ee84f479ca5ae24883605211.txt  \n",
            "  inflating: __MACOSX/+_2863_640_640_label_ACCIDENT_DETECTION.v1i.yolov7pytorch/train/labels/._severity_V118_jpg.rf.b98b52d4ee84f479ca5ae24883605211.txt  \n",
            "  inflating: +_2863_640_640_label_ACCIDENT_DETECTION.v1i.yolov7pytorch/train/labels/traffic_img17_jpg.rf.b14648d7f116390f660541a5989c7d35.txt  \n",
            "  inflating: __MACOSX/+_2863_640_640_label_ACCIDENT_DETECTION.v1i.yolov7pytorch/train/labels/._traffic_img17_jpg.rf.b14648d7f116390f660541a5989c7d35.txt  \n",
            "  inflating: +_2863_640_640_label_ACCIDENT_DETECTION.v1i.yolov7pytorch/train/labels/FLIP_CAR_V121_jpg.rf.a666a994dc32aaad4e09eaa68c6c557a.txt  \n",
            "  inflating: __MACOSX/+_2863_640_640_label_ACCIDENT_DETECTION.v1i.yolov7pytorch/train/labels/._FLIP_CAR_V121_jpg.rf.a666a994dc32aaad4e09eaa68c6c557a.txt  \n",
            "  inflating: +_2863_640_640_label_ACCIDENT_DETECTION.v1i.yolov7pytorch/train/labels/FLIP_CAR_V123_jpg.rf.b8f977a3f132baa4fc03b27946b04721.txt  \n",
            "  inflating: __MACOSX/+_2863_640_640_label_ACCIDENT_DETECTION.v1i.yolov7pytorch/train/labels/._FLIP_CAR_V123_jpg.rf.b8f977a3f132baa4fc03b27946b04721.txt  \n",
            "  inflating: +_2863_640_640_label_ACCIDENT_DETECTION.v1i.yolov7pytorch/train/labels/images_jpg.rf.c90cc265e09a72e231fea124db4fae12.txt  \n",
            "  inflating: __MACOSX/+_2863_640_640_label_ACCIDENT_DETECTION.v1i.yolov7pytorch/train/labels/._images_jpg.rf.c90cc265e09a72e231fea124db4fae12.txt  \n",
            "  inflating: +_2863_640_640_label_ACCIDENT_DETECTION.v1i.yolov7pytorch/train/labels/screen_images6_png_jpg.rf.f59ecdd13b64dfdd9e0fe3455639f6e7.txt  \n",
            "  inflating: __MACOSX/+_2863_640_640_label_ACCIDENT_DETECTION.v1i.yolov7pytorch/train/labels/._screen_images6_png_jpg.rf.f59ecdd13b64dfdd9e0fe3455639f6e7.txt  \n",
            "  inflating: +_2863_640_640_label_ACCIDENT_DETECTION.v1i.yolov7pytorch/train/labels/images-6_jpg.rf.18e8d9155825fa86b173d7decea53df6.txt  \n",
            "  inflating: __MACOSX/+_2863_640_640_label_ACCIDENT_DETECTION.v1i.yolov7pytorch/train/labels/._images-6_jpg.rf.18e8d9155825fa86b173d7decea53df6.txt  \n",
            "  inflating: +_2863_640_640_label_ACCIDENT_DETECTION.v1i.yolov7pytorch/train/labels/severityV2_23_jpg.rf.e0225f7ab76585372bda421addb2113c.txt  \n",
            "  inflating: __MACOSX/+_2863_640_640_label_ACCIDENT_DETECTION.v1i.yolov7pytorch/train/labels/._severityV2_23_jpg.rf.e0225f7ab76585372bda421addb2113c.txt  \n",
            "  inflating: +_2863_640_640_label_ACCIDENT_DETECTION.v1i.yolov7pytorch/train/labels/images-3_jpg.rf.8416588944bb2ba65a7e3ec2441e2854.txt  \n",
            "  inflating: __MACOSX/+_2863_640_640_label_ACCIDENT_DETECTION.v1i.yolov7pytorch/train/labels/._images-3_jpg.rf.8416588944bb2ba65a7e3ec2441e2854.txt  \n",
            "  inflating: +_2863_640_640_label_ACCIDENT_DETECTION.v1i.yolov7pytorch/train/labels/1-44_jpg.rf.9361540684d117300cbf5b8f8012b114.txt  \n",
            "  inflating: __MACOSX/+_2863_640_640_label_ACCIDENT_DETECTION.v1i.yolov7pytorch/train/labels/._1-44_jpg.rf.9361540684d117300cbf5b8f8012b114.txt  \n",
            "  inflating: +_2863_640_640_label_ACCIDENT_DETECTION.v1i.yolov7pytorch/train/labels/download-1_jpg.rf.a419a64d230685a165df1a9ab4da5353.txt  \n",
            "  inflating: __MACOSX/+_2863_640_640_label_ACCIDENT_DETECTION.v1i.yolov7pytorch/train/labels/._download-1_jpg.rf.a419a64d230685a165df1a9ab4da5353.txt  \n",
            "  inflating: +_2863_640_640_label_ACCIDENT_DETECTION.v1i.yolov7pytorch/train/labels/FLIP_CAR_V147_jpg.rf.dd518af067ae5308e16319e434fa74ae.txt  \n",
            "  inflating: __MACOSX/+_2863_640_640_label_ACCIDENT_DETECTION.v1i.yolov7pytorch/train/labels/._FLIP_CAR_V147_jpg.rf.dd518af067ae5308e16319e434fa74ae.txt  \n",
            "  inflating: +_2863_640_640_label_ACCIDENT_DETECTION.v1i.yolov7pytorch/train/labels/images-8_jpg.rf.1258db07e90b8c1327b30490a0815e10.txt  \n",
            "  inflating: __MACOSX/+_2863_640_640_label_ACCIDENT_DETECTION.v1i.yolov7pytorch/train/labels/._images-8_jpg.rf.1258db07e90b8c1327b30490a0815e10.txt  \n",
            "  inflating: +_2863_640_640_label_ACCIDENT_DETECTION.v1i.yolov7pytorch/train/labels/images_jpg.rf.8dbf487a127b03907f3124644edbaac4.txt  \n",
            "  inflating: __MACOSX/+_2863_640_640_label_ACCIDENT_DETECTION.v1i.yolov7pytorch/train/labels/._images_jpg.rf.8dbf487a127b03907f3124644edbaac4.txt  \n",
            "  inflating: +_2863_640_640_label_ACCIDENT_DETECTION.v1i.yolov7pytorch/train/labels/traffic_img425_jpg.rf.c4aa1d004805c6ecc5928101c166ffd7.txt  \n",
            "  inflating: __MACOSX/+_2863_640_640_label_ACCIDENT_DETECTION.v1i.yolov7pytorch/train/labels/._traffic_img425_jpg.rf.c4aa1d004805c6ecc5928101c166ffd7.txt  \n",
            "  inflating: +_2863_640_640_label_ACCIDENT_DETECTION.v1i.yolov7pytorch/train/labels/accidentFrame283_jpg.rf.d297b29c299a820bfdbeac2a7b087201.txt  \n",
            "  inflating: __MACOSX/+_2863_640_640_label_ACCIDENT_DETECTION.v1i.yolov7pytorch/train/labels/._accidentFrame283_jpg.rf.d297b29c299a820bfdbeac2a7b087201.txt  \n",
            "  inflating: +_2863_640_640_label_ACCIDENT_DETECTION.v1i.yolov7pytorch/train/labels/traffic_img1853_jpg.rf.81305de7a9f415ef61460053e98a0f12.txt  \n",
            "  inflating: __MACOSX/+_2863_640_640_label_ACCIDENT_DETECTION.v1i.yolov7pytorch/train/labels/._traffic_img1853_jpg.rf.81305de7a9f415ef61460053e98a0f12.txt  \n",
            "  inflating: +_2863_640_640_label_ACCIDENT_DETECTION.v1i.yolov7pytorch/train/labels/severityV4_2_jpg.rf.defcd689665182355cb47b97121a6285.txt  \n",
            "  inflating: __MACOSX/+_2863_640_640_label_ACCIDENT_DETECTION.v1i.yolov7pytorch/train/labels/._severityV4_2_jpg.rf.defcd689665182355cb47b97121a6285.txt  \n",
            "  inflating: +_2863_640_640_label_ACCIDENT_DETECTION.v1i.yolov7pytorch/train/labels/images-16_jpg.rf.14b2b2ecfe4b854fbd3709c9fab85b8d.txt  \n",
            "  inflating: __MACOSX/+_2863_640_640_label_ACCIDENT_DETECTION.v1i.yolov7pytorch/train/labels/._images-16_jpg.rf.14b2b2ecfe4b854fbd3709c9fab85b8d.txt  \n",
            "  inflating: +_2863_640_640_label_ACCIDENT_DETECTION.v1i.yolov7pytorch/train/labels/images-2_jpg.rf.61539b23a2c2e99d61ec26e2e805ca98.txt  \n",
            "  inflating: __MACOSX/+_2863_640_640_label_ACCIDENT_DETECTION.v1i.yolov7pytorch/train/labels/._images-2_jpg.rf.61539b23a2c2e99d61ec26e2e805ca98.txt  \n",
            "  inflating: +_2863_640_640_label_ACCIDENT_DETECTION.v1i.yolov7pytorch/train/labels/images_jpg.rf.1434df96acd3f6e951adb5c440731770.txt  \n",
            "  inflating: __MACOSX/+_2863_640_640_label_ACCIDENT_DETECTION.v1i.yolov7pytorch/train/labels/._images_jpg.rf.1434df96acd3f6e951adb5c440731770.txt  \n",
            "  inflating: +_2863_640_640_label_ACCIDENT_DETECTION.v1i.yolov7pytorch/train/labels/2Q__-5-_jpg.rf.f2285cd6bb1a0614eed51c90b86d7f55.txt  \n",
            "  inflating: __MACOSX/+_2863_640_640_label_ACCIDENT_DETECTION.v1i.yolov7pytorch/train/labels/._2Q__-5-_jpg.rf.f2285cd6bb1a0614eed51c90b86d7f55.txt  \n",
            "  inflating: +_2863_640_640_label_ACCIDENT_DETECTION.v1i.yolov7pytorch/train/labels/traffic_img1810_jpg.rf.fa12409e93c1d4d65384678402b53862.txt  \n",
            "  inflating: __MACOSX/+_2863_640_640_label_ACCIDENT_DETECTION.v1i.yolov7pytorch/train/labels/._traffic_img1810_jpg.rf.fa12409e93c1d4d65384678402b53862.txt  \n",
            "  inflating: +_2863_640_640_label_ACCIDENT_DETECTION.v1i.yolov7pytorch/train/labels/traffic_img482_jpg.rf.2258ad4c7b19df80d045536d6db6bbf2.txt  \n",
            "  inflating: __MACOSX/+_2863_640_640_label_ACCIDENT_DETECTION.v1i.yolov7pytorch/train/labels/._traffic_img482_jpg.rf.2258ad4c7b19df80d045536d6db6bbf2.txt  \n",
            "  inflating: +_2863_640_640_label_ACCIDENT_DETECTION.v1i.yolov7pytorch/train/labels/severityV4_94_jpg.rf.fe7195f12fdf757531126f67d896e5ec.txt  \n",
            "  inflating: __MACOSX/+_2863_640_640_label_ACCIDENT_DETECTION.v1i.yolov7pytorch/train/labels/._severityV4_94_jpg.rf.fe7195f12fdf757531126f67d896e5ec.txt  \n",
            "  inflating: +_2863_640_640_label_ACCIDENT_DETECTION.v1i.yolov7pytorch/train/labels/traffic_img1884_jpg.rf.dd5bd12643c05dd22c2024fd30711de4.txt  \n",
            "  inflating: __MACOSX/+_2863_640_640_label_ACCIDENT_DETECTION.v1i.yolov7pytorch/train/labels/._traffic_img1884_jpg.rf.dd5bd12643c05dd22c2024fd30711de4.txt  \n",
            "  inflating: +_2863_640_640_label_ACCIDENT_DETECTION.v1i.yolov7pytorch/train/labels/FLIP_CAR_V144_jpg.rf.b10702e1f42db9e8a8b8be7b52362f08.txt  \n",
            "  inflating: __MACOSX/+_2863_640_640_label_ACCIDENT_DETECTION.v1i.yolov7pytorch/train/labels/._FLIP_CAR_V144_jpg.rf.b10702e1f42db9e8a8b8be7b52362f08.txt  \n",
            "  inflating: +_2863_640_640_label_ACCIDENT_DETECTION.v1i.yolov7pytorch/train/labels/download-8_jpg.rf.defaf8dbc7c52ca118536ea2a31f95d9.txt  \n",
            "  inflating: __MACOSX/+_2863_640_640_label_ACCIDENT_DETECTION.v1i.yolov7pytorch/train/labels/._download-8_jpg.rf.defaf8dbc7c52ca118536ea2a31f95d9.txt  \n",
            "  inflating: +_2863_640_640_label_ACCIDENT_DETECTION.v1i.yolov7pytorch/train/labels/779_jpeg_jpg.rf.a801886f163a1e45457fd89c8339c665.txt  \n",
            "  inflating: __MACOSX/+_2863_640_640_label_ACCIDENT_DETECTION.v1i.yolov7pytorch/train/labels/._779_jpeg_jpg.rf.a801886f163a1e45457fd89c8339c665.txt  \n",
            "  inflating: +_2863_640_640_label_ACCIDENT_DETECTION.v1i.yolov7pytorch/train/labels/severityV4_97_jpg.rf.745b0b647a4f41c58b6ba486f821403f.txt  \n",
            "  inflating: __MACOSX/+_2863_640_640_label_ACCIDENT_DETECTION.v1i.yolov7pytorch/train/labels/._severityV4_97_jpg.rf.745b0b647a4f41c58b6ba486f821403f.txt  \n",
            "  inflating: +_2863_640_640_label_ACCIDENT_DETECTION.v1i.yolov7pytorch/train/labels/FLIP_CAR_V164_jpg.rf.b562eab4c9c94bbda016beccebdc5a47.txt  \n",
            "  inflating: __MACOSX/+_2863_640_640_label_ACCIDENT_DETECTION.v1i.yolov7pytorch/train/labels/._FLIP_CAR_V164_jpg.rf.b562eab4c9c94bbda016beccebdc5a47.txt  \n",
            "  inflating: +_2863_640_640_label_ACCIDENT_DETECTION.v1i.yolov7pytorch/train/labels/accidentFrame2559_jpg.rf.9f2501531efd10ae4a286c167219aaf3.txt  \n",
            "  inflating: __MACOSX/+_2863_640_640_label_ACCIDENT_DETECTION.v1i.yolov7pytorch/train/labels/._accidentFrame2559_jpg.rf.9f2501531efd10ae4a286c167219aaf3.txt  \n",
            "  inflating: +_2863_640_640_label_ACCIDENT_DETECTION.v1i.yolov7pytorch/train/labels/severityV3_5_jpeg_jpg.rf.fce099dd0c4fcdf9b1371962345bed6a.txt  \n",
            "  inflating: __MACOSX/+_2863_640_640_label_ACCIDENT_DETECTION.v1i.yolov7pytorch/train/labels/._severityV3_5_jpeg_jpg.rf.fce099dd0c4fcdf9b1371962345bed6a.txt  \n",
            "  inflating: +_2863_640_640_label_ACCIDENT_DETECTION.v1i.yolov7pytorch/train/labels/Semi-RealisticVD-204_jpg.rf.31c82ebec03879dde375a8adeabaccb0.txt  \n",
            "  inflating: __MACOSX/+_2863_640_640_label_ACCIDENT_DETECTION.v1i.yolov7pytorch/train/labels/._Semi-RealisticVD-204_jpg.rf.31c82ebec03879dde375a8adeabaccb0.txt  \n",
            "  inflating: +_2863_640_640_label_ACCIDENT_DETECTION.v1i.yolov7pytorch/train/labels/981_jpeg_jpg.rf.ee8e3273d7464f11f244fe410aa7d237.txt  \n",
            "  inflating: __MACOSX/+_2863_640_640_label_ACCIDENT_DETECTION.v1i.yolov7pytorch/train/labels/._981_jpeg_jpg.rf.ee8e3273d7464f11f244fe410aa7d237.txt  \n",
            "  inflating: +_2863_640_640_label_ACCIDENT_DETECTION.v1i.yolov7pytorch/train/labels/accidentFrame462_jpg.rf.fddd5a10641356906454f76630cfa791.txt  \n",
            "  inflating: __MACOSX/+_2863_640_640_label_ACCIDENT_DETECTION.v1i.yolov7pytorch/train/labels/._accidentFrame462_jpg.rf.fddd5a10641356906454f76630cfa791.txt  \n",
            "  inflating: +_2863_640_640_label_ACCIDENT_DETECTION.v1i.yolov7pytorch/train/labels/severV110_jpg.rf.aa746f71fa35b4f6f9f71391de01c20d.txt  \n",
            "  inflating: __MACOSX/+_2863_640_640_label_ACCIDENT_DETECTION.v1i.yolov7pytorch/train/labels/._severV110_jpg.rf.aa746f71fa35b4f6f9f71391de01c20d.txt  \n",
            "  inflating: +_2863_640_640_label_ACCIDENT_DETECTION.v1i.yolov7pytorch/train/labels/traffic_img1347_jpg.rf.31ded71f064f40ff93317c54a0bd6758.txt  \n",
            "  inflating: __MACOSX/+_2863_640_640_label_ACCIDENT_DETECTION.v1i.yolov7pytorch/train/labels/._traffic_img1347_jpg.rf.31ded71f064f40ff93317c54a0bd6758.txt  \n",
            "  inflating: +_2863_640_640_label_ACCIDENT_DETECTION.v1i.yolov7pytorch/train/labels/severityV4_69_jpg.rf.18532f775e7dba25f25d0e7478a4553a.txt  \n",
            "  inflating: __MACOSX/+_2863_640_640_label_ACCIDENT_DETECTION.v1i.yolov7pytorch/train/labels/._severityV4_69_jpg.rf.18532f775e7dba25f25d0e7478a4553a.txt  \n",
            "  inflating: +_2863_640_640_label_ACCIDENT_DETECTION.v1i.yolov7pytorch/train/labels/severityV3_34_jpeg_jpg.rf.d0a48f17560d89c4272a0a83bbe30793.txt  \n",
            "  inflating: __MACOSX/+_2863_640_640_label_ACCIDENT_DETECTION.v1i.yolov7pytorch/train/labels/._severityV3_34_jpeg_jpg.rf.d0a48f17560d89c4272a0a83bbe30793.txt  \n",
            "  inflating: +_2863_640_640_label_ACCIDENT_DETECTION.v1i.yolov7pytorch/train/labels/Severity_Detect_V26_jpg.rf.a957e7d779e2c2fa16d3e5030688fa84.txt  \n",
            "  inflating: __MACOSX/+_2863_640_640_label_ACCIDENT_DETECTION.v1i.yolov7pytorch/train/labels/._Severity_Detect_V26_jpg.rf.a957e7d779e2c2fa16d3e5030688fa84.txt  \n",
            "  inflating: +_2863_640_640_label_ACCIDENT_DETECTION.v1i.yolov7pytorch/train/labels/Semi-RealisticVD-180_jpg.rf.b9ba9d2a215f9e8fb75ca1c96a585d9d.txt  \n",
            "  inflating: __MACOSX/+_2863_640_640_label_ACCIDENT_DETECTION.v1i.yolov7pytorch/train/labels/._Semi-RealisticVD-180_jpg.rf.b9ba9d2a215f9e8fb75ca1c96a585d9d.txt  \n",
            "  inflating: +_2863_640_640_label_ACCIDENT_DETECTION.v1i.yolov7pytorch/train/labels/traffic_img805_jpg.rf.f9e2ab1eb351380a6ec6e95b64c2cf82.txt  \n",
            "  inflating: __MACOSX/+_2863_640_640_label_ACCIDENT_DETECTION.v1i.yolov7pytorch/train/labels/._traffic_img805_jpg.rf.f9e2ab1eb351380a6ec6e95b64c2cf82.txt  \n",
            "  inflating: +_2863_640_640_label_ACCIDENT_DETECTION.v1i.yolov7pytorch/train/labels/severity_V122_jpg.rf.071ba9c868e7829c16b2fbcdc03d77d1.txt  \n",
            "  inflating: __MACOSX/+_2863_640_640_label_ACCIDENT_DETECTION.v1i.yolov7pytorch/train/labels/._severity_V122_jpg.rf.071ba9c868e7829c16b2fbcdc03d77d1.txt  \n",
            "  inflating: +_2863_640_640_label_ACCIDENT_DETECTION.v1i.yolov7pytorch/train/labels/images-35_jpg.rf.ece16f52dff31a9999fdfd9cab66daf8.txt  \n",
            "  inflating: __MACOSX/+_2863_640_640_label_ACCIDENT_DETECTION.v1i.yolov7pytorch/train/labels/._images-35_jpg.rf.ece16f52dff31a9999fdfd9cab66daf8.txt  \n",
            "  inflating: +_2863_640_640_label_ACCIDENT_DETECTION.v1i.yolov7pytorch/train/labels/traffic_img7_jpg.rf.a475c333f73aa598d98a7ccf6db03226.txt  \n",
            "  inflating: __MACOSX/+_2863_640_640_label_ACCIDENT_DETECTION.v1i.yolov7pytorch/train/labels/._traffic_img7_jpg.rf.a475c333f73aa598d98a7ccf6db03226.txt  \n",
            "  inflating: +_2863_640_640_label_ACCIDENT_DETECTION.v1i.yolov7pytorch/train/labels/traffic_img1552_jpg.rf.0956f33aca44c39cc7a9c3a595d499d8.txt  \n",
            "  inflating: __MACOSX/+_2863_640_640_label_ACCIDENT_DETECTION.v1i.yolov7pytorch/train/labels/._traffic_img1552_jpg.rf.0956f33aca44c39cc7a9c3a595d499d8.txt  \n",
            "  inflating: +_2863_640_640_label_ACCIDENT_DETECTION.v1i.yolov7pytorch/train/labels/images-36_jpg.rf.29246f7b7d9f3e9ba77a95c7d0254610.txt  \n",
            "  inflating: __MACOSX/+_2863_640_640_label_ACCIDENT_DETECTION.v1i.yolov7pytorch/train/labels/._images-36_jpg.rf.29246f7b7d9f3e9ba77a95c7d0254610.txt  \n",
            "  inflating: +_2863_640_640_label_ACCIDENT_DETECTION.v1i.yolov7pytorch/train/labels/severity_V125_jpg.rf.b7c94222c373bc2a5e2f1ebc88e0e1b3.txt  \n",
            "  inflating: __MACOSX/+_2863_640_640_label_ACCIDENT_DETECTION.v1i.yolov7pytorch/train/labels/._severity_V125_jpg.rf.b7c94222c373bc2a5e2f1ebc88e0e1b3.txt  \n",
            "  inflating: +_2863_640_640_label_ACCIDENT_DETECTION.v1i.yolov7pytorch/train/labels/14-29_jpg.rf.ab50a5e14109773acb2805dc4d46208f.txt  \n",
            "  inflating: __MACOSX/+_2863_640_640_label_ACCIDENT_DETECTION.v1i.yolov7pytorch/train/labels/._14-29_jpg.rf.ab50a5e14109773acb2805dc4d46208f.txt  \n",
            "  inflating: +_2863_640_640_label_ACCIDENT_DETECTION.v1i.yolov7pytorch/train/labels/accidentFrame3424_jpg.rf.400e32489e31c3430e6eabc7b5f0073c.txt  \n",
            "  inflating: __MACOSX/+_2863_640_640_label_ACCIDENT_DETECTION.v1i.yolov7pytorch/train/labels/._accidentFrame3424_jpg.rf.400e32489e31c3430e6eabc7b5f0073c.txt  \n",
            "  inflating: +_2863_640_640_label_ACCIDENT_DETECTION.v1i.yolov7pytorch/train/labels/severityV4_29_jpg.rf.c6c20bdd54d786a06f114c30e24ae63d.txt  \n",
            "  inflating: __MACOSX/+_2863_640_640_label_ACCIDENT_DETECTION.v1i.yolov7pytorch/train/labels/._severityV4_29_jpg.rf.c6c20bdd54d786a06f114c30e24ae63d.txt  \n",
            "  inflating: +_2863_640_640_label_ACCIDENT_DETECTION.v1i.yolov7pytorch/train/labels/images-22_jpg.rf.bc9f95fd3506bda1019e6cba247b9a29.txt  \n",
            "  inflating: __MACOSX/+_2863_640_640_label_ACCIDENT_DETECTION.v1i.yolov7pytorch/train/labels/._images-22_jpg.rf.bc9f95fd3506bda1019e6cba247b9a29.txt  \n",
            "  inflating: +_2863_640_640_label_ACCIDENT_DETECTION.v1i.yolov7pytorch/train/labels/traffic_img9_jpg.rf.b99d4804de036340d2649d35acec402c.txt  \n",
            "  inflating: __MACOSX/+_2863_640_640_label_ACCIDENT_DETECTION.v1i.yolov7pytorch/train/labels/._traffic_img9_jpg.rf.b99d4804de036340d2649d35acec402c.txt  \n",
            "  inflating: +_2863_640_640_label_ACCIDENT_DETECTION.v1i.yolov7pytorch/train/labels/2-8_jpg.rf.9414cedde244f9249f4a58fcfb57bfd7.txt  \n",
            "  inflating: __MACOSX/+_2863_640_640_label_ACCIDENT_DETECTION.v1i.yolov7pytorch/train/labels/._2-8_jpg.rf.9414cedde244f9249f4a58fcfb57bfd7.txt  \n",
            "  inflating: +_2863_640_640_label_ACCIDENT_DETECTION.v1i.yolov7pytorch/train/labels/images-23_jpg.rf.cb319edf03bf93876fc8efba4f6a426a.txt  \n",
            "  inflating: __MACOSX/+_2863_640_640_label_ACCIDENT_DETECTION.v1i.yolov7pytorch/train/labels/._images-23_jpg.rf.cb319edf03bf93876fc8efba4f6a426a.txt  \n",
            "  inflating: +_2863_640_640_label_ACCIDENT_DETECTION.v1i.yolov7pytorch/train/labels/1092_jpeg_jpg.rf.d8537c2abbe719a19f1ab2a370d979d6.txt  \n",
            "  inflating: __MACOSX/+_2863_640_640_label_ACCIDENT_DETECTION.v1i.yolov7pytorch/train/labels/._1092_jpeg_jpg.rf.d8537c2abbe719a19f1ab2a370d979d6.txt  \n",
            "  inflating: +_2863_640_640_label_ACCIDENT_DETECTION.v1i.yolov7pytorch/train/labels/Screen-Shot-2022-04-05-at-2-11-24-AM_png_jpg.rf.c059cf1e89d82bcb9711f52e33a24006.txt  \n",
            "  inflating: __MACOSX/+_2863_640_640_label_ACCIDENT_DETECTION.v1i.yolov7pytorch/train/labels/._Screen-Shot-2022-04-05-at-2-11-24-AM_png_jpg.rf.c059cf1e89d82bcb9711f52e33a24006.txt  \n",
            "  inflating: +_2863_640_640_label_ACCIDENT_DETECTION.v1i.yolov7pytorch/train/labels/Severity_Detect_V12_jpg.rf.effd246c731b03a38225a01b74c7c8ff.txt  \n",
            "  inflating: __MACOSX/+_2863_640_640_label_ACCIDENT_DETECTION.v1i.yolov7pytorch/train/labels/._Severity_Detect_V12_jpg.rf.effd246c731b03a38225a01b74c7c8ff.txt  \n",
            "  inflating: +_2863_640_640_label_ACCIDENT_DETECTION.v1i.yolov7pytorch/train/labels/images_jpg.rf.f60a069733eac8320f7b72adfac6f665.txt  \n",
            "  inflating: __MACOSX/+_2863_640_640_label_ACCIDENT_DETECTION.v1i.yolov7pytorch/train/labels/._images_jpg.rf.f60a069733eac8320f7b72adfac6f665.txt  \n",
            "  inflating: +_2863_640_640_label_ACCIDENT_DETECTION.v1i.yolov7pytorch/train/labels/FLIP_CAR_V129_jpg.rf.ba84b7df858c896aad120dad1f86d9c2.txt  \n",
            "  inflating: __MACOSX/+_2863_640_640_label_ACCIDENT_DETECTION.v1i.yolov7pytorch/train/labels/._FLIP_CAR_V129_jpg.rf.ba84b7df858c896aad120dad1f86d9c2.txt  \n",
            "  inflating: +_2863_640_640_label_ACCIDENT_DETECTION.v1i.yolov7pytorch/train/labels/images-2020-08-13T213919-517_jpg.rf.af5d36f458ca1248110c58458d802eb3.txt  \n",
            "  inflating: __MACOSX/+_2863_640_640_label_ACCIDENT_DETECTION.v1i.yolov7pytorch/train/labels/._images-2020-08-13T213919-517_jpg.rf.af5d36f458ca1248110c58458d802eb3.txt  \n",
            "  inflating: +_2863_640_640_label_ACCIDENT_DETECTION.v1i.yolov7pytorch/train/labels/accidentFrame2742_jpg.rf.b2f8e03fcb5d38cbf1da1f76930d1fbc.txt  \n",
            "  inflating: __MACOSX/+_2863_640_640_label_ACCIDENT_DETECTION.v1i.yolov7pytorch/train/labels/._accidentFrame2742_jpg.rf.b2f8e03fcb5d38cbf1da1f76930d1fbc.txt  \n",
            "  inflating: +_2863_640_640_label_ACCIDENT_DETECTION.v1i.yolov7pytorch/train/labels/images_jpg.rf.a347f1eda6748f55681843c8afa942c2.txt  \n",
            "  inflating: __MACOSX/+_2863_640_640_label_ACCIDENT_DETECTION.v1i.yolov7pytorch/train/labels/._images_jpg.rf.a347f1eda6748f55681843c8afa942c2.txt  \n",
            "  inflating: +_2863_640_640_label_ACCIDENT_DETECTION.v1i.yolov7pytorch/train/labels/images-26_jpg.rf.46cd93073f8b9ae55a5680669834b0b4.txt  \n",
            "  inflating: __MACOSX/+_2863_640_640_label_ACCIDENT_DETECTION.v1i.yolov7pytorch/train/labels/._images-26_jpg.rf.46cd93073f8b9ae55a5680669834b0b4.txt  \n",
            "  inflating: +_2863_640_640_label_ACCIDENT_DETECTION.v1i.yolov7pytorch/train/labels/AD1_jpeg_jpg.rf.19e78706c4a282e11b38b1d31f57fcbd.txt  \n",
            "  inflating: __MACOSX/+_2863_640_640_label_ACCIDENT_DETECTION.v1i.yolov7pytorch/train/labels/._AD1_jpeg_jpg.rf.19e78706c4a282e11b38b1d31f57fcbd.txt  \n",
            "  inflating: +_2863_640_640_label_ACCIDENT_DETECTION.v1i.yolov7pytorch/train/labels/accidentFrame269_jpg.rf.b105605cc754df4d3fa9c73b2f2295e6.txt  \n",
            "  inflating: __MACOSX/+_2863_640_640_label_ACCIDENT_DETECTION.v1i.yolov7pytorch/train/labels/._accidentFrame269_jpg.rf.b105605cc754df4d3fa9c73b2f2295e6.txt  \n",
            "  inflating: +_2863_640_640_label_ACCIDENT_DETECTION.v1i.yolov7pytorch/train/labels/images-2020-08-13T213923-287_jpg.rf.60df08257dc4bb449b80b8b3dd3480dd.txt  \n",
            "  inflating: __MACOSX/+_2863_640_640_label_ACCIDENT_DETECTION.v1i.yolov7pytorch/train/labels/._images-2020-08-13T213923-287_jpg.rf.60df08257dc4bb449b80b8b3dd3480dd.txt  \n",
            "  inflating: +_2863_640_640_label_ACCIDENT_DETECTION.v1i.yolov7pytorch/train/labels/new_SD6_jpg.rf.8977e05e410bf9bddf3ff24ad225fa8a.txt  \n",
            "  inflating: __MACOSX/+_2863_640_640_label_ACCIDENT_DETECTION.v1i.yolov7pytorch/train/labels/._new_SD6_jpg.rf.8977e05e410bf9bddf3ff24ad225fa8a.txt  \n",
            "  inflating: +_2863_640_640_label_ACCIDENT_DETECTION.v1i.yolov7pytorch/train/labels/839_jpeg_jpg.rf.d4881a8c850e07b3178e8197dfa1958d.txt  \n",
            "  inflating: __MACOSX/+_2863_640_640_label_ACCIDENT_DETECTION.v1i.yolov7pytorch/train/labels/._839_jpeg_jpg.rf.d4881a8c850e07b3178e8197dfa1958d.txt  \n",
            "  inflating: +_2863_640_640_label_ACCIDENT_DETECTION.v1i.yolov7pytorch/train/labels/accidentFrame2753_jpg.rf.d2bcb9b1423f7acc73c92ca708421a06.txt  \n",
            "  inflating: __MACOSX/+_2863_640_640_label_ACCIDENT_DETECTION.v1i.yolov7pytorch/train/labels/._accidentFrame2753_jpg.rf.d2bcb9b1423f7acc73c92ca708421a06.txt  \n",
            "  inflating: +_2863_640_640_label_ACCIDENT_DETECTION.v1i.yolov7pytorch/train/labels/images-16_jpg.rf.86ffe8fefee6bbc179fbb28a2496642a.txt  \n",
            "  inflating: __MACOSX/+_2863_640_640_label_ACCIDENT_DETECTION.v1i.yolov7pytorch/train/labels/._images-16_jpg.rf.86ffe8fefee6bbc179fbb28a2496642a.txt  \n",
            "  inflating: +_2863_640_640_label_ACCIDENT_DETECTION.v1i.yolov7pytorch/train/labels/accidentFrame2981_jpg.rf.b822b5aa9c6a4faa2bde20b705733813.txt  \n",
            "  inflating: __MACOSX/+_2863_640_640_label_ACCIDENT_DETECTION.v1i.yolov7pytorch/train/labels/._accidentFrame2981_jpg.rf.b822b5aa9c6a4faa2bde20b705733813.txt  \n",
            "  inflating: +_2863_640_640_label_ACCIDENT_DETECTION.v1i.yolov7pytorch/train/labels/traffic_img71_jpg.rf.e601ee11229dff2b7c6f044c156d7dd4.txt  \n",
            "  inflating: __MACOSX/+_2863_640_640_label_ACCIDENT_DETECTION.v1i.yolov7pytorch/train/labels/._traffic_img71_jpg.rf.e601ee11229dff2b7c6f044c156d7dd4.txt  \n",
            "  inflating: +_2863_640_640_label_ACCIDENT_DETECTION.v1i.yolov7pytorch/train/labels/severityV4_30_jpg.rf.e4166ebd2015d31c1569d88160b90bfe.txt  \n",
            "  inflating: __MACOSX/+_2863_640_640_label_ACCIDENT_DETECTION.v1i.yolov7pytorch/train/labels/._severityV4_30_jpg.rf.e4166ebd2015d31c1569d88160b90bfe.txt  \n",
            "  inflating: +_2863_640_640_label_ACCIDENT_DETECTION.v1i.yolov7pytorch/train/labels/download-2_jpg.rf.514d2fef870f2ad67ccdeeac680d992c.txt  \n",
            "  inflating: __MACOSX/+_2863_640_640_label_ACCIDENT_DETECTION.v1i.yolov7pytorch/train/labels/._download-2_jpg.rf.514d2fef870f2ad67ccdeeac680d992c.txt  \n",
            "  inflating: +_2863_640_640_label_ACCIDENT_DETECTION.v1i.yolov7pytorch/train/labels/traffic_img62_jpg.rf.112c589bb3ee4e506fa8fba92ba96764.txt  \n",
            "  inflating: __MACOSX/+_2863_640_640_label_ACCIDENT_DETECTION.v1i.yolov7pytorch/train/labels/._traffic_img62_jpg.rf.112c589bb3ee4e506fa8fba92ba96764.txt  \n",
            "  inflating: +_2863_640_640_label_ACCIDENT_DETECTION.v1i.yolov7pytorch/train/labels/accidentFrame132_jpg.rf.dd09238941ade55d76f83e9b4dc8701a.txt  \n",
            "  inflating: __MACOSX/+_2863_640_640_label_ACCIDENT_DETECTION.v1i.yolov7pytorch/train/labels/._accidentFrame132_jpg.rf.dd09238941ade55d76f83e9b4dc8701a.txt  \n",
            "  inflating: +_2863_640_640_label_ACCIDENT_DETECTION.v1i.yolov7pytorch/train/labels/maxresdefaul11t_jpg.rf.e58ae54a6c4b9bd7dd32d4f295e2503e.txt  \n",
            "  inflating: __MACOSX/+_2863_640_640_label_ACCIDENT_DETECTION.v1i.yolov7pytorch/train/labels/._maxresdefaul11t_jpg.rf.e58ae54a6c4b9bd7dd32d4f295e2503e.txt  \n",
            "  inflating: +_2863_640_640_label_ACCIDENT_DETECTION.v1i.yolov7pytorch/train/labels/severityV2_10_jpg.rf.c2c48b070d6d7c118500449f1b028059.txt  \n",
            "  inflating: __MACOSX/+_2863_640_640_label_ACCIDENT_DETECTION.v1i.yolov7pytorch/train/labels/._severityV2_10_jpg.rf.c2c48b070d6d7c118500449f1b028059.txt  \n",
            "  inflating: +_2863_640_640_label_ACCIDENT_DETECTION.v1i.yolov7pytorch/train/labels/images-1_jpg.rf.cf8c33b677698071fb986d1908e5dd93.txt  \n",
            "  inflating: __MACOSX/+_2863_640_640_label_ACCIDENT_DETECTION.v1i.yolov7pytorch/train/labels/._images-1_jpg.rf.cf8c33b677698071fb986d1908e5dd93.txt  \n",
            "  inflating: +_2863_640_640_label_ACCIDENT_DETECTION.v1i.yolov7pytorch/train/labels/traffic_img1807_jpg.rf.6136f74248922b43645152a8e8e9b107.txt  \n",
            "  inflating: __MACOSX/+_2863_640_640_label_ACCIDENT_DETECTION.v1i.yolov7pytorch/train/labels/._traffic_img1807_jpg.rf.6136f74248922b43645152a8e8e9b107.txt  \n",
            "  inflating: +_2863_640_640_label_ACCIDENT_DETECTION.v1i.yolov7pytorch/train/labels/severityV4_61_jpg.rf.dbb3c31ba6fe428e9a5c8c2ba044c9e6.txt  \n",
            "  inflating: __MACOSX/+_2863_640_640_label_ACCIDENT_DETECTION.v1i.yolov7pytorch/train/labels/._severityV4_61_jpg.rf.dbb3c31ba6fe428e9a5c8c2ba044c9e6.txt  \n",
            "  inflating: +_2863_640_640_label_ACCIDENT_DETECTION.v1i.yolov7pytorch/train/labels/traffic_img1838_jpg.rf.d24cb217f417df1ab6832846b939b54c.txt  \n",
            "  inflating: __MACOSX/+_2863_640_640_label_ACCIDENT_DETECTION.v1i.yolov7pytorch/train/labels/._traffic_img1838_jpg.rf.d24cb217f417df1ab6832846b939b54c.txt  \n",
            "  inflating: +_2863_640_640_label_ACCIDENT_DETECTION.v1i.yolov7pytorch/train/labels/Severity_Detect_V27_jpg.rf.f29aee055dad4c9167a60cecc17a2017.txt  \n",
            "  inflating: __MACOSX/+_2863_640_640_label_ACCIDENT_DETECTION.v1i.yolov7pytorch/train/labels/._Severity_Detect_V27_jpg.rf.f29aee055dad4c9167a60cecc17a2017.txt  \n",
            "  inflating: +_2863_640_640_label_ACCIDENT_DETECTION.v1i.yolov7pytorch/train/labels/images-1_jpg.rf.27281a9eade880f08f67c4bf7abb8a54.txt  \n",
            "  inflating: __MACOSX/+_2863_640_640_label_ACCIDENT_DETECTION.v1i.yolov7pytorch/train/labels/._images-1_jpg.rf.27281a9eade880f08f67c4bf7abb8a54.txt  \n",
            "  inflating: +_2863_640_640_label_ACCIDENT_DETECTION.v1i.yolov7pytorch/train/labels/Semi-RealisticVD-214_jpg.rf.e4cd59860df58b3e734290d5d3a1fd82.txt  \n",
            "  inflating: __MACOSX/+_2863_640_640_label_ACCIDENT_DETECTION.v1i.yolov7pytorch/train/labels/._Semi-RealisticVD-214_jpg.rf.e4cd59860df58b3e734290d5d3a1fd82.txt  \n",
            "  inflating: +_2863_640_640_label_ACCIDENT_DETECTION.v1i.yolov7pytorch/train/labels/traffic_img72_jpg.rf.e81a78583f3e6acdda5ffb53ea43c20f.txt  \n",
            "  inflating: __MACOSX/+_2863_640_640_label_ACCIDENT_DETECTION.v1i.yolov7pytorch/train/labels/._traffic_img72_jpg.rf.e81a78583f3e6acdda5ffb53ea43c20f.txt  \n",
            "  inflating: +_2863_640_640_label_ACCIDENT_DETECTION.v1i.yolov7pytorch/train/labels/screen_images3_png_jpg.rf.be6eb7f6df41e18d4200dfb6b55e47e6.txt  \n",
            "  inflating: __MACOSX/+_2863_640_640_label_ACCIDENT_DETECTION.v1i.yolov7pytorch/train/labels/._screen_images3_png_jpg.rf.be6eb7f6df41e18d4200dfb6b55e47e6.txt  \n",
            "  inflating: +_2863_640_640_label_ACCIDENT_DETECTION.v1i.yolov7pytorch/train/labels/sev11_jpg.rf.eb5dfb7aa7a66b88b3398402c5b55ae5.txt  \n",
            "  inflating: __MACOSX/+_2863_640_640_label_ACCIDENT_DETECTION.v1i.yolov7pytorch/train/labels/._sev11_jpg.rf.eb5dfb7aa7a66b88b3398402c5b55ae5.txt  \n",
            "  inflating: +_2863_640_640_label_ACCIDENT_DETECTION.v1i.yolov7pytorch/train/labels/Semi-RealisticVD-187_jpg.rf.e11b2df6236160eca6b3ef710d0c61af.txt  \n",
            "  inflating: __MACOSX/+_2863_640_640_label_ACCIDENT_DETECTION.v1i.yolov7pytorch/train/labels/._Semi-RealisticVD-187_jpg.rf.e11b2df6236160eca6b3ef710d0c61af.txt  \n",
            "  inflating: +_2863_640_640_label_ACCIDENT_DETECTION.v1i.yolov7pytorch/train/labels/severV16_jpg.rf.7179222f7ecf66d89b7f8fbd62086ebd.txt  \n",
            "  inflating: __MACOSX/+_2863_640_640_label_ACCIDENT_DETECTION.v1i.yolov7pytorch/train/labels/._severV16_jpg.rf.7179222f7ecf66d89b7f8fbd62086ebd.txt  \n",
            "  inflating: +_2863_640_640_label_ACCIDENT_DETECTION.v1i.yolov7pytorch/train/labels/images-9_jpg.rf.ce66e0b84d3d93b4ad6b65543e429b54.txt  \n",
            "  inflating: __MACOSX/+_2863_640_640_label_ACCIDENT_DETECTION.v1i.yolov7pytorch/train/labels/._images-9_jpg.rf.ce66e0b84d3d93b4ad6b65543e429b54.txt  \n",
            "  inflating: +_2863_640_640_label_ACCIDENT_DETECTION.v1i.yolov7pytorch/train/labels/severityV3_8_jpeg_jpg.rf.a210be31a61e2c87f932d63029f0920a.txt  \n",
            "  inflating: __MACOSX/+_2863_640_640_label_ACCIDENT_DETECTION.v1i.yolov7pytorch/train/labels/._severityV3_8_jpeg_jpg.rf.a210be31a61e2c87f932d63029f0920a.txt  \n",
            "  inflating: +_2863_640_640_label_ACCIDENT_DETECTION.v1i.yolov7pytorch/train/labels/images-7_jpg.rf.ec2873d271e99147a4f3e2fee19d7de1.txt  \n",
            "  inflating: __MACOSX/+_2863_640_640_label_ACCIDENT_DETECTION.v1i.yolov7pytorch/train/labels/._images-7_jpg.rf.ec2873d271e99147a4f3e2fee19d7de1.txt  \n",
            "  inflating: +_2863_640_640_label_ACCIDENT_DETECTION.v1i.yolov7pytorch/train/labels/Severity_Detect_V6_jpg.rf.738e2ea3e3b63db208cea67efed2fe82.txt  \n",
            "  inflating: __MACOSX/+_2863_640_640_label_ACCIDENT_DETECTION.v1i.yolov7pytorch/train/labels/._Severity_Detect_V6_jpg.rf.738e2ea3e3b63db208cea67efed2fe82.txt  \n",
            "  inflating: +_2863_640_640_label_ACCIDENT_DETECTION.v1i.yolov7pytorch/train/labels/Severity_Detect_V21_jpg.rf.cf224bc52e75c44f1ed72db36dc2445b.txt  \n",
            "  inflating: __MACOSX/+_2863_640_640_label_ACCIDENT_DETECTION.v1i.yolov7pytorch/train/labels/._Severity_Detect_V21_jpg.rf.cf224bc52e75c44f1ed72db36dc2445b.txt  \n",
            "  inflating: +_2863_640_640_label_ACCIDENT_DETECTION.v1i.yolov7pytorch/train/labels/traffic_img2094_jpg.rf.3985598f71eb801cd77b7cc8510bf9e2.txt  \n",
            "  inflating: __MACOSX/+_2863_640_640_label_ACCIDENT_DETECTION.v1i.yolov7pytorch/train/labels/._traffic_img2094_jpg.rf.3985598f71eb801cd77b7cc8510bf9e2.txt  \n",
            "  inflating: +_2863_640_640_label_ACCIDENT_DETECTION.v1i.yolov7pytorch/train/labels/2-33_jpg.rf.698315683ff6d6d3bde098145f07ad05.txt  \n",
            "  inflating: __MACOSX/+_2863_640_640_label_ACCIDENT_DETECTION.v1i.yolov7pytorch/train/labels/._2-33_jpg.rf.698315683ff6d6d3bde098145f07ad05.txt  \n",
            "  inflating: +_2863_640_640_label_ACCIDENT_DETECTION.v1i.yolov7pytorch/train/labels/816_jpeg_jpg.rf.1198dc66cf6f2cbe06151a8bcc162715.txt  \n",
            "  inflating: __MACOSX/+_2863_640_640_label_ACCIDENT_DETECTION.v1i.yolov7pytorch/train/labels/._816_jpeg_jpg.rf.1198dc66cf6f2cbe06151a8bcc162715.txt  \n",
            "  inflating: +_2863_640_640_label_ACCIDENT_DETECTION.v1i.yolov7pytorch/train/labels/images_jpg.rf.ed5d2c80715758c100992d474c1a54d7.txt  \n",
            "  inflating: __MACOSX/+_2863_640_640_label_ACCIDENT_DETECTION.v1i.yolov7pytorch/train/labels/._images_jpg.rf.ed5d2c80715758c100992d474c1a54d7.txt  \n",
            "  inflating: +_2863_640_640_label_ACCIDENT_DETECTION.v1i.yolov7pytorch/train/labels/Semi-RealisticVD-157_jpg.rf.4863238fd71a4628683413fb0818a7ae.txt  \n",
            "  inflating: __MACOSX/+_2863_640_640_label_ACCIDENT_DETECTION.v1i.yolov7pytorch/train/labels/._Semi-RealisticVD-157_jpg.rf.4863238fd71a4628683413fb0818a7ae.txt  \n",
            "  inflating: +_2863_640_640_label_ACCIDENT_DETECTION.v1i.yolov7pytorch/train/labels/images-2_jpg.rf.844fa1847c576e332d95a27335719b66.txt  \n",
            "  inflating: __MACOSX/+_2863_640_640_label_ACCIDENT_DETECTION.v1i.yolov7pytorch/train/labels/._images-2_jpg.rf.844fa1847c576e332d95a27335719b66.txt  \n",
            "  inflating: +_2863_640_640_label_ACCIDENT_DETECTION.v1i.yolov7pytorch/train/labels/FLIP_CAR_V152_jpg.rf.edbd4ee511929f280948e3687ac93595.txt  \n",
            "  inflating: __MACOSX/+_2863_640_640_label_ACCIDENT_DETECTION.v1i.yolov7pytorch/train/labels/._FLIP_CAR_V152_jpg.rf.edbd4ee511929f280948e3687ac93595.txt  \n",
            "  inflating: +_2863_640_640_label_ACCIDENT_DETECTION.v1i.yolov7pytorch/train/labels/severityV4_77_jpg.rf.aecc81d67595388899e736cba3775879.txt  \n",
            "  inflating: __MACOSX/+_2863_640_640_label_ACCIDENT_DETECTION.v1i.yolov7pytorch/train/labels/._severityV4_77_jpg.rf.aecc81d67595388899e736cba3775879.txt  \n",
            "  inflating: +_2863_640_640_label_ACCIDENT_DETECTION.v1i.yolov7pytorch/train/labels/images-21_jpg.rf.ca183f5f64a8ce2b5c9c50727be8f285.txt  \n",
            "  inflating: __MACOSX/+_2863_640_640_label_ACCIDENT_DETECTION.v1i.yolov7pytorch/train/labels/._images-21_jpg.rf.ca183f5f64a8ce2b5c9c50727be8f285.txt  \n",
            "  inflating: +_2863_640_640_label_ACCIDENT_DETECTION.v1i.yolov7pytorch/train/labels/screen_images12_png_jpg.rf.e4996c91d9159be5422c6121f97c707d.txt  \n",
            "  inflating: __MACOSX/+_2863_640_640_label_ACCIDENT_DETECTION.v1i.yolov7pytorch/train/labels/._screen_images12_png_jpg.rf.e4996c91d9159be5422c6121f97c707d.txt  \n",
            "  inflating: +_2863_640_640_label_ACCIDENT_DETECTION.v1i.yolov7pytorch/train/labels/sev7_jpg.rf.53bfa63f0903fc3a347ab068e78f4071.txt  \n",
            "  inflating: __MACOSX/+_2863_640_640_label_ACCIDENT_DETECTION.v1i.yolov7pytorch/train/labels/._sev7_jpg.rf.53bfa63f0903fc3a347ab068e78f4071.txt  \n",
            "  inflating: +_2863_640_640_label_ACCIDENT_DETECTION.v1i.yolov7pytorch/train/labels/traffic_img456_jpg.rf.dc5e8afcde3484e014c346c48e60f302.txt  \n",
            "  inflating: __MACOSX/+_2863_640_640_label_ACCIDENT_DETECTION.v1i.yolov7pytorch/train/labels/._traffic_img456_jpg.rf.dc5e8afcde3484e014c346c48e60f302.txt  \n",
            "  inflating: +_2863_640_640_label_ACCIDENT_DETECTION.v1i.yolov7pytorch/train/labels/images-1_jpg.rf.38a446c8f4fab5051ca0f27d5f39e2ba.txt  \n",
            "  inflating: __MACOSX/+_2863_640_640_label_ACCIDENT_DETECTION.v1i.yolov7pytorch/train/labels/._images-1_jpg.rf.38a446c8f4fab5051ca0f27d5f39e2ba.txt  \n",
            "  inflating: +_2863_640_640_label_ACCIDENT_DETECTION.v1i.yolov7pytorch/train/labels/severityV4_52_jpg.rf.b41199946ae722142a527458bec3a460.txt  \n",
            "  inflating: __MACOSX/+_2863_640_640_label_ACCIDENT_DETECTION.v1i.yolov7pytorch/train/labels/._severityV4_52_jpg.rf.b41199946ae722142a527458bec3a460.txt  \n",
            "  inflating: +_2863_640_640_label_ACCIDENT_DETECTION.v1i.yolov7pytorch/train/labels/traffic_img476_jpg.rf.ebd747ba69377cee6fd43f904341c608.txt  \n",
            "  inflating: __MACOSX/+_2863_640_640_label_ACCIDENT_DETECTION.v1i.yolov7pytorch/train/labels/._traffic_img476_jpg.rf.ebd747ba69377cee6fd43f904341c608.txt  \n",
            "  inflating: +_2863_640_640_label_ACCIDENT_DETECTION.v1i.yolov7pytorch/train/labels/images-9_jpg.rf.d27aa9b10ada2083f1cb44d2daf22c0b.txt  \n",
            "  inflating: __MACOSX/+_2863_640_640_label_ACCIDENT_DETECTION.v1i.yolov7pytorch/train/labels/._images-9_jpg.rf.d27aa9b10ada2083f1cb44d2daf22c0b.txt  \n",
            "  inflating: +_2863_640_640_label_ACCIDENT_DETECTION.v1i.yolov7pytorch/train/labels/download-9_jpg.rf.4df7366461ee51641854cd574794bf0d.txt  \n",
            "  inflating: __MACOSX/+_2863_640_640_label_ACCIDENT_DETECTION.v1i.yolov7pytorch/train/labels/._download-9_jpg.rf.4df7366461ee51641854cd574794bf0d.txt  \n",
            "  inflating: +_2863_640_640_label_ACCIDENT_DETECTION.v1i.yolov7pytorch/train/labels/severityV4_81_jpg.rf.ee0f317dafc19ff33a3c278950cb3146.txt  \n",
            "  inflating: __MACOSX/+_2863_640_640_label_ACCIDENT_DETECTION.v1i.yolov7pytorch/train/labels/._severityV4_81_jpg.rf.ee0f317dafc19ff33a3c278950cb3146.txt  \n",
            "  inflating: +_2863_640_640_label_ACCIDENT_DETECTION.v1i.yolov7pytorch/train/labels/traffic_img51_jpg.rf.c6cd633400fc9cb57741fdbc11ec020f.txt  \n",
            "  inflating: __MACOSX/+_2863_640_640_label_ACCIDENT_DETECTION.v1i.yolov7pytorch/train/labels/._traffic_img51_jpg.rf.c6cd633400fc9cb57741fdbc11ec020f.txt  \n",
            "  inflating: +_2863_640_640_label_ACCIDENT_DETECTION.v1i.yolov7pytorch/train/labels/788_jpeg_jpg.rf.dbaa91c63b92726c5b2df23caeaad49a.txt  \n",
            "  inflating: __MACOSX/+_2863_640_640_label_ACCIDENT_DETECTION.v1i.yolov7pytorch/train/labels/._788_jpeg_jpg.rf.dbaa91c63b92726c5b2df23caeaad49a.txt  \n",
            "  inflating: +_2863_640_640_label_ACCIDENT_DETECTION.v1i.yolov7pytorch/train/labels/images-17_jpg.rf.164633ad52537996eef26b89e9eeb020.txt  \n",
            "  inflating: __MACOSX/+_2863_640_640_label_ACCIDENT_DETECTION.v1i.yolov7pytorch/train/labels/._images-17_jpg.rf.164633ad52537996eef26b89e9eeb020.txt  \n",
            "  inflating: +_2863_640_640_label_ACCIDENT_DETECTION.v1i.yolov7pytorch/train/labels/FLIP_CAR_V141_jpg.rf.c064ceb022873bbfc980a15c766d17ef.txt  \n",
            "  inflating: __MACOSX/+_2863_640_640_label_ACCIDENT_DETECTION.v1i.yolov7pytorch/train/labels/._FLIP_CAR_V141_jpg.rf.c064ceb022873bbfc980a15c766d17ef.txt  \n",
            "  inflating: +_2863_640_640_label_ACCIDENT_DETECTION.v1i.yolov7pytorch/train/labels/severityV4_83_jpg.rf.d1ea7ea22f90f5d8f032cfbfd8b53615.txt  \n",
            "  inflating: __MACOSX/+_2863_640_640_label_ACCIDENT_DETECTION.v1i.yolov7pytorch/train/labels/._severityV4_83_jpg.rf.d1ea7ea22f90f5d8f032cfbfd8b53615.txt  \n",
            "  inflating: +_2863_640_640_label_ACCIDENT_DETECTION.v1i.yolov7pytorch/train/labels/images-8_jpg.rf.59c5df42add15acfb452d857bbc43694.txt  \n",
            "  inflating: __MACOSX/+_2863_640_640_label_ACCIDENT_DETECTION.v1i.yolov7pytorch/train/labels/._images-8_jpg.rf.59c5df42add15acfb452d857bbc43694.txt  \n",
            "  inflating: +_2863_640_640_label_ACCIDENT_DETECTION.v1i.yolov7pytorch/train/labels/sever2_jpg.rf.f9e118c8a7c4020fd91fcec549f7f36c.txt  \n",
            "  inflating: __MACOSX/+_2863_640_640_label_ACCIDENT_DETECTION.v1i.yolov7pytorch/train/labels/._sever2_jpg.rf.f9e118c8a7c4020fd91fcec549f7f36c.txt  \n",
            "  inflating: +_2863_640_640_label_ACCIDENT_DETECTION.v1i.yolov7pytorch/train/labels/severityV4_25_jpg.rf.a71a4f23c5cca4e159f9dbc5213e4061.txt  \n",
            "  inflating: __MACOSX/+_2863_640_640_label_ACCIDENT_DETECTION.v1i.yolov7pytorch/train/labels/._severityV4_25_jpg.rf.a71a4f23c5cca4e159f9dbc5213e4061.txt  \n",
            "  inflating: +_2863_640_640_label_ACCIDENT_DETECTION.v1i.yolov7pytorch/train/labels/FLIP_CAR_V166_jpg.rf.acf086770c8490d4082c69f5db2f0aa4.txt  \n",
            "  inflating: __MACOSX/+_2863_640_640_label_ACCIDENT_DETECTION.v1i.yolov7pytorch/train/labels/._FLIP_CAR_V166_jpg.rf.acf086770c8490d4082c69f5db2f0aa4.txt  \n",
            "  inflating: +_2863_640_640_label_ACCIDENT_DETECTION.v1i.yolov7pytorch/train/labels/sever6_jpg.rf.d8685a7613d9cbbb2d0b05f3fe93b653.txt  \n",
            "  inflating: __MACOSX/+_2863_640_640_label_ACCIDENT_DETECTION.v1i.yolov7pytorch/train/labels/._sever6_jpg.rf.d8685a7613d9cbbb2d0b05f3fe93b653.txt  \n",
            "  inflating: +_2863_640_640_label_ACCIDENT_DETECTION.v1i.yolov7pytorch/train/labels/images-38_jpg.rf.a9afe7171d23d3dd4d1b7d598d866966.txt  \n",
            "  inflating: __MACOSX/+_2863_640_640_label_ACCIDENT_DETECTION.v1i.yolov7pytorch/train/labels/._images-38_jpg.rf.a9afe7171d23d3dd4d1b7d598d866966.txt  \n",
            "  inflating: +_2863_640_640_label_ACCIDENT_DETECTION.v1i.yolov7pytorch/train/labels/images-11_jpg.rf.34bb7bb892c4bcfbba6046a195a7df0e.txt  \n",
            "  inflating: __MACOSX/+_2863_640_640_label_ACCIDENT_DETECTION.v1i.yolov7pytorch/train/labels/._images-11_jpg.rf.34bb7bb892c4bcfbba6046a195a7df0e.txt  \n",
            "  inflating: +_2863_640_640_label_ACCIDENT_DETECTION.v1i.yolov7pytorch/train/labels/Severity_Detect_V2_jpg.rf.7665c93f51d98fe819ccc724ff8f0943.txt  \n",
            "  inflating: __MACOSX/+_2863_640_640_label_ACCIDENT_DETECTION.v1i.yolov7pytorch/train/labels/._Severity_Detect_V2_jpg.rf.7665c93f51d98fe819ccc724ff8f0943.txt  \n",
            "  inflating: +_2863_640_640_label_ACCIDENT_DETECTION.v1i.yolov7pytorch/train/labels/FLIP_CAR_V122_jpg.rf.f007cedb10b89bd1702c5818a1400832.txt  \n",
            "  inflating: __MACOSX/+_2863_640_640_label_ACCIDENT_DETECTION.v1i.yolov7pytorch/train/labels/._FLIP_CAR_V122_jpg.rf.f007cedb10b89bd1702c5818a1400832.txt  \n",
            "  inflating: +_2863_640_640_label_ACCIDENT_DETECTION.v1i.yolov7pytorch/train/labels/166_jpeg_jpg.rf.50ed8ec7b1e843f575353e62ca8909f4.txt  \n",
            "  inflating: __MACOSX/+_2863_640_640_label_ACCIDENT_DETECTION.v1i.yolov7pytorch/train/labels/._166_jpeg_jpg.rf.50ed8ec7b1e843f575353e62ca8909f4.txt  \n",
            "  inflating: +_2863_640_640_label_ACCIDENT_DETECTION.v1i.yolov7pytorch/train/labels/severe13_jpeg_jpg.rf.eb944197a85db683f85c164349996b33.txt  \n",
            "  inflating: __MACOSX/+_2863_640_640_label_ACCIDENT_DETECTION.v1i.yolov7pytorch/train/labels/._severe13_jpeg_jpg.rf.eb944197a85db683f85c164349996b33.txt  \n",
            "  inflating: +_2863_640_640_label_ACCIDENT_DETECTION.v1i.yolov7pytorch/train/labels/severityV4_65_jpg.rf.640b3a0a38add36bea76ea29ccaf33ae.txt  \n",
            "  inflating: __MACOSX/+_2863_640_640_label_ACCIDENT_DETECTION.v1i.yolov7pytorch/train/labels/._severityV4_65_jpg.rf.640b3a0a38add36bea76ea29ccaf33ae.txt  \n",
            "  inflating: +_2863_640_640_label_ACCIDENT_DETECTION.v1i.yolov7pytorch/train/labels/images-1_jpg.rf.8425baa590df84440db2d1104fdb33bc.txt  \n",
            "  inflating: __MACOSX/+_2863_640_640_label_ACCIDENT_DETECTION.v1i.yolov7pytorch/train/labels/._images-1_jpg.rf.8425baa590df84440db2d1104fdb33bc.txt  \n",
            "  inflating: +_2863_640_640_label_ACCIDENT_DETECTION.v1i.yolov7pytorch/train/labels/Severity_Detect_V14_jpg.rf.6090170a6278b47de3c5ed501041b0f1.txt  \n",
            "  inflating: __MACOSX/+_2863_640_640_label_ACCIDENT_DETECTION.v1i.yolov7pytorch/train/labels/._Severity_Detect_V14_jpg.rf.6090170a6278b47de3c5ed501041b0f1.txt  \n",
            "  inflating: +_2863_640_640_label_ACCIDENT_DETECTION.v1i.yolov7pytorch/train/labels/traffic_img1442_jpg.rf.e068d33bab981cf111afa7abb2f9bccb.txt  \n",
            "  inflating: __MACOSX/+_2863_640_640_label_ACCIDENT_DETECTION.v1i.yolov7pytorch/train/labels/._traffic_img1442_jpg.rf.e068d33bab981cf111afa7abb2f9bccb.txt  \n",
            "  inflating: +_2863_640_640_label_ACCIDENT_DETECTION.v1i.yolov7pytorch/train/labels/severityV3_20_jpeg_jpg.rf.8758231dffe7e2a9117ea067cb9b41f5.txt  \n",
            "  inflating: __MACOSX/+_2863_640_640_label_ACCIDENT_DETECTION.v1i.yolov7pytorch/train/labels/._severityV3_20_jpeg_jpg.rf.8758231dffe7e2a9117ea067cb9b41f5.txt  \n",
            "  inflating: +_2863_640_640_label_ACCIDENT_DETECTION.v1i.yolov7pytorch/train/labels/severityV4_12_jpg.rf.9a76f12beffbcae22241eb56d3aecd32.txt  \n",
            "  inflating: __MACOSX/+_2863_640_640_label_ACCIDENT_DETECTION.v1i.yolov7pytorch/train/labels/._severityV4_12_jpg.rf.9a76f12beffbcae22241eb56d3aecd32.txt  \n",
            "  inflating: +_2863_640_640_label_ACCIDENT_DETECTION.v1i.yolov7pytorch/train/labels/166_jpeg_jpg.rf.8c00e8e542fb1c01b24c2899e83c9aee.txt  \n",
            "  inflating: __MACOSX/+_2863_640_640_label_ACCIDENT_DETECTION.v1i.yolov7pytorch/train/labels/._166_jpeg_jpg.rf.8c00e8e542fb1c01b24c2899e83c9aee.txt  \n",
            "  inflating: +_2863_640_640_label_ACCIDENT_DETECTION.v1i.yolov7pytorch/train/labels/severityV2_32_jpg.rf.cc20e3bec1641e30d6007963ad668e0d.txt  \n",
            "  inflating: __MACOSX/+_2863_640_640_label_ACCIDENT_DETECTION.v1i.yolov7pytorch/train/labels/._severityV2_32_jpg.rf.cc20e3bec1641e30d6007963ad668e0d.txt  \n",
            "  inflating: +_2863_640_640_label_ACCIDENT_DETECTION.v1i.yolov7pytorch/train/labels/severityV3_13_jpeg_jpg.rf.e74b5b372ac8ded8313709db83c26485.txt  \n",
            "  inflating: __MACOSX/+_2863_640_640_label_ACCIDENT_DETECTION.v1i.yolov7pytorch/train/labels/._severityV3_13_jpeg_jpg.rf.e74b5b372ac8ded8313709db83c26485.txt  \n",
            "  inflating: +_2863_640_640_label_ACCIDENT_DETECTION.v1i.yolov7pytorch/train/labels/severV11_jpg.rf.a9de2743f68101d08dd580e21b25adfe.txt  \n",
            "  inflating: __MACOSX/+_2863_640_640_label_ACCIDENT_DETECTION.v1i.yolov7pytorch/train/labels/._severV11_jpg.rf.a9de2743f68101d08dd580e21b25adfe.txt  \n",
            "  inflating: +_2863_640_640_label_ACCIDENT_DETECTION.v1i.yolov7pytorch/train/labels/severityV3_40_jpeg_jpg.rf.56e1e35b7d663a2b0d39a0d9b3830a0b.txt  \n",
            "  inflating: __MACOSX/+_2863_640_640_label_ACCIDENT_DETECTION.v1i.yolov7pytorch/train/labels/._severityV3_40_jpeg_jpg.rf.56e1e35b7d663a2b0d39a0d9b3830a0b.txt  \n",
            "  inflating: +_2863_640_640_label_ACCIDENT_DETECTION.v1i.yolov7pytorch/train/labels/severityV2_34_jpg.rf.4715ff972a4eea46c9b408e163e08c7f.txt  \n",
            "  inflating: __MACOSX/+_2863_640_640_label_ACCIDENT_DETECTION.v1i.yolov7pytorch/train/labels/._severityV2_34_jpg.rf.4715ff972a4eea46c9b408e163e08c7f.txt  \n",
            "  inflating: +_2863_640_640_label_ACCIDENT_DETECTION.v1i.yolov7pytorch/train/labels/14-91_jpg.rf.f6cda6f817b6fc054f069b7fd28803a9.txt  \n",
            "  inflating: __MACOSX/+_2863_640_640_label_ACCIDENT_DETECTION.v1i.yolov7pytorch/train/labels/._14-91_jpg.rf.f6cda6f817b6fc054f069b7fd28803a9.txt  \n",
            "  inflating: +_2863_640_640_label_ACCIDENT_DETECTION.v1i.yolov7pytorch/train/labels/images-14_jpg.rf.b7c8ba6178db2ab0c42f51e396390433.txt  \n",
            "  inflating: __MACOSX/+_2863_640_640_label_ACCIDENT_DETECTION.v1i.yolov7pytorch/train/labels/._images-14_jpg.rf.b7c8ba6178db2ab0c42f51e396390433.txt  \n",
            "  inflating: +_2863_640_640_label_ACCIDENT_DETECTION.v1i.yolov7pytorch/train/labels/images-5_jpg.rf.bdfbcb148410b1e77c2d1d4a133e44ab.txt  \n",
            "  inflating: __MACOSX/+_2863_640_640_label_ACCIDENT_DETECTION.v1i.yolov7pytorch/train/labels/._images-5_jpg.rf.bdfbcb148410b1e77c2d1d4a133e44ab.txt  \n",
            "  inflating: +_2863_640_640_label_ACCIDENT_DETECTION.v1i.yolov7pytorch/train/labels/FLIP_CAR_V136_jpg.rf.af38267712df0aeaf50e26667f55ca33.txt  \n",
            "  inflating: __MACOSX/+_2863_640_640_label_ACCIDENT_DETECTION.v1i.yolov7pytorch/train/labels/._FLIP_CAR_V136_jpg.rf.af38267712df0aeaf50e26667f55ca33.txt  \n",
            "  inflating: +_2863_640_640_label_ACCIDENT_DETECTION.v1i.yolov7pytorch/train/labels/traffic_img58_jpg.rf.a40e5065eb050546dfc1f3fae075846b.txt  \n",
            "  inflating: __MACOSX/+_2863_640_640_label_ACCIDENT_DETECTION.v1i.yolov7pytorch/train/labels/._traffic_img58_jpg.rf.a40e5065eb050546dfc1f3fae075846b.txt  \n",
            "  inflating: +_2863_640_640_label_ACCIDENT_DETECTION.v1i.yolov7pytorch/train/labels/sev10_jpg.rf.1133380453c9275e41387a9560760086.txt  \n",
            "  inflating: __MACOSX/+_2863_640_640_label_ACCIDENT_DETECTION.v1i.yolov7pytorch/train/labels/._sev10_jpg.rf.1133380453c9275e41387a9560760086.txt  \n",
            "  inflating: +_2863_640_640_label_ACCIDENT_DETECTION.v1i.yolov7pytorch/train/labels/FLIP_CAR_V173_jpg.rf.d0fedf7484e0341e948c2578cfd13d4e.txt  \n",
            "  inflating: __MACOSX/+_2863_640_640_label_ACCIDENT_DETECTION.v1i.yolov7pytorch/train/labels/._FLIP_CAR_V173_jpg.rf.d0fedf7484e0341e948c2578cfd13d4e.txt  \n",
            "  inflating: +_2863_640_640_label_ACCIDENT_DETECTION.v1i.yolov7pytorch/train/labels/screen_images7_png_jpg.rf.edc68afe30234f96c0ed53a2464a2d34.txt  \n",
            "  inflating: __MACOSX/+_2863_640_640_label_ACCIDENT_DETECTION.v1i.yolov7pytorch/train/labels/._screen_images7_png_jpg.rf.edc68afe30234f96c0ed53a2464a2d34.txt  \n",
            "  inflating: +_2863_640_640_label_ACCIDENT_DETECTION.v1i.yolov7pytorch/train/labels/severityV2_36_jpg.rf.ed92b271509bb250c64686c7b65cf822.txt  \n",
            "  inflating: __MACOSX/+_2863_640_640_label_ACCIDENT_DETECTION.v1i.yolov7pytorch/train/labels/._severityV2_36_jpg.rf.ed92b271509bb250c64686c7b65cf822.txt  \n",
            "  inflating: +_2863_640_640_label_ACCIDENT_DETECTION.v1i.yolov7pytorch/train/labels/Severity_Detect_V28_jpg.rf.c94e423fcbf99fdf21c56da6ad57bfab.txt  \n",
            "  inflating: __MACOSX/+_2863_640_640_label_ACCIDENT_DETECTION.v1i.yolov7pytorch/train/labels/._Severity_Detect_V28_jpg.rf.c94e423fcbf99fdf21c56da6ad57bfab.txt  \n",
            "  inflating: +_2863_640_640_label_ACCIDENT_DETECTION.v1i.yolov7pytorch/train/labels/images-25_jpg.rf.c375d2dd6f3cc1294093545b88cef2c8.txt  \n",
            "  inflating: __MACOSX/+_2863_640_640_label_ACCIDENT_DETECTION.v1i.yolov7pytorch/train/labels/._images-25_jpg.rf.c375d2dd6f3cc1294093545b88cef2c8.txt  \n",
            "  inflating: +_2863_640_640_label_ACCIDENT_DETECTION.v1i.yolov7pytorch/train/labels/images-2_jpg.rf.f9be272c88b4baafb474a68023cf15d7.txt  \n",
            "  inflating: __MACOSX/+_2863_640_640_label_ACCIDENT_DETECTION.v1i.yolov7pytorch/train/labels/._images-2_jpg.rf.f9be272c88b4baafb474a68023cf15d7.txt  \n",
            "  inflating: +_2863_640_640_label_ACCIDENT_DETECTION.v1i.yolov7pytorch/train/labels/traffic_img22_jpg.rf.d703c69f2f65d3f7596acf6b5252776b.txt  \n",
            "  inflating: __MACOSX/+_2863_640_640_label_ACCIDENT_DETECTION.v1i.yolov7pytorch/train/labels/._traffic_img22_jpg.rf.d703c69f2f65d3f7596acf6b5252776b.txt  \n",
            "  inflating: +_2863_640_640_label_ACCIDENT_DETECTION.v1i.yolov7pytorch/train/labels/traffic_img692_jpg.rf.c03b791bedf984822fed8fd3f0f0006c.txt  \n",
            "  inflating: __MACOSX/+_2863_640_640_label_ACCIDENT_DETECTION.v1i.yolov7pytorch/train/labels/._traffic_img692_jpg.rf.c03b791bedf984822fed8fd3f0f0006c.txt  \n",
            "  inflating: +_2863_640_640_label_ACCIDENT_DETECTION.v1i.yolov7pytorch/train/labels/10-74_jpg.rf.ab0de2d0872ac770c4934b2bab729a67.txt  \n",
            "  inflating: __MACOSX/+_2863_640_640_label_ACCIDENT_DETECTION.v1i.yolov7pytorch/train/labels/._10-74_jpg.rf.ab0de2d0872ac770c4934b2bab729a67.txt  \n",
            "  inflating: +_2863_640_640_label_ACCIDENT_DETECTION.v1i.yolov7pytorch/train/labels/accidentFrame3420_jpg.rf.7e92915bfcb7abbbb964712bbfab557d.txt  \n",
            "  inflating: __MACOSX/+_2863_640_640_label_ACCIDENT_DETECTION.v1i.yolov7pytorch/train/labels/._accidentFrame3420_jpg.rf.7e92915bfcb7abbbb964712bbfab557d.txt  \n",
            "  inflating: +_2863_640_640_label_ACCIDENT_DETECTION.v1i.yolov7pytorch/train/labels/FLIP_CAR_V112_jpg.rf.114888d71f630468c9e4e64a3be27743.txt  \n",
            "  inflating: __MACOSX/+_2863_640_640_label_ACCIDENT_DETECTION.v1i.yolov7pytorch/train/labels/._FLIP_CAR_V112_jpg.rf.114888d71f630468c9e4e64a3be27743.txt  \n",
            "  inflating: +_2863_640_640_label_ACCIDENT_DETECTION.v1i.yolov7pytorch/train/labels/images-6_jpg.rf.64c6d50786a506ea2351b25427ab4dc2.txt  \n",
            "  inflating: __MACOSX/+_2863_640_640_label_ACCIDENT_DETECTION.v1i.yolov7pytorch/train/labels/._images-6_jpg.rf.64c6d50786a506ea2351b25427ab4dc2.txt  \n",
            "  inflating: +_2863_640_640_label_ACCIDENT_DETECTION.v1i.yolov7pytorch/train/labels/images-12_jpg.rf.c4f93ff5b6b367c55aa4360711e10b94.txt  \n",
            "  inflating: __MACOSX/+_2863_640_640_label_ACCIDENT_DETECTION.v1i.yolov7pytorch/train/labels/._images-12_jpg.rf.c4f93ff5b6b367c55aa4360711e10b94.txt  \n",
            " extracting: +_2863_640_640_label_ACCIDENT_DETECTION.v1i.yolov7pytorch/train/labels/traffic_img44_jpg.rf.f8d9eade3669b87ef5fa8980136e4c01.txt  \n",
            "  inflating: __MACOSX/+_2863_640_640_label_ACCIDENT_DETECTION.v1i.yolov7pytorch/train/labels/._traffic_img44_jpg.rf.f8d9eade3669b87ef5fa8980136e4c01.txt  \n",
            "  inflating: +_2863_640_640_label_ACCIDENT_DETECTION.v1i.yolov7pytorch/train/labels/severityV4_68_jpg.rf.9147c068e105ebdd8e6a85e89d70cc43.txt  \n",
            "  inflating: __MACOSX/+_2863_640_640_label_ACCIDENT_DETECTION.v1i.yolov7pytorch/train/labels/._severityV4_68_jpg.rf.9147c068e105ebdd8e6a85e89d70cc43.txt  \n",
            "  inflating: +_2863_640_640_label_ACCIDENT_DETECTION.v1i.yolov7pytorch/train/labels/images_jpg.rf.06b0b58334201ead9c511bd95a4bec82.txt  \n",
            "  inflating: __MACOSX/+_2863_640_640_label_ACCIDENT_DETECTION.v1i.yolov7pytorch/train/labels/._images_jpg.rf.06b0b58334201ead9c511bd95a4bec82.txt  \n",
            "  inflating: +_2863_640_640_label_ACCIDENT_DETECTION.v1i.yolov7pytorch/train/labels/severityV3_30_jpeg_jpg.rf.3280723a1f60ad4ba0c6546da547c846.txt  \n",
            "  inflating: __MACOSX/+_2863_640_640_label_ACCIDENT_DETECTION.v1i.yolov7pytorch/train/labels/._severityV3_30_jpeg_jpg.rf.3280723a1f60ad4ba0c6546da547c846.txt  \n",
            "  inflating: +_2863_640_640_label_ACCIDENT_DETECTION.v1i.yolov7pytorch/train/labels/images-1_jpg.rf.8dcf2cd42ff03f3af837812e6a5d7048.txt  \n",
            "  inflating: __MACOSX/+_2863_640_640_label_ACCIDENT_DETECTION.v1i.yolov7pytorch/train/labels/._images-1_jpg.rf.8dcf2cd42ff03f3af837812e6a5d7048.txt  \n",
            "  inflating: +_2863_640_640_label_ACCIDENT_DETECTION.v1i.yolov7pytorch/train/labels/traffic_img620_jpg.rf.e1e5361a809209865b405fe84ecd1b77.txt  \n",
            "  inflating: __MACOSX/+_2863_640_640_label_ACCIDENT_DETECTION.v1i.yolov7pytorch/train/labels/._traffic_img620_jpg.rf.e1e5361a809209865b405fe84ecd1b77.txt  \n",
            "  inflating: +_2863_640_640_label_ACCIDENT_DETECTION.v1i.yolov7pytorch/train/labels/download-12_jpg.rf.d57496de754f478256c482c9b6a33817.txt  \n",
            "  inflating: __MACOSX/+_2863_640_640_label_ACCIDENT_DETECTION.v1i.yolov7pytorch/train/labels/._download-12_jpg.rf.d57496de754f478256c482c9b6a33817.txt  \n",
            "  inflating: +_2863_640_640_label_ACCIDENT_DETECTION.v1i.yolov7pytorch/train/labels/severityV4_34_jpg.rf.d0a3ebb74feb4bf86d6f3830fc7e3b56.txt  \n",
            "  inflating: __MACOSX/+_2863_640_640_label_ACCIDENT_DETECTION.v1i.yolov7pytorch/train/labels/._severityV4_34_jpg.rf.d0a3ebb74feb4bf86d6f3830fc7e3b56.txt  \n",
            "  inflating: +_2863_640_640_label_ACCIDENT_DETECTION.v1i.yolov7pytorch/train/labels/images-3_jpg.rf.4e3f7499815c28684b55055fe5ba5a0b.txt  \n",
            "  inflating: __MACOSX/+_2863_640_640_label_ACCIDENT_DETECTION.v1i.yolov7pytorch/train/labels/._images-3_jpg.rf.4e3f7499815c28684b55055fe5ba5a0b.txt  \n",
            "  inflating: +_2863_640_640_label_ACCIDENT_DETECTION.v1i.yolov7pytorch/train/labels/clarabartoncrash_jpg.rf.5514b5b6b20f1e5f2cc55d7e657b4a30.txt  \n",
            "  inflating: __MACOSX/+_2863_640_640_label_ACCIDENT_DETECTION.v1i.yolov7pytorch/train/labels/._clarabartoncrash_jpg.rf.5514b5b6b20f1e5f2cc55d7e657b4a30.txt  \n",
            "  inflating: +_2863_640_640_label_ACCIDENT_DETECTION.v1i.yolov7pytorch/train/labels/images-18_jpg.rf.d076f47d59dc2a201fc7339fdaa9d70a.txt  \n",
            "  inflating: __MACOSX/+_2863_640_640_label_ACCIDENT_DETECTION.v1i.yolov7pytorch/train/labels/._images-18_jpg.rf.d076f47d59dc2a201fc7339fdaa9d70a.txt  \n",
            "  inflating: +_2863_640_640_label_ACCIDENT_DETECTION.v1i.yolov7pytorch/train/labels/severity_V129_jpg.rf.f6195acd5b677d6c74563e82cbea4168.txt  \n",
            "  inflating: __MACOSX/+_2863_640_640_label_ACCIDENT_DETECTION.v1i.yolov7pytorch/train/labels/._severity_V129_jpg.rf.f6195acd5b677d6c74563e82cbea4168.txt  \n",
            "  inflating: +_2863_640_640_label_ACCIDENT_DETECTION.v1i.yolov7pytorch/train/labels/severityV3_24_jpeg_jpg.rf.dbd006d0ea811444f611a34190d5dab6.txt  \n",
            "  inflating: __MACOSX/+_2863_640_640_label_ACCIDENT_DETECTION.v1i.yolov7pytorch/train/labels/._severityV3_24_jpeg_jpg.rf.dbd006d0ea811444f611a34190d5dab6.txt  \n",
            "  inflating: +_2863_640_640_label_ACCIDENT_DETECTION.v1i.yolov7pytorch/train/labels/severityV2_13_jpg.rf.b3684f5ec63ea80b510dec33def25cc8.txt  \n",
            "  inflating: __MACOSX/+_2863_640_640_label_ACCIDENT_DETECTION.v1i.yolov7pytorch/train/labels/._severityV2_13_jpg.rf.b3684f5ec63ea80b510dec33def25cc8.txt  \n",
            "  inflating: +_2863_640_640_label_ACCIDENT_DETECTION.v1i.yolov7pytorch/train/labels/severe12_jpeg_jpg.rf.b70cda4831b32ea6fdce510a627297c1.txt  \n",
            "  inflating: __MACOSX/+_2863_640_640_label_ACCIDENT_DETECTION.v1i.yolov7pytorch/train/labels/._severe12_jpeg_jpg.rf.b70cda4831b32ea6fdce510a627297c1.txt  \n",
            "  inflating: +_2863_640_640_label_ACCIDENT_DETECTION.v1i.yolov7pytorch/train/labels/FLIP_CAR_V18_jpg.rf.bc5c60ce9b98284054220370b9eeb05a.txt  \n",
            "  inflating: __MACOSX/+_2863_640_640_label_ACCIDENT_DETECTION.v1i.yolov7pytorch/train/labels/._FLIP_CAR_V18_jpg.rf.bc5c60ce9b98284054220370b9eeb05a.txt  \n",
            "  inflating: +_2863_640_640_label_ACCIDENT_DETECTION.v1i.yolov7pytorch/train/labels/severityV4_90_jpg.rf.837ae9cf1575bd5f7270247214c39da8.txt  \n",
            "  inflating: __MACOSX/+_2863_640_640_label_ACCIDENT_DETECTION.v1i.yolov7pytorch/train/labels/._severityV4_90_jpg.rf.837ae9cf1575bd5f7270247214c39da8.txt  \n",
            "  inflating: +_2863_640_640_label_ACCIDENT_DETECTION.v1i.yolov7pytorch/train/labels/images-10_jpg.rf.c0958af3f98a11f00a5ccd4cde9b64e6.txt  \n",
            "  inflating: __MACOSX/+_2863_640_640_label_ACCIDENT_DETECTION.v1i.yolov7pytorch/train/labels/._images-10_jpg.rf.c0958af3f98a11f00a5ccd4cde9b64e6.txt  \n",
            "  inflating: +_2863_640_640_label_ACCIDENT_DETECTION.v1i.yolov7pytorch/train/labels/1567913504284_jpg.rf.dc43db674480967b5bee3a82cca18595.txt  \n",
            "  inflating: __MACOSX/+_2863_640_640_label_ACCIDENT_DETECTION.v1i.yolov7pytorch/train/labels/._1567913504284_jpg.rf.dc43db674480967b5bee3a82cca18595.txt  \n",
            "  inflating: +_2863_640_640_label_ACCIDENT_DETECTION.v1i.yolov7pytorch/train/labels/Semi-RealisticVD-38_jpg.rf.fd585b86922d67a027eff9b0db5007e6.txt  \n",
            "  inflating: __MACOSX/+_2863_640_640_label_ACCIDENT_DETECTION.v1i.yolov7pytorch/train/labels/._Semi-RealisticVD-38_jpg.rf.fd585b86922d67a027eff9b0db5007e6.txt  \n",
            "  inflating: +_2863_640_640_label_ACCIDENT_DETECTION.v1i.yolov7pytorch/train/labels/images_jpg.rf.ac478296a0b663597428d302ca657884.txt  \n",
            "  inflating: __MACOSX/+_2863_640_640_label_ACCIDENT_DETECTION.v1i.yolov7pytorch/train/labels/._images_jpg.rf.ac478296a0b663597428d302ca657884.txt  \n",
            "  inflating: +_2863_640_640_label_ACCIDENT_DETECTION.v1i.yolov7pytorch/train/labels/images-2_jpg.rf.0ed5596e0de6c606a3e177382f2473ef.txt  \n",
            "  inflating: __MACOSX/+_2863_640_640_label_ACCIDENT_DETECTION.v1i.yolov7pytorch/train/labels/._images-2_jpg.rf.0ed5596e0de6c606a3e177382f2473ef.txt  \n",
            "  inflating: +_2863_640_640_label_ACCIDENT_DETECTION.v1i.yolov7pytorch/train/labels/severityV3_33_jpeg_jpg.rf.dedf5a68ff7f66387aef3b138538654a.txt  \n",
            "  inflating: __MACOSX/+_2863_640_640_label_ACCIDENT_DETECTION.v1i.yolov7pytorch/train/labels/._severityV3_33_jpeg_jpg.rf.dedf5a68ff7f66387aef3b138538654a.txt  \n",
            "  inflating: +_2863_640_640_label_ACCIDENT_DETECTION.v1i.yolov7pytorch/train/labels/images-5_jpg.rf.b59465208d1434b466bb2d4b0b303ff9.txt  \n",
            "  inflating: __MACOSX/+_2863_640_640_label_ACCIDENT_DETECTION.v1i.yolov7pytorch/train/labels/._images-5_jpg.rf.b59465208d1434b466bb2d4b0b303ff9.txt  \n",
            "  inflating: +_2863_640_640_label_ACCIDENT_DETECTION.v1i.yolov7pytorch/train/labels/traffic_img478_jpg.rf.82409177ac0da5a532220550b4cf56ea.txt  \n",
            "  inflating: __MACOSX/+_2863_640_640_label_ACCIDENT_DETECTION.v1i.yolov7pytorch/train/labels/._traffic_img478_jpg.rf.82409177ac0da5a532220550b4cf56ea.txt  \n",
            "  inflating: +_2863_640_640_label_ACCIDENT_DETECTION.v1i.yolov7pytorch/train/labels/severityV4_49_jpg.rf.4326f6b069b33476ed1daddd212063a7.txt  \n",
            "  inflating: __MACOSX/+_2863_640_640_label_ACCIDENT_DETECTION.v1i.yolov7pytorch/train/labels/._severityV4_49_jpg.rf.4326f6b069b33476ed1daddd212063a7.txt  \n",
            "  inflating: +_2863_640_640_label_ACCIDENT_DETECTION.v1i.yolov7pytorch/train/labels/Severity_Detect_V29_jpg.rf.0900f8ee0f11b7317dc6cff99d15d49e.txt  \n",
            "  inflating: __MACOSX/+_2863_640_640_label_ACCIDENT_DETECTION.v1i.yolov7pytorch/train/labels/._Severity_Detect_V29_jpg.rf.0900f8ee0f11b7317dc6cff99d15d49e.txt  \n",
            "  inflating: +_2863_640_640_label_ACCIDENT_DETECTION.v1i.yolov7pytorch/train/labels/traffic_img331_jpg.rf.c7d0ff576b3b13e3b7879bc40695f5a4.txt  \n",
            "  inflating: __MACOSX/+_2863_640_640_label_ACCIDENT_DETECTION.v1i.yolov7pytorch/train/labels/._traffic_img331_jpg.rf.c7d0ff576b3b13e3b7879bc40695f5a4.txt  \n",
            "  inflating: +_2863_640_640_label_ACCIDENT_DETECTION.v1i.yolov7pytorch/train/labels/traffic_img802_jpg.rf.c9480d0b875582efc5b19f9bfad1639b.txt  \n",
            "  inflating: __MACOSX/+_2863_640_640_label_ACCIDENT_DETECTION.v1i.yolov7pytorch/train/labels/._traffic_img802_jpg.rf.c9480d0b875582efc5b19f9bfad1639b.txt  \n",
            "  inflating: +_2863_640_640_label_ACCIDENT_DETECTION.v1i.yolov7pytorch/train/labels/Severity_Detect_V1_jpg.rf.8f5bf911de7dd7bb9d305a17162e1a28.txt  \n",
            "  inflating: __MACOSX/+_2863_640_640_label_ACCIDENT_DETECTION.v1i.yolov7pytorch/train/labels/._Severity_Detect_V1_jpg.rf.8f5bf911de7dd7bb9d305a17162e1a28.txt  \n",
            "  inflating: +_2863_640_640_label_ACCIDENT_DETECTION.v1i.yolov7pytorch/train/labels/accidentFrame2996_jpg.rf.9c891949d496a32bfb0772f54cd1028a.txt  \n",
            "  inflating: __MACOSX/+_2863_640_640_label_ACCIDENT_DETECTION.v1i.yolov7pytorch/train/labels/._accidentFrame2996_jpg.rf.9c891949d496a32bfb0772f54cd1028a.txt  \n",
            "  inflating: +_2863_640_640_label_ACCIDENT_DETECTION.v1i.yolov7pytorch/train/labels/FLIP_CAR_V140_jpg.rf.c4c570fa691ce83f25c3d6f0e9459bf3.txt  \n",
            "  inflating: __MACOSX/+_2863_640_640_label_ACCIDENT_DETECTION.v1i.yolov7pytorch/train/labels/._FLIP_CAR_V140_jpg.rf.c4c570fa691ce83f25c3d6f0e9459bf3.txt  \n",
            "  inflating: +_2863_640_640_label_ACCIDENT_DETECTION.v1i.yolov7pytorch/train/labels/download-9_jpg.rf.8da75254f1ed2b22aa01dab741da9b2e.txt  \n",
            "  inflating: __MACOSX/+_2863_640_640_label_ACCIDENT_DETECTION.v1i.yolov7pytorch/train/labels/._download-9_jpg.rf.8da75254f1ed2b22aa01dab741da9b2e.txt  \n",
            "  inflating: +_2863_640_640_label_ACCIDENT_DETECTION.v1i.yolov7pytorch/train/labels/traffic_img607_jpg.rf.b2e2a9356525ee7dc0332f4bc15c2d31.txt  \n",
            "  inflating: __MACOSX/+_2863_640_640_label_ACCIDENT_DETECTION.v1i.yolov7pytorch/train/labels/._traffic_img607_jpg.rf.b2e2a9356525ee7dc0332f4bc15c2d31.txt  \n",
            "  inflating: +_2863_640_640_label_ACCIDENT_DETECTION.v1i.yolov7pytorch/train/labels/images-2_jpg.rf.81ddf1593ad24dbc0297b8288bb13354.txt  \n",
            "  inflating: __MACOSX/+_2863_640_640_label_ACCIDENT_DETECTION.v1i.yolov7pytorch/train/labels/._images-2_jpg.rf.81ddf1593ad24dbc0297b8288bb13354.txt  \n",
            "  inflating: +_2863_640_640_label_ACCIDENT_DETECTION.v1i.yolov7pytorch/train/labels/images_jpg.rf.dac57b76da93f16c609c818c983e1a8c.txt  \n",
            "  inflating: __MACOSX/+_2863_640_640_label_ACCIDENT_DETECTION.v1i.yolov7pytorch/train/labels/._images_jpg.rf.dac57b76da93f16c609c818c983e1a8c.txt  \n",
            "  inflating: +_2863_640_640_label_ACCIDENT_DETECTION.v1i.yolov7pytorch/train/labels/severityV3_38_jpeg_jpg.rf.e7fa451e8e94b214a158b1577b093a0b.txt  \n",
            "  inflating: __MACOSX/+_2863_640_640_label_ACCIDENT_DETECTION.v1i.yolov7pytorch/train/labels/._severityV3_38_jpeg_jpg.rf.e7fa451e8e94b214a158b1577b093a0b.txt  \n",
            "  inflating: +_2863_640_640_label_ACCIDENT_DETECTION.v1i.yolov7pytorch/train/labels/images-33_jpg.rf.e86b2cf9e7e5135772df1646abb87e80.txt  \n",
            "  inflating: __MACOSX/+_2863_640_640_label_ACCIDENT_DETECTION.v1i.yolov7pytorch/train/labels/._images-33_jpg.rf.e86b2cf9e7e5135772df1646abb87e80.txt  \n",
            "  inflating: +_2863_640_640_label_ACCIDENT_DETECTION.v1i.yolov7pytorch/train/labels/795_jpeg_jpg.rf.f86f867fe320fb5dd6a508aefa818bf3.txt  \n",
            "  inflating: __MACOSX/+_2863_640_640_label_ACCIDENT_DETECTION.v1i.yolov7pytorch/train/labels/._795_jpeg_jpg.rf.f86f867fe320fb5dd6a508aefa818bf3.txt  \n",
            "  inflating: +_2863_640_640_label_ACCIDENT_DETECTION.v1i.yolov7pytorch/train/labels/FLIP_CAR_V143_jpg.rf.5348594bfbb1a1bdc451b704b0076417.txt  \n",
            "  inflating: __MACOSX/+_2863_640_640_label_ACCIDENT_DETECTION.v1i.yolov7pytorch/train/labels/._FLIP_CAR_V143_jpg.rf.5348594bfbb1a1bdc451b704b0076417.txt  \n",
            "  inflating: +_2863_640_640_label_ACCIDENT_DETECTION.v1i.yolov7pytorch/train/labels/images-3_jpg.rf.a26bff38dae609a99dc27228d503549a.txt  \n",
            "  inflating: __MACOSX/+_2863_640_640_label_ACCIDENT_DETECTION.v1i.yolov7pytorch/train/labels/._images-3_jpg.rf.a26bff38dae609a99dc27228d503549a.txt  \n",
            "  inflating: +_2863_640_640_label_ACCIDENT_DETECTION.v1i.yolov7pytorch/train/labels/images-16_jpg.rf.c7e759272b35c0178ced91b5bb015c3c.txt  \n",
            "  inflating: __MACOSX/+_2863_640_640_label_ACCIDENT_DETECTION.v1i.yolov7pytorch/train/labels/._images-16_jpg.rf.c7e759272b35c0178ced91b5bb015c3c.txt  \n",
            "  inflating: +_2863_640_640_label_ACCIDENT_DETECTION.v1i.yolov7pytorch/train/labels/images-15_jpg.rf.7589abc0e33a3b2ec8eb688f972727b4.txt  \n",
            "  inflating: __MACOSX/+_2863_640_640_label_ACCIDENT_DETECTION.v1i.yolov7pytorch/train/labels/._images-15_jpg.rf.7589abc0e33a3b2ec8eb688f972727b4.txt  \n",
            "  inflating: +_2863_640_640_label_ACCIDENT_DETECTION.v1i.yolov7pytorch/train/labels/Severity_Detect_V35_jpg.rf.d54ef7c7f6577f0eed1d91bd6cb95a3d.txt  \n",
            "  inflating: __MACOSX/+_2863_640_640_label_ACCIDENT_DETECTION.v1i.yolov7pytorch/train/labels/._Severity_Detect_V35_jpg.rf.d54ef7c7f6577f0eed1d91bd6cb95a3d.txt  \n",
            "  inflating: +_2863_640_640_label_ACCIDENT_DETECTION.v1i.yolov7pytorch/train/labels/images-2020-08-13T214339-354_jpg.rf.3a99a936aba370a5ccb73ef220023672.txt  \n",
            "  inflating: __MACOSX/+_2863_640_640_label_ACCIDENT_DETECTION.v1i.yolov7pytorch/train/labels/._images-2020-08-13T214339-354_jpg.rf.3a99a936aba370a5ccb73ef220023672.txt  \n",
            "  inflating: +_2863_640_640_label_ACCIDENT_DETECTION.v1i.yolov7pytorch/train/labels/accidentFrame2986_jpg.rf.46cd655e9f2308808f7298929bbff2d2.txt  \n",
            "  inflating: __MACOSX/+_2863_640_640_label_ACCIDENT_DETECTION.v1i.yolov7pytorch/train/labels/._accidentFrame2986_jpg.rf.46cd655e9f2308808f7298929bbff2d2.txt  \n",
            "  inflating: +_2863_640_640_label_ACCIDENT_DETECTION.v1i.yolov7pytorch/train/labels/severityV4_37_jpeg_jpg.rf.b15def623f2a551e206c17829e560a19.txt  \n",
            "  inflating: __MACOSX/+_2863_640_640_label_ACCIDENT_DETECTION.v1i.yolov7pytorch/train/labels/._severityV4_37_jpeg_jpg.rf.b15def623f2a551e206c17829e560a19.txt  \n",
            "  inflating: +_2863_640_640_label_ACCIDENT_DETECTION.v1i.yolov7pytorch/train/labels/1042_jpeg_jpg.rf.cb4e7dbebdd80520ecdf07399e403562.txt  \n",
            "  inflating: __MACOSX/+_2863_640_640_label_ACCIDENT_DETECTION.v1i.yolov7pytorch/train/labels/._1042_jpeg_jpg.rf.cb4e7dbebdd80520ecdf07399e403562.txt  \n",
            "  inflating: +_2863_640_640_label_ACCIDENT_DETECTION.v1i.yolov7pytorch/train/labels/accidentFrame2995_jpg.rf.5b22d3c317a6df4ed81cad99adbb5559.txt  \n",
            "  inflating: __MACOSX/+_2863_640_640_label_ACCIDENT_DETECTION.v1i.yolov7pytorch/train/labels/._accidentFrame2995_jpg.rf.5b22d3c317a6df4ed81cad99adbb5559.txt  \n",
            "  inflating: +_2863_640_640_label_ACCIDENT_DETECTION.v1i.yolov7pytorch/train/labels/severityV4_31_jpg.rf.e34580c4d8c14e120ef912ab136bef51.txt  \n",
            "  inflating: __MACOSX/+_2863_640_640_label_ACCIDENT_DETECTION.v1i.yolov7pytorch/train/labels/._severityV4_31_jpg.rf.e34580c4d8c14e120ef912ab136bef51.txt  \n",
            "  inflating: +_2863_640_640_label_ACCIDENT_DETECTION.v1i.yolov7pytorch/train/labels/14-17_jpg.rf.b704a222f973297a59eb7631f37cd0ca.txt  \n",
            "  inflating: __MACOSX/+_2863_640_640_label_ACCIDENT_DETECTION.v1i.yolov7pytorch/train/labels/._14-17_jpg.rf.b704a222f973297a59eb7631f37cd0ca.txt  \n",
            "  inflating: +_2863_640_640_label_ACCIDENT_DETECTION.v1i.yolov7pytorch/train/labels/download-3_jpg.rf.b3a4bd97b6a569b89345f31c3386a3ae.txt  \n",
            "  inflating: __MACOSX/+_2863_640_640_label_ACCIDENT_DETECTION.v1i.yolov7pytorch/train/labels/._download-3_jpg.rf.b3a4bd97b6a569b89345f31c3386a3ae.txt  \n",
            "  inflating: +_2863_640_640_label_ACCIDENT_DETECTION.v1i.yolov7pytorch/train/labels/accidentFrame3951_jpg.rf.679973670b9d76d34b4f46e74f277388.txt  \n",
            "  inflating: __MACOSX/+_2863_640_640_label_ACCIDENT_DETECTION.v1i.yolov7pytorch/train/labels/._accidentFrame3951_jpg.rf.679973670b9d76d34b4f46e74f277388.txt  \n",
            "  inflating: +_2863_640_640_label_ACCIDENT_DETECTION.v1i.yolov7pytorch/train/labels/severityV4_54_jpg.rf.e4d45484bf9fc433e404e3255ef798db.txt  \n",
            "  inflating: __MACOSX/+_2863_640_640_label_ACCIDENT_DETECTION.v1i.yolov7pytorch/train/labels/._severityV4_54_jpg.rf.e4d45484bf9fc433e404e3255ef798db.txt  \n",
            "  inflating: +_2863_640_640_label_ACCIDENT_DETECTION.v1i.yolov7pytorch/train/labels/FLIP_CAR_V150_jpg.rf.e0545a38e6e57ad8ae6390954d47252b.txt  \n",
            "  inflating: __MACOSX/+_2863_640_640_label_ACCIDENT_DETECTION.v1i.yolov7pytorch/train/labels/._FLIP_CAR_V150_jpg.rf.e0545a38e6e57ad8ae6390954d47252b.txt  \n",
            "  inflating: +_2863_640_640_label_ACCIDENT_DETECTION.v1i.yolov7pytorch/train/labels/images-31_jpg.rf.68f8ccadce2ba4541a5dce6b28680823.txt  \n",
            "  inflating: __MACOSX/+_2863_640_640_label_ACCIDENT_DETECTION.v1i.yolov7pytorch/train/labels/._images-31_jpg.rf.68f8ccadce2ba4541a5dce6b28680823.txt  \n",
            "  inflating: +_2863_640_640_label_ACCIDENT_DETECTION.v1i.yolov7pytorch/train/labels/Severity_Detect_V18_jpg.rf.d65517e835e9a9ebf4d0a1499fde2e03.txt  \n",
            "  inflating: __MACOSX/+_2863_640_640_label_ACCIDENT_DETECTION.v1i.yolov7pytorch/train/labels/._Severity_Detect_V18_jpg.rf.d65517e835e9a9ebf4d0a1499fde2e03.txt  \n",
            "  inflating: +_2863_640_640_label_ACCIDENT_DETECTION.v1i.yolov7pytorch/train/labels/sever3_jpg.rf.0535f22dbfdfd7ef352fc5e6d4dab8ba.txt  \n",
            "  inflating: __MACOSX/+_2863_640_640_label_ACCIDENT_DETECTION.v1i.yolov7pytorch/train/labels/._sever3_jpg.rf.0535f22dbfdfd7ef352fc5e6d4dab8ba.txt  \n",
            "  inflating: +_2863_640_640_label_ACCIDENT_DETECTION.v1i.yolov7pytorch/train/labels/FLIP_CAR_V110_jpg.rf.d23750886b0780759e60083bccb6e5e7.txt  \n",
            "  inflating: __MACOSX/+_2863_640_640_label_ACCIDENT_DETECTION.v1i.yolov7pytorch/train/labels/._FLIP_CAR_V110_jpg.rf.d23750886b0780759e60083bccb6e5e7.txt  \n",
            "  inflating: +_2863_640_640_label_ACCIDENT_DETECTION.v1i.yolov7pytorch/train/labels/images-4_jpg.rf.8085c1a497209c232e2f27ffb5ea9dba.txt  \n",
            "  inflating: __MACOSX/+_2863_640_640_label_ACCIDENT_DETECTION.v1i.yolov7pytorch/train/labels/._images-4_jpg.rf.8085c1a497209c232e2f27ffb5ea9dba.txt  \n",
            "  inflating: +_2863_640_640_label_ACCIDENT_DETECTION.v1i.yolov7pytorch/train/labels/traffic_img988_jpg.rf.fcf3df152fd895c41e34ced5d7927176.txt  \n",
            "  inflating: __MACOSX/+_2863_640_640_label_ACCIDENT_DETECTION.v1i.yolov7pytorch/train/labels/._traffic_img988_jpg.rf.fcf3df152fd895c41e34ced5d7927176.txt  \n",
            "  inflating: +_2863_640_640_label_ACCIDENT_DETECTION.v1i.yolov7pytorch/train/labels/FLIP_CAR_V158_jpg.rf.a8ed94258702c3b8013800c5b2accee9.txt  \n",
            "  inflating: __MACOSX/+_2863_640_640_label_ACCIDENT_DETECTION.v1i.yolov7pytorch/train/labels/._FLIP_CAR_V158_jpg.rf.a8ed94258702c3b8013800c5b2accee9.txt  \n",
            "  inflating: +_2863_640_640_label_ACCIDENT_DETECTION.v1i.yolov7pytorch/train/labels/images_jpg.rf.4a40c8478da4976848107d0bdd1ed583.txt  \n",
            "  inflating: __MACOSX/+_2863_640_640_label_ACCIDENT_DETECTION.v1i.yolov7pytorch/train/labels/._images_jpg.rf.4a40c8478da4976848107d0bdd1ed583.txt  \n",
            "  inflating: +_2863_640_640_label_ACCIDENT_DETECTION.v1i.yolov7pytorch/train/labels/images-15_jpg.rf.f44d39cee0a0ac35333412cc8ac9c8aa.txt  \n",
            "  inflating: __MACOSX/+_2863_640_640_label_ACCIDENT_DETECTION.v1i.yolov7pytorch/train/labels/._images-15_jpg.rf.f44d39cee0a0ac35333412cc8ac9c8aa.txt  \n",
            "  inflating: +_2863_640_640_label_ACCIDENT_DETECTION.v1i.yolov7pytorch/train/labels/images-23_jpg.rf.07ff3534ed312e364e00024d2c48e70e.txt  \n",
            "  inflating: __MACOSX/+_2863_640_640_label_ACCIDENT_DETECTION.v1i.yolov7pytorch/train/labels/._images-23_jpg.rf.07ff3534ed312e364e00024d2c48e70e.txt  \n",
            "  inflating: +_2863_640_640_label_ACCIDENT_DETECTION.v1i.yolov7pytorch/train/labels/severityV4_19_jpg.rf.17909849e7bca964a21e5e7506d1bbdb.txt  \n",
            "  inflating: __MACOSX/+_2863_640_640_label_ACCIDENT_DETECTION.v1i.yolov7pytorch/train/labels/._severityV4_19_jpg.rf.17909849e7bca964a21e5e7506d1bbdb.txt  \n",
            "  inflating: +_2863_640_640_label_ACCIDENT_DETECTION.v1i.yolov7pytorch/train/labels/severityV3_21_jpeg_jpg.rf.a554ceda8885f6bdd2aadaab8defee2c.txt  \n",
            "  inflating: __MACOSX/+_2863_640_640_label_ACCIDENT_DETECTION.v1i.yolov7pytorch/train/labels/._severityV3_21_jpeg_jpg.rf.a554ceda8885f6bdd2aadaab8defee2c.txt  \n",
            "  inflating: +_2863_640_640_label_ACCIDENT_DETECTION.v1i.yolov7pytorch/train/labels/803_jpeg_jpg.rf.c5347ac586b2054c9c64851f48e5c588.txt  \n",
            "  inflating: __MACOSX/+_2863_640_640_label_ACCIDENT_DETECTION.v1i.yolov7pytorch/train/labels/._803_jpeg_jpg.rf.c5347ac586b2054c9c64851f48e5c588.txt  \n",
            "  inflating: +_2863_640_640_label_ACCIDENT_DETECTION.v1i.yolov7pytorch/train/labels/images_jpg.rf.54d61eee5a9e30dcec1b009177a000af.txt  \n",
            "  inflating: __MACOSX/+_2863_640_640_label_ACCIDENT_DETECTION.v1i.yolov7pytorch/train/labels/._images_jpg.rf.54d61eee5a9e30dcec1b009177a000af.txt  \n",
            "  inflating: +_2863_640_640_label_ACCIDENT_DETECTION.v1i.yolov7pytorch/train/labels/severityV2_20_jpg.rf.bdaa42e0655da411e794de0190d523dd.txt  \n",
            "  inflating: __MACOSX/+_2863_640_640_label_ACCIDENT_DETECTION.v1i.yolov7pytorch/train/labels/._severityV2_20_jpg.rf.bdaa42e0655da411e794de0190d523dd.txt  \n",
            "  inflating: +_2863_640_640_label_ACCIDENT_DETECTION.v1i.yolov7pytorch/train/labels/traffic_img1225_jpg.rf.d54bfbe147822c7c73ca4c968f0ab776.txt  \n",
            "  inflating: __MACOSX/+_2863_640_640_label_ACCIDENT_DETECTION.v1i.yolov7pytorch/train/labels/._traffic_img1225_jpg.rf.d54bfbe147822c7c73ca4c968f0ab776.txt  \n",
            "  inflating: +_2863_640_640_label_ACCIDENT_DETECTION.v1i.yolov7pytorch/train/labels/severityV4_5_jpg.rf.e5116ef4bf72f3668287dc21b4e1870c.txt  \n",
            "  inflating: __MACOSX/+_2863_640_640_label_ACCIDENT_DETECTION.v1i.yolov7pytorch/train/labels/._severityV4_5_jpg.rf.e5116ef4bf72f3668287dc21b4e1870c.txt  \n",
            "  inflating: +_2863_640_640_label_ACCIDENT_DETECTION.v1i.yolov7pytorch/train/labels/severV15_jpg.rf.f94a9badace0a8431b820eb9a8219aeb.txt  \n",
            "  inflating: __MACOSX/+_2863_640_640_label_ACCIDENT_DETECTION.v1i.yolov7pytorch/train/labels/._severV15_jpg.rf.f94a9badace0a8431b820eb9a8219aeb.txt  \n",
            "  inflating: +_2863_640_640_label_ACCIDENT_DETECTION.v1i.yolov7pytorch/train/labels/Semi-RealisticVD-176_jpg.rf.f485133a7dd641e8a14183d7a703e6e1.txt  \n",
            "  inflating: __MACOSX/+_2863_640_640_label_ACCIDENT_DETECTION.v1i.yolov7pytorch/train/labels/._Semi-RealisticVD-176_jpg.rf.f485133a7dd641e8a14183d7a703e6e1.txt  \n",
            "  inflating: +_2863_640_640_label_ACCIDENT_DETECTION.v1i.yolov7pytorch/train/labels/images-21_jpg.rf.bfc0df5e0a19d033f575f74c6114860c.txt  \n",
            "  inflating: __MACOSX/+_2863_640_640_label_ACCIDENT_DETECTION.v1i.yolov7pytorch/train/labels/._images-21_jpg.rf.bfc0df5e0a19d033f575f74c6114860c.txt  \n",
            "  inflating: +_2863_640_640_label_ACCIDENT_DETECTION.v1i.yolov7pytorch/train/labels/download-6_jpg.rf.142d9f7f8815d293a2899f23bee52f0d.txt  \n",
            "  inflating: __MACOSX/+_2863_640_640_label_ACCIDENT_DETECTION.v1i.yolov7pytorch/train/labels/._download-6_jpg.rf.142d9f7f8815d293a2899f23bee52f0d.txt  \n",
            "  inflating: +_2863_640_640_label_ACCIDENT_DETECTION.v1i.yolov7pytorch/train/labels/traffic_img118_jpg.rf.e639ab1deb8e5b97a07230f10b4618c6.txt  \n",
            "  inflating: __MACOSX/+_2863_640_640_label_ACCIDENT_DETECTION.v1i.yolov7pytorch/train/labels/._traffic_img118_jpg.rf.e639ab1deb8e5b97a07230f10b4618c6.txt  \n",
            "  inflating: +_2863_640_640_label_ACCIDENT_DETECTION.v1i.yolov7pytorch/train/labels/severityV4_56_jpg.rf.bd0fc5dfacd3de1577914b84ee5dc3ce.txt  \n",
            "  inflating: __MACOSX/+_2863_640_640_label_ACCIDENT_DETECTION.v1i.yolov7pytorch/train/labels/._severityV4_56_jpg.rf.bd0fc5dfacd3de1577914b84ee5dc3ce.txt  \n",
            "  inflating: +_2863_640_640_label_ACCIDENT_DETECTION.v1i.yolov7pytorch/train/labels/images-23_jpg.rf.d26ad96ca45c02cd974c20fb87be5e42.txt  \n",
            "  inflating: __MACOSX/+_2863_640_640_label_ACCIDENT_DETECTION.v1i.yolov7pytorch/train/labels/._images-23_jpg.rf.d26ad96ca45c02cd974c20fb87be5e42.txt  \n",
            "  inflating: +_2863_640_640_label_ACCIDENT_DETECTION.v1i.yolov7pytorch/train/labels/909_jpeg_jpg.rf.a4c8f091f6174231611676bca5c5c949.txt  \n",
            "  inflating: __MACOSX/+_2863_640_640_label_ACCIDENT_DETECTION.v1i.yolov7pytorch/train/labels/._909_jpeg_jpg.rf.a4c8f091f6174231611676bca5c5c949.txt  \n",
            "  inflating: +_2863_640_640_label_ACCIDENT_DETECTION.v1i.yolov7pytorch/train/labels/severityV2_35_jpg.rf.c25dbd759ccba743fd1fe23d622cb68b.txt  \n",
            "  inflating: __MACOSX/+_2863_640_640_label_ACCIDENT_DETECTION.v1i.yolov7pytorch/train/labels/._severityV2_35_jpg.rf.c25dbd759ccba743fd1fe23d622cb68b.txt  \n",
            "  inflating: +_2863_640_640_label_ACCIDENT_DETECTION.v1i.yolov7pytorch/train/labels/FLIP_CAR_V19_jpg.rf.ced26fe7674765534d2ef93ef9a221f9.txt  \n",
            "  inflating: __MACOSX/+_2863_640_640_label_ACCIDENT_DETECTION.v1i.yolov7pytorch/train/labels/._FLIP_CAR_V19_jpg.rf.ced26fe7674765534d2ef93ef9a221f9.txt  \n",
            "  inflating: +_2863_640_640_label_ACCIDENT_DETECTION.v1i.yolov7pytorch/train/labels/severityV4_93_jpg.rf.f4dc2ad254d0dfb14bc8b8b199218686.txt  \n",
            "  inflating: __MACOSX/+_2863_640_640_label_ACCIDENT_DETECTION.v1i.yolov7pytorch/train/labels/._severityV4_93_jpg.rf.f4dc2ad254d0dfb14bc8b8b199218686.txt  \n",
            "  inflating: +_2863_640_640_label_ACCIDENT_DETECTION.v1i.yolov7pytorch/train/labels/traffic_img1854_jpg.rf.b4473cf9d049916dc6d00ce34067423e.txt  \n",
            "  inflating: __MACOSX/+_2863_640_640_label_ACCIDENT_DETECTION.v1i.yolov7pytorch/train/labels/._traffic_img1854_jpg.rf.b4473cf9d049916dc6d00ce34067423e.txt  \n",
            "  inflating: +_2863_640_640_label_ACCIDENT_DETECTION.v1i.yolov7pytorch/train/labels/images-2_jpg.rf.96b79ff9d9f3b279d3892d1401085239.txt  \n",
            "  inflating: __MACOSX/+_2863_640_640_label_ACCIDENT_DETECTION.v1i.yolov7pytorch/train/labels/._images-2_jpg.rf.96b79ff9d9f3b279d3892d1401085239.txt  \n",
            "  inflating: +_2863_640_640_label_ACCIDENT_DETECTION.v1i.yolov7pytorch/train/labels/images-8_jpg.rf.5c1c3b88f5b37a6da9495a38f435a999.txt  \n",
            "  inflating: __MACOSX/+_2863_640_640_label_ACCIDENT_DETECTION.v1i.yolov7pytorch/train/labels/._images-8_jpg.rf.5c1c3b88f5b37a6da9495a38f435a999.txt  \n",
            "  inflating: +_2863_640_640_label_ACCIDENT_DETECTION.v1i.yolov7pytorch/train/labels/Severity_Detect_V11_jpg.rf.7611b3dd0f32761fa3c0d3d4eaf0ce93.txt  \n",
            "  inflating: __MACOSX/+_2863_640_640_label_ACCIDENT_DETECTION.v1i.yolov7pytorch/train/labels/._Severity_Detect_V11_jpg.rf.7611b3dd0f32761fa3c0d3d4eaf0ce93.txt  \n",
            "  inflating: +_2863_640_640_label_ACCIDENT_DETECTION.v1i.yolov7pytorch/train/labels/accidentFrame2984_jpg.rf.fc7774e7eb68b0e321b5b0764e5b8956.txt  \n",
            "  inflating: __MACOSX/+_2863_640_640_label_ACCIDENT_DETECTION.v1i.yolov7pytorch/train/labels/._accidentFrame2984_jpg.rf.fc7774e7eb68b0e321b5b0764e5b8956.txt  \n",
            "  inflating: +_2863_640_640_label_ACCIDENT_DETECTION.v1i.yolov7pytorch/train/labels/download-4_jpg.rf.ad55c5455c2b5b2e360b792b3c1a63fa.txt  \n",
            "  inflating: __MACOSX/+_2863_640_640_label_ACCIDENT_DETECTION.v1i.yolov7pytorch/train/labels/._download-4_jpg.rf.ad55c5455c2b5b2e360b792b3c1a63fa.txt  \n",
            "  inflating: +_2863_640_640_label_ACCIDENT_DETECTION.v1i.yolov7pytorch/train/labels/accidentFrame3648_jpg.rf.180b0b59d180cb610b5ab12a46c27f37.txt  \n",
            "  inflating: __MACOSX/+_2863_640_640_label_ACCIDENT_DETECTION.v1i.yolov7pytorch/train/labels/._accidentFrame3648_jpg.rf.180b0b59d180cb610b5ab12a46c27f37.txt  \n",
            "  inflating: +_2863_640_640_label_ACCIDENT_DETECTION.v1i.yolov7pytorch/train/labels/sev4_jpg.rf.21d2aa00dadad441bbf22b77c396ac99.txt  \n",
            "  inflating: __MACOSX/+_2863_640_640_label_ACCIDENT_DETECTION.v1i.yolov7pytorch/train/labels/._sev4_jpg.rf.21d2aa00dadad441bbf22b77c396ac99.txt  \n",
            "  inflating: +_2863_640_640_label_ACCIDENT_DETECTION.v1i.yolov7pytorch/train/labels/Severity_Detect_V23_jpg.rf.493208bde1bef061379da24f57311934.txt  \n",
            "  inflating: __MACOSX/+_2863_640_640_label_ACCIDENT_DETECTION.v1i.yolov7pytorch/train/labels/._Severity_Detect_V23_jpg.rf.493208bde1bef061379da24f57311934.txt  \n",
            "  inflating: +_2863_640_640_label_ACCIDENT_DETECTION.v1i.yolov7pytorch/train/labels/images-4_jpg.rf.da67c212961728ad9c6d0bc51225a78d.txt  \n",
            "  inflating: __MACOSX/+_2863_640_640_label_ACCIDENT_DETECTION.v1i.yolov7pytorch/train/labels/._images-4_jpg.rf.da67c212961728ad9c6d0bc51225a78d.txt  \n",
            "  inflating: +_2863_640_640_label_ACCIDENT_DETECTION.v1i.yolov7pytorch/train/labels/accidentFrame3425_jpg.rf.551cdb1aadfefe76b8770e0e6ede20cd.txt  \n",
            "  inflating: __MACOSX/+_2863_640_640_label_ACCIDENT_DETECTION.v1i.yolov7pytorch/train/labels/._accidentFrame3425_jpg.rf.551cdb1aadfefe76b8770e0e6ede20cd.txt  \n",
            "  inflating: +_2863_640_640_label_ACCIDENT_DETECTION.v1i.yolov7pytorch/train/labels/Semi-RealisticVD-181_jpg.rf.e2b6cc23012718967ccece9c29fbc312.txt  \n",
            "  inflating: __MACOSX/+_2863_640_640_label_ACCIDENT_DETECTION.v1i.yolov7pytorch/train/labels/._Semi-RealisticVD-181_jpg.rf.e2b6cc23012718967ccece9c29fbc312.txt  \n",
            "  inflating: +_2863_640_640_label_ACCIDENT_DETECTION.v1i.yolov7pytorch/train/labels/images-12_jpg.rf.82b4c5deced939153e1f95e5a4b1aa59.txt  \n",
            "  inflating: __MACOSX/+_2863_640_640_label_ACCIDENT_DETECTION.v1i.yolov7pytorch/train/labels/._images-12_jpg.rf.82b4c5deced939153e1f95e5a4b1aa59.txt  \n",
            "  inflating: +_2863_640_640_label_ACCIDENT_DETECTION.v1i.yolov7pytorch/train/labels/2-16_jpg.rf.f5327dad9fa650ee2e316201f77ed031.txt  \n",
            "  inflating: __MACOSX/+_2863_640_640_label_ACCIDENT_DETECTION.v1i.yolov7pytorch/train/labels/._2-16_jpg.rf.f5327dad9fa650ee2e316201f77ed031.txt  \n",
            "  inflating: +_2863_640_640_label_ACCIDENT_DETECTION.v1i.yolov7pytorch/train/labels/traffic_img14_jpg.rf.1772c4028126ad5ebf7eba7e5b58ba8a.txt  \n",
            "  inflating: __MACOSX/+_2863_640_640_label_ACCIDENT_DETECTION.v1i.yolov7pytorch/train/labels/._traffic_img14_jpg.rf.1772c4028126ad5ebf7eba7e5b58ba8a.txt  \n",
            "  inflating: +_2863_640_640_label_ACCIDENT_DETECTION.v1i.yolov7pytorch/train/labels/severityV3_25_jpeg_jpg.rf.343ed2f2f70063fbb2d6ae68202f85b8.txt  \n",
            "  inflating: __MACOSX/+_2863_640_640_label_ACCIDENT_DETECTION.v1i.yolov7pytorch/train/labels/._severityV3_25_jpeg_jpg.rf.343ed2f2f70063fbb2d6ae68202f85b8.txt  \n",
            "  inflating: +_2863_640_640_label_ACCIDENT_DETECTION.v1i.yolov7pytorch/train/labels/severityV4_24_jpg.rf.ff00bdbedf138396918fedcbb8ffa70a.txt  \n",
            "  inflating: __MACOSX/+_2863_640_640_label_ACCIDENT_DETECTION.v1i.yolov7pytorch/train/labels/._severityV4_24_jpg.rf.ff00bdbedf138396918fedcbb8ffa70a.txt  \n",
            "  inflating: +_2863_640_640_label_ACCIDENT_DETECTION.v1i.yolov7pytorch/train/labels/severityV3_2_jpeg_jpg.rf.b91e9128984b0705c649558422f2dc33.txt  \n",
            "  inflating: __MACOSX/+_2863_640_640_label_ACCIDENT_DETECTION.v1i.yolov7pytorch/train/labels/._severityV3_2_jpeg_jpg.rf.b91e9128984b0705c649558422f2dc33.txt  \n",
            "  inflating: +_2863_640_640_label_ACCIDENT_DETECTION.v1i.yolov7pytorch/train/labels/Semi-RealisticVD-224_jpg.rf.acdaf8a7a679174994a58f1e2e1c60c6.txt  \n",
            "  inflating: __MACOSX/+_2863_640_640_label_ACCIDENT_DETECTION.v1i.yolov7pytorch/train/labels/._Semi-RealisticVD-224_jpg.rf.acdaf8a7a679174994a58f1e2e1c60c6.txt  \n",
            "  inflating: +_2863_640_640_label_ACCIDENT_DETECTION.v1i.yolov7pytorch/train/labels/severityV3_12_jpeg_jpg.rf.ce098091e71516e3039b05e388829361.txt  \n",
            "  inflating: __MACOSX/+_2863_640_640_label_ACCIDENT_DETECTION.v1i.yolov7pytorch/train/labels/._severityV3_12_jpeg_jpg.rf.ce098091e71516e3039b05e388829361.txt  \n",
            "  inflating: +_2863_640_640_label_ACCIDENT_DETECTION.v1i.yolov7pytorch/train/labels/FLIP_CAR_V128_jpg.rf.fc8f18bd275761e40ff13ca4e9f23c88.txt  \n",
            "  inflating: __MACOSX/+_2863_640_640_label_ACCIDENT_DETECTION.v1i.yolov7pytorch/train/labels/._FLIP_CAR_V128_jpg.rf.fc8f18bd275761e40ff13ca4e9f23c88.txt  \n",
            "  inflating: +_2863_640_640_label_ACCIDENT_DETECTION.v1i.yolov7pytorch/train/labels/severity_V124_jpg.rf.d1e7bb1bfc0e40e9d06a09c63eeb15fe.txt  \n",
            "  inflating: __MACOSX/+_2863_640_640_label_ACCIDENT_DETECTION.v1i.yolov7pytorch/train/labels/._severity_V124_jpg.rf.d1e7bb1bfc0e40e9d06a09c63eeb15fe.txt  \n",
            "  inflating: +_2863_640_640_label_ACCIDENT_DETECTION.v1i.yolov7pytorch/train/labels/images-13_jpg.rf.b9aac692714e16cac283ae9958dc2e21.txt  \n",
            "  inflating: __MACOSX/+_2863_640_640_label_ACCIDENT_DETECTION.v1i.yolov7pytorch/train/labels/._images-13_jpg.rf.b9aac692714e16cac283ae9958dc2e21.txt  \n",
            "  inflating: +_2863_640_640_label_ACCIDENT_DETECTION.v1i.yolov7pytorch/train/labels/severity_V140_jpg.rf.eb0efd77ba29709faefeabd71aa2e33d.txt  \n",
            "  inflating: __MACOSX/+_2863_640_640_label_ACCIDENT_DETECTION.v1i.yolov7pytorch/train/labels/._severity_V140_jpg.rf.eb0efd77ba29709faefeabd71aa2e33d.txt  \n",
            "  inflating: +_2863_640_640_label_ACCIDENT_DETECTION.v1i.yolov7pytorch/train/labels/1-17_jpg.rf.c356120aeb5957bb815c049c8cec2f01.txt  \n",
            "  inflating: __MACOSX/+_2863_640_640_label_ACCIDENT_DETECTION.v1i.yolov7pytorch/train/labels/._1-17_jpg.rf.c356120aeb5957bb815c049c8cec2f01.txt  \n",
            "  inflating: +_2863_640_640_label_ACCIDENT_DETECTION.v1i.yolov7pytorch/train/labels/images-2_jpg.rf.2a10fd966114b458002b0564dc9819cd.txt  \n",
            "  inflating: __MACOSX/+_2863_640_640_label_ACCIDENT_DETECTION.v1i.yolov7pytorch/train/labels/._images-2_jpg.rf.2a10fd966114b458002b0564dc9819cd.txt  \n",
            "  inflating: +_2863_640_640_label_ACCIDENT_DETECTION.v1i.yolov7pytorch/train/labels/images-18_jpg.rf.56e6de23b128048b66571ad1bb10f006.txt  \n",
            "  inflating: __MACOSX/+_2863_640_640_label_ACCIDENT_DETECTION.v1i.yolov7pytorch/train/labels/._images-18_jpg.rf.56e6de23b128048b66571ad1bb10f006.txt  \n",
            "  inflating: +_2863_640_640_label_ACCIDENT_DETECTION.v1i.yolov7pytorch/train/labels/FLIP_CAR_V119_jpg.rf.bde207f92db5ae8df7cc190dea62affb.txt  \n",
            "  inflating: __MACOSX/+_2863_640_640_label_ACCIDENT_DETECTION.v1i.yolov7pytorch/train/labels/._FLIP_CAR_V119_jpg.rf.bde207f92db5ae8df7cc190dea62affb.txt  \n",
            "  inflating: +_2863_640_640_label_ACCIDENT_DETECTION.v1i.yolov7pytorch/train/labels/traffic_img55_jpg.rf.a68289855ea209dfd3f92ab642f9311f.txt  \n",
            "  inflating: __MACOSX/+_2863_640_640_label_ACCIDENT_DETECTION.v1i.yolov7pytorch/train/labels/._traffic_img55_jpg.rf.a68289855ea209dfd3f92ab642f9311f.txt  \n",
            "  inflating: +_2863_640_640_label_ACCIDENT_DETECTION.v1i.yolov7pytorch/train/labels/traffic_img879_jpg.rf.dca86750a98fc9ed3fe537ebd28384ff.txt  \n",
            "  inflating: __MACOSX/+_2863_640_640_label_ACCIDENT_DETECTION.v1i.yolov7pytorch/train/labels/._traffic_img879_jpg.rf.dca86750a98fc9ed3fe537ebd28384ff.txt  \n",
            "  inflating: +_2863_640_640_label_ACCIDENT_DETECTION.v1i.yolov7pytorch/train/labels/FLIP_CAR_V111_jpg.rf.f210143c3fc72f5d400a9d75e2fa17d1.txt  \n",
            "  inflating: __MACOSX/+_2863_640_640_label_ACCIDENT_DETECTION.v1i.yolov7pytorch/train/labels/._FLIP_CAR_V111_jpg.rf.f210143c3fc72f5d400a9d75e2fa17d1.txt  \n",
            "  inflating: +_2863_640_640_label_ACCIDENT_DETECTION.v1i.yolov7pytorch/train/labels/images-6_jpg.rf.172edc3c40868d29509dd307ef5a01e1.txt  \n",
            "  inflating: __MACOSX/+_2863_640_640_label_ACCIDENT_DETECTION.v1i.yolov7pytorch/train/labels/._images-6_jpg.rf.172edc3c40868d29509dd307ef5a01e1.txt  \n",
            "  inflating: +_2863_640_640_label_ACCIDENT_DETECTION.v1i.yolov7pytorch/train/labels/severity_V121_jpg.rf.e977c2ec0ae9aec26cd0b031dd1daf33.txt  \n",
            "  inflating: __MACOSX/+_2863_640_640_label_ACCIDENT_DETECTION.v1i.yolov7pytorch/train/labels/._severity_V121_jpg.rf.e977c2ec0ae9aec26cd0b031dd1daf33.txt  \n",
            "  inflating: +_2863_640_640_label_ACCIDENT_DETECTION.v1i.yolov7pytorch/train/labels/traffic_img703_jpg.rf.d336fca90e8b1bf35ecf502ac5d90bf8.txt  \n",
            "  inflating: __MACOSX/+_2863_640_640_label_ACCIDENT_DETECTION.v1i.yolov7pytorch/train/labels/._traffic_img703_jpg.rf.d336fca90e8b1bf35ecf502ac5d90bf8.txt  \n",
            "  inflating: +_2863_640_640_label_ACCIDENT_DETECTION.v1i.yolov7pytorch/train/labels/severityV3_16_jpeg_jpg.rf.ecfaeabb929344a6f5208bf8049e14cd.txt  \n",
            "  inflating: __MACOSX/+_2863_640_640_label_ACCIDENT_DETECTION.v1i.yolov7pytorch/train/labels/._severityV3_16_jpeg_jpg.rf.ecfaeabb929344a6f5208bf8049e14cd.txt  \n",
            "  inflating: +_2863_640_640_label_ACCIDENT_DETECTION.v1i.yolov7pytorch/train/labels/images-1_jpg.rf.83f0f0a9e6574503c6bf14e9d524c11d.txt  \n",
            "  inflating: __MACOSX/+_2863_640_640_label_ACCIDENT_DETECTION.v1i.yolov7pytorch/train/labels/._images-1_jpg.rf.83f0f0a9e6574503c6bf14e9d524c11d.txt  \n",
            "  inflating: +_2863_640_640_label_ACCIDENT_DETECTION.v1i.yolov7pytorch/train/labels/download-2_jpg.rf.10902f0b6b7491c8be31fbc49070c8f7.txt  \n",
            "  inflating: __MACOSX/+_2863_640_640_label_ACCIDENT_DETECTION.v1i.yolov7pytorch/train/labels/._download-2_jpg.rf.10902f0b6b7491c8be31fbc49070c8f7.txt  \n",
            "  inflating: +_2863_640_640_label_ACCIDENT_DETECTION.v1i.yolov7pytorch/train/labels/images-2020-08-13T213922-238_jpg.rf.755b7d0f19a1f389133886cbb6191c1e.txt  \n",
            "  inflating: __MACOSX/+_2863_640_640_label_ACCIDENT_DETECTION.v1i.yolov7pytorch/train/labels/._images-2020-08-13T213922-238_jpg.rf.755b7d0f19a1f389133886cbb6191c1e.txt  \n",
            "  inflating: +_2863_640_640_label_ACCIDENT_DETECTION.v1i.yolov7pytorch/train/labels/severityV4_16_jpg.rf.fdfb0d925343875221875066b4e9f7df.txt  \n",
            "  inflating: __MACOSX/+_2863_640_640_label_ACCIDENT_DETECTION.v1i.yolov7pytorch/train/labels/._severityV4_16_jpg.rf.fdfb0d925343875221875066b4e9f7df.txt  \n",
            "  inflating: +_2863_640_640_label_ACCIDENT_DETECTION.v1i.yolov7pytorch/train/labels/severe14_jpeg_jpg.rf.809e5081964d5381812f5c9368a3e799.txt  \n",
            "  inflating: __MACOSX/+_2863_640_640_label_ACCIDENT_DETECTION.v1i.yolov7pytorch/train/labels/._severe14_jpeg_jpg.rf.809e5081964d5381812f5c9368a3e799.txt  \n",
            "  inflating: +_2863_640_640_label_ACCIDENT_DETECTION.v1i.yolov7pytorch/train/labels/B398337C-A51B-4978-AD2D-1D4C577226D7-e1648925924652_jpg.rf.cc9e683bc032c49083bdcaf14f888af7.txt  \n",
            "  inflating: __MACOSX/+_2863_640_640_label_ACCIDENT_DETECTION.v1i.yolov7pytorch/train/labels/._B398337C-A51B-4978-AD2D-1D4C577226D7-e1648925924652_jpg.rf.cc9e683bc032c49083bdcaf14f888af7.txt  \n",
            "  inflating: +_2863_640_640_label_ACCIDENT_DETECTION.v1i.yolov7pytorch/train/labels/811_jpeg_jpg.rf.c45a59743a55f32dfa80bce366725da5.txt  \n",
            "  inflating: __MACOSX/+_2863_640_640_label_ACCIDENT_DETECTION.v1i.yolov7pytorch/train/labels/._811_jpeg_jpg.rf.c45a59743a55f32dfa80bce366725da5.txt  \n",
            "  inflating: +_2863_640_640_label_ACCIDENT_DETECTION.v1i.yolov7pytorch/train/labels/images-5_jpg.rf.2cd8140db53b497bd058a4d32a1550ac.txt  \n",
            "  inflating: __MACOSX/+_2863_640_640_label_ACCIDENT_DETECTION.v1i.yolov7pytorch/train/labels/._images-5_jpg.rf.2cd8140db53b497bd058a4d32a1550ac.txt  \n",
            "  inflating: +_2863_640_640_label_ACCIDENT_DETECTION.v1i.yolov7pytorch/train/labels/traffic_img780_jpg.rf.e6ef14998bc1d7818eb68efadfc27bb5.txt  \n",
            "  inflating: __MACOSX/+_2863_640_640_label_ACCIDENT_DETECTION.v1i.yolov7pytorch/train/labels/._traffic_img780_jpg.rf.e6ef14998bc1d7818eb68efadfc27bb5.txt  \n",
            "  inflating: +_2863_640_640_label_ACCIDENT_DETECTION.v1i.yolov7pytorch/train/labels/traffic_img1672_jpg.rf.104c3efe5e182258280223e4b7b426a2.txt  \n",
            "  inflating: __MACOSX/+_2863_640_640_label_ACCIDENT_DETECTION.v1i.yolov7pytorch/train/labels/._traffic_img1672_jpg.rf.104c3efe5e182258280223e4b7b426a2.txt  \n",
            "  inflating: +_2863_640_640_label_ACCIDENT_DETECTION.v1i.yolov7pytorch/train/labels/severityV4_63_jpg.rf.b35bf2e069e5f56441861e8417fc43cb.txt  \n",
            "  inflating: __MACOSX/+_2863_640_640_label_ACCIDENT_DETECTION.v1i.yolov7pytorch/train/labels/._severityV4_63_jpg.rf.b35bf2e069e5f56441861e8417fc43cb.txt  \n",
            "  inflating: +_2863_640_640_label_ACCIDENT_DETECTION.v1i.yolov7pytorch/train/labels/traffic_img1390_jpg.rf.e61e43417f01cb6141066d164061e76c.txt  \n",
            "  inflating: __MACOSX/+_2863_640_640_label_ACCIDENT_DETECTION.v1i.yolov7pytorch/train/labels/._traffic_img1390_jpg.rf.e61e43417f01cb6141066d164061e76c.txt  \n",
            "  inflating: +_2863_640_640_label_ACCIDENT_DETECTION.v1i.yolov7pytorch/train/labels/severityV3_23_jpeg_jpg.rf.162c5675f914e5d17d89df900f3ef9c0.txt  \n",
            "  inflating: __MACOSX/+_2863_640_640_label_ACCIDENT_DETECTION.v1i.yolov7pytorch/train/labels/._severityV3_23_jpeg_jpg.rf.162c5675f914e5d17d89df900f3ef9c0.txt  \n",
            "  inflating: +_2863_640_640_label_ACCIDENT_DETECTION.v1i.yolov7pytorch/train/labels/severity_V13_jpg.rf.f80e1df381e668fe1b7c7cc4a3fdae67.txt  \n",
            "  inflating: __MACOSX/+_2863_640_640_label_ACCIDENT_DETECTION.v1i.yolov7pytorch/train/labels/._severity_V13_jpg.rf.f80e1df381e668fe1b7c7cc4a3fdae67.txt  \n",
            "  inflating: +_2863_640_640_label_ACCIDENT_DETECTION.v1i.yolov7pytorch/train/labels/FLIP_CAR_V115_jpg.rf.78cf6c1c775e6f222fdc58e815841fcb.txt  \n",
            "  inflating: __MACOSX/+_2863_640_640_label_ACCIDENT_DETECTION.v1i.yolov7pytorch/train/labels/._FLIP_CAR_V115_jpg.rf.78cf6c1c775e6f222fdc58e815841fcb.txt  \n",
            "  inflating: +_2863_640_640_label_ACCIDENT_DETECTION.v1i.yolov7pytorch/train/labels/images-27_jpg.rf.b2b04d0cf54c7edd4588adbc42a860c7.txt  \n",
            "  inflating: __MACOSX/+_2863_640_640_label_ACCIDENT_DETECTION.v1i.yolov7pytorch/train/labels/._images-27_jpg.rf.b2b04d0cf54c7edd4588adbc42a860c7.txt  \n",
            "  inflating: +_2863_640_640_label_ACCIDENT_DETECTION.v1i.yolov7pytorch/train/labels/images-2_jpg.rf.5df3f87627be9ec86c31bcdb748bd381.txt  \n",
            "  inflating: __MACOSX/+_2863_640_640_label_ACCIDENT_DETECTION.v1i.yolov7pytorch/train/labels/._images-2_jpg.rf.5df3f87627be9ec86c31bcdb748bd381.txt  \n",
            "  inflating: +_2863_640_640_label_ACCIDENT_DETECTION.v1i.yolov7pytorch/train/labels/download-7_jpg.rf.94c86fa0ce472fe6ff8af89cd87d2f84.txt  \n",
            "  inflating: __MACOSX/+_2863_640_640_label_ACCIDENT_DETECTION.v1i.yolov7pytorch/train/labels/._download-7_jpg.rf.94c86fa0ce472fe6ff8af89cd87d2f84.txt  \n",
            "  inflating: +_2863_640_640_label_ACCIDENT_DETECTION.v1i.yolov7pytorch/train/labels/images-1_jpg.rf.428282e4d190eaefbd81b715708773f2.txt  \n",
            "  inflating: __MACOSX/+_2863_640_640_label_ACCIDENT_DETECTION.v1i.yolov7pytorch/train/labels/._images-1_jpg.rf.428282e4d190eaefbd81b715708773f2.txt  \n",
            "  inflating: +_2863_640_640_label_ACCIDENT_DETECTION.v1i.yolov7pytorch/train/labels/825_jpeg_jpg.rf.f8a5c2011ecd771c1f09e1c0d3b2cd59.txt  \n",
            "  inflating: __MACOSX/+_2863_640_640_label_ACCIDENT_DETECTION.v1i.yolov7pytorch/train/labels/._825_jpeg_jpg.rf.f8a5c2011ecd771c1f09e1c0d3b2cd59.txt  \n",
            "  inflating: +_2863_640_640_label_ACCIDENT_DETECTION.v1i.yolov7pytorch/train/labels/severityV4_76_jpg.rf.fa4476270527e032b5af5315f08ec54b.txt  \n",
            "  inflating: __MACOSX/+_2863_640_640_label_ACCIDENT_DETECTION.v1i.yolov7pytorch/train/labels/._severityV4_76_jpg.rf.fa4476270527e032b5af5315f08ec54b.txt  \n",
            "  inflating: +_2863_640_640_label_ACCIDENT_DETECTION.v1i.yolov7pytorch/train/labels/1-99_jpg.rf.f03cd2ad0efec65409a2e7b04d157d0d.txt  \n",
            "  inflating: __MACOSX/+_2863_640_640_label_ACCIDENT_DETECTION.v1i.yolov7pytorch/train/labels/._1-99_jpg.rf.f03cd2ad0efec65409a2e7b04d157d0d.txt  \n",
            "  inflating: +_2863_640_640_label_ACCIDENT_DETECTION.v1i.yolov7pytorch/train/labels/severityV4_87_jpg.rf.8879f804da562c32e375a9144fb1475e.txt  \n",
            "  inflating: __MACOSX/+_2863_640_640_label_ACCIDENT_DETECTION.v1i.yolov7pytorch/train/labels/._severityV4_87_jpg.rf.8879f804da562c32e375a9144fb1475e.txt  \n",
            "  inflating: +_2863_640_640_label_ACCIDENT_DETECTION.v1i.yolov7pytorch/train/labels/traffic_img283_jpg.rf.e6d8c18ebd43675bfb000e5e894f87a8.txt  \n",
            "  inflating: __MACOSX/+_2863_640_640_label_ACCIDENT_DETECTION.v1i.yolov7pytorch/train/labels/._traffic_img283_jpg.rf.e6d8c18ebd43675bfb000e5e894f87a8.txt  \n",
            "  inflating: +_2863_640_640_label_ACCIDENT_DETECTION.v1i.yolov7pytorch/train/labels/severityV4_51_jpg.rf.fcf7bfa69c38777f9b62ed2f65daddf7.txt  \n",
            "  inflating: __MACOSX/+_2863_640_640_label_ACCIDENT_DETECTION.v1i.yolov7pytorch/train/labels/._severityV4_51_jpg.rf.fcf7bfa69c38777f9b62ed2f65daddf7.txt  \n",
            "  inflating: +_2863_640_640_label_ACCIDENT_DETECTION.v1i.yolov7pytorch/train/labels/Semi-RealisticVD-11_jpg.rf.b71572468df2219f89f3f07a2dc46913.txt  \n",
            "  inflating: __MACOSX/+_2863_640_640_label_ACCIDENT_DETECTION.v1i.yolov7pytorch/train/labels/._Semi-RealisticVD-11_jpg.rf.b71572468df2219f89f3f07a2dc46913.txt  \n",
            "  inflating: +_2863_640_640_label_ACCIDENT_DETECTION.v1i.yolov7pytorch/train/labels/severityV4_14_jpg.rf.4189c19f69d3f5010c56cea7ddb330c8.txt  \n",
            "  inflating: __MACOSX/+_2863_640_640_label_ACCIDENT_DETECTION.v1i.yolov7pytorch/train/labels/._severityV4_14_jpg.rf.4189c19f69d3f5010c56cea7ddb330c8.txt  \n",
            "  inflating: +_2863_640_640_label_ACCIDENT_DETECTION.v1i.yolov7pytorch/train/labels/severityV2_7_jpg.rf.caea8cf82bf20584318ec5f926896bda.txt  \n",
            "  inflating: __MACOSX/+_2863_640_640_label_ACCIDENT_DETECTION.v1i.yolov7pytorch/train/labels/._severityV2_7_jpg.rf.caea8cf82bf20584318ec5f926896bda.txt  \n",
            "  inflating: +_2863_640_640_label_ACCIDENT_DETECTION.v1i.yolov7pytorch/train/labels/accidentFrame128_jpg.rf.b6c40195c45e3d8fa4af090eda4666e2.txt  \n",
            "  inflating: __MACOSX/+_2863_640_640_label_ACCIDENT_DETECTION.v1i.yolov7pytorch/train/labels/._accidentFrame128_jpg.rf.b6c40195c45e3d8fa4af090eda4666e2.txt  \n",
            "  inflating: +_2863_640_640_label_ACCIDENT_DETECTION.v1i.yolov7pytorch/train/labels/severe11_jpeg_jpg.rf.e2868758eaaea77626e0cc5f740ca3ed.txt  \n",
            "  inflating: __MACOSX/+_2863_640_640_label_ACCIDENT_DETECTION.v1i.yolov7pytorch/train/labels/._severe11_jpeg_jpg.rf.e2868758eaaea77626e0cc5f740ca3ed.txt  \n",
            "  inflating: +_2863_640_640_label_ACCIDENT_DETECTION.v1i.yolov7pytorch/train/labels/severityV3_27_jpeg_jpg.rf.fdc674f2cbf63f9e6c663deff24ede10.txt  \n",
            "  inflating: __MACOSX/+_2863_640_640_label_ACCIDENT_DETECTION.v1i.yolov7pytorch/train/labels/._severityV3_27_jpeg_jpg.rf.fdc674f2cbf63f9e6c663deff24ede10.txt  \n",
            "  inflating: +_2863_640_640_label_ACCIDENT_DETECTION.v1i.yolov7pytorch/train/labels/traffic_img1436_jpg.rf.fe050c22807b6b638b116ff8046d3b6a.txt  \n",
            "  inflating: __MACOSX/+_2863_640_640_label_ACCIDENT_DETECTION.v1i.yolov7pytorch/train/labels/._traffic_img1436_jpg.rf.fe050c22807b6b638b116ff8046d3b6a.txt  \n",
            "  inflating: +_2863_640_640_label_ACCIDENT_DETECTION.v1i.yolov7pytorch/train/labels/images-1_jpg.rf.1a09a07cf7ca93456ef03e5f835ef574.txt  \n",
            "  inflating: __MACOSX/+_2863_640_640_label_ACCIDENT_DETECTION.v1i.yolov7pytorch/train/labels/._images-1_jpg.rf.1a09a07cf7ca93456ef03e5f835ef574.txt  \n",
            "  inflating: +_2863_640_640_label_ACCIDENT_DETECTION.v1i.yolov7pytorch/train/labels/download-1_jpg.rf.c81b3657429ae7c14063b809ca9e0957.txt  \n",
            "  inflating: __MACOSX/+_2863_640_640_label_ACCIDENT_DETECTION.v1i.yolov7pytorch/train/labels/._download-1_jpg.rf.c81b3657429ae7c14063b809ca9e0957.txt  \n",
            "  inflating: +_2863_640_640_label_ACCIDENT_DETECTION.v1i.yolov7pytorch/train/labels/download-2_jpg.rf.029e60fd04f6e465aad26c1cfe6eb11c.txt  \n",
            "  inflating: __MACOSX/+_2863_640_640_label_ACCIDENT_DETECTION.v1i.yolov7pytorch/train/labels/._download-2_jpg.rf.029e60fd04f6e465aad26c1cfe6eb11c.txt  \n",
            "  inflating: +_2863_640_640_label_ACCIDENT_DETECTION.v1i.yolov7pytorch/train/labels/FLIP_CAR_V125_jpg.rf.e2ca81efa7f0288c11919e839f2fc4ad.txt  \n",
            "  inflating: __MACOSX/+_2863_640_640_label_ACCIDENT_DETECTION.v1i.yolov7pytorch/train/labels/._FLIP_CAR_V125_jpg.rf.e2ca81efa7f0288c11919e839f2fc4ad.txt  \n",
            "  inflating: +_2863_640_640_label_ACCIDENT_DETECTION.v1i.yolov7pytorch/train/labels/14-169_jpg.rf.c9cd5daf55daf4fa487dd2eaf4b52ac7.txt  \n",
            "  inflating: __MACOSX/+_2863_640_640_label_ACCIDENT_DETECTION.v1i.yolov7pytorch/train/labels/._14-169_jpg.rf.c9cd5daf55daf4fa487dd2eaf4b52ac7.txt  \n",
            "  inflating: +_2863_640_640_label_ACCIDENT_DETECTION.v1i.yolov7pytorch/train/labels/severityV3_1_jpeg_jpg.rf.f4402e7c17090b89c7366aa5cfb3af12.txt  \n",
            "  inflating: __MACOSX/+_2863_640_640_label_ACCIDENT_DETECTION.v1i.yolov7pytorch/train/labels/._severityV3_1_jpeg_jpg.rf.f4402e7c17090b89c7366aa5cfb3af12.txt  \n",
            "  inflating: +_2863_640_640_label_ACCIDENT_DETECTION.v1i.yolov7pytorch/train/labels/images-2_jpg.rf.033c45f1fd655266122f7bacfada36ff.txt  \n",
            "  inflating: __MACOSX/+_2863_640_640_label_ACCIDENT_DETECTION.v1i.yolov7pytorch/train/labels/._images-2_jpg.rf.033c45f1fd655266122f7bacfada36ff.txt  \n",
            "  inflating: +_2863_640_640_label_ACCIDENT_DETECTION.v1i.yolov7pytorch/train/labels/severity_V141_jpg.rf.d3c73fa7064226bfe57ce9a8a5dc5348.txt  \n",
            "  inflating: __MACOSX/+_2863_640_640_label_ACCIDENT_DETECTION.v1i.yolov7pytorch/train/labels/._severity_V141_jpg.rf.d3c73fa7064226bfe57ce9a8a5dc5348.txt  \n",
            "  inflating: +_2863_640_640_label_ACCIDENT_DETECTION.v1i.yolov7pytorch/train/labels/traffic_img932_jpg.rf.f6fe522d4188bc4f520a1435f996e42a.txt  \n",
            "  inflating: __MACOSX/+_2863_640_640_label_ACCIDENT_DETECTION.v1i.yolov7pytorch/train/labels/._traffic_img932_jpg.rf.f6fe522d4188bc4f520a1435f996e42a.txt  \n",
            "  inflating: +_2863_640_640_label_ACCIDENT_DETECTION.v1i.yolov7pytorch/train/labels/sever7_jpg.rf.b31ad468b51e6e66ea1e84bee5e89148.txt  \n",
            "  inflating: __MACOSX/+_2863_640_640_label_ACCIDENT_DETECTION.v1i.yolov7pytorch/train/labels/._sever7_jpg.rf.b31ad468b51e6e66ea1e84bee5e89148.txt  \n",
            "  inflating: +_2863_640_640_label_ACCIDENT_DETECTION.v1i.yolov7pytorch/train/labels/images_jpg.rf.6c42a3909ea35bb8c440e078e9613c5f.txt  \n",
            "  inflating: __MACOSX/+_2863_640_640_label_ACCIDENT_DETECTION.v1i.yolov7pytorch/train/labels/._images_jpg.rf.6c42a3909ea35bb8c440e078e9613c5f.txt  \n",
            "  inflating: +_2863_640_640_label_ACCIDENT_DETECTION.v1i.yolov7pytorch/train/labels/severityV3_26_jpeg_jpg.rf.d71ff8af86b638bb9322deb0e7525d62.txt  \n",
            "  inflating: __MACOSX/+_2863_640_640_label_ACCIDENT_DETECTION.v1i.yolov7pytorch/train/labels/._severityV3_26_jpeg_jpg.rf.d71ff8af86b638bb9322deb0e7525d62.txt  \n",
            "  inflating: +_2863_640_640_label_ACCIDENT_DETECTION.v1i.yolov7pytorch/train/labels/severityV3_10_jpeg_jpg.rf.d83ef9c14298455e86abd02e59262939.txt  \n",
            "  inflating: __MACOSX/+_2863_640_640_label_ACCIDENT_DETECTION.v1i.yolov7pytorch/train/labels/._severityV3_10_jpeg_jpg.rf.d83ef9c14298455e86abd02e59262939.txt  \n",
            "  inflating: +_2863_640_640_label_ACCIDENT_DETECTION.v1i.yolov7pytorch/train/labels/traffic_img16_jpg.rf.27605db0593fe2904f8cf63c14905f5e.txt  \n",
            "  inflating: __MACOSX/+_2863_640_640_label_ACCIDENT_DETECTION.v1i.yolov7pytorch/train/labels/._traffic_img16_jpg.rf.27605db0593fe2904f8cf63c14905f5e.txt  \n",
            "  inflating: +_2863_640_640_label_ACCIDENT_DETECTION.v1i.yolov7pytorch/train/labels/new_SD3_jpg.rf.df88b2107ceb4a6eae7bca28b7587c51.txt  \n",
            "  inflating: __MACOSX/+_2863_640_640_label_ACCIDENT_DETECTION.v1i.yolov7pytorch/train/labels/._new_SD3_jpg.rf.df88b2107ceb4a6eae7bca28b7587c51.txt  \n",
            "  inflating: +_2863_640_640_label_ACCIDENT_DETECTION.v1i.yolov7pytorch/train/labels/severity_V127_jpg.rf.a58f19ba542dc4e73e5c8ba6285b0bf4.txt  \n",
            "  inflating: __MACOSX/+_2863_640_640_label_ACCIDENT_DETECTION.v1i.yolov7pytorch/train/labels/._severity_V127_jpg.rf.a58f19ba542dc4e73e5c8ba6285b0bf4.txt  \n",
            "  inflating: +_2863_640_640_label_ACCIDENT_DETECTION.v1i.yolov7pytorch/train/labels/images-3_jpg.rf.7c6853a109b266c76a28c45a41dc7b6a.txt  \n",
            "  inflating: __MACOSX/+_2863_640_640_label_ACCIDENT_DETECTION.v1i.yolov7pytorch/train/labels/._images-3_jpg.rf.7c6853a109b266c76a28c45a41dc7b6a.txt  \n",
            "  inflating: +_2863_640_640_label_ACCIDENT_DETECTION.v1i.yolov7pytorch/train/labels/images-40_jpg.rf.d74e69234c0466b369ce1c20b20f46c9.txt  \n",
            "  inflating: __MACOSX/+_2863_640_640_label_ACCIDENT_DETECTION.v1i.yolov7pytorch/train/labels/._images-40_jpg.rf.d74e69234c0466b369ce1c20b20f46c9.txt  \n",
            "  inflating: +_2863_640_640_label_ACCIDENT_DETECTION.v1i.yolov7pytorch/train/labels/1030_jpeg_jpg.rf.df5a478ff811920f53a43110deaa35a6.txt  \n",
            "  inflating: __MACOSX/+_2863_640_640_label_ACCIDENT_DETECTION.v1i.yolov7pytorch/train/labels/._1030_jpeg_jpg.rf.df5a478ff811920f53a43110deaa35a6.txt  \n",
            "  inflating: +_2863_640_640_label_ACCIDENT_DETECTION.v1i.yolov7pytorch/train/labels/Semi-RealisticVD-148_jpg.rf.17a05437110673c5442cbc0f79ad5061.txt  \n",
            "  inflating: __MACOSX/+_2863_640_640_label_ACCIDENT_DETECTION.v1i.yolov7pytorch/train/labels/._Semi-RealisticVD-148_jpg.rf.17a05437110673c5442cbc0f79ad5061.txt  \n",
            "  inflating: +_2863_640_640_label_ACCIDENT_DETECTION.v1i.yolov7pytorch/train/labels/traffic_img943_jpg.rf.810f0ef8540e3c9caad92c70fea97a52.txt  \n",
            "  inflating: __MACOSX/+_2863_640_640_label_ACCIDENT_DETECTION.v1i.yolov7pytorch/train/labels/._traffic_img943_jpg.rf.810f0ef8540e3c9caad92c70fea97a52.txt  \n",
            "  inflating: +_2863_640_640_label_ACCIDENT_DETECTION.v1i.yolov7pytorch/train/labels/severityV4_58_jpg.rf.fe5d3dbe3b245acb76ccc91ef68f06fd.txt  \n",
            "  inflating: __MACOSX/+_2863_640_640_label_ACCIDENT_DETECTION.v1i.yolov7pytorch/train/labels/._severityV4_58_jpg.rf.fe5d3dbe3b245acb76ccc91ef68f06fd.txt  \n",
            "  inflating: +_2863_640_640_label_ACCIDENT_DETECTION.v1i.yolov7pytorch/train/labels/18-103_jpg.rf.fd38c5ac0c16f46119b26bb3c934b928.txt  \n",
            "  inflating: __MACOSX/+_2863_640_640_label_ACCIDENT_DETECTION.v1i.yolov7pytorch/train/labels/._18-103_jpg.rf.fd38c5ac0c16f46119b26bb3c934b928.txt  \n",
            "  inflating: +_2863_640_640_label_ACCIDENT_DETECTION.v1i.yolov7pytorch/train/labels/traffic_img1346_jpg.rf.861bda1543b3d83773e3e0850ee674dc.txt  \n",
            "  inflating: __MACOSX/+_2863_640_640_label_ACCIDENT_DETECTION.v1i.yolov7pytorch/train/labels/._traffic_img1346_jpg.rf.861bda1543b3d83773e3e0850ee674dc.txt  \n",
            "  inflating: +_2863_640_640_label_ACCIDENT_DETECTION.v1i.yolov7pytorch/train/labels/Severity_Detect_V33_jpg.rf.e9c678d0709455ab5dee3ce3198ebef6.txt  \n",
            "  inflating: __MACOSX/+_2863_640_640_label_ACCIDENT_DETECTION.v1i.yolov7pytorch/train/labels/._Severity_Detect_V33_jpg.rf.e9c678d0709455ab5dee3ce3198ebef6.txt  \n",
            "  inflating: +_2863_640_640_label_ACCIDENT_DETECTION.v1i.yolov7pytorch/train/labels/Semi-RealisticVD-139_jpg.rf.f4aacca074d9d6304b28d9265c222bc0.txt  \n",
            "  inflating: __MACOSX/+_2863_640_640_label_ACCIDENT_DETECTION.v1i.yolov7pytorch/train/labels/._Semi-RealisticVD-139_jpg.rf.f4aacca074d9d6304b28d9265c222bc0.txt  \n",
            "  inflating: +_2863_640_640_label_ACCIDENT_DETECTION.v1i.yolov7pytorch/train/labels/download-5_jpg.rf.f7092b5a7af4e13b2041dd5dffe3d941.txt  \n",
            "  inflating: __MACOSX/+_2863_640_640_label_ACCIDENT_DETECTION.v1i.yolov7pytorch/train/labels/._download-5_jpg.rf.f7092b5a7af4e13b2041dd5dffe3d941.txt  \n",
            "  inflating: +_2863_640_640_label_ACCIDENT_DETECTION.v1i.yolov7pytorch/train/labels/traffic_img1349_jpg.rf.a1f325f53e0fc35879a8c33963b22876.txt  \n",
            "  inflating: __MACOSX/+_2863_640_640_label_ACCIDENT_DETECTION.v1i.yolov7pytorch/train/labels/._traffic_img1349_jpg.rf.a1f325f53e0fc35879a8c33963b22876.txt  \n",
            "  inflating: +_2863_640_640_label_ACCIDENT_DETECTION.v1i.yolov7pytorch/train/labels/download_jpg.rf.33e20d371477b17a0994343b8084becc.txt  \n",
            "  inflating: __MACOSX/+_2863_640_640_label_ACCIDENT_DETECTION.v1i.yolov7pytorch/train/labels/._download_jpg.rf.33e20d371477b17a0994343b8084becc.txt  \n",
            "  inflating: +_2863_640_640_label_ACCIDENT_DETECTION.v1i.yolov7pytorch/train/labels/traffic_img688_jpg.rf.459754e97826cb6ab27d2ce092e2748d.txt  \n",
            "  inflating: __MACOSX/+_2863_640_640_label_ACCIDENT_DETECTION.v1i.yolov7pytorch/train/labels/._traffic_img688_jpg.rf.459754e97826cb6ab27d2ce092e2748d.txt  \n",
            "  inflating: +_2863_640_640_label_ACCIDENT_DETECTION.v1i.yolov7pytorch/train/labels/severityV4_17_jpg.rf.fec8fad6c2b02f205a1c18d3f3c4f2b6.txt  \n",
            "  inflating: __MACOSX/+_2863_640_640_label_ACCIDENT_DETECTION.v1i.yolov7pytorch/train/labels/._severityV4_17_jpg.rf.fec8fad6c2b02f205a1c18d3f3c4f2b6.txt  \n",
            "  inflating: +_2863_640_640_label_ACCIDENT_DETECTION.v1i.yolov7pytorch/train/labels/traffic_img1565_jpg.rf.bfcea35ae2a25a6ca28853262fdcc64d.txt  \n",
            "  inflating: __MACOSX/+_2863_640_640_label_ACCIDENT_DETECTION.v1i.yolov7pytorch/train/labels/._traffic_img1565_jpg.rf.bfcea35ae2a25a6ca28853262fdcc64d.txt  \n",
            "  inflating: +_2863_640_640_label_ACCIDENT_DETECTION.v1i.yolov7pytorch/train/labels/1110_jpeg_jpg.rf.ade2865f52d23c1c3a621267ab9342a9.txt  \n",
            "  inflating: __MACOSX/+_2863_640_640_label_ACCIDENT_DETECTION.v1i.yolov7pytorch/train/labels/._1110_jpeg_jpg.rf.ade2865f52d23c1c3a621267ab9342a9.txt  \n",
            "  inflating: +_2863_640_640_label_ACCIDENT_DETECTION.v1i.yolov7pytorch/train/labels/traffic_img292_jpg.rf.dc0a7910702540776e0dacb9e8d4b1c0.txt  \n",
            "  inflating: __MACOSX/+_2863_640_640_label_ACCIDENT_DETECTION.v1i.yolov7pytorch/train/labels/._traffic_img292_jpg.rf.dc0a7910702540776e0dacb9e8d4b1c0.txt  \n",
            "  inflating: +_2863_640_640_label_ACCIDENT_DETECTION.v1i.yolov7pytorch/train/labels/images_jpg.rf.2052fac46ee7abedc64ef8bd50750c94.txt  \n",
            "  inflating: __MACOSX/+_2863_640_640_label_ACCIDENT_DETECTION.v1i.yolov7pytorch/train/labels/._images_jpg.rf.2052fac46ee7abedc64ef8bd50750c94.txt  \n",
            "  inflating: +_2863_640_640_label_ACCIDENT_DETECTION.v1i.yolov7pytorch/train/labels/severityV4_66_jpg.rf.d766322b9ea3c1a2ff30ad7e732a2dfb.txt  \n",
            "  inflating: __MACOSX/+_2863_640_640_label_ACCIDENT_DETECTION.v1i.yolov7pytorch/train/labels/._severityV4_66_jpg.rf.d766322b9ea3c1a2ff30ad7e732a2dfb.txt  \n",
            "  inflating: +_2863_640_640_label_ACCIDENT_DETECTION.v1i.yolov7pytorch/train/labels/download-2_jpg.rf.bc9896d37464f84bd669910183354170.txt  \n",
            "  inflating: __MACOSX/+_2863_640_640_label_ACCIDENT_DETECTION.v1i.yolov7pytorch/train/labels/._download-2_jpg.rf.bc9896d37464f84bd669910183354170.txt  \n",
            "  inflating: +_2863_640_640_label_ACCIDENT_DETECTION.v1i.yolov7pytorch/train/labels/accidentFrame3012_jpg.rf.2a476529f3f28c657b7d6082e4880aa9.txt  \n",
            "  inflating: __MACOSX/+_2863_640_640_label_ACCIDENT_DETECTION.v1i.yolov7pytorch/train/labels/._accidentFrame3012_jpg.rf.2a476529f3f28c657b7d6082e4880aa9.txt  \n",
            "  inflating: +_2863_640_640_label_ACCIDENT_DETECTION.v1i.yolov7pytorch/train/labels/buy4_jpg.rf.acb5f6f37b3d58e2b749eb7e9cd06b62.txt  \n",
            "  inflating: __MACOSX/+_2863_640_640_label_ACCIDENT_DETECTION.v1i.yolov7pytorch/train/labels/._buy4_jpg.rf.acb5f6f37b3d58e2b749eb7e9cd06b62.txt  \n",
            "  inflating: +_2863_640_640_label_ACCIDENT_DETECTION.v1i.yolov7pytorch/train/labels/Semi-RealisticVD-55_jpg.rf.d7f3628b7d77f77fa6448bcc2e54b5cb.txt  \n",
            "  inflating: __MACOSX/+_2863_640_640_label_ACCIDENT_DETECTION.v1i.yolov7pytorch/train/labels/._Semi-RealisticVD-55_jpg.rf.d7f3628b7d77f77fa6448bcc2e54b5cb.txt  \n",
            "  inflating: +_2863_640_640_label_ACCIDENT_DETECTION.v1i.yolov7pytorch/train/labels/sev9_jpg.rf.f3963f17bdf5b3e13b3b755a89779127.txt  \n",
            "  inflating: __MACOSX/+_2863_640_640_label_ACCIDENT_DETECTION.v1i.yolov7pytorch/train/labels/._sev9_jpg.rf.f3963f17bdf5b3e13b3b755a89779127.txt  \n",
            "  inflating: +_2863_640_640_label_ACCIDENT_DETECTION.v1i.yolov7pytorch/train/labels/4-7_jpg.rf.1768ef9f2a0d0e9824d088a9e53d0510.txt  \n",
            "  inflating: __MACOSX/+_2863_640_640_label_ACCIDENT_DETECTION.v1i.yolov7pytorch/train/labels/._4-7_jpg.rf.1768ef9f2a0d0e9824d088a9e53d0510.txt  \n",
            "  inflating: +_2863_640_640_label_ACCIDENT_DETECTION.v1i.yolov7pytorch/train/labels/traffic_img1441_jpg.rf.283a62254724f88531995349c1ecb08a.txt  \n",
            "  inflating: __MACOSX/+_2863_640_640_label_ACCIDENT_DETECTION.v1i.yolov7pytorch/train/labels/._traffic_img1441_jpg.rf.283a62254724f88531995349c1ecb08a.txt  \n",
            "  inflating: +_2863_640_640_label_ACCIDENT_DETECTION.v1i.yolov7pytorch/train/labels/images-1_jpg.rf.53a2e573edc95854628b165de0f32f17.txt  \n",
            "  inflating: __MACOSX/+_2863_640_640_label_ACCIDENT_DETECTION.v1i.yolov7pytorch/train/labels/._images-1_jpg.rf.53a2e573edc95854628b165de0f32f17.txt  \n",
            "  inflating: +_2863_640_640_label_ACCIDENT_DETECTION.v1i.yolov7pytorch/train/labels/vd13_png_jpg.rf.ecc823bcb95757f462b562a850f87213.txt  \n",
            "  inflating: __MACOSX/+_2863_640_640_label_ACCIDENT_DETECTION.v1i.yolov7pytorch/train/labels/._vd13_png_jpg.rf.ecc823bcb95757f462b562a850f87213.txt  \n",
            "  inflating: +_2863_640_640_label_ACCIDENT_DETECTION.v1i.yolov7pytorch/train/labels/download-5_jpg.rf.96c9cec3ca6bde709aa8670b9f074dbc.txt  \n",
            "  inflating: __MACOSX/+_2863_640_640_label_ACCIDENT_DETECTION.v1i.yolov7pytorch/train/labels/._download-5_jpg.rf.96c9cec3ca6bde709aa8670b9f074dbc.txt  \n",
            "  inflating: +_2863_640_640_label_ACCIDENT_DETECTION.v1i.yolov7pytorch/train/labels/download-2_jpg.rf.02c29aeaf996364e485c0afe33d915fb.txt  \n",
            "  inflating: __MACOSX/+_2863_640_640_label_ACCIDENT_DETECTION.v1i.yolov7pytorch/train/labels/._download-2_jpg.rf.02c29aeaf996364e485c0afe33d915fb.txt  \n",
            "  inflating: +_2863_640_640_label_ACCIDENT_DETECTION.v1i.yolov7pytorch/train/labels/traffic_img803_jpg.rf.dc40942df72e38dda84fbf0d482cd518.txt  \n",
            "  inflating: __MACOSX/+_2863_640_640_label_ACCIDENT_DETECTION.v1i.yolov7pytorch/train/labels/._traffic_img803_jpg.rf.dc40942df72e38dda84fbf0d482cd518.txt  \n",
            " extracting: +_2863_640_640_label_ACCIDENT_DETECTION.v1i.yolov7pytorch/train/labels/severityV4_47_jpg.rf.ecf3376cfe1cb142304d42d9217b8dd3.txt  \n",
            "  inflating: __MACOSX/+_2863_640_640_label_ACCIDENT_DETECTION.v1i.yolov7pytorch/train/labels/._severityV4_47_jpg.rf.ecf3376cfe1cb142304d42d9217b8dd3.txt  \n",
            "  inflating: +_2863_640_640_label_ACCIDENT_DETECTION.v1i.yolov7pytorch/train/labels/14-174_jpg.rf.ea2a95f40efd1c3fde421c5230950374.txt  \n",
            "  inflating: __MACOSX/+_2863_640_640_label_ACCIDENT_DETECTION.v1i.yolov7pytorch/train/labels/._14-174_jpg.rf.ea2a95f40efd1c3fde421c5230950374.txt  \n",
            "  inflating: +_2863_640_640_label_ACCIDENT_DETECTION.v1i.yolov7pytorch/train/labels/traffic_img1672_jpg.rf.30583e1fa3484a22b337752fab4c83cd.txt  \n",
            "  inflating: __MACOSX/+_2863_640_640_label_ACCIDENT_DETECTION.v1i.yolov7pytorch/train/labels/._traffic_img1672_jpg.rf.30583e1fa3484a22b337752fab4c83cd.txt  \n",
            "  inflating: +_2863_640_640_label_ACCIDENT_DETECTION.v1i.yolov7pytorch/train/labels/Semi-RealisticVD-122_jpg.rf.ba8b5647edb1507dcf8a6dc6b46b3de9.txt  \n",
            "  inflating: __MACOSX/+_2863_640_640_label_ACCIDENT_DETECTION.v1i.yolov7pytorch/train/labels/._Semi-RealisticVD-122_jpg.rf.ba8b5647edb1507dcf8a6dc6b46b3de9.txt  \n",
            "  inflating: +_2863_640_640_label_ACCIDENT_DETECTION.v1i.yolov7pytorch/train/labels/Semi-RealisticVD-190_jpg.rf.d81eead412c5207a86bf2ed27cc6f86d.txt  \n",
            "  inflating: __MACOSX/+_2863_640_640_label_ACCIDENT_DETECTION.v1i.yolov7pytorch/train/labels/._Semi-RealisticVD-190_jpg.rf.d81eead412c5207a86bf2ed27cc6f86d.txt  \n",
            "  inflating: +_2863_640_640_label_ACCIDENT_DETECTION.v1i.yolov7pytorch/train/labels/images-13_jpg.rf.c3fa19a049ef26cb229e509105417596.txt  \n",
            "  inflating: __MACOSX/+_2863_640_640_label_ACCIDENT_DETECTION.v1i.yolov7pytorch/train/labels/._images-13_jpg.rf.c3fa19a049ef26cb229e509105417596.txt  \n",
            "  inflating: +_2863_640_640_label_ACCIDENT_DETECTION.v1i.yolov7pytorch/train/labels/accidentFrame2729_jpg.rf.3a527937db64d7373d22e6072c98528e.txt  \n",
            "  inflating: __MACOSX/+_2863_640_640_label_ACCIDENT_DETECTION.v1i.yolov7pytorch/train/labels/._accidentFrame2729_jpg.rf.3a527937db64d7373d22e6072c98528e.txt  \n",
            "  inflating: +_2863_640_640_label_ACCIDENT_DETECTION.v1i.yolov7pytorch/train/labels/FLIP_CAR_V161_jpg.rf.d4bc033e314af922cd62b678b1df8179.txt  \n",
            "  inflating: __MACOSX/+_2863_640_640_label_ACCIDENT_DETECTION.v1i.yolov7pytorch/train/labels/._FLIP_CAR_V161_jpg.rf.d4bc033e314af922cd62b678b1df8179.txt  \n",
            "  inflating: +_2863_640_640_label_ACCIDENT_DETECTION.v1i.yolov7pytorch/train/labels/severity_V139_jpg.rf.db1ec889961316c2449faa82171b82a3.txt  \n",
            "  inflating: __MACOSX/+_2863_640_640_label_ACCIDENT_DETECTION.v1i.yolov7pytorch/train/labels/._severity_V139_jpg.rf.db1ec889961316c2449faa82171b82a3.txt  \n",
            "  inflating: +_2863_640_640_label_ACCIDENT_DETECTION.v1i.yolov7pytorch/train/labels/traffic_img1596_jpg.rf.fdad69f279e1409ed6decef22760477d.txt  \n",
            "  inflating: __MACOSX/+_2863_640_640_label_ACCIDENT_DETECTION.v1i.yolov7pytorch/train/labels/._traffic_img1596_jpg.rf.fdad69f279e1409ed6decef22760477d.txt  \n",
            "  inflating: +_2863_640_640_label_ACCIDENT_DETECTION.v1i.yolov7pytorch/train/labels/images-12_jpg.rf.389b78a78cd5e4dd330f3c1bfeabf11a.txt  \n",
            "  inflating: __MACOSX/+_2863_640_640_label_ACCIDENT_DETECTION.v1i.yolov7pytorch/train/labels/._images-12_jpg.rf.389b78a78cd5e4dd330f3c1bfeabf11a.txt  \n",
            "  inflating: +_2863_640_640_label_ACCIDENT_DETECTION.v1i.yolov7pytorch/train/labels/1-136_jpg.rf.ccd04a3a9aac7ae17022694418c5921c.txt  \n",
            "  inflating: __MACOSX/+_2863_640_640_label_ACCIDENT_DETECTION.v1i.yolov7pytorch/train/labels/._1-136_jpg.rf.ccd04a3a9aac7ae17022694418c5921c.txt  \n",
            "  inflating: +_2863_640_640_label_ACCIDENT_DETECTION.v1i.yolov7pytorch/train/labels/images-30_jpg.rf.d7757ac8f170b49e877feb95b86b2975.txt  \n",
            "  inflating: __MACOSX/+_2863_640_640_label_ACCIDENT_DETECTION.v1i.yolov7pytorch/train/labels/._images-30_jpg.rf.d7757ac8f170b49e877feb95b86b2975.txt  \n",
            "  inflating: +_2863_640_640_label_ACCIDENT_DETECTION.v1i.yolov7pytorch/train/labels/traffic_img99_jpg.rf.bd59a921926bc9cf109fde303c79a97d.txt  \n",
            "  inflating: __MACOSX/+_2863_640_640_label_ACCIDENT_DETECTION.v1i.yolov7pytorch/train/labels/._traffic_img99_jpg.rf.bd59a921926bc9cf109fde303c79a97d.txt  \n",
            "  inflating: +_2863_640_640_label_ACCIDENT_DETECTION.v1i.yolov7pytorch/train/labels/traffic_img56_jpg.rf.bfecdc190c3d28c53f2c0a81039d951e.txt  \n",
            "  inflating: __MACOSX/+_2863_640_640_label_ACCIDENT_DETECTION.v1i.yolov7pytorch/train/labels/._traffic_img56_jpg.rf.bfecdc190c3d28c53f2c0a81039d951e.txt  \n",
            "  inflating: +_2863_640_640_label_ACCIDENT_DETECTION.v1i.yolov7pytorch/train/labels/download-3_jpg.rf.f75a61af3b695c424a5e15fbdb773c86.txt  \n",
            "  inflating: __MACOSX/+_2863_640_640_label_ACCIDENT_DETECTION.v1i.yolov7pytorch/train/labels/._download-3_jpg.rf.f75a61af3b695c424a5e15fbdb773c86.txt  \n",
            "  inflating: +_2863_640_640_label_ACCIDENT_DETECTION.v1i.yolov7pytorch/train/labels/7db827fb-e15d-4315-9f0a-16c8d38f9d5c_1920x1080_jpg.rf.48fb18bf11a5714017c95447f19b2936.txt  \n",
            "  inflating: __MACOSX/+_2863_640_640_label_ACCIDENT_DETECTION.v1i.yolov7pytorch/train/labels/._7db827fb-e15d-4315-9f0a-16c8d38f9d5c_1920x1080_jpg.rf.48fb18bf11a5714017c95447f19b2936.txt  \n",
            "  inflating: +_2863_640_640_label_ACCIDENT_DETECTION.v1i.yolov7pytorch/train/labels/2-251_jpg.rf.b4f91dba9bc9b05191120418f3b6792c.txt  \n",
            "  inflating: __MACOSX/+_2863_640_640_label_ACCIDENT_DETECTION.v1i.yolov7pytorch/train/labels/._2-251_jpg.rf.b4f91dba9bc9b05191120418f3b6792c.txt  \n",
            "  inflating: +_2863_640_640_label_ACCIDENT_DETECTION.v1i.yolov7pytorch/train/labels/images-1_jpg.rf.de01544b44d90a9926e381fb6e97c75f.txt  \n",
            "  inflating: __MACOSX/+_2863_640_640_label_ACCIDENT_DETECTION.v1i.yolov7pytorch/train/labels/._images-1_jpg.rf.de01544b44d90a9926e381fb6e97c75f.txt  \n",
            "  inflating: +_2863_640_640_label_ACCIDENT_DETECTION.v1i.yolov7pytorch/train/labels/severityV4_15_jpg.rf.c554cee8cdd7d09768deab8007a202d5.txt  \n",
            "  inflating: __MACOSX/+_2863_640_640_label_ACCIDENT_DETECTION.v1i.yolov7pytorch/train/labels/._severityV4_15_jpg.rf.c554cee8cdd7d09768deab8007a202d5.txt  \n",
            "  inflating: +_2863_640_640_label_ACCIDENT_DETECTION.v1i.yolov7pytorch/train/labels/severityV4_21_jpg.rf.940725861cf27073317c433552ea04f5.txt  \n",
            "  inflating: __MACOSX/+_2863_640_640_label_ACCIDENT_DETECTION.v1i.yolov7pytorch/train/labels/._severityV4_21_jpg.rf.940725861cf27073317c433552ea04f5.txt  \n",
            "  inflating: +_2863_640_640_label_ACCIDENT_DETECTION.v1i.yolov7pytorch/train/labels/images-16_jpg.rf.b51bf523eca294df9afe024d81fb8ac7.txt  \n",
            "  inflating: __MACOSX/+_2863_640_640_label_ACCIDENT_DETECTION.v1i.yolov7pytorch/train/labels/._images-16_jpg.rf.b51bf523eca294df9afe024d81fb8ac7.txt  \n",
            "  inflating: +_2863_640_640_label_ACCIDENT_DETECTION.v1i.yolov7pytorch/train/labels/severityV4_10_jpg.rf.f5d2ae0983da460b73d62a08aca06925.txt  \n",
            "  inflating: __MACOSX/+_2863_640_640_label_ACCIDENT_DETECTION.v1i.yolov7pytorch/train/labels/._severityV4_10_jpg.rf.f5d2ae0983da460b73d62a08aca06925.txt  \n",
            "  inflating: +_2863_640_640_label_ACCIDENT_DETECTION.v1i.yolov7pytorch/train/labels/traffic_img1811_jpg.rf.2792806aeb623146fdeb44a70a347ca6.txt  \n",
            "  inflating: __MACOSX/+_2863_640_640_label_ACCIDENT_DETECTION.v1i.yolov7pytorch/train/labels/._traffic_img1811_jpg.rf.2792806aeb623146fdeb44a70a347ca6.txt  \n",
            "  inflating: +_2863_640_640_label_ACCIDENT_DETECTION.v1i.yolov7pytorch/train/labels/severity_V145_jpg.rf.f61a534652846ad73d8026371a7ae03b.txt  \n",
            "  inflating: __MACOSX/+_2863_640_640_label_ACCIDENT_DETECTION.v1i.yolov7pytorch/train/labels/._severity_V145_jpg.rf.f61a534652846ad73d8026371a7ae03b.txt  \n",
            "  inflating: +_2863_640_640_label_ACCIDENT_DETECTION.v1i.yolov7pytorch/train/labels/FLIP_CAR_V160_jpg.rf.c2649e389a91dc61d1020f706a192a2f.txt  \n",
            "  inflating: __MACOSX/+_2863_640_640_label_ACCIDENT_DETECTION.v1i.yolov7pytorch/train/labels/._FLIP_CAR_V160_jpg.rf.c2649e389a91dc61d1020f706a192a2f.txt  \n",
            "  inflating: +_2863_640_640_label_ACCIDENT_DETECTION.v1i.yolov7pytorch/train/labels/screen_images4_png_jpg.rf.b3cef62a710a16c0e53140ffd54e4212.txt  \n",
            "  inflating: __MACOSX/+_2863_640_640_label_ACCIDENT_DETECTION.v1i.yolov7pytorch/train/labels/._screen_images4_png_jpg.rf.b3cef62a710a16c0e53140ffd54e4212.txt  \n",
            "  inflating: +_2863_640_640_label_ACCIDENT_DETECTION.v1i.yolov7pytorch/train/labels/260_jpeg_jpg.rf.570b2e210a6e3726b89c5324e3278bda.txt  \n",
            "  inflating: __MACOSX/+_2863_640_640_label_ACCIDENT_DETECTION.v1i.yolov7pytorch/train/labels/._260_jpeg_jpg.rf.570b2e210a6e3726b89c5324e3278bda.txt  \n",
            "  inflating: +_2863_640_640_label_ACCIDENT_DETECTION.v1i.yolov7pytorch/train/labels/FLIP_CAR_V133_jpg.rf.fc66246b399e4896ed6009bd74150bd7.txt  \n",
            "  inflating: __MACOSX/+_2863_640_640_label_ACCIDENT_DETECTION.v1i.yolov7pytorch/train/labels/._FLIP_CAR_V133_jpg.rf.fc66246b399e4896ed6009bd74150bd7.txt  \n",
            "  inflating: +_2863_640_640_label_ACCIDENT_DETECTION.v1i.yolov7pytorch/train/labels/car_on_parked_cars_jpg.rf.eeff30d5145ce3e4f5832e5b7b24b0de.txt  \n",
            "  inflating: __MACOSX/+_2863_640_640_label_ACCIDENT_DETECTION.v1i.yolov7pytorch/train/labels/._car_on_parked_cars_jpg.rf.eeff30d5145ce3e4f5832e5b7b24b0de.txt  \n",
            "  inflating: +_2863_640_640_label_ACCIDENT_DETECTION.v1i.yolov7pytorch/train/labels/traffic_img1184_jpg.rf.e32cb4d4ae356e2e465994a170c44446.txt  \n",
            "  inflating: __MACOSX/+_2863_640_640_label_ACCIDENT_DETECTION.v1i.yolov7pytorch/train/labels/._traffic_img1184_jpg.rf.e32cb4d4ae356e2e465994a170c44446.txt  \n",
            "  inflating: +_2863_640_640_label_ACCIDENT_DETECTION.v1i.yolov7pytorch/train/labels/severityV4_98_jpg.rf.70e2d42c2d898f69c0acda69a3fef4eb.txt  \n",
            "  inflating: __MACOSX/+_2863_640_640_label_ACCIDENT_DETECTION.v1i.yolov7pytorch/train/labels/._severityV4_98_jpg.rf.70e2d42c2d898f69c0acda69a3fef4eb.txt  \n",
            "  inflating: +_2863_640_640_label_ACCIDENT_DETECTION.v1i.yolov7pytorch/train/labels/FLIP_CAR_V135_jpg.rf.25de7a5506bddca504d3d6a8b2d32ba8.txt  \n",
            "  inflating: __MACOSX/+_2863_640_640_label_ACCIDENT_DETECTION.v1i.yolov7pytorch/train/labels/._FLIP_CAR_V135_jpg.rf.25de7a5506bddca504d3d6a8b2d32ba8.txt  \n",
            "  inflating: +_2863_640_640_label_ACCIDENT_DETECTION.v1i.yolov7pytorch/train/labels/severityV4_35_jpg.rf.f95559375a438f2454c11323517b958f.txt  \n",
            "  inflating: __MACOSX/+_2863_640_640_label_ACCIDENT_DETECTION.v1i.yolov7pytorch/train/labels/._severityV4_35_jpg.rf.f95559375a438f2454c11323517b958f.txt  \n",
            "  inflating: +_2863_640_640_label_ACCIDENT_DETECTION.v1i.yolov7pytorch/train/labels/FLIP_CAR_V167_jpg.rf.b4f6f979b016841385872a5f843eea69.txt  \n",
            "  inflating: __MACOSX/+_2863_640_640_label_ACCIDENT_DETECTION.v1i.yolov7pytorch/train/labels/._FLIP_CAR_V167_jpg.rf.b4f6f979b016841385872a5f843eea69.txt  \n",
            "  inflating: +_2863_640_640_label_ACCIDENT_DETECTION.v1i.yolov7pytorch/train/labels/images-2_jpg.rf.8be2a56b6881353011beaaee67ed5605.txt  \n",
            "  inflating: __MACOSX/+_2863_640_640_label_ACCIDENT_DETECTION.v1i.yolov7pytorch/train/labels/._images-2_jpg.rf.8be2a56b6881353011beaaee67ed5605.txt  \n",
            "  inflating: +_2863_640_640_label_ACCIDENT_DETECTION.v1i.yolov7pytorch/train/labels/Semi-RealisticVD-119_jpg.rf.191d70a2b8c468b70824bf6a5e474969.txt  \n",
            "  inflating: __MACOSX/+_2863_640_640_label_ACCIDENT_DETECTION.v1i.yolov7pytorch/train/labels/._Semi-RealisticVD-119_jpg.rf.191d70a2b8c468b70824bf6a5e474969.txt  \n",
            "  inflating: +_2863_640_640_label_ACCIDENT_DETECTION.v1i.yolov7pytorch/train/labels/severityV4_48_jpg.rf.7f496141c9ac6083547911b108def4e6.txt  \n",
            "  inflating: __MACOSX/+_2863_640_640_label_ACCIDENT_DETECTION.v1i.yolov7pytorch/train/labels/._severityV4_48_jpg.rf.7f496141c9ac6083547911b108def4e6.txt  \n",
            "  inflating: +_2863_640_640_label_ACCIDENT_DETECTION.v1i.yolov7pytorch/train/labels/traffic_img1855_jpg.rf.d7c6b2d58dacdfb29d862e10adc15580.txt  \n",
            "  inflating: __MACOSX/+_2863_640_640_label_ACCIDENT_DETECTION.v1i.yolov7pytorch/train/labels/._traffic_img1855_jpg.rf.d7c6b2d58dacdfb29d862e10adc15580.txt  \n",
            "  inflating: +_2863_640_640_label_ACCIDENT_DETECTION.v1i.yolov7pytorch/train/labels/FLIP_CAR_V165_jpg.rf.e0189fc873f86448d9d9f68bb576c445.txt  \n",
            "  inflating: __MACOSX/+_2863_640_640_label_ACCIDENT_DETECTION.v1i.yolov7pytorch/train/labels/._FLIP_CAR_V165_jpg.rf.e0189fc873f86448d9d9f68bb576c445.txt  \n",
            "  inflating: +_2863_640_640_label_ACCIDENT_DETECTION.v1i.yolov7pytorch/train/labels/tt1-v2_jpg.rf.bf822c8a7c201d224e43ce4f1fa74d1f.txt  \n",
            "  inflating: __MACOSX/+_2863_640_640_label_ACCIDENT_DETECTION.v1i.yolov7pytorch/train/labels/._tt1-v2_jpg.rf.bf822c8a7c201d224e43ce4f1fa74d1f.txt  \n",
            "  inflating: +_2863_640_640_label_ACCIDENT_DETECTION.v1i.yolov7pytorch/train/labels/Semi-RealisticVD-40_jpg.rf.767fcec1561a491763c62fe2f19c6735.txt  \n",
            "  inflating: __MACOSX/+_2863_640_640_label_ACCIDENT_DETECTION.v1i.yolov7pytorch/train/labels/._Semi-RealisticVD-40_jpg.rf.767fcec1561a491763c62fe2f19c6735.txt  \n",
            "  inflating: +_2863_640_640_label_ACCIDENT_DETECTION.v1i.yolov7pytorch/train/labels/traffic_img531_jpg.rf.a2872c290034f14c21db63ec52491789.txt  \n",
            "  inflating: __MACOSX/+_2863_640_640_label_ACCIDENT_DETECTION.v1i.yolov7pytorch/train/labels/._traffic_img531_jpg.rf.a2872c290034f14c21db63ec52491789.txt  \n",
            "  inflating: +_2863_640_640_label_ACCIDENT_DETECTION.v1i.yolov7pytorch/train/labels/traffic_img2122_jpg.rf.e92a8a1646f5c03fbef8bc7794a0679a.txt  \n",
            "  inflating: __MACOSX/+_2863_640_640_label_ACCIDENT_DETECTION.v1i.yolov7pytorch/train/labels/._traffic_img2122_jpg.rf.e92a8a1646f5c03fbef8bc7794a0679a.txt  \n",
            "  inflating: +_2863_640_640_label_ACCIDENT_DETECTION.v1i.yolov7pytorch/train/labels/images-9_jpg.rf.32fb553ae6bc6530882d8a780868f95b.txt  \n",
            "  inflating: __MACOSX/+_2863_640_640_label_ACCIDENT_DETECTION.v1i.yolov7pytorch/train/labels/._images-9_jpg.rf.32fb553ae6bc6530882d8a780868f95b.txt  \n",
            "  inflating: +_2863_640_640_label_ACCIDENT_DETECTION.v1i.yolov7pytorch/train/labels/Semi-RealisticVD-169_jpg.rf.bfec84fad26206cad7e60b09db5117ba.txt  \n",
            "  inflating: __MACOSX/+_2863_640_640_label_ACCIDENT_DETECTION.v1i.yolov7pytorch/train/labels/._Semi-RealisticVD-169_jpg.rf.bfec84fad26206cad7e60b09db5117ba.txt  \n",
            "  inflating: +_2863_640_640_label_ACCIDENT_DETECTION.v1i.yolov7pytorch/train/labels/FLIP_CAR_V153_jpg.rf.df603f09773f4f767ad511be677dde03.txt  \n",
            "  inflating: __MACOSX/+_2863_640_640_label_ACCIDENT_DETECTION.v1i.yolov7pytorch/train/labels/._FLIP_CAR_V153_jpg.rf.df603f09773f4f767ad511be677dde03.txt  \n",
            "  inflating: +_2863_640_640_label_ACCIDENT_DETECTION.v1i.yolov7pytorch/train/labels/severityV3_36_jpeg_jpg.rf.fa7603d2ad0ea8893a184852747b345a.txt  \n",
            "  inflating: __MACOSX/+_2863_640_640_label_ACCIDENT_DETECTION.v1i.yolov7pytorch/train/labels/._severityV3_36_jpeg_jpg.rf.fa7603d2ad0ea8893a184852747b345a.txt  \n",
            "  inflating: +_2863_640_640_label_ACCIDENT_DETECTION.v1i.yolov7pytorch/train/labels/accidentFrame3016_jpg.rf.f8c3a5df1eca3d6f0e5420fe42582471.txt  \n",
            "  inflating: __MACOSX/+_2863_640_640_label_ACCIDENT_DETECTION.v1i.yolov7pytorch/train/labels/._accidentFrame3016_jpg.rf.f8c3a5df1eca3d6f0e5420fe42582471.txt  \n",
            "  inflating: +_2863_640_640_label_ACCIDENT_DETECTION.v1i.yolov7pytorch/train/labels/images-25_jpg.rf.5333677bc3327309d0497ba7727e8fb1.txt  \n",
            "  inflating: __MACOSX/+_2863_640_640_label_ACCIDENT_DETECTION.v1i.yolov7pytorch/train/labels/._images-25_jpg.rf.5333677bc3327309d0497ba7727e8fb1.txt  \n",
            "  inflating: +_2863_640_640_label_ACCIDENT_DETECTION.v1i.yolov7pytorch/train/labels/Severity_Detect_V36_jpg.rf.db1303f1de7323571ffa2a22df14f4a3.txt  \n",
            "  inflating: __MACOSX/+_2863_640_640_label_ACCIDENT_DETECTION.v1i.yolov7pytorch/train/labels/._Severity_Detect_V36_jpg.rf.db1303f1de7323571ffa2a22df14f4a3.txt  \n",
            "  inflating: +_2863_640_640_label_ACCIDENT_DETECTION.v1i.yolov7pytorch/train/labels/images-15_jpg.rf.088e48ba2e2d6b6b89ca7454a842e6fb.txt  \n",
            "  inflating: __MACOSX/+_2863_640_640_label_ACCIDENT_DETECTION.v1i.yolov7pytorch/train/labels/._images-15_jpg.rf.088e48ba2e2d6b6b89ca7454a842e6fb.txt  \n",
            "  inflating: +_2863_640_640_label_ACCIDENT_DETECTION.v1i.yolov7pytorch/train/labels/801_jpeg_jpg.rf.817332507ffe7041a3fccaec31257a78.txt  \n",
            "  inflating: __MACOSX/+_2863_640_640_label_ACCIDENT_DETECTION.v1i.yolov7pytorch/train/labels/._801_jpeg_jpg.rf.817332507ffe7041a3fccaec31257a78.txt  \n",
            "  inflating: +_2863_640_640_label_ACCIDENT_DETECTION.v1i.yolov7pytorch/train/labels/Severity_Detect_V30_jpg.rf.dbb2ee7510254f9188f2272fb3e3fa12.txt  \n",
            "  inflating: __MACOSX/+_2863_640_640_label_ACCIDENT_DETECTION.v1i.yolov7pytorch/train/labels/._Severity_Detect_V30_jpg.rf.dbb2ee7510254f9188f2272fb3e3fa12.txt  \n",
            "  inflating: +_2863_640_640_label_ACCIDENT_DETECTION.v1i.yolov7pytorch/train/labels/images-12_jpg.rf.38151f177d559efc368aaac4f2cf0c5c.txt  \n",
            "  inflating: __MACOSX/+_2863_640_640_label_ACCIDENT_DETECTION.v1i.yolov7pytorch/train/labels/._images-12_jpg.rf.38151f177d559efc368aaac4f2cf0c5c.txt  \n",
            "  inflating: +_2863_640_640_label_ACCIDENT_DETECTION.v1i.yolov7pytorch/train/labels/images-10_jpg.rf.fbdfbd5584daa8ffaaec5efc3963483d.txt  \n",
            "  inflating: __MACOSX/+_2863_640_640_label_ACCIDENT_DETECTION.v1i.yolov7pytorch/train/labels/._images-10_jpg.rf.fbdfbd5584daa8ffaaec5efc3963483d.txt  \n",
            "  inflating: +_2863_640_640_label_ACCIDENT_DETECTION.v1i.yolov7pytorch/train/labels/images-17_jpg.rf.23917498b8ab3eb25b078cb5addb7f5b.txt  \n",
            "  inflating: __MACOSX/+_2863_640_640_label_ACCIDENT_DETECTION.v1i.yolov7pytorch/train/labels/._images-17_jpg.rf.23917498b8ab3eb25b078cb5addb7f5b.txt  \n",
            "  inflating: +_2863_640_640_label_ACCIDENT_DETECTION.v1i.yolov7pytorch/train/labels/severity_V132_jpg.rf.919d677039c8399d5a8b3d73953201fd.txt  \n",
            "  inflating: __MACOSX/+_2863_640_640_label_ACCIDENT_DETECTION.v1i.yolov7pytorch/train/labels/._severity_V132_jpg.rf.919d677039c8399d5a8b3d73953201fd.txt  \n",
            "  inflating: +_2863_640_640_label_ACCIDENT_DETECTION.v1i.yolov7pytorch/train/labels/images-1_jpg.rf.e116090940a7cde52bacafdd675dcc39.txt  \n",
            "  inflating: __MACOSX/+_2863_640_640_label_ACCIDENT_DETECTION.v1i.yolov7pytorch/train/labels/._images-1_jpg.rf.e116090940a7cde52bacafdd675dcc39.txt  \n",
            "  inflating: +_2863_640_640_label_ACCIDENT_DETECTION.v1i.yolov7pytorch/train/labels/images-20_jpg.rf.f66a9c53310b80fe6607426b18f7b339.txt  \n",
            "  inflating: __MACOSX/+_2863_640_640_label_ACCIDENT_DETECTION.v1i.yolov7pytorch/train/labels/._images-20_jpg.rf.f66a9c53310b80fe6607426b18f7b339.txt  \n",
            "  inflating: +_2863_640_640_label_ACCIDENT_DETECTION.v1i.yolov7pytorch/train/labels/download_jpg.rf.9a8fcef53cc941a5a7bfd845fd9b2acf.txt  \n",
            "  inflating: __MACOSX/+_2863_640_640_label_ACCIDENT_DETECTION.v1i.yolov7pytorch/train/labels/._download_jpg.rf.9a8fcef53cc941a5a7bfd845fd9b2acf.txt  \n",
            "  inflating: +_2863_640_640_label_ACCIDENT_DETECTION.v1i.yolov7pytorch/train/labels/images_jpg.rf.693dd2359a57297a34c553a0a16e4fa4.txt  \n",
            "  inflating: __MACOSX/+_2863_640_640_label_ACCIDENT_DETECTION.v1i.yolov7pytorch/train/labels/._images_jpg.rf.693dd2359a57297a34c553a0a16e4fa4.txt  \n",
            "  inflating: +_2863_640_640_label_ACCIDENT_DETECTION.v1i.yolov7pytorch/train/labels/sev2_jpg.rf.d82931f0916de208697afddd2a57992e.txt  \n",
            "  inflating: __MACOSX/+_2863_640_640_label_ACCIDENT_DETECTION.v1i.yolov7pytorch/train/labels/._sev2_jpg.rf.d82931f0916de208697afddd2a57992e.txt  \n",
            "  inflating: +_2863_640_640_label_ACCIDENT_DETECTION.v1i.yolov7pytorch/train/labels/traffic_img1780_jpg.rf.f2881ac16a72121b1dde24cdb0b4e3a8.txt  \n",
            "  inflating: __MACOSX/+_2863_640_640_label_ACCIDENT_DETECTION.v1i.yolov7pytorch/train/labels/._traffic_img1780_jpg.rf.f2881ac16a72121b1dde24cdb0b4e3a8.txt  \n",
            "  inflating: +_2863_640_640_label_ACCIDENT_DETECTION.v1i.yolov7pytorch/train/labels/severity_V144_jpg.rf.954589338dd3009af16f081f05177e19.txt  \n",
            "  inflating: __MACOSX/+_2863_640_640_label_ACCIDENT_DETECTION.v1i.yolov7pytorch/train/labels/._severity_V144_jpg.rf.954589338dd3009af16f081f05177e19.txt  \n",
            "  inflating: +_2863_640_640_label_ACCIDENT_DETECTION.v1i.yolov7pytorch/train/labels/Severity_Detect_V22_jpg.rf.f6230daee7b29dd97d5c66274ccded1d.txt  \n",
            "  inflating: __MACOSX/+_2863_640_640_label_ACCIDENT_DETECTION.v1i.yolov7pytorch/train/labels/._Severity_Detect_V22_jpg.rf.f6230daee7b29dd97d5c66274ccded1d.txt  \n",
            "  inflating: +_2863_640_640_label_ACCIDENT_DETECTION.v1i.yolov7pytorch/train/labels/FLIP_CAR_V148_jpg.rf.d9faed22b6f86e63d0a466d27488d32d.txt  \n",
            "  inflating: __MACOSX/+_2863_640_640_label_ACCIDENT_DETECTION.v1i.yolov7pytorch/train/labels/._FLIP_CAR_V148_jpg.rf.d9faed22b6f86e63d0a466d27488d32d.txt  \n",
            "  inflating: +_2863_640_640_label_ACCIDENT_DETECTION.v1i.yolov7pytorch/train/labels/FLIP_CAR_V175_jpg.rf.4044e778f6036289f8b418f06529a291.txt  \n",
            "  inflating: __MACOSX/+_2863_640_640_label_ACCIDENT_DETECTION.v1i.yolov7pytorch/train/labels/._FLIP_CAR_V175_jpg.rf.4044e778f6036289f8b418f06529a291.txt  \n",
            "  inflating: +_2863_640_640_label_ACCIDENT_DETECTION.v1i.yolov7pytorch/train/labels/severityV4_42_jpg.rf.c7952290efc498f4bfc0f667d93b8604.txt  \n",
            "  inflating: __MACOSX/+_2863_640_640_label_ACCIDENT_DETECTION.v1i.yolov7pytorch/train/labels/._severityV4_42_jpg.rf.c7952290efc498f4bfc0f667d93b8604.txt  \n",
            "  inflating: +_2863_640_640_label_ACCIDENT_DETECTION.v1i.yolov7pytorch/train/labels/download_jpg.rf.9a11ad1d7e373de7b6224cfd57e769f4.txt  \n",
            "  inflating: __MACOSX/+_2863_640_640_label_ACCIDENT_DETECTION.v1i.yolov7pytorch/train/labels/._download_jpg.rf.9a11ad1d7e373de7b6224cfd57e769f4.txt  \n",
            "  inflating: +_2863_640_640_label_ACCIDENT_DETECTION.v1i.yolov7pytorch/train/labels/images-22_jpg.rf.0758a79b1930f46df65e419056a1bf1b.txt  \n",
            "  inflating: __MACOSX/+_2863_640_640_label_ACCIDENT_DETECTION.v1i.yolov7pytorch/train/labels/._images-22_jpg.rf.0758a79b1930f46df65e419056a1bf1b.txt  \n",
            "  inflating: +_2863_640_640_label_ACCIDENT_DETECTION.v1i.yolov7pytorch/train/labels/FLIP_CAR_V156_jpg.rf.e6f7f970493b61387929291cce966b5e.txt  \n",
            "  inflating: __MACOSX/+_2863_640_640_label_ACCIDENT_DETECTION.v1i.yolov7pytorch/train/labels/._FLIP_CAR_V156_jpg.rf.e6f7f970493b61387929291cce966b5e.txt  \n",
            "  inflating: +_2863_640_640_label_ACCIDENT_DETECTION.v1i.yolov7pytorch/train/labels/severity_V113_jpg.rf.fc3f3c87c6ca6cb0756f641cb30c113d.txt  \n",
            "  inflating: __MACOSX/+_2863_640_640_label_ACCIDENT_DETECTION.v1i.yolov7pytorch/train/labels/._severity_V113_jpg.rf.fc3f3c87c6ca6cb0756f641cb30c113d.txt  \n",
            "  inflating: +_2863_640_640_label_ACCIDENT_DETECTION.v1i.yolov7pytorch/train/labels/Severity_Detect_V16_jpg.rf.9794ac14882b7985a763b080584742a5.txt  \n",
            "  inflating: __MACOSX/+_2863_640_640_label_ACCIDENT_DETECTION.v1i.yolov7pytorch/train/labels/._Severity_Detect_V16_jpg.rf.9794ac14882b7985a763b080584742a5.txt  \n",
            "  inflating: +_2863_640_640_label_ACCIDENT_DETECTION.v1i.yolov7pytorch/train/labels/images-29_jpg.rf.2905b4fd5391b6022ee4419a18e011b9.txt  \n",
            "  inflating: __MACOSX/+_2863_640_640_label_ACCIDENT_DETECTION.v1i.yolov7pytorch/train/labels/._images-29_jpg.rf.2905b4fd5391b6022ee4419a18e011b9.txt  \n",
            "  inflating: +_2863_640_640_label_ACCIDENT_DETECTION.v1i.yolov7pytorch/train/labels/accidentFrame1854_jpg.rf.eb015430683ebeacd40e96e71ded2909.txt  \n",
            "  inflating: __MACOSX/+_2863_640_640_label_ACCIDENT_DETECTION.v1i.yolov7pytorch/train/labels/._accidentFrame1854_jpg.rf.eb015430683ebeacd40e96e71ded2909.txt  \n",
            "  inflating: +_2863_640_640_label_ACCIDENT_DETECTION.v1i.yolov7pytorch/train/labels/Semi-RealisticVD-52_jpg.rf.d36a2abf3b2af085ce503bfe1adbe8bf.txt  \n",
            "  inflating: __MACOSX/+_2863_640_640_label_ACCIDENT_DETECTION.v1i.yolov7pytorch/train/labels/._Semi-RealisticVD-52_jpg.rf.d36a2abf3b2af085ce503bfe1adbe8bf.txt  \n",
            "  inflating: +_2863_640_640_label_ACCIDENT_DETECTION.v1i.yolov7pytorch/train/labels/images-19_jpg.rf.03924318749a618c9196638ed94bca80.txt  \n",
            "  inflating: __MACOSX/+_2863_640_640_label_ACCIDENT_DETECTION.v1i.yolov7pytorch/train/labels/._images-19_jpg.rf.03924318749a618c9196638ed94bca80.txt  \n",
            "  inflating: +_2863_640_640_label_ACCIDENT_DETECTION.v1i.yolov7pytorch/train/labels/traffic_img447_jpg.rf.35fe5b44dac3f0c24100b540e5d9ab4f.txt  \n",
            "  inflating: __MACOSX/+_2863_640_640_label_ACCIDENT_DETECTION.v1i.yolov7pytorch/train/labels/._traffic_img447_jpg.rf.35fe5b44dac3f0c24100b540e5d9ab4f.txt  \n",
            "  inflating: +_2863_640_640_label_ACCIDENT_DETECTION.v1i.yolov7pytorch/train/labels/accidentFrame1192_jpg.rf.b668346ea36d01bc05aff82517c219d6.txt  \n",
            "  inflating: __MACOSX/+_2863_640_640_label_ACCIDENT_DETECTION.v1i.yolov7pytorch/train/labels/._accidentFrame1192_jpg.rf.b668346ea36d01bc05aff82517c219d6.txt  \n",
            "  inflating: +_2863_640_640_label_ACCIDENT_DETECTION.v1i.yolov7pytorch/train/labels/severityV3_18_jpeg_jpg.rf.ff631796461fe0589b254a4093ac9837.txt  \n",
            "  inflating: __MACOSX/+_2863_640_640_label_ACCIDENT_DETECTION.v1i.yolov7pytorch/train/labels/._severityV3_18_jpeg_jpg.rf.ff631796461fe0589b254a4093ac9837.txt  \n",
            "  inflating: +_2863_640_640_label_ACCIDENT_DETECTION.v1i.yolov7pytorch/train/labels/severityV3_6_jpeg_jpg.rf.fa5f3871e4fcd1b819c7b7c05ae09c9e.txt  \n",
            "  inflating: __MACOSX/+_2863_640_640_label_ACCIDENT_DETECTION.v1i.yolov7pytorch/train/labels/._severityV3_6_jpeg_jpg.rf.fa5f3871e4fcd1b819c7b7c05ae09c9e.txt  \n",
            "  inflating: +_2863_640_640_label_ACCIDENT_DETECTION.v1i.yolov7pytorch/train/labels/traffic_img1815_jpg.rf.996283ce2702b336ae86bc87a6a98d23.txt  \n",
            "  inflating: __MACOSX/+_2863_640_640_label_ACCIDENT_DETECTION.v1i.yolov7pytorch/train/labels/._traffic_img1815_jpg.rf.996283ce2702b336ae86bc87a6a98d23.txt  \n",
            "  inflating: +_2863_640_640_label_ACCIDENT_DETECTION.v1i.yolov7pytorch/train/labels/severity_V114_jpg.rf.c974c6d8efabfbe33ac91b758f0a19d9.txt  \n",
            "  inflating: __MACOSX/+_2863_640_640_label_ACCIDENT_DETECTION.v1i.yolov7pytorch/train/labels/._severity_V114_jpg.rf.c974c6d8efabfbe33ac91b758f0a19d9.txt  \n",
            "  inflating: +_2863_640_640_label_ACCIDENT_DETECTION.v1i.yolov7pytorch/train/labels/traffic_img59_jpg.rf.d948cdd99e1d046fa0a542c9a668e735.txt  \n",
            "  inflating: __MACOSX/+_2863_640_640_label_ACCIDENT_DETECTION.v1i.yolov7pytorch/train/labels/._traffic_img59_jpg.rf.d948cdd99e1d046fa0a542c9a668e735.txt  \n",
            "  inflating: +_2863_640_640_label_ACCIDENT_DETECTION.v1i.yolov7pytorch/train/labels/images-6_jpg.rf.ca0529909507014eb8f38c252d4af56c.txt  \n",
            "  inflating: __MACOSX/+_2863_640_640_label_ACCIDENT_DETECTION.v1i.yolov7pytorch/train/labels/._images-6_jpg.rf.ca0529909507014eb8f38c252d4af56c.txt  \n",
            "  inflating: +_2863_640_640_label_ACCIDENT_DETECTION.v1i.yolov7pytorch/train/labels/new_SD4_jpg.rf.f64ff3eb320998ed71c2cb966f47eab3.txt  \n",
            "  inflating: __MACOSX/+_2863_640_640_label_ACCIDENT_DETECTION.v1i.yolov7pytorch/train/labels/._new_SD4_jpg.rf.f64ff3eb320998ed71c2cb966f47eab3.txt  \n",
            "  inflating: +_2863_640_640_label_ACCIDENT_DETECTION.v1i.yolov7pytorch/train/labels/images-16_jpg.rf.8805c4d25a9416d8a69a345ae5a31303.txt  \n",
            "  inflating: __MACOSX/+_2863_640_640_label_ACCIDENT_DETECTION.v1i.yolov7pytorch/train/labels/._images-16_jpg.rf.8805c4d25a9416d8a69a345ae5a31303.txt  \n",
            "  inflating: +_2863_640_640_label_ACCIDENT_DETECTION.v1i.yolov7pytorch/train/labels/traffic_img2117_jpg.rf.27729485755e7424ed46b0a136294264.txt  \n",
            "  inflating: __MACOSX/+_2863_640_640_label_ACCIDENT_DETECTION.v1i.yolov7pytorch/train/labels/._traffic_img2117_jpg.rf.27729485755e7424ed46b0a136294264.txt  \n",
            "  inflating: +_2863_640_640_label_ACCIDENT_DETECTION.v1i.yolov7pytorch/train/labels/screen_images10_png_jpg.rf.89b2cb27d64066b199116896ef66206e.txt  \n",
            "  inflating: __MACOSX/+_2863_640_640_label_ACCIDENT_DETECTION.v1i.yolov7pytorch/train/labels/._screen_images10_png_jpg.rf.89b2cb27d64066b199116896ef66206e.txt  \n",
            "  inflating: +_2863_640_640_label_ACCIDENT_DETECTION.v1i.yolov7pytorch/train/labels/severityV4_89_jpg.rf.e1b079c52364f480f3b19e07b2a6a702.txt  \n",
            "  inflating: __MACOSX/+_2863_640_640_label_ACCIDENT_DETECTION.v1i.yolov7pytorch/train/labels/._severityV4_89_jpg.rf.e1b079c52364f480f3b19e07b2a6a702.txt  \n",
            "  inflating: +_2863_640_640_label_ACCIDENT_DETECTION.v1i.yolov7pytorch/train/labels/traffic_img13_jpg.rf.274258cbf9aa9830d3c75e58893f104b.txt  \n",
            "  inflating: __MACOSX/+_2863_640_640_label_ACCIDENT_DETECTION.v1i.yolov7pytorch/train/labels/._traffic_img13_jpg.rf.274258cbf9aa9830d3c75e58893f104b.txt  \n",
            "  inflating: +_2863_640_640_label_ACCIDENT_DETECTION.v1i.yolov7pytorch/train/labels/buy6_jpg.rf.acb0b4e07ade505c981f8164e5dcdf03.txt  \n",
            "  inflating: __MACOSX/+_2863_640_640_label_ACCIDENT_DETECTION.v1i.yolov7pytorch/train/labels/._buy6_jpg.rf.acb0b4e07ade505c981f8164e5dcdf03.txt  \n",
            "  inflating: +_2863_640_640_label_ACCIDENT_DETECTION.v1i.yolov7pytorch/train/labels/severityV4_46_jpg.rf.6974c3a482f387dc4d665a613b657c31.txt  \n",
            "  inflating: __MACOSX/+_2863_640_640_label_ACCIDENT_DETECTION.v1i.yolov7pytorch/train/labels/._severityV4_46_jpg.rf.6974c3a482f387dc4d665a613b657c31.txt  \n",
            "  inflating: +_2863_640_640_label_ACCIDENT_DETECTION.v1i.yolov7pytorch/train/labels/images-12_jpg.rf.c2cc7099a0d4c7c60e4a965260aae434.txt  \n",
            "  inflating: __MACOSX/+_2863_640_640_label_ACCIDENT_DETECTION.v1i.yolov7pytorch/train/labels/._images-12_jpg.rf.c2cc7099a0d4c7c60e4a965260aae434.txt  \n",
            "  inflating: +_2863_640_640_label_ACCIDENT_DETECTION.v1i.yolov7pytorch/train/labels/traffic_img1239_jpg.rf.28e2cb6784b24736bdb328a6bc406092.txt  \n",
            "  inflating: __MACOSX/+_2863_640_640_label_ACCIDENT_DETECTION.v1i.yolov7pytorch/train/labels/._traffic_img1239_jpg.rf.28e2cb6784b24736bdb328a6bc406092.txt  \n",
            "  inflating: +_2863_640_640_label_ACCIDENT_DETECTION.v1i.yolov7pytorch/train/labels/traffic_img1818_jpg.rf.ea6ea02c6eba3a8093ce403f5efa6a45.txt  \n",
            "  inflating: __MACOSX/+_2863_640_640_label_ACCIDENT_DETECTION.v1i.yolov7pytorch/train/labels/._traffic_img1818_jpg.rf.ea6ea02c6eba3a8093ce403f5efa6a45.txt  \n",
            "  inflating: +_2863_640_640_label_ACCIDENT_DETECTION.v1i.yolov7pytorch/train/labels/traffic_img1805_jpg.rf.d0d1eef4cb69358a3abb692dc47fde51.txt  \n",
            "  inflating: __MACOSX/+_2863_640_640_label_ACCIDENT_DETECTION.v1i.yolov7pytorch/train/labels/._traffic_img1805_jpg.rf.d0d1eef4cb69358a3abb692dc47fde51.txt  \n",
            "  inflating: +_2863_640_640_label_ACCIDENT_DETECTION.v1i.yolov7pytorch/train/labels/traffic_img455_jpg.rf.ef75e67a8e6c51feea89710910a24e83.txt  \n",
            "  inflating: __MACOSX/+_2863_640_640_label_ACCIDENT_DETECTION.v1i.yolov7pytorch/train/labels/._traffic_img455_jpg.rf.ef75e67a8e6c51feea89710910a24e83.txt  \n",
            "  inflating: +_2863_640_640_label_ACCIDENT_DETECTION.v1i.yolov7pytorch/train/labels/2-165_jpg.rf.feb15cfe4dc3d9d1ce4804ed3ad7c587.txt  \n",
            "  inflating: __MACOSX/+_2863_640_640_label_ACCIDENT_DETECTION.v1i.yolov7pytorch/train/labels/._2-165_jpg.rf.feb15cfe4dc3d9d1ce4804ed3ad7c587.txt  \n",
            "  inflating: +_2863_640_640_label_ACCIDENT_DETECTION.v1i.yolov7pytorch/train/labels/traffic_img1527_jpg.rf.cc9ffc0e66bad3b2a63986ba8e1fe891.txt  \n",
            "  inflating: __MACOSX/+_2863_640_640_label_ACCIDENT_DETECTION.v1i.yolov7pytorch/train/labels/._traffic_img1527_jpg.rf.cc9ffc0e66bad3b2a63986ba8e1fe891.txt  \n",
            "  inflating: +_2863_640_640_label_ACCIDENT_DETECTION.v1i.yolov7pytorch/train/labels/Severity_Detect_V5_jpg.rf.f96f2d75856a6c0747304c43962e590b.txt  \n",
            "  inflating: __MACOSX/+_2863_640_640_label_ACCIDENT_DETECTION.v1i.yolov7pytorch/train/labels/._Severity_Detect_V5_jpg.rf.f96f2d75856a6c0747304c43962e590b.txt  \n",
            "  inflating: +_2863_640_640_label_ACCIDENT_DETECTION.v1i.yolov7pytorch/train/labels/Severity_Detect_V20_jpg.rf.fd8db3cae807093073eac2ac8d4840ca.txt  \n",
            "  inflating: __MACOSX/+_2863_640_640_label_ACCIDENT_DETECTION.v1i.yolov7pytorch/train/labels/._Severity_Detect_V20_jpg.rf.fd8db3cae807093073eac2ac8d4840ca.txt  \n",
            "  inflating: +_2863_640_640_label_ACCIDENT_DETECTION.v1i.yolov7pytorch/train/labels/images-5_jpg.rf.ed16355e4711aa7c9424c30f0755e00d.txt  \n",
            "  inflating: __MACOSX/+_2863_640_640_label_ACCIDENT_DETECTION.v1i.yolov7pytorch/train/labels/._images-5_jpg.rf.ed16355e4711aa7c9424c30f0755e00d.txt  \n",
            "  inflating: +_2863_640_640_label_ACCIDENT_DETECTION.v1i.yolov7pytorch/train/labels/FLIP_CAR_V130_jpg.rf.efd9c92b32e2b73e4bf359a478376149.txt  \n",
            "  inflating: __MACOSX/+_2863_640_640_label_ACCIDENT_DETECTION.v1i.yolov7pytorch/train/labels/._FLIP_CAR_V130_jpg.rf.efd9c92b32e2b73e4bf359a478376149.txt  \n",
            "  inflating: +_2863_640_640_label_ACCIDENT_DETECTION.v1i.yolov7pytorch/train/labels/severityV4_59_jpg.rf.5286eefa072807af0b197198d58e0ce7.txt  \n",
            "  inflating: __MACOSX/+_2863_640_640_label_ACCIDENT_DETECTION.v1i.yolov7pytorch/train/labels/._severityV4_59_jpg.rf.5286eefa072807af0b197198d58e0ce7.txt  \n",
            "  inflating: +_2863_640_640_label_ACCIDENT_DETECTION.v1i.yolov7pytorch/train/labels/severityV2_5_jpg.rf.df4b00a82b6ee55b5d5d7d19ce856244.txt  \n",
            "  inflating: __MACOSX/+_2863_640_640_label_ACCIDENT_DETECTION.v1i.yolov7pytorch/train/labels/._severityV2_5_jpg.rf.df4b00a82b6ee55b5d5d7d19ce856244.txt  \n",
            "  inflating: +_2863_640_640_label_ACCIDENT_DETECTION.v1i.yolov7pytorch/train/labels/accidentFrame3002_jpg.rf.e14f621d56c550e9e7d9c4e310febb9c.txt  \n",
            "  inflating: __MACOSX/+_2863_640_640_label_ACCIDENT_DETECTION.v1i.yolov7pytorch/train/labels/._accidentFrame3002_jpg.rf.e14f621d56c550e9e7d9c4e310febb9c.txt  \n",
            "  inflating: +_2863_640_640_label_ACCIDENT_DETECTION.v1i.yolov7pytorch/train/labels/Semi-RealisticVD-111_jpg.rf.1432cc5fa03d4daeb2a1978d58e1c304.txt  \n",
            "  inflating: __MACOSX/+_2863_640_640_label_ACCIDENT_DETECTION.v1i.yolov7pytorch/train/labels/._Semi-RealisticVD-111_jpg.rf.1432cc5fa03d4daeb2a1978d58e1c304.txt  \n",
            "  inflating: +_2863_640_640_label_ACCIDENT_DETECTION.v1i.yolov7pytorch/train/labels/traffic_img57_jpg.rf.f9a0a48dab8b69cd898b0752f296215b.txt  \n",
            "  inflating: __MACOSX/+_2863_640_640_label_ACCIDENT_DETECTION.v1i.yolov7pytorch/train/labels/._traffic_img57_jpg.rf.f9a0a48dab8b69cd898b0752f296215b.txt  \n",
            "  inflating: +_2863_640_640_label_ACCIDENT_DETECTION.v1i.yolov7pytorch/train/labels/traffic_img45_jpg.rf.fda148bc21a3196a3159464b3f6a5ce5.txt  \n",
            "  inflating: __MACOSX/+_2863_640_640_label_ACCIDENT_DETECTION.v1i.yolov7pytorch/train/labels/._traffic_img45_jpg.rf.fda148bc21a3196a3159464b3f6a5ce5.txt  \n",
            "  inflating: +_2863_640_640_label_ACCIDENT_DETECTION.v1i.yolov7pytorch/train/labels/images-5_jpg.rf.f6b8750c9adebdcd2c81c616b83ac412.txt  \n",
            "  inflating: __MACOSX/+_2863_640_640_label_ACCIDENT_DETECTION.v1i.yolov7pytorch/train/labels/._images-5_jpg.rf.f6b8750c9adebdcd2c81c616b83ac412.txt  \n",
            "  inflating: +_2863_640_640_label_ACCIDENT_DETECTION.v1i.yolov7pytorch/train/labels/285_jpeg_jpg.rf.e5bc47ff530a3a8325deb509cb51b620.txt  \n",
            "  inflating: __MACOSX/+_2863_640_640_label_ACCIDENT_DETECTION.v1i.yolov7pytorch/train/labels/._285_jpeg_jpg.rf.e5bc47ff530a3a8325deb509cb51b620.txt  \n",
            "  inflating: +_2863_640_640_label_ACCIDENT_DETECTION.v1i.yolov7pytorch/train/labels/traffic_img1716_jpg.rf.d7cad92d770b52275395cae943355fc8.txt  \n",
            "  inflating: __MACOSX/+_2863_640_640_label_ACCIDENT_DETECTION.v1i.yolov7pytorch/train/labels/._traffic_img1716_jpg.rf.d7cad92d770b52275395cae943355fc8.txt  \n",
            "  inflating: +_2863_640_640_label_ACCIDENT_DETECTION.v1i.yolov7pytorch/train/labels/traffic_img1932_jpg.rf.c66526075ec3afc04d53a697cdf19542.txt  \n",
            "  inflating: __MACOSX/+_2863_640_640_label_ACCIDENT_DETECTION.v1i.yolov7pytorch/train/labels/._traffic_img1932_jpg.rf.c66526075ec3afc04d53a697cdf19542.txt  \n",
            "  inflating: +_2863_640_640_label_ACCIDENT_DETECTION.v1i.yolov7pytorch/train/labels/severity_V17_jpg.rf.db8fa4de3712ea4a5d41dda96bb6bc19.txt  \n",
            "  inflating: __MACOSX/+_2863_640_640_label_ACCIDENT_DETECTION.v1i.yolov7pytorch/train/labels/._severity_V17_jpg.rf.db8fa4de3712ea4a5d41dda96bb6bc19.txt  \n",
            "  inflating: +_2863_640_640_label_ACCIDENT_DETECTION.v1i.yolov7pytorch/train/labels/FLIP_CAR_V138_jpg.rf.e825351c6c211a5d1708763cdaaf938e.txt  \n",
            "  inflating: __MACOSX/+_2863_640_640_label_ACCIDENT_DETECTION.v1i.yolov7pytorch/train/labels/._FLIP_CAR_V138_jpg.rf.e825351c6c211a5d1708763cdaaf938e.txt  \n",
            "  inflating: +_2863_640_640_label_ACCIDENT_DETECTION.v1i.yolov7pytorch/train/labels/traffic_img693_jpg.rf.f2422332a2576120d3d4af24fde5923f.txt  \n",
            "  inflating: __MACOSX/+_2863_640_640_label_ACCIDENT_DETECTION.v1i.yolov7pytorch/train/labels/._traffic_img693_jpg.rf.f2422332a2576120d3d4af24fde5923f.txt  \n",
            "  inflating: +_2863_640_640_label_ACCIDENT_DETECTION.v1i.yolov7pytorch/train/labels/severityV2_31_jpg.rf.943665df0c629f36c0d81615405bdeea.txt  \n",
            "  inflating: __MACOSX/+_2863_640_640_label_ACCIDENT_DETECTION.v1i.yolov7pytorch/train/labels/._severityV2_31_jpg.rf.943665df0c629f36c0d81615405bdeea.txt  \n",
            "  inflating: +_2863_640_640_label_ACCIDENT_DETECTION.v1i.yolov7pytorch/train/labels/traffic_img783_jpg.rf.8b47f49c0b8c78f59a9149cb9a12bd19.txt  \n",
            "  inflating: __MACOSX/+_2863_640_640_label_ACCIDENT_DETECTION.v1i.yolov7pytorch/train/labels/._traffic_img783_jpg.rf.8b47f49c0b8c78f59a9149cb9a12bd19.txt  \n",
            "  inflating: +_2863_640_640_label_ACCIDENT_DETECTION.v1i.yolov7pytorch/train/labels/download_jpg.rf.89b967b81998374251e0cd26a8e98fee.txt  \n",
            "  inflating: __MACOSX/+_2863_640_640_label_ACCIDENT_DETECTION.v1i.yolov7pytorch/train/labels/._download_jpg.rf.89b967b81998374251e0cd26a8e98fee.txt  \n",
            "  inflating: +_2863_640_640_label_ACCIDENT_DETECTION.v1i.yolov7pytorch/train/labels/download_jpg.rf.01d2c4fbb67c44c52b77b4332326c617.txt  \n",
            "  inflating: __MACOSX/+_2863_640_640_label_ACCIDENT_DETECTION.v1i.yolov7pytorch/train/labels/._download_jpg.rf.01d2c4fbb67c44c52b77b4332326c617.txt  \n",
            "  inflating: +_2863_640_640_label_ACCIDENT_DETECTION.v1i.yolov7pytorch/train/labels/download-1_jpg.rf.ea18e9a7bba4993644335635aeaa8571.txt  \n",
            "  inflating: __MACOSX/+_2863_640_640_label_ACCIDENT_DETECTION.v1i.yolov7pytorch/train/labels/._download-1_jpg.rf.ea18e9a7bba4993644335635aeaa8571.txt  \n",
            "  inflating: +_2863_640_640_label_ACCIDENT_DETECTION.v1i.yolov7pytorch/train/labels/images-5_jpg.rf.bcdbd2f75961daf8aa62da87468b2c53.txt  \n",
            "  inflating: __MACOSX/+_2863_640_640_label_ACCIDENT_DETECTION.v1i.yolov7pytorch/train/labels/._images-5_jpg.rf.bcdbd2f75961daf8aa62da87468b2c53.txt  \n",
            "  inflating: +_2863_640_640_label_ACCIDENT_DETECTION.v1i.yolov7pytorch/train/labels/images-16_jpg.rf.f22c73bd8cc0de1f563f625ee94f9fe0.txt  \n",
            "  inflating: __MACOSX/+_2863_640_640_label_ACCIDENT_DETECTION.v1i.yolov7pytorch/train/labels/._images-16_jpg.rf.f22c73bd8cc0de1f563f625ee94f9fe0.txt  \n",
            "  inflating: +_2863_640_640_label_ACCIDENT_DETECTION.v1i.yolov7pytorch/train/labels/traffic_img1466_jpg.rf.ca7ece74e9d930cc7592c19dee83206c.txt  \n",
            "  inflating: __MACOSX/+_2863_640_640_label_ACCIDENT_DETECTION.v1i.yolov7pytorch/train/labels/._traffic_img1466_jpg.rf.ca7ece74e9d930cc7592c19dee83206c.txt  \n",
            "  inflating: +_2863_640_640_label_ACCIDENT_DETECTION.v1i.yolov7pytorch/train/labels/severity_V130_jpg.rf.d546bff68098a7f7063b72956cdf8df6.txt  \n",
            "  inflating: __MACOSX/+_2863_640_640_label_ACCIDENT_DETECTION.v1i.yolov7pytorch/train/labels/._severity_V130_jpg.rf.d546bff68098a7f7063b72956cdf8df6.txt  \n",
            "  inflating: +_2863_640_640_label_ACCIDENT_DETECTION.v1i.yolov7pytorch/train/labels/FLIP_CAR_V172_jpg.rf.a6db9e24637586e75b90ad3a21dcb755.txt  \n",
            "  inflating: __MACOSX/+_2863_640_640_label_ACCIDENT_DETECTION.v1i.yolov7pytorch/train/labels/._FLIP_CAR_V172_jpg.rf.a6db9e24637586e75b90ad3a21dcb755.txt  \n",
            "  inflating: +_2863_640_640_label_ACCIDENT_DETECTION.v1i.yolov7pytorch/train/labels/traffic_img795_jpg.rf.fc00742dea484397ca334c79bf404e3c.txt  \n",
            "  inflating: __MACOSX/+_2863_640_640_label_ACCIDENT_DETECTION.v1i.yolov7pytorch/train/labels/._traffic_img795_jpg.rf.fc00742dea484397ca334c79bf404e3c.txt  \n",
            "  inflating: +_2863_640_640_label_ACCIDENT_DETECTION.v1i.yolov7pytorch/train/labels/25641839_web1_210627-GNG-millstream-accident-_1_jpg.rf.d8ca5ac5d3982cda3750f3efc08adc57.txt  \n",
            "  inflating: __MACOSX/+_2863_640_640_label_ACCIDENT_DETECTION.v1i.yolov7pytorch/train/labels/._25641839_web1_210627-GNG-millstream-accident-_1_jpg.rf.d8ca5ac5d3982cda3750f3efc08adc57.txt  \n",
            "  inflating: +_2863_640_640_label_ACCIDENT_DETECTION.v1i.yolov7pytorch/train/labels/severV19_jpg.rf.cccf5c91be186a98e30d24d90514a3fd.txt  \n",
            "  inflating: __MACOSX/+_2863_640_640_label_ACCIDENT_DETECTION.v1i.yolov7pytorch/train/labels/._severV19_jpg.rf.cccf5c91be186a98e30d24d90514a3fd.txt  \n",
            "  inflating: +_2863_640_640_label_ACCIDENT_DETECTION.v1i.yolov7pytorch/train/labels/Semi-RealisticVD-203_jpg.rf.e407469e37729cdac86aab94940a29fe.txt  \n",
            "  inflating: __MACOSX/+_2863_640_640_label_ACCIDENT_DETECTION.v1i.yolov7pytorch/train/labels/._Semi-RealisticVD-203_jpg.rf.e407469e37729cdac86aab94940a29fe.txt  \n",
            "  inflating: +_2863_640_640_label_ACCIDENT_DETECTION.v1i.yolov7pytorch/train/labels/images-3_jpg.rf.acc9018a75c2587f32957ffd4f0050e4.txt  \n",
            "  inflating: __MACOSX/+_2863_640_640_label_ACCIDENT_DETECTION.v1i.yolov7pytorch/train/labels/._images-3_jpg.rf.acc9018a75c2587f32957ffd4f0050e4.txt  \n",
            "  inflating: +_2863_640_640_label_ACCIDENT_DETECTION.v1i.yolov7pytorch/train/labels/severityV4_73_jpg.rf.80d096d91e61a0e67067c901b6d8b4d5.txt  \n",
            "  inflating: __MACOSX/+_2863_640_640_label_ACCIDENT_DETECTION.v1i.yolov7pytorch/train/labels/._severityV4_73_jpg.rf.80d096d91e61a0e67067c901b6d8b4d5.txt  \n",
            "  inflating: +_2863_640_640_label_ACCIDENT_DETECTION.v1i.yolov7pytorch/train/labels/severity_V115_jpg.rf.bfa9dbd9f16c044039ddf63743c04474.txt  \n",
            "  inflating: __MACOSX/+_2863_640_640_label_ACCIDENT_DETECTION.v1i.yolov7pytorch/train/labels/._severity_V115_jpg.rf.bfa9dbd9f16c044039ddf63743c04474.txt  \n",
            "  inflating: +_2863_640_640_label_ACCIDENT_DETECTION.v1i.yolov7pytorch/train/labels/971_jpeg_jpg.rf.c2eb69124c8ca408f0a13386ee4c0be5.txt  \n",
            "  inflating: __MACOSX/+_2863_640_640_label_ACCIDENT_DETECTION.v1i.yolov7pytorch/train/labels/._971_jpeg_jpg.rf.c2eb69124c8ca408f0a13386ee4c0be5.txt  \n",
            "  inflating: +_2863_640_640_label_ACCIDENT_DETECTION.v1i.yolov7pytorch/train/labels/severity_V119_jpg.rf.ed38dad8d7f2919d103a424df3a77cd8.txt  \n",
            "  inflating: __MACOSX/+_2863_640_640_label_ACCIDENT_DETECTION.v1i.yolov7pytorch/train/labels/._severity_V119_jpg.rf.ed38dad8d7f2919d103a424df3a77cd8.txt  \n",
            "  inflating: +_2863_640_640_label_ACCIDENT_DETECTION.v1i.yolov7pytorch/train/labels/1001_jpeg_jpg.rf.9651cfc0a70bc09f9f27612f931d5fb1.txt  \n",
            "  inflating: __MACOSX/+_2863_640_640_label_ACCIDENT_DETECTION.v1i.yolov7pytorch/train/labels/._1001_jpeg_jpg.rf.9651cfc0a70bc09f9f27612f931d5fb1.txt  \n",
            "  inflating: +_2863_640_640_label_ACCIDENT_DETECTION.v1i.yolov7pytorch/train/labels/severityV4_13_jpg.rf.faeb3cf7860974a93de36bc0daca2442.txt  \n",
            "  inflating: __MACOSX/+_2863_640_640_label_ACCIDENT_DETECTION.v1i.yolov7pytorch/train/labels/._severityV4_13_jpg.rf.faeb3cf7860974a93de36bc0daca2442.txt  \n",
            "  inflating: +_2863_640_640_label_ACCIDENT_DETECTION.v1i.yolov7pytorch/train/labels/images-26_jpg.rf.2540915bb00945b74c435d82e88ecf52.txt  \n",
            "  inflating: __MACOSX/+_2863_640_640_label_ACCIDENT_DETECTION.v1i.yolov7pytorch/train/labels/._images-26_jpg.rf.2540915bb00945b74c435d82e88ecf52.txt  \n",
            "  inflating: +_2863_640_640_label_ACCIDENT_DETECTION.v1i.yolov7pytorch/train/labels/traffic_img67_jpg.rf.6338cb0edf712827c2dc4cf3787ff54e.txt  \n",
            "  inflating: __MACOSX/+_2863_640_640_label_ACCIDENT_DETECTION.v1i.yolov7pytorch/train/labels/._traffic_img67_jpg.rf.6338cb0edf712827c2dc4cf3787ff54e.txt  \n",
            "  inflating: +_2863_640_640_label_ACCIDENT_DETECTION.v1i.yolov7pytorch/train/labels/1181_jpeg_jpg.rf.dce8614ed917d61f304bc45108551816.txt  \n",
            "  inflating: __MACOSX/+_2863_640_640_label_ACCIDENT_DETECTION.v1i.yolov7pytorch/train/labels/._1181_jpeg_jpg.rf.dce8614ed917d61f304bc45108551816.txt  \n",
            "  inflating: +_2863_640_640_label_ACCIDENT_DETECTION.v1i.yolov7pytorch/train/labels/168_jpeg_jpg.rf.e9ea60f95800852266fa09643f276b55.txt  \n",
            "  inflating: __MACOSX/+_2863_640_640_label_ACCIDENT_DETECTION.v1i.yolov7pytorch/train/labels/._168_jpeg_jpg.rf.e9ea60f95800852266fa09643f276b55.txt  \n",
            "  inflating: +_2863_640_640_label_ACCIDENT_DETECTION.v1i.yolov7pytorch/train/labels/severityV3_17_jpeg_jpg.rf.ac00824c0bc2797f7e3a902790d0d996.txt  \n",
            "  inflating: __MACOSX/+_2863_640_640_label_ACCIDENT_DETECTION.v1i.yolov7pytorch/train/labels/._severityV3_17_jpeg_jpg.rf.ac00824c0bc2797f7e3a902790d0d996.txt  \n",
            "  inflating: +_2863_640_640_label_ACCIDENT_DETECTION.v1i.yolov7pytorch/train/labels/images-24_jpg.rf.ea6d2d0358adb1ff908b1af5dd8639c8.txt  \n",
            "  inflating: __MACOSX/+_2863_640_640_label_ACCIDENT_DETECTION.v1i.yolov7pytorch/train/labels/._images-24_jpg.rf.ea6d2d0358adb1ff908b1af5dd8639c8.txt  \n",
            "  inflating: +_2863_640_640_label_ACCIDENT_DETECTION.v1i.yolov7pytorch/train/labels/severity_V11_jpg.rf.d997d6c1e0ff845fe3894b51e8dfd862.txt  \n",
            "  inflating: __MACOSX/+_2863_640_640_label_ACCIDENT_DETECTION.v1i.yolov7pytorch/train/labels/._severity_V11_jpg.rf.d997d6c1e0ff845fe3894b51e8dfd862.txt  \n",
            "  inflating: +_2863_640_640_label_ACCIDENT_DETECTION.v1i.yolov7pytorch/train/labels/traffic_img1920_jpg.rf.60134b19786a697e611426f03fffea7f.txt  \n",
            "  inflating: __MACOSX/+_2863_640_640_label_ACCIDENT_DETECTION.v1i.yolov7pytorch/train/labels/._traffic_img1920_jpg.rf.60134b19786a697e611426f03fffea7f.txt  \n",
            "  inflating: +_2863_640_640_label_ACCIDENT_DETECTION.v1i.yolov7pytorch/train/labels/severityV3_19_jpeg_jpg.rf.586d2ee6a519551f68d450b9449b5916.txt  \n",
            "  inflating: __MACOSX/+_2863_640_640_label_ACCIDENT_DETECTION.v1i.yolov7pytorch/train/labels/._severityV3_19_jpeg_jpg.rf.586d2ee6a519551f68d450b9449b5916.txt  \n",
            "  inflating: +_2863_640_640_label_ACCIDENT_DETECTION.v1i.yolov7pytorch/train/labels/traffic_img665_jpg.rf.70d06a9985547aad09ffff31c9f1345e.txt  \n",
            "  inflating: __MACOSX/+_2863_640_640_label_ACCIDENT_DETECTION.v1i.yolov7pytorch/train/labels/._traffic_img665_jpg.rf.70d06a9985547aad09ffff31c9f1345e.txt  \n",
            "  inflating: +_2863_640_640_label_ACCIDENT_DETECTION.v1i.yolov7pytorch/train/labels/sev3_jpg.rf.a966278e5b8027a53a083ca4979ef907.txt  \n",
            "  inflating: __MACOSX/+_2863_640_640_label_ACCIDENT_DETECTION.v1i.yolov7pytorch/train/labels/._sev3_jpg.rf.a966278e5b8027a53a083ca4979ef907.txt  \n",
            "  inflating: +_2863_640_640_label_ACCIDENT_DETECTION.v1i.yolov7pytorch/train/labels/Severity_Detect_V9_jpg.rf.d9f204f91b34d1b9934bbe028de2f3ef.txt  \n",
            "  inflating: __MACOSX/+_2863_640_640_label_ACCIDENT_DETECTION.v1i.yolov7pytorch/train/labels/._Severity_Detect_V9_jpg.rf.d9f204f91b34d1b9934bbe028de2f3ef.txt  \n",
            "  inflating: +_2863_640_640_label_ACCIDENT_DETECTION.v1i.yolov7pytorch/train/labels/severityV4_86_jpg.rf.9876863bca532b403a39b6bed314d9cf.txt  \n",
            "  inflating: __MACOSX/+_2863_640_640_label_ACCIDENT_DETECTION.v1i.yolov7pytorch/train/labels/._severityV4_86_jpg.rf.9876863bca532b403a39b6bed314d9cf.txt  \n",
            "  inflating: +_2863_640_640_label_ACCIDENT_DETECTION.v1i.yolov7pytorch/train/labels/4-105_jpg.rf.863212e859206b2f15ded9bd243c3599.txt  \n",
            "  inflating: __MACOSX/+_2863_640_640_label_ACCIDENT_DETECTION.v1i.yolov7pytorch/train/labels/._4-105_jpg.rf.863212e859206b2f15ded9bd243c3599.txt  \n",
            "  inflating: +_2863_640_640_label_ACCIDENT_DETECTION.v1i.yolov7pytorch/train/labels/images-2_jpg.rf.cd6343bd597cd209e64a8488a174f0d8.txt  \n",
            "  inflating: __MACOSX/+_2863_640_640_label_ACCIDENT_DETECTION.v1i.yolov7pytorch/train/labels/._images-2_jpg.rf.cd6343bd597cd209e64a8488a174f0d8.txt  \n",
            "  inflating: +_2863_640_640_label_ACCIDENT_DETECTION.v1i.yolov7pytorch/train/labels/Semi-RealisticVD-217_jpg.rf.209fed633eae5f185dcbfadd7143d5f0.txt  \n",
            "  inflating: __MACOSX/+_2863_640_640_label_ACCIDENT_DETECTION.v1i.yolov7pytorch/train/labels/._Semi-RealisticVD-217_jpg.rf.209fed633eae5f185dcbfadd7143d5f0.txt  \n",
            "  inflating: +_2863_640_640_label_ACCIDENT_DETECTION.v1i.yolov7pytorch/train/labels/accidentFrame3948_jpg.rf.bc9d5499721c781864f491f9cb4dcad4.txt  \n",
            "  inflating: __MACOSX/+_2863_640_640_label_ACCIDENT_DETECTION.v1i.yolov7pytorch/train/labels/._accidentFrame3948_jpg.rf.bc9d5499721c781864f491f9cb4dcad4.txt  \n",
            "  inflating: +_2863_640_640_label_ACCIDENT_DETECTION.v1i.yolov7pytorch/train/labels/Severity_Detect_V3_jpg.rf.edf718370283237d9117461e3b49ea83.txt  \n",
            "  inflating: __MACOSX/+_2863_640_640_label_ACCIDENT_DETECTION.v1i.yolov7pytorch/train/labels/._Severity_Detect_V3_jpg.rf.edf718370283237d9117461e3b49ea83.txt  \n",
            "  inflating: +_2863_640_640_label_ACCIDENT_DETECTION.v1i.yolov7pytorch/train/labels/download-11_jpg.rf.f1f08e39c164a88a8e491b1eb055258f.txt  \n",
            "  inflating: __MACOSX/+_2863_640_640_label_ACCIDENT_DETECTION.v1i.yolov7pytorch/train/labels/._download-11_jpg.rf.f1f08e39c164a88a8e491b1eb055258f.txt  \n",
            "  inflating: +_2863_640_640_label_ACCIDENT_DETECTION.v1i.yolov7pytorch/train/labels/download-7_jpg.rf.d6fefddb973151a81ccc6d0397d26c80.txt  \n",
            "  inflating: __MACOSX/+_2863_640_640_label_ACCIDENT_DETECTION.v1i.yolov7pytorch/train/labels/._download-7_jpg.rf.d6fefddb973151a81ccc6d0397d26c80.txt  \n",
            "  inflating: +_2863_640_640_label_ACCIDENT_DETECTION.v1i.yolov7pytorch/train/labels/1083_jpeg_jpg.rf.d885cf891219ebb43d1d261a72ad2270.txt  \n",
            "  inflating: __MACOSX/+_2863_640_640_label_ACCIDENT_DETECTION.v1i.yolov7pytorch/train/labels/._1083_jpeg_jpg.rf.d885cf891219ebb43d1d261a72ad2270.txt  \n",
            "  inflating: +_2863_640_640_label_ACCIDENT_DETECTION.v1i.yolov7pytorch/train/labels/accidentFrame3211_jpg.rf.bd5976a12738bd7d880c50ca2dd72681.txt  \n",
            "  inflating: __MACOSX/+_2863_640_640_label_ACCIDENT_DETECTION.v1i.yolov7pytorch/train/labels/._accidentFrame3211_jpg.rf.bd5976a12738bd7d880c50ca2dd72681.txt  \n",
            "  inflating: +_2863_640_640_label_ACCIDENT_DETECTION.v1i.yolov7pytorch/train/labels/crashbetter_jpg.rf.e6cbf5e849967b90bdf74a332573f0c8.txt  \n",
            "  inflating: __MACOSX/+_2863_640_640_label_ACCIDENT_DETECTION.v1i.yolov7pytorch/train/labels/._crashbetter_jpg.rf.e6cbf5e849967b90bdf74a332573f0c8.txt  \n",
            "  inflating: +_2863_640_640_label_ACCIDENT_DETECTION.v1i.yolov7pytorch/train/labels/severityV4_88_jpg.rf.f2b877affd14d6af55428c0a0b4ebaf4.txt  \n",
            "  inflating: __MACOSX/+_2863_640_640_label_ACCIDENT_DETECTION.v1i.yolov7pytorch/train/labels/._severityV4_88_jpg.rf.f2b877affd14d6af55428c0a0b4ebaf4.txt  \n",
            "  inflating: +_2863_640_640_label_ACCIDENT_DETECTION.v1i.yolov7pytorch/train/labels/946_jpeg_jpg.rf.d3165197ffd959540e4735fe62669161.txt  \n",
            "  inflating: __MACOSX/+_2863_640_640_label_ACCIDENT_DETECTION.v1i.yolov7pytorch/train/labels/._946_jpeg_jpg.rf.d3165197ffd959540e4735fe62669161.txt  \n",
            "  inflating: +_2863_640_640_label_ACCIDENT_DETECTION.v1i.yolov7pytorch/train/labels/images-5_jpg.rf.daf26fe9a8fa2b1091db3be3dfb376c1.txt  \n",
            "  inflating: __MACOSX/+_2863_640_640_label_ACCIDENT_DETECTION.v1i.yolov7pytorch/train/labels/._images-5_jpg.rf.daf26fe9a8fa2b1091db3be3dfb376c1.txt  \n",
            "  inflating: +_2863_640_640_label_ACCIDENT_DETECTION.v1i.yolov7pytorch/train/labels/images-9_jpg.rf.ebcd026d8ca383e298857f0f2c8f19c8.txt  \n",
            "  inflating: __MACOSX/+_2863_640_640_label_ACCIDENT_DETECTION.v1i.yolov7pytorch/train/labels/._images-9_jpg.rf.ebcd026d8ca383e298857f0f2c8f19c8.txt  \n",
            "  inflating: +_2863_640_640_label_ACCIDENT_DETECTION.v1i.yolov7pytorch/train/labels/images-2_jpg.rf.e055f9d4ed837f4fd519c351cd633d0b.txt  \n",
            "  inflating: __MACOSX/+_2863_640_640_label_ACCIDENT_DETECTION.v1i.yolov7pytorch/train/labels/._images-2_jpg.rf.e055f9d4ed837f4fd519c351cd633d0b.txt  \n",
            "  inflating: +_2863_640_640_label_ACCIDENT_DETECTION.v1i.yolov7pytorch/train/labels/accidentFrame472_jpg.rf.22b92dca7a1c7d38776f3b76460b1b4c.txt  \n",
            "  inflating: __MACOSX/+_2863_640_640_label_ACCIDENT_DETECTION.v1i.yolov7pytorch/train/labels/._accidentFrame472_jpg.rf.22b92dca7a1c7d38776f3b76460b1b4c.txt  \n",
            "  inflating: +_2863_640_640_label_ACCIDENT_DETECTION.v1i.yolov7pytorch/train/labels/traffic_img73_jpg.rf.a6f1d26498fc09ac15107af46ab24657.txt  \n",
            "  inflating: __MACOSX/+_2863_640_640_label_ACCIDENT_DETECTION.v1i.yolov7pytorch/train/labels/._traffic_img73_jpg.rf.a6f1d26498fc09ac15107af46ab24657.txt  \n",
            "  inflating: +_2863_640_640_label_ACCIDENT_DETECTION.v1i.yolov7pytorch/train/labels/severityV4_92_jpg.rf.336ec9691df5fbae005a0faa89d6d4ab.txt  \n",
            "  inflating: __MACOSX/+_2863_640_640_label_ACCIDENT_DETECTION.v1i.yolov7pytorch/train/labels/._severityV4_92_jpg.rf.336ec9691df5fbae005a0faa89d6d4ab.txt  \n",
            "  inflating: +_2863_640_640_label_ACCIDENT_DETECTION.v1i.yolov7pytorch/train/labels/severity_V126_jpg.rf.f29562b49840ac899cb5e6569af38ac7.txt  \n",
            "  inflating: __MACOSX/+_2863_640_640_label_ACCIDENT_DETECTION.v1i.yolov7pytorch/train/labels/._severity_V126_jpg.rf.f29562b49840ac899cb5e6569af38ac7.txt  \n",
            "  inflating: +_2863_640_640_label_ACCIDENT_DETECTION.v1i.yolov7pytorch/train/labels/Semi-RealisticVD-30_jpg.rf.c963d3eb864dc02fb0d012d7874af869.txt  \n",
            "  inflating: __MACOSX/+_2863_640_640_label_ACCIDENT_DETECTION.v1i.yolov7pytorch/train/labels/._Semi-RealisticVD-30_jpg.rf.c963d3eb864dc02fb0d012d7874af869.txt  \n",
            "  inflating: +_2863_640_640_label_ACCIDENT_DETECTION.v1i.yolov7pytorch/train/labels/images-41_jpg.rf.e79ca5a43447bcfef1df142a09d43932.txt  \n",
            "  inflating: __MACOSX/+_2863_640_640_label_ACCIDENT_DETECTION.v1i.yolov7pytorch/train/labels/._images-41_jpg.rf.e79ca5a43447bcfef1df142a09d43932.txt  \n",
            "  inflating: +_2863_640_640_label_ACCIDENT_DETECTION.v1i.yolov7pytorch/train/labels/severityV3_37_jpeg_jpg.rf.bf04880739e58ec475a06cc0c412fbb3.txt  \n",
            "  inflating: __MACOSX/+_2863_640_640_label_ACCIDENT_DETECTION.v1i.yolov7pytorch/train/labels/._severityV3_37_jpeg_jpg.rf.bf04880739e58ec475a06cc0c412fbb3.txt  \n",
            "  inflating: +_2863_640_640_label_ACCIDENT_DETECTION.v1i.yolov7pytorch/train/labels/LakeStevens_Fatal_jpg.rf.b873d98888d3391e978033820c016eb5.txt  \n",
            "  inflating: __MACOSX/+_2863_640_640_label_ACCIDENT_DETECTION.v1i.yolov7pytorch/train/labels/._LakeStevens_Fatal_jpg.rf.b873d98888d3391e978033820c016eb5.txt  \n",
            "  inflating: +_2863_640_640_label_ACCIDENT_DETECTION.v1i.yolov7pytorch/train/labels/accidentFrame2744_jpg.rf.6d8b094c1071f4616ebc2c34b3f0455a.txt  \n",
            "  inflating: __MACOSX/+_2863_640_640_label_ACCIDENT_DETECTION.v1i.yolov7pytorch/train/labels/._accidentFrame2744_jpg.rf.6d8b094c1071f4616ebc2c34b3f0455a.txt  \n",
            "  inflating: +_2863_640_640_label_ACCIDENT_DETECTION.v1i.yolov7pytorch/train/labels/severityV2_18_jpg.rf.f42b980a93e849c7e82167431a96fb09.txt  \n",
            "  inflating: __MACOSX/+_2863_640_640_label_ACCIDENT_DETECTION.v1i.yolov7pytorch/train/labels/._severityV2_18_jpg.rf.f42b980a93e849c7e82167431a96fb09.txt  \n",
            "  inflating: +_2863_640_640_label_ACCIDENT_DETECTION.v1i.yolov7pytorch/train/labels/severityV4_3_jpg.rf.db94fc4097faa5a3337fcca5b04d598d.txt  \n",
            "  inflating: __MACOSX/+_2863_640_640_label_ACCIDENT_DETECTION.v1i.yolov7pytorch/train/labels/._severityV4_3_jpg.rf.db94fc4097faa5a3337fcca5b04d598d.txt  \n",
            "  inflating: +_2863_640_640_label_ACCIDENT_DETECTION.v1i.yolov7pytorch/train/labels/Semi-RealisticVD-45_jpg.rf.a1ad7900562e2afd02eb099061caf58f.txt  \n",
            "  inflating: __MACOSX/+_2863_640_640_label_ACCIDENT_DETECTION.v1i.yolov7pytorch/train/labels/._Semi-RealisticVD-45_jpg.rf.a1ad7900562e2afd02eb099061caf58f.txt  \n",
            "  inflating: +_2863_640_640_label_ACCIDENT_DETECTION.v1i.yolov7pytorch/train/labels/Severity_Detect_V31_jpg.rf.8b0979b564489ca0136c69db39cce7bf.txt  \n",
            "  inflating: __MACOSX/+_2863_640_640_label_ACCIDENT_DETECTION.v1i.yolov7pytorch/train/labels/._Severity_Detect_V31_jpg.rf.8b0979b564489ca0136c69db39cce7bf.txt  \n",
            "  inflating: +_2863_640_640_label_ACCIDENT_DETECTION.v1i.yolov7pytorch/train/labels/traffic_img1851_jpg.rf.470411cdf3b92da7b181afbb7419c880.txt  \n",
            "  inflating: __MACOSX/+_2863_640_640_label_ACCIDENT_DETECTION.v1i.yolov7pytorch/train/labels/._traffic_img1851_jpg.rf.470411cdf3b92da7b181afbb7419c880.txt  \n",
            "  inflating: +_2863_640_640_label_ACCIDENT_DETECTION.v1i.yolov7pytorch/train/labels/severity_V123_jpg.rf.e19f3b4a0c4e998ca060c095bbe2711f.txt  \n",
            "  inflating: __MACOSX/+_2863_640_640_label_ACCIDENT_DETECTION.v1i.yolov7pytorch/train/labels/._severity_V123_jpg.rf.e19f3b4a0c4e998ca060c095bbe2711f.txt  \n",
            "  inflating: +_2863_640_640_label_ACCIDENT_DETECTION.v1i.yolov7pytorch/train/labels/images-4_jpg.rf.bc18043a50a15f334c69c109d919b97f.txt  \n",
            "  inflating: __MACOSX/+_2863_640_640_label_ACCIDENT_DETECTION.v1i.yolov7pytorch/train/labels/._images-4_jpg.rf.bc18043a50a15f334c69c109d919b97f.txt  \n",
            "  inflating: +_2863_640_640_label_ACCIDENT_DETECTION.v1i.yolov7pytorch/train/labels/traffic_img1075_jpg.rf.f5eb80be2264f87304fe826466302ec9.txt  \n",
            "  inflating: __MACOSX/+_2863_640_640_label_ACCIDENT_DETECTION.v1i.yolov7pytorch/train/labels/._traffic_img1075_jpg.rf.f5eb80be2264f87304fe826466302ec9.txt  \n",
            "  inflating: +_2863_640_640_label_ACCIDENT_DETECTION.v1i.yolov7pytorch/train/labels/Severity_Detect_V7_jpg.rf.e070a4bc17ddd076a13c0f560e0b8b8d.txt  \n",
            "  inflating: __MACOSX/+_2863_640_640_label_ACCIDENT_DETECTION.v1i.yolov7pytorch/train/labels/._Severity_Detect_V7_jpg.rf.e070a4bc17ddd076a13c0f560e0b8b8d.txt  \n",
            "  inflating: +_2863_640_640_label_ACCIDENT_DETECTION.v1i.yolov7pytorch/train/labels/images-5_jpg.rf.5ea7bfa5ccd03b886945f5e050cd6f7a.txt  \n",
            "  inflating: __MACOSX/+_2863_640_640_label_ACCIDENT_DETECTION.v1i.yolov7pytorch/train/labels/._images-5_jpg.rf.5ea7bfa5ccd03b886945f5e050cd6f7a.txt  \n",
            "  inflating: +_2863_640_640_label_ACCIDENT_DETECTION.v1i.yolov7pytorch/train/labels/FLIP_CAR_V142_jpg.rf.a2ea35d6ddb0ea4ae92f25426229da6f.txt  \n",
            "  inflating: __MACOSX/+_2863_640_640_label_ACCIDENT_DETECTION.v1i.yolov7pytorch/train/labels/._FLIP_CAR_V142_jpg.rf.a2ea35d6ddb0ea4ae92f25426229da6f.txt  \n",
            "  inflating: +_2863_640_640_label_ACCIDENT_DETECTION.v1i.yolov7pytorch/train/labels/images-16_jpg.rf.83e52c38f6d20f99c57d5e600231e3f6.txt  \n",
            "  inflating: __MACOSX/+_2863_640_640_label_ACCIDENT_DETECTION.v1i.yolov7pytorch/train/labels/._images-16_jpg.rf.83e52c38f6d20f99c57d5e600231e3f6.txt  \n",
            "  inflating: +_2863_640_640_label_ACCIDENT_DETECTION.v1i.yolov7pytorch/train/labels/images-7_jpg.rf.77bd9f5e70183593f214f2c4fe0b56f3.txt  \n",
            "  inflating: __MACOSX/+_2863_640_640_label_ACCIDENT_DETECTION.v1i.yolov7pytorch/train/labels/._images-7_jpg.rf.77bd9f5e70183593f214f2c4fe0b56f3.txt  \n",
            "  inflating: +_2863_640_640_label_ACCIDENT_DETECTION.v1i.yolov7pytorch/train/labels/2Q__-10-_jpg.rf.c6eeb7e2cd17069523b4a4cc0d933da4.txt  \n",
            "  inflating: __MACOSX/+_2863_640_640_label_ACCIDENT_DETECTION.v1i.yolov7pytorch/train/labels/._2Q__-10-_jpg.rf.c6eeb7e2cd17069523b4a4cc0d933da4.txt  \n",
            "  inflating: +_2863_640_640_label_ACCIDENT_DETECTION.v1i.yolov7pytorch/train/labels/traffic_img1590_jpg.rf.561635d1101e6659ac0d8d8caed8a391.txt  \n",
            "  inflating: __MACOSX/+_2863_640_640_label_ACCIDENT_DETECTION.v1i.yolov7pytorch/train/labels/._traffic_img1590_jpg.rf.561635d1101e6659ac0d8d8caed8a391.txt  \n",
            "  inflating: +_2863_640_640_label_ACCIDENT_DETECTION.v1i.yolov7pytorch/train/labels/images-28_jpg.rf.b6e2e2e955309bcbbb5c30533876e9a0.txt  \n",
            "  inflating: __MACOSX/+_2863_640_640_label_ACCIDENT_DETECTION.v1i.yolov7pytorch/train/labels/._images-28_jpg.rf.b6e2e2e955309bcbbb5c30533876e9a0.txt  \n",
            "  inflating: +_2863_640_640_label_ACCIDENT_DETECTION.v1i.yolov7pytorch/train/labels/images-8_jpg.rf.48692e84ebf10e1cdb2b5c5243df3b44.txt  \n",
            "  inflating: __MACOSX/+_2863_640_640_label_ACCIDENT_DETECTION.v1i.yolov7pytorch/train/labels/._images-8_jpg.rf.48692e84ebf10e1cdb2b5c5243df3b44.txt  \n",
            "  inflating: +_2863_640_640_label_ACCIDENT_DETECTION.v1i.yolov7pytorch/train/labels/170_jpeg_jpg.rf.c91ade14c70c2ba6b67a9e9d987431d9.txt  \n",
            "  inflating: __MACOSX/+_2863_640_640_label_ACCIDENT_DETECTION.v1i.yolov7pytorch/train/labels/._170_jpeg_jpg.rf.c91ade14c70c2ba6b67a9e9d987431d9.txt  \n",
            "  inflating: +_2863_640_640_label_ACCIDENT_DETECTION.v1i.yolov7pytorch/train/labels/severityV4_6_jpg.rf.58d7b7ae41efd9374971b834c56f667a.txt  \n",
            "  inflating: __MACOSX/+_2863_640_640_label_ACCIDENT_DETECTION.v1i.yolov7pytorch/train/labels/._severityV4_6_jpg.rf.58d7b7ae41efd9374971b834c56f667a.txt  \n",
            "  inflating: +_2863_640_640_label_ACCIDENT_DETECTION.v1i.yolov7pytorch/train/labels/accidentFrame472_jpg.rf.5f8686f1166433a2e3bfc8ef4ed7fea4.txt  \n",
            "  inflating: __MACOSX/+_2863_640_640_label_ACCIDENT_DETECTION.v1i.yolov7pytorch/train/labels/._accidentFrame472_jpg.rf.5f8686f1166433a2e3bfc8ef4ed7fea4.txt  \n",
            "  inflating: +_2863_640_640_label_ACCIDENT_DETECTION.v1i.yolov7pytorch/train/labels/images-1_jpg.rf.2ddabee639b9e64ad978247ea2e423d4.txt  \n",
            "  inflating: __MACOSX/+_2863_640_640_label_ACCIDENT_DETECTION.v1i.yolov7pytorch/train/labels/._images-1_jpg.rf.2ddabee639b9e64ad978247ea2e423d4.txt  \n",
            "  inflating: +_2863_640_640_label_ACCIDENT_DETECTION.v1i.yolov7pytorch/train/labels/images-20_jpg.rf.cb79127f74cd443c6b93ce350610c972.txt  \n",
            "  inflating: __MACOSX/+_2863_640_640_label_ACCIDENT_DETECTION.v1i.yolov7pytorch/train/labels/._images-20_jpg.rf.cb79127f74cd443c6b93ce350610c972.txt  \n",
            "  inflating: +_2863_640_640_label_ACCIDENT_DETECTION.v1i.yolov7pytorch/train/labels/buy2_jpg.rf.5135e9fab0ed3bbf8cf2ff54acb5d662.txt  \n",
            "  inflating: __MACOSX/+_2863_640_640_label_ACCIDENT_DETECTION.v1i.yolov7pytorch/train/labels/._buy2_jpg.rf.5135e9fab0ed3bbf8cf2ff54acb5d662.txt  \n",
            "  inflating: +_2863_640_640_label_ACCIDENT_DETECTION.v1i.yolov7pytorch/train/labels/images-6_jpg.rf.d0ef553f409d03d9a7f9a62cc256e317.txt  \n",
            "  inflating: __MACOSX/+_2863_640_640_label_ACCIDENT_DETECTION.v1i.yolov7pytorch/train/labels/._images-6_jpg.rf.d0ef553f409d03d9a7f9a62cc256e317.txt  \n",
            "  inflating: +_2863_640_640_label_ACCIDENT_DETECTION.v1i.yolov7pytorch/train/labels/Abu-Dhabi-accident-CCTV-_16d80b9b401_large_jpg.rf.aee2a91791af608cb7c1f3ba05504aee.txt  \n",
            "  inflating: __MACOSX/+_2863_640_640_label_ACCIDENT_DETECTION.v1i.yolov7pytorch/train/labels/._Abu-Dhabi-accident-CCTV-_16d80b9b401_large_jpg.rf.aee2a91791af608cb7c1f3ba05504aee.txt  \n",
            "  inflating: +_2863_640_640_label_ACCIDENT_DETECTION.v1i.yolov7pytorch/train/labels/severityV4_62_jpg.rf.e315749814d87179e5608273fd008a9c.txt  \n",
            "  inflating: __MACOSX/+_2863_640_640_label_ACCIDENT_DETECTION.v1i.yolov7pytorch/train/labels/._severityV4_62_jpg.rf.e315749814d87179e5608273fd008a9c.txt  \n",
            "  inflating: +_2863_640_640_label_ACCIDENT_DETECTION.v1i.yolov7pytorch/train/labels/images-22_jpg.rf.b5bdc33e2d51bcd82c96766b289bb5dd.txt  \n",
            "  inflating: __MACOSX/+_2863_640_640_label_ACCIDENT_DETECTION.v1i.yolov7pytorch/train/labels/._images-22_jpg.rf.b5bdc33e2d51bcd82c96766b289bb5dd.txt  \n",
            "  inflating: +_2863_640_640_label_ACCIDENT_DETECTION.v1i.yolov7pytorch/train/labels/severityV2_21_jpg.rf.214c3f8c4ddcf44a3d6665ee49bb4300.txt  \n",
            "  inflating: __MACOSX/+_2863_640_640_label_ACCIDENT_DETECTION.v1i.yolov7pytorch/train/labels/._severityV2_21_jpg.rf.214c3f8c4ddcf44a3d6665ee49bb4300.txt  \n",
            "  inflating: +_2863_640_640_label_ACCIDENT_DETECTION.v1i.yolov7pytorch/train/labels/images-12_jpg.rf.77d114a8cc808de9e55e583056bd6c80.txt  \n",
            "  inflating: __MACOSX/+_2863_640_640_label_ACCIDENT_DETECTION.v1i.yolov7pytorch/train/labels/._images-12_jpg.rf.77d114a8cc808de9e55e583056bd6c80.txt  \n",
            "  inflating: +_2863_640_640_label_ACCIDENT_DETECTION.v1i.yolov7pytorch/train/labels/images-26_jpg.rf.0fa837d9f2cd9204f1f600d401c20cb6.txt  \n",
            "  inflating: __MACOSX/+_2863_640_640_label_ACCIDENT_DETECTION.v1i.yolov7pytorch/train/labels/._images-26_jpg.rf.0fa837d9f2cd9204f1f600d401c20cb6.txt  \n",
            "  inflating: +_2863_640_640_label_ACCIDENT_DETECTION.v1i.yolov7pytorch/train/labels/severityV3_32_jpeg_jpg.rf.dc5e7bc7c3e12571ec8379421abb96a1.txt  \n",
            "  inflating: __MACOSX/+_2863_640_640_label_ACCIDENT_DETECTION.v1i.yolov7pytorch/train/labels/._severityV3_32_jpeg_jpg.rf.dc5e7bc7c3e12571ec8379421abb96a1.txt  \n",
            "  inflating: +_2863_640_640_label_ACCIDENT_DETECTION.v1i.yolov7pytorch/train/labels/Severity_Detect_V24_jpg.rf.f02b82bafecba9faf353b9ff160b2de9.txt  \n",
            "  inflating: __MACOSX/+_2863_640_640_label_ACCIDENT_DETECTION.v1i.yolov7pytorch/train/labels/._Severity_Detect_V24_jpg.rf.f02b82bafecba9faf353b9ff160b2de9.txt  \n",
            "  inflating: +_2863_640_640_label_ACCIDENT_DETECTION.v1i.yolov7pytorch/train/labels/severityV3_31_jpeg_jpg.rf.fe501e50bd97f4750480cc1c6c15ef86.txt  \n",
            "  inflating: __MACOSX/+_2863_640_640_label_ACCIDENT_DETECTION.v1i.yolov7pytorch/train/labels/._severityV3_31_jpeg_jpg.rf.fe501e50bd97f4750480cc1c6c15ef86.txt  \n",
            "  inflating: +_2863_640_640_label_ACCIDENT_DETECTION.v1i.yolov7pytorch/train/labels/Severity_Detect_V25_jpg.rf.fe2e638595c24ec775ed8ff380945400.txt  \n",
            "  inflating: __MACOSX/+_2863_640_640_label_ACCIDENT_DETECTION.v1i.yolov7pytorch/train/labels/._Severity_Detect_V25_jpg.rf.fe2e638595c24ec775ed8ff380945400.txt  \n",
            "  inflating: +_2863_640_640_label_ACCIDENT_DETECTION.v1i.yolov7pytorch/train/labels/severV14_jpg.rf.a1c5934e43d655acc5be5069f697015e.txt  \n",
            "  inflating: __MACOSX/+_2863_640_640_label_ACCIDENT_DETECTION.v1i.yolov7pytorch/train/labels/._severV14_jpg.rf.a1c5934e43d655acc5be5069f697015e.txt  \n",
            "  inflating: +_2863_640_640_label_ACCIDENT_DETECTION.v1i.yolov7pytorch/train/labels/traffic_img649_jpg.rf.e0057b75599032b2ffea4af7dd9b83ce.txt  \n",
            "  inflating: __MACOSX/+_2863_640_640_label_ACCIDENT_DETECTION.v1i.yolov7pytorch/train/labels/._traffic_img649_jpg.rf.e0057b75599032b2ffea4af7dd9b83ce.txt  \n",
            "  inflating: +_2863_640_640_label_ACCIDENT_DETECTION.v1i.yolov7pytorch/train/labels/905_jpeg_jpg.rf.d3656be5525597f242a2d800c6c984c4.txt  \n",
            "  inflating: __MACOSX/+_2863_640_640_label_ACCIDENT_DETECTION.v1i.yolov7pytorch/train/labels/._905_jpeg_jpg.rf.d3656be5525597f242a2d800c6c984c4.txt  \n",
            "  inflating: +_2863_640_640_label_ACCIDENT_DETECTION.v1i.yolov7pytorch/train/labels/traffic_img1817_jpg.rf.f01187fbe3a800e02a4752e35b6399ae.txt  \n",
            "  inflating: __MACOSX/+_2863_640_640_label_ACCIDENT_DETECTION.v1i.yolov7pytorch/train/labels/._traffic_img1817_jpg.rf.f01187fbe3a800e02a4752e35b6399ae.txt  \n",
            "  inflating: +_2863_640_640_label_ACCIDENT_DETECTION.v1i.yolov7pytorch/train/labels/traffic_img129_jpg.rf.ef3008ff6375f402d19dc38093d8ee0c.txt  \n",
            "  inflating: __MACOSX/+_2863_640_640_label_ACCIDENT_DETECTION.v1i.yolov7pytorch/train/labels/._traffic_img129_jpg.rf.ef3008ff6375f402d19dc38093d8ee0c.txt  \n",
            "  inflating: +_2863_640_640_label_ACCIDENT_DETECTION.v1i.yolov7pytorch/train/labels/severityV2_1_jpg.rf.da59432658f43766bd78479022cad8c7.txt  \n",
            "  inflating: __MACOSX/+_2863_640_640_label_ACCIDENT_DETECTION.v1i.yolov7pytorch/train/labels/._severityV2_1_jpg.rf.da59432658f43766bd78479022cad8c7.txt  \n",
            "  inflating: +_2863_640_640_label_ACCIDENT_DETECTION.v1i.yolov7pytorch/train/labels/images-19_jpg.rf.293c0203e90948ba40cdeb27e4ce2404.txt  \n",
            "  inflating: __MACOSX/+_2863_640_640_label_ACCIDENT_DETECTION.v1i.yolov7pytorch/train/labels/._images-19_jpg.rf.293c0203e90948ba40cdeb27e4ce2404.txt  \n",
            "  inflating: +_2863_640_640_label_ACCIDENT_DETECTION.v1i.yolov7pytorch/train/labels/Severity_Detect_V11_jpg.rf.689948cae9aac2bcccaa72bb05290507.txt  \n",
            "  inflating: __MACOSX/+_2863_640_640_label_ACCIDENT_DETECTION.v1i.yolov7pytorch/train/labels/._Severity_Detect_V11_jpg.rf.689948cae9aac2bcccaa72bb05290507.txt  \n",
            "  inflating: +_2863_640_640_label_ACCIDENT_DETECTION.v1i.yolov7pytorch/train/labels/FLIP_CAR_V11_jpg.rf.f531f7f8aaafb0ec876c5f97d204ac17.txt  \n",
            "  inflating: __MACOSX/+_2863_640_640_label_ACCIDENT_DETECTION.v1i.yolov7pytorch/train/labels/._FLIP_CAR_V11_jpg.rf.f531f7f8aaafb0ec876c5f97d204ac17.txt  \n",
            "  inflating: +_2863_640_640_label_ACCIDENT_DETECTION.v1i.yolov7pytorch/train/labels/download_jpg.rf.139c85fce1e0432f0c9d4e929e2f5b39.txt  \n",
            "  inflating: __MACOSX/+_2863_640_640_label_ACCIDENT_DETECTION.v1i.yolov7pytorch/train/labels/._download_jpg.rf.139c85fce1e0432f0c9d4e929e2f5b39.txt  \n",
            "  inflating: +_2863_640_640_label_ACCIDENT_DETECTION.v1i.yolov7pytorch/train/labels/images-13_jpg.rf.2558049e245e541e26ff468476f96cb7.txt  \n",
            "  inflating: __MACOSX/+_2863_640_640_label_ACCIDENT_DETECTION.v1i.yolov7pytorch/train/labels/._images-13_jpg.rf.2558049e245e541e26ff468476f96cb7.txt  \n",
            "  inflating: +_2863_640_640_label_ACCIDENT_DETECTION.v1i.yolov7pytorch/train/labels/Severity_Detect_V13_jpg.rf.783b3b53da62ed101946bafba402d031.txt  \n",
            "  inflating: __MACOSX/+_2863_640_640_label_ACCIDENT_DETECTION.v1i.yolov7pytorch/train/labels/._Severity_Detect_V13_jpg.rf.783b3b53da62ed101946bafba402d031.txt  \n",
            "  inflating: +_2863_640_640_label_ACCIDENT_DETECTION.v1i.yolov7pytorch/train/labels/Severity_Detect_V39_jpg.rf.590adbe0a8574a745907df4d82d11af4.txt  \n",
            "  inflating: __MACOSX/+_2863_640_640_label_ACCIDENT_DETECTION.v1i.yolov7pytorch/train/labels/._Severity_Detect_V39_jpg.rf.590adbe0a8574a745907df4d82d11af4.txt  \n",
            "  inflating: +_2863_640_640_label_ACCIDENT_DETECTION.v1i.yolov7pytorch/train/labels/FLIP_CAR_V13_jpg.rf.c92f80a0552f7693ccb2651d2b9b0d4f.txt  \n",
            "  inflating: __MACOSX/+_2863_640_640_label_ACCIDENT_DETECTION.v1i.yolov7pytorch/train/labels/._FLIP_CAR_V13_jpg.rf.c92f80a0552f7693ccb2651d2b9b0d4f.txt  \n",
            "  inflating: +_2863_640_640_label_ACCIDENT_DETECTION.v1i.yolov7pytorch/train/labels/Severity_Detect_V40_jpg.rf.1020b5ea928818bc0836a0b036a3f335.txt  \n",
            "  inflating: __MACOSX/+_2863_640_640_label_ACCIDENT_DETECTION.v1i.yolov7pytorch/train/labels/._Severity_Detect_V40_jpg.rf.1020b5ea928818bc0836a0b036a3f335.txt  \n",
            "  inflating: +_2863_640_640_label_ACCIDENT_DETECTION.v1i.yolov7pytorch/train/labels/severity_V133_jpg.rf.d5306e643e8b1cf69a60abac705dd474.txt  \n",
            "  inflating: __MACOSX/+_2863_640_640_label_ACCIDENT_DETECTION.v1i.yolov7pytorch/train/labels/._severity_V133_jpg.rf.d5306e643e8b1cf69a60abac705dd474.txt  \n",
            "  inflating: +_2863_640_640_label_ACCIDENT_DETECTION.v1i.yolov7pytorch/train/labels/traffic_img1768_jpg.rf.79043284c3fe23f6e3ceed3d453c5b84.txt  \n",
            "  inflating: __MACOSX/+_2863_640_640_label_ACCIDENT_DETECTION.v1i.yolov7pytorch/train/labels/._traffic_img1768_jpg.rf.79043284c3fe23f6e3ceed3d453c5b84.txt  \n",
            "  inflating: +_2863_640_640_label_ACCIDENT_DETECTION.v1i.yolov7pytorch/train/labels/traffic_img1551_jpg.rf.92626282a83d39e9b466713d139b553c.txt  \n",
            "  inflating: __MACOSX/+_2863_640_640_label_ACCIDENT_DETECTION.v1i.yolov7pytorch/train/labels/._traffic_img1551_jpg.rf.92626282a83d39e9b466713d139b553c.txt  \n",
            "  inflating: +_2863_640_640_label_ACCIDENT_DETECTION.v1i.yolov7pytorch/train/labels/Semi-RealisticVD-20_jpg.rf.cb4f1002711ec6c0c1f675680105ab09.txt  \n",
            "  inflating: __MACOSX/+_2863_640_640_label_ACCIDENT_DETECTION.v1i.yolov7pytorch/train/labels/._Semi-RealisticVD-20_jpg.rf.cb4f1002711ec6c0c1f675680105ab09.txt  \n",
            "  inflating: +_2863_640_640_label_ACCIDENT_DETECTION.v1i.yolov7pytorch/train/labels/severityV4_18_jpg.rf.265e34d1201ce0fa207f6476dcb6696a.txt  \n",
            "  inflating: __MACOSX/+_2863_640_640_label_ACCIDENT_DETECTION.v1i.yolov7pytorch/train/labels/._severityV4_18_jpg.rf.265e34d1201ce0fa207f6476dcb6696a.txt  \n",
            "  inflating: +_2863_640_640_label_ACCIDENT_DETECTION.v1i.yolov7pytorch/train/labels/accidentFrame2762_jpg.rf.dbee068b68088e81283690cdaec0ce69.txt  \n",
            "  inflating: __MACOSX/+_2863_640_640_label_ACCIDENT_DETECTION.v1i.yolov7pytorch/train/labels/._accidentFrame2762_jpg.rf.dbee068b68088e81283690cdaec0ce69.txt  \n",
            "  inflating: +_2863_640_640_label_ACCIDENT_DETECTION.v1i.yolov7pytorch/train/labels/severityV4_43_jpg.rf.494516261041df5ed44af8200b0e9c05.txt  \n",
            "  inflating: __MACOSX/+_2863_640_640_label_ACCIDENT_DETECTION.v1i.yolov7pytorch/train/labels/._severityV4_43_jpg.rf.494516261041df5ed44af8200b0e9c05.txt  \n",
            "  inflating: +_2863_640_640_label_ACCIDENT_DETECTION.v1i.yolov7pytorch/train/labels/FLIP_CAR_V124_jpg.rf.288293e06f42ffab4fb9e26fdd83b52c.txt  \n",
            "  inflating: __MACOSX/+_2863_640_640_label_ACCIDENT_DETECTION.v1i.yolov7pytorch/train/labels/._FLIP_CAR_V124_jpg.rf.288293e06f42ffab4fb9e26fdd83b52c.txt  \n",
            "  inflating: +_2863_640_640_label_ACCIDENT_DETECTION.v1i.yolov7pytorch/train/labels/severe17_jpeg_jpg.rf.938f4aa2702eb8dec099bd63a4fdca3a.txt  \n",
            "  inflating: __MACOSX/+_2863_640_640_label_ACCIDENT_DETECTION.v1i.yolov7pytorch/train/labels/._severe17_jpeg_jpg.rf.938f4aa2702eb8dec099bd63a4fdca3a.txt  \n",
            "  inflating: +_2863_640_640_label_ACCIDENT_DETECTION.v1i.yolov7pytorch/train/labels/images-2_jpg.rf.a981d105d8f3c98c6a39ebe475e7e930.txt  \n",
            "  inflating: __MACOSX/+_2863_640_640_label_ACCIDENT_DETECTION.v1i.yolov7pytorch/train/labels/._images-2_jpg.rf.a981d105d8f3c98c6a39ebe475e7e930.txt  \n",
            "  inflating: +_2863_640_640_label_ACCIDENT_DETECTION.v1i.yolov7pytorch/train/labels/809_jpeg_jpg.rf.d7e122b87207d08e31663636f631dcca.txt  \n",
            "  inflating: __MACOSX/+_2863_640_640_label_ACCIDENT_DETECTION.v1i.yolov7pytorch/train/labels/._809_jpeg_jpg.rf.d7e122b87207d08e31663636f631dcca.txt  \n",
            "  inflating: +_2863_640_640_label_ACCIDENT_DETECTION.v1i.yolov7pytorch/train/labels/download_jpg.rf.fd33f5e36d3e996d860f8a13d3b3d6a6.txt  \n",
            "  inflating: __MACOSX/+_2863_640_640_label_ACCIDENT_DETECTION.v1i.yolov7pytorch/train/labels/._download_jpg.rf.fd33f5e36d3e996d860f8a13d3b3d6a6.txt  \n",
            "  inflating: +_2863_640_640_label_ACCIDENT_DETECTION.v1i.yolov7pytorch/train/labels/testjndjnd_jpg.rf.71aace2fff9d80afec716e63cc3553ce.txt  \n",
            "  inflating: __MACOSX/+_2863_640_640_label_ACCIDENT_DETECTION.v1i.yolov7pytorch/train/labels/._testjndjnd_jpg.rf.71aace2fff9d80afec716e63cc3553ce.txt  \n",
            "  inflating: +_2863_640_640_label_ACCIDENT_DETECTION.v1i.yolov7pytorch/train/labels/sever10_jpg.rf.ca95a21b608e70218fe21af4f627bb3e.txt  \n",
            "  inflating: __MACOSX/+_2863_640_640_label_ACCIDENT_DETECTION.v1i.yolov7pytorch/train/labels/._sever10_jpg.rf.ca95a21b608e70218fe21af4f627bb3e.txt  \n",
            "  inflating: +_2863_640_640_label_ACCIDENT_DETECTION.v1i.yolov7pytorch/train/labels/severityV4_38_jpg.rf.49229ce77774a320e84b17d6f8f96232.txt  \n",
            "  inflating: __MACOSX/+_2863_640_640_label_ACCIDENT_DETECTION.v1i.yolov7pytorch/train/labels/._severityV4_38_jpg.rf.49229ce77774a320e84b17d6f8f96232.txt  \n",
            "  inflating: +_2863_640_640_label_ACCIDENT_DETECTION.v1i.yolov7pytorch/train/labels/images_006_jpg.rf.b1b94973311ab2e179985c12f7fe3d01.txt  \n",
            "  inflating: __MACOSX/+_2863_640_640_label_ACCIDENT_DETECTION.v1i.yolov7pytorch/train/labels/._images_006_jpg.rf.b1b94973311ab2e179985c12f7fe3d01.txt  \n",
            "  inflating: +_2863_640_640_label_ACCIDENT_DETECTION.v1i.yolov7pytorch/train/labels/images-42_jpg.rf.d496e126a5225937d842059ce4941374.txt  \n",
            "  inflating: __MACOSX/+_2863_640_640_label_ACCIDENT_DETECTION.v1i.yolov7pytorch/train/labels/._images-42_jpg.rf.d496e126a5225937d842059ce4941374.txt  \n",
            "  inflating: +_2863_640_640_label_ACCIDENT_DETECTION.v1i.yolov7pytorch/train/labels/images-3_jpg.rf.dec9a71610f2d0411be47266a2d0666d.txt  \n",
            "  inflating: __MACOSX/+_2863_640_640_label_ACCIDENT_DETECTION.v1i.yolov7pytorch/train/labels/._images-3_jpg.rf.dec9a71610f2d0411be47266a2d0666d.txt  \n",
            "  inflating: +_2863_640_640_label_ACCIDENT_DETECTION.v1i.yolov7pytorch/train/labels/traffic_img1371_jpg.rf.55cdd67d2bc1f7b1a89b0dfc0ee8401f.txt  \n",
            "  inflating: __MACOSX/+_2863_640_640_label_ACCIDENT_DETECTION.v1i.yolov7pytorch/train/labels/._traffic_img1371_jpg.rf.55cdd67d2bc1f7b1a89b0dfc0ee8401f.txt  \n",
            "  inflating: +_2863_640_640_label_ACCIDENT_DETECTION.v1i.yolov7pytorch/train/labels/images_jpg.rf.0c1185ed6718234e89dd4a8c07738f98.txt  \n",
            "  inflating: __MACOSX/+_2863_640_640_label_ACCIDENT_DETECTION.v1i.yolov7pytorch/train/labels/._images_jpg.rf.0c1185ed6718234e89dd4a8c07738f98.txt  \n",
            "  inflating: +_2863_640_640_label_ACCIDENT_DETECTION.v1i.yolov7pytorch/train/labels/severityV4_75_jpg.rf.b9ef5145521298d91bc13b5b25e0c0c9.txt  \n",
            "  inflating: __MACOSX/+_2863_640_640_label_ACCIDENT_DETECTION.v1i.yolov7pytorch/train/labels/._severityV4_75_jpg.rf.b9ef5145521298d91bc13b5b25e0c0c9.txt  \n",
            "  inflating: +_2863_640_640_label_ACCIDENT_DETECTION.v1i.yolov7pytorch/train/labels/images-15_jpg.rf.f7875dd8428fbf1907fa1032e09073c5.txt  \n",
            "  inflating: __MACOSX/+_2863_640_640_label_ACCIDENT_DETECTION.v1i.yolov7pytorch/train/labels/._images-15_jpg.rf.f7875dd8428fbf1907fa1032e09073c5.txt  \n",
            "  inflating: +_2863_640_640_label_ACCIDENT_DETECTION.v1i.yolov7pytorch/train/labels/severity_V19_jpg.rf.d41a205e04d1438f32664047c4f415fa.txt  \n",
            "  inflating: __MACOSX/+_2863_640_640_label_ACCIDENT_DETECTION.v1i.yolov7pytorch/train/labels/._severity_V19_jpg.rf.d41a205e04d1438f32664047c4f415fa.txt  \n",
            "  inflating: +_2863_640_640_label_ACCIDENT_DETECTION.v1i.yolov7pytorch/train/labels/traffic_img344_jpg.rf.ee59b82ea2f119bd73303bdf89d073dc.txt  \n",
            "  inflating: __MACOSX/+_2863_640_640_label_ACCIDENT_DETECTION.v1i.yolov7pytorch/train/labels/._traffic_img344_jpg.rf.ee59b82ea2f119bd73303bdf89d073dc.txt  \n",
            "  inflating: +_2863_640_640_label_ACCIDENT_DETECTION.v1i.yolov7pytorch/train/labels/severityV4_84_jpg.rf.f01d6fd076cd4e4627e7093ec803840f.txt  \n",
            "  inflating: __MACOSX/+_2863_640_640_label_ACCIDENT_DETECTION.v1i.yolov7pytorch/train/labels/._severityV4_84_jpg.rf.f01d6fd076cd4e4627e7093ec803840f.txt  \n",
            "  inflating: +_2863_640_640_label_ACCIDENT_DETECTION.v1i.yolov7pytorch/train/labels/10-79_jpg.rf.db8c14285e585f6e158b7998a9e73606.txt  \n",
            "  inflating: __MACOSX/+_2863_640_640_label_ACCIDENT_DETECTION.v1i.yolov7pytorch/train/labels/._10-79_jpg.rf.db8c14285e585f6e158b7998a9e73606.txt  \n",
            "  inflating: +_2863_640_640_label_ACCIDENT_DETECTION.v1i.yolov7pytorch/train/labels/severity_V135_jpg.rf.a51fd86cf2f88628cc96b1bb1c956a48.txt  \n",
            "  inflating: __MACOSX/+_2863_640_640_label_ACCIDENT_DETECTION.v1i.yolov7pytorch/train/labels/._severity_V135_jpg.rf.a51fd86cf2f88628cc96b1bb1c956a48.txt  \n",
            "  inflating: +_2863_640_640_label_ACCIDENT_DETECTION.v1i.yolov7pytorch/train/labels/images-17_jpg.rf.b9516e956ad45cf9a5631b2d9393b1ae.txt  \n",
            "  inflating: __MACOSX/+_2863_640_640_label_ACCIDENT_DETECTION.v1i.yolov7pytorch/train/labels/._images-17_jpg.rf.b9516e956ad45cf9a5631b2d9393b1ae.txt  \n",
            "  inflating: +_2863_640_640_label_ACCIDENT_DETECTION.v1i.yolov7pytorch/train/labels/severity_V142_jpg.rf.0100b791abe7160d10999c24dc47e542.txt  \n",
            "  inflating: __MACOSX/+_2863_640_640_label_ACCIDENT_DETECTION.v1i.yolov7pytorch/train/labels/._severity_V142_jpg.rf.0100b791abe7160d10999c24dc47e542.txt  \n",
            "  inflating: +_2863_640_640_label_ACCIDENT_DETECTION.v1i.yolov7pytorch/train/labels/images-9_jpg.rf.71c853d8fb5f4d5dd30201fd75e871a6.txt  \n",
            "  inflating: __MACOSX/+_2863_640_640_label_ACCIDENT_DETECTION.v1i.yolov7pytorch/train/labels/._images-9_jpg.rf.71c853d8fb5f4d5dd30201fd75e871a6.txt  \n",
            "  inflating: +_2863_640_640_label_ACCIDENT_DETECTION.v1i.yolov7pytorch/train/labels/accidentFrame3423_jpg.rf.b6034846b7bee12144501b5cb4d3fe42.txt  \n",
            "  inflating: __MACOSX/+_2863_640_640_label_ACCIDENT_DETECTION.v1i.yolov7pytorch/train/labels/._accidentFrame3423_jpg.rf.b6034846b7bee12144501b5cb4d3fe42.txt  \n",
            "  inflating: +_2863_640_640_label_ACCIDENT_DETECTION.v1i.yolov7pytorch/train/labels/traffic_img1295_jpg.rf.d45715a7d1b5e3ba5089947fb3f808ac.txt  \n",
            "  inflating: __MACOSX/+_2863_640_640_label_ACCIDENT_DETECTION.v1i.yolov7pytorch/train/labels/._traffic_img1295_jpg.rf.d45715a7d1b5e3ba5089947fb3f808ac.txt  \n",
            "  inflating: +_2863_640_640_label_ACCIDENT_DETECTION.v1i.yolov7pytorch/train/labels/images-12_jpg.rf.ec53b6fdb459ae8b88c9883eee70ead5.txt  \n",
            "  inflating: __MACOSX/+_2863_640_640_label_ACCIDENT_DETECTION.v1i.yolov7pytorch/train/labels/._images-12_jpg.rf.ec53b6fdb459ae8b88c9883eee70ead5.txt  \n",
            "  inflating: +_2863_640_640_label_ACCIDENT_DETECTION.v1i.yolov7pytorch/train/labels/images-19_jpg.rf.ebc752d2cf5a1186f9d280d3e6f487f6.txt  \n",
            "  inflating: __MACOSX/+_2863_640_640_label_ACCIDENT_DETECTION.v1i.yolov7pytorch/train/labels/._images-19_jpg.rf.ebc752d2cf5a1186f9d280d3e6f487f6.txt  \n",
            "  inflating: +_2863_640_640_label_ACCIDENT_DETECTION.v1i.yolov7pytorch/train/labels/images-8_jpg.rf.dc39a0ec8fab894a95fb79409e31b764.txt  \n",
            "  inflating: __MACOSX/+_2863_640_640_label_ACCIDENT_DETECTION.v1i.yolov7pytorch/train/labels/._images-8_jpg.rf.dc39a0ec8fab894a95fb79409e31b764.txt  \n",
            "  inflating: +_2863_640_640_label_ACCIDENT_DETECTION.v1i.yolov7pytorch/train/labels/1075_jpeg_jpg.rf.f1099805365c906e3edd4433c16447a7.txt  \n",
            "  inflating: __MACOSX/+_2863_640_640_label_ACCIDENT_DETECTION.v1i.yolov7pytorch/train/labels/._1075_jpeg_jpg.rf.f1099805365c906e3edd4433c16447a7.txt  \n",
            "  inflating: +_2863_640_640_label_ACCIDENT_DETECTION.v1i.yolov7pytorch/train/labels/download_jpg.rf.8ea7e2d39b89bb6f59a06f85c760a816.txt  \n",
            "  inflating: __MACOSX/+_2863_640_640_label_ACCIDENT_DETECTION.v1i.yolov7pytorch/train/labels/._download_jpg.rf.8ea7e2d39b89bb6f59a06f85c760a816.txt  \n",
            "  inflating: +_2863_640_640_label_ACCIDENT_DETECTION.v1i.yolov7pytorch/train/labels/sever8_jpg.rf.f6ea826f23dca3ce02f5f3f7552314e4.txt  \n",
            "  inflating: __MACOSX/+_2863_640_640_label_ACCIDENT_DETECTION.v1i.yolov7pytorch/train/labels/._sever8_jpg.rf.f6ea826f23dca3ce02f5f3f7552314e4.txt  \n",
            "  inflating: +_2863_640_640_label_ACCIDENT_DETECTION.v1i.yolov7pytorch/train/labels/sev5_jpg.rf.fc4fe86a4229b276d9fa904ef471ee7b.txt  \n",
            "  inflating: __MACOSX/+_2863_640_640_label_ACCIDENT_DETECTION.v1i.yolov7pytorch/train/labels/._sev5_jpg.rf.fc4fe86a4229b276d9fa904ef471ee7b.txt  \n",
            "  inflating: +_2863_640_640_label_ACCIDENT_DETECTION.v1i.yolov7pytorch/train/labels/severityV4_72_jpg.rf.686360d4c0d9c84a53d79acaa658e7a2.txt  \n",
            "  inflating: __MACOSX/+_2863_640_640_label_ACCIDENT_DETECTION.v1i.yolov7pytorch/train/labels/._severityV4_72_jpg.rf.686360d4c0d9c84a53d79acaa658e7a2.txt  \n",
            "  inflating: +_2863_640_640_label_ACCIDENT_DETECTION.v1i.yolov7pytorch/train/labels/severityV4_82_jpg.rf.eac05c100f55c897034de50feec937d8.txt  \n",
            "  inflating: __MACOSX/+_2863_640_640_label_ACCIDENT_DETECTION.v1i.yolov7pytorch/train/labels/._severityV4_82_jpg.rf.eac05c100f55c897034de50feec937d8.txt  \n",
            "  inflating: +_2863_640_640_label_ACCIDENT_DETECTION.v1i.yolov7pytorch/train/labels/traffic_img1393_jpg.rf.b27297dd9edf7a06303ccec33cb97622.txt  \n",
            "  inflating: __MACOSX/+_2863_640_640_label_ACCIDENT_DETECTION.v1i.yolov7pytorch/train/labels/._traffic_img1393_jpg.rf.b27297dd9edf7a06303ccec33cb97622.txt  \n",
            "  inflating: +_2863_640_640_label_ACCIDENT_DETECTION.v1i.yolov7pytorch/train/labels/799_jpeg_jpg.rf.31868f99df743dcf8a531343d147c354.txt  \n",
            "  inflating: __MACOSX/+_2863_640_640_label_ACCIDENT_DETECTION.v1i.yolov7pytorch/train/labels/._799_jpeg_jpg.rf.31868f99df743dcf8a531343d147c354.txt  \n",
            "  inflating: +_2863_640_640_label_ACCIDENT_DETECTION.v1i.yolov7pytorch/train/labels/images-2_jpg.rf.2df245c128730f4c9fcdccb660b161ab.txt  \n",
            "  inflating: __MACOSX/+_2863_640_640_label_ACCIDENT_DETECTION.v1i.yolov7pytorch/train/labels/._images-2_jpg.rf.2df245c128730f4c9fcdccb660b161ab.txt  \n",
            "  inflating: +_2863_640_640_label_ACCIDENT_DETECTION.v1i.yolov7pytorch/train/labels/images-2_jpg.rf.74156c81206557b753bb9347594353f5.txt  \n",
            "  inflating: __MACOSX/+_2863_640_640_label_ACCIDENT_DETECTION.v1i.yolov7pytorch/train/labels/._images-2_jpg.rf.74156c81206557b753bb9347594353f5.txt  \n",
            "  inflating: +_2863_640_640_label_ACCIDENT_DETECTION.v1i.yolov7pytorch/train/labels/Severity_Detect_V34_jpg.rf.c30d80df4082f9c0fd1c3c896c562cc0.txt  \n",
            "  inflating: __MACOSX/+_2863_640_640_label_ACCIDENT_DETECTION.v1i.yolov7pytorch/train/labels/._Severity_Detect_V34_jpg.rf.c30d80df4082f9c0fd1c3c896c562cc0.txt  \n",
            "  inflating: +_2863_640_640_label_ACCIDENT_DETECTION.v1i.yolov7pytorch/train/labels/download-3_jpg.rf.bebd79eda158e1ede264a7fcca15caea.txt  \n",
            "  inflating: __MACOSX/+_2863_640_640_label_ACCIDENT_DETECTION.v1i.yolov7pytorch/train/labels/._download-3_jpg.rf.bebd79eda158e1ede264a7fcca15caea.txt  \n",
            "  inflating: +_2863_640_640_label_ACCIDENT_DETECTION.v1i.yolov7pytorch/train/labels/Semi-RealisticVD-174_jpg.rf.139668321e31f50d7c3f2f2e652cd49a.txt  \n",
            "  inflating: __MACOSX/+_2863_640_640_label_ACCIDENT_DETECTION.v1i.yolov7pytorch/train/labels/._Semi-RealisticVD-174_jpg.rf.139668321e31f50d7c3f2f2e652cd49a.txt  \n",
            "  inflating: +_2863_640_640_label_ACCIDENT_DETECTION.v1i.yolov7pytorch/train/labels/screen_images9_png_jpg.rf.51456eec6e82829fa606dac365eea46a.txt  \n",
            "  inflating: __MACOSX/+_2863_640_640_label_ACCIDENT_DETECTION.v1i.yolov7pytorch/train/labels/._screen_images9_png_jpg.rf.51456eec6e82829fa606dac365eea46a.txt  \n",
            "  inflating: +_2863_640_640_label_ACCIDENT_DETECTION.v1i.yolov7pytorch/train/labels/images_jpg.rf.0859053ca43adc7ddd02b0d0dbe004b4.txt  \n",
            "  inflating: __MACOSX/+_2863_640_640_label_ACCIDENT_DETECTION.v1i.yolov7pytorch/train/labels/._images_jpg.rf.0859053ca43adc7ddd02b0d0dbe004b4.txt  \n",
            "  inflating: +_2863_640_640_label_ACCIDENT_DETECTION.v1i.yolov7pytorch/train/labels/traffic_img21_jpg.rf.d4a103b2aa1660f12260c65c32cd3c5a.txt  \n",
            "  inflating: __MACOSX/+_2863_640_640_label_ACCIDENT_DETECTION.v1i.yolov7pytorch/train/labels/._traffic_img21_jpg.rf.d4a103b2aa1660f12260c65c32cd3c5a.txt  \n",
            "  inflating: +_2863_640_640_label_ACCIDENT_DETECTION.v1i.yolov7pytorch/train/labels/severityV4_64_jpg.rf.b43d8d837e1eac9bb73f2460cc99bbf2.txt  \n",
            "  inflating: __MACOSX/+_2863_640_640_label_ACCIDENT_DETECTION.v1i.yolov7pytorch/train/labels/._severityV4_64_jpg.rf.b43d8d837e1eac9bb73f2460cc99bbf2.txt  \n",
            "  inflating: +_2863_640_640_label_ACCIDENT_DETECTION.v1i.yolov7pytorch/train/labels/traffic_img691_jpg.rf.dc0cdc2ab07f4816ca78d67c294d7e03.txt  \n",
            "  inflating: __MACOSX/+_2863_640_640_label_ACCIDENT_DETECTION.v1i.yolov7pytorch/train/labels/._traffic_img691_jpg.rf.dc0cdc2ab07f4816ca78d67c294d7e03.txt  \n",
            "  inflating: +_2863_640_640_label_ACCIDENT_DETECTION.v1i.yolov7pytorch/train/labels/images_jpg.rf.b79764e617b3b68472f0a16039228164.txt  \n",
            "  inflating: __MACOSX/+_2863_640_640_label_ACCIDENT_DETECTION.v1i.yolov7pytorch/train/labels/._images_jpg.rf.b79764e617b3b68472f0a16039228164.txt  \n",
            "  inflating: +_2863_640_640_label_ACCIDENT_DETECTION.v1i.yolov7pytorch/train/labels/severityV4_41_jpg.rf.eca066515b5046933385545de5cbf7ee.txt  \n",
            "  inflating: __MACOSX/+_2863_640_640_label_ACCIDENT_DETECTION.v1i.yolov7pytorch/train/labels/._severityV4_41_jpg.rf.eca066515b5046933385545de5cbf7ee.txt  \n",
            "  inflating: +_2863_640_640_label_ACCIDENT_DETECTION.v1i.yolov7pytorch/train/labels/severityV4_78_jpg.rf.a46fed05aa7a8b4c4f390ec6c1671ff6.txt  \n",
            "  inflating: __MACOSX/+_2863_640_640_label_ACCIDENT_DETECTION.v1i.yolov7pytorch/train/labels/._severityV4_78_jpg.rf.a46fed05aa7a8b4c4f390ec6c1671ff6.txt  \n",
            "  inflating: +_2863_640_640_label_ACCIDENT_DETECTION.v1i.yolov7pytorch/train/labels/severity_V134_jpg.rf.d08810f5b58f1b37e6c5f81496eaccd0.txt  \n",
            "  inflating: __MACOSX/+_2863_640_640_label_ACCIDENT_DETECTION.v1i.yolov7pytorch/train/labels/._severity_V134_jpg.rf.d08810f5b58f1b37e6c5f81496eaccd0.txt  \n",
            "  inflating: +_2863_640_640_label_ACCIDENT_DETECTION.v1i.yolov7pytorch/train/labels/severityV2_29_jpg.rf.be4fc698c2e453a153df7ad66275baf8.txt  \n",
            "  inflating: __MACOSX/+_2863_640_640_label_ACCIDENT_DETECTION.v1i.yolov7pytorch/train/labels/._severityV2_29_jpg.rf.be4fc698c2e453a153df7ad66275baf8.txt  \n",
            "  inflating: +_2863_640_640_label_ACCIDENT_DETECTION.v1i.yolov7pytorch/train/labels/severity_V116_jpg.rf.f458314ce2dd332c010214d9801ee6d3.txt  \n",
            "  inflating: __MACOSX/+_2863_640_640_label_ACCIDENT_DETECTION.v1i.yolov7pytorch/train/labels/._severity_V116_jpg.rf.f458314ce2dd332c010214d9801ee6d3.txt  \n",
            "  inflating: +_2863_640_640_label_ACCIDENT_DETECTION.v1i.yolov7pytorch/train/labels/1003_jpeg_jpg.rf.ac2ac63a74ffe6d660e1d1e7b6a7681d.txt  \n",
            "  inflating: __MACOSX/+_2863_640_640_label_ACCIDENT_DETECTION.v1i.yolov7pytorch/train/labels/._1003_jpeg_jpg.rf.ac2ac63a74ffe6d660e1d1e7b6a7681d.txt  \n",
            "  inflating: +_2863_640_640_label_ACCIDENT_DETECTION.v1i.yolov7pytorch/train/labels/Semi-RealisticVD-12_jpg.rf.d9797a2d547a6a32cc39b7aaf8dfa952.txt  \n",
            "  inflating: __MACOSX/+_2863_640_640_label_ACCIDENT_DETECTION.v1i.yolov7pytorch/train/labels/._Semi-RealisticVD-12_jpg.rf.d9797a2d547a6a32cc39b7aaf8dfa952.txt  \n",
            "  inflating: +_2863_640_640_label_ACCIDENT_DETECTION.v1i.yolov7pytorch/train/labels/accidentFrame138_jpg.rf.e482081e177d9f8d640581aaa6cb96c8.txt  \n",
            "  inflating: __MACOSX/+_2863_640_640_label_ACCIDENT_DETECTION.v1i.yolov7pytorch/train/labels/._accidentFrame138_jpg.rf.e482081e177d9f8d640581aaa6cb96c8.txt  \n",
            "  inflating: +_2863_640_640_label_ACCIDENT_DETECTION.v1i.yolov7pytorch/train/labels/FLIP_CAR_V116_jpg.rf.ac74e4c02ae24c6d0b9133fe418c59fa.txt  \n",
            "  inflating: __MACOSX/+_2863_640_640_label_ACCIDENT_DETECTION.v1i.yolov7pytorch/train/labels/._FLIP_CAR_V116_jpg.rf.ac74e4c02ae24c6d0b9133fe418c59fa.txt  \n",
            "  inflating: +_2863_640_640_label_ACCIDENT_DETECTION.v1i.yolov7pytorch/train/labels/Semi-RealisticVD-195_jpg.rf.df2c2984f3e44cc34b092b479720f7ba.txt  \n",
            "  inflating: __MACOSX/+_2863_640_640_label_ACCIDENT_DETECTION.v1i.yolov7pytorch/train/labels/._Semi-RealisticVD-195_jpg.rf.df2c2984f3e44cc34b092b479720f7ba.txt  \n",
            "  inflating: +_2863_640_640_label_ACCIDENT_DETECTION.v1i.yolov7pytorch/train/labels/images-1_jpg.rf.ad651fd8ba1c1b695b845f63c9169d72.txt  \n",
            "  inflating: __MACOSX/+_2863_640_640_label_ACCIDENT_DETECTION.v1i.yolov7pytorch/train/labels/._images-1_jpg.rf.ad651fd8ba1c1b695b845f63c9169d72.txt  \n",
            "  inflating: +_2863_640_640_label_ACCIDENT_DETECTION.v1i.yolov7pytorch/train/labels/2-34_jpg.rf.fc356d24ba16d0a670934c7dda9ed7d9.txt  \n",
            "  inflating: __MACOSX/+_2863_640_640_label_ACCIDENT_DETECTION.v1i.yolov7pytorch/train/labels/._2-34_jpg.rf.fc356d24ba16d0a670934c7dda9ed7d9.txt  \n",
            "  inflating: +_2863_640_640_label_ACCIDENT_DETECTION.v1i.yolov7pytorch/train/labels/accidentFrame3225_jpg.rf.f6a799f27adf9e0787d52697547ef889.txt  \n",
            "  inflating: __MACOSX/+_2863_640_640_label_ACCIDENT_DETECTION.v1i.yolov7pytorch/train/labels/._accidentFrame3225_jpg.rf.f6a799f27adf9e0787d52697547ef889.txt  \n",
            "  inflating: +_2863_640_640_label_ACCIDENT_DETECTION.v1i.yolov7pytorch/train/labels/images-1_jpg.rf.19ec03f33dee887bd5a163311a094794.txt  \n",
            "  inflating: __MACOSX/+_2863_640_640_label_ACCIDENT_DETECTION.v1i.yolov7pytorch/train/labels/._images-1_jpg.rf.19ec03f33dee887bd5a163311a094794.txt  \n",
            "  inflating: +_2863_640_640_label_ACCIDENT_DETECTION.v1i.yolov7pytorch/train/labels/4-20_jpg.rf.cc7b7714066a2680634bc5a3488c4b6f.txt  \n",
            "  inflating: __MACOSX/+_2863_640_640_label_ACCIDENT_DETECTION.v1i.yolov7pytorch/train/labels/._4-20_jpg.rf.cc7b7714066a2680634bc5a3488c4b6f.txt  \n",
            "  inflating: +_2863_640_640_label_ACCIDENT_DETECTION.v1i.yolov7pytorch/train/labels/download-2_jpg.rf.d37606624351e45d619d843e0c5aa3c1.txt  \n",
            "  inflating: __MACOSX/+_2863_640_640_label_ACCIDENT_DETECTION.v1i.yolov7pytorch/train/labels/._download-2_jpg.rf.d37606624351e45d619d843e0c5aa3c1.txt  \n",
            "  inflating: +_2863_640_640_label_ACCIDENT_DETECTION.v1i.yolov7pytorch/train/labels/severityV4_40_jpg.rf.c95592de2bdc960cc9cfc96c9a50dc4f.txt  \n",
            "  inflating: __MACOSX/+_2863_640_640_label_ACCIDENT_DETECTION.v1i.yolov7pytorch/train/labels/._severityV4_40_jpg.rf.c95592de2bdc960cc9cfc96c9a50dc4f.txt  \n",
            "  inflating: +_2863_640_640_label_ACCIDENT_DETECTION.v1i.yolov7pytorch/train/labels/accidentFrame3645_jpg.rf.300a9122a9968d02c3fd21fa77576382.txt  \n",
            "  inflating: __MACOSX/+_2863_640_640_label_ACCIDENT_DETECTION.v1i.yolov7pytorch/train/labels/._accidentFrame3645_jpg.rf.300a9122a9968d02c3fd21fa77576382.txt  \n",
            "  inflating: +_2863_640_640_label_ACCIDENT_DETECTION.v1i.yolov7pytorch/train/labels/severityV2_30_jpg.rf.273b9d2974271efe52e5225903266634.txt  \n",
            "  inflating: __MACOSX/+_2863_640_640_label_ACCIDENT_DETECTION.v1i.yolov7pytorch/train/labels/._severityV2_30_jpg.rf.273b9d2974271efe52e5225903266634.txt  \n",
            "  inflating: +_2863_640_640_label_ACCIDENT_DETECTION.v1i.yolov7pytorch/train/labels/images_jpg.rf.0dcac5e055de363290658a9f753cba47.txt  \n",
            "  inflating: __MACOSX/+_2863_640_640_label_ACCIDENT_DETECTION.v1i.yolov7pytorch/train/labels/._images_jpg.rf.0dcac5e055de363290658a9f753cba47.txt  \n",
            "  inflating: +_2863_640_640_label_ACCIDENT_DETECTION.v1i.yolov7pytorch/train/labels/1072_jpeg_jpg.rf.60b20e7ce4bba2d4a510b0f500057bd4.txt  \n",
            "  inflating: __MACOSX/+_2863_640_640_label_ACCIDENT_DETECTION.v1i.yolov7pytorch/train/labels/._1072_jpeg_jpg.rf.60b20e7ce4bba2d4a510b0f500057bd4.txt  \n",
            "  inflating: +_2863_640_640_label_ACCIDENT_DETECTION.v1i.yolov7pytorch/train/labels/images-6_jpg.rf.aa341258eabd191b62d9ef4fe87cbbd1.txt  \n",
            "  inflating: __MACOSX/+_2863_640_640_label_ACCIDENT_DETECTION.v1i.yolov7pytorch/train/labels/._images-6_jpg.rf.aa341258eabd191b62d9ef4fe87cbbd1.txt  \n",
            "  inflating: +_2863_640_640_label_ACCIDENT_DETECTION.v1i.yolov7pytorch/train/labels/screen_images2_png_jpg.rf.fdabafaddfa6c59f6026c15825ec8fbe.txt  \n",
            "  inflating: __MACOSX/+_2863_640_640_label_ACCIDENT_DETECTION.v1i.yolov7pytorch/train/labels/._screen_images2_png_jpg.rf.fdabafaddfa6c59f6026c15825ec8fbe.txt  \n",
            "  inflating: +_2863_640_640_label_ACCIDENT_DETECTION.v1i.yolov7pytorch/train/labels/traffic_img477_jpg.rf.d5e1fbbf437048bc0dcb71ed747a0be0.txt  \n",
            "  inflating: __MACOSX/+_2863_640_640_label_ACCIDENT_DETECTION.v1i.yolov7pytorch/train/labels/._traffic_img477_jpg.rf.d5e1fbbf437048bc0dcb71ed747a0be0.txt  \n",
            "  inflating: +_2863_640_640_label_ACCIDENT_DETECTION.v1i.yolov7pytorch/train/labels/images-2_jpg.rf.dd35009da8c19a3ca6a35e424d34031e.txt  \n",
            "  inflating: __MACOSX/+_2863_640_640_label_ACCIDENT_DETECTION.v1i.yolov7pytorch/train/labels/._images-2_jpg.rf.dd35009da8c19a3ca6a35e424d34031e.txt  \n",
            "  inflating: +_2863_640_640_label_ACCIDENT_DETECTION.v1i.yolov7pytorch/train/labels/screen_images8_png_jpg.rf.403e0b0989c4317cfdcf15090e2f8a1f.txt  \n",
            "  inflating: __MACOSX/+_2863_640_640_label_ACCIDENT_DETECTION.v1i.yolov7pytorch/train/labels/._screen_images8_png_jpg.rf.403e0b0989c4317cfdcf15090e2f8a1f.txt  \n",
            "  inflating: +_2863_640_640_label_ACCIDENT_DETECTION.v1i.yolov7pytorch/train/labels/images-4_jpg.rf.c684cc3a2c332277c9ef4438291cc0ab.txt  \n",
            "  inflating: __MACOSX/+_2863_640_640_label_ACCIDENT_DETECTION.v1i.yolov7pytorch/train/labels/._images-4_jpg.rf.c684cc3a2c332277c9ef4438291cc0ab.txt  \n",
            "  inflating: +_2863_640_640_label_ACCIDENT_DETECTION.v1i.yolov7pytorch/train/labels/images-2_jpg.rf.a04cdeba4be2c1a27fa24ac353eeb222.txt  \n",
            "  inflating: __MACOSX/+_2863_640_640_label_ACCIDENT_DETECTION.v1i.yolov7pytorch/train/labels/._images-2_jpg.rf.a04cdeba4be2c1a27fa24ac353eeb222.txt  \n",
            "  inflating: +_2863_640_640_label_ACCIDENT_DETECTION.v1i.yolov7pytorch/train/labels/images-1_jpg.rf.d365584e34edd589c58b06ef6bb56c3a.txt  \n",
            "  inflating: __MACOSX/+_2863_640_640_label_ACCIDENT_DETECTION.v1i.yolov7pytorch/train/labels/._images-1_jpg.rf.d365584e34edd589c58b06ef6bb56c3a.txt  \n",
            "  inflating: +_2863_640_640_label_ACCIDENT_DETECTION.v1i.yolov7pytorch/train/labels/Severity_Detect_V38_jpg.rf.24371a4ed2f356ff6a3baeec04e485a0.txt  \n",
            "  inflating: __MACOSX/+_2863_640_640_label_ACCIDENT_DETECTION.v1i.yolov7pytorch/train/labels/._Severity_Detect_V38_jpg.rf.24371a4ed2f356ff6a3baeec04e485a0.txt  \n",
            "  inflating: +_2863_640_640_label_ACCIDENT_DETECTION.v1i.yolov7pytorch/train/labels/download-9_jpg.rf.866df622ea1bd7e81c413ecd1016c998.txt  \n",
            "  inflating: __MACOSX/+_2863_640_640_label_ACCIDENT_DETECTION.v1i.yolov7pytorch/train/labels/._download-9_jpg.rf.866df622ea1bd7e81c413ecd1016c998.txt  \n",
            "  inflating: +_2863_640_640_label_ACCIDENT_DETECTION.v1i.yolov7pytorch/train/labels/severity_V138_jpg.rf.ef50b2ebf06186fdf59fbd1a0e0ad14d.txt  \n",
            "  inflating: __MACOSX/+_2863_640_640_label_ACCIDENT_DETECTION.v1i.yolov7pytorch/train/labels/._severity_V138_jpg.rf.ef50b2ebf06186fdf59fbd1a0e0ad14d.txt  \n",
            "  inflating: +_2863_640_640_label_ACCIDENT_DETECTION.v1i.yolov7pytorch/train/labels/severity_V143_jpg.rf.7626f2090ddecaa06cc0e1c7a87e292d.txt  \n",
            "  inflating: __MACOSX/+_2863_640_640_label_ACCIDENT_DETECTION.v1i.yolov7pytorch/train/labels/._severity_V143_jpg.rf.7626f2090ddecaa06cc0e1c7a87e292d.txt  \n",
            "  inflating: +_2863_640_640_label_ACCIDENT_DETECTION.v1i.yolov7pytorch/train/labels/severityV4_9_jpg.rf.cdb61cf93c6c51941a35233e8939a8dd.txt  \n",
            "  inflating: __MACOSX/+_2863_640_640_label_ACCIDENT_DETECTION.v1i.yolov7pytorch/train/labels/._severityV4_9_jpg.rf.cdb61cf93c6c51941a35233e8939a8dd.txt  \n",
            "  inflating: +_2863_640_640_label_ACCIDENT_DETECTION.v1i.yolov7pytorch/train/labels/images-10_jpg.rf.d2ed7debefb5348b26ea473fed18995e.txt  \n",
            "  inflating: __MACOSX/+_2863_640_640_label_ACCIDENT_DETECTION.v1i.yolov7pytorch/train/labels/._images-10_jpg.rf.d2ed7debefb5348b26ea473fed18995e.txt  \n",
            "  inflating: +_2863_640_640_label_ACCIDENT_DETECTION.v1i.yolov7pytorch/train/labels/images-26_jpg.rf.b019ac76409eb6dd2fdf1d201c5d78e9.txt  \n",
            "  inflating: __MACOSX/+_2863_640_640_label_ACCIDENT_DETECTION.v1i.yolov7pytorch/train/labels/._images-26_jpg.rf.b019ac76409eb6dd2fdf1d201c5d78e9.txt  \n",
            "  inflating: +_2863_640_640_label_ACCIDENT_DETECTION.v1i.yolov7pytorch/train/labels/accidentFrame130_jpg.rf.64ae08e66ff3865c15411de75dcb490f.txt  \n",
            "  inflating: __MACOSX/+_2863_640_640_label_ACCIDENT_DETECTION.v1i.yolov7pytorch/train/labels/._accidentFrame130_jpg.rf.64ae08e66ff3865c15411de75dcb490f.txt  \n",
            "  inflating: +_2863_640_640_label_ACCIDENT_DETECTION.v1i.yolov7pytorch/train/labels/FLIP_CAR_V163_jpg.rf.b1a7e93370bc6c06b0d847ba064ea0f3.txt  \n",
            "  inflating: __MACOSX/+_2863_640_640_label_ACCIDENT_DETECTION.v1i.yolov7pytorch/train/labels/._FLIP_CAR_V163_jpg.rf.b1a7e93370bc6c06b0d847ba064ea0f3.txt  \n",
            "  inflating: +_2863_640_640_label_ACCIDENT_DETECTION.v1i.yolov7pytorch/train/labels/1477548_082016-bayonnewreck_jpg.rf.e0a3442a95796102add9b1774f2c14df.txt  \n",
            "  inflating: __MACOSX/+_2863_640_640_label_ACCIDENT_DETECTION.v1i.yolov7pytorch/train/labels/._1477548_082016-bayonnewreck_jpg.rf.e0a3442a95796102add9b1774f2c14df.txt  \n",
            "  inflating: +_2863_640_640_label_ACCIDENT_DETECTION.v1i.yolov7pytorch/train/labels/images-24_jpg.rf.37272e5e3c5393004c3b412ffa885c14.txt  \n",
            "  inflating: __MACOSX/+_2863_640_640_label_ACCIDENT_DETECTION.v1i.yolov7pytorch/train/labels/._images-24_jpg.rf.37272e5e3c5393004c3b412ffa885c14.txt  \n",
            "  inflating: +_2863_640_640_label_ACCIDENT_DETECTION.v1i.yolov7pytorch/train/labels/Severity_Detect_V4_jpg.rf.dc0e92a70625a05f66ad207ba8980cb6.txt  \n",
            "  inflating: __MACOSX/+_2863_640_640_label_ACCIDENT_DETECTION.v1i.yolov7pytorch/train/labels/._Severity_Detect_V4_jpg.rf.dc0e92a70625a05f66ad207ba8980cb6.txt  \n",
            "  inflating: +_2863_640_640_label_ACCIDENT_DETECTION.v1i.yolov7pytorch/train/labels/traffic_img2121_jpg.rf.b514e790763f6eb2cfcd67ae7487f1fc.txt  \n",
            "  inflating: __MACOSX/+_2863_640_640_label_ACCIDENT_DETECTION.v1i.yolov7pytorch/train/labels/._traffic_img2121_jpg.rf.b514e790763f6eb2cfcd67ae7487f1fc.txt  \n",
            "  inflating: +_2863_640_640_label_ACCIDENT_DETECTION.v1i.yolov7pytorch/train/labels/traffic_img1739_jpg.rf.b64a9c0d1aac3951ef9ddb4acc54e525.txt  \n",
            "  inflating: __MACOSX/+_2863_640_640_label_ACCIDENT_DETECTION.v1i.yolov7pytorch/train/labels/._traffic_img1739_jpg.rf.b64a9c0d1aac3951ef9ddb4acc54e525.txt  \n",
            "  inflating: +_2863_640_640_label_ACCIDENT_DETECTION.v1i.yolov7pytorch/train/labels/images-34_jpg.rf.d99f4c6310e1630d1345a2aaaa99ed39.txt  \n",
            "  inflating: __MACOSX/+_2863_640_640_label_ACCIDENT_DETECTION.v1i.yolov7pytorch/train/labels/._images-34_jpg.rf.d99f4c6310e1630d1345a2aaaa99ed39.txt  \n",
            "  inflating: +_2863_640_640_label_ACCIDENT_DETECTION.v1i.yolov7pytorch/train/labels/severityV2_14_jpg.rf.172b019305acc7507834a99097ee5b7a.txt  \n",
            "  inflating: __MACOSX/+_2863_640_640_label_ACCIDENT_DETECTION.v1i.yolov7pytorch/train/labels/._severityV2_14_jpg.rf.172b019305acc7507834a99097ee5b7a.txt  \n",
            "  inflating: +_2863_640_640_label_ACCIDENT_DETECTION.v1i.yolov7pytorch/train/labels/traffic_img1116_jpg.rf.d0e4805222009949175f39ae47279f55.txt  \n",
            "  inflating: __MACOSX/+_2863_640_640_label_ACCIDENT_DETECTION.v1i.yolov7pytorch/train/labels/._traffic_img1116_jpg.rf.d0e4805222009949175f39ae47279f55.txt  \n",
            "  inflating: +_2863_640_640_label_ACCIDENT_DETECTION.v1i.yolov7pytorch/train/labels/traffic_img8_jpg.rf.ed90164655f36e3665f3d0dbdce46dff.txt  \n",
            "  inflating: __MACOSX/+_2863_640_640_label_ACCIDENT_DETECTION.v1i.yolov7pytorch/train/labels/._traffic_img8_jpg.rf.ed90164655f36e3665f3d0dbdce46dff.txt  \n",
            "  inflating: +_2863_640_640_label_ACCIDENT_DETECTION.v1i.yolov7pytorch/train/labels/traffic_img1803_jpg.rf.d9d7b10b79cffd463fe6c66c212746ea.txt  \n",
            "  inflating: __MACOSX/+_2863_640_640_label_ACCIDENT_DETECTION.v1i.yolov7pytorch/train/labels/._traffic_img1803_jpg.rf.d9d7b10b79cffd463fe6c66c212746ea.txt  \n",
            "  inflating: +_2863_640_640_label_ACCIDENT_DETECTION.v1i.yolov7pytorch/train/labels/images-2_jpg.rf.fa6bc74fd868e3dd9bdc9c13748453c1.txt  \n",
            "  inflating: __MACOSX/+_2863_640_640_label_ACCIDENT_DETECTION.v1i.yolov7pytorch/train/labels/._images-2_jpg.rf.fa6bc74fd868e3dd9bdc9c13748453c1.txt  \n",
            "  inflating: +_2863_640_640_label_ACCIDENT_DETECTION.v1i.yolov7pytorch/train/labels/download_jpg.rf.fa7244f8785dd6bfc150fa37d419ebc7.txt  \n",
            "  inflating: __MACOSX/+_2863_640_640_label_ACCIDENT_DETECTION.v1i.yolov7pytorch/train/labels/._download_jpg.rf.fa7244f8785dd6bfc150fa37d419ebc7.txt  \n",
            "  inflating: +_2863_640_640_label_ACCIDENT_DETECTION.v1i.yolov7pytorch/train/labels/accidentFrame130_jpg.rf.c03dc387669d9f284efd4a12906f3eed.txt  \n",
            "  inflating: __MACOSX/+_2863_640_640_label_ACCIDENT_DETECTION.v1i.yolov7pytorch/train/labels/._accidentFrame130_jpg.rf.c03dc387669d9f284efd4a12906f3eed.txt  \n",
            "  inflating: +_2863_640_640_label_ACCIDENT_DETECTION.v1i.yolov7pytorch/train/labels/traffic_img53_jpg.rf.ae022c6a2ae71df9bd45313740adbb4c.txt  \n",
            "  inflating: __MACOSX/+_2863_640_640_label_ACCIDENT_DETECTION.v1i.yolov7pytorch/train/labels/._traffic_img53_jpg.rf.ae022c6a2ae71df9bd45313740adbb4c.txt  \n",
            "  inflating: +_2863_640_640_label_ACCIDENT_DETECTION.v1i.yolov7pytorch/train/labels/images-5_jpg.rf.0c40a6840031e2be541e5a0c6baf4eb9.txt  \n",
            "  inflating: __MACOSX/+_2863_640_640_label_ACCIDENT_DETECTION.v1i.yolov7pytorch/train/labels/._images-5_jpg.rf.0c40a6840031e2be541e5a0c6baf4eb9.txt  \n",
            "  inflating: +_2863_640_640_label_ACCIDENT_DETECTION.v1i.yolov7pytorch/train/labels/traffic_img61_jpg.rf.cd4abedd7698ba799295aec60394cd03.txt  \n",
            "  inflating: __MACOSX/+_2863_640_640_label_ACCIDENT_DETECTION.v1i.yolov7pytorch/train/labels/._traffic_img61_jpg.rf.cd4abedd7698ba799295aec60394cd03.txt  \n",
            "  inflating: +_2863_640_640_label_ACCIDENT_DETECTION.v1i.yolov7pytorch/train/labels/arkatqejjx0ulhxbbrsj_jpg.rf.c80ed14402464374c562897ba6fd4d75.txt  \n",
            "  inflating: __MACOSX/+_2863_640_640_label_ACCIDENT_DETECTION.v1i.yolov7pytorch/train/labels/._arkatqejjx0ulhxbbrsj_jpg.rf.c80ed14402464374c562897ba6fd4d75.txt  \n",
            "  inflating: +_2863_640_640_label_ACCIDENT_DETECTION.v1i.yolov7pytorch/train/labels/screen_images11_png_jpg.rf.cd7235b9e8f0fa25b4c705cec9c14809.txt  \n",
            "  inflating: __MACOSX/+_2863_640_640_label_ACCIDENT_DETECTION.v1i.yolov7pytorch/train/labels/._screen_images11_png_jpg.rf.cd7235b9e8f0fa25b4c705cec9c14809.txt  \n",
            "  inflating: +_2863_640_640_label_ACCIDENT_DETECTION.v1i.yolov7pytorch/train/labels/severity_V120_jpg.rf.ed3281063afd97a5234c8a9c6870ba46.txt  \n",
            "  inflating: __MACOSX/+_2863_640_640_label_ACCIDENT_DETECTION.v1i.yolov7pytorch/train/labels/._severity_V120_jpg.rf.ed3281063afd97a5234c8a9c6870ba46.txt  \n",
            "  inflating: +_2863_640_640_label_ACCIDENT_DETECTION.v1i.yolov7pytorch/train/labels/download_jpg.rf.807b6a9d82ead50a32df4cc8ef74f0af.txt  \n",
            "  inflating: __MACOSX/+_2863_640_640_label_ACCIDENT_DETECTION.v1i.yolov7pytorch/train/labels/._download_jpg.rf.807b6a9d82ead50a32df4cc8ef74f0af.txt  \n",
            "  inflating: +_2863_640_640_label_ACCIDENT_DETECTION.v1i.yolov7pytorch/train/labels/traffic_img1887_jpg.rf.e1d81aeae07ec5a3341dc805b3e7c604.txt  \n",
            "  inflating: __MACOSX/+_2863_640_640_label_ACCIDENT_DETECTION.v1i.yolov7pytorch/train/labels/._traffic_img1887_jpg.rf.e1d81aeae07ec5a3341dc805b3e7c604.txt  \n",
            "  inflating: +_2863_640_640_label_ACCIDENT_DETECTION.v1i.yolov7pytorch/train/labels/images-27_jpg.rf.ad125ee052b0ba027af571dfa0785610.txt  \n",
            "  inflating: __MACOSX/+_2863_640_640_label_ACCIDENT_DETECTION.v1i.yolov7pytorch/train/labels/._images-27_jpg.rf.ad125ee052b0ba027af571dfa0785610.txt  \n",
            "  inflating: +_2863_640_640_label_ACCIDENT_DETECTION.v1i.yolov7pytorch/train/labels/severityV4_44_jpg.rf.fd7779671f26f997054a9fa4fc014ee6.txt  \n",
            "  inflating: __MACOSX/+_2863_640_640_label_ACCIDENT_DETECTION.v1i.yolov7pytorch/train/labels/._severityV4_44_jpg.rf.fd7779671f26f997054a9fa4fc014ee6.txt  \n",
            "  inflating: +_2863_640_640_label_ACCIDENT_DETECTION.v1i.yolov7pytorch/train/labels/severityV4_80_jpg.rf.dbc8593cc4f0f54a34778e4051475d46.txt  \n",
            "  inflating: __MACOSX/+_2863_640_640_label_ACCIDENT_DETECTION.v1i.yolov7pytorch/train/labels/._severityV4_80_jpg.rf.dbc8593cc4f0f54a34778e4051475d46.txt  \n",
            "  inflating: +_2863_640_640_label_ACCIDENT_DETECTION.v1i.yolov7pytorch/train/labels/FLIP_CAR_V126_jpg.rf.ac6e16a9ce0844f09257f3135c5cbe0f.txt  \n",
            "  inflating: __MACOSX/+_2863_640_640_label_ACCIDENT_DETECTION.v1i.yolov7pytorch/train/labels/._FLIP_CAR_V126_jpg.rf.ac6e16a9ce0844f09257f3135c5cbe0f.txt  \n",
            "  inflating: +_2863_640_640_label_ACCIDENT_DETECTION.v1i.yolov7pytorch/train/labels/Semi-RealisticVD-232_jpg.rf.eaee091c10d5579cc2cdcbdae081ecab.txt  \n",
            "  inflating: __MACOSX/+_2863_640_640_label_ACCIDENT_DETECTION.v1i.yolov7pytorch/train/labels/._Semi-RealisticVD-232_jpg.rf.eaee091c10d5579cc2cdcbdae081ecab.txt  \n",
            "  inflating: +_2863_640_640_label_ACCIDENT_DETECTION.v1i.yolov7pytorch/train/labels/traffic_img801_jpg.rf.ef091bf30f853b3a683e5c1dd5b3af8d.txt  \n",
            "  inflating: __MACOSX/+_2863_640_640_label_ACCIDENT_DETECTION.v1i.yolov7pytorch/train/labels/._traffic_img801_jpg.rf.ef091bf30f853b3a683e5c1dd5b3af8d.txt  \n",
            "  inflating: +_2863_640_640_label_ACCIDENT_DETECTION.v1i.yolov7pytorch/train/labels/traffic_img1579_jpg.rf.90712c2f617f837799ed21fb624e7f96.txt  \n",
            "  inflating: __MACOSX/+_2863_640_640_label_ACCIDENT_DETECTION.v1i.yolov7pytorch/train/labels/._traffic_img1579_jpg.rf.90712c2f617f837799ed21fb624e7f96.txt  \n",
            "  inflating: +_2863_640_640_label_ACCIDENT_DETECTION.v1i.yolov7pytorch/train/labels/images-15_jpg.rf.30fdd555f6c3c8908107a4a54fcd94ca.txt  \n",
            "  inflating: __MACOSX/+_2863_640_640_label_ACCIDENT_DETECTION.v1i.yolov7pytorch/train/labels/._images-15_jpg.rf.30fdd555f6c3c8908107a4a54fcd94ca.txt  \n",
            "  inflating: +_2863_640_640_label_ACCIDENT_DETECTION.v1i.yolov7pytorch/train/labels/tt1_png_jpg.rf.c340adeccda75a23a2af7df0a063be26.txt  \n",
            "  inflating: __MACOSX/+_2863_640_640_label_ACCIDENT_DETECTION.v1i.yolov7pytorch/train/labels/._tt1_png_jpg.rf.c340adeccda75a23a2af7df0a063be26.txt  \n",
            "  inflating: +_2863_640_640_label_ACCIDENT_DETECTION.v1i.yolov7pytorch/train/labels/severityV4_27_jpg.rf.dcd958a2cf494f44cab6aa73dfb5287d.txt  \n",
            "  inflating: __MACOSX/+_2863_640_640_label_ACCIDENT_DETECTION.v1i.yolov7pytorch/train/labels/._severityV4_27_jpg.rf.dcd958a2cf494f44cab6aa73dfb5287d.txt  \n",
            "  inflating: +_2863_640_640_label_ACCIDENT_DETECTION.v1i.yolov7pytorch/train/labels/accidentFrame2174_jpg.rf.dd7b0f588d0b3645e1639c1ab2ab8042.txt  \n",
            "  inflating: __MACOSX/+_2863_640_640_label_ACCIDENT_DETECTION.v1i.yolov7pytorch/train/labels/._accidentFrame2174_jpg.rf.dd7b0f588d0b3645e1639c1ab2ab8042.txt  \n",
            "  inflating: +_2863_640_640_label_ACCIDENT_DETECTION.v1i.yolov7pytorch/train/labels/14-40_jpg.rf.c61f4307ca7fb4ad3c56976423be75b9.txt  \n",
            "  inflating: __MACOSX/+_2863_640_640_label_ACCIDENT_DETECTION.v1i.yolov7pytorch/train/labels/._14-40_jpg.rf.c61f4307ca7fb4ad3c56976423be75b9.txt  \n",
            "  inflating: +_2863_640_640_label_ACCIDENT_DETECTION.v1i.yolov7pytorch/train/labels/accidentFrame283_jpg.rf.4fa44ce66b33c2870ebf78f9df4258c3.txt  \n",
            "  inflating: __MACOSX/+_2863_640_640_label_ACCIDENT_DETECTION.v1i.yolov7pytorch/train/labels/._accidentFrame283_jpg.rf.4fa44ce66b33c2870ebf78f9df4258c3.txt  \n",
            "  inflating: +_2863_640_640_label_ACCIDENT_DETECTION.v1i.yolov7pytorch/train/labels/sever9_jpg.rf.63bd62b4af241c7794f5429d68bca128.txt  \n",
            "  inflating: __MACOSX/+_2863_640_640_label_ACCIDENT_DETECTION.v1i.yolov7pytorch/train/labels/._sever9_jpg.rf.63bd62b4af241c7794f5429d68bca128.txt  \n",
            "  inflating: +_2863_640_640_label_ACCIDENT_DETECTION.v1i.yolov7pytorch/train/labels/FLIP_CAR_V113_jpg.rf.f4633e071397516325b87659b9684231.txt  \n",
            "  inflating: __MACOSX/+_2863_640_640_label_ACCIDENT_DETECTION.v1i.yolov7pytorch/train/labels/._FLIP_CAR_V113_jpg.rf.f4633e071397516325b87659b9684231.txt  \n",
            "  inflating: +_2863_640_640_label_ACCIDENT_DETECTION.v1i.yolov7pytorch/train/labels/severityV3_29_jpeg_jpg.rf.745bfb02f8408949abd9610176c533d5.txt  \n",
            "  inflating: __MACOSX/+_2863_640_640_label_ACCIDENT_DETECTION.v1i.yolov7pytorch/train/labels/._severityV3_29_jpeg_jpg.rf.745bfb02f8408949abd9610176c533d5.txt  \n",
            "  inflating: +_2863_640_640_label_ACCIDENT_DETECTION.v1i.yolov7pytorch/train/labels/FLIP_CAR_V12_jpg.rf.1781f850e6e000be046fb8112b8beb4c.txt  \n",
            "  inflating: __MACOSX/+_2863_640_640_label_ACCIDENT_DETECTION.v1i.yolov7pytorch/train/labels/._FLIP_CAR_V12_jpg.rf.1781f850e6e000be046fb8112b8beb4c.txt  \n",
            "  inflating: +_2863_640_640_label_ACCIDENT_DETECTION.v1i.yolov7pytorch/train/labels/severityV4_95_jpg.rf.d8b1c75789bd51995ad07624bc6d6900.txt  \n",
            "  inflating: __MACOSX/+_2863_640_640_label_ACCIDENT_DETECTION.v1i.yolov7pytorch/train/labels/._severityV4_95_jpg.rf.d8b1c75789bd51995ad07624bc6d6900.txt  \n",
            "  inflating: +_2863_640_640_label_ACCIDENT_DETECTION.v1i.yolov7pytorch/train/labels/images-13_jpg.rf.1fb7208ae798c6f7f33a10a633cf4f05.txt  \n",
            "  inflating: __MACOSX/+_2863_640_640_label_ACCIDENT_DETECTION.v1i.yolov7pytorch/train/labels/._images-13_jpg.rf.1fb7208ae798c6f7f33a10a633cf4f05.txt  \n",
            "  inflating: +_2863_640_640_label_ACCIDENT_DETECTION.v1i.yolov7pytorch/train/labels/severityV3_15_jpeg_jpg.rf.d7d485022bed74fd55565ab4c25cfb16.txt  \n",
            "  inflating: __MACOSX/+_2863_640_640_label_ACCIDENT_DETECTION.v1i.yolov7pytorch/train/labels/._severityV3_15_jpeg_jpg.rf.d7d485022bed74fd55565ab4c25cfb16.txt  \n",
            "  inflating: +_2863_640_640_label_ACCIDENT_DETECTION.v1i.yolov7pytorch/train/labels/severityV4_39_jpg.rf.02488a0e6cab4c82511d29fb2b022ce0.txt  \n",
            "  inflating: __MACOSX/+_2863_640_640_label_ACCIDENT_DETECTION.v1i.yolov7pytorch/train/labels/._severityV4_39_jpg.rf.02488a0e6cab4c82511d29fb2b022ce0.txt  \n",
            "  inflating: +_2863_640_640_label_ACCIDENT_DETECTION.v1i.yolov7pytorch/train/labels/Semi-RealisticVD-32_jpg.rf.75094b0e0b407a7ece43a53f18940a68.txt  \n",
            "  inflating: __MACOSX/+_2863_640_640_label_ACCIDENT_DETECTION.v1i.yolov7pytorch/train/labels/._Semi-RealisticVD-32_jpg.rf.75094b0e0b407a7ece43a53f18940a68.txt  \n",
            "  inflating: +_2863_640_640_label_ACCIDENT_DETECTION.v1i.yolov7pytorch/train/labels/FLIP_CAR_V174_jpg.rf.fe0bcc405ff465448ccb4404b7be770b.txt  \n",
            "  inflating: __MACOSX/+_2863_640_640_label_ACCIDENT_DETECTION.v1i.yolov7pytorch/train/labels/._FLIP_CAR_V174_jpg.rf.fe0bcc405ff465448ccb4404b7be770b.txt  \n",
            "  inflating: +_2863_640_640_label_ACCIDENT_DETECTION.v1i.yolov7pytorch/train/labels/severity_V110_jpg.rf.a401c84cb13d056cca8702af221fc8a0.txt  \n",
            "  inflating: __MACOSX/+_2863_640_640_label_ACCIDENT_DETECTION.v1i.yolov7pytorch/train/labels/._severity_V110_jpg.rf.a401c84cb13d056cca8702af221fc8a0.txt  \n",
            "  inflating: +_2863_640_640_label_ACCIDENT_DETECTION.v1i.yolov7pytorch/train/labels/traffic_img1894_jpg.rf.4043f4bcf42c977e3d0c7c254ef8f41a.txt  \n",
            "  inflating: __MACOSX/+_2863_640_640_label_ACCIDENT_DETECTION.v1i.yolov7pytorch/train/labels/._traffic_img1894_jpg.rf.4043f4bcf42c977e3d0c7c254ef8f41a.txt  \n",
            "  inflating: +_2863_640_640_label_ACCIDENT_DETECTION.v1i.yolov7pytorch/train/labels/traffic_img12_jpg.rf.3856456c4facfe0f3f096dddf7062ef5.txt  \n",
            "  inflating: __MACOSX/+_2863_640_640_label_ACCIDENT_DETECTION.v1i.yolov7pytorch/train/labels/._traffic_img12_jpg.rf.3856456c4facfe0f3f096dddf7062ef5.txt  \n",
            "  inflating: +_2863_640_640_label_ACCIDENT_DETECTION.v1i.yolov7pytorch/train/labels/severityV4_22_jpg.rf.d54283b33acd142d72065f9a9d04db7e.txt  \n",
            "  inflating: __MACOSX/+_2863_640_640_label_ACCIDENT_DETECTION.v1i.yolov7pytorch/train/labels/._severityV4_22_jpg.rf.d54283b33acd142d72065f9a9d04db7e.txt  \n",
            "  inflating: +_2863_640_640_label_ACCIDENT_DETECTION.v1i.yolov7pytorch/train/labels/download-10_jpg.rf.dcd452dd228ffee4d74b935b40ea32e8.txt  \n",
            "  inflating: __MACOSX/+_2863_640_640_label_ACCIDENT_DETECTION.v1i.yolov7pytorch/train/labels/._download-10_jpg.rf.dcd452dd228ffee4d74b935b40ea32e8.txt  \n",
            "  inflating: +_2863_640_640_label_ACCIDENT_DETECTION.v1i.yolov7pytorch/train/labels/traffic_img26_jpg.rf.e5f35f6a2c1d3fa87d09e330ed134061.txt  \n",
            "  inflating: __MACOSX/+_2863_640_640_label_ACCIDENT_DETECTION.v1i.yolov7pytorch/train/labels/._traffic_img26_jpg.rf.e5f35f6a2c1d3fa87d09e330ed134061.txt  \n",
            "  inflating: +_2863_640_640_label_ACCIDENT_DETECTION.v1i.yolov7pytorch/train/labels/traffic_img1392_jpg.rf.d4ed6ac90f44280972bd8820fefb43f3.txt  \n",
            "  inflating: __MACOSX/+_2863_640_640_label_ACCIDENT_DETECTION.v1i.yolov7pytorch/train/labels/._traffic_img1392_jpg.rf.d4ed6ac90f44280972bd8820fefb43f3.txt  \n",
            "  inflating: +_2863_640_640_label_ACCIDENT_DETECTION.v1i.yolov7pytorch/train/labels/severityV4_53_jpg.rf.5699ecce2db70d16ee60e85e4ae4f4ca.txt  \n",
            "  inflating: __MACOSX/+_2863_640_640_label_ACCIDENT_DETECTION.v1i.yolov7pytorch/train/labels/._severityV4_53_jpg.rf.5699ecce2db70d16ee60e85e4ae4f4ca.txt  \n",
            "  inflating: +_2863_640_640_label_ACCIDENT_DETECTION.v1i.yolov7pytorch/train/labels/sever11_jpg.rf.ed0c9f376f694fa1413f3c2d29149d7b.txt  \n",
            "  inflating: __MACOSX/+_2863_640_640_label_ACCIDENT_DETECTION.v1i.yolov7pytorch/train/labels/._sever11_jpg.rf.ed0c9f376f694fa1413f3c2d29149d7b.txt  \n",
            "  inflating: +_2863_640_640_label_ACCIDENT_DETECTION.v1i.yolov7pytorch/train/labels/FLIP_CAR_V155_jpg.rf.d91341c7b0e2348e731d2e843ac5a59d.txt  \n",
            "  inflating: __MACOSX/+_2863_640_640_label_ACCIDENT_DETECTION.v1i.yolov7pytorch/train/labels/._FLIP_CAR_V155_jpg.rf.d91341c7b0e2348e731d2e843ac5a59d.txt  \n",
            "  inflating: +_2863_640_640_label_ACCIDENT_DETECTION.v1i.yolov7pytorch/train/labels/images-1_jpg.rf.9ac6a73c68201be3a370bda52d36ac08.txt  \n",
            "  inflating: __MACOSX/+_2863_640_640_label_ACCIDENT_DETECTION.v1i.yolov7pytorch/train/labels/._images-1_jpg.rf.9ac6a73c68201be3a370bda52d36ac08.txt  \n",
            "  inflating: +_2863_640_640_label_ACCIDENT_DETECTION.v1i.yolov7pytorch/train/labels/severity_V16_jpg.rf.439c9797e178267644f881c45845dba5.txt  \n",
            "  inflating: __MACOSX/+_2863_640_640_label_ACCIDENT_DETECTION.v1i.yolov7pytorch/train/labels/._severity_V16_jpg.rf.439c9797e178267644f881c45845dba5.txt  \n",
            "  inflating: +_2863_640_640_label_ACCIDENT_DETECTION.v1i.yolov7pytorch/train/labels/images-29_jpg.rf.de069800327d636d577b6c615510abdf.txt  \n",
            "  inflating: __MACOSX/+_2863_640_640_label_ACCIDENT_DETECTION.v1i.yolov7pytorch/train/labels/._images-29_jpg.rf.de069800327d636d577b6c615510abdf.txt  \n",
            "  inflating: +_2863_640_640_label_ACCIDENT_DETECTION.v1i.yolov7pytorch/train/labels/severityV4_28_jpg.rf.259b5caafe622dada8ceeed07a2e5eb7.txt  \n",
            "  inflating: __MACOSX/+_2863_640_640_label_ACCIDENT_DETECTION.v1i.yolov7pytorch/train/labels/._severityV4_28_jpg.rf.259b5caafe622dada8ceeed07a2e5eb7.txt  \n",
            "  inflating: +_2863_640_640_label_ACCIDENT_DETECTION.v1i.yolov7pytorch/train/labels/tt3_png_jpg.rf.efff8236169786c12c126de542b6e3de.txt  \n",
            "  inflating: __MACOSX/+_2863_640_640_label_ACCIDENT_DETECTION.v1i.yolov7pytorch/train/labels/._tt3_png_jpg.rf.efff8236169786c12c126de542b6e3de.txt  \n",
            "  inflating: +_2863_640_640_label_ACCIDENT_DETECTION.v1i.yolov7pytorch/train/labels/images-8_jpg.rf.486d7bb163045a097063c37a7e67a891.txt  \n",
            "  inflating: __MACOSX/+_2863_640_640_label_ACCIDENT_DETECTION.v1i.yolov7pytorch/train/labels/._images-8_jpg.rf.486d7bb163045a097063c37a7e67a891.txt  \n",
            "  inflating: +_2863_640_640_label_ACCIDENT_DETECTION.v1i.yolov7pytorch/train/labels/accidentFrame123_jpg.rf.dfab8d7a38a9d225c1150ecd7d043369.txt  \n",
            "  inflating: __MACOSX/+_2863_640_640_label_ACCIDENT_DETECTION.v1i.yolov7pytorch/train/labels/._accidentFrame123_jpg.rf.dfab8d7a38a9d225c1150ecd7d043369.txt  \n",
            "  inflating: +_2863_640_640_label_ACCIDENT_DETECTION.v1i.yolov7pytorch/train/labels/images-10_jpg.rf.fe2e7538089da195651219d461b6d304.txt  \n",
            "  inflating: __MACOSX/+_2863_640_640_label_ACCIDENT_DETECTION.v1i.yolov7pytorch/train/labels/._images-10_jpg.rf.fe2e7538089da195651219d461b6d304.txt  \n",
            "  inflating: +_2863_640_640_label_ACCIDENT_DETECTION.v1i.yolov7pytorch/train/labels/traffic_img991_jpg.rf.b1802ce817aa5f2c33415841b35f095d.txt  \n",
            "  inflating: __MACOSX/+_2863_640_640_label_ACCIDENT_DETECTION.v1i.yolov7pytorch/train/labels/._traffic_img991_jpg.rf.b1802ce817aa5f2c33415841b35f095d.txt  \n",
            "  inflating: +_2863_640_640_label_ACCIDENT_DETECTION.v1i.yolov7pytorch/train/labels/FLIP_CAR_V117_jpg.rf.3412a567647b2e45e93412504bb85335.txt  \n",
            "  inflating: __MACOSX/+_2863_640_640_label_ACCIDENT_DETECTION.v1i.yolov7pytorch/train/labels/._FLIP_CAR_V117_jpg.rf.3412a567647b2e45e93412504bb85335.txt  \n",
            "  inflating: +_2863_640_640_label_ACCIDENT_DETECTION.v1i.yolov7pytorch/train/labels/download-1_jpg.rf.fe35b5851a10315a3a2029ef044c86f7.txt  \n",
            "  inflating: __MACOSX/+_2863_640_640_label_ACCIDENT_DETECTION.v1i.yolov7pytorch/train/labels/._download-1_jpg.rf.fe35b5851a10315a3a2029ef044c86f7.txt  \n",
            "  inflating: +_2863_640_640_label_ACCIDENT_DETECTION.v1i.yolov7pytorch/train/labels/severityV4_36_jpg.rf.e79663447b5167dd0d58dfd9907a590c.txt  \n",
            "  inflating: __MACOSX/+_2863_640_640_label_ACCIDENT_DETECTION.v1i.yolov7pytorch/train/labels/._severityV4_36_jpg.rf.e79663447b5167dd0d58dfd9907a590c.txt  \n",
            "  inflating: +_2863_640_640_label_ACCIDENT_DETECTION.v1i.yolov7pytorch/train/labels/Severity_Detect_V32_jpg.rf.ee8d794bed0fc4b19651e333856e9e9e.txt  \n",
            "  inflating: __MACOSX/+_2863_640_640_label_ACCIDENT_DETECTION.v1i.yolov7pytorch/train/labels/._Severity_Detect_V32_jpg.rf.ee8d794bed0fc4b19651e333856e9e9e.txt  \n",
            "  inflating: +_2863_640_640_label_ACCIDENT_DETECTION.v1i.yolov7pytorch/train/labels/images-18_jpg.rf.8b1030ed292b0288240e090e4d8d0b27.txt  \n",
            "  inflating: __MACOSX/+_2863_640_640_label_ACCIDENT_DETECTION.v1i.yolov7pytorch/train/labels/._images-18_jpg.rf.8b1030ed292b0288240e090e4d8d0b27.txt  \n",
            "  inflating: +_2863_640_640_label_ACCIDENT_DETECTION.v1i.yolov7pytorch/train/labels/Semi-RealisticVD-143_jpg.rf.db6eaff584c425b0905de8ffd2f83ec0.txt  \n",
            "  inflating: __MACOSX/+_2863_640_640_label_ACCIDENT_DETECTION.v1i.yolov7pytorch/train/labels/._Semi-RealisticVD-143_jpg.rf.db6eaff584c425b0905de8ffd2f83ec0.txt  \n",
            "  inflating: +_2863_640_640_label_ACCIDENT_DETECTION.v1i.yolov7pytorch/train/labels/images-10_jpg.rf.0ca5094a310f424b3354c2b08336f2a9.txt  \n",
            "  inflating: __MACOSX/+_2863_640_640_label_ACCIDENT_DETECTION.v1i.yolov7pytorch/train/labels/._images-10_jpg.rf.0ca5094a310f424b3354c2b08336f2a9.txt  \n",
            "  inflating: +_2863_640_640_label_ACCIDENT_DETECTION.v1i.yolov7pytorch/train/labels/images-7_jpg.rf.fc6bdfd86f8454f206b26f9f4f4e4832.txt  \n",
            "  inflating: __MACOSX/+_2863_640_640_label_ACCIDENT_DETECTION.v1i.yolov7pytorch/train/labels/._images-7_jpg.rf.fc6bdfd86f8454f206b26f9f4f4e4832.txt  \n",
            "  inflating: +_2863_640_640_label_ACCIDENT_DETECTION.v1i.yolov7pytorch/train/labels/756_jpeg_jpg.rf.f65c1ec9805f230dc9dda1e0e11a3164.txt  \n",
            "  inflating: __MACOSX/+_2863_640_640_label_ACCIDENT_DETECTION.v1i.yolov7pytorch/train/labels/._756_jpeg_jpg.rf.f65c1ec9805f230dc9dda1e0e11a3164.txt  \n",
            "  inflating: +_2863_640_640_label_ACCIDENT_DETECTION.v1i.yolov7pytorch/train/labels/severityV4_23_jpg.rf.e41fe2bb54c54428d6aba2d464fc4930.txt  \n",
            "  inflating: __MACOSX/+_2863_640_640_label_ACCIDENT_DETECTION.v1i.yolov7pytorch/train/labels/._severityV4_23_jpg.rf.e41fe2bb54c54428d6aba2d464fc4930.txt  \n",
            "  inflating: +_2863_640_640_label_ACCIDENT_DETECTION.v1i.yolov7pytorch/train/labels/severityV4_85_jpg.rf.669cc4d5bfd5e769ff729054d1d7aa15.txt  \n",
            "  inflating: __MACOSX/+_2863_640_640_label_ACCIDENT_DETECTION.v1i.yolov7pytorch/train/labels/._severityV4_85_jpg.rf.669cc4d5bfd5e769ff729054d1d7aa15.txt  \n",
            "  inflating: +_2863_640_640_label_ACCIDENT_DETECTION.v1i.yolov7pytorch/train/labels/traffic_img1359_jpg.rf.cc74f59276d909281a04ca803683704a.txt  \n",
            "  inflating: __MACOSX/+_2863_640_640_label_ACCIDENT_DETECTION.v1i.yolov7pytorch/train/labels/._traffic_img1359_jpg.rf.cc74f59276d909281a04ca803683704a.txt  \n",
            "  inflating: +_2863_640_640_label_ACCIDENT_DETECTION.v1i.yolov7pytorch/train/labels/download_jpg.rf.2194419e643e31568e275ce056fdb4f1.txt  \n",
            "  inflating: __MACOSX/+_2863_640_640_label_ACCIDENT_DETECTION.v1i.yolov7pytorch/train/labels/._download_jpg.rf.2194419e643e31568e275ce056fdb4f1.txt  \n",
            "  inflating: +_2863_640_640_label_ACCIDENT_DETECTION.v1i.yolov7pytorch/train/labels/severityV4_70_jpg.rf.ccc26ca83061add238979ee8dcaa1bf7.txt  \n",
            "  inflating: __MACOSX/+_2863_640_640_label_ACCIDENT_DETECTION.v1i.yolov7pytorch/train/labels/._severityV4_70_jpg.rf.ccc26ca83061add238979ee8dcaa1bf7.txt  \n",
            "  inflating: +_2863_640_640_label_ACCIDENT_DETECTION.v1i.yolov7pytorch/train/labels/sev8_jpg.rf.a0ad1645ced64bf48a90bc691c668801.txt  \n",
            "  inflating: __MACOSX/+_2863_640_640_label_ACCIDENT_DETECTION.v1i.yolov7pytorch/train/labels/._sev8_jpg.rf.a0ad1645ced64bf48a90bc691c668801.txt  \n",
            "  inflating: +_2863_640_640_label_ACCIDENT_DETECTION.v1i.yolov7pytorch/train/labels/Semi-RealisticVD-132_jpg.rf.ba939526bc9429c6cceb454f255f1cde.txt  \n",
            "  inflating: __MACOSX/+_2863_640_640_label_ACCIDENT_DETECTION.v1i.yolov7pytorch/train/labels/._Semi-RealisticVD-132_jpg.rf.ba939526bc9429c6cceb454f255f1cde.txt  \n",
            "  inflating: +_2863_640_640_label_ACCIDENT_DETECTION.v1i.yolov7pytorch/train/labels/traffic_img1021_jpg.rf.f259f77f43cdb84ea3d34ff900b3de8d.txt  \n",
            "  inflating: __MACOSX/+_2863_640_640_label_ACCIDENT_DETECTION.v1i.yolov7pytorch/train/labels/._traffic_img1021_jpg.rf.f259f77f43cdb84ea3d34ff900b3de8d.txt  \n",
            "  inflating: +_2863_640_640_label_ACCIDENT_DETECTION.v1i.yolov7pytorch/train/labels/accidentFrame2741_jpg.rf.ef03251ec5dec1d76d5e14b91dd6093d.txt  \n",
            "  inflating: __MACOSX/+_2863_640_640_label_ACCIDENT_DETECTION.v1i.yolov7pytorch/train/labels/._accidentFrame2741_jpg.rf.ef03251ec5dec1d76d5e14b91dd6093d.txt  \n",
            "  inflating: +_2863_640_640_label_ACCIDENT_DETECTION.v1i.yolov7pytorch/train/labels/tt1-v4_jpg.rf.f24ebc94361b47a98b61ea3f7fc84c9a.txt  \n",
            "  inflating: __MACOSX/+_2863_640_640_label_ACCIDENT_DETECTION.v1i.yolov7pytorch/train/labels/._tt1-v4_jpg.rf.f24ebc94361b47a98b61ea3f7fc84c9a.txt  \n",
            "  inflating: +_2863_640_640_label_ACCIDENT_DETECTION.v1i.yolov7pytorch/train/labels/FLIP_CAR_V139_jpg.rf.48193ed31b3c4e9ee0a58becf6341dbf.txt  \n",
            "  inflating: __MACOSX/+_2863_640_640_label_ACCIDENT_DETECTION.v1i.yolov7pytorch/train/labels/._FLIP_CAR_V139_jpg.rf.48193ed31b3c4e9ee0a58becf6341dbf.txt  \n",
            "  inflating: +_2863_640_640_label_ACCIDENT_DETECTION.v1i.yolov7pytorch/train/labels/severityV4_79_jpg.rf.e86fa7044281144069f15497962fe408.txt  \n",
            "  inflating: __MACOSX/+_2863_640_640_label_ACCIDENT_DETECTION.v1i.yolov7pytorch/train/labels/._severityV4_79_jpg.rf.e86fa7044281144069f15497962fe408.txt  \n",
            "  inflating: +_2863_640_640_label_ACCIDENT_DETECTION.v1i.yolov7pytorch/train/labels/severityV3_11_jpeg_jpg.rf.eb4313550e0ae616669e82721a376574.txt  \n",
            "  inflating: __MACOSX/+_2863_640_640_label_ACCIDENT_DETECTION.v1i.yolov7pytorch/train/labels/._severityV3_11_jpeg_jpg.rf.eb4313550e0ae616669e82721a376574.txt  \n",
            "  inflating: +_2863_640_640_label_ACCIDENT_DETECTION.v1i.yolov7pytorch/train/labels/images-2_jpg.rf.b5d5318aee7388c423961b102f149123.txt  \n",
            "  inflating: __MACOSX/+_2863_640_640_label_ACCIDENT_DETECTION.v1i.yolov7pytorch/train/labels/._images-2_jpg.rf.b5d5318aee7388c423961b102f149123.txt  \n",
            "  inflating: +_2863_640_640_label_ACCIDENT_DETECTION.v1i.yolov7pytorch/train/labels/images-3_jpg.rf.c2f6628f5631188f2ce2fd70bc340cbb.txt  \n",
            "  inflating: __MACOSX/+_2863_640_640_label_ACCIDENT_DETECTION.v1i.yolov7pytorch/train/labels/._images-3_jpg.rf.c2f6628f5631188f2ce2fd70bc340cbb.txt  \n",
            "  inflating: +_2863_640_640_label_ACCIDENT_DETECTION.v1i.yolov7pytorch/train/labels/FLIP_CAR_V114_jpg.rf.0025094c97567b3af40ef2a540c73105.txt  \n",
            "  inflating: __MACOSX/+_2863_640_640_label_ACCIDENT_DETECTION.v1i.yolov7pytorch/train/labels/._FLIP_CAR_V114_jpg.rf.0025094c97567b3af40ef2a540c73105.txt  \n",
            "  inflating: +_2863_640_640_label_ACCIDENT_DETECTION.v1i.yolov7pytorch/train/labels/download_jpg.rf.bfea953af693a817a3d4d9ae223748a8.txt  \n",
            "  inflating: __MACOSX/+_2863_640_640_label_ACCIDENT_DETECTION.v1i.yolov7pytorch/train/labels/._download_jpg.rf.bfea953af693a817a3d4d9ae223748a8.txt  \n",
            "  inflating: +_2863_640_640_label_ACCIDENT_DETECTION.v1i.yolov7pytorch/train/labels/accidentFrame3008_jpg.rf.6d03d34ca72499705140908702d6709e.txt  \n",
            "  inflating: __MACOSX/+_2863_640_640_label_ACCIDENT_DETECTION.v1i.yolov7pytorch/train/labels/._accidentFrame3008_jpg.rf.6d03d34ca72499705140908702d6709e.txt  \n",
            "  inflating: +_2863_640_640_label_ACCIDENT_DETECTION.v1i.yolov7pytorch/train/labels/accidentFrame112_jpg.rf.a5f917747eee22f27baf19cd24a0a30d.txt  \n",
            "  inflating: __MACOSX/+_2863_640_640_label_ACCIDENT_DETECTION.v1i.yolov7pytorch/train/labels/._accidentFrame112_jpg.rf.a5f917747eee22f27baf19cd24a0a30d.txt  \n",
            "  inflating: +_2863_640_640_label_ACCIDENT_DETECTION.v1i.yolov7pytorch/train/labels/buy3_jpg.rf.1012233a267facf93596378861aa0a12.txt  \n",
            "  inflating: __MACOSX/+_2863_640_640_label_ACCIDENT_DETECTION.v1i.yolov7pytorch/train/labels/._buy3_jpg.rf.1012233a267facf93596378861aa0a12.txt  \n",
            "  inflating: +_2863_640_640_label_ACCIDENT_DETECTION.v1i.yolov7pytorch/train/labels/images-11_jpg.rf.d2fa5bce103d480e0cd7b6c46b3d5500.txt  \n",
            "  inflating: __MACOSX/+_2863_640_640_label_ACCIDENT_DETECTION.v1i.yolov7pytorch/train/labels/._images-11_jpg.rf.d2fa5bce103d480e0cd7b6c46b3d5500.txt  \n",
            "  inflating: +_2863_640_640_label_ACCIDENT_DETECTION.v1i.yolov7pytorch/train/labels/severityV3_35_jpeg_jpg.rf.9266876b8ad744f5e285903ed98bf4f5.txt  \n",
            "  inflating: __MACOSX/+_2863_640_640_label_ACCIDENT_DETECTION.v1i.yolov7pytorch/train/labels/._severityV3_35_jpeg_jpg.rf.9266876b8ad744f5e285903ed98bf4f5.txt  \n",
            "  inflating: +_2863_640_640_label_ACCIDENT_DETECTION.v1i.yolov7pytorch/train/labels/images_002_jpg.rf.e8efc111d7280dbe50eb370532ccc5dc.txt  \n",
            "  inflating: __MACOSX/+_2863_640_640_label_ACCIDENT_DETECTION.v1i.yolov7pytorch/train/labels/._images_002_jpg.rf.e8efc111d7280dbe50eb370532ccc5dc.txt  \n",
            "  inflating: +_2863_640_640_label_ACCIDENT_DETECTION.v1i.yolov7pytorch/train/labels/FLIP_CAR_V171_jpg.rf.e1b2467e0b654735f6cbe325482899e8.txt  \n",
            "  inflating: __MACOSX/+_2863_640_640_label_ACCIDENT_DETECTION.v1i.yolov7pytorch/train/labels/._FLIP_CAR_V171_jpg.rf.e1b2467e0b654735f6cbe325482899e8.txt  \n",
            "  inflating: +_2863_640_640_label_ACCIDENT_DETECTION.v1i.yolov7pytorch/train/labels/2Q__-6-_jpg.rf.b192133c38a9bd50c1ab84734f772d4f.txt  \n",
            "  inflating: __MACOSX/+_2863_640_640_label_ACCIDENT_DETECTION.v1i.yolov7pytorch/train/labels/._2Q__-6-_jpg.rf.b192133c38a9bd50c1ab84734f772d4f.txt  \n",
            "  inflating: +_2863_640_640_label_ACCIDENT_DETECTION.v1i.yolov7pytorch/train/labels/traffic_img1834_jpg.rf.ceb352bd578f4caf43e54a8a1546ff4f.txt  \n",
            "  inflating: __MACOSX/+_2863_640_640_label_ACCIDENT_DETECTION.v1i.yolov7pytorch/train/labels/._traffic_img1834_jpg.rf.ceb352bd578f4caf43e54a8a1546ff4f.txt  \n",
            "  inflating: +_2863_640_640_label_ACCIDENT_DETECTION.v1i.yolov7pytorch/train/labels/792_jpeg_jpg.rf.5516cd08a6a7f9b15e7977d5e1a9e2bc.txt  \n",
            "  inflating: __MACOSX/+_2863_640_640_label_ACCIDENT_DETECTION.v1i.yolov7pytorch/train/labels/._792_jpeg_jpg.rf.5516cd08a6a7f9b15e7977d5e1a9e2bc.txt  \n",
            "  inflating: +_2863_640_640_label_ACCIDENT_DETECTION.v1i.yolov7pytorch/train/labels/traffic_img1380_jpg.rf.026cbf2f7294fee85468c97b0ae44233.txt  \n",
            "  inflating: __MACOSX/+_2863_640_640_label_ACCIDENT_DETECTION.v1i.yolov7pytorch/train/labels/._traffic_img1380_jpg.rf.026cbf2f7294fee85468c97b0ae44233.txt  \n",
            "  inflating: +_2863_640_640_label_ACCIDENT_DETECTION.v1i.yolov7pytorch/train/labels/traffic_img2094_jpg.rf.43d1883daca96e04ffc4378b893f85dd.txt  \n",
            "  inflating: __MACOSX/+_2863_640_640_label_ACCIDENT_DETECTION.v1i.yolov7pytorch/train/labels/._traffic_img2094_jpg.rf.43d1883daca96e04ffc4378b893f85dd.txt  \n",
            "  inflating: +_2863_640_640_label_ACCIDENT_DETECTION.v1i.yolov7pytorch/train/labels/traffic_img1657_jpg.rf.b7b4272c67c079514bd4fb5f11b76fec.txt  \n",
            "  inflating: __MACOSX/+_2863_640_640_label_ACCIDENT_DETECTION.v1i.yolov7pytorch/train/labels/._traffic_img1657_jpg.rf.b7b4272c67c079514bd4fb5f11b76fec.txt  \n"
          ]
        }
      ]
    },
    {
      "cell_type": "code",
      "source": [
        "!pip install ultralytics"
      ],
      "metadata": {
        "id": "tylFMtRiP_ye",
        "colab": {
          "base_uri": "https://localhost:8080/"
        },
        "outputId": "e6aa73f5-2976-4503-ccab-b7d101260f13"
      },
      "execution_count": 4,
      "outputs": [
        {
          "output_type": "stream",
          "name": "stdout",
          "text": [
            "Collecting ultralytics\n",
            "  Downloading ultralytics-8.3.13-py3-none-any.whl.metadata (34 kB)\n",
            "Requirement already satisfied: numpy>=1.23.0 in /usr/local/lib/python3.10/dist-packages (from ultralytics) (1.26.4)\n",
            "Requirement already satisfied: matplotlib>=3.3.0 in /usr/local/lib/python3.10/dist-packages (from ultralytics) (3.7.1)\n",
            "Requirement already satisfied: opencv-python>=4.6.0 in /usr/local/lib/python3.10/dist-packages (from ultralytics) (4.10.0.84)\n",
            "Requirement already satisfied: pillow>=7.1.2 in /usr/local/lib/python3.10/dist-packages (from ultralytics) (10.4.0)\n",
            "Requirement already satisfied: pyyaml>=5.3.1 in /usr/local/lib/python3.10/dist-packages (from ultralytics) (6.0.2)\n",
            "Requirement already satisfied: requests>=2.23.0 in /usr/local/lib/python3.10/dist-packages (from ultralytics) (2.32.3)\n",
            "Requirement already satisfied: scipy>=1.4.1 in /usr/local/lib/python3.10/dist-packages (from ultralytics) (1.13.1)\n",
            "Requirement already satisfied: torch>=1.8.0 in /usr/local/lib/python3.10/dist-packages (from ultralytics) (2.4.1+cu121)\n",
            "Requirement already satisfied: torchvision>=0.9.0 in /usr/local/lib/python3.10/dist-packages (from ultralytics) (0.19.1+cu121)\n",
            "Requirement already satisfied: tqdm>=4.64.0 in /usr/local/lib/python3.10/dist-packages (from ultralytics) (4.66.5)\n",
            "Requirement already satisfied: psutil in /usr/local/lib/python3.10/dist-packages (from ultralytics) (5.9.5)\n",
            "Requirement already satisfied: py-cpuinfo in /usr/local/lib/python3.10/dist-packages (from ultralytics) (9.0.0)\n",
            "Requirement already satisfied: pandas>=1.1.4 in /usr/local/lib/python3.10/dist-packages (from ultralytics) (2.2.2)\n",
            "Requirement already satisfied: seaborn>=0.11.0 in /usr/local/lib/python3.10/dist-packages (from ultralytics) (0.13.2)\n",
            "Collecting ultralytics-thop>=2.0.0 (from ultralytics)\n",
            "  Downloading ultralytics_thop-2.0.9-py3-none-any.whl.metadata (9.3 kB)\n",
            "Requirement already satisfied: contourpy>=1.0.1 in /usr/local/lib/python3.10/dist-packages (from matplotlib>=3.3.0->ultralytics) (1.3.0)\n",
            "Requirement already satisfied: cycler>=0.10 in /usr/local/lib/python3.10/dist-packages (from matplotlib>=3.3.0->ultralytics) (0.12.1)\n",
            "Requirement already satisfied: fonttools>=4.22.0 in /usr/local/lib/python3.10/dist-packages (from matplotlib>=3.3.0->ultralytics) (4.54.1)\n",
            "Requirement already satisfied: kiwisolver>=1.0.1 in /usr/local/lib/python3.10/dist-packages (from matplotlib>=3.3.0->ultralytics) (1.4.7)\n",
            "Requirement already satisfied: packaging>=20.0 in /usr/local/lib/python3.10/dist-packages (from matplotlib>=3.3.0->ultralytics) (24.1)\n",
            "Requirement already satisfied: pyparsing>=2.3.1 in /usr/local/lib/python3.10/dist-packages (from matplotlib>=3.3.0->ultralytics) (3.1.4)\n",
            "Requirement already satisfied: python-dateutil>=2.7 in /usr/local/lib/python3.10/dist-packages (from matplotlib>=3.3.0->ultralytics) (2.8.2)\n",
            "Requirement already satisfied: pytz>=2020.1 in /usr/local/lib/python3.10/dist-packages (from pandas>=1.1.4->ultralytics) (2024.2)\n",
            "Requirement already satisfied: tzdata>=2022.7 in /usr/local/lib/python3.10/dist-packages (from pandas>=1.1.4->ultralytics) (2024.2)\n",
            "Requirement already satisfied: charset-normalizer<4,>=2 in /usr/local/lib/python3.10/dist-packages (from requests>=2.23.0->ultralytics) (3.4.0)\n",
            "Requirement already satisfied: idna<4,>=2.5 in /usr/local/lib/python3.10/dist-packages (from requests>=2.23.0->ultralytics) (3.10)\n",
            "Requirement already satisfied: urllib3<3,>=1.21.1 in /usr/local/lib/python3.10/dist-packages (from requests>=2.23.0->ultralytics) (2.2.3)\n",
            "Requirement already satisfied: certifi>=2017.4.17 in /usr/local/lib/python3.10/dist-packages (from requests>=2.23.0->ultralytics) (2024.8.30)\n",
            "Requirement already satisfied: filelock in /usr/local/lib/python3.10/dist-packages (from torch>=1.8.0->ultralytics) (3.16.1)\n",
            "Requirement already satisfied: typing-extensions>=4.8.0 in /usr/local/lib/python3.10/dist-packages (from torch>=1.8.0->ultralytics) (4.12.2)\n",
            "Requirement already satisfied: sympy in /usr/local/lib/python3.10/dist-packages (from torch>=1.8.0->ultralytics) (1.13.3)\n",
            "Requirement already satisfied: networkx in /usr/local/lib/python3.10/dist-packages (from torch>=1.8.0->ultralytics) (3.4)\n",
            "Requirement already satisfied: jinja2 in /usr/local/lib/python3.10/dist-packages (from torch>=1.8.0->ultralytics) (3.1.4)\n",
            "Requirement already satisfied: fsspec in /usr/local/lib/python3.10/dist-packages (from torch>=1.8.0->ultralytics) (2024.6.1)\n",
            "Requirement already satisfied: six>=1.5 in /usr/local/lib/python3.10/dist-packages (from python-dateutil>=2.7->matplotlib>=3.3.0->ultralytics) (1.16.0)\n",
            "Requirement already satisfied: MarkupSafe>=2.0 in /usr/local/lib/python3.10/dist-packages (from jinja2->torch>=1.8.0->ultralytics) (3.0.1)\n",
            "Requirement already satisfied: mpmath<1.4,>=1.1.0 in /usr/local/lib/python3.10/dist-packages (from sympy->torch>=1.8.0->ultralytics) (1.3.0)\n",
            "Downloading ultralytics-8.3.13-py3-none-any.whl (870 kB)\n",
            "\u001b[2K   \u001b[90m━━━━━━━━━━━━━━━━━━━━━━━━━━━━━━━━━━━━━━━━\u001b[0m \u001b[32m870.5/870.5 kB\u001b[0m \u001b[31m48.8 MB/s\u001b[0m eta \u001b[36m0:00:00\u001b[0m\n",
            "\u001b[?25hDownloading ultralytics_thop-2.0.9-py3-none-any.whl (26 kB)\n",
            "Installing collected packages: ultralytics-thop, ultralytics\n",
            "Successfully installed ultralytics-8.3.13 ultralytics-thop-2.0.9\n"
          ]
        }
      ]
    },
    {
      "cell_type": "code",
      "source": [
        "from ultralytics import YOLO"
      ],
      "metadata": {
        "id": "rpTvNvwNR8wW",
        "colab": {
          "base_uri": "https://localhost:8080/"
        },
        "outputId": "f1d0d4c3-8904-4e1c-b8bf-bc5e651a0a6b"
      },
      "execution_count": 5,
      "outputs": [
        {
          "output_type": "stream",
          "name": "stdout",
          "text": [
            "Creating new Ultralytics Settings v0.0.6 file ✅ \n",
            "View Ultralytics Settings with 'yolo settings' or at '/root/.config/Ultralytics/settings.json'\n",
            "Update Settings with 'yolo settings key=value', i.e. 'yolo settings runs_dir=path/to/dir'. For help see https://docs.ultralytics.com/quickstart/#ultralytics-settings.\n"
          ]
        }
      ]
    },
    {
      "cell_type": "code",
      "source": [
        "model = YOLO(\"yolo11n.pt\")"
      ],
      "metadata": {
        "id": "2Yf3JtovRhrU",
        "colab": {
          "base_uri": "https://localhost:8080/"
        },
        "outputId": "82e64871-aede-435a-d3dc-bcaea5151afc"
      },
      "execution_count": 6,
      "outputs": [
        {
          "output_type": "stream",
          "name": "stdout",
          "text": [
            "Downloading https://github.com/ultralytics/assets/releases/download/v8.3.0/yolo11n.pt to 'yolo11n.pt'...\n"
          ]
        },
        {
          "output_type": "stream",
          "name": "stderr",
          "text": [
            "100%|██████████| 5.35M/5.35M [00:00<00:00, 247MB/s]\n"
          ]
        }
      ]
    },
    {
      "cell_type": "code",
      "source": [
        "model.info()"
      ],
      "metadata": {
        "colab": {
          "base_uri": "https://localhost:8080/"
        },
        "id": "x1zRSJMCY-ft",
        "outputId": "fac5c96f-b8be-4d30-ac4d-72dbda1906ed"
      },
      "execution_count": 7,
      "outputs": [
        {
          "output_type": "stream",
          "name": "stdout",
          "text": [
            "YOLO11n summary: 319 layers, 2,624,080 parameters, 0 gradients, 6.6 GFLOPs\n"
          ]
        },
        {
          "output_type": "execute_result",
          "data": {
            "text/plain": [
              "(319, 2624080, 0, 6.614336)"
            ]
          },
          "metadata": {},
          "execution_count": 7
        }
      ]
    },
    {
      "cell_type": "code",
      "source": [
        "results = model.train(data=\"/content/+_2863_640_640_label_ACCIDENT_DETECTION.v1i.yolov7pytorch/data.yaml\", epochs=100, imgsz=640, device=0, batch=60, plots=True, profile=True)"
      ],
      "metadata": {
        "colab": {
          "base_uri": "https://localhost:8080/"
        },
        "id": "TE06EaiGSBEt",
        "outputId": "27256a1e-58c7-47d7-8b96-048a119cdee8"
      },
      "execution_count": 8,
      "outputs": [
        {
          "output_type": "stream",
          "name": "stdout",
          "text": [
            "Ultralytics 8.3.13 🚀 Python-3.10.12 torch-2.4.1+cu121 CUDA:0 (Tesla T4, 15102MiB)\n",
            "\u001b[34m\u001b[1mengine/trainer: \u001b[0mtask=detect, mode=train, model=yolo11n.pt, data=/content/+_2863_640_640_label_ACCIDENT_DETECTION.v1i.yolov7pytorch/data.yaml, epochs=100, time=None, patience=100, batch=60, imgsz=640, save=True, save_period=-1, cache=False, device=0, workers=8, project=None, name=train, exist_ok=False, pretrained=True, optimizer=auto, verbose=True, seed=0, deterministic=True, single_cls=False, rect=False, cos_lr=False, close_mosaic=10, resume=False, amp=True, fraction=1.0, profile=True, freeze=None, multi_scale=False, overlap_mask=True, mask_ratio=4, dropout=0.0, val=True, split=val, save_json=False, save_hybrid=False, conf=None, iou=0.7, max_det=300, half=False, dnn=False, plots=True, source=None, vid_stride=1, stream_buffer=False, visualize=False, augment=False, agnostic_nms=False, classes=None, retina_masks=False, embed=None, show=False, save_frames=False, save_txt=False, save_conf=False, save_crop=False, show_labels=True, show_conf=True, show_boxes=True, line_width=None, format=torchscript, keras=False, optimize=False, int8=False, dynamic=False, simplify=True, opset=None, workspace=4, nms=False, lr0=0.01, lrf=0.01, momentum=0.937, weight_decay=0.0005, warmup_epochs=3.0, warmup_momentum=0.8, warmup_bias_lr=0.1, box=7.5, cls=0.5, dfl=1.5, pose=12.0, kobj=1.0, label_smoothing=0.0, nbs=64, hsv_h=0.015, hsv_s=0.7, hsv_v=0.4, degrees=0.0, translate=0.1, scale=0.5, shear=0.0, perspective=0.0, flipud=0.0, fliplr=0.5, bgr=0.0, mosaic=1.0, mixup=0.0, copy_paste=0.0, copy_paste_mode=flip, auto_augment=randaugment, erasing=0.4, crop_fraction=1.0, cfg=None, tracker=botsort.yaml, save_dir=runs/detect/train\n",
            "Downloading https://ultralytics.com/assets/Arial.ttf to '/root/.config/Ultralytics/Arial.ttf'...\n"
          ]
        },
        {
          "output_type": "stream",
          "name": "stderr",
          "text": [
            "100%|██████████| 755k/755k [00:00<00:00, 89.7MB/s]\n"
          ]
        },
        {
          "output_type": "stream",
          "name": "stdout",
          "text": [
            "Overriding model.yaml nc=80 with nc=2\n",
            "\n",
            "                   from  n    params  module                                       arguments                     \n",
            "  0                  -1  1       464  ultralytics.nn.modules.conv.Conv             [3, 16, 3, 2]                 \n",
            "  1                  -1  1      4672  ultralytics.nn.modules.conv.Conv             [16, 32, 3, 2]                \n",
            "  2                  -1  1      6640  ultralytics.nn.modules.block.C3k2            [32, 64, 1, False, 0.25]      \n",
            "  3                  -1  1     36992  ultralytics.nn.modules.conv.Conv             [64, 64, 3, 2]                \n",
            "  4                  -1  1     26080  ultralytics.nn.modules.block.C3k2            [64, 128, 1, False, 0.25]     \n",
            "  5                  -1  1    147712  ultralytics.nn.modules.conv.Conv             [128, 128, 3, 2]              \n",
            "  6                  -1  1     87040  ultralytics.nn.modules.block.C3k2            [128, 128, 1, True]           \n",
            "  7                  -1  1    295424  ultralytics.nn.modules.conv.Conv             [128, 256, 3, 2]              \n",
            "  8                  -1  1    346112  ultralytics.nn.modules.block.C3k2            [256, 256, 1, True]           \n",
            "  9                  -1  1    164608  ultralytics.nn.modules.block.SPPF            [256, 256, 5]                 \n",
            " 10                  -1  1    249728  ultralytics.nn.modules.block.C2PSA           [256, 256, 1]                 \n",
            " 11                  -1  1         0  torch.nn.modules.upsampling.Upsample         [None, 2, 'nearest']          \n",
            " 12             [-1, 6]  1         0  ultralytics.nn.modules.conv.Concat           [1]                           \n",
            " 13                  -1  1    111296  ultralytics.nn.modules.block.C3k2            [384, 128, 1, False]          \n",
            " 14                  -1  1         0  torch.nn.modules.upsampling.Upsample         [None, 2, 'nearest']          \n",
            " 15             [-1, 4]  1         0  ultralytics.nn.modules.conv.Concat           [1]                           \n",
            " 16                  -1  1     32096  ultralytics.nn.modules.block.C3k2            [256, 64, 1, False]           \n",
            " 17                  -1  1     36992  ultralytics.nn.modules.conv.Conv             [64, 64, 3, 2]                \n",
            " 18            [-1, 13]  1         0  ultralytics.nn.modules.conv.Concat           [1]                           \n",
            " 19                  -1  1     86720  ultralytics.nn.modules.block.C3k2            [192, 128, 1, False]          \n",
            " 20                  -1  1    147712  ultralytics.nn.modules.conv.Conv             [128, 128, 3, 2]              \n",
            " 21            [-1, 10]  1         0  ultralytics.nn.modules.conv.Concat           [1]                           \n",
            " 22                  -1  1    378880  ultralytics.nn.modules.block.C3k2            [384, 256, 1, True]           \n",
            " 23        [16, 19, 22]  1    431062  ultralytics.nn.modules.head.Detect           [2, [64, 128, 256]]           \n",
            "YOLO11n summary: 319 layers, 2,590,230 parameters, 2,590,214 gradients, 6.4 GFLOPs\n",
            "\n",
            "Transferred 448/499 items from pretrained weights\n",
            "\u001b[34m\u001b[1mTensorBoard: \u001b[0mStart with 'tensorboard --logdir runs/detect/train', view at http://localhost:6006/\n",
            "Freezing layer 'model.23.dfl.conv.weight'\n",
            "\u001b[34m\u001b[1mAMP: \u001b[0mrunning Automatic Mixed Precision (AMP) checks with YOLO11n...\n",
            "\u001b[34m\u001b[1mAMP: \u001b[0mchecks passed ✅\n"
          ]
        },
        {
          "output_type": "stream",
          "name": "stderr",
          "text": [
            "\u001b[34m\u001b[1mtrain: \u001b[0mScanning /content/+_2863_640_640_label_ACCIDENT_DETECTION.v1i.yolov7pytorch/train/labels... 787 images, 3 backgrounds, 0 corrupt: 100%|██████████| 788/788 [00:00<00:00, 1961.40it/s]\n"
          ]
        },
        {
          "output_type": "stream",
          "name": "stdout",
          "text": [
            "\u001b[34m\u001b[1mtrain: \u001b[0mNew cache created: /content/+_2863_640_640_label_ACCIDENT_DETECTION.v1i.yolov7pytorch/train/labels.cache\n",
            "\u001b[34m\u001b[1malbumentations: \u001b[0mBlur(p=0.01, blur_limit=(3, 7)), MedianBlur(p=0.01, blur_limit=(3, 7)), ToGray(p=0.01, num_output_channels=3, method='weighted_average'), CLAHE(p=0.01, clip_limit=(1, 4.0), tile_grid_size=(8, 8))\n"
          ]
        },
        {
          "output_type": "stream",
          "name": "stderr",
          "text": [
            "/usr/local/lib/python3.10/dist-packages/albumentations/__init__.py:13: UserWarning: A new version of Albumentations is available: 1.4.18 (you have 1.4.15). Upgrade using: pip install -U albumentations. To disable automatic update checks, set the environment variable NO_ALBUMENTATIONS_UPDATE to 1.\n",
            "  check_for_updates()\n",
            "\u001b[34m\u001b[1mval: \u001b[0mScanning /content/+_2863_640_640_label_ACCIDENT_DETECTION.v1i.yolov7pytorch/valid/labels... 202 images, 0 backgrounds, 0 corrupt: 100%|██████████| 202/202 [00:00<00:00, 1065.32it/s]"
          ]
        },
        {
          "output_type": "stream",
          "name": "stdout",
          "text": [
            "\u001b[34m\u001b[1mval: \u001b[0mNew cache created: /content/+_2863_640_640_label_ACCIDENT_DETECTION.v1i.yolov7pytorch/valid/labels.cache\n"
          ]
        },
        {
          "output_type": "stream",
          "name": "stderr",
          "text": [
            "\n"
          ]
        },
        {
          "output_type": "stream",
          "name": "stdout",
          "text": [
            "Plotting labels to runs/detect/train/labels.jpg... \n",
            "\u001b[34m\u001b[1moptimizer:\u001b[0m 'optimizer=auto' found, ignoring 'lr0=0.01' and 'momentum=0.937' and determining best 'optimizer', 'lr0' and 'momentum' automatically... \n",
            "\u001b[34m\u001b[1moptimizer:\u001b[0m AdamW(lr=0.001667, momentum=0.9) with parameter groups 81 weight(decay=0.0), 88 weight(decay=0.00046875), 87 bias(decay=0.0)\n",
            "\u001b[34m\u001b[1mTensorBoard: \u001b[0mmodel graph visualization added ✅\n",
            "Image sizes 640 train, 640 val\n",
            "Using 2 dataloader workers\n",
            "Logging results to \u001b[1mruns/detect/train\u001b[0m\n",
            "Starting training for 100 epochs...\n",
            "\n",
            "      Epoch    GPU_mem   box_loss   cls_loss   dfl_loss  Instances       Size\n"
          ]
        },
        {
          "output_type": "stream",
          "name": "stderr",
          "text": [
            "      1/100      9.13G      1.065      3.226       1.39         16        640: 100%|██████████| 14/14 [00:16<00:00,  1.21s/it]\n",
            "                 Class     Images  Instances      Box(P          R      mAP50  mAP50-95): 100%|██████████| 2/2 [00:04<00:00,  2.25s/it]"
          ]
        },
        {
          "output_type": "stream",
          "name": "stdout",
          "text": [
            "                   all        202        206    0.00326      0.993       0.26      0.153\n"
          ]
        },
        {
          "output_type": "stream",
          "name": "stderr",
          "text": [
            "\n"
          ]
        },
        {
          "output_type": "stream",
          "name": "stdout",
          "text": [
            "\n",
            "      Epoch    GPU_mem   box_loss   cls_loss   dfl_loss  Instances       Size\n"
          ]
        },
        {
          "output_type": "stream",
          "name": "stderr",
          "text": [
            "      2/100      8.28G     0.9987      2.522      1.385         25        640: 100%|██████████| 14/14 [00:12<00:00,  1.13it/s]\n",
            "                 Class     Images  Instances      Box(P          R      mAP50  mAP50-95): 100%|██████████| 2/2 [00:03<00:00,  1.66s/it]"
          ]
        },
        {
          "output_type": "stream",
          "name": "stdout",
          "text": [
            "                   all        202        206    0.00316      0.959      0.159     0.0751\n"
          ]
        },
        {
          "output_type": "stream",
          "name": "stderr",
          "text": [
            "\n"
          ]
        },
        {
          "output_type": "stream",
          "name": "stdout",
          "text": [
            "\n",
            "      Epoch    GPU_mem   box_loss   cls_loss   dfl_loss  Instances       Size\n"
          ]
        },
        {
          "output_type": "stream",
          "name": "stderr",
          "text": [
            "      3/100      8.28G      1.095      2.178      1.452         16        640: 100%|██████████| 14/14 [00:12<00:00,  1.12it/s]\n",
            "                 Class     Images  Instances      Box(P          R      mAP50  mAP50-95): 100%|██████████| 2/2 [00:03<00:00,  1.60s/it]"
          ]
        },
        {
          "output_type": "stream",
          "name": "stdout",
          "text": [
            "                   all        202        206      0.178      0.136      0.161     0.0804\n"
          ]
        },
        {
          "output_type": "stream",
          "name": "stderr",
          "text": [
            "\n"
          ]
        },
        {
          "output_type": "stream",
          "name": "stdout",
          "text": [
            "\n",
            "      Epoch    GPU_mem   box_loss   cls_loss   dfl_loss  Instances       Size\n"
          ]
        },
        {
          "output_type": "stream",
          "name": "stderr",
          "text": [
            "      4/100      8.28G      1.115      2.113      1.435         13        640: 100%|██████████| 14/14 [00:13<00:00,  1.05it/s]\n",
            "                 Class     Images  Instances      Box(P          R      mAP50  mAP50-95): 100%|██████████| 2/2 [00:02<00:00,  1.48s/it]"
          ]
        },
        {
          "output_type": "stream",
          "name": "stdout",
          "text": [
            "                   all        202        206      0.601      0.107      0.081     0.0269\n"
          ]
        },
        {
          "output_type": "stream",
          "name": "stderr",
          "text": [
            "\n"
          ]
        },
        {
          "output_type": "stream",
          "name": "stdout",
          "text": [
            "\n",
            "      Epoch    GPU_mem   box_loss   cls_loss   dfl_loss  Instances       Size\n"
          ]
        },
        {
          "output_type": "stream",
          "name": "stderr",
          "text": [
            "      5/100      8.25G      1.179      2.033      1.479         20        640: 100%|██████████| 14/14 [00:13<00:00,  1.03it/s]\n",
            "                 Class     Images  Instances      Box(P          R      mAP50  mAP50-95): 100%|██████████| 2/2 [00:03<00:00,  1.56s/it]"
          ]
        },
        {
          "output_type": "stream",
          "name": "stdout",
          "text": [
            "                   all        202        206     0.0603      0.233     0.0654     0.0229\n"
          ]
        },
        {
          "output_type": "stream",
          "name": "stderr",
          "text": [
            "\n"
          ]
        },
        {
          "output_type": "stream",
          "name": "stdout",
          "text": [
            "\n",
            "      Epoch    GPU_mem   box_loss   cls_loss   dfl_loss  Instances       Size\n"
          ]
        },
        {
          "output_type": "stream",
          "name": "stderr",
          "text": [
            "      6/100      8.28G      1.288       2.01      1.539         15        640: 100%|██████████| 14/14 [00:13<00:00,  1.00it/s]\n",
            "                 Class     Images  Instances      Box(P          R      mAP50  mAP50-95): 100%|██████████| 2/2 [00:02<00:00,  1.46s/it]"
          ]
        },
        {
          "output_type": "stream",
          "name": "stdout",
          "text": [
            "                   all        202        206      0.276     0.0111     0.0205     0.0101\n"
          ]
        },
        {
          "output_type": "stream",
          "name": "stderr",
          "text": [
            "\n"
          ]
        },
        {
          "output_type": "stream",
          "name": "stdout",
          "text": [
            "\n",
            "      Epoch    GPU_mem   box_loss   cls_loss   dfl_loss  Instances       Size\n"
          ]
        },
        {
          "output_type": "stream",
          "name": "stderr",
          "text": [
            "      7/100      8.28G      1.258      1.946      1.549         20        640: 100%|██████████| 14/14 [00:13<00:00,  1.05it/s]\n",
            "                 Class     Images  Instances      Box(P          R      mAP50  mAP50-95): 100%|██████████| 2/2 [00:02<00:00,  1.42s/it]"
          ]
        },
        {
          "output_type": "stream",
          "name": "stdout",
          "text": [
            "                   all        202        206     0.0286     0.0183     0.0118    0.00297\n"
          ]
        },
        {
          "output_type": "stream",
          "name": "stderr",
          "text": [
            "\n"
          ]
        },
        {
          "output_type": "stream",
          "name": "stdout",
          "text": [
            "\n",
            "      Epoch    GPU_mem   box_loss   cls_loss   dfl_loss  Instances       Size\n"
          ]
        },
        {
          "output_type": "stream",
          "name": "stderr",
          "text": [
            "      8/100      8.28G      1.321      1.968      1.578         14        640: 100%|██████████| 14/14 [00:13<00:00,  1.00it/s]\n",
            "                 Class     Images  Instances      Box(P          R      mAP50  mAP50-95): 100%|██████████| 2/2 [00:02<00:00,  1.23s/it]"
          ]
        },
        {
          "output_type": "stream",
          "name": "stdout",
          "text": [
            "                   all        202        206    0.00168      0.381    0.00267   0.000631\n"
          ]
        },
        {
          "output_type": "stream",
          "name": "stderr",
          "text": [
            "\n"
          ]
        },
        {
          "output_type": "stream",
          "name": "stdout",
          "text": [
            "\n",
            "      Epoch    GPU_mem   box_loss   cls_loss   dfl_loss  Instances       Size\n"
          ]
        },
        {
          "output_type": "stream",
          "name": "stderr",
          "text": [
            "      9/100      8.28G      1.366      1.915      1.609         12        640: 100%|██████████| 14/14 [00:13<00:00,  1.02it/s]\n",
            "                 Class     Images  Instances      Box(P          R      mAP50  mAP50-95): 100%|██████████| 2/2 [00:02<00:00,  1.26s/it]"
          ]
        },
        {
          "output_type": "stream",
          "name": "stdout",
          "text": [
            "                   all        202        206    0.00751      0.295    0.00654    0.00202\n"
          ]
        },
        {
          "output_type": "stream",
          "name": "stderr",
          "text": [
            "\n"
          ]
        },
        {
          "output_type": "stream",
          "name": "stdout",
          "text": [
            "\n",
            "      Epoch    GPU_mem   box_loss   cls_loss   dfl_loss  Instances       Size\n"
          ]
        },
        {
          "output_type": "stream",
          "name": "stderr",
          "text": [
            "     10/100      8.28G      1.336      1.793      1.568         17        640: 100%|██████████| 14/14 [00:13<00:00,  1.06it/s]\n",
            "                 Class     Images  Instances      Box(P          R      mAP50  mAP50-95): 100%|██████████| 2/2 [00:02<00:00,  1.19s/it]"
          ]
        },
        {
          "output_type": "stream",
          "name": "stdout",
          "text": [
            "                   all        202        206     0.0264     0.0616     0.0157    0.00559\n"
          ]
        },
        {
          "output_type": "stream",
          "name": "stderr",
          "text": [
            "\n"
          ]
        },
        {
          "output_type": "stream",
          "name": "stdout",
          "text": [
            "\n",
            "      Epoch    GPU_mem   box_loss   cls_loss   dfl_loss  Instances       Size\n"
          ]
        },
        {
          "output_type": "stream",
          "name": "stderr",
          "text": [
            "     11/100      8.28G      1.332        1.8      1.586         10        640: 100%|██████████| 14/14 [00:13<00:00,  1.04it/s]\n",
            "                 Class     Images  Instances      Box(P          R      mAP50  mAP50-95): 100%|██████████| 2/2 [00:02<00:00,  1.25s/it]"
          ]
        },
        {
          "output_type": "stream",
          "name": "stdout",
          "text": [
            "                   all        202        206      0.251      0.298     0.0888     0.0332\n"
          ]
        },
        {
          "output_type": "stream",
          "name": "stderr",
          "text": [
            "\n"
          ]
        },
        {
          "output_type": "stream",
          "name": "stdout",
          "text": [
            "\n",
            "      Epoch    GPU_mem   box_loss   cls_loss   dfl_loss  Instances       Size\n"
          ]
        },
        {
          "output_type": "stream",
          "name": "stderr",
          "text": [
            "     12/100      8.28G      1.258      1.678      1.541         15        640: 100%|██████████| 14/14 [00:12<00:00,  1.13it/s]\n",
            "                 Class     Images  Instances      Box(P          R      mAP50  mAP50-95): 100%|██████████| 2/2 [00:02<00:00,  1.38s/it]"
          ]
        },
        {
          "output_type": "stream",
          "name": "stdout",
          "text": [
            "                   all        202        206     0.0729      0.172     0.0823     0.0377\n"
          ]
        },
        {
          "output_type": "stream",
          "name": "stderr",
          "text": [
            "\n"
          ]
        },
        {
          "output_type": "stream",
          "name": "stdout",
          "text": [
            "\n",
            "      Epoch    GPU_mem   box_loss   cls_loss   dfl_loss  Instances       Size\n"
          ]
        },
        {
          "output_type": "stream",
          "name": "stderr",
          "text": [
            "     13/100      8.28G      1.289      1.677      1.575         12        640: 100%|██████████| 14/14 [00:12<00:00,  1.09it/s]\n",
            "                 Class     Images  Instances      Box(P          R      mAP50  mAP50-95): 100%|██████████| 2/2 [00:03<00:00,  1.82s/it]"
          ]
        },
        {
          "output_type": "stream",
          "name": "stdout",
          "text": [
            "                   all        202        206       0.13      0.256     0.0832     0.0325\n"
          ]
        },
        {
          "output_type": "stream",
          "name": "stderr",
          "text": [
            "\n"
          ]
        },
        {
          "output_type": "stream",
          "name": "stdout",
          "text": [
            "\n",
            "      Epoch    GPU_mem   box_loss   cls_loss   dfl_loss  Instances       Size\n"
          ]
        },
        {
          "output_type": "stream",
          "name": "stderr",
          "text": [
            "     14/100      8.28G      1.213       1.54      1.517         11        640: 100%|██████████| 14/14 [00:16<00:00,  1.15s/it]\n",
            "                 Class     Images  Instances      Box(P          R      mAP50  mAP50-95): 100%|██████████| 2/2 [00:02<00:00,  1.27s/it]"
          ]
        },
        {
          "output_type": "stream",
          "name": "stdout",
          "text": [
            "                   all        202        206     0.0859      0.243     0.0522     0.0148\n"
          ]
        },
        {
          "output_type": "stream",
          "name": "stderr",
          "text": [
            "\n"
          ]
        },
        {
          "output_type": "stream",
          "name": "stdout",
          "text": [
            "\n",
            "      Epoch    GPU_mem   box_loss   cls_loss   dfl_loss  Instances       Size\n"
          ]
        },
        {
          "output_type": "stream",
          "name": "stderr",
          "text": [
            "     15/100      8.28G      1.173       1.53      1.471         14        640: 100%|██████████| 14/14 [00:13<00:00,  1.00it/s]\n",
            "                 Class     Images  Instances      Box(P          R      mAP50  mAP50-95): 100%|██████████| 2/2 [00:02<00:00,  1.27s/it]"
          ]
        },
        {
          "output_type": "stream",
          "name": "stdout",
          "text": [
            "                   all        202        206      0.273       0.37      0.284      0.141\n"
          ]
        },
        {
          "output_type": "stream",
          "name": "stderr",
          "text": [
            "\n"
          ]
        },
        {
          "output_type": "stream",
          "name": "stdout",
          "text": [
            "\n",
            "      Epoch    GPU_mem   box_loss   cls_loss   dfl_loss  Instances       Size\n"
          ]
        },
        {
          "output_type": "stream",
          "name": "stderr",
          "text": [
            "     16/100      8.28G      1.172      1.434      1.463         16        640: 100%|██████████| 14/14 [00:13<00:00,  1.01it/s]\n",
            "                 Class     Images  Instances      Box(P          R      mAP50  mAP50-95): 100%|██████████| 2/2 [00:04<00:00,  2.09s/it]"
          ]
        },
        {
          "output_type": "stream",
          "name": "stdout",
          "text": [
            "                   all        202        206      0.276      0.466      0.248      0.109\n"
          ]
        },
        {
          "output_type": "stream",
          "name": "stderr",
          "text": [
            "\n"
          ]
        },
        {
          "output_type": "stream",
          "name": "stdout",
          "text": [
            "\n",
            "      Epoch    GPU_mem   box_loss   cls_loss   dfl_loss  Instances       Size\n"
          ]
        },
        {
          "output_type": "stream",
          "name": "stderr",
          "text": [
            "     17/100      8.28G      1.184      1.438      1.453         19        640: 100%|██████████| 14/14 [00:13<00:00,  1.07it/s]\n",
            "                 Class     Images  Instances      Box(P          R      mAP50  mAP50-95): 100%|██████████| 2/2 [00:02<00:00,  1.27s/it]"
          ]
        },
        {
          "output_type": "stream",
          "name": "stdout",
          "text": [
            "                   all        202        206      0.342      0.435      0.259      0.133\n"
          ]
        },
        {
          "output_type": "stream",
          "name": "stderr",
          "text": [
            "\n"
          ]
        },
        {
          "output_type": "stream",
          "name": "stdout",
          "text": [
            "\n",
            "      Epoch    GPU_mem   box_loss   cls_loss   dfl_loss  Instances       Size\n"
          ]
        },
        {
          "output_type": "stream",
          "name": "stderr",
          "text": [
            "     18/100      8.28G      1.149      1.427      1.472         17        640: 100%|██████████| 14/14 [00:13<00:00,  1.06it/s]\n",
            "                 Class     Images  Instances      Box(P          R      mAP50  mAP50-95): 100%|██████████| 2/2 [00:03<00:00,  1.77s/it]"
          ]
        },
        {
          "output_type": "stream",
          "name": "stdout",
          "text": [
            "                   all        202        206      0.207      0.398      0.214     0.0961\n"
          ]
        },
        {
          "output_type": "stream",
          "name": "stderr",
          "text": [
            "\n"
          ]
        },
        {
          "output_type": "stream",
          "name": "stdout",
          "text": [
            "\n",
            "      Epoch    GPU_mem   box_loss   cls_loss   dfl_loss  Instances       Size\n"
          ]
        },
        {
          "output_type": "stream",
          "name": "stderr",
          "text": [
            "     19/100      8.28G      1.137      1.374       1.45         17        640: 100%|██████████| 14/14 [00:13<00:00,  1.01it/s]\n",
            "                 Class     Images  Instances      Box(P          R      mAP50  mAP50-95): 100%|██████████| 2/2 [00:02<00:00,  1.25s/it]"
          ]
        },
        {
          "output_type": "stream",
          "name": "stdout",
          "text": [
            "                   all        202        206      0.631      0.143     0.0876     0.0315\n"
          ]
        },
        {
          "output_type": "stream",
          "name": "stderr",
          "text": [
            "\n"
          ]
        },
        {
          "output_type": "stream",
          "name": "stdout",
          "text": [
            "\n",
            "      Epoch    GPU_mem   box_loss   cls_loss   dfl_loss  Instances       Size\n"
          ]
        },
        {
          "output_type": "stream",
          "name": "stderr",
          "text": [
            "     20/100      8.28G       1.15      1.386       1.45         15        640: 100%|██████████| 14/14 [00:14<00:00,  1.04s/it]\n",
            "                 Class     Images  Instances      Box(P          R      mAP50  mAP50-95): 100%|██████████| 2/2 [00:02<00:00,  1.28s/it]"
          ]
        },
        {
          "output_type": "stream",
          "name": "stdout",
          "text": [
            "                   all        202        206       0.63      0.246      0.262      0.131\n"
          ]
        },
        {
          "output_type": "stream",
          "name": "stderr",
          "text": [
            "\n"
          ]
        },
        {
          "output_type": "stream",
          "name": "stdout",
          "text": [
            "\n",
            "      Epoch    GPU_mem   box_loss   cls_loss   dfl_loss  Instances       Size\n"
          ]
        },
        {
          "output_type": "stream",
          "name": "stderr",
          "text": [
            "     21/100       8.2G      1.077      1.295      1.409         11        640: 100%|██████████| 14/14 [00:11<00:00,  1.19it/s]\n",
            "                 Class     Images  Instances      Box(P          R      mAP50  mAP50-95): 100%|██████████| 2/2 [00:03<00:00,  1.72s/it]"
          ]
        },
        {
          "output_type": "stream",
          "name": "stdout",
          "text": [
            "                   all        202        206      0.391      0.345      0.317      0.156\n"
          ]
        },
        {
          "output_type": "stream",
          "name": "stderr",
          "text": [
            "\n"
          ]
        },
        {
          "output_type": "stream",
          "name": "stdout",
          "text": [
            "\n",
            "      Epoch    GPU_mem   box_loss   cls_loss   dfl_loss  Instances       Size\n"
          ]
        },
        {
          "output_type": "stream",
          "name": "stderr",
          "text": [
            "     22/100      8.28G      1.133      1.336      1.443         16        640: 100%|██████████| 14/14 [00:12<00:00,  1.13it/s]\n",
            "                 Class     Images  Instances      Box(P          R      mAP50  mAP50-95): 100%|██████████| 2/2 [00:07<00:00,  3.55s/it]"
          ]
        },
        {
          "output_type": "stream",
          "name": "stdout",
          "text": [
            "                   all        202        206        0.3       0.36      0.278      0.145\n"
          ]
        },
        {
          "output_type": "stream",
          "name": "stderr",
          "text": [
            "\n"
          ]
        },
        {
          "output_type": "stream",
          "name": "stdout",
          "text": [
            "\n",
            "      Epoch    GPU_mem   box_loss   cls_loss   dfl_loss  Instances       Size\n"
          ]
        },
        {
          "output_type": "stream",
          "name": "stderr",
          "text": [
            "     23/100      8.28G      1.128      1.306      1.438         16        640: 100%|██████████| 14/14 [00:11<00:00,  1.24it/s]\n",
            "                 Class     Images  Instances      Box(P          R      mAP50  mAP50-95): 100%|██████████| 2/2 [00:04<00:00,  2.02s/it]"
          ]
        },
        {
          "output_type": "stream",
          "name": "stdout",
          "text": [
            "                   all        202        206      0.319      0.331      0.269      0.129\n"
          ]
        },
        {
          "output_type": "stream",
          "name": "stderr",
          "text": [
            "\n"
          ]
        },
        {
          "output_type": "stream",
          "name": "stdout",
          "text": [
            "\n",
            "      Epoch    GPU_mem   box_loss   cls_loss   dfl_loss  Instances       Size\n"
          ]
        },
        {
          "output_type": "stream",
          "name": "stderr",
          "text": [
            "     24/100      8.28G      1.098      1.299      1.397         23        640: 100%|██████████| 14/14 [00:14<00:00,  1.00s/it]\n",
            "                 Class     Images  Instances      Box(P          R      mAP50  mAP50-95): 100%|██████████| 2/2 [00:02<00:00,  1.42s/it]"
          ]
        },
        {
          "output_type": "stream",
          "name": "stdout",
          "text": [
            "                   all        202        206      0.488      0.519      0.501      0.294\n"
          ]
        },
        {
          "output_type": "stream",
          "name": "stderr",
          "text": [
            "\n"
          ]
        },
        {
          "output_type": "stream",
          "name": "stdout",
          "text": [
            "\n",
            "      Epoch    GPU_mem   box_loss   cls_loss   dfl_loss  Instances       Size\n"
          ]
        },
        {
          "output_type": "stream",
          "name": "stderr",
          "text": [
            "     25/100      8.28G      1.053      1.247      1.369         15        640: 100%|██████████| 14/14 [00:13<00:00,  1.05it/s]\n",
            "                 Class     Images  Instances      Box(P          R      mAP50  mAP50-95): 100%|██████████| 2/2 [00:02<00:00,  1.17s/it]"
          ]
        },
        {
          "output_type": "stream",
          "name": "stdout",
          "text": [
            "                   all        202        206      0.397      0.507       0.37      0.189\n"
          ]
        },
        {
          "output_type": "stream",
          "name": "stderr",
          "text": [
            "\n"
          ]
        },
        {
          "output_type": "stream",
          "name": "stdout",
          "text": [
            "\n",
            "      Epoch    GPU_mem   box_loss   cls_loss   dfl_loss  Instances       Size\n"
          ]
        },
        {
          "output_type": "stream",
          "name": "stderr",
          "text": [
            "     26/100      8.28G      1.041      1.156      1.357         19        640: 100%|██████████| 14/14 [00:12<00:00,  1.13it/s]\n",
            "                 Class     Images  Instances      Box(P          R      mAP50  mAP50-95): 100%|██████████| 2/2 [00:03<00:00,  1.93s/it]"
          ]
        },
        {
          "output_type": "stream",
          "name": "stdout",
          "text": [
            "                   all        202        206       0.43      0.552      0.483      0.283\n"
          ]
        },
        {
          "output_type": "stream",
          "name": "stderr",
          "text": [
            "\n"
          ]
        },
        {
          "output_type": "stream",
          "name": "stdout",
          "text": [
            "\n",
            "      Epoch    GPU_mem   box_loss   cls_loss   dfl_loss  Instances       Size\n"
          ]
        },
        {
          "output_type": "stream",
          "name": "stderr",
          "text": [
            "     27/100      8.28G       1.03      1.178      1.358         18        640: 100%|██████████| 14/14 [00:12<00:00,  1.09it/s]\n",
            "                 Class     Images  Instances      Box(P          R      mAP50  mAP50-95): 100%|██████████| 2/2 [00:03<00:00,  1.51s/it]"
          ]
        },
        {
          "output_type": "stream",
          "name": "stdout",
          "text": [
            "                   all        202        206      0.509      0.391      0.378      0.213\n"
          ]
        },
        {
          "output_type": "stream",
          "name": "stderr",
          "text": [
            "\n"
          ]
        },
        {
          "output_type": "stream",
          "name": "stdout",
          "text": [
            "\n",
            "      Epoch    GPU_mem   box_loss   cls_loss   dfl_loss  Instances       Size\n"
          ]
        },
        {
          "output_type": "stream",
          "name": "stderr",
          "text": [
            "     28/100      8.28G      1.018      1.164       1.34         17        640: 100%|██████████| 14/14 [00:11<00:00,  1.24it/s]\n",
            "                 Class     Images  Instances      Box(P          R      mAP50  mAP50-95): 100%|██████████| 2/2 [00:04<00:00,  2.43s/it]"
          ]
        },
        {
          "output_type": "stream",
          "name": "stdout",
          "text": [
            "                   all        202        206      0.478      0.412      0.433      0.256\n"
          ]
        },
        {
          "output_type": "stream",
          "name": "stderr",
          "text": [
            "\n"
          ]
        },
        {
          "output_type": "stream",
          "name": "stdout",
          "text": [
            "\n",
            "      Epoch    GPU_mem   box_loss   cls_loss   dfl_loss  Instances       Size\n"
          ]
        },
        {
          "output_type": "stream",
          "name": "stderr",
          "text": [
            "     29/100      8.28G     0.9985      1.173      1.338         18        640: 100%|██████████| 14/14 [00:11<00:00,  1.19it/s]\n",
            "                 Class     Images  Instances      Box(P          R      mAP50  mAP50-95): 100%|██████████| 2/2 [00:04<00:00,  2.05s/it]"
          ]
        },
        {
          "output_type": "stream",
          "name": "stdout",
          "text": [
            "                   all        202        206      0.607      0.613      0.593      0.359\n"
          ]
        },
        {
          "output_type": "stream",
          "name": "stderr",
          "text": [
            "\n"
          ]
        },
        {
          "output_type": "stream",
          "name": "stdout",
          "text": [
            "\n",
            "      Epoch    GPU_mem   box_loss   cls_loss   dfl_loss  Instances       Size\n"
          ]
        },
        {
          "output_type": "stream",
          "name": "stderr",
          "text": [
            "     30/100      8.28G       1.02      1.096      1.341         20        640: 100%|██████████| 14/14 [00:11<00:00,  1.27it/s]\n",
            "                 Class     Images  Instances      Box(P          R      mAP50  mAP50-95): 100%|██████████| 2/2 [00:05<00:00,  2.59s/it]"
          ]
        },
        {
          "output_type": "stream",
          "name": "stdout",
          "text": [
            "                   all        202        206      0.424      0.579      0.505      0.305\n"
          ]
        },
        {
          "output_type": "stream",
          "name": "stderr",
          "text": [
            "\n"
          ]
        },
        {
          "output_type": "stream",
          "name": "stdout",
          "text": [
            "\n",
            "      Epoch    GPU_mem   box_loss   cls_loss   dfl_loss  Instances       Size\n"
          ]
        },
        {
          "output_type": "stream",
          "name": "stderr",
          "text": [
            "     31/100      8.28G          1      1.149      1.343         25        640: 100%|██████████| 14/14 [00:10<00:00,  1.34it/s]\n",
            "                 Class     Images  Instances      Box(P          R      mAP50  mAP50-95): 100%|██████████| 2/2 [00:03<00:00,  1.83s/it]"
          ]
        },
        {
          "output_type": "stream",
          "name": "stdout",
          "text": [
            "                   all        202        206      0.503      0.659       0.58      0.364\n"
          ]
        },
        {
          "output_type": "stream",
          "name": "stderr",
          "text": [
            "\n"
          ]
        },
        {
          "output_type": "stream",
          "name": "stdout",
          "text": [
            "\n",
            "      Epoch    GPU_mem   box_loss   cls_loss   dfl_loss  Instances       Size\n"
          ]
        },
        {
          "output_type": "stream",
          "name": "stderr",
          "text": [
            "     32/100      8.28G     0.9988      1.104      1.336         20        640: 100%|██████████| 14/14 [00:10<00:00,  1.32it/s]\n",
            "                 Class     Images  Instances      Box(P          R      mAP50  mAP50-95): 100%|██████████| 2/2 [00:05<00:00,  2.61s/it]"
          ]
        },
        {
          "output_type": "stream",
          "name": "stdout",
          "text": [
            "                   all        202        206       0.42      0.431      0.401      0.243\n"
          ]
        },
        {
          "output_type": "stream",
          "name": "stderr",
          "text": [
            "\n"
          ]
        },
        {
          "output_type": "stream",
          "name": "stdout",
          "text": [
            "\n",
            "      Epoch    GPU_mem   box_loss   cls_loss   dfl_loss  Instances       Size\n"
          ]
        },
        {
          "output_type": "stream",
          "name": "stderr",
          "text": [
            "     33/100      8.28G      1.012      1.136      1.346         22        640: 100%|██████████| 14/14 [00:10<00:00,  1.32it/s]\n",
            "                 Class     Images  Instances      Box(P          R      mAP50  mAP50-95): 100%|██████████| 2/2 [00:03<00:00,  1.68s/it]"
          ]
        },
        {
          "output_type": "stream",
          "name": "stdout",
          "text": [
            "                   all        202        206       0.52      0.458      0.402      0.212\n"
          ]
        },
        {
          "output_type": "stream",
          "name": "stderr",
          "text": [
            "\n"
          ]
        },
        {
          "output_type": "stream",
          "name": "stdout",
          "text": [
            "\n",
            "      Epoch    GPU_mem   box_loss   cls_loss   dfl_loss  Instances       Size\n"
          ]
        },
        {
          "output_type": "stream",
          "name": "stderr",
          "text": [
            "     34/100      8.28G     0.9825      1.113      1.319         15        640: 100%|██████████| 14/14 [00:11<00:00,  1.26it/s]\n",
            "                 Class     Images  Instances      Box(P          R      mAP50  mAP50-95): 100%|██████████| 2/2 [00:02<00:00,  1.49s/it]"
          ]
        },
        {
          "output_type": "stream",
          "name": "stdout",
          "text": [
            "                   all        202        206      0.467      0.682      0.575       0.35\n"
          ]
        },
        {
          "output_type": "stream",
          "name": "stderr",
          "text": [
            "\n"
          ]
        },
        {
          "output_type": "stream",
          "name": "stdout",
          "text": [
            "\n",
            "      Epoch    GPU_mem   box_loss   cls_loss   dfl_loss  Instances       Size\n"
          ]
        },
        {
          "output_type": "stream",
          "name": "stderr",
          "text": [
            "     35/100      8.28G     0.9342      1.027      1.298         21        640: 100%|██████████| 14/14 [00:12<00:00,  1.10it/s]\n",
            "                 Class     Images  Instances      Box(P          R      mAP50  mAP50-95): 100%|██████████| 2/2 [00:03<00:00,  1.53s/it]"
          ]
        },
        {
          "output_type": "stream",
          "name": "stdout",
          "text": [
            "                   all        202        206      0.715      0.443      0.529      0.343\n"
          ]
        },
        {
          "output_type": "stream",
          "name": "stderr",
          "text": [
            "\n"
          ]
        },
        {
          "output_type": "stream",
          "name": "stdout",
          "text": [
            "\n",
            "      Epoch    GPU_mem   box_loss   cls_loss   dfl_loss  Instances       Size\n"
          ]
        },
        {
          "output_type": "stream",
          "name": "stderr",
          "text": [
            "     36/100      8.28G     0.9757      1.048      1.299         18        640: 100%|██████████| 14/14 [00:12<00:00,  1.14it/s]\n",
            "                 Class     Images  Instances      Box(P          R      mAP50  mAP50-95): 100%|██████████| 2/2 [00:02<00:00,  1.43s/it]"
          ]
        },
        {
          "output_type": "stream",
          "name": "stdout",
          "text": [
            "                   all        202        206      0.615      0.555      0.611      0.381\n"
          ]
        },
        {
          "output_type": "stream",
          "name": "stderr",
          "text": [
            "\n"
          ]
        },
        {
          "output_type": "stream",
          "name": "stdout",
          "text": [
            "\n",
            "      Epoch    GPU_mem   box_loss   cls_loss   dfl_loss  Instances       Size\n"
          ]
        },
        {
          "output_type": "stream",
          "name": "stderr",
          "text": [
            "     37/100      8.28G      0.975      1.061      1.328         12        640: 100%|██████████| 14/14 [00:12<00:00,  1.14it/s]\n",
            "                 Class     Images  Instances      Box(P          R      mAP50  mAP50-95): 100%|██████████| 2/2 [00:02<00:00,  1.26s/it]"
          ]
        },
        {
          "output_type": "stream",
          "name": "stdout",
          "text": [
            "                   all        202        206      0.504       0.58      0.549       0.32\n"
          ]
        },
        {
          "output_type": "stream",
          "name": "stderr",
          "text": [
            "\n"
          ]
        },
        {
          "output_type": "stream",
          "name": "stdout",
          "text": [
            "\n",
            "      Epoch    GPU_mem   box_loss   cls_loss   dfl_loss  Instances       Size\n"
          ]
        },
        {
          "output_type": "stream",
          "name": "stderr",
          "text": [
            "     38/100      8.28G     0.9232      1.023      1.276         16        640: 100%|██████████| 14/14 [00:13<00:00,  1.06it/s]\n",
            "                 Class     Images  Instances      Box(P          R      mAP50  mAP50-95): 100%|██████████| 2/2 [00:02<00:00,  1.13s/it]"
          ]
        },
        {
          "output_type": "stream",
          "name": "stdout",
          "text": [
            "                   all        202        206      0.442       0.48      0.467       0.26\n"
          ]
        },
        {
          "output_type": "stream",
          "name": "stderr",
          "text": [
            "\n"
          ]
        },
        {
          "output_type": "stream",
          "name": "stdout",
          "text": [
            "\n",
            "      Epoch    GPU_mem   box_loss   cls_loss   dfl_loss  Instances       Size\n"
          ]
        },
        {
          "output_type": "stream",
          "name": "stderr",
          "text": [
            "     39/100      8.28G     0.9261     0.9648      1.278         17        640: 100%|██████████| 14/14 [00:13<00:00,  1.04it/s]\n",
            "                 Class     Images  Instances      Box(P          R      mAP50  mAP50-95): 100%|██████████| 2/2 [00:02<00:00,  1.22s/it]"
          ]
        },
        {
          "output_type": "stream",
          "name": "stdout",
          "text": [
            "                   all        202        206      0.536      0.663      0.565      0.343\n"
          ]
        },
        {
          "output_type": "stream",
          "name": "stderr",
          "text": [
            "\n"
          ]
        },
        {
          "output_type": "stream",
          "name": "stdout",
          "text": [
            "\n",
            "      Epoch    GPU_mem   box_loss   cls_loss   dfl_loss  Instances       Size\n"
          ]
        },
        {
          "output_type": "stream",
          "name": "stderr",
          "text": [
            "     40/100      8.28G     0.9603       1.04      1.303         13        640: 100%|██████████| 14/14 [00:14<00:00,  1.06s/it]\n",
            "                 Class     Images  Instances      Box(P          R      mAP50  mAP50-95): 100%|██████████| 2/2 [00:02<00:00,  1.21s/it]"
          ]
        },
        {
          "output_type": "stream",
          "name": "stdout",
          "text": [
            "                   all        202        206      0.539      0.506      0.523      0.316\n"
          ]
        },
        {
          "output_type": "stream",
          "name": "stderr",
          "text": [
            "\n"
          ]
        },
        {
          "output_type": "stream",
          "name": "stdout",
          "text": [
            "\n",
            "      Epoch    GPU_mem   box_loss   cls_loss   dfl_loss  Instances       Size\n"
          ]
        },
        {
          "output_type": "stream",
          "name": "stderr",
          "text": [
            "     41/100      8.28G     0.9388       1.04      1.295         11        640: 100%|██████████| 14/14 [00:13<00:00,  1.05it/s]\n",
            "                 Class     Images  Instances      Box(P          R      mAP50  mAP50-95): 100%|██████████| 2/2 [00:02<00:00,  1.23s/it]"
          ]
        },
        {
          "output_type": "stream",
          "name": "stdout",
          "text": [
            "                   all        202        206      0.479      0.497      0.496      0.326\n"
          ]
        },
        {
          "output_type": "stream",
          "name": "stderr",
          "text": [
            "\n"
          ]
        },
        {
          "output_type": "stream",
          "name": "stdout",
          "text": [
            "\n",
            "      Epoch    GPU_mem   box_loss   cls_loss   dfl_loss  Instances       Size\n"
          ]
        },
        {
          "output_type": "stream",
          "name": "stderr",
          "text": [
            "     42/100      8.28G     0.9331      1.013      1.268         15        640: 100%|██████████| 14/14 [00:14<00:00,  1.05s/it]\n",
            "                 Class     Images  Instances      Box(P          R      mAP50  mAP50-95): 100%|██████████| 2/2 [00:02<00:00,  1.31s/it]"
          ]
        },
        {
          "output_type": "stream",
          "name": "stdout",
          "text": [
            "                   all        202        206      0.478      0.603        0.6      0.383\n"
          ]
        },
        {
          "output_type": "stream",
          "name": "stderr",
          "text": [
            "\n"
          ]
        },
        {
          "output_type": "stream",
          "name": "stdout",
          "text": [
            "\n",
            "      Epoch    GPU_mem   box_loss   cls_loss   dfl_loss  Instances       Size\n"
          ]
        },
        {
          "output_type": "stream",
          "name": "stderr",
          "text": [
            "     43/100      8.28G      0.891     0.9577      1.254         25        640: 100%|██████████| 14/14 [00:13<00:00,  1.07it/s]\n",
            "                 Class     Images  Instances      Box(P          R      mAP50  mAP50-95): 100%|██████████| 2/2 [00:02<00:00,  1.30s/it]"
          ]
        },
        {
          "output_type": "stream",
          "name": "stdout",
          "text": [
            "                   all        202        206      0.461      0.595      0.582      0.357\n"
          ]
        },
        {
          "output_type": "stream",
          "name": "stderr",
          "text": [
            "\n"
          ]
        },
        {
          "output_type": "stream",
          "name": "stdout",
          "text": [
            "\n",
            "      Epoch    GPU_mem   box_loss   cls_loss   dfl_loss  Instances       Size\n"
          ]
        },
        {
          "output_type": "stream",
          "name": "stderr",
          "text": [
            "     44/100      8.28G     0.8898     0.9157       1.25         17        640: 100%|██████████| 14/14 [00:16<00:00,  1.21s/it]\n",
            "                 Class     Images  Instances      Box(P          R      mAP50  mAP50-95): 100%|██████████| 2/2 [00:02<00:00,  1.23s/it]"
          ]
        },
        {
          "output_type": "stream",
          "name": "stdout",
          "text": [
            "                   all        202        206      0.605      0.607       0.57      0.369\n"
          ]
        },
        {
          "output_type": "stream",
          "name": "stderr",
          "text": [
            "\n"
          ]
        },
        {
          "output_type": "stream",
          "name": "stdout",
          "text": [
            "\n",
            "      Epoch    GPU_mem   box_loss   cls_loss   dfl_loss  Instances       Size\n"
          ]
        },
        {
          "output_type": "stream",
          "name": "stderr",
          "text": [
            "     45/100      8.28G     0.9069     0.9621      1.266          9        640: 100%|██████████| 14/14 [00:13<00:00,  1.05it/s]\n",
            "                 Class     Images  Instances      Box(P          R      mAP50  mAP50-95): 100%|██████████| 2/2 [00:02<00:00,  1.13s/it]"
          ]
        },
        {
          "output_type": "stream",
          "name": "stdout",
          "text": [
            "                   all        202        206      0.567       0.55      0.542       0.35\n"
          ]
        },
        {
          "output_type": "stream",
          "name": "stderr",
          "text": [
            "\n"
          ]
        },
        {
          "output_type": "stream",
          "name": "stdout",
          "text": [
            "\n",
            "      Epoch    GPU_mem   box_loss   cls_loss   dfl_loss  Instances       Size\n"
          ]
        },
        {
          "output_type": "stream",
          "name": "stderr",
          "text": [
            "     46/100      8.28G     0.8997     0.9225      1.249          9        640: 100%|██████████| 14/14 [00:14<00:00,  1.02s/it]\n",
            "                 Class     Images  Instances      Box(P          R      mAP50  mAP50-95): 100%|██████████| 2/2 [00:02<00:00,  1.24s/it]"
          ]
        },
        {
          "output_type": "stream",
          "name": "stdout",
          "text": [
            "                   all        202        206      0.454      0.578      0.542      0.344\n"
          ]
        },
        {
          "output_type": "stream",
          "name": "stderr",
          "text": [
            "\n"
          ]
        },
        {
          "output_type": "stream",
          "name": "stdout",
          "text": [
            "\n",
            "      Epoch    GPU_mem   box_loss   cls_loss   dfl_loss  Instances       Size\n"
          ]
        },
        {
          "output_type": "stream",
          "name": "stderr",
          "text": [
            "     47/100      8.28G     0.8841      0.909       1.25         16        640: 100%|██████████| 14/14 [00:13<00:00,  1.03it/s]\n",
            "                 Class     Images  Instances      Box(P          R      mAP50  mAP50-95): 100%|██████████| 2/2 [00:02<00:00,  1.19s/it]"
          ]
        },
        {
          "output_type": "stream",
          "name": "stdout",
          "text": [
            "                   all        202        206      0.632      0.497      0.588      0.386\n"
          ]
        },
        {
          "output_type": "stream",
          "name": "stderr",
          "text": [
            "\n"
          ]
        },
        {
          "output_type": "stream",
          "name": "stdout",
          "text": [
            "\n",
            "      Epoch    GPU_mem   box_loss   cls_loss   dfl_loss  Instances       Size\n"
          ]
        },
        {
          "output_type": "stream",
          "name": "stderr",
          "text": [
            "     48/100      8.28G     0.8904      0.892      1.253         19        640: 100%|██████████| 14/14 [00:14<00:00,  1.06s/it]\n",
            "                 Class     Images  Instances      Box(P          R      mAP50  mAP50-95): 100%|██████████| 2/2 [00:02<00:00,  1.27s/it]"
          ]
        },
        {
          "output_type": "stream",
          "name": "stdout",
          "text": [
            "                   all        202        206       0.53      0.612      0.571      0.365\n"
          ]
        },
        {
          "output_type": "stream",
          "name": "stderr",
          "text": [
            "\n"
          ]
        },
        {
          "output_type": "stream",
          "name": "stdout",
          "text": [
            "\n",
            "      Epoch    GPU_mem   box_loss   cls_loss   dfl_loss  Instances       Size\n"
          ]
        },
        {
          "output_type": "stream",
          "name": "stderr",
          "text": [
            "     49/100      8.28G     0.8669     0.9068      1.238         18        640: 100%|██████████| 14/14 [00:13<00:00,  1.04it/s]\n",
            "                 Class     Images  Instances      Box(P          R      mAP50  mAP50-95): 100%|██████████| 2/2 [00:02<00:00,  1.22s/it]"
          ]
        },
        {
          "output_type": "stream",
          "name": "stdout",
          "text": [
            "                   all        202        206      0.581      0.594      0.603      0.403\n"
          ]
        },
        {
          "output_type": "stream",
          "name": "stderr",
          "text": [
            "\n"
          ]
        },
        {
          "output_type": "stream",
          "name": "stdout",
          "text": [
            "\n",
            "      Epoch    GPU_mem   box_loss   cls_loss   dfl_loss  Instances       Size\n"
          ]
        },
        {
          "output_type": "stream",
          "name": "stderr",
          "text": [
            "     50/100      8.28G      0.872      0.908      1.249         11        640: 100%|██████████| 14/14 [00:13<00:00,  1.00it/s]\n",
            "                 Class     Images  Instances      Box(P          R      mAP50  mAP50-95): 100%|██████████| 2/2 [00:02<00:00,  1.47s/it]"
          ]
        },
        {
          "output_type": "stream",
          "name": "stdout",
          "text": [
            "                   all        202        206      0.576      0.588      0.584      0.374\n"
          ]
        },
        {
          "output_type": "stream",
          "name": "stderr",
          "text": [
            "\n"
          ]
        },
        {
          "output_type": "stream",
          "name": "stdout",
          "text": [
            "\n",
            "      Epoch    GPU_mem   box_loss   cls_loss   dfl_loss  Instances       Size\n"
          ]
        },
        {
          "output_type": "stream",
          "name": "stderr",
          "text": [
            "     51/100      8.28G     0.8749     0.9183      1.256         16        640: 100%|██████████| 14/14 [00:11<00:00,  1.22it/s]\n",
            "                 Class     Images  Instances      Box(P          R      mAP50  mAP50-95): 100%|██████████| 2/2 [00:03<00:00,  1.70s/it]"
          ]
        },
        {
          "output_type": "stream",
          "name": "stdout",
          "text": [
            "                   all        202        206      0.609      0.577      0.609      0.414\n"
          ]
        },
        {
          "output_type": "stream",
          "name": "stderr",
          "text": [
            "\n"
          ]
        },
        {
          "output_type": "stream",
          "name": "stdout",
          "text": [
            "\n",
            "      Epoch    GPU_mem   box_loss   cls_loss   dfl_loss  Instances       Size\n"
          ]
        },
        {
          "output_type": "stream",
          "name": "stderr",
          "text": [
            "     52/100      8.28G     0.8614     0.8671       1.23         15        640: 100%|██████████| 14/14 [00:13<00:00,  1.04it/s]\n",
            "                 Class     Images  Instances      Box(P          R      mAP50  mAP50-95): 100%|██████████| 2/2 [00:03<00:00,  1.91s/it]"
          ]
        },
        {
          "output_type": "stream",
          "name": "stdout",
          "text": [
            "                   all        202        206      0.602      0.572       0.56       0.35\n"
          ]
        },
        {
          "output_type": "stream",
          "name": "stderr",
          "text": [
            "\n"
          ]
        },
        {
          "output_type": "stream",
          "name": "stdout",
          "text": [
            "\n",
            "      Epoch    GPU_mem   box_loss   cls_loss   dfl_loss  Instances       Size\n"
          ]
        },
        {
          "output_type": "stream",
          "name": "stderr",
          "text": [
            "     53/100      8.28G     0.8534     0.8888      1.238         27        640: 100%|██████████| 14/14 [00:10<00:00,  1.29it/s]\n",
            "                 Class     Images  Instances      Box(P          R      mAP50  mAP50-95): 100%|██████████| 2/2 [00:04<00:00,  2.03s/it]"
          ]
        },
        {
          "output_type": "stream",
          "name": "stdout",
          "text": [
            "                   all        202        206       0.62      0.618      0.627      0.428\n"
          ]
        },
        {
          "output_type": "stream",
          "name": "stderr",
          "text": [
            "\n"
          ]
        },
        {
          "output_type": "stream",
          "name": "stdout",
          "text": [
            "\n",
            "      Epoch    GPU_mem   box_loss   cls_loss   dfl_loss  Instances       Size\n"
          ]
        },
        {
          "output_type": "stream",
          "name": "stderr",
          "text": [
            "     54/100      8.28G     0.8276     0.8432      1.204         13        640: 100%|██████████| 14/14 [00:12<00:00,  1.12it/s]\n",
            "                 Class     Images  Instances      Box(P          R      mAP50  mAP50-95): 100%|██████████| 2/2 [00:04<00:00,  2.04s/it]"
          ]
        },
        {
          "output_type": "stream",
          "name": "stdout",
          "text": [
            "                   all        202        206      0.619      0.543      0.603      0.406\n"
          ]
        },
        {
          "output_type": "stream",
          "name": "stderr",
          "text": [
            "\n"
          ]
        },
        {
          "output_type": "stream",
          "name": "stdout",
          "text": [
            "\n",
            "      Epoch    GPU_mem   box_loss   cls_loss   dfl_loss  Instances       Size\n"
          ]
        },
        {
          "output_type": "stream",
          "name": "stderr",
          "text": [
            "     55/100      8.28G     0.8316     0.8536      1.206         13        640: 100%|██████████| 14/14 [00:10<00:00,  1.36it/s]\n",
            "                 Class     Images  Instances      Box(P          R      mAP50  mAP50-95): 100%|██████████| 2/2 [00:03<00:00,  1.97s/it]"
          ]
        },
        {
          "output_type": "stream",
          "name": "stdout",
          "text": [
            "                   all        202        206      0.592      0.527      0.571      0.379\n"
          ]
        },
        {
          "output_type": "stream",
          "name": "stderr",
          "text": [
            "\n"
          ]
        },
        {
          "output_type": "stream",
          "name": "stdout",
          "text": [
            "\n",
            "      Epoch    GPU_mem   box_loss   cls_loss   dfl_loss  Instances       Size\n"
          ]
        },
        {
          "output_type": "stream",
          "name": "stderr",
          "text": [
            "     56/100      8.28G      0.844     0.8524      1.217         14        640: 100%|██████████| 14/14 [00:12<00:00,  1.10it/s]\n",
            "                 Class     Images  Instances      Box(P          R      mAP50  mAP50-95): 100%|██████████| 2/2 [00:03<00:00,  1.92s/it]"
          ]
        },
        {
          "output_type": "stream",
          "name": "stdout",
          "text": [
            "                   all        202        206      0.527      0.513       0.54      0.368\n"
          ]
        },
        {
          "output_type": "stream",
          "name": "stderr",
          "text": [
            "\n"
          ]
        },
        {
          "output_type": "stream",
          "name": "stdout",
          "text": [
            "\n",
            "      Epoch    GPU_mem   box_loss   cls_loss   dfl_loss  Instances       Size\n"
          ]
        },
        {
          "output_type": "stream",
          "name": "stderr",
          "text": [
            "     57/100      8.28G      0.802     0.8228      1.184         16        640: 100%|██████████| 14/14 [00:10<00:00,  1.32it/s]\n",
            "                 Class     Images  Instances      Box(P          R      mAP50  mAP50-95): 100%|██████████| 2/2 [00:03<00:00,  1.83s/it]"
          ]
        },
        {
          "output_type": "stream",
          "name": "stdout",
          "text": [
            "                   all        202        206      0.602      0.663      0.648      0.425\n"
          ]
        },
        {
          "output_type": "stream",
          "name": "stderr",
          "text": [
            "\n"
          ]
        },
        {
          "output_type": "stream",
          "name": "stdout",
          "text": [
            "\n",
            "      Epoch    GPU_mem   box_loss   cls_loss   dfl_loss  Instances       Size\n"
          ]
        },
        {
          "output_type": "stream",
          "name": "stderr",
          "text": [
            "     58/100      8.28G     0.8085     0.7779      1.186         12        640: 100%|██████████| 14/14 [00:12<00:00,  1.09it/s]\n",
            "                 Class     Images  Instances      Box(P          R      mAP50  mAP50-95): 100%|██████████| 2/2 [00:04<00:00,  2.02s/it]"
          ]
        },
        {
          "output_type": "stream",
          "name": "stdout",
          "text": [
            "                   all        202        206      0.527       0.62      0.586      0.387\n"
          ]
        },
        {
          "output_type": "stream",
          "name": "stderr",
          "text": [
            "\n"
          ]
        },
        {
          "output_type": "stream",
          "name": "stdout",
          "text": [
            "\n",
            "      Epoch    GPU_mem   box_loss   cls_loss   dfl_loss  Instances       Size\n"
          ]
        },
        {
          "output_type": "stream",
          "name": "stderr",
          "text": [
            "     59/100      8.28G      0.781     0.7888      1.167         17        640: 100%|██████████| 14/14 [00:11<00:00,  1.22it/s]\n",
            "                 Class     Images  Instances      Box(P          R      mAP50  mAP50-95): 100%|██████████| 2/2 [00:03<00:00,  1.99s/it]"
          ]
        },
        {
          "output_type": "stream",
          "name": "stdout",
          "text": [
            "                   all        202        206      0.598       0.65      0.655      0.443\n"
          ]
        },
        {
          "output_type": "stream",
          "name": "stderr",
          "text": [
            "\n"
          ]
        },
        {
          "output_type": "stream",
          "name": "stdout",
          "text": [
            "\n",
            "      Epoch    GPU_mem   box_loss   cls_loss   dfl_loss  Instances       Size\n"
          ]
        },
        {
          "output_type": "stream",
          "name": "stderr",
          "text": [
            "     60/100      8.28G     0.7721     0.7739      1.194         14        640: 100%|██████████| 14/14 [00:13<00:00,  1.07it/s]\n",
            "                 Class     Images  Instances      Box(P          R      mAP50  mAP50-95): 100%|██████████| 2/2 [00:04<00:00,  2.06s/it]"
          ]
        },
        {
          "output_type": "stream",
          "name": "stdout",
          "text": [
            "                   all        202        206      0.504      0.661      0.644      0.433\n"
          ]
        },
        {
          "output_type": "stream",
          "name": "stderr",
          "text": [
            "\n"
          ]
        },
        {
          "output_type": "stream",
          "name": "stdout",
          "text": [
            "\n",
            "      Epoch    GPU_mem   box_loss   cls_loss   dfl_loss  Instances       Size\n"
          ]
        },
        {
          "output_type": "stream",
          "name": "stderr",
          "text": [
            "     61/100      8.28G     0.8052     0.8033      1.198         15        640: 100%|██████████| 14/14 [00:10<00:00,  1.31it/s]\n",
            "                 Class     Images  Instances      Box(P          R      mAP50  mAP50-95): 100%|██████████| 2/2 [00:03<00:00,  1.97s/it]"
          ]
        },
        {
          "output_type": "stream",
          "name": "stdout",
          "text": [
            "                   all        202        206      0.726      0.559      0.665      0.442\n"
          ]
        },
        {
          "output_type": "stream",
          "name": "stderr",
          "text": [
            "\n"
          ]
        },
        {
          "output_type": "stream",
          "name": "stdout",
          "text": [
            "\n",
            "      Epoch    GPU_mem   box_loss   cls_loss   dfl_loss  Instances       Size\n"
          ]
        },
        {
          "output_type": "stream",
          "name": "stderr",
          "text": [
            "     62/100      8.28G     0.7881     0.7888      1.189         15        640: 100%|██████████| 14/14 [00:12<00:00,  1.11it/s]\n",
            "                 Class     Images  Instances      Box(P          R      mAP50  mAP50-95): 100%|██████████| 2/2 [00:04<00:00,  2.05s/it]"
          ]
        },
        {
          "output_type": "stream",
          "name": "stdout",
          "text": [
            "                   all        202        206      0.672      0.487      0.576      0.385\n"
          ]
        },
        {
          "output_type": "stream",
          "name": "stderr",
          "text": [
            "\n"
          ]
        },
        {
          "output_type": "stream",
          "name": "stdout",
          "text": [
            "\n",
            "      Epoch    GPU_mem   box_loss   cls_loss   dfl_loss  Instances       Size\n"
          ]
        },
        {
          "output_type": "stream",
          "name": "stderr",
          "text": [
            "     63/100       8.2G      0.835     0.8078      1.231         14        640: 100%|██████████| 14/14 [00:10<00:00,  1.33it/s]\n",
            "                 Class     Images  Instances      Box(P          R      mAP50  mAP50-95): 100%|██████████| 2/2 [00:03<00:00,  1.89s/it]"
          ]
        },
        {
          "output_type": "stream",
          "name": "stdout",
          "text": [
            "                   all        202        206      0.544      0.544       0.54       0.36\n"
          ]
        },
        {
          "output_type": "stream",
          "name": "stderr",
          "text": [
            "\n"
          ]
        },
        {
          "output_type": "stream",
          "name": "stdout",
          "text": [
            "\n",
            "      Epoch    GPU_mem   box_loss   cls_loss   dfl_loss  Instances       Size\n"
          ]
        },
        {
          "output_type": "stream",
          "name": "stderr",
          "text": [
            "     64/100      8.28G     0.7731     0.7628      1.191         13        640: 100%|██████████| 14/14 [00:11<00:00,  1.19it/s]\n",
            "                 Class     Images  Instances      Box(P          R      mAP50  mAP50-95): 100%|██████████| 2/2 [00:04<00:00,  2.20s/it]"
          ]
        },
        {
          "output_type": "stream",
          "name": "stdout",
          "text": [
            "                   all        202        206      0.526      0.635      0.604      0.416\n"
          ]
        },
        {
          "output_type": "stream",
          "name": "stderr",
          "text": [
            "\n"
          ]
        },
        {
          "output_type": "stream",
          "name": "stdout",
          "text": [
            "\n",
            "      Epoch    GPU_mem   box_loss   cls_loss   dfl_loss  Instances       Size\n"
          ]
        },
        {
          "output_type": "stream",
          "name": "stderr",
          "text": [
            "     65/100      8.28G     0.7726     0.7195      1.173         19        640: 100%|██████████| 14/14 [00:10<00:00,  1.30it/s]\n",
            "                 Class     Images  Instances      Box(P          R      mAP50  mAP50-95): 100%|██████████| 2/2 [00:03<00:00,  1.91s/it]"
          ]
        },
        {
          "output_type": "stream",
          "name": "stdout",
          "text": [
            "                   all        202        206      0.521      0.668      0.619      0.406\n"
          ]
        },
        {
          "output_type": "stream",
          "name": "stderr",
          "text": [
            "\n"
          ]
        },
        {
          "output_type": "stream",
          "name": "stdout",
          "text": [
            "\n",
            "      Epoch    GPU_mem   box_loss   cls_loss   dfl_loss  Instances       Size\n"
          ]
        },
        {
          "output_type": "stream",
          "name": "stderr",
          "text": [
            "     66/100      8.28G     0.7877     0.7481      1.177         20        640: 100%|██████████| 14/14 [00:10<00:00,  1.35it/s]\n",
            "                 Class     Images  Instances      Box(P          R      mAP50  mAP50-95): 100%|██████████| 2/2 [00:03<00:00,  1.79s/it]"
          ]
        },
        {
          "output_type": "stream",
          "name": "stdout",
          "text": [
            "                   all        202        206      0.539      0.605      0.591      0.415\n"
          ]
        },
        {
          "output_type": "stream",
          "name": "stderr",
          "text": [
            "\n"
          ]
        },
        {
          "output_type": "stream",
          "name": "stdout",
          "text": [
            "\n",
            "      Epoch    GPU_mem   box_loss   cls_loss   dfl_loss  Instances       Size\n"
          ]
        },
        {
          "output_type": "stream",
          "name": "stderr",
          "text": [
            "     67/100      8.28G     0.7677     0.6963      1.151         19        640: 100%|██████████| 14/14 [00:11<00:00,  1.26it/s]\n",
            "                 Class     Images  Instances      Box(P          R      mAP50  mAP50-95): 100%|██████████| 2/2 [00:03<00:00,  1.59s/it]"
          ]
        },
        {
          "output_type": "stream",
          "name": "stdout",
          "text": [
            "                   all        202        206      0.648      0.592      0.681      0.473\n"
          ]
        },
        {
          "output_type": "stream",
          "name": "stderr",
          "text": [
            "\n"
          ]
        },
        {
          "output_type": "stream",
          "name": "stdout",
          "text": [
            "\n",
            "      Epoch    GPU_mem   box_loss   cls_loss   dfl_loss  Instances       Size\n"
          ]
        },
        {
          "output_type": "stream",
          "name": "stderr",
          "text": [
            "     68/100      8.28G     0.7577     0.7022      1.156         19        640: 100%|██████████| 14/14 [00:10<00:00,  1.28it/s]\n",
            "                 Class     Images  Instances      Box(P          R      mAP50  mAP50-95): 100%|██████████| 2/2 [00:03<00:00,  1.58s/it]"
          ]
        },
        {
          "output_type": "stream",
          "name": "stdout",
          "text": [
            "                   all        202        206      0.656        0.6      0.668      0.465\n"
          ]
        },
        {
          "output_type": "stream",
          "name": "stderr",
          "text": [
            "\n"
          ]
        },
        {
          "output_type": "stream",
          "name": "stdout",
          "text": [
            "\n",
            "      Epoch    GPU_mem   box_loss   cls_loss   dfl_loss  Instances       Size\n"
          ]
        },
        {
          "output_type": "stream",
          "name": "stderr",
          "text": [
            "     69/100      8.28G     0.7543     0.7392      1.152         18        640: 100%|██████████| 14/14 [00:12<00:00,  1.16it/s]\n",
            "                 Class     Images  Instances      Box(P          R      mAP50  mAP50-95): 100%|██████████| 2/2 [00:02<00:00,  1.44s/it]"
          ]
        },
        {
          "output_type": "stream",
          "name": "stdout",
          "text": [
            "                   all        202        206      0.522      0.666      0.645      0.445\n"
          ]
        },
        {
          "output_type": "stream",
          "name": "stderr",
          "text": [
            "\n"
          ]
        },
        {
          "output_type": "stream",
          "name": "stdout",
          "text": [
            "\n",
            "      Epoch    GPU_mem   box_loss   cls_loss   dfl_loss  Instances       Size\n"
          ]
        },
        {
          "output_type": "stream",
          "name": "stderr",
          "text": [
            "     70/100      8.28G     0.7804     0.7465      1.178         17        640: 100%|██████████| 14/14 [00:11<00:00,  1.25it/s]\n",
            "                 Class     Images  Instances      Box(P          R      mAP50  mAP50-95): 100%|██████████| 2/2 [00:02<00:00,  1.23s/it]"
          ]
        },
        {
          "output_type": "stream",
          "name": "stdout",
          "text": [
            "                   all        202        206      0.594      0.594      0.652      0.458\n"
          ]
        },
        {
          "output_type": "stream",
          "name": "stderr",
          "text": [
            "\n"
          ]
        },
        {
          "output_type": "stream",
          "name": "stdout",
          "text": [
            "\n",
            "      Epoch    GPU_mem   box_loss   cls_loss   dfl_loss  Instances       Size\n"
          ]
        },
        {
          "output_type": "stream",
          "name": "stderr",
          "text": [
            "     71/100       8.2G     0.7509     0.7016      1.166         19        640: 100%|██████████| 14/14 [00:13<00:00,  1.06it/s]\n",
            "                 Class     Images  Instances      Box(P          R      mAP50  mAP50-95): 100%|██████████| 2/2 [00:02<00:00,  1.22s/it]"
          ]
        },
        {
          "output_type": "stream",
          "name": "stdout",
          "text": [
            "                   all        202        206      0.637      0.658        0.7      0.463\n"
          ]
        },
        {
          "output_type": "stream",
          "name": "stderr",
          "text": [
            "\n"
          ]
        },
        {
          "output_type": "stream",
          "name": "stdout",
          "text": [
            "\n",
            "      Epoch    GPU_mem   box_loss   cls_loss   dfl_loss  Instances       Size\n"
          ]
        },
        {
          "output_type": "stream",
          "name": "stderr",
          "text": [
            "     72/100      8.28G     0.7307     0.6874      1.149         20        640: 100%|██████████| 14/14 [00:13<00:00,  1.00it/s]\n",
            "                 Class     Images  Instances      Box(P          R      mAP50  mAP50-95): 100%|██████████| 2/2 [00:02<00:00,  1.20s/it]"
          ]
        },
        {
          "output_type": "stream",
          "name": "stdout",
          "text": [
            "                   all        202        206      0.645      0.611      0.683      0.463\n"
          ]
        },
        {
          "output_type": "stream",
          "name": "stderr",
          "text": [
            "\n"
          ]
        },
        {
          "output_type": "stream",
          "name": "stdout",
          "text": [
            "\n",
            "      Epoch    GPU_mem   box_loss   cls_loss   dfl_loss  Instances       Size\n"
          ]
        },
        {
          "output_type": "stream",
          "name": "stderr",
          "text": [
            "     73/100      8.28G     0.7294     0.6845      1.159         11        640: 100%|██████████| 14/14 [00:13<00:00,  1.01it/s]\n",
            "                 Class     Images  Instances      Box(P          R      mAP50  mAP50-95): 100%|██████████| 2/2 [00:02<00:00,  1.17s/it]"
          ]
        },
        {
          "output_type": "stream",
          "name": "stdout",
          "text": [
            "                   all        202        206      0.637      0.648      0.679      0.483\n"
          ]
        },
        {
          "output_type": "stream",
          "name": "stderr",
          "text": [
            "\n"
          ]
        },
        {
          "output_type": "stream",
          "name": "stdout",
          "text": [
            "\n",
            "      Epoch    GPU_mem   box_loss   cls_loss   dfl_loss  Instances       Size\n"
          ]
        },
        {
          "output_type": "stream",
          "name": "stderr",
          "text": [
            "     74/100      8.28G     0.7329     0.7346      1.154         22        640: 100%|██████████| 14/14 [00:13<00:00,  1.02it/s]\n",
            "                 Class     Images  Instances      Box(P          R      mAP50  mAP50-95): 100%|██████████| 2/2 [00:02<00:00,  1.27s/it]"
          ]
        },
        {
          "output_type": "stream",
          "name": "stdout",
          "text": [
            "                   all        202        206       0.58      0.665      0.665       0.46\n"
          ]
        },
        {
          "output_type": "stream",
          "name": "stderr",
          "text": [
            "\n"
          ]
        },
        {
          "output_type": "stream",
          "name": "stdout",
          "text": [
            "\n",
            "      Epoch    GPU_mem   box_loss   cls_loss   dfl_loss  Instances       Size\n"
          ]
        },
        {
          "output_type": "stream",
          "name": "stderr",
          "text": [
            "     75/100      8.28G     0.7171      0.669      1.138         15        640: 100%|██████████| 14/14 [00:13<00:00,  1.03it/s]\n",
            "                 Class     Images  Instances      Box(P          R      mAP50  mAP50-95): 100%|██████████| 2/2 [00:04<00:00,  2.41s/it]"
          ]
        },
        {
          "output_type": "stream",
          "name": "stdout",
          "text": [
            "                   all        202        206      0.668      0.708      0.737       0.52\n"
          ]
        },
        {
          "output_type": "stream",
          "name": "stderr",
          "text": [
            "\n"
          ]
        },
        {
          "output_type": "stream",
          "name": "stdout",
          "text": [
            "\n",
            "      Epoch    GPU_mem   box_loss   cls_loss   dfl_loss  Instances       Size\n"
          ]
        },
        {
          "output_type": "stream",
          "name": "stderr",
          "text": [
            "     76/100      8.28G     0.7107      0.675      1.124         21        640: 100%|██████████| 14/14 [00:13<00:00,  1.05it/s]\n",
            "                 Class     Images  Instances      Box(P          R      mAP50  mAP50-95): 100%|██████████| 2/2 [00:02<00:00,  1.17s/it]"
          ]
        },
        {
          "output_type": "stream",
          "name": "stdout",
          "text": [
            "                   all        202        206      0.564      0.674      0.633      0.445\n"
          ]
        },
        {
          "output_type": "stream",
          "name": "stderr",
          "text": [
            "\n"
          ]
        },
        {
          "output_type": "stream",
          "name": "stdout",
          "text": [
            "\n",
            "      Epoch    GPU_mem   box_loss   cls_loss   dfl_loss  Instances       Size\n"
          ]
        },
        {
          "output_type": "stream",
          "name": "stderr",
          "text": [
            "     77/100      8.28G     0.6945     0.6566      1.133         17        640: 100%|██████████| 14/14 [00:15<00:00,  1.12s/it]\n",
            "                 Class     Images  Instances      Box(P          R      mAP50  mAP50-95): 100%|██████████| 2/2 [00:02<00:00,  1.12s/it]"
          ]
        },
        {
          "output_type": "stream",
          "name": "stdout",
          "text": [
            "                   all        202        206       0.61      0.609      0.684      0.501\n"
          ]
        },
        {
          "output_type": "stream",
          "name": "stderr",
          "text": [
            "\n"
          ]
        },
        {
          "output_type": "stream",
          "name": "stdout",
          "text": [
            "\n",
            "      Epoch    GPU_mem   box_loss   cls_loss   dfl_loss  Instances       Size\n"
          ]
        },
        {
          "output_type": "stream",
          "name": "stderr",
          "text": [
            "     78/100      8.28G      0.684     0.6484      1.116         15        640: 100%|██████████| 14/14 [00:13<00:00,  1.07it/s]\n",
            "                 Class     Images  Instances      Box(P          R      mAP50  mAP50-95): 100%|██████████| 2/2 [00:02<00:00,  1.30s/it]"
          ]
        },
        {
          "output_type": "stream",
          "name": "stdout",
          "text": [
            "                   all        202        206      0.613      0.656      0.676      0.478\n"
          ]
        },
        {
          "output_type": "stream",
          "name": "stderr",
          "text": [
            "\n"
          ]
        },
        {
          "output_type": "stream",
          "name": "stdout",
          "text": [
            "\n",
            "      Epoch    GPU_mem   box_loss   cls_loss   dfl_loss  Instances       Size\n"
          ]
        },
        {
          "output_type": "stream",
          "name": "stderr",
          "text": [
            "     79/100       8.2G     0.6699     0.6148      1.116         17        640: 100%|██████████| 14/14 [00:15<00:00,  1.11s/it]\n",
            "                 Class     Images  Instances      Box(P          R      mAP50  mAP50-95): 100%|██████████| 2/2 [00:02<00:00,  1.23s/it]"
          ]
        },
        {
          "output_type": "stream",
          "name": "stdout",
          "text": [
            "                   all        202        206      0.745      0.584      0.722      0.517\n"
          ]
        },
        {
          "output_type": "stream",
          "name": "stderr",
          "text": [
            "\n"
          ]
        },
        {
          "output_type": "stream",
          "name": "stdout",
          "text": [
            "\n",
            "      Epoch    GPU_mem   box_loss   cls_loss   dfl_loss  Instances       Size\n"
          ]
        },
        {
          "output_type": "stream",
          "name": "stderr",
          "text": [
            "     80/100       8.2G     0.7045     0.6717      1.146         13        640: 100%|██████████| 14/14 [00:13<00:00,  1.02it/s]\n",
            "                 Class     Images  Instances      Box(P          R      mAP50  mAP50-95): 100%|██████████| 2/2 [00:02<00:00,  1.20s/it]"
          ]
        },
        {
          "output_type": "stream",
          "name": "stdout",
          "text": [
            "                   all        202        206      0.641      0.616      0.644       0.47\n"
          ]
        },
        {
          "output_type": "stream",
          "name": "stderr",
          "text": [
            "\n"
          ]
        },
        {
          "output_type": "stream",
          "name": "stdout",
          "text": [
            "\n",
            "      Epoch    GPU_mem   box_loss   cls_loss   dfl_loss  Instances       Size\n"
          ]
        },
        {
          "output_type": "stream",
          "name": "stderr",
          "text": [
            "     81/100      8.28G     0.6823      0.652      1.117         17        640: 100%|██████████| 14/14 [00:15<00:00,  1.09s/it]\n",
            "                 Class     Images  Instances      Box(P          R      mAP50  mAP50-95): 100%|██████████| 2/2 [00:02<00:00,  1.17s/it]"
          ]
        },
        {
          "output_type": "stream",
          "name": "stdout",
          "text": [
            "                   all        202        206      0.573      0.604      0.625      0.434\n"
          ]
        },
        {
          "output_type": "stream",
          "name": "stderr",
          "text": [
            "\n"
          ]
        },
        {
          "output_type": "stream",
          "name": "stdout",
          "text": [
            "\n",
            "      Epoch    GPU_mem   box_loss   cls_loss   dfl_loss  Instances       Size\n"
          ]
        },
        {
          "output_type": "stream",
          "name": "stderr",
          "text": [
            "     82/100      8.28G     0.6868     0.6033       1.14         17        640: 100%|██████████| 14/14 [00:13<00:00,  1.03it/s]\n",
            "                 Class     Images  Instances      Box(P          R      mAP50  mAP50-95): 100%|██████████| 2/2 [00:02<00:00,  1.20s/it]"
          ]
        },
        {
          "output_type": "stream",
          "name": "stdout",
          "text": [
            "                   all        202        206       0.59      0.626      0.637      0.456\n"
          ]
        },
        {
          "output_type": "stream",
          "name": "stderr",
          "text": [
            "\n"
          ]
        },
        {
          "output_type": "stream",
          "name": "stdout",
          "text": [
            "\n",
            "      Epoch    GPU_mem   box_loss   cls_loss   dfl_loss  Instances       Size\n"
          ]
        },
        {
          "output_type": "stream",
          "name": "stderr",
          "text": [
            "     83/100      8.28G     0.6876     0.6028      1.127         17        640: 100%|██████████| 14/14 [00:15<00:00,  1.08s/it]\n",
            "                 Class     Images  Instances      Box(P          R      mAP50  mAP50-95): 100%|██████████| 2/2 [00:02<00:00,  1.22s/it]"
          ]
        },
        {
          "output_type": "stream",
          "name": "stdout",
          "text": [
            "                   all        202        206      0.551      0.623      0.634      0.446\n"
          ]
        },
        {
          "output_type": "stream",
          "name": "stderr",
          "text": [
            "\n"
          ]
        },
        {
          "output_type": "stream",
          "name": "stdout",
          "text": [
            "\n",
            "      Epoch    GPU_mem   box_loss   cls_loss   dfl_loss  Instances       Size\n"
          ]
        },
        {
          "output_type": "stream",
          "name": "stderr",
          "text": [
            "     84/100      8.28G     0.6657     0.6152      1.104         22        640: 100%|██████████| 14/14 [00:14<00:00,  1.01s/it]\n",
            "                 Class     Images  Instances      Box(P          R      mAP50  mAP50-95): 100%|██████████| 2/2 [00:02<00:00,  1.16s/it]"
          ]
        },
        {
          "output_type": "stream",
          "name": "stdout",
          "text": [
            "                   all        202        206      0.746      0.568      0.675      0.475\n"
          ]
        },
        {
          "output_type": "stream",
          "name": "stderr",
          "text": [
            "\n"
          ]
        },
        {
          "output_type": "stream",
          "name": "stdout",
          "text": [
            "\n",
            "      Epoch    GPU_mem   box_loss   cls_loss   dfl_loss  Instances       Size\n"
          ]
        },
        {
          "output_type": "stream",
          "name": "stderr",
          "text": [
            "     85/100      8.28G     0.6734     0.5966      1.101         14        640: 100%|██████████| 14/14 [00:14<00:00,  1.04s/it]\n",
            "                 Class     Images  Instances      Box(P          R      mAP50  mAP50-95): 100%|██████████| 2/2 [00:02<00:00,  1.23s/it]"
          ]
        },
        {
          "output_type": "stream",
          "name": "stdout",
          "text": [
            "                   all        202        206       0.61      0.652      0.675      0.476\n"
          ]
        },
        {
          "output_type": "stream",
          "name": "stderr",
          "text": [
            "\n"
          ]
        },
        {
          "output_type": "stream",
          "name": "stdout",
          "text": [
            "\n",
            "      Epoch    GPU_mem   box_loss   cls_loss   dfl_loss  Instances       Size\n"
          ]
        },
        {
          "output_type": "stream",
          "name": "stderr",
          "text": [
            "     86/100      8.25G     0.6619     0.6179      1.108         16        640: 100%|██████████| 14/14 [00:12<00:00,  1.16it/s]\n",
            "                 Class     Images  Instances      Box(P          R      mAP50  mAP50-95): 100%|██████████| 2/2 [00:03<00:00,  1.66s/it]"
          ]
        },
        {
          "output_type": "stream",
          "name": "stdout",
          "text": [
            "                   all        202        206      0.832      0.534      0.677      0.471\n"
          ]
        },
        {
          "output_type": "stream",
          "name": "stderr",
          "text": [
            "\n"
          ]
        },
        {
          "output_type": "stream",
          "name": "stdout",
          "text": [
            "\n",
            "      Epoch    GPU_mem   box_loss   cls_loss   dfl_loss  Instances       Size\n"
          ]
        },
        {
          "output_type": "stream",
          "name": "stderr",
          "text": [
            "     87/100      8.28G     0.6416     0.5675      1.088         19        640: 100%|██████████| 14/14 [00:13<00:00,  1.07it/s]\n",
            "                 Class     Images  Instances      Box(P          R      mAP50  mAP50-95): 100%|██████████| 2/2 [00:03<00:00,  1.94s/it]"
          ]
        },
        {
          "output_type": "stream",
          "name": "stdout",
          "text": [
            "                   all        202        206      0.662        0.6      0.672      0.462\n"
          ]
        },
        {
          "output_type": "stream",
          "name": "stderr",
          "text": [
            "\n"
          ]
        },
        {
          "output_type": "stream",
          "name": "stdout",
          "text": [
            "\n",
            "      Epoch    GPU_mem   box_loss   cls_loss   dfl_loss  Instances       Size\n"
          ]
        },
        {
          "output_type": "stream",
          "name": "stderr",
          "text": [
            "     88/100      8.28G     0.6472     0.5779      1.093         15        640: 100%|██████████| 14/14 [00:11<00:00,  1.24it/s]\n",
            "                 Class     Images  Instances      Box(P          R      mAP50  mAP50-95): 100%|██████████| 2/2 [00:03<00:00,  1.92s/it]"
          ]
        },
        {
          "output_type": "stream",
          "name": "stdout",
          "text": [
            "                   all        202        206      0.635      0.706      0.737      0.521\n"
          ]
        },
        {
          "output_type": "stream",
          "name": "stderr",
          "text": [
            "\n"
          ]
        },
        {
          "output_type": "stream",
          "name": "stdout",
          "text": [
            "\n",
            "      Epoch    GPU_mem   box_loss   cls_loss   dfl_loss  Instances       Size\n"
          ]
        },
        {
          "output_type": "stream",
          "name": "stderr",
          "text": [
            "     89/100      8.28G     0.6297     0.5751      1.082         18        640: 100%|██████████| 14/14 [00:12<00:00,  1.14it/s]\n",
            "                 Class     Images  Instances      Box(P          R      mAP50  mAP50-95): 100%|██████████| 2/2 [00:03<00:00,  1.98s/it]"
          ]
        },
        {
          "output_type": "stream",
          "name": "stdout",
          "text": [
            "                   all        202        206      0.736      0.622      0.718      0.503\n"
          ]
        },
        {
          "output_type": "stream",
          "name": "stderr",
          "text": [
            "\n"
          ]
        },
        {
          "output_type": "stream",
          "name": "stdout",
          "text": [
            "\n",
            "      Epoch    GPU_mem   box_loss   cls_loss   dfl_loss  Instances       Size\n"
          ]
        },
        {
          "output_type": "stream",
          "name": "stderr",
          "text": [
            "     90/100      8.28G     0.6489     0.5843      1.095         19        640: 100%|██████████| 14/14 [00:10<00:00,  1.35it/s]\n",
            "                 Class     Images  Instances      Box(P          R      mAP50  mAP50-95): 100%|██████████| 2/2 [00:03<00:00,  1.80s/it]"
          ]
        },
        {
          "output_type": "stream",
          "name": "stdout",
          "text": [
            "                   all        202        206      0.687      0.644      0.737      0.518\n"
          ]
        },
        {
          "output_type": "stream",
          "name": "stderr",
          "text": [
            "\n"
          ]
        },
        {
          "output_type": "stream",
          "name": "stdout",
          "text": [
            "Closing dataloader mosaic\n",
            "\u001b[34m\u001b[1malbumentations: \u001b[0mBlur(p=0.01, blur_limit=(3, 7)), MedianBlur(p=0.01, blur_limit=(3, 7)), ToGray(p=0.01, num_output_channels=3, method='weighted_average'), CLAHE(p=0.01, clip_limit=(1, 4.0), tile_grid_size=(8, 8))\n",
            "\n",
            "      Epoch    GPU_mem   box_loss   cls_loss   dfl_loss  Instances       Size\n"
          ]
        },
        {
          "output_type": "stream",
          "name": "stderr",
          "text": [
            "     91/100      8.28G     0.4872     0.4196     0.9895          8        640: 100%|██████████| 14/14 [00:17<00:00,  1.22s/it]\n",
            "                 Class     Images  Instances      Box(P          R      mAP50  mAP50-95): 100%|██████████| 2/2 [00:02<00:00,  1.29s/it]"
          ]
        },
        {
          "output_type": "stream",
          "name": "stdout",
          "text": [
            "                   all        202        206      0.784      0.637      0.756      0.544\n"
          ]
        },
        {
          "output_type": "stream",
          "name": "stderr",
          "text": [
            "\n"
          ]
        },
        {
          "output_type": "stream",
          "name": "stdout",
          "text": [
            "\n",
            "      Epoch    GPU_mem   box_loss   cls_loss   dfl_loss  Instances       Size\n"
          ]
        },
        {
          "output_type": "stream",
          "name": "stderr",
          "text": [
            "     92/100      8.28G     0.4704      0.359     0.9687          8        640: 100%|██████████| 14/14 [00:11<00:00,  1.24it/s]\n",
            "                 Class     Images  Instances      Box(P          R      mAP50  mAP50-95): 100%|██████████| 2/2 [00:04<00:00,  2.01s/it]"
          ]
        },
        {
          "output_type": "stream",
          "name": "stdout",
          "text": [
            "                   all        202        206      0.691      0.699      0.744      0.546\n"
          ]
        },
        {
          "output_type": "stream",
          "name": "stderr",
          "text": [
            "\n"
          ]
        },
        {
          "output_type": "stream",
          "name": "stdout",
          "text": [
            "\n",
            "      Epoch    GPU_mem   box_loss   cls_loss   dfl_loss  Instances       Size\n"
          ]
        },
        {
          "output_type": "stream",
          "name": "stderr",
          "text": [
            "     93/100      8.28G     0.4606     0.3378     0.9833          8        640: 100%|██████████| 14/14 [00:09<00:00,  1.41it/s]\n",
            "                 Class     Images  Instances      Box(P          R      mAP50  mAP50-95): 100%|██████████| 2/2 [00:03<00:00,  1.82s/it]"
          ]
        },
        {
          "output_type": "stream",
          "name": "stdout",
          "text": [
            "                   all        202        206      0.721      0.668      0.749      0.535\n"
          ]
        },
        {
          "output_type": "stream",
          "name": "stderr",
          "text": [
            "\n"
          ]
        },
        {
          "output_type": "stream",
          "name": "stdout",
          "text": [
            "\n",
            "      Epoch    GPU_mem   box_loss   cls_loss   dfl_loss  Instances       Size\n"
          ]
        },
        {
          "output_type": "stream",
          "name": "stderr",
          "text": [
            "     94/100      8.28G     0.4458     0.3537     0.9489          8        640: 100%|██████████| 14/14 [00:10<00:00,  1.35it/s]\n",
            "                 Class     Images  Instances      Box(P          R      mAP50  mAP50-95): 100%|██████████| 2/2 [00:02<00:00,  1.49s/it]"
          ]
        },
        {
          "output_type": "stream",
          "name": "stdout",
          "text": [
            "                   all        202        206      0.716      0.673      0.726      0.502\n"
          ]
        },
        {
          "output_type": "stream",
          "name": "stderr",
          "text": [
            "\n"
          ]
        },
        {
          "output_type": "stream",
          "name": "stdout",
          "text": [
            "\n",
            "      Epoch    GPU_mem   box_loss   cls_loss   dfl_loss  Instances       Size\n"
          ]
        },
        {
          "output_type": "stream",
          "name": "stderr",
          "text": [
            "     95/100      8.28G     0.4599      0.358     0.9674          8        640: 100%|██████████| 14/14 [00:11<00:00,  1.19it/s]\n",
            "                 Class     Images  Instances      Box(P          R      mAP50  mAP50-95): 100%|██████████| 2/2 [00:02<00:00,  1.29s/it]"
          ]
        },
        {
          "output_type": "stream",
          "name": "stdout",
          "text": [
            "                   all        202        206      0.722       0.62      0.716      0.508\n"
          ]
        },
        {
          "output_type": "stream",
          "name": "stderr",
          "text": [
            "\n"
          ]
        },
        {
          "output_type": "stream",
          "name": "stdout",
          "text": [
            "\n",
            "      Epoch    GPU_mem   box_loss   cls_loss   dfl_loss  Instances       Size\n"
          ]
        },
        {
          "output_type": "stream",
          "name": "stderr",
          "text": [
            "     96/100      8.28G     0.4561     0.3312     0.9647          8        640: 100%|██████████| 14/14 [00:12<00:00,  1.09it/s]\n",
            "                 Class     Images  Instances      Box(P          R      mAP50  mAP50-95): 100%|██████████| 2/2 [00:02<00:00,  1.22s/it]"
          ]
        },
        {
          "output_type": "stream",
          "name": "stdout",
          "text": [
            "                   all        202        206      0.775      0.593      0.723      0.521\n"
          ]
        },
        {
          "output_type": "stream",
          "name": "stderr",
          "text": [
            "\n"
          ]
        },
        {
          "output_type": "stream",
          "name": "stdout",
          "text": [
            "\n",
            "      Epoch    GPU_mem   box_loss   cls_loss   dfl_loss  Instances       Size\n"
          ]
        },
        {
          "output_type": "stream",
          "name": "stderr",
          "text": [
            "     97/100      8.28G     0.4438     0.4121     0.9722          8        640: 100%|██████████| 14/14 [00:12<00:00,  1.10it/s]\n",
            "                 Class     Images  Instances      Box(P          R      mAP50  mAP50-95): 100%|██████████| 2/2 [00:02<00:00,  1.21s/it]"
          ]
        },
        {
          "output_type": "stream",
          "name": "stdout",
          "text": [
            "                   all        202        206      0.803      0.613      0.738      0.523\n"
          ]
        },
        {
          "output_type": "stream",
          "name": "stderr",
          "text": [
            "\n"
          ]
        },
        {
          "output_type": "stream",
          "name": "stdout",
          "text": [
            "\n",
            "      Epoch    GPU_mem   box_loss   cls_loss   dfl_loss  Instances       Size\n"
          ]
        },
        {
          "output_type": "stream",
          "name": "stderr",
          "text": [
            "     98/100      8.28G     0.4463     0.3286     0.9489          7        640: 100%|██████████| 14/14 [00:13<00:00,  1.05it/s]\n",
            "                 Class     Images  Instances      Box(P          R      mAP50  mAP50-95): 100%|██████████| 2/2 [00:02<00:00,  1.18s/it]"
          ]
        },
        {
          "output_type": "stream",
          "name": "stdout",
          "text": [
            "                   all        202        206      0.821      0.616      0.754      0.534\n"
          ]
        },
        {
          "output_type": "stream",
          "name": "stderr",
          "text": [
            "\n"
          ]
        },
        {
          "output_type": "stream",
          "name": "stdout",
          "text": [
            "\n",
            "      Epoch    GPU_mem   box_loss   cls_loss   dfl_loss  Instances       Size\n"
          ]
        },
        {
          "output_type": "stream",
          "name": "stderr",
          "text": [
            "     99/100      8.28G     0.4251     0.3381     0.9412          8        640: 100%|██████████| 14/14 [00:12<00:00,  1.10it/s]\n",
            "                 Class     Images  Instances      Box(P          R      mAP50  mAP50-95): 100%|██████████| 2/2 [00:02<00:00,  1.47s/it]"
          ]
        },
        {
          "output_type": "stream",
          "name": "stdout",
          "text": [
            "                   all        202        206      0.664      0.672      0.725      0.526\n"
          ]
        },
        {
          "output_type": "stream",
          "name": "stderr",
          "text": [
            "\n"
          ]
        },
        {
          "output_type": "stream",
          "name": "stdout",
          "text": [
            "\n",
            "      Epoch    GPU_mem   box_loss   cls_loss   dfl_loss  Instances       Size\n"
          ]
        },
        {
          "output_type": "stream",
          "name": "stderr",
          "text": [
            "    100/100      8.28G      0.421     0.3089     0.9328          8        640: 100%|██████████| 14/14 [00:10<00:00,  1.30it/s]\n",
            "                 Class     Images  Instances      Box(P          R      mAP50  mAP50-95): 100%|██████████| 2/2 [00:04<00:00,  2.09s/it]"
          ]
        },
        {
          "output_type": "stream",
          "name": "stdout",
          "text": [
            "                   all        202        206      0.755      0.613      0.721       0.52\n"
          ]
        },
        {
          "output_type": "stream",
          "name": "stderr",
          "text": [
            "\n"
          ]
        },
        {
          "output_type": "stream",
          "name": "stdout",
          "text": [
            "\n",
            "100 epochs completed in 0.503 hours.\n",
            "Optimizer stripped from runs/detect/train/weights/last.pt, 5.5MB\n",
            "Optimizer stripped from runs/detect/train/weights/best.pt, 5.5MB\n",
            "\n",
            "Validating runs/detect/train/weights/best.pt...\n",
            "Ultralytics 8.3.13 🚀 Python-3.10.12 torch-2.4.1+cu121 CUDA:0 (Tesla T4, 15102MiB)\n",
            "YOLO11n summary (fused): 238 layers, 2,582,542 parameters, 0 gradients, 6.3 GFLOPs\n"
          ]
        },
        {
          "output_type": "stream",
          "name": "stderr",
          "text": [
            "                 Class     Images  Instances      Box(P          R      mAP50  mAP50-95): 100%|██████████| 2/2 [00:02<00:00,  1.29s/it]\n"
          ]
        },
        {
          "output_type": "stream",
          "name": "stdout",
          "text": [
            "                   all        202        206      0.692      0.698      0.744      0.547\n",
            "              moderate         66         66      0.708      0.515      0.648       0.47\n",
            "                severe        136        140      0.676      0.881      0.841      0.624\n",
            "Speed: 0.2ms preprocess, 2.6ms inference, 0.0ms loss, 3.1ms postprocess per image\n",
            "Results saved to \u001b[1mruns/detect/train\u001b[0m\n"
          ]
        }
      ]
    },
    {
      "cell_type": "markdown",
      "source": [],
      "metadata": {
        "id": "D16ofwvn7EOJ"
      }
    },
    {
      "cell_type": "code",
      "source": [
        "import shutil\n",
        "from google.colab import files\n",
        "\n",
        "# Klasörü ziplemek\n",
        "shutil.make_archive('/content/runs', 'zip', '/content/runs')\n",
        "\n",
        "# Zipped dosyayı indirmek\n",
        "files.download('/content/runs.zip')\n"
      ],
      "metadata": {
        "colab": {
          "base_uri": "https://localhost:8080/",
          "height": 17
        },
        "id": "_cS-EO2UK5a-",
        "outputId": "17c5690b-94ef-4961-853f-3ab9d39b8fe9"
      },
      "execution_count": 9,
      "outputs": [
        {
          "output_type": "display_data",
          "data": {
            "text/plain": [
              "<IPython.core.display.Javascript object>"
            ],
            "application/javascript": [
              "\n",
              "    async function download(id, filename, size) {\n",
              "      if (!google.colab.kernel.accessAllowed) {\n",
              "        return;\n",
              "      }\n",
              "      const div = document.createElement('div');\n",
              "      const label = document.createElement('label');\n",
              "      label.textContent = `Downloading \"${filename}\": `;\n",
              "      div.appendChild(label);\n",
              "      const progress = document.createElement('progress');\n",
              "      progress.max = size;\n",
              "      div.appendChild(progress);\n",
              "      document.body.appendChild(div);\n",
              "\n",
              "      const buffers = [];\n",
              "      let downloaded = 0;\n",
              "\n",
              "      const channel = await google.colab.kernel.comms.open(id);\n",
              "      // Send a message to notify the kernel that we're ready.\n",
              "      channel.send({})\n",
              "\n",
              "      for await (const message of channel.messages) {\n",
              "        // Send a message to notify the kernel that we're ready.\n",
              "        channel.send({})\n",
              "        if (message.buffers) {\n",
              "          for (const buffer of message.buffers) {\n",
              "            buffers.push(buffer);\n",
              "            downloaded += buffer.byteLength;\n",
              "            progress.value = downloaded;\n",
              "          }\n",
              "        }\n",
              "      }\n",
              "      const blob = new Blob(buffers, {type: 'application/binary'});\n",
              "      const a = document.createElement('a');\n",
              "      a.href = window.URL.createObjectURL(blob);\n",
              "      a.download = filename;\n",
              "      div.appendChild(a);\n",
              "      a.click();\n",
              "      div.remove();\n",
              "    }\n",
              "  "
            ]
          },
          "metadata": {}
        },
        {
          "output_type": "display_data",
          "data": {
            "text/plain": [
              "<IPython.core.display.Javascript object>"
            ],
            "application/javascript": [
              "download(\"download_49328b78-3705-489a-ad5b-6f8d956ede4d\", \"runs.zip\", 16494453)"
            ]
          },
          "metadata": {}
        }
      ]
    }
  ]
}