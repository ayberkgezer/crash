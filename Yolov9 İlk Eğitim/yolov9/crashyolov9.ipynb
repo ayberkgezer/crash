{
  "nbformat": 4,
  "nbformat_minor": 0,
  "metadata": {
    "colab": {
      "provenance": [],
      "gpuType": "L4"
    },
    "kernelspec": {
      "name": "python3",
      "display_name": "Python 3"
    },
    "language_info": {
      "name": "python"
    },
    "accelerator": "GPU"
  },
  "cells": [
    {
      "cell_type": "code",
      "execution_count": 1,
      "metadata": {
        "colab": {
          "base_uri": "https://localhost:8080/"
        },
        "id": "iRGohlNhPyun",
        "outputId": "197d07ec-a8eb-4f78-b0e4-28065a3c29a4"
      },
      "outputs": [
        {
          "output_type": "stream",
          "name": "stdout",
          "text": [
            "Mon Sep 23 07:44:28 2024       \n",
            "+---------------------------------------------------------------------------------------+\n",
            "| NVIDIA-SMI 535.104.05             Driver Version: 535.104.05   CUDA Version: 12.2     |\n",
            "|-----------------------------------------+----------------------+----------------------+\n",
            "| GPU  Name                 Persistence-M | Bus-Id        Disp.A | Volatile Uncorr. ECC |\n",
            "| Fan  Temp   Perf          Pwr:Usage/Cap |         Memory-Usage | GPU-Util  Compute M. |\n",
            "|                                         |                      |               MIG M. |\n",
            "|=========================================+======================+======================|\n",
            "|   0  NVIDIA L4                      Off | 00000000:00:03.0 Off |                    0 |\n",
            "| N/A   49C    P8              12W /  72W |      1MiB / 23034MiB |      0%      Default |\n",
            "|                                         |                      |                  N/A |\n",
            "+-----------------------------------------+----------------------+----------------------+\n",
            "                                                                                         \n",
            "+---------------------------------------------------------------------------------------+\n",
            "| Processes:                                                                            |\n",
            "|  GPU   GI   CI        PID   Type   Process name                            GPU Memory |\n",
            "|        ID   ID                                                             Usage      |\n",
            "|=======================================================================================|\n",
            "|  No running processes found                                                           |\n",
            "+---------------------------------------------------------------------------------------+\n"
          ]
        }
      ],
      "source": [
        "!nvidia-smi"
      ]
    },
    {
      "cell_type": "code",
      "source": [
        "from google.colab import drive\n",
        "drive.mount('/content/drive')"
      ],
      "metadata": {
        "colab": {
          "base_uri": "https://localhost:8080/"
        },
        "id": "ZXdkG0oTP4Fp",
        "outputId": "b165a501-d5ac-4d23-e984-138dd4cada3d"
      },
      "execution_count": 2,
      "outputs": [
        {
          "output_type": "stream",
          "name": "stdout",
          "text": [
            "Mounted at /content/drive\n"
          ]
        }
      ]
    },
    {
      "cell_type": "code",
      "source": [
        "!unzip /content/drive/MyDrive/yolov7Data.zip"
      ],
      "metadata": {
        "id": "IdrfiHhUP6tY",
        "colab": {
          "base_uri": "https://localhost:8080/"
        },
        "outputId": "e6495ea4-e5a5-48fa-ede1-178aef8c2445"
      },
      "execution_count": 3,
      "outputs": [
        {
          "output_type": "stream",
          "name": "stdout",
          "text": [
            "Archive:  /content/drive/MyDrive/yolov7Data.zip\n",
            "   creating: yolov7Data/\n",
            "  inflating: __MACOSX/._yolov7Data   \n",
            "  inflating: yolov7Data/README.roboflow.txt  \n",
            "  inflating: __MACOSX/yolov7Data/._README.roboflow.txt  \n",
            "   creating: yolov7Data/valid/\n",
            "  inflating: __MACOSX/yolov7Data/._valid  \n",
            "  inflating: yolov7Data/README.dataset.txt  \n",
            "  inflating: __MACOSX/yolov7Data/._README.dataset.txt  \n",
            "   creating: yolov7Data/test/\n",
            "  inflating: __MACOSX/yolov7Data/._test  \n",
            "  inflating: yolov7Data/data.yaml    \n",
            "  inflating: __MACOSX/yolov7Data/._data.yaml  \n",
            "   creating: yolov7Data/train/\n",
            "  inflating: __MACOSX/yolov7Data/._train  \n",
            "   creating: yolov7Data/valid/images/\n",
            "  inflating: __MACOSX/yolov7Data/valid/._images  \n",
            "   creating: yolov7Data/valid/labels/\n",
            "  inflating: __MACOSX/yolov7Data/valid/._labels  \n",
            "   creating: yolov7Data/test/images/\n",
            "  inflating: __MACOSX/yolov7Data/test/._images  \n",
            "   creating: yolov7Data/test/labels/\n",
            "  inflating: __MACOSX/yolov7Data/test/._labels  \n",
            "   creating: yolov7Data/train/images/\n",
            "  inflating: __MACOSX/yolov7Data/train/._images  \n",
            "   creating: yolov7Data/train/labels/\n",
            "  inflating: __MACOSX/yolov7Data/train/._labels  \n",
            "  inflating: yolov7Data/valid/images/Image_105_jpg.rf.6bf0dd13a7435620e04a59928be95ab0.jpg  \n",
            "  inflating: __MACOSX/yolov7Data/valid/images/._Image_105_jpg.rf.6bf0dd13a7435620e04a59928be95ab0.jpg  \n",
            "  inflating: yolov7Data/valid/images/Screenshot-37-_png.rf.aad59335eedb385257749d8fd227c2bf.jpg  \n",
            "  inflating: __MACOSX/yolov7Data/valid/images/._Screenshot-37-_png.rf.aad59335eedb385257749d8fd227c2bf.jpg  \n",
            "  inflating: yolov7Data/valid/images/Image_26_jpg.rf.eef4704ed7c7fd524467c5e2b52b6c13.jpg  \n",
            "  inflating: __MACOSX/yolov7Data/valid/images/._Image_26_jpg.rf.eef4704ed7c7fd524467c5e2b52b6c13.jpg  \n",
            "  inflating: yolov7Data/valid/images/Screenshot-452-_png.rf.2b3e3d507e0e9850bbda1dfb4c05c0eb.jpg  \n",
            "  inflating: __MACOSX/yolov7Data/valid/images/._Screenshot-452-_png.rf.2b3e3d507e0e9850bbda1dfb4c05c0eb.jpg  \n",
            "  inflating: yolov7Data/valid/images/Screenshot-418-_png.rf.9d3a64dc36cf743b5a7e096889769aed.jpg  \n",
            "  inflating: __MACOSX/yolov7Data/valid/images/._Screenshot-418-_png.rf.9d3a64dc36cf743b5a7e096889769aed.jpg  \n",
            "  inflating: yolov7Data/valid/images/Screenshot-55-_png.rf.883f10876542f589b34a557ebda24231.jpg  \n",
            "  inflating: __MACOSX/yolov7Data/valid/images/._Screenshot-55-_png.rf.883f10876542f589b34a557ebda24231.jpg  \n",
            "  inflating: yolov7Data/valid/images/Image_166_png.rf.b5c2f09dd185e24a1a2f686fc8c32290.jpg  \n",
            "  inflating: __MACOSX/yolov7Data/valid/images/._Image_166_png.rf.b5c2f09dd185e24a1a2f686fc8c32290.jpg  \n",
            "  inflating: yolov7Data/valid/images/Screenshot-256-_png.rf.776873769b0bfc3a617f3eefcecb4a3d.jpg  \n",
            "  inflating: __MACOSX/yolov7Data/valid/images/._Screenshot-256-_png.rf.776873769b0bfc3a617f3eefcecb4a3d.jpg  \n",
            "  inflating: yolov7Data/valid/images/Screenshot-279-_png.rf.68dba0513f54c1d597a57b35dead4adf.jpg  \n",
            "  inflating: __MACOSX/yolov7Data/valid/images/._Screenshot-279-_png.rf.68dba0513f54c1d597a57b35dead4adf.jpg  \n",
            "  inflating: yolov7Data/valid/images/Screenshot-120-_png.rf.e2e74c5a30e3e8283eafc9b91fb37c8f.jpg  \n",
            "  inflating: __MACOSX/yolov7Data/valid/images/._Screenshot-120-_png.rf.e2e74c5a30e3e8283eafc9b91fb37c8f.jpg  \n",
            "  inflating: yolov7Data/valid/images/Screenshot-334-_png.rf.f1646bc8694e47abfdd275f48d23195d.jpg  \n",
            "  inflating: __MACOSX/yolov7Data/valid/images/._Screenshot-334-_png.rf.f1646bc8694e47abfdd275f48d23195d.jpg  \n",
            "  inflating: yolov7Data/valid/images/Image_4_jpg.rf.84aea185d80f70d00912ff8264f8f5b4.jpg  \n",
            "  inflating: __MACOSX/yolov7Data/valid/images/._Image_4_jpg.rf.84aea185d80f70d00912ff8264f8f5b4.jpg  \n",
            "  inflating: yolov7Data/valid/images/Screenshot-375-_png.rf.5597eba13a50f22863e5b9c46a6e405a.jpg  \n",
            "  inflating: __MACOSX/yolov7Data/valid/images/._Screenshot-375-_png.rf.5597eba13a50f22863e5b9c46a6e405a.jpg  \n",
            "  inflating: yolov7Data/valid/images/Screenshot-124-_png.rf.8692ffc18716091f55b0ec8f20e83260.jpg  \n",
            "  inflating: __MACOSX/yolov7Data/valid/images/._Screenshot-124-_png.rf.8692ffc18716091f55b0ec8f20e83260.jpg  \n",
            "  inflating: yolov7Data/valid/images/Screenshot-245-_png.rf.d1bfae80bab7ccc7d09b55d5ebb2c14c.jpg  \n",
            "  inflating: __MACOSX/yolov7Data/valid/images/._Screenshot-245-_png.rf.d1bfae80bab7ccc7d09b55d5ebb2c14c.jpg  \n",
            "  inflating: yolov7Data/valid/images/Screenshot-178-_png.rf.899c167b0ba5f3d11d46a8d93f4812a9.jpg  \n",
            "  inflating: __MACOSX/yolov7Data/valid/images/._Screenshot-178-_png.rf.899c167b0ba5f3d11d46a8d93f4812a9.jpg  \n",
            "  inflating: yolov7Data/valid/images/Screenshot-399-_png.rf.938c60c38e4f09cdde9a5de1b3324b46.jpg  \n",
            "  inflating: __MACOSX/yolov7Data/valid/images/._Screenshot-399-_png.rf.938c60c38e4f09cdde9a5de1b3324b46.jpg  \n",
            "  inflating: yolov7Data/valid/images/Screenshot-224-_png.rf.592410d56c19688ab6597d61fd326fd2.jpg  \n",
            "  inflating: __MACOSX/yolov7Data/valid/images/._Screenshot-224-_png.rf.592410d56c19688ab6597d61fd326fd2.jpg  \n",
            "  inflating: yolov7Data/valid/images/Screenshot-206-_png.rf.56310ecca96ca2917c02f43a00928b4c.jpg  \n",
            "  inflating: __MACOSX/yolov7Data/valid/images/._Screenshot-206-_png.rf.56310ecca96ca2917c02f43a00928b4c.jpg  \n",
            "  inflating: yolov7Data/valid/images/Screenshot-62-_png.rf.8473c3cf1d9145843f1af796fa5d0484.jpg  \n",
            "  inflating: __MACOSX/yolov7Data/valid/images/._Screenshot-62-_png.rf.8473c3cf1d9145843f1af796fa5d0484.jpg  \n",
            "  inflating: yolov7Data/valid/images/Screenshot-344-_png.rf.fec4a223f6034557cf7b870c1f7aa02c.jpg  \n",
            "  inflating: __MACOSX/yolov7Data/valid/images/._Screenshot-344-_png.rf.fec4a223f6034557cf7b870c1f7aa02c.jpg  \n",
            "  inflating: yolov7Data/valid/images/Screenshot-95-_png.rf.433d23843838a91737f10fef946c8879.jpg  \n",
            "  inflating: __MACOSX/yolov7Data/valid/images/._Screenshot-95-_png.rf.433d23843838a91737f10fef946c8879.jpg  \n",
            "  inflating: yolov7Data/valid/images/Screenshot-380-_png.rf.e94c473d0135d7c1207df7f7e2bb45ea.jpg  \n",
            "  inflating: __MACOSX/yolov7Data/valid/images/._Screenshot-380-_png.rf.e94c473d0135d7c1207df7f7e2bb45ea.jpg  \n",
            "  inflating: yolov7Data/valid/images/Screenshot-64-_png.rf.91b5fb6d91d319c508f68cb9009bbaf9.jpg  \n",
            "  inflating: __MACOSX/yolov7Data/valid/images/._Screenshot-64-_png.rf.91b5fb6d91d319c508f68cb9009bbaf9.jpg  \n",
            "  inflating: yolov7Data/valid/images/Image_23_jpg.rf.ddc68bb784db47b15ff0b00b54830325.jpg  \n",
            "  inflating: __MACOSX/yolov7Data/valid/images/._Image_23_jpg.rf.ddc68bb784db47b15ff0b00b54830325.jpg  \n",
            "  inflating: yolov7Data/valid/images/Screenshot-92-_png.rf.f87ba28d9d5fea1d71d8279f681b6549.jpg  \n",
            "  inflating: __MACOSX/yolov7Data/valid/images/._Screenshot-92-_png.rf.f87ba28d9d5fea1d71d8279f681b6549.jpg  \n",
            "  inflating: yolov7Data/valid/images/Image_144_jpg.rf.a28f9649028b47106ad7fdebf1616150.jpg  \n",
            "  inflating: __MACOSX/yolov7Data/valid/images/._Image_144_jpg.rf.a28f9649028b47106ad7fdebf1616150.jpg  \n",
            "  inflating: yolov7Data/valid/images/Screenshot-99-_png.rf.579897c49fcc571d12048b098f480896.jpg  \n",
            "  inflating: __MACOSX/yolov7Data/valid/images/._Screenshot-99-_png.rf.579897c49fcc571d12048b098f480896.jpg  \n",
            "  inflating: yolov7Data/valid/images/Screenshot-397-_png.rf.8210472e37e87d86d5f0d6ceb88ebb99.jpg  \n",
            "  inflating: __MACOSX/yolov7Data/valid/images/._Screenshot-397-_png.rf.8210472e37e87d86d5f0d6ceb88ebb99.jpg  \n",
            "  inflating: yolov7Data/valid/images/Screenshot-61-_png.rf.042dc85ad127696cbfba798bf7a20317.jpg  \n",
            "  inflating: __MACOSX/yolov7Data/valid/images/._Screenshot-61-_png.rf.042dc85ad127696cbfba798bf7a20317.jpg  \n",
            "  inflating: yolov7Data/valid/images/Screenshot-87-_png.rf.1c8e86ea32cd64a214f722db448d0e23.jpg  \n",
            "  inflating: __MACOSX/yolov7Data/valid/images/._Screenshot-87-_png.rf.1c8e86ea32cd64a214f722db448d0e23.jpg  \n",
            "  inflating: yolov7Data/valid/images/Screenshot-386-_png.rf.1264a27a6111b52bf5828bde4e015e91.jpg  \n",
            "  inflating: __MACOSX/yolov7Data/valid/images/._Screenshot-386-_png.rf.1264a27a6111b52bf5828bde4e015e91.jpg  \n",
            "  inflating: yolov7Data/valid/images/Screenshot-218-_png.rf.d8a7ace3fba953a8672b4cdb2ee8a078.jpg  \n",
            "  inflating: __MACOSX/yolov7Data/valid/images/._Screenshot-218-_png.rf.d8a7ace3fba953a8672b4cdb2ee8a078.jpg  \n",
            "  inflating: yolov7Data/valid/images/Screenshot-160-_png.rf.b2f3819db9a6adfe26685f141bcdf17e.jpg  \n",
            "  inflating: __MACOSX/yolov7Data/valid/images/._Screenshot-160-_png.rf.b2f3819db9a6adfe26685f141bcdf17e.jpg  \n",
            "  inflating: yolov7Data/valid/images/Screenshot-360-_png.rf.1763a2a88bc8d7cf0e4b6fedd69f0eec.jpg  \n",
            "  inflating: __MACOSX/yolov7Data/valid/images/._Screenshot-360-_png.rf.1763a2a88bc8d7cf0e4b6fedd69f0eec.jpg  \n",
            "  inflating: yolov7Data/valid/images/Screenshot-72-_png.rf.8e40f02207e720aebf7dab3927257f44.jpg  \n",
            "  inflating: __MACOSX/yolov7Data/valid/images/._Screenshot-72-_png.rf.8e40f02207e720aebf7dab3927257f44.jpg  \n",
            "  inflating: yolov7Data/valid/images/Screenshot-297-_png.rf.bd33d930a059b9e500f8a4d1d900cfd9.jpg  \n",
            "  inflating: __MACOSX/yolov7Data/valid/images/._Screenshot-297-_png.rf.bd33d930a059b9e500f8a4d1d900cfd9.jpg  \n",
            "  inflating: yolov7Data/valid/images/Screenshot-86-_png.rf.c46f7fef31f70c2193c70806917ea07f.jpg  \n",
            "  inflating: __MACOSX/yolov7Data/valid/images/._Screenshot-86-_png.rf.c46f7fef31f70c2193c70806917ea07f.jpg  \n",
            "  inflating: yolov7Data/valid/images/Image_8_jpg.rf.63eac2e807ddba4ec28ee2dfeb064c21.jpg  \n",
            "  inflating: __MACOSX/yolov7Data/valid/images/._Image_8_jpg.rf.63eac2e807ddba4ec28ee2dfeb064c21.jpg  \n",
            "  inflating: yolov7Data/valid/images/Screenshot-415-_png.rf.a3518e9741faf5c721677aaf127644a1.jpg  \n",
            "  inflating: __MACOSX/yolov7Data/valid/images/._Screenshot-415-_png.rf.a3518e9741faf5c721677aaf127644a1.jpg  \n",
            "  inflating: yolov7Data/valid/images/Screenshot-270-_png.rf.b989a43b84f8638dd2976dd39d939f88.jpg  \n",
            "  inflating: __MACOSX/yolov7Data/valid/images/._Screenshot-270-_png.rf.b989a43b84f8638dd2976dd39d939f88.jpg  \n",
            "  inflating: yolov7Data/valid/images/Screenshot-458-_png.rf.21d33c361d59ec78462be6ad224c7cc3.jpg  \n",
            "  inflating: __MACOSX/yolov7Data/valid/images/._Screenshot-458-_png.rf.21d33c361d59ec78462be6ad224c7cc3.jpg  \n",
            "  inflating: yolov7Data/valid/images/Screenshot-274-_png.rf.54854a88236931c82b34cf114ee4a60d.jpg  \n",
            "  inflating: __MACOSX/yolov7Data/valid/images/._Screenshot-274-_png.rf.54854a88236931c82b34cf114ee4a60d.jpg  \n",
            "  inflating: yolov7Data/valid/images/Screenshot-189-_png.rf.71022070d4236f6c603e9c81abaabdf5.jpg  \n",
            "  inflating: __MACOSX/yolov7Data/valid/images/._Screenshot-189-_png.rf.71022070d4236f6c603e9c81abaabdf5.jpg  \n",
            "  inflating: yolov7Data/valid/images/Image_6_jpg.rf.1d1ee42b6a353eecb50abf9879ea46ef.jpg  \n",
            "  inflating: __MACOSX/yolov7Data/valid/images/._Image_6_jpg.rf.1d1ee42b6a353eecb50abf9879ea46ef.jpg  \n",
            "  inflating: yolov7Data/valid/images/Screenshot-14-_png.rf.c30fad6170168ab589be33e9b2048a7d.jpg  \n",
            "  inflating: __MACOSX/yolov7Data/valid/images/._Screenshot-14-_png.rf.c30fad6170168ab589be33e9b2048a7d.jpg  \n",
            "  inflating: yolov7Data/valid/images/Screenshot-442-_png.rf.1eb84a2f34457e34a7b47f46f0986263.jpg  \n",
            "  inflating: __MACOSX/yolov7Data/valid/images/._Screenshot-442-_png.rf.1eb84a2f34457e34a7b47f46f0986263.jpg  \n",
            "  inflating: yolov7Data/valid/images/Screenshot-355-_png.rf.7d2396fdfebfc9fffd01a2311bcd8513.jpg  \n",
            "  inflating: __MACOSX/yolov7Data/valid/images/._Screenshot-355-_png.rf.7d2396fdfebfc9fffd01a2311bcd8513.jpg  \n",
            "  inflating: yolov7Data/valid/images/Screenshot-17-_png.rf.40c3bb08abdde4864a84eb0a0bfcf8c9.jpg  \n",
            "  inflating: __MACOSX/yolov7Data/valid/images/._Screenshot-17-_png.rf.40c3bb08abdde4864a84eb0a0bfcf8c9.jpg  \n",
            "  inflating: yolov7Data/valid/images/Screenshot-127-_png.rf.e3cb841cff6dbae8d4efb72acf1443cb.jpg  \n",
            "  inflating: __MACOSX/yolov7Data/valid/images/._Screenshot-127-_png.rf.e3cb841cff6dbae8d4efb72acf1443cb.jpg  \n",
            "  inflating: yolov7Data/valid/images/Screenshot-225-_png.rf.d0442f2dae4805ffe286aae805344770.jpg  \n",
            "  inflating: __MACOSX/yolov7Data/valid/images/._Screenshot-225-_png.rf.d0442f2dae4805ffe286aae805344770.jpg  \n",
            "  inflating: yolov7Data/valid/images/Screenshot-361-_png.rf.fddd2386698268bac3a463a1c33896d5.jpg  \n",
            "  inflating: __MACOSX/yolov7Data/valid/images/._Screenshot-361-_png.rf.fddd2386698268bac3a463a1c33896d5.jpg  \n",
            "  inflating: yolov7Data/valid/images/Screenshot-287-_png.rf.8bae231f292daddce16a3058d96b3ee0.jpg  \n",
            "  inflating: __MACOSX/yolov7Data/valid/images/._Screenshot-287-_png.rf.8bae231f292daddce16a3058d96b3ee0.jpg  \n",
            "  inflating: yolov7Data/valid/images/Screenshot-262-_png.rf.c75e97586498adb5f9c815f8853c056e.jpg  \n",
            "  inflating: __MACOSX/yolov7Data/valid/images/._Screenshot-262-_png.rf.c75e97586498adb5f9c815f8853c056e.jpg  \n",
            "  inflating: yolov7Data/valid/images/Screenshot-158-_png.rf.725ec1c8a55c83cc43fdd9f7b06f7b54.jpg  \n",
            "  inflating: __MACOSX/yolov7Data/valid/images/._Screenshot-158-_png.rf.725ec1c8a55c83cc43fdd9f7b06f7b54.jpg  \n",
            "  inflating: yolov7Data/valid/images/Image_101_jpg.rf.4c4e508d477e2d9f97ef3785757f11ed.jpg  \n",
            "  inflating: __MACOSX/yolov7Data/valid/images/._Image_101_jpg.rf.4c4e508d477e2d9f97ef3785757f11ed.jpg  \n",
            "  inflating: yolov7Data/valid/images/Screenshot-101-_png.rf.fcf4b1980ba8fbfa922c84b3f8f96326.jpg  \n",
            "  inflating: __MACOSX/yolov7Data/valid/images/._Screenshot-101-_png.rf.fcf4b1980ba8fbfa922c84b3f8f96326.jpg  \n",
            "  inflating: yolov7Data/valid/images/Screenshot-119-_png.rf.b2bd8110cabf06b82e6b6f1cd39cc635.jpg  \n",
            "  inflating: __MACOSX/yolov7Data/valid/images/._Screenshot-119-_png.rf.b2bd8110cabf06b82e6b6f1cd39cc635.jpg  \n",
            "  inflating: yolov7Data/valid/images/Screenshot-93-_png.rf.5fbf99c067262a7d94671f9072a5b777.jpg  \n",
            "  inflating: __MACOSX/yolov7Data/valid/images/._Screenshot-93-_png.rf.5fbf99c067262a7d94671f9072a5b777.jpg  \n",
            "  inflating: yolov7Data/valid/images/Image_49_jpg.rf.268a123a6369631a7f99fc40a32b83a0.jpg  \n",
            "  inflating: __MACOSX/yolov7Data/valid/images/._Image_49_jpg.rf.268a123a6369631a7f99fc40a32b83a0.jpg  \n",
            "  inflating: yolov7Data/valid/images/Screenshot-440-_png.rf.fe06a2599f92c75095819a6019a5c12e.jpg  \n",
            "  inflating: __MACOSX/yolov7Data/valid/images/._Screenshot-440-_png.rf.fe06a2599f92c75095819a6019a5c12e.jpg  \n",
            "  inflating: yolov7Data/valid/images/Screenshot-174-_png.rf.4b5bed2b8f1c0b56767b123304215096.jpg  \n",
            "  inflating: __MACOSX/yolov7Data/valid/images/._Screenshot-174-_png.rf.4b5bed2b8f1c0b56767b123304215096.jpg  \n",
            "  inflating: yolov7Data/valid/images/Screenshot-311-_png.rf.cf534274feaec1b1b3b192379840ce8f.jpg  \n",
            "  inflating: __MACOSX/yolov7Data/valid/images/._Screenshot-311-_png.rf.cf534274feaec1b1b3b192379840ce8f.jpg  \n",
            "  inflating: yolov7Data/valid/images/Screenshot-150-_png.rf.2b813cda3209692669289e5dcd264936.jpg  \n",
            "  inflating: __MACOSX/yolov7Data/valid/images/._Screenshot-150-_png.rf.2b813cda3209692669289e5dcd264936.jpg  \n",
            "  inflating: yolov7Data/valid/images/Screenshot-424-_png.rf.28e9ce439a90e1f31deb57ccc9d81efd.jpg  \n",
            "  inflating: __MACOSX/yolov7Data/valid/images/._Screenshot-424-_png.rf.28e9ce439a90e1f31deb57ccc9d81efd.jpg  \n",
            "  inflating: yolov7Data/valid/images/Screenshot-136-_png.rf.73fe04b62bf65cbd826963f9dcb2b8c7.jpg  \n",
            "  inflating: __MACOSX/yolov7Data/valid/images/._Screenshot-136-_png.rf.73fe04b62bf65cbd826963f9dcb2b8c7.jpg  \n",
            "  inflating: yolov7Data/valid/images/Screenshot-403-_png.rf.503ac313e9a461a8e4c59fc4952d7f2f.jpg  \n",
            "  inflating: __MACOSX/yolov7Data/valid/images/._Screenshot-403-_png.rf.503ac313e9a461a8e4c59fc4952d7f2f.jpg  \n",
            "  inflating: yolov7Data/valid/images/Image_69_jpg.rf.295c8686947e85b2036e5df87dd61b00.jpg  \n",
            "  inflating: __MACOSX/yolov7Data/valid/images/._Image_69_jpg.rf.295c8686947e85b2036e5df87dd61b00.jpg  \n",
            "  inflating: yolov7Data/valid/images/Screenshot-232-_png.rf.f0185d6045b7399dccd694e27ed4b152.jpg  \n",
            "  inflating: __MACOSX/yolov7Data/valid/images/._Screenshot-232-_png.rf.f0185d6045b7399dccd694e27ed4b152.jpg  \n",
            "  inflating: yolov7Data/valid/images/Screenshot-238-_png.rf.2becd84c244c4a9c1b1c95bdaf41b44c.jpg  \n",
            "  inflating: __MACOSX/yolov7Data/valid/images/._Screenshot-238-_png.rf.2becd84c244c4a9c1b1c95bdaf41b44c.jpg  \n",
            "  inflating: yolov7Data/valid/images/Screenshot-455-_png.rf.cd03313407e4911aee766a67a29e545a.jpg  \n",
            "  inflating: __MACOSX/yolov7Data/valid/images/._Screenshot-455-_png.rf.cd03313407e4911aee766a67a29e545a.jpg  \n",
            "  inflating: yolov7Data/valid/images/Screenshot-76-_png.rf.9f4dd94c99eca8f75512732286de8fa7.jpg  \n",
            "  inflating: __MACOSX/yolov7Data/valid/images/._Screenshot-76-_png.rf.9f4dd94c99eca8f75512732286de8fa7.jpg  \n",
            "  inflating: yolov7Data/valid/images/Screenshot-353-_png.rf.fd4f7a51491cbb5e94bccadc3338edc8.jpg  \n",
            "  inflating: __MACOSX/yolov7Data/valid/images/._Screenshot-353-_png.rf.fd4f7a51491cbb5e94bccadc3338edc8.jpg  \n",
            "  inflating: yolov7Data/valid/images/Image_30_jpg.rf.2672f2c597ae76d61469e402efe844ae.jpg  \n",
            "  inflating: __MACOSX/yolov7Data/valid/images/._Image_30_jpg.rf.2672f2c597ae76d61469e402efe844ae.jpg  \n",
            "  inflating: yolov7Data/valid/images/Screenshot-379-_png.rf.bfe15359840cdb2834e0124dd09112ac.jpg  \n",
            "  inflating: __MACOSX/yolov7Data/valid/images/._Screenshot-379-_png.rf.bfe15359840cdb2834e0124dd09112ac.jpg  \n",
            "  inflating: yolov7Data/valid/images/Screenshot-294-_png.rf.e9b29506a8965046d8603393c1adede3.jpg  \n",
            "  inflating: __MACOSX/yolov7Data/valid/images/._Screenshot-294-_png.rf.e9b29506a8965046d8603393c1adede3.jpg  \n",
            "  inflating: yolov7Data/valid/images/Screenshot-389-_png.rf.97057e9bd8735a89367594ad3a36e19e.jpg  \n",
            "  inflating: __MACOSX/yolov7Data/valid/images/._Screenshot-389-_png.rf.97057e9bd8735a89367594ad3a36e19e.jpg  \n",
            "  inflating: yolov7Data/valid/images/Screenshot-154-_png.rf.0b27a25cc8da30db1252ea099c4c6d4e.jpg  \n",
            "  inflating: __MACOSX/yolov7Data/valid/images/._Screenshot-154-_png.rf.0b27a25cc8da30db1252ea099c4c6d4e.jpg  \n",
            "  inflating: yolov7Data/valid/images/Screenshot-130-_png.rf.295f0aa4e5d73d37a20998946f762696.jpg  \n",
            "  inflating: __MACOSX/yolov7Data/valid/images/._Screenshot-130-_png.rf.295f0aa4e5d73d37a20998946f762696.jpg  \n",
            "  inflating: yolov7Data/valid/images/Screenshot-319-_png.rf.b8014cc9d1a2affdc62c10aba482633f.jpg  \n",
            "  inflating: __MACOSX/yolov7Data/valid/images/._Screenshot-319-_png.rf.b8014cc9d1a2affdc62c10aba482633f.jpg  \n",
            "  inflating: yolov7Data/valid/images/Screenshot-264-_png.rf.cdd341cc7b206a0072678ae4113ef2b7.jpg  \n",
            "  inflating: __MACOSX/yolov7Data/valid/images/._Screenshot-264-_png.rf.cdd341cc7b206a0072678ae4113ef2b7.jpg  \n",
            "  inflating: yolov7Data/valid/images/Screenshot-254-_png.rf.2a3284d7ae3d0c63abf09251d8acbf5f.jpg  \n",
            "  inflating: __MACOSX/yolov7Data/valid/images/._Screenshot-254-_png.rf.2a3284d7ae3d0c63abf09251d8acbf5f.jpg  \n",
            "  inflating: yolov7Data/valid/images/Image_32_jpg.rf.fd9e2033cd4b60b7c5c039419b039cab.jpg  \n",
            "  inflating: __MACOSX/yolov7Data/valid/images/._Image_32_jpg.rf.fd9e2033cd4b60b7c5c039419b039cab.jpg  \n",
            "  inflating: yolov7Data/valid/images/Screenshot-145-_png.rf.20f48b95f65864f328aa9bebc62d1f9c.jpg  \n",
            "  inflating: __MACOSX/yolov7Data/valid/images/._Screenshot-145-_png.rf.20f48b95f65864f328aa9bebc62d1f9c.jpg  \n",
            "  inflating: yolov7Data/valid/images/Screenshot-80-_png.rf.72221412885fb0846cdfc88bfcffda84.jpg  \n",
            "  inflating: __MACOSX/yolov7Data/valid/images/._Screenshot-80-_png.rf.72221412885fb0846cdfc88bfcffda84.jpg  \n",
            "  inflating: yolov7Data/valid/images/Image_21_jpg.rf.934c6695bc55a7491b495a7c4fd3f501.jpg  \n",
            "  inflating: __MACOSX/yolov7Data/valid/images/._Image_21_jpg.rf.934c6695bc55a7491b495a7c4fd3f501.jpg  \n",
            "  inflating: yolov7Data/valid/images/Screenshot-180-_png.rf.ab27d582c03b12efb386e2be576245ee.jpg  \n",
            "  inflating: __MACOSX/yolov7Data/valid/images/._Screenshot-180-_png.rf.ab27d582c03b12efb386e2be576245ee.jpg  \n",
            "  inflating: yolov7Data/valid/images/Image_1_jpg.rf.868a260fb2a862140f550f665d8312a4.jpg  \n",
            "  inflating: __MACOSX/yolov7Data/valid/images/._Image_1_jpg.rf.868a260fb2a862140f550f665d8312a4.jpg  \n",
            "  inflating: yolov7Data/valid/images/Image_13_jpg.rf.da2aa05454354d8a4485bc2a0d40217d.jpg  \n",
            "  inflating: __MACOSX/yolov7Data/valid/images/._Image_13_jpg.rf.da2aa05454354d8a4485bc2a0d40217d.jpg  \n",
            "  inflating: yolov7Data/valid/images/Image_22_jpg.rf.982597470cfb9e2f425f1cdc5f7e1403.jpg  \n",
            "  inflating: __MACOSX/yolov7Data/valid/images/._Image_22_jpg.rf.982597470cfb9e2f425f1cdc5f7e1403.jpg  \n",
            "  inflating: yolov7Data/valid/images/Screenshot-116-_png.rf.929f42168d6f1ca549563f0476e70cc4.jpg  \n",
            "  inflating: __MACOSX/yolov7Data/valid/images/._Screenshot-116-_png.rf.929f42168d6f1ca549563f0476e70cc4.jpg  \n",
            "  inflating: yolov7Data/valid/labels/Screenshot-206-_png.rf.56310ecca96ca2917c02f43a00928b4c.txt  \n",
            "  inflating: __MACOSX/yolov7Data/valid/labels/._Screenshot-206-_png.rf.56310ecca96ca2917c02f43a00928b4c.txt  \n",
            "  inflating: yolov7Data/valid/labels/Screenshot-399-_png.rf.938c60c38e4f09cdde9a5de1b3324b46.txt  \n",
            "  inflating: __MACOSX/yolov7Data/valid/labels/._Screenshot-399-_png.rf.938c60c38e4f09cdde9a5de1b3324b46.txt  \n",
            "  inflating: yolov7Data/valid/labels/Screenshot-224-_png.rf.592410d56c19688ab6597d61fd326fd2.txt  \n",
            "  inflating: __MACOSX/yolov7Data/valid/labels/._Screenshot-224-_png.rf.592410d56c19688ab6597d61fd326fd2.txt  \n",
            "  inflating: yolov7Data/valid/labels/Image_23_jpg.rf.ddc68bb784db47b15ff0b00b54830325.txt  \n",
            "  inflating: __MACOSX/yolov7Data/valid/labels/._Image_23_jpg.rf.ddc68bb784db47b15ff0b00b54830325.txt  \n",
            "  inflating: yolov7Data/valid/labels/Screenshot-64-_png.rf.91b5fb6d91d319c508f68cb9009bbaf9.txt  \n",
            "  inflating: __MACOSX/yolov7Data/valid/labels/._Screenshot-64-_png.rf.91b5fb6d91d319c508f68cb9009bbaf9.txt  \n",
            "  inflating: yolov7Data/valid/labels/Image_144_jpg.rf.a28f9649028b47106ad7fdebf1616150.txt  \n",
            "  inflating: __MACOSX/yolov7Data/valid/labels/._Image_144_jpg.rf.a28f9649028b47106ad7fdebf1616150.txt  \n",
            "  inflating: yolov7Data/valid/labels/Screenshot-92-_png.rf.f87ba28d9d5fea1d71d8279f681b6549.txt  \n",
            "  inflating: __MACOSX/yolov7Data/valid/labels/._Screenshot-92-_png.rf.f87ba28d9d5fea1d71d8279f681b6549.txt  \n",
            "  inflating: yolov7Data/valid/labels/Screenshot-344-_png.rf.fec4a223f6034557cf7b870c1f7aa02c.txt  \n",
            "  inflating: __MACOSX/yolov7Data/valid/labels/._Screenshot-344-_png.rf.fec4a223f6034557cf7b870c1f7aa02c.txt  \n",
            "  inflating: yolov7Data/valid/labels/Screenshot-62-_png.rf.8473c3cf1d9145843f1af796fa5d0484.txt  \n",
            "  inflating: __MACOSX/yolov7Data/valid/labels/._Screenshot-62-_png.rf.8473c3cf1d9145843f1af796fa5d0484.txt  \n",
            "  inflating: yolov7Data/valid/labels/Screenshot-95-_png.rf.433d23843838a91737f10fef946c8879.txt  \n",
            "  inflating: __MACOSX/yolov7Data/valid/labels/._Screenshot-95-_png.rf.433d23843838a91737f10fef946c8879.txt  \n",
            "  inflating: yolov7Data/valid/labels/Screenshot-380-_png.rf.e94c473d0135d7c1207df7f7e2bb45ea.txt  \n",
            "  inflating: __MACOSX/yolov7Data/valid/labels/._Screenshot-380-_png.rf.e94c473d0135d7c1207df7f7e2bb45ea.txt  \n",
            "  inflating: yolov7Data/valid/labels/Screenshot-360-_png.rf.1763a2a88bc8d7cf0e4b6fedd69f0eec.txt  \n",
            "  inflating: __MACOSX/yolov7Data/valid/labels/._Screenshot-360-_png.rf.1763a2a88bc8d7cf0e4b6fedd69f0eec.txt  \n",
            "  inflating: yolov7Data/valid/labels/Screenshot-160-_png.rf.b2f3819db9a6adfe26685f141bcdf17e.txt  \n",
            "  inflating: __MACOSX/yolov7Data/valid/labels/._Screenshot-160-_png.rf.b2f3819db9a6adfe26685f141bcdf17e.txt  \n",
            "  inflating: yolov7Data/valid/labels/Screenshot-218-_png.rf.d8a7ace3fba953a8672b4cdb2ee8a078.txt  \n",
            "  inflating: __MACOSX/yolov7Data/valid/labels/._Screenshot-218-_png.rf.d8a7ace3fba953a8672b4cdb2ee8a078.txt  \n",
            "  inflating: yolov7Data/valid/labels/Screenshot-61-_png.rf.042dc85ad127696cbfba798bf7a20317.txt  \n",
            "  inflating: __MACOSX/yolov7Data/valid/labels/._Screenshot-61-_png.rf.042dc85ad127696cbfba798bf7a20317.txt  \n",
            "  inflating: yolov7Data/valid/labels/Screenshot-397-_png.rf.8210472e37e87d86d5f0d6ceb88ebb99.txt  \n",
            "  inflating: __MACOSX/yolov7Data/valid/labels/._Screenshot-397-_png.rf.8210472e37e87d86d5f0d6ceb88ebb99.txt  \n",
            "  inflating: yolov7Data/valid/labels/Screenshot-99-_png.rf.579897c49fcc571d12048b098f480896.txt  \n",
            "  inflating: __MACOSX/yolov7Data/valid/labels/._Screenshot-99-_png.rf.579897c49fcc571d12048b098f480896.txt  \n",
            "  inflating: yolov7Data/valid/labels/Screenshot-87-_png.rf.1c8e86ea32cd64a214f722db448d0e23.txt  \n",
            "  inflating: __MACOSX/yolov7Data/valid/labels/._Screenshot-87-_png.rf.1c8e86ea32cd64a214f722db448d0e23.txt  \n",
            "  inflating: yolov7Data/valid/labels/Screenshot-386-_png.rf.1264a27a6111b52bf5828bde4e015e91.txt  \n",
            "  inflating: __MACOSX/yolov7Data/valid/labels/._Screenshot-386-_png.rf.1264a27a6111b52bf5828bde4e015e91.txt  \n",
            "  inflating: yolov7Data/valid/labels/Screenshot-415-_png.rf.a3518e9741faf5c721677aaf127644a1.txt  \n",
            "  inflating: __MACOSX/yolov7Data/valid/labels/._Screenshot-415-_png.rf.a3518e9741faf5c721677aaf127644a1.txt  \n",
            "  inflating: yolov7Data/valid/labels/Screenshot-270-_png.rf.b989a43b84f8638dd2976dd39d939f88.txt  \n",
            "  inflating: __MACOSX/yolov7Data/valid/labels/._Screenshot-270-_png.rf.b989a43b84f8638dd2976dd39d939f88.txt  \n",
            "  inflating: yolov7Data/valid/labels/Screenshot-86-_png.rf.c46f7fef31f70c2193c70806917ea07f.txt  \n",
            "  inflating: __MACOSX/yolov7Data/valid/labels/._Screenshot-86-_png.rf.c46f7fef31f70c2193c70806917ea07f.txt  \n",
            "  inflating: yolov7Data/valid/labels/Image_8_jpg.rf.63eac2e807ddba4ec28ee2dfeb064c21.txt  \n",
            "  inflating: __MACOSX/yolov7Data/valid/labels/._Image_8_jpg.rf.63eac2e807ddba4ec28ee2dfeb064c21.txt  \n",
            "  inflating: yolov7Data/valid/labels/Screenshot-297-_png.rf.bd33d930a059b9e500f8a4d1d900cfd9.txt  \n",
            "  inflating: __MACOSX/yolov7Data/valid/labels/._Screenshot-297-_png.rf.bd33d930a059b9e500f8a4d1d900cfd9.txt  \n",
            "  inflating: yolov7Data/valid/labels/Screenshot-72-_png.rf.8e40f02207e720aebf7dab3927257f44.txt  \n",
            "  inflating: __MACOSX/yolov7Data/valid/labels/._Screenshot-72-_png.rf.8e40f02207e720aebf7dab3927257f44.txt  \n",
            "  inflating: yolov7Data/valid/labels/Image_26_jpg.rf.eef4704ed7c7fd524467c5e2b52b6c13.txt  \n",
            "  inflating: __MACOSX/yolov7Data/valid/labels/._Image_26_jpg.rf.eef4704ed7c7fd524467c5e2b52b6c13.txt  \n",
            "  inflating: yolov7Data/valid/labels/Image_105_jpg.rf.6bf0dd13a7435620e04a59928be95ab0.txt  \n",
            "  inflating: __MACOSX/yolov7Data/valid/labels/._Image_105_jpg.rf.6bf0dd13a7435620e04a59928be95ab0.txt  \n",
            "  inflating: yolov7Data/valid/labels/Screenshot-37-_png.rf.aad59335eedb385257749d8fd227c2bf.txt  \n",
            "  inflating: __MACOSX/yolov7Data/valid/labels/._Screenshot-37-_png.rf.aad59335eedb385257749d8fd227c2bf.txt  \n",
            "  inflating: yolov7Data/valid/labels/Image_166_png.rf.b5c2f09dd185e24a1a2f686fc8c32290.txt  \n",
            "  inflating: __MACOSX/yolov7Data/valid/labels/._Image_166_png.rf.b5c2f09dd185e24a1a2f686fc8c32290.txt  \n",
            "  inflating: yolov7Data/valid/labels/Screenshot-452-_png.rf.2b3e3d507e0e9850bbda1dfb4c05c0eb.txt  \n",
            "  inflating: __MACOSX/yolov7Data/valid/labels/._Screenshot-452-_png.rf.2b3e3d507e0e9850bbda1dfb4c05c0eb.txt  \n",
            "  inflating: yolov7Data/valid/labels/Screenshot-418-_png.rf.9d3a64dc36cf743b5a7e096889769aed.txt  \n",
            "  inflating: __MACOSX/yolov7Data/valid/labels/._Screenshot-418-_png.rf.9d3a64dc36cf743b5a7e096889769aed.txt  \n",
            "  inflating: yolov7Data/valid/labels/Screenshot-55-_png.rf.883f10876542f589b34a557ebda24231.txt  \n",
            "  inflating: __MACOSX/yolov7Data/valid/labels/._Screenshot-55-_png.rf.883f10876542f589b34a557ebda24231.txt  \n",
            "  inflating: yolov7Data/valid/labels/Screenshot-120-_png.rf.e2e74c5a30e3e8283eafc9b91fb37c8f.txt  \n",
            "  inflating: __MACOSX/yolov7Data/valid/labels/._Screenshot-120-_png.rf.e2e74c5a30e3e8283eafc9b91fb37c8f.txt  \n",
            "  inflating: yolov7Data/valid/labels/Image_4_jpg.rf.84aea185d80f70d00912ff8264f8f5b4.txt  \n",
            "  inflating: __MACOSX/yolov7Data/valid/labels/._Image_4_jpg.rf.84aea185d80f70d00912ff8264f8f5b4.txt  \n",
            "  inflating: yolov7Data/valid/labels/Screenshot-375-_png.rf.5597eba13a50f22863e5b9c46a6e405a.txt  \n",
            "  inflating: __MACOSX/yolov7Data/valid/labels/._Screenshot-375-_png.rf.5597eba13a50f22863e5b9c46a6e405a.txt  \n",
            "  inflating: yolov7Data/valid/labels/Screenshot-334-_png.rf.f1646bc8694e47abfdd275f48d23195d.txt  \n",
            "  inflating: __MACOSX/yolov7Data/valid/labels/._Screenshot-334-_png.rf.f1646bc8694e47abfdd275f48d23195d.txt  \n",
            "  inflating: yolov7Data/valid/labels/Screenshot-256-_png.rf.776873769b0bfc3a617f3eefcecb4a3d.txt  \n",
            "  inflating: __MACOSX/yolov7Data/valid/labels/._Screenshot-256-_png.rf.776873769b0bfc3a617f3eefcecb4a3d.txt  \n",
            "  inflating: yolov7Data/valid/labels/Screenshot-279-_png.rf.68dba0513f54c1d597a57b35dead4adf.txt  \n",
            "  inflating: __MACOSX/yolov7Data/valid/labels/._Screenshot-279-_png.rf.68dba0513f54c1d597a57b35dead4adf.txt  \n",
            "  inflating: yolov7Data/valid/labels/Screenshot-178-_png.rf.899c167b0ba5f3d11d46a8d93f4812a9.txt  \n",
            "  inflating: __MACOSX/yolov7Data/valid/labels/._Screenshot-178-_png.rf.899c167b0ba5f3d11d46a8d93f4812a9.txt  \n",
            "  inflating: yolov7Data/valid/labels/Screenshot-124-_png.rf.8692ffc18716091f55b0ec8f20e83260.txt  \n",
            "  inflating: __MACOSX/yolov7Data/valid/labels/._Screenshot-124-_png.rf.8692ffc18716091f55b0ec8f20e83260.txt  \n",
            "  inflating: yolov7Data/valid/labels/Screenshot-245-_png.rf.d1bfae80bab7ccc7d09b55d5ebb2c14c.txt  \n",
            "  inflating: __MACOSX/yolov7Data/valid/labels/._Screenshot-245-_png.rf.d1bfae80bab7ccc7d09b55d5ebb2c14c.txt  \n",
            "  inflating: yolov7Data/valid/labels/Screenshot-455-_png.rf.cd03313407e4911aee766a67a29e545a.txt  \n",
            "  inflating: __MACOSX/yolov7Data/valid/labels/._Screenshot-455-_png.rf.cd03313407e4911aee766a67a29e545a.txt  \n",
            "  inflating: yolov7Data/valid/labels/Screenshot-238-_png.rf.2becd84c244c4a9c1b1c95bdaf41b44c.txt  \n",
            "  inflating: __MACOSX/yolov7Data/valid/labels/._Screenshot-238-_png.rf.2becd84c244c4a9c1b1c95bdaf41b44c.txt  \n",
            "  inflating: yolov7Data/valid/labels/Screenshot-232-_png.rf.f0185d6045b7399dccd694e27ed4b152.txt  \n",
            "  inflating: __MACOSX/yolov7Data/valid/labels/._Screenshot-232-_png.rf.f0185d6045b7399dccd694e27ed4b152.txt  \n",
            "  inflating: yolov7Data/valid/labels/Image_69_jpg.rf.295c8686947e85b2036e5df87dd61b00.txt  \n",
            "  inflating: __MACOSX/yolov7Data/valid/labels/._Image_69_jpg.rf.295c8686947e85b2036e5df87dd61b00.txt  \n",
            "  inflating: yolov7Data/valid/labels/Screenshot-403-_png.rf.503ac313e9a461a8e4c59fc4952d7f2f.txt  \n",
            "  inflating: __MACOSX/yolov7Data/valid/labels/._Screenshot-403-_png.rf.503ac313e9a461a8e4c59fc4952d7f2f.txt  \n",
            "  inflating: yolov7Data/valid/labels/Screenshot-136-_png.rf.73fe04b62bf65cbd826963f9dcb2b8c7.txt  \n",
            "  inflating: __MACOSX/yolov7Data/valid/labels/._Screenshot-136-_png.rf.73fe04b62bf65cbd826963f9dcb2b8c7.txt  \n",
            "  inflating: yolov7Data/valid/labels/Screenshot-353-_png.rf.fd4f7a51491cbb5e94bccadc3338edc8.txt  \n",
            "  inflating: __MACOSX/yolov7Data/valid/labels/._Screenshot-353-_png.rf.fd4f7a51491cbb5e94bccadc3338edc8.txt  \n",
            "  inflating: yolov7Data/valid/labels/Image_30_jpg.rf.2672f2c597ae76d61469e402efe844ae.txt  \n",
            "  inflating: __MACOSX/yolov7Data/valid/labels/._Image_30_jpg.rf.2672f2c597ae76d61469e402efe844ae.txt  \n",
            "  inflating: yolov7Data/valid/labels/Screenshot-379-_png.rf.bfe15359840cdb2834e0124dd09112ac.txt  \n",
            "  inflating: __MACOSX/yolov7Data/valid/labels/._Screenshot-379-_png.rf.bfe15359840cdb2834e0124dd09112ac.txt  \n",
            "  inflating: yolov7Data/valid/labels/Screenshot-294-_png.rf.e9b29506a8965046d8603393c1adede3.txt  \n",
            "  inflating: __MACOSX/yolov7Data/valid/labels/._Screenshot-294-_png.rf.e9b29506a8965046d8603393c1adede3.txt  \n",
            "  inflating: yolov7Data/valid/labels/Screenshot-76-_png.rf.9f4dd94c99eca8f75512732286de8fa7.txt  \n",
            "  inflating: __MACOSX/yolov7Data/valid/labels/._Screenshot-76-_png.rf.9f4dd94c99eca8f75512732286de8fa7.txt  \n",
            "  inflating: yolov7Data/valid/labels/Screenshot-254-_png.rf.2a3284d7ae3d0c63abf09251d8acbf5f.txt  \n",
            "  inflating: __MACOSX/yolov7Data/valid/labels/._Screenshot-254-_png.rf.2a3284d7ae3d0c63abf09251d8acbf5f.txt  \n",
            "  inflating: yolov7Data/valid/labels/Screenshot-264-_png.rf.cdd341cc7b206a0072678ae4113ef2b7.txt  \n",
            "  inflating: __MACOSX/yolov7Data/valid/labels/._Screenshot-264-_png.rf.cdd341cc7b206a0072678ae4113ef2b7.txt  \n",
            "  inflating: yolov7Data/valid/labels/Screenshot-145-_png.rf.20f48b95f65864f328aa9bebc62d1f9c.txt  \n",
            "  inflating: __MACOSX/yolov7Data/valid/labels/._Screenshot-145-_png.rf.20f48b95f65864f328aa9bebc62d1f9c.txt  \n",
            "  inflating: yolov7Data/valid/labels/Image_32_jpg.rf.fd9e2033cd4b60b7c5c039419b039cab.txt  \n",
            "  inflating: __MACOSX/yolov7Data/valid/labels/._Image_32_jpg.rf.fd9e2033cd4b60b7c5c039419b039cab.txt  \n",
            "  inflating: yolov7Data/valid/labels/Screenshot-389-_png.rf.97057e9bd8735a89367594ad3a36e19e.txt  \n",
            "  inflating: __MACOSX/yolov7Data/valid/labels/._Screenshot-389-_png.rf.97057e9bd8735a89367594ad3a36e19e.txt  \n",
            "  inflating: yolov7Data/valid/labels/Screenshot-319-_png.rf.b8014cc9d1a2affdc62c10aba482633f.txt  \n",
            "  inflating: __MACOSX/yolov7Data/valid/labels/._Screenshot-319-_png.rf.b8014cc9d1a2affdc62c10aba482633f.txt  \n",
            "  inflating: yolov7Data/valid/labels/Screenshot-154-_png.rf.0b27a25cc8da30db1252ea099c4c6d4e.txt  \n",
            "  inflating: __MACOSX/yolov7Data/valid/labels/._Screenshot-154-_png.rf.0b27a25cc8da30db1252ea099c4c6d4e.txt  \n",
            "  inflating: yolov7Data/valid/labels/Screenshot-130-_png.rf.295f0aa4e5d73d37a20998946f762696.txt  \n",
            "  inflating: __MACOSX/yolov7Data/valid/labels/._Screenshot-130-_png.rf.295f0aa4e5d73d37a20998946f762696.txt  \n",
            "  inflating: yolov7Data/valid/labels/Image_1_jpg.rf.868a260fb2a862140f550f665d8312a4.txt  \n",
            "  inflating: __MACOSX/yolov7Data/valid/labels/._Image_1_jpg.rf.868a260fb2a862140f550f665d8312a4.txt  \n",
            "  inflating: yolov7Data/valid/labels/Screenshot-116-_png.rf.929f42168d6f1ca549563f0476e70cc4.txt  \n",
            "  inflating: __MACOSX/yolov7Data/valid/labels/._Screenshot-116-_png.rf.929f42168d6f1ca549563f0476e70cc4.txt  \n",
            "  inflating: yolov7Data/valid/labels/Image_13_jpg.rf.da2aa05454354d8a4485bc2a0d40217d.txt  \n",
            "  inflating: __MACOSX/yolov7Data/valid/labels/._Image_13_jpg.rf.da2aa05454354d8a4485bc2a0d40217d.txt  \n",
            "  inflating: yolov7Data/valid/labels/Image_22_jpg.rf.982597470cfb9e2f425f1cdc5f7e1403.txt  \n",
            "  inflating: __MACOSX/yolov7Data/valid/labels/._Image_22_jpg.rf.982597470cfb9e2f425f1cdc5f7e1403.txt  \n",
            "  inflating: yolov7Data/valid/labels/Screenshot-180-_png.rf.ab27d582c03b12efb386e2be576245ee.txt  \n",
            "  inflating: __MACOSX/yolov7Data/valid/labels/._Screenshot-180-_png.rf.ab27d582c03b12efb386e2be576245ee.txt  \n",
            "  inflating: yolov7Data/valid/labels/Image_21_jpg.rf.934c6695bc55a7491b495a7c4fd3f501.txt  \n",
            "  inflating: __MACOSX/yolov7Data/valid/labels/._Image_21_jpg.rf.934c6695bc55a7491b495a7c4fd3f501.txt  \n",
            "  inflating: yolov7Data/valid/labels/Screenshot-80-_png.rf.72221412885fb0846cdfc88bfcffda84.txt  \n",
            "  inflating: __MACOSX/yolov7Data/valid/labels/._Screenshot-80-_png.rf.72221412885fb0846cdfc88bfcffda84.txt  \n",
            "  inflating: yolov7Data/valid/labels/Screenshot-189-_png.rf.71022070d4236f6c603e9c81abaabdf5.txt  \n",
            "  inflating: __MACOSX/yolov7Data/valid/labels/._Screenshot-189-_png.rf.71022070d4236f6c603e9c81abaabdf5.txt  \n",
            "  inflating: yolov7Data/valid/labels/Image_6_jpg.rf.1d1ee42b6a353eecb50abf9879ea46ef.txt  \n",
            "  inflating: __MACOSX/yolov7Data/valid/labels/._Image_6_jpg.rf.1d1ee42b6a353eecb50abf9879ea46ef.txt  \n",
            "  inflating: yolov7Data/valid/labels/Screenshot-274-_png.rf.54854a88236931c82b34cf114ee4a60d.txt  \n",
            "  inflating: __MACOSX/yolov7Data/valid/labels/._Screenshot-274-_png.rf.54854a88236931c82b34cf114ee4a60d.txt  \n",
            "  inflating: yolov7Data/valid/labels/Screenshot-458-_png.rf.21d33c361d59ec78462be6ad224c7cc3.txt  \n",
            "  inflating: __MACOSX/yolov7Data/valid/labels/._Screenshot-458-_png.rf.21d33c361d59ec78462be6ad224c7cc3.txt  \n",
            "  inflating: yolov7Data/valid/labels/Screenshot-442-_png.rf.1eb84a2f34457e34a7b47f46f0986263.txt  \n",
            "  inflating: __MACOSX/yolov7Data/valid/labels/._Screenshot-442-_png.rf.1eb84a2f34457e34a7b47f46f0986263.txt  \n",
            "  inflating: yolov7Data/valid/labels/Screenshot-14-_png.rf.c30fad6170168ab589be33e9b2048a7d.txt  \n",
            "  inflating: __MACOSX/yolov7Data/valid/labels/._Screenshot-14-_png.rf.c30fad6170168ab589be33e9b2048a7d.txt  \n",
            "  inflating: yolov7Data/valid/labels/Screenshot-361-_png.rf.fddd2386698268bac3a463a1c33896d5.txt  \n",
            "  inflating: __MACOSX/yolov7Data/valid/labels/._Screenshot-361-_png.rf.fddd2386698268bac3a463a1c33896d5.txt  \n",
            "  inflating: yolov7Data/valid/labels/Screenshot-225-_png.rf.d0442f2dae4805ffe286aae805344770.txt  \n",
            "  inflating: __MACOSX/yolov7Data/valid/labels/._Screenshot-225-_png.rf.d0442f2dae4805ffe286aae805344770.txt  \n",
            "  inflating: yolov7Data/valid/labels/Screenshot-17-_png.rf.40c3bb08abdde4864a84eb0a0bfcf8c9.txt  \n",
            "  inflating: __MACOSX/yolov7Data/valid/labels/._Screenshot-17-_png.rf.40c3bb08abdde4864a84eb0a0bfcf8c9.txt  \n",
            "  inflating: yolov7Data/valid/labels/Screenshot-355-_png.rf.7d2396fdfebfc9fffd01a2311bcd8513.txt  \n",
            "  inflating: __MACOSX/yolov7Data/valid/labels/._Screenshot-355-_png.rf.7d2396fdfebfc9fffd01a2311bcd8513.txt  \n",
            "  inflating: yolov7Data/valid/labels/Screenshot-127-_png.rf.e3cb841cff6dbae8d4efb72acf1443cb.txt  \n",
            "  inflating: __MACOSX/yolov7Data/valid/labels/._Screenshot-127-_png.rf.e3cb841cff6dbae8d4efb72acf1443cb.txt  \n",
            "  inflating: yolov7Data/valid/labels/Image_101_jpg.rf.4c4e508d477e2d9f97ef3785757f11ed.txt  \n",
            "  inflating: __MACOSX/yolov7Data/valid/labels/._Image_101_jpg.rf.4c4e508d477e2d9f97ef3785757f11ed.txt  \n",
            "  inflating: yolov7Data/valid/labels/Screenshot-158-_png.rf.725ec1c8a55c83cc43fdd9f7b06f7b54.txt  \n",
            "  inflating: __MACOSX/yolov7Data/valid/labels/._Screenshot-158-_png.rf.725ec1c8a55c83cc43fdd9f7b06f7b54.txt  \n",
            "  inflating: yolov7Data/valid/labels/Screenshot-287-_png.rf.8bae231f292daddce16a3058d96b3ee0.txt  \n",
            "  inflating: __MACOSX/yolov7Data/valid/labels/._Screenshot-287-_png.rf.8bae231f292daddce16a3058d96b3ee0.txt  \n",
            "  inflating: yolov7Data/valid/labels/Screenshot-262-_png.rf.c75e97586498adb5f9c815f8853c056e.txt  \n",
            "  inflating: __MACOSX/yolov7Data/valid/labels/._Screenshot-262-_png.rf.c75e97586498adb5f9c815f8853c056e.txt  \n",
            "  inflating: yolov7Data/valid/labels/Screenshot-424-_png.rf.28e9ce439a90e1f31deb57ccc9d81efd.txt  \n",
            "  inflating: __MACOSX/yolov7Data/valid/labels/._Screenshot-424-_png.rf.28e9ce439a90e1f31deb57ccc9d81efd.txt  \n",
            "  inflating: yolov7Data/valid/labels/Screenshot-150-_png.rf.2b813cda3209692669289e5dcd264936.txt  \n",
            "  inflating: __MACOSX/yolov7Data/valid/labels/._Screenshot-150-_png.rf.2b813cda3209692669289e5dcd264936.txt  \n",
            "  inflating: yolov7Data/valid/labels/Screenshot-311-_png.rf.cf534274feaec1b1b3b192379840ce8f.txt  \n",
            "  inflating: __MACOSX/yolov7Data/valid/labels/._Screenshot-311-_png.rf.cf534274feaec1b1b3b192379840ce8f.txt  \n",
            "  inflating: yolov7Data/valid/labels/Screenshot-174-_png.rf.4b5bed2b8f1c0b56767b123304215096.txt  \n",
            "  inflating: __MACOSX/yolov7Data/valid/labels/._Screenshot-174-_png.rf.4b5bed2b8f1c0b56767b123304215096.txt  \n",
            "  inflating: yolov7Data/valid/labels/Screenshot-119-_png.rf.b2bd8110cabf06b82e6b6f1cd39cc635.txt  \n",
            "  inflating: __MACOSX/yolov7Data/valid/labels/._Screenshot-119-_png.rf.b2bd8110cabf06b82e6b6f1cd39cc635.txt  \n",
            "  inflating: yolov7Data/valid/labels/Screenshot-101-_png.rf.fcf4b1980ba8fbfa922c84b3f8f96326.txt  \n",
            "  inflating: __MACOSX/yolov7Data/valid/labels/._Screenshot-101-_png.rf.fcf4b1980ba8fbfa922c84b3f8f96326.txt  \n",
            "  inflating: yolov7Data/valid/labels/Screenshot-440-_png.rf.fe06a2599f92c75095819a6019a5c12e.txt  \n",
            "  inflating: __MACOSX/yolov7Data/valid/labels/._Screenshot-440-_png.rf.fe06a2599f92c75095819a6019a5c12e.txt  \n",
            "  inflating: yolov7Data/valid/labels/Image_49_jpg.rf.268a123a6369631a7f99fc40a32b83a0.txt  \n",
            "  inflating: __MACOSX/yolov7Data/valid/labels/._Image_49_jpg.rf.268a123a6369631a7f99fc40a32b83a0.txt  \n",
            "  inflating: yolov7Data/valid/labels/Screenshot-93-_png.rf.5fbf99c067262a7d94671f9072a5b777.txt  \n",
            "  inflating: __MACOSX/yolov7Data/valid/labels/._Screenshot-93-_png.rf.5fbf99c067262a7d94671f9072a5b777.txt  \n",
            "  inflating: yolov7Data/test/images/Screenshot-338-_png.rf.b327fd2a49647154c778d8de682958b3.jpg  \n",
            "  inflating: __MACOSX/yolov7Data/test/images/._Screenshot-338-_png.rf.b327fd2a49647154c778d8de682958b3.jpg  \n",
            "  inflating: yolov7Data/test/images/Screenshot-84-_png.rf.3ecdedba5f8f9f40c852386c6ac481a3.jpg  \n",
            "  inflating: __MACOSX/yolov7Data/test/images/._Screenshot-84-_png.rf.3ecdedba5f8f9f40c852386c6ac481a3.jpg  \n",
            "  inflating: yolov7Data/test/images/Image_48_jpg.rf.ade12d051fa363e2fc8a2c362ff76992.jpg  \n",
            "  inflating: __MACOSX/yolov7Data/test/images/._Image_48_jpg.rf.ade12d051fa363e2fc8a2c362ff76992.jpg  \n",
            "  inflating: yolov7Data/test/images/Screenshot-140-_png.rf.a6d7cf9b01cd08d21c9169fbee444783.jpg  \n",
            "  inflating: __MACOSX/yolov7Data/test/images/._Screenshot-140-_png.rf.a6d7cf9b01cd08d21c9169fbee444783.jpg  \n",
            "  inflating: yolov7Data/test/images/Screenshot-231-_png.rf.9f5b2dbddf5a326e5bd14364cd94c52f.jpg  \n",
            "  inflating: __MACOSX/yolov7Data/test/images/._Screenshot-231-_png.rf.9f5b2dbddf5a326e5bd14364cd94c52f.jpg  \n",
            "  inflating: yolov7Data/test/images/Screenshot-129-_png.rf.ae653c4fb8fc440abe0d7276f2b4cdfb.jpg  \n",
            "  inflating: __MACOSX/yolov7Data/test/images/._Screenshot-129-_png.rf.ae653c4fb8fc440abe0d7276f2b4cdfb.jpg  \n",
            "  inflating: yolov7Data/test/images/Screenshot-257-_png.rf.490a2ae0fd90c08e150412a0b080c8bf.jpg  \n",
            "  inflating: __MACOSX/yolov7Data/test/images/._Screenshot-257-_png.rf.490a2ae0fd90c08e150412a0b080c8bf.jpg  \n",
            "  inflating: yolov7Data/test/images/Screenshot-401-_png.rf.6b9f67405a4b7b0b10293993ee80ba2c.jpg  \n",
            "  inflating: __MACOSX/yolov7Data/test/images/._Screenshot-401-_png.rf.6b9f67405a4b7b0b10293993ee80ba2c.jpg  \n",
            "  inflating: yolov7Data/test/images/Screenshot-196-_png.rf.1db78930ccac0e9e5a1470db40b343ee.jpg  \n",
            "  inflating: __MACOSX/yolov7Data/test/images/._Screenshot-196-_png.rf.1db78930ccac0e9e5a1470db40b343ee.jpg  \n",
            "  inflating: yolov7Data/test/images/Screenshot-409-_png.rf.289535fc1c5817989e828d396f22e9ae.jpg  \n",
            "  inflating: __MACOSX/yolov7Data/test/images/._Screenshot-409-_png.rf.289535fc1c5817989e828d396f22e9ae.jpg  \n",
            "  inflating: yolov7Data/test/images/Screenshot-271-_png.rf.62aafa624b1718e4282a80e7081d54b2.jpg  \n",
            "  inflating: __MACOSX/yolov7Data/test/images/._Screenshot-271-_png.rf.62aafa624b1718e4282a80e7081d54b2.jpg  \n",
            "  inflating: yolov7Data/test/images/Screenshot-207-_png.rf.4de5f3ffa3cb98689fda3ac2a41bb7ab.jpg  \n",
            "  inflating: __MACOSX/yolov7Data/test/images/._Screenshot-207-_png.rf.4de5f3ffa3cb98689fda3ac2a41bb7ab.jpg  \n",
            "  inflating: yolov7Data/test/images/Screenshot-52-_png.rf.a897026179c779b698386a81ab4af33b.jpg  \n",
            "  inflating: __MACOSX/yolov7Data/test/images/._Screenshot-52-_png.rf.a897026179c779b698386a81ab4af33b.jpg  \n",
            "  inflating: yolov7Data/test/images/Image_42_jpg.rf.6ccbe5879c2cf275763f0c5e6dcdd971.jpg  \n",
            "  inflating: __MACOSX/yolov7Data/test/images/._Image_42_jpg.rf.6ccbe5879c2cf275763f0c5e6dcdd971.jpg  \n",
            "  inflating: yolov7Data/test/images/Image_2_jpg.rf.8e625e2183c2022a2623960c425b2528.jpg  \n",
            "  inflating: __MACOSX/yolov7Data/test/images/._Image_2_jpg.rf.8e625e2183c2022a2623960c425b2528.jpg  \n",
            "  inflating: yolov7Data/test/images/Screenshot-241-_png.rf.66913b3953b2e22495622efa182fdaf3.jpg  \n",
            "  inflating: __MACOSX/yolov7Data/test/images/._Screenshot-241-_png.rf.66913b3953b2e22495622efa182fdaf3.jpg  \n",
            "  inflating: yolov7Data/test/images/Screenshot-28-_png.rf.4dbb85ccddcef72e9664585edd659580.jpg  \n",
            "  inflating: __MACOSX/yolov7Data/test/images/._Screenshot-28-_png.rf.4dbb85ccddcef72e9664585edd659580.jpg  \n",
            "  inflating: yolov7Data/test/images/Screenshot-243-_png.rf.e92a3f0319006b5b2a0cce8d8c508ae9.jpg  \n",
            "  inflating: __MACOSX/yolov7Data/test/images/._Screenshot-243-_png.rf.e92a3f0319006b5b2a0cce8d8c508ae9.jpg  \n",
            "  inflating: yolov7Data/test/images/Screenshot-302-_png.rf.1d53be68a77ed7fbfaf563f9bd347ffd.jpg  \n",
            "  inflating: __MACOSX/yolov7Data/test/images/._Screenshot-302-_png.rf.1d53be68a77ed7fbfaf563f9bd347ffd.jpg  \n",
            "  inflating: yolov7Data/test/images/Screenshot-347-_png.rf.faad1dd386c11c3285fe6c0a33c6c377.jpg  \n",
            "  inflating: __MACOSX/yolov7Data/test/images/._Screenshot-347-_png.rf.faad1dd386c11c3285fe6c0a33c6c377.jpg  \n",
            "  inflating: yolov7Data/test/images/Screenshot-172-_png.rf.92374f5e4f8d1b3a77a64ca302be9ba7.jpg  \n",
            "  inflating: __MACOSX/yolov7Data/test/images/._Screenshot-172-_png.rf.92374f5e4f8d1b3a77a64ca302be9ba7.jpg  \n",
            "  inflating: yolov7Data/test/images/Screenshot-323-_png.rf.f3ab5731d989c6489fea1f778fa6e88f.jpg  \n",
            "  inflating: __MACOSX/yolov7Data/test/images/._Screenshot-323-_png.rf.f3ab5731d989c6489fea1f778fa6e88f.jpg  \n",
            "  inflating: yolov7Data/test/images/Screenshot-383-_png.rf.b6591bf96d2d2a0cde50e90a16183198.jpg  \n",
            "  inflating: __MACOSX/yolov7Data/test/images/._Screenshot-383-_png.rf.b6591bf96d2d2a0cde50e90a16183198.jpg  \n",
            "  inflating: yolov7Data/test/images/Screenshot-295-_png.rf.9edb0bb66c5746251ac8f640a0ba2760.jpg  \n",
            "  inflating: __MACOSX/yolov7Data/test/images/._Screenshot-295-_png.rf.9edb0bb66c5746251ac8f640a0ba2760.jpg  \n",
            "  inflating: yolov7Data/test/images/Screenshot-354-_png.rf.97f96d539d8b9f76566c883c5d734664.jpg  \n",
            "  inflating: __MACOSX/yolov7Data/test/images/._Screenshot-354-_png.rf.97f96d539d8b9f76566c883c5d734664.jpg  \n",
            "  inflating: yolov7Data/test/images/Screenshot-421-_png.rf.6dcddcc92fdfc72b665114675b420473.jpg  \n",
            "  inflating: __MACOSX/yolov7Data/test/images/._Screenshot-421-_png.rf.6dcddcc92fdfc72b665114675b420473.jpg  \n",
            "  inflating: yolov7Data/test/images/Screenshot-161-_png.rf.84788f5d359119204498ea92d64ef813.jpg  \n",
            "  inflating: __MACOSX/yolov7Data/test/images/._Screenshot-161-_png.rf.84788f5d359119204498ea92d64ef813.jpg  \n",
            "  inflating: yolov7Data/test/images/Image_37_jpg.rf.df2dda7782c6481a462c5aa0cd41df92.jpg  \n",
            "  inflating: __MACOSX/yolov7Data/test/images/._Image_37_jpg.rf.df2dda7782c6481a462c5aa0cd41df92.jpg  \n",
            "  inflating: yolov7Data/test/images/Screenshot-460-_png.rf.2e128cc73d53544c6f6336b47a34d912.jpg  \n",
            "  inflating: __MACOSX/yolov7Data/test/images/._Screenshot-460-_png.rf.2e128cc73d53544c6f6336b47a34d912.jpg  \n",
            "  inflating: yolov7Data/test/images/Screenshot-192-_png.rf.c36701c64df099f656ad11fa911f221e.jpg  \n",
            "  inflating: __MACOSX/yolov7Data/test/images/._Screenshot-192-_png.rf.c36701c64df099f656ad11fa911f221e.jpg  \n",
            "  inflating: yolov7Data/test/images/Image_21_png.rf.279b07282f16e8cdf1f8ec7f079adf6e.jpg  \n",
            "  inflating: __MACOSX/yolov7Data/test/images/._Image_21_png.rf.279b07282f16e8cdf1f8ec7f079adf6e.jpg  \n",
            "  inflating: yolov7Data/test/images/Screenshot-396-_png.rf.5d5bdfbd37c652dbe16f1198ee17d2a4.jpg  \n",
            "  inflating: __MACOSX/yolov7Data/test/images/._Screenshot-396-_png.rf.5d5bdfbd37c652dbe16f1198ee17d2a4.jpg  \n",
            "  inflating: yolov7Data/test/images/Image_58_jpg.rf.c0a551b91e4edfde5ba08b5f5d1d2f1f.jpg  \n",
            "  inflating: __MACOSX/yolov7Data/test/images/._Image_58_jpg.rf.c0a551b91e4edfde5ba08b5f5d1d2f1f.jpg  \n",
            "  inflating: yolov7Data/test/images/Screenshot-109-_png.rf.fd1a6901d09767ceb109fc1584dadebd.jpg  \n",
            "  inflating: __MACOSX/yolov7Data/test/images/._Screenshot-109-_png.rf.fd1a6901d09767ceb109fc1584dadebd.jpg  \n",
            "  inflating: yolov7Data/test/images/Screenshot-461-_png.rf.4ac27ffd9e51cf12ff47daa0b58fb8a9.jpg  \n",
            "  inflating: __MACOSX/yolov7Data/test/images/._Screenshot-461-_png.rf.4ac27ffd9e51cf12ff47daa0b58fb8a9.jpg  \n",
            "  inflating: yolov7Data/test/images/Screenshot-320-_png.rf.9cc2e57782d36a17ada808e0ce61f7f0.jpg  \n",
            "  inflating: __MACOSX/yolov7Data/test/images/._Screenshot-320-_png.rf.9cc2e57782d36a17ada808e0ce61f7f0.jpg  \n",
            "  inflating: yolov7Data/test/images/Screenshot-107-_png.rf.1d88e752c7ddb6af736e72a54ed31379.jpg  \n",
            "  inflating: __MACOSX/yolov7Data/test/images/._Screenshot-107-_png.rf.1d88e752c7ddb6af736e72a54ed31379.jpg  \n",
            "  inflating: yolov7Data/test/images/Screenshot-445-_png.rf.595b0ab2517a0622b43dd8439e20eeb6.jpg  \n",
            "  inflating: __MACOSX/yolov7Data/test/images/._Screenshot-445-_png.rf.595b0ab2517a0622b43dd8439e20eeb6.jpg  \n",
            "  inflating: yolov7Data/test/images/Screenshot-103-_png.rf.31d1586aa9755056bf0fc3cb303f38fd.jpg  \n",
            "  inflating: __MACOSX/yolov7Data/test/images/._Screenshot-103-_png.rf.31d1586aa9755056bf0fc3cb303f38fd.jpg  \n",
            "  inflating: yolov7Data/test/images/Screenshot-60-_png.rf.beec98d5fc1e453f817c7090bf191aab.jpg  \n",
            "  inflating: __MACOSX/yolov7Data/test/images/._Screenshot-60-_png.rf.beec98d5fc1e453f817c7090bf191aab.jpg  \n",
            "  inflating: yolov7Data/test/images/Screenshot-67-_png.rf.9067493ecbd74a65ca71d9def8136452.jpg  \n",
            "  inflating: __MACOSX/yolov7Data/test/images/._Screenshot-67-_png.rf.9067493ecbd74a65ca71d9def8136452.jpg  \n",
            "  inflating: yolov7Data/test/images/Screenshot-363-_png.rf.3ca08c29012a467ec16723a352a106e1.jpg  \n",
            "  inflating: __MACOSX/yolov7Data/test/images/._Screenshot-363-_png.rf.3ca08c29012a467ec16723a352a106e1.jpg  \n",
            "  inflating: yolov7Data/test/images/Screenshot-308-_png.rf.3cc1d3dfc3b1c4fd78b6a20017d2ede1.jpg  \n",
            "  inflating: __MACOSX/yolov7Data/test/images/._Screenshot-308-_png.rf.3cc1d3dfc3b1c4fd78b6a20017d2ede1.jpg  \n",
            "  inflating: yolov7Data/test/images/Screenshot-416-_png.rf.c02bc3c7d3e62aeb40060d5ddbd27196.jpg  \n",
            "  inflating: __MACOSX/yolov7Data/test/images/._Screenshot-416-_png.rf.c02bc3c7d3e62aeb40060d5ddbd27196.jpg  \n",
            "  inflating: yolov7Data/test/images/Screenshot-249-_png.rf.b7079af09c2dda8dbd563644b8de517a.jpg  \n",
            "  inflating: __MACOSX/yolov7Data/test/images/._Screenshot-249-_png.rf.b7079af09c2dda8dbd563644b8de517a.jpg  \n",
            "  inflating: yolov7Data/test/images/Screenshot-54-_png.rf.58d63a5d9937fa30e41ad0823c864fca.jpg  \n",
            "  inflating: __MACOSX/yolov7Data/test/images/._Screenshot-54-_png.rf.58d63a5d9937fa30e41ad0823c864fca.jpg  \n",
            "  inflating: yolov7Data/test/images/Image_13_jpg.rf.721333e7a0e97c73f1f4c4ecc0bbd226.jpg  \n",
            "  inflating: __MACOSX/yolov7Data/test/images/._Image_13_jpg.rf.721333e7a0e97c73f1f4c4ecc0bbd226.jpg  \n",
            "  inflating: yolov7Data/test/images/Screenshot-417-_png.rf.507db5627ae88ac0ff48be76c28b39a9.jpg  \n",
            "  inflating: __MACOSX/yolov7Data/test/images/._Screenshot-417-_png.rf.507db5627ae88ac0ff48be76c28b39a9.jpg  \n",
            "  inflating: yolov7Data/test/images/Image_14_jpg.rf.c7490fcadea2e6693ac3bc90bedb9900.jpg  \n",
            "  inflating: __MACOSX/yolov7Data/test/images/._Image_14_jpg.rf.c7490fcadea2e6693ac3bc90bedb9900.jpg  \n",
            "  inflating: yolov7Data/test/images/Screenshot-283-_png.rf.2da21511384c450fc6611c68f3fd3a82.jpg  \n",
            "  inflating: __MACOSX/yolov7Data/test/images/._Screenshot-283-_png.rf.2da21511384c450fc6611c68f3fd3a82.jpg  \n",
            "  inflating: yolov7Data/test/images/Screenshot-157-_png.rf.078b94b80f58d58ea4f0308d7272b162.jpg  \n",
            "  inflating: __MACOSX/yolov7Data/test/images/._Screenshot-157-_png.rf.078b94b80f58d58ea4f0308d7272b162.jpg  \n",
            "  inflating: yolov7Data/test/images/Screenshot-382-_png.rf.1954d1ca4aa2eaa8f8ec443ef3940027.jpg  \n",
            "  inflating: __MACOSX/yolov7Data/test/images/._Screenshot-382-_png.rf.1954d1ca4aa2eaa8f8ec443ef3940027.jpg  \n",
            "  inflating: yolov7Data/test/labels/Screenshot-52-_png.rf.a897026179c779b698386a81ab4af33b.txt  \n",
            "  inflating: __MACOSX/yolov7Data/test/labels/._Screenshot-52-_png.rf.a897026179c779b698386a81ab4af33b.txt  \n",
            "  inflating: yolov7Data/test/labels/Screenshot-207-_png.rf.4de5f3ffa3cb98689fda3ac2a41bb7ab.txt  \n",
            "  inflating: __MACOSX/yolov7Data/test/labels/._Screenshot-207-_png.rf.4de5f3ffa3cb98689fda3ac2a41bb7ab.txt  \n",
            "  inflating: yolov7Data/test/labels/Image_42_jpg.rf.6ccbe5879c2cf275763f0c5e6dcdd971.txt  \n",
            "  inflating: __MACOSX/yolov7Data/test/labels/._Image_42_jpg.rf.6ccbe5879c2cf275763f0c5e6dcdd971.txt  \n",
            "  inflating: yolov7Data/test/labels/Screenshot-196-_png.rf.1db78930ccac0e9e5a1470db40b343ee.txt  \n",
            "  inflating: __MACOSX/yolov7Data/test/labels/._Screenshot-196-_png.rf.1db78930ccac0e9e5a1470db40b343ee.txt  \n",
            "  inflating: yolov7Data/test/labels/Screenshot-409-_png.rf.289535fc1c5817989e828d396f22e9ae.txt  \n",
            "  inflating: __MACOSX/yolov7Data/test/labels/._Screenshot-409-_png.rf.289535fc1c5817989e828d396f22e9ae.txt  \n",
            "  inflating: yolov7Data/test/labels/Screenshot-271-_png.rf.62aafa624b1718e4282a80e7081d54b2.txt  \n",
            "  inflating: __MACOSX/yolov7Data/test/labels/._Screenshot-271-_png.rf.62aafa624b1718e4282a80e7081d54b2.txt  \n",
            "  inflating: yolov7Data/test/labels/Screenshot-241-_png.rf.66913b3953b2e22495622efa182fdaf3.txt  \n",
            "  inflating: __MACOSX/yolov7Data/test/labels/._Screenshot-241-_png.rf.66913b3953b2e22495622efa182fdaf3.txt  \n",
            "  inflating: yolov7Data/test/labels/Screenshot-28-_png.rf.4dbb85ccddcef72e9664585edd659580.txt  \n",
            "  inflating: __MACOSX/yolov7Data/test/labels/._Screenshot-28-_png.rf.4dbb85ccddcef72e9664585edd659580.txt  \n",
            "  inflating: yolov7Data/test/labels/Image_2_jpg.rf.8e625e2183c2022a2623960c425b2528.txt  \n",
            "  inflating: __MACOSX/yolov7Data/test/labels/._Image_2_jpg.rf.8e625e2183c2022a2623960c425b2528.txt  \n",
            "  inflating: yolov7Data/test/labels/Screenshot-172-_png.rf.92374f5e4f8d1b3a77a64ca302be9ba7.txt  \n",
            "  inflating: __MACOSX/yolov7Data/test/labels/._Screenshot-172-_png.rf.92374f5e4f8d1b3a77a64ca302be9ba7.txt  \n",
            "  inflating: yolov7Data/test/labels/Screenshot-347-_png.rf.faad1dd386c11c3285fe6c0a33c6c377.txt  \n",
            "  inflating: __MACOSX/yolov7Data/test/labels/._Screenshot-347-_png.rf.faad1dd386c11c3285fe6c0a33c6c377.txt  \n",
            "  inflating: yolov7Data/test/labels/Screenshot-323-_png.rf.f3ab5731d989c6489fea1f778fa6e88f.txt  \n",
            "  inflating: __MACOSX/yolov7Data/test/labels/._Screenshot-323-_png.rf.f3ab5731d989c6489fea1f778fa6e88f.txt  \n",
            "  inflating: yolov7Data/test/labels/Screenshot-243-_png.rf.e92a3f0319006b5b2a0cce8d8c508ae9.txt  \n",
            "  inflating: __MACOSX/yolov7Data/test/labels/._Screenshot-243-_png.rf.e92a3f0319006b5b2a0cce8d8c508ae9.txt  \n",
            "  inflating: yolov7Data/test/labels/Screenshot-302-_png.rf.1d53be68a77ed7fbfaf563f9bd347ffd.txt  \n",
            "  inflating: __MACOSX/yolov7Data/test/labels/._Screenshot-302-_png.rf.1d53be68a77ed7fbfaf563f9bd347ffd.txt  \n",
            "  inflating: yolov7Data/test/labels/Screenshot-161-_png.rf.84788f5d359119204498ea92d64ef813.txt  \n",
            "  inflating: __MACOSX/yolov7Data/test/labels/._Screenshot-161-_png.rf.84788f5d359119204498ea92d64ef813.txt  \n",
            "  inflating: yolov7Data/test/labels/Screenshot-421-_png.rf.6dcddcc92fdfc72b665114675b420473.txt  \n",
            "  inflating: __MACOSX/yolov7Data/test/labels/._Screenshot-421-_png.rf.6dcddcc92fdfc72b665114675b420473.txt  \n",
            "  inflating: yolov7Data/test/labels/Screenshot-383-_png.rf.b6591bf96d2d2a0cde50e90a16183198.txt  \n",
            "  inflating: __MACOSX/yolov7Data/test/labels/._Screenshot-383-_png.rf.b6591bf96d2d2a0cde50e90a16183198.txt  \n",
            "  inflating: yolov7Data/test/labels/Screenshot-354-_png.rf.97f96d539d8b9f76566c883c5d734664.txt  \n",
            "  inflating: __MACOSX/yolov7Data/test/labels/._Screenshot-354-_png.rf.97f96d539d8b9f76566c883c5d734664.txt  \n",
            "  inflating: yolov7Data/test/labels/Screenshot-295-_png.rf.9edb0bb66c5746251ac8f640a0ba2760.txt  \n",
            "  inflating: __MACOSX/yolov7Data/test/labels/._Screenshot-295-_png.rf.9edb0bb66c5746251ac8f640a0ba2760.txt  \n",
            "  inflating: yolov7Data/test/labels/Screenshot-338-_png.rf.b327fd2a49647154c778d8de682958b3.txt  \n",
            "  inflating: __MACOSX/yolov7Data/test/labels/._Screenshot-338-_png.rf.b327fd2a49647154c778d8de682958b3.txt  \n",
            "  inflating: yolov7Data/test/labels/Image_48_jpg.rf.ade12d051fa363e2fc8a2c362ff76992.txt  \n",
            "  inflating: __MACOSX/yolov7Data/test/labels/._Image_48_jpg.rf.ade12d051fa363e2fc8a2c362ff76992.txt  \n",
            "  inflating: yolov7Data/test/labels/Screenshot-84-_png.rf.3ecdedba5f8f9f40c852386c6ac481a3.txt  \n",
            "  inflating: __MACOSX/yolov7Data/test/labels/._Screenshot-84-_png.rf.3ecdedba5f8f9f40c852386c6ac481a3.txt  \n",
            "  inflating: yolov7Data/test/labels/Screenshot-140-_png.rf.a6d7cf9b01cd08d21c9169fbee444783.txt  \n",
            "  inflating: __MACOSX/yolov7Data/test/labels/._Screenshot-140-_png.rf.a6d7cf9b01cd08d21c9169fbee444783.txt  \n",
            "  inflating: yolov7Data/test/labels/Screenshot-129-_png.rf.ae653c4fb8fc440abe0d7276f2b4cdfb.txt  \n",
            "  inflating: __MACOSX/yolov7Data/test/labels/._Screenshot-129-_png.rf.ae653c4fb8fc440abe0d7276f2b4cdfb.txt  \n",
            "  inflating: yolov7Data/test/labels/Screenshot-231-_png.rf.9f5b2dbddf5a326e5bd14364cd94c52f.txt  \n",
            "  inflating: __MACOSX/yolov7Data/test/labels/._Screenshot-231-_png.rf.9f5b2dbddf5a326e5bd14364cd94c52f.txt  \n",
            "  inflating: yolov7Data/test/labels/Screenshot-401-_png.rf.6b9f67405a4b7b0b10293993ee80ba2c.txt  \n",
            "  inflating: __MACOSX/yolov7Data/test/labels/._Screenshot-401-_png.rf.6b9f67405a4b7b0b10293993ee80ba2c.txt  \n",
            "  inflating: yolov7Data/test/labels/Screenshot-257-_png.rf.490a2ae0fd90c08e150412a0b080c8bf.txt  \n",
            "  inflating: __MACOSX/yolov7Data/test/labels/._Screenshot-257-_png.rf.490a2ae0fd90c08e150412a0b080c8bf.txt  \n",
            "  inflating: yolov7Data/test/labels/Screenshot-308-_png.rf.3cc1d3dfc3b1c4fd78b6a20017d2ede1.txt  \n",
            "  inflating: __MACOSX/yolov7Data/test/labels/._Screenshot-308-_png.rf.3cc1d3dfc3b1c4fd78b6a20017d2ede1.txt  \n",
            "  inflating: yolov7Data/test/labels/Screenshot-363-_png.rf.3ca08c29012a467ec16723a352a106e1.txt  \n",
            "  inflating: __MACOSX/yolov7Data/test/labels/._Screenshot-363-_png.rf.3ca08c29012a467ec16723a352a106e1.txt  \n",
            "  inflating: yolov7Data/test/labels/Screenshot-416-_png.rf.c02bc3c7d3e62aeb40060d5ddbd27196.txt  \n",
            "  inflating: __MACOSX/yolov7Data/test/labels/._Screenshot-416-_png.rf.c02bc3c7d3e62aeb40060d5ddbd27196.txt  \n",
            "  inflating: yolov7Data/test/labels/Screenshot-67-_png.rf.9067493ecbd74a65ca71d9def8136452.txt  \n",
            "  inflating: __MACOSX/yolov7Data/test/labels/._Screenshot-67-_png.rf.9067493ecbd74a65ca71d9def8136452.txt  \n",
            "  inflating: yolov7Data/test/labels/Screenshot-54-_png.rf.58d63a5d9937fa30e41ad0823c864fca.txt  \n",
            "  inflating: __MACOSX/yolov7Data/test/labels/._Screenshot-54-_png.rf.58d63a5d9937fa30e41ad0823c864fca.txt  \n",
            "  inflating: yolov7Data/test/labels/Screenshot-249-_png.rf.b7079af09c2dda8dbd563644b8de517a.txt  \n",
            "  inflating: __MACOSX/yolov7Data/test/labels/._Screenshot-249-_png.rf.b7079af09c2dda8dbd563644b8de517a.txt  \n",
            "  inflating: yolov7Data/test/labels/Screenshot-417-_png.rf.507db5627ae88ac0ff48be76c28b39a9.txt  \n",
            "  inflating: __MACOSX/yolov7Data/test/labels/._Screenshot-417-_png.rf.507db5627ae88ac0ff48be76c28b39a9.txt  \n",
            "  inflating: yolov7Data/test/labels/Image_13_jpg.rf.721333e7a0e97c73f1f4c4ecc0bbd226.txt  \n",
            "  inflating: __MACOSX/yolov7Data/test/labels/._Image_13_jpg.rf.721333e7a0e97c73f1f4c4ecc0bbd226.txt  \n",
            "  inflating: yolov7Data/test/labels/Image_14_jpg.rf.c7490fcadea2e6693ac3bc90bedb9900.txt  \n",
            "  inflating: __MACOSX/yolov7Data/test/labels/._Image_14_jpg.rf.c7490fcadea2e6693ac3bc90bedb9900.txt  \n",
            "  inflating: yolov7Data/test/labels/Screenshot-157-_png.rf.078b94b80f58d58ea4f0308d7272b162.txt  \n",
            "  inflating: __MACOSX/yolov7Data/test/labels/._Screenshot-157-_png.rf.078b94b80f58d58ea4f0308d7272b162.txt  \n",
            "  inflating: yolov7Data/test/labels/Screenshot-283-_png.rf.2da21511384c450fc6611c68f3fd3a82.txt  \n",
            "  inflating: __MACOSX/yolov7Data/test/labels/._Screenshot-283-_png.rf.2da21511384c450fc6611c68f3fd3a82.txt  \n",
            "  inflating: yolov7Data/test/labels/Screenshot-382-_png.rf.1954d1ca4aa2eaa8f8ec443ef3940027.txt  \n",
            "  inflating: __MACOSX/yolov7Data/test/labels/._Screenshot-382-_png.rf.1954d1ca4aa2eaa8f8ec443ef3940027.txt  \n",
            "  inflating: yolov7Data/test/labels/Screenshot-192-_png.rf.c36701c64df099f656ad11fa911f221e.txt  \n",
            "  inflating: __MACOSX/yolov7Data/test/labels/._Screenshot-192-_png.rf.c36701c64df099f656ad11fa911f221e.txt  \n",
            "  inflating: yolov7Data/test/labels/Image_21_png.rf.279b07282f16e8cdf1f8ec7f079adf6e.txt  \n",
            "  inflating: __MACOSX/yolov7Data/test/labels/._Image_21_png.rf.279b07282f16e8cdf1f8ec7f079adf6e.txt  \n",
            "  inflating: yolov7Data/test/labels/Screenshot-460-_png.rf.2e128cc73d53544c6f6336b47a34d912.txt  \n",
            "  inflating: __MACOSX/yolov7Data/test/labels/._Screenshot-460-_png.rf.2e128cc73d53544c6f6336b47a34d912.txt  \n",
            "  inflating: yolov7Data/test/labels/Image_37_jpg.rf.df2dda7782c6481a462c5aa0cd41df92.txt  \n",
            "  inflating: __MACOSX/yolov7Data/test/labels/._Image_37_jpg.rf.df2dda7782c6481a462c5aa0cd41df92.txt  \n",
            "  inflating: yolov7Data/test/labels/Screenshot-461-_png.rf.4ac27ffd9e51cf12ff47daa0b58fb8a9.txt  \n",
            "  inflating: __MACOSX/yolov7Data/test/labels/._Screenshot-461-_png.rf.4ac27ffd9e51cf12ff47daa0b58fb8a9.txt  \n",
            "  inflating: yolov7Data/test/labels/Screenshot-396-_png.rf.5d5bdfbd37c652dbe16f1198ee17d2a4.txt  \n",
            "  inflating: __MACOSX/yolov7Data/test/labels/._Screenshot-396-_png.rf.5d5bdfbd37c652dbe16f1198ee17d2a4.txt  \n",
            "  inflating: yolov7Data/test/labels/Screenshot-109-_png.rf.fd1a6901d09767ceb109fc1584dadebd.txt  \n",
            "  inflating: __MACOSX/yolov7Data/test/labels/._Screenshot-109-_png.rf.fd1a6901d09767ceb109fc1584dadebd.txt  \n",
            "  inflating: yolov7Data/test/labels/Image_58_jpg.rf.c0a551b91e4edfde5ba08b5f5d1d2f1f.txt  \n",
            "  inflating: __MACOSX/yolov7Data/test/labels/._Image_58_jpg.rf.c0a551b91e4edfde5ba08b5f5d1d2f1f.txt  \n",
            "  inflating: yolov7Data/test/labels/Screenshot-320-_png.rf.9cc2e57782d36a17ada808e0ce61f7f0.txt  \n",
            "  inflating: __MACOSX/yolov7Data/test/labels/._Screenshot-320-_png.rf.9cc2e57782d36a17ada808e0ce61f7f0.txt  \n",
            "  inflating: yolov7Data/test/labels/Screenshot-107-_png.rf.1d88e752c7ddb6af736e72a54ed31379.txt  \n",
            "  inflating: __MACOSX/yolov7Data/test/labels/._Screenshot-107-_png.rf.1d88e752c7ddb6af736e72a54ed31379.txt  \n",
            "  inflating: yolov7Data/test/labels/Screenshot-103-_png.rf.31d1586aa9755056bf0fc3cb303f38fd.txt  \n",
            "  inflating: __MACOSX/yolov7Data/test/labels/._Screenshot-103-_png.rf.31d1586aa9755056bf0fc3cb303f38fd.txt  \n",
            "  inflating: yolov7Data/test/labels/Screenshot-445-_png.rf.595b0ab2517a0622b43dd8439e20eeb6.txt  \n",
            "  inflating: __MACOSX/yolov7Data/test/labels/._Screenshot-445-_png.rf.595b0ab2517a0622b43dd8439e20eeb6.txt  \n",
            "  inflating: yolov7Data/test/labels/Screenshot-60-_png.rf.beec98d5fc1e453f817c7090bf191aab.txt  \n",
            "  inflating: __MACOSX/yolov7Data/test/labels/._Screenshot-60-_png.rf.beec98d5fc1e453f817c7090bf191aab.txt  \n",
            "  inflating: yolov7Data/train/images/Screenshot-278-_png.rf.3060fd19b4c3f0b16251acd82a472460.jpg  \n",
            "  inflating: __MACOSX/yolov7Data/train/images/._Screenshot-278-_png.rf.3060fd19b4c3f0b16251acd82a472460.jpg  \n",
            "  inflating: yolov7Data/train/images/Image_129_jpg.rf.404981a3113539ff99d4917ac4432d26.jpg  \n",
            "  inflating: __MACOSX/yolov7Data/train/images/._Image_129_jpg.rf.404981a3113539ff99d4917ac4432d26.jpg  \n",
            "  inflating: yolov7Data/train/images/Image_76_jpg.rf.838475a219d9c0d47e3ce5cf34b4ed15.jpg  \n",
            "  inflating: __MACOSX/yolov7Data/train/images/._Image_76_jpg.rf.838475a219d9c0d47e3ce5cf34b4ed15.jpg  \n",
            "  inflating: yolov7Data/train/images/Screenshot-73-_png.rf.7b4402bdaa93edb4ace0935ba63f06da.jpg  \n",
            "  inflating: __MACOSX/yolov7Data/train/images/._Screenshot-73-_png.rf.7b4402bdaa93edb4ace0935ba63f06da.jpg  \n",
            "  inflating: yolov7Data/train/images/Image_8_jpg.rf.7ece10e5389a4846104364be517a6844.jpg  \n",
            "  inflating: __MACOSX/yolov7Data/train/images/._Image_8_jpg.rf.7ece10e5389a4846104364be517a6844.jpg  \n",
            "  inflating: yolov7Data/train/images/Image_125_jpg.rf.ba3333b5359978c0c7a97c2f77779405.jpg  \n",
            "  inflating: __MACOSX/yolov7Data/train/images/._Image_125_jpg.rf.ba3333b5359978c0c7a97c2f77779405.jpg  \n",
            "  inflating: yolov7Data/train/images/Screenshot-216-_png.rf.3a1381b760cc3caa298ec59351df8a9b.jpg  \n",
            "  inflating: __MACOSX/yolov7Data/train/images/._Screenshot-216-_png.rf.3a1381b760cc3caa298ec59351df8a9b.jpg  \n",
            "  inflating: yolov7Data/train/images/Image_3_jpg.rf.8a2143a32fa3545964b5c3677744d6e1.jpg  \n",
            "  inflating: __MACOSX/yolov7Data/train/images/._Image_3_jpg.rf.8a2143a32fa3545964b5c3677744d6e1.jpg  \n",
            "  inflating: yolov7Data/train/images/Image_154_jpg.rf.f57a8d17eab4ae26a57661c230ecd785.jpg  \n",
            "  inflating: __MACOSX/yolov7Data/train/images/._Image_154_jpg.rf.f57a8d17eab4ae26a57661c230ecd785.jpg  \n",
            "  inflating: yolov7Data/train/images/Image_129_jpg.rf.1d0026fdf83d7ea44fcd2c6d8fe8e8a2.jpg  \n",
            "  inflating: __MACOSX/yolov7Data/train/images/._Image_129_jpg.rf.1d0026fdf83d7ea44fcd2c6d8fe8e8a2.jpg  \n",
            "  inflating: yolov7Data/train/images/Image_68_jpg.rf.7334aae3db3db426c582e0212115f75b.jpg  \n",
            "  inflating: __MACOSX/yolov7Data/train/images/._Image_68_jpg.rf.7334aae3db3db426c582e0212115f75b.jpg  \n",
            "  inflating: yolov7Data/train/images/Image_86_jpg.rf.a8222a8c1790123a0e8777c8afb93df9.jpg  \n",
            "  inflating: __MACOSX/yolov7Data/train/images/._Image_86_jpg.rf.a8222a8c1790123a0e8777c8afb93df9.jpg  \n",
            "  inflating: yolov7Data/train/images/Image_62_JPG.rf.b5cedc55c6be2a9890d9655ed29869b2.jpg  \n",
            "  inflating: __MACOSX/yolov7Data/train/images/._Image_62_JPG.rf.b5cedc55c6be2a9890d9655ed29869b2.jpg  \n",
            "  inflating: yolov7Data/train/images/Image_9_jpg.rf.d4d1449769b2ef98749fec47eb382816.jpg  \n",
            "  inflating: __MACOSX/yolov7Data/train/images/._Image_9_jpg.rf.d4d1449769b2ef98749fec47eb382816.jpg  \n",
            "  inflating: yolov7Data/train/images/Image_17_jpg.rf.c5350462224ca6366d2760011b948ede.jpg  \n",
            "  inflating: __MACOSX/yolov7Data/train/images/._Image_17_jpg.rf.c5350462224ca6366d2760011b948ede.jpg  \n",
            "  inflating: yolov7Data/train/images/Screenshot-51-_png.rf.660c6c0d811664546190b5baa8948f03.jpg  \n",
            "  inflating: __MACOSX/yolov7Data/train/images/._Screenshot-51-_png.rf.660c6c0d811664546190b5baa8948f03.jpg  \n",
            "  inflating: yolov7Data/train/images/Image_137_jpg.rf.723d92d299477cf4511b7b97558fbc50.jpg  \n",
            "  inflating: __MACOSX/yolov7Data/train/images/._Image_137_jpg.rf.723d92d299477cf4511b7b97558fbc50.jpg  \n",
            "  inflating: yolov7Data/train/images/Image_58_jpg.rf.707284974ecfc0e843d38c650241cc34.jpg  \n",
            "  inflating: __MACOSX/yolov7Data/train/images/._Image_58_jpg.rf.707284974ecfc0e843d38c650241cc34.jpg  \n",
            "  inflating: yolov7Data/train/images/Image_140_jpg.rf.bd206545365e70e17aefdd9775e8b115.jpg  \n",
            "  inflating: __MACOSX/yolov7Data/train/images/._Image_140_jpg.rf.bd206545365e70e17aefdd9775e8b115.jpg  \n",
            "  inflating: yolov7Data/train/images/Screenshot-171-_png.rf.238e964b1038cc3566991a661414e656.jpg  \n",
            "  inflating: __MACOSX/yolov7Data/train/images/._Screenshot-171-_png.rf.238e964b1038cc3566991a661414e656.jpg  \n",
            "  inflating: yolov7Data/train/images/Image_28_jpg.rf.8c384c6e4f05f3a05903d292342cf700.jpg  \n",
            "  inflating: __MACOSX/yolov7Data/train/images/._Image_28_jpg.rf.8c384c6e4f05f3a05903d292342cf700.jpg  \n",
            "  inflating: yolov7Data/train/images/Screenshot-75-_png.rf.0e5e040d4a393482d7d9da7be8745b1d.jpg  \n",
            "  inflating: __MACOSX/yolov7Data/train/images/._Screenshot-75-_png.rf.0e5e040d4a393482d7d9da7be8745b1d.jpg  \n",
            "  inflating: yolov7Data/train/images/Image_49_jpg.rf.51a709845c70a62782006d546dd4cc9d.jpg  \n",
            "  inflating: __MACOSX/yolov7Data/train/images/._Image_49_jpg.rf.51a709845c70a62782006d546dd4cc9d.jpg  \n",
            "  inflating: yolov7Data/train/images/Screenshot-364-_png.rf.88f4d798339a6ebce3e7a29310938f8f.jpg  \n",
            "  inflating: __MACOSX/yolov7Data/train/images/._Screenshot-364-_png.rf.88f4d798339a6ebce3e7a29310938f8f.jpg  \n",
            "  inflating: yolov7Data/train/images/Image_8_jpg.rf.ff6f6fb719e5af32937ac21abb73aaba.jpg  \n",
            "  inflating: __MACOSX/yolov7Data/train/images/._Image_8_jpg.rf.ff6f6fb719e5af32937ac21abb73aaba.jpg  \n",
            "  inflating: yolov7Data/train/images/Screenshot-19-_png.rf.1d1aa76cbc2f2a44a39e1395f733b609.jpg  \n",
            "  inflating: __MACOSX/yolov7Data/train/images/._Screenshot-19-_png.rf.1d1aa76cbc2f2a44a39e1395f733b609.jpg  \n",
            "  inflating: yolov7Data/train/images/Image_35_jpg.rf.edee13079ce894ffdf4ead0c45f81bcd.jpg  \n",
            "  inflating: __MACOSX/yolov7Data/train/images/._Image_35_jpg.rf.edee13079ce894ffdf4ead0c45f81bcd.jpg  \n",
            "  inflating: yolov7Data/train/images/Image_136_jpg.rf.695a9ee82e8f2ad12f397caa7ed96d78.jpg  \n",
            "  inflating: __MACOSX/yolov7Data/train/images/._Image_136_jpg.rf.695a9ee82e8f2ad12f397caa7ed96d78.jpg  \n",
            "  inflating: yolov7Data/train/images/Image_95_jpg.rf.60ec875eadec1dcab59ba5f4016779f5.jpg  \n",
            "  inflating: __MACOSX/yolov7Data/train/images/._Image_95_jpg.rf.60ec875eadec1dcab59ba5f4016779f5.jpg  \n",
            "  inflating: yolov7Data/train/images/Image_87_jpg.rf.ad1e430df0c0d45e61637b414049a853.jpg  \n",
            "  inflating: __MACOSX/yolov7Data/train/images/._Image_87_jpg.rf.ad1e430df0c0d45e61637b414049a853.jpg  \n",
            "  inflating: yolov7Data/train/images/Image_33_jpg.rf.cfab77ba513d0ed274690b1f706edb1e.jpg  \n",
            "  inflating: __MACOSX/yolov7Data/train/images/._Image_33_jpg.rf.cfab77ba513d0ed274690b1f706edb1e.jpg  \n",
            "  inflating: yolov7Data/train/images/Image_54_jpg.rf.dcbeebaa17209c41da2b93778565ce04.jpg  \n",
            "  inflating: __MACOSX/yolov7Data/train/images/._Image_54_jpg.rf.dcbeebaa17209c41da2b93778565ce04.jpg  \n",
            "  inflating: yolov7Data/train/images/Image_168_jpg.rf.827027784305ab66e2a2ea34f1eabfab.jpg  \n",
            "  inflating: __MACOSX/yolov7Data/train/images/._Image_168_jpg.rf.827027784305ab66e2a2ea34f1eabfab.jpg  \n",
            "  inflating: yolov7Data/train/images/Image_102_jpg.rf.619fa22ff168d0919f162dbdf4b369c2.jpg  \n",
            "  inflating: __MACOSX/yolov7Data/train/images/._Image_102_jpg.rf.619fa22ff168d0919f162dbdf4b369c2.jpg  \n",
            "  inflating: yolov7Data/train/images/Image_5_jpg.rf.f39c32a97b23238db62aebdfcca35425.jpg  \n",
            "  inflating: __MACOSX/yolov7Data/train/images/._Image_5_jpg.rf.f39c32a97b23238db62aebdfcca35425.jpg  \n",
            "  inflating: yolov7Data/train/images/Image_16_jpg.rf.8886b741c433849ce6b19b7ff5fd7968.jpg  \n",
            "  inflating: __MACOSX/yolov7Data/train/images/._Image_16_jpg.rf.8886b741c433849ce6b19b7ff5fd7968.jpg  \n",
            "  inflating: yolov7Data/train/images/Image_33_jpg.rf.3b3f35fd3927f072ac8859775739101f.jpg  \n",
            "  inflating: __MACOSX/yolov7Data/train/images/._Image_33_jpg.rf.3b3f35fd3927f072ac8859775739101f.jpg  \n",
            "  inflating: yolov7Data/train/images/Image_97_jpg.rf.a64862efb2c5a51e856df795a9084f04.jpg  \n",
            "  inflating: __MACOSX/yolov7Data/train/images/._Image_97_jpg.rf.a64862efb2c5a51e856df795a9084f04.jpg  \n",
            "  inflating: yolov7Data/train/images/Screenshot-26-_png.rf.97c81b5a2f107bbd318691bb9cbd6291.jpg  \n",
            "  inflating: __MACOSX/yolov7Data/train/images/._Screenshot-26-_png.rf.97c81b5a2f107bbd318691bb9cbd6291.jpg  \n",
            "  inflating: yolov7Data/train/images/Screenshot-303-_png.rf.3272aa088b491b5f967e2cc291754374.jpg  \n",
            "  inflating: __MACOSX/yolov7Data/train/images/._Screenshot-303-_png.rf.3272aa088b491b5f967e2cc291754374.jpg  \n",
            "  inflating: yolov7Data/train/images/Image_92_jpg.rf.16f6dba379566591dc5d92da93d0de7f.jpg  \n",
            "  inflating: __MACOSX/yolov7Data/train/images/._Image_92_jpg.rf.16f6dba379566591dc5d92da93d0de7f.jpg  \n",
            "  inflating: yolov7Data/train/images/Image_83_jpg.rf.5fcfc6ec4127fc6c285c333102396c03.jpg  \n",
            "  inflating: __MACOSX/yolov7Data/train/images/._Image_83_jpg.rf.5fcfc6ec4127fc6c285c333102396c03.jpg  \n",
            "  inflating: yolov7Data/train/images/Screenshot-65-_png.rf.d61d07897ff71f6b0aedf24786b8eca0.jpg  \n",
            "  inflating: __MACOSX/yolov7Data/train/images/._Screenshot-65-_png.rf.d61d07897ff71f6b0aedf24786b8eca0.jpg  \n",
            "  inflating: yolov7Data/train/images/Image_32_jpg.rf.47c3d039288dce87c447137e43a98078.jpg  \n",
            "  inflating: __MACOSX/yolov7Data/train/images/._Image_32_jpg.rf.47c3d039288dce87c447137e43a98078.jpg  \n",
            "  inflating: yolov7Data/train/images/Image_86_jpg.rf.b8eced15973ae0d4362922b6a652786a.jpg  \n",
            "  inflating: __MACOSX/yolov7Data/train/images/._Image_86_jpg.rf.b8eced15973ae0d4362922b6a652786a.jpg  \n",
            "  inflating: yolov7Data/train/images/Image_15_jpg.rf.d90475d0e2b4503ab5bd89580a7b0d24.jpg  \n",
            "  inflating: __MACOSX/yolov7Data/train/images/._Image_15_jpg.rf.d90475d0e2b4503ab5bd89580a7b0d24.jpg  \n",
            "  inflating: yolov7Data/train/images/Image_21_jpg.rf.ff854aae2919a4bd7d0520ddb83f4653.jpg  \n",
            "  inflating: __MACOSX/yolov7Data/train/images/._Image_21_jpg.rf.ff854aae2919a4bd7d0520ddb83f4653.jpg  \n",
            "  inflating: yolov7Data/train/images/Image_51_jpg.rf.4dab3fe47a27c892350eff95e874deb3.jpg  \n",
            "  inflating: __MACOSX/yolov7Data/train/images/._Image_51_jpg.rf.4dab3fe47a27c892350eff95e874deb3.jpg  \n",
            "  inflating: yolov7Data/train/images/Image_6_jpg.rf.158797171769ab2cb8b262f9f302ed39.jpg  \n",
            "  inflating: __MACOSX/yolov7Data/train/images/._Image_6_jpg.rf.158797171769ab2cb8b262f9f302ed39.jpg  \n",
            "  inflating: yolov7Data/train/images/Image_108_jpeg.rf.27ecc8b001c2d224129e59ff3c36e8d1.jpg  \n",
            "  inflating: __MACOSX/yolov7Data/train/images/._Image_108_jpeg.rf.27ecc8b001c2d224129e59ff3c36e8d1.jpg  \n",
            "  inflating: yolov7Data/train/images/Image_155_jpeg.rf.36b76179be69cf0cf75203228693d126.jpg  \n",
            "  inflating: __MACOSX/yolov7Data/train/images/._Image_155_jpeg.rf.36b76179be69cf0cf75203228693d126.jpg  \n",
            "  inflating: yolov7Data/train/images/Image_185_jpg.rf.8da19a8aff3c177f26aeccc27e84b0bf.jpg  \n",
            "  inflating: __MACOSX/yolov7Data/train/images/._Image_185_jpg.rf.8da19a8aff3c177f26aeccc27e84b0bf.jpg  \n",
            "  inflating: yolov7Data/train/images/Image_10_jpg.rf.65c261410996c1793bf69ab256337f07.jpg  \n",
            "  inflating: __MACOSX/yolov7Data/train/images/._Image_10_jpg.rf.65c261410996c1793bf69ab256337f07.jpg  \n",
            "  inflating: yolov7Data/train/images/Image_24_jpg.rf.0af93bcf94dc4f905df261a39d06824c.jpg  \n",
            "  inflating: __MACOSX/yolov7Data/train/images/._Image_24_jpg.rf.0af93bcf94dc4f905df261a39d06824c.jpg  \n",
            "  inflating: yolov7Data/train/images/Image_149_JPG.rf.67973cf765a289fc79a83f25de624400.jpg  \n",
            "  inflating: __MACOSX/yolov7Data/train/images/._Image_149_JPG.rf.67973cf765a289fc79a83f25de624400.jpg  \n",
            "  inflating: yolov7Data/train/images/Screenshot-288-_png.rf.e36f98cf87c9bc8bec0d1de2d325c1e8.jpg  \n",
            "  inflating: __MACOSX/yolov7Data/train/images/._Screenshot-288-_png.rf.e36f98cf87c9bc8bec0d1de2d325c1e8.jpg  \n",
            "  inflating: yolov7Data/train/images/Image_65_jpg.rf.41f37ae23ce51364d86e6fc116f087f0.jpg  \n",
            "  inflating: __MACOSX/yolov7Data/train/images/._Image_65_jpg.rf.41f37ae23ce51364d86e6fc116f087f0.jpg  \n",
            "  inflating: yolov7Data/train/images/Image_50_jpg.rf.d0bcd919e9c085a9f9355be5db3302e9.jpg  \n",
            "  inflating: __MACOSX/yolov7Data/train/images/._Image_50_jpg.rf.d0bcd919e9c085a9f9355be5db3302e9.jpg  \n",
            "  inflating: yolov7Data/train/images/Image_90_jpg.rf.c13b83eddc35fd91a7c41f8c6262bb02.jpg  \n",
            "  inflating: __MACOSX/yolov7Data/train/images/._Image_90_jpg.rf.c13b83eddc35fd91a7c41f8c6262bb02.jpg  \n",
            "  inflating: yolov7Data/train/images/Image_61_jpeg.rf.9665537fd6a62cd07bea8e34b78a7e94.jpg  \n",
            "  inflating: __MACOSX/yolov7Data/train/images/._Image_61_jpeg.rf.9665537fd6a62cd07bea8e34b78a7e94.jpg  \n",
            "  inflating: yolov7Data/train/images/Image_163_jpg.rf.3b38a80ed794ea09a7ce668fe1447e43.jpg  \n",
            "  inflating: __MACOSX/yolov7Data/train/images/._Image_163_jpg.rf.3b38a80ed794ea09a7ce668fe1447e43.jpg  \n",
            "  inflating: yolov7Data/train/images/Screenshot-170-_png.rf.4a251a4a3317bcc51a259fea7862c421.jpg  \n",
            "  inflating: __MACOSX/yolov7Data/train/images/._Screenshot-170-_png.rf.4a251a4a3317bcc51a259fea7862c421.jpg  \n",
            "  inflating: yolov7Data/train/images/Image_181_jpg.rf.28e9f2d33da8960797161f4b6d10c4f8.jpg  \n",
            "  inflating: __MACOSX/yolov7Data/train/images/._Image_181_jpg.rf.28e9f2d33da8960797161f4b6d10c4f8.jpg  \n",
            "  inflating: yolov7Data/train/images/Screenshot-85-_png.rf.7e3c9ea459b4b50abe7c183678031df8.jpg  \n",
            "  inflating: __MACOSX/yolov7Data/train/images/._Screenshot-85-_png.rf.7e3c9ea459b4b50abe7c183678031df8.jpg  \n",
            "  inflating: yolov7Data/train/images/Image_147_jpg.rf.f16eeb4257d8849d153335c1223a49f7.jpg  \n",
            "  inflating: __MACOSX/yolov7Data/train/images/._Image_147_jpg.rf.f16eeb4257d8849d153335c1223a49f7.jpg  \n",
            "  inflating: yolov7Data/train/images/Image_31_jpg.rf.2241dd00f1dfce2fe20af650e9e57970.jpg  \n",
            "  inflating: __MACOSX/yolov7Data/train/images/._Image_31_jpg.rf.2241dd00f1dfce2fe20af650e9e57970.jpg  \n",
            "  inflating: yolov7Data/train/images/Image_151_jpg.rf.586498166920a8a5bf05b80298f41b41.jpg  \n",
            "  inflating: __MACOSX/yolov7Data/train/images/._Image_151_jpg.rf.586498166920a8a5bf05b80298f41b41.jpg  \n",
            "  inflating: yolov7Data/train/images/Screenshot-209-_png.rf.bbd6fbc2366bc1c6863da24f54cc169b.jpg  \n",
            "  inflating: __MACOSX/yolov7Data/train/images/._Screenshot-209-_png.rf.bbd6fbc2366bc1c6863da24f54cc169b.jpg  \n",
            "  inflating: yolov7Data/train/images/Screenshot-251-_png.rf.a41e1d8b929e3dd2e035382b89b850c0.jpg  \n",
            "  inflating: __MACOSX/yolov7Data/train/images/._Screenshot-251-_png.rf.a41e1d8b929e3dd2e035382b89b850c0.jpg  \n",
            "  inflating: yolov7Data/train/images/Image_87_jpeg.rf.7b24457f9ccb50a5650b5f317005f4bd.jpg  \n",
            "  inflating: __MACOSX/yolov7Data/train/images/._Image_87_jpeg.rf.7b24457f9ccb50a5650b5f317005f4bd.jpg  \n",
            "  inflating: yolov7Data/train/images/Image_50_jpg.rf.497e8a38f090722577f08037fb49f6bd.jpg  \n",
            "  inflating: __MACOSX/yolov7Data/train/images/._Image_50_jpg.rf.497e8a38f090722577f08037fb49f6bd.jpg  \n",
            "  inflating: yolov7Data/train/images/Image_165_jpg.rf.e44ff1d4ccd40667d9e35a05b08d77d6.jpg  \n",
            "  inflating: __MACOSX/yolov7Data/train/images/._Image_165_jpg.rf.e44ff1d4ccd40667d9e35a05b08d77d6.jpg  \n",
            "  inflating: yolov7Data/train/images/Screenshot-296-_png.rf.a1bb046fe1859c8f360062dfcb133647.jpg  \n",
            "  inflating: __MACOSX/yolov7Data/train/images/._Screenshot-296-_png.rf.a1bb046fe1859c8f360062dfcb133647.jpg  \n",
            "  inflating: yolov7Data/train/images/Screenshot-46-_png.rf.4882a3cbe198b97fb873f52cf2cd1792.jpg  \n",
            "  inflating: __MACOSX/yolov7Data/train/images/._Screenshot-46-_png.rf.4882a3cbe198b97fb873f52cf2cd1792.jpg  \n",
            "  inflating: yolov7Data/train/images/Image_109_jpg.rf.1efacf99a8426cb322f79d38aa0e3aa1.jpg  \n",
            "  inflating: __MACOSX/yolov7Data/train/images/._Image_109_jpg.rf.1efacf99a8426cb322f79d38aa0e3aa1.jpg  \n",
            "  inflating: yolov7Data/train/images/Image_122_jpg.rf.4c87eefa485b890593cc04446ec3657f.jpg  \n",
            "  inflating: __MACOSX/yolov7Data/train/images/._Image_122_jpg.rf.4c87eefa485b890593cc04446ec3657f.jpg  \n",
            "  inflating: yolov7Data/train/images/Image_66_jpg.rf.8a728d3d8c252004baf6a88100085941.jpg  \n",
            "  inflating: __MACOSX/yolov7Data/train/images/._Image_66_jpg.rf.8a728d3d8c252004baf6a88100085941.jpg  \n",
            "  inflating: yolov7Data/train/images/Image_135_jpg.rf.57641fda43f0863767ea1300767347f9.jpg  \n",
            "  inflating: __MACOSX/yolov7Data/train/images/._Image_135_jpg.rf.57641fda43f0863767ea1300767347f9.jpg  \n",
            "  inflating: yolov7Data/train/images/Screenshot-374-_png.rf.c8ce08313249a2a5f0eee5cf9aa26d23.jpg  \n",
            "  inflating: __MACOSX/yolov7Data/train/images/._Screenshot-374-_png.rf.c8ce08313249a2a5f0eee5cf9aa26d23.jpg  \n",
            "  inflating: yolov7Data/train/images/Screenshot-198-_png.rf.55d51c49278131c4f51f0bc6d1f1d49f.jpg  \n",
            "  inflating: __MACOSX/yolov7Data/train/images/._Screenshot-198-_png.rf.55d51c49278131c4f51f0bc6d1f1d49f.jpg  \n",
            "  inflating: yolov7Data/train/images/Image_79_jpeg.rf.765bf43813f5c10eb7fc55ee9ea6b48f.jpg  \n",
            "  inflating: __MACOSX/yolov7Data/train/images/._Image_79_jpeg.rf.765bf43813f5c10eb7fc55ee9ea6b48f.jpg  \n",
            "  inflating: yolov7Data/train/images/Image_74_jpg.rf.b764d25d2f6c4d171f3685c69198fe39.jpg  \n",
            "  inflating: __MACOSX/yolov7Data/train/images/._Image_74_jpg.rf.b764d25d2f6c4d171f3685c69198fe39.jpg  \n",
            "  inflating: yolov7Data/train/images/Image_112_jpg.rf.a86cc603f3a00c881f76f7f4a377e8e2.jpg  \n",
            "  inflating: __MACOSX/yolov7Data/train/images/._Image_112_jpg.rf.a86cc603f3a00c881f76f7f4a377e8e2.jpg  \n",
            "  inflating: yolov7Data/train/images/Image_85_jpg.rf.3e332c6f1d9100066c8112a4f57166ba.jpg  \n",
            "  inflating: __MACOSX/yolov7Data/train/images/._Image_85_jpg.rf.3e332c6f1d9100066c8112a4f57166ba.jpg  \n",
            "  inflating: yolov7Data/train/images/Image_93_jpg.rf.17d2f656e011399ae45a4986b8dab6e7.jpg  \n",
            "  inflating: __MACOSX/yolov7Data/train/images/._Image_93_jpg.rf.17d2f656e011399ae45a4986b8dab6e7.jpg  \n",
            "  inflating: yolov7Data/train/images/Screenshot-336-_png.rf.98913f9338ed17535180547ef48c4a40.jpg  \n",
            "  inflating: __MACOSX/yolov7Data/train/images/._Screenshot-336-_png.rf.98913f9338ed17535180547ef48c4a40.jpg  \n",
            "  inflating: yolov7Data/train/images/Screenshot-215-_png.rf.f03a706c19208644d896cf02a8da51f9.jpg  \n",
            "  inflating: __MACOSX/yolov7Data/train/images/._Screenshot-215-_png.rf.f03a706c19208644d896cf02a8da51f9.jpg  \n",
            "  inflating: yolov7Data/train/images/Image_111_jpg.rf.b7d57ec8ef5c60f6c13968c08d54fa67.jpg  \n",
            "  inflating: __MACOSX/yolov7Data/train/images/._Image_111_jpg.rf.b7d57ec8ef5c60f6c13968c08d54fa67.jpg  \n",
            "  inflating: yolov7Data/train/images/Image_5_jpg.rf.36c20885169c8f1d2157a33bd434b45b.jpg  \n",
            "  inflating: __MACOSX/yolov7Data/train/images/._Image_5_jpg.rf.36c20885169c8f1d2157a33bd434b45b.jpg  \n",
            "  inflating: yolov7Data/train/images/Image_153_jpg.rf.fd403193fb4cecafb17b4ddade292ee3.jpg  \n",
            "  inflating: __MACOSX/yolov7Data/train/images/._Image_153_jpg.rf.fd403193fb4cecafb17b4ddade292ee3.jpg  \n",
            "  inflating: yolov7Data/train/images/Image_13_jpg.rf.2026fd9b42aac0c4b73ac3062fb15859.jpg  \n",
            "  inflating: __MACOSX/yolov7Data/train/images/._Image_13_jpg.rf.2026fd9b42aac0c4b73ac3062fb15859.jpg  \n",
            "  inflating: yolov7Data/train/images/Image_133_jpg.rf.d1ac08a99dbeadbf6baf1ce76f778ed9.jpg  \n",
            "  inflating: __MACOSX/yolov7Data/train/images/._Image_133_jpg.rf.d1ac08a99dbeadbf6baf1ce76f778ed9.jpg  \n",
            "  inflating: yolov7Data/train/images/Image_85_jpg.rf.8d384b8dc75fbc0e3be19ca2cae4b118.jpg  \n",
            "  inflating: __MACOSX/yolov7Data/train/images/._Image_85_jpg.rf.8d384b8dc75fbc0e3be19ca2cae4b118.jpg  \n",
            "  inflating: yolov7Data/train/images/Image_180_jpg.rf.32951016802a9744188be4fa9398f4da.jpg  \n",
            "  inflating: __MACOSX/yolov7Data/train/images/._Image_180_jpg.rf.32951016802a9744188be4fa9398f4da.jpg  \n",
            "  inflating: yolov7Data/train/images/Image_87_jpg.rf.7d025050606add6f93e3569468271812.jpg  \n",
            "  inflating: __MACOSX/yolov7Data/train/images/._Image_87_jpg.rf.7d025050606add6f93e3569468271812.jpg  \n",
            "  inflating: yolov7Data/train/images/Image_170_jpg.rf.85f5e65d1acab686427404c1003ed9b3.jpg  \n",
            "  inflating: __MACOSX/yolov7Data/train/images/._Image_170_jpg.rf.85f5e65d1acab686427404c1003ed9b3.jpg  \n",
            "  inflating: yolov7Data/train/images/Image_172_jpg.rf.bcee32d449634a4b1db70c3766213db2.jpg  \n",
            "  inflating: __MACOSX/yolov7Data/train/images/._Image_172_jpg.rf.bcee32d449634a4b1db70c3766213db2.jpg  \n",
            "  inflating: yolov7Data/train/images/Image_10_jpg.rf.905075cc76c4e42ab15f27b9282d0ada.jpg  \n",
            "  inflating: __MACOSX/yolov7Data/train/images/._Image_10_jpg.rf.905075cc76c4e42ab15f27b9282d0ada.jpg  \n",
            "  inflating: yolov7Data/train/images/Screenshot-78-_png.rf.40fa0f4df3dd5a91196c9dcffd4fbd64.jpg  \n",
            "  inflating: __MACOSX/yolov7Data/train/images/._Screenshot-78-_png.rf.40fa0f4df3dd5a91196c9dcffd4fbd64.jpg  \n",
            "  inflating: yolov7Data/train/images/Screenshot-252-_png.rf.ccb343623d2e2d4de26d2a00d775df90.jpg  \n",
            "  inflating: __MACOSX/yolov7Data/train/images/._Screenshot-252-_png.rf.ccb343623d2e2d4de26d2a00d775df90.jpg  \n",
            "  inflating: yolov7Data/train/images/Screenshot-114-_png.rf.b11704d78d9338a38842f5941c7266e9.jpg  \n",
            "  inflating: __MACOSX/yolov7Data/train/images/._Screenshot-114-_png.rf.b11704d78d9338a38842f5941c7266e9.jpg  \n",
            "  inflating: yolov7Data/train/images/Screenshot-15-_png.rf.c474ed69571de8bb3c488bd6d9a8f111.jpg  \n",
            "  inflating: __MACOSX/yolov7Data/train/images/._Screenshot-15-_png.rf.c474ed69571de8bb3c488bd6d9a8f111.jpg  \n",
            "  inflating: yolov7Data/train/images/Image_81_jpg.rf.5d20518dceffe5a2ec1332d3c0cd239b.jpg  \n",
            "  inflating: __MACOSX/yolov7Data/train/images/._Image_81_jpg.rf.5d20518dceffe5a2ec1332d3c0cd239b.jpg  \n",
            "  inflating: yolov7Data/train/images/Image_45_jpg.rf.038abc3805011c39b5faf3174349bd98.jpg  \n",
            "  inflating: __MACOSX/yolov7Data/train/images/._Image_45_jpg.rf.038abc3805011c39b5faf3174349bd98.jpg  \n",
            "  inflating: yolov7Data/train/images/Image_52_jpg.rf.eb93010f2b51d461a39079e16eda5016.jpg  \n",
            "  inflating: __MACOSX/yolov7Data/train/images/._Image_52_jpg.rf.eb93010f2b51d461a39079e16eda5016.jpg  \n",
            "  inflating: yolov7Data/train/images/Screenshot-255-_png.rf.f9de30f9cccecf7a457ef3be96c9def9.jpg  \n",
            "  inflating: __MACOSX/yolov7Data/train/images/._Screenshot-255-_png.rf.f9de30f9cccecf7a457ef3be96c9def9.jpg  \n",
            "  inflating: yolov7Data/train/images/Image_130_jpg.rf.3fc7e5470352e0d1cb9ffe9c37358d71.jpg  \n",
            "  inflating: __MACOSX/yolov7Data/train/images/._Image_130_jpg.rf.3fc7e5470352e0d1cb9ffe9c37358d71.jpg  \n",
            "  inflating: yolov7Data/train/images/Image_19_jpg.rf.38d5d2b8b46530899c43152ad0b32428.jpg  \n",
            "  inflating: __MACOSX/yolov7Data/train/images/._Image_19_jpg.rf.38d5d2b8b46530899c43152ad0b32428.jpg  \n",
            "  inflating: yolov7Data/train/images/Image_127_JPG.rf.1aa1bbe190ef1f94574ce1b4bfb0e4e8.jpg  \n",
            "  inflating: __MACOSX/yolov7Data/train/images/._Image_127_JPG.rf.1aa1bbe190ef1f94574ce1b4bfb0e4e8.jpg  \n",
            "  inflating: yolov7Data/train/images/Screenshot-451-_png.rf.0a762d249a8133d740ae645d8120e807.jpg  \n",
            "  inflating: __MACOSX/yolov7Data/train/images/._Screenshot-451-_png.rf.0a762d249a8133d740ae645d8120e807.jpg  \n",
            "  inflating: yolov7Data/train/images/Image_55_jpg.rf.43d691faed8abcc36e125dce64ad1e73.jpg  \n",
            "  inflating: __MACOSX/yolov7Data/train/images/._Image_55_jpg.rf.43d691faed8abcc36e125dce64ad1e73.jpg  \n",
            "  inflating: yolov7Data/train/images/Image_59_jpg.rf.52c26d08e113075d2c5173db03ca2ee8.jpg  \n",
            "  inflating: __MACOSX/yolov7Data/train/images/._Image_59_jpg.rf.52c26d08e113075d2c5173db03ca2ee8.jpg  \n",
            "  inflating: yolov7Data/train/images/Image_117_jpg.rf.2fbff58d3f3a7fc5de29c9bb38ad64c9.jpg  \n",
            "  inflating: __MACOSX/yolov7Data/train/images/._Image_117_jpg.rf.2fbff58d3f3a7fc5de29c9bb38ad64c9.jpg  \n",
            "  inflating: yolov7Data/train/images/Screenshot-41-_png.rf.4561cc97cd7a32df10e8f3e0996a0617.jpg  \n",
            "  inflating: __MACOSX/yolov7Data/train/images/._Screenshot-41-_png.rf.4561cc97cd7a32df10e8f3e0996a0617.jpg  \n",
            "  inflating: yolov7Data/train/images/Image_43_jpg.rf.a51ecc6b5e31fefbc669098915468f57.jpg  \n",
            "  inflating: __MACOSX/yolov7Data/train/images/._Image_43_jpg.rf.a51ecc6b5e31fefbc669098915468f57.jpg  \n",
            "  inflating: yolov7Data/train/images/Screenshot-185-_png.rf.22e655f859fab05989408f5b7c1d5558.jpg  \n",
            "  inflating: __MACOSX/yolov7Data/train/images/._Screenshot-185-_png.rf.22e655f859fab05989408f5b7c1d5558.jpg  \n",
            "  inflating: yolov7Data/train/images/Screenshot-40-_png.rf.212670478293c7a5a8a5750d53d14af0.jpg  \n",
            "  inflating: __MACOSX/yolov7Data/train/images/._Screenshot-40-_png.rf.212670478293c7a5a8a5750d53d14af0.jpg  \n",
            "  inflating: yolov7Data/train/images/Screenshot-39-_png.rf.fa79c61359f3a2245fd7fe2c48eff4d9.jpg  \n",
            "  inflating: __MACOSX/yolov7Data/train/images/._Screenshot-39-_png.rf.fa79c61359f3a2245fd7fe2c48eff4d9.jpg  \n",
            "  inflating: yolov7Data/train/images/Screenshot-173-_png.rf.b7ce585ff4ab414dc6406435a4c1d97c.jpg  \n",
            "  inflating: __MACOSX/yolov7Data/train/images/._Screenshot-173-_png.rf.b7ce585ff4ab414dc6406435a4c1d97c.jpg  \n",
            "  inflating: yolov7Data/train/images/Screenshot-89-_png.rf.df2c7f48912fd7ff519adcc687030913.jpg  \n",
            "  inflating: __MACOSX/yolov7Data/train/images/._Screenshot-89-_png.rf.df2c7f48912fd7ff519adcc687030913.jpg  \n",
            "  inflating: yolov7Data/train/images/Image_139_JPG.rf.4420bc39e11328a238388f3f866db3ba.jpg  \n",
            "  inflating: __MACOSX/yolov7Data/train/images/._Image_139_JPG.rf.4420bc39e11328a238388f3f866db3ba.jpg  \n",
            "  inflating: yolov7Data/train/images/Image_119_jpg.rf.0d7b6050a0e067bb1e9227b71db0d0a7.jpg  \n",
            "  inflating: __MACOSX/yolov7Data/train/images/._Image_119_jpg.rf.0d7b6050a0e067bb1e9227b71db0d0a7.jpg  \n",
            "  inflating: yolov7Data/train/images/Screenshot-71-_png.rf.36744305a02722b8085507d679d8182c.jpg  \n",
            "  inflating: __MACOSX/yolov7Data/train/images/._Screenshot-71-_png.rf.36744305a02722b8085507d679d8182c.jpg  \n",
            "  inflating: yolov7Data/train/images/Image_111_jpg.rf.3c15aa4574859804eeec1c048dc2b4e5.jpg  \n",
            "  inflating: __MACOSX/yolov7Data/train/images/._Image_111_jpg.rf.3c15aa4574859804eeec1c048dc2b4e5.jpg  \n",
            "  inflating: yolov7Data/train/images/Screenshot-387-_png.rf.ef7316ae62287ed3828b0d2592eea96c.jpg  \n",
            "  inflating: __MACOSX/yolov7Data/train/images/._Screenshot-387-_png.rf.ef7316ae62287ed3828b0d2592eea96c.jpg  \n",
            "  inflating: yolov7Data/train/images/Image_48_jpg.rf.dcbd41e19a3d461740638521e3f39c98.jpg  \n",
            "  inflating: __MACOSX/yolov7Data/train/images/._Image_48_jpg.rf.dcbd41e19a3d461740638521e3f39c98.jpg  \n",
            "  inflating: yolov7Data/train/images/Image_78_jpg.rf.dff69385e397afd9786602548f9ca666.jpg  \n",
            "  inflating: __MACOSX/yolov7Data/train/images/._Image_78_jpg.rf.dff69385e397afd9786602548f9ca666.jpg  \n",
            "  inflating: yolov7Data/train/images/Image_41_jpg.rf.64d2dd03c4578e22a02f68cac83c9b8b.jpg  \n",
            "  inflating: __MACOSX/yolov7Data/train/images/._Image_41_jpg.rf.64d2dd03c4578e22a02f68cac83c9b8b.jpg  \n",
            "  inflating: yolov7Data/train/images/Image_57_jpg.rf.4731fda594dc8b723ef06b6b3be03f75.jpg  \n",
            "  inflating: __MACOSX/yolov7Data/train/images/._Image_57_jpg.rf.4731fda594dc8b723ef06b6b3be03f75.jpg  \n",
            "  inflating: yolov7Data/train/images/Image_102_jpg.rf.c30e490a0b49abdbbde5cda5d408a5a0.jpg  \n",
            "  inflating: __MACOSX/yolov7Data/train/images/._Image_102_jpg.rf.c30e490a0b49abdbbde5cda5d408a5a0.jpg  \n",
            "  inflating: yolov7Data/train/images/Image_64_jpg.rf.2c347fb5fdc2f24cb7f7e1613cf619d7.jpg  \n",
            "  inflating: __MACOSX/yolov7Data/train/images/._Image_64_jpg.rf.2c347fb5fdc2f24cb7f7e1613cf619d7.jpg  \n",
            "  inflating: yolov7Data/train/images/Image_88_jpg.rf.d21172ae6c5bdbcdf8b1aed34c62c778.jpg  \n",
            "  inflating: __MACOSX/yolov7Data/train/images/._Image_88_jpg.rf.d21172ae6c5bdbcdf8b1aed34c62c778.jpg  \n",
            "  inflating: yolov7Data/train/images/Screenshot-148-_png.rf.093f531c54bf200cf844fd5aa8a34324.jpg  \n",
            "  inflating: __MACOSX/yolov7Data/train/images/._Screenshot-148-_png.rf.093f531c54bf200cf844fd5aa8a34324.jpg  \n",
            "  inflating: yolov7Data/train/images/Image_108_jpg.rf.e64663f23a7b3925534fed1602ae07a3.jpg  \n",
            "  inflating: __MACOSX/yolov7Data/train/images/._Image_108_jpg.rf.e64663f23a7b3925534fed1602ae07a3.jpg  \n",
            "  inflating: yolov7Data/train/images/Image_7_png.rf.e41ae5fbe5fdd8aca84bed8aa705d2b1.jpg  \n",
            "  inflating: __MACOSX/yolov7Data/train/images/._Image_7_png.rf.e41ae5fbe5fdd8aca84bed8aa705d2b1.jpg  \n",
            "  inflating: yolov7Data/train/images/Image_49_jpg.rf.1ed79b2f957a30f1d0b22c065c498c25.jpg  \n",
            "  inflating: __MACOSX/yolov7Data/train/images/._Image_49_jpg.rf.1ed79b2f957a30f1d0b22c065c498c25.jpg  \n",
            "  inflating: yolov7Data/train/images/Image_26_jpg.rf.ecdb38b98bdb0dcdb9f473f91c6d5d23.jpg  \n",
            "  inflating: __MACOSX/yolov7Data/train/images/._Image_26_jpg.rf.ecdb38b98bdb0dcdb9f473f91c6d5d23.jpg  \n",
            "  inflating: yolov7Data/train/images/Image_188_jpg.rf.7f8cfd452d7672e54376068f2869ec75.jpg  \n",
            "  inflating: __MACOSX/yolov7Data/train/images/._Image_188_jpg.rf.7f8cfd452d7672e54376068f2869ec75.jpg  \n",
            "  inflating: yolov7Data/train/images/Image_160_jpg.rf.a421f47d0267d45cc8881a7cf8f95215.jpg  \n",
            "  inflating: __MACOSX/yolov7Data/train/images/._Image_160_jpg.rf.a421f47d0267d45cc8881a7cf8f95215.jpg  \n",
            "  inflating: yolov7Data/train/images/Screenshot-267-_png.rf.b6f6d03e92a282bc708f100d7d89edbb.jpg  \n",
            "  inflating: __MACOSX/yolov7Data/train/images/._Screenshot-267-_png.rf.b6f6d03e92a282bc708f100d7d89edbb.jpg  \n",
            "  inflating: yolov7Data/train/images/Screenshot-343-_png.rf.cc0106d88573844868d9a1d1af7a4c47.jpg  \n",
            "  inflating: __MACOSX/yolov7Data/train/images/._Screenshot-343-_png.rf.cc0106d88573844868d9a1d1af7a4c47.jpg  \n",
            "  inflating: yolov7Data/train/images/Image_75_jpg.rf.990bca769735880db254ffb719a0e076.jpg  \n",
            "  inflating: __MACOSX/yolov7Data/train/images/._Image_75_jpg.rf.990bca769735880db254ffb719a0e076.jpg  \n",
            "  inflating: yolov7Data/train/images/Image_124_jpg.rf.633d93ec464464adb7170f53ec5d3d85.jpg  \n",
            "  inflating: __MACOSX/yolov7Data/train/images/._Image_124_jpg.rf.633d93ec464464adb7170f53ec5d3d85.jpg  \n",
            "  inflating: yolov7Data/train/images/Image_82_jpg.rf.2d8a89555feb89141e6b8060f3037bff.jpg  \n",
            "  inflating: __MACOSX/yolov7Data/train/images/._Image_82_jpg.rf.2d8a89555feb89141e6b8060f3037bff.jpg  \n",
            "  inflating: yolov7Data/train/images/Image_97_jpg.rf.b6d2c973ddfd400cc49d1d4e50795a23.jpg  \n",
            "  inflating: __MACOSX/yolov7Data/train/images/._Image_97_jpg.rf.b6d2c973ddfd400cc49d1d4e50795a23.jpg  \n",
            "  inflating: yolov7Data/train/images/Screenshot-301-_png.rf.c625a52baec7c0b296ab50a3ee053de6.jpg  \n",
            "  inflating: __MACOSX/yolov7Data/train/images/._Screenshot-301-_png.rf.c625a52baec7c0b296ab50a3ee053de6.jpg  \n",
            "  inflating: yolov7Data/train/images/Image_48_jpg.rf.d20bf9e53312daf4b874ec9df880522d.jpg  \n",
            "  inflating: __MACOSX/yolov7Data/train/images/._Image_48_jpg.rf.d20bf9e53312daf4b874ec9df880522d.jpg  \n",
            "  inflating: yolov7Data/train/images/Image_36_jpeg.rf.d4af05552e05a319bc38ad0a8c1a3a97.jpg  \n",
            "  inflating: __MACOSX/yolov7Data/train/images/._Image_36_jpeg.rf.d4af05552e05a319bc38ad0a8c1a3a97.jpg  \n",
            "  inflating: yolov7Data/train/images/Image_127_jpg.rf.06357d28b11b62a25ee7d9a2293b44bd.jpg  \n",
            "  inflating: __MACOSX/yolov7Data/train/images/._Image_127_jpg.rf.06357d28b11b62a25ee7d9a2293b44bd.jpg  \n",
            "  inflating: yolov7Data/train/images/Image_134_jpg.rf.e79812fb6dc28ededeeed8822dd4b0e7.jpg  \n",
            "  inflating: __MACOSX/yolov7Data/train/images/._Image_134_jpg.rf.e79812fb6dc28ededeeed8822dd4b0e7.jpg  \n",
            "  inflating: yolov7Data/train/images/Image_104_jpg.rf.2e655cd75c09a933c88fbf77b9616fcc.jpg  \n",
            "  inflating: __MACOSX/yolov7Data/train/images/._Image_104_jpg.rf.2e655cd75c09a933c88fbf77b9616fcc.jpg  \n",
            "  inflating: yolov7Data/train/images/Image_134_JPG.rf.68b7ba087036b2b78e5cc5efd21ebbc2.jpg  \n",
            "  inflating: __MACOSX/yolov7Data/train/images/._Image_134_JPG.rf.68b7ba087036b2b78e5cc5efd21ebbc2.jpg  \n",
            "  inflating: yolov7Data/train/images/Screenshot-134-_png.rf.552067a59af07de74ba791610926dd27.jpg  \n",
            "  inflating: __MACOSX/yolov7Data/train/images/._Screenshot-134-_png.rf.552067a59af07de74ba791610926dd27.jpg  \n",
            "  inflating: yolov7Data/train/images/Screenshot-48-_png.rf.c4845aeacdc2db24633d0a37f53958aa.jpg  \n",
            "  inflating: __MACOSX/yolov7Data/train/images/._Screenshot-48-_png.rf.c4845aeacdc2db24633d0a37f53958aa.jpg  \n",
            "  inflating: yolov7Data/train/images/Image_114_jpg.rf.a847d398a9479a5c5c622c1fbcfa3764.jpg  \n",
            "  inflating: __MACOSX/yolov7Data/train/images/._Image_114_jpg.rf.a847d398a9479a5c5c622c1fbcfa3764.jpg  \n",
            "  inflating: yolov7Data/train/images/Image_114_jpg.rf.6359ce17ee4e697d2f56e7bb804d5213.jpg  \n",
            "  inflating: __MACOSX/yolov7Data/train/images/._Image_114_jpg.rf.6359ce17ee4e697d2f56e7bb804d5213.jpg  \n",
            "  inflating: yolov7Data/train/images/Image_77_jpg.rf.65072f62d04c723f9c4c06556cd0d831.jpg  \n",
            "  inflating: __MACOSX/yolov7Data/train/images/._Image_77_jpg.rf.65072f62d04c723f9c4c06556cd0d831.jpg  \n",
            "  inflating: yolov7Data/train/images/Image_10_jpg.rf.ae05efc5efc450179ea709016dc8f5ee.jpg  \n",
            "  inflating: __MACOSX/yolov7Data/train/images/._Image_10_jpg.rf.ae05efc5efc450179ea709016dc8f5ee.jpg  \n",
            "  inflating: yolov7Data/train/images/Image_9_jpg.rf.c447535e61d4d77e36aa6299ed5c659c.jpg  \n",
            "  inflating: __MACOSX/yolov7Data/train/images/._Image_9_jpg.rf.c447535e61d4d77e36aa6299ed5c659c.jpg  \n",
            "  inflating: yolov7Data/train/images/Image_78_jpg.rf.ae296510a039e99b9f1c74deb43a3f06.jpg  \n",
            "  inflating: __MACOSX/yolov7Data/train/images/._Image_78_jpg.rf.ae296510a039e99b9f1c74deb43a3f06.jpg  \n",
            "  inflating: yolov7Data/train/images/Screenshot-337-_png.rf.66810f81b61667a76d07386b3284cfe7.jpg  \n",
            "  inflating: __MACOSX/yolov7Data/train/images/._Screenshot-337-_png.rf.66810f81b61667a76d07386b3284cfe7.jpg  \n",
            "  inflating: yolov7Data/train/images/Screenshot-240-_png.rf.fcf54806e24a7e343cbdb1ee33371b9c.jpg  \n",
            "  inflating: __MACOSX/yolov7Data/train/images/._Screenshot-240-_png.rf.fcf54806e24a7e343cbdb1ee33371b9c.jpg  \n",
            "  inflating: yolov7Data/train/images/Screenshot-98-_png.rf.6058d9e51273cdc20540676726579156.jpg  \n",
            "  inflating: __MACOSX/yolov7Data/train/images/._Screenshot-98-_png.rf.6058d9e51273cdc20540676726579156.jpg  \n",
            "  inflating: yolov7Data/train/images/Screenshot-276-_png.rf.52e361a2ad4a630c30774812ca61d911.jpg  \n",
            "  inflating: __MACOSX/yolov7Data/train/images/._Screenshot-276-_png.rf.52e361a2ad4a630c30774812ca61d911.jpg  \n",
            "  inflating: yolov7Data/train/images/Image_85_jpg.rf.2597c8bafa062d1abaa3d55fe8bce3f6.jpg  \n",
            "  inflating: __MACOSX/yolov7Data/train/images/._Image_85_jpg.rf.2597c8bafa062d1abaa3d55fe8bce3f6.jpg  \n",
            "  inflating: yolov7Data/train/images/Screenshot-447-_png.rf.96d0d16a6bbc7db4f5685593f0c2b00d.jpg  \n",
            "  inflating: __MACOSX/yolov7Data/train/images/._Screenshot-447-_png.rf.96d0d16a6bbc7db4f5685593f0c2b00d.jpg  \n",
            "  inflating: yolov7Data/train/images/Image_103_jpg.rf.ce492f4cbb30fb7296d01f703eac2d9e.jpg  \n",
            "  inflating: __MACOSX/yolov7Data/train/images/._Image_103_jpg.rf.ce492f4cbb30fb7296d01f703eac2d9e.jpg  \n",
            "  inflating: yolov7Data/train/images/Image_37_jpg.rf.ec6865f7e30dafe1714dc988d0d693c4.jpg  \n",
            "  inflating: __MACOSX/yolov7Data/train/images/._Image_37_jpg.rf.ec6865f7e30dafe1714dc988d0d693c4.jpg  \n",
            "  inflating: yolov7Data/train/images/Image_90_jpg.rf.4da7523cd769e477a08730ef69153722.jpg  \n",
            "  inflating: __MACOSX/yolov7Data/train/images/._Image_90_jpg.rf.4da7523cd769e477a08730ef69153722.jpg  \n",
            "  inflating: yolov7Data/train/images/Image_126_jpg.rf.8e29ad463bece9316902a240a33dcebb.jpg  \n",
            "  inflating: __MACOSX/yolov7Data/train/images/._Image_126_jpg.rf.8e29ad463bece9316902a240a33dcebb.jpg  \n",
            "  inflating: yolov7Data/train/images/Screenshot-394-_png.rf.156e99217fd2e81d7f4a493b80ebfd0f.jpg  \n",
            "  inflating: __MACOSX/yolov7Data/train/images/._Screenshot-394-_png.rf.156e99217fd2e81d7f4a493b80ebfd0f.jpg  \n",
            "  inflating: yolov7Data/train/images/Image_104_jpg.rf.45e56cb482e3e9195b9d4fae152e2819.jpg  \n",
            "  inflating: __MACOSX/yolov7Data/train/images/._Image_104_jpg.rf.45e56cb482e3e9195b9d4fae152e2819.jpg  \n",
            "  inflating: yolov7Data/train/images/Screenshot-117-_png.rf.6fa1b17f94387053519cf2f2bfede945.jpg  \n",
            "  inflating: __MACOSX/yolov7Data/train/images/._Screenshot-117-_png.rf.6fa1b17f94387053519cf2f2bfede945.jpg  \n",
            "  inflating: yolov7Data/train/images/Image_161_jpg.rf.bb33a08de2f9cd7a79e5c3036166ef89.jpg  \n",
            "  inflating: __MACOSX/yolov7Data/train/images/._Image_161_jpg.rf.bb33a08de2f9cd7a79e5c3036166ef89.jpg  \n",
            "  inflating: yolov7Data/train/images/Screenshot-405-_png.rf.17067ae76e0fe41848da12c654785ebf.jpg  \n",
            "  inflating: __MACOSX/yolov7Data/train/images/._Screenshot-405-_png.rf.17067ae76e0fe41848da12c654785ebf.jpg  \n",
            "  inflating: yolov7Data/train/images/Image_155_jpg.rf.cf48f5d8c1c200b90d9a9566ca58be97.jpg  \n",
            "  inflating: __MACOSX/yolov7Data/train/images/._Image_155_jpg.rf.cf48f5d8c1c200b90d9a9566ca58be97.jpg  \n",
            "  inflating: yolov7Data/train/images/Screenshot-123-_png.rf.c89f736803e8630befc92ecac355bd84.jpg  \n",
            "  inflating: __MACOSX/yolov7Data/train/images/._Screenshot-123-_png.rf.c89f736803e8630befc92ecac355bd84.jpg  \n",
            "  inflating: yolov7Data/train/images/Image_108_jpg.rf.6f291ea41a7635cfb6d4863b82c60ca6.jpg  \n",
            "  inflating: __MACOSX/yolov7Data/train/images/._Image_108_jpg.rf.6f291ea41a7635cfb6d4863b82c60ca6.jpg  \n",
            "  inflating: yolov7Data/train/images/Image_18_jpg.rf.6fe3ff36d421d41a8910cffc0b55e0a4.jpg  \n",
            "  inflating: __MACOSX/yolov7Data/train/images/._Image_18_jpg.rf.6fe3ff36d421d41a8910cffc0b55e0a4.jpg  \n",
            "  inflating: yolov7Data/train/images/Screenshot-138-_png.rf.69c459953f9cab7c261dffc97751ed33.jpg  \n",
            "  inflating: __MACOSX/yolov7Data/train/images/._Screenshot-138-_png.rf.69c459953f9cab7c261dffc97751ed33.jpg  \n",
            "  inflating: yolov7Data/train/images/Screenshot-82-_png.rf.dd2576d1515d52517410c1a6402acb3d.jpg  \n",
            "  inflating: __MACOSX/yolov7Data/train/images/._Screenshot-82-_png.rf.dd2576d1515d52517410c1a6402acb3d.jpg  \n",
            "  inflating: yolov7Data/train/images/Image_47_jpg.rf.a2f681f790a0f5ed466bbf4b36a91e65.jpg  \n",
            "  inflating: __MACOSX/yolov7Data/train/images/._Image_47_jpg.rf.a2f681f790a0f5ed466bbf4b36a91e65.jpg  \n",
            "  inflating: yolov7Data/train/images/Image_142_jpg.rf.f0c6356603aeb9f93972eb22c5243ce2.jpg  \n",
            "  inflating: __MACOSX/yolov7Data/train/images/._Image_142_jpg.rf.f0c6356603aeb9f93972eb22c5243ce2.jpg  \n",
            "  inflating: yolov7Data/train/images/Screenshot-159-_png.rf.ac3c05b4b9ecd97705aad867ba1e9671.jpg  \n",
            "  inflating: __MACOSX/yolov7Data/train/images/._Screenshot-159-_png.rf.ac3c05b4b9ecd97705aad867ba1e9671.jpg  \n",
            "  inflating: yolov7Data/train/images/Image_104_jpg.rf.2d7a3c0e7b39d779f98bb6893182ef90.jpg  \n",
            "  inflating: __MACOSX/yolov7Data/train/images/._Image_104_jpg.rf.2d7a3c0e7b39d779f98bb6893182ef90.jpg  \n",
            "  inflating: yolov7Data/train/images/Image_117_jpg.rf.14a29e7b4875cf8e2bad4a90743cfa1a.jpg  \n",
            "  inflating: __MACOSX/yolov7Data/train/images/._Image_117_jpg.rf.14a29e7b4875cf8e2bad4a90743cfa1a.jpg  \n",
            "  inflating: yolov7Data/train/images/Screenshot-139-_png.rf.74ac2186716b24ad6200d0ba253c0552.jpg  \n",
            "  inflating: __MACOSX/yolov7Data/train/images/._Screenshot-139-_png.rf.74ac2186716b24ad6200d0ba253c0552.jpg  \n",
            "  inflating: yolov7Data/train/images/Screenshot-29-_png.rf.859c5069d44488fcbbac5c662b0e45a2.jpg  \n",
            "  inflating: __MACOSX/yolov7Data/train/images/._Screenshot-29-_png.rf.859c5069d44488fcbbac5c662b0e45a2.jpg  \n",
            "  inflating: yolov7Data/train/images/Image_176_jpg.rf.c5989bc4081ac846ab45c9ed7b2b94eb.jpg  \n",
            "  inflating: __MACOSX/yolov7Data/train/images/._Image_176_jpg.rf.c5989bc4081ac846ab45c9ed7b2b94eb.jpg  \n",
            "  inflating: yolov7Data/train/images/Screenshot-388-_png.rf.cc89019b21186f788631ca504ac8a8d8.jpg  \n",
            "  inflating: __MACOSX/yolov7Data/train/images/._Screenshot-388-_png.rf.cc89019b21186f788631ca504ac8a8d8.jpg  \n",
            "  inflating: yolov7Data/train/images/Screenshot-33-_png.rf.26c9a59c7780077c8288cae48a463358.jpg  \n",
            "  inflating: __MACOSX/yolov7Data/train/images/._Screenshot-33-_png.rf.26c9a59c7780077c8288cae48a463358.jpg  \n",
            "  inflating: yolov7Data/train/images/Screenshot-244-_png.rf.cfaddc447766521df384cc1a1768ec27.jpg  \n",
            "  inflating: __MACOSX/yolov7Data/train/images/._Screenshot-244-_png.rf.cfaddc447766521df384cc1a1768ec27.jpg  \n",
            "  inflating: yolov7Data/train/images/Screenshot-333-_png.rf.1ccd20330e2db790844612e0bd1ce903.jpg  \n",
            "  inflating: __MACOSX/yolov7Data/train/images/._Screenshot-333-_png.rf.1ccd20330e2db790844612e0bd1ce903.jpg  \n",
            "  inflating: yolov7Data/train/images/Screenshot-381-_png.rf.0b7104af51422e03b1953ece33b8f3c8.jpg  \n",
            "  inflating: __MACOSX/yolov7Data/train/images/._Screenshot-381-_png.rf.0b7104af51422e03b1953ece33b8f3c8.jpg  \n",
            "  inflating: yolov7Data/train/images/Image_70_jpg.rf.2dbff1a084d3c57854fce449cf0b2108.jpg  \n",
            "  inflating: __MACOSX/yolov7Data/train/images/._Image_70_jpg.rf.2dbff1a084d3c57854fce449cf0b2108.jpg  \n",
            "  inflating: yolov7Data/train/images/Screenshot-433-_png.rf.994a3228d3ec5e004f491a45117c9d74.jpg  \n",
            "  inflating: __MACOSX/yolov7Data/train/images/._Screenshot-433-_png.rf.994a3228d3ec5e004f491a45117c9d74.jpg  \n",
            "  inflating: yolov7Data/train/images/Image_59_jpg.rf.950165340fd39a242b84f119ccdfb07a.jpg  \n",
            "  inflating: __MACOSX/yolov7Data/train/images/._Image_59_jpg.rf.950165340fd39a242b84f119ccdfb07a.jpg  \n",
            "  inflating: yolov7Data/train/images/Screenshot-195-_png.rf.a50cac4862aa1c755c639355a1532486.jpg  \n",
            "  inflating: __MACOSX/yolov7Data/train/images/._Screenshot-195-_png.rf.a50cac4862aa1c755c639355a1532486.jpg  \n",
            "  inflating: yolov7Data/train/images/Image_56_jpg.rf.49ed7ce78ee42ce5b0f00ffda045ea3c.jpg  \n",
            "  inflating: __MACOSX/yolov7Data/train/images/._Image_56_jpg.rf.49ed7ce78ee42ce5b0f00ffda045ea3c.jpg  \n",
            "  inflating: yolov7Data/train/images/Image_158_jpg.rf.79c721ba9d0101a4bb9218df51ab4d7c.jpg  \n",
            "  inflating: __MACOSX/yolov7Data/train/images/._Image_158_jpg.rf.79c721ba9d0101a4bb9218df51ab4d7c.jpg  \n",
            "  inflating: yolov7Data/train/images/Image_84_jpg.rf.ea3e1f4b2f5abe15d70c2323b0520dec.jpg  \n",
            "  inflating: __MACOSX/yolov7Data/train/images/._Image_84_jpg.rf.ea3e1f4b2f5abe15d70c2323b0520dec.jpg  \n",
            "  inflating: yolov7Data/train/images/Image_100_jpg.rf.f2a6bf4b271d423ab588610661b117f8.jpg  \n",
            "  inflating: __MACOSX/yolov7Data/train/images/._Image_100_jpg.rf.f2a6bf4b271d423ab588610661b117f8.jpg  \n",
            "  inflating: yolov7Data/train/images/Screenshot-237-_png.rf.f79847347b5d6432061afaa18951d1f8.jpg  \n",
            "  inflating: __MACOSX/yolov7Data/train/images/._Screenshot-237-_png.rf.f79847347b5d6432061afaa18951d1f8.jpg  \n",
            "  inflating: yolov7Data/train/images/Screenshot-253-_png.rf.66d6865f21d1ca38eb69290f1e19125f.jpg  \n",
            "  inflating: __MACOSX/yolov7Data/train/images/._Screenshot-253-_png.rf.66d6865f21d1ca38eb69290f1e19125f.jpg  \n",
            "  inflating: yolov7Data/train/images/Screenshot-58-_png.rf.4de8858c74f28dc387230caaae552283.jpg  \n",
            "  inflating: __MACOSX/yolov7Data/train/images/._Screenshot-58-_png.rf.4de8858c74f28dc387230caaae552283.jpg  \n",
            "  inflating: yolov7Data/train/images/Image_147_jpg.rf.c9e8cdb9f5d02e678ad17b6f90ce31f2.jpg  \n",
            "  inflating: __MACOSX/yolov7Data/train/images/._Image_147_jpg.rf.c9e8cdb9f5d02e678ad17b6f90ce31f2.jpg  \n",
            "  inflating: yolov7Data/train/images/Image_64_jpg.rf.c8d5837a3dcd4cfec37c812ec4c046a2.jpg  \n",
            "  inflating: __MACOSX/yolov7Data/train/images/._Image_64_jpg.rf.c8d5837a3dcd4cfec37c812ec4c046a2.jpg  \n",
            "  inflating: yolov7Data/train/images/Screenshot-318-_png.rf.e4b2beaac9e9ff20555fec9969ba6afd.jpg  \n",
            "  inflating: __MACOSX/yolov7Data/train/images/._Screenshot-318-_png.rf.e4b2beaac9e9ff20555fec9969ba6afd.jpg  \n",
            "  inflating: yolov7Data/train/images/Image_127_jpg.rf.b5d3a07a8890d306535533468de64406.jpg  \n",
            "  inflating: __MACOSX/yolov7Data/train/images/._Image_127_jpg.rf.b5d3a07a8890d306535533468de64406.jpg  \n",
            "  inflating: yolov7Data/train/images/Image_3_jpg.rf.20770984dc9d3b5583232d858d2647a2.jpg  \n",
            "  inflating: __MACOSX/yolov7Data/train/images/._Image_3_jpg.rf.20770984dc9d3b5583232d858d2647a2.jpg  \n",
            "  inflating: yolov7Data/train/images/Image_94_jpg.rf.04b752183bbc95763bc6ea8e56e6740d.jpg  \n",
            "  inflating: __MACOSX/yolov7Data/train/images/._Image_94_jpg.rf.04b752183bbc95763bc6ea8e56e6740d.jpg  \n",
            "  inflating: yolov7Data/train/images/Image_74_jpeg.rf.02e8ba0adce922703470cd5bea4b9ef8.jpg  \n",
            "  inflating: __MACOSX/yolov7Data/train/images/._Image_74_jpeg.rf.02e8ba0adce922703470cd5bea4b9ef8.jpg  \n",
            "  inflating: yolov7Data/train/images/Screenshot-38-_png.rf.d7c63b9b400abcbcd493cd6f1f6a04ea.jpg  \n",
            "  inflating: __MACOSX/yolov7Data/train/images/._Screenshot-38-_png.rf.d7c63b9b400abcbcd493cd6f1f6a04ea.jpg  \n",
            "  inflating: yolov7Data/train/images/Image_132_jpg.rf.fc3a139580c727c4c470019b1694c8cc.jpg  \n",
            "  inflating: __MACOSX/yolov7Data/train/images/._Image_132_jpg.rf.fc3a139580c727c4c470019b1694c8cc.jpg  \n",
            "  inflating: yolov7Data/train/images/Screenshot-260-_png.rf.4772d2dbfd7fbdeaed46778ffa04fdd4.jpg  \n",
            "  inflating: __MACOSX/yolov7Data/train/images/._Screenshot-260-_png.rf.4772d2dbfd7fbdeaed46778ffa04fdd4.jpg  \n",
            "  inflating: yolov7Data/train/images/Image_53_jpg.rf.72ed423ccf77c7787885702590e98311.jpg  \n",
            "  inflating: __MACOSX/yolov7Data/train/images/._Image_53_jpg.rf.72ed423ccf77c7787885702590e98311.jpg  \n",
            "  inflating: yolov7Data/train/images/Image_66_jpg.rf.00910748c4ff46c68d00d2ab5f1bbc7d.jpg  \n",
            "  inflating: __MACOSX/yolov7Data/train/images/._Image_66_jpg.rf.00910748c4ff46c68d00d2ab5f1bbc7d.jpg  \n",
            "  inflating: yolov7Data/train/images/Screenshot-422-_png.rf.0ca21657765f63d5bba35d83c369e370.jpg  \n",
            "  inflating: __MACOSX/yolov7Data/train/images/._Screenshot-422-_png.rf.0ca21657765f63d5bba35d83c369e370.jpg  \n",
            "  inflating: yolov7Data/train/images/Image_140_jpg.rf.6d3ea8797a3cbabd5af73b699e64bd23.jpg  \n",
            "  inflating: __MACOSX/yolov7Data/train/images/._Image_140_jpg.rf.6d3ea8797a3cbabd5af73b699e64bd23.jpg  \n",
            "  inflating: yolov7Data/train/images/Image_25_jpg.rf.a95c6b57a442745f5e7cd5cb94c21ae0.jpg  \n",
            "  inflating: __MACOSX/yolov7Data/train/images/._Image_25_jpg.rf.a95c6b57a442745f5e7cd5cb94c21ae0.jpg  \n",
            "  inflating: yolov7Data/train/images/Screenshot-135-_png.rf.56daffcc9c1eab1e2450343625da5b14.jpg  \n",
            "  inflating: __MACOSX/yolov7Data/train/images/._Screenshot-135-_png.rf.56daffcc9c1eab1e2450343625da5b14.jpg  \n",
            "  inflating: yolov7Data/train/images/Image_63_jpeg.rf.3a98a71dcfccb031cde4fd825870715d.jpg  \n",
            "  inflating: __MACOSX/yolov7Data/train/images/._Image_63_jpeg.rf.3a98a71dcfccb031cde4fd825870715d.jpg  \n",
            "  inflating: yolov7Data/train/images/Image_54_jpg.rf.22e86bb69af26b10b6541ec1fe91686e.jpg  \n",
            "  inflating: __MACOSX/yolov7Data/train/images/._Image_54_jpg.rf.22e86bb69af26b10b6541ec1fe91686e.jpg  \n",
            "  inflating: yolov7Data/train/images/Screenshot-413-_png.rf.bb4217064332b9fed9bad0d483fbc227.jpg  \n",
            "  inflating: __MACOSX/yolov7Data/train/images/._Screenshot-413-_png.rf.bb4217064332b9fed9bad0d483fbc227.jpg  \n",
            "  inflating: yolov7Data/train/images/Screenshot-284-_png.rf.0ddeac785e937e9d4a859364997663bb.jpg  \n",
            "  inflating: __MACOSX/yolov7Data/train/images/._Screenshot-284-_png.rf.0ddeac785e937e9d4a859364997663bb.jpg  \n",
            "  inflating: yolov7Data/train/images/Image_50_jpg.rf.1e5946f369984c4584790cc8dece8536.jpg  \n",
            "  inflating: __MACOSX/yolov7Data/train/images/._Image_50_jpg.rf.1e5946f369984c4584790cc8dece8536.jpg  \n",
            "  inflating: yolov7Data/train/images/Image_11_jpg.rf.a7f25965caa5e2349ac0ced7a15b5948.jpg  \n",
            "  inflating: __MACOSX/yolov7Data/train/images/._Image_11_jpg.rf.a7f25965caa5e2349ac0ced7a15b5948.jpg  \n",
            "  inflating: yolov7Data/train/images/Image_143_jpg.rf.4e04b933572373f4eed5083eaec3298c.jpg  \n",
            "  inflating: __MACOSX/yolov7Data/train/images/._Image_143_jpg.rf.4e04b933572373f4eed5083eaec3298c.jpg  \n",
            "  inflating: yolov7Data/train/images/Image_28_jpg.rf.c48b3dfeb88b4721e203f16a942280e6.jpg  \n",
            "  inflating: __MACOSX/yolov7Data/train/images/._Image_28_jpg.rf.c48b3dfeb88b4721e203f16a942280e6.jpg  \n",
            "  inflating: yolov7Data/train/images/Image_176_jpg.rf.4eced97d3bf0d3919f809fb094f6e440.jpg  \n",
            "  inflating: __MACOSX/yolov7Data/train/images/._Image_176_jpg.rf.4eced97d3bf0d3919f809fb094f6e440.jpg  \n",
            "  inflating: yolov7Data/train/images/Image_56_JPG.rf.e7ab629388221807c548d48d8391e5b1.jpg  \n",
            "  inflating: __MACOSX/yolov7Data/train/images/._Image_56_JPG.rf.e7ab629388221807c548d48d8391e5b1.jpg  \n",
            "  inflating: yolov7Data/train/images/Image_31_jpg.rf.9c0b9a153627515383d78a97d76bc5ae.jpg  \n",
            "  inflating: __MACOSX/yolov7Data/train/images/._Image_31_jpg.rf.9c0b9a153627515383d78a97d76bc5ae.jpg  \n",
            "  inflating: yolov7Data/train/images/Image_65_jpg.rf.7942b6cce219ae04e53346cc182c3316.jpg  \n",
            "  inflating: __MACOSX/yolov7Data/train/images/._Image_65_jpg.rf.7942b6cce219ae04e53346cc182c3316.jpg  \n",
            "  inflating: yolov7Data/train/images/Image_139_jpg.rf.68d1ee773989e78dc078c2ce88ba4752.jpg  \n",
            "  inflating: __MACOSX/yolov7Data/train/images/._Image_139_jpg.rf.68d1ee773989e78dc078c2ce88ba4752.jpg  \n",
            "  inflating: yolov7Data/train/images/Screenshot-141-_png.rf.74237d47e0cb512a4f6b9cc9e44ca424.jpg  \n",
            "  inflating: __MACOSX/yolov7Data/train/images/._Screenshot-141-_png.rf.74237d47e0cb512a4f6b9cc9e44ca424.jpg  \n",
            "  inflating: yolov7Data/train/images/Image_14_jpg.rf.36d3aa9b7588446fe2a7d47ea446db2e.jpg  \n",
            "  inflating: __MACOSX/yolov7Data/train/images/._Image_14_jpg.rf.36d3aa9b7588446fe2a7d47ea446db2e.jpg  \n",
            "  inflating: yolov7Data/train/images/Image_45_jpg.rf.d2b2841f3ce3e2f38d429b3be7b8c1ad.jpg  \n",
            "  inflating: __MACOSX/yolov7Data/train/images/._Image_45_jpg.rf.d2b2841f3ce3e2f38d429b3be7b8c1ad.jpg  \n",
            "  inflating: yolov7Data/train/images/Screenshot-438-_png.rf.5df4ced498a72ad28fe52bf91277cc24.jpg  \n",
            "  inflating: __MACOSX/yolov7Data/train/images/._Screenshot-438-_png.rf.5df4ced498a72ad28fe52bf91277cc24.jpg  \n",
            "  inflating: yolov7Data/train/images/Screenshot-307-_png.rf.8a96b8208e634f8d42eb0b2cd41f7fa1.jpg  \n",
            "  inflating: __MACOSX/yolov7Data/train/images/._Screenshot-307-_png.rf.8a96b8208e634f8d42eb0b2cd41f7fa1.jpg  \n",
            "  inflating: yolov7Data/train/images/Image_186_jpg.rf.ab86d4c6b2a4ec98ce0117f3ad7ad55b.jpg  \n",
            "  inflating: __MACOSX/yolov7Data/train/images/._Image_186_jpg.rf.ab86d4c6b2a4ec98ce0117f3ad7ad55b.jpg  \n",
            "  inflating: yolov7Data/train/images/Screenshot-392-_png.rf.e373ffdb11df81d728a59d2ac527a9ec.jpg  \n",
            "  inflating: __MACOSX/yolov7Data/train/images/._Screenshot-392-_png.rf.e373ffdb11df81d728a59d2ac527a9ec.jpg  \n",
            "  inflating: yolov7Data/train/images/Image_32_jpg.rf.482eb63f0b4077370f044f4a573830d8.jpg  \n",
            "  inflating: __MACOSX/yolov7Data/train/images/._Image_32_jpg.rf.482eb63f0b4077370f044f4a573830d8.jpg  \n",
            "  inflating: yolov7Data/train/images/Screenshot-223-_png.rf.a2ad7b02ace4a98b882ea7eee0f0cdb6.jpg  \n",
            "  inflating: __MACOSX/yolov7Data/train/images/._Screenshot-223-_png.rf.a2ad7b02ace4a98b882ea7eee0f0cdb6.jpg  \n",
            "  inflating: yolov7Data/train/images/Image_60_jpg.rf.2c09c69fdc3237aa4be9f6f13f9d4816.jpg  \n",
            "  inflating: __MACOSX/yolov7Data/train/images/._Image_60_jpg.rf.2c09c69fdc3237aa4be9f6f13f9d4816.jpg  \n",
            "  inflating: yolov7Data/train/images/Screenshot-187-_png.rf.ecf0d0eb072ab1740ab3aeb18ea71d4c.jpg  \n",
            "  inflating: __MACOSX/yolov7Data/train/images/._Screenshot-187-_png.rf.ecf0d0eb072ab1740ab3aeb18ea71d4c.jpg  \n",
            "  inflating: yolov7Data/train/images/Screenshot-113-_png.rf.d297d1046770265d8ed8b97c57892894.jpg  \n",
            "  inflating: __MACOSX/yolov7Data/train/images/._Screenshot-113-_png.rf.d297d1046770265d8ed8b97c57892894.jpg  \n",
            "  inflating: yolov7Data/train/images/Screenshot-420-_png.rf.f975977ab635b02f733d90eea6808fd2.jpg  \n",
            "  inflating: __MACOSX/yolov7Data/train/images/._Screenshot-420-_png.rf.f975977ab635b02f733d90eea6808fd2.jpg  \n",
            "  inflating: yolov7Data/train/images/Screenshot-226-_png.rf.34abfabb3380482a7e4d972b48965f29.jpg  \n",
            "  inflating: __MACOSX/yolov7Data/train/images/._Screenshot-226-_png.rf.34abfabb3380482a7e4d972b48965f29.jpg  \n",
            "  inflating: yolov7Data/train/images/Image_87_jpg.rf.0ebc43e6fdaa066219cf096f651ca484.jpg  \n",
            "  inflating: __MACOSX/yolov7Data/train/images/._Image_87_jpg.rf.0ebc43e6fdaa066219cf096f651ca484.jpg  \n",
            "  inflating: yolov7Data/train/images/Image_140_jpg.rf.f3e45ab091b9640508973a9be6f67422.jpg  \n",
            "  inflating: __MACOSX/yolov7Data/train/images/._Image_140_jpg.rf.f3e45ab091b9640508973a9be6f67422.jpg  \n",
            "  inflating: yolov7Data/train/images/Image_20_jpeg.rf.75a7ca316c43190a7f7ca0d72b51c1b5.jpg  \n",
            "  inflating: __MACOSX/yolov7Data/train/images/._Image_20_jpeg.rf.75a7ca316c43190a7f7ca0d72b51c1b5.jpg  \n",
            "  inflating: yolov7Data/train/images/Screenshot-411-_png.rf.7eb6b61a63e5ed06ca5d0218518d4d08.jpg  \n",
            "  inflating: __MACOSX/yolov7Data/train/images/._Screenshot-411-_png.rf.7eb6b61a63e5ed06ca5d0218518d4d08.jpg  \n",
            "  inflating: yolov7Data/train/images/Image_12_jpg.rf.04dd64fefe02e0350baeeef2edc83572.jpg  \n",
            "  inflating: __MACOSX/yolov7Data/train/images/._Image_12_jpg.rf.04dd64fefe02e0350baeeef2edc83572.jpg  \n",
            "  inflating: yolov7Data/train/images/Image_138_jpg.rf.2716951aba8735e7a5d5fdb95c5cd7ed.jpg  \n",
            "  inflating: __MACOSX/yolov7Data/train/images/._Image_138_jpg.rf.2716951aba8735e7a5d5fdb95c5cd7ed.jpg  \n",
            "  inflating: yolov7Data/train/images/Screenshot-242-_png.rf.f164ef4283a3627a430ad88835e32e48.jpg  \n",
            "  inflating: __MACOSX/yolov7Data/train/images/._Screenshot-242-_png.rf.f164ef4283a3627a430ad88835e32e48.jpg  \n",
            "  inflating: yolov7Data/train/images/Image_171_jpg.rf.cade34a1a4cb8b20810116cdc04b8832.jpg  \n",
            "  inflating: __MACOSX/yolov7Data/train/images/._Image_171_jpg.rf.cade34a1a4cb8b20810116cdc04b8832.jpg  \n",
            "  inflating: yolov7Data/train/images/Image_47_jpg.rf.85fd4afdfc864cf196cf84d9cf295c98.jpg  \n",
            "  inflating: __MACOSX/yolov7Data/train/images/._Image_47_jpg.rf.85fd4afdfc864cf196cf84d9cf295c98.jpg  \n",
            "  inflating: yolov7Data/train/images/Image_75_jpg.rf.e399a3a541f7cd30dc0f004f9ab82945.jpg  \n",
            "  inflating: __MACOSX/yolov7Data/train/images/._Image_75_jpg.rf.e399a3a541f7cd30dc0f004f9ab82945.jpg  \n",
            "  inflating: yolov7Data/train/images/Screenshot-266-_png.rf.429fd1b0341f1ddb1e42756a71ccb568.jpg  \n",
            "  inflating: __MACOSX/yolov7Data/train/images/._Screenshot-266-_png.rf.429fd1b0341f1ddb1e42756a71ccb568.jpg  \n",
            "  inflating: yolov7Data/train/images/Image_56_jpg.rf.2413dfb97ea0c9ed4b324b8da8087e71.jpg  \n",
            "  inflating: __MACOSX/yolov7Data/train/images/._Image_56_jpg.rf.2413dfb97ea0c9ed4b324b8da8087e71.jpg  \n",
            "  inflating: yolov7Data/train/images/Image_54_jpg.rf.72f56d7ef333cf5e9fbc1ad056b0aa19.jpg  \n",
            "  inflating: __MACOSX/yolov7Data/train/images/._Image_54_jpg.rf.72f56d7ef333cf5e9fbc1ad056b0aa19.jpg  \n",
            "  inflating: yolov7Data/train/images/Screenshot-105-_png.rf.3720864a1e536581241e34f406a0e768.jpg  \n",
            "  inflating: __MACOSX/yolov7Data/train/images/._Screenshot-105-_png.rf.3720864a1e536581241e34f406a0e768.jpg  \n",
            "  inflating: yolov7Data/train/images/Image_145_jpg.rf.be966b775d01d92479f1c69467eaa496.jpg  \n",
            "  inflating: __MACOSX/yolov7Data/train/images/._Image_145_jpg.rf.be966b775d01d92479f1c69467eaa496.jpg  \n",
            "  inflating: yolov7Data/train/images/Image_67_jpg.rf.9cc120edf2a0fe498d0167cb66a6e90a.jpg  \n",
            "  inflating: __MACOSX/yolov7Data/train/images/._Image_67_jpg.rf.9cc120edf2a0fe498d0167cb66a6e90a.jpg  \n",
            "  inflating: yolov7Data/train/images/Screenshot-53-_png.rf.34d21f96e9d2fbd5002d4d00ed6a9220.jpg  \n",
            "  inflating: __MACOSX/yolov7Data/train/images/._Screenshot-53-_png.rf.34d21f96e9d2fbd5002d4d00ed6a9220.jpg  \n",
            "  inflating: yolov7Data/train/images/Screenshot-151-_png.rf.03536df1b43dae0e2c2a7ef0b3a2dcbb.jpg  \n",
            "  inflating: __MACOSX/yolov7Data/train/images/._Screenshot-151-_png.rf.03536df1b43dae0e2c2a7ef0b3a2dcbb.jpg  \n",
            "  inflating: yolov7Data/train/images/Image_167_jpg.rf.423c23f0232e358c87aec576ab17d405.jpg  \n",
            "  inflating: __MACOSX/yolov7Data/train/images/._Image_167_jpg.rf.423c23f0232e358c87aec576ab17d405.jpg  \n",
            "  inflating: yolov7Data/train/images/Screenshot-59-_png.rf.0bdb2d4cc5e76c52b895e26c96effcab.jpg  \n",
            "  inflating: __MACOSX/yolov7Data/train/images/._Screenshot-59-_png.rf.0bdb2d4cc5e76c52b895e26c96effcab.jpg  \n",
            "  inflating: yolov7Data/train/images/Image_2_jpg.rf.e75117ee9230850465bb9e62455e958a.jpg  \n",
            "  inflating: __MACOSX/yolov7Data/train/images/._Image_2_jpg.rf.e75117ee9230850465bb9e62455e958a.jpg  \n",
            "  inflating: yolov7Data/train/images/Image_77_jpg.rf.a65501a5f8d8c147e1ba4cf81e1771db.jpg  \n",
            "  inflating: __MACOSX/yolov7Data/train/images/._Image_77_jpg.rf.a65501a5f8d8c147e1ba4cf81e1771db.jpg  \n",
            "  inflating: yolov7Data/train/images/Screenshot-108-_png.rf.740b710e0a1ea8f787a45749123cb5ab.jpg  \n",
            "  inflating: __MACOSX/yolov7Data/train/images/._Screenshot-108-_png.rf.740b710e0a1ea8f787a45749123cb5ab.jpg  \n",
            "  inflating: yolov7Data/train/images/Image_165_jpg.rf.2f6528b6f12a618a4a8bc2f5c467438a.jpg  \n",
            "  inflating: __MACOSX/yolov7Data/train/images/._Image_165_jpg.rf.2f6528b6f12a618a4a8bc2f5c467438a.jpg  \n",
            "  inflating: yolov7Data/train/images/Screenshot-449-_png.rf.0f3f1ae17255b99a959548322a4cadee.jpg  \n",
            "  inflating: __MACOSX/yolov7Data/train/images/._Screenshot-449-_png.rf.0f3f1ae17255b99a959548322a4cadee.jpg  \n",
            "  inflating: yolov7Data/train/images/Screenshot-131-_png.rf.84a445c754e2c7b954f4ce0bc88e65b1.jpg  \n",
            "  inflating: __MACOSX/yolov7Data/train/images/._Screenshot-131-_png.rf.84a445c754e2c7b954f4ce0bc88e65b1.jpg  \n",
            "  inflating: yolov7Data/train/images/Image_51_jpg.rf.21a8ca2784607b51c8d6aad4ed1c45a4.jpg  \n",
            "  inflating: __MACOSX/yolov7Data/train/images/._Image_51_jpg.rf.21a8ca2784607b51c8d6aad4ed1c45a4.jpg  \n",
            "  inflating: yolov7Data/train/images/Image_38_jpg.rf.1239a3f32d6e7536a4828cfa4c8f47ff.jpg  \n",
            "  inflating: __MACOSX/yolov7Data/train/images/._Image_38_jpg.rf.1239a3f32d6e7536a4828cfa4c8f47ff.jpg  \n",
            "  inflating: yolov7Data/train/images/Image_97_JPG.rf.a657d733aa231280385a323045b3a84b.jpg  \n",
            "  inflating: __MACOSX/yolov7Data/train/images/._Image_97_JPG.rf.a657d733aa231280385a323045b3a84b.jpg  \n",
            "  inflating: yolov7Data/train/images/Screenshot-454-_png.rf.edaebddf33c8d9252572ee686ca62eb1.jpg  \n",
            "  inflating: __MACOSX/yolov7Data/train/images/._Screenshot-454-_png.rf.edaebddf33c8d9252572ee686ca62eb1.jpg  \n",
            "  inflating: yolov7Data/train/images/Image_13_jpg.rf.269469f19e9b0793004f7e2d262284f2.jpg  \n",
            "  inflating: __MACOSX/yolov7Data/train/images/._Image_13_jpg.rf.269469f19e9b0793004f7e2d262284f2.jpg  \n",
            "  inflating: yolov7Data/train/images/Image_30_jpg.rf.528c25503869159c49cc6c40cc349dbb.jpg  \n",
            "  inflating: __MACOSX/yolov7Data/train/images/._Image_30_jpg.rf.528c25503869159c49cc6c40cc349dbb.jpg  \n",
            "  inflating: yolov7Data/train/images/Image_144_jpg.rf.8934a8e0811df13b937298e3132c5b99.jpg  \n",
            "  inflating: __MACOSX/yolov7Data/train/images/._Image_144_jpg.rf.8934a8e0811df13b937298e3132c5b99.jpg  \n",
            "  inflating: yolov7Data/train/images/Screenshot-273-_png.rf.f31bc05582e21a614326a9a722ef148c.jpg  \n",
            "  inflating: __MACOSX/yolov7Data/train/images/._Screenshot-273-_png.rf.f31bc05582e21a614326a9a722ef148c.jpg  \n",
            "  inflating: yolov7Data/train/images/Screenshot-167-_png.rf.af45108d33fab8102b336c83e8256af6.jpg  \n",
            "  inflating: __MACOSX/yolov7Data/train/images/._Screenshot-167-_png.rf.af45108d33fab8102b336c83e8256af6.jpg  \n",
            "  inflating: yolov7Data/train/images/Image_98_jpg.rf.2cbc09091fac83ea2827c2479070153d.jpg  \n",
            "  inflating: __MACOSX/yolov7Data/train/images/._Image_98_jpg.rf.2cbc09091fac83ea2827c2479070153d.jpg  \n",
            "  inflating: yolov7Data/train/images/Image_113_jpg.rf.0e6a73336fed8155665ccab874928ff6.jpg  \n",
            "  inflating: __MACOSX/yolov7Data/train/images/._Image_113_jpg.rf.0e6a73336fed8155665ccab874928ff6.jpg  \n",
            "  inflating: yolov7Data/train/images/Screenshot-277-_png.rf.8f83caf0c17eec633c465582f9fd6af9.jpg  \n",
            "  inflating: __MACOSX/yolov7Data/train/images/._Screenshot-277-_png.rf.8f83caf0c17eec633c465582f9fd6af9.jpg  \n",
            "  inflating: yolov7Data/train/images/Screenshot-191-_png.rf.fe09136138b76c8001f99f7f91a37689.jpg  \n",
            "  inflating: __MACOSX/yolov7Data/train/images/._Screenshot-191-_png.rf.fe09136138b76c8001f99f7f91a37689.jpg  \n",
            "  inflating: yolov7Data/train/images/Image_122_jpg.rf.8371e84bcddec640cbacce70b2122adc.jpg  \n",
            "  inflating: __MACOSX/yolov7Data/train/images/._Image_122_jpg.rf.8371e84bcddec640cbacce70b2122adc.jpg  \n",
            "  inflating: yolov7Data/train/images/Screenshot-199-_png.rf.f9005aa6bfa56b430c805934e678af22.jpg  \n",
            "  inflating: __MACOSX/yolov7Data/train/images/._Screenshot-199-_png.rf.f9005aa6bfa56b430c805934e678af22.jpg  \n",
            "  inflating: yolov7Data/train/images/Image_27_jpg.rf.dc8c23efcb0cc3387edd852675769518.jpg  \n",
            "  inflating: __MACOSX/yolov7Data/train/images/._Image_27_jpg.rf.dc8c23efcb0cc3387edd852675769518.jpg  \n",
            "  inflating: yolov7Data/train/images/Screenshot-359-_png.rf.413ae49f9b9e715374f1fa7bcc53251b.jpg  \n",
            "  inflating: __MACOSX/yolov7Data/train/images/._Screenshot-359-_png.rf.413ae49f9b9e715374f1fa7bcc53251b.jpg  \n",
            "  inflating: yolov7Data/train/images/Screenshot-312-_png.rf.fa88b65f1a74d81139dd38b6c58ebc7b.jpg  \n",
            "  inflating: __MACOSX/yolov7Data/train/images/._Screenshot-312-_png.rf.fa88b65f1a74d81139dd38b6c58ebc7b.jpg  \n",
            "  inflating: yolov7Data/train/images/Image_131_jpg.rf.3252241cbe868534651b729e75479bab.jpg  \n",
            "  inflating: __MACOSX/yolov7Data/train/images/._Image_131_jpg.rf.3252241cbe868534651b729e75479bab.jpg  \n",
            "  inflating: yolov7Data/train/images/Image_148_jpg.rf.7626caebc98ad73ed62dba561971dec8.jpg  \n",
            "  inflating: __MACOSX/yolov7Data/train/images/._Image_148_jpg.rf.7626caebc98ad73ed62dba561971dec8.jpg  \n",
            "  inflating: yolov7Data/train/images/Screenshot-121-_png.rf.3c9d03dadf716930a982b5c9c5b44de1.jpg  \n",
            "  inflating: __MACOSX/yolov7Data/train/images/._Screenshot-121-_png.rf.3c9d03dadf716930a982b5c9c5b44de1.jpg  \n",
            "  inflating: yolov7Data/train/images/Image_133_jpg.rf.9d9ebd0ac897dad736ebede97bcbb301.jpg  \n",
            "  inflating: __MACOSX/yolov7Data/train/images/._Image_133_jpg.rf.9d9ebd0ac897dad736ebede97bcbb301.jpg  \n",
            "  inflating: yolov7Data/train/images/Image_130_jpg.rf.a4fc6e63de5b6d6d545ae75100857c23.jpg  \n",
            "  inflating: __MACOSX/yolov7Data/train/images/._Image_130_jpg.rf.a4fc6e63de5b6d6d545ae75100857c23.jpg  \n",
            "  inflating: yolov7Data/train/images/Image_50_jpg.rf.26ca8d628382e5bc420e4830952e455c.jpg  \n",
            "  inflating: __MACOSX/yolov7Data/train/images/._Image_50_jpg.rf.26ca8d628382e5bc420e4830952e455c.jpg  \n",
            "  inflating: yolov7Data/train/images/Image_199_jpg.rf.d12f52658768e6db8c1c31f3ce431535.jpg  \n",
            "  inflating: __MACOSX/yolov7Data/train/images/._Image_199_jpg.rf.d12f52658768e6db8c1c31f3ce431535.jpg  \n",
            "  inflating: yolov7Data/train/images/Image_43_jpg.rf.df13d3ba4f717ba5848e73b4f94b1648.jpg  \n",
            "  inflating: __MACOSX/yolov7Data/train/images/._Image_43_jpg.rf.df13d3ba4f717ba5848e73b4f94b1648.jpg  \n",
            "  inflating: yolov7Data/train/images/Image_130_JPG.rf.e1d50ead6e152c713f73bf81bb6c13b4.jpg  \n",
            "  inflating: __MACOSX/yolov7Data/train/images/._Image_130_JPG.rf.e1d50ead6e152c713f73bf81bb6c13b4.jpg  \n",
            "  inflating: yolov7Data/train/images/Image_141_jpg.rf.2d01c3da80301a57b65c20ac0189c3ef.jpg  \n",
            "  inflating: __MACOSX/yolov7Data/train/images/._Image_141_jpg.rf.2d01c3da80301a57b65c20ac0189c3ef.jpg  \n",
            "  inflating: yolov7Data/train/images/Screenshot-428-_png.rf.e1b130de1cc3fd335cf64d54e7ff0abf.jpg  \n",
            "  inflating: __MACOSX/yolov7Data/train/images/._Screenshot-428-_png.rf.e1b130de1cc3fd335cf64d54e7ff0abf.jpg  \n",
            "  inflating: yolov7Data/train/images/Image_114_jpg.rf.e63a2543822054d50dc26fe24a6642ec.jpg  \n",
            "  inflating: __MACOSX/yolov7Data/train/images/._Image_114_jpg.rf.e63a2543822054d50dc26fe24a6642ec.jpg  \n",
            "  inflating: yolov7Data/train/images/Image_128_JPG.rf.ab6f2cd894cc295a7dd6501297331616.jpg  \n",
            "  inflating: __MACOSX/yolov7Data/train/images/._Image_128_JPG.rf.ab6f2cd894cc295a7dd6501297331616.jpg  \n",
            "  inflating: yolov7Data/train/images/Image_61_jpg.rf.d03a017239852fe2eeb5052634adc334.jpg  \n",
            "  inflating: __MACOSX/yolov7Data/train/images/._Image_61_jpg.rf.d03a017239852fe2eeb5052634adc334.jpg  \n",
            "  inflating: yolov7Data/train/images/Image_66_jpg.rf.52d55cec75c31c451fd5cb5878af53a8.jpg  \n",
            "  inflating: __MACOSX/yolov7Data/train/images/._Image_66_jpg.rf.52d55cec75c31c451fd5cb5878af53a8.jpg  \n",
            "  inflating: yolov7Data/train/images/Image_71_jpg.rf.42d4a35df77ef86328e833c538a42da9.jpg  \n",
            "  inflating: __MACOSX/yolov7Data/train/images/._Image_71_jpg.rf.42d4a35df77ef86328e833c538a42da9.jpg  \n",
            "  inflating: yolov7Data/train/images/Image_107_jpg.rf.1a1961dfc83635d553946eb0c1da1bce.jpg  \n",
            "  inflating: __MACOSX/yolov7Data/train/images/._Image_107_jpg.rf.1a1961dfc83635d553946eb0c1da1bce.jpg  \n",
            "  inflating: yolov7Data/train/images/Screenshot-166-_png.rf.a185a3ff63bda52e6729b94aefe3cf86.jpg  \n",
            "  inflating: __MACOSX/yolov7Data/train/images/._Screenshot-166-_png.rf.a185a3ff63bda52e6729b94aefe3cf86.jpg  \n",
            "  inflating: yolov7Data/train/images/Image_45_jpg.rf.f3ea0f7d05fc9a3d5b72e21c32acf78a.jpg  \n",
            "  inflating: __MACOSX/yolov7Data/train/images/._Image_45_jpg.rf.f3ea0f7d05fc9a3d5b72e21c32acf78a.jpg  \n",
            "  inflating: yolov7Data/train/images/Screenshot-304-_png.rf.b3dfb80360c18fe07d024a0868a7c3ed.jpg  \n",
            "  inflating: __MACOSX/yolov7Data/train/images/._Screenshot-304-_png.rf.b3dfb80360c18fe07d024a0868a7c3ed.jpg  \n",
            "  inflating: yolov7Data/train/images/Image_128_jpg.rf.a17126bcf1776c70d4fabdaacada95bc.jpg  \n",
            "  inflating: __MACOSX/yolov7Data/train/images/._Image_128_jpg.rf.a17126bcf1776c70d4fabdaacada95bc.jpg  \n",
            "  inflating: yolov7Data/train/images/Screenshot-434-_png.rf.1a91385f5577a2538ce73d2065c93890.jpg  \n",
            "  inflating: __MACOSX/yolov7Data/train/images/._Screenshot-434-_png.rf.1a91385f5577a2538ce73d2065c93890.jpg  \n",
            "  inflating: yolov7Data/train/images/Screenshot-35-_png.rf.3e263b2e936d93b257d6186941f64354.jpg  \n",
            "  inflating: __MACOSX/yolov7Data/train/images/._Screenshot-35-_png.rf.3e263b2e936d93b257d6186941f64354.jpg  \n",
            "  inflating: yolov7Data/train/images/Image_125_jpg.rf.d0a65dbb0c1eac4b90744f92301a5ed3.jpg  \n",
            "  inflating: __MACOSX/yolov7Data/train/images/._Image_125_jpg.rf.d0a65dbb0c1eac4b90744f92301a5ed3.jpg  \n",
            "  inflating: yolov7Data/train/images/Screenshot-346-_png.rf.fce9155ad2683be3a47e71d2de68d08b.jpg  \n",
            "  inflating: __MACOSX/yolov7Data/train/images/._Screenshot-346-_png.rf.fce9155ad2683be3a47e71d2de68d08b.jpg  \n",
            "  inflating: yolov7Data/train/images/Screenshot-213-_png.rf.ac4150e9bf4fe545ffdb37792f49fc51.jpg  \n",
            "  inflating: __MACOSX/yolov7Data/train/images/._Screenshot-213-_png.rf.ac4150e9bf4fe545ffdb37792f49fc51.jpg  \n",
            "  inflating: yolov7Data/train/images/Image_136_jpg.rf.0dee75f32a85e4ac59cdbc8213bdc845.jpg  \n",
            "  inflating: __MACOSX/yolov7Data/train/images/._Image_136_jpg.rf.0dee75f32a85e4ac59cdbc8213bdc845.jpg  \n",
            "  inflating: yolov7Data/train/images/Image_57_jpg.rf.2de79f2280048998203cda9d68b9267a.jpg  \n",
            "  inflating: __MACOSX/yolov7Data/train/images/._Image_57_jpg.rf.2de79f2280048998203cda9d68b9267a.jpg  \n",
            "  inflating: yolov7Data/train/images/Screenshot-221-_png.rf.e225d039ac0b5c7ef95f9bfef9a76089.jpg  \n",
            "  inflating: __MACOSX/yolov7Data/train/images/._Screenshot-221-_png.rf.e225d039ac0b5c7ef95f9bfef9a76089.jpg  \n",
            "  inflating: yolov7Data/train/images/Screenshot-398-_png.rf.0c2ccce0835f60e65c9d389590676e29.jpg  \n",
            "  inflating: __MACOSX/yolov7Data/train/images/._Screenshot-398-_png.rf.0c2ccce0835f60e65c9d389590676e29.jpg  \n",
            "  inflating: yolov7Data/train/images/Image_124_jpg.rf.45cde9adf4c6c68ee899bf91c534b4db.jpg  \n",
            "  inflating: __MACOSX/yolov7Data/train/images/._Image_124_jpg.rf.45cde9adf4c6c68ee899bf91c534b4db.jpg  \n",
            "  inflating: yolov7Data/train/images/Screenshot-293-_png.rf.4196abaedd3cffa47389735eb374d06b.jpg  \n",
            "  inflating: __MACOSX/yolov7Data/train/images/._Screenshot-293-_png.rf.4196abaedd3cffa47389735eb374d06b.jpg  \n",
            "  inflating: yolov7Data/train/images/Image_19_jpg.rf.367daeba0ed98b436dfd2ed03c387a70.jpg  \n",
            "  inflating: __MACOSX/yolov7Data/train/images/._Image_19_jpg.rf.367daeba0ed98b436dfd2ed03c387a70.jpg  \n",
            "  inflating: yolov7Data/train/images/Screenshot-453-_png.rf.0b10fb4df588ad045e87fb16e21a4128.jpg  \n",
            "  inflating: __MACOSX/yolov7Data/train/images/._Screenshot-453-_png.rf.0b10fb4df588ad045e87fb16e21a4128.jpg  \n",
            "  inflating: yolov7Data/train/images/Image_31_jpg.rf.0ea09adcd4bc92c2a89a2ec85ea509bc.jpg  \n",
            "  inflating: __MACOSX/yolov7Data/train/images/._Image_31_jpg.rf.0ea09adcd4bc92c2a89a2ec85ea509bc.jpg  \n",
            "  inflating: yolov7Data/train/images/Image_86_jpg.rf.b8e922dcb0f125204db2c368a8e9c690.jpg  \n",
            "  inflating: __MACOSX/yolov7Data/train/images/._Image_86_jpg.rf.b8e922dcb0f125204db2c368a8e9c690.jpg  \n",
            "  inflating: yolov7Data/train/images/Screenshot-204-_png.rf.c09e39020f6f77a731c8ac5c3c940e6e.jpg  \n",
            "  inflating: __MACOSX/yolov7Data/train/images/._Screenshot-204-_png.rf.c09e39020f6f77a731c8ac5c3c940e6e.jpg  \n",
            "  inflating: yolov7Data/train/images/Image_15_jpg.rf.e8be47364fb167f849103b1c13848a5b.jpg  \n",
            "  inflating: __MACOSX/yolov7Data/train/images/._Image_15_jpg.rf.e8be47364fb167f849103b1c13848a5b.jpg  \n",
            "  inflating: yolov7Data/train/images/Image_177_jpg.rf.073c0385ac5c8c670d58c45c25090ede.jpg  \n",
            "  inflating: __MACOSX/yolov7Data/train/images/._Image_177_jpg.rf.073c0385ac5c8c670d58c45c25090ede.jpg  \n",
            "  inflating: yolov7Data/train/images/Screenshot-194-_png.rf.600b283443b0ebc4a102957143194a4b.jpg  \n",
            "  inflating: __MACOSX/yolov7Data/train/images/._Screenshot-194-_png.rf.600b283443b0ebc4a102957143194a4b.jpg  \n",
            "  inflating: yolov7Data/train/images/Image_60_jpg.rf.2e924fd759b125c62dff8778adfdc879.jpg  \n",
            "  inflating: __MACOSX/yolov7Data/train/images/._Image_60_jpg.rf.2e924fd759b125c62dff8778adfdc879.jpg  \n",
            "  inflating: yolov7Data/train/images/Image_134_jpg.rf.35d21aa0badea25ef1ee9993c555c2be.jpg  \n",
            "  inflating: __MACOSX/yolov7Data/train/images/._Image_134_jpg.rf.35d21aa0badea25ef1ee9993c555c2be.jpg  \n",
            "  inflating: yolov7Data/train/images/Image_60_jpg.rf.298a0e1805a3956d0dc016e0398ac3ff.jpg  \n",
            "  inflating: __MACOSX/yolov7Data/train/images/._Image_60_jpg.rf.298a0e1805a3956d0dc016e0398ac3ff.jpg  \n",
            "  inflating: yolov7Data/train/images/Screenshot-23-_png.rf.ffa4214b092cbbb7d073b54468e4aea5.jpg  \n",
            "  inflating: __MACOSX/yolov7Data/train/images/._Screenshot-23-_png.rf.ffa4214b092cbbb7d073b54468e4aea5.jpg  \n",
            "  inflating: yolov7Data/train/images/Image_160_jpg.rf.a6eea9a6c273a45c4cc8e8e36ecbbbf6.jpg  \n",
            "  inflating: __MACOSX/yolov7Data/train/images/._Image_160_jpg.rf.a6eea9a6c273a45c4cc8e8e36ecbbbf6.jpg  \n",
            "  inflating: yolov7Data/train/images/Screenshot-164-_png.rf.76ca6afac0402e1778362cc6e08d9746.jpg  \n",
            "  inflating: __MACOSX/yolov7Data/train/images/._Screenshot-164-_png.rf.76ca6afac0402e1778362cc6e08d9746.jpg  \n",
            "  inflating: yolov7Data/train/images/Image_97_jpg.rf.2a2ae46ce600964c6ff4041af75c3d4a.jpg  \n",
            "  inflating: __MACOSX/yolov7Data/train/images/._Image_97_jpg.rf.2a2ae46ce600964c6ff4041af75c3d4a.jpg  \n",
            "  inflating: yolov7Data/train/images/Screenshot-282-_png.rf.18be55e1a3b9f7a524e1f7bf9447f222.jpg  \n",
            "  inflating: __MACOSX/yolov7Data/train/images/._Screenshot-282-_png.rf.18be55e1a3b9f7a524e1f7bf9447f222.jpg  \n",
            "  inflating: yolov7Data/train/images/Image_132_jpg.rf.2dcbb7a2c4a99f0d06b903debec28f88.jpg  \n",
            "  inflating: __MACOSX/yolov7Data/train/images/._Image_132_jpg.rf.2dcbb7a2c4a99f0d06b903debec28f88.jpg  \n",
            "  inflating: yolov7Data/train/images/Screenshot-456-_png.rf.cfd131636e57e25efcc8a925443ec7ff.jpg  \n",
            "  inflating: __MACOSX/yolov7Data/train/images/._Screenshot-456-_png.rf.cfd131636e57e25efcc8a925443ec7ff.jpg  \n",
            "  inflating: yolov7Data/train/images/Image_145_jpg.rf.203578a25814e2a50b013aba5cec27de.jpg  \n",
            "  inflating: __MACOSX/yolov7Data/train/images/._Image_145_jpg.rf.203578a25814e2a50b013aba5cec27de.jpg  \n",
            "  inflating: yolov7Data/train/images/Screenshot-91-_png.rf.22a51fbe0a6ed4c1adb71041359f2590.jpg  \n",
            "  inflating: __MACOSX/yolov7Data/train/images/._Screenshot-91-_png.rf.22a51fbe0a6ed4c1adb71041359f2590.jpg  \n",
            "  inflating: yolov7Data/train/images/Screenshot-63-_png.rf.3b1c291f1f8389dc6eaaa179405fa07b.jpg  \n",
            "  inflating: __MACOSX/yolov7Data/train/images/._Screenshot-63-_png.rf.3b1c291f1f8389dc6eaaa179405fa07b.jpg  \n",
            "  inflating: yolov7Data/train/images/Image_174_jpg.rf.51f2c5341b44ab7ce45eb7d1edbafd9b.jpg  \n",
            "  inflating: __MACOSX/yolov7Data/train/images/._Image_174_jpg.rf.51f2c5341b44ab7ce45eb7d1edbafd9b.jpg  \n",
            "  inflating: yolov7Data/train/images/Image_131_jpg.rf.2a8de39e370c6c2650e4c76cad168eb0.jpg  \n",
            "  inflating: __MACOSX/yolov7Data/train/images/._Image_131_jpg.rf.2a8de39e370c6c2650e4c76cad168eb0.jpg  \n",
            "  inflating: yolov7Data/train/images/Image_172_jpg.rf.838413fa9a6c9a14f848fcfd3d18fd36.jpg  \n",
            "  inflating: __MACOSX/yolov7Data/train/images/._Image_172_jpg.rf.838413fa9a6c9a14f848fcfd3d18fd36.jpg  \n",
            "  inflating: yolov7Data/train/images/Image_16_jpg.rf.e548b96372ea5922bf1d5e703b4a549c.jpg  \n",
            "  inflating: __MACOSX/yolov7Data/train/images/._Image_16_jpg.rf.e548b96372ea5922bf1d5e703b4a549c.jpg  \n",
            "  inflating: yolov7Data/train/images/Screenshot-217-_png.rf.f24215cdd0634e4b36802313fd3f7677.jpg  \n",
            "  inflating: __MACOSX/yolov7Data/train/images/._Screenshot-217-_png.rf.f24215cdd0634e4b36802313fd3f7677.jpg  \n",
            "  inflating: yolov7Data/train/images/Screenshot-233-_png.rf.250591a4c820e184b77274475d18a7f0.jpg  \n",
            "  inflating: __MACOSX/yolov7Data/train/images/._Screenshot-233-_png.rf.250591a4c820e184b77274475d18a7f0.jpg  \n",
            "  inflating: yolov7Data/train/images/Image_181_jpg.rf.8138881013c43a5755000fd9f729a465.jpg  \n",
            "  inflating: __MACOSX/yolov7Data/train/images/._Image_181_jpg.rf.8138881013c43a5755000fd9f729a465.jpg  \n",
            "  inflating: yolov7Data/train/images/Screenshot-183-_png.rf.7282b7220d8941dd98165c642b86f7e7.jpg  \n",
            "  inflating: __MACOSX/yolov7Data/train/images/._Screenshot-183-_png.rf.7282b7220d8941dd98165c642b86f7e7.jpg  \n",
            "  inflating: yolov7Data/train/images/Image_143_jpg.rf.1e5e0993aa0c0aef427147b6bbcabc53.jpg  \n",
            "  inflating: __MACOSX/yolov7Data/train/images/._Image_143_jpg.rf.1e5e0993aa0c0aef427147b6bbcabc53.jpg  \n",
            "  inflating: yolov7Data/train/images/Screenshot-235-_png.rf.ccc8c980c3d15d32bb0447137372f602.jpg  \n",
            "  inflating: __MACOSX/yolov7Data/train/images/._Screenshot-235-_png.rf.ccc8c980c3d15d32bb0447137372f602.jpg  \n",
            "  inflating: yolov7Data/train/images/Image_91_jpg.rf.e0a7462ad704232b14b6467bb3e249a8.jpg  \n",
            "  inflating: __MACOSX/yolov7Data/train/images/._Image_91_jpg.rf.e0a7462ad704232b14b6467bb3e249a8.jpg  \n",
            "  inflating: yolov7Data/train/images/Image_129_JPG.rf.aa71a9b4a5508318979e688352c55a18.jpg  \n",
            "  inflating: __MACOSX/yolov7Data/train/images/._Image_129_JPG.rf.aa71a9b4a5508318979e688352c55a18.jpg  \n",
            "  inflating: yolov7Data/train/images/Screenshot-384-_png.rf.83395cfb5e44a586e682e567bfafabd8.jpg  \n",
            "  inflating: __MACOSX/yolov7Data/train/images/._Screenshot-384-_png.rf.83395cfb5e44a586e682e567bfafabd8.jpg  \n",
            "  inflating: yolov7Data/train/images/Screenshot-16-_png.rf.b61305d71c9d168263c561a622c7f8dc.jpg  \n",
            "  inflating: __MACOSX/yolov7Data/train/images/._Screenshot-16-_png.rf.b61305d71c9d168263c561a622c7f8dc.jpg  \n",
            "  inflating: yolov7Data/train/images/Screenshot-261-_png.rf.d885964b6f0a9ce7e7fde62d66938422.jpg  \n",
            "  inflating: __MACOSX/yolov7Data/train/images/._Screenshot-261-_png.rf.d885964b6f0a9ce7e7fde62d66938422.jpg  \n",
            "  inflating: yolov7Data/train/images/Screenshot-439-_png.rf.8dcae263766da81c0cf682ea28f02cb6.jpg  \n",
            "  inflating: __MACOSX/yolov7Data/train/images/._Screenshot-439-_png.rf.8dcae263766da81c0cf682ea28f02cb6.jpg  \n",
            "  inflating: yolov7Data/train/images/Image_2_jpg.rf.1512e14ca911d4d93ed0115d61bf6b27.jpg  \n",
            "  inflating: __MACOSX/yolov7Data/train/images/._Image_2_jpg.rf.1512e14ca911d4d93ed0115d61bf6b27.jpg  \n",
            "  inflating: yolov7Data/train/images/Image_120_jpg.rf.4be9b6104f44aa2184443819566ed9de.jpg  \n",
            "  inflating: __MACOSX/yolov7Data/train/images/._Image_120_jpg.rf.4be9b6104f44aa2184443819566ed9de.jpg  \n",
            "  inflating: yolov7Data/train/images/Image_37_jpg.rf.f0bad579ce3388cb7831b34cedff9a6b.jpg  \n",
            "  inflating: __MACOSX/yolov7Data/train/images/._Image_37_jpg.rf.f0bad579ce3388cb7831b34cedff9a6b.jpg  \n",
            "  inflating: yolov7Data/train/images/Image_2_jpg.rf.78c7c0f5135b42b6b8b05f0a3fc899c1.jpg  \n",
            "  inflating: __MACOSX/yolov7Data/train/images/._Image_2_jpg.rf.78c7c0f5135b42b6b8b05f0a3fc899c1.jpg  \n",
            "  inflating: yolov7Data/train/images/Image_61_jpg.rf.868ecac22db3061619139070df1ae72e.jpg  \n",
            "  inflating: __MACOSX/yolov7Data/train/images/._Image_61_jpg.rf.868ecac22db3061619139070df1ae72e.jpg  \n",
            "  inflating: yolov7Data/train/images/Image_17_jpg.rf.a54b348dd851221746247fd57633513a.jpg  \n",
            "  inflating: __MACOSX/yolov7Data/train/images/._Image_17_jpg.rf.a54b348dd851221746247fd57633513a.jpg  \n",
            "  inflating: yolov7Data/train/images/Image_80_jpg.rf.0b53abcf680944b8ae0fa55de23fb55e.jpg  \n",
            "  inflating: __MACOSX/yolov7Data/train/images/._Image_80_jpg.rf.0b53abcf680944b8ae0fa55de23fb55e.jpg  \n",
            "  inflating: yolov7Data/train/images/Screenshot-190-_png.rf.b77ebdb6f13486e0ec9043896a415cb9.jpg  \n",
            "  inflating: __MACOSX/yolov7Data/train/images/._Screenshot-190-_png.rf.b77ebdb6f13486e0ec9043896a415cb9.jpg  \n",
            "  inflating: yolov7Data/train/images/Screenshot-230-_png.rf.6c964191fd066beadeedc5839b9d6ab7.jpg  \n",
            "  inflating: __MACOSX/yolov7Data/train/images/._Screenshot-230-_png.rf.6c964191fd066beadeedc5839b9d6ab7.jpg  \n",
            "  inflating: yolov7Data/train/images/Image_24_jpg.rf.c276d1e04c3e6e1f10bced34e54af7e3.jpg  \n",
            "  inflating: __MACOSX/yolov7Data/train/images/._Image_24_jpg.rf.c276d1e04c3e6e1f10bced34e54af7e3.jpg  \n",
            "  inflating: yolov7Data/train/images/Image_173_jpg.rf.174a21b8d7a523648e573fd6f1a1a412.jpg  \n",
            "  inflating: __MACOSX/yolov7Data/train/images/._Image_173_jpg.rf.174a21b8d7a523648e573fd6f1a1a412.jpg  \n",
            "  inflating: yolov7Data/train/images/Image_189_jpg.rf.f9ecfe26d0338124a603a9c1ec83713d.jpg  \n",
            "  inflating: __MACOSX/yolov7Data/train/images/._Image_189_jpg.rf.f9ecfe26d0338124a603a9c1ec83713d.jpg  \n",
            "  inflating: yolov7Data/train/images/Screenshot-30-_png.rf.775b02c75d9500e068900e079a106339.jpg  \n",
            "  inflating: __MACOSX/yolov7Data/train/images/._Screenshot-30-_png.rf.775b02c75d9500e068900e079a106339.jpg  \n",
            "  inflating: yolov7Data/train/images/Screenshot-239-_png.rf.01ad297af4546c304093da7d02edb1c4.jpg  \n",
            "  inflating: __MACOSX/yolov7Data/train/images/._Screenshot-239-_png.rf.01ad297af4546c304093da7d02edb1c4.jpg  \n",
            "  inflating: yolov7Data/train/images/Screenshot-153-_png.rf.8efbc83814b70260d0adeb38a9ec28d9.jpg  \n",
            "  inflating: __MACOSX/yolov7Data/train/images/._Screenshot-153-_png.rf.8efbc83814b70260d0adeb38a9ec28d9.jpg  \n",
            "  inflating: yolov7Data/train/images/Screenshot-205-_png.rf.3738c4d0d83aa86396ca94c4f486ac2b.jpg  \n",
            "  inflating: __MACOSX/yolov7Data/train/images/._Screenshot-205-_png.rf.3738c4d0d83aa86396ca94c4f486ac2b.jpg  \n",
            "  inflating: yolov7Data/train/images/Image_132_jpg.rf.493e348e86d1381c96d5017006bea397.jpg  \n",
            "  inflating: __MACOSX/yolov7Data/train/images/._Image_132_jpg.rf.493e348e86d1381c96d5017006bea397.jpg  \n",
            "  inflating: yolov7Data/train/images/Image_135_jpg.rf.5ba955f971af0fbf4b7a6902c1a46f39.jpg  \n",
            "  inflating: __MACOSX/yolov7Data/train/images/._Image_135_jpg.rf.5ba955f971af0fbf4b7a6902c1a46f39.jpg  \n",
            "  inflating: yolov7Data/train/images/Screenshot-132-_png.rf.8ed5cf0e7472047cc5a50d04b2ca1e0b.jpg  \n",
            "  inflating: __MACOSX/yolov7Data/train/images/._Screenshot-132-_png.rf.8ed5cf0e7472047cc5a50d04b2ca1e0b.jpg  \n",
            "  inflating: yolov7Data/train/images/Image_156_JPG.rf.5dc7f9e6ff36713954169a8896ff10bb.jpg  \n",
            "  inflating: __MACOSX/yolov7Data/train/images/._Image_156_JPG.rf.5dc7f9e6ff36713954169a8896ff10bb.jpg  \n",
            "  inflating: yolov7Data/train/images/Screenshot-228-_png.rf.6fd272245a1f7ffc8b2b44130ecf9814.jpg  \n",
            "  inflating: __MACOSX/yolov7Data/train/images/._Screenshot-228-_png.rf.6fd272245a1f7ffc8b2b44130ecf9814.jpg  \n",
            "  inflating: yolov7Data/train/images/Image_88_jpg.rf.13d89c384bf0c3d84683e4533917b456.jpg  \n",
            "  inflating: __MACOSX/yolov7Data/train/images/._Image_88_jpg.rf.13d89c384bf0c3d84683e4533917b456.jpg  \n",
            "  inflating: yolov7Data/train/images/Image_11_jpg.rf.49c63dbd00bec18ff3957cdd2c281671.jpg  \n",
            "  inflating: __MACOSX/yolov7Data/train/images/._Image_11_jpg.rf.49c63dbd00bec18ff3957cdd2c281671.jpg  \n",
            "  inflating: yolov7Data/train/images/Image_46_jpg.rf.80fe72ea4d53cfb30e761046bc2762bd.jpg  \n",
            "  inflating: __MACOSX/yolov7Data/train/images/._Image_46_jpg.rf.80fe72ea4d53cfb30e761046bc2762bd.jpg  \n",
            "  inflating: yolov7Data/train/images/Screenshot-324-_png.rf.fe9a83eef0c061f5b5d5be45222e30cf.jpg  \n",
            "  inflating: __MACOSX/yolov7Data/train/images/._Screenshot-324-_png.rf.fe9a83eef0c061f5b5d5be45222e30cf.jpg  \n",
            "  inflating: yolov7Data/train/images/Image_73_png.rf.529bed445a0c5e1d6e8818f9568a9b83.jpg  \n",
            "  inflating: __MACOSX/yolov7Data/train/images/._Image_73_png.rf.529bed445a0c5e1d6e8818f9568a9b83.jpg  \n",
            "  inflating: yolov7Data/train/images/Screenshot-258-_png.rf.4a67027f3030e54822f5c189d506d9e1.jpg  \n",
            "  inflating: __MACOSX/yolov7Data/train/images/._Screenshot-258-_png.rf.4a67027f3030e54822f5c189d506d9e1.jpg  \n",
            "  inflating: yolov7Data/train/images/Image_58_jpg.rf.f9a33ac82d1f19263a8a7ea99b7feff1.jpg  \n",
            "  inflating: __MACOSX/yolov7Data/train/images/._Image_58_jpg.rf.f9a33ac82d1f19263a8a7ea99b7feff1.jpg  \n",
            "  inflating: yolov7Data/train/images/Screenshot-373-_png.rf.11a7ce10b152ad68f025b90c302e73ad.jpg  \n",
            "  inflating: __MACOSX/yolov7Data/train/images/._Screenshot-373-_png.rf.11a7ce10b152ad68f025b90c302e73ad.jpg  \n",
            "  inflating: yolov7Data/train/images/Image_44_jpg.rf.86410e0da87bc3277cf00d8ad9663352.jpg  \n",
            "  inflating: __MACOSX/yolov7Data/train/images/._Image_44_jpg.rf.86410e0da87bc3277cf00d8ad9663352.jpg  \n",
            "  inflating: yolov7Data/train/images/Image_136_jpg.rf.e86c64cbf567c4929261186b98a5ac55.jpg  \n",
            "  inflating: __MACOSX/yolov7Data/train/images/._Image_136_jpg.rf.e86c64cbf567c4929261186b98a5ac55.jpg  \n",
            "  inflating: yolov7Data/train/images/Screenshot-97-_png.rf.9ee10749ffe670ba1e867fa194dc241f.jpg  \n",
            "  inflating: __MACOSX/yolov7Data/train/images/._Screenshot-97-_png.rf.9ee10749ffe670ba1e867fa194dc241f.jpg  \n",
            "  inflating: yolov7Data/train/images/Image_9_jpg.rf.7f45df7146fbfbb9af6870be4e430732.jpg  \n",
            "  inflating: __MACOSX/yolov7Data/train/images/._Image_9_jpg.rf.7f45df7146fbfbb9af6870be4e430732.jpg  \n",
            "  inflating: yolov7Data/train/images/Screenshot-147-_png.rf.734ff2aac220a179398157dcca254b7c.jpg  \n",
            "  inflating: __MACOSX/yolov7Data/train/images/._Screenshot-147-_png.rf.734ff2aac220a179398157dcca254b7c.jpg  \n",
            "  inflating: yolov7Data/train/images/Image_200_JPG.rf.11e70ca858ab1fb69c982e5bdc672447.jpg  \n",
            "  inflating: __MACOSX/yolov7Data/train/images/._Image_200_JPG.rf.11e70ca858ab1fb69c982e5bdc672447.jpg  \n",
            "  inflating: yolov7Data/train/images/Image_157_JPG.rf.d4aa96eaebe3eb7f418b3dd0053934b6.jpg  \n",
            "  inflating: __MACOSX/yolov7Data/train/images/._Image_157_JPG.rf.d4aa96eaebe3eb7f418b3dd0053934b6.jpg  \n",
            "  inflating: yolov7Data/train/images/Screenshot-248-_png.rf.57d6cc1e06018f71a0bc449deb2c5f99.jpg  \n",
            "  inflating: __MACOSX/yolov7Data/train/images/._Screenshot-248-_png.rf.57d6cc1e06018f71a0bc449deb2c5f99.jpg  \n",
            "  inflating: yolov7Data/train/images/Screenshot-56-_png.rf.ed9d6ddacab1e2bd018428af6bce970f.jpg  \n",
            "  inflating: __MACOSX/yolov7Data/train/images/._Screenshot-56-_png.rf.ed9d6ddacab1e2bd018428af6bce970f.jpg  \n",
            "  inflating: yolov7Data/train/images/Screenshot-335-_png.rf.bb7f8520c50126620f31dc43341eef01.jpg  \n",
            "  inflating: __MACOSX/yolov7Data/train/images/._Screenshot-335-_png.rf.bb7f8520c50126620f31dc43341eef01.jpg  \n",
            "  inflating: yolov7Data/train/images/Screenshot-149-_png.rf.2d5ee0e8e3a2b1ba157270b006e1e848.jpg  \n",
            "  inflating: __MACOSX/yolov7Data/train/images/._Screenshot-149-_png.rf.2d5ee0e8e3a2b1ba157270b006e1e848.jpg  \n",
            "  inflating: yolov7Data/train/images/Screenshot-432-_png.rf.8a787d4741c155a9802148b125b8ce42.jpg  \n",
            "  inflating: __MACOSX/yolov7Data/train/images/._Screenshot-432-_png.rf.8a787d4741c155a9802148b125b8ce42.jpg  \n",
            "  inflating: yolov7Data/train/images/Image_107_jpg.rf.acbf417267d005b534c238eced3e20f2.jpg  \n",
            "  inflating: __MACOSX/yolov7Data/train/images/._Image_107_jpg.rf.acbf417267d005b534c238eced3e20f2.jpg  \n",
            "  inflating: yolov7Data/train/images/Screenshot-313-_png.rf.c719cdf6cf2ce59dc0865558b4a36a59.jpg  \n",
            "  inflating: __MACOSX/yolov7Data/train/images/._Screenshot-313-_png.rf.c719cdf6cf2ce59dc0865558b4a36a59.jpg  \n",
            "  inflating: yolov7Data/train/images/Image_55_jpg.rf.5b904003e1d7a79a341d377ebb934b30.jpg  \n",
            "  inflating: __MACOSX/yolov7Data/train/images/._Image_55_jpg.rf.5b904003e1d7a79a341d377ebb934b30.jpg  \n",
            "  inflating: yolov7Data/train/images/Image_106_jpg.rf.0f74918bef9a2f4a842d55c73a1353e5.jpg  \n",
            "  inflating: __MACOSX/yolov7Data/train/images/._Image_106_jpg.rf.0f74918bef9a2f4a842d55c73a1353e5.jpg  \n",
            "  inflating: yolov7Data/train/images/Image_55_jpg.rf.baab4dd1dde8878eb737e9f6de985a84.jpg  \n",
            "  inflating: __MACOSX/yolov7Data/train/images/._Image_55_jpg.rf.baab4dd1dde8878eb737e9f6de985a84.jpg  \n",
            "  inflating: yolov7Data/train/images/Screenshot-122-_png.rf.dcb15e8f58fd0ea866da98c4a3a8e5c4.jpg  \n",
            "  inflating: __MACOSX/yolov7Data/train/images/._Screenshot-122-_png.rf.dcb15e8f58fd0ea866da98c4a3a8e5c4.jpg  \n",
            "  inflating: yolov7Data/train/images/Image_12_jpg.rf.1cef1b27efae2028773a8761ad4ffa6d.jpg  \n",
            "  inflating: __MACOSX/yolov7Data/train/images/._Image_12_jpg.rf.1cef1b27efae2028773a8761ad4ffa6d.jpg  \n",
            "  inflating: yolov7Data/train/images/Screenshot-79-_png.rf.b46dc345845961e19d66c1ade5e62cef.jpg  \n",
            "  inflating: __MACOSX/yolov7Data/train/images/._Screenshot-79-_png.rf.b46dc345845961e19d66c1ade5e62cef.jpg  \n",
            "  inflating: yolov7Data/train/images/Screenshot-437-_png.rf.09c6fca895c98baae7f3de5bbce7e781.jpg  \n",
            "  inflating: __MACOSX/yolov7Data/train/images/._Screenshot-437-_png.rf.09c6fca895c98baae7f3de5bbce7e781.jpg  \n",
            "  inflating: yolov7Data/train/images/Screenshot-419-_png.rf.21e606faf966acc7fa4bf7d2e4cdb81f.jpg  \n",
            "  inflating: __MACOSX/yolov7Data/train/images/._Screenshot-419-_png.rf.21e606faf966acc7fa4bf7d2e4cdb81f.jpg  \n",
            "  inflating: yolov7Data/train/images/Screenshot-184-_png.rf.a33a3ae220d358301377399c3d44e0a3.jpg  \n",
            "  inflating: __MACOSX/yolov7Data/train/images/._Screenshot-184-_png.rf.a33a3ae220d358301377399c3d44e0a3.jpg  \n",
            "  inflating: yolov7Data/train/images/Image_1_jpg.rf.853748a22fc0af25866241993a4d8d02.jpg  \n",
            "  inflating: __MACOSX/yolov7Data/train/images/._Image_1_jpg.rf.853748a22fc0af25866241993a4d8d02.jpg  \n",
            "  inflating: yolov7Data/train/images/Screenshot-349-_png.rf.47df3f92e2eb1a1be3d6b81da70fc932.jpg  \n",
            "  inflating: __MACOSX/yolov7Data/train/images/._Screenshot-349-_png.rf.47df3f92e2eb1a1be3d6b81da70fc932.jpg  \n",
            "  inflating: yolov7Data/train/images/Screenshot-326-_png.rf.00d2d9d3870c5340e824a12436439836.jpg  \n",
            "  inflating: __MACOSX/yolov7Data/train/images/._Screenshot-326-_png.rf.00d2d9d3870c5340e824a12436439836.jpg  \n",
            "  inflating: yolov7Data/train/images/Screenshot-229-_png.rf.76dca2a362d224cfc1ab027126c52eff.jpg  \n",
            "  inflating: __MACOSX/yolov7Data/train/images/._Screenshot-229-_png.rf.76dca2a362d224cfc1ab027126c52eff.jpg  \n",
            "  inflating: yolov7Data/train/images/Screenshot-450-_png.rf.5d532331358355453f00a2b06422a08f.jpg  \n",
            "  inflating: __MACOSX/yolov7Data/train/images/._Screenshot-450-_png.rf.5d532331358355453f00a2b06422a08f.jpg  \n",
            "  inflating: yolov7Data/train/images/Image_154_jpg.rf.84b41291246fd74dce7a689537c2f77d.jpg  \n",
            "  inflating: __MACOSX/yolov7Data/train/images/._Image_154_jpg.rf.84b41291246fd74dce7a689537c2f77d.jpg  \n",
            "  inflating: yolov7Data/train/images/Image_48_jpg.rf.2a2a69d9af04ca48d8297cc82657236f.jpg  \n",
            "  inflating: __MACOSX/yolov7Data/train/images/._Image_48_jpg.rf.2a2a69d9af04ca48d8297cc82657236f.jpg  \n",
            "  inflating: yolov7Data/train/images/Screenshot-378-_png.rf.68df822b69c344af2e3af531a50e6b77.jpg  \n",
            "  inflating: __MACOSX/yolov7Data/train/images/._Screenshot-378-_png.rf.68df822b69c344af2e3af531a50e6b77.jpg  \n",
            "  inflating: yolov7Data/train/images/Screenshot-352-_png.rf.eefb990fca0e472a4ea9d928b0440e68.jpg  \n",
            "  inflating: __MACOSX/yolov7Data/train/images/._Screenshot-352-_png.rf.eefb990fca0e472a4ea9d928b0440e68.jpg  \n",
            "  inflating: yolov7Data/train/images/Image_47_JPG.rf.35e870aedd4ef468d6f430d5dff73543.jpg  \n",
            "  inflating: __MACOSX/yolov7Data/train/images/._Image_47_JPG.rf.35e870aedd4ef468d6f430d5dff73543.jpg  \n",
            "  inflating: yolov7Data/train/images/Image_161_jpg.rf.4831e84689de8c36b88395dab1dec6df.jpg  \n",
            "  inflating: __MACOSX/yolov7Data/train/images/._Image_161_jpg.rf.4831e84689de8c36b88395dab1dec6df.jpg  \n",
            "  inflating: yolov7Data/train/images/Screenshot-362-_png.rf.112059c75814203feb86629b559edd8b.jpg  \n",
            "  inflating: __MACOSX/yolov7Data/train/images/._Screenshot-362-_png.rf.112059c75814203feb86629b559edd8b.jpg  \n",
            "  inflating: yolov7Data/train/images/Screenshot-400-_png.rf.4a2c65499ce83343429d099b4f03658b.jpg  \n",
            "  inflating: __MACOSX/yolov7Data/train/images/._Screenshot-400-_png.rf.4a2c65499ce83343429d099b4f03658b.jpg  \n",
            "  inflating: yolov7Data/train/images/Image_113_jpg.rf.7e7d6e8f255da2af4867de9d2bea470e.jpg  \n",
            "  inflating: __MACOSX/yolov7Data/train/images/._Image_113_jpg.rf.7e7d6e8f255da2af4867de9d2bea470e.jpg  \n",
            "  inflating: yolov7Data/train/images/Screenshot-377-_png.rf.1d66d80663bf67392921d8f69c4f168a.jpg  \n",
            "  inflating: __MACOSX/yolov7Data/train/images/._Screenshot-377-_png.rf.1d66d80663bf67392921d8f69c4f168a.jpg  \n",
            "  inflating: yolov7Data/train/images/Screenshot-444-_png.rf.aeaae157db4723edcc27885fd81c05f0.jpg  \n",
            "  inflating: __MACOSX/yolov7Data/train/images/._Screenshot-444-_png.rf.aeaae157db4723edcc27885fd81c05f0.jpg  \n",
            "  inflating: yolov7Data/train/images/Image_28_png.rf.4f9e3fa4b1d8af94560958b63a9bb298.jpg  \n",
            "  inflating: __MACOSX/yolov7Data/train/images/._Image_28_png.rf.4f9e3fa4b1d8af94560958b63a9bb298.jpg  \n",
            "  inflating: yolov7Data/train/images/Image_95_jpg.rf.c49bb4228f163ef2d5e6e1ac90adafa4.jpg  \n",
            "  inflating: __MACOSX/yolov7Data/train/images/._Image_95_jpg.rf.c49bb4228f163ef2d5e6e1ac90adafa4.jpg  \n",
            "  inflating: yolov7Data/train/images/Image_162_jpg.rf.2ab100653b28ab8813cf90c3d1d534df.jpg  \n",
            "  inflating: __MACOSX/yolov7Data/train/images/._Image_162_jpg.rf.2ab100653b28ab8813cf90c3d1d534df.jpg  \n",
            "  inflating: yolov7Data/train/images/Image_39_jpg.rf.d568ddf6c5943a087795f71bc6132cc8.jpg  \n",
            "  inflating: __MACOSX/yolov7Data/train/images/._Image_39_jpg.rf.d568ddf6c5943a087795f71bc6132cc8.jpg  \n",
            "  inflating: yolov7Data/train/images/Image_72_png.rf.3eeeefb6de4721e2176550873aaca09f.jpg  \n",
            "  inflating: __MACOSX/yolov7Data/train/images/._Image_72_png.rf.3eeeefb6de4721e2176550873aaca09f.jpg  \n",
            "  inflating: yolov7Data/train/images/Screenshot-36-_png.rf.1b22fb25fdd4c684a8c0c2a30cc269a1.jpg  \n",
            "  inflating: __MACOSX/yolov7Data/train/images/._Screenshot-36-_png.rf.1b22fb25fdd4c684a8c0c2a30cc269a1.jpg  \n",
            "  inflating: yolov7Data/train/images/Image_34_jpg.rf.7ab6308378327b30624d946df059b4d5.jpg  \n",
            "  inflating: __MACOSX/yolov7Data/train/images/._Image_34_jpg.rf.7ab6308378327b30624d946df059b4d5.jpg  \n",
            "  inflating: yolov7Data/train/images/Screenshot-81-_png.rf.8ab6331a8e71845309a456cebb9b33d6.jpg  \n",
            "  inflating: __MACOSX/yolov7Data/train/images/._Screenshot-81-_png.rf.8ab6331a8e71845309a456cebb9b33d6.jpg  \n",
            "  inflating: yolov7Data/train/images/Screenshot-369-_png.rf.b572cfed89fa40ecd39edbb6ce6a2e70.jpg  \n",
            "  inflating: __MACOSX/yolov7Data/train/images/._Screenshot-369-_png.rf.b572cfed89fa40ecd39edbb6ce6a2e70.jpg  \n",
            "  inflating: yolov7Data/train/images/Screenshot-286-_png.rf.a138ca29eba5fcd5523f22ec1ada6888.jpg  \n",
            "  inflating: __MACOSX/yolov7Data/train/images/._Screenshot-286-_png.rf.a138ca29eba5fcd5523f22ec1ada6888.jpg  \n",
            "  inflating: yolov7Data/train/images/Image_155_jpg.rf.5dd8cffc97036949cafed44559a694d6.jpg  \n",
            "  inflating: __MACOSX/yolov7Data/train/images/._Image_155_jpg.rf.5dd8cffc97036949cafed44559a694d6.jpg  \n",
            "  inflating: yolov7Data/train/images/Image_152_jpg.rf.8295d845bccb952ee92af35df9794e68.jpg  \n",
            "  inflating: __MACOSX/yolov7Data/train/images/._Image_152_jpg.rf.8295d845bccb952ee92af35df9794e68.jpg  \n",
            "  inflating: yolov7Data/train/images/Screenshot-182-_png.rf.4deba91af589f34bd650ddfadbfd1772.jpg  \n",
            "  inflating: __MACOSX/yolov7Data/train/images/._Screenshot-182-_png.rf.4deba91af589f34bd650ddfadbfd1772.jpg  \n",
            "  inflating: yolov7Data/train/images/Screenshot-331-_png.rf.7a0271efac2aba8aa1432a281be6372e.jpg  \n",
            "  inflating: __MACOSX/yolov7Data/train/images/._Screenshot-331-_png.rf.7a0271efac2aba8aa1432a281be6372e.jpg  \n",
            "  inflating: yolov7Data/train/images/Image_15_jpg.rf.f9b171e751b6c83c9e726411b957ec2b.jpg  \n",
            "  inflating: __MACOSX/yolov7Data/train/images/._Image_15_jpg.rf.f9b171e751b6c83c9e726411b957ec2b.jpg  \n",
            "  inflating: yolov7Data/train/images/Image_70_JPG.rf.0d432d6c787cceb681050159823087a2.jpg  \n",
            "  inflating: __MACOSX/yolov7Data/train/images/._Image_70_JPG.rf.0d432d6c787cceb681050159823087a2.jpg  \n",
            "  inflating: yolov7Data/train/images/Image_42_JPG.rf.382937272586db95acfc771e9daf10fb.jpg  \n",
            "  inflating: __MACOSX/yolov7Data/train/images/._Image_42_JPG.rf.382937272586db95acfc771e9daf10fb.jpg  \n",
            "  inflating: yolov7Data/train/images/Screenshot-27-_png.rf.6fe994310c19fc0d0ac77311434360dc.jpg  \n",
            "  inflating: __MACOSX/yolov7Data/train/images/._Screenshot-27-_png.rf.6fe994310c19fc0d0ac77311434360dc.jpg  \n",
            "  inflating: yolov7Data/train/images/Image_36_jpg.rf.8e92babd5d1b152fe3a45cc9fcae795e.jpg  \n",
            "  inflating: __MACOSX/yolov7Data/train/images/._Image_36_jpg.rf.8e92babd5d1b152fe3a45cc9fcae795e.jpg  \n",
            "  inflating: yolov7Data/train/images/Screenshot-22-_png.rf.09aba0c0e1b1927f4e04039c36b7acdd.jpg  \n",
            "  inflating: __MACOSX/yolov7Data/train/images/._Screenshot-22-_png.rf.09aba0c0e1b1927f4e04039c36b7acdd.jpg  \n",
            "  inflating: yolov7Data/train/images/Screenshot-49-_png.rf.b644cd1752308c6143e84171989d85c8.jpg  \n",
            "  inflating: __MACOSX/yolov7Data/train/images/._Screenshot-49-_png.rf.b644cd1752308c6143e84171989d85c8.jpg  \n",
            "  inflating: yolov7Data/train/images/Image_53_jpg.rf.726aaa1effc3c4353dc238a9a0e77618.jpg  \n",
            "  inflating: __MACOSX/yolov7Data/train/images/._Image_53_jpg.rf.726aaa1effc3c4353dc238a9a0e77618.jpg  \n",
            "  inflating: yolov7Data/train/images/Image_153_jpg.rf.93613e5db18ae39623c4e4611ab2c1d4.jpg  \n",
            "  inflating: __MACOSX/yolov7Data/train/images/._Image_153_jpg.rf.93613e5db18ae39623c4e4611ab2c1d4.jpg  \n",
            "  inflating: yolov7Data/train/images/Screenshot-34-_png.rf.4c2201c4a9d869f12f2bf0b5a6a3d099.jpg  \n",
            "  inflating: __MACOSX/yolov7Data/train/images/._Screenshot-34-_png.rf.4c2201c4a9d869f12f2bf0b5a6a3d099.jpg  \n",
            "  inflating: yolov7Data/train/images/Image_99_jpg.rf.294f70d421c56c50b7c4baf3a7520b8d.jpg  \n",
            "  inflating: __MACOSX/yolov7Data/train/images/._Image_99_jpg.rf.294f70d421c56c50b7c4baf3a7520b8d.jpg  \n",
            "  inflating: yolov7Data/train/images/Image_24_jpeg.rf.18162b59d2c0afd0c38a1d207e8268f3.jpg  \n",
            "  inflating: __MACOSX/yolov7Data/train/images/._Image_24_jpeg.rf.18162b59d2c0afd0c38a1d207e8268f3.jpg  \n",
            "  inflating: yolov7Data/train/images/Image_5_jpg.rf.ead847fb40158e15921b59343eb1a270.jpg  \n",
            "  inflating: __MACOSX/yolov7Data/train/images/._Image_5_jpg.rf.ead847fb40158e15921b59343eb1a270.jpg  \n",
            "  inflating: yolov7Data/train/images/Screenshot-407-_png.rf.0f7795c821a06f50be2dc4c8d076e6aa.jpg  \n",
            "  inflating: __MACOSX/yolov7Data/train/images/._Screenshot-407-_png.rf.0f7795c821a06f50be2dc4c8d076e6aa.jpg  \n",
            "  inflating: yolov7Data/train/images/Image_11_jpg.rf.4726ab4220bb2a433f28502878d0d4ae.jpg  \n",
            "  inflating: __MACOSX/yolov7Data/train/images/._Image_11_jpg.rf.4726ab4220bb2a433f28502878d0d4ae.jpg  \n",
            "  inflating: yolov7Data/train/images/Image_14_jpeg.rf.56b7e53ba013cf76352398e3ba7c58d9.jpg  \n",
            "  inflating: __MACOSX/yolov7Data/train/images/._Image_14_jpeg.rf.56b7e53ba013cf76352398e3ba7c58d9.jpg  \n",
            "  inflating: yolov7Data/train/images/Screenshot-179-_png.rf.ec11c8ad929800ddc980b46198669981.jpg  \n",
            "  inflating: __MACOSX/yolov7Data/train/images/._Screenshot-179-_png.rf.ec11c8ad929800ddc980b46198669981.jpg  \n",
            "  inflating: yolov7Data/train/images/Image_27_jpg.rf.84cf11f8d02187732abe706c3ed003ee.jpg  \n",
            "  inflating: __MACOSX/yolov7Data/train/images/._Image_27_jpg.rf.84cf11f8d02187732abe706c3ed003ee.jpg  \n",
            "  inflating: yolov7Data/train/images/Screenshot-408-_png.rf.2ad4bafbfa02cfff0234601bde9d269a.jpg  \n",
            "  inflating: __MACOSX/yolov7Data/train/images/._Screenshot-408-_png.rf.2ad4bafbfa02cfff0234601bde9d269a.jpg  \n",
            "  inflating: yolov7Data/train/images/Screenshot-133-_png.rf.69f5a5a87857ad8dc111038b2b26d922.jpg  \n",
            "  inflating: __MACOSX/yolov7Data/train/images/._Screenshot-133-_png.rf.69f5a5a87857ad8dc111038b2b26d922.jpg  \n",
            "  inflating: yolov7Data/train/images/Image_182_jpg.rf.f14bf245bcb478f199a43317d8bc2399.jpg  \n",
            "  inflating: __MACOSX/yolov7Data/train/images/._Image_182_jpg.rf.f14bf245bcb478f199a43317d8bc2399.jpg  \n",
            "  inflating: yolov7Data/train/images/Image_86_jpg.rf.691416d4434fad294a0b605e65220abf.jpg  \n",
            "  inflating: __MACOSX/yolov7Data/train/images/._Image_86_jpg.rf.691416d4434fad294a0b605e65220abf.jpg  \n",
            "  inflating: yolov7Data/train/images/Screenshot-431-_png.rf.95fab82968c9052ac66e1e4239e7907a.jpg  \n",
            "  inflating: __MACOSX/yolov7Data/train/images/._Screenshot-431-_png.rf.95fab82968c9052ac66e1e4239e7907a.jpg  \n",
            "  inflating: yolov7Data/train/images/Image_26_jpg.rf.3ecabd3ec1255f2f5f735345052fd929.jpg  \n",
            "  inflating: __MACOSX/yolov7Data/train/images/._Image_26_jpg.rf.3ecabd3ec1255f2f5f735345052fd929.jpg  \n",
            "  inflating: yolov7Data/train/images/Image_4_jpg.rf.a501390538d0dab5eafd2626c6c688bd.jpg  \n",
            "  inflating: __MACOSX/yolov7Data/train/images/._Image_4_jpg.rf.a501390538d0dab5eafd2626c6c688bd.jpg  \n",
            "  inflating: yolov7Data/train/images/Image_179_jpg.rf.5b447c2a9433b57b2d46845549d23a68.jpg  \n",
            "  inflating: __MACOSX/yolov7Data/train/images/._Image_179_jpg.rf.5b447c2a9433b57b2d46845549d23a68.jpg  \n",
            "  inflating: yolov7Data/train/images/Image_118_jpg.rf.b5c0c98cbbc941e18ea6533c81a6ca3f.jpg  \n",
            "  inflating: __MACOSX/yolov7Data/train/images/._Image_118_jpg.rf.b5c0c98cbbc941e18ea6533c81a6ca3f.jpg  \n",
            "  inflating: yolov7Data/train/images/Screenshot-263-_png.rf.aaa55d8422a1d74c845a8979606d58e4.jpg  \n",
            "  inflating: __MACOSX/yolov7Data/train/images/._Screenshot-263-_png.rf.aaa55d8422a1d74c845a8979606d58e4.jpg  \n",
            "  inflating: yolov7Data/train/images/Image_45_jpg.rf.2a886f062c3a28eab7b7a007d21f5fbd.jpg  \n",
            "  inflating: __MACOSX/yolov7Data/train/images/._Image_45_jpg.rf.2a886f062c3a28eab7b7a007d21f5fbd.jpg  \n",
            "  inflating: yolov7Data/train/images/Image_141_jpg.rf.55013a6d5e8ecf02733f5f2b122ac361.jpg  \n",
            "  inflating: __MACOSX/yolov7Data/train/images/._Image_141_jpg.rf.55013a6d5e8ecf02733f5f2b122ac361.jpg  \n",
            "  inflating: yolov7Data/train/images/Image_136_jpg.rf.6ac2731634d5147b9e0f17db2bc1b445.jpg  \n",
            "  inflating: __MACOSX/yolov7Data/train/images/._Image_136_jpg.rf.6ac2731634d5147b9e0f17db2bc1b445.jpg  \n",
            "  inflating: yolov7Data/train/images/Image_169_jpg.rf.aa555f44a02750a85ea55117d932ecfe.jpg  \n",
            "  inflating: __MACOSX/yolov7Data/train/images/._Image_169_jpg.rf.aa555f44a02750a85ea55117d932ecfe.jpg  \n",
            "  inflating: yolov7Data/train/images/Screenshot-156-_png.rf.758d04afd34d7e91ac83b1cdf32c2c79.jpg  \n",
            "  inflating: __MACOSX/yolov7Data/train/images/._Screenshot-156-_png.rf.758d04afd34d7e91ac83b1cdf32c2c79.jpg  \n",
            "  inflating: yolov7Data/train/images/Image_72_JPG.rf.3e559601a512515fefa68c9b6d03e4b5.jpg  \n",
            "  inflating: __MACOSX/yolov7Data/train/images/._Image_72_JPG.rf.3e559601a512515fefa68c9b6d03e4b5.jpg  \n",
            "  inflating: yolov7Data/train/images/Image_120_jpg.rf.43b6dcd56116da2a00c37d7e0897a473.jpg  \n",
            "  inflating: __MACOSX/yolov7Data/train/images/._Image_120_jpg.rf.43b6dcd56116da2a00c37d7e0897a473.jpg  \n",
            "  inflating: yolov7Data/train/images/Screenshot-423-_png.rf.ced75faf37cca8881c2aac51683aba78.jpg  \n",
            "  inflating: __MACOSX/yolov7Data/train/images/._Screenshot-423-_png.rf.ced75faf37cca8881c2aac51683aba78.jpg  \n",
            "  inflating: yolov7Data/train/images/Image_61_jpg.rf.e56091bfea1379e2556969ffe299e70e.jpg  \n",
            "  inflating: __MACOSX/yolov7Data/train/images/._Image_61_jpg.rf.e56091bfea1379e2556969ffe299e70e.jpg  \n",
            "  inflating: yolov7Data/train/images/Screenshot-436-_png.rf.876497ed79ea6ee7860ae740e48d5415.jpg  \n",
            "  inflating: __MACOSX/yolov7Data/train/images/._Screenshot-436-_png.rf.876497ed79ea6ee7860ae740e48d5415.jpg  \n",
            "  inflating: yolov7Data/train/images/Image_103_jpeg.rf.61a9f7c83eaff8cf06ec90065de6b2dc.jpg  \n",
            "  inflating: __MACOSX/yolov7Data/train/images/._Image_103_jpeg.rf.61a9f7c83eaff8cf06ec90065de6b2dc.jpg  \n",
            "  inflating: yolov7Data/train/images/Screenshot-429-_png.rf.4b907a242cf6f5c02f121b04dcf02f9c.jpg  \n",
            "  inflating: __MACOSX/yolov7Data/train/images/._Screenshot-429-_png.rf.4b907a242cf6f5c02f121b04dcf02f9c.jpg  \n",
            "  inflating: yolov7Data/train/images/Image_23_jpg.rf.453b020b8c290da033477fdebf1f45cf.jpg  \n",
            "  inflating: __MACOSX/yolov7Data/train/images/._Image_23_jpg.rf.453b020b8c290da033477fdebf1f45cf.jpg  \n",
            "  inflating: yolov7Data/train/images/Image_40_jpg.rf.45ac5aa63ccb686feb1b1f2ccd0d6572.jpg  \n",
            "  inflating: __MACOSX/yolov7Data/train/images/._Image_40_jpg.rf.45ac5aa63ccb686feb1b1f2ccd0d6572.jpg  \n",
            "  inflating: yolov7Data/train/images/Image_16_jpg.rf.a76dff3d574bef9efeb918a2d2c9bf95.jpg  \n",
            "  inflating: __MACOSX/yolov7Data/train/images/._Image_16_jpg.rf.a76dff3d574bef9efeb918a2d2c9bf95.jpg  \n",
            "  inflating: yolov7Data/train/images/Screenshot-342-_png.rf.056faaf78dbe4d55b78080a0d1ad7138.jpg  \n",
            "  inflating: __MACOSX/yolov7Data/train/images/._Screenshot-342-_png.rf.056faaf78dbe4d55b78080a0d1ad7138.jpg  \n",
            "  inflating: yolov7Data/train/images/Image_93_jpg.rf.f7df709f12cd509138b9128130cca6ce.jpg  \n",
            "  inflating: __MACOSX/yolov7Data/train/images/._Image_93_jpg.rf.f7df709f12cd509138b9128130cca6ce.jpg  \n",
            "  inflating: yolov7Data/train/images/Image_22_jpg.rf.2ca7077f4b52dc2aae7dde2a37ff0275.jpg  \n",
            "  inflating: __MACOSX/yolov7Data/train/images/._Image_22_jpg.rf.2ca7077f4b52dc2aae7dde2a37ff0275.jpg  \n",
            "  inflating: yolov7Data/train/images/Screenshot-197-_png.rf.d642a66957aff323b1dbb7308b5c2af2.jpg  \n",
            "  inflating: __MACOSX/yolov7Data/train/images/._Screenshot-197-_png.rf.d642a66957aff323b1dbb7308b5c2af2.jpg  \n",
            "  inflating: yolov7Data/train/images/Image_33_jpg.rf.d0098095ab81f49cf4c74b503b5ea230.jpg  \n",
            "  inflating: __MACOSX/yolov7Data/train/images/._Image_33_jpg.rf.d0098095ab81f49cf4c74b503b5ea230.jpg  \n",
            "  inflating: yolov7Data/train/images/Image_17_jpg.rf.8f82bb3517f4d7fe2a2b2bb0314c59b6.jpg  \n",
            "  inflating: __MACOSX/yolov7Data/train/images/._Image_17_jpg.rf.8f82bb3517f4d7fe2a2b2bb0314c59b6.jpg  \n",
            "  inflating: yolov7Data/train/images/Image_103_jpg.rf.2fbcfce065adbf8684c6a8f87dadc856.jpg  \n",
            "  inflating: __MACOSX/yolov7Data/train/images/._Image_103_jpg.rf.2fbcfce065adbf8684c6a8f87dadc856.jpg  \n",
            "  inflating: yolov7Data/train/images/Image_19_jpg.rf.5cdfa42f3ebacacd32d9f5a03516a0f8.jpg  \n",
            "  inflating: __MACOSX/yolov7Data/train/images/._Image_19_jpg.rf.5cdfa42f3ebacacd32d9f5a03516a0f8.jpg  \n",
            "  inflating: yolov7Data/train/images/Image_23_png.rf.d2d9d5db23c0cfa0be393b030179251d.jpg  \n",
            "  inflating: __MACOSX/yolov7Data/train/images/._Image_23_png.rf.d2d9d5db23c0cfa0be393b030179251d.jpg  \n",
            "  inflating: yolov7Data/train/images/Image_29_jpg.rf.c654a1b530ac6d3c453db2f2fc5872d7.jpg  \n",
            "  inflating: __MACOSX/yolov7Data/train/images/._Image_29_jpg.rf.c654a1b530ac6d3c453db2f2fc5872d7.jpg  \n",
            "  inflating: yolov7Data/train/images/Image_62_jpg.rf.ee4f14d3103aa3975319be6d147e5a28.jpg  \n",
            "  inflating: __MACOSX/yolov7Data/train/images/._Image_62_jpg.rf.ee4f14d3103aa3975319be6d147e5a28.jpg  \n",
            "  inflating: yolov7Data/train/images/Screenshot-402-_png.rf.7afb629fe20678cba53fe4419150b8fb.jpg  \n",
            "  inflating: __MACOSX/yolov7Data/train/images/._Screenshot-402-_png.rf.7afb629fe20678cba53fe4419150b8fb.jpg  \n",
            "  inflating: yolov7Data/train/images/Image_94_jpg.rf.f2f689c489869cbca7c6d814f0d00b1e.jpg  \n",
            "  inflating: __MACOSX/yolov7Data/train/images/._Image_94_jpg.rf.f2f689c489869cbca7c6d814f0d00b1e.jpg  \n",
            "  inflating: yolov7Data/train/images/Image_123_jpg.rf.ac75820f177118dd640fd59654b08e77.jpg  \n",
            "  inflating: __MACOSX/yolov7Data/train/images/._Image_123_jpg.rf.ac75820f177118dd640fd59654b08e77.jpg  \n",
            "  inflating: yolov7Data/train/images/Screenshot-118-_png.rf.306194c4344a7a3f1ed410b0cb545dbd.jpg  \n",
            "  inflating: __MACOSX/yolov7Data/train/images/._Screenshot-118-_png.rf.306194c4344a7a3f1ed410b0cb545dbd.jpg  \n",
            "  inflating: yolov7Data/train/images/Image_126_jpg.rf.27a9ff963e5087952aa559fab5f53cf4.jpg  \n",
            "  inflating: __MACOSX/yolov7Data/train/images/._Image_126_jpg.rf.27a9ff963e5087952aa559fab5f53cf4.jpg  \n",
            "  inflating: yolov7Data/train/images/Image_146_jpg.rf.406f6f275c050dfc7a2823ccaf1c6a77.jpg  \n",
            "  inflating: __MACOSX/yolov7Data/train/images/._Image_146_jpg.rf.406f6f275c050dfc7a2823ccaf1c6a77.jpg  \n",
            "  inflating: yolov7Data/train/images/Screenshot-414-_png.rf.542571aeb1295392f23c0c60a4eb0ad5.jpg  \n",
            "  inflating: __MACOSX/yolov7Data/train/images/._Screenshot-414-_png.rf.542571aeb1295392f23c0c60a4eb0ad5.jpg  \n",
            "  inflating: yolov7Data/train/images/Image_63_jpg.rf.811b83d28355fba87255b8ac3248d34d.jpg  \n",
            "  inflating: __MACOSX/yolov7Data/train/images/._Image_63_jpg.rf.811b83d28355fba87255b8ac3248d34d.jpg  \n",
            "  inflating: yolov7Data/train/images/Image_173_jpg.rf.f476cb63d3aa5f75a7cad527014d3350.jpg  \n",
            "  inflating: __MACOSX/yolov7Data/train/images/._Image_173_jpg.rf.f476cb63d3aa5f75a7cad527014d3350.jpg  \n",
            "  inflating: yolov7Data/train/images/Screenshot-104-_png.rf.80908a01993a23d851d526ffbdfbeb55.jpg  \n",
            "  inflating: __MACOSX/yolov7Data/train/images/._Screenshot-104-_png.rf.80908a01993a23d851d526ffbdfbeb55.jpg  \n",
            "  inflating: yolov7Data/train/images/Screenshot-268-_png.rf.10b1d8e2b677af6e2d1cee877b12a0f3.jpg  \n",
            "  inflating: __MACOSX/yolov7Data/train/images/._Screenshot-268-_png.rf.10b1d8e2b677af6e2d1cee877b12a0f3.jpg  \n",
            "  inflating: yolov7Data/train/images/Image_83_jpg.rf.f1b25c5098dc27842af0026fb85cfeb8.jpg  \n",
            "  inflating: __MACOSX/yolov7Data/train/images/._Image_83_jpg.rf.f1b25c5098dc27842af0026fb85cfeb8.jpg  \n",
            "  inflating: yolov7Data/train/images/Image_35_jpg.rf.8ede617be07afe60f3354a74a606a52e.jpg  \n",
            "  inflating: __MACOSX/yolov7Data/train/images/._Image_35_jpg.rf.8ede617be07afe60f3354a74a606a52e.jpg  \n",
            "  inflating: yolov7Data/train/images/Screenshot-269-_png.rf.ee72b9c50679f00bc106f0187babe7f6.jpg  \n",
            "  inflating: __MACOSX/yolov7Data/train/images/._Screenshot-269-_png.rf.ee72b9c50679f00bc106f0187babe7f6.jpg  \n",
            "  inflating: yolov7Data/train/images/Screenshot-430-_png.rf.301122d9e229ca4063abbdfcc8c20a02.jpg  \n",
            "  inflating: __MACOSX/yolov7Data/train/images/._Screenshot-430-_png.rf.301122d9e229ca4063abbdfcc8c20a02.jpg  \n",
            "  inflating: yolov7Data/train/images/Image_115_jpg.rf.f59fb2a76df989af36d9564178213bdb.jpg  \n",
            "  inflating: __MACOSX/yolov7Data/train/images/._Image_115_jpg.rf.f59fb2a76df989af36d9564178213bdb.jpg  \n",
            "  inflating: yolov7Data/train/images/Screenshot-106-_png.rf.b4a13e8a4434847bc6080fc0c85e271c.jpg  \n",
            "  inflating: __MACOSX/yolov7Data/train/images/._Screenshot-106-_png.rf.b4a13e8a4434847bc6080fc0c85e271c.jpg  \n",
            "  inflating: yolov7Data/train/images/Image_103_jpg.rf.80f6cd16b999dcd21d3eabf8ebb9c6f6.jpg  \n",
            "  inflating: __MACOSX/yolov7Data/train/images/._Image_103_jpg.rf.80f6cd16b999dcd21d3eabf8ebb9c6f6.jpg  \n",
            "  inflating: yolov7Data/train/images/Image_110_jpg.rf.bbd5e75afaa10c6fe5ffc16e0a554c89.jpg  \n",
            "  inflating: __MACOSX/yolov7Data/train/images/._Image_110_jpg.rf.bbd5e75afaa10c6fe5ffc16e0a554c89.jpg  \n",
            "  inflating: yolov7Data/train/images/Image_64_jpg.rf.032d4c937c1b5c01cfd9c40e14f74d06.jpg  \n",
            "  inflating: __MACOSX/yolov7Data/train/images/._Image_64_jpg.rf.032d4c937c1b5c01cfd9c40e14f74d06.jpg  \n",
            "  inflating: yolov7Data/train/images/Screenshot-128-_png.rf.5013f205d0e9ddf5dae6cf3237a19082.jpg  \n",
            "  inflating: __MACOSX/yolov7Data/train/images/._Screenshot-128-_png.rf.5013f205d0e9ddf5dae6cf3237a19082.jpg  \n",
            "  inflating: yolov7Data/train/images/Screenshot-376-_png.rf.2d0e13a0a3fd214ff1458cda9aed814b.jpg  \n",
            "  inflating: __MACOSX/yolov7Data/train/images/._Screenshot-376-_png.rf.2d0e13a0a3fd214ff1458cda9aed814b.jpg  \n",
            "  inflating: yolov7Data/train/images/Screenshot-366-_png.rf.68d6c216313f7131332e9671b556670b.jpg  \n",
            "  inflating: __MACOSX/yolov7Data/train/images/._Screenshot-366-_png.rf.68d6c216313f7131332e9671b556670b.jpg  \n",
            "  inflating: yolov7Data/train/images/Image_150_jpg.rf.83ed0a3286ddc835ff7c8c7759e2684f.jpg  \n",
            "  inflating: __MACOSX/yolov7Data/train/images/._Image_150_jpg.rf.83ed0a3286ddc835ff7c8c7759e2684f.jpg  \n",
            "  inflating: yolov7Data/train/images/Image_39_png.rf.1952b9e516d2e32d29a704cda40de046.jpg  \n",
            "  inflating: __MACOSX/yolov7Data/train/images/._Image_39_png.rf.1952b9e516d2e32d29a704cda40de046.jpg  \n",
            "  inflating: yolov7Data/train/images/Image_90_jpg.rf.f852825b36025517df5d64f5259de6cc.jpg  \n",
            "  inflating: __MACOSX/yolov7Data/train/images/._Image_90_jpg.rf.f852825b36025517df5d64f5259de6cc.jpg  \n",
            "  inflating: yolov7Data/train/images/Screenshot-441-_png.rf.00090ae7222bd7390fa7bcf28ee993f9.jpg  \n",
            "  inflating: __MACOSX/yolov7Data/train/images/._Screenshot-441-_png.rf.00090ae7222bd7390fa7bcf28ee993f9.jpg  \n",
            "  inflating: yolov7Data/train/images/Image_106_jpg.rf.dc7603ed443f975171339506236b2dbd.jpg  \n",
            "  inflating: __MACOSX/yolov7Data/train/images/._Image_106_jpg.rf.dc7603ed443f975171339506236b2dbd.jpg  \n",
            "  inflating: yolov7Data/train/images/Screenshot-96-_png.rf.acae6e2568e0b05dc06abbf9cdb0ac80.jpg  \n",
            "  inflating: __MACOSX/yolov7Data/train/images/._Screenshot-96-_png.rf.acae6e2568e0b05dc06abbf9cdb0ac80.jpg  \n",
            "  inflating: yolov7Data/train/images/Screenshot-181-_png.rf.134039a2e36dfd14d8a9e0a0d3d26526.jpg  \n",
            "  inflating: __MACOSX/yolov7Data/train/images/._Screenshot-181-_png.rf.134039a2e36dfd14d8a9e0a0d3d26526.jpg  \n",
            "  inflating: yolov7Data/train/images/Image_144_jpg.rf.acfb808513dc269e2e1959a4100b2b04.jpg  \n",
            "  inflating: __MACOSX/yolov7Data/train/images/._Image_144_jpg.rf.acfb808513dc269e2e1959a4100b2b04.jpg  \n",
            "  inflating: yolov7Data/train/images/Image_88_jpg.rf.3e07198f55ca3f3be2ea27ed99977024.jpg  \n",
            "  inflating: __MACOSX/yolov7Data/train/images/._Image_88_jpg.rf.3e07198f55ca3f3be2ea27ed99977024.jpg  \n",
            "  inflating: yolov7Data/train/images/Image_84_jpg.rf.ccd01e8aac7f7e3dffaec5598ca36922.jpg  \n",
            "  inflating: __MACOSX/yolov7Data/train/images/._Image_84_jpg.rf.ccd01e8aac7f7e3dffaec5598ca36922.jpg  \n",
            "  inflating: yolov7Data/train/images/Screenshot-328-_png.rf.024859cb12cb7196b3e63054707e55c3.jpg  \n",
            "  inflating: __MACOSX/yolov7Data/train/images/._Screenshot-328-_png.rf.024859cb12cb7196b3e63054707e55c3.jpg  \n",
            "  inflating: yolov7Data/train/images/Image_20_jpg.rf.30ebc1afa021ab98b4ed89d6d6f470e0.jpg  \n",
            "  inflating: __MACOSX/yolov7Data/train/images/._Image_20_jpg.rf.30ebc1afa021ab98b4ed89d6d6f470e0.jpg  \n",
            "  inflating: yolov7Data/train/images/Image_34_jpg.rf.ffd1f81efe0bcbfcfb7564ac6c87b348.jpg  \n",
            "  inflating: __MACOSX/yolov7Data/train/images/._Image_34_jpg.rf.ffd1f81efe0bcbfcfb7564ac6c87b348.jpg  \n",
            "  inflating: yolov7Data/train/images/Screenshot-188-_png.rf.f7109331297d5869dde51de922c34b31.jpg  \n",
            "  inflating: __MACOSX/yolov7Data/train/images/._Screenshot-188-_png.rf.f7109331297d5869dde51de922c34b31.jpg  \n",
            "  inflating: yolov7Data/train/images/Screenshot-115-_png.rf.4d259ec03611c89ba7b76ff166093ae4.jpg  \n",
            "  inflating: __MACOSX/yolov7Data/train/images/._Screenshot-115-_png.rf.4d259ec03611c89ba7b76ff166093ae4.jpg  \n",
            "  inflating: yolov7Data/train/images/Screenshot-66-_png.rf.31b8a7f7bfd2685150292570aef4caab.jpg  \n",
            "  inflating: __MACOSX/yolov7Data/train/images/._Screenshot-66-_png.rf.31b8a7f7bfd2685150292570aef4caab.jpg  \n",
            "  inflating: yolov7Data/train/images/Image_14_jpg.rf.045fa961b1781415846c7267b81b68ee.jpg  \n",
            "  inflating: __MACOSX/yolov7Data/train/images/._Image_14_jpg.rf.045fa961b1781415846c7267b81b68ee.jpg  \n",
            "  inflating: yolov7Data/train/images/Image_57_jpg.rf.4b689951daecfdfc66d6c0cd72179ca7.jpg  \n",
            "  inflating: __MACOSX/yolov7Data/train/images/._Image_57_jpg.rf.4b689951daecfdfc66d6c0cd72179ca7.jpg  \n",
            "  inflating: yolov7Data/train/images/Screenshot-210-_png.rf.3dd5c7b5f41857e37ffd48f4e1676666.jpg  \n",
            "  inflating: __MACOSX/yolov7Data/train/images/._Screenshot-210-_png.rf.3dd5c7b5f41857e37ffd48f4e1676666.jpg  \n",
            "  inflating: yolov7Data/train/images/Screenshot-275-_png.rf.52eb8bfc2cd5a8c4818491740244bcc7.jpg  \n",
            "  inflating: __MACOSX/yolov7Data/train/images/._Screenshot-275-_png.rf.52eb8bfc2cd5a8c4818491740244bcc7.jpg  \n",
            "  inflating: yolov7Data/train/images/Image_91_jpg.rf.386fccdc298490f6df8cbdc9b4384947.jpg  \n",
            "  inflating: __MACOSX/yolov7Data/train/images/._Image_91_jpg.rf.386fccdc298490f6df8cbdc9b4384947.jpg  \n",
            "  inflating: yolov7Data/train/images/Image_116_jpg.rf.3cc68a7f5df47f32c694cc59f78d6611.jpg  \n",
            "  inflating: __MACOSX/yolov7Data/train/images/._Image_116_jpg.rf.3cc68a7f5df47f32c694cc59f78d6611.jpg  \n",
            "  inflating: yolov7Data/train/images/Image_110_jpg.rf.b430b7335d31575ad10feadb40ea1da9.jpg  \n",
            "  inflating: __MACOSX/yolov7Data/train/images/._Image_110_jpg.rf.b430b7335d31575ad10feadb40ea1da9.jpg  \n",
            "  inflating: yolov7Data/train/images/Image_166_jpg.rf.9ff3112903d8c105475ee877bbef4973.jpg  \n",
            "  inflating: __MACOSX/yolov7Data/train/images/._Image_166_jpg.rf.9ff3112903d8c105475ee877bbef4973.jpg  \n",
            "  inflating: yolov7Data/train/images/Screenshot-163-_png.rf.56b587ef5c281aede11a5f099670a469.jpg  \n",
            "  inflating: __MACOSX/yolov7Data/train/images/._Screenshot-163-_png.rf.56b587ef5c281aede11a5f099670a469.jpg  \n",
            "  inflating: yolov7Data/train/images/Image_25_jpg.rf.bdb9dcdde44a36e25719debba35347c7.jpg  \n",
            "  inflating: __MACOSX/yolov7Data/train/images/._Image_25_jpg.rf.bdb9dcdde44a36e25719debba35347c7.jpg  \n",
            "  inflating: yolov7Data/train/images/Screenshot-371-_png.rf.fffc24a25544adcd6abbdcd19560f71c.jpg  \n",
            "  inflating: __MACOSX/yolov7Data/train/images/._Screenshot-371-_png.rf.fffc24a25544adcd6abbdcd19560f71c.jpg  \n",
            "  inflating: yolov7Data/train/images/Image_96_JPG.rf.fa5e53de5d2bc0cc603e12c56c0f0ec5.jpg  \n",
            "  inflating: __MACOSX/yolov7Data/train/images/._Image_96_JPG.rf.fa5e53de5d2bc0cc603e12c56c0f0ec5.jpg  \n",
            "  inflating: yolov7Data/train/images/Image_40_jpg.rf.d6bd36266aae0b444e43d27edfcc4adf.jpg  \n",
            "  inflating: __MACOSX/yolov7Data/train/images/._Image_40_jpg.rf.d6bd36266aae0b444e43d27edfcc4adf.jpg  \n",
            "  inflating: yolov7Data/train/images/Image_54_jpg.rf.cb2667816dade00ce61515d8d37acffb.jpg  \n",
            "  inflating: __MACOSX/yolov7Data/train/images/._Image_54_jpg.rf.cb2667816dade00ce61515d8d37acffb.jpg  \n",
            "  inflating: yolov7Data/train/images/Image_183_jpg.rf.cd703747e1fa10813c0c115fc0577c04.jpg  \n",
            "  inflating: __MACOSX/yolov7Data/train/images/._Image_183_jpg.rf.cd703747e1fa10813c0c115fc0577c04.jpg  \n",
            "  inflating: yolov7Data/train/images/Image_7_jpg.rf.b3d2ca816f8384548c0dae1f6a02dc4f.jpg  \n",
            "  inflating: __MACOSX/yolov7Data/train/images/._Image_7_jpg.rf.b3d2ca816f8384548c0dae1f6a02dc4f.jpg  \n",
            "  inflating: yolov7Data/train/images/Screenshot-102-_png.rf.42f332a9a663c7f3f16292563566d53e.jpg  \n",
            "  inflating: __MACOSX/yolov7Data/train/images/._Screenshot-102-_png.rf.42f332a9a663c7f3f16292563566d53e.jpg  \n",
            "  inflating: yolov7Data/train/images/Image_10_JPG.rf.6a9db30b206f0e7ba1627dc846af44d1.jpg  \n",
            "  inflating: __MACOSX/yolov7Data/train/images/._Image_10_JPG.rf.6a9db30b206f0e7ba1627dc846af44d1.jpg  \n",
            "  inflating: yolov7Data/train/images/Image_184_JPG.rf.36901dfdbc5d91eb96023e78bad991a5.jpg  \n",
            "  inflating: __MACOSX/yolov7Data/train/images/._Image_184_JPG.rf.36901dfdbc5d91eb96023e78bad991a5.jpg  \n",
            "  inflating: yolov7Data/train/images/Screenshot-265-_png.rf.e4fff6c010377c4a41750a1d13354965.jpg  \n",
            "  inflating: __MACOSX/yolov7Data/train/images/._Screenshot-265-_png.rf.e4fff6c010377c4a41750a1d13354965.jpg  \n",
            "  inflating: yolov7Data/train/images/Image_163_jpg.rf.79271d501b6b48ce82af86920fa142eb.jpg  \n",
            "  inflating: __MACOSX/yolov7Data/train/images/._Image_163_jpg.rf.79271d501b6b48ce82af86920fa142eb.jpg  \n",
            "  inflating: yolov7Data/train/images/Screenshot-247-_png.rf.f291356010eb730c1b5f5bfc2c945271.jpg  \n",
            "  inflating: __MACOSX/yolov7Data/train/images/._Screenshot-247-_png.rf.f291356010eb730c1b5f5bfc2c945271.jpg  \n",
            "  inflating: yolov7Data/train/images/Screenshot-137-_png.rf.3f128dc660859b607e51dfc5932f05d6.jpg  \n",
            "  inflating: __MACOSX/yolov7Data/train/images/._Screenshot-137-_png.rf.3f128dc660859b607e51dfc5932f05d6.jpg  \n",
            "  inflating: yolov7Data/train/images/Image_121_JPG.rf.30fb8c5aebfa0e0e197f8c5204aebd4b.jpg  \n",
            "  inflating: __MACOSX/yolov7Data/train/images/._Image_121_JPG.rf.30fb8c5aebfa0e0e197f8c5204aebd4b.jpg  \n",
            "  inflating: yolov7Data/train/images/Image_100_jpg.rf.95a91781800211163d9f434df25ac511.jpg  \n",
            "  inflating: __MACOSX/yolov7Data/train/images/._Image_100_jpg.rf.95a91781800211163d9f434df25ac511.jpg  \n",
            "  inflating: yolov7Data/train/images/Image_124_jpg.rf.bb436981c6125d8ba0267330584622c6.jpg  \n",
            "  inflating: __MACOSX/yolov7Data/train/images/._Image_124_jpg.rf.bb436981c6125d8ba0267330584622c6.jpg  \n",
            "  inflating: yolov7Data/train/images/Screenshot-459-_png.rf.36c2e84d57f1914fc6948a06da2b3bda.jpg  \n",
            "  inflating: __MACOSX/yolov7Data/train/images/._Screenshot-459-_png.rf.36c2e84d57f1914fc6948a06da2b3bda.jpg  \n",
            "  inflating: yolov7Data/train/images/Screenshot-289-_png.rf.5dbdc9a2316691c6486349143f84b34e.jpg  \n",
            "  inflating: __MACOSX/yolov7Data/train/images/._Screenshot-289-_png.rf.5dbdc9a2316691c6486349143f84b34e.jpg  \n",
            "  inflating: yolov7Data/train/images/Screenshot-322-_png.rf.9495e31df20c216021789cf868324677.jpg  \n",
            "  inflating: __MACOSX/yolov7Data/train/images/._Screenshot-322-_png.rf.9495e31df20c216021789cf868324677.jpg  \n",
            "  inflating: yolov7Data/train/images/Screenshot-390-_png.rf.8b5917ddd0a7a122e9faa303224f95b7.jpg  \n",
            "  inflating: __MACOSX/yolov7Data/train/images/._Screenshot-390-_png.rf.8b5917ddd0a7a122e9faa303224f95b7.jpg  \n",
            "  inflating: yolov7Data/train/images/Image_25_jpg.rf.f45babea1289f149c61a48bb1817a9d5.jpg  \n",
            "  inflating: __MACOSX/yolov7Data/train/images/._Image_25_jpg.rf.f45babea1289f149c61a48bb1817a9d5.jpg  \n",
            "  inflating: yolov7Data/train/images/Image_21_jpg.rf.bfc0539ee24ee465d163603245b67029.jpg  \n",
            "  inflating: __MACOSX/yolov7Data/train/images/._Image_21_jpg.rf.bfc0539ee24ee465d163603245b67029.jpg  \n",
            "  inflating: yolov7Data/train/images/Image_28_jpg.rf.81fc82089a503077b5281bb1c0b62981.jpg  \n",
            "  inflating: __MACOSX/yolov7Data/train/images/._Image_28_jpg.rf.81fc82089a503077b5281bb1c0b62981.jpg  \n",
            "  inflating: yolov7Data/train/images/Image_146_jpg.rf.999fe3622e5cdfda3ef33b0ff89b5de9.jpg  \n",
            "  inflating: __MACOSX/yolov7Data/train/images/._Image_146_jpg.rf.999fe3622e5cdfda3ef33b0ff89b5de9.jpg  \n",
            "  inflating: yolov7Data/train/images/Screenshot-280-_png.rf.72cf6dee408cf67537fe5903f5b9f89c.jpg  \n",
            "  inflating: __MACOSX/yolov7Data/train/images/._Screenshot-280-_png.rf.72cf6dee408cf67537fe5903f5b9f89c.jpg  \n",
            "  inflating: yolov7Data/train/images/Image_150_jpg.rf.5692465df08fcbc40c5f5703504cfebb.jpg  \n",
            "  inflating: __MACOSX/yolov7Data/train/images/._Image_150_jpg.rf.5692465df08fcbc40c5f5703504cfebb.jpg  \n",
            "  inflating: yolov7Data/train/images/Image_5_JPG.rf.1c2f065e6dc56932332269fd8d581d99.jpg  \n",
            "  inflating: __MACOSX/yolov7Data/train/images/._Image_5_JPG.rf.1c2f065e6dc56932332269fd8d581d99.jpg  \n",
            "  inflating: yolov7Data/train/images/Screenshot-321-_png.rf.134aabff2dae405bd265caa0b612a043.jpg  \n",
            "  inflating: __MACOSX/yolov7Data/train/images/._Screenshot-321-_png.rf.134aabff2dae405bd265caa0b612a043.jpg  \n",
            "  inflating: yolov7Data/train/images/Screenshot-457-_png.rf.4c2f80788fac0321842643290395a59c.jpg  \n",
            "  inflating: __MACOSX/yolov7Data/train/images/._Screenshot-457-_png.rf.4c2f80788fac0321842643290395a59c.jpg  \n",
            "  inflating: yolov7Data/train/images/Image_156_jpg.rf.677b0e2792a8bb8f4f70ee2b029b22a0.jpg  \n",
            "  inflating: __MACOSX/yolov7Data/train/images/._Image_156_jpg.rf.677b0e2792a8bb8f4f70ee2b029b22a0.jpg  \n",
            "  inflating: yolov7Data/train/images/Image_98_jpg.rf.65e6547480d45fc224597d2d9e796c8c.jpg  \n",
            "  inflating: __MACOSX/yolov7Data/train/images/._Image_98_jpg.rf.65e6547480d45fc224597d2d9e796c8c.jpg  \n",
            "  inflating: yolov7Data/train/images/Image_46_jpg.rf.cfc35506105c69323a0547a86be6c414.jpg  \n",
            "  inflating: __MACOSX/yolov7Data/train/images/._Image_46_jpg.rf.cfc35506105c69323a0547a86be6c414.jpg  \n",
            "  inflating: yolov7Data/train/images/Image_107_jpg.rf.cde8a17a0173fdb82b17d6c6248961b6.jpg  \n",
            "  inflating: __MACOSX/yolov7Data/train/images/._Image_107_jpg.rf.cde8a17a0173fdb82b17d6c6248961b6.jpg  \n",
            "  inflating: yolov7Data/train/images/Image_88_jpg.rf.8468af0065f14a1b6bc6a8923ae3aeec.jpg  \n",
            "  inflating: __MACOSX/yolov7Data/train/images/._Image_88_jpg.rf.8468af0065f14a1b6bc6a8923ae3aeec.jpg  \n",
            "  inflating: yolov7Data/train/images/Screenshot-44-_png.rf.1536c78a8abb9fa9e2f2ce7bf2888c5c.jpg  \n",
            "  inflating: __MACOSX/yolov7Data/train/images/._Screenshot-44-_png.rf.1536c78a8abb9fa9e2f2ce7bf2888c5c.jpg  \n",
            "  inflating: yolov7Data/train/images/Image_164_JPG.rf.78bde6154c4c584e043b7a6cb26d6dfc.jpg  \n",
            "  inflating: __MACOSX/yolov7Data/train/images/._Image_164_JPG.rf.78bde6154c4c584e043b7a6cb26d6dfc.jpg  \n",
            "  inflating: yolov7Data/train/images/Image_1_jpg.rf.2474ee71788892cfd0dfd2f76816d6a0.jpg  \n",
            "  inflating: __MACOSX/yolov7Data/train/images/._Image_1_jpg.rf.2474ee71788892cfd0dfd2f76816d6a0.jpg  \n",
            "  inflating: yolov7Data/train/images/Image_99_jpg.rf.bf216e9d02ad743aa70b6c82203122ad.jpg  \n",
            "  inflating: __MACOSX/yolov7Data/train/images/._Image_99_jpg.rf.bf216e9d02ad743aa70b6c82203122ad.jpg  \n",
            "  inflating: yolov7Data/train/images/Image_135_jpg.rf.e418d833adf8e26fce9b06351761296a.jpg  \n",
            "  inflating: __MACOSX/yolov7Data/train/images/._Image_135_jpg.rf.e418d833adf8e26fce9b06351761296a.jpg  \n",
            "  inflating: yolov7Data/train/images/Screenshot-425-_png.rf.ef02e0dc1d41210d7f7eaa714a50f9e1.jpg  \n",
            "  inflating: __MACOSX/yolov7Data/train/images/._Screenshot-425-_png.rf.ef02e0dc1d41210d7f7eaa714a50f9e1.jpg  \n",
            "  inflating: yolov7Data/train/images/Image_68_jpg.rf.3b170156a690d4a67cb5120165ad625f.jpg  \n",
            "  inflating: __MACOSX/yolov7Data/train/images/._Image_68_jpg.rf.3b170156a690d4a67cb5120165ad625f.jpg  \n",
            "  inflating: yolov7Data/train/images/Image_147_jpg.rf.bf49836d229d8a8ca5f8af80f12ee34b.jpg  \n",
            "  inflating: __MACOSX/yolov7Data/train/images/._Image_147_jpg.rf.bf49836d229d8a8ca5f8af80f12ee34b.jpg  \n",
            "  inflating: yolov7Data/train/images/Screenshot-13-_png.rf.c16808364c4c85447b17c5c732decbbc.jpg  \n",
            "  inflating: __MACOSX/yolov7Data/train/images/._Screenshot-13-_png.rf.c16808364c4c85447b17c5c732decbbc.jpg  \n",
            "  inflating: yolov7Data/train/images/Image_195_jpg.rf.5e396be2703c8b68626c1c35ff9097e1.jpg  \n",
            "  inflating: __MACOSX/yolov7Data/train/images/._Image_195_jpg.rf.5e396be2703c8b68626c1c35ff9097e1.jpg  \n",
            "  inflating: yolov7Data/train/images/Screenshot-443-_png.rf.2ff53620101d914bfa255dd2f6508337.jpg  \n",
            "  inflating: __MACOSX/yolov7Data/train/images/._Screenshot-443-_png.rf.2ff53620101d914bfa255dd2f6508337.jpg  \n",
            "  inflating: yolov7Data/train/images/Image_129_jpg.rf.0b5f17c7707df21ed3d2a7084441a41f.jpg  \n",
            "  inflating: __MACOSX/yolov7Data/train/images/._Image_129_jpg.rf.0b5f17c7707df21ed3d2a7084441a41f.jpg  \n",
            "  inflating: yolov7Data/train/images/Image_142_jpg.rf.c4bb698bd479e3e7fa3a2faaf63074e4.jpg  \n",
            "  inflating: __MACOSX/yolov7Data/train/images/._Image_142_jpg.rf.c4bb698bd479e3e7fa3a2faaf63074e4.jpg  \n",
            "  inflating: yolov7Data/train/images/Image_105_jpg.rf.bd651d5d6b5c13c1fef059e3d3193d9a.jpg  \n",
            "  inflating: __MACOSX/yolov7Data/train/images/._Image_105_jpg.rf.bd651d5d6b5c13c1fef059e3d3193d9a.jpg  \n",
            "  inflating: yolov7Data/train/images/Screenshot-202-_png.rf.99ea3b1e3558103849b8965af07f8815.jpg  \n",
            "  inflating: __MACOSX/yolov7Data/train/images/._Screenshot-202-_png.rf.99ea3b1e3558103849b8965af07f8815.jpg  \n",
            "  inflating: yolov7Data/train/images/Image_133_jpg.rf.abca7009d87ebd63eac92ba7961c1c71.jpg  \n",
            "  inflating: __MACOSX/yolov7Data/train/images/._Image_133_jpg.rf.abca7009d87ebd63eac92ba7961c1c71.jpg  \n",
            "  inflating: yolov7Data/train/images/Image_113_jpg.rf.e63f28ea6b2cb45769dc646549dc222a.jpg  \n",
            "  inflating: __MACOSX/yolov7Data/train/images/._Image_113_jpg.rf.e63f28ea6b2cb45769dc646549dc222a.jpg  \n",
            "  inflating: yolov7Data/train/images/Screenshot-68-_png.rf.38e197f46bd36ab1011a491d6821d13b.jpg  \n",
            "  inflating: __MACOSX/yolov7Data/train/images/._Screenshot-68-_png.rf.38e197f46bd36ab1011a491d6821d13b.jpg  \n",
            "  inflating: yolov7Data/train/images/Screenshot-125-_png.rf.3af85af4bb1769fc09daef68c527b877.jpg  \n",
            "  inflating: __MACOSX/yolov7Data/train/images/._Screenshot-125-_png.rf.3af85af4bb1769fc09daef68c527b877.jpg  \n",
            "  inflating: yolov7Data/train/images/Image_43_jpeg.rf.41f747e347fc819baf2b8aa5ffdb61b6.jpg  \n",
            "  inflating: __MACOSX/yolov7Data/train/images/._Image_43_jpeg.rf.41f747e347fc819baf2b8aa5ffdb61b6.jpg  \n",
            "  inflating: yolov7Data/train/images/Image_41_jpg.rf.97e6bb6d2b2fd0e64d5fdff60f45a161.jpg  \n",
            "  inflating: __MACOSX/yolov7Data/train/images/._Image_41_jpg.rf.97e6bb6d2b2fd0e64d5fdff60f45a161.jpg  \n",
            "  inflating: yolov7Data/train/images/Image_188_jpg.rf.1aa6df26e8db7ea3c71f69046c882a78.jpg  \n",
            "  inflating: __MACOSX/yolov7Data/train/images/._Image_188_jpg.rf.1aa6df26e8db7ea3c71f69046c882a78.jpg  \n",
            "  inflating: yolov7Data/train/images/Screenshot-357-_png.rf.f2536d669498fcb03625220a24c80e43.jpg  \n",
            "  inflating: __MACOSX/yolov7Data/train/images/._Screenshot-357-_png.rf.f2536d669498fcb03625220a24c80e43.jpg  \n",
            "  inflating: yolov7Data/train/images/Screenshot-208-_png.rf.c968856c803caf704852bdb903aafe0a.jpg  \n",
            "  inflating: __MACOSX/yolov7Data/train/images/._Screenshot-208-_png.rf.c968856c803caf704852bdb903aafe0a.jpg  \n",
            "  inflating: yolov7Data/train/images/Image_59_jpg.rf.1ab43514e56f503b439b7c1c1dd4280f.jpg  \n",
            "  inflating: __MACOSX/yolov7Data/train/images/._Image_59_jpg.rf.1ab43514e56f503b439b7c1c1dd4280f.jpg  \n",
            "  inflating: yolov7Data/train/images/Image_8_jpg.rf.83d3a2b04cd5a6007745733055128299.jpg  \n",
            "  inflating: __MACOSX/yolov7Data/train/images/._Image_8_jpg.rf.83d3a2b04cd5a6007745733055128299.jpg  \n",
            "  inflating: yolov7Data/train/images/Image_96_jpg.rf.dba7b5b55526075b2e1b70504de4e06c.jpg  \n",
            "  inflating: __MACOSX/yolov7Data/train/images/._Image_96_jpg.rf.dba7b5b55526075b2e1b70504de4e06c.jpg  \n",
            "  inflating: yolov7Data/train/labels/Image_90_jpg.rf.4da7523cd769e477a08730ef69153722.txt  \n",
            "  inflating: __MACOSX/yolov7Data/train/labels/._Image_90_jpg.rf.4da7523cd769e477a08730ef69153722.txt  \n",
            "  inflating: yolov7Data/train/labels/Screenshot-447-_png.rf.96d0d16a6bbc7db4f5685593f0c2b00d.txt  \n",
            "  inflating: __MACOSX/yolov7Data/train/labels/._Screenshot-447-_png.rf.96d0d16a6bbc7db4f5685593f0c2b00d.txt  \n",
            "  inflating: yolov7Data/train/labels/Image_37_jpg.rf.ec6865f7e30dafe1714dc988d0d693c4.txt  \n",
            "  inflating: __MACOSX/yolov7Data/train/labels/._Image_37_jpg.rf.ec6865f7e30dafe1714dc988d0d693c4.txt  \n",
            "  inflating: yolov7Data/train/labels/Image_103_jpg.rf.ce492f4cbb30fb7296d01f703eac2d9e.txt  \n",
            "  inflating: __MACOSX/yolov7Data/train/labels/._Image_103_jpg.rf.ce492f4cbb30fb7296d01f703eac2d9e.txt  \n",
            "  inflating: yolov7Data/train/labels/Image_85_jpg.rf.2597c8bafa062d1abaa3d55fe8bce3f6.txt  \n",
            "  inflating: __MACOSX/yolov7Data/train/labels/._Image_85_jpg.rf.2597c8bafa062d1abaa3d55fe8bce3f6.txt  \n",
            "  inflating: yolov7Data/train/labels/Screenshot-98-_png.rf.6058d9e51273cdc20540676726579156.txt  \n",
            "  inflating: __MACOSX/yolov7Data/train/labels/._Screenshot-98-_png.rf.6058d9e51273cdc20540676726579156.txt  \n",
            "  inflating: yolov7Data/train/labels/Screenshot-276-_png.rf.52e361a2ad4a630c30774812ca61d911.txt  \n",
            "  inflating: __MACOSX/yolov7Data/train/labels/._Screenshot-276-_png.rf.52e361a2ad4a630c30774812ca61d911.txt  \n",
            "  inflating: yolov7Data/train/labels/Image_155_jpg.rf.cf48f5d8c1c200b90d9a9566ca58be97.txt  \n",
            "  inflating: __MACOSX/yolov7Data/train/labels/._Image_155_jpg.rf.cf48f5d8c1c200b90d9a9566ca58be97.txt  \n",
            "  inflating: yolov7Data/train/labels/Image_108_jpg.rf.6f291ea41a7635cfb6d4863b82c60ca6.txt  \n",
            "  inflating: __MACOSX/yolov7Data/train/labels/._Image_108_jpg.rf.6f291ea41a7635cfb6d4863b82c60ca6.txt  \n",
            "  inflating: yolov7Data/train/labels/Screenshot-123-_png.rf.c89f736803e8630befc92ecac355bd84.txt  \n",
            "  inflating: __MACOSX/yolov7Data/train/labels/._Screenshot-123-_png.rf.c89f736803e8630befc92ecac355bd84.txt  \n",
            "  inflating: yolov7Data/train/labels/Screenshot-405-_png.rf.17067ae76e0fe41848da12c654785ebf.txt  \n",
            "  inflating: __MACOSX/yolov7Data/train/labels/._Screenshot-405-_png.rf.17067ae76e0fe41848da12c654785ebf.txt  \n",
            "  inflating: yolov7Data/train/labels/Screenshot-117-_png.rf.6fa1b17f94387053519cf2f2bfede945.txt  \n",
            "  inflating: __MACOSX/yolov7Data/train/labels/._Screenshot-117-_png.rf.6fa1b17f94387053519cf2f2bfede945.txt  \n",
            "  inflating: yolov7Data/train/labels/Image_104_jpg.rf.45e56cb482e3e9195b9d4fae152e2819.txt  \n",
            "  inflating: __MACOSX/yolov7Data/train/labels/._Image_104_jpg.rf.45e56cb482e3e9195b9d4fae152e2819.txt  \n",
            "  inflating: yolov7Data/train/labels/Image_161_jpg.rf.bb33a08de2f9cd7a79e5c3036166ef89.txt  \n",
            "  inflating: __MACOSX/yolov7Data/train/labels/._Image_161_jpg.rf.bb33a08de2f9cd7a79e5c3036166ef89.txt  \n",
            "  inflating: yolov7Data/train/labels/Screenshot-394-_png.rf.156e99217fd2e81d7f4a493b80ebfd0f.txt  \n",
            "  inflating: __MACOSX/yolov7Data/train/labels/._Screenshot-394-_png.rf.156e99217fd2e81d7f4a493b80ebfd0f.txt  \n",
            "  inflating: yolov7Data/train/labels/Image_126_jpg.rf.8e29ad463bece9316902a240a33dcebb.txt  \n",
            "  inflating: __MACOSX/yolov7Data/train/labels/._Image_126_jpg.rf.8e29ad463bece9316902a240a33dcebb.txt  \n",
            "  inflating: yolov7Data/train/labels/Image_114_jpg.rf.a847d398a9479a5c5c622c1fbcfa3764.txt  \n",
            "  inflating: __MACOSX/yolov7Data/train/labels/._Image_114_jpg.rf.a847d398a9479a5c5c622c1fbcfa3764.txt  \n",
            "  inflating: yolov7Data/train/labels/Screenshot-48-_png.rf.c4845aeacdc2db24633d0a37f53958aa.txt  \n",
            "  inflating: __MACOSX/yolov7Data/train/labels/._Screenshot-48-_png.rf.c4845aeacdc2db24633d0a37f53958aa.txt  \n",
            "  inflating: yolov7Data/train/labels/Image_77_jpg.rf.65072f62d04c723f9c4c06556cd0d831.txt  \n",
            "  inflating: __MACOSX/yolov7Data/train/labels/._Image_77_jpg.rf.65072f62d04c723f9c4c06556cd0d831.txt  \n",
            "  inflating: yolov7Data/train/labels/Image_114_jpg.rf.6359ce17ee4e697d2f56e7bb804d5213.txt  \n",
            "  inflating: __MACOSX/yolov7Data/train/labels/._Image_114_jpg.rf.6359ce17ee4e697d2f56e7bb804d5213.txt  \n",
            "  inflating: yolov7Data/train/labels/Screenshot-134-_png.rf.552067a59af07de74ba791610926dd27.txt  \n",
            "  inflating: __MACOSX/yolov7Data/train/labels/._Screenshot-134-_png.rf.552067a59af07de74ba791610926dd27.txt  \n",
            "  inflating: yolov7Data/train/labels/Image_104_jpg.rf.2e655cd75c09a933c88fbf77b9616fcc.txt  \n",
            "  inflating: __MACOSX/yolov7Data/train/labels/._Image_104_jpg.rf.2e655cd75c09a933c88fbf77b9616fcc.txt  \n",
            "  inflating: yolov7Data/train/labels/Image_134_JPG.rf.68b7ba087036b2b78e5cc5efd21ebbc2.txt  \n",
            "  inflating: __MACOSX/yolov7Data/train/labels/._Image_134_JPG.rf.68b7ba087036b2b78e5cc5efd21ebbc2.txt  \n",
            "  inflating: yolov7Data/train/labels/Image_48_jpg.rf.d20bf9e53312daf4b874ec9df880522d.txt  \n",
            "  inflating: __MACOSX/yolov7Data/train/labels/._Image_48_jpg.rf.d20bf9e53312daf4b874ec9df880522d.txt  \n",
            "  inflating: yolov7Data/train/labels/Image_36_jpeg.rf.d4af05552e05a319bc38ad0a8c1a3a97.txt  \n",
            "  inflating: __MACOSX/yolov7Data/train/labels/._Image_36_jpeg.rf.d4af05552e05a319bc38ad0a8c1a3a97.txt  \n",
            "  inflating: yolov7Data/train/labels/Image_134_jpg.rf.e79812fb6dc28ededeeed8822dd4b0e7.txt  \n",
            "  inflating: __MACOSX/yolov7Data/train/labels/._Image_134_jpg.rf.e79812fb6dc28ededeeed8822dd4b0e7.txt  \n",
            "  inflating: yolov7Data/train/labels/Image_127_jpg.rf.06357d28b11b62a25ee7d9a2293b44bd.txt  \n",
            "  inflating: __MACOSX/yolov7Data/train/labels/._Image_127_jpg.rf.06357d28b11b62a25ee7d9a2293b44bd.txt  \n",
            "  inflating: yolov7Data/train/labels/Screenshot-240-_png.rf.fcf54806e24a7e343cbdb1ee33371b9c.txt  \n",
            "  inflating: __MACOSX/yolov7Data/train/labels/._Screenshot-240-_png.rf.fcf54806e24a7e343cbdb1ee33371b9c.txt  \n",
            "  inflating: yolov7Data/train/labels/Image_78_jpg.rf.ae296510a039e99b9f1c74deb43a3f06.txt  \n",
            "  inflating: __MACOSX/yolov7Data/train/labels/._Image_78_jpg.rf.ae296510a039e99b9f1c74deb43a3f06.txt  \n",
            "  inflating: yolov7Data/train/labels/Screenshot-337-_png.rf.66810f81b61667a76d07386b3284cfe7.txt  \n",
            "  inflating: __MACOSX/yolov7Data/train/labels/._Screenshot-337-_png.rf.66810f81b61667a76d07386b3284cfe7.txt  \n",
            "  inflating: yolov7Data/train/labels/Image_9_jpg.rf.c447535e61d4d77e36aa6299ed5c659c.txt  \n",
            "  inflating: __MACOSX/yolov7Data/train/labels/._Image_9_jpg.rf.c447535e61d4d77e36aa6299ed5c659c.txt  \n",
            "  inflating: yolov7Data/train/labels/Image_10_jpg.rf.ae05efc5efc450179ea709016dc8f5ee.txt  \n",
            "  inflating: __MACOSX/yolov7Data/train/labels/._Image_10_jpg.rf.ae05efc5efc450179ea709016dc8f5ee.txt  \n",
            "  inflating: yolov7Data/train/labels/Image_147_jpg.rf.c9e8cdb9f5d02e678ad17b6f90ce31f2.txt  \n",
            "  inflating: __MACOSX/yolov7Data/train/labels/._Image_147_jpg.rf.c9e8cdb9f5d02e678ad17b6f90ce31f2.txt  \n",
            "  inflating: yolov7Data/train/labels/Screenshot-58-_png.rf.4de8858c74f28dc387230caaae552283.txt  \n",
            "  inflating: __MACOSX/yolov7Data/train/labels/._Screenshot-58-_png.rf.4de8858c74f28dc387230caaae552283.txt  \n",
            "  inflating: yolov7Data/train/labels/Image_64_jpg.rf.c8d5837a3dcd4cfec37c812ec4c046a2.txt  \n",
            "  inflating: __MACOSX/yolov7Data/train/labels/._Image_64_jpg.rf.c8d5837a3dcd4cfec37c812ec4c046a2.txt  \n",
            "  inflating: yolov7Data/train/labels/Screenshot-237-_png.rf.f79847347b5d6432061afaa18951d1f8.txt  \n",
            "  inflating: __MACOSX/yolov7Data/train/labels/._Screenshot-237-_png.rf.f79847347b5d6432061afaa18951d1f8.txt  \n",
            "  inflating: yolov7Data/train/labels/Screenshot-253-_png.rf.66d6865f21d1ca38eb69290f1e19125f.txt  \n",
            "  inflating: __MACOSX/yolov7Data/train/labels/._Screenshot-253-_png.rf.66d6865f21d1ca38eb69290f1e19125f.txt  \n",
            "  inflating: yolov7Data/train/labels/Image_100_jpg.rf.f2a6bf4b271d423ab588610661b117f8.txt  \n",
            "  inflating: __MACOSX/yolov7Data/train/labels/._Image_100_jpg.rf.f2a6bf4b271d423ab588610661b117f8.txt  \n",
            "  inflating: yolov7Data/train/labels/Image_132_jpg.rf.fc3a139580c727c4c470019b1694c8cc.txt  \n",
            "  inflating: __MACOSX/yolov7Data/train/labels/._Image_132_jpg.rf.fc3a139580c727c4c470019b1694c8cc.txt  \n",
            "  inflating: yolov7Data/train/labels/Screenshot-38-_png.rf.d7c63b9b400abcbcd493cd6f1f6a04ea.txt  \n",
            "  inflating: __MACOSX/yolov7Data/train/labels/._Screenshot-38-_png.rf.d7c63b9b400abcbcd493cd6f1f6a04ea.txt  \n",
            "  inflating: yolov7Data/train/labels/Screenshot-260-_png.rf.4772d2dbfd7fbdeaed46778ffa04fdd4.txt  \n",
            "  inflating: __MACOSX/yolov7Data/train/labels/._Screenshot-260-_png.rf.4772d2dbfd7fbdeaed46778ffa04fdd4.txt  \n",
            "  inflating: yolov7Data/train/labels/Image_94_jpg.rf.04b752183bbc95763bc6ea8e56e6740d.txt  \n",
            "  inflating: __MACOSX/yolov7Data/train/labels/._Image_94_jpg.rf.04b752183bbc95763bc6ea8e56e6740d.txt  \n",
            "  inflating: yolov7Data/train/labels/Image_3_jpg.rf.20770984dc9d3b5583232d858d2647a2.txt  \n",
            "  inflating: __MACOSX/yolov7Data/train/labels/._Image_3_jpg.rf.20770984dc9d3b5583232d858d2647a2.txt  \n",
            "  inflating: yolov7Data/train/labels/Image_74_jpeg.rf.02e8ba0adce922703470cd5bea4b9ef8.txt  \n",
            "  inflating: __MACOSX/yolov7Data/train/labels/._Image_74_jpeg.rf.02e8ba0adce922703470cd5bea4b9ef8.txt  \n",
            "  inflating: yolov7Data/train/labels/Screenshot-318-_png.rf.e4b2beaac9e9ff20555fec9969ba6afd.txt  \n",
            "  inflating: __MACOSX/yolov7Data/train/labels/._Screenshot-318-_png.rf.e4b2beaac9e9ff20555fec9969ba6afd.txt  \n",
            "  inflating: yolov7Data/train/labels/Image_127_jpg.rf.b5d3a07a8890d306535533468de64406.txt  \n",
            "  inflating: __MACOSX/yolov7Data/train/labels/._Image_127_jpg.rf.b5d3a07a8890d306535533468de64406.txt  \n",
            "  inflating: yolov7Data/train/labels/Screenshot-29-_png.rf.859c5069d44488fcbbac5c662b0e45a2.txt  \n",
            "  inflating: __MACOSX/yolov7Data/train/labels/._Screenshot-29-_png.rf.859c5069d44488fcbbac5c662b0e45a2.txt  \n",
            "  inflating: yolov7Data/train/labels/Screenshot-33-_png.rf.26c9a59c7780077c8288cae48a463358.txt  \n",
            "  inflating: __MACOSX/yolov7Data/train/labels/._Screenshot-33-_png.rf.26c9a59c7780077c8288cae48a463358.txt  \n",
            "  inflating: yolov7Data/train/labels/Screenshot-388-_png.rf.cc89019b21186f788631ca504ac8a8d8.txt  \n",
            "  inflating: __MACOSX/yolov7Data/train/labels/._Screenshot-388-_png.rf.cc89019b21186f788631ca504ac8a8d8.txt  \n",
            "  inflating: yolov7Data/train/labels/Image_176_jpg.rf.c5989bc4081ac846ab45c9ed7b2b94eb.txt  \n",
            "  inflating: __MACOSX/yolov7Data/train/labels/._Image_176_jpg.rf.c5989bc4081ac846ab45c9ed7b2b94eb.txt  \n",
            "  inflating: yolov7Data/train/labels/Screenshot-333-_png.rf.1ccd20330e2db790844612e0bd1ce903.txt  \n",
            "  inflating: __MACOSX/yolov7Data/train/labels/._Screenshot-333-_png.rf.1ccd20330e2db790844612e0bd1ce903.txt  \n",
            "  inflating: yolov7Data/train/labels/Screenshot-244-_png.rf.cfaddc447766521df384cc1a1768ec27.txt  \n",
            "  inflating: __MACOSX/yolov7Data/train/labels/._Screenshot-244-_png.rf.cfaddc447766521df384cc1a1768ec27.txt  \n",
            "  inflating: yolov7Data/train/labels/Screenshot-159-_png.rf.ac3c05b4b9ecd97705aad867ba1e9671.txt  \n",
            "  inflating: __MACOSX/yolov7Data/train/labels/._Screenshot-159-_png.rf.ac3c05b4b9ecd97705aad867ba1e9671.txt  \n",
            "  inflating: yolov7Data/train/labels/Image_117_jpg.rf.14a29e7b4875cf8e2bad4a90743cfa1a.txt  \n",
            "  inflating: __MACOSX/yolov7Data/train/labels/._Image_117_jpg.rf.14a29e7b4875cf8e2bad4a90743cfa1a.txt  \n",
            "  inflating: yolov7Data/train/labels/Image_104_jpg.rf.2d7a3c0e7b39d779f98bb6893182ef90.txt  \n",
            "  inflating: __MACOSX/yolov7Data/train/labels/._Image_104_jpg.rf.2d7a3c0e7b39d779f98bb6893182ef90.txt  \n",
            "  inflating: yolov7Data/train/labels/Screenshot-139-_png.rf.74ac2186716b24ad6200d0ba253c0552.txt  \n",
            "  inflating: __MACOSX/yolov7Data/train/labels/._Screenshot-139-_png.rf.74ac2186716b24ad6200d0ba253c0552.txt  \n",
            "  inflating: yolov7Data/train/labels/Screenshot-82-_png.rf.dd2576d1515d52517410c1a6402acb3d.txt  \n",
            "  inflating: __MACOSX/yolov7Data/train/labels/._Screenshot-82-_png.rf.dd2576d1515d52517410c1a6402acb3d.txt  \n",
            "  inflating: yolov7Data/train/labels/Image_142_jpg.rf.f0c6356603aeb9f93972eb22c5243ce2.txt  \n",
            "  inflating: __MACOSX/yolov7Data/train/labels/._Image_142_jpg.rf.f0c6356603aeb9f93972eb22c5243ce2.txt  \n",
            "  inflating: yolov7Data/train/labels/Image_47_jpg.rf.a2f681f790a0f5ed466bbf4b36a91e65.txt  \n",
            "  inflating: __MACOSX/yolov7Data/train/labels/._Image_47_jpg.rf.a2f681f790a0f5ed466bbf4b36a91e65.txt  \n",
            "  inflating: yolov7Data/train/labels/Image_18_jpg.rf.6fe3ff36d421d41a8910cffc0b55e0a4.txt  \n",
            "  inflating: __MACOSX/yolov7Data/train/labels/._Image_18_jpg.rf.6fe3ff36d421d41a8910cffc0b55e0a4.txt  \n",
            "  inflating: yolov7Data/train/labels/Screenshot-138-_png.rf.69c459953f9cab7c261dffc97751ed33.txt  \n",
            "  inflating: __MACOSX/yolov7Data/train/labels/._Screenshot-138-_png.rf.69c459953f9cab7c261dffc97751ed33.txt  \n",
            "  inflating: yolov7Data/train/labels/Image_84_jpg.rf.ea3e1f4b2f5abe15d70c2323b0520dec.txt  \n",
            "  inflating: __MACOSX/yolov7Data/train/labels/._Image_84_jpg.rf.ea3e1f4b2f5abe15d70c2323b0520dec.txt  \n",
            "  inflating: yolov7Data/train/labels/Image_56_jpg.rf.49ed7ce78ee42ce5b0f00ffda045ea3c.txt  \n",
            "  inflating: __MACOSX/yolov7Data/train/labels/._Image_56_jpg.rf.49ed7ce78ee42ce5b0f00ffda045ea3c.txt  \n",
            "  inflating: yolov7Data/train/labels/Image_158_jpg.rf.79c721ba9d0101a4bb9218df51ab4d7c.txt  \n",
            "  inflating: __MACOSX/yolov7Data/train/labels/._Image_158_jpg.rf.79c721ba9d0101a4bb9218df51ab4d7c.txt  \n",
            "  inflating: yolov7Data/train/labels/Screenshot-195-_png.rf.a50cac4862aa1c755c639355a1532486.txt  \n",
            "  inflating: __MACOSX/yolov7Data/train/labels/._Screenshot-195-_png.rf.a50cac4862aa1c755c639355a1532486.txt  \n",
            "  inflating: yolov7Data/train/labels/Screenshot-381-_png.rf.0b7104af51422e03b1953ece33b8f3c8.txt  \n",
            "  inflating: __MACOSX/yolov7Data/train/labels/._Screenshot-381-_png.rf.0b7104af51422e03b1953ece33b8f3c8.txt  \n",
            "  inflating: yolov7Data/train/labels/Image_70_jpg.rf.2dbff1a084d3c57854fce449cf0b2108.txt  \n",
            "  inflating: __MACOSX/yolov7Data/train/labels/._Image_70_jpg.rf.2dbff1a084d3c57854fce449cf0b2108.txt  \n",
            "  inflating: yolov7Data/train/labels/Screenshot-433-_png.rf.994a3228d3ec5e004f491a45117c9d74.txt  \n",
            "  inflating: __MACOSX/yolov7Data/train/labels/._Screenshot-433-_png.rf.994a3228d3ec5e004f491a45117c9d74.txt  \n",
            "  inflating: yolov7Data/train/labels/Image_59_jpg.rf.950165340fd39a242b84f119ccdfb07a.txt  \n",
            "  inflating: __MACOSX/yolov7Data/train/labels/._Image_59_jpg.rf.950165340fd39a242b84f119ccdfb07a.txt  \n",
            "  inflating: yolov7Data/train/labels/Screenshot-226-_png.rf.34abfabb3380482a7e4d972b48965f29.txt  \n",
            "  inflating: __MACOSX/yolov7Data/train/labels/._Screenshot-226-_png.rf.34abfabb3380482a7e4d972b48965f29.txt  \n",
            "  inflating: yolov7Data/train/labels/Image_87_jpg.rf.0ebc43e6fdaa066219cf096f651ca484.txt  \n",
            "  inflating: __MACOSX/yolov7Data/train/labels/._Image_87_jpg.rf.0ebc43e6fdaa066219cf096f651ca484.txt  \n",
            "  inflating: yolov7Data/train/labels/Image_140_jpg.rf.f3e45ab091b9640508973a9be6f67422.txt  \n",
            "  inflating: __MACOSX/yolov7Data/train/labels/._Image_140_jpg.rf.f3e45ab091b9640508973a9be6f67422.txt  \n",
            "  inflating: yolov7Data/train/labels/Screenshot-113-_png.rf.d297d1046770265d8ed8b97c57892894.txt  \n",
            "  inflating: __MACOSX/yolov7Data/train/labels/._Screenshot-113-_png.rf.d297d1046770265d8ed8b97c57892894.txt  \n",
            "  inflating: yolov7Data/train/labels/Screenshot-420-_png.rf.f975977ab635b02f733d90eea6808fd2.txt  \n",
            "  inflating: __MACOSX/yolov7Data/train/labels/._Screenshot-420-_png.rf.f975977ab635b02f733d90eea6808fd2.txt  \n",
            "  inflating: yolov7Data/train/labels/Screenshot-223-_png.rf.a2ad7b02ace4a98b882ea7eee0f0cdb6.txt  \n",
            "  inflating: __MACOSX/yolov7Data/train/labels/._Screenshot-223-_png.rf.a2ad7b02ace4a98b882ea7eee0f0cdb6.txt  \n",
            "  inflating: yolov7Data/train/labels/Image_60_jpg.rf.2c09c69fdc3237aa4be9f6f13f9d4816.txt  \n",
            "  inflating: __MACOSX/yolov7Data/train/labels/._Image_60_jpg.rf.2c09c69fdc3237aa4be9f6f13f9d4816.txt  \n",
            "  inflating: yolov7Data/train/labels/Screenshot-187-_png.rf.ecf0d0eb072ab1740ab3aeb18ea71d4c.txt  \n",
            "  inflating: __MACOSX/yolov7Data/train/labels/._Screenshot-187-_png.rf.ecf0d0eb072ab1740ab3aeb18ea71d4c.txt  \n",
            "  inflating: yolov7Data/train/labels/Screenshot-242-_png.rf.f164ef4283a3627a430ad88835e32e48.txt  \n",
            "  inflating: __MACOSX/yolov7Data/train/labels/._Screenshot-242-_png.rf.f164ef4283a3627a430ad88835e32e48.txt  \n",
            "  inflating: yolov7Data/train/labels/Image_171_jpg.rf.cade34a1a4cb8b20810116cdc04b8832.txt  \n",
            "  inflating: __MACOSX/yolov7Data/train/labels/._Image_171_jpg.rf.cade34a1a4cb8b20810116cdc04b8832.txt  \n",
            "  inflating: yolov7Data/train/labels/Image_75_jpg.rf.e399a3a541f7cd30dc0f004f9ab82945.txt  \n",
            "  inflating: __MACOSX/yolov7Data/train/labels/._Image_75_jpg.rf.e399a3a541f7cd30dc0f004f9ab82945.txt  \n",
            "  inflating: yolov7Data/train/labels/Image_47_jpg.rf.85fd4afdfc864cf196cf84d9cf295c98.txt  \n",
            "  inflating: __MACOSX/yolov7Data/train/labels/._Image_47_jpg.rf.85fd4afdfc864cf196cf84d9cf295c98.txt  \n",
            "  inflating: yolov7Data/train/labels/Image_138_jpg.rf.2716951aba8735e7a5d5fdb95c5cd7ed.txt  \n",
            "  inflating: __MACOSX/yolov7Data/train/labels/._Image_138_jpg.rf.2716951aba8735e7a5d5fdb95c5cd7ed.txt  \n",
            "  inflating: yolov7Data/train/labels/Image_20_jpeg.rf.75a7ca316c43190a7f7ca0d72b51c1b5.txt  \n",
            "  inflating: __MACOSX/yolov7Data/train/labels/._Image_20_jpeg.rf.75a7ca316c43190a7f7ca0d72b51c1b5.txt  \n",
            "  inflating: yolov7Data/train/labels/Image_12_jpg.rf.04dd64fefe02e0350baeeef2edc83572.txt  \n",
            "  inflating: __MACOSX/yolov7Data/train/labels/._Image_12_jpg.rf.04dd64fefe02e0350baeeef2edc83572.txt  \n",
            "  inflating: yolov7Data/train/labels/Screenshot-411-_png.rf.7eb6b61a63e5ed06ca5d0218518d4d08.txt  \n",
            "  inflating: __MACOSX/yolov7Data/train/labels/._Screenshot-411-_png.rf.7eb6b61a63e5ed06ca5d0218518d4d08.txt  \n",
            "  inflating: yolov7Data/train/labels/Screenshot-413-_png.rf.bb4217064332b9fed9bad0d483fbc227.txt  \n",
            "  inflating: __MACOSX/yolov7Data/train/labels/._Screenshot-413-_png.rf.bb4217064332b9fed9bad0d483fbc227.txt  \n",
            "  inflating: yolov7Data/train/labels/Image_25_jpg.rf.a95c6b57a442745f5e7cd5cb94c21ae0.txt  \n",
            "  inflating: __MACOSX/yolov7Data/train/labels/._Image_25_jpg.rf.a95c6b57a442745f5e7cd5cb94c21ae0.txt  \n",
            "  inflating: yolov7Data/train/labels/Image_63_jpeg.rf.3a98a71dcfccb031cde4fd825870715d.txt  \n",
            "  inflating: __MACOSX/yolov7Data/train/labels/._Image_63_jpeg.rf.3a98a71dcfccb031cde4fd825870715d.txt  \n",
            "  inflating: yolov7Data/train/labels/Screenshot-135-_png.rf.56daffcc9c1eab1e2450343625da5b14.txt  \n",
            "  inflating: __MACOSX/yolov7Data/train/labels/._Screenshot-135-_png.rf.56daffcc9c1eab1e2450343625da5b14.txt  \n",
            "  inflating: yolov7Data/train/labels/Image_54_jpg.rf.22e86bb69af26b10b6541ec1fe91686e.txt  \n",
            "  inflating: __MACOSX/yolov7Data/train/labels/._Image_54_jpg.rf.22e86bb69af26b10b6541ec1fe91686e.txt  \n",
            "  inflating: yolov7Data/train/labels/Image_53_jpg.rf.72ed423ccf77c7787885702590e98311.txt  \n",
            "  inflating: __MACOSX/yolov7Data/train/labels/._Image_53_jpg.rf.72ed423ccf77c7787885702590e98311.txt  \n",
            "  inflating: yolov7Data/train/labels/Image_66_jpg.rf.00910748c4ff46c68d00d2ab5f1bbc7d.txt  \n",
            "  inflating: __MACOSX/yolov7Data/train/labels/._Image_66_jpg.rf.00910748c4ff46c68d00d2ab5f1bbc7d.txt  \n",
            "  inflating: yolov7Data/train/labels/Screenshot-422-_png.rf.0ca21657765f63d5bba35d83c369e370.txt  \n",
            "  inflating: __MACOSX/yolov7Data/train/labels/._Screenshot-422-_png.rf.0ca21657765f63d5bba35d83c369e370.txt  \n",
            "  inflating: yolov7Data/train/labels/Image_140_jpg.rf.6d3ea8797a3cbabd5af73b699e64bd23.txt  \n",
            "  inflating: __MACOSX/yolov7Data/train/labels/._Image_140_jpg.rf.6d3ea8797a3cbabd5af73b699e64bd23.txt  \n",
            "  inflating: yolov7Data/train/labels/Screenshot-307-_png.rf.8a96b8208e634f8d42eb0b2cd41f7fa1.txt  \n",
            "  inflating: __MACOSX/yolov7Data/train/labels/._Screenshot-307-_png.rf.8a96b8208e634f8d42eb0b2cd41f7fa1.txt  \n",
            "  inflating: yolov7Data/train/labels/Image_186_jpg.rf.ab86d4c6b2a4ec98ce0117f3ad7ad55b.txt  \n",
            "  inflating: __MACOSX/yolov7Data/train/labels/._Image_186_jpg.rf.ab86d4c6b2a4ec98ce0117f3ad7ad55b.txt  \n",
            "  inflating: yolov7Data/train/labels/Screenshot-392-_png.rf.e373ffdb11df81d728a59d2ac527a9ec.txt  \n",
            "  inflating: __MACOSX/yolov7Data/train/labels/._Screenshot-392-_png.rf.e373ffdb11df81d728a59d2ac527a9ec.txt  \n",
            "  inflating: yolov7Data/train/labels/Image_32_jpg.rf.482eb63f0b4077370f044f4a573830d8.txt  \n",
            "  inflating: __MACOSX/yolov7Data/train/labels/._Image_32_jpg.rf.482eb63f0b4077370f044f4a573830d8.txt  \n",
            "  inflating: yolov7Data/train/labels/Screenshot-141-_png.rf.74237d47e0cb512a4f6b9cc9e44ca424.txt  \n",
            "  inflating: __MACOSX/yolov7Data/train/labels/._Screenshot-141-_png.rf.74237d47e0cb512a4f6b9cc9e44ca424.txt  \n",
            "  inflating: yolov7Data/train/labels/Image_14_jpg.rf.36d3aa9b7588446fe2a7d47ea446db2e.txt  \n",
            "  inflating: __MACOSX/yolov7Data/train/labels/._Image_14_jpg.rf.36d3aa9b7588446fe2a7d47ea446db2e.txt  \n",
            "  inflating: yolov7Data/train/labels/Image_45_jpg.rf.d2b2841f3ce3e2f38d429b3be7b8c1ad.txt  \n",
            "  inflating: __MACOSX/yolov7Data/train/labels/._Image_45_jpg.rf.d2b2841f3ce3e2f38d429b3be7b8c1ad.txt  \n",
            "  inflating: yolov7Data/train/labels/Screenshot-438-_png.rf.5df4ced498a72ad28fe52bf91277cc24.txt  \n",
            "  inflating: __MACOSX/yolov7Data/train/labels/._Screenshot-438-_png.rf.5df4ced498a72ad28fe52bf91277cc24.txt  \n",
            "  inflating: yolov7Data/train/labels/Image_28_jpg.rf.c48b3dfeb88b4721e203f16a942280e6.txt  \n",
            "  inflating: __MACOSX/yolov7Data/train/labels/._Image_28_jpg.rf.c48b3dfeb88b4721e203f16a942280e6.txt  \n",
            "  inflating: yolov7Data/train/labels/Image_176_jpg.rf.4eced97d3bf0d3919f809fb094f6e440.txt  \n",
            "  inflating: __MACOSX/yolov7Data/train/labels/._Image_176_jpg.rf.4eced97d3bf0d3919f809fb094f6e440.txt  \n",
            "  inflating: yolov7Data/train/labels/Image_56_JPG.rf.e7ab629388221807c548d48d8391e5b1.txt  \n",
            "  inflating: __MACOSX/yolov7Data/train/labels/._Image_56_JPG.rf.e7ab629388221807c548d48d8391e5b1.txt  \n",
            "  inflating: yolov7Data/train/labels/Image_139_jpg.rf.68d1ee773989e78dc078c2ce88ba4752.txt  \n",
            "  inflating: __MACOSX/yolov7Data/train/labels/._Image_139_jpg.rf.68d1ee773989e78dc078c2ce88ba4752.txt  \n",
            "  inflating: yolov7Data/train/labels/Image_31_jpg.rf.9c0b9a153627515383d78a97d76bc5ae.txt  \n",
            "  inflating: __MACOSX/yolov7Data/train/labels/._Image_31_jpg.rf.9c0b9a153627515383d78a97d76bc5ae.txt  \n",
            "  inflating: yolov7Data/train/labels/Image_65_jpg.rf.7942b6cce219ae04e53346cc182c3316.txt  \n",
            "  inflating: __MACOSX/yolov7Data/train/labels/._Image_65_jpg.rf.7942b6cce219ae04e53346cc182c3316.txt  \n",
            "  inflating: yolov7Data/train/labels/Screenshot-284-_png.rf.0ddeac785e937e9d4a859364997663bb.txt  \n",
            "  inflating: __MACOSX/yolov7Data/train/labels/._Screenshot-284-_png.rf.0ddeac785e937e9d4a859364997663bb.txt  \n",
            "  inflating: yolov7Data/train/labels/Image_50_jpg.rf.1e5946f369984c4584790cc8dece8536.txt  \n",
            "  inflating: __MACOSX/yolov7Data/train/labels/._Image_50_jpg.rf.1e5946f369984c4584790cc8dece8536.txt  \n",
            "  inflating: yolov7Data/train/labels/Image_11_jpg.rf.a7f25965caa5e2349ac0ced7a15b5948.txt  \n",
            "  inflating: __MACOSX/yolov7Data/train/labels/._Image_11_jpg.rf.a7f25965caa5e2349ac0ced7a15b5948.txt  \n",
            "  inflating: yolov7Data/train/labels/Image_143_jpg.rf.4e04b933572373f4eed5083eaec3298c.txt  \n",
            "  inflating: __MACOSX/yolov7Data/train/labels/._Image_143_jpg.rf.4e04b933572373f4eed5083eaec3298c.txt  \n",
            "  inflating: yolov7Data/train/labels/Screenshot-277-_png.rf.8f83caf0c17eec633c465582f9fd6af9.txt  \n",
            "  inflating: __MACOSX/yolov7Data/train/labels/._Screenshot-277-_png.rf.8f83caf0c17eec633c465582f9fd6af9.txt  \n",
            "  inflating: yolov7Data/train/labels/Screenshot-191-_png.rf.fe09136138b76c8001f99f7f91a37689.txt  \n",
            "  inflating: __MACOSX/yolov7Data/train/labels/._Screenshot-191-_png.rf.fe09136138b76c8001f99f7f91a37689.txt  \n",
            "  inflating: yolov7Data/train/labels/Image_122_jpg.rf.8371e84bcddec640cbacce70b2122adc.txt  \n",
            "  inflating: __MACOSX/yolov7Data/train/labels/._Image_122_jpg.rf.8371e84bcddec640cbacce70b2122adc.txt  \n",
            "  inflating: yolov7Data/train/labels/Image_113_jpg.rf.0e6a73336fed8155665ccab874928ff6.txt  \n",
            "  inflating: __MACOSX/yolov7Data/train/labels/._Image_113_jpg.rf.0e6a73336fed8155665ccab874928ff6.txt  \n",
            "  inflating: yolov7Data/train/labels/Image_144_jpg.rf.8934a8e0811df13b937298e3132c5b99.txt  \n",
            "  inflating: __MACOSX/yolov7Data/train/labels/._Image_144_jpg.rf.8934a8e0811df13b937298e3132c5b99.txt  \n",
            "  inflating: yolov7Data/train/labels/Screenshot-167-_png.rf.af45108d33fab8102b336c83e8256af6.txt  \n",
            "  inflating: __MACOSX/yolov7Data/train/labels/._Screenshot-167-_png.rf.af45108d33fab8102b336c83e8256af6.txt  \n",
            "  inflating: yolov7Data/train/labels/Screenshot-273-_png.rf.f31bc05582e21a614326a9a722ef148c.txt  \n",
            "  inflating: __MACOSX/yolov7Data/train/labels/._Screenshot-273-_png.rf.f31bc05582e21a614326a9a722ef148c.txt  \n",
            "  inflating: yolov7Data/train/labels/Image_98_jpg.rf.2cbc09091fac83ea2827c2479070153d.txt  \n",
            "  inflating: __MACOSX/yolov7Data/train/labels/._Image_98_jpg.rf.2cbc09091fac83ea2827c2479070153d.txt  \n",
            "  inflating: yolov7Data/train/labels/Image_30_jpg.rf.528c25503869159c49cc6c40cc349dbb.txt  \n",
            "  inflating: __MACOSX/yolov7Data/train/labels/._Image_30_jpg.rf.528c25503869159c49cc6c40cc349dbb.txt  \n",
            "  inflating: yolov7Data/train/labels/Image_131_jpg.rf.3252241cbe868534651b729e75479bab.txt  \n",
            "  inflating: __MACOSX/yolov7Data/train/labels/._Image_131_jpg.rf.3252241cbe868534651b729e75479bab.txt  \n",
            "  inflating: yolov7Data/train/labels/Image_148_jpg.rf.7626caebc98ad73ed62dba561971dec8.txt  \n",
            "  inflating: __MACOSX/yolov7Data/train/labels/._Image_148_jpg.rf.7626caebc98ad73ed62dba561971dec8.txt  \n",
            "  inflating: yolov7Data/train/labels/Screenshot-121-_png.rf.3c9d03dadf716930a982b5c9c5b44de1.txt  \n",
            "  inflating: __MACOSX/yolov7Data/train/labels/._Screenshot-121-_png.rf.3c9d03dadf716930a982b5c9c5b44de1.txt  \n",
            "  inflating: yolov7Data/train/labels/Image_27_jpg.rf.dc8c23efcb0cc3387edd852675769518.txt  \n",
            "  inflating: __MACOSX/yolov7Data/train/labels/._Image_27_jpg.rf.dc8c23efcb0cc3387edd852675769518.txt  \n",
            "  inflating: yolov7Data/train/labels/Screenshot-359-_png.rf.413ae49f9b9e715374f1fa7bcc53251b.txt  \n",
            "  inflating: __MACOSX/yolov7Data/train/labels/._Screenshot-359-_png.rf.413ae49f9b9e715374f1fa7bcc53251b.txt  \n",
            "  inflating: yolov7Data/train/labels/Screenshot-312-_png.rf.fa88b65f1a74d81139dd38b6c58ebc7b.txt  \n",
            "  inflating: __MACOSX/yolov7Data/train/labels/._Screenshot-312-_png.rf.fa88b65f1a74d81139dd38b6c58ebc7b.txt  \n",
            "  inflating: yolov7Data/train/labels/Screenshot-199-_png.rf.f9005aa6bfa56b430c805934e678af22.txt  \n",
            "  inflating: __MACOSX/yolov7Data/train/labels/._Screenshot-199-_png.rf.f9005aa6bfa56b430c805934e678af22.txt  \n",
            "  inflating: yolov7Data/train/labels/Screenshot-53-_png.rf.34d21f96e9d2fbd5002d4d00ed6a9220.txt  \n",
            "  inflating: __MACOSX/yolov7Data/train/labels/._Screenshot-53-_png.rf.34d21f96e9d2fbd5002d4d00ed6a9220.txt  \n",
            "  inflating: yolov7Data/train/labels/Image_167_jpg.rf.423c23f0232e358c87aec576ab17d405.txt  \n",
            "  inflating: __MACOSX/yolov7Data/train/labels/._Image_167_jpg.rf.423c23f0232e358c87aec576ab17d405.txt  \n",
            "  inflating: yolov7Data/train/labels/Screenshot-151-_png.rf.03536df1b43dae0e2c2a7ef0b3a2dcbb.txt  \n",
            "  inflating: __MACOSX/yolov7Data/train/labels/._Screenshot-151-_png.rf.03536df1b43dae0e2c2a7ef0b3a2dcbb.txt  \n",
            "  inflating: yolov7Data/train/labels/Image_145_jpg.rf.be966b775d01d92479f1c69467eaa496.txt  \n",
            "  inflating: __MACOSX/yolov7Data/train/labels/._Image_145_jpg.rf.be966b775d01d92479f1c69467eaa496.txt  \n",
            "  inflating: yolov7Data/train/labels/Screenshot-105-_png.rf.3720864a1e536581241e34f406a0e768.txt  \n",
            "  inflating: __MACOSX/yolov7Data/train/labels/._Screenshot-105-_png.rf.3720864a1e536581241e34f406a0e768.txt  \n",
            "  inflating: yolov7Data/train/labels/Image_67_jpg.rf.9cc120edf2a0fe498d0167cb66a6e90a.txt  \n",
            "  inflating: __MACOSX/yolov7Data/train/labels/._Image_67_jpg.rf.9cc120edf2a0fe498d0167cb66a6e90a.txt  \n",
            "  inflating: yolov7Data/train/labels/Screenshot-266-_png.rf.429fd1b0341f1ddb1e42756a71ccb568.txt  \n",
            "  inflating: __MACOSX/yolov7Data/train/labels/._Screenshot-266-_png.rf.429fd1b0341f1ddb1e42756a71ccb568.txt  \n",
            "  inflating: yolov7Data/train/labels/Image_56_jpg.rf.2413dfb97ea0c9ed4b324b8da8087e71.txt  \n",
            "  inflating: __MACOSX/yolov7Data/train/labels/._Image_56_jpg.rf.2413dfb97ea0c9ed4b324b8da8087e71.txt  \n",
            "  inflating: yolov7Data/train/labels/Image_54_jpg.rf.72f56d7ef333cf5e9fbc1ad056b0aa19.txt  \n",
            "  inflating: __MACOSX/yolov7Data/train/labels/._Image_54_jpg.rf.72f56d7ef333cf5e9fbc1ad056b0aa19.txt  \n",
            "  inflating: yolov7Data/train/labels/Screenshot-454-_png.rf.edaebddf33c8d9252572ee686ca62eb1.txt  \n",
            "  inflating: __MACOSX/yolov7Data/train/labels/._Screenshot-454-_png.rf.edaebddf33c8d9252572ee686ca62eb1.txt  \n",
            "  inflating: yolov7Data/train/labels/Image_13_jpg.rf.269469f19e9b0793004f7e2d262284f2.txt  \n",
            "  inflating: __MACOSX/yolov7Data/train/labels/._Image_13_jpg.rf.269469f19e9b0793004f7e2d262284f2.txt  \n",
            "  inflating: yolov7Data/train/labels/Screenshot-449-_png.rf.0f3f1ae17255b99a959548322a4cadee.txt  \n",
            "  inflating: __MACOSX/yolov7Data/train/labels/._Screenshot-449-_png.rf.0f3f1ae17255b99a959548322a4cadee.txt  \n",
            "  inflating: yolov7Data/train/labels/Image_38_jpg.rf.1239a3f32d6e7536a4828cfa4c8f47ff.txt  \n",
            "  inflating: __MACOSX/yolov7Data/train/labels/._Image_38_jpg.rf.1239a3f32d6e7536a4828cfa4c8f47ff.txt  \n",
            "  inflating: yolov7Data/train/labels/Image_51_jpg.rf.21a8ca2784607b51c8d6aad4ed1c45a4.txt  \n",
            "  inflating: __MACOSX/yolov7Data/train/labels/._Image_51_jpg.rf.21a8ca2784607b51c8d6aad4ed1c45a4.txt  \n",
            "  inflating: yolov7Data/train/labels/Screenshot-131-_png.rf.84a445c754e2c7b954f4ce0bc88e65b1.txt  \n",
            "  inflating: __MACOSX/yolov7Data/train/labels/._Screenshot-131-_png.rf.84a445c754e2c7b954f4ce0bc88e65b1.txt  \n",
            "  inflating: yolov7Data/train/labels/Image_97_JPG.rf.a657d733aa231280385a323045b3a84b.txt  \n",
            "  inflating: __MACOSX/yolov7Data/train/labels/._Image_97_JPG.rf.a657d733aa231280385a323045b3a84b.txt  \n",
            "  inflating: yolov7Data/train/labels/Image_77_jpg.rf.a65501a5f8d8c147e1ba4cf81e1771db.txt  \n",
            "  inflating: __MACOSX/yolov7Data/train/labels/._Image_77_jpg.rf.a65501a5f8d8c147e1ba4cf81e1771db.txt  \n",
            "  inflating: yolov7Data/train/labels/Image_2_jpg.rf.e75117ee9230850465bb9e62455e958a.txt  \n",
            "  inflating: __MACOSX/yolov7Data/train/labels/._Image_2_jpg.rf.e75117ee9230850465bb9e62455e958a.txt  \n",
            "  inflating: yolov7Data/train/labels/Screenshot-108-_png.rf.740b710e0a1ea8f787a45749123cb5ab.txt  \n",
            "  inflating: __MACOSX/yolov7Data/train/labels/._Screenshot-108-_png.rf.740b710e0a1ea8f787a45749123cb5ab.txt  \n",
            "  inflating: yolov7Data/train/labels/Image_165_jpg.rf.2f6528b6f12a618a4a8bc2f5c467438a.txt  \n",
            "  inflating: __MACOSX/yolov7Data/train/labels/._Image_165_jpg.rf.2f6528b6f12a618a4a8bc2f5c467438a.txt  \n",
            "  inflating: yolov7Data/train/labels/Screenshot-59-_png.rf.0bdb2d4cc5e76c52b895e26c96effcab.txt  \n",
            "  inflating: __MACOSX/yolov7Data/train/labels/._Screenshot-59-_png.rf.0bdb2d4cc5e76c52b895e26c96effcab.txt  \n",
            "  inflating: yolov7Data/train/labels/Screenshot-19-_png.rf.1d1aa76cbc2f2a44a39e1395f733b609.txt  \n",
            "  inflating: __MACOSX/yolov7Data/train/labels/._Screenshot-19-_png.rf.1d1aa76cbc2f2a44a39e1395f733b609.txt  \n",
            "  inflating: yolov7Data/train/labels/Image_136_jpg.rf.695a9ee82e8f2ad12f397caa7ed96d78.txt  \n",
            "  inflating: __MACOSX/yolov7Data/train/labels/._Image_136_jpg.rf.695a9ee82e8f2ad12f397caa7ed96d78.txt  \n",
            "  inflating: yolov7Data/train/labels/Image_35_jpg.rf.edee13079ce894ffdf4ead0c45f81bcd.txt  \n",
            "  inflating: __MACOSX/yolov7Data/train/labels/._Image_35_jpg.rf.edee13079ce894ffdf4ead0c45f81bcd.txt  \n",
            "  inflating: yolov7Data/train/labels/Image_8_jpg.rf.ff6f6fb719e5af32937ac21abb73aaba.txt  \n",
            "  inflating: __MACOSX/yolov7Data/train/labels/._Image_8_jpg.rf.ff6f6fb719e5af32937ac21abb73aaba.txt  \n",
            "  inflating: yolov7Data/train/labels/Screenshot-364-_png.rf.88f4d798339a6ebce3e7a29310938f8f.txt  \n",
            "  inflating: __MACOSX/yolov7Data/train/labels/._Screenshot-364-_png.rf.88f4d798339a6ebce3e7a29310938f8f.txt  \n",
            "  inflating: yolov7Data/train/labels/Screenshot-75-_png.rf.0e5e040d4a393482d7d9da7be8745b1d.txt  \n",
            "  inflating: __MACOSX/yolov7Data/train/labels/._Screenshot-75-_png.rf.0e5e040d4a393482d7d9da7be8745b1d.txt  \n",
            "  inflating: yolov7Data/train/labels/Image_28_jpg.rf.8c384c6e4f05f3a05903d292342cf700.txt  \n",
            "  inflating: __MACOSX/yolov7Data/train/labels/._Image_28_jpg.rf.8c384c6e4f05f3a05903d292342cf700.txt  \n",
            "  inflating: yolov7Data/train/labels/Image_49_jpg.rf.51a709845c70a62782006d546dd4cc9d.txt  \n",
            "  inflating: __MACOSX/yolov7Data/train/labels/._Image_49_jpg.rf.51a709845c70a62782006d546dd4cc9d.txt  \n",
            "  inflating: yolov7Data/train/labels/Screenshot-303-_png.rf.3272aa088b491b5f967e2cc291754374.txt  \n",
            "  inflating: __MACOSX/yolov7Data/train/labels/._Screenshot-303-_png.rf.3272aa088b491b5f967e2cc291754374.txt  \n",
            "  inflating: yolov7Data/train/labels/Screenshot-26-_png.rf.97c81b5a2f107bbd318691bb9cbd6291.txt  \n",
            "  inflating: __MACOSX/yolov7Data/train/labels/._Screenshot-26-_png.rf.97c81b5a2f107bbd318691bb9cbd6291.txt  \n",
            "  inflating: yolov7Data/train/labels/Image_92_jpg.rf.16f6dba379566591dc5d92da93d0de7f.txt  \n",
            "  inflating: __MACOSX/yolov7Data/train/labels/._Image_92_jpg.rf.16f6dba379566591dc5d92da93d0de7f.txt  \n",
            "  inflating: yolov7Data/train/labels/Image_83_jpg.rf.5fcfc6ec4127fc6c285c333102396c03.txt  \n",
            "  inflating: __MACOSX/yolov7Data/train/labels/._Image_83_jpg.rf.5fcfc6ec4127fc6c285c333102396c03.txt  \n",
            "  inflating: yolov7Data/train/labels/Screenshot-65-_png.rf.d61d07897ff71f6b0aedf24786b8eca0.txt  \n",
            "  inflating: __MACOSX/yolov7Data/train/labels/._Screenshot-65-_png.rf.d61d07897ff71f6b0aedf24786b8eca0.txt  \n",
            "  inflating: yolov7Data/train/labels/Image_16_jpg.rf.8886b741c433849ce6b19b7ff5fd7968.txt  \n",
            "  inflating: __MACOSX/yolov7Data/train/labels/._Image_16_jpg.rf.8886b741c433849ce6b19b7ff5fd7968.txt  \n",
            "  inflating: yolov7Data/train/labels/Image_97_jpg.rf.a64862efb2c5a51e856df795a9084f04.txt  \n",
            "  inflating: __MACOSX/yolov7Data/train/labels/._Image_97_jpg.rf.a64862efb2c5a51e856df795a9084f04.txt  \n",
            "  inflating: yolov7Data/train/labels/Image_33_jpg.rf.3b3f35fd3927f072ac8859775739101f.txt  \n",
            "  inflating: __MACOSX/yolov7Data/train/labels/._Image_33_jpg.rf.3b3f35fd3927f072ac8859775739101f.txt  \n",
            "  inflating: yolov7Data/train/labels/Image_168_jpg.rf.827027784305ab66e2a2ea34f1eabfab.txt  \n",
            "  inflating: __MACOSX/yolov7Data/train/labels/._Image_168_jpg.rf.827027784305ab66e2a2ea34f1eabfab.txt  \n",
            "  inflating: yolov7Data/train/labels/Image_5_jpg.rf.f39c32a97b23238db62aebdfcca35425.txt  \n",
            "  inflating: __MACOSX/yolov7Data/train/labels/._Image_5_jpg.rf.f39c32a97b23238db62aebdfcca35425.txt  \n",
            "  inflating: yolov7Data/train/labels/Image_102_jpg.rf.619fa22ff168d0919f162dbdf4b369c2.txt  \n",
            "  inflating: __MACOSX/yolov7Data/train/labels/._Image_102_jpg.rf.619fa22ff168d0919f162dbdf4b369c2.txt  \n",
            "  inflating: yolov7Data/train/labels/Image_95_jpg.rf.60ec875eadec1dcab59ba5f4016779f5.txt  \n",
            "  inflating: __MACOSX/yolov7Data/train/labels/._Image_95_jpg.rf.60ec875eadec1dcab59ba5f4016779f5.txt  \n",
            "  inflating: yolov7Data/train/labels/Image_87_jpg.rf.ad1e430df0c0d45e61637b414049a853.txt  \n",
            "  inflating: __MACOSX/yolov7Data/train/labels/._Image_87_jpg.rf.ad1e430df0c0d45e61637b414049a853.txt  \n",
            "  inflating: yolov7Data/train/labels/Image_33_jpg.rf.cfab77ba513d0ed274690b1f706edb1e.txt  \n",
            "  inflating: __MACOSX/yolov7Data/train/labels/._Image_33_jpg.rf.cfab77ba513d0ed274690b1f706edb1e.txt  \n",
            "  inflating: yolov7Data/train/labels/Image_54_jpg.rf.dcbeebaa17209c41da2b93778565ce04.txt  \n",
            "  inflating: __MACOSX/yolov7Data/train/labels/._Image_54_jpg.rf.dcbeebaa17209c41da2b93778565ce04.txt  \n",
            "  inflating: yolov7Data/train/labels/Image_125_jpg.rf.ba3333b5359978c0c7a97c2f77779405.txt  \n",
            "  inflating: __MACOSX/yolov7Data/train/labels/._Image_125_jpg.rf.ba3333b5359978c0c7a97c2f77779405.txt  \n",
            "  inflating: yolov7Data/train/labels/Image_8_jpg.rf.7ece10e5389a4846104364be517a6844.txt  \n",
            "  inflating: __MACOSX/yolov7Data/train/labels/._Image_8_jpg.rf.7ece10e5389a4846104364be517a6844.txt  \n",
            "  inflating: yolov7Data/train/labels/Image_76_jpg.rf.838475a219d9c0d47e3ce5cf34b4ed15.txt  \n",
            "  inflating: __MACOSX/yolov7Data/train/labels/._Image_76_jpg.rf.838475a219d9c0d47e3ce5cf34b4ed15.txt  \n",
            "  inflating: yolov7Data/train/labels/Screenshot-73-_png.rf.7b4402bdaa93edb4ace0935ba63f06da.txt  \n",
            "  inflating: __MACOSX/yolov7Data/train/labels/._Screenshot-73-_png.rf.7b4402bdaa93edb4ace0935ba63f06da.txt  \n",
            "  inflating: yolov7Data/train/labels/Screenshot-278-_png.rf.3060fd19b4c3f0b16251acd82a472460.txt  \n",
            "  inflating: __MACOSX/yolov7Data/train/labels/._Screenshot-278-_png.rf.3060fd19b4c3f0b16251acd82a472460.txt  \n",
            "  inflating: yolov7Data/train/labels/Image_129_jpg.rf.404981a3113539ff99d4917ac4432d26.txt  \n",
            "  inflating: __MACOSX/yolov7Data/train/labels/._Image_129_jpg.rf.404981a3113539ff99d4917ac4432d26.txt  \n",
            "  inflating: yolov7Data/train/labels/Image_137_jpg.rf.723d92d299477cf4511b7b97558fbc50.txt  \n",
            "  inflating: __MACOSX/yolov7Data/train/labels/._Image_137_jpg.rf.723d92d299477cf4511b7b97558fbc50.txt  \n",
            "  inflating: yolov7Data/train/labels/Screenshot-51-_png.rf.660c6c0d811664546190b5baa8948f03.txt  \n",
            "  inflating: __MACOSX/yolov7Data/train/labels/._Screenshot-51-_png.rf.660c6c0d811664546190b5baa8948f03.txt  \n",
            "  inflating: yolov7Data/train/labels/Image_58_jpg.rf.707284974ecfc0e843d38c650241cc34.txt  \n",
            "  inflating: __MACOSX/yolov7Data/train/labels/._Image_58_jpg.rf.707284974ecfc0e843d38c650241cc34.txt  \n",
            "  inflating: yolov7Data/train/labels/Image_140_jpg.rf.bd206545365e70e17aefdd9775e8b115.txt  \n",
            "  inflating: __MACOSX/yolov7Data/train/labels/._Image_140_jpg.rf.bd206545365e70e17aefdd9775e8b115.txt  \n",
            "  inflating: yolov7Data/train/labels/Screenshot-171-_png.rf.238e964b1038cc3566991a661414e656.txt  \n",
            "  inflating: __MACOSX/yolov7Data/train/labels/._Screenshot-171-_png.rf.238e964b1038cc3566991a661414e656.txt  \n",
            "  inflating: yolov7Data/train/labels/Image_9_jpg.rf.d4d1449769b2ef98749fec47eb382816.txt  \n",
            "  inflating: __MACOSX/yolov7Data/train/labels/._Image_9_jpg.rf.d4d1449769b2ef98749fec47eb382816.txt  \n",
            "  inflating: yolov7Data/train/labels/Image_17_jpg.rf.c5350462224ca6366d2760011b948ede.txt  \n",
            "  inflating: __MACOSX/yolov7Data/train/labels/._Image_17_jpg.rf.c5350462224ca6366d2760011b948ede.txt  \n",
            "  inflating: yolov7Data/train/labels/Image_129_jpg.rf.1d0026fdf83d7ea44fcd2c6d8fe8e8a2.txt  \n",
            "  inflating: __MACOSX/yolov7Data/train/labels/._Image_129_jpg.rf.1d0026fdf83d7ea44fcd2c6d8fe8e8a2.txt  \n",
            "  inflating: yolov7Data/train/labels/Image_68_jpg.rf.7334aae3db3db426c582e0212115f75b.txt  \n",
            "  inflating: __MACOSX/yolov7Data/train/labels/._Image_68_jpg.rf.7334aae3db3db426c582e0212115f75b.txt  \n",
            "  inflating: yolov7Data/train/labels/Image_62_JPG.rf.b5cedc55c6be2a9890d9655ed29869b2.txt  \n",
            "  inflating: __MACOSX/yolov7Data/train/labels/._Image_62_JPG.rf.b5cedc55c6be2a9890d9655ed29869b2.txt  \n",
            "  inflating: yolov7Data/train/labels/Image_86_jpg.rf.a8222a8c1790123a0e8777c8afb93df9.txt  \n",
            "  inflating: __MACOSX/yolov7Data/train/labels/._Image_86_jpg.rf.a8222a8c1790123a0e8777c8afb93df9.txt  \n",
            "  inflating: yolov7Data/train/labels/Screenshot-216-_png.rf.3a1381b760cc3caa298ec59351df8a9b.txt  \n",
            "  inflating: __MACOSX/yolov7Data/train/labels/._Screenshot-216-_png.rf.3a1381b760cc3caa298ec59351df8a9b.txt  \n",
            "  inflating: yolov7Data/train/labels/Image_154_jpg.rf.f57a8d17eab4ae26a57661c230ecd785.txt  \n",
            "  inflating: __MACOSX/yolov7Data/train/labels/._Image_154_jpg.rf.f57a8d17eab4ae26a57661c230ecd785.txt  \n",
            "  inflating: yolov7Data/train/labels/Image_3_jpg.rf.8a2143a32fa3545964b5c3677744d6e1.txt  \n",
            "  inflating: __MACOSX/yolov7Data/train/labels/._Image_3_jpg.rf.8a2143a32fa3545964b5c3677744d6e1.txt  \n",
            "  inflating: yolov7Data/train/labels/Image_87_jpeg.rf.7b24457f9ccb50a5650b5f317005f4bd.txt  \n",
            "  inflating: __MACOSX/yolov7Data/train/labels/._Image_87_jpeg.rf.7b24457f9ccb50a5650b5f317005f4bd.txt  \n",
            "  inflating: yolov7Data/train/labels/Screenshot-251-_png.rf.a41e1d8b929e3dd2e035382b89b850c0.txt  \n",
            "  inflating: __MACOSX/yolov7Data/train/labels/._Screenshot-251-_png.rf.a41e1d8b929e3dd2e035382b89b850c0.txt  \n",
            "  inflating: yolov7Data/train/labels/Image_31_jpg.rf.2241dd00f1dfce2fe20af650e9e57970.txt  \n",
            "  inflating: __MACOSX/yolov7Data/train/labels/._Image_31_jpg.rf.2241dd00f1dfce2fe20af650e9e57970.txt  \n",
            "  inflating: yolov7Data/train/labels/Image_147_jpg.rf.f16eeb4257d8849d153335c1223a49f7.txt  \n",
            "  inflating: __MACOSX/yolov7Data/train/labels/._Image_147_jpg.rf.f16eeb4257d8849d153335c1223a49f7.txt  \n",
            "  inflating: yolov7Data/train/labels/Image_151_jpg.rf.586498166920a8a5bf05b80298f41b41.txt  \n",
            "  inflating: __MACOSX/yolov7Data/train/labels/._Image_151_jpg.rf.586498166920a8a5bf05b80298f41b41.txt  \n",
            "  inflating: yolov7Data/train/labels/Screenshot-209-_png.rf.bbd6fbc2366bc1c6863da24f54cc169b.txt  \n",
            "  inflating: __MACOSX/yolov7Data/train/labels/._Screenshot-209-_png.rf.bbd6fbc2366bc1c6863da24f54cc169b.txt  \n",
            "  inflating: yolov7Data/train/labels/Screenshot-85-_png.rf.7e3c9ea459b4b50abe7c183678031df8.txt  \n",
            "  inflating: __MACOSX/yolov7Data/train/labels/._Screenshot-85-_png.rf.7e3c9ea459b4b50abe7c183678031df8.txt  \n",
            "  inflating: yolov7Data/train/labels/Image_66_jpg.rf.8a728d3d8c252004baf6a88100085941.txt  \n",
            "  inflating: __MACOSX/yolov7Data/train/labels/._Image_66_jpg.rf.8a728d3d8c252004baf6a88100085941.txt  \n",
            "  inflating: yolov7Data/train/labels/Image_135_jpg.rf.57641fda43f0863767ea1300767347f9.txt  \n",
            "  inflating: __MACOSX/yolov7Data/train/labels/._Image_135_jpg.rf.57641fda43f0863767ea1300767347f9.txt  \n",
            "  inflating: yolov7Data/train/labels/Image_109_jpg.rf.1efacf99a8426cb322f79d38aa0e3aa1.txt  \n",
            "  inflating: __MACOSX/yolov7Data/train/labels/._Image_109_jpg.rf.1efacf99a8426cb322f79d38aa0e3aa1.txt  \n",
            "  inflating: yolov7Data/train/labels/Image_122_jpg.rf.4c87eefa485b890593cc04446ec3657f.txt  \n",
            "  inflating: __MACOSX/yolov7Data/train/labels/._Image_122_jpg.rf.4c87eefa485b890593cc04446ec3657f.txt  \n",
            "  inflating: yolov7Data/train/labels/Image_165_jpg.rf.e44ff1d4ccd40667d9e35a05b08d77d6.txt  \n",
            "  inflating: __MACOSX/yolov7Data/train/labels/._Image_165_jpg.rf.e44ff1d4ccd40667d9e35a05b08d77d6.txt  \n",
            "  inflating: yolov7Data/train/labels/Screenshot-46-_png.rf.4882a3cbe198b97fb873f52cf2cd1792.txt  \n",
            "  inflating: __MACOSX/yolov7Data/train/labels/._Screenshot-46-_png.rf.4882a3cbe198b97fb873f52cf2cd1792.txt  \n",
            "  inflating: yolov7Data/train/labels/Screenshot-296-_png.rf.a1bb046fe1859c8f360062dfcb133647.txt  \n",
            "  inflating: __MACOSX/yolov7Data/train/labels/._Screenshot-296-_png.rf.a1bb046fe1859c8f360062dfcb133647.txt  \n",
            "  inflating: yolov7Data/train/labels/Image_50_jpg.rf.497e8a38f090722577f08037fb49f6bd.txt  \n",
            "  inflating: __MACOSX/yolov7Data/train/labels/._Image_50_jpg.rf.497e8a38f090722577f08037fb49f6bd.txt  \n",
            "  inflating: yolov7Data/train/labels/Screenshot-288-_png.rf.e36f98cf87c9bc8bec0d1de2d325c1e8.txt  \n",
            "  inflating: __MACOSX/yolov7Data/train/labels/._Screenshot-288-_png.rf.e36f98cf87c9bc8bec0d1de2d325c1e8.txt  \n",
            "  inflating: yolov7Data/train/labels/Image_65_jpg.rf.41f37ae23ce51364d86e6fc116f087f0.txt  \n",
            "  inflating: __MACOSX/yolov7Data/train/labels/._Image_65_jpg.rf.41f37ae23ce51364d86e6fc116f087f0.txt  \n",
            "  inflating: yolov7Data/train/labels/Image_50_jpg.rf.d0bcd919e9c085a9f9355be5db3302e9.txt  \n",
            "  inflating: __MACOSX/yolov7Data/train/labels/._Image_50_jpg.rf.d0bcd919e9c085a9f9355be5db3302e9.txt  \n",
            "  inflating: yolov7Data/train/labels/Image_24_jpg.rf.0af93bcf94dc4f905df261a39d06824c.txt  \n",
            "  inflating: __MACOSX/yolov7Data/train/labels/._Image_24_jpg.rf.0af93bcf94dc4f905df261a39d06824c.txt  \n",
            "  inflating: yolov7Data/train/labels/Image_149_JPG.rf.67973cf765a289fc79a83f25de624400.txt  \n",
            "  inflating: __MACOSX/yolov7Data/train/labels/._Image_149_JPG.rf.67973cf765a289fc79a83f25de624400.txt  \n",
            "  inflating: yolov7Data/train/labels/Image_155_jpeg.rf.36b76179be69cf0cf75203228693d126.txt  \n",
            "  inflating: __MACOSX/yolov7Data/train/labels/._Image_155_jpeg.rf.36b76179be69cf0cf75203228693d126.txt  \n",
            "  inflating: yolov7Data/train/labels/Image_185_jpg.rf.8da19a8aff3c177f26aeccc27e84b0bf.txt  \n",
            "  inflating: __MACOSX/yolov7Data/train/labels/._Image_185_jpg.rf.8da19a8aff3c177f26aeccc27e84b0bf.txt  \n",
            "  inflating: yolov7Data/train/labels/Image_10_jpg.rf.65c261410996c1793bf69ab256337f07.txt  \n",
            "  inflating: __MACOSX/yolov7Data/train/labels/._Image_10_jpg.rf.65c261410996c1793bf69ab256337f07.txt  \n",
            "  inflating: yolov7Data/train/labels/Image_15_jpg.rf.d90475d0e2b4503ab5bd89580a7b0d24.txt  \n",
            "  inflating: __MACOSX/yolov7Data/train/labels/._Image_15_jpg.rf.d90475d0e2b4503ab5bd89580a7b0d24.txt  \n",
            "  inflating: yolov7Data/train/labels/Image_21_jpg.rf.ff854aae2919a4bd7d0520ddb83f4653.txt  \n",
            "  inflating: __MACOSX/yolov7Data/train/labels/._Image_21_jpg.rf.ff854aae2919a4bd7d0520ddb83f4653.txt  \n",
            "  inflating: yolov7Data/train/labels/Image_86_jpg.rf.b8eced15973ae0d4362922b6a652786a.txt  \n",
            "  inflating: __MACOSX/yolov7Data/train/labels/._Image_86_jpg.rf.b8eced15973ae0d4362922b6a652786a.txt  \n",
            "  inflating: yolov7Data/train/labels/Image_32_jpg.rf.47c3d039288dce87c447137e43a98078.txt  \n",
            "  inflating: __MACOSX/yolov7Data/train/labels/._Image_32_jpg.rf.47c3d039288dce87c447137e43a98078.txt  \n",
            "  inflating: yolov7Data/train/labels/Image_108_jpeg.rf.27ecc8b001c2d224129e59ff3c36e8d1.txt  \n",
            "  inflating: __MACOSX/yolov7Data/train/labels/._Image_108_jpeg.rf.27ecc8b001c2d224129e59ff3c36e8d1.txt  \n",
            "  inflating: yolov7Data/train/labels/Image_6_jpg.rf.158797171769ab2cb8b262f9f302ed39.txt  \n",
            "  inflating: __MACOSX/yolov7Data/train/labels/._Image_6_jpg.rf.158797171769ab2cb8b262f9f302ed39.txt  \n",
            "  inflating: yolov7Data/train/labels/Image_51_jpg.rf.4dab3fe47a27c892350eff95e874deb3.txt  \n",
            "  inflating: __MACOSX/yolov7Data/train/labels/._Image_51_jpg.rf.4dab3fe47a27c892350eff95e874deb3.txt  \n",
            "  inflating: yolov7Data/train/labels/Image_181_jpg.rf.28e9f2d33da8960797161f4b6d10c4f8.txt  \n",
            "  inflating: __MACOSX/yolov7Data/train/labels/._Image_181_jpg.rf.28e9f2d33da8960797161f4b6d10c4f8.txt  \n",
            "  inflating: yolov7Data/train/labels/Screenshot-170-_png.rf.4a251a4a3317bcc51a259fea7862c421.txt  \n",
            "  inflating: __MACOSX/yolov7Data/train/labels/._Screenshot-170-_png.rf.4a251a4a3317bcc51a259fea7862c421.txt  \n",
            "  inflating: yolov7Data/train/labels/Image_61_jpeg.rf.9665537fd6a62cd07bea8e34b78a7e94.txt  \n",
            "  inflating: __MACOSX/yolov7Data/train/labels/._Image_61_jpeg.rf.9665537fd6a62cd07bea8e34b78a7e94.txt  \n",
            "  inflating: yolov7Data/train/labels/Image_163_jpg.rf.3b38a80ed794ea09a7ce668fe1447e43.txt  \n",
            "  inflating: __MACOSX/yolov7Data/train/labels/._Image_163_jpg.rf.3b38a80ed794ea09a7ce668fe1447e43.txt  \n",
            "  inflating: yolov7Data/train/labels/Image_90_jpg.rf.c13b83eddc35fd91a7c41f8c6262bb02.txt  \n",
            "  inflating: __MACOSX/yolov7Data/train/labels/._Image_90_jpg.rf.c13b83eddc35fd91a7c41f8c6262bb02.txt  \n",
            "  inflating: yolov7Data/train/labels/Screenshot-78-_png.rf.40fa0f4df3dd5a91196c9dcffd4fbd64.txt  \n",
            "  inflating: __MACOSX/yolov7Data/train/labels/._Screenshot-78-_png.rf.40fa0f4df3dd5a91196c9dcffd4fbd64.txt  \n",
            "  inflating: yolov7Data/train/labels/Screenshot-252-_png.rf.ccb343623d2e2d4de26d2a00d775df90.txt  \n",
            "  inflating: __MACOSX/yolov7Data/train/labels/._Screenshot-252-_png.rf.ccb343623d2e2d4de26d2a00d775df90.txt  \n",
            "  inflating: yolov7Data/train/labels/Screenshot-114-_png.rf.b11704d78d9338a38842f5941c7266e9.txt  \n",
            "  inflating: __MACOSX/yolov7Data/train/labels/._Screenshot-114-_png.rf.b11704d78d9338a38842f5941c7266e9.txt  \n",
            "  inflating: yolov7Data/train/labels/Screenshot-15-_png.rf.c474ed69571de8bb3c488bd6d9a8f111.txt  \n",
            "  inflating: __MACOSX/yolov7Data/train/labels/._Screenshot-15-_png.rf.c474ed69571de8bb3c488bd6d9a8f111.txt  \n",
            "  inflating: yolov7Data/train/labels/Image_172_jpg.rf.bcee32d449634a4b1db70c3766213db2.txt  \n",
            "  inflating: __MACOSX/yolov7Data/train/labels/._Image_172_jpg.rf.bcee32d449634a4b1db70c3766213db2.txt  \n",
            "  inflating: yolov7Data/train/labels/Image_10_jpg.rf.905075cc76c4e42ab15f27b9282d0ada.txt  \n",
            "  inflating: __MACOSX/yolov7Data/train/labels/._Image_10_jpg.rf.905075cc76c4e42ab15f27b9282d0ada.txt  \n",
            "  inflating: yolov7Data/train/labels/Image_170_jpg.rf.85f5e65d1acab686427404c1003ed9b3.txt  \n",
            "  inflating: __MACOSX/yolov7Data/train/labels/._Image_170_jpg.rf.85f5e65d1acab686427404c1003ed9b3.txt  \n",
            "  inflating: yolov7Data/train/labels/Image_180_jpg.rf.32951016802a9744188be4fa9398f4da.txt  \n",
            "  inflating: __MACOSX/yolov7Data/train/labels/._Image_180_jpg.rf.32951016802a9744188be4fa9398f4da.txt  \n",
            "  inflating: yolov7Data/train/labels/Image_87_jpg.rf.7d025050606add6f93e3569468271812.txt  \n",
            "  inflating: __MACOSX/yolov7Data/train/labels/._Image_87_jpg.rf.7d025050606add6f93e3569468271812.txt  \n",
            "  inflating: yolov7Data/train/labels/Screenshot-255-_png.rf.f9de30f9cccecf7a457ef3be96c9def9.txt  \n",
            "  inflating: __MACOSX/yolov7Data/train/labels/._Screenshot-255-_png.rf.f9de30f9cccecf7a457ef3be96c9def9.txt  \n",
            "  inflating: yolov7Data/train/labels/Image_130_jpg.rf.3fc7e5470352e0d1cb9ffe9c37358d71.txt  \n",
            "  inflating: __MACOSX/yolov7Data/train/labels/._Image_130_jpg.rf.3fc7e5470352e0d1cb9ffe9c37358d71.txt  \n",
            "  inflating: yolov7Data/train/labels/Image_52_jpg.rf.eb93010f2b51d461a39079e16eda5016.txt  \n",
            "  inflating: __MACOSX/yolov7Data/train/labels/._Image_52_jpg.rf.eb93010f2b51d461a39079e16eda5016.txt  \n",
            "  inflating: yolov7Data/train/labels/Image_81_jpg.rf.5d20518dceffe5a2ec1332d3c0cd239b.txt  \n",
            "  inflating: __MACOSX/yolov7Data/train/labels/._Image_81_jpg.rf.5d20518dceffe5a2ec1332d3c0cd239b.txt  \n",
            "  inflating: yolov7Data/train/labels/Image_45_jpg.rf.038abc3805011c39b5faf3174349bd98.txt  \n",
            "  inflating: __MACOSX/yolov7Data/train/labels/._Image_45_jpg.rf.038abc3805011c39b5faf3174349bd98.txt  \n",
            "  inflating: yolov7Data/train/labels/Image_74_jpg.rf.b764d25d2f6c4d171f3685c69198fe39.txt  \n",
            "  inflating: __MACOSX/yolov7Data/train/labels/._Image_74_jpg.rf.b764d25d2f6c4d171f3685c69198fe39.txt  \n",
            "  inflating: yolov7Data/train/labels/Image_112_jpg.rf.a86cc603f3a00c881f76f7f4a377e8e2.txt  \n",
            "  inflating: __MACOSX/yolov7Data/train/labels/._Image_112_jpg.rf.a86cc603f3a00c881f76f7f4a377e8e2.txt  \n",
            "  inflating: yolov7Data/train/labels/Screenshot-198-_png.rf.55d51c49278131c4f51f0bc6d1f1d49f.txt  \n",
            "  inflating: __MACOSX/yolov7Data/train/labels/._Screenshot-198-_png.rf.55d51c49278131c4f51f0bc6d1f1d49f.txt  \n",
            "  inflating: yolov7Data/train/labels/Image_79_jpeg.rf.765bf43813f5c10eb7fc55ee9ea6b48f.txt  \n",
            "  inflating: __MACOSX/yolov7Data/train/labels/._Image_79_jpeg.rf.765bf43813f5c10eb7fc55ee9ea6b48f.txt  \n",
            "  inflating: yolov7Data/train/labels/Screenshot-374-_png.rf.c8ce08313249a2a5f0eee5cf9aa26d23.txt  \n",
            "  inflating: __MACOSX/yolov7Data/train/labels/._Screenshot-374-_png.rf.c8ce08313249a2a5f0eee5cf9aa26d23.txt  \n",
            "  inflating: yolov7Data/train/labels/Image_85_jpg.rf.8d384b8dc75fbc0e3be19ca2cae4b118.txt  \n",
            "  inflating: __MACOSX/yolov7Data/train/labels/._Image_85_jpg.rf.8d384b8dc75fbc0e3be19ca2cae4b118.txt  \n",
            "  inflating: yolov7Data/train/labels/Image_111_jpg.rf.b7d57ec8ef5c60f6c13968c08d54fa67.txt  \n",
            "  inflating: __MACOSX/yolov7Data/train/labels/._Image_111_jpg.rf.b7d57ec8ef5c60f6c13968c08d54fa67.txt  \n",
            "  inflating: yolov7Data/train/labels/Image_5_jpg.rf.36c20885169c8f1d2157a33bd434b45b.txt  \n",
            "  inflating: __MACOSX/yolov7Data/train/labels/._Image_5_jpg.rf.36c20885169c8f1d2157a33bd434b45b.txt  \n",
            "  inflating: yolov7Data/train/labels/Image_153_jpg.rf.fd403193fb4cecafb17b4ddade292ee3.txt  \n",
            "  inflating: __MACOSX/yolov7Data/train/labels/._Image_153_jpg.rf.fd403193fb4cecafb17b4ddade292ee3.txt  \n",
            "  inflating: yolov7Data/train/labels/Image_13_jpg.rf.2026fd9b42aac0c4b73ac3062fb15859.txt  \n",
            "  inflating: __MACOSX/yolov7Data/train/labels/._Image_13_jpg.rf.2026fd9b42aac0c4b73ac3062fb15859.txt  \n",
            "  inflating: yolov7Data/train/labels/Image_133_jpg.rf.d1ac08a99dbeadbf6baf1ce76f778ed9.txt  \n",
            "  inflating: __MACOSX/yolov7Data/train/labels/._Image_133_jpg.rf.d1ac08a99dbeadbf6baf1ce76f778ed9.txt  \n",
            "  inflating: yolov7Data/train/labels/Image_85_jpg.rf.3e332c6f1d9100066c8112a4f57166ba.txt  \n",
            "  inflating: __MACOSX/yolov7Data/train/labels/._Image_85_jpg.rf.3e332c6f1d9100066c8112a4f57166ba.txt  \n",
            "  inflating: yolov7Data/train/labels/Image_93_jpg.rf.17d2f656e011399ae45a4986b8dab6e7.txt  \n",
            "  inflating: __MACOSX/yolov7Data/train/labels/._Image_93_jpg.rf.17d2f656e011399ae45a4986b8dab6e7.txt  \n",
            "  inflating: yolov7Data/train/labels/Screenshot-336-_png.rf.98913f9338ed17535180547ef48c4a40.txt  \n",
            "  inflating: __MACOSX/yolov7Data/train/labels/._Screenshot-336-_png.rf.98913f9338ed17535180547ef48c4a40.txt  \n",
            "  inflating: yolov7Data/train/labels/Screenshot-215-_png.rf.f03a706c19208644d896cf02a8da51f9.txt  \n",
            "  inflating: __MACOSX/yolov7Data/train/labels/._Screenshot-215-_png.rf.f03a706c19208644d896cf02a8da51f9.txt  \n",
            "  inflating: yolov7Data/train/labels/Image_88_jpg.rf.d21172ae6c5bdbcdf8b1aed34c62c778.txt  \n",
            "  inflating: __MACOSX/yolov7Data/train/labels/._Image_88_jpg.rf.d21172ae6c5bdbcdf8b1aed34c62c778.txt  \n",
            "  inflating: yolov7Data/train/labels/Image_64_jpg.rf.2c347fb5fdc2f24cb7f7e1613cf619d7.txt  \n",
            "  inflating: __MACOSX/yolov7Data/train/labels/._Image_64_jpg.rf.2c347fb5fdc2f24cb7f7e1613cf619d7.txt  \n",
            "  inflating: yolov7Data/train/labels/Screenshot-148-_png.rf.093f531c54bf200cf844fd5aa8a34324.txt  \n",
            "  inflating: __MACOSX/yolov7Data/train/labels/._Screenshot-148-_png.rf.093f531c54bf200cf844fd5aa8a34324.txt  \n",
            "  inflating: yolov7Data/train/labels/Image_41_jpg.rf.64d2dd03c4578e22a02f68cac83c9b8b.txt  \n",
            "  inflating: __MACOSX/yolov7Data/train/labels/._Image_41_jpg.rf.64d2dd03c4578e22a02f68cac83c9b8b.txt  \n",
            "  inflating: yolov7Data/train/labels/Image_57_jpg.rf.4731fda594dc8b723ef06b6b3be03f75.txt  \n",
            "  inflating: __MACOSX/yolov7Data/train/labels/._Image_57_jpg.rf.4731fda594dc8b723ef06b6b3be03f75.txt  \n",
            "  inflating: yolov7Data/train/labels/Image_102_jpg.rf.c30e490a0b49abdbbde5cda5d408a5a0.txt  \n",
            "  inflating: __MACOSX/yolov7Data/train/labels/._Image_102_jpg.rf.c30e490a0b49abdbbde5cda5d408a5a0.txt  \n",
            "  inflating: yolov7Data/train/labels/Image_48_jpg.rf.dcbd41e19a3d461740638521e3f39c98.txt  \n",
            "  inflating: __MACOSX/yolov7Data/train/labels/._Image_48_jpg.rf.dcbd41e19a3d461740638521e3f39c98.txt  \n",
            "  inflating: yolov7Data/train/labels/Image_78_jpg.rf.dff69385e397afd9786602548f9ca666.txt  \n",
            "  inflating: __MACOSX/yolov7Data/train/labels/._Image_78_jpg.rf.dff69385e397afd9786602548f9ca666.txt  \n",
            "  inflating: yolov7Data/train/labels/Screenshot-343-_png.rf.cc0106d88573844868d9a1d1af7a4c47.txt  \n",
            "  inflating: __MACOSX/yolov7Data/train/labels/._Screenshot-343-_png.rf.cc0106d88573844868d9a1d1af7a4c47.txt  \n",
            "  inflating: yolov7Data/train/labels/Image_124_jpg.rf.633d93ec464464adb7170f53ec5d3d85.txt  \n",
            "  inflating: __MACOSX/yolov7Data/train/labels/._Image_124_jpg.rf.633d93ec464464adb7170f53ec5d3d85.txt  \n",
            "  inflating: yolov7Data/train/labels/Image_82_jpg.rf.2d8a89555feb89141e6b8060f3037bff.txt  \n",
            "  inflating: __MACOSX/yolov7Data/train/labels/._Image_82_jpg.rf.2d8a89555feb89141e6b8060f3037bff.txt  \n",
            "  inflating: yolov7Data/train/labels/Image_75_jpg.rf.990bca769735880db254ffb719a0e076.txt  \n",
            "  inflating: __MACOSX/yolov7Data/train/labels/._Image_75_jpg.rf.990bca769735880db254ffb719a0e076.txt  \n",
            "  inflating: yolov7Data/train/labels/Image_97_jpg.rf.b6d2c973ddfd400cc49d1d4e50795a23.txt  \n",
            "  inflating: __MACOSX/yolov7Data/train/labels/._Image_97_jpg.rf.b6d2c973ddfd400cc49d1d4e50795a23.txt  \n",
            "  inflating: yolov7Data/train/labels/Screenshot-301-_png.rf.c625a52baec7c0b296ab50a3ee053de6.txt  \n",
            "  inflating: __MACOSX/yolov7Data/train/labels/._Screenshot-301-_png.rf.c625a52baec7c0b296ab50a3ee053de6.txt  \n",
            "  inflating: yolov7Data/train/labels/Image_26_jpg.rf.ecdb38b98bdb0dcdb9f473f91c6d5d23.txt  \n",
            "  inflating: __MACOSX/yolov7Data/train/labels/._Image_26_jpg.rf.ecdb38b98bdb0dcdb9f473f91c6d5d23.txt  \n",
            "  inflating: yolov7Data/train/labels/Screenshot-267-_png.rf.b6f6d03e92a282bc708f100d7d89edbb.txt  \n",
            "  inflating: __MACOSX/yolov7Data/train/labels/._Screenshot-267-_png.rf.b6f6d03e92a282bc708f100d7d89edbb.txt  \n",
            "  inflating: yolov7Data/train/labels/Image_160_jpg.rf.a421f47d0267d45cc8881a7cf8f95215.txt  \n",
            "  inflating: __MACOSX/yolov7Data/train/labels/._Image_160_jpg.rf.a421f47d0267d45cc8881a7cf8f95215.txt  \n",
            "  inflating: yolov7Data/train/labels/Image_188_jpg.rf.7f8cfd452d7672e54376068f2869ec75.txt  \n",
            "  inflating: __MACOSX/yolov7Data/train/labels/._Image_188_jpg.rf.7f8cfd452d7672e54376068f2869ec75.txt  \n",
            "  inflating: yolov7Data/train/labels/Image_49_jpg.rf.1ed79b2f957a30f1d0b22c065c498c25.txt  \n",
            "  inflating: __MACOSX/yolov7Data/train/labels/._Image_49_jpg.rf.1ed79b2f957a30f1d0b22c065c498c25.txt  \n",
            "  inflating: yolov7Data/train/labels/Image_108_jpg.rf.e64663f23a7b3925534fed1602ae07a3.txt  \n",
            "  inflating: __MACOSX/yolov7Data/train/labels/._Image_108_jpg.rf.e64663f23a7b3925534fed1602ae07a3.txt  \n",
            "  inflating: yolov7Data/train/labels/Image_7_png.rf.e41ae5fbe5fdd8aca84bed8aa705d2b1.txt  \n",
            "  inflating: __MACOSX/yolov7Data/train/labels/._Image_7_png.rf.e41ae5fbe5fdd8aca84bed8aa705d2b1.txt  \n",
            "  inflating: yolov7Data/train/labels/Screenshot-40-_png.rf.212670478293c7a5a8a5750d53d14af0.txt  \n",
            "  inflating: __MACOSX/yolov7Data/train/labels/._Screenshot-40-_png.rf.212670478293c7a5a8a5750d53d14af0.txt  \n",
            "  inflating: yolov7Data/train/labels/Screenshot-41-_png.rf.4561cc97cd7a32df10e8f3e0996a0617.txt  \n",
            "  inflating: __MACOSX/yolov7Data/train/labels/._Screenshot-41-_png.rf.4561cc97cd7a32df10e8f3e0996a0617.txt  \n",
            "  inflating: yolov7Data/train/labels/Image_43_jpg.rf.a51ecc6b5e31fefbc669098915468f57.txt  \n",
            "  inflating: __MACOSX/yolov7Data/train/labels/._Image_43_jpg.rf.a51ecc6b5e31fefbc669098915468f57.txt  \n",
            "  inflating: yolov7Data/train/labels/Screenshot-185-_png.rf.22e655f859fab05989408f5b7c1d5558.txt  \n",
            "  inflating: __MACOSX/yolov7Data/train/labels/._Screenshot-185-_png.rf.22e655f859fab05989408f5b7c1d5558.txt  \n",
            "  inflating: yolov7Data/train/labels/Screenshot-451-_png.rf.0a762d249a8133d740ae645d8120e807.txt  \n",
            "  inflating: __MACOSX/yolov7Data/train/labels/._Screenshot-451-_png.rf.0a762d249a8133d740ae645d8120e807.txt  \n",
            "  inflating: yolov7Data/train/labels/Image_59_jpg.rf.52c26d08e113075d2c5173db03ca2ee8.txt  \n",
            "  inflating: __MACOSX/yolov7Data/train/labels/._Image_59_jpg.rf.52c26d08e113075d2c5173db03ca2ee8.txt  \n",
            "  inflating: yolov7Data/train/labels/Image_55_jpg.rf.43d691faed8abcc36e125dce64ad1e73.txt  \n",
            "  inflating: __MACOSX/yolov7Data/train/labels/._Image_55_jpg.rf.43d691faed8abcc36e125dce64ad1e73.txt  \n",
            "  inflating: yolov7Data/train/labels/Image_117_jpg.rf.2fbff58d3f3a7fc5de29c9bb38ad64c9.txt  \n",
            "  inflating: __MACOSX/yolov7Data/train/labels/._Image_117_jpg.rf.2fbff58d3f3a7fc5de29c9bb38ad64c9.txt  \n",
            "  inflating: yolov7Data/train/labels/Image_19_jpg.rf.38d5d2b8b46530899c43152ad0b32428.txt  \n",
            "  inflating: __MACOSX/yolov7Data/train/labels/._Image_19_jpg.rf.38d5d2b8b46530899c43152ad0b32428.txt  \n",
            "  inflating: yolov7Data/train/labels/Image_127_JPG.rf.1aa1bbe190ef1f94574ce1b4bfb0e4e8.txt  \n",
            "  inflating: __MACOSX/yolov7Data/train/labels/._Image_127_JPG.rf.1aa1bbe190ef1f94574ce1b4bfb0e4e8.txt  \n",
            "  inflating: yolov7Data/train/labels/Image_119_jpg.rf.0d7b6050a0e067bb1e9227b71db0d0a7.txt  \n",
            "  inflating: __MACOSX/yolov7Data/train/labels/._Image_119_jpg.rf.0d7b6050a0e067bb1e9227b71db0d0a7.txt  \n",
            "  inflating: yolov7Data/train/labels/Image_111_jpg.rf.3c15aa4574859804eeec1c048dc2b4e5.txt  \n",
            "  inflating: __MACOSX/yolov7Data/train/labels/._Image_111_jpg.rf.3c15aa4574859804eeec1c048dc2b4e5.txt  \n",
            "  inflating: yolov7Data/train/labels/Screenshot-71-_png.rf.36744305a02722b8085507d679d8182c.txt  \n",
            "  inflating: __MACOSX/yolov7Data/train/labels/._Screenshot-71-_png.rf.36744305a02722b8085507d679d8182c.txt  \n",
            "  inflating: yolov7Data/train/labels/Screenshot-387-_png.rf.ef7316ae62287ed3828b0d2592eea96c.txt  \n",
            "  inflating: __MACOSX/yolov7Data/train/labels/._Screenshot-387-_png.rf.ef7316ae62287ed3828b0d2592eea96c.txt  \n",
            "  inflating: yolov7Data/train/labels/Screenshot-89-_png.rf.df2c7f48912fd7ff519adcc687030913.txt  \n",
            "  inflating: __MACOSX/yolov7Data/train/labels/._Screenshot-89-_png.rf.df2c7f48912fd7ff519adcc687030913.txt  \n",
            "  inflating: yolov7Data/train/labels/Image_139_JPG.rf.4420bc39e11328a238388f3f866db3ba.txt  \n",
            "  inflating: __MACOSX/yolov7Data/train/labels/._Image_139_JPG.rf.4420bc39e11328a238388f3f866db3ba.txt  \n",
            "  inflating: yolov7Data/train/labels/Screenshot-39-_png.rf.fa79c61359f3a2245fd7fe2c48eff4d9.txt  \n",
            "  inflating: __MACOSX/yolov7Data/train/labels/._Screenshot-39-_png.rf.fa79c61359f3a2245fd7fe2c48eff4d9.txt  \n",
            "  inflating: yolov7Data/train/labels/Screenshot-173-_png.rf.b7ce585ff4ab414dc6406435a4c1d97c.txt  \n",
            "  inflating: __MACOSX/yolov7Data/train/labels/._Screenshot-173-_png.rf.b7ce585ff4ab414dc6406435a4c1d97c.txt  \n",
            "  inflating: yolov7Data/train/labels/Image_103_jpeg.rf.61a9f7c83eaff8cf06ec90065de6b2dc.txt  \n",
            "  inflating: __MACOSX/yolov7Data/train/labels/._Image_103_jpeg.rf.61a9f7c83eaff8cf06ec90065de6b2dc.txt  \n",
            "  inflating: yolov7Data/train/labels/Screenshot-429-_png.rf.4b907a242cf6f5c02f121b04dcf02f9c.txt  \n",
            "  inflating: __MACOSX/yolov7Data/train/labels/._Screenshot-429-_png.rf.4b907a242cf6f5c02f121b04dcf02f9c.txt  \n",
            "  inflating: yolov7Data/train/labels/Screenshot-423-_png.rf.ced75faf37cca8881c2aac51683aba78.txt  \n",
            "  inflating: __MACOSX/yolov7Data/train/labels/._Screenshot-423-_png.rf.ced75faf37cca8881c2aac51683aba78.txt  \n",
            "  inflating: yolov7Data/train/labels/Screenshot-436-_png.rf.876497ed79ea6ee7860ae740e48d5415.txt  \n",
            "  inflating: __MACOSX/yolov7Data/train/labels/._Screenshot-436-_png.rf.876497ed79ea6ee7860ae740e48d5415.txt  \n",
            "  inflating: yolov7Data/train/labels/Image_61_jpg.rf.e56091bfea1379e2556969ffe299e70e.txt  \n",
            "  inflating: __MACOSX/yolov7Data/train/labels/._Image_61_jpg.rf.e56091bfea1379e2556969ffe299e70e.txt  \n",
            "  inflating: yolov7Data/train/labels/Image_120_jpg.rf.43b6dcd56116da2a00c37d7e0897a473.txt  \n",
            "  inflating: __MACOSX/yolov7Data/train/labels/._Image_120_jpg.rf.43b6dcd56116da2a00c37d7e0897a473.txt  \n",
            "  inflating: yolov7Data/train/labels/Image_72_JPG.rf.3e559601a512515fefa68c9b6d03e4b5.txt  \n",
            "  inflating: __MACOSX/yolov7Data/train/labels/._Image_72_JPG.rf.3e559601a512515fefa68c9b6d03e4b5.txt  \n",
            "  inflating: yolov7Data/train/labels/Screenshot-156-_png.rf.758d04afd34d7e91ac83b1cdf32c2c79.txt  \n",
            "  inflating: __MACOSX/yolov7Data/train/labels/._Screenshot-156-_png.rf.758d04afd34d7e91ac83b1cdf32c2c79.txt  \n",
            "  inflating: yolov7Data/train/labels/Image_169_jpg.rf.aa555f44a02750a85ea55117d932ecfe.txt  \n",
            "  inflating: __MACOSX/yolov7Data/train/labels/._Image_169_jpg.rf.aa555f44a02750a85ea55117d932ecfe.txt  \n",
            "  inflating: yolov7Data/train/labels/Image_22_jpg.rf.2ca7077f4b52dc2aae7dde2a37ff0275.txt  \n",
            "  inflating: __MACOSX/yolov7Data/train/labels/._Image_22_jpg.rf.2ca7077f4b52dc2aae7dde2a37ff0275.txt  \n",
            "  inflating: yolov7Data/train/labels/Image_33_jpg.rf.d0098095ab81f49cf4c74b503b5ea230.txt  \n",
            "  inflating: __MACOSX/yolov7Data/train/labels/._Image_33_jpg.rf.d0098095ab81f49cf4c74b503b5ea230.txt  \n",
            "  inflating: yolov7Data/train/labels/Screenshot-197-_png.rf.d642a66957aff323b1dbb7308b5c2af2.txt  \n",
            "  inflating: __MACOSX/yolov7Data/train/labels/._Screenshot-197-_png.rf.d642a66957aff323b1dbb7308b5c2af2.txt  \n",
            "  inflating: yolov7Data/train/labels/Image_16_jpg.rf.a76dff3d574bef9efeb918a2d2c9bf95.txt  \n",
            "  inflating: __MACOSX/yolov7Data/train/labels/._Image_16_jpg.rf.a76dff3d574bef9efeb918a2d2c9bf95.txt  \n",
            "  inflating: yolov7Data/train/labels/Image_93_jpg.rf.f7df709f12cd509138b9128130cca6ce.txt  \n",
            "  inflating: __MACOSX/yolov7Data/train/labels/._Image_93_jpg.rf.f7df709f12cd509138b9128130cca6ce.txt  \n",
            "  inflating: yolov7Data/train/labels/Screenshot-342-_png.rf.056faaf78dbe4d55b78080a0d1ad7138.txt  \n",
            "  inflating: __MACOSX/yolov7Data/train/labels/._Screenshot-342-_png.rf.056faaf78dbe4d55b78080a0d1ad7138.txt  \n",
            "  inflating: yolov7Data/train/labels/Image_23_jpg.rf.453b020b8c290da033477fdebf1f45cf.txt  \n",
            "  inflating: __MACOSX/yolov7Data/train/labels/._Image_23_jpg.rf.453b020b8c290da033477fdebf1f45cf.txt  \n",
            "  inflating: yolov7Data/train/labels/Image_40_jpg.rf.45ac5aa63ccb686feb1b1f2ccd0d6572.txt  \n",
            "  inflating: __MACOSX/yolov7Data/train/labels/._Image_40_jpg.rf.45ac5aa63ccb686feb1b1f2ccd0d6572.txt  \n",
            "  inflating: yolov7Data/train/labels/Screenshot-133-_png.rf.69f5a5a87857ad8dc111038b2b26d922.txt  \n",
            "  inflating: __MACOSX/yolov7Data/train/labels/._Screenshot-133-_png.rf.69f5a5a87857ad8dc111038b2b26d922.txt  \n",
            "  inflating: yolov7Data/train/labels/Image_27_jpg.rf.84cf11f8d02187732abe706c3ed003ee.txt  \n",
            "  inflating: __MACOSX/yolov7Data/train/labels/._Image_27_jpg.rf.84cf11f8d02187732abe706c3ed003ee.txt  \n",
            "  inflating: yolov7Data/train/labels/Screenshot-408-_png.rf.2ad4bafbfa02cfff0234601bde9d269a.txt  \n",
            "  inflating: __MACOSX/yolov7Data/train/labels/._Screenshot-408-_png.rf.2ad4bafbfa02cfff0234601bde9d269a.txt  \n",
            "  inflating: yolov7Data/train/labels/Screenshot-263-_png.rf.aaa55d8422a1d74c845a8979606d58e4.txt  \n",
            "  inflating: __MACOSX/yolov7Data/train/labels/._Screenshot-263-_png.rf.aaa55d8422a1d74c845a8979606d58e4.txt  \n",
            "  inflating: yolov7Data/train/labels/Image_118_jpg.rf.b5c0c98cbbc941e18ea6533c81a6ca3f.txt  \n",
            "  inflating: __MACOSX/yolov7Data/train/labels/._Image_118_jpg.rf.b5c0c98cbbc941e18ea6533c81a6ca3f.txt  \n",
            "  inflating: yolov7Data/train/labels/Image_45_jpg.rf.2a886f062c3a28eab7b7a007d21f5fbd.txt  \n",
            "  inflating: __MACOSX/yolov7Data/train/labels/._Image_45_jpg.rf.2a886f062c3a28eab7b7a007d21f5fbd.txt  \n",
            "  inflating: yolov7Data/train/labels/Image_141_jpg.rf.55013a6d5e8ecf02733f5f2b122ac361.txt  \n",
            "  inflating: __MACOSX/yolov7Data/train/labels/._Image_141_jpg.rf.55013a6d5e8ecf02733f5f2b122ac361.txt  \n",
            "  inflating: yolov7Data/train/labels/Image_136_jpg.rf.6ac2731634d5147b9e0f17db2bc1b445.txt  \n",
            "  inflating: __MACOSX/yolov7Data/train/labels/._Image_136_jpg.rf.6ac2731634d5147b9e0f17db2bc1b445.txt  \n",
            "  inflating: yolov7Data/train/labels/Image_4_jpg.rf.a501390538d0dab5eafd2626c6c688bd.txt  \n",
            "  inflating: __MACOSX/yolov7Data/train/labels/._Image_4_jpg.rf.a501390538d0dab5eafd2626c6c688bd.txt  \n",
            "  inflating: yolov7Data/train/labels/Image_179_jpg.rf.5b447c2a9433b57b2d46845549d23a68.txt  \n",
            "  inflating: __MACOSX/yolov7Data/train/labels/._Image_179_jpg.rf.5b447c2a9433b57b2d46845549d23a68.txt  \n",
            "  inflating: yolov7Data/train/labels/Image_26_jpg.rf.3ecabd3ec1255f2f5f735345052fd929.txt  \n",
            "  inflating: __MACOSX/yolov7Data/train/labels/._Image_26_jpg.rf.3ecabd3ec1255f2f5f735345052fd929.txt  \n",
            "  inflating: yolov7Data/train/labels/Image_86_jpg.rf.691416d4434fad294a0b605e65220abf.txt  \n",
            "  inflating: __MACOSX/yolov7Data/train/labels/._Image_86_jpg.rf.691416d4434fad294a0b605e65220abf.txt  \n",
            "  inflating: yolov7Data/train/labels/Image_182_jpg.rf.f14bf245bcb478f199a43317d8bc2399.txt  \n",
            "  inflating: __MACOSX/yolov7Data/train/labels/._Image_182_jpg.rf.f14bf245bcb478f199a43317d8bc2399.txt  \n",
            "  inflating: yolov7Data/train/labels/Screenshot-431-_png.rf.95fab82968c9052ac66e1e4239e7907a.txt  \n",
            "  inflating: __MACOSX/yolov7Data/train/labels/._Screenshot-431-_png.rf.95fab82968c9052ac66e1e4239e7907a.txt  \n",
            "  inflating: yolov7Data/train/labels/Image_35_jpg.rf.8ede617be07afe60f3354a74a606a52e.txt  \n",
            "  inflating: __MACOSX/yolov7Data/train/labels/._Image_35_jpg.rf.8ede617be07afe60f3354a74a606a52e.txt  \n",
            "  inflating: yolov7Data/train/labels/Image_83_jpg.rf.f1b25c5098dc27842af0026fb85cfeb8.txt  \n",
            "  inflating: __MACOSX/yolov7Data/train/labels/._Image_83_jpg.rf.f1b25c5098dc27842af0026fb85cfeb8.txt  \n",
            "  inflating: yolov7Data/train/labels/Screenshot-269-_png.rf.ee72b9c50679f00bc106f0187babe7f6.txt  \n",
            "  inflating: __MACOSX/yolov7Data/train/labels/._Screenshot-269-_png.rf.ee72b9c50679f00bc106f0187babe7f6.txt  \n",
            "  inflating: yolov7Data/train/labels/Screenshot-104-_png.rf.80908a01993a23d851d526ffbdfbeb55.txt  \n",
            "  inflating: __MACOSX/yolov7Data/train/labels/._Screenshot-104-_png.rf.80908a01993a23d851d526ffbdfbeb55.txt  \n",
            "  inflating: yolov7Data/train/labels/Screenshot-268-_png.rf.10b1d8e2b677af6e2d1cee877b12a0f3.txt  \n",
            "  inflating: __MACOSX/yolov7Data/train/labels/._Screenshot-268-_png.rf.10b1d8e2b677af6e2d1cee877b12a0f3.txt  \n",
            "  inflating: yolov7Data/train/labels/Image_173_jpg.rf.f476cb63d3aa5f75a7cad527014d3350.txt  \n",
            "  inflating: __MACOSX/yolov7Data/train/labels/._Image_173_jpg.rf.f476cb63d3aa5f75a7cad527014d3350.txt  \n",
            "  inflating: yolov7Data/train/labels/Screenshot-128-_png.rf.5013f205d0e9ddf5dae6cf3237a19082.txt  \n",
            "  inflating: __MACOSX/yolov7Data/train/labels/._Screenshot-128-_png.rf.5013f205d0e9ddf5dae6cf3237a19082.txt  \n",
            "  inflating: yolov7Data/train/labels/Screenshot-366-_png.rf.68d6c216313f7131332e9671b556670b.txt  \n",
            "  inflating: __MACOSX/yolov7Data/train/labels/._Screenshot-366-_png.rf.68d6c216313f7131332e9671b556670b.txt  \n",
            "  inflating: yolov7Data/train/labels/Screenshot-376-_png.rf.2d0e13a0a3fd214ff1458cda9aed814b.txt  \n",
            "  inflating: __MACOSX/yolov7Data/train/labels/._Screenshot-376-_png.rf.2d0e13a0a3fd214ff1458cda9aed814b.txt  \n",
            "  inflating: yolov7Data/train/labels/Image_150_jpg.rf.83ed0a3286ddc835ff7c8c7759e2684f.txt  \n",
            "  inflating: __MACOSX/yolov7Data/train/labels/._Image_150_jpg.rf.83ed0a3286ddc835ff7c8c7759e2684f.txt  \n",
            "  inflating: yolov7Data/train/labels/Image_90_jpg.rf.f852825b36025517df5d64f5259de6cc.txt  \n",
            "  inflating: __MACOSX/yolov7Data/train/labels/._Image_90_jpg.rf.f852825b36025517df5d64f5259de6cc.txt  \n",
            "  inflating: yolov7Data/train/labels/Image_39_png.rf.1952b9e516d2e32d29a704cda40de046.txt  \n",
            "  inflating: __MACOSX/yolov7Data/train/labels/._Image_39_png.rf.1952b9e516d2e32d29a704cda40de046.txt  \n",
            "  inflating: yolov7Data/train/labels/Image_103_jpg.rf.80f6cd16b999dcd21d3eabf8ebb9c6f6.txt  \n",
            "  inflating: __MACOSX/yolov7Data/train/labels/._Image_103_jpg.rf.80f6cd16b999dcd21d3eabf8ebb9c6f6.txt  \n",
            "  inflating: yolov7Data/train/labels/Image_110_jpg.rf.bbd5e75afaa10c6fe5ffc16e0a554c89.txt  \n",
            "  inflating: __MACOSX/yolov7Data/train/labels/._Image_110_jpg.rf.bbd5e75afaa10c6fe5ffc16e0a554c89.txt  \n",
            "  inflating: yolov7Data/train/labels/Image_64_jpg.rf.032d4c937c1b5c01cfd9c40e14f74d06.txt  \n",
            "  inflating: __MACOSX/yolov7Data/train/labels/._Image_64_jpg.rf.032d4c937c1b5c01cfd9c40e14f74d06.txt  \n",
            "  inflating: yolov7Data/train/labels/Screenshot-106-_png.rf.b4a13e8a4434847bc6080fc0c85e271c.txt  \n",
            "  inflating: __MACOSX/yolov7Data/train/labels/._Screenshot-106-_png.rf.b4a13e8a4434847bc6080fc0c85e271c.txt  \n",
            "  inflating: yolov7Data/train/labels/Image_115_jpg.rf.f59fb2a76df989af36d9564178213bdb.txt  \n",
            "  inflating: __MACOSX/yolov7Data/train/labels/._Image_115_jpg.rf.f59fb2a76df989af36d9564178213bdb.txt  \n",
            "  inflating: yolov7Data/train/labels/Screenshot-430-_png.rf.301122d9e229ca4063abbdfcc8c20a02.txt  \n",
            "  inflating: __MACOSX/yolov7Data/train/labels/._Screenshot-430-_png.rf.301122d9e229ca4063abbdfcc8c20a02.txt  \n",
            "  inflating: yolov7Data/train/labels/Screenshot-118-_png.rf.306194c4344a7a3f1ed410b0cb545dbd.txt  \n",
            "  inflating: __MACOSX/yolov7Data/train/labels/._Screenshot-118-_png.rf.306194c4344a7a3f1ed410b0cb545dbd.txt  \n",
            "  inflating: yolov7Data/train/labels/Image_94_jpg.rf.f2f689c489869cbca7c6d814f0d00b1e.txt  \n",
            "  inflating: __MACOSX/yolov7Data/train/labels/._Image_94_jpg.rf.f2f689c489869cbca7c6d814f0d00b1e.txt  \n",
            "  inflating: yolov7Data/train/labels/Screenshot-402-_png.rf.7afb629fe20678cba53fe4419150b8fb.txt  \n",
            "  inflating: __MACOSX/yolov7Data/train/labels/._Screenshot-402-_png.rf.7afb629fe20678cba53fe4419150b8fb.txt  \n",
            "  inflating: yolov7Data/train/labels/Image_123_jpg.rf.ac75820f177118dd640fd59654b08e77.txt  \n",
            "  inflating: __MACOSX/yolov7Data/train/labels/._Image_123_jpg.rf.ac75820f177118dd640fd59654b08e77.txt  \n",
            "  inflating: yolov7Data/train/labels/Image_23_png.rf.d2d9d5db23c0cfa0be393b030179251d.txt  \n",
            "  inflating: __MACOSX/yolov7Data/train/labels/._Image_23_png.rf.d2d9d5db23c0cfa0be393b030179251d.txt  \n",
            "  inflating: yolov7Data/train/labels/Image_29_jpg.rf.c654a1b530ac6d3c453db2f2fc5872d7.txt  \n",
            "  inflating: __MACOSX/yolov7Data/train/labels/._Image_29_jpg.rf.c654a1b530ac6d3c453db2f2fc5872d7.txt  \n",
            "  inflating: yolov7Data/train/labels/Image_62_jpg.rf.ee4f14d3103aa3975319be6d147e5a28.txt  \n",
            "  inflating: __MACOSX/yolov7Data/train/labels/._Image_62_jpg.rf.ee4f14d3103aa3975319be6d147e5a28.txt  \n",
            "  inflating: yolov7Data/train/labels/Image_17_jpg.rf.8f82bb3517f4d7fe2a2b2bb0314c59b6.txt  \n",
            "  inflating: __MACOSX/yolov7Data/train/labels/._Image_17_jpg.rf.8f82bb3517f4d7fe2a2b2bb0314c59b6.txt  \n",
            "  inflating: yolov7Data/train/labels/Image_103_jpg.rf.2fbcfce065adbf8684c6a8f87dadc856.txt  \n",
            "  inflating: __MACOSX/yolov7Data/train/labels/._Image_103_jpg.rf.2fbcfce065adbf8684c6a8f87dadc856.txt  \n",
            "  inflating: yolov7Data/train/labels/Image_19_jpg.rf.5cdfa42f3ebacacd32d9f5a03516a0f8.txt  \n",
            "  inflating: __MACOSX/yolov7Data/train/labels/._Image_19_jpg.rf.5cdfa42f3ebacacd32d9f5a03516a0f8.txt  \n",
            "  inflating: yolov7Data/train/labels/Image_63_jpg.rf.811b83d28355fba87255b8ac3248d34d.txt  \n",
            "  inflating: __MACOSX/yolov7Data/train/labels/._Image_63_jpg.rf.811b83d28355fba87255b8ac3248d34d.txt  \n",
            "  inflating: yolov7Data/train/labels/Screenshot-414-_png.rf.542571aeb1295392f23c0c60a4eb0ad5.txt  \n",
            "  inflating: __MACOSX/yolov7Data/train/labels/._Screenshot-414-_png.rf.542571aeb1295392f23c0c60a4eb0ad5.txt  \n",
            "  inflating: yolov7Data/train/labels/Image_146_jpg.rf.406f6f275c050dfc7a2823ccaf1c6a77.txt  \n",
            "  inflating: __MACOSX/yolov7Data/train/labels/._Image_146_jpg.rf.406f6f275c050dfc7a2823ccaf1c6a77.txt  \n",
            "  inflating: yolov7Data/train/labels/Image_126_jpg.rf.27a9ff963e5087952aa559fab5f53cf4.txt  \n",
            "  inflating: __MACOSX/yolov7Data/train/labels/._Image_126_jpg.rf.27a9ff963e5087952aa559fab5f53cf4.txt  \n",
            "  inflating: yolov7Data/train/labels/Image_7_jpg.rf.b3d2ca816f8384548c0dae1f6a02dc4f.txt  \n",
            "  inflating: __MACOSX/yolov7Data/train/labels/._Image_7_jpg.rf.b3d2ca816f8384548c0dae1f6a02dc4f.txt  \n",
            "  inflating: yolov7Data/train/labels/Image_183_jpg.rf.cd703747e1fa10813c0c115fc0577c04.txt  \n",
            "  inflating: __MACOSX/yolov7Data/train/labels/._Image_183_jpg.rf.cd703747e1fa10813c0c115fc0577c04.txt  \n",
            "  inflating: yolov7Data/train/labels/Image_10_JPG.rf.6a9db30b206f0e7ba1627dc846af44d1.txt  \n",
            "  inflating: __MACOSX/yolov7Data/train/labels/._Image_10_JPG.rf.6a9db30b206f0e7ba1627dc846af44d1.txt  \n",
            "  inflating: yolov7Data/train/labels/Image_184_JPG.rf.36901dfdbc5d91eb96023e78bad991a5.txt  \n",
            "  inflating: __MACOSX/yolov7Data/train/labels/._Image_184_JPG.rf.36901dfdbc5d91eb96023e78bad991a5.txt  \n",
            "  inflating: yolov7Data/train/labels/Screenshot-102-_png.rf.42f332a9a663c7f3f16292563566d53e.txt  \n",
            "  inflating: __MACOSX/yolov7Data/train/labels/._Screenshot-102-_png.rf.42f332a9a663c7f3f16292563566d53e.txt  \n",
            "  inflating: yolov7Data/train/labels/Image_40_jpg.rf.d6bd36266aae0b444e43d27edfcc4adf.txt  \n",
            "  inflating: __MACOSX/yolov7Data/train/labels/._Image_40_jpg.rf.d6bd36266aae0b444e43d27edfcc4adf.txt  \n",
            "  inflating: yolov7Data/train/labels/Image_54_jpg.rf.cb2667816dade00ce61515d8d37acffb.txt  \n",
            "  inflating: __MACOSX/yolov7Data/train/labels/._Image_54_jpg.rf.cb2667816dade00ce61515d8d37acffb.txt  \n",
            "  inflating: yolov7Data/train/labels/Image_25_jpg.rf.bdb9dcdde44a36e25719debba35347c7.txt  \n",
            "  inflating: __MACOSX/yolov7Data/train/labels/._Image_25_jpg.rf.bdb9dcdde44a36e25719debba35347c7.txt  \n",
            "  inflating: yolov7Data/train/labels/Screenshot-163-_png.rf.56b587ef5c281aede11a5f099670a469.txt  \n",
            "  inflating: __MACOSX/yolov7Data/train/labels/._Screenshot-163-_png.rf.56b587ef5c281aede11a5f099670a469.txt  \n",
            "  inflating: yolov7Data/train/labels/Screenshot-371-_png.rf.fffc24a25544adcd6abbdcd19560f71c.txt  \n",
            "  inflating: __MACOSX/yolov7Data/train/labels/._Screenshot-371-_png.rf.fffc24a25544adcd6abbdcd19560f71c.txt  \n",
            "  inflating: yolov7Data/train/labels/Image_96_JPG.rf.fa5e53de5d2bc0cc603e12c56c0f0ec5.txt  \n",
            "  inflating: __MACOSX/yolov7Data/train/labels/._Image_96_JPG.rf.fa5e53de5d2bc0cc603e12c56c0f0ec5.txt  \n",
            "  inflating: yolov7Data/train/labels/Image_110_jpg.rf.b430b7335d31575ad10feadb40ea1da9.txt  \n",
            "  inflating: __MACOSX/yolov7Data/train/labels/._Image_110_jpg.rf.b430b7335d31575ad10feadb40ea1da9.txt  \n",
            "  inflating: yolov7Data/train/labels/Image_166_jpg.rf.9ff3112903d8c105475ee877bbef4973.txt  \n",
            "  inflating: __MACOSX/yolov7Data/train/labels/._Image_166_jpg.rf.9ff3112903d8c105475ee877bbef4973.txt  \n",
            "  inflating: yolov7Data/train/labels/Image_124_jpg.rf.bb436981c6125d8ba0267330584622c6.txt  \n",
            "  inflating: __MACOSX/yolov7Data/train/labels/._Image_124_jpg.rf.bb436981c6125d8ba0267330584622c6.txt  \n",
            "  inflating: yolov7Data/train/labels/Screenshot-459-_png.rf.36c2e84d57f1914fc6948a06da2b3bda.txt  \n",
            "  inflating: __MACOSX/yolov7Data/train/labels/._Screenshot-459-_png.rf.36c2e84d57f1914fc6948a06da2b3bda.txt  \n",
            "  inflating: yolov7Data/train/labels/Screenshot-289-_png.rf.5dbdc9a2316691c6486349143f84b34e.txt  \n",
            "  inflating: __MACOSX/yolov7Data/train/labels/._Screenshot-289-_png.rf.5dbdc9a2316691c6486349143f84b34e.txt  \n",
            "  inflating: yolov7Data/train/labels/Screenshot-137-_png.rf.3f128dc660859b607e51dfc5932f05d6.txt  \n",
            "  inflating: __MACOSX/yolov7Data/train/labels/._Screenshot-137-_png.rf.3f128dc660859b607e51dfc5932f05d6.txt  \n",
            "  inflating: yolov7Data/train/labels/Image_100_jpg.rf.95a91781800211163d9f434df25ac511.txt  \n",
            "  inflating: __MACOSX/yolov7Data/train/labels/._Image_100_jpg.rf.95a91781800211163d9f434df25ac511.txt  \n",
            "  inflating: yolov7Data/train/labels/Image_121_JPG.rf.30fb8c5aebfa0e0e197f8c5204aebd4b.txt  \n",
            "  inflating: __MACOSX/yolov7Data/train/labels/._Image_121_JPG.rf.30fb8c5aebfa0e0e197f8c5204aebd4b.txt  \n",
            "  inflating: yolov7Data/train/labels/Image_163_jpg.rf.79271d501b6b48ce82af86920fa142eb.txt  \n",
            "  inflating: __MACOSX/yolov7Data/train/labels/._Image_163_jpg.rf.79271d501b6b48ce82af86920fa142eb.txt  \n",
            "  inflating: yolov7Data/train/labels/Screenshot-247-_png.rf.f291356010eb730c1b5f5bfc2c945271.txt  \n",
            "  inflating: __MACOSX/yolov7Data/train/labels/._Screenshot-247-_png.rf.f291356010eb730c1b5f5bfc2c945271.txt  \n",
            "  inflating: yolov7Data/train/labels/Screenshot-265-_png.rf.e4fff6c010377c4a41750a1d13354965.txt  \n",
            "  inflating: __MACOSX/yolov7Data/train/labels/._Screenshot-265-_png.rf.e4fff6c010377c4a41750a1d13354965.txt  \n",
            "  inflating: yolov7Data/train/labels/Screenshot-188-_png.rf.f7109331297d5869dde51de922c34b31.txt  \n",
            "  inflating: __MACOSX/yolov7Data/train/labels/._Screenshot-188-_png.rf.f7109331297d5869dde51de922c34b31.txt  \n",
            "  inflating: yolov7Data/train/labels/Screenshot-115-_png.rf.4d259ec03611c89ba7b76ff166093ae4.txt  \n",
            "  inflating: __MACOSX/yolov7Data/train/labels/._Screenshot-115-_png.rf.4d259ec03611c89ba7b76ff166093ae4.txt  \n",
            "  inflating: yolov7Data/train/labels/Image_14_jpg.rf.045fa961b1781415846c7267b81b68ee.txt  \n",
            "  inflating: __MACOSX/yolov7Data/train/labels/._Image_14_jpg.rf.045fa961b1781415846c7267b81b68ee.txt  \n",
            "  inflating: yolov7Data/train/labels/Screenshot-66-_png.rf.31b8a7f7bfd2685150292570aef4caab.txt  \n",
            "  inflating: __MACOSX/yolov7Data/train/labels/._Screenshot-66-_png.rf.31b8a7f7bfd2685150292570aef4caab.txt  \n",
            "  inflating: yolov7Data/train/labels/Image_88_jpg.rf.3e07198f55ca3f3be2ea27ed99977024.txt  \n",
            "  inflating: __MACOSX/yolov7Data/train/labels/._Image_88_jpg.rf.3e07198f55ca3f3be2ea27ed99977024.txt  \n",
            "  inflating: yolov7Data/train/labels/Image_84_jpg.rf.ccd01e8aac7f7e3dffaec5598ca36922.txt  \n",
            "  inflating: __MACOSX/yolov7Data/train/labels/._Image_84_jpg.rf.ccd01e8aac7f7e3dffaec5598ca36922.txt  \n",
            "  inflating: yolov7Data/train/labels/Screenshot-328-_png.rf.024859cb12cb7196b3e63054707e55c3.txt  \n",
            "  inflating: __MACOSX/yolov7Data/train/labels/._Screenshot-328-_png.rf.024859cb12cb7196b3e63054707e55c3.txt  \n",
            "  inflating: yolov7Data/train/labels/Image_20_jpg.rf.30ebc1afa021ab98b4ed89d6d6f470e0.txt  \n",
            "  inflating: __MACOSX/yolov7Data/train/labels/._Image_20_jpg.rf.30ebc1afa021ab98b4ed89d6d6f470e0.txt  \n",
            "  inflating: yolov7Data/train/labels/Image_34_jpg.rf.ffd1f81efe0bcbfcfb7564ac6c87b348.txt  \n",
            "  inflating: __MACOSX/yolov7Data/train/labels/._Image_34_jpg.rf.ffd1f81efe0bcbfcfb7564ac6c87b348.txt  \n",
            "  inflating: yolov7Data/train/labels/Screenshot-181-_png.rf.134039a2e36dfd14d8a9e0a0d3d26526.txt  \n",
            "  inflating: __MACOSX/yolov7Data/train/labels/._Screenshot-181-_png.rf.134039a2e36dfd14d8a9e0a0d3d26526.txt  \n",
            "  inflating: yolov7Data/train/labels/Screenshot-96-_png.rf.acae6e2568e0b05dc06abbf9cdb0ac80.txt  \n",
            "  inflating: __MACOSX/yolov7Data/train/labels/._Screenshot-96-_png.rf.acae6e2568e0b05dc06abbf9cdb0ac80.txt  \n",
            "  inflating: yolov7Data/train/labels/Image_144_jpg.rf.acfb808513dc269e2e1959a4100b2b04.txt  \n",
            "  inflating: __MACOSX/yolov7Data/train/labels/._Image_144_jpg.rf.acfb808513dc269e2e1959a4100b2b04.txt  \n",
            "  inflating: yolov7Data/train/labels/Screenshot-441-_png.rf.00090ae7222bd7390fa7bcf28ee993f9.txt  \n",
            "  inflating: __MACOSX/yolov7Data/train/labels/._Screenshot-441-_png.rf.00090ae7222bd7390fa7bcf28ee993f9.txt  \n",
            "  inflating: yolov7Data/train/labels/Image_106_jpg.rf.dc7603ed443f975171339506236b2dbd.txt  \n",
            "  inflating: __MACOSX/yolov7Data/train/labels/._Image_106_jpg.rf.dc7603ed443f975171339506236b2dbd.txt  \n",
            "  inflating: yolov7Data/train/labels/Image_116_jpg.rf.3cc68a7f5df47f32c694cc59f78d6611.txt  \n",
            "  inflating: __MACOSX/yolov7Data/train/labels/._Image_116_jpg.rf.3cc68a7f5df47f32c694cc59f78d6611.txt  \n",
            "  inflating: yolov7Data/train/labels/Image_91_jpg.rf.386fccdc298490f6df8cbdc9b4384947.txt  \n",
            "  inflating: __MACOSX/yolov7Data/train/labels/._Image_91_jpg.rf.386fccdc298490f6df8cbdc9b4384947.txt  \n",
            "  inflating: yolov7Data/train/labels/Screenshot-275-_png.rf.52eb8bfc2cd5a8c4818491740244bcc7.txt  \n",
            "  inflating: __MACOSX/yolov7Data/train/labels/._Screenshot-275-_png.rf.52eb8bfc2cd5a8c4818491740244bcc7.txt  \n",
            "  inflating: yolov7Data/train/labels/Image_57_jpg.rf.4b689951daecfdfc66d6c0cd72179ca7.txt  \n",
            "  inflating: __MACOSX/yolov7Data/train/labels/._Image_57_jpg.rf.4b689951daecfdfc66d6c0cd72179ca7.txt  \n",
            "  inflating: yolov7Data/train/labels/Screenshot-210-_png.rf.3dd5c7b5f41857e37ffd48f4e1676666.txt  \n",
            "  inflating: __MACOSX/yolov7Data/train/labels/._Screenshot-210-_png.rf.3dd5c7b5f41857e37ffd48f4e1676666.txt  \n",
            "  inflating: yolov7Data/train/labels/Screenshot-202-_png.rf.99ea3b1e3558103849b8965af07f8815.txt  \n",
            "  inflating: __MACOSX/yolov7Data/train/labels/._Screenshot-202-_png.rf.99ea3b1e3558103849b8965af07f8815.txt  \n",
            "  inflating: yolov7Data/train/labels/Image_105_jpg.rf.bd651d5d6b5c13c1fef059e3d3193d9a.txt  \n",
            "  inflating: __MACOSX/yolov7Data/train/labels/._Image_105_jpg.rf.bd651d5d6b5c13c1fef059e3d3193d9a.txt  \n",
            "  inflating: yolov7Data/train/labels/Image_195_jpg.rf.5e396be2703c8b68626c1c35ff9097e1.txt  \n",
            "  inflating: __MACOSX/yolov7Data/train/labels/._Image_195_jpg.rf.5e396be2703c8b68626c1c35ff9097e1.txt  \n",
            "  inflating: yolov7Data/train/labels/Screenshot-443-_png.rf.2ff53620101d914bfa255dd2f6508337.txt  \n",
            "  inflating: __MACOSX/yolov7Data/train/labels/._Screenshot-443-_png.rf.2ff53620101d914bfa255dd2f6508337.txt  \n",
            "  inflating: yolov7Data/train/labels/Image_142_jpg.rf.c4bb698bd479e3e7fa3a2faaf63074e4.txt  \n",
            "  inflating: __MACOSX/yolov7Data/train/labels/._Image_142_jpg.rf.c4bb698bd479e3e7fa3a2faaf63074e4.txt  \n",
            "  inflating: yolov7Data/train/labels/Image_129_jpg.rf.0b5f17c7707df21ed3d2a7084441a41f.txt  \n",
            "  inflating: __MACOSX/yolov7Data/train/labels/._Image_129_jpg.rf.0b5f17c7707df21ed3d2a7084441a41f.txt  \n",
            "  inflating: yolov7Data/train/labels/Screenshot-357-_png.rf.f2536d669498fcb03625220a24c80e43.txt  \n",
            "  inflating: __MACOSX/yolov7Data/train/labels/._Screenshot-357-_png.rf.f2536d669498fcb03625220a24c80e43.txt  \n",
            "  inflating: yolov7Data/train/labels/Image_8_jpg.rf.83d3a2b04cd5a6007745733055128299.txt  \n",
            "  inflating: __MACOSX/yolov7Data/train/labels/._Image_8_jpg.rf.83d3a2b04cd5a6007745733055128299.txt  \n",
            "  inflating: yolov7Data/train/labels/Image_59_jpg.rf.1ab43514e56f503b439b7c1c1dd4280f.txt  \n",
            "  inflating: __MACOSX/yolov7Data/train/labels/._Image_59_jpg.rf.1ab43514e56f503b439b7c1c1dd4280f.txt  \n",
            "  inflating: yolov7Data/train/labels/Image_96_jpg.rf.dba7b5b55526075b2e1b70504de4e06c.txt  \n",
            "  inflating: __MACOSX/yolov7Data/train/labels/._Image_96_jpg.rf.dba7b5b55526075b2e1b70504de4e06c.txt  \n",
            "  inflating: yolov7Data/train/labels/Screenshot-208-_png.rf.c968856c803caf704852bdb903aafe0a.txt  \n",
            "  inflating: __MACOSX/yolov7Data/train/labels/._Screenshot-208-_png.rf.c968856c803caf704852bdb903aafe0a.txt  \n",
            "  inflating: yolov7Data/train/labels/Image_41_jpg.rf.97e6bb6d2b2fd0e64d5fdff60f45a161.txt  \n",
            "  inflating: __MACOSX/yolov7Data/train/labels/._Image_41_jpg.rf.97e6bb6d2b2fd0e64d5fdff60f45a161.txt  \n",
            "  inflating: yolov7Data/train/labels/Image_188_jpg.rf.1aa6df26e8db7ea3c71f69046c882a78.txt  \n",
            "  inflating: __MACOSX/yolov7Data/train/labels/._Image_188_jpg.rf.1aa6df26e8db7ea3c71f69046c882a78.txt  \n",
            "  inflating: yolov7Data/train/labels/Image_43_jpeg.rf.41f747e347fc819baf2b8aa5ffdb61b6.txt  \n",
            "  inflating: __MACOSX/yolov7Data/train/labels/._Image_43_jpeg.rf.41f747e347fc819baf2b8aa5ffdb61b6.txt  \n",
            "  inflating: yolov7Data/train/labels/Image_133_jpg.rf.abca7009d87ebd63eac92ba7961c1c71.txt  \n",
            "  inflating: __MACOSX/yolov7Data/train/labels/._Image_133_jpg.rf.abca7009d87ebd63eac92ba7961c1c71.txt  \n",
            "  inflating: yolov7Data/train/labels/Image_113_jpg.rf.e63f28ea6b2cb45769dc646549dc222a.txt  \n",
            "  inflating: __MACOSX/yolov7Data/train/labels/._Image_113_jpg.rf.e63f28ea6b2cb45769dc646549dc222a.txt  \n",
            "  inflating: yolov7Data/train/labels/Screenshot-68-_png.rf.38e197f46bd36ab1011a491d6821d13b.txt  \n",
            "  inflating: __MACOSX/yolov7Data/train/labels/._Screenshot-68-_png.rf.38e197f46bd36ab1011a491d6821d13b.txt  \n",
            "  inflating: yolov7Data/train/labels/Screenshot-125-_png.rf.3af85af4bb1769fc09daef68c527b877.txt  \n",
            "  inflating: __MACOSX/yolov7Data/train/labels/._Screenshot-125-_png.rf.3af85af4bb1769fc09daef68c527b877.txt  \n",
            "  inflating: yolov7Data/train/labels/Image_5_JPG.rf.1c2f065e6dc56932332269fd8d581d99.txt  \n",
            "  inflating: __MACOSX/yolov7Data/train/labels/._Image_5_JPG.rf.1c2f065e6dc56932332269fd8d581d99.txt  \n",
            "  inflating: yolov7Data/train/labels/Screenshot-321-_png.rf.134aabff2dae405bd265caa0b612a043.txt  \n",
            "  inflating: __MACOSX/yolov7Data/train/labels/._Screenshot-321-_png.rf.134aabff2dae405bd265caa0b612a043.txt  \n",
            "  inflating: yolov7Data/train/labels/Screenshot-457-_png.rf.4c2f80788fac0321842643290395a59c.txt  \n",
            "  inflating: __MACOSX/yolov7Data/train/labels/._Screenshot-457-_png.rf.4c2f80788fac0321842643290395a59c.txt  \n",
            "  inflating: yolov7Data/train/labels/Image_146_jpg.rf.999fe3622e5cdfda3ef33b0ff89b5de9.txt  \n",
            "  inflating: __MACOSX/yolov7Data/train/labels/._Image_146_jpg.rf.999fe3622e5cdfda3ef33b0ff89b5de9.txt  \n",
            "  inflating: yolov7Data/train/labels/Image_28_jpg.rf.81fc82089a503077b5281bb1c0b62981.txt  \n",
            "  inflating: __MACOSX/yolov7Data/train/labels/._Image_28_jpg.rf.81fc82089a503077b5281bb1c0b62981.txt  \n",
            "  inflating: yolov7Data/train/labels/Screenshot-280-_png.rf.72cf6dee408cf67537fe5903f5b9f89c.txt  \n",
            "  inflating: __MACOSX/yolov7Data/train/labels/._Screenshot-280-_png.rf.72cf6dee408cf67537fe5903f5b9f89c.txt  \n",
            "  inflating: yolov7Data/train/labels/Image_150_jpg.rf.5692465df08fcbc40c5f5703504cfebb.txt  \n",
            "  inflating: __MACOSX/yolov7Data/train/labels/._Image_150_jpg.rf.5692465df08fcbc40c5f5703504cfebb.txt  \n",
            "  inflating: yolov7Data/train/labels/Screenshot-390-_png.rf.8b5917ddd0a7a122e9faa303224f95b7.txt  \n",
            "  inflating: __MACOSX/yolov7Data/train/labels/._Screenshot-390-_png.rf.8b5917ddd0a7a122e9faa303224f95b7.txt  \n",
            "  inflating: yolov7Data/train/labels/Image_21_jpg.rf.bfc0539ee24ee465d163603245b67029.txt  \n",
            "  inflating: __MACOSX/yolov7Data/train/labels/._Image_21_jpg.rf.bfc0539ee24ee465d163603245b67029.txt  \n",
            "  inflating: yolov7Data/train/labels/Image_25_jpg.rf.f45babea1289f149c61a48bb1817a9d5.txt  \n",
            "  inflating: __MACOSX/yolov7Data/train/labels/._Image_25_jpg.rf.f45babea1289f149c61a48bb1817a9d5.txt  \n",
            "  inflating: yolov7Data/train/labels/Screenshot-322-_png.rf.9495e31df20c216021789cf868324677.txt  \n",
            "  inflating: __MACOSX/yolov7Data/train/labels/._Screenshot-322-_png.rf.9495e31df20c216021789cf868324677.txt  \n",
            "  inflating: yolov7Data/train/labels/Image_135_jpg.rf.e418d833adf8e26fce9b06351761296a.txt  \n",
            "  inflating: __MACOSX/yolov7Data/train/labels/._Image_135_jpg.rf.e418d833adf8e26fce9b06351761296a.txt  \n",
            "  inflating: yolov7Data/train/labels/Image_147_jpg.rf.bf49836d229d8a8ca5f8af80f12ee34b.txt  \n",
            "  inflating: __MACOSX/yolov7Data/train/labels/._Image_147_jpg.rf.bf49836d229d8a8ca5f8af80f12ee34b.txt  \n",
            "  inflating: yolov7Data/train/labels/Screenshot-425-_png.rf.ef02e0dc1d41210d7f7eaa714a50f9e1.txt  \n",
            "  inflating: __MACOSX/yolov7Data/train/labels/._Screenshot-425-_png.rf.ef02e0dc1d41210d7f7eaa714a50f9e1.txt  \n",
            "  inflating: yolov7Data/train/labels/Image_68_jpg.rf.3b170156a690d4a67cb5120165ad625f.txt  \n",
            "  inflating: __MACOSX/yolov7Data/train/labels/._Image_68_jpg.rf.3b170156a690d4a67cb5120165ad625f.txt  \n",
            "  inflating: yolov7Data/train/labels/Screenshot-13-_png.rf.c16808364c4c85447b17c5c732decbbc.txt  \n",
            "  inflating: __MACOSX/yolov7Data/train/labels/._Screenshot-13-_png.rf.c16808364c4c85447b17c5c732decbbc.txt  \n",
            "  inflating: yolov7Data/train/labels/Image_1_jpg.rf.2474ee71788892cfd0dfd2f76816d6a0.txt  \n",
            "  inflating: __MACOSX/yolov7Data/train/labels/._Image_1_jpg.rf.2474ee71788892cfd0dfd2f76816d6a0.txt  \n",
            "  inflating: yolov7Data/train/labels/Image_99_jpg.rf.bf216e9d02ad743aa70b6c82203122ad.txt  \n",
            "  inflating: __MACOSX/yolov7Data/train/labels/._Image_99_jpg.rf.bf216e9d02ad743aa70b6c82203122ad.txt  \n",
            "  inflating: yolov7Data/train/labels/Image_88_jpg.rf.8468af0065f14a1b6bc6a8923ae3aeec.txt  \n",
            "  inflating: __MACOSX/yolov7Data/train/labels/._Image_88_jpg.rf.8468af0065f14a1b6bc6a8923ae3aeec.txt  \n",
            "  inflating: yolov7Data/train/labels/Screenshot-44-_png.rf.1536c78a8abb9fa9e2f2ce7bf2888c5c.txt  \n",
            "  inflating: __MACOSX/yolov7Data/train/labels/._Screenshot-44-_png.rf.1536c78a8abb9fa9e2f2ce7bf2888c5c.txt  \n",
            "  inflating: yolov7Data/train/labels/Image_164_JPG.rf.78bde6154c4c584e043b7a6cb26d6dfc.txt  \n",
            "  inflating: __MACOSX/yolov7Data/train/labels/._Image_164_JPG.rf.78bde6154c4c584e043b7a6cb26d6dfc.txt  \n",
            "  inflating: yolov7Data/train/labels/Image_156_jpg.rf.677b0e2792a8bb8f4f70ee2b029b22a0.txt  \n",
            "  inflating: __MACOSX/yolov7Data/train/labels/._Image_156_jpg.rf.677b0e2792a8bb8f4f70ee2b029b22a0.txt  \n",
            "  inflating: yolov7Data/train/labels/Image_98_jpg.rf.65e6547480d45fc224597d2d9e796c8c.txt  \n",
            "  inflating: __MACOSX/yolov7Data/train/labels/._Image_98_jpg.rf.65e6547480d45fc224597d2d9e796c8c.txt  \n",
            "  inflating: yolov7Data/train/labels/Image_46_jpg.rf.cfc35506105c69323a0547a86be6c414.txt  \n",
            "  inflating: __MACOSX/yolov7Data/train/labels/._Image_46_jpg.rf.cfc35506105c69323a0547a86be6c414.txt  \n",
            "  inflating: yolov7Data/train/labels/Image_107_jpg.rf.cde8a17a0173fdb82b17d6c6248961b6.txt  \n",
            "  inflating: __MACOSX/yolov7Data/train/labels/._Image_107_jpg.rf.cde8a17a0173fdb82b17d6c6248961b6.txt  \n",
            "  inflating: yolov7Data/train/labels/Screenshot-204-_png.rf.c09e39020f6f77a731c8ac5c3c940e6e.txt  \n",
            "  inflating: __MACOSX/yolov7Data/train/labels/._Screenshot-204-_png.rf.c09e39020f6f77a731c8ac5c3c940e6e.txt  \n",
            "  inflating: yolov7Data/train/labels/Screenshot-293-_png.rf.4196abaedd3cffa47389735eb374d06b.txt  \n",
            "  inflating: __MACOSX/yolov7Data/train/labels/._Screenshot-293-_png.rf.4196abaedd3cffa47389735eb374d06b.txt  \n",
            "  inflating: yolov7Data/train/labels/Screenshot-453-_png.rf.0b10fb4df588ad045e87fb16e21a4128.txt  \n",
            "  inflating: __MACOSX/yolov7Data/train/labels/._Screenshot-453-_png.rf.0b10fb4df588ad045e87fb16e21a4128.txt  \n",
            "  inflating: yolov7Data/train/labels/Image_19_jpg.rf.367daeba0ed98b436dfd2ed03c387a70.txt  \n",
            "  inflating: __MACOSX/yolov7Data/train/labels/._Image_19_jpg.rf.367daeba0ed98b436dfd2ed03c387a70.txt  \n",
            "  inflating: yolov7Data/train/labels/Image_86_jpg.rf.b8e922dcb0f125204db2c368a8e9c690.txt  \n",
            "  inflating: __MACOSX/yolov7Data/train/labels/._Image_86_jpg.rf.b8e922dcb0f125204db2c368a8e9c690.txt  \n",
            "  inflating: yolov7Data/train/labels/Image_31_jpg.rf.0ea09adcd4bc92c2a89a2ec85ea509bc.txt  \n",
            "  inflating: __MACOSX/yolov7Data/train/labels/._Image_31_jpg.rf.0ea09adcd4bc92c2a89a2ec85ea509bc.txt  \n",
            "  inflating: yolov7Data/train/labels/Image_57_jpg.rf.2de79f2280048998203cda9d68b9267a.txt  \n",
            "  inflating: __MACOSX/yolov7Data/train/labels/._Image_57_jpg.rf.2de79f2280048998203cda9d68b9267a.txt  \n",
            "  inflating: yolov7Data/train/labels/Screenshot-221-_png.rf.e225d039ac0b5c7ef95f9bfef9a76089.txt  \n",
            "  inflating: __MACOSX/yolov7Data/train/labels/._Screenshot-221-_png.rf.e225d039ac0b5c7ef95f9bfef9a76089.txt  \n",
            "  inflating: yolov7Data/train/labels/Image_124_jpg.rf.45cde9adf4c6c68ee899bf91c534b4db.txt  \n",
            "  inflating: __MACOSX/yolov7Data/train/labels/._Image_124_jpg.rf.45cde9adf4c6c68ee899bf91c534b4db.txt  \n",
            "  inflating: yolov7Data/train/labels/Screenshot-398-_png.rf.0c2ccce0835f60e65c9d389590676e29.txt  \n",
            "  inflating: __MACOSX/yolov7Data/train/labels/._Screenshot-398-_png.rf.0c2ccce0835f60e65c9d389590676e29.txt  \n",
            "  inflating: yolov7Data/train/labels/Screenshot-213-_png.rf.ac4150e9bf4fe545ffdb37792f49fc51.txt  \n",
            "  inflating: __MACOSX/yolov7Data/train/labels/._Screenshot-213-_png.rf.ac4150e9bf4fe545ffdb37792f49fc51.txt  \n",
            "  inflating: yolov7Data/train/labels/Image_136_jpg.rf.0dee75f32a85e4ac59cdbc8213bdc845.txt  \n",
            "  inflating: __MACOSX/yolov7Data/train/labels/._Image_136_jpg.rf.0dee75f32a85e4ac59cdbc8213bdc845.txt  \n",
            "  inflating: yolov7Data/train/labels/Screenshot-282-_png.rf.18be55e1a3b9f7a524e1f7bf9447f222.txt  \n",
            "  inflating: __MACOSX/yolov7Data/train/labels/._Screenshot-282-_png.rf.18be55e1a3b9f7a524e1f7bf9447f222.txt  \n",
            "  inflating: yolov7Data/train/labels/Image_132_jpg.rf.2dcbb7a2c4a99f0d06b903debec28f88.txt  \n",
            "  inflating: __MACOSX/yolov7Data/train/labels/._Image_132_jpg.rf.2dcbb7a2c4a99f0d06b903debec28f88.txt  \n",
            "  inflating: yolov7Data/train/labels/Screenshot-164-_png.rf.76ca6afac0402e1778362cc6e08d9746.txt  \n",
            "  inflating: __MACOSX/yolov7Data/train/labels/._Screenshot-164-_png.rf.76ca6afac0402e1778362cc6e08d9746.txt  \n",
            "  inflating: yolov7Data/train/labels/Image_160_jpg.rf.a6eea9a6c273a45c4cc8e8e36ecbbbf6.txt  \n",
            "  inflating: __MACOSX/yolov7Data/train/labels/._Image_160_jpg.rf.a6eea9a6c273a45c4cc8e8e36ecbbbf6.txt  \n",
            "  inflating: yolov7Data/train/labels/Image_97_jpg.rf.2a2ae46ce600964c6ff4041af75c3d4a.txt  \n",
            "  inflating: __MACOSX/yolov7Data/train/labels/._Image_97_jpg.rf.2a2ae46ce600964c6ff4041af75c3d4a.txt  \n",
            "  inflating: yolov7Data/train/labels/Image_134_jpg.rf.35d21aa0badea25ef1ee9993c555c2be.txt  \n",
            "  inflating: __MACOSX/yolov7Data/train/labels/._Image_134_jpg.rf.35d21aa0badea25ef1ee9993c555c2be.txt  \n",
            "  inflating: yolov7Data/train/labels/Image_60_jpg.rf.2e924fd759b125c62dff8778adfdc879.txt  \n",
            "  inflating: __MACOSX/yolov7Data/train/labels/._Image_60_jpg.rf.2e924fd759b125c62dff8778adfdc879.txt  \n",
            "  inflating: yolov7Data/train/labels/Image_60_jpg.rf.298a0e1805a3956d0dc016e0398ac3ff.txt  \n",
            "  inflating: __MACOSX/yolov7Data/train/labels/._Image_60_jpg.rf.298a0e1805a3956d0dc016e0398ac3ff.txt  \n",
            "  inflating: yolov7Data/train/labels/Screenshot-23-_png.rf.ffa4214b092cbbb7d073b54468e4aea5.txt  \n",
            "  inflating: __MACOSX/yolov7Data/train/labels/._Screenshot-23-_png.rf.ffa4214b092cbbb7d073b54468e4aea5.txt  \n",
            "  inflating: yolov7Data/train/labels/Image_15_jpg.rf.e8be47364fb167f849103b1c13848a5b.txt  \n",
            "  inflating: __MACOSX/yolov7Data/train/labels/._Image_15_jpg.rf.e8be47364fb167f849103b1c13848a5b.txt  \n",
            "  inflating: yolov7Data/train/labels/Screenshot-194-_png.rf.600b283443b0ebc4a102957143194a4b.txt  \n",
            "  inflating: __MACOSX/yolov7Data/train/labels/._Screenshot-194-_png.rf.600b283443b0ebc4a102957143194a4b.txt  \n",
            "  inflating: yolov7Data/train/labels/Image_177_jpg.rf.073c0385ac5c8c670d58c45c25090ede.txt  \n",
            "  inflating: __MACOSX/yolov7Data/train/labels/._Image_177_jpg.rf.073c0385ac5c8c670d58c45c25090ede.txt  \n",
            "  inflating: yolov7Data/train/labels/Image_66_jpg.rf.52d55cec75c31c451fd5cb5878af53a8.txt  \n",
            "  inflating: __MACOSX/yolov7Data/train/labels/._Image_66_jpg.rf.52d55cec75c31c451fd5cb5878af53a8.txt  \n",
            "  inflating: yolov7Data/train/labels/Image_114_jpg.rf.e63a2543822054d50dc26fe24a6642ec.txt  \n",
            "  inflating: __MACOSX/yolov7Data/train/labels/._Image_114_jpg.rf.e63a2543822054d50dc26fe24a6642ec.txt  \n",
            "  inflating: yolov7Data/train/labels/Image_128_JPG.rf.ab6f2cd894cc295a7dd6501297331616.txt  \n",
            "  inflating: __MACOSX/yolov7Data/train/labels/._Image_128_JPG.rf.ab6f2cd894cc295a7dd6501297331616.txt  \n",
            "  inflating: yolov7Data/train/labels/Image_61_jpg.rf.d03a017239852fe2eeb5052634adc334.txt  \n",
            "  inflating: __MACOSX/yolov7Data/train/labels/._Image_61_jpg.rf.d03a017239852fe2eeb5052634adc334.txt  \n",
            "  inflating: yolov7Data/train/labels/Image_130_JPG.rf.e1d50ead6e152c713f73bf81bb6c13b4.txt  \n",
            "  inflating: __MACOSX/yolov7Data/train/labels/._Image_130_JPG.rf.e1d50ead6e152c713f73bf81bb6c13b4.txt  \n",
            "  inflating: yolov7Data/train/labels/Image_141_jpg.rf.2d01c3da80301a57b65c20ac0189c3ef.txt  \n",
            "  inflating: __MACOSX/yolov7Data/train/labels/._Image_141_jpg.rf.2d01c3da80301a57b65c20ac0189c3ef.txt  \n",
            "  inflating: yolov7Data/train/labels/Screenshot-428-_png.rf.e1b130de1cc3fd335cf64d54e7ff0abf.txt  \n",
            "  inflating: __MACOSX/yolov7Data/train/labels/._Screenshot-428-_png.rf.e1b130de1cc3fd335cf64d54e7ff0abf.txt  \n",
            "  inflating: yolov7Data/train/labels/Image_133_jpg.rf.9d9ebd0ac897dad736ebede97bcbb301.txt  \n",
            "  inflating: __MACOSX/yolov7Data/train/labels/._Image_133_jpg.rf.9d9ebd0ac897dad736ebede97bcbb301.txt  \n",
            "  inflating: yolov7Data/train/labels/Image_130_jpg.rf.a4fc6e63de5b6d6d545ae75100857c23.txt  \n",
            "  inflating: __MACOSX/yolov7Data/train/labels/._Image_130_jpg.rf.a4fc6e63de5b6d6d545ae75100857c23.txt  \n",
            "  inflating: yolov7Data/train/labels/Image_50_jpg.rf.26ca8d628382e5bc420e4830952e455c.txt  \n",
            "  inflating: __MACOSX/yolov7Data/train/labels/._Image_50_jpg.rf.26ca8d628382e5bc420e4830952e455c.txt  \n",
            "  inflating: yolov7Data/train/labels/Image_199_jpg.rf.d12f52658768e6db8c1c31f3ce431535.txt  \n",
            "  inflating: __MACOSX/yolov7Data/train/labels/._Image_199_jpg.rf.d12f52658768e6db8c1c31f3ce431535.txt  \n",
            "  inflating: yolov7Data/train/labels/Image_43_jpg.rf.df13d3ba4f717ba5848e73b4f94b1648.txt  \n",
            "  inflating: __MACOSX/yolov7Data/train/labels/._Image_43_jpg.rf.df13d3ba4f717ba5848e73b4f94b1648.txt  \n",
            "  inflating: yolov7Data/train/labels/Screenshot-346-_png.rf.fce9155ad2683be3a47e71d2de68d08b.txt  \n",
            "  inflating: __MACOSX/yolov7Data/train/labels/._Screenshot-346-_png.rf.fce9155ad2683be3a47e71d2de68d08b.txt  \n",
            "  inflating: yolov7Data/train/labels/Image_128_jpg.rf.a17126bcf1776c70d4fabdaacada95bc.txt  \n",
            "  inflating: __MACOSX/yolov7Data/train/labels/._Image_128_jpg.rf.a17126bcf1776c70d4fabdaacada95bc.txt  \n",
            "  inflating: yolov7Data/train/labels/Image_125_jpg.rf.d0a65dbb0c1eac4b90744f92301a5ed3.txt  \n",
            "  inflating: __MACOSX/yolov7Data/train/labels/._Image_125_jpg.rf.d0a65dbb0c1eac4b90744f92301a5ed3.txt  \n",
            "  inflating: yolov7Data/train/labels/Screenshot-35-_png.rf.3e263b2e936d93b257d6186941f64354.txt  \n",
            "  inflating: __MACOSX/yolov7Data/train/labels/._Screenshot-35-_png.rf.3e263b2e936d93b257d6186941f64354.txt  \n",
            "  inflating: yolov7Data/train/labels/Screenshot-434-_png.rf.1a91385f5577a2538ce73d2065c93890.txt  \n",
            "  inflating: __MACOSX/yolov7Data/train/labels/._Screenshot-434-_png.rf.1a91385f5577a2538ce73d2065c93890.txt  \n",
            "  inflating: yolov7Data/train/labels/Screenshot-166-_png.rf.a185a3ff63bda52e6729b94aefe3cf86.txt  \n",
            "  inflating: __MACOSX/yolov7Data/train/labels/._Screenshot-166-_png.rf.a185a3ff63bda52e6729b94aefe3cf86.txt  \n",
            "  inflating: yolov7Data/train/labels/Image_45_jpg.rf.f3ea0f7d05fc9a3d5b72e21c32acf78a.txt  \n",
            "  inflating: __MACOSX/yolov7Data/train/labels/._Image_45_jpg.rf.f3ea0f7d05fc9a3d5b72e21c32acf78a.txt  \n",
            "  inflating: yolov7Data/train/labels/Screenshot-304-_png.rf.b3dfb80360c18fe07d024a0868a7c3ed.txt  \n",
            "  inflating: __MACOSX/yolov7Data/train/labels/._Screenshot-304-_png.rf.b3dfb80360c18fe07d024a0868a7c3ed.txt  \n",
            "  inflating: yolov7Data/train/labels/Image_71_jpg.rf.42d4a35df77ef86328e833c538a42da9.txt  \n",
            "  inflating: __MACOSX/yolov7Data/train/labels/._Image_71_jpg.rf.42d4a35df77ef86328e833c538a42da9.txt  \n",
            "  inflating: yolov7Data/train/labels/Image_107_jpg.rf.1a1961dfc83635d553946eb0c1da1bce.txt  \n",
            "  inflating: __MACOSX/yolov7Data/train/labels/._Image_107_jpg.rf.1a1961dfc83635d553946eb0c1da1bce.txt  \n",
            "  inflating: yolov7Data/train/labels/Image_37_jpg.rf.f0bad579ce3388cb7831b34cedff9a6b.txt  \n",
            "  inflating: __MACOSX/yolov7Data/train/labels/._Image_37_jpg.rf.f0bad579ce3388cb7831b34cedff9a6b.txt  \n",
            "  inflating: yolov7Data/train/labels/Screenshot-439-_png.rf.8dcae263766da81c0cf682ea28f02cb6.txt  \n",
            "  inflating: __MACOSX/yolov7Data/train/labels/._Screenshot-439-_png.rf.8dcae263766da81c0cf682ea28f02cb6.txt  \n",
            "  inflating: yolov7Data/train/labels/Image_120_jpg.rf.4be9b6104f44aa2184443819566ed9de.txt  \n",
            "  inflating: __MACOSX/yolov7Data/train/labels/._Image_120_jpg.rf.4be9b6104f44aa2184443819566ed9de.txt  \n",
            "  inflating: yolov7Data/train/labels/Image_2_jpg.rf.1512e14ca911d4d93ed0115d61bf6b27.txt  \n",
            "  inflating: __MACOSX/yolov7Data/train/labels/._Image_2_jpg.rf.1512e14ca911d4d93ed0115d61bf6b27.txt  \n",
            "  inflating: yolov7Data/train/labels/Screenshot-261-_png.rf.d885964b6f0a9ce7e7fde62d66938422.txt  \n",
            "  inflating: __MACOSX/yolov7Data/train/labels/._Screenshot-261-_png.rf.d885964b6f0a9ce7e7fde62d66938422.txt  \n",
            "  inflating: yolov7Data/train/labels/Screenshot-384-_png.rf.83395cfb5e44a586e682e567bfafabd8.txt  \n",
            "  inflating: __MACOSX/yolov7Data/train/labels/._Screenshot-384-_png.rf.83395cfb5e44a586e682e567bfafabd8.txt  \n",
            "  inflating: yolov7Data/train/labels/Screenshot-16-_png.rf.b61305d71c9d168263c561a622c7f8dc.txt  \n",
            "  inflating: __MACOSX/yolov7Data/train/labels/._Screenshot-16-_png.rf.b61305d71c9d168263c561a622c7f8dc.txt  \n",
            "  inflating: yolov7Data/train/labels/Image_24_jpg.rf.c276d1e04c3e6e1f10bced34e54af7e3.txt  \n",
            "  inflating: __MACOSX/yolov7Data/train/labels/._Image_24_jpg.rf.c276d1e04c3e6e1f10bced34e54af7e3.txt  \n",
            "  inflating: yolov7Data/train/labels/Screenshot-230-_png.rf.6c964191fd066beadeedc5839b9d6ab7.txt  \n",
            "  inflating: __MACOSX/yolov7Data/train/labels/._Screenshot-230-_png.rf.6c964191fd066beadeedc5839b9d6ab7.txt  \n",
            "  inflating: yolov7Data/train/labels/Image_173_jpg.rf.174a21b8d7a523648e573fd6f1a1a412.txt  \n",
            "  inflating: __MACOSX/yolov7Data/train/labels/._Image_173_jpg.rf.174a21b8d7a523648e573fd6f1a1a412.txt  \n",
            "  inflating: yolov7Data/train/labels/Image_189_jpg.rf.f9ecfe26d0338124a603a9c1ec83713d.txt  \n",
            "  inflating: __MACOSX/yolov7Data/train/labels/._Image_189_jpg.rf.f9ecfe26d0338124a603a9c1ec83713d.txt  \n",
            "  inflating: yolov7Data/train/labels/Screenshot-190-_png.rf.b77ebdb6f13486e0ec9043896a415cb9.txt  \n",
            "  inflating: __MACOSX/yolov7Data/train/labels/._Screenshot-190-_png.rf.b77ebdb6f13486e0ec9043896a415cb9.txt  \n",
            "  inflating: yolov7Data/train/labels/Image_80_jpg.rf.0b53abcf680944b8ae0fa55de23fb55e.txt  \n",
            "  inflating: __MACOSX/yolov7Data/train/labels/._Image_80_jpg.rf.0b53abcf680944b8ae0fa55de23fb55e.txt  \n",
            "  inflating: yolov7Data/train/labels/Image_2_jpg.rf.78c7c0f5135b42b6b8b05f0a3fc899c1.txt  \n",
            "  inflating: __MACOSX/yolov7Data/train/labels/._Image_2_jpg.rf.78c7c0f5135b42b6b8b05f0a3fc899c1.txt  \n",
            "  inflating: yolov7Data/train/labels/Image_61_jpg.rf.868ecac22db3061619139070df1ae72e.txt  \n",
            "  inflating: __MACOSX/yolov7Data/train/labels/._Image_61_jpg.rf.868ecac22db3061619139070df1ae72e.txt  \n",
            "  inflating: yolov7Data/train/labels/Image_17_jpg.rf.a54b348dd851221746247fd57633513a.txt  \n",
            "  inflating: __MACOSX/yolov7Data/train/labels/._Image_17_jpg.rf.a54b348dd851221746247fd57633513a.txt  \n",
            "  inflating: yolov7Data/train/labels/Screenshot-233-_png.rf.250591a4c820e184b77274475d18a7f0.txt  \n",
            "  inflating: __MACOSX/yolov7Data/train/labels/._Screenshot-233-_png.rf.250591a4c820e184b77274475d18a7f0.txt  \n",
            "  inflating: yolov7Data/train/labels/Image_145_jpg.rf.203578a25814e2a50b013aba5cec27de.txt  \n",
            "  inflating: __MACOSX/yolov7Data/train/labels/._Image_145_jpg.rf.203578a25814e2a50b013aba5cec27de.txt  \n",
            "  inflating: yolov7Data/train/labels/Screenshot-91-_png.rf.22a51fbe0a6ed4c1adb71041359f2590.txt  \n",
            "  inflating: __MACOSX/yolov7Data/train/labels/._Screenshot-91-_png.rf.22a51fbe0a6ed4c1adb71041359f2590.txt  \n",
            "  inflating: yolov7Data/train/labels/Image_174_jpg.rf.51f2c5341b44ab7ce45eb7d1edbafd9b.txt  \n",
            "  inflating: __MACOSX/yolov7Data/train/labels/._Image_174_jpg.rf.51f2c5341b44ab7ce45eb7d1edbafd9b.txt  \n",
            "  inflating: yolov7Data/train/labels/Screenshot-63-_png.rf.3b1c291f1f8389dc6eaaa179405fa07b.txt  \n",
            "  inflating: __MACOSX/yolov7Data/train/labels/._Screenshot-63-_png.rf.3b1c291f1f8389dc6eaaa179405fa07b.txt  \n",
            "  inflating: yolov7Data/train/labels/Image_131_jpg.rf.2a8de39e370c6c2650e4c76cad168eb0.txt  \n",
            "  inflating: __MACOSX/yolov7Data/train/labels/._Image_131_jpg.rf.2a8de39e370c6c2650e4c76cad168eb0.txt  \n",
            "  inflating: yolov7Data/train/labels/Image_172_jpg.rf.838413fa9a6c9a14f848fcfd3d18fd36.txt  \n",
            "  inflating: __MACOSX/yolov7Data/train/labels/._Image_172_jpg.rf.838413fa9a6c9a14f848fcfd3d18fd36.txt  \n",
            "  inflating: yolov7Data/train/labels/Screenshot-217-_png.rf.f24215cdd0634e4b36802313fd3f7677.txt  \n",
            "  inflating: __MACOSX/yolov7Data/train/labels/._Screenshot-217-_png.rf.f24215cdd0634e4b36802313fd3f7677.txt  \n",
            "  inflating: yolov7Data/train/labels/Image_16_jpg.rf.e548b96372ea5922bf1d5e703b4a549c.txt  \n",
            "  inflating: __MACOSX/yolov7Data/train/labels/._Image_16_jpg.rf.e548b96372ea5922bf1d5e703b4a549c.txt  \n",
            "  inflating: yolov7Data/train/labels/Screenshot-456-_png.rf.cfd131636e57e25efcc8a925443ec7ff.txt  \n",
            "  inflating: __MACOSX/yolov7Data/train/labels/._Screenshot-456-_png.rf.cfd131636e57e25efcc8a925443ec7ff.txt  \n",
            "  inflating: yolov7Data/train/labels/Image_129_JPG.rf.aa71a9b4a5508318979e688352c55a18.txt  \n",
            "  inflating: __MACOSX/yolov7Data/train/labels/._Image_129_JPG.rf.aa71a9b4a5508318979e688352c55a18.txt  \n",
            "  inflating: yolov7Data/train/labels/Image_91_jpg.rf.e0a7462ad704232b14b6467bb3e249a8.txt  \n",
            "  inflating: __MACOSX/yolov7Data/train/labels/._Image_91_jpg.rf.e0a7462ad704232b14b6467bb3e249a8.txt  \n",
            "  inflating: yolov7Data/train/labels/Image_143_jpg.rf.1e5e0993aa0c0aef427147b6bbcabc53.txt  \n",
            "  inflating: __MACOSX/yolov7Data/train/labels/._Image_143_jpg.rf.1e5e0993aa0c0aef427147b6bbcabc53.txt  \n",
            "  inflating: yolov7Data/train/labels/Screenshot-235-_png.rf.ccc8c980c3d15d32bb0447137372f602.txt  \n",
            "  inflating: __MACOSX/yolov7Data/train/labels/._Screenshot-235-_png.rf.ccc8c980c3d15d32bb0447137372f602.txt  \n",
            "  inflating: yolov7Data/train/labels/Screenshot-183-_png.rf.7282b7220d8941dd98165c642b86f7e7.txt  \n",
            "  inflating: __MACOSX/yolov7Data/train/labels/._Screenshot-183-_png.rf.7282b7220d8941dd98165c642b86f7e7.txt  \n",
            "  inflating: yolov7Data/train/labels/Image_181_jpg.rf.8138881013c43a5755000fd9f729a465.txt  \n",
            "  inflating: __MACOSX/yolov7Data/train/labels/._Image_181_jpg.rf.8138881013c43a5755000fd9f729a465.txt  \n",
            "  inflating: yolov7Data/train/labels/Screenshot-122-_png.rf.dcb15e8f58fd0ea866da98c4a3a8e5c4.txt  \n",
            "  inflating: __MACOSX/yolov7Data/train/labels/._Screenshot-122-_png.rf.dcb15e8f58fd0ea866da98c4a3a8e5c4.txt  \n",
            "  inflating: yolov7Data/train/labels/Screenshot-79-_png.rf.b46dc345845961e19d66c1ade5e62cef.txt  \n",
            "  inflating: __MACOSX/yolov7Data/train/labels/._Screenshot-79-_png.rf.b46dc345845961e19d66c1ade5e62cef.txt  \n",
            "  inflating: yolov7Data/train/labels/Image_12_jpg.rf.1cef1b27efae2028773a8761ad4ffa6d.txt  \n",
            "  inflating: __MACOSX/yolov7Data/train/labels/._Image_12_jpg.rf.1cef1b27efae2028773a8761ad4ffa6d.txt  \n",
            "  inflating: yolov7Data/train/labels/Screenshot-419-_png.rf.21e606faf966acc7fa4bf7d2e4cdb81f.txt  \n",
            "  inflating: __MACOSX/yolov7Data/train/labels/._Screenshot-419-_png.rf.21e606faf966acc7fa4bf7d2e4cdb81f.txt  \n",
            "  inflating: yolov7Data/train/labels/Screenshot-437-_png.rf.09c6fca895c98baae7f3de5bbce7e781.txt  \n",
            "  inflating: __MACOSX/yolov7Data/train/labels/._Screenshot-437-_png.rf.09c6fca895c98baae7f3de5bbce7e781.txt  \n",
            "  inflating: yolov7Data/train/labels/Image_55_jpg.rf.baab4dd1dde8878eb737e9f6de985a84.txt  \n",
            "  inflating: __MACOSX/yolov7Data/train/labels/._Image_55_jpg.rf.baab4dd1dde8878eb737e9f6de985a84.txt  \n",
            "  inflating: yolov7Data/train/labels/Screenshot-313-_png.rf.c719cdf6cf2ce59dc0865558b4a36a59.txt  \n",
            "  inflating: __MACOSX/yolov7Data/train/labels/._Screenshot-313-_png.rf.c719cdf6cf2ce59dc0865558b4a36a59.txt  \n",
            "  inflating: yolov7Data/train/labels/Image_55_jpg.rf.5b904003e1d7a79a341d377ebb934b30.txt  \n",
            "  inflating: __MACOSX/yolov7Data/train/labels/._Image_55_jpg.rf.5b904003e1d7a79a341d377ebb934b30.txt  \n",
            "  inflating: yolov7Data/train/labels/Image_106_jpg.rf.0f74918bef9a2f4a842d55c73a1353e5.txt  \n",
            "  inflating: __MACOSX/yolov7Data/train/labels/._Image_106_jpg.rf.0f74918bef9a2f4a842d55c73a1353e5.txt  \n",
            "  inflating: yolov7Data/train/labels/Screenshot-335-_png.rf.bb7f8520c50126620f31dc43341eef01.txt  \n",
            "  inflating: __MACOSX/yolov7Data/train/labels/._Screenshot-335-_png.rf.bb7f8520c50126620f31dc43341eef01.txt  \n",
            "  inflating: yolov7Data/train/labels/Screenshot-248-_png.rf.57d6cc1e06018f71a0bc449deb2c5f99.txt  \n",
            "  inflating: __MACOSX/yolov7Data/train/labels/._Screenshot-248-_png.rf.57d6cc1e06018f71a0bc449deb2c5f99.txt  \n",
            "  inflating: yolov7Data/train/labels/Screenshot-56-_png.rf.ed9d6ddacab1e2bd018428af6bce970f.txt  \n",
            "  inflating: __MACOSX/yolov7Data/train/labels/._Screenshot-56-_png.rf.ed9d6ddacab1e2bd018428af6bce970f.txt  \n",
            "  inflating: yolov7Data/train/labels/Image_107_jpg.rf.acbf417267d005b534c238eced3e20f2.txt  \n",
            "  inflating: __MACOSX/yolov7Data/train/labels/._Image_107_jpg.rf.acbf417267d005b534c238eced3e20f2.txt  \n",
            "  inflating: yolov7Data/train/labels/Screenshot-432-_png.rf.8a787d4741c155a9802148b125b8ce42.txt  \n",
            "  inflating: __MACOSX/yolov7Data/train/labels/._Screenshot-432-_png.rf.8a787d4741c155a9802148b125b8ce42.txt  \n",
            "  inflating: yolov7Data/train/labels/Screenshot-149-_png.rf.2d5ee0e8e3a2b1ba157270b006e1e848.txt  \n",
            "  inflating: __MACOSX/yolov7Data/train/labels/._Screenshot-149-_png.rf.2d5ee0e8e3a2b1ba157270b006e1e848.txt  \n",
            "  inflating: yolov7Data/train/labels/Image_48_jpg.rf.2a2a69d9af04ca48d8297cc82657236f.txt  \n",
            "  inflating: __MACOSX/yolov7Data/train/labels/._Image_48_jpg.rf.2a2a69d9af04ca48d8297cc82657236f.txt  \n",
            "  inflating: yolov7Data/train/labels/Screenshot-378-_png.rf.68df822b69c344af2e3af531a50e6b77.txt  \n",
            "  inflating: __MACOSX/yolov7Data/train/labels/._Screenshot-378-_png.rf.68df822b69c344af2e3af531a50e6b77.txt  \n",
            "  inflating: yolov7Data/train/labels/Screenshot-229-_png.rf.76dca2a362d224cfc1ab027126c52eff.txt  \n",
            "  inflating: __MACOSX/yolov7Data/train/labels/._Screenshot-229-_png.rf.76dca2a362d224cfc1ab027126c52eff.txt  \n",
            "  inflating: yolov7Data/train/labels/Image_154_jpg.rf.84b41291246fd74dce7a689537c2f77d.txt  \n",
            "  inflating: __MACOSX/yolov7Data/train/labels/._Image_154_jpg.rf.84b41291246fd74dce7a689537c2f77d.txt  \n",
            "  inflating: yolov7Data/train/labels/Screenshot-450-_png.rf.5d532331358355453f00a2b06422a08f.txt  \n",
            "  inflating: __MACOSX/yolov7Data/train/labels/._Screenshot-450-_png.rf.5d532331358355453f00a2b06422a08f.txt  \n",
            "  inflating: yolov7Data/train/labels/Screenshot-326-_png.rf.00d2d9d3870c5340e824a12436439836.txt  \n",
            "  inflating: __MACOSX/yolov7Data/train/labels/._Screenshot-326-_png.rf.00d2d9d3870c5340e824a12436439836.txt  \n",
            "  inflating: yolov7Data/train/labels/Screenshot-184-_png.rf.a33a3ae220d358301377399c3d44e0a3.txt  \n",
            "  inflating: __MACOSX/yolov7Data/train/labels/._Screenshot-184-_png.rf.a33a3ae220d358301377399c3d44e0a3.txt  \n",
            "  inflating: yolov7Data/train/labels/Image_1_jpg.rf.853748a22fc0af25866241993a4d8d02.txt  \n",
            "  inflating: __MACOSX/yolov7Data/train/labels/._Image_1_jpg.rf.853748a22fc0af25866241993a4d8d02.txt  \n",
            "  inflating: yolov7Data/train/labels/Screenshot-349-_png.rf.47df3f92e2eb1a1be3d6b81da70fc932.txt  \n",
            "  inflating: __MACOSX/yolov7Data/train/labels/._Screenshot-349-_png.rf.47df3f92e2eb1a1be3d6b81da70fc932.txt  \n",
            "  inflating: yolov7Data/train/labels/Image_88_jpg.rf.13d89c384bf0c3d84683e4533917b456.txt  \n",
            "  inflating: __MACOSX/yolov7Data/train/labels/._Image_88_jpg.rf.13d89c384bf0c3d84683e4533917b456.txt  \n",
            "  inflating: yolov7Data/train/labels/Image_11_jpg.rf.49c63dbd00bec18ff3957cdd2c281671.txt  \n",
            "  inflating: __MACOSX/yolov7Data/train/labels/._Image_11_jpg.rf.49c63dbd00bec18ff3957cdd2c281671.txt  \n",
            "  inflating: yolov7Data/train/labels/Image_46_jpg.rf.80fe72ea4d53cfb30e761046bc2762bd.txt  \n",
            "  inflating: __MACOSX/yolov7Data/train/labels/._Image_46_jpg.rf.80fe72ea4d53cfb30e761046bc2762bd.txt  \n",
            "  inflating: yolov7Data/train/labels/Image_156_JPG.rf.5dc7f9e6ff36713954169a8896ff10bb.txt  \n",
            "  inflating: __MACOSX/yolov7Data/train/labels/._Image_156_JPG.rf.5dc7f9e6ff36713954169a8896ff10bb.txt  \n",
            "  inflating: yolov7Data/train/labels/Screenshot-132-_png.rf.8ed5cf0e7472047cc5a50d04b2ca1e0b.txt  \n",
            "  inflating: __MACOSX/yolov7Data/train/labels/._Screenshot-132-_png.rf.8ed5cf0e7472047cc5a50d04b2ca1e0b.txt  \n",
            "  inflating: yolov7Data/train/labels/Screenshot-228-_png.rf.6fd272245a1f7ffc8b2b44130ecf9814.txt  \n",
            "  inflating: __MACOSX/yolov7Data/train/labels/._Screenshot-228-_png.rf.6fd272245a1f7ffc8b2b44130ecf9814.txt  \n",
            "  inflating: yolov7Data/train/labels/Screenshot-205-_png.rf.3738c4d0d83aa86396ca94c4f486ac2b.txt  \n",
            "  inflating: __MACOSX/yolov7Data/train/labels/._Screenshot-205-_png.rf.3738c4d0d83aa86396ca94c4f486ac2b.txt  \n",
            "  inflating: yolov7Data/train/labels/Image_135_jpg.rf.5ba955f971af0fbf4b7a6902c1a46f39.txt  \n",
            "  inflating: __MACOSX/yolov7Data/train/labels/._Image_135_jpg.rf.5ba955f971af0fbf4b7a6902c1a46f39.txt  \n",
            "  inflating: yolov7Data/train/labels/Image_132_jpg.rf.493e348e86d1381c96d5017006bea397.txt  \n",
            "  inflating: __MACOSX/yolov7Data/train/labels/._Image_132_jpg.rf.493e348e86d1381c96d5017006bea397.txt  \n",
            "  inflating: yolov7Data/train/labels/Screenshot-30-_png.rf.775b02c75d9500e068900e079a106339.txt  \n",
            "  inflating: __MACOSX/yolov7Data/train/labels/._Screenshot-30-_png.rf.775b02c75d9500e068900e079a106339.txt  \n",
            "  inflating: yolov7Data/train/labels/Screenshot-239-_png.rf.01ad297af4546c304093da7d02edb1c4.txt  \n",
            "  inflating: __MACOSX/yolov7Data/train/labels/._Screenshot-239-_png.rf.01ad297af4546c304093da7d02edb1c4.txt  \n",
            "  inflating: yolov7Data/train/labels/Screenshot-153-_png.rf.8efbc83814b70260d0adeb38a9ec28d9.txt  \n",
            "  inflating: __MACOSX/yolov7Data/train/labels/._Screenshot-153-_png.rf.8efbc83814b70260d0adeb38a9ec28d9.txt  \n",
            "  inflating: yolov7Data/train/labels/Image_157_JPG.rf.d4aa96eaebe3eb7f418b3dd0053934b6.txt  \n",
            "  inflating: __MACOSX/yolov7Data/train/labels/._Image_157_JPG.rf.d4aa96eaebe3eb7f418b3dd0053934b6.txt  \n",
            "  inflating: yolov7Data/train/labels/Image_200_JPG.rf.11e70ca858ab1fb69c982e5bdc672447.txt  \n",
            "  inflating: __MACOSX/yolov7Data/train/labels/._Image_200_JPG.rf.11e70ca858ab1fb69c982e5bdc672447.txt  \n",
            "  inflating: yolov7Data/train/labels/Screenshot-97-_png.rf.9ee10749ffe670ba1e867fa194dc241f.txt  \n",
            "  inflating: __MACOSX/yolov7Data/train/labels/._Screenshot-97-_png.rf.9ee10749ffe670ba1e867fa194dc241f.txt  \n",
            "  inflating: yolov7Data/train/labels/Image_9_jpg.rf.7f45df7146fbfbb9af6870be4e430732.txt  \n",
            "  inflating: __MACOSX/yolov7Data/train/labels/._Image_9_jpg.rf.7f45df7146fbfbb9af6870be4e430732.txt  \n",
            "  inflating: yolov7Data/train/labels/Screenshot-147-_png.rf.734ff2aac220a179398157dcca254b7c.txt  \n",
            "  inflating: __MACOSX/yolov7Data/train/labels/._Screenshot-147-_png.rf.734ff2aac220a179398157dcca254b7c.txt  \n",
            "  inflating: yolov7Data/train/labels/Screenshot-258-_png.rf.4a67027f3030e54822f5c189d506d9e1.txt  \n",
            "  inflating: __MACOSX/yolov7Data/train/labels/._Screenshot-258-_png.rf.4a67027f3030e54822f5c189d506d9e1.txt  \n",
            "  inflating: yolov7Data/train/labels/Image_73_png.rf.529bed445a0c5e1d6e8818f9568a9b83.txt  \n",
            "  inflating: __MACOSX/yolov7Data/train/labels/._Image_73_png.rf.529bed445a0c5e1d6e8818f9568a9b83.txt  \n",
            "  inflating: yolov7Data/train/labels/Image_58_jpg.rf.f9a33ac82d1f19263a8a7ea99b7feff1.txt  \n",
            "  inflating: __MACOSX/yolov7Data/train/labels/._Image_58_jpg.rf.f9a33ac82d1f19263a8a7ea99b7feff1.txt  \n",
            "  inflating: yolov7Data/train/labels/Screenshot-373-_png.rf.11a7ce10b152ad68f025b90c302e73ad.txt  \n",
            "  inflating: __MACOSX/yolov7Data/train/labels/._Screenshot-373-_png.rf.11a7ce10b152ad68f025b90c302e73ad.txt  \n",
            "  inflating: yolov7Data/train/labels/Image_44_jpg.rf.86410e0da87bc3277cf00d8ad9663352.txt  \n",
            "  inflating: __MACOSX/yolov7Data/train/labels/._Image_44_jpg.rf.86410e0da87bc3277cf00d8ad9663352.txt  \n",
            "  inflating: yolov7Data/train/labels/Image_136_jpg.rf.e86c64cbf567c4929261186b98a5ac55.txt  \n",
            "  inflating: __MACOSX/yolov7Data/train/labels/._Image_136_jpg.rf.e86c64cbf567c4929261186b98a5ac55.txt  \n",
            "  inflating: yolov7Data/train/labels/Screenshot-324-_png.rf.fe9a83eef0c061f5b5d5be45222e30cf.txt  \n",
            "  inflating: __MACOSX/yolov7Data/train/labels/._Screenshot-324-_png.rf.fe9a83eef0c061f5b5d5be45222e30cf.txt  \n",
            "  inflating: yolov7Data/train/labels/Image_24_jpeg.rf.18162b59d2c0afd0c38a1d207e8268f3.txt  \n",
            "  inflating: __MACOSX/yolov7Data/train/labels/._Image_24_jpeg.rf.18162b59d2c0afd0c38a1d207e8268f3.txt  \n",
            "  inflating: yolov7Data/train/labels/Image_99_jpg.rf.294f70d421c56c50b7c4baf3a7520b8d.txt  \n",
            "  inflating: __MACOSX/yolov7Data/train/labels/._Image_99_jpg.rf.294f70d421c56c50b7c4baf3a7520b8d.txt  \n",
            "  inflating: yolov7Data/train/labels/Image_153_jpg.rf.93613e5db18ae39623c4e4611ab2c1d4.txt  \n",
            "  inflating: __MACOSX/yolov7Data/train/labels/._Image_153_jpg.rf.93613e5db18ae39623c4e4611ab2c1d4.txt  \n",
            "  inflating: yolov7Data/train/labels/Screenshot-34-_png.rf.4c2201c4a9d869f12f2bf0b5a6a3d099.txt  \n",
            "  inflating: __MACOSX/yolov7Data/train/labels/._Screenshot-34-_png.rf.4c2201c4a9d869f12f2bf0b5a6a3d099.txt  \n",
            "  inflating: yolov7Data/train/labels/Image_36_jpg.rf.8e92babd5d1b152fe3a45cc9fcae795e.txt  \n",
            "  inflating: __MACOSX/yolov7Data/train/labels/._Image_36_jpg.rf.8e92babd5d1b152fe3a45cc9fcae795e.txt  \n",
            "  inflating: yolov7Data/train/labels/Screenshot-22-_png.rf.09aba0c0e1b1927f4e04039c36b7acdd.txt  \n",
            "  inflating: __MACOSX/yolov7Data/train/labels/._Screenshot-22-_png.rf.09aba0c0e1b1927f4e04039c36b7acdd.txt  \n",
            "  inflating: yolov7Data/train/labels/Image_53_jpg.rf.726aaa1effc3c4353dc238a9a0e77618.txt  \n",
            "  inflating: __MACOSX/yolov7Data/train/labels/._Image_53_jpg.rf.726aaa1effc3c4353dc238a9a0e77618.txt  \n",
            "  inflating: yolov7Data/train/labels/Screenshot-49-_png.rf.b644cd1752308c6143e84171989d85c8.txt  \n",
            "  inflating: __MACOSX/yolov7Data/train/labels/._Screenshot-49-_png.rf.b644cd1752308c6143e84171989d85c8.txt  \n",
            "  inflating: yolov7Data/train/labels/Image_70_JPG.rf.0d432d6c787cceb681050159823087a2.txt  \n",
            "  inflating: __MACOSX/yolov7Data/train/labels/._Image_70_JPG.rf.0d432d6c787cceb681050159823087a2.txt  \n",
            "  inflating: yolov7Data/train/labels/Screenshot-27-_png.rf.6fe994310c19fc0d0ac77311434360dc.txt  \n",
            "  inflating: __MACOSX/yolov7Data/train/labels/._Screenshot-27-_png.rf.6fe994310c19fc0d0ac77311434360dc.txt  \n",
            "  inflating: yolov7Data/train/labels/Image_42_JPG.rf.382937272586db95acfc771e9daf10fb.txt  \n",
            "  inflating: __MACOSX/yolov7Data/train/labels/._Image_42_JPG.rf.382937272586db95acfc771e9daf10fb.txt  \n",
            "  inflating: yolov7Data/train/labels/Image_14_jpeg.rf.56b7e53ba013cf76352398e3ba7c58d9.txt  \n",
            "  inflating: __MACOSX/yolov7Data/train/labels/._Image_14_jpeg.rf.56b7e53ba013cf76352398e3ba7c58d9.txt  \n",
            "  inflating: yolov7Data/train/labels/Image_11_jpg.rf.4726ab4220bb2a433f28502878d0d4ae.txt  \n",
            "  inflating: __MACOSX/yolov7Data/train/labels/._Image_11_jpg.rf.4726ab4220bb2a433f28502878d0d4ae.txt  \n",
            "  inflating: yolov7Data/train/labels/Screenshot-179-_png.rf.ec11c8ad929800ddc980b46198669981.txt  \n",
            "  inflating: __MACOSX/yolov7Data/train/labels/._Screenshot-179-_png.rf.ec11c8ad929800ddc980b46198669981.txt  \n",
            "  inflating: yolov7Data/train/labels/Screenshot-407-_png.rf.0f7795c821a06f50be2dc4c8d076e6aa.txt  \n",
            "  inflating: __MACOSX/yolov7Data/train/labels/._Screenshot-407-_png.rf.0f7795c821a06f50be2dc4c8d076e6aa.txt  \n",
            "  inflating: yolov7Data/train/labels/Image_5_jpg.rf.ead847fb40158e15921b59343eb1a270.txt  \n",
            "  inflating: __MACOSX/yolov7Data/train/labels/._Image_5_jpg.rf.ead847fb40158e15921b59343eb1a270.txt  \n",
            "  inflating: yolov7Data/train/labels/Image_72_png.rf.3eeeefb6de4721e2176550873aaca09f.txt  \n",
            "  inflating: __MACOSX/yolov7Data/train/labels/._Image_72_png.rf.3eeeefb6de4721e2176550873aaca09f.txt  \n",
            "  inflating: yolov7Data/train/labels/Image_95_jpg.rf.c49bb4228f163ef2d5e6e1ac90adafa4.txt  \n",
            "  inflating: __MACOSX/yolov7Data/train/labels/._Image_95_jpg.rf.c49bb4228f163ef2d5e6e1ac90adafa4.txt  \n",
            "  inflating: yolov7Data/train/labels/Image_162_jpg.rf.2ab100653b28ab8813cf90c3d1d534df.txt  \n",
            "  inflating: __MACOSX/yolov7Data/train/labels/._Image_162_jpg.rf.2ab100653b28ab8813cf90c3d1d534df.txt  \n",
            "  inflating: yolov7Data/train/labels/Image_39_jpg.rf.d568ddf6c5943a087795f71bc6132cc8.txt  \n",
            "  inflating: __MACOSX/yolov7Data/train/labels/._Image_39_jpg.rf.d568ddf6c5943a087795f71bc6132cc8.txt  \n",
            "  inflating: yolov7Data/train/labels/Image_113_jpg.rf.7e7d6e8f255da2af4867de9d2bea470e.txt  \n",
            "  inflating: __MACOSX/yolov7Data/train/labels/._Image_113_jpg.rf.7e7d6e8f255da2af4867de9d2bea470e.txt  \n",
            "  inflating: yolov7Data/train/labels/Screenshot-400-_png.rf.4a2c65499ce83343429d099b4f03658b.txt  \n",
            "  inflating: __MACOSX/yolov7Data/train/labels/._Screenshot-400-_png.rf.4a2c65499ce83343429d099b4f03658b.txt  \n",
            "  inflating: yolov7Data/train/labels/Screenshot-444-_png.rf.aeaae157db4723edcc27885fd81c05f0.txt  \n",
            "  inflating: __MACOSX/yolov7Data/train/labels/._Screenshot-444-_png.rf.aeaae157db4723edcc27885fd81c05f0.txt  \n",
            "  inflating: yolov7Data/train/labels/Screenshot-377-_png.rf.1d66d80663bf67392921d8f69c4f168a.txt  \n",
            "  inflating: __MACOSX/yolov7Data/train/labels/._Screenshot-377-_png.rf.1d66d80663bf67392921d8f69c4f168a.txt  \n",
            "  inflating: yolov7Data/train/labels/Image_28_png.rf.4f9e3fa4b1d8af94560958b63a9bb298.txt  \n",
            "  inflating: __MACOSX/yolov7Data/train/labels/._Image_28_png.rf.4f9e3fa4b1d8af94560958b63a9bb298.txt  \n",
            "  inflating: yolov7Data/train/labels/Screenshot-352-_png.rf.eefb990fca0e472a4ea9d928b0440e68.txt  \n",
            "  inflating: __MACOSX/yolov7Data/train/labels/._Screenshot-352-_png.rf.eefb990fca0e472a4ea9d928b0440e68.txt  \n",
            "  inflating: yolov7Data/train/labels/Image_47_JPG.rf.35e870aedd4ef468d6f430d5dff73543.txt  \n",
            "  inflating: __MACOSX/yolov7Data/train/labels/._Image_47_JPG.rf.35e870aedd4ef468d6f430d5dff73543.txt  \n",
            "  inflating: yolov7Data/train/labels/Screenshot-362-_png.rf.112059c75814203feb86629b559edd8b.txt  \n",
            "  inflating: __MACOSX/yolov7Data/train/labels/._Screenshot-362-_png.rf.112059c75814203feb86629b559edd8b.txt  \n",
            "  inflating: yolov7Data/train/labels/Image_161_jpg.rf.4831e84689de8c36b88395dab1dec6df.txt  \n",
            "  inflating: __MACOSX/yolov7Data/train/labels/._Image_161_jpg.rf.4831e84689de8c36b88395dab1dec6df.txt  \n",
            "  inflating: yolov7Data/train/labels/Image_15_jpg.rf.f9b171e751b6c83c9e726411b957ec2b.txt  \n",
            "  inflating: __MACOSX/yolov7Data/train/labels/._Image_15_jpg.rf.f9b171e751b6c83c9e726411b957ec2b.txt  \n",
            "  inflating: yolov7Data/train/labels/Image_152_jpg.rf.8295d845bccb952ee92af35df9794e68.txt  \n",
            "  inflating: __MACOSX/yolov7Data/train/labels/._Image_152_jpg.rf.8295d845bccb952ee92af35df9794e68.txt  \n",
            "  inflating: yolov7Data/train/labels/Screenshot-182-_png.rf.4deba91af589f34bd650ddfadbfd1772.txt  \n",
            "  inflating: __MACOSX/yolov7Data/train/labels/._Screenshot-182-_png.rf.4deba91af589f34bd650ddfadbfd1772.txt  \n",
            "  inflating: yolov7Data/train/labels/Screenshot-331-_png.rf.7a0271efac2aba8aa1432a281be6372e.txt  \n",
            "  inflating: __MACOSX/yolov7Data/train/labels/._Screenshot-331-_png.rf.7a0271efac2aba8aa1432a281be6372e.txt  \n",
            "  inflating: yolov7Data/train/labels/Screenshot-369-_png.rf.b572cfed89fa40ecd39edbb6ce6a2e70.txt  \n",
            "  inflating: __MACOSX/yolov7Data/train/labels/._Screenshot-369-_png.rf.b572cfed89fa40ecd39edbb6ce6a2e70.txt  \n",
            "  inflating: yolov7Data/train/labels/Image_155_jpg.rf.5dd8cffc97036949cafed44559a694d6.txt  \n",
            "  inflating: __MACOSX/yolov7Data/train/labels/._Image_155_jpg.rf.5dd8cffc97036949cafed44559a694d6.txt  \n",
            "  inflating: yolov7Data/train/labels/Screenshot-286-_png.rf.a138ca29eba5fcd5523f22ec1ada6888.txt  \n",
            "  inflating: __MACOSX/yolov7Data/train/labels/._Screenshot-286-_png.rf.a138ca29eba5fcd5523f22ec1ada6888.txt  \n",
            "  inflating: yolov7Data/train/labels/Screenshot-36-_png.rf.1b22fb25fdd4c684a8c0c2a30cc269a1.txt  \n",
            "  inflating: __MACOSX/yolov7Data/train/labels/._Screenshot-36-_png.rf.1b22fb25fdd4c684a8c0c2a30cc269a1.txt  \n",
            "  inflating: yolov7Data/train/labels/Screenshot-81-_png.rf.8ab6331a8e71845309a456cebb9b33d6.txt  \n",
            "  inflating: __MACOSX/yolov7Data/train/labels/._Screenshot-81-_png.rf.8ab6331a8e71845309a456cebb9b33d6.txt  \n",
            "  inflating: yolov7Data/train/labels/Image_34_jpg.rf.7ab6308378327b30624d946df059b4d5.txt  \n",
            "  inflating: __MACOSX/yolov7Data/train/labels/._Image_34_jpg.rf.7ab6308378327b30624d946df059b4d5.txt  \n"
          ]
        }
      ]
    },
    {
      "cell_type": "code",
      "source": [
        "!pip install ultralytics"
      ],
      "metadata": {
        "id": "tylFMtRiP_ye",
        "colab": {
          "base_uri": "https://localhost:8080/"
        },
        "outputId": "a6b9cb92-c764-48b6-da1a-7151f9934f58"
      },
      "execution_count": 4,
      "outputs": [
        {
          "output_type": "stream",
          "name": "stdout",
          "text": [
            "Collecting ultralytics\n",
            "  Downloading ultralytics-8.2.99-py3-none-any.whl.metadata (39 kB)\n",
            "Requirement already satisfied: numpy<2.0.0,>=1.23.0 in /usr/local/lib/python3.10/dist-packages (from ultralytics) (1.26.4)\n",
            "Requirement already satisfied: matplotlib>=3.3.0 in /usr/local/lib/python3.10/dist-packages (from ultralytics) (3.7.1)\n",
            "Requirement already satisfied: opencv-python>=4.6.0 in /usr/local/lib/python3.10/dist-packages (from ultralytics) (4.10.0.84)\n",
            "Requirement already satisfied: pillow>=7.1.2 in /usr/local/lib/python3.10/dist-packages (from ultralytics) (10.4.0)\n",
            "Requirement already satisfied: pyyaml>=5.3.1 in /usr/local/lib/python3.10/dist-packages (from ultralytics) (6.0.2)\n",
            "Requirement already satisfied: requests>=2.23.0 in /usr/local/lib/python3.10/dist-packages (from ultralytics) (2.32.3)\n",
            "Requirement already satisfied: scipy>=1.4.1 in /usr/local/lib/python3.10/dist-packages (from ultralytics) (1.13.1)\n",
            "Requirement already satisfied: torch>=1.8.0 in /usr/local/lib/python3.10/dist-packages (from ultralytics) (2.4.1+cu121)\n",
            "Requirement already satisfied: torchvision>=0.9.0 in /usr/local/lib/python3.10/dist-packages (from ultralytics) (0.19.1+cu121)\n",
            "Requirement already satisfied: tqdm>=4.64.0 in /usr/local/lib/python3.10/dist-packages (from ultralytics) (4.66.5)\n",
            "Requirement already satisfied: psutil in /usr/local/lib/python3.10/dist-packages (from ultralytics) (5.9.5)\n",
            "Requirement already satisfied: py-cpuinfo in /usr/local/lib/python3.10/dist-packages (from ultralytics) (9.0.0)\n",
            "Requirement already satisfied: pandas>=1.1.4 in /usr/local/lib/python3.10/dist-packages (from ultralytics) (2.1.4)\n",
            "Requirement already satisfied: seaborn>=0.11.0 in /usr/local/lib/python3.10/dist-packages (from ultralytics) (0.13.1)\n",
            "Collecting ultralytics-thop>=2.0.0 (from ultralytics)\n",
            "  Downloading ultralytics_thop-2.0.8-py3-none-any.whl.metadata (9.3 kB)\n",
            "Requirement already satisfied: contourpy>=1.0.1 in /usr/local/lib/python3.10/dist-packages (from matplotlib>=3.3.0->ultralytics) (1.3.0)\n",
            "Requirement already satisfied: cycler>=0.10 in /usr/local/lib/python3.10/dist-packages (from matplotlib>=3.3.0->ultralytics) (0.12.1)\n",
            "Requirement already satisfied: fonttools>=4.22.0 in /usr/local/lib/python3.10/dist-packages (from matplotlib>=3.3.0->ultralytics) (4.53.1)\n",
            "Requirement already satisfied: kiwisolver>=1.0.1 in /usr/local/lib/python3.10/dist-packages (from matplotlib>=3.3.0->ultralytics) (1.4.7)\n",
            "Requirement already satisfied: packaging>=20.0 in /usr/local/lib/python3.10/dist-packages (from matplotlib>=3.3.0->ultralytics) (24.1)\n",
            "Requirement already satisfied: pyparsing>=2.3.1 in /usr/local/lib/python3.10/dist-packages (from matplotlib>=3.3.0->ultralytics) (3.1.4)\n",
            "Requirement already satisfied: python-dateutil>=2.7 in /usr/local/lib/python3.10/dist-packages (from matplotlib>=3.3.0->ultralytics) (2.8.2)\n",
            "Requirement already satisfied: pytz>=2020.1 in /usr/local/lib/python3.10/dist-packages (from pandas>=1.1.4->ultralytics) (2024.2)\n",
            "Requirement already satisfied: tzdata>=2022.1 in /usr/local/lib/python3.10/dist-packages (from pandas>=1.1.4->ultralytics) (2024.1)\n",
            "Requirement already satisfied: charset-normalizer<4,>=2 in /usr/local/lib/python3.10/dist-packages (from requests>=2.23.0->ultralytics) (3.3.2)\n",
            "Requirement already satisfied: idna<4,>=2.5 in /usr/local/lib/python3.10/dist-packages (from requests>=2.23.0->ultralytics) (3.10)\n",
            "Requirement already satisfied: urllib3<3,>=1.21.1 in /usr/local/lib/python3.10/dist-packages (from requests>=2.23.0->ultralytics) (2.0.7)\n",
            "Requirement already satisfied: certifi>=2017.4.17 in /usr/local/lib/python3.10/dist-packages (from requests>=2.23.0->ultralytics) (2024.8.30)\n",
            "Requirement already satisfied: filelock in /usr/local/lib/python3.10/dist-packages (from torch>=1.8.0->ultralytics) (3.16.1)\n",
            "Requirement already satisfied: typing-extensions>=4.8.0 in /usr/local/lib/python3.10/dist-packages (from torch>=1.8.0->ultralytics) (4.12.2)\n",
            "Requirement already satisfied: sympy in /usr/local/lib/python3.10/dist-packages (from torch>=1.8.0->ultralytics) (1.13.2)\n",
            "Requirement already satisfied: networkx in /usr/local/lib/python3.10/dist-packages (from torch>=1.8.0->ultralytics) (3.3)\n",
            "Requirement already satisfied: jinja2 in /usr/local/lib/python3.10/dist-packages (from torch>=1.8.0->ultralytics) (3.1.4)\n",
            "Requirement already satisfied: fsspec in /usr/local/lib/python3.10/dist-packages (from torch>=1.8.0->ultralytics) (2024.6.1)\n",
            "Requirement already satisfied: six>=1.5 in /usr/local/lib/python3.10/dist-packages (from python-dateutil>=2.7->matplotlib>=3.3.0->ultralytics) (1.16.0)\n",
            "Requirement already satisfied: MarkupSafe>=2.0 in /usr/local/lib/python3.10/dist-packages (from jinja2->torch>=1.8.0->ultralytics) (2.1.5)\n",
            "Requirement already satisfied: mpmath<1.4,>=1.1.0 in /usr/local/lib/python3.10/dist-packages (from sympy->torch>=1.8.0->ultralytics) (1.3.0)\n",
            "Downloading ultralytics-8.2.99-py3-none-any.whl (874 kB)\n",
            "\u001b[2K   \u001b[90m━━━━━━━━━━━━━━━━━━━━━━━━━━━━━━━━━━━━━━━━\u001b[0m \u001b[32m874.0/874.0 kB\u001b[0m \u001b[31m56.2 MB/s\u001b[0m eta \u001b[36m0:00:00\u001b[0m\n",
            "\u001b[?25hDownloading ultralytics_thop-2.0.8-py3-none-any.whl (26 kB)\n",
            "Installing collected packages: ultralytics-thop, ultralytics\n",
            "Successfully installed ultralytics-8.2.99 ultralytics-thop-2.0.8\n"
          ]
        }
      ]
    },
    {
      "cell_type": "code",
      "source": [
        "from ultralytics import YOLO"
      ],
      "metadata": {
        "id": "rpTvNvwNR8wW",
        "colab": {
          "base_uri": "https://localhost:8080/"
        },
        "outputId": "3482acbe-757b-44ec-8ae1-76139aad3a57"
      },
      "execution_count": 5,
      "outputs": [
        {
          "output_type": "stream",
          "name": "stdout",
          "text": [
            "Creating new Ultralytics Settings v0.0.6 file ✅ \n",
            "View Ultralytics Settings with 'yolo settings' or at '/root/.config/Ultralytics/settings.json'\n",
            "Update Settings with 'yolo settings key=value', i.e. 'yolo settings runs_dir=path/to/dir'. For help see https://docs.ultralytics.com/quickstart/#ultralytics-settings.\n"
          ]
        }
      ]
    },
    {
      "cell_type": "code",
      "source": [
        "model = YOLO(\"yolov9c.pt\")"
      ],
      "metadata": {
        "id": "2Yf3JtovRhrU",
        "colab": {
          "base_uri": "https://localhost:8080/"
        },
        "outputId": "664c7624-f18b-45b6-c0fe-3070132679ce"
      },
      "execution_count": 6,
      "outputs": [
        {
          "output_type": "stream",
          "name": "stdout",
          "text": [
            "Downloading https://github.com/ultralytics/assets/releases/download/v8.2.0/yolov9c.pt to 'yolov9c.pt'...\n"
          ]
        },
        {
          "output_type": "stream",
          "name": "stderr",
          "text": [
            "100%|██████████| 49.4M/49.4M [00:00<00:00, 328MB/s]\n"
          ]
        }
      ]
    },
    {
      "cell_type": "code",
      "source": [
        "model.info()"
      ],
      "metadata": {
        "colab": {
          "base_uri": "https://localhost:8080/"
        },
        "id": "x1zRSJMCY-ft",
        "outputId": "d1d54ddb-8e11-46b4-cbe6-4af874761b93"
      },
      "execution_count": 7,
      "outputs": [
        {
          "output_type": "stream",
          "name": "stdout",
          "text": [
            "YOLOv9c summary: 618 layers, 25,590,912 parameters, 0 gradients, 104.0 GFLOPs\n"
          ]
        },
        {
          "output_type": "execute_result",
          "data": {
            "text/plain": [
              "(618, 25590912, 0, 104.02268160000003)"
            ]
          },
          "metadata": {},
          "execution_count": 7
        }
      ]
    },
    {
      "cell_type": "code",
      "source": [
        "results = model.train(data=\"/content/yolov7Data/data.yaml\", epochs=100, imgsz=640, device=0, batch=32, plots=True, profile=True)"
      ],
      "metadata": {
        "colab": {
          "base_uri": "https://localhost:8080/"
        },
        "id": "TE06EaiGSBEt",
        "outputId": "af39268a-e073-4913-9b97-27f3e43b325d"
      },
      "execution_count": 8,
      "outputs": [
        {
          "output_type": "stream",
          "name": "stdout",
          "text": [
            "Ultralytics YOLOv8.2.99 🚀 Python-3.10.12 torch-2.4.1+cu121 CUDA:0 (NVIDIA L4, 22700MiB)\n",
            "\u001b[34m\u001b[1mengine/trainer: \u001b[0mtask=detect, mode=train, model=yolov9c.pt, data=/content/yolov7Data/data.yaml, epochs=100, time=None, patience=100, batch=32, imgsz=640, save=True, save_period=-1, cache=False, device=0, workers=8, project=None, name=train, exist_ok=False, pretrained=True, optimizer=auto, verbose=True, seed=0, deterministic=True, single_cls=False, rect=False, cos_lr=False, close_mosaic=10, resume=False, amp=True, fraction=1.0, profile=True, freeze=None, multi_scale=False, overlap_mask=True, mask_ratio=4, dropout=0.0, val=True, split=val, save_json=False, save_hybrid=False, conf=None, iou=0.7, max_det=300, half=False, dnn=False, plots=True, source=None, vid_stride=1, stream_buffer=False, visualize=False, augment=False, agnostic_nms=False, classes=None, retina_masks=False, embed=None, show=False, save_frames=False, save_txt=False, save_conf=False, save_crop=False, show_labels=True, show_conf=True, show_boxes=True, line_width=None, format=torchscript, keras=False, optimize=False, int8=False, dynamic=False, simplify=False, opset=None, workspace=4, nms=False, lr0=0.01, lrf=0.01, momentum=0.937, weight_decay=0.0005, warmup_epochs=3.0, warmup_momentum=0.8, warmup_bias_lr=0.1, box=7.5, cls=0.5, dfl=1.5, pose=12.0, kobj=1.0, label_smoothing=0.0, nbs=64, hsv_h=0.015, hsv_s=0.7, hsv_v=0.4, degrees=0.0, translate=0.1, scale=0.5, shear=0.0, perspective=0.0, flipud=0.0, fliplr=0.5, bgr=0.0, mosaic=1.0, mixup=0.0, copy_paste=0.0, auto_augment=randaugment, erasing=0.4, crop_fraction=1.0, cfg=None, tracker=botsort.yaml, save_dir=runs/detect/train\n",
            "Downloading https://ultralytics.com/assets/Arial.ttf to '/root/.config/Ultralytics/Arial.ttf'...\n"
          ]
        },
        {
          "output_type": "stream",
          "name": "stderr",
          "text": [
            "100%|██████████| 755k/755k [00:00<00:00, 140MB/s]\n"
          ]
        },
        {
          "output_type": "stream",
          "name": "stdout",
          "text": [
            "Overriding model.yaml nc=80 with nc=1\n",
            "\n",
            "                   from  n    params  module                                       arguments                     \n",
            "  0                  -1  1      1856  ultralytics.nn.modules.conv.Conv             [3, 64, 3, 2]                 \n",
            "  1                  -1  1     73984  ultralytics.nn.modules.conv.Conv             [64, 128, 3, 2]               \n",
            "  2                  -1  1    212864  ultralytics.nn.modules.block.RepNCSPELAN4    [128, 256, 128, 64, 1]        \n",
            "  3                  -1  1    164352  ultralytics.nn.modules.block.ADown           [256, 256]                    \n",
            "  4                  -1  1    847616  ultralytics.nn.modules.block.RepNCSPELAN4    [256, 512, 256, 128, 1]       \n",
            "  5                  -1  1    656384  ultralytics.nn.modules.block.ADown           [512, 512]                    \n",
            "  6                  -1  1   2857472  ultralytics.nn.modules.block.RepNCSPELAN4    [512, 512, 512, 256, 1]       \n",
            "  7                  -1  1    656384  ultralytics.nn.modules.block.ADown           [512, 512]                    \n",
            "  8                  -1  1   2857472  ultralytics.nn.modules.block.RepNCSPELAN4    [512, 512, 512, 256, 1]       \n",
            "  9                  -1  1    656896  ultralytics.nn.modules.block.SPPELAN         [512, 512, 256]               \n",
            " 10                  -1  1         0  torch.nn.modules.upsampling.Upsample         [None, 2, 'nearest']          \n",
            " 11             [-1, 6]  1         0  ultralytics.nn.modules.conv.Concat           [1]                           \n",
            " 12                  -1  1   3119616  ultralytics.nn.modules.block.RepNCSPELAN4    [1024, 512, 512, 256, 1]      \n",
            " 13                  -1  1         0  torch.nn.modules.upsampling.Upsample         [None, 2, 'nearest']          \n",
            " 14             [-1, 4]  1         0  ultralytics.nn.modules.conv.Concat           [1]                           \n",
            " 15                  -1  1    912640  ultralytics.nn.modules.block.RepNCSPELAN4    [1024, 256, 256, 128, 1]      \n",
            " 16                  -1  1    164352  ultralytics.nn.modules.block.ADown           [256, 256]                    \n",
            " 17            [-1, 12]  1         0  ultralytics.nn.modules.conv.Concat           [1]                           \n",
            " 18                  -1  1   2988544  ultralytics.nn.modules.block.RepNCSPELAN4    [768, 512, 512, 256, 1]       \n",
            " 19                  -1  1    656384  ultralytics.nn.modules.block.ADown           [512, 512]                    \n",
            " 20             [-1, 9]  1         0  ultralytics.nn.modules.conv.Concat           [1]                           \n",
            " 21                  -1  1   3119616  ultralytics.nn.modules.block.RepNCSPELAN4    [1024, 512, 512, 256, 1]      \n",
            " 22        [15, 18, 21]  1   5583571  ultralytics.nn.modules.head.Detect           [1, [256, 512, 512]]          \n",
            "YOLOv9c summary: 618 layers, 25,530,003 parameters, 25,529,987 gradients, 103.7 GFLOPs\n",
            "\n",
            "Transferred 931/937 items from pretrained weights\n",
            "\u001b[34m\u001b[1mTensorBoard: \u001b[0mStart with 'tensorboard --logdir runs/detect/train', view at http://localhost:6006/\n",
            "Freezing layer 'model.22.dfl.conv.weight'\n",
            "\u001b[34m\u001b[1mAMP: \u001b[0mrunning Automatic Mixed Precision (AMP) checks with YOLOv8n...\n",
            "Downloading https://github.com/ultralytics/assets/releases/download/v8.2.0/yolov8n.pt to 'yolov8n.pt'...\n"
          ]
        },
        {
          "output_type": "stream",
          "name": "stderr",
          "text": [
            "100%|██████████| 6.25M/6.25M [00:00<00:00, 375MB/s]\n"
          ]
        },
        {
          "output_type": "stream",
          "name": "stdout",
          "text": [
            "\u001b[34m\u001b[1mAMP: \u001b[0mchecks passed ✅\n"
          ]
        },
        {
          "output_type": "stream",
          "name": "stderr",
          "text": [
            "\u001b[34m\u001b[1mtrain: \u001b[0mScanning /content/yolov7Data/train/labels... 607 images, 0 backgrounds, 0 corrupt: 100%|██████████| 607/607 [00:00<00:00, 1165.51it/s]"
          ]
        },
        {
          "output_type": "stream",
          "name": "stdout",
          "text": [
            "\u001b[34m\u001b[1mtrain: \u001b[0mNew cache created: /content/yolov7Data/train/labels.cache\n"
          ]
        },
        {
          "output_type": "stream",
          "name": "stderr",
          "text": [
            "\n"
          ]
        },
        {
          "output_type": "stream",
          "name": "stdout",
          "text": [
            "\u001b[34m\u001b[1malbumentations: \u001b[0mBlur(p=0.01, blur_limit=(3, 7)), MedianBlur(p=0.01, blur_limit=(3, 7)), ToGray(p=0.01, num_output_channels=3, method='weighted_average'), CLAHE(p=0.01, clip_limit=(1, 4.0), tile_grid_size=(8, 8))\n"
          ]
        },
        {
          "output_type": "stream",
          "name": "stderr",
          "text": [
            "/usr/local/lib/python3.10/dist-packages/albumentations/__init__.py:13: UserWarning: A new version of Albumentations is available: 1.4.16 (you have 1.4.15). Upgrade using: pip install -U albumentations. To disable automatic update checks, set the environment variable NO_ALBUMENTATIONS_UPDATE to 1.\n",
            "  check_for_updates()\n",
            "/usr/lib/python3.10/multiprocessing/popen_fork.py:66: RuntimeWarning: os.fork() was called. os.fork() is incompatible with multithreaded code, and JAX is multithreaded, so this will likely lead to a deadlock.\n",
            "  self.pid = os.fork()\n",
            "\u001b[34m\u001b[1mval: \u001b[0mScanning /content/yolov7Data/valid/labels... 91 images, 0 backgrounds, 0 corrupt: 100%|██████████| 91/91 [00:00<00:00, 1093.87it/s]"
          ]
        },
        {
          "output_type": "stream",
          "name": "stdout",
          "text": [
            "\u001b[34m\u001b[1mval: \u001b[0mNew cache created: /content/yolov7Data/valid/labels.cache\n"
          ]
        },
        {
          "output_type": "stream",
          "name": "stderr",
          "text": [
            "\n"
          ]
        },
        {
          "output_type": "stream",
          "name": "stdout",
          "text": [
            "Plotting labels to runs/detect/train/labels.jpg... \n",
            "\u001b[34m\u001b[1moptimizer:\u001b[0m 'optimizer=auto' found, ignoring 'lr0=0.01' and 'momentum=0.937' and determining best 'optimizer', 'lr0' and 'momentum' automatically... \n",
            "\u001b[34m\u001b[1moptimizer:\u001b[0m AdamW(lr=0.002, momentum=0.9) with parameter groups 154 weight(decay=0.0), 161 weight(decay=0.0005), 160 bias(decay=0.0)\n",
            "\u001b[34m\u001b[1mTensorBoard: \u001b[0mmodel graph visualization added ✅\n",
            "Image sizes 640 train, 640 val\n",
            "Using 8 dataloader workers\n",
            "Logging results to \u001b[1mruns/detect/train\u001b[0m\n",
            "Starting training for 100 epochs...\n",
            "\n",
            "      Epoch    GPU_mem   box_loss   cls_loss   dfl_loss  Instances       Size\n"
          ]
        },
        {
          "output_type": "stream",
          "name": "stderr",
          "text": [
            "      1/100        21G      2.055      5.506      2.211         71        640: 100%|██████████| 19/19 [00:20<00:00,  1.09s/it]\n",
            "                 Class     Images  Instances      Box(P          R      mAP50  mAP50-95): 100%|██████████| 2/2 [00:02<00:00,  1.37s/it]"
          ]
        },
        {
          "output_type": "stream",
          "name": "stdout",
          "text": [
            "                   all         91         97    0.00183      0.515     0.0014    0.00045\n"
          ]
        },
        {
          "output_type": "stream",
          "name": "stderr",
          "text": [
            "\n"
          ]
        },
        {
          "output_type": "stream",
          "name": "stdout",
          "text": [
            "\n",
            "      Epoch    GPU_mem   box_loss   cls_loss   dfl_loss  Instances       Size\n"
          ]
        },
        {
          "output_type": "stream",
          "name": "stderr",
          "text": [
            "      2/100      20.9G      2.343      3.077      2.372         66        640: 100%|██████████| 19/19 [00:19<00:00,  1.01s/it]\n",
            "                 Class     Images  Instances      Box(P          R      mAP50  mAP50-95): 100%|██████████| 2/2 [00:01<00:00,  1.46it/s]"
          ]
        },
        {
          "output_type": "stream",
          "name": "stdout",
          "text": [
            "                   all         91         97    0.00183      0.515     0.0014    0.00045\n"
          ]
        },
        {
          "output_type": "stream",
          "name": "stderr",
          "text": [
            "\n"
          ]
        },
        {
          "output_type": "stream",
          "name": "stdout",
          "text": [
            "\n",
            "      Epoch    GPU_mem   box_loss   cls_loss   dfl_loss  Instances       Size\n"
          ]
        },
        {
          "output_type": "stream",
          "name": "stderr",
          "text": [
            "      3/100      20.9G      2.397      2.995      2.375         64        640: 100%|██████████| 19/19 [00:19<00:00,  1.01s/it]\n",
            "                 Class     Images  Instances      Box(P          R      mAP50  mAP50-95): 100%|██████████| 2/2 [00:01<00:00,  1.54it/s]"
          ]
        },
        {
          "output_type": "stream",
          "name": "stdout",
          "text": [
            "                   all         91         97    0.00183      0.515     0.0014    0.00045\n"
          ]
        },
        {
          "output_type": "stream",
          "name": "stderr",
          "text": [
            "\n"
          ]
        },
        {
          "output_type": "stream",
          "name": "stdout",
          "text": [
            "\n",
            "      Epoch    GPU_mem   box_loss   cls_loss   dfl_loss  Instances       Size\n"
          ]
        },
        {
          "output_type": "stream",
          "name": "stderr",
          "text": [
            "      4/100      20.9G       2.33      2.867      2.329         66        640: 100%|██████████| 19/19 [00:19<00:00,  1.00s/it]\n",
            "                 Class     Images  Instances      Box(P          R      mAP50  mAP50-95): 100%|██████████| 2/2 [00:01<00:00,  1.51it/s]"
          ]
        },
        {
          "output_type": "stream",
          "name": "stdout",
          "text": [
            "                   all         91         97    0.00183      0.515     0.0014    0.00045\n"
          ]
        },
        {
          "output_type": "stream",
          "name": "stderr",
          "text": [
            "\n"
          ]
        },
        {
          "output_type": "stream",
          "name": "stdout",
          "text": [
            "\n",
            "      Epoch    GPU_mem   box_loss   cls_loss   dfl_loss  Instances       Size\n"
          ]
        },
        {
          "output_type": "stream",
          "name": "stderr",
          "text": [
            "      5/100      20.9G      2.268      2.834      2.256         59        640: 100%|██████████| 19/19 [00:19<00:00,  1.01s/it]\n",
            "                 Class     Images  Instances      Box(P          R      mAP50  mAP50-95): 100%|██████████| 2/2 [00:01<00:00,  1.19it/s]"
          ]
        },
        {
          "output_type": "stream",
          "name": "stdout",
          "text": [
            "                   all         91         97    0.00183      0.515     0.0014    0.00045\n"
          ]
        },
        {
          "output_type": "stream",
          "name": "stderr",
          "text": [
            "\n"
          ]
        },
        {
          "output_type": "stream",
          "name": "stdout",
          "text": [
            "\n",
            "      Epoch    GPU_mem   box_loss   cls_loss   dfl_loss  Instances       Size\n"
          ]
        },
        {
          "output_type": "stream",
          "name": "stderr",
          "text": [
            "      6/100      20.9G      2.234      2.889      2.351         59        640: 100%|██████████| 19/19 [00:19<00:00,  1.00s/it]\n",
            "                 Class     Images  Instances      Box(P          R      mAP50  mAP50-95): 100%|██████████| 2/2 [00:01<00:00,  1.33it/s]"
          ]
        },
        {
          "output_type": "stream",
          "name": "stdout",
          "text": [
            "                   all         91         97   0.000114     0.0309   6.01e-05    1.2e-05\n"
          ]
        },
        {
          "output_type": "stream",
          "name": "stderr",
          "text": [
            "\n"
          ]
        },
        {
          "output_type": "stream",
          "name": "stdout",
          "text": [
            "\n",
            "      Epoch    GPU_mem   box_loss   cls_loss   dfl_loss  Instances       Size\n"
          ]
        },
        {
          "output_type": "stream",
          "name": "stderr",
          "text": [
            "      7/100      20.9G      2.295      2.879      2.337         75        640: 100%|██████████| 19/19 [00:18<00:00,  1.00it/s]\n",
            "                 Class     Images  Instances      Box(P          R      mAP50  mAP50-95): 100%|██████████| 2/2 [00:01<00:00,  1.50it/s]"
          ]
        },
        {
          "output_type": "stream",
          "name": "stdout",
          "text": [
            "                   all         91         97   0.000114     0.0309   6.01e-05    1.2e-05\n"
          ]
        },
        {
          "output_type": "stream",
          "name": "stderr",
          "text": [
            "\n"
          ]
        },
        {
          "output_type": "stream",
          "name": "stdout",
          "text": [
            "\n",
            "      Epoch    GPU_mem   box_loss   cls_loss   dfl_loss  Instances       Size\n"
          ]
        },
        {
          "output_type": "stream",
          "name": "stderr",
          "text": [
            "      8/100      20.9G      2.287      2.826      2.289         85        640: 100%|██████████| 19/19 [00:19<00:00,  1.00s/it]\n",
            "                 Class     Images  Instances      Box(P          R      mAP50  mAP50-95): 100%|██████████| 2/2 [00:01<00:00,  1.43it/s]"
          ]
        },
        {
          "output_type": "stream",
          "name": "stdout",
          "text": [
            "                   all         91         97     0.0328     0.0412     0.0035   0.000988\n"
          ]
        },
        {
          "output_type": "stream",
          "name": "stderr",
          "text": [
            "\n"
          ]
        },
        {
          "output_type": "stream",
          "name": "stdout",
          "text": [
            "\n",
            "      Epoch    GPU_mem   box_loss   cls_loss   dfl_loss  Instances       Size\n"
          ]
        },
        {
          "output_type": "stream",
          "name": "stderr",
          "text": [
            "      9/100      20.9G      2.196      2.798      2.249         83        640: 100%|██████████| 19/19 [00:19<00:00,  1.00s/it]\n",
            "                 Class     Images  Instances      Box(P          R      mAP50  mAP50-95): 100%|██████████| 2/2 [00:01<00:00,  1.39it/s]"
          ]
        },
        {
          "output_type": "stream",
          "name": "stdout",
          "text": [
            "                   all         91         97   0.000265     0.0103   4.69e-05   9.38e-06\n"
          ]
        },
        {
          "output_type": "stream",
          "name": "stderr",
          "text": [
            "\n"
          ]
        },
        {
          "output_type": "stream",
          "name": "stdout",
          "text": [
            "\n",
            "      Epoch    GPU_mem   box_loss   cls_loss   dfl_loss  Instances       Size\n"
          ]
        },
        {
          "output_type": "stream",
          "name": "stderr",
          "text": [
            "     10/100      20.9G      2.153      2.713      2.174         58        640: 100%|██████████| 19/19 [00:19<00:00,  1.00s/it]\n",
            "                 Class     Images  Instances      Box(P          R      mAP50  mAP50-95): 100%|██████████| 2/2 [00:01<00:00,  1.32it/s]"
          ]
        },
        {
          "output_type": "stream",
          "name": "stdout",
          "text": [
            "                   all         91         97     0.0271     0.0206    0.00478     0.0014\n"
          ]
        },
        {
          "output_type": "stream",
          "name": "stderr",
          "text": [
            "\n"
          ]
        },
        {
          "output_type": "stream",
          "name": "stdout",
          "text": [
            "\n",
            "      Epoch    GPU_mem   box_loss   cls_loss   dfl_loss  Instances       Size\n"
          ]
        },
        {
          "output_type": "stream",
          "name": "stderr",
          "text": [
            "     11/100      20.9G      2.167      2.779      2.219         68        640: 100%|██████████| 19/19 [00:18<00:00,  1.00it/s]\n",
            "                 Class     Images  Instances      Box(P          R      mAP50  mAP50-95): 100%|██████████| 2/2 [00:01<00:00,  1.36it/s]"
          ]
        },
        {
          "output_type": "stream",
          "name": "stdout",
          "text": [
            "                   all         91         97     0.0206      0.103     0.0118    0.00396\n"
          ]
        },
        {
          "output_type": "stream",
          "name": "stderr",
          "text": [
            "\n"
          ]
        },
        {
          "output_type": "stream",
          "name": "stdout",
          "text": [
            "\n",
            "      Epoch    GPU_mem   box_loss   cls_loss   dfl_loss  Instances       Size\n"
          ]
        },
        {
          "output_type": "stream",
          "name": "stderr",
          "text": [
            "     12/100        21G      2.182      2.763       2.25         57        640: 100%|██████████| 19/19 [00:19<00:00,  1.00s/it]\n",
            "                 Class     Images  Instances      Box(P          R      mAP50  mAP50-95): 100%|██████████| 2/2 [00:01<00:00,  1.39it/s]"
          ]
        },
        {
          "output_type": "stream",
          "name": "stdout",
          "text": [
            "                   all         91         97     0.0277     0.0928     0.0111    0.00249\n"
          ]
        },
        {
          "output_type": "stream",
          "name": "stderr",
          "text": [
            "\n"
          ]
        },
        {
          "output_type": "stream",
          "name": "stdout",
          "text": [
            "\n",
            "      Epoch    GPU_mem   box_loss   cls_loss   dfl_loss  Instances       Size\n"
          ]
        },
        {
          "output_type": "stream",
          "name": "stderr",
          "text": [
            "     13/100      20.9G      2.119      2.675      2.175         74        640: 100%|██████████| 19/19 [00:18<00:00,  1.00it/s]\n",
            "                 Class     Images  Instances      Box(P          R      mAP50  mAP50-95): 100%|██████████| 2/2 [00:01<00:00,  1.33it/s]"
          ]
        },
        {
          "output_type": "stream",
          "name": "stdout",
          "text": [
            "                   all         91         97     0.0886      0.175     0.0554     0.0156\n"
          ]
        },
        {
          "output_type": "stream",
          "name": "stderr",
          "text": [
            "\n"
          ]
        },
        {
          "output_type": "stream",
          "name": "stdout",
          "text": [
            "\n",
            "      Epoch    GPU_mem   box_loss   cls_loss   dfl_loss  Instances       Size\n"
          ]
        },
        {
          "output_type": "stream",
          "name": "stderr",
          "text": [
            "     14/100        21G      2.116      2.654      2.168         61        640: 100%|██████████| 19/19 [00:18<00:00,  1.00it/s]\n",
            "                 Class     Images  Instances      Box(P          R      mAP50  mAP50-95): 100%|██████████| 2/2 [00:01<00:00,  1.33it/s]"
          ]
        },
        {
          "output_type": "stream",
          "name": "stdout",
          "text": [
            "                   all         91         97     0.0304     0.0722     0.0124    0.00391\n"
          ]
        },
        {
          "output_type": "stream",
          "name": "stderr",
          "text": [
            "\n"
          ]
        },
        {
          "output_type": "stream",
          "name": "stdout",
          "text": [
            "\n",
            "      Epoch    GPU_mem   box_loss   cls_loss   dfl_loss  Instances       Size\n"
          ]
        },
        {
          "output_type": "stream",
          "name": "stderr",
          "text": [
            "     15/100      20.9G      2.049      2.581      2.136         65        640: 100%|██████████| 19/19 [00:18<00:00,  1.00it/s]\n",
            "                 Class     Images  Instances      Box(P          R      mAP50  mAP50-95): 100%|██████████| 2/2 [00:01<00:00,  1.31it/s]"
          ]
        },
        {
          "output_type": "stream",
          "name": "stdout",
          "text": [
            "                   all         91         97      0.097      0.186      0.049     0.0146\n"
          ]
        },
        {
          "output_type": "stream",
          "name": "stderr",
          "text": [
            "\n"
          ]
        },
        {
          "output_type": "stream",
          "name": "stdout",
          "text": [
            "\n",
            "      Epoch    GPU_mem   box_loss   cls_loss   dfl_loss  Instances       Size\n"
          ]
        },
        {
          "output_type": "stream",
          "name": "stderr",
          "text": [
            "     16/100        21G      2.132      2.585      2.147         49        640: 100%|██████████| 19/19 [00:18<00:00,  1.00it/s]\n",
            "                 Class     Images  Instances      Box(P          R      mAP50  mAP50-95): 100%|██████████| 2/2 [00:01<00:00,  1.37it/s]"
          ]
        },
        {
          "output_type": "stream",
          "name": "stdout",
          "text": [
            "                   all         91         97     0.0509      0.144     0.0243    0.00716\n"
          ]
        },
        {
          "output_type": "stream",
          "name": "stderr",
          "text": [
            "\n"
          ]
        },
        {
          "output_type": "stream",
          "name": "stdout",
          "text": [
            "\n",
            "      Epoch    GPU_mem   box_loss   cls_loss   dfl_loss  Instances       Size\n"
          ]
        },
        {
          "output_type": "stream",
          "name": "stderr",
          "text": [
            "     17/100      20.9G      2.063      2.519       2.13         76        640: 100%|██████████| 19/19 [00:18<00:00,  1.00it/s]\n",
            "                 Class     Images  Instances      Box(P          R      mAP50  mAP50-95): 100%|██████████| 2/2 [00:01<00:00,  1.37it/s]"
          ]
        },
        {
          "output_type": "stream",
          "name": "stdout",
          "text": [
            "                   all         91         97    0.00632      0.124    0.00471    0.00152\n"
          ]
        },
        {
          "output_type": "stream",
          "name": "stderr",
          "text": [
            "\n"
          ]
        },
        {
          "output_type": "stream",
          "name": "stdout",
          "text": [
            "\n",
            "      Epoch    GPU_mem   box_loss   cls_loss   dfl_loss  Instances       Size\n"
          ]
        },
        {
          "output_type": "stream",
          "name": "stderr",
          "text": [
            "     18/100      20.9G      2.083      2.529      2.105         69        640: 100%|██████████| 19/19 [00:19<00:00,  1.01s/it]\n",
            "                 Class     Images  Instances      Box(P          R      mAP50  mAP50-95): 100%|██████████| 2/2 [00:01<00:00,  1.33it/s]"
          ]
        },
        {
          "output_type": "stream",
          "name": "stdout",
          "text": [
            "                   all         91         97     0.0406      0.186      0.021    0.00648\n"
          ]
        },
        {
          "output_type": "stream",
          "name": "stderr",
          "text": [
            "\n"
          ]
        },
        {
          "output_type": "stream",
          "name": "stdout",
          "text": [
            "\n",
            "      Epoch    GPU_mem   box_loss   cls_loss   dfl_loss  Instances       Size\n"
          ]
        },
        {
          "output_type": "stream",
          "name": "stderr",
          "text": [
            "     19/100      20.9G      2.023      2.471      2.076         68        640: 100%|██████████| 19/19 [00:18<00:00,  1.00it/s]\n",
            "                 Class     Images  Instances      Box(P          R      mAP50  mAP50-95): 100%|██████████| 2/2 [00:01<00:00,  1.39it/s]"
          ]
        },
        {
          "output_type": "stream",
          "name": "stdout",
          "text": [
            "                   all         91         97      0.125      0.175      0.067     0.0231\n"
          ]
        },
        {
          "output_type": "stream",
          "name": "stderr",
          "text": [
            "\n"
          ]
        },
        {
          "output_type": "stream",
          "name": "stdout",
          "text": [
            "\n",
            "      Epoch    GPU_mem   box_loss   cls_loss   dfl_loss  Instances       Size\n"
          ]
        },
        {
          "output_type": "stream",
          "name": "stderr",
          "text": [
            "     20/100      20.9G      2.052      2.528      2.116         69        640: 100%|██████████| 19/19 [00:19<00:00,  1.00s/it]\n",
            "                 Class     Images  Instances      Box(P          R      mAP50  mAP50-95): 100%|██████████| 2/2 [00:01<00:00,  1.37it/s]"
          ]
        },
        {
          "output_type": "stream",
          "name": "stdout",
          "text": [
            "                   all         91         97      0.316      0.144      0.096     0.0382\n"
          ]
        },
        {
          "output_type": "stream",
          "name": "stderr",
          "text": [
            "\n"
          ]
        },
        {
          "output_type": "stream",
          "name": "stdout",
          "text": [
            "\n",
            "      Epoch    GPU_mem   box_loss   cls_loss   dfl_loss  Instances       Size\n"
          ]
        },
        {
          "output_type": "stream",
          "name": "stderr",
          "text": [
            "     21/100      20.9G      2.007      2.427      2.037         58        640: 100%|██████████| 19/19 [00:18<00:00,  1.00it/s]\n",
            "                 Class     Images  Instances      Box(P          R      mAP50  mAP50-95): 100%|██████████| 2/2 [00:01<00:00,  1.36it/s]"
          ]
        },
        {
          "output_type": "stream",
          "name": "stdout",
          "text": [
            "                   all         91         97      0.184      0.175      0.117     0.0439\n"
          ]
        },
        {
          "output_type": "stream",
          "name": "stderr",
          "text": [
            "\n"
          ]
        },
        {
          "output_type": "stream",
          "name": "stdout",
          "text": [
            "\n",
            "      Epoch    GPU_mem   box_loss   cls_loss   dfl_loss  Instances       Size\n"
          ]
        },
        {
          "output_type": "stream",
          "name": "stderr",
          "text": [
            "     22/100        21G      2.011      2.408      2.063         72        640: 100%|██████████| 19/19 [00:19<00:00,  1.00s/it]\n",
            "                 Class     Images  Instances      Box(P          R      mAP50  mAP50-95): 100%|██████████| 2/2 [00:01<00:00,  1.35it/s]"
          ]
        },
        {
          "output_type": "stream",
          "name": "stdout",
          "text": [
            "                   all         91         97      0.217      0.299      0.152     0.0519\n"
          ]
        },
        {
          "output_type": "stream",
          "name": "stderr",
          "text": [
            "\n"
          ]
        },
        {
          "output_type": "stream",
          "name": "stdout",
          "text": [
            "\n",
            "      Epoch    GPU_mem   box_loss   cls_loss   dfl_loss  Instances       Size\n"
          ]
        },
        {
          "output_type": "stream",
          "name": "stderr",
          "text": [
            "     23/100      20.9G      1.974      2.393      2.017         58        640: 100%|██████████| 19/19 [00:18<00:00,  1.00it/s]\n",
            "                 Class     Images  Instances      Box(P          R      mAP50  mAP50-95): 100%|██████████| 2/2 [00:01<00:00,  1.31it/s]"
          ]
        },
        {
          "output_type": "stream",
          "name": "stdout",
          "text": [
            "                   all         91         97      0.179      0.196      0.111     0.0439\n"
          ]
        },
        {
          "output_type": "stream",
          "name": "stderr",
          "text": [
            "\n"
          ]
        },
        {
          "output_type": "stream",
          "name": "stdout",
          "text": [
            "\n",
            "      Epoch    GPU_mem   box_loss   cls_loss   dfl_loss  Instances       Size\n"
          ]
        },
        {
          "output_type": "stream",
          "name": "stderr",
          "text": [
            "     24/100      20.9G      1.949      2.336      1.996         72        640: 100%|██████████| 19/19 [00:19<00:00,  1.00s/it]\n",
            "                 Class     Images  Instances      Box(P          R      mAP50  mAP50-95): 100%|██████████| 2/2 [00:01<00:00,  1.31it/s]"
          ]
        },
        {
          "output_type": "stream",
          "name": "stdout",
          "text": [
            "                   all         91         97      0.185      0.278      0.113      0.042\n"
          ]
        },
        {
          "output_type": "stream",
          "name": "stderr",
          "text": [
            "\n"
          ]
        },
        {
          "output_type": "stream",
          "name": "stdout",
          "text": [
            "\n",
            "      Epoch    GPU_mem   box_loss   cls_loss   dfl_loss  Instances       Size\n"
          ]
        },
        {
          "output_type": "stream",
          "name": "stderr",
          "text": [
            "     25/100      20.9G      1.951      2.334      1.997         89        640: 100%|██████████| 19/19 [00:18<00:00,  1.00it/s]\n",
            "                 Class     Images  Instances      Box(P          R      mAP50  mAP50-95): 100%|██████████| 2/2 [00:01<00:00,  1.39it/s]"
          ]
        },
        {
          "output_type": "stream",
          "name": "stdout",
          "text": [
            "                   all         91         97       0.29      0.206      0.133     0.0477\n"
          ]
        },
        {
          "output_type": "stream",
          "name": "stderr",
          "text": [
            "\n"
          ]
        },
        {
          "output_type": "stream",
          "name": "stdout",
          "text": [
            "\n",
            "      Epoch    GPU_mem   box_loss   cls_loss   dfl_loss  Instances       Size\n"
          ]
        },
        {
          "output_type": "stream",
          "name": "stderr",
          "text": [
            "     26/100      20.9G      1.941      2.369      2.007         58        640: 100%|██████████| 19/19 [00:18<00:00,  1.00it/s]\n",
            "                 Class     Images  Instances      Box(P          R      mAP50  mAP50-95): 100%|██████████| 2/2 [00:01<00:00,  1.36it/s]"
          ]
        },
        {
          "output_type": "stream",
          "name": "stdout",
          "text": [
            "                   all         91         97       0.19      0.309      0.131     0.0439\n"
          ]
        },
        {
          "output_type": "stream",
          "name": "stderr",
          "text": [
            "\n"
          ]
        },
        {
          "output_type": "stream",
          "name": "stdout",
          "text": [
            "\n",
            "      Epoch    GPU_mem   box_loss   cls_loss   dfl_loss  Instances       Size\n"
          ]
        },
        {
          "output_type": "stream",
          "name": "stderr",
          "text": [
            "     27/100        21G       1.96      2.316       2.01         66        640: 100%|██████████| 19/19 [00:18<00:00,  1.00it/s]\n",
            "                 Class     Images  Instances      Box(P          R      mAP50  mAP50-95): 100%|██████████| 2/2 [00:01<00:00,  1.35it/s]"
          ]
        },
        {
          "output_type": "stream",
          "name": "stdout",
          "text": [
            "                   all         91         97      0.217      0.206      0.132     0.0592\n"
          ]
        },
        {
          "output_type": "stream",
          "name": "stderr",
          "text": [
            "\n"
          ]
        },
        {
          "output_type": "stream",
          "name": "stdout",
          "text": [
            "\n",
            "      Epoch    GPU_mem   box_loss   cls_loss   dfl_loss  Instances       Size\n"
          ]
        },
        {
          "output_type": "stream",
          "name": "stderr",
          "text": [
            "     28/100        21G      1.982      2.362       2.03         78        640: 100%|██████████| 19/19 [00:18<00:00,  1.00it/s]\n",
            "                 Class     Images  Instances      Box(P          R      mAP50  mAP50-95): 100%|██████████| 2/2 [00:01<00:00,  1.36it/s]"
          ]
        },
        {
          "output_type": "stream",
          "name": "stdout",
          "text": [
            "                   all         91         97      0.288      0.247      0.183     0.0689\n"
          ]
        },
        {
          "output_type": "stream",
          "name": "stderr",
          "text": [
            "\n"
          ]
        },
        {
          "output_type": "stream",
          "name": "stdout",
          "text": [
            "\n",
            "      Epoch    GPU_mem   box_loss   cls_loss   dfl_loss  Instances       Size\n"
          ]
        },
        {
          "output_type": "stream",
          "name": "stderr",
          "text": [
            "     29/100      20.9G      1.999      2.354      2.012         63        640: 100%|██████████| 19/19 [00:19<00:00,  1.00s/it]\n",
            "                 Class     Images  Instances      Box(P          R      mAP50  mAP50-95): 100%|██████████| 2/2 [00:01<00:00,  1.34it/s]"
          ]
        },
        {
          "output_type": "stream",
          "name": "stdout",
          "text": [
            "                   all         91         97      0.242      0.247      0.173     0.0682\n"
          ]
        },
        {
          "output_type": "stream",
          "name": "stderr",
          "text": [
            "\n"
          ]
        },
        {
          "output_type": "stream",
          "name": "stdout",
          "text": [
            "\n",
            "      Epoch    GPU_mem   box_loss   cls_loss   dfl_loss  Instances       Size\n"
          ]
        },
        {
          "output_type": "stream",
          "name": "stderr",
          "text": [
            "     30/100      20.9G      1.949      2.294      1.961         65        640: 100%|██████████| 19/19 [00:18<00:00,  1.00it/s]\n",
            "                 Class     Images  Instances      Box(P          R      mAP50  mAP50-95): 100%|██████████| 2/2 [00:01<00:00,  1.36it/s]"
          ]
        },
        {
          "output_type": "stream",
          "name": "stdout",
          "text": [
            "                   all         91         97        0.2      0.196      0.156      0.069\n"
          ]
        },
        {
          "output_type": "stream",
          "name": "stderr",
          "text": [
            "\n"
          ]
        },
        {
          "output_type": "stream",
          "name": "stdout",
          "text": [
            "\n",
            "      Epoch    GPU_mem   box_loss   cls_loss   dfl_loss  Instances       Size\n"
          ]
        },
        {
          "output_type": "stream",
          "name": "stderr",
          "text": [
            "     31/100      20.9G      1.926      2.225      1.965         68        640: 100%|██████████| 19/19 [00:18<00:00,  1.00it/s]\n",
            "                 Class     Images  Instances      Box(P          R      mAP50  mAP50-95): 100%|██████████| 2/2 [00:01<00:00,  1.35it/s]"
          ]
        },
        {
          "output_type": "stream",
          "name": "stdout",
          "text": [
            "                   all         91         97      0.287      0.299      0.231     0.0703\n"
          ]
        },
        {
          "output_type": "stream",
          "name": "stderr",
          "text": [
            "\n"
          ]
        },
        {
          "output_type": "stream",
          "name": "stdout",
          "text": [
            "\n",
            "      Epoch    GPU_mem   box_loss   cls_loss   dfl_loss  Instances       Size\n"
          ]
        },
        {
          "output_type": "stream",
          "name": "stderr",
          "text": [
            "     32/100      20.9G      1.875      2.263       1.93         58        640: 100%|██████████| 19/19 [00:18<00:00,  1.00it/s]\n",
            "                 Class     Images  Instances      Box(P          R      mAP50  mAP50-95): 100%|██████████| 2/2 [00:01<00:00,  1.37it/s]"
          ]
        },
        {
          "output_type": "stream",
          "name": "stdout",
          "text": [
            "                   all         91         97      0.297      0.289      0.191     0.0687\n"
          ]
        },
        {
          "output_type": "stream",
          "name": "stderr",
          "text": [
            "\n"
          ]
        },
        {
          "output_type": "stream",
          "name": "stdout",
          "text": [
            "\n",
            "      Epoch    GPU_mem   box_loss   cls_loss   dfl_loss  Instances       Size\n"
          ]
        },
        {
          "output_type": "stream",
          "name": "stderr",
          "text": [
            "     33/100      20.9G      1.952      2.292      1.947         84        640: 100%|██████████| 19/19 [00:18<00:00,  1.00it/s]\n",
            "                 Class     Images  Instances      Box(P          R      mAP50  mAP50-95): 100%|██████████| 2/2 [00:01<00:00,  1.37it/s]"
          ]
        },
        {
          "output_type": "stream",
          "name": "stdout",
          "text": [
            "                   all         91         97     0.0788      0.134     0.0727     0.0309\n"
          ]
        },
        {
          "output_type": "stream",
          "name": "stderr",
          "text": [
            "\n"
          ]
        },
        {
          "output_type": "stream",
          "name": "stdout",
          "text": [
            "\n",
            "      Epoch    GPU_mem   box_loss   cls_loss   dfl_loss  Instances       Size\n"
          ]
        },
        {
          "output_type": "stream",
          "name": "stderr",
          "text": [
            "     34/100      20.9G      1.898      2.252       1.95         70        640: 100%|██████████| 19/19 [00:19<00:00,  1.00s/it]\n",
            "                 Class     Images  Instances      Box(P          R      mAP50  mAP50-95): 100%|██████████| 2/2 [00:01<00:00,  1.32it/s]"
          ]
        },
        {
          "output_type": "stream",
          "name": "stdout",
          "text": [
            "                   all         91         97      0.356      0.351       0.25     0.0888\n"
          ]
        },
        {
          "output_type": "stream",
          "name": "stderr",
          "text": [
            "\n"
          ]
        },
        {
          "output_type": "stream",
          "name": "stdout",
          "text": [
            "\n",
            "      Epoch    GPU_mem   box_loss   cls_loss   dfl_loss  Instances       Size\n"
          ]
        },
        {
          "output_type": "stream",
          "name": "stderr",
          "text": [
            "     35/100      20.9G      1.867      2.207      1.943         50        640: 100%|██████████| 19/19 [00:19<00:00,  1.00s/it]\n",
            "                 Class     Images  Instances      Box(P          R      mAP50  mAP50-95): 100%|██████████| 2/2 [00:01<00:00,  1.37it/s]"
          ]
        },
        {
          "output_type": "stream",
          "name": "stdout",
          "text": [
            "                   all         91         97      0.214      0.351       0.17     0.0577\n"
          ]
        },
        {
          "output_type": "stream",
          "name": "stderr",
          "text": [
            "\n"
          ]
        },
        {
          "output_type": "stream",
          "name": "stdout",
          "text": [
            "\n",
            "      Epoch    GPU_mem   box_loss   cls_loss   dfl_loss  Instances       Size\n"
          ]
        },
        {
          "output_type": "stream",
          "name": "stderr",
          "text": [
            "     36/100      20.9G       1.92      2.207      1.951         64        640: 100%|██████████| 19/19 [00:18<00:00,  1.00it/s]\n",
            "                 Class     Images  Instances      Box(P          R      mAP50  mAP50-95): 100%|██████████| 2/2 [00:01<00:00,  1.37it/s]"
          ]
        },
        {
          "output_type": "stream",
          "name": "stdout",
          "text": [
            "                   all         91         97      0.238      0.278      0.198     0.0744\n"
          ]
        },
        {
          "output_type": "stream",
          "name": "stderr",
          "text": [
            "\n"
          ]
        },
        {
          "output_type": "stream",
          "name": "stdout",
          "text": [
            "\n",
            "      Epoch    GPU_mem   box_loss   cls_loss   dfl_loss  Instances       Size\n"
          ]
        },
        {
          "output_type": "stream",
          "name": "stderr",
          "text": [
            "     37/100      20.9G      1.881       2.19       1.94         63        640: 100%|██████████| 19/19 [00:18<00:00,  1.00it/s]\n",
            "                 Class     Images  Instances      Box(P          R      mAP50  mAP50-95): 100%|██████████| 2/2 [00:01<00:00,  1.40it/s]"
          ]
        },
        {
          "output_type": "stream",
          "name": "stdout",
          "text": [
            "                   all         91         97      0.238      0.299      0.203      0.081\n"
          ]
        },
        {
          "output_type": "stream",
          "name": "stderr",
          "text": [
            "\n"
          ]
        },
        {
          "output_type": "stream",
          "name": "stdout",
          "text": [
            "\n",
            "      Epoch    GPU_mem   box_loss   cls_loss   dfl_loss  Instances       Size\n"
          ]
        },
        {
          "output_type": "stream",
          "name": "stderr",
          "text": [
            "     38/100      20.9G      1.887       2.21      1.942         65        640: 100%|██████████| 19/19 [00:18<00:00,  1.00it/s]\n",
            "                 Class     Images  Instances      Box(P          R      mAP50  mAP50-95): 100%|██████████| 2/2 [00:01<00:00,  1.37it/s]"
          ]
        },
        {
          "output_type": "stream",
          "name": "stdout",
          "text": [
            "                   all         91         97      0.279      0.299      0.238     0.0804\n"
          ]
        },
        {
          "output_type": "stream",
          "name": "stderr",
          "text": [
            "\n"
          ]
        },
        {
          "output_type": "stream",
          "name": "stdout",
          "text": [
            "\n",
            "      Epoch    GPU_mem   box_loss   cls_loss   dfl_loss  Instances       Size\n"
          ]
        },
        {
          "output_type": "stream",
          "name": "stderr",
          "text": [
            "     39/100      20.9G      1.844      2.199       1.93         66        640: 100%|██████████| 19/19 [00:18<00:00,  1.00it/s]\n",
            "                 Class     Images  Instances      Box(P          R      mAP50  mAP50-95): 100%|██████████| 2/2 [00:01<00:00,  1.40it/s]"
          ]
        },
        {
          "output_type": "stream",
          "name": "stdout",
          "text": [
            "                   all         91         97       0.29       0.34      0.224     0.0698\n"
          ]
        },
        {
          "output_type": "stream",
          "name": "stderr",
          "text": [
            "\n"
          ]
        },
        {
          "output_type": "stream",
          "name": "stdout",
          "text": [
            "\n",
            "      Epoch    GPU_mem   box_loss   cls_loss   dfl_loss  Instances       Size\n"
          ]
        },
        {
          "output_type": "stream",
          "name": "stderr",
          "text": [
            "     40/100      20.9G      1.864      2.129      1.924         57        640: 100%|██████████| 19/19 [00:19<00:00,  1.00s/it]\n",
            "                 Class     Images  Instances      Box(P          R      mAP50  mAP50-95): 100%|██████████| 2/2 [00:01<00:00,  1.33it/s]"
          ]
        },
        {
          "output_type": "stream",
          "name": "stdout",
          "text": [
            "                   all         91         97      0.274      0.309      0.191      0.077\n"
          ]
        },
        {
          "output_type": "stream",
          "name": "stderr",
          "text": [
            "\n"
          ]
        },
        {
          "output_type": "stream",
          "name": "stdout",
          "text": [
            "\n",
            "      Epoch    GPU_mem   box_loss   cls_loss   dfl_loss  Instances       Size\n"
          ]
        },
        {
          "output_type": "stream",
          "name": "stderr",
          "text": [
            "     41/100      20.9G      1.843      2.123      1.883         53        640: 100%|██████████| 19/19 [00:18<00:00,  1.00it/s]\n",
            "                 Class     Images  Instances      Box(P          R      mAP50  mAP50-95): 100%|██████████| 2/2 [00:01<00:00,  1.34it/s]"
          ]
        },
        {
          "output_type": "stream",
          "name": "stdout",
          "text": [
            "                   all         91         97      0.388       0.32      0.257     0.0825\n"
          ]
        },
        {
          "output_type": "stream",
          "name": "stderr",
          "text": [
            "\n"
          ]
        },
        {
          "output_type": "stream",
          "name": "stdout",
          "text": [
            "\n",
            "      Epoch    GPU_mem   box_loss   cls_loss   dfl_loss  Instances       Size\n"
          ]
        },
        {
          "output_type": "stream",
          "name": "stderr",
          "text": [
            "     42/100      20.9G      1.863      2.125      1.902         62        640: 100%|██████████| 19/19 [00:18<00:00,  1.00it/s]\n",
            "                 Class     Images  Instances      Box(P          R      mAP50  mAP50-95): 100%|██████████| 2/2 [00:01<00:00,  1.35it/s]"
          ]
        },
        {
          "output_type": "stream",
          "name": "stdout",
          "text": [
            "                   all         91         97      0.262      0.209      0.201     0.0826\n"
          ]
        },
        {
          "output_type": "stream",
          "name": "stderr",
          "text": [
            "\n"
          ]
        },
        {
          "output_type": "stream",
          "name": "stdout",
          "text": [
            "\n",
            "      Epoch    GPU_mem   box_loss   cls_loss   dfl_loss  Instances       Size\n"
          ]
        },
        {
          "output_type": "stream",
          "name": "stderr",
          "text": [
            "     43/100      20.9G       1.82      2.089      1.882         64        640: 100%|██████████| 19/19 [00:19<00:00,  1.00s/it]\n",
            "                 Class     Images  Instances      Box(P          R      mAP50  mAP50-95): 100%|██████████| 2/2 [00:01<00:00,  1.39it/s]"
          ]
        },
        {
          "output_type": "stream",
          "name": "stdout",
          "text": [
            "                   all         91         97      0.351      0.278       0.26      0.101\n"
          ]
        },
        {
          "output_type": "stream",
          "name": "stderr",
          "text": [
            "\n"
          ]
        },
        {
          "output_type": "stream",
          "name": "stdout",
          "text": [
            "\n",
            "      Epoch    GPU_mem   box_loss   cls_loss   dfl_loss  Instances       Size\n"
          ]
        },
        {
          "output_type": "stream",
          "name": "stderr",
          "text": [
            "     44/100      20.9G      1.787      2.073      1.868         54        640: 100%|██████████| 19/19 [00:19<00:00,  1.00s/it]\n",
            "                 Class     Images  Instances      Box(P          R      mAP50  mAP50-95): 100%|██████████| 2/2 [00:01<00:00,  1.35it/s]"
          ]
        },
        {
          "output_type": "stream",
          "name": "stdout",
          "text": [
            "                   all         91         97      0.473      0.258      0.252     0.0885\n"
          ]
        },
        {
          "output_type": "stream",
          "name": "stderr",
          "text": [
            "\n"
          ]
        },
        {
          "output_type": "stream",
          "name": "stdout",
          "text": [
            "\n",
            "      Epoch    GPU_mem   box_loss   cls_loss   dfl_loss  Instances       Size\n"
          ]
        },
        {
          "output_type": "stream",
          "name": "stderr",
          "text": [
            "     45/100      20.9G      1.836      2.071      1.888         70        640: 100%|██████████| 19/19 [00:18<00:00,  1.01it/s]\n",
            "                 Class     Images  Instances      Box(P          R      mAP50  mAP50-95): 100%|██████████| 2/2 [00:01<00:00,  1.39it/s]"
          ]
        },
        {
          "output_type": "stream",
          "name": "stdout",
          "text": [
            "                   all         91         97      0.363      0.334      0.289      0.112\n"
          ]
        },
        {
          "output_type": "stream",
          "name": "stderr",
          "text": [
            "\n"
          ]
        },
        {
          "output_type": "stream",
          "name": "stdout",
          "text": [
            "\n",
            "      Epoch    GPU_mem   box_loss   cls_loss   dfl_loss  Instances       Size\n"
          ]
        },
        {
          "output_type": "stream",
          "name": "stderr",
          "text": [
            "     46/100        21G       1.82      2.072      1.868         77        640: 100%|██████████| 19/19 [00:18<00:00,  1.00it/s]\n",
            "                 Class     Images  Instances      Box(P          R      mAP50  mAP50-95): 100%|██████████| 2/2 [00:01<00:00,  1.37it/s]"
          ]
        },
        {
          "output_type": "stream",
          "name": "stdout",
          "text": [
            "                   all         91         97      0.245      0.361      0.262     0.0991\n"
          ]
        },
        {
          "output_type": "stream",
          "name": "stderr",
          "text": [
            "\n"
          ]
        },
        {
          "output_type": "stream",
          "name": "stdout",
          "text": [
            "\n",
            "      Epoch    GPU_mem   box_loss   cls_loss   dfl_loss  Instances       Size\n"
          ]
        },
        {
          "output_type": "stream",
          "name": "stderr",
          "text": [
            "     47/100      20.9G      1.826      2.098      1.902         51        640: 100%|██████████| 19/19 [00:18<00:00,  1.01it/s]\n",
            "                 Class     Images  Instances      Box(P          R      mAP50  mAP50-95): 100%|██████████| 2/2 [00:01<00:00,  1.32it/s]"
          ]
        },
        {
          "output_type": "stream",
          "name": "stdout",
          "text": [
            "                   all         91         97      0.294      0.392      0.215     0.0893\n"
          ]
        },
        {
          "output_type": "stream",
          "name": "stderr",
          "text": [
            "\n"
          ]
        },
        {
          "output_type": "stream",
          "name": "stdout",
          "text": [
            "\n",
            "      Epoch    GPU_mem   box_loss   cls_loss   dfl_loss  Instances       Size\n"
          ]
        },
        {
          "output_type": "stream",
          "name": "stderr",
          "text": [
            "     48/100        21G      1.819      2.102      1.871         60        640: 100%|██████████| 19/19 [00:18<00:00,  1.00it/s]\n",
            "                 Class     Images  Instances      Box(P          R      mAP50  mAP50-95): 100%|██████████| 2/2 [00:01<00:00,  1.27it/s]"
          ]
        },
        {
          "output_type": "stream",
          "name": "stdout",
          "text": [
            "                   all         91         97      0.221      0.354      0.227     0.0859\n"
          ]
        },
        {
          "output_type": "stream",
          "name": "stderr",
          "text": [
            "\n"
          ]
        },
        {
          "output_type": "stream",
          "name": "stdout",
          "text": [
            "\n",
            "      Epoch    GPU_mem   box_loss   cls_loss   dfl_loss  Instances       Size\n"
          ]
        },
        {
          "output_type": "stream",
          "name": "stderr",
          "text": [
            "     49/100      20.9G      1.812      2.033      1.855         58        640: 100%|██████████| 19/19 [00:19<00:00,  1.00s/it]\n",
            "                 Class     Images  Instances      Box(P          R      mAP50  mAP50-95): 100%|██████████| 2/2 [00:01<00:00,  1.35it/s]"
          ]
        },
        {
          "output_type": "stream",
          "name": "stdout",
          "text": [
            "                   all         91         97      0.278      0.406      0.259     0.0911\n"
          ]
        },
        {
          "output_type": "stream",
          "name": "stderr",
          "text": [
            "\n"
          ]
        },
        {
          "output_type": "stream",
          "name": "stdout",
          "text": [
            "\n",
            "      Epoch    GPU_mem   box_loss   cls_loss   dfl_loss  Instances       Size\n"
          ]
        },
        {
          "output_type": "stream",
          "name": "stderr",
          "text": [
            "     50/100      20.9G      1.813      2.058      1.853         66        640: 100%|██████████| 19/19 [00:19<00:00,  1.00s/it]\n",
            "                 Class     Images  Instances      Box(P          R      mAP50  mAP50-95): 100%|██████████| 2/2 [00:01<00:00,  1.33it/s]"
          ]
        },
        {
          "output_type": "stream",
          "name": "stdout",
          "text": [
            "                   all         91         97      0.377       0.33      0.305      0.124\n"
          ]
        },
        {
          "output_type": "stream",
          "name": "stderr",
          "text": [
            "\n"
          ]
        },
        {
          "output_type": "stream",
          "name": "stdout",
          "text": [
            "\n",
            "      Epoch    GPU_mem   box_loss   cls_loss   dfl_loss  Instances       Size\n"
          ]
        },
        {
          "output_type": "stream",
          "name": "stderr",
          "text": [
            "     51/100      20.9G      1.779      1.976      1.838         68        640: 100%|██████████| 19/19 [00:18<00:00,  1.01it/s]\n",
            "                 Class     Images  Instances      Box(P          R      mAP50  mAP50-95): 100%|██████████| 2/2 [00:01<00:00,  1.35it/s]"
          ]
        },
        {
          "output_type": "stream",
          "name": "stdout",
          "text": [
            "                   all         91         97      0.341      0.423      0.269       0.11\n"
          ]
        },
        {
          "output_type": "stream",
          "name": "stderr",
          "text": [
            "\n"
          ]
        },
        {
          "output_type": "stream",
          "name": "stdout",
          "text": [
            "\n",
            "      Epoch    GPU_mem   box_loss   cls_loss   dfl_loss  Instances       Size\n"
          ]
        },
        {
          "output_type": "stream",
          "name": "stderr",
          "text": [
            "     52/100        21G      1.778      1.916      1.824         71        640: 100%|██████████| 19/19 [00:19<00:00,  1.00s/it]\n",
            "                 Class     Images  Instances      Box(P          R      mAP50  mAP50-95): 100%|██████████| 2/2 [00:01<00:00,  1.35it/s]"
          ]
        },
        {
          "output_type": "stream",
          "name": "stdout",
          "text": [
            "                   all         91         97      0.376      0.392      0.304      0.116\n"
          ]
        },
        {
          "output_type": "stream",
          "name": "stderr",
          "text": [
            "\n"
          ]
        },
        {
          "output_type": "stream",
          "name": "stdout",
          "text": [
            "\n",
            "      Epoch    GPU_mem   box_loss   cls_loss   dfl_loss  Instances       Size\n"
          ]
        },
        {
          "output_type": "stream",
          "name": "stderr",
          "text": [
            "     53/100      20.9G      1.803      1.982      1.849         56        640: 100%|██████████| 19/19 [00:18<00:00,  1.00it/s]\n",
            "                 Class     Images  Instances      Box(P          R      mAP50  mAP50-95): 100%|██████████| 2/2 [00:01<00:00,  1.37it/s]"
          ]
        },
        {
          "output_type": "stream",
          "name": "stdout",
          "text": [
            "                   all         91         97      0.341       0.33      0.282      0.102\n"
          ]
        },
        {
          "output_type": "stream",
          "name": "stderr",
          "text": [
            "\n"
          ]
        },
        {
          "output_type": "stream",
          "name": "stdout",
          "text": [
            "\n",
            "      Epoch    GPU_mem   box_loss   cls_loss   dfl_loss  Instances       Size\n"
          ]
        },
        {
          "output_type": "stream",
          "name": "stderr",
          "text": [
            "     54/100      20.9G      1.758      1.947      1.815         57        640: 100%|██████████| 19/19 [00:18<00:00,  1.00it/s]\n",
            "                 Class     Images  Instances      Box(P          R      mAP50  mAP50-95): 100%|██████████| 2/2 [00:01<00:00,  1.34it/s]"
          ]
        },
        {
          "output_type": "stream",
          "name": "stdout",
          "text": [
            "                   all         91         97      0.292       0.33      0.257     0.0861\n"
          ]
        },
        {
          "output_type": "stream",
          "name": "stderr",
          "text": [
            "\n"
          ]
        },
        {
          "output_type": "stream",
          "name": "stdout",
          "text": [
            "\n",
            "      Epoch    GPU_mem   box_loss   cls_loss   dfl_loss  Instances       Size\n"
          ]
        },
        {
          "output_type": "stream",
          "name": "stderr",
          "text": [
            "     55/100      20.9G       1.74      1.986      1.812         65        640: 100%|██████████| 19/19 [00:18<00:00,  1.00it/s]\n",
            "                 Class     Images  Instances      Box(P          R      mAP50  mAP50-95): 100%|██████████| 2/2 [00:01<00:00,  1.39it/s]"
          ]
        },
        {
          "output_type": "stream",
          "name": "stdout",
          "text": [
            "                   all         91         97      0.411      0.351      0.296      0.111\n"
          ]
        },
        {
          "output_type": "stream",
          "name": "stderr",
          "text": [
            "\n"
          ]
        },
        {
          "output_type": "stream",
          "name": "stdout",
          "text": [
            "\n",
            "      Epoch    GPU_mem   box_loss   cls_loss   dfl_loss  Instances       Size\n"
          ]
        },
        {
          "output_type": "stream",
          "name": "stderr",
          "text": [
            "     56/100      20.9G      1.772       1.97      1.813         66        640: 100%|██████████| 19/19 [00:19<00:00,  1.00s/it]\n",
            "                 Class     Images  Instances      Box(P          R      mAP50  mAP50-95): 100%|██████████| 2/2 [00:01<00:00,  1.31it/s]"
          ]
        },
        {
          "output_type": "stream",
          "name": "stdout",
          "text": [
            "                   all         91         97      0.409      0.278      0.317      0.125\n"
          ]
        },
        {
          "output_type": "stream",
          "name": "stderr",
          "text": [
            "\n"
          ]
        },
        {
          "output_type": "stream",
          "name": "stdout",
          "text": [
            "\n",
            "      Epoch    GPU_mem   box_loss   cls_loss   dfl_loss  Instances       Size\n"
          ]
        },
        {
          "output_type": "stream",
          "name": "stderr",
          "text": [
            "     57/100      20.9G      1.718      1.907      1.802         58        640: 100%|██████████| 19/19 [00:18<00:00,  1.00it/s]\n",
            "                 Class     Images  Instances      Box(P          R      mAP50  mAP50-95): 100%|██████████| 2/2 [00:01<00:00,  1.37it/s]"
          ]
        },
        {
          "output_type": "stream",
          "name": "stdout",
          "text": [
            "                   all         91         97      0.397      0.381      0.344      0.123\n"
          ]
        },
        {
          "output_type": "stream",
          "name": "stderr",
          "text": [
            "\n"
          ]
        },
        {
          "output_type": "stream",
          "name": "stdout",
          "text": [
            "\n",
            "      Epoch    GPU_mem   box_loss   cls_loss   dfl_loss  Instances       Size\n"
          ]
        },
        {
          "output_type": "stream",
          "name": "stderr",
          "text": [
            "     58/100        21G      1.776      1.985      1.829         58        640: 100%|██████████| 19/19 [00:19<00:00,  1.00s/it]\n",
            "                 Class     Images  Instances      Box(P          R      mAP50  mAP50-95): 100%|██████████| 2/2 [00:01<00:00,  1.34it/s]"
          ]
        },
        {
          "output_type": "stream",
          "name": "stdout",
          "text": [
            "                   all         91         97      0.406       0.34      0.322      0.119\n"
          ]
        },
        {
          "output_type": "stream",
          "name": "stderr",
          "text": [
            "\n"
          ]
        },
        {
          "output_type": "stream",
          "name": "stdout",
          "text": [
            "\n",
            "      Epoch    GPU_mem   box_loss   cls_loss   dfl_loss  Instances       Size\n"
          ]
        },
        {
          "output_type": "stream",
          "name": "stderr",
          "text": [
            "     59/100      20.9G      1.738      1.922      1.808         72        640: 100%|██████████| 19/19 [00:18<00:00,  1.00it/s]\n",
            "                 Class     Images  Instances      Box(P          R      mAP50  mAP50-95): 100%|██████████| 2/2 [00:01<00:00,  1.32it/s]"
          ]
        },
        {
          "output_type": "stream",
          "name": "stdout",
          "text": [
            "                   all         91         97      0.393      0.351      0.293      0.102\n"
          ]
        },
        {
          "output_type": "stream",
          "name": "stderr",
          "text": [
            "\n"
          ]
        },
        {
          "output_type": "stream",
          "name": "stdout",
          "text": [
            "\n",
            "      Epoch    GPU_mem   box_loss   cls_loss   dfl_loss  Instances       Size\n"
          ]
        },
        {
          "output_type": "stream",
          "name": "stderr",
          "text": [
            "     60/100      20.9G      1.747      1.904      1.766         77        640: 100%|██████████| 19/19 [00:19<00:00,  1.00s/it]\n",
            "                 Class     Images  Instances      Box(P          R      mAP50  mAP50-95): 100%|██████████| 2/2 [00:01<00:00,  1.37it/s]"
          ]
        },
        {
          "output_type": "stream",
          "name": "stdout",
          "text": [
            "                   all         91         97      0.352      0.464      0.338      0.141\n"
          ]
        },
        {
          "output_type": "stream",
          "name": "stderr",
          "text": [
            "\n"
          ]
        },
        {
          "output_type": "stream",
          "name": "stdout",
          "text": [
            "\n",
            "      Epoch    GPU_mem   box_loss   cls_loss   dfl_loss  Instances       Size\n"
          ]
        },
        {
          "output_type": "stream",
          "name": "stderr",
          "text": [
            "     61/100      20.9G      1.693      1.837      1.768         69        640: 100%|██████████| 19/19 [00:19<00:00,  1.00s/it]\n",
            "                 Class     Images  Instances      Box(P          R      mAP50  mAP50-95): 100%|██████████| 2/2 [00:01<00:00,  1.37it/s]"
          ]
        },
        {
          "output_type": "stream",
          "name": "stdout",
          "text": [
            "                   all         91         97      0.419       0.41      0.343      0.125\n"
          ]
        },
        {
          "output_type": "stream",
          "name": "stderr",
          "text": [
            "\n"
          ]
        },
        {
          "output_type": "stream",
          "name": "stdout",
          "text": [
            "\n",
            "      Epoch    GPU_mem   box_loss   cls_loss   dfl_loss  Instances       Size\n"
          ]
        },
        {
          "output_type": "stream",
          "name": "stderr",
          "text": [
            "     62/100      20.9G      1.704      1.888      1.782         69        640: 100%|██████████| 19/19 [00:19<00:00,  1.00s/it]\n",
            "                 Class     Images  Instances      Box(P          R      mAP50  mAP50-95): 100%|██████████| 2/2 [00:01<00:00,  1.29it/s]"
          ]
        },
        {
          "output_type": "stream",
          "name": "stdout",
          "text": [
            "                   all         91         97       0.42       0.34      0.335      0.131\n"
          ]
        },
        {
          "output_type": "stream",
          "name": "stderr",
          "text": [
            "\n"
          ]
        },
        {
          "output_type": "stream",
          "name": "stdout",
          "text": [
            "\n",
            "      Epoch    GPU_mem   box_loss   cls_loss   dfl_loss  Instances       Size\n"
          ]
        },
        {
          "output_type": "stream",
          "name": "stderr",
          "text": [
            "     63/100      20.9G      1.707      1.881      1.767         81        640: 100%|██████████| 19/19 [00:19<00:00,  1.00s/it]\n",
            "                 Class     Images  Instances      Box(P          R      mAP50  mAP50-95): 100%|██████████| 2/2 [00:01<00:00,  1.30it/s]"
          ]
        },
        {
          "output_type": "stream",
          "name": "stdout",
          "text": [
            "                   all         91         97      0.496       0.34      0.346      0.125\n"
          ]
        },
        {
          "output_type": "stream",
          "name": "stderr",
          "text": [
            "\n"
          ]
        },
        {
          "output_type": "stream",
          "name": "stdout",
          "text": [
            "\n",
            "      Epoch    GPU_mem   box_loss   cls_loss   dfl_loss  Instances       Size\n"
          ]
        },
        {
          "output_type": "stream",
          "name": "stderr",
          "text": [
            "     64/100      20.9G      1.667      1.837      1.734         70        640: 100%|██████████| 19/19 [00:18<00:00,  1.00it/s]\n",
            "                 Class     Images  Instances      Box(P          R      mAP50  mAP50-95): 100%|██████████| 2/2 [00:01<00:00,  1.37it/s]"
          ]
        },
        {
          "output_type": "stream",
          "name": "stdout",
          "text": [
            "                   all         91         97      0.538      0.371      0.401      0.154\n"
          ]
        },
        {
          "output_type": "stream",
          "name": "stderr",
          "text": [
            "\n"
          ]
        },
        {
          "output_type": "stream",
          "name": "stdout",
          "text": [
            "\n",
            "      Epoch    GPU_mem   box_loss   cls_loss   dfl_loss  Instances       Size\n"
          ]
        },
        {
          "output_type": "stream",
          "name": "stderr",
          "text": [
            "     65/100      20.9G      1.669      1.833      1.761         59        640: 100%|██████████| 19/19 [00:18<00:00,  1.00it/s]\n",
            "                 Class     Images  Instances      Box(P          R      mAP50  mAP50-95): 100%|██████████| 2/2 [00:01<00:00,  1.38it/s]"
          ]
        },
        {
          "output_type": "stream",
          "name": "stdout",
          "text": [
            "                   all         91         97      0.477      0.443      0.391      0.157\n"
          ]
        },
        {
          "output_type": "stream",
          "name": "stderr",
          "text": [
            "\n"
          ]
        },
        {
          "output_type": "stream",
          "name": "stdout",
          "text": [
            "\n",
            "      Epoch    GPU_mem   box_loss   cls_loss   dfl_loss  Instances       Size\n"
          ]
        },
        {
          "output_type": "stream",
          "name": "stderr",
          "text": [
            "     66/100      20.9G      1.688       1.81      1.772         58        640: 100%|██████████| 19/19 [00:19<00:00,  1.00s/it]\n",
            "                 Class     Images  Instances      Box(P          R      mAP50  mAP50-95): 100%|██████████| 2/2 [00:01<00:00,  1.37it/s]"
          ]
        },
        {
          "output_type": "stream",
          "name": "stdout",
          "text": [
            "                   all         91         97      0.629      0.289      0.366      0.156\n"
          ]
        },
        {
          "output_type": "stream",
          "name": "stderr",
          "text": [
            "\n"
          ]
        },
        {
          "output_type": "stream",
          "name": "stdout",
          "text": [
            "\n",
            "      Epoch    GPU_mem   box_loss   cls_loss   dfl_loss  Instances       Size\n"
          ]
        },
        {
          "output_type": "stream",
          "name": "stderr",
          "text": [
            "     67/100      20.9G      1.715      1.835      1.773         74        640: 100%|██████████| 19/19 [00:18<00:00,  1.00it/s]\n",
            "                 Class     Images  Instances      Box(P          R      mAP50  mAP50-95): 100%|██████████| 2/2 [00:01<00:00,  1.33it/s]"
          ]
        },
        {
          "output_type": "stream",
          "name": "stdout",
          "text": [
            "                   all         91         97      0.487      0.361      0.361      0.148\n"
          ]
        },
        {
          "output_type": "stream",
          "name": "stderr",
          "text": [
            "\n"
          ]
        },
        {
          "output_type": "stream",
          "name": "stdout",
          "text": [
            "\n",
            "      Epoch    GPU_mem   box_loss   cls_loss   dfl_loss  Instances       Size\n"
          ]
        },
        {
          "output_type": "stream",
          "name": "stderr",
          "text": [
            "     68/100        21G      1.677      1.786      1.751         74        640: 100%|██████████| 19/19 [00:19<00:00,  1.00s/it]\n",
            "                 Class     Images  Instances      Box(P          R      mAP50  mAP50-95): 100%|██████████| 2/2 [00:01<00:00,  1.35it/s]"
          ]
        },
        {
          "output_type": "stream",
          "name": "stdout",
          "text": [
            "                   all         91         97      0.429      0.412      0.342      0.128\n"
          ]
        },
        {
          "output_type": "stream",
          "name": "stderr",
          "text": [
            "\n"
          ]
        },
        {
          "output_type": "stream",
          "name": "stdout",
          "text": [
            "\n",
            "      Epoch    GPU_mem   box_loss   cls_loss   dfl_loss  Instances       Size\n"
          ]
        },
        {
          "output_type": "stream",
          "name": "stderr",
          "text": [
            "     69/100      20.9G       1.68      1.787      1.781         59        640: 100%|██████████| 19/19 [00:18<00:00,  1.00it/s]\n",
            "                 Class     Images  Instances      Box(P          R      mAP50  mAP50-95): 100%|██████████| 2/2 [00:01<00:00,  1.34it/s]"
          ]
        },
        {
          "output_type": "stream",
          "name": "stdout",
          "text": [
            "                   all         91         97      0.548       0.33      0.383      0.135\n"
          ]
        },
        {
          "output_type": "stream",
          "name": "stderr",
          "text": [
            "\n"
          ]
        },
        {
          "output_type": "stream",
          "name": "stdout",
          "text": [
            "\n",
            "      Epoch    GPU_mem   box_loss   cls_loss   dfl_loss  Instances       Size\n"
          ]
        },
        {
          "output_type": "stream",
          "name": "stderr",
          "text": [
            "     70/100      20.9G      1.653      1.756      1.736         67        640: 100%|██████████| 19/19 [00:18<00:00,  1.00it/s]\n",
            "                 Class     Images  Instances      Box(P          R      mAP50  mAP50-95): 100%|██████████| 2/2 [00:01<00:00,  1.36it/s]"
          ]
        },
        {
          "output_type": "stream",
          "name": "stdout",
          "text": [
            "                   all         91         97      0.426      0.381      0.347      0.133\n"
          ]
        },
        {
          "output_type": "stream",
          "name": "stderr",
          "text": [
            "\n"
          ]
        },
        {
          "output_type": "stream",
          "name": "stdout",
          "text": [
            "\n",
            "      Epoch    GPU_mem   box_loss   cls_loss   dfl_loss  Instances       Size\n"
          ]
        },
        {
          "output_type": "stream",
          "name": "stderr",
          "text": [
            "     71/100      20.9G      1.611      1.684      1.702         58        640: 100%|██████████| 19/19 [00:18<00:00,  1.00it/s]\n",
            "                 Class     Images  Instances      Box(P          R      mAP50  mAP50-95): 100%|██████████| 2/2 [00:01<00:00,  1.32it/s]"
          ]
        },
        {
          "output_type": "stream",
          "name": "stdout",
          "text": [
            "                   all         91         97      0.431      0.415      0.341      0.125\n"
          ]
        },
        {
          "output_type": "stream",
          "name": "stderr",
          "text": [
            "\n"
          ]
        },
        {
          "output_type": "stream",
          "name": "stdout",
          "text": [
            "\n",
            "      Epoch    GPU_mem   box_loss   cls_loss   dfl_loss  Instances       Size\n"
          ]
        },
        {
          "output_type": "stream",
          "name": "stderr",
          "text": [
            "     72/100        21G      1.665      1.737      1.717         75        640: 100%|██████████| 19/19 [00:19<00:00,  1.00s/it]\n",
            "                 Class     Images  Instances      Box(P          R      mAP50  mAP50-95): 100%|██████████| 2/2 [00:01<00:00,  1.38it/s]"
          ]
        },
        {
          "output_type": "stream",
          "name": "stdout",
          "text": [
            "                   all         91         97       0.51      0.439      0.443      0.169\n"
          ]
        },
        {
          "output_type": "stream",
          "name": "stderr",
          "text": [
            "\n"
          ]
        },
        {
          "output_type": "stream",
          "name": "stdout",
          "text": [
            "\n",
            "      Epoch    GPU_mem   box_loss   cls_loss   dfl_loss  Instances       Size\n"
          ]
        },
        {
          "output_type": "stream",
          "name": "stderr",
          "text": [
            "     73/100      20.9G      1.707      1.745      1.771         59        640: 100%|██████████| 19/19 [00:18<00:00,  1.00it/s]\n",
            "                 Class     Images  Instances      Box(P          R      mAP50  mAP50-95): 100%|██████████| 2/2 [00:01<00:00,  1.30it/s]"
          ]
        },
        {
          "output_type": "stream",
          "name": "stdout",
          "text": [
            "                   all         91         97      0.472      0.464      0.413      0.167\n"
          ]
        },
        {
          "output_type": "stream",
          "name": "stderr",
          "text": [
            "\n"
          ]
        },
        {
          "output_type": "stream",
          "name": "stdout",
          "text": [
            "\n",
            "      Epoch    GPU_mem   box_loss   cls_loss   dfl_loss  Instances       Size\n"
          ]
        },
        {
          "output_type": "stream",
          "name": "stderr",
          "text": [
            "     74/100        21G      1.604      1.702      1.715         64        640: 100%|██████████| 19/19 [00:19<00:00,  1.00s/it]\n",
            "                 Class     Images  Instances      Box(P          R      mAP50  mAP50-95): 100%|██████████| 2/2 [00:01<00:00,  1.36it/s]"
          ]
        },
        {
          "output_type": "stream",
          "name": "stdout",
          "text": [
            "                   all         91         97      0.467      0.495      0.399      0.154\n"
          ]
        },
        {
          "output_type": "stream",
          "name": "stderr",
          "text": [
            "\n"
          ]
        },
        {
          "output_type": "stream",
          "name": "stdout",
          "text": [
            "\n",
            "      Epoch    GPU_mem   box_loss   cls_loss   dfl_loss  Instances       Size\n"
          ]
        },
        {
          "output_type": "stream",
          "name": "stderr",
          "text": [
            "     75/100      20.9G      1.601      1.687      1.695         73        640: 100%|██████████| 19/19 [00:18<00:00,  1.00it/s]\n",
            "                 Class     Images  Instances      Box(P          R      mAP50  mAP50-95): 100%|██████████| 2/2 [00:01<00:00,  1.29it/s]"
          ]
        },
        {
          "output_type": "stream",
          "name": "stdout",
          "text": [
            "                   all         91         97      0.441      0.463        0.4      0.164\n"
          ]
        },
        {
          "output_type": "stream",
          "name": "stderr",
          "text": [
            "\n"
          ]
        },
        {
          "output_type": "stream",
          "name": "stdout",
          "text": [
            "\n",
            "      Epoch    GPU_mem   box_loss   cls_loss   dfl_loss  Instances       Size\n"
          ]
        },
        {
          "output_type": "stream",
          "name": "stderr",
          "text": [
            "     76/100      20.9G       1.61      1.756      1.722         76        640: 100%|██████████| 19/19 [00:19<00:00,  1.00s/it]\n",
            "                 Class     Images  Instances      Box(P          R      mAP50  mAP50-95): 100%|██████████| 2/2 [00:01<00:00,  1.38it/s]"
          ]
        },
        {
          "output_type": "stream",
          "name": "stdout",
          "text": [
            "                   all         91         97      0.419      0.515      0.434      0.171\n"
          ]
        },
        {
          "output_type": "stream",
          "name": "stderr",
          "text": [
            "\n"
          ]
        },
        {
          "output_type": "stream",
          "name": "stdout",
          "text": [
            "\n",
            "      Epoch    GPU_mem   box_loss   cls_loss   dfl_loss  Instances       Size\n"
          ]
        },
        {
          "output_type": "stream",
          "name": "stderr",
          "text": [
            "     77/100      20.9G      1.537      1.655      1.685         60        640: 100%|██████████| 19/19 [00:18<00:00,  1.00it/s]\n",
            "                 Class     Images  Instances      Box(P          R      mAP50  mAP50-95): 100%|██████████| 2/2 [00:01<00:00,  1.36it/s]"
          ]
        },
        {
          "output_type": "stream",
          "name": "stdout",
          "text": [
            "                   all         91         97      0.357      0.423      0.347      0.139\n"
          ]
        },
        {
          "output_type": "stream",
          "name": "stderr",
          "text": [
            "\n"
          ]
        },
        {
          "output_type": "stream",
          "name": "stdout",
          "text": [
            "\n",
            "      Epoch    GPU_mem   box_loss   cls_loss   dfl_loss  Instances       Size\n"
          ]
        },
        {
          "output_type": "stream",
          "name": "stderr",
          "text": [
            "     78/100      20.9G      1.588      1.638      1.687         67        640: 100%|██████████| 19/19 [00:19<00:00,  1.00s/it]\n",
            "                 Class     Images  Instances      Box(P          R      mAP50  mAP50-95): 100%|██████████| 2/2 [00:01<00:00,  1.31it/s]"
          ]
        },
        {
          "output_type": "stream",
          "name": "stdout",
          "text": [
            "                   all         91         97      0.408      0.464      0.386       0.15\n"
          ]
        },
        {
          "output_type": "stream",
          "name": "stderr",
          "text": [
            "\n"
          ]
        },
        {
          "output_type": "stream",
          "name": "stdout",
          "text": [
            "\n",
            "      Epoch    GPU_mem   box_loss   cls_loss   dfl_loss  Instances       Size\n"
          ]
        },
        {
          "output_type": "stream",
          "name": "stderr",
          "text": [
            "     79/100      20.9G      1.588      1.617      1.697         67        640: 100%|██████████| 19/19 [00:19<00:00,  1.00s/it]\n",
            "                 Class     Images  Instances      Box(P          R      mAP50  mAP50-95): 100%|██████████| 2/2 [00:01<00:00,  1.34it/s]"
          ]
        },
        {
          "output_type": "stream",
          "name": "stdout",
          "text": [
            "                   all         91         97      0.436      0.494      0.374      0.153\n"
          ]
        },
        {
          "output_type": "stream",
          "name": "stderr",
          "text": [
            "\n"
          ]
        },
        {
          "output_type": "stream",
          "name": "stdout",
          "text": [
            "\n",
            "      Epoch    GPU_mem   box_loss   cls_loss   dfl_loss  Instances       Size\n"
          ]
        },
        {
          "output_type": "stream",
          "name": "stderr",
          "text": [
            "     80/100        21G       1.56      1.599      1.646         76        640: 100%|██████████| 19/19 [00:19<00:00,  1.00s/it]\n",
            "                 Class     Images  Instances      Box(P          R      mAP50  mAP50-95): 100%|██████████| 2/2 [00:01<00:00,  1.34it/s]"
          ]
        },
        {
          "output_type": "stream",
          "name": "stdout",
          "text": [
            "                   all         91         97      0.411      0.433      0.379      0.159\n"
          ]
        },
        {
          "output_type": "stream",
          "name": "stderr",
          "text": [
            "\n"
          ]
        },
        {
          "output_type": "stream",
          "name": "stdout",
          "text": [
            "\n",
            "      Epoch    GPU_mem   box_loss   cls_loss   dfl_loss  Instances       Size\n"
          ]
        },
        {
          "output_type": "stream",
          "name": "stderr",
          "text": [
            "     81/100      20.9G      1.601      1.628      1.687         85        640: 100%|██████████| 19/19 [00:18<00:00,  1.00it/s]\n",
            "                 Class     Images  Instances      Box(P          R      mAP50  mAP50-95): 100%|██████████| 2/2 [00:01<00:00,  1.39it/s]"
          ]
        },
        {
          "output_type": "stream",
          "name": "stdout",
          "text": [
            "                   all         91         97      0.486       0.35      0.346      0.138\n"
          ]
        },
        {
          "output_type": "stream",
          "name": "stderr",
          "text": [
            "\n"
          ]
        },
        {
          "output_type": "stream",
          "name": "stdout",
          "text": [
            "\n",
            "      Epoch    GPU_mem   box_loss   cls_loss   dfl_loss  Instances       Size\n"
          ]
        },
        {
          "output_type": "stream",
          "name": "stderr",
          "text": [
            "     82/100      20.9G      1.549      1.567      1.657         54        640: 100%|██████████| 19/19 [00:18<00:00,  1.00it/s]\n",
            "                 Class     Images  Instances      Box(P          R      mAP50  mAP50-95): 100%|██████████| 2/2 [00:01<00:00,  1.37it/s]"
          ]
        },
        {
          "output_type": "stream",
          "name": "stdout",
          "text": [
            "                   all         91         97      0.406      0.505      0.417      0.164\n"
          ]
        },
        {
          "output_type": "stream",
          "name": "stderr",
          "text": [
            "\n"
          ]
        },
        {
          "output_type": "stream",
          "name": "stdout",
          "text": [
            "\n",
            "      Epoch    GPU_mem   box_loss   cls_loss   dfl_loss  Instances       Size\n"
          ]
        },
        {
          "output_type": "stream",
          "name": "stderr",
          "text": [
            "     83/100      20.9G      1.585      1.585      1.679         55        640: 100%|██████████| 19/19 [00:18<00:00,  1.00it/s]\n",
            "                 Class     Images  Instances      Box(P          R      mAP50  mAP50-95): 100%|██████████| 2/2 [00:01<00:00,  1.37it/s]"
          ]
        },
        {
          "output_type": "stream",
          "name": "stdout",
          "text": [
            "                   all         91         97       0.48      0.433      0.406      0.169\n"
          ]
        },
        {
          "output_type": "stream",
          "name": "stderr",
          "text": [
            "\n"
          ]
        },
        {
          "output_type": "stream",
          "name": "stdout",
          "text": [
            "\n",
            "      Epoch    GPU_mem   box_loss   cls_loss   dfl_loss  Instances       Size\n"
          ]
        },
        {
          "output_type": "stream",
          "name": "stderr",
          "text": [
            "     84/100      20.9G      1.577      1.567      1.671         60        640: 100%|██████████| 19/19 [00:19<00:00,  1.00s/it]\n",
            "                 Class     Images  Instances      Box(P          R      mAP50  mAP50-95): 100%|██████████| 2/2 [00:01<00:00,  1.33it/s]"
          ]
        },
        {
          "output_type": "stream",
          "name": "stdout",
          "text": [
            "                   all         91         97      0.422      0.495      0.404      0.162\n"
          ]
        },
        {
          "output_type": "stream",
          "name": "stderr",
          "text": [
            "\n"
          ]
        },
        {
          "output_type": "stream",
          "name": "stdout",
          "text": [
            "\n",
            "      Epoch    GPU_mem   box_loss   cls_loss   dfl_loss  Instances       Size\n"
          ]
        },
        {
          "output_type": "stream",
          "name": "stderr",
          "text": [
            "     85/100      20.9G      1.557      1.541      1.659         68        640: 100%|██████████| 19/19 [00:18<00:00,  1.00it/s]\n",
            "                 Class     Images  Instances      Box(P          R      mAP50  mAP50-95): 100%|██████████| 2/2 [00:01<00:00,  1.38it/s]"
          ]
        },
        {
          "output_type": "stream",
          "name": "stdout",
          "text": [
            "                   all         91         97        0.5      0.433      0.412      0.168\n"
          ]
        },
        {
          "output_type": "stream",
          "name": "stderr",
          "text": [
            "\n"
          ]
        },
        {
          "output_type": "stream",
          "name": "stdout",
          "text": [
            "\n",
            "      Epoch    GPU_mem   box_loss   cls_loss   dfl_loss  Instances       Size\n"
          ]
        },
        {
          "output_type": "stream",
          "name": "stderr",
          "text": [
            "     86/100        21G      1.536      1.536      1.635         78        640: 100%|██████████| 19/19 [00:19<00:00,  1.00s/it]\n",
            "                 Class     Images  Instances      Box(P          R      mAP50  mAP50-95): 100%|██████████| 2/2 [00:01<00:00,  1.32it/s]"
          ]
        },
        {
          "output_type": "stream",
          "name": "stdout",
          "text": [
            "                   all         91         97      0.469      0.433      0.398      0.159\n"
          ]
        },
        {
          "output_type": "stream",
          "name": "stderr",
          "text": [
            "\n"
          ]
        },
        {
          "output_type": "stream",
          "name": "stdout",
          "text": [
            "\n",
            "      Epoch    GPU_mem   box_loss   cls_loss   dfl_loss  Instances       Size\n"
          ]
        },
        {
          "output_type": "stream",
          "name": "stderr",
          "text": [
            "     87/100      20.9G      1.547      1.542      1.641         60        640: 100%|██████████| 19/19 [00:18<00:00,  1.00it/s]\n",
            "                 Class     Images  Instances      Box(P          R      mAP50  mAP50-95): 100%|██████████| 2/2 [00:01<00:00,  1.33it/s]"
          ]
        },
        {
          "output_type": "stream",
          "name": "stdout",
          "text": [
            "                   all         91         97      0.487      0.536      0.456      0.176\n"
          ]
        },
        {
          "output_type": "stream",
          "name": "stderr",
          "text": [
            "\n"
          ]
        },
        {
          "output_type": "stream",
          "name": "stdout",
          "text": [
            "\n",
            "      Epoch    GPU_mem   box_loss   cls_loss   dfl_loss  Instances       Size\n"
          ]
        },
        {
          "output_type": "stream",
          "name": "stderr",
          "text": [
            "     88/100        21G      1.511      1.518       1.63         60        640: 100%|██████████| 19/19 [00:19<00:00,  1.00s/it]\n",
            "                 Class     Images  Instances      Box(P          R      mAP50  mAP50-95): 100%|██████████| 2/2 [00:01<00:00,  1.38it/s]"
          ]
        },
        {
          "output_type": "stream",
          "name": "stdout",
          "text": [
            "                   all         91         97      0.506      0.495      0.427      0.187\n"
          ]
        },
        {
          "output_type": "stream",
          "name": "stderr",
          "text": [
            "\n"
          ]
        },
        {
          "output_type": "stream",
          "name": "stdout",
          "text": [
            "\n",
            "      Epoch    GPU_mem   box_loss   cls_loss   dfl_loss  Instances       Size\n"
          ]
        },
        {
          "output_type": "stream",
          "name": "stderr",
          "text": [
            "     89/100      20.9G      1.553      1.526      1.656         55        640: 100%|██████████| 19/19 [00:18<00:00,  1.00it/s]\n",
            "                 Class     Images  Instances      Box(P          R      mAP50  mAP50-95): 100%|██████████| 2/2 [00:01<00:00,  1.40it/s]"
          ]
        },
        {
          "output_type": "stream",
          "name": "stdout",
          "text": [
            "                   all         91         97      0.425      0.536      0.444      0.185\n"
          ]
        },
        {
          "output_type": "stream",
          "name": "stderr",
          "text": [
            "\n"
          ]
        },
        {
          "output_type": "stream",
          "name": "stdout",
          "text": [
            "\n",
            "      Epoch    GPU_mem   box_loss   cls_loss   dfl_loss  Instances       Size\n"
          ]
        },
        {
          "output_type": "stream",
          "name": "stderr",
          "text": [
            "     90/100      20.9G      1.522      1.516      1.636         51        640: 100%|██████████| 19/19 [00:19<00:00,  1.00s/it]\n",
            "                 Class     Images  Instances      Box(P          R      mAP50  mAP50-95): 100%|██████████| 2/2 [00:01<00:00,  1.36it/s]"
          ]
        },
        {
          "output_type": "stream",
          "name": "stdout",
          "text": [
            "                   all         91         97      0.512      0.464      0.437      0.189\n"
          ]
        },
        {
          "output_type": "stream",
          "name": "stderr",
          "text": [
            "\n"
          ]
        },
        {
          "output_type": "stream",
          "name": "stdout",
          "text": [
            "Closing dataloader mosaic\n",
            "\u001b[34m\u001b[1malbumentations: \u001b[0mBlur(p=0.01, blur_limit=(3, 7)), MedianBlur(p=0.01, blur_limit=(3, 7)), ToGray(p=0.01, num_output_channels=3, method='weighted_average'), CLAHE(p=0.01, clip_limit=(1, 4.0), tile_grid_size=(8, 8))\n"
          ]
        },
        {
          "output_type": "stream",
          "name": "stderr",
          "text": [
            "/usr/lib/python3.10/multiprocessing/popen_fork.py:66: RuntimeWarning: os.fork() was called. os.fork() is incompatible with multithreaded code, and JAX is multithreaded, so this will likely lead to a deadlock.\n",
            "  self.pid = os.fork()\n"
          ]
        },
        {
          "output_type": "stream",
          "name": "stdout",
          "text": [
            "\n",
            "      Epoch    GPU_mem   box_loss   cls_loss   dfl_loss  Instances       Size\n"
          ]
        },
        {
          "output_type": "stream",
          "name": "stderr",
          "text": [
            "     91/100      20.9G      1.542       1.53      1.723         36        640: 100%|██████████| 19/19 [00:19<00:00,  1.04s/it]\n",
            "                 Class     Images  Instances      Box(P          R      mAP50  mAP50-95): 100%|██████████| 2/2 [00:01<00:00,  1.39it/s]"
          ]
        },
        {
          "output_type": "stream",
          "name": "stdout",
          "text": [
            "                   all         91         97       0.45      0.464      0.418      0.172\n"
          ]
        },
        {
          "output_type": "stream",
          "name": "stderr",
          "text": [
            "\n"
          ]
        },
        {
          "output_type": "stream",
          "name": "stdout",
          "text": [
            "\n",
            "      Epoch    GPU_mem   box_loss   cls_loss   dfl_loss  Instances       Size\n"
          ]
        },
        {
          "output_type": "stream",
          "name": "stderr",
          "text": [
            "     92/100        21G      1.502      1.406      1.701         34        640: 100%|██████████| 19/19 [00:18<00:00,  1.00it/s]\n",
            "                 Class     Images  Instances      Box(P          R      mAP50  mAP50-95): 100%|██████████| 2/2 [00:01<00:00,  1.37it/s]"
          ]
        },
        {
          "output_type": "stream",
          "name": "stdout",
          "text": [
            "                   all         91         97      0.458      0.526      0.425      0.188\n"
          ]
        },
        {
          "output_type": "stream",
          "name": "stderr",
          "text": [
            "\n"
          ]
        },
        {
          "output_type": "stream",
          "name": "stdout",
          "text": [
            "\n",
            "      Epoch    GPU_mem   box_loss   cls_loss   dfl_loss  Instances       Size\n"
          ]
        },
        {
          "output_type": "stream",
          "name": "stderr",
          "text": [
            "     93/100      20.9G      1.476      1.364      1.701         31        640: 100%|██████████| 19/19 [00:18<00:00,  1.00it/s]\n",
            "                 Class     Images  Instances      Box(P          R      mAP50  mAP50-95): 100%|██████████| 2/2 [00:01<00:00,  1.40it/s]"
          ]
        },
        {
          "output_type": "stream",
          "name": "stdout",
          "text": [
            "                   all         91         97      0.513      0.433      0.424      0.189\n"
          ]
        },
        {
          "output_type": "stream",
          "name": "stderr",
          "text": [
            "\n"
          ]
        },
        {
          "output_type": "stream",
          "name": "stdout",
          "text": [
            "\n",
            "      Epoch    GPU_mem   box_loss   cls_loss   dfl_loss  Instances       Size\n"
          ]
        },
        {
          "output_type": "stream",
          "name": "stderr",
          "text": [
            "     94/100      20.9G      1.507       1.37      1.732         35        640: 100%|██████████| 19/19 [00:18<00:00,  1.00it/s]\n",
            "                 Class     Images  Instances      Box(P          R      mAP50  mAP50-95): 100%|██████████| 2/2 [00:01<00:00,  1.32it/s]"
          ]
        },
        {
          "output_type": "stream",
          "name": "stdout",
          "text": [
            "                   all         91         97      0.492      0.479       0.44       0.18\n"
          ]
        },
        {
          "output_type": "stream",
          "name": "stderr",
          "text": [
            "\n"
          ]
        },
        {
          "output_type": "stream",
          "name": "stdout",
          "text": [
            "\n",
            "      Epoch    GPU_mem   box_loss   cls_loss   dfl_loss  Instances       Size\n"
          ]
        },
        {
          "output_type": "stream",
          "name": "stderr",
          "text": [
            "     95/100      20.9G      1.467      1.306      1.679         34        640: 100%|██████████| 19/19 [00:18<00:00,  1.00it/s]\n",
            "                 Class     Images  Instances      Box(P          R      mAP50  mAP50-95): 100%|██████████| 2/2 [00:01<00:00,  1.33it/s]"
          ]
        },
        {
          "output_type": "stream",
          "name": "stdout",
          "text": [
            "                   all         91         97      0.519      0.454      0.421       0.18\n"
          ]
        },
        {
          "output_type": "stream",
          "name": "stderr",
          "text": [
            "\n"
          ]
        },
        {
          "output_type": "stream",
          "name": "stdout",
          "text": [
            "\n",
            "      Epoch    GPU_mem   box_loss   cls_loss   dfl_loss  Instances       Size\n"
          ]
        },
        {
          "output_type": "stream",
          "name": "stderr",
          "text": [
            "     96/100      20.9G      1.456      1.298      1.676         31        640: 100%|██████████| 19/19 [00:18<00:00,  1.00it/s]\n",
            "                 Class     Images  Instances      Box(P          R      mAP50  mAP50-95): 100%|██████████| 2/2 [00:01<00:00,  1.35it/s]"
          ]
        },
        {
          "output_type": "stream",
          "name": "stdout",
          "text": [
            "                   all         91         97      0.595      0.433      0.456      0.194\n"
          ]
        },
        {
          "output_type": "stream",
          "name": "stderr",
          "text": [
            "\n"
          ]
        },
        {
          "output_type": "stream",
          "name": "stdout",
          "text": [
            "\n",
            "      Epoch    GPU_mem   box_loss   cls_loss   dfl_loss  Instances       Size\n"
          ]
        },
        {
          "output_type": "stream",
          "name": "stderr",
          "text": [
            "     97/100      20.9G      1.437      1.277      1.658         35        640: 100%|██████████| 19/19 [00:18<00:00,  1.00it/s]\n",
            "                 Class     Images  Instances      Box(P          R      mAP50  mAP50-95): 100%|██████████| 2/2 [00:01<00:00,  1.35it/s]"
          ]
        },
        {
          "output_type": "stream",
          "name": "stdout",
          "text": [
            "                   all         91         97      0.616      0.412      0.464      0.189\n"
          ]
        },
        {
          "output_type": "stream",
          "name": "stderr",
          "text": [
            "\n"
          ]
        },
        {
          "output_type": "stream",
          "name": "stdout",
          "text": [
            "\n",
            "      Epoch    GPU_mem   box_loss   cls_loss   dfl_loss  Instances       Size\n"
          ]
        },
        {
          "output_type": "stream",
          "name": "stderr",
          "text": [
            "     98/100        21G      1.433      1.268      1.658         44        640: 100%|██████████| 19/19 [00:19<00:00,  1.00s/it]\n",
            "                 Class     Images  Instances      Box(P          R      mAP50  mAP50-95): 100%|██████████| 2/2 [00:01<00:00,  1.33it/s]"
          ]
        },
        {
          "output_type": "stream",
          "name": "stdout",
          "text": [
            "                   all         91         97      0.488      0.485      0.471      0.187\n"
          ]
        },
        {
          "output_type": "stream",
          "name": "stderr",
          "text": [
            "\n"
          ]
        },
        {
          "output_type": "stream",
          "name": "stdout",
          "text": [
            "\n",
            "      Epoch    GPU_mem   box_loss   cls_loss   dfl_loss  Instances       Size\n"
          ]
        },
        {
          "output_type": "stream",
          "name": "stderr",
          "text": [
            "     99/100      20.9G      1.418      1.242      1.623         32        640: 100%|██████████| 19/19 [00:19<00:00,  1.00s/it]\n",
            "                 Class     Images  Instances      Box(P          R      mAP50  mAP50-95): 100%|██████████| 2/2 [00:01<00:00,  1.37it/s]"
          ]
        },
        {
          "output_type": "stream",
          "name": "stdout",
          "text": [
            "                   all         91         97      0.461      0.505      0.463      0.186\n"
          ]
        },
        {
          "output_type": "stream",
          "name": "stderr",
          "text": [
            "\n"
          ]
        },
        {
          "output_type": "stream",
          "name": "stdout",
          "text": [
            "\n",
            "      Epoch    GPU_mem   box_loss   cls_loss   dfl_loss  Instances       Size\n"
          ]
        },
        {
          "output_type": "stream",
          "name": "stderr",
          "text": [
            "    100/100      20.9G      1.434      1.243       1.66         39        640: 100%|██████████| 19/19 [00:19<00:00,  1.00s/it]\n",
            "                 Class     Images  Instances      Box(P          R      mAP50  mAP50-95): 100%|██████████| 2/2 [00:01<00:00,  1.35it/s]"
          ]
        },
        {
          "output_type": "stream",
          "name": "stdout",
          "text": [
            "                   all         91         97       0.61      0.392      0.446      0.183\n"
          ]
        },
        {
          "output_type": "stream",
          "name": "stderr",
          "text": [
            "\n"
          ]
        },
        {
          "output_type": "stream",
          "name": "stdout",
          "text": [
            "\n",
            "100 epochs completed in 0.611 hours.\n",
            "Optimizer stripped from runs/detect/train/weights/last.pt, 51.6MB\n",
            "Optimizer stripped from runs/detect/train/weights/best.pt, 51.6MB\n",
            "\n",
            "Validating runs/detect/train/weights/best.pt...\n",
            "Ultralytics YOLOv8.2.99 🚀 Python-3.10.12 torch-2.4.1+cu121 CUDA:0 (NVIDIA L4, 22700MiB)\n",
            "YOLOv9c summary (fused): 384 layers, 25,320,019 parameters, 0 gradients, 102.3 GFLOPs\n"
          ]
        },
        {
          "output_type": "stream",
          "name": "stderr",
          "text": [
            "                 Class     Images  Instances      Box(P          R      mAP50  mAP50-95): 100%|██████████| 2/2 [00:01<00:00,  1.61it/s]\n"
          ]
        },
        {
          "output_type": "stream",
          "name": "stdout",
          "text": [
            "                   all         91         97      0.595      0.433      0.459      0.195\n",
            "Speed: 0.2ms preprocess, 9.8ms inference, 0.0ms loss, 0.7ms postprocess per image\n",
            "Results saved to \u001b[1mruns/detect/train\u001b[0m\n"
          ]
        }
      ]
    },
    {
      "cell_type": "markdown",
      "source": [],
      "metadata": {
        "id": "D16ofwvn7EOJ"
      }
    }
  ]
}