{
  "nbformat": 4,
  "nbformat_minor": 0,
  "metadata": {
    "colab": {
      "provenance": [],
      "gpuType": "T4"
    },
    "kernelspec": {
      "name": "python3",
      "display_name": "Python 3"
    },
    "language_info": {
      "name": "python"
    },
    "accelerator": "GPU"
  },
  "cells": [
    {
      "cell_type": "code",
      "execution_count": 1,
      "metadata": {
        "colab": {
          "base_uri": "https://localhost:8080/"
        },
        "id": "iRGohlNhPyun",
        "outputId": "ddf45b00-73ac-4760-b3d4-0628ec670b99"
      },
      "outputs": [
        {
          "output_type": "stream",
          "name": "stdout",
          "text": [
            "Tue Oct 15 20:57:08 2024       \n",
            "+---------------------------------------------------------------------------------------+\n",
            "| NVIDIA-SMI 535.104.05             Driver Version: 535.104.05   CUDA Version: 12.2     |\n",
            "|-----------------------------------------+----------------------+----------------------+\n",
            "| GPU  Name                 Persistence-M | Bus-Id        Disp.A | Volatile Uncorr. ECC |\n",
            "| Fan  Temp   Perf          Pwr:Usage/Cap |         Memory-Usage | GPU-Util  Compute M. |\n",
            "|                                         |                      |               MIG M. |\n",
            "|=========================================+======================+======================|\n",
            "|   0  Tesla T4                       Off | 00000000:00:04.0 Off |                    0 |\n",
            "| N/A   50C    P8              10W /  70W |      0MiB / 15360MiB |      0%      Default |\n",
            "|                                         |                      |                  N/A |\n",
            "+-----------------------------------------+----------------------+----------------------+\n",
            "                                                                                         \n",
            "+---------------------------------------------------------------------------------------+\n",
            "| Processes:                                                                            |\n",
            "|  GPU   GI   CI        PID   Type   Process name                            GPU Memory |\n",
            "|        ID   ID                                                             Usage      |\n",
            "|=======================================================================================|\n",
            "|  No running processes found                                                           |\n",
            "+---------------------------------------------------------------------------------------+\n"
          ]
        }
      ],
      "source": [
        "!nvidia-smi"
      ]
    },
    {
      "cell_type": "code",
      "source": [
        "from google.colab import drive\n",
        "drive.mount('/content/drive')"
      ],
      "metadata": {
        "colab": {
          "base_uri": "https://localhost:8080/"
        },
        "id": "ZXdkG0oTP4Fp",
        "outputId": "5ddbb19e-a34e-48ca-b8eb-420d5fbcea3d"
      },
      "execution_count": 2,
      "outputs": [
        {
          "output_type": "stream",
          "name": "stdout",
          "text": [
            "Mounted at /content/drive\n"
          ]
        }
      ]
    },
    {
      "cell_type": "code",
      "source": [
        "!unzip /content/drive/MyDrive/+_648_640_640_label_ceo.v1i.yolov7pytorch.zip"
      ],
      "metadata": {
        "id": "IdrfiHhUP6tY",
        "colab": {
          "base_uri": "https://localhost:8080/"
        },
        "outputId": "5bdea9fa-00fe-4821-bfe6-1107807b3e47"
      },
      "execution_count": 3,
      "outputs": [
        {
          "output_type": "stream",
          "name": "stdout",
          "text": [
            "Archive:  /content/drive/MyDrive/+_648_640_640_label_ceo.v1i.yolov7pytorch.zip\n",
            "   creating: +_648_640_640_label_ceo.v1i.yolov7pytorch/\n",
            "  inflating: __MACOSX/._+_648_640_640_label_ceo.v1i.yolov7pytorch  \n",
            "  inflating: +_648_640_640_label_ceo.v1i.yolov7pytorch/README.roboflow.txt  \n",
            "  inflating: __MACOSX/+_648_640_640_label_ceo.v1i.yolov7pytorch/._README.roboflow.txt  \n",
            "   creating: +_648_640_640_label_ceo.v1i.yolov7pytorch/valid/\n",
            "  inflating: __MACOSX/+_648_640_640_label_ceo.v1i.yolov7pytorch/._valid  \n",
            "  inflating: +_648_640_640_label_ceo.v1i.yolov7pytorch/README.dataset.txt  \n",
            "  inflating: __MACOSX/+_648_640_640_label_ceo.v1i.yolov7pytorch/._README.dataset.txt  \n",
            "  inflating: +_648_640_640_label_ceo.v1i.yolov7pytorch/.DS_Store  \n",
            "  inflating: __MACOSX/+_648_640_640_label_ceo.v1i.yolov7pytorch/._.DS_Store  \n",
            "   creating: +_648_640_640_label_ceo.v1i.yolov7pytorch/test/\n",
            "  inflating: __MACOSX/+_648_640_640_label_ceo.v1i.yolov7pytorch/._test  \n",
            "  inflating: +_648_640_640_label_ceo.v1i.yolov7pytorch/data.yaml  \n",
            "  inflating: __MACOSX/+_648_640_640_label_ceo.v1i.yolov7pytorch/._data.yaml  \n",
            "   creating: +_648_640_640_label_ceo.v1i.yolov7pytorch/train/\n",
            "  inflating: __MACOSX/+_648_640_640_label_ceo.v1i.yolov7pytorch/._train  \n",
            "   creating: +_648_640_640_label_ceo.v1i.yolov7pytorch/valid/images/\n",
            "  inflating: __MACOSX/+_648_640_640_label_ceo.v1i.yolov7pytorch/valid/._images  \n",
            "   creating: +_648_640_640_label_ceo.v1i.yolov7pytorch/valid/labels/\n",
            "  inflating: __MACOSX/+_648_640_640_label_ceo.v1i.yolov7pytorch/valid/._labels  \n",
            "  inflating: +_648_640_640_label_ceo.v1i.yolov7pytorch/test/.DS_Store  \n",
            "  inflating: __MACOSX/+_648_640_640_label_ceo.v1i.yolov7pytorch/test/._.DS_Store  \n",
            "   creating: +_648_640_640_label_ceo.v1i.yolov7pytorch/test/images/\n",
            "  inflating: __MACOSX/+_648_640_640_label_ceo.v1i.yolov7pytorch/test/._images  \n",
            "   creating: +_648_640_640_label_ceo.v1i.yolov7pytorch/test/labels/\n",
            "  inflating: __MACOSX/+_648_640_640_label_ceo.v1i.yolov7pytorch/test/._labels  \n",
            "   creating: +_648_640_640_label_ceo.v1i.yolov7pytorch/train/images/\n",
            "  inflating: __MACOSX/+_648_640_640_label_ceo.v1i.yolov7pytorch/train/._images  \n",
            "   creating: +_648_640_640_label_ceo.v1i.yolov7pytorch/train/labels/\n",
            "  inflating: __MACOSX/+_648_640_640_label_ceo.v1i.yolov7pytorch/train/._labels  \n",
            "  inflating: +_648_640_640_label_ceo.v1i.yolov7pytorch/valid/images/SEVERITY_V13_46_jpg.rf.cea5a0f8315870f409d91dec7bc48f1f.jpg  \n",
            "  inflating: __MACOSX/+_648_640_640_label_ceo.v1i.yolov7pytorch/valid/images/._SEVERITY_V13_46_jpg.rf.cea5a0f8315870f409d91dec7bc48f1f.jpg  \n",
            "  inflating: +_648_640_640_label_ceo.v1i.yolov7pytorch/valid/images/EXTREME-CAR-CRASH-1-HOUR-COMPILATION-BIGGEST-CAR-CRASHES-1_i_frame_43136_jpg.rf.60fc39b21720650b2cb88c03b86c75c9.jpg  \n",
            "  inflating: __MACOSX/+_648_640_640_label_ceo.v1i.yolov7pytorch/valid/images/._EXTREME-CAR-CRASH-1-HOUR-COMPILATION-BIGGEST-CAR-CRASHES-1_i_frame_43136_jpg.rf.60fc39b21720650b2cb88c03b86c75c9.jpg  \n",
            "  inflating: +_648_640_640_label_ceo.v1i.yolov7pytorch/valid/images/Screen-Shot-2022-04-08-at-6-20-23-AM_png_jpg.rf.279cf2e6ed13b705324a4f79c72e70ed.jpg  \n",
            "  inflating: __MACOSX/+_648_640_640_label_ceo.v1i.yolov7pytorch/valid/images/._Screen-Shot-2022-04-08-at-6-20-23-AM_png_jpg.rf.279cf2e6ed13b705324a4f79c72e70ed.jpg  \n",
            "  inflating: +_648_640_640_label_ceo.v1i.yolov7pytorch/valid/images/IMG_2199_PNG_jpg.rf.1f3c50fb75131db8587195bcdafbd725.jpg  \n",
            "  inflating: __MACOSX/+_648_640_640_label_ceo.v1i.yolov7pytorch/valid/images/._IMG_2199_PNG_jpg.rf.1f3c50fb75131db8587195bcdafbd725.jpg  \n",
            "  inflating: +_648_640_640_label_ceo.v1i.yolov7pytorch/valid/images/SEVERITY_DATA_27_jpg.rf.13e02feaeefea3bc0258662f3563f76a.jpg  \n",
            "  inflating: __MACOSX/+_648_640_640_label_ceo.v1i.yolov7pytorch/valid/images/._SEVERITY_DATA_27_jpg.rf.13e02feaeefea3bc0258662f3563f76a.jpg  \n",
            "  inflating: +_648_640_640_label_ceo.v1i.yolov7pytorch/valid/images/accidentFrame495_jpg.rf.25baf739a95e124061b4adcd41c0f113.jpg  \n",
            "  inflating: __MACOSX/+_648_640_640_label_ceo.v1i.yolov7pytorch/valid/images/._accidentFrame495_jpg.rf.25baf739a95e124061b4adcd41c0f113.jpg  \n",
            "  inflating: +_648_640_640_label_ceo.v1i.yolov7pytorch/valid/images/SEEEEVERITY_216_jpg.rf.e8310168d73fd8db74ca0cb1fb068678.jpg  \n",
            "  inflating: __MACOSX/+_648_640_640_label_ceo.v1i.yolov7pytorch/valid/images/._SEEEEVERITY_216_jpg.rf.e8310168d73fd8db74ca0cb1fb068678.jpg  \n",
            "  inflating: +_648_640_640_label_ceo.v1i.yolov7pytorch/valid/images/SEV_V8_Img_45_jpg.rf.5c78239732b39cf3e773c98bf48c31ec.jpg  \n",
            "  inflating: __MACOSX/+_648_640_640_label_ceo.v1i.yolov7pytorch/valid/images/._SEV_V8_Img_45_jpg.rf.5c78239732b39cf3e773c98bf48c31ec.jpg  \n",
            "  inflating: +_648_640_640_label_ceo.v1i.yolov7pytorch/valid/images/SEV_22_2856_jpg.rf.a19aa76706bd9c9e8f265113375ecc42.jpg  \n",
            "  inflating: __MACOSX/+_648_640_640_label_ceo.v1i.yolov7pytorch/valid/images/._SEV_22_2856_jpg.rf.a19aa76706bd9c9e8f265113375ecc42.jpg  \n",
            "  inflating: +_648_640_640_label_ceo.v1i.yolov7pytorch/valid/images/images-19-_jpeg_jpg.rf.154e0a8df288b44d567e5d6f7c4876c3.jpg  \n",
            "  inflating: __MACOSX/+_648_640_640_label_ceo.v1i.yolov7pytorch/valid/images/._images-19-_jpeg_jpg.rf.154e0a8df288b44d567e5d6f7c4876c3.jpg  \n",
            "  inflating: +_648_640_640_label_ceo.v1i.yolov7pytorch/valid/images/severityV4_51_jpg.rf.446bb328406fd35c2143331fe6f457ce.jpg  \n",
            "  inflating: __MACOSX/+_648_640_640_label_ceo.v1i.yolov7pytorch/valid/images/._severityV4_51_jpg.rf.446bb328406fd35c2143331fe6f457ce.jpg  \n",
            "  inflating: +_648_640_640_label_ceo.v1i.yolov7pytorch/valid/images/Semi-RealisticVD-31_jpg.rf.c9277def87820d9acddc7f6a492431c9.jpg  \n",
            "  inflating: __MACOSX/+_648_640_640_label_ceo.v1i.yolov7pytorch/valid/images/._Semi-RealisticVD-31_jpg.rf.c9277def87820d9acddc7f6a492431c9.jpg  \n",
            "  inflating: +_648_640_640_label_ceo.v1i.yolov7pytorch/valid/images/IMG_1571_PNG_jpg.rf.b534dc357a22ad0d3c00e9a29d877dba.jpg  \n",
            "  inflating: __MACOSX/+_648_640_640_label_ceo.v1i.yolov7pytorch/valid/images/._IMG_1571_PNG_jpg.rf.b534dc357a22ad0d3c00e9a29d877dba.jpg  \n",
            "  inflating: +_648_640_640_label_ceo.v1i.yolov7pytorch/valid/images/trafficseverity_img2956_jpg.rf.115bb79c9875528c6f8b9d267043b9c8.jpg  \n",
            "  inflating: __MACOSX/+_648_640_640_label_ceo.v1i.yolov7pytorch/valid/images/._trafficseverity_img2956_jpg.rf.115bb79c9875528c6f8b9d267043b9c8.jpg  \n",
            "  inflating: +_648_640_640_label_ceo.v1i.yolov7pytorch/valid/images/accidentFrame7982_jpg.rf.bc424ec5d3f0712286f4da9dc2d07570.jpg  \n",
            "  inflating: __MACOSX/+_648_640_640_label_ceo.v1i.yolov7pytorch/valid/images/._accidentFrame7982_jpg.rf.bc424ec5d3f0712286f4da9dc2d07570.jpg  \n",
            "  inflating: +_648_640_640_label_ceo.v1i.yolov7pytorch/valid/images/SEV_V8_Img_84_jpg.rf.c73daa577db173e2850cea5b888fd210.jpg  \n",
            "  inflating: __MACOSX/+_648_640_640_label_ceo.v1i.yolov7pytorch/valid/images/._SEV_V8_Img_84_jpg.rf.c73daa577db173e2850cea5b888fd210.jpg  \n",
            "  inflating: +_648_640_640_label_ceo.v1i.yolov7pytorch/valid/images/SEV_22_2900_jpg.rf.6c684b3eae6100095ae6a535e85dcfa1.jpg  \n",
            "  inflating: __MACOSX/+_648_640_640_label_ceo.v1i.yolov7pytorch/valid/images/._SEV_22_2900_jpg.rf.6c684b3eae6100095ae6a535e85dcfa1.jpg  \n",
            "  inflating: +_648_640_640_label_ceo.v1i.yolov7pytorch/valid/images/trafficseverity_img637_jpg.rf.c2a84c19a3d50db7b781d8f8ae0d6f1a.jpg  \n",
            "  inflating: __MACOSX/+_648_640_640_label_ceo.v1i.yolov7pytorch/valid/images/._trafficseverity_img637_jpg.rf.c2a84c19a3d50db7b781d8f8ae0d6f1a.jpg  \n",
            "  inflating: +_648_640_640_label_ceo.v1i.yolov7pytorch/valid/images/traffic_img4444_jpg.rf.93e52e3933a624b5c0fc509b226506a3.jpg  \n",
            "  inflating: __MACOSX/+_648_640_640_label_ceo.v1i.yolov7pytorch/valid/images/._traffic_img4444_jpg.rf.93e52e3933a624b5c0fc509b226506a3.jpg  \n",
            "  inflating: +_648_640_640_label_ceo.v1i.yolov7pytorch/valid/images/IMG_2382_PNG_jpg.rf.b488ac040f85a3fbdeede931ed3e1b04.jpg  \n",
            "  inflating: __MACOSX/+_648_640_640_label_ceo.v1i.yolov7pytorch/valid/images/._IMG_2382_PNG_jpg.rf.b488ac040f85a3fbdeede931ed3e1b04.jpg  \n",
            "  inflating: +_648_640_640_label_ceo.v1i.yolov7pytorch/valid/images/accidentFrame252_jpg.rf.743b4a8bafd5278fc03ba9b485ac1da7.jpg  \n",
            "  inflating: __MACOSX/+_648_640_640_label_ceo.v1i.yolov7pytorch/valid/images/._accidentFrame252_jpg.rf.743b4a8bafd5278fc03ba9b485ac1da7.jpg  \n",
            "  inflating: +_648_640_640_label_ceo.v1i.yolov7pytorch/valid/images/SEVERITY_V10_110_jpg.rf.6404f0706c47435c0dca97408e2da20b.jpg  \n",
            "  inflating: __MACOSX/+_648_640_640_label_ceo.v1i.yolov7pytorch/valid/images/._SEVERITY_V10_110_jpg.rf.6404f0706c47435c0dca97408e2da20b.jpg  \n",
            "  inflating: +_648_640_640_label_ceo.v1i.yolov7pytorch/valid/images/Screen-Shot-2022-04-07-at-7-42-37-PM_png_jpg.rf.0ee65e156dfc308a5a4f9a1cd828a7ea.jpg  \n",
            "  inflating: __MACOSX/+_648_640_640_label_ceo.v1i.yolov7pytorch/valid/images/._Screen-Shot-2022-04-07-at-7-42-37-PM_png_jpg.rf.0ee65e156dfc308a5a4f9a1cd828a7ea.jpg  \n",
            "  inflating: +_648_640_640_label_ceo.v1i.yolov7pytorch/valid/images/traffic_img2217_jpg.rf.0041b10405f5ae26cb7964052f1a7c6d.jpg  \n",
            "  inflating: __MACOSX/+_648_640_640_label_ceo.v1i.yolov7pytorch/valid/images/._traffic_img2217_jpg.rf.0041b10405f5ae26cb7964052f1a7c6d.jpg  \n",
            "  inflating: +_648_640_640_label_ceo.v1i.yolov7pytorch/valid/images/trafficseverity_img5567_jpg.rf.1404221a817bde330f80358a34b1cd2d.jpg  \n",
            "  inflating: __MACOSX/+_648_640_640_label_ceo.v1i.yolov7pytorch/valid/images/._trafficseverity_img5567_jpg.rf.1404221a817bde330f80358a34b1cd2d.jpg  \n",
            "  inflating: +_648_640_640_label_ceo.v1i.yolov7pytorch/valid/images/traffic_img189_jpg.rf.3e1b118ce74d8f05d5c41cc1b1d6788b.jpg  \n",
            "  inflating: __MACOSX/+_648_640_640_label_ceo.v1i.yolov7pytorch/valid/images/._traffic_img189_jpg.rf.3e1b118ce74d8f05d5c41cc1b1d6788b.jpg  \n",
            "  inflating: +_648_640_640_label_ceo.v1i.yolov7pytorch/valid/images/SEEEEVERITY_60_jpg.rf.21664b1798549be3b8dde22e06cd066a.jpg  \n",
            "  inflating: __MACOSX/+_648_640_640_label_ceo.v1i.yolov7pytorch/valid/images/._SEEEEVERITY_60_jpg.rf.21664b1798549be3b8dde22e06cd066a.jpg  \n",
            "  inflating: +_648_640_640_label_ceo.v1i.yolov7pytorch/valid/images/SEV_V8_Img_12_jpg.rf.6f36517a9f5e8e44c597252da03ad33c.jpg  \n",
            "  inflating: __MACOSX/+_648_640_640_label_ceo.v1i.yolov7pytorch/valid/images/._SEV_V8_Img_12_jpg.rf.6f36517a9f5e8e44c597252da03ad33c.jpg  \n",
            "  inflating: +_648_640_640_label_ceo.v1i.yolov7pytorch/valid/images/SEEEEVERITY_72_jpg.rf.b367220ea3bdd438b96990d92bf30ed1.jpg  \n",
            "  inflating: __MACOSX/+_648_640_640_label_ceo.v1i.yolov7pytorch/valid/images/._SEEEEVERITY_72_jpg.rf.b367220ea3bdd438b96990d92bf30ed1.jpg  \n",
            "  inflating: +_648_640_640_label_ceo.v1i.yolov7pytorch/valid/images/IMG_1954_PNG_jpg.rf.b8e3b466584992bbe9220c1abc64e268.jpg  \n",
            "  inflating: __MACOSX/+_648_640_640_label_ceo.v1i.yolov7pytorch/valid/images/._IMG_1954_PNG_jpg.rf.b8e3b466584992bbe9220c1abc64e268.jpg  \n",
            "  inflating: +_648_640_640_label_ceo.v1i.yolov7pytorch/valid/images/severityV4_50_jpg.rf.163cc746a94406c5cdfa987728de128f.jpg  \n",
            "  inflating: __MACOSX/+_648_640_640_label_ceo.v1i.yolov7pytorch/valid/images/._severityV4_50_jpg.rf.163cc746a94406c5cdfa987728de128f.jpg  \n",
            "  inflating: +_648_640_640_label_ceo.v1i.yolov7pytorch/valid/images/IMG_2032_PNG_jpg.rf.48c156378243e75c6ec82cbaf41c19e6.jpg  \n",
            "  inflating: __MACOSX/+_648_640_640_label_ceo.v1i.yolov7pytorch/valid/images/._IMG_2032_PNG_jpg.rf.48c156378243e75c6ec82cbaf41c19e6.jpg  \n",
            "  inflating: +_648_640_640_label_ceo.v1i.yolov7pytorch/valid/images/IMG_1464_PNG_jpg.rf.19cb8ef9f4a7438bf46da9d8c8d49c31.jpg  \n",
            "  inflating: __MACOSX/+_648_640_640_label_ceo.v1i.yolov7pytorch/valid/images/._IMG_1464_PNG_jpg.rf.19cb8ef9f4a7438bf46da9d8c8d49c31.jpg  \n",
            "  inflating: +_648_640_640_label_ceo.v1i.yolov7pytorch/valid/images/AD1_jpeg_jpg.rf.36f6614dd1285519562382d7fa8dee54.jpg  \n",
            "  inflating: __MACOSX/+_648_640_640_label_ceo.v1i.yolov7pytorch/valid/images/._AD1_jpeg_jpg.rf.36f6614dd1285519562382d7fa8dee54.jpg  \n",
            "  inflating: +_648_640_640_label_ceo.v1i.yolov7pytorch/valid/images/trafficseverity_img1077_jpg.rf.d36adad2dbf24ddc5050ffdbff251f8a.jpg  \n",
            "  inflating: __MACOSX/+_648_640_640_label_ceo.v1i.yolov7pytorch/valid/images/._trafficseverity_img1077_jpg.rf.d36adad2dbf24ddc5050ffdbff251f8a.jpg  \n",
            "  inflating: +_648_640_640_label_ceo.v1i.yolov7pytorch/valid/images/buy3_jpg.rf.778b2f648441214823ccea7f9d46dd87.jpg  \n",
            "  inflating: __MACOSX/+_648_640_640_label_ceo.v1i.yolov7pytorch/valid/images/._buy3_jpg.rf.778b2f648441214823ccea7f9d46dd87.jpg  \n",
            "  inflating: +_648_640_640_label_ceo.v1i.yolov7pytorch/valid/images/Screen-Shot-2022-04-07-at-8-10-38-AM_png_jpg.rf.23bde1f121697ccf7f7003bc213cf092.jpg  \n",
            "  inflating: __MACOSX/+_648_640_640_label_ceo.v1i.yolov7pytorch/valid/images/._Screen-Shot-2022-04-07-at-8-10-38-AM_png_jpg.rf.23bde1f121697ccf7f7003bc213cf092.jpg  \n",
            "  inflating: +_648_640_640_label_ceo.v1i.yolov7pytorch/valid/images/SEEEEVERITY_259_jpg.rf.782a36de6ad5720ffe8705f9f1180c1d.jpg  \n",
            "  inflating: __MACOSX/+_648_640_640_label_ceo.v1i.yolov7pytorch/valid/images/._SEEEEVERITY_259_jpg.rf.782a36de6ad5720ffe8705f9f1180c1d.jpg  \n",
            "  inflating: +_648_640_640_label_ceo.v1i.yolov7pytorch/valid/images/IMG_2258_PNG_jpg.rf.f4d485eee3e77450afc1bd1ccf2d3740.jpg  \n",
            "  inflating: __MACOSX/+_648_640_640_label_ceo.v1i.yolov7pytorch/valid/images/._IMG_2258_PNG_jpg.rf.f4d485eee3e77450afc1bd1ccf2d3740.jpg  \n",
            "  inflating: +_648_640_640_label_ceo.v1i.yolov7pytorch/valid/images/SEV_V8_Img_33_jpg.rf.9f760a5220bca5075135dca05f65fabc.jpg  \n",
            "  inflating: __MACOSX/+_648_640_640_label_ceo.v1i.yolov7pytorch/valid/images/._SEV_V8_Img_33_jpg.rf.9f760a5220bca5075135dca05f65fabc.jpg  \n",
            "  inflating: +_648_640_640_label_ceo.v1i.yolov7pytorch/valid/images/images-7_jpg.rf.3de5afd2c86993622782f21b69ae0a11.jpg  \n",
            "  inflating: __MACOSX/+_648_640_640_label_ceo.v1i.yolov7pytorch/valid/images/._images-7_jpg.rf.3de5afd2c86993622782f21b69ae0a11.jpg  \n",
            "  inflating: +_648_640_640_label_ceo.v1i.yolov7pytorch/valid/images/SEV_22_139_jpg.rf.0633a9eb31f0a57f9d40f7a4f7190722.jpg  \n",
            "  inflating: __MACOSX/+_648_640_640_label_ceo.v1i.yolov7pytorch/valid/images/._SEV_22_139_jpg.rf.0633a9eb31f0a57f9d40f7a4f7190722.jpg  \n",
            "  inflating: +_648_640_640_label_ceo.v1i.yolov7pytorch/valid/images/traffic_img271_jpg.rf.9470b71e36fff719130397366f7f6d13.jpg  \n",
            "  inflating: __MACOSX/+_648_640_640_label_ceo.v1i.yolov7pytorch/valid/images/._traffic_img271_jpg.rf.9470b71e36fff719130397366f7f6d13.jpg  \n",
            "  inflating: +_648_640_640_label_ceo.v1i.yolov7pytorch/valid/images/trafficseverity_img1006_jpg.rf.a4fd7acaecfbfa97b594b01087031d11.jpg  \n",
            "  inflating: __MACOSX/+_648_640_640_label_ceo.v1i.yolov7pytorch/valid/images/._trafficseverity_img1006_jpg.rf.a4fd7acaecfbfa97b594b01087031d11.jpg  \n",
            "  inflating: +_648_640_640_label_ceo.v1i.yolov7pytorch/valid/images/trafficseverity_img1308_jpg.rf.871ce48b60fd73251d50a5f7bf9a71f7.jpg  \n",
            "  inflating: __MACOSX/+_648_640_640_label_ceo.v1i.yolov7pytorch/valid/images/._trafficseverity_img1308_jpg.rf.871ce48b60fd73251d50a5f7bf9a71f7.jpg  \n",
            "  inflating: +_648_640_640_label_ceo.v1i.yolov7pytorch/valid/images/SEVERITY_V10_102_jpg.rf.28b06e9dc9f1427ff6d3ee276de9a6b3.jpg  \n",
            "  inflating: __MACOSX/+_648_640_640_label_ceo.v1i.yolov7pytorch/valid/images/._SEVERITY_V10_102_jpg.rf.28b06e9dc9f1427ff6d3ee276de9a6b3.jpg  \n",
            "  inflating: +_648_640_640_label_ceo.v1i.yolov7pytorch/valid/images/971_jpeg_jpg.rf.03f52c1a77e487ed5ebe90f00e3898fe.jpg  \n",
            "  inflating: __MACOSX/+_648_640_640_label_ceo.v1i.yolov7pytorch/valid/images/._971_jpeg_jpg.rf.03f52c1a77e487ed5ebe90f00e3898fe.jpg  \n",
            "  inflating: +_648_640_640_label_ceo.v1i.yolov7pytorch/valid/images/images-2022-04-07T064827-961_jpeg_jpg.rf.9f54f6f77d489fb8707fca845778ae85.jpg  \n",
            "  inflating: __MACOSX/+_648_640_640_label_ceo.v1i.yolov7pytorch/valid/images/._images-2022-04-07T064827-961_jpeg_jpg.rf.9f54f6f77d489fb8707fca845778ae85.jpg  \n",
            "  inflating: +_648_640_640_label_ceo.v1i.yolov7pytorch/valid/images/SEVERITY_V10_125_jpg.rf.79a9c0bb2934705d3c6bcb4f142b2aa2.jpg  \n",
            "  inflating: __MACOSX/+_648_640_640_label_ceo.v1i.yolov7pytorch/valid/images/._SEVERITY_V10_125_jpg.rf.79a9c0bb2934705d3c6bcb4f142b2aa2.jpg  \n",
            "  inflating: +_648_640_640_label_ceo.v1i.yolov7pytorch/valid/images/accidentFrame10832_jpg.rf.7ab42676488b8ca39ebce4fd8b6e1b72.jpg  \n",
            "  inflating: __MACOSX/+_648_640_640_label_ceo.v1i.yolov7pytorch/valid/images/._accidentFrame10832_jpg.rf.7ab42676488b8ca39ebce4fd8b6e1b72.jpg  \n",
            "  inflating: +_648_640_640_label_ceo.v1i.yolov7pytorch/valid/images/Screen-Shot-2022-04-07-at-8-20-08-AM_png_jpg.rf.5f1d15b53767da6cc56b52d97ccfa13d.jpg  \n",
            "  inflating: __MACOSX/+_648_640_640_label_ceo.v1i.yolov7pytorch/valid/images/._Screen-Shot-2022-04-07-at-8-20-08-AM_png_jpg.rf.5f1d15b53767da6cc56b52d97ccfa13d.jpg  \n",
            "  inflating: +_648_640_640_label_ceo.v1i.yolov7pytorch/valid/images/SEEEEVERITY_32_jpg.rf.aafc96860f3e857a5d4bcbde348e6410.jpg  \n",
            "  inflating: __MACOSX/+_648_640_640_label_ceo.v1i.yolov7pytorch/valid/images/._SEEEEVERITY_32_jpg.rf.aafc96860f3e857a5d4bcbde348e6410.jpg  \n",
            "  inflating: +_648_640_640_label_ceo.v1i.yolov7pytorch/valid/images/trafficseverity_img1358_jpg.rf.26fdfd8b35d27818f522f5f8b91ba7ef.jpg  \n",
            "  inflating: __MACOSX/+_648_640_640_label_ceo.v1i.yolov7pytorch/valid/images/._trafficseverity_img1358_jpg.rf.26fdfd8b35d27818f522f5f8b91ba7ef.jpg  \n",
            "  inflating: +_648_640_640_label_ceo.v1i.yolov7pytorch/valid/images/Screen-Shot-2022-04-08-at-7-33-58-AM_png_jpg.rf.6fe362a356dd6029771c956bb4f6f3e3.jpg  \n",
            "  inflating: __MACOSX/+_648_640_640_label_ceo.v1i.yolov7pytorch/valid/images/._Screen-Shot-2022-04-08-at-7-33-58-AM_png_jpg.rf.6fe362a356dd6029771c956bb4f6f3e3.jpg  \n",
            "  inflating: +_648_640_640_label_ceo.v1i.yolov7pytorch/valid/images/IMG_2613_PNG_jpg.rf.f97c4d8f504bfb07d0fd3b74fa1bf495.jpg  \n",
            "  inflating: __MACOSX/+_648_640_640_label_ceo.v1i.yolov7pytorch/valid/images/._IMG_2613_PNG_jpg.rf.f97c4d8f504bfb07d0fd3b74fa1bf495.jpg  \n",
            "  inflating: +_648_640_640_label_ceo.v1i.yolov7pytorch/valid/images/SEV_V8_Img_26_jpg.rf.9d252e0b04a95751df31fe8017adef5c.jpg  \n",
            "  inflating: __MACOSX/+_648_640_640_label_ceo.v1i.yolov7pytorch/valid/images/._SEV_V8_Img_26_jpg.rf.9d252e0b04a95751df31fe8017adef5c.jpg  \n",
            "  inflating: +_648_640_640_label_ceo.v1i.yolov7pytorch/valid/images/SEV_22_2898_jpg.rf.dbc4c4cf25fee8459749d183027d825f.jpg  \n",
            "  inflating: __MACOSX/+_648_640_640_label_ceo.v1i.yolov7pytorch/valid/images/._SEV_22_2898_jpg.rf.dbc4c4cf25fee8459749d183027d825f.jpg  \n",
            "  inflating: +_648_640_640_label_ceo.v1i.yolov7pytorch/valid/images/Screen-Shot-2022-04-07-at-7-46-25-PM_png_jpg.rf.a4605596cc111f67cd2f9812ec0d7cca.jpg  \n",
            "  inflating: __MACOSX/+_648_640_640_label_ceo.v1i.yolov7pytorch/valid/images/._Screen-Shot-2022-04-07-at-7-46-25-PM_png_jpg.rf.a4605596cc111f67cd2f9812ec0d7cca.jpg  \n",
            "  inflating: +_648_640_640_label_ceo.v1i.yolov7pytorch/valid/images/traffic_img14_jpg.rf.a763040b90500b89687a78c57f304219.jpg  \n",
            "  inflating: __MACOSX/+_648_640_640_label_ceo.v1i.yolov7pytorch/valid/images/._traffic_img14_jpg.rf.a763040b90500b89687a78c57f304219.jpg  \n",
            "  inflating: +_648_640_640_label_ceo.v1i.yolov7pytorch/valid/images/Screen-Shot-2022-04-08-at-7-26-58-AM_png_jpg.rf.9537e93e379dd82a95f4fd59edfdc0b3.jpg  \n",
            "  inflating: __MACOSX/+_648_640_640_label_ceo.v1i.yolov7pytorch/valid/images/._Screen-Shot-2022-04-08-at-7-26-58-AM_png_jpg.rf.9537e93e379dd82a95f4fd59edfdc0b3.jpg  \n",
            "  inflating: +_648_640_640_label_ceo.v1i.yolov7pytorch/valid/images/SEEEEVERITY_213_jpg.rf.4e0c9276eb8e755646ef5e31d72417dd.jpg  \n",
            "  inflating: __MACOSX/+_648_640_640_label_ceo.v1i.yolov7pytorch/valid/images/._SEEEEVERITY_213_jpg.rf.4e0c9276eb8e755646ef5e31d72417dd.jpg  \n",
            "  inflating: +_648_640_640_label_ceo.v1i.yolov7pytorch/valid/images/sever9_jpg.rf.2559df51039e4cd9a66fa09804e25f73.jpg  \n",
            "  inflating: __MACOSX/+_648_640_640_label_ceo.v1i.yolov7pytorch/valid/images/._sever9_jpg.rf.2559df51039e4cd9a66fa09804e25f73.jpg  \n",
            "  inflating: +_648_640_640_label_ceo.v1i.yolov7pytorch/valid/images/SEV_22_1377_jpg.rf.a69c4b3c36ed4c0477b2f75081a2bac1.jpg  \n",
            "  inflating: __MACOSX/+_648_640_640_label_ceo.v1i.yolov7pytorch/valid/images/._SEV_22_1377_jpg.rf.a69c4b3c36ed4c0477b2f75081a2bac1.jpg  \n",
            "  inflating: +_648_640_640_label_ceo.v1i.yolov7pytorch/valid/images/IMG_2359_PNG_jpg.rf.63c77770c278b7f85b67b1504560a29c.jpg  \n",
            "  inflating: __MACOSX/+_648_640_640_label_ceo.v1i.yolov7pytorch/valid/images/._IMG_2359_PNG_jpg.rf.63c77770c278b7f85b67b1504560a29c.jpg  \n",
            "  inflating: +_648_640_640_label_ceo.v1i.yolov7pytorch/valid/images/trafficseverity_img3161_jpg.rf.c739c6d99ea14e19c77d86cdd709d8b9.jpg  \n",
            "  inflating: __MACOSX/+_648_640_640_label_ceo.v1i.yolov7pytorch/valid/images/._trafficseverity_img3161_jpg.rf.c739c6d99ea14e19c77d86cdd709d8b9.jpg  \n",
            "  inflating: +_648_640_640_label_ceo.v1i.yolov7pytorch/valid/images/accidentFrame2402_jpg.rf.8e4fb2da961b77c4b796d2e37bd0a6ed.jpg  \n",
            "  inflating: __MACOSX/+_648_640_640_label_ceo.v1i.yolov7pytorch/valid/images/._accidentFrame2402_jpg.rf.8e4fb2da961b77c4b796d2e37bd0a6ed.jpg  \n",
            "  inflating: +_648_640_640_label_ceo.v1i.yolov7pytorch/valid/images/download-9-_jpeg_jpg.rf.db9ba4a43e5d046bae2c9360800c9d04.jpg  \n",
            "  inflating: __MACOSX/+_648_640_640_label_ceo.v1i.yolov7pytorch/valid/images/._download-9-_jpeg_jpg.rf.db9ba4a43e5d046bae2c9360800c9d04.jpg  \n",
            "  inflating: +_648_640_640_label_ceo.v1i.yolov7pytorch/valid/images/IMG_2436_PNG_jpg.rf.6893063e204a05ecf47f0cf6040ee531.jpg  \n",
            "  inflating: __MACOSX/+_648_640_640_label_ceo.v1i.yolov7pytorch/valid/images/._IMG_2436_PNG_jpg.rf.6893063e204a05ecf47f0cf6040ee531.jpg  \n",
            "  inflating: +_648_640_640_label_ceo.v1i.yolov7pytorch/valid/images/Screen-Shot-2022-04-07-at-8-54-21-PM_png_jpg.rf.fa253b3447021881855f759198224ffe.jpg  \n",
            "  inflating: __MACOSX/+_648_640_640_label_ceo.v1i.yolov7pytorch/valid/images/._Screen-Shot-2022-04-07-at-8-54-21-PM_png_jpg.rf.fa253b3447021881855f759198224ffe.jpg  \n",
            "  inflating: +_648_640_640_label_ceo.v1i.yolov7pytorch/valid/images/trafficseverity_img2186_jpg.rf.1d4b6c1b67a6c4be79ef81b2c7f32393.jpg  \n",
            "  inflating: __MACOSX/+_648_640_640_label_ceo.v1i.yolov7pytorch/valid/images/._trafficseverity_img2186_jpg.rf.1d4b6c1b67a6c4be79ef81b2c7f32393.jpg  \n",
            "  inflating: +_648_640_640_label_ceo.v1i.yolov7pytorch/valid/images/traffic_img2577_jpg.rf.47eaedeb74a082f2c38974f7c2dbedd8.jpg  \n",
            "  inflating: __MACOSX/+_648_640_640_label_ceo.v1i.yolov7pytorch/valid/images/._traffic_img2577_jpg.rf.47eaedeb74a082f2c38974f7c2dbedd8.jpg  \n",
            "  inflating: +_648_640_640_label_ceo.v1i.yolov7pytorch/valid/images/traffic_img501_jpg.rf.c203154ba60cbaee6e9086d70f5fb217.jpg  \n",
            "  inflating: __MACOSX/+_648_640_640_label_ceo.v1i.yolov7pytorch/valid/images/._traffic_img501_jpg.rf.c203154ba60cbaee6e9086d70f5fb217.jpg  \n",
            "  inflating: +_648_640_640_label_ceo.v1i.yolov7pytorch/valid/images/SEV_22_3772_jpg.rf.75f9145bbea45f1b3eee2f7e0cee37df.jpg  \n",
            "  inflating: __MACOSX/+_648_640_640_label_ceo.v1i.yolov7pytorch/valid/images/._SEV_22_3772_jpg.rf.75f9145bbea45f1b3eee2f7e0cee37df.jpg  \n",
            "  inflating: +_648_640_640_label_ceo.v1i.yolov7pytorch/valid/images/Screen-Shot-2022-04-07-at-7-55-15-PM_png_jpg.rf.1532aa4cf41f05ae53d0b39a77133b03.jpg  \n",
            "  inflating: __MACOSX/+_648_640_640_label_ceo.v1i.yolov7pytorch/valid/images/._Screen-Shot-2022-04-07-at-7-55-15-PM_png_jpg.rf.1532aa4cf41f05ae53d0b39a77133b03.jpg  \n",
            "  inflating: +_648_640_640_label_ceo.v1i.yolov7pytorch/valid/images/SEV_22_726_jpg.rf.14da20265b28fb34ff0126c71143a076.jpg  \n",
            "  inflating: __MACOSX/+_648_640_640_label_ceo.v1i.yolov7pytorch/valid/images/._SEV_22_726_jpg.rf.14da20265b28fb34ff0126c71143a076.jpg  \n",
            "  inflating: +_648_640_640_label_ceo.v1i.yolov7pytorch/valid/images/Bus-Truck-Crashes-10-BeamNG-Drive_i_frame_8728_jpg.rf.d3d6ed277b2553701dc77138e4f0c8c6.jpg  \n",
            "  inflating: __MACOSX/+_648_640_640_label_ceo.v1i.yolov7pytorch/valid/images/._Bus-Truck-Crashes-10-BeamNG-Drive_i_frame_8728_jpg.rf.d3d6ed277b2553701dc77138e4f0c8c6.jpg  \n",
            "  inflating: +_648_640_640_label_ceo.v1i.yolov7pytorch/valid/images/images-75-_jpeg_jpg.rf.27ccbefab7445be9a82c36897e44a518.jpg  \n",
            "  inflating: __MACOSX/+_648_640_640_label_ceo.v1i.yolov7pytorch/valid/images/._images-75-_jpeg_jpg.rf.27ccbefab7445be9a82c36897e44a518.jpg  \n",
            "  inflating: +_648_640_640_label_ceo.v1i.yolov7pytorch/valid/images/Screen-Shot-2022-04-08-at-5-48-59-AM_png_jpg.rf.4fffbe7c94686801eb41f13ea1857f10.jpg  \n",
            "  inflating: __MACOSX/+_648_640_640_label_ceo.v1i.yolov7pytorch/valid/images/._Screen-Shot-2022-04-08-at-5-48-59-AM_png_jpg.rf.4fffbe7c94686801eb41f13ea1857f10.jpg  \n",
            "  inflating: +_648_640_640_label_ceo.v1i.yolov7pytorch/valid/images/IMG_1597_PNG_jpg.rf.f340baf5353bce8fbef98251dcfe805d.jpg  \n",
            "  inflating: __MACOSX/+_648_640_640_label_ceo.v1i.yolov7pytorch/valid/images/._IMG_1597_PNG_jpg.rf.f340baf5353bce8fbef98251dcfe805d.jpg  \n",
            "  inflating: +_648_640_640_label_ceo.v1i.yolov7pytorch/valid/images/SEEEEVERITY_229_jpg.rf.f9b55517c31b6c3bb7e4aa90064868cb.jpg  \n",
            "  inflating: __MACOSX/+_648_640_640_label_ceo.v1i.yolov7pytorch/valid/images/._SEEEEVERITY_229_jpg.rf.f9b55517c31b6c3bb7e4aa90064868cb.jpg  \n",
            "  inflating: +_648_640_640_label_ceo.v1i.yolov7pytorch/valid/images/trafficseverity_img230_jpg.rf.e32b568199753c183fb78cda88901a47.jpg  \n",
            "  inflating: __MACOSX/+_648_640_640_label_ceo.v1i.yolov7pytorch/valid/images/._trafficseverity_img230_jpg.rf.e32b568199753c183fb78cda88901a47.jpg  \n",
            "  inflating: +_648_640_640_label_ceo.v1i.yolov7pytorch/valid/images/SEVERITY_DATA_54_jpg.rf.61f55cf85b2e31e0dba885622e012761.jpg  \n",
            "  inflating: __MACOSX/+_648_640_640_label_ceo.v1i.yolov7pytorch/valid/images/._SEVERITY_DATA_54_jpg.rf.61f55cf85b2e31e0dba885622e012761.jpg  \n",
            "  inflating: +_648_640_640_label_ceo.v1i.yolov7pytorch/valid/images/accidentFrame10964_jpg.rf.a38377c9634b36a0e402473efc0b72af.jpg  \n",
            "  inflating: __MACOSX/+_648_640_640_label_ceo.v1i.yolov7pytorch/valid/images/._accidentFrame10964_jpg.rf.a38377c9634b36a0e402473efc0b72af.jpg  \n",
            "  inflating: +_648_640_640_label_ceo.v1i.yolov7pytorch/valid/images/trafficseverity_img5754_jpg.rf.f4e2ce7c07a75e014312b470affaa0d6.jpg  \n",
            "  inflating: __MACOSX/+_648_640_640_label_ceo.v1i.yolov7pytorch/valid/images/._trafficseverity_img5754_jpg.rf.f4e2ce7c07a75e014312b470affaa0d6.jpg  \n",
            "  inflating: +_648_640_640_label_ceo.v1i.yolov7pytorch/valid/images/trafficseverity_img88_jpg.rf.0ff94e357a75008e3863e7732eb44d91.jpg  \n",
            "  inflating: __MACOSX/+_648_640_640_label_ceo.v1i.yolov7pytorch/valid/images/._trafficseverity_img88_jpg.rf.0ff94e357a75008e3863e7732eb44d91.jpg  \n",
            "  inflating: +_648_640_640_label_ceo.v1i.yolov7pytorch/valid/images/trafficseverity_img601_jpg.rf.78b4962e36951c51e63d4f75933ee020.jpg  \n",
            "  inflating: __MACOSX/+_648_640_640_label_ceo.v1i.yolov7pytorch/valid/images/._trafficseverity_img601_jpg.rf.78b4962e36951c51e63d4f75933ee020.jpg  \n",
            "  inflating: +_648_640_640_label_ceo.v1i.yolov7pytorch/valid/images/trafficseverity_img100_jpg.rf.d95535c91a8baf5d37ee2c3680d23ba3.jpg  \n",
            "  inflating: __MACOSX/+_648_640_640_label_ceo.v1i.yolov7pytorch/valid/images/._trafficseverity_img100_jpg.rf.d95535c91a8baf5d37ee2c3680d23ba3.jpg  \n",
            "  inflating: +_648_640_640_label_ceo.v1i.yolov7pytorch/valid/images/IMG_2255_PNG_jpg.rf.508734271a04f3169fc0e14500e02277.jpg  \n",
            "  inflating: __MACOSX/+_648_640_640_label_ceo.v1i.yolov7pytorch/valid/images/._IMG_2255_PNG_jpg.rf.508734271a04f3169fc0e14500e02277.jpg  \n",
            "  inflating: +_648_640_640_label_ceo.v1i.yolov7pytorch/valid/images/SEEEEVERITY_126_jpg.rf.bb9986bc377fd7e0c1be8dd554b187b2.jpg  \n",
            "  inflating: __MACOSX/+_648_640_640_label_ceo.v1i.yolov7pytorch/valid/images/._SEEEEVERITY_126_jpg.rf.bb9986bc377fd7e0c1be8dd554b187b2.jpg  \n",
            "  inflating: +_648_640_640_label_ceo.v1i.yolov7pytorch/valid/images/1-17_jpg.rf.ea70326ac419d6f7655c3c49d67fbd0f.jpg  \n",
            "  inflating: __MACOSX/+_648_640_640_label_ceo.v1i.yolov7pytorch/valid/images/._1-17_jpg.rf.ea70326ac419d6f7655c3c49d67fbd0f.jpg  \n",
            "  inflating: +_648_640_640_label_ceo.v1i.yolov7pytorch/valid/images/trafficseverity_img2253_jpg.rf.c93482d9c643d68b7ed598e1c791ebc2.jpg  \n",
            "  inflating: __MACOSX/+_648_640_640_label_ceo.v1i.yolov7pytorch/valid/images/._trafficseverity_img2253_jpg.rf.c93482d9c643d68b7ed598e1c791ebc2.jpg  \n",
            "  inflating: +_648_640_640_label_ceo.v1i.yolov7pytorch/valid/images/IMG_2329_PNG_jpg.rf.db54519303cbc12237f4632a803edcae.jpg  \n",
            "  inflating: __MACOSX/+_648_640_640_label_ceo.v1i.yolov7pytorch/valid/images/._IMG_2329_PNG_jpg.rf.db54519303cbc12237f4632a803edcae.jpg  \n",
            "  inflating: +_648_640_640_label_ceo.v1i.yolov7pytorch/valid/images/images-2022-04-07T064847-303_jpeg_jpg.rf.3d24945f658165b311cb25a52cbe7485.jpg  \n",
            "  inflating: __MACOSX/+_648_640_640_label_ceo.v1i.yolov7pytorch/valid/images/._images-2022-04-07T064847-303_jpeg_jpg.rf.3d24945f658165b311cb25a52cbe7485.jpg  \n",
            "  inflating: +_648_640_640_label_ceo.v1i.yolov7pytorch/valid/images/SEVERITY_V10_87_jpg.rf.bfe57b0cbb201752b8f68a1522391ba7.jpg  \n",
            "  inflating: __MACOSX/+_648_640_640_label_ceo.v1i.yolov7pytorch/valid/images/._SEVERITY_V10_87_jpg.rf.bfe57b0cbb201752b8f68a1522391ba7.jpg  \n",
            "  inflating: +_648_640_640_label_ceo.v1i.yolov7pytorch/valid/images/IMG_2166_JPG_jpg.rf.b8e02e745d563080eb15991a8598cf27.jpg  \n",
            "  inflating: __MACOSX/+_648_640_640_label_ceo.v1i.yolov7pytorch/valid/images/._IMG_2166_JPG_jpg.rf.b8e02e745d563080eb15991a8598cf27.jpg  \n",
            "  inflating: +_648_640_640_label_ceo.v1i.yolov7pytorch/valid/images/Screen-Shot-2022-04-08-at-6-17-40-AM_png_jpg.rf.ff3b0d01b9d1de7017b8513b0eeb87e0.jpg  \n",
            "  inflating: __MACOSX/+_648_640_640_label_ceo.v1i.yolov7pytorch/valid/images/._Screen-Shot-2022-04-08-at-6-17-40-AM_png_jpg.rf.ff3b0d01b9d1de7017b8513b0eeb87e0.jpg  \n",
            "  inflating: +_648_640_640_label_ceo.v1i.yolov7pytorch/valid/images/801_jpeg_jpg.rf.7a30a486fb8988e6006ffb5e810b10ac.jpg  \n",
            "  inflating: __MACOSX/+_648_640_640_label_ceo.v1i.yolov7pytorch/valid/images/._801_jpeg_jpg.rf.7a30a486fb8988e6006ffb5e810b10ac.jpg  \n",
            "  inflating: +_648_640_640_label_ceo.v1i.yolov7pytorch/valid/images/SEVERITY_V13_0_jpg.rf.f5e4d4b60001a45085588c13d8c84f72.jpg  \n",
            "  inflating: __MACOSX/+_648_640_640_label_ceo.v1i.yolov7pytorch/valid/images/._SEVERITY_V13_0_jpg.rf.f5e4d4b60001a45085588c13d8c84f72.jpg  \n",
            "  inflating: +_648_640_640_label_ceo.v1i.yolov7pytorch/valid/images/IMG_2574_PNG_jpg.rf.fe12bc8f81308225b93af60dddcf9ebf.jpg  \n",
            "  inflating: __MACOSX/+_648_640_640_label_ceo.v1i.yolov7pytorch/valid/images/._IMG_2574_PNG_jpg.rf.fe12bc8f81308225b93af60dddcf9ebf.jpg  \n",
            "  inflating: +_648_640_640_label_ceo.v1i.yolov7pytorch/valid/images/SEV_V8_Img_42_jpg.rf.327b57dd85b73460fc5701eb728655c4.jpg  \n",
            "  inflating: __MACOSX/+_648_640_640_label_ceo.v1i.yolov7pytorch/valid/images/._SEV_V8_Img_42_jpg.rf.327b57dd85b73460fc5701eb728655c4.jpg  \n",
            "  inflating: +_648_640_640_label_ceo.v1i.yolov7pytorch/valid/images/CARimage393_jpg.rf.3ea027de7e1ddc95b06baef871039e6a.jpg  \n",
            "  inflating: __MACOSX/+_648_640_640_label_ceo.v1i.yolov7pytorch/valid/images/._CARimage393_jpg.rf.3ea027de7e1ddc95b06baef871039e6a.jpg  \n",
            "  inflating: +_648_640_640_label_ceo.v1i.yolov7pytorch/valid/images/accidentFrame2365_jpg.rf.f0268ed95ccf7be2b0b2d418e8f2c375.jpg  \n",
            "  inflating: __MACOSX/+_648_640_640_label_ceo.v1i.yolov7pytorch/valid/images/._accidentFrame2365_jpg.rf.f0268ed95ccf7be2b0b2d418e8f2c375.jpg  \n",
            "  inflating: +_648_640_640_label_ceo.v1i.yolov7pytorch/valid/images/SEV_V8_Img_49_jpg.rf.3a309515f5c9c17d781fd42fa01bd9fa.jpg  \n",
            "  inflating: __MACOSX/+_648_640_640_label_ceo.v1i.yolov7pytorch/valid/images/._SEV_V8_Img_49_jpg.rf.3a309515f5c9c17d781fd42fa01bd9fa.jpg  \n",
            "  inflating: +_648_640_640_label_ceo.v1i.yolov7pytorch/valid/images/Bus-Truck-Crashes-9-BeamNG-Drive_i_frame_12528_jpg.rf.03aadc601f5f5512c01414b382d08cf4.jpg  \n",
            "  inflating: __MACOSX/+_648_640_640_label_ceo.v1i.yolov7pytorch/valid/images/._Bus-Truck-Crashes-9-BeamNG-Drive_i_frame_12528_jpg.rf.03aadc601f5f5512c01414b382d08cf4.jpg  \n",
            "  inflating: +_648_640_640_label_ceo.v1i.yolov7pytorch/valid/images/traffic_img2157_jpg.rf.8d6a4c1b4d8afbe1b7d800a048191d79.jpg  \n",
            "  inflating: __MACOSX/+_648_640_640_label_ceo.v1i.yolov7pytorch/valid/images/._traffic_img2157_jpg.rf.8d6a4c1b4d8afbe1b7d800a048191d79.jpg  \n",
            "  inflating: +_648_640_640_label_ceo.v1i.yolov7pytorch/valid/images/images-9_jpg.rf.be4849312afdd650b7e2f2bbcb3c571b.jpg  \n",
            "  inflating: __MACOSX/+_648_640_640_label_ceo.v1i.yolov7pytorch/valid/images/._images-9_jpg.rf.be4849312afdd650b7e2f2bbcb3c571b.jpg  \n",
            "  inflating: +_648_640_640_label_ceo.v1i.yolov7pytorch/valid/images/Accident_Img_449_jpg.rf.797f8a22190aefb88002ff8b6b2d4af3.jpg  \n",
            "  inflating: __MACOSX/+_648_640_640_label_ceo.v1i.yolov7pytorch/valid/images/._Accident_Img_449_jpg.rf.797f8a22190aefb88002ff8b6b2d4af3.jpg  \n",
            "  inflating: +_648_640_640_label_ceo.v1i.yolov7pytorch/valid/images/vid_1_i_frame_7688_jpg.rf.b8f1f11684094006ac88490464db197d.jpg  \n",
            "  inflating: __MACOSX/+_648_640_640_label_ceo.v1i.yolov7pytorch/valid/images/._vid_1_i_frame_7688_jpg.rf.b8f1f11684094006ac88490464db197d.jpg  \n",
            "  inflating: +_648_640_640_label_ceo.v1i.yolov7pytorch/valid/images/Accident_Img_837_jpg.rf.b0495a43c71460c2978b0d998782daa6.jpg  \n",
            "  inflating: __MACOSX/+_648_640_640_label_ceo.v1i.yolov7pytorch/valid/images/._Accident_Img_837_jpg.rf.b0495a43c71460c2978b0d998782daa6.jpg  \n",
            "  inflating: +_648_640_640_label_ceo.v1i.yolov7pytorch/valid/images/SEEEEVERITY_293_jpg.rf.dac4f812527ac4b85a59d3b5d9f4e24c.jpg  \n",
            "  inflating: __MACOSX/+_648_640_640_label_ceo.v1i.yolov7pytorch/valid/images/._SEEEEVERITY_293_jpg.rf.dac4f812527ac4b85a59d3b5d9f4e24c.jpg  \n",
            "  inflating: +_648_640_640_label_ceo.v1i.yolov7pytorch/valid/images/Screen-Shot-2022-04-07-at-8-27-07-AM_png_jpg.rf.a67dfbd202abb7eb9fa519436e0d7c05.jpg  \n",
            "  inflating: __MACOSX/+_648_640_640_label_ceo.v1i.yolov7pytorch/valid/images/._Screen-Shot-2022-04-07-at-8-27-07-AM_png_jpg.rf.a67dfbd202abb7eb9fa519436e0d7c05.jpg  \n",
            "  inflating: +_648_640_640_label_ceo.v1i.yolov7pytorch/valid/images/IMG_1451_PNG_jpg.rf.ecee4d1b50783126457089949557955f.jpg  \n",
            "  inflating: __MACOSX/+_648_640_640_label_ceo.v1i.yolov7pytorch/valid/images/._IMG_1451_PNG_jpg.rf.ecee4d1b50783126457089949557955f.jpg  \n",
            "  inflating: +_648_640_640_label_ceo.v1i.yolov7pytorch/valid/images/841_jpeg_jpg.rf.b5b446b51d2f3343336303db26fd3aed.jpg  \n",
            "  inflating: __MACOSX/+_648_640_640_label_ceo.v1i.yolov7pytorch/valid/images/._841_jpeg_jpg.rf.b5b446b51d2f3343336303db26fd3aed.jpg  \n",
            "  inflating: +_648_640_640_label_ceo.v1i.yolov7pytorch/valid/images/trafficseverity_img690_jpg.rf.604ea48109c6de6b3482b7c4218fc14b.jpg  \n",
            "  inflating: __MACOSX/+_648_640_640_label_ceo.v1i.yolov7pytorch/valid/images/._trafficseverity_img690_jpg.rf.604ea48109c6de6b3482b7c4218fc14b.jpg  \n",
            "  inflating: +_648_640_640_label_ceo.v1i.yolov7pytorch/valid/images/Semi-RealisticVD-190_jpg.rf.f49906ebd45c9637057c4183ac476269.jpg  \n",
            "  inflating: __MACOSX/+_648_640_640_label_ceo.v1i.yolov7pytorch/valid/images/._Semi-RealisticVD-190_jpg.rf.f49906ebd45c9637057c4183ac476269.jpg  \n",
            "  inflating: +_648_640_640_label_ceo.v1i.yolov7pytorch/valid/images/SEVERITY_V10_109_jpg.rf.d4301306f8b100a78058f11e4cfc5bab.jpg  \n",
            "  inflating: __MACOSX/+_648_640_640_label_ceo.v1i.yolov7pytorch/valid/images/._SEVERITY_V10_109_jpg.rf.d4301306f8b100a78058f11e4cfc5bab.jpg  \n",
            "  inflating: +_648_640_640_label_ceo.v1i.yolov7pytorch/valid/images/SEVERITY_V10_60_jpg.rf.e27a161cfeccaf7132834e2129f8e3df.jpg  \n",
            "  inflating: __MACOSX/+_648_640_640_label_ceo.v1i.yolov7pytorch/valid/images/._SEVERITY_V10_60_jpg.rf.e27a161cfeccaf7132834e2129f8e3df.jpg  \n",
            "  inflating: +_648_640_640_label_ceo.v1i.yolov7pytorch/valid/images/FLIP_CAR_V120_jpg.rf.fdb4c4d08d8a3efcdadb5932bc7edc95.jpg  \n",
            "  inflating: __MACOSX/+_648_640_640_label_ceo.v1i.yolov7pytorch/valid/images/._FLIP_CAR_V120_jpg.rf.fdb4c4d08d8a3efcdadb5932bc7edc95.jpg  \n",
            "  inflating: +_648_640_640_label_ceo.v1i.yolov7pytorch/valid/images/sever11_jpg.rf.72f95215ae177e763485a4b7e928f23c.jpg  \n",
            "  inflating: __MACOSX/+_648_640_640_label_ceo.v1i.yolov7pytorch/valid/images/._sever11_jpg.rf.72f95215ae177e763485a4b7e928f23c.jpg  \n",
            "  inflating: +_648_640_640_label_ceo.v1i.yolov7pytorch/valid/images/Semi-RealisticVD-156_jpg.rf.a35a3b59e993a4aa1bdc802f2386f54e.jpg  \n",
            "  inflating: __MACOSX/+_648_640_640_label_ceo.v1i.yolov7pytorch/valid/images/._Semi-RealisticVD-156_jpg.rf.a35a3b59e993a4aa1bdc802f2386f54e.jpg  \n",
            "  inflating: +_648_640_640_label_ceo.v1i.yolov7pytorch/valid/images/SEVERITY_DATA_25_jpg.rf.511c0a7d188e03f180acc3410e69b578.jpg  \n",
            "  inflating: __MACOSX/+_648_640_640_label_ceo.v1i.yolov7pytorch/valid/images/._SEVERITY_DATA_25_jpg.rf.511c0a7d188e03f180acc3410e69b578.jpg  \n",
            "  inflating: +_648_640_640_label_ceo.v1i.yolov7pytorch/valid/images/trafficseverity_img2899_jpg.rf.97c8f6a811443929c16206531dab9c3b.jpg  \n",
            "  inflating: __MACOSX/+_648_640_640_label_ceo.v1i.yolov7pytorch/valid/images/._trafficseverity_img2899_jpg.rf.97c8f6a811443929c16206531dab9c3b.jpg  \n",
            "  inflating: +_648_640_640_label_ceo.v1i.yolov7pytorch/valid/images/SEV_22_2321_jpg.rf.522c2d818c88e6bd6a8b9ca92c05d228.jpg  \n",
            "  inflating: __MACOSX/+_648_640_640_label_ceo.v1i.yolov7pytorch/valid/images/._SEV_22_2321_jpg.rf.522c2d818c88e6bd6a8b9ca92c05d228.jpg  \n",
            "  inflating: +_648_640_640_label_ceo.v1i.yolov7pytorch/valid/images/trafficseverity_img2241_jpg.rf.b2a22a7b9832cb1828551a7f4fcc25f3.jpg  \n",
            "  inflating: __MACOSX/+_648_640_640_label_ceo.v1i.yolov7pytorch/valid/images/._trafficseverity_img2241_jpg.rf.b2a22a7b9832cb1828551a7f4fcc25f3.jpg  \n",
            "  inflating: +_648_640_640_label_ceo.v1i.yolov7pytorch/valid/images/IMG_1510_PNG_jpg.rf.5cfbd52ca8d4fab7d214b75e8b5eb11d.jpg  \n",
            "  inflating: __MACOSX/+_648_640_640_label_ceo.v1i.yolov7pytorch/valid/images/._IMG_1510_PNG_jpg.rf.5cfbd52ca8d4fab7d214b75e8b5eb11d.jpg  \n",
            "  inflating: +_648_640_640_label_ceo.v1i.yolov7pytorch/valid/images/trafficseverity_img2005_jpg.rf.ebef595b719e683115bda489a5ed8c79.jpg  \n",
            "  inflating: __MACOSX/+_648_640_640_label_ceo.v1i.yolov7pytorch/valid/images/._trafficseverity_img2005_jpg.rf.ebef595b719e683115bda489a5ed8c79.jpg  \n",
            "  inflating: +_648_640_640_label_ceo.v1i.yolov7pytorch/valid/images/download-4-_jpeg_jpg.rf.7dad148f9060fe9e0da278c2b6280930.jpg  \n",
            "  inflating: __MACOSX/+_648_640_640_label_ceo.v1i.yolov7pytorch/valid/images/._download-4-_jpeg_jpg.rf.7dad148f9060fe9e0da278c2b6280930.jpg  \n",
            "  inflating: +_648_640_640_label_ceo.v1i.yolov7pytorch/valid/images/IMG_2011_PNG_jpg.rf.362411a45ebcd5442eb1a273dd3ce207.jpg  \n",
            "  inflating: __MACOSX/+_648_640_640_label_ceo.v1i.yolov7pytorch/valid/images/._IMG_2011_PNG_jpg.rf.362411a45ebcd5442eb1a273dd3ce207.jpg  \n",
            "  inflating: +_648_640_640_label_ceo.v1i.yolov7pytorch/valid/images/trafficseverity_img2517_jpg.rf.ff03355012198650fc181d6f762a6496.jpg  \n",
            "  inflating: __MACOSX/+_648_640_640_label_ceo.v1i.yolov7pytorch/valid/images/._trafficseverity_img2517_jpg.rf.ff03355012198650fc181d6f762a6496.jpg  \n",
            "  inflating: +_648_640_640_label_ceo.v1i.yolov7pytorch/valid/images/trafficseverity_img5693_jpg.rf.36540841e6c4793c012e941d272ef51e.jpg  \n",
            "  inflating: __MACOSX/+_648_640_640_label_ceo.v1i.yolov7pytorch/valid/images/._trafficseverity_img5693_jpg.rf.36540841e6c4793c012e941d272ef51e.jpg  \n",
            "  inflating: +_648_640_640_label_ceo.v1i.yolov7pytorch/valid/images/SEEEEVERITY_25_jpg.rf.b6cf3c8370b1c0185d5b422bb087f523.jpg  \n",
            "  inflating: __MACOSX/+_648_640_640_label_ceo.v1i.yolov7pytorch/valid/images/._SEEEEVERITY_25_jpg.rf.b6cf3c8370b1c0185d5b422bb087f523.jpg  \n",
            "  inflating: +_648_640_640_label_ceo.v1i.yolov7pytorch/valid/images/SEV_22_3395_jpg.rf.92a87dd132d316240ad2a81c6c1613a8.jpg  \n",
            "  inflating: __MACOSX/+_648_640_640_label_ceo.v1i.yolov7pytorch/valid/images/._SEV_22_3395_jpg.rf.92a87dd132d316240ad2a81c6c1613a8.jpg  \n",
            "  inflating: +_648_640_640_label_ceo.v1i.yolov7pytorch/valid/images/IMG_2167_JPG_jpg.rf.a0bb00b768d6920a5388d221c4df8948.jpg  \n",
            "  inflating: __MACOSX/+_648_640_640_label_ceo.v1i.yolov7pytorch/valid/images/._IMG_2167_JPG_jpg.rf.a0bb00b768d6920a5388d221c4df8948.jpg  \n",
            "  inflating: +_648_640_640_label_ceo.v1i.yolov7pytorch/valid/images/SEEEEVERITY_220_jpg.rf.235b3a2b14d6f59be208448cd55c21f6.jpg  \n",
            "  inflating: __MACOSX/+_648_640_640_label_ceo.v1i.yolov7pytorch/valid/images/._SEEEEVERITY_220_jpg.rf.235b3a2b14d6f59be208448cd55c21f6.jpg  \n",
            "  inflating: +_648_640_640_label_ceo.v1i.yolov7pytorch/valid/images/traffic_img201_jpg.rf.4da63476db36c32582d381ba6fb145fd.jpg  \n",
            "  inflating: __MACOSX/+_648_640_640_label_ceo.v1i.yolov7pytorch/valid/images/._traffic_img201_jpg.rf.4da63476db36c32582d381ba6fb145fd.jpg  \n",
            "  inflating: +_648_640_640_label_ceo.v1i.yolov7pytorch/valid/images/trafficseverity_img5698_jpg.rf.6b0662392c7cc4fedb24a9755b9cf177.jpg  \n",
            "  inflating: __MACOSX/+_648_640_640_label_ceo.v1i.yolov7pytorch/valid/images/._trafficseverity_img5698_jpg.rf.6b0662392c7cc4fedb24a9755b9cf177.jpg  \n",
            "  inflating: +_648_640_640_label_ceo.v1i.yolov7pytorch/valid/images/SEEEEVERITY_239_jpg.rf.0e480bae7eecaf96a1079487921a14d6.jpg  \n",
            "  inflating: __MACOSX/+_648_640_640_label_ceo.v1i.yolov7pytorch/valid/images/._SEEEEVERITY_239_jpg.rf.0e480bae7eecaf96a1079487921a14d6.jpg  \n",
            "  inflating: +_648_640_640_label_ceo.v1i.yolov7pytorch/valid/images/Screen-Shot-2022-04-06-at-3-45-12-AM_png_jpg.rf.47a8b3a4f5e6f7ff7df5056500d7689f.jpg  \n",
            "  inflating: __MACOSX/+_648_640_640_label_ceo.v1i.yolov7pytorch/valid/images/._Screen-Shot-2022-04-06-at-3-45-12-AM_png_jpg.rf.47a8b3a4f5e6f7ff7df5056500d7689f.jpg  \n",
            "  inflating: +_648_640_640_label_ceo.v1i.yolov7pytorch/valid/images/Screen-Shot-2022-04-07-at-8-31-11-PM_png_jpg.rf.ee34532e9f5b040464fe253c765017fb.jpg  \n",
            "  inflating: __MACOSX/+_648_640_640_label_ceo.v1i.yolov7pytorch/valid/images/._Screen-Shot-2022-04-07-at-8-31-11-PM_png_jpg.rf.ee34532e9f5b040464fe253c765017fb.jpg  \n",
            "  inflating: +_648_640_640_label_ceo.v1i.yolov7pytorch/valid/images/SEEEEVERITY_132_jpg.rf.478fb6c84bac256e1d9805c63b047695.jpg  \n",
            "  inflating: __MACOSX/+_648_640_640_label_ceo.v1i.yolov7pytorch/valid/images/._SEEEEVERITY_132_jpg.rf.478fb6c84bac256e1d9805c63b047695.jpg  \n",
            "  inflating: +_648_640_640_label_ceo.v1i.yolov7pytorch/valid/images/SEV_V8_Img_125_jpg.rf.dfd13b901c833b05dea84d12c3e74062.jpg  \n",
            "  inflating: __MACOSX/+_648_640_640_label_ceo.v1i.yolov7pytorch/valid/images/._SEV_V8_Img_125_jpg.rf.dfd13b901c833b05dea84d12c3e74062.jpg  \n",
            "  inflating: +_648_640_640_label_ceo.v1i.yolov7pytorch/valid/images/images-21_jpg.rf.3c18bbfb200722fa44e1ba939a9dffa5.jpg  \n",
            "  inflating: __MACOSX/+_648_640_640_label_ceo.v1i.yolov7pytorch/valid/images/._images-21_jpg.rf.3c18bbfb200722fa44e1ba939a9dffa5.jpg  \n",
            "  inflating: +_648_640_640_label_ceo.v1i.yolov7pytorch/valid/images/Screen-Shot-2022-04-08-at-7-35-13-AM_png_jpg.rf.e81523f44c5f04182c2094d708fcaff0.jpg  \n",
            "  inflating: __MACOSX/+_648_640_640_label_ceo.v1i.yolov7pytorch/valid/images/._Screen-Shot-2022-04-08-at-7-35-13-AM_png_jpg.rf.e81523f44c5f04182c2094d708fcaff0.jpg  \n",
            "  inflating: +_648_640_640_label_ceo.v1i.yolov7pytorch/valid/images/FLIP_CAR_V172_jpg.rf.d0088bfd4c1a4006a4151dbefcc8d7f2.jpg  \n",
            "  inflating: __MACOSX/+_648_640_640_label_ceo.v1i.yolov7pytorch/valid/images/._FLIP_CAR_V172_jpg.rf.d0088bfd4c1a4006a4151dbefcc8d7f2.jpg  \n",
            "  inflating: +_648_640_640_label_ceo.v1i.yolov7pytorch/valid/images/SEEEEVERITY_183_jpg.rf.754dc8f0c278131e66ae0867e159e5e0.jpg  \n",
            "  inflating: __MACOSX/+_648_640_640_label_ceo.v1i.yolov7pytorch/valid/images/._SEEEEVERITY_183_jpg.rf.754dc8f0c278131e66ae0867e159e5e0.jpg  \n",
            "  inflating: +_648_640_640_label_ceo.v1i.yolov7pytorch/valid/images/Bus-Truck-Crashes-9-BeamNG-Drive_i_frame_12376_jpg.rf.a2fd90a1bbd98cd81dd131dadf2ca9be.jpg  \n",
            "  inflating: __MACOSX/+_648_640_640_label_ceo.v1i.yolov7pytorch/valid/images/._Bus-Truck-Crashes-9-BeamNG-Drive_i_frame_12376_jpg.rf.a2fd90a1bbd98cd81dd131dadf2ca9be.jpg  \n",
            "  inflating: +_648_640_640_label_ceo.v1i.yolov7pytorch/valid/images/images_jpg.rf.576f9df7118c6eeb09ccc6fdbacbc795.jpg  \n",
            "  inflating: __MACOSX/+_648_640_640_label_ceo.v1i.yolov7pytorch/valid/images/._images_jpg.rf.576f9df7118c6eeb09ccc6fdbacbc795.jpg  \n",
            "  inflating: +_648_640_640_label_ceo.v1i.yolov7pytorch/valid/images/SEVERITY_V10_130_jpg.rf.6bf900281db1598f168a9eedefa2e8b9.jpg  \n",
            "  inflating: __MACOSX/+_648_640_640_label_ceo.v1i.yolov7pytorch/valid/images/._SEVERITY_V10_130_jpg.rf.6bf900281db1598f168a9eedefa2e8b9.jpg  \n",
            "  inflating: +_648_640_640_label_ceo.v1i.yolov7pytorch/valid/images/trafficseverity_img5371_jpg.rf.3503631d3f52df42a9d3a5db624195a1.jpg  \n",
            "  inflating: __MACOSX/+_648_640_640_label_ceo.v1i.yolov7pytorch/valid/images/._trafficseverity_img5371_jpg.rf.3503631d3f52df42a9d3a5db624195a1.jpg  \n",
            "  inflating: +_648_640_640_label_ceo.v1i.yolov7pytorch/valid/images/severity_V18_jpg.rf.d719bdfc92def90bbc1c145f87432a02.jpg  \n",
            "  inflating: __MACOSX/+_648_640_640_label_ceo.v1i.yolov7pytorch/valid/images/._severity_V18_jpg.rf.d719bdfc92def90bbc1c145f87432a02.jpg  \n",
            "  inflating: +_648_640_640_label_ceo.v1i.yolov7pytorch/valid/images/Screen-Shot-2022-04-08-at-7-26-45-AM_png_jpg.rf.b1d8330bceae4390186e209b38585578.jpg  \n",
            "  inflating: __MACOSX/+_648_640_640_label_ceo.v1i.yolov7pytorch/valid/images/._Screen-Shot-2022-04-08-at-7-26-45-AM_png_jpg.rf.b1d8330bceae4390186e209b38585578.jpg  \n",
            "  inflating: +_648_640_640_label_ceo.v1i.yolov7pytorch/valid/images/Screen-Shot-2022-04-06-at-3-50-12-AM_png_jpg.rf.f535348f40ecf2bfd5d692b459250829.jpg  \n",
            "  inflating: __MACOSX/+_648_640_640_label_ceo.v1i.yolov7pytorch/valid/images/._Screen-Shot-2022-04-06-at-3-50-12-AM_png_jpg.rf.f535348f40ecf2bfd5d692b459250829.jpg  \n",
            "  inflating: +_648_640_640_label_ceo.v1i.yolov7pytorch/valid/images/SEVERITY_V10_91_jpg.rf.add95e9dfcc24bea712f40bd6edd212a.jpg  \n",
            "  inflating: __MACOSX/+_648_640_640_label_ceo.v1i.yolov7pytorch/valid/images/._SEVERITY_V10_91_jpg.rf.add95e9dfcc24bea712f40bd6edd212a.jpg  \n",
            "  inflating: +_648_640_640_label_ceo.v1i.yolov7pytorch/valid/images/IMG_1981_PNG_jpg.rf.f28ee0a575b910f6d3426afd2c51670b.jpg  \n",
            "  inflating: __MACOSX/+_648_640_640_label_ceo.v1i.yolov7pytorch/valid/images/._IMG_1981_PNG_jpg.rf.f28ee0a575b910f6d3426afd2c51670b.jpg  \n",
            "  inflating: +_648_640_640_label_ceo.v1i.yolov7pytorch/valid/images/SEV_22_1630_jpg.rf.09667caa7e3971a99c01a378bc5b99cf.jpg  \n",
            "  inflating: __MACOSX/+_648_640_640_label_ceo.v1i.yolov7pytorch/valid/images/._SEV_22_1630_jpg.rf.09667caa7e3971a99c01a378bc5b99cf.jpg  \n",
            "  inflating: +_648_640_640_label_ceo.v1i.yolov7pytorch/valid/images/argusAcc146_jpg.rf.141291e360becc5498942e00c45ba198.jpg  \n",
            "  inflating: __MACOSX/+_648_640_640_label_ceo.v1i.yolov7pytorch/valid/images/._argusAcc146_jpg.rf.141291e360becc5498942e00c45ba198.jpg  \n",
            "  inflating: +_648_640_640_label_ceo.v1i.yolov7pytorch/valid/images/images-1_jpeg_jpg.rf.01bf7758bc51290c08bc24ed4a111db8.jpg  \n",
            "  inflating: __MACOSX/+_648_640_640_label_ceo.v1i.yolov7pytorch/valid/images/._images-1_jpeg_jpg.rf.01bf7758bc51290c08bc24ed4a111db8.jpg  \n",
            "  inflating: +_648_640_640_label_ceo.v1i.yolov7pytorch/valid/images/SEEEEVERITY_43_jpg.rf.076deb74b6b3b47f49041429e3a72605.jpg  \n",
            "  inflating: __MACOSX/+_648_640_640_label_ceo.v1i.yolov7pytorch/valid/images/._SEEEEVERITY_43_jpg.rf.076deb74b6b3b47f49041429e3a72605.jpg  \n",
            "  inflating: +_648_640_640_label_ceo.v1i.yolov7pytorch/valid/images/SEVERITY_V10_27_jpg.rf.600b2bfa3485c45001bf34d17536ced4.jpg  \n",
            "  inflating: __MACOSX/+_648_640_640_label_ceo.v1i.yolov7pytorch/valid/images/._SEVERITY_V10_27_jpg.rf.600b2bfa3485c45001bf34d17536ced4.jpg  \n",
            "  inflating: +_648_640_640_label_ceo.v1i.yolov7pytorch/valid/images/SEV_V8_Img_119_jpg.rf.64c3386d56c7ff3081fd0400e07aace0.jpg  \n",
            "  inflating: __MACOSX/+_648_640_640_label_ceo.v1i.yolov7pytorch/valid/images/._SEV_V8_Img_119_jpg.rf.64c3386d56c7ff3081fd0400e07aace0.jpg  \n",
            "  inflating: +_648_640_640_label_ceo.v1i.yolov7pytorch/valid/images/accidentFrame155_jpg.rf.6694a072c847f7ac0dc25737623e1f7c.jpg  \n",
            "  inflating: __MACOSX/+_648_640_640_label_ceo.v1i.yolov7pytorch/valid/images/._accidentFrame155_jpg.rf.6694a072c847f7ac0dc25737623e1f7c.jpg  \n",
            "  inflating: +_648_640_640_label_ceo.v1i.yolov7pytorch/valid/images/accidentFrame10819_jpg.rf.51ef699f3d2f1cf589d2747505ac34ca.jpg  \n",
            "  inflating: __MACOSX/+_648_640_640_label_ceo.v1i.yolov7pytorch/valid/images/._accidentFrame10819_jpg.rf.51ef699f3d2f1cf589d2747505ac34ca.jpg  \n",
            "  inflating: +_648_640_640_label_ceo.v1i.yolov7pytorch/valid/images/Semi-RealisticVD-29_jpg.rf.130eb2b519b71ee21e85a923cfb8374f.jpg  \n",
            "  inflating: __MACOSX/+_648_640_640_label_ceo.v1i.yolov7pytorch/valid/images/._Semi-RealisticVD-29_jpg.rf.130eb2b519b71ee21e85a923cfb8374f.jpg  \n",
            "  inflating: +_648_640_640_label_ceo.v1i.yolov7pytorch/valid/images/traffic_img484_jpg.rf.c232a351282087341b12470ec428555b.jpg  \n",
            "  inflating: __MACOSX/+_648_640_640_label_ceo.v1i.yolov7pytorch/valid/images/._traffic_img484_jpg.rf.c232a351282087341b12470ec428555b.jpg  \n",
            "  inflating: +_648_640_640_label_ceo.v1i.yolov7pytorch/valid/images/SEVERITY_DATA_129_jpg.rf.0bc164aa55502d872b5213ccc7933e14.jpg  \n",
            "  inflating: __MACOSX/+_648_640_640_label_ceo.v1i.yolov7pytorch/valid/images/._SEVERITY_DATA_129_jpg.rf.0bc164aa55502d872b5213ccc7933e14.jpg  \n",
            "  inflating: +_648_640_640_label_ceo.v1i.yolov7pytorch/valid/images/IMG_2349_PNG_jpg.rf.91dd3492f7d6ffd54949618156acc41b.jpg  \n",
            "  inflating: __MACOSX/+_648_640_640_label_ceo.v1i.yolov7pytorch/valid/images/._IMG_2349_PNG_jpg.rf.91dd3492f7d6ffd54949618156acc41b.jpg  \n",
            "  inflating: +_648_640_640_label_ceo.v1i.yolov7pytorch/valid/images/trafficseverity_img5275_jpg.rf.b86b63d22fc00569b7a826de7528a610.jpg  \n",
            "  inflating: __MACOSX/+_648_640_640_label_ceo.v1i.yolov7pytorch/valid/images/._trafficseverity_img5275_jpg.rf.b86b63d22fc00569b7a826de7528a610.jpg  \n",
            "  inflating: +_648_640_640_label_ceo.v1i.yolov7pytorch/valid/images/traffic_img971_jpg.rf.1d063f030214ad5410f90b0143b6e1c0.jpg  \n",
            "  inflating: __MACOSX/+_648_640_640_label_ceo.v1i.yolov7pytorch/valid/images/._traffic_img971_jpg.rf.1d063f030214ad5410f90b0143b6e1c0.jpg  \n",
            "  inflating: +_648_640_640_label_ceo.v1i.yolov7pytorch/valid/images/IMG_2567_PNG_jpg.rf.8e37ae89d9c0bd01ac824e3bf9b99007.jpg  \n",
            "  inflating: __MACOSX/+_648_640_640_label_ceo.v1i.yolov7pytorch/valid/images/._IMG_2567_PNG_jpg.rf.8e37ae89d9c0bd01ac824e3bf9b99007.jpg  \n",
            "  inflating: +_648_640_640_label_ceo.v1i.yolov7pytorch/valid/images/traffic_img4633_jpg.rf.590d209b79c1d47bb0e4ca248ab20778.jpg  \n",
            "  inflating: __MACOSX/+_648_640_640_label_ceo.v1i.yolov7pytorch/valid/images/._traffic_img4633_jpg.rf.590d209b79c1d47bb0e4ca248ab20778.jpg  \n",
            "  inflating: +_648_640_640_label_ceo.v1i.yolov7pytorch/valid/images/SEV_V8_Img_174_jpg.rf.3f5f1f1e532de08ff69e1c1deb3397d0.jpg  \n",
            "  inflating: __MACOSX/+_648_640_640_label_ceo.v1i.yolov7pytorch/valid/images/._SEV_V8_Img_174_jpg.rf.3f5f1f1e532de08ff69e1c1deb3397d0.jpg  \n",
            "  inflating: +_648_640_640_label_ceo.v1i.yolov7pytorch/valid/images/images-57-_jpeg_jpg.rf.461202c4c3bf3d7455c81eaf8aee3094.jpg  \n",
            "  inflating: __MACOSX/+_648_640_640_label_ceo.v1i.yolov7pytorch/valid/images/._images-57-_jpeg_jpg.rf.461202c4c3bf3d7455c81eaf8aee3094.jpg  \n",
            "  inflating: +_648_640_640_label_ceo.v1i.yolov7pytorch/valid/images/SEV_22_3316_jpg.rf.303db4c64bea2b398102e05e45a92767.jpg  \n",
            "  inflating: __MACOSX/+_648_640_640_label_ceo.v1i.yolov7pytorch/valid/images/._SEV_22_3316_jpg.rf.303db4c64bea2b398102e05e45a92767.jpg  \n",
            "  inflating: +_648_640_640_label_ceo.v1i.yolov7pytorch/valid/images/traffic_img1091_jpg.rf.3f7adf3f90dea191e3179a09032cb8a5.jpg  \n",
            "  inflating: __MACOSX/+_648_640_640_label_ceo.v1i.yolov7pytorch/valid/images/._traffic_img1091_jpg.rf.3f7adf3f90dea191e3179a09032cb8a5.jpg  \n",
            "  inflating: +_648_640_640_label_ceo.v1i.yolov7pytorch/valid/images/trafficseverity_img1418_jpg.rf.e669e67e4cbdc8812f922c24f9021a8e.jpg  \n",
            "  inflating: __MACOSX/+_648_640_640_label_ceo.v1i.yolov7pytorch/valid/images/._trafficseverity_img1418_jpg.rf.e669e67e4cbdc8812f922c24f9021a8e.jpg  \n",
            "  inflating: +_648_640_640_label_ceo.v1i.yolov7pytorch/valid/images/SEV_22_3309_jpg.rf.84917c5380cc3a523277c8a2e41c60e4.jpg  \n",
            "  inflating: __MACOSX/+_648_640_640_label_ceo.v1i.yolov7pytorch/valid/images/._SEV_22_3309_jpg.rf.84917c5380cc3a523277c8a2e41c60e4.jpg  \n",
            "  inflating: +_648_640_640_label_ceo.v1i.yolov7pytorch/valid/images/SEEEEVERITY_344_jpg.rf.5f773429f0f17e342722cabaf20699f7.jpg  \n",
            "  inflating: __MACOSX/+_648_640_640_label_ceo.v1i.yolov7pytorch/valid/images/._SEEEEVERITY_344_jpg.rf.5f773429f0f17e342722cabaf20699f7.jpg  \n",
            "  inflating: +_648_640_640_label_ceo.v1i.yolov7pytorch/valid/images/SEVERITY_V13_12_jpg.rf.01507c95cf9c2b0243700d75881cd7d7.jpg  \n",
            "  inflating: __MACOSX/+_648_640_640_label_ceo.v1i.yolov7pytorch/valid/images/._SEVERITY_V13_12_jpg.rf.01507c95cf9c2b0243700d75881cd7d7.jpg  \n",
            "  inflating: +_648_640_640_label_ceo.v1i.yolov7pytorch/valid/images/SEEEEVERITY_231_jpg.rf.3cccdc71f63558f19e63151fc8d3fcc7.jpg  \n",
            "  inflating: __MACOSX/+_648_640_640_label_ceo.v1i.yolov7pytorch/valid/images/._SEEEEVERITY_231_jpg.rf.3cccdc71f63558f19e63151fc8d3fcc7.jpg  \n",
            "  inflating: +_648_640_640_label_ceo.v1i.yolov7pytorch/valid/images/IMG_1556_PNG_jpg.rf.ee1f12328a0ec992aabb5d3f7b0e7a55.jpg  \n",
            "  inflating: __MACOSX/+_648_640_640_label_ceo.v1i.yolov7pytorch/valid/images/._IMG_1556_PNG_jpg.rf.ee1f12328a0ec992aabb5d3f7b0e7a55.jpg  \n",
            "  inflating: +_648_640_640_label_ceo.v1i.yolov7pytorch/valid/images/SEVERITY_DATA_88_jpg.rf.c0094a015701a2282c2b5a4895bc671f.jpg  \n",
            "  inflating: __MACOSX/+_648_640_640_label_ceo.v1i.yolov7pytorch/valid/images/._SEVERITY_DATA_88_jpg.rf.c0094a015701a2282c2b5a4895bc671f.jpg  \n",
            "  inflating: +_648_640_640_label_ceo.v1i.yolov7pytorch/valid/images/IMG_2573_PNG_jpg.rf.e68a68d01381b3e509291688e30dc67c.jpg  \n",
            "  inflating: __MACOSX/+_648_640_640_label_ceo.v1i.yolov7pytorch/valid/images/._IMG_2573_PNG_jpg.rf.e68a68d01381b3e509291688e30dc67c.jpg  \n",
            "  inflating: +_648_640_640_label_ceo.v1i.yolov7pytorch/valid/images/SEV_22_2284_jpg.rf.5a702d6a8c07da0c3cfd2c2b1d53a885.jpg  \n",
            "  inflating: __MACOSX/+_648_640_640_label_ceo.v1i.yolov7pytorch/valid/images/._SEV_22_2284_jpg.rf.5a702d6a8c07da0c3cfd2c2b1d53a885.jpg  \n",
            "  inflating: +_648_640_640_label_ceo.v1i.yolov7pytorch/valid/images/images-2022-04-07T065028-192_jpeg_jpg.rf.78606b4af55a5bd9fc828df76fcd751a.jpg  \n",
            "  inflating: __MACOSX/+_648_640_640_label_ceo.v1i.yolov7pytorch/valid/images/._images-2022-04-07T065028-192_jpeg_jpg.rf.78606b4af55a5bd9fc828df76fcd751a.jpg  \n",
            "  inflating: +_648_640_640_label_ceo.v1i.yolov7pytorch/valid/images/severity_V131_jpg.rf.81b83e6a00ad3b37fc7b1a85cbe11a81.jpg  \n",
            "  inflating: __MACOSX/+_648_640_640_label_ceo.v1i.yolov7pytorch/valid/images/._severity_V131_jpg.rf.81b83e6a00ad3b37fc7b1a85cbe11a81.jpg  \n",
            "  inflating: +_648_640_640_label_ceo.v1i.yolov7pytorch/valid/images/SEV_22_2055_jpg.rf.caf0e1c72f68abe3e9ea48037a95cd5f.jpg  \n",
            "  inflating: __MACOSX/+_648_640_640_label_ceo.v1i.yolov7pytorch/valid/images/._SEV_22_2055_jpg.rf.caf0e1c72f68abe3e9ea48037a95cd5f.jpg  \n",
            "  inflating: +_648_640_640_label_ceo.v1i.yolov7pytorch/valid/images/CARimage399_jpg.rf.1f9228e7273eb088ea8aa9942552dab2.jpg  \n",
            "  inflating: __MACOSX/+_648_640_640_label_ceo.v1i.yolov7pytorch/valid/images/._CARimage399_jpg.rf.1f9228e7273eb088ea8aa9942552dab2.jpg  \n",
            "  inflating: +_648_640_640_label_ceo.v1i.yolov7pytorch/valid/images/SEV_22_1582_jpg.rf.9fb470be03886a7780a661c090d4405c.jpg  \n",
            "  inflating: __MACOSX/+_648_640_640_label_ceo.v1i.yolov7pytorch/valid/images/._SEV_22_1582_jpg.rf.9fb470be03886a7780a661c090d4405c.jpg  \n",
            "  inflating: +_648_640_640_label_ceo.v1i.yolov7pytorch/valid/images/traffic_img2600_jpg.rf.ec7050944f5126485b8ebc9290c425f6.jpg  \n",
            "  inflating: __MACOSX/+_648_640_640_label_ceo.v1i.yolov7pytorch/valid/images/._traffic_img2600_jpg.rf.ec7050944f5126485b8ebc9290c425f6.jpg  \n",
            "  inflating: +_648_640_640_label_ceo.v1i.yolov7pytorch/valid/images/screen_images7_png_jpg.rf.3755a075c79f4de85dfeeb1357aeb215.jpg  \n",
            "  inflating: __MACOSX/+_648_640_640_label_ceo.v1i.yolov7pytorch/valid/images/._screen_images7_png_jpg.rf.3755a075c79f4de85dfeeb1357aeb215.jpg  \n",
            "  inflating: +_648_640_640_label_ceo.v1i.yolov7pytorch/valid/images/SEV_22_2970_jpg.rf.b02f12633873bce9f7936456e70a356d.jpg  \n",
            "  inflating: __MACOSX/+_648_640_640_label_ceo.v1i.yolov7pytorch/valid/images/._SEV_22_2970_jpg.rf.b02f12633873bce9f7936456e70a356d.jpg  \n",
            "  inflating: +_648_640_640_label_ceo.v1i.yolov7pytorch/valid/images/trafficseverity_img927_jpg.rf.c42f448ca7fd7b429c2fd0376b8e905e.jpg  \n",
            "  inflating: __MACOSX/+_648_640_640_label_ceo.v1i.yolov7pytorch/valid/images/._trafficseverity_img927_jpg.rf.c42f448ca7fd7b429c2fd0376b8e905e.jpg  \n",
            "  inflating: +_648_640_640_label_ceo.v1i.yolov7pytorch/valid/images/Screen-Shot-2022-04-07-at-7-35-38-PM_png_jpg.rf.f26463b5d948016917486d7dc5505038.jpg  \n",
            "  inflating: __MACOSX/+_648_640_640_label_ceo.v1i.yolov7pytorch/valid/images/._Screen-Shot-2022-04-07-at-7-35-38-PM_png_jpg.rf.f26463b5d948016917486d7dc5505038.jpg  \n",
            "  inflating: +_648_640_640_label_ceo.v1i.yolov7pytorch/valid/images/SEV_V8_Img_29_jpg.rf.fb5508343859da3f5d2023a631f1edd2.jpg  \n",
            "  inflating: __MACOSX/+_648_640_640_label_ceo.v1i.yolov7pytorch/valid/images/._SEV_V8_Img_29_jpg.rf.fb5508343859da3f5d2023a631f1edd2.jpg  \n",
            "  inflating: +_648_640_640_label_ceo.v1i.yolov7pytorch/valid/images/SEVERITY_V10_115_jpg.rf.beb03fb7494acdecd8ea7665f3a4f49b.jpg  \n",
            "  inflating: __MACOSX/+_648_640_640_label_ceo.v1i.yolov7pytorch/valid/images/._SEVERITY_V10_115_jpg.rf.beb03fb7494acdecd8ea7665f3a4f49b.jpg  \n",
            "  inflating: +_648_640_640_label_ceo.v1i.yolov7pytorch/valid/images/trafficseverity_img957_jpg.rf.ebf728ee80bc07bccbf208e4828f4b25.jpg  \n",
            "  inflating: __MACOSX/+_648_640_640_label_ceo.v1i.yolov7pytorch/valid/images/._trafficseverity_img957_jpg.rf.ebf728ee80bc07bccbf208e4828f4b25.jpg  \n",
            "  inflating: +_648_640_640_label_ceo.v1i.yolov7pytorch/valid/images/images-7_jpg.rf.e2a798e152d80bfb81796f5e49f8cc40.jpg  \n",
            "  inflating: __MACOSX/+_648_640_640_label_ceo.v1i.yolov7pytorch/valid/images/._images-7_jpg.rf.e2a798e152d80bfb81796f5e49f8cc40.jpg  \n",
            "  inflating: +_648_640_640_label_ceo.v1i.yolov7pytorch/valid/images/traffic_img3363_jpg.rf.0003e8f4b83979f3fd6577d69ff3104d.jpg  \n",
            "  inflating: __MACOSX/+_648_640_640_label_ceo.v1i.yolov7pytorch/valid/images/._traffic_img3363_jpg.rf.0003e8f4b83979f3fd6577d69ff3104d.jpg  \n",
            "  inflating: +_648_640_640_label_ceo.v1i.yolov7pytorch/valid/images/IMG_2431_PNG_jpg.rf.3dd626d513943ee7f9c358e6f0152bc9.jpg  \n",
            "  inflating: __MACOSX/+_648_640_640_label_ceo.v1i.yolov7pytorch/valid/images/._IMG_2431_PNG_jpg.rf.3dd626d513943ee7f9c358e6f0152bc9.jpg  \n",
            "  inflating: +_648_640_640_label_ceo.v1i.yolov7pytorch/valid/images/SEV_22_485_jpg.rf.1d197218c6e3953ada823f8c80145cff.jpg  \n",
            "  inflating: __MACOSX/+_648_640_640_label_ceo.v1i.yolov7pytorch/valid/images/._SEV_22_485_jpg.rf.1d197218c6e3953ada823f8c80145cff.jpg  \n",
            "  inflating: +_648_640_640_label_ceo.v1i.yolov7pytorch/valid/images/screen_images10_png_jpg.rf.6a0af6f0f7db0e59d4a3386b8ae150f6.jpg  \n",
            "  inflating: __MACOSX/+_648_640_640_label_ceo.v1i.yolov7pytorch/valid/images/._screen_images10_png_jpg.rf.6a0af6f0f7db0e59d4a3386b8ae150f6.jpg  \n",
            "  inflating: +_648_640_640_label_ceo.v1i.yolov7pytorch/valid/images/screen_images6_png_jpg.rf.ba9c757bb9bbc5c1554fe3c3b62125ec.jpg  \n",
            "  inflating: __MACOSX/+_648_640_640_label_ceo.v1i.yolov7pytorch/valid/images/._screen_images6_png_jpg.rf.ba9c757bb9bbc5c1554fe3c3b62125ec.jpg  \n",
            "  inflating: +_648_640_640_label_ceo.v1i.yolov7pytorch/valid/images/traffic_img5527_jpg.rf.e34e9b5d342f3b24555ce3871670ddd9.jpg  \n",
            "  inflating: __MACOSX/+_648_640_640_label_ceo.v1i.yolov7pytorch/valid/images/._traffic_img5527_jpg.rf.e34e9b5d342f3b24555ce3871670ddd9.jpg  \n",
            "  inflating: +_648_640_640_label_ceo.v1i.yolov7pytorch/valid/images/trafficseverity_img1035_jpg.rf.491d3d60b46ffdc29e008eb2120ca884.jpg  \n",
            "  inflating: __MACOSX/+_648_640_640_label_ceo.v1i.yolov7pytorch/valid/images/._trafficseverity_img1035_jpg.rf.491d3d60b46ffdc29e008eb2120ca884.jpg  \n",
            "  inflating: +_648_640_640_label_ceo.v1i.yolov7pytorch/valid/images/argusAcc191_jpg.rf.4a9dbb8c93c27d4c7a7a850f7a7f7194.jpg  \n",
            "  inflating: __MACOSX/+_648_640_640_label_ceo.v1i.yolov7pytorch/valid/images/._argusAcc191_jpg.rf.4a9dbb8c93c27d4c7a7a850f7a7f7194.jpg  \n",
            "  inflating: +_648_640_640_label_ceo.v1i.yolov7pytorch/valid/images/Screen-Shot-2022-04-08-at-5-56-19-AM_png_jpg.rf.153003100e74d2a990cbfaf1d478f87b.jpg  \n",
            "  inflating: __MACOSX/+_648_640_640_label_ceo.v1i.yolov7pytorch/valid/images/._Screen-Shot-2022-04-08-at-5-56-19-AM_png_jpg.rf.153003100e74d2a990cbfaf1d478f87b.jpg  \n",
            "  inflating: +_648_640_640_label_ceo.v1i.yolov7pytorch/valid/images/IMG_2337_PNG_jpg.rf.af1761cc54ac507469ac9979895ec389.jpg  \n",
            "  inflating: __MACOSX/+_648_640_640_label_ceo.v1i.yolov7pytorch/valid/images/._IMG_2337_PNG_jpg.rf.af1761cc54ac507469ac9979895ec389.jpg  \n",
            "  inflating: +_648_640_640_label_ceo.v1i.yolov7pytorch/valid/images/traffic_img619_jpg.rf.82beb56e83f8a45f7f5a0dece4e23379.jpg  \n",
            "  inflating: __MACOSX/+_648_640_640_label_ceo.v1i.yolov7pytorch/valid/images/._traffic_img619_jpg.rf.82beb56e83f8a45f7f5a0dece4e23379.jpg  \n",
            "  inflating: +_648_640_640_label_ceo.v1i.yolov7pytorch/valid/images/trafficseverity_img372_jpg.rf.004b631de174eba6047f37de2771a615.jpg  \n",
            "  inflating: __MACOSX/+_648_640_640_label_ceo.v1i.yolov7pytorch/valid/images/._trafficseverity_img372_jpg.rf.004b631de174eba6047f37de2771a615.jpg  \n",
            "  inflating: +_648_640_640_label_ceo.v1i.yolov7pytorch/valid/images/SEV_22_4070_jpg.rf.e8cb6a76b440d93c5075e87169acf2f7.jpg  \n",
            "  inflating: __MACOSX/+_648_640_640_label_ceo.v1i.yolov7pytorch/valid/images/._SEV_22_4070_jpg.rf.e8cb6a76b440d93c5075e87169acf2f7.jpg  \n",
            "  inflating: +_648_640_640_label_ceo.v1i.yolov7pytorch/valid/images/severity_V133_jpg.rf.0bdf2972dabc30b030eccb10cce6883f.jpg  \n",
            "  inflating: __MACOSX/+_648_640_640_label_ceo.v1i.yolov7pytorch/valid/images/._severity_V133_jpg.rf.0bdf2972dabc30b030eccb10cce6883f.jpg  \n",
            "  inflating: +_648_640_640_label_ceo.v1i.yolov7pytorch/valid/images/trafficseverity_img449_jpg.rf.be2672f8886a81d9fe0d3b167cd76d0f.jpg  \n",
            "  inflating: __MACOSX/+_648_640_640_label_ceo.v1i.yolov7pytorch/valid/images/._trafficseverity_img449_jpg.rf.be2672f8886a81d9fe0d3b167cd76d0f.jpg  \n",
            "  inflating: +_648_640_640_label_ceo.v1i.yolov7pytorch/valid/images/IMG_1532_PNG_jpg.rf.84e39f27a0061d935177817aff182070.jpg  \n",
            "  inflating: __MACOSX/+_648_640_640_label_ceo.v1i.yolov7pytorch/valid/images/._IMG_1532_PNG_jpg.rf.84e39f27a0061d935177817aff182070.jpg  \n",
            "  inflating: +_648_640_640_label_ceo.v1i.yolov7pytorch/valid/images/Screen-Shot-2022-04-07-at-8-21-27-AM_png_jpg.rf.9ff495da166f1c6b8aceac1291ccd327.jpg  \n",
            "  inflating: __MACOSX/+_648_640_640_label_ceo.v1i.yolov7pytorch/valid/images/._Screen-Shot-2022-04-07-at-8-21-27-AM_png_jpg.rf.9ff495da166f1c6b8aceac1291ccd327.jpg  \n",
            "  inflating: +_648_640_640_label_ceo.v1i.yolov7pytorch/valid/images/IMG_2345_PNG_jpg.rf.dec4412066745f5992941673d5bf9902.jpg  \n",
            "  inflating: __MACOSX/+_648_640_640_label_ceo.v1i.yolov7pytorch/valid/images/._IMG_2345_PNG_jpg.rf.dec4412066745f5992941673d5bf9902.jpg  \n",
            "  inflating: +_648_640_640_label_ceo.v1i.yolov7pytorch/valid/images/SEVERITY_DATA_113_jpg.rf.4a9f5f3a2ffc478c81ea94ce04b5c31f.jpg  \n",
            "  inflating: __MACOSX/+_648_640_640_label_ceo.v1i.yolov7pytorch/valid/images/._SEVERITY_DATA_113_jpg.rf.4a9f5f3a2ffc478c81ea94ce04b5c31f.jpg  \n",
            "  inflating: +_648_640_640_label_ceo.v1i.yolov7pytorch/valid/images/Accident_Img_1475_jpg.rf.76919c136801c924c412dff70e28f890.jpg  \n",
            "  inflating: __MACOSX/+_648_640_640_label_ceo.v1i.yolov7pytorch/valid/images/._Accident_Img_1475_jpg.rf.76919c136801c924c412dff70e28f890.jpg  \n",
            "  inflating: +_648_640_640_label_ceo.v1i.yolov7pytorch/valid/images/SEV_V8_Img_123_jpg.rf.fedb0d4a20670e800e86cd0b9caa691c.jpg  \n",
            "  inflating: __MACOSX/+_648_640_640_label_ceo.v1i.yolov7pytorch/valid/images/._SEV_V8_Img_123_jpg.rf.fedb0d4a20670e800e86cd0b9caa691c.jpg  \n",
            "  inflating: +_648_640_640_label_ceo.v1i.yolov7pytorch/valid/images/trafficseverity_img323_jpg.rf.251f372d02e59e1db946cfa9353896b7.jpg  \n",
            "  inflating: __MACOSX/+_648_640_640_label_ceo.v1i.yolov7pytorch/valid/images/._trafficseverity_img323_jpg.rf.251f372d02e59e1db946cfa9353896b7.jpg  \n",
            "  inflating: +_648_640_640_label_ceo.v1i.yolov7pytorch/valid/images/accidentFrame4145_jpg.rf.4155c836aecfc3389752ac7274ce6dc7.jpg  \n",
            "  inflating: __MACOSX/+_648_640_640_label_ceo.v1i.yolov7pytorch/valid/images/._accidentFrame4145_jpg.rf.4155c836aecfc3389752ac7274ce6dc7.jpg  \n",
            "  inflating: +_648_640_640_label_ceo.v1i.yolov7pytorch/valid/images/trafficseverity_img847_jpg.rf.2ccb8fc1f7a146a5a7e8e8de0171b6b2.jpg  \n",
            "  inflating: __MACOSX/+_648_640_640_label_ceo.v1i.yolov7pytorch/valid/images/._trafficseverity_img847_jpg.rf.2ccb8fc1f7a146a5a7e8e8de0171b6b2.jpg  \n",
            "  inflating: +_648_640_640_label_ceo.v1i.yolov7pytorch/valid/images/IMG_1972_PNG_jpg.rf.fe8866643865fce3f1f9995739e79305.jpg  \n",
            "  inflating: __MACOSX/+_648_640_640_label_ceo.v1i.yolov7pytorch/valid/images/._IMG_1972_PNG_jpg.rf.fe8866643865fce3f1f9995739e79305.jpg  \n",
            "  inflating: +_648_640_640_label_ceo.v1i.yolov7pytorch/valid/images/CARimage338_jpg.rf.8138a9c19fb343cc2f196740774bdda3.jpg  \n",
            "  inflating: __MACOSX/+_648_640_640_label_ceo.v1i.yolov7pytorch/valid/images/._CARimage338_jpg.rf.8138a9c19fb343cc2f196740774bdda3.jpg  \n",
            "  inflating: +_648_640_640_label_ceo.v1i.yolov7pytorch/valid/images/trafficseverity_img757_jpg.rf.36ea545da01bbe599fa108ca8d66f1f0.jpg  \n",
            "  inflating: __MACOSX/+_648_640_640_label_ceo.v1i.yolov7pytorch/valid/images/._trafficseverity_img757_jpg.rf.36ea545da01bbe599fa108ca8d66f1f0.jpg  \n",
            "  inflating: +_648_640_640_label_ceo.v1i.yolov7pytorch/valid/images/SEVERITY_V10_64_jpg.rf.a6cc675a9e5e854e144e5fa343690577.jpg  \n",
            "  inflating: __MACOSX/+_648_640_640_label_ceo.v1i.yolov7pytorch/valid/images/._SEVERITY_V10_64_jpg.rf.a6cc675a9e5e854e144e5fa343690577.jpg  \n",
            "  inflating: +_648_640_640_label_ceo.v1i.yolov7pytorch/valid/images/severityV4_72_jpg.rf.18ea213d986ff5cd25e89f474e9ed056.jpg  \n",
            "  inflating: __MACOSX/+_648_640_640_label_ceo.v1i.yolov7pytorch/valid/images/._severityV4_72_jpg.rf.18ea213d986ff5cd25e89f474e9ed056.jpg  \n",
            "  inflating: +_648_640_640_label_ceo.v1i.yolov7pytorch/valid/images/IMG_2129_JPG_jpg.rf.0197bd2ae7b3e8415fdaec32dc4f5e1a.jpg  \n",
            "  inflating: __MACOSX/+_648_640_640_label_ceo.v1i.yolov7pytorch/valid/images/._IMG_2129_JPG_jpg.rf.0197bd2ae7b3e8415fdaec32dc4f5e1a.jpg  \n",
            "  inflating: +_648_640_640_label_ceo.v1i.yolov7pytorch/valid/images/SEVERITY_DATA_31_jpg.rf.b56198ca272cf4a4130ae143ef53bce8.jpg  \n",
            "  inflating: __MACOSX/+_648_640_640_label_ceo.v1i.yolov7pytorch/valid/images/._SEVERITY_DATA_31_jpg.rf.b56198ca272cf4a4130ae143ef53bce8.jpg  \n",
            "  inflating: +_648_640_640_label_ceo.v1i.yolov7pytorch/valid/images/trafficseverity_img3017_jpg.rf.0576797f56bc61d873d967ad6b396dab.jpg  \n",
            "  inflating: __MACOSX/+_648_640_640_label_ceo.v1i.yolov7pytorch/valid/images/._trafficseverity_img3017_jpg.rf.0576797f56bc61d873d967ad6b396dab.jpg  \n",
            "  inflating: +_648_640_640_label_ceo.v1i.yolov7pytorch/valid/images/Screen-Shot-2022-04-13-at-6-56-27-AM_png_jpg.rf.b16723a36673ab25016a459876d84fad.jpg  \n",
            "  inflating: __MACOSX/+_648_640_640_label_ceo.v1i.yolov7pytorch/valid/images/._Screen-Shot-2022-04-13-at-6-56-27-AM_png_jpg.rf.b16723a36673ab25016a459876d84fad.jpg  \n",
            "  inflating: +_648_640_640_label_ceo.v1i.yolov7pytorch/valid/images/Accident_Img_1210_jpg.rf.6c09c268bf23691c2e359cbc879beeb0.jpg  \n",
            "  inflating: __MACOSX/+_648_640_640_label_ceo.v1i.yolov7pytorch/valid/images/._Accident_Img_1210_jpg.rf.6c09c268bf23691c2e359cbc879beeb0.jpg  \n",
            "  inflating: +_648_640_640_label_ceo.v1i.yolov7pytorch/valid/images/EXTREME-CAR-CRASH-1-HOUR-COMPILATION-BIGGEST-CAR-CRASHES-1_i_frame_35840_jpg.rf.86a0a384be9ecfc99268e29a90fc07e0.jpg  \n",
            "  inflating: __MACOSX/+_648_640_640_label_ceo.v1i.yolov7pytorch/valid/images/._EXTREME-CAR-CRASH-1-HOUR-COMPILATION-BIGGEST-CAR-CRASHES-1_i_frame_35840_jpg.rf.86a0a384be9ecfc99268e29a90fc07e0.jpg  \n",
            "  inflating: +_648_640_640_label_ceo.v1i.yolov7pytorch/valid/images/SEVERITY_V10_14_jpg.rf.aa3379b07fb2ef1533390d0dd8f241a5.jpg  \n",
            "  inflating: __MACOSX/+_648_640_640_label_ceo.v1i.yolov7pytorch/valid/images/._SEVERITY_V10_14_jpg.rf.aa3379b07fb2ef1533390d0dd8f241a5.jpg  \n",
            "  inflating: +_648_640_640_label_ceo.v1i.yolov7pytorch/valid/images/traffic_img827_jpg.rf.7140574b40f4ec41a1f7566f433719bd.jpg  \n",
            "  inflating: __MACOSX/+_648_640_640_label_ceo.v1i.yolov7pytorch/valid/images/._traffic_img827_jpg.rf.7140574b40f4ec41a1f7566f433719bd.jpg  \n",
            "  inflating: +_648_640_640_label_ceo.v1i.yolov7pytorch/valid/images/IMG_2312_PNG_jpg.rf.66ed738e134ffcad9166882771de30d2.jpg  \n",
            "  inflating: __MACOSX/+_648_640_640_label_ceo.v1i.yolov7pytorch/valid/images/._IMG_2312_PNG_jpg.rf.66ed738e134ffcad9166882771de30d2.jpg  \n",
            "  inflating: +_648_640_640_label_ceo.v1i.yolov7pytorch/valid/images/traffic_img4873_jpg.rf.a62b83bd4e9fa6e2ff1e3a2fbdf26ad1.jpg  \n",
            "  inflating: __MACOSX/+_648_640_640_label_ceo.v1i.yolov7pytorch/valid/images/._traffic_img4873_jpg.rf.a62b83bd4e9fa6e2ff1e3a2fbdf26ad1.jpg  \n",
            "  inflating: +_648_640_640_label_ceo.v1i.yolov7pytorch/valid/images/IMG_2319_PNG_jpg.rf.0c0b442a72a71d38489dfb0c02459f82.jpg  \n",
            "  inflating: __MACOSX/+_648_640_640_label_ceo.v1i.yolov7pytorch/valid/images/._IMG_2319_PNG_jpg.rf.0c0b442a72a71d38489dfb0c02459f82.jpg  \n",
            "  inflating: +_648_640_640_label_ceo.v1i.yolov7pytorch/valid/images/vid_1_i_frame_15448_jpg.rf.312ad0de6abf2bb1e6428d375c8b7f35.jpg  \n",
            "  inflating: __MACOSX/+_648_640_640_label_ceo.v1i.yolov7pytorch/valid/images/._vid_1_i_frame_15448_jpg.rf.312ad0de6abf2bb1e6428d375c8b7f35.jpg  \n",
            "  inflating: +_648_640_640_label_ceo.v1i.yolov7pytorch/valid/images/SEV_V8_Img_165_jpg.rf.b9d9b1f758d08ee4bb01f56e171ea1ee.jpg  \n",
            "  inflating: __MACOSX/+_648_640_640_label_ceo.v1i.yolov7pytorch/valid/images/._SEV_V8_Img_165_jpg.rf.b9d9b1f758d08ee4bb01f56e171ea1ee.jpg  \n",
            "  inflating: +_648_640_640_label_ceo.v1i.yolov7pytorch/valid/images/SEEEEVERITY_368_jpg.rf.381aa2a5709be9f16eb147a1fe9a695c.jpg  \n",
            "  inflating: __MACOSX/+_648_640_640_label_ceo.v1i.yolov7pytorch/valid/images/._SEEEEVERITY_368_jpg.rf.381aa2a5709be9f16eb147a1fe9a695c.jpg  \n",
            "  inflating: +_648_640_640_label_ceo.v1i.yolov7pytorch/valid/images/trafficseverity_img1052_jpg.rf.414087eaba8d1291b5ed84fd3d679ce4.jpg  \n",
            "  inflating: __MACOSX/+_648_640_640_label_ceo.v1i.yolov7pytorch/valid/images/._trafficseverity_img1052_jpg.rf.414087eaba8d1291b5ed84fd3d679ce4.jpg  \n",
            "  inflating: +_648_640_640_label_ceo.v1i.yolov7pytorch/valid/images/Screen-Shot-2022-04-06-at-4-23-47-AM_png_jpg.rf.ef8d1c0e4bdf2c5c8b10a4bd27c982fd.jpg  \n",
            "  inflating: __MACOSX/+_648_640_640_label_ceo.v1i.yolov7pytorch/valid/images/._Screen-Shot-2022-04-06-at-4-23-47-AM_png_jpg.rf.ef8d1c0e4bdf2c5c8b10a4bd27c982fd.jpg  \n",
            "  inflating: +_648_640_640_label_ceo.v1i.yolov7pytorch/valid/images/IMG_1577_PNG_jpg.rf.64f34fe3ada17e58cd0939bae98490f3.jpg  \n",
            "  inflating: __MACOSX/+_648_640_640_label_ceo.v1i.yolov7pytorch/valid/images/._IMG_1577_PNG_jpg.rf.64f34fe3ada17e58cd0939bae98490f3.jpg  \n",
            "  inflating: +_648_640_640_label_ceo.v1i.yolov7pytorch/valid/images/SEEEEVERITY_210_jpg.rf.9c9a8ea4e3fc4bfbdabbaae0a82e3006.jpg  \n",
            "  inflating: __MACOSX/+_648_640_640_label_ceo.v1i.yolov7pytorch/valid/images/._SEEEEVERITY_210_jpg.rf.9c9a8ea4e3fc4bfbdabbaae0a82e3006.jpg  \n",
            "  inflating: +_648_640_640_label_ceo.v1i.yolov7pytorch/valid/images/trafficseverity_img5646_jpg.rf.6ba45f4d9767e8f744c3da54d230e5d9.jpg  \n",
            "  inflating: __MACOSX/+_648_640_640_label_ceo.v1i.yolov7pytorch/valid/images/._trafficseverity_img5646_jpg.rf.6ba45f4d9767e8f744c3da54d230e5d9.jpg  \n",
            "  inflating: +_648_640_640_label_ceo.v1i.yolov7pytorch/valid/images/SEV_22_1539_jpg.rf.ceaea5b045ebe5900cfee707ccf09d2a.jpg  \n",
            "  inflating: __MACOSX/+_648_640_640_label_ceo.v1i.yolov7pytorch/valid/images/._SEV_22_1539_jpg.rf.ceaea5b045ebe5900cfee707ccf09d2a.jpg  \n",
            "  inflating: +_648_640_640_label_ceo.v1i.yolov7pytorch/valid/images/IMG_1522_PNG_jpg.rf.43c815acfc27952ed9c7880d1c64a48d.jpg  \n",
            "  inflating: __MACOSX/+_648_640_640_label_ceo.v1i.yolov7pytorch/valid/images/._IMG_1522_PNG_jpg.rf.43c815acfc27952ed9c7880d1c64a48d.jpg  \n",
            "  inflating: +_648_640_640_label_ceo.v1i.yolov7pytorch/valid/images/trafficseverity_img3421_jpg.rf.712e0127e408636eb1488aca7132d8c6.jpg  \n",
            "  inflating: __MACOSX/+_648_640_640_label_ceo.v1i.yolov7pytorch/valid/images/._trafficseverity_img3421_jpg.rf.712e0127e408636eb1488aca7132d8c6.jpg  \n",
            "  inflating: +_648_640_640_label_ceo.v1i.yolov7pytorch/valid/images/SEVERITY_V10_71_jpg.rf.3c1083827397ad93c6192026da465acc.jpg  \n",
            "  inflating: __MACOSX/+_648_640_640_label_ceo.v1i.yolov7pytorch/valid/images/._SEVERITY_V10_71_jpg.rf.3c1083827397ad93c6192026da465acc.jpg  \n",
            "  inflating: +_648_640_640_label_ceo.v1i.yolov7pytorch/valid/images/IMG_1613_PNG_jpg.rf.87d27e270bec7f6cb20bbafee077518f.jpg  \n",
            "  inflating: __MACOSX/+_648_640_640_label_ceo.v1i.yolov7pytorch/valid/images/._IMG_1613_PNG_jpg.rf.87d27e270bec7f6cb20bbafee077518f.jpg  \n",
            "  inflating: +_648_640_640_label_ceo.v1i.yolov7pytorch/valid/images/SEV_22_364_jpg.rf.47cc4909a0b1d41fbc789253fa41d4ac.jpg  \n",
            "  inflating: __MACOSX/+_648_640_640_label_ceo.v1i.yolov7pytorch/valid/images/._SEV_22_364_jpg.rf.47cc4909a0b1d41fbc789253fa41d4ac.jpg  \n",
            "  inflating: +_648_640_640_label_ceo.v1i.yolov7pytorch/valid/images/trafficseverity_img2239_jpg.rf.043e815788996af709d08c1de2943ca0.jpg  \n",
            "  inflating: __MACOSX/+_648_640_640_label_ceo.v1i.yolov7pytorch/valid/images/._trafficseverity_img2239_jpg.rf.043e815788996af709d08c1de2943ca0.jpg  \n",
            "  inflating: +_648_640_640_label_ceo.v1i.yolov7pytorch/valid/images/images-12_jpg.rf.9e99ded2405f0553a5b20b344415511a.jpg  \n",
            "  inflating: __MACOSX/+_648_640_640_label_ceo.v1i.yolov7pytorch/valid/images/._images-12_jpg.rf.9e99ded2405f0553a5b20b344415511a.jpg  \n",
            "  inflating: +_648_640_640_label_ceo.v1i.yolov7pytorch/valid/images/trafficseverity_img937_jpg.rf.577505083cf800c68a5b18d42275d171.jpg  \n",
            "  inflating: __MACOSX/+_648_640_640_label_ceo.v1i.yolov7pytorch/valid/images/._trafficseverity_img937_jpg.rf.577505083cf800c68a5b18d42275d171.jpg  \n",
            "  inflating: +_648_640_640_label_ceo.v1i.yolov7pytorch/valid/images/SEEEEVERITY_116_jpg.rf.8b3a3f781eabe47e90e0b50145a86bf7.jpg  \n",
            "  inflating: __MACOSX/+_648_640_640_label_ceo.v1i.yolov7pytorch/valid/images/._SEEEEVERITY_116_jpg.rf.8b3a3f781eabe47e90e0b50145a86bf7.jpg  \n",
            "  inflating: +_648_640_640_label_ceo.v1i.yolov7pytorch/valid/images/SEV_22_3932_jpg.rf.b54233daacd7563595358b4742263223.jpg  \n",
            "  inflating: __MACOSX/+_648_640_640_label_ceo.v1i.yolov7pytorch/valid/images/._SEV_22_3932_jpg.rf.b54233daacd7563595358b4742263223.jpg  \n",
            "  inflating: +_648_640_640_label_ceo.v1i.yolov7pytorch/valid/images/trafficseverity_img2174_jpg.rf.5d30790c83eac145ecbee4577545bb3c.jpg  \n",
            "  inflating: __MACOSX/+_648_640_640_label_ceo.v1i.yolov7pytorch/valid/images/._trafficseverity_img2174_jpg.rf.5d30790c83eac145ecbee4577545bb3c.jpg  \n",
            "  inflating: +_648_640_640_label_ceo.v1i.yolov7pytorch/valid/images/SEVERITY_V10_114_jpg.rf.e14b8cd65ae02c94474d5d19c86fe0c2.jpg  \n",
            "  inflating: __MACOSX/+_648_640_640_label_ceo.v1i.yolov7pytorch/valid/images/._SEVERITY_V10_114_jpg.rf.e14b8cd65ae02c94474d5d19c86fe0c2.jpg  \n",
            "  inflating: +_648_640_640_label_ceo.v1i.yolov7pytorch/valid/images/SEVERITY_DATA_49_jpg.rf.8c8ce63ecdd59e3fdbf86826c74160a3.jpg  \n",
            "  inflating: __MACOSX/+_648_640_640_label_ceo.v1i.yolov7pytorch/valid/images/._SEVERITY_DATA_49_jpg.rf.8c8ce63ecdd59e3fdbf86826c74160a3.jpg  \n",
            "  inflating: +_648_640_640_label_ceo.v1i.yolov7pytorch/valid/images/tt1_png_jpg.rf.a15fb03f3869b72592d938bfb0d87f31.jpg  \n",
            "  inflating: __MACOSX/+_648_640_640_label_ceo.v1i.yolov7pytorch/valid/images/._tt1_png_jpg.rf.a15fb03f3869b72592d938bfb0d87f31.jpg  \n",
            "  inflating: +_648_640_640_label_ceo.v1i.yolov7pytorch/valid/images/trafficseverity_img1024_jpg.rf.36f8318115e9809a2cd0411607267ab2.jpg  \n",
            "  inflating: __MACOSX/+_648_640_640_label_ceo.v1i.yolov7pytorch/valid/images/._trafficseverity_img1024_jpg.rf.36f8318115e9809a2cd0411607267ab2.jpg  \n",
            "  inflating: +_648_640_640_label_ceo.v1i.yolov7pytorch/valid/images/crashbetter_jpg.rf.ad7652dd12203ccac638f640443b882e.jpg  \n",
            "  inflating: __MACOSX/+_648_640_640_label_ceo.v1i.yolov7pytorch/valid/images/._crashbetter_jpg.rf.ad7652dd12203ccac638f640443b882e.jpg  \n",
            "  inflating: +_648_640_640_label_ceo.v1i.yolov7pytorch/valid/images/SEVERITY_V13_18_jpg.rf.5e76265306ef4d139f3f99d7b5eabc94.jpg  \n",
            "  inflating: __MACOSX/+_648_640_640_label_ceo.v1i.yolov7pytorch/valid/images/._SEVERITY_V13_18_jpg.rf.5e76265306ef4d139f3f99d7b5eabc94.jpg  \n",
            "  inflating: +_648_640_640_label_ceo.v1i.yolov7pytorch/valid/images/images-70-_jpeg_jpg.rf.37b4ad6bb2c6dfa27f8a305f79990279.jpg  \n",
            "  inflating: __MACOSX/+_648_640_640_label_ceo.v1i.yolov7pytorch/valid/images/._images-70-_jpeg_jpg.rf.37b4ad6bb2c6dfa27f8a305f79990279.jpg  \n",
            "  inflating: +_648_640_640_label_ceo.v1i.yolov7pytorch/valid/images/SEEEEVERITY_48_jpg.rf.7115b6b836a01aab35c5474784226449.jpg  \n",
            "  inflating: __MACOSX/+_648_640_640_label_ceo.v1i.yolov7pytorch/valid/images/._SEEEEVERITY_48_jpg.rf.7115b6b836a01aab35c5474784226449.jpg  \n",
            "  inflating: +_648_640_640_label_ceo.v1i.yolov7pytorch/valid/images/SEVERITY_V10_85_jpg.rf.9165ba654641f5da532aa410eb36f04a.jpg  \n",
            "  inflating: __MACOSX/+_648_640_640_label_ceo.v1i.yolov7pytorch/valid/images/._SEVERITY_V10_85_jpg.rf.9165ba654641f5da532aa410eb36f04a.jpg  \n",
            "  inflating: +_648_640_640_label_ceo.v1i.yolov7pytorch/valid/images/trafficseverity_img2567_jpg.rf.1341b7ff6781f356f99f9b48f1305499.jpg  \n",
            "  inflating: __MACOSX/+_648_640_640_label_ceo.v1i.yolov7pytorch/valid/images/._trafficseverity_img2567_jpg.rf.1341b7ff6781f356f99f9b48f1305499.jpg  \n",
            "  inflating: +_648_640_640_label_ceo.v1i.yolov7pytorch/valid/images/SEVERITY_DATA_66_jpg.rf.cff6659aaca50d701fcd45c890e1e812.jpg  \n",
            "  inflating: __MACOSX/+_648_640_640_label_ceo.v1i.yolov7pytorch/valid/images/._SEVERITY_DATA_66_jpg.rf.cff6659aaca50d701fcd45c890e1e812.jpg  \n",
            "  inflating: +_648_640_640_label_ceo.v1i.yolov7pytorch/valid/images/SEEEEVERITY_168_jpg.rf.1fdbb0a12e78a423fff11b773ec839e2.jpg  \n",
            "  inflating: __MACOSX/+_648_640_640_label_ceo.v1i.yolov7pytorch/valid/images/._SEEEEVERITY_168_jpg.rf.1fdbb0a12e78a423fff11b773ec839e2.jpg  \n",
            "  inflating: +_648_640_640_label_ceo.v1i.yolov7pytorch/valid/images/trafficseverity_img2908_jpg.rf.a669e494d0c7d760284ab5ef0c54ee77.jpg  \n",
            "  inflating: __MACOSX/+_648_640_640_label_ceo.v1i.yolov7pytorch/valid/images/._trafficseverity_img2908_jpg.rf.a669e494d0c7d760284ab5ef0c54ee77.jpg  \n",
            "  inflating: +_648_640_640_label_ceo.v1i.yolov7pytorch/valid/images/SEV_22_1573_jpg.rf.f2678db94afbbad47b072347adb6da75.jpg  \n",
            "  inflating: __MACOSX/+_648_640_640_label_ceo.v1i.yolov7pytorch/valid/images/._SEV_22_1573_jpg.rf.f2678db94afbbad47b072347adb6da75.jpg  \n",
            "  inflating: +_648_640_640_label_ceo.v1i.yolov7pytorch/valid/images/trafficseverity_img543_jpg.rf.8af99474fd329933e6e2b57275d20047.jpg  \n",
            "  inflating: __MACOSX/+_648_640_640_label_ceo.v1i.yolov7pytorch/valid/images/._trafficseverity_img543_jpg.rf.8af99474fd329933e6e2b57275d20047.jpg  \n",
            "  inflating: +_648_640_640_label_ceo.v1i.yolov7pytorch/valid/images/images-33-_jpeg_jpg.rf.de5f4d0a90d81f52b8428439aa5e4660.jpg  \n",
            "  inflating: __MACOSX/+_648_640_640_label_ceo.v1i.yolov7pytorch/valid/images/._images-33-_jpeg_jpg.rf.de5f4d0a90d81f52b8428439aa5e4660.jpg  \n",
            "  inflating: +_648_640_640_label_ceo.v1i.yolov7pytorch/valid/images/Screen-Shot-2022-04-06-at-3-48-51-AM_png_jpg.rf.298b7349e1d79f1a0094895625050211.jpg  \n",
            "  inflating: __MACOSX/+_648_640_640_label_ceo.v1i.yolov7pytorch/valid/images/._Screen-Shot-2022-04-06-at-3-48-51-AM_png_jpg.rf.298b7349e1d79f1a0094895625050211.jpg  \n",
            "  inflating: +_648_640_640_label_ceo.v1i.yolov7pytorch/valid/images/trafficseverity_img342_jpg.rf.2a23c48a012d90a4cae967093a468b03.jpg  \n",
            "  inflating: __MACOSX/+_648_640_640_label_ceo.v1i.yolov7pytorch/valid/images/._trafficseverity_img342_jpg.rf.2a23c48a012d90a4cae967093a468b03.jpg  \n",
            "  inflating: +_648_640_640_label_ceo.v1i.yolov7pytorch/valid/images/IMG_2046_PNG_jpg.rf.400d4d3f3a14f2592d4b36ed367a5dd8.jpg  \n",
            "  inflating: __MACOSX/+_648_640_640_label_ceo.v1i.yolov7pytorch/valid/images/._IMG_2046_PNG_jpg.rf.400d4d3f3a14f2592d4b36ed367a5dd8.jpg  \n",
            "  inflating: +_648_640_640_label_ceo.v1i.yolov7pytorch/valid/images/1107_jpeg_jpg.rf.1a9ae99982255fac6c6a7da1af6d5486.jpg  \n",
            "  inflating: __MACOSX/+_648_640_640_label_ceo.v1i.yolov7pytorch/valid/images/._1107_jpeg_jpg.rf.1a9ae99982255fac6c6a7da1af6d5486.jpg  \n",
            "  inflating: +_648_640_640_label_ceo.v1i.yolov7pytorch/valid/images/trafficseverity_img1304_jpg.rf.f3193070f4db6b7140e27ea15a9419f5.jpg  \n",
            "  inflating: __MACOSX/+_648_640_640_label_ceo.v1i.yolov7pytorch/valid/images/._trafficseverity_img1304_jpg.rf.f3193070f4db6b7140e27ea15a9419f5.jpg  \n",
            "  inflating: +_648_640_640_label_ceo.v1i.yolov7pytorch/valid/images/severity_V140_jpg.rf.094f9ca6bad6c2a6aafc3105dca9133a.jpg  \n",
            "  inflating: __MACOSX/+_648_640_640_label_ceo.v1i.yolov7pytorch/valid/images/._severity_V140_jpg.rf.094f9ca6bad6c2a6aafc3105dca9133a.jpg  \n",
            "  inflating: +_648_640_640_label_ceo.v1i.yolov7pytorch/valid/images/SEV_V8_Img_129_jpg.rf.8b388b4a93096ad08d9fcc87863e7986.jpg  \n",
            "  inflating: __MACOSX/+_648_640_640_label_ceo.v1i.yolov7pytorch/valid/images/._SEV_V8_Img_129_jpg.rf.8b388b4a93096ad08d9fcc87863e7986.jpg  \n",
            "  inflating: +_648_640_640_label_ceo.v1i.yolov7pytorch/valid/images/severityV3_33_jpeg_jpg.rf.c09d9b2e1b7f13078d3706d8476f40ad.jpg  \n",
            "  inflating: __MACOSX/+_648_640_640_label_ceo.v1i.yolov7pytorch/valid/images/._severityV3_33_jpeg_jpg.rf.c09d9b2e1b7f13078d3706d8476f40ad.jpg  \n",
            "  inflating: +_648_640_640_label_ceo.v1i.yolov7pytorch/valid/images/SEV_22_1442_jpg.rf.91baddfedb806886281698c1cf865ab1.jpg  \n",
            "  inflating: __MACOSX/+_648_640_640_label_ceo.v1i.yolov7pytorch/valid/images/._SEV_22_1442_jpg.rf.91baddfedb806886281698c1cf865ab1.jpg  \n",
            "  inflating: +_648_640_640_label_ceo.v1i.yolov7pytorch/valid/images/IMG_2176_JPG_jpg.rf.3051d0b7fde7686c6596213e3bdd9016.jpg  \n",
            "  inflating: __MACOSX/+_648_640_640_label_ceo.v1i.yolov7pytorch/valid/images/._IMG_2176_JPG_jpg.rf.3051d0b7fde7686c6596213e3bdd9016.jpg  \n",
            "  inflating: +_648_640_640_label_ceo.v1i.yolov7pytorch/valid/images/SEEEEVERITY_14_jpg.rf.32dcc5b3237fd1aff214d8d5751d7d01.jpg  \n",
            "  inflating: __MACOSX/+_648_640_640_label_ceo.v1i.yolov7pytorch/valid/images/._SEEEEVERITY_14_jpg.rf.32dcc5b3237fd1aff214d8d5751d7d01.jpg  \n",
            "  inflating: +_648_640_640_label_ceo.v1i.yolov7pytorch/valid/images/IMG_2594_PNG_jpg.rf.cd2b8ba7b8fa54aa11f2cfbb9dec5731.jpg  \n",
            "  inflating: __MACOSX/+_648_640_640_label_ceo.v1i.yolov7pytorch/valid/images/._IMG_2594_PNG_jpg.rf.cd2b8ba7b8fa54aa11f2cfbb9dec5731.jpg  \n",
            "  inflating: +_648_640_640_label_ceo.v1i.yolov7pytorch/valid/images/Accident_Img_1704_jpg.rf.016d6b09461f6b6214666a47d54bd23a.jpg  \n",
            "  inflating: __MACOSX/+_648_640_640_label_ceo.v1i.yolov7pytorch/valid/images/._Accident_Img_1704_jpg.rf.016d6b09461f6b6214666a47d54bd23a.jpg  \n",
            "  inflating: +_648_640_640_label_ceo.v1i.yolov7pytorch/valid/images/FLIP_CAR_V166_jpg.rf.b3a5b7fd102554f39ffb4264e3eaa8cc.jpg  \n",
            "  inflating: __MACOSX/+_648_640_640_label_ceo.v1i.yolov7pytorch/valid/images/._FLIP_CAR_V166_jpg.rf.b3a5b7fd102554f39ffb4264e3eaa8cc.jpg  \n",
            "  inflating: +_648_640_640_label_ceo.v1i.yolov7pytorch/valid/images/SEEEEVERITY_105_jpg.rf.a2e0a02bb44ef313579162361c74fa91.jpg  \n",
            "  inflating: __MACOSX/+_648_640_640_label_ceo.v1i.yolov7pytorch/valid/images/._SEEEEVERITY_105_jpg.rf.a2e0a02bb44ef313579162361c74fa91.jpg  \n",
            "  inflating: +_648_640_640_label_ceo.v1i.yolov7pytorch/valid/images/trafficseverity_img851_jpg.rf.3a4ea4b004e2bfff12a9b9158abaf273.jpg  \n",
            "  inflating: __MACOSX/+_648_640_640_label_ceo.v1i.yolov7pytorch/valid/images/._trafficseverity_img851_jpg.rf.3a4ea4b004e2bfff12a9b9158abaf273.jpg  \n",
            "  inflating: +_648_640_640_label_ceo.v1i.yolov7pytorch/valid/images/images-13_jpg.rf.00664d5438d104119ae18bfdc5b2621a.jpg  \n",
            "  inflating: __MACOSX/+_648_640_640_label_ceo.v1i.yolov7pytorch/valid/images/._images-13_jpg.rf.00664d5438d104119ae18bfdc5b2621a.jpg  \n",
            "  inflating: +_648_640_640_label_ceo.v1i.yolov7pytorch/valid/images/SEV_22_365_jpg.rf.804e8ada20b7abb0135fc8712a508a15.jpg  \n",
            "  inflating: __MACOSX/+_648_640_640_label_ceo.v1i.yolov7pytorch/valid/images/._SEV_22_365_jpg.rf.804e8ada20b7abb0135fc8712a508a15.jpg  \n",
            "  inflating: +_648_640_640_label_ceo.v1i.yolov7pytorch/valid/images/trafficseverity_img577_jpg.rf.552c0e991e3b41f1a4fde71d9795c8a1.jpg  \n",
            "  inflating: __MACOSX/+_648_640_640_label_ceo.v1i.yolov7pytorch/valid/images/._trafficseverity_img577_jpg.rf.552c0e991e3b41f1a4fde71d9795c8a1.jpg  \n",
            "  inflating: +_648_640_640_label_ceo.v1i.yolov7pytorch/valid/images/IMG_2264_PNG_jpg.rf.2048fcdb2dc8271722252185b59b89f3.jpg  \n",
            "  inflating: __MACOSX/+_648_640_640_label_ceo.v1i.yolov7pytorch/valid/images/._IMG_2264_PNG_jpg.rf.2048fcdb2dc8271722252185b59b89f3.jpg  \n",
            "  inflating: +_648_640_640_label_ceo.v1i.yolov7pytorch/valid/images/SEV_22_2897_jpg.rf.98c55112a8c906d89bbe8add1347ca21.jpg  \n",
            "  inflating: __MACOSX/+_648_640_640_label_ceo.v1i.yolov7pytorch/valid/images/._SEV_22_2897_jpg.rf.98c55112a8c906d89bbe8add1347ca21.jpg  \n",
            "  inflating: +_648_640_640_label_ceo.v1i.yolov7pytorch/valid/images/images-5_jpg.rf.14b1ef31f9079127d62ad1199a811b0d.jpg  \n",
            "  inflating: __MACOSX/+_648_640_640_label_ceo.v1i.yolov7pytorch/valid/images/._images-5_jpg.rf.14b1ef31f9079127d62ad1199a811b0d.jpg  \n",
            "  inflating: +_648_640_640_label_ceo.v1i.yolov7pytorch/valid/images/IMG_1481_PNG_jpg.rf.e87f21771b7cb6aa8b96809c85551511.jpg  \n",
            "  inflating: __MACOSX/+_648_640_640_label_ceo.v1i.yolov7pytorch/valid/images/._IMG_1481_PNG_jpg.rf.e87f21771b7cb6aa8b96809c85551511.jpg  \n",
            "  inflating: +_648_640_640_label_ceo.v1i.yolov7pytorch/valid/images/download-1-_jpeg_jpg.rf.8418623d53265b20d4728df438ab3f82.jpg  \n",
            "  inflating: __MACOSX/+_648_640_640_label_ceo.v1i.yolov7pytorch/valid/images/._download-1-_jpeg_jpg.rf.8418623d53265b20d4728df438ab3f82.jpg  \n",
            "  inflating: +_648_640_640_label_ceo.v1i.yolov7pytorch/valid/images/trafficseverity_img5113_jpg.rf.0b61e572ce4f0e2ce1286c4affd73405.jpg  \n",
            "  inflating: __MACOSX/+_648_640_640_label_ceo.v1i.yolov7pytorch/valid/images/._trafficseverity_img5113_jpg.rf.0b61e572ce4f0e2ce1286c4affd73405.jpg  \n",
            "  inflating: +_648_640_640_label_ceo.v1i.yolov7pytorch/valid/images/Screen-Shot-2022-04-08-at-7-27-37-AM_png_jpg.rf.715d88b1d639f458d317f1b67a72682a.jpg  \n",
            "  inflating: __MACOSX/+_648_640_640_label_ceo.v1i.yolov7pytorch/valid/images/._Screen-Shot-2022-04-08-at-7-27-37-AM_png_jpg.rf.715d88b1d639f458d317f1b67a72682a.jpg  \n",
            "  inflating: +_648_640_640_label_ceo.v1i.yolov7pytorch/valid/images/trafficseverity_img360_jpg.rf.1fd596fa3cb4575faea24c93c497994a.jpg  \n",
            "  inflating: __MACOSX/+_648_640_640_label_ceo.v1i.yolov7pytorch/valid/images/._trafficseverity_img360_jpg.rf.1fd596fa3cb4575faea24c93c497994a.jpg  \n",
            "  inflating: +_648_640_640_label_ceo.v1i.yolov7pytorch/valid/images/IMG_2392_PNG_jpg.rf.5fd88272026772bf760e6322e432fdc9.jpg  \n",
            "  inflating: __MACOSX/+_648_640_640_label_ceo.v1i.yolov7pytorch/valid/images/._IMG_2392_PNG_jpg.rf.5fd88272026772bf760e6322e432fdc9.jpg  \n",
            "  inflating: +_648_640_640_label_ceo.v1i.yolov7pytorch/valid/images/images-2022-04-07T063534-336_jpeg_jpg.rf.239ec49500cdeec67724404078f187d7.jpg  \n",
            "  inflating: __MACOSX/+_648_640_640_label_ceo.v1i.yolov7pytorch/valid/images/._images-2022-04-07T063534-336_jpeg_jpg.rf.239ec49500cdeec67724404078f187d7.jpg  \n",
            "  inflating: +_648_640_640_label_ceo.v1i.yolov7pytorch/valid/images/SEV_22_2638_jpg.rf.28947a7a2da0a7ca73a5d4f9bead8368.jpg  \n",
            "  inflating: __MACOSX/+_648_640_640_label_ceo.v1i.yolov7pytorch/valid/images/._SEV_22_2638_jpg.rf.28947a7a2da0a7ca73a5d4f9bead8368.jpg  \n",
            "  inflating: +_648_640_640_label_ceo.v1i.yolov7pytorch/valid/images/SEEEEVERITY_100_jpg.rf.209e4ba46df58899bbb97f65795bb9e0.jpg  \n",
            "  inflating: __MACOSX/+_648_640_640_label_ceo.v1i.yolov7pytorch/valid/images/._SEEEEVERITY_100_jpg.rf.209e4ba46df58899bbb97f65795bb9e0.jpg  \n",
            "  inflating: +_648_640_640_label_ceo.v1i.yolov7pytorch/valid/images/SEV_22_3448_jpg.rf.e7aab28eff54112b37696bac97d0ac6b.jpg  \n",
            "  inflating: __MACOSX/+_648_640_640_label_ceo.v1i.yolov7pytorch/valid/images/._SEV_22_3448_jpg.rf.e7aab28eff54112b37696bac97d0ac6b.jpg  \n",
            "  inflating: +_648_640_640_label_ceo.v1i.yolov7pytorch/valid/images/trafficseverity_img2238_jpg.rf.47b6066ff6edc8faca502ceab2ebaa52.jpg  \n",
            "  inflating: __MACOSX/+_648_640_640_label_ceo.v1i.yolov7pytorch/valid/images/._trafficseverity_img2238_jpg.rf.47b6066ff6edc8faca502ceab2ebaa52.jpg  \n",
            "  inflating: +_648_640_640_label_ceo.v1i.yolov7pytorch/valid/images/traffic_img525_jpg.rf.eea216b429fec07cd3f446ab59e412bb.jpg  \n",
            "  inflating: __MACOSX/+_648_640_640_label_ceo.v1i.yolov7pytorch/valid/images/._traffic_img525_jpg.rf.eea216b429fec07cd3f446ab59e412bb.jpg  \n",
            "  inflating: +_648_640_640_label_ceo.v1i.yolov7pytorch/valid/images/SEV_22_3597_jpg.rf.ffe3f20cfe2e60805bf22eb1188b9624.jpg  \n",
            "  inflating: __MACOSX/+_648_640_640_label_ceo.v1i.yolov7pytorch/valid/images/._SEV_22_3597_jpg.rf.ffe3f20cfe2e60805bf22eb1188b9624.jpg  \n",
            "  inflating: +_648_640_640_label_ceo.v1i.yolov7pytorch/valid/images/trafficseverity_img89_jpg.rf.d5ddd16e183259df9f35792840c96406.jpg  \n",
            "  inflating: __MACOSX/+_648_640_640_label_ceo.v1i.yolov7pytorch/valid/images/._trafficseverity_img89_jpg.rf.d5ddd16e183259df9f35792840c96406.jpg  \n",
            "  inflating: +_648_640_640_label_ceo.v1i.yolov7pytorch/valid/images/traffic_img475_jpg.rf.730383e102d24b2a520820e609dab872.jpg  \n",
            "  inflating: __MACOSX/+_648_640_640_label_ceo.v1i.yolov7pytorch/valid/images/._traffic_img475_jpg.rf.730383e102d24b2a520820e609dab872.jpg  \n",
            "  inflating: +_648_640_640_label_ceo.v1i.yolov7pytorch/valid/images/SEVERITY_DATA_111_jpg.rf.97cab8da05042e07d94d0430deb928d1.jpg  \n",
            "  inflating: __MACOSX/+_648_640_640_label_ceo.v1i.yolov7pytorch/valid/images/._SEVERITY_DATA_111_jpg.rf.97cab8da05042e07d94d0430deb928d1.jpg  \n",
            "  inflating: +_648_640_640_label_ceo.v1i.yolov7pytorch/valid/images/trafficseverity_img1075_jpg.rf.d4bff3bf5571a628eaa2061136b89b55.jpg  \n",
            "  inflating: __MACOSX/+_648_640_640_label_ceo.v1i.yolov7pytorch/valid/images/._trafficseverity_img1075_jpg.rf.d4bff3bf5571a628eaa2061136b89b55.jpg  \n",
            "  inflating: +_648_640_640_label_ceo.v1i.yolov7pytorch/valid/images/Screen-Shot-2022-04-07-at-8-57-50-PM_png_jpg.rf.dcfd5a50b6ab946298b017763703ddc8.jpg  \n",
            "  inflating: __MACOSX/+_648_640_640_label_ceo.v1i.yolov7pytorch/valid/images/._Screen-Shot-2022-04-07-at-8-57-50-PM_png_jpg.rf.dcfd5a50b6ab946298b017763703ddc8.jpg  \n",
            "  inflating: +_648_640_640_label_ceo.v1i.yolov7pytorch/valid/images/SEV_22_3290_jpg.rf.a56668684f300a651d71f4938bac63ac.jpg  \n",
            "  inflating: __MACOSX/+_648_640_640_label_ceo.v1i.yolov7pytorch/valid/images/._SEV_22_3290_jpg.rf.a56668684f300a651d71f4938bac63ac.jpg  \n",
            "  inflating: +_648_640_640_label_ceo.v1i.yolov7pytorch/valid/images/EXTREME-CAR-CRASH-1-HOUR-COMPILATION-BIGGEST-CAR-CRASHES-1_i_frame_32768_jpg.rf.acd60abeb75811a6e9db292c0c9317bc.jpg  \n",
            "  inflating: __MACOSX/+_648_640_640_label_ceo.v1i.yolov7pytorch/valid/images/._EXTREME-CAR-CRASH-1-HOUR-COMPILATION-BIGGEST-CAR-CRASHES-1_i_frame_32768_jpg.rf.acd60abeb75811a6e9db292c0c9317bc.jpg  \n",
            "  inflating: +_648_640_640_label_ceo.v1i.yolov7pytorch/valid/images/download-4_jpg.rf.8ddabf0e5da0f6282bcc9df5b14018cd.jpg  \n",
            "  inflating: __MACOSX/+_648_640_640_label_ceo.v1i.yolov7pytorch/valid/images/._download-4_jpg.rf.8ddabf0e5da0f6282bcc9df5b14018cd.jpg  \n",
            "  inflating: +_648_640_640_label_ceo.v1i.yolov7pytorch/valid/images/trafficseverity_img2889_jpg.rf.5eb5bc072897e16d0cd022de77925960.jpg  \n",
            "  inflating: __MACOSX/+_648_640_640_label_ceo.v1i.yolov7pytorch/valid/images/._trafficseverity_img2889_jpg.rf.5eb5bc072897e16d0cd022de77925960.jpg  \n",
            "  inflating: +_648_640_640_label_ceo.v1i.yolov7pytorch/valid/images/Accident_Img_1114_jpg.rf.36847d80e8cbc4851e9e4273bc8c1096.jpg  \n",
            "  inflating: __MACOSX/+_648_640_640_label_ceo.v1i.yolov7pytorch/valid/images/._Accident_Img_1114_jpg.rf.36847d80e8cbc4851e9e4273bc8c1096.jpg  \n",
            "  inflating: +_648_640_640_label_ceo.v1i.yolov7pytorch/valid/images/FLIP_CAR_V142_jpg.rf.71bb930293b604059ea96473479958d5.jpg  \n",
            "  inflating: __MACOSX/+_648_640_640_label_ceo.v1i.yolov7pytorch/valid/images/._FLIP_CAR_V142_jpg.rf.71bb930293b604059ea96473479958d5.jpg  \n",
            "  inflating: +_648_640_640_label_ceo.v1i.yolov7pytorch/valid/images/2accidentFrame943_jpg.rf.373f30504eeefc6576bf03efbaa230c8.jpg  \n",
            "  inflating: __MACOSX/+_648_640_640_label_ceo.v1i.yolov7pytorch/valid/images/._2accidentFrame943_jpg.rf.373f30504eeefc6576bf03efbaa230c8.jpg  \n",
            "  inflating: +_648_640_640_label_ceo.v1i.yolov7pytorch/valid/images/trafficseverity_img208_jpg.rf.d26d5f16de892fb5cb956dd80e579bbb.jpg  \n",
            "  inflating: __MACOSX/+_648_640_640_label_ceo.v1i.yolov7pytorch/valid/images/._trafficseverity_img208_jpg.rf.d26d5f16de892fb5cb956dd80e579bbb.jpg  \n",
            "  inflating: +_648_640_640_label_ceo.v1i.yolov7pytorch/valid/images/CARimage2118_jpg.rf.a3cdce6dcc9a1ae4eec518e604a7f028.jpg  \n",
            "  inflating: __MACOSX/+_648_640_640_label_ceo.v1i.yolov7pytorch/valid/images/._CARimage2118_jpg.rf.a3cdce6dcc9a1ae4eec518e604a7f028.jpg  \n",
            "  inflating: +_648_640_640_label_ceo.v1i.yolov7pytorch/valid/images/severityV4_58_jpg.rf.9c3358b0d5aa3baff39ebd1afe0954a8.jpg  \n",
            "  inflating: __MACOSX/+_648_640_640_label_ceo.v1i.yolov7pytorch/valid/images/._severityV4_58_jpg.rf.9c3358b0d5aa3baff39ebd1afe0954a8.jpg  \n",
            "  inflating: +_648_640_640_label_ceo.v1i.yolov7pytorch/valid/images/trafficseverity_img2872_jpg.rf.6689f1ee78bb490365134695704b8cf8.jpg  \n",
            "  inflating: __MACOSX/+_648_640_640_label_ceo.v1i.yolov7pytorch/valid/images/._trafficseverity_img2872_jpg.rf.6689f1ee78bb490365134695704b8cf8.jpg  \n",
            "  inflating: +_648_640_640_label_ceo.v1i.yolov7pytorch/valid/images/trafficseverity_img854_jpg.rf.6c056e97e2db5e972ddf81dc7d40c615.jpg  \n",
            "  inflating: __MACOSX/+_648_640_640_label_ceo.v1i.yolov7pytorch/valid/images/._trafficseverity_img854_jpg.rf.6c056e97e2db5e972ddf81dc7d40c615.jpg  \n",
            "  inflating: +_648_640_640_label_ceo.v1i.yolov7pytorch/valid/images/trafficseverity_img398_jpg.rf.de4a3b5dde9ee33999ca1c9227578950.jpg  \n",
            "  inflating: __MACOSX/+_648_640_640_label_ceo.v1i.yolov7pytorch/valid/images/._trafficseverity_img398_jpg.rf.de4a3b5dde9ee33999ca1c9227578950.jpg  \n",
            "  inflating: +_648_640_640_label_ceo.v1i.yolov7pytorch/valid/images/trafficseverity_img2008_jpg.rf.929937cb84aa61d98ce91887e9ed4f1f.jpg  \n",
            "  inflating: __MACOSX/+_648_640_640_label_ceo.v1i.yolov7pytorch/valid/images/._trafficseverity_img2008_jpg.rf.929937cb84aa61d98ce91887e9ed4f1f.jpg  \n",
            "  inflating: +_648_640_640_label_ceo.v1i.yolov7pytorch/valid/images/SEV_22_3933_jpg.rf.2acf2ef029d900f8cf81502b5acb4240.jpg  \n",
            "  inflating: __MACOSX/+_648_640_640_label_ceo.v1i.yolov7pytorch/valid/images/._SEV_22_3933_jpg.rf.2acf2ef029d900f8cf81502b5acb4240.jpg  \n",
            "  inflating: +_648_640_640_label_ceo.v1i.yolov7pytorch/valid/images/SEV_22_693_jpg.rf.fa262e4906331a6955519109f349a116.jpg  \n",
            "  inflating: __MACOSX/+_648_640_640_label_ceo.v1i.yolov7pytorch/valid/images/._SEV_22_693_jpg.rf.fa262e4906331a6955519109f349a116.jpg  \n",
            "  inflating: +_648_640_640_label_ceo.v1i.yolov7pytorch/valid/images/SEV_22_2322_jpg.rf.60083fa5d518a22b03636ff6569fdcd6.jpg  \n",
            "  inflating: __MACOSX/+_648_640_640_label_ceo.v1i.yolov7pytorch/valid/images/._SEV_22_2322_jpg.rf.60083fa5d518a22b03636ff6569fdcd6.jpg  \n",
            "  inflating: +_648_640_640_label_ceo.v1i.yolov7pytorch/valid/images/IMG_1546_PNG_jpg.rf.b667be9c8f94ddec435622c722777fbc.jpg  \n",
            "  inflating: __MACOSX/+_648_640_640_label_ceo.v1i.yolov7pytorch/valid/images/._IMG_1546_PNG_jpg.rf.b667be9c8f94ddec435622c722777fbc.jpg  \n",
            "  inflating: +_648_640_640_label_ceo.v1i.yolov7pytorch/valid/images/images-7-_jpeg_jpg.rf.e3a14733d079d0a2acdeadf128cbd611.jpg  \n",
            "  inflating: __MACOSX/+_648_640_640_label_ceo.v1i.yolov7pytorch/valid/images/._images-7-_jpeg_jpg.rf.e3a14733d079d0a2acdeadf128cbd611.jpg  \n",
            "  inflating: +_648_640_640_label_ceo.v1i.yolov7pytorch/valid/images/images-83-_jpeg_jpg.rf.c70880d1c97f5b6de6ea6fa9687446a0.jpg  \n",
            "  inflating: __MACOSX/+_648_640_640_label_ceo.v1i.yolov7pytorch/valid/images/._images-83-_jpeg_jpg.rf.c70880d1c97f5b6de6ea6fa9687446a0.jpg  \n",
            "  inflating: +_648_640_640_label_ceo.v1i.yolov7pytorch/valid/images/trafficseverity_img350_jpg.rf.f0cbc893fbc277aa53ee6d032d4ee8b8.jpg  \n",
            "  inflating: __MACOSX/+_648_640_640_label_ceo.v1i.yolov7pytorch/valid/images/._trafficseverity_img350_jpg.rf.f0cbc893fbc277aa53ee6d032d4ee8b8.jpg  \n",
            "  inflating: +_648_640_640_label_ceo.v1i.yolov7pytorch/valid/images/SEEEEVERITY_101_jpg.rf.b6205fb5758747c51748b2d5be8a4577.jpg  \n",
            "  inflating: __MACOSX/+_648_640_640_label_ceo.v1i.yolov7pytorch/valid/images/._SEEEEVERITY_101_jpg.rf.b6205fb5758747c51748b2d5be8a4577.jpg  \n",
            "  inflating: +_648_640_640_label_ceo.v1i.yolov7pytorch/valid/images/new_SD6_jpg.rf.1807c03abffe391d5d891365ec9aa5e7.jpg  \n",
            "  inflating: __MACOSX/+_648_640_640_label_ceo.v1i.yolov7pytorch/valid/images/._new_SD6_jpg.rf.1807c03abffe391d5d891365ec9aa5e7.jpg  \n",
            "  inflating: +_648_640_640_label_ceo.v1i.yolov7pytorch/valid/images/SEVERITY_V10_99_jpg.rf.dadbacf426885b6d8718d882a75ac589.jpg  \n",
            "  inflating: __MACOSX/+_648_640_640_label_ceo.v1i.yolov7pytorch/valid/images/._SEVERITY_V10_99_jpg.rf.dadbacf426885b6d8718d882a75ac589.jpg  \n",
            "  inflating: +_648_640_640_label_ceo.v1i.yolov7pytorch/valid/images/traffic_img907_jpg.rf.d94d6266a83824826e77eb79d210b1b4.jpg  \n",
            "  inflating: __MACOSX/+_648_640_640_label_ceo.v1i.yolov7pytorch/valid/images/._traffic_img907_jpg.rf.d94d6266a83824826e77eb79d210b1b4.jpg  \n",
            "  inflating: +_648_640_640_label_ceo.v1i.yolov7pytorch/valid/images/SEVERITY_DATA_14_jpg.rf.c73e446d29b7e05aa93383a9b2c98e92.jpg  \n",
            "  inflating: __MACOSX/+_648_640_640_label_ceo.v1i.yolov7pytorch/valid/images/._SEVERITY_DATA_14_jpg.rf.c73e446d29b7e05aa93383a9b2c98e92.jpg  \n",
            "  inflating: +_648_640_640_label_ceo.v1i.yolov7pytorch/valid/images/SEEEEVERITY_349_jpg.rf.e3cefc00b9a4eb89272ee76a7bd97b44.jpg  \n",
            "  inflating: __MACOSX/+_648_640_640_label_ceo.v1i.yolov7pytorch/valid/images/._SEEEEVERITY_349_jpg.rf.e3cefc00b9a4eb89272ee76a7bd97b44.jpg  \n",
            "  inflating: +_648_640_640_label_ceo.v1i.yolov7pytorch/valid/images/IMG_1965_PNG_jpg.rf.ac4e4f14f8756ede7684c03b681725f3.jpg  \n",
            "  inflating: __MACOSX/+_648_640_640_label_ceo.v1i.yolov7pytorch/valid/images/._IMG_1965_PNG_jpg.rf.ac4e4f14f8756ede7684c03b681725f3.jpg  \n",
            "  inflating: +_648_640_640_label_ceo.v1i.yolov7pytorch/valid/images/trafficseverity_img486_jpg.rf.6129536a09e32dcf2a9903c3ba527d37.jpg  \n",
            "  inflating: __MACOSX/+_648_640_640_label_ceo.v1i.yolov7pytorch/valid/images/._trafficseverity_img486_jpg.rf.6129536a09e32dcf2a9903c3ba527d37.jpg  \n",
            "  inflating: +_648_640_640_label_ceo.v1i.yolov7pytorch/valid/images/accidentFrame2374_jpg.rf.f836a858bc0e0249ef20ca43935df2d5.jpg  \n",
            "  inflating: __MACOSX/+_648_640_640_label_ceo.v1i.yolov7pytorch/valid/images/._accidentFrame2374_jpg.rf.f836a858bc0e0249ef20ca43935df2d5.jpg  \n",
            "  inflating: +_648_640_640_label_ceo.v1i.yolov7pytorch/valid/images/trafficseverity_img107_jpg.rf.286004b6223ecb8de8f13078ed55c2f2.jpg  \n",
            "  inflating: __MACOSX/+_648_640_640_label_ceo.v1i.yolov7pytorch/valid/images/._trafficseverity_img107_jpg.rf.286004b6223ecb8de8f13078ed55c2f2.jpg  \n",
            "  inflating: +_648_640_640_label_ceo.v1i.yolov7pytorch/valid/images/SEV_22_2029_jpg.rf.b36a2d40bf65e1ea463c468f4761c1c5.jpg  \n",
            "  inflating: __MACOSX/+_648_640_640_label_ceo.v1i.yolov7pytorch/valid/images/._SEV_22_2029_jpg.rf.b36a2d40bf65e1ea463c468f4761c1c5.jpg  \n",
            "  inflating: +_648_640_640_label_ceo.v1i.yolov7pytorch/valid/images/IMG_2356_PNG_jpg.rf.fe265146433d4269ab503724d90fc924.jpg  \n",
            "  inflating: __MACOSX/+_648_640_640_label_ceo.v1i.yolov7pytorch/valid/images/._IMG_2356_PNG_jpg.rf.fe265146433d4269ab503724d90fc924.jpg  \n",
            "  inflating: +_648_640_640_label_ceo.v1i.yolov7pytorch/valid/images/images-copy_jpg.rf.da0a3ef93f3ca86d64302ac83f9e1eea.jpg  \n",
            "  inflating: __MACOSX/+_648_640_640_label_ceo.v1i.yolov7pytorch/valid/images/._images-copy_jpg.rf.da0a3ef93f3ca86d64302ac83f9e1eea.jpg  \n",
            "  inflating: +_648_640_640_label_ceo.v1i.yolov7pytorch/valid/images/SEV_22_2057_jpg.rf.6f283d094da16f9c0c96ba464630df8b.jpg  \n",
            "  inflating: __MACOSX/+_648_640_640_label_ceo.v1i.yolov7pytorch/valid/images/._SEV_22_2057_jpg.rf.6f283d094da16f9c0c96ba464630df8b.jpg  \n",
            "  inflating: +_648_640_640_label_ceo.v1i.yolov7pytorch/valid/images/trafficseverity_img401_jpg.rf.8a1162a2e23106960f2d25708e911956.jpg  \n",
            "  inflating: __MACOSX/+_648_640_640_label_ceo.v1i.yolov7pytorch/valid/images/._trafficseverity_img401_jpg.rf.8a1162a2e23106960f2d25708e911956.jpg  \n",
            "  inflating: +_648_640_640_label_ceo.v1i.yolov7pytorch/valid/images/1083_jpeg_jpg.rf.99eae9a35155803a2ed815552b7404c7.jpg  \n",
            "  inflating: __MACOSX/+_648_640_640_label_ceo.v1i.yolov7pytorch/valid/images/._1083_jpeg_jpg.rf.99eae9a35155803a2ed815552b7404c7.jpg  \n",
            "  inflating: +_648_640_640_label_ceo.v1i.yolov7pytorch/valid/images/accidentFrame1164_jpg.rf.589f0dd8c4f17e25e20f2606b657309c.jpg  \n",
            "  inflating: __MACOSX/+_648_640_640_label_ceo.v1i.yolov7pytorch/valid/images/._accidentFrame1164_jpg.rf.589f0dd8c4f17e25e20f2606b657309c.jpg  \n",
            "  inflating: +_648_640_640_label_ceo.v1i.yolov7pytorch/valid/images/SEV_V8_Img_77_jpg.rf.212c54d26cc383836ec5dc86cc74bd10.jpg  \n",
            "  inflating: __MACOSX/+_648_640_640_label_ceo.v1i.yolov7pytorch/valid/images/._SEV_V8_Img_77_jpg.rf.212c54d26cc383836ec5dc86cc74bd10.jpg  \n",
            "  inflating: +_648_640_640_label_ceo.v1i.yolov7pytorch/valid/images/Screen-Shot-2022-04-07-at-8-33-14-AM_png_jpg.rf.87fd7f3c453d54d4b5a347177b9d9e60.jpg  \n",
            "  inflating: __MACOSX/+_648_640_640_label_ceo.v1i.yolov7pytorch/valid/images/._Screen-Shot-2022-04-07-at-8-33-14-AM_png_jpg.rf.87fd7f3c453d54d4b5a347177b9d9e60.jpg  \n",
            "  inflating: +_648_640_640_label_ceo.v1i.yolov7pytorch/valid/images/IMG_2049_PNG_jpg.rf.4ad6adb703fbda49e66e898aaf2bc879.jpg  \n",
            "  inflating: __MACOSX/+_648_640_640_label_ceo.v1i.yolov7pytorch/valid/images/._IMG_2049_PNG_jpg.rf.4ad6adb703fbda49e66e898aaf2bc879.jpg  \n",
            "  inflating: +_648_640_640_label_ceo.v1i.yolov7pytorch/valid/images/EXTREME-CAR-CRASH-1-HOUR-COMPILATION-BIGGEST-CAR-CRASHES-1_i_frame_67200_jpg.rf.33baf4cb86c9b4b71b0f13dd698ace75.jpg  \n",
            "  inflating: __MACOSX/+_648_640_640_label_ceo.v1i.yolov7pytorch/valid/images/._EXTREME-CAR-CRASH-1-HOUR-COMPILATION-BIGGEST-CAR-CRASHES-1_i_frame_67200_jpg.rf.33baf4cb86c9b4b71b0f13dd698ace75.jpg  \n",
            "  inflating: +_648_640_640_label_ceo.v1i.yolov7pytorch/valid/images/IMG_2013_PNG_jpg.rf.e3ad19b7ff554e23150e14a2b75fa2dd.jpg  \n",
            "  inflating: __MACOSX/+_648_640_640_label_ceo.v1i.yolov7pytorch/valid/images/._IMG_2013_PNG_jpg.rf.e3ad19b7ff554e23150e14a2b75fa2dd.jpg  \n",
            "  inflating: +_648_640_640_label_ceo.v1i.yolov7pytorch/valid/images/SEEEEVERITY_146_jpg.rf.9d70e2b7241e8968ffec9f119ae09527.jpg  \n",
            "  inflating: __MACOSX/+_648_640_640_label_ceo.v1i.yolov7pytorch/valid/images/._SEEEEVERITY_146_jpg.rf.9d70e2b7241e8968ffec9f119ae09527.jpg  \n",
            "  inflating: +_648_640_640_label_ceo.v1i.yolov7pytorch/valid/images/images-18_jpg.rf.00de09b97a9dd9708e3f625dc7a0f0f9.jpg  \n",
            "  inflating: __MACOSX/+_648_640_640_label_ceo.v1i.yolov7pytorch/valid/images/._images-18_jpg.rf.00de09b97a9dd9708e3f625dc7a0f0f9.jpg  \n",
            "  inflating: +_648_640_640_label_ceo.v1i.yolov7pytorch/valid/images/SEEEEVERITY_64_jpg.rf.2492649b3c64668e365916a9bfe90d1f.jpg  \n",
            "  inflating: __MACOSX/+_648_640_640_label_ceo.v1i.yolov7pytorch/valid/images/._SEEEEVERITY_64_jpg.rf.2492649b3c64668e365916a9bfe90d1f.jpg  \n",
            "  inflating: +_648_640_640_label_ceo.v1i.yolov7pytorch/valid/images/SEV_22_3375_jpg.rf.2ca048401cf8b6295d65a45178433c3b.jpg  \n",
            "  inflating: __MACOSX/+_648_640_640_label_ceo.v1i.yolov7pytorch/valid/images/._SEV_22_3375_jpg.rf.2ca048401cf8b6295d65a45178433c3b.jpg  \n",
            "  inflating: +_648_640_640_label_ceo.v1i.yolov7pytorch/valid/images/799_jpeg_jpg.rf.abc0d0d9dd9d3a115a7b48786a9c85d1.jpg  \n",
            "  inflating: __MACOSX/+_648_640_640_label_ceo.v1i.yolov7pytorch/valid/images/._799_jpeg_jpg.rf.abc0d0d9dd9d3a115a7b48786a9c85d1.jpg  \n",
            "  inflating: +_648_640_640_label_ceo.v1i.yolov7pytorch/valid/images/Screen-Shot-2022-04-08-at-7-39-58-AM_png_jpg.rf.0d24c8a7151ffc04ee931b74aa68f0e4.jpg  \n",
            "  inflating: __MACOSX/+_648_640_640_label_ceo.v1i.yolov7pytorch/valid/images/._Screen-Shot-2022-04-08-at-7-39-58-AM_png_jpg.rf.0d24c8a7151ffc04ee931b74aa68f0e4.jpg  \n",
            "  inflating: +_648_640_640_label_ceo.v1i.yolov7pytorch/valid/images/SEVERITY_DATA_58_jpg.rf.794445ab92c280defef5c6529ffdd631.jpg  \n",
            "  inflating: __MACOSX/+_648_640_640_label_ceo.v1i.yolov7pytorch/valid/images/._SEVERITY_DATA_58_jpg.rf.794445ab92c280defef5c6529ffdd631.jpg  \n",
            "  inflating: +_648_640_640_label_ceo.v1i.yolov7pytorch/valid/images/severityV4_2_jpg.rf.eaa16e2df89e9f15d1f124ce2c6ccab3.jpg  \n",
            "  inflating: __MACOSX/+_648_640_640_label_ceo.v1i.yolov7pytorch/valid/images/._severityV4_2_jpg.rf.eaa16e2df89e9f15d1f124ce2c6ccab3.jpg  \n",
            "  inflating: +_648_640_640_label_ceo.v1i.yolov7pytorch/valid/images/crash_jpg.rf.4c2ee90995c2292dd60dca0df5142c68.jpg  \n",
            "  inflating: __MACOSX/+_648_640_640_label_ceo.v1i.yolov7pytorch/valid/images/._crash_jpg.rf.4c2ee90995c2292dd60dca0df5142c68.jpg  \n",
            "  inflating: +_648_640_640_label_ceo.v1i.yolov7pytorch/valid/images/traffic_img2401_jpg.rf.6198e71cdc2d9388ffd77145e175d307.jpg  \n",
            "  inflating: __MACOSX/+_648_640_640_label_ceo.v1i.yolov7pytorch/valid/images/._traffic_img2401_jpg.rf.6198e71cdc2d9388ffd77145e175d307.jpg  \n",
            "  inflating: +_648_640_640_label_ceo.v1i.yolov7pytorch/valid/images/traffic_img2282_jpg.rf.63bed847a6482ad7461ce71ebed385e5.jpg  \n",
            "  inflating: __MACOSX/+_648_640_640_label_ceo.v1i.yolov7pytorch/valid/images/._traffic_img2282_jpg.rf.63bed847a6482ad7461ce71ebed385e5.jpg  \n",
            "  inflating: +_648_640_640_label_ceo.v1i.yolov7pytorch/valid/images/trafficseverity_img5701_jpg.rf.c4f47b100afdab5781e3ff9c73e130ab.jpg  \n",
            "  inflating: __MACOSX/+_648_640_640_label_ceo.v1i.yolov7pytorch/valid/images/._trafficseverity_img5701_jpg.rf.c4f47b100afdab5781e3ff9c73e130ab.jpg  \n",
            "  inflating: +_648_640_640_label_ceo.v1i.yolov7pytorch/valid/images/images-31-_jpeg_jpg.rf.1456c84617aee09d8d9a448c68dff3ca.jpg  \n",
            "  inflating: __MACOSX/+_648_640_640_label_ceo.v1i.yolov7pytorch/valid/images/._images-31-_jpeg_jpg.rf.1456c84617aee09d8d9a448c68dff3ca.jpg  \n",
            "  inflating: +_648_640_640_label_ceo.v1i.yolov7pytorch/valid/images/Screen-Shot-2022-04-07-at-8-58-24-PM_png_jpg.rf.93255edf455fe6d475efaa363bbe32fa.jpg  \n",
            "  inflating: __MACOSX/+_648_640_640_label_ceo.v1i.yolov7pytorch/valid/images/._Screen-Shot-2022-04-07-at-8-58-24-PM_png_jpg.rf.93255edf455fe6d475efaa363bbe32fa.jpg  \n",
            "  inflating: +_648_640_640_label_ceo.v1i.yolov7pytorch/valid/images/accidentFrame57_jpg.rf.14f88022076c9c2a32b256e49124b8b1.jpg  \n",
            "  inflating: __MACOSX/+_648_640_640_label_ceo.v1i.yolov7pytorch/valid/images/._accidentFrame57_jpg.rf.14f88022076c9c2a32b256e49124b8b1.jpg  \n",
            "  inflating: +_648_640_640_label_ceo.v1i.yolov7pytorch/valid/images/accidentFrame259_jpg.rf.b12c0c944dff1769e36437ac84b0e639.jpg  \n",
            "  inflating: __MACOSX/+_648_640_640_label_ceo.v1i.yolov7pytorch/valid/images/._accidentFrame259_jpg.rf.b12c0c944dff1769e36437ac84b0e639.jpg  \n",
            "  inflating: +_648_640_640_label_ceo.v1i.yolov7pytorch/valid/images/IMG_2029_PNG_jpg.rf.287510885f1f59b30e4d715ab8f4aebc.jpg  \n",
            "  inflating: __MACOSX/+_648_640_640_label_ceo.v1i.yolov7pytorch/valid/images/._IMG_2029_PNG_jpg.rf.287510885f1f59b30e4d715ab8f4aebc.jpg  \n",
            "  inflating: +_648_640_640_label_ceo.v1i.yolov7pytorch/valid/images/SEVERITY_V10_70_jpg.rf.88d094c78b3499340e6fb28a805b9d4e.jpg  \n",
            "  inflating: __MACOSX/+_648_640_640_label_ceo.v1i.yolov7pytorch/valid/images/._SEVERITY_V10_70_jpg.rf.88d094c78b3499340e6fb28a805b9d4e.jpg  \n",
            "  inflating: +_648_640_640_label_ceo.v1i.yolov7pytorch/valid/images/SEEEEVERITY_304_jpg.rf.7a213772f348237633c3620871a4dc25.jpg  \n",
            "  inflating: __MACOSX/+_648_640_640_label_ceo.v1i.yolov7pytorch/valid/images/._SEEEEVERITY_304_jpg.rf.7a213772f348237633c3620871a4dc25.jpg  \n",
            "  inflating: +_648_640_640_label_ceo.v1i.yolov7pytorch/valid/images/Screen-Shot-2022-04-07-at-8-14-20-PM_png_jpg.rf.2f9ce6b932748e99f388971791c8a570.jpg  \n",
            "  inflating: __MACOSX/+_648_640_640_label_ceo.v1i.yolov7pytorch/valid/images/._Screen-Shot-2022-04-07-at-8-14-20-PM_png_jpg.rf.2f9ce6b932748e99f388971791c8a570.jpg  \n",
            "  inflating: +_648_640_640_label_ceo.v1i.yolov7pytorch/valid/images/trafficseverity_img5673_jpg.rf.ce6e13b1569e60f2cad10927e3c336cd.jpg  \n",
            "  inflating: __MACOSX/+_648_640_640_label_ceo.v1i.yolov7pytorch/valid/images/._trafficseverity_img5673_jpg.rf.ce6e13b1569e60f2cad10927e3c336cd.jpg  \n",
            "  inflating: +_648_640_640_label_ceo.v1i.yolov7pytorch/valid/images/SEEEEVERITY_98_jpg.rf.c64c3165d9c851248cff7f8412405237.jpg  \n",
            "  inflating: __MACOSX/+_648_640_640_label_ceo.v1i.yolov7pytorch/valid/images/._SEEEEVERITY_98_jpg.rf.c64c3165d9c851248cff7f8412405237.jpg  \n",
            "  inflating: +_648_640_640_label_ceo.v1i.yolov7pytorch/valid/images/SEV_22_3070_jpg.rf.5ca581748ffa443a020b0605cd28ced1.jpg  \n",
            "  inflating: __MACOSX/+_648_640_640_label_ceo.v1i.yolov7pytorch/valid/images/._SEV_22_3070_jpg.rf.5ca581748ffa443a020b0605cd28ced1.jpg  \n",
            "  inflating: +_648_640_640_label_ceo.v1i.yolov7pytorch/valid/images/IMG_2655_PNG_jpg.rf.e3a0d82f9dcd2ab8b94deed53d036e67.jpg  \n",
            "  inflating: __MACOSX/+_648_640_640_label_ceo.v1i.yolov7pytorch/valid/images/._IMG_2655_PNG_jpg.rf.e3a0d82f9dcd2ab8b94deed53d036e67.jpg  \n",
            "  inflating: +_648_640_640_label_ceo.v1i.yolov7pytorch/valid/images/trafficseverity_img325_jpg.rf.da6fc5299d6f746e1e6e1a7ac43eed47.jpg  \n",
            "  inflating: __MACOSX/+_648_640_640_label_ceo.v1i.yolov7pytorch/valid/images/._trafficseverity_img325_jpg.rf.da6fc5299d6f746e1e6e1a7ac43eed47.jpg  \n",
            "  inflating: +_648_640_640_label_ceo.v1i.yolov7pytorch/valid/images/download_jpeg_jpg.rf.89ae74e7ef33e7d6ec262f830430834c.jpg  \n",
            "  inflating: __MACOSX/+_648_640_640_label_ceo.v1i.yolov7pytorch/valid/images/._download_jpeg_jpg.rf.89ae74e7ef33e7d6ec262f830430834c.jpg  \n",
            "  inflating: +_648_640_640_label_ceo.v1i.yolov7pytorch/valid/images/trafficseverity_img3070_jpg.rf.0e07955b2da055256ca0744e9624366e.jpg  \n",
            "  inflating: __MACOSX/+_648_640_640_label_ceo.v1i.yolov7pytorch/valid/images/._trafficseverity_img3070_jpg.rf.0e07955b2da055256ca0744e9624366e.jpg  \n",
            "  inflating: +_648_640_640_label_ceo.v1i.yolov7pytorch/valid/images/images-34-_jpeg_jpg.rf.f3b548bf5af45dad33887a3c5ed85a07.jpg  \n",
            "  inflating: __MACOSX/+_648_640_640_label_ceo.v1i.yolov7pytorch/valid/images/._images-34-_jpeg_jpg.rf.f3b548bf5af45dad33887a3c5ed85a07.jpg  \n",
            "  inflating: +_648_640_640_label_ceo.v1i.yolov7pytorch/valid/images/Bus-Truck-Crashes-10-BeamNG-Drive_i_frame_7080_jpg.rf.249a6b2dcd9ba56036b30b6a792417cf.jpg  \n",
            "  inflating: __MACOSX/+_648_640_640_label_ceo.v1i.yolov7pytorch/valid/images/._Bus-Truck-Crashes-10-BeamNG-Drive_i_frame_7080_jpg.rf.249a6b2dcd9ba56036b30b6a792417cf.jpg  \n",
            "  inflating: +_648_640_640_label_ceo.v1i.yolov7pytorch/valid/images/SEEEEVERITY_366_jpg.rf.454f3b79843a5aeafd4407369d47fe35.jpg  \n",
            "  inflating: __MACOSX/+_648_640_640_label_ceo.v1i.yolov7pytorch/valid/images/._SEEEEVERITY_366_jpg.rf.454f3b79843a5aeafd4407369d47fe35.jpg  \n",
            "  inflating: +_648_640_640_label_ceo.v1i.yolov7pytorch/valid/images/SEV_22_3439_jpg.rf.9671edfc9cee51883e0f98b85fc231d1.jpg  \n",
            "  inflating: __MACOSX/+_648_640_640_label_ceo.v1i.yolov7pytorch/valid/images/._SEV_22_3439_jpg.rf.9671edfc9cee51883e0f98b85fc231d1.jpg  \n",
            "  inflating: +_648_640_640_label_ceo.v1i.yolov7pytorch/valid/images/SEEEEVERITY_221_jpg.rf.686d0fc3f0386769e5fbf434bf48a94b.jpg  \n",
            "  inflating: __MACOSX/+_648_640_640_label_ceo.v1i.yolov7pytorch/valid/images/._SEEEEVERITY_221_jpg.rf.686d0fc3f0386769e5fbf434bf48a94b.jpg  \n",
            "  inflating: +_648_640_640_label_ceo.v1i.yolov7pytorch/valid/images/Screen-Shot-2022-04-08-at-7-27-32-AM_png_jpg.rf.445085bdd1e8705d3ec45fc52a99c90c.jpg  \n",
            "  inflating: __MACOSX/+_648_640_640_label_ceo.v1i.yolov7pytorch/valid/images/._Screen-Shot-2022-04-08-at-7-27-32-AM_png_jpg.rf.445085bdd1e8705d3ec45fc52a99c90c.jpg  \n",
            "  inflating: +_648_640_640_label_ceo.v1i.yolov7pytorch/valid/images/traffic_img425_jpg.rf.a706fa69abd6678fc2a9b77d9a630225.jpg  \n",
            "  inflating: __MACOSX/+_648_640_640_label_ceo.v1i.yolov7pytorch/valid/images/._traffic_img425_jpg.rf.a706fa69abd6678fc2a9b77d9a630225.jpg  \n",
            "  inflating: +_648_640_640_label_ceo.v1i.yolov7pytorch/valid/images/trafficseverity_img1046_jpg.rf.7a3b9181f56ebe8450211ff9a6ab1111.jpg  \n",
            "  inflating: __MACOSX/+_648_640_640_label_ceo.v1i.yolov7pytorch/valid/images/._trafficseverity_img1046_jpg.rf.7a3b9181f56ebe8450211ff9a6ab1111.jpg  \n",
            "  inflating: +_648_640_640_label_ceo.v1i.yolov7pytorch/valid/images/IMG_2247_PNG_jpg.rf.ca61caa6e91301fea0ac6241c23687ec.jpg  \n",
            "  inflating: __MACOSX/+_648_640_640_label_ceo.v1i.yolov7pytorch/valid/images/._IMG_2247_PNG_jpg.rf.ca61caa6e91301fea0ac6241c23687ec.jpg  \n",
            "  inflating: +_648_640_640_label_ceo.v1i.yolov7pytorch/valid/images/traffic_img86_jpg.rf.390fcda4dd5d3fc02d829b425cead91f.jpg  \n",
            "  inflating: __MACOSX/+_648_640_640_label_ceo.v1i.yolov7pytorch/valid/images/._traffic_img86_jpg.rf.390fcda4dd5d3fc02d829b425cead91f.jpg  \n",
            "  inflating: +_648_640_640_label_ceo.v1i.yolov7pytorch/valid/images/severityV4_1_jpg.rf.06165a155abcca688d37415eff81a638.jpg  \n",
            "  inflating: __MACOSX/+_648_640_640_label_ceo.v1i.yolov7pytorch/valid/images/._severityV4_1_jpg.rf.06165a155abcca688d37415eff81a638.jpg  \n",
            "  inflating: +_648_640_640_label_ceo.v1i.yolov7pytorch/valid/images/823_jpeg_jpg.rf.b3e6c4f9cd33df1f523b32951fd29049.jpg  \n",
            "  inflating: __MACOSX/+_648_640_640_label_ceo.v1i.yolov7pytorch/valid/images/._823_jpeg_jpg.rf.b3e6c4f9cd33df1f523b32951fd29049.jpg  \n",
            "  inflating: +_648_640_640_label_ceo.v1i.yolov7pytorch/valid/images/traffic_img3407_jpg.rf.f49239b65ff3f95fa322f5ee848362fb.jpg  \n",
            "  inflating: __MACOSX/+_648_640_640_label_ceo.v1i.yolov7pytorch/valid/images/._traffic_img3407_jpg.rf.f49239b65ff3f95fa322f5ee848362fb.jpg  \n",
            "  inflating: +_648_640_640_label_ceo.v1i.yolov7pytorch/valid/images/IMG_2005_PNG_jpg.rf.407ae511a6f7516633cba274a23a56cf.jpg  \n",
            "  inflating: __MACOSX/+_648_640_640_label_ceo.v1i.yolov7pytorch/valid/images/._IMG_2005_PNG_jpg.rf.407ae511a6f7516633cba274a23a56cf.jpg  \n",
            "  inflating: +_648_640_640_label_ceo.v1i.yolov7pytorch/valid/images/Semi-RealisticVD-30_jpg.rf.181d3ecbb7c02ad5b3f3a04128c06e2f.jpg  \n",
            "  inflating: __MACOSX/+_648_640_640_label_ceo.v1i.yolov7pytorch/valid/images/._Semi-RealisticVD-30_jpg.rf.181d3ecbb7c02ad5b3f3a04128c06e2f.jpg  \n",
            "  inflating: +_648_640_640_label_ceo.v1i.yolov7pytorch/valid/images/SEV_22_2845_jpg.rf.66f8320ef5b377a3fe2dcbe6e0f2ca69.jpg  \n",
            "  inflating: __MACOSX/+_648_640_640_label_ceo.v1i.yolov7pytorch/valid/images/._SEV_22_2845_jpg.rf.66f8320ef5b377a3fe2dcbe6e0f2ca69.jpg  \n",
            "  inflating: +_648_640_640_label_ceo.v1i.yolov7pytorch/valid/images/IMG_2159_JPG_jpg.rf.02ae6155e21c7e98ea4cef85355f1361.jpg  \n",
            "  inflating: __MACOSX/+_648_640_640_label_ceo.v1i.yolov7pytorch/valid/images/._IMG_2159_JPG_jpg.rf.02ae6155e21c7e98ea4cef85355f1361.jpg  \n",
            "  inflating: +_648_640_640_label_ceo.v1i.yolov7pytorch/valid/images/Bus-Truck-Crashes-9-BeamNG-Drive_i_frame_5367_jpg.rf.cdb75b2d0e52672a1820d0241db8e553.jpg  \n",
            "  inflating: __MACOSX/+_648_640_640_label_ceo.v1i.yolov7pytorch/valid/images/._Bus-Truck-Crashes-9-BeamNG-Drive_i_frame_5367_jpg.rf.cdb75b2d0e52672a1820d0241db8e553.jpg  \n",
            "  inflating: +_648_640_640_label_ceo.v1i.yolov7pytorch/valid/images/SEEEEVERITY_245_jpg.rf.de15529ece47ef0108d84ba018ae844a.jpg  \n",
            "  inflating: __MACOSX/+_648_640_640_label_ceo.v1i.yolov7pytorch/valid/images/._SEEEEVERITY_245_jpg.rf.de15529ece47ef0108d84ba018ae844a.jpg  \n",
            "  inflating: +_648_640_640_label_ceo.v1i.yolov7pytorch/valid/images/trafficseverity_img5270_jpg.rf.129575015c30537c7a202c5fc2c04316.jpg  \n",
            "  inflating: __MACOSX/+_648_640_640_label_ceo.v1i.yolov7pytorch/valid/images/._trafficseverity_img5270_jpg.rf.129575015c30537c7a202c5fc2c04316.jpg  \n",
            "  inflating: +_648_640_640_label_ceo.v1i.yolov7pytorch/valid/images/SEV_V8_Img_53_jpg.rf.868406dfba14b52fc31de05faa843efa.jpg  \n",
            "  inflating: __MACOSX/+_648_640_640_label_ceo.v1i.yolov7pytorch/valid/images/._SEV_V8_Img_53_jpg.rf.868406dfba14b52fc31de05faa843efa.jpg  \n",
            "  inflating: +_648_640_640_label_ceo.v1i.yolov7pytorch/valid/images/IMG_2204_PNG_jpg.rf.56b6a1fb568f5ec48ee12340a175dee6.jpg  \n",
            "  inflating: __MACOSX/+_648_640_640_label_ceo.v1i.yolov7pytorch/valid/images/._IMG_2204_PNG_jpg.rf.56b6a1fb568f5ec48ee12340a175dee6.jpg  \n",
            "  inflating: +_648_640_640_label_ceo.v1i.yolov7pytorch/valid/images/IMG_2607_PNG_jpg.rf.850ad6b64868a4b5a2430e4f767cca89.jpg  \n",
            "  inflating: __MACOSX/+_648_640_640_label_ceo.v1i.yolov7pytorch/valid/images/._IMG_2607_PNG_jpg.rf.850ad6b64868a4b5a2430e4f767cca89.jpg  \n",
            "  inflating: +_648_640_640_label_ceo.v1i.yolov7pytorch/valid/images/756_jpeg_jpg.rf.69917ef7b8c4216106aa59c44a948c4c.jpg  \n",
            "  inflating: __MACOSX/+_648_640_640_label_ceo.v1i.yolov7pytorch/valid/images/._756_jpeg_jpg.rf.69917ef7b8c4216106aa59c44a948c4c.jpg  \n",
            "  inflating: +_648_640_640_label_ceo.v1i.yolov7pytorch/valid/images/SEVERITY_DATA_20_jpg.rf.6db5398a39d000eae877728f174ed315.jpg  \n",
            "  inflating: __MACOSX/+_648_640_640_label_ceo.v1i.yolov7pytorch/valid/images/._SEVERITY_DATA_20_jpg.rf.6db5398a39d000eae877728f174ed315.jpg  \n",
            "  inflating: +_648_640_640_label_ceo.v1i.yolov7pytorch/valid/images/trafficseverity_img550_jpg.rf.f86419e6404f244ab984e9e8a7a3da51.jpg  \n",
            "  inflating: __MACOSX/+_648_640_640_label_ceo.v1i.yolov7pytorch/valid/images/._trafficseverity_img550_jpg.rf.f86419e6404f244ab984e9e8a7a3da51.jpg  \n",
            "  inflating: +_648_640_640_label_ceo.v1i.yolov7pytorch/valid/images/SEV_V8_Img_1_jpg.rf.401835fb406aea1f35d9f8db8798e157.jpg  \n",
            "  inflating: __MACOSX/+_648_640_640_label_ceo.v1i.yolov7pytorch/valid/images/._SEV_V8_Img_1_jpg.rf.401835fb406aea1f35d9f8db8798e157.jpg  \n",
            "  inflating: +_648_640_640_label_ceo.v1i.yolov7pytorch/valid/images/SEV_22_3622_jpg.rf.a479ab9714c17a484051fb7998d88260.jpg  \n",
            "  inflating: __MACOSX/+_648_640_640_label_ceo.v1i.yolov7pytorch/valid/images/._SEV_22_3622_jpg.rf.a479ab9714c17a484051fb7998d88260.jpg  \n",
            "  inflating: +_648_640_640_label_ceo.v1i.yolov7pytorch/valid/images/IMG_2555_PNG_jpg.rf.c21c0d4321ed2457fb6678393ea15730.jpg  \n",
            "  inflating: __MACOSX/+_648_640_640_label_ceo.v1i.yolov7pytorch/valid/images/._IMG_2555_PNG_jpg.rf.c21c0d4321ed2457fb6678393ea15730.jpg  \n",
            "  inflating: +_648_640_640_label_ceo.v1i.yolov7pytorch/valid/images/trafficseverity_img472_jpg.rf.46149cd3aa5e006a0c9e996e6ab0a371.jpg  \n",
            "  inflating: __MACOSX/+_648_640_640_label_ceo.v1i.yolov7pytorch/valid/images/._trafficseverity_img472_jpg.rf.46149cd3aa5e006a0c9e996e6ab0a371.jpg  \n",
            "  inflating: +_648_640_640_label_ceo.v1i.yolov7pytorch/valid/images/SEVERITY_V10_11_jpg.rf.c1606421895051a81efcea90556c21df.jpg  \n",
            "  inflating: __MACOSX/+_648_640_640_label_ceo.v1i.yolov7pytorch/valid/images/._SEVERITY_V10_11_jpg.rf.c1606421895051a81efcea90556c21df.jpg  \n",
            "  inflating: +_648_640_640_label_ceo.v1i.yolov7pytorch/valid/images/SEEEEVERITY_338_jpg.rf.b4f636458688eb8e809db2c5e4779d5a.jpg  \n",
            "  inflating: __MACOSX/+_648_640_640_label_ceo.v1i.yolov7pytorch/valid/images/._SEEEEVERITY_338_jpg.rf.b4f636458688eb8e809db2c5e4779d5a.jpg  \n",
            "  inflating: +_648_640_640_label_ceo.v1i.yolov7pytorch/valid/images/SEV_22_1570_jpg.rf.55a5096c09a1f8ddfdf78efb5be37701.jpg  \n",
            "  inflating: __MACOSX/+_648_640_640_label_ceo.v1i.yolov7pytorch/valid/images/._SEV_22_1570_jpg.rf.55a5096c09a1f8ddfdf78efb5be37701.jpg  \n",
            "  inflating: +_648_640_640_label_ceo.v1i.yolov7pytorch/valid/images/IMG_2175_JPG_jpg.rf.30179a31313e64741aab55598cbfea75.jpg  \n",
            "  inflating: __MACOSX/+_648_640_640_label_ceo.v1i.yolov7pytorch/valid/images/._IMG_2175_JPG_jpg.rf.30179a31313e64741aab55598cbfea75.jpg  \n",
            "  inflating: +_648_640_640_label_ceo.v1i.yolov7pytorch/valid/images/SEEEEVERITY_12_jpg.rf.73252f0c682a4b0e453bc6debf4b88e9.jpg  \n",
            "  inflating: __MACOSX/+_648_640_640_label_ceo.v1i.yolov7pytorch/valid/images/._SEEEEVERITY_12_jpg.rf.73252f0c682a4b0e453bc6debf4b88e9.jpg  \n",
            "  inflating: +_648_640_640_label_ceo.v1i.yolov7pytorch/valid/images/trafficseverity_img1034_jpg.rf.dfd1e97b8e72953c6ab6025008e062f1.jpg  \n",
            "  inflating: __MACOSX/+_648_640_640_label_ceo.v1i.yolov7pytorch/valid/images/._trafficseverity_img1034_jpg.rf.dfd1e97b8e72953c6ab6025008e062f1.jpg  \n",
            "  inflating: +_648_640_640_label_ceo.v1i.yolov7pytorch/valid/images/trafficseverity_img2243_jpg.rf.c46238b8c5cbb7d6adfdeec72a09d146.jpg  \n",
            "  inflating: __MACOSX/+_648_640_640_label_ceo.v1i.yolov7pytorch/valid/images/._trafficseverity_img2243_jpg.rf.c46238b8c5cbb7d6adfdeec72a09d146.jpg  \n",
            "  inflating: +_648_640_640_label_ceo.v1i.yolov7pytorch/valid/images/trafficseverity_img136_jpg.rf.8351d7c24d7b6badf5b6e2b512f982cc.jpg  \n",
            "  inflating: __MACOSX/+_648_640_640_label_ceo.v1i.yolov7pytorch/valid/images/._trafficseverity_img136_jpg.rf.8351d7c24d7b6badf5b6e2b512f982cc.jpg  \n",
            "  inflating: +_648_640_640_label_ceo.v1i.yolov7pytorch/valid/images/IMG_1504_PNG_jpg.rf.7e6a915d027d60e2a1bf69892976d8f8.jpg  \n",
            "  inflating: __MACOSX/+_648_640_640_label_ceo.v1i.yolov7pytorch/valid/images/._IMG_1504_PNG_jpg.rf.7e6a915d027d60e2a1bf69892976d8f8.jpg  \n",
            "  inflating: +_648_640_640_label_ceo.v1i.yolov7pytorch/valid/images/SEV_22_3348_jpg.rf.a27667bc47c7e2629d92b21de3be24e6.jpg  \n",
            "  inflating: __MACOSX/+_648_640_640_label_ceo.v1i.yolov7pytorch/valid/images/._SEV_22_3348_jpg.rf.a27667bc47c7e2629d92b21de3be24e6.jpg  \n",
            "  inflating: +_648_640_640_label_ceo.v1i.yolov7pytorch/valid/images/Screen-Shot-2022-04-08-at-7-58-28-AM_png_jpg.rf.53c105279877c0b4aa8056fd27c13e0e.jpg  \n",
            "  inflating: __MACOSX/+_648_640_640_label_ceo.v1i.yolov7pytorch/valid/images/._Screen-Shot-2022-04-08-at-7-58-28-AM_png_jpg.rf.53c105279877c0b4aa8056fd27c13e0e.jpg  \n",
            "  inflating: +_648_640_640_label_ceo.v1i.yolov7pytorch/valid/images/accidentFrame10598_jpg.rf.4ede8483862949dfd85fcfa35d531245.jpg  \n",
            "  inflating: __MACOSX/+_648_640_640_label_ceo.v1i.yolov7pytorch/valid/images/._accidentFrame10598_jpg.rf.4ede8483862949dfd85fcfa35d531245.jpg  \n",
            "  inflating: +_648_640_640_label_ceo.v1i.yolov7pytorch/valid/images/accidentFrame1130_jpg.rf.cba83147ac5bf637d9ba594023f77b8f.jpg  \n",
            "  inflating: __MACOSX/+_648_640_640_label_ceo.v1i.yolov7pytorch/valid/images/._accidentFrame1130_jpg.rf.cba83147ac5bf637d9ba594023f77b8f.jpg  \n",
            "  inflating: +_648_640_640_label_ceo.v1i.yolov7pytorch/valid/images/traffic_img260_jpg.rf.4704009826578a79e4c69c7081ffc514.jpg  \n",
            "  inflating: __MACOSX/+_648_640_640_label_ceo.v1i.yolov7pytorch/valid/images/._traffic_img260_jpg.rf.4704009826578a79e4c69c7081ffc514.jpg  \n",
            "  inflating: +_648_640_640_label_ceo.v1i.yolov7pytorch/valid/images/trafficseverity_img1813_jpg.rf.a7cc07502e6c81b6d06aca3890184f10.jpg  \n",
            "  inflating: __MACOSX/+_648_640_640_label_ceo.v1i.yolov7pytorch/valid/images/._trafficseverity_img1813_jpg.rf.a7cc07502e6c81b6d06aca3890184f10.jpg  \n",
            "  inflating: +_648_640_640_label_ceo.v1i.yolov7pytorch/valid/images/trafficseverity_img3558_jpg.rf.db54833dee808ac27d4c8093f5341bd5.jpg  \n",
            "  inflating: __MACOSX/+_648_640_640_label_ceo.v1i.yolov7pytorch/valid/images/._trafficseverity_img3558_jpg.rf.db54833dee808ac27d4c8093f5341bd5.jpg  \n",
            "  inflating: +_648_640_640_label_ceo.v1i.yolov7pytorch/valid/images/SEV_22_2320_jpg.rf.e663cbfe92f0cc83af7d558e2c7e2436.jpg  \n",
            "  inflating: __MACOSX/+_648_640_640_label_ceo.v1i.yolov7pytorch/valid/images/._SEV_22_2320_jpg.rf.e663cbfe92f0cc83af7d558e2c7e2436.jpg  \n",
            "  inflating: +_648_640_640_label_ceo.v1i.yolov7pytorch/valid/images/severityV3_30_jpeg_jpg.rf.bade77fa90e19929399b7d29c55c605b.jpg  \n",
            "  inflating: __MACOSX/+_648_640_640_label_ceo.v1i.yolov7pytorch/valid/images/._severityV3_30_jpeg_jpg.rf.bade77fa90e19929399b7d29c55c605b.jpg  \n",
            "  inflating: +_648_640_640_label_ceo.v1i.yolov7pytorch/valid/images/images-2022-04-07T065448-260_jpeg_jpg.rf.cea0958356c4064d85733608045f5853.jpg  \n",
            "  inflating: __MACOSX/+_648_640_640_label_ceo.v1i.yolov7pytorch/valid/images/._images-2022-04-07T065448-260_jpeg_jpg.rf.cea0958356c4064d85733608045f5853.jpg  \n",
            "  inflating: +_648_640_640_label_ceo.v1i.yolov7pytorch/valid/images/trafficseverity_img1239_jpg.rf.771c9820e414e213a6606f9c6d128591.jpg  \n",
            "  inflating: __MACOSX/+_648_640_640_label_ceo.v1i.yolov7pytorch/valid/images/._trafficseverity_img1239_jpg.rf.771c9820e414e213a6606f9c6d128591.jpg  \n",
            "  inflating: +_648_640_640_label_ceo.v1i.yolov7pytorch/valid/images/trafficseverity_img5031_jpg.rf.8176a687909a20c66bb84239b378dce3.jpg  \n",
            "  inflating: __MACOSX/+_648_640_640_label_ceo.v1i.yolov7pytorch/valid/images/._trafficseverity_img5031_jpg.rf.8176a687909a20c66bb84239b378dce3.jpg  \n",
            "  inflating: +_648_640_640_label_ceo.v1i.yolov7pytorch/valid/images/trafficseverity_img434_jpg.rf.b7cd0e9fd04b36ab84739d5a577c6b17.jpg  \n",
            "  inflating: __MACOSX/+_648_640_640_label_ceo.v1i.yolov7pytorch/valid/images/._trafficseverity_img434_jpg.rf.b7cd0e9fd04b36ab84739d5a577c6b17.jpg  \n",
            "  inflating: +_648_640_640_label_ceo.v1i.yolov7pytorch/valid/images/traffic_img295_jpg.rf.904ac0a94091e94ea017c0d24a80faee.jpg  \n",
            "  inflating: __MACOSX/+_648_640_640_label_ceo.v1i.yolov7pytorch/valid/images/._traffic_img295_jpg.rf.904ac0a94091e94ea017c0d24a80faee.jpg  \n",
            "  inflating: +_648_640_640_label_ceo.v1i.yolov7pytorch/valid/images/images-59-_jpeg_jpg.rf.f1c196757a1ed9b5119cbb18f8b78606.jpg  \n",
            "  inflating: __MACOSX/+_648_640_640_label_ceo.v1i.yolov7pytorch/valid/images/._images-59-_jpeg_jpg.rf.f1c196757a1ed9b5119cbb18f8b78606.jpg  \n",
            "  inflating: +_648_640_640_label_ceo.v1i.yolov7pytorch/valid/images/760_jpeg_jpg.rf.5886514d35c30a2f25de6f886ec4d346.jpg  \n",
            "  inflating: __MACOSX/+_648_640_640_label_ceo.v1i.yolov7pytorch/valid/images/._760_jpeg_jpg.rf.5886514d35c30a2f25de6f886ec4d346.jpg  \n",
            "  inflating: +_648_640_640_label_ceo.v1i.yolov7pytorch/valid/images/trafficseverity_img2193_jpg.rf.fd6718f2a7c3b7d968a06cdeea3bef95.jpg  \n",
            "  inflating: __MACOSX/+_648_640_640_label_ceo.v1i.yolov7pytorch/valid/images/._trafficseverity_img2193_jpg.rf.fd6718f2a7c3b7d968a06cdeea3bef95.jpg  \n",
            "  inflating: +_648_640_640_label_ceo.v1i.yolov7pytorch/valid/images/IMG_1547_PNG_jpg.rf.a1908b8b460e35268f1b1ec1a21bccc3.jpg  \n",
            "  inflating: __MACOSX/+_648_640_640_label_ceo.v1i.yolov7pytorch/valid/images/._IMG_1547_PNG_jpg.rf.a1908b8b460e35268f1b1ec1a21bccc3.jpg  \n",
            "  inflating: +_648_640_640_label_ceo.v1i.yolov7pytorch/valid/images/IMG_2208_PNG_jpg.rf.12444dd3b658ac792ba82cf90184b82a.jpg  \n",
            "  inflating: __MACOSX/+_648_640_640_label_ceo.v1i.yolov7pytorch/valid/images/._IMG_2208_PNG_jpg.rf.12444dd3b658ac792ba82cf90184b82a.jpg  \n",
            "  inflating: +_648_640_640_label_ceo.v1i.yolov7pytorch/valid/images/SEV_22_2608_jpg.rf.031570de0f01b995512a8ed425d86301.jpg  \n",
            "  inflating: __MACOSX/+_648_640_640_label_ceo.v1i.yolov7pytorch/valid/images/._SEV_22_2608_jpg.rf.031570de0f01b995512a8ed425d86301.jpg  \n",
            "  inflating: +_648_640_640_label_ceo.v1i.yolov7pytorch/valid/images/SEEEEVERITY_66_jpg.rf.d152bb42f50b81fe59e11bc19d92a688.jpg  \n",
            "  inflating: __MACOSX/+_648_640_640_label_ceo.v1i.yolov7pytorch/valid/images/._SEEEEVERITY_66_jpg.rf.d152bb42f50b81fe59e11bc19d92a688.jpg  \n",
            "  inflating: +_648_640_640_label_ceo.v1i.yolov7pytorch/valid/images/trafficseverity_img5568_jpg.rf.9322dcb17d95cfb737fb656aa5d5686e.jpg  \n",
            "  inflating: __MACOSX/+_648_640_640_label_ceo.v1i.yolov7pytorch/valid/images/._trafficseverity_img5568_jpg.rf.9322dcb17d95cfb737fb656aa5d5686e.jpg  \n",
            "  inflating: +_648_640_640_label_ceo.v1i.yolov7pytorch/valid/images/severityV3_35_jpeg_jpg.rf.f7dcace4e19dd2e748bc8d4c696fb557.jpg  \n",
            "  inflating: __MACOSX/+_648_640_640_label_ceo.v1i.yolov7pytorch/valid/images/._severityV3_35_jpeg_jpg.rf.f7dcace4e19dd2e748bc8d4c696fb557.jpg  \n",
            "  inflating: +_648_640_640_label_ceo.v1i.yolov7pytorch/valid/images/trafficseverity_img452_jpg.rf.5cc607d16a090520e46d01ecefbe8e36.jpg  \n",
            "  inflating: __MACOSX/+_648_640_640_label_ceo.v1i.yolov7pytorch/valid/images/._trafficseverity_img452_jpg.rf.5cc607d16a090520e46d01ecefbe8e36.jpg  \n",
            "  inflating: +_648_640_640_label_ceo.v1i.yolov7pytorch/valid/images/trafficseverity_img5563_jpg.rf.b3606eed345bcc387457085d1d2d9fdd.jpg  \n",
            "  inflating: __MACOSX/+_648_640_640_label_ceo.v1i.yolov7pytorch/valid/images/._trafficseverity_img5563_jpg.rf.b3606eed345bcc387457085d1d2d9fdd.jpg  \n",
            "  inflating: +_648_640_640_label_ceo.v1i.yolov7pytorch/valid/images/trafficseverity_img385_jpg.rf.d76f261e2cbacde9f5d1f24f6d4200bd.jpg  \n",
            "  inflating: __MACOSX/+_648_640_640_label_ceo.v1i.yolov7pytorch/valid/images/._trafficseverity_img385_jpg.rf.d76f261e2cbacde9f5d1f24f6d4200bd.jpg  \n",
            "  inflating: +_648_640_640_label_ceo.v1i.yolov7pytorch/valid/images/images-10-_jpeg_jpg.rf.ec1184f51b9de9446d01b32a5648551d.jpg  \n",
            "  inflating: __MACOSX/+_648_640_640_label_ceo.v1i.yolov7pytorch/valid/images/._images-10-_jpeg_jpg.rf.ec1184f51b9de9446d01b32a5648551d.jpg  \n",
            "  inflating: +_648_640_640_label_ceo.v1i.yolov7pytorch/valid/images/SEV_22_2030_jpg.rf.d98ab5b6e74b2e250315aa657ac0d249.jpg  \n",
            "  inflating: __MACOSX/+_648_640_640_label_ceo.v1i.yolov7pytorch/valid/images/._SEV_22_2030_jpg.rf.d98ab5b6e74b2e250315aa657ac0d249.jpg  \n",
            "  inflating: +_648_640_640_label_ceo.v1i.yolov7pytorch/valid/images/trafficseverity_img445_jpg.rf.c2568faec3187d44092c546236c7454b.jpg  \n",
            "  inflating: __MACOSX/+_648_640_640_label_ceo.v1i.yolov7pytorch/valid/images/._trafficseverity_img445_jpg.rf.c2568faec3187d44092c546236c7454b.jpg  \n",
            "  inflating: +_648_640_640_label_ceo.v1i.yolov7pytorch/valid/images/SEV_22_3396_jpg.rf.d3291f654e4b2dd85b82c08bfce83e60.jpg  \n",
            "  inflating: __MACOSX/+_648_640_640_label_ceo.v1i.yolov7pytorch/valid/images/._SEV_22_3396_jpg.rf.d3291f654e4b2dd85b82c08bfce83e60.jpg  \n",
            "  inflating: +_648_640_640_label_ceo.v1i.yolov7pytorch/valid/images/trafficseverity_img643_jpg.rf.28bf55cdd5cebbafd5e1be65ccdec896.jpg  \n",
            "  inflating: __MACOSX/+_648_640_640_label_ceo.v1i.yolov7pytorch/valid/images/._trafficseverity_img643_jpg.rf.28bf55cdd5cebbafd5e1be65ccdec896.jpg  \n",
            "  inflating: +_648_640_640_label_ceo.v1i.yolov7pytorch/valid/images/severityV4_15_jpg.rf.d7115becb5264bbc3da807cf0a565e1b.jpg  \n",
            "  inflating: __MACOSX/+_648_640_640_label_ceo.v1i.yolov7pytorch/valid/images/._severityV4_15_jpg.rf.d7115becb5264bbc3da807cf0a565e1b.jpg  \n",
            "  inflating: +_648_640_640_label_ceo.v1i.yolov7pytorch/valid/images/traffic_img2465_jpg.rf.bfc4bf26a2aa96a9f42645e7feb04c9e.jpg  \n",
            "  inflating: __MACOSX/+_648_640_640_label_ceo.v1i.yolov7pytorch/valid/images/._traffic_img2465_jpg.rf.bfc4bf26a2aa96a9f42645e7feb04c9e.jpg  \n",
            "  inflating: +_648_640_640_label_ceo.v1i.yolov7pytorch/valid/images/SEV_22_3267_jpg.rf.671b34018849c688162b4f908a6ebf6d.jpg  \n",
            "  inflating: __MACOSX/+_648_640_640_label_ceo.v1i.yolov7pytorch/valid/images/._SEV_22_3267_jpg.rf.671b34018849c688162b4f908a6ebf6d.jpg  \n",
            "  inflating: +_648_640_640_label_ceo.v1i.yolov7pytorch/valid/images/SEV_22_2285_jpg.rf.9757973f9b389a1f260630e21e483baf.jpg  \n",
            "  inflating: __MACOSX/+_648_640_640_label_ceo.v1i.yolov7pytorch/valid/images/._SEV_22_2285_jpg.rf.9757973f9b389a1f260630e21e483baf.jpg  \n",
            "  inflating: +_648_640_640_label_ceo.v1i.yolov7pytorch/valid/images/trafficseverity_img1094_jpg.rf.04d87c98a19bb4e33183c1af356a0dd0.jpg  \n",
            "  inflating: __MACOSX/+_648_640_640_label_ceo.v1i.yolov7pytorch/valid/images/._trafficseverity_img1094_jpg.rf.04d87c98a19bb4e33183c1af356a0dd0.jpg  \n",
            "  inflating: +_648_640_640_label_ceo.v1i.yolov7pytorch/valid/images/SEVERITY_V10_86_jpg.rf.eaf77fc04df86645bebaad918ed4fd74.jpg  \n",
            "  inflating: __MACOSX/+_648_640_640_label_ceo.v1i.yolov7pytorch/valid/images/._SEVERITY_V10_86_jpg.rf.eaf77fc04df86645bebaad918ed4fd74.jpg  \n",
            "  inflating: +_648_640_640_label_ceo.v1i.yolov7pytorch/valid/images/Screen-Shot-2022-04-08-at-5-56-30-AM_png_jpg.rf.75b8a72282c5153f55bfcd540e07d028.jpg  \n",
            "  inflating: __MACOSX/+_648_640_640_label_ceo.v1i.yolov7pytorch/valid/images/._Screen-Shot-2022-04-08-at-5-56-30-AM_png_jpg.rf.75b8a72282c5153f55bfcd540e07d028.jpg  \n",
            "  inflating: +_648_640_640_label_ceo.v1i.yolov7pytorch/valid/images/trafficseverity_img357_jpg.rf.d9085d16aaf018b262d73ea07c4210eb.jpg  \n",
            "  inflating: __MACOSX/+_648_640_640_label_ceo.v1i.yolov7pytorch/valid/images/._trafficseverity_img357_jpg.rf.d9085d16aaf018b262d73ea07c4210eb.jpg  \n",
            "  inflating: +_648_640_640_label_ceo.v1i.yolov7pytorch/valid/images/SEV_22_3653_jpg.rf.0e59271685610910f8a53ce8425511a9.jpg  \n",
            "  inflating: __MACOSX/+_648_640_640_label_ceo.v1i.yolov7pytorch/valid/images/._SEV_22_3653_jpg.rf.0e59271685610910f8a53ce8425511a9.jpg  \n",
            "  inflating: +_648_640_640_label_ceo.v1i.yolov7pytorch/valid/images/trafficseverity_img106_jpg.rf.8c1cdaefa509fd9f6600badf0a56eb43.jpg  \n",
            "  inflating: __MACOSX/+_648_640_640_label_ceo.v1i.yolov7pytorch/valid/images/._trafficseverity_img106_jpg.rf.8c1cdaefa509fd9f6600badf0a56eb43.jpg  \n",
            "  inflating: +_648_640_640_label_ceo.v1i.yolov7pytorch/valid/images/argusAcc323_jpg.rf.c9862fd9bfc819c0fec616b108386958.jpg  \n",
            "  inflating: __MACOSX/+_648_640_640_label_ceo.v1i.yolov7pytorch/valid/images/._argusAcc323_jpg.rf.c9862fd9bfc819c0fec616b108386958.jpg  \n",
            "  inflating: +_648_640_640_label_ceo.v1i.yolov7pytorch/valid/images/trafficseverity_img2372_jpg.rf.f195e00dbf77e97eacb091ab29d4390a.jpg  \n",
            "  inflating: __MACOSX/+_648_640_640_label_ceo.v1i.yolov7pytorch/valid/images/._trafficseverity_img2372_jpg.rf.f195e00dbf77e97eacb091ab29d4390a.jpg  \n",
            "  inflating: +_648_640_640_label_ceo.v1i.yolov7pytorch/valid/images/SEV_22_849_jpg.rf.7961c11533ad5b17590a21313c371f46.jpg  \n",
            "  inflating: __MACOSX/+_648_640_640_label_ceo.v1i.yolov7pytorch/valid/images/._SEV_22_849_jpg.rf.7961c11533ad5b17590a21313c371f46.jpg  \n",
            "  inflating: +_648_640_640_label_ceo.v1i.yolov7pytorch/valid/images/IMG_2177_JPG_jpg.rf.8e19bd8691c288dfb50d94034d2f4eb4.jpg  \n",
            "  inflating: __MACOSX/+_648_640_640_label_ceo.v1i.yolov7pytorch/valid/images/._IMG_2177_JPG_jpg.rf.8e19bd8691c288dfb50d94034d2f4eb4.jpg  \n",
            "  inflating: +_648_640_640_label_ceo.v1i.yolov7pytorch/valid/images/trafficseverity_img2651_jpg.rf.6ca1cddea5ccd1ffe82d729619674a33.jpg  \n",
            "  inflating: __MACOSX/+_648_640_640_label_ceo.v1i.yolov7pytorch/valid/images/._trafficseverity_img2651_jpg.rf.6ca1cddea5ccd1ffe82d729619674a33.jpg  \n",
            "  inflating: +_648_640_640_label_ceo.v1i.yolov7pytorch/valid/images/2accidentFrame513_jpg.rf.16945f099d804f034f6567b4230dbae5.jpg  \n",
            "  inflating: __MACOSX/+_648_640_640_label_ceo.v1i.yolov7pytorch/valid/images/._2accidentFrame513_jpg.rf.16945f099d804f034f6567b4230dbae5.jpg  \n",
            "  inflating: +_648_640_640_label_ceo.v1i.yolov7pytorch/valid/images/trafficseverity_img4753_jpg.rf.e408e620edf3a70bfa0e92046c74d7f5.jpg  \n",
            "  inflating: __MACOSX/+_648_640_640_label_ceo.v1i.yolov7pytorch/valid/images/._trafficseverity_img4753_jpg.rf.e408e620edf3a70bfa0e92046c74d7f5.jpg  \n",
            "  inflating: +_648_640_640_label_ceo.v1i.yolov7pytorch/valid/images/SEEEEVERITY_199_jpg.rf.a0aa75620a0b39bb3c943fded83f6449.jpg  \n",
            "  inflating: __MACOSX/+_648_640_640_label_ceo.v1i.yolov7pytorch/valid/images/._SEEEEVERITY_199_jpg.rf.a0aa75620a0b39bb3c943fded83f6449.jpg  \n",
            "  inflating: +_648_640_640_label_ceo.v1i.yolov7pytorch/valid/images/trafficseverity_img1054_jpg.rf.abed08531a46502b53e4d0979f4475da.jpg  \n",
            "  inflating: __MACOSX/+_648_640_640_label_ceo.v1i.yolov7pytorch/valid/images/._trafficseverity_img1054_jpg.rf.abed08531a46502b53e4d0979f4475da.jpg  \n",
            "  inflating: +_648_640_640_label_ceo.v1i.yolov7pytorch/valid/images/SEEEEVERITY_141_jpg.rf.0aa1fa88dbcd5070de67236b7f58e016.jpg  \n",
            "  inflating: __MACOSX/+_648_640_640_label_ceo.v1i.yolov7pytorch/valid/images/._SEEEEVERITY_141_jpg.rf.0aa1fa88dbcd5070de67236b7f58e016.jpg  \n",
            "  inflating: +_648_640_640_label_ceo.v1i.yolov7pytorch/valid/images/SEVERITY_V13_49_jpg.rf.34eda40c733ed89ab9a08a99f99eeeb1.jpg  \n",
            "  inflating: __MACOSX/+_648_640_640_label_ceo.v1i.yolov7pytorch/valid/images/._SEVERITY_V13_49_jpg.rf.34eda40c733ed89ab9a08a99f99eeeb1.jpg  \n",
            "  inflating: +_648_640_640_label_ceo.v1i.yolov7pytorch/valid/images/IMG_2289_PNG_jpg.rf.3e344876822bfd2a3f25912824d618af.jpg  \n",
            "  inflating: __MACOSX/+_648_640_640_label_ceo.v1i.yolov7pytorch/valid/images/._IMG_2289_PNG_jpg.rf.3e344876822bfd2a3f25912824d618af.jpg  \n",
            "  inflating: +_648_640_640_label_ceo.v1i.yolov7pytorch/valid/images/SEEEEVERITY_257_jpg.rf.a1305b66d02bf9eab115c2aadec9448a.jpg  \n",
            "  inflating: __MACOSX/+_648_640_640_label_ceo.v1i.yolov7pytorch/valid/images/._SEEEEVERITY_257_jpg.rf.a1305b66d02bf9eab115c2aadec9448a.jpg  \n",
            "  inflating: +_648_640_640_label_ceo.v1i.yolov7pytorch/valid/images/Screen-Shot-2022-04-07-at-7-56-32-PM_png_jpg.rf.c4537fd13eacdf0c0b18dc179b75f050.jpg  \n",
            "  inflating: __MACOSX/+_648_640_640_label_ceo.v1i.yolov7pytorch/valid/images/._Screen-Shot-2022-04-07-at-7-56-32-PM_png_jpg.rf.c4537fd13eacdf0c0b18dc179b75f050.jpg  \n",
            "  inflating: +_648_640_640_label_ceo.v1i.yolov7pytorch/valid/images/Semi-RealisticVD-144_jpg.rf.63381ece21db7aec5d8389def567f74b.jpg  \n",
            "  inflating: __MACOSX/+_648_640_640_label_ceo.v1i.yolov7pytorch/valid/images/._Semi-RealisticVD-144_jpg.rf.63381ece21db7aec5d8389def567f74b.jpg  \n",
            "  inflating: +_648_640_640_label_ceo.v1i.yolov7pytorch/valid/images/FLIP_CAR_V132_jpg.rf.3d1257ed93c702000c1ef57d52e31d6b.jpg  \n",
            "  inflating: __MACOSX/+_648_640_640_label_ceo.v1i.yolov7pytorch/valid/images/._FLIP_CAR_V132_jpg.rf.3d1257ed93c702000c1ef57d52e31d6b.jpg  \n",
            "  inflating: +_648_640_640_label_ceo.v1i.yolov7pytorch/valid/images/SEVERITY_DATA_80_jpg.rf.ed1c6a04dfa693065d7dde921280cef8.jpg  \n",
            "  inflating: __MACOSX/+_648_640_640_label_ceo.v1i.yolov7pytorch/valid/images/._SEVERITY_DATA_80_jpg.rf.ed1c6a04dfa693065d7dde921280cef8.jpg  \n",
            "  inflating: +_648_640_640_label_ceo.v1i.yolov7pytorch/valid/images/Bus-Truck-Crashes-10-BeamNG-Drive_i_frame_8880_jpg.rf.17525bb657411b3ddb6a466a39c41cb2.jpg  \n",
            "  inflating: __MACOSX/+_648_640_640_label_ceo.v1i.yolov7pytorch/valid/images/._Bus-Truck-Crashes-10-BeamNG-Drive_i_frame_8880_jpg.rf.17525bb657411b3ddb6a466a39c41cb2.jpg  \n",
            "  inflating: +_648_640_640_label_ceo.v1i.yolov7pytorch/valid/images/IMG_2658_PNG_jpg.rf.7f0863ec95ce9e09a98f661388cfbcd6.jpg  \n",
            "  inflating: __MACOSX/+_648_640_640_label_ceo.v1i.yolov7pytorch/valid/images/._IMG_2658_PNG_jpg.rf.7f0863ec95ce9e09a98f661388cfbcd6.jpg  \n",
            "  inflating: +_648_640_640_label_ceo.v1i.yolov7pytorch/valid/images/IMG_1591_PNG_jpg.rf.08f084b3f4c86deb06e86ed11bee2af0.jpg  \n",
            "  inflating: __MACOSX/+_648_640_640_label_ceo.v1i.yolov7pytorch/valid/images/._IMG_1591_PNG_jpg.rf.08f084b3f4c86deb06e86ed11bee2af0.jpg  \n",
            "  inflating: +_648_640_640_label_ceo.v1i.yolov7pytorch/valid/images/SEV_V8_Img_57_jpg.rf.0e8026a6a94de1a93d06588e53ae3988.jpg  \n",
            "  inflating: __MACOSX/+_648_640_640_label_ceo.v1i.yolov7pytorch/valid/images/._SEV_V8_Img_57_jpg.rf.0e8026a6a94de1a93d06588e53ae3988.jpg  \n",
            "  inflating: +_648_640_640_label_ceo.v1i.yolov7pytorch/valid/images/SEV_22_2598_jpg.rf.9343c1e208aa91708c207e6ba0f8e077.jpg  \n",
            "  inflating: __MACOSX/+_648_640_640_label_ceo.v1i.yolov7pytorch/valid/images/._SEV_22_2598_jpg.rf.9343c1e208aa91708c207e6ba0f8e077.jpg  \n",
            "  inflating: +_648_640_640_label_ceo.v1i.yolov7pytorch/valid/images/images-51-_jpeg_jpg.rf.512297e9fe38c59e08142ffe78199ac1.jpg  \n",
            "  inflating: __MACOSX/+_648_640_640_label_ceo.v1i.yolov7pytorch/valid/images/._images-51-_jpeg_jpg.rf.512297e9fe38c59e08142ffe78199ac1.jpg  \n",
            "  inflating: +_648_640_640_label_ceo.v1i.yolov7pytorch/valid/images/IMG_2009_PNG_jpg.rf.1069ae54da6511695d85ab87aebebae1.jpg  \n",
            "  inflating: __MACOSX/+_648_640_640_label_ceo.v1i.yolov7pytorch/valid/images/._IMG_2009_PNG_jpg.rf.1069ae54da6511695d85ab87aebebae1.jpg  \n",
            "  inflating: +_648_640_640_label_ceo.v1i.yolov7pytorch/valid/images/SEVERITY_DATA_127_jpg.rf.d543f22fe023a21859d0deb854d3cd3a.jpg  \n",
            "  inflating: __MACOSX/+_648_640_640_label_ceo.v1i.yolov7pytorch/valid/images/._SEVERITY_DATA_127_jpg.rf.d543f22fe023a21859d0deb854d3cd3a.jpg  \n",
            "  inflating: +_648_640_640_label_ceo.v1i.yolov7pytorch/valid/images/Screen-Shot-2022-04-08-at-6-19-21-AM_png_jpg.rf.92a59ef8c0209bb5afff2b2d7a7d83cf.jpg  \n",
            "  inflating: __MACOSX/+_648_640_640_label_ceo.v1i.yolov7pytorch/valid/images/._Screen-Shot-2022-04-08-at-6-19-21-AM_png_jpg.rf.92a59ef8c0209bb5afff2b2d7a7d83cf.jpg  \n",
            "  inflating: +_648_640_640_label_ceo.v1i.yolov7pytorch/valid/images/SEV_22_2318_jpg.rf.f37c7fa0994891b7153c56deabc3019d.jpg  \n",
            "  inflating: __MACOSX/+_648_640_640_label_ceo.v1i.yolov7pytorch/valid/images/._SEV_22_2318_jpg.rf.f37c7fa0994891b7153c56deabc3019d.jpg  \n",
            "  inflating: +_648_640_640_label_ceo.v1i.yolov7pytorch/valid/images/traffic_img1098_jpg.rf.183115336e1806804f40cb6eae7b5aeb.jpg  \n",
            "  inflating: __MACOSX/+_648_640_640_label_ceo.v1i.yolov7pytorch/valid/images/._traffic_img1098_jpg.rf.183115336e1806804f40cb6eae7b5aeb.jpg  \n",
            "  inflating: +_648_640_640_label_ceo.v1i.yolov7pytorch/valid/images/images-41_jpg.rf.b25168dea595741f6944ad6d2975ddfa.jpg  \n",
            "  inflating: __MACOSX/+_648_640_640_label_ceo.v1i.yolov7pytorch/valid/images/._images-41_jpg.rf.b25168dea595741f6944ad6d2975ddfa.jpg  \n",
            "  inflating: +_648_640_640_label_ceo.v1i.yolov7pytorch/valid/images/IMG_1997_PNG_jpg.rf.756701baed3ad98632b35a6500f88a8c.jpg  \n",
            "  inflating: __MACOSX/+_648_640_640_label_ceo.v1i.yolov7pytorch/valid/images/._IMG_1997_PNG_jpg.rf.756701baed3ad98632b35a6500f88a8c.jpg  \n",
            "  inflating: +_648_640_640_label_ceo.v1i.yolov7pytorch/valid/images/SEVERITY_V10_103_jpg.rf.f63ed7e44a817c6bb18074d93f461237.jpg  \n",
            "  inflating: __MACOSX/+_648_640_640_label_ceo.v1i.yolov7pytorch/valid/images/._SEVERITY_V10_103_jpg.rf.f63ed7e44a817c6bb18074d93f461237.jpg  \n",
            "  inflating: +_648_640_640_label_ceo.v1i.yolov7pytorch/valid/images/severityV3_5_jpeg_jpg.rf.36c05c9aa9cd8fa2f98e144356feb91e.jpg  \n",
            "  inflating: __MACOSX/+_648_640_640_label_ceo.v1i.yolov7pytorch/valid/images/._severityV3_5_jpeg_jpg.rf.36c05c9aa9cd8fa2f98e144356feb91e.jpg  \n",
            "  inflating: +_648_640_640_label_ceo.v1i.yolov7pytorch/valid/images/SEV_22_3287_jpg.rf.debdc033f50452645b78bdff9aefd0c9.jpg  \n",
            "  inflating: __MACOSX/+_648_640_640_label_ceo.v1i.yolov7pytorch/valid/images/._SEV_22_3287_jpg.rf.debdc033f50452645b78bdff9aefd0c9.jpg  \n",
            "  inflating: +_648_640_640_label_ceo.v1i.yolov7pytorch/valid/images/SEV_V8_Img_134_jpg.rf.8bdddbc6ad56486fc3d4f42f72a2d26d.jpg  \n",
            "  inflating: __MACOSX/+_648_640_640_label_ceo.v1i.yolov7pytorch/valid/images/._SEV_V8_Img_134_jpg.rf.8bdddbc6ad56486fc3d4f42f72a2d26d.jpg  \n",
            "  inflating: +_648_640_640_label_ceo.v1i.yolov7pytorch/valid/images/SEV_22_2111_jpg.rf.1a036b805865992a9e8eff0e2cd5e1fd.jpg  \n",
            "  inflating: __MACOSX/+_648_640_640_label_ceo.v1i.yolov7pytorch/valid/images/._SEV_22_2111_jpg.rf.1a036b805865992a9e8eff0e2cd5e1fd.jpg  \n",
            "  inflating: +_648_640_640_label_ceo.v1i.yolov7pytorch/valid/images/Bus-Truck-Crashes-10-BeamNG-Drive_i_frame_1800_jpg.rf.2d6d9c74f8dad5c48661c3be63aefe7d.jpg  \n",
            "  inflating: __MACOSX/+_648_640_640_label_ceo.v1i.yolov7pytorch/valid/images/._Bus-Truck-Crashes-10-BeamNG-Drive_i_frame_1800_jpg.rf.2d6d9c74f8dad5c48661c3be63aefe7d.jpg  \n",
            "  inflating: +_648_640_640_label_ceo.v1i.yolov7pytorch/valid/images/Accident_Img_313_jpg.rf.24443562623f86c721f08c67854cf79d.jpg  \n",
            "  inflating: __MACOSX/+_648_640_640_label_ceo.v1i.yolov7pytorch/valid/images/._Accident_Img_313_jpg.rf.24443562623f86c721f08c67854cf79d.jpg  \n",
            "  inflating: +_648_640_640_label_ceo.v1i.yolov7pytorch/valid/images/SEEEEVERITY_120_jpg.rf.72bc1dd2c95ba4a74c9d38c830d0ca0f.jpg  \n",
            "  inflating: __MACOSX/+_648_640_640_label_ceo.v1i.yolov7pytorch/valid/images/._SEEEEVERITY_120_jpg.rf.72bc1dd2c95ba4a74c9d38c830d0ca0f.jpg  \n",
            "  inflating: +_648_640_640_label_ceo.v1i.yolov7pytorch/valid/images/SEEEEVERITY_218_jpg.rf.585bda6c7d58974e65fbfdabfdfda337.jpg  \n",
            "  inflating: __MACOSX/+_648_640_640_label_ceo.v1i.yolov7pytorch/valid/images/._SEEEEVERITY_218_jpg.rf.585bda6c7d58974e65fbfdabfdfda337.jpg  \n",
            "  inflating: +_648_640_640_label_ceo.v1i.yolov7pytorch/valid/images/trafficseverity_img1235_jpg.rf.68a6066c60075264cfab61afe677d4ce.jpg  \n",
            "  inflating: __MACOSX/+_648_640_640_label_ceo.v1i.yolov7pytorch/valid/images/._trafficseverity_img1235_jpg.rf.68a6066c60075264cfab61afe677d4ce.jpg  \n",
            "  inflating: +_648_640_640_label_ceo.v1i.yolov7pytorch/valid/images/trafficseverity_img3560_jpg.rf.c2218772268681d0e4675e9522061d29.jpg  \n",
            "  inflating: __MACOSX/+_648_640_640_label_ceo.v1i.yolov7pytorch/valid/images/._trafficseverity_img3560_jpg.rf.c2218772268681d0e4675e9522061d29.jpg  \n",
            "  inflating: +_648_640_640_label_ceo.v1i.yolov7pytorch/valid/images/traffic_img251_jpg.rf.e90354834789cbfb1dd44dbecd80f7f1.jpg  \n",
            "  inflating: __MACOSX/+_648_640_640_label_ceo.v1i.yolov7pytorch/valid/images/._traffic_img251_jpg.rf.e90354834789cbfb1dd44dbecd80f7f1.jpg  \n",
            "  inflating: +_648_640_640_label_ceo.v1i.yolov7pytorch/valid/images/traffic_img441_jpg.rf.67147e1d08601556fd12ef450f7ef1ee.jpg  \n",
            "  inflating: __MACOSX/+_648_640_640_label_ceo.v1i.yolov7pytorch/valid/images/._traffic_img441_jpg.rf.67147e1d08601556fd12ef450f7ef1ee.jpg  \n",
            "  inflating: +_648_640_640_label_ceo.v1i.yolov7pytorch/valid/images/IMG_2419_PNG_jpg.rf.e9386b5cf847dd2b30e59d8de4ae77db.jpg  \n",
            "  inflating: __MACOSX/+_648_640_640_label_ceo.v1i.yolov7pytorch/valid/images/._IMG_2419_PNG_jpg.rf.e9386b5cf847dd2b30e59d8de4ae77db.jpg  \n",
            "  inflating: +_648_640_640_label_ceo.v1i.yolov7pytorch/valid/images/traffic_img3489_jpg.rf.ea8b6533e963522d702d7d15fcc71fcf.jpg  \n",
            "  inflating: __MACOSX/+_648_640_640_label_ceo.v1i.yolov7pytorch/valid/images/._traffic_img3489_jpg.rf.ea8b6533e963522d702d7d15fcc71fcf.jpg  \n",
            "  inflating: +_648_640_640_label_ceo.v1i.yolov7pytorch/valid/images/trafficseverity_img2508_jpg.rf.6ac3dd4425c5c153801e1098dace2580.jpg  \n",
            "  inflating: __MACOSX/+_648_640_640_label_ceo.v1i.yolov7pytorch/valid/images/._trafficseverity_img2508_jpg.rf.6ac3dd4425c5c153801e1098dace2580.jpg  \n",
            "  inflating: +_648_640_640_label_ceo.v1i.yolov7pytorch/valid/images/trafficseverity_img947_jpg.rf.229dfe7bf0d5d0fc978846883eab0659.jpg  \n",
            "  inflating: __MACOSX/+_648_640_640_label_ceo.v1i.yolov7pytorch/valid/images/._trafficseverity_img947_jpg.rf.229dfe7bf0d5d0fc978846883eab0659.jpg  \n",
            "  inflating: +_648_640_640_label_ceo.v1i.yolov7pytorch/valid/images/trafficseverity_img2189_jpg.rf.a55dd5a7539b38395274e5008559554e.jpg  \n",
            "  inflating: __MACOSX/+_648_640_640_label_ceo.v1i.yolov7pytorch/valid/images/._trafficseverity_img2189_jpg.rf.a55dd5a7539b38395274e5008559554e.jpg  \n",
            "  inflating: +_648_640_640_label_ceo.v1i.yolov7pytorch/valid/images/SEVERITY_DATA_78_jpg.rf.61356beea1eb4a4ccffd4552fa5c6bd4.jpg  \n",
            "  inflating: __MACOSX/+_648_640_640_label_ceo.v1i.yolov7pytorch/valid/images/._SEVERITY_DATA_78_jpg.rf.61356beea1eb4a4ccffd4552fa5c6bd4.jpg  \n",
            "  inflating: +_648_640_640_label_ceo.v1i.yolov7pytorch/valid/images/IMG_2350_PNG_jpg.rf.8af8b2e8348523f47d65c49a615848ba.jpg  \n",
            "  inflating: __MACOSX/+_648_640_640_label_ceo.v1i.yolov7pytorch/valid/images/._IMG_2350_PNG_jpg.rf.8af8b2e8348523f47d65c49a615848ba.jpg  \n",
            "  inflating: +_648_640_640_label_ceo.v1i.yolov7pytorch/valid/images/Screen-Shot-2022-04-08-at-7-57-02-AM_png_jpg.rf.5e9f4af2ece0fda0c904e2adf5247589.jpg  \n",
            "  inflating: __MACOSX/+_648_640_640_label_ceo.v1i.yolov7pytorch/valid/images/._Screen-Shot-2022-04-08-at-7-57-02-AM_png_jpg.rf.5e9f4af2ece0fda0c904e2adf5247589.jpg  \n",
            "  inflating: +_648_640_640_label_ceo.v1i.yolov7pytorch/valid/images/Accident_Img_1762_jpg.rf.1aad2d233167779773d7802da1ca65ee.jpg  \n",
            "  inflating: __MACOSX/+_648_640_640_label_ceo.v1i.yolov7pytorch/valid/images/._Accident_Img_1762_jpg.rf.1aad2d233167779773d7802da1ca65ee.jpg  \n",
            "  inflating: +_648_640_640_label_ceo.v1i.yolov7pytorch/valid/images/SEVERITY_DATA_40_jpg.rf.7b04578209ddaba5eef4c759bd718475.jpg  \n",
            "  inflating: __MACOSX/+_648_640_640_label_ceo.v1i.yolov7pytorch/valid/images/._SEVERITY_DATA_40_jpg.rf.7b04578209ddaba5eef4c759bd718475.jpg  \n",
            "  inflating: +_648_640_640_label_ceo.v1i.yolov7pytorch/valid/images/trafficseverity_img764_jpg.rf.b061bb01d53f0aee8fc7b4e59d1a83da.jpg  \n",
            "  inflating: __MACOSX/+_648_640_640_label_ceo.v1i.yolov7pytorch/valid/images/._trafficseverity_img764_jpg.rf.b061bb01d53f0aee8fc7b4e59d1a83da.jpg  \n",
            "  inflating: +_648_640_640_label_ceo.v1i.yolov7pytorch/valid/images/IMG_2423_PNG_jpg.rf.4492360f00868d0d6d7ee24c198e7a5e.jpg  \n",
            "  inflating: __MACOSX/+_648_640_640_label_ceo.v1i.yolov7pytorch/valid/images/._IMG_2423_PNG_jpg.rf.4492360f00868d0d6d7ee24c198e7a5e.jpg  \n",
            "  inflating: +_648_640_640_label_ceo.v1i.yolov7pytorch/valid/images/trafficseverity_img72_jpg.rf.2a4d94ae7fe4530bd9c12be080297b9b.jpg  \n",
            "  inflating: __MACOSX/+_648_640_640_label_ceo.v1i.yolov7pytorch/valid/images/._trafficseverity_img72_jpg.rf.2a4d94ae7fe4530bd9c12be080297b9b.jpg  \n",
            "  inflating: +_648_640_640_label_ceo.v1i.yolov7pytorch/valid/images/SEVERITY_V10_9_jpg.rf.e0fa6a0e0dcf52916050295a8e06e82b.jpg  \n",
            "  inflating: __MACOSX/+_648_640_640_label_ceo.v1i.yolov7pytorch/valid/images/._SEVERITY_V10_9_jpg.rf.e0fa6a0e0dcf52916050295a8e06e82b.jpg  \n",
            "  inflating: +_648_640_640_label_ceo.v1i.yolov7pytorch/valid/images/Screen-Shot-2022-04-09-at-8-25-17-AM_png_jpg.rf.036d34e56b65df3d279eb611ca18cfc5.jpg  \n",
            "  inflating: __MACOSX/+_648_640_640_label_ceo.v1i.yolov7pytorch/valid/images/._Screen-Shot-2022-04-09-at-8-25-17-AM_png_jpg.rf.036d34e56b65df3d279eb611ca18cfc5.jpg  \n",
            "  inflating: +_648_640_640_label_ceo.v1i.yolov7pytorch/valid/images/trafficseverity_img4838_jpg.rf.fa268ca118596d3e3d8b732912b2219c.jpg  \n",
            "  inflating: __MACOSX/+_648_640_640_label_ceo.v1i.yolov7pytorch/valid/images/._trafficseverity_img4838_jpg.rf.fa268ca118596d3e3d8b732912b2219c.jpg  \n",
            "  inflating: +_648_640_640_label_ceo.v1i.yolov7pytorch/valid/images/traffic_img969_jpg.rf.3566c8f1a88d35495a044cd3f3e1141c.jpg  \n",
            "  inflating: __MACOSX/+_648_640_640_label_ceo.v1i.yolov7pytorch/valid/images/._traffic_img969_jpg.rf.3566c8f1a88d35495a044cd3f3e1141c.jpg  \n",
            "  inflating: +_648_640_640_label_ceo.v1i.yolov7pytorch/valid/images/trafficseverity_img514_jpg.rf.d9fc07dcf3ec8512288f171b53222f6c.jpg  \n",
            "  inflating: __MACOSX/+_648_640_640_label_ceo.v1i.yolov7pytorch/valid/images/._trafficseverity_img514_jpg.rf.d9fc07dcf3ec8512288f171b53222f6c.jpg  \n",
            "  inflating: +_648_640_640_label_ceo.v1i.yolov7pytorch/valid/images/Semi-RealisticVD-216_jpg.rf.9bf5c678a18ddf32048a59b0ce413da3.jpg  \n",
            "  inflating: __MACOSX/+_648_640_640_label_ceo.v1i.yolov7pytorch/valid/images/._Semi-RealisticVD-216_jpg.rf.9bf5c678a18ddf32048a59b0ce413da3.jpg  \n",
            "  inflating: +_648_640_640_label_ceo.v1i.yolov7pytorch/valid/images/trafficseverity_img5137_jpg.rf.7ad189a8de8b78b4c5022e80c83fe8c8.jpg  \n",
            "  inflating: __MACOSX/+_648_640_640_label_ceo.v1i.yolov7pytorch/valid/images/._trafficseverity_img5137_jpg.rf.7ad189a8de8b78b4c5022e80c83fe8c8.jpg  \n",
            "  inflating: +_648_640_640_label_ceo.v1i.yolov7pytorch/valid/images/traffic_img1147_jpg.rf.cdf7ac59e1af58ca4a6aee2f164fd54a.jpg  \n",
            "  inflating: __MACOSX/+_648_640_640_label_ceo.v1i.yolov7pytorch/valid/images/._traffic_img1147_jpg.rf.cdf7ac59e1af58ca4a6aee2f164fd54a.jpg  \n",
            "  inflating: +_648_640_640_label_ceo.v1i.yolov7pytorch/valid/images/IMG_1529_PNG_jpg.rf.3911a79a2e1ea2b693c0d57cba43aaa6.jpg  \n",
            "  inflating: __MACOSX/+_648_640_640_label_ceo.v1i.yolov7pytorch/valid/images/._IMG_1529_PNG_jpg.rf.3911a79a2e1ea2b693c0d57cba43aaa6.jpg  \n",
            "  inflating: +_648_640_640_label_ceo.v1i.yolov7pytorch/valid/images/SEVERITY_DATA_104_jpg.rf.f3675ad3e4dd919e6a58d9cf8ff66653.jpg  \n",
            "  inflating: __MACOSX/+_648_640_640_label_ceo.v1i.yolov7pytorch/valid/images/._SEVERITY_DATA_104_jpg.rf.f3675ad3e4dd919e6a58d9cf8ff66653.jpg  \n",
            "  inflating: +_648_640_640_label_ceo.v1i.yolov7pytorch/valid/images/trafficseverity_img521_jpg.rf.715e37837d8c39fb7d7820e65017f80c.jpg  \n",
            "  inflating: __MACOSX/+_648_640_640_label_ceo.v1i.yolov7pytorch/valid/images/._trafficseverity_img521_jpg.rf.715e37837d8c39fb7d7820e65017f80c.jpg  \n",
            "  inflating: +_648_640_640_label_ceo.v1i.yolov7pytorch/valid/images/SEEEEVERITY_93_jpg.rf.94c825d7003a5a9920bb52d89b957668.jpg  \n",
            "  inflating: __MACOSX/+_648_640_640_label_ceo.v1i.yolov7pytorch/valid/images/._SEEEEVERITY_93_jpg.rf.94c825d7003a5a9920bb52d89b957668.jpg  \n",
            "  inflating: +_648_640_640_label_ceo.v1i.yolov7pytorch/valid/images/IMG_2303_PNG_jpg.rf.a40748fac13a6fe3abf3e26ff036a310.jpg  \n",
            "  inflating: __MACOSX/+_648_640_640_label_ceo.v1i.yolov7pytorch/valid/images/._IMG_2303_PNG_jpg.rf.a40748fac13a6fe3abf3e26ff036a310.jpg  \n",
            "  inflating: +_648_640_640_label_ceo.v1i.yolov7pytorch/valid/images/traffic_img3492_jpg.rf.7724741a8cb11c4091d27d5f1a3b519c.jpg  \n",
            "  inflating: __MACOSX/+_648_640_640_label_ceo.v1i.yolov7pytorch/valid/images/._traffic_img3492_jpg.rf.7724741a8cb11c4091d27d5f1a3b519c.jpg  \n",
            "  inflating: +_648_640_640_label_ceo.v1i.yolov7pytorch/valid/images/IMG_2434_PNG_jpg.rf.5a9ea5d09c6db2cd933451cc940c9cd4.jpg  \n",
            "  inflating: __MACOSX/+_648_640_640_label_ceo.v1i.yolov7pytorch/valid/images/._IMG_2434_PNG_jpg.rf.5a9ea5d09c6db2cd933451cc940c9cd4.jpg  \n",
            "  inflating: +_648_640_640_label_ceo.v1i.yolov7pytorch/valid/images/SEV_V8_Img_61_jpg.rf.729a8438b1c9a32d7b60a0e4aefa5ad4.jpg  \n",
            "  inflating: __MACOSX/+_648_640_640_label_ceo.v1i.yolov7pytorch/valid/images/._SEV_V8_Img_61_jpg.rf.729a8438b1c9a32d7b60a0e4aefa5ad4.jpg  \n",
            "  inflating: +_648_640_640_label_ceo.v1i.yolov7pytorch/valid/images/AVEAHZJGKUXBSSEECYXLWMZ5IA_jpg.rf.7088a3915647a9d4b3598d159e499aa8.jpg  \n",
            "  inflating: __MACOSX/+_648_640_640_label_ceo.v1i.yolov7pytorch/valid/images/._AVEAHZJGKUXBSSEECYXLWMZ5IA_jpg.rf.7088a3915647a9d4b3598d159e499aa8.jpg  \n",
            "  inflating: +_648_640_640_label_ceo.v1i.yolov7pytorch/valid/images/SEEEEVERITY_189_jpg.rf.86a79a343f6cae9a406c4cd67b308351.jpg  \n",
            "  inflating: __MACOSX/+_648_640_640_label_ceo.v1i.yolov7pytorch/valid/images/._SEEEEVERITY_189_jpg.rf.86a79a343f6cae9a406c4cd67b308351.jpg  \n",
            "  inflating: +_648_640_640_label_ceo.v1i.yolov7pytorch/valid/images/SEV_22_3137_jpg.rf.f7c2ea73aa53945efbdb2a54fd32ab4a.jpg  \n",
            "  inflating: __MACOSX/+_648_640_640_label_ceo.v1i.yolov7pytorch/valid/images/._SEV_22_3137_jpg.rf.f7c2ea73aa53945efbdb2a54fd32ab4a.jpg  \n",
            "  inflating: +_648_640_640_label_ceo.v1i.yolov7pytorch/valid/images/trafficseverity_img523_jpg.rf.35ef01710615b32ed1936748a4790eb1.jpg  \n",
            "  inflating: __MACOSX/+_648_640_640_label_ceo.v1i.yolov7pytorch/valid/images/._trafficseverity_img523_jpg.rf.35ef01710615b32ed1936748a4790eb1.jpg  \n",
            "  inflating: +_648_640_640_label_ceo.v1i.yolov7pytorch/valid/images/SEV_22_2949_jpg.rf.53be93f74ae809b9d9ce797fdaaf32a0.jpg  \n",
            "  inflating: __MACOSX/+_648_640_640_label_ceo.v1i.yolov7pytorch/valid/images/._SEV_22_2949_jpg.rf.53be93f74ae809b9d9ce797fdaaf32a0.jpg  \n",
            "  inflating: +_648_640_640_label_ceo.v1i.yolov7pytorch/valid/images/Screen-Shot-2022-04-07-at-8-33-42-AM_png_jpg.rf.0301a61ec15e7026861df3ab4e4a1d72.jpg  \n",
            "  inflating: __MACOSX/+_648_640_640_label_ceo.v1i.yolov7pytorch/valid/images/._Screen-Shot-2022-04-07-at-8-33-42-AM_png_jpg.rf.0301a61ec15e7026861df3ab4e4a1d72.jpg  \n",
            "  inflating: +_648_640_640_label_ceo.v1i.yolov7pytorch/valid/images/trafficseverity_img2728_jpg.rf.f196f13627c7a3e0e2228dee15485f0e.jpg  \n",
            "  inflating: __MACOSX/+_648_640_640_label_ceo.v1i.yolov7pytorch/valid/images/._trafficseverity_img2728_jpg.rf.f196f13627c7a3e0e2228dee15485f0e.jpg  \n",
            "  inflating: +_648_640_640_label_ceo.v1i.yolov7pytorch/valid/images/IMG_1588_PNG_jpg.rf.de770f79fca31ec99496378034bac4f6.jpg  \n",
            "  inflating: __MACOSX/+_648_640_640_label_ceo.v1i.yolov7pytorch/valid/images/._IMG_1588_PNG_jpg.rf.de770f79fca31ec99496378034bac4f6.jpg  \n",
            "  inflating: +_648_640_640_label_ceo.v1i.yolov7pytorch/valid/images/SEV_22_1470_jpg.rf.53b3e3b788ee6737e7e8727fe787f368.jpg  \n",
            "  inflating: __MACOSX/+_648_640_640_label_ceo.v1i.yolov7pytorch/valid/images/._SEV_22_1470_jpg.rf.53b3e3b788ee6737e7e8727fe787f368.jpg  \n",
            "  inflating: +_648_640_640_label_ceo.v1i.yolov7pytorch/valid/images/IMG_2333_PNG_jpg.rf.a1921cd14a5e5b488a2517e606618d2f.jpg  \n",
            "  inflating: __MACOSX/+_648_640_640_label_ceo.v1i.yolov7pytorch/valid/images/._IMG_2333_PNG_jpg.rf.a1921cd14a5e5b488a2517e606618d2f.jpg  \n",
            "  inflating: +_648_640_640_label_ceo.v1i.yolov7pytorch/valid/images/SEVERITY_V10_131_jpg.rf.ee0cf5570a45ba77d381486b5d1403c5.jpg  \n",
            "  inflating: __MACOSX/+_648_640_640_label_ceo.v1i.yolov7pytorch/valid/images/._SEVERITY_V10_131_jpg.rf.ee0cf5570a45ba77d381486b5d1403c5.jpg  \n",
            "  inflating: +_648_640_640_label_ceo.v1i.yolov7pytorch/valid/images/traffic_img1359_jpg.rf.e5cba20405aace6535fab8c803dc2ae0.jpg  \n",
            "  inflating: __MACOSX/+_648_640_640_label_ceo.v1i.yolov7pytorch/valid/images/._traffic_img1359_jpg.rf.e5cba20405aace6535fab8c803dc2ae0.jpg  \n",
            "  inflating: +_648_640_640_label_ceo.v1i.yolov7pytorch/valid/images/SEEEEVERITY_302_jpg.rf.b06a09655a212f92e81896383016076b.jpg  \n",
            "  inflating: __MACOSX/+_648_640_640_label_ceo.v1i.yolov7pytorch/valid/images/._SEEEEVERITY_302_jpg.rf.b06a09655a212f92e81896383016076b.jpg  \n",
            "  inflating: +_648_640_640_label_ceo.v1i.yolov7pytorch/valid/images/EXTREME-CAR-CRASH-1-HOUR-COMPILATION-BIGGEST-CAR-CRASHES-1_i_frame_78741_jpg.rf.207f5a319c2f159c9251579e0267828b.jpg  \n",
            "  inflating: __MACOSX/+_648_640_640_label_ceo.v1i.yolov7pytorch/valid/images/._EXTREME-CAR-CRASH-1-HOUR-COMPILATION-BIGGEST-CAR-CRASHES-1_i_frame_78741_jpg.rf.207f5a319c2f159c9251579e0267828b.jpg  \n",
            "  inflating: +_648_640_640_label_ceo.v1i.yolov7pytorch/valid/images/traffic_img2463_jpg.rf.7ec397c56f1b8952a02d1d4bacdcc7e2.jpg  \n",
            "  inflating: __MACOSX/+_648_640_640_label_ceo.v1i.yolov7pytorch/valid/images/._traffic_img2463_jpg.rf.7ec397c56f1b8952a02d1d4bacdcc7e2.jpg  \n",
            "  inflating: +_648_640_640_label_ceo.v1i.yolov7pytorch/valid/images/SEVERITY_DATA_116_jpg.rf.5b2f75e8c4be099bba2da9ab93064c63.jpg  \n",
            "  inflating: __MACOSX/+_648_640_640_label_ceo.v1i.yolov7pytorch/valid/images/._SEVERITY_DATA_116_jpg.rf.5b2f75e8c4be099bba2da9ab93064c63.jpg  \n",
            "  inflating: +_648_640_640_label_ceo.v1i.yolov7pytorch/valid/images/Semi-RealisticVD-78_jpg.rf.6dfcd1fc76c47edb0e8b875cf22e121b.jpg  \n",
            "  inflating: __MACOSX/+_648_640_640_label_ceo.v1i.yolov7pytorch/valid/images/._Semi-RealisticVD-78_jpg.rf.6dfcd1fc76c47edb0e8b875cf22e121b.jpg  \n",
            "  inflating: +_648_640_640_label_ceo.v1i.yolov7pytorch/valid/images/traffic_img837_jpg.rf.71ad7e98acc009ffd75a31e8a77f250a.jpg  \n",
            "  inflating: __MACOSX/+_648_640_640_label_ceo.v1i.yolov7pytorch/valid/images/._traffic_img837_jpg.rf.71ad7e98acc009ffd75a31e8a77f250a.jpg  \n",
            "  inflating: +_648_640_640_label_ceo.v1i.yolov7pytorch/valid/images/trafficseverity_img841_jpg.rf.66243439e518cf56f502912e467716ee.jpg  \n",
            "  inflating: __MACOSX/+_648_640_640_label_ceo.v1i.yolov7pytorch/valid/images/._trafficseverity_img841_jpg.rf.66243439e518cf56f502912e467716ee.jpg  \n",
            "  inflating: +_648_640_640_label_ceo.v1i.yolov7pytorch/valid/images/traffic_img91_jpg.rf.864b6fe30e3a674847604e967366344b.jpg  \n",
            "  inflating: __MACOSX/+_648_640_640_label_ceo.v1i.yolov7pytorch/valid/images/._traffic_img91_jpg.rf.864b6fe30e3a674847604e967366344b.jpg  \n",
            "  inflating: +_648_640_640_label_ceo.v1i.yolov7pytorch/valid/images/argusAcc67_jpg.rf.78290102636a4323d3228f09ad60196c.jpg  \n",
            "  inflating: __MACOSX/+_648_640_640_label_ceo.v1i.yolov7pytorch/valid/images/._argusAcc67_jpg.rf.78290102636a4323d3228f09ad60196c.jpg  \n",
            "  inflating: +_648_640_640_label_ceo.v1i.yolov7pytorch/valid/images/14-174_jpg.rf.21ed4f48752a46135e0430137e0ee897.jpg  \n",
            "  inflating: __MACOSX/+_648_640_640_label_ceo.v1i.yolov7pytorch/valid/images/._14-174_jpg.rf.21ed4f48752a46135e0430137e0ee897.jpg  \n",
            "  inflating: +_648_640_640_label_ceo.v1i.yolov7pytorch/valid/images/IMG_2660_PNG_jpg.rf.d0572960789d63913fcdb835a52117aa.jpg  \n",
            "  inflating: __MACOSX/+_648_640_640_label_ceo.v1i.yolov7pytorch/valid/images/._IMG_2660_PNG_jpg.rf.d0572960789d63913fcdb835a52117aa.jpg  \n",
            "  inflating: +_648_640_640_label_ceo.v1i.yolov7pytorch/valid/images/accidentFrame957_jpg.rf.a759865740f8b3226a6d6f232339fa51.jpg  \n",
            "  inflating: __MACOSX/+_648_640_640_label_ceo.v1i.yolov7pytorch/valid/images/._accidentFrame957_jpg.rf.a759865740f8b3226a6d6f232339fa51.jpg  \n",
            "  inflating: +_648_640_640_label_ceo.v1i.yolov7pytorch/valid/images/SEV_22_3286_jpg.rf.9cdad662bf196fcc76c1437433fc0e1c.jpg  \n",
            "  inflating: __MACOSX/+_648_640_640_label_ceo.v1i.yolov7pytorch/valid/images/._SEV_22_3286_jpg.rf.9cdad662bf196fcc76c1437433fc0e1c.jpg  \n",
            "  inflating: +_648_640_640_label_ceo.v1i.yolov7pytorch/valid/images/images-26_jpg.rf.29edb10180e2f85c8117972cb57a7bbb.jpg  \n",
            "  inflating: __MACOSX/+_648_640_640_label_ceo.v1i.yolov7pytorch/valid/images/._images-26_jpg.rf.29edb10180e2f85c8117972cb57a7bbb.jpg  \n",
            "  inflating: +_648_640_640_label_ceo.v1i.yolov7pytorch/valid/images/SEV_22_2579_jpg.rf.90f8de775013c316321f33472f114d26.jpg  \n",
            "  inflating: __MACOSX/+_648_640_640_label_ceo.v1i.yolov7pytorch/valid/images/._SEV_22_2579_jpg.rf.90f8de775013c316321f33472f114d26.jpg  \n",
            "  inflating: +_648_640_640_label_ceo.v1i.yolov7pytorch/valid/images/IMG_1973_PNG_jpg.rf.610d7fa9f8091d2bc8e6797aa0779401.jpg  \n",
            "  inflating: __MACOSX/+_648_640_640_label_ceo.v1i.yolov7pytorch/valid/images/._IMG_1973_PNG_jpg.rf.610d7fa9f8091d2bc8e6797aa0779401.jpg  \n",
            "  inflating: +_648_640_640_label_ceo.v1i.yolov7pytorch/valid/images/SEV_V8_Img_41_jpg.rf.658f03934f4b1d2a988151bbfababeed.jpg  \n",
            "  inflating: __MACOSX/+_648_640_640_label_ceo.v1i.yolov7pytorch/valid/images/._SEV_V8_Img_41_jpg.rf.658f03934f4b1d2a988151bbfababeed.jpg  \n",
            "  inflating: +_648_640_640_label_ceo.v1i.yolov7pytorch/valid/images/images-2022-04-07T064657-136_jpeg_jpg.rf.0099b8674df7772d627a5db48b68ca55.jpg  \n",
            "  inflating: __MACOSX/+_648_640_640_label_ceo.v1i.yolov7pytorch/valid/images/._images-2022-04-07T064657-136_jpeg_jpg.rf.0099b8674df7772d627a5db48b68ca55.jpg  \n",
            "  inflating: +_648_640_640_label_ceo.v1i.yolov7pytorch/valid/images/SEVERITY_V10_7_jpg.rf.3dc10a01f94079f0e7f5bb54ec3be208.jpg  \n",
            "  inflating: __MACOSX/+_648_640_640_label_ceo.v1i.yolov7pytorch/valid/images/._SEVERITY_V10_7_jpg.rf.3dc10a01f94079f0e7f5bb54ec3be208.jpg  \n",
            "  inflating: +_648_640_640_label_ceo.v1i.yolov7pytorch/valid/images/accidentFrame4141_jpg.rf.6087748bdbad06cbbed6f5320edc3d91.jpg  \n",
            "  inflating: __MACOSX/+_648_640_640_label_ceo.v1i.yolov7pytorch/valid/images/._accidentFrame4141_jpg.rf.6087748bdbad06cbbed6f5320edc3d91.jpg  \n",
            "  inflating: +_648_640_640_label_ceo.v1i.yolov7pytorch/valid/images/severityV3_13_jpeg_jpg.rf.025fefd4a34ef953b4cd3603d5e4c951.jpg  \n",
            "  inflating: __MACOSX/+_648_640_640_label_ceo.v1i.yolov7pytorch/valid/images/._severityV3_13_jpeg_jpg.rf.025fefd4a34ef953b4cd3603d5e4c951.jpg  \n",
            "  inflating: +_648_640_640_label_ceo.v1i.yolov7pytorch/valid/images/traffic_img432_jpg.rf.9d4f23db2408b842118413fb256d7e61.jpg  \n",
            "  inflating: __MACOSX/+_648_640_640_label_ceo.v1i.yolov7pytorch/valid/images/._traffic_img432_jpg.rf.9d4f23db2408b842118413fb256d7e61.jpg  \n",
            "  inflating: +_648_640_640_label_ceo.v1i.yolov7pytorch/valid/images/Bus-Truck-Crashes-9-BeamNG-Drive_i_frame_11760_jpg.rf.f32ef90bdb8df67a8077fa54f17a9732.jpg  \n",
            "  inflating: __MACOSX/+_648_640_640_label_ceo.v1i.yolov7pytorch/valid/images/._Bus-Truck-Crashes-9-BeamNG-Drive_i_frame_11760_jpg.rf.f32ef90bdb8df67a8077fa54f17a9732.jpg  \n",
            "  inflating: +_648_640_640_label_ceo.v1i.yolov7pytorch/valid/images/vid_1_i_frame_13936_jpg.rf.504b70af0b850fd4a7f5b75188ed805b.jpg  \n",
            "  inflating: __MACOSX/+_648_640_640_label_ceo.v1i.yolov7pytorch/valid/images/._vid_1_i_frame_13936_jpg.rf.504b70af0b850fd4a7f5b75188ed805b.jpg  \n",
            "  inflating: +_648_640_640_label_ceo.v1i.yolov7pytorch/valid/images/accidentFrame4467_jpg.rf.8b719d0eb6e0d79810648f4ec63bd759.jpg  \n",
            "  inflating: __MACOSX/+_648_640_640_label_ceo.v1i.yolov7pytorch/valid/images/._accidentFrame4467_jpg.rf.8b719d0eb6e0d79810648f4ec63bd759.jpg  \n",
            "  inflating: +_648_640_640_label_ceo.v1i.yolov7pytorch/valid/images/Bus-Truck-Crashes-10-BeamNG-Drive_i_frame_1648_jpg.rf.7845db5cb8a4e068f4b8b1427d5b13b7.jpg  \n",
            "  inflating: __MACOSX/+_648_640_640_label_ceo.v1i.yolov7pytorch/valid/images/._Bus-Truck-Crashes-10-BeamNG-Drive_i_frame_1648_jpg.rf.7845db5cb8a4e068f4b8b1427d5b13b7.jpg  \n",
            "  inflating: +_648_640_640_label_ceo.v1i.yolov7pytorch/valid/images/trafficseverity_img361_jpg.rf.56f8d41bed7e8e801b2e9635dc922e91.jpg  \n",
            "  inflating: __MACOSX/+_648_640_640_label_ceo.v1i.yolov7pytorch/valid/images/._trafficseverity_img361_jpg.rf.56f8d41bed7e8e801b2e9635dc922e91.jpg  \n",
            "  inflating: +_648_640_640_label_ceo.v1i.yolov7pytorch/valid/images/IMG_2610_PNG_jpg.rf.fe211871af3ad70a5c5b6d6191ee7c11.jpg  \n",
            "  inflating: __MACOSX/+_648_640_640_label_ceo.v1i.yolov7pytorch/valid/images/._IMG_2610_PNG_jpg.rf.fe211871af3ad70a5c5b6d6191ee7c11.jpg  \n",
            "  inflating: +_648_640_640_label_ceo.v1i.yolov7pytorch/valid/images/traffic_img417_jpg.rf.91a32a4da98886539846855ce1b7a9f5.jpg  \n",
            "  inflating: __MACOSX/+_648_640_640_label_ceo.v1i.yolov7pytorch/valid/images/._traffic_img417_jpg.rf.91a32a4da98886539846855ce1b7a9f5.jpg  \n",
            "  inflating: +_648_640_640_label_ceo.v1i.yolov7pytorch/valid/images/trafficseverity_img1096_jpg.rf.76573c62c4bc695c106d450c72590925.jpg  \n",
            "  inflating: __MACOSX/+_648_640_640_label_ceo.v1i.yolov7pytorch/valid/images/._trafficseverity_img1096_jpg.rf.76573c62c4bc695c106d450c72590925.jpg  \n",
            "  inflating: +_648_640_640_label_ceo.v1i.yolov7pytorch/valid/images/IMG_2526_PNG_jpg.rf.53231464240761728108632a9ac7311b.jpg  \n",
            "  inflating: __MACOSX/+_648_640_640_label_ceo.v1i.yolov7pytorch/valid/images/._IMG_2526_PNG_jpg.rf.53231464240761728108632a9ac7311b.jpg  \n",
            "  inflating: +_648_640_640_label_ceo.v1i.yolov7pytorch/valid/images/images-12-_jpeg_jpg.rf.c84bd5beebdcd9d408553901c63d593e.jpg  \n",
            "  inflating: __MACOSX/+_648_640_640_label_ceo.v1i.yolov7pytorch/valid/images/._images-12-_jpeg_jpg.rf.c84bd5beebdcd9d408553901c63d593e.jpg  \n",
            "  inflating: +_648_640_640_label_ceo.v1i.yolov7pytorch/valid/images/SEEEEVERITY_18_jpg.rf.c86e33f690dcb596e2216afa6ac1708e.jpg  \n",
            "  inflating: __MACOSX/+_648_640_640_label_ceo.v1i.yolov7pytorch/valid/images/._SEEEEVERITY_18_jpg.rf.c86e33f690dcb596e2216afa6ac1708e.jpg  \n",
            "  inflating: +_648_640_640_label_ceo.v1i.yolov7pytorch/valid/images/EXTREME-CAR-CRASH-1-HOUR-COMPILATION-BIGGEST-CAR-CRASHES-1_i_frame_67456_jpg.rf.851490a8606d48104880ea576f8bea4f.jpg  \n",
            "  inflating: __MACOSX/+_648_640_640_label_ceo.v1i.yolov7pytorch/valid/images/._EXTREME-CAR-CRASH-1-HOUR-COMPILATION-BIGGEST-CAR-CRASHES-1_i_frame_67456_jpg.rf.851490a8606d48104880ea576f8bea4f.jpg  \n",
            "  inflating: +_648_640_640_label_ceo.v1i.yolov7pytorch/valid/images/Accident_Img_1396_jpg.rf.f57648a3cb350a450c53ec87230636d6.jpg  \n",
            "  inflating: __MACOSX/+_648_640_640_label_ceo.v1i.yolov7pytorch/valid/images/._Accident_Img_1396_jpg.rf.f57648a3cb350a450c53ec87230636d6.jpg  \n",
            "  inflating: +_648_640_640_label_ceo.v1i.yolov7pytorch/valid/images/trafficseverity_img609_jpg.rf.048f3a33bfef9614ba45dcb3545a525c.jpg  \n",
            "  inflating: __MACOSX/+_648_640_640_label_ceo.v1i.yolov7pytorch/valid/images/._trafficseverity_img609_jpg.rf.048f3a33bfef9614ba45dcb3545a525c.jpg  \n",
            "  inflating: +_648_640_640_label_ceo.v1i.yolov7pytorch/valid/images/SEEEEVERITY_375_jpg.rf.a0be1e607223d2879c780835da579a0f.jpg  \n",
            "  inflating: __MACOSX/+_648_640_640_label_ceo.v1i.yolov7pytorch/valid/images/._SEEEEVERITY_375_jpg.rf.a0be1e607223d2879c780835da579a0f.jpg  \n",
            "  inflating: +_648_640_640_label_ceo.v1i.yolov7pytorch/valid/images/trafficseverity_img945_jpg.rf.45fa0f2de7e1f8942a59fc624ccd5925.jpg  \n",
            "  inflating: __MACOSX/+_648_640_640_label_ceo.v1i.yolov7pytorch/valid/images/._trafficseverity_img945_jpg.rf.45fa0f2de7e1f8942a59fc624ccd5925.jpg  \n",
            "  inflating: +_648_640_640_label_ceo.v1i.yolov7pytorch/valid/images/SEV_22_154_jpg.rf.615aafa4c00e585d6696b84339c926b4.jpg  \n",
            "  inflating: __MACOSX/+_648_640_640_label_ceo.v1i.yolov7pytorch/valid/images/._SEV_22_154_jpg.rf.615aafa4c00e585d6696b84339c926b4.jpg  \n",
            "  inflating: +_648_640_640_label_ceo.v1i.yolov7pytorch/valid/images/Bus-Truck-Crashes-10-BeamNG-Drive_i_frame_760_jpg.rf.fb7da0871df4ceeec43999e77e635e92.jpg  \n",
            "  inflating: __MACOSX/+_648_640_640_label_ceo.v1i.yolov7pytorch/valid/images/._Bus-Truck-Crashes-10-BeamNG-Drive_i_frame_760_jpg.rf.fb7da0871df4ceeec43999e77e635e92.jpg  \n",
            "  inflating: +_648_640_640_label_ceo.v1i.yolov7pytorch/valid/images/images-2_jpg.rf.f6ce610367112bf54c5d2e29eaafb4f5.jpg  \n",
            "  inflating: __MACOSX/+_648_640_640_label_ceo.v1i.yolov7pytorch/valid/images/._images-2_jpg.rf.f6ce610367112bf54c5d2e29eaafb4f5.jpg  \n",
            "  inflating: +_648_640_640_label_ceo.v1i.yolov7pytorch/valid/images/SEEEEVERITY_115_jpg.rf.e8fc68af2026d42c83532f8cbe2d6eba.jpg  \n",
            "  inflating: __MACOSX/+_648_640_640_label_ceo.v1i.yolov7pytorch/valid/images/._SEEEEVERITY_115_jpg.rf.e8fc68af2026d42c83532f8cbe2d6eba.jpg  \n",
            "  inflating: +_648_640_640_label_ceo.v1i.yolov7pytorch/valid/images/SEEEEVERITY_81_jpg.rf.58458b42af2da3d84ad597d2713954d5.jpg  \n",
            "  inflating: __MACOSX/+_648_640_640_label_ceo.v1i.yolov7pytorch/valid/images/._SEEEEVERITY_81_jpg.rf.58458b42af2da3d84ad597d2713954d5.jpg  \n",
            "  inflating: +_648_640_640_label_ceo.v1i.yolov7pytorch/valid/images/SEVERITY_V13_5_jpg.rf.80828dbb042f63a25430bdf10a54030c.jpg  \n",
            "  inflating: __MACOSX/+_648_640_640_label_ceo.v1i.yolov7pytorch/valid/images/._SEVERITY_V13_5_jpg.rf.80828dbb042f63a25430bdf10a54030c.jpg  \n",
            "  inflating: +_648_640_640_label_ceo.v1i.yolov7pytorch/valid/images/Screen-Shot-2022-04-08-at-7-39-12-AM_png_jpg.rf.daf61da4f71d28efb5fa1d25636c0ea8.jpg  \n",
            "  inflating: __MACOSX/+_648_640_640_label_ceo.v1i.yolov7pytorch/valid/images/._Screen-Shot-2022-04-08-at-7-39-12-AM_png_jpg.rf.daf61da4f71d28efb5fa1d25636c0ea8.jpg  \n",
            "  inflating: +_648_640_640_label_ceo.v1i.yolov7pytorch/valid/images/SEEEEVERITY_358_jpg.rf.90432ea3a86d102dd398c564ebf6c474.jpg  \n",
            "  inflating: __MACOSX/+_648_640_640_label_ceo.v1i.yolov7pytorch/valid/images/._SEEEEVERITY_358_jpg.rf.90432ea3a86d102dd398c564ebf6c474.jpg  \n",
            "  inflating: +_648_640_640_label_ceo.v1i.yolov7pytorch/valid/images/Semi-RealisticVD-65_jpg.rf.a889cfaeb699be806060a2ab2485b84c.jpg  \n",
            "  inflating: __MACOSX/+_648_640_640_label_ceo.v1i.yolov7pytorch/valid/images/._Semi-RealisticVD-65_jpg.rf.a889cfaeb699be806060a2ab2485b84c.jpg  \n",
            "  inflating: +_648_640_640_label_ceo.v1i.yolov7pytorch/valid/images/argusAcc82_jpg.rf.94951038d254738724db25cf0dea4a00.jpg  \n",
            "  inflating: __MACOSX/+_648_640_640_label_ceo.v1i.yolov7pytorch/valid/images/._argusAcc82_jpg.rf.94951038d254738724db25cf0dea4a00.jpg  \n",
            "  inflating: +_648_640_640_label_ceo.v1i.yolov7pytorch/valid/images/SEVERITY_V10_92_jpg.rf.b30f85ca1da905645772312c58e9619f.jpg  \n",
            "  inflating: __MACOSX/+_648_640_640_label_ceo.v1i.yolov7pytorch/valid/images/._SEVERITY_V10_92_jpg.rf.b30f85ca1da905645772312c58e9619f.jpg  \n",
            "  inflating: +_648_640_640_label_ceo.v1i.yolov7pytorch/valid/images/traffic_img57_jpg.rf.c79cb673f8b7d8c0b5910d403e3623fa.jpg  \n",
            "  inflating: __MACOSX/+_648_640_640_label_ceo.v1i.yolov7pytorch/valid/images/._traffic_img57_jpg.rf.c79cb673f8b7d8c0b5910d403e3623fa.jpg  \n",
            "  inflating: +_648_640_640_label_ceo.v1i.yolov7pytorch/valid/images/SEV_V8_Img_162_jpg.rf.abc97c2ddcd1035d483e7a09e9c02d40.jpg  \n",
            "  inflating: __MACOSX/+_648_640_640_label_ceo.v1i.yolov7pytorch/valid/images/._SEV_V8_Img_162_jpg.rf.abc97c2ddcd1035d483e7a09e9c02d40.jpg  \n",
            "  inflating: +_648_640_640_label_ceo.v1i.yolov7pytorch/valid/images/1567913504284_jpg.rf.34cd808353e74356fb79ec87adcd567a.jpg  \n",
            "  inflating: __MACOSX/+_648_640_640_label_ceo.v1i.yolov7pytorch/valid/images/._1567913504284_jpg.rf.34cd808353e74356fb79ec87adcd567a.jpg  \n",
            "  inflating: +_648_640_640_label_ceo.v1i.yolov7pytorch/valid/images/SEVERITY_V10_23_jpg.rf.c3492538a471dab1bd2a67e0fb4cc704.jpg  \n",
            "  inflating: __MACOSX/+_648_640_640_label_ceo.v1i.yolov7pytorch/valid/images/._SEVERITY_V10_23_jpg.rf.c3492538a471dab1bd2a67e0fb4cc704.jpg  \n",
            "  inflating: +_648_640_640_label_ceo.v1i.yolov7pytorch/valid/images/trafficseverity_img2354_jpg.rf.3f2608681336c4f8ec17c9f804c7ac3d.jpg  \n",
            "  inflating: __MACOSX/+_648_640_640_label_ceo.v1i.yolov7pytorch/valid/images/._trafficseverity_img2354_jpg.rf.3f2608681336c4f8ec17c9f804c7ac3d.jpg  \n",
            "  inflating: +_648_640_640_label_ceo.v1i.yolov7pytorch/valid/images/Screen-Shot-2022-04-07-at-8-32-02-AM_png_jpg.rf.1518c516317ae18d22688337d8045ddc.jpg  \n",
            "  inflating: __MACOSX/+_648_640_640_label_ceo.v1i.yolov7pytorch/valid/images/._Screen-Shot-2022-04-07-at-8-32-02-AM_png_jpg.rf.1518c516317ae18d22688337d8045ddc.jpg  \n",
            "  inflating: +_648_640_640_label_ceo.v1i.yolov7pytorch/valid/images/IMG_2308_PNG_jpg.rf.b6c8b5dfa0394acc94195c3c73c4b93e.jpg  \n",
            "  inflating: __MACOSX/+_648_640_640_label_ceo.v1i.yolov7pytorch/valid/images/._IMG_2308_PNG_jpg.rf.b6c8b5dfa0394acc94195c3c73c4b93e.jpg  \n",
            "  inflating: +_648_640_640_label_ceo.v1i.yolov7pytorch/valid/images/trafficseverity_img1755_jpg.rf.761eae3da5dae401f5b96d3bcc026a6d.jpg  \n",
            "  inflating: __MACOSX/+_648_640_640_label_ceo.v1i.yolov7pytorch/valid/images/._trafficseverity_img1755_jpg.rf.761eae3da5dae401f5b96d3bcc026a6d.jpg  \n",
            "  inflating: +_648_640_640_label_ceo.v1i.yolov7pytorch/valid/images/severV16_jpg.rf.7f5467a4064bae9a41148fdfe592cd16.jpg  \n",
            "  inflating: __MACOSX/+_648_640_640_label_ceo.v1i.yolov7pytorch/valid/images/._severV16_jpg.rf.7f5467a4064bae9a41148fdfe592cd16.jpg  \n",
            "  inflating: +_648_640_640_label_ceo.v1i.yolov7pytorch/valid/images/SEVERITY_V10_129_jpg.rf.735f8adbe8c0fa63277bdc5824c6e1b0.jpg  \n",
            "  inflating: __MACOSX/+_648_640_640_label_ceo.v1i.yolov7pytorch/valid/images/._SEVERITY_V10_129_jpg.rf.735f8adbe8c0fa63277bdc5824c6e1b0.jpg  \n",
            "  inflating: +_648_640_640_label_ceo.v1i.yolov7pytorch/valid/images/maxresdefault_jpg.rf.5b6a73384a9c0796dc3b1f21d3d4bbac.jpg  \n",
            "  inflating: __MACOSX/+_648_640_640_label_ceo.v1i.yolov7pytorch/valid/images/._maxresdefault_jpg.rf.5b6a73384a9c0796dc3b1f21d3d4bbac.jpg  \n",
            "  inflating: +_648_640_640_label_ceo.v1i.yolov7pytorch/valid/labels/SEEEEVERITY_231_jpg.rf.3cccdc71f63558f19e63151fc8d3fcc7.txt  \n",
            "  inflating: __MACOSX/+_648_640_640_label_ceo.v1i.yolov7pytorch/valid/labels/._SEEEEVERITY_231_jpg.rf.3cccdc71f63558f19e63151fc8d3fcc7.txt  \n",
            "  inflating: +_648_640_640_label_ceo.v1i.yolov7pytorch/valid/labels/IMG_1556_PNG_jpg.rf.ee1f12328a0ec992aabb5d3f7b0e7a55.txt  \n",
            "  inflating: __MACOSX/+_648_640_640_label_ceo.v1i.yolov7pytorch/valid/labels/._IMG_1556_PNG_jpg.rf.ee1f12328a0ec992aabb5d3f7b0e7a55.txt  \n",
            "  inflating: +_648_640_640_label_ceo.v1i.yolov7pytorch/valid/labels/SEVERITY_DATA_88_jpg.rf.c0094a015701a2282c2b5a4895bc671f.txt  \n",
            "  inflating: __MACOSX/+_648_640_640_label_ceo.v1i.yolov7pytorch/valid/labels/._SEVERITY_DATA_88_jpg.rf.c0094a015701a2282c2b5a4895bc671f.txt  \n",
            "  inflating: +_648_640_640_label_ceo.v1i.yolov7pytorch/valid/labels/SEEEEVERITY_344_jpg.rf.5f773429f0f17e342722cabaf20699f7.txt  \n",
            "  inflating: __MACOSX/+_648_640_640_label_ceo.v1i.yolov7pytorch/valid/labels/._SEEEEVERITY_344_jpg.rf.5f773429f0f17e342722cabaf20699f7.txt  \n",
            "  inflating: +_648_640_640_label_ceo.v1i.yolov7pytorch/valid/labels/SEVERITY_V13_12_jpg.rf.01507c95cf9c2b0243700d75881cd7d7.txt  \n",
            "  inflating: __MACOSX/+_648_640_640_label_ceo.v1i.yolov7pytorch/valid/labels/._SEVERITY_V13_12_jpg.rf.01507c95cf9c2b0243700d75881cd7d7.txt  \n",
            "  inflating: +_648_640_640_label_ceo.v1i.yolov7pytorch/valid/labels/traffic_img1091_jpg.rf.3f7adf3f90dea191e3179a09032cb8a5.txt  \n",
            "  inflating: __MACOSX/+_648_640_640_label_ceo.v1i.yolov7pytorch/valid/labels/._traffic_img1091_jpg.rf.3f7adf3f90dea191e3179a09032cb8a5.txt  \n",
            "  inflating: +_648_640_640_label_ceo.v1i.yolov7pytorch/valid/labels/trafficseverity_img1418_jpg.rf.e669e67e4cbdc8812f922c24f9021a8e.txt  \n",
            "  inflating: __MACOSX/+_648_640_640_label_ceo.v1i.yolov7pytorch/valid/labels/._trafficseverity_img1418_jpg.rf.e669e67e4cbdc8812f922c24f9021a8e.txt  \n",
            "  inflating: +_648_640_640_label_ceo.v1i.yolov7pytorch/valid/labels/SEV_22_3309_jpg.rf.84917c5380cc3a523277c8a2e41c60e4.txt  \n",
            "  inflating: __MACOSX/+_648_640_640_label_ceo.v1i.yolov7pytorch/valid/labels/._SEV_22_3309_jpg.rf.84917c5380cc3a523277c8a2e41c60e4.txt  \n",
            "  inflating: +_648_640_640_label_ceo.v1i.yolov7pytorch/valid/labels/SEV_22_3316_jpg.rf.303db4c64bea2b398102e05e45a92767.txt  \n",
            "  inflating: __MACOSX/+_648_640_640_label_ceo.v1i.yolov7pytorch/valid/labels/._SEV_22_3316_jpg.rf.303db4c64bea2b398102e05e45a92767.txt  \n",
            "  inflating: +_648_640_640_label_ceo.v1i.yolov7pytorch/valid/labels/CARimage399_jpg.rf.1f9228e7273eb088ea8aa9942552dab2.txt  \n",
            "  inflating: __MACOSX/+_648_640_640_label_ceo.v1i.yolov7pytorch/valid/labels/._CARimage399_jpg.rf.1f9228e7273eb088ea8aa9942552dab2.txt  \n",
            "  inflating: +_648_640_640_label_ceo.v1i.yolov7pytorch/valid/labels/traffic_img2600_jpg.rf.ec7050944f5126485b8ebc9290c425f6.txt  \n",
            "  inflating: __MACOSX/+_648_640_640_label_ceo.v1i.yolov7pytorch/valid/labels/._traffic_img2600_jpg.rf.ec7050944f5126485b8ebc9290c425f6.txt  \n",
            "  inflating: +_648_640_640_label_ceo.v1i.yolov7pytorch/valid/labels/SEV_22_1582_jpg.rf.9fb470be03886a7780a661c090d4405c.txt  \n",
            "  inflating: __MACOSX/+_648_640_640_label_ceo.v1i.yolov7pytorch/valid/labels/._SEV_22_1582_jpg.rf.9fb470be03886a7780a661c090d4405c.txt  \n",
            "  inflating: +_648_640_640_label_ceo.v1i.yolov7pytorch/valid/labels/screen_images7_png_jpg.rf.3755a075c79f4de85dfeeb1357aeb215.txt  \n",
            "  inflating: __MACOSX/+_648_640_640_label_ceo.v1i.yolov7pytorch/valid/labels/._screen_images7_png_jpg.rf.3755a075c79f4de85dfeeb1357aeb215.txt  \n",
            "  inflating: +_648_640_640_label_ceo.v1i.yolov7pytorch/valid/labels/SEV_22_2055_jpg.rf.caf0e1c72f68abe3e9ea48037a95cd5f.txt  \n",
            "  inflating: __MACOSX/+_648_640_640_label_ceo.v1i.yolov7pytorch/valid/labels/._SEV_22_2055_jpg.rf.caf0e1c72f68abe3e9ea48037a95cd5f.txt  \n",
            "  inflating: +_648_640_640_label_ceo.v1i.yolov7pytorch/valid/labels/severity_V131_jpg.rf.81b83e6a00ad3b37fc7b1a85cbe11a81.txt  \n",
            "  inflating: __MACOSX/+_648_640_640_label_ceo.v1i.yolov7pytorch/valid/labels/._severity_V131_jpg.rf.81b83e6a00ad3b37fc7b1a85cbe11a81.txt  \n",
            "  inflating: +_648_640_640_label_ceo.v1i.yolov7pytorch/valid/labels/images-2022-04-07T065028-192_jpeg_jpg.rf.78606b4af55a5bd9fc828df76fcd751a.txt  \n",
            "  inflating: __MACOSX/+_648_640_640_label_ceo.v1i.yolov7pytorch/valid/labels/._images-2022-04-07T065028-192_jpeg_jpg.rf.78606b4af55a5bd9fc828df76fcd751a.txt  \n",
            "  inflating: +_648_640_640_label_ceo.v1i.yolov7pytorch/valid/labels/SEV_22_2284_jpg.rf.5a702d6a8c07da0c3cfd2c2b1d53a885.txt  \n",
            "  inflating: __MACOSX/+_648_640_640_label_ceo.v1i.yolov7pytorch/valid/labels/._SEV_22_2284_jpg.rf.5a702d6a8c07da0c3cfd2c2b1d53a885.txt  \n",
            "  inflating: +_648_640_640_label_ceo.v1i.yolov7pytorch/valid/labels/IMG_2573_PNG_jpg.rf.e68a68d01381b3e509291688e30dc67c.txt  \n",
            "  inflating: __MACOSX/+_648_640_640_label_ceo.v1i.yolov7pytorch/valid/labels/._IMG_2573_PNG_jpg.rf.e68a68d01381b3e509291688e30dc67c.txt  \n",
            "  inflating: +_648_640_640_label_ceo.v1i.yolov7pytorch/valid/labels/IMG_2349_PNG_jpg.rf.91dd3492f7d6ffd54949618156acc41b.txt  \n",
            "  inflating: __MACOSX/+_648_640_640_label_ceo.v1i.yolov7pytorch/valid/labels/._IMG_2349_PNG_jpg.rf.91dd3492f7d6ffd54949618156acc41b.txt  \n",
            "  inflating: +_648_640_640_label_ceo.v1i.yolov7pytorch/valid/labels/traffic_img971_jpg.rf.1d063f030214ad5410f90b0143b6e1c0.txt  \n",
            "  inflating: __MACOSX/+_648_640_640_label_ceo.v1i.yolov7pytorch/valid/labels/._traffic_img971_jpg.rf.1d063f030214ad5410f90b0143b6e1c0.txt  \n",
            "  inflating: +_648_640_640_label_ceo.v1i.yolov7pytorch/valid/labels/trafficseverity_img5275_jpg.rf.b86b63d22fc00569b7a826de7528a610.txt  \n",
            "  inflating: __MACOSX/+_648_640_640_label_ceo.v1i.yolov7pytorch/valid/labels/._trafficseverity_img5275_jpg.rf.b86b63d22fc00569b7a826de7528a610.txt  \n",
            "  inflating: +_648_640_640_label_ceo.v1i.yolov7pytorch/valid/labels/Semi-RealisticVD-29_jpg.rf.130eb2b519b71ee21e85a923cfb8374f.txt  \n",
            "  inflating: __MACOSX/+_648_640_640_label_ceo.v1i.yolov7pytorch/valid/labels/._Semi-RealisticVD-29_jpg.rf.130eb2b519b71ee21e85a923cfb8374f.txt  \n",
            "  inflating: +_648_640_640_label_ceo.v1i.yolov7pytorch/valid/labels/accidentFrame10819_jpg.rf.51ef699f3d2f1cf589d2747505ac34ca.txt  \n",
            "  inflating: __MACOSX/+_648_640_640_label_ceo.v1i.yolov7pytorch/valid/labels/._accidentFrame10819_jpg.rf.51ef699f3d2f1cf589d2747505ac34ca.txt  \n",
            "  inflating: +_648_640_640_label_ceo.v1i.yolov7pytorch/valid/labels/traffic_img484_jpg.rf.c232a351282087341b12470ec428555b.txt  \n",
            "  inflating: __MACOSX/+_648_640_640_label_ceo.v1i.yolov7pytorch/valid/labels/._traffic_img484_jpg.rf.c232a351282087341b12470ec428555b.txt  \n",
            "  inflating: +_648_640_640_label_ceo.v1i.yolov7pytorch/valid/labels/SEVERITY_DATA_129_jpg.rf.0bc164aa55502d872b5213ccc7933e14.txt  \n",
            "  inflating: __MACOSX/+_648_640_640_label_ceo.v1i.yolov7pytorch/valid/labels/._SEVERITY_DATA_129_jpg.rf.0bc164aa55502d872b5213ccc7933e14.txt  \n",
            "  inflating: +_648_640_640_label_ceo.v1i.yolov7pytorch/valid/labels/SEV_V8_Img_119_jpg.rf.64c3386d56c7ff3081fd0400e07aace0.txt  \n",
            "  inflating: __MACOSX/+_648_640_640_label_ceo.v1i.yolov7pytorch/valid/labels/._SEV_V8_Img_119_jpg.rf.64c3386d56c7ff3081fd0400e07aace0.txt  \n",
            "  inflating: +_648_640_640_label_ceo.v1i.yolov7pytorch/valid/labels/accidentFrame155_jpg.rf.6694a072c847f7ac0dc25737623e1f7c.txt  \n",
            "  inflating: __MACOSX/+_648_640_640_label_ceo.v1i.yolov7pytorch/valid/labels/._accidentFrame155_jpg.rf.6694a072c847f7ac0dc25737623e1f7c.txt  \n",
            "  inflating: +_648_640_640_label_ceo.v1i.yolov7pytorch/valid/labels/argusAcc146_jpg.rf.141291e360becc5498942e00c45ba198.txt  \n",
            "  inflating: __MACOSX/+_648_640_640_label_ceo.v1i.yolov7pytorch/valid/labels/._argusAcc146_jpg.rf.141291e360becc5498942e00c45ba198.txt  \n",
            "  inflating: +_648_640_640_label_ceo.v1i.yolov7pytorch/valid/labels/images-1_jpeg_jpg.rf.01bf7758bc51290c08bc24ed4a111db8.txt  \n",
            "  inflating: __MACOSX/+_648_640_640_label_ceo.v1i.yolov7pytorch/valid/labels/._images-1_jpeg_jpg.rf.01bf7758bc51290c08bc24ed4a111db8.txt  \n",
            "  inflating: +_648_640_640_label_ceo.v1i.yolov7pytorch/valid/labels/SEEEEVERITY_43_jpg.rf.076deb74b6b3b47f49041429e3a72605.txt  \n",
            "  inflating: __MACOSX/+_648_640_640_label_ceo.v1i.yolov7pytorch/valid/labels/._SEEEEVERITY_43_jpg.rf.076deb74b6b3b47f49041429e3a72605.txt  \n",
            "  inflating: +_648_640_640_label_ceo.v1i.yolov7pytorch/valid/labels/SEVERITY_V10_27_jpg.rf.600b2bfa3485c45001bf34d17536ced4.txt  \n",
            "  inflating: __MACOSX/+_648_640_640_label_ceo.v1i.yolov7pytorch/valid/labels/._SEVERITY_V10_27_jpg.rf.600b2bfa3485c45001bf34d17536ced4.txt  \n",
            "  inflating: +_648_640_640_label_ceo.v1i.yolov7pytorch/valid/labels/images-57-_jpeg_jpg.rf.461202c4c3bf3d7455c81eaf8aee3094.txt  \n",
            "  inflating: __MACOSX/+_648_640_640_label_ceo.v1i.yolov7pytorch/valid/labels/._images-57-_jpeg_jpg.rf.461202c4c3bf3d7455c81eaf8aee3094.txt  \n",
            "  inflating: +_648_640_640_label_ceo.v1i.yolov7pytorch/valid/labels/SEV_V8_Img_174_jpg.rf.3f5f1f1e532de08ff69e1c1deb3397d0.txt  \n",
            "  inflating: __MACOSX/+_648_640_640_label_ceo.v1i.yolov7pytorch/valid/labels/._SEV_V8_Img_174_jpg.rf.3f5f1f1e532de08ff69e1c1deb3397d0.txt  \n",
            "  inflating: +_648_640_640_label_ceo.v1i.yolov7pytorch/valid/labels/traffic_img4633_jpg.rf.590d209b79c1d47bb0e4ca248ab20778.txt  \n",
            "  inflating: __MACOSX/+_648_640_640_label_ceo.v1i.yolov7pytorch/valid/labels/._traffic_img4633_jpg.rf.590d209b79c1d47bb0e4ca248ab20778.txt  \n",
            "  inflating: +_648_640_640_label_ceo.v1i.yolov7pytorch/valid/labels/IMG_2567_PNG_jpg.rf.8e37ae89d9c0bd01ac824e3bf9b99007.txt  \n",
            "  inflating: __MACOSX/+_648_640_640_label_ceo.v1i.yolov7pytorch/valid/labels/._IMG_2567_PNG_jpg.rf.8e37ae89d9c0bd01ac824e3bf9b99007.txt  \n",
            "  inflating: +_648_640_640_label_ceo.v1i.yolov7pytorch/valid/labels/IMG_1972_PNG_jpg.rf.fe8866643865fce3f1f9995739e79305.txt  \n",
            "  inflating: __MACOSX/+_648_640_640_label_ceo.v1i.yolov7pytorch/valid/labels/._IMG_1972_PNG_jpg.rf.fe8866643865fce3f1f9995739e79305.txt  \n",
            "  inflating: +_648_640_640_label_ceo.v1i.yolov7pytorch/valid/labels/CARimage338_jpg.rf.8138a9c19fb343cc2f196740774bdda3.txt  \n",
            "  inflating: __MACOSX/+_648_640_640_label_ceo.v1i.yolov7pytorch/valid/labels/._CARimage338_jpg.rf.8138a9c19fb343cc2f196740774bdda3.txt  \n",
            "  inflating: +_648_640_640_label_ceo.v1i.yolov7pytorch/valid/labels/accidentFrame4145_jpg.rf.4155c836aecfc3389752ac7274ce6dc7.txt  \n",
            "  inflating: __MACOSX/+_648_640_640_label_ceo.v1i.yolov7pytorch/valid/labels/._accidentFrame4145_jpg.rf.4155c836aecfc3389752ac7274ce6dc7.txt  \n",
            "  inflating: +_648_640_640_label_ceo.v1i.yolov7pytorch/valid/labels/trafficseverity_img847_jpg.rf.2ccb8fc1f7a146a5a7e8e8de0171b6b2.txt  \n",
            "  inflating: __MACOSX/+_648_640_640_label_ceo.v1i.yolov7pytorch/valid/labels/._trafficseverity_img847_jpg.rf.2ccb8fc1f7a146a5a7e8e8de0171b6b2.txt  \n",
            "  inflating: +_648_640_640_label_ceo.v1i.yolov7pytorch/valid/labels/SEV_V8_Img_123_jpg.rf.fedb0d4a20670e800e86cd0b9caa691c.txt  \n",
            "  inflating: __MACOSX/+_648_640_640_label_ceo.v1i.yolov7pytorch/valid/labels/._SEV_V8_Img_123_jpg.rf.fedb0d4a20670e800e86cd0b9caa691c.txt  \n",
            "  inflating: +_648_640_640_label_ceo.v1i.yolov7pytorch/valid/labels/trafficseverity_img323_jpg.rf.251f372d02e59e1db946cfa9353896b7.txt  \n",
            "  inflating: __MACOSX/+_648_640_640_label_ceo.v1i.yolov7pytorch/valid/labels/._trafficseverity_img323_jpg.rf.251f372d02e59e1db946cfa9353896b7.txt  \n",
            "  inflating: +_648_640_640_label_ceo.v1i.yolov7pytorch/valid/labels/IMG_2345_PNG_jpg.rf.dec4412066745f5992941673d5bf9902.txt  \n",
            "  inflating: __MACOSX/+_648_640_640_label_ceo.v1i.yolov7pytorch/valid/labels/._IMG_2345_PNG_jpg.rf.dec4412066745f5992941673d5bf9902.txt  \n",
            "  inflating: +_648_640_640_label_ceo.v1i.yolov7pytorch/valid/labels/SEVERITY_DATA_113_jpg.rf.4a9f5f3a2ffc478c81ea94ce04b5c31f.txt  \n",
            "  inflating: __MACOSX/+_648_640_640_label_ceo.v1i.yolov7pytorch/valid/labels/._SEVERITY_DATA_113_jpg.rf.4a9f5f3a2ffc478c81ea94ce04b5c31f.txt  \n",
            "  inflating: +_648_640_640_label_ceo.v1i.yolov7pytorch/valid/labels/Accident_Img_1475_jpg.rf.76919c136801c924c412dff70e28f890.txt  \n",
            "  inflating: __MACOSX/+_648_640_640_label_ceo.v1i.yolov7pytorch/valid/labels/._Accident_Img_1475_jpg.rf.76919c136801c924c412dff70e28f890.txt  \n",
            "  inflating: +_648_640_640_label_ceo.v1i.yolov7pytorch/valid/labels/EXTREME-CAR-CRASH-1-HOUR-COMPILATION-BIGGEST-CAR-CRASHES-1_i_frame_35840_jpg.rf.86a0a384be9ecfc99268e29a90fc07e0.txt  \n",
            "  inflating: __MACOSX/+_648_640_640_label_ceo.v1i.yolov7pytorch/valid/labels/._EXTREME-CAR-CRASH-1-HOUR-COMPILATION-BIGGEST-CAR-CRASHES-1_i_frame_35840_jpg.rf.86a0a384be9ecfc99268e29a90fc07e0.txt  \n",
            "  inflating: +_648_640_640_label_ceo.v1i.yolov7pytorch/valid/labels/Accident_Img_1210_jpg.rf.6c09c268bf23691c2e359cbc879beeb0.txt  \n",
            "  inflating: __MACOSX/+_648_640_640_label_ceo.v1i.yolov7pytorch/valid/labels/._Accident_Img_1210_jpg.rf.6c09c268bf23691c2e359cbc879beeb0.txt  \n",
            "  inflating: +_648_640_640_label_ceo.v1i.yolov7pytorch/valid/labels/Screen-Shot-2022-04-13-at-6-56-27-AM_png_jpg.rf.b16723a36673ab25016a459876d84fad.txt  \n",
            "  inflating: __MACOSX/+_648_640_640_label_ceo.v1i.yolov7pytorch/valid/labels/._Screen-Shot-2022-04-13-at-6-56-27-AM_png_jpg.rf.b16723a36673ab25016a459876d84fad.txt  \n",
            "  inflating: +_648_640_640_label_ceo.v1i.yolov7pytorch/valid/labels/trafficseverity_img757_jpg.rf.36ea545da01bbe599fa108ca8d66f1f0.txt  \n",
            "  inflating: __MACOSX/+_648_640_640_label_ceo.v1i.yolov7pytorch/valid/labels/._trafficseverity_img757_jpg.rf.36ea545da01bbe599fa108ca8d66f1f0.txt  \n",
            "  inflating: +_648_640_640_label_ceo.v1i.yolov7pytorch/valid/labels/SEVERITY_V10_64_jpg.rf.a6cc675a9e5e854e144e5fa343690577.txt  \n",
            "  inflating: __MACOSX/+_648_640_640_label_ceo.v1i.yolov7pytorch/valid/labels/._SEVERITY_V10_64_jpg.rf.a6cc675a9e5e854e144e5fa343690577.txt  \n",
            "  inflating: +_648_640_640_label_ceo.v1i.yolov7pytorch/valid/labels/severityV4_72_jpg.rf.18ea213d986ff5cd25e89f474e9ed056.txt  \n",
            "  inflating: __MACOSX/+_648_640_640_label_ceo.v1i.yolov7pytorch/valid/labels/._severityV4_72_jpg.rf.18ea213d986ff5cd25e89f474e9ed056.txt  \n",
            "  inflating: +_648_640_640_label_ceo.v1i.yolov7pytorch/valid/labels/IMG_2129_JPG_jpg.rf.0197bd2ae7b3e8415fdaec32dc4f5e1a.txt  \n",
            "  inflating: __MACOSX/+_648_640_640_label_ceo.v1i.yolov7pytorch/valid/labels/._IMG_2129_JPG_jpg.rf.0197bd2ae7b3e8415fdaec32dc4f5e1a.txt  \n",
            "  inflating: +_648_640_640_label_ceo.v1i.yolov7pytorch/valid/labels/trafficseverity_img3017_jpg.rf.0576797f56bc61d873d967ad6b396dab.txt  \n",
            "  inflating: __MACOSX/+_648_640_640_label_ceo.v1i.yolov7pytorch/valid/labels/._trafficseverity_img3017_jpg.rf.0576797f56bc61d873d967ad6b396dab.txt  \n",
            "  inflating: +_648_640_640_label_ceo.v1i.yolov7pytorch/valid/labels/SEVERITY_DATA_31_jpg.rf.b56198ca272cf4a4130ae143ef53bce8.txt  \n",
            "  inflating: __MACOSX/+_648_640_640_label_ceo.v1i.yolov7pytorch/valid/labels/._SEVERITY_DATA_31_jpg.rf.b56198ca272cf4a4130ae143ef53bce8.txt  \n",
            "  inflating: +_648_640_640_label_ceo.v1i.yolov7pytorch/valid/labels/IMG_2431_PNG_jpg.rf.3dd626d513943ee7f9c358e6f0152bc9.txt  \n",
            "  inflating: __MACOSX/+_648_640_640_label_ceo.v1i.yolov7pytorch/valid/labels/._IMG_2431_PNG_jpg.rf.3dd626d513943ee7f9c358e6f0152bc9.txt  \n",
            "  inflating: +_648_640_640_label_ceo.v1i.yolov7pytorch/valid/labels/SEV_22_485_jpg.rf.1d197218c6e3953ada823f8c80145cff.txt  \n",
            "  inflating: __MACOSX/+_648_640_640_label_ceo.v1i.yolov7pytorch/valid/labels/._SEV_22_485_jpg.rf.1d197218c6e3953ada823f8c80145cff.txt  \n",
            "  inflating: +_648_640_640_label_ceo.v1i.yolov7pytorch/valid/labels/images-7_jpg.rf.e2a798e152d80bfb81796f5e49f8cc40.txt  \n",
            "  inflating: __MACOSX/+_648_640_640_label_ceo.v1i.yolov7pytorch/valid/labels/._images-7_jpg.rf.e2a798e152d80bfb81796f5e49f8cc40.txt  \n",
            "  inflating: +_648_640_640_label_ceo.v1i.yolov7pytorch/valid/labels/trafficseverity_img957_jpg.rf.ebf728ee80bc07bccbf208e4828f4b25.txt  \n",
            "  inflating: __MACOSX/+_648_640_640_label_ceo.v1i.yolov7pytorch/valid/labels/._trafficseverity_img957_jpg.rf.ebf728ee80bc07bccbf208e4828f4b25.txt  \n",
            "  inflating: +_648_640_640_label_ceo.v1i.yolov7pytorch/valid/labels/SEVERITY_V10_115_jpg.rf.beb03fb7494acdecd8ea7665f3a4f49b.txt  \n",
            "  inflating: __MACOSX/+_648_640_640_label_ceo.v1i.yolov7pytorch/valid/labels/._SEVERITY_V10_115_jpg.rf.beb03fb7494acdecd8ea7665f3a4f49b.txt  \n",
            "  inflating: +_648_640_640_label_ceo.v1i.yolov7pytorch/valid/labels/traffic_img3363_jpg.rf.0003e8f4b83979f3fd6577d69ff3104d.txt  \n",
            "  inflating: __MACOSX/+_648_640_640_label_ceo.v1i.yolov7pytorch/valid/labels/._traffic_img3363_jpg.rf.0003e8f4b83979f3fd6577d69ff3104d.txt  \n",
            "  inflating: +_648_640_640_label_ceo.v1i.yolov7pytorch/valid/labels/SEV_22_2970_jpg.rf.b02f12633873bce9f7936456e70a356d.txt  \n",
            "  inflating: __MACOSX/+_648_640_640_label_ceo.v1i.yolov7pytorch/valid/labels/._SEV_22_2970_jpg.rf.b02f12633873bce9f7936456e70a356d.txt  \n",
            "  inflating: +_648_640_640_label_ceo.v1i.yolov7pytorch/valid/labels/Screen-Shot-2022-04-07-at-7-35-38-PM_png_jpg.rf.f26463b5d948016917486d7dc5505038.txt  \n",
            "  inflating: __MACOSX/+_648_640_640_label_ceo.v1i.yolov7pytorch/valid/labels/._Screen-Shot-2022-04-07-at-7-35-38-PM_png_jpg.rf.f26463b5d948016917486d7dc5505038.txt  \n",
            "  inflating: +_648_640_640_label_ceo.v1i.yolov7pytorch/valid/labels/trafficseverity_img927_jpg.rf.c42f448ca7fd7b429c2fd0376b8e905e.txt  \n",
            "  inflating: __MACOSX/+_648_640_640_label_ceo.v1i.yolov7pytorch/valid/labels/._trafficseverity_img927_jpg.rf.c42f448ca7fd7b429c2fd0376b8e905e.txt  \n",
            "  inflating: +_648_640_640_label_ceo.v1i.yolov7pytorch/valid/labels/SEV_V8_Img_29_jpg.rf.fb5508343859da3f5d2023a631f1edd2.txt  \n",
            "  inflating: __MACOSX/+_648_640_640_label_ceo.v1i.yolov7pytorch/valid/labels/._SEV_V8_Img_29_jpg.rf.fb5508343859da3f5d2023a631f1edd2.txt  \n",
            "  inflating: +_648_640_640_label_ceo.v1i.yolov7pytorch/valid/labels/SEV_22_4070_jpg.rf.e8cb6a76b440d93c5075e87169acf2f7.txt  \n",
            "  inflating: __MACOSX/+_648_640_640_label_ceo.v1i.yolov7pytorch/valid/labels/._SEV_22_4070_jpg.rf.e8cb6a76b440d93c5075e87169acf2f7.txt  \n",
            "  inflating: +_648_640_640_label_ceo.v1i.yolov7pytorch/valid/labels/severity_V133_jpg.rf.0bdf2972dabc30b030eccb10cce6883f.txt  \n",
            "  inflating: __MACOSX/+_648_640_640_label_ceo.v1i.yolov7pytorch/valid/labels/._severity_V133_jpg.rf.0bdf2972dabc30b030eccb10cce6883f.txt  \n",
            "  inflating: +_648_640_640_label_ceo.v1i.yolov7pytorch/valid/labels/IMG_1532_PNG_jpg.rf.84e39f27a0061d935177817aff182070.txt  \n",
            "  inflating: __MACOSX/+_648_640_640_label_ceo.v1i.yolov7pytorch/valid/labels/._IMG_1532_PNG_jpg.rf.84e39f27a0061d935177817aff182070.txt  \n",
            "  inflating: +_648_640_640_label_ceo.v1i.yolov7pytorch/valid/labels/Screen-Shot-2022-04-07-at-8-21-27-AM_png_jpg.rf.9ff495da166f1c6b8aceac1291ccd327.txt  \n",
            "  inflating: __MACOSX/+_648_640_640_label_ceo.v1i.yolov7pytorch/valid/labels/._Screen-Shot-2022-04-07-at-8-21-27-AM_png_jpg.rf.9ff495da166f1c6b8aceac1291ccd327.txt  \n",
            "  inflating: +_648_640_640_label_ceo.v1i.yolov7pytorch/valid/labels/trafficseverity_img449_jpg.rf.be2672f8886a81d9fe0d3b167cd76d0f.txt  \n",
            "  inflating: __MACOSX/+_648_640_640_label_ceo.v1i.yolov7pytorch/valid/labels/._trafficseverity_img449_jpg.rf.be2672f8886a81d9fe0d3b167cd76d0f.txt  \n",
            "  inflating: +_648_640_640_label_ceo.v1i.yolov7pytorch/valid/labels/IMG_2337_PNG_jpg.rf.af1761cc54ac507469ac9979895ec389.txt  \n",
            "  inflating: __MACOSX/+_648_640_640_label_ceo.v1i.yolov7pytorch/valid/labels/._IMG_2337_PNG_jpg.rf.af1761cc54ac507469ac9979895ec389.txt  \n",
            "  inflating: +_648_640_640_label_ceo.v1i.yolov7pytorch/valid/labels/traffic_img619_jpg.rf.82beb56e83f8a45f7f5a0dece4e23379.txt  \n",
            "  inflating: __MACOSX/+_648_640_640_label_ceo.v1i.yolov7pytorch/valid/labels/._traffic_img619_jpg.rf.82beb56e83f8a45f7f5a0dece4e23379.txt  \n",
            "  inflating: +_648_640_640_label_ceo.v1i.yolov7pytorch/valid/labels/trafficseverity_img372_jpg.rf.004b631de174eba6047f37de2771a615.txt  \n",
            "  inflating: __MACOSX/+_648_640_640_label_ceo.v1i.yolov7pytorch/valid/labels/._trafficseverity_img372_jpg.rf.004b631de174eba6047f37de2771a615.txt  \n",
            "  inflating: +_648_640_640_label_ceo.v1i.yolov7pytorch/valid/labels/argusAcc191_jpg.rf.4a9dbb8c93c27d4c7a7a850f7a7f7194.txt  \n",
            "  inflating: __MACOSX/+_648_640_640_label_ceo.v1i.yolov7pytorch/valid/labels/._argusAcc191_jpg.rf.4a9dbb8c93c27d4c7a7a850f7a7f7194.txt  \n",
            "  inflating: +_648_640_640_label_ceo.v1i.yolov7pytorch/valid/labels/Screen-Shot-2022-04-08-at-5-56-19-AM_png_jpg.rf.153003100e74d2a990cbfaf1d478f87b.txt  \n",
            "  inflating: __MACOSX/+_648_640_640_label_ceo.v1i.yolov7pytorch/valid/labels/._Screen-Shot-2022-04-08-at-5-56-19-AM_png_jpg.rf.153003100e74d2a990cbfaf1d478f87b.txt  \n",
            "  inflating: +_648_640_640_label_ceo.v1i.yolov7pytorch/valid/labels/screen_images10_png_jpg.rf.6a0af6f0f7db0e59d4a3386b8ae150f6.txt  \n",
            "  inflating: __MACOSX/+_648_640_640_label_ceo.v1i.yolov7pytorch/valid/labels/._screen_images10_png_jpg.rf.6a0af6f0f7db0e59d4a3386b8ae150f6.txt  \n",
            "  inflating: +_648_640_640_label_ceo.v1i.yolov7pytorch/valid/labels/traffic_img5527_jpg.rf.e34e9b5d342f3b24555ce3871670ddd9.txt  \n",
            "  inflating: __MACOSX/+_648_640_640_label_ceo.v1i.yolov7pytorch/valid/labels/._traffic_img5527_jpg.rf.e34e9b5d342f3b24555ce3871670ddd9.txt  \n",
            "  inflating: +_648_640_640_label_ceo.v1i.yolov7pytorch/valid/labels/screen_images6_png_jpg.rf.ba9c757bb9bbc5c1554fe3c3b62125ec.txt  \n",
            "  inflating: __MACOSX/+_648_640_640_label_ceo.v1i.yolov7pytorch/valid/labels/._screen_images6_png_jpg.rf.ba9c757bb9bbc5c1554fe3c3b62125ec.txt  \n",
            "  inflating: +_648_640_640_label_ceo.v1i.yolov7pytorch/valid/labels/trafficseverity_img1035_jpg.rf.491d3d60b46ffdc29e008eb2120ca884.txt  \n",
            "  inflating: __MACOSX/+_648_640_640_label_ceo.v1i.yolov7pytorch/valid/labels/._trafficseverity_img1035_jpg.rf.491d3d60b46ffdc29e008eb2120ca884.txt  \n",
            "  inflating: +_648_640_640_label_ceo.v1i.yolov7pytorch/valid/labels/SEVERITY_DATA_49_jpg.rf.8c8ce63ecdd59e3fdbf86826c74160a3.txt  \n",
            "  inflating: __MACOSX/+_648_640_640_label_ceo.v1i.yolov7pytorch/valid/labels/._SEVERITY_DATA_49_jpg.rf.8c8ce63ecdd59e3fdbf86826c74160a3.txt  \n",
            "  inflating: +_648_640_640_label_ceo.v1i.yolov7pytorch/valid/labels/tt1_png_jpg.rf.a15fb03f3869b72592d938bfb0d87f31.txt  \n",
            "  inflating: __MACOSX/+_648_640_640_label_ceo.v1i.yolov7pytorch/valid/labels/._tt1_png_jpg.rf.a15fb03f3869b72592d938bfb0d87f31.txt  \n",
            "  inflating: +_648_640_640_label_ceo.v1i.yolov7pytorch/valid/labels/trafficseverity_img1024_jpg.rf.36f8318115e9809a2cd0411607267ab2.txt  \n",
            "  inflating: __MACOSX/+_648_640_640_label_ceo.v1i.yolov7pytorch/valid/labels/._trafficseverity_img1024_jpg.rf.36f8318115e9809a2cd0411607267ab2.txt  \n",
            "  inflating: +_648_640_640_label_ceo.v1i.yolov7pytorch/valid/labels/SEVERITY_V10_114_jpg.rf.e14b8cd65ae02c94474d5d19c86fe0c2.txt  \n",
            "  inflating: __MACOSX/+_648_640_640_label_ceo.v1i.yolov7pytorch/valid/labels/._SEVERITY_V10_114_jpg.rf.e14b8cd65ae02c94474d5d19c86fe0c2.txt  \n",
            "  inflating: +_648_640_640_label_ceo.v1i.yolov7pytorch/valid/labels/SEV_22_3932_jpg.rf.b54233daacd7563595358b4742263223.txt  \n",
            "  inflating: __MACOSX/+_648_640_640_label_ceo.v1i.yolov7pytorch/valid/labels/._SEV_22_3932_jpg.rf.b54233daacd7563595358b4742263223.txt  \n",
            "  inflating: +_648_640_640_label_ceo.v1i.yolov7pytorch/valid/labels/SEEEEVERITY_116_jpg.rf.8b3a3f781eabe47e90e0b50145a86bf7.txt  \n",
            "  inflating: __MACOSX/+_648_640_640_label_ceo.v1i.yolov7pytorch/valid/labels/._SEEEEVERITY_116_jpg.rf.8b3a3f781eabe47e90e0b50145a86bf7.txt  \n",
            "  inflating: +_648_640_640_label_ceo.v1i.yolov7pytorch/valid/labels/trafficseverity_img2174_jpg.rf.5d30790c83eac145ecbee4577545bb3c.txt  \n",
            "  inflating: __MACOSX/+_648_640_640_label_ceo.v1i.yolov7pytorch/valid/labels/._trafficseverity_img2174_jpg.rf.5d30790c83eac145ecbee4577545bb3c.txt  \n",
            "  inflating: +_648_640_640_label_ceo.v1i.yolov7pytorch/valid/labels/SEVERITY_DATA_66_jpg.rf.cff6659aaca50d701fcd45c890e1e812.txt  \n",
            "  inflating: __MACOSX/+_648_640_640_label_ceo.v1i.yolov7pytorch/valid/labels/._SEVERITY_DATA_66_jpg.rf.cff6659aaca50d701fcd45c890e1e812.txt  \n",
            "  inflating: +_648_640_640_label_ceo.v1i.yolov7pytorch/valid/labels/SEEEEVERITY_168_jpg.rf.1fdbb0a12e78a423fff11b773ec839e2.txt  \n",
            "  inflating: __MACOSX/+_648_640_640_label_ceo.v1i.yolov7pytorch/valid/labels/._SEEEEVERITY_168_jpg.rf.1fdbb0a12e78a423fff11b773ec839e2.txt  \n",
            "  inflating: +_648_640_640_label_ceo.v1i.yolov7pytorch/valid/labels/SEVERITY_V10_85_jpg.rf.9165ba654641f5da532aa410eb36f04a.txt  \n",
            "  inflating: __MACOSX/+_648_640_640_label_ceo.v1i.yolov7pytorch/valid/labels/._SEVERITY_V10_85_jpg.rf.9165ba654641f5da532aa410eb36f04a.txt  \n",
            "  inflating: +_648_640_640_label_ceo.v1i.yolov7pytorch/valid/labels/trafficseverity_img2567_jpg.rf.1341b7ff6781f356f99f9b48f1305499.txt  \n",
            "  inflating: __MACOSX/+_648_640_640_label_ceo.v1i.yolov7pytorch/valid/labels/._trafficseverity_img2567_jpg.rf.1341b7ff6781f356f99f9b48f1305499.txt  \n",
            "  inflating: +_648_640_640_label_ceo.v1i.yolov7pytorch/valid/labels/SEEEEVERITY_48_jpg.rf.7115b6b836a01aab35c5474784226449.txt  \n",
            "  inflating: __MACOSX/+_648_640_640_label_ceo.v1i.yolov7pytorch/valid/labels/._SEEEEVERITY_48_jpg.rf.7115b6b836a01aab35c5474784226449.txt  \n",
            "  inflating: +_648_640_640_label_ceo.v1i.yolov7pytorch/valid/labels/images-70-_jpeg_jpg.rf.37b4ad6bb2c6dfa27f8a305f79990279.txt  \n",
            "  inflating: __MACOSX/+_648_640_640_label_ceo.v1i.yolov7pytorch/valid/labels/._images-70-_jpeg_jpg.rf.37b4ad6bb2c6dfa27f8a305f79990279.txt  \n",
            "  inflating: +_648_640_640_label_ceo.v1i.yolov7pytorch/valid/labels/crashbetter_jpg.rf.ad7652dd12203ccac638f640443b882e.txt  \n",
            "  inflating: __MACOSX/+_648_640_640_label_ceo.v1i.yolov7pytorch/valid/labels/._crashbetter_jpg.rf.ad7652dd12203ccac638f640443b882e.txt  \n",
            "  inflating: +_648_640_640_label_ceo.v1i.yolov7pytorch/valid/labels/SEVERITY_V13_18_jpg.rf.5e76265306ef4d139f3f99d7b5eabc94.txt  \n",
            "  inflating: __MACOSX/+_648_640_640_label_ceo.v1i.yolov7pytorch/valid/labels/._SEVERITY_V13_18_jpg.rf.5e76265306ef4d139f3f99d7b5eabc94.txt  \n",
            "  inflating: +_648_640_640_label_ceo.v1i.yolov7pytorch/valid/labels/SEV_V8_Img_165_jpg.rf.b9d9b1f758d08ee4bb01f56e171ea1ee.txt  \n",
            "  inflating: __MACOSX/+_648_640_640_label_ceo.v1i.yolov7pytorch/valid/labels/._SEV_V8_Img_165_jpg.rf.b9d9b1f758d08ee4bb01f56e171ea1ee.txt  \n",
            "  inflating: +_648_640_640_label_ceo.v1i.yolov7pytorch/valid/labels/SEEEEVERITY_368_jpg.rf.381aa2a5709be9f16eb147a1fe9a695c.txt  \n",
            "  inflating: __MACOSX/+_648_640_640_label_ceo.v1i.yolov7pytorch/valid/labels/._SEEEEVERITY_368_jpg.rf.381aa2a5709be9f16eb147a1fe9a695c.txt  \n",
            "  inflating: +_648_640_640_label_ceo.v1i.yolov7pytorch/valid/labels/vid_1_i_frame_15448_jpg.rf.312ad0de6abf2bb1e6428d375c8b7f35.txt  \n",
            "  inflating: __MACOSX/+_648_640_640_label_ceo.v1i.yolov7pytorch/valid/labels/._vid_1_i_frame_15448_jpg.rf.312ad0de6abf2bb1e6428d375c8b7f35.txt  \n",
            "  inflating: +_648_640_640_label_ceo.v1i.yolov7pytorch/valid/labels/SEVERITY_V10_14_jpg.rf.aa3379b07fb2ef1533390d0dd8f241a5.txt  \n",
            "  inflating: __MACOSX/+_648_640_640_label_ceo.v1i.yolov7pytorch/valid/labels/._SEVERITY_V10_14_jpg.rf.aa3379b07fb2ef1533390d0dd8f241a5.txt  \n",
            "  inflating: +_648_640_640_label_ceo.v1i.yolov7pytorch/valid/labels/traffic_img827_jpg.rf.7140574b40f4ec41a1f7566f433719bd.txt  \n",
            "  inflating: __MACOSX/+_648_640_640_label_ceo.v1i.yolov7pytorch/valid/labels/._traffic_img827_jpg.rf.7140574b40f4ec41a1f7566f433719bd.txt  \n",
            "  inflating: +_648_640_640_label_ceo.v1i.yolov7pytorch/valid/labels/IMG_2319_PNG_jpg.rf.0c0b442a72a71d38489dfb0c02459f82.txt  \n",
            "  inflating: __MACOSX/+_648_640_640_label_ceo.v1i.yolov7pytorch/valid/labels/._IMG_2319_PNG_jpg.rf.0c0b442a72a71d38489dfb0c02459f82.txt  \n",
            "  inflating: +_648_640_640_label_ceo.v1i.yolov7pytorch/valid/labels/IMG_2312_PNG_jpg.rf.66ed738e134ffcad9166882771de30d2.txt  \n",
            "  inflating: __MACOSX/+_648_640_640_label_ceo.v1i.yolov7pytorch/valid/labels/._IMG_2312_PNG_jpg.rf.66ed738e134ffcad9166882771de30d2.txt  \n",
            "  inflating: +_648_640_640_label_ceo.v1i.yolov7pytorch/valid/labels/traffic_img4873_jpg.rf.a62b83bd4e9fa6e2ff1e3a2fbdf26ad1.txt  \n",
            "  inflating: __MACOSX/+_648_640_640_label_ceo.v1i.yolov7pytorch/valid/labels/._traffic_img4873_jpg.rf.a62b83bd4e9fa6e2ff1e3a2fbdf26ad1.txt  \n",
            "  inflating: +_648_640_640_label_ceo.v1i.yolov7pytorch/valid/labels/images-12_jpg.rf.9e99ded2405f0553a5b20b344415511a.txt  \n",
            "  inflating: __MACOSX/+_648_640_640_label_ceo.v1i.yolov7pytorch/valid/labels/._images-12_jpg.rf.9e99ded2405f0553a5b20b344415511a.txt  \n",
            "  inflating: +_648_640_640_label_ceo.v1i.yolov7pytorch/valid/labels/trafficseverity_img937_jpg.rf.577505083cf800c68a5b18d42275d171.txt  \n",
            "  inflating: __MACOSX/+_648_640_640_label_ceo.v1i.yolov7pytorch/valid/labels/._trafficseverity_img937_jpg.rf.577505083cf800c68a5b18d42275d171.txt  \n",
            "  inflating: +_648_640_640_label_ceo.v1i.yolov7pytorch/valid/labels/IMG_1613_PNG_jpg.rf.87d27e270bec7f6cb20bbafee077518f.txt  \n",
            "  inflating: __MACOSX/+_648_640_640_label_ceo.v1i.yolov7pytorch/valid/labels/._IMG_1613_PNG_jpg.rf.87d27e270bec7f6cb20bbafee077518f.txt  \n",
            "  inflating: +_648_640_640_label_ceo.v1i.yolov7pytorch/valid/labels/SEV_22_364_jpg.rf.47cc4909a0b1d41fbc789253fa41d4ac.txt  \n",
            "  inflating: __MACOSX/+_648_640_640_label_ceo.v1i.yolov7pytorch/valid/labels/._SEV_22_364_jpg.rf.47cc4909a0b1d41fbc789253fa41d4ac.txt  \n",
            "  inflating: +_648_640_640_label_ceo.v1i.yolov7pytorch/valid/labels/trafficseverity_img2239_jpg.rf.043e815788996af709d08c1de2943ca0.txt  \n",
            "  inflating: __MACOSX/+_648_640_640_label_ceo.v1i.yolov7pytorch/valid/labels/._trafficseverity_img2239_jpg.rf.043e815788996af709d08c1de2943ca0.txt  \n",
            "  inflating: +_648_640_640_label_ceo.v1i.yolov7pytorch/valid/labels/SEEEEVERITY_210_jpg.rf.9c9a8ea4e3fc4bfbdabbaae0a82e3006.txt  \n",
            "  inflating: __MACOSX/+_648_640_640_label_ceo.v1i.yolov7pytorch/valid/labels/._SEEEEVERITY_210_jpg.rf.9c9a8ea4e3fc4bfbdabbaae0a82e3006.txt  \n",
            "  inflating: +_648_640_640_label_ceo.v1i.yolov7pytorch/valid/labels/SEV_22_1539_jpg.rf.ceaea5b045ebe5900cfee707ccf09d2a.txt  \n",
            "  inflating: __MACOSX/+_648_640_640_label_ceo.v1i.yolov7pytorch/valid/labels/._SEV_22_1539_jpg.rf.ceaea5b045ebe5900cfee707ccf09d2a.txt  \n",
            "  inflating: +_648_640_640_label_ceo.v1i.yolov7pytorch/valid/labels/trafficseverity_img5646_jpg.rf.6ba45f4d9767e8f744c3da54d230e5d9.txt  \n",
            "  inflating: __MACOSX/+_648_640_640_label_ceo.v1i.yolov7pytorch/valid/labels/._trafficseverity_img5646_jpg.rf.6ba45f4d9767e8f744c3da54d230e5d9.txt  \n",
            "  inflating: +_648_640_640_label_ceo.v1i.yolov7pytorch/valid/labels/SEVERITY_V10_71_jpg.rf.3c1083827397ad93c6192026da465acc.txt  \n",
            "  inflating: __MACOSX/+_648_640_640_label_ceo.v1i.yolov7pytorch/valid/labels/._SEVERITY_V10_71_jpg.rf.3c1083827397ad93c6192026da465acc.txt  \n",
            "  inflating: +_648_640_640_label_ceo.v1i.yolov7pytorch/valid/labels/trafficseverity_img3421_jpg.rf.712e0127e408636eb1488aca7132d8c6.txt  \n",
            "  inflating: __MACOSX/+_648_640_640_label_ceo.v1i.yolov7pytorch/valid/labels/._trafficseverity_img3421_jpg.rf.712e0127e408636eb1488aca7132d8c6.txt  \n",
            "  inflating: +_648_640_640_label_ceo.v1i.yolov7pytorch/valid/labels/IMG_1522_PNG_jpg.rf.43c815acfc27952ed9c7880d1c64a48d.txt  \n",
            "  inflating: __MACOSX/+_648_640_640_label_ceo.v1i.yolov7pytorch/valid/labels/._IMG_1522_PNG_jpg.rf.43c815acfc27952ed9c7880d1c64a48d.txt  \n",
            "  inflating: +_648_640_640_label_ceo.v1i.yolov7pytorch/valid/labels/Screen-Shot-2022-04-06-at-4-23-47-AM_png_jpg.rf.ef8d1c0e4bdf2c5c8b10a4bd27c982fd.txt  \n",
            "  inflating: __MACOSX/+_648_640_640_label_ceo.v1i.yolov7pytorch/valid/labels/._Screen-Shot-2022-04-06-at-4-23-47-AM_png_jpg.rf.ef8d1c0e4bdf2c5c8b10a4bd27c982fd.txt  \n",
            "  inflating: +_648_640_640_label_ceo.v1i.yolov7pytorch/valid/labels/trafficseverity_img1052_jpg.rf.414087eaba8d1291b5ed84fd3d679ce4.txt  \n",
            "  inflating: __MACOSX/+_648_640_640_label_ceo.v1i.yolov7pytorch/valid/labels/._trafficseverity_img1052_jpg.rf.414087eaba8d1291b5ed84fd3d679ce4.txt  \n",
            "  inflating: +_648_640_640_label_ceo.v1i.yolov7pytorch/valid/labels/IMG_1577_PNG_jpg.rf.64f34fe3ada17e58cd0939bae98490f3.txt  \n",
            "  inflating: __MACOSX/+_648_640_640_label_ceo.v1i.yolov7pytorch/valid/labels/._IMG_1577_PNG_jpg.rf.64f34fe3ada17e58cd0939bae98490f3.txt  \n",
            "  inflating: +_648_640_640_label_ceo.v1i.yolov7pytorch/valid/labels/download-1-_jpeg_jpg.rf.8418623d53265b20d4728df438ab3f82.txt  \n",
            "  inflating: __MACOSX/+_648_640_640_label_ceo.v1i.yolov7pytorch/valid/labels/._download-1-_jpeg_jpg.rf.8418623d53265b20d4728df438ab3f82.txt  \n",
            "  inflating: +_648_640_640_label_ceo.v1i.yolov7pytorch/valid/labels/IMG_1481_PNG_jpg.rf.e87f21771b7cb6aa8b96809c85551511.txt  \n",
            "  inflating: __MACOSX/+_648_640_640_label_ceo.v1i.yolov7pytorch/valid/labels/._IMG_1481_PNG_jpg.rf.e87f21771b7cb6aa8b96809c85551511.txt  \n",
            "  inflating: +_648_640_640_label_ceo.v1i.yolov7pytorch/valid/labels/trafficseverity_img577_jpg.rf.552c0e991e3b41f1a4fde71d9795c8a1.txt  \n",
            "  inflating: __MACOSX/+_648_640_640_label_ceo.v1i.yolov7pytorch/valid/labels/._trafficseverity_img577_jpg.rf.552c0e991e3b41f1a4fde71d9795c8a1.txt  \n",
            "  inflating: +_648_640_640_label_ceo.v1i.yolov7pytorch/valid/labels/SEV_22_2897_jpg.rf.98c55112a8c906d89bbe8add1347ca21.txt  \n",
            "  inflating: __MACOSX/+_648_640_640_label_ceo.v1i.yolov7pytorch/valid/labels/._SEV_22_2897_jpg.rf.98c55112a8c906d89bbe8add1347ca21.txt  \n",
            "  inflating: +_648_640_640_label_ceo.v1i.yolov7pytorch/valid/labels/IMG_2264_PNG_jpg.rf.2048fcdb2dc8271722252185b59b89f3.txt  \n",
            "  inflating: __MACOSX/+_648_640_640_label_ceo.v1i.yolov7pytorch/valid/labels/._IMG_2264_PNG_jpg.rf.2048fcdb2dc8271722252185b59b89f3.txt  \n",
            "  inflating: +_648_640_640_label_ceo.v1i.yolov7pytorch/valid/labels/images-5_jpg.rf.14b1ef31f9079127d62ad1199a811b0d.txt  \n",
            "  inflating: __MACOSX/+_648_640_640_label_ceo.v1i.yolov7pytorch/valid/labels/._images-5_jpg.rf.14b1ef31f9079127d62ad1199a811b0d.txt  \n",
            "  inflating: +_648_640_640_label_ceo.v1i.yolov7pytorch/valid/labels/SEV_22_365_jpg.rf.804e8ada20b7abb0135fc8712a508a15.txt  \n",
            "  inflating: __MACOSX/+_648_640_640_label_ceo.v1i.yolov7pytorch/valid/labels/._SEV_22_365_jpg.rf.804e8ada20b7abb0135fc8712a508a15.txt  \n",
            "  inflating: +_648_640_640_label_ceo.v1i.yolov7pytorch/valid/labels/traffic_img525_jpg.rf.eea216b429fec07cd3f446ab59e412bb.txt  \n",
            "  inflating: __MACOSX/+_648_640_640_label_ceo.v1i.yolov7pytorch/valid/labels/._traffic_img525_jpg.rf.eea216b429fec07cd3f446ab59e412bb.txt  \n",
            "  inflating: +_648_640_640_label_ceo.v1i.yolov7pytorch/valid/labels/trafficseverity_img2238_jpg.rf.47b6066ff6edc8faca502ceab2ebaa52.txt  \n",
            "  inflating: __MACOSX/+_648_640_640_label_ceo.v1i.yolov7pytorch/valid/labels/._trafficseverity_img2238_jpg.rf.47b6066ff6edc8faca502ceab2ebaa52.txt  \n",
            "  inflating: +_648_640_640_label_ceo.v1i.yolov7pytorch/valid/labels/SEV_22_3597_jpg.rf.ffe3f20cfe2e60805bf22eb1188b9624.txt  \n",
            "  inflating: __MACOSX/+_648_640_640_label_ceo.v1i.yolov7pytorch/valid/labels/._SEV_22_3597_jpg.rf.ffe3f20cfe2e60805bf22eb1188b9624.txt  \n",
            "  inflating: +_648_640_640_label_ceo.v1i.yolov7pytorch/valid/labels/images-2022-04-07T063534-336_jpeg_jpg.rf.239ec49500cdeec67724404078f187d7.txt  \n",
            "  inflating: __MACOSX/+_648_640_640_label_ceo.v1i.yolov7pytorch/valid/labels/._images-2022-04-07T063534-336_jpeg_jpg.rf.239ec49500cdeec67724404078f187d7.txt  \n",
            "  inflating: +_648_640_640_label_ceo.v1i.yolov7pytorch/valid/labels/IMG_2392_PNG_jpg.rf.5fd88272026772bf760e6322e432fdc9.txt  \n",
            "  inflating: __MACOSX/+_648_640_640_label_ceo.v1i.yolov7pytorch/valid/labels/._IMG_2392_PNG_jpg.rf.5fd88272026772bf760e6322e432fdc9.txt  \n",
            "  inflating: +_648_640_640_label_ceo.v1i.yolov7pytorch/valid/labels/SEEEEVERITY_100_jpg.rf.209e4ba46df58899bbb97f65795bb9e0.txt  \n",
            "  inflating: __MACOSX/+_648_640_640_label_ceo.v1i.yolov7pytorch/valid/labels/._SEEEEVERITY_100_jpg.rf.209e4ba46df58899bbb97f65795bb9e0.txt  \n",
            "  inflating: +_648_640_640_label_ceo.v1i.yolov7pytorch/valid/labels/SEV_22_2638_jpg.rf.28947a7a2da0a7ca73a5d4f9bead8368.txt  \n",
            "  inflating: __MACOSX/+_648_640_640_label_ceo.v1i.yolov7pytorch/valid/labels/._SEV_22_2638_jpg.rf.28947a7a2da0a7ca73a5d4f9bead8368.txt  \n",
            "  inflating: +_648_640_640_label_ceo.v1i.yolov7pytorch/valid/labels/SEV_22_3448_jpg.rf.e7aab28eff54112b37696bac97d0ac6b.txt  \n",
            "  inflating: __MACOSX/+_648_640_640_label_ceo.v1i.yolov7pytorch/valid/labels/._SEV_22_3448_jpg.rf.e7aab28eff54112b37696bac97d0ac6b.txt  \n",
            "  inflating: +_648_640_640_label_ceo.v1i.yolov7pytorch/valid/labels/trafficseverity_img360_jpg.rf.1fd596fa3cb4575faea24c93c497994a.txt  \n",
            "  inflating: __MACOSX/+_648_640_640_label_ceo.v1i.yolov7pytorch/valid/labels/._trafficseverity_img360_jpg.rf.1fd596fa3cb4575faea24c93c497994a.txt  \n",
            "  inflating: +_648_640_640_label_ceo.v1i.yolov7pytorch/valid/labels/trafficseverity_img5113_jpg.rf.0b61e572ce4f0e2ce1286c4affd73405.txt  \n",
            "  inflating: __MACOSX/+_648_640_640_label_ceo.v1i.yolov7pytorch/valid/labels/._trafficseverity_img5113_jpg.rf.0b61e572ce4f0e2ce1286c4affd73405.txt  \n",
            "  inflating: +_648_640_640_label_ceo.v1i.yolov7pytorch/valid/labels/Screen-Shot-2022-04-08-at-7-27-37-AM_png_jpg.rf.715d88b1d639f458d317f1b67a72682a.txt  \n",
            "  inflating: __MACOSX/+_648_640_640_label_ceo.v1i.yolov7pytorch/valid/labels/._Screen-Shot-2022-04-08-at-7-27-37-AM_png_jpg.rf.715d88b1d639f458d317f1b67a72682a.txt  \n",
            "  inflating: +_648_640_640_label_ceo.v1i.yolov7pytorch/valid/labels/1107_jpeg_jpg.rf.1a9ae99982255fac6c6a7da1af6d5486.txt  \n",
            "  inflating: __MACOSX/+_648_640_640_label_ceo.v1i.yolov7pytorch/valid/labels/._1107_jpeg_jpg.rf.1a9ae99982255fac6c6a7da1af6d5486.txt  \n",
            "  inflating: +_648_640_640_label_ceo.v1i.yolov7pytorch/valid/labels/SEV_V8_Img_129_jpg.rf.8b388b4a93096ad08d9fcc87863e7986.txt  \n",
            "  inflating: __MACOSX/+_648_640_640_label_ceo.v1i.yolov7pytorch/valid/labels/._SEV_V8_Img_129_jpg.rf.8b388b4a93096ad08d9fcc87863e7986.txt  \n",
            "  inflating: +_648_640_640_label_ceo.v1i.yolov7pytorch/valid/labels/severity_V140_jpg.rf.094f9ca6bad6c2a6aafc3105dca9133a.txt  \n",
            "  inflating: __MACOSX/+_648_640_640_label_ceo.v1i.yolov7pytorch/valid/labels/._severity_V140_jpg.rf.094f9ca6bad6c2a6aafc3105dca9133a.txt  \n",
            "  inflating: +_648_640_640_label_ceo.v1i.yolov7pytorch/valid/labels/trafficseverity_img1304_jpg.rf.f3193070f4db6b7140e27ea15a9419f5.txt  \n",
            "  inflating: __MACOSX/+_648_640_640_label_ceo.v1i.yolov7pytorch/valid/labels/._trafficseverity_img1304_jpg.rf.f3193070f4db6b7140e27ea15a9419f5.txt  \n",
            "  inflating: +_648_640_640_label_ceo.v1i.yolov7pytorch/valid/labels/Screen-Shot-2022-04-06-at-3-48-51-AM_png_jpg.rf.298b7349e1d79f1a0094895625050211.txt  \n",
            "  inflating: __MACOSX/+_648_640_640_label_ceo.v1i.yolov7pytorch/valid/labels/._Screen-Shot-2022-04-06-at-3-48-51-AM_png_jpg.rf.298b7349e1d79f1a0094895625050211.txt  \n",
            "  inflating: +_648_640_640_label_ceo.v1i.yolov7pytorch/valid/labels/trafficseverity_img342_jpg.rf.2a23c48a012d90a4cae967093a468b03.txt  \n",
            "  inflating: __MACOSX/+_648_640_640_label_ceo.v1i.yolov7pytorch/valid/labels/._trafficseverity_img342_jpg.rf.2a23c48a012d90a4cae967093a468b03.txt  \n",
            "  inflating: +_648_640_640_label_ceo.v1i.yolov7pytorch/valid/labels/IMG_2046_PNG_jpg.rf.400d4d3f3a14f2592d4b36ed367a5dd8.txt  \n",
            "  inflating: __MACOSX/+_648_640_640_label_ceo.v1i.yolov7pytorch/valid/labels/._IMG_2046_PNG_jpg.rf.400d4d3f3a14f2592d4b36ed367a5dd8.txt  \n",
            "  inflating: +_648_640_640_label_ceo.v1i.yolov7pytorch/valid/labels/images-33-_jpeg_jpg.rf.de5f4d0a90d81f52b8428439aa5e4660.txt  \n",
            "  inflating: __MACOSX/+_648_640_640_label_ceo.v1i.yolov7pytorch/valid/labels/._images-33-_jpeg_jpg.rf.de5f4d0a90d81f52b8428439aa5e4660.txt  \n",
            "  inflating: +_648_640_640_label_ceo.v1i.yolov7pytorch/valid/labels/trafficseverity_img2908_jpg.rf.a669e494d0c7d760284ab5ef0c54ee77.txt  \n",
            "  inflating: __MACOSX/+_648_640_640_label_ceo.v1i.yolov7pytorch/valid/labels/._trafficseverity_img2908_jpg.rf.a669e494d0c7d760284ab5ef0c54ee77.txt  \n",
            "  inflating: +_648_640_640_label_ceo.v1i.yolov7pytorch/valid/labels/SEV_22_1573_jpg.rf.f2678db94afbbad47b072347adb6da75.txt  \n",
            "  inflating: __MACOSX/+_648_640_640_label_ceo.v1i.yolov7pytorch/valid/labels/._SEV_22_1573_jpg.rf.f2678db94afbbad47b072347adb6da75.txt  \n",
            "  inflating: +_648_640_640_label_ceo.v1i.yolov7pytorch/valid/labels/trafficseverity_img543_jpg.rf.8af99474fd329933e6e2b57275d20047.txt  \n",
            "  inflating: __MACOSX/+_648_640_640_label_ceo.v1i.yolov7pytorch/valid/labels/._trafficseverity_img543_jpg.rf.8af99474fd329933e6e2b57275d20047.txt  \n",
            "  inflating: +_648_640_640_label_ceo.v1i.yolov7pytorch/valid/labels/SEEEEVERITY_105_jpg.rf.a2e0a02bb44ef313579162361c74fa91.txt  \n",
            "  inflating: __MACOSX/+_648_640_640_label_ceo.v1i.yolov7pytorch/valid/labels/._SEEEEVERITY_105_jpg.rf.a2e0a02bb44ef313579162361c74fa91.txt  \n",
            "  inflating: +_648_640_640_label_ceo.v1i.yolov7pytorch/valid/labels/trafficseverity_img851_jpg.rf.3a4ea4b004e2bfff12a9b9158abaf273.txt  \n",
            "  inflating: __MACOSX/+_648_640_640_label_ceo.v1i.yolov7pytorch/valid/labels/._trafficseverity_img851_jpg.rf.3a4ea4b004e2bfff12a9b9158abaf273.txt  \n",
            "  inflating: +_648_640_640_label_ceo.v1i.yolov7pytorch/valid/labels/images-13_jpg.rf.00664d5438d104119ae18bfdc5b2621a.txt  \n",
            "  inflating: __MACOSX/+_648_640_640_label_ceo.v1i.yolov7pytorch/valid/labels/._images-13_jpg.rf.00664d5438d104119ae18bfdc5b2621a.txt  \n",
            "  inflating: +_648_640_640_label_ceo.v1i.yolov7pytorch/valid/labels/FLIP_CAR_V166_jpg.rf.b3a5b7fd102554f39ffb4264e3eaa8cc.txt  \n",
            "  inflating: __MACOSX/+_648_640_640_label_ceo.v1i.yolov7pytorch/valid/labels/._FLIP_CAR_V166_jpg.rf.b3a5b7fd102554f39ffb4264e3eaa8cc.txt  \n",
            "  inflating: +_648_640_640_label_ceo.v1i.yolov7pytorch/valid/labels/IMG_2594_PNG_jpg.rf.cd2b8ba7b8fa54aa11f2cfbb9dec5731.txt  \n",
            "  inflating: __MACOSX/+_648_640_640_label_ceo.v1i.yolov7pytorch/valid/labels/._IMG_2594_PNG_jpg.rf.cd2b8ba7b8fa54aa11f2cfbb9dec5731.txt  \n",
            "  inflating: +_648_640_640_label_ceo.v1i.yolov7pytorch/valid/labels/Accident_Img_1704_jpg.rf.016d6b09461f6b6214666a47d54bd23a.txt  \n",
            "  inflating: __MACOSX/+_648_640_640_label_ceo.v1i.yolov7pytorch/valid/labels/._Accident_Img_1704_jpg.rf.016d6b09461f6b6214666a47d54bd23a.txt  \n",
            "  inflating: +_648_640_640_label_ceo.v1i.yolov7pytorch/valid/labels/severityV3_33_jpeg_jpg.rf.c09d9b2e1b7f13078d3706d8476f40ad.txt  \n",
            "  inflating: __MACOSX/+_648_640_640_label_ceo.v1i.yolov7pytorch/valid/labels/._severityV3_33_jpeg_jpg.rf.c09d9b2e1b7f13078d3706d8476f40ad.txt  \n",
            "  inflating: +_648_640_640_label_ceo.v1i.yolov7pytorch/valid/labels/SEV_22_1442_jpg.rf.91baddfedb806886281698c1cf865ab1.txt  \n",
            "  inflating: __MACOSX/+_648_640_640_label_ceo.v1i.yolov7pytorch/valid/labels/._SEV_22_1442_jpg.rf.91baddfedb806886281698c1cf865ab1.txt  \n",
            "  inflating: +_648_640_640_label_ceo.v1i.yolov7pytorch/valid/labels/IMG_2176_JPG_jpg.rf.3051d0b7fde7686c6596213e3bdd9016.txt  \n",
            "  inflating: __MACOSX/+_648_640_640_label_ceo.v1i.yolov7pytorch/valid/labels/._IMG_2176_JPG_jpg.rf.3051d0b7fde7686c6596213e3bdd9016.txt  \n",
            "  inflating: +_648_640_640_label_ceo.v1i.yolov7pytorch/valid/labels/SEEEEVERITY_14_jpg.rf.32dcc5b3237fd1aff214d8d5751d7d01.txt  \n",
            "  inflating: __MACOSX/+_648_640_640_label_ceo.v1i.yolov7pytorch/valid/labels/._SEEEEVERITY_14_jpg.rf.32dcc5b3237fd1aff214d8d5751d7d01.txt  \n",
            "  inflating: +_648_640_640_label_ceo.v1i.yolov7pytorch/valid/labels/SEEEEVERITY_60_jpg.rf.21664b1798549be3b8dde22e06cd066a.txt  \n",
            "  inflating: __MACOSX/+_648_640_640_label_ceo.v1i.yolov7pytorch/valid/labels/._SEEEEVERITY_60_jpg.rf.21664b1798549be3b8dde22e06cd066a.txt  \n",
            "  inflating: +_648_640_640_label_ceo.v1i.yolov7pytorch/valid/labels/SEV_V8_Img_12_jpg.rf.6f36517a9f5e8e44c597252da03ad33c.txt  \n",
            "  inflating: __MACOSX/+_648_640_640_label_ceo.v1i.yolov7pytorch/valid/labels/._SEV_V8_Img_12_jpg.rf.6f36517a9f5e8e44c597252da03ad33c.txt  \n",
            "  inflating: +_648_640_640_label_ceo.v1i.yolov7pytorch/valid/labels/trafficseverity_img5567_jpg.rf.1404221a817bde330f80358a34b1cd2d.txt  \n",
            "  inflating: __MACOSX/+_648_640_640_label_ceo.v1i.yolov7pytorch/valid/labels/._trafficseverity_img5567_jpg.rf.1404221a817bde330f80358a34b1cd2d.txt  \n",
            "  inflating: +_648_640_640_label_ceo.v1i.yolov7pytorch/valid/labels/traffic_img189_jpg.rf.3e1b118ce74d8f05d5c41cc1b1d6788b.txt  \n",
            "  inflating: __MACOSX/+_648_640_640_label_ceo.v1i.yolov7pytorch/valid/labels/._traffic_img189_jpg.rf.3e1b118ce74d8f05d5c41cc1b1d6788b.txt  \n",
            "  inflating: +_648_640_640_label_ceo.v1i.yolov7pytorch/valid/labels/traffic_img2217_jpg.rf.0041b10405f5ae26cb7964052f1a7c6d.txt  \n",
            "  inflating: __MACOSX/+_648_640_640_label_ceo.v1i.yolov7pytorch/valid/labels/._traffic_img2217_jpg.rf.0041b10405f5ae26cb7964052f1a7c6d.txt  \n",
            "  inflating: +_648_640_640_label_ceo.v1i.yolov7pytorch/valid/labels/accidentFrame252_jpg.rf.743b4a8bafd5278fc03ba9b485ac1da7.txt  \n",
            "  inflating: __MACOSX/+_648_640_640_label_ceo.v1i.yolov7pytorch/valid/labels/._accidentFrame252_jpg.rf.743b4a8bafd5278fc03ba9b485ac1da7.txt  \n",
            "  inflating: +_648_640_640_label_ceo.v1i.yolov7pytorch/valid/labels/Screen-Shot-2022-04-07-at-7-42-37-PM_png_jpg.rf.0ee65e156dfc308a5a4f9a1cd828a7ea.txt  \n",
            "  inflating: __MACOSX/+_648_640_640_label_ceo.v1i.yolov7pytorch/valid/labels/._Screen-Shot-2022-04-07-at-7-42-37-PM_png_jpg.rf.0ee65e156dfc308a5a4f9a1cd828a7ea.txt  \n",
            "  inflating: +_648_640_640_label_ceo.v1i.yolov7pytorch/valid/labels/SEVERITY_V10_110_jpg.rf.6404f0706c47435c0dca97408e2da20b.txt  \n",
            "  inflating: __MACOSX/+_648_640_640_label_ceo.v1i.yolov7pytorch/valid/labels/._SEVERITY_V10_110_jpg.rf.6404f0706c47435c0dca97408e2da20b.txt  \n",
            "  inflating: +_648_640_640_label_ceo.v1i.yolov7pytorch/valid/labels/AD1_jpeg_jpg.rf.36f6614dd1285519562382d7fa8dee54.txt  \n",
            "  inflating: __MACOSX/+_648_640_640_label_ceo.v1i.yolov7pytorch/valid/labels/._AD1_jpeg_jpg.rf.36f6614dd1285519562382d7fa8dee54.txt  \n",
            "  inflating: +_648_640_640_label_ceo.v1i.yolov7pytorch/valid/labels/IMG_2032_PNG_jpg.rf.48c156378243e75c6ec82cbaf41c19e6.txt  \n",
            "  inflating: __MACOSX/+_648_640_640_label_ceo.v1i.yolov7pytorch/valid/labels/._IMG_2032_PNG_jpg.rf.48c156378243e75c6ec82cbaf41c19e6.txt  \n",
            "  inflating: +_648_640_640_label_ceo.v1i.yolov7pytorch/valid/labels/IMG_1464_PNG_jpg.rf.19cb8ef9f4a7438bf46da9d8c8d49c31.txt  \n",
            "  inflating: __MACOSX/+_648_640_640_label_ceo.v1i.yolov7pytorch/valid/labels/._IMG_1464_PNG_jpg.rf.19cb8ef9f4a7438bf46da9d8c8d49c31.txt  \n",
            "  inflating: +_648_640_640_label_ceo.v1i.yolov7pytorch/valid/labels/IMG_1954_PNG_jpg.rf.b8e3b466584992bbe9220c1abc64e268.txt  \n",
            "  inflating: __MACOSX/+_648_640_640_label_ceo.v1i.yolov7pytorch/valid/labels/._IMG_1954_PNG_jpg.rf.b8e3b466584992bbe9220c1abc64e268.txt  \n",
            "  inflating: +_648_640_640_label_ceo.v1i.yolov7pytorch/valid/labels/severityV4_50_jpg.rf.163cc746a94406c5cdfa987728de128f.txt  \n",
            "  inflating: __MACOSX/+_648_640_640_label_ceo.v1i.yolov7pytorch/valid/labels/._severityV4_50_jpg.rf.163cc746a94406c5cdfa987728de128f.txt  \n",
            "  inflating: +_648_640_640_label_ceo.v1i.yolov7pytorch/valid/labels/SEEEEVERITY_72_jpg.rf.b367220ea3bdd438b96990d92bf30ed1.txt  \n",
            "  inflating: __MACOSX/+_648_640_640_label_ceo.v1i.yolov7pytorch/valid/labels/._SEEEEVERITY_72_jpg.rf.b367220ea3bdd438b96990d92bf30ed1.txt  \n",
            "  inflating: +_648_640_640_label_ceo.v1i.yolov7pytorch/valid/labels/SEVERITY_DATA_27_jpg.rf.13e02feaeefea3bc0258662f3563f76a.txt  \n",
            "  inflating: __MACOSX/+_648_640_640_label_ceo.v1i.yolov7pytorch/valid/labels/._SEVERITY_DATA_27_jpg.rf.13e02feaeefea3bc0258662f3563f76a.txt  \n",
            "  inflating: +_648_640_640_label_ceo.v1i.yolov7pytorch/valid/labels/SEEEEVERITY_216_jpg.rf.e8310168d73fd8db74ca0cb1fb068678.txt  \n",
            "  inflating: __MACOSX/+_648_640_640_label_ceo.v1i.yolov7pytorch/valid/labels/._SEEEEVERITY_216_jpg.rf.e8310168d73fd8db74ca0cb1fb068678.txt  \n",
            "  inflating: +_648_640_640_label_ceo.v1i.yolov7pytorch/valid/labels/accidentFrame495_jpg.rf.25baf739a95e124061b4adcd41c0f113.txt  \n",
            "  inflating: __MACOSX/+_648_640_640_label_ceo.v1i.yolov7pytorch/valid/labels/._accidentFrame495_jpg.rf.25baf739a95e124061b4adcd41c0f113.txt  \n",
            "  inflating: +_648_640_640_label_ceo.v1i.yolov7pytorch/valid/labels/Screen-Shot-2022-04-08-at-6-20-23-AM_png_jpg.rf.279cf2e6ed13b705324a4f79c72e70ed.txt  \n",
            "  inflating: __MACOSX/+_648_640_640_label_ceo.v1i.yolov7pytorch/valid/labels/._Screen-Shot-2022-04-08-at-6-20-23-AM_png_jpg.rf.279cf2e6ed13b705324a4f79c72e70ed.txt  \n",
            "  inflating: +_648_640_640_label_ceo.v1i.yolov7pytorch/valid/labels/IMG_2199_PNG_jpg.rf.1f3c50fb75131db8587195bcdafbd725.txt  \n",
            "  inflating: __MACOSX/+_648_640_640_label_ceo.v1i.yolov7pytorch/valid/labels/._IMG_2199_PNG_jpg.rf.1f3c50fb75131db8587195bcdafbd725.txt  \n",
            "  inflating: +_648_640_640_label_ceo.v1i.yolov7pytorch/valid/labels/EXTREME-CAR-CRASH-1-HOUR-COMPILATION-BIGGEST-CAR-CRASHES-1_i_frame_43136_jpg.rf.60fc39b21720650b2cb88c03b86c75c9.txt  \n",
            "  inflating: __MACOSX/+_648_640_640_label_ceo.v1i.yolov7pytorch/valid/labels/._EXTREME-CAR-CRASH-1-HOUR-COMPILATION-BIGGEST-CAR-CRASHES-1_i_frame_43136_jpg.rf.60fc39b21720650b2cb88c03b86c75c9.txt  \n",
            "  inflating: +_648_640_640_label_ceo.v1i.yolov7pytorch/valid/labels/SEVERITY_V13_46_jpg.rf.cea5a0f8315870f409d91dec7bc48f1f.txt  \n",
            "  inflating: __MACOSX/+_648_640_640_label_ceo.v1i.yolov7pytorch/valid/labels/._SEVERITY_V13_46_jpg.rf.cea5a0f8315870f409d91dec7bc48f1f.txt  \n",
            "  inflating: +_648_640_640_label_ceo.v1i.yolov7pytorch/valid/labels/SEV_V8_Img_84_jpg.rf.c73daa577db173e2850cea5b888fd210.txt  \n",
            "  inflating: __MACOSX/+_648_640_640_label_ceo.v1i.yolov7pytorch/valid/labels/._SEV_V8_Img_84_jpg.rf.c73daa577db173e2850cea5b888fd210.txt  \n",
            "  inflating: +_648_640_640_label_ceo.v1i.yolov7pytorch/valid/labels/SEV_22_2900_jpg.rf.6c684b3eae6100095ae6a535e85dcfa1.txt  \n",
            "  inflating: __MACOSX/+_648_640_640_label_ceo.v1i.yolov7pytorch/valid/labels/._SEV_22_2900_jpg.rf.6c684b3eae6100095ae6a535e85dcfa1.txt  \n",
            "  inflating: +_648_640_640_label_ceo.v1i.yolov7pytorch/valid/labels/trafficseverity_img637_jpg.rf.c2a84c19a3d50db7b781d8f8ae0d6f1a.txt  \n",
            "  inflating: __MACOSX/+_648_640_640_label_ceo.v1i.yolov7pytorch/valid/labels/._trafficseverity_img637_jpg.rf.c2a84c19a3d50db7b781d8f8ae0d6f1a.txt  \n",
            "  inflating: +_648_640_640_label_ceo.v1i.yolov7pytorch/valid/labels/IMG_2382_PNG_jpg.rf.b488ac040f85a3fbdeede931ed3e1b04.txt  \n",
            "  inflating: __MACOSX/+_648_640_640_label_ceo.v1i.yolov7pytorch/valid/labels/._IMG_2382_PNG_jpg.rf.b488ac040f85a3fbdeede931ed3e1b04.txt  \n",
            "  inflating: +_648_640_640_label_ceo.v1i.yolov7pytorch/valid/labels/traffic_img4444_jpg.rf.93e52e3933a624b5c0fc509b226506a3.txt  \n",
            "  inflating: __MACOSX/+_648_640_640_label_ceo.v1i.yolov7pytorch/valid/labels/._traffic_img4444_jpg.rf.93e52e3933a624b5c0fc509b226506a3.txt  \n",
            "  inflating: +_648_640_640_label_ceo.v1i.yolov7pytorch/valid/labels/accidentFrame7982_jpg.rf.bc424ec5d3f0712286f4da9dc2d07570.txt  \n",
            "  inflating: __MACOSX/+_648_640_640_label_ceo.v1i.yolov7pytorch/valid/labels/._accidentFrame7982_jpg.rf.bc424ec5d3f0712286f4da9dc2d07570.txt  \n",
            "  inflating: +_648_640_640_label_ceo.v1i.yolov7pytorch/valid/labels/Semi-RealisticVD-31_jpg.rf.c9277def87820d9acddc7f6a492431c9.txt  \n",
            "  inflating: __MACOSX/+_648_640_640_label_ceo.v1i.yolov7pytorch/valid/labels/._Semi-RealisticVD-31_jpg.rf.c9277def87820d9acddc7f6a492431c9.txt  \n",
            "  inflating: +_648_640_640_label_ceo.v1i.yolov7pytorch/valid/labels/trafficseverity_img2956_jpg.rf.115bb79c9875528c6f8b9d267043b9c8.txt  \n",
            "  inflating: __MACOSX/+_648_640_640_label_ceo.v1i.yolov7pytorch/valid/labels/._trafficseverity_img2956_jpg.rf.115bb79c9875528c6f8b9d267043b9c8.txt  \n",
            "  inflating: +_648_640_640_label_ceo.v1i.yolov7pytorch/valid/labels/IMG_1571_PNG_jpg.rf.b534dc357a22ad0d3c00e9a29d877dba.txt  \n",
            "  inflating: __MACOSX/+_648_640_640_label_ceo.v1i.yolov7pytorch/valid/labels/._IMG_1571_PNG_jpg.rf.b534dc357a22ad0d3c00e9a29d877dba.txt  \n",
            "  inflating: +_648_640_640_label_ceo.v1i.yolov7pytorch/valid/labels/SEV_V8_Img_45_jpg.rf.5c78239732b39cf3e773c98bf48c31ec.txt  \n",
            "  inflating: __MACOSX/+_648_640_640_label_ceo.v1i.yolov7pytorch/valid/labels/._SEV_V8_Img_45_jpg.rf.5c78239732b39cf3e773c98bf48c31ec.txt  \n",
            "  inflating: +_648_640_640_label_ceo.v1i.yolov7pytorch/valid/labels/SEV_22_2856_jpg.rf.a19aa76706bd9c9e8f265113375ecc42.txt  \n",
            "  inflating: __MACOSX/+_648_640_640_label_ceo.v1i.yolov7pytorch/valid/labels/._SEV_22_2856_jpg.rf.a19aa76706bd9c9e8f265113375ecc42.txt  \n",
            "  inflating: +_648_640_640_label_ceo.v1i.yolov7pytorch/valid/labels/severityV4_51_jpg.rf.446bb328406fd35c2143331fe6f457ce.txt  \n",
            "  inflating: __MACOSX/+_648_640_640_label_ceo.v1i.yolov7pytorch/valid/labels/._severityV4_51_jpg.rf.446bb328406fd35c2143331fe6f457ce.txt  \n",
            "  inflating: +_648_640_640_label_ceo.v1i.yolov7pytorch/valid/labels/images-19-_jpeg_jpg.rf.154e0a8df288b44d567e5d6f7c4876c3.txt  \n",
            "  inflating: __MACOSX/+_648_640_640_label_ceo.v1i.yolov7pytorch/valid/labels/._images-19-_jpeg_jpg.rf.154e0a8df288b44d567e5d6f7c4876c3.txt  \n",
            "  inflating: +_648_640_640_label_ceo.v1i.yolov7pytorch/valid/labels/sever9_jpg.rf.2559df51039e4cd9a66fa09804e25f73.txt  \n",
            "  inflating: __MACOSX/+_648_640_640_label_ceo.v1i.yolov7pytorch/valid/labels/._sever9_jpg.rf.2559df51039e4cd9a66fa09804e25f73.txt  \n",
            "  inflating: +_648_640_640_label_ceo.v1i.yolov7pytorch/valid/labels/SEV_22_1377_jpg.rf.a69c4b3c36ed4c0477b2f75081a2bac1.txt  \n",
            "  inflating: __MACOSX/+_648_640_640_label_ceo.v1i.yolov7pytorch/valid/labels/._SEV_22_1377_jpg.rf.a69c4b3c36ed4c0477b2f75081a2bac1.txt  \n",
            "  inflating: +_648_640_640_label_ceo.v1i.yolov7pytorch/valid/labels/SEEEEVERITY_213_jpg.rf.4e0c9276eb8e755646ef5e31d72417dd.txt  \n",
            "  inflating: __MACOSX/+_648_640_640_label_ceo.v1i.yolov7pytorch/valid/labels/._SEEEEVERITY_213_jpg.rf.4e0c9276eb8e755646ef5e31d72417dd.txt  \n",
            "  inflating: +_648_640_640_label_ceo.v1i.yolov7pytorch/valid/labels/IMG_2359_PNG_jpg.rf.63c77770c278b7f85b67b1504560a29c.txt  \n",
            "  inflating: __MACOSX/+_648_640_640_label_ceo.v1i.yolov7pytorch/valid/labels/._IMG_2359_PNG_jpg.rf.63c77770c278b7f85b67b1504560a29c.txt  \n",
            "  inflating: +_648_640_640_label_ceo.v1i.yolov7pytorch/valid/labels/Screen-Shot-2022-04-08-at-7-26-58-AM_png_jpg.rf.9537e93e379dd82a95f4fd59edfdc0b3.txt  \n",
            "  inflating: __MACOSX/+_648_640_640_label_ceo.v1i.yolov7pytorch/valid/labels/._Screen-Shot-2022-04-08-at-7-26-58-AM_png_jpg.rf.9537e93e379dd82a95f4fd59edfdc0b3.txt  \n",
            "  inflating: +_648_640_640_label_ceo.v1i.yolov7pytorch/valid/labels/Screen-Shot-2022-04-07-at-7-46-25-PM_png_jpg.rf.a4605596cc111f67cd2f9812ec0d7cca.txt  \n",
            "  inflating: __MACOSX/+_648_640_640_label_ceo.v1i.yolov7pytorch/valid/labels/._Screen-Shot-2022-04-07-at-7-46-25-PM_png_jpg.rf.a4605596cc111f67cd2f9812ec0d7cca.txt  \n",
            "  inflating: +_648_640_640_label_ceo.v1i.yolov7pytorch/valid/labels/traffic_img14_jpg.rf.a763040b90500b89687a78c57f304219.txt  \n",
            "  inflating: __MACOSX/+_648_640_640_label_ceo.v1i.yolov7pytorch/valid/labels/._traffic_img14_jpg.rf.a763040b90500b89687a78c57f304219.txt  \n",
            "  inflating: +_648_640_640_label_ceo.v1i.yolov7pytorch/valid/labels/SEV_V8_Img_26_jpg.rf.9d252e0b04a95751df31fe8017adef5c.txt  \n",
            "  inflating: __MACOSX/+_648_640_640_label_ceo.v1i.yolov7pytorch/valid/labels/._SEV_V8_Img_26_jpg.rf.9d252e0b04a95751df31fe8017adef5c.txt  \n",
            "  inflating: +_648_640_640_label_ceo.v1i.yolov7pytorch/valid/labels/SEV_22_2898_jpg.rf.dbc4c4cf25fee8459749d183027d825f.txt  \n",
            "  inflating: __MACOSX/+_648_640_640_label_ceo.v1i.yolov7pytorch/valid/labels/._SEV_22_2898_jpg.rf.dbc4c4cf25fee8459749d183027d825f.txt  \n",
            "  inflating: +_648_640_640_label_ceo.v1i.yolov7pytorch/valid/labels/SEV_22_3772_jpg.rf.75f9145bbea45f1b3eee2f7e0cee37df.txt  \n",
            "  inflating: __MACOSX/+_648_640_640_label_ceo.v1i.yolov7pytorch/valid/labels/._SEV_22_3772_jpg.rf.75f9145bbea45f1b3eee2f7e0cee37df.txt  \n",
            "  inflating: +_648_640_640_label_ceo.v1i.yolov7pytorch/valid/labels/traffic_img2577_jpg.rf.47eaedeb74a082f2c38974f7c2dbedd8.txt  \n",
            "  inflating: __MACOSX/+_648_640_640_label_ceo.v1i.yolov7pytorch/valid/labels/._traffic_img2577_jpg.rf.47eaedeb74a082f2c38974f7c2dbedd8.txt  \n",
            "  inflating: +_648_640_640_label_ceo.v1i.yolov7pytorch/valid/labels/traffic_img501_jpg.rf.c203154ba60cbaee6e9086d70f5fb217.txt  \n",
            "  inflating: __MACOSX/+_648_640_640_label_ceo.v1i.yolov7pytorch/valid/labels/._traffic_img501_jpg.rf.c203154ba60cbaee6e9086d70f5fb217.txt  \n",
            "  inflating: +_648_640_640_label_ceo.v1i.yolov7pytorch/valid/labels/download-9-_jpeg_jpg.rf.db9ba4a43e5d046bae2c9360800c9d04.txt  \n",
            "  inflating: __MACOSX/+_648_640_640_label_ceo.v1i.yolov7pytorch/valid/labels/._download-9-_jpeg_jpg.rf.db9ba4a43e5d046bae2c9360800c9d04.txt  \n",
            "  inflating: +_648_640_640_label_ceo.v1i.yolov7pytorch/valid/labels/Screen-Shot-2022-04-07-at-8-54-21-PM_png_jpg.rf.fa253b3447021881855f759198224ffe.txt  \n",
            "  inflating: __MACOSX/+_648_640_640_label_ceo.v1i.yolov7pytorch/valid/labels/._Screen-Shot-2022-04-07-at-8-54-21-PM_png_jpg.rf.fa253b3447021881855f759198224ffe.txt  \n",
            "  inflating: +_648_640_640_label_ceo.v1i.yolov7pytorch/valid/labels/IMG_2436_PNG_jpg.rf.6893063e204a05ecf47f0cf6040ee531.txt  \n",
            "  inflating: __MACOSX/+_648_640_640_label_ceo.v1i.yolov7pytorch/valid/labels/._IMG_2436_PNG_jpg.rf.6893063e204a05ecf47f0cf6040ee531.txt  \n",
            "  inflating: +_648_640_640_label_ceo.v1i.yolov7pytorch/valid/labels/trafficseverity_img2186_jpg.rf.1d4b6c1b67a6c4be79ef81b2c7f32393.txt  \n",
            "  inflating: __MACOSX/+_648_640_640_label_ceo.v1i.yolov7pytorch/valid/labels/._trafficseverity_img2186_jpg.rf.1d4b6c1b67a6c4be79ef81b2c7f32393.txt  \n",
            "  inflating: +_648_640_640_label_ceo.v1i.yolov7pytorch/valid/labels/trafficseverity_img3161_jpg.rf.c739c6d99ea14e19c77d86cdd709d8b9.txt  \n",
            "  inflating: __MACOSX/+_648_640_640_label_ceo.v1i.yolov7pytorch/valid/labels/._trafficseverity_img3161_jpg.rf.c739c6d99ea14e19c77d86cdd709d8b9.txt  \n",
            "  inflating: +_648_640_640_label_ceo.v1i.yolov7pytorch/valid/labels/accidentFrame2402_jpg.rf.8e4fb2da961b77c4b796d2e37bd0a6ed.txt  \n",
            "  inflating: __MACOSX/+_648_640_640_label_ceo.v1i.yolov7pytorch/valid/labels/._accidentFrame2402_jpg.rf.8e4fb2da961b77c4b796d2e37bd0a6ed.txt  \n",
            "  inflating: +_648_640_640_label_ceo.v1i.yolov7pytorch/valid/labels/SEV_V8_Img_33_jpg.rf.9f760a5220bca5075135dca05f65fabc.txt  \n",
            "  inflating: __MACOSX/+_648_640_640_label_ceo.v1i.yolov7pytorch/valid/labels/._SEV_V8_Img_33_jpg.rf.9f760a5220bca5075135dca05f65fabc.txt  \n",
            "  inflating: +_648_640_640_label_ceo.v1i.yolov7pytorch/valid/labels/images-7_jpg.rf.3de5afd2c86993622782f21b69ae0a11.txt  \n",
            "  inflating: __MACOSX/+_648_640_640_label_ceo.v1i.yolov7pytorch/valid/labels/._images-7_jpg.rf.3de5afd2c86993622782f21b69ae0a11.txt  \n",
            "  inflating: +_648_640_640_label_ceo.v1i.yolov7pytorch/valid/labels/SEV_22_139_jpg.rf.0633a9eb31f0a57f9d40f7a4f7190722.txt  \n",
            "  inflating: __MACOSX/+_648_640_640_label_ceo.v1i.yolov7pytorch/valid/labels/._SEV_22_139_jpg.rf.0633a9eb31f0a57f9d40f7a4f7190722.txt  \n",
            "  inflating: +_648_640_640_label_ceo.v1i.yolov7pytorch/valid/labels/traffic_img271_jpg.rf.9470b71e36fff719130397366f7f6d13.txt  \n",
            "  inflating: __MACOSX/+_648_640_640_label_ceo.v1i.yolov7pytorch/valid/labels/._traffic_img271_jpg.rf.9470b71e36fff719130397366f7f6d13.txt  \n",
            "  inflating: +_648_640_640_label_ceo.v1i.yolov7pytorch/valid/labels/IMG_2258_PNG_jpg.rf.f4d485eee3e77450afc1bd1ccf2d3740.txt  \n",
            "  inflating: __MACOSX/+_648_640_640_label_ceo.v1i.yolov7pytorch/valid/labels/._IMG_2258_PNG_jpg.rf.f4d485eee3e77450afc1bd1ccf2d3740.txt  \n",
            "  inflating: +_648_640_640_label_ceo.v1i.yolov7pytorch/valid/labels/SEEEEVERITY_259_jpg.rf.782a36de6ad5720ffe8705f9f1180c1d.txt  \n",
            "  inflating: __MACOSX/+_648_640_640_label_ceo.v1i.yolov7pytorch/valid/labels/._SEEEEVERITY_259_jpg.rf.782a36de6ad5720ffe8705f9f1180c1d.txt  \n",
            "  inflating: +_648_640_640_label_ceo.v1i.yolov7pytorch/valid/labels/trafficseverity_img1077_jpg.rf.d36adad2dbf24ddc5050ffdbff251f8a.txt  \n",
            "  inflating: __MACOSX/+_648_640_640_label_ceo.v1i.yolov7pytorch/valid/labels/._trafficseverity_img1077_jpg.rf.d36adad2dbf24ddc5050ffdbff251f8a.txt  \n",
            "  inflating: +_648_640_640_label_ceo.v1i.yolov7pytorch/valid/labels/buy3_jpg.rf.778b2f648441214823ccea7f9d46dd87.txt  \n",
            "  inflating: __MACOSX/+_648_640_640_label_ceo.v1i.yolov7pytorch/valid/labels/._buy3_jpg.rf.778b2f648441214823ccea7f9d46dd87.txt  \n",
            "  inflating: +_648_640_640_label_ceo.v1i.yolov7pytorch/valid/labels/Screen-Shot-2022-04-07-at-8-10-38-AM_png_jpg.rf.23bde1f121697ccf7f7003bc213cf092.txt  \n",
            "  inflating: __MACOSX/+_648_640_640_label_ceo.v1i.yolov7pytorch/valid/labels/._Screen-Shot-2022-04-07-at-8-10-38-AM_png_jpg.rf.23bde1f121697ccf7f7003bc213cf092.txt  \n",
            "  inflating: +_648_640_640_label_ceo.v1i.yolov7pytorch/valid/labels/SEVERITY_V10_125_jpg.rf.79a9c0bb2934705d3c6bcb4f142b2aa2.txt  \n",
            "  inflating: __MACOSX/+_648_640_640_label_ceo.v1i.yolov7pytorch/valid/labels/._SEVERITY_V10_125_jpg.rf.79a9c0bb2934705d3c6bcb4f142b2aa2.txt  \n",
            "  inflating: +_648_640_640_label_ceo.v1i.yolov7pytorch/valid/labels/accidentFrame10832_jpg.rf.7ab42676488b8ca39ebce4fd8b6e1b72.txt  \n",
            "  inflating: __MACOSX/+_648_640_640_label_ceo.v1i.yolov7pytorch/valid/labels/._accidentFrame10832_jpg.rf.7ab42676488b8ca39ebce4fd8b6e1b72.txt  \n",
            "  inflating: +_648_640_640_label_ceo.v1i.yolov7pytorch/valid/labels/Screen-Shot-2022-04-07-at-8-20-08-AM_png_jpg.rf.5f1d15b53767da6cc56b52d97ccfa13d.txt  \n",
            "  inflating: __MACOSX/+_648_640_640_label_ceo.v1i.yolov7pytorch/valid/labels/._Screen-Shot-2022-04-07-at-8-20-08-AM_png_jpg.rf.5f1d15b53767da6cc56b52d97ccfa13d.txt  \n",
            "  inflating: +_648_640_640_label_ceo.v1i.yolov7pytorch/valid/labels/SEEEEVERITY_32_jpg.rf.aafc96860f3e857a5d4bcbde348e6410.txt  \n",
            "  inflating: __MACOSX/+_648_640_640_label_ceo.v1i.yolov7pytorch/valid/labels/._SEEEEVERITY_32_jpg.rf.aafc96860f3e857a5d4bcbde348e6410.txt  \n",
            "  inflating: +_648_640_640_label_ceo.v1i.yolov7pytorch/valid/labels/Screen-Shot-2022-04-08-at-7-33-58-AM_png_jpg.rf.6fe362a356dd6029771c956bb4f6f3e3.txt  \n",
            "  inflating: __MACOSX/+_648_640_640_label_ceo.v1i.yolov7pytorch/valid/labels/._Screen-Shot-2022-04-08-at-7-33-58-AM_png_jpg.rf.6fe362a356dd6029771c956bb4f6f3e3.txt  \n",
            "  inflating: +_648_640_640_label_ceo.v1i.yolov7pytorch/valid/labels/IMG_2613_PNG_jpg.rf.f97c4d8f504bfb07d0fd3b74fa1bf495.txt  \n",
            "  inflating: __MACOSX/+_648_640_640_label_ceo.v1i.yolov7pytorch/valid/labels/._IMG_2613_PNG_jpg.rf.f97c4d8f504bfb07d0fd3b74fa1bf495.txt  \n",
            "  inflating: +_648_640_640_label_ceo.v1i.yolov7pytorch/valid/labels/trafficseverity_img1358_jpg.rf.26fdfd8b35d27818f522f5f8b91ba7ef.txt  \n",
            "  inflating: __MACOSX/+_648_640_640_label_ceo.v1i.yolov7pytorch/valid/labels/._trafficseverity_img1358_jpg.rf.26fdfd8b35d27818f522f5f8b91ba7ef.txt  \n",
            "  inflating: +_648_640_640_label_ceo.v1i.yolov7pytorch/valid/labels/971_jpeg_jpg.rf.03f52c1a77e487ed5ebe90f00e3898fe.txt  \n",
            "  inflating: __MACOSX/+_648_640_640_label_ceo.v1i.yolov7pytorch/valid/labels/._971_jpeg_jpg.rf.03f52c1a77e487ed5ebe90f00e3898fe.txt  \n",
            "  inflating: +_648_640_640_label_ceo.v1i.yolov7pytorch/valid/labels/images-2022-04-07T064827-961_jpeg_jpg.rf.9f54f6f77d489fb8707fca845778ae85.txt  \n",
            "  inflating: __MACOSX/+_648_640_640_label_ceo.v1i.yolov7pytorch/valid/labels/._images-2022-04-07T064827-961_jpeg_jpg.rf.9f54f6f77d489fb8707fca845778ae85.txt  \n",
            "  inflating: +_648_640_640_label_ceo.v1i.yolov7pytorch/valid/labels/trafficseverity_img1308_jpg.rf.871ce48b60fd73251d50a5f7bf9a71f7.txt  \n",
            "  inflating: __MACOSX/+_648_640_640_label_ceo.v1i.yolov7pytorch/valid/labels/._trafficseverity_img1308_jpg.rf.871ce48b60fd73251d50a5f7bf9a71f7.txt  \n",
            "  inflating: +_648_640_640_label_ceo.v1i.yolov7pytorch/valid/labels/SEVERITY_V10_102_jpg.rf.28b06e9dc9f1427ff6d3ee276de9a6b3.txt  \n",
            "  inflating: __MACOSX/+_648_640_640_label_ceo.v1i.yolov7pytorch/valid/labels/._SEVERITY_V10_102_jpg.rf.28b06e9dc9f1427ff6d3ee276de9a6b3.txt  \n",
            "  inflating: +_648_640_640_label_ceo.v1i.yolov7pytorch/valid/labels/trafficseverity_img1006_jpg.rf.a4fd7acaecfbfa97b594b01087031d11.txt  \n",
            "  inflating: __MACOSX/+_648_640_640_label_ceo.v1i.yolov7pytorch/valid/labels/._trafficseverity_img1006_jpg.rf.a4fd7acaecfbfa97b594b01087031d11.txt  \n",
            "  inflating: +_648_640_640_label_ceo.v1i.yolov7pytorch/valid/labels/SEV_V8_Img_42_jpg.rf.327b57dd85b73460fc5701eb728655c4.txt  \n",
            "  inflating: __MACOSX/+_648_640_640_label_ceo.v1i.yolov7pytorch/valid/labels/._SEV_V8_Img_42_jpg.rf.327b57dd85b73460fc5701eb728655c4.txt  \n",
            "  inflating: +_648_640_640_label_ceo.v1i.yolov7pytorch/valid/labels/CARimage393_jpg.rf.3ea027de7e1ddc95b06baef871039e6a.txt  \n",
            "  inflating: __MACOSX/+_648_640_640_label_ceo.v1i.yolov7pytorch/valid/labels/._CARimage393_jpg.rf.3ea027de7e1ddc95b06baef871039e6a.txt  \n",
            "  inflating: +_648_640_640_label_ceo.v1i.yolov7pytorch/valid/labels/IMG_2574_PNG_jpg.rf.fe12bc8f81308225b93af60dddcf9ebf.txt  \n",
            "  inflating: __MACOSX/+_648_640_640_label_ceo.v1i.yolov7pytorch/valid/labels/._IMG_2574_PNG_jpg.rf.fe12bc8f81308225b93af60dddcf9ebf.txt  \n",
            "  inflating: +_648_640_640_label_ceo.v1i.yolov7pytorch/valid/labels/SEVERITY_V10_87_jpg.rf.bfe57b0cbb201752b8f68a1522391ba7.txt  \n",
            "  inflating: __MACOSX/+_648_640_640_label_ceo.v1i.yolov7pytorch/valid/labels/._SEVERITY_V10_87_jpg.rf.bfe57b0cbb201752b8f68a1522391ba7.txt  \n",
            "  inflating: +_648_640_640_label_ceo.v1i.yolov7pytorch/valid/labels/IMG_2166_JPG_jpg.rf.b8e02e745d563080eb15991a8598cf27.txt  \n",
            "  inflating: __MACOSX/+_648_640_640_label_ceo.v1i.yolov7pytorch/valid/labels/._IMG_2166_JPG_jpg.rf.b8e02e745d563080eb15991a8598cf27.txt  \n",
            "  inflating: +_648_640_640_label_ceo.v1i.yolov7pytorch/valid/labels/SEVERITY_V13_0_jpg.rf.f5e4d4b60001a45085588c13d8c84f72.txt  \n",
            "  inflating: __MACOSX/+_648_640_640_label_ceo.v1i.yolov7pytorch/valid/labels/._SEVERITY_V13_0_jpg.rf.f5e4d4b60001a45085588c13d8c84f72.txt  \n",
            "  inflating: +_648_640_640_label_ceo.v1i.yolov7pytorch/valid/labels/801_jpeg_jpg.rf.7a30a486fb8988e6006ffb5e810b10ac.txt  \n",
            "  inflating: __MACOSX/+_648_640_640_label_ceo.v1i.yolov7pytorch/valid/labels/._801_jpeg_jpg.rf.7a30a486fb8988e6006ffb5e810b10ac.txt  \n",
            "  inflating: +_648_640_640_label_ceo.v1i.yolov7pytorch/valid/labels/Screen-Shot-2022-04-08-at-6-17-40-AM_png_jpg.rf.ff3b0d01b9d1de7017b8513b0eeb87e0.txt  \n",
            "  inflating: __MACOSX/+_648_640_640_label_ceo.v1i.yolov7pytorch/valid/labels/._Screen-Shot-2022-04-08-at-6-17-40-AM_png_jpg.rf.ff3b0d01b9d1de7017b8513b0eeb87e0.txt  \n",
            "  inflating: +_648_640_640_label_ceo.v1i.yolov7pytorch/valid/labels/1-17_jpg.rf.ea70326ac419d6f7655c3c49d67fbd0f.txt  \n",
            "  inflating: __MACOSX/+_648_640_640_label_ceo.v1i.yolov7pytorch/valid/labels/._1-17_jpg.rf.ea70326ac419d6f7655c3c49d67fbd0f.txt  \n",
            "  inflating: +_648_640_640_label_ceo.v1i.yolov7pytorch/valid/labels/trafficseverity_img2253_jpg.rf.c93482d9c643d68b7ed598e1c791ebc2.txt  \n",
            "  inflating: __MACOSX/+_648_640_640_label_ceo.v1i.yolov7pytorch/valid/labels/._trafficseverity_img2253_jpg.rf.c93482d9c643d68b7ed598e1c791ebc2.txt  \n",
            "  inflating: +_648_640_640_label_ceo.v1i.yolov7pytorch/valid/labels/images-2022-04-07T064847-303_jpeg_jpg.rf.3d24945f658165b311cb25a52cbe7485.txt  \n",
            "  inflating: __MACOSX/+_648_640_640_label_ceo.v1i.yolov7pytorch/valid/labels/._images-2022-04-07T064847-303_jpeg_jpg.rf.3d24945f658165b311cb25a52cbe7485.txt  \n",
            "  inflating: +_648_640_640_label_ceo.v1i.yolov7pytorch/valid/labels/IMG_2329_PNG_jpg.rf.db54519303cbc12237f4632a803edcae.txt  \n",
            "  inflating: __MACOSX/+_648_640_640_label_ceo.v1i.yolov7pytorch/valid/labels/._IMG_2329_PNG_jpg.rf.db54519303cbc12237f4632a803edcae.txt  \n",
            "  inflating: +_648_640_640_label_ceo.v1i.yolov7pytorch/valid/labels/SEEEEVERITY_293_jpg.rf.dac4f812527ac4b85a59d3b5d9f4e24c.txt  \n",
            "  inflating: __MACOSX/+_648_640_640_label_ceo.v1i.yolov7pytorch/valid/labels/._SEEEEVERITY_293_jpg.rf.dac4f812527ac4b85a59d3b5d9f4e24c.txt  \n",
            "  inflating: +_648_640_640_label_ceo.v1i.yolov7pytorch/valid/labels/IMG_1451_PNG_jpg.rf.ecee4d1b50783126457089949557955f.txt  \n",
            "  inflating: __MACOSX/+_648_640_640_label_ceo.v1i.yolov7pytorch/valid/labels/._IMG_1451_PNG_jpg.rf.ecee4d1b50783126457089949557955f.txt  \n",
            "  inflating: +_648_640_640_label_ceo.v1i.yolov7pytorch/valid/labels/Screen-Shot-2022-04-07-at-8-27-07-AM_png_jpg.rf.a67dfbd202abb7eb9fa519436e0d7c05.txt  \n",
            "  inflating: __MACOSX/+_648_640_640_label_ceo.v1i.yolov7pytorch/valid/labels/._Screen-Shot-2022-04-07-at-8-27-07-AM_png_jpg.rf.a67dfbd202abb7eb9fa519436e0d7c05.txt  \n",
            "  inflating: +_648_640_640_label_ceo.v1i.yolov7pytorch/valid/labels/traffic_img2157_jpg.rf.8d6a4c1b4d8afbe1b7d800a048191d79.txt  \n",
            "  inflating: __MACOSX/+_648_640_640_label_ceo.v1i.yolov7pytorch/valid/labels/._traffic_img2157_jpg.rf.8d6a4c1b4d8afbe1b7d800a048191d79.txt  \n",
            "  inflating: +_648_640_640_label_ceo.v1i.yolov7pytorch/valid/labels/images-9_jpg.rf.be4849312afdd650b7e2f2bbcb3c571b.txt  \n",
            "  inflating: __MACOSX/+_648_640_640_label_ceo.v1i.yolov7pytorch/valid/labels/._images-9_jpg.rf.be4849312afdd650b7e2f2bbcb3c571b.txt  \n",
            "  inflating: +_648_640_640_label_ceo.v1i.yolov7pytorch/valid/labels/vid_1_i_frame_7688_jpg.rf.b8f1f11684094006ac88490464db197d.txt  \n",
            "  inflating: __MACOSX/+_648_640_640_label_ceo.v1i.yolov7pytorch/valid/labels/._vid_1_i_frame_7688_jpg.rf.b8f1f11684094006ac88490464db197d.txt  \n",
            "  inflating: +_648_640_640_label_ceo.v1i.yolov7pytorch/valid/labels/Accident_Img_449_jpg.rf.797f8a22190aefb88002ff8b6b2d4af3.txt  \n",
            "  inflating: __MACOSX/+_648_640_640_label_ceo.v1i.yolov7pytorch/valid/labels/._Accident_Img_449_jpg.rf.797f8a22190aefb88002ff8b6b2d4af3.txt  \n",
            "  inflating: +_648_640_640_label_ceo.v1i.yolov7pytorch/valid/labels/Accident_Img_837_jpg.rf.b0495a43c71460c2978b0d998782daa6.txt  \n",
            "  inflating: __MACOSX/+_648_640_640_label_ceo.v1i.yolov7pytorch/valid/labels/._Accident_Img_837_jpg.rf.b0495a43c71460c2978b0d998782daa6.txt  \n",
            "  inflating: +_648_640_640_label_ceo.v1i.yolov7pytorch/valid/labels/accidentFrame2365_jpg.rf.f0268ed95ccf7be2b0b2d418e8f2c375.txt  \n",
            "  inflating: __MACOSX/+_648_640_640_label_ceo.v1i.yolov7pytorch/valid/labels/._accidentFrame2365_jpg.rf.f0268ed95ccf7be2b0b2d418e8f2c375.txt  \n",
            "  inflating: +_648_640_640_label_ceo.v1i.yolov7pytorch/valid/labels/SEV_V8_Img_49_jpg.rf.3a309515f5c9c17d781fd42fa01bd9fa.txt  \n",
            "  inflating: __MACOSX/+_648_640_640_label_ceo.v1i.yolov7pytorch/valid/labels/._SEV_V8_Img_49_jpg.rf.3a309515f5c9c17d781fd42fa01bd9fa.txt  \n",
            "  inflating: +_648_640_640_label_ceo.v1i.yolov7pytorch/valid/labels/Bus-Truck-Crashes-9-BeamNG-Drive_i_frame_12528_jpg.rf.03aadc601f5f5512c01414b382d08cf4.txt  \n",
            "  inflating: __MACOSX/+_648_640_640_label_ceo.v1i.yolov7pytorch/valid/labels/._Bus-Truck-Crashes-9-BeamNG-Drive_i_frame_12528_jpg.rf.03aadc601f5f5512c01414b382d08cf4.txt  \n",
            "  inflating: +_648_640_640_label_ceo.v1i.yolov7pytorch/valid/labels/Screen-Shot-2022-04-08-at-5-48-59-AM_png_jpg.rf.4fffbe7c94686801eb41f13ea1857f10.txt  \n",
            "  inflating: __MACOSX/+_648_640_640_label_ceo.v1i.yolov7pytorch/valid/labels/._Screen-Shot-2022-04-08-at-5-48-59-AM_png_jpg.rf.4fffbe7c94686801eb41f13ea1857f10.txt  \n",
            "  inflating: +_648_640_640_label_ceo.v1i.yolov7pytorch/valid/labels/IMG_1597_PNG_jpg.rf.f340baf5353bce8fbef98251dcfe805d.txt  \n",
            "  inflating: __MACOSX/+_648_640_640_label_ceo.v1i.yolov7pytorch/valid/labels/._IMG_1597_PNG_jpg.rf.f340baf5353bce8fbef98251dcfe805d.txt  \n",
            "  inflating: +_648_640_640_label_ceo.v1i.yolov7pytorch/valid/labels/SEV_22_726_jpg.rf.14da20265b28fb34ff0126c71143a076.txt  \n",
            "  inflating: __MACOSX/+_648_640_640_label_ceo.v1i.yolov7pytorch/valid/labels/._SEV_22_726_jpg.rf.14da20265b28fb34ff0126c71143a076.txt  \n",
            "  inflating: +_648_640_640_label_ceo.v1i.yolov7pytorch/valid/labels/images-75-_jpeg_jpg.rf.27ccbefab7445be9a82c36897e44a518.txt  \n",
            "  inflating: __MACOSX/+_648_640_640_label_ceo.v1i.yolov7pytorch/valid/labels/._images-75-_jpeg_jpg.rf.27ccbefab7445be9a82c36897e44a518.txt  \n",
            "  inflating: +_648_640_640_label_ceo.v1i.yolov7pytorch/valid/labels/Bus-Truck-Crashes-10-BeamNG-Drive_i_frame_8728_jpg.rf.d3d6ed277b2553701dc77138e4f0c8c6.txt  \n",
            "  inflating: __MACOSX/+_648_640_640_label_ceo.v1i.yolov7pytorch/valid/labels/._Bus-Truck-Crashes-10-BeamNG-Drive_i_frame_8728_jpg.rf.d3d6ed277b2553701dc77138e4f0c8c6.txt  \n",
            "  inflating: +_648_640_640_label_ceo.v1i.yolov7pytorch/valid/labels/Screen-Shot-2022-04-07-at-7-55-15-PM_png_jpg.rf.1532aa4cf41f05ae53d0b39a77133b03.txt  \n",
            "  inflating: __MACOSX/+_648_640_640_label_ceo.v1i.yolov7pytorch/valid/labels/._Screen-Shot-2022-04-07-at-7-55-15-PM_png_jpg.rf.1532aa4cf41f05ae53d0b39a77133b03.txt  \n",
            "  inflating: +_648_640_640_label_ceo.v1i.yolov7pytorch/valid/labels/IMG_2255_PNG_jpg.rf.508734271a04f3169fc0e14500e02277.txt  \n",
            "  inflating: __MACOSX/+_648_640_640_label_ceo.v1i.yolov7pytorch/valid/labels/._IMG_2255_PNG_jpg.rf.508734271a04f3169fc0e14500e02277.txt  \n",
            "  inflating: +_648_640_640_label_ceo.v1i.yolov7pytorch/valid/labels/SEEEEVERITY_126_jpg.rf.bb9986bc377fd7e0c1be8dd554b187b2.txt  \n",
            "  inflating: __MACOSX/+_648_640_640_label_ceo.v1i.yolov7pytorch/valid/labels/._SEEEEVERITY_126_jpg.rf.bb9986bc377fd7e0c1be8dd554b187b2.txt  \n",
            "  inflating: +_648_640_640_label_ceo.v1i.yolov7pytorch/valid/labels/trafficseverity_img601_jpg.rf.78b4962e36951c51e63d4f75933ee020.txt  \n",
            "  inflating: __MACOSX/+_648_640_640_label_ceo.v1i.yolov7pytorch/valid/labels/._trafficseverity_img601_jpg.rf.78b4962e36951c51e63d4f75933ee020.txt  \n",
            "  inflating: +_648_640_640_label_ceo.v1i.yolov7pytorch/valid/labels/trafficseverity_img100_jpg.rf.d95535c91a8baf5d37ee2c3680d23ba3.txt  \n",
            "  inflating: __MACOSX/+_648_640_640_label_ceo.v1i.yolov7pytorch/valid/labels/._trafficseverity_img100_jpg.rf.d95535c91a8baf5d37ee2c3680d23ba3.txt  \n",
            "  inflating: +_648_640_640_label_ceo.v1i.yolov7pytorch/valid/labels/accidentFrame10964_jpg.rf.a38377c9634b36a0e402473efc0b72af.txt  \n",
            "  inflating: __MACOSX/+_648_640_640_label_ceo.v1i.yolov7pytorch/valid/labels/._accidentFrame10964_jpg.rf.a38377c9634b36a0e402473efc0b72af.txt  \n",
            "  inflating: +_648_640_640_label_ceo.v1i.yolov7pytorch/valid/labels/trafficseverity_img5754_jpg.rf.f4e2ce7c07a75e014312b470affaa0d6.txt  \n",
            "  inflating: __MACOSX/+_648_640_640_label_ceo.v1i.yolov7pytorch/valid/labels/._trafficseverity_img5754_jpg.rf.f4e2ce7c07a75e014312b470affaa0d6.txt  \n",
            "  inflating: +_648_640_640_label_ceo.v1i.yolov7pytorch/valid/labels/trafficseverity_img88_jpg.rf.0ff94e357a75008e3863e7732eb44d91.txt  \n",
            "  inflating: __MACOSX/+_648_640_640_label_ceo.v1i.yolov7pytorch/valid/labels/._trafficseverity_img88_jpg.rf.0ff94e357a75008e3863e7732eb44d91.txt  \n",
            "  inflating: +_648_640_640_label_ceo.v1i.yolov7pytorch/valid/labels/SEEEEVERITY_229_jpg.rf.f9b55517c31b6c3bb7e4aa90064868cb.txt  \n",
            "  inflating: __MACOSX/+_648_640_640_label_ceo.v1i.yolov7pytorch/valid/labels/._SEEEEVERITY_229_jpg.rf.f9b55517c31b6c3bb7e4aa90064868cb.txt  \n",
            "  inflating: +_648_640_640_label_ceo.v1i.yolov7pytorch/valid/labels/trafficseverity_img230_jpg.rf.e32b568199753c183fb78cda88901a47.txt  \n",
            "  inflating: __MACOSX/+_648_640_640_label_ceo.v1i.yolov7pytorch/valid/labels/._trafficseverity_img230_jpg.rf.e32b568199753c183fb78cda88901a47.txt  \n",
            "  inflating: +_648_640_640_label_ceo.v1i.yolov7pytorch/valid/labels/SEVERITY_DATA_54_jpg.rf.61f55cf85b2e31e0dba885622e012761.txt  \n",
            "  inflating: __MACOSX/+_648_640_640_label_ceo.v1i.yolov7pytorch/valid/labels/._SEVERITY_DATA_54_jpg.rf.61f55cf85b2e31e0dba885622e012761.txt  \n",
            "  inflating: +_648_640_640_label_ceo.v1i.yolov7pytorch/valid/labels/SEEEEVERITY_132_jpg.rf.478fb6c84bac256e1d9805c63b047695.txt  \n",
            "  inflating: __MACOSX/+_648_640_640_label_ceo.v1i.yolov7pytorch/valid/labels/._SEEEEVERITY_132_jpg.rf.478fb6c84bac256e1d9805c63b047695.txt  \n",
            "  inflating: +_648_640_640_label_ceo.v1i.yolov7pytorch/valid/labels/Screen-Shot-2022-04-06-at-3-45-12-AM_png_jpg.rf.47a8b3a4f5e6f7ff7df5056500d7689f.txt  \n",
            "  inflating: __MACOSX/+_648_640_640_label_ceo.v1i.yolov7pytorch/valid/labels/._Screen-Shot-2022-04-06-at-3-45-12-AM_png_jpg.rf.47a8b3a4f5e6f7ff7df5056500d7689f.txt  \n",
            "  inflating: +_648_640_640_label_ceo.v1i.yolov7pytorch/valid/labels/Screen-Shot-2022-04-07-at-8-31-11-PM_png_jpg.rf.ee34532e9f5b040464fe253c765017fb.txt  \n",
            "  inflating: __MACOSX/+_648_640_640_label_ceo.v1i.yolov7pytorch/valid/labels/._Screen-Shot-2022-04-07-at-8-31-11-PM_png_jpg.rf.ee34532e9f5b040464fe253c765017fb.txt  \n",
            "  inflating: +_648_640_640_label_ceo.v1i.yolov7pytorch/valid/labels/SEEEEVERITY_239_jpg.rf.0e480bae7eecaf96a1079487921a14d6.txt  \n",
            "  inflating: __MACOSX/+_648_640_640_label_ceo.v1i.yolov7pytorch/valid/labels/._SEEEEVERITY_239_jpg.rf.0e480bae7eecaf96a1079487921a14d6.txt  \n",
            "  inflating: +_648_640_640_label_ceo.v1i.yolov7pytorch/valid/labels/SEEEEVERITY_220_jpg.rf.235b3a2b14d6f59be208448cd55c21f6.txt  \n",
            "  inflating: __MACOSX/+_648_640_640_label_ceo.v1i.yolov7pytorch/valid/labels/._SEEEEVERITY_220_jpg.rf.235b3a2b14d6f59be208448cd55c21f6.txt  \n",
            "  inflating: +_648_640_640_label_ceo.v1i.yolov7pytorch/valid/labels/traffic_img201_jpg.rf.4da63476db36c32582d381ba6fb145fd.txt  \n",
            "  inflating: __MACOSX/+_648_640_640_label_ceo.v1i.yolov7pytorch/valid/labels/._traffic_img201_jpg.rf.4da63476db36c32582d381ba6fb145fd.txt  \n",
            "  inflating: +_648_640_640_label_ceo.v1i.yolov7pytorch/valid/labels/trafficseverity_img5698_jpg.rf.6b0662392c7cc4fedb24a9755b9cf177.txt  \n",
            "  inflating: __MACOSX/+_648_640_640_label_ceo.v1i.yolov7pytorch/valid/labels/._trafficseverity_img5698_jpg.rf.6b0662392c7cc4fedb24a9755b9cf177.txt  \n",
            "  inflating: +_648_640_640_label_ceo.v1i.yolov7pytorch/valid/labels/SEV_22_1630_jpg.rf.09667caa7e3971a99c01a378bc5b99cf.txt  \n",
            "  inflating: __MACOSX/+_648_640_640_label_ceo.v1i.yolov7pytorch/valid/labels/._SEV_22_1630_jpg.rf.09667caa7e3971a99c01a378bc5b99cf.txt  \n",
            "  inflating: +_648_640_640_label_ceo.v1i.yolov7pytorch/valid/labels/Screen-Shot-2022-04-08-at-7-26-45-AM_png_jpg.rf.b1d8330bceae4390186e209b38585578.txt  \n",
            "  inflating: __MACOSX/+_648_640_640_label_ceo.v1i.yolov7pytorch/valid/labels/._Screen-Shot-2022-04-08-at-7-26-45-AM_png_jpg.rf.b1d8330bceae4390186e209b38585578.txt  \n",
            "  inflating: +_648_640_640_label_ceo.v1i.yolov7pytorch/valid/labels/severity_V18_jpg.rf.d719bdfc92def90bbc1c145f87432a02.txt  \n",
            "  inflating: __MACOSX/+_648_640_640_label_ceo.v1i.yolov7pytorch/valid/labels/._severity_V18_jpg.rf.d719bdfc92def90bbc1c145f87432a02.txt  \n",
            "  inflating: +_648_640_640_label_ceo.v1i.yolov7pytorch/valid/labels/Screen-Shot-2022-04-06-at-3-50-12-AM_png_jpg.rf.f535348f40ecf2bfd5d692b459250829.txt  \n",
            "  inflating: __MACOSX/+_648_640_640_label_ceo.v1i.yolov7pytorch/valid/labels/._Screen-Shot-2022-04-06-at-3-50-12-AM_png_jpg.rf.f535348f40ecf2bfd5d692b459250829.txt  \n",
            "  inflating: +_648_640_640_label_ceo.v1i.yolov7pytorch/valid/labels/IMG_1981_PNG_jpg.rf.f28ee0a575b910f6d3426afd2c51670b.txt  \n",
            "  inflating: __MACOSX/+_648_640_640_label_ceo.v1i.yolov7pytorch/valid/labels/._IMG_1981_PNG_jpg.rf.f28ee0a575b910f6d3426afd2c51670b.txt  \n",
            "  inflating: +_648_640_640_label_ceo.v1i.yolov7pytorch/valid/labels/SEVERITY_V10_91_jpg.rf.add95e9dfcc24bea712f40bd6edd212a.txt  \n",
            "  inflating: __MACOSX/+_648_640_640_label_ceo.v1i.yolov7pytorch/valid/labels/._SEVERITY_V10_91_jpg.rf.add95e9dfcc24bea712f40bd6edd212a.txt  \n",
            "  inflating: +_648_640_640_label_ceo.v1i.yolov7pytorch/valid/labels/Bus-Truck-Crashes-9-BeamNG-Drive_i_frame_12376_jpg.rf.a2fd90a1bbd98cd81dd131dadf2ca9be.txt  \n",
            "  inflating: __MACOSX/+_648_640_640_label_ceo.v1i.yolov7pytorch/valid/labels/._Bus-Truck-Crashes-9-BeamNG-Drive_i_frame_12376_jpg.rf.a2fd90a1bbd98cd81dd131dadf2ca9be.txt  \n",
            "  inflating: +_648_640_640_label_ceo.v1i.yolov7pytorch/valid/labels/images_jpg.rf.576f9df7118c6eeb09ccc6fdbacbc795.txt  \n",
            "  inflating: __MACOSX/+_648_640_640_label_ceo.v1i.yolov7pytorch/valid/labels/._images_jpg.rf.576f9df7118c6eeb09ccc6fdbacbc795.txt  \n",
            "  inflating: +_648_640_640_label_ceo.v1i.yolov7pytorch/valid/labels/SEEEEVERITY_183_jpg.rf.754dc8f0c278131e66ae0867e159e5e0.txt  \n",
            "  inflating: __MACOSX/+_648_640_640_label_ceo.v1i.yolov7pytorch/valid/labels/._SEEEEVERITY_183_jpg.rf.754dc8f0c278131e66ae0867e159e5e0.txt  \n",
            "  inflating: +_648_640_640_label_ceo.v1i.yolov7pytorch/valid/labels/trafficseverity_img5371_jpg.rf.3503631d3f52df42a9d3a5db624195a1.txt  \n",
            "  inflating: __MACOSX/+_648_640_640_label_ceo.v1i.yolov7pytorch/valid/labels/._trafficseverity_img5371_jpg.rf.3503631d3f52df42a9d3a5db624195a1.txt  \n",
            "  inflating: +_648_640_640_label_ceo.v1i.yolov7pytorch/valid/labels/SEVERITY_V10_130_jpg.rf.6bf900281db1598f168a9eedefa2e8b9.txt  \n",
            "  inflating: __MACOSX/+_648_640_640_label_ceo.v1i.yolov7pytorch/valid/labels/._SEVERITY_V10_130_jpg.rf.6bf900281db1598f168a9eedefa2e8b9.txt  \n",
            "  inflating: +_648_640_640_label_ceo.v1i.yolov7pytorch/valid/labels/images-21_jpg.rf.3c18bbfb200722fa44e1ba939a9dffa5.txt  \n",
            "  inflating: __MACOSX/+_648_640_640_label_ceo.v1i.yolov7pytorch/valid/labels/._images-21_jpg.rf.3c18bbfb200722fa44e1ba939a9dffa5.txt  \n",
            "  inflating: +_648_640_640_label_ceo.v1i.yolov7pytorch/valid/labels/SEV_V8_Img_125_jpg.rf.dfd13b901c833b05dea84d12c3e74062.txt  \n",
            "  inflating: __MACOSX/+_648_640_640_label_ceo.v1i.yolov7pytorch/valid/labels/._SEV_V8_Img_125_jpg.rf.dfd13b901c833b05dea84d12c3e74062.txt  \n",
            "  inflating: +_648_640_640_label_ceo.v1i.yolov7pytorch/valid/labels/Screen-Shot-2022-04-08-at-7-35-13-AM_png_jpg.rf.e81523f44c5f04182c2094d708fcaff0.txt  \n",
            "  inflating: __MACOSX/+_648_640_640_label_ceo.v1i.yolov7pytorch/valid/labels/._Screen-Shot-2022-04-08-at-7-35-13-AM_png_jpg.rf.e81523f44c5f04182c2094d708fcaff0.txt  \n",
            "  inflating: +_648_640_640_label_ceo.v1i.yolov7pytorch/valid/labels/FLIP_CAR_V172_jpg.rf.d0088bfd4c1a4006a4151dbefcc8d7f2.txt  \n",
            "  inflating: __MACOSX/+_648_640_640_label_ceo.v1i.yolov7pytorch/valid/labels/._FLIP_CAR_V172_jpg.rf.d0088bfd4c1a4006a4151dbefcc8d7f2.txt  \n",
            "  inflating: +_648_640_640_label_ceo.v1i.yolov7pytorch/valid/labels/SEV_22_2321_jpg.rf.522c2d818c88e6bd6a8b9ca92c05d228.txt  \n",
            "  inflating: __MACOSX/+_648_640_640_label_ceo.v1i.yolov7pytorch/valid/labels/._SEV_22_2321_jpg.rf.522c2d818c88e6bd6a8b9ca92c05d228.txt  \n",
            "  inflating: +_648_640_640_label_ceo.v1i.yolov7pytorch/valid/labels/trafficseverity_img2241_jpg.rf.b2a22a7b9832cb1828551a7f4fcc25f3.txt  \n",
            "  inflating: __MACOSX/+_648_640_640_label_ceo.v1i.yolov7pytorch/valid/labels/._trafficseverity_img2241_jpg.rf.b2a22a7b9832cb1828551a7f4fcc25f3.txt  \n",
            "  inflating: +_648_640_640_label_ceo.v1i.yolov7pytorch/valid/labels/IMG_1510_PNG_jpg.rf.5cfbd52ca8d4fab7d214b75e8b5eb11d.txt  \n",
            "  inflating: __MACOSX/+_648_640_640_label_ceo.v1i.yolov7pytorch/valid/labels/._IMG_1510_PNG_jpg.rf.5cfbd52ca8d4fab7d214b75e8b5eb11d.txt  \n",
            "  inflating: +_648_640_640_label_ceo.v1i.yolov7pytorch/valid/labels/trafficseverity_img2899_jpg.rf.97c8f6a811443929c16206531dab9c3b.txt  \n",
            "  inflating: __MACOSX/+_648_640_640_label_ceo.v1i.yolov7pytorch/valid/labels/._trafficseverity_img2899_jpg.rf.97c8f6a811443929c16206531dab9c3b.txt  \n",
            "  inflating: +_648_640_640_label_ceo.v1i.yolov7pytorch/valid/labels/FLIP_CAR_V120_jpg.rf.fdb4c4d08d8a3efcdadb5932bc7edc95.txt  \n",
            "  inflating: __MACOSX/+_648_640_640_label_ceo.v1i.yolov7pytorch/valid/labels/._FLIP_CAR_V120_jpg.rf.fdb4c4d08d8a3efcdadb5932bc7edc95.txt  \n",
            "  inflating: +_648_640_640_label_ceo.v1i.yolov7pytorch/valid/labels/sever11_jpg.rf.72f95215ae177e763485a4b7e928f23c.txt  \n",
            "  inflating: __MACOSX/+_648_640_640_label_ceo.v1i.yolov7pytorch/valid/labels/._sever11_jpg.rf.72f95215ae177e763485a4b7e928f23c.txt  \n",
            "  inflating: +_648_640_640_label_ceo.v1i.yolov7pytorch/valid/labels/SEVERITY_DATA_25_jpg.rf.511c0a7d188e03f180acc3410e69b578.txt  \n",
            "  inflating: __MACOSX/+_648_640_640_label_ceo.v1i.yolov7pytorch/valid/labels/._SEVERITY_DATA_25_jpg.rf.511c0a7d188e03f180acc3410e69b578.txt  \n",
            "  inflating: +_648_640_640_label_ceo.v1i.yolov7pytorch/valid/labels/Semi-RealisticVD-156_jpg.rf.a35a3b59e993a4aa1bdc802f2386f54e.txt  \n",
            "  inflating: __MACOSX/+_648_640_640_label_ceo.v1i.yolov7pytorch/valid/labels/._Semi-RealisticVD-156_jpg.rf.a35a3b59e993a4aa1bdc802f2386f54e.txt  \n",
            "  inflating: +_648_640_640_label_ceo.v1i.yolov7pytorch/valid/labels/841_jpeg_jpg.rf.b5b446b51d2f3343336303db26fd3aed.txt  \n",
            "  inflating: __MACOSX/+_648_640_640_label_ceo.v1i.yolov7pytorch/valid/labels/._841_jpeg_jpg.rf.b5b446b51d2f3343336303db26fd3aed.txt  \n",
            "  inflating: +_648_640_640_label_ceo.v1i.yolov7pytorch/valid/labels/Semi-RealisticVD-190_jpg.rf.f49906ebd45c9637057c4183ac476269.txt  \n",
            "  inflating: __MACOSX/+_648_640_640_label_ceo.v1i.yolov7pytorch/valid/labels/._Semi-RealisticVD-190_jpg.rf.f49906ebd45c9637057c4183ac476269.txt  \n",
            "  inflating: +_648_640_640_label_ceo.v1i.yolov7pytorch/valid/labels/trafficseverity_img690_jpg.rf.604ea48109c6de6b3482b7c4218fc14b.txt  \n",
            "  inflating: __MACOSX/+_648_640_640_label_ceo.v1i.yolov7pytorch/valid/labels/._trafficseverity_img690_jpg.rf.604ea48109c6de6b3482b7c4218fc14b.txt  \n",
            "  inflating: +_648_640_640_label_ceo.v1i.yolov7pytorch/valid/labels/SEVERITY_V10_109_jpg.rf.d4301306f8b100a78058f11e4cfc5bab.txt  \n",
            "  inflating: __MACOSX/+_648_640_640_label_ceo.v1i.yolov7pytorch/valid/labels/._SEVERITY_V10_109_jpg.rf.d4301306f8b100a78058f11e4cfc5bab.txt  \n",
            "  inflating: +_648_640_640_label_ceo.v1i.yolov7pytorch/valid/labels/SEVERITY_V10_60_jpg.rf.e27a161cfeccaf7132834e2129f8e3df.txt  \n",
            "  inflating: __MACOSX/+_648_640_640_label_ceo.v1i.yolov7pytorch/valid/labels/._SEVERITY_V10_60_jpg.rf.e27a161cfeccaf7132834e2129f8e3df.txt  \n",
            "  inflating: +_648_640_640_label_ceo.v1i.yolov7pytorch/valid/labels/SEEEEVERITY_25_jpg.rf.b6cf3c8370b1c0185d5b422bb087f523.txt  \n",
            "  inflating: __MACOSX/+_648_640_640_label_ceo.v1i.yolov7pytorch/valid/labels/._SEEEEVERITY_25_jpg.rf.b6cf3c8370b1c0185d5b422bb087f523.txt  \n",
            "  inflating: +_648_640_640_label_ceo.v1i.yolov7pytorch/valid/labels/SEV_22_3395_jpg.rf.92a87dd132d316240ad2a81c6c1613a8.txt  \n",
            "  inflating: __MACOSX/+_648_640_640_label_ceo.v1i.yolov7pytorch/valid/labels/._SEV_22_3395_jpg.rf.92a87dd132d316240ad2a81c6c1613a8.txt  \n",
            "  inflating: +_648_640_640_label_ceo.v1i.yolov7pytorch/valid/labels/IMG_2167_JPG_jpg.rf.a0bb00b768d6920a5388d221c4df8948.txt  \n",
            "  inflating: __MACOSX/+_648_640_640_label_ceo.v1i.yolov7pytorch/valid/labels/._IMG_2167_JPG_jpg.rf.a0bb00b768d6920a5388d221c4df8948.txt  \n",
            "  inflating: +_648_640_640_label_ceo.v1i.yolov7pytorch/valid/labels/trafficseverity_img2517_jpg.rf.ff03355012198650fc181d6f762a6496.txt  \n",
            "  inflating: __MACOSX/+_648_640_640_label_ceo.v1i.yolov7pytorch/valid/labels/._trafficseverity_img2517_jpg.rf.ff03355012198650fc181d6f762a6496.txt  \n",
            "  inflating: +_648_640_640_label_ceo.v1i.yolov7pytorch/valid/labels/trafficseverity_img5693_jpg.rf.36540841e6c4793c012e941d272ef51e.txt  \n",
            "  inflating: __MACOSX/+_648_640_640_label_ceo.v1i.yolov7pytorch/valid/labels/._trafficseverity_img5693_jpg.rf.36540841e6c4793c012e941d272ef51e.txt  \n",
            "  inflating: +_648_640_640_label_ceo.v1i.yolov7pytorch/valid/labels/trafficseverity_img2005_jpg.rf.ebef595b719e683115bda489a5ed8c79.txt  \n",
            "  inflating: __MACOSX/+_648_640_640_label_ceo.v1i.yolov7pytorch/valid/labels/._trafficseverity_img2005_jpg.rf.ebef595b719e683115bda489a5ed8c79.txt  \n",
            "  inflating: +_648_640_640_label_ceo.v1i.yolov7pytorch/valid/labels/download-4-_jpeg_jpg.rf.7dad148f9060fe9e0da278c2b6280930.txt  \n",
            "  inflating: __MACOSX/+_648_640_640_label_ceo.v1i.yolov7pytorch/valid/labels/._download-4-_jpeg_jpg.rf.7dad148f9060fe9e0da278c2b6280930.txt  \n",
            "  inflating: +_648_640_640_label_ceo.v1i.yolov7pytorch/valid/labels/IMG_2011_PNG_jpg.rf.362411a45ebcd5442eb1a273dd3ce207.txt  \n",
            "  inflating: __MACOSX/+_648_640_640_label_ceo.v1i.yolov7pytorch/valid/labels/._IMG_2011_PNG_jpg.rf.362411a45ebcd5442eb1a273dd3ce207.txt  \n",
            "  inflating: +_648_640_640_label_ceo.v1i.yolov7pytorch/valid/labels/SEV_22_849_jpg.rf.7961c11533ad5b17590a21313c371f46.txt  \n",
            "  inflating: __MACOSX/+_648_640_640_label_ceo.v1i.yolov7pytorch/valid/labels/._SEV_22_849_jpg.rf.7961c11533ad5b17590a21313c371f46.txt  \n",
            "  inflating: +_648_640_640_label_ceo.v1i.yolov7pytorch/valid/labels/IMG_2177_JPG_jpg.rf.8e19bd8691c288dfb50d94034d2f4eb4.txt  \n",
            "  inflating: __MACOSX/+_648_640_640_label_ceo.v1i.yolov7pytorch/valid/labels/._IMG_2177_JPG_jpg.rf.8e19bd8691c288dfb50d94034d2f4eb4.txt  \n",
            "  inflating: +_648_640_640_label_ceo.v1i.yolov7pytorch/valid/labels/2accidentFrame513_jpg.rf.16945f099d804f034f6567b4230dbae5.txt  \n",
            "  inflating: __MACOSX/+_648_640_640_label_ceo.v1i.yolov7pytorch/valid/labels/._2accidentFrame513_jpg.rf.16945f099d804f034f6567b4230dbae5.txt  \n",
            "  inflating: +_648_640_640_label_ceo.v1i.yolov7pytorch/valid/labels/trafficseverity_img2651_jpg.rf.6ca1cddea5ccd1ffe82d729619674a33.txt  \n",
            "  inflating: __MACOSX/+_648_640_640_label_ceo.v1i.yolov7pytorch/valid/labels/._trafficseverity_img2651_jpg.rf.6ca1cddea5ccd1ffe82d729619674a33.txt  \n",
            "  inflating: +_648_640_640_label_ceo.v1i.yolov7pytorch/valid/labels/trafficseverity_img4753_jpg.rf.e408e620edf3a70bfa0e92046c74d7f5.txt  \n",
            "  inflating: __MACOSX/+_648_640_640_label_ceo.v1i.yolov7pytorch/valid/labels/._trafficseverity_img4753_jpg.rf.e408e620edf3a70bfa0e92046c74d7f5.txt  \n",
            "  inflating: +_648_640_640_label_ceo.v1i.yolov7pytorch/valid/labels/FLIP_CAR_V132_jpg.rf.3d1257ed93c702000c1ef57d52e31d6b.txt  \n",
            "  inflating: __MACOSX/+_648_640_640_label_ceo.v1i.yolov7pytorch/valid/labels/._FLIP_CAR_V132_jpg.rf.3d1257ed93c702000c1ef57d52e31d6b.txt  \n",
            "  inflating: +_648_640_640_label_ceo.v1i.yolov7pytorch/valid/labels/Semi-RealisticVD-144_jpg.rf.63381ece21db7aec5d8389def567f74b.txt  \n",
            "  inflating: __MACOSX/+_648_640_640_label_ceo.v1i.yolov7pytorch/valid/labels/._Semi-RealisticVD-144_jpg.rf.63381ece21db7aec5d8389def567f74b.txt  \n",
            "  inflating: +_648_640_640_label_ceo.v1i.yolov7pytorch/valid/labels/IMG_2289_PNG_jpg.rf.3e344876822bfd2a3f25912824d618af.txt  \n",
            "  inflating: __MACOSX/+_648_640_640_label_ceo.v1i.yolov7pytorch/valid/labels/._IMG_2289_PNG_jpg.rf.3e344876822bfd2a3f25912824d618af.txt  \n",
            "  inflating: +_648_640_640_label_ceo.v1i.yolov7pytorch/valid/labels/SEVERITY_V13_49_jpg.rf.34eda40c733ed89ab9a08a99f99eeeb1.txt  \n",
            "  inflating: __MACOSX/+_648_640_640_label_ceo.v1i.yolov7pytorch/valid/labels/._SEVERITY_V13_49_jpg.rf.34eda40c733ed89ab9a08a99f99eeeb1.txt  \n",
            "  inflating: +_648_640_640_label_ceo.v1i.yolov7pytorch/valid/labels/SEEEEVERITY_141_jpg.rf.0aa1fa88dbcd5070de67236b7f58e016.txt  \n",
            "  inflating: __MACOSX/+_648_640_640_label_ceo.v1i.yolov7pytorch/valid/labels/._SEEEEVERITY_141_jpg.rf.0aa1fa88dbcd5070de67236b7f58e016.txt  \n",
            "  inflating: +_648_640_640_label_ceo.v1i.yolov7pytorch/valid/labels/SEEEEVERITY_257_jpg.rf.a1305b66d02bf9eab115c2aadec9448a.txt  \n",
            "  inflating: __MACOSX/+_648_640_640_label_ceo.v1i.yolov7pytorch/valid/labels/._SEEEEVERITY_257_jpg.rf.a1305b66d02bf9eab115c2aadec9448a.txt  \n",
            "  inflating: +_648_640_640_label_ceo.v1i.yolov7pytorch/valid/labels/Screen-Shot-2022-04-07-at-7-56-32-PM_png_jpg.rf.c4537fd13eacdf0c0b18dc179b75f050.txt  \n",
            "  inflating: __MACOSX/+_648_640_640_label_ceo.v1i.yolov7pytorch/valid/labels/._Screen-Shot-2022-04-07-at-7-56-32-PM_png_jpg.rf.c4537fd13eacdf0c0b18dc179b75f050.txt  \n",
            "  inflating: +_648_640_640_label_ceo.v1i.yolov7pytorch/valid/labels/trafficseverity_img1054_jpg.rf.abed08531a46502b53e4d0979f4475da.txt  \n",
            "  inflating: __MACOSX/+_648_640_640_label_ceo.v1i.yolov7pytorch/valid/labels/._trafficseverity_img1054_jpg.rf.abed08531a46502b53e4d0979f4475da.txt  \n",
            "  inflating: +_648_640_640_label_ceo.v1i.yolov7pytorch/valid/labels/SEEEEVERITY_199_jpg.rf.a0aa75620a0b39bb3c943fded83f6449.txt  \n",
            "  inflating: __MACOSX/+_648_640_640_label_ceo.v1i.yolov7pytorch/valid/labels/._SEEEEVERITY_199_jpg.rf.a0aa75620a0b39bb3c943fded83f6449.txt  \n",
            "  inflating: +_648_640_640_label_ceo.v1i.yolov7pytorch/valid/labels/trafficseverity_img357_jpg.rf.d9085d16aaf018b262d73ea07c4210eb.txt  \n",
            "  inflating: __MACOSX/+_648_640_640_label_ceo.v1i.yolov7pytorch/valid/labels/._trafficseverity_img357_jpg.rf.d9085d16aaf018b262d73ea07c4210eb.txt  \n",
            "  inflating: +_648_640_640_label_ceo.v1i.yolov7pytorch/valid/labels/SEVERITY_V10_86_jpg.rf.eaf77fc04df86645bebaad918ed4fd74.txt  \n",
            "  inflating: __MACOSX/+_648_640_640_label_ceo.v1i.yolov7pytorch/valid/labels/._SEVERITY_V10_86_jpg.rf.eaf77fc04df86645bebaad918ed4fd74.txt  \n",
            "  inflating: +_648_640_640_label_ceo.v1i.yolov7pytorch/valid/labels/Screen-Shot-2022-04-08-at-5-56-30-AM_png_jpg.rf.75b8a72282c5153f55bfcd540e07d028.txt  \n",
            "  inflating: __MACOSX/+_648_640_640_label_ceo.v1i.yolov7pytorch/valid/labels/._Screen-Shot-2022-04-08-at-5-56-30-AM_png_jpg.rf.75b8a72282c5153f55bfcd540e07d028.txt  \n",
            "  inflating: +_648_640_640_label_ceo.v1i.yolov7pytorch/valid/labels/SEV_22_3267_jpg.rf.671b34018849c688162b4f908a6ebf6d.txt  \n",
            "  inflating: __MACOSX/+_648_640_640_label_ceo.v1i.yolov7pytorch/valid/labels/._SEV_22_3267_jpg.rf.671b34018849c688162b4f908a6ebf6d.txt  \n",
            "  inflating: +_648_640_640_label_ceo.v1i.yolov7pytorch/valid/labels/SEV_22_2285_jpg.rf.9757973f9b389a1f260630e21e483baf.txt  \n",
            "  inflating: __MACOSX/+_648_640_640_label_ceo.v1i.yolov7pytorch/valid/labels/._SEV_22_2285_jpg.rf.9757973f9b389a1f260630e21e483baf.txt  \n",
            "  inflating: +_648_640_640_label_ceo.v1i.yolov7pytorch/valid/labels/trafficseverity_img1094_jpg.rf.04d87c98a19bb4e33183c1af356a0dd0.txt  \n",
            "  inflating: __MACOSX/+_648_640_640_label_ceo.v1i.yolov7pytorch/valid/labels/._trafficseverity_img1094_jpg.rf.04d87c98a19bb4e33183c1af356a0dd0.txt  \n",
            "  inflating: +_648_640_640_label_ceo.v1i.yolov7pytorch/valid/labels/traffic_img2465_jpg.rf.bfc4bf26a2aa96a9f42645e7feb04c9e.txt  \n",
            "  inflating: __MACOSX/+_648_640_640_label_ceo.v1i.yolov7pytorch/valid/labels/._traffic_img2465_jpg.rf.bfc4bf26a2aa96a9f42645e7feb04c9e.txt  \n",
            "  inflating: +_648_640_640_label_ceo.v1i.yolov7pytorch/valid/labels/trafficseverity_img2372_jpg.rf.f195e00dbf77e97eacb091ab29d4390a.txt  \n",
            "  inflating: __MACOSX/+_648_640_640_label_ceo.v1i.yolov7pytorch/valid/labels/._trafficseverity_img2372_jpg.rf.f195e00dbf77e97eacb091ab29d4390a.txt  \n",
            "  inflating: +_648_640_640_label_ceo.v1i.yolov7pytorch/valid/labels/argusAcc323_jpg.rf.c9862fd9bfc819c0fec616b108386958.txt  \n",
            "  inflating: __MACOSX/+_648_640_640_label_ceo.v1i.yolov7pytorch/valid/labels/._argusAcc323_jpg.rf.c9862fd9bfc819c0fec616b108386958.txt  \n",
            "  inflating: +_648_640_640_label_ceo.v1i.yolov7pytorch/valid/labels/trafficseverity_img106_jpg.rf.8c1cdaefa509fd9f6600badf0a56eb43.txt  \n",
            "  inflating: __MACOSX/+_648_640_640_label_ceo.v1i.yolov7pytorch/valid/labels/._trafficseverity_img106_jpg.rf.8c1cdaefa509fd9f6600badf0a56eb43.txt  \n",
            "  inflating: +_648_640_640_label_ceo.v1i.yolov7pytorch/valid/labels/SEV_22_3653_jpg.rf.0e59271685610910f8a53ce8425511a9.txt  \n",
            "  inflating: __MACOSX/+_648_640_640_label_ceo.v1i.yolov7pytorch/valid/labels/._SEV_22_3653_jpg.rf.0e59271685610910f8a53ce8425511a9.txt  \n",
            "  inflating: +_648_640_640_label_ceo.v1i.yolov7pytorch/valid/labels/SEVERITY_V10_103_jpg.rf.f63ed7e44a817c6bb18074d93f461237.txt  \n",
            "  inflating: __MACOSX/+_648_640_640_label_ceo.v1i.yolov7pytorch/valid/labels/._SEVERITY_V10_103_jpg.rf.f63ed7e44a817c6bb18074d93f461237.txt  \n",
            "  inflating: +_648_640_640_label_ceo.v1i.yolov7pytorch/valid/labels/images-41_jpg.rf.b25168dea595741f6944ad6d2975ddfa.txt  \n",
            "  inflating: __MACOSX/+_648_640_640_label_ceo.v1i.yolov7pytorch/valid/labels/._images-41_jpg.rf.b25168dea595741f6944ad6d2975ddfa.txt  \n",
            "  inflating: +_648_640_640_label_ceo.v1i.yolov7pytorch/valid/labels/IMG_1997_PNG_jpg.rf.756701baed3ad98632b35a6500f88a8c.txt  \n",
            "  inflating: __MACOSX/+_648_640_640_label_ceo.v1i.yolov7pytorch/valid/labels/._IMG_1997_PNG_jpg.rf.756701baed3ad98632b35a6500f88a8c.txt  \n",
            "  inflating: +_648_640_640_label_ceo.v1i.yolov7pytorch/valid/labels/trafficseverity_img1235_jpg.rf.68a6066c60075264cfab61afe677d4ce.txt  \n",
            "  inflating: __MACOSX/+_648_640_640_label_ceo.v1i.yolov7pytorch/valid/labels/._trafficseverity_img1235_jpg.rf.68a6066c60075264cfab61afe677d4ce.txt  \n",
            "  inflating: +_648_640_640_label_ceo.v1i.yolov7pytorch/valid/labels/trafficseverity_img3560_jpg.rf.c2218772268681d0e4675e9522061d29.txt  \n",
            "  inflating: __MACOSX/+_648_640_640_label_ceo.v1i.yolov7pytorch/valid/labels/._trafficseverity_img3560_jpg.rf.c2218772268681d0e4675e9522061d29.txt  \n",
            "  inflating: +_648_640_640_label_ceo.v1i.yolov7pytorch/valid/labels/SEV_22_2111_jpg.rf.1a036b805865992a9e8eff0e2cd5e1fd.txt  \n",
            "  inflating: __MACOSX/+_648_640_640_label_ceo.v1i.yolov7pytorch/valid/labels/._SEV_22_2111_jpg.rf.1a036b805865992a9e8eff0e2cd5e1fd.txt  \n",
            "  inflating: +_648_640_640_label_ceo.v1i.yolov7pytorch/valid/labels/Bus-Truck-Crashes-10-BeamNG-Drive_i_frame_1800_jpg.rf.2d6d9c74f8dad5c48661c3be63aefe7d.txt  \n",
            "  inflating: __MACOSX/+_648_640_640_label_ceo.v1i.yolov7pytorch/valid/labels/._Bus-Truck-Crashes-10-BeamNG-Drive_i_frame_1800_jpg.rf.2d6d9c74f8dad5c48661c3be63aefe7d.txt  \n",
            "  inflating: +_648_640_640_label_ceo.v1i.yolov7pytorch/valid/labels/Accident_Img_313_jpg.rf.24443562623f86c721f08c67854cf79d.txt  \n",
            "  inflating: __MACOSX/+_648_640_640_label_ceo.v1i.yolov7pytorch/valid/labels/._Accident_Img_313_jpg.rf.24443562623f86c721f08c67854cf79d.txt  \n",
            "  inflating: +_648_640_640_label_ceo.v1i.yolov7pytorch/valid/labels/SEEEEVERITY_218_jpg.rf.585bda6c7d58974e65fbfdabfdfda337.txt  \n",
            "  inflating: __MACOSX/+_648_640_640_label_ceo.v1i.yolov7pytorch/valid/labels/._SEEEEVERITY_218_jpg.rf.585bda6c7d58974e65fbfdabfdfda337.txt  \n",
            "  inflating: +_648_640_640_label_ceo.v1i.yolov7pytorch/valid/labels/SEEEEVERITY_120_jpg.rf.72bc1dd2c95ba4a74c9d38c830d0ca0f.txt  \n",
            "  inflating: __MACOSX/+_648_640_640_label_ceo.v1i.yolov7pytorch/valid/labels/._SEEEEVERITY_120_jpg.rf.72bc1dd2c95ba4a74c9d38c830d0ca0f.txt  \n",
            "  inflating: +_648_640_640_label_ceo.v1i.yolov7pytorch/valid/labels/SEV_V8_Img_134_jpg.rf.8bdddbc6ad56486fc3d4f42f72a2d26d.txt  \n",
            "  inflating: __MACOSX/+_648_640_640_label_ceo.v1i.yolov7pytorch/valid/labels/._SEV_V8_Img_134_jpg.rf.8bdddbc6ad56486fc3d4f42f72a2d26d.txt  \n",
            "  inflating: +_648_640_640_label_ceo.v1i.yolov7pytorch/valid/labels/severityV3_5_jpeg_jpg.rf.36c05c9aa9cd8fa2f98e144356feb91e.txt  \n",
            "  inflating: __MACOSX/+_648_640_640_label_ceo.v1i.yolov7pytorch/valid/labels/._severityV3_5_jpeg_jpg.rf.36c05c9aa9cd8fa2f98e144356feb91e.txt  \n",
            "  inflating: +_648_640_640_label_ceo.v1i.yolov7pytorch/valid/labels/SEV_22_3287_jpg.rf.debdc033f50452645b78bdff9aefd0c9.txt  \n",
            "  inflating: __MACOSX/+_648_640_640_label_ceo.v1i.yolov7pytorch/valid/labels/._SEV_22_3287_jpg.rf.debdc033f50452645b78bdff9aefd0c9.txt  \n",
            "  inflating: +_648_640_640_label_ceo.v1i.yolov7pytorch/valid/labels/IMG_2658_PNG_jpg.rf.7f0863ec95ce9e09a98f661388cfbcd6.txt  \n",
            "  inflating: __MACOSX/+_648_640_640_label_ceo.v1i.yolov7pytorch/valid/labels/._IMG_2658_PNG_jpg.rf.7f0863ec95ce9e09a98f661388cfbcd6.txt  \n",
            "  inflating: +_648_640_640_label_ceo.v1i.yolov7pytorch/valid/labels/IMG_1591_PNG_jpg.rf.08f084b3f4c86deb06e86ed11bee2af0.txt  \n",
            "  inflating: __MACOSX/+_648_640_640_label_ceo.v1i.yolov7pytorch/valid/labels/._IMG_1591_PNG_jpg.rf.08f084b3f4c86deb06e86ed11bee2af0.txt  \n",
            "  inflating: +_648_640_640_label_ceo.v1i.yolov7pytorch/valid/labels/Bus-Truck-Crashes-10-BeamNG-Drive_i_frame_8880_jpg.rf.17525bb657411b3ddb6a466a39c41cb2.txt  \n",
            "  inflating: __MACOSX/+_648_640_640_label_ceo.v1i.yolov7pytorch/valid/labels/._Bus-Truck-Crashes-10-BeamNG-Drive_i_frame_8880_jpg.rf.17525bb657411b3ddb6a466a39c41cb2.txt  \n",
            "  inflating: +_648_640_640_label_ceo.v1i.yolov7pytorch/valid/labels/SEVERITY_DATA_80_jpg.rf.ed1c6a04dfa693065d7dde921280cef8.txt  \n",
            "  inflating: __MACOSX/+_648_640_640_label_ceo.v1i.yolov7pytorch/valid/labels/._SEVERITY_DATA_80_jpg.rf.ed1c6a04dfa693065d7dde921280cef8.txt  \n",
            "  inflating: +_648_640_640_label_ceo.v1i.yolov7pytorch/valid/labels/SEV_22_2318_jpg.rf.f37c7fa0994891b7153c56deabc3019d.txt  \n",
            "  inflating: __MACOSX/+_648_640_640_label_ceo.v1i.yolov7pytorch/valid/labels/._SEV_22_2318_jpg.rf.f37c7fa0994891b7153c56deabc3019d.txt  \n",
            "  inflating: +_648_640_640_label_ceo.v1i.yolov7pytorch/valid/labels/traffic_img1098_jpg.rf.183115336e1806804f40cb6eae7b5aeb.txt  \n",
            "  inflating: __MACOSX/+_648_640_640_label_ceo.v1i.yolov7pytorch/valid/labels/._traffic_img1098_jpg.rf.183115336e1806804f40cb6eae7b5aeb.txt  \n",
            "  inflating: +_648_640_640_label_ceo.v1i.yolov7pytorch/valid/labels/Screen-Shot-2022-04-08-at-6-19-21-AM_png_jpg.rf.92a59ef8c0209bb5afff2b2d7a7d83cf.txt  \n",
            "  inflating: __MACOSX/+_648_640_640_label_ceo.v1i.yolov7pytorch/valid/labels/._Screen-Shot-2022-04-08-at-6-19-21-AM_png_jpg.rf.92a59ef8c0209bb5afff2b2d7a7d83cf.txt  \n",
            "  inflating: +_648_640_640_label_ceo.v1i.yolov7pytorch/valid/labels/images-51-_jpeg_jpg.rf.512297e9fe38c59e08142ffe78199ac1.txt  \n",
            "  inflating: __MACOSX/+_648_640_640_label_ceo.v1i.yolov7pytorch/valid/labels/._images-51-_jpeg_jpg.rf.512297e9fe38c59e08142ffe78199ac1.txt  \n",
            "  inflating: +_648_640_640_label_ceo.v1i.yolov7pytorch/valid/labels/IMG_2009_PNG_jpg.rf.1069ae54da6511695d85ab87aebebae1.txt  \n",
            "  inflating: __MACOSX/+_648_640_640_label_ceo.v1i.yolov7pytorch/valid/labels/._IMG_2009_PNG_jpg.rf.1069ae54da6511695d85ab87aebebae1.txt  \n",
            "  inflating: +_648_640_640_label_ceo.v1i.yolov7pytorch/valid/labels/SEVERITY_DATA_127_jpg.rf.d543f22fe023a21859d0deb854d3cd3a.txt  \n",
            "  inflating: __MACOSX/+_648_640_640_label_ceo.v1i.yolov7pytorch/valid/labels/._SEVERITY_DATA_127_jpg.rf.d543f22fe023a21859d0deb854d3cd3a.txt  \n",
            "  inflating: +_648_640_640_label_ceo.v1i.yolov7pytorch/valid/labels/SEV_V8_Img_57_jpg.rf.0e8026a6a94de1a93d06588e53ae3988.txt  \n",
            "  inflating: __MACOSX/+_648_640_640_label_ceo.v1i.yolov7pytorch/valid/labels/._SEV_V8_Img_57_jpg.rf.0e8026a6a94de1a93d06588e53ae3988.txt  \n",
            "  inflating: +_648_640_640_label_ceo.v1i.yolov7pytorch/valid/labels/SEV_22_2598_jpg.rf.9343c1e208aa91708c207e6ba0f8e077.txt  \n",
            "  inflating: __MACOSX/+_648_640_640_label_ceo.v1i.yolov7pytorch/valid/labels/._SEV_22_2598_jpg.rf.9343c1e208aa91708c207e6ba0f8e077.txt  \n",
            "  inflating: +_648_640_640_label_ceo.v1i.yolov7pytorch/valid/labels/trafficseverity_img2728_jpg.rf.f196f13627c7a3e0e2228dee15485f0e.txt  \n",
            "  inflating: __MACOSX/+_648_640_640_label_ceo.v1i.yolov7pytorch/valid/labels/._trafficseverity_img2728_jpg.rf.f196f13627c7a3e0e2228dee15485f0e.txt  \n",
            "  inflating: +_648_640_640_label_ceo.v1i.yolov7pytorch/valid/labels/Screen-Shot-2022-04-07-at-8-33-42-AM_png_jpg.rf.0301a61ec15e7026861df3ab4e4a1d72.txt  \n",
            "  inflating: __MACOSX/+_648_640_640_label_ceo.v1i.yolov7pytorch/valid/labels/._Screen-Shot-2022-04-07-at-8-33-42-AM_png_jpg.rf.0301a61ec15e7026861df3ab4e4a1d72.txt  \n",
            "  inflating: +_648_640_640_label_ceo.v1i.yolov7pytorch/valid/labels/SEV_22_2949_jpg.rf.53be93f74ae809b9d9ce797fdaaf32a0.txt  \n",
            "  inflating: __MACOSX/+_648_640_640_label_ceo.v1i.yolov7pytorch/valid/labels/._SEV_22_2949_jpg.rf.53be93f74ae809b9d9ce797fdaaf32a0.txt  \n",
            "  inflating: +_648_640_640_label_ceo.v1i.yolov7pytorch/valid/labels/trafficseverity_img523_jpg.rf.35ef01710615b32ed1936748a4790eb1.txt  \n",
            "  inflating: __MACOSX/+_648_640_640_label_ceo.v1i.yolov7pytorch/valid/labels/._trafficseverity_img523_jpg.rf.35ef01710615b32ed1936748a4790eb1.txt  \n",
            "  inflating: +_648_640_640_label_ceo.v1i.yolov7pytorch/valid/labels/SEV_22_3137_jpg.rf.f7c2ea73aa53945efbdb2a54fd32ab4a.txt  \n",
            "  inflating: __MACOSX/+_648_640_640_label_ceo.v1i.yolov7pytorch/valid/labels/._SEV_22_3137_jpg.rf.f7c2ea73aa53945efbdb2a54fd32ab4a.txt  \n",
            "  inflating: +_648_640_640_label_ceo.v1i.yolov7pytorch/valid/labels/IMG_2434_PNG_jpg.rf.5a9ea5d09c6db2cd933451cc940c9cd4.txt  \n",
            "  inflating: __MACOSX/+_648_640_640_label_ceo.v1i.yolov7pytorch/valid/labels/._IMG_2434_PNG_jpg.rf.5a9ea5d09c6db2cd933451cc940c9cd4.txt  \n",
            "  inflating: +_648_640_640_label_ceo.v1i.yolov7pytorch/valid/labels/SEV_V8_Img_61_jpg.rf.729a8438b1c9a32d7b60a0e4aefa5ad4.txt  \n",
            "  inflating: __MACOSX/+_648_640_640_label_ceo.v1i.yolov7pytorch/valid/labels/._SEV_V8_Img_61_jpg.rf.729a8438b1c9a32d7b60a0e4aefa5ad4.txt  \n",
            "  inflating: +_648_640_640_label_ceo.v1i.yolov7pytorch/valid/labels/AVEAHZJGKUXBSSEECYXLWMZ5IA_jpg.rf.7088a3915647a9d4b3598d159e499aa8.txt  \n",
            "  inflating: __MACOSX/+_648_640_640_label_ceo.v1i.yolov7pytorch/valid/labels/._AVEAHZJGKUXBSSEECYXLWMZ5IA_jpg.rf.7088a3915647a9d4b3598d159e499aa8.txt  \n",
            "  inflating: +_648_640_640_label_ceo.v1i.yolov7pytorch/valid/labels/SEEEEVERITY_189_jpg.rf.86a79a343f6cae9a406c4cd67b308351.txt  \n",
            "  inflating: __MACOSX/+_648_640_640_label_ceo.v1i.yolov7pytorch/valid/labels/._SEEEEVERITY_189_jpg.rf.86a79a343f6cae9a406c4cd67b308351.txt  \n",
            "  inflating: +_648_640_640_label_ceo.v1i.yolov7pytorch/valid/labels/traffic_img3492_jpg.rf.7724741a8cb11c4091d27d5f1a3b519c.txt  \n",
            "  inflating: __MACOSX/+_648_640_640_label_ceo.v1i.yolov7pytorch/valid/labels/._traffic_img3492_jpg.rf.7724741a8cb11c4091d27d5f1a3b519c.txt  \n",
            "  inflating: +_648_640_640_label_ceo.v1i.yolov7pytorch/valid/labels/traffic_img91_jpg.rf.864b6fe30e3a674847604e967366344b.txt  \n",
            "  inflating: __MACOSX/+_648_640_640_label_ceo.v1i.yolov7pytorch/valid/labels/._traffic_img91_jpg.rf.864b6fe30e3a674847604e967366344b.txt  \n",
            "  inflating: +_648_640_640_label_ceo.v1i.yolov7pytorch/valid/labels/trafficseverity_img841_jpg.rf.66243439e518cf56f502912e467716ee.txt  \n",
            "  inflating: __MACOSX/+_648_640_640_label_ceo.v1i.yolov7pytorch/valid/labels/._trafficseverity_img841_jpg.rf.66243439e518cf56f502912e467716ee.txt  \n",
            "  inflating: +_648_640_640_label_ceo.v1i.yolov7pytorch/valid/labels/argusAcc67_jpg.rf.78290102636a4323d3228f09ad60196c.txt  \n",
            "  inflating: __MACOSX/+_648_640_640_label_ceo.v1i.yolov7pytorch/valid/labels/._argusAcc67_jpg.rf.78290102636a4323d3228f09ad60196c.txt  \n",
            "  inflating: +_648_640_640_label_ceo.v1i.yolov7pytorch/valid/labels/14-174_jpg.rf.21ed4f48752a46135e0430137e0ee897.txt  \n",
            "  inflating: __MACOSX/+_648_640_640_label_ceo.v1i.yolov7pytorch/valid/labels/._14-174_jpg.rf.21ed4f48752a46135e0430137e0ee897.txt  \n",
            "  inflating: +_648_640_640_label_ceo.v1i.yolov7pytorch/valid/labels/IMG_2660_PNG_jpg.rf.d0572960789d63913fcdb835a52117aa.txt  \n",
            "  inflating: __MACOSX/+_648_640_640_label_ceo.v1i.yolov7pytorch/valid/labels/._IMG_2660_PNG_jpg.rf.d0572960789d63913fcdb835a52117aa.txt  \n",
            "  inflating: +_648_640_640_label_ceo.v1i.yolov7pytorch/valid/labels/SEVERITY_DATA_116_jpg.rf.5b2f75e8c4be099bba2da9ab93064c63.txt  \n",
            "  inflating: __MACOSX/+_648_640_640_label_ceo.v1i.yolov7pytorch/valid/labels/._SEVERITY_DATA_116_jpg.rf.5b2f75e8c4be099bba2da9ab93064c63.txt  \n",
            "  inflating: +_648_640_640_label_ceo.v1i.yolov7pytorch/valid/labels/Semi-RealisticVD-78_jpg.rf.6dfcd1fc76c47edb0e8b875cf22e121b.txt  \n",
            "  inflating: __MACOSX/+_648_640_640_label_ceo.v1i.yolov7pytorch/valid/labels/._Semi-RealisticVD-78_jpg.rf.6dfcd1fc76c47edb0e8b875cf22e121b.txt  \n",
            "  inflating: +_648_640_640_label_ceo.v1i.yolov7pytorch/valid/labels/traffic_img837_jpg.rf.71ad7e98acc009ffd75a31e8a77f250a.txt  \n",
            "  inflating: __MACOSX/+_648_640_640_label_ceo.v1i.yolov7pytorch/valid/labels/._traffic_img837_jpg.rf.71ad7e98acc009ffd75a31e8a77f250a.txt  \n",
            "  inflating: +_648_640_640_label_ceo.v1i.yolov7pytorch/valid/labels/SEEEEVERITY_302_jpg.rf.b06a09655a212f92e81896383016076b.txt  \n",
            "  inflating: __MACOSX/+_648_640_640_label_ceo.v1i.yolov7pytorch/valid/labels/._SEEEEVERITY_302_jpg.rf.b06a09655a212f92e81896383016076b.txt  \n",
            "  inflating: +_648_640_640_label_ceo.v1i.yolov7pytorch/valid/labels/EXTREME-CAR-CRASH-1-HOUR-COMPILATION-BIGGEST-CAR-CRASHES-1_i_frame_78741_jpg.rf.207f5a319c2f159c9251579e0267828b.txt  \n",
            "  inflating: __MACOSX/+_648_640_640_label_ceo.v1i.yolov7pytorch/valid/labels/._EXTREME-CAR-CRASH-1-HOUR-COMPILATION-BIGGEST-CAR-CRASHES-1_i_frame_78741_jpg.rf.207f5a319c2f159c9251579e0267828b.txt  \n",
            "  inflating: +_648_640_640_label_ceo.v1i.yolov7pytorch/valid/labels/traffic_img2463_jpg.rf.7ec397c56f1b8952a02d1d4bacdcc7e2.txt  \n",
            "  inflating: __MACOSX/+_648_640_640_label_ceo.v1i.yolov7pytorch/valid/labels/._traffic_img2463_jpg.rf.7ec397c56f1b8952a02d1d4bacdcc7e2.txt  \n",
            "  inflating: +_648_640_640_label_ceo.v1i.yolov7pytorch/valid/labels/IMG_1588_PNG_jpg.rf.de770f79fca31ec99496378034bac4f6.txt  \n",
            "  inflating: __MACOSX/+_648_640_640_label_ceo.v1i.yolov7pytorch/valid/labels/._IMG_1588_PNG_jpg.rf.de770f79fca31ec99496378034bac4f6.txt  \n",
            "  inflating: +_648_640_640_label_ceo.v1i.yolov7pytorch/valid/labels/SEV_22_1470_jpg.rf.53b3e3b788ee6737e7e8727fe787f368.txt  \n",
            "  inflating: __MACOSX/+_648_640_640_label_ceo.v1i.yolov7pytorch/valid/labels/._SEV_22_1470_jpg.rf.53b3e3b788ee6737e7e8727fe787f368.txt  \n",
            "  inflating: +_648_640_640_label_ceo.v1i.yolov7pytorch/valid/labels/IMG_2333_PNG_jpg.rf.a1921cd14a5e5b488a2517e606618d2f.txt  \n",
            "  inflating: __MACOSX/+_648_640_640_label_ceo.v1i.yolov7pytorch/valid/labels/._IMG_2333_PNG_jpg.rf.a1921cd14a5e5b488a2517e606618d2f.txt  \n",
            "  inflating: +_648_640_640_label_ceo.v1i.yolov7pytorch/valid/labels/traffic_img1359_jpg.rf.e5cba20405aace6535fab8c803dc2ae0.txt  \n",
            "  inflating: __MACOSX/+_648_640_640_label_ceo.v1i.yolov7pytorch/valid/labels/._traffic_img1359_jpg.rf.e5cba20405aace6535fab8c803dc2ae0.txt  \n",
            "  inflating: +_648_640_640_label_ceo.v1i.yolov7pytorch/valid/labels/SEVERITY_V10_131_jpg.rf.ee0cf5570a45ba77d381486b5d1403c5.txt  \n",
            "  inflating: __MACOSX/+_648_640_640_label_ceo.v1i.yolov7pytorch/valid/labels/._SEVERITY_V10_131_jpg.rf.ee0cf5570a45ba77d381486b5d1403c5.txt  \n",
            "  inflating: +_648_640_640_label_ceo.v1i.yolov7pytorch/valid/labels/trafficseverity_img764_jpg.rf.b061bb01d53f0aee8fc7b4e59d1a83da.txt  \n",
            "  inflating: __MACOSX/+_648_640_640_label_ceo.v1i.yolov7pytorch/valid/labels/._trafficseverity_img764_jpg.rf.b061bb01d53f0aee8fc7b4e59d1a83da.txt  \n",
            "  inflating: +_648_640_640_label_ceo.v1i.yolov7pytorch/valid/labels/IMG_2423_PNG_jpg.rf.4492360f00868d0d6d7ee24c198e7a5e.txt  \n",
            "  inflating: __MACOSX/+_648_640_640_label_ceo.v1i.yolov7pytorch/valid/labels/._IMG_2423_PNG_jpg.rf.4492360f00868d0d6d7ee24c198e7a5e.txt  \n",
            "  inflating: +_648_640_640_label_ceo.v1i.yolov7pytorch/valid/labels/SEVERITY_V10_9_jpg.rf.e0fa6a0e0dcf52916050295a8e06e82b.txt  \n",
            "  inflating: __MACOSX/+_648_640_640_label_ceo.v1i.yolov7pytorch/valid/labels/._SEVERITY_V10_9_jpg.rf.e0fa6a0e0dcf52916050295a8e06e82b.txt  \n",
            "  inflating: +_648_640_640_label_ceo.v1i.yolov7pytorch/valid/labels/trafficseverity_img72_jpg.rf.2a4d94ae7fe4530bd9c12be080297b9b.txt  \n",
            "  inflating: __MACOSX/+_648_640_640_label_ceo.v1i.yolov7pytorch/valid/labels/._trafficseverity_img72_jpg.rf.2a4d94ae7fe4530bd9c12be080297b9b.txt  \n",
            "  inflating: +_648_640_640_label_ceo.v1i.yolov7pytorch/valid/labels/SEVERITY_DATA_78_jpg.rf.61356beea1eb4a4ccffd4552fa5c6bd4.txt  \n",
            "  inflating: __MACOSX/+_648_640_640_label_ceo.v1i.yolov7pytorch/valid/labels/._SEVERITY_DATA_78_jpg.rf.61356beea1eb4a4ccffd4552fa5c6bd4.txt  \n",
            "  inflating: +_648_640_640_label_ceo.v1i.yolov7pytorch/valid/labels/IMG_2350_PNG_jpg.rf.8af8b2e8348523f47d65c49a615848ba.txt  \n",
            "  inflating: __MACOSX/+_648_640_640_label_ceo.v1i.yolov7pytorch/valid/labels/._IMG_2350_PNG_jpg.rf.8af8b2e8348523f47d65c49a615848ba.txt  \n",
            "  inflating: +_648_640_640_label_ceo.v1i.yolov7pytorch/valid/labels/Accident_Img_1762_jpg.rf.1aad2d233167779773d7802da1ca65ee.txt  \n",
            "  inflating: __MACOSX/+_648_640_640_label_ceo.v1i.yolov7pytorch/valid/labels/._Accident_Img_1762_jpg.rf.1aad2d233167779773d7802da1ca65ee.txt  \n",
            "  inflating: +_648_640_640_label_ceo.v1i.yolov7pytorch/valid/labels/Screen-Shot-2022-04-08-at-7-57-02-AM_png_jpg.rf.5e9f4af2ece0fda0c904e2adf5247589.txt  \n",
            "  inflating: __MACOSX/+_648_640_640_label_ceo.v1i.yolov7pytorch/valid/labels/._Screen-Shot-2022-04-08-at-7-57-02-AM_png_jpg.rf.5e9f4af2ece0fda0c904e2adf5247589.txt  \n",
            "  inflating: +_648_640_640_label_ceo.v1i.yolov7pytorch/valid/labels/SEVERITY_DATA_40_jpg.rf.7b04578209ddaba5eef4c759bd718475.txt  \n",
            "  inflating: __MACOSX/+_648_640_640_label_ceo.v1i.yolov7pytorch/valid/labels/._SEVERITY_DATA_40_jpg.rf.7b04578209ddaba5eef4c759bd718475.txt  \n",
            "  inflating: +_648_640_640_label_ceo.v1i.yolov7pytorch/valid/labels/trafficseverity_img947_jpg.rf.229dfe7bf0d5d0fc978846883eab0659.txt  \n",
            "  inflating: __MACOSX/+_648_640_640_label_ceo.v1i.yolov7pytorch/valid/labels/._trafficseverity_img947_jpg.rf.229dfe7bf0d5d0fc978846883eab0659.txt  \n",
            "  inflating: +_648_640_640_label_ceo.v1i.yolov7pytorch/valid/labels/trafficseverity_img2508_jpg.rf.6ac3dd4425c5c153801e1098dace2580.txt  \n",
            "  inflating: __MACOSX/+_648_640_640_label_ceo.v1i.yolov7pytorch/valid/labels/._trafficseverity_img2508_jpg.rf.6ac3dd4425c5c153801e1098dace2580.txt  \n",
            "  inflating: +_648_640_640_label_ceo.v1i.yolov7pytorch/valid/labels/traffic_img3489_jpg.rf.ea8b6533e963522d702d7d15fcc71fcf.txt  \n",
            "  inflating: __MACOSX/+_648_640_640_label_ceo.v1i.yolov7pytorch/valid/labels/._traffic_img3489_jpg.rf.ea8b6533e963522d702d7d15fcc71fcf.txt  \n",
            "  inflating: +_648_640_640_label_ceo.v1i.yolov7pytorch/valid/labels/trafficseverity_img2189_jpg.rf.a55dd5a7539b38395274e5008559554e.txt  \n",
            "  inflating: __MACOSX/+_648_640_640_label_ceo.v1i.yolov7pytorch/valid/labels/._trafficseverity_img2189_jpg.rf.a55dd5a7539b38395274e5008559554e.txt  \n",
            "  inflating: +_648_640_640_label_ceo.v1i.yolov7pytorch/valid/labels/traffic_img251_jpg.rf.e90354834789cbfb1dd44dbecd80f7f1.txt  \n",
            "  inflating: __MACOSX/+_648_640_640_label_ceo.v1i.yolov7pytorch/valid/labels/._traffic_img251_jpg.rf.e90354834789cbfb1dd44dbecd80f7f1.txt  \n",
            "  inflating: +_648_640_640_label_ceo.v1i.yolov7pytorch/valid/labels/traffic_img441_jpg.rf.67147e1d08601556fd12ef450f7ef1ee.txt  \n",
            "  inflating: __MACOSX/+_648_640_640_label_ceo.v1i.yolov7pytorch/valid/labels/._traffic_img441_jpg.rf.67147e1d08601556fd12ef450f7ef1ee.txt  \n",
            "  inflating: +_648_640_640_label_ceo.v1i.yolov7pytorch/valid/labels/IMG_2419_PNG_jpg.rf.e9386b5cf847dd2b30e59d8de4ae77db.txt  \n",
            "  inflating: __MACOSX/+_648_640_640_label_ceo.v1i.yolov7pytorch/valid/labels/._IMG_2419_PNG_jpg.rf.e9386b5cf847dd2b30e59d8de4ae77db.txt  \n",
            "  inflating: +_648_640_640_label_ceo.v1i.yolov7pytorch/valid/labels/SEEEEVERITY_93_jpg.rf.94c825d7003a5a9920bb52d89b957668.txt  \n",
            "  inflating: __MACOSX/+_648_640_640_label_ceo.v1i.yolov7pytorch/valid/labels/._SEEEEVERITY_93_jpg.rf.94c825d7003a5a9920bb52d89b957668.txt  \n",
            "  inflating: +_648_640_640_label_ceo.v1i.yolov7pytorch/valid/labels/IMG_2303_PNG_jpg.rf.a40748fac13a6fe3abf3e26ff036a310.txt  \n",
            "  inflating: __MACOSX/+_648_640_640_label_ceo.v1i.yolov7pytorch/valid/labels/._IMG_2303_PNG_jpg.rf.a40748fac13a6fe3abf3e26ff036a310.txt  \n",
            "  inflating: +_648_640_640_label_ceo.v1i.yolov7pytorch/valid/labels/traffic_img1147_jpg.rf.cdf7ac59e1af58ca4a6aee2f164fd54a.txt  \n",
            "  inflating: __MACOSX/+_648_640_640_label_ceo.v1i.yolov7pytorch/valid/labels/._traffic_img1147_jpg.rf.cdf7ac59e1af58ca4a6aee2f164fd54a.txt  \n",
            "  inflating: +_648_640_640_label_ceo.v1i.yolov7pytorch/valid/labels/SEVERITY_DATA_104_jpg.rf.f3675ad3e4dd919e6a58d9cf8ff66653.txt  \n",
            "  inflating: __MACOSX/+_648_640_640_label_ceo.v1i.yolov7pytorch/valid/labels/._SEVERITY_DATA_104_jpg.rf.f3675ad3e4dd919e6a58d9cf8ff66653.txt  \n",
            "  inflating: +_648_640_640_label_ceo.v1i.yolov7pytorch/valid/labels/IMG_1529_PNG_jpg.rf.3911a79a2e1ea2b693c0d57cba43aaa6.txt  \n",
            "  inflating: __MACOSX/+_648_640_640_label_ceo.v1i.yolov7pytorch/valid/labels/._IMG_1529_PNG_jpg.rf.3911a79a2e1ea2b693c0d57cba43aaa6.txt  \n",
            "  inflating: +_648_640_640_label_ceo.v1i.yolov7pytorch/valid/labels/trafficseverity_img521_jpg.rf.715e37837d8c39fb7d7820e65017f80c.txt  \n",
            "  inflating: __MACOSX/+_648_640_640_label_ceo.v1i.yolov7pytorch/valid/labels/._trafficseverity_img521_jpg.rf.715e37837d8c39fb7d7820e65017f80c.txt  \n",
            "  inflating: +_648_640_640_label_ceo.v1i.yolov7pytorch/valid/labels/Semi-RealisticVD-216_jpg.rf.9bf5c678a18ddf32048a59b0ce413da3.txt  \n",
            "  inflating: __MACOSX/+_648_640_640_label_ceo.v1i.yolov7pytorch/valid/labels/._Semi-RealisticVD-216_jpg.rf.9bf5c678a18ddf32048a59b0ce413da3.txt  \n",
            "  inflating: +_648_640_640_label_ceo.v1i.yolov7pytorch/valid/labels/trafficseverity_img5137_jpg.rf.7ad189a8de8b78b4c5022e80c83fe8c8.txt  \n",
            "  inflating: __MACOSX/+_648_640_640_label_ceo.v1i.yolov7pytorch/valid/labels/._trafficseverity_img5137_jpg.rf.7ad189a8de8b78b4c5022e80c83fe8c8.txt  \n",
            "  inflating: +_648_640_640_label_ceo.v1i.yolov7pytorch/valid/labels/Screen-Shot-2022-04-09-at-8-25-17-AM_png_jpg.rf.036d34e56b65df3d279eb611ca18cfc5.txt  \n",
            "  inflating: __MACOSX/+_648_640_640_label_ceo.v1i.yolov7pytorch/valid/labels/._Screen-Shot-2022-04-09-at-8-25-17-AM_png_jpg.rf.036d34e56b65df3d279eb611ca18cfc5.txt  \n",
            "  inflating: +_648_640_640_label_ceo.v1i.yolov7pytorch/valid/labels/trafficseverity_img514_jpg.rf.d9fc07dcf3ec8512288f171b53222f6c.txt  \n",
            "  inflating: __MACOSX/+_648_640_640_label_ceo.v1i.yolov7pytorch/valid/labels/._trafficseverity_img514_jpg.rf.d9fc07dcf3ec8512288f171b53222f6c.txt  \n",
            "  inflating: +_648_640_640_label_ceo.v1i.yolov7pytorch/valid/labels/traffic_img969_jpg.rf.3566c8f1a88d35495a044cd3f3e1141c.txt  \n",
            "  inflating: __MACOSX/+_648_640_640_label_ceo.v1i.yolov7pytorch/valid/labels/._traffic_img969_jpg.rf.3566c8f1a88d35495a044cd3f3e1141c.txt  \n",
            "  inflating: +_648_640_640_label_ceo.v1i.yolov7pytorch/valid/labels/trafficseverity_img4838_jpg.rf.fa268ca118596d3e3d8b732912b2219c.txt  \n",
            "  inflating: __MACOSX/+_648_640_640_label_ceo.v1i.yolov7pytorch/valid/labels/._trafficseverity_img4838_jpg.rf.fa268ca118596d3e3d8b732912b2219c.txt  \n",
            "  inflating: +_648_640_640_label_ceo.v1i.yolov7pytorch/valid/labels/Screen-Shot-2022-04-08-at-7-39-12-AM_png_jpg.rf.daf61da4f71d28efb5fa1d25636c0ea8.txt  \n",
            "  inflating: __MACOSX/+_648_640_640_label_ceo.v1i.yolov7pytorch/valid/labels/._Screen-Shot-2022-04-08-at-7-39-12-AM_png_jpg.rf.daf61da4f71d28efb5fa1d25636c0ea8.txt  \n",
            "  inflating: +_648_640_640_label_ceo.v1i.yolov7pytorch/valid/labels/SEVERITY_V13_5_jpg.rf.80828dbb042f63a25430bdf10a54030c.txt  \n",
            "  inflating: __MACOSX/+_648_640_640_label_ceo.v1i.yolov7pytorch/valid/labels/._SEVERITY_V13_5_jpg.rf.80828dbb042f63a25430bdf10a54030c.txt  \n",
            "  inflating: +_648_640_640_label_ceo.v1i.yolov7pytorch/valid/labels/SEEEEVERITY_358_jpg.rf.90432ea3a86d102dd398c564ebf6c474.txt  \n",
            "  inflating: __MACOSX/+_648_640_640_label_ceo.v1i.yolov7pytorch/valid/labels/._SEEEEVERITY_358_jpg.rf.90432ea3a86d102dd398c564ebf6c474.txt  \n",
            "  inflating: +_648_640_640_label_ceo.v1i.yolov7pytorch/valid/labels/Semi-RealisticVD-65_jpg.rf.a889cfaeb699be806060a2ab2485b84c.txt  \n",
            "  inflating: __MACOSX/+_648_640_640_label_ceo.v1i.yolov7pytorch/valid/labels/._Semi-RealisticVD-65_jpg.rf.a889cfaeb699be806060a2ab2485b84c.txt  \n",
            "  inflating: +_648_640_640_label_ceo.v1i.yolov7pytorch/valid/labels/SEEEEVERITY_115_jpg.rf.e8fc68af2026d42c83532f8cbe2d6eba.txt  \n",
            "  inflating: __MACOSX/+_648_640_640_label_ceo.v1i.yolov7pytorch/valid/labels/._SEEEEVERITY_115_jpg.rf.e8fc68af2026d42c83532f8cbe2d6eba.txt  \n",
            "  inflating: +_648_640_640_label_ceo.v1i.yolov7pytorch/valid/labels/images-2_jpg.rf.f6ce610367112bf54c5d2e29eaafb4f5.txt  \n",
            "  inflating: __MACOSX/+_648_640_640_label_ceo.v1i.yolov7pytorch/valid/labels/._images-2_jpg.rf.f6ce610367112bf54c5d2e29eaafb4f5.txt  \n",
            "  inflating: +_648_640_640_label_ceo.v1i.yolov7pytorch/valid/labels/SEEEEVERITY_81_jpg.rf.58458b42af2da3d84ad597d2713954d5.txt  \n",
            "  inflating: __MACOSX/+_648_640_640_label_ceo.v1i.yolov7pytorch/valid/labels/._SEEEEVERITY_81_jpg.rf.58458b42af2da3d84ad597d2713954d5.txt  \n",
            "  inflating: +_648_640_640_label_ceo.v1i.yolov7pytorch/valid/labels/trafficseverity_img609_jpg.rf.048f3a33bfef9614ba45dcb3545a525c.txt  \n",
            "  inflating: __MACOSX/+_648_640_640_label_ceo.v1i.yolov7pytorch/valid/labels/._trafficseverity_img609_jpg.rf.048f3a33bfef9614ba45dcb3545a525c.txt  \n",
            "  inflating: +_648_640_640_label_ceo.v1i.yolov7pytorch/valid/labels/SEEEEVERITY_375_jpg.rf.a0be1e607223d2879c780835da579a0f.txt  \n",
            "  inflating: __MACOSX/+_648_640_640_label_ceo.v1i.yolov7pytorch/valid/labels/._SEEEEVERITY_375_jpg.rf.a0be1e607223d2879c780835da579a0f.txt  \n",
            "  inflating: +_648_640_640_label_ceo.v1i.yolov7pytorch/valid/labels/SEV_22_154_jpg.rf.615aafa4c00e585d6696b84339c926b4.txt  \n",
            "  inflating: __MACOSX/+_648_640_640_label_ceo.v1i.yolov7pytorch/valid/labels/._SEV_22_154_jpg.rf.615aafa4c00e585d6696b84339c926b4.txt  \n",
            "  inflating: +_648_640_640_label_ceo.v1i.yolov7pytorch/valid/labels/trafficseverity_img945_jpg.rf.45fa0f2de7e1f8942a59fc624ccd5925.txt  \n",
            "  inflating: __MACOSX/+_648_640_640_label_ceo.v1i.yolov7pytorch/valid/labels/._trafficseverity_img945_jpg.rf.45fa0f2de7e1f8942a59fc624ccd5925.txt  \n",
            "  inflating: +_648_640_640_label_ceo.v1i.yolov7pytorch/valid/labels/Bus-Truck-Crashes-10-BeamNG-Drive_i_frame_760_jpg.rf.fb7da0871df4ceeec43999e77e635e92.txt  \n",
            "  inflating: __MACOSX/+_648_640_640_label_ceo.v1i.yolov7pytorch/valid/labels/._Bus-Truck-Crashes-10-BeamNG-Drive_i_frame_760_jpg.rf.fb7da0871df4ceeec43999e77e635e92.txt  \n",
            "  inflating: +_648_640_640_label_ceo.v1i.yolov7pytorch/valid/labels/EXTREME-CAR-CRASH-1-HOUR-COMPILATION-BIGGEST-CAR-CRASHES-1_i_frame_67456_jpg.rf.851490a8606d48104880ea576f8bea4f.txt  \n",
            "  inflating: __MACOSX/+_648_640_640_label_ceo.v1i.yolov7pytorch/valid/labels/._EXTREME-CAR-CRASH-1-HOUR-COMPILATION-BIGGEST-CAR-CRASHES-1_i_frame_67456_jpg.rf.851490a8606d48104880ea576f8bea4f.txt  \n",
            "  inflating: +_648_640_640_label_ceo.v1i.yolov7pytorch/valid/labels/Accident_Img_1396_jpg.rf.f57648a3cb350a450c53ec87230636d6.txt  \n",
            "  inflating: __MACOSX/+_648_640_640_label_ceo.v1i.yolov7pytorch/valid/labels/._Accident_Img_1396_jpg.rf.f57648a3cb350a450c53ec87230636d6.txt  \n",
            "  inflating: +_648_640_640_label_ceo.v1i.yolov7pytorch/valid/labels/SEVERITY_V10_129_jpg.rf.735f8adbe8c0fa63277bdc5824c6e1b0.txt  \n",
            "  inflating: __MACOSX/+_648_640_640_label_ceo.v1i.yolov7pytorch/valid/labels/._SEVERITY_V10_129_jpg.rf.735f8adbe8c0fa63277bdc5824c6e1b0.txt  \n",
            "  inflating: +_648_640_640_label_ceo.v1i.yolov7pytorch/valid/labels/maxresdefault_jpg.rf.5b6a73384a9c0796dc3b1f21d3d4bbac.txt  \n",
            "  inflating: __MACOSX/+_648_640_640_label_ceo.v1i.yolov7pytorch/valid/labels/._maxresdefault_jpg.rf.5b6a73384a9c0796dc3b1f21d3d4bbac.txt  \n",
            "  inflating: +_648_640_640_label_ceo.v1i.yolov7pytorch/valid/labels/trafficseverity_img1755_jpg.rf.761eae3da5dae401f5b96d3bcc026a6d.txt  \n",
            "  inflating: __MACOSX/+_648_640_640_label_ceo.v1i.yolov7pytorch/valid/labels/._trafficseverity_img1755_jpg.rf.761eae3da5dae401f5b96d3bcc026a6d.txt  \n",
            "  inflating: +_648_640_640_label_ceo.v1i.yolov7pytorch/valid/labels/severV16_jpg.rf.7f5467a4064bae9a41148fdfe592cd16.txt  \n",
            "  inflating: __MACOSX/+_648_640_640_label_ceo.v1i.yolov7pytorch/valid/labels/._severV16_jpg.rf.7f5467a4064bae9a41148fdfe592cd16.txt  \n",
            "  inflating: +_648_640_640_label_ceo.v1i.yolov7pytorch/valid/labels/SEVERITY_V10_23_jpg.rf.c3492538a471dab1bd2a67e0fb4cc704.txt  \n",
            "  inflating: __MACOSX/+_648_640_640_label_ceo.v1i.yolov7pytorch/valid/labels/._SEVERITY_V10_23_jpg.rf.c3492538a471dab1bd2a67e0fb4cc704.txt  \n",
            "  inflating: +_648_640_640_label_ceo.v1i.yolov7pytorch/valid/labels/Screen-Shot-2022-04-07-at-8-32-02-AM_png_jpg.rf.1518c516317ae18d22688337d8045ddc.txt  \n",
            "  inflating: __MACOSX/+_648_640_640_label_ceo.v1i.yolov7pytorch/valid/labels/._Screen-Shot-2022-04-07-at-8-32-02-AM_png_jpg.rf.1518c516317ae18d22688337d8045ddc.txt  \n",
            "  inflating: +_648_640_640_label_ceo.v1i.yolov7pytorch/valid/labels/trafficseverity_img2354_jpg.rf.3f2608681336c4f8ec17c9f804c7ac3d.txt  \n",
            "  inflating: __MACOSX/+_648_640_640_label_ceo.v1i.yolov7pytorch/valid/labels/._trafficseverity_img2354_jpg.rf.3f2608681336c4f8ec17c9f804c7ac3d.txt  \n",
            "  inflating: +_648_640_640_label_ceo.v1i.yolov7pytorch/valid/labels/IMG_2308_PNG_jpg.rf.b6c8b5dfa0394acc94195c3c73c4b93e.txt  \n",
            "  inflating: __MACOSX/+_648_640_640_label_ceo.v1i.yolov7pytorch/valid/labels/._IMG_2308_PNG_jpg.rf.b6c8b5dfa0394acc94195c3c73c4b93e.txt  \n",
            "  inflating: +_648_640_640_label_ceo.v1i.yolov7pytorch/valid/labels/traffic_img57_jpg.rf.c79cb673f8b7d8c0b5910d403e3623fa.txt  \n",
            "  inflating: __MACOSX/+_648_640_640_label_ceo.v1i.yolov7pytorch/valid/labels/._traffic_img57_jpg.rf.c79cb673f8b7d8c0b5910d403e3623fa.txt  \n",
            "  inflating: +_648_640_640_label_ceo.v1i.yolov7pytorch/valid/labels/SEVERITY_V10_92_jpg.rf.b30f85ca1da905645772312c58e9619f.txt  \n",
            "  inflating: __MACOSX/+_648_640_640_label_ceo.v1i.yolov7pytorch/valid/labels/._SEVERITY_V10_92_jpg.rf.b30f85ca1da905645772312c58e9619f.txt  \n",
            "  inflating: +_648_640_640_label_ceo.v1i.yolov7pytorch/valid/labels/argusAcc82_jpg.rf.94951038d254738724db25cf0dea4a00.txt  \n",
            "  inflating: __MACOSX/+_648_640_640_label_ceo.v1i.yolov7pytorch/valid/labels/._argusAcc82_jpg.rf.94951038d254738724db25cf0dea4a00.txt  \n",
            "  inflating: +_648_640_640_label_ceo.v1i.yolov7pytorch/valid/labels/SEV_V8_Img_162_jpg.rf.abc97c2ddcd1035d483e7a09e9c02d40.txt  \n",
            "  inflating: __MACOSX/+_648_640_640_label_ceo.v1i.yolov7pytorch/valid/labels/._SEV_V8_Img_162_jpg.rf.abc97c2ddcd1035d483e7a09e9c02d40.txt  \n",
            "  inflating: +_648_640_640_label_ceo.v1i.yolov7pytorch/valid/labels/1567913504284_jpg.rf.34cd808353e74356fb79ec87adcd567a.txt  \n",
            "  inflating: __MACOSX/+_648_640_640_label_ceo.v1i.yolov7pytorch/valid/labels/._1567913504284_jpg.rf.34cd808353e74356fb79ec87adcd567a.txt  \n",
            "  inflating: +_648_640_640_label_ceo.v1i.yolov7pytorch/valid/labels/images-2022-04-07T064657-136_jpeg_jpg.rf.0099b8674df7772d627a5db48b68ca55.txt  \n",
            "  inflating: __MACOSX/+_648_640_640_label_ceo.v1i.yolov7pytorch/valid/labels/._images-2022-04-07T064657-136_jpeg_jpg.rf.0099b8674df7772d627a5db48b68ca55.txt  \n",
            "  inflating: +_648_640_640_label_ceo.v1i.yolov7pytorch/valid/labels/accidentFrame4141_jpg.rf.6087748bdbad06cbbed6f5320edc3d91.txt  \n",
            "  inflating: __MACOSX/+_648_640_640_label_ceo.v1i.yolov7pytorch/valid/labels/._accidentFrame4141_jpg.rf.6087748bdbad06cbbed6f5320edc3d91.txt  \n",
            "  inflating: +_648_640_640_label_ceo.v1i.yolov7pytorch/valid/labels/SEVERITY_V10_7_jpg.rf.3dc10a01f94079f0e7f5bb54ec3be208.txt  \n",
            "  inflating: __MACOSX/+_648_640_640_label_ceo.v1i.yolov7pytorch/valid/labels/._SEVERITY_V10_7_jpg.rf.3dc10a01f94079f0e7f5bb54ec3be208.txt  \n",
            "  inflating: +_648_640_640_label_ceo.v1i.yolov7pytorch/valid/labels/severityV3_13_jpeg_jpg.rf.025fefd4a34ef953b4cd3603d5e4c951.txt  \n",
            "  inflating: __MACOSX/+_648_640_640_label_ceo.v1i.yolov7pytorch/valid/labels/._severityV3_13_jpeg_jpg.rf.025fefd4a34ef953b4cd3603d5e4c951.txt  \n",
            "  inflating: +_648_640_640_label_ceo.v1i.yolov7pytorch/valid/labels/IMG_1973_PNG_jpg.rf.610d7fa9f8091d2bc8e6797aa0779401.txt  \n",
            "  inflating: __MACOSX/+_648_640_640_label_ceo.v1i.yolov7pytorch/valid/labels/._IMG_1973_PNG_jpg.rf.610d7fa9f8091d2bc8e6797aa0779401.txt  \n",
            "  inflating: +_648_640_640_label_ceo.v1i.yolov7pytorch/valid/labels/SEV_V8_Img_41_jpg.rf.658f03934f4b1d2a988151bbfababeed.txt  \n",
            "  inflating: __MACOSX/+_648_640_640_label_ceo.v1i.yolov7pytorch/valid/labels/._SEV_V8_Img_41_jpg.rf.658f03934f4b1d2a988151bbfababeed.txt  \n",
            "  inflating: +_648_640_640_label_ceo.v1i.yolov7pytorch/valid/labels/images-26_jpg.rf.29edb10180e2f85c8117972cb57a7bbb.txt  \n",
            "  inflating: __MACOSX/+_648_640_640_label_ceo.v1i.yolov7pytorch/valid/labels/._images-26_jpg.rf.29edb10180e2f85c8117972cb57a7bbb.txt  \n",
            "  inflating: +_648_640_640_label_ceo.v1i.yolov7pytorch/valid/labels/SEV_22_2579_jpg.rf.90f8de775013c316321f33472f114d26.txt  \n",
            "  inflating: __MACOSX/+_648_640_640_label_ceo.v1i.yolov7pytorch/valid/labels/._SEV_22_2579_jpg.rf.90f8de775013c316321f33472f114d26.txt  \n",
            "  inflating: +_648_640_640_label_ceo.v1i.yolov7pytorch/valid/labels/accidentFrame957_jpg.rf.a759865740f8b3226a6d6f232339fa51.txt  \n",
            "  inflating: __MACOSX/+_648_640_640_label_ceo.v1i.yolov7pytorch/valid/labels/._accidentFrame957_jpg.rf.a759865740f8b3226a6d6f232339fa51.txt  \n",
            "  inflating: +_648_640_640_label_ceo.v1i.yolov7pytorch/valid/labels/SEV_22_3286_jpg.rf.9cdad662bf196fcc76c1437433fc0e1c.txt  \n",
            "  inflating: __MACOSX/+_648_640_640_label_ceo.v1i.yolov7pytorch/valid/labels/._SEV_22_3286_jpg.rf.9cdad662bf196fcc76c1437433fc0e1c.txt  \n",
            "  inflating: +_648_640_640_label_ceo.v1i.yolov7pytorch/valid/labels/trafficseverity_img1096_jpg.rf.76573c62c4bc695c106d450c72590925.txt  \n",
            "  inflating: __MACOSX/+_648_640_640_label_ceo.v1i.yolov7pytorch/valid/labels/._trafficseverity_img1096_jpg.rf.76573c62c4bc695c106d450c72590925.txt  \n",
            "  inflating: +_648_640_640_label_ceo.v1i.yolov7pytorch/valid/labels/IMG_2526_PNG_jpg.rf.53231464240761728108632a9ac7311b.txt  \n",
            "  inflating: __MACOSX/+_648_640_640_label_ceo.v1i.yolov7pytorch/valid/labels/._IMG_2526_PNG_jpg.rf.53231464240761728108632a9ac7311b.txt  \n",
            "  inflating: +_648_640_640_label_ceo.v1i.yolov7pytorch/valid/labels/images-12-_jpeg_jpg.rf.c84bd5beebdcd9d408553901c63d593e.txt  \n",
            "  inflating: __MACOSX/+_648_640_640_label_ceo.v1i.yolov7pytorch/valid/labels/._images-12-_jpeg_jpg.rf.c84bd5beebdcd9d408553901c63d593e.txt  \n",
            "  inflating: +_648_640_640_label_ceo.v1i.yolov7pytorch/valid/labels/SEEEEVERITY_18_jpg.rf.c86e33f690dcb596e2216afa6ac1708e.txt  \n",
            "  inflating: __MACOSX/+_648_640_640_label_ceo.v1i.yolov7pytorch/valid/labels/._SEEEEVERITY_18_jpg.rf.c86e33f690dcb596e2216afa6ac1708e.txt  \n",
            "  inflating: +_648_640_640_label_ceo.v1i.yolov7pytorch/valid/labels/IMG_2610_PNG_jpg.rf.fe211871af3ad70a5c5b6d6191ee7c11.txt  \n",
            "  inflating: __MACOSX/+_648_640_640_label_ceo.v1i.yolov7pytorch/valid/labels/._IMG_2610_PNG_jpg.rf.fe211871af3ad70a5c5b6d6191ee7c11.txt  \n",
            "  inflating: +_648_640_640_label_ceo.v1i.yolov7pytorch/valid/labels/traffic_img417_jpg.rf.91a32a4da98886539846855ce1b7a9f5.txt  \n",
            "  inflating: __MACOSX/+_648_640_640_label_ceo.v1i.yolov7pytorch/valid/labels/._traffic_img417_jpg.rf.91a32a4da98886539846855ce1b7a9f5.txt  \n",
            "  inflating: +_648_640_640_label_ceo.v1i.yolov7pytorch/valid/labels/accidentFrame4467_jpg.rf.8b719d0eb6e0d79810648f4ec63bd759.txt  \n",
            "  inflating: __MACOSX/+_648_640_640_label_ceo.v1i.yolov7pytorch/valid/labels/._accidentFrame4467_jpg.rf.8b719d0eb6e0d79810648f4ec63bd759.txt  \n",
            "  inflating: +_648_640_640_label_ceo.v1i.yolov7pytorch/valid/labels/trafficseverity_img361_jpg.rf.56f8d41bed7e8e801b2e9635dc922e91.txt  \n",
            "  inflating: __MACOSX/+_648_640_640_label_ceo.v1i.yolov7pytorch/valid/labels/._trafficseverity_img361_jpg.rf.56f8d41bed7e8e801b2e9635dc922e91.txt  \n",
            "  inflating: +_648_640_640_label_ceo.v1i.yolov7pytorch/valid/labels/Bus-Truck-Crashes-10-BeamNG-Drive_i_frame_1648_jpg.rf.7845db5cb8a4e068f4b8b1427d5b13b7.txt  \n",
            "  inflating: __MACOSX/+_648_640_640_label_ceo.v1i.yolov7pytorch/valid/labels/._Bus-Truck-Crashes-10-BeamNG-Drive_i_frame_1648_jpg.rf.7845db5cb8a4e068f4b8b1427d5b13b7.txt  \n",
            "  inflating: +_648_640_640_label_ceo.v1i.yolov7pytorch/valid/labels/traffic_img432_jpg.rf.9d4f23db2408b842118413fb256d7e61.txt  \n",
            "  inflating: __MACOSX/+_648_640_640_label_ceo.v1i.yolov7pytorch/valid/labels/._traffic_img432_jpg.rf.9d4f23db2408b842118413fb256d7e61.txt  \n",
            "  inflating: +_648_640_640_label_ceo.v1i.yolov7pytorch/valid/labels/Bus-Truck-Crashes-9-BeamNG-Drive_i_frame_11760_jpg.rf.f32ef90bdb8df67a8077fa54f17a9732.txt  \n",
            "  inflating: __MACOSX/+_648_640_640_label_ceo.v1i.yolov7pytorch/valid/labels/._Bus-Truck-Crashes-9-BeamNG-Drive_i_frame_11760_jpg.rf.f32ef90bdb8df67a8077fa54f17a9732.txt  \n",
            "  inflating: +_648_640_640_label_ceo.v1i.yolov7pytorch/valid/labels/vid_1_i_frame_13936_jpg.rf.504b70af0b850fd4a7f5b75188ed805b.txt  \n",
            "  inflating: __MACOSX/+_648_640_640_label_ceo.v1i.yolov7pytorch/valid/labels/._vid_1_i_frame_13936_jpg.rf.504b70af0b850fd4a7f5b75188ed805b.txt  \n",
            "  inflating: +_648_640_640_label_ceo.v1i.yolov7pytorch/valid/labels/SEEEEVERITY_101_jpg.rf.b6205fb5758747c51748b2d5be8a4577.txt  \n",
            "  inflating: __MACOSX/+_648_640_640_label_ceo.v1i.yolov7pytorch/valid/labels/._SEEEEVERITY_101_jpg.rf.b6205fb5758747c51748b2d5be8a4577.txt  \n",
            "  inflating: +_648_640_640_label_ceo.v1i.yolov7pytorch/valid/labels/new_SD6_jpg.rf.1807c03abffe391d5d891365ec9aa5e7.txt  \n",
            "  inflating: __MACOSX/+_648_640_640_label_ceo.v1i.yolov7pytorch/valid/labels/._new_SD6_jpg.rf.1807c03abffe391d5d891365ec9aa5e7.txt  \n",
            "  inflating: +_648_640_640_label_ceo.v1i.yolov7pytorch/valid/labels/trafficseverity_img350_jpg.rf.f0cbc893fbc277aa53ee6d032d4ee8b8.txt  \n",
            "  inflating: __MACOSX/+_648_640_640_label_ceo.v1i.yolov7pytorch/valid/labels/._trafficseverity_img350_jpg.rf.f0cbc893fbc277aa53ee6d032d4ee8b8.txt  \n",
            "  inflating: +_648_640_640_label_ceo.v1i.yolov7pytorch/valid/labels/IMG_1546_PNG_jpg.rf.b667be9c8f94ddec435622c722777fbc.txt  \n",
            "  inflating: __MACOSX/+_648_640_640_label_ceo.v1i.yolov7pytorch/valid/labels/._IMG_1546_PNG_jpg.rf.b667be9c8f94ddec435622c722777fbc.txt  \n",
            "  inflating: +_648_640_640_label_ceo.v1i.yolov7pytorch/valid/labels/images-7-_jpeg_jpg.rf.e3a14733d079d0a2acdeadf128cbd611.txt  \n",
            "  inflating: __MACOSX/+_648_640_640_label_ceo.v1i.yolov7pytorch/valid/labels/._images-7-_jpeg_jpg.rf.e3a14733d079d0a2acdeadf128cbd611.txt  \n",
            "  inflating: +_648_640_640_label_ceo.v1i.yolov7pytorch/valid/labels/images-83-_jpeg_jpg.rf.c70880d1c97f5b6de6ea6fa9687446a0.txt  \n",
            "  inflating: __MACOSX/+_648_640_640_label_ceo.v1i.yolov7pytorch/valid/labels/._images-83-_jpeg_jpg.rf.c70880d1c97f5b6de6ea6fa9687446a0.txt  \n",
            "  inflating: +_648_640_640_label_ceo.v1i.yolov7pytorch/valid/labels/trafficseverity_img398_jpg.rf.de4a3b5dde9ee33999ca1c9227578950.txt  \n",
            "  inflating: __MACOSX/+_648_640_640_label_ceo.v1i.yolov7pytorch/valid/labels/._trafficseverity_img398_jpg.rf.de4a3b5dde9ee33999ca1c9227578950.txt  \n",
            "  inflating: +_648_640_640_label_ceo.v1i.yolov7pytorch/valid/labels/trafficseverity_img854_jpg.rf.6c056e97e2db5e972ddf81dc7d40c615.txt  \n",
            "  inflating: __MACOSX/+_648_640_640_label_ceo.v1i.yolov7pytorch/valid/labels/._trafficseverity_img854_jpg.rf.6c056e97e2db5e972ddf81dc7d40c615.txt  \n",
            "  inflating: +_648_640_640_label_ceo.v1i.yolov7pytorch/valid/labels/trafficseverity_img2008_jpg.rf.929937cb84aa61d98ce91887e9ed4f1f.txt  \n",
            "  inflating: __MACOSX/+_648_640_640_label_ceo.v1i.yolov7pytorch/valid/labels/._trafficseverity_img2008_jpg.rf.929937cb84aa61d98ce91887e9ed4f1f.txt  \n",
            "  inflating: +_648_640_640_label_ceo.v1i.yolov7pytorch/valid/labels/SEV_22_3933_jpg.rf.2acf2ef029d900f8cf81502b5acb4240.txt  \n",
            "  inflating: __MACOSX/+_648_640_640_label_ceo.v1i.yolov7pytorch/valid/labels/._SEV_22_3933_jpg.rf.2acf2ef029d900f8cf81502b5acb4240.txt  \n",
            "  inflating: +_648_640_640_label_ceo.v1i.yolov7pytorch/valid/labels/SEV_22_2322_jpg.rf.60083fa5d518a22b03636ff6569fdcd6.txt  \n",
            "  inflating: __MACOSX/+_648_640_640_label_ceo.v1i.yolov7pytorch/valid/labels/._SEV_22_2322_jpg.rf.60083fa5d518a22b03636ff6569fdcd6.txt  \n",
            "  inflating: +_648_640_640_label_ceo.v1i.yolov7pytorch/valid/labels/SEV_22_693_jpg.rf.fa262e4906331a6955519109f349a116.txt  \n",
            "  inflating: __MACOSX/+_648_640_640_label_ceo.v1i.yolov7pytorch/valid/labels/._SEV_22_693_jpg.rf.fa262e4906331a6955519109f349a116.txt  \n",
            "  inflating: +_648_640_640_label_ceo.v1i.yolov7pytorch/valid/labels/IMG_1965_PNG_jpg.rf.ac4e4f14f8756ede7684c03b681725f3.txt  \n",
            "  inflating: __MACOSX/+_648_640_640_label_ceo.v1i.yolov7pytorch/valid/labels/._IMG_1965_PNG_jpg.rf.ac4e4f14f8756ede7684c03b681725f3.txt  \n",
            "  inflating: +_648_640_640_label_ceo.v1i.yolov7pytorch/valid/labels/trafficseverity_img486_jpg.rf.6129536a09e32dcf2a9903c3ba527d37.txt  \n",
            "  inflating: __MACOSX/+_648_640_640_label_ceo.v1i.yolov7pytorch/valid/labels/._trafficseverity_img486_jpg.rf.6129536a09e32dcf2a9903c3ba527d37.txt  \n",
            "  inflating: +_648_640_640_label_ceo.v1i.yolov7pytorch/valid/labels/SEVERITY_DATA_14_jpg.rf.c73e446d29b7e05aa93383a9b2c98e92.txt  \n",
            "  inflating: __MACOSX/+_648_640_640_label_ceo.v1i.yolov7pytorch/valid/labels/._SEVERITY_DATA_14_jpg.rf.c73e446d29b7e05aa93383a9b2c98e92.txt  \n",
            "  inflating: +_648_640_640_label_ceo.v1i.yolov7pytorch/valid/labels/SEEEEVERITY_349_jpg.rf.e3cefc00b9a4eb89272ee76a7bd97b44.txt  \n",
            "  inflating: __MACOSX/+_648_640_640_label_ceo.v1i.yolov7pytorch/valid/labels/._SEEEEVERITY_349_jpg.rf.e3cefc00b9a4eb89272ee76a7bd97b44.txt  \n",
            "  inflating: +_648_640_640_label_ceo.v1i.yolov7pytorch/valid/labels/SEVERITY_V10_99_jpg.rf.dadbacf426885b6d8718d882a75ac589.txt  \n",
            "  inflating: __MACOSX/+_648_640_640_label_ceo.v1i.yolov7pytorch/valid/labels/._SEVERITY_V10_99_jpg.rf.dadbacf426885b6d8718d882a75ac589.txt  \n",
            "  inflating: +_648_640_640_label_ceo.v1i.yolov7pytorch/valid/labels/traffic_img907_jpg.rf.d94d6266a83824826e77eb79d210b1b4.txt  \n",
            "  inflating: __MACOSX/+_648_640_640_label_ceo.v1i.yolov7pytorch/valid/labels/._traffic_img907_jpg.rf.d94d6266a83824826e77eb79d210b1b4.txt  \n",
            "  inflating: +_648_640_640_label_ceo.v1i.yolov7pytorch/valid/labels/trafficseverity_img1075_jpg.rf.d4bff3bf5571a628eaa2061136b89b55.txt  \n",
            "  inflating: __MACOSX/+_648_640_640_label_ceo.v1i.yolov7pytorch/valid/labels/._trafficseverity_img1075_jpg.rf.d4bff3bf5571a628eaa2061136b89b55.txt  \n",
            "  inflating: +_648_640_640_label_ceo.v1i.yolov7pytorch/valid/labels/trafficseverity_img89_jpg.rf.d5ddd16e183259df9f35792840c96406.txt  \n",
            "  inflating: __MACOSX/+_648_640_640_label_ceo.v1i.yolov7pytorch/valid/labels/._trafficseverity_img89_jpg.rf.d5ddd16e183259df9f35792840c96406.txt  \n",
            "  inflating: +_648_640_640_label_ceo.v1i.yolov7pytorch/valid/labels/traffic_img475_jpg.rf.730383e102d24b2a520820e609dab872.txt  \n",
            "  inflating: __MACOSX/+_648_640_640_label_ceo.v1i.yolov7pytorch/valid/labels/._traffic_img475_jpg.rf.730383e102d24b2a520820e609dab872.txt  \n",
            "  inflating: +_648_640_640_label_ceo.v1i.yolov7pytorch/valid/labels/SEVERITY_DATA_111_jpg.rf.97cab8da05042e07d94d0430deb928d1.txt  \n",
            "  inflating: __MACOSX/+_648_640_640_label_ceo.v1i.yolov7pytorch/valid/labels/._SEVERITY_DATA_111_jpg.rf.97cab8da05042e07d94d0430deb928d1.txt  \n",
            "  inflating: +_648_640_640_label_ceo.v1i.yolov7pytorch/valid/labels/CARimage2118_jpg.rf.a3cdce6dcc9a1ae4eec518e604a7f028.txt  \n",
            "  inflating: __MACOSX/+_648_640_640_label_ceo.v1i.yolov7pytorch/valid/labels/._CARimage2118_jpg.rf.a3cdce6dcc9a1ae4eec518e604a7f028.txt  \n",
            "  inflating: +_648_640_640_label_ceo.v1i.yolov7pytorch/valid/labels/trafficseverity_img2872_jpg.rf.6689f1ee78bb490365134695704b8cf8.txt  \n",
            "  inflating: __MACOSX/+_648_640_640_label_ceo.v1i.yolov7pytorch/valid/labels/._trafficseverity_img2872_jpg.rf.6689f1ee78bb490365134695704b8cf8.txt  \n",
            "  inflating: +_648_640_640_label_ceo.v1i.yolov7pytorch/valid/labels/severityV4_58_jpg.rf.9c3358b0d5aa3baff39ebd1afe0954a8.txt  \n",
            "  inflating: __MACOSX/+_648_640_640_label_ceo.v1i.yolov7pytorch/valid/labels/._severityV4_58_jpg.rf.9c3358b0d5aa3baff39ebd1afe0954a8.txt  \n",
            "  inflating: +_648_640_640_label_ceo.v1i.yolov7pytorch/valid/labels/download-4_jpg.rf.8ddabf0e5da0f6282bcc9df5b14018cd.txt  \n",
            "  inflating: __MACOSX/+_648_640_640_label_ceo.v1i.yolov7pytorch/valid/labels/._download-4_jpg.rf.8ddabf0e5da0f6282bcc9df5b14018cd.txt  \n",
            "  inflating: +_648_640_640_label_ceo.v1i.yolov7pytorch/valid/labels/trafficseverity_img2889_jpg.rf.5eb5bc072897e16d0cd022de77925960.txt  \n",
            "  inflating: __MACOSX/+_648_640_640_label_ceo.v1i.yolov7pytorch/valid/labels/._trafficseverity_img2889_jpg.rf.5eb5bc072897e16d0cd022de77925960.txt  \n",
            "  inflating: +_648_640_640_label_ceo.v1i.yolov7pytorch/valid/labels/Accident_Img_1114_jpg.rf.36847d80e8cbc4851e9e4273bc8c1096.txt  \n",
            "  inflating: __MACOSX/+_648_640_640_label_ceo.v1i.yolov7pytorch/valid/labels/._Accident_Img_1114_jpg.rf.36847d80e8cbc4851e9e4273bc8c1096.txt  \n",
            "  inflating: +_648_640_640_label_ceo.v1i.yolov7pytorch/valid/labels/FLIP_CAR_V142_jpg.rf.71bb930293b604059ea96473479958d5.txt  \n",
            "  inflating: __MACOSX/+_648_640_640_label_ceo.v1i.yolov7pytorch/valid/labels/._FLIP_CAR_V142_jpg.rf.71bb930293b604059ea96473479958d5.txt  \n",
            "  inflating: +_648_640_640_label_ceo.v1i.yolov7pytorch/valid/labels/2accidentFrame943_jpg.rf.373f30504eeefc6576bf03efbaa230c8.txt  \n",
            "  inflating: __MACOSX/+_648_640_640_label_ceo.v1i.yolov7pytorch/valid/labels/._2accidentFrame943_jpg.rf.373f30504eeefc6576bf03efbaa230c8.txt  \n",
            "  inflating: +_648_640_640_label_ceo.v1i.yolov7pytorch/valid/labels/trafficseverity_img208_jpg.rf.d26d5f16de892fb5cb956dd80e579bbb.txt  \n",
            "  inflating: __MACOSX/+_648_640_640_label_ceo.v1i.yolov7pytorch/valid/labels/._trafficseverity_img208_jpg.rf.d26d5f16de892fb5cb956dd80e579bbb.txt  \n",
            "  inflating: +_648_640_640_label_ceo.v1i.yolov7pytorch/valid/labels/Screen-Shot-2022-04-07-at-8-57-50-PM_png_jpg.rf.dcfd5a50b6ab946298b017763703ddc8.txt  \n",
            "  inflating: __MACOSX/+_648_640_640_label_ceo.v1i.yolov7pytorch/valid/labels/._Screen-Shot-2022-04-07-at-8-57-50-PM_png_jpg.rf.dcfd5a50b6ab946298b017763703ddc8.txt  \n",
            "  inflating: +_648_640_640_label_ceo.v1i.yolov7pytorch/valid/labels/SEV_22_3290_jpg.rf.a56668684f300a651d71f4938bac63ac.txt  \n",
            "  inflating: __MACOSX/+_648_640_640_label_ceo.v1i.yolov7pytorch/valid/labels/._SEV_22_3290_jpg.rf.a56668684f300a651d71f4938bac63ac.txt  \n",
            "  inflating: +_648_640_640_label_ceo.v1i.yolov7pytorch/valid/labels/EXTREME-CAR-CRASH-1-HOUR-COMPILATION-BIGGEST-CAR-CRASHES-1_i_frame_32768_jpg.rf.acd60abeb75811a6e9db292c0c9317bc.txt  \n",
            "  inflating: __MACOSX/+_648_640_640_label_ceo.v1i.yolov7pytorch/valid/labels/._EXTREME-CAR-CRASH-1-HOUR-COMPILATION-BIGGEST-CAR-CRASHES-1_i_frame_32768_jpg.rf.acd60abeb75811a6e9db292c0c9317bc.txt  \n",
            "  inflating: +_648_640_640_label_ceo.v1i.yolov7pytorch/valid/labels/images-31-_jpeg_jpg.rf.1456c84617aee09d8d9a448c68dff3ca.txt  \n",
            "  inflating: __MACOSX/+_648_640_640_label_ceo.v1i.yolov7pytorch/valid/labels/._images-31-_jpeg_jpg.rf.1456c84617aee09d8d9a448c68dff3ca.txt  \n",
            "  inflating: +_648_640_640_label_ceo.v1i.yolov7pytorch/valid/labels/accidentFrame57_jpg.rf.14f88022076c9c2a32b256e49124b8b1.txt  \n",
            "  inflating: __MACOSX/+_648_640_640_label_ceo.v1i.yolov7pytorch/valid/labels/._accidentFrame57_jpg.rf.14f88022076c9c2a32b256e49124b8b1.txt  \n",
            "  inflating: +_648_640_640_label_ceo.v1i.yolov7pytorch/valid/labels/Screen-Shot-2022-04-07-at-8-58-24-PM_png_jpg.rf.93255edf455fe6d475efaa363bbe32fa.txt  \n",
            "  inflating: __MACOSX/+_648_640_640_label_ceo.v1i.yolov7pytorch/valid/labels/._Screen-Shot-2022-04-07-at-8-58-24-PM_png_jpg.rf.93255edf455fe6d475efaa363bbe32fa.txt  \n",
            "  inflating: +_648_640_640_label_ceo.v1i.yolov7pytorch/valid/labels/accidentFrame259_jpg.rf.b12c0c944dff1769e36437ac84b0e639.txt  \n",
            "  inflating: __MACOSX/+_648_640_640_label_ceo.v1i.yolov7pytorch/valid/labels/._accidentFrame259_jpg.rf.b12c0c944dff1769e36437ac84b0e639.txt  \n",
            "  inflating: +_648_640_640_label_ceo.v1i.yolov7pytorch/valid/labels/traffic_img2282_jpg.rf.63bed847a6482ad7461ce71ebed385e5.txt  \n",
            "  inflating: __MACOSX/+_648_640_640_label_ceo.v1i.yolov7pytorch/valid/labels/._traffic_img2282_jpg.rf.63bed847a6482ad7461ce71ebed385e5.txt  \n",
            "  inflating: +_648_640_640_label_ceo.v1i.yolov7pytorch/valid/labels/trafficseverity_img5701_jpg.rf.c4f47b100afdab5781e3ff9c73e130ab.txt  \n",
            "  inflating: __MACOSX/+_648_640_640_label_ceo.v1i.yolov7pytorch/valid/labels/._trafficseverity_img5701_jpg.rf.c4f47b100afdab5781e3ff9c73e130ab.txt  \n",
            "  inflating: +_648_640_640_label_ceo.v1i.yolov7pytorch/valid/labels/SEVERITY_DATA_58_jpg.rf.794445ab92c280defef5c6529ffdd631.txt  \n",
            "  inflating: __MACOSX/+_648_640_640_label_ceo.v1i.yolov7pytorch/valid/labels/._SEVERITY_DATA_58_jpg.rf.794445ab92c280defef5c6529ffdd631.txt  \n",
            "  inflating: +_648_640_640_label_ceo.v1i.yolov7pytorch/valid/labels/severityV4_2_jpg.rf.eaa16e2df89e9f15d1f124ce2c6ccab3.txt  \n",
            "  inflating: __MACOSX/+_648_640_640_label_ceo.v1i.yolov7pytorch/valid/labels/._severityV4_2_jpg.rf.eaa16e2df89e9f15d1f124ce2c6ccab3.txt  \n",
            "  inflating: +_648_640_640_label_ceo.v1i.yolov7pytorch/valid/labels/traffic_img2401_jpg.rf.6198e71cdc2d9388ffd77145e175d307.txt  \n",
            "  inflating: __MACOSX/+_648_640_640_label_ceo.v1i.yolov7pytorch/valid/labels/._traffic_img2401_jpg.rf.6198e71cdc2d9388ffd77145e175d307.txt  \n",
            "  inflating: +_648_640_640_label_ceo.v1i.yolov7pytorch/valid/labels/crash_jpg.rf.4c2ee90995c2292dd60dca0df5142c68.txt  \n",
            "  inflating: __MACOSX/+_648_640_640_label_ceo.v1i.yolov7pytorch/valid/labels/._crash_jpg.rf.4c2ee90995c2292dd60dca0df5142c68.txt  \n",
            "  inflating: +_648_640_640_label_ceo.v1i.yolov7pytorch/valid/labels/trafficseverity_img325_jpg.rf.da6fc5299d6f746e1e6e1a7ac43eed47.txt  \n",
            "  inflating: __MACOSX/+_648_640_640_label_ceo.v1i.yolov7pytorch/valid/labels/._trafficseverity_img325_jpg.rf.da6fc5299d6f746e1e6e1a7ac43eed47.txt  \n",
            "  inflating: +_648_640_640_label_ceo.v1i.yolov7pytorch/valid/labels/IMG_2655_PNG_jpg.rf.e3a0d82f9dcd2ab8b94deed53d036e67.txt  \n",
            "  inflating: __MACOSX/+_648_640_640_label_ceo.v1i.yolov7pytorch/valid/labels/._IMG_2655_PNG_jpg.rf.e3a0d82f9dcd2ab8b94deed53d036e67.txt  \n",
            "  inflating: +_648_640_640_label_ceo.v1i.yolov7pytorch/valid/labels/download_jpeg_jpg.rf.89ae74e7ef33e7d6ec262f830430834c.txt  \n",
            "  inflating: __MACOSX/+_648_640_640_label_ceo.v1i.yolov7pytorch/valid/labels/._download_jpeg_jpg.rf.89ae74e7ef33e7d6ec262f830430834c.txt  \n",
            "  inflating: +_648_640_640_label_ceo.v1i.yolov7pytorch/valid/labels/SEEEEVERITY_98_jpg.rf.c64c3165d9c851248cff7f8412405237.txt  \n",
            "  inflating: __MACOSX/+_648_640_640_label_ceo.v1i.yolov7pytorch/valid/labels/._SEEEEVERITY_98_jpg.rf.c64c3165d9c851248cff7f8412405237.txt  \n",
            "  inflating: +_648_640_640_label_ceo.v1i.yolov7pytorch/valid/labels/SEV_22_3070_jpg.rf.5ca581748ffa443a020b0605cd28ced1.txt  \n",
            "  inflating: __MACOSX/+_648_640_640_label_ceo.v1i.yolov7pytorch/valid/labels/._SEV_22_3070_jpg.rf.5ca581748ffa443a020b0605cd28ced1.txt  \n",
            "  inflating: +_648_640_640_label_ceo.v1i.yolov7pytorch/valid/labels/IMG_2029_PNG_jpg.rf.287510885f1f59b30e4d715ab8f4aebc.txt  \n",
            "  inflating: __MACOSX/+_648_640_640_label_ceo.v1i.yolov7pytorch/valid/labels/._IMG_2029_PNG_jpg.rf.287510885f1f59b30e4d715ab8f4aebc.txt  \n",
            "  inflating: +_648_640_640_label_ceo.v1i.yolov7pytorch/valid/labels/Screen-Shot-2022-04-07-at-8-14-20-PM_png_jpg.rf.2f9ce6b932748e99f388971791c8a570.txt  \n",
            "  inflating: __MACOSX/+_648_640_640_label_ceo.v1i.yolov7pytorch/valid/labels/._Screen-Shot-2022-04-07-at-8-14-20-PM_png_jpg.rf.2f9ce6b932748e99f388971791c8a570.txt  \n",
            "  inflating: +_648_640_640_label_ceo.v1i.yolov7pytorch/valid/labels/SEVERITY_V10_70_jpg.rf.88d094c78b3499340e6fb28a805b9d4e.txt  \n",
            "  inflating: __MACOSX/+_648_640_640_label_ceo.v1i.yolov7pytorch/valid/labels/._SEVERITY_V10_70_jpg.rf.88d094c78b3499340e6fb28a805b9d4e.txt  \n",
            "  inflating: +_648_640_640_label_ceo.v1i.yolov7pytorch/valid/labels/SEEEEVERITY_304_jpg.rf.7a213772f348237633c3620871a4dc25.txt  \n",
            "  inflating: __MACOSX/+_648_640_640_label_ceo.v1i.yolov7pytorch/valid/labels/._SEEEEVERITY_304_jpg.rf.7a213772f348237633c3620871a4dc25.txt  \n",
            "  inflating: +_648_640_640_label_ceo.v1i.yolov7pytorch/valid/labels/trafficseverity_img5673_jpg.rf.ce6e13b1569e60f2cad10927e3c336cd.txt  \n",
            "  inflating: __MACOSX/+_648_640_640_label_ceo.v1i.yolov7pytorch/valid/labels/._trafficseverity_img5673_jpg.rf.ce6e13b1569e60f2cad10927e3c336cd.txt  \n",
            "  inflating: +_648_640_640_label_ceo.v1i.yolov7pytorch/valid/labels/1083_jpeg_jpg.rf.99eae9a35155803a2ed815552b7404c7.txt  \n",
            "  inflating: __MACOSX/+_648_640_640_label_ceo.v1i.yolov7pytorch/valid/labels/._1083_jpeg_jpg.rf.99eae9a35155803a2ed815552b7404c7.txt  \n",
            "  inflating: +_648_640_640_label_ceo.v1i.yolov7pytorch/valid/labels/trafficseverity_img401_jpg.rf.8a1162a2e23106960f2d25708e911956.txt  \n",
            "  inflating: __MACOSX/+_648_640_640_label_ceo.v1i.yolov7pytorch/valid/labels/._trafficseverity_img401_jpg.rf.8a1162a2e23106960f2d25708e911956.txt  \n",
            "  inflating: +_648_640_640_label_ceo.v1i.yolov7pytorch/valid/labels/IMG_2356_PNG_jpg.rf.fe265146433d4269ab503724d90fc924.txt  \n",
            "  inflating: __MACOSX/+_648_640_640_label_ceo.v1i.yolov7pytorch/valid/labels/._IMG_2356_PNG_jpg.rf.fe265146433d4269ab503724d90fc924.txt  \n",
            "  inflating: +_648_640_640_label_ceo.v1i.yolov7pytorch/valid/labels/SEV_22_2029_jpg.rf.b36a2d40bf65e1ea463c468f4761c1c5.txt  \n",
            "  inflating: __MACOSX/+_648_640_640_label_ceo.v1i.yolov7pytorch/valid/labels/._SEV_22_2029_jpg.rf.b36a2d40bf65e1ea463c468f4761c1c5.txt  \n",
            "  inflating: +_648_640_640_label_ceo.v1i.yolov7pytorch/valid/labels/images-copy_jpg.rf.da0a3ef93f3ca86d64302ac83f9e1eea.txt  \n",
            "  inflating: __MACOSX/+_648_640_640_label_ceo.v1i.yolov7pytorch/valid/labels/._images-copy_jpg.rf.da0a3ef93f3ca86d64302ac83f9e1eea.txt  \n",
            "  inflating: +_648_640_640_label_ceo.v1i.yolov7pytorch/valid/labels/SEV_22_2057_jpg.rf.6f283d094da16f9c0c96ba464630df8b.txt  \n",
            "  inflating: __MACOSX/+_648_640_640_label_ceo.v1i.yolov7pytorch/valid/labels/._SEV_22_2057_jpg.rf.6f283d094da16f9c0c96ba464630df8b.txt  \n",
            "  inflating: +_648_640_640_label_ceo.v1i.yolov7pytorch/valid/labels/accidentFrame2374_jpg.rf.f836a858bc0e0249ef20ca43935df2d5.txt  \n",
            "  inflating: __MACOSX/+_648_640_640_label_ceo.v1i.yolov7pytorch/valid/labels/._accidentFrame2374_jpg.rf.f836a858bc0e0249ef20ca43935df2d5.txt  \n",
            "  inflating: +_648_640_640_label_ceo.v1i.yolov7pytorch/valid/labels/trafficseverity_img107_jpg.rf.286004b6223ecb8de8f13078ed55c2f2.txt  \n",
            "  inflating: __MACOSX/+_648_640_640_label_ceo.v1i.yolov7pytorch/valid/labels/._trafficseverity_img107_jpg.rf.286004b6223ecb8de8f13078ed55c2f2.txt  \n",
            "  inflating: +_648_640_640_label_ceo.v1i.yolov7pytorch/valid/labels/SEV_22_3375_jpg.rf.2ca048401cf8b6295d65a45178433c3b.txt  \n",
            "  inflating: __MACOSX/+_648_640_640_label_ceo.v1i.yolov7pytorch/valid/labels/._SEV_22_3375_jpg.rf.2ca048401cf8b6295d65a45178433c3b.txt  \n",
            "  inflating: +_648_640_640_label_ceo.v1i.yolov7pytorch/valid/labels/799_jpeg_jpg.rf.abc0d0d9dd9d3a115a7b48786a9c85d1.txt  \n",
            "  inflating: __MACOSX/+_648_640_640_label_ceo.v1i.yolov7pytorch/valid/labels/._799_jpeg_jpg.rf.abc0d0d9dd9d3a115a7b48786a9c85d1.txt  \n",
            "  inflating: +_648_640_640_label_ceo.v1i.yolov7pytorch/valid/labels/Screen-Shot-2022-04-08-at-7-39-58-AM_png_jpg.rf.0d24c8a7151ffc04ee931b74aa68f0e4.txt  \n",
            "  inflating: __MACOSX/+_648_640_640_label_ceo.v1i.yolov7pytorch/valid/labels/._Screen-Shot-2022-04-08-at-7-39-58-AM_png_jpg.rf.0d24c8a7151ffc04ee931b74aa68f0e4.txt  \n",
            "  inflating: +_648_640_640_label_ceo.v1i.yolov7pytorch/valid/labels/EXTREME-CAR-CRASH-1-HOUR-COMPILATION-BIGGEST-CAR-CRASHES-1_i_frame_67200_jpg.rf.33baf4cb86c9b4b71b0f13dd698ace75.txt  \n",
            "  inflating: __MACOSX/+_648_640_640_label_ceo.v1i.yolov7pytorch/valid/labels/._EXTREME-CAR-CRASH-1-HOUR-COMPILATION-BIGGEST-CAR-CRASHES-1_i_frame_67200_jpg.rf.33baf4cb86c9b4b71b0f13dd698ace75.txt  \n",
            "  inflating: +_648_640_640_label_ceo.v1i.yolov7pytorch/valid/labels/IMG_2013_PNG_jpg.rf.e3ad19b7ff554e23150e14a2b75fa2dd.txt  \n",
            "  inflating: __MACOSX/+_648_640_640_label_ceo.v1i.yolov7pytorch/valid/labels/._IMG_2013_PNG_jpg.rf.e3ad19b7ff554e23150e14a2b75fa2dd.txt  \n",
            "  inflating: +_648_640_640_label_ceo.v1i.yolov7pytorch/valid/labels/SEEEEVERITY_146_jpg.rf.9d70e2b7241e8968ffec9f119ae09527.txt  \n",
            "  inflating: __MACOSX/+_648_640_640_label_ceo.v1i.yolov7pytorch/valid/labels/._SEEEEVERITY_146_jpg.rf.9d70e2b7241e8968ffec9f119ae09527.txt  \n",
            "  inflating: +_648_640_640_label_ceo.v1i.yolov7pytorch/valid/labels/images-18_jpg.rf.00de09b97a9dd9708e3f625dc7a0f0f9.txt  \n",
            "  inflating: __MACOSX/+_648_640_640_label_ceo.v1i.yolov7pytorch/valid/labels/._images-18_jpg.rf.00de09b97a9dd9708e3f625dc7a0f0f9.txt  \n",
            "  inflating: +_648_640_640_label_ceo.v1i.yolov7pytorch/valid/labels/SEEEEVERITY_64_jpg.rf.2492649b3c64668e365916a9bfe90d1f.txt  \n",
            "  inflating: __MACOSX/+_648_640_640_label_ceo.v1i.yolov7pytorch/valid/labels/._SEEEEVERITY_64_jpg.rf.2492649b3c64668e365916a9bfe90d1f.txt  \n",
            "  inflating: +_648_640_640_label_ceo.v1i.yolov7pytorch/valid/labels/Screen-Shot-2022-04-07-at-8-33-14-AM_png_jpg.rf.87fd7f3c453d54d4b5a347177b9d9e60.txt  \n",
            "  inflating: __MACOSX/+_648_640_640_label_ceo.v1i.yolov7pytorch/valid/labels/._Screen-Shot-2022-04-07-at-8-33-14-AM_png_jpg.rf.87fd7f3c453d54d4b5a347177b9d9e60.txt  \n",
            "  inflating: +_648_640_640_label_ceo.v1i.yolov7pytorch/valid/labels/IMG_2049_PNG_jpg.rf.4ad6adb703fbda49e66e898aaf2bc879.txt  \n",
            "  inflating: __MACOSX/+_648_640_640_label_ceo.v1i.yolov7pytorch/valid/labels/._IMG_2049_PNG_jpg.rf.4ad6adb703fbda49e66e898aaf2bc879.txt  \n",
            "  inflating: +_648_640_640_label_ceo.v1i.yolov7pytorch/valid/labels/accidentFrame1164_jpg.rf.589f0dd8c4f17e25e20f2606b657309c.txt  \n",
            "  inflating: __MACOSX/+_648_640_640_label_ceo.v1i.yolov7pytorch/valid/labels/._accidentFrame1164_jpg.rf.589f0dd8c4f17e25e20f2606b657309c.txt  \n",
            "  inflating: +_648_640_640_label_ceo.v1i.yolov7pytorch/valid/labels/SEV_V8_Img_77_jpg.rf.212c54d26cc383836ec5dc86cc74bd10.txt  \n",
            "  inflating: __MACOSX/+_648_640_640_label_ceo.v1i.yolov7pytorch/valid/labels/._SEV_V8_Img_77_jpg.rf.212c54d26cc383836ec5dc86cc74bd10.txt  \n",
            "  inflating: +_648_640_640_label_ceo.v1i.yolov7pytorch/valid/labels/IMG_2555_PNG_jpg.rf.c21c0d4321ed2457fb6678393ea15730.txt  \n",
            "  inflating: __MACOSX/+_648_640_640_label_ceo.v1i.yolov7pytorch/valid/labels/._IMG_2555_PNG_jpg.rf.c21c0d4321ed2457fb6678393ea15730.txt  \n",
            "  inflating: +_648_640_640_label_ceo.v1i.yolov7pytorch/valid/labels/trafficseverity_img472_jpg.rf.46149cd3aa5e006a0c9e996e6ab0a371.txt  \n",
            "  inflating: __MACOSX/+_648_640_640_label_ceo.v1i.yolov7pytorch/valid/labels/._trafficseverity_img472_jpg.rf.46149cd3aa5e006a0c9e996e6ab0a371.txt  \n",
            "  inflating: +_648_640_640_label_ceo.v1i.yolov7pytorch/valid/labels/trafficseverity_img550_jpg.rf.f86419e6404f244ab984e9e8a7a3da51.txt  \n",
            "  inflating: __MACOSX/+_648_640_640_label_ceo.v1i.yolov7pytorch/valid/labels/._trafficseverity_img550_jpg.rf.f86419e6404f244ab984e9e8a7a3da51.txt  \n",
            "  inflating: +_648_640_640_label_ceo.v1i.yolov7pytorch/valid/labels/SEV_22_3622_jpg.rf.a479ab9714c17a484051fb7998d88260.txt  \n",
            "  inflating: __MACOSX/+_648_640_640_label_ceo.v1i.yolov7pytorch/valid/labels/._SEV_22_3622_jpg.rf.a479ab9714c17a484051fb7998d88260.txt  \n",
            "  inflating: +_648_640_640_label_ceo.v1i.yolov7pytorch/valid/labels/SEV_V8_Img_1_jpg.rf.401835fb406aea1f35d9f8db8798e157.txt  \n",
            "  inflating: __MACOSX/+_648_640_640_label_ceo.v1i.yolov7pytorch/valid/labels/._SEV_V8_Img_1_jpg.rf.401835fb406aea1f35d9f8db8798e157.txt  \n",
            "  inflating: +_648_640_640_label_ceo.v1i.yolov7pytorch/valid/labels/SEVERITY_DATA_20_jpg.rf.6db5398a39d000eae877728f174ed315.txt  \n",
            "  inflating: __MACOSX/+_648_640_640_label_ceo.v1i.yolov7pytorch/valid/labels/._SEVERITY_DATA_20_jpg.rf.6db5398a39d000eae877728f174ed315.txt  \n",
            "  inflating: +_648_640_640_label_ceo.v1i.yolov7pytorch/valid/labels/756_jpeg_jpg.rf.69917ef7b8c4216106aa59c44a948c4c.txt  \n",
            "  inflating: __MACOSX/+_648_640_640_label_ceo.v1i.yolov7pytorch/valid/labels/._756_jpeg_jpg.rf.69917ef7b8c4216106aa59c44a948c4c.txt  \n",
            "  inflating: +_648_640_640_label_ceo.v1i.yolov7pytorch/valid/labels/IMG_1504_PNG_jpg.rf.7e6a915d027d60e2a1bf69892976d8f8.txt  \n",
            "  inflating: __MACOSX/+_648_640_640_label_ceo.v1i.yolov7pytorch/valid/labels/._IMG_1504_PNG_jpg.rf.7e6a915d027d60e2a1bf69892976d8f8.txt  \n",
            "  inflating: +_648_640_640_label_ceo.v1i.yolov7pytorch/valid/labels/trafficseverity_img136_jpg.rf.8351d7c24d7b6badf5b6e2b512f982cc.txt  \n",
            "  inflating: __MACOSX/+_648_640_640_label_ceo.v1i.yolov7pytorch/valid/labels/._trafficseverity_img136_jpg.rf.8351d7c24d7b6badf5b6e2b512f982cc.txt  \n",
            "  inflating: +_648_640_640_label_ceo.v1i.yolov7pytorch/valid/labels/SEEEEVERITY_12_jpg.rf.73252f0c682a4b0e453bc6debf4b88e9.txt  \n",
            "  inflating: __MACOSX/+_648_640_640_label_ceo.v1i.yolov7pytorch/valid/labels/._SEEEEVERITY_12_jpg.rf.73252f0c682a4b0e453bc6debf4b88e9.txt  \n",
            "  inflating: +_648_640_640_label_ceo.v1i.yolov7pytorch/valid/labels/trafficseverity_img2243_jpg.rf.c46238b8c5cbb7d6adfdeec72a09d146.txt  \n",
            "  inflating: __MACOSX/+_648_640_640_label_ceo.v1i.yolov7pytorch/valid/labels/._trafficseverity_img2243_jpg.rf.c46238b8c5cbb7d6adfdeec72a09d146.txt  \n",
            "  inflating: +_648_640_640_label_ceo.v1i.yolov7pytorch/valid/labels/trafficseverity_img1034_jpg.rf.dfd1e97b8e72953c6ab6025008e062f1.txt  \n",
            "  inflating: __MACOSX/+_648_640_640_label_ceo.v1i.yolov7pytorch/valid/labels/._trafficseverity_img1034_jpg.rf.dfd1e97b8e72953c6ab6025008e062f1.txt  \n",
            "  inflating: +_648_640_640_label_ceo.v1i.yolov7pytorch/valid/labels/SEVERITY_V10_11_jpg.rf.c1606421895051a81efcea90556c21df.txt  \n",
            "  inflating: __MACOSX/+_648_640_640_label_ceo.v1i.yolov7pytorch/valid/labels/._SEVERITY_V10_11_jpg.rf.c1606421895051a81efcea90556c21df.txt  \n",
            "  inflating: +_648_640_640_label_ceo.v1i.yolov7pytorch/valid/labels/SEV_22_1570_jpg.rf.55a5096c09a1f8ddfdf78efb5be37701.txt  \n",
            "  inflating: __MACOSX/+_648_640_640_label_ceo.v1i.yolov7pytorch/valid/labels/._SEV_22_1570_jpg.rf.55a5096c09a1f8ddfdf78efb5be37701.txt  \n",
            "  inflating: +_648_640_640_label_ceo.v1i.yolov7pytorch/valid/labels/IMG_2175_JPG_jpg.rf.30179a31313e64741aab55598cbfea75.txt  \n",
            "  inflating: __MACOSX/+_648_640_640_label_ceo.v1i.yolov7pytorch/valid/labels/._IMG_2175_JPG_jpg.rf.30179a31313e64741aab55598cbfea75.txt  \n",
            "  inflating: +_648_640_640_label_ceo.v1i.yolov7pytorch/valid/labels/SEEEEVERITY_338_jpg.rf.b4f636458688eb8e809db2c5e4779d5a.txt  \n",
            "  inflating: __MACOSX/+_648_640_640_label_ceo.v1i.yolov7pytorch/valid/labels/._SEEEEVERITY_338_jpg.rf.b4f636458688eb8e809db2c5e4779d5a.txt  \n",
            "  inflating: +_648_640_640_label_ceo.v1i.yolov7pytorch/valid/labels/823_jpeg_jpg.rf.b3e6c4f9cd33df1f523b32951fd29049.txt  \n",
            "  inflating: __MACOSX/+_648_640_640_label_ceo.v1i.yolov7pytorch/valid/labels/._823_jpeg_jpg.rf.b3e6c4f9cd33df1f523b32951fd29049.txt  \n",
            "  inflating: +_648_640_640_label_ceo.v1i.yolov7pytorch/valid/labels/severityV4_1_jpg.rf.06165a155abcca688d37415eff81a638.txt  \n",
            "  inflating: __MACOSX/+_648_640_640_label_ceo.v1i.yolov7pytorch/valid/labels/._severityV4_1_jpg.rf.06165a155abcca688d37415eff81a638.txt  \n",
            "  inflating: +_648_640_640_label_ceo.v1i.yolov7pytorch/valid/labels/trafficseverity_img1046_jpg.rf.7a3b9181f56ebe8450211ff9a6ab1111.txt  \n",
            "  inflating: __MACOSX/+_648_640_640_label_ceo.v1i.yolov7pytorch/valid/labels/._trafficseverity_img1046_jpg.rf.7a3b9181f56ebe8450211ff9a6ab1111.txt  \n",
            "  inflating: +_648_640_640_label_ceo.v1i.yolov7pytorch/valid/labels/IMG_2247_PNG_jpg.rf.ca61caa6e91301fea0ac6241c23687ec.txt  \n",
            "  inflating: __MACOSX/+_648_640_640_label_ceo.v1i.yolov7pytorch/valid/labels/._IMG_2247_PNG_jpg.rf.ca61caa6e91301fea0ac6241c23687ec.txt  \n",
            "  inflating: +_648_640_640_label_ceo.v1i.yolov7pytorch/valid/labels/traffic_img86_jpg.rf.390fcda4dd5d3fc02d829b425cead91f.txt  \n",
            "  inflating: __MACOSX/+_648_640_640_label_ceo.v1i.yolov7pytorch/valid/labels/._traffic_img86_jpg.rf.390fcda4dd5d3fc02d829b425cead91f.txt  \n",
            "  inflating: +_648_640_640_label_ceo.v1i.yolov7pytorch/valid/labels/SEEEEVERITY_366_jpg.rf.454f3b79843a5aeafd4407369d47fe35.txt  \n",
            "  inflating: __MACOSX/+_648_640_640_label_ceo.v1i.yolov7pytorch/valid/labels/._SEEEEVERITY_366_jpg.rf.454f3b79843a5aeafd4407369d47fe35.txt  \n",
            "  inflating: +_648_640_640_label_ceo.v1i.yolov7pytorch/valid/labels/Bus-Truck-Crashes-10-BeamNG-Drive_i_frame_7080_jpg.rf.249a6b2dcd9ba56036b30b6a792417cf.txt  \n",
            "  inflating: __MACOSX/+_648_640_640_label_ceo.v1i.yolov7pytorch/valid/labels/._Bus-Truck-Crashes-10-BeamNG-Drive_i_frame_7080_jpg.rf.249a6b2dcd9ba56036b30b6a792417cf.txt  \n",
            "  inflating: +_648_640_640_label_ceo.v1i.yolov7pytorch/valid/labels/SEV_22_3439_jpg.rf.9671edfc9cee51883e0f98b85fc231d1.txt  \n",
            "  inflating: __MACOSX/+_648_640_640_label_ceo.v1i.yolov7pytorch/valid/labels/._SEV_22_3439_jpg.rf.9671edfc9cee51883e0f98b85fc231d1.txt  \n",
            "  inflating: +_648_640_640_label_ceo.v1i.yolov7pytorch/valid/labels/SEEEEVERITY_221_jpg.rf.686d0fc3f0386769e5fbf434bf48a94b.txt  \n",
            "  inflating: __MACOSX/+_648_640_640_label_ceo.v1i.yolov7pytorch/valid/labels/._SEEEEVERITY_221_jpg.rf.686d0fc3f0386769e5fbf434bf48a94b.txt  \n",
            "  inflating: +_648_640_640_label_ceo.v1i.yolov7pytorch/valid/labels/traffic_img425_jpg.rf.a706fa69abd6678fc2a9b77d9a630225.txt  \n",
            "  inflating: __MACOSX/+_648_640_640_label_ceo.v1i.yolov7pytorch/valid/labels/._traffic_img425_jpg.rf.a706fa69abd6678fc2a9b77d9a630225.txt  \n",
            "  inflating: +_648_640_640_label_ceo.v1i.yolov7pytorch/valid/labels/Screen-Shot-2022-04-08-at-7-27-32-AM_png_jpg.rf.445085bdd1e8705d3ec45fc52a99c90c.txt  \n",
            "  inflating: __MACOSX/+_648_640_640_label_ceo.v1i.yolov7pytorch/valid/labels/._Screen-Shot-2022-04-08-at-7-27-32-AM_png_jpg.rf.445085bdd1e8705d3ec45fc52a99c90c.txt  \n",
            "  inflating: +_648_640_640_label_ceo.v1i.yolov7pytorch/valid/labels/images-34-_jpeg_jpg.rf.f3b548bf5af45dad33887a3c5ed85a07.txt  \n",
            "  inflating: __MACOSX/+_648_640_640_label_ceo.v1i.yolov7pytorch/valid/labels/._images-34-_jpeg_jpg.rf.f3b548bf5af45dad33887a3c5ed85a07.txt  \n",
            "  inflating: +_648_640_640_label_ceo.v1i.yolov7pytorch/valid/labels/trafficseverity_img3070_jpg.rf.0e07955b2da055256ca0744e9624366e.txt  \n",
            "  inflating: __MACOSX/+_648_640_640_label_ceo.v1i.yolov7pytorch/valid/labels/._trafficseverity_img3070_jpg.rf.0e07955b2da055256ca0744e9624366e.txt  \n",
            "  inflating: +_648_640_640_label_ceo.v1i.yolov7pytorch/valid/labels/trafficseverity_img5270_jpg.rf.129575015c30537c7a202c5fc2c04316.txt  \n",
            "  inflating: __MACOSX/+_648_640_640_label_ceo.v1i.yolov7pytorch/valid/labels/._trafficseverity_img5270_jpg.rf.129575015c30537c7a202c5fc2c04316.txt  \n",
            "  inflating: +_648_640_640_label_ceo.v1i.yolov7pytorch/valid/labels/SEV_V8_Img_53_jpg.rf.868406dfba14b52fc31de05faa843efa.txt  \n",
            "  inflating: __MACOSX/+_648_640_640_label_ceo.v1i.yolov7pytorch/valid/labels/._SEV_V8_Img_53_jpg.rf.868406dfba14b52fc31de05faa843efa.txt  \n",
            "  inflating: +_648_640_640_label_ceo.v1i.yolov7pytorch/valid/labels/IMG_2204_PNG_jpg.rf.56b6a1fb568f5ec48ee12340a175dee6.txt  \n",
            "  inflating: __MACOSX/+_648_640_640_label_ceo.v1i.yolov7pytorch/valid/labels/._IMG_2204_PNG_jpg.rf.56b6a1fb568f5ec48ee12340a175dee6.txt  \n",
            "  inflating: +_648_640_640_label_ceo.v1i.yolov7pytorch/valid/labels/IMG_2607_PNG_jpg.rf.850ad6b64868a4b5a2430e4f767cca89.txt  \n",
            "  inflating: __MACOSX/+_648_640_640_label_ceo.v1i.yolov7pytorch/valid/labels/._IMG_2607_PNG_jpg.rf.850ad6b64868a4b5a2430e4f767cca89.txt  \n",
            "  inflating: +_648_640_640_label_ceo.v1i.yolov7pytorch/valid/labels/SEEEEVERITY_245_jpg.rf.de15529ece47ef0108d84ba018ae844a.txt  \n",
            "  inflating: __MACOSX/+_648_640_640_label_ceo.v1i.yolov7pytorch/valid/labels/._SEEEEVERITY_245_jpg.rf.de15529ece47ef0108d84ba018ae844a.txt  \n",
            "  inflating: +_648_640_640_label_ceo.v1i.yolov7pytorch/valid/labels/Bus-Truck-Crashes-9-BeamNG-Drive_i_frame_5367_jpg.rf.cdb75b2d0e52672a1820d0241db8e553.txt  \n",
            "  inflating: __MACOSX/+_648_640_640_label_ceo.v1i.yolov7pytorch/valid/labels/._Bus-Truck-Crashes-9-BeamNG-Drive_i_frame_5367_jpg.rf.cdb75b2d0e52672a1820d0241db8e553.txt  \n",
            "  inflating: +_648_640_640_label_ceo.v1i.yolov7pytorch/valid/labels/Semi-RealisticVD-30_jpg.rf.181d3ecbb7c02ad5b3f3a04128c06e2f.txt  \n",
            "  inflating: __MACOSX/+_648_640_640_label_ceo.v1i.yolov7pytorch/valid/labels/._Semi-RealisticVD-30_jpg.rf.181d3ecbb7c02ad5b3f3a04128c06e2f.txt  \n",
            "  inflating: +_648_640_640_label_ceo.v1i.yolov7pytorch/valid/labels/SEV_22_2845_jpg.rf.66f8320ef5b377a3fe2dcbe6e0f2ca69.txt  \n",
            "  inflating: __MACOSX/+_648_640_640_label_ceo.v1i.yolov7pytorch/valid/labels/._SEV_22_2845_jpg.rf.66f8320ef5b377a3fe2dcbe6e0f2ca69.txt  \n",
            "  inflating: +_648_640_640_label_ceo.v1i.yolov7pytorch/valid/labels/IMG_2159_JPG_jpg.rf.02ae6155e21c7e98ea4cef85355f1361.txt  \n",
            "  inflating: __MACOSX/+_648_640_640_label_ceo.v1i.yolov7pytorch/valid/labels/._IMG_2159_JPG_jpg.rf.02ae6155e21c7e98ea4cef85355f1361.txt  \n",
            "  inflating: +_648_640_640_label_ceo.v1i.yolov7pytorch/valid/labels/traffic_img3407_jpg.rf.f49239b65ff3f95fa322f5ee848362fb.txt  \n",
            "  inflating: __MACOSX/+_648_640_640_label_ceo.v1i.yolov7pytorch/valid/labels/._traffic_img3407_jpg.rf.f49239b65ff3f95fa322f5ee848362fb.txt  \n",
            "  inflating: +_648_640_640_label_ceo.v1i.yolov7pytorch/valid/labels/IMG_2005_PNG_jpg.rf.407ae511a6f7516633cba274a23a56cf.txt  \n",
            "  inflating: __MACOSX/+_648_640_640_label_ceo.v1i.yolov7pytorch/valid/labels/._IMG_2005_PNG_jpg.rf.407ae511a6f7516633cba274a23a56cf.txt  \n",
            "  inflating: +_648_640_640_label_ceo.v1i.yolov7pytorch/valid/labels/severityV3_35_jpeg_jpg.rf.f7dcace4e19dd2e748bc8d4c696fb557.txt  \n",
            "  inflating: __MACOSX/+_648_640_640_label_ceo.v1i.yolov7pytorch/valid/labels/._severityV3_35_jpeg_jpg.rf.f7dcace4e19dd2e748bc8d4c696fb557.txt  \n",
            "  inflating: +_648_640_640_label_ceo.v1i.yolov7pytorch/valid/labels/trafficseverity_img385_jpg.rf.d76f261e2cbacde9f5d1f24f6d4200bd.txt  \n",
            "  inflating: __MACOSX/+_648_640_640_label_ceo.v1i.yolov7pytorch/valid/labels/._trafficseverity_img385_jpg.rf.d76f261e2cbacde9f5d1f24f6d4200bd.txt  \n",
            "  inflating: +_648_640_640_label_ceo.v1i.yolov7pytorch/valid/labels/trafficseverity_img452_jpg.rf.5cc607d16a090520e46d01ecefbe8e36.txt  \n",
            "  inflating: __MACOSX/+_648_640_640_label_ceo.v1i.yolov7pytorch/valid/labels/._trafficseverity_img452_jpg.rf.5cc607d16a090520e46d01ecefbe8e36.txt  \n",
            "  inflating: +_648_640_640_label_ceo.v1i.yolov7pytorch/valid/labels/trafficseverity_img5563_jpg.rf.b3606eed345bcc387457085d1d2d9fdd.txt  \n",
            "  inflating: __MACOSX/+_648_640_640_label_ceo.v1i.yolov7pytorch/valid/labels/._trafficseverity_img5563_jpg.rf.b3606eed345bcc387457085d1d2d9fdd.txt  \n",
            "  inflating: +_648_640_640_label_ceo.v1i.yolov7pytorch/valid/labels/images-10-_jpeg_jpg.rf.ec1184f51b9de9446d01b32a5648551d.txt  \n",
            "  inflating: __MACOSX/+_648_640_640_label_ceo.v1i.yolov7pytorch/valid/labels/._images-10-_jpeg_jpg.rf.ec1184f51b9de9446d01b32a5648551d.txt  \n",
            "  inflating: +_648_640_640_label_ceo.v1i.yolov7pytorch/valid/labels/SEEEEVERITY_66_jpg.rf.d152bb42f50b81fe59e11bc19d92a688.txt  \n",
            "  inflating: __MACOSX/+_648_640_640_label_ceo.v1i.yolov7pytorch/valid/labels/._SEEEEVERITY_66_jpg.rf.d152bb42f50b81fe59e11bc19d92a688.txt  \n",
            "  inflating: +_648_640_640_label_ceo.v1i.yolov7pytorch/valid/labels/trafficseverity_img5568_jpg.rf.9322dcb17d95cfb737fb656aa5d5686e.txt  \n",
            "  inflating: __MACOSX/+_648_640_640_label_ceo.v1i.yolov7pytorch/valid/labels/._trafficseverity_img5568_jpg.rf.9322dcb17d95cfb737fb656aa5d5686e.txt  \n",
            "  inflating: +_648_640_640_label_ceo.v1i.yolov7pytorch/valid/labels/IMG_2208_PNG_jpg.rf.12444dd3b658ac792ba82cf90184b82a.txt  \n",
            "  inflating: __MACOSX/+_648_640_640_label_ceo.v1i.yolov7pytorch/valid/labels/._IMG_2208_PNG_jpg.rf.12444dd3b658ac792ba82cf90184b82a.txt  \n",
            "  inflating: +_648_640_640_label_ceo.v1i.yolov7pytorch/valid/labels/SEV_22_2608_jpg.rf.031570de0f01b995512a8ed425d86301.txt  \n",
            "  inflating: __MACOSX/+_648_640_640_label_ceo.v1i.yolov7pytorch/valid/labels/._SEV_22_2608_jpg.rf.031570de0f01b995512a8ed425d86301.txt  \n",
            "  inflating: +_648_640_640_label_ceo.v1i.yolov7pytorch/valid/labels/severityV4_15_jpg.rf.d7115becb5264bbc3da807cf0a565e1b.txt  \n",
            "  inflating: __MACOSX/+_648_640_640_label_ceo.v1i.yolov7pytorch/valid/labels/._severityV4_15_jpg.rf.d7115becb5264bbc3da807cf0a565e1b.txt  \n",
            "  inflating: +_648_640_640_label_ceo.v1i.yolov7pytorch/valid/labels/SEV_22_3396_jpg.rf.d3291f654e4b2dd85b82c08bfce83e60.txt  \n",
            "  inflating: __MACOSX/+_648_640_640_label_ceo.v1i.yolov7pytorch/valid/labels/._SEV_22_3396_jpg.rf.d3291f654e4b2dd85b82c08bfce83e60.txt  \n",
            "  inflating: +_648_640_640_label_ceo.v1i.yolov7pytorch/valid/labels/trafficseverity_img643_jpg.rf.28bf55cdd5cebbafd5e1be65ccdec896.txt  \n",
            "  inflating: __MACOSX/+_648_640_640_label_ceo.v1i.yolov7pytorch/valid/labels/._trafficseverity_img643_jpg.rf.28bf55cdd5cebbafd5e1be65ccdec896.txt  \n",
            "  inflating: +_648_640_640_label_ceo.v1i.yolov7pytorch/valid/labels/trafficseverity_img445_jpg.rf.c2568faec3187d44092c546236c7454b.txt  \n",
            "  inflating: __MACOSX/+_648_640_640_label_ceo.v1i.yolov7pytorch/valid/labels/._trafficseverity_img445_jpg.rf.c2568faec3187d44092c546236c7454b.txt  \n",
            "  inflating: +_648_640_640_label_ceo.v1i.yolov7pytorch/valid/labels/SEV_22_2030_jpg.rf.d98ab5b6e74b2e250315aa657ac0d249.txt  \n",
            "  inflating: __MACOSX/+_648_640_640_label_ceo.v1i.yolov7pytorch/valid/labels/._SEV_22_2030_jpg.rf.d98ab5b6e74b2e250315aa657ac0d249.txt  \n",
            "  inflating: +_648_640_640_label_ceo.v1i.yolov7pytorch/valid/labels/trafficseverity_img1813_jpg.rf.a7cc07502e6c81b6d06aca3890184f10.txt  \n",
            "  inflating: __MACOSX/+_648_640_640_label_ceo.v1i.yolov7pytorch/valid/labels/._trafficseverity_img1813_jpg.rf.a7cc07502e6c81b6d06aca3890184f10.txt  \n",
            "  inflating: +_648_640_640_label_ceo.v1i.yolov7pytorch/valid/labels/trafficseverity_img3558_jpg.rf.db54833dee808ac27d4c8093f5341bd5.txt  \n",
            "  inflating: __MACOSX/+_648_640_640_label_ceo.v1i.yolov7pytorch/valid/labels/._trafficseverity_img3558_jpg.rf.db54833dee808ac27d4c8093f5341bd5.txt  \n",
            "  inflating: +_648_640_640_label_ceo.v1i.yolov7pytorch/valid/labels/SEV_22_3348_jpg.rf.a27667bc47c7e2629d92b21de3be24e6.txt  \n",
            "  inflating: __MACOSX/+_648_640_640_label_ceo.v1i.yolov7pytorch/valid/labels/._SEV_22_3348_jpg.rf.a27667bc47c7e2629d92b21de3be24e6.txt  \n",
            "  inflating: +_648_640_640_label_ceo.v1i.yolov7pytorch/valid/labels/accidentFrame1130_jpg.rf.cba83147ac5bf637d9ba594023f77b8f.txt  \n",
            "  inflating: __MACOSX/+_648_640_640_label_ceo.v1i.yolov7pytorch/valid/labels/._accidentFrame1130_jpg.rf.cba83147ac5bf637d9ba594023f77b8f.txt  \n",
            "  inflating: +_648_640_640_label_ceo.v1i.yolov7pytorch/valid/labels/Screen-Shot-2022-04-08-at-7-58-28-AM_png_jpg.rf.53c105279877c0b4aa8056fd27c13e0e.txt  \n",
            "  inflating: __MACOSX/+_648_640_640_label_ceo.v1i.yolov7pytorch/valid/labels/._Screen-Shot-2022-04-08-at-7-58-28-AM_png_jpg.rf.53c105279877c0b4aa8056fd27c13e0e.txt  \n",
            "  inflating: +_648_640_640_label_ceo.v1i.yolov7pytorch/valid/labels/accidentFrame10598_jpg.rf.4ede8483862949dfd85fcfa35d531245.txt  \n",
            "  inflating: __MACOSX/+_648_640_640_label_ceo.v1i.yolov7pytorch/valid/labels/._accidentFrame10598_jpg.rf.4ede8483862949dfd85fcfa35d531245.txt  \n",
            "  inflating: +_648_640_640_label_ceo.v1i.yolov7pytorch/valid/labels/traffic_img260_jpg.rf.4704009826578a79e4c69c7081ffc514.txt  \n",
            "  inflating: __MACOSX/+_648_640_640_label_ceo.v1i.yolov7pytorch/valid/labels/._traffic_img260_jpg.rf.4704009826578a79e4c69c7081ffc514.txt  \n",
            "  inflating: +_648_640_640_label_ceo.v1i.yolov7pytorch/valid/labels/IMG_1547_PNG_jpg.rf.a1908b8b460e35268f1b1ec1a21bccc3.txt  \n",
            "  inflating: __MACOSX/+_648_640_640_label_ceo.v1i.yolov7pytorch/valid/labels/._IMG_1547_PNG_jpg.rf.a1908b8b460e35268f1b1ec1a21bccc3.txt  \n",
            "  inflating: +_648_640_640_label_ceo.v1i.yolov7pytorch/valid/labels/traffic_img295_jpg.rf.904ac0a94091e94ea017c0d24a80faee.txt  \n",
            "  inflating: __MACOSX/+_648_640_640_label_ceo.v1i.yolov7pytorch/valid/labels/._traffic_img295_jpg.rf.904ac0a94091e94ea017c0d24a80faee.txt  \n",
            "  inflating: +_648_640_640_label_ceo.v1i.yolov7pytorch/valid/labels/760_jpeg_jpg.rf.5886514d35c30a2f25de6f886ec4d346.txt  \n",
            "  inflating: __MACOSX/+_648_640_640_label_ceo.v1i.yolov7pytorch/valid/labels/._760_jpeg_jpg.rf.5886514d35c30a2f25de6f886ec4d346.txt  \n",
            "  inflating: +_648_640_640_label_ceo.v1i.yolov7pytorch/valid/labels/trafficseverity_img2193_jpg.rf.fd6718f2a7c3b7d968a06cdeea3bef95.txt  \n",
            "  inflating: __MACOSX/+_648_640_640_label_ceo.v1i.yolov7pytorch/valid/labels/._trafficseverity_img2193_jpg.rf.fd6718f2a7c3b7d968a06cdeea3bef95.txt  \n",
            "  inflating: +_648_640_640_label_ceo.v1i.yolov7pytorch/valid/labels/images-59-_jpeg_jpg.rf.f1c196757a1ed9b5119cbb18f8b78606.txt  \n",
            "  inflating: __MACOSX/+_648_640_640_label_ceo.v1i.yolov7pytorch/valid/labels/._images-59-_jpeg_jpg.rf.f1c196757a1ed9b5119cbb18f8b78606.txt  \n",
            "  inflating: +_648_640_640_label_ceo.v1i.yolov7pytorch/valid/labels/trafficseverity_img434_jpg.rf.b7cd0e9fd04b36ab84739d5a577c6b17.txt  \n",
            "  inflating: __MACOSX/+_648_640_640_label_ceo.v1i.yolov7pytorch/valid/labels/._trafficseverity_img434_jpg.rf.b7cd0e9fd04b36ab84739d5a577c6b17.txt  \n",
            "  inflating: +_648_640_640_label_ceo.v1i.yolov7pytorch/valid/labels/trafficseverity_img5031_jpg.rf.8176a687909a20c66bb84239b378dce3.txt  \n",
            "  inflating: __MACOSX/+_648_640_640_label_ceo.v1i.yolov7pytorch/valid/labels/._trafficseverity_img5031_jpg.rf.8176a687909a20c66bb84239b378dce3.txt  \n",
            "  inflating: +_648_640_640_label_ceo.v1i.yolov7pytorch/valid/labels/trafficseverity_img1239_jpg.rf.771c9820e414e213a6606f9c6d128591.txt  \n",
            "  inflating: __MACOSX/+_648_640_640_label_ceo.v1i.yolov7pytorch/valid/labels/._trafficseverity_img1239_jpg.rf.771c9820e414e213a6606f9c6d128591.txt  \n",
            "  inflating: +_648_640_640_label_ceo.v1i.yolov7pytorch/valid/labels/SEV_22_2320_jpg.rf.e663cbfe92f0cc83af7d558e2c7e2436.txt  \n",
            "  inflating: __MACOSX/+_648_640_640_label_ceo.v1i.yolov7pytorch/valid/labels/._SEV_22_2320_jpg.rf.e663cbfe92f0cc83af7d558e2c7e2436.txt  \n",
            "  inflating: +_648_640_640_label_ceo.v1i.yolov7pytorch/valid/labels/severityV3_30_jpeg_jpg.rf.bade77fa90e19929399b7d29c55c605b.txt  \n",
            "  inflating: __MACOSX/+_648_640_640_label_ceo.v1i.yolov7pytorch/valid/labels/._severityV3_30_jpeg_jpg.rf.bade77fa90e19929399b7d29c55c605b.txt  \n",
            "  inflating: +_648_640_640_label_ceo.v1i.yolov7pytorch/valid/labels/images-2022-04-07T065448-260_jpeg_jpg.rf.cea0958356c4064d85733608045f5853.txt  \n",
            "  inflating: __MACOSX/+_648_640_640_label_ceo.v1i.yolov7pytorch/valid/labels/._images-2022-04-07T065448-260_jpeg_jpg.rf.cea0958356c4064d85733608045f5853.txt  \n",
            "  inflating: +_648_640_640_label_ceo.v1i.yolov7pytorch/test/images/test10_9_jpg.rf.92747cd55ee364777163bb6f80ad79cf.jpg  \n",
            "  inflating: __MACOSX/+_648_640_640_label_ceo.v1i.yolov7pytorch/test/images/._test10_9_jpg.rf.92747cd55ee364777163bb6f80ad79cf.jpg  \n",
            "  inflating: +_648_640_640_label_ceo.v1i.yolov7pytorch/test/images/test27_25_jpg.rf.a110079d6c107b2f3872c26c263c60a6.jpg  \n",
            "  inflating: __MACOSX/+_648_640_640_label_ceo.v1i.yolov7pytorch/test/images/._test27_25_jpg.rf.a110079d6c107b2f3872c26c263c60a6.jpg  \n",
            "  inflating: +_648_640_640_label_ceo.v1i.yolov7pytorch/test/images/test29_11_jpg.rf.345f2fc9af72487f19c94338eaa83851.jpg  \n",
            "  inflating: __MACOSX/+_648_640_640_label_ceo.v1i.yolov7pytorch/test/images/._test29_11_jpg.rf.345f2fc9af72487f19c94338eaa83851.jpg  \n",
            "  inflating: +_648_640_640_label_ceo.v1i.yolov7pytorch/test/images/test27_8_jpg.rf.da9b1b2850b34871ac06d8466d8128f4.jpg  \n",
            "  inflating: __MACOSX/+_648_640_640_label_ceo.v1i.yolov7pytorch/test/images/._test27_8_jpg.rf.da9b1b2850b34871ac06d8466d8128f4.jpg  \n",
            "  inflating: +_648_640_640_label_ceo.v1i.yolov7pytorch/test/images/test16_22_jpg.rf.5ee543c4f8410e3a0ad8ef7349a0b242.jpg  \n",
            "  inflating: __MACOSX/+_648_640_640_label_ceo.v1i.yolov7pytorch/test/images/._test16_22_jpg.rf.5ee543c4f8410e3a0ad8ef7349a0b242.jpg  \n",
            "  inflating: +_648_640_640_label_ceo.v1i.yolov7pytorch/test/images/test10_29_jpg.rf.259fe6977df974f0d878de19184dd241.jpg  \n",
            "  inflating: __MACOSX/+_648_640_640_label_ceo.v1i.yolov7pytorch/test/images/._test10_29_jpg.rf.259fe6977df974f0d878de19184dd241.jpg  \n",
            "  inflating: +_648_640_640_label_ceo.v1i.yolov7pytorch/test/labels/test16_22_jpg.rf.5ee543c4f8410e3a0ad8ef7349a0b242.txt  \n",
            "  inflating: __MACOSX/+_648_640_640_label_ceo.v1i.yolov7pytorch/test/labels/._test16_22_jpg.rf.5ee543c4f8410e3a0ad8ef7349a0b242.txt  \n",
            "  inflating: +_648_640_640_label_ceo.v1i.yolov7pytorch/test/labels/test10_9_jpg.rf.92747cd55ee364777163bb6f80ad79cf.txt  \n",
            "  inflating: __MACOSX/+_648_640_640_label_ceo.v1i.yolov7pytorch/test/labels/._test10_9_jpg.rf.92747cd55ee364777163bb6f80ad79cf.txt  \n",
            "  inflating: +_648_640_640_label_ceo.v1i.yolov7pytorch/test/labels/test27_25_jpg.rf.a110079d6c107b2f3872c26c263c60a6.txt  \n",
            "  inflating: __MACOSX/+_648_640_640_label_ceo.v1i.yolov7pytorch/test/labels/._test27_25_jpg.rf.a110079d6c107b2f3872c26c263c60a6.txt  \n",
            "  inflating: +_648_640_640_label_ceo.v1i.yolov7pytorch/test/labels/test29_11_jpg.rf.345f2fc9af72487f19c94338eaa83851.txt  \n",
            "  inflating: __MACOSX/+_648_640_640_label_ceo.v1i.yolov7pytorch/test/labels/._test29_11_jpg.rf.345f2fc9af72487f19c94338eaa83851.txt  \n",
            "  inflating: +_648_640_640_label_ceo.v1i.yolov7pytorch/test/labels/test27_8_jpg.rf.da9b1b2850b34871ac06d8466d8128f4.txt  \n",
            "  inflating: __MACOSX/+_648_640_640_label_ceo.v1i.yolov7pytorch/test/labels/._test27_8_jpg.rf.da9b1b2850b34871ac06d8466d8128f4.txt  \n",
            "  inflating: +_648_640_640_label_ceo.v1i.yolov7pytorch/test/labels/test10_29_jpg.rf.259fe6977df974f0d878de19184dd241.txt  \n",
            "  inflating: __MACOSX/+_648_640_640_label_ceo.v1i.yolov7pytorch/test/labels/._test10_29_jpg.rf.259fe6977df974f0d878de19184dd241.txt  \n",
            "  inflating: +_648_640_640_label_ceo.v1i.yolov7pytorch/train/images/Screen-Shot-2022-04-07-at-8-16-57-PM_png_jpg.rf.d521cff17c4cb9cc081273f623fba8f4.jpg  \n",
            "  inflating: __MACOSX/+_648_640_640_label_ceo.v1i.yolov7pytorch/train/images/._Screen-Shot-2022-04-07-at-8-16-57-PM_png_jpg.rf.d521cff17c4cb9cc081273f623fba8f4.jpg  \n",
            "  inflating: +_648_640_640_label_ceo.v1i.yolov7pytorch/train/images/images-2_jpeg_jpg.rf.f83ed5e109dab0a4f64b57997784102b.jpg  \n",
            "  inflating: __MACOSX/+_648_640_640_label_ceo.v1i.yolov7pytorch/train/images/._images-2_jpeg_jpg.rf.f83ed5e109dab0a4f64b57997784102b.jpg  \n",
            "  inflating: +_648_640_640_label_ceo.v1i.yolov7pytorch/train/images/6017770-0-image-a-10_1541861341336_jpg.rf.11d296e66574cd53999df2494cc6a5e8.jpg  \n",
            "  inflating: __MACOSX/+_648_640_640_label_ceo.v1i.yolov7pytorch/train/images/._6017770-0-image-a-10_1541861341336_jpg.rf.11d296e66574cd53999df2494cc6a5e8.jpg  \n",
            " extracting: +_648_640_640_label_ceo.v1i.yolov7pytorch/train/labels/Screen-Shot-2022-04-07-at-8-16-57-PM_png_jpg.rf.d521cff17c4cb9cc081273f623fba8f4.txt  \n",
            "  inflating: __MACOSX/+_648_640_640_label_ceo.v1i.yolov7pytorch/train/labels/._Screen-Shot-2022-04-07-at-8-16-57-PM_png_jpg.rf.d521cff17c4cb9cc081273f623fba8f4.txt  \n",
            " extracting: +_648_640_640_label_ceo.v1i.yolov7pytorch/train/labels/6017770-0-image-a-10_1541861341336_jpg.rf.11d296e66574cd53999df2494cc6a5e8.txt  \n",
            "  inflating: __MACOSX/+_648_640_640_label_ceo.v1i.yolov7pytorch/train/labels/._6017770-0-image-a-10_1541861341336_jpg.rf.11d296e66574cd53999df2494cc6a5e8.txt  \n",
            " extracting: +_648_640_640_label_ceo.v1i.yolov7pytorch/train/labels/images-2_jpeg_jpg.rf.f83ed5e109dab0a4f64b57997784102b.txt  \n",
            "  inflating: __MACOSX/+_648_640_640_label_ceo.v1i.yolov7pytorch/train/labels/._images-2_jpeg_jpg.rf.f83ed5e109dab0a4f64b57997784102b.txt  \n"
          ]
        }
      ]
    },
    {
      "cell_type": "code",
      "source": [
        "!pip install ultralytics"
      ],
      "metadata": {
        "id": "tylFMtRiP_ye",
        "colab": {
          "base_uri": "https://localhost:8080/"
        },
        "outputId": "76fa2e66-3b4e-40a1-89c2-96c435570bd3"
      },
      "execution_count": 4,
      "outputs": [
        {
          "output_type": "stream",
          "name": "stdout",
          "text": [
            "Collecting ultralytics\n",
            "  Downloading ultralytics-8.3.13-py3-none-any.whl.metadata (34 kB)\n",
            "Requirement already satisfied: numpy>=1.23.0 in /usr/local/lib/python3.10/dist-packages (from ultralytics) (1.26.4)\n",
            "Requirement already satisfied: matplotlib>=3.3.0 in /usr/local/lib/python3.10/dist-packages (from ultralytics) (3.7.1)\n",
            "Requirement already satisfied: opencv-python>=4.6.0 in /usr/local/lib/python3.10/dist-packages (from ultralytics) (4.10.0.84)\n",
            "Requirement already satisfied: pillow>=7.1.2 in /usr/local/lib/python3.10/dist-packages (from ultralytics) (10.4.0)\n",
            "Requirement already satisfied: pyyaml>=5.3.1 in /usr/local/lib/python3.10/dist-packages (from ultralytics) (6.0.2)\n",
            "Requirement already satisfied: requests>=2.23.0 in /usr/local/lib/python3.10/dist-packages (from ultralytics) (2.32.3)\n",
            "Requirement already satisfied: scipy>=1.4.1 in /usr/local/lib/python3.10/dist-packages (from ultralytics) (1.13.1)\n",
            "Requirement already satisfied: torch>=1.8.0 in /usr/local/lib/python3.10/dist-packages (from ultralytics) (2.4.1+cu121)\n",
            "Requirement already satisfied: torchvision>=0.9.0 in /usr/local/lib/python3.10/dist-packages (from ultralytics) (0.19.1+cu121)\n",
            "Requirement already satisfied: tqdm>=4.64.0 in /usr/local/lib/python3.10/dist-packages (from ultralytics) (4.66.5)\n",
            "Requirement already satisfied: psutil in /usr/local/lib/python3.10/dist-packages (from ultralytics) (5.9.5)\n",
            "Requirement already satisfied: py-cpuinfo in /usr/local/lib/python3.10/dist-packages (from ultralytics) (9.0.0)\n",
            "Requirement already satisfied: pandas>=1.1.4 in /usr/local/lib/python3.10/dist-packages (from ultralytics) (2.2.2)\n",
            "Requirement already satisfied: seaborn>=0.11.0 in /usr/local/lib/python3.10/dist-packages (from ultralytics) (0.13.2)\n",
            "Collecting ultralytics-thop>=2.0.0 (from ultralytics)\n",
            "  Downloading ultralytics_thop-2.0.9-py3-none-any.whl.metadata (9.3 kB)\n",
            "Requirement already satisfied: contourpy>=1.0.1 in /usr/local/lib/python3.10/dist-packages (from matplotlib>=3.3.0->ultralytics) (1.3.0)\n",
            "Requirement already satisfied: cycler>=0.10 in /usr/local/lib/python3.10/dist-packages (from matplotlib>=3.3.0->ultralytics) (0.12.1)\n",
            "Requirement already satisfied: fonttools>=4.22.0 in /usr/local/lib/python3.10/dist-packages (from matplotlib>=3.3.0->ultralytics) (4.54.1)\n",
            "Requirement already satisfied: kiwisolver>=1.0.1 in /usr/local/lib/python3.10/dist-packages (from matplotlib>=3.3.0->ultralytics) (1.4.7)\n",
            "Requirement already satisfied: packaging>=20.0 in /usr/local/lib/python3.10/dist-packages (from matplotlib>=3.3.0->ultralytics) (24.1)\n",
            "Requirement already satisfied: pyparsing>=2.3.1 in /usr/local/lib/python3.10/dist-packages (from matplotlib>=3.3.0->ultralytics) (3.1.4)\n",
            "Requirement already satisfied: python-dateutil>=2.7 in /usr/local/lib/python3.10/dist-packages (from matplotlib>=3.3.0->ultralytics) (2.8.2)\n",
            "Requirement already satisfied: pytz>=2020.1 in /usr/local/lib/python3.10/dist-packages (from pandas>=1.1.4->ultralytics) (2024.2)\n",
            "Requirement already satisfied: tzdata>=2022.7 in /usr/local/lib/python3.10/dist-packages (from pandas>=1.1.4->ultralytics) (2024.2)\n",
            "Requirement already satisfied: charset-normalizer<4,>=2 in /usr/local/lib/python3.10/dist-packages (from requests>=2.23.0->ultralytics) (3.4.0)\n",
            "Requirement already satisfied: idna<4,>=2.5 in /usr/local/lib/python3.10/dist-packages (from requests>=2.23.0->ultralytics) (3.10)\n",
            "Requirement already satisfied: urllib3<3,>=1.21.1 in /usr/local/lib/python3.10/dist-packages (from requests>=2.23.0->ultralytics) (2.2.3)\n",
            "Requirement already satisfied: certifi>=2017.4.17 in /usr/local/lib/python3.10/dist-packages (from requests>=2.23.0->ultralytics) (2024.8.30)\n",
            "Requirement already satisfied: filelock in /usr/local/lib/python3.10/dist-packages (from torch>=1.8.0->ultralytics) (3.16.1)\n",
            "Requirement already satisfied: typing-extensions>=4.8.0 in /usr/local/lib/python3.10/dist-packages (from torch>=1.8.0->ultralytics) (4.12.2)\n",
            "Requirement already satisfied: sympy in /usr/local/lib/python3.10/dist-packages (from torch>=1.8.0->ultralytics) (1.13.3)\n",
            "Requirement already satisfied: networkx in /usr/local/lib/python3.10/dist-packages (from torch>=1.8.0->ultralytics) (3.4)\n",
            "Requirement already satisfied: jinja2 in /usr/local/lib/python3.10/dist-packages (from torch>=1.8.0->ultralytics) (3.1.4)\n",
            "Requirement already satisfied: fsspec in /usr/local/lib/python3.10/dist-packages (from torch>=1.8.0->ultralytics) (2024.6.1)\n",
            "Requirement already satisfied: six>=1.5 in /usr/local/lib/python3.10/dist-packages (from python-dateutil>=2.7->matplotlib>=3.3.0->ultralytics) (1.16.0)\n",
            "Requirement already satisfied: MarkupSafe>=2.0 in /usr/local/lib/python3.10/dist-packages (from jinja2->torch>=1.8.0->ultralytics) (3.0.1)\n",
            "Requirement already satisfied: mpmath<1.4,>=1.1.0 in /usr/local/lib/python3.10/dist-packages (from sympy->torch>=1.8.0->ultralytics) (1.3.0)\n",
            "Downloading ultralytics-8.3.13-py3-none-any.whl (870 kB)\n",
            "\u001b[2K   \u001b[90m━━━━━━━━━━━━━━━━━━━━━━━━━━━━━━━━━━━━━━━━\u001b[0m \u001b[32m870.5/870.5 kB\u001b[0m \u001b[31m6.8 MB/s\u001b[0m eta \u001b[36m0:00:00\u001b[0m\n",
            "\u001b[?25hDownloading ultralytics_thop-2.0.9-py3-none-any.whl (26 kB)\n",
            "Installing collected packages: ultralytics-thop, ultralytics\n",
            "Successfully installed ultralytics-8.3.13 ultralytics-thop-2.0.9\n"
          ]
        }
      ]
    },
    {
      "cell_type": "code",
      "source": [
        "from ultralytics import YOLO"
      ],
      "metadata": {
        "id": "rpTvNvwNR8wW",
        "colab": {
          "base_uri": "https://localhost:8080/"
        },
        "outputId": "1dfc3599-1517-4e35-93a6-767c21d842f7"
      },
      "execution_count": 5,
      "outputs": [
        {
          "output_type": "stream",
          "name": "stdout",
          "text": [
            "Creating new Ultralytics Settings v0.0.6 file ✅ \n",
            "View Ultralytics Settings with 'yolo settings' or at '/root/.config/Ultralytics/settings.json'\n",
            "Update Settings with 'yolo settings key=value', i.e. 'yolo settings runs_dir=path/to/dir'. For help see https://docs.ultralytics.com/quickstart/#ultralytics-settings.\n"
          ]
        }
      ]
    },
    {
      "cell_type": "code",
      "source": [
        "model = YOLO(\"yolo11n.pt\")"
      ],
      "metadata": {
        "id": "2Yf3JtovRhrU",
        "colab": {
          "base_uri": "https://localhost:8080/"
        },
        "outputId": "80145937-caef-41e2-ad9e-e38fa9fb59b1"
      },
      "execution_count": 6,
      "outputs": [
        {
          "output_type": "stream",
          "name": "stdout",
          "text": [
            "Downloading https://github.com/ultralytics/assets/releases/download/v8.3.0/yolo11n.pt to 'yolo11n.pt'...\n"
          ]
        },
        {
          "output_type": "stream",
          "name": "stderr",
          "text": [
            "100%|██████████| 5.35M/5.35M [00:00<00:00, 68.3MB/s]\n"
          ]
        }
      ]
    },
    {
      "cell_type": "code",
      "source": [
        "model.info()"
      ],
      "metadata": {
        "colab": {
          "base_uri": "https://localhost:8080/"
        },
        "id": "x1zRSJMCY-ft",
        "outputId": "52fb0524-2c1d-4e1a-bac4-2f793e681f1a"
      },
      "execution_count": 7,
      "outputs": [
        {
          "output_type": "stream",
          "name": "stdout",
          "text": [
            "YOLO11n summary: 319 layers, 2,624,080 parameters, 0 gradients, 6.6 GFLOPs\n"
          ]
        },
        {
          "output_type": "execute_result",
          "data": {
            "text/plain": [
              "(319, 2624080, 0, 6.614336)"
            ]
          },
          "metadata": {},
          "execution_count": 7
        }
      ]
    },
    {
      "cell_type": "code",
      "source": [
        "results = model.train(data=\"/content/+_648_640_640_label_ceo.v1i.yolov7pytorch/data.yaml\", epochs=100, imgsz=640, device=0, batch=60, plots=True, profile=True)"
      ],
      "metadata": {
        "colab": {
          "base_uri": "https://localhost:8080/"
        },
        "id": "TE06EaiGSBEt",
        "outputId": "a20d02a4-8037-4108-8044-29f329fa4e24"
      },
      "execution_count": 8,
      "outputs": [
        {
          "output_type": "stream",
          "name": "stdout",
          "text": [
            "Ultralytics 8.3.13 🚀 Python-3.10.12 torch-2.4.1+cu121 CUDA:0 (Tesla T4, 15102MiB)\n",
            "\u001b[34m\u001b[1mengine/trainer: \u001b[0mtask=detect, mode=train, model=yolo11n.pt, data=/content/+_648_640_640_label_ceo.v1i.yolov7pytorch/data.yaml, epochs=100, time=None, patience=100, batch=60, imgsz=640, save=True, save_period=-1, cache=False, device=0, workers=8, project=None, name=train, exist_ok=False, pretrained=True, optimizer=auto, verbose=True, seed=0, deterministic=True, single_cls=False, rect=False, cos_lr=False, close_mosaic=10, resume=False, amp=True, fraction=1.0, profile=True, freeze=None, multi_scale=False, overlap_mask=True, mask_ratio=4, dropout=0.0, val=True, split=val, save_json=False, save_hybrid=False, conf=None, iou=0.7, max_det=300, half=False, dnn=False, plots=True, source=None, vid_stride=1, stream_buffer=False, visualize=False, augment=False, agnostic_nms=False, classes=None, retina_masks=False, embed=None, show=False, save_frames=False, save_txt=False, save_conf=False, save_crop=False, show_labels=True, show_conf=True, show_boxes=True, line_width=None, format=torchscript, keras=False, optimize=False, int8=False, dynamic=False, simplify=True, opset=None, workspace=4, nms=False, lr0=0.01, lrf=0.01, momentum=0.937, weight_decay=0.0005, warmup_epochs=3.0, warmup_momentum=0.8, warmup_bias_lr=0.1, box=7.5, cls=0.5, dfl=1.5, pose=12.0, kobj=1.0, label_smoothing=0.0, nbs=64, hsv_h=0.015, hsv_s=0.7, hsv_v=0.4, degrees=0.0, translate=0.1, scale=0.5, shear=0.0, perspective=0.0, flipud=0.0, fliplr=0.5, bgr=0.0, mosaic=1.0, mixup=0.0, copy_paste=0.0, copy_paste_mode=flip, auto_augment=randaugment, erasing=0.4, crop_fraction=1.0, cfg=None, tracker=botsort.yaml, save_dir=runs/detect/train\n",
            "Downloading https://ultralytics.com/assets/Arial.ttf to '/root/.config/Ultralytics/Arial.ttf'...\n"
          ]
        },
        {
          "output_type": "stream",
          "name": "stderr",
          "text": [
            "100%|██████████| 755k/755k [00:00<00:00, 33.6MB/s]\n"
          ]
        },
        {
          "output_type": "stream",
          "name": "stdout",
          "text": [
            "Overriding model.yaml nc=80 with nc=5\n",
            "\n",
            "                   from  n    params  module                                       arguments                     \n",
            "  0                  -1  1       464  ultralytics.nn.modules.conv.Conv             [3, 16, 3, 2]                 \n",
            "  1                  -1  1      4672  ultralytics.nn.modules.conv.Conv             [16, 32, 3, 2]                \n",
            "  2                  -1  1      6640  ultralytics.nn.modules.block.C3k2            [32, 64, 1, False, 0.25]      \n",
            "  3                  -1  1     36992  ultralytics.nn.modules.conv.Conv             [64, 64, 3, 2]                \n",
            "  4                  -1  1     26080  ultralytics.nn.modules.block.C3k2            [64, 128, 1, False, 0.25]     \n",
            "  5                  -1  1    147712  ultralytics.nn.modules.conv.Conv             [128, 128, 3, 2]              \n",
            "  6                  -1  1     87040  ultralytics.nn.modules.block.C3k2            [128, 128, 1, True]           \n",
            "  7                  -1  1    295424  ultralytics.nn.modules.conv.Conv             [128, 256, 3, 2]              \n",
            "  8                  -1  1    346112  ultralytics.nn.modules.block.C3k2            [256, 256, 1, True]           \n",
            "  9                  -1  1    164608  ultralytics.nn.modules.block.SPPF            [256, 256, 5]                 \n",
            " 10                  -1  1    249728  ultralytics.nn.modules.block.C2PSA           [256, 256, 1]                 \n",
            " 11                  -1  1         0  torch.nn.modules.upsampling.Upsample         [None, 2, 'nearest']          \n",
            " 12             [-1, 6]  1         0  ultralytics.nn.modules.conv.Concat           [1]                           \n",
            " 13                  -1  1    111296  ultralytics.nn.modules.block.C3k2            [384, 128, 1, False]          \n",
            " 14                  -1  1         0  torch.nn.modules.upsampling.Upsample         [None, 2, 'nearest']          \n",
            " 15             [-1, 4]  1         0  ultralytics.nn.modules.conv.Concat           [1]                           \n",
            " 16                  -1  1     32096  ultralytics.nn.modules.block.C3k2            [256, 64, 1, False]           \n",
            " 17                  -1  1     36992  ultralytics.nn.modules.conv.Conv             [64, 64, 3, 2]                \n",
            " 18            [-1, 13]  1         0  ultralytics.nn.modules.conv.Concat           [1]                           \n",
            " 19                  -1  1     86720  ultralytics.nn.modules.block.C3k2            [192, 128, 1, False]          \n",
            " 20                  -1  1    147712  ultralytics.nn.modules.conv.Conv             [128, 128, 3, 2]              \n",
            " 21            [-1, 10]  1         0  ultralytics.nn.modules.conv.Concat           [1]                           \n",
            " 22                  -1  1    378880  ultralytics.nn.modules.block.C3k2            [384, 256, 1, True]           \n",
            " 23        [16, 19, 22]  1    431647  ultralytics.nn.modules.head.Detect           [5, [64, 128, 256]]           \n",
            "YOLO11n summary: 319 layers, 2,590,815 parameters, 2,590,799 gradients, 6.4 GFLOPs\n",
            "\n",
            "Transferred 448/499 items from pretrained weights\n",
            "\u001b[34m\u001b[1mTensorBoard: \u001b[0mStart with 'tensorboard --logdir runs/detect/train', view at http://localhost:6006/\n",
            "Freezing layer 'model.23.dfl.conv.weight'\n",
            "\u001b[34m\u001b[1mAMP: \u001b[0mrunning Automatic Mixed Precision (AMP) checks with YOLO11n...\n",
            "\u001b[34m\u001b[1mAMP: \u001b[0mchecks passed ✅\n"
          ]
        },
        {
          "output_type": "stream",
          "name": "stderr",
          "text": [
            "\u001b[34m\u001b[1mtrain: \u001b[0mScanning /content/+_648_640_640_label_ceo.v1i.yolov7pytorch/train/labels... 3 images, 3 backgrounds, 0 corrupt: 100%|██████████| 3/3 [00:00<00:00, 1566.60it/s]"
          ]
        },
        {
          "output_type": "stream",
          "name": "stdout",
          "text": [
            "\u001b[34m\u001b[1mtrain: \u001b[0mNew cache created: /content/+_648_640_640_label_ceo.v1i.yolov7pytorch/train/labels.cache\n",
            "WARNING ⚠️ No labels found in /content/+_648_640_640_label_ceo.v1i.yolov7pytorch/train/labels.cache, training may not work correctly. See https://docs.ultralytics.com/datasets for dataset formatting guidance.\n"
          ]
        },
        {
          "output_type": "stream",
          "name": "stderr",
          "text": [
            "\n"
          ]
        },
        {
          "output_type": "stream",
          "name": "stdout",
          "text": [
            "\u001b[34m\u001b[1malbumentations: \u001b[0mBlur(p=0.01, blur_limit=(3, 7)), MedianBlur(p=0.01, blur_limit=(3, 7)), ToGray(p=0.01, num_output_channels=3, method='weighted_average'), CLAHE(p=0.01, clip_limit=(1, 4.0), tile_grid_size=(8, 8))\n"
          ]
        },
        {
          "output_type": "stream",
          "name": "stderr",
          "text": [
            "/usr/local/lib/python3.10/dist-packages/albumentations/__init__.py:13: UserWarning: A new version of Albumentations is available: 1.4.18 (you have 1.4.15). Upgrade using: pip install -U albumentations. To disable automatic update checks, set the environment variable NO_ALBUMENTATIONS_UPDATE to 1.\n",
            "  check_for_updates()\n",
            "\u001b[34m\u001b[1mval: \u001b[0mScanning /content/+_648_640_640_label_ceo.v1i.yolov7pytorch/valid/labels... 607 images, 0 backgrounds, 0 corrupt: 100%|██████████| 607/607 [00:00<00:00, 1478.16it/s]"
          ]
        },
        {
          "output_type": "stream",
          "name": "stdout",
          "text": [
            "\u001b[34m\u001b[1mval: \u001b[0mNew cache created: /content/+_648_640_640_label_ceo.v1i.yolov7pytorch/valid/labels.cache\n",
            "WARNING ⚠️ Box and segment counts should be equal, but got len(segments) = 1, len(boxes) = 641. To resolve this only boxes will be used and all segments will be removed. To avoid this please supply either a detect or segment dataset, not a detect-segment mixed dataset.\n"
          ]
        },
        {
          "output_type": "stream",
          "name": "stderr",
          "text": [
            "\n"
          ]
        },
        {
          "output_type": "stream",
          "name": "stdout",
          "text": [
            "Plotting labels to runs/detect/train/labels.jpg... \n",
            "zero-size array to reduction operation maximum which has no identity\n",
            "\u001b[34m\u001b[1moptimizer:\u001b[0m 'optimizer=auto' found, ignoring 'lr0=0.01' and 'momentum=0.937' and determining best 'optimizer', 'lr0' and 'momentum' automatically... \n",
            "\u001b[34m\u001b[1moptimizer:\u001b[0m AdamW(lr=0.001111, momentum=0.9) with parameter groups 81 weight(decay=0.0), 88 weight(decay=0.00046875), 87 bias(decay=0.0)\n",
            "\u001b[34m\u001b[1mTensorBoard: \u001b[0mmodel graph visualization added ✅\n",
            "Image sizes 640 train, 640 val\n",
            "Using 2 dataloader workers\n",
            "Logging results to \u001b[1mruns/detect/train\u001b[0m\n",
            "Starting training for 100 epochs...\n",
            "\n",
            "      Epoch    GPU_mem   box_loss   cls_loss   dfl_loss  Instances       Size\n"
          ]
        },
        {
          "output_type": "stream",
          "name": "stderr",
          "text": [
            "      1/100      0.52G          0      25.55          0          0        640: 100%|██████████| 1/1 [00:01<00:00,  1.17s/it]\n",
            "                 Class     Images  Instances      Box(P          R      mAP50  mAP50-95): 100%|██████████| 6/6 [00:07<00:00,  1.28s/it]"
          ]
        },
        {
          "output_type": "stream",
          "name": "stdout",
          "text": [
            "                   all        607        641    0.00981      0.577     0.0207    0.00864\n"
          ]
        },
        {
          "output_type": "stream",
          "name": "stderr",
          "text": [
            "\n"
          ]
        },
        {
          "output_type": "stream",
          "name": "stdout",
          "text": [
            "\n",
            "      Epoch    GPU_mem   box_loss   cls_loss   dfl_loss  Instances       Size\n"
          ]
        },
        {
          "output_type": "stream",
          "name": "stderr",
          "text": [
            "      2/100     0.491G          0       25.5          0          0        640: 100%|██████████| 1/1 [00:00<00:00,  7.36it/s]\n",
            "                 Class     Images  Instances      Box(P          R      mAP50  mAP50-95): 100%|██████████| 6/6 [00:04<00:00,  1.41it/s]\n"
          ]
        },
        {
          "output_type": "stream",
          "name": "stdout",
          "text": [
            "                   all        607        641     0.0132      0.581     0.0232    0.00986\n",
            "\n",
            "      Epoch    GPU_mem   box_loss   cls_loss   dfl_loss  Instances       Size\n"
          ]
        },
        {
          "output_type": "stream",
          "name": "stderr",
          "text": [
            "      3/100     0.491G          0      25.52          0          0        640: 100%|██████████| 1/1 [00:00<00:00,  5.45it/s]\n",
            "                 Class     Images  Instances      Box(P          R      mAP50  mAP50-95): 100%|██████████| 6/6 [00:05<00:00,  1.02it/s]\n"
          ]
        },
        {
          "output_type": "stream",
          "name": "stdout",
          "text": [
            "                   all        607        641     0.0112      0.542     0.0212    0.00885\n",
            "\n",
            "      Epoch    GPU_mem   box_loss   cls_loss   dfl_loss  Instances       Size\n"
          ]
        },
        {
          "output_type": "stream",
          "name": "stderr",
          "text": [
            "      4/100     0.491G          0      25.52          0          0        640: 100%|██████████| 1/1 [00:00<00:00,  1.99it/s]\n",
            "                 Class     Images  Instances      Box(P          R      mAP50  mAP50-95): 100%|██████████| 6/6 [00:04<00:00,  1.38it/s]\n"
          ]
        },
        {
          "output_type": "stream",
          "name": "stdout",
          "text": [
            "                   all        607        641     0.0203      0.543      0.027     0.0113\n",
            "\n",
            "      Epoch    GPU_mem   box_loss   cls_loss   dfl_loss  Instances       Size\n"
          ]
        },
        {
          "output_type": "stream",
          "name": "stderr",
          "text": [
            "      5/100      0.51G          0      25.48          0          0        640: 100%|██████████| 1/1 [00:00<00:00,  5.99it/s]\n",
            "                 Class     Images  Instances      Box(P          R      mAP50  mAP50-95): 100%|██████████| 6/6 [00:04<00:00,  1.42it/s]\n"
          ]
        },
        {
          "output_type": "stream",
          "name": "stdout",
          "text": [
            "                   all        607        641     0.0214      0.501     0.0284     0.0108\n",
            "\n",
            "      Epoch    GPU_mem   box_loss   cls_loss   dfl_loss  Instances       Size\n"
          ]
        },
        {
          "output_type": "stream",
          "name": "stderr",
          "text": [
            "      6/100      0.51G          0      25.45          0          0        640: 100%|██████████| 1/1 [00:00<00:00,  4.28it/s]\n",
            "                 Class     Images  Instances      Box(P          R      mAP50  mAP50-95): 100%|██████████| 6/6 [00:06<00:00,  1.05s/it]\n"
          ]
        },
        {
          "output_type": "stream",
          "name": "stdout",
          "text": [
            "                   all        607        641     0.0269      0.468     0.0312     0.0116\n",
            "\n",
            "      Epoch    GPU_mem   box_loss   cls_loss   dfl_loss  Instances       Size\n"
          ]
        },
        {
          "output_type": "stream",
          "name": "stderr",
          "text": [
            "      7/100      0.51G          0      25.35          0          0        640: 100%|██████████| 1/1 [00:00<00:00,  6.10it/s]\n",
            "                 Class     Images  Instances      Box(P          R      mAP50  mAP50-95): 100%|██████████| 6/6 [00:04<00:00,  1.42it/s]\n"
          ]
        },
        {
          "output_type": "stream",
          "name": "stdout",
          "text": [
            "                   all        607        641     0.0307      0.453     0.0327     0.0121\n",
            "\n",
            "      Epoch    GPU_mem   box_loss   cls_loss   dfl_loss  Instances       Size\n"
          ]
        },
        {
          "output_type": "stream",
          "name": "stderr",
          "text": [
            "      8/100      0.51G          0       25.3          0          0        640: 100%|██████████| 1/1 [00:00<00:00,  5.82it/s]\n",
            "                 Class     Images  Instances      Box(P          R      mAP50  mAP50-95): 100%|██████████| 6/6 [00:05<00:00,  1.09it/s]\n"
          ]
        },
        {
          "output_type": "stream",
          "name": "stdout",
          "text": [
            "                   all        607        641     0.0314      0.431     0.0335     0.0117\n",
            "\n",
            "      Epoch    GPU_mem   box_loss   cls_loss   dfl_loss  Instances       Size\n"
          ]
        },
        {
          "output_type": "stream",
          "name": "stderr",
          "text": [
            "      9/100      0.51G          0      25.25          0          0        640: 100%|██████████| 1/1 [00:00<00:00,  3.69it/s]\n",
            "                 Class     Images  Instances      Box(P          R      mAP50  mAP50-95): 100%|██████████| 6/6 [00:05<00:00,  1.18it/s]\n"
          ]
        },
        {
          "output_type": "stream",
          "name": "stdout",
          "text": [
            "                   all        607        641     0.0415      0.562     0.0394     0.0127\n",
            "\n",
            "      Epoch    GPU_mem   box_loss   cls_loss   dfl_loss  Instances       Size\n"
          ]
        },
        {
          "output_type": "stream",
          "name": "stderr",
          "text": [
            "     10/100      0.51G          0      25.12          0          0        640: 100%|██████████| 1/1 [00:00<00:00,  5.92it/s]\n",
            "                 Class     Images  Instances      Box(P          R      mAP50  mAP50-95): 100%|██████████| 6/6 [00:04<00:00,  1.37it/s]\n"
          ]
        },
        {
          "output_type": "stream",
          "name": "stdout",
          "text": [
            "                   all        607        641      0.032      0.549      0.034     0.0142\n",
            "\n",
            "      Epoch    GPU_mem   box_loss   cls_loss   dfl_loss  Instances       Size\n"
          ]
        },
        {
          "output_type": "stream",
          "name": "stderr",
          "text": [
            "     11/100      0.51G          0      25.06          0          0        640: 100%|██████████| 1/1 [00:00<00:00,  5.07it/s]\n",
            "                 Class     Images  Instances      Box(P          R      mAP50  mAP50-95): 100%|██████████| 6/6 [00:06<00:00,  1.10s/it]\n"
          ]
        },
        {
          "output_type": "stream",
          "name": "stdout",
          "text": [
            "                   all        607        641      0.045      0.545     0.0405     0.0178\n",
            "\n",
            "      Epoch    GPU_mem   box_loss   cls_loss   dfl_loss  Instances       Size\n"
          ]
        },
        {
          "output_type": "stream",
          "name": "stderr",
          "text": [
            "     12/100      0.51G          0      24.98          0          0        640: 100%|██████████| 1/1 [00:00<00:00,  5.11it/s]\n",
            "                 Class     Images  Instances      Box(P          R      mAP50  mAP50-95): 100%|██████████| 6/6 [00:04<00:00,  1.43it/s]\n"
          ]
        },
        {
          "output_type": "stream",
          "name": "stdout",
          "text": [
            "                   all        607        641     0.0449      0.535     0.0408     0.0201\n",
            "\n",
            "      Epoch    GPU_mem   box_loss   cls_loss   dfl_loss  Instances       Size\n"
          ]
        },
        {
          "output_type": "stream",
          "name": "stderr",
          "text": [
            "     13/100      0.51G          0      24.95          0          0        640: 100%|██████████| 1/1 [00:00<00:00,  5.21it/s]\n",
            "                 Class     Images  Instances      Box(P          R      mAP50  mAP50-95): 100%|██████████| 6/6 [00:04<00:00,  1.32it/s]\n"
          ]
        },
        {
          "output_type": "stream",
          "name": "stdout",
          "text": [
            "                   all        607        641     0.0502       0.54     0.0442      0.022\n",
            "\n",
            "      Epoch    GPU_mem   box_loss   cls_loss   dfl_loss  Instances       Size\n"
          ]
        },
        {
          "output_type": "stream",
          "name": "stderr",
          "text": [
            "     14/100      0.51G          0       24.8          0          0        640: 100%|██████████| 1/1 [00:00<00:00,  3.70it/s]\n",
            "                 Class     Images  Instances      Box(P          R      mAP50  mAP50-95): 100%|██████████| 6/6 [00:05<00:00,  1.10it/s]\n"
          ]
        },
        {
          "output_type": "stream",
          "name": "stdout",
          "text": [
            "                   all        607        641     0.0592      0.539       0.05     0.0247\n",
            "\n",
            "      Epoch    GPU_mem   box_loss   cls_loss   dfl_loss  Instances       Size\n"
          ]
        },
        {
          "output_type": "stream",
          "name": "stderr",
          "text": [
            "     15/100      0.51G          0      24.71          0          0        640: 100%|██████████| 1/1 [00:00<00:00,  5.74it/s]\n",
            "                 Class     Images  Instances      Box(P          R      mAP50  mAP50-95): 100%|██████████| 6/6 [00:04<00:00,  1.45it/s]\n"
          ]
        },
        {
          "output_type": "stream",
          "name": "stdout",
          "text": [
            "                   all        607        641     0.0486       0.55     0.0441     0.0236\n",
            "\n",
            "      Epoch    GPU_mem   box_loss   cls_loss   dfl_loss  Instances       Size\n"
          ]
        },
        {
          "output_type": "stream",
          "name": "stderr",
          "text": [
            "     16/100      0.51G          0      24.56          0          0        640: 100%|██████████| 1/1 [00:00<00:00,  5.33it/s]\n",
            "                 Class     Images  Instances      Box(P          R      mAP50  mAP50-95): 100%|██████████| 6/6 [00:05<00:00,  1.02it/s]\n"
          ]
        },
        {
          "output_type": "stream",
          "name": "stdout",
          "text": [
            "                   all        607        641     0.0421      0.548     0.0427     0.0235\n",
            "\n",
            "      Epoch    GPU_mem   box_loss   cls_loss   dfl_loss  Instances       Size\n"
          ]
        },
        {
          "output_type": "stream",
          "name": "stderr",
          "text": [
            "     17/100      0.51G          0      24.52          0          0        640: 100%|██████████| 1/1 [00:00<00:00,  3.64it/s]\n",
            "                 Class     Images  Instances      Box(P          R      mAP50  mAP50-95): 100%|██████████| 6/6 [00:04<00:00,  1.35it/s]\n"
          ]
        },
        {
          "output_type": "stream",
          "name": "stdout",
          "text": [
            "                   all        607        641     0.0553       0.56      0.051     0.0265\n",
            "\n",
            "      Epoch    GPU_mem   box_loss   cls_loss   dfl_loss  Instances       Size\n"
          ]
        },
        {
          "output_type": "stream",
          "name": "stderr",
          "text": [
            "     18/100      0.51G          0      24.39          0          0        640: 100%|██████████| 1/1 [00:00<00:00,  5.77it/s]\n",
            "                 Class     Images  Instances      Box(P          R      mAP50  mAP50-95): 100%|██████████| 6/6 [00:04<00:00,  1.39it/s]\n"
          ]
        },
        {
          "output_type": "stream",
          "name": "stdout",
          "text": [
            "                   all        607        641     0.0572      0.566     0.0526     0.0289\n",
            "\n",
            "      Epoch    GPU_mem   box_loss   cls_loss   dfl_loss  Instances       Size\n"
          ]
        },
        {
          "output_type": "stream",
          "name": "stderr",
          "text": [
            "     19/100      0.51G          0      24.27          0          0        640: 100%|██████████| 1/1 [00:00<00:00,  2.80it/s]\n",
            "                 Class     Images  Instances      Box(P          R      mAP50  mAP50-95): 100%|██████████| 6/6 [00:06<00:00,  1.06s/it]\n"
          ]
        },
        {
          "output_type": "stream",
          "name": "stdout",
          "text": [
            "                   all        607        641     0.0524      0.574     0.0525     0.0266\n",
            "\n",
            "      Epoch    GPU_mem   box_loss   cls_loss   dfl_loss  Instances       Size\n"
          ]
        },
        {
          "output_type": "stream",
          "name": "stderr",
          "text": [
            "     20/100      0.51G          0      24.14          0          0        640: 100%|██████████| 1/1 [00:00<00:00,  5.84it/s]\n",
            "                 Class     Images  Instances      Box(P          R      mAP50  mAP50-95): 100%|██████████| 6/6 [00:04<00:00,  1.41it/s]\n"
          ]
        },
        {
          "output_type": "stream",
          "name": "stdout",
          "text": [
            "                   all        607        641     0.0458      0.571     0.0496     0.0244\n",
            "\n",
            "      Epoch    GPU_mem   box_loss   cls_loss   dfl_loss  Instances       Size\n"
          ]
        },
        {
          "output_type": "stream",
          "name": "stderr",
          "text": [
            "     21/100      0.51G          0      24.05          0          0        640: 100%|██████████| 1/1 [00:00<00:00,  5.71it/s]\n",
            "                 Class     Images  Instances      Box(P          R      mAP50  mAP50-95): 100%|██████████| 6/6 [00:05<00:00,  1.14it/s]\n"
          ]
        },
        {
          "output_type": "stream",
          "name": "stdout",
          "text": [
            "                   all        607        641     0.0398      0.571     0.0452     0.0218\n",
            "\n",
            "      Epoch    GPU_mem   box_loss   cls_loss   dfl_loss  Instances       Size\n"
          ]
        },
        {
          "output_type": "stream",
          "name": "stderr",
          "text": [
            "     22/100      0.51G          0      23.91          0          0        640: 100%|██████████| 1/1 [00:00<00:00,  4.77it/s]\n",
            "                 Class     Images  Instances      Box(P          R      mAP50  mAP50-95): 100%|██████████| 6/6 [00:05<00:00,  1.18it/s]\n"
          ]
        },
        {
          "output_type": "stream",
          "name": "stdout",
          "text": [
            "                   all        607        641      0.036      0.439     0.0409      0.019\n",
            "\n",
            "      Epoch    GPU_mem   box_loss   cls_loss   dfl_loss  Instances       Size\n"
          ]
        },
        {
          "output_type": "stream",
          "name": "stderr",
          "text": [
            "     23/100      0.51G          0      23.78          0          0        640: 100%|██████████| 1/1 [00:00<00:00,  6.59it/s]\n",
            "                 Class     Images  Instances      Box(P          R      mAP50  mAP50-95): 100%|██████████| 6/6 [00:04<00:00,  1.39it/s]\n"
          ]
        },
        {
          "output_type": "stream",
          "name": "stdout",
          "text": [
            "                   all        607        641     0.0324      0.438     0.0373     0.0178\n",
            "\n",
            "      Epoch    GPU_mem   box_loss   cls_loss   dfl_loss  Instances       Size\n"
          ]
        },
        {
          "output_type": "stream",
          "name": "stderr",
          "text": [
            "     24/100      0.51G          0      23.64          0          0        640: 100%|██████████| 1/1 [00:00<00:00,  5.46it/s]\n",
            "                 Class     Images  Instances      Box(P          R      mAP50  mAP50-95): 100%|██████████| 6/6 [00:06<00:00,  1.05s/it]\n"
          ]
        },
        {
          "output_type": "stream",
          "name": "stdout",
          "text": [
            "                   all        607        641     0.0264      0.434      0.031     0.0149\n",
            "\n",
            "      Epoch    GPU_mem   box_loss   cls_loss   dfl_loss  Instances       Size\n"
          ]
        },
        {
          "output_type": "stream",
          "name": "stderr",
          "text": [
            "     25/100      0.51G          0      23.59          0          0        640: 100%|██████████| 1/1 [00:00<00:00,  6.02it/s]\n",
            "                 Class     Images  Instances      Box(P          R      mAP50  mAP50-95): 100%|██████████| 6/6 [00:04<00:00,  1.42it/s]\n"
          ]
        },
        {
          "output_type": "stream",
          "name": "stdout",
          "text": [
            "                   all        607        641     0.0223      0.433     0.0264     0.0121\n",
            "\n",
            "      Epoch    GPU_mem   box_loss   cls_loss   dfl_loss  Instances       Size\n"
          ]
        },
        {
          "output_type": "stream",
          "name": "stderr",
          "text": [
            "     26/100      0.51G          0      23.49          0          0        640: 100%|██████████| 1/1 [00:00<00:00,  5.30it/s]\n",
            "                 Class     Images  Instances      Box(P          R      mAP50  mAP50-95): 100%|██████████| 6/6 [00:04<00:00,  1.36it/s]\n"
          ]
        },
        {
          "output_type": "stream",
          "name": "stdout",
          "text": [
            "                   all        607        641     0.0173      0.415     0.0221    0.00957\n",
            "\n",
            "      Epoch    GPU_mem   box_loss   cls_loss   dfl_loss  Instances       Size\n"
          ]
        },
        {
          "output_type": "stream",
          "name": "stderr",
          "text": [
            "     27/100      0.51G          0      23.19          0          0        640: 100%|██████████| 1/1 [00:00<00:00,  4.03it/s]\n",
            "                 Class     Images  Instances      Box(P          R      mAP50  mAP50-95): 100%|██████████| 6/6 [00:06<00:00,  1.02s/it]\n"
          ]
        },
        {
          "output_type": "stream",
          "name": "stdout",
          "text": [
            "                   all        607        641     0.0136      0.398     0.0202    0.00796\n",
            "\n",
            "      Epoch    GPU_mem   box_loss   cls_loss   dfl_loss  Instances       Size\n"
          ]
        },
        {
          "output_type": "stream",
          "name": "stderr",
          "text": [
            "     28/100      0.51G          0      23.11          0          0        640: 100%|██████████| 1/1 [00:00<00:00,  5.64it/s]\n",
            "                 Class     Images  Instances      Box(P          R      mAP50  mAP50-95): 100%|██████████| 6/6 [00:04<00:00,  1.41it/s]\n"
          ]
        },
        {
          "output_type": "stream",
          "name": "stdout",
          "text": [
            "                   all        607        641     0.0129      0.385     0.0197    0.00759\n",
            "\n",
            "      Epoch    GPU_mem   box_loss   cls_loss   dfl_loss  Instances       Size\n"
          ]
        },
        {
          "output_type": "stream",
          "name": "stderr",
          "text": [
            "     29/100      0.51G          0      23.01          0          0        640: 100%|██████████| 1/1 [00:00<00:00,  5.67it/s]\n",
            "                 Class     Images  Instances      Box(P          R      mAP50  mAP50-95): 100%|██████████| 6/6 [00:05<00:00,  1.09it/s]\n"
          ]
        },
        {
          "output_type": "stream",
          "name": "stdout",
          "text": [
            "                   all        607        641     0.0141      0.405     0.0195    0.00778\n",
            "\n",
            "      Epoch    GPU_mem   box_loss   cls_loss   dfl_loss  Instances       Size\n"
          ]
        },
        {
          "output_type": "stream",
          "name": "stderr",
          "text": [
            "     30/100      0.51G          0       22.9          0          0        640: 100%|██████████| 1/1 [00:00<00:00,  4.16it/s]\n",
            "                 Class     Images  Instances      Box(P          R      mAP50  mAP50-95): 100%|██████████| 6/6 [00:04<00:00,  1.35it/s]\n"
          ]
        },
        {
          "output_type": "stream",
          "name": "stdout",
          "text": [
            "                   all        607        641     0.0115      0.394     0.0172    0.00671\n",
            "\n",
            "      Epoch    GPU_mem   box_loss   cls_loss   dfl_loss  Instances       Size\n"
          ]
        },
        {
          "output_type": "stream",
          "name": "stderr",
          "text": [
            "     31/100      0.51G          0      22.73          0          0        640: 100%|██████████| 1/1 [00:00<00:00,  6.61it/s]\n",
            "                 Class     Images  Instances      Box(P          R      mAP50  mAP50-95): 100%|██████████| 6/6 [00:04<00:00,  1.42it/s]\n"
          ]
        },
        {
          "output_type": "stream",
          "name": "stdout",
          "text": [
            "                   all        607        641     0.0105      0.274     0.0163    0.00596\n",
            "\n",
            "      Epoch    GPU_mem   box_loss   cls_loss   dfl_loss  Instances       Size\n"
          ]
        },
        {
          "output_type": "stream",
          "name": "stderr",
          "text": [
            "     32/100      0.51G          0      22.61          0          0        640: 100%|██████████| 1/1 [00:00<00:00,  4.16it/s]\n",
            "                 Class     Images  Instances      Box(P          R      mAP50  mAP50-95): 100%|██████████| 6/6 [00:06<00:00,  1.09s/it]\n"
          ]
        },
        {
          "output_type": "stream",
          "name": "stdout",
          "text": [
            "                   all        607        641     0.0089      0.282     0.0149    0.00531\n",
            "\n",
            "      Epoch    GPU_mem   box_loss   cls_loss   dfl_loss  Instances       Size\n"
          ]
        },
        {
          "output_type": "stream",
          "name": "stderr",
          "text": [
            "     33/100      0.51G          0      22.46          0          0        640: 100%|██████████| 1/1 [00:00<00:00,  5.28it/s]\n",
            "                 Class     Images  Instances      Box(P          R      mAP50  mAP50-95): 100%|██████████| 6/6 [00:04<00:00,  1.39it/s]\n"
          ]
        },
        {
          "output_type": "stream",
          "name": "stdout",
          "text": [
            "                   all        607        641     0.0087      0.267     0.0143      0.005\n",
            "\n",
            "      Epoch    GPU_mem   box_loss   cls_loss   dfl_loss  Instances       Size\n"
          ]
        },
        {
          "output_type": "stream",
          "name": "stderr",
          "text": [
            "     34/100      0.51G          0      22.35          0          0        640: 100%|██████████| 1/1 [00:00<00:00,  5.55it/s]\n",
            "                 Class     Images  Instances      Box(P          R      mAP50  mAP50-95): 100%|██████████| 6/6 [00:04<00:00,  1.22it/s]\n"
          ]
        },
        {
          "output_type": "stream",
          "name": "stdout",
          "text": [
            "                   all        607        641    0.00741       0.26      0.014    0.00451\n",
            "\n",
            "      Epoch    GPU_mem   box_loss   cls_loss   dfl_loss  Instances       Size\n"
          ]
        },
        {
          "output_type": "stream",
          "name": "stderr",
          "text": [
            "     35/100      0.51G          0      22.15          0          0        640: 100%|██████████| 1/1 [00:00<00:00,  3.74it/s]\n",
            "                 Class     Images  Instances      Box(P          R      mAP50  mAP50-95): 100%|██████████| 6/6 [00:05<00:00,  1.15it/s]\n"
          ]
        },
        {
          "output_type": "stream",
          "name": "stdout",
          "text": [
            "                   all        607        641     0.0066      0.264     0.0131    0.00421\n",
            "\n",
            "      Epoch    GPU_mem   box_loss   cls_loss   dfl_loss  Instances       Size\n"
          ]
        },
        {
          "output_type": "stream",
          "name": "stderr",
          "text": [
            "     36/100      0.51G          0      22.05          0          0        640: 100%|██████████| 1/1 [00:00<00:00,  5.79it/s]\n",
            "                 Class     Images  Instances      Box(P          R      mAP50  mAP50-95): 100%|██████████| 6/6 [00:04<00:00,  1.43it/s]\n"
          ]
        },
        {
          "output_type": "stream",
          "name": "stdout",
          "text": [
            "                   all        607        641    0.00685      0.245     0.0134    0.00416\n",
            "\n",
            "      Epoch    GPU_mem   box_loss   cls_loss   dfl_loss  Instances       Size\n"
          ]
        },
        {
          "output_type": "stream",
          "name": "stderr",
          "text": [
            "     37/100      0.51G          0      22.04          0          0        640: 100%|██████████| 1/1 [00:00<00:00,  5.27it/s]\n",
            "                 Class     Images  Instances      Box(P          R      mAP50  mAP50-95): 100%|██████████| 6/6 [00:05<00:00,  1.01it/s]\n"
          ]
        },
        {
          "output_type": "stream",
          "name": "stdout",
          "text": [
            "                   all        607        641    0.00765      0.267     0.0142    0.00436\n",
            "\n",
            "      Epoch    GPU_mem   box_loss   cls_loss   dfl_loss  Instances       Size\n"
          ]
        },
        {
          "output_type": "stream",
          "name": "stderr",
          "text": [
            "     38/100      0.51G          0      21.72          0          0        640: 100%|██████████| 1/1 [00:00<00:00,  5.42it/s]\n",
            "                 Class     Images  Instances      Box(P          R      mAP50  mAP50-95): 100%|██████████| 6/6 [00:04<00:00,  1.42it/s]\n"
          ]
        },
        {
          "output_type": "stream",
          "name": "stdout",
          "text": [
            "                   all        607        641    0.00657      0.261     0.0132    0.00419\n",
            "\n",
            "      Epoch    GPU_mem   box_loss   cls_loss   dfl_loss  Instances       Size\n"
          ]
        },
        {
          "output_type": "stream",
          "name": "stderr",
          "text": [
            "     39/100      0.51G          0      22.13          0          0        640: 100%|██████████| 1/1 [00:00<00:00,  6.16it/s]\n",
            "                 Class     Images  Instances      Box(P          R      mAP50  mAP50-95): 100%|██████████| 6/6 [00:04<00:00,  1.39it/s]\n"
          ]
        },
        {
          "output_type": "stream",
          "name": "stdout",
          "text": [
            "                   all        607        641    0.00562      0.261     0.0124     0.0045\n",
            "\n",
            "      Epoch    GPU_mem   box_loss   cls_loss   dfl_loss  Instances       Size\n"
          ]
        },
        {
          "output_type": "stream",
          "name": "stderr",
          "text": [
            "     40/100      0.51G          0      21.85          0          0        640: 100%|██████████| 1/1 [00:00<00:00,  3.29it/s]\n",
            "                 Class     Images  Instances      Box(P          R      mAP50  mAP50-95): 100%|██████████| 6/6 [00:06<00:00,  1.08s/it]\n"
          ]
        },
        {
          "output_type": "stream",
          "name": "stdout",
          "text": [
            "                   all        607        641     0.0057      0.271     0.0113    0.00396\n",
            "\n",
            "      Epoch    GPU_mem   box_loss   cls_loss   dfl_loss  Instances       Size\n"
          ]
        },
        {
          "output_type": "stream",
          "name": "stderr",
          "text": [
            "     41/100      0.51G          0       21.7          0          0        640: 100%|██████████| 1/1 [00:00<00:00,  6.14it/s]\n",
            "                 Class     Images  Instances      Box(P          R      mAP50  mAP50-95): 100%|██████████| 6/6 [00:04<00:00,  1.39it/s]\n"
          ]
        },
        {
          "output_type": "stream",
          "name": "stdout",
          "text": [
            "                   all        607        641    0.00578      0.269     0.0112    0.00401\n",
            "\n",
            "      Epoch    GPU_mem   box_loss   cls_loss   dfl_loss  Instances       Size\n"
          ]
        },
        {
          "output_type": "stream",
          "name": "stderr",
          "text": [
            "     42/100      0.51G          0      21.57          0          0        640: 100%|██████████| 1/1 [00:00<00:00,  5.73it/s]\n",
            "                 Class     Images  Instances      Box(P          R      mAP50  mAP50-95): 100%|██████████| 6/6 [00:05<00:00,  1.13it/s]\n"
          ]
        },
        {
          "output_type": "stream",
          "name": "stdout",
          "text": [
            "                   all        607        641    0.00516      0.272     0.0106     0.0038\n",
            "\n",
            "      Epoch    GPU_mem   box_loss   cls_loss   dfl_loss  Instances       Size\n"
          ]
        },
        {
          "output_type": "stream",
          "name": "stderr",
          "text": [
            "     43/100      0.51G          0      21.28          0          0        640: 100%|██████████| 1/1 [00:00<00:00,  3.55it/s]\n",
            "                 Class     Images  Instances      Box(P          R      mAP50  mAP50-95): 100%|██████████| 6/6 [00:04<00:00,  1.27it/s]\n"
          ]
        },
        {
          "output_type": "stream",
          "name": "stdout",
          "text": [
            "                   all        607        641    0.00491       0.28    0.00801    0.00275\n",
            "\n",
            "      Epoch    GPU_mem   box_loss   cls_loss   dfl_loss  Instances       Size\n"
          ]
        },
        {
          "output_type": "stream",
          "name": "stderr",
          "text": [
            "     44/100      0.51G          0       21.1          0          0        640: 100%|██████████| 1/1 [00:00<00:00,  6.13it/s]\n",
            "                 Class     Images  Instances      Box(P          R      mAP50  mAP50-95): 100%|██████████| 6/6 [00:04<00:00,  1.40it/s]\n"
          ]
        },
        {
          "output_type": "stream",
          "name": "stdout",
          "text": [
            "                   all        607        641    0.00496      0.291    0.00665    0.00237\n",
            "\n",
            "      Epoch    GPU_mem   box_loss   cls_loss   dfl_loss  Instances       Size\n"
          ]
        },
        {
          "output_type": "stream",
          "name": "stderr",
          "text": [
            "     45/100      0.51G          0      21.09          0          0        640: 100%|██████████| 1/1 [00:00<00:00,  5.07it/s]\n",
            "                 Class     Images  Instances      Box(P          R      mAP50  mAP50-95): 100%|██████████| 6/6 [00:06<00:00,  1.08s/it]\n"
          ]
        },
        {
          "output_type": "stream",
          "name": "stdout",
          "text": [
            "                   all        607        641    0.00468      0.285    0.00578    0.00214\n",
            "\n",
            "      Epoch    GPU_mem   box_loss   cls_loss   dfl_loss  Instances       Size\n"
          ]
        },
        {
          "output_type": "stream",
          "name": "stderr",
          "text": [
            "     46/100      0.51G          0      20.92          0          0        640: 100%|██████████| 1/1 [00:00<00:00,  5.65it/s]\n",
            "                 Class     Images  Instances      Box(P          R      mAP50  mAP50-95): 100%|██████████| 6/6 [00:04<00:00,  1.40it/s]\n"
          ]
        },
        {
          "output_type": "stream",
          "name": "stdout",
          "text": [
            "                   all        607        641    0.00468       0.27    0.00588    0.00206\n",
            "\n",
            "      Epoch    GPU_mem   box_loss   cls_loss   dfl_loss  Instances       Size\n"
          ]
        },
        {
          "output_type": "stream",
          "name": "stderr",
          "text": [
            "     47/100      0.51G          0      20.86          0          0        640: 100%|██████████| 1/1 [00:00<00:00,  5.62it/s]\n",
            "                 Class     Images  Instances      Box(P          R      mAP50  mAP50-95): 100%|██████████| 6/6 [00:04<00:00,  1.40it/s]\n"
          ]
        },
        {
          "output_type": "stream",
          "name": "stdout",
          "text": [
            "                   all        607        641    0.00456      0.266    0.00598    0.00214\n",
            "\n",
            "      Epoch    GPU_mem   box_loss   cls_loss   dfl_loss  Instances       Size\n"
          ]
        },
        {
          "output_type": "stream",
          "name": "stderr",
          "text": [
            "     48/100      0.51G          0      20.68          0          0        640: 100%|██████████| 1/1 [00:00<00:00,  4.03it/s]\n",
            "                 Class     Images  Instances      Box(P          R      mAP50  mAP50-95): 100%|██████████| 6/6 [00:06<00:00,  1.03s/it]\n"
          ]
        },
        {
          "output_type": "stream",
          "name": "stdout",
          "text": [
            "                   all        607        641    0.00472      0.275    0.00617     0.0021\n",
            "\n",
            "      Epoch    GPU_mem   box_loss   cls_loss   dfl_loss  Instances       Size\n"
          ]
        },
        {
          "output_type": "stream",
          "name": "stderr",
          "text": [
            "     49/100      0.51G          0      20.54          0          0        640: 100%|██████████| 1/1 [00:00<00:00,  5.61it/s]\n",
            "                 Class     Images  Instances      Box(P          R      mAP50  mAP50-95): 100%|██████████| 6/6 [00:04<00:00,  1.39it/s]\n"
          ]
        },
        {
          "output_type": "stream",
          "name": "stdout",
          "text": [
            "                   all        607        641     0.0045      0.293    0.00616    0.00209\n",
            "\n",
            "      Epoch    GPU_mem   box_loss   cls_loss   dfl_loss  Instances       Size\n"
          ]
        },
        {
          "output_type": "stream",
          "name": "stderr",
          "text": [
            "     50/100      0.51G          0      20.37          0          0        640: 100%|██████████| 1/1 [00:00<00:00,  5.37it/s]\n",
            "                 Class     Images  Instances      Box(P          R      mAP50  mAP50-95): 100%|██████████| 6/6 [00:05<00:00,  1.11it/s]\n"
          ]
        },
        {
          "output_type": "stream",
          "name": "stdout",
          "text": [
            "                   all        607        641    0.00415      0.294    0.00626    0.00212\n",
            "\n",
            "      Epoch    GPU_mem   box_loss   cls_loss   dfl_loss  Instances       Size\n"
          ]
        },
        {
          "output_type": "stream",
          "name": "stderr",
          "text": [
            "     51/100      0.51G          0      20.25          0          0        640: 100%|██████████| 1/1 [00:00<00:00,  3.36it/s]\n",
            "                 Class     Images  Instances      Box(P          R      mAP50  mAP50-95): 100%|██████████| 6/6 [00:05<00:00,  1.17it/s]\n"
          ]
        },
        {
          "output_type": "stream",
          "name": "stdout",
          "text": [
            "                   all        607        641    0.00409      0.312    0.00641    0.00215\n",
            "\n",
            "      Epoch    GPU_mem   box_loss   cls_loss   dfl_loss  Instances       Size\n"
          ]
        },
        {
          "output_type": "stream",
          "name": "stderr",
          "text": [
            "     52/100      0.51G          0      20.35          0          0        640: 100%|██████████| 1/1 [00:00<00:00,  5.85it/s]\n",
            "                 Class     Images  Instances      Box(P          R      mAP50  mAP50-95): 100%|██████████| 6/6 [00:04<00:00,  1.39it/s]\n"
          ]
        },
        {
          "output_type": "stream",
          "name": "stdout",
          "text": [
            "                   all        607        641    0.00373      0.325     0.0063    0.00203\n",
            "\n",
            "      Epoch    GPU_mem   box_loss   cls_loss   dfl_loss  Instances       Size\n"
          ]
        },
        {
          "output_type": "stream",
          "name": "stderr",
          "text": [
            "     53/100      0.51G          0      19.98          0          0        640: 100%|██████████| 1/1 [00:00<00:00,  5.51it/s]\n",
            "                 Class     Images  Instances      Box(P          R      mAP50  mAP50-95): 100%|██████████| 6/6 [00:06<00:00,  1.09s/it]\n"
          ]
        },
        {
          "output_type": "stream",
          "name": "stdout",
          "text": [
            "                   all        607        641    0.00351      0.337    0.00667    0.00208\n",
            "\n",
            "      Epoch    GPU_mem   box_loss   cls_loss   dfl_loss  Instances       Size\n"
          ]
        },
        {
          "output_type": "stream",
          "name": "stderr",
          "text": [
            "     54/100      0.51G          0       20.3          0          0        640: 100%|██████████| 1/1 [00:00<00:00,  6.44it/s]\n",
            "                 Class     Images  Instances      Box(P          R      mAP50  mAP50-95): 100%|██████████| 6/6 [00:04<00:00,  1.38it/s]\n"
          ]
        },
        {
          "output_type": "stream",
          "name": "stdout",
          "text": [
            "                   all        607        641    0.00337      0.327    0.00726    0.00216\n",
            "\n",
            "      Epoch    GPU_mem   box_loss   cls_loss   dfl_loss  Instances       Size\n"
          ]
        },
        {
          "output_type": "stream",
          "name": "stderr",
          "text": [
            "     55/100      0.51G          0      19.88          0          0        640: 100%|██████████| 1/1 [00:00<00:00,  5.55it/s]\n",
            "                 Class     Images  Instances      Box(P          R      mAP50  mAP50-95): 100%|██████████| 6/6 [00:04<00:00,  1.33it/s]\n"
          ]
        },
        {
          "output_type": "stream",
          "name": "stdout",
          "text": [
            "                   all        607        641    0.00334      0.339    0.00678    0.00213\n",
            "\n",
            "      Epoch    GPU_mem   box_loss   cls_loss   dfl_loss  Instances       Size\n"
          ]
        },
        {
          "output_type": "stream",
          "name": "stderr",
          "text": [
            "     56/100      0.51G          0      19.72          0          0        640: 100%|██████████| 1/1 [00:00<00:00,  3.60it/s]\n",
            "                 Class     Images  Instances      Box(P          R      mAP50  mAP50-95): 100%|██████████| 6/6 [00:06<00:00,  1.01s/it]\n"
          ]
        },
        {
          "output_type": "stream",
          "name": "stdout",
          "text": [
            "                   all        607        641    0.00335      0.346    0.00778    0.00236\n",
            "\n",
            "      Epoch    GPU_mem   box_loss   cls_loss   dfl_loss  Instances       Size\n"
          ]
        },
        {
          "output_type": "stream",
          "name": "stderr",
          "text": [
            "     57/100      0.51G          0       19.7          0          0        640: 100%|██████████| 1/1 [00:00<00:00,  5.94it/s]\n",
            "                 Class     Images  Instances      Box(P          R      mAP50  mAP50-95): 100%|██████████| 6/6 [00:04<00:00,  1.43it/s]\n"
          ]
        },
        {
          "output_type": "stream",
          "name": "stdout",
          "text": [
            "                   all        607        641     0.0032       0.35    0.00689    0.00222\n",
            "\n",
            "      Epoch    GPU_mem   box_loss   cls_loss   dfl_loss  Instances       Size\n"
          ]
        },
        {
          "output_type": "stream",
          "name": "stderr",
          "text": [
            "     58/100      0.51G          0      19.52          0          0        640: 100%|██████████| 1/1 [00:00<00:00,  6.09it/s]\n",
            "                 Class     Images  Instances      Box(P          R      mAP50  mAP50-95): 100%|██████████| 6/6 [00:05<00:00,  1.11it/s]\n"
          ]
        },
        {
          "output_type": "stream",
          "name": "stdout",
          "text": [
            "                   all        607        641    0.00301      0.358    0.00774    0.00217\n",
            "\n",
            "      Epoch    GPU_mem   box_loss   cls_loss   dfl_loss  Instances       Size\n"
          ]
        },
        {
          "output_type": "stream",
          "name": "stderr",
          "text": [
            "     59/100      0.51G          0      19.61          0          0        640: 100%|██████████| 1/1 [00:00<00:00,  3.64it/s]\n",
            "                 Class     Images  Instances      Box(P          R      mAP50  mAP50-95): 100%|██████████| 6/6 [00:04<00:00,  1.20it/s]\n"
          ]
        },
        {
          "output_type": "stream",
          "name": "stdout",
          "text": [
            "                   all        607        641    0.00295      0.362    0.00726    0.00215\n",
            "\n",
            "      Epoch    GPU_mem   box_loss   cls_loss   dfl_loss  Instances       Size\n"
          ]
        },
        {
          "output_type": "stream",
          "name": "stderr",
          "text": [
            "     60/100      0.51G          0      19.55          0          0        640: 100%|██████████| 1/1 [00:00<00:00,  6.06it/s]\n",
            "                 Class     Images  Instances      Box(P          R      mAP50  mAP50-95): 100%|██████████| 6/6 [00:04<00:00,  1.39it/s]\n"
          ]
        },
        {
          "output_type": "stream",
          "name": "stdout",
          "text": [
            "                   all        607        641    0.00291      0.369    0.00789     0.0023\n",
            "\n",
            "      Epoch    GPU_mem   box_loss   cls_loss   dfl_loss  Instances       Size\n"
          ]
        },
        {
          "output_type": "stream",
          "name": "stderr",
          "text": [
            "     61/100      0.51G          0       19.3          0          0        640: 100%|██████████| 1/1 [00:00<00:00,  6.07it/s]\n",
            "                 Class     Images  Instances      Box(P          R      mAP50  mAP50-95): 100%|██████████| 6/6 [00:06<00:00,  1.14s/it]\n"
          ]
        },
        {
          "output_type": "stream",
          "name": "stdout",
          "text": [
            "                   all        607        641      0.003      0.361    0.00692    0.00214\n",
            "\n",
            "      Epoch    GPU_mem   box_loss   cls_loss   dfl_loss  Instances       Size\n"
          ]
        },
        {
          "output_type": "stream",
          "name": "stderr",
          "text": [
            "     62/100      0.51G          0       19.2          0          0        640: 100%|██████████| 1/1 [00:00<00:00,  5.71it/s]\n",
            "                 Class     Images  Instances      Box(P          R      mAP50  mAP50-95): 100%|██████████| 6/6 [00:04<00:00,  1.40it/s]\n"
          ]
        },
        {
          "output_type": "stream",
          "name": "stdout",
          "text": [
            "                   all        607        641    0.00301      0.378    0.00558    0.00176\n",
            "\n",
            "      Epoch    GPU_mem   box_loss   cls_loss   dfl_loss  Instances       Size\n"
          ]
        },
        {
          "output_type": "stream",
          "name": "stderr",
          "text": [
            "     63/100      0.51G          0      19.13          0          0        640: 100%|██████████| 1/1 [00:00<00:00,  5.58it/s]\n",
            "                 Class     Images  Instances      Box(P          R      mAP50  mAP50-95): 100%|██████████| 6/6 [00:04<00:00,  1.34it/s]\n"
          ]
        },
        {
          "output_type": "stream",
          "name": "stdout",
          "text": [
            "                   all        607        641    0.00288      0.386    0.00465    0.00149\n",
            "\n",
            "      Epoch    GPU_mem   box_loss   cls_loss   dfl_loss  Instances       Size\n"
          ]
        },
        {
          "output_type": "stream",
          "name": "stderr",
          "text": [
            "     64/100      0.51G          0      19.05          0          0        640: 100%|██████████| 1/1 [00:00<00:00,  4.11it/s]\n",
            "                 Class     Images  Instances      Box(P          R      mAP50  mAP50-95): 100%|██████████| 6/6 [00:05<00:00,  1.03it/s]\n"
          ]
        },
        {
          "output_type": "stream",
          "name": "stdout",
          "text": [
            "                   all        607        641    0.00267      0.382    0.00418    0.00132\n",
            "\n",
            "      Epoch    GPU_mem   box_loss   cls_loss   dfl_loss  Instances       Size\n"
          ]
        },
        {
          "output_type": "stream",
          "name": "stderr",
          "text": [
            "     65/100      0.51G          0      18.97          0          0        640: 100%|██████████| 1/1 [00:00<00:00,  6.06it/s]\n",
            "                 Class     Images  Instances      Box(P          R      mAP50  mAP50-95): 100%|██████████| 6/6 [00:04<00:00,  1.42it/s]\n"
          ]
        },
        {
          "output_type": "stream",
          "name": "stdout",
          "text": [
            "                   all        607        641    0.00252      0.372    0.00387    0.00123\n",
            "\n",
            "      Epoch    GPU_mem   box_loss   cls_loss   dfl_loss  Instances       Size\n"
          ]
        },
        {
          "output_type": "stream",
          "name": "stderr",
          "text": [
            "     66/100      0.51G          0      18.89          0          0        640: 100%|██████████| 1/1 [00:00<00:00,  5.66it/s]\n",
            "                 Class     Images  Instances      Box(P          R      mAP50  mAP50-95): 100%|██████████| 6/6 [00:05<00:00,  1.03it/s]\n"
          ]
        },
        {
          "output_type": "stream",
          "name": "stdout",
          "text": [
            "                   all        607        641    0.00243      0.382    0.00359    0.00115\n",
            "\n",
            "      Epoch    GPU_mem   box_loss   cls_loss   dfl_loss  Instances       Size\n"
          ]
        },
        {
          "output_type": "stream",
          "name": "stderr",
          "text": [
            "     67/100      0.51G          0       18.8          0          0        640: 100%|██████████| 1/1 [00:00<00:00,  4.10it/s]\n",
            "                 Class     Images  Instances      Box(P          R      mAP50  mAP50-95): 100%|██████████| 6/6 [00:04<00:00,  1.39it/s]\n"
          ]
        },
        {
          "output_type": "stream",
          "name": "stdout",
          "text": [
            "                   all        607        641    0.00236      0.389    0.00358    0.00109\n",
            "\n",
            "      Epoch    GPU_mem   box_loss   cls_loss   dfl_loss  Instances       Size\n"
          ]
        },
        {
          "output_type": "stream",
          "name": "stderr",
          "text": [
            "     68/100      0.51G          0      18.72          0          0        640: 100%|██████████| 1/1 [00:00<00:00,  5.50it/s]\n",
            "                 Class     Images  Instances      Box(P          R      mAP50  mAP50-95): 100%|██████████| 6/6 [00:04<00:00,  1.43it/s]\n"
          ]
        },
        {
          "output_type": "stream",
          "name": "stdout",
          "text": [
            "                   all        607        641    0.00221      0.378    0.00341    0.00101\n",
            "\n",
            "      Epoch    GPU_mem   box_loss   cls_loss   dfl_loss  Instances       Size\n"
          ]
        },
        {
          "output_type": "stream",
          "name": "stderr",
          "text": [
            "     69/100      0.51G          0      18.61          0          0        640: 100%|██████████| 1/1 [00:00<00:00,  4.06it/s]\n",
            "                 Class     Images  Instances      Box(P          R      mAP50  mAP50-95): 100%|██████████| 6/6 [00:06<00:00,  1.11s/it]\n"
          ]
        },
        {
          "output_type": "stream",
          "name": "stdout",
          "text": [
            "                   all        607        641    0.00216      0.391    0.00333   0.000975\n",
            "\n",
            "      Epoch    GPU_mem   box_loss   cls_loss   dfl_loss  Instances       Size\n"
          ]
        },
        {
          "output_type": "stream",
          "name": "stderr",
          "text": [
            "     70/100      0.51G          0      18.56          0          0        640: 100%|██████████| 1/1 [00:00<00:00,  5.66it/s]\n",
            "                 Class     Images  Instances      Box(P          R      mAP50  mAP50-95): 100%|██████████| 6/6 [00:04<00:00,  1.39it/s]\n"
          ]
        },
        {
          "output_type": "stream",
          "name": "stdout",
          "text": [
            "                   all        607        641    0.00209      0.379    0.00311   0.000932\n",
            "\n",
            "      Epoch    GPU_mem   box_loss   cls_loss   dfl_loss  Instances       Size\n"
          ]
        },
        {
          "output_type": "stream",
          "name": "stderr",
          "text": [
            "     71/100      0.51G          0      18.38          0          0        640: 100%|██████████| 1/1 [00:00<00:00,  5.76it/s]\n",
            "                 Class     Images  Instances      Box(P          R      mAP50  mAP50-95): 100%|██████████| 6/6 [00:05<00:00,  1.14it/s]\n"
          ]
        },
        {
          "output_type": "stream",
          "name": "stdout",
          "text": [
            "                   all        607        641    0.00207      0.374    0.00297   0.000922\n",
            "\n",
            "      Epoch    GPU_mem   box_loss   cls_loss   dfl_loss  Instances       Size\n"
          ]
        },
        {
          "output_type": "stream",
          "name": "stderr",
          "text": [
            "     72/100      0.51G          0      18.34          0          0        640: 100%|██████████| 1/1 [00:00<00:00,  3.89it/s]\n",
            "                 Class     Images  Instances      Box(P          R      mAP50  mAP50-95): 100%|██████████| 6/6 [00:05<00:00,  1.20it/s]\n"
          ]
        },
        {
          "output_type": "stream",
          "name": "stdout",
          "text": [
            "                   all        607        641    0.00207      0.365    0.00297   0.000947\n",
            "\n",
            "      Epoch    GPU_mem   box_loss   cls_loss   dfl_loss  Instances       Size\n"
          ]
        },
        {
          "output_type": "stream",
          "name": "stderr",
          "text": [
            "     73/100      0.51G          0      18.28          0          0        640: 100%|██████████| 1/1 [00:00<00:00,  6.09it/s]\n",
            "                 Class     Images  Instances      Box(P          R      mAP50  mAP50-95): 100%|██████████| 6/6 [00:04<00:00,  1.41it/s]\n"
          ]
        },
        {
          "output_type": "stream",
          "name": "stdout",
          "text": [
            "                   all        607        641    0.00206      0.364    0.00299   0.000943\n",
            "\n",
            "      Epoch    GPU_mem   box_loss   cls_loss   dfl_loss  Instances       Size\n"
          ]
        },
        {
          "output_type": "stream",
          "name": "stderr",
          "text": [
            "     74/100      0.51G          0      18.14          0          0        640: 100%|██████████| 1/1 [00:00<00:00,  5.35it/s]\n",
            "                 Class     Images  Instances      Box(P          R      mAP50  mAP50-95): 100%|██████████| 6/6 [00:06<00:00,  1.09s/it]\n"
          ]
        },
        {
          "output_type": "stream",
          "name": "stdout",
          "text": [
            "                   all        607        641    0.00208      0.363    0.00287   0.000913\n",
            "\n",
            "      Epoch    GPU_mem   box_loss   cls_loss   dfl_loss  Instances       Size\n"
          ]
        },
        {
          "output_type": "stream",
          "name": "stderr",
          "text": [
            "     75/100      0.51G          0      18.06          0          0        640: 100%|██████████| 1/1 [00:00<00:00,  5.89it/s]\n",
            "                 Class     Images  Instances      Box(P          R      mAP50  mAP50-95): 100%|██████████| 6/6 [00:04<00:00,  1.38it/s]\n"
          ]
        },
        {
          "output_type": "stream",
          "name": "stdout",
          "text": [
            "                   all        607        641     0.0021      0.367    0.00286   0.000907\n",
            "\n",
            "      Epoch    GPU_mem   box_loss   cls_loss   dfl_loss  Instances       Size\n"
          ]
        },
        {
          "output_type": "stream",
          "name": "stderr",
          "text": [
            "     76/100      0.51G          0      17.94          0          0        640: 100%|██████████| 1/1 [00:00<00:00,  5.12it/s]\n",
            "                 Class     Images  Instances      Box(P          R      mAP50  mAP50-95): 100%|██████████| 6/6 [00:04<00:00,  1.31it/s]\n"
          ]
        },
        {
          "output_type": "stream",
          "name": "stdout",
          "text": [
            "                   all        607        641    0.00209      0.353     0.0027   0.000875\n",
            "\n",
            "      Epoch    GPU_mem   box_loss   cls_loss   dfl_loss  Instances       Size\n"
          ]
        },
        {
          "output_type": "stream",
          "name": "stderr",
          "text": [
            "     77/100      0.51G          0      18.14          0          0        640: 100%|██████████| 1/1 [00:00<00:00,  4.17it/s]\n",
            "                 Class     Images  Instances      Box(P          R      mAP50  mAP50-95): 100%|██████████| 6/6 [00:05<00:00,  1.02it/s]\n"
          ]
        },
        {
          "output_type": "stream",
          "name": "stdout",
          "text": [
            "                   all        607        641    0.00206      0.348     0.0026   0.000842\n",
            "\n",
            "      Epoch    GPU_mem   box_loss   cls_loss   dfl_loss  Instances       Size\n"
          ]
        },
        {
          "output_type": "stream",
          "name": "stderr",
          "text": [
            "     78/100      0.51G          0      17.84          0          0        640: 100%|██████████| 1/1 [00:00<00:00,  6.42it/s]\n",
            "                 Class     Images  Instances      Box(P          R      mAP50  mAP50-95): 100%|██████████| 6/6 [00:04<00:00,  1.44it/s]\n"
          ]
        },
        {
          "output_type": "stream",
          "name": "stdout",
          "text": [
            "                   all        607        641     0.0021      0.356    0.00264   0.000848\n",
            "\n",
            "      Epoch    GPU_mem   box_loss   cls_loss   dfl_loss  Instances       Size\n"
          ]
        },
        {
          "output_type": "stream",
          "name": "stderr",
          "text": [
            "     79/100      0.51G          0      17.75          0          0        640: 100%|██████████| 1/1 [00:00<00:00,  6.04it/s]\n",
            "                 Class     Images  Instances      Box(P          R      mAP50  mAP50-95): 100%|██████████| 6/6 [00:05<00:00,  1.09it/s]\n"
          ]
        },
        {
          "output_type": "stream",
          "name": "stdout",
          "text": [
            "                   all        607        641     0.0021      0.354    0.00254   0.000837\n",
            "\n",
            "      Epoch    GPU_mem   box_loss   cls_loss   dfl_loss  Instances       Size\n"
          ]
        },
        {
          "output_type": "stream",
          "name": "stderr",
          "text": [
            "     80/100      0.51G          0      17.75          0          0        640: 100%|██████████| 1/1 [00:00<00:00,  3.23it/s]\n",
            "                 Class     Images  Instances      Box(P          R      mAP50  mAP50-95): 100%|██████████| 6/6 [00:04<00:00,  1.36it/s]\n"
          ]
        },
        {
          "output_type": "stream",
          "name": "stdout",
          "text": [
            "                   all        607        641    0.00209      0.349    0.00249   0.000832\n",
            "\n",
            "      Epoch    GPU_mem   box_loss   cls_loss   dfl_loss  Instances       Size\n"
          ]
        },
        {
          "output_type": "stream",
          "name": "stderr",
          "text": [
            "     81/100     0.508G          0      17.63          0          0        640: 100%|██████████| 1/1 [00:00<00:00,  5.97it/s]\n",
            "                 Class     Images  Instances      Box(P          R      mAP50  mAP50-95): 100%|██████████| 6/6 [00:04<00:00,  1.42it/s]\n"
          ]
        },
        {
          "output_type": "stream",
          "name": "stdout",
          "text": [
            "                   all        607        641    0.00209      0.346    0.00248   0.000831\n",
            "\n",
            "      Epoch    GPU_mem   box_loss   cls_loss   dfl_loss  Instances       Size\n"
          ]
        },
        {
          "output_type": "stream",
          "name": "stderr",
          "text": [
            "     82/100      0.51G          0      17.61          0          0        640: 100%|██████████| 1/1 [00:00<00:00,  3.72it/s]\n",
            "                 Class     Images  Instances      Box(P          R      mAP50  mAP50-95): 100%|██████████| 6/6 [00:06<00:00,  1.12s/it]\n"
          ]
        },
        {
          "output_type": "stream",
          "name": "stdout",
          "text": [
            "                   all        607        641    0.00211      0.344    0.00269   0.000879\n",
            "\n",
            "      Epoch    GPU_mem   box_loss   cls_loss   dfl_loss  Instances       Size\n"
          ]
        },
        {
          "output_type": "stream",
          "name": "stderr",
          "text": [
            "     83/100      0.51G          0      17.57          0          0        640: 100%|██████████| 1/1 [00:00<00:00,  6.51it/s]\n",
            "                 Class     Images  Instances      Box(P          R      mAP50  mAP50-95): 100%|██████████| 6/6 [00:04<00:00,  1.38it/s]\n"
          ]
        },
        {
          "output_type": "stream",
          "name": "stdout",
          "text": [
            "                   all        607        641    0.00214      0.342    0.00278   0.000921\n",
            "\n",
            "      Epoch    GPU_mem   box_loss   cls_loss   dfl_loss  Instances       Size\n"
          ]
        },
        {
          "output_type": "stream",
          "name": "stderr",
          "text": [
            "     84/100     0.508G          0      17.67          0          0        640: 100%|██████████| 1/1 [00:00<00:00,  5.35it/s]\n",
            "                 Class     Images  Instances      Box(P          R      mAP50  mAP50-95): 100%|██████████| 6/6 [00:04<00:00,  1.23it/s]\n"
          ]
        },
        {
          "output_type": "stream",
          "name": "stdout",
          "text": [
            "                   all        607        641    0.00209       0.34    0.00275   0.000881\n",
            "\n",
            "      Epoch    GPU_mem   box_loss   cls_loss   dfl_loss  Instances       Size\n"
          ]
        },
        {
          "output_type": "stream",
          "name": "stderr",
          "text": [
            "     85/100      0.51G          0      17.51          0          0        640: 100%|██████████| 1/1 [00:00<00:00,  3.06it/s]\n",
            "                 Class     Images  Instances      Box(P          R      mAP50  mAP50-95): 100%|██████████| 6/6 [00:05<00:00,  1.12it/s]\n"
          ]
        },
        {
          "output_type": "stream",
          "name": "stdout",
          "text": [
            "                   all        607        641    0.00205      0.334    0.00275   0.000885\n",
            "\n",
            "      Epoch    GPU_mem   box_loss   cls_loss   dfl_loss  Instances       Size\n"
          ]
        },
        {
          "output_type": "stream",
          "name": "stderr",
          "text": [
            "     86/100     0.508G          0      17.38          0          0        640: 100%|██████████| 1/1 [00:00<00:00,  5.40it/s]\n",
            "                 Class     Images  Instances      Box(P          R      mAP50  mAP50-95): 100%|██████████| 6/6 [00:04<00:00,  1.37it/s]\n"
          ]
        },
        {
          "output_type": "stream",
          "name": "stdout",
          "text": [
            "                   all        607        641    0.00212      0.334    0.00283   0.000887\n",
            "\n",
            "      Epoch    GPU_mem   box_loss   cls_loss   dfl_loss  Instances       Size\n"
          ]
        },
        {
          "output_type": "stream",
          "name": "stderr",
          "text": [
            "     87/100      0.51G          0      17.43          0          0        640: 100%|██████████| 1/1 [00:00<00:00,  6.26it/s]\n",
            "                 Class     Images  Instances      Box(P          R      mAP50  mAP50-95): 100%|██████████| 6/6 [00:06<00:00,  1.00s/it]\n"
          ]
        },
        {
          "output_type": "stream",
          "name": "stdout",
          "text": [
            "                   all        607        641    0.00216      0.337    0.00281    0.00088\n",
            "\n",
            "      Epoch    GPU_mem   box_loss   cls_loss   dfl_loss  Instances       Size\n"
          ]
        },
        {
          "output_type": "stream",
          "name": "stderr",
          "text": [
            "     88/100      0.51G          0      17.32          0          0        640: 100%|██████████| 1/1 [00:00<00:00,  3.68it/s]\n",
            "                 Class     Images  Instances      Box(P          R      mAP50  mAP50-95): 100%|██████████| 6/6 [00:04<00:00,  1.39it/s]\n"
          ]
        },
        {
          "output_type": "stream",
          "name": "stdout",
          "text": [
            "                   all        607        641    0.00211      0.332    0.00273   0.000856\n",
            "\n",
            "      Epoch    GPU_mem   box_loss   cls_loss   dfl_loss  Instances       Size\n"
          ]
        },
        {
          "output_type": "stream",
          "name": "stderr",
          "text": [
            "     89/100      0.51G          0      17.38          0          0        640: 100%|██████████| 1/1 [00:00<00:00,  5.94it/s]\n",
            "                 Class     Images  Instances      Box(P          R      mAP50  mAP50-95): 100%|██████████| 6/6 [00:04<00:00,  1.41it/s]\n"
          ]
        },
        {
          "output_type": "stream",
          "name": "stdout",
          "text": [
            "                   all        607        641    0.00218      0.333    0.00281   0.000836\n",
            "\n",
            "      Epoch    GPU_mem   box_loss   cls_loss   dfl_loss  Instances       Size\n"
          ]
        },
        {
          "output_type": "stream",
          "name": "stderr",
          "text": [
            "     90/100      0.51G          0      17.35          0          0        640: 100%|██████████| 1/1 [00:00<00:00,  3.81it/s]\n",
            "                 Class     Images  Instances      Box(P          R      mAP50  mAP50-95): 100%|██████████| 6/6 [00:06<00:00,  1.04s/it]\n"
          ]
        },
        {
          "output_type": "stream",
          "name": "stdout",
          "text": [
            "                   all        607        641    0.00214      0.331    0.00278   0.000853\n",
            "Closing dataloader mosaic\n",
            "\u001b[34m\u001b[1malbumentations: \u001b[0mBlur(p=0.01, blur_limit=(3, 7)), MedianBlur(p=0.01, blur_limit=(3, 7)), ToGray(p=0.01, num_output_channels=3, method='weighted_average'), CLAHE(p=0.01, clip_limit=(1, 4.0), tile_grid_size=(8, 8))\n",
            "\n",
            "      Epoch    GPU_mem   box_loss   cls_loss   dfl_loss  Instances       Size\n"
          ]
        },
        {
          "output_type": "stream",
          "name": "stderr",
          "text": [
            "     91/100      0.51G          0      17.17          0          0        640: 100%|██████████| 1/1 [00:00<00:00,  3.47it/s]\n",
            "                 Class     Images  Instances      Box(P          R      mAP50  mAP50-95): 100%|██████████| 6/6 [00:04<00:00,  1.41it/s]\n"
          ]
        },
        {
          "output_type": "stream",
          "name": "stdout",
          "text": [
            "                   all        607        641    0.00206      0.316    0.00269   0.000814\n",
            "\n",
            "      Epoch    GPU_mem   box_loss   cls_loss   dfl_loss  Instances       Size\n"
          ]
        },
        {
          "output_type": "stream",
          "name": "stderr",
          "text": [
            "     92/100      0.51G          0      17.13          0          0        640: 100%|██████████| 1/1 [00:00<00:00,  5.87it/s]\n",
            "                 Class     Images  Instances      Box(P          R      mAP50  mAP50-95): 100%|██████████| 6/6 [00:05<00:00,  1.02it/s]\n"
          ]
        },
        {
          "output_type": "stream",
          "name": "stdout",
          "text": [
            "                   all        607        641    0.00211      0.317    0.00301   0.000862\n",
            "\n",
            "      Epoch    GPU_mem   box_loss   cls_loss   dfl_loss  Instances       Size\n"
          ]
        },
        {
          "output_type": "stream",
          "name": "stderr",
          "text": [
            "     93/100     0.508G          0      17.14          0          0        640: 100%|██████████| 1/1 [00:00<00:00,  3.73it/s]\n",
            "                 Class     Images  Instances      Box(P          R      mAP50  mAP50-95): 100%|██████████| 6/6 [00:04<00:00,  1.40it/s]\n"
          ]
        },
        {
          "output_type": "stream",
          "name": "stdout",
          "text": [
            "                   all        607        641    0.00213      0.314    0.00315   0.000855\n",
            "\n",
            "      Epoch    GPU_mem   box_loss   cls_loss   dfl_loss  Instances       Size\n"
          ]
        },
        {
          "output_type": "stream",
          "name": "stderr",
          "text": [
            "     94/100      0.51G          0      17.18          0          0        640: 100%|██████████| 1/1 [00:00<00:00,  6.49it/s]\n",
            "                 Class     Images  Instances      Box(P          R      mAP50  mAP50-95): 100%|██████████| 6/6 [00:04<00:00,  1.43it/s]\n"
          ]
        },
        {
          "output_type": "stream",
          "name": "stdout",
          "text": [
            "                   all        607        641    0.00207        0.3    0.00321   0.000834\n",
            "\n",
            "      Epoch    GPU_mem   box_loss   cls_loss   dfl_loss  Instances       Size\n"
          ]
        },
        {
          "output_type": "stream",
          "name": "stderr",
          "text": [
            "     95/100      0.51G          0      17.09          0          0        640: 100%|██████████| 1/1 [00:00<00:00,  4.89it/s]\n",
            "                 Class     Images  Instances      Box(P          R      mAP50  mAP50-95): 100%|██████████| 6/6 [00:06<00:00,  1.13s/it]\n"
          ]
        },
        {
          "output_type": "stream",
          "name": "stdout",
          "text": [
            "                   all        607        641    0.00201      0.294     0.0031   0.000835\n",
            "\n",
            "      Epoch    GPU_mem   box_loss   cls_loss   dfl_loss  Instances       Size\n"
          ]
        },
        {
          "output_type": "stream",
          "name": "stderr",
          "text": [
            "     96/100      0.51G          0       17.1          0          0        640: 100%|██████████| 1/1 [00:00<00:00,  6.45it/s]\n",
            "                 Class     Images  Instances      Box(P          R      mAP50  mAP50-95): 100%|██████████| 6/6 [00:04<00:00,  1.40it/s]"
          ]
        },
        {
          "output_type": "stream",
          "name": "stdout",
          "text": [
            "                   all        607        641    0.00202      0.291    0.00305   0.000828\n"
          ]
        },
        {
          "output_type": "stream",
          "name": "stderr",
          "text": [
            "\n"
          ]
        },
        {
          "output_type": "stream",
          "name": "stdout",
          "text": [
            "\n",
            "      Epoch    GPU_mem   box_loss   cls_loss   dfl_loss  Instances       Size\n"
          ]
        },
        {
          "output_type": "stream",
          "name": "stderr",
          "text": [
            "     97/100      0.51G          0      17.25          0          0        640: 100%|██████████| 1/1 [00:00<00:00,  5.69it/s]\n",
            "                 Class     Images  Instances      Box(P          R      mAP50  mAP50-95): 100%|██████████| 6/6 [00:04<00:00,  1.29it/s]\n"
          ]
        },
        {
          "output_type": "stream",
          "name": "stdout",
          "text": [
            "                   all        607        641    0.00205      0.293    0.00301   0.000803\n",
            "\n",
            "      Epoch    GPU_mem   box_loss   cls_loss   dfl_loss  Instances       Size\n"
          ]
        },
        {
          "output_type": "stream",
          "name": "stderr",
          "text": [
            "     98/100      0.51G          0      17.03          0          0        640: 100%|██████████| 1/1 [00:00<00:00,  4.13it/s]\n",
            "                 Class     Images  Instances      Box(P          R      mAP50  mAP50-95): 100%|██████████| 6/6 [00:06<00:00,  1.02s/it]\n"
          ]
        },
        {
          "output_type": "stream",
          "name": "stdout",
          "text": [
            "                   all        607        641    0.00203      0.291    0.00317   0.000816\n",
            "\n",
            "      Epoch    GPU_mem   box_loss   cls_loss   dfl_loss  Instances       Size\n"
          ]
        },
        {
          "output_type": "stream",
          "name": "stderr",
          "text": [
            "     99/100      0.51G          0      17.07          0          0        640: 100%|██████████| 1/1 [00:00<00:00,  6.06it/s]\n",
            "                 Class     Images  Instances      Box(P          R      mAP50  mAP50-95): 100%|██████████| 6/6 [00:04<00:00,  1.44it/s]\n"
          ]
        },
        {
          "output_type": "stream",
          "name": "stdout",
          "text": [
            "                   all        607        641    0.00205      0.296    0.00324   0.000828\n",
            "\n",
            "      Epoch    GPU_mem   box_loss   cls_loss   dfl_loss  Instances       Size\n"
          ]
        },
        {
          "output_type": "stream",
          "name": "stderr",
          "text": [
            "    100/100      0.51G          0      17.03          0          0        640: 100%|██████████| 1/1 [00:00<00:00,  5.73it/s]\n",
            "                 Class     Images  Instances      Box(P          R      mAP50  mAP50-95): 100%|██████████| 6/6 [00:05<00:00,  1.12it/s]\n"
          ]
        },
        {
          "output_type": "stream",
          "name": "stdout",
          "text": [
            "                   all        607        641    0.00202      0.284    0.00331    0.00085\n",
            "\n",
            "100 epochs completed in 0.189 hours.\n",
            "Optimizer stripped from runs/detect/train/weights/last.pt, 5.5MB\n",
            "Optimizer stripped from runs/detect/train/weights/best.pt, 5.5MB\n",
            "\n",
            "Validating runs/detect/train/weights/best.pt...\n",
            "Ultralytics 8.3.13 🚀 Python-3.10.12 torch-2.4.1+cu121 CUDA:0 (Tesla T4, 15102MiB)\n",
            "YOLO11n summary (fused): 238 layers, 2,583,127 parameters, 0 gradients, 6.3 GFLOPs\n"
          ]
        },
        {
          "output_type": "stream",
          "name": "stderr",
          "text": [
            "                 Class     Images  Instances      Box(P          R      mAP50  mAP50-95): 100%|██████████| 6/6 [00:08<00:00,  1.49s/it]\n"
          ]
        },
        {
          "output_type": "stream",
          "name": "stdout",
          "text": [
            "                   all        607        641     0.0579      0.566     0.0527     0.0288\n",
            "                     0          2          2   3.28e-05          1   0.000139   0.000107\n",
            "                     1        230        238      0.182      0.084      0.103     0.0625\n",
            "                     2         48         51     0.0462      0.314     0.0368      0.016\n",
            "                     4        332        350    0.00353      0.866     0.0709     0.0367\n",
            "Speed: 0.2ms preprocess, 2.5ms inference, 0.0ms loss, 5.4ms postprocess per image\n",
            "Results saved to \u001b[1mruns/detect/train\u001b[0m\n"
          ]
        }
      ]
    },
    {
      "cell_type": "markdown",
      "source": [],
      "metadata": {
        "id": "D16ofwvn7EOJ"
      }
    },
    {
      "cell_type": "code",
      "source": [
        "import shutil\n",
        "from google.colab import files\n",
        "\n",
        "# Klasörü ziplemek\n",
        "shutil.make_archive('/content/runs', 'zip', '/content/runs')\n",
        "\n",
        "# Zipped dosyayı indirmek\n",
        "files.download('/content/runs.zip')\n"
      ],
      "metadata": {
        "colab": {
          "base_uri": "https://localhost:8080/",
          "height": 17
        },
        "id": "_cS-EO2UK5a-",
        "outputId": "ed90b335-22f3-4f9e-ad19-a034850c01a0"
      },
      "execution_count": 9,
      "outputs": [
        {
          "output_type": "display_data",
          "data": {
            "text/plain": [
              "<IPython.core.display.Javascript object>"
            ],
            "application/javascript": [
              "\n",
              "    async function download(id, filename, size) {\n",
              "      if (!google.colab.kernel.accessAllowed) {\n",
              "        return;\n",
              "      }\n",
              "      const div = document.createElement('div');\n",
              "      const label = document.createElement('label');\n",
              "      label.textContent = `Downloading \"${filename}\": `;\n",
              "      div.appendChild(label);\n",
              "      const progress = document.createElement('progress');\n",
              "      progress.max = size;\n",
              "      div.appendChild(progress);\n",
              "      document.body.appendChild(div);\n",
              "\n",
              "      const buffers = [];\n",
              "      let downloaded = 0;\n",
              "\n",
              "      const channel = await google.colab.kernel.comms.open(id);\n",
              "      // Send a message to notify the kernel that we're ready.\n",
              "      channel.send({})\n",
              "\n",
              "      for await (const message of channel.messages) {\n",
              "        // Send a message to notify the kernel that we're ready.\n",
              "        channel.send({})\n",
              "        if (message.buffers) {\n",
              "          for (const buffer of message.buffers) {\n",
              "            buffers.push(buffer);\n",
              "            downloaded += buffer.byteLength;\n",
              "            progress.value = downloaded;\n",
              "          }\n",
              "        }\n",
              "      }\n",
              "      const blob = new Blob(buffers, {type: 'application/binary'});\n",
              "      const a = document.createElement('a');\n",
              "      a.href = window.URL.createObjectURL(blob);\n",
              "      a.download = filename;\n",
              "      div.appendChild(a);\n",
              "      a.click();\n",
              "      div.remove();\n",
              "    }\n",
              "  "
            ]
          },
          "metadata": {}
        },
        {
          "output_type": "display_data",
          "data": {
            "text/plain": [
              "<IPython.core.display.Javascript object>"
            ],
            "application/javascript": [
              "download(\"download_e2b7900d-ac38-4dd7-bbce-127d65cb1d8e\", \"runs.zip\", 14762489)"
            ]
          },
          "metadata": {}
        }
      ]
    }
  ]
}