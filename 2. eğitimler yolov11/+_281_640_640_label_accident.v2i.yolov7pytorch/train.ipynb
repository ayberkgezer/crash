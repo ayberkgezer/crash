{
  "nbformat": 4,
  "nbformat_minor": 0,
  "metadata": {
    "colab": {
      "provenance": [],
      "gpuType": "T4"
    },
    "kernelspec": {
      "name": "python3",
      "display_name": "Python 3"
    },
    "language_info": {
      "name": "python"
    },
    "accelerator": "GPU"
  },
  "cells": [
    {
      "cell_type": "code",
      "execution_count": 1,
      "metadata": {
        "colab": {
          "base_uri": "https://localhost:8080/"
        },
        "id": "iRGohlNhPyun",
        "outputId": "412743be-4ddf-453f-e871-754a682395db"
      },
      "outputs": [
        {
          "output_type": "stream",
          "name": "stdout",
          "text": [
            "Mon Oct 14 20:03:11 2024       \n",
            "+---------------------------------------------------------------------------------------+\n",
            "| NVIDIA-SMI 535.104.05             Driver Version: 535.104.05   CUDA Version: 12.2     |\n",
            "|-----------------------------------------+----------------------+----------------------+\n",
            "| GPU  Name                 Persistence-M | Bus-Id        Disp.A | Volatile Uncorr. ECC |\n",
            "| Fan  Temp   Perf          Pwr:Usage/Cap |         Memory-Usage | GPU-Util  Compute M. |\n",
            "|                                         |                      |               MIG M. |\n",
            "|=========================================+======================+======================|\n",
            "|   0  Tesla T4                       Off | 00000000:00:04.0 Off |                    0 |\n",
            "| N/A   56C    P8               9W /  70W |      0MiB / 15360MiB |      0%      Default |\n",
            "|                                         |                      |                  N/A |\n",
            "+-----------------------------------------+----------------------+----------------------+\n",
            "                                                                                         \n",
            "+---------------------------------------------------------------------------------------+\n",
            "| Processes:                                                                            |\n",
            "|  GPU   GI   CI        PID   Type   Process name                            GPU Memory |\n",
            "|        ID   ID                                                             Usage      |\n",
            "|=======================================================================================|\n",
            "|  No running processes found                                                           |\n",
            "+---------------------------------------------------------------------------------------+\n"
          ]
        }
      ],
      "source": [
        "!nvidia-smi"
      ]
    },
    {
      "cell_type": "code",
      "source": [
        "from google.colab import drive\n",
        "drive.mount('/content/drive')"
      ],
      "metadata": {
        "colab": {
          "base_uri": "https://localhost:8080/"
        },
        "id": "ZXdkG0oTP4Fp",
        "outputId": "23485684-19b8-4736-f776-ed8bab41f55f"
      },
      "execution_count": 2,
      "outputs": [
        {
          "output_type": "stream",
          "name": "stdout",
          "text": [
            "Mounted at /content/drive\n"
          ]
        }
      ]
    },
    {
      "cell_type": "code",
      "source": [
        "!unzip /content/drive/MyDrive/+_281_640_640_label_accident.v2i.yolov7pytorch.zip"
      ],
      "metadata": {
        "id": "IdrfiHhUP6tY",
        "colab": {
          "base_uri": "https://localhost:8080/"
        },
        "outputId": "c1906d19-327b-4dc3-9097-ef67426a0812"
      },
      "execution_count": 3,
      "outputs": [
        {
          "output_type": "stream",
          "name": "stdout",
          "text": [
            "Archive:  /content/drive/MyDrive/+_281_640_640_label_accident.v2i.yolov7pytorch.zip\n",
            "   creating: +_281_640_640_label_accident.v2i.yolov7pytorch/\n",
            "  inflating: __MACOSX/._+_281_640_640_label_accident.v2i.yolov7pytorch  \n",
            "  inflating: +_281_640_640_label_accident.v2i.yolov7pytorch/README.roboflow.txt  \n",
            "  inflating: __MACOSX/+_281_640_640_label_accident.v2i.yolov7pytorch/._README.roboflow.txt  \n",
            "   creating: +_281_640_640_label_accident.v2i.yolov7pytorch/valid/\n",
            "  inflating: __MACOSX/+_281_640_640_label_accident.v2i.yolov7pytorch/._valid  \n",
            "  inflating: +_281_640_640_label_accident.v2i.yolov7pytorch/README.dataset.txt  \n",
            "  inflating: __MACOSX/+_281_640_640_label_accident.v2i.yolov7pytorch/._README.dataset.txt  \n",
            "   creating: +_281_640_640_label_accident.v2i.yolov7pytorch/test/\n",
            "  inflating: __MACOSX/+_281_640_640_label_accident.v2i.yolov7pytorch/._test  \n",
            "  inflating: +_281_640_640_label_accident.v2i.yolov7pytorch/data.yaml  \n",
            "  inflating: __MACOSX/+_281_640_640_label_accident.v2i.yolov7pytorch/._data.yaml  \n",
            "   creating: +_281_640_640_label_accident.v2i.yolov7pytorch/train/\n",
            "  inflating: __MACOSX/+_281_640_640_label_accident.v2i.yolov7pytorch/._train  \n",
            "   creating: +_281_640_640_label_accident.v2i.yolov7pytorch/valid/images/\n",
            "  inflating: __MACOSX/+_281_640_640_label_accident.v2i.yolov7pytorch/valid/._images  \n",
            "   creating: +_281_640_640_label_accident.v2i.yolov7pytorch/valid/labels/\n",
            "  inflating: __MACOSX/+_281_640_640_label_accident.v2i.yolov7pytorch/valid/._labels  \n",
            "   creating: +_281_640_640_label_accident.v2i.yolov7pytorch/test/images/\n",
            "  inflating: __MACOSX/+_281_640_640_label_accident.v2i.yolov7pytorch/test/._images  \n",
            "   creating: +_281_640_640_label_accident.v2i.yolov7pytorch/test/labels/\n",
            "  inflating: __MACOSX/+_281_640_640_label_accident.v2i.yolov7pytorch/test/._labels  \n",
            "   creating: +_281_640_640_label_accident.v2i.yolov7pytorch/train/images/\n",
            "  inflating: __MACOSX/+_281_640_640_label_accident.v2i.yolov7pytorch/train/._images  \n",
            "   creating: +_281_640_640_label_accident.v2i.yolov7pytorch/train/labels/\n",
            "  inflating: __MACOSX/+_281_640_640_label_accident.v2i.yolov7pytorch/train/._labels  \n",
            "  inflating: +_281_640_640_label_accident.v2i.yolov7pytorch/valid/images/IMG_2020_PNG_jpg.rf.563f8ba398d931f51f42e9c02dcf7abc.jpg  \n",
            "  inflating: __MACOSX/+_281_640_640_label_accident.v2i.yolov7pytorch/valid/images/._IMG_2020_PNG_jpg.rf.563f8ba398d931f51f42e9c02dcf7abc.jpg  \n",
            "  inflating: +_281_640_640_label_accident.v2i.yolov7pytorch/valid/images/accidentFrame5677_jpg.rf.64c112a518e54433603558850ea113c5.jpg  \n",
            "  inflating: __MACOSX/+_281_640_640_label_accident.v2i.yolov7pytorch/valid/images/._accidentFrame5677_jpg.rf.64c112a518e54433603558850ea113c5.jpg  \n",
            "  inflating: +_281_640_640_label_accident.v2i.yolov7pytorch/valid/images/severityV4_20_jpg.rf.06fd05a06cefe3b5cfcc6af6313da226.jpg  \n",
            "  inflating: __MACOSX/+_281_640_640_label_accident.v2i.yolov7pytorch/valid/images/._severityV4_20_jpg.rf.06fd05a06cefe3b5cfcc6af6313da226.jpg  \n",
            "  inflating: +_281_640_640_label_accident.v2i.yolov7pytorch/valid/images/images-2022-04-07T065309-819_jpeg_jpg.rf.2f828bd05b421e94961eee6fcbf39d3b.jpg  \n",
            "  inflating: __MACOSX/+_281_640_640_label_accident.v2i.yolov7pytorch/valid/images/._images-2022-04-07T065309-819_jpeg_jpg.rf.2f828bd05b421e94961eee6fcbf39d3b.jpg  \n",
            "  inflating: +_281_640_640_label_accident.v2i.yolov7pytorch/valid/images/traffic_img116_jpg.rf.abfe51ea6ed09b7c0c25165d91193ae4.jpg  \n",
            "  inflating: __MACOSX/+_281_640_640_label_accident.v2i.yolov7pytorch/valid/images/._traffic_img116_jpg.rf.abfe51ea6ed09b7c0c25165d91193ae4.jpg  \n",
            "  inflating: +_281_640_640_label_accident.v2i.yolov7pytorch/valid/images/test25_28_jpg.rf.dd992b8f9cc283a3e84286129a7ce33b.jpg  \n",
            "  inflating: __MACOSX/+_281_640_640_label_accident.v2i.yolov7pytorch/valid/images/._test25_28_jpg.rf.dd992b8f9cc283a3e84286129a7ce33b.jpg  \n",
            "  inflating: +_281_640_640_label_accident.v2i.yolov7pytorch/valid/images/traffic_img804_jpg.rf.1c28ff61c6b2706b279d1b24e4ced01e.jpg  \n",
            "  inflating: __MACOSX/+_281_640_640_label_accident.v2i.yolov7pytorch/valid/images/._traffic_img804_jpg.rf.1c28ff61c6b2706b279d1b24e4ced01e.jpg  \n",
            "  inflating: +_281_640_640_label_accident.v2i.yolov7pytorch/valid/images/severityV4_67_jpg.rf.59775662ed79c475b54789b8026744dd.jpg  \n",
            "  inflating: __MACOSX/+_281_640_640_label_accident.v2i.yolov7pytorch/valid/images/._severityV4_67_jpg.rf.59775662ed79c475b54789b8026744dd.jpg  \n",
            "  inflating: +_281_640_640_label_accident.v2i.yolov7pytorch/valid/images/SEV_22_3602_jpg.rf.ec34cd9d7dab287aa7c166752ee6f052.jpg  \n",
            "  inflating: __MACOSX/+_281_640_640_label_accident.v2i.yolov7pytorch/valid/images/._SEV_22_3602_jpg.rf.ec34cd9d7dab287aa7c166752ee6f052.jpg  \n",
            "  inflating: +_281_640_640_label_accident.v2i.yolov7pytorch/valid/images/traffic_img1010_jpg.rf.6b3315eade2d683fa15cadec80ab2b15.jpg  \n",
            "  inflating: __MACOSX/+_281_640_640_label_accident.v2i.yolov7pytorch/valid/images/._traffic_img1010_jpg.rf.6b3315eade2d683fa15cadec80ab2b15.jpg  \n",
            "  inflating: +_281_640_640_label_accident.v2i.yolov7pytorch/valid/images/SEV_V8_Img_17_jpg.rf.51e724c8c0bf09de4000e2d987eda3c6.jpg  \n",
            "  inflating: __MACOSX/+_281_640_640_label_accident.v2i.yolov7pytorch/valid/images/._SEV_V8_Img_17_jpg.rf.51e724c8c0bf09de4000e2d987eda3c6.jpg  \n",
            "  inflating: +_281_640_640_label_accident.v2i.yolov7pytorch/valid/images/SEVERITY_DATA_87_jpg.rf.afa9195af6d9b19b59fce7f74cb103d5.jpg  \n",
            "  inflating: __MACOSX/+_281_640_640_label_accident.v2i.yolov7pytorch/valid/images/._SEVERITY_DATA_87_jpg.rf.afa9195af6d9b19b59fce7f74cb103d5.jpg  \n",
            "  inflating: +_281_640_640_label_accident.v2i.yolov7pytorch/valid/images/trafficseverity_img579_jpg.rf.cc27a2502bfcfccdabc7156f33cc947b.jpg  \n",
            "  inflating: __MACOSX/+_281_640_640_label_accident.v2i.yolov7pytorch/valid/images/._trafficseverity_img579_jpg.rf.cc27a2502bfcfccdabc7156f33cc947b.jpg  \n",
            "  inflating: +_281_640_640_label_accident.v2i.yolov7pytorch/valid/images/IMG_2370_PNG_jpg.rf.73dfc91ea72f7c2793f7ced95e1aaa8d.jpg  \n",
            "  inflating: __MACOSX/+_281_640_640_label_accident.v2i.yolov7pytorch/valid/images/._IMG_2370_PNG_jpg.rf.73dfc91ea72f7c2793f7ced95e1aaa8d.jpg  \n",
            "  inflating: +_281_640_640_label_accident.v2i.yolov7pytorch/valid/images/Semi-RealisticVD-25_jpg.rf.9e1e7793e2a0f79737ef78c78adbc589.jpg  \n",
            "  inflating: __MACOSX/+_281_640_640_label_accident.v2i.yolov7pytorch/valid/images/._Semi-RealisticVD-25_jpg.rf.9e1e7793e2a0f79737ef78c78adbc589.jpg  \n",
            "  inflating: +_281_640_640_label_accident.v2i.yolov7pytorch/valid/images/Accident_IMG133_jpg.rf.ae5e3946e1394ba7c9c9af26fa674a62.jpg  \n",
            "  inflating: __MACOSX/+_281_640_640_label_accident.v2i.yolov7pytorch/valid/images/._Accident_IMG133_jpg.rf.ae5e3946e1394ba7c9c9af26fa674a62.jpg  \n",
            "  inflating: +_281_640_640_label_accident.v2i.yolov7pytorch/valid/images/SEVERITY_V10_46_jpg.rf.960ebeb9e5eabbf88938fe482d3a6923.jpg  \n",
            "  inflating: __MACOSX/+_281_640_640_label_accident.v2i.yolov7pytorch/valid/images/._SEVERITY_V10_46_jpg.rf.960ebeb9e5eabbf88938fe482d3a6923.jpg  \n",
            "  inflating: +_281_640_640_label_accident.v2i.yolov7pytorch/valid/images/808_jpeg_jpg.rf.0346dde006052fab5756e5658a9c54ca.jpg  \n",
            "  inflating: __MACOSX/+_281_640_640_label_accident.v2i.yolov7pytorch/valid/images/._808_jpeg_jpg.rf.0346dde006052fab5756e5658a9c54ca.jpg  \n",
            "  inflating: +_281_640_640_label_accident.v2i.yolov7pytorch/valid/images/images-8_jpg.rf.37c3d8330056e94fcfa2d38fb9cc5bdf.jpg  \n",
            "  inflating: __MACOSX/+_281_640_640_label_accident.v2i.yolov7pytorch/valid/images/._images-8_jpg.rf.37c3d8330056e94fcfa2d38fb9cc5bdf.jpg  \n",
            "  inflating: +_281_640_640_label_accident.v2i.yolov7pytorch/valid/images/IMG_1593_PNG_jpg.rf.853c704f8982cf913c4063279010994e.jpg  \n",
            "  inflating: __MACOSX/+_281_640_640_label_accident.v2i.yolov7pytorch/valid/images/._IMG_1593_PNG_jpg.rf.853c704f8982cf913c4063279010994e.jpg  \n",
            "  inflating: +_281_640_640_label_accident.v2i.yolov7pytorch/valid/images/trafficseverity_img1022_jpg.rf.7ec6b29615b441b3ae35d7137e96b8ae.jpg  \n",
            "  inflating: __MACOSX/+_281_640_640_label_accident.v2i.yolov7pytorch/valid/images/._trafficseverity_img1022_jpg.rf.7ec6b29615b441b3ae35d7137e96b8ae.jpg  \n",
            "  inflating: +_281_640_640_label_accident.v2i.yolov7pytorch/valid/images/IMG_2164_JPG_jpg.rf.b15c62a6dc72483244292becfa898607.jpg  \n",
            "  inflating: __MACOSX/+_281_640_640_label_accident.v2i.yolov7pytorch/valid/images/._IMG_2164_JPG_jpg.rf.b15c62a6dc72483244292becfa898607.jpg  \n",
            "  inflating: +_281_640_640_label_accident.v2i.yolov7pytorch/valid/images/trafficseverity_img400_jpg.rf.1932f7128aa5289cb3b200bd5b7a4370.jpg  \n",
            "  inflating: __MACOSX/+_281_640_640_label_accident.v2i.yolov7pytorch/valid/images/._trafficseverity_img400_jpg.rf.1932f7128aa5289cb3b200bd5b7a4370.jpg  \n",
            "  inflating: +_281_640_640_label_accident.v2i.yolov7pytorch/valid/images/Motor_Vehicle_Accident_Stats_for_Fulton_County_jpg.rf.eb9fb6820cff7aa271161ebe7990e12d.jpg  \n",
            "  inflating: __MACOSX/+_281_640_640_label_accident.v2i.yolov7pytorch/valid/images/._Motor_Vehicle_Accident_Stats_for_Fulton_County_jpg.rf.eb9fb6820cff7aa271161ebe7990e12d.jpg  \n",
            "  inflating: +_281_640_640_label_accident.v2i.yolov7pytorch/valid/images/trafficseverity_img439_jpg.rf.3b8f31e002d13f4b43d8d302c93d86c2.jpg  \n",
            "  inflating: __MACOSX/+_281_640_640_label_accident.v2i.yolov7pytorch/valid/images/._trafficseverity_img439_jpg.rf.3b8f31e002d13f4b43d8d302c93d86c2.jpg  \n",
            "  inflating: +_281_640_640_label_accident.v2i.yolov7pytorch/valid/images/SEEEEVERITY_289_jpg.rf.a63196b0b902d46317069b8e1f749209.jpg  \n",
            "  inflating: __MACOSX/+_281_640_640_label_accident.v2i.yolov7pytorch/valid/images/._SEEEEVERITY_289_jpg.rf.a63196b0b902d46317069b8e1f749209.jpg  \n",
            "  inflating: +_281_640_640_label_accident.v2i.yolov7pytorch/valid/images/images-85-_jpeg_jpg.rf.482e7f1b83c72487b57f1acdd12ff990.jpg  \n",
            "  inflating: __MACOSX/+_281_640_640_label_accident.v2i.yolov7pytorch/valid/images/._images-85-_jpeg_jpg.rf.482e7f1b83c72487b57f1acdd12ff990.jpg  \n",
            "  inflating: +_281_640_640_label_accident.v2i.yolov7pytorch/valid/images/traffic_img567_jpg.rf.8c36edbc5865e0252c95b3af20324d1b.jpg  \n",
            "  inflating: __MACOSX/+_281_640_640_label_accident.v2i.yolov7pytorch/valid/images/._traffic_img567_jpg.rf.8c36edbc5865e0252c95b3af20324d1b.jpg  \n",
            "  inflating: +_281_640_640_label_accident.v2i.yolov7pytorch/valid/images/IMG_2244_PNG_jpg.rf.9ca00f545a64806c8c881aa16d303af5.jpg  \n",
            "  inflating: __MACOSX/+_281_640_640_label_accident.v2i.yolov7pytorch/valid/images/._IMG_2244_PNG_jpg.rf.9ca00f545a64806c8c881aa16d303af5.jpg  \n",
            "  inflating: +_281_640_640_label_accident.v2i.yolov7pytorch/valid/images/download-2_jpg.rf.62581a84b1c4971cbb92f49c56aa7e0e.jpg  \n",
            "  inflating: __MACOSX/+_281_640_640_label_accident.v2i.yolov7pytorch/valid/images/._download-2_jpg.rf.62581a84b1c4971cbb92f49c56aa7e0e.jpg  \n",
            "  inflating: +_281_640_640_label_accident.v2i.yolov7pytorch/valid/images/download-7_jpg.rf.7d02b63f5cf7ccdc20d343bdacef1cfa.jpg  \n",
            "  inflating: __MACOSX/+_281_640_640_label_accident.v2i.yolov7pytorch/valid/images/._download-7_jpg.rf.7d02b63f5cf7ccdc20d343bdacef1cfa.jpg  \n",
            "  inflating: +_281_640_640_label_accident.v2i.yolov7pytorch/valid/images/traffic_img84_jpg.rf.35f47bea484dd5f1c44fa9270d954104.jpg  \n",
            "  inflating: __MACOSX/+_281_640_640_label_accident.v2i.yolov7pytorch/valid/images/._traffic_img84_jpg.rf.35f47bea484dd5f1c44fa9270d954104.jpg  \n",
            "  inflating: +_281_640_640_label_accident.v2i.yolov7pytorch/valid/images/SEV_V8_Img_36_jpg.rf.4cc812decd2ba89de2db3dc2da1bb4be.jpg  \n",
            "  inflating: __MACOSX/+_281_640_640_label_accident.v2i.yolov7pytorch/valid/images/._SEV_V8_Img_36_jpg.rf.4cc812decd2ba89de2db3dc2da1bb4be.jpg  \n",
            "  inflating: +_281_640_640_label_accident.v2i.yolov7pytorch/valid/images/CARimage180_jpg.rf.41e7d88d5578682f9307a99705bee0c2.jpg  \n",
            "  inflating: __MACOSX/+_281_640_640_label_accident.v2i.yolov7pytorch/valid/images/._CARimage180_jpg.rf.41e7d88d5578682f9307a99705bee0c2.jpg  \n",
            "  inflating: +_281_640_640_label_accident.v2i.yolov7pytorch/valid/images/SEV_22_1420_jpg.rf.5422739fcca161e7fba5758e96d34742.jpg  \n",
            "  inflating: __MACOSX/+_281_640_640_label_accident.v2i.yolov7pytorch/valid/images/._SEV_22_1420_jpg.rf.5422739fcca161e7fba5758e96d34742.jpg  \n",
            "  inflating: +_281_640_640_label_accident.v2i.yolov7pytorch/valid/images/gettyimages-948728474-640x640_jpg.rf.704ad7927135d096e98591353f23a6b6.jpg  \n",
            "  inflating: __MACOSX/+_281_640_640_label_accident.v2i.yolov7pytorch/valid/images/._gettyimages-948728474-640x640_jpg.rf.704ad7927135d096e98591353f23a6b6.jpg  \n",
            "  inflating: +_281_640_640_label_accident.v2i.yolov7pytorch/valid/images/images-39-_jpeg_jpg.rf.ab1750ba036a69444aca4c1e3a491b59.jpg  \n",
            "  inflating: __MACOSX/+_281_640_640_label_accident.v2i.yolov7pytorch/valid/images/._images-39-_jpeg_jpg.rf.ab1750ba036a69444aca4c1e3a491b59.jpg  \n",
            "  inflating: +_281_640_640_label_accident.v2i.yolov7pytorch/valid/images/IMG_2181_JPG_jpg.rf.01b8fad5daec2da80f23bece8c633e23.jpg  \n",
            "  inflating: __MACOSX/+_281_640_640_label_accident.v2i.yolov7pytorch/valid/images/._IMG_2181_JPG_jpg.rf.01b8fad5daec2da80f23bece8c633e23.jpg  \n",
            "  inflating: +_281_640_640_label_accident.v2i.yolov7pytorch/valid/images/images-4_jpg.rf.9abed3e435edf07c61cd07c75b9caf60.jpg  \n",
            "  inflating: __MACOSX/+_281_640_640_label_accident.v2i.yolov7pytorch/valid/images/._images-4_jpg.rf.9abed3e435edf07c61cd07c75b9caf60.jpg  \n",
            "  inflating: +_281_640_640_label_accident.v2i.yolov7pytorch/valid/images/IMG_1953_PNG_jpg.rf.d45ec28cc79729c696ecfee74cfa041b.jpg  \n",
            "  inflating: __MACOSX/+_281_640_640_label_accident.v2i.yolov7pytorch/valid/images/._IMG_1953_PNG_jpg.rf.d45ec28cc79729c696ecfee74cfa041b.jpg  \n",
            "  inflating: +_281_640_640_label_accident.v2i.yolov7pytorch/valid/images/traffic_img747_jpg.rf.bb1b972e2c065e2f9e08f94a734c3283.jpg  \n",
            "  inflating: __MACOSX/+_281_640_640_label_accident.v2i.yolov7pytorch/valid/images/._traffic_img747_jpg.rf.bb1b972e2c065e2f9e08f94a734c3283.jpg  \n",
            "  inflating: +_281_640_640_label_accident.v2i.yolov7pytorch/valid/images/Bus-Truck-Crashes-10-BeamNG-Drive_i_frame_18374_jpg.rf.7cbd544d04e58ade56f8dd28850e62c4.jpg  \n",
            "  inflating: __MACOSX/+_281_640_640_label_accident.v2i.yolov7pytorch/valid/images/._Bus-Truck-Crashes-10-BeamNG-Drive_i_frame_18374_jpg.rf.7cbd544d04e58ade56f8dd28850e62c4.jpg  \n",
            "  inflating: +_281_640_640_label_accident.v2i.yolov7pytorch/valid/images/traffic_img228_jpg.rf.a13ff434e6e82adb9f958b52909f7f02.jpg  \n",
            "  inflating: __MACOSX/+_281_640_640_label_accident.v2i.yolov7pytorch/valid/images/._traffic_img228_jpg.rf.a13ff434e6e82adb9f958b52909f7f02.jpg  \n",
            "  inflating: +_281_640_640_label_accident.v2i.yolov7pytorch/valid/images/IMG_2298_PNG_jpg.rf.34416034452eb9075a47a6ecc432d7ea.jpg  \n",
            "  inflating: __MACOSX/+_281_640_640_label_accident.v2i.yolov7pytorch/valid/images/._IMG_2298_PNG_jpg.rf.34416034452eb9075a47a6ecc432d7ea.jpg  \n",
            "  inflating: +_281_640_640_label_accident.v2i.yolov7pytorch/valid/images/images-22_jpg.rf.fc31dd6361d2ca0c41b6441edbf0897f.jpg  \n",
            "  inflating: __MACOSX/+_281_640_640_label_accident.v2i.yolov7pytorch/valid/images/._images-22_jpg.rf.fc31dd6361d2ca0c41b6441edbf0897f.jpg  \n",
            "  inflating: +_281_640_640_label_accident.v2i.yolov7pytorch/valid/images/traffic_img89_jpg.rf.6b1238b85defbf1e84f110f928b3e1cc.jpg  \n",
            "  inflating: __MACOSX/+_281_640_640_label_accident.v2i.yolov7pytorch/valid/images/._traffic_img89_jpg.rf.6b1238b85defbf1e84f110f928b3e1cc.jpg  \n",
            "  inflating: +_281_640_640_label_accident.v2i.yolov7pytorch/valid/images/traffic_img320_jpg.rf.84d036a0d2aa6dc2208c15b14bffbe77.jpg  \n",
            "  inflating: __MACOSX/+_281_640_640_label_accident.v2i.yolov7pytorch/valid/images/._traffic_img320_jpg.rf.84d036a0d2aa6dc2208c15b14bffbe77.jpg  \n",
            "  inflating: +_281_640_640_label_accident.v2i.yolov7pytorch/valid/images/829_jpeg_jpg.rf.3147d89a89480e4a7466015eafcb817d.jpg  \n",
            "  inflating: __MACOSX/+_281_640_640_label_accident.v2i.yolov7pytorch/valid/images/._829_jpeg_jpg.rf.3147d89a89480e4a7466015eafcb817d.jpg  \n",
            "  inflating: +_281_640_640_label_accident.v2i.yolov7pytorch/valid/images/accidentFrame10347_jpg.rf.fa5d93537f9506fe540e82c4a2a7c756.jpg  \n",
            "  inflating: __MACOSX/+_281_640_640_label_accident.v2i.yolov7pytorch/valid/images/._accidentFrame10347_jpg.rf.fa5d93537f9506fe540e82c4a2a7c756.jpg  \n",
            "  inflating: +_281_640_640_label_accident.v2i.yolov7pytorch/valid/images/IMG_2589_PNG_jpg.rf.0d31898d5ec5cccf639a75d9219657a1.jpg  \n",
            "  inflating: __MACOSX/+_281_640_640_label_accident.v2i.yolov7pytorch/valid/images/._IMG_2589_PNG_jpg.rf.0d31898d5ec5cccf639a75d9219657a1.jpg  \n",
            "  inflating: +_281_640_640_label_accident.v2i.yolov7pytorch/valid/images/traffic_img545_jpg.rf.efcabd754a244c7414cb0e0767030c2d.jpg  \n",
            "  inflating: __MACOSX/+_281_640_640_label_accident.v2i.yolov7pytorch/valid/images/._traffic_img545_jpg.rf.efcabd754a244c7414cb0e0767030c2d.jpg  \n",
            "  inflating: +_281_640_640_label_accident.v2i.yolov7pytorch/valid/images/accidentFrame2754_jpg.rf.961ddc13f6fae2bab7f1fcf5a71a202f.jpg  \n",
            "  inflating: __MACOSX/+_281_640_640_label_accident.v2i.yolov7pytorch/valid/images/._accidentFrame2754_jpg.rf.961ddc13f6fae2bab7f1fcf5a71a202f.jpg  \n",
            "  inflating: +_281_640_640_label_accident.v2i.yolov7pytorch/valid/images/SEV_V8_Img_87_jpg.rf.b748a78fc18954f0e300665402a32395.jpg  \n",
            "  inflating: __MACOSX/+_281_640_640_label_accident.v2i.yolov7pytorch/valid/images/._SEV_V8_Img_87_jpg.rf.b748a78fc18954f0e300665402a32395.jpg  \n",
            "  inflating: +_281_640_640_label_accident.v2i.yolov7pytorch/valid/images/trafficseverity_img1637_jpg.rf.42784bffc0f8da1374f6d7351645294c.jpg  \n",
            "  inflating: __MACOSX/+_281_640_640_label_accident.v2i.yolov7pytorch/valid/images/._trafficseverity_img1637_jpg.rf.42784bffc0f8da1374f6d7351645294c.jpg  \n",
            "  inflating: +_281_640_640_label_accident.v2i.yolov7pytorch/valid/images/severityV4_38_jpg.rf.221beb51ec3ee7b605defadd068cddc2.jpg  \n",
            "  inflating: __MACOSX/+_281_640_640_label_accident.v2i.yolov7pytorch/valid/images/._severityV4_38_jpg.rf.221beb51ec3ee7b605defadd068cddc2.jpg  \n",
            "  inflating: +_281_640_640_label_accident.v2i.yolov7pytorch/valid/images/IMG_2624_PNG_jpg.rf.7f0a88131fb9438fccb812cd031b6910.jpg  \n",
            "  inflating: __MACOSX/+_281_640_640_label_accident.v2i.yolov7pytorch/valid/images/._IMG_2624_PNG_jpg.rf.7f0a88131fb9438fccb812cd031b6910.jpg  \n",
            "  inflating: +_281_640_640_label_accident.v2i.yolov7pytorch/valid/labels/Motor_Vehicle_Accident_Stats_for_Fulton_County_jpg.rf.eb9fb6820cff7aa271161ebe7990e12d.txt  \n",
            "  inflating: __MACOSX/+_281_640_640_label_accident.v2i.yolov7pytorch/valid/labels/._Motor_Vehicle_Accident_Stats_for_Fulton_County_jpg.rf.eb9fb6820cff7aa271161ebe7990e12d.txt  \n",
            "  inflating: +_281_640_640_label_accident.v2i.yolov7pytorch/valid/labels/trafficseverity_img439_jpg.rf.3b8f31e002d13f4b43d8d302c93d86c2.txt  \n",
            "  inflating: __MACOSX/+_281_640_640_label_accident.v2i.yolov7pytorch/valid/labels/._trafficseverity_img439_jpg.rf.3b8f31e002d13f4b43d8d302c93d86c2.txt  \n",
            "  inflating: +_281_640_640_label_accident.v2i.yolov7pytorch/valid/labels/trafficseverity_img400_jpg.rf.1932f7128aa5289cb3b200bd5b7a4370.txt  \n",
            "  inflating: __MACOSX/+_281_640_640_label_accident.v2i.yolov7pytorch/valid/labels/._trafficseverity_img400_jpg.rf.1932f7128aa5289cb3b200bd5b7a4370.txt  \n",
            "  inflating: +_281_640_640_label_accident.v2i.yolov7pytorch/valid/labels/IMG_2244_PNG_jpg.rf.9ca00f545a64806c8c881aa16d303af5.txt  \n",
            "  inflating: __MACOSX/+_281_640_640_label_accident.v2i.yolov7pytorch/valid/labels/._IMG_2244_PNG_jpg.rf.9ca00f545a64806c8c881aa16d303af5.txt  \n",
            "  inflating: +_281_640_640_label_accident.v2i.yolov7pytorch/valid/labels/traffic_img567_jpg.rf.8c36edbc5865e0252c95b3af20324d1b.txt  \n",
            "  inflating: __MACOSX/+_281_640_640_label_accident.v2i.yolov7pytorch/valid/labels/._traffic_img567_jpg.rf.8c36edbc5865e0252c95b3af20324d1b.txt  \n",
            "  inflating: +_281_640_640_label_accident.v2i.yolov7pytorch/valid/labels/SEEEEVERITY_289_jpg.rf.a63196b0b902d46317069b8e1f749209.txt  \n",
            "  inflating: __MACOSX/+_281_640_640_label_accident.v2i.yolov7pytorch/valid/labels/._SEEEEVERITY_289_jpg.rf.a63196b0b902d46317069b8e1f749209.txt  \n",
            "  inflating: +_281_640_640_label_accident.v2i.yolov7pytorch/valid/labels/images-85-_jpeg_jpg.rf.482e7f1b83c72487b57f1acdd12ff990.txt  \n",
            "  inflating: __MACOSX/+_281_640_640_label_accident.v2i.yolov7pytorch/valid/labels/._images-85-_jpeg_jpg.rf.482e7f1b83c72487b57f1acdd12ff990.txt  \n",
            "  inflating: +_281_640_640_label_accident.v2i.yolov7pytorch/valid/labels/download-2_jpg.rf.62581a84b1c4971cbb92f49c56aa7e0e.txt  \n",
            "  inflating: __MACOSX/+_281_640_640_label_accident.v2i.yolov7pytorch/valid/labels/._download-2_jpg.rf.62581a84b1c4971cbb92f49c56aa7e0e.txt  \n",
            "  inflating: +_281_640_640_label_accident.v2i.yolov7pytorch/valid/labels/download-7_jpg.rf.7d02b63f5cf7ccdc20d343bdacef1cfa.txt  \n",
            "  inflating: __MACOSX/+_281_640_640_label_accident.v2i.yolov7pytorch/valid/labels/._download-7_jpg.rf.7d02b63f5cf7ccdc20d343bdacef1cfa.txt  \n",
            "  inflating: +_281_640_640_label_accident.v2i.yolov7pytorch/valid/labels/SEV_V8_Img_36_jpg.rf.4cc812decd2ba89de2db3dc2da1bb4be.txt  \n",
            "  inflating: __MACOSX/+_281_640_640_label_accident.v2i.yolov7pytorch/valid/labels/._SEV_V8_Img_36_jpg.rf.4cc812decd2ba89de2db3dc2da1bb4be.txt  \n",
            "  inflating: +_281_640_640_label_accident.v2i.yolov7pytorch/valid/labels/traffic_img84_jpg.rf.35f47bea484dd5f1c44fa9270d954104.txt  \n",
            "  inflating: __MACOSX/+_281_640_640_label_accident.v2i.yolov7pytorch/valid/labels/._traffic_img84_jpg.rf.35f47bea484dd5f1c44fa9270d954104.txt  \n",
            "  inflating: +_281_640_640_label_accident.v2i.yolov7pytorch/valid/labels/severityV4_20_jpg.rf.06fd05a06cefe3b5cfcc6af6313da226.txt  \n",
            "  inflating: __MACOSX/+_281_640_640_label_accident.v2i.yolov7pytorch/valid/labels/._severityV4_20_jpg.rf.06fd05a06cefe3b5cfcc6af6313da226.txt  \n",
            "  inflating: +_281_640_640_label_accident.v2i.yolov7pytorch/valid/labels/accidentFrame5677_jpg.rf.64c112a518e54433603558850ea113c5.txt  \n",
            "  inflating: __MACOSX/+_281_640_640_label_accident.v2i.yolov7pytorch/valid/labels/._accidentFrame5677_jpg.rf.64c112a518e54433603558850ea113c5.txt  \n",
            "  inflating: +_281_640_640_label_accident.v2i.yolov7pytorch/valid/labels/IMG_2020_PNG_jpg.rf.563f8ba398d931f51f42e9c02dcf7abc.txt  \n",
            "  inflating: __MACOSX/+_281_640_640_label_accident.v2i.yolov7pytorch/valid/labels/._IMG_2020_PNG_jpg.rf.563f8ba398d931f51f42e9c02dcf7abc.txt  \n",
            "  inflating: +_281_640_640_label_accident.v2i.yolov7pytorch/valid/labels/images-2022-04-07T065309-819_jpeg_jpg.rf.2f828bd05b421e94961eee6fcbf39d3b.txt  \n",
            "  inflating: __MACOSX/+_281_640_640_label_accident.v2i.yolov7pytorch/valid/labels/._images-2022-04-07T065309-819_jpeg_jpg.rf.2f828bd05b421e94961eee6fcbf39d3b.txt  \n",
            "  inflating: +_281_640_640_label_accident.v2i.yolov7pytorch/valid/labels/severityV4_67_jpg.rf.59775662ed79c475b54789b8026744dd.txt  \n",
            "  inflating: __MACOSX/+_281_640_640_label_accident.v2i.yolov7pytorch/valid/labels/._severityV4_67_jpg.rf.59775662ed79c475b54789b8026744dd.txt  \n",
            "  inflating: +_281_640_640_label_accident.v2i.yolov7pytorch/valid/labels/SEV_22_3602_jpg.rf.ec34cd9d7dab287aa7c166752ee6f052.txt  \n",
            "  inflating: __MACOSX/+_281_640_640_label_accident.v2i.yolov7pytorch/valid/labels/._SEV_22_3602_jpg.rf.ec34cd9d7dab287aa7c166752ee6f052.txt  \n",
            "  inflating: +_281_640_640_label_accident.v2i.yolov7pytorch/valid/labels/traffic_img804_jpg.rf.1c28ff61c6b2706b279d1b24e4ced01e.txt  \n",
            "  inflating: __MACOSX/+_281_640_640_label_accident.v2i.yolov7pytorch/valid/labels/._traffic_img804_jpg.rf.1c28ff61c6b2706b279d1b24e4ced01e.txt  \n",
            "  inflating: +_281_640_640_label_accident.v2i.yolov7pytorch/valid/labels/traffic_img1010_jpg.rf.6b3315eade2d683fa15cadec80ab2b15.txt  \n",
            "  inflating: __MACOSX/+_281_640_640_label_accident.v2i.yolov7pytorch/valid/labels/._traffic_img1010_jpg.rf.6b3315eade2d683fa15cadec80ab2b15.txt  \n",
            "  inflating: +_281_640_640_label_accident.v2i.yolov7pytorch/valid/labels/traffic_img116_jpg.rf.abfe51ea6ed09b7c0c25165d91193ae4.txt  \n",
            "  inflating: __MACOSX/+_281_640_640_label_accident.v2i.yolov7pytorch/valid/labels/._traffic_img116_jpg.rf.abfe51ea6ed09b7c0c25165d91193ae4.txt  \n",
            "  inflating: +_281_640_640_label_accident.v2i.yolov7pytorch/valid/labels/test25_28_jpg.rf.dd992b8f9cc283a3e84286129a7ce33b.txt  \n",
            "  inflating: __MACOSX/+_281_640_640_label_accident.v2i.yolov7pytorch/valid/labels/._test25_28_jpg.rf.dd992b8f9cc283a3e84286129a7ce33b.txt  \n",
            "  inflating: +_281_640_640_label_accident.v2i.yolov7pytorch/valid/labels/IMG_2370_PNG_jpg.rf.73dfc91ea72f7c2793f7ced95e1aaa8d.txt  \n",
            "  inflating: __MACOSX/+_281_640_640_label_accident.v2i.yolov7pytorch/valid/labels/._IMG_2370_PNG_jpg.rf.73dfc91ea72f7c2793f7ced95e1aaa8d.txt  \n",
            "  inflating: +_281_640_640_label_accident.v2i.yolov7pytorch/valid/labels/Semi-RealisticVD-25_jpg.rf.9e1e7793e2a0f79737ef78c78adbc589.txt  \n",
            "  inflating: __MACOSX/+_281_640_640_label_accident.v2i.yolov7pytorch/valid/labels/._Semi-RealisticVD-25_jpg.rf.9e1e7793e2a0f79737ef78c78adbc589.txt  \n",
            "  inflating: +_281_640_640_label_accident.v2i.yolov7pytorch/valid/labels/trafficseverity_img579_jpg.rf.cc27a2502bfcfccdabc7156f33cc947b.txt  \n",
            "  inflating: __MACOSX/+_281_640_640_label_accident.v2i.yolov7pytorch/valid/labels/._trafficseverity_img579_jpg.rf.cc27a2502bfcfccdabc7156f33cc947b.txt  \n",
            "  inflating: +_281_640_640_label_accident.v2i.yolov7pytorch/valid/labels/SEVERITY_DATA_87_jpg.rf.afa9195af6d9b19b59fce7f74cb103d5.txt  \n",
            "  inflating: __MACOSX/+_281_640_640_label_accident.v2i.yolov7pytorch/valid/labels/._SEVERITY_DATA_87_jpg.rf.afa9195af6d9b19b59fce7f74cb103d5.txt  \n",
            "  inflating: +_281_640_640_label_accident.v2i.yolov7pytorch/valid/labels/SEVERITY_V10_46_jpg.rf.960ebeb9e5eabbf88938fe482d3a6923.txt  \n",
            "  inflating: __MACOSX/+_281_640_640_label_accident.v2i.yolov7pytorch/valid/labels/._SEVERITY_V10_46_jpg.rf.960ebeb9e5eabbf88938fe482d3a6923.txt  \n",
            "  inflating: +_281_640_640_label_accident.v2i.yolov7pytorch/valid/labels/Accident_IMG133_jpg.rf.ae5e3946e1394ba7c9c9af26fa674a62.txt  \n",
            "  inflating: __MACOSX/+_281_640_640_label_accident.v2i.yolov7pytorch/valid/labels/._Accident_IMG133_jpg.rf.ae5e3946e1394ba7c9c9af26fa674a62.txt  \n",
            "  inflating: +_281_640_640_label_accident.v2i.yolov7pytorch/valid/labels/SEV_V8_Img_17_jpg.rf.51e724c8c0bf09de4000e2d987eda3c6.txt  \n",
            "  inflating: __MACOSX/+_281_640_640_label_accident.v2i.yolov7pytorch/valid/labels/._SEV_V8_Img_17_jpg.rf.51e724c8c0bf09de4000e2d987eda3c6.txt  \n",
            "  inflating: +_281_640_640_label_accident.v2i.yolov7pytorch/valid/labels/IMG_2164_JPG_jpg.rf.b15c62a6dc72483244292becfa898607.txt  \n",
            "  inflating: __MACOSX/+_281_640_640_label_accident.v2i.yolov7pytorch/valid/labels/._IMG_2164_JPG_jpg.rf.b15c62a6dc72483244292becfa898607.txt  \n",
            "  inflating: +_281_640_640_label_accident.v2i.yolov7pytorch/valid/labels/808_jpeg_jpg.rf.0346dde006052fab5756e5658a9c54ca.txt  \n",
            "  inflating: __MACOSX/+_281_640_640_label_accident.v2i.yolov7pytorch/valid/labels/._808_jpeg_jpg.rf.0346dde006052fab5756e5658a9c54ca.txt  \n",
            "  inflating: +_281_640_640_label_accident.v2i.yolov7pytorch/valid/labels/trafficseverity_img1022_jpg.rf.7ec6b29615b441b3ae35d7137e96b8ae.txt  \n",
            "  inflating: __MACOSX/+_281_640_640_label_accident.v2i.yolov7pytorch/valid/labels/._trafficseverity_img1022_jpg.rf.7ec6b29615b441b3ae35d7137e96b8ae.txt  \n",
            "  inflating: +_281_640_640_label_accident.v2i.yolov7pytorch/valid/labels/IMG_1593_PNG_jpg.rf.853c704f8982cf913c4063279010994e.txt  \n",
            "  inflating: __MACOSX/+_281_640_640_label_accident.v2i.yolov7pytorch/valid/labels/._IMG_1593_PNG_jpg.rf.853c704f8982cf913c4063279010994e.txt  \n",
            "  inflating: +_281_640_640_label_accident.v2i.yolov7pytorch/valid/labels/images-8_jpg.rf.37c3d8330056e94fcfa2d38fb9cc5bdf.txt  \n",
            "  inflating: __MACOSX/+_281_640_640_label_accident.v2i.yolov7pytorch/valid/labels/._images-8_jpg.rf.37c3d8330056e94fcfa2d38fb9cc5bdf.txt  \n",
            "  inflating: +_281_640_640_label_accident.v2i.yolov7pytorch/valid/labels/accidentFrame2754_jpg.rf.961ddc13f6fae2bab7f1fcf5a71a202f.txt  \n",
            "  inflating: __MACOSX/+_281_640_640_label_accident.v2i.yolov7pytorch/valid/labels/._accidentFrame2754_jpg.rf.961ddc13f6fae2bab7f1fcf5a71a202f.txt  \n",
            "  inflating: +_281_640_640_label_accident.v2i.yolov7pytorch/valid/labels/SEV_V8_Img_87_jpg.rf.b748a78fc18954f0e300665402a32395.txt  \n",
            "  inflating: __MACOSX/+_281_640_640_label_accident.v2i.yolov7pytorch/valid/labels/._SEV_V8_Img_87_jpg.rf.b748a78fc18954f0e300665402a32395.txt  \n",
            "  inflating: +_281_640_640_label_accident.v2i.yolov7pytorch/valid/labels/traffic_img545_jpg.rf.efcabd754a244c7414cb0e0767030c2d.txt  \n",
            "  inflating: __MACOSX/+_281_640_640_label_accident.v2i.yolov7pytorch/valid/labels/._traffic_img545_jpg.rf.efcabd754a244c7414cb0e0767030c2d.txt  \n",
            "  inflating: +_281_640_640_label_accident.v2i.yolov7pytorch/valid/labels/accidentFrame10347_jpg.rf.fa5d93537f9506fe540e82c4a2a7c756.txt  \n",
            "  inflating: __MACOSX/+_281_640_640_label_accident.v2i.yolov7pytorch/valid/labels/._accidentFrame10347_jpg.rf.fa5d93537f9506fe540e82c4a2a7c756.txt  \n",
            "  inflating: +_281_640_640_label_accident.v2i.yolov7pytorch/valid/labels/IMG_2589_PNG_jpg.rf.0d31898d5ec5cccf639a75d9219657a1.txt  \n",
            "  inflating: __MACOSX/+_281_640_640_label_accident.v2i.yolov7pytorch/valid/labels/._IMG_2589_PNG_jpg.rf.0d31898d5ec5cccf639a75d9219657a1.txt  \n",
            "  inflating: +_281_640_640_label_accident.v2i.yolov7pytorch/valid/labels/trafficseverity_img1637_jpg.rf.42784bffc0f8da1374f6d7351645294c.txt  \n",
            "  inflating: __MACOSX/+_281_640_640_label_accident.v2i.yolov7pytorch/valid/labels/._trafficseverity_img1637_jpg.rf.42784bffc0f8da1374f6d7351645294c.txt  \n",
            "  inflating: +_281_640_640_label_accident.v2i.yolov7pytorch/valid/labels/IMG_2624_PNG_jpg.rf.7f0a88131fb9438fccb812cd031b6910.txt  \n",
            "  inflating: __MACOSX/+_281_640_640_label_accident.v2i.yolov7pytorch/valid/labels/._IMG_2624_PNG_jpg.rf.7f0a88131fb9438fccb812cd031b6910.txt  \n",
            "  inflating: +_281_640_640_label_accident.v2i.yolov7pytorch/valid/labels/severityV4_38_jpg.rf.221beb51ec3ee7b605defadd068cddc2.txt  \n",
            "  inflating: __MACOSX/+_281_640_640_label_accident.v2i.yolov7pytorch/valid/labels/._severityV4_38_jpg.rf.221beb51ec3ee7b605defadd068cddc2.txt  \n",
            "  inflating: +_281_640_640_label_accident.v2i.yolov7pytorch/valid/labels/images-39-_jpeg_jpg.rf.ab1750ba036a69444aca4c1e3a491b59.txt  \n",
            "  inflating: __MACOSX/+_281_640_640_label_accident.v2i.yolov7pytorch/valid/labels/._images-39-_jpeg_jpg.rf.ab1750ba036a69444aca4c1e3a491b59.txt  \n",
            "  inflating: +_281_640_640_label_accident.v2i.yolov7pytorch/valid/labels/gettyimages-948728474-640x640_jpg.rf.704ad7927135d096e98591353f23a6b6.txt  \n",
            "  inflating: __MACOSX/+_281_640_640_label_accident.v2i.yolov7pytorch/valid/labels/._gettyimages-948728474-640x640_jpg.rf.704ad7927135d096e98591353f23a6b6.txt  \n",
            "  inflating: +_281_640_640_label_accident.v2i.yolov7pytorch/valid/labels/images-4_jpg.rf.9abed3e435edf07c61cd07c75b9caf60.txt  \n",
            "  inflating: __MACOSX/+_281_640_640_label_accident.v2i.yolov7pytorch/valid/labels/._images-4_jpg.rf.9abed3e435edf07c61cd07c75b9caf60.txt  \n",
            "  inflating: +_281_640_640_label_accident.v2i.yolov7pytorch/valid/labels/IMG_2181_JPG_jpg.rf.01b8fad5daec2da80f23bece8c633e23.txt  \n",
            "  inflating: __MACOSX/+_281_640_640_label_accident.v2i.yolov7pytorch/valid/labels/._IMG_2181_JPG_jpg.rf.01b8fad5daec2da80f23bece8c633e23.txt  \n",
            "  inflating: +_281_640_640_label_accident.v2i.yolov7pytorch/valid/labels/CARimage180_jpg.rf.41e7d88d5578682f9307a99705bee0c2.txt  \n",
            "  inflating: __MACOSX/+_281_640_640_label_accident.v2i.yolov7pytorch/valid/labels/._CARimage180_jpg.rf.41e7d88d5578682f9307a99705bee0c2.txt  \n",
            "  inflating: +_281_640_640_label_accident.v2i.yolov7pytorch/valid/labels/SEV_22_1420_jpg.rf.5422739fcca161e7fba5758e96d34742.txt  \n",
            "  inflating: __MACOSX/+_281_640_640_label_accident.v2i.yolov7pytorch/valid/labels/._SEV_22_1420_jpg.rf.5422739fcca161e7fba5758e96d34742.txt  \n",
            "  inflating: +_281_640_640_label_accident.v2i.yolov7pytorch/valid/labels/traffic_img747_jpg.rf.bb1b972e2c065e2f9e08f94a734c3283.txt  \n",
            "  inflating: __MACOSX/+_281_640_640_label_accident.v2i.yolov7pytorch/valid/labels/._traffic_img747_jpg.rf.bb1b972e2c065e2f9e08f94a734c3283.txt  \n",
            "  inflating: +_281_640_640_label_accident.v2i.yolov7pytorch/valid/labels/IMG_1953_PNG_jpg.rf.d45ec28cc79729c696ecfee74cfa041b.txt  \n",
            "  inflating: __MACOSX/+_281_640_640_label_accident.v2i.yolov7pytorch/valid/labels/._IMG_1953_PNG_jpg.rf.d45ec28cc79729c696ecfee74cfa041b.txt  \n",
            "  inflating: +_281_640_640_label_accident.v2i.yolov7pytorch/valid/labels/Bus-Truck-Crashes-10-BeamNG-Drive_i_frame_18374_jpg.rf.7cbd544d04e58ade56f8dd28850e62c4.txt  \n",
            "  inflating: __MACOSX/+_281_640_640_label_accident.v2i.yolov7pytorch/valid/labels/._Bus-Truck-Crashes-10-BeamNG-Drive_i_frame_18374_jpg.rf.7cbd544d04e58ade56f8dd28850e62c4.txt  \n",
            "  inflating: +_281_640_640_label_accident.v2i.yolov7pytorch/valid/labels/829_jpeg_jpg.rf.3147d89a89480e4a7466015eafcb817d.txt  \n",
            "  inflating: __MACOSX/+_281_640_640_label_accident.v2i.yolov7pytorch/valid/labels/._829_jpeg_jpg.rf.3147d89a89480e4a7466015eafcb817d.txt  \n",
            "  inflating: +_281_640_640_label_accident.v2i.yolov7pytorch/valid/labels/traffic_img320_jpg.rf.84d036a0d2aa6dc2208c15b14bffbe77.txt  \n",
            "  inflating: __MACOSX/+_281_640_640_label_accident.v2i.yolov7pytorch/valid/labels/._traffic_img320_jpg.rf.84d036a0d2aa6dc2208c15b14bffbe77.txt  \n",
            "  inflating: +_281_640_640_label_accident.v2i.yolov7pytorch/valid/labels/IMG_2298_PNG_jpg.rf.34416034452eb9075a47a6ecc432d7ea.txt  \n",
            "  inflating: __MACOSX/+_281_640_640_label_accident.v2i.yolov7pytorch/valid/labels/._IMG_2298_PNG_jpg.rf.34416034452eb9075a47a6ecc432d7ea.txt  \n",
            "  inflating: +_281_640_640_label_accident.v2i.yolov7pytorch/valid/labels/traffic_img228_jpg.rf.a13ff434e6e82adb9f958b52909f7f02.txt  \n",
            "  inflating: __MACOSX/+_281_640_640_label_accident.v2i.yolov7pytorch/valid/labels/._traffic_img228_jpg.rf.a13ff434e6e82adb9f958b52909f7f02.txt  \n",
            "  inflating: +_281_640_640_label_accident.v2i.yolov7pytorch/valid/labels/traffic_img89_jpg.rf.6b1238b85defbf1e84f110f928b3e1cc.txt  \n",
            "  inflating: __MACOSX/+_281_640_640_label_accident.v2i.yolov7pytorch/valid/labels/._traffic_img89_jpg.rf.6b1238b85defbf1e84f110f928b3e1cc.txt  \n",
            "  inflating: +_281_640_640_label_accident.v2i.yolov7pytorch/valid/labels/images-22_jpg.rf.fc31dd6361d2ca0c41b6441edbf0897f.txt  \n",
            "  inflating: __MACOSX/+_281_640_640_label_accident.v2i.yolov7pytorch/valid/labels/._images-22_jpg.rf.fc31dd6361d2ca0c41b6441edbf0897f.txt  \n",
            "  inflating: +_281_640_640_label_accident.v2i.yolov7pytorch/test/images/IMG_1553_PNG_jpg.rf.9a96738b6039492a71e9b4cb85f97665.jpg  \n",
            "  inflating: __MACOSX/+_281_640_640_label_accident.v2i.yolov7pytorch/test/images/._IMG_1553_PNG_jpg.rf.9a96738b6039492a71e9b4cb85f97665.jpg  \n",
            "  inflating: +_281_640_640_label_accident.v2i.yolov7pytorch/test/images/FLIP_CAR_V169_jpg.rf.e720eefdd73f1c118efb4baca7148f9a.jpg  \n",
            "  inflating: __MACOSX/+_281_640_640_label_accident.v2i.yolov7pytorch/test/images/._FLIP_CAR_V169_jpg.rf.e720eefdd73f1c118efb4baca7148f9a.jpg  \n",
            "  inflating: +_281_640_640_label_accident.v2i.yolov7pytorch/test/images/severity_V11_jpg.rf.20f667e345e41497b01ac60a4d731ef4.jpg  \n",
            "  inflating: __MACOSX/+_281_640_640_label_accident.v2i.yolov7pytorch/test/images/._severity_V11_jpg.rf.20f667e345e41497b01ac60a4d731ef4.jpg  \n",
            "  inflating: +_281_640_640_label_accident.v2i.yolov7pytorch/test/images/traffic_img223_jpg.rf.f87ead1543bff96b54f88190e9349f0c.jpg  \n",
            "  inflating: __MACOSX/+_281_640_640_label_accident.v2i.yolov7pytorch/test/images/._traffic_img223_jpg.rf.f87ead1543bff96b54f88190e9349f0c.jpg  \n",
            "  inflating: +_281_640_640_label_accident.v2i.yolov7pytorch/test/images/trafficseverity_img1382_jpg.rf.33fade3283b65bb4e7ea551ee4032072.jpg  \n",
            "  inflating: __MACOSX/+_281_640_640_label_accident.v2i.yolov7pytorch/test/images/._trafficseverity_img1382_jpg.rf.33fade3283b65bb4e7ea551ee4032072.jpg  \n",
            "  inflating: +_281_640_640_label_accident.v2i.yolov7pytorch/test/images/IMG_1974_PNG_jpg.rf.cf5dc1c01215aa7752ac5fb880c77947.jpg  \n",
            "  inflating: __MACOSX/+_281_640_640_label_accident.v2i.yolov7pytorch/test/images/._IMG_1974_PNG_jpg.rf.cf5dc1c01215aa7752ac5fb880c77947.jpg  \n",
            "  inflating: +_281_640_640_label_accident.v2i.yolov7pytorch/test/images/traffic_img190_jpg.rf.02acfd6dd903193f025e46fbf9eefca9.jpg  \n",
            "  inflating: __MACOSX/+_281_640_640_label_accident.v2i.yolov7pytorch/test/images/._traffic_img190_jpg.rf.02acfd6dd903193f025e46fbf9eefca9.jpg  \n",
            "  inflating: +_281_640_640_label_accident.v2i.yolov7pytorch/test/images/trafficseverity_img937_jpg.rf.576b625850d889983e6a0c1b6502fc63.jpg  \n",
            "  inflating: __MACOSX/+_281_640_640_label_accident.v2i.yolov7pytorch/test/images/._trafficseverity_img937_jpg.rf.576b625850d889983e6a0c1b6502fc63.jpg  \n",
            "  inflating: +_281_640_640_label_accident.v2i.yolov7pytorch/test/images/SEV_22_664_jpg.rf.17be58e5cb18b3fe856a0f68129e61ac.jpg  \n",
            "  inflating: __MACOSX/+_281_640_640_label_accident.v2i.yolov7pytorch/test/images/._SEV_22_664_jpg.rf.17be58e5cb18b3fe856a0f68129e61ac.jpg  \n",
            "  inflating: +_281_640_640_label_accident.v2i.yolov7pytorch/test/images/traffic_img949_jpg.rf.831ec4ebdc8f9d7214589fafd00a40c4.jpg  \n",
            "  inflating: __MACOSX/+_281_640_640_label_accident.v2i.yolov7pytorch/test/images/._traffic_img949_jpg.rf.831ec4ebdc8f9d7214589fafd00a40c4.jpg  \n",
            "  inflating: +_281_640_640_label_accident.v2i.yolov7pytorch/test/images/trafficseverity_img3044_jpg.rf.586f301ebbecfb8c49f8d674725c1024.jpg  \n",
            "  inflating: __MACOSX/+_281_640_640_label_accident.v2i.yolov7pytorch/test/images/._trafficseverity_img3044_jpg.rf.586f301ebbecfb8c49f8d674725c1024.jpg  \n",
            "  inflating: +_281_640_640_label_accident.v2i.yolov7pytorch/test/images/IMG_1599_PNG_jpg.rf.17be487534d411d997f1326ef0df4a5c.jpg  \n",
            "  inflating: __MACOSX/+_281_640_640_label_accident.v2i.yolov7pytorch/test/images/._IMG_1599_PNG_jpg.rf.17be487534d411d997f1326ef0df4a5c.jpg  \n",
            "  inflating: +_281_640_640_label_accident.v2i.yolov7pytorch/test/images/images-1_jpg.rf.d881768d3c8051814ba63e5edbc60259.jpg  \n",
            "  inflating: __MACOSX/+_281_640_640_label_accident.v2i.yolov7pytorch/test/images/._images-1_jpg.rf.d881768d3c8051814ba63e5edbc60259.jpg  \n",
            "  inflating: +_281_640_640_label_accident.v2i.yolov7pytorch/test/images/images_jpg.rf.4ff5ffbe10d544a8e3afd827a9eb45b8.jpg  \n",
            "  inflating: __MACOSX/+_281_640_640_label_accident.v2i.yolov7pytorch/test/images/._images_jpg.rf.4ff5ffbe10d544a8e3afd827a9eb45b8.jpg  \n",
            "  inflating: +_281_640_640_label_accident.v2i.yolov7pytorch/test/images/traffic_img2403_jpg.rf.108f40cdf89f9459cf7e2960113b6b64.jpg  \n",
            "  inflating: __MACOSX/+_281_640_640_label_accident.v2i.yolov7pytorch/test/images/._traffic_img2403_jpg.rf.108f40cdf89f9459cf7e2960113b6b64.jpg  \n",
            "  inflating: +_281_640_640_label_accident.v2i.yolov7pytorch/test/images/images-52-_jpeg_jpg.rf.3a842eb91aadba14f4d694adacd8f15c.jpg  \n",
            "  inflating: __MACOSX/+_281_640_640_label_accident.v2i.yolov7pytorch/test/images/._images-52-_jpeg_jpg.rf.3a842eb91aadba14f4d694adacd8f15c.jpg  \n",
            "  inflating: +_281_640_640_label_accident.v2i.yolov7pytorch/test/images/images-32_jpg.rf.4ebf331c3debbf52574f36632b469a9c.jpg  \n",
            "  inflating: __MACOSX/+_281_640_640_label_accident.v2i.yolov7pytorch/test/images/._images-32_jpg.rf.4ebf331c3debbf52574f36632b469a9c.jpg  \n",
            "  inflating: +_281_640_640_label_accident.v2i.yolov7pytorch/test/images/IMG_2207_PNG_jpg.rf.dfdd0a87cab72d28e06be5da32f44228.jpg  \n",
            "  inflating: __MACOSX/+_281_640_640_label_accident.v2i.yolov7pytorch/test/images/._IMG_2207_PNG_jpg.rf.dfdd0a87cab72d28e06be5da32f44228.jpg  \n",
            "  inflating: +_281_640_640_label_accident.v2i.yolov7pytorch/test/images/IMG_2630_PNG_jpg.rf.94834d40ce1c2a8d08aae4331b642600.jpg  \n",
            "  inflating: __MACOSX/+_281_640_640_label_accident.v2i.yolov7pytorch/test/images/._IMG_2630_PNG_jpg.rf.94834d40ce1c2a8d08aae4331b642600.jpg  \n",
            "  inflating: +_281_640_640_label_accident.v2i.yolov7pytorch/test/images/severityV4_98_jpg.rf.f2f7439fc17ae723e84716162a8e97e5.jpg  \n",
            "  inflating: __MACOSX/+_281_640_640_label_accident.v2i.yolov7pytorch/test/images/._severityV4_98_jpg.rf.f2f7439fc17ae723e84716162a8e97e5.jpg  \n",
            "  inflating: +_281_640_640_label_accident.v2i.yolov7pytorch/test/images/trafficseverity_img5571_jpg.rf.08f95423bc2a274f1250d0a1c2d12b68.jpg  \n",
            "  inflating: __MACOSX/+_281_640_640_label_accident.v2i.yolov7pytorch/test/images/._trafficseverity_img5571_jpg.rf.08f95423bc2a274f1250d0a1c2d12b68.jpg  \n",
            "  inflating: +_281_640_640_label_accident.v2i.yolov7pytorch/test/images/Semi-RealisticVD-95_jpg.rf.b3723ab4c56c72ecc0fbe699f56219a8.jpg  \n",
            "  inflating: __MACOSX/+_281_640_640_label_accident.v2i.yolov7pytorch/test/images/._Semi-RealisticVD-95_jpg.rf.b3723ab4c56c72ecc0fbe699f56219a8.jpg  \n",
            "  inflating: +_281_640_640_label_accident.v2i.yolov7pytorch/test/images/SEEEEVERITY_151_jpg.rf.c253b0a133c82ba053717f95409ccc60.jpg  \n",
            "  inflating: __MACOSX/+_281_640_640_label_accident.v2i.yolov7pytorch/test/images/._SEEEEVERITY_151_jpg.rf.c253b0a133c82ba053717f95409ccc60.jpg  \n",
            "  inflating: +_281_640_640_label_accident.v2i.yolov7pytorch/test/images/accidentFrame1648_jpg.rf.d55488bb09db5aac520ee69f454fa995.jpg  \n",
            "  inflating: __MACOSX/+_281_640_640_label_accident.v2i.yolov7pytorch/test/images/._accidentFrame1648_jpg.rf.d55488bb09db5aac520ee69f454fa995.jpg  \n",
            "  inflating: +_281_640_640_label_accident.v2i.yolov7pytorch/test/images/trafficseverity_img152_jpg.rf.e3628fc744af2be4f66e5f618ae0094d.jpg  \n",
            "  inflating: __MACOSX/+_281_640_640_label_accident.v2i.yolov7pytorch/test/images/._trafficseverity_img152_jpg.rf.e3628fc744af2be4f66e5f618ae0094d.jpg  \n",
            "  inflating: +_281_640_640_label_accident.v2i.yolov7pytorch/test/images/traffic_img1126_jpg.rf.56f2b1a20f39ee3e32152c516d5cf5c0.jpg  \n",
            "  inflating: __MACOSX/+_281_640_640_label_accident.v2i.yolov7pytorch/test/images/._traffic_img1126_jpg.rf.56f2b1a20f39ee3e32152c516d5cf5c0.jpg  \n",
            "  inflating: +_281_640_640_label_accident.v2i.yolov7pytorch/test/images/accidentFrame180_jpg.rf.0ad22d77335f76f86b818bacba84f649.jpg  \n",
            "  inflating: __MACOSX/+_281_640_640_label_accident.v2i.yolov7pytorch/test/images/._accidentFrame180_jpg.rf.0ad22d77335f76f86b818bacba84f649.jpg  \n",
            "  inflating: +_281_640_640_label_accident.v2i.yolov7pytorch/test/images/IMG_1581_PNG_jpg.rf.98270df9e8fa4b7040a25108c502caff.jpg  \n",
            "  inflating: __MACOSX/+_281_640_640_label_accident.v2i.yolov7pytorch/test/images/._IMG_1581_PNG_jpg.rf.98270df9e8fa4b7040a25108c502caff.jpg  \n",
            "  inflating: +_281_640_640_label_accident.v2i.yolov7pytorch/test/labels/traffic_img949_jpg.rf.831ec4ebdc8f9d7214589fafd00a40c4.txt  \n",
            "  inflating: __MACOSX/+_281_640_640_label_accident.v2i.yolov7pytorch/test/labels/._traffic_img949_jpg.rf.831ec4ebdc8f9d7214589fafd00a40c4.txt  \n",
            "  inflating: +_281_640_640_label_accident.v2i.yolov7pytorch/test/labels/SEV_22_664_jpg.rf.17be58e5cb18b3fe856a0f68129e61ac.txt  \n",
            "  inflating: __MACOSX/+_281_640_640_label_accident.v2i.yolov7pytorch/test/labels/._SEV_22_664_jpg.rf.17be58e5cb18b3fe856a0f68129e61ac.txt  \n",
            "  inflating: +_281_640_640_label_accident.v2i.yolov7pytorch/test/labels/IMG_1599_PNG_jpg.rf.17be487534d411d997f1326ef0df4a5c.txt  \n",
            "  inflating: __MACOSX/+_281_640_640_label_accident.v2i.yolov7pytorch/test/labels/._IMG_1599_PNG_jpg.rf.17be487534d411d997f1326ef0df4a5c.txt  \n",
            "  inflating: +_281_640_640_label_accident.v2i.yolov7pytorch/test/labels/trafficseverity_img3044_jpg.rf.586f301ebbecfb8c49f8d674725c1024.txt  \n",
            "  inflating: __MACOSX/+_281_640_640_label_accident.v2i.yolov7pytorch/test/labels/._trafficseverity_img3044_jpg.rf.586f301ebbecfb8c49f8d674725c1024.txt  \n",
            "  inflating: +_281_640_640_label_accident.v2i.yolov7pytorch/test/labels/images-1_jpg.rf.d881768d3c8051814ba63e5edbc60259.txt  \n",
            "  inflating: __MACOSX/+_281_640_640_label_accident.v2i.yolov7pytorch/test/labels/._images-1_jpg.rf.d881768d3c8051814ba63e5edbc60259.txt  \n",
            "  inflating: +_281_640_640_label_accident.v2i.yolov7pytorch/test/labels/traffic_img2403_jpg.rf.108f40cdf89f9459cf7e2960113b6b64.txt  \n",
            "  inflating: __MACOSX/+_281_640_640_label_accident.v2i.yolov7pytorch/test/labels/._traffic_img2403_jpg.rf.108f40cdf89f9459cf7e2960113b6b64.txt  \n",
            "  inflating: +_281_640_640_label_accident.v2i.yolov7pytorch/test/labels/images_jpg.rf.4ff5ffbe10d544a8e3afd827a9eb45b8.txt  \n",
            "  inflating: __MACOSX/+_281_640_640_label_accident.v2i.yolov7pytorch/test/labels/._images_jpg.rf.4ff5ffbe10d544a8e3afd827a9eb45b8.txt  \n",
            "  inflating: +_281_640_640_label_accident.v2i.yolov7pytorch/test/labels/IMG_1553_PNG_jpg.rf.9a96738b6039492a71e9b4cb85f97665.txt  \n",
            "  inflating: __MACOSX/+_281_640_640_label_accident.v2i.yolov7pytorch/test/labels/._IMG_1553_PNG_jpg.rf.9a96738b6039492a71e9b4cb85f97665.txt  \n",
            "  inflating: +_281_640_640_label_accident.v2i.yolov7pytorch/test/labels/severity_V11_jpg.rf.20f667e345e41497b01ac60a4d731ef4.txt  \n",
            "  inflating: __MACOSX/+_281_640_640_label_accident.v2i.yolov7pytorch/test/labels/._severity_V11_jpg.rf.20f667e345e41497b01ac60a4d731ef4.txt  \n",
            "  inflating: +_281_640_640_label_accident.v2i.yolov7pytorch/test/labels/FLIP_CAR_V169_jpg.rf.e720eefdd73f1c118efb4baca7148f9a.txt  \n",
            "  inflating: __MACOSX/+_281_640_640_label_accident.v2i.yolov7pytorch/test/labels/._FLIP_CAR_V169_jpg.rf.e720eefdd73f1c118efb4baca7148f9a.txt  \n",
            "  inflating: +_281_640_640_label_accident.v2i.yolov7pytorch/test/labels/IMG_1974_PNG_jpg.rf.cf5dc1c01215aa7752ac5fb880c77947.txt  \n",
            "  inflating: __MACOSX/+_281_640_640_label_accident.v2i.yolov7pytorch/test/labels/._IMG_1974_PNG_jpg.rf.cf5dc1c01215aa7752ac5fb880c77947.txt  \n",
            "  inflating: +_281_640_640_label_accident.v2i.yolov7pytorch/test/labels/traffic_img223_jpg.rf.f87ead1543bff96b54f88190e9349f0c.txt  \n",
            "  inflating: __MACOSX/+_281_640_640_label_accident.v2i.yolov7pytorch/test/labels/._traffic_img223_jpg.rf.f87ead1543bff96b54f88190e9349f0c.txt  \n",
            "  inflating: +_281_640_640_label_accident.v2i.yolov7pytorch/test/labels/trafficseverity_img1382_jpg.rf.33fade3283b65bb4e7ea551ee4032072.txt  \n",
            "  inflating: __MACOSX/+_281_640_640_label_accident.v2i.yolov7pytorch/test/labels/._trafficseverity_img1382_jpg.rf.33fade3283b65bb4e7ea551ee4032072.txt  \n",
            "  inflating: +_281_640_640_label_accident.v2i.yolov7pytorch/test/labels/traffic_img190_jpg.rf.02acfd6dd903193f025e46fbf9eefca9.txt  \n",
            "  inflating: __MACOSX/+_281_640_640_label_accident.v2i.yolov7pytorch/test/labels/._traffic_img190_jpg.rf.02acfd6dd903193f025e46fbf9eefca9.txt  \n",
            "  inflating: +_281_640_640_label_accident.v2i.yolov7pytorch/test/labels/trafficseverity_img937_jpg.rf.576b625850d889983e6a0c1b6502fc63.txt  \n",
            "  inflating: __MACOSX/+_281_640_640_label_accident.v2i.yolov7pytorch/test/labels/._trafficseverity_img937_jpg.rf.576b625850d889983e6a0c1b6502fc63.txt  \n",
            "  inflating: +_281_640_640_label_accident.v2i.yolov7pytorch/test/labels/accidentFrame1648_jpg.rf.d55488bb09db5aac520ee69f454fa995.txt  \n",
            "  inflating: __MACOSX/+_281_640_640_label_accident.v2i.yolov7pytorch/test/labels/._accidentFrame1648_jpg.rf.d55488bb09db5aac520ee69f454fa995.txt  \n",
            "  inflating: +_281_640_640_label_accident.v2i.yolov7pytorch/test/labels/traffic_img1126_jpg.rf.56f2b1a20f39ee3e32152c516d5cf5c0.txt  \n",
            "  inflating: __MACOSX/+_281_640_640_label_accident.v2i.yolov7pytorch/test/labels/._traffic_img1126_jpg.rf.56f2b1a20f39ee3e32152c516d5cf5c0.txt  \n",
            "  inflating: +_281_640_640_label_accident.v2i.yolov7pytorch/test/labels/accidentFrame180_jpg.rf.0ad22d77335f76f86b818bacba84f649.txt  \n",
            "  inflating: __MACOSX/+_281_640_640_label_accident.v2i.yolov7pytorch/test/labels/._accidentFrame180_jpg.rf.0ad22d77335f76f86b818bacba84f649.txt  \n",
            "  inflating: +_281_640_640_label_accident.v2i.yolov7pytorch/test/labels/trafficseverity_img152_jpg.rf.e3628fc744af2be4f66e5f618ae0094d.txt  \n",
            "  inflating: __MACOSX/+_281_640_640_label_accident.v2i.yolov7pytorch/test/labels/._trafficseverity_img152_jpg.rf.e3628fc744af2be4f66e5f618ae0094d.txt  \n",
            "  inflating: +_281_640_640_label_accident.v2i.yolov7pytorch/test/labels/IMG_1581_PNG_jpg.rf.98270df9e8fa4b7040a25108c502caff.txt  \n",
            "  inflating: __MACOSX/+_281_640_640_label_accident.v2i.yolov7pytorch/test/labels/._IMG_1581_PNG_jpg.rf.98270df9e8fa4b7040a25108c502caff.txt  \n",
            "  inflating: +_281_640_640_label_accident.v2i.yolov7pytorch/test/labels/IMG_2207_PNG_jpg.rf.dfdd0a87cab72d28e06be5da32f44228.txt  \n",
            "  inflating: __MACOSX/+_281_640_640_label_accident.v2i.yolov7pytorch/test/labels/._IMG_2207_PNG_jpg.rf.dfdd0a87cab72d28e06be5da32f44228.txt  \n",
            "  inflating: +_281_640_640_label_accident.v2i.yolov7pytorch/test/labels/IMG_2630_PNG_jpg.rf.94834d40ce1c2a8d08aae4331b642600.txt  \n",
            "  inflating: __MACOSX/+_281_640_640_label_accident.v2i.yolov7pytorch/test/labels/._IMG_2630_PNG_jpg.rf.94834d40ce1c2a8d08aae4331b642600.txt  \n",
            "  inflating: +_281_640_640_label_accident.v2i.yolov7pytorch/test/labels/images-32_jpg.rf.4ebf331c3debbf52574f36632b469a9c.txt  \n",
            "  inflating: __MACOSX/+_281_640_640_label_accident.v2i.yolov7pytorch/test/labels/._images-32_jpg.rf.4ebf331c3debbf52574f36632b469a9c.txt  \n",
            "  inflating: +_281_640_640_label_accident.v2i.yolov7pytorch/test/labels/images-52-_jpeg_jpg.rf.3a842eb91aadba14f4d694adacd8f15c.txt  \n",
            "  inflating: __MACOSX/+_281_640_640_label_accident.v2i.yolov7pytorch/test/labels/._images-52-_jpeg_jpg.rf.3a842eb91aadba14f4d694adacd8f15c.txt  \n",
            "  inflating: +_281_640_640_label_accident.v2i.yolov7pytorch/test/labels/severityV4_98_jpg.rf.f2f7439fc17ae723e84716162a8e97e5.txt  \n",
            "  inflating: __MACOSX/+_281_640_640_label_accident.v2i.yolov7pytorch/test/labels/._severityV4_98_jpg.rf.f2f7439fc17ae723e84716162a8e97e5.txt  \n",
            "  inflating: +_281_640_640_label_accident.v2i.yolov7pytorch/test/labels/SEEEEVERITY_151_jpg.rf.c253b0a133c82ba053717f95409ccc60.txt  \n",
            "  inflating: __MACOSX/+_281_640_640_label_accident.v2i.yolov7pytorch/test/labels/._SEEEEVERITY_151_jpg.rf.c253b0a133c82ba053717f95409ccc60.txt  \n",
            "  inflating: +_281_640_640_label_accident.v2i.yolov7pytorch/test/labels/Semi-RealisticVD-95_jpg.rf.b3723ab4c56c72ecc0fbe699f56219a8.txt  \n",
            "  inflating: __MACOSX/+_281_640_640_label_accident.v2i.yolov7pytorch/test/labels/._Semi-RealisticVD-95_jpg.rf.b3723ab4c56c72ecc0fbe699f56219a8.txt  \n",
            "  inflating: +_281_640_640_label_accident.v2i.yolov7pytorch/test/labels/trafficseverity_img5571_jpg.rf.08f95423bc2a274f1250d0a1c2d12b68.txt  \n",
            "  inflating: __MACOSX/+_281_640_640_label_accident.v2i.yolov7pytorch/test/labels/._trafficseverity_img5571_jpg.rf.08f95423bc2a274f1250d0a1c2d12b68.txt  \n",
            "  inflating: +_281_640_640_label_accident.v2i.yolov7pytorch/train/images/images-8_jpg.rf.8acb16f217be9a4a6bf70fed8b4ed778.jpg  \n",
            "  inflating: __MACOSX/+_281_640_640_label_accident.v2i.yolov7pytorch/train/images/._images-8_jpg.rf.8acb16f217be9a4a6bf70fed8b4ed778.jpg  \n",
            "  inflating: +_281_640_640_label_accident.v2i.yolov7pytorch/train/images/images-43_jpg.rf.1358f5de8aeedc8e04ce5d3dccca670d.jpg  \n",
            "  inflating: __MACOSX/+_281_640_640_label_accident.v2i.yolov7pytorch/train/images/._images-43_jpg.rf.1358f5de8aeedc8e04ce5d3dccca670d.jpg  \n",
            "  inflating: +_281_640_640_label_accident.v2i.yolov7pytorch/train/images/traffic_img337_jpg.rf.e3766cd412fa6311e3f7486136d7f819.jpg  \n",
            "  inflating: __MACOSX/+_281_640_640_label_accident.v2i.yolov7pytorch/train/images/._traffic_img337_jpg.rf.e3766cd412fa6311e3f7486136d7f819.jpg  \n",
            "  inflating: +_281_640_640_label_accident.v2i.yolov7pytorch/train/images/severityV4_99_jpg.rf.685e95bc6346cad2ae6ef8a88f9a7aa4.jpg  \n",
            "  inflating: __MACOSX/+_281_640_640_label_accident.v2i.yolov7pytorch/train/images/._severityV4_99_jpg.rf.685e95bc6346cad2ae6ef8a88f9a7aa4.jpg  \n",
            "  inflating: +_281_640_640_label_accident.v2i.yolov7pytorch/train/images/traffic_img341_jpg.rf.eeb7fcd9458bf0cb70ed9f0baa8aed07.jpg  \n",
            "  inflating: __MACOSX/+_281_640_640_label_accident.v2i.yolov7pytorch/train/images/._traffic_img341_jpg.rf.eeb7fcd9458bf0cb70ed9f0baa8aed07.jpg  \n",
            "  inflating: +_281_640_640_label_accident.v2i.yolov7pytorch/train/images/accidentFrame2378_jpg.rf.95f9837f9d9dff2faf6700abdc2747d1.jpg  \n",
            "  inflating: __MACOSX/+_281_640_640_label_accident.v2i.yolov7pytorch/train/images/._accidentFrame2378_jpg.rf.95f9837f9d9dff2faf6700abdc2747d1.jpg  \n",
            "  inflating: +_281_640_640_label_accident.v2i.yolov7pytorch/train/images/images-10_jpg.rf.6100446e03b24f92382258391833cb93.jpg  \n",
            "  inflating: __MACOSX/+_281_640_640_label_accident.v2i.yolov7pytorch/train/images/._images-10_jpg.rf.6100446e03b24f92382258391833cb93.jpg  \n",
            "  inflating: +_281_640_640_label_accident.v2i.yolov7pytorch/train/images/IMG_2153_JPG_jpg.rf.67af1a07e326df82b310e30b729e064f.jpg  \n",
            "  inflating: __MACOSX/+_281_640_640_label_accident.v2i.yolov7pytorch/train/images/._IMG_2153_JPG_jpg.rf.67af1a07e326df82b310e30b729e064f.jpg  \n",
            "  inflating: +_281_640_640_label_accident.v2i.yolov7pytorch/train/images/SEEEEVERITY_97_jpg.rf.37ed61a8986763539167bb00789f8c58.jpg  \n",
            "  inflating: __MACOSX/+_281_640_640_label_accident.v2i.yolov7pytorch/train/images/._SEEEEVERITY_97_jpg.rf.37ed61a8986763539167bb00789f8c58.jpg  \n",
            "  inflating: +_281_640_640_label_accident.v2i.yolov7pytorch/train/images/traffic_img533_jpg.rf.cebeffad869f2944bd8c45280801515f.jpg  \n",
            "  inflating: __MACOSX/+_281_640_640_label_accident.v2i.yolov7pytorch/train/images/._traffic_img533_jpg.rf.cebeffad869f2944bd8c45280801515f.jpg  \n",
            "  inflating: +_281_640_640_label_accident.v2i.yolov7pytorch/train/images/accidentFrame511_jpg.rf.a323166743ed910c9c44fa76d4cd0db5.jpg  \n",
            "  inflating: __MACOSX/+_281_640_640_label_accident.v2i.yolov7pytorch/train/images/._accidentFrame511_jpg.rf.a323166743ed910c9c44fa76d4cd0db5.jpg  \n",
            "  inflating: +_281_640_640_label_accident.v2i.yolov7pytorch/train/images/accidentFrame3421_jpg.rf.de38dfcb5a5ee4a76ff3bd1129d402a4.jpg  \n",
            "  inflating: __MACOSX/+_281_640_640_label_accident.v2i.yolov7pytorch/train/images/._accidentFrame3421_jpg.rf.de38dfcb5a5ee4a76ff3bd1129d402a4.jpg  \n",
            "  inflating: +_281_640_640_label_accident.v2i.yolov7pytorch/train/images/SEEEEVERITY_150_jpg.rf.d2e86373c0b7bff8398f39b033a08fe7.jpg  \n",
            "  inflating: __MACOSX/+_281_640_640_label_accident.v2i.yolov7pytorch/train/images/._SEEEEVERITY_150_jpg.rf.d2e86373c0b7bff8398f39b033a08fe7.jpg  \n",
            "  inflating: +_281_640_640_label_accident.v2i.yolov7pytorch/train/images/EXTREME-CAR-CRASH-1-HOUR-COMPILATION-BIGGEST-CAR-CRASHES-1_i_frame_105856_jpg.rf.71acd2143f7d7b953d1e3dbc9e6e5fbd.jpg  \n",
            "  inflating: __MACOSX/+_281_640_640_label_accident.v2i.yolov7pytorch/train/images/._EXTREME-CAR-CRASH-1-HOUR-COMPILATION-BIGGEST-CAR-CRASHES-1_i_frame_105856_jpg.rf.71acd2143f7d7b953d1e3dbc9e6e5fbd.jpg  \n",
            "  inflating: +_281_640_640_label_accident.v2i.yolov7pytorch/train/images/traffic_img3501_jpg.rf.390c54e1b98d146ecf3472a5b579a86d.jpg  \n",
            "  inflating: __MACOSX/+_281_640_640_label_accident.v2i.yolov7pytorch/train/images/._traffic_img3501_jpg.rf.390c54e1b98d146ecf3472a5b579a86d.jpg  \n",
            "  inflating: +_281_640_640_label_accident.v2i.yolov7pytorch/train/images/trafficseverity_img1040_jpg.rf.ecd9dc35581b9aaf923b3483fce5477e.jpg  \n",
            "  inflating: __MACOSX/+_281_640_640_label_accident.v2i.yolov7pytorch/train/images/._trafficseverity_img1040_jpg.rf.ecd9dc35581b9aaf923b3483fce5477e.jpg  \n",
            "  inflating: +_281_640_640_label_accident.v2i.yolov7pytorch/train/images/IMG_2429_PNG_jpg.rf.6efc15c5920bf1ce2e24d1c1bcf60134.jpg  \n",
            "  inflating: __MACOSX/+_281_640_640_label_accident.v2i.yolov7pytorch/train/images/._IMG_2429_PNG_jpg.rf.6efc15c5920bf1ce2e24d1c1bcf60134.jpg  \n",
            "  inflating: +_281_640_640_label_accident.v2i.yolov7pytorch/train/images/IMG_1614_PNG_jpg.rf.7658075f1070cd78d5b5580d246bedb1.jpg  \n",
            "  inflating: __MACOSX/+_281_640_640_label_accident.v2i.yolov7pytorch/train/images/._IMG_1614_PNG_jpg.rf.7658075f1070cd78d5b5580d246bedb1.jpg  \n",
            "  inflating: +_281_640_640_label_accident.v2i.yolov7pytorch/train/images/Semi-RealisticVD-26_jpg.rf.b379e77c3f051fb7031dcfefa2e049bd.jpg  \n",
            "  inflating: __MACOSX/+_281_640_640_label_accident.v2i.yolov7pytorch/train/images/._Semi-RealisticVD-26_jpg.rf.b379e77c3f051fb7031dcfefa2e049bd.jpg  \n",
            "  inflating: +_281_640_640_label_accident.v2i.yolov7pytorch/train/images/images-87-_jpeg_jpg.rf.4b0d1d9304487faf8dec087ec95904e1.jpg  \n",
            "  inflating: __MACOSX/+_281_640_640_label_accident.v2i.yolov7pytorch/train/images/._images-87-_jpeg_jpg.rf.4b0d1d9304487faf8dec087ec95904e1.jpg  \n",
            "  inflating: +_281_640_640_label_accident.v2i.yolov7pytorch/train/images/SEV_V8_Img_65_jpg.rf.3a1c03cd9280c080941db24d5ea04548.jpg  \n",
            "  inflating: __MACOSX/+_281_640_640_label_accident.v2i.yolov7pytorch/train/images/._SEV_V8_Img_65_jpg.rf.3a1c03cd9280c080941db24d5ea04548.jpg  \n",
            "  inflating: +_281_640_640_label_accident.v2i.yolov7pytorch/train/images/accidentFrame3949_jpg.rf.7ddcc8cfd904abbd2d3eaa267022e29e.jpg  \n",
            "  inflating: __MACOSX/+_281_640_640_label_accident.v2i.yolov7pytorch/train/images/._accidentFrame3949_jpg.rf.7ddcc8cfd904abbd2d3eaa267022e29e.jpg  \n",
            "  inflating: +_281_640_640_label_accident.v2i.yolov7pytorch/train/images/SEEEEVERITY_0_jpg.rf.6113c67b2b05a9fef6e33c9069055a74.jpg  \n",
            "  inflating: __MACOSX/+_281_640_640_label_accident.v2i.yolov7pytorch/train/images/._SEEEEVERITY_0_jpg.rf.6113c67b2b05a9fef6e33c9069055a74.jpg  \n",
            "  inflating: +_281_640_640_label_accident.v2i.yolov7pytorch/train/images/traffic_img510_jpg.rf.790d12651bb7afda1ea3462847ac45f7.jpg  \n",
            "  inflating: __MACOSX/+_281_640_640_label_accident.v2i.yolov7pytorch/train/images/._traffic_img510_jpg.rf.790d12651bb7afda1ea3462847ac45f7.jpg  \n",
            "  inflating: +_281_640_640_label_accident.v2i.yolov7pytorch/train/images/SEEEEVERITY_356_jpg.rf.177d2260190ef781792b17a1017e41b9.jpg  \n",
            "  inflating: __MACOSX/+_281_640_640_label_accident.v2i.yolov7pytorch/train/images/._SEEEEVERITY_356_jpg.rf.177d2260190ef781792b17a1017e41b9.jpg  \n",
            "  inflating: +_281_640_640_label_accident.v2i.yolov7pytorch/train/images/Semi-RealisticVD-146_jpg.rf.3fd5a3601a9718f9739160203a128b29.jpg  \n",
            "  inflating: __MACOSX/+_281_640_640_label_accident.v2i.yolov7pytorch/train/images/._Semi-RealisticVD-146_jpg.rf.3fd5a3601a9718f9739160203a128b29.jpg  \n",
            "  inflating: +_281_640_640_label_accident.v2i.yolov7pytorch/train/images/2-61_jpg.rf.6f87b351a77380a6ff8d3108329ac3e4.jpg  \n",
            "  inflating: __MACOSX/+_281_640_640_label_accident.v2i.yolov7pytorch/train/images/._2-61_jpg.rf.6f87b351a77380a6ff8d3108329ac3e4.jpg  \n",
            "  inflating: +_281_640_640_label_accident.v2i.yolov7pytorch/train/images/SEEEEVERITY_39_jpg.rf.ecbb3c5efcaa5e941d5cf590db070cfa.jpg  \n",
            "  inflating: __MACOSX/+_281_640_640_label_accident.v2i.yolov7pytorch/train/images/._SEEEEVERITY_39_jpg.rf.ecbb3c5efcaa5e941d5cf590db070cfa.jpg  \n",
            "  inflating: +_281_640_640_label_accident.v2i.yolov7pytorch/train/images/traffic_img2219_jpg.rf.7b8271b76597c21d99e72fa987b6a5ae.jpg  \n",
            "  inflating: __MACOSX/+_281_640_640_label_accident.v2i.yolov7pytorch/train/images/._traffic_img2219_jpg.rf.7b8271b76597c21d99e72fa987b6a5ae.jpg  \n",
            "  inflating: +_281_640_640_label_accident.v2i.yolov7pytorch/train/images/IMG_2128_JPG_jpg.rf.19eff20d877003473927b584f8e8f4b7.jpg  \n",
            "  inflating: __MACOSX/+_281_640_640_label_accident.v2i.yolov7pytorch/train/images/._IMG_2128_JPG_jpg.rf.19eff20d877003473927b584f8e8f4b7.jpg  \n",
            "  inflating: +_281_640_640_label_accident.v2i.yolov7pytorch/train/images/accidentFrame1159_jpg.rf.369533a6b577d302a1a0b8677da2e10e.jpg  \n",
            "  inflating: __MACOSX/+_281_640_640_label_accident.v2i.yolov7pytorch/train/images/._accidentFrame1159_jpg.rf.369533a6b577d302a1a0b8677da2e10e.jpg  \n",
            "  inflating: +_281_640_640_label_accident.v2i.yolov7pytorch/train/images/accidentFrame1196_jpg.rf.ebf77277df2358a6d255568bc80889e8.jpg  \n",
            "  inflating: __MACOSX/+_281_640_640_label_accident.v2i.yolov7pytorch/train/images/._accidentFrame1196_jpg.rf.ebf77277df2358a6d255568bc80889e8.jpg  \n",
            "  inflating: +_281_640_640_label_accident.v2i.yolov7pytorch/train/images/Screen-Shot-2022-04-07-at-8-11-30-AM_png_jpg.rf.7a6f3cdfd5c0dbf51314e89800d89987.jpg  \n",
            "  inflating: __MACOSX/+_281_640_640_label_accident.v2i.yolov7pytorch/train/images/._Screen-Shot-2022-04-07-at-8-11-30-AM_png_jpg.rf.7a6f3cdfd5c0dbf51314e89800d89987.jpg  \n",
            "  inflating: +_281_640_640_label_accident.v2i.yolov7pytorch/train/images/SEVERITY_DATA_99_jpg.rf.ffdce38d4d9808af35307779123d5592.jpg  \n",
            "  inflating: __MACOSX/+_281_640_640_label_accident.v2i.yolov7pytorch/train/images/._SEVERITY_DATA_99_jpg.rf.ffdce38d4d9808af35307779123d5592.jpg  \n",
            "  inflating: +_281_640_640_label_accident.v2i.yolov7pytorch/train/images/760_jpeg_jpg.rf.60a2aa67c631bf1ea5d4dc5a1b27c133.jpg  \n",
            "  inflating: __MACOSX/+_281_640_640_label_accident.v2i.yolov7pytorch/train/images/._760_jpeg_jpg.rf.60a2aa67c631bf1ea5d4dc5a1b27c133.jpg  \n",
            "  inflating: +_281_640_640_label_accident.v2i.yolov7pytorch/train/images/IMG_1506_PNG_jpg.rf.ca659fe5fa229472623c0694080cc43a.jpg  \n",
            "  inflating: __MACOSX/+_281_640_640_label_accident.v2i.yolov7pytorch/train/images/._IMG_1506_PNG_jpg.rf.ca659fe5fa229472623c0694080cc43a.jpg  \n",
            "  inflating: +_281_640_640_label_accident.v2i.yolov7pytorch/train/images/traffic_img3922_jpg.rf.c1465511ae527e8fc245b2c7f39be091.jpg  \n",
            "  inflating: __MACOSX/+_281_640_640_label_accident.v2i.yolov7pytorch/train/images/._traffic_img3922_jpg.rf.c1465511ae527e8fc245b2c7f39be091.jpg  \n",
            "  inflating: +_281_640_640_label_accident.v2i.yolov7pytorch/train/images/traffic_img124_jpg.rf.3acb791461b64686f973b01985e54e9d.jpg  \n",
            "  inflating: __MACOSX/+_281_640_640_label_accident.v2i.yolov7pytorch/train/images/._traffic_img124_jpg.rf.3acb791461b64686f973b01985e54e9d.jpg  \n",
            "  inflating: +_281_640_640_label_accident.v2i.yolov7pytorch/train/images/SEV_V8_Img_106_jpg.rf.e00e67c1bde746070383bc813aa5eac4.jpg  \n",
            "  inflating: __MACOSX/+_281_640_640_label_accident.v2i.yolov7pytorch/train/images/._SEV_V8_Img_106_jpg.rf.e00e67c1bde746070383bc813aa5eac4.jpg  \n",
            "  inflating: +_281_640_640_label_accident.v2i.yolov7pytorch/train/images/trafficseverity_img599_jpg.rf.01f110e51abee680c8d83ce60ebedf99.jpg  \n",
            "  inflating: __MACOSX/+_281_640_640_label_accident.v2i.yolov7pytorch/train/images/._trafficseverity_img599_jpg.rf.01f110e51abee680c8d83ce60ebedf99.jpg  \n",
            "  inflating: +_281_640_640_label_accident.v2i.yolov7pytorch/train/images/IMG_2601_PNG_jpg.rf.416a7c47172aa28efff19becc3f5e0da.jpg  \n",
            "  inflating: __MACOSX/+_281_640_640_label_accident.v2i.yolov7pytorch/train/images/._IMG_2601_PNG_jpg.rf.416a7c47172aa28efff19becc3f5e0da.jpg  \n",
            "  inflating: +_281_640_640_label_accident.v2i.yolov7pytorch/train/images/trafficseverity_img3054_jpg.rf.0b86cdac5f72348dc2f36eb2f43f591a.jpg  \n",
            "  inflating: __MACOSX/+_281_640_640_label_accident.v2i.yolov7pytorch/train/images/._trafficseverity_img3054_jpg.rf.0b86cdac5f72348dc2f36eb2f43f591a.jpg  \n",
            "  inflating: +_281_640_640_label_accident.v2i.yolov7pytorch/train/images/FLIP_CAR_V170_jpg.rf.a19a6a21814efc843c50266fccb5b6e6.jpg  \n",
            "  inflating: __MACOSX/+_281_640_640_label_accident.v2i.yolov7pytorch/train/images/._FLIP_CAR_V170_jpg.rf.a19a6a21814efc843c50266fccb5b6e6.jpg  \n",
            "  inflating: +_281_640_640_label_accident.v2i.yolov7pytorch/train/images/severityV4_44_jpg.rf.4a450d9442339e9a5e1ee8b82f0870f1.jpg  \n",
            "  inflating: __MACOSX/+_281_640_640_label_accident.v2i.yolov7pytorch/train/images/._severityV4_44_jpg.rf.4a450d9442339e9a5e1ee8b82f0870f1.jpg  \n",
            "  inflating: +_281_640_640_label_accident.v2i.yolov7pytorch/train/images/trafficseverity_img125_jpg.rf.cb88e8795f922160483bb14ad5d9c07c.jpg  \n",
            "  inflating: __MACOSX/+_281_640_640_label_accident.v2i.yolov7pytorch/train/images/._trafficseverity_img125_jpg.rf.cb88e8795f922160483bb14ad5d9c07c.jpg  \n",
            "  inflating: +_281_640_640_label_accident.v2i.yolov7pytorch/train/images/FLIP_CAR_V120_jpg.rf.ed6441da0316de496541f88692bdafdc.jpg  \n",
            "  inflating: __MACOSX/+_281_640_640_label_accident.v2i.yolov7pytorch/train/images/._FLIP_CAR_V120_jpg.rf.ed6441da0316de496541f88692bdafdc.jpg  \n",
            "  inflating: +_281_640_640_label_accident.v2i.yolov7pytorch/train/images/traffic_img558_jpg.rf.cbb9ca934398cd7c5ea0044e9a6aa585.jpg  \n",
            "  inflating: __MACOSX/+_281_640_640_label_accident.v2i.yolov7pytorch/train/images/._traffic_img558_jpg.rf.cbb9ca934398cd7c5ea0044e9a6aa585.jpg  \n",
            "  inflating: +_281_640_640_label_accident.v2i.yolov7pytorch/train/images/793_jpeg_jpg.rf.4fe9c553b39f09842de1f88584503924.jpg  \n",
            "  inflating: __MACOSX/+_281_640_640_label_accident.v2i.yolov7pytorch/train/images/._793_jpeg_jpg.rf.4fe9c553b39f09842de1f88584503924.jpg  \n",
            "  inflating: +_281_640_640_label_accident.v2i.yolov7pytorch/train/images/accidentFrame269_jpg.rf.5e6a108df0feb5a159cbfae4d18bb0ba.jpg  \n",
            "  inflating: __MACOSX/+_281_640_640_label_accident.v2i.yolov7pytorch/train/images/._accidentFrame269_jpg.rf.5e6a108df0feb5a159cbfae4d18bb0ba.jpg  \n",
            "  inflating: +_281_640_640_label_accident.v2i.yolov7pytorch/train/images/traffic_img398_jpg.rf.57cc3ce5c35cd921ef78c2836144690a.jpg  \n",
            "  inflating: __MACOSX/+_281_640_640_label_accident.v2i.yolov7pytorch/train/images/._traffic_img398_jpg.rf.57cc3ce5c35cd921ef78c2836144690a.jpg  \n",
            "  inflating: +_281_640_640_label_accident.v2i.yolov7pytorch/train/images/download_jpg.rf.fe95bb4b5a255b6fbb470bfd797a318d.jpg  \n",
            "  inflating: __MACOSX/+_281_640_640_label_accident.v2i.yolov7pytorch/train/images/._download_jpg.rf.fe95bb4b5a255b6fbb470bfd797a318d.jpg  \n",
            "  inflating: +_281_640_640_label_accident.v2i.yolov7pytorch/train/images/download-13_jpg.rf.d4e18c35a06ab5ce8c8a4e552cd716e0.jpg  \n",
            "  inflating: __MACOSX/+_281_640_640_label_accident.v2i.yolov7pytorch/train/images/._download-13_jpg.rf.d4e18c35a06ab5ce8c8a4e552cd716e0.jpg  \n",
            "  inflating: +_281_640_640_label_accident.v2i.yolov7pytorch/train/images/Screen-Shot-2022-04-07-at-7-56-12-PM_png_jpg.rf.4d6ab0fbf139a069f34c2130b675b048.jpg  \n",
            "  inflating: __MACOSX/+_281_640_640_label_accident.v2i.yolov7pytorch/train/images/._Screen-Shot-2022-04-07-at-7-56-12-PM_png_jpg.rf.4d6ab0fbf139a069f34c2130b675b048.jpg  \n",
            "  inflating: +_281_640_640_label_accident.v2i.yolov7pytorch/train/images/Semi-RealisticVD-69_jpg.rf.058cd635e056dd216c8f90d7476fa3de.jpg  \n",
            "  inflating: __MACOSX/+_281_640_640_label_accident.v2i.yolov7pytorch/train/images/._Semi-RealisticVD-69_jpg.rf.058cd635e056dd216c8f90d7476fa3de.jpg  \n",
            "  inflating: +_281_640_640_label_accident.v2i.yolov7pytorch/train/images/SEEEEVERITY_154_jpg.rf.a36cb45d2f51e4b6509d22394240ab9f.jpg  \n",
            "  inflating: __MACOSX/+_281_640_640_label_accident.v2i.yolov7pytorch/train/images/._SEEEEVERITY_154_jpg.rf.a36cb45d2f51e4b6509d22394240ab9f.jpg  \n",
            "  inflating: +_281_640_640_label_accident.v2i.yolov7pytorch/train/images/accidentFrame262_jpg.rf.ca956068acfded0753e1d661ebe36a0a.jpg  \n",
            "  inflating: __MACOSX/+_281_640_640_label_accident.v2i.yolov7pytorch/train/images/._accidentFrame262_jpg.rf.ca956068acfded0753e1d661ebe36a0a.jpg  \n",
            "  inflating: +_281_640_640_label_accident.v2i.yolov7pytorch/train/images/Semi-RealisticVD-225_jpg.rf.f1e9217ff5cc09a9b85626557860ae4b.jpg  \n",
            "  inflating: __MACOSX/+_281_640_640_label_accident.v2i.yolov7pytorch/train/images/._Semi-RealisticVD-225_jpg.rf.f1e9217ff5cc09a9b85626557860ae4b.jpg  \n",
            "  inflating: +_281_640_640_label_accident.v2i.yolov7pytorch/train/images/traffic_img23_jpg.rf.46e9e87df48e9420c442358085fd0be6.jpg  \n",
            "  inflating: __MACOSX/+_281_640_640_label_accident.v2i.yolov7pytorch/train/images/._traffic_img23_jpg.rf.46e9e87df48e9420c442358085fd0be6.jpg  \n",
            "  inflating: +_281_640_640_label_accident.v2i.yolov7pytorch/train/images/argusAcc342_jpg.rf.481abfd5d38b9cdfa82921179a9a7089.jpg  \n",
            "  inflating: __MACOSX/+_281_640_640_label_accident.v2i.yolov7pytorch/train/images/._argusAcc342_jpg.rf.481abfd5d38b9cdfa82921179a9a7089.jpg  \n",
            "  inflating: +_281_640_640_label_accident.v2i.yolov7pytorch/train/images/traffic_img1031_jpg.rf.4bdb445717c6353d0a09ac3e0a92272a.jpg  \n",
            "  inflating: __MACOSX/+_281_640_640_label_accident.v2i.yolov7pytorch/train/images/._traffic_img1031_jpg.rf.4bdb445717c6353d0a09ac3e0a92272a.jpg  \n",
            "  inflating: +_281_640_640_label_accident.v2i.yolov7pytorch/train/images/trafficseverity_img1636_jpg.rf.551df08769a9e664ffd8c43aa5ec5ef9.jpg  \n",
            "  inflating: __MACOSX/+_281_640_640_label_accident.v2i.yolov7pytorch/train/images/._trafficseverity_img1636_jpg.rf.551df08769a9e664ffd8c43aa5ec5ef9.jpg  \n",
            "  inflating: +_281_640_640_label_accident.v2i.yolov7pytorch/train/images/Semi-RealisticVD-132_jpg.rf.c050dd69ad13a64f0d7cec7442e75134.jpg  \n",
            "  inflating: __MACOSX/+_281_640_640_label_accident.v2i.yolov7pytorch/train/images/._Semi-RealisticVD-132_jpg.rf.c050dd69ad13a64f0d7cec7442e75134.jpg  \n",
            "  inflating: +_281_640_640_label_accident.v2i.yolov7pytorch/train/images/images-9_jpg.rf.b89b18ebc3973c06ecb72d9f36d0291e.jpg  \n",
            "  inflating: __MACOSX/+_281_640_640_label_accident.v2i.yolov7pytorch/train/images/._images-9_jpg.rf.b89b18ebc3973c06ecb72d9f36d0291e.jpg  \n",
            "  inflating: +_281_640_640_label_accident.v2i.yolov7pytorch/train/images/trafficseverity_img1131_jpg.rf.53691b8b633088f82e715e88e90bfcd2.jpg  \n",
            "  inflating: __MACOSX/+_281_640_640_label_accident.v2i.yolov7pytorch/train/images/._trafficseverity_img1131_jpg.rf.53691b8b633088f82e715e88e90bfcd2.jpg  \n",
            "  inflating: +_281_640_640_label_accident.v2i.yolov7pytorch/train/images/severityV4_86_jpg.rf.e5b051cd1104c9bda6fa159ae9605c74.jpg  \n",
            "  inflating: __MACOSX/+_281_640_640_label_accident.v2i.yolov7pytorch/train/images/._severityV4_86_jpg.rf.e5b051cd1104c9bda6fa159ae9605c74.jpg  \n",
            "  inflating: +_281_640_640_label_accident.v2i.yolov7pytorch/train/images/severityV4_6_jpg.rf.ee0cf46a617e10bdce38258532e6cea0.jpg  \n",
            "  inflating: __MACOSX/+_281_640_640_label_accident.v2i.yolov7pytorch/train/images/._severityV4_6_jpg.rf.ee0cf46a617e10bdce38258532e6cea0.jpg  \n",
            "  inflating: +_281_640_640_label_accident.v2i.yolov7pytorch/train/images/SEV_22_3774_jpg.rf.8725ffe893186b10ee3358f3609d62a5.jpg  \n",
            "  inflating: __MACOSX/+_281_640_640_label_accident.v2i.yolov7pytorch/train/images/._SEV_22_3774_jpg.rf.8725ffe893186b10ee3358f3609d62a5.jpg  \n",
            "  inflating: +_281_640_640_label_accident.v2i.yolov7pytorch/train/images/trafficseverity_img933_jpg.rf.7aa13d59bc37b00b7ac8c571e41f4706.jpg  \n",
            "  inflating: __MACOSX/+_281_640_640_label_accident.v2i.yolov7pytorch/train/images/._trafficseverity_img933_jpg.rf.7aa13d59bc37b00b7ac8c571e41f4706.jpg  \n",
            "  inflating: +_281_640_640_label_accident.v2i.yolov7pytorch/train/images/traffic_img3057_jpg.rf.fe63d811e1bfbe1c313af384b6e7ec93.jpg  \n",
            "  inflating: __MACOSX/+_281_640_640_label_accident.v2i.yolov7pytorch/train/images/._traffic_img3057_jpg.rf.fe63d811e1bfbe1c313af384b6e7ec93.jpg  \n",
            "  inflating: +_281_640_640_label_accident.v2i.yolov7pytorch/train/images/SEVERITY_V13_30_jpg.rf.1b83cc4a240d3a724234d53a412b87d1.jpg  \n",
            "  inflating: __MACOSX/+_281_640_640_label_accident.v2i.yolov7pytorch/train/images/._SEVERITY_V13_30_jpg.rf.1b83cc4a240d3a724234d53a412b87d1.jpg  \n",
            "  inflating: +_281_640_640_label_accident.v2i.yolov7pytorch/train/images/SEEEEVERITY_130_jpg.rf.266e172ac879eac9d47add092b19a648.jpg  \n",
            "  inflating: __MACOSX/+_281_640_640_label_accident.v2i.yolov7pytorch/train/images/._SEEEEVERITY_130_jpg.rf.266e172ac879eac9d47add092b19a648.jpg  \n",
            "  inflating: +_281_640_640_label_accident.v2i.yolov7pytorch/train/images/accidentFrame3957_jpg.rf.5447a1a8db5f2c66ac5ae70152676c81.jpg  \n",
            "  inflating: __MACOSX/+_281_640_640_label_accident.v2i.yolov7pytorch/train/images/._accidentFrame3957_jpg.rf.5447a1a8db5f2c66ac5ae70152676c81.jpg  \n",
            "  inflating: +_281_640_640_label_accident.v2i.yolov7pytorch/train/images/trafficseverity_img1038_jpg.rf.52df5270fa1cb3c4a4c15ec447374702.jpg  \n",
            "  inflating: __MACOSX/+_281_640_640_label_accident.v2i.yolov7pytorch/train/images/._trafficseverity_img1038_jpg.rf.52df5270fa1cb3c4a4c15ec447374702.jpg  \n",
            "  inflating: +_281_640_640_label_accident.v2i.yolov7pytorch/train/images/SEVERITY_V10_22_jpg.rf.9f6a14c298022e9d486feba08ff0cbb8.jpg  \n",
            "  inflating: __MACOSX/+_281_640_640_label_accident.v2i.yolov7pytorch/train/images/._SEVERITY_V10_22_jpg.rf.9f6a14c298022e9d486feba08ff0cbb8.jpg  \n",
            "  inflating: +_281_640_640_label_accident.v2i.yolov7pytorch/train/images/IMG_2257_PNG_jpg.rf.de140a8ca7e5951dffa74d974f3fd03b.jpg  \n",
            "  inflating: __MACOSX/+_281_640_640_label_accident.v2i.yolov7pytorch/train/images/._IMG_2257_PNG_jpg.rf.de140a8ca7e5951dffa74d974f3fd03b.jpg  \n",
            "  inflating: +_281_640_640_label_accident.v2i.yolov7pytorch/train/images/severityV4_74_jpg.rf.07ea6980576b009fbbd72324ff2051fe.jpg  \n",
            "  inflating: __MACOSX/+_281_640_640_label_accident.v2i.yolov7pytorch/train/images/._severityV4_74_jpg.rf.07ea6980576b009fbbd72324ff2051fe.jpg  \n",
            "  inflating: +_281_640_640_label_accident.v2i.yolov7pytorch/train/images/images-8_jpg.rf.380e98936a1fc0ddb98827197c10b2da.jpg  \n",
            "  inflating: __MACOSX/+_281_640_640_label_accident.v2i.yolov7pytorch/train/images/._images-8_jpg.rf.380e98936a1fc0ddb98827197c10b2da.jpg  \n",
            "  inflating: +_281_640_640_label_accident.v2i.yolov7pytorch/train/images/test13_13_jpg.rf.e33c93b60f6cb147cd0b7114f5f5519c.jpg  \n",
            "  inflating: __MACOSX/+_281_640_640_label_accident.v2i.yolov7pytorch/train/images/._test13_13_jpg.rf.e33c93b60f6cb147cd0b7114f5f5519c.jpg  \n",
            "  inflating: +_281_640_640_label_accident.v2i.yolov7pytorch/train/images/Semi-RealisticVD-41_jpg.rf.e24cb8dbbc40d1787512c7dd4a41a74d.jpg  \n",
            "  inflating: __MACOSX/+_281_640_640_label_accident.v2i.yolov7pytorch/train/images/._Semi-RealisticVD-41_jpg.rf.e24cb8dbbc40d1787512c7dd4a41a74d.jpg  \n",
            "  inflating: +_281_640_640_label_accident.v2i.yolov7pytorch/train/images/SEVERITY_V13_26_jpg.rf.6fb0ddaf60b3a0097546c13169c3e1f2.jpg  \n",
            "  inflating: __MACOSX/+_281_640_640_label_accident.v2i.yolov7pytorch/train/images/._SEVERITY_V13_26_jpg.rf.6fb0ddaf60b3a0097546c13169c3e1f2.jpg  \n",
            "  inflating: +_281_640_640_label_accident.v2i.yolov7pytorch/train/images/SEVERITY_V10_72_jpg.rf.6bc5891625fc7c092231d7f484175883.jpg  \n",
            "  inflating: __MACOSX/+_281_640_640_label_accident.v2i.yolov7pytorch/train/images/._SEVERITY_V10_72_jpg.rf.6bc5891625fc7c092231d7f484175883.jpg  \n",
            "  inflating: +_281_640_640_label_accident.v2i.yolov7pytorch/train/images/SEVERITY_DATA_86_jpg.rf.7d14fbd84e8724aeb06722a8b319a433.jpg  \n",
            "  inflating: __MACOSX/+_281_640_640_label_accident.v2i.yolov7pytorch/train/images/._SEVERITY_DATA_86_jpg.rf.7d14fbd84e8724aeb06722a8b319a433.jpg  \n",
            "  inflating: +_281_640_640_label_accident.v2i.yolov7pytorch/train/images/SEV_22_2807_jpg.rf.7ebbd696f25d171cc10687ae57902984.jpg  \n",
            "  inflating: __MACOSX/+_281_640_640_label_accident.v2i.yolov7pytorch/train/images/._SEV_22_2807_jpg.rf.7ebbd696f25d171cc10687ae57902984.jpg  \n",
            "  inflating: +_281_640_640_label_accident.v2i.yolov7pytorch/train/images/SEVERITY_V13_53_jpg.rf.5fa1f7eba2d10d76523456d51376078a.jpg  \n",
            "  inflating: __MACOSX/+_281_640_640_label_accident.v2i.yolov7pytorch/train/images/._SEVERITY_V13_53_jpg.rf.5fa1f7eba2d10d76523456d51376078a.jpg  \n",
            "  inflating: +_281_640_640_label_accident.v2i.yolov7pytorch/train/images/trafficseverity_img324_jpg.rf.c710f93d9c7a9bc4bf328594244092eb.jpg  \n",
            "  inflating: __MACOSX/+_281_640_640_label_accident.v2i.yolov7pytorch/train/images/._trafficseverity_img324_jpg.rf.c710f93d9c7a9bc4bf328594244092eb.jpg  \n",
            "  inflating: +_281_640_640_label_accident.v2i.yolov7pytorch/train/images/IMG_2437_PNG_jpg.rf.ead840c64085356dbcf1ddb0e6296ebe.jpg  \n",
            "  inflating: __MACOSX/+_281_640_640_label_accident.v2i.yolov7pytorch/train/images/._IMG_2437_PNG_jpg.rf.ead840c64085356dbcf1ddb0e6296ebe.jpg  \n",
            "  inflating: +_281_640_640_label_accident.v2i.yolov7pytorch/train/images/FLIP_CAR_V157_jpg.rf.208efdf36d96b8a235868aab3c6f2c4e.jpg  \n",
            "  inflating: __MACOSX/+_281_640_640_label_accident.v2i.yolov7pytorch/train/images/._FLIP_CAR_V157_jpg.rf.208efdf36d96b8a235868aab3c6f2c4e.jpg  \n",
            "  inflating: +_281_640_640_label_accident.v2i.yolov7pytorch/train/images/trafficseverity_img5572_jpg.rf.7b017e9fa3e4effe6961f7eaee93d4fa.jpg  \n",
            "  inflating: __MACOSX/+_281_640_640_label_accident.v2i.yolov7pytorch/train/images/._trafficseverity_img5572_jpg.rf.7b017e9fa3e4effe6961f7eaee93d4fa.jpg  \n",
            "  inflating: +_281_640_640_label_accident.v2i.yolov7pytorch/train/images/download-1_jpg.rf.48590a462003c8f9b7d6a988441b91b3.jpg  \n",
            "  inflating: __MACOSX/+_281_640_640_label_accident.v2i.yolov7pytorch/train/images/._download-1_jpg.rf.48590a462003c8f9b7d6a988441b91b3.jpg  \n",
            "  inflating: +_281_640_640_label_accident.v2i.yolov7pytorch/train/images/severityV4_34_jpg.rf.3e1cd0a9733fb6faf0fab33c322594d7.jpg  \n",
            "  inflating: __MACOSX/+_281_640_640_label_accident.v2i.yolov7pytorch/train/images/._severityV4_34_jpg.rf.3e1cd0a9733fb6faf0fab33c322594d7.jpg  \n",
            "  inflating: +_281_640_640_label_accident.v2i.yolov7pytorch/train/images/accidentFrame2757_jpg.rf.fce1d41e5532cdd4557fbfc5a54b2f1f.jpg  \n",
            "  inflating: __MACOSX/+_281_640_640_label_accident.v2i.yolov7pytorch/train/images/._accidentFrame2757_jpg.rf.fce1d41e5532cdd4557fbfc5a54b2f1f.jpg  \n",
            "  inflating: +_281_640_640_label_accident.v2i.yolov7pytorch/train/images/traffic_img1202_jpg.rf.c96e86dc426ed347c697f1460b8d69d8.jpg  \n",
            "  inflating: __MACOSX/+_281_640_640_label_accident.v2i.yolov7pytorch/train/images/._traffic_img1202_jpg.rf.c96e86dc426ed347c697f1460b8d69d8.jpg  \n",
            "  inflating: +_281_640_640_label_accident.v2i.yolov7pytorch/train/images/images-94-_jpeg_jpg.rf.96012c095713a9f3618d0cc44e4c1692.jpg  \n",
            "  inflating: __MACOSX/+_281_640_640_label_accident.v2i.yolov7pytorch/train/images/._images-94-_jpeg_jpg.rf.96012c095713a9f3618d0cc44e4c1692.jpg  \n",
            "  inflating: +_281_640_640_label_accident.v2i.yolov7pytorch/train/images/trafficseverity_img642_jpg.rf.fdc7b12187d23d252d4fe5b963615a8e.jpg  \n",
            "  inflating: __MACOSX/+_281_640_640_label_accident.v2i.yolov7pytorch/train/images/._trafficseverity_img642_jpg.rf.fdc7b12187d23d252d4fe5b963615a8e.jpg  \n",
            "  inflating: +_281_640_640_label_accident.v2i.yolov7pytorch/train/images/severity_V12_jpg.rf.9fd85672c4ebf07f1f7a6c2354182ec9.jpg  \n",
            "  inflating: __MACOSX/+_281_640_640_label_accident.v2i.yolov7pytorch/train/images/._severity_V12_jpg.rf.9fd85672c4ebf07f1f7a6c2354182ec9.jpg  \n",
            "  inflating: +_281_640_640_label_accident.v2i.yolov7pytorch/train/images/trafficseverity_img587_jpg.rf.692c1441d10e8965b90b238aee117fd8.jpg  \n",
            "  inflating: __MACOSX/+_281_640_640_label_accident.v2i.yolov7pytorch/train/images/._trafficseverity_img587_jpg.rf.692c1441d10e8965b90b238aee117fd8.jpg  \n",
            "  inflating: +_281_640_640_label_accident.v2i.yolov7pytorch/train/images/808_jpeg_jpg.rf.12414e533ffb673a2433bbda6f31b5c4.jpg  \n",
            "  inflating: __MACOSX/+_281_640_640_label_accident.v2i.yolov7pytorch/train/images/._808_jpeg_jpg.rf.12414e533ffb673a2433bbda6f31b5c4.jpg  \n",
            "  inflating: +_281_640_640_label_accident.v2i.yolov7pytorch/train/images/FLIP_CAR_V131_jpg.rf.5ff7e6af281f0e2e11c63c9a04ef0483.jpg  \n",
            "  inflating: __MACOSX/+_281_640_640_label_accident.v2i.yolov7pytorch/train/images/._FLIP_CAR_V131_jpg.rf.5ff7e6af281f0e2e11c63c9a04ef0483.jpg  \n",
            "  inflating: +_281_640_640_label_accident.v2i.yolov7pytorch/train/images/Screen-Shot-2022-04-07-at-7-28-52-PM_png_jpg.rf.ef38bfadff5a75b63adfa652c3fd5cd5.jpg  \n",
            "  inflating: __MACOSX/+_281_640_640_label_accident.v2i.yolov7pytorch/train/images/._Screen-Shot-2022-04-07-at-7-28-52-PM_png_jpg.rf.ef38bfadff5a75b63adfa652c3fd5cd5.jpg  \n",
            "  inflating: +_281_640_640_label_accident.v2i.yolov7pytorch/train/images/traffic_img90_jpg.rf.32107cbc8b4fe568daea46ed971128ef.jpg  \n",
            "  inflating: __MACOSX/+_281_640_640_label_accident.v2i.yolov7pytorch/train/images/._traffic_img90_jpg.rf.32107cbc8b4fe568daea46ed971128ef.jpg  \n",
            "  inflating: +_281_640_640_label_accident.v2i.yolov7pytorch/train/images/severity_V145_jpg.rf.cdd981ea4bace7a520801bf86fa78e1c.jpg  \n",
            "  inflating: __MACOSX/+_281_640_640_label_accident.v2i.yolov7pytorch/train/images/._severity_V145_jpg.rf.cdd981ea4bace7a520801bf86fa78e1c.jpg  \n",
            "  inflating: +_281_640_640_label_accident.v2i.yolov7pytorch/train/images/14-29_jpg.rf.d05d87bafc4d4a50a90457887f08b1a5.jpg  \n",
            "  inflating: __MACOSX/+_281_640_640_label_accident.v2i.yolov7pytorch/train/images/._14-29_jpg.rf.d05d87bafc4d4a50a90457887f08b1a5.jpg  \n",
            "  inflating: +_281_640_640_label_accident.v2i.yolov7pytorch/train/images/traffic_img1959_jpg.rf.c05d77d4ec2aa66c00a3a0eb35c4d4c6.jpg  \n",
            "  inflating: __MACOSX/+_281_640_640_label_accident.v2i.yolov7pytorch/train/images/._traffic_img1959_jpg.rf.c05d77d4ec2aa66c00a3a0eb35c4d4c6.jpg  \n",
            "  inflating: +_281_640_640_label_accident.v2i.yolov7pytorch/train/images/images-2022-04-07T063402-066_jpeg_jpg.rf.f6283085653f5ba7987f0aea1ad304a0.jpg  \n",
            "  inflating: __MACOSX/+_281_640_640_label_accident.v2i.yolov7pytorch/train/images/._images-2022-04-07T063402-066_jpeg_jpg.rf.f6283085653f5ba7987f0aea1ad304a0.jpg  \n",
            "  inflating: +_281_640_640_label_accident.v2i.yolov7pytorch/train/images/images-3_jpeg_jpg.rf.4af89a8045e0504ce8b720e0fb3083a7.jpg  \n",
            "  inflating: __MACOSX/+_281_640_640_label_accident.v2i.yolov7pytorch/train/images/._images-3_jpeg_jpg.rf.4af89a8045e0504ce8b720e0fb3083a7.jpg  \n",
            "  inflating: +_281_640_640_label_accident.v2i.yolov7pytorch/train/images/SEVERITY_DATA_94_jpg.rf.3d0b640284c71124fbb5764fc3062d2b.jpg  \n",
            "  inflating: __MACOSX/+_281_640_640_label_accident.v2i.yolov7pytorch/train/images/._SEVERITY_DATA_94_jpg.rf.3d0b640284c71124fbb5764fc3062d2b.jpg  \n",
            "  inflating: +_281_640_640_label_accident.v2i.yolov7pytorch/train/images/vd100_jpeg_jpg.rf.2ae9c4f5d634e69349f75564fff3f5c8.jpg  \n",
            "  inflating: __MACOSX/+_281_640_640_label_accident.v2i.yolov7pytorch/train/images/._vd100_jpeg_jpg.rf.2ae9c4f5d634e69349f75564fff3f5c8.jpg  \n",
            "  inflating: +_281_640_640_label_accident.v2i.yolov7pytorch/train/images/severityV4_5_jpg.rf.9bc378ac3a64e4340c65c114f03da06c.jpg  \n",
            "  inflating: __MACOSX/+_281_640_640_label_accident.v2i.yolov7pytorch/train/images/._severityV4_5_jpg.rf.9bc378ac3a64e4340c65c114f03da06c.jpg  \n",
            "  inflating: +_281_640_640_label_accident.v2i.yolov7pytorch/train/images/accidentFrame2718_jpg.rf.01466dda32bb430935a2289f527ce62f.jpg  \n",
            "  inflating: __MACOSX/+_281_640_640_label_accident.v2i.yolov7pytorch/train/images/._accidentFrame2718_jpg.rf.01466dda32bb430935a2289f527ce62f.jpg  \n",
            "  inflating: +_281_640_640_label_accident.v2i.yolov7pytorch/train/images/traffic_img3729_jpg.rf.bfa54a2fd62d5893d4b2971b90c8ed73.jpg  \n",
            "  inflating: __MACOSX/+_281_640_640_label_accident.v2i.yolov7pytorch/train/images/._traffic_img3729_jpg.rf.bfa54a2fd62d5893d4b2971b90c8ed73.jpg  \n",
            "  inflating: +_281_640_640_label_accident.v2i.yolov7pytorch/train/images/SEVERITY_DATA_59_jpg.rf.4fefec32b6a97b604928fc72084a926b.jpg  \n",
            "  inflating: __MACOSX/+_281_640_640_label_accident.v2i.yolov7pytorch/train/images/._SEVERITY_DATA_59_jpg.rf.4fefec32b6a97b604928fc72084a926b.jpg  \n",
            "  inflating: +_281_640_640_label_accident.v2i.yolov7pytorch/train/images/Semi-RealisticVD-150_jpg.rf.bb537fc594888c58cdfb20fde244a1d5.jpg  \n",
            "  inflating: __MACOSX/+_281_640_640_label_accident.v2i.yolov7pytorch/train/images/._Semi-RealisticVD-150_jpg.rf.bb537fc594888c58cdfb20fde244a1d5.jpg  \n",
            "  inflating: +_281_640_640_label_accident.v2i.yolov7pytorch/train/images/IMG_2280_PNG_jpg.rf.53063224567d3f2a6fcb52b684a2d475.jpg  \n",
            "  inflating: __MACOSX/+_281_640_640_label_accident.v2i.yolov7pytorch/train/images/._IMG_2280_PNG_jpg.rf.53063224567d3f2a6fcb52b684a2d475.jpg  \n",
            "  inflating: +_281_640_640_label_accident.v2i.yolov7pytorch/train/images/traffic_img649_jpg.rf.a1faf99962fba149b8dbc2c81ab04399.jpg  \n",
            "  inflating: __MACOSX/+_281_640_640_label_accident.v2i.yolov7pytorch/train/images/._traffic_img649_jpg.rf.a1faf99962fba149b8dbc2c81ab04399.jpg  \n",
            "  inflating: +_281_640_640_label_accident.v2i.yolov7pytorch/train/images/Semi-RealisticVD-119_jpg.rf.b015b93a08b47e52e65792dfc1170f62.jpg  \n",
            "  inflating: __MACOSX/+_281_640_640_label_accident.v2i.yolov7pytorch/train/images/._Semi-RealisticVD-119_jpg.rf.b015b93a08b47e52e65792dfc1170f62.jpg  \n",
            "  inflating: +_281_640_640_label_accident.v2i.yolov7pytorch/train/images/traffic_img333_jpg.rf.520cff7f7f4e1bbde006fc83ac4bd105.jpg  \n",
            "  inflating: __MACOSX/+_281_640_640_label_accident.v2i.yolov7pytorch/train/images/._traffic_img333_jpg.rf.520cff7f7f4e1bbde006fc83ac4bd105.jpg  \n",
            "  inflating: +_281_640_640_label_accident.v2i.yolov7pytorch/train/images/trafficseverity_img645_jpg.rf.3b94369a535c0336e4b63404bd35e11e.jpg  \n",
            "  inflating: __MACOSX/+_281_640_640_label_accident.v2i.yolov7pytorch/train/images/._trafficseverity_img645_jpg.rf.3b94369a535c0336e4b63404bd35e11e.jpg  \n",
            "  inflating: +_281_640_640_label_accident.v2i.yolov7pytorch/train/images/traffic_img1919_jpg.rf.a32ca3d2ba816f8d49b4e4b63c8eed28.jpg  \n",
            "  inflating: __MACOSX/+_281_640_640_label_accident.v2i.yolov7pytorch/train/images/._traffic_img1919_jpg.rf.a32ca3d2ba816f8d49b4e4b63c8eed28.jpg  \n",
            "  inflating: +_281_640_640_label_accident.v2i.yolov7pytorch/train/images/SEVERITY_V10_117_jpg.rf.4dc45c3613f00a5103c43019c64ee584.jpg  \n",
            "  inflating: __MACOSX/+_281_640_640_label_accident.v2i.yolov7pytorch/train/images/._SEVERITY_V10_117_jpg.rf.4dc45c3613f00a5103c43019c64ee584.jpg  \n",
            "  inflating: +_281_640_640_label_accident.v2i.yolov7pytorch/train/images/SEVERITY_V10_96_jpg.rf.7034ba5c1afbd5d21d2a001b712ce18c.jpg  \n",
            "  inflating: __MACOSX/+_281_640_640_label_accident.v2i.yolov7pytorch/train/images/._SEVERITY_V10_96_jpg.rf.7034ba5c1afbd5d21d2a001b712ce18c.jpg  \n",
            "  inflating: +_281_640_640_label_accident.v2i.yolov7pytorch/train/images/FLIP_CAR_V118_jpg.rf.c5708e29c7911fe4da393745fb67a3cd.jpg  \n",
            "  inflating: __MACOSX/+_281_640_640_label_accident.v2i.yolov7pytorch/train/images/._FLIP_CAR_V118_jpg.rf.c5708e29c7911fe4da393745fb67a3cd.jpg  \n",
            "  inflating: +_281_640_640_label_accident.v2i.yolov7pytorch/train/images/images-18_jpg.rf.53f533394196783ab49238e7279d2eae.jpg  \n",
            "  inflating: __MACOSX/+_281_640_640_label_accident.v2i.yolov7pytorch/train/images/._images-18_jpg.rf.53f533394196783ab49238e7279d2eae.jpg  \n",
            "  inflating: +_281_640_640_label_accident.v2i.yolov7pytorch/train/images/severityV3_9_jpeg_jpg.rf.2d3ded7dfb72f11fcb143b59196af6f9.jpg  \n",
            "  inflating: __MACOSX/+_281_640_640_label_accident.v2i.yolov7pytorch/train/images/._severityV3_9_jpeg_jpg.rf.2d3ded7dfb72f11fcb143b59196af6f9.jpg  \n",
            "  inflating: +_281_640_640_label_accident.v2i.yolov7pytorch/train/images/traffic_img5098_jpg.rf.aef6f91a2cdec67a86989e59fddfd049.jpg  \n",
            "  inflating: __MACOSX/+_281_640_640_label_accident.v2i.yolov7pytorch/train/images/._traffic_img5098_jpg.rf.aef6f91a2cdec67a86989e59fddfd049.jpg  \n",
            "  inflating: +_281_640_640_label_accident.v2i.yolov7pytorch/train/images/SEV_22_2031_jpg.rf.4f4bbf2f2478372b6729b1fb07c9ba27.jpg  \n",
            "  inflating: __MACOSX/+_281_640_640_label_accident.v2i.yolov7pytorch/train/images/._SEV_22_2031_jpg.rf.4f4bbf2f2478372b6729b1fb07c9ba27.jpg  \n",
            "  inflating: +_281_640_640_label_accident.v2i.yolov7pytorch/train/images/severity_V111_jpg.rf.3799d812ffe4ef2ecd0ce2f8e5ccab2c.jpg  \n",
            "  inflating: __MACOSX/+_281_640_640_label_accident.v2i.yolov7pytorch/train/images/._severity_V111_jpg.rf.3799d812ffe4ef2ecd0ce2f8e5ccab2c.jpg  \n",
            "  inflating: +_281_640_640_label_accident.v2i.yolov7pytorch/train/images/severV15_jpg.rf.7ea6815c518f100b315cf8dfe8f2791d.jpg  \n",
            "  inflating: __MACOSX/+_281_640_640_label_accident.v2i.yolov7pytorch/train/images/._severV15_jpg.rf.7ea6815c518f100b315cf8dfe8f2791d.jpg  \n",
            "  inflating: +_281_640_640_label_accident.v2i.yolov7pytorch/train/images/trafficseverity_img2006_jpg.rf.8e10b7bb460066fa6c61571dc18fcb90.jpg  \n",
            "  inflating: __MACOSX/+_281_640_640_label_accident.v2i.yolov7pytorch/train/images/._trafficseverity_img2006_jpg.rf.8e10b7bb460066fa6c61571dc18fcb90.jpg  \n",
            "  inflating: +_281_640_640_label_accident.v2i.yolov7pytorch/train/images/SEV_22_1511_jpg.rf.342126346b3926732dc8bfc0d7f28252.jpg  \n",
            "  inflating: __MACOSX/+_281_640_640_label_accident.v2i.yolov7pytorch/train/images/._SEV_22_1511_jpg.rf.342126346b3926732dc8bfc0d7f28252.jpg  \n",
            "  inflating: +_281_640_640_label_accident.v2i.yolov7pytorch/train/images/severityV4_10_jpg.rf.cb728420d8f01841677dbfac44ef385e.jpg  \n",
            "  inflating: __MACOSX/+_281_640_640_label_accident.v2i.yolov7pytorch/train/images/._severityV4_10_jpg.rf.cb728420d8f01841677dbfac44ef385e.jpg  \n",
            "  inflating: +_281_640_640_label_accident.v2i.yolov7pytorch/train/images/traffic_img224_jpg.rf.2c40a77726eb8470ec79c43cacb490b2.jpg  \n",
            "  inflating: __MACOSX/+_281_640_640_label_accident.v2i.yolov7pytorch/train/images/._traffic_img224_jpg.rf.2c40a77726eb8470ec79c43cacb490b2.jpg  \n",
            "  inflating: +_281_640_640_label_accident.v2i.yolov7pytorch/train/images/trafficseverity_img553_jpg.rf.18146c3a2725a25f911c632d7a42b372.jpg  \n",
            "  inflating: __MACOSX/+_281_640_640_label_accident.v2i.yolov7pytorch/train/images/._trafficseverity_img553_jpg.rf.18146c3a2725a25f911c632d7a42b372.jpg  \n",
            "  inflating: +_281_640_640_label_accident.v2i.yolov7pytorch/train/images/trafficseverity_img1003_jpg.rf.2d4c8e026abf14f9d7477dcb2be176b8.jpg  \n",
            "  inflating: __MACOSX/+_281_640_640_label_accident.v2i.yolov7pytorch/train/images/._trafficseverity_img1003_jpg.rf.2d4c8e026abf14f9d7477dcb2be176b8.jpg  \n",
            "  inflating: +_281_640_640_label_accident.v2i.yolov7pytorch/train/images/traffic_img1765_jpg.rf.a0c2d3ccd3a5963d2647c2436dc7de10.jpg  \n",
            "  inflating: __MACOSX/+_281_640_640_label_accident.v2i.yolov7pytorch/train/images/._traffic_img1765_jpg.rf.a0c2d3ccd3a5963d2647c2436dc7de10.jpg  \n",
            "  inflating: +_281_640_640_label_accident.v2i.yolov7pytorch/train/images/IMG_2418_PNG_jpg.rf.05a7a899ad40af1fe2de51d5fc9519de.jpg  \n",
            "  inflating: __MACOSX/+_281_640_640_label_accident.v2i.yolov7pytorch/train/images/._IMG_2418_PNG_jpg.rf.05a7a899ad40af1fe2de51d5fc9519de.jpg  \n",
            "  inflating: +_281_640_640_label_accident.v2i.yolov7pytorch/train/images/traffic_img757_jpg.rf.9166e997fb1d21678dca8545ef0a3c1e.jpg  \n",
            "  inflating: __MACOSX/+_281_640_640_label_accident.v2i.yolov7pytorch/train/images/._traffic_img757_jpg.rf.9166e997fb1d21678dca8545ef0a3c1e.jpg  \n",
            "  inflating: +_281_640_640_label_accident.v2i.yolov7pytorch/train/images/Unknown_jpeg_jpg.rf.9b85ca57ca590f6cf1692b5e2c7bf606.jpg  \n",
            "  inflating: __MACOSX/+_281_640_640_label_accident.v2i.yolov7pytorch/train/images/._Unknown_jpeg_jpg.rf.9b85ca57ca590f6cf1692b5e2c7bf606.jpg  \n",
            "  inflating: +_281_640_640_label_accident.v2i.yolov7pytorch/train/images/accidentFrame404_jpg.rf.aa4de41bb8e1eff7f3fbdaf1062bcbfe.jpg  \n",
            "  inflating: __MACOSX/+_281_640_640_label_accident.v2i.yolov7pytorch/train/images/._accidentFrame404_jpg.rf.aa4de41bb8e1eff7f3fbdaf1062bcbfe.jpg  \n",
            "  inflating: +_281_640_640_label_accident.v2i.yolov7pytorch/train/images/SEV_V8_Img_135_jpg.rf.67eda9f591b2f0cc115e1cdfdac48014.jpg  \n",
            "  inflating: __MACOSX/+_281_640_640_label_accident.v2i.yolov7pytorch/train/images/._SEV_V8_Img_135_jpg.rf.67eda9f591b2f0cc115e1cdfdac48014.jpg  \n",
            "  inflating: +_281_640_640_label_accident.v2i.yolov7pytorch/train/images/Screen-Shot-2022-04-08-at-1-48-56-AM_png_jpg.rf.96219cfd0cf874658771bebbf4931dff.jpg  \n",
            "  inflating: __MACOSX/+_281_640_640_label_accident.v2i.yolov7pytorch/train/images/._Screen-Shot-2022-04-08-at-1-48-56-AM_png_jpg.rf.96219cfd0cf874658771bebbf4931dff.jpg  \n",
            "  inflating: +_281_640_640_label_accident.v2i.yolov7pytorch/train/images/Bus-Truck-Crashes-10-BeamNG-Drive_i_frame_9032_jpg.rf.b180a03f523e096e8e32a3b40762d5ca.jpg  \n",
            "  inflating: __MACOSX/+_281_640_640_label_accident.v2i.yolov7pytorch/train/images/._Bus-Truck-Crashes-10-BeamNG-Drive_i_frame_9032_jpg.rf.b180a03f523e096e8e32a3b40762d5ca.jpg  \n",
            "  inflating: +_281_640_640_label_accident.v2i.yolov7pytorch/train/images/Semi-RealisticVD-199_jpg.rf.991c0cfa1e3264e82d50dea4ad660bbb.jpg  \n",
            "  inflating: __MACOSX/+_281_640_640_label_accident.v2i.yolov7pytorch/train/images/._Semi-RealisticVD-199_jpg.rf.991c0cfa1e3264e82d50dea4ad660bbb.jpg  \n",
            "  inflating: +_281_640_640_label_accident.v2i.yolov7pytorch/train/images/test29_8_jpg.rf.dcf404503eab96dfd154a88e62567a37.jpg  \n",
            "  inflating: __MACOSX/+_281_640_640_label_accident.v2i.yolov7pytorch/train/images/._test29_8_jpg.rf.dcf404503eab96dfd154a88e62567a37.jpg  \n",
            "  inflating: +_281_640_640_label_accident.v2i.yolov7pytorch/train/images/Screen-Shot-2022-04-07-at-8-36-02-AM_png_jpg.rf.b9f3d0f0da76ae77902e6d758763995d.jpg  \n",
            "  inflating: __MACOSX/+_281_640_640_label_accident.v2i.yolov7pytorch/train/images/._Screen-Shot-2022-04-07-at-8-36-02-AM_png_jpg.rf.b9f3d0f0da76ae77902e6d758763995d.jpg  \n",
            "  inflating: +_281_640_640_label_accident.v2i.yolov7pytorch/train/images/traffic_img954_jpg.rf.44356e7071c3544d474e75237e3ace67.jpg  \n",
            "  inflating: __MACOSX/+_281_640_640_label_accident.v2i.yolov7pytorch/train/images/._traffic_img954_jpg.rf.44356e7071c3544d474e75237e3ace67.jpg  \n",
            "  inflating: +_281_640_640_label_accident.v2i.yolov7pytorch/train/images/traffic_img922_jpg.rf.50533c6021e778f4274a1b93b768e8e1.jpg  \n",
            "  inflating: __MACOSX/+_281_640_640_label_accident.v2i.yolov7pytorch/train/images/._traffic_img922_jpg.rf.50533c6021e778f4274a1b93b768e8e1.jpg  \n",
            "  inflating: +_281_640_640_label_accident.v2i.yolov7pytorch/train/images/severityV4_92_jpg.rf.2f45d8f489da37a353bef2d5f306b714.jpg  \n",
            "  inflating: __MACOSX/+_281_640_640_label_accident.v2i.yolov7pytorch/train/images/._severityV4_92_jpg.rf.2f45d8f489da37a353bef2d5f306b714.jpg  \n",
            "  inflating: +_281_640_640_label_accident.v2i.yolov7pytorch/train/images/trafficseverity_img958_jpg.rf.88644115e15d2ab4b1a4effc4935d86b.jpg  \n",
            "  inflating: __MACOSX/+_281_640_640_label_accident.v2i.yolov7pytorch/train/images/._trafficseverity_img958_jpg.rf.88644115e15d2ab4b1a4effc4935d86b.jpg  \n",
            "  inflating: +_281_640_640_label_accident.v2i.yolov7pytorch/train/images/accidentFrame9176_jpg.rf.3d249c0e4c27a4abf2be9dbe8948d441.jpg  \n",
            "  inflating: __MACOSX/+_281_640_640_label_accident.v2i.yolov7pytorch/train/images/._accidentFrame9176_jpg.rf.3d249c0e4c27a4abf2be9dbe8948d441.jpg  \n",
            "  inflating: +_281_640_640_label_accident.v2i.yolov7pytorch/train/images/SEEEEVERITY_106_jpg.rf.d5d228e0c6134a5a5cb536550cdee43d.jpg  \n",
            "  inflating: __MACOSX/+_281_640_640_label_accident.v2i.yolov7pytorch/train/images/._SEEEEVERITY_106_jpg.rf.d5d228e0c6134a5a5cb536550cdee43d.jpg  \n",
            "  inflating: +_281_640_640_label_accident.v2i.yolov7pytorch/train/images/SEVERITY_V13_10_jpg.rf.ba6fa07fe221351455640712a0e35bb0.jpg  \n",
            "  inflating: __MACOSX/+_281_640_640_label_accident.v2i.yolov7pytorch/train/images/._SEVERITY_V13_10_jpg.rf.ba6fa07fe221351455640712a0e35bb0.jpg  \n",
            "  inflating: +_281_640_640_label_accident.v2i.yolov7pytorch/train/images/SEV_22_493_jpg.rf.67389136d16c4c29c83014719d723c66.jpg  \n",
            "  inflating: __MACOSX/+_281_640_640_label_accident.v2i.yolov7pytorch/train/images/._SEV_22_493_jpg.rf.67389136d16c4c29c83014719d723c66.jpg  \n",
            "  inflating: +_281_640_640_label_accident.v2i.yolov7pytorch/train/images/SEVERITY_V10_98_jpg.rf.6fc858f7ca00543662942c56e6eeaff3.jpg  \n",
            "  inflating: __MACOSX/+_281_640_640_label_accident.v2i.yolov7pytorch/train/images/._SEVERITY_V10_98_jpg.rf.6fc858f7ca00543662942c56e6eeaff3.jpg  \n",
            "  inflating: +_281_640_640_label_accident.v2i.yolov7pytorch/train/images/STOPLIGHTACCIDENT_23537686-640x400_jpg.rf.7ab511a2b45dd7964b6024d096cb260a.jpg  \n",
            "  inflating: __MACOSX/+_281_640_640_label_accident.v2i.yolov7pytorch/train/images/._STOPLIGHTACCIDENT_23537686-640x400_jpg.rf.7ab511a2b45dd7964b6024d096cb260a.jpg  \n",
            "  inflating: +_281_640_640_label_accident.v2i.yolov7pytorch/train/images/test12_19_jpg.rf.550d74adcb1c249e327d2ca3e9d472c3.jpg  \n",
            "  inflating: __MACOSX/+_281_640_640_label_accident.v2i.yolov7pytorch/train/images/._test12_19_jpg.rf.550d74adcb1c249e327d2ca3e9d472c3.jpg  \n",
            "  inflating: +_281_640_640_label_accident.v2i.yolov7pytorch/train/images/testjndjnd_jpg.rf.5d25a8a8fa1c97f4293697933e786bf5.jpg  \n",
            "  inflating: __MACOSX/+_281_640_640_label_accident.v2i.yolov7pytorch/train/images/._testjndjnd_jpg.rf.5d25a8a8fa1c97f4293697933e786bf5.jpg  \n",
            "  inflating: +_281_640_640_label_accident.v2i.yolov7pytorch/train/images/images-2020-08-13T214339-354_jpg.rf.91e0239618cc013d3c848df4004546ee.jpg  \n",
            "  inflating: __MACOSX/+_281_640_640_label_accident.v2i.yolov7pytorch/train/images/._images-2020-08-13T214339-354_jpg.rf.91e0239618cc013d3c848df4004546ee.jpg  \n",
            "  inflating: +_281_640_640_label_accident.v2i.yolov7pytorch/train/images/severityV4_9_jpg.rf.006766df0e6dba364ff295e7b70e9940.jpg  \n",
            "  inflating: __MACOSX/+_281_640_640_label_accident.v2i.yolov7pytorch/train/images/._severityV4_9_jpg.rf.006766df0e6dba364ff295e7b70e9940.jpg  \n",
            "  inflating: +_281_640_640_label_accident.v2i.yolov7pytorch/train/images/tt2_png_jpg.rf.410878aedd27537ae5ffb12541ed9fc8.jpg  \n",
            "  inflating: __MACOSX/+_281_640_640_label_accident.v2i.yolov7pytorch/train/images/._tt2_png_jpg.rf.410878aedd27537ae5ffb12541ed9fc8.jpg  \n",
            "  inflating: +_281_640_640_label_accident.v2i.yolov7pytorch/train/images/accidentFrame4759_jpg.rf.0b54e6d56d753badfa4c8e64a305d582.jpg  \n",
            "  inflating: __MACOSX/+_281_640_640_label_accident.v2i.yolov7pytorch/train/images/._accidentFrame4759_jpg.rf.0b54e6d56d753badfa4c8e64a305d582.jpg  \n",
            "  inflating: +_281_640_640_label_accident.v2i.yolov7pytorch/train/images/IMG_1605_PNG_jpg.rf.bdaed8b343442addfb4b0fa564692d47.jpg  \n",
            "  inflating: __MACOSX/+_281_640_640_label_accident.v2i.yolov7pytorch/train/images/._IMG_1605_PNG_jpg.rf.bdaed8b343442addfb4b0fa564692d47.jpg  \n",
            "  inflating: +_281_640_640_label_accident.v2i.yolov7pytorch/train/images/images-2_jpg.rf.817cbe17a4fec5199cec862faec8be00.jpg  \n",
            "  inflating: __MACOSX/+_281_640_640_label_accident.v2i.yolov7pytorch/train/images/._images-2_jpg.rf.817cbe17a4fec5199cec862faec8be00.jpg  \n",
            "  inflating: +_281_640_640_label_accident.v2i.yolov7pytorch/train/images/SEVERITY_V10_49_jpg.rf.3da61fc91c047ee579edf4145b06285d.jpg  \n",
            "  inflating: __MACOSX/+_281_640_640_label_accident.v2i.yolov7pytorch/train/images/._SEVERITY_V10_49_jpg.rf.3da61fc91c047ee579edf4145b06285d.jpg  \n",
            "  inflating: +_281_640_640_label_accident.v2i.yolov7pytorch/train/images/traffic_img4619_jpg.rf.213fa3e4df85370a9103064f2b8fb0a2.jpg  \n",
            "  inflating: __MACOSX/+_281_640_640_label_accident.v2i.yolov7pytorch/train/images/._traffic_img4619_jpg.rf.213fa3e4df85370a9103064f2b8fb0a2.jpg  \n",
            "  inflating: +_281_640_640_label_accident.v2i.yolov7pytorch/train/images/SEV_22_2858_jpg.rf.79a2aa1ae55ed77560bbeadeb8d08279.jpg  \n",
            "  inflating: __MACOSX/+_281_640_640_label_accident.v2i.yolov7pytorch/train/images/._SEV_22_2858_jpg.rf.79a2aa1ae55ed77560bbeadeb8d08279.jpg  \n",
            "  inflating: +_281_640_640_label_accident.v2i.yolov7pytorch/train/images/severityV4_87_jpg.rf.2915e986fdf5cfef2b76404d654d01e3.jpg  \n",
            "  inflating: __MACOSX/+_281_640_640_label_accident.v2i.yolov7pytorch/train/images/._severityV4_87_jpg.rf.2915e986fdf5cfef2b76404d654d01e3.jpg  \n",
            "  inflating: +_281_640_640_label_accident.v2i.yolov7pytorch/train/images/SEVERITY_V10_101_jpg.rf.0f58a49db26a742329da0b13e06f9ccc.jpg  \n",
            "  inflating: __MACOSX/+_281_640_640_label_accident.v2i.yolov7pytorch/train/images/._SEVERITY_V10_101_jpg.rf.0f58a49db26a742329da0b13e06f9ccc.jpg  \n",
            "  inflating: +_281_640_640_label_accident.v2i.yolov7pytorch/train/images/severityV3_9_jpeg_jpg.rf.6ef425dec5cf360b7ca7183a9ba25a14.jpg  \n",
            "  inflating: __MACOSX/+_281_640_640_label_accident.v2i.yolov7pytorch/train/images/._severityV3_9_jpeg_jpg.rf.6ef425dec5cf360b7ca7183a9ba25a14.jpg  \n",
            "  inflating: +_281_640_640_label_accident.v2i.yolov7pytorch/train/images/trafficseverity_img1004_jpg.rf.cbfe92e8a01196430ee1122df969dcb4.jpg  \n",
            "  inflating: __MACOSX/+_281_640_640_label_accident.v2i.yolov7pytorch/train/images/._trafficseverity_img1004_jpg.rf.cbfe92e8a01196430ee1122df969dcb4.jpg  \n",
            "  inflating: +_281_640_640_label_accident.v2i.yolov7pytorch/train/images/trafficseverity_img408_jpg.rf.95445ddb22c51f1894b1a647184497ca.jpg  \n",
            "  inflating: __MACOSX/+_281_640_640_label_accident.v2i.yolov7pytorch/train/images/._trafficseverity_img408_jpg.rf.95445ddb22c51f1894b1a647184497ca.jpg  \n",
            "  inflating: +_281_640_640_label_accident.v2i.yolov7pytorch/train/images/severityV4_16_jpg.rf.5cb9c5eeff506eeaa52633950ec29ab2.jpg  \n",
            "  inflating: __MACOSX/+_281_640_640_label_accident.v2i.yolov7pytorch/train/images/._severityV4_16_jpg.rf.5cb9c5eeff506eeaa52633950ec29ab2.jpg  \n",
            "  inflating: +_281_640_640_label_accident.v2i.yolov7pytorch/train/images/Screen-Shot-2022-04-07-at-8-08-56-PM_png_jpg.rf.533a5ec06f9b87c27173985e1c74a014.jpg  \n",
            "  inflating: __MACOSX/+_281_640_640_label_accident.v2i.yolov7pytorch/train/images/._Screen-Shot-2022-04-07-at-8-08-56-PM_png_jpg.rf.533a5ec06f9b87c27173985e1c74a014.jpg  \n",
            "  inflating: +_281_640_640_label_accident.v2i.yolov7pytorch/train/images/Semi-RealisticVD-180_jpg.rf.edfb001185724987feb12667e60b01b5.jpg  \n",
            "  inflating: __MACOSX/+_281_640_640_label_accident.v2i.yolov7pytorch/train/images/._Semi-RealisticVD-180_jpg.rf.edfb001185724987feb12667e60b01b5.jpg  \n",
            "  inflating: +_281_640_640_label_accident.v2i.yolov7pytorch/train/images/traffic_img1301_jpg.rf.ff864df77bdb21ec915afd2e2b9bd240.jpg  \n",
            "  inflating: __MACOSX/+_281_640_640_label_accident.v2i.yolov7pytorch/train/images/._traffic_img1301_jpg.rf.ff864df77bdb21ec915afd2e2b9bd240.jpg  \n",
            "  inflating: +_281_640_640_label_accident.v2i.yolov7pytorch/train/images/traffic_img378_jpg.rf.4332563e193c1794e6b5bfed38017e4a.jpg  \n",
            "  inflating: __MACOSX/+_281_640_640_label_accident.v2i.yolov7pytorch/train/images/._traffic_img378_jpg.rf.4332563e193c1794e6b5bfed38017e4a.jpg  \n",
            "  inflating: +_281_640_640_label_accident.v2i.yolov7pytorch/train/images/trafficseverity_img2960_jpg.rf.3f71a6b615232eaffacdc6ef9ee2a60f.jpg  \n",
            "  inflating: __MACOSX/+_281_640_640_label_accident.v2i.yolov7pytorch/train/images/._trafficseverity_img2960_jpg.rf.3f71a6b615232eaffacdc6ef9ee2a60f.jpg  \n",
            "  inflating: +_281_640_640_label_accident.v2i.yolov7pytorch/train/images/traffic_img202_jpg.rf.11145bfd8d2a7ec6543a7064f8408862.jpg  \n",
            "  inflating: __MACOSX/+_281_640_640_label_accident.v2i.yolov7pytorch/train/images/._traffic_img202_jpg.rf.11145bfd8d2a7ec6543a7064f8408862.jpg  \n",
            "  inflating: +_281_640_640_label_accident.v2i.yolov7pytorch/train/images/accidentFrame954_jpg.rf.459ecfd1e7a385ecebce1e5f7ab08712.jpg  \n",
            "  inflating: __MACOSX/+_281_640_640_label_accident.v2i.yolov7pytorch/train/images/._accidentFrame954_jpg.rf.459ecfd1e7a385ecebce1e5f7ab08712.jpg  \n",
            "  inflating: +_281_640_640_label_accident.v2i.yolov7pytorch/train/images/trafficseverity_img3094_jpg.rf.6c2960b06d443bfc00758c30054a4578.jpg  \n",
            "  inflating: __MACOSX/+_281_640_640_label_accident.v2i.yolov7pytorch/train/images/._trafficseverity_img3094_jpg.rf.6c2960b06d443bfc00758c30054a4578.jpg  \n",
            "  inflating: +_281_640_640_label_accident.v2i.yolov7pytorch/train/images/SEEEEVERITY_51_jpg.rf.ae84ecf7bd404d4f0be10d85aee78b39.jpg  \n",
            "  inflating: __MACOSX/+_281_640_640_label_accident.v2i.yolov7pytorch/train/images/._SEEEEVERITY_51_jpg.rf.ae84ecf7bd404d4f0be10d85aee78b39.jpg  \n",
            "  inflating: +_281_640_640_label_accident.v2i.yolov7pytorch/train/images/accidentFrame928_jpg.rf.f50d6e88fd12010ad4591727f8e6506f.jpg  \n",
            "  inflating: __MACOSX/+_281_640_640_label_accident.v2i.yolov7pytorch/train/images/._accidentFrame928_jpg.rf.f50d6e88fd12010ad4591727f8e6506f.jpg  \n",
            "  inflating: +_281_640_640_label_accident.v2i.yolov7pytorch/train/images/buy1_jpg.rf.be9b3896e36932ba75ca57bd0adce4ae.jpg  \n",
            "  inflating: __MACOSX/+_281_640_640_label_accident.v2i.yolov7pytorch/train/images/._buy1_jpg.rf.be9b3896e36932ba75ca57bd0adce4ae.jpg  \n",
            "  inflating: +_281_640_640_label_accident.v2i.yolov7pytorch/train/images/SEV_22_2175_jpg.rf.88d7c755c496995ab648e5ed7f9c722e.jpg  \n",
            "  inflating: __MACOSX/+_281_640_640_label_accident.v2i.yolov7pytorch/train/images/._SEV_22_2175_jpg.rf.88d7c755c496995ab648e5ed7f9c722e.jpg  \n",
            "  inflating: +_281_640_640_label_accident.v2i.yolov7pytorch/train/images/traffic_img993_jpg.rf.ce44ac055b089d2615c1e62fdd0ec505.jpg  \n",
            "  inflating: __MACOSX/+_281_640_640_label_accident.v2i.yolov7pytorch/train/images/._traffic_img993_jpg.rf.ce44ac055b089d2615c1e62fdd0ec505.jpg  \n",
            "  inflating: +_281_640_640_label_accident.v2i.yolov7pytorch/train/images/traffic_img4367_jpg.rf.bbcfbc137e2cf10bb6a4aae965c08f6c.jpg  \n",
            "  inflating: __MACOSX/+_281_640_640_label_accident.v2i.yolov7pytorch/train/images/._traffic_img4367_jpg.rf.bbcfbc137e2cf10bb6a4aae965c08f6c.jpg  \n",
            "  inflating: +_281_640_640_label_accident.v2i.yolov7pytorch/train/images/Semi-RealisticVD-19_jpg.rf.153ed0fe8442623d0dfd3bd95273ffc4.jpg  \n",
            "  inflating: __MACOSX/+_281_640_640_label_accident.v2i.yolov7pytorch/train/images/._Semi-RealisticVD-19_jpg.rf.153ed0fe8442623d0dfd3bd95273ffc4.jpg  \n",
            "  inflating: +_281_640_640_label_accident.v2i.yolov7pytorch/train/images/test15_5_jpg.rf.2fb997e6927e1c2ec3bc8ab2010d966a.jpg  \n",
            "  inflating: __MACOSX/+_281_640_640_label_accident.v2i.yolov7pytorch/train/images/._test15_5_jpg.rf.2fb997e6927e1c2ec3bc8ab2010d966a.jpg  \n",
            "  inflating: +_281_640_640_label_accident.v2i.yolov7pytorch/train/images/images-20_jpg.rf.bb81e190ba01d001c4ab46b8577c8b12.jpg  \n",
            "  inflating: __MACOSX/+_281_640_640_label_accident.v2i.yolov7pytorch/train/images/._images-20_jpg.rf.bb81e190ba01d001c4ab46b8577c8b12.jpg  \n",
            "  inflating: +_281_640_640_label_accident.v2i.yolov7pytorch/train/images/accidentFrame2731_jpg.rf.ba16b1ea621f498ccc88c8c7ff0c724f.jpg  \n",
            "  inflating: __MACOSX/+_281_640_640_label_accident.v2i.yolov7pytorch/train/images/._accidentFrame2731_jpg.rf.ba16b1ea621f498ccc88c8c7ff0c724f.jpg  \n",
            "  inflating: +_281_640_640_label_accident.v2i.yolov7pytorch/train/images/SEV_22_3451_jpg.rf.df24666ea4cc87c86054c9082f694550.jpg  \n",
            "  inflating: __MACOSX/+_281_640_640_label_accident.v2i.yolov7pytorch/train/images/._SEV_22_3451_jpg.rf.df24666ea4cc87c86054c9082f694550.jpg  \n",
            "  inflating: +_281_640_640_label_accident.v2i.yolov7pytorch/train/images/trafficseverity_img2190_jpg.rf.a3ce0d76a52bb8371b92114cda4db044.jpg  \n",
            "  inflating: __MACOSX/+_281_640_640_label_accident.v2i.yolov7pytorch/train/images/._trafficseverity_img2190_jpg.rf.a3ce0d76a52bb8371b92114cda4db044.jpg  \n",
            "  inflating: +_281_640_640_label_accident.v2i.yolov7pytorch/train/images/Semi-RealisticVD-74_jpg.rf.642db3d109ec368a5aa98b91d333a13b.jpg  \n",
            "  inflating: __MACOSX/+_281_640_640_label_accident.v2i.yolov7pytorch/train/images/._Semi-RealisticVD-74_jpg.rf.642db3d109ec368a5aa98b91d333a13b.jpg  \n",
            "  inflating: +_281_640_640_label_accident.v2i.yolov7pytorch/train/images/traffic_img49_jpg.rf.0dfd142035e72e9f3d64967888491ff0.jpg  \n",
            "  inflating: __MACOSX/+_281_640_640_label_accident.v2i.yolov7pytorch/train/images/._traffic_img49_jpg.rf.0dfd142035e72e9f3d64967888491ff0.jpg  \n",
            "  inflating: +_281_640_640_label_accident.v2i.yolov7pytorch/train/images/severityV4_13_jpg.rf.44a7505f0b9171d32c1bc73356b34fbc.jpg  \n",
            "  inflating: __MACOSX/+_281_640_640_label_accident.v2i.yolov7pytorch/train/images/._severityV4_13_jpg.rf.44a7505f0b9171d32c1bc73356b34fbc.jpg  \n",
            "  inflating: +_281_640_640_label_accident.v2i.yolov7pytorch/train/labels/accidentFrame269_jpg.rf.5e6a108df0feb5a159cbfae4d18bb0ba.txt  \n",
            "  inflating: __MACOSX/+_281_640_640_label_accident.v2i.yolov7pytorch/train/labels/._accidentFrame269_jpg.rf.5e6a108df0feb5a159cbfae4d18bb0ba.txt  \n",
            "  inflating: +_281_640_640_label_accident.v2i.yolov7pytorch/train/labels/FLIP_CAR_V120_jpg.rf.ed6441da0316de496541f88692bdafdc.txt  \n",
            "  inflating: __MACOSX/+_281_640_640_label_accident.v2i.yolov7pytorch/train/labels/._FLIP_CAR_V120_jpg.rf.ed6441da0316de496541f88692bdafdc.txt  \n",
            "  inflating: +_281_640_640_label_accident.v2i.yolov7pytorch/train/labels/traffic_img558_jpg.rf.cbb9ca934398cd7c5ea0044e9a6aa585.txt  \n",
            "  inflating: __MACOSX/+_281_640_640_label_accident.v2i.yolov7pytorch/train/labels/._traffic_img558_jpg.rf.cbb9ca934398cd7c5ea0044e9a6aa585.txt  \n",
            "  inflating: +_281_640_640_label_accident.v2i.yolov7pytorch/train/labels/793_jpeg_jpg.rf.4fe9c553b39f09842de1f88584503924.txt  \n",
            "  inflating: __MACOSX/+_281_640_640_label_accident.v2i.yolov7pytorch/train/labels/._793_jpeg_jpg.rf.4fe9c553b39f09842de1f88584503924.txt  \n",
            "  inflating: +_281_640_640_label_accident.v2i.yolov7pytorch/train/labels/download_jpg.rf.fe95bb4b5a255b6fbb470bfd797a318d.txt  \n",
            "  inflating: __MACOSX/+_281_640_640_label_accident.v2i.yolov7pytorch/train/labels/._download_jpg.rf.fe95bb4b5a255b6fbb470bfd797a318d.txt  \n",
            "  inflating: +_281_640_640_label_accident.v2i.yolov7pytorch/train/labels/traffic_img398_jpg.rf.57cc3ce5c35cd921ef78c2836144690a.txt  \n",
            "  inflating: __MACOSX/+_281_640_640_label_accident.v2i.yolov7pytorch/train/labels/._traffic_img398_jpg.rf.57cc3ce5c35cd921ef78c2836144690a.txt  \n",
            "  inflating: +_281_640_640_label_accident.v2i.yolov7pytorch/train/labels/IMG_2601_PNG_jpg.rf.416a7c47172aa28efff19becc3f5e0da.txt  \n",
            "  inflating: __MACOSX/+_281_640_640_label_accident.v2i.yolov7pytorch/train/labels/._IMG_2601_PNG_jpg.rf.416a7c47172aa28efff19becc3f5e0da.txt  \n",
            "  inflating: +_281_640_640_label_accident.v2i.yolov7pytorch/train/labels/trafficseverity_img599_jpg.rf.01f110e51abee680c8d83ce60ebedf99.txt  \n",
            "  inflating: __MACOSX/+_281_640_640_label_accident.v2i.yolov7pytorch/train/labels/._trafficseverity_img599_jpg.rf.01f110e51abee680c8d83ce60ebedf99.txt  \n",
            "  inflating: +_281_640_640_label_accident.v2i.yolov7pytorch/train/labels/trafficseverity_img125_jpg.rf.cb88e8795f922160483bb14ad5d9c07c.txt  \n",
            "  inflating: __MACOSX/+_281_640_640_label_accident.v2i.yolov7pytorch/train/labels/._trafficseverity_img125_jpg.rf.cb88e8795f922160483bb14ad5d9c07c.txt  \n",
            "  inflating: +_281_640_640_label_accident.v2i.yolov7pytorch/train/labels/FLIP_CAR_V170_jpg.rf.a19a6a21814efc843c50266fccb5b6e6.txt  \n",
            "  inflating: __MACOSX/+_281_640_640_label_accident.v2i.yolov7pytorch/train/labels/._FLIP_CAR_V170_jpg.rf.a19a6a21814efc843c50266fccb5b6e6.txt  \n",
            "  inflating: +_281_640_640_label_accident.v2i.yolov7pytorch/train/labels/severityV4_44_jpg.rf.4a450d9442339e9a5e1ee8b82f0870f1.txt  \n",
            "  inflating: __MACOSX/+_281_640_640_label_accident.v2i.yolov7pytorch/train/labels/._severityV4_44_jpg.rf.4a450d9442339e9a5e1ee8b82f0870f1.txt  \n",
            "  inflating: +_281_640_640_label_accident.v2i.yolov7pytorch/train/labels/trafficseverity_img3054_jpg.rf.0b86cdac5f72348dc2f36eb2f43f591a.txt  \n",
            "  inflating: __MACOSX/+_281_640_640_label_accident.v2i.yolov7pytorch/train/labels/._trafficseverity_img3054_jpg.rf.0b86cdac5f72348dc2f36eb2f43f591a.txt  \n",
            "  inflating: +_281_640_640_label_accident.v2i.yolov7pytorch/train/labels/traffic_img1031_jpg.rf.4bdb445717c6353d0a09ac3e0a92272a.txt  \n",
            "  inflating: __MACOSX/+_281_640_640_label_accident.v2i.yolov7pytorch/train/labels/._traffic_img1031_jpg.rf.4bdb445717c6353d0a09ac3e0a92272a.txt  \n",
            "  inflating: +_281_640_640_label_accident.v2i.yolov7pytorch/train/labels/argusAcc342_jpg.rf.481abfd5d38b9cdfa82921179a9a7089.txt  \n",
            "  inflating: __MACOSX/+_281_640_640_label_accident.v2i.yolov7pytorch/train/labels/._argusAcc342_jpg.rf.481abfd5d38b9cdfa82921179a9a7089.txt  \n",
            "  inflating: +_281_640_640_label_accident.v2i.yolov7pytorch/train/labels/traffic_img23_jpg.rf.46e9e87df48e9420c442358085fd0be6.txt  \n",
            "  inflating: __MACOSX/+_281_640_640_label_accident.v2i.yolov7pytorch/train/labels/._traffic_img23_jpg.rf.46e9e87df48e9420c442358085fd0be6.txt  \n",
            "  inflating: +_281_640_640_label_accident.v2i.yolov7pytorch/train/labels/images-9_jpg.rf.b89b18ebc3973c06ecb72d9f36d0291e.txt  \n",
            "  inflating: __MACOSX/+_281_640_640_label_accident.v2i.yolov7pytorch/train/labels/._images-9_jpg.rf.b89b18ebc3973c06ecb72d9f36d0291e.txt  \n",
            "  inflating: +_281_640_640_label_accident.v2i.yolov7pytorch/train/labels/Semi-RealisticVD-132_jpg.rf.c050dd69ad13a64f0d7cec7442e75134.txt  \n",
            "  inflating: __MACOSX/+_281_640_640_label_accident.v2i.yolov7pytorch/train/labels/._Semi-RealisticVD-132_jpg.rf.c050dd69ad13a64f0d7cec7442e75134.txt  \n",
            "  inflating: +_281_640_640_label_accident.v2i.yolov7pytorch/train/labels/trafficseverity_img1636_jpg.rf.551df08769a9e664ffd8c43aa5ec5ef9.txt  \n",
            "  inflating: __MACOSX/+_281_640_640_label_accident.v2i.yolov7pytorch/train/labels/._trafficseverity_img1636_jpg.rf.551df08769a9e664ffd8c43aa5ec5ef9.txt  \n",
            "  inflating: +_281_640_640_label_accident.v2i.yolov7pytorch/train/labels/Semi-RealisticVD-69_jpg.rf.058cd635e056dd216c8f90d7476fa3de.txt  \n",
            "  inflating: __MACOSX/+_281_640_640_label_accident.v2i.yolov7pytorch/train/labels/._Semi-RealisticVD-69_jpg.rf.058cd635e056dd216c8f90d7476fa3de.txt  \n",
            "  inflating: +_281_640_640_label_accident.v2i.yolov7pytorch/train/labels/SEEEEVERITY_154_jpg.rf.a36cb45d2f51e4b6509d22394240ab9f.txt  \n",
            "  inflating: __MACOSX/+_281_640_640_label_accident.v2i.yolov7pytorch/train/labels/._SEEEEVERITY_154_jpg.rf.a36cb45d2f51e4b6509d22394240ab9f.txt  \n",
            "  inflating: +_281_640_640_label_accident.v2i.yolov7pytorch/train/labels/Screen-Shot-2022-04-07-at-7-56-12-PM_png_jpg.rf.4d6ab0fbf139a069f34c2130b675b048.txt  \n",
            "  inflating: __MACOSX/+_281_640_640_label_accident.v2i.yolov7pytorch/train/labels/._Screen-Shot-2022-04-07-at-7-56-12-PM_png_jpg.rf.4d6ab0fbf139a069f34c2130b675b048.txt  \n",
            "  inflating: +_281_640_640_label_accident.v2i.yolov7pytorch/train/labels/download-13_jpg.rf.d4e18c35a06ab5ce8c8a4e552cd716e0.txt  \n",
            "  inflating: __MACOSX/+_281_640_640_label_accident.v2i.yolov7pytorch/train/labels/._download-13_jpg.rf.d4e18c35a06ab5ce8c8a4e552cd716e0.txt  \n",
            "  inflating: +_281_640_640_label_accident.v2i.yolov7pytorch/train/labels/Semi-RealisticVD-225_jpg.rf.f1e9217ff5cc09a9b85626557860ae4b.txt  \n",
            "  inflating: __MACOSX/+_281_640_640_label_accident.v2i.yolov7pytorch/train/labels/._Semi-RealisticVD-225_jpg.rf.f1e9217ff5cc09a9b85626557860ae4b.txt  \n",
            "  inflating: +_281_640_640_label_accident.v2i.yolov7pytorch/train/labels/accidentFrame262_jpg.rf.ca956068acfded0753e1d661ebe36a0a.txt  \n",
            "  inflating: __MACOSX/+_281_640_640_label_accident.v2i.yolov7pytorch/train/labels/._accidentFrame262_jpg.rf.ca956068acfded0753e1d661ebe36a0a.txt  \n",
            "  inflating: +_281_640_640_label_accident.v2i.yolov7pytorch/train/labels/SEVERITY_V10_22_jpg.rf.9f6a14c298022e9d486feba08ff0cbb8.txt  \n",
            "  inflating: __MACOSX/+_281_640_640_label_accident.v2i.yolov7pytorch/train/labels/._SEVERITY_V10_22_jpg.rf.9f6a14c298022e9d486feba08ff0cbb8.txt  \n",
            "  inflating: +_281_640_640_label_accident.v2i.yolov7pytorch/train/labels/IMG_2257_PNG_jpg.rf.de140a8ca7e5951dffa74d974f3fd03b.txt  \n",
            "  inflating: __MACOSX/+_281_640_640_label_accident.v2i.yolov7pytorch/train/labels/._IMG_2257_PNG_jpg.rf.de140a8ca7e5951dffa74d974f3fd03b.txt  \n",
            "  inflating: +_281_640_640_label_accident.v2i.yolov7pytorch/train/labels/images-8_jpg.rf.380e98936a1fc0ddb98827197c10b2da.txt  \n",
            "  inflating: __MACOSX/+_281_640_640_label_accident.v2i.yolov7pytorch/train/labels/._images-8_jpg.rf.380e98936a1fc0ddb98827197c10b2da.txt  \n",
            "  inflating: +_281_640_640_label_accident.v2i.yolov7pytorch/train/labels/test13_13_jpg.rf.e33c93b60f6cb147cd0b7114f5f5519c.txt  \n",
            "  inflating: __MACOSX/+_281_640_640_label_accident.v2i.yolov7pytorch/train/labels/._test13_13_jpg.rf.e33c93b60f6cb147cd0b7114f5f5519c.txt  \n",
            "  inflating: +_281_640_640_label_accident.v2i.yolov7pytorch/train/labels/severityV4_74_jpg.rf.07ea6980576b009fbbd72324ff2051fe.txt  \n",
            "  inflating: __MACOSX/+_281_640_640_label_accident.v2i.yolov7pytorch/train/labels/._severityV4_74_jpg.rf.07ea6980576b009fbbd72324ff2051fe.txt  \n",
            "  inflating: +_281_640_640_label_accident.v2i.yolov7pytorch/train/labels/SEV_22_3774_jpg.rf.8725ffe893186b10ee3358f3609d62a5.txt  \n",
            "  inflating: __MACOSX/+_281_640_640_label_accident.v2i.yolov7pytorch/train/labels/._SEV_22_3774_jpg.rf.8725ffe893186b10ee3358f3609d62a5.txt  \n",
            "  inflating: +_281_640_640_label_accident.v2i.yolov7pytorch/train/labels/severityV4_86_jpg.rf.e5b051cd1104c9bda6fa159ae9605c74.txt  \n",
            "  inflating: __MACOSX/+_281_640_640_label_accident.v2i.yolov7pytorch/train/labels/._severityV4_86_jpg.rf.e5b051cd1104c9bda6fa159ae9605c74.txt  \n",
            "  inflating: +_281_640_640_label_accident.v2i.yolov7pytorch/train/labels/severityV4_6_jpg.rf.ee0cf46a617e10bdce38258532e6cea0.txt  \n",
            "  inflating: __MACOSX/+_281_640_640_label_accident.v2i.yolov7pytorch/train/labels/._severityV4_6_jpg.rf.ee0cf46a617e10bdce38258532e6cea0.txt  \n",
            "  inflating: +_281_640_640_label_accident.v2i.yolov7pytorch/train/labels/trafficseverity_img1131_jpg.rf.53691b8b633088f82e715e88e90bfcd2.txt  \n",
            "  inflating: __MACOSX/+_281_640_640_label_accident.v2i.yolov7pytorch/train/labels/._trafficseverity_img1131_jpg.rf.53691b8b633088f82e715e88e90bfcd2.txt  \n",
            "  inflating: +_281_640_640_label_accident.v2i.yolov7pytorch/train/labels/SEEEEVERITY_130_jpg.rf.266e172ac879eac9d47add092b19a648.txt  \n",
            "  inflating: __MACOSX/+_281_640_640_label_accident.v2i.yolov7pytorch/train/labels/._SEEEEVERITY_130_jpg.rf.266e172ac879eac9d47add092b19a648.txt  \n",
            "  inflating: +_281_640_640_label_accident.v2i.yolov7pytorch/train/labels/trafficseverity_img1038_jpg.rf.52df5270fa1cb3c4a4c15ec447374702.txt  \n",
            "  inflating: __MACOSX/+_281_640_640_label_accident.v2i.yolov7pytorch/train/labels/._trafficseverity_img1038_jpg.rf.52df5270fa1cb3c4a4c15ec447374702.txt  \n",
            "  inflating: +_281_640_640_label_accident.v2i.yolov7pytorch/train/labels/accidentFrame3957_jpg.rf.5447a1a8db5f2c66ac5ae70152676c81.txt  \n",
            "  inflating: __MACOSX/+_281_640_640_label_accident.v2i.yolov7pytorch/train/labels/._accidentFrame3957_jpg.rf.5447a1a8db5f2c66ac5ae70152676c81.txt  \n",
            "  inflating: +_281_640_640_label_accident.v2i.yolov7pytorch/train/labels/traffic_img3057_jpg.rf.fe63d811e1bfbe1c313af384b6e7ec93.txt  \n",
            "  inflating: __MACOSX/+_281_640_640_label_accident.v2i.yolov7pytorch/train/labels/._traffic_img3057_jpg.rf.fe63d811e1bfbe1c313af384b6e7ec93.txt  \n",
            "  inflating: +_281_640_640_label_accident.v2i.yolov7pytorch/train/labels/SEVERITY_V13_30_jpg.rf.1b83cc4a240d3a724234d53a412b87d1.txt  \n",
            "  inflating: __MACOSX/+_281_640_640_label_accident.v2i.yolov7pytorch/train/labels/._SEVERITY_V13_30_jpg.rf.1b83cc4a240d3a724234d53a412b87d1.txt  \n",
            "  inflating: +_281_640_640_label_accident.v2i.yolov7pytorch/train/labels/trafficseverity_img933_jpg.rf.7aa13d59bc37b00b7ac8c571e41f4706.txt  \n",
            "  inflating: __MACOSX/+_281_640_640_label_accident.v2i.yolov7pytorch/train/labels/._trafficseverity_img933_jpg.rf.7aa13d59bc37b00b7ac8c571e41f4706.txt  \n",
            "  inflating: +_281_640_640_label_accident.v2i.yolov7pytorch/train/labels/SEVERITY_V13_53_jpg.rf.5fa1f7eba2d10d76523456d51376078a.txt  \n",
            "  inflating: __MACOSX/+_281_640_640_label_accident.v2i.yolov7pytorch/train/labels/._SEVERITY_V13_53_jpg.rf.5fa1f7eba2d10d76523456d51376078a.txt  \n",
            "  inflating: +_281_640_640_label_accident.v2i.yolov7pytorch/train/labels/SEVERITY_DATA_86_jpg.rf.7d14fbd84e8724aeb06722a8b319a433.txt  \n",
            "  inflating: __MACOSX/+_281_640_640_label_accident.v2i.yolov7pytorch/train/labels/._SEVERITY_DATA_86_jpg.rf.7d14fbd84e8724aeb06722a8b319a433.txt  \n",
            "  inflating: +_281_640_640_label_accident.v2i.yolov7pytorch/train/labels/SEV_22_2807_jpg.rf.7ebbd696f25d171cc10687ae57902984.txt  \n",
            "  inflating: __MACOSX/+_281_640_640_label_accident.v2i.yolov7pytorch/train/labels/._SEV_22_2807_jpg.rf.7ebbd696f25d171cc10687ae57902984.txt  \n",
            "  inflating: +_281_640_640_label_accident.v2i.yolov7pytorch/train/labels/trafficseverity_img5572_jpg.rf.7b017e9fa3e4effe6961f7eaee93d4fa.txt  \n",
            "  inflating: __MACOSX/+_281_640_640_label_accident.v2i.yolov7pytorch/train/labels/._trafficseverity_img5572_jpg.rf.7b017e9fa3e4effe6961f7eaee93d4fa.txt  \n",
            "  inflating: +_281_640_640_label_accident.v2i.yolov7pytorch/train/labels/severityV4_34_jpg.rf.3e1cd0a9733fb6faf0fab33c322594d7.txt  \n",
            "  inflating: __MACOSX/+_281_640_640_label_accident.v2i.yolov7pytorch/train/labels/._severityV4_34_jpg.rf.3e1cd0a9733fb6faf0fab33c322594d7.txt  \n",
            "  inflating: +_281_640_640_label_accident.v2i.yolov7pytorch/train/labels/download-1_jpg.rf.48590a462003c8f9b7d6a988441b91b3.txt  \n",
            "  inflating: __MACOSX/+_281_640_640_label_accident.v2i.yolov7pytorch/train/labels/._download-1_jpg.rf.48590a462003c8f9b7d6a988441b91b3.txt  \n",
            "  inflating: +_281_640_640_label_accident.v2i.yolov7pytorch/train/labels/FLIP_CAR_V157_jpg.rf.208efdf36d96b8a235868aab3c6f2c4e.txt  \n",
            "  inflating: __MACOSX/+_281_640_640_label_accident.v2i.yolov7pytorch/train/labels/._FLIP_CAR_V157_jpg.rf.208efdf36d96b8a235868aab3c6f2c4e.txt  \n",
            "  inflating: +_281_640_640_label_accident.v2i.yolov7pytorch/train/labels/IMG_2437_PNG_jpg.rf.ead840c64085356dbcf1ddb0e6296ebe.txt  \n",
            "  inflating: __MACOSX/+_281_640_640_label_accident.v2i.yolov7pytorch/train/labels/._IMG_2437_PNG_jpg.rf.ead840c64085356dbcf1ddb0e6296ebe.txt  \n",
            "  inflating: +_281_640_640_label_accident.v2i.yolov7pytorch/train/labels/trafficseverity_img324_jpg.rf.c710f93d9c7a9bc4bf328594244092eb.txt  \n",
            "  inflating: __MACOSX/+_281_640_640_label_accident.v2i.yolov7pytorch/train/labels/._trafficseverity_img324_jpg.rf.c710f93d9c7a9bc4bf328594244092eb.txt  \n",
            "  inflating: +_281_640_640_label_accident.v2i.yolov7pytorch/train/labels/Semi-RealisticVD-41_jpg.rf.e24cb8dbbc40d1787512c7dd4a41a74d.txt  \n",
            "  inflating: __MACOSX/+_281_640_640_label_accident.v2i.yolov7pytorch/train/labels/._Semi-RealisticVD-41_jpg.rf.e24cb8dbbc40d1787512c7dd4a41a74d.txt  \n",
            "  inflating: +_281_640_640_label_accident.v2i.yolov7pytorch/train/labels/SEVERITY_V10_72_jpg.rf.6bc5891625fc7c092231d7f484175883.txt  \n",
            "  inflating: __MACOSX/+_281_640_640_label_accident.v2i.yolov7pytorch/train/labels/._SEVERITY_V10_72_jpg.rf.6bc5891625fc7c092231d7f484175883.txt  \n",
            "  inflating: +_281_640_640_label_accident.v2i.yolov7pytorch/train/labels/SEVERITY_V13_26_jpg.rf.6fb0ddaf60b3a0097546c13169c3e1f2.txt  \n",
            "  inflating: __MACOSX/+_281_640_640_label_accident.v2i.yolov7pytorch/train/labels/._SEVERITY_V13_26_jpg.rf.6fb0ddaf60b3a0097546c13169c3e1f2.txt  \n",
            "  inflating: +_281_640_640_label_accident.v2i.yolov7pytorch/train/labels/traffic_img341_jpg.rf.eeb7fcd9458bf0cb70ed9f0baa8aed07.txt  \n",
            "  inflating: __MACOSX/+_281_640_640_label_accident.v2i.yolov7pytorch/train/labels/._traffic_img341_jpg.rf.eeb7fcd9458bf0cb70ed9f0baa8aed07.txt  \n",
            "  inflating: +_281_640_640_label_accident.v2i.yolov7pytorch/train/labels/severityV4_99_jpg.rf.685e95bc6346cad2ae6ef8a88f9a7aa4.txt  \n",
            "  inflating: __MACOSX/+_281_640_640_label_accident.v2i.yolov7pytorch/train/labels/._severityV4_99_jpg.rf.685e95bc6346cad2ae6ef8a88f9a7aa4.txt  \n",
            "  inflating: +_281_640_640_label_accident.v2i.yolov7pytorch/train/labels/SEEEEVERITY_97_jpg.rf.37ed61a8986763539167bb00789f8c58.txt  \n",
            "  inflating: __MACOSX/+_281_640_640_label_accident.v2i.yolov7pytorch/train/labels/._SEEEEVERITY_97_jpg.rf.37ed61a8986763539167bb00789f8c58.txt  \n",
            "  inflating: +_281_640_640_label_accident.v2i.yolov7pytorch/train/labels/IMG_2153_JPG_jpg.rf.67af1a07e326df82b310e30b729e064f.txt  \n",
            "  inflating: __MACOSX/+_281_640_640_label_accident.v2i.yolov7pytorch/train/labels/._IMG_2153_JPG_jpg.rf.67af1a07e326df82b310e30b729e064f.txt  \n",
            "  inflating: +_281_640_640_label_accident.v2i.yolov7pytorch/train/labels/accidentFrame2378_jpg.rf.95f9837f9d9dff2faf6700abdc2747d1.txt  \n",
            "  inflating: __MACOSX/+_281_640_640_label_accident.v2i.yolov7pytorch/train/labels/._accidentFrame2378_jpg.rf.95f9837f9d9dff2faf6700abdc2747d1.txt  \n",
            "  inflating: +_281_640_640_label_accident.v2i.yolov7pytorch/train/labels/images-10_jpg.rf.6100446e03b24f92382258391833cb93.txt  \n",
            "  inflating: __MACOSX/+_281_640_640_label_accident.v2i.yolov7pytorch/train/labels/._images-10_jpg.rf.6100446e03b24f92382258391833cb93.txt  \n",
            "  inflating: +_281_640_640_label_accident.v2i.yolov7pytorch/train/labels/traffic_img337_jpg.rf.e3766cd412fa6311e3f7486136d7f819.txt  \n",
            "  inflating: __MACOSX/+_281_640_640_label_accident.v2i.yolov7pytorch/train/labels/._traffic_img337_jpg.rf.e3766cd412fa6311e3f7486136d7f819.txt  \n",
            "  inflating: +_281_640_640_label_accident.v2i.yolov7pytorch/train/labels/images-43_jpg.rf.1358f5de8aeedc8e04ce5d3dccca670d.txt  \n",
            "  inflating: __MACOSX/+_281_640_640_label_accident.v2i.yolov7pytorch/train/labels/._images-43_jpg.rf.1358f5de8aeedc8e04ce5d3dccca670d.txt  \n",
            "  inflating: +_281_640_640_label_accident.v2i.yolov7pytorch/train/labels/images-8_jpg.rf.8acb16f217be9a4a6bf70fed8b4ed778.txt  \n",
            "  inflating: __MACOSX/+_281_640_640_label_accident.v2i.yolov7pytorch/train/labels/._images-8_jpg.rf.8acb16f217be9a4a6bf70fed8b4ed778.txt  \n",
            "  inflating: +_281_640_640_label_accident.v2i.yolov7pytorch/train/labels/IMG_2429_PNG_jpg.rf.6efc15c5920bf1ce2e24d1c1bcf60134.txt  \n",
            "  inflating: __MACOSX/+_281_640_640_label_accident.v2i.yolov7pytorch/train/labels/._IMG_2429_PNG_jpg.rf.6efc15c5920bf1ce2e24d1c1bcf60134.txt  \n",
            "  inflating: +_281_640_640_label_accident.v2i.yolov7pytorch/train/labels/IMG_1614_PNG_jpg.rf.7658075f1070cd78d5b5580d246bedb1.txt  \n",
            "  inflating: __MACOSX/+_281_640_640_label_accident.v2i.yolov7pytorch/train/labels/._IMG_1614_PNG_jpg.rf.7658075f1070cd78d5b5580d246bedb1.txt  \n",
            "  inflating: +_281_640_640_label_accident.v2i.yolov7pytorch/train/labels/trafficseverity_img1040_jpg.rf.ecd9dc35581b9aaf923b3483fce5477e.txt  \n",
            "  inflating: __MACOSX/+_281_640_640_label_accident.v2i.yolov7pytorch/train/labels/._trafficseverity_img1040_jpg.rf.ecd9dc35581b9aaf923b3483fce5477e.txt  \n",
            "  inflating: +_281_640_640_label_accident.v2i.yolov7pytorch/train/labels/images-87-_jpeg_jpg.rf.4b0d1d9304487faf8dec087ec95904e1.txt  \n",
            "  inflating: __MACOSX/+_281_640_640_label_accident.v2i.yolov7pytorch/train/labels/._images-87-_jpeg_jpg.rf.4b0d1d9304487faf8dec087ec95904e1.txt  \n",
            "  inflating: +_281_640_640_label_accident.v2i.yolov7pytorch/train/labels/SEV_V8_Img_65_jpg.rf.3a1c03cd9280c080941db24d5ea04548.txt  \n",
            "  inflating: __MACOSX/+_281_640_640_label_accident.v2i.yolov7pytorch/train/labels/._SEV_V8_Img_65_jpg.rf.3a1c03cd9280c080941db24d5ea04548.txt  \n",
            "  inflating: +_281_640_640_label_accident.v2i.yolov7pytorch/train/labels/Semi-RealisticVD-26_jpg.rf.b379e77c3f051fb7031dcfefa2e049bd.txt  \n",
            "  inflating: __MACOSX/+_281_640_640_label_accident.v2i.yolov7pytorch/train/labels/._Semi-RealisticVD-26_jpg.rf.b379e77c3f051fb7031dcfefa2e049bd.txt  \n",
            "  inflating: +_281_640_640_label_accident.v2i.yolov7pytorch/train/labels/SEEEEVERITY_150_jpg.rf.d2e86373c0b7bff8398f39b033a08fe7.txt  \n",
            "  inflating: __MACOSX/+_281_640_640_label_accident.v2i.yolov7pytorch/train/labels/._SEEEEVERITY_150_jpg.rf.d2e86373c0b7bff8398f39b033a08fe7.txt  \n",
            "  inflating: +_281_640_640_label_accident.v2i.yolov7pytorch/train/labels/accidentFrame511_jpg.rf.a323166743ed910c9c44fa76d4cd0db5.txt  \n",
            "  inflating: __MACOSX/+_281_640_640_label_accident.v2i.yolov7pytorch/train/labels/._accidentFrame511_jpg.rf.a323166743ed910c9c44fa76d4cd0db5.txt  \n",
            "  inflating: +_281_640_640_label_accident.v2i.yolov7pytorch/train/labels/accidentFrame3421_jpg.rf.de38dfcb5a5ee4a76ff3bd1129d402a4.txt  \n",
            "  inflating: __MACOSX/+_281_640_640_label_accident.v2i.yolov7pytorch/train/labels/._accidentFrame3421_jpg.rf.de38dfcb5a5ee4a76ff3bd1129d402a4.txt  \n",
            "  inflating: +_281_640_640_label_accident.v2i.yolov7pytorch/train/labels/traffic_img533_jpg.rf.cebeffad869f2944bd8c45280801515f.txt  \n",
            "  inflating: __MACOSX/+_281_640_640_label_accident.v2i.yolov7pytorch/train/labels/._traffic_img533_jpg.rf.cebeffad869f2944bd8c45280801515f.txt  \n",
            "  inflating: +_281_640_640_label_accident.v2i.yolov7pytorch/train/labels/traffic_img3501_jpg.rf.390c54e1b98d146ecf3472a5b579a86d.txt  \n",
            "  inflating: __MACOSX/+_281_640_640_label_accident.v2i.yolov7pytorch/train/labels/._traffic_img3501_jpg.rf.390c54e1b98d146ecf3472a5b579a86d.txt  \n",
            "  inflating: +_281_640_640_label_accident.v2i.yolov7pytorch/train/labels/EXTREME-CAR-CRASH-1-HOUR-COMPILATION-BIGGEST-CAR-CRASHES-1_i_frame_105856_jpg.rf.71acd2143f7d7b953d1e3dbc9e6e5fbd.txt  \n",
            "  inflating: __MACOSX/+_281_640_640_label_accident.v2i.yolov7pytorch/train/labels/._EXTREME-CAR-CRASH-1-HOUR-COMPILATION-BIGGEST-CAR-CRASHES-1_i_frame_105856_jpg.rf.71acd2143f7d7b953d1e3dbc9e6e5fbd.txt  \n",
            "  inflating: +_281_640_640_label_accident.v2i.yolov7pytorch/train/labels/2-61_jpg.rf.6f87b351a77380a6ff8d3108329ac3e4.txt  \n",
            "  inflating: __MACOSX/+_281_640_640_label_accident.v2i.yolov7pytorch/train/labels/._2-61_jpg.rf.6f87b351a77380a6ff8d3108329ac3e4.txt  \n",
            "  inflating: +_281_640_640_label_accident.v2i.yolov7pytorch/train/labels/Semi-RealisticVD-146_jpg.rf.3fd5a3601a9718f9739160203a128b29.txt  \n",
            "  inflating: __MACOSX/+_281_640_640_label_accident.v2i.yolov7pytorch/train/labels/._Semi-RealisticVD-146_jpg.rf.3fd5a3601a9718f9739160203a128b29.txt  \n",
            "  inflating: +_281_640_640_label_accident.v2i.yolov7pytorch/train/labels/accidentFrame1196_jpg.rf.ebf77277df2358a6d255568bc80889e8.txt  \n",
            "  inflating: __MACOSX/+_281_640_640_label_accident.v2i.yolov7pytorch/train/labels/._accidentFrame1196_jpg.rf.ebf77277df2358a6d255568bc80889e8.txt  \n",
            "  inflating: +_281_640_640_label_accident.v2i.yolov7pytorch/train/labels/IMG_2128_JPG_jpg.rf.19eff20d877003473927b584f8e8f4b7.txt  \n",
            "  inflating: __MACOSX/+_281_640_640_label_accident.v2i.yolov7pytorch/train/labels/._IMG_2128_JPG_jpg.rf.19eff20d877003473927b584f8e8f4b7.txt  \n",
            "  inflating: +_281_640_640_label_accident.v2i.yolov7pytorch/train/labels/accidentFrame1159_jpg.rf.369533a6b577d302a1a0b8677da2e10e.txt  \n",
            "  inflating: __MACOSX/+_281_640_640_label_accident.v2i.yolov7pytorch/train/labels/._accidentFrame1159_jpg.rf.369533a6b577d302a1a0b8677da2e10e.txt  \n",
            "  inflating: +_281_640_640_label_accident.v2i.yolov7pytorch/train/labels/traffic_img2219_jpg.rf.7b8271b76597c21d99e72fa987b6a5ae.txt  \n",
            "  inflating: __MACOSX/+_281_640_640_label_accident.v2i.yolov7pytorch/train/labels/._traffic_img2219_jpg.rf.7b8271b76597c21d99e72fa987b6a5ae.txt  \n",
            "  inflating: +_281_640_640_label_accident.v2i.yolov7pytorch/train/labels/SEEEEVERITY_39_jpg.rf.ecbb3c5efcaa5e941d5cf590db070cfa.txt  \n",
            "  inflating: __MACOSX/+_281_640_640_label_accident.v2i.yolov7pytorch/train/labels/._SEEEEVERITY_39_jpg.rf.ecbb3c5efcaa5e941d5cf590db070cfa.txt  \n",
            "  inflating: +_281_640_640_label_accident.v2i.yolov7pytorch/train/labels/SEEEEVERITY_0_jpg.rf.6113c67b2b05a9fef6e33c9069055a74.txt  \n",
            "  inflating: __MACOSX/+_281_640_640_label_accident.v2i.yolov7pytorch/train/labels/._SEEEEVERITY_0_jpg.rf.6113c67b2b05a9fef6e33c9069055a74.txt  \n",
            "  inflating: +_281_640_640_label_accident.v2i.yolov7pytorch/train/labels/accidentFrame3949_jpg.rf.7ddcc8cfd904abbd2d3eaa267022e29e.txt  \n",
            "  inflating: __MACOSX/+_281_640_640_label_accident.v2i.yolov7pytorch/train/labels/._accidentFrame3949_jpg.rf.7ddcc8cfd904abbd2d3eaa267022e29e.txt  \n",
            "  inflating: +_281_640_640_label_accident.v2i.yolov7pytorch/train/labels/SEEEEVERITY_356_jpg.rf.177d2260190ef781792b17a1017e41b9.txt  \n",
            "  inflating: __MACOSX/+_281_640_640_label_accident.v2i.yolov7pytorch/train/labels/._SEEEEVERITY_356_jpg.rf.177d2260190ef781792b17a1017e41b9.txt  \n",
            "  inflating: +_281_640_640_label_accident.v2i.yolov7pytorch/train/labels/traffic_img510_jpg.rf.790d12651bb7afda1ea3462847ac45f7.txt  \n",
            "  inflating: __MACOSX/+_281_640_640_label_accident.v2i.yolov7pytorch/train/labels/._traffic_img510_jpg.rf.790d12651bb7afda1ea3462847ac45f7.txt  \n",
            "  inflating: +_281_640_640_label_accident.v2i.yolov7pytorch/train/labels/traffic_img124_jpg.rf.3acb791461b64686f973b01985e54e9d.txt  \n",
            "  inflating: __MACOSX/+_281_640_640_label_accident.v2i.yolov7pytorch/train/labels/._traffic_img124_jpg.rf.3acb791461b64686f973b01985e54e9d.txt  \n",
            "  inflating: +_281_640_640_label_accident.v2i.yolov7pytorch/train/labels/traffic_img3922_jpg.rf.c1465511ae527e8fc245b2c7f39be091.txt  \n",
            "  inflating: __MACOSX/+_281_640_640_label_accident.v2i.yolov7pytorch/train/labels/._traffic_img3922_jpg.rf.c1465511ae527e8fc245b2c7f39be091.txt  \n",
            "  inflating: +_281_640_640_label_accident.v2i.yolov7pytorch/train/labels/IMG_1506_PNG_jpg.rf.ca659fe5fa229472623c0694080cc43a.txt  \n",
            "  inflating: __MACOSX/+_281_640_640_label_accident.v2i.yolov7pytorch/train/labels/._IMG_1506_PNG_jpg.rf.ca659fe5fa229472623c0694080cc43a.txt  \n",
            "  inflating: +_281_640_640_label_accident.v2i.yolov7pytorch/train/labels/SEV_V8_Img_106_jpg.rf.e00e67c1bde746070383bc813aa5eac4.txt  \n",
            "  inflating: __MACOSX/+_281_640_640_label_accident.v2i.yolov7pytorch/train/labels/._SEV_V8_Img_106_jpg.rf.e00e67c1bde746070383bc813aa5eac4.txt  \n",
            "  inflating: +_281_640_640_label_accident.v2i.yolov7pytorch/train/labels/Screen-Shot-2022-04-07-at-8-11-30-AM_png_jpg.rf.7a6f3cdfd5c0dbf51314e89800d89987.txt  \n",
            "  inflating: __MACOSX/+_281_640_640_label_accident.v2i.yolov7pytorch/train/labels/._Screen-Shot-2022-04-07-at-8-11-30-AM_png_jpg.rf.7a6f3cdfd5c0dbf51314e89800d89987.txt  \n",
            "  inflating: +_281_640_640_label_accident.v2i.yolov7pytorch/train/labels/760_jpeg_jpg.rf.60a2aa67c631bf1ea5d4dc5a1b27c133.txt  \n",
            "  inflating: __MACOSX/+_281_640_640_label_accident.v2i.yolov7pytorch/train/labels/._760_jpeg_jpg.rf.60a2aa67c631bf1ea5d4dc5a1b27c133.txt  \n",
            "  inflating: +_281_640_640_label_accident.v2i.yolov7pytorch/train/labels/SEVERITY_DATA_99_jpg.rf.ffdce38d4d9808af35307779123d5592.txt  \n",
            "  inflating: __MACOSX/+_281_640_640_label_accident.v2i.yolov7pytorch/train/labels/._SEVERITY_DATA_99_jpg.rf.ffdce38d4d9808af35307779123d5592.txt  \n",
            "  inflating: +_281_640_640_label_accident.v2i.yolov7pytorch/train/labels/SEVERITY_V13_10_jpg.rf.ba6fa07fe221351455640712a0e35bb0.txt  \n",
            "  inflating: __MACOSX/+_281_640_640_label_accident.v2i.yolov7pytorch/train/labels/._SEVERITY_V13_10_jpg.rf.ba6fa07fe221351455640712a0e35bb0.txt  \n",
            "  inflating: +_281_640_640_label_accident.v2i.yolov7pytorch/train/labels/SEEEEVERITY_106_jpg.rf.d5d228e0c6134a5a5cb536550cdee43d.txt  \n",
            "  inflating: __MACOSX/+_281_640_640_label_accident.v2i.yolov7pytorch/train/labels/._SEEEEVERITY_106_jpg.rf.d5d228e0c6134a5a5cb536550cdee43d.txt  \n",
            "  inflating: +_281_640_640_label_accident.v2i.yolov7pytorch/train/labels/STOPLIGHTACCIDENT_23537686-640x400_jpg.rf.7ab511a2b45dd7964b6024d096cb260a.txt  \n",
            "  inflating: __MACOSX/+_281_640_640_label_accident.v2i.yolov7pytorch/train/labels/._STOPLIGHTACCIDENT_23537686-640x400_jpg.rf.7ab511a2b45dd7964b6024d096cb260a.txt  \n",
            "  inflating: +_281_640_640_label_accident.v2i.yolov7pytorch/train/labels/SEV_22_493_jpg.rf.67389136d16c4c29c83014719d723c66.txt  \n",
            "  inflating: __MACOSX/+_281_640_640_label_accident.v2i.yolov7pytorch/train/labels/._SEV_22_493_jpg.rf.67389136d16c4c29c83014719d723c66.txt  \n",
            "  inflating: +_281_640_640_label_accident.v2i.yolov7pytorch/train/labels/SEVERITY_V10_98_jpg.rf.6fc858f7ca00543662942c56e6eeaff3.txt  \n",
            "  inflating: __MACOSX/+_281_640_640_label_accident.v2i.yolov7pytorch/train/labels/._SEVERITY_V10_98_jpg.rf.6fc858f7ca00543662942c56e6eeaff3.txt  \n",
            "  inflating: +_281_640_640_label_accident.v2i.yolov7pytorch/train/labels/traffic_img954_jpg.rf.44356e7071c3544d474e75237e3ace67.txt  \n",
            "  inflating: __MACOSX/+_281_640_640_label_accident.v2i.yolov7pytorch/train/labels/._traffic_img954_jpg.rf.44356e7071c3544d474e75237e3ace67.txt  \n",
            "  inflating: +_281_640_640_label_accident.v2i.yolov7pytorch/train/labels/test29_8_jpg.rf.dcf404503eab96dfd154a88e62567a37.txt  \n",
            "  inflating: __MACOSX/+_281_640_640_label_accident.v2i.yolov7pytorch/train/labels/._test29_8_jpg.rf.dcf404503eab96dfd154a88e62567a37.txt  \n",
            "  inflating: +_281_640_640_label_accident.v2i.yolov7pytorch/train/labels/Screen-Shot-2022-04-07-at-8-36-02-AM_png_jpg.rf.b9f3d0f0da76ae77902e6d758763995d.txt  \n",
            "  inflating: __MACOSX/+_281_640_640_label_accident.v2i.yolov7pytorch/train/labels/._Screen-Shot-2022-04-07-at-8-36-02-AM_png_jpg.rf.b9f3d0f0da76ae77902e6d758763995d.txt  \n",
            "  inflating: +_281_640_640_label_accident.v2i.yolov7pytorch/train/labels/severityV4_92_jpg.rf.2f45d8f489da37a353bef2d5f306b714.txt  \n",
            "  inflating: __MACOSX/+_281_640_640_label_accident.v2i.yolov7pytorch/train/labels/._severityV4_92_jpg.rf.2f45d8f489da37a353bef2d5f306b714.txt  \n",
            "  inflating: +_281_640_640_label_accident.v2i.yolov7pytorch/train/labels/trafficseverity_img958_jpg.rf.88644115e15d2ab4b1a4effc4935d86b.txt  \n",
            "  inflating: __MACOSX/+_281_640_640_label_accident.v2i.yolov7pytorch/train/labels/._trafficseverity_img958_jpg.rf.88644115e15d2ab4b1a4effc4935d86b.txt  \n",
            "  inflating: +_281_640_640_label_accident.v2i.yolov7pytorch/train/labels/accidentFrame9176_jpg.rf.3d249c0e4c27a4abf2be9dbe8948d441.txt  \n",
            "  inflating: __MACOSX/+_281_640_640_label_accident.v2i.yolov7pytorch/train/labels/._accidentFrame9176_jpg.rf.3d249c0e4c27a4abf2be9dbe8948d441.txt  \n",
            "  inflating: +_281_640_640_label_accident.v2i.yolov7pytorch/train/labels/traffic_img922_jpg.rf.50533c6021e778f4274a1b93b768e8e1.txt  \n",
            "  inflating: __MACOSX/+_281_640_640_label_accident.v2i.yolov7pytorch/train/labels/._traffic_img922_jpg.rf.50533c6021e778f4274a1b93b768e8e1.txt  \n",
            "  inflating: +_281_640_640_label_accident.v2i.yolov7pytorch/train/labels/images-2020-08-13T214339-354_jpg.rf.91e0239618cc013d3c848df4004546ee.txt  \n",
            "  inflating: __MACOSX/+_281_640_640_label_accident.v2i.yolov7pytorch/train/labels/._images-2020-08-13T214339-354_jpg.rf.91e0239618cc013d3c848df4004546ee.txt  \n",
            "  inflating: +_281_640_640_label_accident.v2i.yolov7pytorch/train/labels/severityV4_9_jpg.rf.006766df0e6dba364ff295e7b70e9940.txt  \n",
            "  inflating: __MACOSX/+_281_640_640_label_accident.v2i.yolov7pytorch/train/labels/._severityV4_9_jpg.rf.006766df0e6dba364ff295e7b70e9940.txt  \n",
            "  inflating: +_281_640_640_label_accident.v2i.yolov7pytorch/train/labels/testjndjnd_jpg.rf.5d25a8a8fa1c97f4293697933e786bf5.txt  \n",
            "  inflating: __MACOSX/+_281_640_640_label_accident.v2i.yolov7pytorch/train/labels/._testjndjnd_jpg.rf.5d25a8a8fa1c97f4293697933e786bf5.txt  \n",
            "  inflating: +_281_640_640_label_accident.v2i.yolov7pytorch/train/labels/tt2_png_jpg.rf.410878aedd27537ae5ffb12541ed9fc8.txt  \n",
            "  inflating: __MACOSX/+_281_640_640_label_accident.v2i.yolov7pytorch/train/labels/._tt2_png_jpg.rf.410878aedd27537ae5ffb12541ed9fc8.txt  \n",
            "  inflating: +_281_640_640_label_accident.v2i.yolov7pytorch/train/labels/accidentFrame4759_jpg.rf.0b54e6d56d753badfa4c8e64a305d582.txt  \n",
            "  inflating: __MACOSX/+_281_640_640_label_accident.v2i.yolov7pytorch/train/labels/._accidentFrame4759_jpg.rf.0b54e6d56d753badfa4c8e64a305d582.txt  \n",
            "  inflating: +_281_640_640_label_accident.v2i.yolov7pytorch/train/labels/test12_19_jpg.rf.550d74adcb1c249e327d2ca3e9d472c3.txt  \n",
            "  inflating: __MACOSX/+_281_640_640_label_accident.v2i.yolov7pytorch/train/labels/._test12_19_jpg.rf.550d74adcb1c249e327d2ca3e9d472c3.txt  \n",
            "  inflating: +_281_640_640_label_accident.v2i.yolov7pytorch/train/labels/accidentFrame954_jpg.rf.459ecfd1e7a385ecebce1e5f7ab08712.txt  \n",
            "  inflating: __MACOSX/+_281_640_640_label_accident.v2i.yolov7pytorch/train/labels/._accidentFrame954_jpg.rf.459ecfd1e7a385ecebce1e5f7ab08712.txt  \n",
            "  inflating: +_281_640_640_label_accident.v2i.yolov7pytorch/train/labels/traffic_img202_jpg.rf.11145bfd8d2a7ec6543a7064f8408862.txt  \n",
            "  inflating: __MACOSX/+_281_640_640_label_accident.v2i.yolov7pytorch/train/labels/._traffic_img202_jpg.rf.11145bfd8d2a7ec6543a7064f8408862.txt  \n",
            "  inflating: +_281_640_640_label_accident.v2i.yolov7pytorch/train/labels/Semi-RealisticVD-180_jpg.rf.edfb001185724987feb12667e60b01b5.txt  \n",
            "  inflating: __MACOSX/+_281_640_640_label_accident.v2i.yolov7pytorch/train/labels/._Semi-RealisticVD-180_jpg.rf.edfb001185724987feb12667e60b01b5.txt  \n",
            "  inflating: +_281_640_640_label_accident.v2i.yolov7pytorch/train/labels/Screen-Shot-2022-04-07-at-8-08-56-PM_png_jpg.rf.533a5ec06f9b87c27173985e1c74a014.txt  \n",
            "  inflating: __MACOSX/+_281_640_640_label_accident.v2i.yolov7pytorch/train/labels/._Screen-Shot-2022-04-07-at-8-08-56-PM_png_jpg.rf.533a5ec06f9b87c27173985e1c74a014.txt  \n",
            "  inflating: +_281_640_640_label_accident.v2i.yolov7pytorch/train/labels/traffic_img1301_jpg.rf.ff864df77bdb21ec915afd2e2b9bd240.txt  \n",
            "  inflating: __MACOSX/+_281_640_640_label_accident.v2i.yolov7pytorch/train/labels/._traffic_img1301_jpg.rf.ff864df77bdb21ec915afd2e2b9bd240.txt  \n",
            "  inflating: +_281_640_640_label_accident.v2i.yolov7pytorch/train/labels/traffic_img378_jpg.rf.4332563e193c1794e6b5bfed38017e4a.txt  \n",
            "  inflating: __MACOSX/+_281_640_640_label_accident.v2i.yolov7pytorch/train/labels/._traffic_img378_jpg.rf.4332563e193c1794e6b5bfed38017e4a.txt  \n",
            "  inflating: +_281_640_640_label_accident.v2i.yolov7pytorch/train/labels/trafficseverity_img2960_jpg.rf.3f71a6b615232eaffacdc6ef9ee2a60f.txt  \n",
            "  inflating: __MACOSX/+_281_640_640_label_accident.v2i.yolov7pytorch/train/labels/._trafficseverity_img2960_jpg.rf.3f71a6b615232eaffacdc6ef9ee2a60f.txt  \n",
            "  inflating: +_281_640_640_label_accident.v2i.yolov7pytorch/train/labels/trafficseverity_img408_jpg.rf.95445ddb22c51f1894b1a647184497ca.txt  \n",
            "  inflating: __MACOSX/+_281_640_640_label_accident.v2i.yolov7pytorch/train/labels/._trafficseverity_img408_jpg.rf.95445ddb22c51f1894b1a647184497ca.txt  \n",
            "  inflating: +_281_640_640_label_accident.v2i.yolov7pytorch/train/labels/severityV4_16_jpg.rf.5cb9c5eeff506eeaa52633950ec29ab2.txt  \n",
            "  inflating: __MACOSX/+_281_640_640_label_accident.v2i.yolov7pytorch/train/labels/._severityV4_16_jpg.rf.5cb9c5eeff506eeaa52633950ec29ab2.txt  \n",
            "  inflating: +_281_640_640_label_accident.v2i.yolov7pytorch/train/labels/trafficseverity_img3094_jpg.rf.6c2960b06d443bfc00758c30054a4578.txt  \n",
            "  inflating: __MACOSX/+_281_640_640_label_accident.v2i.yolov7pytorch/train/labels/._trafficseverity_img3094_jpg.rf.6c2960b06d443bfc00758c30054a4578.txt  \n",
            "  inflating: +_281_640_640_label_accident.v2i.yolov7pytorch/train/labels/SEVERITY_V10_49_jpg.rf.3da61fc91c047ee579edf4145b06285d.txt  \n",
            "  inflating: __MACOSX/+_281_640_640_label_accident.v2i.yolov7pytorch/train/labels/._SEVERITY_V10_49_jpg.rf.3da61fc91c047ee579edf4145b06285d.txt  \n",
            "  inflating: +_281_640_640_label_accident.v2i.yolov7pytorch/train/labels/images-2_jpg.rf.817cbe17a4fec5199cec862faec8be00.txt  \n",
            "  inflating: __MACOSX/+_281_640_640_label_accident.v2i.yolov7pytorch/train/labels/._images-2_jpg.rf.817cbe17a4fec5199cec862faec8be00.txt  \n",
            "  inflating: +_281_640_640_label_accident.v2i.yolov7pytorch/train/labels/IMG_1605_PNG_jpg.rf.bdaed8b343442addfb4b0fa564692d47.txt  \n",
            "  inflating: __MACOSX/+_281_640_640_label_accident.v2i.yolov7pytorch/train/labels/._IMG_1605_PNG_jpg.rf.bdaed8b343442addfb4b0fa564692d47.txt  \n",
            "  inflating: +_281_640_640_label_accident.v2i.yolov7pytorch/train/labels/trafficseverity_img1004_jpg.rf.cbfe92e8a01196430ee1122df969dcb4.txt  \n",
            "  inflating: __MACOSX/+_281_640_640_label_accident.v2i.yolov7pytorch/train/labels/._trafficseverity_img1004_jpg.rf.cbfe92e8a01196430ee1122df969dcb4.txt  \n",
            "  inflating: +_281_640_640_label_accident.v2i.yolov7pytorch/train/labels/SEV_22_2858_jpg.rf.79a2aa1ae55ed77560bbeadeb8d08279.txt  \n",
            "  inflating: __MACOSX/+_281_640_640_label_accident.v2i.yolov7pytorch/train/labels/._SEV_22_2858_jpg.rf.79a2aa1ae55ed77560bbeadeb8d08279.txt  \n",
            "  inflating: +_281_640_640_label_accident.v2i.yolov7pytorch/train/labels/severityV3_9_jpeg_jpg.rf.6ef425dec5cf360b7ca7183a9ba25a14.txt  \n",
            "  inflating: __MACOSX/+_281_640_640_label_accident.v2i.yolov7pytorch/train/labels/._severityV3_9_jpeg_jpg.rf.6ef425dec5cf360b7ca7183a9ba25a14.txt  \n",
            "  inflating: +_281_640_640_label_accident.v2i.yolov7pytorch/train/labels/severityV4_87_jpg.rf.2915e986fdf5cfef2b76404d654d01e3.txt  \n",
            "  inflating: __MACOSX/+_281_640_640_label_accident.v2i.yolov7pytorch/train/labels/._severityV4_87_jpg.rf.2915e986fdf5cfef2b76404d654d01e3.txt  \n",
            "  inflating: +_281_640_640_label_accident.v2i.yolov7pytorch/train/labels/SEVERITY_V10_101_jpg.rf.0f58a49db26a742329da0b13e06f9ccc.txt  \n",
            "  inflating: __MACOSX/+_281_640_640_label_accident.v2i.yolov7pytorch/train/labels/._SEVERITY_V10_101_jpg.rf.0f58a49db26a742329da0b13e06f9ccc.txt  \n",
            "  inflating: +_281_640_640_label_accident.v2i.yolov7pytorch/train/labels/traffic_img4619_jpg.rf.213fa3e4df85370a9103064f2b8fb0a2.txt  \n",
            "  inflating: __MACOSX/+_281_640_640_label_accident.v2i.yolov7pytorch/train/labels/._traffic_img4619_jpg.rf.213fa3e4df85370a9103064f2b8fb0a2.txt  \n",
            "  inflating: +_281_640_640_label_accident.v2i.yolov7pytorch/train/labels/traffic_img4367_jpg.rf.bbcfbc137e2cf10bb6a4aae965c08f6c.txt  \n",
            "  inflating: __MACOSX/+_281_640_640_label_accident.v2i.yolov7pytorch/train/labels/._traffic_img4367_jpg.rf.bbcfbc137e2cf10bb6a4aae965c08f6c.txt  \n",
            "  inflating: +_281_640_640_label_accident.v2i.yolov7pytorch/train/labels/Semi-RealisticVD-19_jpg.rf.153ed0fe8442623d0dfd3bd95273ffc4.txt  \n",
            "  inflating: __MACOSX/+_281_640_640_label_accident.v2i.yolov7pytorch/train/labels/._Semi-RealisticVD-19_jpg.rf.153ed0fe8442623d0dfd3bd95273ffc4.txt  \n",
            "  inflating: +_281_640_640_label_accident.v2i.yolov7pytorch/train/labels/traffic_img49_jpg.rf.0dfd142035e72e9f3d64967888491ff0.txt  \n",
            "  inflating: __MACOSX/+_281_640_640_label_accident.v2i.yolov7pytorch/train/labels/._traffic_img49_jpg.rf.0dfd142035e72e9f3d64967888491ff0.txt  \n",
            "  inflating: +_281_640_640_label_accident.v2i.yolov7pytorch/train/labels/severityV4_13_jpg.rf.44a7505f0b9171d32c1bc73356b34fbc.txt  \n",
            "  inflating: __MACOSX/+_281_640_640_label_accident.v2i.yolov7pytorch/train/labels/._severityV4_13_jpg.rf.44a7505f0b9171d32c1bc73356b34fbc.txt  \n",
            "  inflating: +_281_640_640_label_accident.v2i.yolov7pytorch/train/labels/SEV_22_3451_jpg.rf.df24666ea4cc87c86054c9082f694550.txt  \n",
            "  inflating: __MACOSX/+_281_640_640_label_accident.v2i.yolov7pytorch/train/labels/._SEV_22_3451_jpg.rf.df24666ea4cc87c86054c9082f694550.txt  \n",
            "  inflating: +_281_640_640_label_accident.v2i.yolov7pytorch/train/labels/trafficseverity_img2190_jpg.rf.a3ce0d76a52bb8371b92114cda4db044.txt  \n",
            "  inflating: __MACOSX/+_281_640_640_label_accident.v2i.yolov7pytorch/train/labels/._trafficseverity_img2190_jpg.rf.a3ce0d76a52bb8371b92114cda4db044.txt  \n",
            "  inflating: +_281_640_640_label_accident.v2i.yolov7pytorch/train/labels/Semi-RealisticVD-74_jpg.rf.642db3d109ec368a5aa98b91d333a13b.txt  \n",
            "  inflating: __MACOSX/+_281_640_640_label_accident.v2i.yolov7pytorch/train/labels/._Semi-RealisticVD-74_jpg.rf.642db3d109ec368a5aa98b91d333a13b.txt  \n",
            "  inflating: +_281_640_640_label_accident.v2i.yolov7pytorch/train/labels/images-20_jpg.rf.bb81e190ba01d001c4ab46b8577c8b12.txt  \n",
            "  inflating: __MACOSX/+_281_640_640_label_accident.v2i.yolov7pytorch/train/labels/._images-20_jpg.rf.bb81e190ba01d001c4ab46b8577c8b12.txt  \n",
            "  inflating: +_281_640_640_label_accident.v2i.yolov7pytorch/train/labels/accidentFrame2731_jpg.rf.ba16b1ea621f498ccc88c8c7ff0c724f.txt  \n",
            "  inflating: __MACOSX/+_281_640_640_label_accident.v2i.yolov7pytorch/train/labels/._accidentFrame2731_jpg.rf.ba16b1ea621f498ccc88c8c7ff0c724f.txt  \n",
            "  inflating: +_281_640_640_label_accident.v2i.yolov7pytorch/train/labels/test15_5_jpg.rf.2fb997e6927e1c2ec3bc8ab2010d966a.txt  \n",
            "  inflating: __MACOSX/+_281_640_640_label_accident.v2i.yolov7pytorch/train/labels/._test15_5_jpg.rf.2fb997e6927e1c2ec3bc8ab2010d966a.txt  \n",
            "  inflating: +_281_640_640_label_accident.v2i.yolov7pytorch/train/labels/SEEEEVERITY_51_jpg.rf.ae84ecf7bd404d4f0be10d85aee78b39.txt  \n",
            "  inflating: __MACOSX/+_281_640_640_label_accident.v2i.yolov7pytorch/train/labels/._SEEEEVERITY_51_jpg.rf.ae84ecf7bd404d4f0be10d85aee78b39.txt  \n",
            "  inflating: +_281_640_640_label_accident.v2i.yolov7pytorch/train/labels/buy1_jpg.rf.be9b3896e36932ba75ca57bd0adce4ae.txt  \n",
            "  inflating: __MACOSX/+_281_640_640_label_accident.v2i.yolov7pytorch/train/labels/._buy1_jpg.rf.be9b3896e36932ba75ca57bd0adce4ae.txt  \n",
            "  inflating: +_281_640_640_label_accident.v2i.yolov7pytorch/train/labels/traffic_img993_jpg.rf.ce44ac055b089d2615c1e62fdd0ec505.txt  \n",
            "  inflating: __MACOSX/+_281_640_640_label_accident.v2i.yolov7pytorch/train/labels/._traffic_img993_jpg.rf.ce44ac055b089d2615c1e62fdd0ec505.txt  \n",
            "  inflating: +_281_640_640_label_accident.v2i.yolov7pytorch/train/labels/SEV_22_2175_jpg.rf.88d7c755c496995ab648e5ed7f9c722e.txt  \n",
            "  inflating: __MACOSX/+_281_640_640_label_accident.v2i.yolov7pytorch/train/labels/._SEV_22_2175_jpg.rf.88d7c755c496995ab648e5ed7f9c722e.txt  \n",
            "  inflating: +_281_640_640_label_accident.v2i.yolov7pytorch/train/labels/accidentFrame928_jpg.rf.f50d6e88fd12010ad4591727f8e6506f.txt  \n",
            "  inflating: __MACOSX/+_281_640_640_label_accident.v2i.yolov7pytorch/train/labels/._accidentFrame928_jpg.rf.f50d6e88fd12010ad4591727f8e6506f.txt  \n",
            "  inflating: +_281_640_640_label_accident.v2i.yolov7pytorch/train/labels/Screen-Shot-2022-04-07-at-7-28-52-PM_png_jpg.rf.ef38bfadff5a75b63adfa652c3fd5cd5.txt  \n",
            "  inflating: __MACOSX/+_281_640_640_label_accident.v2i.yolov7pytorch/train/labels/._Screen-Shot-2022-04-07-at-7-28-52-PM_png_jpg.rf.ef38bfadff5a75b63adfa652c3fd5cd5.txt  \n",
            "  inflating: +_281_640_640_label_accident.v2i.yolov7pytorch/train/labels/FLIP_CAR_V131_jpg.rf.5ff7e6af281f0e2e11c63c9a04ef0483.txt  \n",
            "  inflating: __MACOSX/+_281_640_640_label_accident.v2i.yolov7pytorch/train/labels/._FLIP_CAR_V131_jpg.rf.5ff7e6af281f0e2e11c63c9a04ef0483.txt  \n",
            "  inflating: +_281_640_640_label_accident.v2i.yolov7pytorch/train/labels/traffic_img1959_jpg.rf.c05d77d4ec2aa66c00a3a0eb35c4d4c6.txt  \n",
            "  inflating: __MACOSX/+_281_640_640_label_accident.v2i.yolov7pytorch/train/labels/._traffic_img1959_jpg.rf.c05d77d4ec2aa66c00a3a0eb35c4d4c6.txt  \n",
            "  inflating: +_281_640_640_label_accident.v2i.yolov7pytorch/train/labels/14-29_jpg.rf.d05d87bafc4d4a50a90457887f08b1a5.txt  \n",
            "  inflating: __MACOSX/+_281_640_640_label_accident.v2i.yolov7pytorch/train/labels/._14-29_jpg.rf.d05d87bafc4d4a50a90457887f08b1a5.txt  \n",
            "  inflating: +_281_640_640_label_accident.v2i.yolov7pytorch/train/labels/traffic_img90_jpg.rf.32107cbc8b4fe568daea46ed971128ef.txt  \n",
            "  inflating: __MACOSX/+_281_640_640_label_accident.v2i.yolov7pytorch/train/labels/._traffic_img90_jpg.rf.32107cbc8b4fe568daea46ed971128ef.txt  \n",
            "  inflating: +_281_640_640_label_accident.v2i.yolov7pytorch/train/labels/severity_V145_jpg.rf.cdd981ea4bace7a520801bf86fa78e1c.txt  \n",
            "  inflating: __MACOSX/+_281_640_640_label_accident.v2i.yolov7pytorch/train/labels/._severity_V145_jpg.rf.cdd981ea4bace7a520801bf86fa78e1c.txt  \n",
            "  inflating: +_281_640_640_label_accident.v2i.yolov7pytorch/train/labels/trafficseverity_img642_jpg.rf.fdc7b12187d23d252d4fe5b963615a8e.txt  \n",
            "  inflating: __MACOSX/+_281_640_640_label_accident.v2i.yolov7pytorch/train/labels/._trafficseverity_img642_jpg.rf.fdc7b12187d23d252d4fe5b963615a8e.txt  \n",
            "  inflating: +_281_640_640_label_accident.v2i.yolov7pytorch/train/labels/accidentFrame2757_jpg.rf.fce1d41e5532cdd4557fbfc5a54b2f1f.txt  \n",
            "  inflating: __MACOSX/+_281_640_640_label_accident.v2i.yolov7pytorch/train/labels/._accidentFrame2757_jpg.rf.fce1d41e5532cdd4557fbfc5a54b2f1f.txt  \n",
            "  inflating: +_281_640_640_label_accident.v2i.yolov7pytorch/train/labels/traffic_img1202_jpg.rf.c96e86dc426ed347c697f1460b8d69d8.txt  \n",
            "  inflating: __MACOSX/+_281_640_640_label_accident.v2i.yolov7pytorch/train/labels/._traffic_img1202_jpg.rf.c96e86dc426ed347c697f1460b8d69d8.txt  \n",
            "  inflating: +_281_640_640_label_accident.v2i.yolov7pytorch/train/labels/images-94-_jpeg_jpg.rf.96012c095713a9f3618d0cc44e4c1692.txt  \n",
            "  inflating: __MACOSX/+_281_640_640_label_accident.v2i.yolov7pytorch/train/labels/._images-94-_jpeg_jpg.rf.96012c095713a9f3618d0cc44e4c1692.txt  \n",
            "  inflating: +_281_640_640_label_accident.v2i.yolov7pytorch/train/labels/808_jpeg_jpg.rf.12414e533ffb673a2433bbda6f31b5c4.txt  \n",
            "  inflating: __MACOSX/+_281_640_640_label_accident.v2i.yolov7pytorch/train/labels/._808_jpeg_jpg.rf.12414e533ffb673a2433bbda6f31b5c4.txt  \n",
            "  inflating: +_281_640_640_label_accident.v2i.yolov7pytorch/train/labels/trafficseverity_img587_jpg.rf.692c1441d10e8965b90b238aee117fd8.txt  \n",
            "  inflating: __MACOSX/+_281_640_640_label_accident.v2i.yolov7pytorch/train/labels/._trafficseverity_img587_jpg.rf.692c1441d10e8965b90b238aee117fd8.txt  \n",
            "  inflating: +_281_640_640_label_accident.v2i.yolov7pytorch/train/labels/severity_V12_jpg.rf.9fd85672c4ebf07f1f7a6c2354182ec9.txt  \n",
            "  inflating: __MACOSX/+_281_640_640_label_accident.v2i.yolov7pytorch/train/labels/._severity_V12_jpg.rf.9fd85672c4ebf07f1f7a6c2354182ec9.txt  \n",
            "  inflating: +_281_640_640_label_accident.v2i.yolov7pytorch/train/labels/IMG_2280_PNG_jpg.rf.53063224567d3f2a6fcb52b684a2d475.txt  \n",
            "  inflating: __MACOSX/+_281_640_640_label_accident.v2i.yolov7pytorch/train/labels/._IMG_2280_PNG_jpg.rf.53063224567d3f2a6fcb52b684a2d475.txt  \n",
            "  inflating: +_281_640_640_label_accident.v2i.yolov7pytorch/train/labels/SEVERITY_DATA_59_jpg.rf.4fefec32b6a97b604928fc72084a926b.txt  \n",
            "  inflating: __MACOSX/+_281_640_640_label_accident.v2i.yolov7pytorch/train/labels/._SEVERITY_DATA_59_jpg.rf.4fefec32b6a97b604928fc72084a926b.txt  \n",
            "  inflating: +_281_640_640_label_accident.v2i.yolov7pytorch/train/labels/traffic_img3729_jpg.rf.bfa54a2fd62d5893d4b2971b90c8ed73.txt  \n",
            "  inflating: __MACOSX/+_281_640_640_label_accident.v2i.yolov7pytorch/train/labels/._traffic_img3729_jpg.rf.bfa54a2fd62d5893d4b2971b90c8ed73.txt  \n",
            "  inflating: +_281_640_640_label_accident.v2i.yolov7pytorch/train/labels/Semi-RealisticVD-150_jpg.rf.bb537fc594888c58cdfb20fde244a1d5.txt  \n",
            "  inflating: __MACOSX/+_281_640_640_label_accident.v2i.yolov7pytorch/train/labels/._Semi-RealisticVD-150_jpg.rf.bb537fc594888c58cdfb20fde244a1d5.txt  \n",
            "  inflating: +_281_640_640_label_accident.v2i.yolov7pytorch/train/labels/accidentFrame2718_jpg.rf.01466dda32bb430935a2289f527ce62f.txt  \n",
            "  inflating: __MACOSX/+_281_640_640_label_accident.v2i.yolov7pytorch/train/labels/._accidentFrame2718_jpg.rf.01466dda32bb430935a2289f527ce62f.txt  \n",
            "  inflating: +_281_640_640_label_accident.v2i.yolov7pytorch/train/labels/traffic_img333_jpg.rf.520cff7f7f4e1bbde006fc83ac4bd105.txt  \n",
            "  inflating: __MACOSX/+_281_640_640_label_accident.v2i.yolov7pytorch/train/labels/._traffic_img333_jpg.rf.520cff7f7f4e1bbde006fc83ac4bd105.txt  \n",
            "  inflating: +_281_640_640_label_accident.v2i.yolov7pytorch/train/labels/traffic_img649_jpg.rf.a1faf99962fba149b8dbc2c81ab04399.txt  \n",
            "  inflating: __MACOSX/+_281_640_640_label_accident.v2i.yolov7pytorch/train/labels/._traffic_img649_jpg.rf.a1faf99962fba149b8dbc2c81ab04399.txt  \n",
            "  inflating: +_281_640_640_label_accident.v2i.yolov7pytorch/train/labels/Semi-RealisticVD-119_jpg.rf.b015b93a08b47e52e65792dfc1170f62.txt  \n",
            "  inflating: __MACOSX/+_281_640_640_label_accident.v2i.yolov7pytorch/train/labels/._Semi-RealisticVD-119_jpg.rf.b015b93a08b47e52e65792dfc1170f62.txt  \n",
            "  inflating: +_281_640_640_label_accident.v2i.yolov7pytorch/train/labels/images-2022-04-07T063402-066_jpeg_jpg.rf.f6283085653f5ba7987f0aea1ad304a0.txt  \n",
            "  inflating: __MACOSX/+_281_640_640_label_accident.v2i.yolov7pytorch/train/labels/._images-2022-04-07T063402-066_jpeg_jpg.rf.f6283085653f5ba7987f0aea1ad304a0.txt  \n",
            "  inflating: +_281_640_640_label_accident.v2i.yolov7pytorch/train/labels/images-3_jpeg_jpg.rf.4af89a8045e0504ce8b720e0fb3083a7.txt  \n",
            "  inflating: __MACOSX/+_281_640_640_label_accident.v2i.yolov7pytorch/train/labels/._images-3_jpeg_jpg.rf.4af89a8045e0504ce8b720e0fb3083a7.txt  \n",
            "  inflating: +_281_640_640_label_accident.v2i.yolov7pytorch/train/labels/severityV4_5_jpg.rf.9bc378ac3a64e4340c65c114f03da06c.txt  \n",
            "  inflating: __MACOSX/+_281_640_640_label_accident.v2i.yolov7pytorch/train/labels/._severityV4_5_jpg.rf.9bc378ac3a64e4340c65c114f03da06c.txt  \n",
            "  inflating: +_281_640_640_label_accident.v2i.yolov7pytorch/train/labels/vd100_jpeg_jpg.rf.2ae9c4f5d634e69349f75564fff3f5c8.txt  \n",
            "  inflating: __MACOSX/+_281_640_640_label_accident.v2i.yolov7pytorch/train/labels/._vd100_jpeg_jpg.rf.2ae9c4f5d634e69349f75564fff3f5c8.txt  \n",
            "  inflating: +_281_640_640_label_accident.v2i.yolov7pytorch/train/labels/SEVERITY_DATA_94_jpg.rf.3d0b640284c71124fbb5764fc3062d2b.txt  \n",
            "  inflating: __MACOSX/+_281_640_640_label_accident.v2i.yolov7pytorch/train/labels/._SEVERITY_DATA_94_jpg.rf.3d0b640284c71124fbb5764fc3062d2b.txt  \n",
            "  inflating: +_281_640_640_label_accident.v2i.yolov7pytorch/train/labels/traffic_img5098_jpg.rf.aef6f91a2cdec67a86989e59fddfd049.txt  \n",
            "  inflating: __MACOSX/+_281_640_640_label_accident.v2i.yolov7pytorch/train/labels/._traffic_img5098_jpg.rf.aef6f91a2cdec67a86989e59fddfd049.txt  \n",
            "  inflating: +_281_640_640_label_accident.v2i.yolov7pytorch/train/labels/severityV3_9_jpeg_jpg.rf.2d3ded7dfb72f11fcb143b59196af6f9.txt  \n",
            "  inflating: __MACOSX/+_281_640_640_label_accident.v2i.yolov7pytorch/train/labels/._severityV3_9_jpeg_jpg.rf.2d3ded7dfb72f11fcb143b59196af6f9.txt  \n",
            "  inflating: +_281_640_640_label_accident.v2i.yolov7pytorch/train/labels/images-18_jpg.rf.53f533394196783ab49238e7279d2eae.txt  \n",
            "  inflating: __MACOSX/+_281_640_640_label_accident.v2i.yolov7pytorch/train/labels/._images-18_jpg.rf.53f533394196783ab49238e7279d2eae.txt  \n",
            "  inflating: +_281_640_640_label_accident.v2i.yolov7pytorch/train/labels/FLIP_CAR_V118_jpg.rf.c5708e29c7911fe4da393745fb67a3cd.txt  \n",
            "  inflating: __MACOSX/+_281_640_640_label_accident.v2i.yolov7pytorch/train/labels/._FLIP_CAR_V118_jpg.rf.c5708e29c7911fe4da393745fb67a3cd.txt  \n",
            "  inflating: +_281_640_640_label_accident.v2i.yolov7pytorch/train/labels/SEVERITY_V10_96_jpg.rf.7034ba5c1afbd5d21d2a001b712ce18c.txt  \n",
            "  inflating: __MACOSX/+_281_640_640_label_accident.v2i.yolov7pytorch/train/labels/._SEVERITY_V10_96_jpg.rf.7034ba5c1afbd5d21d2a001b712ce18c.txt  \n",
            "  inflating: +_281_640_640_label_accident.v2i.yolov7pytorch/train/labels/SEV_22_1511_jpg.rf.342126346b3926732dc8bfc0d7f28252.txt  \n",
            "  inflating: __MACOSX/+_281_640_640_label_accident.v2i.yolov7pytorch/train/labels/._SEV_22_1511_jpg.rf.342126346b3926732dc8bfc0d7f28252.txt  \n",
            "  inflating: +_281_640_640_label_accident.v2i.yolov7pytorch/train/labels/severity_V111_jpg.rf.3799d812ffe4ef2ecd0ce2f8e5ccab2c.txt  \n",
            "  inflating: __MACOSX/+_281_640_640_label_accident.v2i.yolov7pytorch/train/labels/._severity_V111_jpg.rf.3799d812ffe4ef2ecd0ce2f8e5ccab2c.txt  \n",
            "  inflating: +_281_640_640_label_accident.v2i.yolov7pytorch/train/labels/SEV_22_2031_jpg.rf.4f4bbf2f2478372b6729b1fb07c9ba27.txt  \n",
            "  inflating: __MACOSX/+_281_640_640_label_accident.v2i.yolov7pytorch/train/labels/._SEV_22_2031_jpg.rf.4f4bbf2f2478372b6729b1fb07c9ba27.txt  \n",
            "  inflating: +_281_640_640_label_accident.v2i.yolov7pytorch/train/labels/severV15_jpg.rf.7ea6815c518f100b315cf8dfe8f2791d.txt  \n",
            "  inflating: __MACOSX/+_281_640_640_label_accident.v2i.yolov7pytorch/train/labels/._severV15_jpg.rf.7ea6815c518f100b315cf8dfe8f2791d.txt  \n",
            "  inflating: +_281_640_640_label_accident.v2i.yolov7pytorch/train/labels/trafficseverity_img2006_jpg.rf.8e10b7bb460066fa6c61571dc18fcb90.txt  \n",
            "  inflating: __MACOSX/+_281_640_640_label_accident.v2i.yolov7pytorch/train/labels/._trafficseverity_img2006_jpg.rf.8e10b7bb460066fa6c61571dc18fcb90.txt  \n",
            "  inflating: +_281_640_640_label_accident.v2i.yolov7pytorch/train/labels/traffic_img1919_jpg.rf.a32ca3d2ba816f8d49b4e4b63c8eed28.txt  \n",
            "  inflating: __MACOSX/+_281_640_640_label_accident.v2i.yolov7pytorch/train/labels/._traffic_img1919_jpg.rf.a32ca3d2ba816f8d49b4e4b63c8eed28.txt  \n",
            "  inflating: +_281_640_640_label_accident.v2i.yolov7pytorch/train/labels/SEVERITY_V10_117_jpg.rf.4dc45c3613f00a5103c43019c64ee584.txt  \n",
            "  inflating: __MACOSX/+_281_640_640_label_accident.v2i.yolov7pytorch/train/labels/._SEVERITY_V10_117_jpg.rf.4dc45c3613f00a5103c43019c64ee584.txt  \n",
            "  inflating: +_281_640_640_label_accident.v2i.yolov7pytorch/train/labels/trafficseverity_img645_jpg.rf.3b94369a535c0336e4b63404bd35e11e.txt  \n",
            "  inflating: __MACOSX/+_281_640_640_label_accident.v2i.yolov7pytorch/train/labels/._trafficseverity_img645_jpg.rf.3b94369a535c0336e4b63404bd35e11e.txt  \n",
            "  inflating: +_281_640_640_label_accident.v2i.yolov7pytorch/train/labels/accidentFrame404_jpg.rf.aa4de41bb8e1eff7f3fbdaf1062bcbfe.txt  \n",
            "  inflating: __MACOSX/+_281_640_640_label_accident.v2i.yolov7pytorch/train/labels/._accidentFrame404_jpg.rf.aa4de41bb8e1eff7f3fbdaf1062bcbfe.txt  \n",
            "  inflating: +_281_640_640_label_accident.v2i.yolov7pytorch/train/labels/Unknown_jpeg_jpg.rf.9b85ca57ca590f6cf1692b5e2c7bf606.txt  \n",
            "  inflating: __MACOSX/+_281_640_640_label_accident.v2i.yolov7pytorch/train/labels/._Unknown_jpeg_jpg.rf.9b85ca57ca590f6cf1692b5e2c7bf606.txt  \n",
            "  inflating: +_281_640_640_label_accident.v2i.yolov7pytorch/train/labels/Semi-RealisticVD-199_jpg.rf.991c0cfa1e3264e82d50dea4ad660bbb.txt  \n",
            "  inflating: __MACOSX/+_281_640_640_label_accident.v2i.yolov7pytorch/train/labels/._Semi-RealisticVD-199_jpg.rf.991c0cfa1e3264e82d50dea4ad660bbb.txt  \n",
            "  inflating: +_281_640_640_label_accident.v2i.yolov7pytorch/train/labels/Bus-Truck-Crashes-10-BeamNG-Drive_i_frame_9032_jpg.rf.b180a03f523e096e8e32a3b40762d5ca.txt  \n",
            "  inflating: __MACOSX/+_281_640_640_label_accident.v2i.yolov7pytorch/train/labels/._Bus-Truck-Crashes-10-BeamNG-Drive_i_frame_9032_jpg.rf.b180a03f523e096e8e32a3b40762d5ca.txt  \n",
            "  inflating: +_281_640_640_label_accident.v2i.yolov7pytorch/train/labels/Screen-Shot-2022-04-08-at-1-48-56-AM_png_jpg.rf.96219cfd0cf874658771bebbf4931dff.txt  \n",
            "  inflating: __MACOSX/+_281_640_640_label_accident.v2i.yolov7pytorch/train/labels/._Screen-Shot-2022-04-08-at-1-48-56-AM_png_jpg.rf.96219cfd0cf874658771bebbf4931dff.txt  \n",
            "  inflating: +_281_640_640_label_accident.v2i.yolov7pytorch/train/labels/SEV_V8_Img_135_jpg.rf.67eda9f591b2f0cc115e1cdfdac48014.txt  \n",
            "  inflating: __MACOSX/+_281_640_640_label_accident.v2i.yolov7pytorch/train/labels/._SEV_V8_Img_135_jpg.rf.67eda9f591b2f0cc115e1cdfdac48014.txt  \n",
            "  inflating: +_281_640_640_label_accident.v2i.yolov7pytorch/train/labels/trafficseverity_img553_jpg.rf.18146c3a2725a25f911c632d7a42b372.txt  \n",
            "  inflating: __MACOSX/+_281_640_640_label_accident.v2i.yolov7pytorch/train/labels/._trafficseverity_img553_jpg.rf.18146c3a2725a25f911c632d7a42b372.txt  \n",
            "  inflating: +_281_640_640_label_accident.v2i.yolov7pytorch/train/labels/traffic_img224_jpg.rf.2c40a77726eb8470ec79c43cacb490b2.txt  \n",
            "  inflating: __MACOSX/+_281_640_640_label_accident.v2i.yolov7pytorch/train/labels/._traffic_img224_jpg.rf.2c40a77726eb8470ec79c43cacb490b2.txt  \n",
            "  inflating: +_281_640_640_label_accident.v2i.yolov7pytorch/train/labels/severityV4_10_jpg.rf.cb728420d8f01841677dbfac44ef385e.txt  \n",
            "  inflating: __MACOSX/+_281_640_640_label_accident.v2i.yolov7pytorch/train/labels/._severityV4_10_jpg.rf.cb728420d8f01841677dbfac44ef385e.txt  \n",
            "  inflating: +_281_640_640_label_accident.v2i.yolov7pytorch/train/labels/traffic_img757_jpg.rf.9166e997fb1d21678dca8545ef0a3c1e.txt  \n",
            "  inflating: __MACOSX/+_281_640_640_label_accident.v2i.yolov7pytorch/train/labels/._traffic_img757_jpg.rf.9166e997fb1d21678dca8545ef0a3c1e.txt  \n",
            "  inflating: +_281_640_640_label_accident.v2i.yolov7pytorch/train/labels/IMG_2418_PNG_jpg.rf.05a7a899ad40af1fe2de51d5fc9519de.txt  \n",
            "  inflating: __MACOSX/+_281_640_640_label_accident.v2i.yolov7pytorch/train/labels/._IMG_2418_PNG_jpg.rf.05a7a899ad40af1fe2de51d5fc9519de.txt  \n",
            "  inflating: +_281_640_640_label_accident.v2i.yolov7pytorch/train/labels/trafficseverity_img1003_jpg.rf.2d4c8e026abf14f9d7477dcb2be176b8.txt  \n",
            "  inflating: __MACOSX/+_281_640_640_label_accident.v2i.yolov7pytorch/train/labels/._trafficseverity_img1003_jpg.rf.2d4c8e026abf14f9d7477dcb2be176b8.txt  \n",
            "  inflating: +_281_640_640_label_accident.v2i.yolov7pytorch/train/labels/traffic_img1765_jpg.rf.a0c2d3ccd3a5963d2647c2436dc7de10.txt  \n",
            "  inflating: __MACOSX/+_281_640_640_label_accident.v2i.yolov7pytorch/train/labels/._traffic_img1765_jpg.rf.a0c2d3ccd3a5963d2647c2436dc7de10.txt  \n"
          ]
        }
      ]
    },
    {
      "cell_type": "code",
      "source": [
        "!pip install ultralytics"
      ],
      "metadata": {
        "id": "tylFMtRiP_ye",
        "colab": {
          "base_uri": "https://localhost:8080/"
        },
        "outputId": "58df73d4-fb98-486a-db1d-66a36a493df6"
      },
      "execution_count": 4,
      "outputs": [
        {
          "output_type": "stream",
          "name": "stdout",
          "text": [
            "Collecting ultralytics\n",
            "  Downloading ultralytics-8.3.13-py3-none-any.whl.metadata (34 kB)\n",
            "Requirement already satisfied: numpy>=1.23.0 in /usr/local/lib/python3.10/dist-packages (from ultralytics) (1.26.4)\n",
            "Requirement already satisfied: matplotlib>=3.3.0 in /usr/local/lib/python3.10/dist-packages (from ultralytics) (3.7.1)\n",
            "Requirement already satisfied: opencv-python>=4.6.0 in /usr/local/lib/python3.10/dist-packages (from ultralytics) (4.10.0.84)\n",
            "Requirement already satisfied: pillow>=7.1.2 in /usr/local/lib/python3.10/dist-packages (from ultralytics) (10.4.0)\n",
            "Requirement already satisfied: pyyaml>=5.3.1 in /usr/local/lib/python3.10/dist-packages (from ultralytics) (6.0.2)\n",
            "Requirement already satisfied: requests>=2.23.0 in /usr/local/lib/python3.10/dist-packages (from ultralytics) (2.32.3)\n",
            "Requirement already satisfied: scipy>=1.4.1 in /usr/local/lib/python3.10/dist-packages (from ultralytics) (1.13.1)\n",
            "Requirement already satisfied: torch>=1.8.0 in /usr/local/lib/python3.10/dist-packages (from ultralytics) (2.4.1+cu121)\n",
            "Requirement already satisfied: torchvision>=0.9.0 in /usr/local/lib/python3.10/dist-packages (from ultralytics) (0.19.1+cu121)\n",
            "Requirement already satisfied: tqdm>=4.64.0 in /usr/local/lib/python3.10/dist-packages (from ultralytics) (4.66.5)\n",
            "Requirement already satisfied: psutil in /usr/local/lib/python3.10/dist-packages (from ultralytics) (5.9.5)\n",
            "Requirement already satisfied: py-cpuinfo in /usr/local/lib/python3.10/dist-packages (from ultralytics) (9.0.0)\n",
            "Requirement already satisfied: pandas>=1.1.4 in /usr/local/lib/python3.10/dist-packages (from ultralytics) (2.2.2)\n",
            "Requirement already satisfied: seaborn>=0.11.0 in /usr/local/lib/python3.10/dist-packages (from ultralytics) (0.13.2)\n",
            "Collecting ultralytics-thop>=2.0.0 (from ultralytics)\n",
            "  Downloading ultralytics_thop-2.0.9-py3-none-any.whl.metadata (9.3 kB)\n",
            "Requirement already satisfied: contourpy>=1.0.1 in /usr/local/lib/python3.10/dist-packages (from matplotlib>=3.3.0->ultralytics) (1.3.0)\n",
            "Requirement already satisfied: cycler>=0.10 in /usr/local/lib/python3.10/dist-packages (from matplotlib>=3.3.0->ultralytics) (0.12.1)\n",
            "Requirement already satisfied: fonttools>=4.22.0 in /usr/local/lib/python3.10/dist-packages (from matplotlib>=3.3.0->ultralytics) (4.54.1)\n",
            "Requirement already satisfied: kiwisolver>=1.0.1 in /usr/local/lib/python3.10/dist-packages (from matplotlib>=3.3.0->ultralytics) (1.4.7)\n",
            "Requirement already satisfied: packaging>=20.0 in /usr/local/lib/python3.10/dist-packages (from matplotlib>=3.3.0->ultralytics) (24.1)\n",
            "Requirement already satisfied: pyparsing>=2.3.1 in /usr/local/lib/python3.10/dist-packages (from matplotlib>=3.3.0->ultralytics) (3.1.4)\n",
            "Requirement already satisfied: python-dateutil>=2.7 in /usr/local/lib/python3.10/dist-packages (from matplotlib>=3.3.0->ultralytics) (2.8.2)\n",
            "Requirement already satisfied: pytz>=2020.1 in /usr/local/lib/python3.10/dist-packages (from pandas>=1.1.4->ultralytics) (2024.2)\n",
            "Requirement already satisfied: tzdata>=2022.7 in /usr/local/lib/python3.10/dist-packages (from pandas>=1.1.4->ultralytics) (2024.2)\n",
            "Requirement already satisfied: charset-normalizer<4,>=2 in /usr/local/lib/python3.10/dist-packages (from requests>=2.23.0->ultralytics) (3.4.0)\n",
            "Requirement already satisfied: idna<4,>=2.5 in /usr/local/lib/python3.10/dist-packages (from requests>=2.23.0->ultralytics) (3.10)\n",
            "Requirement already satisfied: urllib3<3,>=1.21.1 in /usr/local/lib/python3.10/dist-packages (from requests>=2.23.0->ultralytics) (2.2.3)\n",
            "Requirement already satisfied: certifi>=2017.4.17 in /usr/local/lib/python3.10/dist-packages (from requests>=2.23.0->ultralytics) (2024.8.30)\n",
            "Requirement already satisfied: filelock in /usr/local/lib/python3.10/dist-packages (from torch>=1.8.0->ultralytics) (3.16.1)\n",
            "Requirement already satisfied: typing-extensions>=4.8.0 in /usr/local/lib/python3.10/dist-packages (from torch>=1.8.0->ultralytics) (4.12.2)\n",
            "Requirement already satisfied: sympy in /usr/local/lib/python3.10/dist-packages (from torch>=1.8.0->ultralytics) (1.13.3)\n",
            "Requirement already satisfied: networkx in /usr/local/lib/python3.10/dist-packages (from torch>=1.8.0->ultralytics) (3.4)\n",
            "Requirement already satisfied: jinja2 in /usr/local/lib/python3.10/dist-packages (from torch>=1.8.0->ultralytics) (3.1.4)\n",
            "Requirement already satisfied: fsspec in /usr/local/lib/python3.10/dist-packages (from torch>=1.8.0->ultralytics) (2024.6.1)\n",
            "Requirement already satisfied: six>=1.5 in /usr/local/lib/python3.10/dist-packages (from python-dateutil>=2.7->matplotlib>=3.3.0->ultralytics) (1.16.0)\n",
            "Requirement already satisfied: MarkupSafe>=2.0 in /usr/local/lib/python3.10/dist-packages (from jinja2->torch>=1.8.0->ultralytics) (3.0.1)\n",
            "Requirement already satisfied: mpmath<1.4,>=1.1.0 in /usr/local/lib/python3.10/dist-packages (from sympy->torch>=1.8.0->ultralytics) (1.3.0)\n",
            "Downloading ultralytics-8.3.13-py3-none-any.whl (870 kB)\n",
            "\u001b[2K   \u001b[90m━━━━━━━━━━━━━━━━━━━━━━━━━━━━━━━━━━━━━━━━\u001b[0m \u001b[32m870.5/870.5 kB\u001b[0m \u001b[31m23.4 MB/s\u001b[0m eta \u001b[36m0:00:00\u001b[0m\n",
            "\u001b[?25hDownloading ultralytics_thop-2.0.9-py3-none-any.whl (26 kB)\n",
            "Installing collected packages: ultralytics-thop, ultralytics\n",
            "Successfully installed ultralytics-8.3.13 ultralytics-thop-2.0.9\n"
          ]
        }
      ]
    },
    {
      "cell_type": "code",
      "source": [
        "from ultralytics import YOLO"
      ],
      "metadata": {
        "id": "rpTvNvwNR8wW",
        "colab": {
          "base_uri": "https://localhost:8080/"
        },
        "outputId": "4438b983-43f7-4d1a-eb4e-dd5725e7073b"
      },
      "execution_count": 5,
      "outputs": [
        {
          "output_type": "stream",
          "name": "stdout",
          "text": [
            "Creating new Ultralytics Settings v0.0.6 file ✅ \n",
            "View Ultralytics Settings with 'yolo settings' or at '/root/.config/Ultralytics/settings.json'\n",
            "Update Settings with 'yolo settings key=value', i.e. 'yolo settings runs_dir=path/to/dir'. For help see https://docs.ultralytics.com/quickstart/#ultralytics-settings.\n"
          ]
        }
      ]
    },
    {
      "cell_type": "code",
      "source": [
        "model = YOLO(\"yolo11n.pt\")"
      ],
      "metadata": {
        "id": "2Yf3JtovRhrU",
        "colab": {
          "base_uri": "https://localhost:8080/"
        },
        "outputId": "eaa716b4-7589-49db-ac0f-250dfacb2c5d"
      },
      "execution_count": 6,
      "outputs": [
        {
          "output_type": "stream",
          "name": "stdout",
          "text": [
            "Downloading https://github.com/ultralytics/assets/releases/download/v8.3.0/yolo11n.pt to 'yolo11n.pt'...\n"
          ]
        },
        {
          "output_type": "stream",
          "name": "stderr",
          "text": [
            "100%|██████████| 5.35M/5.35M [00:00<00:00, 71.5MB/s]\n"
          ]
        }
      ]
    },
    {
      "cell_type": "code",
      "source": [
        "model.info()"
      ],
      "metadata": {
        "colab": {
          "base_uri": "https://localhost:8080/"
        },
        "id": "x1zRSJMCY-ft",
        "outputId": "79833a84-e4bf-4c9c-f6cb-d6c36401dee5"
      },
      "execution_count": 7,
      "outputs": [
        {
          "output_type": "stream",
          "name": "stdout",
          "text": [
            "YOLO11n summary: 319 layers, 2,624,080 parameters, 0 gradients, 6.6 GFLOPs\n"
          ]
        },
        {
          "output_type": "execute_result",
          "data": {
            "text/plain": [
              "(319, 2624080, 0, 6.614336)"
            ]
          },
          "metadata": {},
          "execution_count": 7
        }
      ]
    },
    {
      "cell_type": "code",
      "source": [
        "results = model.train(data=\"/content/+_281_640_640_label_accident.v2i.yolov7pytorch/data.yaml\", epochs=100, imgsz=640, device=0, batch=50, plots=True, profile=True)"
      ],
      "metadata": {
        "colab": {
          "base_uri": "https://localhost:8080/"
        },
        "id": "TE06EaiGSBEt",
        "outputId": "06b17901-1105-4481-9abe-2411f768d128"
      },
      "execution_count": 8,
      "outputs": [
        {
          "output_type": "stream",
          "name": "stdout",
          "text": [
            "Ultralytics 8.3.13 🚀 Python-3.10.12 torch-2.4.1+cu121 CUDA:0 (Tesla T4, 15102MiB)\n",
            "\u001b[34m\u001b[1mengine/trainer: \u001b[0mtask=detect, mode=train, model=yolo11n.pt, data=/content/+_281_640_640_label_accident.v2i.yolov7pytorch/data.yaml, epochs=100, time=None, patience=100, batch=50, imgsz=640, save=True, save_period=-1, cache=False, device=0, workers=8, project=None, name=train, exist_ok=False, pretrained=True, optimizer=auto, verbose=True, seed=0, deterministic=True, single_cls=False, rect=False, cos_lr=False, close_mosaic=10, resume=False, amp=True, fraction=1.0, profile=True, freeze=None, multi_scale=False, overlap_mask=True, mask_ratio=4, dropout=0.0, val=True, split=val, save_json=False, save_hybrid=False, conf=None, iou=0.7, max_det=300, half=False, dnn=False, plots=True, source=None, vid_stride=1, stream_buffer=False, visualize=False, augment=False, agnostic_nms=False, classes=None, retina_masks=False, embed=None, show=False, save_frames=False, save_txt=False, save_conf=False, save_crop=False, show_labels=True, show_conf=True, show_boxes=True, line_width=None, format=torchscript, keras=False, optimize=False, int8=False, dynamic=False, simplify=True, opset=None, workspace=4, nms=False, lr0=0.01, lrf=0.01, momentum=0.937, weight_decay=0.0005, warmup_epochs=3.0, warmup_momentum=0.8, warmup_bias_lr=0.1, box=7.5, cls=0.5, dfl=1.5, pose=12.0, kobj=1.0, label_smoothing=0.0, nbs=64, hsv_h=0.015, hsv_s=0.7, hsv_v=0.4, degrees=0.0, translate=0.1, scale=0.5, shear=0.0, perspective=0.0, flipud=0.0, fliplr=0.5, bgr=0.0, mosaic=1.0, mixup=0.0, copy_paste=0.0, copy_paste_mode=flip, auto_augment=randaugment, erasing=0.4, crop_fraction=1.0, cfg=None, tracker=botsort.yaml, save_dir=runs/detect/train\n",
            "Downloading https://ultralytics.com/assets/Arial.ttf to '/root/.config/Ultralytics/Arial.ttf'...\n"
          ]
        },
        {
          "output_type": "stream",
          "name": "stderr",
          "text": [
            "100%|██████████| 755k/755k [00:00<00:00, 22.3MB/s]\n"
          ]
        },
        {
          "output_type": "stream",
          "name": "stdout",
          "text": [
            "Overriding model.yaml nc=80 with nc=3\n",
            "\n",
            "                   from  n    params  module                                       arguments                     \n",
            "  0                  -1  1       464  ultralytics.nn.modules.conv.Conv             [3, 16, 3, 2]                 \n",
            "  1                  -1  1      4672  ultralytics.nn.modules.conv.Conv             [16, 32, 3, 2]                \n",
            "  2                  -1  1      6640  ultralytics.nn.modules.block.C3k2            [32, 64, 1, False, 0.25]      \n",
            "  3                  -1  1     36992  ultralytics.nn.modules.conv.Conv             [64, 64, 3, 2]                \n",
            "  4                  -1  1     26080  ultralytics.nn.modules.block.C3k2            [64, 128, 1, False, 0.25]     \n",
            "  5                  -1  1    147712  ultralytics.nn.modules.conv.Conv             [128, 128, 3, 2]              \n",
            "  6                  -1  1     87040  ultralytics.nn.modules.block.C3k2            [128, 128, 1, True]           \n",
            "  7                  -1  1    295424  ultralytics.nn.modules.conv.Conv             [128, 256, 3, 2]              \n",
            "  8                  -1  1    346112  ultralytics.nn.modules.block.C3k2            [256, 256, 1, True]           \n",
            "  9                  -1  1    164608  ultralytics.nn.modules.block.SPPF            [256, 256, 5]                 \n",
            " 10                  -1  1    249728  ultralytics.nn.modules.block.C2PSA           [256, 256, 1]                 \n",
            " 11                  -1  1         0  torch.nn.modules.upsampling.Upsample         [None, 2, 'nearest']          \n",
            " 12             [-1, 6]  1         0  ultralytics.nn.modules.conv.Concat           [1]                           \n",
            " 13                  -1  1    111296  ultralytics.nn.modules.block.C3k2            [384, 128, 1, False]          \n",
            " 14                  -1  1         0  torch.nn.modules.upsampling.Upsample         [None, 2, 'nearest']          \n",
            " 15             [-1, 4]  1         0  ultralytics.nn.modules.conv.Concat           [1]                           \n",
            " 16                  -1  1     32096  ultralytics.nn.modules.block.C3k2            [256, 64, 1, False]           \n",
            " 17                  -1  1     36992  ultralytics.nn.modules.conv.Conv             [64, 64, 3, 2]                \n",
            " 18            [-1, 13]  1         0  ultralytics.nn.modules.conv.Concat           [1]                           \n",
            " 19                  -1  1     86720  ultralytics.nn.modules.block.C3k2            [192, 128, 1, False]          \n",
            " 20                  -1  1    147712  ultralytics.nn.modules.conv.Conv             [128, 128, 3, 2]              \n",
            " 21            [-1, 10]  1         0  ultralytics.nn.modules.conv.Concat           [1]                           \n",
            " 22                  -1  1    378880  ultralytics.nn.modules.block.C3k2            [384, 256, 1, True]           \n",
            " 23        [16, 19, 22]  1    431257  ultralytics.nn.modules.head.Detect           [3, [64, 128, 256]]           \n",
            "YOLO11n summary: 319 layers, 2,590,425 parameters, 2,590,409 gradients, 6.4 GFLOPs\n",
            "\n",
            "Transferred 448/499 items from pretrained weights\n",
            "\u001b[34m\u001b[1mTensorBoard: \u001b[0mStart with 'tensorboard --logdir runs/detect/train', view at http://localhost:6006/\n",
            "Freezing layer 'model.23.dfl.conv.weight'\n",
            "\u001b[34m\u001b[1mAMP: \u001b[0mrunning Automatic Mixed Precision (AMP) checks with YOLO11n...\n",
            "\u001b[34m\u001b[1mAMP: \u001b[0mchecks passed ✅\n"
          ]
        },
        {
          "output_type": "stream",
          "name": "stderr",
          "text": [
            "\u001b[34m\u001b[1mtrain: \u001b[0mScanning /content/+_281_640_640_label_accident.v2i.yolov7pytorch/train/labels... 194 images, 0 backgrounds, 0 corrupt: 100%|██████████| 194/194 [00:00<00:00, 1988.41it/s]"
          ]
        },
        {
          "output_type": "stream",
          "name": "stdout",
          "text": [
            "\u001b[34m\u001b[1mtrain: \u001b[0mNew cache created: /content/+_281_640_640_label_accident.v2i.yolov7pytorch/train/labels.cache\n"
          ]
        },
        {
          "output_type": "stream",
          "name": "stderr",
          "text": [
            "\n"
          ]
        },
        {
          "output_type": "stream",
          "name": "stdout",
          "text": [
            "\u001b[34m\u001b[1malbumentations: \u001b[0mBlur(p=0.01, blur_limit=(3, 7)), MedianBlur(p=0.01, blur_limit=(3, 7)), ToGray(p=0.01, num_output_channels=3, method='weighted_average'), CLAHE(p=0.01, clip_limit=(1, 4.0), tile_grid_size=(8, 8))\n"
          ]
        },
        {
          "output_type": "stream",
          "name": "stderr",
          "text": [
            "/usr/local/lib/python3.10/dist-packages/albumentations/__init__.py:13: UserWarning: A new version of Albumentations is available: 1.4.18 (you have 1.4.15). Upgrade using: pip install -U albumentations. To disable automatic update checks, set the environment variable NO_ALBUMENTATIONS_UPDATE to 1.\n",
            "  check_for_updates()\n",
            "\u001b[34m\u001b[1mval: \u001b[0mScanning /content/+_281_640_640_label_accident.v2i.yolov7pytorch/valid/labels... 56 images, 0 backgrounds, 0 corrupt: 100%|██████████| 56/56 [00:00<00:00, 1100.82it/s]"
          ]
        },
        {
          "output_type": "stream",
          "name": "stdout",
          "text": [
            "\u001b[34m\u001b[1mval: \u001b[0mNew cache created: /content/+_281_640_640_label_accident.v2i.yolov7pytorch/valid/labels.cache\n"
          ]
        },
        {
          "output_type": "stream",
          "name": "stderr",
          "text": [
            "\n"
          ]
        },
        {
          "output_type": "stream",
          "name": "stdout",
          "text": [
            "Plotting labels to runs/detect/train/labels.jpg... \n",
            "\u001b[34m\u001b[1moptimizer:\u001b[0m 'optimizer=auto' found, ignoring 'lr0=0.01' and 'momentum=0.937' and determining best 'optimizer', 'lr0' and 'momentum' automatically... \n",
            "\u001b[34m\u001b[1moptimizer:\u001b[0m AdamW(lr=0.001429, momentum=0.9) with parameter groups 81 weight(decay=0.0), 88 weight(decay=0.000390625), 87 bias(decay=0.0)\n",
            "\u001b[34m\u001b[1mTensorBoard: \u001b[0mmodel graph visualization added ✅\n",
            "Image sizes 640 train, 640 val\n",
            "Using 2 dataloader workers\n",
            "Logging results to \u001b[1mruns/detect/train\u001b[0m\n",
            "Starting training for 100 epochs...\n",
            "\n",
            "      Epoch    GPU_mem   box_loss   cls_loss   dfl_loss  Instances       Size\n"
          ]
        },
        {
          "output_type": "stream",
          "name": "stderr",
          "text": [
            "      1/100      7.26G      1.411      3.549       1.63         99        640: 100%|██████████| 4/4 [00:04<00:00,  1.08s/it]\n",
            "                 Class     Images  Instances      Box(P          R      mAP50  mAP50-95): 100%|██████████| 1/1 [00:02<00:00,  2.18s/it]"
          ]
        },
        {
          "output_type": "stream",
          "name": "stdout",
          "text": [
            "                   all         56         63    0.00429      0.942     0.0443     0.0197\n"
          ]
        },
        {
          "output_type": "stream",
          "name": "stderr",
          "text": [
            "\n"
          ]
        },
        {
          "output_type": "stream",
          "name": "stdout",
          "text": [
            "\n",
            "      Epoch    GPU_mem   box_loss   cls_loss   dfl_loss  Instances       Size\n"
          ]
        },
        {
          "output_type": "stream",
          "name": "stderr",
          "text": [
            "      2/100      6.84G      1.326      3.464      1.542        114        640: 100%|██████████| 4/4 [00:02<00:00,  1.37it/s]\n",
            "                 Class     Images  Instances      Box(P          R      mAP50  mAP50-95): 100%|██████████| 1/1 [00:01<00:00,  1.85s/it]"
          ]
        },
        {
          "output_type": "stream",
          "name": "stdout",
          "text": [
            "                   all         56         63    0.00784      0.949      0.104     0.0589\n"
          ]
        },
        {
          "output_type": "stream",
          "name": "stderr",
          "text": [
            "\n"
          ]
        },
        {
          "output_type": "stream",
          "name": "stdout",
          "text": [
            "\n",
            "      Epoch    GPU_mem   box_loss   cls_loss   dfl_loss  Instances       Size\n"
          ]
        },
        {
          "output_type": "stream",
          "name": "stderr",
          "text": [
            "      3/100      6.88G      1.137       3.27      1.448         99        640: 100%|██████████| 4/4 [00:02<00:00,  1.63it/s]\n",
            "                 Class     Images  Instances      Box(P          R      mAP50  mAP50-95): 100%|██████████| 1/1 [00:01<00:00,  1.39s/it]"
          ]
        },
        {
          "output_type": "stream",
          "name": "stdout",
          "text": [
            "                   all         56         63     0.0166      0.776      0.148      0.089\n"
          ]
        },
        {
          "output_type": "stream",
          "name": "stderr",
          "text": [
            "\n"
          ]
        },
        {
          "output_type": "stream",
          "name": "stdout",
          "text": [
            "\n",
            "      Epoch    GPU_mem   box_loss   cls_loss   dfl_loss  Instances       Size\n"
          ]
        },
        {
          "output_type": "stream",
          "name": "stderr",
          "text": [
            "      4/100      6.82G       1.14      3.182      1.419         95        640: 100%|██████████| 4/4 [00:02<00:00,  1.88it/s]\n",
            "                 Class     Images  Instances      Box(P          R      mAP50  mAP50-95): 100%|██████████| 1/1 [00:00<00:00,  1.14it/s]"
          ]
        },
        {
          "output_type": "stream",
          "name": "stdout",
          "text": [
            "                   all         56         63     0.0262      0.763      0.136      0.076\n"
          ]
        },
        {
          "output_type": "stream",
          "name": "stderr",
          "text": [
            "\n"
          ]
        },
        {
          "output_type": "stream",
          "name": "stdout",
          "text": [
            "\n",
            "      Epoch    GPU_mem   box_loss   cls_loss   dfl_loss  Instances       Size\n"
          ]
        },
        {
          "output_type": "stream",
          "name": "stderr",
          "text": [
            "      5/100      6.82G      1.106      2.935      1.416         90        640: 100%|██████████| 4/4 [00:02<00:00,  1.88it/s]\n",
            "                 Class     Images  Instances      Box(P          R      mAP50  mAP50-95): 100%|██████████| 1/1 [00:01<00:00,  1.08s/it]"
          ]
        },
        {
          "output_type": "stream",
          "name": "stdout",
          "text": [
            "                   all         56         63     0.0185      0.668     0.0823     0.0353\n"
          ]
        },
        {
          "output_type": "stream",
          "name": "stderr",
          "text": [
            "\n"
          ]
        },
        {
          "output_type": "stream",
          "name": "stdout",
          "text": [
            "\n",
            "      Epoch    GPU_mem   box_loss   cls_loss   dfl_loss  Instances       Size\n"
          ]
        },
        {
          "output_type": "stream",
          "name": "stderr",
          "text": [
            "      6/100      6.92G      1.084      2.762       1.39         88        640: 100%|██████████| 4/4 [00:02<00:00,  1.67it/s]\n",
            "                 Class     Images  Instances      Box(P          R      mAP50  mAP50-95): 100%|██████████| 1/1 [00:01<00:00,  1.85s/it]"
          ]
        },
        {
          "output_type": "stream",
          "name": "stdout",
          "text": [
            "                   all         56         63     0.0143      0.854     0.0747     0.0337\n"
          ]
        },
        {
          "output_type": "stream",
          "name": "stderr",
          "text": [
            "\n"
          ]
        },
        {
          "output_type": "stream",
          "name": "stdout",
          "text": [
            "\n",
            "      Epoch    GPU_mem   box_loss   cls_loss   dfl_loss  Instances       Size\n"
          ]
        },
        {
          "output_type": "stream",
          "name": "stderr",
          "text": [
            "      7/100      6.88G      1.107      2.627      1.395        101        640: 100%|██████████| 4/4 [00:02<00:00,  1.92it/s]\n",
            "                 Class     Images  Instances      Box(P          R      mAP50  mAP50-95): 100%|██████████| 1/1 [00:01<00:00,  1.02s/it]"
          ]
        },
        {
          "output_type": "stream",
          "name": "stdout",
          "text": [
            "                   all         56         63     0.0146      0.694     0.0857     0.0391\n"
          ]
        },
        {
          "output_type": "stream",
          "name": "stderr",
          "text": [
            "\n"
          ]
        },
        {
          "output_type": "stream",
          "name": "stdout",
          "text": [
            "\n",
            "      Epoch    GPU_mem   box_loss   cls_loss   dfl_loss  Instances       Size\n"
          ]
        },
        {
          "output_type": "stream",
          "name": "stderr",
          "text": [
            "      8/100      6.86G      1.115      2.538      1.457        105        640: 100%|██████████| 4/4 [00:02<00:00,  1.92it/s]\n",
            "                 Class     Images  Instances      Box(P          R      mAP50  mAP50-95): 100%|██████████| 1/1 [00:01<00:00,  1.01s/it]"
          ]
        },
        {
          "output_type": "stream",
          "name": "stdout",
          "text": [
            "                   all         56         63     0.0143      0.745      0.123     0.0506\n"
          ]
        },
        {
          "output_type": "stream",
          "name": "stderr",
          "text": [
            "\n"
          ]
        },
        {
          "output_type": "stream",
          "name": "stdout",
          "text": [
            "\n",
            "      Epoch    GPU_mem   box_loss   cls_loss   dfl_loss  Instances       Size\n"
          ]
        },
        {
          "output_type": "stream",
          "name": "stderr",
          "text": [
            "      9/100      6.87G      1.138      2.429      1.465         86        640: 100%|██████████| 4/4 [00:02<00:00,  1.82it/s]\n",
            "                 Class     Images  Instances      Box(P          R      mAP50  mAP50-95): 100%|██████████| 1/1 [00:01<00:00,  1.57s/it]"
          ]
        },
        {
          "output_type": "stream",
          "name": "stdout",
          "text": [
            "                   all         56         63      0.013      0.771      0.186     0.0939\n"
          ]
        },
        {
          "output_type": "stream",
          "name": "stderr",
          "text": [
            "\n"
          ]
        },
        {
          "output_type": "stream",
          "name": "stdout",
          "text": [
            "\n",
            "      Epoch    GPU_mem   box_loss   cls_loss   dfl_loss  Instances       Size\n"
          ]
        },
        {
          "output_type": "stream",
          "name": "stderr",
          "text": [
            "     10/100      6.85G      1.115       2.36      1.438         97        640: 100%|██████████| 4/4 [00:02<00:00,  1.62it/s]\n",
            "                 Class     Images  Instances      Box(P          R      mAP50  mAP50-95): 100%|██████████| 1/1 [00:01<00:00,  1.62s/it]"
          ]
        },
        {
          "output_type": "stream",
          "name": "stdout",
          "text": [
            "                   all         56         63      0.442      0.352      0.171     0.0887\n"
          ]
        },
        {
          "output_type": "stream",
          "name": "stderr",
          "text": [
            "\n"
          ]
        },
        {
          "output_type": "stream",
          "name": "stdout",
          "text": [
            "\n",
            "      Epoch    GPU_mem   box_loss   cls_loss   dfl_loss  Instances       Size\n"
          ]
        },
        {
          "output_type": "stream",
          "name": "stderr",
          "text": [
            "     11/100      6.85G      1.124       2.33      1.406        102        640: 100%|██████████| 4/4 [00:02<00:00,  1.90it/s]\n",
            "                 Class     Images  Instances      Box(P          R      mAP50  mAP50-95): 100%|██████████| 1/1 [00:00<00:00,  1.25it/s]"
          ]
        },
        {
          "output_type": "stream",
          "name": "stdout",
          "text": [
            "                   all         56         63     0.0142      0.949      0.169     0.0826\n"
          ]
        },
        {
          "output_type": "stream",
          "name": "stderr",
          "text": [
            "\n"
          ]
        },
        {
          "output_type": "stream",
          "name": "stdout",
          "text": [
            "\n",
            "      Epoch    GPU_mem   box_loss   cls_loss   dfl_loss  Instances       Size\n"
          ]
        },
        {
          "output_type": "stream",
          "name": "stderr",
          "text": [
            "     12/100      6.83G      1.102      2.304      1.402         96        640: 100%|██████████| 4/4 [00:01<00:00,  2.02it/s]\n",
            "                 Class     Images  Instances      Box(P          R      mAP50  mAP50-95): 100%|██████████| 1/1 [00:00<00:00,  1.41it/s]"
          ]
        },
        {
          "output_type": "stream",
          "name": "stdout",
          "text": [
            "                   all         56         63     0.0163       0.75       0.21     0.0951\n"
          ]
        },
        {
          "output_type": "stream",
          "name": "stderr",
          "text": [
            "\n"
          ]
        },
        {
          "output_type": "stream",
          "name": "stdout",
          "text": [
            "\n",
            "      Epoch    GPU_mem   box_loss   cls_loss   dfl_loss  Instances       Size\n"
          ]
        },
        {
          "output_type": "stream",
          "name": "stderr",
          "text": [
            "     13/100      6.88G      1.134      2.334      1.458         74        640: 100%|██████████| 4/4 [00:02<00:00,  1.75it/s]\n",
            "                 Class     Images  Instances      Box(P          R      mAP50  mAP50-95): 100%|██████████| 1/1 [00:01<00:00,  1.23s/it]"
          ]
        },
        {
          "output_type": "stream",
          "name": "stdout",
          "text": [
            "                   all         56         63      0.021      0.482     0.0909     0.0402\n"
          ]
        },
        {
          "output_type": "stream",
          "name": "stderr",
          "text": [
            "\n"
          ]
        },
        {
          "output_type": "stream",
          "name": "stdout",
          "text": [
            "\n",
            "      Epoch    GPU_mem   box_loss   cls_loss   dfl_loss  Instances       Size\n"
          ]
        },
        {
          "output_type": "stream",
          "name": "stderr",
          "text": [
            "     14/100      6.85G      1.153      2.154      1.452         91        640: 100%|██████████| 4/4 [00:02<00:00,  1.61it/s]\n",
            "                 Class     Images  Instances      Box(P          R      mAP50  mAP50-95): 100%|██████████| 1/1 [00:00<00:00,  1.26it/s]"
          ]
        },
        {
          "output_type": "stream",
          "name": "stdout",
          "text": [
            "                   all         56         63     0.0184      0.368      0.091      0.059\n"
          ]
        },
        {
          "output_type": "stream",
          "name": "stderr",
          "text": [
            "\n"
          ]
        },
        {
          "output_type": "stream",
          "name": "stdout",
          "text": [
            "\n",
            "      Epoch    GPU_mem   box_loss   cls_loss   dfl_loss  Instances       Size\n"
          ]
        },
        {
          "output_type": "stream",
          "name": "stderr",
          "text": [
            "     15/100      6.82G      1.133      2.088      1.376         97        640: 100%|██████████| 4/4 [00:02<00:00,  1.84it/s]\n",
            "                 Class     Images  Instances      Box(P          R      mAP50  mAP50-95): 100%|██████████| 1/1 [00:00<00:00,  1.57it/s]"
          ]
        },
        {
          "output_type": "stream",
          "name": "stdout",
          "text": [
            "                   all         56         63      0.367      0.402      0.114     0.0497\n"
          ]
        },
        {
          "output_type": "stream",
          "name": "stderr",
          "text": [
            "\n"
          ]
        },
        {
          "output_type": "stream",
          "name": "stdout",
          "text": [
            "\n",
            "      Epoch    GPU_mem   box_loss   cls_loss   dfl_loss  Instances       Size\n"
          ]
        },
        {
          "output_type": "stream",
          "name": "stderr",
          "text": [
            "     16/100      6.88G      1.219      2.203      1.471        103        640: 100%|██████████| 4/4 [00:02<00:00,  1.88it/s]\n",
            "                 Class     Images  Instances      Box(P          R      mAP50  mAP50-95): 100%|██████████| 1/1 [00:00<00:00,  1.46it/s]"
          ]
        },
        {
          "output_type": "stream",
          "name": "stdout",
          "text": [
            "                   all         56         63      0.783     0.0517      0.108     0.0455\n"
          ]
        },
        {
          "output_type": "stream",
          "name": "stderr",
          "text": [
            "\n"
          ]
        },
        {
          "output_type": "stream",
          "name": "stdout",
          "text": [
            "\n",
            "      Epoch    GPU_mem   box_loss   cls_loss   dfl_loss  Instances       Size\n"
          ]
        },
        {
          "output_type": "stream",
          "name": "stderr",
          "text": [
            "     17/100      6.88G      1.158      2.198      1.452         86        640: 100%|██████████| 4/4 [00:02<00:00,  1.67it/s]\n",
            "                 Class     Images  Instances      Box(P          R      mAP50  mAP50-95): 100%|██████████| 1/1 [00:00<00:00,  1.03it/s]"
          ]
        },
        {
          "output_type": "stream",
          "name": "stdout",
          "text": [
            "                   all         56         63    0.00357      0.912     0.0739     0.0283\n"
          ]
        },
        {
          "output_type": "stream",
          "name": "stderr",
          "text": [
            "\n"
          ]
        },
        {
          "output_type": "stream",
          "name": "stdout",
          "text": [
            "\n",
            "      Epoch    GPU_mem   box_loss   cls_loss   dfl_loss  Instances       Size\n"
          ]
        },
        {
          "output_type": "stream",
          "name": "stderr",
          "text": [
            "     18/100      6.88G      1.233      2.137      1.458        105        640: 100%|██████████| 4/4 [00:02<00:00,  1.62it/s]\n",
            "                 Class     Images  Instances      Box(P          R      mAP50  mAP50-95): 100%|██████████| 1/1 [00:00<00:00,  1.18it/s]"
          ]
        },
        {
          "output_type": "stream",
          "name": "stdout",
          "text": [
            "                   all         56         63      0.439     0.0869     0.0507     0.0223\n"
          ]
        },
        {
          "output_type": "stream",
          "name": "stderr",
          "text": [
            "\n"
          ]
        },
        {
          "output_type": "stream",
          "name": "stdout",
          "text": [
            "\n",
            "      Epoch    GPU_mem   box_loss   cls_loss   dfl_loss  Instances       Size\n"
          ]
        },
        {
          "output_type": "stream",
          "name": "stderr",
          "text": [
            "     19/100      6.88G      1.192      2.009      1.464        103        640: 100%|██████████| 4/4 [00:02<00:00,  1.91it/s]\n",
            "                 Class     Images  Instances      Box(P          R      mAP50  mAP50-95): 100%|██████████| 1/1 [00:00<00:00,  1.37it/s]"
          ]
        },
        {
          "output_type": "stream",
          "name": "stdout",
          "text": [
            "                   all         56         63      0.486      0.038     0.0664     0.0159\n"
          ]
        },
        {
          "output_type": "stream",
          "name": "stderr",
          "text": [
            "\n"
          ]
        },
        {
          "output_type": "stream",
          "name": "stdout",
          "text": [
            "\n",
            "      Epoch    GPU_mem   box_loss   cls_loss   dfl_loss  Instances       Size\n"
          ]
        },
        {
          "output_type": "stream",
          "name": "stderr",
          "text": [
            "     20/100      6.84G      1.182      2.033      1.441        102        640: 100%|██████████| 4/4 [00:02<00:00,  1.88it/s]\n",
            "                 Class     Images  Instances      Box(P          R      mAP50  mAP50-95): 100%|██████████| 1/1 [00:00<00:00,  1.42it/s]"
          ]
        },
        {
          "output_type": "stream",
          "name": "stdout",
          "text": [
            "                   all         56         63    0.00237      0.524     0.0182    0.00583\n"
          ]
        },
        {
          "output_type": "stream",
          "name": "stderr",
          "text": [
            "\n"
          ]
        },
        {
          "output_type": "stream",
          "name": "stdout",
          "text": [
            "\n",
            "      Epoch    GPU_mem   box_loss   cls_loss   dfl_loss  Instances       Size\n"
          ]
        },
        {
          "output_type": "stream",
          "name": "stderr",
          "text": [
            "     21/100      6.85G       1.24      2.049      1.484         87        640: 100%|██████████| 4/4 [00:02<00:00,  1.61it/s]\n",
            "                 Class     Images  Instances      Box(P          R      mAP50  mAP50-95): 100%|██████████| 1/1 [00:01<00:00,  1.13s/it]"
          ]
        },
        {
          "output_type": "stream",
          "name": "stdout",
          "text": [
            "                   all         56         63    0.00217      0.475     0.0136    0.00395\n"
          ]
        },
        {
          "output_type": "stream",
          "name": "stderr",
          "text": [
            "\n"
          ]
        },
        {
          "output_type": "stream",
          "name": "stdout",
          "text": [
            "\n",
            "      Epoch    GPU_mem   box_loss   cls_loss   dfl_loss  Instances       Size\n"
          ]
        },
        {
          "output_type": "stream",
          "name": "stderr",
          "text": [
            "     22/100      6.88G      1.222      2.208      1.456         84        640: 100%|██████████| 4/4 [00:02<00:00,  1.62it/s]\n",
            "                 Class     Images  Instances      Box(P          R      mAP50  mAP50-95): 100%|██████████| 1/1 [00:01<00:00,  1.00s/it]"
          ]
        },
        {
          "output_type": "stream",
          "name": "stdout",
          "text": [
            "                   all         56         63      0.413      0.101     0.0425     0.0134\n"
          ]
        },
        {
          "output_type": "stream",
          "name": "stderr",
          "text": [
            "\n"
          ]
        },
        {
          "output_type": "stream",
          "name": "stdout",
          "text": [
            "\n",
            "      Epoch    GPU_mem   box_loss   cls_loss   dfl_loss  Instances       Size\n"
          ]
        },
        {
          "output_type": "stream",
          "name": "stderr",
          "text": [
            "     23/100      6.87G      1.206      1.985      1.442         91        640: 100%|██████████| 4/4 [00:02<00:00,  1.63it/s]\n",
            "                 Class     Images  Instances      Box(P          R      mAP50  mAP50-95): 100%|██████████| 1/1 [00:00<00:00,  1.24it/s]"
          ]
        },
        {
          "output_type": "stream",
          "name": "stdout",
          "text": [
            "                   all         56         63      0.373     0.0499     0.0151    0.00509\n"
          ]
        },
        {
          "output_type": "stream",
          "name": "stderr",
          "text": [
            "\n"
          ]
        },
        {
          "output_type": "stream",
          "name": "stdout",
          "text": [
            "\n",
            "      Epoch    GPU_mem   box_loss   cls_loss   dfl_loss  Instances       Size\n"
          ]
        },
        {
          "output_type": "stream",
          "name": "stderr",
          "text": [
            "     24/100      6.82G      1.328      2.019      1.532         87        640: 100%|██████████| 4/4 [00:02<00:00,  1.75it/s]\n",
            "                 Class     Images  Instances      Box(P          R      mAP50  mAP50-95): 100%|██████████| 1/1 [00:01<00:00,  1.18s/it]"
          ]
        },
        {
          "output_type": "stream",
          "name": "stdout",
          "text": [
            "                   all         56         63      0.387     0.0755      0.022    0.00777\n"
          ]
        },
        {
          "output_type": "stream",
          "name": "stderr",
          "text": [
            "\n"
          ]
        },
        {
          "output_type": "stream",
          "name": "stdout",
          "text": [
            "\n",
            "      Epoch    GPU_mem   box_loss   cls_loss   dfl_loss  Instances       Size\n"
          ]
        },
        {
          "output_type": "stream",
          "name": "stderr",
          "text": [
            "     25/100      6.88G      1.209      2.006      1.467         81        640: 100%|██████████| 4/4 [00:02<00:00,  1.60it/s]\n",
            "                 Class     Images  Instances      Box(P          R      mAP50  mAP50-95): 100%|██████████| 1/1 [00:00<00:00,  1.39it/s]"
          ]
        },
        {
          "output_type": "stream",
          "name": "stdout",
          "text": [
            "                   all         56         63      0.357      0.113      0.014    0.00449\n"
          ]
        },
        {
          "output_type": "stream",
          "name": "stderr",
          "text": [
            "\n"
          ]
        },
        {
          "output_type": "stream",
          "name": "stdout",
          "text": [
            "\n",
            "      Epoch    GPU_mem   box_loss   cls_loss   dfl_loss  Instances       Size\n"
          ]
        },
        {
          "output_type": "stream",
          "name": "stderr",
          "text": [
            "     26/100      6.85G      1.242      1.899      1.459        104        640: 100%|██████████| 4/4 [00:02<00:00,  1.81it/s]\n",
            "                 Class     Images  Instances      Box(P          R      mAP50  mAP50-95): 100%|██████████| 1/1 [00:00<00:00,  1.57it/s]"
          ]
        },
        {
          "output_type": "stream",
          "name": "stdout",
          "text": [
            "                   all         56         63      0.387      0.207     0.0409     0.0138\n"
          ]
        },
        {
          "output_type": "stream",
          "name": "stderr",
          "text": [
            "\n"
          ]
        },
        {
          "output_type": "stream",
          "name": "stdout",
          "text": [
            "\n",
            "      Epoch    GPU_mem   box_loss   cls_loss   dfl_loss  Instances       Size\n"
          ]
        },
        {
          "output_type": "stream",
          "name": "stderr",
          "text": [
            "     27/100      6.88G       1.26      1.905      1.506        104        640: 100%|██████████| 4/4 [00:02<00:00,  1.90it/s]\n",
            "                 Class     Images  Instances      Box(P          R      mAP50  mAP50-95): 100%|██████████| 1/1 [00:00<00:00,  1.37it/s]"
          ]
        },
        {
          "output_type": "stream",
          "name": "stdout",
          "text": [
            "                   all         56         63      0.695      0.111     0.0308    0.00967\n"
          ]
        },
        {
          "output_type": "stream",
          "name": "stderr",
          "text": [
            "\n"
          ]
        },
        {
          "output_type": "stream",
          "name": "stdout",
          "text": [
            "\n",
            "      Epoch    GPU_mem   box_loss   cls_loss   dfl_loss  Instances       Size\n"
          ]
        },
        {
          "output_type": "stream",
          "name": "stderr",
          "text": [
            "     28/100      6.87G       1.18      1.791      1.437         99        640: 100%|██████████| 4/4 [00:02<00:00,  1.70it/s]\n",
            "                 Class     Images  Instances      Box(P          R      mAP50  mAP50-95): 100%|██████████| 1/1 [00:00<00:00,  1.07it/s]"
          ]
        },
        {
          "output_type": "stream",
          "name": "stdout",
          "text": [
            "                   all         56         63      0.905      0.037     0.0528     0.0388\n"
          ]
        },
        {
          "output_type": "stream",
          "name": "stderr",
          "text": [
            "\n"
          ]
        },
        {
          "output_type": "stream",
          "name": "stdout",
          "text": [
            "\n",
            "      Epoch    GPU_mem   box_loss   cls_loss   dfl_loss  Instances       Size\n"
          ]
        },
        {
          "output_type": "stream",
          "name": "stderr",
          "text": [
            "     29/100      6.86G      1.208      1.881      1.436         99        640: 100%|██████████| 4/4 [00:02<00:00,  1.72it/s]\n",
            "                 Class     Images  Instances      Box(P          R      mAP50  mAP50-95): 100%|██████████| 1/1 [00:00<00:00,  1.34it/s]"
          ]
        },
        {
          "output_type": "stream",
          "name": "stdout",
          "text": [
            "                   all         56         63      0.402     0.0933     0.0259       0.01\n"
          ]
        },
        {
          "output_type": "stream",
          "name": "stderr",
          "text": [
            "\n"
          ]
        },
        {
          "output_type": "stream",
          "name": "stdout",
          "text": [
            "\n",
            "      Epoch    GPU_mem   box_loss   cls_loss   dfl_loss  Instances       Size\n"
          ]
        },
        {
          "output_type": "stream",
          "name": "stderr",
          "text": [
            "     30/100      6.88G       1.18      1.851      1.464         86        640: 100%|██████████| 4/4 [00:02<00:00,  1.85it/s]\n",
            "                 Class     Images  Instances      Box(P          R      mAP50  mAP50-95): 100%|██████████| 1/1 [00:00<00:00,  1.70it/s]"
          ]
        },
        {
          "output_type": "stream",
          "name": "stdout",
          "text": [
            "                   all         56         63      0.388      0.107     0.0288     0.0112\n"
          ]
        },
        {
          "output_type": "stream",
          "name": "stderr",
          "text": [
            "\n"
          ]
        },
        {
          "output_type": "stream",
          "name": "stdout",
          "text": [
            "\n",
            "      Epoch    GPU_mem   box_loss   cls_loss   dfl_loss  Instances       Size\n"
          ]
        },
        {
          "output_type": "stream",
          "name": "stderr",
          "text": [
            "     31/100      6.88G      1.172      1.817       1.44         95        640: 100%|██████████| 4/4 [00:02<00:00,  1.95it/s]\n",
            "                 Class     Images  Instances      Box(P          R      mAP50  mAP50-95): 100%|██████████| 1/1 [00:00<00:00,  1.32it/s]"
          ]
        },
        {
          "output_type": "stream",
          "name": "stdout",
          "text": [
            "                   all         56         63      0.751      0.037     0.0578     0.0291\n"
          ]
        },
        {
          "output_type": "stream",
          "name": "stderr",
          "text": [
            "\n"
          ]
        },
        {
          "output_type": "stream",
          "name": "stdout",
          "text": [
            "\n",
            "      Epoch    GPU_mem   box_loss   cls_loss   dfl_loss  Instances       Size\n"
          ]
        },
        {
          "output_type": "stream",
          "name": "stderr",
          "text": [
            "     32/100      6.87G      1.209       1.79      1.472        100        640: 100%|██████████| 4/4 [00:02<00:00,  1.59it/s]\n",
            "                 Class     Images  Instances      Box(P          R      mAP50  mAP50-95): 100%|██████████| 1/1 [00:01<00:00,  1.08s/it]"
          ]
        },
        {
          "output_type": "stream",
          "name": "stdout",
          "text": [
            "                   all         56         63    0.00263       0.83    0.00691    0.00208\n"
          ]
        },
        {
          "output_type": "stream",
          "name": "stderr",
          "text": [
            "\n"
          ]
        },
        {
          "output_type": "stream",
          "name": "stdout",
          "text": [
            "\n",
            "      Epoch    GPU_mem   box_loss   cls_loss   dfl_loss  Instances       Size\n"
          ]
        },
        {
          "output_type": "stream",
          "name": "stderr",
          "text": [
            "     33/100      6.87G      1.153      1.676      1.438         85        640: 100%|██████████| 4/4 [00:02<00:00,  1.69it/s]\n",
            "                 Class     Images  Instances      Box(P          R      mAP50  mAP50-95): 100%|██████████| 1/1 [00:00<00:00,  1.40it/s]"
          ]
        },
        {
          "output_type": "stream",
          "name": "stdout",
          "text": [
            "                   all         56         63    0.00175      0.637    0.00649    0.00236\n"
          ]
        },
        {
          "output_type": "stream",
          "name": "stderr",
          "text": [
            "\n"
          ]
        },
        {
          "output_type": "stream",
          "name": "stdout",
          "text": [
            "\n",
            "      Epoch    GPU_mem   box_loss   cls_loss   dfl_loss  Instances       Size\n"
          ]
        },
        {
          "output_type": "stream",
          "name": "stderr",
          "text": [
            "     34/100      6.88G      1.195      1.679      1.433        102        640: 100%|██████████| 4/4 [00:02<00:00,  1.94it/s]\n",
            "                 Class     Images  Instances      Box(P          R      mAP50  mAP50-95): 100%|██████████| 1/1 [00:00<00:00,  1.40it/s]"
          ]
        },
        {
          "output_type": "stream",
          "name": "stdout",
          "text": [
            "                   all         56         63      0.369     0.0128     0.0122    0.00458\n"
          ]
        },
        {
          "output_type": "stream",
          "name": "stderr",
          "text": [
            "\n"
          ]
        },
        {
          "output_type": "stream",
          "name": "stdout",
          "text": [
            "\n",
            "      Epoch    GPU_mem   box_loss   cls_loss   dfl_loss  Instances       Size\n"
          ]
        },
        {
          "output_type": "stream",
          "name": "stderr",
          "text": [
            "     35/100      6.85G      1.144      1.664      1.424         94        640: 100%|██████████| 4/4 [00:02<00:00,  1.88it/s]\n",
            "                 Class     Images  Instances      Box(P          R      mAP50  mAP50-95): 100%|██████████| 1/1 [00:00<00:00,  1.71it/s]"
          ]
        },
        {
          "output_type": "stream",
          "name": "stdout",
          "text": [
            "                   all         56         63    0.00135      0.462    0.00388    0.00164\n"
          ]
        },
        {
          "output_type": "stream",
          "name": "stderr",
          "text": [
            "\n"
          ]
        },
        {
          "output_type": "stream",
          "name": "stdout",
          "text": [
            "\n",
            "      Epoch    GPU_mem   box_loss   cls_loss   dfl_loss  Instances       Size\n"
          ]
        },
        {
          "output_type": "stream",
          "name": "stderr",
          "text": [
            "     36/100      6.88G      1.147      1.614      1.431         94        640: 100%|██████████| 4/4 [00:02<00:00,  1.71it/s]\n",
            "                 Class     Images  Instances      Box(P          R      mAP50  mAP50-95): 100%|██████████| 1/1 [00:00<00:00,  1.10it/s]"
          ]
        },
        {
          "output_type": "stream",
          "name": "stdout",
          "text": [
            "                   all         56         63      0.363    0.00641    0.00822    0.00375\n"
          ]
        },
        {
          "output_type": "stream",
          "name": "stderr",
          "text": [
            "\n"
          ]
        },
        {
          "output_type": "stream",
          "name": "stdout",
          "text": [
            "\n",
            "      Epoch    GPU_mem   box_loss   cls_loss   dfl_loss  Instances       Size\n"
          ]
        },
        {
          "output_type": "stream",
          "name": "stderr",
          "text": [
            "     37/100      6.81G      1.093       1.59      1.395         89        640: 100%|██████████| 4/4 [00:02<00:00,  1.71it/s]\n",
            "                 Class     Images  Instances      Box(P          R      mAP50  mAP50-95): 100%|██████████| 1/1 [00:00<00:00,  1.39it/s]"
          ]
        },
        {
          "output_type": "stream",
          "name": "stdout",
          "text": [
            "                   all         56         63      0.552     0.0206     0.0389     0.0134\n"
          ]
        },
        {
          "output_type": "stream",
          "name": "stderr",
          "text": [
            "\n"
          ]
        },
        {
          "output_type": "stream",
          "name": "stdout",
          "text": [
            "\n",
            "      Epoch    GPU_mem   box_loss   cls_loss   dfl_loss  Instances       Size\n"
          ]
        },
        {
          "output_type": "stream",
          "name": "stderr",
          "text": [
            "     38/100      6.85G      1.081      1.576      1.376        112        640: 100%|██████████| 4/4 [00:02<00:00,  1.86it/s]\n",
            "                 Class     Images  Instances      Box(P          R      mAP50  mAP50-95): 100%|██████████| 1/1 [00:00<00:00,  1.45it/s]"
          ]
        },
        {
          "output_type": "stream",
          "name": "stdout",
          "text": [
            "                   all         56         63      0.587     0.0434     0.0555     0.0241\n"
          ]
        },
        {
          "output_type": "stream",
          "name": "stderr",
          "text": [
            "\n"
          ]
        },
        {
          "output_type": "stream",
          "name": "stdout",
          "text": [
            "\n",
            "      Epoch    GPU_mem   box_loss   cls_loss   dfl_loss  Instances       Size\n"
          ]
        },
        {
          "output_type": "stream",
          "name": "stderr",
          "text": [
            "     39/100      6.87G      1.127      1.512      1.392         85        640: 100%|██████████| 4/4 [00:02<00:00,  1.90it/s]\n",
            "                 Class     Images  Instances      Box(P          R      mAP50  mAP50-95): 100%|██████████| 1/1 [00:00<00:00,  1.42it/s]"
          ]
        },
        {
          "output_type": "stream",
          "name": "stdout",
          "text": [
            "                   all         56         63      0.534     0.0128     0.0579     0.0233\n"
          ]
        },
        {
          "output_type": "stream",
          "name": "stderr",
          "text": [
            "\n"
          ]
        },
        {
          "output_type": "stream",
          "name": "stdout",
          "text": [
            "\n",
            "      Epoch    GPU_mem   box_loss   cls_loss   dfl_loss  Instances       Size\n"
          ]
        },
        {
          "output_type": "stream",
          "name": "stderr",
          "text": [
            "     40/100      6.83G      1.096      1.506      1.364         88        640: 100%|██████████| 4/4 [00:02<00:00,  1.66it/s]\n",
            "                 Class     Images  Instances      Box(P          R      mAP50  mAP50-95): 100%|██████████| 1/1 [00:01<00:00,  1.03s/it]"
          ]
        },
        {
          "output_type": "stream",
          "name": "stdout",
          "text": [
            "                   all         56         63      0.142     0.0819      0.099     0.0423\n"
          ]
        },
        {
          "output_type": "stream",
          "name": "stderr",
          "text": [
            "\n"
          ]
        },
        {
          "output_type": "stream",
          "name": "stdout",
          "text": [
            "\n",
            "      Epoch    GPU_mem   box_loss   cls_loss   dfl_loss  Instances       Size\n"
          ]
        },
        {
          "output_type": "stream",
          "name": "stderr",
          "text": [
            "     41/100      6.87G      1.082      1.424      1.367         83        640: 100%|██████████| 4/4 [00:02<00:00,  1.77it/s]\n",
            "                 Class     Images  Instances      Box(P          R      mAP50  mAP50-95): 100%|██████████| 1/1 [00:00<00:00,  1.45it/s]"
          ]
        },
        {
          "output_type": "stream",
          "name": "stdout",
          "text": [
            "                   all         56         63      0.456      0.165     0.0952     0.0435\n"
          ]
        },
        {
          "output_type": "stream",
          "name": "stderr",
          "text": [
            "\n"
          ]
        },
        {
          "output_type": "stream",
          "name": "stdout",
          "text": [
            "\n",
            "      Epoch    GPU_mem   box_loss   cls_loss   dfl_loss  Instances       Size\n"
          ]
        },
        {
          "output_type": "stream",
          "name": "stderr",
          "text": [
            "     42/100      6.87G      1.083      1.379       1.34        106        640: 100%|██████████| 4/4 [00:02<00:00,  1.98it/s]\n",
            "                 Class     Images  Instances      Box(P          R      mAP50  mAP50-95): 100%|██████████| 1/1 [00:00<00:00,  1.40it/s]"
          ]
        },
        {
          "output_type": "stream",
          "name": "stdout",
          "text": [
            "                   all         56         63       0.15      0.174     0.0999     0.0407\n"
          ]
        },
        {
          "output_type": "stream",
          "name": "stderr",
          "text": [
            "\n"
          ]
        },
        {
          "output_type": "stream",
          "name": "stdout",
          "text": [
            "\n",
            "      Epoch    GPU_mem   box_loss   cls_loss   dfl_loss  Instances       Size\n"
          ]
        },
        {
          "output_type": "stream",
          "name": "stderr",
          "text": [
            "     43/100      6.81G      1.066      1.393      1.355        100        640: 100%|██████████| 4/4 [00:02<00:00,  1.91it/s]\n",
            "                 Class     Images  Instances      Box(P          R      mAP50  mAP50-95): 100%|██████████| 1/1 [00:00<00:00,  1.37it/s]"
          ]
        },
        {
          "output_type": "stream",
          "name": "stdout",
          "text": [
            "                   all         56         63      0.457      0.177     0.0736     0.0207\n"
          ]
        },
        {
          "output_type": "stream",
          "name": "stderr",
          "text": [
            "\n"
          ]
        },
        {
          "output_type": "stream",
          "name": "stdout",
          "text": [
            "\n",
            "      Epoch    GPU_mem   box_loss   cls_loss   dfl_loss  Instances       Size\n"
          ]
        },
        {
          "output_type": "stream",
          "name": "stderr",
          "text": [
            "     44/100      6.82G      1.009      1.368      1.338         83        640: 100%|██████████| 4/4 [00:02<00:00,  1.68it/s]\n",
            "                 Class     Images  Instances      Box(P          R      mAP50  mAP50-95): 100%|██████████| 1/1 [00:01<00:00,  1.14s/it]"
          ]
        },
        {
          "output_type": "stream",
          "name": "stdout",
          "text": [
            "                   all         56         63      0.464      0.188       0.11     0.0437\n"
          ]
        },
        {
          "output_type": "stream",
          "name": "stderr",
          "text": [
            "\n"
          ]
        },
        {
          "output_type": "stream",
          "name": "stdout",
          "text": [
            "\n",
            "      Epoch    GPU_mem   box_loss   cls_loss   dfl_loss  Instances       Size\n"
          ]
        },
        {
          "output_type": "stream",
          "name": "stderr",
          "text": [
            "     45/100      6.84G      1.136      1.393      1.361        105        640: 100%|██████████| 4/4 [00:02<00:00,  1.88it/s]\n",
            "                 Class     Images  Instances      Box(P          R      mAP50  mAP50-95): 100%|██████████| 1/1 [00:00<00:00,  1.37it/s]"
          ]
        },
        {
          "output_type": "stream",
          "name": "stdout",
          "text": [
            "                   all         56         63      0.646       0.12      0.157     0.0681\n"
          ]
        },
        {
          "output_type": "stream",
          "name": "stderr",
          "text": [
            "\n"
          ]
        },
        {
          "output_type": "stream",
          "name": "stdout",
          "text": [
            "\n",
            "      Epoch    GPU_mem   box_loss   cls_loss   dfl_loss  Instances       Size\n"
          ]
        },
        {
          "output_type": "stream",
          "name": "stderr",
          "text": [
            "     46/100      6.85G          1      1.276      1.278         97        640: 100%|██████████| 4/4 [00:02<00:00,  1.92it/s]\n",
            "                 Class     Images  Instances      Box(P          R      mAP50  mAP50-95): 100%|██████████| 1/1 [00:00<00:00,  1.43it/s]"
          ]
        },
        {
          "output_type": "stream",
          "name": "stdout",
          "text": [
            "                   all         56         63      0.803      0.128      0.121     0.0473\n"
          ]
        },
        {
          "output_type": "stream",
          "name": "stderr",
          "text": [
            "\n"
          ]
        },
        {
          "output_type": "stream",
          "name": "stdout",
          "text": [
            "\n",
            "      Epoch    GPU_mem   box_loss   cls_loss   dfl_loss  Instances       Size\n"
          ]
        },
        {
          "output_type": "stream",
          "name": "stderr",
          "text": [
            "     47/100      6.82G      1.025      1.278      1.313         79        640: 100%|██████████| 4/4 [00:02<00:00,  1.93it/s]\n",
            "                 Class     Images  Instances      Box(P          R      mAP50  mAP50-95): 100%|██████████| 1/1 [00:00<00:00,  1.21it/s]"
          ]
        },
        {
          "output_type": "stream",
          "name": "stdout",
          "text": [
            "                   all         56         63      0.451      0.146     0.0808     0.0391\n"
          ]
        },
        {
          "output_type": "stream",
          "name": "stderr",
          "text": [
            "\n"
          ]
        },
        {
          "output_type": "stream",
          "name": "stdout",
          "text": [
            "\n",
            "      Epoch    GPU_mem   box_loss   cls_loss   dfl_loss  Instances       Size\n"
          ]
        },
        {
          "output_type": "stream",
          "name": "stderr",
          "text": [
            "     48/100      6.88G      1.051      1.297      1.339        101        640: 100%|██████████| 4/4 [00:02<00:00,  1.62it/s]\n",
            "                 Class     Images  Instances      Box(P          R      mAP50  mAP50-95): 100%|██████████| 1/1 [00:01<00:00,  1.06s/it]"
          ]
        },
        {
          "output_type": "stream",
          "name": "stdout",
          "text": [
            "                   all         56         63      0.436      0.195      0.103     0.0512\n"
          ]
        },
        {
          "output_type": "stream",
          "name": "stderr",
          "text": [
            "\n"
          ]
        },
        {
          "output_type": "stream",
          "name": "stdout",
          "text": [
            "\n",
            "      Epoch    GPU_mem   box_loss   cls_loss   dfl_loss  Instances       Size\n"
          ]
        },
        {
          "output_type": "stream",
          "name": "stderr",
          "text": [
            "     49/100      6.88G     0.9899      1.213      1.288        100        640: 100%|██████████| 4/4 [00:02<00:00,  1.88it/s]\n",
            "                 Class     Images  Instances      Box(P          R      mAP50  mAP50-95): 100%|██████████| 1/1 [00:00<00:00,  1.48it/s]"
          ]
        },
        {
          "output_type": "stream",
          "name": "stdout",
          "text": [
            "                   all         56         63      0.463      0.115      0.131     0.0636\n"
          ]
        },
        {
          "output_type": "stream",
          "name": "stderr",
          "text": [
            "\n"
          ]
        },
        {
          "output_type": "stream",
          "name": "stdout",
          "text": [
            "\n",
            "      Epoch    GPU_mem   box_loss   cls_loss   dfl_loss  Instances       Size\n"
          ]
        },
        {
          "output_type": "stream",
          "name": "stderr",
          "text": [
            "     50/100      6.88G     0.9926      1.243      1.314        114        640: 100%|██████████| 4/4 [00:02<00:00,  1.95it/s]\n",
            "                 Class     Images  Instances      Box(P          R      mAP50  mAP50-95): 100%|██████████| 1/1 [00:00<00:00,  1.61it/s]"
          ]
        },
        {
          "output_type": "stream",
          "name": "stdout",
          "text": [
            "                   all         56         63      0.416      0.103     0.0771     0.0346\n"
          ]
        },
        {
          "output_type": "stream",
          "name": "stderr",
          "text": [
            "\n"
          ]
        },
        {
          "output_type": "stream",
          "name": "stdout",
          "text": [
            "\n",
            "      Epoch    GPU_mem   box_loss   cls_loss   dfl_loss  Instances       Size\n"
          ]
        },
        {
          "output_type": "stream",
          "name": "stderr",
          "text": [
            "     51/100      6.88G      1.019      1.284      1.315         91        640: 100%|██████████| 4/4 [00:02<00:00,  1.83it/s]\n",
            "                 Class     Images  Instances      Box(P          R      mAP50  mAP50-95): 100%|██████████| 1/1 [00:01<00:00,  1.05s/it]"
          ]
        },
        {
          "output_type": "stream",
          "name": "stdout",
          "text": [
            "                   all         56         63      0.478      0.178      0.175     0.0767\n"
          ]
        },
        {
          "output_type": "stream",
          "name": "stderr",
          "text": [
            "\n"
          ]
        },
        {
          "output_type": "stream",
          "name": "stdout",
          "text": [
            "\n",
            "      Epoch    GPU_mem   box_loss   cls_loss   dfl_loss  Instances       Size\n"
          ]
        },
        {
          "output_type": "stream",
          "name": "stderr",
          "text": [
            "     52/100      6.86G     0.9814      1.235      1.262         97        640: 100%|██████████| 4/4 [00:02<00:00,  1.63it/s]\n",
            "                 Class     Images  Instances      Box(P          R      mAP50  mAP50-95): 100%|██████████| 1/1 [00:01<00:00,  1.07s/it]"
          ]
        },
        {
          "output_type": "stream",
          "name": "stdout",
          "text": [
            "                   all         56         63      0.516      0.151       0.13     0.0626\n"
          ]
        },
        {
          "output_type": "stream",
          "name": "stderr",
          "text": [
            "\n"
          ]
        },
        {
          "output_type": "stream",
          "name": "stdout",
          "text": [
            "\n",
            "      Epoch    GPU_mem   box_loss   cls_loss   dfl_loss  Instances       Size\n"
          ]
        },
        {
          "output_type": "stream",
          "name": "stderr",
          "text": [
            "     53/100      6.87G     0.9518      1.216      1.257         99        640: 100%|██████████| 4/4 [00:02<00:00,  1.90it/s]\n",
            "                 Class     Images  Instances      Box(P          R      mAP50  mAP50-95): 100%|██████████| 1/1 [00:00<00:00,  1.50it/s]"
          ]
        },
        {
          "output_type": "stream",
          "name": "stdout",
          "text": [
            "                   all         56         63      0.536      0.331      0.175     0.0852\n"
          ]
        },
        {
          "output_type": "stream",
          "name": "stderr",
          "text": [
            "\n"
          ]
        },
        {
          "output_type": "stream",
          "name": "stdout",
          "text": [
            "\n",
            "      Epoch    GPU_mem   box_loss   cls_loss   dfl_loss  Instances       Size\n"
          ]
        },
        {
          "output_type": "stream",
          "name": "stderr",
          "text": [
            "     54/100      6.85G     0.9186      1.163      1.269         96        640: 100%|██████████| 4/4 [00:02<00:00,  1.88it/s]\n",
            "                 Class     Images  Instances      Box(P          R      mAP50  mAP50-95): 100%|██████████| 1/1 [00:00<00:00,  1.74it/s]"
          ]
        },
        {
          "output_type": "stream",
          "name": "stdout",
          "text": [
            "                   all         56         63      0.224      0.316       0.19      0.091\n"
          ]
        },
        {
          "output_type": "stream",
          "name": "stderr",
          "text": [
            "\n"
          ]
        },
        {
          "output_type": "stream",
          "name": "stdout",
          "text": [
            "\n",
            "      Epoch    GPU_mem   box_loss   cls_loss   dfl_loss  Instances       Size\n"
          ]
        },
        {
          "output_type": "stream",
          "name": "stderr",
          "text": [
            "     55/100      6.86G     0.9403      1.148      1.265         94        640: 100%|██████████| 4/4 [00:02<00:00,  1.74it/s]\n",
            "                 Class     Images  Instances      Box(P          R      mAP50  mAP50-95): 100%|██████████| 1/1 [00:00<00:00,  1.02it/s]"
          ]
        },
        {
          "output_type": "stream",
          "name": "stdout",
          "text": [
            "                   all         56         63        0.2      0.329      0.169     0.0897\n"
          ]
        },
        {
          "output_type": "stream",
          "name": "stderr",
          "text": [
            "\n"
          ]
        },
        {
          "output_type": "stream",
          "name": "stdout",
          "text": [
            "\n",
            "      Epoch    GPU_mem   box_loss   cls_loss   dfl_loss  Instances       Size\n"
          ]
        },
        {
          "output_type": "stream",
          "name": "stderr",
          "text": [
            "     56/100      6.88G     0.9248      1.096      1.277         95        640: 100%|██████████| 4/4 [00:02<00:00,  1.60it/s]\n",
            "                 Class     Images  Instances      Box(P          R      mAP50  mAP50-95): 100%|██████████| 1/1 [00:01<00:00,  1.04s/it]"
          ]
        },
        {
          "output_type": "stream",
          "name": "stdout",
          "text": [
            "                   all         56         63      0.568      0.325      0.161     0.0769\n"
          ]
        },
        {
          "output_type": "stream",
          "name": "stderr",
          "text": [
            "\n"
          ]
        },
        {
          "output_type": "stream",
          "name": "stdout",
          "text": [
            "\n",
            "      Epoch    GPU_mem   box_loss   cls_loss   dfl_loss  Instances       Size\n"
          ]
        },
        {
          "output_type": "stream",
          "name": "stderr",
          "text": [
            "     57/100      6.86G     0.9428      1.123      1.221        103        640: 100%|██████████| 4/4 [00:02<00:00,  1.98it/s]\n",
            "                 Class     Images  Instances      Box(P          R      mAP50  mAP50-95): 100%|██████████| 1/1 [00:00<00:00,  1.62it/s]"
          ]
        },
        {
          "output_type": "stream",
          "name": "stdout",
          "text": [
            "                   all         56         63      0.635      0.213      0.209     0.0975\n"
          ]
        },
        {
          "output_type": "stream",
          "name": "stderr",
          "text": [
            "\n"
          ]
        },
        {
          "output_type": "stream",
          "name": "stdout",
          "text": [
            "\n",
            "      Epoch    GPU_mem   box_loss   cls_loss   dfl_loss  Instances       Size\n"
          ]
        },
        {
          "output_type": "stream",
          "name": "stderr",
          "text": [
            "     58/100      6.82G     0.8546       1.01      1.203         98        640: 100%|██████████| 4/4 [00:02<00:00,  1.95it/s]\n",
            "                 Class     Images  Instances      Box(P          R      mAP50  mAP50-95): 100%|██████████| 1/1 [00:00<00:00,  1.48it/s]"
          ]
        },
        {
          "output_type": "stream",
          "name": "stdout",
          "text": [
            "                   all         56         63      0.519      0.296      0.181     0.0884\n"
          ]
        },
        {
          "output_type": "stream",
          "name": "stderr",
          "text": [
            "\n"
          ]
        },
        {
          "output_type": "stream",
          "name": "stdout",
          "text": [
            "\n",
            "      Epoch    GPU_mem   box_loss   cls_loss   dfl_loss  Instances       Size\n"
          ]
        },
        {
          "output_type": "stream",
          "name": "stderr",
          "text": [
            "     59/100      6.88G     0.8922      1.041      1.234         93        640: 100%|██████████| 4/4 [00:02<00:00,  1.76it/s]\n",
            "                 Class     Images  Instances      Box(P          R      mAP50  mAP50-95): 100%|██████████| 1/1 [00:00<00:00,  1.29it/s]"
          ]
        },
        {
          "output_type": "stream",
          "name": "stdout",
          "text": [
            "                   all         56         63      0.725      0.178      0.231      0.124\n"
          ]
        },
        {
          "output_type": "stream",
          "name": "stderr",
          "text": [
            "\n"
          ]
        },
        {
          "output_type": "stream",
          "name": "stdout",
          "text": [
            "\n",
            "      Epoch    GPU_mem   box_loss   cls_loss   dfl_loss  Instances       Size\n"
          ]
        },
        {
          "output_type": "stream",
          "name": "stderr",
          "text": [
            "     60/100      6.88G     0.8934      1.049      1.252         83        640: 100%|██████████| 4/4 [00:02<00:00,  1.61it/s]\n",
            "                 Class     Images  Instances      Box(P          R      mAP50  mAP50-95): 100%|██████████| 1/1 [00:01<00:00,  1.01s/it]"
          ]
        },
        {
          "output_type": "stream",
          "name": "stdout",
          "text": [
            "                   all         56         63      0.826      0.273      0.279      0.152\n"
          ]
        },
        {
          "output_type": "stream",
          "name": "stderr",
          "text": [
            "\n"
          ]
        },
        {
          "output_type": "stream",
          "name": "stdout",
          "text": [
            "\n",
            "      Epoch    GPU_mem   box_loss   cls_loss   dfl_loss  Instances       Size\n"
          ]
        },
        {
          "output_type": "stream",
          "name": "stderr",
          "text": [
            "     61/100      6.82G     0.8859     0.9978      1.199         86        640: 100%|██████████| 4/4 [00:02<00:00,  1.84it/s]\n",
            "                 Class     Images  Instances      Box(P          R      mAP50  mAP50-95): 100%|██████████| 1/1 [00:00<00:00,  1.54it/s]"
          ]
        },
        {
          "output_type": "stream",
          "name": "stdout",
          "text": [
            "                   all         56         63      0.818      0.249       0.27      0.132\n"
          ]
        },
        {
          "output_type": "stream",
          "name": "stderr",
          "text": [
            "\n"
          ]
        },
        {
          "output_type": "stream",
          "name": "stdout",
          "text": [
            "\n",
            "      Epoch    GPU_mem   box_loss   cls_loss   dfl_loss  Instances       Size\n"
          ]
        },
        {
          "output_type": "stream",
          "name": "stderr",
          "text": [
            "     62/100      6.88G     0.8346       1.01      1.198         92        640: 100%|██████████| 4/4 [00:02<00:00,  1.90it/s]\n",
            "                 Class     Images  Instances      Box(P          R      mAP50  mAP50-95): 100%|██████████| 1/1 [00:00<00:00,  1.56it/s]"
          ]
        },
        {
          "output_type": "stream",
          "name": "stdout",
          "text": [
            "                   all         56         63       0.34      0.279      0.237      0.104\n"
          ]
        },
        {
          "output_type": "stream",
          "name": "stderr",
          "text": [
            "\n"
          ]
        },
        {
          "output_type": "stream",
          "name": "stdout",
          "text": [
            "\n",
            "      Epoch    GPU_mem   box_loss   cls_loss   dfl_loss  Instances       Size\n"
          ]
        },
        {
          "output_type": "stream",
          "name": "stderr",
          "text": [
            "     63/100      6.85G     0.8614     0.9656      1.199         90        640: 100%|██████████| 4/4 [00:02<00:00,  1.72it/s]\n",
            "                 Class     Images  Instances      Box(P          R      mAP50  mAP50-95): 100%|██████████| 1/1 [00:00<00:00,  1.06it/s]"
          ]
        },
        {
          "output_type": "stream",
          "name": "stdout",
          "text": [
            "                   all         56         63      0.672      0.293      0.274      0.131\n"
          ]
        },
        {
          "output_type": "stream",
          "name": "stderr",
          "text": [
            "\n"
          ]
        },
        {
          "output_type": "stream",
          "name": "stdout",
          "text": [
            "\n",
            "      Epoch    GPU_mem   box_loss   cls_loss   dfl_loss  Instances       Size\n"
          ]
        },
        {
          "output_type": "stream",
          "name": "stderr",
          "text": [
            "     64/100      6.92G     0.8225     0.9447      1.171         96        640: 100%|██████████| 4/4 [00:02<00:00,  1.61it/s]\n",
            "                 Class     Images  Instances      Box(P          R      mAP50  mAP50-95): 100%|██████████| 1/1 [00:00<00:00,  1.09it/s]"
          ]
        },
        {
          "output_type": "stream",
          "name": "stdout",
          "text": [
            "                   all         56         63      0.303      0.284       0.27      0.127\n"
          ]
        },
        {
          "output_type": "stream",
          "name": "stderr",
          "text": [
            "\n"
          ]
        },
        {
          "output_type": "stream",
          "name": "stdout",
          "text": [
            "\n",
            "      Epoch    GPU_mem   box_loss   cls_loss   dfl_loss  Instances       Size\n"
          ]
        },
        {
          "output_type": "stream",
          "name": "stderr",
          "text": [
            "     65/100      6.81G     0.9208          1       1.23        103        640: 100%|██████████| 4/4 [00:02<00:00,  1.89it/s]\n",
            "                 Class     Images  Instances      Box(P          R      mAP50  mAP50-95): 100%|██████████| 1/1 [00:00<00:00,  1.64it/s]"
          ]
        },
        {
          "output_type": "stream",
          "name": "stdout",
          "text": [
            "                   all         56         63      0.315      0.256      0.253      0.127\n"
          ]
        },
        {
          "output_type": "stream",
          "name": "stderr",
          "text": [
            "\n"
          ]
        },
        {
          "output_type": "stream",
          "name": "stdout",
          "text": [
            "\n",
            "      Epoch    GPU_mem   box_loss   cls_loss   dfl_loss  Instances       Size\n"
          ]
        },
        {
          "output_type": "stream",
          "name": "stderr",
          "text": [
            "     66/100      6.86G     0.8523     0.9177      1.203         87        640: 100%|██████████| 4/4 [00:02<00:00,  1.98it/s]\n",
            "                 Class     Images  Instances      Box(P          R      mAP50  mAP50-95): 100%|██████████| 1/1 [00:00<00:00,  2.11it/s]"
          ]
        },
        {
          "output_type": "stream",
          "name": "stdout",
          "text": [
            "                   all         56         63      0.292      0.328      0.259      0.134\n"
          ]
        },
        {
          "output_type": "stream",
          "name": "stderr",
          "text": [
            "\n"
          ]
        },
        {
          "output_type": "stream",
          "name": "stdout",
          "text": [
            "\n",
            "      Epoch    GPU_mem   box_loss   cls_loss   dfl_loss  Instances       Size\n"
          ]
        },
        {
          "output_type": "stream",
          "name": "stderr",
          "text": [
            "     67/100      6.82G     0.7878     0.9223      1.166         90        640: 100%|██████████| 4/4 [00:02<00:00,  1.71it/s]\n",
            "                 Class     Images  Instances      Box(P          R      mAP50  mAP50-95): 100%|██████████| 1/1 [00:00<00:00,  1.03it/s]"
          ]
        },
        {
          "output_type": "stream",
          "name": "stdout",
          "text": [
            "                   all         56         63       0.68      0.289      0.264       0.12\n"
          ]
        },
        {
          "output_type": "stream",
          "name": "stderr",
          "text": [
            "\n"
          ]
        },
        {
          "output_type": "stream",
          "name": "stdout",
          "text": [
            "\n",
            "      Epoch    GPU_mem   box_loss   cls_loss   dfl_loss  Instances       Size\n"
          ]
        },
        {
          "output_type": "stream",
          "name": "stderr",
          "text": [
            "     68/100       6.9G     0.8169     0.9255      1.163         90        640: 100%|██████████| 4/4 [00:02<00:00,  1.57it/s]\n",
            "                 Class     Images  Instances      Box(P          R      mAP50  mAP50-95): 100%|██████████| 1/1 [00:00<00:00,  1.15it/s]"
          ]
        },
        {
          "output_type": "stream",
          "name": "stdout",
          "text": [
            "                   all         56         63      0.233      0.344      0.201     0.0987\n"
          ]
        },
        {
          "output_type": "stream",
          "name": "stderr",
          "text": [
            "\n"
          ]
        },
        {
          "output_type": "stream",
          "name": "stdout",
          "text": [
            "\n",
            "      Epoch    GPU_mem   box_loss   cls_loss   dfl_loss  Instances       Size\n"
          ]
        },
        {
          "output_type": "stream",
          "name": "stderr",
          "text": [
            "     69/100      6.82G     0.7983     0.8987       1.17         88        640: 100%|██████████| 4/4 [00:02<00:00,  1.90it/s]\n",
            "                 Class     Images  Instances      Box(P          R      mAP50  mAP50-95): 100%|██████████| 1/1 [00:00<00:00,  1.53it/s]"
          ]
        },
        {
          "output_type": "stream",
          "name": "stdout",
          "text": [
            "                   all         56         63      0.189      0.328       0.21      0.106\n"
          ]
        },
        {
          "output_type": "stream",
          "name": "stderr",
          "text": [
            "\n"
          ]
        },
        {
          "output_type": "stream",
          "name": "stdout",
          "text": [
            "\n",
            "      Epoch    GPU_mem   box_loss   cls_loss   dfl_loss  Instances       Size\n"
          ]
        },
        {
          "output_type": "stream",
          "name": "stderr",
          "text": [
            "     70/100      6.81G     0.8323     0.8925      1.191         97        640: 100%|██████████| 4/4 [00:02<00:00,  1.80it/s]\n",
            "                 Class     Images  Instances      Box(P          R      mAP50  mAP50-95): 100%|██████████| 1/1 [00:01<00:00,  1.02s/it]"
          ]
        },
        {
          "output_type": "stream",
          "name": "stdout",
          "text": [
            "                   all         56         63      0.299      0.266      0.303      0.181\n"
          ]
        },
        {
          "output_type": "stream",
          "name": "stderr",
          "text": [
            "\n"
          ]
        },
        {
          "output_type": "stream",
          "name": "stdout",
          "text": [
            "\n",
            "      Epoch    GPU_mem   box_loss   cls_loss   dfl_loss  Instances       Size\n"
          ]
        },
        {
          "output_type": "stream",
          "name": "stderr",
          "text": [
            "     71/100      6.85G     0.7771     0.8548      1.145        106        640: 100%|██████████| 4/4 [00:02<00:00,  1.60it/s]\n",
            "                 Class     Images  Instances      Box(P          R      mAP50  mAP50-95): 100%|██████████| 1/1 [00:01<00:00,  1.05s/it]"
          ]
        },
        {
          "output_type": "stream",
          "name": "stdout",
          "text": [
            "                   all         56         63      0.712      0.271       0.31      0.179\n"
          ]
        },
        {
          "output_type": "stream",
          "name": "stderr",
          "text": [
            "\n"
          ]
        },
        {
          "output_type": "stream",
          "name": "stdout",
          "text": [
            "\n",
            "      Epoch    GPU_mem   box_loss   cls_loss   dfl_loss  Instances       Size\n"
          ]
        },
        {
          "output_type": "stream",
          "name": "stderr",
          "text": [
            "     72/100      6.81G     0.7549     0.8148      1.146        107        640: 100%|██████████| 4/4 [00:02<00:00,  1.58it/s]\n",
            "                 Class     Images  Instances      Box(P          R      mAP50  mAP50-95): 100%|██████████| 1/1 [00:00<00:00,  1.29it/s]"
          ]
        },
        {
          "output_type": "stream",
          "name": "stdout",
          "text": [
            "                   all         56         63      0.613       0.39       0.32       0.18\n"
          ]
        },
        {
          "output_type": "stream",
          "name": "stderr",
          "text": [
            "\n"
          ]
        },
        {
          "output_type": "stream",
          "name": "stdout",
          "text": [
            "\n",
            "      Epoch    GPU_mem   box_loss   cls_loss   dfl_loss  Instances       Size\n"
          ]
        },
        {
          "output_type": "stream",
          "name": "stderr",
          "text": [
            "     73/100      6.85G     0.8046     0.8301       1.16         95        640: 100%|██████████| 4/4 [00:02<00:00,  1.96it/s]\n",
            "                 Class     Images  Instances      Box(P          R      mAP50  mAP50-95): 100%|██████████| 1/1 [00:00<00:00,  1.49it/s]"
          ]
        },
        {
          "output_type": "stream",
          "name": "stdout",
          "text": [
            "                   all         56         63       0.65      0.234      0.295       0.17\n"
          ]
        },
        {
          "output_type": "stream",
          "name": "stderr",
          "text": [
            "\n"
          ]
        },
        {
          "output_type": "stream",
          "name": "stdout",
          "text": [
            "\n",
            "      Epoch    GPU_mem   box_loss   cls_loss   dfl_loss  Instances       Size\n"
          ]
        },
        {
          "output_type": "stream",
          "name": "stderr",
          "text": [
            "     74/100      6.83G     0.7823     0.8947      1.176         65        640: 100%|██████████| 4/4 [00:02<00:00,  1.93it/s]\n",
            "                 Class     Images  Instances      Box(P          R      mAP50  mAP50-95): 100%|██████████| 1/1 [00:00<00:00,  1.45it/s]"
          ]
        },
        {
          "output_type": "stream",
          "name": "stdout",
          "text": [
            "                   all         56         63      0.272       0.33      0.254      0.148\n"
          ]
        },
        {
          "output_type": "stream",
          "name": "stderr",
          "text": [
            "\n"
          ]
        },
        {
          "output_type": "stream",
          "name": "stdout",
          "text": [
            "\n",
            "      Epoch    GPU_mem   box_loss   cls_loss   dfl_loss  Instances       Size\n"
          ]
        },
        {
          "output_type": "stream",
          "name": "stderr",
          "text": [
            "     75/100      6.85G     0.7605     0.8235       1.15         95        640: 100%|██████████| 4/4 [00:02<00:00,  1.72it/s]\n",
            "                 Class     Images  Instances      Box(P          R      mAP50  mAP50-95): 100%|██████████| 1/1 [00:00<00:00,  1.01it/s]"
          ]
        },
        {
          "output_type": "stream",
          "name": "stdout",
          "text": [
            "                   all         56         63      0.219      0.286      0.248      0.145\n"
          ]
        },
        {
          "output_type": "stream",
          "name": "stderr",
          "text": [
            "\n"
          ]
        },
        {
          "output_type": "stream",
          "name": "stdout",
          "text": [
            "\n",
            "      Epoch    GPU_mem   box_loss   cls_loss   dfl_loss  Instances       Size\n"
          ]
        },
        {
          "output_type": "stream",
          "name": "stderr",
          "text": [
            "     76/100      6.81G     0.7691      0.837       1.15        101        640: 100%|██████████| 4/4 [00:02<00:00,  1.62it/s]\n",
            "                 Class     Images  Instances      Box(P          R      mAP50  mAP50-95): 100%|██████████| 1/1 [00:00<00:00,  1.31it/s]"
          ]
        },
        {
          "output_type": "stream",
          "name": "stdout",
          "text": [
            "                   all         56         63      0.238      0.305      0.233      0.138\n"
          ]
        },
        {
          "output_type": "stream",
          "name": "stderr",
          "text": [
            "\n"
          ]
        },
        {
          "output_type": "stream",
          "name": "stdout",
          "text": [
            "\n",
            "      Epoch    GPU_mem   box_loss   cls_loss   dfl_loss  Instances       Size\n"
          ]
        },
        {
          "output_type": "stream",
          "name": "stderr",
          "text": [
            "     77/100      6.88G     0.7161     0.7502      1.108         98        640: 100%|██████████| 4/4 [00:02<00:00,  1.95it/s]\n",
            "                 Class     Images  Instances      Box(P          R      mAP50  mAP50-95): 100%|██████████| 1/1 [00:00<00:00,  1.68it/s]"
          ]
        },
        {
          "output_type": "stream",
          "name": "stdout",
          "text": [
            "                   all         56         63      0.196      0.236      0.202      0.106\n"
          ]
        },
        {
          "output_type": "stream",
          "name": "stderr",
          "text": [
            "\n"
          ]
        },
        {
          "output_type": "stream",
          "name": "stdout",
          "text": [
            "\n",
            "      Epoch    GPU_mem   box_loss   cls_loss   dfl_loss  Instances       Size\n"
          ]
        },
        {
          "output_type": "stream",
          "name": "stderr",
          "text": [
            "     78/100      6.86G     0.6936     0.7357      1.111         96        640: 100%|██████████| 4/4 [00:02<00:00,  1.93it/s]\n",
            "                 Class     Images  Instances      Box(P          R      mAP50  mAP50-95): 100%|██████████| 1/1 [00:00<00:00,  1.77it/s]"
          ]
        },
        {
          "output_type": "stream",
          "name": "stdout",
          "text": [
            "                   all         56         63      0.253      0.223      0.219      0.111\n"
          ]
        },
        {
          "output_type": "stream",
          "name": "stderr",
          "text": [
            "\n"
          ]
        },
        {
          "output_type": "stream",
          "name": "stdout",
          "text": [
            "\n",
            "      Epoch    GPU_mem   box_loss   cls_loss   dfl_loss  Instances       Size\n"
          ]
        },
        {
          "output_type": "stream",
          "name": "stderr",
          "text": [
            "     79/100      6.85G     0.7421     0.7421      1.133         98        640: 100%|██████████| 4/4 [00:02<00:00,  1.68it/s]\n",
            "                 Class     Images  Instances      Box(P          R      mAP50  mAP50-95): 100%|██████████| 1/1 [00:00<00:00,  1.14it/s]"
          ]
        },
        {
          "output_type": "stream",
          "name": "stdout",
          "text": [
            "                   all         56         63      0.234      0.355      0.247      0.142\n"
          ]
        },
        {
          "output_type": "stream",
          "name": "stderr",
          "text": [
            "\n"
          ]
        },
        {
          "output_type": "stream",
          "name": "stdout",
          "text": [
            "\n",
            "      Epoch    GPU_mem   box_loss   cls_loss   dfl_loss  Instances       Size\n"
          ]
        },
        {
          "output_type": "stream",
          "name": "stderr",
          "text": [
            "     80/100      6.88G     0.7418     0.7774      1.137         83        640: 100%|██████████| 4/4 [00:02<00:00,  1.56it/s]\n",
            "                 Class     Images  Instances      Box(P          R      mAP50  mAP50-95): 100%|██████████| 1/1 [00:00<00:00,  1.16it/s]"
          ]
        },
        {
          "output_type": "stream",
          "name": "stdout",
          "text": [
            "                   all         56         63      0.275      0.354      0.269      0.155\n"
          ]
        },
        {
          "output_type": "stream",
          "name": "stderr",
          "text": [
            "\n"
          ]
        },
        {
          "output_type": "stream",
          "name": "stdout",
          "text": [
            "\n",
            "      Epoch    GPU_mem   box_loss   cls_loss   dfl_loss  Instances       Size\n"
          ]
        },
        {
          "output_type": "stream",
          "name": "stderr",
          "text": [
            "     81/100      6.88G     0.7132      0.732      1.139         94        640: 100%|██████████| 4/4 [00:02<00:00,  1.84it/s]\n",
            "                 Class     Images  Instances      Box(P          R      mAP50  mAP50-95): 100%|██████████| 1/1 [00:00<00:00,  1.65it/s]"
          ]
        },
        {
          "output_type": "stream",
          "name": "stdout",
          "text": [
            "                   all         56         63      0.247      0.346      0.273       0.16\n"
          ]
        },
        {
          "output_type": "stream",
          "name": "stderr",
          "text": [
            "\n"
          ]
        },
        {
          "output_type": "stream",
          "name": "stdout",
          "text": [
            "\n",
            "      Epoch    GPU_mem   box_loss   cls_loss   dfl_loss  Instances       Size\n"
          ]
        },
        {
          "output_type": "stream",
          "name": "stderr",
          "text": [
            "     82/100      6.86G     0.6865     0.7262      1.093         93        640: 100%|██████████| 4/4 [00:02<00:00,  1.95it/s]\n",
            "                 Class     Images  Instances      Box(P          R      mAP50  mAP50-95): 100%|██████████| 1/1 [00:00<00:00,  1.55it/s]"
          ]
        },
        {
          "output_type": "stream",
          "name": "stdout",
          "text": [
            "                   all         56         63      0.612       0.26      0.265      0.161\n"
          ]
        },
        {
          "output_type": "stream",
          "name": "stderr",
          "text": [
            "\n"
          ]
        },
        {
          "output_type": "stream",
          "name": "stdout",
          "text": [
            "\n",
            "      Epoch    GPU_mem   box_loss   cls_loss   dfl_loss  Instances       Size\n"
          ]
        },
        {
          "output_type": "stream",
          "name": "stderr",
          "text": [
            "     83/100      6.82G     0.6778     0.7394       1.09        104        640: 100%|██████████| 4/4 [00:02<00:00,  1.68it/s]\n",
            "                 Class     Images  Instances      Box(P          R      mAP50  mAP50-95): 100%|██████████| 1/1 [00:00<00:00,  1.04it/s]"
          ]
        },
        {
          "output_type": "stream",
          "name": "stdout",
          "text": [
            "                   all         56         63      0.241       0.34      0.255      0.148\n"
          ]
        },
        {
          "output_type": "stream",
          "name": "stderr",
          "text": [
            "\n"
          ]
        },
        {
          "output_type": "stream",
          "name": "stdout",
          "text": [
            "\n",
            "      Epoch    GPU_mem   box_loss   cls_loss   dfl_loss  Instances       Size\n"
          ]
        },
        {
          "output_type": "stream",
          "name": "stderr",
          "text": [
            "     84/100      6.84G     0.6865     0.6894      1.117         94        640: 100%|██████████| 4/4 [00:02<00:00,  1.65it/s]\n",
            "                 Class     Images  Instances      Box(P          R      mAP50  mAP50-95): 100%|██████████| 1/1 [00:00<00:00,  1.73it/s]"
          ]
        },
        {
          "output_type": "stream",
          "name": "stdout",
          "text": [
            "                   all         56         63      0.322      0.297       0.27      0.151\n"
          ]
        },
        {
          "output_type": "stream",
          "name": "stderr",
          "text": [
            "\n"
          ]
        },
        {
          "output_type": "stream",
          "name": "stdout",
          "text": [
            "\n",
            "      Epoch    GPU_mem   box_loss   cls_loss   dfl_loss  Instances       Size\n"
          ]
        },
        {
          "output_type": "stream",
          "name": "stderr",
          "text": [
            "     85/100      6.83G     0.6837     0.6863      1.119         98        640: 100%|██████████| 4/4 [00:02<00:00,  1.97it/s]\n",
            "                 Class     Images  Instances      Box(P          R      mAP50  mAP50-95): 100%|██████████| 1/1 [00:00<00:00,  1.52it/s]"
          ]
        },
        {
          "output_type": "stream",
          "name": "stdout",
          "text": [
            "                   all         56         63      0.273      0.334      0.274      0.157\n"
          ]
        },
        {
          "output_type": "stream",
          "name": "stderr",
          "text": [
            "\n"
          ]
        },
        {
          "output_type": "stream",
          "name": "stdout",
          "text": [
            "\n",
            "      Epoch    GPU_mem   box_loss   cls_loss   dfl_loss  Instances       Size\n"
          ]
        },
        {
          "output_type": "stream",
          "name": "stderr",
          "text": [
            "     86/100      6.86G     0.6472      0.693      1.081         93        640: 100%|██████████| 4/4 [00:02<00:00,  1.93it/s]\n",
            "                 Class     Images  Instances      Box(P          R      mAP50  mAP50-95): 100%|██████████| 1/1 [00:00<00:00,  1.66it/s]"
          ]
        },
        {
          "output_type": "stream",
          "name": "stdout",
          "text": [
            "                   all         56         63      0.653      0.236      0.272      0.155\n"
          ]
        },
        {
          "output_type": "stream",
          "name": "stderr",
          "text": [
            "\n"
          ]
        },
        {
          "output_type": "stream",
          "name": "stdout",
          "text": [
            "\n",
            "      Epoch    GPU_mem   box_loss   cls_loss   dfl_loss  Instances       Size\n"
          ]
        },
        {
          "output_type": "stream",
          "name": "stderr",
          "text": [
            "     87/100      6.82G     0.6758      0.709      1.101         87        640: 100%|██████████| 4/4 [00:02<00:00,  1.70it/s]\n",
            "                 Class     Images  Instances      Box(P          R      mAP50  mAP50-95): 100%|██████████| 1/1 [00:00<00:00,  1.11it/s]"
          ]
        },
        {
          "output_type": "stream",
          "name": "stdout",
          "text": [
            "                   all         56         63      0.624      0.247      0.259      0.143\n"
          ]
        },
        {
          "output_type": "stream",
          "name": "stderr",
          "text": [
            "\n"
          ]
        },
        {
          "output_type": "stream",
          "name": "stdout",
          "text": [
            "\n",
            "      Epoch    GPU_mem   box_loss   cls_loss   dfl_loss  Instances       Size\n"
          ]
        },
        {
          "output_type": "stream",
          "name": "stderr",
          "text": [
            "     88/100      6.84G     0.6705     0.6686      1.071         89        640: 100%|██████████| 4/4 [00:02<00:00,  1.61it/s]\n",
            "                 Class     Images  Instances      Box(P          R      mAP50  mAP50-95): 100%|██████████| 1/1 [00:00<00:00,  1.68it/s]"
          ]
        },
        {
          "output_type": "stream",
          "name": "stdout",
          "text": [
            "                   all         56         63      0.226      0.299       0.26      0.152\n"
          ]
        },
        {
          "output_type": "stream",
          "name": "stderr",
          "text": [
            "\n"
          ]
        },
        {
          "output_type": "stream",
          "name": "stdout",
          "text": [
            "\n",
            "      Epoch    GPU_mem   box_loss   cls_loss   dfl_loss  Instances       Size\n"
          ]
        },
        {
          "output_type": "stream",
          "name": "stderr",
          "text": [
            "     89/100      6.85G     0.6556      0.668      1.112        101        640: 100%|██████████| 4/4 [00:02<00:00,  1.92it/s]\n",
            "                 Class     Images  Instances      Box(P          R      mAP50  mAP50-95): 100%|██████████| 1/1 [00:00<00:00,  1.49it/s]"
          ]
        },
        {
          "output_type": "stream",
          "name": "stdout",
          "text": [
            "                   all         56         63      0.617      0.258      0.286      0.175\n"
          ]
        },
        {
          "output_type": "stream",
          "name": "stderr",
          "text": [
            "\n"
          ]
        },
        {
          "output_type": "stream",
          "name": "stdout",
          "text": [
            "\n",
            "      Epoch    GPU_mem   box_loss   cls_loss   dfl_loss  Instances       Size\n"
          ]
        },
        {
          "output_type": "stream",
          "name": "stderr",
          "text": [
            "     90/100      6.82G      0.647     0.6839      1.086         94        640: 100%|██████████| 4/4 [00:02<00:00,  1.90it/s]\n",
            "                 Class     Images  Instances      Box(P          R      mAP50  mAP50-95): 100%|██████████| 1/1 [00:00<00:00,  1.62it/s]"
          ]
        },
        {
          "output_type": "stream",
          "name": "stdout",
          "text": [
            "                   all         56         63      0.689      0.292      0.316      0.192\n"
          ]
        },
        {
          "output_type": "stream",
          "name": "stderr",
          "text": [
            "\n"
          ]
        },
        {
          "output_type": "stream",
          "name": "stdout",
          "text": [
            "Closing dataloader mosaic\n",
            "\u001b[34m\u001b[1malbumentations: \u001b[0mBlur(p=0.01, blur_limit=(3, 7)), MedianBlur(p=0.01, blur_limit=(3, 7)), ToGray(p=0.01, num_output_channels=3, method='weighted_average'), CLAHE(p=0.01, clip_limit=(1, 4.0), tile_grid_size=(8, 8))\n",
            "\n",
            "      Epoch    GPU_mem   box_loss   cls_loss   dfl_loss  Instances       Size\n"
          ]
        },
        {
          "output_type": "stream",
          "name": "stderr",
          "text": [
            "     91/100      6.88G     0.5218     0.6451      1.007         52        640: 100%|██████████| 4/4 [00:07<00:00,  1.81s/it]\n",
            "                 Class     Images  Instances      Box(P          R      mAP50  mAP50-95): 100%|██████████| 1/1 [00:01<00:00,  1.23s/it]"
          ]
        },
        {
          "output_type": "stream",
          "name": "stdout",
          "text": [
            "                   all         56         63      0.757      0.303       0.32       0.19\n"
          ]
        },
        {
          "output_type": "stream",
          "name": "stderr",
          "text": [
            "\n"
          ]
        },
        {
          "output_type": "stream",
          "name": "stdout",
          "text": [
            "\n",
            "      Epoch    GPU_mem   box_loss   cls_loss   dfl_loss  Instances       Size\n"
          ]
        },
        {
          "output_type": "stream",
          "name": "stderr",
          "text": [
            "     92/100      6.88G     0.4834     0.5557     0.9623         53        640: 100%|██████████| 4/4 [00:01<00:00,  2.01it/s]\n",
            "                 Class     Images  Instances      Box(P          R      mAP50  mAP50-95): 100%|██████████| 1/1 [00:00<00:00,  1.49it/s]"
          ]
        },
        {
          "output_type": "stream",
          "name": "stdout",
          "text": [
            "                   all         56         63      0.774      0.245      0.303      0.176\n"
          ]
        },
        {
          "output_type": "stream",
          "name": "stderr",
          "text": [
            "\n"
          ]
        },
        {
          "output_type": "stream",
          "name": "stdout",
          "text": [
            "\n",
            "      Epoch    GPU_mem   box_loss   cls_loss   dfl_loss  Instances       Size\n"
          ]
        },
        {
          "output_type": "stream",
          "name": "stderr",
          "text": [
            "     93/100      6.88G     0.5178     0.5371      1.003         54        640: 100%|██████████| 4/4 [00:02<00:00,  1.94it/s]\n",
            "                 Class     Images  Instances      Box(P          R      mAP50  mAP50-95): 100%|██████████| 1/1 [00:00<00:00,  1.76it/s]"
          ]
        },
        {
          "output_type": "stream",
          "name": "stdout",
          "text": [
            "                   all         56         63      0.617      0.353      0.296      0.178\n"
          ]
        },
        {
          "output_type": "stream",
          "name": "stderr",
          "text": [
            "\n"
          ]
        },
        {
          "output_type": "stream",
          "name": "stdout",
          "text": [
            "\n",
            "      Epoch    GPU_mem   box_loss   cls_loss   dfl_loss  Instances       Size\n"
          ]
        },
        {
          "output_type": "stream",
          "name": "stderr",
          "text": [
            "     94/100      6.82G     0.4738     0.5242     0.9632         46        640: 100%|██████████| 4/4 [00:02<00:00,  1.71it/s]\n",
            "                 Class     Images  Instances      Box(P          R      mAP50  mAP50-95): 100%|██████████| 1/1 [00:01<00:00,  1.02s/it]"
          ]
        },
        {
          "output_type": "stream",
          "name": "stdout",
          "text": [
            "                   all         56         63      0.616      0.367      0.298      0.185\n"
          ]
        },
        {
          "output_type": "stream",
          "name": "stderr",
          "text": [
            "\n"
          ]
        },
        {
          "output_type": "stream",
          "name": "stdout",
          "text": [
            "\n",
            "      Epoch    GPU_mem   box_loss   cls_loss   dfl_loss  Instances       Size\n"
          ]
        },
        {
          "output_type": "stream",
          "name": "stderr",
          "text": [
            "     95/100      6.82G     0.4736     0.5134     0.9496         44        640: 100%|██████████| 4/4 [00:02<00:00,  1.71it/s]\n",
            "                 Class     Images  Instances      Box(P          R      mAP50  mAP50-95): 100%|██████████| 1/1 [00:00<00:00,  1.57it/s]"
          ]
        },
        {
          "output_type": "stream",
          "name": "stdout",
          "text": [
            "                   all         56         63      0.683      0.303      0.305      0.191\n"
          ]
        },
        {
          "output_type": "stream",
          "name": "stderr",
          "text": [
            "\n"
          ]
        },
        {
          "output_type": "stream",
          "name": "stdout",
          "text": [
            "\n",
            "      Epoch    GPU_mem   box_loss   cls_loss   dfl_loss  Instances       Size\n"
          ]
        },
        {
          "output_type": "stream",
          "name": "stderr",
          "text": [
            "     96/100      6.88G     0.4758     0.5091     0.9644         48        640: 100%|██████████| 4/4 [00:02<00:00,  1.88it/s]\n",
            "                 Class     Images  Instances      Box(P          R      mAP50  mAP50-95): 100%|██████████| 1/1 [00:00<00:00,  1.54it/s]"
          ]
        },
        {
          "output_type": "stream",
          "name": "stdout",
          "text": [
            "                   all         56         63      0.617      0.416      0.306      0.183\n"
          ]
        },
        {
          "output_type": "stream",
          "name": "stderr",
          "text": [
            "\n"
          ]
        },
        {
          "output_type": "stream",
          "name": "stdout",
          "text": [
            "\n",
            "      Epoch    GPU_mem   box_loss   cls_loss   dfl_loss  Instances       Size\n"
          ]
        },
        {
          "output_type": "stream",
          "name": "stderr",
          "text": [
            "     97/100      6.88G     0.4419     0.4787     0.9612         46        640: 100%|██████████| 4/4 [00:02<00:00,  2.00it/s]\n",
            "                 Class     Images  Instances      Box(P          R      mAP50  mAP50-95): 100%|██████████| 1/1 [00:00<00:00,  1.47it/s]"
          ]
        },
        {
          "output_type": "stream",
          "name": "stdout",
          "text": [
            "                   all         56         63      0.626      0.422      0.306      0.182\n"
          ]
        },
        {
          "output_type": "stream",
          "name": "stderr",
          "text": [
            "\n"
          ]
        },
        {
          "output_type": "stream",
          "name": "stdout",
          "text": [
            "\n",
            "      Epoch    GPU_mem   box_loss   cls_loss   dfl_loss  Instances       Size\n"
          ]
        },
        {
          "output_type": "stream",
          "name": "stderr",
          "text": [
            "     98/100      6.88G     0.4519     0.4775     0.9601         44        640: 100%|██████████| 4/4 [00:02<00:00,  1.70it/s]\n",
            "                 Class     Images  Instances      Box(P          R      mAP50  mAP50-95): 100%|██████████| 1/1 [00:00<00:00,  1.04it/s]"
          ]
        },
        {
          "output_type": "stream",
          "name": "stdout",
          "text": [
            "                   all         56         63      0.664      0.391      0.314      0.189\n"
          ]
        },
        {
          "output_type": "stream",
          "name": "stderr",
          "text": [
            "\n"
          ]
        },
        {
          "output_type": "stream",
          "name": "stdout",
          "text": [
            "\n",
            "      Epoch    GPU_mem   box_loss   cls_loss   dfl_loss  Instances       Size\n"
          ]
        },
        {
          "output_type": "stream",
          "name": "stderr",
          "text": [
            "     99/100      6.88G     0.4295     0.4584     0.9385         52        640: 100%|██████████| 4/4 [00:02<00:00,  1.55it/s]\n",
            "                 Class     Images  Instances      Box(P          R      mAP50  mAP50-95): 100%|██████████| 1/1 [00:00<00:00,  1.45it/s]"
          ]
        },
        {
          "output_type": "stream",
          "name": "stdout",
          "text": [
            "                   all         56         63      0.663      0.366       0.31       0.19\n"
          ]
        },
        {
          "output_type": "stream",
          "name": "stderr",
          "text": [
            "\n"
          ]
        },
        {
          "output_type": "stream",
          "name": "stdout",
          "text": [
            "\n",
            "      Epoch    GPU_mem   box_loss   cls_loss   dfl_loss  Instances       Size\n"
          ]
        },
        {
          "output_type": "stream",
          "name": "stderr",
          "text": [
            "    100/100      6.88G     0.4266     0.4691     0.9441         51        640: 100%|██████████| 4/4 [00:02<00:00,  1.94it/s]\n",
            "                 Class     Images  Instances      Box(P          R      mAP50  mAP50-95): 100%|██████████| 1/1 [00:00<00:00,  1.57it/s]"
          ]
        },
        {
          "output_type": "stream",
          "name": "stdout",
          "text": [
            "                   all         56         63       0.66      0.366      0.311       0.19\n"
          ]
        },
        {
          "output_type": "stream",
          "name": "stderr",
          "text": [
            "\n"
          ]
        },
        {
          "output_type": "stream",
          "name": "stdout",
          "text": [
            "\n",
            "100 epochs completed in 0.135 hours.\n",
            "Optimizer stripped from runs/detect/train/weights/last.pt, 5.5MB\n",
            "Optimizer stripped from runs/detect/train/weights/best.pt, 5.5MB\n",
            "\n",
            "Validating runs/detect/train/weights/best.pt...\n",
            "Ultralytics 8.3.13 🚀 Python-3.10.12 torch-2.4.1+cu121 CUDA:0 (Tesla T4, 15102MiB)\n",
            "YOLO11n summary (fused): 238 layers, 2,582,737 parameters, 0 gradients, 6.3 GFLOPs\n"
          ]
        },
        {
          "output_type": "stream",
          "name": "stderr",
          "text": [
            "                 Class     Images  Instances      Box(P          R      mAP50  mAP50-95): 100%|██████████| 1/1 [00:00<00:00,  2.15it/s]\n"
          ]
        },
        {
          "output_type": "stream",
          "name": "stdout",
          "text": [
            "                   all         56         63      0.688      0.292      0.316      0.193\n",
            "                     0         50         52      0.748      0.615      0.665      0.385\n",
            "              accident          8          9      0.317      0.261      0.264      0.184\n",
            "          not_accident          2          2          1          0     0.0196    0.00981\n",
            "Speed: 0.2ms preprocess, 2.4ms inference, 0.0ms loss, 1.1ms postprocess per image\n",
            "Results saved to \u001b[1mruns/detect/train\u001b[0m\n"
          ]
        }
      ]
    },
    {
      "cell_type": "markdown",
      "source": [],
      "metadata": {
        "id": "D16ofwvn7EOJ"
      }
    },
    {
      "cell_type": "code",
      "source": [
        "import shutil\n",
        "from google.colab import files\n",
        "\n",
        "# Klasörü ziplemek\n",
        "shutil.make_archive('/content/runs', 'zip', '/content/runs')\n",
        "\n",
        "# Zipped dosyayı indirmek\n",
        "files.download('/content/runs.zip')\n"
      ],
      "metadata": {
        "colab": {
          "base_uri": "https://localhost:8080/",
          "height": 17
        },
        "id": "_cS-EO2UK5a-",
        "outputId": "09e44af2-7c46-4f9b-a2c8-ad8d5ebf4a49"
      },
      "execution_count": 9,
      "outputs": [
        {
          "output_type": "display_data",
          "data": {
            "text/plain": [
              "<IPython.core.display.Javascript object>"
            ],
            "application/javascript": [
              "\n",
              "    async function download(id, filename, size) {\n",
              "      if (!google.colab.kernel.accessAllowed) {\n",
              "        return;\n",
              "      }\n",
              "      const div = document.createElement('div');\n",
              "      const label = document.createElement('label');\n",
              "      label.textContent = `Downloading \"${filename}\": `;\n",
              "      div.appendChild(label);\n",
              "      const progress = document.createElement('progress');\n",
              "      progress.max = size;\n",
              "      div.appendChild(progress);\n",
              "      document.body.appendChild(div);\n",
              "\n",
              "      const buffers = [];\n",
              "      let downloaded = 0;\n",
              "\n",
              "      const channel = await google.colab.kernel.comms.open(id);\n",
              "      // Send a message to notify the kernel that we're ready.\n",
              "      channel.send({})\n",
              "\n",
              "      for await (const message of channel.messages) {\n",
              "        // Send a message to notify the kernel that we're ready.\n",
              "        channel.send({})\n",
              "        if (message.buffers) {\n",
              "          for (const buffer of message.buffers) {\n",
              "            buffers.push(buffer);\n",
              "            downloaded += buffer.byteLength;\n",
              "            progress.value = downloaded;\n",
              "          }\n",
              "        }\n",
              "      }\n",
              "      const blob = new Blob(buffers, {type: 'application/binary'});\n",
              "      const a = document.createElement('a');\n",
              "      a.href = window.URL.createObjectURL(blob);\n",
              "      a.download = filename;\n",
              "      div.appendChild(a);\n",
              "      a.click();\n",
              "      div.remove();\n",
              "    }\n",
              "  "
            ]
          },
          "metadata": {}
        },
        {
          "output_type": "display_data",
          "data": {
            "text/plain": [
              "<IPython.core.display.Javascript object>"
            ],
            "application/javascript": [
              "download(\"download_0e8919ad-9fee-48f9-b4e9-11f400e33075\", \"runs.zip\", 15161333)"
            ]
          },
          "metadata": {}
        }
      ]
    }
  ]
}